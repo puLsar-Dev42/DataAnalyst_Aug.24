{
 "cells": [
  {
   "cell_type": "markdown",
   "source": [
    "# Datenanalyse mit KI & Machine Learning\n",
    "## Cross Validation und Gridsearch\n"
   ],
   "metadata": {
    "collapsed": false
   }
  },
  {
   "cell_type": "code",
   "source": [
    "import pickle\n",
    "import matplotlib.pyplot as plt\n",
    "import numpy as np\n",
    "import pandas as pd\n",
    "import seaborn as sns\n",
    "from sklearn.model_selection import cross_val_score\n",
    "from sklearn.model_selection import train_test_split, GridSearchCV\n",
    "from sklearn.neighbors import KNeighborsClassifier"
   ],
   "metadata": {
    "collapsed": false,
    "ExecuteTime": {
     "end_time": "2025-05-09T05:43:10.691888Z",
     "start_time": "2025-05-09T05:43:10.157716Z"
    }
   },
   "outputs": [],
   "execution_count": 1
  },
  {
   "cell_type": "markdown",
   "source": "# Bestimmung des Geschlechts",
   "metadata": {
    "collapsed": false
   }
  },
  {
   "cell_type": "code",
   "source": [
    "penguins = sns.load_dataset('penguins')\n",
    "penguins.head()"
   ],
   "metadata": {
    "collapsed": false,
    "ExecuteTime": {
     "end_time": "2025-05-09T07:01:18.112600Z",
     "start_time": "2025-05-09T07:01:17.995969Z"
    }
   },
   "outputs": [
    {
     "data": {
      "text/plain": [
       "  species     island  bill_length_mm  bill_depth_mm  flipper_length_mm  \\\n",
       "0  Adelie  Torgersen            39.1           18.7              181.0   \n",
       "1  Adelie  Torgersen            39.5           17.4              186.0   \n",
       "2  Adelie  Torgersen            40.3           18.0              195.0   \n",
       "3  Adelie  Torgersen             NaN            NaN                NaN   \n",
       "4  Adelie  Torgersen            36.7           19.3              193.0   \n",
       "\n",
       "   body_mass_g     sex  \n",
       "0       3750.0    Male  \n",
       "1       3800.0  Female  \n",
       "2       3250.0  Female  \n",
       "3          NaN     NaN  \n",
       "4       3450.0  Female  "
      ],
      "text/html": [
       "<div>\n",
       "<style scoped>\n",
       "    .dataframe tbody tr th:only-of-type {\n",
       "        vertical-align: middle;\n",
       "    }\n",
       "\n",
       "    .dataframe tbody tr th {\n",
       "        vertical-align: top;\n",
       "    }\n",
       "\n",
       "    .dataframe thead th {\n",
       "        text-align: right;\n",
       "    }\n",
       "</style>\n",
       "<table border=\"1\" class=\"dataframe\">\n",
       "  <thead>\n",
       "    <tr style=\"text-align: right;\">\n",
       "      <th></th>\n",
       "      <th>species</th>\n",
       "      <th>island</th>\n",
       "      <th>bill_length_mm</th>\n",
       "      <th>bill_depth_mm</th>\n",
       "      <th>flipper_length_mm</th>\n",
       "      <th>body_mass_g</th>\n",
       "      <th>sex</th>\n",
       "    </tr>\n",
       "  </thead>\n",
       "  <tbody>\n",
       "    <tr>\n",
       "      <th>0</th>\n",
       "      <td>Adelie</td>\n",
       "      <td>Torgersen</td>\n",
       "      <td>39.1</td>\n",
       "      <td>18.7</td>\n",
       "      <td>181.0</td>\n",
       "      <td>3750.0</td>\n",
       "      <td>Male</td>\n",
       "    </tr>\n",
       "    <tr>\n",
       "      <th>1</th>\n",
       "      <td>Adelie</td>\n",
       "      <td>Torgersen</td>\n",
       "      <td>39.5</td>\n",
       "      <td>17.4</td>\n",
       "      <td>186.0</td>\n",
       "      <td>3800.0</td>\n",
       "      <td>Female</td>\n",
       "    </tr>\n",
       "    <tr>\n",
       "      <th>2</th>\n",
       "      <td>Adelie</td>\n",
       "      <td>Torgersen</td>\n",
       "      <td>40.3</td>\n",
       "      <td>18.0</td>\n",
       "      <td>195.0</td>\n",
       "      <td>3250.0</td>\n",
       "      <td>Female</td>\n",
       "    </tr>\n",
       "    <tr>\n",
       "      <th>3</th>\n",
       "      <td>Adelie</td>\n",
       "      <td>Torgersen</td>\n",
       "      <td>NaN</td>\n",
       "      <td>NaN</td>\n",
       "      <td>NaN</td>\n",
       "      <td>NaN</td>\n",
       "      <td>NaN</td>\n",
       "    </tr>\n",
       "    <tr>\n",
       "      <th>4</th>\n",
       "      <td>Adelie</td>\n",
       "      <td>Torgersen</td>\n",
       "      <td>36.7</td>\n",
       "      <td>19.3</td>\n",
       "      <td>193.0</td>\n",
       "      <td>3450.0</td>\n",
       "      <td>Female</td>\n",
       "    </tr>\n",
       "  </tbody>\n",
       "</table>\n",
       "</div>"
      ]
     },
     "execution_count": 2,
     "metadata": {},
     "output_type": "execute_result"
    }
   ],
   "execution_count": 2
  },
  {
   "cell_type": "code",
   "source": "penguins.isna().sum()",
   "metadata": {
    "collapsed": false,
    "ExecuteTime": {
     "end_time": "2025-05-09T07:02:04.137450Z",
     "start_time": "2025-05-09T07:02:04.130049Z"
    }
   },
   "outputs": [
    {
     "data": {
      "text/plain": [
       "species               0\n",
       "island                0\n",
       "bill_length_mm        2\n",
       "bill_depth_mm         2\n",
       "flipper_length_mm     2\n",
       "body_mass_g           2\n",
       "sex                  11\n",
       "dtype: int64"
      ]
     },
     "execution_count": 3,
     "metadata": {},
     "output_type": "execute_result"
    }
   ],
   "execution_count": 3
  },
  {
   "cell_type": "code",
   "source": "penguins.dropna(inplace=True)",
   "metadata": {
    "collapsed": false,
    "ExecuteTime": {
     "end_time": "2025-05-09T07:03:38.521346Z",
     "start_time": "2025-05-09T07:03:38.510093Z"
    }
   },
   "outputs": [],
   "execution_count": 4
  },
  {
   "cell_type": "code",
   "source": "penguins.isna().sum()",
   "metadata": {
    "collapsed": false,
    "ExecuteTime": {
     "end_time": "2025-05-09T07:03:42.399510Z",
     "start_time": "2025-05-09T07:03:42.392903Z"
    }
   },
   "outputs": [
    {
     "data": {
      "text/plain": [
       "species              0\n",
       "island               0\n",
       "bill_length_mm       0\n",
       "bill_depth_mm        0\n",
       "flipper_length_mm    0\n",
       "body_mass_g          0\n",
       "sex                  0\n",
       "dtype: int64"
      ]
     },
     "execution_count": 5,
     "metadata": {},
     "output_type": "execute_result"
    }
   ],
   "execution_count": 5
  },
  {
   "cell_type": "code",
   "source": [
    "X = penguins.select_dtypes('number')\n",
    "y = penguins['sex']"
   ],
   "metadata": {
    "collapsed": false,
    "ExecuteTime": {
     "end_time": "2025-05-09T07:04:32.754769Z",
     "start_time": "2025-05-09T07:04:32.747476Z"
    }
   },
   "outputs": [],
   "execution_count": 6
  },
  {
   "metadata": {
    "ExecuteTime": {
     "end_time": "2025-05-09T07:04:45.083050Z",
     "start_time": "2025-05-09T07:04:45.077469Z"
    }
   },
   "cell_type": "code",
   "source": [
    "# Der Datensatz ist relativ klein:\n",
    "penguins.shape"
   ],
   "outputs": [
    {
     "data": {
      "text/plain": [
       "(333, 7)"
      ]
     },
     "execution_count": 7,
     "metadata": {},
     "output_type": "execute_result"
    }
   ],
   "execution_count": 7
  },
  {
   "cell_type": "markdown",
   "source": [
    "#### Aufsplitten der Daten in drei Datensätze (Training, Validierung und Test) reduziert bei kleineren Datensätzen die Stärke unses Modells\n",
    "#### Wie verhindern wir das?"
   ],
   "metadata": {
    "collapsed": false
   }
  },
  {
   "metadata": {},
   "cell_type": "markdown",
   "source": "## Crossvalidation: Mit Folds keine Daten verlieren"
  },
  {
   "cell_type": "code",
   "source": [
    "# Aufsplitten in Trainings- und Testdatensatz (keine Validierungsdaten!)\n",
    "X_train, X_test, y_train, y_test = train_test_split(X,\n",
    "\t\t\t\t\t\t\t\t\t\t\t\t\ty,\n",
    "\t\t\t\t\t\t\t\t\t\t\t\t\ttest_size=0.2,\n",
    "\t\t\t\t\t\t\t\t\t\t\t\t\trandom_state=42,\n",
    "\t\t\t\t\t\t\t\t\t\t\t\t\tstratify=y\n",
    "\t\t\t\t\t\t\t\t\t\t\t\t\t)"
   ],
   "metadata": {
    "collapsed": false,
    "ExecuteTime": {
     "end_time": "2025-05-09T07:12:59.585914Z",
     "start_time": "2025-05-09T07:12:59.565240Z"
    }
   },
   "outputs": [],
   "execution_count": 10
  },
  {
   "metadata": {
    "ExecuteTime": {
     "end_time": "2025-05-09T07:13:09.777507Z",
     "start_time": "2025-05-09T07:13:09.769895Z"
    }
   },
   "cell_type": "code",
   "source": [
    "# Parameter stratify sorgt dafür, dass in jedem Teil der Daten die Verhältnisse von y gewahrt werden.\n",
    "# Das hier sind die Geschlechterverhältnisse in unseren Daten:\n",
    "penguins['sex'].value_counts(normalize=True)"
   ],
   "outputs": [
    {
     "data": {
      "text/plain": [
       "sex\n",
       "Male      0.504505\n",
       "Female    0.495495\n",
       "Name: proportion, dtype: float64"
      ]
     },
     "execution_count": 11,
     "metadata": {},
     "output_type": "execute_result"
    }
   ],
   "execution_count": 11
  },
  {
   "metadata": {
    "ExecuteTime": {
     "end_time": "2025-05-09T07:13:39.922577Z",
     "start_time": "2025-05-09T07:13:39.915975Z"
    }
   },
   "cell_type": "code",
   "source": [
    "# Überprüfen:\n",
    "y_train.value_counts(normalize=True)"
   ],
   "outputs": [
    {
     "data": {
      "text/plain": [
       "sex\n",
       "Male      0.503759\n",
       "Female    0.496241\n",
       "Name: proportion, dtype: float64"
      ]
     },
     "execution_count": 13,
     "metadata": {},
     "output_type": "execute_result"
    }
   ],
   "execution_count": 13
  },
  {
   "metadata": {
    "ExecuteTime": {
     "end_time": "2025-05-09T07:14:02.555347Z",
     "start_time": "2025-05-09T07:14:02.550787Z"
    }
   },
   "cell_type": "code",
   "source": [
    "# Überprüfen:\n",
    "y_test.value_counts(normalize=True)"
   ],
   "outputs": [
    {
     "data": {
      "text/plain": [
       "sex\n",
       "Male      0.507463\n",
       "Female    0.492537\n",
       "Name: proportion, dtype: float64"
      ]
     },
     "execution_count": 14,
     "metadata": {},
     "output_type": "execute_result"
    }
   ],
   "execution_count": 14
  },
  {
   "cell_type": "code",
   "source": [
    "# Erzeugen einer Instanz von KNN:\n",
    "knn1 = KNeighborsClassifier()"
   ],
   "metadata": {
    "collapsed": false,
    "ExecuteTime": {
     "end_time": "2025-05-09T07:17:46.211736Z",
     "start_time": "2025-05-09T07:17:46.208093Z"
    }
   },
   "outputs": [],
   "execution_count": 15
  },
  {
   "metadata": {
    "ExecuteTime": {
     "end_time": "2025-05-09T07:20:04.842933Z",
     "start_time": "2025-05-09T07:20:04.837661Z"
    }
   },
   "cell_type": "code",
   "source": "X_train.shape",
   "outputs": [
    {
     "data": {
      "text/plain": [
       "(266, 4)"
      ]
     },
     "execution_count": 17,
     "metadata": {},
     "output_type": "execute_result"
    }
   ],
   "execution_count": 17
  },
  {
   "metadata": {
    "ExecuteTime": {
     "end_time": "2025-05-09T07:21:19.692119Z",
     "start_time": "2025-05-09T07:21:19.687030Z"
    }
   },
   "cell_type": "code",
   "source": [
    "# So groß wäre in etwa bei 5 Folds der Validierungsdatensatz:\n",
    "0.2 * X_train.shape[0]"
   ],
   "outputs": [
    {
     "data": {
      "text/plain": [
       "53.2"
      ]
     },
     "execution_count": 18,
     "metadata": {},
     "output_type": "execute_result"
    }
   ],
   "execution_count": 18
  },
  {
   "metadata": {
    "ExecuteTime": {
     "end_time": "2025-05-09T07:22:28.059294Z",
     "start_time": "2025-05-09T07:22:28.054614Z"
    }
   },
   "cell_type": "code",
   "source": [
    "# So groß wäre entsprechend in jedem Durchlauf der Trainingsdatensatz:\n",
    "X_train.shape[0] - 53"
   ],
   "outputs": [
    {
     "data": {
      "text/plain": [
       "213"
      ]
     },
     "execution_count": 19,
     "metadata": {},
     "output_type": "execute_result"
    }
   ],
   "execution_count": 19
  },
  {
   "cell_type": "code",
   "source": [
    "# Mit Parameter cv steuert man die Anzahl der Folds (Teile, in die die Daten geteilt werden):\n",
    "knn_cv = cross_val_score(\n",
    "\tknn1,\n",
    "\tX_train,\n",
    "\ty_train,\n",
    "\tcv=5,\n",
    "\tscoring='accuracy',\n",
    "\tverbose=3\n",
    ")"
   ],
   "metadata": {
    "collapsed": false,
    "ExecuteTime": {
     "end_time": "2025-05-09T07:25:40.072902Z",
     "start_time": "2025-05-09T07:25:40.022852Z"
    }
   },
   "outputs": [
    {
     "name": "stdout",
     "output_type": "stream",
     "text": [
      "[CV] END ................................ score: (test=0.815) total time=   0.0s\n",
      "[CV] END ................................ score: (test=0.811) total time=   0.0s\n",
      "[CV] END ................................ score: (test=0.736) total time=   0.0s\n",
      "[CV] END ................................ score: (test=0.736) total time=   0.0s\n",
      "[CV] END ................................ score: (test=0.830) total time=   0.0s\n"
     ]
    }
   ],
   "execution_count": 26
  },
  {
   "metadata": {
    "ExecuteTime": {
     "end_time": "2025-05-09T07:26:24.745350Z",
     "start_time": "2025-05-09T07:26:24.739987Z"
    }
   },
   "cell_type": "code",
   "source": "knn_cv",
   "outputs": [
    {
     "data": {
      "text/plain": [
       "array([0.81481481, 0.81132075, 0.73584906, 0.73584906, 0.83018868])"
      ]
     },
     "execution_count": 27,
     "metadata": {},
     "output_type": "execute_result"
    }
   ],
   "execution_count": 27
  },
  {
   "cell_type": "code",
   "source": [
    "# Die durchschnittliche Güte bei 5 Folds:\n",
    "knn_cv.mean()"
   ],
   "metadata": {
    "collapsed": false,
    "ExecuteTime": {
     "end_time": "2025-05-09T07:26:42.723870Z",
     "start_time": "2025-05-09T07:26:42.719292Z"
    }
   },
   "outputs": [
    {
     "data": {
      "text/plain": [
       "np.float64(0.7856044723969253)"
      ]
     },
     "execution_count": 28,
     "metadata": {},
     "output_type": "execute_result"
    }
   ],
   "execution_count": 28
  },
  {
   "metadata": {},
   "cell_type": "markdown",
   "source": "## Auf dem Weg zum Gridsearch"
  },
  {
   "cell_type": "code",
   "source": [
    "# Training des Modells mit verschiedenen k's in der Schleife und Vergleich der Fehlerraten UND CV:\n",
    "error_rates = []\n",
    "trainings = 0\n",
    "\n",
    "for i in range(1, 31):\n",
    "\tknn = KNeighborsClassifier(i)\n",
    "\tknn_cv = cross_val_score(knn, X_train, y_train, cv=5,\n",
    "\t\t\t\t\t\t\t scoring='accuracy', verbose=3)\n",
    "\terror_rate = 1 - knn_cv.mean()\n",
    "\terror_rates.append(error_rate)\n",
    "\ttrainings += len(knn_cv)"
   ],
   "metadata": {
    "collapsed": false,
    "ExecuteTime": {
     "end_time": "2025-05-09T07:50:11.636424Z",
     "start_time": "2025-05-09T07:50:10.503089Z"
    }
   },
   "outputs": [
    {
     "name": "stdout",
     "output_type": "stream",
     "text": [
      "[CV] END ................................ score: (test=0.778) total time=   0.0s\n",
      "[CV] END ................................ score: (test=0.717) total time=   0.0s\n",
      "[CV] END ................................ score: (test=0.811) total time=   0.0s\n",
      "[CV] END ................................ score: (test=0.717) total time=   0.0s\n",
      "[CV] END ................................ score: (test=0.887) total time=   0.0s\n",
      "[CV] END ................................ score: (test=0.778) total time=   0.0s\n",
      "[CV] END ................................ score: (test=0.698) total time=   0.0s\n",
      "[CV] END ................................ score: (test=0.774) total time=   0.0s\n",
      "[CV] END ................................ score: (test=0.679) total time=   0.0s\n",
      "[CV] END ................................ score: (test=0.755) total time=   0.0s\n",
      "[CV] END ................................ score: (test=0.833) total time=   0.0s\n",
      "[CV] END ................................ score: (test=0.717) total time=   0.0s\n",
      "[CV] END ................................ score: (test=0.679) total time=   0.0s\n",
      "[CV] END ................................ score: (test=0.736) total time=   0.0s\n",
      "[CV] END ................................ score: (test=0.849) total time=   0.0s\n",
      "[CV] END ................................ score: (test=0.815) total time=   0.0s\n",
      "[CV] END ................................ score: (test=0.717) total time=   0.0s\n",
      "[CV] END ................................ score: (test=0.717) total time=   0.0s\n",
      "[CV] END ................................ score: (test=0.755) total time=   0.0s\n",
      "[CV] END ................................ score: (test=0.774) total time=   0.0s\n",
      "[CV] END ................................ score: (test=0.815) total time=   0.0s\n",
      "[CV] END ................................ score: (test=0.811) total time=   0.0s\n",
      "[CV] END ................................ score: (test=0.736) total time=   0.0s\n",
      "[CV] END ................................ score: (test=0.736) total time=   0.0s\n",
      "[CV] END ................................ score: (test=0.830) total time=   0.0s\n",
      "[CV] END ................................ score: (test=0.815) total time=   0.0s\n",
      "[CV] END ................................ score: (test=0.774) total time=   0.0s\n",
      "[CV] END ................................ score: (test=0.755) total time=   0.0s\n",
      "[CV] END ................................ score: (test=0.811) total time=   0.0s\n",
      "[CV] END ................................ score: (test=0.830) total time=   0.0s\n",
      "[CV] END ................................ score: (test=0.815) total time=   0.0s\n",
      "[CV] END ................................ score: (test=0.755) total time=   0.0s\n",
      "[CV] END ................................ score: (test=0.755) total time=   0.0s\n",
      "[CV] END ................................ score: (test=0.736) total time=   0.0s\n",
      "[CV] END ................................ score: (test=0.811) total time=   0.0s\n",
      "[CV] END ................................ score: (test=0.815) total time=   0.0s\n",
      "[CV] END ................................ score: (test=0.736) total time=   0.0s\n",
      "[CV] END ................................ score: (test=0.736) total time=   0.0s\n",
      "[CV] END ................................ score: (test=0.755) total time=   0.0s\n",
      "[CV] END ................................ score: (test=0.811) total time=   0.0s\n",
      "[CV] END ................................ score: (test=0.833) total time=   0.0s\n",
      "[CV] END ................................ score: (test=0.755) total time=   0.0s\n",
      "[CV] END ................................ score: (test=0.736) total time=   0.0s\n",
      "[CV] END ................................ score: (test=0.755) total time=   0.0s\n",
      "[CV] END ................................ score: (test=0.811) total time=   0.0s\n",
      "[CV] END ................................ score: (test=0.833) total time=   0.0s\n",
      "[CV] END ................................ score: (test=0.774) total time=   0.0s\n",
      "[CV] END ................................ score: (test=0.736) total time=   0.0s\n",
      "[CV] END ................................ score: (test=0.774) total time=   0.0s\n",
      "[CV] END ................................ score: (test=0.792) total time=   0.0s\n",
      "[CV] END ................................ score: (test=0.815) total time=   0.0s\n",
      "[CV] END ................................ score: (test=0.811) total time=   0.0s\n",
      "[CV] END ................................ score: (test=0.774) total time=   0.0s\n",
      "[CV] END ................................ score: (test=0.792) total time=   0.0s\n",
      "[CV] END ................................ score: (test=0.792) total time=   0.0s\n",
      "[CV] END ................................ score: (test=0.833) total time=   0.0s\n",
      "[CV] END ................................ score: (test=0.792) total time=   0.0s\n",
      "[CV] END ................................ score: (test=0.774) total time=   0.0s\n",
      "[CV] END ................................ score: (test=0.736) total time=   0.0s\n",
      "[CV] END ................................ score: (test=0.792) total time=   0.0s\n",
      "[CV] END ................................ score: (test=0.852) total time=   0.0s\n",
      "[CV] END ................................ score: (test=0.811) total time=   0.0s\n",
      "[CV] END ................................ score: (test=0.811) total time=   0.0s\n",
      "[CV] END ................................ score: (test=0.717) total time=   0.0s\n",
      "[CV] END ................................ score: (test=0.792) total time=   0.0s\n",
      "[CV] END ................................ score: (test=0.852) total time=   0.0s\n",
      "[CV] END ................................ score: (test=0.792) total time=   0.0s\n",
      "[CV] END ................................ score: (test=0.811) total time=   0.0s\n",
      "[CV] END ................................ score: (test=0.736) total time=   0.0s\n",
      "[CV] END ................................ score: (test=0.811) total time=   0.0s\n",
      "[CV] END ................................ score: (test=0.852) total time=   0.0s\n",
      "[CV] END ................................ score: (test=0.736) total time=   0.0s\n",
      "[CV] END ................................ score: (test=0.774) total time=   0.0s\n",
      "[CV] END ................................ score: (test=0.755) total time=   0.0s\n",
      "[CV] END ................................ score: (test=0.774) total time=   0.0s\n",
      "[CV] END ................................ score: (test=0.852) total time=   0.0s\n",
      "[CV] END ................................ score: (test=0.755) total time=   0.0s\n",
      "[CV] END ................................ score: (test=0.792) total time=   0.0s\n",
      "[CV] END ................................ score: (test=0.698) total time=   0.0s\n",
      "[CV] END ................................ score: (test=0.774) total time=   0.0s\n",
      "[CV] END ................................ score: (test=0.815) total time=   0.0s\n",
      "[CV] END ................................ score: (test=0.736) total time=   0.0s\n",
      "[CV] END ................................ score: (test=0.792) total time=   0.0s\n",
      "[CV] END ................................ score: (test=0.736) total time=   0.0s\n",
      "[CV] END ................................ score: (test=0.774) total time=   0.0s\n",
      "[CV] END ................................ score: (test=0.815) total time=   0.0s\n",
      "[CV] END ................................ score: (test=0.736) total time=   0.0s\n",
      "[CV] END ................................ score: (test=0.792) total time=   0.0s\n",
      "[CV] END ................................ score: (test=0.717) total time=   0.0s\n",
      "[CV] END ................................ score: (test=0.792) total time=   0.0s\n",
      "[CV] END ................................ score: (test=0.815) total time=   0.0s\n",
      "[CV] END ................................ score: (test=0.755) total time=   0.0s\n",
      "[CV] END ................................ score: (test=0.774) total time=   0.0s\n",
      "[CV] END ................................ score: (test=0.717) total time=   0.0s\n",
      "[CV] END ................................ score: (test=0.792) total time=   0.0s\n",
      "[CV] END ................................ score: (test=0.815) total time=   0.0s\n",
      "[CV] END ................................ score: (test=0.717) total time=   0.0s\n",
      "[CV] END ................................ score: (test=0.792) total time=   0.0s\n",
      "[CV] END ................................ score: (test=0.717) total time=   0.0s\n",
      "[CV] END ................................ score: (test=0.792) total time=   0.0s\n",
      "[CV] END ................................ score: (test=0.815) total time=   0.0s\n",
      "[CV] END ................................ score: (test=0.736) total time=   0.0s\n",
      "[CV] END ................................ score: (test=0.774) total time=   0.0s\n",
      "[CV] END ................................ score: (test=0.736) total time=   0.0s\n",
      "[CV] END ................................ score: (test=0.755) total time=   0.0s\n",
      "[CV] END ................................ score: (test=0.815) total time=   0.0s\n",
      "[CV] END ................................ score: (test=0.736) total time=   0.0s\n",
      "[CV] END ................................ score: (test=0.774) total time=   0.0s\n",
      "[CV] END ................................ score: (test=0.698) total time=   0.0s\n",
      "[CV] END ................................ score: (test=0.792) total time=   0.0s\n",
      "[CV] END ................................ score: (test=0.815) total time=   0.0s\n",
      "[CV] END ................................ score: (test=0.736) total time=   0.0s\n",
      "[CV] END ................................ score: (test=0.774) total time=   0.0s\n",
      "[CV] END ................................ score: (test=0.717) total time=   0.0s\n",
      "[CV] END ................................ score: (test=0.755) total time=   0.0s\n",
      "[CV] END ................................ score: (test=0.778) total time=   0.0s\n",
      "[CV] END ................................ score: (test=0.736) total time=   0.0s\n",
      "[CV] END ................................ score: (test=0.774) total time=   0.0s\n",
      "[CV] END ................................ score: (test=0.698) total time=   0.0s\n",
      "[CV] END ................................ score: (test=0.774) total time=   0.0s\n",
      "[CV] END ................................ score: (test=0.778) total time=   0.0s\n",
      "[CV] END ................................ score: (test=0.755) total time=   0.0s\n",
      "[CV] END ................................ score: (test=0.774) total time=   0.0s\n",
      "[CV] END ................................ score: (test=0.717) total time=   0.0s\n",
      "[CV] END ................................ score: (test=0.774) total time=   0.0s\n",
      "[CV] END ................................ score: (test=0.778) total time=   0.0s\n",
      "[CV] END ................................ score: (test=0.774) total time=   0.0s\n",
      "[CV] END ................................ score: (test=0.792) total time=   0.0s\n",
      "[CV] END ................................ score: (test=0.717) total time=   0.0s\n",
      "[CV] END ................................ score: (test=0.774) total time=   0.0s\n",
      "[CV] END ................................ score: (test=0.796) total time=   0.0s\n",
      "[CV] END ................................ score: (test=0.792) total time=   0.0s\n",
      "[CV] END ................................ score: (test=0.792) total time=   0.0s\n",
      "[CV] END ................................ score: (test=0.717) total time=   0.0s\n",
      "[CV] END ................................ score: (test=0.774) total time=   0.0s\n",
      "[CV] END ................................ score: (test=0.796) total time=   0.0s\n",
      "[CV] END ................................ score: (test=0.774) total time=   0.0s\n",
      "[CV] END ................................ score: (test=0.792) total time=   0.0s\n",
      "[CV] END ................................ score: (test=0.717) total time=   0.0s\n",
      "[CV] END ................................ score: (test=0.774) total time=   0.0s\n",
      "[CV] END ................................ score: (test=0.796) total time=   0.0s\n",
      "[CV] END ................................ score: (test=0.774) total time=   0.0s\n",
      "[CV] END ................................ score: (test=0.792) total time=   0.0s\n",
      "[CV] END ................................ score: (test=0.717) total time=   0.0s\n",
      "[CV] END ................................ score: (test=0.792) total time=   0.0s\n",
      "[CV] END ................................ score: (test=0.778) total time=   0.0s\n",
      "[CV] END ................................ score: (test=0.755) total time=   0.0s\n",
      "[CV] END ................................ score: (test=0.792) total time=   0.0s\n",
      "[CV] END ................................ score: (test=0.717) total time=   0.0s\n",
      "[CV] END ................................ score: (test=0.774) total time=   0.0s\n"
     ]
    }
   ],
   "execution_count": 34
  },
  {
   "cell_type": "code",
   "source": "error_rates",
   "metadata": {
    "collapsed": false,
    "ExecuteTime": {
     "end_time": "2025-05-09T07:51:20.231023Z",
     "start_time": "2025-05-09T07:51:20.225532Z"
    }
   },
   "outputs": [
    {
     "data": {
      "text/plain": [
       "[np.float64(0.21802935010482183),\n",
       " np.float64(0.26331236897274635),\n",
       " np.float64(0.23710691823899377),\n",
       " np.float64(0.2445842068483579),\n",
       " np.float64(0.21439552760307468),\n",
       " np.float64(0.20307477288609355),\n",
       " np.float64(0.22571628232005592),\n",
       " np.float64(0.2294898672257163),\n",
       " np.float64(0.22201257861635226),\n",
       " np.float64(0.21823899371069166),\n",
       " np.float64(0.20307477288609355),\n",
       " np.float64(0.2144654088050315),\n",
       " np.float64(0.203214535290007),\n",
       " np.float64(0.19944095038434662),\n",
       " np.float64(0.22208245981830887),\n",
       " np.float64(0.22585604472396914),\n",
       " np.float64(0.2294898672257163),\n",
       " np.float64(0.2294898672257164),\n",
       " np.float64(0.2294898672257164),\n",
       " np.float64(0.23326345213137678),\n",
       " np.float64(0.23703703703703705),\n",
       " np.float64(0.23703703703703705),\n",
       " np.float64(0.24081062194269742),\n",
       " np.float64(0.24821802935010484),\n",
       " np.float64(0.2406708595387841),\n",
       " np.float64(0.23312368972746333),\n",
       " np.float64(0.2256464011180992),\n",
       " np.float64(0.22941998602375968),\n",
       " np.float64(0.2256464011180993),\n",
       " np.float64(0.2368972746331237)]"
      ]
     },
     "execution_count": 36,
     "metadata": {},
     "output_type": "execute_result"
    }
   ],
   "execution_count": 36
  },
  {
   "cell_type": "code",
   "source": [
    "sns.lineplot(x=range(1, 31), y=error_rates, marker='o')\n",
    "plt.xticks(range(31))\n",
    "plt.title('Fehlerrate von KNN nach k')\n",
    "plt.xlabel('Wert für k')\n",
    "plt.ylabel('Fehlerrate');"
   ],
   "metadata": {
    "collapsed": false,
    "ExecuteTime": {
     "end_time": "2025-05-09T07:55:35.859023Z",
     "start_time": "2025-05-09T07:55:35.581076Z"
    }
   },
   "outputs": [
    {
     "data": {
      "text/plain": [
       "<Figure size 640x480 with 1 Axes>"
      ],
      "image/png": "[encoded data removed]"
     },
     "metadata": {},
     "output_type": "display_data"
    }
   ],
   "execution_count": 43
  },
  {
   "metadata": {
    "ExecuteTime": {
     "end_time": "2025-05-09T07:57:00.116589Z",
     "start_time": "2025-05-09T07:57:00.111130Z"
    }
   },
   "cell_type": "code",
   "source": [
    "# Geringste Fehlerrate:\n",
    "min_error = min(error_rates)\n",
    "min_error"
   ],
   "outputs": [
    {
     "data": {
      "text/plain": [
       "np.float64(0.19944095038434662)"
      ]
     },
     "execution_count": 47,
     "metadata": {},
     "output_type": "execute_result"
    }
   ],
   "execution_count": 47
  },
  {
   "metadata": {
    "ExecuteTime": {
     "end_time": "2025-05-09T08:00:07.840284Z",
     "start_time": "2025-05-09T08:00:07.835101Z"
    }
   },
   "cell_type": "code",
   "source": [
    "# Das k zur kleinsten Fehlerrate:\n",
    "k = error_rates.index(min_error) + 1\n",
    "print(f'Optimales k: {k}')"
   ],
   "outputs": [
    {
     "name": "stdout",
     "output_type": "stream",
     "text": [
      "Optimales k: 14\n"
     ]
    }
   ],
   "execution_count": 49
  },
  {
   "metadata": {},
   "cell_type": "markdown",
   "source": "# Hyperparameter, die wir verstellen werden:"
  },
  {
   "metadata": {},
   "cell_type": "markdown",
   "source": [
    "### 1. Abstand\n",
    "#### Euklidischer Abstand: Abstände sind Wurzel der quadrierten Abstände von x und y:\n",
    "$$ euklidischerabstand = \\sqrt{(x_1-x_0)^2+(y_1-y_0)^2} $$\n",
    "#### Manhattanabstand: Betrag von Differenz zweier Punkte auf X-Achse + und der Differenz zweier Punkte auf Y-Achse:\n",
    "$$ manhattanabstand = |x_1-x_0|+|y_1-y_0| $$\n",
    "#### Es gibt noch weitere Metriken bei KNN."
   ]
  },
  {
   "cell_type": "markdown",
   "source": [
    "### 2. Gewichtung\n",
    "#### uniform: Punkte werden einheitlich gewichtet.\n",
    "#### distance: Je weiter ein Punkt weg ist, desto schwächer fließt er ein."
   ],
   "metadata": {
    "collapsed": false
   }
  },
  {
   "cell_type": "code",
   "source": "knn2 = KNeighborsClassifier()",
   "metadata": {
    "collapsed": false,
    "ExecuteTime": {
     "end_time": "2025-05-09T09:07:42.891175Z",
     "start_time": "2025-05-09T09:07:42.887157Z"
    }
   },
   "outputs": [],
   "execution_count": 84
  },
  {
   "metadata": {
    "ExecuteTime": {
     "end_time": "2025-05-09T09:07:42.930543Z",
     "start_time": "2025-05-09T09:07:42.924384Z"
    }
   },
   "cell_type": "code",
   "source": "knn2.get_params()",
   "outputs": [
    {
     "data": {
      "text/plain": [
       "{'algorithm': 'auto',\n",
       " 'leaf_size': 30,\n",
       " 'metric': 'minkowski',\n",
       " 'metric_params': None,\n",
       " 'n_jobs': None,\n",
       " 'n_neighbors': 5,\n",
       " 'p': 2,\n",
       " 'weights': 'uniform'}"
      ]
     },
     "execution_count": 85,
     "metadata": {},
     "output_type": "execute_result"
    }
   ],
   "execution_count": 85
  },
  {
   "cell_type": "code",
   "source": [
    "# Definition der Parameter, deren Kombination wir untersuchen wollen:\n",
    "grid_params = {\n",
    "\t'n_neighbors': [3, 4, 5, 6, 7, 8],\n",
    "\t'weights': ['uniform', 'distance'],\n",
    "\t'metric': ['euclidean', 'manhattan']\n",
    "}"
   ],
   "metadata": {
    "collapsed": false,
    "ExecuteTime": {
     "end_time": "2025-05-09T09:07:43.019270Z",
     "start_time": "2025-05-09T09:07:43.015459Z"
    }
   },
   "outputs": [],
   "execution_count": 86
  },
  {
   "cell_type": "code",
   "source": "grid = GridSearchCV(knn2, grid_params, cv=5, verbose=1)",
   "metadata": {
    "collapsed": false,
    "ExecuteTime": {
     "end_time": "2025-05-09T09:07:43.095252Z",
     "start_time": "2025-05-09T09:07:43.091201Z"
    }
   },
   "outputs": [],
   "execution_count": 87
  },
  {
   "cell_type": "code",
   "source": "grid_results = grid.fit(X_train, y_train)",
   "metadata": {
    "collapsed": false,
    "ExecuteTime": {
     "end_time": "2025-05-09T09:07:43.949062Z",
     "start_time": "2025-05-09T09:07:43.186761Z"
    }
   },
   "outputs": [
    {
     "name": "stdout",
     "output_type": "stream",
     "text": [
      "Fitting 5 folds for each of 24 candidates, totalling 120 fits\n"
     ]
    }
   ],
   "execution_count": 88
  },
  {
   "cell_type": "code",
   "source": [
    "# Bestes Resultat aus 20 Durchläufen:\n",
    "grid_results.best_score_"
   ],
   "metadata": {
    "collapsed": false,
    "ExecuteTime": {
     "end_time": "2025-05-09T09:07:43.989663Z",
     "start_time": "2025-05-09T09:07:43.984581Z"
    }
   },
   "outputs": [
    {
     "data": {
      "text/plain": [
       "np.float64(0.8043326345213139)"
      ]
     },
     "execution_count": 89,
     "metadata": {},
     "output_type": "execute_result"
    }
   ],
   "execution_count": 89
  },
  {
   "cell_type": "code",
   "source": [
    "# Zum Vergleich Wert von weiter oben:\n",
    "1 - min_error"
   ],
   "metadata": {
    "collapsed": false,
    "ExecuteTime": {
     "end_time": "2025-05-09T09:07:44.074885Z",
     "start_time": "2025-05-09T09:07:44.070802Z"
    }
   },
   "outputs": [
    {
     "data": {
      "text/plain": [
       "np.float64(0.8005590496156534)"
      ]
     },
     "execution_count": 90,
     "metadata": {},
     "output_type": "execute_result"
    }
   ],
   "execution_count": 90
  },
  {
   "cell_type": "code",
   "source": [
    "# Beste Parameter anzeigen lassen:\n",
    "best_results = grid_results.best_params_\n",
    "best_results"
   ],
   "metadata": {
    "collapsed": false,
    "ExecuteTime": {
     "end_time": "2025-05-09T09:07:44.192653Z",
     "start_time": "2025-05-09T09:07:44.187526Z"
    }
   },
   "outputs": [
    {
     "data": {
      "text/plain": [
       "{'metric': 'manhattan', 'n_neighbors': 5, 'weights': 'distance'}"
      ]
     },
     "execution_count": 91,
     "metadata": {},
     "output_type": "execute_result"
    }
   ],
   "execution_count": 91
  },
  {
   "metadata": {
    "ExecuteTime": {
     "end_time": "2025-05-09T09:07:44.295278Z",
     "start_time": "2025-05-09T09:07:44.291041Z"
    }
   },
   "cell_type": "code",
   "source": [
    "# Der umständlichste Weg:\n",
    "knn_final = KNeighborsClassifier(\n",
    "\tn_neighbors=5,\n",
    "\tweights='distance',\n",
    "\tmetric='manhattan'\n",
    ")"
   ],
   "outputs": [],
   "execution_count": 92
  },
  {
   "metadata": {
    "ExecuteTime": {
     "end_time": "2025-05-09T09:07:44.366479Z",
     "start_time": "2025-05-09T09:07:44.362910Z"
    }
   },
   "cell_type": "code",
   "source": [
    "# Auch umständlich:\n",
    "knn_final = KNeighborsClassifier(\n",
    "\tn_neighbors=best_results['n_neighbors'],\n",
    "\tweights=best_results['weights'],\n",
    "\tmetric=best_results['metric']\n",
    ")"
   ],
   "outputs": [],
   "execution_count": 93
  },
  {
   "metadata": {
    "ExecuteTime": {
     "end_time": "2025-05-09T09:07:44.435147Z",
     "start_time": "2025-05-09T09:07:44.431688Z"
    }
   },
   "cell_type": "code",
   "source": [
    "# Dictionary auf kwargs entpacken:\n",
    "knn_final = KNeighborsClassifier(**best_results)"
   ],
   "outputs": [],
   "execution_count": 94
  },
  {
   "metadata": {
    "ExecuteTime": {
     "end_time": "2025-05-09T09:07:44.507419Z",
     "start_time": "2025-05-09T09:07:44.500592Z"
    }
   },
   "cell_type": "code",
   "source": "knn_final.get_params()",
   "outputs": [
    {
     "data": {
      "text/plain": [
       "{'algorithm': 'auto',\n",
       " 'leaf_size': 30,\n",
       " 'metric': 'manhattan',\n",
       " 'metric_params': None,\n",
       " 'n_jobs': None,\n",
       " 'n_neighbors': 5,\n",
       " 'p': 2,\n",
       " 'weights': 'distance'}"
      ]
     },
     "execution_count": 95,
     "metadata": {},
     "output_type": "execute_result"
    }
   ],
   "execution_count": 95
  },
  {
   "metadata": {
    "ExecuteTime": {
     "end_time": "2025-05-09T09:07:44.631556Z",
     "start_time": "2025-05-09T09:07:44.620938Z"
    }
   },
   "cell_type": "code",
   "source": "knn_final.fit(X_train, y_train)",
   "outputs": [
    {
     "data": {
      "text/plain": [
       "KNeighborsClassifier(metric='manhattan', weights='distance')"
      ],
      "text/html": [
       "<style>#sk-container-id-4 {\n",
       "  /* Definition of color scheme common for light and dark mode */\n",
       "  --sklearn-color-text: #000;\n",
       "  --sklearn-color-text-muted: #666;\n",
       "  --sklearn-color-line: gray;\n",
       "  /* Definition of color scheme for unfitted estimators */\n",
       "  --sklearn-color-unfitted-level-0: #fff5e6;\n",
       "  --sklearn-color-unfitted-level-1: #f6e4d2;\n",
       "  --sklearn-color-unfitted-level-2: #ffe0b3;\n",
       "  --sklearn-color-unfitted-level-3: chocolate;\n",
       "  /* Definition of color scheme for fitted estimators */\n",
       "  --sklearn-color-fitted-level-0: #f0f8ff;\n",
       "  --sklearn-color-fitted-level-1: #d4ebff;\n",
       "  --sklearn-color-fitted-level-2: #b3dbfd;\n",
       "  --sklearn-color-fitted-level-3: cornflowerblue;\n",
       "\n",
       "  /* Specific color for light theme */\n",
       "  --sklearn-color-text-on-default-background: var(--sg-text-color, var(--theme-code-foreground, var(--jp-content-font-color1, black)));\n",
       "  --sklearn-color-background: var(--sg-background-color, var(--theme-background, var(--jp-layout-color0, white)));\n",
       "  --sklearn-color-border-box: var(--sg-text-color, var(--theme-code-foreground, var(--jp-content-font-color1, black)));\n",
       "  --sklearn-color-icon: #696969;\n",
       "\n",
       "  @media (prefers-color-scheme: dark) {\n",
       "    /* Redefinition of color scheme for dark theme */\n",
       "    --sklearn-color-text-on-default-background: var(--sg-text-color, var(--theme-code-foreground, var(--jp-content-font-color1, white)));\n",
       "    --sklearn-color-background: var(--sg-background-color, var(--theme-background, var(--jp-layout-color0, #111)));\n",
       "    --sklearn-color-border-box: var(--sg-text-color, var(--theme-code-foreground, var(--jp-content-font-color1, white)));\n",
       "    --sklearn-color-icon: #878787;\n",
       "  }\n",
       "}\n",
       "\n",
       "#sk-container-id-4 {\n",
       "  color: var(--sklearn-color-text);\n",
       "}\n",
       "\n",
       "#sk-container-id-4 pre {\n",
       "  padding: 0;\n",
       "}\n",
       "\n",
       "#sk-container-id-4 input.sk-hidden--visually {\n",
       "  border: 0;\n",
       "  clip: rect(1px 1px 1px 1px);\n",
       "  clip: rect(1px, 1px, 1px, 1px);\n",
       "  height: 1px;\n",
       "  margin: -1px;\n",
       "  overflow: hidden;\n",
       "  padding: 0;\n",
       "  position: absolute;\n",
       "  width: 1px;\n",
       "}\n",
       "\n",
       "#sk-container-id-4 div.sk-dashed-wrapped {\n",
       "  border: 1px dashed var(--sklearn-color-line);\n",
       "  margin: 0 0.4em 0.5em 0.4em;\n",
       "  box-sizing: border-box;\n",
       "  padding-bottom: 0.4em;\n",
       "  background-color: var(--sklearn-color-background);\n",
       "}\n",
       "\n",
       "#sk-container-id-4 div.sk-container {\n",
       "  /* jupyter's `normalize.less` sets `[hidden] { display: none; }`\n",
       "     but bootstrap.min.css set `[hidden] { display: none !important; }`\n",
       "     so we also need the `!important` here to be able to override the\n",
       "     default hidden behavior on the sphinx rendered scikit-learn.org.\n",
       "     See: https://github.com/scikit-learn/scikit-learn/issues/21755 */\n",
       "  display: inline-block !important;\n",
       "  position: relative;\n",
       "}\n",
       "\n",
       "#sk-container-id-4 div.sk-text-repr-fallback {\n",
       "  display: none;\n",
       "}\n",
       "\n",
       "div.sk-parallel-item,\n",
       "div.sk-serial,\n",
       "div.sk-item {\n",
       "  /* draw centered vertical line to link estimators */\n",
       "  background-image: linear-gradient(var(--sklearn-color-text-on-default-background), var(--sklearn-color-text-on-default-background));\n",
       "  background-size: 2px 100%;\n",
       "  background-repeat: no-repeat;\n",
       "  background-position: center center;\n",
       "}\n",
       "\n",
       "/* Parallel-specific style estimator block */\n",
       "\n",
       "#sk-container-id-4 div.sk-parallel-item::after {\n",
       "  content: \"\";\n",
       "  width: 100%;\n",
       "  border-bottom: 2px solid var(--sklearn-color-text-on-default-background);\n",
       "  flex-grow: 1;\n",
       "}\n",
       "\n",
       "#sk-container-id-4 div.sk-parallel {\n",
       "  display: flex;\n",
       "  align-items: stretch;\n",
       "  justify-content: center;\n",
       "  background-color: var(--sklearn-color-background);\n",
       "  position: relative;\n",
       "}\n",
       "\n",
       "#sk-container-id-4 div.sk-parallel-item {\n",
       "  display: flex;\n",
       "  flex-direction: column;\n",
       "}\n",
       "\n",
       "#sk-container-id-4 div.sk-parallel-item:first-child::after {\n",
       "  align-self: flex-end;\n",
       "  width: 50%;\n",
       "}\n",
       "\n",
       "#sk-container-id-4 div.sk-parallel-item:last-child::after {\n",
       "  align-self: flex-start;\n",
       "  width: 50%;\n",
       "}\n",
       "\n",
       "#sk-container-id-4 div.sk-parallel-item:only-child::after {\n",
       "  width: 0;\n",
       "}\n",
       "\n",
       "/* Serial-specific style estimator block */\n",
       "\n",
       "#sk-container-id-4 div.sk-serial {\n",
       "  display: flex;\n",
       "  flex-direction: column;\n",
       "  align-items: center;\n",
       "  background-color: var(--sklearn-color-background);\n",
       "  padding-right: 1em;\n",
       "  padding-left: 1em;\n",
       "}\n",
       "\n",
       "\n",
       "/* Toggleable style: style used for estimator/Pipeline/ColumnTransformer box that is\n",
       "clickable and can be expanded/collapsed.\n",
       "- Pipeline and ColumnTransformer use this feature and define the default style\n",
       "- Estimators will overwrite some part of the style using the `sk-estimator` class\n",
       "*/\n",
       "\n",
       "/* Pipeline and ColumnTransformer style (default) */\n",
       "\n",
       "#sk-container-id-4 div.sk-toggleable {\n",
       "  /* Default theme specific background. It is overwritten whether we have a\n",
       "  specific estimator or a Pipeline/ColumnTransformer */\n",
       "  background-color: var(--sklearn-color-background);\n",
       "}\n",
       "\n",
       "/* Toggleable label */\n",
       "#sk-container-id-4 label.sk-toggleable__label {\n",
       "  cursor: pointer;\n",
       "  display: flex;\n",
       "  width: 100%;\n",
       "  margin-bottom: 0;\n",
       "  padding: 0.5em;\n",
       "  box-sizing: border-box;\n",
       "  text-align: center;\n",
       "  align-items: start;\n",
       "  justify-content: space-between;\n",
       "  gap: 0.5em;\n",
       "}\n",
       "\n",
       "#sk-container-id-4 label.sk-toggleable__label .caption {\n",
       "  font-size: 0.6rem;\n",
       "  font-weight: lighter;\n",
       "  color: var(--sklearn-color-text-muted);\n",
       "}\n",
       "\n",
       "#sk-container-id-4 label.sk-toggleable__label-arrow:before {\n",
       "  /* Arrow on the left of the label */\n",
       "  content: \"▸\";\n",
       "  float: left;\n",
       "  margin-right: 0.25em;\n",
       "  color: var(--sklearn-color-icon);\n",
       "}\n",
       "\n",
       "#sk-container-id-4 label.sk-toggleable__label-arrow:hover:before {\n",
       "  color: var(--sklearn-color-text);\n",
       "}\n",
       "\n",
       "/* Toggleable content - dropdown */\n",
       "\n",
       "#sk-container-id-4 div.sk-toggleable__content {\n",
       "  max-height: 0;\n",
       "  max-width: 0;\n",
       "  overflow: hidden;\n",
       "  text-align: left;\n",
       "  /* unfitted */\n",
       "  background-color: var(--sklearn-color-unfitted-level-0);\n",
       "}\n",
       "\n",
       "#sk-container-id-4 div.sk-toggleable__content.fitted {\n",
       "  /* fitted */\n",
       "  background-color: var(--sklearn-color-fitted-level-0);\n",
       "}\n",
       "\n",
       "#sk-container-id-4 div.sk-toggleable__content pre {\n",
       "  margin: 0.2em;\n",
       "  border-radius: 0.25em;\n",
       "  color: var(--sklearn-color-text);\n",
       "  /* unfitted */\n",
       "  background-color: var(--sklearn-color-unfitted-level-0);\n",
       "}\n",
       "\n",
       "#sk-container-id-4 div.sk-toggleable__content.fitted pre {\n",
       "  /* unfitted */\n",
       "  background-color: var(--sklearn-color-fitted-level-0);\n",
       "}\n",
       "\n",
       "#sk-container-id-4 input.sk-toggleable__control:checked~div.sk-toggleable__content {\n",
       "  /* Expand drop-down */\n",
       "  max-height: 200px;\n",
       "  max-width: 100%;\n",
       "  overflow: auto;\n",
       "}\n",
       "\n",
       "#sk-container-id-4 input.sk-toggleable__control:checked~label.sk-toggleable__label-arrow:before {\n",
       "  content: \"▾\";\n",
       "}\n",
       "\n",
       "/* Pipeline/ColumnTransformer-specific style */\n",
       "\n",
       "#sk-container-id-4 div.sk-label input.sk-toggleable__control:checked~label.sk-toggleable__label {\n",
       "  color: var(--sklearn-color-text);\n",
       "  background-color: var(--sklearn-color-unfitted-level-2);\n",
       "}\n",
       "\n",
       "#sk-container-id-4 div.sk-label.fitted input.sk-toggleable__control:checked~label.sk-toggleable__label {\n",
       "  background-color: var(--sklearn-color-fitted-level-2);\n",
       "}\n",
       "\n",
       "/* Estimator-specific style */\n",
       "\n",
       "/* Colorize estimator box */\n",
       "#sk-container-id-4 div.sk-estimator input.sk-toggleable__control:checked~label.sk-toggleable__label {\n",
       "  /* unfitted */\n",
       "  background-color: var(--sklearn-color-unfitted-level-2);\n",
       "}\n",
       "\n",
       "#sk-container-id-4 div.sk-estimator.fitted input.sk-toggleable__control:checked~label.sk-toggleable__label {\n",
       "  /* fitted */\n",
       "  background-color: var(--sklearn-color-fitted-level-2);\n",
       "}\n",
       "\n",
       "#sk-container-id-4 div.sk-label label.sk-toggleable__label,\n",
       "#sk-container-id-4 div.sk-label label {\n",
       "  /* The background is the default theme color */\n",
       "  color: var(--sklearn-color-text-on-default-background);\n",
       "}\n",
       "\n",
       "/* On hover, darken the color of the background */\n",
       "#sk-container-id-4 div.sk-label:hover label.sk-toggleable__label {\n",
       "  color: var(--sklearn-color-text);\n",
       "  background-color: var(--sklearn-color-unfitted-level-2);\n",
       "}\n",
       "\n",
       "/* Label box, darken color on hover, fitted */\n",
       "#sk-container-id-4 div.sk-label.fitted:hover label.sk-toggleable__label.fitted {\n",
       "  color: var(--sklearn-color-text);\n",
       "  background-color: var(--sklearn-color-fitted-level-2);\n",
       "}\n",
       "\n",
       "/* Estimator label */\n",
       "\n",
       "#sk-container-id-4 div.sk-label label {\n",
       "  font-family: monospace;\n",
       "  font-weight: bold;\n",
       "  display: inline-block;\n",
       "  line-height: 1.2em;\n",
       "}\n",
       "\n",
       "#sk-container-id-4 div.sk-label-container {\n",
       "  text-align: center;\n",
       "}\n",
       "\n",
       "/* Estimator-specific */\n",
       "#sk-container-id-4 div.sk-estimator {\n",
       "  font-family: monospace;\n",
       "  border: 1px dotted var(--sklearn-color-border-box);\n",
       "  border-radius: 0.25em;\n",
       "  box-sizing: border-box;\n",
       "  margin-bottom: 0.5em;\n",
       "  /* unfitted */\n",
       "  background-color: var(--sklearn-color-unfitted-level-0);\n",
       "}\n",
       "\n",
       "#sk-container-id-4 div.sk-estimator.fitted {\n",
       "  /* fitted */\n",
       "  background-color: var(--sklearn-color-fitted-level-0);\n",
       "}\n",
       "\n",
       "/* on hover */\n",
       "#sk-container-id-4 div.sk-estimator:hover {\n",
       "  /* unfitted */\n",
       "  background-color: var(--sklearn-color-unfitted-level-2);\n",
       "}\n",
       "\n",
       "#sk-container-id-4 div.sk-estimator.fitted:hover {\n",
       "  /* fitted */\n",
       "  background-color: var(--sklearn-color-fitted-level-2);\n",
       "}\n",
       "\n",
       "/* Specification for estimator info (e.g. \"i\" and \"?\") */\n",
       "\n",
       "/* Common style for \"i\" and \"?\" */\n",
       "\n",
       ".sk-estimator-doc-link,\n",
       "a:link.sk-estimator-doc-link,\n",
       "a:visited.sk-estimator-doc-link {\n",
       "  float: right;\n",
       "  font-size: smaller;\n",
       "  line-height: 1em;\n",
       "  font-family: monospace;\n",
       "  background-color: var(--sklearn-color-background);\n",
       "  border-radius: 1em;\n",
       "  height: 1em;\n",
       "  width: 1em;\n",
       "  text-decoration: none !important;\n",
       "  margin-left: 0.5em;\n",
       "  text-align: center;\n",
       "  /* unfitted */\n",
       "  border: var(--sklearn-color-unfitted-level-1) 1pt solid;\n",
       "  color: var(--sklearn-color-unfitted-level-1);\n",
       "}\n",
       "\n",
       ".sk-estimator-doc-link.fitted,\n",
       "a:link.sk-estimator-doc-link.fitted,\n",
       "a:visited.sk-estimator-doc-link.fitted {\n",
       "  /* fitted */\n",
       "  border: var(--sklearn-color-fitted-level-1) 1pt solid;\n",
       "  color: var(--sklearn-color-fitted-level-1);\n",
       "}\n",
       "\n",
       "/* On hover */\n",
       "div.sk-estimator:hover .sk-estimator-doc-link:hover,\n",
       ".sk-estimator-doc-link:hover,\n",
       "div.sk-label-container:hover .sk-estimator-doc-link:hover,\n",
       ".sk-estimator-doc-link:hover {\n",
       "  /* unfitted */\n",
       "  background-color: var(--sklearn-color-unfitted-level-3);\n",
       "  color: var(--sklearn-color-background);\n",
       "  text-decoration: none;\n",
       "}\n",
       "\n",
       "div.sk-estimator.fitted:hover .sk-estimator-doc-link.fitted:hover,\n",
       ".sk-estimator-doc-link.fitted:hover,\n",
       "div.sk-label-container:hover .sk-estimator-doc-link.fitted:hover,\n",
       ".sk-estimator-doc-link.fitted:hover {\n",
       "  /* fitted */\n",
       "  background-color: var(--sklearn-color-fitted-level-3);\n",
       "  color: var(--sklearn-color-background);\n",
       "  text-decoration: none;\n",
       "}\n",
       "\n",
       "/* Span, style for the box shown on hovering the info icon */\n",
       ".sk-estimator-doc-link span {\n",
       "  display: none;\n",
       "  z-index: 9999;\n",
       "  position: relative;\n",
       "  font-weight: normal;\n",
       "  right: .2ex;\n",
       "  padding: .5ex;\n",
       "  margin: .5ex;\n",
       "  width: min-content;\n",
       "  min-width: 20ex;\n",
       "  max-width: 50ex;\n",
       "  color: var(--sklearn-color-text);\n",
       "  box-shadow: 2pt 2pt 4pt #999;\n",
       "  /* unfitted */\n",
       "  background: var(--sklearn-color-unfitted-level-0);\n",
       "  border: .5pt solid var(--sklearn-color-unfitted-level-3);\n",
       "}\n",
       "\n",
       ".sk-estimator-doc-link.fitted span {\n",
       "  /* fitted */\n",
       "  background: var(--sklearn-color-fitted-level-0);\n",
       "  border: var(--sklearn-color-fitted-level-3);\n",
       "}\n",
       "\n",
       ".sk-estimator-doc-link:hover span {\n",
       "  display: block;\n",
       "}\n",
       "\n",
       "/* \"?\"-specific style due to the `<a>` HTML tag */\n",
       "\n",
       "#sk-container-id-4 a.estimator_doc_link {\n",
       "  float: right;\n",
       "  font-size: 1rem;\n",
       "  line-height: 1em;\n",
       "  font-family: monospace;\n",
       "  background-color: var(--sklearn-color-background);\n",
       "  border-radius: 1rem;\n",
       "  height: 1rem;\n",
       "  width: 1rem;\n",
       "  text-decoration: none;\n",
       "  /* unfitted */\n",
       "  color: var(--sklearn-color-unfitted-level-1);\n",
       "  border: var(--sklearn-color-unfitted-level-1) 1pt solid;\n",
       "}\n",
       "\n",
       "#sk-container-id-4 a.estimator_doc_link.fitted {\n",
       "  /* fitted */\n",
       "  border: var(--sklearn-color-fitted-level-1) 1pt solid;\n",
       "  color: var(--sklearn-color-fitted-level-1);\n",
       "}\n",
       "\n",
       "/* On hover */\n",
       "#sk-container-id-4 a.estimator_doc_link:hover {\n",
       "  /* unfitted */\n",
       "  background-color: var(--sklearn-color-unfitted-level-3);\n",
       "  color: var(--sklearn-color-background);\n",
       "  text-decoration: none;\n",
       "}\n",
       "\n",
       "#sk-container-id-4 a.estimator_doc_link.fitted:hover {\n",
       "  /* fitted */\n",
       "  background-color: var(--sklearn-color-fitted-level-3);\n",
       "}\n",
       "</style><div id=\"sk-container-id-4\" class=\"sk-top-container\"><div class=\"sk-text-repr-fallback\"><pre>KNeighborsClassifier(metric=&#x27;manhattan&#x27;, weights=&#x27;distance&#x27;)</pre><b>In a Jupyter environment, please rerun this cell to show the HTML representation or trust the notebook. <br />On GitHub, the HTML representation is unable to render, please try loading this page with nbviewer.org.</b></div><div class=\"sk-container\" hidden><div class=\"sk-item\"><div class=\"sk-estimator fitted sk-toggleable\"><input class=\"sk-toggleable__control sk-hidden--visually\" id=\"sk-estimator-id-4\" type=\"checkbox\" checked><label for=\"sk-estimator-id-4\" class=\"sk-toggleable__label fitted sk-toggleable__label-arrow\"><div><div>KNeighborsClassifier</div></div><div><a class=\"sk-estimator-doc-link fitted\" rel=\"noreferrer\" target=\"_blank\" href=\"https://scikit-learn.org/1.6/modules/generated/sklearn.neighbors.KNeighborsClassifier.html\">?<span>Documentation for KNeighborsClassifier</span></a><span class=\"sk-estimator-doc-link fitted\">i<span>Fitted</span></span></div></label><div class=\"sk-toggleable__content fitted\"><pre>KNeighborsClassifier(metric=&#x27;manhattan&#x27;, weights=&#x27;distance&#x27;)</pre></div> </div></div></div></div>"
      ]
     },
     "execution_count": 96,
     "metadata": {},
     "output_type": "execute_result"
    }
   ],
   "execution_count": 96
  },
  {
   "metadata": {
    "ExecuteTime": {
     "end_time": "2025-05-09T09:07:44.743039Z",
     "start_time": "2025-05-09T09:07:44.734384Z"
    }
   },
   "cell_type": "code",
   "source": "knn_final.score(X_test, y_test)",
   "outputs": [
    {
     "data": {
      "text/plain": [
       "0.7611940298507462"
      ]
     },
     "execution_count": 97,
     "metadata": {},
     "output_type": "execute_result"
    }
   ],
   "execution_count": 97
  },
  {
   "metadata": {},
   "cell_type": "markdown",
   "source": "# Pickle: Modelle einlagern und laden"
  },
  {
   "metadata": {
    "ExecuteTime": {
     "end_time": "2025-05-09T09:13:08.947419Z",
     "start_time": "2025-05-09T09:13:08.941469Z"
    }
   },
   "cell_type": "code",
   "source": [
    "# Modell speichern:\n",
    "with open('sex_model_penguins.pkl', 'wb') as f:\n",
    "\tpickle.dump(knn_final, f)"
   ],
   "outputs": [],
   "execution_count": 98
  },
  {
   "metadata": {
    "ExecuteTime": {
     "end_time": "2025-05-09T09:15:03.770490Z",
     "start_time": "2025-05-09T09:15:03.765337Z"
    }
   },
   "cell_type": "code",
   "source": [
    "# Modell wieder laden:\n",
    "loaded_model = pickle.load(open('sex_model_penguins.pkl', 'rb'))"
   ],
   "outputs": [],
   "execution_count": 99
  },
  {
   "metadata": {
    "ExecuteTime": {
     "end_time": "2025-05-09T09:15:45.340738Z",
     "start_time": "2025-05-09T09:15:45.333172Z"
    }
   },
   "cell_type": "code",
   "source": [
    "# ...und nutzen:\n",
    "loaded_model.predict(X_test)"
   ],
   "outputs": [
    {
     "data": {
      "text/plain": [
       "array(['Male', 'Female', 'Male', 'Female', 'Female', 'Male', 'Male',\n",
       "       'Female', 'Male', 'Male', 'Female', 'Male', 'Female', 'Male',\n",
       "       'Male', 'Female', 'Female', 'Female', 'Male', 'Male', 'Male',\n",
       "       'Male', 'Male', 'Male', 'Female', 'Male', 'Male', 'Female',\n",
       "       'Female', 'Female', 'Male', 'Male', 'Female', 'Male', 'Female',\n",
       "       'Male', 'Female', 'Male', 'Male', 'Female', 'Female', 'Male',\n",
       "       'Male', 'Male', 'Female', 'Female', 'Female', 'Male', 'Female',\n",
       "       'Female', 'Male', 'Female', 'Male', 'Male', 'Male', 'Female',\n",
       "       'Female', 'Male', 'Female', 'Female', 'Male', 'Male', 'Male',\n",
       "       'Female', 'Female', 'Female', 'Male'], dtype=object)"
      ]
     },
     "execution_count": 101,
     "metadata": {},
     "output_type": "execute_result"
    }
   ],
   "execution_count": 101
  },
  {
   "metadata": {
    "ExecuteTime": {
     "end_time": "2025-05-09T09:16:00.191042Z",
     "start_time": "2025-05-09T09:16:00.175516Z"
    }
   },
   "cell_type": "code",
   "source": "X_test",
   "outputs": [
    {
     "data": {
      "text/plain": [
       "     bill_length_mm  bill_depth_mm  flipper_length_mm  body_mass_g\n",
       "279            50.4           15.3              224.0       5550.0\n",
       "44             37.0           16.9              185.0       3000.0\n",
       "261            49.6           16.0              225.0       5700.0\n",
       "180            46.4           17.8              191.0       3700.0\n",
       "213            46.8           16.5              189.0       3650.0\n",
       "..              ...            ...                ...          ...\n",
       "264            50.5           15.9              222.0       5550.0\n",
       "263            49.6           15.0              216.0       4750.0\n",
       "2              40.3           18.0              195.0       3250.0\n",
       "238            46.2           14.5              209.0       4800.0\n",
       "237            49.2           15.2              221.0       6300.0\n",
       "\n",
       "[67 rows x 4 columns]"
      ],
      "text/html": [
       "<div>\n",
       "<style scoped>\n",
       "    .dataframe tbody tr th:only-of-type {\n",
       "        vertical-align: middle;\n",
       "    }\n",
       "\n",
       "    .dataframe tbody tr th {\n",
       "        vertical-align: top;\n",
       "    }\n",
       "\n",
       "    .dataframe thead th {\n",
       "        text-align: right;\n",
       "    }\n",
       "</style>\n",
       "<table border=\"1\" class=\"dataframe\">\n",
       "  <thead>\n",
       "    <tr style=\"text-align: right;\">\n",
       "      <th></th>\n",
       "      <th>bill_length_mm</th>\n",
       "      <th>bill_depth_mm</th>\n",
       "      <th>flipper_length_mm</th>\n",
       "      <th>body_mass_g</th>\n",
       "    </tr>\n",
       "  </thead>\n",
       "  <tbody>\n",
       "    <tr>\n",
       "      <th>279</th>\n",
       "      <td>50.4</td>\n",
       "      <td>15.3</td>\n",
       "      <td>224.0</td>\n",
       "      <td>5550.0</td>\n",
       "    </tr>\n",
       "    <tr>\n",
       "      <th>44</th>\n",
       "      <td>37.0</td>\n",
       "      <td>16.9</td>\n",
       "      <td>185.0</td>\n",
       "      <td>3000.0</td>\n",
       "    </tr>\n",
       "    <tr>\n",
       "      <th>261</th>\n",
       "      <td>49.6</td>\n",
       "      <td>16.0</td>\n",
       "      <td>225.0</td>\n",
       "      <td>5700.0</td>\n",
       "    </tr>\n",
       "    <tr>\n",
       "      <th>180</th>\n",
       "      <td>46.4</td>\n",
       "      <td>17.8</td>\n",
       "      <td>191.0</td>\n",
       "      <td>3700.0</td>\n",
       "    </tr>\n",
       "    <tr>\n",
       "      <th>213</th>\n",
       "      <td>46.8</td>\n",
       "      <td>16.5</td>\n",
       "      <td>189.0</td>\n",
       "      <td>3650.0</td>\n",
       "    </tr>\n",
       "    <tr>\n",
       "      <th>...</th>\n",
       "      <td>...</td>\n",
       "      <td>...</td>\n",
       "      <td>...</td>\n",
       "      <td>...</td>\n",
       "    </tr>\n",
       "    <tr>\n",
       "      <th>264</th>\n",
       "      <td>50.5</td>\n",
       "      <td>15.9</td>\n",
       "      <td>222.0</td>\n",
       "      <td>5550.0</td>\n",
       "    </tr>\n",
       "    <tr>\n",
       "      <th>263</th>\n",
       "      <td>49.6</td>\n",
       "      <td>15.0</td>\n",
       "      <td>216.0</td>\n",
       "      <td>4750.0</td>\n",
       "    </tr>\n",
       "    <tr>\n",
       "      <th>2</th>\n",
       "      <td>40.3</td>\n",
       "      <td>18.0</td>\n",
       "      <td>195.0</td>\n",
       "      <td>3250.0</td>\n",
       "    </tr>\n",
       "    <tr>\n",
       "      <th>238</th>\n",
       "      <td>46.2</td>\n",
       "      <td>14.5</td>\n",
       "      <td>209.0</td>\n",
       "      <td>4800.0</td>\n",
       "    </tr>\n",
       "    <tr>\n",
       "      <th>237</th>\n",
       "      <td>49.2</td>\n",
       "      <td>15.2</td>\n",
       "      <td>221.0</td>\n",
       "      <td>6300.0</td>\n",
       "    </tr>\n",
       "  </tbody>\n",
       "</table>\n",
       "<p>67 rows × 4 columns</p>\n",
       "</div>"
      ]
     },
     "execution_count": 102,
     "metadata": {},
     "output_type": "execute_result"
    }
   ],
   "execution_count": 102
  },
  {
   "metadata": {
    "ExecuteTime": {
     "end_time": "2025-05-09T09:17:47.232782Z",
     "start_time": "2025-05-09T09:17:47.224202Z"
    }
   },
   "cell_type": "code",
   "source": "loaded_model.score(X_test, y_test)",
   "outputs": [
    {
     "data": {
      "text/plain": [
       "0.7611940298507462"
      ]
     },
     "execution_count": 103,
     "metadata": {},
     "output_type": "execute_result"
    }
   ],
   "execution_count": 103
  },
  {
   "metadata": {
    "ExecuteTime": {
     "end_time": "2025-05-09T09:35:33.669179Z",
     "start_time": "2025-05-09T09:35:33.665218Z"
    }
   },
   "cell_type": "code",
   "source": [
    "# Nur so zum \"Spaß\":\n",
    "grid_params = {\n",
    "\t'n_neighbors': range(1, 200),\n",
    "\t'weights': ['uniform', 'distance'],\n",
    "\t'metric': ['euclidean', 'manhattan']\n",
    "}"
   ],
   "outputs": [],
   "execution_count": 107
  },
  {
   "metadata": {
    "ExecuteTime": {
     "end_time": "2025-05-09T09:36:11.791193Z",
     "start_time": "2025-05-09T09:35:35.454594Z"
    }
   },
   "cell_type": "code",
   "source": [
    "grid = GridSearchCV(knn2, grid_params, cv=5, verbose=1)\n",
    "grid_results = grid.fit(X_train, y_train)"
   ],
   "outputs": [
    {
     "name": "stdout",
     "output_type": "stream",
     "text": [
      "Fitting 5 folds for each of 796 candidates, totalling 3980 fits\n"
     ]
    }
   ],
   "execution_count": 108
  },
  {
   "metadata": {
    "ExecuteTime": {
     "end_time": "2025-05-09T09:36:39.151383Z",
     "start_time": "2025-05-09T09:36:39.146874Z"
    }
   },
   "cell_type": "code",
   "source": "grid_results.best_score_",
   "outputs": [
    {
     "data": {
      "text/plain": [
       "np.float64(0.8043326345213139)"
      ]
     },
     "execution_count": 109,
     "metadata": {},
     "output_type": "execute_result"
    }
   ],
   "execution_count": 109
  },
  {
   "metadata": {
    "ExecuteTime": {
     "end_time": "2025-05-09T09:37:19.029819Z",
     "start_time": "2025-05-09T09:37:19.021834Z"
    }
   },
   "cell_type": "code",
   "source": "grid_results.__dict__.keys()",
   "outputs": [
    {
     "data": {
      "text/plain": [
       "dict_keys(['scoring', 'estimator', 'n_jobs', 'refit', 'cv', 'verbose', 'pre_dispatch', 'error_score', 'return_train_score', 'param_grid', 'multimetric_', 'best_index_', 'best_score_', 'best_params_', 'best_estimator_', 'refit_time_', 'feature_names_in_', 'scorer_', 'cv_results_', 'n_splits_'])"
      ]
     },
     "execution_count": 112,
     "metadata": {},
     "output_type": "execute_result"
    }
   ],
   "execution_count": 112
  },
  {
   "metadata": {
    "ExecuteTime": {
     "end_time": "2025-05-09T09:37:44.883012Z",
     "start_time": "2025-05-09T09:37:44.878513Z"
    }
   },
   "cell_type": "code",
   "source": "grid_results.best_params_",
   "outputs": [
    {
     "data": {
      "text/plain": [
       "{'metric': 'manhattan', 'n_neighbors': 5, 'weights': 'distance'}"
      ]
     },
     "execution_count": 113,
     "metadata": {},
     "output_type": "execute_result"
    }
   ],
   "execution_count": 113
  },
  {
   "cell_type": "markdown",
   "source": [
    "# Übungsaufgabe"
   ],
   "metadata": {
    "collapsed": false
   }
  },
  {
   "cell_type": "markdown",
   "source": [
    "### Lade den Datensatz house_prices.csv und erstelle ein Modell, das die Lage der Gegenden voraussagt (Bay, Near Bay,...). Nutze Hyperparameter-Optimierung, um dein Modell zu optimieren!"
   ],
   "metadata": {
    "collapsed": false
   }
  },
  {
   "metadata": {
    "ExecuteTime": {
     "end_time": "2025-05-09T09:22:04.030089Z",
     "start_time": "2025-05-09T09:22:03.990882Z"
    }
   },
   "cell_type": "code",
   "source": [
    "houses = pd.read_csv('house_prices.csv')\n",
    "houses.head()"
   ],
   "outputs": [
    {
     "data": {
      "text/plain": [
       "   longitude  latitude  housing_median_age  total_rooms  total_bedrooms  \\\n",
       "0    -122.23     37.88                41.0        880.0           129.0   \n",
       "1    -122.22     37.86                21.0       7099.0          1106.0   \n",
       "2    -122.24     37.85                52.0       1467.0           190.0   \n",
       "3    -122.25     37.85                52.0       1274.0           235.0   \n",
       "4    -122.25     37.85                52.0       1627.0           280.0   \n",
       "\n",
       "   population  households  median_income  median_house_value ocean_proximity  \n",
       "0       322.0       126.0         8.3252            452600.0        NEAR BAY  \n",
       "1      2401.0      1138.0         8.3014            358500.0        NEAR BAY  \n",
       "2       496.0       177.0         7.2574            352100.0        NEAR BAY  \n",
       "3       558.0       219.0         5.6431            341300.0        NEAR BAY  \n",
       "4       565.0       259.0         3.8462            342200.0        NEAR BAY  "
      ],
      "text/html": [
       "<div>\n",
       "<style scoped>\n",
       "    .dataframe tbody tr th:only-of-type {\n",
       "        vertical-align: middle;\n",
       "    }\n",
       "\n",
       "    .dataframe tbody tr th {\n",
       "        vertical-align: top;\n",
       "    }\n",
       "\n",
       "    .dataframe thead th {\n",
       "        text-align: right;\n",
       "    }\n",
       "</style>\n",
       "<table border=\"1\" class=\"dataframe\">\n",
       "  <thead>\n",
       "    <tr style=\"text-align: right;\">\n",
       "      <th></th>\n",
       "      <th>longitude</th>\n",
       "      <th>latitude</th>\n",
       "      <th>housing_median_age</th>\n",
       "      <th>total_rooms</th>\n",
       "      <th>total_bedrooms</th>\n",
       "      <th>population</th>\n",
       "      <th>households</th>\n",
       "      <th>median_income</th>\n",
       "      <th>median_house_value</th>\n",
       "      <th>ocean_proximity</th>\n",
       "    </tr>\n",
       "  </thead>\n",
       "  <tbody>\n",
       "    <tr>\n",
       "      <th>0</th>\n",
       "      <td>-122.23</td>\n",
       "      <td>37.88</td>\n",
       "      <td>41.0</td>\n",
       "      <td>880.0</td>\n",
       "      <td>129.0</td>\n",
       "      <td>322.0</td>\n",
       "      <td>126.0</td>\n",
       "      <td>8.3252</td>\n",
       "      <td>452600.0</td>\n",
       "      <td>NEAR BAY</td>\n",
       "    </tr>\n",
       "    <tr>\n",
       "      <th>1</th>\n",
       "      <td>-122.22</td>\n",
       "      <td>37.86</td>\n",
       "      <td>21.0</td>\n",
       "      <td>7099.0</td>\n",
       "      <td>1106.0</td>\n",
       "      <td>2401.0</td>\n",
       "      <td>1138.0</td>\n",
       "      <td>8.3014</td>\n",
       "      <td>358500.0</td>\n",
       "      <td>NEAR BAY</td>\n",
       "    </tr>\n",
       "    <tr>\n",
       "      <th>2</th>\n",
       "      <td>-122.24</td>\n",
       "      <td>37.85</td>\n",
       "      <td>52.0</td>\n",
       "      <td>1467.0</td>\n",
       "      <td>190.0</td>\n",
       "      <td>496.0</td>\n",
       "      <td>177.0</td>\n",
       "      <td>7.2574</td>\n",
       "      <td>352100.0</td>\n",
       "      <td>NEAR BAY</td>\n",
       "    </tr>\n",
       "    <tr>\n",
       "      <th>3</th>\n",
       "      <td>-122.25</td>\n",
       "      <td>37.85</td>\n",
       "      <td>52.0</td>\n",
       "      <td>1274.0</td>\n",
       "      <td>235.0</td>\n",
       "      <td>558.0</td>\n",
       "      <td>219.0</td>\n",
       "      <td>5.6431</td>\n",
       "      <td>341300.0</td>\n",
       "      <td>NEAR BAY</td>\n",
       "    </tr>\n",
       "    <tr>\n",
       "      <th>4</th>\n",
       "      <td>-122.25</td>\n",
       "      <td>37.85</td>\n",
       "      <td>52.0</td>\n",
       "      <td>1627.0</td>\n",
       "      <td>280.0</td>\n",
       "      <td>565.0</td>\n",
       "      <td>259.0</td>\n",
       "      <td>3.8462</td>\n",
       "      <td>342200.0</td>\n",
       "      <td>NEAR BAY</td>\n",
       "    </tr>\n",
       "  </tbody>\n",
       "</table>\n",
       "</div>"
      ]
     },
     "execution_count": 104,
     "metadata": {},
     "output_type": "execute_result"
    }
   ],
   "execution_count": 104
  },
  {
   "metadata": {},
   "cell_type": "code",
   "source": "",
   "outputs": [],
   "execution_count": null
  },
  {
   "metadata": {},
   "cell_type": "code",
   "source": "",
   "outputs": [],
   "execution_count": null
  }
 ],
 "metadata": {
  "kernelspec": {
   "display_name": "Python 3",
   "language": "python",
   "name": "python3"
  },
  "language_info": {
   "codemirror_mode": {
    "name": "ipython",
    "version": 2
   },
   "file_extension": ".py",
   "mimetype": "text/x-python",
   "name": "python",
   "nbconvert_exporter": "python",
   "pygments_lexer": "ipython2",
   "version": "2.7.6"
  }
 },
 "nbformat": 4,
 "nbformat_minor": 0
}
