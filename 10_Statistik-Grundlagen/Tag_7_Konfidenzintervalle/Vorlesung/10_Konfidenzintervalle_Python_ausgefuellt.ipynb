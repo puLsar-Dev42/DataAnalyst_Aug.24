{
 "cells": [
  {
   "cell_type": "markdown",
   "metadata": {},
   "source": "# Einführung Statistik - Konfidenzintervalle"
  },
  {
   "cell_type": "code",
   "metadata": {
    "ExecuteTime": {
     "end_time": "2025-02-12T10:51:35.984150Z",
     "start_time": "2025-02-12T10:51:35.965314Z"
    }
   },
   "source": [
    "# Imports:\n",
    "import pandas as pd\n",
    "import seaborn as sns\n",
    "import scipy.stats as st\n",
    "import statsmodels.stats.api as sms"
   ],
   "outputs": [],
   "execution_count": 2
  },
  {
   "cell_type": "code",
   "metadata": {
    "ExecuteTime": {
     "end_time": "2025-02-12T10:52:29.631316Z",
     "start_time": "2025-02-12T10:52:29.442249Z"
    }
   },
   "source": [
    "# Daten einlesen und fehlende Werte entfernen (Annahme: MCAR):\n",
    "penguins_df = sns.load_dataset('penguins')\n",
    "penguins_df.dropna(inplace=True)\n",
    "penguins_df.head()"
   ],
   "outputs": [
    {
     "data": {
      "text/plain": [
       "  species     island  bill_length_mm  bill_depth_mm  flipper_length_mm  \\\n",
       "0  Adelie  Torgersen            39.1           18.7              181.0   \n",
       "1  Adelie  Torgersen            39.5           17.4              186.0   \n",
       "2  Adelie  Torgersen            40.3           18.0              195.0   \n",
       "4  Adelie  Torgersen            36.7           19.3              193.0   \n",
       "5  Adelie  Torgersen            39.3           20.6              190.0   \n",
       "\n",
       "   body_mass_g     sex  \n",
       "0       3750.0    Male  \n",
       "1       3800.0  Female  \n",
       "2       3250.0  Female  \n",
       "4       3450.0  Female  \n",
       "5       3650.0    Male  "
      ],
      "text/html": [
       "<div>\n",
       "<style scoped>\n",
       "    .dataframe tbody tr th:only-of-type {\n",
       "        vertical-align: middle;\n",
       "    }\n",
       "\n",
       "    .dataframe tbody tr th {\n",
       "        vertical-align: top;\n",
       "    }\n",
       "\n",
       "    .dataframe thead th {\n",
       "        text-align: right;\n",
       "    }\n",
       "</style>\n",
       "<table border=\"1\" class=\"dataframe\">\n",
       "  <thead>\n",
       "    <tr style=\"text-align: right;\">\n",
       "      <th></th>\n",
       "      <th>species</th>\n",
       "      <th>island</th>\n",
       "      <th>bill_length_mm</th>\n",
       "      <th>bill_depth_mm</th>\n",
       "      <th>flipper_length_mm</th>\n",
       "      <th>body_mass_g</th>\n",
       "      <th>sex</th>\n",
       "    </tr>\n",
       "  </thead>\n",
       "  <tbody>\n",
       "    <tr>\n",
       "      <th>0</th>\n",
       "      <td>Adelie</td>\n",
       "      <td>Torgersen</td>\n",
       "      <td>39.1</td>\n",
       "      <td>18.7</td>\n",
       "      <td>181.0</td>\n",
       "      <td>3750.0</td>\n",
       "      <td>Male</td>\n",
       "    </tr>\n",
       "    <tr>\n",
       "      <th>1</th>\n",
       "      <td>Adelie</td>\n",
       "      <td>Torgersen</td>\n",
       "      <td>39.5</td>\n",
       "      <td>17.4</td>\n",
       "      <td>186.0</td>\n",
       "      <td>3800.0</td>\n",
       "      <td>Female</td>\n",
       "    </tr>\n",
       "    <tr>\n",
       "      <th>2</th>\n",
       "      <td>Adelie</td>\n",
       "      <td>Torgersen</td>\n",
       "      <td>40.3</td>\n",
       "      <td>18.0</td>\n",
       "      <td>195.0</td>\n",
       "      <td>3250.0</td>\n",
       "      <td>Female</td>\n",
       "    </tr>\n",
       "    <tr>\n",
       "      <th>4</th>\n",
       "      <td>Adelie</td>\n",
       "      <td>Torgersen</td>\n",
       "      <td>36.7</td>\n",
       "      <td>19.3</td>\n",
       "      <td>193.0</td>\n",
       "      <td>3450.0</td>\n",
       "      <td>Female</td>\n",
       "    </tr>\n",
       "    <tr>\n",
       "      <th>5</th>\n",
       "      <td>Adelie</td>\n",
       "      <td>Torgersen</td>\n",
       "      <td>39.3</td>\n",
       "      <td>20.6</td>\n",
       "      <td>190.0</td>\n",
       "      <td>3650.0</td>\n",
       "      <td>Male</td>\n",
       "    </tr>\n",
       "  </tbody>\n",
       "</table>\n",
       "</div>"
      ]
     },
     "execution_count": 3,
     "metadata": {},
     "output_type": "execute_result"
    }
   ],
   "execution_count": 3
  },
  {
   "cell_type": "code",
   "metadata": {
    "ExecuteTime": {
     "end_time": "2025-02-12T10:52:49.865803Z",
     "start_time": "2025-02-12T10:52:49.860Z"
    }
   },
   "source": [
    "# Uns interessiert folgende Spalte:\n",
    "penguins_df['body_mass_g'].head()"
   ],
   "outputs": [
    {
     "data": {
      "text/plain": [
       "0    3750.0\n",
       "1    3800.0\n",
       "2    3250.0\n",
       "4    3450.0\n",
       "5    3650.0\n",
       "Name: body_mass_g, dtype: float64"
      ]
     },
     "execution_count": 5,
     "metadata": {},
     "output_type": "execute_result"
    }
   ],
   "execution_count": 5
  },
  {
   "metadata": {
    "ExecuteTime": {
     "end_time": "2025-02-12T10:56:24.455848Z",
     "start_time": "2025-02-12T10:56:24.450457Z"
    }
   },
   "cell_type": "code",
   "source": [
    "# Größe der Stichprobe:\n",
    "n = len(penguins_df)\n",
    "print(n)"
   ],
   "outputs": [
    {
     "name": "stdout",
     "output_type": "stream",
     "text": [
      "333\n"
     ]
    }
   ],
   "execution_count": 9
  },
  {
   "metadata": {
    "ExecuteTime": {
     "end_time": "2025-02-12T10:54:14.018818Z",
     "start_time": "2025-02-12T10:54:14.014182Z"
    }
   },
   "cell_type": "code",
   "source": [
    "# Mittelwert der Stichprobe:\n",
    "sample_mean = penguins_df['body_mass_g'].mean()\n",
    "print(sample_mean)"
   ],
   "outputs": [
    {
     "name": "stdout",
     "output_type": "stream",
     "text": [
      "4207.057057057057\n"
     ]
    }
   ],
   "execution_count": 7
  },
  {
   "metadata": {
    "ExecuteTime": {
     "end_time": "2025-02-12T10:55:38.173989Z",
     "start_time": "2025-02-12T10:55:38.167204Z"
    }
   },
   "cell_type": "code",
   "source": [
    "# Standardfehler für Spalte errechnen:\n",
    "std_error = st.sem(penguins_df['body_mass_g'])\n",
    "print(std_error)"
   ],
   "outputs": [
    {
     "name": "stdout",
     "output_type": "stream",
     "text": [
      "44.12555413389445\n"
     ]
    }
   ],
   "execution_count": 8
  },
  {
   "metadata": {},
   "cell_type": "code",
   "outputs": [],
   "execution_count": null,
   "source": "# 1 - alpha/2 = 0.975"
  },
  {
   "metadata": {
    "ExecuteTime": {
     "end_time": "2025-02-12T11:00:09.127334Z",
     "start_time": "2025-02-12T11:00:09.124391Z"
    }
   },
   "cell_type": "code",
   "source": [
    "# z-Wert (hier t-Wert, mit derselben Rolle!) ermitteln:\n",
    "t_val = st.t.ppf(0.975, n -1)  #t_val ist für uns dasselbe wie z-Wert!\n",
    "print(t_val)"
   ],
   "outputs": [
    {
     "name": "stdout",
     "output_type": "stream",
     "text": [
      "1.9671350567188735\n"
     ]
    }
   ],
   "execution_count": 11
  },
  {
   "metadata": {
    "ExecuteTime": {
     "end_time": "2025-02-12T11:01:12.079187Z",
     "start_time": "2025-02-12T11:01:12.075260Z"
    }
   },
   "cell_type": "code",
   "source": [
    "# Unteres Intervallende:\n",
    "lower_bound = sample_mean - t_val * std_error\n",
    "print(lower_bound)"
   ],
   "outputs": [
    {
     "name": "stdout",
     "output_type": "stream",
     "text": [
      "4120.256132623127\n"
     ]
    }
   ],
   "execution_count": 12
  },
  {
   "metadata": {
    "ExecuteTime": {
     "end_time": "2025-02-12T11:01:38.659077Z",
     "start_time": "2025-02-12T11:01:38.654816Z"
    }
   },
   "cell_type": "code",
   "source": [
    "# Oberes Intervallende:\n",
    "upper_bound = sample_mean + t_val * std_error\n",
    "print(upper_bound)"
   ],
   "outputs": [
    {
     "name": "stdout",
     "output_type": "stream",
     "text": [
      "4293.857981490987\n"
     ]
    }
   ],
   "execution_count": 13
  },
  {
   "metadata": {
    "ExecuteTime": {
     "end_time": "2025-02-12T11:05:10.487949Z",
     "start_time": "2025-02-12T11:05:10.483475Z"
    }
   },
   "cell_type": "code",
   "source": [
    "# Das Ganze als Funktion:\n",
    "def mean_confidence_interval(series: pd.Series, confidence: float=0.95) -> tuple:\n",
    "    alpha = 1 - confidence\n",
    "    mean = series.mean()\n",
    "    n = len(series)\n",
    "    std_error = st.sem(series)\n",
    "    t_val = st.t.ppf(1 - alpha/2, n - 1)\n",
    "    lower_bound = mean - t_val * std_error\n",
    "    upper_bound = mean + t_val * std_error\n",
    "    return lower_bound, upper_bound"
   ],
   "outputs": [],
   "execution_count": 14
  },
  {
   "metadata": {
    "ExecuteTime": {
     "end_time": "2025-02-12T11:05:37.219658Z",
     "start_time": "2025-02-12T11:05:37.212731Z"
    }
   },
   "cell_type": "code",
   "source": "mean_confidence_interval(penguins_df['body_mass_g'])",
   "outputs": [
    {
     "data": {
      "text/plain": [
       "(np.float64(4120.256132623127), np.float64(4293.857981490987))"
      ]
     },
     "execution_count": 15,
     "metadata": {},
     "output_type": "execute_result"
    }
   ],
   "execution_count": 15
  },
  {
   "cell_type": "code",
   "metadata": {
    "ExecuteTime": {
     "end_time": "2025-02-12T11:07:45.915063Z",
     "start_time": "2025-02-12T11:07:45.909492Z"
    }
   },
   "source": [
    "# Option 2: Rechnen per mit einer scipy-Funktion:\n",
    "st.t.interval(\n",
    "    0.95,\n",
    "    n - 1,\n",
    "    loc=sample_mean,\n",
    "    scale=std_error,\n",
    ")"
   ],
   "outputs": [
    {
     "data": {
      "text/plain": [
       "(np.float64(4120.256132623127), np.float64(4293.857981490987))"
      ]
     },
     "execution_count": 16,
     "metadata": {},
     "output_type": "execute_result"
    }
   ],
   "execution_count": 16
  },
  {
   "cell_type": "code",
   "metadata": {
    "ExecuteTime": {
     "end_time": "2025-02-12T11:11:43.160176Z",
     "start_time": "2025-02-12T11:11:43.154074Z"
    }
   },
   "source": [
    "# Alternativ mit statsmodels:\n",
    "sms.DescrStatsW(penguins_df['body_mass_g']).tconfint_mean()  # standardmäßig alpha bei 0.05"
   ],
   "outputs": [
    {
     "data": {
      "text/plain": [
       "(np.float64(4092.740160248099), np.float64(4321.373953866015))"
      ]
     },
     "execution_count": 19,
     "metadata": {},
     "output_type": "execute_result"
    }
   ],
   "execution_count": 19
  },
  {
   "metadata": {},
   "cell_type": "code",
   "outputs": [],
   "execution_count": null,
   "source": "sms.DescrStatsW(penguins_df['body_mass_g']).tconfint_mean(alpha=0.01)  # Für 99%-KI."
  }
 ],
 "metadata": {
  "kernelspec": {
   "display_name": "Python 3",
   "language": "python",
   "name": "python3"
  },
  "language_info": {
   "codemirror_mode": {
    "name": "ipython",
    "version": 3
   },
   "file_extension": ".py",
   "mimetype": "text/x-python",
   "name": "python",
   "nbconvert_exporter": "python",
   "pygments_lexer": "ipython3",
   "version": "3.11.1"
  }
 },
 "nbformat": 4,
 "nbformat_minor": 2
}
