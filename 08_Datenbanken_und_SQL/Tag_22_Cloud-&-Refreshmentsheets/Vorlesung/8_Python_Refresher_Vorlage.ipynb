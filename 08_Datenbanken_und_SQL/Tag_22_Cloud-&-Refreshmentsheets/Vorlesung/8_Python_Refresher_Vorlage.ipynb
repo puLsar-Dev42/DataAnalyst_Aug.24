{
 "cells": [
  {
   "cell_type": "code",
   "source": [
    "import numpy as np\n",
    "from datetime import datetime\n",
    "from time import sleep"
   ],
   "metadata": {
    "collapsed": false,
    "ExecuteTime": {
     "end_time": "2025-01-09T10:10:04.224550Z",
     "start_time": "2025-01-09T10:10:04.055462Z"
    }
   },
   "id": "e211590c8cdcf7d6",
   "outputs": [],
   "execution_count": 1
  },
  {
   "cell_type": "markdown",
   "source": [
    "# Datentypen und Loops"
   ],
   "metadata": {
    "collapsed": false
   },
   "id": "24c1521a66f43b1"
  },
  {
   "cell_type": "code",
   "execution_count": null,
   "id": "initial_id",
   "metadata": {
    "collapsed": true
   },
   "outputs": [],
   "source": [
    "# Welche Datentypen gibt es?"
   ]
  },
  {
   "cell_type": "code",
   "execution_count": null,
   "outputs": [],
   "source": "# int, float, str, bool, list, set, dict, tuple, range, NoneType",
   "metadata": {
    "collapsed": false
   },
   "id": "5fc262e99d719471"
  },
  {
   "cell_type": "code",
   "source": [
    "zahl = 3\n",
    "gleitkommazahl = 7.6\n",
    "komische_liste = ['Anna', 'Bella', 3.7, True, 4, {'Pikachu': '500 HP'}, 'Tina',\n",
    "\t\t\t\t  ['Hallo', 'wo', 'zum', 'Teufel', 'bin', 'ich?',\n",
    "\t\t\t\t   ['Die Antwort ist', [], 42, 'hab', 'ich', 'gehört']]]\n",
    "mein_tupel = ('Hallo', 'Datacraft', 2023)\n",
    "nix = None"
   ],
   "metadata": {
    "collapsed": false,
    "ExecuteTime": {
     "end_time": "2025-01-09T10:41:39.633818Z",
     "start_time": "2025-01-09T10:41:39.626821Z"
    }
   },
   "id": "2a4094fb34e38fb6",
   "outputs": [],
   "execution_count": 26
  },
  {
   "cell_type": "code",
   "execution_count": null,
   "outputs": [],
   "source": [
    "# Datentypen prüfen:"
   ],
   "metadata": {
    "collapsed": false
   },
   "id": "5fdff97020037745"
  },
  {
   "cell_type": "code",
   "source": [
    "print(type(zahl))\n",
    "print(type(gleitkommazahl))\n",
    "print(type(komische_liste))\n",
    "print(type(mein_tupel))\n",
    "print(type(nix))"
   ],
   "metadata": {
    "collapsed": false,
    "ExecuteTime": {
     "end_time": "2025-01-09T10:11:52.386223Z",
     "start_time": "2025-01-09T10:11:52.379552Z"
    }
   },
   "id": "fb6cc868d45e0b",
   "outputs": [
    {
     "name": "stdout",
     "output_type": "stream",
     "text": [
      "<class 'int'>\n",
      "<class 'float'>\n",
      "<class 'list'>\n",
      "<class 'tuple'>\n",
      "<class 'NoneType'>\n"
     ]
    }
   ],
   "execution_count": 6
  },
  {
   "cell_type": "code",
   "execution_count": null,
   "outputs": [],
   "source": [
    "# Casting: Gleitkommazahl in Ganzzahl und umgekehrt umwandeln."
   ],
   "metadata": {
    "collapsed": false
   },
   "id": "19c919db521bd1c5"
  },
  {
   "cell_type": "code",
   "source": [
    "print(int(gleitkommazahl))\n",
    "print(float(zahl))"
   ],
   "metadata": {
    "collapsed": false,
    "ExecuteTime": {
     "end_time": "2025-01-09T10:13:37.151688Z",
     "start_time": "2025-01-09T10:13:37.145685Z"
    }
   },
   "id": "adad4cfd944bf653",
   "outputs": [
    {
     "name": "stdout",
     "output_type": "stream",
     "text": [
      "7\n",
      "3.0\n"
     ]
    }
   ],
   "execution_count": 8
  },
  {
   "cell_type": "markdown",
   "source": [
    "#### ÜBUNG: \n",
    "Bestimme Datentypen und wandle dann um.\n",
    "Erkläre, wo bestimmte Umwandlungen nicht klappen."
   ],
   "metadata": {
    "collapsed": false
   },
   "id": "a06c0c3166288e0f"
  },
  {
   "cell_type": "code",
   "source": [
    "xyz = 42  # > float\n",
    "print(float(xyz))\n",
    "\n",
    "numstr = '164'  # > int\n",
    "print(int(numstr))\n",
    "\n",
    "das_nichts = None  # > string\n",
    "print(str(das_nichts))\n",
    "\n",
    "greetz = 'Hello'  # > int\n",
    "print(int(greetz))  # man kann keine str in einen int umwandeln,\n",
    "# sie enthält keinen numerischen wert der als int interpretiert werden könnte\n",
    "\n",
    "noch_so_ne_zahl = 3  # > Multipliziere mit 'greetz'\n",
    "print(3 * greetz)"
   ],
   "metadata": {
    "collapsed": false,
    "ExecuteTime": {
     "end_time": "2025-01-09T10:24:04.728852Z",
     "start_time": "2025-01-09T10:24:04.721718Z"
    }
   },
   "id": "8ec225f20041599d",
   "outputs": [
    {
     "name": "stdout",
     "output_type": "stream",
     "text": [
      "42.0\n",
      "164\n",
      "None\n",
      "HelloHelloHello\n"
     ]
    }
   ],
   "execution_count": 11
  },
  {
   "cell_type": "code",
   "source": [
    "# In 'mein_tupel' Datacraft durch Valentin ersetzen. Geht das?\n",
    "# tuple sind unveränderlich, daher geht das nicht"
   ],
   "metadata": {
    "collapsed": false,
    "ExecuteTime": {
     "end_time": "2025-01-09T10:25:56.968570Z",
     "start_time": "2025-01-09T10:25:56.953286Z"
    }
   },
   "id": "796b5a36228c3032",
   "outputs": [
    {
     "ename": "TypeError",
     "evalue": "'tuple' object does not support item assignment",
     "output_type": "error",
     "traceback": [
      "\u001B[1;31m---------------------------------------------------------------------------\u001B[0m",
      "\u001B[1;31mTypeError\u001B[0m                                 Traceback (most recent call last)",
      "Cell \u001B[1;32mIn[12], line 2\u001B[0m\n\u001B[0;32m      1\u001B[0m \u001B[38;5;66;03m# In 'mein_tupel' Datacraft durch Valentin ersetzen. Geht das?\u001B[39;00m\n\u001B[1;32m----> 2\u001B[0m \u001B[43mmein_tupel\u001B[49m\u001B[43m[\u001B[49m\u001B[38;5;241;43m1\u001B[39;49m\u001B[43m]\u001B[49m \u001B[38;5;241m=\u001B[39m \u001B[38;5;124m\"\u001B[39m\u001B[38;5;124mValentin\u001B[39m\u001B[38;5;124m\"\u001B[39m\n",
      "\u001B[1;31mTypeError\u001B[0m: 'tuple' object does not support item assignment"
     ]
    }
   ],
   "execution_count": 12
  },
  {
   "cell_type": "code",
   "source": [
    "# Wie lang ist unsere 'komische_liste'?\n",
    "len(komische_liste)"
   ],
   "metadata": {
    "collapsed": false,
    "ExecuteTime": {
     "end_time": "2025-01-09T10:30:45.762018Z",
     "start_time": "2025-01-09T10:30:45.755056Z"
    }
   },
   "id": "5b777c8391aab878",
   "outputs": [
    {
     "data": {
      "text/plain": [
       "8"
      ]
     },
     "execution_count": 18,
     "metadata": {},
     "output_type": "execute_result"
    }
   ],
   "execution_count": 18
  },
  {
   "cell_type": "code",
   "source": [
    "# Wie greife ich das True in der Liste?\n",
    "komische_liste[3]"
   ],
   "metadata": {
    "collapsed": false,
    "ExecuteTime": {
     "end_time": "2025-01-09T10:30:39.961099Z",
     "start_time": "2025-01-09T10:30:39.955301Z"
    }
   },
   "id": "92b8bba69948f6cd",
   "outputs": [
    {
     "data": {
      "text/plain": [
       "True"
      ]
     },
     "execution_count": 17,
     "metadata": {},
     "output_type": "execute_result"
    }
   ],
   "execution_count": 17
  },
  {
   "cell_type": "code",
   "source": [
    "# Wie ermittle ich die Position des True?\n",
    "komische_liste.index(True)"
   ],
   "metadata": {
    "collapsed": false,
    "ExecuteTime": {
     "end_time": "2025-01-09T10:30:31.174331Z",
     "start_time": "2025-01-09T10:30:31.166182Z"
    }
   },
   "id": "694ea2295c410a8b",
   "outputs": [
    {
     "data": {
      "text/plain": [
       "3"
      ]
     },
     "execution_count": 16,
     "metadata": {},
     "output_type": "execute_result"
    }
   ],
   "execution_count": 16
  },
  {
   "cell_type": "code",
   "source": [
    "# Wie greife ich mir die komische verschachtelte Liste am Ende der Liste zu?\n",
    "komische_liste[-1]"
   ],
   "metadata": {
    "collapsed": false,
    "ExecuteTime": {
     "end_time": "2025-01-09T10:32:50.001388Z",
     "start_time": "2025-01-09T10:32:49.994029Z"
    }
   },
   "id": "7f6cfab0a7c0f847",
   "outputs": [
    {
     "data": {
      "text/plain": [
       "['Hallo',\n",
       " 'wo',\n",
       " 'zum',\n",
       " 'Teufel',\n",
       " 'bin',\n",
       " 'ich?',\n",
       " ['Die Antwort ist', [], 42, 'hab', 'ich', 'gehört']]"
      ]
     },
     "execution_count": 19,
     "metadata": {},
     "output_type": "execute_result"
    }
   ],
   "execution_count": 19
  },
  {
   "cell_type": "code",
   "source": [
    "# Wie greife ich auf die Liste in dieser Liste zu?\n",
    "komische_liste[-1][-1]"
   ],
   "metadata": {
    "collapsed": false,
    "ExecuteTime": {
     "end_time": "2025-01-09T10:33:53.816385Z",
     "start_time": "2025-01-09T10:33:53.808993Z"
    }
   },
   "id": "83d3b00e11dc33f2",
   "outputs": [
    {
     "data": {
      "text/plain": [
       "['Die Antwort ist', [], 42, 'hab', 'ich', 'gehört']"
      ]
     },
     "execution_count": 20,
     "metadata": {},
     "output_type": "execute_result"
    }
   ],
   "execution_count": 20
  },
  {
   "cell_type": "code",
   "source": [
    "# Wie greife ich auf die Zahl 42 zu?\n",
    "komische_liste[-1][-1][2]"
   ],
   "metadata": {
    "collapsed": false,
    "ExecuteTime": {
     "end_time": "2025-01-09T10:34:23.921525Z",
     "start_time": "2025-01-09T10:34:23.915054Z"
    }
   },
   "id": "7b0a0535c959ef7e",
   "outputs": [
    {
     "data": {
      "text/plain": [
       "42"
      ]
     },
     "execution_count": 21,
     "metadata": {},
     "output_type": "execute_result"
    }
   ],
   "execution_count": 21
  },
  {
   "cell_type": "code",
   "source": [
    "# Einträge in Liste verändern. Bella in Tina umwandeln.\n",
    "komische_liste[1] = 'Tina'\n",
    "komische_liste"
   ],
   "metadata": {
    "collapsed": false,
    "ExecuteTime": {
     "end_time": "2025-01-09T10:41:52.219411Z",
     "start_time": "2025-01-09T10:41:52.213878Z"
    }
   },
   "id": "a3244a39172fb53b",
   "outputs": [
    {
     "data": {
      "text/plain": [
       "['Anna',\n",
       " 'Tina',\n",
       " 3.7,\n",
       " True,\n",
       " 4,\n",
       " {'Pikachu': '500 HP'},\n",
       " 'Tina',\n",
       " ['Hallo',\n",
       "  'wo',\n",
       "  'zum',\n",
       "  'Teufel',\n",
       "  'bin',\n",
       "  'ich?',\n",
       "  ['Die Antwort ist', [], 42, 'hab', 'ich', 'gehört']]]"
      ]
     },
     "execution_count": 27,
     "metadata": {},
     "output_type": "execute_result"
    }
   ],
   "execution_count": 27
  },
  {
   "cell_type": "code",
   "source": [
    "# Einträge in Liste verändern. Pikachu 1000 HP geben ;)\n",
    "komische_liste[5]['Pikachu'] = '1000 HP'\n",
    "komische_liste[5]"
   ],
   "metadata": {
    "collapsed": false,
    "ExecuteTime": {
     "end_time": "2025-01-09T10:42:11.121569Z",
     "start_time": "2025-01-09T10:42:11.115129Z"
    }
   },
   "id": "39d47f6467db9068",
   "outputs": [
    {
     "data": {
      "text/plain": [
       "{'Pikachu': '1000 HP'}"
      ]
     },
     "execution_count": 28,
     "metadata": {},
     "output_type": "execute_result"
    }
   ],
   "execution_count": 28
  },
  {
   "cell_type": "code",
   "source": [
    "# Liste anschauen\n",
    "komische_liste"
   ],
   "metadata": {
    "collapsed": false,
    "ExecuteTime": {
     "end_time": "2025-01-09T10:42:18.921709Z",
     "start_time": "2025-01-09T10:42:18.915650Z"
    }
   },
   "id": "da076169e9d0e5b2",
   "outputs": [
    {
     "data": {
      "text/plain": [
       "['Anna',\n",
       " 'Tina',\n",
       " 3.7,\n",
       " True,\n",
       " 4,\n",
       " {'Pikachu': '1000 HP'},\n",
       " 'Tina',\n",
       " ['Hallo',\n",
       "  'wo',\n",
       "  'zum',\n",
       "  'Teufel',\n",
       "  'bin',\n",
       "  'ich?',\n",
       "  ['Die Antwort ist', [], 42, 'hab', 'ich', 'gehört']]]"
      ]
     },
     "execution_count": 29,
     "metadata": {},
     "output_type": "execute_result"
    }
   ],
   "execution_count": 29
  },
  {
   "cell_type": "code",
   "execution_count": null,
   "outputs": [],
   "source": [
    "# Indexposition von Tina bestimmen"
   ],
   "metadata": {
    "collapsed": false
   },
   "id": "b33b660b63523c49"
  },
  {
   "cell_type": "code",
   "source": [
    "wert = 'Tina'\n",
    "\n",
    "indices = []\n",
    "for i, v in enumerate(komische_liste):\n",
    "\tif v == wert:\n",
    "\t\tindices.append(i)\n",
    "\n",
    "print(indices)"
   ],
   "metadata": {
    "collapsed": false,
    "ExecuteTime": {
     "end_time": "2025-01-09T10:48:27.260647Z",
     "start_time": "2025-01-09T10:48:27.254720Z"
    }
   },
   "id": "63b5defbe6ae1165",
   "outputs": [
    {
     "name": "stdout",
     "output_type": "stream",
     "text": [
      "[1, 6]\n"
     ]
    }
   ],
   "execution_count": 31
  },
  {
   "cell_type": "code",
   "execution_count": null,
   "outputs": [],
   "source": [
    "# Was fällt auf?\n",
    "# er hört nach der ersten Tina auf zu suchen"
   ],
   "metadata": {
    "collapsed": false
   },
   "id": "e35ed1038ff94630"
  },
  {
   "cell_type": "code",
   "execution_count": null,
   "outputs": [],
   "source": [],
   "metadata": {
    "collapsed": false
   },
   "id": "b52d3880e688df5e"
  },
  {
   "cell_type": "code",
   "outputs": [],
   "source": [
    "# Welche iterierbaren Datentypen gibt es?\n",
    "# "
   ],
   "metadata": {
    "collapsed": false
   },
   "id": "2e9f894b6d011839",
   "execution_count": null
  },
  {
   "cell_type": "code",
   "outputs": [],
   "source": [
    "# Mit hasattr() Attribute prüfen:\n",
    "print('Welcher Datentyp ist iterierbar?')\n"
   ],
   "metadata": {
    "collapsed": false
   },
   "id": "37d5b26c42131ffd",
   "execution_count": null
  },
  {
   "cell_type": "code",
   "outputs": [],
   "source": [
    "# Sets\n"
   ],
   "metadata": {
    "collapsed": false
   },
   "id": "7622fcfae6ca8f5f",
   "execution_count": null
  },
  {
   "cell_type": "code",
   "outputs": [],
   "source": [],
   "metadata": {
    "collapsed": false
   },
   "id": "260799b2a19440dd",
   "execution_count": null
  },
  {
   "cell_type": "markdown",
   "source": [
    "### For-Loop und List Comprehensions"
   ],
   "metadata": {
    "collapsed": false
   },
   "id": "c66ccbc5cfb5fc76"
  },
  {
   "cell_type": "code",
   "execution_count": null,
   "outputs": [],
   "source": [],
   "metadata": {
    "collapsed": false
   },
   "id": "d95875392883ecfe"
  },
  {
   "cell_type": "code",
   "outputs": [],
   "source": [],
   "metadata": {
    "collapsed": false
   },
   "id": "83dfca766503763c",
   "execution_count": null
  },
  {
   "cell_type": "markdown",
   "source": [
    "#### ÜBUNG: \n",
    "Gegeben ist folgende Liste: ['Anna', 'Tina', 'Anton', 'Lana', 'Anna', 'Toni', Minna', 'Lena', 'Hanna']\n",
    "Einfach: Finde mittels For-Loop alle Positionen, an denen 'Anna' vorkommt\n",
    "Etwas schwieriger: Finde mittels For-Loop alle Positionen von Strings, die mit 'nna' enden."
   ],
   "metadata": {
    "collapsed": false
   },
   "id": "dd24895396d04acd"
  },
  {
   "cell_type": "code",
   "outputs": [],
   "source": [],
   "metadata": {
    "collapsed": false
   },
   "id": "d9bb12eedcecb3b2",
   "execution_count": null
  },
  {
   "cell_type": "code",
   "outputs": [],
   "source": [],
   "metadata": {
    "collapsed": false
   },
   "id": "85e44c6d04d04956",
   "execution_count": null
  },
  {
   "cell_type": "code",
   "execution_count": null,
   "outputs": [],
   "source": [
    "# Mit List Comprehension"
   ],
   "metadata": {
    "collapsed": false
   },
   "id": "94fb9589a389000b"
  },
  {
   "cell_type": "code",
   "execution_count": null,
   "outputs": [],
   "source": [],
   "metadata": {
    "collapsed": false
   },
   "id": "cbc8af3c2c0b3e99"
  },
  {
   "cell_type": "code",
   "execution_count": null,
   "outputs": [],
   "source": [
    "# Mit numpy"
   ],
   "metadata": {
    "collapsed": false
   },
   "id": "8359760550843135"
  },
  {
   "cell_type": "code",
   "execution_count": null,
   "outputs": [],
   "source": [],
   "metadata": {
    "collapsed": false
   },
   "id": "b52fd6410cbc297f"
  },
  {
   "cell_type": "code",
   "execution_count": null,
   "outputs": [],
   "source": [
    "# Das letzte Vorkommnis von 'Tina'"
   ],
   "metadata": {
    "collapsed": false
   },
   "id": "1a901f691b661512"
  },
  {
   "cell_type": "code",
   "execution_count": null,
   "outputs": [],
   "source": [],
   "metadata": {
    "collapsed": false
   },
   "id": "2da4220414054a3e"
  },
  {
   "cell_type": "code",
   "execution_count": null,
   "outputs": [],
   "source": [
    "# Anzahl der Vorkommnisse ermitteln?\n"
   ],
   "metadata": {
    "collapsed": false
   },
   "id": "d0414698d770c387"
  },
  {
   "cell_type": "markdown",
   "source": [
    "#### ÜBUNG: \n",
    "Du hast eine Liste von Preisen: [12, 10, 80, 65, 14, 5, 12]\n",
    "Es gibt eine Rabattaktion. Senke alle Elemente in der Liste um 20 Prozent.\n",
    "Benutze hierfür list comprehension. Runde auf zwei Nachkommastellen.\n"
   ],
   "metadata": {
    "collapsed": false
   },
   "id": "d7dd6f2d34b10cd9"
  },
  {
   "cell_type": "code",
   "outputs": [],
   "source": [],
   "metadata": {
    "collapsed": false
   },
   "id": "3db238ed8d3c434d",
   "execution_count": null
  },
  {
   "cell_type": "markdown",
   "source": [
    "### Dictionaries"
   ],
   "metadata": {
    "collapsed": false
   },
   "id": "91aae739cd284f36"
  },
  {
   "cell_type": "code",
   "outputs": [],
   "source": [
    "# Mehr Dictionaries\n"
   ],
   "metadata": {
    "collapsed": false
   },
   "id": "d7022c7927eecb92",
   "execution_count": null
  },
  {
   "cell_type": "code",
   "outputs": [],
   "source": [],
   "metadata": {
    "collapsed": false
   },
   "id": "f30a2f425c8592ec",
   "execution_count": null
  },
  {
   "cell_type": "code",
   "outputs": [],
   "source": [
    "# Wie fügt man dem Ganzen einen Eintrag 'haustier' mit Wert 'Hund' hinzu?\n"
   ],
   "metadata": {
    "collapsed": false
   },
   "id": "7a3730b3ea97cd8f",
   "execution_count": null
  },
  {
   "cell_type": "code",
   "outputs": [],
   "source": [
    "# Wie erhöht man das Alter Annas von 30 auf 31?\n"
   ],
   "metadata": {
    "collapsed": false
   },
   "id": "36e89f289fae52c7",
   "execution_count": null
  },
  {
   "cell_type": "code",
   "outputs": [],
   "source": [
    "# Wie entfernt man die Information zum Verheiratet-Status?\n"
   ],
   "metadata": {
    "collapsed": false
   },
   "id": "437921bdd77605a",
   "execution_count": null
  },
  {
   "cell_type": "code",
   "outputs": [],
   "source": [],
   "metadata": {
    "collapsed": false
   },
   "id": "d2ac06fed1aa9f88",
   "execution_count": null
  },
  {
   "cell_type": "code",
   "outputs": [],
   "source": [],
   "metadata": {
    "collapsed": false
   },
   "id": "c7c18ef6a4c4df6b",
   "execution_count": null
  },
  {
   "cell_type": "code",
   "outputs": [],
   "source": [
    "# Füge dem Dictionary einen weiteren Eintrag 'lieblingsessen' hinzu mit dem Wert 'Chinesisch':\n"
   ],
   "metadata": {
    "collapsed": false
   },
   "id": "6c71473d973872b4",
   "execution_count": null
  },
  {
   "cell_type": "code",
   "outputs": [],
   "source": [
    "# Anna hat zugelegt. Erhöhe das Gewicht auf 95.5 kg:\n"
   ],
   "metadata": {
    "collapsed": false
   },
   "id": "177652bd0fa93204",
   "execution_count": null
  },
  {
   "cell_type": "code",
   "outputs": [],
   "source": [
    "# Der Hund ist gestorben... Entferne das Haustier:\n"
   ],
   "metadata": {
    "collapsed": false
   },
   "id": "e394c221677e9079",
   "execution_count": null
  },
  {
   "cell_type": "code",
   "outputs": [],
   "source": [
    "# Anna geht nicht mehr gern tanzen. Entferne dieses Hobby. \n"
   ],
   "metadata": {
    "collapsed": false
   },
   "id": "f7392cc5c6c02325",
   "execution_count": null
  },
  {
   "cell_type": "code",
   "outputs": [],
   "source": [
    "# Füge stattdessen das Hobby 'Musizieren' hinzu:\n"
   ],
   "metadata": {
    "collapsed": false
   },
   "id": "985e7e5246fea7fe",
   "execution_count": null
  },
  {
   "cell_type": "code",
   "outputs": [],
   "source": [
    "# Schaue dir ihre Hobbies an:\n"
   ],
   "metadata": {
    "collapsed": false
   },
   "id": "7f5bc4b67450e3b8",
   "execution_count": null
  },
  {
   "cell_type": "code",
   "execution_count": null,
   "outputs": [],
   "source": [
    "# While Loop bauen      "
   ],
   "metadata": {
    "collapsed": false
   },
   "id": "a653deee0d0f5ac5"
  },
  {
   "cell_type": "code",
   "execution_count": null,
   "outputs": [],
   "source": [
    "# Ein Counter zählt bis 20, wenn 20 erreicht ist, wird \"Vorbei\" ausgegeben.\n",
    "\n"
   ],
   "metadata": {
    "collapsed": false
   },
   "id": "374be5a6c375dd8e"
  },
  {
   "cell_type": "code",
   "execution_count": null,
   "outputs": [],
   "source": [
    "# Alle drei Sekunden wird geprüft, ob eine Ziel-Uhrzeit erreicht wurde.\n",
    "# Solange sie nicht erreicht ist, erscheint die Nachricht \"Zu früh\".\n",
    "# Wenn sie erreicht ist, lautet die Botschaft \"Hurra!\"\n",
    "\n"
   ],
   "metadata": {
    "collapsed": false
   },
   "id": "6097076a3d2966cc"
  },
  {
   "cell_type": "markdown",
   "source": [
    "#### ÜBUNG: \n",
    "Schreibe eine \"Besserungsloop\". Der Nutzer wird so lange gefragt, wie es ihm geht, bis er 'gut' eingibt. Wenn er 'gut' eingegeben hat, kriegt er als Antwort: \"Na also, geht doch.\" Und die Loop hört auf."
   ],
   "metadata": {
    "collapsed": false
   },
   "id": "a8d105c50e410ad3"
  },
  {
   "cell_type": "code",
   "execution_count": 1,
   "outputs": [],
   "source": [],
   "metadata": {
    "collapsed": false,
    "ExecuteTime": {
     "end_time": "2024-03-13T20:51:47.692681Z",
     "start_time": "2024-03-13T20:51:47.686469Z"
    }
   },
   "id": "e42e915fba540f7f"
  },
  {
   "cell_type": "markdown",
   "source": [
    "## Funktionen"
   ],
   "metadata": {
    "collapsed": false
   },
   "id": "d827810e3c609677"
  },
  {
   "cell_type": "code",
   "outputs": [],
   "source": [
    "# Schreibe eine Funktion, die den BMI eines Menschen errechnet:\n",
    "\n"
   ],
   "metadata": {
    "collapsed": false
   },
   "id": "ccfb55918e1840dd",
   "execution_count": null
  },
  {
   "cell_type": "code",
   "outputs": [],
   "source": [
    "# Schreibe eine Funktion, die Fuß in Zentimeter umrechnet.\n",
    "# Rechne dann 5 Fuß in Zentimeter um.\n",
    "\n"
   ],
   "metadata": {
    "collapsed": false
   },
   "id": "fe3847b6f13174d7",
   "execution_count": null
  },
  {
   "cell_type": "code",
   "outputs": [],
   "source": [],
   "metadata": {
    "collapsed": false
   },
   "id": "2c2937503334a6e0",
   "execution_count": null
  },
  {
   "cell_type": "code",
   "outputs": [],
   "source": [
    "# Schreibe eine Funktion, die Fuß in Zentimeter umrechnet:\n",
    "# Optional: Führe einen Parameter inverse um, über den man die Berechnung umdrehen kann.\n",
    "\n"
   ],
   "metadata": {
    "collapsed": false
   },
   "id": "565c4a6e1661ac25",
   "execution_count": null
  },
  {
   "cell_type": "code",
   "outputs": [],
   "source": [
    "\n"
   ],
   "metadata": {
    "collapsed": false
   },
   "id": "1b086cbbcf673a71",
   "execution_count": null
  },
  {
   "cell_type": "code",
   "outputs": [],
   "source": [
    "# Schreibe eine Funktion, die die Anzahl von Worten in einem Text zählt:\n",
    "\n"
   ],
   "metadata": {
    "collapsed": false
   },
   "id": "6a2e13e988590b39",
   "execution_count": null
  },
  {
   "cell_type": "code",
   "outputs": [],
   "source": [
    "\n"
   ],
   "metadata": {
    "collapsed": false
   },
   "id": "a2069d9ed3afdbdd",
   "execution_count": null
  },
  {
   "cell_type": "code",
   "outputs": [],
   "source": [
    "# Schreibe eine Funktion, die die Anzahl von Worten in einem Text zählt\n",
    "\n"
   ],
   "metadata": {
    "collapsed": false
   },
   "id": "45d73416eb219cab",
   "execution_count": null
  },
  {
   "cell_type": "code",
   "outputs": [],
   "source": [
    "\n"
   ],
   "metadata": {
    "collapsed": false
   },
   "id": "c60d5b39b49dc48",
   "execution_count": null
  },
  {
   "cell_type": "code",
   "outputs": [],
   "source": [
    "# Schreibe eine Funktion, die alle Satzzeichen in einem String entfernt\n",
    "# und ihn dann erst in einzelne Token auftrennt:\n",
    "\n"
   ],
   "metadata": {
    "collapsed": false
   },
   "id": "7cf7d6b4f42fe302",
   "execution_count": null
  },
  {
   "cell_type": "code",
   "outputs": [],
   "source": [
    "absatz = '''Wir stellen Dir die Hardware\n",
    "kostenlos zur Verfügung.\n",
    "\n",
    "Du bekommst von uns kostenlos einen leistungsstarken Laptop zur Verfügung gestellt, den Du sogar bei erfolgreichem Bestehen des Kurses behalten darfst.\n",
    "\n",
    "Um Dir Deinen Start maximal zu erleichtern ist dieser bereits vollumfänglich konfiguriert und enthält alle relevanten Programme und Einstellungen.'''"
   ],
   "metadata": {
    "collapsed": false
   },
   "id": "c24f0298bc30d133",
   "execution_count": null
  },
  {
   "cell_type": "code",
   "outputs": [],
   "source": [],
   "metadata": {
    "collapsed": false
   },
   "id": "b0f4eae9bf39c47c",
   "execution_count": null
  },
  {
   "cell_type": "code",
   "outputs": [],
   "source": [
    "# Schreibe eine Funktion, die dir ausrechnet, wie viel Geld du pro Tag hast.\n",
    "# Der Nutzer übergibt den aktuellen Kontostand und die Funktion ermittelt, wie viele\n",
    "# Tage noch bis Monatsende sind und berechnet dann den Betrag, der pro Tag verfügbar ist.\n",
    "# Der aktuelle Tag soll auch als vollwertiger Tag in die Berechnung einfließen.\n",
    "# Die Funktion soll nur für Werte über 0 sinnvolle Zahlen ausspucken.\n",
    "# In allen anderen Fällen soll sie den Nutzer darüber informieren, dass er kein Geld zur Verfügung hat.\n",
    "\n"
   ],
   "metadata": {
    "collapsed": false
   },
   "id": "6dedde42644242a4",
   "execution_count": null
  },
  {
   "cell_type": "code",
   "outputs": [],
   "source": [],
   "metadata": {
    "collapsed": false
   },
   "id": "9716b8c9577d13f8",
   "execution_count": null
  },
  {
   "cell_type": "code",
   "outputs": [],
   "source": [],
   "metadata": {
    "collapsed": false
   },
   "id": "eb9ffb8948d5de48",
   "execution_count": null
  }
 ],
 "metadata": {
  "kernelspec": {
   "display_name": "Python 3",
   "language": "python",
   "name": "python3"
  },
  "language_info": {
   "codemirror_mode": {
    "name": "ipython",
    "version": 2
   },
   "file_extension": ".py",
   "mimetype": "text/x-python",
   "name": "python",
   "nbconvert_exporter": "python",
   "pygments_lexer": "ipython2",
   "version": "2.7.6"
  }
 },
 "nbformat": 4,
 "nbformat_minor": 5
}
