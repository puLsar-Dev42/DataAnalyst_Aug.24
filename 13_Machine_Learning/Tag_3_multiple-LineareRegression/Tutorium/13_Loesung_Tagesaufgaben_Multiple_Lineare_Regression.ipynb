{
 "cells": [
  {
   "cell_type": "markdown",
   "source": "<center><h1 style=\"font-size:2em;color:#2467C0;font-family:Times New Roman\">Tagesaufgaben: Multiple Lineare Regression</h1></center>\n",
   "metadata": {
    "collapsed": false
   }
  },
  {
   "metadata": {},
   "cell_type": "markdown",
   "source": [
    "<div class=\"alert alert-success\" role=\"alert\">\n",
    "  <h4 class=\"alert-heading\" style=\"font-size:1.7em\">Aufgabe1</h4>\n",
    "  <hr>\n",
    "   <h4 style=\"font-family:cursive;\">\n",
    "Führe eine lineare Regression mit dem Diamond-Datensatz aus Seaborn durch. Die Karat-Zahl ist die zu erklärende Variable, während alle anderen metrischen Daten Prädiktoren sind. Benutze dafür die lineare Regression aus scikit-learn und gib die Koeffizienten und R2 aus. Vergleiche deine Ergebnisse mit Ansätzen mit Ridge, Lasso und Elasticnet.</h4>\n",
    "</div>\n"
   ]
  },
  {
   "cell_type": "code",
   "execution_count": 1,
   "outputs": [],
   "source": [
    "import statsmodels.api as sm\n",
    "from sklearn.model_selection import train_test_split\n",
    "import seaborn as sns\n",
    "from sklearn.linear_model import LinearRegression"
   ],
   "metadata": {
    "collapsed": false,
    "ExecuteTime": {
     "end_time": "2023-10-09T14:15:12.548932200Z",
     "start_time": "2023-10-09T14:15:11.754799900Z"
    }
   }
  },
  {
   "cell_type": "code",
   "execution_count": 2,
   "outputs": [],
   "source": [
    "# Datensatz laden\n",
    "diamonds = sns.load_dataset(\"diamonds\")\n",
    "\n",
    "X = diamonds[[\"price\", \"depth\", \"table\", \"x\", \"y\", \"z\"]]\n",
    "y = diamonds[\"carat\"]"
   ],
   "metadata": {
    "collapsed": false,
    "ExecuteTime": {
     "end_time": "2023-10-09T14:15:12.651525800Z",
     "start_time": "2023-10-09T14:15:12.548932200Z"
    }
   }
  },
  {
   "cell_type": "code",
   "execution_count": 3,
   "outputs": [],
   "source": [
    "X_train, X_test, y_train, y_test = train_test_split(X, y, test_size=0.2, random_state=1)"
   ],
   "metadata": {
    "collapsed": false,
    "ExecuteTime": {
     "end_time": "2023-10-09T14:15:12.669059Z",
     "start_time": "2023-10-09T14:15:12.651525800Z"
    }
   }
  },
  {
   "cell_type": "code",
   "execution_count": 4,
   "outputs": [
    {
     "name": "stdout",
     "output_type": "stream",
     "text": [
      "Modell-Koeffizienten: const   -2.473677\n",
      "price    0.000033\n",
      "depth    0.018283\n",
      "table    0.004300\n",
      "x        0.302209\n",
      "y        0.006467\n",
      "z       -0.000489\n",
      "dtype: float64\n",
      "R²: 0.9690709467866363\n"
     ]
    }
   ],
   "source": [
    "# statsmodels\n",
    "constant = sm.add_constant(X_train)\n",
    "\n",
    "model_OLS = sm.OLS(y_train, constant)\n",
    "ergebnis = model_OLS.fit()\n",
    "\n",
    "print(\"Modell-Koeffizienten:\", ergebnis.params)\n",
    "print(\"R²:\",ergebnis.rsquared)"
   ],
   "metadata": {
    "collapsed": false,
    "ExecuteTime": {
     "end_time": "2023-10-09T14:15:12.705938800Z",
     "start_time": "2023-10-09T14:15:12.674572300Z"
    }
   }
  },
  {
   "cell_type": "code",
   "execution_count": 5,
   "outputs": [
    {
     "name": "stdout",
     "output_type": "stream",
     "text": [
      "Modell Koeffizienten: [ 3.26678003e-05  1.82828636e-02  4.30038785e-03  3.02209043e-01\n",
      "  6.46681127e-03 -4.89219295e-04]\n",
      "Schnittpunkt mit der y-Achse: -2.473676957162102\n",
      "R²: 0.9690709467866363\n",
      "0.9725341083974175\n"
     ]
    }
   ],
   "source": [
    "# sklearn\n",
    "model = LinearRegression()\n",
    "model.fit(X=X_train, y=y_train)\n",
    "\n",
    "print(\"Modell Koeffizienten:\", model.coef_)\n",
    "print(\"Schnittpunkt mit der y-Achse:\", model.intercept_)\n",
    "\n",
    "d2 = model.score(X=X_train, y=y_train)\n",
    "print(\"R²:\", d2)\n",
    "print(model.score(X=X_test, y=y_test))"
   ],
   "metadata": {
    "collapsed": false,
    "ExecuteTime": {
     "end_time": "2023-10-09T14:15:12.729752900Z",
     "start_time": "2023-10-09T14:15:12.705938800Z"
    }
   }
  },
  {
   "cell_type": "markdown",
   "source": [
    "<div class=\"alert alert-success\" role=\"alert\">\n",
    "  <h4 class=\"alert-heading\" style=\"font-size:1.7em\">Aufgabe2</h4>\n",
    "  <hr>\n",
    "   <h4 style=\"font-family:cursive;\">\n",
    "Schreibe eine Funktion, der du als Argumente die unabhängigen Variablen (X) und die abhängige Variable (y) geben kannst und die dann für diese Argumente ein Modell berechnet. Als Ergebnis sollen dir die Koeffizienten, der Interecept und R² ausgegeben werden.</h4>\n",
    "</div>\n"
   ],
   "metadata": {
    "collapsed": false
   }
  },
  {
   "cell_type": "code",
   "execution_count": 6,
   "outputs": [],
   "source": [
    "# Datensatz laden\n",
    "diamonds = sns.load_dataset(\"diamonds\")"
   ],
   "metadata": {
    "collapsed": false,
    "ExecuteTime": {
     "end_time": "2023-10-09T14:15:12.821299800Z",
     "start_time": "2023-10-09T14:15:12.737187100Z"
    }
   }
  },
  {
   "cell_type": "code",
   "execution_count": 7,
   "outputs": [
    {
     "name": "stdout",
     "output_type": "stream",
     "text": [
      "[2.54848713e-01 4.63586989e-05] -0.8458162907103121\n",
      "0.9439927495017196\n"
     ]
    }
   ],
   "source": [
    "# Als Funktion\n",
    "def lin_reg_info(praediktoren, zu_erklaeren):\n",
    "    model = LinearRegression()\n",
    "    model.fit(X=praediktoren, y=zu_erklaeren)\n",
    "\n",
    "    print(model.coef_, model.intercept_)\n",
    "    print(model.score(X=praediktoren, y=zu_erklaeren))\n",
    "\n",
    "lin_reg_info(diamonds[[\"y\", \"price\"]], diamonds[\"carat\"])"
   ],
   "metadata": {
    "collapsed": false,
    "ExecuteTime": {
     "end_time": "2023-10-09T14:15:12.847217100Z",
     "start_time": "2023-10-09T14:15:12.821299800Z"
    }
   }
  }
 ],
 "metadata": {
  "kernelspec": {
   "display_name": "Python 3",
   "language": "python",
   "name": "python3"
  },
  "language_info": {
   "codemirror_mode": {
    "name": "ipython",
    "version": 2
   },
   "file_extension": ".py",
   "mimetype": "text/x-python",
   "name": "python",
   "nbconvert_exporter": "python",
   "pygments_lexer": "ipython2",
   "version": "2.7.6"
  }
 },
 "nbformat": 4,
 "nbformat_minor": 0
}
