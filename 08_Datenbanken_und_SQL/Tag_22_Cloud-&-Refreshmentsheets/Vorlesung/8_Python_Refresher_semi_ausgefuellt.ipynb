{
 "cells": [
  {
   "cell_type": "code",
   "source": [
    "import numpy as np\n",
    "from datetime import datetime\n",
    "from time import sleep"
   ],
   "metadata": {
    "collapsed": false,
    "ExecuteTime": {
     "end_time": "2025-01-09T10:08:29.647978Z",
     "start_time": "2025-01-09T10:08:29.539503Z"
    }
   },
   "id": "e211590c8cdcf7d6",
   "outputs": [],
   "execution_count": 1
  },
  {
   "cell_type": "markdown",
   "source": [
    "# Datentypen und Loops"
   ],
   "metadata": {
    "collapsed": false
   },
   "id": "24c1521a66f43b1"
  },
  {
   "cell_type": "code",
   "execution_count": null,
   "id": "initial_id",
   "metadata": {
    "collapsed": true
   },
   "outputs": [],
   "source": [
    "# Welche Datentypen gibt es?"
   ]
  },
  {
   "cell_type": "code",
   "execution_count": null,
   "outputs": [],
   "source": "# Die wichtigsten: int, float, str, bool, list, range, set, tuple, dict, NoneType",
   "metadata": {
    "collapsed": false
   },
   "id": "5fc262e99d719471"
  },
  {
   "cell_type": "code",
   "source": [
    "zahl = 3\n",
    "gleitkommazahl = 7.6\n",
    "komische_liste = ['Anna', 'Bella', 3.7, True, 4, {'Pikachu': '500 HP'}, 'Tina',\n",
    "                  ['Hallo', 'wo', 'zum', 'Teufel', 'bin', 'ich?',\n",
    "                   ['Die Antwort ist', [], 42, 'hab', 'ich', 'gehört']]]\n",
    "mein_tupel = ('Hallo', 'Datacraft', 2023)\n",
    "nix = None"
   ],
   "metadata": {
    "collapsed": false,
    "ExecuteTime": {
     "end_time": "2025-01-09T10:11:36.568258Z",
     "start_time": "2025-01-09T10:11:36.563424Z"
    }
   },
   "id": "2a4094fb34e38fb6",
   "outputs": [],
   "execution_count": 2
  },
  {
   "cell_type": "code",
   "execution_count": null,
   "outputs": [],
   "source": [
    "# Datentypen prüfen:"
   ],
   "metadata": {
    "collapsed": false
   },
   "id": "5fdff97020037745"
  },
  {
   "cell_type": "code",
   "source": [
    "print(type(zahl))\n",
    "print(type(gleitkommazahl))\n",
    "print(type(komische_liste))\n",
    "print(type(mein_tupel))\n",
    "print(type(nix))"
   ],
   "metadata": {
    "collapsed": false,
    "ExecuteTime": {
     "end_time": "2025-01-09T10:12:42.704709Z",
     "start_time": "2025-01-09T10:12:42.702930Z"
    }
   },
   "id": "fb6cc868d45e0b",
   "outputs": [
    {
     "name": "stdout",
     "output_type": "stream",
     "text": [
      "<class 'int'>\n",
      "<class 'float'>\n",
      "<class 'list'>\n",
      "<class 'tuple'>\n",
      "<class 'NoneType'>\n"
     ]
    }
   ],
   "execution_count": 5
  },
  {
   "cell_type": "code",
   "execution_count": null,
   "outputs": [],
   "source": [
    "# Casting: Gleitkommazahl in Ganzzahl und umgekehrt umwandeln."
   ],
   "metadata": {
    "collapsed": false
   },
   "id": "19c919db521bd1c5"
  },
  {
   "cell_type": "code",
   "source": "print(int(gleitkommazahl))",
   "metadata": {
    "collapsed": false,
    "ExecuteTime": {
     "end_time": "2025-01-09T10:14:02.730636Z",
     "start_time": "2025-01-09T10:14:02.728459Z"
    }
   },
   "id": "adad4cfd944bf653",
   "outputs": [
    {
     "name": "stdout",
     "output_type": "stream",
     "text": [
      "7\n"
     ]
    }
   ],
   "execution_count": 6
  },
  {
   "metadata": {
    "ExecuteTime": {
     "end_time": "2025-01-09T10:15:06.802269Z",
     "start_time": "2025-01-09T10:15:06.799160Z"
    }
   },
   "cell_type": "code",
   "source": "print(float(zahl))",
   "id": "7a164b6019af060d",
   "outputs": [
    {
     "name": "stdout",
     "output_type": "stream",
     "text": [
      "3.0\n"
     ]
    }
   ],
   "execution_count": 7
  },
  {
   "cell_type": "markdown",
   "source": [
    "#### ÜBUNG: \n",
    "Bestimme Datentypen und wandle dann um.\n",
    "Erkläre, wo bestimmte Umwandlungen nicht klappen."
   ],
   "metadata": {
    "collapsed": false
   },
   "id": "a06c0c3166288e0f"
  },
  {
   "cell_type": "code",
   "source": [
    "xyz = 42  # > float\n",
    "\n",
    "numstr = '164'  # > int\n",
    "\n",
    "das_nichts = None  # > string\n",
    "\n",
    "greetz = 'Hello'  # > int\n",
    "\n",
    "noch_so_ne_zahl = 3  # > Multipliziere mit 'greetz'"
   ],
   "metadata": {
    "collapsed": false,
    "ExecuteTime": {
     "end_time": "2025-01-09T10:23:26.771743Z",
     "start_time": "2025-01-09T10:23:26.767944Z"
    }
   },
   "id": "8ec225f20041599d",
   "outputs": [],
   "execution_count": 9
  },
  {
   "metadata": {
    "ExecuteTime": {
     "end_time": "2025-01-09T10:25:17.851497Z",
     "start_time": "2025-01-09T10:25:17.848428Z"
    }
   },
   "cell_type": "code",
   "source": "print(float(xyz))",
   "id": "9bff16dd24dfbaa9",
   "outputs": [
    {
     "name": "stdout",
     "output_type": "stream",
     "text": [
      "42.0\n"
     ]
    }
   ],
   "execution_count": 10
  },
  {
   "metadata": {
    "ExecuteTime": {
     "end_time": "2025-01-09T10:25:30.986751Z",
     "start_time": "2025-01-09T10:25:30.985052Z"
    }
   },
   "cell_type": "code",
   "source": "print(int(164))",
   "id": "ac7a223e3bcb3b2b",
   "outputs": [
    {
     "name": "stdout",
     "output_type": "stream",
     "text": [
      "164\n"
     ]
    }
   ],
   "execution_count": 11
  },
  {
   "metadata": {
    "ExecuteTime": {
     "end_time": "2025-01-09T10:25:49.583253Z",
     "start_time": "2025-01-09T10:25:49.580786Z"
    }
   },
   "cell_type": "code",
   "source": "print(str(None))",
   "id": "f81a31358a24fed",
   "outputs": [
    {
     "name": "stdout",
     "output_type": "stream",
     "text": [
      "None\n"
     ]
    }
   ],
   "execution_count": 12
  },
  {
   "metadata": {},
   "cell_type": "code",
   "outputs": [],
   "execution_count": null,
   "source": [
    "# int aus str nicht möglich\n",
    "# int(greetz)"
   ],
   "id": "85931d6e6c86e7fe"
  },
  {
   "metadata": {
    "ExecuteTime": {
     "end_time": "2025-01-09T10:26:22.080568Z",
     "start_time": "2025-01-09T10:26:22.077304Z"
    }
   },
   "cell_type": "code",
   "source": "noch_so_ne_zahl * greetz",
   "id": "2dc14fa1779bbbad",
   "outputs": [
    {
     "data": {
      "text/plain": [
       "'HelloHelloHello'"
      ]
     },
     "execution_count": 13,
     "metadata": {},
     "output_type": "execute_result"
    }
   ],
   "execution_count": 13
  },
  {
   "metadata": {
    "ExecuteTime": {
     "end_time": "2025-01-09T10:27:03.537085Z",
     "start_time": "2025-01-09T10:27:03.534154Z"
    }
   },
   "cell_type": "code",
   "source": "mein_tupel",
   "id": "e46298656d4572bb",
   "outputs": [
    {
     "data": {
      "text/plain": [
       "('Hallo', 'Datacraft', 2023)"
      ]
     },
     "execution_count": 14,
     "metadata": {},
     "output_type": "execute_result"
    }
   ],
   "execution_count": 14
  },
  {
   "cell_type": "code",
   "execution_count": null,
   "outputs": [],
   "source": [
    "# In 'mein_tupel' Datacraft durch Valentin ersetzen. Geht das?\n",
    "# Geht so nicht, da Tupel unveränderlich sind (immutable)."
   ],
   "metadata": {
    "collapsed": false
   },
   "id": "796b5a36228c3032"
  },
  {
   "metadata": {
    "ExecuteTime": {
     "end_time": "2025-01-09T10:28:58.682506Z",
     "start_time": "2025-01-09T10:28:58.677890Z"
    }
   },
   "cell_type": "code",
   "source": "komische_liste",
   "id": "42df293390c8729c",
   "outputs": [
    {
     "data": {
      "text/plain": [
       "['Anna',\n",
       " 'Bella',\n",
       " 3.7,\n",
       " True,\n",
       " 4,\n",
       " {'Pikachu': '500 HP'},\n",
       " 'Tina',\n",
       " ['Hallo',\n",
       "  'wo',\n",
       "  'zum',\n",
       "  'Teufel',\n",
       "  'bin',\n",
       "  'ich?',\n",
       "  ['Die Antwort ist', [], 42, 'hab', 'ich', 'gehört']]]"
      ]
     },
     "execution_count": 15,
     "metadata": {},
     "output_type": "execute_result"
    }
   ],
   "execution_count": 15
  },
  {
   "cell_type": "code",
   "source": [
    "# Wie lang ist unsere 'komische_liste'?\n",
    "len(komische_liste)"
   ],
   "metadata": {
    "collapsed": false,
    "ExecuteTime": {
     "end_time": "2025-01-09T10:29:13.893316Z",
     "start_time": "2025-01-09T10:29:13.890817Z"
    }
   },
   "id": "5b777c8391aab878",
   "outputs": [
    {
     "data": {
      "text/plain": [
       "8"
      ]
     },
     "execution_count": 16,
     "metadata": {},
     "output_type": "execute_result"
    }
   ],
   "execution_count": 16
  },
  {
   "cell_type": "code",
   "source": [
    "# Wie greife ich das True in der Liste?\n",
    "komische_liste[3]"
   ],
   "metadata": {
    "collapsed": false,
    "ExecuteTime": {
     "end_time": "2025-01-09T10:30:48.519625Z",
     "start_time": "2025-01-09T10:30:48.516158Z"
    }
   },
   "id": "92b8bba69948f6cd",
   "outputs": [
    {
     "data": {
      "text/plain": [
       "True"
      ]
     },
     "execution_count": 17,
     "metadata": {},
     "output_type": "execute_result"
    }
   ],
   "execution_count": 17
  },
  {
   "cell_type": "code",
   "source": [
    "# Wie ermittle ich die Position des True?\n",
    "komische_liste.index(True)"
   ],
   "metadata": {
    "collapsed": false,
    "ExecuteTime": {
     "end_time": "2025-01-09T10:31:53.636723Z",
     "start_time": "2025-01-09T10:31:53.632111Z"
    }
   },
   "id": "694ea2295c410a8b",
   "outputs": [
    {
     "data": {
      "text/plain": [
       "3"
      ]
     },
     "execution_count": 18,
     "metadata": {},
     "output_type": "execute_result"
    }
   ],
   "execution_count": 18
  },
  {
   "metadata": {
    "ExecuteTime": {
     "end_time": "2025-01-09T10:33:22.947899Z",
     "start_time": "2025-01-09T10:33:22.943454Z"
    }
   },
   "cell_type": "code",
   "source": "komische_liste",
   "id": "6dacae5a404c01aa",
   "outputs": [
    {
     "data": {
      "text/plain": [
       "['Anna',\n",
       " 'Bella',\n",
       " 3.7,\n",
       " True,\n",
       " 4,\n",
       " {'Pikachu': '500 HP'},\n",
       " 'Tina',\n",
       " ['Hallo',\n",
       "  'wo',\n",
       "  'zum',\n",
       "  'Teufel',\n",
       "  'bin',\n",
       "  'ich?',\n",
       "  ['Die Antwort ist', [], 42, 'hab', 'ich', 'gehört']]]"
      ]
     },
     "execution_count": 19,
     "metadata": {},
     "output_type": "execute_result"
    }
   ],
   "execution_count": 19
  },
  {
   "cell_type": "code",
   "source": [
    "# Wie greife ich auf die komische verschachtelte Liste am Ende der Liste zu?\n",
    "komische_liste[-1]"
   ],
   "metadata": {
    "collapsed": false,
    "ExecuteTime": {
     "end_time": "2025-01-09T10:34:12.689470Z",
     "start_time": "2025-01-09T10:34:12.685442Z"
    }
   },
   "id": "7f6cfab0a7c0f847",
   "outputs": [
    {
     "data": {
      "text/plain": [
       "['Hallo',\n",
       " 'wo',\n",
       " 'zum',\n",
       " 'Teufel',\n",
       " 'bin',\n",
       " 'ich?',\n",
       " ['Die Antwort ist', [], 42, 'hab', 'ich', 'gehört']]"
      ]
     },
     "execution_count": 20,
     "metadata": {},
     "output_type": "execute_result"
    }
   ],
   "execution_count": 20
  },
  {
   "cell_type": "code",
   "source": [
    "# Wie greife ich auf die Liste in dieser Liste zu?\n",
    "komische_liste[-1][-1]"
   ],
   "metadata": {
    "collapsed": false,
    "ExecuteTime": {
     "end_time": "2025-01-09T10:35:27.078300Z",
     "start_time": "2025-01-09T10:35:27.073243Z"
    }
   },
   "id": "83d3b00e11dc33f2",
   "outputs": [
    {
     "data": {
      "text/plain": [
       "['Die Antwort ist', [], 42, 'hab', 'ich', 'gehört']"
      ]
     },
     "execution_count": 21,
     "metadata": {},
     "output_type": "execute_result"
    }
   ],
   "execution_count": 21
  },
  {
   "cell_type": "code",
   "source": [
    "# Wie greife ich auf die Zahl 42 zu?\n",
    "komische_liste[-1][-1][2]"
   ],
   "metadata": {
    "collapsed": false,
    "ExecuteTime": {
     "end_time": "2025-01-09T10:36:17.242086Z",
     "start_time": "2025-01-09T10:36:17.237371Z"
    }
   },
   "id": "7b0a0535c959ef7e",
   "outputs": [
    {
     "data": {
      "text/plain": [
       "42"
      ]
     },
     "execution_count": 22,
     "metadata": {},
     "output_type": "execute_result"
    }
   ],
   "execution_count": 22
  },
  {
   "metadata": {
    "ExecuteTime": {
     "end_time": "2025-01-09T10:36:58.326493Z",
     "start_time": "2025-01-09T10:36:58.322564Z"
    }
   },
   "cell_type": "code",
   "source": "komische_liste",
   "id": "b77e17c6ebe50b",
   "outputs": [
    {
     "data": {
      "text/plain": [
       "['Anna',\n",
       " 'Bella',\n",
       " 3.7,\n",
       " True,\n",
       " 4,\n",
       " {'Pikachu': '500 HP'},\n",
       " 'Tina',\n",
       " ['Hallo',\n",
       "  'wo',\n",
       "  'zum',\n",
       "  'Teufel',\n",
       "  'bin',\n",
       "  'ich?',\n",
       "  ['Die Antwort ist', [], 42, 'hab', 'ich', 'gehört']]]"
      ]
     },
     "execution_count": 23,
     "metadata": {},
     "output_type": "execute_result"
    }
   ],
   "execution_count": 23
  },
  {
   "cell_type": "code",
   "source": [
    "# Einträge in Liste verändern. Bella in Tina umwandeln.\n",
    "komische_liste[1] = 'Tina'"
   ],
   "metadata": {
    "collapsed": false,
    "ExecuteTime": {
     "end_time": "2025-01-09T10:38:21.628320Z",
     "start_time": "2025-01-09T10:38:21.623519Z"
    }
   },
   "id": "a3244a39172fb53b",
   "outputs": [],
   "execution_count": 24
  },
  {
   "metadata": {
    "ExecuteTime": {
     "end_time": "2025-01-09T10:38:27.247067Z",
     "start_time": "2025-01-09T10:38:27.244161Z"
    }
   },
   "cell_type": "code",
   "source": "komische_liste",
   "id": "7b7bd2d6ee043508",
   "outputs": [
    {
     "data": {
      "text/plain": [
       "['Anna',\n",
       " 'Tina',\n",
       " 3.7,\n",
       " True,\n",
       " 4,\n",
       " {'Pikachu': '500 HP'},\n",
       " 'Tina',\n",
       " ['Hallo',\n",
       "  'wo',\n",
       "  'zum',\n",
       "  'Teufel',\n",
       "  'bin',\n",
       "  'ich?',\n",
       "  ['Die Antwort ist', [], 42, 'hab', 'ich', 'gehört']]]"
      ]
     },
     "execution_count": 25,
     "metadata": {},
     "output_type": "execute_result"
    }
   ],
   "execution_count": 25
  },
  {
   "cell_type": "code",
   "source": [
    "# Einträge in Liste verändern. Pikachu 1000 HP geben ;)\n",
    "komische_liste[5]['Pikachu'] = '1000 HP'"
   ],
   "metadata": {
    "collapsed": false,
    "ExecuteTime": {
     "end_time": "2025-01-09T10:43:10.091429Z",
     "start_time": "2025-01-09T10:43:10.088880Z"
    }
   },
   "id": "39d47f6467db9068",
   "outputs": [],
   "execution_count": 30
  },
  {
   "metadata": {
    "ExecuteTime": {
     "end_time": "2025-01-09T10:43:22.067270Z",
     "start_time": "2025-01-09T10:43:22.063987Z"
    }
   },
   "cell_type": "code",
   "source": "komische_liste[5]",
   "id": "a8147f70b8a79b9",
   "outputs": [
    {
     "data": {
      "text/plain": [
       "{'Pikachu': '1000 HP'}"
      ]
     },
     "execution_count": 31,
     "metadata": {},
     "output_type": "execute_result"
    }
   ],
   "execution_count": 31
  },
  {
   "metadata": {
    "ExecuteTime": {
     "end_time": "2025-01-09T10:43:49.916938Z",
     "start_time": "2025-01-09T10:43:49.912443Z"
    }
   },
   "cell_type": "code",
   "source": "komische_liste[5].get('Pikachu')",
   "id": "9e5016a08ea6234c",
   "outputs": [
    {
     "data": {
      "text/plain": [
       "'1000 HP'"
      ]
     },
     "execution_count": 32,
     "metadata": {},
     "output_type": "execute_result"
    }
   ],
   "execution_count": 32
  },
  {
   "cell_type": "code",
   "source": [
    "# Liste anschauen\n",
    "komische_liste"
   ],
   "metadata": {
    "collapsed": false,
    "ExecuteTime": {
     "end_time": "2025-01-09T10:44:35.939002Z",
     "start_time": "2025-01-09T10:44:35.937093Z"
    }
   },
   "id": "da076169e9d0e5b2",
   "outputs": [
    {
     "data": {
      "text/plain": [
       "['Anna',\n",
       " 'Tina',\n",
       " 3.7,\n",
       " True,\n",
       " 4,\n",
       " {'Pikachu': '1000 HP'},\n",
       " 'Tina',\n",
       " ['Hallo',\n",
       "  'wo',\n",
       "  'zum',\n",
       "  'Teufel',\n",
       "  'bin',\n",
       "  'ich?',\n",
       "  ['Die Antwort ist', [], 42, 'hab', 'ich', 'gehört']]]"
      ]
     },
     "execution_count": 33,
     "metadata": {},
     "output_type": "execute_result"
    }
   ],
   "execution_count": 33
  },
  {
   "cell_type": "code",
   "execution_count": null,
   "outputs": [],
   "source": [
    "# Indexposition von Tina bestimmen"
   ],
   "metadata": {
    "collapsed": false
   },
   "id": "b33b660b63523c49"
  },
  {
   "cell_type": "code",
   "source": "komische_liste.index('Tina')",
   "metadata": {
    "collapsed": false,
    "ExecuteTime": {
     "end_time": "2025-01-09T10:45:21.564441Z",
     "start_time": "2025-01-09T10:45:21.560490Z"
    }
   },
   "id": "63b5defbe6ae1165",
   "outputs": [
    {
     "data": {
      "text/plain": [
       "1"
      ]
     },
     "execution_count": 34,
     "metadata": {},
     "output_type": "execute_result"
    }
   ],
   "execution_count": 34
  },
  {
   "cell_type": "code",
   "execution_count": null,
   "outputs": [],
   "source": [
    "# Was fällt auf?"
   ],
   "metadata": {
    "collapsed": false
   },
   "id": "e35ed1038ff94630"
  },
  {
   "cell_type": "code",
   "execution_count": null,
   "outputs": [],
   "source": "# Nur der Index des ersten Vorkommnisses von Tina wird angezeigt.",
   "metadata": {
    "collapsed": false
   },
   "id": "b52d3880e688df5e"
  },
  {
   "metadata": {
    "ExecuteTime": {
     "end_time": "2025-01-09T10:49:40.968640Z",
     "start_time": "2025-01-09T10:49:40.963570Z"
    }
   },
   "cell_type": "code",
   "source": [
    "# Wenn man alle Vorkommnisse haben will:\n",
    "[i for i, element in enumerate(komische_liste) if element == 'Tina']"
   ],
   "id": "cdb03291133f9e29",
   "outputs": [
    {
     "data": {
      "text/plain": [
       "[1, 6]"
      ]
     },
     "execution_count": 35,
     "metadata": {},
     "output_type": "execute_result"
    }
   ],
   "execution_count": 35
  },
  {
   "cell_type": "code",
   "outputs": [],
   "source": [
    "# Welche iterierbaren Datentypen gibt es?\n",
    "# Iterierbar heißt: Es gibt eine Anordnung von Elementen und man kann sie \"abwandern\"\n",
    "# das sind sie: list, tuple, dict, str, set, frozenset"
   ],
   "metadata": {
    "collapsed": false
   },
   "id": "2e9f894b6d011839",
   "execution_count": null
  },
  {
   "metadata": {
    "ExecuteTime": {
     "end_time": "2025-01-09T10:58:45.317882Z",
     "start_time": "2025-01-09T10:58:45.315816Z"
    }
   },
   "cell_type": "code",
   "source": [
    "# Das ist ein Set. Keine Duplikate erlaubt:\n",
    "names_set = {'Micha', 'Dorian', 'Micha', 'Resa', 'Micha'}  # entspricht: unique(), EINDEUTIG (EXCEL)\n",
    "names_set"
   ],
   "id": "470cdef2ed3983b0",
   "outputs": [
    {
     "data": {
      "text/plain": [
       "{'Dorian', 'Micha', 'Resa'}"
      ]
     },
     "execution_count": 38,
     "metadata": {},
     "output_type": "execute_result"
    }
   ],
   "execution_count": 38
  },
  {
   "metadata": {
    "ExecuteTime": {
     "end_time": "2025-01-09T11:00:30.235302Z",
     "start_time": "2025-01-09T11:00:30.229957Z"
    }
   },
   "cell_type": "code",
   "source": [
    "for name in names_set:\n",
    "    print(name.upper())"
   ],
   "id": "570bc36113c725f4",
   "outputs": [
    {
     "name": "stdout",
     "output_type": "stream",
     "text": [
      "MICHA\n",
      "DORIAN\n",
      "RESA\n"
     ]
    }
   ],
   "execution_count": 40
  },
  {
   "cell_type": "code",
   "source": [
    "# Mit hasattr() Attribute prüfen:\n",
    "print('Welcher Datentyp ist iterierbar?')\n",
    "print('String:', hasattr(str, '__iter__'))\n",
    "print('Liste:', hasattr(list, '__iter__'))\n",
    "print('Tupel:', hasattr(tuple, '__iter__'))\n",
    "print('Dictionary:', hasattr(dict, '__iter__'))\n",
    "print('Set:', hasattr(set, '__iter__'))\n",
    "print('Range:', hasattr(range, '__iter__'))\n",
    "print('Int:', hasattr(int, '__iter__'))\n",
    "print('float:', hasattr(float, '__iter__'))\n",
    "print('Boolean:', hasattr(bool, '__iter__'))\n",
    "print('None:', hasattr(None, '__iter__'))"
   ],
   "metadata": {
    "collapsed": false,
    "ExecuteTime": {
     "end_time": "2025-01-09T11:01:56.668753Z",
     "start_time": "2025-01-09T11:01:56.664700Z"
    }
   },
   "id": "37d5b26c42131ffd",
   "outputs": [
    {
     "name": "stdout",
     "output_type": "stream",
     "text": [
      "Welcher Datentyp ist iterierbar?\n",
      "String: True\n",
      "Liste: True\n",
      "Tupel: True\n",
      "Dictionary: True\n",
      "Set: True\n",
      "Range: True\n",
      "Int: False\n",
      "float: False\n",
      "Boolean: False\n",
      "None: False\n"
     ]
    }
   ],
   "execution_count": 41
  },
  {
   "metadata": {
    "ExecuteTime": {
     "end_time": "2025-01-09T11:02:52.057978Z",
     "start_time": "2025-01-09T11:02:52.055624Z"
    }
   },
   "cell_type": "code",
   "source": "hasattr(komische_liste, '__iter__')",
   "id": "e0ce2d6fef8c121",
   "outputs": [
    {
     "data": {
      "text/plain": [
       "True"
      ]
     },
     "execution_count": 42,
     "metadata": {},
     "output_type": "execute_result"
    }
   ],
   "execution_count": 42
  },
  {
   "metadata": {
    "ExecuteTime": {
     "end_time": "2025-01-09T11:03:52.411331Z",
     "start_time": "2025-01-09T11:03:52.409280Z"
    }
   },
   "cell_type": "code",
   "source": [
    "if hasattr(komische_liste, '__iter__'):\n",
    "    print(komische_liste[0])\n",
    "else:\n",
    "    print('Sorry, not an iterable.')"
   ],
   "id": "6569578fff67831a",
   "outputs": [
    {
     "name": "stdout",
     "output_type": "stream",
     "text": [
      "Anna\n"
     ]
    }
   ],
   "execution_count": 43
  },
  {
   "metadata": {
    "ExecuteTime": {
     "end_time": "2025-01-09T11:04:59.801598Z",
     "start_time": "2025-01-09T11:04:59.799565Z"
    }
   },
   "cell_type": "code",
   "source": [
    "def check_iterable(to_check):\n",
    "    if hasattr(to_check, '__iter__'):\n",
    "        print(to_check[0])\n",
    "    else:\n",
    "        print('Sorry, not an iterable.')"
   ],
   "id": "5801b355f9383b36",
   "outputs": [],
   "execution_count": 46
  },
  {
   "metadata": {
    "ExecuteTime": {
     "end_time": "2025-01-09T11:05:01.838041Z",
     "start_time": "2025-01-09T11:05:01.836028Z"
    }
   },
   "cell_type": "code",
   "source": "check_iterable(zahl)",
   "id": "a570c8466c728a71",
   "outputs": [
    {
     "name": "stdout",
     "output_type": "stream",
     "text": [
      "Sorry, not an iterable.\n"
     ]
    }
   ],
   "execution_count": 47
  },
  {
   "metadata": {
    "ExecuteTime": {
     "end_time": "2025-01-09T11:05:07.523286Z",
     "start_time": "2025-01-09T11:05:07.519532Z"
    }
   },
   "cell_type": "code",
   "source": "check_iterable(komische_liste)",
   "id": "e8a2693afe8f7bf5",
   "outputs": [
    {
     "name": "stdout",
     "output_type": "stream",
     "text": [
      "Anna\n"
     ]
    }
   ],
   "execution_count": 48
  },
  {
   "cell_type": "code",
   "source": [
    "# Sets sind ein Sonderfall, da sie über keinen Index verfügen, aber iterierbar sind!\n",
    "my_set = {'Hallo', 'Welt', 42}"
   ],
   "metadata": {
    "collapsed": false,
    "ExecuteTime": {
     "end_time": "2025-01-09T11:05:58.321981Z",
     "start_time": "2025-01-09T11:05:58.319803Z"
    }
   },
   "id": "7622fcfae6ca8f5f",
   "outputs": [],
   "execution_count": 49
  },
  {
   "cell_type": "code",
   "source": [
    "for elem in my_set:\n",
    "    print(elem)"
   ],
   "metadata": {
    "collapsed": false,
    "ExecuteTime": {
     "end_time": "2025-01-09T11:06:11.112694Z",
     "start_time": "2025-01-09T11:06:11.109648Z"
    }
   },
   "id": "260799b2a19440dd",
   "outputs": [
    {
     "name": "stdout",
     "output_type": "stream",
     "text": [
      "Hallo\n",
      "42\n",
      "Welt\n"
     ]
    }
   ],
   "execution_count": 50
  },
  {
   "cell_type": "markdown",
   "source": [
    "### For-Loop und List Comprehensions"
   ],
   "metadata": {
    "collapsed": false
   },
   "id": "c66ccbc5cfb5fc76"
  },
  {
   "cell_type": "code",
   "execution_count": null,
   "outputs": [],
   "source": [
    "for x in enumerate(komische_liste):\n",
    "    print(x)"
   ],
   "metadata": {
    "collapsed": false
   },
   "id": "d95875392883ecfe"
  },
  {
   "cell_type": "code",
   "outputs": [],
   "source": [],
   "metadata": {
    "collapsed": false
   },
   "id": "83dfca766503763c",
   "execution_count": null
  },
  {
   "cell_type": "markdown",
   "source": [
    "#### ÜBUNG: \n",
    "Gegeben ist folgende Liste: ['Anna', 'Tina', 'Anton', 'Lana', 'Anna', 'Toni', Minna', 'Lena', 'Hanna']\n",
    "Einfach: Finde mittels For-Loop alle Positionen, an denen 'Anna' vorkommt\n",
    "Etwas schwieriger: Finde mittels For-Loop alle Positionen von Strings, die mit 'nna' enden."
   ],
   "metadata": {
    "collapsed": false
   },
   "id": "dd24895396d04acd"
  },
  {
   "cell_type": "code",
   "outputs": [],
   "source": [],
   "metadata": {
    "collapsed": false
   },
   "id": "d9bb12eedcecb3b2",
   "execution_count": null
  },
  {
   "cell_type": "code",
   "outputs": [],
   "source": [],
   "metadata": {
    "collapsed": false
   },
   "id": "85e44c6d04d04956",
   "execution_count": null
  },
  {
   "cell_type": "code",
   "execution_count": null,
   "outputs": [],
   "source": [
    "# Mit List Comprehension"
   ],
   "metadata": {
    "collapsed": false
   },
   "id": "94fb9589a389000b"
  },
  {
   "cell_type": "code",
   "execution_count": null,
   "outputs": [],
   "source": [],
   "metadata": {
    "collapsed": false
   },
   "id": "cbc8af3c2c0b3e99"
  },
  {
   "cell_type": "code",
   "execution_count": null,
   "outputs": [],
   "source": [
    "# Mit numpy"
   ],
   "metadata": {
    "collapsed": false
   },
   "id": "8359760550843135"
  },
  {
   "cell_type": "code",
   "execution_count": null,
   "outputs": [],
   "source": [],
   "metadata": {
    "collapsed": false
   },
   "id": "b52fd6410cbc297f"
  },
  {
   "cell_type": "code",
   "execution_count": null,
   "outputs": [],
   "source": [
    "# Das letzte Vorkommnis von 'Tina'"
   ],
   "metadata": {
    "collapsed": false
   },
   "id": "1a901f691b661512"
  },
  {
   "cell_type": "code",
   "execution_count": null,
   "outputs": [],
   "source": [],
   "metadata": {
    "collapsed": false
   },
   "id": "2da4220414054a3e"
  },
  {
   "cell_type": "code",
   "execution_count": null,
   "outputs": [],
   "source": [
    "# Anzahl der Vorkommnisse ermitteln?\n"
   ],
   "metadata": {
    "collapsed": false
   },
   "id": "d0414698d770c387"
  },
  {
   "cell_type": "markdown",
   "source": [
    "#### ÜBUNG: \n",
    "Du hast eine Liste von Preisen: [12, 10, 80, 65, 14, 5, 12]\n",
    "Es gibt eine Rabattaktion. Senke alle Elemente in der Liste um 20 Prozent.\n",
    "Benutze hierfür list comprehension. Runde auf zwei Nachkommastellen.\n"
   ],
   "metadata": {
    "collapsed": false
   },
   "id": "d7dd6f2d34b10cd9"
  },
  {
   "cell_type": "code",
   "outputs": [],
   "source": [],
   "metadata": {
    "collapsed": false
   },
   "id": "3db238ed8d3c434d",
   "execution_count": null
  },
  {
   "cell_type": "markdown",
   "source": [
    "### Dictionaries"
   ],
   "metadata": {
    "collapsed": false
   },
   "id": "91aae739cd284f36"
  },
  {
   "cell_type": "code",
   "outputs": [],
   "source": [
    "# Mehr Dictionaries\n"
   ],
   "metadata": {
    "collapsed": false
   },
   "id": "d7022c7927eecb92",
   "execution_count": null
  },
  {
   "cell_type": "code",
   "outputs": [],
   "source": [],
   "metadata": {
    "collapsed": false
   },
   "id": "f30a2f425c8592ec",
   "execution_count": null
  },
  {
   "cell_type": "code",
   "outputs": [],
   "source": [
    "# Wie fügt man dem Ganzen einen Eintrag 'haustier' mit Wert 'Hund' hinzu?\n"
   ],
   "metadata": {
    "collapsed": false
   },
   "id": "7a3730b3ea97cd8f",
   "execution_count": null
  },
  {
   "cell_type": "code",
   "outputs": [],
   "source": [
    "# Wie erhöht man das Alter Annas von 30 auf 31?\n"
   ],
   "metadata": {
    "collapsed": false
   },
   "id": "36e89f289fae52c7",
   "execution_count": null
  },
  {
   "cell_type": "code",
   "outputs": [],
   "source": [
    "# Wie entfernt man die Information zum Verheiratet-Status?\n"
   ],
   "metadata": {
    "collapsed": false
   },
   "id": "437921bdd77605a",
   "execution_count": null
  },
  {
   "cell_type": "code",
   "outputs": [],
   "source": [],
   "metadata": {
    "collapsed": false
   },
   "id": "d2ac06fed1aa9f88",
   "execution_count": null
  },
  {
   "cell_type": "code",
   "outputs": [],
   "source": [],
   "metadata": {
    "collapsed": false
   },
   "id": "c7c18ef6a4c4df6b",
   "execution_count": null
  },
  {
   "cell_type": "code",
   "outputs": [],
   "source": [
    "# Füge dem Dictionary einen weiteren Eintrag 'lieblingsessen' hinzu mit dem Wert 'Chinesisch':\n"
   ],
   "metadata": {
    "collapsed": false
   },
   "id": "6c71473d973872b4",
   "execution_count": null
  },
  {
   "cell_type": "code",
   "outputs": [],
   "source": [
    "# Anna hat zugelegt. Erhöhe das Gewicht auf 95.5 kg:\n"
   ],
   "metadata": {
    "collapsed": false
   },
   "id": "177652bd0fa93204",
   "execution_count": null
  },
  {
   "cell_type": "code",
   "outputs": [],
   "source": [
    "# Der Hund ist gestorben... Entferne das Haustier:\n"
   ],
   "metadata": {
    "collapsed": false
   },
   "id": "e394c221677e9079",
   "execution_count": null
  },
  {
   "cell_type": "code",
   "outputs": [],
   "source": [
    "# Anna geht nicht mehr gern tanzen. Entferne dieses Hobby. \n"
   ],
   "metadata": {
    "collapsed": false
   },
   "id": "f7392cc5c6c02325",
   "execution_count": null
  },
  {
   "cell_type": "code",
   "outputs": [],
   "source": [
    "# Füge stattdessen das Hobby 'Musizieren' hinzu:\n"
   ],
   "metadata": {
    "collapsed": false
   },
   "id": "985e7e5246fea7fe",
   "execution_count": null
  },
  {
   "cell_type": "code",
   "outputs": [],
   "source": [
    "# Schaue dir ihre Hobbies an:\n"
   ],
   "metadata": {
    "collapsed": false
   },
   "id": "7f5bc4b67450e3b8",
   "execution_count": null
  },
  {
   "cell_type": "code",
   "execution_count": null,
   "outputs": [],
   "source": [
    "# While Loop bauen      "
   ],
   "metadata": {
    "collapsed": false
   },
   "id": "a653deee0d0f5ac5"
  },
  {
   "cell_type": "code",
   "execution_count": null,
   "outputs": [],
   "source": [
    "# Ein Counter zählt bis 20, wenn 20 erreicht ist, wird \"Vorbei\" ausgegeben.\n",
    "\n"
   ],
   "metadata": {
    "collapsed": false
   },
   "id": "374be5a6c375dd8e"
  },
  {
   "cell_type": "code",
   "execution_count": null,
   "outputs": [],
   "source": [
    "# Alle drei Sekunden wird geprüft, ob eine Ziel-Uhrzeit erreicht wurde.\n",
    "# Solange sie nicht erreicht ist, erscheint die Nachricht \"Zu früh\".\n",
    "# Wenn sie erreicht ist, lautet die Botschaft \"Hurra!\"\n",
    "\n"
   ],
   "metadata": {
    "collapsed": false
   },
   "id": "6097076a3d2966cc"
  },
  {
   "cell_type": "markdown",
   "source": [
    "#### ÜBUNG: \n",
    "Schreibe eine \"Besserungsloop\". Der Nutzer wird so lange gefragt, wie es ihm geht, bis er 'gut' eingibt. Wenn er 'gut' eingegeben hat, kriegt er als Antwort: \"Na also, geht doch.\" Und die Loop hört auf."
   ],
   "metadata": {
    "collapsed": false
   },
   "id": "a8d105c50e410ad3"
  },
  {
   "cell_type": "code",
   "execution_count": 1,
   "outputs": [],
   "source": [],
   "metadata": {
    "collapsed": false,
    "ExecuteTime": {
     "end_time": "2024-03-13T20:51:47.692681Z",
     "start_time": "2024-03-13T20:51:47.686469Z"
    }
   },
   "id": "e42e915fba540f7f"
  },
  {
   "cell_type": "markdown",
   "source": [
    "## Funktionen"
   ],
   "metadata": {
    "collapsed": false
   },
   "id": "d827810e3c609677"
  },
  {
   "cell_type": "code",
   "outputs": [],
   "source": [
    "# Schreibe eine Funktion, die den BMI eines Menschen errechnet:\n",
    "\n"
   ],
   "metadata": {
    "collapsed": false
   },
   "id": "ccfb55918e1840dd",
   "execution_count": null
  },
  {
   "cell_type": "code",
   "outputs": [],
   "source": [
    "# Schreibe eine Funktion, die Fuß in Zentimeter umrechnet.\n",
    "# Rechne dann 5 Fuß in Zentimeter um.\n",
    "\n"
   ],
   "metadata": {
    "collapsed": false
   },
   "id": "fe3847b6f13174d7",
   "execution_count": null
  },
  {
   "cell_type": "code",
   "outputs": [],
   "source": [],
   "metadata": {
    "collapsed": false
   },
   "id": "2c2937503334a6e0",
   "execution_count": null
  },
  {
   "cell_type": "code",
   "outputs": [],
   "source": [
    "# Schreibe eine Funktion, die Fuß in Zentimeter umrechnet:\n",
    "# Optional: Führe einen Parameter inverse um, über den man die Berechnung umdrehen kann.\n",
    "\n"
   ],
   "metadata": {
    "collapsed": false
   },
   "id": "565c4a6e1661ac25",
   "execution_count": null
  },
  {
   "cell_type": "code",
   "outputs": [],
   "source": [
    "\n"
   ],
   "metadata": {
    "collapsed": false
   },
   "id": "1b086cbbcf673a71",
   "execution_count": null
  },
  {
   "cell_type": "code",
   "outputs": [],
   "source": [
    "# Schreibe eine Funktion, die die Anzahl von Worten in einem Text zählt:\n",
    "\n"
   ],
   "metadata": {
    "collapsed": false
   },
   "id": "6a2e13e988590b39",
   "execution_count": null
  },
  {
   "cell_type": "code",
   "outputs": [],
   "source": [
    "\n"
   ],
   "metadata": {
    "collapsed": false
   },
   "id": "a2069d9ed3afdbdd",
   "execution_count": null
  },
  {
   "cell_type": "code",
   "outputs": [],
   "source": [
    "# Schreibe eine Funktion, die die Anzahl von Worten in einem Text zählt\n",
    "\n"
   ],
   "metadata": {
    "collapsed": false
   },
   "id": "45d73416eb219cab",
   "execution_count": null
  },
  {
   "cell_type": "code",
   "outputs": [],
   "source": [
    "\n"
   ],
   "metadata": {
    "collapsed": false
   },
   "id": "c60d5b39b49dc48",
   "execution_count": null
  },
  {
   "cell_type": "code",
   "outputs": [],
   "source": [
    "# Schreibe eine Funktion, die alle Satzzeichen in einem String entfernt\n",
    "# und ihn dann erst in einzelne Token auftrennt:\n",
    "\n"
   ],
   "metadata": {
    "collapsed": false
   },
   "id": "7cf7d6b4f42fe302",
   "execution_count": null
  },
  {
   "cell_type": "code",
   "outputs": [],
   "source": [
    "absatz = '''Wir stellen Dir die Hardware\n",
    "kostenlos zur Verfügung.\n",
    "\n",
    "Du bekommst von uns kostenlos einen leistungsstarken Laptop zur Verfügung gestellt, den Du sogar bei erfolgreichem Bestehen des Kurses behalten darfst.\n",
    "\n",
    "Um Dir Deinen Start maximal zu erleichtern ist dieser bereits vollumfänglich konfiguriert und enthält alle relevanten Programme und Einstellungen.'''"
   ],
   "metadata": {
    "collapsed": false
   },
   "id": "c24f0298bc30d133",
   "execution_count": null
  },
  {
   "cell_type": "code",
   "outputs": [],
   "source": [],
   "metadata": {
    "collapsed": false
   },
   "id": "b0f4eae9bf39c47c",
   "execution_count": null
  },
  {
   "cell_type": "code",
   "outputs": [],
   "source": [
    "# Schreibe eine Funktion, die dir ausrechnet, wie viel Geld du pro Tag hast.\n",
    "# Der Nutzer übergibt den aktuellen Kontostand und die Funktion ermittelt, wie viele\n",
    "# Tage noch bis Monatsende sind und berechnet dann den Betrag, der pro Tag verfügbar ist.\n",
    "# Der aktuelle Tag soll auch als vollwertiger Tag in die Berechnung einfließen.\n",
    "# Die Funktion soll nur für Werte über 0 sinnvolle Zahlen ausspucken.\n",
    "# In allen anderen Fällen soll sie den Nutzer darüber informieren, dass er kein Geld zur Verfügung hat.\n",
    "\n"
   ],
   "metadata": {
    "collapsed": false
   },
   "id": "6dedde42644242a4",
   "execution_count": null
  },
  {
   "cell_type": "code",
   "outputs": [],
   "source": [],
   "metadata": {
    "collapsed": false
   },
   "id": "9716b8c9577d13f8",
   "execution_count": null
  },
  {
   "cell_type": "code",
   "outputs": [],
   "source": [],
   "metadata": {
    "collapsed": false
   },
   "id": "eb9ffb8948d5de48",
   "execution_count": null
  }
 ],
 "metadata": {
  "kernelspec": {
   "display_name": "Python 3",
   "language": "python",
   "name": "python3"
  },
  "language_info": {
   "codemirror_mode": {
    "name": "ipython",
    "version": 2
   },
   "file_extension": ".py",
   "mimetype": "text/x-python",
   "name": "python",
   "nbconvert_exporter": "python",
   "pygments_lexer": "ipython2",
   "version": "2.7.6"
  }
 },
 "nbformat": 4,
 "nbformat_minor": 5
}
