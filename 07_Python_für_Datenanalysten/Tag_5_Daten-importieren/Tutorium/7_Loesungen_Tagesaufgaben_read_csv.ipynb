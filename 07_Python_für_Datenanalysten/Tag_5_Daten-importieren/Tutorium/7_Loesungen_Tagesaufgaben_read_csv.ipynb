{
 "cells": [
  {
   "cell_type": "code",
   "execution_count": 13,
   "id": "initial_id",
   "metadata": {
    "ExecuteTime": {
     "end_time": "2024-01-29T21:32:02.879353400Z",
     "start_time": "2024-01-29T21:32:02.706127700Z"
    },
    "collapsed": true
   },
   "outputs": [],
   "source": [
    "# Importiere, was du so fürs Leben brauchst ;)\n",
    "import numpy as np\n",
    "import pandas as pd"
   ]
  },
  {
   "cell_type": "markdown",
   "id": "87e64ff0938cdf90",
   "metadata": {
    "collapsed": false
   },
   "source": [
    "Aufgabe 1:\n",
    "Lade den Datensatz \"Data Science Salaries 2024\" [hier](https://www.kaggle.com/datasets/sazidthe1/data-science-salaries) herunter, lade ihn mit Pandas und speichere das Ergebnis in die Variabel salaries."
   ]
  },
  {
   "cell_type": "code",
   "execution_count": 14,
   "id": "bd08746df522ca0d",
   "metadata": {
    "ExecuteTime": {
     "end_time": "2024-01-29T21:32:02.946853400Z",
     "start_time": "2024-01-29T21:32:02.881354200Z"
    },
    "collapsed": false
   },
   "outputs": [],
   "source": [
    "salaries = pd.read_csv('data_science_salaries.csv')"
   ]
  },
  {
   "cell_type": "markdown",
   "id": "6f4bb8a361d882f4",
   "metadata": {
    "collapsed": false
   },
   "source": [
    "Aufgabe 2:\n",
    "Lasse dir Informationen über Spalten und Verbrauch an Arbeitsspeicher \n",
    "ausgeben, bitte als Kurzzusammenfassung (keine Zeile für jede Spalte!)"
   ]
  },
  {
   "cell_type": "code",
   "execution_count": 15,
   "id": "3665d28f0171590b",
   "metadata": {
    "ExecuteTime": {
     "end_time": "2024-01-29T21:32:03.035541300Z",
     "start_time": "2024-01-29T21:32:02.981857800Z"
    },
    "collapsed": false
   },
   "outputs": [
    {
     "name": "stdout",
     "output_type": "stream",
     "text": [
      "<class 'pandas.core.frame.DataFrame'>\n",
      "RangeIndex: 6599 entries, 0 to 6598\n",
      "Columns: 11 entries, job_title to company_size\n",
      "dtypes: int64(3), object(8)\n",
      "memory usage: 3.1 MB\n"
     ]
    }
   ],
   "source": [
    "salaries.info(verbose=False, memory_usage='deep')"
   ]
  },
  {
   "cell_type": "markdown",
   "id": "ebd7913dcd252410",
   "metadata": {
    "collapsed": false
   },
   "source": [
    "Aufgabe 3:\n",
    "Lasse dir die Größe des Dataframes (Anzahl Einträge) ausgeben.\n",
    "Lasse dir außerdem auch seine Anzahl Spalten und Zeilen anzeigen.\n",
    "Selektiere außerdem zur Übung einmal folgende Spalten: job_title, \n",
    "experience_level und salary_in_usd"
   ]
  },
  {
   "cell_type": "code",
   "execution_count": 16,
   "id": "be9250728237469c",
   "metadata": {
    "ExecuteTime": {
     "end_time": "2024-01-29T21:32:03.060543700Z",
     "start_time": "2024-01-29T21:32:02.993449100Z"
    },
    "collapsed": false
   },
   "outputs": [
    {
     "name": "stdout",
     "output_type": "stream",
     "text": [
      "72589\n",
      "(6599, 11)\n"
     ]
    }
   ],
   "source": [
    "print(salaries.size)\n",
    "print(salaries.shape)"
   ]
  },
  {
   "cell_type": "code",
   "execution_count": 17,
   "id": "493da0e42c93389d",
   "metadata": {
    "ExecuteTime": {
     "end_time": "2024-01-29T21:32:03.138590800Z",
     "start_time": "2024-01-29T21:32:03.063542900Z"
    },
    "collapsed": false
   },
   "outputs": [
    {
     "data": {
      "text/html": [
       "<div>\n",
       "<style scoped>\n",
       "    .dataframe tbody tr th:only-of-type {\n",
       "        vertical-align: middle;\n",
       "    }\n",
       "\n",
       "    .dataframe tbody tr th {\n",
       "        vertical-align: top;\n",
       "    }\n",
       "\n",
       "    .dataframe thead th {\n",
       "        text-align: right;\n",
       "    }\n",
       "</style>\n",
       "<table border=\"1\" class=\"dataframe\">\n",
       "  <thead>\n",
       "    <tr style=\"text-align: right;\">\n",
       "      <th></th>\n",
       "      <th>job_title</th>\n",
       "      <th>experience_level</th>\n",
       "      <th>salary_in_usd</th>\n",
       "    </tr>\n",
       "  </thead>\n",
       "  <tbody>\n",
       "    <tr>\n",
       "      <th>0</th>\n",
       "      <td>Data Engineer</td>\n",
       "      <td>Mid-level</td>\n",
       "      <td>148100</td>\n",
       "    </tr>\n",
       "    <tr>\n",
       "      <th>1</th>\n",
       "      <td>Data Engineer</td>\n",
       "      <td>Mid-level</td>\n",
       "      <td>98700</td>\n",
       "    </tr>\n",
       "    <tr>\n",
       "      <th>2</th>\n",
       "      <td>Data Scientist</td>\n",
       "      <td>Senior-level</td>\n",
       "      <td>140032</td>\n",
       "    </tr>\n",
       "    <tr>\n",
       "      <th>3</th>\n",
       "      <td>Data Scientist</td>\n",
       "      <td>Senior-level</td>\n",
       "      <td>100022</td>\n",
       "    </tr>\n",
       "    <tr>\n",
       "      <th>4</th>\n",
       "      <td>BI Developer</td>\n",
       "      <td>Mid-level</td>\n",
       "      <td>120000</td>\n",
       "    </tr>\n",
       "    <tr>\n",
       "      <th>...</th>\n",
       "      <td>...</td>\n",
       "      <td>...</td>\n",
       "      <td>...</td>\n",
       "    </tr>\n",
       "    <tr>\n",
       "      <th>6594</th>\n",
       "      <td>Staff Data Analyst</td>\n",
       "      <td>Entry-level</td>\n",
       "      <td>44753</td>\n",
       "    </tr>\n",
       "    <tr>\n",
       "      <th>6595</th>\n",
       "      <td>Staff Data Analyst</td>\n",
       "      <td>Executive-level</td>\n",
       "      <td>15000</td>\n",
       "    </tr>\n",
       "    <tr>\n",
       "      <th>6596</th>\n",
       "      <td>Machine Learning Manager</td>\n",
       "      <td>Senior-level</td>\n",
       "      <td>117104</td>\n",
       "    </tr>\n",
       "    <tr>\n",
       "      <th>6597</th>\n",
       "      <td>Data Engineer</td>\n",
       "      <td>Mid-level</td>\n",
       "      <td>74130</td>\n",
       "    </tr>\n",
       "    <tr>\n",
       "      <th>6598</th>\n",
       "      <td>Data Scientist</td>\n",
       "      <td>Senior-level</td>\n",
       "      <td>91237</td>\n",
       "    </tr>\n",
       "  </tbody>\n",
       "</table>\n",
       "<p>6599 rows × 3 columns</p>\n",
       "</div>"
      ],
      "text/plain": [
       "                     job_title experience_level  salary_in_usd\n",
       "0                Data Engineer        Mid-level         148100\n",
       "1                Data Engineer        Mid-level          98700\n",
       "2               Data Scientist     Senior-level         140032\n",
       "3               Data Scientist     Senior-level         100022\n",
       "4                 BI Developer        Mid-level         120000\n",
       "...                        ...              ...            ...\n",
       "6594        Staff Data Analyst      Entry-level          44753\n",
       "6595        Staff Data Analyst  Executive-level          15000\n",
       "6596  Machine Learning Manager     Senior-level         117104\n",
       "6597             Data Engineer        Mid-level          74130\n",
       "6598            Data Scientist     Senior-level          91237\n",
       "\n",
       "[6599 rows x 3 columns]"
      ]
     },
     "execution_count": 17,
     "metadata": {},
     "output_type": "execute_result"
    }
   ],
   "source": [
    "salaries[['job_title', 'experience_level', 'salary_in_usd']]"
   ]
  },
  {
   "cell_type": "markdown",
   "id": "213d27c3059fd6b6",
   "metadata": {
    "collapsed": false
   },
   "source": [
    "Aufgabe 4:\n",
    "Lasse dir eine statistische Übersicht über den gesamten Datensatz ausgeben.\n",
    "Wieso findest du dort nicht alle Spalten?"
   ]
  },
  {
   "cell_type": "code",
   "execution_count": 18,
   "id": "b5256d4fb36f6d2e",
   "metadata": {
    "ExecuteTime": {
     "end_time": "2024-01-29T21:32:03.227989800Z",
     "start_time": "2024-01-29T21:32:03.126589500Z"
    },
    "collapsed": false
   },
   "outputs": [
    {
     "data": {
      "text/html": [
       "<div>\n",
       "<style scoped>\n",
       "    .dataframe tbody tr th:only-of-type {\n",
       "        vertical-align: middle;\n",
       "    }\n",
       "\n",
       "    .dataframe tbody tr th {\n",
       "        vertical-align: top;\n",
       "    }\n",
       "\n",
       "    .dataframe thead th {\n",
       "        text-align: right;\n",
       "    }\n",
       "</style>\n",
       "<table border=\"1\" class=\"dataframe\">\n",
       "  <thead>\n",
       "    <tr style=\"text-align: right;\">\n",
       "      <th></th>\n",
       "      <th>work_year</th>\n",
       "      <th>salary</th>\n",
       "      <th>salary_in_usd</th>\n",
       "    </tr>\n",
       "  </thead>\n",
       "  <tbody>\n",
       "    <tr>\n",
       "      <th>count</th>\n",
       "      <td>6599.000000</td>\n",
       "      <td>6.599000e+03</td>\n",
       "      <td>6599.000000</td>\n",
       "    </tr>\n",
       "    <tr>\n",
       "      <th>mean</th>\n",
       "      <td>2022.818457</td>\n",
       "      <td>1.792833e+05</td>\n",
       "      <td>145560.558569</td>\n",
       "    </tr>\n",
       "    <tr>\n",
       "      <th>std</th>\n",
       "      <td>0.674809</td>\n",
       "      <td>5.263722e+05</td>\n",
       "      <td>70946.838070</td>\n",
       "    </tr>\n",
       "    <tr>\n",
       "      <th>min</th>\n",
       "      <td>2020.000000</td>\n",
       "      <td>1.400000e+04</td>\n",
       "      <td>15000.000000</td>\n",
       "    </tr>\n",
       "    <tr>\n",
       "      <th>25%</th>\n",
       "      <td>2023.000000</td>\n",
       "      <td>9.600000e+04</td>\n",
       "      <td>95000.000000</td>\n",
       "    </tr>\n",
       "    <tr>\n",
       "      <th>50%</th>\n",
       "      <td>2023.000000</td>\n",
       "      <td>1.400000e+05</td>\n",
       "      <td>138666.000000</td>\n",
       "    </tr>\n",
       "    <tr>\n",
       "      <th>75%</th>\n",
       "      <td>2023.000000</td>\n",
       "      <td>1.875000e+05</td>\n",
       "      <td>185000.000000</td>\n",
       "    </tr>\n",
       "    <tr>\n",
       "      <th>max</th>\n",
       "      <td>2024.000000</td>\n",
       "      <td>3.040000e+07</td>\n",
       "      <td>750000.000000</td>\n",
       "    </tr>\n",
       "  </tbody>\n",
       "</table>\n",
       "</div>"
      ],
      "text/plain": [
       "         work_year        salary  salary_in_usd\n",
       "count  6599.000000  6.599000e+03    6599.000000\n",
       "mean   2022.818457  1.792833e+05  145560.558569\n",
       "std       0.674809  5.263722e+05   70946.838070\n",
       "min    2020.000000  1.400000e+04   15000.000000\n",
       "25%    2023.000000  9.600000e+04   95000.000000\n",
       "50%    2023.000000  1.400000e+05  138666.000000\n",
       "75%    2023.000000  1.875000e+05  185000.000000\n",
       "max    2024.000000  3.040000e+07  750000.000000"
      ]
     },
     "execution_count": 18,
     "metadata": {},
     "output_type": "execute_result"
    }
   ],
   "source": [
    "salaries.describe()\n",
    "# Antwort: Nur numerische Spalten können in entsprechende statistische \n",
    "# Größen überführt werden."
   ]
  },
  {
   "cell_type": "markdown",
   "id": "2914fd5559de1121",
   "metadata": {
    "collapsed": false
   },
   "source": [
    "Aufgabe 5:\n",
    "Lasse dir die oberen sechs Einträge anzeigen. Lasse dir ferner die unteren \n",
    "10 anzeigen. Ziehe schließlich eine Stichprobe mit random state 42, die 20 \n",
    "Menschen umfasst und speichere sie in tech_sample. Vergleiche die Personen \n",
    "in der Stichprobe mit deinen Kollegen aus der Gruppe!"
   ]
  },
  {
   "cell_type": "code",
   "execution_count": 19,
   "id": "e176615c9dd78271",
   "metadata": {
    "ExecuteTime": {
     "end_time": "2024-01-29T21:32:03.301518700Z",
     "start_time": "2024-01-29T21:32:03.183371900Z"
    },
    "collapsed": false
   },
   "outputs": [
    {
     "data": {
      "text/html": [
       "<div>\n",
       "<style scoped>\n",
       "    .dataframe tbody tr th:only-of-type {\n",
       "        vertical-align: middle;\n",
       "    }\n",
       "\n",
       "    .dataframe tbody tr th {\n",
       "        vertical-align: top;\n",
       "    }\n",
       "\n",
       "    .dataframe thead th {\n",
       "        text-align: right;\n",
       "    }\n",
       "</style>\n",
       "<table border=\"1\" class=\"dataframe\">\n",
       "  <thead>\n",
       "    <tr style=\"text-align: right;\">\n",
       "      <th></th>\n",
       "      <th>job_title</th>\n",
       "      <th>experience_level</th>\n",
       "      <th>employment_type</th>\n",
       "      <th>work_models</th>\n",
       "      <th>work_year</th>\n",
       "      <th>employee_residence</th>\n",
       "      <th>salary</th>\n",
       "      <th>salary_currency</th>\n",
       "      <th>salary_in_usd</th>\n",
       "      <th>company_location</th>\n",
       "      <th>company_size</th>\n",
       "    </tr>\n",
       "  </thead>\n",
       "  <tbody>\n",
       "    <tr>\n",
       "      <th>0</th>\n",
       "      <td>Data Engineer</td>\n",
       "      <td>Mid-level</td>\n",
       "      <td>Full-time</td>\n",
       "      <td>Remote</td>\n",
       "      <td>2024</td>\n",
       "      <td>United States</td>\n",
       "      <td>148100</td>\n",
       "      <td>USD</td>\n",
       "      <td>148100</td>\n",
       "      <td>United States</td>\n",
       "      <td>Medium</td>\n",
       "    </tr>\n",
       "    <tr>\n",
       "      <th>1</th>\n",
       "      <td>Data Engineer</td>\n",
       "      <td>Mid-level</td>\n",
       "      <td>Full-time</td>\n",
       "      <td>Remote</td>\n",
       "      <td>2024</td>\n",
       "      <td>United States</td>\n",
       "      <td>98700</td>\n",
       "      <td>USD</td>\n",
       "      <td>98700</td>\n",
       "      <td>United States</td>\n",
       "      <td>Medium</td>\n",
       "    </tr>\n",
       "    <tr>\n",
       "      <th>2</th>\n",
       "      <td>Data Scientist</td>\n",
       "      <td>Senior-level</td>\n",
       "      <td>Full-time</td>\n",
       "      <td>Remote</td>\n",
       "      <td>2024</td>\n",
       "      <td>United States</td>\n",
       "      <td>140032</td>\n",
       "      <td>USD</td>\n",
       "      <td>140032</td>\n",
       "      <td>United States</td>\n",
       "      <td>Medium</td>\n",
       "    </tr>\n",
       "    <tr>\n",
       "      <th>3</th>\n",
       "      <td>Data Scientist</td>\n",
       "      <td>Senior-level</td>\n",
       "      <td>Full-time</td>\n",
       "      <td>Remote</td>\n",
       "      <td>2024</td>\n",
       "      <td>United States</td>\n",
       "      <td>100022</td>\n",
       "      <td>USD</td>\n",
       "      <td>100022</td>\n",
       "      <td>United States</td>\n",
       "      <td>Medium</td>\n",
       "    </tr>\n",
       "    <tr>\n",
       "      <th>4</th>\n",
       "      <td>BI Developer</td>\n",
       "      <td>Mid-level</td>\n",
       "      <td>Full-time</td>\n",
       "      <td>On-site</td>\n",
       "      <td>2024</td>\n",
       "      <td>United States</td>\n",
       "      <td>120000</td>\n",
       "      <td>USD</td>\n",
       "      <td>120000</td>\n",
       "      <td>United States</td>\n",
       "      <td>Medium</td>\n",
       "    </tr>\n",
       "    <tr>\n",
       "      <th>5</th>\n",
       "      <td>BI Developer</td>\n",
       "      <td>Mid-level</td>\n",
       "      <td>Full-time</td>\n",
       "      <td>On-site</td>\n",
       "      <td>2024</td>\n",
       "      <td>United States</td>\n",
       "      <td>62100</td>\n",
       "      <td>USD</td>\n",
       "      <td>62100</td>\n",
       "      <td>United States</td>\n",
       "      <td>Medium</td>\n",
       "    </tr>\n",
       "  </tbody>\n",
       "</table>\n",
       "</div>"
      ],
      "text/plain": [
       "        job_title experience_level employment_type work_models  work_year  \\\n",
       "0   Data Engineer        Mid-level       Full-time      Remote       2024   \n",
       "1   Data Engineer        Mid-level       Full-time      Remote       2024   \n",
       "2  Data Scientist     Senior-level       Full-time      Remote       2024   \n",
       "3  Data Scientist     Senior-level       Full-time      Remote       2024   \n",
       "4    BI Developer        Mid-level       Full-time     On-site       2024   \n",
       "5    BI Developer        Mid-level       Full-time     On-site       2024   \n",
       "\n",
       "  employee_residence  salary salary_currency  salary_in_usd company_location  \\\n",
       "0      United States  148100             USD         148100    United States   \n",
       "1      United States   98700             USD          98700    United States   \n",
       "2      United States  140032             USD         140032    United States   \n",
       "3      United States  100022             USD         100022    United States   \n",
       "4      United States  120000             USD         120000    United States   \n",
       "5      United States   62100             USD          62100    United States   \n",
       "\n",
       "  company_size  \n",
       "0       Medium  \n",
       "1       Medium  \n",
       "2       Medium  \n",
       "3       Medium  \n",
       "4       Medium  \n",
       "5       Medium  "
      ]
     },
     "execution_count": 19,
     "metadata": {},
     "output_type": "execute_result"
    }
   ],
   "source": [
    "salaries.head(6)"
   ]
  },
  {
   "cell_type": "code",
   "execution_count": 20,
   "id": "3021bd9b82821c97",
   "metadata": {
    "ExecuteTime": {
     "end_time": "2024-01-29T21:32:03.423216800Z",
     "start_time": "2024-01-29T21:32:03.275991600Z"
    },
    "collapsed": false
   },
   "outputs": [
    {
     "data": {
      "text/html": [
       "<div>\n",
       "<style scoped>\n",
       "    .dataframe tbody tr th:only-of-type {\n",
       "        vertical-align: middle;\n",
       "    }\n",
       "\n",
       "    .dataframe tbody tr th {\n",
       "        vertical-align: top;\n",
       "    }\n",
       "\n",
       "    .dataframe thead th {\n",
       "        text-align: right;\n",
       "    }\n",
       "</style>\n",
       "<table border=\"1\" class=\"dataframe\">\n",
       "  <thead>\n",
       "    <tr style=\"text-align: right;\">\n",
       "      <th></th>\n",
       "      <th>job_title</th>\n",
       "      <th>experience_level</th>\n",
       "      <th>employment_type</th>\n",
       "      <th>work_models</th>\n",
       "      <th>work_year</th>\n",
       "      <th>employee_residence</th>\n",
       "      <th>salary</th>\n",
       "      <th>salary_currency</th>\n",
       "      <th>salary_in_usd</th>\n",
       "      <th>company_location</th>\n",
       "      <th>company_size</th>\n",
       "    </tr>\n",
       "  </thead>\n",
       "  <tbody>\n",
       "    <tr>\n",
       "      <th>6589</th>\n",
       "      <td>Data Engineer</td>\n",
       "      <td>Mid-level</td>\n",
       "      <td>Full-time</td>\n",
       "      <td>Remote</td>\n",
       "      <td>2020</td>\n",
       "      <td>Germany</td>\n",
       "      <td>51999</td>\n",
       "      <td>EUR</td>\n",
       "      <td>59303</td>\n",
       "      <td>Germany</td>\n",
       "      <td>Small</td>\n",
       "    </tr>\n",
       "    <tr>\n",
       "      <th>6590</th>\n",
       "      <td>ML Engineer</td>\n",
       "      <td>Entry-level</td>\n",
       "      <td>Part-time</td>\n",
       "      <td>Remote</td>\n",
       "      <td>2020</td>\n",
       "      <td>Germany</td>\n",
       "      <td>14000</td>\n",
       "      <td>EUR</td>\n",
       "      <td>15966</td>\n",
       "      <td>Germany</td>\n",
       "      <td>Small</td>\n",
       "    </tr>\n",
       "    <tr>\n",
       "      <th>6591</th>\n",
       "      <td>Data Scientist</td>\n",
       "      <td>Mid-level</td>\n",
       "      <td>Full-time</td>\n",
       "      <td>On-site</td>\n",
       "      <td>2020</td>\n",
       "      <td>Germany</td>\n",
       "      <td>70000</td>\n",
       "      <td>EUR</td>\n",
       "      <td>79833</td>\n",
       "      <td>Germany</td>\n",
       "      <td>Large</td>\n",
       "    </tr>\n",
       "    <tr>\n",
       "      <th>6592</th>\n",
       "      <td>Data Scientist</td>\n",
       "      <td>Entry-level</td>\n",
       "      <td>Full-time</td>\n",
       "      <td>Hybrid</td>\n",
       "      <td>2020</td>\n",
       "      <td>Germany</td>\n",
       "      <td>55000</td>\n",
       "      <td>EUR</td>\n",
       "      <td>62726</td>\n",
       "      <td>Germany</td>\n",
       "      <td>Small</td>\n",
       "    </tr>\n",
       "    <tr>\n",
       "      <th>6593</th>\n",
       "      <td>Principal Data Scientist</td>\n",
       "      <td>Senior-level</td>\n",
       "      <td>Full-time</td>\n",
       "      <td>Remote</td>\n",
       "      <td>2020</td>\n",
       "      <td>Germany</td>\n",
       "      <td>130000</td>\n",
       "      <td>EUR</td>\n",
       "      <td>148261</td>\n",
       "      <td>Germany</td>\n",
       "      <td>Medium</td>\n",
       "    </tr>\n",
       "    <tr>\n",
       "      <th>6594</th>\n",
       "      <td>Staff Data Analyst</td>\n",
       "      <td>Entry-level</td>\n",
       "      <td>Contract</td>\n",
       "      <td>Hybrid</td>\n",
       "      <td>2020</td>\n",
       "      <td>Canada</td>\n",
       "      <td>60000</td>\n",
       "      <td>CAD</td>\n",
       "      <td>44753</td>\n",
       "      <td>Canada</td>\n",
       "      <td>Large</td>\n",
       "    </tr>\n",
       "    <tr>\n",
       "      <th>6595</th>\n",
       "      <td>Staff Data Analyst</td>\n",
       "      <td>Executive-level</td>\n",
       "      <td>Full-time</td>\n",
       "      <td>On-site</td>\n",
       "      <td>2020</td>\n",
       "      <td>Nigeria</td>\n",
       "      <td>15000</td>\n",
       "      <td>USD</td>\n",
       "      <td>15000</td>\n",
       "      <td>Canada</td>\n",
       "      <td>Medium</td>\n",
       "    </tr>\n",
       "    <tr>\n",
       "      <th>6596</th>\n",
       "      <td>Machine Learning Manager</td>\n",
       "      <td>Senior-level</td>\n",
       "      <td>Full-time</td>\n",
       "      <td>Hybrid</td>\n",
       "      <td>2020</td>\n",
       "      <td>Canada</td>\n",
       "      <td>157000</td>\n",
       "      <td>CAD</td>\n",
       "      <td>117104</td>\n",
       "      <td>Canada</td>\n",
       "      <td>Large</td>\n",
       "    </tr>\n",
       "    <tr>\n",
       "      <th>6597</th>\n",
       "      <td>Data Engineer</td>\n",
       "      <td>Mid-level</td>\n",
       "      <td>Full-time</td>\n",
       "      <td>Hybrid</td>\n",
       "      <td>2020</td>\n",
       "      <td>Austria</td>\n",
       "      <td>65000</td>\n",
       "      <td>EUR</td>\n",
       "      <td>74130</td>\n",
       "      <td>Austria</td>\n",
       "      <td>Large</td>\n",
       "    </tr>\n",
       "    <tr>\n",
       "      <th>6598</th>\n",
       "      <td>Data Scientist</td>\n",
       "      <td>Senior-level</td>\n",
       "      <td>Full-time</td>\n",
       "      <td>On-site</td>\n",
       "      <td>2020</td>\n",
       "      <td>Austria</td>\n",
       "      <td>80000</td>\n",
       "      <td>EUR</td>\n",
       "      <td>91237</td>\n",
       "      <td>Austria</td>\n",
       "      <td>Small</td>\n",
       "    </tr>\n",
       "  </tbody>\n",
       "</table>\n",
       "</div>"
      ],
      "text/plain": [
       "                     job_title experience_level employment_type work_models  \\\n",
       "6589             Data Engineer        Mid-level       Full-time      Remote   \n",
       "6590               ML Engineer      Entry-level       Part-time      Remote   \n",
       "6591            Data Scientist        Mid-level       Full-time     On-site   \n",
       "6592            Data Scientist      Entry-level       Full-time      Hybrid   \n",
       "6593  Principal Data Scientist     Senior-level       Full-time      Remote   \n",
       "6594        Staff Data Analyst      Entry-level        Contract      Hybrid   \n",
       "6595        Staff Data Analyst  Executive-level       Full-time     On-site   \n",
       "6596  Machine Learning Manager     Senior-level       Full-time      Hybrid   \n",
       "6597             Data Engineer        Mid-level       Full-time      Hybrid   \n",
       "6598            Data Scientist     Senior-level       Full-time     On-site   \n",
       "\n",
       "      work_year employee_residence  salary salary_currency  salary_in_usd  \\\n",
       "6589       2020            Germany   51999             EUR          59303   \n",
       "6590       2020            Germany   14000             EUR          15966   \n",
       "6591       2020            Germany   70000             EUR          79833   \n",
       "6592       2020            Germany   55000             EUR          62726   \n",
       "6593       2020            Germany  130000             EUR         148261   \n",
       "6594       2020             Canada   60000             CAD          44753   \n",
       "6595       2020            Nigeria   15000             USD          15000   \n",
       "6596       2020             Canada  157000             CAD         117104   \n",
       "6597       2020            Austria   65000             EUR          74130   \n",
       "6598       2020            Austria   80000             EUR          91237   \n",
       "\n",
       "     company_location company_size  \n",
       "6589          Germany        Small  \n",
       "6590          Germany        Small  \n",
       "6591          Germany        Large  \n",
       "6592          Germany        Small  \n",
       "6593          Germany       Medium  \n",
       "6594           Canada        Large  \n",
       "6595           Canada       Medium  \n",
       "6596           Canada        Large  \n",
       "6597          Austria        Large  \n",
       "6598          Austria        Small  "
      ]
     },
     "execution_count": 20,
     "metadata": {},
     "output_type": "execute_result"
    }
   ],
   "source": [
    "salaries.tail(10)"
   ]
  },
  {
   "cell_type": "code",
   "execution_count": 21,
   "id": "2e80118c8e4102c",
   "metadata": {
    "ExecuteTime": {
     "end_time": "2024-01-29T21:32:03.535814900Z",
     "start_time": "2024-01-29T21:32:03.364522100Z"
    },
    "collapsed": false
   },
   "outputs": [
    {
     "data": {
      "text/html": [
       "<div>\n",
       "<style scoped>\n",
       "    .dataframe tbody tr th:only-of-type {\n",
       "        vertical-align: middle;\n",
       "    }\n",
       "\n",
       "    .dataframe tbody tr th {\n",
       "        vertical-align: top;\n",
       "    }\n",
       "\n",
       "    .dataframe thead th {\n",
       "        text-align: right;\n",
       "    }\n",
       "</style>\n",
       "<table border=\"1\" class=\"dataframe\">\n",
       "  <thead>\n",
       "    <tr style=\"text-align: right;\">\n",
       "      <th></th>\n",
       "      <th>job_title</th>\n",
       "      <th>experience_level</th>\n",
       "      <th>employment_type</th>\n",
       "      <th>work_models</th>\n",
       "      <th>work_year</th>\n",
       "      <th>employee_residence</th>\n",
       "      <th>salary</th>\n",
       "      <th>salary_currency</th>\n",
       "      <th>salary_in_usd</th>\n",
       "      <th>company_location</th>\n",
       "      <th>company_size</th>\n",
       "    </tr>\n",
       "  </thead>\n",
       "  <tbody>\n",
       "    <tr>\n",
       "      <th>2098</th>\n",
       "      <td>Applied Scientist</td>\n",
       "      <td>Senior-level</td>\n",
       "      <td>Full-time</td>\n",
       "      <td>Remote</td>\n",
       "      <td>2023</td>\n",
       "      <td>United States</td>\n",
       "      <td>230000</td>\n",
       "      <td>USD</td>\n",
       "      <td>230000</td>\n",
       "      <td>United States</td>\n",
       "      <td>Medium</td>\n",
       "    </tr>\n",
       "    <tr>\n",
       "      <th>5338</th>\n",
       "      <td>Data Scientist</td>\n",
       "      <td>Senior-level</td>\n",
       "      <td>Full-time</td>\n",
       "      <td>Remote</td>\n",
       "      <td>2022</td>\n",
       "      <td>United States</td>\n",
       "      <td>104000</td>\n",
       "      <td>USD</td>\n",
       "      <td>104000</td>\n",
       "      <td>United States</td>\n",
       "      <td>Medium</td>\n",
       "    </tr>\n",
       "    <tr>\n",
       "      <th>4407</th>\n",
       "      <td>Data Science Engineer</td>\n",
       "      <td>Senior-level</td>\n",
       "      <td>Full-time</td>\n",
       "      <td>On-site</td>\n",
       "      <td>2023</td>\n",
       "      <td>United States</td>\n",
       "      <td>100000</td>\n",
       "      <td>USD</td>\n",
       "      <td>100000</td>\n",
       "      <td>United States</td>\n",
       "      <td>Medium</td>\n",
       "    </tr>\n",
       "    <tr>\n",
       "      <th>6108</th>\n",
       "      <td>Data Engineer</td>\n",
       "      <td>Mid-level</td>\n",
       "      <td>Full-time</td>\n",
       "      <td>Remote</td>\n",
       "      <td>2022</td>\n",
       "      <td>Greece</td>\n",
       "      <td>60000</td>\n",
       "      <td>EUR</td>\n",
       "      <td>63040</td>\n",
       "      <td>Greece</td>\n",
       "      <td>Medium</td>\n",
       "    </tr>\n",
       "    <tr>\n",
       "      <th>4025</th>\n",
       "      <td>Data Scientist</td>\n",
       "      <td>Senior-level</td>\n",
       "      <td>Full-time</td>\n",
       "      <td>Remote</td>\n",
       "      <td>2023</td>\n",
       "      <td>United States</td>\n",
       "      <td>238000</td>\n",
       "      <td>USD</td>\n",
       "      <td>238000</td>\n",
       "      <td>United States</td>\n",
       "      <td>Medium</td>\n",
       "    </tr>\n",
       "    <tr>\n",
       "      <th>6204</th>\n",
       "      <td>Data Engineer</td>\n",
       "      <td>Senior-level</td>\n",
       "      <td>Full-time</td>\n",
       "      <td>On-site</td>\n",
       "      <td>2022</td>\n",
       "      <td>Spain</td>\n",
       "      <td>35000</td>\n",
       "      <td>EUR</td>\n",
       "      <td>36773</td>\n",
       "      <td>Spain</td>\n",
       "      <td>Medium</td>\n",
       "    </tr>\n",
       "    <tr>\n",
       "      <th>4880</th>\n",
       "      <td>Data Engineer</td>\n",
       "      <td>Mid-level</td>\n",
       "      <td>Full-time</td>\n",
       "      <td>Remote</td>\n",
       "      <td>2023</td>\n",
       "      <td>France</td>\n",
       "      <td>53000</td>\n",
       "      <td>EUR</td>\n",
       "      <td>57223</td>\n",
       "      <td>France</td>\n",
       "      <td>Medium</td>\n",
       "    </tr>\n",
       "    <tr>\n",
       "      <th>1446</th>\n",
       "      <td>Data Engineer</td>\n",
       "      <td>Mid-level</td>\n",
       "      <td>Full-time</td>\n",
       "      <td>On-site</td>\n",
       "      <td>2023</td>\n",
       "      <td>United States</td>\n",
       "      <td>104000</td>\n",
       "      <td>USD</td>\n",
       "      <td>104000</td>\n",
       "      <td>United States</td>\n",
       "      <td>Medium</td>\n",
       "    </tr>\n",
       "    <tr>\n",
       "      <th>5712</th>\n",
       "      <td>Business Data Analyst</td>\n",
       "      <td>Mid-level</td>\n",
       "      <td>Full-time</td>\n",
       "      <td>Remote</td>\n",
       "      <td>2022</td>\n",
       "      <td>United States</td>\n",
       "      <td>150000</td>\n",
       "      <td>USD</td>\n",
       "      <td>150000</td>\n",
       "      <td>United States</td>\n",
       "      <td>Large</td>\n",
       "    </tr>\n",
       "    <tr>\n",
       "      <th>5540</th>\n",
       "      <td>Data Manager</td>\n",
       "      <td>Entry-level</td>\n",
       "      <td>Full-time</td>\n",
       "      <td>Remote</td>\n",
       "      <td>2022</td>\n",
       "      <td>United States</td>\n",
       "      <td>77300</td>\n",
       "      <td>USD</td>\n",
       "      <td>77300</td>\n",
       "      <td>United States</td>\n",
       "      <td>Medium</td>\n",
       "    </tr>\n",
       "    <tr>\n",
       "      <th>4362</th>\n",
       "      <td>Data Scientist</td>\n",
       "      <td>Entry-level</td>\n",
       "      <td>Full-time</td>\n",
       "      <td>On-site</td>\n",
       "      <td>2023</td>\n",
       "      <td>United States</td>\n",
       "      <td>74540</td>\n",
       "      <td>USD</td>\n",
       "      <td>74540</td>\n",
       "      <td>United States</td>\n",
       "      <td>Medium</td>\n",
       "    </tr>\n",
       "    <tr>\n",
       "      <th>217</th>\n",
       "      <td>Data Analyst</td>\n",
       "      <td>Entry-level</td>\n",
       "      <td>Full-time</td>\n",
       "      <td>Remote</td>\n",
       "      <td>2024</td>\n",
       "      <td>United States</td>\n",
       "      <td>120000</td>\n",
       "      <td>USD</td>\n",
       "      <td>120000</td>\n",
       "      <td>United States</td>\n",
       "      <td>Medium</td>\n",
       "    </tr>\n",
       "    <tr>\n",
       "      <th>491</th>\n",
       "      <td>Data Architect</td>\n",
       "      <td>Senior-level</td>\n",
       "      <td>Full-time</td>\n",
       "      <td>On-site</td>\n",
       "      <td>2024</td>\n",
       "      <td>United States</td>\n",
       "      <td>130000</td>\n",
       "      <td>USD</td>\n",
       "      <td>130000</td>\n",
       "      <td>United States</td>\n",
       "      <td>Medium</td>\n",
       "    </tr>\n",
       "    <tr>\n",
       "      <th>535</th>\n",
       "      <td>Machine Learning Engineer</td>\n",
       "      <td>Mid-level</td>\n",
       "      <td>Full-time</td>\n",
       "      <td>Remote</td>\n",
       "      <td>2024</td>\n",
       "      <td>Spain</td>\n",
       "      <td>83900</td>\n",
       "      <td>EUR</td>\n",
       "      <td>93222</td>\n",
       "      <td>Spain</td>\n",
       "      <td>Medium</td>\n",
       "    </tr>\n",
       "    <tr>\n",
       "      <th>1562</th>\n",
       "      <td>Business Intelligence Analyst</td>\n",
       "      <td>Mid-level</td>\n",
       "      <td>Full-time</td>\n",
       "      <td>Remote</td>\n",
       "      <td>2023</td>\n",
       "      <td>United States</td>\n",
       "      <td>125009</td>\n",
       "      <td>USD</td>\n",
       "      <td>125009</td>\n",
       "      <td>United States</td>\n",
       "      <td>Medium</td>\n",
       "    </tr>\n",
       "    <tr>\n",
       "      <th>6497</th>\n",
       "      <td>Machine Learning Engineer</td>\n",
       "      <td>Entry-level</td>\n",
       "      <td>Full-time</td>\n",
       "      <td>Hybrid</td>\n",
       "      <td>2021</td>\n",
       "      <td>Germany</td>\n",
       "      <td>21000</td>\n",
       "      <td>EUR</td>\n",
       "      <td>24823</td>\n",
       "      <td>Germany</td>\n",
       "      <td>Medium</td>\n",
       "    </tr>\n",
       "    <tr>\n",
       "      <th>4450</th>\n",
       "      <td>Machine Learning Researcher</td>\n",
       "      <td>Senior-level</td>\n",
       "      <td>Freelance</td>\n",
       "      <td>Hybrid</td>\n",
       "      <td>2023</td>\n",
       "      <td>Ukraine</td>\n",
       "      <td>50000</td>\n",
       "      <td>USD</td>\n",
       "      <td>50000</td>\n",
       "      <td>Ukraine</td>\n",
       "      <td>Small</td>\n",
       "    </tr>\n",
       "    <tr>\n",
       "      <th>2462</th>\n",
       "      <td>Head of Data</td>\n",
       "      <td>Executive-level</td>\n",
       "      <td>Full-time</td>\n",
       "      <td>Remote</td>\n",
       "      <td>2023</td>\n",
       "      <td>United States</td>\n",
       "      <td>200000</td>\n",
       "      <td>USD</td>\n",
       "      <td>200000</td>\n",
       "      <td>United States</td>\n",
       "      <td>Medium</td>\n",
       "    </tr>\n",
       "    <tr>\n",
       "      <th>833</th>\n",
       "      <td>Data Analyst</td>\n",
       "      <td>Mid-level</td>\n",
       "      <td>Full-time</td>\n",
       "      <td>On-site</td>\n",
       "      <td>2023</td>\n",
       "      <td>United States</td>\n",
       "      <td>75000</td>\n",
       "      <td>USD</td>\n",
       "      <td>75000</td>\n",
       "      <td>United States</td>\n",
       "      <td>Medium</td>\n",
       "    </tr>\n",
       "    <tr>\n",
       "      <th>96</th>\n",
       "      <td>Data Science</td>\n",
       "      <td>Senior-level</td>\n",
       "      <td>Full-time</td>\n",
       "      <td>On-site</td>\n",
       "      <td>2024</td>\n",
       "      <td>United States</td>\n",
       "      <td>160000</td>\n",
       "      <td>USD</td>\n",
       "      <td>160000</td>\n",
       "      <td>United States</td>\n",
       "      <td>Medium</td>\n",
       "    </tr>\n",
       "  </tbody>\n",
       "</table>\n",
       "</div>"
      ],
      "text/plain": [
       "                          job_title experience_level employment_type  \\\n",
       "2098              Applied Scientist     Senior-level       Full-time   \n",
       "5338                 Data Scientist     Senior-level       Full-time   \n",
       "4407          Data Science Engineer     Senior-level       Full-time   \n",
       "6108                  Data Engineer        Mid-level       Full-time   \n",
       "4025                 Data Scientist     Senior-level       Full-time   \n",
       "6204                  Data Engineer     Senior-level       Full-time   \n",
       "4880                  Data Engineer        Mid-level       Full-time   \n",
       "1446                  Data Engineer        Mid-level       Full-time   \n",
       "5712          Business Data Analyst        Mid-level       Full-time   \n",
       "5540                   Data Manager      Entry-level       Full-time   \n",
       "4362                 Data Scientist      Entry-level       Full-time   \n",
       "217                    Data Analyst      Entry-level       Full-time   \n",
       "491                  Data Architect     Senior-level       Full-time   \n",
       "535       Machine Learning Engineer        Mid-level       Full-time   \n",
       "1562  Business Intelligence Analyst        Mid-level       Full-time   \n",
       "6497      Machine Learning Engineer      Entry-level       Full-time   \n",
       "4450    Machine Learning Researcher     Senior-level       Freelance   \n",
       "2462                   Head of Data  Executive-level       Full-time   \n",
       "833                    Data Analyst        Mid-level       Full-time   \n",
       "96                     Data Science     Senior-level       Full-time   \n",
       "\n",
       "     work_models  work_year employee_residence  salary salary_currency  \\\n",
       "2098      Remote       2023      United States  230000             USD   \n",
       "5338      Remote       2022      United States  104000             USD   \n",
       "4407     On-site       2023      United States  100000             USD   \n",
       "6108      Remote       2022             Greece   60000             EUR   \n",
       "4025      Remote       2023      United States  238000             USD   \n",
       "6204     On-site       2022              Spain   35000             EUR   \n",
       "4880      Remote       2023             France   53000             EUR   \n",
       "1446     On-site       2023      United States  104000             USD   \n",
       "5712      Remote       2022      United States  150000             USD   \n",
       "5540      Remote       2022      United States   77300             USD   \n",
       "4362     On-site       2023      United States   74540             USD   \n",
       "217       Remote       2024      United States  120000             USD   \n",
       "491      On-site       2024      United States  130000             USD   \n",
       "535       Remote       2024              Spain   83900             EUR   \n",
       "1562      Remote       2023      United States  125009             USD   \n",
       "6497      Hybrid       2021            Germany   21000             EUR   \n",
       "4450      Hybrid       2023            Ukraine   50000             USD   \n",
       "2462      Remote       2023      United States  200000             USD   \n",
       "833      On-site       2023      United States   75000             USD   \n",
       "96       On-site       2024      United States  160000             USD   \n",
       "\n",
       "      salary_in_usd company_location company_size  \n",
       "2098         230000    United States       Medium  \n",
       "5338         104000    United States       Medium  \n",
       "4407         100000    United States       Medium  \n",
       "6108          63040           Greece       Medium  \n",
       "4025         238000    United States       Medium  \n",
       "6204          36773            Spain       Medium  \n",
       "4880          57223           France       Medium  \n",
       "1446         104000    United States       Medium  \n",
       "5712         150000    United States        Large  \n",
       "5540          77300    United States       Medium  \n",
       "4362          74540    United States       Medium  \n",
       "217          120000    United States       Medium  \n",
       "491          130000    United States       Medium  \n",
       "535           93222            Spain       Medium  \n",
       "1562         125009    United States       Medium  \n",
       "6497          24823          Germany       Medium  \n",
       "4450          50000          Ukraine        Small  \n",
       "2462         200000    United States       Medium  \n",
       "833           75000    United States       Medium  \n",
       "96           160000    United States       Medium  "
      ]
     },
     "execution_count": 21,
     "metadata": {},
     "output_type": "execute_result"
    }
   ],
   "source": [
    "salaries.sample(20, random_state=42)"
   ]
  },
  {
   "cell_type": "markdown",
   "id": "cc339936baec1b9e",
   "metadata": {
    "collapsed": false
   },
   "source": [
    "Aufgabe 6:\n",
    "In wie vielen unterschiedlichen Ländern arbeiten die hier erfassten Personen?"
   ]
  },
  {
   "cell_type": "code",
   "execution_count": 22,
   "id": "f808cc4f8d4ce3a1",
   "metadata": {
    "ExecuteTime": {
     "end_time": "2024-01-29T21:32:03.654809600Z",
     "start_time": "2024-01-29T21:32:03.464218800Z"
    },
    "collapsed": false
   },
   "outputs": [
    {
     "data": {
      "text/plain": [
       "75"
      ]
     },
     "execution_count": 22,
     "metadata": {},
     "output_type": "execute_result"
    }
   ],
   "source": [
    "salaries['company_location'].nunique()"
   ]
  },
  {
   "cell_type": "markdown",
   "id": "a79dd7d436076c4c",
   "metadata": {
    "collapsed": false
   },
   "source": [
    "Aufgabe 7:\n",
    "Was sind die fünf Länder mit den meisten im Datensatz erfassten \n",
    "Tech-Arbeitern?"
   ]
  },
  {
   "cell_type": "code",
   "execution_count": 23,
   "id": "b73f148e274a01d1",
   "metadata": {
    "ExecuteTime": {
     "end_time": "2024-01-29T21:32:03.774526200Z",
     "start_time": "2024-01-29T21:32:03.658810600Z"
    },
    "collapsed": false
   },
   "outputs": [
    {
     "data": {
      "text/plain": [
       "company_location\n",
       "United States     5354\n",
       "United Kingdom     408\n",
       "Canada             243\n",
       "Germany             78\n",
       "Spain               63\n",
       "Name: count, dtype: int64"
      ]
     },
     "execution_count": 23,
     "metadata": {},
     "output_type": "execute_result"
    }
   ],
   "source": [
    "salaries['company_location'].value_counts().head()"
   ]
  },
  {
   "cell_type": "code",
   "execution_count": 31,
   "id": "e4a9e2776d370479",
   "metadata": {
    "ExecuteTime": {
     "end_time": "2024-01-29T21:33:51.501167200Z",
     "start_time": "2024-01-29T21:33:51.489961900Z"
    },
    "collapsed": false
   },
   "outputs": [
    {
     "data": {
      "text/plain": [
       "company_location\n",
       "United States     5354\n",
       "United Kingdom     408\n",
       "Canada             243\n",
       "Germany             78\n",
       "Spain               63\n",
       "Name: count, dtype: int64"
      ]
     },
     "execution_count": 31,
     "metadata": {},
     "output_type": "execute_result"
    }
   ],
   "source": [
    "salaries['company_location'].value_counts().nlargest(5)"
   ]
  },
  {
   "cell_type": "markdown",
   "id": "b5bb1bf48300edb6",
   "metadata": {
    "collapsed": false
   },
   "source": [
    "Aufgabe 8:\n",
    "Wie viele verschiedene Jobrollen gibt es?"
   ]
  },
  {
   "cell_type": "code",
   "execution_count": 24,
   "id": "e3ede5ee6047bb83",
   "metadata": {
    "ExecuteTime": {
     "end_time": "2024-01-29T21:32:03.908332900Z",
     "start_time": "2024-01-29T21:32:03.775524600Z"
    },
    "collapsed": false
   },
   "outputs": [
    {
     "data": {
      "text/plain": [
       "array(['Data Engineer', 'Data Scientist', 'BI Developer',\n",
       "       'Research Analyst', 'Business Intelligence Developer',\n",
       "       'Data Analyst', 'Director of Data Science', 'MLOps Engineer',\n",
       "       'Machine Learning Scientist', 'Machine Learning Engineer',\n",
       "       'Data Science Manager', 'Applied Scientist',\n",
       "       'Business Intelligence Analyst', 'Analytics Engineer',\n",
       "       'Business Intelligence Engineer', 'Data Science',\n",
       "       'Research Scientist', 'Research Engineer',\n",
       "       'Managing Director Data Science', 'AI Engineer', 'Data Specialist',\n",
       "       'Data Architect', 'Data Visualization Specialist', 'ETL Developer',\n",
       "       'Data Science Practitioner', 'Computer Vision Engineer',\n",
       "       'Data Lead', 'ML Engineer', 'Data Developer', 'Data Modeler',\n",
       "       'Data Science Consultant', 'AI Architect',\n",
       "       'Data Analytics Manager', 'Data Science Engineer',\n",
       "       'Data Product Manager', 'Data Quality Analyst', 'Data Strategist',\n",
       "       'Prompt Engineer', 'Data Science Lead',\n",
       "       'Business Intelligence Manager', 'Data Manager',\n",
       "       'Data Analytics Lead', 'Machine Learning Infrastructure Engineer',\n",
       "       'Data Integration Engineer', 'Data Management Analyst',\n",
       "       'BI Analyst', 'Business Data Analyst',\n",
       "       'Machine Learning Operations Engineer', 'NLP Engineer',\n",
       "       'Marketing Data Scientist', 'AI Scientist',\n",
       "       'Machine Learning Researcher', 'Data Science Director',\n",
       "       'Head of Data', 'Machine Learning Modeler',\n",
       "       'Data Integration Specialist', 'Data Management Specialist',\n",
       "       'AI Developer', 'Business Intelligence Specialist',\n",
       "       'Data Quality Engineer', 'Decision Scientist',\n",
       "       'Financial Data Analyst', 'Data Strategy Manager',\n",
       "       'Data Visualization Engineer', 'Principal Data Scientist',\n",
       "       'Data Infrastructure Engineer',\n",
       "       'Machine Learning Software Engineer', 'Head of Machine Learning',\n",
       "       'Data Operations Analyst', 'Data Operations Engineer',\n",
       "       'Machine Learning Manager', 'BI Data Analyst',\n",
       "       'AI Research Engineer', 'Deep Learning Engineer',\n",
       "       'Data Operations Manager', 'Head of Data Science',\n",
       "       'Software Data Engineer', 'Compliance Data Analyst',\n",
       "       'Data Operations Specialist', 'Business Intelligence Data Analyst',\n",
       "       'AWS Data Architect', 'Product Data Analyst',\n",
       "       'Data Visualization Analyst', 'Cloud Data Engineer',\n",
       "       'Finance Data Analyst', 'Applied Machine Learning Engineer',\n",
       "       'Lead Data Analyst', 'BI Data Engineer', 'Cloud Database Engineer',\n",
       "       'Applied Machine Learning Scientist', 'Data Analytics Specialist',\n",
       "       'Big Data Engineer', 'Machine Learning Research Engineer',\n",
       "       'Staff Data Analyst', 'Lead Data Scientist', 'Insight Analyst',\n",
       "       'Azure Data Engineer', 'Data Analyst Lead', 'AI Programmer',\n",
       "       'Applied Data Scientist', 'AI Product Manager',\n",
       "       'Principal Machine Learning Engineer',\n",
       "       'Lead Machine Learning Engineer', 'Data Quality Manager',\n",
       "       'Data Product Owner', 'Data Modeller',\n",
       "       'Analytics Engineering Manager', 'Autonomous Vehicle Technician',\n",
       "       'ETL Engineer', 'Big Data Architect',\n",
       "       'Machine Learning Specialist', 'Data DevOps Engineer',\n",
       "       'Principal Data Engineer', 'Power BI Developer',\n",
       "       'Deep Learning Researcher', 'Consultant Data Engineer',\n",
       "       'Computer Vision Software Engineer', 'Manager Data Management',\n",
       "       'Data Analytics Consultant', 'Data Science Tech Lead',\n",
       "       'Data Analytics Engineer', 'Data Scientist Lead',\n",
       "       'Machine Learning Developer', 'Principal Data Architect',\n",
       "       'Marketing Data Analyst', 'Lead Data Engineer',\n",
       "       'Principal Data Analyst', 'Staff Machine Learning Engineer',\n",
       "       'Cloud Data Architect', 'Staff Data Scientist',\n",
       "       'Marketing Data Engineer', 'Sales Data Analyst'], dtype=object)"
      ]
     },
     "execution_count": 24,
     "metadata": {},
     "output_type": "execute_result"
    }
   ],
   "source": [
    "salaries['job_title'].unique()"
   ]
  },
  {
   "cell_type": "code",
   "execution_count": 25,
   "id": "f3a942e5834fd80a",
   "metadata": {
    "ExecuteTime": {
     "end_time": "2024-01-29T21:32:03.935333800Z",
     "start_time": "2024-01-29T21:32:03.875219900Z"
    },
    "collapsed": false
   },
   "outputs": [
    {
     "name": "stdout",
     "output_type": "stream",
     "text": [
      "Anzahl Jobrollen: 132\n"
     ]
    }
   ],
   "source": [
    "print('Anzahl Jobrollen:', salaries['job_title'].nunique())"
   ]
  },
  {
   "cell_type": "markdown",
   "id": "6338128b63833766",
   "metadata": {
    "collapsed": false
   },
   "source": [
    "Aufgabe 9:\n",
    "Wie viele Personen gibt es, die AI Engineers sind?\n",
    "Löse, ohne durch Output gehen zu müssen!"
   ]
  },
  {
   "cell_type": "code",
   "execution_count": 26,
   "id": "97404b3bb6904bef",
   "metadata": {
    "ExecuteTime": {
     "end_time": "2024-01-29T21:32:04.019514400Z",
     "start_time": "2024-01-29T21:32:03.930334700Z"
    },
    "collapsed": false
   },
   "outputs": [
    {
     "data": {
      "text/plain": [
       "job_title\n",
       "Data Engineer                1307\n",
       "Data Scientist               1243\n",
       "Data Analyst                  910\n",
       "Machine Learning Engineer     629\n",
       "Analytics Engineer            246\n",
       "                             ... \n",
       "Deep Learning Researcher        1\n",
       "Power BI Developer              1\n",
       "Marketing Data Scientist        1\n",
       "AI Product Manager              1\n",
       "Sales Data Analyst              1\n",
       "Name: count, Length: 132, dtype: int64"
      ]
     },
     "execution_count": 26,
     "metadata": {},
     "output_type": "execute_result"
    }
   ],
   "source": [
    "salaries['job_title'].value_counts()"
   ]
  },
  {
   "cell_type": "code",
   "execution_count": 27,
   "id": "8d70ec12cad8f7f4",
   "metadata": {
    "ExecuteTime": {
     "end_time": "2024-01-29T21:32:04.072505Z",
     "start_time": "2024-01-29T21:32:03.997650400Z"
    },
    "collapsed": false
   },
   "outputs": [
    {
     "data": {
      "text/plain": [
       "48"
      ]
     },
     "execution_count": 27,
     "metadata": {},
     "output_type": "execute_result"
    }
   ],
   "source": [
    "# Value Counts gibt Anzahlen für alle Rollen und im Index stehen die \n",
    "# Jobtitel, d.h. wir können über den Index direkt auf das erwünschte Element\n",
    "# zugreifen!\n",
    "salaries['job_title'].value_counts()['AI Engineer']"
   ]
  },
  {
   "cell_type": "markdown",
   "id": "ba620eaaf4bcf08c",
   "metadata": {
    "collapsed": false
   },
   "source": [
    "Aufgabe 10:\n",
    "Lass dir die statistische Zusammenfassung der Gehälter in US-Dollar ausgeben"
   ]
  },
  {
   "cell_type": "code",
   "execution_count": 28,
   "id": "af1055c12fe28743",
   "metadata": {
    "ExecuteTime": {
     "end_time": "2024-01-29T21:32:04.135364Z",
     "start_time": "2024-01-29T21:32:04.067509Z"
    },
    "collapsed": false
   },
   "outputs": [
    {
     "data": {
      "text/plain": [
       "count      6599.000000\n",
       "mean     145560.558569\n",
       "std       70946.838070\n",
       "min       15000.000000\n",
       "25%       95000.000000\n",
       "50%      138666.000000\n",
       "75%      185000.000000\n",
       "max      750000.000000\n",
       "Name: salary_in_usd, dtype: float64"
      ]
     },
     "execution_count": 28,
     "metadata": {},
     "output_type": "execute_result"
    }
   ],
   "source": [
    "salaries['salary_in_usd'].describe()"
   ]
  },
  {
   "cell_type": "markdown",
   "id": "f4800a165830912b",
   "metadata": {
    "collapsed": false
   },
   "source": [
    "Aufgabe 11:\n",
    "Erstelle eine Spalte mit Gehaltskategorien (salary_level)\n",
    "* low income: unter 30000\n",
    "* middle income: über 30000, aber unter 80000\n",
    "* high income: über 80000"
   ]
  },
  {
   "cell_type": "code",
   "execution_count": 29,
   "id": "bc404fb0c0a43d7d",
   "metadata": {
    "ExecuteTime": {
     "end_time": "2024-01-29T21:32:04.155365700Z",
     "start_time": "2024-01-29T21:32:04.125014200Z"
    },
    "collapsed": false
   },
   "outputs": [],
   "source": [
    "salaries['salary_level'] = pd.cut(salaries['salary_in_usd'],\n",
    "                            bins=[0, 30_000, 80_000, np.inf],  # statt inf würde auch 10^9 reichen ;)\n",
    "                            labels=['low income', 'middle income', 'high income'],\n",
    "                            include_lowest=True,\n",
    "                            )"
   ]
  },
  {
   "cell_type": "markdown",
   "id": "9c9e536599be36ca",
   "metadata": {
    "collapsed": false
   },
   "source": [
    "\n",
    "Aufgabe 12:\n",
    "Zähle nun die Einkommensklassen, aber lasse sie Anteile am Gesamt-Datensatz \n",
    "ausgeben!"
   ]
  },
  {
   "cell_type": "code",
   "execution_count": 30,
   "id": "cc8cdd30835a8821",
   "metadata": {
    "ExecuteTime": {
     "end_time": "2024-01-29T21:32:04.221380100Z",
     "start_time": "2024-01-29T21:32:04.156367500Z"
    },
    "collapsed": false
   },
   "outputs": [
    {
     "data": {
      "text/plain": [
       "salary_level\n",
       "high income      0.821791\n",
       "middle income    0.162449\n",
       "low income       0.015760\n",
       "Name: proportion, dtype: float64"
      ]
     },
     "execution_count": 30,
     "metadata": {},
     "output_type": "execute_result"
    }
   ],
   "source": [
    "salaries['salary_level'].value_counts(normalize=True)"
   ]
  },
  {
   "cell_type": "markdown",
   "id": "b9fcb8caf21650dc",
   "metadata": {
    "collapsed": false
   },
   "source": [
    "Aufgabe 13:\n",
    "Hey, du hast einen Datensatz und weißt schon so Manches damit anzufangen! \n",
    "Niemand hindert dich, weiter deine Künste daran auszuprobieren und \n",
    "Fragenstellungen nachzugehen, die dich interessieren. In dem Sinne: Viel \n",
    "Spaß mit Aufgabe 13! ;)"
   ]
  },
  {
   "cell_type": "code",
   "execution_count": 30,
   "id": "461fa476d698f618",
   "metadata": {
    "ExecuteTime": {
     "end_time": "2024-01-29T21:32:04.252776100Z",
     "start_time": "2024-01-29T21:32:04.174864500Z"
    },
    "collapsed": false
   },
   "outputs": [],
   "source": []
  },
  {
   "cell_type": "code",
   "execution_count": 30,
   "id": "4f0cff164a417d56",
   "metadata": {
    "ExecuteTime": {
     "end_time": "2024-01-29T21:32:04.265762800Z",
     "start_time": "2024-01-29T21:32:04.228382500Z"
    },
    "collapsed": false
   },
   "outputs": [],
   "source": []
  },
  {
   "cell_type": "code",
   "execution_count": 30,
   "id": "68953d8dc1936e14",
   "metadata": {
    "ExecuteTime": {
     "end_time": "2024-01-29T21:32:04.296136400Z",
     "start_time": "2024-01-29T21:32:04.269761700Z"
    },
    "collapsed": false
   },
   "outputs": [],
   "source": []
  },
  {
   "cell_type": "code",
   "execution_count": 30,
   "id": "fe224af534d6348e",
   "metadata": {
    "ExecuteTime": {
     "end_time": "2024-01-29T21:32:04.325297900Z",
     "start_time": "2024-01-29T21:32:04.299137600Z"
    },
    "collapsed": false
   },
   "outputs": [],
   "source": []
  }
 ],
 "metadata": {
  "kernelspec": {
   "display_name": "Python 3",
   "language": "python",
   "name": "python3"
  },
  "language_info": {
   "codemirror_mode": {
    "name": "ipython",
    "version": 2
   },
   "file_extension": ".py",
   "mimetype": "text/x-python",
   "name": "python",
   "nbconvert_exporter": "python",
   "pygments_lexer": "ipython2",
   "version": "2.7.6"
  }
 },
 "nbformat": 4,
 "nbformat_minor": 5
}
