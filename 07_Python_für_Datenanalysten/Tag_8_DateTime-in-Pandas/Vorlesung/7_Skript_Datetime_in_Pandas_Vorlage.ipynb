{
 "cells": [
  {
   "cell_type": "markdown",
   "metadata": {},
   "source": [
    "# Datetime in Pandas\n",
    "\n",
    "Wenn man `datetime`-Daten mit Pandas einliest, werden diese nicht umgewandelt und standardmäßig nur als String gespeichert. Wenn wir mit Datumsangaben rechnen wollen, müssen wir wie in Standard-Python mit dem Modul datetime die Werte innerhalb von Pandas in einen Datetime-Typen umwandeln.\n",
    "\n",
    "ACHTUNG: Pandas ist nicht mit dem Standard `datetime` Modul kompatibel, sondern benutzt die Typen `numpy.datetime64` und `numpy.timedelta64`."
   ]
  },
  {
   "cell_type": "code",
   "execution_count": null,
   "metadata": {},
   "outputs": [],
   "source": [
    "from datetime import date\n",
    "import numpy as np\n",
    "import pandas as pd\n",
    "import seaborn as sns"
   ]
  },
  {
   "cell_type": "markdown",
   "metadata": {},
   "source": [
    "## Datetime-Serien erstellen"
   ]
  },
  {
   "cell_type": "code",
   "execution_count": null,
   "metadata": {},
   "outputs": [],
   "source": [
    "# Versuchen datetime.date in Pandas zu integrieren\n",
    "dates = [date(2023, 10, x) for x in range(1, 11)]\n",
    "dates"
   ]
  },
  {
   "cell_type": "code",
   "execution_count": null,
   "metadata": {},
   "outputs": [],
   "source": [
    "# datetime.date Objekte können in eine Series eingebaut werden.\n",
    "# Aber: Das ist nicht der Standarddatentyp in Pandas!\n",
    "# Weil der Datentyp nicht passt, können wir viele sehr nützliche Operationen, \n",
    "# die es in Pandas gibt, gar nicht benutzen, etwa Zeitdaten aggregieren (Details später).\n",
    "date_series = pd.Series(dates, name='dates')\n",
    "date_series"
   ]
  },
  {
   "cell_type": "code",
   "execution_count": null,
   "metadata": {},
   "outputs": [],
   "source": [
    "# Umwandeln der Zeilen in den Standarddatentypen\n",
    "# von Pandas für Zeitdaten:\n",
    "date_series_dt64 = date_series.astype(\"datetime64[ns]\")"
   ]
  },
  {
   "cell_type": "code",
   "outputs": [],
   "source": [
    "# Dieser, von numpy stammende Datentyp, sieht gleich aus, kann aber \n",
    "# innerhalb von Pandas viel mehr!\n",
    "date_series_dt64"
   ],
   "metadata": {
    "collapsed": false
   },
   "execution_count": null
  },
  {
   "cell_type": "code",
   "execution_count": null,
   "metadata": {},
   "outputs": [],
   "source": [
    "# Man kann mit Pandas auch Datums-Reihen selbst erstellen,\n",
    "# die dann sofort im richtigen Datentypen vorliegen:\n",
    "dates = pd.date_range(\"2023-10-01\", \"2023-10-31\")\n",
    "dates"
   ]
  },
  {
   "cell_type": "code",
   "outputs": [],
   "source": [
    "# Mit freq kann man auch die Schrittweite steuern, also z.B. jeder zweite Tag nur:\n",
    "every_second_day = pd.date_range(start=\"2023-10-01\", \n",
    "                                 end=\"2023-10-31\",\n",
    "                                 freq='2D'\n",
    "                                 )\n",
    "every_second_day"
   ],
   "metadata": {
    "collapsed": false
   },
   "execution_count": null
  },
  {
   "cell_type": "code",
   "outputs": [],
   "source": [
    "# Die Schrittweite beträgt im folgenden Beispiel 'ME' für monatlich und am Monatsende\n",
    "every_month = pd.date_range(start=\"2023-10\",\n",
    "                            end='2024-02',\n",
    "                            freq='ME',\n",
    "                            )\n",
    "every_month"
   ],
   "metadata": {
    "collapsed": false
   },
   "execution_count": null
  },
  {
   "cell_type": "code",
   "outputs": [],
   "source": [
    "# Mit 'MS' (S für Start) kriegt man dagegen alle Monate mit erstem Tag!\n",
    "every_month = pd.date_range(start=\"2023-10\",\n",
    "                            end='2024-02',\n",
    "                            freq='MS',\n",
    "                            )\n",
    "every_month"
   ],
   "metadata": {
    "collapsed": false
   },
   "execution_count": null
  },
  {
   "cell_type": "code",
   "outputs": [],
   "source": [
    "# Man braucht nicht zwingend start und end!\n",
    "# Es ist auch möglich ein Start-Datum anzugeben und dann zu sagen,\n",
    "# wie viele Einträge der Index umfassen soll (periods, hier 12)!\n",
    "periods = pd.date_range(start=\"2023-10-01\",\n",
    "                        freq='MS',\n",
    "                        periods=12\n",
    "                        )\n",
    "periods"
   ],
   "metadata": {
    "collapsed": false
   },
   "execution_count": null
  },
  {
   "cell_type": "markdown",
   "metadata": {},
   "source": [
    "# Rechnen mit Datetime\n"
   ]
  },
  {
   "cell_type": "code",
   "execution_count": null,
   "metadata": {},
   "outputs": [],
   "source": [
    "# Vergangene Tage seit einem bestimmten Datum berechnen\n",
    "np.datetime64(\"today\") - np.datetime64(\"2000-01-01\")"
   ]
  },
  {
   "cell_type": "code",
   "outputs": [],
   "source": [
    "# Jetzt holen wir wieder unseren Datetime-Index und rechnen damit!\n",
    "dates = pd.date_range(\"2023-10-01\", \"2023-10-31\")\n",
    "dates"
   ],
   "metadata": {
    "collapsed": false
   },
   "execution_count": null
  },
  {
   "cell_type": "code",
   "execution_count": null,
   "metadata": {},
   "outputs": [],
   "source": [
    "# Wie aus Numpy bereits gewohnt, wird das Einzeldatum Wert für Wert\n",
    "# von allen Daten im DatetimeIndex subtrahiert und es entsteht ein TimedeltaIndex:\n",
    "dates - np.datetime64(\"2000-01-01\")"
   ]
  },
  {
   "cell_type": "code",
   "execution_count": null,
   "metadata": {},
   "outputs": [],
   "source": [
    "# Man kann auch Timedelta-Objekte erstellen und die Daten um dieses Delta verschieben,\n",
    "# etwa wie hier um 31 Tage in die Zukunft:\n",
    "np.timedelta64(31, \"D\") + dates"
   ]
  },
  {
   "cell_type": "markdown",
   "metadata": {},
   "source": [
    "## Einzelkomponenten von Datumsangaben"
   ]
  },
  {
   "cell_type": "code",
   "execution_count": null,
   "metadata": {},
   "outputs": [],
   "source": [
    "dates"
   ]
  },
  {
   "cell_type": "code",
   "execution_count": null,
   "metadata": {},
   "outputs": [],
   "source": [
    "# Monat des jeweiligen Datums\n",
    "dates.month"
   ]
  },
  {
   "cell_type": "code",
   "execution_count": null,
   "metadata": {},
   "outputs": [],
   "source": [
    "# Wochentag (Zahl) des jeweiligen Datums\n",
    "dates.weekday"
   ]
  },
  {
   "cell_type": "code",
   "execution_count": null,
   "metadata": {},
   "outputs": [],
   "source": [
    "# Wochentag (Wort) des jeweiligen Datums\n",
    "dates.day_name()"
   ]
  },
  {
   "cell_type": "markdown",
   "metadata": {},
   "source": [
    "## Strings in datetime umwandeln\n",
    "\n",
    "Mit `pandas.to_datetime` können Werte in den Pandas-datetime-Typen (pd.Timestamp) konvertiert werden."
   ]
  },
  {
   "cell_type": "code",
   "execution_count": null,
   "metadata": {},
   "outputs": [],
   "source": [
    "# Umwandeln eines Strings\n",
    "pd.to_datetime(\"2024-02-05\", format=\"%Y-%m-%d\")"
   ]
  },
  {
   "cell_type": "code",
   "outputs": [],
   "source": [
    "# Umwandeln eines anders gearteten Strings\n",
    "pd.to_datetime(\"feb 24 05\", format=\"%b %y %d\")"
   ],
   "metadata": {
    "collapsed": false
   },
   "execution_count": null
  },
  {
   "cell_type": "code",
   "outputs": [],
   "source": [
    "# Datentyp prüfen:\n",
    "my_date = pd.to_datetime(\"feb 24 05\", format=\"%b %y %d\")\n",
    "print(type(my_date))"
   ],
   "metadata": {
    "collapsed": false
   },
   "execution_count": null
  },
  {
   "cell_type": "code",
   "outputs": [],
   "source": [
    "# Format muss man zwar nicht unbedingt angeben, denn\n",
    "# es gibt einen automatischen Parser, der oftmals funktioniert...\n",
    "pd.to_datetime(\"feb 2024 05\")"
   ],
   "metadata": {
    "collapsed": false
   },
   "execution_count": null
  },
  {
   "cell_type": "code",
   "outputs": [],
   "source": [
    "# aber auch gerne falsche Daten extrahiert!\n",
    "pd.to_datetime(\"feb 24 05\")\n",
    "# Ratschlag: Auf den automatischen Parser verzichten."
   ],
   "metadata": {
    "collapsed": false
   },
   "execution_count": null
  },
  {
   "cell_type": "code",
   "execution_count": null,
   "metadata": {},
   "outputs": [],
   "source": [
    "# Natürlich akzeptiert to_datetime auch date-Objekte:\n",
    "pd.to_datetime(date(2023, 10, 26))"
   ]
  },
  {
   "cell_type": "code",
   "execution_count": null,
   "metadata": {},
   "outputs": [],
   "source": [
    "# DataFrame: Strings in Datetime umwandeln\n",
    "df = pd.DataFrame({\n",
    "    \"date\": ['2022-01-01', '2022-01-02', '2022-01-03', '2022-01-04',\n",
    "             '2022-01-05', '2022-01-06', '2022-01-07', '2022-01-08',\n",
    "             '2022-01-09', '2022-01-10'],\n",
    "    \"temperatur\": 10 + np.random.randint(10, size=10) \n",
    "})\n",
    "df"
   ]
  },
  {
   "cell_type": "code",
   "execution_count": null,
   "metadata": {},
   "outputs": [],
   "source": [
    "# Datentypen in den Spalten prüfen (date: object heißt, dass es Strings sind):\n",
    "df.dtypes"
   ]
  },
  {
   "cell_type": "code",
   "execution_count": null,
   "metadata": {},
   "outputs": [],
   "source": [
    "# Umwandeln in Pandas datetime:\n",
    "df[\"date\"] = pd.to_datetime(df[\"date\"])"
   ]
  },
  {
   "cell_type": "code",
   "execution_count": null,
   "metadata": {},
   "outputs": [],
   "source": [
    "# dtype der Datums-Spalte nachher\n",
    "df.dtypes"
   ]
  },
  {
   "cell_type": "code",
   "outputs": [],
   "source": [
    "# Es wäre cool, auf die verschiedenen Bestandteile der Datumsobjekte zugreifen zu können.\n",
    "# Zum Beispiel day oder day_of_week oder year etc.\n",
    "# Ein Weg, das zu erreichen: hinter den Spaltennamen ein dt und dann das gewünschte Attribut anhängen.\n",
    "# Hier Wochentage als Zahlen (0 = Montag, 6 = Sonntag):\n",
    "df['date'].dt.dayofweek"
   ],
   "metadata": {
    "collapsed": false
   },
   "execution_count": null
  },
  {
   "cell_type": "code",
   "outputs": [],
   "source": [
    "# Name der Wochentage? Auch kein Problem mit der Methode day_name()\n",
    "df['date'].dt.day_name()"
   ],
   "metadata": {
    "collapsed": false
   },
   "execution_count": null
  },
  {
   "cell_type": "code",
   "outputs": [],
   "source": [
    "# Ein anderer, gängiger Weg ist es, die Datumsspalte gleich zum Index zu erheben,\n",
    "# was die Arbeit mit ihr weiter erleichtert:\n",
    "df.set_index('date', inplace=True)"
   ],
   "metadata": {
    "collapsed": false
   },
   "execution_count": null
  },
  {
   "cell_type": "code",
   "outputs": [],
   "source": [
    "df.index.year"
   ],
   "metadata": {
    "collapsed": false
   },
   "execution_count": null
  },
  {
   "cell_type": "code",
   "outputs": [],
   "source": [
    "df.index.dayofweek"
   ],
   "metadata": {
    "collapsed": false
   },
   "execution_count": null
  },
  {
   "cell_type": "code",
   "outputs": [],
   "source": [
    "df.index.day_name()"
   ],
   "metadata": {
    "collapsed": false
   },
   "execution_count": null
  },
  {
   "cell_type": "markdown",
   "metadata": {},
   "source": [
    "##### Übungsaufgabe\n",
    "\n",
    "Errechne für den kompletten Datensatz das Alter der Kinder und lasse dir im Anschluss das Minimum, Maximum, und den Mittelwert von Alter, Größe und Gewicht anzeigen. Gehe der Einfachheit halber von einem Jahr aus, das aus 365 Tagen besteht, denn für genauere Altersberechnungen fehlen uns noch ein paar Funktionalitäten. (Interessanter [Link](https://www.geeksforgeeks.org/convert-birth-date-to-age-in-pandas/) zum Thema)"
   ]
  },
  {
   "cell_type": "code",
   "execution_count": null,
   "metadata": {},
   "outputs": [],
   "source": [
    "schule_df = pd.DataFrame({\n",
    "    'SchulID': ['s001','s002','s003','s001','s002','s004'],\n",
    "    'Klasse': ['V', 'V', 'VI', 'VI', 'V', 'VI'],\n",
    "    'Name': ['Alberto Franco','Gino Mcneill','Ryan Parkes', 'Eesha Hinton', 'Gino Mcneill', 'David Parkes'],\n",
    "    'Geburtsdatum': [\"2002-05-15\",\"2002-05-17\",\"1999-01-16\",\"1998-09-25\",\"2002-05-11\",\"1997-09-15\"],\n",
    "    'Groesse': [173, 192, 186, 167, 151, 159],\n",
    "    'Gewicht': [35, 32, 33, 30, 31, 32]},\n",
    "    index=['S1', 'S2', 'S3', 'S4', 'S5', 'S6'])\n",
    "\n",
    "schule_df"
   ]
  },
  {
   "cell_type": "code",
   "outputs": [],
   "source": [],
   "metadata": {
    "collapsed": false
   },
   "execution_count": null
  },
  {
   "cell_type": "markdown",
   "source": [
    "### Exkurs: mit apply() lassen sich Funktionen auf ganze Spalten anwenden!"
   ],
   "metadata": {
    "collapsed": false
   }
  },
  {
   "cell_type": "code",
   "outputs": [],
   "source": [
    "# Wir wollen eine ganz einfache Lambda-Funktion auf Alter anwenden, die aus jedem Float eine Ganzzahl macht:\n",
    "schule_df['Alter'].apply(lambda x: int(x))"
   ],
   "metadata": {
    "collapsed": false
   },
   "execution_count": null
  },
  {
   "cell_type": "code",
   "outputs": [],
   "source": [
    "# Wir wollen cm in feet umrechnen mit einer Funktion:\n",
    "# 1cm ist dabei circa 0,033 Feet groß\n",
    "def cm_to_feet(size_cm: float) -> float:\n",
    "    return size_cm * 0.033"
   ],
   "metadata": {
    "collapsed": false
   },
   "execution_count": null
  },
  {
   "cell_type": "code",
   "outputs": [],
   "source": [
    "# Jetzt wenden wir die Funktion mit apply auf die Spalte Groesse an:\n",
    "schule_df['Groesse'].apply(cm_to_feet)"
   ],
   "metadata": {
    "collapsed": false
   },
   "execution_count": null
  },
  {
   "cell_type": "code",
   "outputs": [],
   "source": [
    "# Jetzt wollen wir das Ergebnis als separate Spalte 'Groesse_feet' speichern:\n",
    "schule_df['Groesse_feet'] = schule_df['Groesse'].apply(cm_to_feet)"
   ],
   "metadata": {
    "collapsed": false
   },
   "execution_count": null
  },
  {
   "cell_type": "code",
   "outputs": [],
   "source": [
    "schule_df.head()"
   ],
   "metadata": {
    "collapsed": false
   },
   "execution_count": null
  },
  {
   "cell_type": "code",
   "outputs": [],
   "source": [
    "# Aufgabe: Schreibe eine weight_to_pounds oder arbeite mit lambda, um eine neue Spalte\n",
    "# im Dataframe anzulegen, in der die Gewichtsangaben in Pfund zu finden sind!"
   ],
   "metadata": {
    "collapsed": false
   },
   "execution_count": null
  },
  {
   "cell_type": "code",
   "outputs": [],
   "source": [],
   "metadata": {
    "collapsed": false
   },
   "execution_count": null
  },
  {
   "cell_type": "markdown",
   "metadata": {},
   "source": [
    "## Pandas datetimes in Strings umwandeln\n",
    "\n",
    "Wir kennen schon `datetime.date.strftime()`. In Pandas können wir die gleiche Funktionalität übernehmen!"
   ]
  },
  {
   "cell_type": "code",
   "execution_count": null,
   "metadata": {},
   "outputs": [],
   "source": [
    "# Wie sehen unsere Daten nochmal aus?\n",
    "dates"
   ]
  },
  {
   "cell_type": "code",
   "execution_count": null,
   "metadata": {},
   "outputs": [],
   "source": [
    "# Ausgabe von Teilen des Datums mit strftime\n",
    "dates.strftime(\"%Y %b\")"
   ]
  },
  {
   "cell_type": "markdown",
   "metadata": {},
   "source": [
    "### Übungsaufgabe \n",
    "Stelle die Geburtstage der Kinder in folgendem Format dar: \"May 15\" (Beispiel bei Alberto Franco) und speichere die formatierten Datumsangaben in einer neuen Spalte namens Geburtstag."
   ]
  },
  {
   "cell_type": "code",
   "outputs": [],
   "source": [],
   "metadata": {
    "collapsed": false
   },
   "execution_count": null
  },
  {
   "cell_type": "markdown",
   "metadata": {},
   "source": [
    "# Datetime beim Einlesen von Dateien\n",
    "\n",
    "Auch wenn wir CSV- oder Excel-Dateien laden, werden Datumsangaben nicht automatisch ausgelesen, sondern als pure Strings importiert. Daher müssen wir auch hier den Datentyp umwandeln bzw. alternativ beim Import direkt die Zeitdaten parsen."
   ]
  },
  {
   "cell_type": "code",
   "outputs": [],
   "source": [
    "# Wir speichern unser Schul-Dataframe als csv:\n",
    "schule_df.to_csv('schule.csv', index=True)"
   ],
   "metadata": {
    "collapsed": false
   },
   "execution_count": null
  },
  {
   "cell_type": "code",
   "outputs": [],
   "source": [
    "# Wir laden dieses erneut als Dataframe:\n",
    "schule = pd.read_csv('schule.csv', index_col=0)"
   ],
   "metadata": {
    "collapsed": false
   },
   "execution_count": null
  },
  {
   "cell_type": "code",
   "outputs": [],
   "source": [
    "# Geburtsdatum ist object (also String):\n",
    "schule.dtypes"
   ],
   "metadata": {
    "collapsed": false
   },
   "execution_count": null
  },
  {
   "cell_type": "code",
   "outputs": [],
   "source": [
    "# Lösung 1: Nachträglich to_datetime anwenden.\n",
    "schule[\"Geburtsdatum\"] = pd.to_datetime(schule[\"Geburtsdatum\"])\n",
    "schule.dtypes\n",
    "# Nachteil: Ein zusätzlicher Arbeitsschritt nötig!"
   ],
   "metadata": {
    "collapsed": false
   },
   "execution_count": null
  },
  {
   "cell_type": "code",
   "outputs": [],
   "source": [
    "schule.head()"
   ],
   "metadata": {
    "collapsed": false
   },
   "execution_count": null
  },
  {
   "cell_type": "code",
   "execution_count": null,
   "metadata": {},
   "outputs": [],
   "source": [
    "# Lösung 2: Das parse_dates keyword Argument beim\n",
    "# Einlesen verwenden:\n",
    "schule = pd.read_csv('schule.csv', \n",
    "                     index_col=0,\n",
    "                     parse_dates=['Geburtsdatum'],\n",
    "                     date_format='%Y-%m-%d')\n",
    "schule.dtypes\n",
    "# Achtung: Ohne date_format könnten Daten beim automatischen Parsen falsch erkannt werden!"
   ]
  },
  {
   "cell_type": "markdown",
   "metadata": {},
   "source": [
    "# Arbeit mit datetime-Indizes\n",
    "\n",
    "Wenn wir Datetime-Werte als Index einer Series oder eines DataFrames haben, können wir sehr schön damit arbeiten.\n",
    "\n",
    "So können wir z.B. Slicing benutzen und auch die Frequenz ändern (z.B. tägliche Werte zu monatlichen zusammenfassen)."
   ]
  },
  {
   "cell_type": "code",
   "execution_count": null,
   "metadata": {},
   "outputs": [],
   "source": [
    "sea_ice = sns.load_dataset('seaice').set_index('Date')\n",
    "sea_ice.head()"
   ]
  },
  {
   "cell_type": "markdown",
   "metadata": {},
   "source": [
    "## Slicing"
   ]
  },
  {
   "cell_type": "code",
   "execution_count": null,
   "metadata": {},
   "outputs": [],
   "source": [
    "# Abruf einer Zeile\n",
    "sea_ice.loc[\"1980-01-01\"]"
   ]
  },
  {
   "cell_type": "code",
   "outputs": [],
   "source": [
    "# Abruf von Daten eines Monats:\n",
    "sea_ice.loc[\"1980-02\"]"
   ],
   "metadata": {
    "collapsed": false
   },
   "execution_count": null
  },
  {
   "cell_type": "code",
   "execution_count": null,
   "metadata": {},
   "outputs": [],
   "source": [
    "# Abruf eines Datumsbereichs\n",
    "# Hier: Alle Daten von Januar bis einschließlich Februar:\n",
    "sea_ice.loc[\"1980-01\":\"1980-02\"]"
   ]
  },
  {
   "cell_type": "code",
   "execution_count": null,
   "metadata": {},
   "outputs": [],
   "source": [
    "# Nach Slicing kann man weiterhin auf Datumsbestandteile\n",
    "# zugreifen. Hier bei nur einem Eintrag:\n",
    "sea_ice.loc[\"1980-01-01\"].name.month"
   ]
  },
  {
   "cell_type": "code",
   "outputs": [],
   "source": [
    "# Hier bei einem Array aus Einträgen:\n",
    "sea_ice.loc[\"1980-01\":\"1980-03\"].index.month"
   ],
   "metadata": {
    "collapsed": false
   },
   "execution_count": null
  },
  {
   "cell_type": "markdown",
   "metadata": {},
   "source": [
    "## Resampling\n",
    "\n",
    "Wenn wir datetime als Index benutzen, können wir die \"Frequenz\" der Zeitdaten ändern.\n",
    "Frequenz bezeichnet die Feinkörnigkeit der Daten: gibt es zu jedem Tag einen Eintrag, zu jedem Monat, zu jedem Jahr?\n",
    "Man kann mit dem Frequenz-Parameter Zeitdaten entsprechend umwandeln.\n",
    "\n",
    "<br>ACHTUNG: Wenn man eine niedrigere Frequenz wählt (Also zum Beispiel tägliche Daten zu monatlichen Daten zusammenfasst), hat man in der Regel mehrere Werte pro Index. Diese müssen dann noch mit einer Aggregations-Funktion zusammengefasst werden (vergleichbar mit Groupby!).\n",
    "\n",
    "Wenn man andererseits eine höhere Frequenz wählt, also zum Beispiel monatliche Daten zu täglichen Daten umwandelt, erhält man viele fehlende Werte. Wenn es gute Gründe dafür gibt, können diese künstlich aufgefüllt werden. Ansonsten ist besser, auf dem Level der Granularität (Körnigkeit) der Daten zu bleiben, auf dem diese vorliegen."
   ]
  },
  {
   "cell_type": "code",
   "execution_count": null,
   "metadata": {},
   "outputs": [],
   "source": [
    "# Aktueller DataFrame\n",
    "sea_ice"
   ]
  },
  {
   "cell_type": "code",
   "execution_count": null,
   "metadata": {},
   "outputs": [],
   "source": [
    "# Zusammenfassung aller Daten eines Jahres zum Durchschnitt:\n",
    "sea_ice.resample(\"1Y\").mean()"
   ]
  },
  {
   "cell_type": "code",
   "outputs": [],
   "source": [
    "# Plotten\n",
    "sea_year = sea_ice.resample(\"1Y\").mean()\n",
    "sea_year.index = sea_year.index.year\n",
    "sea_year.plot(marker='o',\n",
    "              ylabel='Temp (°C)');"
   ],
   "metadata": {
    "collapsed": false
   },
   "execution_count": null
  },
  {
   "cell_type": "markdown",
   "metadata": {},
   "source": [
    "Übersicht über die rule Argumente von resample: [Link](https://pandas.pydata.org/pandas-docs/stable/user_guide/timeseries.html#dateoffset-objects)\n",
    "\n",
    "Unter der Überschrift \"DateOffset objects\""
   ]
  },
  {
   "cell_type": "code",
   "execution_count": null,
   "metadata": {},
   "outputs": [],
   "source": [
    "# Zusammenfassung der Daten für 10 Jahre im Durchschnitt:\n",
    "sea_ice.resample(\"10Y\").mean()"
   ]
  },
  {
   "cell_type": "code",
   "execution_count": null,
   "metadata": {},
   "outputs": [],
   "source": [
    "# Daten zum Monat zusammenfassen\n",
    "sea_ice_month = sea_ice.resample(\"MS\").mean()\n",
    "sea_ice_month"
   ]
  },
  {
   "cell_type": "code",
   "execution_count": null,
   "metadata": {},
   "outputs": [],
   "source": [
    "# Auffüllen der Tage mit linearer Interpolation\n",
    "# Standardwert ist 'linear', aber es gibt noch andere.\n",
    "sea_ice_month.resample(\"D\").interpolate()"
   ]
  },
  {
   "cell_type": "code",
   "outputs": [],
   "source": [
    "sea_ice_month.resample(\"D\").interpolate(method='linear')"
   ],
   "metadata": {
    "collapsed": false
   },
   "execution_count": null
  },
  {
   "cell_type": "code",
   "outputs": [],
   "source": [
    "# Alternative Variante: Mit asfreq tägliche Daten erzeugen, in denen auch NAs vorliegen:\n",
    "sea_ice.asfreq('1D')"
   ],
   "metadata": {
    "collapsed": false
   },
   "execution_count": null
  },
  {
   "cell_type": "code",
   "outputs": [],
   "source": [
    "# Hier kann man auch Methoden zum Auffüllen direkt in asfreq nutzen.\n",
    "# ffill füllt \"nach vorne\" auf, d.h. NAs werden ersetzt durch die Werte,\n",
    "# die direkt vor ihnen kommen:\n",
    "sea_ice.asfreq('1D', method='ffill')"
   ],
   "metadata": {
    "collapsed": false
   },
   "execution_count": null
  },
  {
   "cell_type": "code",
   "outputs": [],
   "source": [
    "# bfill ist das Gegenteil von ffill\n",
    "sea_ice.asfreq('1D', method='bfill')"
   ],
   "metadata": {
    "collapsed": false
   },
   "execution_count": null
  },
  {
   "cell_type": "code",
   "outputs": [],
   "source": [
    "# Man kann NAs auch mit fillna ersetzen.\n",
    "# Beispiel: Alle NAs durch die Zahl 10 ersetzen:\n",
    "ice_daily = sea_ice.asfreq('1D')\n",
    "ice_daily.head()"
   ],
   "metadata": {
    "collapsed": false
   },
   "execution_count": null
  },
  {
   "cell_type": "code",
   "outputs": [],
   "source": [
    "ice_daily.fillna(10)"
   ],
   "metadata": {
    "collapsed": false
   },
   "execution_count": null
  },
  {
   "cell_type": "code",
   "outputs": [],
   "source": [
    "# Etwas eleganter: Durchschnitt des Ganzen zum Auffüllen nutzen:\n",
    "ice_daily.fillna(ice_daily.mean())"
   ],
   "metadata": {
    "collapsed": false
   },
   "execution_count": null
  }
 ],
 "metadata": {
  "kernelspec": {
   "display_name": "kurs6",
   "language": "python",
   "name": "python3"
  },
  "language_info": {
   "codemirror_mode": {
    "name": "ipython",
    "version": 3
   },
   "file_extension": ".py",
   "mimetype": "text/x-python",
   "name": "python",
   "nbconvert_exporter": "python",
   "pygments_lexer": "ipython3",
   "version": "3.9.12"
  }
 },
 "nbformat": 4,
 "nbformat_minor": 2
}
