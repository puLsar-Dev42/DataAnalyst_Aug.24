{
 "cells": [
  {
   "cell_type": "markdown",
   "metadata": {},
   "source": [
    "# Diagramme und Charts\n",
    "\n",
    "Zum Leben eines Datenanalysten gehört Visualisierung und bei der Visualisierung in Python sind die Bibliotheken Matplotlib und Seaborn nicht wegzudenken. Diesen werden wir auch im Modul Datenvisualisierung später begegnen. Doch für unsere aktuelle Arbeit würden wir auch jetzt schon gerne vorzeigbare Plots produzieren.\n",
    "\n",
    "Zum Glück hat Pandas die wichtigsten Dinge dafür bereits an Bord, denn Pandas bringt (eingeschränktere) Funktionalitäten mit, die auf Matplotlib aufbauen! \n",
    "Der Vorteil: Sie sind super leicht zu nutzen und können direkt am Dataframe oder einer Pandas Series aufgerufen werden!\n",
    "Im Folgenden schauen wir uns das für ein paar klassische Arten von Plots an und nehmen hier und da auch eine kleine\n",
    "designbezogene Einstellung vor."
   ]
  },
  {
   "cell_type": "code",
   "metadata": {},
   "source": [
    "import pandas as pd\n",
    "import seaborn as sns"
   ],
   "outputs": [],
   "execution_count": null
  },
  {
   "cell_type": "code",
   "source": [
    "sns.get_dataset_names()"
   ],
   "metadata": {
    "collapsed": false
   },
   "outputs": [],
   "execution_count": null
  },
  {
   "cell_type": "markdown",
   "source": [
    "## Das Liniendiagramm (lineplot)"
   ],
   "metadata": {
    "collapsed": false
   }
  },
  {
   "cell_type": "code",
   "source": [
    "dow_jones = sns.load_dataset('dowjones')\n",
    "dow_jones.head()"
   ],
   "metadata": {
    "collapsed": false
   },
   "outputs": [],
   "execution_count": null
  },
  {
   "cell_type": "code",
   "source": [
    "# So nicht!\n",
    "# Als x-Achse wird nicht die Date-Spalte, sondern der Index genutzt!\n",
    "dow_jones.plot();"
   ],
   "metadata": {
    "collapsed": false
   },
   "outputs": [],
   "execution_count": null
  },
  {
   "cell_type": "code",
   "source": [
    "# So ist besser:\n",
    "dow_jones.plot(x='Date', y='Price');"
   ],
   "metadata": {
    "collapsed": false
   },
   "outputs": [],
   "execution_count": null
  },
  {
   "cell_type": "code",
   "source": [
    "# Oder den Index ändern und dann plotten:\n",
    "dow_jones = dow_jones.set_index('Date')"
   ],
   "metadata": {
    "collapsed": false
   },
   "outputs": [],
   "execution_count": null
  },
  {
   "cell_type": "code",
   "source": [
    "dow_jones.head()"
   ],
   "metadata": {
    "collapsed": false
   },
   "outputs": [],
   "execution_count": null
  },
  {
   "cell_type": "code",
   "source": [
    "# Der Index ist nun Datum und wird automatisch genommen:\n",
    "dow_jones.plot();"
   ],
   "metadata": {
    "collapsed": false
   },
   "outputs": [],
   "execution_count": null
  },
  {
   "cell_type": "code",
   "source": [
    "# Farbe ändern, Typ bestimmen (lineplot ist Standard!), Linienstil und -dicke:\n",
    "dow_jones.plot(color='red', kind='line', ls='dashed', lw='3');"
   ],
   "metadata": {
    "collapsed": false
   },
   "outputs": [],
   "execution_count": null
  },
  {
   "cell_type": "code",
   "source": [
    "# Uns interessiert nur ein Ausschnitt? Kein Problem!\n",
    "# Daten in Pandas mit pd.Timestamp anlegen:\n",
    "start = pd.Timestamp(1929, 1, 1)\n",
    "ende = pd.Timestamp(1956, 1, 1)"
   ],
   "metadata": {
    "collapsed": false
   },
   "outputs": [],
   "execution_count": null
  },
  {
   "cell_type": "code",
   "source": "period_of_interest = dow_jones[(dow_jones.index >= start) & (dow_jones.index < ende)]",
   "metadata": {
    "collapsed": false
   },
   "outputs": [],
   "execution_count": null
  },
  {
   "metadata": {},
   "cell_type": "code",
   "source": "period_of_interest.index.max()",
   "outputs": [],
   "execution_count": null
  },
  {
   "cell_type": "code",
   "source": [
    "period_of_interest.plot();"
   ],
   "metadata": {
    "collapsed": false
   },
   "outputs": [],
   "execution_count": null
  },
  {
   "cell_type": "markdown",
   "source": [
    "Aufgabe 1:\n",
    "Erzeuge eine Liste squares mit den Quadratzahlen von 0 bis 10.\n",
    "Stelle aus dieser Liste eine Pandas-Series namens squares_series her.\n",
    "Plotte nun die Series als Lineplot.\n",
    "Mache die Linienfarbe bitte grün und setze die Liniendicke auf 5."
   ],
   "metadata": {
    "collapsed": false
   }
  },
  {
   "metadata": {},
   "cell_type": "code",
   "source": "\n",
   "outputs": [],
   "execution_count": null
  },
  {
   "cell_type": "code",
   "source": [
    "# Flugdaten laden:\n",
    "flights = sns.load_dataset('flights')\n",
    "flights.head()"
   ],
   "metadata": {
    "collapsed": false
   },
   "outputs": [],
   "execution_count": null
  },
  {
   "cell_type": "code",
   "source": [
    "flights.plot(x='month', \n",
    "             y='passengers',\n",
    "             marker='o',\n",
    "             markersize=2\n",
    "             );"
   ],
   "metadata": {
    "collapsed": false
   },
   "outputs": [],
   "execution_count": null
  },
  {
   "metadata": {},
   "cell_type": "code",
   "source": [
    "# Welche Jahre gibt es?\n",
    "flights['year'].unique()"
   ],
   "outputs": [],
   "execution_count": null
  },
  {
   "cell_type": "code",
   "source": [
    "# Quizfrage: Wie kriegen wir Passagiere pro Jahr hin?\n",
    "\n"
   ],
   "metadata": {
    "collapsed": false
   },
   "outputs": [],
   "execution_count": null
  },
  {
   "cell_type": "code",
   "source": [
    "# Jahre als Liniendiagramm:\n",
    "pass_per_year.plot(title='Passengers per Year',\n",
    "                   legend=None,\n",
    "                   xlabel='year',\n",
    "                   ylabel='number of passengers',\n",
    "                   );"
   ],
   "metadata": {
    "collapsed": false
   },
   "outputs": [],
   "execution_count": null
  },
  {
   "cell_type": "markdown",
   "source": [
    "## Das Säulendiagramm (barplot)"
   ],
   "metadata": {
    "collapsed": false
   }
  },
  {
   "cell_type": "code",
   "source": [
    "titanic = sns.load_dataset('titanic')\n",
    "titanic.head()"
   ],
   "metadata": {
    "collapsed": false
   },
   "outputs": [],
   "execution_count": null
  },
  {
   "cell_type": "code",
   "source": [
    "# Wie war die Klassenverteilung auf der Titanic?\n",
    "classes = titanic['class'].value_counts()\n",
    "classes"
   ],
   "metadata": {
    "collapsed": false
   },
   "outputs": [],
   "execution_count": null
  },
  {
   "cell_type": "code",
   "source": [
    "# Als Säulendiagramm\n",
    "# Standardmäßig mit absteigenden Balken\n",
    "classes.plot(kind='bar');"
   ],
   "metadata": {
    "collapsed": false
   },
   "outputs": [],
   "execution_count": null
  },
  {
   "metadata": {},
   "cell_type": "code",
   "source": [
    "# Alternative Notation:\n",
    "classes.plot.bar();"
   ],
   "outputs": [],
   "execution_count": null
  },
  {
   "cell_type": "code",
   "source": [
    "classes_order = titanic['class'].value_counts().reindex(['First', 'Second', 'Third'])\n",
    "classes_order"
   ],
   "metadata": {
    "collapsed": false
   },
   "outputs": [],
   "execution_count": null
  },
  {
   "cell_type": "code",
   "source": [
    "classes_order.plot(kind='bar', \n",
    "                   color='red', \n",
    "                   ec='black',\n",
    "                   lw=2\n",
    "                   );"
   ],
   "metadata": {
    "collapsed": false
   },
   "outputs": [],
   "execution_count": null
  },
  {
   "cell_type": "markdown",
   "source": [
    "Aufgabe 2:\n",
    "Erstelle ein Balkendiagramm für den \"alive\"-Status der Passagiere.\n",
    "Färbe die Balken orange ein und umgebe sie mit einer dicken violetten Linie (purple).\n",
    "Bonus: Der erste Balken sollen die Überlebenden sein, der zweite Balken die Toten. Passe den Index an."
   ],
   "metadata": {
    "collapsed": false
   }
  },
  {
   "metadata": {},
   "cell_type": "code",
   "source": "",
   "outputs": [],
   "execution_count": null
  },
  {
   "cell_type": "markdown",
   "source": [
    "## Das Histogramm (histplot)"
   ],
   "metadata": {
    "collapsed": false
   }
  },
  {
   "cell_type": "code",
   "source": [
    "# Wie ist die Altersverteilung auf der Titanic gewesen?\n",
    "# Linienplot wäre keine schöne und lesbare Lösung!\n",
    "titanic['age'].plot();"
   ],
   "metadata": {
    "collapsed": false
   },
   "outputs": [],
   "execution_count": null
  },
  {
   "cell_type": "code",
   "source": [
    "# Histogramm teilt Daten in eine vom Nutzer definierte Anzahl von bins ein\n",
    "# Es entsteht ein Balkendiagramm mit den Counts von Altersangaben, die in diese bins gehören!\n",
    "# Der Standard ist eine automatische Aufteilung in 10 bins:\n",
    "titanic['age'].plot(kind='hist');"
   ],
   "metadata": {
    "collapsed": false
   },
   "outputs": [],
   "execution_count": null
  },
  {
   "cell_type": "code",
   "source": [
    "# Es geht aber feinkörniger:\n",
    "titanic['age'].plot(kind='hist',\n",
    "                    bins=20);"
   ],
   "metadata": {
    "collapsed": false
   },
   "outputs": [],
   "execution_count": null
  },
  {
   "cell_type": "code",
   "source": [
    "# Und feinkörniger:\n",
    "titanic['age'].plot(kind='hist',\n",
    "                    bins=80);"
   ],
   "metadata": {
    "collapsed": false
   },
   "outputs": [],
   "execution_count": null
  },
  {
   "cell_type": "code",
   "source": [
    "# Bis es zu feinkörnig ist.\n",
    "# Was könnte der Hintergrund für dieses Verhalten sein?\n",
    "titanic['age'].plot(kind='hist',\n",
    "                    bins=200);"
   ],
   "metadata": {
    "collapsed": false
   },
   "outputs": [],
   "execution_count": null
  },
  {
   "cell_type": "code",
   "source": [
    "# Die perfekte Anzahl von bins kann zwar nach Augenmaß ausgesucht werden.\n",
    "# Aber es ist wichtig, sich bewusst zu halten, dass man damit auch Ergebnisse bewusst verfälschen kann.\n",
    "# Mehr dazu im Statistik-Modul!"
   ],
   "metadata": {
    "collapsed": false
   },
   "outputs": [],
   "execution_count": null
  },
  {
   "cell_type": "code",
   "source": [],
   "metadata": {
    "collapsed": false
   },
   "outputs": [],
   "execution_count": null
  },
  {
   "cell_type": "markdown",
   "source": [
    "Aufgabe 3:\n",
    "Erstelle ein Histogramm der Gewichtsverteilungen der Pinguine und 30 Balken.\n",
    "Färbe die Balken grün ein.\n",
    "Verleihe dem Diagramm den Titel: Häufigkeitsverteilung von Pinguinkörpermassen\n",
    "Trage auf der x-Achse als Label auf: Masse (g)\n",
    "Trage auf der y-Achse auf: Anzahl Pinguine"
   ],
   "metadata": {
    "collapsed": false
   }
  },
  {
   "metadata": {},
   "cell_type": "code",
   "source": "",
   "outputs": [],
   "execution_count": null
  },
  {
   "cell_type": "markdown",
   "source": [
    "## Das Tortendiagramm (pieplot)"
   ],
   "metadata": {
    "collapsed": false
   }
  },
  {
   "cell_type": "code",
   "source": [
    "# Wie wäre es mal mit dem Blick aufs Ganze?\n",
    "# Welche Anteile am Pinguin-Kuchen machen die einzelnen Arten aus?\n",
    "species_counts = peng_df['species'].value_counts()\n",
    "species_counts"
   ],
   "metadata": {
    "collapsed": false
   },
   "outputs": [],
   "execution_count": null
  },
  {
   "cell_type": "code",
   "source": [
    "# Adelie dominiert ganz klar.\n",
    "# Aber es fehlen noch die Prozentangaben...\n",
    "species_counts.plot(kind='pie');"
   ],
   "metadata": {
    "collapsed": false
   },
   "outputs": [],
   "execution_count": null
  },
  {
   "cell_type": "code",
   "source": [
    "# Mit Prozentangaben UND zur \"Verdeutlichung\" herausgezogenem Chinstrap sowie etwas Rotation (gegen Uhrzeigersinn):\n",
    "species_counts.plot(kind='pie',\n",
    "                    explode=(0, 0, 0.3),\n",
    "                    autopct='%1.1f%%',\n",
    "                    startangle=30,\n",
    "                    ylabel='Prozent',\n",
    "                    cmap='Set2'\n",
    "                    );"
   ],
   "metadata": {
    "collapsed": false
   },
   "outputs": [],
   "execution_count": null
  },
  {
   "cell_type": "markdown",
   "source": [
    "Aufgabe 4:\n",
    "Erstelle ein Tortendiagramm, das die Anteile der Klassen an der Menge aller Passagiere der Titanic darstellt.\n",
    "Verleihe dem Diagramm den Titel: Passagiere nach Klassen\n",
    "Auf der y-Achse soll 'Prozent' stehen.\n",
    "Nimm eine Colormap, die dich anspricht und ziehe den Tortenteil mit der ersten Klasse heraus (rotiere dafür so weit,\n",
    "bis du optisch zufrieden bist!)"
   ],
   "metadata": {
    "collapsed": false
   }
  },
  {
   "cell_type": "code",
   "source": "",
   "metadata": {
    "collapsed": false
   },
   "outputs": [],
   "execution_count": null
  },
  {
   "cell_type": "markdown",
   "source": [
    "## Das Streudiagramm (scatterplot)"
   ],
   "metadata": {
    "collapsed": false
   }
  },
  {
   "cell_type": "code",
   "source": [
    "# Mit einem Scatterplot schaut man sich den Zusammenhang einer Variable mit einer anderen an.\n",
    "# Das Gewicht und die Flügellänge können ein Beispiel sein.\n",
    "# Indem Pinguine als Punkte aufgetragen werden (Gewicht auf der x-Achse, Flügellänge y-Achse)\n",
    "# entsteht eine Punktewolke bzw. ein Streudiagramm.\n",
    "# Sieht man in dieser Wolke ein Muster, so ist das für die Datenanalyse ein gutes Zeichen\n",
    "# und kann auf einen Zusammenhang hinweisen.\n",
    "# Mehr dazu im Statistik-Modul!"
   ],
   "metadata": {
    "collapsed": false
   },
   "outputs": [],
   "execution_count": null
  },
  {
   "cell_type": "code",
   "source": [
    "# Der Zusammenhang von Masse und Flügellänge als Streudiagramm:\n",
    "peng_df.plot(kind='scatter',\n",
    "             x='body_mass_g',\n",
    "             y='flipper_length_mm',\n",
    "             ec='black',\n",
    "             color='orange',\n",
    "             title='Verhältnis von Masse und Flügellänge von Pinguinen',\n",
    "             xlabel='Körpermasse (g)',\n",
    "             ylabel='Flügellänge (mm)'\n",
    "             );"
   ],
   "metadata": {
    "collapsed": false
   },
   "outputs": [],
   "execution_count": null
  },
  {
   "cell_type": "markdown",
   "source": [
    "Aufgabe 5:\n",
    "Erstelle ein Streudiagramm, das die Schnabellänge und Schnabelbreite von Pinguinen darstellt.\n",
    "Designe es ganze nach deinem Geschmack! (Titel und Beschriftungen der Achsen müssen sein!)\n",
    "Gibt es einen Zusammenhang zwischen den beiden Variablen?"
   ],
   "metadata": {
    "collapsed": false
   }
  },
  {
   "metadata": {},
   "cell_type": "code",
   "source": "",
   "outputs": [],
   "execution_count": null
  }
 ],
 "metadata": {
  "kernelspec": {
   "display_name": "kurs6",
   "language": "python",
   "name": "python3"
  },
  "language_info": {
   "codemirror_mode": {
    "name": "ipython",
    "version": 3
   },
   "file_extension": ".py",
   "mimetype": "text/x-python",
   "name": "python",
   "nbconvert_exporter": "python",
   "pygments_lexer": "ipython3",
   "version": "3.11.5"
  }
 },
 "nbformat": 4,
 "nbformat_minor": 2
}
