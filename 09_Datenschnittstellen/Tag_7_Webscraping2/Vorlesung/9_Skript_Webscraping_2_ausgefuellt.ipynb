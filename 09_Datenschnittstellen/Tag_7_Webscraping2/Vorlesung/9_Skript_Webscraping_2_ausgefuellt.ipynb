{
 "cells": [
  {
   "cell_type": "markdown",
   "metadata": {
    "collapsed": false
   },
   "source": [
    "# Webscraping mit BeautifulSoup"
   ]
  },
  {
   "cell_type": "code",
   "metadata": {
    "collapsed": false,
    "ExecuteTime": {
     "end_time": "2025-01-27T07:51:20.938866Z",
     "start_time": "2025-01-27T07:51:18.655386Z"
    }
   },
   "source": [
    "# Modulimporte:\n",
    "import pandas as pd\n",
    "import requests\n",
    "from bs4 import BeautifulSoup\n",
    "import re\n",
    "from PIL import Image"
   ],
   "outputs": [],
   "execution_count": 1
  },
  {
   "cell_type": "markdown",
   "source": [
    "## Webscraping am Beispiel erklärt\n",
    "\n",
    "Als Beispiel untersuchen wir die Webseite https://worldofwarcraft.com/de-de/game/classes\n",
    "\n",
    "Um zu prüfen, was wir auf der Webseite dürfen und ob bestimmte Inhalte von Webscraping verboten sind, müssen wir die robots.txt Seite aufsuchen\n",
    "https://worldofwarcraft.com/robots.txt\n",
    "\n",
    "Den Inhalt der Webseite können wir schon in Python abrufen. Dazu können wir `requests.get` verwenden. Wir erhalten allerdings HTML-Code zurück, und müssen diesen durchsuchen, um an die Infos zu kommen, die uns interessieren. Dafür benutzen wir \"Beautiful Soup 4\"."
   ],
   "metadata": {
    "collapsed": false
   }
  },
  {
   "cell_type": "code",
   "metadata": {
    "collapsed": false,
    "ExecuteTime": {
     "end_time": "2025-01-27T07:52:18.827732Z",
     "start_time": "2025-01-27T07:52:17.849137Z"
    }
   },
   "source": [
    "# Schritt 1: Webseiten-Inhalte abrufen\n",
    "url = 'https://worldofwarcraft.com/de-de/game/classes'\n",
    "response = requests.get(url)\n",
    "response.text"
   ],
   "outputs": [
    {
     "data": {
      "text/plain": [
       "'<!DOCTYPE html><html lang=\"de-DE\"><head><title>Spielbare Klassen</title><script>var optimizelyEnabled = false;\\ntry {\\n  optimizelyEnabled = JSON.parse(\\'true\\');\\n} catch (err) {\\n  console.log(err);\\n}\\n</script><script>var optimizelyLoaded = (function () {\\n  var OPTIMIZELY_AGENT_LOADED_EVENT = \\'OptimizelyWebLoaded\\';\\n  var OPTIMIZELY_FULLSTACK_DATAFILE_LOADED_EVENT = \\'OptimizelyFullstackDataFileLoaded\\';\\n\\n  function initOptimizely() {\\n    var agentScript = document.createElement(\\'script\\');\\n    agentScript.src = \\'https://cdn.optimizely.com/js/8521175242.js\\';\\n    agentScript.onload = function () {\\n      optimizelyLoaded = true;\\n      trigger(OPTIMIZELY_AGENT_LOADED_EVENT);\\n    };\\n    document.head.appendChild(agentScript);\\n\\n    var optimizelySdkKey = \\'\\';\\n    var optimizelySdkEnabled = false;\\n    try {\\n      optimizelySdkEnabled = JSON.parse(\\'true\\');\\n    } catch (err) {\\n      console.log(err);\\n    }\\n    if (optimizelySdkKey && optimizelySdkEnabled) {\\n      var dataFileScript = document.createElement(\\'script\\');\\n      dataFileScript.src = \\'https://cdn.optimizely.com/datafiles/\\' + optimizelySdkKey + \\'.json/tag.js\\';\\n      dataFileScript.onload = function () {\\n        trigger(OPTIMIZELY_FULLSTACK_DATAFILE_LOADED_EVENT);\\n      };\\n      document.head.appendChild(dataFileScript);\\n    }\\n  }\\n\\n  var optimizelyLoaded = false;\\n  var COOKIE_CONSENT_EVENT = \\'CookieConsentChange\\';\\n  var cookieConsentChangeEventListener = window.addEventListener(COOKIE_CONSENT_EVENT, function () {\\n    if (BlzCookieConsent.isPerformanceStorageAllowed()) {\\n      initOptimizely();\\n    }\\n    window.removeEventListener(COOKIE_CONSENT_EVENT, cookieConsentChangeEventListener);\\n  });\\n\\n  return function () {\\n    return optimizelyLoaded;\\n  };\\n})();</script><meta name=\"viewport\" content=\"width=device-width, initial-scale=1, maximum-scale=1, user-scalable=no\"><meta http-equiv=\"X-UA-Compatible\" content=\"IE=edge\"><meta name=\"referrer\" content=\"no-referrer-when-downgrade\"><meta name=\"description\" content=\"In World of Warcraft könnt ihr Ritter in glänzender Rüstung, herumschleichende Draufgänger oder raffinierte Zauberwirker sein. Einzigartige Herausforderungen...\"/><meta property=\"fb:app_id\" content=\"175314325675\"/><meta property=\"og:site_name\" content=\"World of Warcraft\"/><meta property=\"og:title\" content=\"Spielbare Klassen - WoW\"/><meta property=\"og:image\" content=\"https://bnetcmsus-a.akamaihd.net/cms/template_resource/fh/FHSCSCG9CXOC1462229977849.png\"/><meta property=\"og:description\" content=\"In World of Warcraft könnt ihr Ritter in glänzender Rüstung, herumschleichende Draufgänger oder raffinierte Zauberwirker sein. Einzigartige Herausforderungen...\"/><meta property=\"og:url\" content=\"https://worldofwarcraft.blizzard.com/de-de/game/classes\"/><meta name=\"twitter:card\" content=\"summary\"/><meta name=\"twitter:site\" content=\"@warcraft\"/><link rel=\"icon\" type=\"image/x-icon\" href=\"https://assets-bwa.worldofwarcraft.blizzard.com/static/wow-icon-32x32.1a38d7c1c3d8df560d53f5c2ad5442c0401edf83.png\"><script>(function (w, d, s, l, i) {\\n  w[l] = w[l] || [];\\n  w[l].push({ \\'gtm.start\\': new Date().getTime(), event: \\'gtm.js\\' });\\n  var f = d.getElementsByTagName(s)[0],\\n    j = d.createElement(s),\\n    dl = l != \\'dataLayer\\' ? \\'&l=\\' + l : \\'\\';\\n  j.async = true;\\n  j.src = \\'https://www.googletagmanager.com/gtm.js?id=\\' + i + dl;\\n  f.parentNode.insertBefore(j, f);\\n})(window, document, \\'script\\', \\'dataLayer\\', \\'GTM-TVHPB9J\\');\\n</script><link rel=\"stylesheet\" type=\"text/css\" media=\"screen\" href=\"https://assets-bwa.worldofwarcraft.blizzard.com/css/index.198a32b3596c88ea2cc3830c124529922195abf2.css\"><script>window.__WOW_UI_PUBLIC_PATH__ = \\'https://assets-bwa.worldofwarcraft.blizzard.com/\\';</script><script src=\"https://assets-bwa.worldofwarcraft.blizzard.com/core.de93880c4434234a2e93.js\"></script><script id=\"init\">//- defined in _pollyfills.js\\nwindow.trigger(\\'init\\');</script><link href=\"https://assets-bwa.worldofwarcraft.blizzard.com/core.a2bc13957c9c07fb3563.css\" rel=\"stylesheet\" type=\"text/css\"/><link href=\"https://assets-bwa.worldofwarcraft.blizzard.com/static/izimodal.df3420266654fd7974759048907176f23513e765.css\" rel=\"stylesheet\"><link href=\"https://assets-bwa.worldofwarcraft.blizzard.com/static/simplebar.9d79d89318973e13b0ce47c1c4de660bcf0f049f.css\" rel=\"stylesheet\"><link href=\"https://assets-bwa.worldofwarcraft.blizzard.com/632.eb658303be1a75a6d059.css\" rel=\"stylesheet\" type=\"text/css\"/><link href=\"/opensearch/opensearch.xml\" title=\"Search World of Warcraft\" rel=\"search\" type=\"application/opensearchdescription+xml\"><link rel=\"canonical\" href=\"http://worldofwarcraft.blizzard.com/de-de/game/classes\"><link rel=\"alternate\" href=\"http://worldofwarcraft.blizzard.com/en-us/game/classes\" hreflang=\"en-us\"><link rel=\"alternate\" href=\"http://worldofwarcraft.blizzard.com/en-gb/game/classes\" hreflang=\"en-gb\"><link rel=\"alternate\" href=\"http://worldofwarcraft.blizzard.com/de-de/game/classes\" hreflang=\"de-de\"><link rel=\"alternate\" href=\"http://worldofwarcraft.blizzard.com/es-es/game/classes\" hreflang=\"es-es\"><link rel=\"alternate\" href=\"http://worldofwarcraft.blizzard.com/es-mx/game/classes\" hreflang=\"es-mx\"><link rel=\"alternate\" href=\"http://worldofwarcraft.blizzard.com/fr-fr/game/classes\" hreflang=\"fr-fr\"><link rel=\"alternate\" href=\"http://worldofwarcraft.blizzard.com/it-it/game/classes\" hreflang=\"it-it\"><link rel=\"alternate\" href=\"http://worldofwarcraft.blizzard.com/pt-br/game/classes\" hreflang=\"pt-br\"><link rel=\"alternate\" href=\"http://worldofwarcraft.blizzard.com/ru-ru/game/classes\" hreflang=\"ru-ru\"><link rel=\"alternate\" href=\"http://worldofwarcraft.blizzard.com/ko-kr/game/classes\" hreflang=\"ko-kr\"><link rel=\"alternate\" href=\"http://worldofwarcraft.blizzard.com/zh-tw/game/classes\" hreflang=\"zh-tw\"></head><body class=\"de-de\"><header class=\"sitenav\"><blz-nav class=\"SiteNav\" hidden=\"hidden\" user-endpoint=\"/de-de/navbar/authenticate\" content=\"wow-site\" search-url=\"/de-de/search?q={value}\"><script src=\"https://navbar.blizzard.com/static/v1/nav.js\" async=\"async\"></script></blz-nav></header><noscript><iframe src=\"https://www.googletagmanager.com/ns.html?id=GTM-TVHPB9J\" height=\"0\" width=\"0\" style=\"display: none; visibility: hidden\"></iframe></noscript><script>!(function (i, d, e, n) {\\n  (i[e] = i[e] || {}),\\n    i[e][n] ||\\n      (i[e][n] = function (i, e, n) {\\n        if (void 0 !== i) {\\n          (e = void 0 === e ? 0 : e), (n = void 0 === n ? 0 : n);\\n          var a = d.createElement(\\'iframe\\');\\n          (a.width = e), (a.height = n), (a.hidden = !0), (a.src = i), d.body.appendChild(a);\\n        }\\n      });\\n})(window, document, \\'analytics\\', \\'appendFrame\\');</script><script>var dataLayer = dataLayer || [];\\ndataLayer.push({\"locale\":\"de-DE\",\"serverRegion\":\"us\",\"region\":\"us\",\"localeRegion\":\"eu\",\"project\":\"wow\",\"authenticated\":\"0\"});\\n</script><div class=\"body\"><div class=\"page\"><main id=\"main\" role=\"main\"><div class=\"Pane Pane--underSiteNav Pane--cropWide\" data-url=\"https://blz-contentstack-images.akamaized.net/v3/assets/blt3452e3b114fab0cd/bltfdb10c76cd837218/5ef22bb0b7f22712a4d508b9/PJBK2UYV0YYL1466177409759.jpg\"><div class=\"Pane-bg\" style=\"background-color:#151b0f;background-image:url(&quot;https://blz-contentstack-images.akamaized.net/v3/assets/blt3452e3b114fab0cd/bltfdb10c76cd837218/5ef22bb0b7f22712a4d508b9/PJBK2UYV0YYL1466177409759.jpg&quot;);\"><div class=\"Pane-overlay\"></div></div><div class=\"Pane-content\"><div class=\"space-medium\"></div><div class=\"space-large hide\" media-medium=\"!hide\"></div><div class=\"space-large hide\" media-wide=\"!hide\"></div><div class=\"contain-masthead align-center\"><h1 class=\"margin-none font-semp-xxxLarge-white\">Klassen</h1><div class=\"space-rhythm-medium\"></div><p class=\"margin-none font-bliz-light-small-beige\">In World of Warcraft erwarten euch Ritter in glänzender Rüstung, herumschleichende Draufgänger und raffinierte Zauberwirker. Einzigartige Herausforderungen erwarten euch mit jeder Klasse und ein Spielerlebnis, das es zu meistern gilt. Welchem Ruf werdet ihr folgen?</p></div><div class=\"space-medium\"></div><div class=\"space-large hide\" media-medium=\"!hide\"></div><div class=\"space-large hide\" media-wide=\"!hide\"></div><div class=\"Grid Grid--gutters\" media-large=\"SyncHeight\"><div class=\"Grid-full\" media-large=\"Grid-1of2\"><div class=\"Cards Cards--gutters Cards--stacked\" media-huge=\"!Cards--stacked Cards--1of3 Cards--excerpts\" media-max=\"!Cards--excerpts\"><div class=\"Card Card--borderPaper Cards-card\"><a class=\"Card-link SyncHeight-item\" href=\"/de-de/game/classes/warrior\"><div class=\"Card-image\"><div class=\"Card-image--full\"><div class=\"Art Card-art\"><div class=\"Art-size\" style=\"padding-top:100%\"></div><div class=\"Art-image\" style=\"background-image:url(https://blz-contentstack-images.akamaized.net/v3/assets/blt3452e3b114fab0cd/bltf9f62859db695a4d/5ee3e473a7c560086afc3ffd/9WL35DUZNSG01457032148687.jpg);\"></div><div class=\"Art-overlay\"></div></div></div><div class=\"Card-image--half\"><div class=\"Art Card-art\"><div class=\"Art-size\" style=\"padding-top:50%\"></div><div class=\"Art-image\" style=\"background-image:url(https://blz-contentstack-images.akamaized.net/v3/assets/blt3452e3b114fab0cd/bltf9f62859db695a4d/5ee3e473a7c560086afc3ffd/9WL35DUZNSG01457032148687.jpg);\"></div><div class=\"Art-overlay\"></div></div></div></div><div class=\"Card-content\"><div class=\"gutter-normal gutter-all\"><div class=\"Card-title\">Krieger</div><div class=\"Card-subtitle\">Tank, Schaden</div><p class=\"Card-description font-size-xSmall\" media-large=\"font-size-xSmall\">Schon seit es Kriege gibt streben Helden aus allen Völkern danach, die Kunst der Schlacht zu beherrschen. Im Krieger vereinen sich Stärke, Führungsqualitäten und ein unermessliches Wissen über Waffen und Rüstungen, um in einer glorreichen Schlacht den Feind in den Untergang zu stürzen.</p><p class=\"Card-excerpt Card-excerpt--normal font-size-small\" media-large=\"font-size-xSmall\">Schon seit es Kriege gibt streben Helden aus allen Völkern danach, die Kunst der Schlacht zu beherrschen. Im Krieger vereinen sich Stärke, Führun...</p><p class=\"Card-excerpt Card-excerpt--medium font-size-small\" media-large=\"font-size-xSmall\">Schon seit es Kriege gibt streben Helden aus allen Völkern danach, die Kunst der Schlacht zu beherrschen. Im Krieger vereinen sich Stärke, Führungsqualitäten und ein unermessliches Wissen über Waffen und Rüstungen, um in einer glorreichen Schlac...</p><p class=\"Card-excerpt Card-excerpt--long font-size-small\" media-large=\"font-size-xSmall\">Schon seit es Kriege gibt streben Helden aus allen Völkern danach, die Kunst der Schlacht zu beherrschen. Im Krieger vereinen sich Stärke, Führungsqualitäten und ein unermessliches Wissen über Waffen und Rüstungen, um in einer glorreichen Schlacht den Feind in den Untergang zu stürzen.</p></div></div></a></div><div class=\"Card Card--borderPaper Cards-card\"><a class=\"Card-link SyncHeight-item\" href=\"/de-de/game/classes/hunter\"><div class=\"Card-image\"><div class=\"Card-image--full\"><div class=\"Art Card-art\"><div class=\"Art-size\" style=\"padding-top:100%\"></div><div class=\"Art-image\" style=\"background-image:url(https://blz-contentstack-images.akamaized.net/v3/assets/blt3452e3b114fab0cd/blt567c8844ced4dbc7/5ee3e411e8f74907ecce011e/QDIDT6YO6NYN1457032234749.jpg);\"></div><div class=\"Art-overlay\"></div></div></div><div class=\"Card-image--half\"><div class=\"Art Card-art\"><div class=\"Art-size\" style=\"padding-top:50%\"></div><div class=\"Art-image\" style=\"background-image:url(https://blz-contentstack-images.akamaized.net/v3/assets/blt3452e3b114fab0cd/blt567c8844ced4dbc7/5ee3e411e8f74907ecce011e/QDIDT6YO6NYN1457032234749.jpg);\"></div><div class=\"Art-overlay\"></div></div></div></div><div class=\"Card-content\"><div class=\"gutter-normal gutter-all\"><div class=\"Card-title\">Jäger</div><div class=\"Card-subtitle\">Schaden</div><p class=\"Card-description font-size-xSmall\" media-large=\"font-size-xSmall\">Schon seit ewigen Zeiten lockt der Ruf der Wildnis einige Abenteurer aus der Sicherheit ihres Heims hinaus in die gnadenlose, unberührte Welt. Diejenigen, die ihre Herausforderungen bestehen, werden zu Jägern.</p><p class=\"Card-excerpt Card-excerpt--normal font-size-small\" media-large=\"font-size-xSmall\">Schon seit ewigen Zeiten lockt der Ruf der Wildnis einige Abenteurer aus der Sicherheit ihres Heims hinaus in die gnadenlose, unberührte Welt. Di...</p><p class=\"Card-excerpt Card-excerpt--medium font-size-small\" media-large=\"font-size-xSmall\">Schon seit ewigen Zeiten lockt der Ruf der Wildnis einige Abenteurer aus der Sicherheit ihres Heims hinaus in die gnadenlose, unberührte Welt. Diejenigen, die ihre Herausforderungen bestehen, werden zu Jägern.</p><p class=\"Card-excerpt Card-excerpt--long font-size-small\" media-large=\"font-size-xSmall\">Schon seit ewigen Zeiten lockt der Ruf der Wildnis einige Abenteurer aus der Sicherheit ihres Heims hinaus in die gnadenlose, unberührte Welt. Diejenigen, die ihre Herausforderungen bestehen, werden zu Jägern.</p></div></div></a></div><div class=\"Card Card--borderPaper Cards-card\"><a class=\"Card-link SyncHeight-item\" href=\"/de-de/game/classes/priest\"><div class=\"Card-image\"><div class=\"Card-image--full\"><div class=\"Art Card-art\"><div class=\"Art-size\" style=\"padding-top:100%\"></div><div class=\"Art-image\" style=\"background-image:url(https://blz-contentstack-images.akamaized.net/v3/assets/blt3452e3b114fab0cd/blt6b4539f958b752fb/5ee78bff63a2d97093830907/MWNKR1G1Z7AD1457032234453.jpg);\"></div><div class=\"Art-overlay\"></div></div></div><div class=\"Card-image--half\"><div class=\"Art Card-art\"><div class=\"Art-size\" style=\"padding-top:50%\"></div><div class=\"Art-image\" style=\"background-image:url(https://blz-contentstack-images.akamaized.net/v3/assets/blt3452e3b114fab0cd/blt6b4539f958b752fb/5ee78bff63a2d97093830907/MWNKR1G1Z7AD1457032234453.jpg);\"></div><div class=\"Art-overlay\"></div></div></div></div><div class=\"Card-content\"><div class=\"gutter-normal gutter-all\"><div class=\"Card-title\">Priester</div><div class=\"Card-subtitle\">Heiler, Schaden</div><p class=\"Card-description font-size-xSmall\" media-large=\"font-size-xSmall\">Priester haben sich ganz dem spirituellen Pfad gewidmet und zeigen ihren unerschütterlichen Glauben, indem sie anderen dienen. Vor Jahrtausenden verließen sie die Grenzen ihrer Tempel und die Zuflucht ihrer Schreine, um ihre Verbündeten in den von Kriegen zerrissenen Ländern zu unterstützen.</p><p class=\"Card-excerpt Card-excerpt--normal font-size-small\" media-large=\"font-size-xSmall\">Priester haben sich ganz dem spirituellen Pfad gewidmet und zeigen ihren unerschütterlichen Glauben, indem sie anderen dienen. Vor Jahrtausenden ...</p><p class=\"Card-excerpt Card-excerpt--medium font-size-small\" media-large=\"font-size-xSmall\">Priester haben sich ganz dem spirituellen Pfad gewidmet und zeigen ihren unerschütterlichen Glauben, indem sie anderen dienen. Vor Jahrtausenden verließen sie die Grenzen ihrer Tempel und die Zuflucht ihrer Schreine, um ihre Verbündeten in den v...</p><p class=\"Card-excerpt Card-excerpt--long font-size-small\" media-large=\"font-size-xSmall\">Priester haben sich ganz dem spirituellen Pfad gewidmet und zeigen ihren unerschütterlichen Glauben, indem sie anderen dienen. Vor Jahrtausenden verließen sie die Grenzen ihrer Tempel und die Zuflucht ihrer Schreine, um ihre Verbündeten in den von Kriegen zerrissenen Ländern zu unterstützen.</p></div></div></a></div><div class=\"Card Card--borderPaper Cards-card\"><a class=\"Card-link SyncHeight-item\" href=\"/de-de/game/classes/mage\"><div class=\"Card-image\"><div class=\"Card-image--full\"><div class=\"Art Card-art\"><div class=\"Art-size\" style=\"padding-top:100%\"></div><div class=\"Art-image\" style=\"background-image:url(https://blz-contentstack-images.akamaized.net/v3/assets/blt3452e3b114fab0cd/bltdd80a40a42fdc015/5ee3e44c18f34d710497c5bd/PRJHFTFZI64Z1457032234735.jpg);\"></div><div class=\"Art-overlay\"></div></div></div><div class=\"Card-image--half\"><div class=\"Art Card-art\"><div class=\"Art-size\" style=\"padding-top:50%\"></div><div class=\"Art-image\" style=\"background-image:url(https://blz-contentstack-images.akamaized.net/v3/assets/blt3452e3b114fab0cd/bltdd80a40a42fdc015/5ee3e44c18f34d710497c5bd/PRJHFTFZI64Z1457032234735.jpg);\"></div><div class=\"Art-overlay\"></div></div></div></div><div class=\"Card-content\"><div class=\"gutter-normal gutter-all\"><div class=\"Card-title\">Magier</div><div class=\"Card-subtitle\">Schaden</div><p class=\"Card-description font-size-xSmall\" media-large=\"font-size-xSmall\">Nur besonders talentierte Schüler mit einer unerschütterlichen Disziplin sind in der Lage, auf dem harten Pfad des Magiers zu bestehen. Die arkane Magie der Magier ist sowohl mächtig als auch gefährlich, weshalb sie nur hingebungsvollen Magiebegabten offenbart wird.</p><p class=\"Card-excerpt Card-excerpt--normal font-size-small\" media-large=\"font-size-xSmall\">Nur besonders talentierte Schüler mit einer unerschütterlichen Disziplin sind in der Lage, auf dem harten Pfad des Magiers zu bestehen. Die arkan...</p><p class=\"Card-excerpt Card-excerpt--medium font-size-small\" media-large=\"font-size-xSmall\">Nur besonders talentierte Schüler mit einer unerschütterlichen Disziplin sind in der Lage, auf dem harten Pfad des Magiers zu bestehen. Die arkane Magie der Magier ist sowohl mächtig als auch gefährlich, weshalb sie nur hingebungsvollen Magiebeg...</p><p class=\"Card-excerpt Card-excerpt--long font-size-small\" media-large=\"font-size-xSmall\">Nur besonders talentierte Schüler mit einer unerschütterlichen Disziplin sind in der Lage, auf dem harten Pfad des Magiers zu bestehen. Die arkane Magie der Magier ist sowohl mächtig als auch gefährlich, weshalb sie nur hingebungsvollen Magiebegabten offenbart wird.</p></div></div></a></div><div class=\"Card Card--borderPaper Cards-card\"><a class=\"Card-link SyncHeight-item\" href=\"/de-de/game/classes/monk\"><div class=\"Card-image\"><div class=\"Card-image--full\"><div class=\"Art Card-art\"><div class=\"Art-size\" style=\"padding-top:100%\"></div><div class=\"Art-image\" style=\"background-image:url(https://blz-contentstack-images.akamaized.net/v3/assets/blt3452e3b114fab0cd/bltab8e835ed1f245ba/5ee793cb3a8621077a04a491/80E3HJ653J1M1457032234443.jpg);\"></div><div class=\"Art-overlay\"></div></div></div><div class=\"Card-image--half\"><div class=\"Art Card-art\"><div class=\"Art-size\" style=\"padding-top:50%\"></div><div class=\"Art-image\" style=\"background-image:url(https://blz-contentstack-images.akamaized.net/v3/assets/blt3452e3b114fab0cd/bltab8e835ed1f245ba/5ee793cb3a8621077a04a491/80E3HJ653J1M1457032234443.jpg);\"></div><div class=\"Art-overlay\"></div></div></div></div><div class=\"Card-content\"><div class=\"gutter-normal gutter-all\"><div class=\"Card-title\">Mönch</div><div class=\"Card-subtitle\">Tank, Heiler, Schaden</div><p class=\"Card-description font-size-xSmall\" media-large=\"font-size-xSmall\">Raufbolde die mit bloßen Händen kämpfen haben diesen waffenlosen Stil im alten Pandaria entwickelt. Mönche die so verschieden sind, wie die Energie die sie umgibt. Sie können tödliche Angriffe durch den Dunst ihrer Gebräue schultern, den Chi-Fluß heilen und ihre Feinde mit Schlägen und Tritten so schnell wie der Wind eindecken.</p><p class=\"Card-excerpt Card-excerpt--normal font-size-small\" media-large=\"font-size-xSmall\">Raufbolde die mit bloßen Händen kämpfen haben diesen waffenlosen Stil im alten Pandaria entwickelt. Mönche die so verschieden sind, wie die Energ...</p><p class=\"Card-excerpt Card-excerpt--medium font-size-small\" media-large=\"font-size-xSmall\">Raufbolde die mit bloßen Händen kämpfen haben diesen waffenlosen Stil im alten Pandaria entwickelt. Mönche die so verschieden sind, wie die Energie die sie umgibt. Sie können tödliche Angriffe durch den Dunst ihrer Gebräue schultern, den Chi-Flu...</p><p class=\"Card-excerpt Card-excerpt--long font-size-small\" media-large=\"font-size-xSmall\">Raufbolde die mit bloßen Händen kämpfen haben diesen waffenlosen Stil im alten Pandaria entwickelt. Mönche die so verschieden sind, wie die Energie die sie umgibt. Sie können tödliche Angriffe durch den Dunst ihrer Gebräue schultern, den Chi-Fluß heilen und ihre Feinde mit Schlägen und Tritten so schnell wie der Wind eindecken.</p></div></div></a></div><div class=\"Card Card--borderPaper Cards-card\"><a class=\"Card-link SyncHeight-item\" href=\"/de-de/game/classes/demon-hunter\"><div class=\"Card-image\"><div class=\"Card-image--full\"><div class=\"Art Card-art\"><div class=\"Art-size\" style=\"padding-top:100%\"></div><div class=\"Art-image\" style=\"background-image:url(https://blz-contentstack-images.akamaized.net/v3/assets/blt3452e3b114fab0cd/bltecb94c367119455a/5ee79631d217327180733e77/4YSZQMC616V61457032235002.jpg);\"></div><div class=\"Art-overlay\"></div></div></div><div class=\"Card-image--half\"><div class=\"Art Card-art\"><div class=\"Art-size\" style=\"padding-top:50%\"></div><div class=\"Art-image\" style=\"background-image:url(https://blz-contentstack-images.akamaized.net/v3/assets/blt3452e3b114fab0cd/bltecb94c367119455a/5ee79631d217327180733e77/4YSZQMC616V61457032235002.jpg);\"></div><div class=\"Art-overlay\"></div></div></div></div><div class=\"Card-content\"><div class=\"gutter-normal gutter-all\"><div class=\"Card-title\">Dämonenjäger</div><div class=\"Card-subtitle\">Tank, Schaden</div><p class=\"Card-description font-size-xSmall\" media-large=\"font-size-xSmall\">Dämonenjäger machen sich die verbotenen Mächte der Legion zueigen. Sie setzen Dämonen- und Chaosmagie ein, nehmen dämonische Formen an, besitzen Geistersicht und höllische Beweglichkeit, mit der sie selbst die gefährlichsten Gegner zur Strecke bringen können.</p><p class=\"Card-excerpt Card-excerpt--normal font-size-small\" media-large=\"font-size-xSmall\">Dämonenjäger machen sich die verbotenen Mächte der Legion zueigen. Sie setzen Dämonen- und Chaosmagie ein, nehmen dämonische Formen an, besitzen ...</p><p class=\"Card-excerpt Card-excerpt--medium font-size-small\" media-large=\"font-size-xSmall\">Dämonenjäger machen sich die verbotenen Mächte der Legion zueigen. Sie setzen Dämonen- und Chaosmagie ein, nehmen dämonische Formen an, besitzen Geistersicht und höllische Beweglichkeit, mit der sie selbst die gefährlichsten Gegner zur Strecke b...</p><p class=\"Card-excerpt Card-excerpt--long font-size-small\" media-large=\"font-size-xSmall\">Dämonenjäger machen sich die verbotenen Mächte der Legion zueigen. Sie setzen Dämonen- und Chaosmagie ein, nehmen dämonische Formen an, besitzen Geistersicht und höllische Beweglichkeit, mit der sie selbst die gefährlichsten Gegner zur Strecke bringen können.</p></div></div></a></div><div class=\"Card Card--borderPaper Cards-card\"><a class=\"Card-link SyncHeight-item\" href=\"/de-de/game/classes/evoker\"><div class=\"Card-image\"><div class=\"Card-image--full\"><div class=\"Art Card-art\"><div class=\"Art-size\" style=\"padding-top:100%\"></div><div class=\"Art-image\" style=\"background-image:url(https://blz-contentstack-images.akamaized.net/v3/assets/blt3452e3b114fab0cd/bltc4d521bd78d2e181/6351cce05e1b6d519cb60ba9/Evoker_Card.jpg);\"></div><div class=\"Art-overlay\"></div></div></div><div class=\"Card-image--half\"><div class=\"Art Card-art\"><div class=\"Art-size\" style=\"padding-top:50%\"></div><div class=\"Art-image\" style=\"background-image:url(https://blz-contentstack-images.akamaized.net/v3/assets/blt3452e3b114fab0cd/bltc4d521bd78d2e181/6351cce05e1b6d519cb60ba9/Evoker_Card.jpg);\"></div><div class=\"Art-overlay\"></div></div></div></div><div class=\"Card-content\"><div class=\"gutter-normal gutter-all\"><div class=\"Card-title\">Rufer</div><div class=\"Card-subtitle\">Heiler, Schaden</div><p class=\"Card-description font-size-xSmall\" media-large=\"font-size-xSmall\">Die Rufer der Dracthyr wurden geschaffen, um die Magien aller fünf Drachenschwärme zu verwenden. Jetzt machen sie sich auf, um sich in Azeroth ihren eigenen Weg zu bahnen.</p><p class=\"Card-excerpt Card-excerpt--normal font-size-small\" media-large=\"font-size-xSmall\">Die Rufer der Dracthyr wurden geschaffen, um die Magien aller fünf Drachenschwärme zu verwenden. Jetzt machen sie sich auf, um sich in Azeroth ih...</p><p class=\"Card-excerpt Card-excerpt--medium font-size-small\" media-large=\"font-size-xSmall\">Die Rufer der Dracthyr wurden geschaffen, um die Magien aller fünf Drachenschwärme zu verwenden. Jetzt machen sie sich auf, um sich in Azeroth ihren eigenen Weg zu bahnen.</p><p class=\"Card-excerpt Card-excerpt--long font-size-small\" media-large=\"font-size-xSmall\">Die Rufer der Dracthyr wurden geschaffen, um die Magien aller fünf Drachenschwärme zu verwenden. Jetzt machen sie sich auf, um sich in Azeroth ihren eigenen Weg zu bahnen.</p></div></div></a></div></div></div><div class=\"Grid-full\" media-large=\"Grid-1of2\"><div class=\"Cards Cards--gutters Cards--stacked\" media-huge=\"!Cards--stacked Cards--1of3 Cards--excerpts\" media-max=\"!Cards--excerpts\"><div class=\"Card Card--borderPaper Cards-card\"><a class=\"Card-link SyncHeight-item\" href=\"/de-de/game/classes/paladin\"><div class=\"Card-image\"><div class=\"Card-image--full\"><div class=\"Art Card-art\"><div class=\"Art-size\" style=\"padding-top:100%\"></div><div class=\"Art-image\" style=\"background-image:url(https://blz-contentstack-images.akamaized.net/v3/assets/blt3452e3b114fab0cd/blt931cd3c007637bcc/5ee790ab3a8621077a04a479/ZNPM9RQETYC21457032234435.jpg);\"></div><div class=\"Art-overlay\"></div></div></div><div class=\"Card-image--half\"><div class=\"Art Card-art\"><div class=\"Art-size\" style=\"padding-top:50%\"></div><div class=\"Art-image\" style=\"background-image:url(https://blz-contentstack-images.akamaized.net/v3/assets/blt3452e3b114fab0cd/blt931cd3c007637bcc/5ee790ab3a8621077a04a479/ZNPM9RQETYC21457032234435.jpg);\"></div><div class=\"Art-overlay\"></div></div></div></div><div class=\"Card-content\"><div class=\"gutter-normal gutter-all\"><div class=\"Card-title\">Paladin</div><div class=\"Card-subtitle\">Tank, Heiler, Schaden</div><p class=\"Card-description font-size-xSmall\" media-large=\"font-size-xSmall\">Die Berufung des Paladins besteht darin, die Schwachen zu beschützen, den Ungerechten ihre gerechte Strafe zuteil werden zu lassen und das Böse aus den düstersten Ecken der Welt zu verbannen.</p><p class=\"Card-excerpt Card-excerpt--normal font-size-small\" media-large=\"font-size-xSmall\">Die Berufung des Paladins besteht darin, die Schwachen zu beschützen, den Ungerechten ihre gerechte Strafe zuteil werden zu lassen und das Böse a...</p><p class=\"Card-excerpt Card-excerpt--medium font-size-small\" media-large=\"font-size-xSmall\">Die Berufung des Paladins besteht darin, die Schwachen zu beschützen, den Ungerechten ihre gerechte Strafe zuteil werden zu lassen und das Böse aus den düstersten Ecken der Welt zu verbannen.</p><p class=\"Card-excerpt Card-excerpt--long font-size-small\" media-large=\"font-size-xSmall\">Die Berufung des Paladins besteht darin, die Schwachen zu beschützen, den Ungerechten ihre gerechte Strafe zuteil werden zu lassen und das Böse aus den düstersten Ecken der Welt zu verbannen.</p></div></div></a></div><div class=\"Card Card--borderPaper Cards-card\"><a class=\"Card-link SyncHeight-item\" href=\"/de-de/game/classes/rogue\"><div class=\"Card-image\"><div class=\"Card-image--full\"><div class=\"Art Card-art\"><div class=\"Art-size\" style=\"padding-top:100%\"></div><div class=\"Art-image\" style=\"background-image:url(https://blz-contentstack-images.akamaized.net/v3/assets/blt3452e3b114fab0cd/bltceda97b65490029d/5ee3e4a218f34d710497c5c9/65H7H3XK5PFS1457032234098.jpg);\"></div><div class=\"Art-overlay\"></div></div></div><div class=\"Card-image--half\"><div class=\"Art Card-art\"><div class=\"Art-size\" style=\"padding-top:50%\"></div><div class=\"Art-image\" style=\"background-image:url(https://blz-contentstack-images.akamaized.net/v3/assets/blt3452e3b114fab0cd/bltceda97b65490029d/5ee3e4a218f34d710497c5c9/65H7H3XK5PFS1457032234098.jpg);\"></div><div class=\"Art-overlay\"></div></div></div></div><div class=\"Card-content\"><div class=\"gutter-normal gutter-all\"><div class=\"Card-title\">Schurke</div><div class=\"Card-subtitle\">Schaden</div><p class=\"Card-description font-size-xSmall\" media-large=\"font-size-xSmall\">Schurken kennen nur einen Kodex, nämlich den Vertrag. Ihre Ehre lässt sich mit Gold kaufen. Frei von den hinderlichen Schranken eines Gewissens verlassen diese Söldner sich auf brutale und effiziente Taktiken.</p><p class=\"Card-excerpt Card-excerpt--normal font-size-small\" media-large=\"font-size-xSmall\">Schurken kennen nur einen Kodex, nämlich den Vertrag. Ihre Ehre lässt sich mit Gold kaufen. Frei von den hinderlichen Schranken eines Gewissens v...</p><p class=\"Card-excerpt Card-excerpt--medium font-size-small\" media-large=\"font-size-xSmall\">Schurken kennen nur einen Kodex, nämlich den Vertrag. Ihre Ehre lässt sich mit Gold kaufen. Frei von den hinderlichen Schranken eines Gewissens verlassen diese Söldner sich auf brutale und effiziente Taktiken.</p><p class=\"Card-excerpt Card-excerpt--long font-size-small\" media-large=\"font-size-xSmall\">Schurken kennen nur einen Kodex, nämlich den Vertrag. Ihre Ehre lässt sich mit Gold kaufen. Frei von den hinderlichen Schranken eines Gewissens verlassen diese Söldner sich auf brutale und effiziente Taktiken.</p></div></div></a></div><div class=\"Card Card--borderPaper Cards-card\"><a class=\"Card-link SyncHeight-item\" href=\"/de-de/game/classes/shaman\"><div class=\"Card-image\"><div class=\"Card-image--full\"><div class=\"Art Card-art\"><div class=\"Art-size\" style=\"padding-top:100%\"></div><div class=\"Art-image\" style=\"background-image:url(https://blz-contentstack-images.akamaized.net/v3/assets/blt3452e3b114fab0cd/blt3001008857efcbd4/5ee7928218f34d710497c759/LPEY9SFJT7PB1457032234088.jpg);\"></div><div class=\"Art-overlay\"></div></div></div><div class=\"Card-image--half\"><div class=\"Art Card-art\"><div class=\"Art-size\" style=\"padding-top:50%\"></div><div class=\"Art-image\" style=\"background-image:url(https://blz-contentstack-images.akamaized.net/v3/assets/blt3452e3b114fab0cd/blt3001008857efcbd4/5ee7928218f34d710497c759/LPEY9SFJT7PB1457032234088.jpg);\"></div><div class=\"Art-overlay\"></div></div></div></div><div class=\"Card-content\"><div class=\"gutter-normal gutter-all\"><div class=\"Card-title\">Schamane</div><div class=\"Card-subtitle\">Heiler, Schaden</div><p class=\"Card-description font-size-xSmall\" media-large=\"font-size-xSmall\">Schamanen haben sich der spirituellen Führung und Kunst verschrieben, jedoch nicht des Göttlichen, sondern der Elemente selbst. Als Vermittler der vier Elemente ruft der Schamane Totems herbei und befieht ihnen, die Verbündeten des Schamanen zu unterstützen oder seine Feinde zu bestrafen.</p><p class=\"Card-excerpt Card-excerpt--normal font-size-small\" media-large=\"font-size-xSmall\">Schamanen haben sich der spirituellen Führung und Kunst verschrieben, jedoch nicht des Göttlichen, sondern der Elemente selbst. Als Vermittler de...</p><p class=\"Card-excerpt Card-excerpt--medium font-size-small\" media-large=\"font-size-xSmall\">Schamanen haben sich der spirituellen Führung und Kunst verschrieben, jedoch nicht des Göttlichen, sondern der Elemente selbst. Als Vermittler der vier Elemente ruft der Schamane Totems herbei und befieht ihnen, die Verbündeten des Schamanen zu ...</p><p class=\"Card-excerpt Card-excerpt--long font-size-small\" media-large=\"font-size-xSmall\">Schamanen haben sich der spirituellen Führung und Kunst verschrieben, jedoch nicht des Göttlichen, sondern der Elemente selbst. Als Vermittler der vier Elemente ruft der Schamane Totems herbei und befieht ihnen, die Verbündeten des Schamanen zu unterstützen oder seine Feinde zu bestrafen.</p></div></div></a></div><div class=\"Card Card--borderPaper Cards-card\"><a class=\"Card-link SyncHeight-item\" href=\"/de-de/game/classes/warlock\"><div class=\"Card-image\"><div class=\"Card-image--full\"><div class=\"Art Card-art\"><div class=\"Art-size\" style=\"padding-top:100%\"></div><div class=\"Art-image\" style=\"background-image:url(https://blz-contentstack-images.akamaized.net/v3/assets/blt3452e3b114fab0cd/blt87bd56354f8c3fcd/5ee3e8c1889f917094610eb8/YDUU4KIKVCLY1457032234192.jpg);\"></div><div class=\"Art-overlay\"></div></div></div><div class=\"Card-image--half\"><div class=\"Art Card-art\"><div class=\"Art-size\" style=\"padding-top:50%\"></div><div class=\"Art-image\" style=\"background-image:url(https://blz-contentstack-images.akamaized.net/v3/assets/blt3452e3b114fab0cd/blt87bd56354f8c3fcd/5ee3e8c1889f917094610eb8/YDUU4KIKVCLY1457032234192.jpg);\"></div><div class=\"Art-overlay\"></div></div></div></div><div class=\"Card-content\"><div class=\"gutter-normal gutter-all\"><div class=\"Card-title\">Hexenmeister</div><div class=\"Card-subtitle\">Schaden</div><p class=\"Card-description font-size-xSmall\" media-large=\"font-size-xSmall\">Im Angesicht einer dämonischen Macht finden die meisten Helden den Tod. Hexenmeister jedoch sehen dies als günstige Gelegenheit. Ihr Ziel ist die Beherrschung, und in den dunklen Künsten haben sie einen Weg dorthin gefunden.</p><p class=\"Card-excerpt Card-excerpt--normal font-size-small\" media-large=\"font-size-xSmall\">Im Angesicht einer dämonischen Macht finden die meisten Helden den Tod. Hexenmeister jedoch sehen dies als günstige Gelegenheit. Ihr Ziel ist die...</p><p class=\"Card-excerpt Card-excerpt--medium font-size-small\" media-large=\"font-size-xSmall\">Im Angesicht einer dämonischen Macht finden die meisten Helden den Tod. Hexenmeister jedoch sehen dies als günstige Gelegenheit. Ihr Ziel ist die Beherrschung, und in den dunklen Künsten haben sie einen Weg dorthin gefunden.</p><p class=\"Card-excerpt Card-excerpt--long font-size-small\" media-large=\"font-size-xSmall\">Im Angesicht einer dämonischen Macht finden die meisten Helden den Tod. Hexenmeister jedoch sehen dies als günstige Gelegenheit. Ihr Ziel ist die Beherrschung, und in den dunklen Künsten haben sie einen Weg dorthin gefunden.</p></div></div></a></div><div class=\"Card Card--borderPaper Cards-card\"><a class=\"Card-link SyncHeight-item\" href=\"/de-de/game/classes/druid\"><div class=\"Card-image\"><div class=\"Card-image--full\"><div class=\"Art Card-art\"><div class=\"Art-size\" style=\"padding-top:100%\"></div><div class=\"Art-image\" style=\"background-image:url(https://blz-contentstack-images.akamaized.net/v3/assets/blt3452e3b114fab0cd/blt15fb42851b4eab5e/5ee3e39aa9170407eeb4b76d/1LARAZ7I3M0F1457032234809.jpg);\"></div><div class=\"Art-overlay\"></div></div></div><div class=\"Card-image--half\"><div class=\"Art Card-art\"><div class=\"Art-size\" style=\"padding-top:50%\"></div><div class=\"Art-image\" style=\"background-image:url(https://blz-contentstack-images.akamaized.net/v3/assets/blt3452e3b114fab0cd/blt15fb42851b4eab5e/5ee3e39aa9170407eeb4b76d/1LARAZ7I3M0F1457032234809.jpg);\"></div><div class=\"Art-overlay\"></div></div></div></div><div class=\"Card-content\"><div class=\"gutter-normal gutter-all\"><div class=\"Card-title\">Druide</div><div class=\"Card-subtitle\">Tank, Heiler, Schaden</div><p class=\"Card-description font-size-xSmall\" media-large=\"font-size-xSmall\">Druiden nutzen die endlosen Mächte der Natur, um Gleichgewicht zu schaffen und das Leben zu beschützen. Als Meister der Gestaltwandelkunst können sie die Form eines Bären, einer Katze, einer Sturmkrähe oder eines Seelöwen annehmen.</p><p class=\"Card-excerpt Card-excerpt--normal font-size-small\" media-large=\"font-size-xSmall\">Druiden nutzen die endlosen Mächte der Natur, um Gleichgewicht zu schaffen und das Leben zu beschützen. Als Meister der Gestaltwandelkunst können...</p><p class=\"Card-excerpt Card-excerpt--medium font-size-small\" media-large=\"font-size-xSmall\">Druiden nutzen die endlosen Mächte der Natur, um Gleichgewicht zu schaffen und das Leben zu beschützen. Als Meister der Gestaltwandelkunst können sie die Form eines Bären, einer Katze, einer Sturmkrähe oder eines Seelöwen annehmen.</p><p class=\"Card-excerpt Card-excerpt--long font-size-small\" media-large=\"font-size-xSmall\">Druiden nutzen die endlosen Mächte der Natur, um Gleichgewicht zu schaffen und das Leben zu beschützen. Als Meister der Gestaltwandelkunst können sie die Form eines Bären, einer Katze, einer Sturmkrähe oder eines Seelöwen annehmen.</p></div></div></a></div><div class=\"Card Card--borderPaper Cards-card\"><a class=\"Card-link SyncHeight-item\" href=\"/de-de/game/classes/death-knight\"><div class=\"Card-image\"><div class=\"Card-image--full\"><div class=\"Art Card-art\"><div class=\"Art-size\" style=\"padding-top:100%\"></div><div class=\"Art-image\" style=\"background-image:url(https://blz-contentstack-images.akamaized.net/v3/assets/blt3452e3b114fab0cd/blt456a89c041972885/5ee3e3d363a2d9709383078b/XM82LOJR750J1457032234975.jpg);\"></div><div class=\"Art-overlay\"></div></div></div><div class=\"Card-image--half\"><div class=\"Art Card-art\"><div class=\"Art-size\" style=\"padding-top:50%\"></div><div class=\"Art-image\" style=\"background-image:url(https://blz-contentstack-images.akamaized.net/v3/assets/blt3452e3b114fab0cd/blt456a89c041972885/5ee3e3d363a2d9709383078b/XM82LOJR750J1457032234975.jpg);\"></div><div class=\"Art-overlay\"></div></div></div></div><div class=\"Card-content\"><div class=\"gutter-normal gutter-all\"><div class=\"Card-title\">Todesritter</div><div class=\"Card-subtitle\">Tank, Schaden</div><p class=\"Card-description font-size-xSmall\" media-large=\"font-size-xSmall\">Als die Kontrolle des Lichkönigs über seine Todesritter gebrochen war, fanden seine einstigen Champions eine neue Bestimmung als Ritter der Schwarzen Klinge. Nachdem Bolvar Fordragon den Helm aufgesetzt hatte, um die untote Geißel unter Kontrolle zu halten, rief er eine neue Generation Todesritter als Unterstützung für die Schwarze Klinge ins Leben.</p><p class=\"Card-excerpt Card-excerpt--normal font-size-small\" media-large=\"font-size-xSmall\">Als die Kontrolle des Lichkönigs über seine Todesritter gebrochen war, fanden seine einstigen Champions eine neue Bestimmung als Ritter der Schwa...</p><p class=\"Card-excerpt Card-excerpt--medium font-size-small\" media-large=\"font-size-xSmall\">Als die Kontrolle des Lichkönigs über seine Todesritter gebrochen war, fanden seine einstigen Champions eine neue Bestimmung als Ritter der Schwarzen Klinge. Nachdem Bolvar Fordragon den Helm aufgesetzt hatte, um die untote Geißel unter Kontroll...</p><p class=\"Card-excerpt Card-excerpt--long font-size-small\" media-large=\"font-size-xSmall\">Als die Kontrolle des Lichkönigs über seine Todesritter gebrochen war, fanden seine einstigen Champions eine neue Bestimmung als Ritter der Schwarzen Klinge. Nachdem Bolvar Fordragon den Helm aufgesetzt hatte, um die untote Geißel unter Kontrolle zu halten, rief er eine neue Generation Todesritter als Unterstützung für die Schwarze Klinge ins ...</p></div></div></a></div></div></div></div><div class=\"space-normal\"></div></div></div></main><div class=\"Divider\"></div><div class=\"Pane Pane--bgBottom bordered\" data-lazyload-modifier=\"Pane--dirtLight\"><div class=\"Pane-bg\"><div class=\"Pane-overlay\"></div></div><div class=\"Pane-content\"><div class=\"gutter-normal gutter-vertical\"><div class=\"SocialLinks SocialLinks--undefined\"><h2 class=\"SocialLinks-title\">Warcraft folgen</h2><div class=\"SocialLinks-links\"><a class=\"Link SocialLinks-link\" href=\"https://www.facebook.com/WorldofWarcraft.de\" data-analytics=\"sns-refer\" data-analytics-placement=\"Footer - facebook\"><span class=\"Icon Icon--social-facebook Icon--medium SocialLinks-icon\"><img class=\"Icon-svg\" src=\"https://assets-bwa.worldofwarcraft.blizzard.com/images/social-facebook.73dc888c990c5a763d2940e0aa4fe23caa7dd2a3.svg\"/></span></a><a class=\"Link SocialLinks-link\" href=\"https://x.com/warcraft_DE\" data-analytics=\"sns-refer\" data-analytics-placement=\"Footer - twitter\"><span class=\"Icon Icon--social-twitter Icon--medium SocialLinks-icon\"><img class=\"Icon-svg\" src=\"https://assets-bwa.worldofwarcraft.blizzard.com/images/social-twitter.281231bf5ecb4280d12309e259acea8cf9a33c1a.svg\"/></span></a><a class=\"Link SocialLinks-link\" href=\"http://www.youtube.com/user/WorldofWarcraftDE\" data-analytics=\"sns-refer\" data-analytics-placement=\"Footer - youtube\"><span class=\"Icon Icon--social-youtube Icon--medium SocialLinks-icon\"><img class=\"Icon-svg\" src=\"https://assets-bwa.worldofwarcraft.blizzard.com/images/social-youtube.d360ef1618fe9863912792a8daae20106cd6b5c3.svg\"/></span></a><a class=\"Link SocialLinks-link\" href=\"https://www.reddit.com/r/wow\" data-analytics=\"sns-refer\" data-analytics-placement=\"Footer - reddit\"><span class=\"Icon Icon--social-reddit Icon--medium SocialLinks-icon\"><img class=\"Icon-svg\" src=\"https://assets-bwa.worldofwarcraft.blizzard.com/images/social-reddit.90720f352b8616f75e1eb772b781adcc7b41a734.svg\"/></span></a><a class=\"Link SocialLinks-link\" href=\"https://www.instagram.com/warcraft\" data-analytics=\"sns-refer\" data-analytics-placement=\"Footer - instagram\"><span class=\"Icon Icon--social-instagram Icon--medium SocialLinks-icon\"><img class=\"Icon-svg\" src=\"https://assets-bwa.worldofwarcraft.blizzard.com/images/social-instagram.063315658017923523fd188585c39561560d9b9c.svg\"/></span></a></div></div></div></div></div><div class=\"Pane z-index-above\" data-lazyload-modifier=\"Pane--dirtDark\"><div class=\"Pane-bg\"><div class=\"Pane-overlay\"></div></div><div class=\"Pane-content\"><blz-nav-footer legal-title-id=\"5730135\" legal-subtitle-id=\"13\" supported-locales=\\'[\"en-us\",\"en-gb\",\"de-de\",\"es-es\",\"es-mx\",\"fr-fr\",\"it-it\",\"pt-br\",\"ru-ru\",\"ko-kr\",\"zh-tw\"]\\' cookies-url=\"https://www.blizzard.com/cookies\"><script src=\"https://navbar.blizzard.com/static/v1/footer.js\" async=\"async\"></script></blz-nav-footer></div></div></div></div><div class=\"Photoswipe pswp Photoswipe--modal Photoswipe--wow\" name=\"modal\" tabindex=\"-1\" role=\"dialog\" aria-hidden=\"true\"><div class=\"pswp__bg\"></div><div class=\"pswp__scroll-wrap\"><div class=\"pswp__container\"><div class=\"pswp__item\"></div><div class=\"pswp__item\"></div><div class=\"pswp__item\"></div></div><div class=\"pswp__ui pswp__ui--hidden\"><div class=\"pswp__top-bar Photoswipe-top\"><div class=\"pswp__counter\"></div><button class=\"pswp__button pswp__button--close\" title=\"Schließen (Esc)\"></button><button class=\"pswp__button pswp__button--share\" title=\"Teilen\"></button><button class=\"pswp__button pswp__button--fs\" title=\"Vollbild ein/aus\"></button><button class=\"pswp__button pswp__button--zoom\" title=\"Hereinzoomen/Herauszoomen\"></button><div class=\"pswp__preloader\"><div class=\"pswp__preloader__icn\"><div class=\"pswp__preloader__cut\"><div class=\"pswp__preloader__donut\"></div></div></div></div></div><div class=\"pswp__share-modal pswp__share-modal--hidden pswp__single-tap\"><div class=\"pswp__share-tooltip\"></div></div><div class=\"pswp__caption\"><div class=\"pswp__caption__center\"></div></div><button class=\"pswp__button pswp__button--arrow--left\" title=\"Vorheriges (Rechtspfeil)\"></button><button class=\"pswp__button pswp__button--arrow--right\" title=\"Nächstes (Linkspfeil)\"></button><div class=\"Photoswipe-prev\" title=\"Vorheriges (Rechtspfeil)\"><span class=\"Icon Icon--prev\"></span></div><div class=\"Photoswipe-next\" title=\"Nächstes (Linkspfeil)\"><span class=\"Icon Icon--next\"></span></div></div></div></div><div class=\"Photoswipe pswp Photoswipe--lightbox Photoswipe--wow\" name=\"lightbox\" tabindex=\"-1\" role=\"dialog\" aria-hidden=\"true\"><div class=\"pswp__bg\"></div><div class=\"pswp__scroll-wrap\"><div class=\"pswp__container\"><div class=\"pswp__item\"></div><div class=\"pswp__item\"></div><div class=\"pswp__item\"></div></div><div class=\"pswp__ui pswp__ui--hidden\"><div class=\"pswp__top-bar Photoswipe-top\"><div class=\"pswp__counter\"></div><button class=\"pswp__button pswp__button--close\" title=\"Schließen (Esc)\"></button><button class=\"pswp__button pswp__button--share\" title=\"Teilen\"></button><button class=\"pswp__button pswp__button--fs\" title=\"Vollbild ein/aus\"></button><button class=\"pswp__button pswp__button--zoom\" title=\"Hereinzoomen/Herauszoomen\"></button><div class=\"pswp__preloader\"><div class=\"pswp__preloader__icn\"><div class=\"pswp__preloader__cut\"><div class=\"pswp__preloader__donut\"></div></div></div></div></div><div class=\"pswp__share-modal pswp__share-modal--hidden pswp__single-tap\"><div class=\"pswp__share-tooltip\"></div></div><div class=\"pswp__caption\"><div class=\"pswp__caption__center\"></div></div><button class=\"pswp__button pswp__button--arrow--left\" title=\"Vorheriges (Rechtspfeil)\"></button><button class=\"pswp__button pswp__button--arrow--right\" title=\"Nächstes (Linkspfeil)\"></button><div class=\"Photoswipe-prev\" title=\"Vorheriges (Rechtspfeil)\"><span class=\"Icon Icon--prev\"></span></div><div class=\"Photoswipe-next\" title=\"Nächstes (Linkspfeil)\"><span class=\"Icon Icon--next\"></span></div></div></div></div><script src=\"https://assets-bwa.worldofwarcraft.blizzard.com/runtime.7c542bb00faccf9472f3.js\"></script><script src=\"https://assets-bwa.worldofwarcraft.blizzard.com/vendor.20dc0f46c8f804e11276.js\"></script><script src=\"https://assets-bwa.worldofwarcraft.blizzard.com/632.70d340201ba1db8189d1.js\"></script><script src=\"https://assets-bwa.worldofwarcraft.blizzard.com/legacy-components.50eec4bc7d84f03521ef.js\"></script><script id=\"model\">model = {\"title\":\"Klassen\",\"subtitle\":\"In World of Warcraft erwarten euch Ritter in glänzender Rüstung, herumschleichende Draufgänger und raffinierte Zauberwirker. Einzigartige Herausforderungen erwarten euch mit jeder Klasse und ein Spielerlebnis, das es zu meistern gilt. Welchem Ruf werdet ihr folgen?\",\"background\":{\"color\":\"#151b0f\",\"url\":\"https://blz-contentstack-images.akamaized.net/v3/assets/blt3452e3b114fab0cd/bltfdb10c76cd837218/5ef22bb0b7f22712a4d508b9/PJBK2UYV0YYL1466177409759.jpg\",\"bg\":{\"url\":\"https://blz-contentstack-images.akamaized.net/v3/assets/blt3452e3b114fab0cd/bltfdb10c76cd837218/5ef22bb0b7f22712a4d508b9/PJBK2UYV0YYL1466177409759.jpg\"}},\"meta\":{\"title\":\"Spielbare Klassen\",\"description\":\"In World of Warcraft könnt ihr Ritter in glänzender Rüstung, herumschleichende Draufgänger oder raffinierte Zauberwirker sein. Einzigartige Herausforderungen...\",\"card\":\"summary\"},\"columns\":[[{\"title\":\"Krieger\",\"subtitle\":\"Tank, Schaden\",\"url\":\"/game/classes/warrior\",\"description\":\"Schon seit es Kriege gibt streben Helden aus allen Völkern danach, die Kunst der Schlacht zu beherrschen. Im Krieger vereinen sich Stärke, Führungsqualitäten und ein unermessliches Wissen über Waffen und Rüstungen, um in einer glorreichen Schlacht den Feind in den Untergang zu stürzen.\",\"image\":{\"uid\":\"bltf9f62859db695a4d\",\"created_by\":\"bltc3f426be8073d0e3\",\"updated_by\":\"bltc3f426be8073d0e3\",\"created_at\":\"2020-06-12T20:24:19.139Z\",\"updated_at\":\"2020-06-12T20:24:19.139Z\",\"content_type\":\"image/jpeg\",\"file_size\":\"116117\",\"filename\":\"9WL35DUZNSG01457032148687.jpg\",\"title\":\"9WL35DUZNSG01457032148687.jpg\",\"ACL\":[],\"_version\":1,\"is_dir\":false,\"tags\":[],\"publish_details\":{\"environment\":\"blt4418a17401c01b36\",\"locale\":\"de-de\",\"time\":\"2020-07-14T14:22:23.425Z\",\"user\":\"blt8e45e3b7cfc3143d\"},\"url\":\"https://blz-contentstack-images.akamaized.net/v3/assets/blt3452e3b114fab0cd/bltf9f62859db695a4d/5ee3e473a7c560086afc3ffd/9WL35DUZNSG01457032148687.jpg\",\"width\":100,\"height\":100},\"fontSize\":\"xSmall\"},{\"title\":\"Jäger\",\"subtitle\":\"Schaden\",\"url\":\"/game/classes/hunter\",\"description\":\"Schon seit ewigen Zeiten lockt der Ruf der Wildnis einige Abenteurer aus der Sicherheit ihres Heims hinaus in die gnadenlose, unberührte Welt. Diejenigen, die ihre Herausforderungen bestehen, werden zu Jägern.\",\"image\":{\"uid\":\"blt567c8844ced4dbc7\",\"created_by\":\"bltc3f426be8073d0e3\",\"updated_by\":\"bltc3f426be8073d0e3\",\"created_at\":\"2020-06-12T20:22:41.898Z\",\"updated_at\":\"2020-06-12T20:22:41.898Z\",\"content_type\":\"image/jpeg\",\"file_size\":\"107437\",\"filename\":\"QDIDT6YO6NYN1457032234749.jpg\",\"title\":\"QDIDT6YO6NYN1457032234749.jpg\",\"ACL\":[],\"_version\":1,\"is_dir\":false,\"tags\":[],\"publish_details\":{\"environment\":\"blt4418a17401c01b36\",\"locale\":\"de-de\",\"time\":\"2020-07-14T14:22:57.046Z\",\"user\":\"blt8e45e3b7cfc3143d\"},\"url\":\"https://blz-contentstack-images.akamaized.net/v3/assets/blt3452e3b114fab0cd/blt567c8844ced4dbc7/5ee3e411e8f74907ecce011e/QDIDT6YO6NYN1457032234749.jpg\",\"width\":100,\"height\":100},\"fontSize\":\"xSmall\"},{\"title\":\"Priester\",\"subtitle\":\"Heiler, Schaden\",\"url\":\"/game/classes/priest\",\"description\":\"Priester haben sich ganz dem spirituellen Pfad gewidmet und zeigen ihren unerschütterlichen Glauben, indem sie anderen dienen. Vor Jahrtausenden verließen sie die Grenzen ihrer Tempel und die Zuflucht ihrer Schreine, um ihre Verbündeten in den von Kriegen zerrissenen Ländern zu unterstützen.\",\"image\":{\"uid\":\"blt6b4539f958b752fb\",\"created_by\":\"bltc3f426be8073d0e3\",\"updated_by\":\"bltc3f426be8073d0e3\",\"created_at\":\"2020-06-15T14:55:59.803Z\",\"updated_at\":\"2020-06-15T14:55:59.803Z\",\"content_type\":\"image/jpeg\",\"file_size\":\"112005\",\"filename\":\"MWNKR1G1Z7AD1457032234453.jpg\",\"title\":\"MWNKR1G1Z7AD1457032234453.jpg\",\"ACL\":[],\"_version\":1,\"is_dir\":false,\"tags\":[],\"publish_details\":{\"environment\":\"blt4418a17401c01b36\",\"locale\":\"de-de\",\"time\":\"2020-07-14T14:22:23.425Z\",\"user\":\"blt8e45e3b7cfc3143d\"},\"url\":\"https://blz-contentstack-images.akamaized.net/v3/assets/blt3452e3b114fab0cd/blt6b4539f958b752fb/5ee78bff63a2d97093830907/MWNKR1G1Z7AD1457032234453.jpg\",\"width\":100,\"height\":100},\"fontSize\":\"xSmall\"},{\"title\":\"Magier\",\"subtitle\":\"Schaden\",\"url\":\"/game/classes/mage\",\"description\":\"Nur besonders talentierte Schüler mit einer unerschütterlichen Disziplin sind in der Lage, auf dem harten Pfad des Magiers zu bestehen. Die arkane Magie der Magier ist sowohl mächtig als auch gefährlich, weshalb sie nur hingebungsvollen Magiebegabten offenbart wird.\",\"image\":{\"uid\":\"bltdd80a40a42fdc015\",\"created_by\":\"bltc3f426be8073d0e3\",\"updated_by\":\"bltc3f426be8073d0e3\",\"created_at\":\"2020-06-12T20:23:40.509Z\",\"updated_at\":\"2020-06-12T20:23:40.509Z\",\"content_type\":\"image/jpeg\",\"file_size\":\"106494\",\"filename\":\"PRJHFTFZI64Z1457032234735.jpg\",\"title\":\"PRJHFTFZI64Z1457032234735.jpg\",\"ACL\":[],\"_version\":1,\"is_dir\":false,\"tags\":[],\"publish_details\":{\"environment\":\"blt4418a17401c01b36\",\"locale\":\"de-de\",\"time\":\"2020-07-14T14:22:23.425Z\",\"user\":\"blt8e45e3b7cfc3143d\"},\"url\":\"https://blz-contentstack-images.akamaized.net/v3/assets/blt3452e3b114fab0cd/bltdd80a40a42fdc015/5ee3e44c18f34d710497c5bd/PRJHFTFZI64Z1457032234735.jpg\",\"width\":100,\"height\":100},\"fontSize\":\"xSmall\"},{\"title\":\"Mönch\",\"subtitle\":\"Tank, Heiler, Schaden\",\"url\":\"/game/classes/monk\",\"description\":\"Raufbolde die mit bloßen Händen kämpfen haben diesen waffenlosen Stil im alten Pandaria entwickelt. Mönche die so verschieden sind, wie die Energie die sie umgibt. Sie können tödliche Angriffe durch den Dunst ihrer Gebräue schultern, den Chi-Fluß heilen und ihre Feinde mit Schlägen und Tritten so schnell wie der Wind eindecken.\",\"image\":{\"uid\":\"bltab8e835ed1f245ba\",\"created_by\":\"bltc3f426be8073d0e3\",\"updated_by\":\"bltc3f426be8073d0e3\",\"created_at\":\"2020-06-15T15:29:15.946Z\",\"updated_at\":\"2020-06-15T15:29:15.946Z\",\"content_type\":\"image/jpeg\",\"file_size\":\"86954\",\"filename\":\"80E3HJ653J1M1457032234443.jpg\",\"title\":\"80E3HJ653J1M1457032234443.jpg\",\"ACL\":[],\"_version\":1,\"is_dir\":false,\"tags\":[],\"publish_details\":{\"environment\":\"blt4418a17401c01b36\",\"locale\":\"de-de\",\"time\":\"2020-07-14T14:22:23.425Z\",\"user\":\"blt8e45e3b7cfc3143d\"},\"url\":\"https://blz-contentstack-images.akamaized.net/v3/assets/blt3452e3b114fab0cd/bltab8e835ed1f245ba/5ee793cb3a8621077a04a491/80E3HJ653J1M1457032234443.jpg\",\"width\":100,\"height\":100},\"fontSize\":\"xSmall\"},{\"title\":\"Dämonenjäger\",\"subtitle\":\"Tank, Schaden\",\"url\":\"/game/classes/demon-hunter\",\"description\":\"Dämonenjäger machen sich die verbotenen Mächte der Legion zueigen. Sie setzen Dämonen- und Chaosmagie ein, nehmen dämonische Formen an, besitzen Geistersicht und höllische Beweglichkeit, mit der sie selbst die gefährlichsten Gegner zur Strecke bringen können.\",\"image\":{\"uid\":\"bltecb94c367119455a\",\"created_by\":\"bltc3f426be8073d0e3\",\"updated_by\":\"bltc3f426be8073d0e3\",\"created_at\":\"2020-06-15T15:39:29.119Z\",\"updated_at\":\"2020-06-15T15:39:29.119Z\",\"content_type\":\"image/jpeg\",\"file_size\":\"108653\",\"filename\":\"4YSZQMC616V61457032235002.jpg\",\"title\":\"4YSZQMC616V61457032235002.jpg\",\"ACL\":[],\"_version\":1,\"is_dir\":false,\"tags\":[],\"publish_details\":{\"environment\":\"blt4418a17401c01b36\",\"locale\":\"de-de\",\"time\":\"2020-07-14T14:22:23.425Z\",\"user\":\"blt8e45e3b7cfc3143d\"},\"url\":\"https://blz-contentstack-images.akamaized.net/v3/assets/blt3452e3b114fab0cd/bltecb94c367119455a/5ee79631d217327180733e77/4YSZQMC616V61457032235002.jpg\",\"width\":100,\"height\":100},\"fontSize\":\"xSmall\"},{\"title\":\"Rufer\",\"subtitle\":\"Heiler, Schaden\",\"url\":\"/game/classes/evoker\",\"description\":\"Die Rufer der Dracthyr wurden geschaffen, um die Magien aller fünf Drachenschwärme zu verwenden. Jetzt machen sie sich auf, um sich in Azeroth ihren eigenen Weg zu bahnen.\",\"image\":{\"parent_uid\":\"bltdeea1f2173a869e1\",\"uid\":\"bltc4d521bd78d2e181\",\"created_by\":\"bltbd9ac9b1c3485aae\",\"updated_by\":\"bltbd9ac9b1c3485aae\",\"created_at\":\"2022-10-12T23:46:08.195Z\",\"updated_at\":\"2022-10-20T22:34:08.297Z\",\"content_type\":\"image/jpeg\",\"file_size\":\"144333\",\"filename\":\"Evoker_Card.jpg\",\"title\":\"Evoker_RacePage_T.png\",\"ACL\":[],\"_version\":4,\"is_dir\":false,\"tags\":[],\"description\":\"\",\"publish_details\":{\"environment\":\"blt4418a17401c01b36\",\"locale\":\"de-de\",\"time\":\"2022-11-15T16:41:13.871Z\",\"user\":\"bltdd7e3abfb24e69c1\"},\"url\":\"https://blz-contentstack-images.akamaized.net/v3/assets/blt3452e3b114fab0cd/bltc4d521bd78d2e181/6351cce05e1b6d519cb60ba9/Evoker_Card.jpg\",\"permanent_url\":\"https://blz-contentstack-images.akamaized.net/v3/assets/blt3452e3b114fab0cd/bltc4d521bd78d2e181/Evoker_RacePage_T.png\",\"width\":100,\"height\":100},\"fontSize\":\"xSmall\"}],[{\"title\":\"Paladin\",\"subtitle\":\"Tank, Heiler, Schaden\",\"url\":\"/game/classes/paladin\",\"description\":\"Die Berufung des Paladins besteht darin, die Schwachen zu beschützen, den Ungerechten ihre gerechte Strafe zuteil werden zu lassen und das Böse aus den düstersten Ecken der Welt zu verbannen.\",\"image\":{\"uid\":\"blt931cd3c007637bcc\",\"created_by\":\"bltc3f426be8073d0e3\",\"updated_by\":\"bltc3f426be8073d0e3\",\"created_at\":\"2020-06-15T15:15:55.325Z\",\"updated_at\":\"2020-06-15T15:15:55.325Z\",\"content_type\":\"image/jpeg\",\"file_size\":\"95435\",\"filename\":\"ZNPM9RQETYC21457032234435.jpg\",\"title\":\"ZNPM9RQETYC21457032234435.jpg\",\"ACL\":[],\"_version\":1,\"is_dir\":false,\"tags\":[],\"publish_details\":{\"environment\":\"blt4418a17401c01b36\",\"locale\":\"de-de\",\"time\":\"2020-07-14T14:22:23.425Z\",\"user\":\"blt8e45e3b7cfc3143d\"},\"url\":\"https://blz-contentstack-images.akamaized.net/v3/assets/blt3452e3b114fab0cd/blt931cd3c007637bcc/5ee790ab3a8621077a04a479/ZNPM9RQETYC21457032234435.jpg\",\"width\":100,\"height\":100},\"fontSize\":\"xSmall\"},{\"title\":\"Schurke\",\"subtitle\":\"Schaden\",\"url\":\"/game/classes/rogue\",\"description\":\"Schurken kennen nur einen Kodex, nämlich den Vertrag. Ihre Ehre lässt sich mit Gold kaufen. Frei von den hinderlichen Schranken eines Gewissens verlassen diese Söldner sich auf brutale und effiziente Taktiken.\",\"image\":{\"uid\":\"bltceda97b65490029d\",\"created_by\":\"bltc3f426be8073d0e3\",\"updated_by\":\"bltc3f426be8073d0e3\",\"created_at\":\"2020-06-12T20:25:06.565Z\",\"updated_at\":\"2020-06-12T20:25:06.565Z\",\"content_type\":\"image/jpeg\",\"file_size\":\"97153\",\"filename\":\"65H7H3XK5PFS1457032234098.jpg\",\"title\":\"65H7H3XK5PFS1457032234098.jpg\",\"ACL\":[],\"_version\":1,\"is_dir\":false,\"tags\":[],\"publish_details\":{\"environment\":\"blt4418a17401c01b36\",\"locale\":\"de-de\",\"time\":\"2020-07-14T14:22:23.425Z\",\"user\":\"blt8e45e3b7cfc3143d\"},\"url\":\"https://blz-contentstack-images.akamaized.net/v3/assets/blt3452e3b114fab0cd/bltceda97b65490029d/5ee3e4a218f34d710497c5c9/65H7H3XK5PFS1457032234098.jpg\",\"width\":100,\"height\":100},\"fontSize\":\"xSmall\"},{\"title\":\"Schamane\",\"subtitle\":\"Heiler, Schaden\",\"url\":\"/game/classes/shaman\",\"description\":\"Schamanen haben sich der spirituellen Führung und Kunst verschrieben, jedoch nicht des Göttlichen, sondern der Elemente selbst. Als Vermittler der vier Elemente ruft der Schamane Totems herbei und befieht ihnen, die Verbündeten des Schamanen zu unterstützen oder seine Feinde zu bestrafen.\",\"image\":{\"uid\":\"blt3001008857efcbd4\",\"created_by\":\"bltc3f426be8073d0e3\",\"updated_by\":\"bltc3f426be8073d0e3\",\"created_at\":\"2020-06-15T15:23:46.559Z\",\"updated_at\":\"2020-06-15T15:23:46.559Z\",\"content_type\":\"image/jpeg\",\"file_size\":\"104887\",\"filename\":\"LPEY9SFJT7PB1457032234088.jpg\",\"title\":\"LPEY9SFJT7PB1457032234088.jpg\",\"ACL\":[],\"_version\":1,\"is_dir\":false,\"tags\":[],\"publish_details\":{\"environment\":\"blt4418a17401c01b36\",\"locale\":\"de-de\",\"time\":\"2020-07-14T14:22:23.425Z\",\"user\":\"blt8e45e3b7cfc3143d\"},\"url\":\"https://blz-contentstack-images.akamaized.net/v3/assets/blt3452e3b114fab0cd/blt3001008857efcbd4/5ee7928218f34d710497c759/LPEY9SFJT7PB1457032234088.jpg\",\"width\":100,\"height\":100},\"fontSize\":\"xSmall\"},{\"title\":\"Hexenmeister\",\"subtitle\":\"Schaden\",\"url\":\"/game/classes/warlock\",\"description\":\"Im Angesicht einer dämonischen Macht finden die meisten Helden den Tod. Hexenmeister jedoch sehen dies als günstige Gelegenheit. Ihr Ziel ist die Beherrschung, und in den dunklen Künsten haben sie einen Weg dorthin gefunden.\",\"image\":{\"uid\":\"blt87bd56354f8c3fcd\",\"created_by\":\"bltc3f426be8073d0e3\",\"updated_by\":\"bltc3f426be8073d0e3\",\"created_at\":\"2020-06-12T20:42:41.269Z\",\"updated_at\":\"2020-06-12T20:42:41.269Z\",\"content_type\":\"image/jpeg\",\"file_size\":\"142602\",\"filename\":\"YDUU4KIKVCLY1457032234192.jpg\",\"title\":\"YDUU4KIKVCLY1457032234192.jpg\",\"ACL\":[],\"_version\":1,\"is_dir\":false,\"tags\":[],\"publish_details\":{\"environment\":\"blt4418a17401c01b36\",\"locale\":\"de-de\",\"time\":\"2020-07-14T14:22:23.425Z\",\"user\":\"blt8e45e3b7cfc3143d\"},\"url\":\"https://blz-contentstack-images.akamaized.net/v3/assets/blt3452e3b114fab0cd/blt87bd56354f8c3fcd/5ee3e8c1889f917094610eb8/YDUU4KIKVCLY1457032234192.jpg\",\"width\":100,\"height\":100},\"fontSize\":\"xSmall\"},{\"title\":\"Druide\",\"subtitle\":\"Tank, Heiler, Schaden\",\"url\":\"/game/classes/druid\",\"description\":\"Druiden nutzen die endlosen Mächte der Natur, um Gleichgewicht zu schaffen und das Leben zu beschützen. Als Meister der Gestaltwandelkunst können sie die Form eines Bären, einer Katze, einer Sturmkrähe oder eines Seelöwen annehmen.\",\"image\":{\"uid\":\"blt15fb42851b4eab5e\",\"created_by\":\"bltc3f426be8073d0e3\",\"updated_by\":\"bltc3f426be8073d0e3\",\"created_at\":\"2020-06-12T20:20:42.163Z\",\"updated_at\":\"2020-06-12T20:20:42.163Z\",\"content_type\":\"image/jpeg\",\"file_size\":\"120689\",\"filename\":\"1LARAZ7I3M0F1457032234809.jpg\",\"title\":\"1LARAZ7I3M0F1457032234809.jpg\",\"ACL\":[],\"_version\":1,\"is_dir\":false,\"tags\":[],\"publish_details\":{\"environment\":\"blt4418a17401c01b36\",\"locale\":\"de-de\",\"time\":\"2020-07-14T14:22:23.425Z\",\"user\":\"blt8e45e3b7cfc3143d\"},\"url\":\"https://blz-contentstack-images.akamaized.net/v3/assets/blt3452e3b114fab0cd/blt15fb42851b4eab5e/5ee3e39aa9170407eeb4b76d/1LARAZ7I3M0F1457032234809.jpg\",\"width\":100,\"height\":100},\"fontSize\":\"xSmall\"},{\"title\":\"Todesritter\",\"subtitle\":\"Tank, Schaden\",\"url\":\"/game/classes/death-knight\",\"description\":\"Als die Kontrolle des Lichkönigs über seine Todesritter gebrochen war, fanden seine einstigen Champions eine neue Bestimmung als Ritter der Schwarzen Klinge. Nachdem Bolvar Fordragon den Helm aufgesetzt hatte, um die untote Geißel unter Kontrolle zu halten, rief er eine neue Generation Todesritter als Unterstützung für die Schwarze Klinge ins Leben.\",\"image\":{\"uid\":\"blt456a89c041972885\",\"created_by\":\"bltc3f426be8073d0e3\",\"updated_by\":\"bltc3f426be8073d0e3\",\"created_at\":\"2020-06-12T20:21:39.962Z\",\"updated_at\":\"2020-06-12T20:21:39.962Z\",\"content_type\":\"image/jpeg\",\"file_size\":\"86508\",\"filename\":\"XM82LOJR750J1457032234975.jpg\",\"title\":\"XM82LOJR750J1457032234975.jpg\",\"ACL\":[],\"_version\":1,\"is_dir\":false,\"tags\":[],\"publish_details\":{\"environment\":\"blt4418a17401c01b36\",\"locale\":\"de-de\",\"time\":\"2020-07-14T14:22:57.046Z\",\"user\":\"blt8e45e3b7cfc3143d\"},\"url\":\"https://blz-contentstack-images.akamaized.net/v3/assets/blt3452e3b114fab0cd/blt456a89c041972885/5ee3e3d363a2d9709383078b/XM82LOJR750J1457032234975.jpg\",\"width\":100,\"height\":100},\"fontSize\":\"xSmall\"}]]};</script><script id=\"settings\">settings = {\"x-powered-by\":false,\"etag\":\"weak\",\"env\":\"production\",\"query parser\":\"extended\",\"subdomain offset\":2,\"trust proxy\":true,\"views\":\"/usr/src/app/templates\",\"jsonp callback name\":\"callback\",\"view cache\":true,\"view engine\":\"pug\"};</script></body></html>'"
      ]
     },
     "execution_count": 2,
     "metadata": {},
     "output_type": "execute_result"
    }
   ],
   "execution_count": 2
  },
  {
   "metadata": {
    "ExecuteTime": {
     "end_time": "2025-01-27T07:53:24.750602Z",
     "start_time": "2025-01-27T07:53:24.740472Z"
    }
   },
   "cell_type": "code",
   "source": "type(response.text)",
   "outputs": [
    {
     "data": {
      "text/plain": [
       "str"
      ]
     },
     "execution_count": 3,
     "metadata": {},
     "output_type": "execute_result"
    }
   ],
   "execution_count": 3
  },
  {
   "cell_type": "code",
   "metadata": {
    "ExecuteTime": {
     "end_time": "2025-01-27T07:54:31.918516Z",
     "start_time": "2025-01-27T07:54:31.885773Z"
    }
   },
   "source": [
    "# Schritt 2: Suppen-Objekt erstellen\n",
    "# -> Inhalt wird von bs4 ausgelesen und umgewandelt\n",
    "soup = BeautifulSoup(response.text, 'html.parser')"
   ],
   "outputs": [],
   "execution_count": 4
  },
  {
   "cell_type": "code",
   "metadata": {
    "collapsed": false,
    "ExecuteTime": {
     "end_time": "2025-01-27T07:58:08.735151Z",
     "start_time": "2025-01-27T07:58:08.719580Z"
    }
   },
   "source": [
    "# Schritt 3: Die Suppe durchsuchen\n",
    "#            Welche HTML-Tags wollen wir finden?\n",
    "titles = soup.find_all('div', class_='Card-title')\n",
    "titles"
   ],
   "outputs": [
    {
     "data": {
      "text/plain": [
       "[<div class=\"Card-title\">Krieger</div>,\n",
       " <div class=\"Card-title\">Jäger</div>,\n",
       " <div class=\"Card-title\">Priester</div>,\n",
       " <div class=\"Card-title\">Magier</div>,\n",
       " <div class=\"Card-title\">Mönch</div>,\n",
       " <div class=\"Card-title\">Dämonenjäger</div>,\n",
       " <div class=\"Card-title\">Rufer</div>,\n",
       " <div class=\"Card-title\">Paladin</div>,\n",
       " <div class=\"Card-title\">Schurke</div>,\n",
       " <div class=\"Card-title\">Schamane</div>,\n",
       " <div class=\"Card-title\">Hexenmeister</div>,\n",
       " <div class=\"Card-title\">Druide</div>,\n",
       " <div class=\"Card-title\">Todesritter</div>]"
      ]
     },
     "execution_count": 5,
     "metadata": {},
     "output_type": "execute_result"
    }
   ],
   "execution_count": 5
  },
  {
   "metadata": {
    "ExecuteTime": {
     "end_time": "2025-01-27T07:58:29.601400Z",
     "start_time": "2025-01-27T07:58:29.590492Z"
    }
   },
   "cell_type": "code",
   "source": "len(titles)",
   "outputs": [
    {
     "data": {
      "text/plain": [
       "13"
      ]
     },
     "execution_count": 6,
     "metadata": {},
     "output_type": "execute_result"
    }
   ],
   "execution_count": 6
  },
  {
   "metadata": {
    "ExecuteTime": {
     "end_time": "2025-01-27T07:59:13.408861Z",
     "start_time": "2025-01-27T07:59:13.398739Z"
    }
   },
   "cell_type": "code",
   "source": [
    "# Prinzipiell hätte auch nur Klassenangabe gereicht:\n",
    "soup.find_all(class_='Card-title')"
   ],
   "outputs": [
    {
     "data": {
      "text/plain": [
       "[<div class=\"Card-title\">Krieger</div>,\n",
       " <div class=\"Card-title\">Jäger</div>,\n",
       " <div class=\"Card-title\">Priester</div>,\n",
       " <div class=\"Card-title\">Magier</div>,\n",
       " <div class=\"Card-title\">Mönch</div>,\n",
       " <div class=\"Card-title\">Dämonenjäger</div>,\n",
       " <div class=\"Card-title\">Rufer</div>,\n",
       " <div class=\"Card-title\">Paladin</div>,\n",
       " <div class=\"Card-title\">Schurke</div>,\n",
       " <div class=\"Card-title\">Schamane</div>,\n",
       " <div class=\"Card-title\">Hexenmeister</div>,\n",
       " <div class=\"Card-title\">Druide</div>,\n",
       " <div class=\"Card-title\">Todesritter</div>]"
      ]
     },
     "execution_count": 7,
     "metadata": {},
     "output_type": "execute_result"
    }
   ],
   "execution_count": 7
  },
  {
   "cell_type": "code",
   "metadata": {
    "collapsed": false,
    "ExecuteTime": {
     "end_time": "2025-01-27T08:03:50.610454Z",
     "start_time": "2025-01-27T08:03:50.598358Z"
    }
   },
   "source": [
    "# Schritt 4: Jetzt wollen wir für jedes Objekt nur\n",
    "# den Textinhalt und diesen als neue Liste speichern.\n",
    "classes = [title.text for title in titles]\n",
    "classes"
   ],
   "outputs": [
    {
     "data": {
      "text/plain": [
       "['Krieger',\n",
       " 'Jäger',\n",
       " 'Priester',\n",
       " 'Magier',\n",
       " 'Mönch',\n",
       " 'Dämonenjäger',\n",
       " 'Rufer',\n",
       " 'Paladin',\n",
       " 'Schurke',\n",
       " 'Schamane',\n",
       " 'Hexenmeister',\n",
       " 'Druide',\n",
       " 'Todesritter']"
      ]
     },
     "execution_count": 8,
     "metadata": {},
     "output_type": "execute_result"
    }
   ],
   "execution_count": 8
  },
  {
   "cell_type": "markdown",
   "metadata": {},
   "source": [
    "### Können wir jedes Attribut des HTML-Codes zum Filtern nutzen?\n",
    "#### Klares Jein!"
   ]
  },
  {
   "cell_type": "markdown",
   "metadata": {},
   "source": [
    "Abhängig vom Attributnamen müssen wir unterschiedlich vorgehen"
   ]
  },
  {
   "cell_type": "code",
   "source": [
    "# Kleiner Hinweis vorab: So kann man sich Attribute eines Tags anzeigen lassen.\n",
    "# Bei class steht die Klasse oder die Klassen, denen ein Tag angehört\n",
    "# Alle weiteren Schlüssel-Werte-Paare sind Attribute:\n",
    "soup.a"
   ],
   "metadata": {
    "collapsed": false,
    "ExecuteTime": {
     "end_time": "2025-01-27T08:04:33.659963Z",
     "start_time": "2025-01-27T08:04:33.648097Z"
    }
   },
   "outputs": [
    {
     "data": {
      "text/plain": [
       "<a class=\"Card-link SyncHeight-item\" href=\"/de-de/game/classes/warrior\"><div class=\"Card-image\"><div class=\"Card-image--full\"><div class=\"Art Card-art\"><div class=\"Art-size\" style=\"padding-top:100%\"></div><div class=\"Art-image\" style=\"background-image:url(https://blz-contentstack-images.akamaized.net/v3/assets/blt3452e3b114fab0cd/bltf9f62859db695a4d/5ee3e473a7c560086afc3ffd/9WL35DUZNSG01457032148687.jpg);\"></div><div class=\"Art-overlay\"></div></div></div><div class=\"Card-image--half\"><div class=\"Art Card-art\"><div class=\"Art-size\" style=\"padding-top:50%\"></div><div class=\"Art-image\" style=\"background-image:url(https://blz-contentstack-images.akamaized.net/v3/assets/blt3452e3b114fab0cd/bltf9f62859db695a4d/5ee3e473a7c560086afc3ffd/9WL35DUZNSG01457032148687.jpg);\"></div><div class=\"Art-overlay\"></div></div></div></div><div class=\"Card-content\"><div class=\"gutter-normal gutter-all\"><div class=\"Card-title\">Krieger</div><div class=\"Card-subtitle\">Tank, Schaden</div><p class=\"Card-description font-size-xSmall\" media-large=\"font-size-xSmall\">Schon seit es Kriege gibt streben Helden aus allen Völkern danach, die Kunst der Schlacht zu beherrschen. Im Krieger vereinen sich Stärke, Führungsqualitäten und ein unermessliches Wissen über Waffen und Rüstungen, um in einer glorreichen Schlacht den Feind in den Untergang zu stürzen.</p><p class=\"Card-excerpt Card-excerpt--normal font-size-small\" media-large=\"font-size-xSmall\">Schon seit es Kriege gibt streben Helden aus allen Völkern danach, die Kunst der Schlacht zu beherrschen. Im Krieger vereinen sich Stärke, Führun...</p><p class=\"Card-excerpt Card-excerpt--medium font-size-small\" media-large=\"font-size-xSmall\">Schon seit es Kriege gibt streben Helden aus allen Völkern danach, die Kunst der Schlacht zu beherrschen. Im Krieger vereinen sich Stärke, Führungsqualitäten und ein unermessliches Wissen über Waffen und Rüstungen, um in einer glorreichen Schlac...</p><p class=\"Card-excerpt Card-excerpt--long font-size-small\" media-large=\"font-size-xSmall\">Schon seit es Kriege gibt streben Helden aus allen Völkern danach, die Kunst der Schlacht zu beherrschen. Im Krieger vereinen sich Stärke, Führungsqualitäten und ein unermessliches Wissen über Waffen und Rüstungen, um in einer glorreichen Schlacht den Feind in den Untergang zu stürzen.</p></div></div></a>"
      ]
     },
     "execution_count": 9,
     "metadata": {},
     "output_type": "execute_result"
    }
   ],
   "execution_count": 9
  },
  {
   "metadata": {
    "ExecuteTime": {
     "end_time": "2025-01-27T08:05:08.995744Z",
     "start_time": "2025-01-27T08:05:08.986886Z"
    }
   },
   "cell_type": "code",
   "source": "soup.a.attrs",
   "outputs": [
    {
     "data": {
      "text/plain": [
       "{'class': ['Card-link', 'SyncHeight-item'],\n",
       " 'href': '/de-de/game/classes/warrior'}"
      ]
     },
     "execution_count": 10,
     "metadata": {},
     "output_type": "execute_result"
    }
   ],
   "execution_count": 10
  },
  {
   "cell_type": "code",
   "source": [
    "# Mal ein Element mit mehr Attributen:\n",
    "soup.find(class_='Photoswipe--lightbox').attrs"
   ],
   "metadata": {
    "collapsed": false,
    "ExecuteTime": {
     "end_time": "2025-01-27T08:07:22.679729Z",
     "start_time": "2025-01-27T08:07:22.672447Z"
    }
   },
   "outputs": [
    {
     "data": {
      "text/plain": [
       "{'class': ['Photoswipe', 'pswp', 'Photoswipe--lightbox', 'Photoswipe--wow'],\n",
       " 'name': 'lightbox',\n",
       " 'tabindex': '-1',\n",
       " 'role': 'dialog',\n",
       " 'aria-hidden': 'true'}"
      ]
     },
     "execution_count": 11,
     "metadata": {},
     "output_type": "execute_result"
    }
   ],
   "execution_count": 11
  },
  {
   "cell_type": "code",
   "source": [
    "# Wie können wir nun aber nach Attributen unseren HTML-Baum durchforsten?"
   ],
   "metadata": {
    "collapsed": false
   },
   "outputs": [],
   "execution_count": null
  },
  {
   "cell_type": "code",
   "metadata": {
    "ExecuteTime": {
     "end_time": "2025-01-27T08:09:28.156646Z",
     "start_time": "2025-01-27T08:09:28.136873Z"
    }
   },
   "source": [
    "# 1. Einfach: Übernahme als **kwargs\n",
    "# Jeder Parameter, der nicht in der find_all-Methode\n",
    "# definiert ist, wird als Attribut-Filter verwendet\n",
    "# In diesem Fall href:\n",
    "soup.find_all(name='a', class_='Card-link', href='/de-de/game/classes/warrior')"
   ],
   "outputs": [
    {
     "data": {
      "text/plain": [
       "[<a class=\"Card-link SyncHeight-item\" href=\"/de-de/game/classes/warrior\"><div class=\"Card-image\"><div class=\"Card-image--full\"><div class=\"Art Card-art\"><div class=\"Art-size\" style=\"padding-top:100%\"></div><div class=\"Art-image\" style=\"background-image:url(https://blz-contentstack-images.akamaized.net/v3/assets/blt3452e3b114fab0cd/bltf9f62859db695a4d/5ee3e473a7c560086afc3ffd/9WL35DUZNSG01457032148687.jpg);\"></div><div class=\"Art-overlay\"></div></div></div><div class=\"Card-image--half\"><div class=\"Art Card-art\"><div class=\"Art-size\" style=\"padding-top:50%\"></div><div class=\"Art-image\" style=\"background-image:url(https://blz-contentstack-images.akamaized.net/v3/assets/blt3452e3b114fab0cd/bltf9f62859db695a4d/5ee3e473a7c560086afc3ffd/9WL35DUZNSG01457032148687.jpg);\"></div><div class=\"Art-overlay\"></div></div></div></div><div class=\"Card-content\"><div class=\"gutter-normal gutter-all\"><div class=\"Card-title\">Krieger</div><div class=\"Card-subtitle\">Tank, Schaden</div><p class=\"Card-description font-size-xSmall\" media-large=\"font-size-xSmall\">Schon seit es Kriege gibt streben Helden aus allen Völkern danach, die Kunst der Schlacht zu beherrschen. Im Krieger vereinen sich Stärke, Führungsqualitäten und ein unermessliches Wissen über Waffen und Rüstungen, um in einer glorreichen Schlacht den Feind in den Untergang zu stürzen.</p><p class=\"Card-excerpt Card-excerpt--normal font-size-small\" media-large=\"font-size-xSmall\">Schon seit es Kriege gibt streben Helden aus allen Völkern danach, die Kunst der Schlacht zu beherrschen. Im Krieger vereinen sich Stärke, Führun...</p><p class=\"Card-excerpt Card-excerpt--medium font-size-small\" media-large=\"font-size-xSmall\">Schon seit es Kriege gibt streben Helden aus allen Völkern danach, die Kunst der Schlacht zu beherrschen. Im Krieger vereinen sich Stärke, Führungsqualitäten und ein unermessliches Wissen über Waffen und Rüstungen, um in einer glorreichen Schlac...</p><p class=\"Card-excerpt Card-excerpt--long font-size-small\" media-large=\"font-size-xSmall\">Schon seit es Kriege gibt streben Helden aus allen Völkern danach, die Kunst der Schlacht zu beherrschen. Im Krieger vereinen sich Stärke, Führungsqualitäten und ein unermessliches Wissen über Waffen und Rüstungen, um in einer glorreichen Schlacht den Feind in den Untergang zu stürzen.</p></div></div></a>]"
      ]
     },
     "execution_count": 12,
     "metadata": {},
     "output_type": "execute_result"
    }
   ],
   "execution_count": 12
  },
  {
   "cell_type": "code",
   "metadata": {
    "ExecuteTime": {
     "end_time": "2025-01-27T08:13:26.920809Z",
     "start_time": "2025-01-27T08:13:26.910930Z"
    }
   },
   "source": [
    "# 2. Umständlicher: attrs-Argument\n",
    "# Manche Attributnamen eignen sich nicht als\n",
    "# Argumentname. Müssen als dict übergeben werden\n",
    "# So geht das nicht:\n",
    "# soup.find_all(media-large='font-size-xSmall')\n",
    "soup.find_all(attrs={'media-large': 'font-size-xSmall'})"
   ],
   "outputs": [
    {
     "data": {
      "text/plain": [
       "[<p class=\"Card-description font-size-xSmall\" media-large=\"font-size-xSmall\">Schon seit es Kriege gibt streben Helden aus allen Völkern danach, die Kunst der Schlacht zu beherrschen. Im Krieger vereinen sich Stärke, Führungsqualitäten und ein unermessliches Wissen über Waffen und Rüstungen, um in einer glorreichen Schlacht den Feind in den Untergang zu stürzen.</p>,\n",
       " <p class=\"Card-excerpt Card-excerpt--normal font-size-small\" media-large=\"font-size-xSmall\">Schon seit es Kriege gibt streben Helden aus allen Völkern danach, die Kunst der Schlacht zu beherrschen. Im Krieger vereinen sich Stärke, Führun...</p>,\n",
       " <p class=\"Card-excerpt Card-excerpt--medium font-size-small\" media-large=\"font-size-xSmall\">Schon seit es Kriege gibt streben Helden aus allen Völkern danach, die Kunst der Schlacht zu beherrschen. Im Krieger vereinen sich Stärke, Führungsqualitäten und ein unermessliches Wissen über Waffen und Rüstungen, um in einer glorreichen Schlac...</p>,\n",
       " <p class=\"Card-excerpt Card-excerpt--long font-size-small\" media-large=\"font-size-xSmall\">Schon seit es Kriege gibt streben Helden aus allen Völkern danach, die Kunst der Schlacht zu beherrschen. Im Krieger vereinen sich Stärke, Führungsqualitäten und ein unermessliches Wissen über Waffen und Rüstungen, um in einer glorreichen Schlacht den Feind in den Untergang zu stürzen.</p>,\n",
       " <p class=\"Card-description font-size-xSmall\" media-large=\"font-size-xSmall\">Schon seit ewigen Zeiten lockt der Ruf der Wildnis einige Abenteurer aus der Sicherheit ihres Heims hinaus in die gnadenlose, unberührte Welt. Diejenigen, die ihre Herausforderungen bestehen, werden zu Jägern.</p>,\n",
       " <p class=\"Card-excerpt Card-excerpt--normal font-size-small\" media-large=\"font-size-xSmall\">Schon seit ewigen Zeiten lockt der Ruf der Wildnis einige Abenteurer aus der Sicherheit ihres Heims hinaus in die gnadenlose, unberührte Welt. Di...</p>,\n",
       " <p class=\"Card-excerpt Card-excerpt--medium font-size-small\" media-large=\"font-size-xSmall\">Schon seit ewigen Zeiten lockt der Ruf der Wildnis einige Abenteurer aus der Sicherheit ihres Heims hinaus in die gnadenlose, unberührte Welt. Diejenigen, die ihre Herausforderungen bestehen, werden zu Jägern.</p>,\n",
       " <p class=\"Card-excerpt Card-excerpt--long font-size-small\" media-large=\"font-size-xSmall\">Schon seit ewigen Zeiten lockt der Ruf der Wildnis einige Abenteurer aus der Sicherheit ihres Heims hinaus in die gnadenlose, unberührte Welt. Diejenigen, die ihre Herausforderungen bestehen, werden zu Jägern.</p>,\n",
       " <p class=\"Card-description font-size-xSmall\" media-large=\"font-size-xSmall\">Priester haben sich ganz dem spirituellen Pfad gewidmet und zeigen ihren unerschütterlichen Glauben, indem sie anderen dienen. Vor Jahrtausenden verließen sie die Grenzen ihrer Tempel und die Zuflucht ihrer Schreine, um ihre Verbündeten in den von Kriegen zerrissenen Ländern zu unterstützen.</p>,\n",
       " <p class=\"Card-excerpt Card-excerpt--normal font-size-small\" media-large=\"font-size-xSmall\">Priester haben sich ganz dem spirituellen Pfad gewidmet und zeigen ihren unerschütterlichen Glauben, indem sie anderen dienen. Vor Jahrtausenden ...</p>,\n",
       " <p class=\"Card-excerpt Card-excerpt--medium font-size-small\" media-large=\"font-size-xSmall\">Priester haben sich ganz dem spirituellen Pfad gewidmet und zeigen ihren unerschütterlichen Glauben, indem sie anderen dienen. Vor Jahrtausenden verließen sie die Grenzen ihrer Tempel und die Zuflucht ihrer Schreine, um ihre Verbündeten in den v...</p>,\n",
       " <p class=\"Card-excerpt Card-excerpt--long font-size-small\" media-large=\"font-size-xSmall\">Priester haben sich ganz dem spirituellen Pfad gewidmet und zeigen ihren unerschütterlichen Glauben, indem sie anderen dienen. Vor Jahrtausenden verließen sie die Grenzen ihrer Tempel und die Zuflucht ihrer Schreine, um ihre Verbündeten in den von Kriegen zerrissenen Ländern zu unterstützen.</p>,\n",
       " <p class=\"Card-description font-size-xSmall\" media-large=\"font-size-xSmall\">Nur besonders talentierte Schüler mit einer unerschütterlichen Disziplin sind in der Lage, auf dem harten Pfad des Magiers zu bestehen. Die arkane Magie der Magier ist sowohl mächtig als auch gefährlich, weshalb sie nur hingebungsvollen Magiebegabten offenbart wird.</p>,\n",
       " <p class=\"Card-excerpt Card-excerpt--normal font-size-small\" media-large=\"font-size-xSmall\">Nur besonders talentierte Schüler mit einer unerschütterlichen Disziplin sind in der Lage, auf dem harten Pfad des Magiers zu bestehen. Die arkan...</p>,\n",
       " <p class=\"Card-excerpt Card-excerpt--medium font-size-small\" media-large=\"font-size-xSmall\">Nur besonders talentierte Schüler mit einer unerschütterlichen Disziplin sind in der Lage, auf dem harten Pfad des Magiers zu bestehen. Die arkane Magie der Magier ist sowohl mächtig als auch gefährlich, weshalb sie nur hingebungsvollen Magiebeg...</p>,\n",
       " <p class=\"Card-excerpt Card-excerpt--long font-size-small\" media-large=\"font-size-xSmall\">Nur besonders talentierte Schüler mit einer unerschütterlichen Disziplin sind in der Lage, auf dem harten Pfad des Magiers zu bestehen. Die arkane Magie der Magier ist sowohl mächtig als auch gefährlich, weshalb sie nur hingebungsvollen Magiebegabten offenbart wird.</p>,\n",
       " <p class=\"Card-description font-size-xSmall\" media-large=\"font-size-xSmall\">Raufbolde die mit bloßen Händen kämpfen haben diesen waffenlosen Stil im alten Pandaria entwickelt. Mönche die so verschieden sind, wie die Energie die sie umgibt. Sie können tödliche Angriffe durch den Dunst ihrer Gebräue schultern, den Chi-Fluß heilen und ihre Feinde mit Schlägen und Tritten so schnell wie der Wind eindecken.</p>,\n",
       " <p class=\"Card-excerpt Card-excerpt--normal font-size-small\" media-large=\"font-size-xSmall\">Raufbolde die mit bloßen Händen kämpfen haben diesen waffenlosen Stil im alten Pandaria entwickelt. Mönche die so verschieden sind, wie die Energ...</p>,\n",
       " <p class=\"Card-excerpt Card-excerpt--medium font-size-small\" media-large=\"font-size-xSmall\">Raufbolde die mit bloßen Händen kämpfen haben diesen waffenlosen Stil im alten Pandaria entwickelt. Mönche die so verschieden sind, wie die Energie die sie umgibt. Sie können tödliche Angriffe durch den Dunst ihrer Gebräue schultern, den Chi-Flu...</p>,\n",
       " <p class=\"Card-excerpt Card-excerpt--long font-size-small\" media-large=\"font-size-xSmall\">Raufbolde die mit bloßen Händen kämpfen haben diesen waffenlosen Stil im alten Pandaria entwickelt. Mönche die so verschieden sind, wie die Energie die sie umgibt. Sie können tödliche Angriffe durch den Dunst ihrer Gebräue schultern, den Chi-Fluß heilen und ihre Feinde mit Schlägen und Tritten so schnell wie der Wind eindecken.</p>,\n",
       " <p class=\"Card-description font-size-xSmall\" media-large=\"font-size-xSmall\">Dämonenjäger machen sich die verbotenen Mächte der Legion zueigen. Sie setzen Dämonen- und Chaosmagie ein, nehmen dämonische Formen an, besitzen Geistersicht und höllische Beweglichkeit, mit der sie selbst die gefährlichsten Gegner zur Strecke bringen können.</p>,\n",
       " <p class=\"Card-excerpt Card-excerpt--normal font-size-small\" media-large=\"font-size-xSmall\">Dämonenjäger machen sich die verbotenen Mächte der Legion zueigen. Sie setzen Dämonen- und Chaosmagie ein, nehmen dämonische Formen an, besitzen ...</p>,\n",
       " <p class=\"Card-excerpt Card-excerpt--medium font-size-small\" media-large=\"font-size-xSmall\">Dämonenjäger machen sich die verbotenen Mächte der Legion zueigen. Sie setzen Dämonen- und Chaosmagie ein, nehmen dämonische Formen an, besitzen Geistersicht und höllische Beweglichkeit, mit der sie selbst die gefährlichsten Gegner zur Strecke b...</p>,\n",
       " <p class=\"Card-excerpt Card-excerpt--long font-size-small\" media-large=\"font-size-xSmall\">Dämonenjäger machen sich die verbotenen Mächte der Legion zueigen. Sie setzen Dämonen- und Chaosmagie ein, nehmen dämonische Formen an, besitzen Geistersicht und höllische Beweglichkeit, mit der sie selbst die gefährlichsten Gegner zur Strecke bringen können.</p>,\n",
       " <p class=\"Card-description font-size-xSmall\" media-large=\"font-size-xSmall\">Die Rufer der Dracthyr wurden geschaffen, um die Magien aller fünf Drachenschwärme zu verwenden. Jetzt machen sie sich auf, um sich in Azeroth ihren eigenen Weg zu bahnen.</p>,\n",
       " <p class=\"Card-excerpt Card-excerpt--normal font-size-small\" media-large=\"font-size-xSmall\">Die Rufer der Dracthyr wurden geschaffen, um die Magien aller fünf Drachenschwärme zu verwenden. Jetzt machen sie sich auf, um sich in Azeroth ih...</p>,\n",
       " <p class=\"Card-excerpt Card-excerpt--medium font-size-small\" media-large=\"font-size-xSmall\">Die Rufer der Dracthyr wurden geschaffen, um die Magien aller fünf Drachenschwärme zu verwenden. Jetzt machen sie sich auf, um sich in Azeroth ihren eigenen Weg zu bahnen.</p>,\n",
       " <p class=\"Card-excerpt Card-excerpt--long font-size-small\" media-large=\"font-size-xSmall\">Die Rufer der Dracthyr wurden geschaffen, um die Magien aller fünf Drachenschwärme zu verwenden. Jetzt machen sie sich auf, um sich in Azeroth ihren eigenen Weg zu bahnen.</p>,\n",
       " <p class=\"Card-description font-size-xSmall\" media-large=\"font-size-xSmall\">Die Berufung des Paladins besteht darin, die Schwachen zu beschützen, den Ungerechten ihre gerechte Strafe zuteil werden zu lassen und das Böse aus den düstersten Ecken der Welt zu verbannen.</p>,\n",
       " <p class=\"Card-excerpt Card-excerpt--normal font-size-small\" media-large=\"font-size-xSmall\">Die Berufung des Paladins besteht darin, die Schwachen zu beschützen, den Ungerechten ihre gerechte Strafe zuteil werden zu lassen und das Böse a...</p>,\n",
       " <p class=\"Card-excerpt Card-excerpt--medium font-size-small\" media-large=\"font-size-xSmall\">Die Berufung des Paladins besteht darin, die Schwachen zu beschützen, den Ungerechten ihre gerechte Strafe zuteil werden zu lassen und das Böse aus den düstersten Ecken der Welt zu verbannen.</p>,\n",
       " <p class=\"Card-excerpt Card-excerpt--long font-size-small\" media-large=\"font-size-xSmall\">Die Berufung des Paladins besteht darin, die Schwachen zu beschützen, den Ungerechten ihre gerechte Strafe zuteil werden zu lassen und das Böse aus den düstersten Ecken der Welt zu verbannen.</p>,\n",
       " <p class=\"Card-description font-size-xSmall\" media-large=\"font-size-xSmall\">Schurken kennen nur einen Kodex, nämlich den Vertrag. Ihre Ehre lässt sich mit Gold kaufen. Frei von den hinderlichen Schranken eines Gewissens verlassen diese Söldner sich auf brutale und effiziente Taktiken.</p>,\n",
       " <p class=\"Card-excerpt Card-excerpt--normal font-size-small\" media-large=\"font-size-xSmall\">Schurken kennen nur einen Kodex, nämlich den Vertrag. Ihre Ehre lässt sich mit Gold kaufen. Frei von den hinderlichen Schranken eines Gewissens v...</p>,\n",
       " <p class=\"Card-excerpt Card-excerpt--medium font-size-small\" media-large=\"font-size-xSmall\">Schurken kennen nur einen Kodex, nämlich den Vertrag. Ihre Ehre lässt sich mit Gold kaufen. Frei von den hinderlichen Schranken eines Gewissens verlassen diese Söldner sich auf brutale und effiziente Taktiken.</p>,\n",
       " <p class=\"Card-excerpt Card-excerpt--long font-size-small\" media-large=\"font-size-xSmall\">Schurken kennen nur einen Kodex, nämlich den Vertrag. Ihre Ehre lässt sich mit Gold kaufen. Frei von den hinderlichen Schranken eines Gewissens verlassen diese Söldner sich auf brutale und effiziente Taktiken.</p>,\n",
       " <p class=\"Card-description font-size-xSmall\" media-large=\"font-size-xSmall\">Schamanen haben sich der spirituellen Führung und Kunst verschrieben, jedoch nicht des Göttlichen, sondern der Elemente selbst. Als Vermittler der vier Elemente ruft der Schamane Totems herbei und befieht ihnen, die Verbündeten des Schamanen zu unterstützen oder seine Feinde zu bestrafen.</p>,\n",
       " <p class=\"Card-excerpt Card-excerpt--normal font-size-small\" media-large=\"font-size-xSmall\">Schamanen haben sich der spirituellen Führung und Kunst verschrieben, jedoch nicht des Göttlichen, sondern der Elemente selbst. Als Vermittler de...</p>,\n",
       " <p class=\"Card-excerpt Card-excerpt--medium font-size-small\" media-large=\"font-size-xSmall\">Schamanen haben sich der spirituellen Führung und Kunst verschrieben, jedoch nicht des Göttlichen, sondern der Elemente selbst. Als Vermittler der vier Elemente ruft der Schamane Totems herbei und befieht ihnen, die Verbündeten des Schamanen zu ...</p>,\n",
       " <p class=\"Card-excerpt Card-excerpt--long font-size-small\" media-large=\"font-size-xSmall\">Schamanen haben sich der spirituellen Führung und Kunst verschrieben, jedoch nicht des Göttlichen, sondern der Elemente selbst. Als Vermittler der vier Elemente ruft der Schamane Totems herbei und befieht ihnen, die Verbündeten des Schamanen zu unterstützen oder seine Feinde zu bestrafen.</p>,\n",
       " <p class=\"Card-description font-size-xSmall\" media-large=\"font-size-xSmall\">Im Angesicht einer dämonischen Macht finden die meisten Helden den Tod. Hexenmeister jedoch sehen dies als günstige Gelegenheit. Ihr Ziel ist die Beherrschung, und in den dunklen Künsten haben sie einen Weg dorthin gefunden.</p>,\n",
       " <p class=\"Card-excerpt Card-excerpt--normal font-size-small\" media-large=\"font-size-xSmall\">Im Angesicht einer dämonischen Macht finden die meisten Helden den Tod. Hexenmeister jedoch sehen dies als günstige Gelegenheit. Ihr Ziel ist die...</p>,\n",
       " <p class=\"Card-excerpt Card-excerpt--medium font-size-small\" media-large=\"font-size-xSmall\">Im Angesicht einer dämonischen Macht finden die meisten Helden den Tod. Hexenmeister jedoch sehen dies als günstige Gelegenheit. Ihr Ziel ist die Beherrschung, und in den dunklen Künsten haben sie einen Weg dorthin gefunden.</p>,\n",
       " <p class=\"Card-excerpt Card-excerpt--long font-size-small\" media-large=\"font-size-xSmall\">Im Angesicht einer dämonischen Macht finden die meisten Helden den Tod. Hexenmeister jedoch sehen dies als günstige Gelegenheit. Ihr Ziel ist die Beherrschung, und in den dunklen Künsten haben sie einen Weg dorthin gefunden.</p>,\n",
       " <p class=\"Card-description font-size-xSmall\" media-large=\"font-size-xSmall\">Druiden nutzen die endlosen Mächte der Natur, um Gleichgewicht zu schaffen und das Leben zu beschützen. Als Meister der Gestaltwandelkunst können sie die Form eines Bären, einer Katze, einer Sturmkrähe oder eines Seelöwen annehmen.</p>,\n",
       " <p class=\"Card-excerpt Card-excerpt--normal font-size-small\" media-large=\"font-size-xSmall\">Druiden nutzen die endlosen Mächte der Natur, um Gleichgewicht zu schaffen und das Leben zu beschützen. Als Meister der Gestaltwandelkunst können...</p>,\n",
       " <p class=\"Card-excerpt Card-excerpt--medium font-size-small\" media-large=\"font-size-xSmall\">Druiden nutzen die endlosen Mächte der Natur, um Gleichgewicht zu schaffen und das Leben zu beschützen. Als Meister der Gestaltwandelkunst können sie die Form eines Bären, einer Katze, einer Sturmkrähe oder eines Seelöwen annehmen.</p>,\n",
       " <p class=\"Card-excerpt Card-excerpt--long font-size-small\" media-large=\"font-size-xSmall\">Druiden nutzen die endlosen Mächte der Natur, um Gleichgewicht zu schaffen und das Leben zu beschützen. Als Meister der Gestaltwandelkunst können sie die Form eines Bären, einer Katze, einer Sturmkrähe oder eines Seelöwen annehmen.</p>,\n",
       " <p class=\"Card-description font-size-xSmall\" media-large=\"font-size-xSmall\">Als die Kontrolle des Lichkönigs über seine Todesritter gebrochen war, fanden seine einstigen Champions eine neue Bestimmung als Ritter der Schwarzen Klinge. Nachdem Bolvar Fordragon den Helm aufgesetzt hatte, um die untote Geißel unter Kontrolle zu halten, rief er eine neue Generation Todesritter als Unterstützung für die Schwarze Klinge ins Leben.</p>,\n",
       " <p class=\"Card-excerpt Card-excerpt--normal font-size-small\" media-large=\"font-size-xSmall\">Als die Kontrolle des Lichkönigs über seine Todesritter gebrochen war, fanden seine einstigen Champions eine neue Bestimmung als Ritter der Schwa...</p>,\n",
       " <p class=\"Card-excerpt Card-excerpt--medium font-size-small\" media-large=\"font-size-xSmall\">Als die Kontrolle des Lichkönigs über seine Todesritter gebrochen war, fanden seine einstigen Champions eine neue Bestimmung als Ritter der Schwarzen Klinge. Nachdem Bolvar Fordragon den Helm aufgesetzt hatte, um die untote Geißel unter Kontroll...</p>,\n",
       " <p class=\"Card-excerpt Card-excerpt--long font-size-small\" media-large=\"font-size-xSmall\">Als die Kontrolle des Lichkönigs über seine Todesritter gebrochen war, fanden seine einstigen Champions eine neue Bestimmung als Ritter der Schwarzen Klinge. Nachdem Bolvar Fordragon den Helm aufgesetzt hatte, um die untote Geißel unter Kontrolle zu halten, rief er eine neue Generation Todesritter als Unterstützung für die Schwarze Klinge ins ...</p>]"
      ]
     },
     "execution_count": 13,
     "metadata": {},
     "output_type": "execute_result"
    }
   ],
   "execution_count": 13
  },
  {
   "metadata": {
    "ExecuteTime": {
     "end_time": "2025-01-27T08:14:20.647939Z",
     "start_time": "2025-01-27T08:14:20.619175Z"
    }
   },
   "cell_type": "code",
   "source": [
    "# Und wie sieht es mit dem hier aus?\n",
    "soup.find(class_='Photoswipe--lightbox').attrs"
   ],
   "outputs": [
    {
     "data": {
      "text/plain": [
       "{'class': ['Photoswipe', 'pswp', 'Photoswipe--lightbox', 'Photoswipe--wow'],\n",
       " 'name': 'lightbox',\n",
       " 'tabindex': '-1',\n",
       " 'role': 'dialog',\n",
       " 'aria-hidden': 'true'}"
      ]
     },
     "execution_count": 14,
     "metadata": {},
     "output_type": "execute_result"
    }
   ],
   "execution_count": 14
  },
  {
   "metadata": {
    "ExecuteTime": {
     "end_time": "2025-01-27T08:16:19.517954Z",
     "start_time": "2025-01-27T08:16:19.502575Z"
    }
   },
   "cell_type": "code",
   "source": "soup.find(class_='Photoswipe--lightbox')",
   "outputs": [
    {
     "data": {
      "text/plain": [
       "<div aria-hidden=\"true\" class=\"Photoswipe pswp Photoswipe--lightbox Photoswipe--wow\" name=\"lightbox\" role=\"dialog\" tabindex=\"-1\"><div class=\"pswp__bg\"></div><div class=\"pswp__scroll-wrap\"><div class=\"pswp__container\"><div class=\"pswp__item\"></div><div class=\"pswp__item\"></div><div class=\"pswp__item\"></div></div><div class=\"pswp__ui pswp__ui--hidden\"><div class=\"pswp__top-bar Photoswipe-top\"><div class=\"pswp__counter\"></div><button class=\"pswp__button pswp__button--close\" title=\"Schließen (Esc)\"></button><button class=\"pswp__button pswp__button--share\" title=\"Teilen\"></button><button class=\"pswp__button pswp__button--fs\" title=\"Vollbild ein/aus\"></button><button class=\"pswp__button pswp__button--zoom\" title=\"Hereinzoomen/Herauszoomen\"></button><div class=\"pswp__preloader\"><div class=\"pswp__preloader__icn\"><div class=\"pswp__preloader__cut\"><div class=\"pswp__preloader__donut\"></div></div></div></div></div><div class=\"pswp__share-modal pswp__share-modal--hidden pswp__single-tap\"><div class=\"pswp__share-tooltip\"></div></div><div class=\"pswp__caption\"><div class=\"pswp__caption__center\"></div></div><button class=\"pswp__button pswp__button--arrow--left\" title=\"Vorheriges (Rechtspfeil)\"></button><button class=\"pswp__button pswp__button--arrow--right\" title=\"Nächstes (Linkspfeil)\"></button><div class=\"Photoswipe-prev\" title=\"Vorheriges (Rechtspfeil)\"><span class=\"Icon Icon--prev\"></span></div><div class=\"Photoswipe-next\" title=\"Nächstes (Linkspfeil)\"><span class=\"Icon Icon--next\"></span></div></div></div></div>"
      ]
     },
     "execution_count": 16,
     "metadata": {},
     "output_type": "execute_result"
    }
   ],
   "execution_count": 16
  },
  {
   "cell_type": "code",
   "source": [
    "# Hier wäre nicht nur 'aria-hidden' problematisch, sondern auch 'name', weil das bereits\n",
    "# für den Parameter Tagname vergeben ist!\n",
    "# So funktioniert das nicht:\n",
    "# soup.find_all(name='lightbox')\n",
    "# Stattdessen:\n",
    "soup_deluxe = soup.find_all(\n",
    "    name='div',\n",
    "    class_='Photoswipe--lightbox',\n",
    "    attrs={'name': 'lightbox'},\n",
    ")\n",
    "\n",
    "soup_deluxe"
   ],
   "metadata": {
    "collapsed": false,
    "ExecuteTime": {
     "end_time": "2025-01-27T08:18:22.452633Z",
     "start_time": "2025-01-27T08:18:22.431860Z"
    }
   },
   "outputs": [
    {
     "data": {
      "text/plain": [
       "[<div aria-hidden=\"true\" class=\"Photoswipe pswp Photoswipe--lightbox Photoswipe--wow\" name=\"lightbox\" role=\"dialog\" tabindex=\"-1\"><div class=\"pswp__bg\"></div><div class=\"pswp__scroll-wrap\"><div class=\"pswp__container\"><div class=\"pswp__item\"></div><div class=\"pswp__item\"></div><div class=\"pswp__item\"></div></div><div class=\"pswp__ui pswp__ui--hidden\"><div class=\"pswp__top-bar Photoswipe-top\"><div class=\"pswp__counter\"></div><button class=\"pswp__button pswp__button--close\" title=\"Schließen (Esc)\"></button><button class=\"pswp__button pswp__button--share\" title=\"Teilen\"></button><button class=\"pswp__button pswp__button--fs\" title=\"Vollbild ein/aus\"></button><button class=\"pswp__button pswp__button--zoom\" title=\"Hereinzoomen/Herauszoomen\"></button><div class=\"pswp__preloader\"><div class=\"pswp__preloader__icn\"><div class=\"pswp__preloader__cut\"><div class=\"pswp__preloader__donut\"></div></div></div></div></div><div class=\"pswp__share-modal pswp__share-modal--hidden pswp__single-tap\"><div class=\"pswp__share-tooltip\"></div></div><div class=\"pswp__caption\"><div class=\"pswp__caption__center\"></div></div><button class=\"pswp__button pswp__button--arrow--left\" title=\"Vorheriges (Rechtspfeil)\"></button><button class=\"pswp__button pswp__button--arrow--right\" title=\"Nächstes (Linkspfeil)\"></button><div class=\"Photoswipe-prev\" title=\"Vorheriges (Rechtspfeil)\"><span class=\"Icon Icon--prev\"></span></div><div class=\"Photoswipe-next\" title=\"Nächstes (Linkspfeil)\"><span class=\"Icon Icon--next\"></span></div></div></div></div>]"
      ]
     },
     "execution_count": 17,
     "metadata": {},
     "output_type": "execute_result"
    }
   ],
   "execution_count": 17
  },
  {
   "metadata": {
    "ExecuteTime": {
     "end_time": "2025-01-27T08:18:38.529293Z",
     "start_time": "2025-01-27T08:18:38.521178Z"
    }
   },
   "cell_type": "code",
   "source": "len(soup_deluxe)",
   "outputs": [
    {
     "data": {
      "text/plain": [
       "1"
      ]
     },
     "execution_count": 18,
     "metadata": {},
     "output_type": "execute_result"
    }
   ],
   "execution_count": 18
  },
  {
   "cell_type": "code",
   "metadata": {
    "ExecuteTime": {
     "end_time": "2025-01-27T08:20:09.700336Z",
     "start_time": "2025-01-27T08:20:09.689586Z"
    }
   },
   "source": [
    "# 3. Nicht alles nutzbar\n",
    "# Manche Attribute werden uns auf der Website zwar\n",
    "# angezeigt, befinden sich aber gar nicht im \n",
    "# soup Objekt! \n",
    "soup.find('blz-nav').attrs"
   ],
   "outputs": [
    {
     "data": {
      "text/plain": [
       "{'class': ['SiteNav'],\n",
       " 'hidden': 'hidden',\n",
       " 'user-endpoint': '/de-de/navbar/authenticate',\n",
       " 'content': 'wow-site',\n",
       " 'search-url': '/de-de/search?q={value}'}"
      ]
     },
     "execution_count": 20,
     "metadata": {},
     "output_type": "execute_result"
    }
   ],
   "execution_count": 20
  },
  {
   "metadata": {
    "ExecuteTime": {
     "end_time": "2025-01-27T08:21:09.298089Z",
     "start_time": "2025-01-27T08:21:09.292459Z"
    }
   },
   "cell_type": "code",
   "source": "soup.find('blz-nav').has_attr('queryselectoralways')",
   "outputs": [
    {
     "data": {
      "text/plain": [
       "False"
      ]
     },
     "execution_count": 21,
     "metadata": {},
     "output_type": "execute_result"
    }
   ],
   "execution_count": 21
  },
  {
   "cell_type": "code",
   "metadata": {
    "ExecuteTime": {
     "end_time": "2025-01-27T08:21:51.424923Z",
     "start_time": "2025-01-27T08:21:51.412834Z"
    }
   },
   "source": [
    "# .attrs gibt dict zurück\n",
    "# --> Infos einzelner Attribute abrufbar\n",
    "type(soup.find('blz-nav').attrs)"
   ],
   "outputs": [
    {
     "data": {
      "text/plain": [
       "dict"
      ]
     },
     "execution_count": 22,
     "metadata": {},
     "output_type": "execute_result"
    }
   ],
   "execution_count": 22
  },
  {
   "metadata": {
    "ExecuteTime": {
     "end_time": "2025-01-27T08:22:13.120632Z",
     "start_time": "2025-01-27T08:22:13.115831Z"
    }
   },
   "cell_type": "code",
   "source": [
    "attributes = soup.find('blz-nav').attrs\n",
    "attributes"
   ],
   "outputs": [
    {
     "data": {
      "text/plain": [
       "{'class': ['SiteNav'],\n",
       " 'hidden': 'hidden',\n",
       " 'user-endpoint': '/de-de/navbar/authenticate',\n",
       " 'content': 'wow-site',\n",
       " 'search-url': '/de-de/search?q={value}'}"
      ]
     },
     "execution_count": 24,
     "metadata": {},
     "output_type": "execute_result"
    }
   ],
   "execution_count": 24
  },
  {
   "metadata": {
    "ExecuteTime": {
     "end_time": "2025-01-27T08:22:28.876915Z",
     "start_time": "2025-01-27T08:22:28.870621Z"
    }
   },
   "cell_type": "code",
   "source": "attributes['search-url']",
   "outputs": [
    {
     "data": {
      "text/plain": [
       "'/de-de/search?q={value}'"
      ]
     },
     "execution_count": 26,
     "metadata": {},
     "output_type": "execute_result"
    }
   ],
   "execution_count": 26
  },
  {
   "cell_type": "code",
   "metadata": {
    "ExecuteTime": {
     "end_time": "2025-01-27T08:24:58.061317Z",
     "start_time": "2025-01-27T08:24:58.043664Z"
    }
   },
   "source": [
    "# Extraktion mehrerer Klassen auf einmal:\n",
    "soup.find_all(class_=['Card-title', 'Card-subtitle', 'Card-excerpt--normal'])"
   ],
   "outputs": [
    {
     "data": {
      "text/plain": [
       "[<div class=\"Card-title\">Krieger</div>,\n",
       " <div class=\"Card-subtitle\">Tank, Schaden</div>,\n",
       " <p class=\"Card-excerpt Card-excerpt--normal font-size-small\" media-large=\"font-size-xSmall\">Schon seit es Kriege gibt streben Helden aus allen Völkern danach, die Kunst der Schlacht zu beherrschen. Im Krieger vereinen sich Stärke, Führun...</p>,\n",
       " <div class=\"Card-title\">Jäger</div>,\n",
       " <div class=\"Card-subtitle\">Schaden</div>,\n",
       " <p class=\"Card-excerpt Card-excerpt--normal font-size-small\" media-large=\"font-size-xSmall\">Schon seit ewigen Zeiten lockt der Ruf der Wildnis einige Abenteurer aus der Sicherheit ihres Heims hinaus in die gnadenlose, unberührte Welt. Di...</p>,\n",
       " <div class=\"Card-title\">Priester</div>,\n",
       " <div class=\"Card-subtitle\">Heiler, Schaden</div>,\n",
       " <p class=\"Card-excerpt Card-excerpt--normal font-size-small\" media-large=\"font-size-xSmall\">Priester haben sich ganz dem spirituellen Pfad gewidmet und zeigen ihren unerschütterlichen Glauben, indem sie anderen dienen. Vor Jahrtausenden ...</p>,\n",
       " <div class=\"Card-title\">Magier</div>,\n",
       " <div class=\"Card-subtitle\">Schaden</div>,\n",
       " <p class=\"Card-excerpt Card-excerpt--normal font-size-small\" media-large=\"font-size-xSmall\">Nur besonders talentierte Schüler mit einer unerschütterlichen Disziplin sind in der Lage, auf dem harten Pfad des Magiers zu bestehen. Die arkan...</p>,\n",
       " <div class=\"Card-title\">Mönch</div>,\n",
       " <div class=\"Card-subtitle\">Tank, Heiler, Schaden</div>,\n",
       " <p class=\"Card-excerpt Card-excerpt--normal font-size-small\" media-large=\"font-size-xSmall\">Raufbolde die mit bloßen Händen kämpfen haben diesen waffenlosen Stil im alten Pandaria entwickelt. Mönche die so verschieden sind, wie die Energ...</p>,\n",
       " <div class=\"Card-title\">Dämonenjäger</div>,\n",
       " <div class=\"Card-subtitle\">Tank, Schaden</div>,\n",
       " <p class=\"Card-excerpt Card-excerpt--normal font-size-small\" media-large=\"font-size-xSmall\">Dämonenjäger machen sich die verbotenen Mächte der Legion zueigen. Sie setzen Dämonen- und Chaosmagie ein, nehmen dämonische Formen an, besitzen ...</p>,\n",
       " <div class=\"Card-title\">Rufer</div>,\n",
       " <div class=\"Card-subtitle\">Heiler, Schaden</div>,\n",
       " <p class=\"Card-excerpt Card-excerpt--normal font-size-small\" media-large=\"font-size-xSmall\">Die Rufer der Dracthyr wurden geschaffen, um die Magien aller fünf Drachenschwärme zu verwenden. Jetzt machen sie sich auf, um sich in Azeroth ih...</p>,\n",
       " <div class=\"Card-title\">Paladin</div>,\n",
       " <div class=\"Card-subtitle\">Tank, Heiler, Schaden</div>,\n",
       " <p class=\"Card-excerpt Card-excerpt--normal font-size-small\" media-large=\"font-size-xSmall\">Die Berufung des Paladins besteht darin, die Schwachen zu beschützen, den Ungerechten ihre gerechte Strafe zuteil werden zu lassen und das Böse a...</p>,\n",
       " <div class=\"Card-title\">Schurke</div>,\n",
       " <div class=\"Card-subtitle\">Schaden</div>,\n",
       " <p class=\"Card-excerpt Card-excerpt--normal font-size-small\" media-large=\"font-size-xSmall\">Schurken kennen nur einen Kodex, nämlich den Vertrag. Ihre Ehre lässt sich mit Gold kaufen. Frei von den hinderlichen Schranken eines Gewissens v...</p>,\n",
       " <div class=\"Card-title\">Schamane</div>,\n",
       " <div class=\"Card-subtitle\">Heiler, Schaden</div>,\n",
       " <p class=\"Card-excerpt Card-excerpt--normal font-size-small\" media-large=\"font-size-xSmall\">Schamanen haben sich der spirituellen Führung und Kunst verschrieben, jedoch nicht des Göttlichen, sondern der Elemente selbst. Als Vermittler de...</p>,\n",
       " <div class=\"Card-title\">Hexenmeister</div>,\n",
       " <div class=\"Card-subtitle\">Schaden</div>,\n",
       " <p class=\"Card-excerpt Card-excerpt--normal font-size-small\" media-large=\"font-size-xSmall\">Im Angesicht einer dämonischen Macht finden die meisten Helden den Tod. Hexenmeister jedoch sehen dies als günstige Gelegenheit. Ihr Ziel ist die...</p>,\n",
       " <div class=\"Card-title\">Druide</div>,\n",
       " <div class=\"Card-subtitle\">Tank, Heiler, Schaden</div>,\n",
       " <p class=\"Card-excerpt Card-excerpt--normal font-size-small\" media-large=\"font-size-xSmall\">Druiden nutzen die endlosen Mächte der Natur, um Gleichgewicht zu schaffen und das Leben zu beschützen. Als Meister der Gestaltwandelkunst können...</p>,\n",
       " <div class=\"Card-title\">Todesritter</div>,\n",
       " <div class=\"Card-subtitle\">Tank, Schaden</div>,\n",
       " <p class=\"Card-excerpt Card-excerpt--normal font-size-small\" media-large=\"font-size-xSmall\">Als die Kontrolle des Lichkönigs über seine Todesritter gebrochen war, fanden seine einstigen Champions eine neue Bestimmung als Ritter der Schwa...</p>]"
      ]
     },
     "execution_count": 27,
     "metadata": {},
     "output_type": "execute_result"
    }
   ],
   "execution_count": 27
  },
  {
   "cell_type": "markdown",
   "metadata": {},
   "source": [
    "## Weitere Funktionen von Beautiful Soup\n",
    "\n",
    "* In Kinder- oder Elternelemente navigieren\n",
    "* Nach Textinhalt suchen\n",
    "* Bestimmte Strukturen suchen (z.b. ein `<td>` innerhalb eines `<tr>`)"
   ]
  },
  {
   "cell_type": "markdown",
   "metadata": {},
   "source": [
    "Suche nach Textinhalten"
   ]
  },
  {
   "cell_type": "code",
   "metadata": {
    "ExecuteTime": {
     "end_time": "2025-01-27T08:26:52.822908Z",
     "start_time": "2025-01-27T08:26:52.811352Z"
    }
   },
   "source": [
    "# Filtern mit str\n",
    "# Holt Tag samt eingeschlossenen angegebenen Text heraus:\n",
    "soup.find_all('div', string='Schurke')"
   ],
   "outputs": [
    {
     "data": {
      "text/plain": [
       "[<div class=\"Card-title\">Schurke</div>]"
      ]
     },
     "execution_count": 28,
     "metadata": {},
     "output_type": "execute_result"
    }
   ],
   "execution_count": 28
  },
  {
   "cell_type": "code",
   "metadata": {
    "ExecuteTime": {
     "end_time": "2025-01-27T08:28:02.859165Z",
     "start_time": "2025-01-27T08:28:02.840356Z"
    }
   },
   "source": [
    "# Filtern mit str\n",
    "# Funktioniert nicht als Teilstring\n",
    "soup.find_all('div', string='Tank')  # 'Tank' == 'Tank, Schaden'"
   ],
   "outputs": [
    {
     "data": {
      "text/plain": [
       "[]"
      ]
     },
     "execution_count": 29,
     "metadata": {},
     "output_type": "execute_result"
    }
   ],
   "execution_count": 29
  },
  {
   "cell_type": "code",
   "metadata": {
    "ExecuteTime": {
     "end_time": "2025-01-27T08:31:22.733122Z",
     "start_time": "2025-01-27T08:31:22.724741Z"
    }
   },
   "source": [
    "# Regex als Suchparameter\n",
    "# Pattern kann nicht direkt eingesetzt\n",
    "# werden; Muss \"kompiliert\" werden.\n",
    "soup.find_all('div', string=re.compile(r'Tank'))"
   ],
   "outputs": [
    {
     "data": {
      "text/plain": [
       "[<div class=\"Card-subtitle\">Tank, Schaden</div>,\n",
       " <div class=\"Card-subtitle\">Tank, Heiler, Schaden</div>,\n",
       " <div class=\"Card-subtitle\">Tank, Schaden</div>,\n",
       " <div class=\"Card-subtitle\">Tank, Heiler, Schaden</div>,\n",
       " <div class=\"Card-subtitle\">Tank, Heiler, Schaden</div>,\n",
       " <div class=\"Card-subtitle\">Tank, Schaden</div>]"
      ]
     },
     "execution_count": 30,
     "metadata": {},
     "output_type": "execute_result"
    }
   ],
   "execution_count": 30
  },
  {
   "cell_type": "code",
   "source": [
    "# Mini-Exkurs:\n",
    "# re.compile erzeugt ein Regex-Objekt, das über verschiedene Methoden verfügt, die man \n",
    "# daran aufrufen kann\n",
    "todes_regex = re.compile(r'\\w*t[oö][dt]\\w*', re.I)  # tot, Tod, töten, tödlich, abtöten"
   ],
   "metadata": {
    "collapsed": false,
    "ExecuteTime": {
     "end_time": "2025-01-27T08:39:38.688478Z",
     "start_time": "2025-01-27T08:39:38.682976Z"
    }
   },
   "outputs": [],
   "execution_count": 44
  },
  {
   "cell_type": "code",
   "source": "satz = 'Dass Urlaub töten kann... Ein tödlicher Unfall war das. Alle Passagiere fanden den Tod. Auch der Fahrer war tot. Ganz schön nervtötend.'",
   "metadata": {
    "collapsed": false,
    "ExecuteTime": {
     "end_time": "2025-01-27T08:39:39.487296Z",
     "start_time": "2025-01-27T08:39:39.483787Z"
    }
   },
   "outputs": [],
   "execution_count": 45
  },
  {
   "cell_type": "code",
   "source": "todes_regex.findall(satz)",
   "metadata": {
    "collapsed": false,
    "ExecuteTime": {
     "end_time": "2025-01-27T08:39:40.472794Z",
     "start_time": "2025-01-27T08:39:40.464362Z"
    }
   },
   "outputs": [
    {
     "data": {
      "text/plain": [
       "['töten', 'tödlicher', 'Tod', 'tot', 'nervtötend']"
      ]
     },
     "execution_count": 46,
     "metadata": {},
     "output_type": "execute_result"
    }
   ],
   "execution_count": 46
  },
  {
   "cell_type": "code",
   "source": "# Das heißt, find_all greift auf das kompilierte Regex-Objekt zu und ruft dann selber die entsprechende Methode auf.",
   "metadata": {
    "collapsed": false
   },
   "outputs": [],
   "execution_count": null
  },
  {
   "cell_type": "code",
   "source": [
    "# Wie viele Paragraphen enthalten auf unserer Seite denn so etwas wie töten oder Tod?"
   ],
   "metadata": {
    "collapsed": false
   },
   "outputs": [],
   "execution_count": null
  },
  {
   "cell_type": "code",
   "source": [
    "todesparagraphen = soup.find_all('p', string=todes_regex)\n",
    "todesparagraphen"
   ],
   "metadata": {
    "collapsed": false,
    "ExecuteTime": {
     "end_time": "2025-01-27T08:42:06.810726Z",
     "start_time": "2025-01-27T08:42:06.788320Z"
    }
   },
   "outputs": [
    {
     "data": {
      "text/plain": [
       "[<p class=\"Card-description font-size-xSmall\" media-large=\"font-size-xSmall\">Raufbolde die mit bloßen Händen kämpfen haben diesen waffenlosen Stil im alten Pandaria entwickelt. Mönche die so verschieden sind, wie die Energie die sie umgibt. Sie können tödliche Angriffe durch den Dunst ihrer Gebräue schultern, den Chi-Fluß heilen und ihre Feinde mit Schlägen und Tritten so schnell wie der Wind eindecken.</p>,\n",
       " <p class=\"Card-excerpt Card-excerpt--medium font-size-small\" media-large=\"font-size-xSmall\">Raufbolde die mit bloßen Händen kämpfen haben diesen waffenlosen Stil im alten Pandaria entwickelt. Mönche die so verschieden sind, wie die Energie die sie umgibt. Sie können tödliche Angriffe durch den Dunst ihrer Gebräue schultern, den Chi-Flu...</p>,\n",
       " <p class=\"Card-excerpt Card-excerpt--long font-size-small\" media-large=\"font-size-xSmall\">Raufbolde die mit bloßen Händen kämpfen haben diesen waffenlosen Stil im alten Pandaria entwickelt. Mönche die so verschieden sind, wie die Energie die sie umgibt. Sie können tödliche Angriffe durch den Dunst ihrer Gebräue schultern, den Chi-Fluß heilen und ihre Feinde mit Schlägen und Tritten so schnell wie der Wind eindecken.</p>,\n",
       " <p class=\"Card-description font-size-xSmall\" media-large=\"font-size-xSmall\">Schamanen haben sich der spirituellen Führung und Kunst verschrieben, jedoch nicht des Göttlichen, sondern der Elemente selbst. Als Vermittler der vier Elemente ruft der Schamane Totems herbei und befieht ihnen, die Verbündeten des Schamanen zu unterstützen oder seine Feinde zu bestrafen.</p>,\n",
       " <p class=\"Card-excerpt Card-excerpt--medium font-size-small\" media-large=\"font-size-xSmall\">Schamanen haben sich der spirituellen Führung und Kunst verschrieben, jedoch nicht des Göttlichen, sondern der Elemente selbst. Als Vermittler der vier Elemente ruft der Schamane Totems herbei und befieht ihnen, die Verbündeten des Schamanen zu ...</p>,\n",
       " <p class=\"Card-excerpt Card-excerpt--long font-size-small\" media-large=\"font-size-xSmall\">Schamanen haben sich der spirituellen Führung und Kunst verschrieben, jedoch nicht des Göttlichen, sondern der Elemente selbst. Als Vermittler der vier Elemente ruft der Schamane Totems herbei und befieht ihnen, die Verbündeten des Schamanen zu unterstützen oder seine Feinde zu bestrafen.</p>,\n",
       " <p class=\"Card-description font-size-xSmall\" media-large=\"font-size-xSmall\">Im Angesicht einer dämonischen Macht finden die meisten Helden den Tod. Hexenmeister jedoch sehen dies als günstige Gelegenheit. Ihr Ziel ist die Beherrschung, und in den dunklen Künsten haben sie einen Weg dorthin gefunden.</p>,\n",
       " <p class=\"Card-excerpt Card-excerpt--normal font-size-small\" media-large=\"font-size-xSmall\">Im Angesicht einer dämonischen Macht finden die meisten Helden den Tod. Hexenmeister jedoch sehen dies als günstige Gelegenheit. Ihr Ziel ist die...</p>,\n",
       " <p class=\"Card-excerpt Card-excerpt--medium font-size-small\" media-large=\"font-size-xSmall\">Im Angesicht einer dämonischen Macht finden die meisten Helden den Tod. Hexenmeister jedoch sehen dies als günstige Gelegenheit. Ihr Ziel ist die Beherrschung, und in den dunklen Künsten haben sie einen Weg dorthin gefunden.</p>,\n",
       " <p class=\"Card-excerpt Card-excerpt--long font-size-small\" media-large=\"font-size-xSmall\">Im Angesicht einer dämonischen Macht finden die meisten Helden den Tod. Hexenmeister jedoch sehen dies als günstige Gelegenheit. Ihr Ziel ist die Beherrschung, und in den dunklen Künsten haben sie einen Weg dorthin gefunden.</p>,\n",
       " <p class=\"Card-description font-size-xSmall\" media-large=\"font-size-xSmall\">Als die Kontrolle des Lichkönigs über seine Todesritter gebrochen war, fanden seine einstigen Champions eine neue Bestimmung als Ritter der Schwarzen Klinge. Nachdem Bolvar Fordragon den Helm aufgesetzt hatte, um die untote Geißel unter Kontrolle zu halten, rief er eine neue Generation Todesritter als Unterstützung für die Schwarze Klinge ins Leben.</p>,\n",
       " <p class=\"Card-excerpt Card-excerpt--normal font-size-small\" media-large=\"font-size-xSmall\">Als die Kontrolle des Lichkönigs über seine Todesritter gebrochen war, fanden seine einstigen Champions eine neue Bestimmung als Ritter der Schwa...</p>,\n",
       " <p class=\"Card-excerpt Card-excerpt--medium font-size-small\" media-large=\"font-size-xSmall\">Als die Kontrolle des Lichkönigs über seine Todesritter gebrochen war, fanden seine einstigen Champions eine neue Bestimmung als Ritter der Schwarzen Klinge. Nachdem Bolvar Fordragon den Helm aufgesetzt hatte, um die untote Geißel unter Kontroll...</p>,\n",
       " <p class=\"Card-excerpt Card-excerpt--long font-size-small\" media-large=\"font-size-xSmall\">Als die Kontrolle des Lichkönigs über seine Todesritter gebrochen war, fanden seine einstigen Champions eine neue Bestimmung als Ritter der Schwarzen Klinge. Nachdem Bolvar Fordragon den Helm aufgesetzt hatte, um die untote Geißel unter Kontrolle zu halten, rief er eine neue Generation Todesritter als Unterstützung für die Schwarze Klinge ins ...</p>]"
      ]
     },
     "execution_count": 48,
     "metadata": {},
     "output_type": "execute_result"
    }
   ],
   "execution_count": 48
  },
  {
   "metadata": {
    "ExecuteTime": {
     "end_time": "2025-01-27T08:43:37.188759Z",
     "start_time": "2025-01-27T08:43:37.178772Z"
    }
   },
   "cell_type": "code",
   "source": "len(todesparagraphen)",
   "outputs": [
    {
     "data": {
      "text/plain": [
       "14"
      ]
     },
     "execution_count": 49,
     "metadata": {},
     "output_type": "execute_result"
    }
   ],
   "execution_count": 49
  },
  {
   "cell_type": "code",
   "source": [
    "todesklassen = soup.find_all(class_='Card-title', string=todes_regex)\n",
    "todesklassen"
   ],
   "metadata": {
    "collapsed": false,
    "ExecuteTime": {
     "end_time": "2025-01-27T08:44:18.374152Z",
     "start_time": "2025-01-27T08:44:18.356234Z"
    }
   },
   "outputs": [
    {
     "data": {
      "text/plain": [
       "[<div class=\"Card-title\">Todesritter</div>]"
      ]
     },
     "execution_count": 50,
     "metadata": {},
     "output_type": "execute_result"
    }
   ],
   "execution_count": 50
  },
  {
   "cell_type": "markdown",
   "metadata": {},
   "source": [
    "Eltern / Kind Navigation"
   ]
  },
  {
   "cell_type": "code",
   "metadata": {
    "ExecuteTime": {
     "end_time": "2025-01-27T08:47:09.629239Z",
     "start_time": "2025-01-27T08:47:09.621078Z"
    }
   },
   "source": [
    "# Infobox der ersten Klasse extrahieren\n",
    "result = soup.find(class_='gutter-normal')\n",
    "result"
   ],
   "outputs": [
    {
     "data": {
      "text/plain": [
       "<div class=\"gutter-normal gutter-all\"><div class=\"Card-title\">Krieger</div><div class=\"Card-subtitle\">Tank, Schaden</div><p class=\"Card-description font-size-xSmall\" media-large=\"font-size-xSmall\">Schon seit es Kriege gibt streben Helden aus allen Völkern danach, die Kunst der Schlacht zu beherrschen. Im Krieger vereinen sich Stärke, Führungsqualitäten und ein unermessliches Wissen über Waffen und Rüstungen, um in einer glorreichen Schlacht den Feind in den Untergang zu stürzen.</p><p class=\"Card-excerpt Card-excerpt--normal font-size-small\" media-large=\"font-size-xSmall\">Schon seit es Kriege gibt streben Helden aus allen Völkern danach, die Kunst der Schlacht zu beherrschen. Im Krieger vereinen sich Stärke, Führun...</p><p class=\"Card-excerpt Card-excerpt--medium font-size-small\" media-large=\"font-size-xSmall\">Schon seit es Kriege gibt streben Helden aus allen Völkern danach, die Kunst der Schlacht zu beherrschen. Im Krieger vereinen sich Stärke, Führungsqualitäten und ein unermessliches Wissen über Waffen und Rüstungen, um in einer glorreichen Schlac...</p><p class=\"Card-excerpt Card-excerpt--long font-size-small\" media-large=\"font-size-xSmall\">Schon seit es Kriege gibt streben Helden aus allen Völkern danach, die Kunst der Schlacht zu beherrschen. Im Krieger vereinen sich Stärke, Führungsqualitäten und ein unermessliches Wissen über Waffen und Rüstungen, um in einer glorreichen Schlacht den Feind in den Untergang zu stürzen.</p></div>"
      ]
     },
     "execution_count": 51,
     "metadata": {},
     "output_type": "execute_result"
    }
   ],
   "execution_count": 51
  },
  {
   "metadata": {
    "ExecuteTime": {
     "end_time": "2025-01-27T08:47:30.579355Z",
     "start_time": "2025-01-27T08:47:30.570495Z"
    }
   },
   "cell_type": "code",
   "source": "len(result)",
   "outputs": [
    {
     "data": {
      "text/plain": [
       "6"
      ]
     },
     "execution_count": 52,
     "metadata": {},
     "output_type": "execute_result"
    }
   ],
   "execution_count": 52
  },
  {
   "cell_type": "code",
   "metadata": {
    "ExecuteTime": {
     "end_time": "2025-01-27T08:48:17.854115Z",
     "start_time": "2025-01-27T08:48:17.845280Z"
    }
   },
   "source": [
    "# Welche tags enthält mein Ergebnis (children)?\n",
    "result.contents"
   ],
   "outputs": [
    {
     "data": {
      "text/plain": [
       "[<div class=\"Card-title\">Krieger</div>,\n",
       " <div class=\"Card-subtitle\">Tank, Schaden</div>,\n",
       " <p class=\"Card-description font-size-xSmall\" media-large=\"font-size-xSmall\">Schon seit es Kriege gibt streben Helden aus allen Völkern danach, die Kunst der Schlacht zu beherrschen. Im Krieger vereinen sich Stärke, Führungsqualitäten und ein unermessliches Wissen über Waffen und Rüstungen, um in einer glorreichen Schlacht den Feind in den Untergang zu stürzen.</p>,\n",
       " <p class=\"Card-excerpt Card-excerpt--normal font-size-small\" media-large=\"font-size-xSmall\">Schon seit es Kriege gibt streben Helden aus allen Völkern danach, die Kunst der Schlacht zu beherrschen. Im Krieger vereinen sich Stärke, Führun...</p>,\n",
       " <p class=\"Card-excerpt Card-excerpt--medium font-size-small\" media-large=\"font-size-xSmall\">Schon seit es Kriege gibt streben Helden aus allen Völkern danach, die Kunst der Schlacht zu beherrschen. Im Krieger vereinen sich Stärke, Führungsqualitäten und ein unermessliches Wissen über Waffen und Rüstungen, um in einer glorreichen Schlac...</p>,\n",
       " <p class=\"Card-excerpt Card-excerpt--long font-size-small\" media-large=\"font-size-xSmall\">Schon seit es Kriege gibt streben Helden aus allen Völkern danach, die Kunst der Schlacht zu beherrschen. Im Krieger vereinen sich Stärke, Führungsqualitäten und ein unermessliches Wissen über Waffen und Rüstungen, um in einer glorreichen Schlacht den Feind in den Untergang zu stürzen.</p>]"
      ]
     },
     "execution_count": 53,
     "metadata": {},
     "output_type": "execute_result"
    }
   ],
   "execution_count": 53
  },
  {
   "metadata": {
    "ExecuteTime": {
     "end_time": "2025-01-27T08:49:23.661348Z",
     "start_time": "2025-01-27T08:49:23.644285Z"
    }
   },
   "cell_type": "code",
   "source": "type(result.contents)",
   "outputs": [
    {
     "data": {
      "text/plain": [
       "list"
      ]
     },
     "execution_count": 54,
     "metadata": {},
     "output_type": "execute_result"
    }
   ],
   "execution_count": 54
  },
  {
   "metadata": {
    "ExecuteTime": {
     "end_time": "2025-01-27T08:49:35.229068Z",
     "start_time": "2025-01-27T08:49:35.221678Z"
    }
   },
   "cell_type": "code",
   "source": "len(result.contents)",
   "outputs": [
    {
     "data": {
      "text/plain": [
       "6"
      ]
     },
     "execution_count": 55,
     "metadata": {},
     "output_type": "execute_result"
    }
   ],
   "execution_count": 55
  },
  {
   "cell_type": "code",
   "source": [
    "# Children dagegen gibt uns einen Iterator, aber erzeugt keine Liste:\n",
    "result.children"
   ],
   "metadata": {
    "collapsed": false,
    "ExecuteTime": {
     "end_time": "2025-01-27T08:50:29.634345Z",
     "start_time": "2025-01-27T08:50:29.628050Z"
    }
   },
   "outputs": [
    {
     "data": {
      "text/plain": [
       "<list_iterator at 0x1ded2157b80>"
      ]
     },
     "execution_count": 56,
     "metadata": {},
     "output_type": "execute_result"
    }
   ],
   "execution_count": 56
  },
  {
   "cell_type": "code",
   "source": [
    "# ...lässt sich aber ohne Probleme in eine Liste packen...\n",
    "list(result.children)"
   ],
   "metadata": {
    "collapsed": false,
    "ExecuteTime": {
     "end_time": "2025-01-27T08:50:47.628243Z",
     "start_time": "2025-01-27T08:50:47.620911Z"
    }
   },
   "outputs": [
    {
     "data": {
      "text/plain": [
       "[<div class=\"Card-title\">Krieger</div>,\n",
       " <div class=\"Card-subtitle\">Tank, Schaden</div>,\n",
       " <p class=\"Card-description font-size-xSmall\" media-large=\"font-size-xSmall\">Schon seit es Kriege gibt streben Helden aus allen Völkern danach, die Kunst der Schlacht zu beherrschen. Im Krieger vereinen sich Stärke, Führungsqualitäten und ein unermessliches Wissen über Waffen und Rüstungen, um in einer glorreichen Schlacht den Feind in den Untergang zu stürzen.</p>,\n",
       " <p class=\"Card-excerpt Card-excerpt--normal font-size-small\" media-large=\"font-size-xSmall\">Schon seit es Kriege gibt streben Helden aus allen Völkern danach, die Kunst der Schlacht zu beherrschen. Im Krieger vereinen sich Stärke, Führun...</p>,\n",
       " <p class=\"Card-excerpt Card-excerpt--medium font-size-small\" media-large=\"font-size-xSmall\">Schon seit es Kriege gibt streben Helden aus allen Völkern danach, die Kunst der Schlacht zu beherrschen. Im Krieger vereinen sich Stärke, Führungsqualitäten und ein unermessliches Wissen über Waffen und Rüstungen, um in einer glorreichen Schlac...</p>,\n",
       " <p class=\"Card-excerpt Card-excerpt--long font-size-small\" media-large=\"font-size-xSmall\">Schon seit es Kriege gibt streben Helden aus allen Völkern danach, die Kunst der Schlacht zu beherrschen. Im Krieger vereinen sich Stärke, Führungsqualitäten und ein unermessliches Wissen über Waffen und Rüstungen, um in einer glorreichen Schlacht den Feind in den Untergang zu stürzen.</p>]"
      ]
     },
     "execution_count": 57,
     "metadata": {},
     "output_type": "execute_result"
    }
   ],
   "execution_count": 57
  },
  {
   "cell_type": "code",
   "source": [
    "# Und ist bei einem Vergleich dann identisch mit contents:\n",
    "result.contents == list(result.children)"
   ],
   "metadata": {
    "collapsed": false,
    "ExecuteTime": {
     "end_time": "2025-01-27T08:51:31.219186Z",
     "start_time": "2025-01-27T08:51:31.212186Z"
    }
   },
   "outputs": [
    {
     "data": {
      "text/plain": [
       "True"
      ]
     },
     "execution_count": 58,
     "metadata": {},
     "output_type": "execute_result"
    }
   ],
   "execution_count": 58
  },
  {
   "metadata": {
    "ExecuteTime": {
     "end_time": "2025-01-27T08:53:41.215040Z",
     "start_time": "2025-01-27T08:53:41.208830Z"
    }
   },
   "cell_type": "code",
   "source": "children = list(result.children)",
   "outputs": [],
   "execution_count": 62
  },
  {
   "cell_type": "code",
   "source": [
    "# Es gibt auch noch das Attribut descendants, was alles meint, was von einem Tag abstammt"
   ],
   "metadata": {
    "collapsed": false
   },
   "outputs": [],
   "execution_count": null
  },
  {
   "metadata": {
    "ExecuteTime": {
     "end_time": "2025-01-27T08:52:03.583433Z",
     "start_time": "2025-01-27T08:52:03.574416Z"
    }
   },
   "cell_type": "code",
   "source": "result.descendants",
   "outputs": [
    {
     "data": {
      "text/plain": [
       "<generator object Tag.descendants at 0x000001DED1EDF5E0>"
      ]
     },
     "execution_count": 59,
     "metadata": {},
     "output_type": "execute_result"
    }
   ],
   "execution_count": 59
  },
  {
   "metadata": {
    "ExecuteTime": {
     "end_time": "2025-01-27T08:52:32.647504Z",
     "start_time": "2025-01-27T08:52:32.638855Z"
    }
   },
   "cell_type": "code",
   "source": [
    "descendants = list(result.descendants)\n",
    "descendants"
   ],
   "outputs": [
    {
     "data": {
      "text/plain": [
       "[<div class=\"Card-title\">Krieger</div>,\n",
       " 'Krieger',\n",
       " <div class=\"Card-subtitle\">Tank, Schaden</div>,\n",
       " 'Tank, Schaden',\n",
       " <p class=\"Card-description font-size-xSmall\" media-large=\"font-size-xSmall\">Schon seit es Kriege gibt streben Helden aus allen Völkern danach, die Kunst der Schlacht zu beherrschen. Im Krieger vereinen sich Stärke, Führungsqualitäten und ein unermessliches Wissen über Waffen und Rüstungen, um in einer glorreichen Schlacht den Feind in den Untergang zu stürzen.</p>,\n",
       " 'Schon seit es Kriege gibt streben Helden aus allen Völkern danach, die Kunst der Schlacht zu beherrschen. Im Krieger vereinen sich Stärke, Führungsqualitäten und ein unermessliches Wissen über Waffen und Rüstungen, um in einer glorreichen Schlacht den Feind in den Untergang zu stürzen.',\n",
       " <p class=\"Card-excerpt Card-excerpt--normal font-size-small\" media-large=\"font-size-xSmall\">Schon seit es Kriege gibt streben Helden aus allen Völkern danach, die Kunst der Schlacht zu beherrschen. Im Krieger vereinen sich Stärke, Führun...</p>,\n",
       " 'Schon seit es Kriege gibt streben Helden aus allen Völkern danach, die Kunst der Schlacht zu beherrschen. Im Krieger vereinen sich Stärke, Führun...',\n",
       " <p class=\"Card-excerpt Card-excerpt--medium font-size-small\" media-large=\"font-size-xSmall\">Schon seit es Kriege gibt streben Helden aus allen Völkern danach, die Kunst der Schlacht zu beherrschen. Im Krieger vereinen sich Stärke, Führungsqualitäten und ein unermessliches Wissen über Waffen und Rüstungen, um in einer glorreichen Schlac...</p>,\n",
       " 'Schon seit es Kriege gibt streben Helden aus allen Völkern danach, die Kunst der Schlacht zu beherrschen. Im Krieger vereinen sich Stärke, Führungsqualitäten und ein unermessliches Wissen über Waffen und Rüstungen, um in einer glorreichen Schlac...',\n",
       " <p class=\"Card-excerpt Card-excerpt--long font-size-small\" media-large=\"font-size-xSmall\">Schon seit es Kriege gibt streben Helden aus allen Völkern danach, die Kunst der Schlacht zu beherrschen. Im Krieger vereinen sich Stärke, Führungsqualitäten und ein unermessliches Wissen über Waffen und Rüstungen, um in einer glorreichen Schlacht den Feind in den Untergang zu stürzen.</p>,\n",
       " 'Schon seit es Kriege gibt streben Helden aus allen Völkern danach, die Kunst der Schlacht zu beherrschen. Im Krieger vereinen sich Stärke, Führungsqualitäten und ein unermessliches Wissen über Waffen und Rüstungen, um in einer glorreichen Schlacht den Feind in den Untergang zu stürzen.']"
      ]
     },
     "execution_count": 60,
     "metadata": {},
     "output_type": "execute_result"
    }
   ],
   "execution_count": 60
  },
  {
   "metadata": {
    "collapsed": false,
    "ExecuteTime": {
     "end_time": "2025-01-27T08:53:48.317503Z",
     "start_time": "2025-01-27T08:53:48.299619Z"
    }
   },
   "cell_type": "code",
   "source": [
    "# Die Länge der Kinder des Tags:\n",
    "len(children)"
   ],
   "outputs": [
    {
     "data": {
      "text/plain": [
       "6"
      ]
     },
     "execution_count": 63,
     "metadata": {},
     "output_type": "execute_result"
    }
   ],
   "execution_count": 63
  },
  {
   "metadata": {
    "ExecuteTime": {
     "end_time": "2025-01-27T08:53:58.619219Z",
     "start_time": "2025-01-27T08:53:58.607522Z"
    }
   },
   "cell_type": "code",
   "source": "len(descendants)",
   "outputs": [
    {
     "data": {
      "text/plain": [
       "12"
      ]
     },
     "execution_count": 64,
     "metadata": {},
     "output_type": "execute_result"
    }
   ],
   "execution_count": 64
  },
  {
   "cell_type": "code",
   "source": [
    "# Quizfrage: Warum gibt es da unterschiedliche Zahlen?\n",
    "# Es gibt i.d.R. immer mehr Nachfahren als direkte Kinder (auch in der Welt).\n",
    "# Direkte Kinder sind Tags eine Ebene unter dem Elternteil.\n",
    "# Nachkommen umfassen alle Ebenen."
   ],
   "metadata": {
    "collapsed": false
   },
   "outputs": [],
   "execution_count": null
  },
  {
   "cell_type": "code",
   "source": [
    "for descendant in descendants:\n",
    "    print(descendant)\n",
    "    print()"
   ],
   "metadata": {
    "collapsed": false,
    "ExecuteTime": {
     "end_time": "2025-01-27T08:57:07.604991Z",
     "start_time": "2025-01-27T08:57:07.597340Z"
    }
   },
   "outputs": [
    {
     "name": "stdout",
     "output_type": "stream",
     "text": [
      "<div class=\"Card-title\">Krieger</div>\n",
      "\n",
      "Krieger\n",
      "\n",
      "<div class=\"Card-subtitle\">Tank, Schaden</div>\n",
      "\n",
      "Tank, Schaden\n",
      "\n",
      "<p class=\"Card-description font-size-xSmall\" media-large=\"font-size-xSmall\">Schon seit es Kriege gibt streben Helden aus allen Völkern danach, die Kunst der Schlacht zu beherrschen. Im Krieger vereinen sich Stärke, Führungsqualitäten und ein unermessliches Wissen über Waffen und Rüstungen, um in einer glorreichen Schlacht den Feind in den Untergang zu stürzen.</p>\n",
      "\n",
      "Schon seit es Kriege gibt streben Helden aus allen Völkern danach, die Kunst der Schlacht zu beherrschen. Im Krieger vereinen sich Stärke, Führungsqualitäten und ein unermessliches Wissen über Waffen und Rüstungen, um in einer glorreichen Schlacht den Feind in den Untergang zu stürzen.\n",
      "\n",
      "<p class=\"Card-excerpt Card-excerpt--normal font-size-small\" media-large=\"font-size-xSmall\">Schon seit es Kriege gibt streben Helden aus allen Völkern danach, die Kunst der Schlacht zu beherrschen. Im Krieger vereinen sich Stärke, Führun...</p>\n",
      "\n",
      "Schon seit es Kriege gibt streben Helden aus allen Völkern danach, die Kunst der Schlacht zu beherrschen. Im Krieger vereinen sich Stärke, Führun...\n",
      "\n",
      "<p class=\"Card-excerpt Card-excerpt--medium font-size-small\" media-large=\"font-size-xSmall\">Schon seit es Kriege gibt streben Helden aus allen Völkern danach, die Kunst der Schlacht zu beherrschen. Im Krieger vereinen sich Stärke, Führungsqualitäten und ein unermessliches Wissen über Waffen und Rüstungen, um in einer glorreichen Schlac...</p>\n",
      "\n",
      "Schon seit es Kriege gibt streben Helden aus allen Völkern danach, die Kunst der Schlacht zu beherrschen. Im Krieger vereinen sich Stärke, Führungsqualitäten und ein unermessliches Wissen über Waffen und Rüstungen, um in einer glorreichen Schlac...\n",
      "\n",
      "<p class=\"Card-excerpt Card-excerpt--long font-size-small\" media-large=\"font-size-xSmall\">Schon seit es Kriege gibt streben Helden aus allen Völkern danach, die Kunst der Schlacht zu beherrschen. Im Krieger vereinen sich Stärke, Führungsqualitäten und ein unermessliches Wissen über Waffen und Rüstungen, um in einer glorreichen Schlacht den Feind in den Untergang zu stürzen.</p>\n",
      "\n",
      "Schon seit es Kriege gibt streben Helden aus allen Völkern danach, die Kunst der Schlacht zu beherrschen. Im Krieger vereinen sich Stärke, Führungsqualitäten und ein unermessliches Wissen über Waffen und Rüstungen, um in einer glorreichen Schlacht den Feind in den Untergang zu stürzen.\n",
      "\n"
     ]
    }
   ],
   "execution_count": 65
  },
  {
   "cell_type": "code",
   "source": [
    "for child in children:\n",
    "    print(child)\n",
    "    print()"
   ],
   "metadata": {
    "collapsed": false,
    "ExecuteTime": {
     "end_time": "2025-01-27T08:58:23.069699Z",
     "start_time": "2025-01-27T08:58:23.063934Z"
    }
   },
   "outputs": [
    {
     "name": "stdout",
     "output_type": "stream",
     "text": [
      "<div class=\"Card-title\">Krieger</div>\n",
      "\n",
      "<div class=\"Card-subtitle\">Tank, Schaden</div>\n",
      "\n",
      "<p class=\"Card-description font-size-xSmall\" media-large=\"font-size-xSmall\">Schon seit es Kriege gibt streben Helden aus allen Völkern danach, die Kunst der Schlacht zu beherrschen. Im Krieger vereinen sich Stärke, Führungsqualitäten und ein unermessliches Wissen über Waffen und Rüstungen, um in einer glorreichen Schlacht den Feind in den Untergang zu stürzen.</p>\n",
      "\n",
      "<p class=\"Card-excerpt Card-excerpt--normal font-size-small\" media-large=\"font-size-xSmall\">Schon seit es Kriege gibt streben Helden aus allen Völkern danach, die Kunst der Schlacht zu beherrschen. Im Krieger vereinen sich Stärke, Führun...</p>\n",
      "\n",
      "<p class=\"Card-excerpt Card-excerpt--medium font-size-small\" media-large=\"font-size-xSmall\">Schon seit es Kriege gibt streben Helden aus allen Völkern danach, die Kunst der Schlacht zu beherrschen. Im Krieger vereinen sich Stärke, Führungsqualitäten und ein unermessliches Wissen über Waffen und Rüstungen, um in einer glorreichen Schlac...</p>\n",
      "\n",
      "<p class=\"Card-excerpt Card-excerpt--long font-size-small\" media-large=\"font-size-xSmall\">Schon seit es Kriege gibt streben Helden aus allen Völkern danach, die Kunst der Schlacht zu beherrschen. Im Krieger vereinen sich Stärke, Führungsqualitäten und ein unermessliches Wissen über Waffen und Rüstungen, um in einer glorreichen Schlacht den Feind in den Untergang zu stürzen.</p>\n",
      "\n"
     ]
    }
   ],
   "execution_count": 66
  },
  {
   "cell_type": "code",
   "source": [
    "# Einen \"child\"-Zweig betreten über den Index:\n",
    "children[3]"
   ],
   "metadata": {
    "collapsed": false,
    "ExecuteTime": {
     "end_time": "2025-01-27T08:59:18.310240Z",
     "start_time": "2025-01-27T08:59:18.302652Z"
    }
   },
   "outputs": [
    {
     "data": {
      "text/plain": [
       "<p class=\"Card-excerpt Card-excerpt--normal font-size-small\" media-large=\"font-size-xSmall\">Schon seit es Kriege gibt streben Helden aus allen Völkern danach, die Kunst der Schlacht zu beherrschen. Im Krieger vereinen sich Stärke, Führun...</p>"
      ]
     },
     "execution_count": 73,
     "metadata": {},
     "output_type": "execute_result"
    }
   ],
   "execution_count": 73
  },
  {
   "cell_type": "code",
   "metadata": {
    "ExecuteTime": {
     "end_time": "2025-01-27T09:03:00.325297Z",
     "start_time": "2025-01-27T09:03:00.303406Z"
    }
   },
   "source": [
    "# Umgekehrt: Welche Eltern hat mein Ergebnis?\n",
    "result.parent"
   ],
   "outputs": [
    {
     "data": {
      "text/plain": [
       "<div class=\"Card-content\"><div class=\"gutter-normal gutter-all\"><div class=\"Card-title\">Krieger</div><div class=\"Card-subtitle\">Tank, Schaden</div><p class=\"Card-description font-size-xSmall\" media-large=\"font-size-xSmall\">Schon seit es Kriege gibt streben Helden aus allen Völkern danach, die Kunst der Schlacht zu beherrschen. Im Krieger vereinen sich Stärke, Führungsqualitäten und ein unermessliches Wissen über Waffen und Rüstungen, um in einer glorreichen Schlacht den Feind in den Untergang zu stürzen.</p><p class=\"Card-excerpt Card-excerpt--normal font-size-small\" media-large=\"font-size-xSmall\">Schon seit es Kriege gibt streben Helden aus allen Völkern danach, die Kunst der Schlacht zu beherrschen. Im Krieger vereinen sich Stärke, Führun...</p><p class=\"Card-excerpt Card-excerpt--medium font-size-small\" media-large=\"font-size-xSmall\">Schon seit es Kriege gibt streben Helden aus allen Völkern danach, die Kunst der Schlacht zu beherrschen. Im Krieger vereinen sich Stärke, Führungsqualitäten und ein unermessliches Wissen über Waffen und Rüstungen, um in einer glorreichen Schlac...</p><p class=\"Card-excerpt Card-excerpt--long font-size-small\" media-large=\"font-size-xSmall\">Schon seit es Kriege gibt streben Helden aus allen Völkern danach, die Kunst der Schlacht zu beherrschen. Im Krieger vereinen sich Stärke, Führungsqualitäten und ein unermessliches Wissen über Waffen und Rüstungen, um in einer glorreichen Schlacht den Feind in den Untergang zu stürzen.</p></div></div>"
      ]
     },
     "execution_count": 75,
     "metadata": {},
     "output_type": "execute_result"
    }
   ],
   "execution_count": 75
  },
  {
   "cell_type": "markdown",
   "metadata": {
    "collapsed": false
   },
   "source": [
    "#### Übung: Check TagesDeals!\n",
    "\n",
    "Du interessierst dich dafür, welche Produkte in den Tagesdeals bei Alternate vorkommen. Link: https://www.alternate.de/TagesDeals\n",
    "\n",
    "\n",
    "1. Prüfe , ob es erlaubt ist, Informationen von dieser Stelle zu extrahieren.\n",
    "2. Identifiziere, wie sich die Produkte der heutigen Tagesdeals scrapen lassen. Welche Tags werden benutzt? Wie können wir die Elemente identifizieren?\n",
    "3. Scrape die Daten und extrahiere die Infos, die dich interessieren.\n",
    "4. Bringe den Output in ein passendes und lesbares Format (lege also z.B. einen ordentlich formatierten und benannten DataFrame an).\n"
   ]
  },
  {
   "metadata": {},
   "cell_type": "code",
   "outputs": [
    {
     "name": "stdout",
     "output_type": "stream",
     "text": [
      "[<div class=\"product-name font-weight-bold\"><span class=\"mr-1\">Enermax</span>Platimax D.F 1050W, PC-Netzteil</div>, <div class=\"product-name font-weight-bold\"><span class=\"mr-1\">Alpenföhn</span>Wing Boost 3 ARGB 140x140x25, Gehäuselüfter</div>, <div class=\"product-name font-weight-bold\"><span class=\"mr-1\">Acer</span>Nitro, Gaming-Maus</div>, <div class=\"product-name font-weight-bold\"><span class=\"mr-1\">Thermaltake</span>TOUGHLIQUID 280 ARGB Sync All-In-One Liquid Cooler 280mm, Wasserkühlung</div>, <div class=\"product-name font-weight-bold\"><span class=\"mr-1\">HP</span>Prelude 15,6, Rucksack</div>, <div class=\"product-name font-weight-bold\"><span class=\"mr-1\">Team Group</span>DIMM 32 GB DDR4-3600 (2x 16 GB) Dual-Kit, Arbeitsspeicher</div>, <div class=\"product-name font-weight-bold\"><span class=\"mr-1\">Seagate</span>Speichererweiterungskarte für Xbox Series X|S 2 TB, SSD</div>, <div class=\"product-name font-weight-bold\"><span class=\"mr-1\">Arctic</span>Liquid Freezer II 420 A-RGB 420mm, Wasserkühlung</div>, <div class=\"product-name font-weight-bold\"><span class=\"mr-1\">Acer</span>Swift 3 (SF316-51-51SN), Notebook</div>, <div class=\"product-name font-weight-bold\"><span class=\"mr-1\">Arctic</span>Freezer i35 A-RGB, CPU-Kühler</div>, <div class=\"product-name font-weight-bold\"><span class=\"mr-1\">Acer</span>Predator Orion 7000 (DG.E39EG.005), Gaming-PC</div>, <div class=\"product-name font-weight-bold\"><span class=\"mr-1\">EKWB</span>EK-Nucleus AIO CR240 Lux D-RGB 240mm, Wasserkühlung</div>, <div class=\"product-name font-weight-bold\"><span class=\"mr-1\">Acer</span>Swift 3 Go (SFG14-71-51H2), Notebook</div>, <div class=\"product-name font-weight-bold\"><span class=\"mr-1\">HP</span>255 G9 (7N0S6ES), Notebook</div>, <div class=\"product-name font-weight-bold\"><span class=\"mr-1\">HP</span>255 G9 (7N0S7ES), Notebook</div>, <div class=\"product-name font-weight-bold\"><span class=\"mr-1\">HP</span>255 G9 (7N0S8ES), Notebook</div>, <div class=\"product-name font-weight-bold\"><span class=\"mr-1\">HP</span>255 G9 (7N0T0ES), Notebook</div>, <div class=\"product-name font-weight-bold\"><span class=\"mr-1\">Alpenföhn</span>JetStream, Gehäuselüfter</div>, <div class=\"product-name font-weight-bold\"><span class=\"mr-1\">Thermaltake</span>TH120 V2 ARGB Sync All-In-One Liquid Cooler, Wasserkühlung</div>, <div class=\"product-name font-weight-bold\"><span class=\"mr-1\">Thermaltake</span>TH360 V2 ARGB Sync All-In-One Liquid Cooler, Wasserkühlung</div>, <div class=\"product-name font-weight-bold\"><span class=\"mr-1\">Thermaltake</span>TH240 V2 ARGB Sync All-In-One Liquid Cooler, Wasserkühlung</div>, <div class=\"product-name font-weight-bold\"><span class=\"mr-1\">Victus by HP</span>15-fa1155ng, Gaming-Notebook</div>, <div class=\"product-name font-weight-bold\"><span class=\"mr-1\">OMEN</span>16-xd0174ng, Gaming-Notebook</div>, <div class=\"product-name font-weight-bold\"><span class=\"mr-1\">Enermax</span>REVOLUTION D.F.X 850W, PC-Netzteil</div>, <div class=\"product-name font-weight-bold\"><span class=\"mr-1\">Enermax</span>REVOLUTION D.F.X 1200W, PC-Netzteil</div>, <div class=\"product-name font-weight-bold\"><span class=\"mr-1\">Thermaltake</span>TH120 V2 ARGB Sync All-In-One Liquid Cooler Snow Edition, Wasserkühlung</div>, <div class=\"product-name font-weight-bold\"><span class=\"mr-1\">Thermaltake</span>TH240 V2 ARGB Sync All-In-One Liquid Cooler Snow Edition, Wasserkühlung</div>, <div class=\"product-name font-weight-bold\"><span class=\"mr-1\">Thermaltake</span>TH360 V2 ARGB Sync All-In-One Liquid Cooler Snow Edition, Wasserkühlung</div>, <div class=\"product-name font-weight-bold\"><span class=\"mr-1\">Victus by HP</span>16-s0155ng, Gaming-Notebook</div>, <div class=\"product-name font-weight-bold\"><span class=\"mr-1\">Victus by HP</span>16-s0175ng, Gaming-Notebook</div>, <div class=\"product-name font-weight-bold\"><span class=\"mr-1\">AMD</span>Wraith STEALTH CPU-Kühler BULK</div>, <div class=\"product-name font-weight-bold\"><span class=\"mr-1\">Intel®</span>Thermal Solution LGA1150,1151,1155,1156,1200 BULK, CPU-Kühler</div>, <div class=\"product-name font-weight-bold\"><span class=\"mr-1\">Apple</span>MacBook Pro (16\") 2023, Notebook</div>, <div class=\"product-name font-weight-bold\"><span class=\"mr-1\">Acer</span>Predator Aethon 301, Gaming-Tastatur</div>, <div class=\"product-name font-weight-bold\"><span class=\"mr-1\">Seagate</span>IronWolf NAS 2 x 8 TB Bundle, Festplatte</div>, <div class=\"product-name font-weight-bold\"><span class=\"mr-1\">Creative</span>Outlier Free Pro+, Kopfhörer</div>, <div class=\"product-name font-weight-bold\"><span class=\"mr-1\">Creative</span>Outlier Free Pro+, Kopfhörer</div>, <div class=\"product-name font-weight-bold\"><span class=\"mr-1\">HP</span>17-cn3157ng, Notebook</div>, <div class=\"product-name font-weight-bold\"><span class=\"mr-1\">HP</span>17-cp2159ng, Notebook</div>, <div class=\"product-name font-weight-bold\"><span class=\"mr-1\">Thermaltake</span>TOUGHLIQUID 240 ARGB Sync All-In-One Liquid Cooler 240mm, Wasserkühlung</div>, <div class=\"product-name font-weight-bold\"><span class=\"mr-1\">Thermaltake</span>TOUGHLIQUID 360 ARGB Sync All-In-One Liquid Cooler 360mm, Wasserkühlung</div>, <div class=\"product-name font-weight-bold\"><span class=\"mr-1\">Team Group</span>VULCAN Z 1 TB, SSD</div>, <div class=\"product-name font-weight-bold\"><span class=\"mr-1\">Alpenföhn</span>Brocken 4, CPU-Kühler</div>]\n"
     ]
    }
   ],
   "execution_count": 43,
   "source": [
    "URL = 'https://www.alternate.de/TagesDeals'\n",
    "website = requests.get(URL)\n",
    "results = BeautifulSoup(website.content, 'html.parser')\n",
    "deals = results.find_all(class_='product-name font-weight-bold')\n",
    "print(deals)"
   ]
  },
  {
   "metadata": {},
   "cell_type": "code",
   "outputs": [
    {
     "data": {
      "text/plain": [
       "['AMDWraith STEALTH CPU-Kühler BULK',\n",
       " 'AcerNitro, Gaming-Maus',\n",
       " 'AcerPredator Aethon 301, Gaming-Tastatur',\n",
       " 'AcerPredator Orion 7000 (DG.E39EG.005), Gaming-PC',\n",
       " 'AcerSwift 3 (SF316-51-51SN), Notebook',\n",
       " 'AcerSwift 3 Go (SFG14-71-51H2), Notebook',\n",
       " 'AlpenföhnBrocken 4, CPU-Kühler',\n",
       " 'AlpenföhnJetStream, Gehäuselüfter',\n",
       " 'AlpenföhnWing Boost 3 ARGB 140x140x25, Gehäuselüfter',\n",
       " 'AppleMacBook Pro (16\") 2023, Notebook',\n",
       " 'ArcticFreezer i35 A-RGB, CPU-Kühler',\n",
       " 'ArcticLiquid Freezer II 420 A-RGB 420mm, Wasserkühlung',\n",
       " 'CreativeOutlier Free Pro+, Kopfhörer',\n",
       " 'CreativeOutlier Free Pro+, Kopfhörer',\n",
       " 'EKWBEK-Nucleus AIO CR240 Lux D-RGB 240mm, Wasserkühlung',\n",
       " 'EnermaxPlatimax D.F 1050W, PC-Netzteil',\n",
       " 'EnermaxREVOLUTION D.F.X 1200W, PC-Netzteil',\n",
       " 'EnermaxREVOLUTION D.F.X 850W, PC-Netzteil',\n",
       " 'HP17-cn3157ng, Notebook',\n",
       " 'HP17-cp2159ng, Notebook',\n",
       " 'HP255 G9 (7N0S6ES), Notebook',\n",
       " 'HP255 G9 (7N0S7ES), Notebook',\n",
       " 'HP255 G9 (7N0S8ES), Notebook',\n",
       " 'HP255 G9 (7N0T0ES), Notebook',\n",
       " 'HPPrelude 15,6, Rucksack',\n",
       " 'Intel®Thermal Solution LGA1150,1151,1155,1156,1200 BULK, CPU-Kühler',\n",
       " 'OMEN16-xd0174ng, Gaming-Notebook',\n",
       " 'SeagateIronWolf NAS 2 x 8 TB Bundle, Festplatte',\n",
       " 'SeagateSpeichererweiterungskarte für Xbox Series X|S 2 TB, SSD',\n",
       " 'Team GroupDIMM 32 GB DDR4-3600 (2x 16 GB) Dual-Kit, Arbeitsspeicher',\n",
       " 'Team GroupVULCAN Z 1 TB, SSD',\n",
       " 'ThermaltakeTH120 V2 ARGB Sync All-In-One Liquid Cooler Snow Edition, Wasserkühlung',\n",
       " 'ThermaltakeTH120 V2 ARGB Sync All-In-One Liquid Cooler, Wasserkühlung',\n",
       " 'ThermaltakeTH240 V2 ARGB Sync All-In-One Liquid Cooler Snow Edition, Wasserkühlung',\n",
       " 'ThermaltakeTH240 V2 ARGB Sync All-In-One Liquid Cooler, Wasserkühlung',\n",
       " 'ThermaltakeTH360 V2 ARGB Sync All-In-One Liquid Cooler Snow Edition, Wasserkühlung',\n",
       " 'ThermaltakeTH360 V2 ARGB Sync All-In-One Liquid Cooler, Wasserkühlung',\n",
       " 'ThermaltakeTOUGHLIQUID 240 ARGB Sync All-In-One Liquid Cooler 240mm, Wasserkühlung',\n",
       " 'ThermaltakeTOUGHLIQUID 280 ARGB Sync All-In-One Liquid Cooler 280mm, Wasserkühlung',\n",
       " 'ThermaltakeTOUGHLIQUID 360 ARGB Sync All-In-One Liquid Cooler 360mm, Wasserkühlung',\n",
       " 'Victus by HP15-fa1155ng, Gaming-Notebook',\n",
       " 'Victus by HP16-s0155ng, Gaming-Notebook',\n",
       " 'Victus by HP16-s0175ng, Gaming-Notebook']"
      ]
     },
     "execution_count": 44,
     "metadata": {},
     "output_type": "execute_result"
    }
   ],
   "execution_count": 44,
   "source": [
    "deallist = []\n",
    "for deal in deals:\n",
    "    deallist.append(deal.text)\n",
    "\n",
    "deallist.sort()\n",
    "deallist"
   ]
  },
  {
   "metadata": {},
   "cell_type": "code",
   "outputs": [
    {
     "data": {
      "text/html": [
       "<div>\n",
       "<style scoped>\n",
       "    .dataframe tbody tr th:only-of-type {\n",
       "        vertical-align: middle;\n",
       "    }\n",
       "\n",
       "    .dataframe tbody tr th {\n",
       "        vertical-align: top;\n",
       "    }\n",
       "\n",
       "    .dataframe thead th {\n",
       "        text-align: right;\n",
       "    }\n",
       "</style>\n",
       "<table border=\"1\" class=\"dataframe\">\n",
       "  <thead>\n",
       "    <tr style=\"text-align: right;\">\n",
       "      <th></th>\n",
       "      <th>Produkt</th>\n",
       "      <th>Kategorie</th>\n",
       "    </tr>\n",
       "  </thead>\n",
       "  <tbody>\n",
       "    <tr>\n",
       "      <th>0</th>\n",
       "      <td>AMDWraith STEALTH CPU-Kühler BULK</td>\n",
       "      <td>None</td>\n",
       "    </tr>\n",
       "    <tr>\n",
       "      <th>1</th>\n",
       "      <td>AcerNitro</td>\n",
       "      <td>Gaming-Maus</td>\n",
       "    </tr>\n",
       "    <tr>\n",
       "      <th>2</th>\n",
       "      <td>AcerPredator Aethon 301</td>\n",
       "      <td>Gaming-Tastatur</td>\n",
       "    </tr>\n",
       "    <tr>\n",
       "      <th>3</th>\n",
       "      <td>AcerPredator Orion 7000 (DG.E39EG.005)</td>\n",
       "      <td>Gaming-PC</td>\n",
       "    </tr>\n",
       "    <tr>\n",
       "      <th>4</th>\n",
       "      <td>AcerSwift 3 (SF316-51-51SN)</td>\n",
       "      <td>Notebook</td>\n",
       "    </tr>\n",
       "    <tr>\n",
       "      <th>5</th>\n",
       "      <td>AcerSwift 3 Go (SFG14-71-51H2)</td>\n",
       "      <td>Notebook</td>\n",
       "    </tr>\n",
       "    <tr>\n",
       "      <th>6</th>\n",
       "      <td>AlpenföhnBrocken 4</td>\n",
       "      <td>CPU-Kühler</td>\n",
       "    </tr>\n",
       "    <tr>\n",
       "      <th>7</th>\n",
       "      <td>AlpenföhnJetStream</td>\n",
       "      <td>Gehäuselüfter</td>\n",
       "    </tr>\n",
       "    <tr>\n",
       "      <th>8</th>\n",
       "      <td>AlpenföhnWing Boost 3 ARGB 140x140x25</td>\n",
       "      <td>Gehäuselüfter</td>\n",
       "    </tr>\n",
       "    <tr>\n",
       "      <th>9</th>\n",
       "      <td>AppleMacBook Pro (16\") 2023</td>\n",
       "      <td>Notebook</td>\n",
       "    </tr>\n",
       "    <tr>\n",
       "      <th>10</th>\n",
       "      <td>ArcticFreezer i35 A-RGB</td>\n",
       "      <td>CPU-Kühler</td>\n",
       "    </tr>\n",
       "    <tr>\n",
       "      <th>11</th>\n",
       "      <td>ArcticLiquid Freezer II 420 A-RGB 420mm</td>\n",
       "      <td>Wasserkühlung</td>\n",
       "    </tr>\n",
       "    <tr>\n",
       "      <th>12</th>\n",
       "      <td>CreativeOutlier Free Pro+</td>\n",
       "      <td>Kopfhörer</td>\n",
       "    </tr>\n",
       "    <tr>\n",
       "      <th>13</th>\n",
       "      <td>CreativeOutlier Free Pro+</td>\n",
       "      <td>Kopfhörer</td>\n",
       "    </tr>\n",
       "    <tr>\n",
       "      <th>14</th>\n",
       "      <td>EKWBEK-Nucleus AIO CR240 Lux D-RGB 240mm</td>\n",
       "      <td>Wasserkühlung</td>\n",
       "    </tr>\n",
       "    <tr>\n",
       "      <th>15</th>\n",
       "      <td>EnermaxPlatimax D.F 1050W</td>\n",
       "      <td>PC-Netzteil</td>\n",
       "    </tr>\n",
       "    <tr>\n",
       "      <th>16</th>\n",
       "      <td>EnermaxREVOLUTION D.F.X 1200W</td>\n",
       "      <td>PC-Netzteil</td>\n",
       "    </tr>\n",
       "    <tr>\n",
       "      <th>17</th>\n",
       "      <td>EnermaxREVOLUTION D.F.X 850W</td>\n",
       "      <td>PC-Netzteil</td>\n",
       "    </tr>\n",
       "    <tr>\n",
       "      <th>18</th>\n",
       "      <td>HP17-cn3157ng</td>\n",
       "      <td>Notebook</td>\n",
       "    </tr>\n",
       "    <tr>\n",
       "      <th>19</th>\n",
       "      <td>HP17-cp2159ng</td>\n",
       "      <td>Notebook</td>\n",
       "    </tr>\n",
       "    <tr>\n",
       "      <th>20</th>\n",
       "      <td>HP255 G9 (7N0S6ES)</td>\n",
       "      <td>Notebook</td>\n",
       "    </tr>\n",
       "    <tr>\n",
       "      <th>21</th>\n",
       "      <td>HP255 G9 (7N0S7ES)</td>\n",
       "      <td>Notebook</td>\n",
       "    </tr>\n",
       "    <tr>\n",
       "      <th>22</th>\n",
       "      <td>HP255 G9 (7N0S8ES)</td>\n",
       "      <td>Notebook</td>\n",
       "    </tr>\n",
       "    <tr>\n",
       "      <th>23</th>\n",
       "      <td>HP255 G9 (7N0T0ES)</td>\n",
       "      <td>Notebook</td>\n",
       "    </tr>\n",
       "    <tr>\n",
       "      <th>24</th>\n",
       "      <td>HPPrelude 15,6</td>\n",
       "      <td>Rucksack</td>\n",
       "    </tr>\n",
       "    <tr>\n",
       "      <th>25</th>\n",
       "      <td>Intel®Thermal Solution LGA1150,1151,1155,1156,...</td>\n",
       "      <td>CPU-Kühler</td>\n",
       "    </tr>\n",
       "    <tr>\n",
       "      <th>26</th>\n",
       "      <td>OMEN16-xd0174ng</td>\n",
       "      <td>Gaming-Notebook</td>\n",
       "    </tr>\n",
       "    <tr>\n",
       "      <th>27</th>\n",
       "      <td>SeagateIronWolf NAS 2 x 8 TB Bundle</td>\n",
       "      <td>Festplatte</td>\n",
       "    </tr>\n",
       "    <tr>\n",
       "      <th>28</th>\n",
       "      <td>SeagateSpeichererweiterungskarte für Xbox Seri...</td>\n",
       "      <td>SSD</td>\n",
       "    </tr>\n",
       "    <tr>\n",
       "      <th>29</th>\n",
       "      <td>Team GroupDIMM 32 GB DDR4-3600 (2x 16 GB) Dual...</td>\n",
       "      <td>Arbeitsspeicher</td>\n",
       "    </tr>\n",
       "    <tr>\n",
       "      <th>30</th>\n",
       "      <td>Team GroupVULCAN Z 1 TB</td>\n",
       "      <td>SSD</td>\n",
       "    </tr>\n",
       "    <tr>\n",
       "      <th>31</th>\n",
       "      <td>ThermaltakeTH120 V2 ARGB Sync All-In-One Liqui...</td>\n",
       "      <td>Wasserkühlung</td>\n",
       "    </tr>\n",
       "    <tr>\n",
       "      <th>32</th>\n",
       "      <td>ThermaltakeTH120 V2 ARGB Sync All-In-One Liqui...</td>\n",
       "      <td>Wasserkühlung</td>\n",
       "    </tr>\n",
       "    <tr>\n",
       "      <th>33</th>\n",
       "      <td>ThermaltakeTH240 V2 ARGB Sync All-In-One Liqui...</td>\n",
       "      <td>Wasserkühlung</td>\n",
       "    </tr>\n",
       "    <tr>\n",
       "      <th>34</th>\n",
       "      <td>ThermaltakeTH240 V2 ARGB Sync All-In-One Liqui...</td>\n",
       "      <td>Wasserkühlung</td>\n",
       "    </tr>\n",
       "    <tr>\n",
       "      <th>35</th>\n",
       "      <td>ThermaltakeTH360 V2 ARGB Sync All-In-One Liqui...</td>\n",
       "      <td>Wasserkühlung</td>\n",
       "    </tr>\n",
       "    <tr>\n",
       "      <th>36</th>\n",
       "      <td>ThermaltakeTH360 V2 ARGB Sync All-In-One Liqui...</td>\n",
       "      <td>Wasserkühlung</td>\n",
       "    </tr>\n",
       "    <tr>\n",
       "      <th>37</th>\n",
       "      <td>ThermaltakeTOUGHLIQUID 240 ARGB Sync All-In-On...</td>\n",
       "      <td>Wasserkühlung</td>\n",
       "    </tr>\n",
       "    <tr>\n",
       "      <th>38</th>\n",
       "      <td>ThermaltakeTOUGHLIQUID 280 ARGB Sync All-In-On...</td>\n",
       "      <td>Wasserkühlung</td>\n",
       "    </tr>\n",
       "    <tr>\n",
       "      <th>39</th>\n",
       "      <td>ThermaltakeTOUGHLIQUID 360 ARGB Sync All-In-On...</td>\n",
       "      <td>Wasserkühlung</td>\n",
       "    </tr>\n",
       "    <tr>\n",
       "      <th>40</th>\n",
       "      <td>Victus by HP15-fa1155ng</td>\n",
       "      <td>Gaming-Notebook</td>\n",
       "    </tr>\n",
       "    <tr>\n",
       "      <th>41</th>\n",
       "      <td>Victus by HP16-s0155ng</td>\n",
       "      <td>Gaming-Notebook</td>\n",
       "    </tr>\n",
       "    <tr>\n",
       "      <th>42</th>\n",
       "      <td>Victus by HP16-s0175ng</td>\n",
       "      <td>Gaming-Notebook</td>\n",
       "    </tr>\n",
       "  </tbody>\n",
       "</table>\n",
       "</div>"
      ],
      "text/plain": [
       "                                              Produkt         Kategorie\n",
       "0                   AMDWraith STEALTH CPU-Kühler BULK              None\n",
       "1                                           AcerNitro       Gaming-Maus\n",
       "2                             AcerPredator Aethon 301   Gaming-Tastatur\n",
       "3              AcerPredator Orion 7000 (DG.E39EG.005)         Gaming-PC\n",
       "4                         AcerSwift 3 (SF316-51-51SN)          Notebook\n",
       "5                      AcerSwift 3 Go (SFG14-71-51H2)          Notebook\n",
       "6                                  AlpenföhnBrocken 4        CPU-Kühler\n",
       "7                                  AlpenföhnJetStream     Gehäuselüfter\n",
       "8               AlpenföhnWing Boost 3 ARGB 140x140x25     Gehäuselüfter\n",
       "9                         AppleMacBook Pro (16\") 2023          Notebook\n",
       "10                            ArcticFreezer i35 A-RGB        CPU-Kühler\n",
       "11            ArcticLiquid Freezer II 420 A-RGB 420mm     Wasserkühlung\n",
       "12                          CreativeOutlier Free Pro+         Kopfhörer\n",
       "13                          CreativeOutlier Free Pro+         Kopfhörer\n",
       "14           EKWBEK-Nucleus AIO CR240 Lux D-RGB 240mm     Wasserkühlung\n",
       "15                          EnermaxPlatimax D.F 1050W       PC-Netzteil\n",
       "16                      EnermaxREVOLUTION D.F.X 1200W       PC-Netzteil\n",
       "17                       EnermaxREVOLUTION D.F.X 850W       PC-Netzteil\n",
       "18                                      HP17-cn3157ng          Notebook\n",
       "19                                      HP17-cp2159ng          Notebook\n",
       "20                                 HP255 G9 (7N0S6ES)          Notebook\n",
       "21                                 HP255 G9 (7N0S7ES)          Notebook\n",
       "22                                 HP255 G9 (7N0S8ES)          Notebook\n",
       "23                                 HP255 G9 (7N0T0ES)          Notebook\n",
       "24                                     HPPrelude 15,6          Rucksack\n",
       "25  Intel®Thermal Solution LGA1150,1151,1155,1156,...        CPU-Kühler\n",
       "26                                    OMEN16-xd0174ng   Gaming-Notebook\n",
       "27                SeagateIronWolf NAS 2 x 8 TB Bundle        Festplatte\n",
       "28  SeagateSpeichererweiterungskarte für Xbox Seri...               SSD\n",
       "29  Team GroupDIMM 32 GB DDR4-3600 (2x 16 GB) Dual...   Arbeitsspeicher\n",
       "30                            Team GroupVULCAN Z 1 TB               SSD\n",
       "31  ThermaltakeTH120 V2 ARGB Sync All-In-One Liqui...     Wasserkühlung\n",
       "32  ThermaltakeTH120 V2 ARGB Sync All-In-One Liqui...     Wasserkühlung\n",
       "33  ThermaltakeTH240 V2 ARGB Sync All-In-One Liqui...     Wasserkühlung\n",
       "34  ThermaltakeTH240 V2 ARGB Sync All-In-One Liqui...     Wasserkühlung\n",
       "35  ThermaltakeTH360 V2 ARGB Sync All-In-One Liqui...     Wasserkühlung\n",
       "36  ThermaltakeTH360 V2 ARGB Sync All-In-One Liqui...     Wasserkühlung\n",
       "37  ThermaltakeTOUGHLIQUID 240 ARGB Sync All-In-On...     Wasserkühlung\n",
       "38  ThermaltakeTOUGHLIQUID 280 ARGB Sync All-In-On...     Wasserkühlung\n",
       "39  ThermaltakeTOUGHLIQUID 360 ARGB Sync All-In-On...     Wasserkühlung\n",
       "40                            Victus by HP15-fa1155ng   Gaming-Notebook\n",
       "41                             Victus by HP16-s0155ng   Gaming-Notebook\n",
       "42                             Victus by HP16-s0175ng   Gaming-Notebook"
      ]
     },
     "execution_count": 45,
     "metadata": {},
     "output_type": "execute_result"
    }
   ],
   "execution_count": 45,
   "source": [
    "df = pd.DataFrame(deallist)\n",
    "df = df[0].str.split(pat=r\",([^,]+)$\", expand = True, regex=True)\n",
    "df.drop(columns=2, inplace=True)\n",
    "df.columns = [\"Produkt\",\"Kategorie\"]\n",
    "df"
   ]
  },
  {
   "cell_type": "markdown",
   "metadata": {},
   "source": [
    "## Scrapen von Bildern"
   ]
  },
  {
   "cell_type": "markdown",
   "metadata": {},
   "source": [
    "Wir wollen bei Wikipedia die Sternennacht von Van Gogh scrapen."
   ]
  },
  {
   "cell_type": "code",
   "metadata": {
    "ExecuteTime": {
     "end_time": "2025-01-27T10:12:29.918597Z",
     "start_time": "2025-01-27T10:12:29.007094Z"
    }
   },
   "source": [
    "URL = 'https://de.wikipedia.org/wiki/Vincent_van_Gogh'\n",
    "response = requests.get(URL)\n",
    "soup = BeautifulSoup(response.text, 'html.parser')"
   ],
   "outputs": [],
   "execution_count": 76
  },
  {
   "cell_type": "code",
   "metadata": {
    "ExecuteTime": {
     "end_time": "2025-01-27T10:15:17.395640Z",
     "start_time": "2025-01-27T10:15:17.360934Z"
    }
   },
   "source": [
    "# Abrufen aller Bildunterschriften\n",
    "subtitles = soup.find_all('figcaption')\n",
    "subtitles"
   ],
   "outputs": [
    {
     "data": {
      "text/plain": [
       "[<figcaption><i>Selbstbildnis</i> (1887)<figure class=\"mw-default-size mw-halign-center skin-invert-image\" typeof=\"mw:File/Frameless\"><a class=\"mw-file-description\" href=\"/wiki/Datei:Vincent_van_Gogh_signature_(Vincent).svg\" title=\"Unterschrift von Vincent van Gogh\"><img alt=\"Unterschrift von Vincent van Gogh\" class=\"mw-file-element\" data-file-height=\"168\" data-file-width=\"433\" decoding=\"async\" height=\"85\" src=\"//upload.wikimedia.org/wikipedia/commons/thumb/c/cd/Vincent_van_Gogh_signature_%28Vincent%29.svg/220px-Vincent_van_Gogh_signature_%28Vincent%29.svg.png\" srcset=\"//upload.wikimedia.org/wikipedia/commons/thumb/c/cd/Vincent_van_Gogh_signature_%28Vincent%29.svg/330px-Vincent_van_Gogh_signature_%28Vincent%29.svg.png 1.5x, //upload.wikimedia.org/wikipedia/commons/thumb/c/cd/Vincent_van_Gogh_signature_%28Vincent%29.svg/440px-Vincent_van_Gogh_signature_%28Vincent%29.svg.png 2x\" width=\"220\"/></a><figcaption>Unterschrift von Vincent van Gogh</figcaption></figure></figcaption>,\n",
       " <figcaption>Unterschrift von Vincent van Gogh</figcaption>,\n",
       " <figcaption>Van Goghs Geburtshaus in Zundert (um 1900)</figcaption>,\n",
       " <figcaption>Theodorus van Gogh</figcaption>,\n",
       " <figcaption>Anna Cornelia Carbentus (1888), Porträt von van Gogh</figcaption>,\n",
       " <figcaption>Porträtfoto des 19-jährigen van Gogh, aufgenommen 1873 von J. M. W. de Louw</figcaption>,\n",
       " <figcaption>Theo van Gogh (1878)</figcaption>,\n",
       " <figcaption>Die schwangere Sien Hoornik als Modell für <i><a href=\"/wiki/Sorrow_(van_Gogh)\" title=\"Sorrow (van Gogh)\">Sorrow</a></i> (1882)</figcaption>,\n",
       " <figcaption>Mögliche Fotografie van Goghs (1886), die jedoch umstritten ist</figcaption>,\n",
       " <figcaption>Henri de Toulouse-Lautrec: <i>Vincent van Gogh in Paris</i> (1887)</figcaption>,\n",
       " <figcaption><i>Porträt Joseph Roulin</i> (1888)</figcaption>,\n",
       " <figcaption>Paul Gauguin: <i>Vincent van Gogh, Sonnenblumen malend</i> (1888)<sup class=\"reference\" id=\"cite_ref-15\"><a href=\"#cite_note-15\"><span class=\"cite-bracket\">[</span>A 1<span class=\"cite-bracket\">]</span></a></sup> </figcaption>,\n",
       " <figcaption><i>Selbstporträt mit verbundenem Ohr und Pfeife</i> (1889)<sup class=\"reference\" id=\"cite_ref-18\"><a href=\"#cite_note-18\"><span class=\"cite-bracket\">[</span>A 2<span class=\"cite-bracket\">]</span></a></sup> </figcaption>,\n",
       " <figcaption><i>Fliederstrauch</i> (1889)</figcaption>,\n",
       " <figcaption><i>Landschaft von Saint-Rémy</i> (1889)</figcaption>,\n",
       " <figcaption><i>Landschaft mit Weizengarben und aufgehendem Mond</i> (1889)</figcaption>,\n",
       " <figcaption><i><a href=\"/wiki/Selbstbildnis_ohne_Bart\" title=\"Selbstbildnis ohne Bart\">Selbstbildnis ohne Bart</a></i>, 1889</figcaption>,\n",
       " <figcaption><i><a href=\"/wiki/Runde_der_Gefangenen\" title=\"Runde der Gefangenen\">Der Rundgang der Gefangenen</a></i> (nach <a href=\"/wiki/Gustave_Dor%C3%A9\" title=\"Gustave Doré\">Gustave Doré</a>) (1889)</figcaption>,\n",
       " <figcaption><i><a href=\"/wiki/Die_Ebene_von_Auvers\" title=\"Die Ebene von Auvers\">Die Ebene von Auvers</a></i>, 1890, <a href=\"/wiki/%C3%96sterreichische_Galerie_Belvedere\" title=\"Österreichische Galerie Belvedere\">Belvedere</a>, Wien</figcaption>,\n",
       " <figcaption><i>An der Schwelle zur Ewigkeit</i> (Mai 1890)</figcaption>,\n",
       " <figcaption><i><a href=\"/wiki/Portr%C3%A4t_des_Dr._Gachet\" title=\"Porträt des Dr. Gachet\">Porträt des Dr. Gachet</a></i> (Juni 1890)</figcaption>,\n",
       " <figcaption><i><a href=\"/wiki/Das_wei%C3%9Fe_Haus_bei_Nacht\" title=\"Das weiße Haus bei Nacht\">Das weiße Haus bei Nacht</a></i> (Juni 1890)</figcaption>,\n",
       " <figcaption><i>Kornfeld mit Krähen</i> (Juli 1890)</figcaption>,\n",
       " <figcaption>Grabsteine von Vincent und Theo van Gogh auf dem Cimetière d'Auvers-sur-Oise. Foto: <a href=\"/wiki/Emmy_Andriesse\" title=\"Emmy Andriesse\">Emmy Andriesse</a>, zwischen 1951 und 1952</figcaption>,\n",
       " <figcaption><i>Stillleben mit Tontopf und Kartoffeln</i> (1884)</figcaption>,\n",
       " <figcaption><i>Die Kartoffelesser</i> (1885)</figcaption>,\n",
       " <figcaption>Impressionistische Anklänge: <i>Gemüsegärten auf dem Montmartre</i> (1887)</figcaption>,\n",
       " <figcaption><i>Porträt des <a href=\"/wiki/P%C3%A8re_Tanguy\" title=\"Père Tanguy\">Père Tanguy</a></i> (1887/88)</figcaption>,\n",
       " <figcaption>Komplementärkontrast in Rot und Grün: <i><a href=\"/wiki/Das_Nachtcaf%C3%A9\" title=\"Das Nachtcafé\">Das Nachtcafé</a></i> (1888)</figcaption>,\n",
       " <figcaption><i>Zypressen</i> (1889)</figcaption>,\n",
       " <figcaption><i><a href=\"/wiki/Sternennacht\" title=\"Sternennacht\">Sternennacht</a></i> (1889)</figcaption>,\n",
       " <figcaption><i>Porträt Eugène Boch</i> (1888)</figcaption>,\n",
       " <figcaption><i>Weizenfeld unter einem Gewitterhimmel</i> (1890)</figcaption>,\n",
       " <figcaption><i>Spaziergang im Mondlicht</i> (1890)</figcaption>,\n",
       " <figcaption><i>Grabender in einem Kartoffelfeld</i>, schwarze Kreide (1885)</figcaption>,\n",
       " <figcaption><i>Ernte in der Provence</i>, Rohrfeder und Feder in brauner Tinte (1888)</figcaption>,\n",
       " <figcaption><i>La Berceuse</i><sup class=\"reference\" id=\"cite_ref-69\"><a href=\"#cite_note-69\"><span class=\"cite-bracket\">[</span>67<span class=\"cite-bracket\">]</span></a></sup> (1888)</figcaption>,\n",
       " <figcaption>Paula Modersohn-Becker: <i>Alte Armenhäuslerin im Garten</i> (1906)</figcaption>,\n",
       " <figcaption><i><a href=\"/wiki/Vincents_Schlafzimmer_in_Arles\" title=\"Vincents Schlafzimmer in Arles\">Das Schlafzimmer des Künstlers im Gelben Haus</a></i> (1888)</figcaption>,\n",
       " <figcaption><i>Roter Weinberg</i> (1888)</figcaption>,\n",
       " <figcaption><i>Mohnfeld</i> (1889), Kunsthalle Bremen</figcaption>,\n",
       " <figcaption>Wirklich ein van Gogh? An diesem Selbstporträt scheiden sich die Expertenmeinungen.</figcaption>,\n",
       " <figcaption>Sandskulptur in Prora (2022)</figcaption>]"
      ]
     },
     "execution_count": 77,
     "metadata": {},
     "output_type": "execute_result"
    }
   ],
   "execution_count": 77
  },
  {
   "cell_type": "code",
   "metadata": {
    "ExecuteTime": {
     "end_time": "2025-01-27T10:16:51.982944Z",
     "start_time": "2025-01-27T10:16:51.978027Z"
    }
   },
   "source": [
    "# Soup-Element finden, das zur Sternennacht gehört\n",
    "for subtitle in subtitles:\n",
    "    if 'Sternennacht' in subtitle.text:\n",
    "        starry_night = subtitle\n",
    "        break"
   ],
   "outputs": [],
   "execution_count": 78
  },
  {
   "cell_type": "code",
   "source": "print(starry_night)",
   "metadata": {
    "collapsed": false,
    "ExecuteTime": {
     "end_time": "2025-01-27T10:17:03.131919Z",
     "start_time": "2025-01-27T10:17:03.122427Z"
    }
   },
   "outputs": [
    {
     "name": "stdout",
     "output_type": "stream",
     "text": [
      "<figcaption><i><a href=\"/wiki/Sternennacht\" title=\"Sternennacht\">Sternennacht</a></i> (1889)</figcaption>\n"
     ]
    }
   ],
   "execution_count": 79
  },
  {
   "cell_type": "code",
   "metadata": {
    "ExecuteTime": {
     "end_time": "2025-01-27T10:18:46.566716Z",
     "start_time": "2025-01-27T10:18:46.559358Z"
    }
   },
   "source": [
    "# Eine Ebene höher gehen, um Bild herauszubekommen\n",
    "parent = starry_night.parent\n",
    "parent"
   ],
   "outputs": [
    {
     "data": {
      "text/plain": [
       "<figure class=\"mw-default-size\" typeof=\"mw:File/Thumb\"><a class=\"mw-file-description\" href=\"/wiki/Datei:Van_Gogh_-_Starry_Night_-_Google_Art_Project.jpg\"><img class=\"mw-file-element\" data-file-height=\"23756\" data-file-width=\"30000\" decoding=\"async\" height=\"174\" src=\"//upload.wikimedia.org/wikipedia/commons/thumb/e/ea/Van_Gogh_-_Starry_Night_-_Google_Art_Project.jpg/220px-Van_Gogh_-_Starry_Night_-_Google_Art_Project.jpg\" srcset=\"//upload.wikimedia.org/wikipedia/commons/thumb/e/ea/Van_Gogh_-_Starry_Night_-_Google_Art_Project.jpg/330px-Van_Gogh_-_Starry_Night_-_Google_Art_Project.jpg 1.5x, //upload.wikimedia.org/wikipedia/commons/thumb/e/ea/Van_Gogh_-_Starry_Night_-_Google_Art_Project.jpg/440px-Van_Gogh_-_Starry_Night_-_Google_Art_Project.jpg 2x\" width=\"220\"/></a><figcaption><i><a href=\"/wiki/Sternennacht\" title=\"Sternennacht\">Sternennacht</a></i> (1889)</figcaption></figure>"
      ]
     },
     "execution_count": 81,
     "metadata": {},
     "output_type": "execute_result"
    }
   ],
   "execution_count": 81
  },
  {
   "metadata": {
    "ExecuteTime": {
     "end_time": "2025-01-27T10:19:23.025040Z",
     "start_time": "2025-01-27T10:19:23.018385Z"
    }
   },
   "cell_type": "code",
   "source": [
    "image = parent.find('img')\n",
    "image"
   ],
   "outputs": [
    {
     "data": {
      "text/plain": [
       "<img class=\"mw-file-element\" data-file-height=\"23756\" data-file-width=\"30000\" decoding=\"async\" height=\"174\" src=\"//upload.wikimedia.org/wikipedia/commons/thumb/e/ea/Van_Gogh_-_Starry_Night_-_Google_Art_Project.jpg/220px-Van_Gogh_-_Starry_Night_-_Google_Art_Project.jpg\" srcset=\"//upload.wikimedia.org/wikipedia/commons/thumb/e/ea/Van_Gogh_-_Starry_Night_-_Google_Art_Project.jpg/330px-Van_Gogh_-_Starry_Night_-_Google_Art_Project.jpg 1.5x, //upload.wikimedia.org/wikipedia/commons/thumb/e/ea/Van_Gogh_-_Starry_Night_-_Google_Art_Project.jpg/440px-Van_Gogh_-_Starry_Night_-_Google_Art_Project.jpg 2x\" width=\"220\"/>"
      ]
     },
     "execution_count": 82,
     "metadata": {},
     "output_type": "execute_result"
    }
   ],
   "execution_count": 82
  },
  {
   "metadata": {
    "ExecuteTime": {
     "end_time": "2025-01-27T10:20:06.421305Z",
     "start_time": "2025-01-27T10:20:06.407666Z"
    }
   },
   "cell_type": "code",
   "source": [
    "# Welche Attribute hat mein Objekt?\n",
    "image.attrs"
   ],
   "outputs": [
    {
     "data": {
      "text/plain": [
       "{'src': '//upload.wikimedia.org/wikipedia/commons/thumb/e/ea/Van_Gogh_-_Starry_Night_-_Google_Art_Project.jpg/220px-Van_Gogh_-_Starry_Night_-_Google_Art_Project.jpg',\n",
       " 'decoding': 'async',\n",
       " 'width': '220',\n",
       " 'height': '174',\n",
       " 'class': ['mw-file-element'],\n",
       " 'srcset': '//upload.wikimedia.org/wikipedia/commons/thumb/e/ea/Van_Gogh_-_Starry_Night_-_Google_Art_Project.jpg/330px-Van_Gogh_-_Starry_Night_-_Google_Art_Project.jpg 1.5x, //upload.wikimedia.org/wikipedia/commons/thumb/e/ea/Van_Gogh_-_Starry_Night_-_Google_Art_Project.jpg/440px-Van_Gogh_-_Starry_Night_-_Google_Art_Project.jpg 2x',\n",
       " 'data-file-width': '30000',\n",
       " 'data-file-height': '23756'}"
      ]
     },
     "execution_count": 83,
     "metadata": {},
     "output_type": "execute_result"
    }
   ],
   "execution_count": 83
  },
  {
   "metadata": {
    "ExecuteTime": {
     "end_time": "2025-01-27T10:22:26.985876Z",
     "start_time": "2025-01-27T10:22:26.973466Z"
    }
   },
   "cell_type": "code",
   "source": "image.attrs['src']",
   "outputs": [
    {
     "data": {
      "text/plain": [
       "'//upload.wikimedia.org/wikipedia/commons/thumb/e/ea/Van_Gogh_-_Starry_Night_-_Google_Art_Project.jpg/220px-Van_Gogh_-_Starry_Night_-_Google_Art_Project.jpg'"
      ]
     },
     "execution_count": 84,
     "metadata": {},
     "output_type": "execute_result"
    }
   ],
   "execution_count": 84
  },
  {
   "cell_type": "code",
   "metadata": {
    "ExecuteTime": {
     "end_time": "2025-01-27T10:23:25.387375Z",
     "start_time": "2025-01-27T10:23:25.379188Z"
    }
   },
   "source": [
    "# Im Attribut \"src\" liegt der Pfad zum gespeicherten Bild\n",
    "# Abrufbar mit .get\n",
    "sublink = image.attrs.get('src')\n",
    "sublink"
   ],
   "outputs": [
    {
     "data": {
      "text/plain": [
       "'//upload.wikimedia.org/wikipedia/commons/thumb/e/ea/Van_Gogh_-_Starry_Night_-_Google_Art_Project.jpg/220px-Van_Gogh_-_Starry_Night_-_Google_Art_Project.jpg'"
      ]
     },
     "execution_count": 86,
     "metadata": {},
     "output_type": "execute_result"
    }
   ],
   "execution_count": 86
  },
  {
   "cell_type": "code",
   "metadata": {
    "ExecuteTime": {
     "end_time": "2025-01-27T10:23:43.944249Z",
     "start_time": "2025-01-27T10:23:43.935971Z"
    }
   },
   "source": [
    "full_link = 'https:' + sublink\n",
    "full_link"
   ],
   "outputs": [
    {
     "data": {
      "text/plain": [
       "'https://upload.wikimedia.org/wikipedia/commons/thumb/e/ea/Van_Gogh_-_Starry_Night_-_Google_Art_Project.jpg/220px-Van_Gogh_-_Starry_Night_-_Google_Art_Project.jpg'"
      ]
     },
     "execution_count": 87,
     "metadata": {},
     "output_type": "execute_result"
    }
   ],
   "execution_count": 87
  },
  {
   "metadata": {
    "ExecuteTime": {
     "end_time": "2025-01-27T10:24:35.436209Z",
     "start_time": "2025-01-27T10:24:35.194788Z"
    }
   },
   "cell_type": "code",
   "source": "img_response = requests.get(full_link)",
   "outputs": [],
   "execution_count": 88
  },
  {
   "metadata": {
    "ExecuteTime": {
     "end_time": "2025-01-27T10:27:18.511171Z",
     "start_time": "2025-01-27T10:27:18.496855Z"
    }
   },
   "cell_type": "code",
   "source": [
    "image_data = img_response.content\n",
    "image_data"
   ],
   "outputs": [
    {
     "data": {
      "text/plain": [
       "b'\\xff\\xd8\\xff\\xdb\\x00C\\x00\\x04\\x03\\x03\\x04\\x03\\x03\\x04\\x04\\x03\\x04\\x05\\x04\\x04\\x05\\x06\\n\\x07\\x06\\x06\\x06\\x06\\r\\t\\n\\x08\\n\\x0f\\r\\x10\\x10\\x0f\\r\\x0f\\x0e\\x11\\x13\\x18\\x14\\x11\\x12\\x17\\x12\\x0e\\x0f\\x15\\x1c\\x15\\x17\\x19\\x19\\x1b\\x1b\\x1b\\x10\\x14\\x1d\\x1f\\x1d\\x1a\\x1f\\x18\\x1a\\x1b\\x1a\\xff\\xdb\\x00C\\x01\\x04\\x05\\x05\\x06\\x05\\x06\\x0c\\x07\\x07\\x0c\\x1a\\x11\\x0f\\x11\\x1a\\x1a\\x1a\\x1a\\x1a\\x1a\\x1a\\x1a\\x1a\\x1a\\x1a\\x1a\\x1a\\x1a\\x1a\\x1a\\x1a\\x1a\\x1a\\x1a\\x1a\\x1a\\x1a\\x1a\\x1a\\x1a\\x1a\\x1a\\x1a\\x1a\\x1a\\x1a\\x1a\\x1a\\x1a\\x1a\\x1a\\x1a\\x1a\\x1a\\x1a\\x1a\\x1a\\x1a\\x1a\\x1a\\x1a\\x1a\\x1a\\x1a\\xff\\xc0\\x00\\x11\\x08\\x00\\xae\\x00\\xdc\\x03\\x01\"\\x00\\x02\\x11\\x01\\x03\\x11\\x01\\xff\\xc4\\x00\\x1d\\x00\\x00\\x02\\x03\\x01\\x01\\x01\\x01\\x01\\x00\\x00\\x00\\x00\\x00\\x00\\x00\\x00\\x05\\x06\\x03\\x04\\x07\\x02\\x08\\x01\\x00\\t\\xff\\xc4\\x00?\\x10\\x00\\x02\\x02\\x01\\x03\\x03\\x03\\x02\\x04\\x05\\x03\\x03\\x02\\x04\\x07\\x00\\x01\\x02\\x03\\x04\\x11\\x05\\x12!\\x00\\x061\\x13\"A\\x14Q\\x072a\\x81\\x15#Bq\\x91Rb\\xa1$3\\xb1\\x16C\\x08\\x17\\xc1\\xd1&Sr\\x82\\x92\\xb2\\xf0\\xff\\xc4\\x00\\x1b\\x01\\x00\\x02\\x03\\x01\\x01\\x01\\x00\\x00\\x00\\x00\\x00\\x00\\x00\\x00\\x00\\x00\\x03\\x04\\x01\\x02\\x05\\x06\\x00\\x07\\xff\\xc4\\x003\\x11\\x00\\x01\\x02\\x03\\x06\\x03\\x08\\x02\\x02\\x02\\x03\\x00\\x00\\x00\\x00\\x00\\x01\\x02\\x11\\x00\\x03!\\x04\\x121AQ\\xf0a\\x81\\x91\\x05\\x13\"q\\xa1\\xb1\\xc1\\xd1\\xe1\\xf1\\x14#\\x062\\x15\\x16\\xc2\\xff\\xda\\x00\\x0c\\x03\\x01\\x00\\x02\\x11\\x03\\x11\\x00?\\x00\\xf3\\x16\\x9d\\x0c\\xdam\\x8b\\xbb\\x0b\\x00a\\x7fQ\\xfdY\\x11\\xa4^\\x01\\x1bD\\xab\\x91\\xcf\\x8f\\x9c\\xe3\\x04\\xf4\\xe1\\xda\\xdaT\\xba\\xd6\\xb9\\xa6Ob)\\x08\\xa6\\x01@\\x19F\\xd6\\x8d}\\xaa\\xa03\\x16</\\x04\\xeeb0H\\xf3\\xd2\\xc5\\xca:\\x95+O\\x1d\\xca6\\x1e\\x19\\x00R\\xb3BG\\xb4\\x10w+0e\\xf8\\x07\\x9f\\xb9\\xe9\\x93\\xb3\\xda>\\xdc\\xd4\\xab\\xea:\\x8dXa\\xaa\\x15\\xc0ifW\\x90\\x06\\x00oM\\xaa\\x10`d\\x8es\\xf6\\xf1\\xd7\\\\\\x89h\\x0ftz<e\\xadJg\\x8d\\xd3H\\xd0\\xda*\\xb6\\xe0\\x8d\\xab\\xac2\\x06\\xb1<\\xac\\x9e\\x83\\x94\\xda\\x03;:\\x8eI9\\xe4\\x83\\x8eF\\x06:\\xa9\\xabv\\xb6\\x99)[:\\x9dJ\\x97-VY\\x12\\t.\\xee\\x964\\x12&\\x02\\xff\\x00\\xa5\\xe2`\\xcb\\x9c\\x8c\\x8f<\\x10\\x0fE\\xf4\\xeb\\xa8\\xf1[\\x9c\\xac&\\'\\n\\xd3\\x08FU\"p\\x19\\xd6Ul\\x13\\x9c\\xab\\x06\\xf8R\\x08\\xc8<\\xc1sW\\xa3\\xf5\\r\\x1d\\x88\\xe6\\xb1\\x02\\xd73\\xcc\"M\\xd1,AH\\x0b\\x9f\\x83\\x900\\xbc\\x96!q\\xfaq\\x97;Pv\\x91q\\xfd\\\\\\x9a\\xbe\\xbf\\x10k\\xd2;\\x9a\\x7f\\xbcy\\xa7\\xb9t\\x1b\\xdd\\x97\\xae\\xebZ^\\x92\\xd1\\xc7\\nZD\\x92\\x17\\x9d\\x1b`S\\xbe3\\x19\\x93-\\xb4\\x16\\xe0\\xe0\\x1f\\x1e|\\xf5\\x7f\\xb1!\\xd4l\\xea\\xd2$6\\xd9`Dg\\x945\\xf2a\\x05\\xb0\\xa3\\xd4N\\x03\\x02H\\xf8\\xf8\\x19\\xeamjHu\\x9d_P\\xb9\\xa2\\xc5w\\xe826\\xcd%\\\\6\\x00\\xe7,\\xdc\\x83\\xf6\\x19\\'\\xcfK\\xb0\\xce)k\\xd7`\\xd3\\xe6)b8\\x8bK+ \\x8d\\xd5\\x88\\x01\\x97!\\xb2A\\xe3\\x8f\\xb8\\xeb\\xb9T\\x89r\\xd2\\x91\\x9a\\x8b\\x0e\\x8f\\xbf8\\x08R\\x96\\x0f\\x94l\\xbd\\xc5\\xd9\\xdaf\\xa1F\\xfc\\xf1i\\xab[P\\x86\\xbbF\\xb2\\x8b.\\x80F\\x08oTx\\xfe`#p\\xf8\\xc6A8<a\\xf2[\\x96(DW\\x92)\\xe2\\x7f\\x1bmq!+\\x82FF\\xec|}\\xbc\\xf4\\xef\\'|w]\\x85\\x8e4\\xeeQ\\xa6B\\x8c\\x1c\\xb4t\\x1d\\xf7\\x12|\\xe3\\xdc\\x00\\x18\\x1c`g\\'=\\t\\xbai}\\n\\x1a\\xf6\\xb4[\\xfa\\x84@\\xb4\\xd3\\x0b\\x93T\\x95\\xb2\\xc4\\xe0Wh\\xc2\\x91\\xcf8\\xcezV\\xcde\\xb4I\\x04MS\\x97\\xc5\\xb8\\xd05]\\x85\\x1f8\\xf5\\xe4\\x93A\\xa7\\xe4\\xbf\\x13\\r\\xdd\\xa8 \\xd7\\xb5\\xd4\\x85\\xed\\xdd\\x99\\xa7\\x81\\x9aONq2\\xcax\\x01X\\xaf)\\xc2\\x82Kp\\xd8\\xcf\\x07=i\\xd1S\\xadZ\\x9d\\x1a\\x84R\\x85+*\\x8b\\x01\\xe2\\xf6`\\xaf \\xe4\\x12s\\x92r1\\x83\\xf1\\xd6S\\xf8q\\xdct\\xb4hnIf\\xc4P\\xe7\\xd22\\xc9\\r\\x82\\x0b\\x85\\xe1\\xd7kaK2\\x92F[\\x9d\\xa4\\x05\\x04\\x93\\xd3\\xb5n\\xf7\\xd2\\xed\\xd5\\xbc\\xf4\\xf5*\\xf4c\\xab]\\x18Kf6a+19`y\\x18\\xf9\\xda\\t\\xe4\\x9c\\xf1\\xc9O\\xb5$\\xda\\xa6M\\x06P\\xa0jT\\x8dh\\xd8\\x1c\\x18\\xe5\\x9b\\xc4\"\\xe8pw\\xf8\\x80\\xdd\\xc7\\xdb\\xb5\\xb4\\xea\\x926\\x9c\\x02=\\x87Y~\\x85\\\\\\xb9\\x12\\x12\\x7f\\x9c\\x1e3\\x98\\xb8\\x00\\x16+\\x8c\\xe01\\x1c\\x1e\\x97\\xa9\\xd3\\xd4\\xacO^\\rCM\\xd5R2\\xee\\x1ekqoq\\xed\\xf6\\x90T\\x90\\xc9\\x9cg9<\\x9ey\\xcfN\\x9a6\\xb9V\\xf7vi\\xd6t\\xf9a\\x92z\\x94\\xa6\\xd3\\xecM\\xb9\\x02\\xd9i\\t\\xc9L\\x0f\\x07\\nw!\\x1c\\xf1\\xe3\\x8e\\x9amj\\x15\"Q5\\xfdJ\\xa21b]\\xe5W\\x95\\x9b\\x83\\xbb\\xf2\\x9e\\x0e\\x01\\x04\\x9c\\x0f\\x1fn\\xa9i\\xed\\x19\\xd6)\\xb2\\xe4\\x94\\x15^\\xcc~\\x8di\\xcf8\\x94J\\x0bA.\\xcd\\x19\\xad\\x0b\\xd2\\r:\\xe5;\\xd7\\x16\\x1bVf\\x92\\n\\xfe\\x9bI\\xe8\\xd5\\x85PfWm\\x85\\xd0\\x06#\\x01\\xd9@\\xc8\\xf8\\x1d\\x14\\xa1\\xab\\xd2\\x99\\xadV\\xd2i\\t\\xa6\\x8c\\xb3Mx\\xeb&I\\x99\\xd0\\x05\\xf5Y\\xf0\\xcb\\n\\xef9*\\xa4\\x91\\x802Fr\\xab\\xba\\xa5\\xedVZ:}\\x85z\\xb2M$\\x9e\\xa9\\x8e8\\xa2\\x8dG\\xe5\\xf4\\xe2w1\\xee?\\x04\\xa1 \\x0e9\\xe7\\xa1\\xfa\\xbb\\\\x\\xa7\\xa3\\x06\\xa9\\x14ufufZ\\x94D\\x920Bv\\xa2m\\x01>y\\n\\x07\\x07\\xf5\\xebg\\xf8\\x81\\xef3\\x8ct\\xe6p\\xfd\\xc0\\x82\\xce\\x0e\\xd0F;\\x9a\\x94BdG\\x8bU\\x85\\x1d\\x92\\xb4\\xf1\\xdd\\x11\\xbbc\\x93.\\xf7\\xce\\x10c$a\\x98\\xee$\\x91\\xc0\\xe8S\\xa4\\xd7\\xee\\x88a\\x9bT\\xb9\\x12\\x94\\x92L\\xb2\\xac .s\\xbd\\xc9\\x05\\x87\\x8e2\\xab\\xe7$\\xf5\\x05\\xb8lW\\xb9\"jP\\xcb\\xeb:\\xabG\\x1d\\xb2V]\\xa3\\xc9np\\xa0\\x10x\\\\\\x8f\\x00\\x9f\\xbb\\x9f\\xe1\\xbe\\x9f\\xa8j\\x97\\xde{\\x8a\\xd2QTeG\\x90\\xe6\\x18\\xc3{K(\\xf0X\\r\\xf8$6\\x0f\\xea\\x07M(K\\x95,\\xadE\\xc0\\xdb~)\\xce<\\x1ca\\n\\xc7\\xb6\\xadW\\xb7,\\x90]\\xafN\\xa2 \\x92k\\x0fvM\\xd1\\x01\\xe5\\xb0\\x19cQ\\x9e\\x01\\x1b\\x8e9\\xe7\\xe6&\\xd1\\x7f\\x877\\xa9.\\xa5v\\xad\\x19\\x9cz3\\t\\xc3\\xae\\xd2\\xde\\xefvN\\x0e9\\x1b\\x88\\xdd\\x8f\\xd8z\\x00\\xe8Zc\\xc1<q\\xd2\\x8cSf\\x02(\\xc0\\n$\\x18\\x18r\\x84rFA\\xf7g\\x8ct\\x1bW\\xd0\\xebZ\\xabfyd\\xf6I\\x1a\\x16\\xab)\\xdf\\x1b\\x95m\\xc3\\xd2R@\\x07\\x03\\x94\\x1c\\x1e\\n\\xe0\\x8e\\xb9Y\\x1d\\xb7f\\xb4Z\\nS\\x8f\\x91\\x7fC\\xef\\xa1\\x19\\x12\\x192\\xe6%\\x0ep\\x8c\\xdbT\\xd3e}8&\\x9e\\xb3\\xd6\\xa8\\x01\\x02\\xc4\\xd6\\xa4\\x96\\xcc\\xaeX\\x11\\x96\\xe7!\\x87>\\xdc\\x0f\\x8c\\x8e\\x87\\xdc\\xed\\xeb\\xe9OL\\x82\\x95\\xc9\\xd0J\\xca\\xa5\\xec\\xdaV\\x93\\xd3V9ePN\\xc4^rIc\\xf6>pb*{\\xe45g\\x9es\\r7c\\xebgn\\xe9\\x15\\xb7\\x10O\\x1br\\n\\xe0\\x9eq\\xbb\\xed\\xd0\\n\\xb7\\xabi\\x90jz\\x85\\xe2o\\x97\\xdb\\x0cR\\xc8\\xe7\\x997\\xeefO\\x92\\xa0aB\\x9e1\\xe7\\xed\\xd7Fe\\x84\\xa4\\xbc.\\x95\\x12`\\xfc\\xd3\\xd3\\x82\\xd8\\xa7RG\\xafY|,L\\xc8\\xf6X\\xb0\\x0b\\xbb\\x07%s\\x93\\x8c\\x8c\\x9f\\'\\x03\\x1dGn\\xbd\\x87\\xb7$\\x97\\xb55\\xa8\\x1aX\\xc1\\x80\\xcc\\xe2\\xbc(\\xbe\\xed\\xf6\\x08+\\xe3\\xc0\\x8cc$\\x80O t6\\x03/p\\xf76\\x9e\\xaa\\xad(,\\xee\\xc7>\\x9e\\x0f\\xb8\\xb4\\xac\\xdeB\\xaan\\xc1<\\xf2q\\xc9\\x1d\\x1c\\xd5=\\x03A\\x96\\x98\\x8a\\x18\\xa9H\\x04R\\x14,\\xb5\\xf2\\xb9iv\\xf3\\x99N\\xe0\\x14d\\x91\\xb8c\\xef\\xd7\\xae\\x92\\x14b\\x83\\xc2@\\x82~\\xbe\\xb3\\rkV\\xa9\\xcb=\\xbd:\\x19\\xf0\\xf3\\xd8s\\x19\\x9d\\x0bd\\xa9\\xda\\xa4\\x90>\\x11T``y\\xe3\\xaa\\xb5\\xb5\\x9d_S\\xb5(\\xad\\x0e\\xbb\\xa9\\xd6n\\x1d\\xa0h\\xeaD\\xa4\\x0c\\x08\\x900\\xc0\\x8c\\x02F\\xd6b\\xec\\xc4\\x12\\xa3\\x1c\\xb0\\xf6\\x1e\\x81\\xaa\\xea\\xb4j\\xff\\x002m>*\\xb0\\xac\\xd5\\xa0\\xb1.\\xd6\\x91dv\\xdb\\x93\\x82s\\xb5\\x0eI\\xc9\\x05\\xb0\\xa0rN\\x9d\\xa7h:MFH&\\x82)5\\x17OLK\\xe9\\x92\"Q\\xff\\x00\\xb7\\x04~G\\xea\\xecG\\xdf\\x81\\xd6L\\xebe\\x9aHQY\\x04\\x8c\\xbdw\\xf8\\x89e\\xbb\\x08\\xc9\\xf4n\\xd9\\xd7\\xe6\\xbcf\\x87M\\xbd\\xa4AyT\\xba\\xd5\\xd4b2E\\x82G\\xa8\\xe7c\\x8d\\xc7\\xc1P\\xaa0:\\xe6^\\xd9\\xd6)\\xac\\xf3jZ\\x1e\\x8fH\\xb4x\"\\xddi\\x1d\\xe7\\xc1\\xff\\x00\\xb9\\xbe/i8\\x00\\x9eFy\\xc8\\xf8\\xeb{N\\xde\\x83P\\x8e*\\xd2W\\x8cWVV)%\\xc7*\\xad\\xc7\\x00\\x02\\x01\\xce9\\x00`\\xfd\\xf1\\xd5\\t4F\\xd2\\xda\\xcc\\x90\\xb7\\xd1\\xc4C-h\\x94\\x98\\xe3\\x0f\\x92\\x06\\x02\\xa9 \\x9f%\\x97\\xdd\\xf2:\\xc1\\xff\\x00\\xb1\\xa5k\\x01#\\x96g\\x98\\'\\xa40,\\xab\\x01\\xd5\\xbe\\xb1\\xe6\\xa94\\xcb8\\xd2\\xff\\x00\\x8c\\xda\\xd4#\\xab\\x02\\xbcq-Hv\\x88\\x8a\\x9fv\\xc0YI\\xf3\\x92\\x00\\x07\\xe4g\\xe7\\xd2\\x1f\\x85\\xf5\\xa3\\xb7\\xf8\\x7f\\xa1\\x04I%Z\\xf1I]d\\xb1\\x92\\xee#\\x95\\xd4\\x13\\xbc\\x02\\x06\\x00\\xc0\\xf8\\x18\\x198\\xe9g\\xb849!\\xb7\\xa7\\xdc\\xafdQyT\\xbf\\xa9$\\xa6\\xd5IFv\\x80eQ\\x98\\xc9\\'\\x82\\xc3\\x1c\\x03\\xc3g\\xad\\x13\\xb4t\\xcb:gli\\x95d\\x91&x\\xe1\\xf70\\x8c\\x01\\x92\\xc4\\x906\\xf0FO\\x07\\xc9\\xf3\\xd5{b\\xd7.\\xd3dB\\x91BUO \\xef\\xc0\\xb3\\x8fx\\xd0\\xec\\xe4\\xa93T\\x0e\\x9f1\\xe4n\\xee\\xd2\\xaei\\x95\\x1e\\x15i4\\xe9\\xe3\\x95J}-\\x99L2\\xc3\\x82\\x06\\xd49\\xdd\\xc8\\x19\\xcf<\\xf8 \\xf4\\x17\\xb5\\xf5]FK\\xc0\\xd5\\x99#\\xbb\\x1a\\x99`v\\x8cm}\\xa4n\\n@\\xca\\x101\\xe0\\x90s\\x8f\\x92:\\xd5\\xbb\\x92\\xa9\\xd4t\\xb9\\xf4\\xadSo\\xa9\\x9d\\xda]\\xad\\xfbwH\\xc7\\xdb\\x18\\xff\\x00xl\\xae\\x0f8#\\xcf\\x07\\xac\\xebKL\\xe9\\xf4\\x1dbX]\\x0c\\xab*\\xc4\\xbeH>\\xe2\\xd9\\xf0\\xd9\\x1c\\x8f\\xd3\\xae\\xd2\\xc9zb]\\xfc\\xf7\\xc7\\xacb\\xf7\\x80\\x8a\\x8a\\xc5\\xd8\\xad\\\\\\x8275o\\x8a_P\\xc3\\xd5Q\\n\\xc10S\\x9ca\\xa3\\xc1\\xd82F\\xdc\\xed\\xc7\\x18\\xe0u\\xd6\\xa1\\xa9\\xea\\x97V\\t\\x01\\xa3G\\xd0\\x89\\xaa\\x8b\\x14\\xe1df\\x85\\x94\\xabFp[\\x8d\\xa4\\xfcd\\x93\\x92|u\\xc4\\xf23\\xc7\\x1a\\xfa\\x89\\x13\\x0cm2&\\xd1\\x16O!\\x8f\\xf4\\x8f\\x9f\\xb6OP=\\x06\\x91\\x8c\\x84z\\x8a\\xaeV?~\\xe8\\xa4?`\\xca@\\x1f|\\xf5\\xa5rP\\x0e=\\xbd\\x99\\xbf\\x1c\\xa2\\xa0\\x97\\xacP\\x8a\\x9a\\xc4U\\xa1\\x89s\\xea`\\xac\\x90\\x80d\\xf1\\x83\\xc2\\x93\\xc7\\xdcc\\xe7=(h\\xb5\\xed[\\xd5\\xac\\xbdr\\xfe\\xb3I)\\xca\\x89\\t\\xdc1\\xc0\\xd9\\xcf%\\xbf||\\xf4\\xe9J\\x8bGe\\x1a\\xddgM\\xac=8\\xa6\\x95_\\xd5\\xfe\\xcd\\xe4\\x8f\\x1f\\xd5\\xf6\\xeao\\xc1}!/j\\xba\\xed\\xdb\\x81H\\x88\\x98\\xff\\x00\\x9b\\x0e\\xf4,\\xfb\\x89Rpq\\x90<\\xff\\x00r\\x088#\\x9e\\xedy\\xc2L\\xd9K]n\\xb9=CC\\xd6\\x7f\\x12\\x14\\x06m\\xf3\\x15,\\xe8Z\\xee\\x94\\xc6{\\xb1]\\xd8\\xb0\\xf3\\xb80*\\x84g\\xf2\\xedo \\x12\\x03\\x0c\\xe0g\\x8e\\xb9\\x86\\xed\\xca^\\xa5]\\xd6\\xa01\\xa92\\xa5\\x9aP\\xce\\xe8\\n\\xe4`:\\x8c\\x02\\xa7<\\x1eA\\x04u\\xe8x{~\\xad\\x18+\\xc5MR\\xbc\\x89\\x02\\xcd\\x17\\xd1\\xe65\\xca\\x8c\\xe7w8\\xf3\\x803\\x91\\x8c\\xe7\\xc9\\xeb\"\\xef\\xfe\\xd9\\x9b\\xea\\xea\\xd8\\x9a+)b\\xc4-\\x19W\\x95\\x02\\x95\\x897o\\x198+\\x82F\\x060G\\x03\\x1d\\'\\xd8\\xdf\\xe42\\xfbNz\\xac\\xe4\\n;\\x90\\xf9j\\xed\\x8dp\\xa7\\xacL\\xfb1\\x92\\x80\\xb5g\\x00\\xa9\\xf7.\\xa1\\x0cJ\\xcd\\xaa\\xcd4q*\\xe1o\\x00d#\\x1f\\x08\\xa3\\x91\\xce@\\xdd\\x9e\\xa0\\xd44\\xc7\\xee7\\x17fG\\x91\\xb6\\xaa\\x15XcELs\\x8d\\x9f\\x98\\xfe\\xa78\\x04\\xf9\\xeb\\x9a^\\x9duOF\\x01fG\\n\\xa6\\x18Dd\\xbbrO\\x00{G\\x07\\xcb\\x01\\xd5\\xbaztw\\x9c\\xcbj8\\x8ds\\xedU\\x99D\\x91\\x13\\x9c\\x80\\xb8\\xff\\x00\\xb8G\\x81\\x8c\\xa8\\xfb\\x9e\\xba\\xb5\\xac\\xca\\x0c\\x07!\\xbao\\x18Db\\xe2\\x9c`\\x15\\xf4\\xd1\",\\x1cG\\x12\\xc6\\x02\\xff\\x00\"G|\\x10y\\xcbc\\xdb\\xff\\x00\\x1c\\xf8\\xeb\\xa8\\xef\\xd3\\xd6\\xed4_Y5\\xabs\\xba\\x82\\x04\\xce\\xec\\xf8\\xf1\\x95#$\\x8f\\x8e\\x7f~\\xb4zz<\\x15$\\x84,\\xd1\\xd5\\xb2G\\xa6\\x95kE\\x1e\\xe3\\x9f\\n\\xc0`)\\xf9\\xc0\\xc9\\xfb\\x9e\\x89\\xdf\\xec\\xfdSU\\x0c\\x964\\x9f\\xae@\\xb8\\xc5\\x94H\\xb0<\\x12Y\\x89\\xcf\\x8f\\x8e\\x94]\\xb4%>\"4\\xae;\\xeb\\x12\\x1dF\\x80\\x98\\xcbkW\\xbfM\\xe4K\\x0c\\xd4\"\\x12l.\\x034\\x8b\\x8f\\xb2\\x0f\\xfcg\\xe7\\xc7Wn\\xcb\\xf4\\x15\\xe3M\\x1a\\x80\\xa0]6\\xce\\xd6Zdf\\xc7\\xcb3\\xc83\\xce}\\xa3\\x03\\xc7\\x1dhp~\\x1a<\\x13B\\xd0T\\xaf\\x1d\\xa5\\xc66\\xe9\\xe2q\\xb78\\xdb\\x94m\\xc9\\xc9\\xf2G\\xed\\xd4:\\x9f\\xe1\\xfd\\x94\\xb0\\x7f\\x88\\xc7\\xa1\\xb0V;&\\x96\\xac\\xde\\xd2\\x0ey8*y#\\x83\\xb7\\xff\\x00=-\\xfc\\xeb\\xc0\\x16\\xe8A\\xfa=+\\x05\\t\\xc62}6;ixH\\xd1[Xe\\xff\\x00\\xb8\\xcf\\x13\\xa4r\\xaf\\x8fj(\\xe5s\\xfbu\\xa4\\xf6\\x17p\\xa5\\x1a\\x92\\xd1\\x82b\\x1d\\xec)\\x16VT\\x92(\\x89\\xfc\\x80\\xa9o\\xe5\\xf8\\xe3\\x82\\xb9<\\xe3\\x9e\\x86S\\xed\\x1dN*\\xf3K`IR\\x85\\xe4\\xccS\\xc2X\\xd6\\r\\x9eA\\xde\\t\\x8d\\x87\\x8cd\\xa9\\xfb\\xf0:\\x19s\\xf0\\xf7\\\\\\xd3\\xa7\\x8d\\xedQMB\\x12v\\xd6\\x91}\\x16Wc\\xc6\\xdc{\\x7f\\xfe \\x93\\x9cq\\xd1\\xd6\\xb9S\\xef$\\x96;\\xeb\\xcc\\x9e1\\x04\\xc6\\xd1.\\xbd\\x1c\\x05\\x18o\\x8dL\\xa7%[\\xd3\\x06L\\x12A\\xdd\\x93\\x83\\xe7\\x80O\\x8f#9\\x15{]\\x81\\xe3#Q\\x88An\\xbb-\\x98\\xe0\\x95\\xfd@8\\x1bT\\x91\\x85\\x07nI\\xcf\\x03\\x1f\\xa8\\xeb<\\xad\\xdc\\xba\\xa5b\\x91\\xd7\\x9em.J\\x90\\x94\\x93O\\xb1\\x081\\xb0_;[\\x87\\\\\\x9eT\\xaf\\x82q\\xd7\"f\\xb4\\xf7\\xd2\\x94\\xd7\\xe6\\x92\\xc4k\\xb5\\x1e`\\xc8\\x04\\x88\\xcd\\x9f[\\x01\\xc7\\xb9J\\xf9\\xc7\\xc8\\xce\\x0fXh\\xec[:f\\x15+\\x1enu\\xeb\\x12g\\xac\\x06\\x10\\xbd\\xdd\\xba\\xbb\\x1dR\\xc9\\xafI\\x85\\x0b\\xf2\\x0fA\\x16\\xc8\\x99\\x18+\\x02!by\\x04\\x009\\'\\xfa\\x88\\xfbu\\x0f\\xd4!\\xd1\\xdcT2KU\\x08U\\x93o\\xb9K\\xcc\\xae\\xc1\\x81?\\xe9\\x18\\xe3\\xe79\\xf1\\xd1\\xfd\\x03@V\\x91\\x183\\xc4#\\x91e\\x8dn\\x14/\\t \\x89\\xa1y\\x01\\x1eF\\xd6R\\xc4\\xf9\\x04\\x1f\\x835^\\xd7\\xbdil+\\xd1X*\\xac;\\xb6\\xb2l`T\\x1c\\xb38V\\xce@\\xf2FN\\xe1\\xc8\\xf9\\xddB\\x1d5S\\x06\\xcfF\\xa6\\xfc\\xaa\\xf1K\\xe0Q\\xa2\\xe6\\x8d-F\\xfe#\\n\\xd6\\xf4\\xde{\\x89VyX\\x8czD\\xef\\x93\\x8c\\xfbUc\\n\\x80|\\x9c\\x9ezy\\xd3\\xf4\\x9a\\xa2\\x15\\x93W\\xb8PL\\x86f\\xb0\\xbf\\x96\\x19\\xa5ot\\xbbF\\x7f\"\\xe3h\\x1f*\\x80u\\x9b\\xe9z}\\xa8\\xe0\\x99Z\\x8c\\xb6 \\xb7\\x1b\\xd8YjN%B\\xd1\\xa9\\x05$\\x1eG\\x9c\\x0f<\\xf9\\xc1\\xebG\\xd1\\xe2\\x92\\x8d\\xd9\\xdbI1GR@\\xb2\\x94 8t\\n\\xfe1\\xe0\\x82\\x8a\\xc7\\xf6\\xfb\\xf4I\\xff\\x00\\xd7,\\x90j=\\xe0\\x06\\xa6\\x91\\xa4\\xe8:\\\\\\x15s\\xe8\\x16\\x9eu\\x8f\\xd32\\x12\\x0f\\xf2\\xe3A\\x18E\\xf8\\x00\\x10\\x17\\xe7\\'q\\xe9\\x93I\\xad\\xfc<\\xda\\xb3>\\xd9\\x11\\x99W\\xd5\\xc1\\xdcp}\\xd8Q\\xc9\\x19\\xc6\\x01\\xe5\\x8f\\'\\xaa]\\xbdO\\xe9\\xe0\\x1b\\xd7\\x0b\\x154\\x88\\x9cq\\x859\\xf1\\xfd\\xb1\\xd5\\xedFx\\xfdj\\xf5\\xa2\\xdaa\\x86\\xbaO\\x9f\\xd7\\x18S\\xf7\\xc8\\xe7\\x9f\\xd7\\xaf\\x8bv\\xe5\\xb6\\xed\\xf5*\\xa05=\\x86\\xe9\\x1b\\xd6\\x197\\xc8\\x02#\\xb3~\\xc4\\xd7?\\xe9+\\x99\\xed\\x10\\xea\\x88\\x8a\\xad\\xb4g$s\\xed\\xc0\\x1eY\\xbe\\xfeI\\xc0\\xeap\\xba\\xbctlIn\\xc5;*\\xc1\\x91b\\x8d\\xdb\\x08x\\x1e\\xe7\\x03\\x8cg\\xf3(\\xf6\\xf9\\xf1\\xd7:\\x02\\xa2\\xc5l\\xab\\x00\\xec\\xf1&|\\xe20\\t\\xf3\\xf6/\\x92~\\xf8\\x1d\\x11%\\xe6\\xd3\\xd5K\\x88\\xd9^O\\xca8\\x07\\'\\x1f\\xb7\\x1f\\xf9\\xeb\\x9b\\xb1\\x15\\xad)\\x9c\\xb5c\\xa6\\x03\\x96m\\xa9x\\xd5\\x9e\\x12\\x82P\\x91\\xf7\\x0b\\x9a\\xbd\\x8bPVHj-z\\xb2F\\xe1^\\x1bJ\\x1a9>v4\\xab\\xc2\\x16\\xf8b\\x186\\x00>F\\x18\\xfb\\x1dbm\\x0b\\xf9P\\xed\\x02\\xc4\\xc0\\xc2\\xd8>\\x81\\x0es\\x18 \\xe3\\x00\\xff\\x00\\xe7\\xa0\\x12\\xc8R\\x08RD\\x88\\xca\\x04\\x91O\\x85\\xcbE\\x12\\xc6e@0y\\xe0\\x05\\xf7s\\xe3\\x1d\\x17\\xed\\t\"\\xad\\xa4<\\xd5O\\xa6\\x97l\\xcdd\\x85n\\x0b3\\x9c\\xb0\\xfbg\\x19\\xc7\\xeb\\xd7k9aV@\\x02Z\\xa3\\xe7\\xe8\\xb3\\xd5\\xb3\\x84,i\"\\xd0k\\x97\\xc8\\x8c\\x03\\xba\\xa8\\rG\\xf8\\x82\\xcb\\x1c\\xa9(\\x18\\x99]\\x19#\\x0c\\x06\\x06H\\xf9\\xc0\\x04\\x91\\xe0\\xa9`3\\x8c\\xadk\\xfaI\\xa7\\x1d]j\\xbbY\\xb7\\xa7\\xdaU\\xdf\\x1c\\x90\\x83$\\x16\\x00\"Ev\\x04|\\xa99\\xc7\\x93\\x90pzx\\xb7ikX\\x96\\xa6\\xa0\\xb2\\xc8RF\\x8aGQ\\xba7bp\\xa1\\x89\\xfc\\xa79 |~\\xddT\\xb9P\\x9b~\\x9d\\x9d-\\xeeE4BI^\\t\\x0e\\xf9bS\\xb5\\\\7\\n\\xb3.\\xdcn\\xc8\\x0cF3\\x9c\\x13\\xdf\\xca\\x98l\\xca\\xef\\x0f\\xfa\\x9c[\\x8ec\\xd3\\x93V\\x95\\xc4\\t\\x0b\\xf0\\x81]\\xd3y\\xfae\\xb5,\\xd7\\xbd:\\xd8\\xd3\\x15\\xad\\xd9$\\x95\\x85dm\\xc7\\x07/\\xe9\\x9e\\x1e7Q\\xe5X\\x10\\x7f~\\xa4\\x96\\xd2\\x9a.\\xd4\\xe7\\xc2I6\\x04\\x13V/\\xbb\\xff\\x00\\xd4\\x14\\x81\\xf3\\xf9\\xb1\\xfb\\xf4\\xd5\\xaf\\xfe\\x1d\\xd3\\xd4\\xa1i;f\\xcf\\xbf \\xd8\\xceU\\xfdS\\xc7+\\x80\\xf1?\\xc6@<\\xf0x\\xe4\\xacG\\xdb=\\xcf\\xa3\\xc0i\\xda\\x82\\xfd\\xc5}\\xd8\\x91\\x11\\xe5\\x9a\\x16\\xf3\\xee\\t\\xbb8\\xc7\\x92\\xa3\\xfb\\xf5\\xa9*\\xd2\\x99\\xaa\\xf1o\\xaeG\\x1c\\xfe`jM\\xd1H\\x1b\\xa7\\xfar\\x1d\\xb1\\xa4a\\x13;\\x83@K3`\\x9fn\\xef\\x1c\\xe0\\xfe\\x9dK\\xf8O\\xdc\\x1f\\xc0\\xf4\\xbdH\\x97\\xb4\\r\\x89\\x17\\xd5XH#\\xc0\\xce\\xe5<\\x1e\\t\\xe7\\xed\\x91\\xf2z\\xea\\r\\x02\\xcd\\xb9\\xa1\\x9e\\x95k\\x16DR\\x92\\xc6G\\xfe\\\\g\\x07!\\x96E\\x04\\x1f\\xdc\\x9c\\xf5\\x0ff\\xe9\\xb1\\xe9\\xbd\\xdb\\xacv\\xee\\xae\\xfe\\x8c\\xd0$\\x92@\\xa1W\\x13awp\\xcd\\xf9p\\x84\\x10q\\x923\\xd2\\x9d\\xa0\\x99\\x13\\xa7\"\\\\\\xea\\xa4\\xb8<\\xdb\\xe6\\x0b(\\xa8!E8\\xd0\\xf4\\x8df\\xbf~h\\xae\\xd2W7\\xe2\\x92\\xa1,\\xaaBM\\x97\\xe3\\xcaG\\x81\\x8ex\\xc7>N>\\xfd!w&\\xb1\\x1ft\\xea\\xb0\\x8a\\xf5+\\xd7\\x9e\\x08]\\xe3\\x8aY0\\xcf\\x0e\\xfc\\x86l\\x92#Q\\xf7\\'\\'\\xe3q\\xe3\\xa6\\xca\\xba\\x06\\x9f^|\\xdd)\\'\\xa0\\xa1\\x8ct\\xe94\\xce2p}I\\xdb\\x11\\xe7\\x8e\\x02\\x81\\x8f\\x9c\\xf9\\xe8\\xdcz%d\\xb0+\\xe8\\x1auj\\xc9`\\x16\\x9aW9d\\x1f2Js\\xeel\\x0c\\x8d\\xc4\\xe3\\xed\\x9e\\x96\\xb1X,=\\x990\\xcc\\xb3#\\xc5Z\\x92O\\xefW\\xacVd\\xf9\\x93C,\\xc2]]\\x1d\"\\xd2`\\x17\\x84\\xe1\\xb7\\xee\\xb1\\xeb\\xcf\\xbbj\\x1c\\x04S\\x18\\x1bT\\xb1\\xe5T\\x9c\\xed\\x03!\\x7f\\xa8\\xdczr\\xa1\\x94l\\r$\\'\\x06FL\"}\\x80\\xf1\\xea\\x11\\xf7$\\x0f\\xb0\\xf8\\xe9\\xa5t\\xf8)AJKS\\x9d\\xf1Hvn\\xad\\xb7\\xd1\\xe3\\x99\\x12\\x12O\\xbd\\x89\\x1e\\xf9\\x0e@\\xe7\\n0:\\xa1\\xfc>]SQ\\x86\\x11\\x08\\xd4\\'\\x0e\\x1b\\x12JXm\\'\\xe4s\\xf1\\x8eH\\xfdy\\xc6:\"\\xad*ZJ\\x91\\x87\\xbe\\xf8\\xf4\\xd4W\\x18\\x80\\xa3\\x1cv\\xc2Rif\\x92M.k\\xd6\\xb6\\xfb\\xda9\\xd65Q\\xe3\\xdcx\\x03$x\\x07\\x1f\\xdc\\xf5kQ\\xeev\\xa1e\\xa9\\xd2\\xb9_Kx\\xdc\\x07\\xafJ/\\xa8u8\\xcf\\xb9\\x8e3\\xc1\\xf0\\x0fB\\xb5\\xde\\xfa\\xed\\x9e\\xd3\\x92Ju\"\\xaf~\\xec@\\x99\\xc4)\\xea$XRN\\xe9_\\xda8\\x07\\x00r~\\x01\\xe9-\\xbb\\xa6^\\xe5\\xb7-\\xe9\\xea_\\xad[vK\\xfa\\xe5So\\x82\\\\/ x\\x18\\xfd:E\\x16EZ\\xa6\\x9e\\xf5\\xee\\xe8\\xf9\\xea\\xd5\\x1a\\xf9\\xc1\\xbb\\xce\\xe9\\x1e\\x01]a\\xe6\\rb\\xff\\x00\\xac\\xc2\\xee\\xbd\\xa5\\xb4r\\x1c\\x95\\xd44\\xb9#\\x90\\xe78 \\xfb\\xf1\\x9f\\xb8#\\x18\\xea\\xfd^\\xeb\\xd4\\x8c\\x12\\xe9\\xed~\\x8d\\x91\"4h\\xaf*\\xa0a\\xf9N\\xd7*\\x87<\\x8e\\t\\xe9\\x06\\x8c\\xb3\\xddv:V\\xac\\xd9\\x91\\t\\x8dUU\\xd4\\xa8\\x1c\\x96\\x8d\\x94\\x921\\xf3\\x93\\xfa\\x1e\\xae\\xe9\\xafsK\\x9a{W\\xa4\\xb541\\x8fRZ\\xe1\\x14\\xb2(\\xff\\x00\\xdc\\xac\\xe5H`FO\\xa6\\xe0\\xe7\\xe0\\x8e\\x9b6K\\xa4\\x90]\\xb2q\\xf5H\\x819\\xc33A{Q\\xda\\xed\\xb9\\xa2\\x8a\\xca\\xea]\\xbbn\\xd4\\x7f\\xf4\\xb3\\xd8\\x84\\xfa\\x16$bHS2\\x9d\\xad\\x9c\\x1c\\x82\\x15\\x80\\x1cg\\xe6\\xc4\\x1a\\x85\\x8b\\xb6\\x1a\\x9d\\xbd\\x1a*\\xad4\\x81l\\xc1Z\\xca\\xfaV\\xe2-\\xb7n\\xc7\\x1bKn*U\\xbd\\xae\\x0f\\x1f\\xdb\\x8e\\xd1\\xb9Z\\xd5\\rG\\xb7\\x1e!\\xaa\\xd3\\xb0E\\xea\\x91\\xc3a\\xa4\\x8a\\xe5Bp$\\xaf\\xbc\\xee\\x8d\\xd4\\x8cl\\xfe\\x97\\xca\\x9e\\x18t3S\\xd1\\xb5ZV\\x9e\\xbcv\\x7f\\x8b\\xd6\\x91\\x1a1\\x05\\x80\\x15g\\x8dXe\\x83\\x0eU\\x8a\\xb2\\x93\\xf6*\\xdf)\\xd3)e\\x12\\x92k\\xf1\\xbdM5\\xc5\\x86A\\x18E\\xfe\\xfc\\xed]+\\xb8%ZK]\\xe6\\x9d\"0\\xb4v$\\x02\\xc0\\x9a?q\\x0cI8\\x93`\\x0c\\x06}\\xe3\\x95\\xce\\x186T\\xe2\\xd5+RU\\x9aIf\\x89\\xd5jE5s\\xe9\\xc8r\\xe1\\x91\\xd1\\xbcn\\xe1\\x08\\xceU\\xbe~z\\xd5\\xf4\\xbe\\xe1\\x9axF\\x9e\\xec\\xdaopi\\xf3@!\\xb50\\xc8\\xbd\\x00S\\xe9\\x87\\xfb8B\\xc8N\\x0f\\xc1\\x1f\\x03\\xa5\\xde\\xf7\\xd1\\xa3\\xb3\\xab\\xeaV\\xf6=y\\xd1\\xa2\\x96Tb\\tV\\x07!\\xb8\\xf9R\\xa4\\xf1\\xc7\\xbc\\x8f\\x18\\xeae\\x8b\\xde\\x05i\\xd7C\\xe5^\\xb1w\\xbbXy\\xed].\\x03\\xa7\\x9dB\\xb4m\\x05\\xa9\\xa1D\\x9ax\\x95C\\xab\\xa0\\x01#\\x01\\xb2\\x00,\\xc7\\x1f8\\xcf>:bn\\xd6\\xd4iT\\x92\\xf4R\\x96H%o\\xe7<\\x8c\\xbb\\xf9\\xc3\\x86o\\'\\xed\\x9eT`\\x8f\\xec\\xb3\\xda\\x1a\\xfd\\xa8jYi\\x13\\x13Vt\\x99\\xe4\\x88\\xb3+F\\xac\\xc3;@\\xe3\\x8c\\x83\\xc7\\x83\\xfb\\x87Z\\x9a\\xc3\\xdf\\xae\\xf5\\xed\\xc5^\\xab\\x05292#\\x06\\x8c>\\xf1\\xef8\\x00\\x16\\xc1\\xc9\\'\\x03 \\x02O\\\\\\xb5\\xacZ\\x85\\xb1M\\x99bN\\x98\\xb8=\\x07XfQ\\x94e\\xd63}v\\xbc\\x14%MI+\\xd9[+;\\xa5\\x91\\x02m\\x12\\xb0Ee\\x96#\\xe3<\\xaf\\xb7\\xfa\\xb0\\xea~3\\x17lM\\xa7\\xc3f%\\x96,\\xd1v\\xdav\\x06C\\x16@G`\\xbf`\\xdb\\x1c\\x8f8c\\xf6\\xe9\\x8b\\xb9&2\\xd3\\x9dac\\x12K\\xe9\\xc0\\xac\\xb9\"&\\xc7\\xf4\\xe7\\xe4g?\\xdf\\xa4\\xbb\\xe6\\xde\\x89-SZX\\xabY\\xf5\\x96X\\xe4p\\x19%$\\x14d\\x90\\x1eT\\x9c\\x8c\\x1f\\x1c\\x80s\\xd7]e\\xbf>\\xcbp\\x8c\\x88\\xde\\x91\\x9c\\xa2\\x02\\xe8c{\\xd2{\\x86\\x07\\xd3&\\x9e\\x19l\\x9a\\xb4=?\\\\\\xae]\\x8cR\\xc6\\x0e\\xe3\\xf2B\\x12s\\xf2=6\\xf3\\xd1\\xcdV\\x94\\x93\\xc7\\x0c\\xb197+E\\xb5\\xc2\\x0c\\x89\\xa3\\xc9\\xf1\\xe7\\x91\\x8c\\x8f\\xef\\xfa\\xf5\\x8c\\xd2\\xd5\\xefi\\xd6\\xe4\\xb7\\xa1YXhZ\\x10\\xca\\x8ba\\x83A\\x1c\\x80\\x15x\\x98\\xb6\\n\\xee\\x07o\\'\\x19E\\xf0J\\xb7Z\\xa6\\x93\\xac\\xb5\\xa8\\xab4\\x90\\xcbW\\xd7\\x85_\\xe9\\x1c\\x8d\\xf0\\xe0\\x8c\\xba8>\\xe4\\xf1\\xe3\\x9d\\xa4\\x1f\\x1d|\\xbb\\xb7;-\\xd2U\\x88W\\\\3\\xd1\\x8b\\xd7\\x01\\xc9\\xce\\xcd\\x8a\\xd2R\\xa04\\x81\\x945i4\\xfbL!\\'\"?z2\\x9d\\x8e\\x87\\xe3?\\x07?\\xf2:\\'6\\xbd\\x1b\"\\x98\\xa1j\\xea\\xd1\\xb38yT(+\\xe0\\x93\\x8e>s\\x8c\\x1e\\xa6\\x93O\\xd2\\xf5kr4\\x16\\x1e\\xb5\\x95\\xcbJ+J\\xa7\\x1c\\xf2J0\\xe3\\x9f\\x8c\\xf5\\xf2\\xd6\\x8f\\xa5$\\x91a\\xcd\\xcbE\\xf6\\x81 iO\\xe9\\xfc\\xb0pO\\xdb8\\x1d|\\xf6U\\x82\\xdb-]\\xd4\\xb5\\x86\\xe3\\xf4\\xc5\\xb7\\x8ct*\\xb4HP\\xbc\\xb1\\xbe\\xa2\\x06\\xe9\\xa2S\\xa6\\xd8\\xd4e&\\xbd\\x9b\\x0c\\xf3\\x99Z=\\xb1\\xc3\\x1e\\xd0\\xa9\\xea\\x1epJ\\xa8m\\xbf\\x9b\\x04~\\x9d4\\xf6\\xc1kzcI\\xe8\\xbb\\x113\\xae\\x02,{\\x008\\nTp\\x0e1\\x91\\xf0I\\x1ezR\\xd5\\xecARj\\xc4\\xc1%\\xbdJ\\xbb2T\\xa5%\\xe1\\x126\\xd0\\\\\\xcb1C\\xb5q\\x80~\\xf9\\xc0\\xf8\\xcfE?\\x0e5\\x08\\x8e\\x83;z\\xdf[3[\\x90\\xce\\xd1\\x02bI0\\xbb\\x92>\\x7f(\\xf1\\x9f\\x93\\xb8\\xf3\\x9c\\x9e\\xf9VS\"\\xc03f\\xae\\xb8\\xd7?\\x8a\\xd0=LfY&\\x89\\x96\\xd2p\\xa1\\xa6\\x91\\x92\\xdf\\xaf\\xe9\\xdd\\xd4\\x85\\xbb\\x0c\\x86\\xcb\\xb23\\xb4D\\xac\\x87\\x04\\xbe>\\xe3\\x040\\x03\\xc1\\x1c|t\"\\x8fs\\xdb\\xec\\x98\\xa4\\xab\\xabA$\\xfa5\\xe9\\xb2\\x04\\x84\\x0co\\x1e\\xdd\\x92\\x7fm\\xbc6\\x0f\\x04{\\xb1\\xd3f\\xb5!\\xaf\\xaa[\\xac\\xda|\\xf6\\xab\\xea\\x0e\\xb2@c\\xc7\\xa6\\x8cA\\xf7\\xe1\\x8f\\xb7\\x07p\\xe3\\x1f\\x19\\x189\\xea\\xbcZu\\xbfB\\xe3D\\xb1\\xdf\\xad\\x1eRJ\\xad\\t\\xb0\\xbb\\x7f\\xf73\\x1f,\\xad\\xe3+\\x83\\x81\\xc8\\xc8\\xcf]\\xec\\x89\\xa9Z\\x06i p\\xcb\"0#\\xd0\\xf9\\x18\\xe7\\xe6 \\xa1j\\xf3\\xdfX\\xee8(\\xc4\\xedk\\xb7\\xa5Hg\\xb1\\xe2\\x7fM\\xd1\\x82\\x8cr2A\\xfbe\\x0f\\x1e8\\xc7Ud\\x9a\\xf3\\x99?\\x8a\\x89n\\xce\\xa4\\xaa\\xb8s\\x0b\\x0c\\x8c\\x81\\x9f\\xb7\\xcf\\x8f\\x9e\\x97\\xd7\\xb2V\\xb4S\\xff\\x00\\t\\xee[Z~\\x99v`\\xe9\\xa5\\xdf\\x82;\\xb5\\xc2\\xe7\\x81\\x1b6\\x19@\\xc7\\x03\\xe3\\x1c\\xf8\\xe9\\x9b\\xb6\\xf4\\xcb:>\\xc8\\xe7\\xbau\\x08\\xdaL\\xca$\\xcb\\t\\x0e\\xec\\x8d\\xbf\\n0\\x0f\\x83\\x9es\\xd3\\x06T\\xb0\\x18\\x07\\xe1\\x87:S\\xf3\\xa4z\\xfa\\x95\\x9c\\x0f\\x8e\\xcd\\xbd^\\x84\\xd3j\\xd2\\xd1\\x82\\xb5ef\\xd9\\xf9\\xcf\\xa67e\\xf7\\xbb\\xedU\\xf6\\x1fv\\xdc\\xf0q\\xd7\\x9f;\\xfbX];\\xf1\\x0e\\xfe\\xa1\\xa4XA-\\x1dB1\\x15\\x88\\x18\\x90LJ\\xaaYX\\xfce\\x18g\\xe7\\x9f\\x83\\xd6\\xbc\\x9a\\x9bY\\xecN\\xe6e\\xf5\\x92JVuX\\n\\xe0\\xfa^\\xd9\\xe4e\\xf6\\x8e?#\\x01\\xff\\x00=y\\xee\\xf5p\\xeba\\xe3Eq\\x13\\xa0P\\x0epY\\x88\\x1c|\\x8cg\\xac\\xab\\\\\\xcb\\xc8BZ\\x8c\\xff\\x00\\x10\\xe4\\x94]*9\\xbb{\\x18\\xf5\\x84\\x1a\\xd5\\xadj\\xad(\\xa8nM:\\xe5X\\xad\\x15\\xa0\\x88\\x8ew\\xc6\\xad\\x82\\xceH\\x8dF\\xe2\\x0b\\xb1c\\xc6y\\xce:\\x92\\x85\\xfa\\xba{\\xd9\\x92\\x19a\\x8e\\x15 9\\x8ab\\x1aW?\\x965\\x04na\\xfe\\xec\\x0f\\xbe9\\xcfC{b\\xacm\\xf8w\\xdb\\xe3V\\xbb$P.\\x97S\\xd4i\\xe4)\\x14`D\\xb9\"<\\x8d\\xcc0A t;\\xb9{\\xde\\xa6\\x91=M\\x03\\xb6\\xeaO\\x1d\\xc2>\\xad\\xee\\xbcjZ\\xb4n6\\xfdD\\x84\\x8cF\\x08\\x00\"\\xf9\\xc1\\xce\\t#:)@\\x98\\x94\\x85T\\x16\\xeb\\x9e\\xc5a2n\\x92\\xd9oyA\\xad2\\xa4\\xda\\xcc\\xb6\\xc4\\xa2i\\xacE &8\\x11X\\x8c\\xf3\\xc2\\x93\\xc1\\xc1%\\xb3\\xc8\\x03$\\x8e\\xa9w\\xef\\xf1\\xcd\\x1b@\\x96\\xbe\\x9cc\\xd1\\xabz\\xa29#H\\x8b\\xb9\\x91\\xb3\\x86vL\\x90\\xb8V!\\x88\\xc7\\xef\\xe2n\\xc3\\xee\\x16m3}\\xe6\\t\\xed\\x97\\xd2f_m\\xc8\\xe7y7M\\xe9\\x90\\x18\\x06\\x0f\\xb0\\x16\\xdb\\xbbh\\xc2\\x8c\\x1e\\xbew\\xce\\xae5\\n\\xf6(\\xdf\\x9a#b\\xc1(\\xd5\\xa9\\xbe\\x196\\xe3\\xe9\\xd1\\x87%p\\x81\\x9d\\xb2r?\\xb0\\x19U3mk\\xb6\\xf7w|\\x1e\\x9b\\xce\\xa2-vP\\x97y\\xeb\\x19?evRk\\x13\\xad\\xcdB\\x0c\\xd4\\xa4\\xce\\xd0\\xc3+\\t\\x1ei0Y\\xe6\\x91\\x81 \\x10\\xab\\xc0\\xc9\\xe3\\x92|u\\xa1\\xff\\x00\\r\\xa7\\x1cQ\\x18\\xab\\xee\\xa7_\\xd2\\xb0d|\\xa4*\\xf8\\xdc\\xa8\\xec\\xdc\\xb1\\xf0YG\\x81\\x9c\\xfd\\xba\\x8fN\\xaf>\\x96\\xbaP\\xabR\\x08h\\xa5\\x96\\x8dBC\\xed&L\\xb3\\xb7?dI\\x06\\x7f\\xdf\\x8c\\xf9\\xe8\\x8bHji\\xf4\"\\xad4\\xf5k\\xc7Zb\\xcb\\x13\\r\\xc8\\xa6B\\xdb\\xf7\\x1f\\xcb\\xc6\\x07\\x1c\\xfb\\xf8\\xfb\\xf5\\xa6AH`i\\xf3\\xfa\\x19E?\\xda\\xa6;\\xbf\\xa0P\\xd5\\xecA~]\\x0e0f\\xdb\\xf4\\xf3$\\xafV8\\xe6$\\xa8\\r\\x8eb%\\x94\\x80\\xeb\\x82\\xa1\\xd4\\x958\\xe2\\xb6\\x9d\\x1c\\xe3\\r\\xab\\xa5\\x855\\xd3}y&E\\xf5\\x02\\x12\\xd8Y\\x00\\x18\\xf5\\x17k+\\x81\\xed\\xdc7\\x00\\x03\\x11\\xd1z=\\xc2\\xb1\\xae\\xa1N\\xf5H&\\xa5n\\x7f\\xacX\\xb3\\xb5$\\x8e\\x00\\xee\\xaa\\x8a|\\x12\\x81\\x89\\'\\x93\\x91\\x9eFz\\x17\\xa9\\xc4\\xf4\\xb5\\xea\\xb5\\xfe\\xa2\\xd4\\xf5\\x9a\\xcb\\xcd<\\xc4{\\xecW\\x92\\'1\\xe7>X:H\\xa5A\\xe4\\x91\\xf3\\x83\\xd4\\xc9*\\x96\\x0c\\xb5e\\x87\\x96\\x1a\\x9f(\\x85\\x00\\xb0\\xe2*\\xdf\\xd3\\x1bE\\xac\\xff\\x00N\\x8fQ\\xea\\xcdWU\\x8f\\x19\\x00/\\xaf\\xe9N2<\\t\\x11\\x89\\xc7\\x8fq\\xfbtfj\\xb7\\xff\\x00\\x86W\\xb5\\xa7J\\xf2>\\x9f\\xa84\\xb0+\\x96)$s7*\\x07\\x82\\x08/\\xcf\\xc6\\xec\\xf5\\x1dF\\xbd\\xad\\x83\\x0c\\x86ET\\x11i\\xf5\\xdeDm\\xf3\\x89\\x9c\\x07$\\x13\\x8c,q\\xb3\\x01\\x9c\\xf9\\xe9\\x82\\n\\xf7+GE\\x14C^(Z\\x18\\xa3J\\xe3\\x89A\\xaf\\x89F\\xd1\\xe0\\x87r@\\xf8\\xc7\\xe9\\xd5\\xa6QF\\xf6\"\\xbe\\x9fG\\xd6!&\\x8e!3\\xbd\\xfbn\\xccv\\xac\\xda\\xa3RK3\\xe9p\\xd6\\x91f\\x8b&\\'\\xd9)\\xf5\\x17?$\\x02\\x7f\\xb6\\xce\\x97g\\x92MGWz\\x17\\xe7ilM@KNV\\xc9oH\\xc4\\xcc\\xa1\\xcf\\x92\\xc1Lc?a\\xd6\\x93\\xaa\\xde\\x15;v\\xcc\\x93\\tR\\x08\\xe1\\x9c\\xc3\\n\\xcb\\x9fVI?\\x94\\x81W\\xcb3K\\'\\x03\\x1c\\xe4u\\x9ai}\\xbbm;\\xa6\\xb6\\xb7bu\\xb3\\xf4U%\\xab/\\xa2w\\xa0\\x95\\x1b\\xd1\\x10\\xa9\\xcf\\xb8\\xfaq\\x82~=\\xc3\\xa2IZ\\xc8lr\\xfb\\xf6\\xeb\\x167X\\x98\\xfd\\x06\\xa0\\x16j~\\x8c\\xaa\\xcd\"\\x98\\xf0\\xbb\\x99\\x11\\xc6\\t\\xf7(\\xca\\x96\\x03?\\xb1\\xc8#\\xab\\xf2k\\x92Z\\x10U\\x96\\xccu\\xb18;\\x84\\xad  \\x13\\xc1OMG\\xf6\\xf3\\xd0\\xab\\xd5\\xe4\\x92D\\x9b\\xf8\\x8a$\\x81\\xb0c\\x8d\\x1c:\\x9f\\x1e\\xd3\\x13\\x02\\xc3\\x07\\x18\\xc9\\x03\\x9cs\\xd1\\x15\\x92\\x05\\x847\\xa9\\x19Tq\\xea7\\xa4\\xfb\\xb8\\xf1\\xb8\\xb6[\\x07\\xe4\\xe0\\xf4\\xeaW-g\\xc47\\xf2\\xdc\\xa1b\\x96\\x14\\x831\\xde\\xd2\\xac\\t@d\\xb1\"I\\xbaY\\x98,\\x0419\\xe1Td\\x0c|\\xe7<\\x0ex\\xe8m\\xfa\\x7f\\xfa\\x84\\xc6k\\xcb^\\xe0O\\xe4,\\xb1\\xce\\xac\\xce\\xd9\\xc8\\x85\\xff\\x00l\\xed\\'\\xc9\\xf9\\xc8\\xc1\\x9a\\xae\\xae\\xcd\\x13\\xd7\\xa9\\xa8\\xecU}\\xb8hc\\xde\\x839;IP\\xc3\\x8c\\xf0\\xd9\\xe0\\xf4*\\x1a+<\\xf3\\xd8\\x94(\\xb74\\x84J}5A2n\\xfe\\xa0\\xb8G\\xc8\\xc7\\xb9\\x089\\x18`\\xa7\\xa1\\xa5l\\xbaS~ze\\x1ej9\\x83:t\\x10\\xdd\\xa6\\xf4\\xaezU\\xec\\xc6\\xd25fP\\xdbl\\x7f\\xf9\\x91N\\x9eC\\x929\\xe3\\xed\\xf23\\xd3\\xc5>\\xf4z\\x10V\\xd3\\xe9V4\\xe2\\x86<\\xc6\\xb0\\xc6f\\x8dX\\x0c\\x01\\x1a\\x92\\x1e3\\x9eH\\x04\\x8f>\\xdeOI\\xf7h\\xcf4rW\\xb9?\\xac\\xb1 x$\\x99K:\\xa9\\x00\\xa8\\xde\\x9e\\xe2\\xa4s\\x9eH?=t\\x85\\xf4\\x9a\\xcb5\\xcbI\"\\xca\\xa3\\xd4[3\\xfb\\x98da\\xbdH\\xf2\\x8f\\x828\\'\\x9f\\x19\\xe7\\xa0M\\xb1J\\xb5\\x00\\x17]4|i\\xf0\\xf4\\x07\\x06\\xa4@\\x9a\\xa4\\xd51\\xa7\\xe9\\x7f\\x88\\x0f\\xa9*A\\xa9\\xbc\\x0fd(\\x0cv,K/\\x1c\\xa9G\\xe0\\x1c\\xfc\\xa9\\xcf\\x1f\\x97\\xa1i\\xdd\\xf2$R\\x7f\\x15\\x83O\\x91\\xf0\\xcac\\xd3uFFt\\xf8\\x0e\\x08\\xf7\\x1f\\x1e\\x0f\\xcf8\\xe9&\\xd6\\xa8\\xb7\\xd9b\\xb3\\xaaV\\x95\"\\x94\\x1a\\xcd\\xf5\\x1b\\x8e\\n\\xfe]\\xc79?\\x19\\xfb\\x8e\\x86\\xdf\\xa9ZmR\\x18nj\\x95#\\x86i\\x00\\x8a\\x84\\xb4\\xc4\\x92\\x15\\xc6\\n\\xfa\\x9bFr|r>>\\xdd!\\xff\\x00\\x19e\\x94\\xb2\\xa4\\xa4\\xe5\\x85\\x07\\xfeb\\xe2l\\xc5\\x0b\\xa4\\xc3V\\xa5d\\xda\\xae>\\xa2\\xa4I\\x0bD#\\xf4\\xe9D\\x030\\x19\\xf9\\'\\x92s\\xc9\\xfd\\x0f?m#\\xf0\\xcbQ\\x8cv\\xc0\\x8e\\xf3\\x1a~\\x94\\xee\\x90\\xc0`\\x8e?N0\\x06\\x07\\xb3 \\xfc\\xf2I$\\x93\\x93\\xf6\\xc5\\xff\\x00\\x88\\xe9\\xf4\\xde\\xcczN\\xa1R\\xa5u;\\x1e\\x1a\\xa8f\\x98\\xb18U\\x8fr\\xb2\\xa1\\xfd\\x15\\t9\\xfb\\xf5\\xb9\\xfe\\x18Ga\\xbb]\\x7f\\x88\\xc5d\\x91;\\x88\\x8d\\x98\\xdcHS\\x8f;\\xbd\\xdewy\\xc7\\xf6\\xeb\\x17\\xb7\\xd2\\x94\\xd8\\xd988\\xd8\\xfd\\xc6\\xc7d?\\xf2k\\xa4d\\x1d\\xdf\\xdd\\x92i\\xdd\\xd7b\\x9bV\\x94\\xc0\\x11#Y!\\x90\\x17\\x07\\x01\\xb6\\x94p\\x15\\x80\\xc9\\xe4g\\xce1\\xd1\\xe8{\\x83G\\xd4^\\x07X\\xa26\\xd60\\x167\\xb1\\xe8H\\xa4\\xb6\\x06\\xd989\\xfb\\x06V\\x19\\xff\\x00OJ\\xdd\\xe1\\xa6G\\xdc\\x1f\\x89MPS[\\xb2m\\xae\\x8d\\x1f\\xaa\\xf1)\\xca\\x00\\xa6C\\x9c\\xa8\\xdcFY@\\xe3\\x1c\\xe7\\xa6n\\xe3\\xedJ\\xd4\\xb4\\xb9\\xee\\xe9\\xf3\\x0b\\x8dM\\xbe\\x9d\\xe0\\x08D\\xa0\\xb2\\xe4:\\x0c\\x12\\xf1\\xe47,K\\x0e9\\xc8#\\xa7l\\xea\\x92\\x8b<\\xa0^\\xf2\\x92=\\xb9S\\x9bi\\n\\xcf\\x0b3VF\\x00\\x9fx!\"\\xabKb+~\\xb4\\x89\\x95c\\r\\xb8\\xd42\\xb19;\\xce\\x08l\\xfd\\xff\\x00\\xe7\\xaf\\x92\\xea\\x15\\xe9\\xc8\\x19R8\\xf6`\\xc7\\x142*.s\\xfd\\xb2~\\xdde4\\xae\\xeb\\xb3\\xd8\\n\\x9a\\x84\\xed\\x00\\x93\\xfe\\x9d\\xfdh\\xca\\x91\\x9f\\xcb\\x8eH\\xe4\\xe3\\x1eG=8\\xd7\\xd15}B\\xba\\xcbb\\xf3\\xd6\\x8am\\xec\\x91#\\xbb>@\\xfc\\xdb\\x00\\x00\\x03\\xe7\\x928\\xcf\\x83\\xd3\\xb3L\\xab*G|@\\x7f2O\\x90\\x03\\xaf\\xbdaPJ\\xc9\\xbb\\x18\\xdd\\x8dy\\xb4K}\\xf5\\xa2\\xc6TW\\xbdzg\\x88z\\x81\\xfd\"K\\x96\\xe4\\x1c\\x1c\\xa9\\xc1\\xfd@\\xfdz\\xcf\\xe4\\x8b\\xd7\\x9fcH\\x11]W9\\xf00O?\\xf3\\xd1\\xae\\xec\\xd2\\xaci\\x1d\\xcdv\\x9d\\xdd\\x8b8\\x9c\\x89\\x00}\\xd8\"=\\xc0\\xfc\\xe7*\\xea?n\\x80\\xc9*\\x95Rp\\x14o\\xe0\\xe7\\xcex\\x1f\\xbez\\xe7T\\xa0\\xec9z\\xc6\\xbd\\xdf\\x0b\\x8d\\xe1\\x1a\\xe7\\xd5\\xd3\\xee=/L\\x8fUk\\x11W\\x87NI\\xbd#q}&\\xda\\xa3;\\xc8\\xc6\\xc8\\xc1\\xf9nI\\xe0\\x02\\x06zW\\xee\\xf8e\\xbb\\xa8\\xcf^\\x9cz\\x85*Pz/,\\xce\\xd8\\x84\\x0cf=\\x8a\\x0e\\xe9\\xdd\\x8e\\x02(\\xf1\\x91\\xc0 \\x91\\x1fh\\xd8\\xb5<-N?H\\xadz\\x86FY\\xe1\\xf5\\xf0\\xe9(\\xf7\\xaag\\xdc\\xc0\\x05\\x00\\x7f\\xc8\\xc6C7lA6\\xaf\\xa3\\xad\\x9bN\\xf7\\xa4\\x17\\x1aD\\x9ep\\xb2IU8\\xf7\\x02\\xa3n\\xf6\\xc7\\xe5]\\xd8\\xff\\x00-\\xd7K!]\\xfc\\xa0\\x91J7F\\xf9\\xf9\\xf3\\x8c\\xd5\\x8e\\xe9d\\xee\\xbb\\xde\\x11\\xcdk\\xba\\x99\\xf5\\xe1\\xd2\\n\\xe9z\\xdd\\xb7\"f\\xb8\\xf9\\xb3,J\\xbf\\x9cm\\xfc\\xc1y\\x05C*\\x83\\x91\\x92\\x03\\x1e\\x8a\\xe8u\\x97\\xea*\\xc0\\xf1\\xb4\\x93\\xc5\\x11 \\xc43\\x1cK\\x82}I\\x08\\xc0wf\\xc9\\x1e\\x018\\xc0 \\x03\\xd5}/\\xb3a\\x8fU\\xb3fY\\xa5\\xd4oN\\x0f\\xa8QK\\x16\\xe7\\x84\\xca\\x9c\\xe3?\\xd0\\xa4\\xe4\\xe0\\x12p\\x00m\\xd2\\xfbKT\\xd3\\x87\\xd4j\\x15\\xeaz\\x84\\xb1\\x10=\\xc8\\xfdS\\xf0\\x7f\\x92\\xa4\\xb0l\\x13\\xc7-\\xd3\\xce\\x10\\x92f\\x1a\\xe5]\\x88UE\\xe8\\x98n\\xd0\\xe0\\xcf\\xd4KXE\\x14v\\xd2\\x04\\x82\\t\\x88\\x90\\xab\\xc3\\xea3\\xae|\\x92U\\x9b\\xfb\\xf8\\xea\\x95\\xaa\\x11\\xfa\\xb7DL\\x84\\xc3\\x12\\xb0P0\\xa6\\x07\\x18\\xdc3\\xe0r\\xa4\\x1f\\xb1\\xea*\\x95\\xa7\\x1ae\\xb3,3W\\x9a9\\xa1\\xb1R`B\\x98g\\x8f\\xdd\\x1a7<\\x06\\xf7\\x0fv<\\xe0\\xf54\\xa2;3\\x9dKJ\\x98Wh\\x9d\\xab\\xd9\\xa71$M^P[i\\x04d\\x08\\xdc\\xb6<\\x8d\\xacG\\xdb\\xa5\\x16\\x1a\\xf3\\x1c~?\\x14\\xe7\\x07Ip!+\\xb9j\\xda\\xd1jQ\\xd6)o\\xb0\\xfaE\\xa7\\x9c<|\\xb7\\xd33\\x12\\xc8F<\\xaeH\\xfb\\x101\\xd4\\xf6e\\xd2\\xf7\\xc6\\xa23\\x16\\x8e\\xca\\x1e\\x94\\xef)e\\x8e\\x17\\xc3zy\\xc7\\xb5\\x15\\xb2\\xc8O\\xe4\\xf0}\\xa4\\xe1\\xb3Oz0G\\x0e\\x9eQ\\xab5:\\xe4\\x18\\xa7R\\xcc\\xf1m\\xc62x\\x7f\\xb1\\xe7\\x90\\x7fn\\x92\\xe4\\xd0\\xf4i\\xb4\\xe6\\xd3\\xb4\\xe9\\xb58c\\x8a\\xce\\xfa\\xd0J\\xe6#]Nwlb\\x03\\x01\\x93\\x9d\\x8c\\x19s\\x9cc\\xcfV\\x930\\xac\\xf8\\xb2\\xcf\\xe6*\\xb0\\x00\\xc6\\x0bW\\x86\\xc5\\x8a\\xedS\\\\\\xb1\\xa5kU\\xe8H\\xd1W\\x9eWj\\xd6aRFWy\\xccd\\x15\\xc0\\xc9\\xc3\\x01\\x8c\\x13\\xd1\\x87\\xd4\\x8e\\x8b\\xa7\\xd8\\x96Y \\xd2\\x8a\\xe3\\xe9\\x03\\xaa\\xd9\\xf4\\xd4\\xf9*\\xca@b\\x7fA\\xf2\\x06@\\xe9\\x16\\x9fow&\\x9f\\x03\\xc5\\xfcGO\\xd5t\\x8a\\xaf\\x8fJ\\xcf\\xa7^hT\\x8f\\xe9\\xe4\\x1d\\xbf\\xed\\r\\x8f\\xb0\\x1d}\\xd34\\n\\xb15\\x99\\xfd:\\xf6\\xb6!\\xf5,M!X\\x10\\xe4x#\\xf3\\x1c\\x12y\\xcf\\xc7\\x07\\xab\\xb2T\\x0b\\x9c7\\x83\\xb0\\x7f(\\xb7\\x18%6\\x95\\xa7\\xeb\\xda\\xa4s\\xd5\\xd6\\xfe\\xa6\\nq\\xab\\x83#\\xbb\\xca&r}\\xa8\\xc8B\\xa9\\\\\\xee%\\x0bs\\xc7\\x00\\x0e\\x8fP\\xd0*\\xeb\\x93\\xd4\\xad\\xfc54\\xfd2\\x84rz\\x15\\x9a\\xe0\\n\\xa0\\x1c\\x97\\x90#mRI\\xf0[9<\\x92O\\x14\\xa2\\x97I\\xd3\\xe3yL\\t\\re>\\x9ck,.Z\\\\\\x91\\x86\\xc7\\x93\\x9cx\\xe7\\xc8\\xc7\\xdb\\xae5\\x89\\xa6\\xba\\xb1:\\xce\\x94\"0\\xe6hZ\\xa4fE;\\x88U\\x1c\\x15\\\\\\xf0v\\x800H\\x19c\\x9c\\x08\\x99\\xf3h\\x1d gW\\xf49\\xf3\\xd2#\\xc2\\x03\\x9d\\xef\\xcb\\x9c\\x1e\\xd54\\xde\\xd4\\xd2oKFH\\xe7\\xa5\\x1cq%\\x8b\\x16(\\xd7{+\\x1cn2\\xb2\\x12G8\\xdb\\xee\\x0b\\x92\\x07<y\\xea({?G\\xd5G\\xff\\x00\\x86\\xf5J\\xe6\\xf4#\\xd4]\\xd2\\xfa\\xf5l\\x8c\\x03\\xbd\\x1b\\x96C\\xfe\\xa8\\xdb\\x91\\x9f\\x90\\x0fA\\x12\\xbe\\xa7f\\xf9\\xb2uMJ\\xd9@\\xaaVKXh\\xca\\x83\\xb4zx]\\xbcg\\xe3\\x9c|\\xf5F\\x95MJ=f\\x88y\\x94\\xc7$\\xac\\xf5=L\\x84\\x7fO\\x82\\xbcr\\x00$+/\\x18\\xde\\x1d@\\xe4\\x10\\xa2\\xca\\x90\\xab\\xce/5x\\x9a\\xea*q\\xc6\\xa3\\x1aA{\\xe2\\xa4\\xf0\\xde\\xf4\\x83RiR\\xc7%\\xa3sL\\x10\\xdd\\x89\\x88z\\xd1J\\xbb[\\x1f\\x99\\xa2a\\xc69\\x04\\x0e\\x07\\'\\xc69\\x19\\xa7[\\x8a\\xb9\\x9e\\xaaW\\xde}@\\xe698\\x12\\xee\\xf2r\\xbc\\x83\\x8f\\x91\\x82\\x08\\xfe\\xf9l\\xd6d\\xf5\\x12\\x95\\xd0\\xe8\\xb5\\xa2v\\xf4\\xc4\\xa4\\x16\\x8eU\\x04\\x08\\xd8\\xfe\\xa0\\x15#\\x1c\\x98\\xc7\\xe9\\xd2\\xdc\\x8f\\x0c\\x96\\x84\\xf0(\\x0b,D<!\\xb8\\\\;\\x0f\\xfe\\xdc\\xff\\x00\\xb4\\xf4\\xe2\\x0b\\xa0>\\xfe\\x7f\\x02\\xb0\\xaa\\x92\\xca A))Gm\\xb1F\\xd3C\\x08@\\x86\\x1bGt\\x887\\x1c\\xa7\\xb5He\\xc9<\\x9c\\x1e~:\\xaf\\x05Z\\x9am\\xcd\\x90\\xd4\\xf5\\x1c&\\t\\xa9RY\\x19x\\xe1\\x99\\x98\\x90||\\xff\\x00\\x9e\\xacikr\\xe1JB\\x18\\xa5\\xd4T,0\\xb9\\x90\\x99$\\x04\\x9ceW\\xc7\\x82r~\\x07\\xc7O\\xdawb\\xd7\\xd2\\xc4\\x8fqF\\xa1kh\\xdc\\\\z\\x8b\\xbc\\x9f\\xc8\\x17\\xf2\\xe7\\x9c\\x0f\\'\\x8e\\xa9:\\xdb&\\xc8<j\\xc7-\\xd1\\xb5\\x7f\\xb8\\xac\\xb9+\\x9ai\\x84 \\xd2\\xabb\\xe4\\x8c(%\\xb9!e#\\xd7z\\xd0\\x12\\xa7\\xf4\\xf6\\xe4\\x10G\\x90:\\x9e?\\xc3\\xe5\\xee\\t\\xfd\\x1dV\\xbd\\x9bu\\xd7\\x82\\xf6\\xe5\\x96$\\xc7\\'\\xf2\\xa6\\x01\\x07\\xec\\x07[\\x1d*\\xd3\\xc32F`\\x8a7\\x04\\x80$#*\\xa3\\xce|* \\x03\\x9e3\\xf1\\xf3\\xd1\\x12#\\xb5::F\\xee\\xcd\\x191<\\xc3\\x0f \\xe0oe\\xfe\\x98\\xfe\\xc3\\xe7\\x8f\\x93\\xd6%\\xab\\xb6\\x94\\xe52@\\xc3\\x81\\xdf\\x97\\xa4?*\\xc6\\x00u\\x1f\\x88I\\xed\\xff\\x00\\xc3\\xbd\\x0b\\xb7)\\xc6\\xe9V\\x00\\xf0\\xb7\\xf2\\x92$\\xf4\\x157}\\xc2\\xfb\\xbcx\\x1f\\x98\\xfc}\\xfas\\xad\\xa4R\\x95_m#\\x0e\\xd6\\xc1\\x1bv\\x92|\\xe4\\x8c\\x92\\x0f>\\t\\xc8\\xf9\\xea\\x85\\xdfCG\\x9d\\x11\\xa6&\\xcc\\xa1\\x98\\x05LK+\\x9f\\xcc\\xc3h\\xe0\\x1e\\x00\\x00p\\x068\\xc9 \\xa6\\x8bVV\\xa8\\xc6\\x1d\\xf1{\\xce\\xe8\\xd9\\x02ll\\x0c\\x809\\xff\\x00\\x92O\\xeb\\xd75l\\\\\\xc5K\\x0bZ\\x89\\'?\\xa1\\x80\\x8d\\xab\\x12R&\\x14\\x81\\x1eu\\xefi\\xac\\xe9\\xdf\\x88\\x17\\xb5:A\\x90\\xc6\\x91 ;\\x8a\\xb3{U\\x86\\x18r9\\n\\n0*v\\xfe\\xbd~\\xd7;\\xe6\\xce\\xb2kU\\xbd\\xf4\\xd5\\x16E\\xd9O\\xd1\\x99\\xa1\\x95\\x1c\\x02\\x1f\\x00\\xe3\\xd4,\\xacG\\'*\\x18\\xe0|\\x91_\\x8a\\xba\\xeczgp\\xdd\\x8e\\xf6\\xd6Id\\xf4\\x8c\\xad\\x11P\\x060q `\\xc5\\x80\\xc6@\\xe7\\x9c\\x8f\\x91\\xd0\\\\\\xc9V\\xa2K\\x1e\\xa7\\x05\\xcfMw\\xb2\\xdb\\x8d\\xe4TE*A.\\xe0\\x13\\xc6@\\xc9\\'\\x9e>\\xe3\\xb8\\xb2J\\x94dJ*\\x00\\x90\\x94\\xfboH\\xe7\\xe7\\xa9Fj\\xf4$\\xfb\\xc3Eu\\xa7\\x0c\\xf5\\xd6\\xdc\\x89\\x1a\\xac\\xca|\\x84\\xdeA\\xce7}\\x9b\\xc1\\xfbg\\xe3\\xad\\x9e)\\xeaK\\xa4X\\x86\\\\z\\xc6\\x00bpH\\xd8\\xdc\\x9cc#\\x19\\xf6\\xf3\\xc8\\xda\\x08\\xfdF\\r\\x16\\xbd%\\xbd)g\\xbdZ\\x84\\x8d#\\xe2$\\xa9(\\x91\\'\\x039\\xe4\\x8c\\x83\\x8e@\\xe4\\xfe\\xbfsu;\\xbe\\xfdx\\xa0\\x101\\x8a\\xa0u@\\xaa\\xa1\\xda5$\\x00\\xbe8\\xc6~|\\x0f\\x9e\\x92\\xedn\\xcb\\x9b\\xda%*\\x96\\xd81r\\xdcx\\xe6\\xcfO\\xa8\\xf5\\x9ax\\xb3\\xb8Tg\\x7f\\x8e\\x89\\x04\\xbd\\xfdfj\\xac\\x8d\\xb2\\xb4)#n>\\xc7\\x8d\\x02\\xe3\\xc0\\xe3\\xd3\\x92/\\xf1\\xfbu\\x92\\x94c\\nz\\xdf\\xcb\\x0b\\x83\\x92q\\xe7\\x7f\\xcf\\xec:9\\xdc\\xda\\xcbkz\\x95\\xdb\\r;K\\x9b2I\\x19\\x90\\xfb\\xbd\\xdb\\x94\\x0c\\xfe\\x81P\\x7f\\x8e\\x83\\xd7\\xf4\\xe5VW\\xc8\\x122\\x04$g\\x81\\xbb?\\xff\\x00n\\xb1\\x10\\x19,2\\xf8\\x8d\\x86\\xba\\x18\\xe9\\r?\\x87\\xf6lV\\xd6%\\x15\\xabQ\\xbf%\\xaa\\xd6+\\xbf\\xd6\\xcaV\\x08\\x87\\xb5\\xb7\\xcb\\x8eX\\x00\\xbf\\x90\\x10[>z\\xd6\\xf4\\x99\\xee\\xd4\\xd2\\xa2\\x92\\xe4\\xf6\\xb5\\x06\\x8aB\\xadr\\xccB\\xbdh\\xc9<\\xach\\x00U@\\x01`\\xa38\\x03\\x9e\\x07Y\\x07\\xe1\\xd4\\xa6.\\xe9F \\x16\\x95\\x19=\\xd8\\xf67\\n[\\x9f\\xd1~z\\xd9\\xe9j\\x9a\\x7f\\xf1\\x06\\xad$\\xc2\\xf4\\x8f\\xbe\\xb3$\\x97Vy\\xe4G\\xe1\\x82\\xc6\\xa0\\xacJ\\x17$\\xbbc\\x00|\\xf5\\xd0X\\x192\\n\\x89\\xc0\\x9fa\\x19\\x96\\xb73@\\x03(\\xd3\\xb4\\x1e\\xd9\\xa4k\\xd7\\x87P\\xae\\x93\\xb5V\\xfa\\x96\\x8b&\\'f\\xdcv3c\\x1bWk.\\x10|\\x02O8\\xe9\\xa6\\r\\x0e\\xb42If\\x1b\\x15+_\\xb2\\xbb\\xac\\x11\\x11\\t\\x83\\xe3\\xda\\xc7\\xd3\\x03\\x8f\\n\\xa3\\xef\\xbb\\xe4\\xc3\\xdb\\xf2A\\xa8i\\x91O-I\\xab\\xca\\xb5Z?P\\xb7\\xe7\\x983o`~}\\xee|\\xfc\\x0c\\xe0g\\xab\\xd7\\xe7\\xb6\\x95\\xa24b\\x16\\x99=\\x10\\xc9\\xe9\\x9fOa\\x1c\\xf2F3\\x9d\\xc3\\x1fq\\xcf\\\\\\xc5\\xb2\\xd96AR\\x94\\xec1\\xeb\\xed\\x0f\\xc9\\x92\\x95$$5`|\\xdd\\xbdOQ\\xd4Rk\\n\\xce\"*b\\x9e\\xab9\\xb1\\x1a\\xfc\\x82\\x7f\\xf7\\x14\\x10p\\x0e\\xec\\x03\\x8eGY&\\xad)\\xd2\\xb5\\x1b\\x95\\xf3$R\\xc34\\x88\\x91\\xd7\\xf8*\\xcc\\xa4\\xaeO*v\\xe4)##\\x81\\xc8\\xebx\\x90\\x98XGY\\x8a\\xe2Th\\xc7\\x85$\\x821\\x9f\\xe9\\xe7\\x07>0\\x0fXw\\xe2.\\xce\\xe2\\xa5N\\xe6\\xa1:G\\xa8<i\\x03-@\\xde\\x9b\\x95\\xcb)f#+\"\\x06\\x0b\\xe1Kd\\x1f\\x8e\\xb7\\xbb.\\xd4V\\xa6P\\xa5?\\x10\\x95\\xa6ZR\\x1cB\\xe6\\x87\\xf8\\x81\\x1d\\xb2t\\xfdc\\xd3\\x12\\xab\\x92\\x91\\x99\\t\\xac\\xe7\\xc1Ug\\xf7D\\xdf;\\x18\\x0f\\xd3>z3\\xab\\xeb\\x14\\xf4\\x8b\\x8bV\\rJ+5dR\\xd2Te\\x13\\xb4k\\x806\\x8d\\x8b\\xbe?9\\xf7\\x8cy\\xc7K\\xaf\\xa7wl\\x12\\x1dR\\xb6\\xab\\xabF\\x14\\xc7\\x14\\xa2v\\x8a\\xe5y\\xc0\\xce\\xd5$\\xa4\\x83<\\xe3n\\xdf\\xf1\\xd1+Z\\xd5\\xadWG\\xafKR\\xd0\\xaf\\xdb\\xb4\\xb2ny\\\\V5\\xca\\x02x\\x88\\xa8/\\x18?#+\\xe0q\\xd6\\xed\\xcb\\xcb\\xa0\\xf6\\xd8\\xf40\\x99\\xba\\xcf\\x04)\\xf7\\x9e\\x8fN\\x9cwt\\xdb\\xd3\\xea\\x1b\\xc81\\xd5\\x9au}\\x87\\xfd\\x83`;O\\xc8$\\x11\\xd0\\x94\\xd7\\xf5\\rKc\\x18jV\\x95[v\\xeb\\x11<\\xa61\\xcf\\xbd\\xa5|\\xaa\\x81\\xfas\\xf03\\xd5\\x07\\xd2#\\x96f\\x9eJP\\xc2\\x12\\xba\\xb8\\x8e\\xa3\\x86e\\xc9 \\x87\\x91\\xc9r\\xe0c\\x84P|x\\xeb\\x9dB\\xaa\\\\\\xd2\\xe4\\x87O\\xd3\\x19\\xedF\\x00y\\r\\xb7ydP\\t\\xf7\\x11\\x92<\\x93\\xe9\\xaf\\'\\x04\\xb1\\xe3\\xa9\\x12eK\\x0f\\x89\\xf6\\xf5\\xc2\"\\xfb\\xd2\\x08\\xea\\x95\\xe3\\xfe\\x17\\x1e\\xa1V\\xc4\\x9a\\xad\\xe6|$\\xd3\\xee\\x86(\\x86\\t\\xf56\\x1e@\\x1c\\xb0,I\\xc1\\x04\\xe3\\xc7L\\xbd\\xa7[Nw\\xa6\\xf4\\xec\\xc3+4L\\xe9\"\\xc8\\\\\\xc3!x\\xff\\x00\\x9d\\x92\\x0f\\xf36\\x16\\xc1?\\x97\\x8e\\x17\\xa4\\x1d\\x1am:\\x9dj\\xd5mJ_?\\xca\\x86\\x12w\"\\x9cgb\\xa0;\\x14d\\x82\\xc7,F9\\xe4\\xe3\\xa6~\\xdd\\xaf)\\x7fC\\xd4{\\xd0\\xa8f\\t$\\r \\x1eA9\\xe1\\x17# \\xf3\\x9e<t5\\xa8\\xdcbc\\xc9,\\xa7\\x83Z\\x96\\xaf\\xfcc\\xd0\\x84K\\x18\\x12\\xcb\\xeaB\\xae\\xa4\\x04\\xaaQB\\x11\\xf2\\xcc\\n\\xb099\\xc9#\\xc7\\x8b:\\x04\\xd0\\xe9\\xf1H\\xd7\\x11\\xcc\\n\\xefa#X\\xc9\\x04\\x06C\\xf9\\xf1\\xe7z(U\\x1c\\x92\\xc7\\xc7Cu-z\\x85IV\\xafsP\\xadb(\\xd9}\\x17\\x07\\xd5|g\\x038\\xf2N\\x0f#\\x9e9\\xea\\xbf\\xf1\\xfd>\\xf4\\x93$\\tnV\\x88\\x86oF\\x18\\xe2U\\x00\\x122\\xdb\\xf7\\x0e\\x08\\xe3\\x03\\xef\\xcez\\x19\\r,%)\\xa0\\xc3z\\xc1*I/\\x8c]\\xb12\\r\\x1bT\\x9a\\xfb!\\x8ai=S\\x19\\xdb\\x85\\x95X1a\\xf7\\xc6\\xe2\\xbf\\xa9#\\x1e:[\\xed\\xaaw5\\x8dVz\\xbaT\\x0bbyXF\\xbb\\x81\\xda\\xbb\\x9d\\x99\\x8b}\\x80\\xf9\\xff\\x00\\x1f=\\x10\\xb5\\xa5\\xea\\xdd\\xc0_J\\xd0\\xd1G\\xaa\\xa8\\xb2\\xcf\\x19.\\xb1\\x00s\\xb1\\x02\\x8c)\\xfdI>s\\xe7\\xad\\'\\xb2{+O\\xec\\xad?\\xd1\\xd3,H\\x8f\\x1bz\\x93XyC\\x19X\\xf9U\\xe3\\xe5\\xbf\\xa8\\xf3\\x9cm\\x1d-2\\xd8,\\x92\\x02hW\\x97\\xb0~]y\\xc5\\xc2\\x04\\xc5\\x920\\xdb\\xc1N\\xda\\xd0\\xeai\\x11X\\x97G\\x8f\\x16\\xb7K^)\\xe7\\xfc\\x8e\\xea\\xdf\\xcf\\x9b\\x8f\\x8d\\xde\\xc1\\xcf;O\\xc6z\\xbfWS\\x924J\\xd0\\xe4\\\\\\x91\\x1d\\xdef\\xfeY\\x82\\x00\\xb92\\x9f\\xf4\\xb3\\xf2q\\xe4\\x0eO\\xdb\\xaf\\x9aM\\xaa\\xef@:\\xc6\\x91WU\\x11\\xee\\x8dH\\x8b\\np\\x120ya\\xe4\\x93\\xe4\\xb6G\\xdc\\xf4\\x07S\\xeeJU\\xe4\\xb1I\\xa1i\\x00\\x90>\\xa3\\x13:\\xc6\\xf3\\xcb\\x9d\\xc9]\\x9f;U@\\x1b\\xdc\\xf8P\\x07\\x9cs\\xcf\\x8b\\xf3\\xd6\\xa0\\xaa\\x9e<7\\xe4\\xed\\x80\\x86\\x9d2\\xc0\\xbaa\\x92\\x86\\xa1F\\x18\\x1e\\xc3\\xc2V\\x10\\xa1\\xbdk\\x19UT\\xf9g\\xcf;~\\xc0y\\xeaY\\xfb\\x8a\\x18R\\xb7\\xf0\\xd8\\xde&\\xb3\"\\xacsN\\xa4\\xb1$p\\xc5?4\\x8f\\x82B\\xa6\\x00_8\\x1df\\xb55)\\xeb\\xdd{\\xda\\x8f\\xa9b\\xad\\xb9\\x85\\x81a\\xa1\\x95\\xe0\\x0c8\\xdf\\x18\\xc66\"\\xa9D\\x1f$\\x978\\xf6\\xe7\\x19\\xfc@\\xfcQ\\xfcB\\xd15\\xbdOO\\xb7\\xaa\\xd6\\xd3\\xe6\\xd8\\xbbe\\xd0\\x84\\x11\\xc8`pH\\x8d\\xa7Pf\\x8f\\xdaFSp~[$\\xf1\\xd3\\x13l\\xc2Y\\x04\\x87\\xf6\\xd8\\xfd\\x88\\xf4\\xb5\\xaam\\x01m\\xef\\xee=9lX\\xd2\\xf5\\x0c\\xdd5\\xe0\\xbbd\\xe28\\'\\xb9\\x1ce\\xd4\\x7fT\\xa5\\x88i\\\\\\x93\\x95\\x89p\\xbc\\x0f\\xb6z1\\x12\\xda\\xb2\\x82k\\x92\\xd8G\\x93\\x90\\x11^A\\xb4p\\x0eU\\x82\\xf3\\x8c\\xe1F\\x01\\xc8\\xc9\\xeb\\xf9\\xd1b\\xa5\\xbb\\xd2\\xc9sP\\x9e{RM\\x87\\x90\\x99\\x19\\xb3\\x9f\\x82Ny\\xc6?P>\\xfd{7\\xff\\x00\\x875\\xee\\n\\x9f\\x87\"\\x9d\\x18.\\xdbZ\\xb7\\xa6\\x8d\\xf6j\\xad\\x00\\x89\\xbd\\xad\\xb3cB\\xf8 0\\xf0G\\xf6\\x07=g\\xdb\\xa5\\xab\\xb8\\xbf\\xbfs\\x1aVD\\\\\\x99\\xac&\\xf7\\xfe\\x89\\xdc\\xfd\\xc1\\xdd\\x97\\xc6\\x85\\xa0Jk\\xc3\\x10\\x12Z\\xb3b\\xa1\\xad2\\xa8\\xc0\\xdb\\x9fv\\xf6\\xc9\\x01I$\\xf9\\xc0\\xc1 \\xbe\\x87\\xdb\\xafV\\x18\"\\xb7r\\x8cv]\"\\xc4\\x0fJEz\\xeb\\xc6b\\xc9\\x97\\xd3\\x0c\\x07\\x19\\x1f\\'\\x93\\x81\\xd3.\\xba\\xd1\\xd6\\xd4\\xedIwY\\x9e\\x00C\\x04\\xac!\\x8aDQ\\xf7\\x08\\xc0\\x02q\\xc7\\xbb\\x923\\xd2\\xee\\x99*\\xad\\x85\\x8aH\\xebzr\\x02\\xab\\xba\\x13\\x12\\x82O\\x1c\\x06\\xc2\\xe7\\xe0\\xf3\\x8e:\\xd1\\xb1\\xcc\\x9f6\\xcfv\\xf3\\x00\\x030\\xd0fUN\\x91\\x9bi\\tL\\xc3Grs\\xfa\\x85\\xce\\xf7\\xed\\x1dV\\x9c\\xc6\\xc5E/MS\\xfe\\xb6\\x14\\xd3\\xf6\\x16\\xe7\\x87u\\x0c\\xd1\\x9cd\\x0c\\x903\\x8f\\xcd\\x9e\\x81\\xe9\\xb2\\xa44e\\x96\\xc4f5\\xaa\\x1bzn\\x91\\xa3`\\x01l\\x16\\xc0h\\xd9\\x808\\x04\\x95\\xfb\\x10x\\xeb~\\x99\\xd30\\xb0\\x96D\\x96\\x0fdSF\\xd8p\\x07\\x94b\\x0e\\x0f\\xd8\\x83\\xe4\\x7f\\x9e\\x91u\\xce\\xd8\\x8d\\x9c\\xcdK\\xfe\\x92\\x8c\\xab\\xe9\\xc8\\xe8\\xc1\\xa3P\\xc7\\x040\\x07\\x95\\x1f\\x1f\\xff\\x00\\x8fZ\\xb6\\x1e\\xd0Ot%\\xcd\\xa2\\x86yoN\\x9a\\x12\\x9c\\xc9E\\xe9\\x84y>\\x17\\x869\\x02J\\xa0A\\x14\\xc5dX\\xdc\\x1c\\xa3\\xb1\\xf0O\\x9cpr~\\xddRx$\\xad*\\xfa\\xf9Y#\\x90\\xac\\x83\\x8e\\x01\\x0cA\\xf3\\xe7+\\xe3\\xaf\\xb2\\xa1K2,\\xa4{X+6|\\x90\\xc7?\\xb7\\x1d|\\x97i\\x92\\x93\\xc8c.\\xea\\xad!\\xc9$\\x0e\\x0e\\xd2?_\\xfe\\xbds\\xc0\\x14\\xc6\\xd9 \\x82\\x0c1\\xf6\\x95\\xb8\\xeaw\\x0e\\x9a\\xf6$\\x06\\x19\\'q9#<?\\xb7\\xc7\\xd8\\xe7\\xc6z\\xd1>\\x97O\\xb1\\xaaC\\xa4\\xb4r\\xdfZ\\xf6\\x12+\\x11\\xc7^8\\xe0V<m\\'+\\x1a\\x0f\\x8d\\xcc\\xc5\\xfc\\x80\\xa7\\x9e\\xb2:Y\\xb6\\xb2\\x02\\x9c\\x86\\x03\\xdb\\x80\\x15=\\xcc\\xdf\\xbe\\xe2\\x9f\\xe3\\xad\\r;\\x93\\xe8\\xabw\\xa6\\xa7\\xa3K^\\x17\\x92\\xc7\\xa7Je\\xae\\x9eI1\"\\xa8 \\x95\\x1c\\xa9\\'\\x1f\\xbez\\xd2\\xb2Mk\\xc8>}\\x01\\xfcBS\\xa5\\x92\\xc7?\\xccz/\\xf0\\xd7\\xb9\\x05\\xfd\\x0e\\xa5\\xa8ei*\\xbd\\x99\\xeb\\x07\\xb5`F\\xf6\\x08\\x90\\x94u\\x0cN\\xed\\xdbN\\xdf\\x0cTc\\r\\x8c\\xf5\\xa4S\\x8c!\\xb3\\x14\\xd5g\\xde\\x80z\\x93:\\x86Ur\\x06\\x18\\x12\\xc0}\\x8f\\x8c\\xe4\\x0f\\x9e\\xbc\\xc7\\xf8of\\xc6\\x99\\xa5T\\xb3\\xdbPR\\x11<\\x0bNSe\\xcb\\x82\\xd1{Hd9\\xe7v\\x08o#\\x8cy=hzl\\xfd\\xc6\\xd5\\x1a&\\xd4t\\x82\\xae\\xbe\\x9b\\x8f@\\xcc_\\x1f\\xea,\\x83\\xf5\\xf0q\\xe3\\xa8\\x99!\\x07\\xfb/\\x06\\xc7\\xef\\x08\\xa0\\x98\\xc6\\xe9\\x18F\\x87?pR\\xd2\\xb4\\xd6\\x96\\x93\\tkFA30\\xf4\"\\xce\\xe1\\xc6\\xe3\\x90\\xdc\\xe3\\'$\\x001\\xf7\\xceS\\xac\\xeaRjl\\xc9\\xa1\\xd5\\x92\\xccug\\xf6\\xde\\x88Lc\\xda\\x18\\xb1\\x01\\x88!\\xc9v\\xceH9\\x00\\x7f~\\x98\\x13A\\x8a\\xd4\\xa6\\xd6\\xad\\xa87q\\xd9\\xaa1\\x1csN\\xabR\\xb9<\\xe1c\\x1e\\xdf\\xed\\x96\\xcf\\x1c\\x0e\\xae\\xda\\xb9\\'\\xac\\xe6\\xd8Xp\\x02\\x95Y\\xbdG+\\xf2\\x14\\x0e\\x13\\xcer98\\xf3\\xd2\\xd2\\xed\\x02J\\xff\\x00\\xa9$\\xeaM=1/\\xc9\\xb41*J\\xa6\\'\\xc4[}!\\x1e\\x86\\x85\\xac\\xdd\\xa5\\xa9\\x08\\xe8GbK_\\xcbk6a\\x15\\xd61\\x9ep\\xdf\\x98\\x9f#\\xe4\\x8c\\x9f\\x9e\\xbfS\\xec\\xbb\\x8d^5]F\\xa8*W\\xf9\"\\xdc\\xc4\\xa1\\xcf\\x806\\x9c\\x0e?O\\x03\\xa3Vu\\xbd6\\x0bs\\x0bw\\xe2H\\xf6\\x81\\x1de\\xac\\xd33/9\\xc33\\x84S\\x9c\\xfc\\x12\\x7fN\\xa1\\xaf\\xab>\\xa3\\xea\\x8d\\x0fI\\x99\\xa2\\x91\\xc2\\xc3Yo\\x19\\xe4\\x90\\xb1\\x00\\x92\\x13j\\xa9\\x03\\x93\\xc9\\x00\\x0e\\x9f6\\xbbQM\\xf4\\x86\\xf4\\xf7\\xf8h_\\xbaF\\x04\\xbe\\xf8|\\xc0\\x9dr\\x95\\x98\\xa5\\x1a|\\xeb\\xfcQ\\x84\\x9cF\\x98\\x8c\\xef\\xc0\\xc1r\\x0e\\xe2>N\\xe01\\x8e\\x88\\xe8?\\x87\\x82\\xac3\\xdc\\xd5d\\x13\\xcb9\\xdb$0\\xaa\\xacq\\x8c\\xf0\\x10\\xff\\x00I\\xc1\\xc7\\x9f\\xfe\\xa7\\xa2\\xd3^\\xab\\x0c\\xf2Q\\xb5\\xa9R\\x9ax\\x11\\xf7\\xd7\\x92\\xc7\\xa6\\x90D8\\xc3\\xed]\\xa0\\xe7\\x9273`x\\xf3\\x81\\x96;\\xe4%M4\\xf6\\\\\\xeb\\xac\\xda\\xd4l4:~\\xfa\\x92\\xc8\\x922\\x1d\\xb2I\\x0c[s*)`\\x06Lk\\x9eK\\x15\\x1c\\xd0Zms%$$1\\xd5\\xa9\\xefN\\x9dbD\\xa9aGHc~\\xcb\\x8e\\xf4\\x15\\xd9k\\x1a\\xc2\\xbce+\\xb4\\x0c\\x81k\\x06\\xc6N\\xe2\\x0f\\xdb8\\x0b\\xf6\\xea\\x8e\\x95^\\x1a\\xd2I\\x15\\x9a\\xf7>\\x97\\xd5h\\xdc\\\\\\xb0\\x14\\x15\\x03\\xf3\\x95 \\x1c\\xb0\\xfb\\xf9\\x1d$T\\xd5\\xb5\\xad\\x1e\\x19nkrj\\xb5\\xc8\\x99\\xd6V\\xd4\\x1a:\\xd4\\xab\\x9c\\x80\\xce\\xca0\\x8f Q\\x80\\x06\\xd8\\xc7;s\\xc9\\xea\\xb8\\xfck\\xd1!\\x11\\xd4\\xd2\\x8d\\x8df\\xc3\\xca\\xfe\\xcd6\\x87\\xaadrs\\xf9\\xdb\\xd3_\\x1fm\\xff\\x00~q\\x9e\\xa4\\xd9\\xe6\\xdd\\xb8\\xa5^\\x1c\\xfa\\xb7\\xe3\\xee<\\x18\\x97H\\xacm\\xc3[\\xd3jQe\\x9e\\x9dX\\xaa\\xca\\x0b*\\xec\\x007\\x1f\\xa8\\xc9$}\\x80=\\x08\\x87U\\xd2mn\\x8e\\x1d \\xc8#P\\xc6(bB\\x95\\x94\\x0e7\\xbb{\\x10}\\xf0\\t\\x1f=c\\x9f\\xfc\\xf5\\xd3\\xe9Y\\x929{^x\\xa5\\x8eF3\\n\\x92\\xc3ft$\\xf2\\x1d\\x88%O\\x8e\\x15\\x860G\\x1d0\\xd6\\xfcW\\xed\\xbd{JAP\\xde\\xbd\\xacO)\\t\\xa5Y\\xa6!x\\xf8\\xe5\\xb6\\xe7\\xd3q\\xfe\\xe6s\\x9f\\xf4\\xf4$Y\\x83\\xb0rO\\x1d\\x8fX\"\\x8a\\xd9\\xce\\x11\\xa0A\\xdc:R\\xd1\\xb1V9\\x19\\xe5\\x95\\xd8\\xa5h\\xe4,\\x9bH\\xfc\\xaa\\xdbW\\x81\\x83\\x92\\x17\\x18\\xf9\\xe7\\xaeS\\xb8t\\xaa\\xd2\\xc2\\x92\\xccU\\x82\\x90\\xce\\xd1\\x9fN\\xba\\xe3\\x95\\x8e1\\xe5\\x88\\xe3s\\x1e3\\xc7\\xdb\\xac\\xda~\\xf5\\xd4cH\\xe6\\x93F(\\xb1\\x8d\\xb2\\xcbwRX\\xd9\\xc2\\xe7\\n\\x0cJv\\xa7\\xfbT\\x0c\\xe7\\xcf\\xcfI\\xd6?\\x18u\\x15\\xb7f\\xae\\x93\\x1e\\x9bZ\\xf8\\xc7\\xa758\\xdab\\x8cN\\x04Q\\xb4\\x87\\x0b\\x9d\\xc4\\x12\\xab\\x9e?0\\x1d\\x1c\\xd8\\x92\\r\\xd5g\\xc4c\\xeb\\xed\\x01Ox\\xbc\\x1a\\x91\\xb7V\\xd65~\\xe1\\xd4\\x9f\\xf8%+u\\xa2\\xda\\x16\\xad\\x9b0\\x97h\\xe38\\x1f\\xc8\\x81}\\xce\\xe7\\xc0v\\xd8\\x80}\\xc0\\xc7C\\xd7Y\\xed\\x9e\\xd7\\xadV\\x9e\\xb7\\xaa\\xe8\\xfa\\x14p\\x17\\xb1e/\\xdf\\x8e[D\\x96\\xcb\\xbb\\xa2\\xeei%\\x93\\x1c.2\\x17\\x03\\x00\\x9e\\xbc\\xdb\\xacw\\xf6\\xbd\\xaa\\xb5\\x8az\\x86\\xb7\\xa8^\\xa2\\xde\\xc7\\x8c[x\\xc4\\xf3`\\x02\\xcc# \\x94\\x1f\\xd2<s\\x9ez\\x19F\\xa4\\xd6\\'\\x86\\x96\\x93\\xa6#[\\x95RYa\\xaf\\x18P<\\xeci\\x18\\x8fh \\xe7\\xe4\\x9f8=H\\x92\\xea)C\\x06\\xa6g\\x87?\\xd9\\xcc\\xbb\\x02S\\x0f\\x19\\xde\\xf7\\xa4\\xba\\xad\\xab\\xfd\\xf4\\xf5.w-\\xbdN\\xf6\\xa34\\xb2\\x19#\\x9aGX\\xe9\\xa6x\\x868\\xc9\\xda\\x8a\\x17\\x07\\x00`\\x0f\\xed\\xc8#B\\x9b\\x9bO]\\x04pD\\x15cT\\x18\\x0c\\xc7\\x038\\xfdy9?\\xa7\\xdf\\xad?J\\xec,\\xa4\\xb6u\\xddR\\xd2\\xca\\xc7\\xd1\\xdbA\\x11W,\\x08(\\x19\\xc34\\x8d\\xcbp\\xaa\\x00\\xcf$tD~\\x1b\\xf6\\xdd7Cc\\xea%\\x8e\\x12e\\x98\\x9dBDf\\xc7\\x1bN\\xd1\\xb5~\\x01\\xc0$\\xfcc9\\xe9\\xb5X\\x96\\x19!>\\xd5\\xa7\\x07\\xae\\xbeqqhF\\xb1\\x93BY\\xa4v\\xab!\\xaf\\x1c\\nl\\xedF\\xc0\\x00:\\x90\\x06?\\xa8\\xb0\\x03#\\xed\\xd6\\xb9\\xf8X\\xd3/mJP\\xfae\\xaeJ\\xce\\x1a\\xd8\\x8f,q\\x93\\x80\\x8d\\xfeI\\xfb\\xf1\\x8cf\\xab\\xf6n\\x99)\\xb1\\x14im\\xe6eD\\x99\\xe4\\xd4e\\x8e:\\xf9\\xc1\\x11\\xbe\\xd5,\\xcd\\xc0\\xc4jw\\x1cd\\x91\\xd3?l\\xf6c\\xa5\\t\\x16\\x9d;\\x12\"\\xcc\\xc0\\xb4\\xba\\xec\\xb5\\x18\\x9e<\\xc4\\xaeJ\\xff\\x00\\xfb\\x89o\\xbe<\\x00O\\xb2\\xa9\\x08$\\xb0\\xc3{\\xd7H\"&\\x85\\x96\\x10\\xdb\\xdf\\xda\\xd5:\\x9a\\xac\\x91\\xd8\\xb2\\xde\\xa9I\\x01UE(\\x8a1\\x80\\xfc\\r\\xd9\\xdf\\xc8\\xcf\\x18\\xf3\\xe3\\xa04u:w\\xe2\\xfa*tQ%\\x93\\x00\\xcb\\\\\\xb1\\xde\\x06I\\xca1\\x03\\xc7\\xd9\\x81\\xe3\\x83\\xc7K\\xfd\\xf5\\xf8\\x89\\xa7\\xafyk\\x1aj\\xe9\\x9a\\x8cB+\\x0e\\xbe\\xac\\x0c\\xb9\\x91\\x94`\\xb9\\x8aL\\x86\\x07\\x07\\x95\\xc7\\x18\\xe3\\xaf\\xda\\x17\\xfe\\x9f\\x92\\xcd=CH\\xd4l\\x8a\\xc1\\x91\\xe7\\x81\\xad\\xc7\\x1e\\xf6\\xf2\\xca\\x17r\\xb0\\xf9\\xfb\\xf5\\x16\\x04\\xcbM\\x95\\t8\\xb5*\\x19\\xf1\\x18~x\\xc2\\xb6\\x9b\\xc6r\\x95\\x94h\\x9f\\xc5mh0\\xd4\\xb9\"C&\\x9di\\x95\\x17S\\xaf\\xb9\\xe2G\\xc8\\xd8\\xb3xn\\x7f\\xa5\\xcf+\\x9f\\'\\xaeu\\x89\\x9a\\xef\\xd6\\t\\xecIM\\x1b\\xd9-i4\\xf3\"\\xe4d6\\x08 8\\xf3\\xc8\\x18\\xe7\\xa5\\xe1$\\xf2\\xda\\xd45*z\\x8e\\x89\\xa2M(\\xda\\xcf%\\x95\\x8dm\\xc5\\x8eb\\x963)\\x8ef\\xc69\\xda\\xa7\\x9e\\x0fT\\xf4\\xcdkBg)-M\\n\\x84\\xb5\\x80\\x91^\\xa6\\xa7;\\xc7e\\xc9\\xe1L\\x0e\\xa60\\x06I\\xceN0\\x00\\xcfN&C\\x92Y\\xcf\\x06\\'\\x9b\\xbf\\xa3\\xebJ\\xc2\\xb7\\x8bS\\x0eq\\x81weg\\xa1\\xdd\\x1a\\xbdI\\x94\\xabG;\\xa3(l\\x85<\\xfb\\x81\\xff\\x00I 0\\xfd\\x1b\\x1f\\x1d\\x0b\\xaf&\\xdb \\x90\\xae\\xec\\xcc\\xa7+\\x91\\xb5\\xa3\\xc0?\\xe7\\x9f=:\\xfe&\\xc3\\x05\\xae\\xf8\\xb9,\\x08\\xa8e\\xaf\\x16R\\x14@\\x0b,c\\'\\xd9\\xed9\\x0c\\xbc\\x8f\\xdf\\xa4\\xa3\\x19\\xb1\\xa9\\xba\\xcb\\x88s\"G\\xed\\x1c)\\\\\\x00x\\xff\\x00\\x9e>O\\\\\\xe4\\xc1uJN\\x91\\xb4\\x83x\\x03\\xabA\\x18\\x95)\"$M\\xec\\x8e\\x99%\\x83\\x05fgX\\xcb\\x16\\xc7\\xc0,\\x7fa\\xd5\\xbaQ\\xca;:\\xdb\\x92R\\x03z\\x90\\xb0wy\\x0cK\\x0c\\xae|x<\\x83\\xce|s\\xd0\\xf9/\\x19\\xe4\\xb6\\xb2e\\xa4\\x90\\x9f\\xfb~\\xdeK\\x15*\\x7fB\\xa4\\x8f\\xee\\x07S\\xe8\\xda\\x94tZ\\xcd+\\x91\\x99*j\\x14\\xa5\\xa7c9\\xca\\x1c\\xfb\\x1cg?\\x91\\xc0a\\xf3\\xcf\\x9e\\xbd(\\xddS\\x9c\\xfeA\\x8b,>\\x1944v/\\xe25\\x9e\\xc9\\x96\\xc4\\x16\\x03O\\xa2\\\\\\x929-\\xc7\\x16\\x0c\\x910\\x1e\\x9b\\xcb\\x1f\\xdd\\xb8\\x04\\xae@#\\x1f=z\\x06\\x8fui\"\\x9cz\\x9b\\xea\\xf4g\\xa9b0!\\xb2\\x1c\\xb3:\\x03\\x8d\\xdb\\x0e\\n\\x8e<\\x1ex\\xe7\\xaf%X\\x91\\xeb,5\\xdd\\xa0\\x9d\\xe1$z\\xa88`2\\xa7\\x07\\x1c\\xa9\\x00\\x11\\xf6\\xc6\\x0fE4mN\\xb544\\xb5*\\xf3M\\x00\\x90<b;M\\x17\\xd3\\x92}\\xe7h\\xfc\\xc0\\xe0\\x1f8\\xc8\\xf0s\\xd5\\xe4)),\\xb3\\xe1\\x81M\\x97~\\xa3\\x18\\xf4\\xa6\\xa9\\xdcK:m\\xd1\\xc4\\x96T\\xc6$\\x13\\x92#\\x18 a\\xb7c\\x1bp~1\\xfd\\xfa\\\\\\xa7a)\\xc1j\\xc3\\xdd\\x90\\xc7!\\xfet\\xcb6\\xd8\\x81?\\xd2\\xd3\\xc8v\\x8c\\x9f\\x80I\\xe9&\\x1e\\xecX\\xa0\\x95txVZ\\xc8\\x7f\\x94\\xef\\x17\\xa1\\\\08\\xcf\\xb8o\\x7f\\xeeG\\xc7\\x91\\xd0\\x0b\\xf7\\x8fsH\\x1fU\\xd4\\xc6\\xab,X\\x05\\\\\\x86\\x8a%\\x1f\\x11\\xc4\\x18\\x05\\xfe\\xfe\\x7f^\\xbayvfC%\\x9bS\\x9f\\x96\\xbc\\x98q\\x8c\\x9b\\x85E\\xcd7\\xbccX\\x82\\xfd;s\\xbbi\\xfd\\xc9VK\\x11F\\x04Z|7a\\x90\\xca\\xf9\\xf9\\x98\\xab\\x12\\x08\\xe3\\n?~\\xaf\\xc5\\xab\\xf7\\x05=\\xfae\\xb8\\xe8F\\xb2\\xc7\\xb68\\xeb\\xcf+H\\xe3\\xc1\\xdf&\\xc8\\xf8\\x19\\xf8\\xeb\\x00\\xb9\\xa1>\\xcfV$X\\x8c\\x84\\xbc~\\x90h\\xc8`xe\\xdb\\x90||\\x1c\\x8e\\x9c(\\xf77sT\\xd1`\\xd3\\xe4\\xfe\\x1d\"22\\x89nJ\\xeceB\\xd9\\xcbA\\x1a\\x82\\xecrAf\\xce\\xee3\\xf7\\xe8}\\xd5\\xecR\\xfb\\xdf\\xdc\\x18\\xcbd\\xb2Lh\\xa5\\xaaS\\xaaa[\\x95\\x8a\\xab\\xb0\\x91\\x1a\\xab}\\x0c/\\x82\\xd9\\x92rDd\\xe5x\\xc9\\x7f\\xed\\xf1\\xd2\\xbd\\xfe\\xf3\\xbf\\xaaG,\\xbd\\xbb\\xab\\xd8l\\xc5-I\\xad\\xc9,\\xee\\xb3#\\xe1\\x98\\t\\t@\\xca= \\x02\"\\xc7\\x18\\xc8\\xfc\\xfc\\xe5f:\\xf2\\xeb?I\\xfc\\x7fP\\xfe&\\x90\\xb6\"\\xac]\\x12\\xbcX\\xcf\\x1e\\x8a\\x7fP\\xe3\\xda\\xc7>3\\x8c\\xf4\\xd1\\xb0\\xad)\\x90\\xc6\"Z\\xff\\x00M\\xe8\\xfd@BB4\\x8c\\xb9 \\xf1\\x8fvq\\x8c\\x03\\xf7\\xf3\\xd1\\x95$\\xb0R\\xb5\\x1e\\xecw\\x8f\\x18\\xaa\\x12\\x11HKM\\x06\\x0b1U{\\x13\\x9dn\\xc4\\x8c#\\x81\\xdd\\x9ae\\x89@\\xce#_\\xc8\\x06N\\x01\\x03\\x03\\x92>\\xfd\\x10\\x1ad\\xb4Ve\\xaf\\x1c.\\xcd\\x16\\xe9_~\"\\xdb\\xfe\\xe3\\x91\\x91\\xfd\\xce?C\\xd5\\xabK\\x1a\\xd5\\x94\\xbc\\x91\\xcd\\x9ew4\\x8b\\x16\\xff\\x00\\xb1.I\\x03\\x8f\\xbes\\xf08\\xe9z=N\\x13Nj\\xefbK\\x92\\x9fy\\x8d\"g\\x0b\\x83\\xe4\\x7f\\xa4\\xfd\\xdd\\xd8q\\xc0\\xc7\\x8e\\x891w\\r\\x1a\\xbc\\xf7\\xba\\xe4.\\x97TC\\xa8\\xb1\\x90\\xe65\\x9aE\\x1e\\xc8\\x92\\x00a\\x8c\\xe3\\x03\\x9d\\x801\\xfd\\t\\xe8}D\\xb7\\xaa\\xbcq\"\\x19\\xd7,\\xe4\\x19\\x19\\xc4j\\x07\\x07q\\xf03\\xe0\\x83\\xfd\\xc7L\\xb5t9m\\xd3Y.\\xb4u!r\\x11+\\xd7ff\\'\\xcf\\xb9\\xcew\\x929\\xd9\\x18`<\\x9ez/^\\xc5-:8\\xe8U\\x8b\\xe8c\\x91\\x94\\xb6\\xf9\\xc3\\xc8|\\xff\\x002M\\xbe\\xd0F2#\\x1e?1\\xe7\\x03\\xaa\\x19 \\xba\\x96Y\\x03\\x91<\\xbf\\x0et\\xce\\t\\xde0\\xa61A\\xa0\\xd6\\xefU\\x82\\x1b\\xba\\x82\\xd8;}6H\\xa0\\xda\\xaf\\x8cyo$\\xfd\\xdb\\x8f?~:\\xe3O\\xec\\xf9\\xfdK\\x11L\\xc9*K 2\\xcc\"\\x11\\xcd\\x8f\\x024bIE \\xfc\\x0c\\x91\\xe4\\x81\\xd3@\\x9a:\\xd5\\xe4\\x8fJym\\x18\\xb7K$[\\xa3F\\xadU@%\\x98\\x16e\\\\d\\x92Kd\\x93\\xc8\\x19\\x03\\xaf\\x93}m\\xad,]\\xd3\\xe6\\xaf\\x15M\\x8c\\xc0X\\x0b\\x1cET\\xfb\\xf3&w)\\n\\xc0\\x16\\x00\\x00\\xc7\\x1e\\xe3\\xc7PM\\x95$-\\x9f\\xad\\x073\\x02\\n\\x99Q\\x80\\x81W{7KJ\\xcd\\x05]>\\x91\\x87p\\x1bp\\x08\\x18\\xff\\x00w\\x93\\xfa\\x9f\\x03\\x07\\x93\\xf9K\\x16\\x8b\\xa6\\xd7\\xd2\\xea\\n\\xbaZ\\xd7\\xae\\xbe\\x98\\x90\\x08\\x94!\\x93\\x90\\xa4\\xe3\\xce3\\x8fsd\\x9c\\x01\\xf1\\xb7\\xaa0D\\xf1\\xc0\\x8b\\xaaB\\xf1\\xd9\\x8eC\\xf5\\x15\\xe1\\x99%H\\xd8.c@\\xc8rI]\\xb8U\\x05\\x94\\x16%A9\\x17;^b\\xba\\x93\\xa7sG\\x1d(f\\x96\\xbcbh\\xed\\xa9F\\x13\\x06X\\xa4G\\xe0d\\x10W\\x04\\x85\\x8dr\\xdb\\xbe\\xec*\\xd7f\\x96\\x91q\\xa9\\xc3- w\\x16\\xa0\\xc4\\xc3\\t\\xa7,\\x91\\xc5\\x04*b\\x97iY&\\xdd\\xc4\\x08x\\xc1c\\xc2\\xb3rO\\xc8Ps\\xcez\\xb1kLM=`\\x1b\\x1a\\x05H\\xc4\\xa9\\x0b9\\\\+\\x10\\x16F\\xfe\\xac\\xb7\\xc7\\xc9\\xc7\\x18\\xea\\x8d\\xcdN\\xbe\\x8f5d?ScL\\x8e\\xc9\\x86\\x19\\xa2@\\x91\\xcf\\xc9\\xdf\\xb07\\xb9A+\\x1cJ\\xce\\x14l\\x0cP\\x12\\xdb\\x8c\\x9a\\xce\\xa6h\\xeb\\x81\\xa5k7\\xec\\xcb\\x87\\x92JK\\x11\\x0f!_\\xe9&A\\x9c/\\xb3+\\x90\\x80\\x90\\tl\\x9e\\x80m\\x96t\\xa8<\\xc6\\xc7P\\xf8\\xfc?\\x97X\\x94\\xcbVB9\\xb6\\xf2\\x1d\\xbfS\\xb2\\xb9\\x89\\x08E\\x8f\\x00\\xc7\\xbcr\\xdcp\\x84\\x8eI>\\xef\\x1d3v \\xabWAX`\\xd3\\xb4\\xf2\\xa9!\\xc9\\xb7Y\\xa7rH\\x079\\xde\\xb8\\xf3\\xe3\\x9f\\xb9$\\x93\\xd6a\\x06\\xa5\\xa8\\xdd\\xa9f\\xc5\\x89\\xe9\\xc6\\xc5\\x95\\xbe\\x8d\\xe0\\x95\\x04`\\xb08\\xf5U\\x18n<\\x0c\\xb9\\x03\\xe0\\x0e3\\xd3gk\\xf6\\xde\\xb5\\xaei\\xd2[\\x8e\\xd7n\\xc4\\x86fUY\\xae\\xc93\\x81\\x81\\xf9\\x8c1\\x95S\\xcf\\xe5$\\x9f\\x9f\\x91\\xd6M\\xaa\\xdbfT\\x82\\x01j\\xf1\\xe3\\xcd\\xb1hv\\xcf)az\\xc6e\\xde\\xb3Ag\\xba\\xf5\\xff\\x00M\\xe7\\x9d\\x7f\\x89\\xce\\xa4\\xcc\\xec\\xfb\\x87\\xa8\\xdc\\x03\\xc6\\x08\\xc7\\x1e|q\\xf1\\xd2\\xbe\\xdbt\\xa2\\x86\\xcdvX\\xd09,\\x926\\xf5t\\xfdX\\xf8\\'\\x00\\xee\\xf3\\xe7\\x8e\\xafw\\xc5\\x87n\\xe5\\xd7\\x92\\xb5\\xdbW\\xc4\\x9a\\x84\\xec\\xc4\\xc7\\x1e\\x7f\\xee6\\xe1\\x91\\x82Nq\\xfat\\x1e\\x98Z\\xe1\\x1d\\xa1xep\\n\\xcfb\\xb3\\xa8S\\xcf\\xf5d\\x93\\xf3\\xf9z\\r\\x95J\\x96\\x13t\\xb1\\x1c[\\x7f\\\\\"\\xcb\\xa94x6u\\xcb\\x9b\\x19!\\xd3c\\xb4\\xef\\xc4\\x0c\\x82@\\xa7\\xfc\\xa8f\\xc7\\xe9\\x81\\xf3\\x9e\\x85Z\\xbd~X\\xc7\\xd6^d,\\xc4}<\\x0c\\x88\\x01\\xf1\\xc8\\x19b\\x7f\\xb9\\xea\\xe4TlZ\\x84Oz\\xa5\\xa9\\xc4\\x9e\\xd8\\xb7\\xbbF\\xa3\\xfd\\xc4($\\xe7\\x8eX\\xe3\\xa8u1:\\xcd\\r\\x16X\\xd65Oj\\xaa\\x8d\\xa1\\xcf\\x0b\\xc8\\xf0G\\'\\x8f8\\xe8\\xf3\\xad\\x13\\x17,\\xa8\\xac\\xb7\\xb9?\\x1e\\xed\\x14B\\x00S4\\r\\xdce\\xbe\\rww\\x8e\\xaazQ\\x9c\\x100\\x063\\x83\\x93\\xce3\\xf7\\xe3\\xf4\\xea\\x84\\xc8\\xaf\\xeaG\\x02\\xbbM,\\xbb\\x86\\xd3\\xf9\\x97\\nG\\x1f\\xa1\\xdd\\xd5\\xf4\\x91\\xaai\\x92<rm\\x81\\xe4\\x08\\xcc\\xdeHo\\x8f\\xbf\\xe5\\x1f\\xf2z\\xe2\\x85\"\\xd6\"V\\xb0\\x90\\xc9\\x0c\\xec\\x03\\xbb\\x1fNH\\xf0p\\xbcr\\t9\\x1e0s\\xf1\\x82z\\xc4*\\xc4\\xc3\\x809\\x81R\\x02\\xd9\\xb8\\xac\\x1e\\x0c\\x85\\x93\\x0e\\x03.\\xees\\x83\\xf1\\x9c\\x8c\\xf3\\xfa\\xe3\\x8c\\xf54mj\\xc3\\x9a\\xa4\\xbe\\xecLH\\x19 \\x95\\xdcW\\xf5#\\x07\\xfb\\xf5:\\xc0\\x91\\x0fP\\x06h\\xe4\\x89\\x89S\\x80F\\x08\\x07\\x8f\\x18-\\xe3\\xf4\\x07\\xab\\x0bU!\\x8e\\xe3\\xd7U\\xdb,\\xb0\\xc3\\x116v\\xfa!\\x948b\\x02\\xe4\\x82\\x9b\\xc18\\xe0\\x83\\xf6\\xc1\\x87\\xbb\\x16\\x1e \\xf1\\x12\\xb9\\x921\\x19\\xf0\\x93\\x19\\x11\\x97\\x8f d\\x0e<es\\xd7A\\xa1.\\xb24n`iq\\xb5[k&2x?\\x18\\xe7\\xa8\\xab\\x99\\x04h@\\x1b\\xa1-\\xc61\\x90\\x98\\xff\\x00??\\xf3\\xd7\\xd0\\xa28v\\xc6CH7\\x02~\\xe4\\x8es\\xfbc\\xaba\\x140N\\xb5kv&\\x8a\\x9c[\\x88\\x8c\\x95X\\x92\\x05\\x95\\xc9 0\\xf6\\xe7\\'!\\x87\\x8f\\x19\\xea\\x0b05y\\x99Y\\xeb\\xb3\\xc6\\x01m\\xf9\\x8d\\x97\\x9c`\\xaba\\x878\\x1c\\x1c\\xff\\x00~\\xbb\\x8et\\xfak7\\x18\\xc6\\xd1)\\x87\\nX\\x16f\\t\\xb7\\n\\xa4\\x1c\\xf1\\x81\\xfaq\\xf3\\xd5\\xed>:\\xb5,R\\xb1\\xab\\xcdR\\xccy\\xdc\\x95\\xea\\xbc\\x8c\\xb4\\xd8\\xaf\\xe7\\x91\\xbd6\\x05\\x97\\x18\\xc7\\x85\\'<\\xfc?$\\xa5H\\x00\\x1f\\x17\\xa60\\x15^\\x05\\xf2\\x82Z,\\x96\\xbbvan\\xc4\\x01*;\\x9e,0#\\xd4^1\\xbb\\x8f\\xb9<\\x80~\\xc7\\xc3t\\xd2$\\xed\\xabu}Z\\xba\\x92\\xe9\\xa3yY\\x93\\x19b\\x81r]W\\x9cd\\x8c*\\x8e|\\x02O-\\xd0\\xc3\\xde:kE,\\x02\\xed\\x9b\\xd2m\\x8d\\x12D!\\x93.|\\x06U\\x07?\\x1c\\xe3\\x93\\x8e\\xa2\\xa9N\\xdfv[\\xa9\\xa6\\xe8%\\x97QF\\x98\\xfa\\x16\\xe2\\xf4\\x82F\\xa4\\xfb\\xd6Vu\\n\\xb9\\x1f\\x19b~:mj\\xba\\xee\\xa7;\\xcd\\xf7\\xac+qK\\xaa\\x83o\\xca,\\xc1^9w\\xdc\\xd0\\x0c\\xb7 \\x94\\x04\\x92I\\xd1]\\xceS$\\xfe]\\xaa\\xa0\\x15$)f\\x19\\xe4\\xa9\\xc0\\xe8\\xe5m,X\\xd0;\\xae\\xbdx^E\\x82\\xa4\\x0c\\xce@\\x93v\\xe9w\\x8cc\\xcf\\xb62q\\x92pG=\\x04\\x83\\xb4u\\x1f\\xa9\\x93\\xb7\\xe42C\\xa9\\xc31\\x86\\t\\xe2\\x9btVoG\\x89\\x8dOYI*Ld2\\xe3\\x8d\\xeaA\\xc9\\xf03\\xd3\\xd5\\xd7\\xb6\\xef\\xeauF\\xae\\x94\\xe1\\xb5\\x17\\xd7\\xa2Zj\\xfe\\xb4\\xe44*2=\\xec\\xca\\xc61\\x81\\x91\\xed<\\xf9\\xea\\xbd\\xf0\\x12\\xee\\xa7_\\xde\\xf9\\xc5\\x82\\x08]L1\\xb7ghzUh\\xdd+\\xdeK\\nDl\\x92\\xc9XfO\\xf5\\x11\\xc9\\x84`\\x81\\x8epN\\xd2s\\x9e\\xbb\\x93JJ\\xb6\\x91\\xeb@\\xb0\\xd4_|\\xacd\\x05\\xb7\\x80X\\xecfF\\r\\xc2\\x92[n\\x06\\x0f=,w\\'wZI\\xeb\\xc5\\xa8\\xea0\\xd5\\x9a\\xbc\\t\\t1)\\x89\\xa5\\\\#d\\xbe\\x0e\\xe3\\xeebI\\xc6\\x19\\x8f\\x19\\xe7\\xa34\\xef\\xc5\\xdctd\\xd5\\xe6\\xa6*\\xc5r_\\xa7\\xa5\"\\xcd\\xbah\\xd1\\x14\\x02\\x1d\\xd4\\xaay\\xdc2\\xdc\\xb0\\xf0\\x1b\\x18\\xe9\\xa4MS2N;\\xdf\\xdc\\x01HX.L~\\xd5(\\xd3[6\\xaek7\\xe6\\xa6\\x00\\xf7\\xa3\\xdc\\x12K\\xf9\\xb6\\xe1\\xb0\\x03m\\x07\\xc8\\x03\\x8e<duZ\\xfc\\xbad\\xe2&M@G\\x18_J\\xacp\\xc4\\x00\\x928\\xb7!n09\\xf7e\\x8e8RI\\xf0\\x0cO\\x16\\x9bU\\xeaZ\\xba4\\xc8\\x9avq\\x8dF2W+\\xc9*\\xc0d\\xa9\\xdc\\xa3\\x1f\\x04\\xf3\\xfa\\x0b\\xd4WA\\x8d\\xac\\xc7I\\xe8X\\xbd\\x963.\\x9c\\x1c\\x1d\\x8e\\x8d\\xb8\\x8fi\\x18U\\x19-\\x8c\\x82F>z\\x1c\\xc5,\\xb3\\x97\\x1cN\\x1f\\x1f>pD\\xa5\\xf5\\xe9\\x0e0v|\\xb7\\xe0\\x9dN\\xa7K\\xd1_N) \\xd9#\\x19\\x19\\x81\\x0b\\x17\\xe5\\xc1r2B\\xe7\\x82r@\\xf3\\xd4rv^\\x9f90Ew]\\xa9)\\'\\xd7\\x92\\xfa\\xc4\\xd13\\x1c(X\\xf0X\\x06\\x05|\\x82I9\\xc9\\xe3\\xa4\\xddGG\\xd6\\xf4\\'\\xb2\\xf6\\x84\\xeb\\xe9!\\xb2#\\x15\\xe7F\\x8a9HI$\\xfc\\x81@<\\xae\\xe2|p<\\x9c\\xd8\\xd0\\xadMGS\\xad\\r94\\xfdF(\\xddQ\\xb1o\\xd6\\x81#\\xf2#\\xe4\\x0e89P9\\xf1\\xf7\\xe9)R\\xe5\\xcc7\\x92]\\xf4.<\\xf8\\xf5mi\\x04\\xba\\xa9b\\xb0\\xe7\\xaa\\xf6\\xe5\\xbe\\xda\\xfaE\\xb9\\xa8\\xbd\\x86\\x92\\x19\\xd7\\xd9\\xe9\\xc7\\x18i\\x10\\x06%\\x91\\xdc\\xee+\\x8fh\\x01\\x8e\\x14c\\x04\\xf5A\\x9du1_Sc\\x1d\\x93S\\x122Y\\x89JI\\xb1T\\x0c\\xa1,\\xac\\x01\\\\\\x92H\\x1c\\xe3\\xf4\\xea\\x956\\xb1\\xa8j\\xf3\\xdd\\xd654\\x91\\xa6\\x94\\xac^\\xc5\\xc6\\x07\\x82\\x10aq\\xb7\\x7f\\xc7\\xb4\\x0f\\xdb\\xa6\\x1a)f\\xdc\\x81j\\xea\\xebbhW\\xea\\xa2\\xaf\\ri\\xfdH\\xa3\\x0b\\x81+\\xaa\\x83\\x0ch\\x00\\xca\\x869?a\\xd3=\\xd8\\x12\\xc3\\xb9/\\x8f\\xc3\\x1a~\\x9c\\x18\\x1b\\x84\\xe0\\xd0_U\\x92\\x95\\x9d=o\\xf7$\\xb7t\\x89.\\xcd\\x1b\\xadONW[\\x189\\xf6G\\xe8\\xae99\\x001\\x00\\x7f\\x9e\\xad\\xc5N\\x86\\x95\\xa0\\xde\\xbb\\xfcR=&\\x87\\xa4\\x89\\x03\\xcb\\x04Q\\x92\\x9c\\x80\\x16\\x15\\xdd#\\x11\\xc0\\xce\\xe1\\xfd#8\\xceh\\xc3\\xdc\\x90\\xeb\\xba\\x07\\xd2jz\\x8b\\xc7\\x1c\\x8ab\\xb4$\\x98\\x04i\\xb0Hi\\x1e\\\\\\x978\\x19-\\xe3p x\\x19T\\x97Q\\xafn}\\x12\\x85\\x1b\\x15\\xae\\xe9\\xebnGZz|\\x82m\\x93\\x14\\xc7\\xd4\\x93\\x83\\xb5\\x80nv\\xe1W\\x1c\\x8e:QrC=\\xec\\xf8\\x1e4p\\xe3\\xaf\\x9eqt\\x96\\xca\\x18\\xeew4\\xb5\\xac\\xae\\x9fv[\\xb4\\xe9eL\\x17\\xa7\\x9a}=%-\\x8c\\xfbC2\\x85\\x04m\\xf7\\xae}\\xc7\\x91\\xd3\\xbfo\\xf7~\\x8fF\\xa4\\xd0j=\\xc5\\xa0\\xc1*\\xccX,\\xab\\x15\\xdfk(a\\xb6F\\n\\xfby\\xc6\\xd7\\x04\\x8c\\x1eq\\x8e\\x90\\x12\\xdc=\\xcb\\xa7\\xd8\\xd3\\x9a\\xa2\\xc7\\x03F,\\xcbFK0\\xd2\\x86\\xab\\xc0\\xcf\\xb0\\x92\\xdf\\xcc\\x99\\xb67\\xb9\\xcb\\x9d\\xe4\\x9cq\\x9e\\xac\\xf6\\xac\\xdaN\\x83\\xa3\\xc7F\\xed\\xaa\\xba\\xfc\\xd1\\xbb3\\\\\\x8eH\\x9d_q\\xdc\\x00>\\x9b\\x9c\\x0c\\xfc\\x9c\\xfe\\x83\\xc7K\\xcd\\x91,\\x0f\\x10\\xa7\\x168\\xf0\\xc0g\\x80\\xd2\\x0f-j~0\\x9d\\xabj\\xe1\\xf5KR\\xd8\\x89\\xab\\xb4\\xf2\\xbb\\xec\\x95J\\xb8\\x05\\xc9\\xf2\\x17-\\xfe3\\xd5%\\xd7\\xe4\\x19\\xc4R\\xd6\\x87x\\x0b4\\xbc\\xa1?\\xea\\t\\xe4\\x8f\\x9f\\x19\\xe3\\xe3\\xae5M^\\x8a\\xea6$\\x87\\xe9\\x84J\\xce\\xb1\\xbc\\x88\\xaa\\xc4\\x02q\\xb4\\x97<\\xe3\\xf4\\xea\\xbd\\xcb\\xa4\\xd6k\\x15a\\x89\\x8b\\xb7\\xa1\\xb5\\xe4\\xf1!\\\\\\x9d\\xdcx\\xdb\\xceT\\xf3\\xc7=^\\\\\\x97\\xa9\\xa8\\xc7{\\xf3\\x8b\\xa8\\'H\\x96#Fv\\xb2\\xca\\xa1\\xab\\xc9)h\\xc0K\\x01\\xb6\\x9c\\x0c\\xf1\\xc0\\xdd\\xe7\\xfb\\x93\\xd0\\xdb\\xdb\\x06\\xa0\\x82\"\\x02\\tc\\x01NX\\xa81\\xba\\xe3\\'\\x9e<\\xf4\\xca5m^\\xa4\\x15\\xbf\\xeb!\\xd4\"\\x8e-\\xdb.S\\x8dUB(\\xf6\\xab\\x82$\\\\\\x80\\x00\\xf6\\x91\\xc8\\xf3\\xd0^\\xe8\\xd5a\\xd4f\\xa9i)\\xbdhw\\x97\\x8c,\\xa2W@B\\xfb$uP\\x83\\xdc\\x18\\x85\\xc9#s\\x03\\x83\\xc7Qh\\xb4\"j< c\\x93\\xf1\\x19\\xd7\\xacL\\xb1uU\\x85y\\'\\x0f\\x13\\xd7\\x93\\x83\\x12\\x02\\x14\\x1f\\x0c\\x8cG\\xeey?\\xb7]\\xe9\\x9e\\xac\\x97\\xab\\x99\\x88\\x820\\xc6\\x16w<)*\\xc5w|\\xf9\\x1fn\\xa2\\x96\\x14K^\\x94\\x8e\\xd5B\\x02\\x13\\xd4Fe\\xce\\xd2q\\x91\\xe0\\x93\\xf1\\x8cx>\\x0f_\\x91\\x98\\x11\\x82\\x01\\x1bXfM\\xdf\\xed\\xfd\\x8e\\x0fJ\\x8a\\x8aA01$\\xb3\\x89\\x062\\xb1\\xa6\\xd5RI\\x00m^r~\\xd9`:\\xa9\\xbbk\\xcb\\x8c\\x96\\x11@\\xa7\\x07\\xc1\\n\\x01\\xfe\\xf9\\x04\\x8f\\xdc\\xf5&\\xf5X\\x1a6\\x8bt\\xb1\\xc8\\xd2;1\\xca\\x84U\\x01A\\x1f<\\x96\\'\\xef\\x90:\\xea\\x17rDv6\\xb4k0\\x94\\xa1\\xf8s\\x80q\\xfa\\x90\\x00?\\xa0\\xfd:\\xf6\\x1194K<\\xe2\\x94\\xe8\\xb5\\xdfhS\\x92\\xc7\\x0c78\\x05\\xff\\x00`\\x08\\x1f\\xe7\\xa8\\xac D\\x928d1\\xc5\\xfdL\\xe7\\x0cI\\x00\\x1c\\x7f`\\t\\xfd\\xfa\\xb3}YV)+\\xb0d\\x93\\x060Td\\x0fQ\\x8a\\x83\\xc7\\xe6\\xca\\x96o\\xec:\\xa6\"2\\xe9\\xe5\\xe2>\\xa5\\x89\\x99\\xdd\\xf2A;\\x14\\x81\\xfb\\x12I\\xf9\\xe7\\x81\\xd5]\\x84y>2bi\\x8a\\x18\\xf2\\x0f\\x11\\xa4da06\\x829\\xfd\\x86\\x0f\\xf9\\xe8\\xa4\\x9a\\x8d\\x99\\xe9C\\x1d\\x0b\\xda\\x84\\x939\\x10\\xbdgo\\xe5\\xa09\\xe1\\x98  78\\xc1$\\x00z\\xa5j\\xc0}2+\\x11\\xa7\\xb9\\xd8G) \\xe0?\\xa4\\x10\\x86\\x1f\\x19\\xdb\\x9f\\xd79\\xea\\xa5#f\\xab\\xe62\\x0b\\xa8\\xc2\\xee_\\xcc\\x01\\xe5s\\xe4\\x1e|\\xfe\\xbd\\x19,\\x91\\x84R\\xfb\\xd6\\x0b\\\\\\xee\\x0b\\x16\\xabY\\xabyjD\\xb0\\xbcn\\xc9^G\\xcb\\x049\\xc0l\\xe7\\x8c\\xed\\xc0\\xc1\\xf9\\x1c\\x8e\\x99;Z\\r6\\xb4\\x8f\\xa8\\xe9\\x9d\\xd5\\xf4\\x96g\\xd15\\t=\\x02\\xc9#V\\x9e\\x1d\\xa68\\xff\\x00\\x99\\xb8\\xb0\\x93w\\x8e\\t \\xe3\\xed\\xd2\\xbc\\xb7\\x93QI\\x8bD\\xb1\\xc3#\\xb6cw$ \\xe4\\xeeo\\x04\\xed\\x1f\\xaf<uf5\\xd2\\xe0\\xf4\\xe2\\x91d\\x82&\\x93,\\xcd\\x08\\x94\\xa3\\x13\\xc6\\xc4\\x00\\x93\\xf1\\xf2H\\xf0OV!&\\xe8A`=hi\\xcb\\x1aV\\x91\\nZ\\xcb\\xdf\\x0eL\\x1a\\xd3ni:\\xa6\\xbd\\xa5\\xe9T\\xb5\\x89\\xa9S\\x93G\\x8d\\xbe\\xaeyY~\\x9fV\\x08e\\xde\\xbb\\xb07\\xfa\\xca\\x06|\\xb6\\xe3\\xcf=\\x1d\\xef\\x1f\\xfdE\\xaa\\xfe\\x1aiQG\\x01\\x96k\\xb1\\x1dQ\\xa3\\xa9\\x01\\x91\\xac?\\xa8\\xa5\\x8b\\x02<)\\x99\\xdb\\x00y\\x03\\xed\\x92\\x1e\\x87jP\\xd4\\xf4\\xe8\\xad^\\xd4\\xec\\xe9R<DI\\x18\\xd3L\\x91\\xa2\\x06\\xf6{\\xcarH\\xda}\\xa7\\xc9\\xe3\\xa1\\xba\\xd2\\xc1\\xa1\\xcf\\xa5\\xd4n\\xe1\\xbfb\\xb5H_\\xd0\\x8f\\xe9\\xa7\\xac#FotQ\\xfd\\xd5\\x89\\xe7\\x1c\\x0ers\\x81\\xd1R\\xa4\\xa4\\x10j\\xfeqV*\"\\t\\xda\\xd4\\x97\\xb3\\xb5\\xa3\\x1d-CS\\xadKT\\xab\\r\\xa7\\x86\\x07FB\\\\\\xc9\\xbc\\x95\\x93 \\xb0\\xc0\\xc1\\xc1\\xc6\\x7fN\\x95l\\xf7\\x1f\\xd4\\xae\\xa0\\xb5\\xa5\\xb4\\xf4\\xe4\\x92Y\\xd0Y\\x9d\\x1d\\xa32\"\\xa9\\xf5\\x15\\x00]\\xdb\\x90\\xe5\\x82\\x8c\\xee\\xc7\\x199\\xbdV\\x8d\\x19\\x9c\\xfd>\\x97z\\xc8\\x008\\x92j\\xf2\\x95\\x18\\xc9\\x04\\x97\\xc8Q\\xfd\\xf8\\xea\\x86\\xb1!\\xb9-\\xab\\x1a\\x84\\xb1\\xd5\\xd4fp\\xcf\\x18*\\x04hHQ\\t^8\\x19S\\x9cg\\x82z7zf\\x06M\\x19\\xfdc\\xd7\\x02Mb\\xf7o\\xd0\\xa3\\xaa\\xd8hu\\x8b\\x91\\xf6\\xf5U\\x8a8d\\x99T\\x06>\\xe6l\\x82I\\xc1\\xce\\xd6q\\xc9\\xc6\\x07\\x1d_\\xd2\\xa4\\xd2\\x1fN\\xc6\\xa1\\xae\\xd6ks\\xc0\\xc2O\\xe4\\xa9}\\xf88\\xc3p\\x0f;G\\x92q\\x9f>:Wj\"\\x9c\\xd1 \\xb3\\\\\\xaa\\x13\\xc5{^\\xab\\x12W\\x05\\x868\\xf3\\x82G\\xe89\\xe3\\xaf\\xb44\\x985*\\xf2\\xcb%\\x95\\x96P\\x03H\\xd1\\x95\\xceT\\x06\\x00\\xa8L\\xe0\\xf2\\x01\\x07\\xe0\\x8cg\\x8e\\xab)\\xc2\\xcbU\\xf2\\xcb\\xeft\\xe3U\\x04\\xa90\\xe7\\xa2K\\xa4O\\xa6TKzOr^\\xd4\\x13O\\x85\\xec\\xc9^j\\x92\\xc3\\xe9\\xbeN\\n\\xba\\xf0\\xa4\\x82p\\xd9?|\\xf5_Z\\xed\\xc9\\xe4\\x8d\\xe2\\xed\\xbe\\xd9\\xd5\\xa8\\x9a\\xd0\\xcd-\\xf9\\xae\\xc7\\n\\x00\\x9b6\\xee\\x1e\\x960\\x146q\\xcf\\x9e\\x07=Z\\xed\\xda\\x0f\\xa6\\xad\\xc8\\xb4\\xbdB\\xfcP\\xc8\\xe9\\r\\x86\\xdc?\\x9b\\xb3w\\xa7\\xe7\\x18\\x18n\\x06\\x0eI?\\x1cu\\xf3\\\\\\xb7\\xad\\xdd\\xfa\\xbb\\x7f\\xc4m\\\\\\xabg\\xd4\\x8aV\\x92$\\x94\\x98\\x98mvPy\\x18\\x1e\\x00>GW\\xfe\\xc6db<\\xb1\\xc8dkW\\xab\\xe1B\\x1e\\x06\\x16\\x9b\\xec\\xfb\\xde\\x10\\xbdn=A\\x04\\xf1KN`\\x16\\x17\\x84\\xc7\\xe9\\xb2r\\xd2e\\x80\\x07\\xdc2\\x80\\'\\x8f\\x18\\xc6:m\\xd3u\\xab\\t\\xa6ER\\xed8\\xe2\\x82I\\x11\\x92\\x0bj\\x12\\x11\\xeb0)+c\\x96\\xc8\\xda\\xa0\\xf1\\x84\\\\\\x022OO\\x1d\\xb7\\xdb\\xb5\\xf5\\x9d*\\x85\\xae\\xda\\xd1{\\x16\\xfcR\\xc21\\xbe}B&}\\xa3\\r\\xeaD\\xbe\\x1b \\xe7\\xfb\\x9c\\x1cs\\xd6Q\\xa8\\xe9\\xdd\\xbf_N\\xd0\\xee\\xad\\xa8g\\xd4u\\x0c\\x1bQ-`\\x04)\\xc6\\x1b2e\\\\\\x82v\\xed\\xe4\\xf1\\x9c\\xf5T\\xccR\\xaf]PSR\\x99y\\xf1\\xfb\\x8b\\xa9)-B#\\xae\\xf0\\xee\\x1az\\xde\\xaa\\xabV\\xb51\\x15}\\xa1\\x0446\\xc6J\\xb1\\xda\\xa6<\\xb1e\\xf22\\xc4\\x96\\xe79\\xeb\\xb95\\x8e\\xe0\\xb4%i4\\xf1IR\\xbe$x\\xf4w\\xc2D\\xbe\\xef~Wb\\xae|\\x8d\\xb8\\xfd\\x87M\\x1a\\x86\\x9d/k\\xf6\\xec\\x83B\\xd7-\\xb4\\x13Xh\\xb6I\\nW\\x89\\xb8\\xc1g\\x1br\\xc3\\x00\\x8cc\\x03v>z\\xb3\\xa5Y\\x92\\xc6\\x8d\\x17\\xd1\\xda\\xd6d\\xbbY\\xd5\\xa6yuH\"\\x80\\x91\\xcb\\x0f\\xa3\\x11\\x80\\xe9\\xe3!\\x8bdg8\\xf1\\xd5\\xfb\\xc9B\\xafQ\\xa30\\xe6\\xf4nQ\\x03HP~\\xf6\\xee8\\xd69._\\xac\\xf0C\\xb6X\\xa5\\x93JOM1\\xfe\\x9c\\xae<\\xfe\\xd9\\xe9\\xd7\\xb3?\\x11\\xfb\\xd2\\x8e\\x95,zOt\\xebPF\\xd6\\x19\\xe4\\x14\\xea\\xa1R\\xe4\\x0c\\x92@\\x1e\\xecc\\xcf>?N\\x80P\\xef^\\xe5\\xd4g\\x8a\\x9c\\tOO\\x89^I%\\xfa=\\x120Dd\\x82\\x01\\x18+\\x1a\\x81\\xce[\\x18\\x03$\\xe7\\xadK\\xf0\\xed\\xfbZ\\xa6\\x874\\x8f\\xdc\\xb4\\xec\\xbd\\xbbO;\\x98\\xab\\x9a\\xfb\\t\\n6\\xb2\\xc5\\xb9K\\r\\xbc\\x9d\\xc7<|c\\xafN\\x94f\\xcb\\xf12\\xbc\\xcf\\xdc^]\\xd9G\\xc3O(\\xc5u\\xf4\\xb9V\\xe5\\xf8u\\x1a\\x8f\\r\\xbfS\\x12,\\xd1\\xe0\\x8e1\\xe0\\xe4\\xfcdd\\xf0\\x17\\xf5\\xea=:J\\xb2\\xc8\\xed\\t\\x8e\\x1d\\xb1\\x83\\x0cr\\xca\\xa0;\\xc6\\xa0\\x0f\\xd4\\x93\\x96\\x1e9\\xc8\\x1d=\\xe9\\xff\\x00\\xfc=\\xf7&\\xb1r\\x7f\\xa7\\xb9\\xa2C\\x17\\xaa\\xe0#I6\\x1b\\x82NF\\xcf\\x9d\\xb8\\xf9\\xf3\\xd3^\\x8d\\xf83\\xdd\\xba\\x9e\\x9f\\xa5\\xea\\xb6,v\\xfc\\x10\\xc1\\x11\\xf6+I#\\xca\\t\\x00\\x0c\\xfaj\\x14`\\x81\\xc6q\\x8c\\x8eOXs\\xa7\\xa6\\xe9\\xbbZq\\x19?\\xa9\\x1c\\x9e\\x18\\xee\\xd4M#=\\xd3g\\xab\\xa8\\xd15o\\xd9\\xb1\\x0bZv\\x12<\\xc7j\\xee\\xf4\\xc62|\\xe5\\x9c\\x1f\\'\\x19\\xe3\\xe7\\xa0\\xb7i\\t\\xaa\\xd5\\xfa\\x8a\\xe6\\xdd\\xb7\\x87l\\xc1\\x99\\x8a\\xab\\x0c\\xff\\x00\\xdbU\\xe0(\\xe3\\xdd\\x82~\\x07\\xeb\\xa3\\xea\\x9f\\x82\\xfa\\xd5]O\\xf8m\\xfb\\x9aY\\xb1^\\x08\\x16y\"\\xf5\\n\\xee\\x91\\x94\\r\\xa0\\x81\\x9ev\\x92N3\\x93\\xc7\\x19#\\xb4\\x8f\\xc3.\\xe0\\xee\\n\\xeb5KZf\\xc9\\xa7\\x85\\x7f\\x9a\\xf2!\\x05\\x91H\\x1c+|\\x8f?\\xa9\\xe3\\xa8@\\x97(^*\\xa1\\xc9\\xbdi\\xab\\xd4S\\x01\\x03)S\\xb3FEf\\x8c\\xcb\\x04n\\xd2+J\\xfe#;\\xb7\\xfbN\\n\\xe4\\x802\\xbc\\x1c\\x11\\xe1\\x87\\x1f\\x1dG\\n\\xa5\\x9dAL\\xe3d\\x12\\xb1Y}5\\x08@*s\\xc7\\x81\\xe7$\\x0e<\\xe3\\x1f\\x1bf\\xbd\\xf8+\\xae\\xd0\\xb5GB\\x96\\xee\\x9b<\\x8f`\\xc7]\\xf7\\xc8\\xa2&r\\x0e\\x03\\x15$/\\x0b\\xf0N\\x07\\xc7X\\xbe\\xa7\\xa6\\xda\\xa7\\x9fY\\xd0bL1\\x89\\xcf\\xc9`>\\x06|7\\xf9\\x1d\\x12T\\xd4MK\\xa2%\\x885\\x8a\\xf3\\xcb\\xe9O P\\xa8\\xaf(N\\x07\\xfaw\\x1f\\xfc\\x85?\\xb7QRQ(\\xf5K\\xed\\x0e\\xe4r\\xb98\\xdd\\x8e\\x7f\\xe3\\xfez9WK:\\x9fm\\xdcXa\\x80OKu\\xb6\\x9d\\xdd\\xb7\\x10\\x15\\x1fh\\xc0\\xfb\\x17\\x07\\xf5#\\xaa\\x8b\\xa5\\xda\\x82\\xd5I#h7\\x7f2\\xc1\\x07%N\\x14\\x921\\x8cyV#\\xfb\\xf4PAx\\x8f\\x11\\x102K\\x04\\xd6!A-\\x10\\xceCd\\x01\\xcf\\xff\\x00s\\xd4\\x1b\\xbdXDp\\x9ec\\xe0)8\\xdc\\xa7\\x92\\x0f\\xf6 \\x1f\\xd8\\x1e\\x8d>\\x85jZ\\xba\\x8d\\xf8^\\x14\\xaf\\x14\\xe9]\\xd3s\\x02L\\x81\\xd8\\x101\\x8ca9\\x19\\xfbu\\xcd\\x0e\\xdc{2\\xc3^k\\x1e\\x9c\\x93X\\x8e4d\\x19\\n7\\xe3w\\xc1\\xce3\\xc7\\xce|\\xf5\\x0e\\x00\\x8b\\xa6\\x90*M\\xbe\\x9b4L\\xf2\\xc4\\xc5F\\xc9\\x0e\\x18\\xfcc#\\xc1\\x07?\\xa7\\xf9\\xea\\xe4Q\\xb7\\xd1<\\xb1L\\x7f\\x982\\xa8G>@;\\xbe9\\x07#\\x07\\xfa\\x7f\\xb7R\\xcb\\xa6\\xba\\xa4\\xf3\\xe9\\xe5a\\xdd\"\\x02\\t\\xf0\\xc0\\x16\\xdc8\\xe3\\xc0\\x18\\xe7\\xc7SW\\xd2.\\xb7\\xad\\t\\x92(\\xd6,\\xb6\\xe0\\xc5\\x89b\\xc0\\x01\\xe0`g\\x1f\\xb6z\\x87l\"Y\\xc1\\xbd\\x1c\\xe9\\x8a\\x0e\\xa9[\\x12\\xbdm\\xf2&$\\x8d\\x11\\x9a<1\\xc3\\x00\\xc4)>G\\xb8\\xe3\\x1d\\x16\\xb3\\xa5l\\x81\\xeb\\xbd\\x9dY\\x18?\\xa8dX\\xd5\\x84\\x8f\\x8f+\\x88\\x81\\x18\\xe7\\xe4\\x8f\\xfc\\xf5\\xdc=\\xadnj\\xda\\x96\\xa5;\\xd6\\x0bJ:\\xd1\\xb8\\x0c\\xc4\\xb3\\xca\\x08V\\x1c\\x01\\xc6\\xc2O\\xf7\\x1ez-\\x0b\\xd97\\x1e4\\xbf\\xa9\\x8d\\x88\\x14\\x0f\\xe2Sp\\xa4c\\x00\\x92q\\xc8\\xfbtYl\\xb0K@\\xd6\\x14\\x90\\x04.\\xce3,lu}qU\\x17\\x01\\x04\"2\\xbf\\xd9U\\x94x\\xf9\\xeaj\\x8f\\xa7\\xc5b\\tm\\xea\\xf7\\'V\\x82\\xe4!m\\xce\\xdb\\xa2>\\x96\\xe8\\xd8{\\xdbn\\xe900@\\xcf\\xcf\\x9e\\x8f\\xcb\\x1d\\xca\\xf2\\xc8\\x90[\\xba\\x92\\t\\x157\\x1b\\xe5\\x86O#\\xff\\x00o8\\xe0\\xff\\x00\\x9e\\xb8\\xd4*jZ\\x9e\\x8d$V%\\x8eU\\x89\\x92xeg\\xc4\\xb1\\xb2\\x820\\x1dP\\x1c\\x1f\\xb6z8%\\xab\\xbfX\\xa2E^>A\\xdc\\xf6\\xae\\\\\\xd6\\xea\\x88!\\xb1\\xfcF\\x10\\x82qh\\x80\\x122cB\\xd9\\x18\\x00\\xb6\\xc6\\xf3\\x8e3\\x9e\\xac5:Q\\xd4\\x82;T\\xa0\\xbc\\x18z\\xb8\\x9d\\x00-\\x12>\\x17\\xdc9\\x1e\\xa4\\x99\\'\\x9c\\x85P>z\\xe3@\\xec\\xf8\\xb5\\rn\\x96\\x9f\\xac1\\x92\\x1f\\xa4\\x0e\\xfe\\x94\\x8c\\xa5\\x86F\\x01a\\x8c\\xff\\x00\\xf5\\xean\\xd1\\xec5\\xd7\\xb4\\x19\\xf5\\x0f\\xa8\\x9a\\ta\\xb1j\\x0c-\\xa90\\xcb\\x1f\\xdcx\\xe7\\x8c\\xe3\\xce?^\\x94J%\\xcb>\\x1e\\x1e\\x94\\xd7@\\xd0\\xc9R\\x95Rb\\xb5\\xdd\\x1fF\\xd2\\xa3\\xae\\x92i\\xb4\\xca\\xc1\\x93jU\\x8b\\x971\\x9d\\xf2\\x05\\xceNL\\x8c\\xb1/\\xce\\x069\\xcf_\\xabvm\\xddB\\xaa\\xda\\xaa\\x16\\x9e\\xb1V\\xd1y\\xa7y\"\\x11!g\\xdb\\x1a\"+1e\\x04\\x05\\x1crs\\x8eA\\xea\\xc7k\\xe9\\xf6!\\xd34}U\\xaaC\\xaa\\x97\\xa4\\xf7d\\x16\\xf5\\tP\\xfa\\xfe\\xbc\\x91\\x06\\x18V\\xe0\\x15$\\x01\\x8c\\x16-\\x92@\\xc1-#R\\xd4u\\t#m;@\\xd1\\xea\\xc6\\xcc\\xef\\x1a\\x8dN\\xc0+&\\xcd\\xa2B\\xdb\\t%W!Fp\\xb9\\xe0g\\x9e\\x99\\x96/)\\xc6#z\\xc5\\tS1\\x80Z\\x8e\\x8f<5\\xaf\\r{[\\x86\\x94U\\xd6i--\\x1a^\\xab\\x12\\xb9_\\xfb\\xec\\xd9b]J\\x02?\\xd2\\xf8\\xe1OU\\xa8\\xdf\\xbbN\\x94\\x1aSPzvi\\xc7\\x1cr\\xc4\\x8c\\x03l1\\xae\\xd2\\xb9\\xf2\\x1d\\xc9\\xc1\\x19\\x1c\\x8e\\x8f\\xf7\\x0cR\\xdcm\\x0e\\xa6\\xa3\\xa5\\xe9T\\xe9X\\xd5\\xaa\\xc2\\xf1\\xd1y\\xbf\\xec\\xa8)\\xb3\\xde\\xc4`\\x02q\\xc7\\xc9\\xfb\\x9e\\x86\\xf73\\xeaqS\\xd2\\xa6\\xd4,\\xac\\xf6\\xc0\\xbf\\x01\\x95X\\x86\\x1b\\n2\\x90\\xc4d\\x1fMBg\\x1c|t\\xd8\\x99\\xdd\\xa9\\x8b\\xc2\\xe6XP\\x80-#\\xc1{M\\xb4\\xd3\\xdabm\\x03$\\x95\\xac<#b\\xb1\\x12!*r\\x87\\xf3\\x10s\\x9cg\\xcfL\\r\\xdb}\\x98\\xb6\\x15\\xa47\\xa3R3\\x1e\\xd3$\\x9crA\\x0f\\xb5\\xb3\\x8c\\x00\\x07\\xef\\xd2\\xd6\\xa7#\\xc5\\x0f\\x08\\xb3\\xc1z\\x9a\\x88\\xd5\\xdb\\x1bw\\xb6\\xe2[!\\xb1\\xca\\x8c\\xed#\\xc9\\x1e\\t\\xc9\\x1b\\x1d\\x87b\\xb6\\x92\\xd7\\x16\\xec\\x9e\\x93 1\\xa1\\xb0\\xc4`\\x92\\x00#h\\xff\\x00I\\xf9\\xfbtE\\xcfAS\\x9a\\xfe\\xf7\\xf9\\xc4\\xcae\\xa9\\x9b\\x08?f*Ph\\x9a\\x8dZ\\xda\\xbc\\xd6j\\xa1\\x8eZ\\xb1Y\\x9aft\\x9b8\\x01\\x10\\xae7\\x10\\xbc\\xfeP\\x06\\x0f\\xc1\\xc2}\\x94\\xb1f*\\xf6\\xa5\\xf5,\\x91\\x9d\\xf0\\x99\\xda4\\xc8\\x1e\\xd8\\xd4F7\\xbbc#9\\x1c\\xe7\\x90\\x06z!\\xa7\\xf6=\\xbb\\xb4!\\xbb^\\xe0\\x10\\xbf\\xa6&\\x8eY]\\x89\\x04\\x12B\\xf1\\xc7\\x8e\\xba\\xab\\xa6\\xcb\\xaaD$iUR:\\xb2\\xd9\\x97\\x8c3\\x7f7hA\\x8ca@\\xda?^z\\xcf\\x9aR\\\\\\xa40;\\xeb\\xc6,\\x10S\\x9cs\\r\\xd9m\\xe9\\xb5\\xd8\\xe9\\xd4\\xe8\\xa6\\xefRF\\xf4\\xa7\\x9cG\\x1ag\\xf3E30\\x94)\\xc1\\xc0\\'q\\x0b\\x9c\\xe3!\\x97\\xb7u\\x0bq\\xd5\\xb1\\x12Z\\x9e\\x1fN\\xc3\\x02&\\xb4\\x95\\x1c\\x9c\\x03\\xb8\\xc5\\x14eS9\\xce2\\xc4}\\xcfR\\xf6\\xd7o9\\xb3-w\\x92&\\xb32\\x96VD\\x08\\x18(m\\xc1\\x8e\\t\\x00p\\x14.1\\xcf\\xef\\xa3\\xfe\\x1d\\xf6\\xa1\\xa1\\xa4\\xde\\xa6\\xdaf\\x9d1\\xab~HN\\xcb2\\xc4\\xaaT( {Inrw\\x1c\\x12I\\xe0t\\x9d\\xa1W\\x10[\\x184\\x94\\xde1\\xff\\xd9'"
      ]
     },
     "execution_count": 91,
     "metadata": {},
     "output_type": "execute_result"
    }
   ],
   "execution_count": 91
  },
  {
   "metadata": {
    "ExecuteTime": {
     "end_time": "2025-01-27T10:27:40.098458Z",
     "start_time": "2025-01-27T10:27:40.093675Z"
    }
   },
   "cell_type": "code",
   "source": [
    "# Abgerufene Daten können wir dann speichern\n",
    "with open('sternennacht.jpg', 'wb') as writer:\n",
    "    writer.write(image_data)"
   ],
   "outputs": [],
   "execution_count": 92
  },
  {
   "cell_type": "code",
   "metadata": {
    "ExecuteTime": {
     "end_time": "2025-01-27T10:28:49.266461Z",
     "start_time": "2025-01-27T10:28:49.212522Z"
    }
   },
   "source": [
    "# Anzeigen des neuen Bildes\n",
    "image = Image.open('sternennacht.jpg')"
   ],
   "outputs": [],
   "execution_count": 93
  },
  {
   "metadata": {
    "ExecuteTime": {
     "end_time": "2025-01-27T10:29:00.553941Z",
     "start_time": "2025-01-27T10:29:00.507855Z"
    }
   },
   "cell_type": "code",
   "source": "image.show()",
   "outputs": [],
   "execution_count": 94
  }
 ],
 "metadata": {
  "kernelspec": {
   "display_name": "Python 3",
   "language": "python",
   "name": "python3"
  },
  "language_info": {
   "codemirror_mode": {
    "name": "ipython",
    "version": 3
   },
   "file_extension": ".py",
   "mimetype": "text/x-python",
   "name": "python",
   "nbconvert_exporter": "python",
   "pygments_lexer": "ipython3",
   "version": "3.11.5"
  }
 },
 "nbformat": 4,
 "nbformat_minor": 0
}
