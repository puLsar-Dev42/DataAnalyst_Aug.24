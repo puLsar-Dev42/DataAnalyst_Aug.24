{
 "cells": [
  {
   "attachments": {},
   "cell_type": "markdown",
   "metadata": {},
   "source": [
    "# Skript: Datenvisualisierung Python\n",
    "\n",
    "### Scatterplot, Barplot, Lineplot\n",
    "\n",
    "---\n"
   ]
  },
  {
   "cell_type": "code",
   "metadata": {},
   "source": "import seaborn as sns",
   "outputs": [],
   "execution_count": null
  },
  {
   "cell_type": "code",
   "metadata": {},
   "source": [
    "# Heutige Datensätze:\n",
    "taxis = sns.load_dataset('taxis')\n",
    "flights = sns.load_dataset('flights')"
   ],
   "outputs": [],
   "execution_count": null
  },
  {
   "cell_type": "code",
   "metadata": {},
   "source": [
    "# Anschauen:\n",
    "taxis.head()"
   ],
   "outputs": [],
   "execution_count": null
  },
  {
   "cell_type": "code",
   "metadata": {},
   "source": [
    "# Anschauen:\n",
    "flights.head()"
   ],
   "outputs": [],
   "execution_count": null
  },
  {
   "cell_type": "markdown",
   "metadata": {},
   "source": [
    "# 0. Plot-Stil\n",
    "\n",
    "---\n",
    "\n",
    "Mit `sns.set_style()` können wir einen generellen Plot-Stil für alle Plots des Notebooks einstellen.\n",
    "\n",
    "Verfügbare Styles: `white`, `whitegrid`, `dark`, `darkgrid` und `ticks`\n",
    "\n",
    "[Übersicht](https://github.com/holtzy/The-Python-Graph-Gallery/blob/master/src/notebooks/104-seaborn-themes.ipynb)\n",
    "\n",
    "Es können auch eigene Styles definiert werden, sowie ein 'Kontext' und eine Standard-Farbpalette festgelegt werden. Dazu später mehr."
   ]
  },
  {
   "cell_type": "code",
   "metadata": {},
   "source": [
    "# Für den Rest des Notebooks festlegen:\n",
    "sns.set_style('whitegrid')"
   ],
   "outputs": [],
   "execution_count": null
  },
  {
   "cell_type": "code",
   "metadata": {},
   "source": [
    "# Beispielplot:\n",
    "sns.barplot(\n",
    "    taxis,\n",
    "    x='payment',\n",
    "    y='total',\n",
    "    #    errorbar=None,\n",
    ");\n",
    "# Quizfrage: Was bedeuten eigentlich die Balkenhöhe/ was zeigen sie an?\n",
    "# Und wofür stehen die schwarzen Striche?\n",
    "# ..."
   ],
   "outputs": [],
   "execution_count": null
  },
  {
   "metadata": {},
   "cell_type": "code",
   "source": [
    "# Anzahl Spalten:\n",
    "taxis.shape[0]"
   ],
   "outputs": [],
   "execution_count": null
  },
  {
   "metadata": {},
   "cell_type": "code",
   "source": [
    "# Anzahl Bezahlarten:\n",
    "taxis['payment'].value_counts()"
   ],
   "outputs": [],
   "execution_count": null
  },
  {
   "metadata": {},
   "cell_type": "code",
   "source": [
    "# Standardplot hat mean als Schätzer (estimator):\n",
    "sns.barplot(\n",
    "    taxis,\n",
    "    x='payment',\n",
    "    y='total',\n",
    "    estimator='mean',\n",
    ");\n",
    "# Es gibt andere Schätzer wie median, std, sum"
   ],
   "outputs": [],
   "execution_count": null
  },
  {
   "cell_type": "code",
   "metadata": {},
   "source": [
    "# Mit Kontext-Manager Stil nur für einen Plot festlegen:\n",
    "with sns.axes_style('white'):\n",
    "    sns.barplot(taxis, x='payment', y='total')"
   ],
   "outputs": [],
   "execution_count": null
  },
  {
   "cell_type": "markdown",
   "metadata": {},
   "source": [
    "# 1. Balkendiagramme / Säulendiagramme / Barplots\n",
    "\n",
    "---\n",
    "\n",
    "Säulendiagramme eignen sich, um **Vergleiche zwischen Kategorien** zu visualisieren.\n",
    "\n",
    "Sind es wenige (< 15) Kategorien, ist ein Säulendiagramm (vertikale Ausrichtung) übersichtlicher.\n",
    "<br> Sind es viele (>= 15) Kategorien, ist ein Balkendiagramm (horizontale Ausrichtung) übersichtlicher."
   ]
  },
  {
   "cell_type": "code",
   "metadata": {},
   "source": "taxis.head()",
   "outputs": [],
   "execution_count": null
  },
  {
   "cell_type": "code",
   "metadata": {},
   "source": [
    "# Einfaches Säulendiagramm mit Konfidenzintervallen:\n",
    "sns.barplot(taxis, x='pickup_borough', y='total');"
   ],
   "outputs": [],
   "execution_count": null
  },
  {
   "cell_type": "code",
   "metadata": {},
   "source": [
    "# Einfaches Balkendiagramm mit Konfidenzintervallen:\n",
    "sns.barplot(taxis, y='pickup_borough', x='total');"
   ],
   "outputs": [],
   "execution_count": null
  },
  {
   "cell_type": "code",
   "metadata": {},
   "source": [
    "# Einfacher Barplot mit anderen Fehlerbalken\n",
    "sns.barplot(taxis,\n",
    "            x='pickup_borough',\n",
    "            y='total',\n",
    "            errorbar='sd');\n",
    "\n",
    "# ci = Konfidenzintervall\n",
    "# pi = Prediction Interval / Vorhersageintervall\n",
    "# se = Standard Error of the Mean / Standardfehler des Mittelwertes\n",
    "# sd = Standardabweichung"
   ],
   "outputs": [],
   "execution_count": null
  },
  {
   "cell_type": "markdown",
   "metadata": {},
   "source": [
    "## Weitere Dimensionen darstellen"
   ]
  },
  {
   "cell_type": "code",
   "metadata": {},
   "source": [
    "# Gruppierter Barplot\n",
    "sns.barplot(\n",
    "    taxis,\n",
    "    x='pickup_borough',\n",
    "    y='total',\n",
    "    hue='payment',\n",
    ");"
   ],
   "outputs": [],
   "execution_count": null
  },
  {
   "cell_type": "code",
   "metadata": {},
   "source": [
    "# Gestapeltes Säulendiagram - am einfachsten mit Pandas möglich:\n",
    "df_pivot = taxis.pivot_table(\n",
    "    index='pickup_borough',\n",
    "    columns='payment',\n",
    "    values='total',\n",
    "    aggfunc='sum'\n",
    ");"
   ],
   "outputs": [],
   "execution_count": null
  },
  {
   "metadata": {},
   "cell_type": "code",
   "source": "df_pivot",
   "outputs": [],
   "execution_count": null
  },
  {
   "metadata": {},
   "cell_type": "code",
   "source": "df_pivot.plot(kind='bar', stacked=True);",
   "outputs": [],
   "execution_count": null
  },
  {
   "cell_type": "markdown",
   "metadata": {},
   "source": [
    "## Stilisierung von Barplots\n",
    "\n",
    "Viele Aspekte eines Diagramms können über Schlüsselwörter im Funktionsaufruf verändert werden.\n",
    "\n",
    "Oft verwendete Wörter:\n",
    "\n",
    "* `color`: Farbe\n",
    "* `edgecolor / ec`: Randlinienfarbe\n",
    "* `facecolor`: Füllfarbe\n",
    "* `palette`: Farbpalette\n",
    "* `linewidth` / `lw`: Randliniendicke\n",
    "* `errcolor`: Farbe Fehlerbalken\n",
    "* `capsize`: Länge der \"Kappe\" des Fehlers\n",
    "\n",
    "Achsenbezogene Einstellungen müssen in der Regel am Achsen-Objekt, nicht im Plotaufruf eingestellt werden."
   ]
  },
  {
   "cell_type": "code",
   "metadata": {},
   "source": [
    "# Gruppierter Barplot:\n",
    "sns.barplot(\n",
    "    taxis,\n",
    "    x='pickup_borough',\n",
    "    y='total',\n",
    "    palette={'yellow': 'yellow', 'green': 'green'},\n",
    "    # Keys=Labels, Values=Farbtöne\n",
    "    hue='color',\n",
    "    ec='black',\n",
    "    lw=4,\n",
    "    errorbar=None\n",
    ");"
   ],
   "outputs": [],
   "execution_count": null
  },
  {
   "metadata": {},
   "cell_type": "code",
   "source": [
    "# Anpassung möglich, wenn Plot in Variabel gespeichert wird (mehr am Donnerstag):\n",
    "ax = sns.barplot(\n",
    "    taxis,\n",
    "    x='pickup_borough',\n",
    "    y='total',\n",
    "    palette={'yellow': 'yellow', 'green': 'green'},\n",
    "    # Keys=Labels, Values=Farbtöne\n",
    "    hue='color',\n",
    "    ec='black',\n",
    "    lw=4,\n",
    "    errorbar=None,\n",
    ")\n",
    "\n",
    "ax.set(\n",
    "    ylabel='total price ($)',\n",
    "    xlabel='pickup borough',\n",
    "    title='Taxi prices by pickup zone and taxi color',\n",
    ");"
   ],
   "outputs": [],
   "execution_count": null
  },
  {
   "attachments": {
    "image-2.png": {
     "image/png": "[encoded data removed]"
    },
    "image.png": {
     "image/png": "[encoded data removed]"
    }
   },
   "cell_type": "markdown",
   "metadata": {},
   "source": [
    "## Übungsaufgabe Barplot\n",
    "\n",
    "Lade den 'penguins'-Datensatz und bilde den hier gezeigten Barplot nach!\n",
    "\n",
    "![image.png](1_penguins_barplot.png)\n",
    "\n",
    "Weitere Infos zum Anpassen von Diagrammen findest du hier:\n",
    "\n",
    "* https://matplotlib.org/stable/gallery/color/named_colors.html\n",
    "* https://www.geeksforgeeks.org/adding-value-labels-on-a-matplotlib-bar-chart/"
   ]
  },
  {
   "metadata": {},
   "cell_type": "code",
   "source": "",
   "outputs": [],
   "execution_count": null
  },
  {
   "metadata": {},
   "cell_type": "code",
   "source": "",
   "outputs": [],
   "execution_count": null
  },
  {
   "metadata": {},
   "cell_type": "code",
   "source": "",
   "outputs": [],
   "execution_count": null
  },
  {
   "metadata": {},
   "cell_type": "code",
   "source": "",
   "outputs": [],
   "execution_count": null
  },
  {
   "cell_type": "markdown",
   "metadata": {},
   "source": [
    "## 2. Lineplot\n",
    "\n",
    "\n",
    "---\n",
    "\n",
    "Lineplots eignen sich, um **Veränderungen über Zeit** darzustellen. Eine Linie sollte dabei eine einzige fortlaufende Zeitreihe darstellen. Wenn mehrere Zeitreihen (z.B. Veränderung über Zeit in mehreren Ländern) dargestellt werden, sollten mehrere Linien verwendet werden. "
   ]
  },
  {
   "cell_type": "code",
   "metadata": {},
   "source": "flights.head()",
   "outputs": [],
   "execution_count": null
  },
  {
   "cell_type": "code",
   "metadata": {},
   "source": [
    "# Einfacher Lineplot\n",
    "# Frage: Was sehen wir um die Linie?\n",
    "sns.lineplot(flights, x='year', y='passengers');"
   ],
   "outputs": [],
   "execution_count": null
  },
  {
   "metadata": {},
   "cell_type": "code",
   "source": "# Warum es breiter wird:",
   "outputs": [],
   "execution_count": null
  },
  {
   "metadata": {},
   "cell_type": "code",
   "source": [
    "print(flights[flights.year == 1960].passengers.min())\n",
    "print(flights[flights.year == 1960].passengers.max())"
   ],
   "outputs": [],
   "execution_count": null
  },
  {
   "metadata": {},
   "cell_type": "code",
   "source": [
    "print(flights[flights.year == 1950].passengers.min())\n",
    "print(flights[flights.year == 1950].passengers.max())"
   ],
   "outputs": [],
   "execution_count": null
  },
  {
   "metadata": {},
   "cell_type": "code",
   "source": [
    "# Das Konfidenzintervall lässt sich über n_boot steuern\n",
    "sns.lineplot(flights, x='year', y='passengers', n_boot=12);"
   ],
   "outputs": [],
   "execution_count": null
  },
  {
   "metadata": {},
   "cell_type": "code",
   "source": [
    "# Nur die Linie:\n",
    "sns.lineplot(flights, x='year', y='passengers', errorbar=None);"
   ],
   "outputs": [],
   "execution_count": null
  },
  {
   "cell_type": "code",
   "metadata": {},
   "source": [
    "# Lineplot mit bearbeiteter Linie:\n",
    "sns.lineplot(\n",
    "    flights,\n",
    "    x='year',\n",
    "    y='passengers',\n",
    "    lw=2,\n",
    "    errorbar='sd',\n",
    "    linestyle='dashdot'\n",
    ");  # solid, dashed, dotted, dashdot"
   ],
   "outputs": [],
   "execution_count": null
  },
  {
   "cell_type": "code",
   "metadata": {},
   "source": [
    "# Gruppierter Lineplot (zu viele Linien!):\n",
    "sns.lineplot(flights,\n",
    "             x='year',\n",
    "             y='passengers',\n",
    "             hue='month');"
   ],
   "outputs": [],
   "execution_count": null
  },
  {
   "cell_type": "code",
   "metadata": {},
   "source": [
    "# Gruppierter Lineplot mit Style (ebenfalls unübersichtlich!):\n",
    "sns.lineplot(\n",
    "    flights,\n",
    "    x='year',\n",
    "    y='passengers',\n",
    "    style='month'\n",
    ");"
   ],
   "outputs": [],
   "execution_count": null
  },
  {
   "cell_type": "code",
   "metadata": {},
   "source": [
    "# Mit Hue und Style für zwei separate kategorische Gruppierungen verwenden\n",
    "# Achtung: Keine Grafik, wie man sie produzieren sollte!\n",
    "sns.lineplot(\n",
    "    taxis,\n",
    "    x='passengers',\n",
    "    y='total',\n",
    "    hue='payment',\n",
    "    style='color',\n",
    "    errorbar=None\n",
    ");"
   ],
   "outputs": [],
   "execution_count": null
  },
  {
   "cell_type": "code",
   "metadata": {},
   "source": [
    "# Marker im Lineplot einsetzen:\n",
    "sns.lineplot(\n",
    "    flights,\n",
    "    x='year',\n",
    "    y='passengers',\n",
    "    marker='o',\n",
    "    markersize=10,\n",
    "    markerfacecolor='black'\n",
    ");\n",
    "\n",
    "# o - Kreise\n",
    "# s - Vierecke\n",
    "# v - Dreieck\n",
    "# > - Dreiecke\n",
    "# + - Plus\n",
    "# x - X\n",
    "# diam - Diamanten"
   ],
   "outputs": [],
   "execution_count": null
  },
  {
   "cell_type": "code",
   "metadata": {},
   "source": [
    "# Fehlerbalken und Marker\n",
    "sns.lineplot(\n",
    "    flights,\n",
    "    x='year',\n",
    "    y='passengers',\n",
    "    err_style='bars',\n",
    "    marker='s',\n",
    ");"
   ],
   "outputs": [],
   "execution_count": null
  },
  {
   "attachments": {},
   "cell_type": "markdown",
   "metadata": {},
   "source": [
    "# 3. Scatterplot\n",
    "\n",
    "---\n",
    "\n",
    "Scatterplots sind gedacht, um den **Zusammenhang zwischen zwei metrischen Variablen** darzustellen.\n",
    "\n",
    "Zusätzliche Style-Schlüsselwörter\n",
    "\n",
    "* `size` / `s` | `markersize` / `ms`: Markierungsgröße (Scatterplot)"
   ]
  },
  {
   "cell_type": "code",
   "metadata": {},
   "source": [
    "# Einfacher Scatterplot:\n",
    "sns.scatterplot(taxis,\n",
    "                x='distance',\n",
    "                y='total');"
   ],
   "outputs": [],
   "execution_count": null
  },
  {
   "cell_type": "markdown",
   "metadata": {},
   "source": [
    "## Weitere Dimensionen einbringen"
   ]
  },
  {
   "cell_type": "code",
   "metadata": {},
   "source": [
    "# Gruppierter Scatterplot\n",
    "sns.scatterplot(\n",
    "    taxis,\n",
    "    x='distance',\n",
    "    y='total',\n",
    "    hue='payment',\n",
    ");"
   ],
   "outputs": [],
   "execution_count": null
  },
  {
   "metadata": {},
   "cell_type": "code",
   "source": [
    "sns.scatterplot(\n",
    "    taxis,\n",
    "    x='distance',\n",
    "    y='total',\n",
    "    hue='payment',\n",
    "    alpha=0.5\n",
    ");"
   ],
   "outputs": [],
   "execution_count": null
  },
  {
   "cell_type": "code",
   "metadata": {},
   "source": [
    "# Gruppierter Scatterplot mit Style\n",
    "sns.scatterplot(\n",
    "    taxis,\n",
    "    x='distance',\n",
    "    y='total',\n",
    "    hue='payment',\n",
    "    style='payment'\n",
    ");"
   ],
   "outputs": [],
   "execution_count": null
  },
  {
   "cell_type": "code",
   "metadata": {},
   "source": [
    "# Style und Hue mit kategorischen Infos:\n",
    "sns.scatterplot(\n",
    "    taxis,\n",
    "    x='distance',\n",
    "    y='total',\n",
    "    hue='payment',\n",
    "    style='color'\n",
    ");"
   ],
   "outputs": [],
   "execution_count": null
  },
  {
   "cell_type": "code",
   "metadata": {},
   "source": [
    "# Numeric Hue:\n",
    "sns.scatterplot(\n",
    "    taxis,\n",
    "    x='distance',\n",
    "    y='total',\n",
    "    hue='tip'\n",
    ");\n",
    "# Quizfrage: Was macht dieser Numeric Hue hier eigentlich?\n",
    "# ..."
   ],
   "outputs": [],
   "execution_count": null
  },
  {
   "metadata": {},
   "cell_type": "code",
   "source": [
    "# Gibt es als Tip wirklich nur diese 6 Werte? Test:\n",
    "taxis.tip.unique()"
   ],
   "outputs": [],
   "execution_count": null
  },
  {
   "metadata": {},
   "cell_type": "code",
   "source": [
    "# So viele Werte gibt es wirklich:\n",
    "len(taxis.tip.unique())"
   ],
   "outputs": [],
   "execution_count": null
  },
  {
   "cell_type": "code",
   "metadata": {
    "collapsed": false
   },
   "source": [
    "# Hue-Farbe ändern\n",
    "# Farbpaletten: https://seaborn.pydata.org/tutorial/color_palettes.html\n",
    "sns.scatterplot(\n",
    "    data=taxis,\n",
    "    x='distance',\n",
    "    y='total',\n",
    "    hue='tip',\n",
    "    palette='rocket'\n",
    ");"
   ],
   "outputs": [],
   "execution_count": null
  },
  {
   "cell_type": "code",
   "metadata": {},
   "source": [
    "# Quizfrage: Was ist hier passiert?\n",
    "# sns.scatterplot(data=taxis,\n",
    "#                 x='distance',\n",
    "#                 y='total',\n",
    "#                 hue='tip',\n",
    "#                 palette='deep');\n",
    "\n",
    "# Auskommentiert aus Ladezeitgründen!"
   ],
   "outputs": [],
   "execution_count": null
  },
  {
   "metadata": {},
   "cell_type": "code",
   "source": [
    "# Notizen hier:\n",
    "\n",
    "# Kategorische Farbpalette für sequentielle Daten\n",
    "# Keine gute Idee!\n",
    "# 1. Die Farbgebung der Grafik ist nicht interpretierbar\n",
    "# 2. Die Legende explodiert, weil alle Einzelwerte als Kategorien verstanden werden\n",
    "# 3. Die Farbpalette wiederholt sich immer wieder und ordnet damit verschiedenen Zahlenwerten dieselben Farbtöne zu!"
   ],
   "outputs": [],
   "execution_count": null
  },
  {
   "cell_type": "code",
   "metadata": {},
   "source": [
    "# Marker selbst kontrollieren\n",
    "# Liste an Markern: https://matplotlib.org/stable/api/markers_api.html\n",
    "markers = {'yellow': 's', 'green': 'X'}\n",
    "\n",
    "sns.scatterplot(\n",
    "    taxis,\n",
    "    x='distance',\n",
    "    y='total',\n",
    "    style='color',\n",
    "    markers=markers\n",
    ");"
   ],
   "outputs": [],
   "execution_count": null
  },
  {
   "cell_type": "markdown",
   "metadata": {},
   "source": [
    "## Achsen stilisieren"
   ]
  },
  {
   "cell_type": "code",
   "metadata": {},
   "source": [
    "# Einfacher Scatterplot mit Label, Titel, Ticks...\n",
    "ax = sns.scatterplot(taxis,\n",
    "                     x='distance',\n",
    "                     y='total')\n",
    "\n",
    "ax.set(xlabel='distance in miles',\n",
    "       title='Scatterplot total cost vs distance',\n",
    "       xticks=[4, 8, 15, 20, 40, 80],\n",
    "       xlim=[0, 80]);"
   ],
   "outputs": [],
   "execution_count": null
  },
  {
   "cell_type": "code",
   "metadata": {
    "collapsed": false
   },
   "source": [
    "# Einfacher Scatterplot mit farbigem Gitter und farbiger Überschrift\n",
    "# rc steht für runtime configuration und umfasst eine Reihe von Standard-Einstellungen\n",
    "# für Plots, mit denen Matplotlib und damit auch Seaborn geladen wird.\n",
    "# Durch Zugriff auf rc können diese Einstellungen geändert werden.\n",
    "# Damit diese Veränderung nicht bei jedem weiteren Plot greifen, nutzen wir 'with':\n",
    "with sns.axes_style(rc={'grid.color': 'red',\n",
    "                        'text.color': 'green'}):\n",
    "    ax = sns.scatterplot(taxis, x='distance', y='total')\n",
    "    ax.set(title='Test')"
   ],
   "outputs": [],
   "execution_count": null
  },
  {
   "cell_type": "markdown",
   "metadata": {},
   "source": [
    "## Facettierung / Plotgitter\n",
    "\n",
    "Um mehrere Plots in einem Gitter anzuordnen kann `relplot` verwendet werden. Relplot kann Line- und Scatterplots erzeugen."
   ]
  },
  {
   "cell_type": "code",
   "metadata": {},
   "source": [
    "# FacetGrid / auftrennen in mehrere Plots\n",
    "sns.relplot(\n",
    "    taxis,\n",
    "    x='distance',\n",
    "    y='total',\n",
    "    row='color',\n",
    "    col='payment'\n",
    ");"
   ],
   "outputs": [],
   "execution_count": null
  },
  {
   "attachments": {
    "image.png": {
     "image/png": "[encoded data removed]"
    }
   },
   "cell_type": "markdown",
   "metadata": {
    "collapsed": false
   },
   "source": [
    "## Übungsaufgabe Scatterplot\n",
    "\n",
    "Lade den `penguins` Datensatz und erstelle den gezeigten Scatterplot.\n",
    "\n",
    "![2_penguins_plot.png](2_penguins_scatterplot.png)"
   ]
  },
  {
   "metadata": {},
   "cell_type": "code",
   "source": "",
   "outputs": [],
   "execution_count": null
  }
 ],
 "metadata": {
  "kernelspec": {
   "display_name": "Python 3",
   "language": "python",
   "name": "python3"
  },
  "language_info": {
   "codemirror_mode": {
    "name": "ipython",
    "version": 3
   },
   "file_extension": ".py",
   "mimetype": "text/x-python",
   "name": "python",
   "nbconvert_exporter": "python",
   "pygments_lexer": "ipython3",
   "version": "3.11.5"
  },
  "orig_nbformat": 4,
  "vscode": {
   "interpreter": {
    "hash": "6a33add19b135581d6797622ba897a8aa8e07e9491c492522c896e8d2e24141e"
   }
  }
 },
 "nbformat": 4,
 "nbformat_minor": 2
}
