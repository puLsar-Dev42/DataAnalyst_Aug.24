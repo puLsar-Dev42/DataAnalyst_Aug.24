{
 "cells": [
  {
   "cell_type": "markdown",
   "metadata": {},
   "source": [
    "# Pandas: Selektieren, Slicen, Filtern"
   ]
  },
  {
   "cell_type": "markdown",
   "metadata": {},
   "source": [
    "### Beispiel-Datensätze: `seaborn` Paket\n",
    "\n",
    "`seaborn` ist ein wichtiges package, mit dem man vor allem Daten visualisiert.\n",
    "Wir werden im weiteren Kursverlauf auch darauf weiter eingehen. Für den Moment wollen wir uns aber nur bei den Beispieldatensätzen bedienen, die es mitliefert."
   ]
  },
  {
   "cell_type": "code",
   "execution_count": null,
   "metadata": {
    "ExecuteTime": {
     "end_time": "2024-01-27T16:40:41.261795300Z",
     "start_time": "2024-01-27T16:40:33.342039200Z"
    }
   },
   "outputs": [],
   "source": [
    "import numpy as np\n",
    "import pandas as pd\n",
    "import seaborn as sns\n",
    "\n",
    "# seaborn hat einige Datensätze zur Auswahl, hier die Liste\n",
    "sns.get_dataset_names()"
   ]
  },
  {
   "cell_type": "code",
   "execution_count": null,
   "metadata": {
    "ExecuteTime": {
     "end_time": "2024-01-27T16:40:41.641685800Z",
     "start_time": "2024-01-27T16:40:41.264790400Z"
    }
   },
   "outputs": [],
   "source": [
    "# Laden eines Datensatzes:\n",
    "peng_df = sns.load_dataset(\"penguins\")\n",
    "peng_df"
   ]
  },
  {
   "cell_type": "code",
   "execution_count": null,
   "metadata": {
    "ExecuteTime": {
     "end_time": "2024-01-27T16:40:41.659820800Z",
     "start_time": "2024-01-27T16:40:41.643721600Z"
    }
   },
   "outputs": [],
   "source": [
    "# Datensatz besteht aus 344 Zeilen.\n",
    "# Wollen wir nur einen Teil davon sehen, nutzen wir\n",
    "# .head(x) (zeigt nur die ersten x Zeilen an)\n",
    "# Beispiel mit 8 Zeilen:\n",
    "peng_df.head(8)"
   ]
  },
  {
   "cell_type": "code",
   "execution_count": null,
   "metadata": {},
   "outputs": [],
   "source": [
    "# Standard (default value) sind übrigens 5 Zeilen:\n",
    "peng_df.head()"
   ]
  },
  {
   "cell_type": "code",
   "execution_count": null,
   "metadata": {
    "ExecuteTime": {
     "end_time": "2024-01-27T16:40:41.721463300Z",
     "start_time": "2024-01-27T16:40:41.660814500Z"
    }
   },
   "outputs": [],
   "source": [
    "# oder .tail(x) (zeigt nur die unteren x Zeilen an)\n",
    "# auch hier ist 5 Standardwert:\n",
    "peng_df.tail(7)"
   ]
  },
  {
   "cell_type": "code",
   "execution_count": null,
   "metadata": {
    "ExecuteTime": {
     "end_time": "2024-01-27T16:40:41.768610800Z",
     "start_time": "2024-01-27T16:40:41.679323600Z"
    }
   },
   "outputs": [],
   "source": [
    "# Dieses mal gibt es mehr zu beschreiben:\n",
    "peng_df.describe()"
   ]
  },
  {
   "cell_type": "code",
   "execution_count": null,
   "metadata": {
    "ExecuteTime": {
     "end_time": "2024-01-27T16:40:41.770643700Z",
     "start_time": "2024-01-27T16:40:41.702020700Z"
    }
   },
   "outputs": [],
   "source": [
    "# Welche Form hat mein DataFrame? (Zeilen, Spalten)\n",
    "peng_df.shape"
   ]
  },
  {
   "cell_type": "code",
   "execution_count": null,
   "metadata": {
    "ExecuteTime": {
     "end_time": "2024-01-27T16:40:41.841117300Z",
     "start_time": "2024-01-27T16:40:41.708338900Z"
    }
   },
   "outputs": [],
   "source": [
    "# Wie viele Einträge gibt es insgesamt in df?\n",
    "# --> Einträge = Zeilen * Spalten\n",
    "peng_df.size"
   ]
  },
  {
   "cell_type": "code",
   "execution_count": null,
   "metadata": {
    "ExecuteTime": {
     "end_time": "2024-01-27T16:40:41.874154400Z",
     "start_time": "2024-01-27T16:40:41.718636700Z"
    }
   },
   "outputs": [],
   "source": [
    "# Welche Dimension hat mein DataFrame?\n",
    "peng_df.ndim"
   ]
  },
  {
   "cell_type": "code",
   "execution_count": null,
   "metadata": {},
   "outputs": [],
   "source": [
    "# Welche Datentypen stecken in den Spalten?\n",
    "peng_df.dtypes"
   ]
  },
  {
   "cell_type": "markdown",
   "metadata": {},
   "source": [
    "### DataFrame Indexing und Bearbeitung"
   ]
  },
  {
   "cell_type": "code",
   "execution_count": null,
   "metadata": {
    "ExecuteTime": {
     "end_time": "2024-01-27T16:40:42.110627100Z",
     "start_time": "2024-01-27T16:40:41.727475Z"
    }
   },
   "outputs": [],
   "source": [
    "# Spalten können als Index oder Instanzen-Attribut abgerufen werden\n",
    "print(peng_df[\"species\"])\n",
    "print()\n",
    "print(peng_df.species)\n",
    "# Wir werden im Weiteren die letztere Schreibweise ignorieren,\n",
    "# da sie weniger Flexibilität bietet."
   ]
  },
  {
   "cell_type": "code",
   "execution_count": null,
   "metadata": {
    "ExecuteTime": {
     "end_time": "2024-01-27T16:40:42.112628300Z",
     "start_time": "2024-01-27T16:40:41.744188800Z"
    }
   },
   "outputs": [],
   "source": [
    "# Welchen Datentyp hat unsere Spalte?\n",
    "type(peng_df[\"species\"])"
   ]
  },
  {
   "cell_type": "code",
   "execution_count": null,
   "metadata": {
    "ExecuteTime": {
     "end_time": "2024-01-27T16:40:42.165649200Z",
     "start_time": "2024-01-27T16:40:41.750583600Z"
    }
   },
   "outputs": [],
   "source": [
    "# Wie sieht der df momentan aus?\n",
    "peng_df.head()"
   ]
  },
  {
   "cell_type": "code",
   "execution_count": null,
   "metadata": {
    "ExecuteTime": {
     "end_time": "2024-01-27T16:40:42.246012500Z",
     "start_time": "2024-01-27T16:40:41.768610800Z"
    }
   },
   "outputs": [],
   "source": [
    "# Neue Spalten können zu bestehenden df einfach hinzugefügt werden:\n",
    "peng_df[\"alive\"] = 1\n",
    "peng_df"
   ]
  },
  {
   "cell_type": "code",
   "execution_count": null,
   "metadata": {
    "ExecuteTime": {
     "end_time": "2024-01-27T16:40:42.284487Z",
     "start_time": "2024-01-27T16:40:41.791014600Z"
    }
   },
   "outputs": [],
   "source": [
    "# Wenn wir für alle Zeilen unterscheidliche Werte eintragen wollen,\n",
    "# müssen wir so viele Werte wie Zeilen liefern\n",
    "\n",
    "alive_status = list(np.random.randint(0, 2, 344))\n",
    "alive_status\n",
    "\n",
    "peng_df[\"alive\"] = alive_status\n",
    "peng_df"
   ]
  },
  {
   "cell_type": "code",
   "execution_count": null,
   "metadata": {},
   "outputs": [],
   "source": [
    "# Checken, welche Werte in der alive-Spalte vorkommen:\n",
    "peng_df['alive'].unique()"
   ]
  },
  {
   "cell_type": "code",
   "execution_count": null,
   "metadata": {},
   "outputs": [],
   "source": [
    "# Jetzt seid ihr dran: Wie prüfe ich, welche Spezies / Inseln / Geschlechter vorkommen?\n"
   ]
  },
  {
   "cell_type": "code",
   "execution_count": null,
   "metadata": {},
   "outputs": [],
   "source": [
    "# Will man nur wissen, wie viele einzigartige Werte vorkommen, dann hilft\n",
    "# nunique:\n",
    "peng_df['species'].nunique()"
   ]
  },
  {
   "cell_type": "code",
   "execution_count": null,
   "metadata": {},
   "outputs": [],
   "source": [
    "# Möchte man wissen, wie viele Einträge pro Label vorkommen, dann hilft value_counts():\n",
    "peng_df['species'].value_counts()"
   ]
  },
  {
   "cell_type": "code",
   "execution_count": null,
   "metadata": {},
   "outputs": [],
   "source": [
    "# Es wird noch besser: value_counts kann direkt die Anteile ausrechnen!\n",
    "peng_df['species'].value_counts(normalize=True)"
   ]
  },
  {
   "cell_type": "code",
   "execution_count": null,
   "metadata": {
    "ExecuteTime": {
     "end_time": "2024-01-27T16:40:42.287485500Z",
     "start_time": "2024-01-27T16:40:41.814982300Z"
    }
   },
   "outputs": [],
   "source": [
    "# Abruf von mehreren Spalten mit einem Befehl\n",
    "# erfordert eine Liste innerhalb der []:\n",
    "peng_df[[\"species\", \"sex\"]]"
   ]
  },
  {
   "cell_type": "code",
   "execution_count": null,
   "metadata": {
    "ExecuteTime": {
     "end_time": "2024-01-27T16:40:42.318320400Z",
     "start_time": "2024-01-27T16:40:41.830382900Z"
    }
   },
   "outputs": [],
   "source": [
    "# Abruf von mehreren Spalten mit begrenzter Anzahl an Zeilen\n",
    "# und nur jede zweite Zeile\n",
    "# Achtung: Ende ist inklusiv!\n",
    "peng_df.loc[:50:2, [\"species\", \"island\", \"alive\"]]"
   ]
  },
  {
   "cell_type": "code",
   "execution_count": null,
   "metadata": {
    "ExecuteTime": {
     "end_time": "2024-01-27T16:40:42.347110700Z",
     "start_time": "2024-01-27T16:40:41.845116500Z"
    }
   },
   "outputs": [],
   "source": [
    "# Normalerweise ist der Endindex beim Programmieren exklusiv\n",
    "# Bsp. Liste:\n",
    "liste1 = [\"a\", \"b\", \"c\", \"d\"]\n",
    "liste1[:2]"
   ]
  },
  {
   "cell_type": "code",
   "execution_count": null,
   "metadata": {
    "ExecuteTime": {
     "end_time": "2024-01-27T16:40:42.372112200Z",
     "start_time": "2024-01-27T16:40:41.853163900Z"
    }
   },
   "outputs": [],
   "source": [
    "# Mit .iloc ist es auch in der Tat exklusiv!\n",
    "peng_df.iloc[:50:2]"
   ]
  },
  {
   "cell_type": "code",
   "execution_count": null,
   "metadata": {},
   "outputs": [],
   "source": [
    "# Mit select_dtypes können wir bequem nur den Teil des DataFrames herausgreifen,\n",
    "# der Objekte des gewählten Typs enthält!\n",
    "# Bsp. object führt hier zu allen Spalten, die Strings enthalten (auch object ist weiter gefasst!):\n",
    "peng_df.select_dtypes('object')"
   ]
  },
  {
   "cell_type": "code",
   "execution_count": null,
   "metadata": {},
   "outputs": [],
   "source": [
    "# Number gibt uns alles Numerische her:\n",
    "peng_df.select_dtypes('number')"
   ]
  },
  {
   "cell_type": "code",
   "execution_count": null,
   "metadata": {},
   "outputs": [],
   "source": [
    "# Man kann aber spezifischer sein:\n",
    "peng_df.select_dtypes('int')"
   ]
  },
  {
   "cell_type": "code",
   "execution_count": null,
   "metadata": {},
   "outputs": [],
   "source": [
    "# Floats:\n",
    "peng_df.select_dtypes('float')"
   ]
  },
  {
   "cell_type": "code",
   "execution_count": null,
   "metadata": {},
   "outputs": [],
   "source": [
    "# und natürlich auch mit Datetime-Objekten:\n",
    "peng_df.select_dtypes('datetime')"
   ]
  },
  {
   "cell_type": "code",
   "execution_count": null,
   "metadata": {},
   "outputs": [],
   "source": [
    "# Verkettung ist leicht möglich:\n",
    "peng_df.select_dtypes('object').describe()"
   ]
  },
  {
   "cell_type": "markdown",
   "metadata": {},
   "source": [
    "#### Übungsaufgabe mit DataFrame\n",
    "Lade den Titanic-Datensatz und löse die nachfolgenden Aufgabenstellungen<br>\n",
    "Zeit: 20 Minuten<br><br>\n",
    "Tipp: Wenn du bei einer Aufgabe einfach nicht weiter weißt, geh erstmal zur nächsten.\n",
    "<hr>\n"
   ]
  },
  {
   "cell_type": "code",
   "execution_count": null,
   "metadata": {},
   "outputs": [],
   "source": [
    "# Führe diesen Code aus, um den Titanic-Datensatz zu laden:\n",
    "titanic_df = sns.load_dataset(\"titanic\")"
   ]
  },
  {
   "cell_type": "code",
   "execution_count": null,
   "metadata": {},
   "outputs": [],
   "source": [
    "# Schaue dir die obersten zehn Einträge an:\n"
   ]
  },
  {
   "cell_type": "code",
   "execution_count": null,
   "metadata": {},
   "outputs": [],
   "source": [
    "# Wie viele Zeilen und Spalten umfasst der Datensatz?\n"
   ]
  },
  {
   "cell_type": "code",
   "execution_count": null,
   "metadata": {},
   "outputs": [],
   "source": [
    "# Wie viele Elemente / Daten enthält der Datensatz?\n"
   ]
  },
  {
   "cell_type": "code",
   "execution_count": null,
   "metadata": {},
   "outputs": [],
   "source": [
    "# Lass dir eine statistische Zusammenfassung \n",
    "# der Altersverteilung auf der Titanic anzeigen:\n"
   ]
  },
  {
   "cell_type": "code",
   "execution_count": null,
   "metadata": {},
   "outputs": [],
   "source": [
    "# Wie viele Menschen (absolute Zahlen) sind gestorben oder haben überlebt? \n",
    "# Zeige mit Pandas-Mitteln:\n"
   ]
  },
  {
   "cell_type": "code",
   "execution_count": null,
   "metadata": {},
   "outputs": [],
   "source": [
    "# Wie hoch waren die Anteile der verschiedenen Klassen auf der Titanic? \n",
    "# Zeige mit Pandas-Mitteln:\n"
   ]
  },
  {
   "cell_type": "code",
   "execution_count": null,
   "metadata": {},
   "outputs": [],
   "source": [
    "# Welche Städte (mit Namen) gab es, an denen Passagiere zugestiegen sind?\n"
   ]
  },
  {
   "cell_type": "code",
   "execution_count": null,
   "metadata": {},
   "outputs": [],
   "source": [
    "# Was hat ein Ticket im Schnitt gekostet? \n",
    "# Was hat das teuerste, was das günstigste gekostet?\n"
   ]
  },
  {
   "cell_type": "code",
   "execution_count": null,
   "metadata": {},
   "outputs": [],
   "source": [
    "# Wähle einen Ausschnitt aus dem DataFrame aus, der Folgendes umfasst: \n",
    "# Spalten 'survived', 'sex', 'adult_male' und 'class' sowie die ersten 250 Zeilen.\n"
   ]
  },
  {
   "cell_type": "code",
   "execution_count": null,
   "metadata": {},
   "outputs": [],
   "source": [
    "# Szenario: Für die weitere Analyse brauchst du keine Strings.\n",
    "# Wie wählst du nur die numerischen Spalten des Dataframes aus?\n"
   ]
  },
  {
   "cell_type": "code",
   "execution_count": null,
   "metadata": {},
   "outputs": [],
   "source": [
    "### Ende der Übung!"
   ]
  },
  {
   "cell_type": "markdown",
   "metadata": {},
   "source": [
    "### Löschen und Umbenennen\n"
   ]
  },
  {
   "cell_type": "code",
   "execution_count": null,
   "metadata": {
    "ExecuteTime": {
     "end_time": "2024-01-27T16:40:42.725141900Z",
     "start_time": "2024-01-27T16:40:41.933124100Z"
    }
   },
   "outputs": [],
   "source": [
    "# Zurück zu den Pinguinen:\n",
    "peng_df.head()"
   ]
  },
  {
   "cell_type": "code",
   "execution_count": null,
   "metadata": {
    "ExecuteTime": {
     "end_time": "2024-01-27T16:40:42.728127200Z",
     "start_time": "2024-01-27T16:40:41.940322400Z"
    }
   },
   "outputs": [],
   "source": [
    "# Spalten löschen mit del:\n",
    "del peng_df[\"last_spotted\"]\n",
    "peng_df.head()"
   ]
  },
  {
   "cell_type": "code",
   "execution_count": null,
   "metadata": {
    "ExecuteTime": {
     "end_time": "2024-01-27T16:40:42.774109600Z",
     "start_time": "2024-01-27T16:40:41.962267900Z"
    }
   },
   "outputs": [],
   "source": [
    "# Typischer: Zeilen und/oder Spalten löschen mit .drop()\n",
    "# Warum klappt das nicht einfach mit Spaltennamen?\n",
    "peng_df.drop('alive', axis=1)\n",
    "# Wir müssen die Achse festlegen, sonst sucht Pandas nach 'alive' in den Zeilen!"
   ]
  },
  {
   "cell_type": "code",
   "execution_count": null,
   "metadata": {},
   "outputs": [],
   "source": [
    "# Aber: df unverändert nach .drop()\n",
    "peng_df.head()"
   ]
  },
  {
   "cell_type": "code",
   "execution_count": null,
   "metadata": {},
   "outputs": [],
   "source": [
    "# Was wir oben sahen ist eine Kopie des DataFrames.\n",
    "# Damit der ursprünglich DF damit überschrieben wird, müssen wir inplace auf True setzen:\n",
    "peng_df.drop('alive', axis=1, inplace=True)"
   ]
  },
  {
   "cell_type": "code",
   "execution_count": null,
   "metadata": {},
   "outputs": [],
   "source": [
    "# Jetzt passt es:\n",
    "peng_df.head()"
   ]
  },
  {
   "cell_type": "code",
   "execution_count": null,
   "metadata": {},
   "outputs": [],
   "source": [
    "# Wegwerfspalten erstellen:\n",
    "peng_df['Wegwerfspalte1'] = -999\n",
    "peng_df['Wegwerfspalte2'] = -999\n",
    "peng_df['Wegwerfspalte3'] = -999\n",
    "peng_df.head()"
   ]
  },
  {
   "cell_type": "code",
   "execution_count": null,
   "metadata": {},
   "outputs": [],
   "source": [
    "# Mit Listen möglich:\n",
    "peng_df.drop(['Wegwerfspalte1', 'Wegwerfspalte2', 'Wegwerfspalte3'], axis=1, inplace=True)\n",
    "peng_df.head()"
   ]
  },
  {
   "cell_type": "code",
   "execution_count": null,
   "metadata": {},
   "outputs": [],
   "source": [
    "# Wegwerfspalten erstellen:\n",
    "peng_df['Wegwerfspalte1'] = -999\n",
    "peng_df['Wegwerfspalte2'] = -999\n",
    "peng_df['Wegwerfspalte3'] = -999\n",
    "peng_df.head()"
   ]
  },
  {
   "cell_type": "code",
   "execution_count": null,
   "metadata": {},
   "outputs": [],
   "source": [
    "# Ohne axis auch über columns-Parameter möglich:\n",
    "peng_df.drop(columns=[\"Wegwerfspalte1\", \"Wegwerfspalte2\", \"Wegwerfspalte3\"], \n",
    "             inplace=True)"
   ]
  },
  {
   "cell_type": "code",
   "execution_count": null,
   "metadata": {},
   "outputs": [],
   "source": [
    "peng_df.head()"
   ]
  },
  {
   "cell_type": "code",
   "execution_count": null,
   "metadata": {},
   "outputs": [],
   "source": [
    "# Die erste fünf Indexeinträge wegschmeißen über axis 0:\n",
    "peng_df.drop([0, 1, 2, 3, 4], axis=0, inplace=True)\n",
    "peng_df.head()"
   ]
  },
  {
   "cell_type": "code",
   "execution_count": null,
   "metadata": {},
   "outputs": [],
   "source": [
    "# Die nächsten fünf Zeilen wegschmeißen mit Parameter index und dann ohne axis:\n",
    "peng_df.drop(index=[5, 6, 7, 8, 9], inplace=True)\n",
    "peng_df.head()"
   ]
  },
  {
   "cell_type": "code",
   "execution_count": null,
   "metadata": {
    "ExecuteTime": {
     "end_time": "2024-01-27T16:40:42.799145600Z",
     "start_time": "2024-01-27T16:40:42.026174300Z"
    }
   },
   "outputs": [],
   "source": [
    "# Zeilen / Spalten umbenennen\n",
    "peng_df.rename(columns={\"bill_length_mm\": \"Schnabellaenge\",\n",
    "                        \"bill_depth_mm\": \"Schnabeltiefe\",\n",
    "                        \"flipper_length_mm\": \"Fluegellaenge\"},\n",
    "               index={10: \"Start\"},\n",
    "               inplace=True)\n",
    "peng_df"
   ]
  },
  {
   "cell_type": "markdown",
   "metadata": {},
   "source": [
    "### Filtern von DataFrames"
   ]
  },
  {
   "cell_type": "markdown",
   "metadata": {},
   "source": [
    "##### Mit Methode `filter` (good to know)\n",
    "Über Zeilen oder Spalten mit einem Filter gehen"
   ]
  },
  {
   "cell_type": "code",
   "execution_count": null,
   "metadata": {
    "ExecuteTime": {
     "end_time": "2024-01-27T16:40:42.802105200Z",
     "start_time": "2024-01-27T16:40:42.047119400Z"
    }
   },
   "outputs": [],
   "source": [
    "# Filter von Spalten mit Namensbestandteilen\n",
    "peng_df.filter(like=\"Schnabel\", axis=1)"
   ]
  },
  {
   "cell_type": "code",
   "execution_count": null,
   "metadata": {},
   "outputs": [],
   "source": [
    "# KI-generierte falsche IBANs:\n",
    "data = {\n",
    "    'Name': [\n",
    "        'John Doe', 'Alice Müller', 'Max Mustermann', 'Maria Schmidt', 'Lukas Weber', \n",
    "        'Anna Bauer', 'Paul Klein', 'Julia Richter', 'Stefan Maier', 'Katrin Hoffmann',\n",
    "        'Timo Schmitt', 'Laura Fischer', 'David Braun', 'Hannah Wagner', 'Sebastian Klein',\n",
    "        'Felix Schuster', 'Eva Lange', 'Simon Meyer', 'Clara Zimmermann', 'Nico Becker'\n",
    "    ],\n",
    "    'Country': [\n",
    "        'Germany', 'Austria', 'Germany', 'Luxembourg', 'Austria', \n",
    "        'Germany', 'Luxembourg', 'Austria', 'Germany', 'Luxembourg',\n",
    "        'Germany', 'Austria', 'Germany', 'Austria', 'Luxembourg',\n",
    "        'Germany', 'Austria', 'Germany', 'Luxembourg', 'Austria'\n",
    "    ],\n",
    "    'IBAN': [\n",
    "        'DE89370400440532013000',  # Germany\n",
    "        'AT611904300234573201',  # Austria\n",
    "        'DE12500105170648489890',  # Germany\n",
    "        'LU280019400644750000',  # Luxembourg\n",
    "        'AT611904300234573202',  # Austria\n",
    "        'DE25500105175665137000',  # Germany\n",
    "        'LU280019400644750001',  # Luxembourg\n",
    "        'AT611904300234573203',  # Austria\n",
    "        'DE12500105170648489891',  # Germany\n",
    "        'LU280019400644750002',  # Luxembourg\n",
    "        'DE89500105175665137100',  # Germany\n",
    "        'AT611904300234573204',  # Austria\n",
    "        'DE17500105170648489892',  # Germany\n",
    "        'AT611904300234573205',  # Austria\n",
    "        'LU280019400644750003',  # Luxembourg\n",
    "        'DE15500105175665137200',  # Germany\n",
    "        'AT611904300234573206',  # Austria\n",
    "        'DE89500105170648489893',  # Germany\n",
    "        'LU280019400644750004',  # Luxembourg\n",
    "        'AT611904300234573207'   # Austria\n",
    "    ]\n",
    "}\n",
    "\n",
    "# Construct the DataFrame\n",
    "accounts_df = pd.DataFrame(data)\n",
    "\n",
    "print(accounts_df)"
   ]
  },
  {
   "cell_type": "code",
   "execution_count": null,
   "metadata": {},
   "outputs": [],
   "source": [
    "# Schauen wir uns später genauer an, ernennt aber eine Spalte zum Index:\n",
    "accounts_df.set_index('IBAN', inplace=True)"
   ]
  },
  {
   "cell_type": "code",
   "execution_count": null,
   "metadata": {},
   "outputs": [],
   "source": [
    "# Nun filtern wir alle deutschen IBANs heraus!\n",
    "accounts_df.filter(like='DE', axis=0)"
   ]
  },
  {
   "cell_type": "markdown",
   "metadata": {},
   "source": [
    "--> Filter wird nur auf die Spalten- oder Zeilen-Label verwendet, nicht auf die Inhalte der Tabelle."
   ]
  },
  {
   "cell_type": "code",
   "execution_count": null,
   "metadata": {},
   "outputs": [],
   "source": [
    "# Hier könnte Ihre Mini-Pause stattfinden! (sofern die Zeit es erlaubt)"
   ]
  },
  {
   "cell_type": "markdown",
   "metadata": {},
   "source": [
    "#### Über Bedingungen: Conditional Slicing mit Wahrheitsmasken (important to know)"
   ]
  },
  {
   "cell_type": "code",
   "execution_count": null,
   "metadata": {
    "ExecuteTime": {
     "end_time": "2024-01-27T16:40:42.822141900Z",
     "start_time": "2024-01-27T16:40:42.085882400Z"
    }
   },
   "outputs": [],
   "source": [
    "# Wir wollen den Ausschnitt des DataFrames für die Spezies 'Adelie' haben:\n",
    "# Mit dieser Wahrheitsmaske werden wir unser Ziel erreichen.\n",
    "# Bei den Zeilen, in denen Adelies vorkommen steht ein True:\n",
    "peng_df[\"species\"] == \"Adelie\""
   ]
  },
  {
   "cell_type": "code",
   "execution_count": null,
   "metadata": {},
   "outputs": [],
   "source": [
    "# Damit slicen wir nun den gesamten DataFrame!\n",
    "adelies_only = peng_df[peng_df[\"species\"] == \"Adelie\"]\n",
    "adelies_only"
   ]
  },
  {
   "cell_type": "code",
   "execution_count": null,
   "metadata": {},
   "outputs": [],
   "source": [
    "# Wie testen wir, ob wirklich nur Adelies vorkommen?\n",
    "adelies_only['species'].unique()"
   ]
  },
  {
   "cell_type": "code",
   "execution_count": null,
   "metadata": {
    "ExecuteTime": {
     "end_time": "2024-01-27T16:40:42.842141400Z",
     "start_time": "2024-01-27T16:40:42.108625500Z"
    }
   },
   "outputs": [],
   "source": [
    "# Wir wollen alle Informationen haben, aber nur für\n",
    "# Pinguine mit Schnabellänge > 40\n",
    "peng_df[peng_df[\"Schnabellaenge\"] > 40]"
   ]
  },
  {
   "cell_type": "code",
   "execution_count": null,
   "metadata": {
    "ExecuteTime": {
     "end_time": "2024-01-27T16:40:42.845114700Z",
     "start_time": "2024-01-27T16:40:42.137474600Z"
    }
   },
   "outputs": [],
   "source": [
    "# Wir wollen nur die species wissen, von Pinguinen mit \n",
    "# einer body_mass < 3000\n",
    "peng_df[[\"species\"]][peng_df[\"body_mass_g\"] < 3000]"
   ]
  },
  {
   "cell_type": "code",
   "execution_count": null,
   "metadata": {},
   "outputs": [],
   "source": [
    "# Kurz über Flügellängen schauen:\n",
    "peng_df['Fluegellaenge'].describe()"
   ]
  },
  {
   "cell_type": "code",
   "execution_count": null,
   "metadata": {},
   "outputs": [],
   "source": [
    "# Uns interessieren nur Pinguine mit Flügellänge 190 - 214\n",
    "peng_df['Fluegellaenge'].between(190, 214, inclusive='both')  # 'both' ist aber ohnehin Standard"
   ]
  },
  {
   "cell_type": "code",
   "execution_count": null,
   "metadata": {},
   "outputs": [],
   "source": [
    "# Slicen:\n",
    "interesting = peng_df[peng_df['Fluegellaenge'].between(190, 214, inclusive='both')]\n",
    "interesting"
   ]
  },
  {
   "cell_type": "code",
   "execution_count": null,
   "metadata": {},
   "outputs": [],
   "source": [
    "interesting['Fluegellaenge'].describe()"
   ]
  },
  {
   "cell_type": "code",
   "execution_count": null,
   "metadata": {},
   "outputs": [],
   "source": [
    "# Kurz ein weiteres Dataset für weitere Beispiele:\n",
    "health_df = sns.load_dataset('healthexp')\n",
    "health_df.head()"
   ]
  },
  {
   "cell_type": "code",
   "execution_count": null,
   "metadata": {},
   "outputs": [],
   "source": [
    "health_df['Country'].unique()"
   ]
  },
  {
   "cell_type": "code",
   "execution_count": null,
   "metadata": {},
   "outputs": [],
   "source": [
    "# Für Deutschland und Frankreich (oder):\n",
    "health_df[(health_df['Country'] == 'Germany') | (health_df['Country'] == 'France')]"
   ]
  },
  {
   "cell_type": "code",
   "execution_count": null,
   "metadata": {},
   "outputs": [],
   "source": [
    "# Für Deutschland und mit Jahr ab 2000:\n",
    "health_df[(health_df['Country'] == 'Germany') & (health_df['Year'] >= 2000)]"
   ]
  },
  {
   "cell_type": "code",
   "execution_count": null,
   "metadata": {},
   "outputs": [],
   "source": [
    "# Negation (das not im Slicing)\n",
    "# Hier alle mit Ausnahme von Deutschland:\n",
    "health_df[~(health_df['Country'] == 'Germany')]"
   ]
  },
  {
   "cell_type": "code",
   "execution_count": null,
   "metadata": {},
   "outputs": [],
   "source": [
    "# Für eins der Länder: 'Great Britain', 'Japan', 'USA', 'Canada'\n",
    "# Zunächst einmal Wahrheitsmaske zeigen:\n",
    "countries = ['Great Britain', 'Japan', 'USA', 'Canada']\n",
    "health_df['Country'].isin(countries)"
   ]
  },
  {
   "cell_type": "code",
   "execution_count": null,
   "metadata": {},
   "outputs": [],
   "source": [
    "# Das eigentliche Slicen:\n",
    "health_df[health_df['Country'].isin(countries)]"
   ]
  },
  {
   "cell_type": "markdown",
   "metadata": {},
   "source": [
    "#### Sortieren mit `sort_values` und `sort_index`"
   ]
  },
  {
   "cell_type": "code",
   "execution_count": null,
   "metadata": {
    "ExecuteTime": {
     "end_time": "2024-01-27T16:40:42.867141500Z",
     "start_time": "2024-01-27T16:40:42.173241500Z"
    }
   },
   "outputs": [],
   "source": [
    "peng_df.head()"
   ]
  },
  {
   "cell_type": "code",
   "execution_count": null,
   "metadata": {
    "ExecuteTime": {
     "end_time": "2024-01-27T16:40:42.882116300Z",
     "start_time": "2024-01-27T16:40:42.201890700Z"
    }
   },
   "outputs": [],
   "source": [
    "# Erzeugung eines neuen fortlaufenden numerischen Index,\n",
    "# drop=True sorgt dafür, dass alter Index gelöscht wird:\n",
    "peng_df.reset_index(drop=True, inplace=True)\n",
    "peng_df.head()"
   ]
  },
  {
   "cell_type": "code",
   "execution_count": null,
   "metadata": {
    "ExecuteTime": {
     "end_time": "2024-01-27T16:40:42.886117300Z",
     "start_time": "2024-01-27T16:40:42.206420300Z"
    }
   },
   "outputs": [],
   "source": [
    "# Sortieren nach einer Spalte aufsteigend (Standardverhalten):\n",
    "peng_df.sort_values(\"Schnabeltiefe\")"
   ]
  },
  {
   "cell_type": "code",
   "execution_count": null,
   "metadata": {
    "ExecuteTime": {
     "end_time": "2024-01-27T16:40:42.896108800Z",
     "start_time": "2024-01-27T16:40:42.228269900Z"
    }
   },
   "outputs": [],
   "source": [
    "# Sortieren nach einer Spalte ABSTEIGEND (über Parameter ascending):\n",
    "peng_df.sort_values(\"Schnabeltiefe\", ascending=False)"
   ]
  },
  {
   "cell_type": "code",
   "execution_count": null,
   "metadata": {
    "ExecuteTime": {
     "end_time": "2024-01-27T16:40:42.899146700Z",
     "start_time": "2024-01-27T16:40:42.252027100Z"
    }
   },
   "outputs": [],
   "source": [
    "# Sortieren nach mehreren Inhalten:\n",
    "peng_df.sort_values([\"Fluegellaenge\", \"Schnabellaenge\"]).head(10)"
   ]
  },
  {
   "cell_type": "code",
   "execution_count": null,
   "metadata": {
    "ExecuteTime": {
     "end_time": "2024-01-27T16:40:42.930113Z",
     "start_time": "2024-01-27T16:40:42.300433Z"
    }
   },
   "outputs": [],
   "source": [
    "# Sortieren des Index (absteigend):\n",
    "peng_df.sort_index(ascending=False)"
   ]
  },
  {
   "cell_type": "code",
   "execution_count": null,
   "metadata": {
    "ExecuteTime": {
     "end_time": "2024-01-27T16:40:42.945108700Z",
     "start_time": "2024-01-27T16:40:42.321320400Z"
    }
   },
   "outputs": [],
   "source": [
    "# Sortieren der Spalten anhand ihres Index\n",
    "peng_df.sort_index(axis=1)"
   ]
  },
  {
   "cell_type": "code",
   "execution_count": null,
   "metadata": {},
   "outputs": [],
   "source": [
    "# Ihr seid Helden! Bald werden sich die Dinge immer mehr wiederholen!"
   ]
  }
 ],
 "metadata": {
  "kernelspec": {
   "display_name": "Python 3",
   "language": "python",
   "name": "python3"
  },
  "language_info": {
   "codemirror_mode": {
    "name": "ipython",
    "version": 3
   },
   "file_extension": ".py",
   "mimetype": "text/x-python",
   "name": "python",
   "nbconvert_exporter": "python",
   "pygments_lexer": "ipython3",
   "version": "3.10.12"
  }
 },
 "nbformat": 4,
 "nbformat_minor": 2
}
