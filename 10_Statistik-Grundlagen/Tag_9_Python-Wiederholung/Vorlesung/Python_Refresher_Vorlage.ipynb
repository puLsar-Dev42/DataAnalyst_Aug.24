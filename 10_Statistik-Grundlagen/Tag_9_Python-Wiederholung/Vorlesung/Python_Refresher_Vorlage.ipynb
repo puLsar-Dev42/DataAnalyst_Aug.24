{
 "cells": [
  {
   "cell_type": "code",
   "source": [
    "from datetime import datetime\n",
    "from time import sleep\n",
    "from collections import Counter\n",
    "import random"
   ],
   "metadata": {
    "collapsed": false,
    "ExecuteTime": {
     "end_time": "2025-02-14T11:00:28.995199Z",
     "start_time": "2025-02-14T11:00:28.990588Z"
    }
   },
   "id": "e211590c8cdcf7d6",
   "outputs": [],
   "execution_count": 99
  },
  {
   "metadata": {},
   "cell_type": "markdown",
   "source": "### For-Loop und List Comprehensions",
   "id": "38e6ee19625c86c"
  },
  {
   "metadata": {
    "ExecuteTime": {
     "end_time": "2025-02-14T07:31:24.578602Z",
     "start_time": "2025-02-14T07:31:24.573381Z"
    }
   },
   "cell_type": "code",
   "source": [
    "strange_list = ['Anna', 'Tina', 3.7, True, 4, {'Pikachu': '500 HP'}, 'Tina',\n",
    "\t\t\t\t['Hallo', 'wo', 'zum', 'Teufel', 'bin', 'ich?',\n",
    "\t\t\t\t ['Die Antwort ist', [], 42, 'hab', 'ich', 'gehört']]]"
   ],
   "id": "91487755e3579b3a",
   "outputs": [],
   "execution_count": 2
  },
  {
   "metadata": {
    "collapsed": false,
    "ExecuteTime": {
     "end_time": "2025-02-14T07:50:36.904397Z",
     "start_time": "2025-02-14T07:50:36.900132Z"
    }
   },
   "cell_type": "code",
   "source": [
    "# Finde mittels for-Schleife alle Vorkommnisse von Tina:\n",
    "for i, x in enumerate(strange_list):\n",
    "\tif x == \"Tina\":\n",
    "\t\tprint(f\"{x} gefunden an {i}\")"
   ],
   "id": "5c5ef9b67a25ffe9",
   "outputs": [
    {
     "name": "stdout",
     "output_type": "stream",
     "text": [
      "Tina gefunden an 1\n",
      "Tina gefunden an 6\n"
     ]
    }
   ],
   "execution_count": 13
  },
  {
   "metadata": {
    "ExecuteTime": {
     "end_time": "2025-02-14T07:50:44.606203Z",
     "start_time": "2025-02-14T07:50:44.597499Z"
    }
   },
   "cell_type": "code",
   "source": [
    "# Finde mittels list comprehension dasselbe:\n",
    "tinas = [(i, x) for i, x in enumerate(strange_list) if x == \"Tina\"]\n",
    "tinas"
   ],
   "id": "3a9fe2ec748b9db8",
   "outputs": [
    {
     "data": {
      "text/plain": [
       "[(1, 'Tina'), (6, 'Tina')]"
      ]
     },
     "execution_count": 14,
     "metadata": {},
     "output_type": "execute_result"
    }
   ],
   "execution_count": 14
  },
  {
   "metadata": {
    "ExecuteTime": {
     "end_time": "2025-02-14T07:52:37.781087Z",
     "start_time": "2025-02-14T07:52:37.775081Z"
    }
   },
   "cell_type": "code",
   "source": [
    "# Dasselbe mit builtin filter:\n",
    "tinas2 = list(filter(lambda x: x[1] == \"Tina\", enumerate(strange_list)))\n",
    "tinas2"
   ],
   "id": "d7afaf4059aa2682",
   "outputs": [
    {
     "data": {
      "text/plain": [
       "[(1, 'Tina'), (6, 'Tina')]"
      ]
     },
     "execution_count": 17,
     "metadata": {},
     "output_type": "execute_result"
    }
   ],
   "execution_count": 17
  },
  {
   "metadata": {
    "ExecuteTime": {
     "end_time": "2025-02-14T08:00:55.063683Z",
     "start_time": "2025-02-14T08:00:55.056159Z"
    }
   },
   "cell_type": "code",
   "source": [
    "# Zahlen zufällig würfeln:\n",
    "random.seed(42)\n",
    "numbers = [random.randint(1, 100) for num in range(100)]\n",
    "print(numbers)"
   ],
   "id": "b622cf105da839e0",
   "outputs": [
    {
     "name": "stdout",
     "output_type": "stream",
     "text": [
      "[82, 15, 4, 95, 36, 32, 29, 18, 95, 14, 87, 95, 70, 12, 76, 55, 5, 4, 12, 28, 30, 65, 78, 4, 72, 26, 92, 84, 90, 70, 54, 29, 58, 76, 36, 1, 98, 21, 90, 55, 44, 36, 20, 28, 98, 44, 14, 12, 49, 13, 46, 45, 78, 34, 6, 94, 59, 69, 16, 49, 11, 71, 38, 81, 80, 47, 74, 25, 91, 9, 6, 85, 30, 99, 38, 11, 30, 13, 49, 36, 59, 82, 47, 21, 48, 46, 27, 86, 35, 90, 88, 83, 10, 78, 82, 22, 69, 94, 32, 21]\n"
     ]
    }
   ],
   "execution_count": 19
  },
  {
   "metadata": {
    "ExecuteTime": {
     "end_time": "2025-02-14T08:03:04.987661Z",
     "start_time": "2025-02-14T08:03:04.981164Z"
    }
   },
   "cell_type": "code",
   "source": [
    "# Filtere alle durch 7 teilbaren Zahlen heraus. Arbeite mit einer for-Schleife:\n",
    "for num in numbers:\n",
    "\tif num % 7 == 0:\n",
    "\t\tprint(f\"durch 7 teilbar: {num}\")"
   ],
   "id": "9fdcf9667dfa45f",
   "outputs": [
    {
     "name": "stdout",
     "output_type": "stream",
     "text": [
      "durch 7 teilbar: 14\n",
      "durch 7 teilbar: 70\n",
      "durch 7 teilbar: 28\n",
      "durch 7 teilbar: 84\n",
      "durch 7 teilbar: 70\n",
      "durch 7 teilbar: 98\n",
      "durch 7 teilbar: 21\n",
      "durch 7 teilbar: 28\n",
      "durch 7 teilbar: 98\n",
      "durch 7 teilbar: 14\n",
      "durch 7 teilbar: 49\n",
      "durch 7 teilbar: 49\n",
      "durch 7 teilbar: 91\n",
      "durch 7 teilbar: 49\n",
      "durch 7 teilbar: 21\n",
      "durch 7 teilbar: 35\n",
      "durch 7 teilbar: 21\n"
     ]
    }
   ],
   "execution_count": 22
  },
  {
   "metadata": {
    "ExecuteTime": {
     "end_time": "2025-02-14T08:13:47.493353Z",
     "start_time": "2025-02-14T08:13:47.489287Z"
    }
   },
   "cell_type": "code",
   "source": [
    "divis = []\n",
    "for num in numbers:\n",
    "\tif num % 7 == 0:\n",
    "\t\tdivis.append(num)\n",
    "print(divis)"
   ],
   "id": "e1ccaf0c8f47073c",
   "outputs": [
    {
     "name": "stdout",
     "output_type": "stream",
     "text": [
      "[14, 70, 28, 84, 70, 98, 21, 28, 98, 14, 49, 49, 91, 49, 21, 35, 21]\n"
     ]
    }
   ],
   "execution_count": 29
  },
  {
   "metadata": {
    "ExecuteTime": {
     "end_time": "2025-02-14T08:04:08.075879Z",
     "start_time": "2025-02-14T08:04:08.068120Z"
    }
   },
   "cell_type": "code",
   "source": [
    "# Dasselbe mit einer list comprehension:\n",
    "[num for num in numbers if num % 7 == 0]"
   ],
   "id": "9d0e3e2fac5c7949",
   "outputs": [
    {
     "data": {
      "text/plain": [
       "[14, 70, 28, 84, 70, 98, 21, 28, 98, 14, 49, 49, 91, 49, 21, 35, 21]"
      ]
     },
     "execution_count": 23,
     "metadata": {},
     "output_type": "execute_result"
    }
   ],
   "execution_count": 23
  },
  {
   "metadata": {
    "ExecuteTime": {
     "end_time": "2025-02-14T08:08:36.690348Z",
     "start_time": "2025-02-14T08:08:36.682933Z"
    }
   },
   "cell_type": "code",
   "source": [
    "# Dasselbe mit filter:\n",
    "divs7 = list(filter(lambda num: num % 7 == 0, numbers))\n",
    "divs7"
   ],
   "id": "ca8b4d02e5954be5",
   "outputs": [
    {
     "data": {
      "text/plain": [
       "[14, 70, 28, 84, 70, 98, 21, 28, 98, 14, 49, 49, 91, 49, 21, 35, 21]"
      ]
     },
     "execution_count": 27,
     "metadata": {},
     "output_type": "execute_result"
    }
   ],
   "execution_count": 27
  },
  {
   "cell_type": "code",
   "source": [
    "# ÜBUNG:\n",
    "# Gegeben ist folgende Liste: ['Anna', 'Tina', 'Anton', 'Lana', 'Anna', 'Toni', Minna', 'Lena', 'Hanna']\n",
    "# Einfach: Finde mittels For-Loop alle Positionen, an denen 'Anna' vorkommt\n",
    "# Etwas schwieriger: Finde mittels For-Loop alle Positionen von Strings, die mit 'nna' enden."
   ],
   "metadata": {
    "collapsed": false
   },
   "id": "f93e1c0fbc63e69e",
   "outputs": [],
   "execution_count": null
  },
  {
   "cell_type": "code",
   "source": [
    "blub = ['Anna', 'Tina', 'Anton', 'Lana', 'Anna', 'Toni', 'Minna', 'Lena', 'Hanna']\n",
    "for idx, item in enumerate(blub):\n",
    "\tif item.endswith(\"nna\"):\n",
    "\t\tprint(f\"=> '{item}' gefunden an Index: {idx}\")"
   ],
   "metadata": {
    "collapsed": false,
    "ExecuteTime": {
     "end_time": "2025-02-14T08:42:23.896455Z",
     "start_time": "2025-02-14T08:42:23.889913Z"
    }
   },
   "id": "73ff878049794ddf",
   "outputs": [
    {
     "name": "stdout",
     "output_type": "stream",
     "text": [
      "=> 'Anna' gefunden an Index: 0\n",
      "=> 'Anna' gefunden an Index: 4\n",
      "=> 'Minna' gefunden an Index: 6\n",
      "=> 'Hanna' gefunden an Index: 8\n"
     ]
    }
   ],
   "execution_count": 40
  },
  {
   "metadata": {},
   "cell_type": "markdown",
   "source": [
    "### Definition bzw. Erklärung for-Loop !!!\n",
    "###\n",
    "### for idx, item in enumerate(blub):\n",
    "### => ...für Index(idx) und Element(item) prüfe...\n",
    "###\t\tif item.endswith(\"nna\"):\n",
    "### => ...ob item mit 'nna' endet...\n",
    "###\t\t\tprint(f\"=> '{item}' gefunden an Index: {idx}\")\n",
    "### => ...wenn dem so ist printe '{item}' gefunden an Index: {idx}"
   ],
   "id": "dcb0bcba90b69be9"
  },
  {
   "cell_type": "code",
   "source": [
    "# ÜBUNG\n",
    "# Du hast eine Liste von Preisen: [12, 10, 80, 65, 14, 5, 12]\n",
    "# Es gibt eine Rabattaktion. Senke alle Elemente in der Liste um 20 Prozent.\n",
    "# Benutze hierfür list comprehension. Runde auf zwei Nachkommastellen."
   ],
   "metadata": {
    "collapsed": false
   },
   "id": "77bc349bef686001",
   "outputs": [],
   "execution_count": null
  },
  {
   "metadata": {
    "ExecuteTime": {
     "end_time": "2025-02-14T08:22:21.167650Z",
     "start_time": "2025-02-14T08:22:21.159630Z"
    }
   },
   "cell_type": "code",
   "source": [
    "prices = [12, 10, 80, 65, 14, 5, 12]\n",
    "discountprices = [round(price * 0.8, 2) for price in prices]\n",
    "print(discountprices)"
   ],
   "id": "a3cdb017e493ebb0",
   "outputs": [
    {
     "name": "stdout",
     "output_type": "stream",
     "text": [
      "[9.6, 8.0, 64.0, 52.0, 11.2, 4.0, 9.6]\n"
     ]
    }
   ],
   "execution_count": 35
  },
  {
   "metadata": {},
   "cell_type": "markdown",
   "source": "### Dictionaries",
   "id": "666efd919c99e937"
  },
  {
   "metadata": {
    "collapsed": false,
    "ExecuteTime": {
     "end_time": "2025-02-14T08:58:34.195940Z",
     "start_time": "2025-02-14T08:58:34.189402Z"
    }
   },
   "cell_type": "code",
   "source": [
    "# Mehr Dictionaries\n",
    "anna_blume = dict(nachname='Blume',\n",
    "\t\t\t\t  vorname='Anna',\n",
    "\t\t\t\t  alter=30,\n",
    "\t\t\t\t  beruf='Data Analyst',\n",
    "\t\t\t\t  fertigkeiten=['Python', 'Pandas', 'Numpy', 'Scikit-Learn',\n",
    "\t\t\t\t\t\t\t\t'Power BI', 'SQL', 'Matplotlib & Seaborn'],\n",
    "\t\t\t\t  hobbies=['Reisen', 'Tanzen', 'Bücher lesen'],\n",
    "\t\t\t\t  gewicht=67.5,\n",
    "\t\t\t\t  verheiratet=True)"
   ],
   "id": "8378ad9eac2a9e58",
   "outputs": [],
   "execution_count": 54
  },
  {
   "metadata": {
    "collapsed": false
   },
   "cell_type": "code",
   "source": [
    "# Dictionaries können natürlich auch immer so erstellt werden:\n",
    "# {'nachname': 'Blume', 'vorname': 'Anna' ...}"
   ],
   "id": "ce7bfecd53c62af4",
   "outputs": [],
   "execution_count": null
  },
  {
   "metadata": {},
   "cell_type": "code",
   "outputs": [],
   "execution_count": null,
   "source": "",
   "id": "ec48c0f5f762ef9b"
  },
  {
   "metadata": {
    "collapsed": false,
    "ExecuteTime": {
     "end_time": "2025-02-14T08:58:36.259280Z",
     "start_time": "2025-02-14T08:58:36.250373Z"
    }
   },
   "cell_type": "code",
   "source": [
    "# Wie fügt man dem Ganzen einen Eintrag 'haustier' mit Wert 'Hund' hinzu?\n",
    "anna_blume[\"haustier\"] = \"Hund\"\n",
    "anna_blume"
   ],
   "id": "82843dafb860da7e",
   "outputs": [
    {
     "data": {
      "text/plain": [
       "{'nachname': 'Blume',\n",
       " 'vorname': 'Anna',\n",
       " 'alter': 30,\n",
       " 'beruf': 'Data Analyst',\n",
       " 'fertigkeiten': ['Python',\n",
       "  'Pandas',\n",
       "  'Numpy',\n",
       "  'Scikit-Learn',\n",
       "  'Power BI',\n",
       "  'SQL',\n",
       "  'Matplotlib & Seaborn'],\n",
       " 'hobbies': ['Reisen', 'Tanzen', 'Bücher lesen'],\n",
       " 'gewicht': 67.5,\n",
       " 'verheiratet': True,\n",
       " 'haustier': 'Hund'}"
      ]
     },
     "execution_count": 55,
     "metadata": {},
     "output_type": "execute_result"
    }
   ],
   "execution_count": 55
  },
  {
   "metadata": {
    "collapsed": false
   },
   "cell_type": "code",
   "source": "",
   "id": "d0e397c57d8070e3",
   "outputs": [],
   "execution_count": null
  },
  {
   "metadata": {
    "collapsed": false,
    "ExecuteTime": {
     "end_time": "2025-02-14T08:58:39.275844Z",
     "start_time": "2025-02-14T08:58:39.269227Z"
    }
   },
   "cell_type": "code",
   "source": [
    "# Wie erhöht man das Alter Annas von 30 auf 31?\n",
    "anna_blume[\"alter\"] = 31\n",
    "anna_blume"
   ],
   "id": "9dd7ed4744d41de1",
   "outputs": [
    {
     "data": {
      "text/plain": [
       "{'nachname': 'Blume',\n",
       " 'vorname': 'Anna',\n",
       " 'alter': 31,\n",
       " 'beruf': 'Data Analyst',\n",
       " 'fertigkeiten': ['Python',\n",
       "  'Pandas',\n",
       "  'Numpy',\n",
       "  'Scikit-Learn',\n",
       "  'Power BI',\n",
       "  'SQL',\n",
       "  'Matplotlib & Seaborn'],\n",
       " 'hobbies': ['Reisen', 'Tanzen', 'Bücher lesen'],\n",
       " 'gewicht': 67.5,\n",
       " 'verheiratet': True,\n",
       " 'haustier': 'Hund'}"
      ]
     },
     "execution_count": 56,
     "metadata": {},
     "output_type": "execute_result"
    }
   ],
   "execution_count": 56
  },
  {
   "metadata": {
    "collapsed": false
   },
   "cell_type": "code",
   "source": "",
   "id": "7c9b11b83e6070b1",
   "outputs": [],
   "execution_count": null
  },
  {
   "metadata": {
    "collapsed": false,
    "ExecuteTime": {
     "end_time": "2025-02-14T08:58:42.057134Z",
     "start_time": "2025-02-14T08:58:42.048905Z"
    }
   },
   "cell_type": "code",
   "source": [
    "# Alternativ auch (dann wird sie halt 32):\n",
    "anna_blume[\"alter\"] += 1\n",
    "anna_blume"
   ],
   "id": "a0fd3a038903edc7",
   "outputs": [
    {
     "data": {
      "text/plain": [
       "{'nachname': 'Blume',\n",
       " 'vorname': 'Anna',\n",
       " 'alter': 32,\n",
       " 'beruf': 'Data Analyst',\n",
       " 'fertigkeiten': ['Python',\n",
       "  'Pandas',\n",
       "  'Numpy',\n",
       "  'Scikit-Learn',\n",
       "  'Power BI',\n",
       "  'SQL',\n",
       "  'Matplotlib & Seaborn'],\n",
       " 'hobbies': ['Reisen', 'Tanzen', 'Bücher lesen'],\n",
       " 'gewicht': 67.5,\n",
       " 'verheiratet': True,\n",
       " 'haustier': 'Hund'}"
      ]
     },
     "execution_count": 57,
     "metadata": {},
     "output_type": "execute_result"
    }
   ],
   "execution_count": 57
  },
  {
   "metadata": {
    "collapsed": false
   },
   "cell_type": "code",
   "source": "",
   "id": "547bae09b5a051f9",
   "outputs": [],
   "execution_count": null
  },
  {
   "metadata": {
    "collapsed": false,
    "ExecuteTime": {
     "end_time": "2025-02-14T08:58:45.700288Z",
     "start_time": "2025-02-14T08:58:45.695683Z"
    }
   },
   "cell_type": "code",
   "source": [
    "# Wie entfernt man die Information zum Verheiratet-Status?\n",
    "anna_blume.pop(\"verheiratet\")\n",
    "anna_blume"
   ],
   "id": "3cae420cf7541c1c",
   "outputs": [
    {
     "data": {
      "text/plain": [
       "{'nachname': 'Blume',\n",
       " 'vorname': 'Anna',\n",
       " 'alter': 32,\n",
       " 'beruf': 'Data Analyst',\n",
       " 'fertigkeiten': ['Python',\n",
       "  'Pandas',\n",
       "  'Numpy',\n",
       "  'Scikit-Learn',\n",
       "  'Power BI',\n",
       "  'SQL',\n",
       "  'Matplotlib & Seaborn'],\n",
       " 'hobbies': ['Reisen', 'Tanzen', 'Bücher lesen'],\n",
       " 'gewicht': 67.5,\n",
       " 'haustier': 'Hund'}"
      ]
     },
     "execution_count": 58,
     "metadata": {},
     "output_type": "execute_result"
    }
   ],
   "execution_count": 58
  },
  {
   "metadata": {
    "collapsed": false
   },
   "cell_type": "code",
   "outputs": [],
   "execution_count": null,
   "source": "",
   "id": "526e23d79b97b1d4"
  },
  {
   "metadata": {
    "collapsed": false,
    "ExecuteTime": {
     "end_time": "2025-02-14T08:59:15.169609Z",
     "start_time": "2025-02-14T08:59:15.161877Z"
    }
   },
   "cell_type": "code",
   "source": [
    "# Füge dem Dictionary einen weiteren Eintrag 'lieblingsessen' hinzu mit dem Wert 'Chinesisch':\n",
    "anna_blume[\"lieblingsessen\"] = \"Chinesisch\"\n",
    "anna_blume"
   ],
   "id": "300113027cdcc74a",
   "outputs": [
    {
     "data": {
      "text/plain": [
       "{'nachname': 'Blume',\n",
       " 'vorname': 'Anna',\n",
       " 'alter': 32,\n",
       " 'beruf': 'Data Analyst',\n",
       " 'fertigkeiten': ['Python',\n",
       "  'Pandas',\n",
       "  'Numpy',\n",
       "  'Scikit-Learn',\n",
       "  'Power BI',\n",
       "  'SQL',\n",
       "  'Matplotlib & Seaborn'],\n",
       " 'hobbies': ['Reisen', 'Tanzen', 'Bücher lesen'],\n",
       " 'gewicht': 67.5,\n",
       " 'haustier': 'Hund',\n",
       " 'lieblingsessen': 'Chinesisch'}"
      ]
     },
     "execution_count": 59,
     "metadata": {},
     "output_type": "execute_result"
    }
   ],
   "execution_count": 59
  },
  {
   "metadata": {
    "collapsed": false,
    "ExecuteTime": {
     "end_time": "2025-02-14T08:59:17.678969Z",
     "start_time": "2025-02-14T08:59:17.670914Z"
    }
   },
   "cell_type": "code",
   "source": [
    "# Anna hat zugelegt. Erhöhe das Gewicht auf 95.5 kg:\n",
    "anna_blume[\"gewicht\"] += 28\n",
    "anna_blume"
   ],
   "id": "222aca0c79ca0692",
   "outputs": [
    {
     "data": {
      "text/plain": [
       "{'nachname': 'Blume',\n",
       " 'vorname': 'Anna',\n",
       " 'alter': 32,\n",
       " 'beruf': 'Data Analyst',\n",
       " 'fertigkeiten': ['Python',\n",
       "  'Pandas',\n",
       "  'Numpy',\n",
       "  'Scikit-Learn',\n",
       "  'Power BI',\n",
       "  'SQL',\n",
       "  'Matplotlib & Seaborn'],\n",
       " 'hobbies': ['Reisen', 'Tanzen', 'Bücher lesen'],\n",
       " 'gewicht': 95.5,\n",
       " 'haustier': 'Hund',\n",
       " 'lieblingsessen': 'Chinesisch'}"
      ]
     },
     "execution_count": 60,
     "metadata": {},
     "output_type": "execute_result"
    }
   ],
   "execution_count": 60
  },
  {
   "metadata": {
    "collapsed": false,
    "ExecuteTime": {
     "end_time": "2025-02-14T08:59:21.851300Z",
     "start_time": "2025-02-14T08:59:21.843277Z"
    }
   },
   "cell_type": "code",
   "source": [
    "# Der Hund ist gestorben... Entferne das Haustier:\n",
    "anna_blume.pop(\"haustier\")\n",
    "anna_blume"
   ],
   "id": "8f073a42840065ec",
   "outputs": [
    {
     "data": {
      "text/plain": [
       "{'nachname': 'Blume',\n",
       " 'vorname': 'Anna',\n",
       " 'alter': 32,\n",
       " 'beruf': 'Data Analyst',\n",
       " 'fertigkeiten': ['Python',\n",
       "  'Pandas',\n",
       "  'Numpy',\n",
       "  'Scikit-Learn',\n",
       "  'Power BI',\n",
       "  'SQL',\n",
       "  'Matplotlib & Seaborn'],\n",
       " 'hobbies': ['Reisen', 'Tanzen', 'Bücher lesen'],\n",
       " 'gewicht': 95.5,\n",
       " 'lieblingsessen': 'Chinesisch'}"
      ]
     },
     "execution_count": 61,
     "metadata": {},
     "output_type": "execute_result"
    }
   ],
   "execution_count": 61
  },
  {
   "metadata": {
    "collapsed": false,
    "ExecuteTime": {
     "end_time": "2025-02-14T09:01:38.428317Z",
     "start_time": "2025-02-14T09:01:38.420203Z"
    }
   },
   "cell_type": "code",
   "source": [
    "# Anna geht nicht mehr gern tanzen. Entferne dieses Hobby.\n",
    "anna_blume[\"hobbies\"].pop(1)\n",
    "anna_blume"
   ],
   "id": "6eec7eb415ed95f3",
   "outputs": [
    {
     "data": {
      "text/plain": [
       "{'nachname': 'Blume',\n",
       " 'vorname': 'Anna',\n",
       " 'alter': 32,\n",
       " 'beruf': 'Data Analyst',\n",
       " 'fertigkeiten': ['Python',\n",
       "  'Pandas',\n",
       "  'Numpy',\n",
       "  'Scikit-Learn',\n",
       "  'Power BI',\n",
       "  'SQL',\n",
       "  'Matplotlib & Seaborn'],\n",
       " 'hobbies': ['Reisen', 'Bücher lesen'],\n",
       " 'gewicht': 95.5,\n",
       " 'lieblingsessen': 'Chinesisch'}"
      ]
     },
     "execution_count": 64,
     "metadata": {},
     "output_type": "execute_result"
    }
   ],
   "execution_count": 64
  },
  {
   "metadata": {
    "collapsed": false,
    "ExecuteTime": {
     "end_time": "2025-02-14T09:02:22.725592Z",
     "start_time": "2025-02-14T09:02:22.717913Z"
    }
   },
   "cell_type": "code",
   "source": [
    "# Füge stattdessen das Hobby 'Musizieren' hinzu:\n",
    "anna_blume[\"hobbies\"].append(\"Musizieren\")\n",
    "anna_blume"
   ],
   "id": "d2cf4ed0329d78aa",
   "outputs": [
    {
     "data": {
      "text/plain": [
       "{'nachname': 'Blume',\n",
       " 'vorname': 'Anna',\n",
       " 'alter': 32,\n",
       " 'beruf': 'Data Analyst',\n",
       " 'fertigkeiten': ['Python',\n",
       "  'Pandas',\n",
       "  'Numpy',\n",
       "  'Scikit-Learn',\n",
       "  'Power BI',\n",
       "  'SQL',\n",
       "  'Matplotlib & Seaborn'],\n",
       " 'hobbies': ['Reisen', 'Bücher lesen', 'Musizieren'],\n",
       " 'gewicht': 95.5,\n",
       " 'lieblingsessen': 'Chinesisch'}"
      ]
     },
     "execution_count": 65,
     "metadata": {},
     "output_type": "execute_result"
    }
   ],
   "execution_count": 65
  },
  {
   "metadata": {
    "collapsed": false,
    "ExecuteTime": {
     "end_time": "2025-02-14T09:02:42.765803Z",
     "start_time": "2025-02-14T09:02:42.760988Z"
    }
   },
   "cell_type": "code",
   "source": [
    "# Schaue dir ihre Hobbies an:\n",
    "anna_blume[\"hobbies\"]"
   ],
   "id": "2156e3a49c08835a",
   "outputs": [
    {
     "data": {
      "text/plain": [
       "['Reisen', 'Bücher lesen', 'Musizieren']"
      ]
     },
     "execution_count": 66,
     "metadata": {},
     "output_type": "execute_result"
    }
   ],
   "execution_count": 66
  },
  {
   "metadata": {},
   "cell_type": "markdown",
   "source": "# While Loops bauen",
   "id": "c0ab8c9166f2f416"
  },
  {
   "metadata": {
    "collapsed": false,
    "ExecuteTime": {
     "end_time": "2025-02-14T09:41:20.836489Z",
     "start_time": "2025-02-14T09:41:10.822319Z"
    }
   },
   "cell_type": "code",
   "source": [
    "# Ein Counter der von 10 runter zählt und dann \"Neujahr\" schreibt.\n",
    "countdown = 10\n",
    "while countdown > 0:\n",
    "\tprint(countdown)\n",
    "\tsleep(1)\n",
    "\tcountdown -= 1\n",
    "print(\"Neujahr\")"
   ],
   "id": "723fba65f117de9",
   "outputs": [
    {
     "name": "stdout",
     "output_type": "stream",
     "text": [
      "10\n",
      "9\n",
      "8\n",
      "7\n",
      "6\n",
      "5\n",
      "4\n",
      "3\n",
      "2\n",
      "1\n",
      "Neujahr\n"
     ]
    }
   ],
   "execution_count": 70
  },
  {
   "metadata": {
    "collapsed": false
   },
   "cell_type": "code",
   "source": [
    "# Alle drei Sekunden wird geprüft, ob eine Ziel-Uhrzeit erreicht wurde.\n",
    "# Solange sie nicht erreicht ist, erscheint die Nachricht \"Zu früh\".\n",
    "# Wenn sie erreicht ist, lautet die Botschaft \"Hurra!\"\n",
    "target_time = datetime(2025, 2, 14, )"
   ],
   "id": "dfaac4c78e036659",
   "outputs": [],
   "execution_count": null
  },
  {
   "metadata": {
    "collapsed": false
   },
   "cell_type": "code",
   "source": [
    "# ÜBUNG\n",
    "# Schreibe eine \"Besserungsloop\". Der Nutzer wird so lange gefragt, wie es ihm geht, bis er 'gut' eingibt. Wenn er 'gut' eingegeben hat, kriegt er als Antwort: \"Na also, geht doch.\" Und die Loop hört auf."
   ],
   "id": "613156469e0c176d",
   "outputs": [],
   "execution_count": null
  },
  {
   "metadata": {
    "ExecuteTime": {
     "end_time": "2025-02-14T10:12:36.523232Z",
     "start_time": "2025-02-14T10:12:14.521077Z"
    }
   },
   "cell_type": "code",
   "source": [
    "user_input = input('Wie geht es Dir heute?: ')\n",
    "\n",
    "while user_input.lower() != 'gut':\n",
    "\tprint('Echt? Schade das zu hören... wie geht es Dir wirklich?')\n",
    "\tsleep(1)\n",
    "\tuser_input = input('Wie geht es Dir heute?: ')\n",
    "\n",
    "print('Na also, geht doch.')"
   ],
   "id": "a65771faec121e41",
   "outputs": [
    {
     "name": "stdout",
     "output_type": "stream",
     "text": [
      "Echt? Schade das zu hören... wie geht es Dir wirklich?\n",
      "Na also, geht doch.\n"
     ]
    }
   ],
   "execution_count": 72
  },
  {
   "metadata": {
    "ExecuteTime": {
     "end_time": "2025-02-14T10:13:00.432599Z",
     "start_time": "2025-02-14T10:12:45.741922Z"
    }
   },
   "cell_type": "code",
   "source": [
    "user_input = input('Wie geht es Dir heute?: ')\n",
    "\n",
    "while 'gut' not in user_input.lower():\n",
    "\tprint('Echt? Schade das zu hören... wie geht es Dir wirklich?')\n",
    "\tsleep(1)\n",
    "\tuser_input = input('Wie geht es Dir heute?: ')\n",
    "\n",
    "print('Na also, geht doch.')"
   ],
   "id": "eff6d3e3760092fb",
   "outputs": [
    {
     "name": "stdout",
     "output_type": "stream",
     "text": [
      "Na also, geht doch.\n"
     ]
    }
   ],
   "execution_count": 73
  },
  {
   "metadata": {},
   "cell_type": "markdown",
   "source": "## Funktionen",
   "id": "6fd95f7f5c32eaad"
  },
  {
   "metadata": {
    "collapsed": false
   },
   "cell_type": "code",
   "source": "# Schreibe eine Funktion, die den BMI eines Menschen errechnet:\n",
   "id": "5ee29f78c08ba499",
   "outputs": [],
   "execution_count": null
  },
  {
   "metadata": {
    "ExecuteTime": {
     "end_time": "2025-02-14T10:34:19.664542Z",
     "start_time": "2025-02-14T10:34:19.658994Z"
    }
   },
   "cell_type": "code",
   "source": [
    "def calc_BMI(size: float, weight: float) -> float:\n",
    "\t'''\n",
    "\tfunction:\n",
    "\tto calculate BMI\n",
    "\tweight / size ** 2\n",
    "\tDTypes: size => float, weight => float\n",
    "\treturn: rounded(2) BMI\n",
    "\t'''\n",
    "\tbmi = weight / size ** 2\n",
    "\treturn round(bmi, 2)\n",
    "\n",
    "\n",
    "bmi = calc_BMI(1.76, 100.0)\n",
    "print(bmi)"
   ],
   "id": "befce4f5283d09ee",
   "outputs": [
    {
     "name": "stdout",
     "output_type": "stream",
     "text": [
      "32.28\n"
     ]
    }
   ],
   "execution_count": 80
  },
  {
   "metadata": {
    "collapsed": false,
    "ExecuteTime": {
     "end_time": "2025-02-14T10:48:45.421234Z",
     "start_time": "2025-02-14T10:48:45.414418Z"
    }
   },
   "cell_type": "code",
   "source": [
    "# Schreibe eine Funktion, die Fuß in Zentimeter umrechnet.\n",
    "# Rechne dann 5 Fuß in Zentimeter um.\n",
    "# Optional: Führe einen Parameter inverse ein, über den man die Berechnung umdrehen kann.\n",
    "\n",
    "def feet_to_cm_or_inverted(size: float, inverse: bool = False) -> float:\n",
    "\t'''\n",
    "\tfunction:\n",
    "\tto calculate feet to cm or inverted\n",
    "\tsize * 30.48 or size / 30.48\n",
    "\tDType: size => float, inverse => bool (DefaultValue=False)\n",
    "\treturn: cm or inverted feet\n",
    "\t'''\n",
    "\tif inverse == True:\n",
    "\t\treturn round(size / 30.48, 2)\n",
    "\treturn round(size * 30.48, 2)\n",
    "\n",
    "\n",
    "feet_to_cm_or_inverted(5, True)"
   ],
   "id": "596acffb5d904421",
   "outputs": [
    {
     "data": {
      "text/plain": [
       "0.16"
      ]
     },
     "execution_count": 88,
     "metadata": {},
     "output_type": "execute_result"
    }
   ],
   "execution_count": 88
  },
  {
   "metadata": {
    "collapsed": false,
    "ExecuteTime": {
     "end_time": "2025-02-14T10:53:09.016567Z",
     "start_time": "2025-02-14T10:53:09.012232Z"
    }
   },
   "cell_type": "code",
   "source": [
    "# Schreibe eine Funktion, die die Anzahl von Worten in einem Text zählt:\n",
    "\n",
    "def count_words(text: str) -> int:\n",
    "\ttokens = text.split(\" \")\n",
    "\treturn len(tokens)"
   ],
   "id": "f314dac71766a1ff",
   "outputs": [],
   "execution_count": 90
  },
  {
   "metadata": {
    "collapsed": false,
    "ExecuteTime": {
     "end_time": "2025-02-14T10:54:15.995024Z",
     "start_time": "2025-02-14T10:54:15.985901Z"
    }
   },
   "cell_type": "code",
   "source": [
    "# Wende die Funktion auf folgenden Satz an:\n",
    "satz = 'Das ist ein Satz mit ein paar Worten drin.'\n",
    "count_words(satz)"
   ],
   "id": "8d177dae4f61937c",
   "outputs": [
    {
     "data": {
      "text/plain": [
       "9"
      ]
     },
     "execution_count": 91,
     "metadata": {},
     "output_type": "execute_result"
    }
   ],
   "execution_count": 91
  },
  {
   "metadata": {
    "collapsed": false,
    "ExecuteTime": {
     "end_time": "2025-02-14T11:00:06.225872Z",
     "start_time": "2025-02-14T11:00:06.220678Z"
    }
   },
   "cell_type": "code",
   "source": [
    "# Schreibe eine Funktion namens calculate_word_frequencies, die die Anzahl von Worten in einem Text, der als Liste vorliegt, zählt:\n",
    "\n",
    "def calc_word_freqs(text: list) -> Counter:\n",
    "\treturn Counter(text)\n"
   ],
   "id": "ccd00ee812c952eb",
   "outputs": [],
   "execution_count": 97
  },
  {
   "metadata": {
    "ExecuteTime": {
     "end_time": "2025-02-14T10:58:32.501860Z",
     "start_time": "2025-02-14T10:58:32.496849Z"
    }
   },
   "cell_type": "code",
   "source": [
    "# Wende die Funktion auf folgenden Satz an:\n",
    "satz = ['Das', 'ist', 'ein', 'Satz', 'mit', 'ein', 'paar', 'Worten', 'drin']"
   ],
   "id": "5c618a50d198f64e",
   "outputs": [],
   "execution_count": 93
  },
  {
   "metadata": {
    "collapsed": false,
    "ExecuteTime": {
     "end_time": "2025-02-14T11:00:07.800589Z",
     "start_time": "2025-02-14T11:00:07.791454Z"
    }
   },
   "cell_type": "code",
   "source": "calc_word_freqs(satz)",
   "id": "b23327132192f728",
   "outputs": [
    {
     "data": {
      "text/plain": [
       "Counter({'ein': 2,\n",
       "         'Das': 1,\n",
       "         'ist': 1,\n",
       "         'Satz': 1,\n",
       "         'mit': 1,\n",
       "         'paar': 1,\n",
       "         'Worten': 1,\n",
       "         'drin': 1})"
      ]
     },
     "execution_count": 98,
     "metadata": {},
     "output_type": "execute_result"
    }
   ],
   "execution_count": 98
  },
  {
   "metadata": {
    "collapsed": false
   },
   "cell_type": "code",
   "source": [
    "# Schreibe eine Funktion tokenize_string, die alle Satzzeichen in einem String entfernt\n",
    "# und ihn dann erst in einzelne Token auftrennt:\n"
   ],
   "id": "58f6f507a9841ef7",
   "outputs": [],
   "execution_count": null
  },
  {
   "metadata": {
    "collapsed": false
   },
   "cell_type": "code",
   "source": [
    "# Wende nun zuerst deine tokenize-Funktion auf den Text an\n",
    "# und danach calculacte_word_frequencies.\n",
    "# Welches Wort kommt am häufigsten vor?\n",
    "\n",
    "text = '''Hallo Du!\n",
    "\n",
    "Wir stellen Dir die Hardware\n",
    "kostenlos zur Verfügung.\n",
    "\n",
    "Du bekommst von uns kostenlos einen leistungsstarken Laptop zur Verfügung gestellt, den Du sogar bei erfolgreichem Bestehen des Kurses behalten darfst.\n",
    "\n",
    "Um Dir Deinen Start maximal zu erleichtern, haben Wir diesen bereits vollumfänglich konfiguriert und er enthält alle relevanten Programme und Einstellungen.\n",
    "\n",
    "'''"
   ],
   "id": "4ea8a64791d38db4",
   "outputs": [],
   "execution_count": null
  },
  {
   "metadata": {},
   "cell_type": "code",
   "source": "",
   "id": "9cbc021c7e951aac",
   "outputs": [],
   "execution_count": null
  },
  {
   "metadata": {
    "collapsed": false
   },
   "cell_type": "code",
   "source": [
    "# Schreibe eine Funktion, die dir ausrechnet, wie viel Geld du pro Tag hast.\n",
    "# Der Nutzer übergibt den aktuellen Kontostand und die Funktion ermittelt, wie viele\n",
    "# Tage noch bis Monatsende sind und berechnet dann den Betrag, der pro Tag verfügbar ist.\n",
    "# Der aktuelle Tag soll auch als vollwertiger Tag in die Berechnung einfließen.\n",
    "# Die Funktion soll nur für Werte über 0 sinnvolle Zahlen ausspucken.\n",
    "# In allen anderen Fällen soll sie den Nutzer darüber informieren, dass er kein Geld zur Verfügung hat.\n"
   ],
   "id": "b23e8f2dc9bd7092",
   "outputs": [],
   "execution_count": null
  },
  {
   "metadata": {
    "collapsed": false
   },
   "cell_type": "code",
   "source": "",
   "id": "cb83b4d421ddeea0",
   "outputs": [],
   "execution_count": null
  }
 ],
 "metadata": {
  "kernelspec": {
   "display_name": "Python 3",
   "language": "python",
   "name": "python3"
  },
  "language_info": {
   "codemirror_mode": {
    "name": "ipython",
    "version": 2
   },
   "file_extension": ".py",
   "mimetype": "text/x-python",
   "name": "python",
   "nbconvert_exporter": "python",
   "pygments_lexer": "ipython2",
   "version": "2.7.6"
  }
 },
 "nbformat": 4,
 "nbformat_minor": 5
}
