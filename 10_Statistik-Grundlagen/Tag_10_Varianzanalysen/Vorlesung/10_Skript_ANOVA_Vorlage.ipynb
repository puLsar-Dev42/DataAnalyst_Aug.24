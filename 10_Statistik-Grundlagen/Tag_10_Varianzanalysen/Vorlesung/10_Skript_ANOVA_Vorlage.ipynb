{
 "cells": [
  {
   "attachments": {},
   "cell_type": "markdown",
   "metadata": {},
   "source": "## ANOVA / Varianzanalyse"
  },
  {
   "cell_type": "code",
   "metadata": {},
   "source": [
    "import plotly.express as px\n",
    "import scipy.stats as st\n",
    "import statsmodels.stats.multicomp as mc"
   ],
   "outputs": [],
   "execution_count": null
  },
  {
   "cell_type": "code",
   "metadata": {},
   "source": [
    "# Der heutige Datensatz:\n",
    "tips = px.data.tips()\n",
    "tips[\"TipRatio\"] = tips[\"tip\"]/tips[\"total_bill\"] * 100\n",
    "tips.head()"
   ],
   "outputs": [],
   "execution_count": null
  },
  {
   "attachments": {},
   "cell_type": "markdown",
   "metadata": {},
   "source": [
    "### Einfaktorielle Varianzanalyse\n",
    "Am Beispiel Tip per Total_Bill aufgeteilt in size"
   ]
  },
  {
   "metadata": {},
   "cell_type": "code",
   "source": [
    "# Die wichtigen rauspicken:\n",
    "tips['size'].value_counts()"
   ],
   "outputs": [],
   "execution_count": null
  },
  {
   "metadata": {},
   "cell_type": "code",
   "source": [
    "# Standardabweichungen sind relativ ähnlich:\n",
    "tips.groupby('size')['total_bill'].describe()"
   ],
   "outputs": [],
   "execution_count": null
  },
  {
   "metadata": {},
   "cell_type": "code",
   "source": [
    "# Varianzen sind relativ ähnlich:\n",
    "subframe = tips[tips['size'].isin([2, 3, 4])]\n",
    "px.box(\n",
    "    subframe,\n",
    "    x='size',\n",
    "    y='total_bill',\n",
    "    width=750,\n",
    ")"
   ],
   "outputs": [],
   "execution_count": null
  },
  {
   "metadata": {},
   "cell_type": "code",
   "source": [
    "# Unimodale Verteilungen, die rechtsschief sind:\n",
    "px.histogram(\n",
    "    subframe,\n",
    "    x='total_bill',\n",
    "    color='size',\n",
    "    barmode='group',\n",
    "    width=800,\n",
    "    height=450\n",
    ")"
   ],
   "outputs": [],
   "execution_count": null
  },
  {
   "metadata": {},
   "cell_type": "code",
   "source": [
    "two_persons = tips[\"total_bill\"][tips[\"size\"] == 2]\n",
    "three_persons = tips[\"total_bill\"][tips[\"size\"] == 3]\n",
    "four_persons = tips[\"total_bill\"][tips[\"size\"] == 4]"
   ],
   "outputs": [],
   "execution_count": null
  },
  {
   "cell_type": "code",
   "metadata": {},
   "source": [
    "result = st.f_oneway(\n",
    "    two_persons,\n",
    "    three_persons,\n",
    "    four_persons,\n",
    ")"
   ],
   "outputs": [],
   "execution_count": null
  },
  {
   "metadata": {},
   "cell_type": "code",
   "source": [
    "# Enthält: F-Wert und korrespondierenden p-Wert:\n",
    "result"
   ],
   "outputs": [],
   "execution_count": null
  },
  {
   "metadata": {},
   "cell_type": "code",
   "source": [
    "# Was sagt uns ein solcher p-Wert?\n",
    "result.pvalue"
   ],
   "outputs": [],
   "execution_count": null
  },
  {
   "attachments": {},
   "cell_type": "markdown",
   "metadata": {},
   "source": [
    "### Post-Hoc-Tests"
   ]
  },
  {
   "cell_type": "code",
   "metadata": {},
   "source": [
    "comp = mc.MultiComparison(subframe[\"total_bill\"], subframe[\"size\"])\n",
    "post_hoc_res = comp.tukeyhsd()\n",
    "post_hoc_res.summary()"
   ],
   "outputs": [],
   "execution_count": null
  },
  {
   "cell_type": "code",
   "metadata": {},
   "source": [
    "# Grafische Darstellung\n",
    "post_hoc_res.plot_simultaneous(\n",
    "    ylabel= \"Table size\",\n",
    "    xlabel= \"Score Difference Total Bill\",\n",
    ")"
   ],
   "outputs": [],
   "execution_count": null
  },
  {
   "cell_type": "markdown",
   "metadata": {},
   "source": [
    "### Übungsaufgabe\n",
    "\n",
    "Weiter oben im Skript haben wir TipRatio als das Verhältnis von Total Bill und Tip erstellt. Führe eine vollständige Varianzanalyse (5 Schritte) mit dieser Variablen durch und prüfe auf Unterschiede in den Tagen (\"day\")"
   ]
  },
  {
   "metadata": {},
   "cell_type": "code",
   "source": "",
   "outputs": [],
   "execution_count": null
  },
  {
   "cell_type": "code",
   "metadata": {},
   "source": "",
   "outputs": [],
   "execution_count": null
  },
  {
   "cell_type": "code",
   "metadata": {},
   "source": "",
   "outputs": [],
   "execution_count": null
  },
  {
   "cell_type": "code",
   "metadata": {},
   "source": [
    "day_groups = [tips['tip'][tips['day'] == day] for day in tips['day'].unique()]\n",
    "st.f_oneway(*day_groups)"
   ],
   "outputs": [],
   "execution_count": null
  }
 ],
 "metadata": {
  "kernelspec": {
   "display_name": "Python 3",
   "language": "python",
   "name": "python3"
  },
  "language_info": {
   "codemirror_mode": {
    "name": "ipython",
    "version": 3
   },
   "file_extension": ".py",
   "mimetype": "text/x-python",
   "name": "python",
   "nbconvert_exporter": "python",
   "pygments_lexer": "ipython3",
   "version": "3.11.1"
  },
  "orig_nbformat": 4,
  "vscode": {
   "interpreter": {
    "hash": "6a33add19b135581d6797622ba897a8aa8e07e9491c492522c896e8d2e24141e"
   }
  }
 },
 "nbformat": 4,
 "nbformat_minor": 2
}
