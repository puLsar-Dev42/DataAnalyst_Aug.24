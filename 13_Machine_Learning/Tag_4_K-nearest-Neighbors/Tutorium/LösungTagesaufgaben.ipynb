{
 "cells": [
  {
   "metadata": {
    "ExecuteTime": {
     "end_time": "2025-05-09T06:49:31.248328Z",
     "start_time": "2025-05-09T06:49:31.110815Z"
    }
   },
   "cell_type": "code",
   "source": [
    "from sklearn.neighbors import KNeighborsClassifier\n",
    "from sklearn.model_selection import train_test_split\n",
    "import pandas as pd"
   ],
   "id": "e4c5ca8482511768",
   "outputs": [],
   "execution_count": 1
  },
  {
   "cell_type": "code",
   "id": "initial_id",
   "metadata": {
    "collapsed": true,
    "ExecuteTime": {
     "end_time": "2025-05-09T06:49:38.611016Z",
     "start_time": "2025-05-09T06:49:36.706452Z"
    }
   },
   "source": [
    "\n",
    "\n",
    "diabetes = pd.read_csv(\"diabetes.csv\")\n",
    "diabetes.head(3)\n",
    "\n",
    "# Datensplit aufsetzen\n",
    "X = diabetes.loc[:, diabetes.columns != \"Outcome\"]\n",
    "y = diabetes[\"Outcome\"]\n",
    "\n",
    "# Split in Training- und Testdatensatz\n",
    "X_train, X_test, y_train, y_test = train_test_split(X, y, train_size=0.75)\n",
    "\n",
    "# Erstes KNN mit K=2 + Accuracy berechnen\n",
    "model = KNeighborsClassifier(n_neighbors=2)\n",
    "model.fit(X_train, y_train)\n",
    "print(f\"accuracy: {model.score(X_test, y_test):.4f}\")\n",
    "\n",
    "\n",
    "# b)\n",
    "# Funktion, um in die drei Datensätze zu splitten\n",
    "def train_val_test_split(X, y, train_ratio=0.70, val_ratio=0.20):\n",
    "\t# Split in Training und temp = Validierung + Test\n",
    "\tX_train, X_temp, y_train, y_temp = train_test_split(X, y, train_size=train_ratio)\n",
    "\t# Splitte temp in Validierung und Test\n",
    "\t# zuerst das Verhältnis ziwschen val und test berechnen\n",
    "\ttest_val_ratio = (1 - train_ratio - val_ratio) / (1 - train_ratio)\n",
    "\tX_val, X_test, y_val, y_test = train_test_split(X_temp, y_temp, test_size=test_val_ratio)\n",
    "\treturn X_train, X_val, X_test, y_train, y_val, y_test\n",
    "\n",
    "\n",
    "X_train, X_val, X_test, y_train, y_val, y_test = train_val_test_split(X, y)\n",
    "\n",
    "best = {\"k\": None, \"accuracy\": 0, \"model\": None}\n",
    "for k in range(3, 31):\n",
    "\tmodel_knn = KNeighborsClassifier(n_neighbors=k)\n",
    "\tmodel_knn.fit(X_train, y_train)\n",
    "\taccuracy = model_knn.score(X=X_val, y=y_val)\n",
    "\tprint(f\"k:{k}, accuracy:{accuracy:.4f}\")\n",
    "\t# aktuell bestes Ergebnis speichern\n",
    "\tif accuracy > best[\"accuracy\"]:\n",
    "\t\tprint(\"besser\")\n",
    "\t\tbest[\"k\"] = k\n",
    "\t\tbest[\"accuracy\"] = accuracy\n",
    "\t\tbest[\"model\"] = model\n",
    "\n",
    "# echte accuracy bestimmen\n",
    "test_accuracy = best[\"model\"].score(X=X_test, y=y_test)\n",
    "print(f\"Bestes Ergebnis: k={best['k']} mit accuracy: {test_accuracy:.4f} auf dem Test-Datensatz\")\n",
    "\n",
    "# c)\n",
    "from sklearn.model_selection import GridSearchCV\n",
    "\n",
    "param_grid = dict(n_neighbors=list(range(3, 31)))\n",
    "\n",
    "clf = GridSearchCV(model, param_grid)\n",
    "clf.fit(X_train, y_train)\n",
    "print(clf.best_params_)"
   ],
   "outputs": [
    {
     "name": "stdout",
     "output_type": "stream",
     "text": [
      "accuracy: 0.6719\n",
      "k:3, accuracy:0.6340\n",
      "besser\n",
      "k:4, accuracy:0.6536\n",
      "besser\n",
      "k:5, accuracy:0.6601\n",
      "besser\n",
      "k:6, accuracy:0.6536\n",
      "k:7, accuracy:0.6471\n",
      "k:8, accuracy:0.6797\n",
      "besser\n",
      "k:9, accuracy:0.6732\n",
      "k:10, accuracy:0.6732\n",
      "k:11, accuracy:0.6732\n",
      "k:12, accuracy:0.6732\n",
      "k:13, accuracy:0.6732\n",
      "k:14, accuracy:0.6928\n",
      "besser\n",
      "k:15, accuracy:0.6536\n",
      "k:16, accuracy:0.6732\n",
      "k:17, accuracy:0.6797\n",
      "k:18, accuracy:0.6732\n",
      "k:19, accuracy:0.6601\n",
      "k:20, accuracy:0.6797\n",
      "k:21, accuracy:0.6667\n",
      "k:22, accuracy:0.6797\n",
      "k:23, accuracy:0.6732\n",
      "k:24, accuracy:0.6797\n",
      "k:25, accuracy:0.6732\n",
      "k:26, accuracy:0.6863\n",
      "k:27, accuracy:0.6667\n",
      "k:28, accuracy:0.6797\n",
      "k:29, accuracy:0.6863\n",
      "k:30, accuracy:0.6797\n",
      "Bestes Ergebnis: k=14 mit accuracy: 0.8590 auf dem Test-Datensatz\n",
      "{'n_neighbors': 29}\n"
     ]
    }
   ],
   "execution_count": 2
  }
 ],
 "metadata": {
  "kernelspec": {
   "display_name": "Python 3",
   "language": "python",
   "name": "python3"
  },
  "language_info": {
   "codemirror_mode": {
    "name": "ipython",
    "version": 2
   },
   "file_extension": ".py",
   "mimetype": "text/x-python",
   "name": "python",
   "nbconvert_exporter": "python",
   "pygments_lexer": "ipython2",
   "version": "2.7.6"
  }
 },
 "nbformat": 4,
 "nbformat_minor": 5
}
