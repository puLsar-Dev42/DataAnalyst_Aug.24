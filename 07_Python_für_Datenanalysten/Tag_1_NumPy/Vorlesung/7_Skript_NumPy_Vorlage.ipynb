{
 "cells": [
  {
   "cell_type": "markdown",
   "metadata": {},
   "source": [
    "# Von der Liste zum Numpy-Array\n",
    "\n",
    "Mit der Python-Liste haben wir einen eingebauten Datentyp kennengelernt, in dem\n",
    "Kollektionen von Werten, aber auch gemischter Datentypen vorkommen können. \n",
    "Listen können darüber hinaus verschachtelt sein. Dann wird auch der Indexzugriff \n",
    "entsprechend komplex.\n",
    "\n",
    "```\n",
    ">>> numbers = [1, 2, 3, 4]\n",
    ">>> user_data = ['Dora Datenfels', 42, {'schwimmen', 'lesen', 'tanzen'}, True]\n",
    ">>> list_of_lists = [[1, 2, 3], [4, 5, ['Hallo', 'Welt']], [7, 8, 9]]\n",
    "```\n",
    "\n",
    "Der Zugriff erfolgt über den Index.\n",
    "\n",
    "```\n",
    ">>> numbers[1]\n",
    "2\n",
    ">>> user_data[-1]\n",
    "True\n",
    ">>> list_of_lists[1][-1][1]\n",
    "Welt\n",
    "```\n",
    "\n",
    "Python-Listen sind praktisch, aber sie kommen in Sachen Performance sowie \n",
    "insbesondere bei rechenintensiven und komplexen Berechnungen an ihre Grenzen.\n",
    "\n",
    "## NumPy und Arrays - Das `np.array`-Objekt\n",
    "\n",
    "<br>`numpy` ist das meistgenutzte Paket für wissenschaftliches Rechnen im Bereich Data Science in Python\n",
    "und weil es unter der Haube in optimiertem C-Code verfasst ist, ist es sehr performant.\n",
    "\n",
    "Mit dem Numpy-Array bietet numpy ein Objekt, das auf den ersten Blick so aussieht wie eine Liste.\n",
    "\n",
    "```\n",
    ">>> import numpy as np\n",
    ">>> numbers = list(range(1, 11))\n",
    ">>> numbers_array = np.array(numbers)\n",
    ">>> numbers_array\n",
    "[ 1  2  3  4  5  6  7  8  9 10]\n",
    "```\n",
    "\n",
    "Aber es gibt einige Unterschiede, die das Numpy-Array von der Python-Liste unterscheiden.\n",
    "\n",
    "* Platzverbrauch: Arrays haben im Gegensatz zu Listen eine feste Größe, die sich auf ihren Inhalt beschränkt, und belegen im Arbeitsspeicher einen zusammenhängenden und im Verhältnis auch kleineren Block\n",
    "* Geschwindigkeit: Numpy führt numerische Operationen sehr schnell durch, weil es nicht Element für Element rechnet (wie es bei einer Python-Liste wäre), sondern parallel multiple Berechnungen durchführen kann (multithreading)\n",
    "* Professionelle Rechenoperationen: Numpy erlaubt komplizierte mathematische Berechnungen, die mit eingebauten Mitteln von Python sehr umständlich zu schreiben wären. Zu solchen Zwecken stellt u.a. das Numpy-Array spezielle Methoden und Attribute zur Verfügung\n",
    "* Numpy ist überall: Viele Pakete und Bibliotheken bauen auf Numpy auf, darunter auch Pandas, das wir bald lernen werden"
   ]
  },
  {
   "metadata": {},
   "cell_type": "markdown",
   "source": "## Erstellung von Arrays"
  },
  {
   "cell_type": "code",
   "metadata": {
    "ExecuteTime": {
     "end_time": "2024-11-11T10:52:42.383257Z",
     "start_time": "2024-11-11T10:52:42.312500Z"
    }
   },
   "source": [
    "import numpy as np\n",
    "from pympler import asizeof"
   ],
   "outputs": [],
   "execution_count": 1
  },
  {
   "cell_type": "code",
   "metadata": {
    "ExecuteTime": {
     "end_time": "2024-11-11T10:52:42.401328Z",
     "start_time": "2024-11-11T10:52:42.395792Z"
    }
   },
   "source": [
    "# Unterschiede zwischen Pythonliste und Numpy-Array\n",
    "\n",
    "# Eindimensionale Liste (Datenreihe):\n",
    "numbers = [1, 2, 3, 4, 5, 6, 7, 8, 9, 10]\n",
    "\n",
    "# Eindimensionales Array:\n",
    "num_array = np.array(numbers)"
   ],
   "outputs": [],
   "execution_count": 2
  },
  {
   "cell_type": "code",
   "metadata": {
    "ExecuteTime": {
     "end_time": "2024-11-11T10:52:42.437275Z",
     "start_time": "2024-11-11T10:52:42.427266Z"
    }
   },
   "source": "type(numbers)",
   "outputs": [
    {
     "data": {
      "text/plain": [
       "list"
      ]
     },
     "execution_count": 3,
     "metadata": {},
     "output_type": "execute_result"
    }
   ],
   "execution_count": 3
  },
  {
   "cell_type": "code",
   "metadata": {
    "ExecuteTime": {
     "end_time": "2024-11-11T10:52:42.646303Z",
     "start_time": "2024-11-11T10:52:42.640023Z"
    }
   },
   "source": [
    "# ndarray steht für n-dimensionales Array:\n",
    "type(num_array)"
   ],
   "outputs": [
    {
     "data": {
      "text/plain": [
       "numpy.ndarray"
      ]
     },
     "execution_count": 4,
     "metadata": {},
     "output_type": "execute_result"
    }
   ],
   "execution_count": 4
  },
  {
   "cell_type": "code",
   "metadata": {
    "ExecuteTime": {
     "end_time": "2024-11-11T10:52:42.703114Z",
     "start_time": "2024-11-11T10:52:42.697187Z"
    }
   },
   "source": [
    "# Optischer Vergleich sehr ähnlich:\n",
    "print(numbers)\n",
    "print(num_array)"
   ],
   "outputs": [
    {
     "name": "stdout",
     "output_type": "stream",
     "text": [
      "[1, 2, 3, 4, 5, 6, 7, 8, 9, 10]\n",
      "[ 1  2  3  4  5  6  7  8  9 10]\n"
     ]
    }
   ],
   "execution_count": 5
  },
  {
   "metadata": {
    "ExecuteTime": {
     "end_time": "2024-11-11T10:52:42.837956Z",
     "start_time": "2024-11-11T10:52:42.831854Z"
    }
   },
   "cell_type": "code",
   "source": [
    "# Im Speicherplatz-Größenvergleich:\n",
    "print(asizeof.asizeof(numbers))\n",
    "print(asizeof.asizeof(num_array))\n",
    "# Bei größeren Mengen geht die Kluft immer weiter auseinander."
   ],
   "outputs": [
    {
     "name": "stdout",
     "output_type": "stream",
     "text": [
      "456\n",
      "208\n"
     ]
    }
   ],
   "execution_count": 6
  },
  {
   "metadata": {
    "ExecuteTime": {
     "end_time": "2024-11-11T10:52:42.935266Z",
     "start_time": "2024-11-11T10:52:42.930352Z"
    }
   },
   "cell_type": "code",
   "source": [
    "# Wir sagten, dass Numpy am besten mit Arrays von einem Datentyp arbeitet.\n",
    "# Aber wie heißt der Datentyp in unserem Array?\n",
    "num_array.dtype"
   ],
   "outputs": [
    {
     "data": {
      "text/plain": [
       "dtype('int64')"
      ]
     },
     "execution_count": 7,
     "metadata": {},
     "output_type": "execute_result"
    }
   ],
   "execution_count": 7
  },
  {
   "metadata": {
    "ExecuteTime": {
     "end_time": "2024-11-11T10:52:43.004517Z",
     "start_time": "2024-11-11T10:52:43.000363Z"
    }
   },
   "cell_type": "code",
   "source": [
    "# Wir können durch einen anderen int-Typ noch mehr Speicherplatz speichern:\n",
    "num_array = np.array(numbers, dtype='int8')  \n",
    "# int8 schränkt Zahlen auf Bereich -128 bis 127 ein"
   ],
   "outputs": [],
   "execution_count": 8
  },
  {
   "metadata": {
    "ExecuteTime": {
     "end_time": "2024-11-11T10:52:43.072359Z",
     "start_time": "2024-11-11T10:52:43.067397Z"
    }
   },
   "cell_type": "code",
   "source": [
    "# Selber Vergleich mit Datentyp int8:\n",
    "print(asizeof.asizeof(numbers))\n",
    "print(asizeof.asizeof(num_array))"
   ],
   "outputs": [
    {
     "name": "stdout",
     "output_type": "stream",
     "text": [
      "456\n",
      "144\n"
     ]
    }
   ],
   "execution_count": 9
  },
  {
   "cell_type": "code",
   "metadata": {
    "ExecuteTime": {
     "end_time": "2024-11-11T10:52:43.129113Z",
     "start_time": "2024-11-11T10:52:43.124926Z"
    }
   },
   "source": [
    "# Verschachtelte (mehrdimensionale) Liste:\n",
    "numbers2 = [[1, 2, 3, 4], [5, 6, 7, 8], [9, 10, 11, 12]]\n",
    "\n",
    "# Mehrdimensionales Array (2D):\n",
    "num_array2 = np.array(numbers2)"
   ],
   "outputs": [],
   "execution_count": 10
  },
  {
   "cell_type": "code",
   "metadata": {
    "ExecuteTime": {
     "end_time": "2024-11-11T10:52:43.184496Z",
     "start_time": "2024-11-11T10:52:43.178274Z"
    }
   },
   "source": [
    "# Gewohntes Aussehen von verschachtelten Listen:\n",
    "numbers2"
   ],
   "outputs": [
    {
     "data": {
      "text/plain": [
       "[[1, 2, 3, 4], [5, 6, 7, 8], [9, 10, 11, 12]]"
      ]
     },
     "execution_count": 11,
     "metadata": {},
     "output_type": "execute_result"
    }
   ],
   "execution_count": 11
  },
  {
   "cell_type": "code",
   "metadata": {
    "ExecuteTime": {
     "end_time": "2024-11-11T10:52:43.269453Z",
     "start_time": "2024-11-11T10:52:43.265740Z"
    }
   },
   "source": [
    "# Matrix-Darstellung von 2D-Arrays:\n",
    "print(num_array2)"
   ],
   "outputs": [
    {
     "name": "stdout",
     "output_type": "stream",
     "text": [
      "[[ 1  2  3  4]\n",
      " [ 5  6  7  8]\n",
      " [ 9 10 11 12]]\n"
     ]
    }
   ],
   "execution_count": 12
  },
  {
   "cell_type": "code",
   "source": [
    "# Schöne Darstellung in Jupyter-Notebooks:\n",
    "num_array2"
   ],
   "metadata": {
    "collapsed": false,
    "ExecuteTime": {
     "end_time": "2024-11-11T10:52:43.375199Z",
     "start_time": "2024-11-11T10:52:43.369088Z"
    }
   },
   "outputs": [
    {
     "data": {
      "text/plain": [
       "array([[ 1,  2,  3,  4],\n",
       "       [ 5,  6,  7,  8],\n",
       "       [ 9, 10, 11, 12]])"
      ]
     },
     "execution_count": 13,
     "metadata": {},
     "output_type": "execute_result"
    }
   ],
   "execution_count": 13
  },
  {
   "cell_type": "markdown",
   "metadata": {},
   "source": [
    "Das Array hat 3 Zeilen und 4 Spalten = 2 Dimensionen, shape (3, 4) \n",
    "(mehr dazu später)"
   ]
  },
  {
   "cell_type": "code",
   "metadata": {
    "ExecuteTime": {
     "end_time": "2024-11-11T10:52:43.856190Z",
     "start_time": "2024-11-11T10:52:43.849987Z"
    }
   },
   "source": [
    "# Indizierung bei Listen:\n",
    "numbers2[0]"
   ],
   "outputs": [
    {
     "data": {
      "text/plain": [
       "[1, 2, 3, 4]"
      ]
     },
     "execution_count": 14,
     "metadata": {},
     "output_type": "execute_result"
    }
   ],
   "execution_count": 14
  },
  {
   "cell_type": "code",
   "metadata": {
    "ExecuteTime": {
     "end_time": "2024-11-11T10:52:43.916637Z",
     "start_time": "2024-11-11T10:52:43.911120Z"
    }
   },
   "source": [
    "# Was, wenn ich das erste Element aus jeder inneren\n",
    "# Liste in einer neuen Liste haben will?\n",
    "\n",
    "[i[0] for i in numbers2]"
   ],
   "outputs": [
    {
     "data": {
      "text/plain": [
       "[1, 5, 9]"
      ]
     },
     "execution_count": 15,
     "metadata": {},
     "output_type": "execute_result"
    }
   ],
   "execution_count": 15
  },
  {
   "cell_type": "code",
   "metadata": {
    "ExecuteTime": {
     "end_time": "2024-11-11T10:52:44.199928Z",
     "start_time": "2024-11-11T10:52:44.194369Z"
    }
   },
   "source": [
    "# Mit Numpy geht das einfacher\n",
    "# Bei Numpy-Indizierung mit nur einer Klammer. Indizes mit Komma getrennt\n",
    "num_array2[:, 0]"
   ],
   "outputs": [
    {
     "data": {
      "text/plain": [
       "array([1, 5, 9])"
      ]
     },
     "execution_count": 16,
     "metadata": {},
     "output_type": "execute_result"
    }
   ],
   "execution_count": 16
  },
  {
   "metadata": {
    "ExecuteTime": {
     "end_time": "2024-11-11T10:52:44.596375Z",
     "start_time": "2024-11-11T10:52:44.590958Z"
    }
   },
   "cell_type": "code",
   "source": [
    "# Quizfrage: Was kriege ich so?\n",
    "num_array2[0]"
   ],
   "outputs": [
    {
     "data": {
      "text/plain": [
       "array([1, 2, 3, 4])"
      ]
     },
     "execution_count": 17,
     "metadata": {},
     "output_type": "execute_result"
    }
   ],
   "execution_count": 17
  },
  {
   "cell_type": "code",
   "source": [
    "# In Numpy lassen sich nicht nur numerische Daten organisieren:\n",
    "word_list = ['hallo', 'numpy', 'hallo', 'pandas']\n",
    "# Allerdings ist die Python-Liste besser für String-Operationen geeignet."
   ],
   "metadata": {
    "collapsed": false,
    "ExecuteTime": {
     "end_time": "2024-11-11T10:52:44.740608Z",
     "start_time": "2024-11-11T10:52:44.737711Z"
    }
   },
   "outputs": [],
   "execution_count": 18
  },
  {
   "cell_type": "code",
   "source": "word_array = np.array(word_list)",
   "metadata": {
    "collapsed": false,
    "ExecuteTime": {
     "end_time": "2024-11-11T10:52:44.793380Z",
     "start_time": "2024-11-11T10:52:44.789521Z"
    }
   },
   "outputs": [],
   "execution_count": 19
  },
  {
   "cell_type": "code",
   "source": [
    "# Und was passiert mit Listen mit gemischten Datentypen?\n",
    "mixed_list = ['hallo', 'pandas', 2024]"
   ],
   "metadata": {
    "collapsed": false,
    "ExecuteTime": {
     "end_time": "2024-11-11T10:52:44.821256Z",
     "start_time": "2024-11-11T10:52:44.817361Z"
    }
   },
   "outputs": [],
   "execution_count": 20
  },
  {
   "cell_type": "code",
   "source": [
    "# Ein Numpy-Array kann keine gemischten Datentypen enthalten!\n",
    "# Hier wird der int automatisch zu einem String umgewandelt.\n",
    "mixed_arr = np.array(mixed_list)\n",
    "mixed_arr"
   ],
   "metadata": {
    "collapsed": false,
    "ExecuteTime": {
     "end_time": "2024-11-11T10:52:44.878820Z",
     "start_time": "2024-11-11T10:52:44.872673Z"
    }
   },
   "outputs": [
    {
     "data": {
      "text/plain": [
       "array(['hallo', 'pandas', '2024'], dtype='<U21')"
      ]
     },
     "execution_count": 21,
     "metadata": {},
     "output_type": "execute_result"
    }
   ],
   "execution_count": 21
  },
  {
   "cell_type": "code",
   "source": [
    "print(mixed_arr[2])\n",
    "print(type(mixed_arr[2]))"
   ],
   "metadata": {
    "collapsed": false,
    "ExecuteTime": {
     "end_time": "2024-11-11T10:52:44.942230Z",
     "start_time": "2024-11-11T10:52:44.938287Z"
    }
   },
   "outputs": [
    {
     "name": "stdout",
     "output_type": "stream",
     "text": [
      "2024\n",
      "<class 'numpy.str_'>\n"
     ]
    }
   ],
   "execution_count": 22
  },
  {
   "metadata": {
    "ExecuteTime": {
     "end_time": "2024-11-11T10:52:45.073272Z",
     "start_time": "2024-11-11T10:52:45.067743Z"
    }
   },
   "cell_type": "code",
   "source": [
    "# Will man das nicht, dann kann man dtype=0 für alle Python-Objekte festlegen:\n",
    "mixed_arr2 = np.array(mixed_list, dtype='O')\n",
    "mixed_arr2\n",
    "# Das macht aber Numpy dann so ineffizient, dass ebenso gut und meist besser mit einer Python-Liste arbeiten kann."
   ],
   "outputs": [
    {
     "data": {
      "text/plain": [
       "array(['hallo', 'pandas', 2024], dtype=object)"
      ]
     },
     "execution_count": 23,
     "metadata": {},
     "output_type": "execute_result"
    }
   ],
   "execution_count": 23
  },
  {
   "cell_type": "markdown",
   "metadata": {},
   "source": [
    "### Laufzeit-Vergleich zwischen Array und Liste"
   ]
  },
  {
   "cell_type": "code",
   "metadata": {
    "ExecuteTime": {
     "end_time": "2024-11-11T10:52:47.427838Z",
     "start_time": "2024-11-11T10:52:45.155479Z"
    }
   },
   "source": [
    "# 1. Erstellung:\n",
    "%timeit liste3 = list(range(1, 1_000_000))"
   ],
   "outputs": [
    {
     "name": "stdout",
     "output_type": "stream",
     "text": [
      "27.3 ms ± 5.01 ms per loop (mean ± std. dev. of 7 runs, 10 loops each)\n"
     ]
    }
   ],
   "execution_count": 24
  },
  {
   "cell_type": "code",
   "metadata": {
    "ExecuteTime": {
     "end_time": "2024-11-11T10:52:49.508525Z",
     "start_time": "2024-11-11T10:52:47.463081Z"
    }
   },
   "source": [
    "# Spezialisierter np.arange-Befehl:\n",
    "%timeit a = np.arange(1, 1_000_000)"
   ],
   "outputs": [
    {
     "name": "stdout",
     "output_type": "stream",
     "text": [
      "2.56 ms ± 494 μs per loop (mean ± std. dev. of 7 runs, 100 loops each)\n"
     ]
    }
   ],
   "execution_count": 25
  },
  {
   "metadata": {
    "ExecuteTime": {
     "end_time": "2024-11-11T10:52:49.545130Z",
     "start_time": "2024-11-11T10:52:49.540137Z"
    }
   },
   "cell_type": "code",
   "source": [
    "# Den obigen Eingangscode mit der Liste mit Zahlen von 1 bis 10\n",
    "# hätten wir viel einfacher so schreiben können:\n",
    "num_arr = np.arange(1, 11)\n",
    "num_arr"
   ],
   "outputs": [
    {
     "data": {
      "text/plain": [
       "array([ 1,  2,  3,  4,  5,  6,  7,  8,  9, 10])"
      ]
     },
     "execution_count": 26,
     "metadata": {},
     "output_type": "execute_result"
    }
   ],
   "execution_count": 26
  },
  {
   "cell_type": "code",
   "metadata": {
    "ExecuteTime": {
     "end_time": "2024-11-11T10:52:49.623755Z",
     "start_time": "2024-11-11T10:52:49.617169Z"
    }
   },
   "source": [
    "numbers3 = list(range(1, 101))\n",
    "numbers3"
   ],
   "outputs": [
    {
     "data": {
      "text/plain": [
       "[1,\n",
       " 2,\n",
       " 3,\n",
       " 4,\n",
       " 5,\n",
       " 6,\n",
       " 7,\n",
       " 8,\n",
       " 9,\n",
       " 10,\n",
       " 11,\n",
       " 12,\n",
       " 13,\n",
       " 14,\n",
       " 15,\n",
       " 16,\n",
       " 17,\n",
       " 18,\n",
       " 19,\n",
       " 20,\n",
       " 21,\n",
       " 22,\n",
       " 23,\n",
       " 24,\n",
       " 25,\n",
       " 26,\n",
       " 27,\n",
       " 28,\n",
       " 29,\n",
       " 30,\n",
       " 31,\n",
       " 32,\n",
       " 33,\n",
       " 34,\n",
       " 35,\n",
       " 36,\n",
       " 37,\n",
       " 38,\n",
       " 39,\n",
       " 40,\n",
       " 41,\n",
       " 42,\n",
       " 43,\n",
       " 44,\n",
       " 45,\n",
       " 46,\n",
       " 47,\n",
       " 48,\n",
       " 49,\n",
       " 50,\n",
       " 51,\n",
       " 52,\n",
       " 53,\n",
       " 54,\n",
       " 55,\n",
       " 56,\n",
       " 57,\n",
       " 58,\n",
       " 59,\n",
       " 60,\n",
       " 61,\n",
       " 62,\n",
       " 63,\n",
       " 64,\n",
       " 65,\n",
       " 66,\n",
       " 67,\n",
       " 68,\n",
       " 69,\n",
       " 70,\n",
       " 71,\n",
       " 72,\n",
       " 73,\n",
       " 74,\n",
       " 75,\n",
       " 76,\n",
       " 77,\n",
       " 78,\n",
       " 79,\n",
       " 80,\n",
       " 81,\n",
       " 82,\n",
       " 83,\n",
       " 84,\n",
       " 85,\n",
       " 86,\n",
       " 87,\n",
       " 88,\n",
       " 89,\n",
       " 90,\n",
       " 91,\n",
       " 92,\n",
       " 93,\n",
       " 94,\n",
       " 95,\n",
       " 96,\n",
       " 97,\n",
       " 98,\n",
       " 99,\n",
       " 100]"
      ]
     },
     "execution_count": 27,
     "metadata": {},
     "output_type": "execute_result"
    }
   ],
   "execution_count": 27
  },
  {
   "cell_type": "code",
   "metadata": {
    "ExecuteTime": {
     "end_time": "2024-11-11T10:52:49.721465Z",
     "start_time": "2024-11-11T10:52:49.714832Z"
    }
   },
   "source": [
    "num_array3 = np.arange(1, 101)\n",
    "num_array3"
   ],
   "outputs": [
    {
     "data": {
      "text/plain": [
       "array([  1,   2,   3,   4,   5,   6,   7,   8,   9,  10,  11,  12,  13,\n",
       "        14,  15,  16,  17,  18,  19,  20,  21,  22,  23,  24,  25,  26,\n",
       "        27,  28,  29,  30,  31,  32,  33,  34,  35,  36,  37,  38,  39,\n",
       "        40,  41,  42,  43,  44,  45,  46,  47,  48,  49,  50,  51,  52,\n",
       "        53,  54,  55,  56,  57,  58,  59,  60,  61,  62,  63,  64,  65,\n",
       "        66,  67,  68,  69,  70,  71,  72,  73,  74,  75,  76,  77,  78,\n",
       "        79,  80,  81,  82,  83,  84,  85,  86,  87,  88,  89,  90,  91,\n",
       "        92,  93,  94,  95,  96,  97,  98,  99, 100])"
      ]
     },
     "execution_count": 28,
     "metadata": {},
     "output_type": "execute_result"
    }
   ],
   "execution_count": 28
  },
  {
   "cell_type": "code",
   "metadata": {
    "ExecuteTime": {
     "end_time": "2024-11-11T10:52:51.929105Z",
     "start_time": "2024-11-11T10:52:49.818127Z"
    }
   },
   "source": [
    "# 2. Operationen mit Listen / Arrays\n",
    "# Bei Listen brauchen wir z.B: Comprehensions um mehrere Werte gleichzeitig \n",
    "# zu verändern\n",
    "%timeit [i * 2 for i in numbers3]"
   ],
   "outputs": [
    {
     "name": "stdout",
     "output_type": "stream",
     "text": [
      "2.64 μs ± 359 ns per loop (mean ± std. dev. of 7 runs, 100,000 loops each)\n"
     ]
    }
   ],
   "execution_count": 29
  },
  {
   "cell_type": "code",
   "metadata": {
    "ExecuteTime": {
     "end_time": "2024-11-11T10:52:57.597482Z",
     "start_time": "2024-11-11T10:52:51.975634Z"
    }
   },
   "source": [
    "# Bei Numpy werden Operationen automatisch \"vektorisiert\".\n",
    "# Die Multiplikation mit 2 wird also auf jedes Element des Arrays angewandt\n",
    "%timeit num_array3 * 2"
   ],
   "outputs": [
    {
     "name": "stdout",
     "output_type": "stream",
     "text": [
      "689 ns ± 36.2 ns per loop (mean ± std. dev. of 7 runs, 1,000,000 loops each)\n"
     ]
    }
   ],
   "execution_count": 30
  },
  {
   "metadata": {},
   "cell_type": "markdown",
   "source": "a * 2"
  },
  {
   "cell_type": "markdown",
   "metadata": {},
   "source": [
    "## Beschreibung von Arrays\n",
    "\n",
    "Der Array-Datentyp hat einige beschreibende Attribute. Bei einem Numpy-Array\n",
    " `a` sind dies unter anderem:\n",
    "\n",
    "* **Dimensionen:** `a.ndim` Anzal der Dimensionen des Arrays. Eine Datenreihe hat 1 Dimension, eine Tabelle 2, Ein Würfel 3, und so weiter.\n",
    "* **Form:** `a.shape` Länge des Arrays entlang jeder Dimension / Achse. Ein (4, 5) Array hat zum Beispiel 4 Zeilen und 5 Spalten.\n",
    "* **Größe:** `a.size` Gesamtanzahl der einzelnen Datenwerte im Array"
   ]
  },
  {
   "cell_type": "code",
   "metadata": {
    "ExecuteTime": {
     "end_time": "2024-11-11T10:52:57.656554Z",
     "start_time": "2024-11-11T10:52:57.648990Z"
    }
   },
   "source": [
    "# Beispiel mit zweidimensionalem Array\n",
    "a = np.array([[1, 2, 3, 4],\n",
    "              [5, 6, 7, 8],\n",
    "              [9, 10, 11, 12]])\n",
    "\n",
    "print(a)\n",
    "print(\"Dimension des Arrays\", a.ndim)\n",
    "print(\"Shape/Form des Arrays\", a.shape)\n",
    "print(\"Größe des Arrays\", a.size)\n",
    "a"
   ],
   "outputs": [
    {
     "name": "stdout",
     "output_type": "stream",
     "text": [
      "[[ 1  2  3  4]\n",
      " [ 5  6  7  8]\n",
      " [ 9 10 11 12]]\n",
      "Dimension des Arrays 2\n",
      "Shape/Form des Arrays (3, 4)\n",
      "Größe des Arrays 12\n"
     ]
    },
    {
     "data": {
      "text/plain": [
       "array([[ 1,  2,  3,  4],\n",
       "       [ 5,  6,  7,  8],\n",
       "       [ 9, 10, 11, 12]])"
      ]
     },
     "execution_count": 31,
     "metadata": {},
     "output_type": "execute_result"
    }
   ],
   "execution_count": 31
  },
  {
   "cell_type": "markdown",
   "metadata": {},
   "source": [
    "### Übungsaufgabe: \n",
    "Erstelle ein Array mit:\n",
    "* 2 Dimensionen  \n",
    "* Einer Form von (2, 8)  \n",
    "* Einer Größe von 16\n",
    "* und beliebigem Inhalt\n",
    "* Lass dir die Anzahl der Dimensionen, die Form und die Größe des Arrays \n",
    "ausgeben"
   ]
  },
  {
   "cell_type": "code",
   "metadata": {
    "ExecuteTime": {
     "end_time": "2024-11-11T10:52:57.760105Z",
     "start_time": "2024-11-11T10:52:57.754484Z"
    }
   },
   "source": [
    "prime_num = np.array([[2, 3, 5, 7, 11, 13, 17, 19],\n",
    "                    [23, 29, 31, 37, 41, 43, 47, 53]])\n",
    "\n",
    "print(\"Dimensions:\", prime_num.ndim)\n",
    "print(\"Shape:\", prime_num.shape)\n",
    "print(\"Size:\", prime_num.size)\n",
    "prime_num"
   ],
   "outputs": [
    {
     "name": "stdout",
     "output_type": "stream",
     "text": [
      "Dimensions: 2\n",
      "Shape: (2, 8)\n",
      "Size: 16\n"
     ]
    },
    {
     "data": {
      "text/plain": [
       "array([[ 2,  3,  5,  7, 11, 13, 17, 19],\n",
       "       [23, 29, 31, 37, 41, 43, 47, 53]])"
      ]
     },
     "execution_count": 32,
     "metadata": {},
     "output_type": "execute_result"
    }
   ],
   "execution_count": 32
  },
  {
   "cell_type": "markdown",
   "metadata": {},
   "source": [
    "## Funktionen zur Erstellung von Arrays\n",
    "\n",
    "Numpy bietet viele Funktionen, die nach bestimmten Vorgaben automatisch \n",
    "Arrays für uns erstellen können. So können wir zum Beispiel leere Arrays \n",
    "einer bestimmten Form erstellen (`np.empty()`), oder Arrays die mit 1en \n",
    "(`np.ones()`) oder 0en (`np.zeros()`) gefüllt sind. So wie die `range()\n",
    "`-Funktion eine Liste mit einer Zahlenreihenfolge erzeugt, können wir auch \n",
    "`np.arange()` (=array-range) benutzen um ein Array mit einer \n",
    "Zahlenreihenfolge zu erzeugen."
   ]
  },
  {
   "cell_type": "code",
   "metadata": {
    "ExecuteTime": {
     "end_time": "2024-11-11T10:52:57.970312Z",
     "start_time": "2024-11-11T10:52:57.962975Z"
    }
   },
   "source": [
    "# Array mit Startwert, Endwert und Schrittweite mit np.arange\n",
    "np.arange(1, 20, 2)"
   ],
   "outputs": [
    {
     "data": {
      "text/plain": [
       "array([ 1,  3,  5,  7,  9, 11, 13, 15, 17, 19])"
      ]
     },
     "execution_count": 33,
     "metadata": {},
     "output_type": "execute_result"
    }
   ],
   "execution_count": 33
  },
  {
   "cell_type": "code",
   "metadata": {
    "ExecuteTime": {
     "end_time": "2024-11-11T10:52:58.133486Z",
     "start_time": "2024-11-11T10:52:58.128792Z"
    }
   },
   "source": [
    "# Erstellung eines Arrays mit immer den gleichen Elementen. z.B: np.full\n",
    "np.full((2, 2, 2), 3)"
   ],
   "outputs": [
    {
     "data": {
      "text/plain": [
       "array([[[3, 3],\n",
       "        [3, 3]],\n",
       "\n",
       "       [[3, 3],\n",
       "        [3, 3]]])"
      ]
     },
     "execution_count": 34,
     "metadata": {},
     "output_type": "execute_result"
    }
   ],
   "execution_count": 34
  },
  {
   "cell_type": "code",
   "source": [
    "# Array mit dem Wert 1 in der Diagonalen und Rest mit Nullen aufgefüllt\n",
    "np.eye(3, 3)\n",
    "# Bonus-Rechercheaufgabe: Was macht Parameter k?"
   ],
   "metadata": {
    "collapsed": false,
    "ExecuteTime": {
     "end_time": "2024-11-11T10:52:58.241685Z",
     "start_time": "2024-11-11T10:52:58.237162Z"
    }
   },
   "outputs": [
    {
     "data": {
      "text/plain": [
       "array([[1., 0., 0.],\n",
       "       [0., 1., 0.],\n",
       "       [0., 0., 1.]])"
      ]
     },
     "execution_count": 35,
     "metadata": {},
     "output_type": "execute_result"
    }
   ],
   "execution_count": 35
  },
  {
   "cell_type": "code",
   "metadata": {
    "ExecuteTime": {
     "end_time": "2024-11-11T10:52:58.439678Z",
     "start_time": "2024-11-11T10:52:58.432596Z"
    }
   },
   "source": [
    "# Diagonales Array mit beliebigen Werten\n",
    "# Rest wird mit Nullen gefüllt\n",
    "np.diag([1, 2, 7])"
   ],
   "outputs": [
    {
     "data": {
      "text/plain": [
       "array([[1, 0, 0],\n",
       "       [0, 2, 0],\n",
       "       [0, 0, 7]])"
      ]
     },
     "execution_count": 36,
     "metadata": {},
     "output_type": "execute_result"
    }
   ],
   "execution_count": 36
  },
  {
   "cell_type": "code",
   "metadata": {
    "ExecuteTime": {
     "end_time": "2024-11-11T10:52:58.578595Z",
     "start_time": "2024-11-11T10:52:58.573952Z"
    }
   },
   "source": [
    "# Arrays mit Einsen oder mit Nullen gefüllt: np.ones() np.zeros()\n",
    "np.ones((3, 4), dtype=int)"
   ],
   "outputs": [
    {
     "data": {
      "text/plain": [
       "array([[1, 1, 1, 1],\n",
       "       [1, 1, 1, 1],\n",
       "       [1, 1, 1, 1]])"
      ]
     },
     "execution_count": 37,
     "metadata": {},
     "output_type": "execute_result"
    }
   ],
   "execution_count": 37
  },
  {
   "cell_type": "code",
   "metadata": {
    "ExecuteTime": {
     "end_time": "2024-11-11T10:52:58.761077Z",
     "start_time": "2024-11-11T10:52:58.756019Z"
    }
   },
   "source": [
    "np.zeros((3, 4))"
   ],
   "outputs": [
    {
     "data": {
      "text/plain": [
       "array([[0., 0., 0., 0.],\n",
       "       [0., 0., 0., 0.],\n",
       "       [0., 0., 0., 0.]])"
      ]
     },
     "execution_count": 38,
     "metadata": {},
     "output_type": "execute_result"
    }
   ],
   "execution_count": 38
  },
  {
   "cell_type": "markdown",
   "metadata": {},
   "source": [
    "## Arbeit mit Arrays\n",
    "\n",
    "### Indexing und Slicing\n",
    "\n",
    "Das Indizieren und Slicen von arrays funktioniert genau wie bei Python Listen mit eckigen Klammern `a[]`. Handelt es sich um ein mehrdimensionales Array, so brauchen wir einen Index für jede der Dimensionen, welche von Kommata getrennt werden:  `a[i, j, k]`.\n",
    "\n",
    "Auch das Slicing (Selektion von bestimmten Bereichen) funktioniert genau wie bei Listen mit `:`."
   ]
  },
  {
   "cell_type": "code",
   "metadata": {
    "ExecuteTime": {
     "end_time": "2024-11-11T10:52:59.074684Z",
     "start_time": "2024-11-11T10:52:59.070360Z"
    }
   },
   "source": [
    "# Beispiel-Array definieren:\n",
    "a = np.array([[1, 2, 3, 4],\n",
    "              [5, 6, 7, 8],\n",
    "              [9, 10, 11, 12]])"
   ],
   "outputs": [],
   "execution_count": 39
  },
  {
   "cell_type": "code",
   "metadata": {
    "ExecuteTime": {
     "end_time": "2024-11-11T10:52:59.188097Z",
     "start_time": "2024-11-11T10:52:59.181376Z"
    }
   },
   "source": [
    "a"
   ],
   "outputs": [
    {
     "data": {
      "text/plain": [
       "array([[ 1,  2,  3,  4],\n",
       "       [ 5,  6,  7,  8],\n",
       "       [ 9, 10, 11, 12]])"
      ]
     },
     "execution_count": 40,
     "metadata": {},
     "output_type": "execute_result"
    }
   ],
   "execution_count": 40
  },
  {
   "cell_type": "code",
   "metadata": {
    "ExecuteTime": {
     "end_time": "2024-11-11T10:52:59.404525Z",
     "start_time": "2024-11-11T10:52:59.399511Z"
    }
   },
   "source": [
    "# Auf bestimmtes Element zugreifen:\n",
    "a[0, 0]"
   ],
   "outputs": [
    {
     "data": {
      "text/plain": [
       "np.int64(1)"
      ]
     },
     "execution_count": 41,
     "metadata": {},
     "output_type": "execute_result"
    }
   ],
   "execution_count": 41
  },
  {
   "cell_type": "code",
   "metadata": {
    "ExecuteTime": {
     "end_time": "2024-11-11T10:52:59.543287Z",
     "start_time": "2024-11-11T10:52:59.537696Z"
    }
   },
   "source": [
    "# Auf mehrere Elemente flexibel zugreifen:\n",
    "a[1:, 2:]"
   ],
   "outputs": [
    {
     "data": {
      "text/plain": [
       "array([[ 7,  8],\n",
       "       [11, 12]])"
      ]
     },
     "execution_count": 42,
     "metadata": {},
     "output_type": "execute_result"
    }
   ],
   "execution_count": 42
  },
  {
   "cell_type": "code",
   "source": [
    "# Filtern mit Bedingungen 1: Boolesche Maske\n",
    "a > 5\n",
    "# Wir erhalten die gesamte Matrix mit Antworten, ob die Bedingung vom \n",
    "# jeweiligen Wert erfüllt wird oder nicht"
   ],
   "metadata": {
    "collapsed": false,
    "ExecuteTime": {
     "end_time": "2024-11-11T10:52:59.724411Z",
     "start_time": "2024-11-11T10:52:59.720542Z"
    }
   },
   "outputs": [
    {
     "data": {
      "text/plain": [
       "array([[False, False, False, False],\n",
       "       [False,  True,  True,  True],\n",
       "       [ True,  True,  True,  True]])"
      ]
     },
     "execution_count": 43,
     "metadata": {},
     "output_type": "execute_result"
    }
   ],
   "execution_count": 43
  },
  {
   "cell_type": "code",
   "source": [
    "# Wir können mit einer solchen Bedingung in den eckigen Klammern nur die \n",
    "# Werte herausfiltern, auf die die Bedingung zutrifft! (Mehr dazu bei Pandas)\n",
    "a[a > 5]"
   ],
   "metadata": {
    "collapsed": false,
    "ExecuteTime": {
     "end_time": "2024-11-11T10:52:59.949228Z",
     "start_time": "2024-11-11T10:52:59.941960Z"
    }
   },
   "outputs": [
    {
     "data": {
      "text/plain": [
       "array([ 6,  7,  8,  9, 10, 11, 12])"
      ]
     },
     "execution_count": 44,
     "metadata": {},
     "output_type": "execute_result"
    }
   ],
   "execution_count": 44
  },
  {
   "cell_type": "markdown",
   "metadata": {},
   "source": [
    "\n",
    "\n",
    "### Funktionen zur Array-Bearbeitung\n",
    "\n",
    "Die Numpy-`array`-Klasse bringt viele Instanzenmethoden mit, die der Array-Bearbeitung dienen. So können wir Arrays umformen, sortieren, zusammenfügen, Typen konvertieren und vieles mehr."
   ]
  },
  {
   "cell_type": "code",
   "metadata": {
    "ExecuteTime": {
     "end_time": "2024-11-11T10:53:00.158411Z",
     "start_time": "2024-11-11T10:53:00.153443Z"
    }
   },
   "source": [
    "# Beispiel-Array definieren:\n",
    "mein_array = np.array([[1, 4, 3, 4],\n",
    "                       [55, 6, 7, 8],\n",
    "                       [9, 17, 11, 12]])\n",
    "\n",
    "mein_array"
   ],
   "outputs": [
    {
     "data": {
      "text/plain": [
       "array([[ 1,  4,  3,  4],\n",
       "       [55,  6,  7,  8],\n",
       "       [ 9, 17, 11, 12]])"
      ]
     },
     "execution_count": 45,
     "metadata": {},
     "output_type": "execute_result"
    }
   ],
   "execution_count": 45
  },
  {
   "cell_type": "code",
   "metadata": {
    "ExecuteTime": {
     "end_time": "2024-11-11T10:53:00.385351Z",
     "start_time": "2024-11-11T10:53:00.379931Z"
    }
   },
   "source": [
    "# Sortieren von Arrays mit a.sort():\n",
    "mein_array.sort()\n",
    "\n",
    "mein_array"
   ],
   "outputs": [
    {
     "data": {
      "text/plain": [
       "array([[ 1,  3,  4,  4],\n",
       "       [ 6,  7,  8, 55],\n",
       "       [ 9, 11, 12, 17]])"
      ]
     },
     "execution_count": 46,
     "metadata": {},
     "output_type": "execute_result"
    }
   ],
   "execution_count": 46
  },
  {
   "cell_type": "code",
   "source": [
    "# Beispiel-Array definieren:\n",
    "mein_array = np.array([[1, 4, 3, 4],\n",
    "                       [55, 6, 7, 8],\n",
    "                       [9, 17, 11, 12]])\n",
    "\n",
    "mein_array"
   ],
   "metadata": {
    "collapsed": false,
    "ExecuteTime": {
     "end_time": "2024-11-11T10:53:00.542662Z",
     "start_time": "2024-11-11T10:53:00.534967Z"
    }
   },
   "outputs": [
    {
     "data": {
      "text/plain": [
       "array([[ 1,  4,  3,  4],\n",
       "       [55,  6,  7,  8],\n",
       "       [ 9, 17, 11, 12]])"
      ]
     },
     "execution_count": 47,
     "metadata": {},
     "output_type": "execute_result"
    }
   ],
   "execution_count": 47
  },
  {
   "cell_type": "code",
   "source": [
    "# Zeile für Zeile durch jede Spalte gehen und die Spalteninhalte \n",
    "# aufsteigend sortieren (da Laufrichtung zeilenbasiert ist, wird die Achse der \n",
    "# Zeilen angegeben, axis=0)\n",
    "mein_array.sort(axis=0)\n",
    "\n",
    "mein_array"
   ],
   "metadata": {
    "collapsed": false,
    "ExecuteTime": {
     "end_time": "2024-11-11T10:53:00.737898Z",
     "start_time": "2024-11-11T10:53:00.730393Z"
    }
   },
   "outputs": [
    {
     "data": {
      "text/plain": [
       "array([[ 1,  4,  3,  4],\n",
       "       [ 9,  6,  7,  8],\n",
       "       [55, 17, 11, 12]])"
      ]
     },
     "execution_count": 48,
     "metadata": {},
     "output_type": "execute_result"
    }
   ],
   "execution_count": 48
  },
  {
   "cell_type": "code",
   "metadata": {
    "ExecuteTime": {
     "end_time": "2024-11-11T10:53:00.939749Z",
     "start_time": "2024-11-11T10:53:00.934778Z"
    }
   },
   "source": [
    "# Zusammenführen von zwei Arrays np.concatenate((a1, a2)):\n",
    "array1 = np.array([1, 2, 3, 4])\n",
    "array2 = np.array([5, 6, 7, 8])\n",
    "\n",
    "# Fügt entlang der letzten Dimension zusammen\n",
    "print(np.concatenate((array1, array2)))\n",
    "\n",
    "# Oder:\n",
    "print(np.append(array1, array2))"
   ],
   "outputs": [
    {
     "name": "stdout",
     "output_type": "stream",
     "text": [
      "[1 2 3 4 5 6 7 8]\n",
      "[1 2 3 4 5 6 7 8]\n"
     ]
    }
   ],
   "execution_count": 49
  },
  {
   "cell_type": "code",
   "metadata": {
    "ExecuteTime": {
     "end_time": "2024-11-11T10:53:01.140666Z",
     "start_time": "2024-11-11T10:53:01.132204Z"
    }
   },
   "source": [
    "# Zusammenführen von zwei Arrays np.concatenate((a1, a2))\n",
    "array1 = np.array([[[1, 2, 3, 4],\n",
    "                    [1, 2, 3, 4]],\n",
    "                   [[1, 2, 3, 4],\n",
    "                    [1, 2, 3, 4]]])\n",
    "\n",
    "array2 = np.array([[[5, 6, 7, 8],\n",
    "                    [5, 6, 7, 8]],\n",
    "                   [[5, 6, 7, 8],\n",
    "                    [5, 6, 7, 8]]])\n",
    "\n",
    "np.concatenate((array1, array2))"
   ],
   "outputs": [
    {
     "data": {
      "text/plain": [
       "array([[[1, 2, 3, 4],\n",
       "        [1, 2, 3, 4]],\n",
       "\n",
       "       [[1, 2, 3, 4],\n",
       "        [1, 2, 3, 4]],\n",
       "\n",
       "       [[5, 6, 7, 8],\n",
       "        [5, 6, 7, 8]],\n",
       "\n",
       "       [[5, 6, 7, 8],\n",
       "        [5, 6, 7, 8]]])"
      ]
     },
     "execution_count": 50,
     "metadata": {},
     "output_type": "execute_result"
    }
   ],
   "execution_count": 50
  },
  {
   "cell_type": "code",
   "metadata": {
    "ExecuteTime": {
     "end_time": "2024-11-11T10:53:01.282343Z",
     "start_time": "2024-11-11T10:53:01.274879Z"
    }
   },
   "source": [
    "# Umformen von Arrays (zB: aus 1-D mach 2-D): a.reshape(shape)\n",
    "array1 = np.array([1, 2, 3, 4, 5, 6, 7, 8])\n",
    "\n",
    "array2 = array1.reshape((2, 4))\n",
    "array2"
   ],
   "outputs": [
    {
     "data": {
      "text/plain": [
       "array([[1, 2, 3, 4],\n",
       "       [5, 6, 7, 8]])"
      ]
     },
     "execution_count": 51,
     "metadata": {},
     "output_type": "execute_result"
    }
   ],
   "execution_count": 51
  },
  {
   "cell_type": "code",
   "metadata": {
    "ExecuteTime": {
     "end_time": "2024-11-11T10:53:01.411510Z",
     "start_time": "2024-11-11T10:53:01.405903Z"
    }
   },
   "source": [
    "# Dimensions-Reduktion mit a.reshape\n",
    "# Bei Angabe von shape -1 werden Dimensionen entfernt\n",
    "array2.reshape(-1)"
   ],
   "outputs": [
    {
     "data": {
      "text/plain": [
       "array([1, 2, 3, 4, 5, 6, 7, 8])"
      ]
     },
     "execution_count": 52,
     "metadata": {},
     "output_type": "execute_result"
    }
   ],
   "execution_count": 52
  },
  {
   "cell_type": "code",
   "source": [
    "# Beliebig-dimensionales Array in ein flaches 1-D-Array umwandeln:\n",
    "\n",
    "mein_array = np.array([[[1, 4, 3, 4],\n",
    "                       [55, 6, 7, 8],\n",
    "                       [9, 17, 11, 12]],\n",
    "                       [[3, 6, 1, 2],\n",
    "                       [22, 12, 321, 12],\n",
    "                       [87, 7, 1, 2]]])\n",
    "\n",
    "flattened_array = mein_array.flatten()\n",
    "print(mein_array)\n",
    "print('Ursprüngliche Dimensionen:', mein_array.ndim)\n",
    "print(flattened_array)\n",
    "print('Dimensionen nach \"Abflachung\":', flattened_array.ndim)"
   ],
   "metadata": {
    "collapsed": false,
    "ExecuteTime": {
     "end_time": "2024-11-11T10:53:01.609056Z",
     "start_time": "2024-11-11T10:53:01.603022Z"
    }
   },
   "outputs": [
    {
     "name": "stdout",
     "output_type": "stream",
     "text": [
      "[[[  1   4   3   4]\n",
      "  [ 55   6   7   8]\n",
      "  [  9  17  11  12]]\n",
      "\n",
      " [[  3   6   1   2]\n",
      "  [ 22  12 321  12]\n",
      "  [ 87   7   1   2]]]\n",
      "Ursprüngliche Dimensionen: 3\n",
      "[  1   4   3   4  55   6   7   8   9  17  11  12   3   6   1   2  22  12\n",
      " 321  12  87   7   1   2]\n",
      "Dimensionen nach \"Abflachung\": 1\n"
     ]
    }
   ],
   "execution_count": 53
  },
  {
   "cell_type": "code",
   "metadata": {
    "ExecuteTime": {
     "end_time": "2024-11-11T10:53:01.725552Z",
     "start_time": "2024-11-11T10:53:01.720327Z"
    }
   },
   "source": [
    "# Aufteilen von arrays: np.split(a, index/section)\n",
    "print(array1)\n",
    "part1, part2 = np.split(array1, 2)\n",
    "print(part1)\n",
    "print(part2)"
   ],
   "outputs": [
    {
     "name": "stdout",
     "output_type": "stream",
     "text": [
      "[1 2 3 4 5 6 7 8]\n",
      "[1 2 3 4]\n",
      "[5 6 7 8]\n"
     ]
    }
   ],
   "execution_count": 54
  },
  {
   "cell_type": "markdown",
   "metadata": {},
   "source": [
    "#### Übungsaufgabe (reshape)\n",
    "\n",
    "Erstelle einen Array mit einer Dimension von den Zahlen 1 bis 12. Arbeite mit dem Befehlen split und reshape und erstelle daraus 2 Arrays, mit dem Shape (3, 2)"
   ]
  },
  {
   "cell_type": "code",
   "metadata": {
    "ExecuteTime": {
     "end_time": "2024-11-11T10:53:01.788395Z",
     "start_time": "2024-11-11T10:53:01.785711Z"
    }
   },
   "source": "",
   "outputs": [],
   "execution_count": null
  },
  {
   "cell_type": "markdown",
   "metadata": {},
   "source": [
    "## Berechnungen mit Arrays\n",
    "\n",
    "Im Gegensatz zum `list`-Datentyp müssen wir bei Arrays keine list \n",
    "comprehension, map, o.Ä. benutzen, um eine Berechnung \"element-wise\" also \n",
    "Element für Element über eine ganze Datensammlung durchzuführen. Wir können\n",
    " einfach die normalen Operatoren benutzen!"
   ]
  },
  {
   "cell_type": "code",
   "metadata": {
    "ExecuteTime": {
     "end_time": "2024-11-11T10:53:01.841018Z",
     "start_time": "2024-11-11T10:53:01.837501Z"
    }
   },
   "source": [
    "a = np.arange(1, 7)\n",
    "b = a\n",
    "c = a\n",
    "b = b - 1\n",
    "c = c / 2\n",
    "\n",
    "print(a, b, c)"
   ],
   "outputs": [
    {
     "name": "stdout",
     "output_type": "stream",
     "text": [
      "[1 2 3 4 5 6] [0 1 2 3 4 5] [0.5 1.  1.5 2.  2.5 3. ]\n"
     ]
    }
   ],
   "execution_count": 55
  },
  {
   "metadata": {
    "ExecuteTime": {
     "end_time": "2024-11-11T10:53:01.987784Z",
     "start_time": "2024-11-11T10:53:01.980020Z"
    }
   },
   "cell_type": "code",
   "source": "a",
   "outputs": [
    {
     "data": {
      "text/plain": [
       "array([1, 2, 3, 4, 5, 6])"
      ]
     },
     "execution_count": 56,
     "metadata": {},
     "output_type": "execute_result"
    }
   ],
   "execution_count": 56
  },
  {
   "cell_type": "code",
   "metadata": {
    "ExecuteTime": {
     "end_time": "2024-11-11T10:53:02.141983Z",
     "start_time": "2024-11-11T10:53:02.135882Z"
    }
   },
   "source": [
    "# Mittelwert eines Arrays\n",
    "np.mean(a)"
   ],
   "outputs": [
    {
     "data": {
      "text/plain": [
       "np.float64(3.5)"
      ]
     },
     "execution_count": 57,
     "metadata": {},
     "output_type": "execute_result"
    }
   ],
   "execution_count": 57
  },
  {
   "cell_type": "code",
   "metadata": {
    "ExecuteTime": {
     "end_time": "2024-11-11T10:53:02.282466Z",
     "start_time": "2024-11-11T10:53:02.276287Z"
    }
   },
   "source": [
    "# Summe eines Arrays\n",
    "a.sum()"
   ],
   "outputs": [
    {
     "data": {
      "text/plain": [
       "np.int64(21)"
      ]
     },
     "execution_count": 58,
     "metadata": {},
     "output_type": "execute_result"
    }
   ],
   "execution_count": 58
  },
  {
   "cell_type": "code",
   "metadata": {
    "ExecuteTime": {
     "end_time": "2024-11-11T10:53:02.450655Z",
     "start_time": "2024-11-11T10:53:02.443666Z"
    }
   },
   "source": [
    "# Minimum eines Arrays\n",
    "a.min()"
   ],
   "outputs": [
    {
     "data": {
      "text/plain": [
       "np.int64(1)"
      ]
     },
     "execution_count": 59,
     "metadata": {},
     "output_type": "execute_result"
    }
   ],
   "execution_count": 59
  },
  {
   "metadata": {
    "ExecuteTime": {
     "end_time": "2024-11-11T10:53:02.582954Z",
     "start_time": "2024-11-11T10:53:02.578797Z"
    }
   },
   "cell_type": "code",
   "source": [
    "# Es gibt noch viel, viel mehr zu entdecken:\n",
    "# https://numpy.org/doc/stable/user/index.html"
   ],
   "outputs": [],
   "execution_count": 60
  }
 ],
 "metadata": {
  "kernelspec": {
   "display_name": "kurs6",
   "language": "python",
   "name": "python3"
  },
  "language_info": {
   "codemirror_mode": {
    "name": "ipython",
    "version": 3
   },
   "file_extension": ".py",
   "mimetype": "text/x-python",
   "name": "python",
   "nbconvert_exporter": "python",
   "pygments_lexer": "ipython3",
   "version": "3.9.12"
  }
 },
 "nbformat": 4,
 "nbformat_minor": 2
}
