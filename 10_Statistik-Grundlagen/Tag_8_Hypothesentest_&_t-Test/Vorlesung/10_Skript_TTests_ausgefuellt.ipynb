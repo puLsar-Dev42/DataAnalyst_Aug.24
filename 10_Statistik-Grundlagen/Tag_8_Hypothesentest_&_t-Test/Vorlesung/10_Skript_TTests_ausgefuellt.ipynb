{
 "cells": [
  {
   "attachments": {},
   "cell_type": "markdown",
   "metadata": {},
   "source": "## T-Tests in Python"
  },
  {
   "cell_type": "code",
   "metadata": {
    "ExecuteTime": {
     "end_time": "2025-02-13T10:49:07.262185Z",
     "start_time": "2025-02-13T10:49:02.513901Z"
    }
   },
   "source": [
    "import pandas as pd\n",
    "import plotly.express as px\n",
    "import scipy.stats as st"
   ],
   "outputs": [],
   "execution_count": 1
  },
  {
   "cell_type": "code",
   "metadata": {
    "ExecuteTime": {
     "end_time": "2025-02-13T10:49:26.069190Z",
     "start_time": "2025-02-13T10:49:26.055463Z"
    }
   },
   "source": [
    "# Der heutige Datensatz:\n",
    "tips = px.data.tips()\n",
    "tips.head()"
   ],
   "outputs": [
    {
     "data": {
      "text/plain": [
       "   total_bill   tip     sex smoker  day    time  size\n",
       "0       16.99  1.01  Female     No  Sun  Dinner     2\n",
       "1       10.34  1.66    Male     No  Sun  Dinner     3\n",
       "2       21.01  3.50    Male     No  Sun  Dinner     3\n",
       "3       23.68  3.31    Male     No  Sun  Dinner     2\n",
       "4       24.59  3.61  Female     No  Sun  Dinner     4"
      ],
      "text/html": [
       "<div>\n",
       "<style scoped>\n",
       "    .dataframe tbody tr th:only-of-type {\n",
       "        vertical-align: middle;\n",
       "    }\n",
       "\n",
       "    .dataframe tbody tr th {\n",
       "        vertical-align: top;\n",
       "    }\n",
       "\n",
       "    .dataframe thead th {\n",
       "        text-align: right;\n",
       "    }\n",
       "</style>\n",
       "<table border=\"1\" class=\"dataframe\">\n",
       "  <thead>\n",
       "    <tr style=\"text-align: right;\">\n",
       "      <th></th>\n",
       "      <th>total_bill</th>\n",
       "      <th>tip</th>\n",
       "      <th>sex</th>\n",
       "      <th>smoker</th>\n",
       "      <th>day</th>\n",
       "      <th>time</th>\n",
       "      <th>size</th>\n",
       "    </tr>\n",
       "  </thead>\n",
       "  <tbody>\n",
       "    <tr>\n",
       "      <th>0</th>\n",
       "      <td>16.99</td>\n",
       "      <td>1.01</td>\n",
       "      <td>Female</td>\n",
       "      <td>No</td>\n",
       "      <td>Sun</td>\n",
       "      <td>Dinner</td>\n",
       "      <td>2</td>\n",
       "    </tr>\n",
       "    <tr>\n",
       "      <th>1</th>\n",
       "      <td>10.34</td>\n",
       "      <td>1.66</td>\n",
       "      <td>Male</td>\n",
       "      <td>No</td>\n",
       "      <td>Sun</td>\n",
       "      <td>Dinner</td>\n",
       "      <td>3</td>\n",
       "    </tr>\n",
       "    <tr>\n",
       "      <th>2</th>\n",
       "      <td>21.01</td>\n",
       "      <td>3.50</td>\n",
       "      <td>Male</td>\n",
       "      <td>No</td>\n",
       "      <td>Sun</td>\n",
       "      <td>Dinner</td>\n",
       "      <td>3</td>\n",
       "    </tr>\n",
       "    <tr>\n",
       "      <th>3</th>\n",
       "      <td>23.68</td>\n",
       "      <td>3.31</td>\n",
       "      <td>Male</td>\n",
       "      <td>No</td>\n",
       "      <td>Sun</td>\n",
       "      <td>Dinner</td>\n",
       "      <td>2</td>\n",
       "    </tr>\n",
       "    <tr>\n",
       "      <th>4</th>\n",
       "      <td>24.59</td>\n",
       "      <td>3.61</td>\n",
       "      <td>Female</td>\n",
       "      <td>No</td>\n",
       "      <td>Sun</td>\n",
       "      <td>Dinner</td>\n",
       "      <td>4</td>\n",
       "    </tr>\n",
       "  </tbody>\n",
       "</table>\n",
       "</div>"
      ]
     },
     "execution_count": 3,
     "metadata": {},
     "output_type": "execute_result"
    }
   ],
   "execution_count": 3
  },
  {
   "cell_type": "code",
   "metadata": {
    "ExecuteTime": {
     "end_time": "2025-02-13T10:49:36.329859Z",
     "start_time": "2025-02-13T10:49:36.312595Z"
    }
   },
   "source": [
    "# Die Spalten in der Übersicht:\n",
    "tips.describe()"
   ],
   "outputs": [
    {
     "data": {
      "text/plain": [
       "       total_bill         tip        size\n",
       "count  244.000000  244.000000  244.000000\n",
       "mean    19.785943    2.998279    2.569672\n",
       "std      8.902412    1.383638    0.951100\n",
       "min      3.070000    1.000000    1.000000\n",
       "25%     13.347500    2.000000    2.000000\n",
       "50%     17.795000    2.900000    2.000000\n",
       "75%     24.127500    3.562500    3.000000\n",
       "max     50.810000   10.000000    6.000000"
      ],
      "text/html": [
       "<div>\n",
       "<style scoped>\n",
       "    .dataframe tbody tr th:only-of-type {\n",
       "        vertical-align: middle;\n",
       "    }\n",
       "\n",
       "    .dataframe tbody tr th {\n",
       "        vertical-align: top;\n",
       "    }\n",
       "\n",
       "    .dataframe thead th {\n",
       "        text-align: right;\n",
       "    }\n",
       "</style>\n",
       "<table border=\"1\" class=\"dataframe\">\n",
       "  <thead>\n",
       "    <tr style=\"text-align: right;\">\n",
       "      <th></th>\n",
       "      <th>total_bill</th>\n",
       "      <th>tip</th>\n",
       "      <th>size</th>\n",
       "    </tr>\n",
       "  </thead>\n",
       "  <tbody>\n",
       "    <tr>\n",
       "      <th>count</th>\n",
       "      <td>244.000000</td>\n",
       "      <td>244.000000</td>\n",
       "      <td>244.000000</td>\n",
       "    </tr>\n",
       "    <tr>\n",
       "      <th>mean</th>\n",
       "      <td>19.785943</td>\n",
       "      <td>2.998279</td>\n",
       "      <td>2.569672</td>\n",
       "    </tr>\n",
       "    <tr>\n",
       "      <th>std</th>\n",
       "      <td>8.902412</td>\n",
       "      <td>1.383638</td>\n",
       "      <td>0.951100</td>\n",
       "    </tr>\n",
       "    <tr>\n",
       "      <th>min</th>\n",
       "      <td>3.070000</td>\n",
       "      <td>1.000000</td>\n",
       "      <td>1.000000</td>\n",
       "    </tr>\n",
       "    <tr>\n",
       "      <th>25%</th>\n",
       "      <td>13.347500</td>\n",
       "      <td>2.000000</td>\n",
       "      <td>2.000000</td>\n",
       "    </tr>\n",
       "    <tr>\n",
       "      <th>50%</th>\n",
       "      <td>17.795000</td>\n",
       "      <td>2.900000</td>\n",
       "      <td>2.000000</td>\n",
       "    </tr>\n",
       "    <tr>\n",
       "      <th>75%</th>\n",
       "      <td>24.127500</td>\n",
       "      <td>3.562500</td>\n",
       "      <td>3.000000</td>\n",
       "    </tr>\n",
       "    <tr>\n",
       "      <th>max</th>\n",
       "      <td>50.810000</td>\n",
       "      <td>10.000000</td>\n",
       "      <td>6.000000</td>\n",
       "    </tr>\n",
       "  </tbody>\n",
       "</table>\n",
       "</div>"
      ]
     },
     "execution_count": 4,
     "metadata": {},
     "output_type": "execute_result"
    }
   ],
   "execution_count": 4
  },
  {
   "attachments": {},
   "cell_type": "markdown",
   "metadata": {},
   "source": [
    "### Einstichproben T-Test"
   ]
  },
  {
   "metadata": {
    "ExecuteTime": {
     "end_time": "2025-02-13T10:50:11.318308Z",
     "start_time": "2025-02-13T10:50:11.312226Z"
    }
   },
   "cell_type": "code",
   "source": [
    "# Mittelwert der Spalte total_bill:\n",
    "tips['total_bill'].mean()"
   ],
   "outputs": [
    {
     "data": {
      "text/plain": [
       "np.float64(19.78594262295082)"
      ]
     },
     "execution_count": 5,
     "metadata": {},
     "output_type": "execute_result"
    }
   ],
   "execution_count": 5
  },
  {
   "cell_type": "code",
   "metadata": {
    "ExecuteTime": {
     "end_time": "2025-02-13T10:52:11.889082Z",
     "start_time": "2025-02-13T10:52:11.881450Z"
    }
   },
   "source": [
    "# Einstichproben-T-Test zum Vergleich EINER SPALTE mit einer KONSTANTEN\n",
    "# Hier mit scipy.stats und Unterschied zu 10 (hypothetischer Mittelwert)\n",
    "# H0: Total_Bill unterscheidet sich nicht von 10\n",
    "# H1: Total_Bill unterscheidet sich von 10\n",
    "m = 10  # hypothetischer Wert µ0\n",
    "result = st.ttest_1samp(tips['total_bill'], m)\n",
    "print(result)"
   ],
   "outputs": [
    {
     "name": "stdout",
     "output_type": "stream",
     "text": [
      "TtestResult(statistic=np.float64(17.170774748891453), pvalue=np.float64(8.22295124817181e-44), df=np.int64(243))\n"
     ]
    }
   ],
   "execution_count": 6
  },
  {
   "metadata": {
    "ExecuteTime": {
     "end_time": "2025-02-13T10:53:22.237346Z",
     "start_time": "2025-02-13T10:53:22.232648Z"
    }
   },
   "cell_type": "code",
   "source": [
    "t = result.statistic\n",
    "t"
   ],
   "outputs": [
    {
     "data": {
      "text/plain": [
       "np.float64(17.170774748891453)"
      ]
     },
     "execution_count": 10,
     "metadata": {},
     "output_type": "execute_result"
    }
   ],
   "execution_count": 10
  },
  {
   "metadata": {
    "ExecuteTime": {
     "end_time": "2025-02-13T10:53:56.601520Z",
     "start_time": "2025-02-13T10:53:56.595992Z"
    }
   },
   "cell_type": "code",
   "source": [
    "p = result.pvalue\n",
    "p"
   ],
   "outputs": [
    {
     "data": {
      "text/plain": [
       "np.float64(8.22295124817181e-44)"
      ]
     },
     "execution_count": 11,
     "metadata": {},
     "output_type": "execute_result"
    }
   ],
   "execution_count": 11
  },
  {
   "metadata": {
    "ExecuteTime": {
     "end_time": "2025-02-13T10:55:12.071609Z",
     "start_time": "2025-02-13T10:55:12.065412Z"
    }
   },
   "cell_type": "code",
   "source": [
    "# Test ob p kleiner ist als Signifikanzniveau:\n",
    "alpha = 0.05\n",
    "p < alpha"
   ],
   "outputs": [
    {
     "data": {
      "text/plain": [
       "np.True_"
      ]
     },
     "execution_count": 12,
     "metadata": {},
     "output_type": "execute_result"
    }
   ],
   "execution_count": 12
  },
  {
   "cell_type": "code",
   "metadata": {
    "ExecuteTime": {
     "end_time": "2025-02-13T10:56:05.182082Z",
     "start_time": "2025-02-13T10:56:05.175561Z"
    }
   },
   "source": [
    "# Auch mit Angabe von Richtung möglich:\n",
    "print(st.ttest_1samp(tips.total_bill, 10, alternative=\"less\"))\n",
    "print(st.ttest_1samp(tips.total_bill, 10, alternative=\"greater\"))"
   ],
   "outputs": [
    {
     "name": "stdout",
     "output_type": "stream",
     "text": [
      "TtestResult(statistic=np.float64(17.170774748891453), pvalue=np.float64(1.0), df=np.int64(243))\n",
      "TtestResult(statistic=np.float64(17.170774748891453), pvalue=np.float64(4.111475624085905e-44), df=np.int64(243))\n"
     ]
    }
   ],
   "execution_count": 13
  },
  {
   "cell_type": "code",
   "metadata": {
    "ExecuteTime": {
     "end_time": "2025-02-13T10:58:17.105376Z",
     "start_time": "2025-02-13T10:58:17.098656Z"
    }
   },
   "source": [
    "# Umgang mit fehlenden Werten ist ebenso einstellbar:\n",
    "st.ttest_1samp(tips.total_bill, 10, nan_policy=\"omit\")"
   ],
   "outputs": [
    {
     "data": {
      "text/plain": [
       "TtestResult(statistic=np.float64(17.170774748891453), pvalue=np.float64(8.22295124817181e-44), df=np.int64(243))"
      ]
     },
     "execution_count": 16,
     "metadata": {},
     "output_type": "execute_result"
    }
   ],
   "execution_count": 16
  },
  {
   "attachments": {},
   "cell_type": "markdown",
   "metadata": {},
   "source": [
    "### Zweistichproben T-Test für abhängige Stichproben"
   ]
  },
  {
   "cell_type": "code",
   "metadata": {
    "ExecuteTime": {
     "end_time": "2025-02-13T10:58:39.382427Z",
     "start_time": "2025-02-13T10:58:39.373542Z"
    }
   },
   "source": [
    "# Zweistichproben T-Test zum Vergleich ZWEITER SPALTEN der GLEICHEN MERKMALSTRÄGER\n",
    "# Mit scipy stats\n",
    "data = {\n",
    "    \"Proband\": [1, 2, 3, 4, 5, 6, 7, 8, 9, 10],\n",
    "    \"Blutdruck_Vorher\": [120, 130, 125, 140, 135, 128, 132, 138, 142, 126],\n",
    "    \"Blutdruck_Nachher\": [118, 128, 122, 138, 132, 125, 130, 135, 140, 124]\n",
    "}\n",
    "\n",
    "measures = pd.DataFrame(data).set_index('Proband')\n",
    "\n",
    "measures"
   ],
   "outputs": [
    {
     "data": {
      "text/plain": [
       "         Blutdruck_Vorher  Blutdruck_Nachher\n",
       "Proband                                     \n",
       "1                     120                118\n",
       "2                     130                128\n",
       "3                     125                122\n",
       "4                     140                138\n",
       "5                     135                132\n",
       "6                     128                125\n",
       "7                     132                130\n",
       "8                     138                135\n",
       "9                     142                140\n",
       "10                    126                124"
      ],
      "text/html": [
       "<div>\n",
       "<style scoped>\n",
       "    .dataframe tbody tr th:only-of-type {\n",
       "        vertical-align: middle;\n",
       "    }\n",
       "\n",
       "    .dataframe tbody tr th {\n",
       "        vertical-align: top;\n",
       "    }\n",
       "\n",
       "    .dataframe thead th {\n",
       "        text-align: right;\n",
       "    }\n",
       "</style>\n",
       "<table border=\"1\" class=\"dataframe\">\n",
       "  <thead>\n",
       "    <tr style=\"text-align: right;\">\n",
       "      <th></th>\n",
       "      <th>Blutdruck_Vorher</th>\n",
       "      <th>Blutdruck_Nachher</th>\n",
       "    </tr>\n",
       "    <tr>\n",
       "      <th>Proband</th>\n",
       "      <th></th>\n",
       "      <th></th>\n",
       "    </tr>\n",
       "  </thead>\n",
       "  <tbody>\n",
       "    <tr>\n",
       "      <th>1</th>\n",
       "      <td>120</td>\n",
       "      <td>118</td>\n",
       "    </tr>\n",
       "    <tr>\n",
       "      <th>2</th>\n",
       "      <td>130</td>\n",
       "      <td>128</td>\n",
       "    </tr>\n",
       "    <tr>\n",
       "      <th>3</th>\n",
       "      <td>125</td>\n",
       "      <td>122</td>\n",
       "    </tr>\n",
       "    <tr>\n",
       "      <th>4</th>\n",
       "      <td>140</td>\n",
       "      <td>138</td>\n",
       "    </tr>\n",
       "    <tr>\n",
       "      <th>5</th>\n",
       "      <td>135</td>\n",
       "      <td>132</td>\n",
       "    </tr>\n",
       "    <tr>\n",
       "      <th>6</th>\n",
       "      <td>128</td>\n",
       "      <td>125</td>\n",
       "    </tr>\n",
       "    <tr>\n",
       "      <th>7</th>\n",
       "      <td>132</td>\n",
       "      <td>130</td>\n",
       "    </tr>\n",
       "    <tr>\n",
       "      <th>8</th>\n",
       "      <td>138</td>\n",
       "      <td>135</td>\n",
       "    </tr>\n",
       "    <tr>\n",
       "      <th>9</th>\n",
       "      <td>142</td>\n",
       "      <td>140</td>\n",
       "    </tr>\n",
       "    <tr>\n",
       "      <th>10</th>\n",
       "      <td>126</td>\n",
       "      <td>124</td>\n",
       "    </tr>\n",
       "  </tbody>\n",
       "</table>\n",
       "</div>"
      ]
     },
     "execution_count": 17,
     "metadata": {},
     "output_type": "execute_result"
    }
   ],
   "execution_count": 17
  },
  {
   "metadata": {
    "ExecuteTime": {
     "end_time": "2025-02-13T10:58:57.724765Z",
     "start_time": "2025-02-13T10:58:57.708894Z"
    }
   },
   "cell_type": "code",
   "source": "measures.describe()",
   "outputs": [
    {
     "data": {
      "text/plain": [
       "       Blutdruck_Vorher  Blutdruck_Nachher\n",
       "count         10.000000          10.000000\n",
       "mean         131.600000         129.200000\n",
       "std            7.121173           7.146095\n",
       "min          120.000000         118.000000\n",
       "25%          126.500000         124.250000\n",
       "50%          131.000000         129.000000\n",
       "75%          137.250000         134.250000\n",
       "max          142.000000         140.000000"
      ],
      "text/html": [
       "<div>\n",
       "<style scoped>\n",
       "    .dataframe tbody tr th:only-of-type {\n",
       "        vertical-align: middle;\n",
       "    }\n",
       "\n",
       "    .dataframe tbody tr th {\n",
       "        vertical-align: top;\n",
       "    }\n",
       "\n",
       "    .dataframe thead th {\n",
       "        text-align: right;\n",
       "    }\n",
       "</style>\n",
       "<table border=\"1\" class=\"dataframe\">\n",
       "  <thead>\n",
       "    <tr style=\"text-align: right;\">\n",
       "      <th></th>\n",
       "      <th>Blutdruck_Vorher</th>\n",
       "      <th>Blutdruck_Nachher</th>\n",
       "    </tr>\n",
       "  </thead>\n",
       "  <tbody>\n",
       "    <tr>\n",
       "      <th>count</th>\n",
       "      <td>10.000000</td>\n",
       "      <td>10.000000</td>\n",
       "    </tr>\n",
       "    <tr>\n",
       "      <th>mean</th>\n",
       "      <td>131.600000</td>\n",
       "      <td>129.200000</td>\n",
       "    </tr>\n",
       "    <tr>\n",
       "      <th>std</th>\n",
       "      <td>7.121173</td>\n",
       "      <td>7.146095</td>\n",
       "    </tr>\n",
       "    <tr>\n",
       "      <th>min</th>\n",
       "      <td>120.000000</td>\n",
       "      <td>118.000000</td>\n",
       "    </tr>\n",
       "    <tr>\n",
       "      <th>25%</th>\n",
       "      <td>126.500000</td>\n",
       "      <td>124.250000</td>\n",
       "    </tr>\n",
       "    <tr>\n",
       "      <th>50%</th>\n",
       "      <td>131.000000</td>\n",
       "      <td>129.000000</td>\n",
       "    </tr>\n",
       "    <tr>\n",
       "      <th>75%</th>\n",
       "      <td>137.250000</td>\n",
       "      <td>134.250000</td>\n",
       "    </tr>\n",
       "    <tr>\n",
       "      <th>max</th>\n",
       "      <td>142.000000</td>\n",
       "      <td>140.000000</td>\n",
       "    </tr>\n",
       "  </tbody>\n",
       "</table>\n",
       "</div>"
      ]
     },
     "execution_count": 19,
     "metadata": {},
     "output_type": "execute_result"
    }
   ],
   "execution_count": 19
  },
  {
   "metadata": {
    "ExecuteTime": {
     "end_time": "2025-02-13T11:00:54.132024Z",
     "start_time": "2025-02-13T11:00:54.126395Z"
    }
   },
   "cell_type": "code",
   "source": [
    "# Abhängigen t-Test durchführen\n",
    "t_statistic, p_value = st.ttest_rel(\n",
    "    measures['Blutdruck_Vorher'],\n",
    "    measures['Blutdruck_Nachher']\n",
    ")\n",
    "\n",
    "print(f\"t-Statistik: {t_statistic}\")\n",
    "print(f\"p-Wert: {p_value}\")\n",
    "\n",
    "# Die restlichen Funktionen bietet dieser Test natürlich ebenso wie oben beim Einstichproben T-Test\n",
    "# p-Wert DEUTLICH unter 0.05"
   ],
   "outputs": [
    {
     "name": "stdout",
     "output_type": "stream",
     "text": [
      "t-Statistik: 14.696938456699067\n",
      "p-Wert: 1.346732577311636e-07\n"
     ]
    }
   ],
   "execution_count": 22
  },
  {
   "attachments": {},
   "cell_type": "markdown",
   "metadata": {},
   "source": [
    "### Zweistichproben T-Test für unabhängige Stichproben"
   ]
  },
  {
   "cell_type": "code",
   "metadata": {
    "ExecuteTime": {
     "end_time": "2025-02-13T11:03:10.057225Z",
     "start_time": "2025-02-13T11:03:10.046811Z"
    }
   },
   "source": [
    "# Zweistichproben T-Test zum Vergleich EINER SPALTE aufgeteilt in ZWEI GRUPPEN\n",
    "# Mit SciPy\n",
    "females = tips.total_bill[tips.sex=='Female']\n",
    "males = tips.total_bill[tips.sex=='Male']\n",
    "# equal_var=True > bei ähnlichen Varianzen der Populationen\n",
    "# bei ungleichen Varianzen equal_var=False)\n",
    "t_statistic, p_value = st.ttest_ind(females, males, equal_var=True)  # default True\n",
    "print(f\"t-Statistik: {t_statistic}\")\n",
    "print(f\"p-Wert: {p_value}\")"
   ],
   "outputs": [
    {
     "name": "stdout",
     "output_type": "stream",
     "text": [
      "t-Statistik: -2.2777940289803134\n",
      "p-Wert: 0.0236116668468594\n"
     ]
    }
   ],
   "execution_count": 23
  },
  {
   "cell_type": "code",
   "metadata": {
    "ExecuteTime": {
     "end_time": "2025-02-13T11:05:03.333572Z",
     "start_time": "2025-02-13T11:05:03.324261Z"
    }
   },
   "source": [
    "# Doch woher weiß ich, welcher der beiden Tests jetzt richtig ist?\n",
    "# Hierfür muss ich die Varianzen auf Unterschiede prüfen!\n",
    "# Auch hierfür gibt es einen passenden Test -> Levene-Test\n",
    "# Mantra: Wenn p > .050 --> Gleiche Varianzen; sonst ungleiche Varianzen\n",
    "st.levene(females, males)\n",
    "\n",
    "# Hier also gleiche Varianzen!"
   ],
   "outputs": [
    {
     "data": {
      "text/plain": [
       "LeveneResult(statistic=np.float64(1.631715567905501), pvalue=np.float64(0.20269005267784274))"
      ]
     },
     "execution_count": 24,
     "metadata": {},
     "output_type": "execute_result"
    }
   ],
   "execution_count": 24
  },
  {
   "attachments": {},
   "cell_type": "markdown",
   "metadata": {},
   "source": [
    "#### Übungsaufgabe\n",
    "Arbeite mit dem iris-Datensatz und beantworte die folgende Frage:\n",
    "<br>\n",
    "Gibt es einen signifikanten Unterschied zwischen den Spezies in einer der vier Variablen (such dir mindestens eine aus)?"
   ]
  },
  {
   "cell_type": "code",
   "metadata": {},
   "source": [
    "iris = px.data.iris()\n",
    "iris.head()"
   ],
   "outputs": [],
   "execution_count": null
  },
  {
   "metadata": {},
   "cell_type": "code",
   "outputs": [],
   "execution_count": null,
   "source": ""
  },
  {
   "metadata": {},
   "cell_type": "code",
   "outputs": [],
   "execution_count": null,
   "source": ""
  },
  {
   "metadata": {},
   "cell_type": "code",
   "outputs": [],
   "execution_count": null,
   "source": ""
  },
  {
   "metadata": {},
   "cell_type": "code",
   "outputs": [],
   "execution_count": null,
   "source": ""
  }
 ],
 "metadata": {
  "kernelspec": {
   "display_name": "Python 3",
   "language": "python",
   "name": "python3"
  },
  "language_info": {
   "codemirror_mode": {
    "name": "ipython",
    "version": 3
   },
   "file_extension": ".py",
   "mimetype": "text/x-python",
   "name": "python",
   "nbconvert_exporter": "python",
   "pygments_lexer": "ipython3",
   "version": "3.11.1"
  },
  "orig_nbformat": 4,
  "vscode": {
   "interpreter": {
    "hash": "6a33add19b135581d6797622ba897a8aa8e07e9491c492522c896e8d2e24141e"
   }
  }
 },
 "nbformat": 4,
 "nbformat_minor": 2
}
