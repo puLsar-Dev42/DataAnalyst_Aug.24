{
 "cells": [
  {
   "cell_type": "markdown",
   "source": [
    "<br><br><center><h1 style=\"font-size:2em;color:#2467C0\">Tagesaufgaben 14.03.2024</h1></center>\n",
    "<br>\n"
   ],
   "metadata": {
    "collapsed": false
   }
  },
  {
   "cell_type": "markdown",
   "source": [
    "## Aufgabe 1\n",
    "Du hast eine Liste von Getränken.\n",
    "1. Greif dir die Fanta (ohne Index) raus und trink sie! (Sie ist danach nicht mehr Teil der Liste)\n",
    "2. Du sollst einem Freund sagen, wie er den Rotwein findet. Löse mit einem Index.\n",
    "3. Trinke das Bier mit der einfachsten denkbaren Methode (ohne Index und nicht nach Wert!).\n",
    "4. Nach dem Bier bist du noch einmal einkaufen gegangen und hast... eine Milch gekauft. Füge sie zu deiner Liste hinzu.\n",
    "5. Jetzt findet eine \"Party\" statt und alles wurde ausgetrunken. Entleere die Liste."
   ],
   "metadata": {
    "collapsed": false
   }
  },
  {
   "cell_type": "code",
   "execution_count": 10,
   "outputs": [],
   "source": [
    "# Die Liste:\n",
    "drinks = [\"Cola\", \"Wasser\", \"Fanta\", \"Orangensaft\", \"Apfelsaft\", \"Rotwein\", \"Almdudler\", \"Bier\"]"
   ],
   "metadata": {
    "collapsed": false,
    "ExecuteTime": {
     "end_time": "2024-03-13T17:22:01.708494Z",
     "start_time": "2024-03-13T17:22:01.704542Z"
    }
   }
  },
  {
   "cell_type": "code",
   "outputs": [],
   "source": [],
   "metadata": {
    "collapsed": false
   }
  },
  {
   "cell_type": "markdown",
   "source": [
    "## Aufgabe 2\n",
    "Du hast eine weitere Liste.\n",
    "1. Lasse dir per For-Schleife alle Positionen des Strings 'Python' ausgeben.\n",
    "2. Versuche dasselbe als List Comprehension.\n",
    "3. Filtere alle Elemente heraus, die KEIN String sind.\n",
    "4. Ersetze alle Python-Vorkommnisse mittels For-Schleife durch 'SQL'."
   ],
   "metadata": {
    "collapsed": false
   }
  },
  {
   "cell_type": "code",
   "outputs": [],
   "source": [
    "sonderbare_liste = [\"Python\", \"is\", \"awesome\", \"and\", \"powerful\", \"!\", \"Python\",\n",
    "                    \"Python\", \"awesome\", \"Python\", 42, [\"nested\", \"list\"], \n",
    "                    {\"key\": \"value\"}, True]"
   ],
   "metadata": {
    "collapsed": false,
    "ExecuteTime": {
     "end_time": "2024-03-13T17:28:54.518917Z",
     "start_time": "2024-03-13T17:28:54.513885Z"
    }
   },
   "execution_count": 17
  },
  {
   "cell_type": "code",
   "outputs": [],
   "source": [],
   "metadata": {
    "collapsed": false
   }
  },
  {
   "cell_type": "markdown",
   "source": [
    "## Aufgabe 3\n",
    "Schreibe eine While-Schleife, die den Nutzer so lange mit der Frage, welche\n",
    "Programmiersprache die beste sei, bis er Python oder SQL antwortet.\n",
    "Versuche hier den Walrus-Operator zu benutzen!\n",
    "Am Ende soll dann der Nutzer lesen. \"Jawohl, <Wahlsprache> ist wirklich die beste Sprache.\"\n",
    "Wahlsprache soll je nach Nutzereingabe 'Python' oder 'SQL' sein."
   ],
   "metadata": {
    "collapsed": false
   }
  },
  {
   "cell_type": "code",
   "outputs": [],
   "source": [],
   "metadata": {
    "collapsed": false
   }
  },
  {
   "cell_type": "markdown",
   "source": [
    "## Aufgabe 5\n",
    "Schreibe folgende Funktionen:\n",
    "1. make_upper: nimmt einen Text entgegen und gibt ihn komplett in Großbuchstaben zurück.\n",
    "2. calculate_cube: nimmt eine Kantenlänge entgegen und rechnet Würfelvolumen aus\n",
    "3. remove_vocals: nicht gerade hübsch, entfernt alle Vokale.\n",
    "4. calculate_capital: Nimmt einen Ganzzahl-Betrag (Anlage) entgegen sowie einen Zinssatz und eine Anzahl von Jahren.\n",
    "   Gibt das Kapital nach den Jahren aus. \n",
    "5. Teste alle deine Funktionen mindestens ein Mal."
   ],
   "metadata": {
    "collapsed": false
   }
  },
  {
   "cell_type": "code",
   "outputs": [],
   "source": [],
   "metadata": {
    "collapsed": false
   }
  }
 ],
 "metadata": {
  "kernelspec": {
   "display_name": "Python 3",
   "language": "python",
   "name": "python3"
  },
  "language_info": {
   "codemirror_mode": {
    "name": "ipython",
    "version": 2
   },
   "file_extension": ".py",
   "mimetype": "text/x-python",
   "name": "python",
   "nbconvert_exporter": "python",
   "pygments_lexer": "ipython2",
   "version": "2.7.6"
  }
 },
 "nbformat": 4,
 "nbformat_minor": 0
}
