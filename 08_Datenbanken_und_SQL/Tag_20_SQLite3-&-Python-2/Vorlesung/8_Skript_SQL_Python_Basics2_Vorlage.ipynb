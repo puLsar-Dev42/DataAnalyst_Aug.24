{
 "cells": [
  {
   "cell_type": "markdown",
   "metadata": {},
   "source": [
    "# Python & SQLite – Teil 2"
   ]
  },
  {
   "cell_type": "code",
   "metadata": {},
   "source": [
    "import sqlite3\n",
    "import pandas as pd"
   ],
   "outputs": [],
   "execution_count": null
  },
  {
   "cell_type": "code",
   "metadata": {},
   "source": [
    "# Verbindung zur Datenbank herstellen\n",
    "database_path = r'/Users/Admin/Documents/1_augustkurs/08_SQL/databases/wohnungen.db'\n",
    "connection = sqlite3.connect(database_path)"
   ],
   "outputs": [],
   "execution_count": null
  },
  {
   "cell_type": "code",
   "metadata": {},
   "source": [
    "# Cursor erstellen\n",
    "cursor = connection.cursor()"
   ],
   "outputs": [],
   "execution_count": null
  },
  {
   "cell_type": "code",
   "metadata": {},
   "source": [
    "# Verbindung testen\n",
    "cursor.execute('SELECT * FROM hotels;')"
   ],
   "outputs": [],
   "execution_count": null
  },
  {
   "cell_type": "code",
   "metadata": {},
   "source": [
    "# Das Ergebnis von fetchall() ist eine Liste\n",
    "result = cursor.fetchall()"
   ],
   "outputs": [],
   "execution_count": null
  },
  {
   "cell_type": "code",
   "source": [
    "result"
   ],
   "metadata": {
    "collapsed": false
   },
   "outputs": [],
   "execution_count": null
  },
  {
   "cell_type": "code",
   "source": [
    "# Python-Wiederholung:\n",
    "# Wie greifen wir auf das dritte Element der Liste zu?\n"
   ],
   "metadata": {
    "collapsed": false
   },
   "outputs": [],
   "execution_count": null
  },
  {
   "cell_type": "code",
   "metadata": {},
   "source": [
    "# Python-Wiederholung:\n",
    "# Ein einzelnes Element des Ergebnisses von fetchall()\n",
    "# ist ein Tupel. Wie greifen wir auf das vierte Element\n",
    "# des dritten Tupels zu?\n"
   ],
   "outputs": [],
   "execution_count": null
  },
  {
   "metadata": {},
   "cell_type": "code",
   "source": [
    "# Warum haben wir fetchall auf Variable result gelegt?\n",
    "# ..."
   ],
   "outputs": [],
   "execution_count": null
  },
  {
   "metadata": {},
   "cell_type": "markdown",
   "source": "## SQL-Abfrage-Ergebnisse direkt in DataFrames speichern"
  },
  {
   "metadata": {},
   "cell_type": "markdown",
   "source": [
    "Daten aus Datenbank auslesen und in DataFrame speichern\n",
    "-> Für die Umwandlung nutzen wir `pd.read_sql`"
   ]
  },
  {
   "cell_type": "code",
   "source": [
    "help(pd.read_sql)"
   ],
   "metadata": {
    "collapsed": false
   },
   "outputs": [],
   "execution_count": null
  },
  {
   "cell_type": "code",
   "metadata": {},
   "source": [
    "hotels_df = pd.read_sql('SELECT * FROM hotels;', connection)\n",
    "hotels_df.head()"
   ],
   "outputs": [],
   "execution_count": null
  },
  {
   "cell_type": "markdown",
   "metadata": {},
   "source": [
    "#### Das Problem mit den Leerzeichen\n",
    "\n",
    "In Python sollte man Leerzeichen (außerhalb von Strings) am besten vermeiden.\n",
    "Allerdings sollte man auch innerhalb von Datenbanken auf Leerzeichen\n",
    "verzichten, weil sie uns spätestens in Python wieder Probleme bereiten."
   ]
  },
  {
   "cell_type": "code",
   "metadata": {},
   "source": [
    "# Alle Infos der Spalte \"Preis in Mio\" selektieren:\n",
    "df_preis = pd.read_sql('SELECT Preis in Mio FROM hotels;', connection)"
   ],
   "outputs": [],
   "execution_count": null
  },
  {
   "cell_type": "code",
   "metadata": {},
   "source": [
    "# Der vorherige Code verursacht einen Fehler, da die Bezeichnung\n",
    "# \"Preis in Mio\" nicht als zusammengehöriger String identifiziert wird\n",
    "# Wie lösen wir das?\n"
   ],
   "outputs": [],
   "execution_count": null
  },
  {
   "cell_type": "code",
   "source": [
    "connection.close()"
   ],
   "metadata": {
    "collapsed": false
   },
   "outputs": [],
   "execution_count": null
  },
  {
   "cell_type": "markdown",
   "metadata": {},
   "source": [
    "### 2. Einmalige SQL-Verbindung\n",
    "#### 2.1 `with`-Statement "
   ]
  },
  {
   "cell_type": "markdown",
   "metadata": {},
   "source": [
    " Das `with`-Statement haben wir bereits im Zusammenhang mit dem Öffnen, Lesen und Schreiben von Dateien kennengelernt. Praktisch daran war, dass es eine Datei geöffnet und anschließend automatisch geschlossen hat. Den gleichen Vorteil können wir mit sqlite3 mit Datenbanken leider nicht nutzen."
   ]
  },
  {
   "cell_type": "code",
   "metadata": {},
   "source": [
    "with sqlite3.connect(database_path) as connection:\n",
    "    df = pd.read_sql('SELECT * FROM hotels;', connection)\n",
    "\n",
    "df.head()"
   ],
   "outputs": [],
   "execution_count": null
  },
  {
   "cell_type": "code",
   "metadata": {},
   "source": [
    "# Trotz abgeschlossenem with Block, kann trotzdem auf Verbindung\n",
    "# zugegriffen werden\n",
    "connection.cursor()\\\n",
    "          .execute('SELECT * FROM hotels;')\\\n",
    "          .fetchall()"
   ],
   "outputs": [],
   "execution_count": null
  },
  {
   "cell_type": "code",
   "metadata": {},
   "source": [
    "# Manuelles schließen\n",
    "connection.close()"
   ],
   "outputs": [],
   "execution_count": null
  },
  {
   "cell_type": "markdown",
   "source": [
    "ABER ganz nutzlos ist with mit sqlite3 auch nicht:\n",
    "Wir können auf connection.commit() verzichten durch 'with'"
   ],
   "metadata": {
    "collapsed": false
   }
  },
  {
   "cell_type": "code",
   "source": [
    "with sqlite3.connect(database_path) as connection:\n",
    "    connection.execute('''INSERT INTO hotels\n",
    "                          VALUES (12000, 15.5, 222, 'Zutzenhausen', 12.2)''')"
   ],
   "metadata": {
    "collapsed": false
   },
   "outputs": [],
   "execution_count": null
  },
  {
   "cell_type": "code",
   "source": [
    "with sqlite3.connect(database_path) as connection:\n",
    "    df = pd.read_sql(\"SELECT * FROM hotels;\", connection)"
   ],
   "metadata": {
    "collapsed": false
   },
   "outputs": [],
   "execution_count": null
  },
  {
   "cell_type": "code",
   "source": [
    "df.tail()"
   ],
   "metadata": {
    "collapsed": false
   },
   "outputs": [],
   "execution_count": null
  },
  {
   "cell_type": "code",
   "source": [
    "connection.close()"
   ],
   "metadata": {
    "collapsed": false
   },
   "outputs": [],
   "execution_count": null
  },
  {
   "cell_type": "markdown",
   "metadata": {},
   "source": [
    "#### 2.2 `try` - Statement"
   ]
  },
  {
   "cell_type": "code",
   "metadata": {},
   "source": [
    "# Alternativ dazu können wir einen try-except-finally-\n",
    "# Block definieren\n",
    "try:\n",
    "    connection = sqlite3.connect(database_path)\n",
    "    cursor = connection.cursor()\n",
    "    cursor.execute(\"SELECT * FROM hotels\")\n",
    "    print(cursor.fetchall())\n",
    "except:\n",
    "    print('Irgendwas hat da nicht geklappt.')\n",
    "finally:\n",
    "    connection.close()"
   ],
   "outputs": [],
   "execution_count": null
  },
  {
   "cell_type": "markdown",
   "source": [
    "## Prepared statement in SQL\n",
    "\"Prepared statements\" verbessern zum einen die Laufzeit von Queries, welche mehrmals mit unterschiedlichen Werten aufgerufen werden. Außerdem bieten sie einen wichtigen Schutz gegen Angriffe von außen durch sogenannte SQL-Injections (Einschleusung von SQL-Code). "
   ],
   "metadata": {
    "collapsed": false
   }
  },
  {
   "cell_type": "markdown",
   "source": [
    "### 1. Question Mark Style\n",
    "1.1 Insert mit Question Mark style. Hier stehen '?' stellvertretend für beliebige Werte"
   ],
   "metadata": {
    "collapsed": false
   }
  },
  {
   "cell_type": "code",
   "source": [
    "connection = sqlite3.connect(database_path)\n",
    "cursor = connection.cursor()"
   ],
   "metadata": {
    "collapsed": false
   },
   "outputs": [],
   "execution_count": null
  },
  {
   "cell_type": "code",
   "source": [
    "# Tabelle erstellen:\n",
    "connection.execute(\n",
    "    '''CREATE TABLE IF NOT EXISTS programmiersprachen(\n",
    "            id INTEGER PRIMARY KEY AUTOINCREMENT,\n",
    "            name VARCHAR(50),\n",
    "            first_appeared INT);'''\n",
    ")"
   ],
   "metadata": {
    "collapsed": false
   },
   "outputs": [],
   "execution_count": null
  },
  {
   "cell_type": "code",
   "source": [
    "# Fragezeichen können als Platzhalter dienen, um dann einen Befehl\n",
    "# mehrmals mit unterschiedlichen Werten ausführen zu können\n",
    "\n",
    "# Die einzutragenden Werte, jedes Tupel ist ein Eintrag:\n",
    "data = [\n",
    "    (\"Ada Lovelace Machinealgorithm\", 1843),\n",
    "    (\"Assembler\", 1949),\n",
    "    (\"COBOL\", 1959),\n",
    "    (\"SQL\", 1972),\n",
    "    (\"C++\", 1985),\n",
    "    (\"Python\", 1991),\n",
    "    (\"Swift\", 2014)\n",
    "]"
   ],
   "metadata": {
    "collapsed": false
   },
   "outputs": [],
   "execution_count": null
  },
  {
   "metadata": {},
   "cell_type": "code",
   "source": [
    "# Mit executemany kann man einen Befehl wiederholt auf eine iterierbare Datenstruktur anwenden.\n",
    "# In unserem Fall liegt eine Liste aus Tupeln vor und executemany führt das Insert so oft aus,\n",
    "# wie es Tupel in der Liste gibt.\n",
    "\n",
    "# Da die Tupel jeweils über zwei Werte verfügen, werden sie von VALUES(?, ?) abgebildet:\n",
    "cursor.executemany('''\n",
    "                  INSERT INTO programmiersprachen(name, first_appeared)\n",
    "                  VALUES (?, ?)''', data)"
   ],
   "outputs": [],
   "execution_count": null
  },
  {
   "metadata": {},
   "cell_type": "code",
   "source": [
    "# Was ist eigentlich mit der ID-Spalte?\n",
    "# ..."
   ],
   "outputs": [],
   "execution_count": null
  },
  {
   "cell_type": "code",
   "source": [
    "help(cursor.executemany)"
   ],
   "metadata": {
    "collapsed": false
   },
   "outputs": [],
   "execution_count": null
  },
  {
   "cell_type": "code",
   "source": [
    "connection.commit()"
   ],
   "metadata": {
    "collapsed": false
   },
   "outputs": [],
   "execution_count": null
  },
  {
   "cell_type": "code",
   "source": [
    "cursor.execute('SELECT * FROM programmiersprachen;').fetchall()"
   ],
   "metadata": {
    "collapsed": false
   },
   "outputs": [],
   "execution_count": null
  },
  {
   "cell_type": "markdown",
   "source": [
    "1.2 Tabelle ausgeben lassen"
   ],
   "metadata": {
    "collapsed": false
   }
  },
  {
   "cell_type": "code",
   "source": [
    "result = cursor.execute('SELECT * FROM programmiersprachen;').fetchall()\n",
    "for row in result:\n",
    "    print(row)"
   ],
   "metadata": {
    "collapsed": false
   },
   "outputs": [],
   "execution_count": null
  },
  {
   "cell_type": "code",
   "source": [
    "result = cursor.execute('SELECT * FROM programmiersprachen;').fetchall()\n",
    "for _, name, year in result:\n",
    "    print('Name der Sprache:', name)\n",
    "    print('Erscheinungsjahr:', year)\n",
    "    print()"
   ],
   "metadata": {
    "collapsed": false
   },
   "outputs": [],
   "execution_count": null
  },
  {
   "cell_type": "markdown",
   "source": [
    "1.3 Select mit Question Mark style"
   ],
   "metadata": {
    "collapsed": false
   }
  },
  {
   "cell_type": "code",
   "source": [
    "abfrage = 'SELECT * FROM programmiersprachen WHERE name = ?;'\n",
    "# (Python,) steht für ein Tupel mit nur EINEM Element:\n",
    "cursor.execute(abfrage, ('Python',))\n",
    "cursor.fetchall()"
   ],
   "metadata": {
    "collapsed": false
   },
   "outputs": [],
   "execution_count": null
  },
  {
   "cell_type": "code",
   "source": [
    "abfrage = 'SELECT * FROM programmiersprachen WHERE name = ? OR first_appeared = ?;'\n",
    "# (Python,) steht für ein Tupel mit nur EINEM Element:\n",
    "cursor.execute(abfrage, ('Python', 1843))\n",
    "cursor.fetchall()"
   ],
   "metadata": {
    "collapsed": false
   },
   "outputs": [],
   "execution_count": null
  },
  {
   "cell_type": "markdown",
   "source": [
    "1.4 Verwendung in Python-Funktionen"
   ],
   "metadata": {
    "collapsed": false
   }
  },
  {
   "cell_type": "code",
   "source": [
    "# Funktion erstellen, mit der wir neue Zeilen\n",
    "# in Tabelle 'hotels' eintragen können:\n",
    "def add_hotel(gewinn, preis, qm, stadt, qm_preis):\n",
    "    query = '''INSERT INTO hotels\n",
    "               VALUES(?, ?, ?, ?, ?);'''\n",
    "    cursor.execute(query, (gewinn, preis, qm, stadt, qm_preis))\n",
    "    connection.commit()\n",
    "    return 'Hotel wurde hinzugefügt!'"
   ],
   "metadata": {
    "collapsed": false
   },
   "outputs": [],
   "execution_count": null
  },
  {
   "cell_type": "code",
   "source": [
    "# Funktion aufrufen:\n",
    "add_hotel(125641, 15, 300, \"Bamberg\", 3500)"
   ],
   "metadata": {
    "collapsed": false
   },
   "outputs": [],
   "execution_count": null
  },
  {
   "cell_type": "code",
   "source": [
    "# Zu programmiersprachen mit with-Schreibweise hinzufügen.\n",
    "# Funktion (durch with kein commit mehr nötig!):\n",
    "def add_language(name, year):\n",
    "    query = '''INSERT INTO programmiersprachen(name, first_appeared)\n",
    "               VALUES(?, ?);'''\n",
    "    with connection:\n",
    "        connection.execute(query, (name, year))\n",
    "    return 'Programmiersprache hinzugefügt!'"
   ],
   "metadata": {
    "collapsed": false
   },
   "outputs": [],
   "execution_count": null
  },
  {
   "cell_type": "code",
   "source": [
    "add_language('Rust', 2006)"
   ],
   "metadata": {
    "collapsed": false
   },
   "outputs": [],
   "execution_count": null
  },
  {
   "cell_type": "code",
   "source": [
    "# Eventuelle Übungsaufgabe:\n",
    "# Eine Funktion schreiben, die zu areas neue Zeilen hinzufügt."
   ],
   "metadata": {
    "collapsed": false
   },
   "outputs": [],
   "execution_count": null
  },
  {
   "metadata": {},
   "cell_type": "code",
   "source": "",
   "outputs": [],
   "execution_count": null
  },
  {
   "cell_type": "markdown",
   "source": [
    "### 2. Named style\n",
    "2.1 Insert mit named style"
   ],
   "metadata": {
    "collapsed": false
   }
  },
  {
   "cell_type": "code",
   "source": [
    "# Mithilfe eines Dictionaries können Keys der Zuordnung der Werte dienen\n",
    "# Dadurch müssen Werte nicht in richtiger Reihenfolge stehen:\n",
    "name_sql = \"\"\"\n",
    "            INSERT INTO programmiersprachen(name, first_appeared)\n",
    "            VALUES(:name, :first_appeared);\"\"\"\n",
    "\n",
    "sprache = {'first_appeared': 1993, 'name': 'Brainfuck'}\n",
    "\n",
    "connection.execute(name_sql, sprache)"
   ],
   "metadata": {
    "collapsed": false
   },
   "outputs": [],
   "execution_count": null
  },
  {
   "cell_type": "code",
   "source": [
    "connection.commit()"
   ],
   "metadata": {
    "collapsed": false
   },
   "outputs": [],
   "execution_count": null
  },
  {
   "cell_type": "code",
   "source": [
    "cursor.execute(\"SELECT * FROM programmiersprachen\")\n",
    "cursor.fetchall()"
   ],
   "metadata": {
    "collapsed": false
   },
   "outputs": [],
   "execution_count": null
  },
  {
   "cell_type": "markdown",
   "source": [
    "2.2 Tabelle mit where-Bedingung ausgeben (named style)"
   ],
   "metadata": {
    "collapsed": false
   }
  },
  {
   "cell_type": "code",
   "source": [
    "cursor.execute(\"\"\"\n",
    "               SELECT *\n",
    "               FROM programmiersprachen\n",
    "               WHERE first_appeared > :year;\"\"\",\n",
    "               {\"year\": 1990})\n",
    "\n",
    "cursor.fetchall()"
   ],
   "metadata": {
    "collapsed": false
   },
   "outputs": [],
   "execution_count": null
  },
  {
   "cell_type": "code",
   "source": [
    "# Schließen nicht vergessen!\n",
    "connection.close()"
   ],
   "metadata": {
    "collapsed": false
   },
   "outputs": [],
   "execution_count": null
  },
  {
   "cell_type": "markdown",
   "source": [
    "### 3. Warum nicht einfach f-String? >>> SQL-Injections!\n",
    "Lasst uns eine ganze Tabelle voller \"geheimer Inhalte\" klauen!"
   ],
   "metadata": {
    "collapsed": false
   }
  },
  {
   "cell_type": "code",
   "source": "connection = sqlite3.connect(database_path)",
   "metadata": {
    "collapsed": false
   },
   "outputs": [],
   "execution_count": null
  },
  {
   "cell_type": "code",
   "source": [
    "with connection:\n",
    "    connection.execute('''CREATE TABLE IF NOT EXISTS super_confident(\n",
    "                               password VARCHAR,\n",
    "                               secret_content VARCHAR);\n",
    "                               ''')"
   ],
   "metadata": {
    "collapsed": false
   },
   "outputs": [],
   "execution_count": null
  },
  {
   "cell_type": "code",
   "source": [
    "data = [('21412452d', 'Daten zum Konto in der Schweiz'), \n",
    "        ('Zdsam832197m', 'Das größte Geheimnis'),\n",
    "        ('998321_dsHwoepw§', 'Die Weltformel')]\n",
    "\n",
    "with connection:\n",
    "    connection.executemany('''INSERT INTO super_confident\n",
    "                              VALUES(?, ?)''', data)"
   ],
   "metadata": {
    "collapsed": false
   },
   "outputs": [],
   "execution_count": null
  },
  {
   "cell_type": "code",
   "source": [
    "cursor = connection.cursor()\n",
    "cursor.execute('SELECT * FROM super_confident;')\n",
    "cursor.fetchall()"
   ],
   "metadata": {
    "collapsed": false
   },
   "outputs": [],
   "execution_count": null
  },
  {
   "cell_type": "code",
   "source": [
    "# So sollten Nutzer auf ihre Geheimnisse zugreifen:\n",
    "code = 'Zdsam832197m'\n",
    "cursor.execute(f'''SELECT * FROM super_confident WHERE password = '{code}';''')"
   ],
   "metadata": {
    "collapsed": false
   },
   "outputs": [],
   "execution_count": null
  },
  {
   "cell_type": "code",
   "source": [
    "cursor.fetchall()"
   ],
   "metadata": {
    "collapsed": false
   },
   "outputs": [],
   "execution_count": null
  },
  {
   "cell_type": "code",
   "source": [
    "# Jetzt kommt der \"Angriff\":\n",
    "injection = '1 OR 1=1'\n",
    "cursor.execute(f'''SELECT * FROM super_confident\n",
    "                   WHERE password = {injection}''')"
   ],
   "metadata": {
    "collapsed": false
   },
   "outputs": [],
   "execution_count": null
  },
  {
   "cell_type": "code",
   "source": [
    "# Die Katastrophe: Wir haben nun die komplette Tabelle!\n",
    "cursor.fetchall()"
   ],
   "metadata": {
    "collapsed": false
   },
   "outputs": [],
   "execution_count": null
  },
  {
   "cell_type": "code",
   "source": [
    "# Was passiert, wenn wir '?' schreiben?\n",
    "injection = '1 OR 1=1'\n",
    "cursor.execute('''SELECT * FROM super_confident\n",
    "                   WHERE password = ?''', (injection,))"
   ],
   "metadata": {
    "collapsed": false
   },
   "outputs": [],
   "execution_count": null
  },
  {
   "cell_type": "code",
   "source": [
    "# So sieht es schon besser aus!\n",
    "cursor.fetchall()"
   ],
   "metadata": {
    "collapsed": false
   },
   "outputs": [],
   "execution_count": null
  },
  {
   "cell_type": "code",
   "source": [
    "# Übungsaufgabe: Schreibe weiter an app.py und database.py von gestern.\n",
    "# Schreibe die Funktion insert_row so, dass der Nutzer Datum und Lerninhalt eintragen kann,\n",
    "# aber die Gefahr von SQL-Einschleusung nicht besteht!\n",
    "# Schreibe die Funktion view_entries aus.\n",
    "# Falls die Zeit reicht: Verbaue die Funktionen in app.py"
   ],
   "metadata": {
    "collapsed": false
   },
   "outputs": [],
   "execution_count": null
  },
  {
   "cell_type": "code",
   "source": [
    "# Berücksichtige den Walrus-Operator:\n",
    "# https://towardsdatascience.com/the-walrus-operator-in-python-a315e4f84583"
   ],
   "metadata": {
    "collapsed": false
   },
   "outputs": [],
   "execution_count": null
  }
 ],
 "metadata": {
  "kernelspec": {
   "display_name": "kurs6",
   "language": "python",
   "name": "python3"
  },
  "language_info": {
   "codemirror_mode": {
    "name": "ipython",
    "version": 3
   },
   "file_extension": ".py",
   "mimetype": "text/x-python",
   "name": "python",
   "nbconvert_exporter": "python",
   "pygments_lexer": "ipython3",
   "version": "3.11.5"
  }
 },
 "nbformat": 4,
 "nbformat_minor": 2
}
