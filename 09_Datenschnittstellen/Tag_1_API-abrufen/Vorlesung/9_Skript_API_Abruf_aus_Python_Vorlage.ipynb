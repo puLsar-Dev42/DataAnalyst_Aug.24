{
 "cells": [
  {
   "cell_type": "markdown",
   "metadata": {},
   "source": [
    "# Einführung Datenschnittstellen - RESTful APIs\n",
    "\n",
    "<hr>\n",
    "\n",
    "## Was ist eine API?\n",
    "\n",
    "API -> Application Programming Interface (Programmierschnittstelle), ermöglicht Kommunikation mit Anwendungen.\n",
    "<br>Eine API kann zum Austausch von Informationen über das Internet zwischen Anwender (client) und Datenbank oder Anwendung (server) genutzt werden. Der Vorteil einer API sind das einheitliche Kommunikations- und Datenaustauschformat. Zudem muss der Anwender nur über die API-Zugangspunkte mit dem Server kommunizieren, aber keine Programme installieren oder Ähnliches. Bis auf die API-Endpunkte bekommt der Anwender vom serverseitigen Programm (z.B.: Python-Datenbankanwendung) nichts mit.\n",
    "\n",
    "Wenn wir von REST-APIs sprechen, meinen wir meist Schnittstellen, die über HTTP (Hyper Text Transfer Protocol) laufen. HTTP wird generell als gemeinsame \"Sprache\" für Datenaustausch im Internet genutzt. Auf Grundlage dieser Sprache kommunizieren Anwender und Server und tauschen Daten wie Internetseiten, Tabellen, Inhalte usw. aus.\n",
    "\n",
    "\n",
    "Beispiele für APIs:\n",
    "- Wetter-API für Anwendungen mit weltweiter Wettervorhersage\n",
    "- aktuelle Umrechnungskurse von Währungen\n",
    "- Abfrage von Börsenkursen\n",
    "- Geolokation\n",
    "- Zufallsgeneratoren für Namen, Passwörter...\n",
    "\n",
    "## API-Grundbefehle (Get, Post, Put, Patch, Delete)\n",
    "\n",
    "APIs werden über sogenannte Requests (Anfragen) bedient. Diese Requests bestehen aus JSON- oder HTML-Code. Sie werden von der Server-Anwendung verarbeitet und die entsprechenden Änderungen werden umgesetzt bzw. die angefragten Daten zurückgegeben.\n",
    "\n",
    "Bei Datenbanken haben wir schon über CRUD-Anwendungen gesprochen - Create, Read, Update, Delete. Das sind die grundlegenden Arten mit einer Datenbank zu kommunizieren und diese Art von Befehlen muss auch eine API und somit auch das Hypertext-Transfer-Protocol bedienen und abdecken können.\n",
    "\n",
    "HTTP-Requests benutzen als Befehlsarten:\n",
    " * `get` - vgl. Read, SELECT - Datenbank auslesen und Daten anfordern. Dies kann auch eine HTML-Seite sein.\n",
    " * `post` - vgl. Create, INSERT - Neue Daten / Einträge an den Server senden\n",
    " * `put` - vgl. Update - Daten / Einträge des Servers ändern\n",
    " * `delete` - Einträge löschen \n",
    "\n",
    "# Bestehende APIs abfragen\n",
    "\n",
    "Wenn wir Daten von bestehenden APIs erhalten wollen brauchen wir also `get`-Requests.\n",
    "\n",
    "Um requests zu senden, können wir die URLs in den Browser eingeben (z.B. Firefox, Chome, Edge) oder ein Programm wie Postman benutzen. In Python benutzen wir das `requests`-Paket. Dieses wird auch von vielen anderen Paketen eingesetzt - z.B. von Pandas, wenn wir mit Pandas Daten von Internetlinks abrufen.\n",
    "\n",
    "[Dokumentation](https://requests.readthedocs.io/en/latest/)"
   ]
  },
  {
   "cell_type": "code",
   "metadata": {
    "ExecuteTime": {
     "end_time": "2025-01-17T08:47:04.968447Z",
     "start_time": "2025-01-17T08:47:04.637002Z"
    }
   },
   "source": [
    "# Modul, um HTTP-Requests zu senden und zu empfangen\n",
    "import requests"
   ],
   "outputs": [],
   "execution_count": 1
  },
  {
   "cell_type": "code",
   "metadata": {
    "ExecuteTime": {
     "end_time": "2025-01-17T08:47:06.391947Z",
     "start_time": "2025-01-17T08:47:06.387024Z"
    }
   },
   "source": [
    "# Beispiel-API\n",
    "api_url = \"https://jsonplaceholder.typicode.com/todos/1\""
   ],
   "outputs": [],
   "execution_count": 2
  },
  {
   "cell_type": "markdown",
   "metadata": {},
   "source": [
    "## Aufbau von API-Links\n",
    "\n",
    "Beispiel-URI:\n",
    "`https://stats.nba.com/stats/allstarballotpredictor`\n",
    "\n",
    "Hauptstamm / Main Route / Klassische Internetadresse:\n",
    "`https://stats.nba.com/`\n",
    "\n",
    "Endpunkt / Endpoint / \"Unterordner\":\n",
    "`stats/allstarballotpredictor`\n",
    "\n",
    "Für Requests brauchen wir daher immer beides: Sowohl den Hauptstamm als auch den passenden Endpoint. Auch die Haupt-URL kann dabei einen Endpunkt darstellen, indem sie z.B. den Nutzer begrüßt, wenn er sie mit einem get-Request ansteuert.\n"
   ]
  },
  {
   "cell_type": "code",
   "metadata": {
    "ExecuteTime": {
     "end_time": "2025-01-17T08:47:09.145039Z",
     "start_time": "2025-01-17T08:47:08.921604Z"
    }
   },
   "source": [
    "response = requests.get(api_url)\n",
    "# Request wird direkt ausgeführt. Beim Aufruf der\n",
    "# Variable wird der response Code angezeigt.\n",
    "response"
   ],
   "outputs": [
    {
     "data": {
      "text/plain": [
       "<Response [200]>"
      ]
     },
     "execution_count": 3,
     "metadata": {},
     "output_type": "execute_result"
    }
   ],
   "execution_count": 3
  },
  {
   "cell_type": "markdown",
   "metadata": {},
   "source": [
    "#### Bedeutung der uns zugesandten Status-Codes:\n",
    "\n",
    "```\n",
    "Code range:\tCategory\n",
    "--------------------\n",
    "2xx:\t    Successful operation - Erfolgreich\n",
    "3xx:\t    Redirection          - Weitergeleitet\n",
    "4xx:\t    Client error         - Anwender-Fehler\n",
    "5xx:\t    Server error         - Server-Fehler\n",
    "\n",
    "Beispiele:\n",
    "---------\n",
    "200 = Action successful\n",
    "201 = Resource Created\n",
    "\n",
    "404 = Resource not found\n",
    "\n",
    "500 = Internal Server Error\n",
    "```"
   ]
  },
  {
   "cell_type": "markdown",
   "metadata": {},
   "source": [
    "#### Auf zurückerhaltene Daten zugreifen"
   ]
  },
  {
   "cell_type": "code",
   "metadata": {
    "ExecuteTime": {
     "end_time": "2025-01-17T08:47:12.924744Z",
     "start_time": "2025-01-17T08:47:12.917316Z"
    }
   },
   "source": [
    "# Zurückerhaltener Inhalt\n",
    "dir(response)"
   ],
   "outputs": [
    {
     "data": {
      "text/plain": [
       "['__attrs__',\n",
       " '__bool__',\n",
       " '__class__',\n",
       " '__delattr__',\n",
       " '__dict__',\n",
       " '__dir__',\n",
       " '__doc__',\n",
       " '__enter__',\n",
       " '__eq__',\n",
       " '__exit__',\n",
       " '__format__',\n",
       " '__ge__',\n",
       " '__getattribute__',\n",
       " '__getstate__',\n",
       " '__gt__',\n",
       " '__hash__',\n",
       " '__init__',\n",
       " '__init_subclass__',\n",
       " '__iter__',\n",
       " '__le__',\n",
       " '__lt__',\n",
       " '__module__',\n",
       " '__ne__',\n",
       " '__new__',\n",
       " '__nonzero__',\n",
       " '__reduce__',\n",
       " '__reduce_ex__',\n",
       " '__repr__',\n",
       " '__setattr__',\n",
       " '__setstate__',\n",
       " '__sizeof__',\n",
       " '__str__',\n",
       " '__subclasshook__',\n",
       " '__weakref__',\n",
       " '_content',\n",
       " '_content_consumed',\n",
       " '_next',\n",
       " 'apparent_encoding',\n",
       " 'close',\n",
       " 'connection',\n",
       " 'content',\n",
       " 'cookies',\n",
       " 'elapsed',\n",
       " 'encoding',\n",
       " 'headers',\n",
       " 'history',\n",
       " 'is_permanent_redirect',\n",
       " 'is_redirect',\n",
       " 'iter_content',\n",
       " 'iter_lines',\n",
       " 'json',\n",
       " 'links',\n",
       " 'next',\n",
       " 'ok',\n",
       " 'raise_for_status',\n",
       " 'raw',\n",
       " 'reason',\n",
       " 'request',\n",
       " 'status_code',\n",
       " 'text',\n",
       " 'url']"
      ]
     },
     "execution_count": 4,
     "metadata": {},
     "output_type": "execute_result"
    }
   ],
   "execution_count": 4
  },
  {
   "cell_type": "code",
   "metadata": {
    "ExecuteTime": {
     "end_time": "2025-01-17T08:47:18.553951Z",
     "start_time": "2025-01-17T08:47:18.548136Z"
    }
   },
   "source": [
    "# Statuscode zurückgeben\n",
    "response.status_code"
   ],
   "outputs": [
    {
     "data": {
      "text/plain": [
       "200"
      ]
     },
     "execution_count": 5,
     "metadata": {},
     "output_type": "execute_result"
    }
   ],
   "execution_count": 5
  },
  {
   "cell_type": "code",
   "metadata": {
    "ExecuteTime": {
     "end_time": "2025-01-17T08:47:26.677935Z",
     "start_time": "2025-01-17T08:47:26.671566Z"
    }
   },
   "source": [
    "# JSON -> Methode -> Funktionsaufruf\n",
    "response_dict = response.json()\n",
    "response_dict"
   ],
   "outputs": [
    {
     "data": {
      "text/plain": [
       "{'userId': 1, 'id': 1, 'title': 'delectus aut autem', 'completed': False}"
      ]
     },
     "execution_count": 6,
     "metadata": {},
     "output_type": "execute_result"
    }
   ],
   "execution_count": 6
  },
  {
   "cell_type": "code",
   "metadata": {
    "ExecuteTime": {
     "end_time": "2025-01-14T15:54:04.525089Z",
     "start_time": "2025-01-14T15:54:04.516803Z"
    }
   },
   "source": [
    "# JSON ist wie Python dict aufgebaut\n",
    "# Wird in Python über Keys gefiltert\n",
    "response_dict['id']"
   ],
   "outputs": [
    {
     "data": {
      "text/plain": [
       "1"
      ]
     },
     "execution_count": 10,
     "metadata": {},
     "output_type": "execute_result"
    }
   ],
   "execution_count": 10
  },
  {
   "metadata": {
    "ExecuteTime": {
     "end_time": "2025-01-14T15:54:11.126057Z",
     "start_time": "2025-01-14T15:54:11.118421Z"
    }
   },
   "cell_type": "code",
   "source": "response_dict.get('id')",
   "outputs": [
    {
     "data": {
      "text/plain": [
       "1"
      ]
     },
     "execution_count": 11,
     "metadata": {},
     "output_type": "execute_result"
    }
   ],
   "execution_count": 11
  },
  {
   "cell_type": "code",
   "source": "response_dict['title']",
   "metadata": {
    "collapsed": false,
    "ExecuteTime": {
     "end_time": "2025-01-14T15:54:16.267194Z",
     "start_time": "2025-01-14T15:54:16.260793Z"
    }
   },
   "outputs": [
    {
     "data": {
      "text/plain": [
       "'delectus aut autem'"
      ]
     },
     "execution_count": 12,
     "metadata": {},
     "output_type": "execute_result"
    }
   ],
   "execution_count": 12
  },
  {
   "cell_type": "code",
   "metadata": {
    "ExecuteTime": {
     "end_time": "2025-01-17T09:00:08.626507Z",
     "start_time": "2025-01-17T09:00:08.621486Z"
    }
   },
   "source": [
    "# Text -> Attribut -> Keine Klammern notwendig\n",
    "print(response.text)"
   ],
   "outputs": [
    {
     "name": "stdout",
     "output_type": "stream",
     "text": [
      "{\n",
      "  \"userId\": 1,\n",
      "  \"id\": 1,\n",
      "  \"title\": \"delectus aut autem\",\n",
      "  \"completed\": false\n",
      "}\n"
     ]
    }
   ],
   "execution_count": 8
  },
  {
   "cell_type": "code",
   "outputs": [],
   "source": [
    "# Quizfrage: Was unterscheidet json() und text voneinander?"
   ],
   "metadata": {
    "collapsed": false
   },
   "execution_count": null
  },
  {
   "cell_type": "code",
   "metadata": {
    "ExecuteTime": {
     "end_time": "2025-01-17T09:00:47.999911Z",
     "start_time": "2025-01-17T09:00:47.991841Z"
    }
   },
   "source": [
    "# Für Binärdateien .content verwenden\n",
    "response.content"
   ],
   "outputs": [
    {
     "data": {
      "text/plain": [
       "b'{\\n  \"userId\": 1,\\n  \"id\": 1,\\n  \"title\": \"delectus aut autem\",\\n  \"completed\": false\\n}'"
      ]
     },
     "execution_count": 9,
     "metadata": {},
     "output_type": "execute_result"
    }
   ],
   "execution_count": 9
  },
  {
   "cell_type": "markdown",
   "metadata": {},
   "source": [
    "#### Wie könnten wir die ersten 20 Todo-Items auf einmal erhalten?"
   ]
  },
  {
   "cell_type": "code",
   "metadata": {
    "ExecuteTime": {
     "end_time": "2025-01-14T15:59:19.806734Z",
     "start_time": "2025-01-14T15:59:19.701366Z"
    }
   },
   "source": [
    "all_todos = requests.get(\"https://jsonplaceholder.typicode.com/todos\")\n",
    "\n",
    "# Mit regulärer For-Schleife\n",
    "for todo in all_todos.json():\n",
    "\tif todo['id'] <= 20:\n",
    "\t\tprint(todo)"
   ],
   "outputs": [
    {
     "name": "stdout",
     "output_type": "stream",
     "text": [
      "{'userId': 1, 'id': 1, 'title': 'delectus aut autem', 'completed': False}\n",
      "{'userId': 1, 'id': 2, 'title': 'quis ut nam facilis et officia qui', 'completed': False}\n",
      "{'userId': 1, 'id': 3, 'title': 'fugiat veniam minus', 'completed': False}\n",
      "{'userId': 1, 'id': 4, 'title': 'et porro tempora', 'completed': True}\n",
      "{'userId': 1, 'id': 5, 'title': 'laboriosam mollitia et enim quasi adipisci quia provident illum', 'completed': False}\n",
      "{'userId': 1, 'id': 6, 'title': 'qui ullam ratione quibusdam voluptatem quia omnis', 'completed': False}\n",
      "{'userId': 1, 'id': 7, 'title': 'illo expedita consequatur quia in', 'completed': False}\n",
      "{'userId': 1, 'id': 8, 'title': 'quo adipisci enim quam ut ab', 'completed': True}\n",
      "{'userId': 1, 'id': 9, 'title': 'molestiae perspiciatis ipsa', 'completed': False}\n",
      "{'userId': 1, 'id': 10, 'title': 'illo est ratione doloremque quia maiores aut', 'completed': True}\n",
      "{'userId': 1, 'id': 11, 'title': 'vero rerum temporibus dolor', 'completed': True}\n",
      "{'userId': 1, 'id': 12, 'title': 'ipsa repellendus fugit nisi', 'completed': True}\n",
      "{'userId': 1, 'id': 13, 'title': 'et doloremque nulla', 'completed': False}\n",
      "{'userId': 1, 'id': 14, 'title': 'repellendus sunt dolores architecto voluptatum', 'completed': True}\n",
      "{'userId': 1, 'id': 15, 'title': 'ab voluptatum amet voluptas', 'completed': True}\n",
      "{'userId': 1, 'id': 16, 'title': 'accusamus eos facilis sint et aut voluptatem', 'completed': True}\n",
      "{'userId': 1, 'id': 17, 'title': 'quo laboriosam deleniti aut qui', 'completed': True}\n",
      "{'userId': 1, 'id': 18, 'title': 'dolorum est consequatur ea mollitia in culpa', 'completed': False}\n",
      "{'userId': 1, 'id': 19, 'title': 'molestiae ipsa aut voluptatibus pariatur dolor nihil', 'completed': True}\n",
      "{'userId': 1, 'id': 20, 'title': 'ullam nobis libero sapiente ad optio sint', 'completed': True}\n"
     ]
    }
   ],
   "execution_count": 24
  },
  {
   "cell_type": "code",
   "source": [
    "# So viele Todos gibt es insgesamt:\n",
    "len(all_todos.json())"
   ],
   "metadata": {
    "collapsed": false,
    "ExecuteTime": {
     "end_time": "2025-01-14T15:58:21.210415Z",
     "start_time": "2025-01-14T15:58:21.204117Z"
    }
   },
   "outputs": [
    {
     "data": {
      "text/plain": [
       "200"
      ]
     },
     "execution_count": 19,
     "metadata": {},
     "output_type": "execute_result"
    }
   ],
   "execution_count": 19
  },
  {
   "cell_type": "code",
   "source": [
    "# Letztes Element: \n",
    "all_todos.json()[199]"
   ],
   "metadata": {
    "collapsed": false,
    "ExecuteTime": {
     "end_time": "2025-01-14T15:58:21.261507Z",
     "start_time": "2025-01-14T15:58:21.254344Z"
    }
   },
   "outputs": [
    {
     "data": {
      "text/plain": [
       "{'userId': 10,\n",
       " 'id': 200,\n",
       " 'title': 'ipsam aperiam voluptates qui',\n",
       " 'completed': False}"
      ]
     },
     "execution_count": 20,
     "metadata": {},
     "output_type": "execute_result"
    }
   ],
   "execution_count": 20
  },
  {
   "metadata": {
    "ExecuteTime": {
     "end_time": "2025-01-14T15:59:08.380996Z",
     "start_time": "2025-01-14T15:59:08.374104Z"
    }
   },
   "cell_type": "code",
   "source": "response.json()",
   "outputs": [
    {
     "data": {
      "text/plain": [
       "{'userId': 1, 'id': 1, 'title': 'delectus aut autem', 'completed': False}"
      ]
     },
     "execution_count": 23,
     "metadata": {},
     "output_type": "execute_result"
    }
   ],
   "execution_count": 23
  },
  {
   "cell_type": "code",
   "metadata": {
    "ExecuteTime": {
     "end_time": "2025-01-14T15:59:42.237395Z",
     "start_time": "2025-01-14T15:59:42.231238Z"
    }
   },
   "source": [
    "# Mit List Comprehension\n",
    "todo_ids_bis_20 = [todo for todo in all_todos.json() if todo['id'] <= 20]\n",
    "\n",
    "print(todo_ids_bis_20)"
   ],
   "outputs": [
    {
     "name": "stdout",
     "output_type": "stream",
     "text": [
      "[{'userId': 1, 'id': 1, 'title': 'delectus aut autem', 'completed': False}, {'userId': 1, 'id': 2, 'title': 'quis ut nam facilis et officia qui', 'completed': False}, {'userId': 1, 'id': 3, 'title': 'fugiat veniam minus', 'completed': False}, {'userId': 1, 'id': 4, 'title': 'et porro tempora', 'completed': True}, {'userId': 1, 'id': 5, 'title': 'laboriosam mollitia et enim quasi adipisci quia provident illum', 'completed': False}, {'userId': 1, 'id': 6, 'title': 'qui ullam ratione quibusdam voluptatem quia omnis', 'completed': False}, {'userId': 1, 'id': 7, 'title': 'illo expedita consequatur quia in', 'completed': False}, {'userId': 1, 'id': 8, 'title': 'quo adipisci enim quam ut ab', 'completed': True}, {'userId': 1, 'id': 9, 'title': 'molestiae perspiciatis ipsa', 'completed': False}, {'userId': 1, 'id': 10, 'title': 'illo est ratione doloremque quia maiores aut', 'completed': True}, {'userId': 1, 'id': 11, 'title': 'vero rerum temporibus dolor', 'completed': True}, {'userId': 1, 'id': 12, 'title': 'ipsa repellendus fugit nisi', 'completed': True}, {'userId': 1, 'id': 13, 'title': 'et doloremque nulla', 'completed': False}, {'userId': 1, 'id': 14, 'title': 'repellendus sunt dolores architecto voluptatum', 'completed': True}, {'userId': 1, 'id': 15, 'title': 'ab voluptatum amet voluptas', 'completed': True}, {'userId': 1, 'id': 16, 'title': 'accusamus eos facilis sint et aut voluptatem', 'completed': True}, {'userId': 1, 'id': 17, 'title': 'quo laboriosam deleniti aut qui', 'completed': True}, {'userId': 1, 'id': 18, 'title': 'dolorum est consequatur ea mollitia in culpa', 'completed': False}, {'userId': 1, 'id': 19, 'title': 'molestiae ipsa aut voluptatibus pariatur dolor nihil', 'completed': True}, {'userId': 1, 'id': 20, 'title': 'ullam nobis libero sapiente ad optio sint', 'completed': True}]\n"
     ]
    }
   ],
   "execution_count": 25
  },
  {
   "cell_type": "code",
   "metadata": {
    "ExecuteTime": {
     "end_time": "2025-01-14T15:59:59.285455Z",
     "start_time": "2025-01-14T15:59:59.277411Z"
    }
   },
   "source": [
    "# Mit Slicing\n",
    "for item in all_todos.json()[:20]:\n",
    "\tprint(item)"
   ],
   "outputs": [
    {
     "name": "stdout",
     "output_type": "stream",
     "text": [
      "{'userId': 1, 'id': 1, 'title': 'delectus aut autem', 'completed': False}\n",
      "{'userId': 1, 'id': 2, 'title': 'quis ut nam facilis et officia qui', 'completed': False}\n",
      "{'userId': 1, 'id': 3, 'title': 'fugiat veniam minus', 'completed': False}\n",
      "{'userId': 1, 'id': 4, 'title': 'et porro tempora', 'completed': True}\n",
      "{'userId': 1, 'id': 5, 'title': 'laboriosam mollitia et enim quasi adipisci quia provident illum', 'completed': False}\n",
      "{'userId': 1, 'id': 6, 'title': 'qui ullam ratione quibusdam voluptatem quia omnis', 'completed': False}\n",
      "{'userId': 1, 'id': 7, 'title': 'illo expedita consequatur quia in', 'completed': False}\n",
      "{'userId': 1, 'id': 8, 'title': 'quo adipisci enim quam ut ab', 'completed': True}\n",
      "{'userId': 1, 'id': 9, 'title': 'molestiae perspiciatis ipsa', 'completed': False}\n",
      "{'userId': 1, 'id': 10, 'title': 'illo est ratione doloremque quia maiores aut', 'completed': True}\n",
      "{'userId': 1, 'id': 11, 'title': 'vero rerum temporibus dolor', 'completed': True}\n",
      "{'userId': 1, 'id': 12, 'title': 'ipsa repellendus fugit nisi', 'completed': True}\n",
      "{'userId': 1, 'id': 13, 'title': 'et doloremque nulla', 'completed': False}\n",
      "{'userId': 1, 'id': 14, 'title': 'repellendus sunt dolores architecto voluptatum', 'completed': True}\n",
      "{'userId': 1, 'id': 15, 'title': 'ab voluptatum amet voluptas', 'completed': True}\n",
      "{'userId': 1, 'id': 16, 'title': 'accusamus eos facilis sint et aut voluptatem', 'completed': True}\n",
      "{'userId': 1, 'id': 17, 'title': 'quo laboriosam deleniti aut qui', 'completed': True}\n",
      "{'userId': 1, 'id': 18, 'title': 'dolorum est consequatur ea mollitia in culpa', 'completed': False}\n",
      "{'userId': 1, 'id': 19, 'title': 'molestiae ipsa aut voluptatibus pariatur dolor nihil', 'completed': True}\n",
      "{'userId': 1, 'id': 20, 'title': 'ullam nobis libero sapiente ad optio sint', 'completed': True}\n"
     ]
    }
   ],
   "execution_count": 27
  },
  {
   "cell_type": "code",
   "metadata": {
    "ExecuteTime": {
     "end_time": "2025-01-14T16:00:08.045865Z",
     "start_time": "2025-01-14T16:00:05.274973Z"
    }
   },
   "source": [
    "# Mehrere Abfragen in einer Schleife durchführen\n",
    "ids = range(1, 21)\n",
    "\n",
    "for i in ids:\n",
    "\tresponse = requests.get(f\"https://jsonplaceholder.typicode.com/todos/{i}\")\n",
    "\ttodo = response.json()\n",
    "\tprint(f\"ID {i}: {todo}\")"
   ],
   "outputs": [
    {
     "name": "stdout",
     "output_type": "stream",
     "text": [
      "ID 1: {'userId': 1, 'id': 1, 'title': 'delectus aut autem', 'completed': False}\n",
      "ID 2: {'userId': 1, 'id': 2, 'title': 'quis ut nam facilis et officia qui', 'completed': False}\n",
      "ID 3: {'userId': 1, 'id': 3, 'title': 'fugiat veniam minus', 'completed': False}\n",
      "ID 4: {'userId': 1, 'id': 4, 'title': 'et porro tempora', 'completed': True}\n",
      "ID 5: {'userId': 1, 'id': 5, 'title': 'laboriosam mollitia et enim quasi adipisci quia provident illum', 'completed': False}\n",
      "ID 6: {'userId': 1, 'id': 6, 'title': 'qui ullam ratione quibusdam voluptatem quia omnis', 'completed': False}\n",
      "ID 7: {'userId': 1, 'id': 7, 'title': 'illo expedita consequatur quia in', 'completed': False}\n",
      "ID 8: {'userId': 1, 'id': 8, 'title': 'quo adipisci enim quam ut ab', 'completed': True}\n",
      "ID 9: {'userId': 1, 'id': 9, 'title': 'molestiae perspiciatis ipsa', 'completed': False}\n",
      "ID 10: {'userId': 1, 'id': 10, 'title': 'illo est ratione doloremque quia maiores aut', 'completed': True}\n",
      "ID 11: {'userId': 1, 'id': 11, 'title': 'vero rerum temporibus dolor', 'completed': True}\n",
      "ID 12: {'userId': 1, 'id': 12, 'title': 'ipsa repellendus fugit nisi', 'completed': True}\n",
      "ID 13: {'userId': 1, 'id': 13, 'title': 'et doloremque nulla', 'completed': False}\n",
      "ID 14: {'userId': 1, 'id': 14, 'title': 'repellendus sunt dolores architecto voluptatum', 'completed': True}\n",
      "ID 15: {'userId': 1, 'id': 15, 'title': 'ab voluptatum amet voluptas', 'completed': True}\n",
      "ID 16: {'userId': 1, 'id': 16, 'title': 'accusamus eos facilis sint et aut voluptatem', 'completed': True}\n",
      "ID 17: {'userId': 1, 'id': 17, 'title': 'quo laboriosam deleniti aut qui', 'completed': True}\n",
      "ID 18: {'userId': 1, 'id': 18, 'title': 'dolorum est consequatur ea mollitia in culpa', 'completed': False}\n",
      "ID 19: {'userId': 1, 'id': 19, 'title': 'molestiae ipsa aut voluptatibus pariatur dolor nihil', 'completed': True}\n",
      "ID 20: {'userId': 1, 'id': 20, 'title': 'ullam nobis libero sapiente ad optio sint', 'completed': True}\n"
     ]
    }
   ],
   "execution_count": 28
  },
  {
   "cell_type": "markdown",
   "metadata": {},
   "source": [
    "### Übungsaufgabe (individuell):\n",
    "Beschäftige dich mit folgender API: https://date.nager.at/api\n",
    "Nachdem du die Funktionsweise geknackt hast, hole dir Urlaubstage für folgende Länder und Jahre:\n",
    "* Deutschland, dieses Jahr\n",
    "* Deutschland 1989\n",
    "* Niederlande 2020\n",
    "* Türkei 2010\n",
    "* Land deiner Wahl, jahr deiner Wahl\n",
    "* Bonus: Welche globalen Feiertage gibt es dieses Jahr in Deutschland und wann sind diese?\n",
    "Löse mit einer Schleife und lasse dir Datum, den deutschen Namen des Feiertags sowie den globalen Namen (auf Englisch) ausgeben."
   ]
  },
  {
   "metadata": {
    "ExecuteTime": {
     "end_time": "2025-01-17T10:09:20.921988Z",
     "start_time": "2025-01-17T10:09:14.109795Z"
    }
   },
   "cell_type": "code",
   "source": [
    "# connection\n",
    "x_api = 'https://date.nager.at/api/v3/PublicHolidays/2025/DE'\n",
    "# response\n",
    "res = requests.get(x_api)\n",
    "# create dict\n",
    "dict = res.json()\n",
    "dict"
   ],
   "outputs": [
    {
     "data": {
      "text/plain": [
       "[{'date': '2025-01-01',\n",
       "  'localName': 'Neujahr',\n",
       "  'name': \"New Year's Day\",\n",
       "  'countryCode': 'DE',\n",
       "  'fixed': False,\n",
       "  'global': True,\n",
       "  'counties': None,\n",
       "  'launchYear': None,\n",
       "  'types': ['Public']},\n",
       " {'date': '2025-01-06',\n",
       "  'localName': 'Heilige Drei Könige',\n",
       "  'name': 'Epiphany',\n",
       "  'countryCode': 'DE',\n",
       "  'fixed': False,\n",
       "  'global': False,\n",
       "  'counties': ['DE-BW', 'DE-BY', 'DE-ST'],\n",
       "  'launchYear': None,\n",
       "  'types': ['Public']},\n",
       " {'date': '2025-03-08',\n",
       "  'localName': 'Internationaler Frauentag',\n",
       "  'name': \"International Women's Day\",\n",
       "  'countryCode': 'DE',\n",
       "  'fixed': False,\n",
       "  'global': False,\n",
       "  'counties': ['DE-BE', 'DE-MV'],\n",
       "  'launchYear': None,\n",
       "  'types': ['Public']},\n",
       " {'date': '2025-04-18',\n",
       "  'localName': 'Karfreitag',\n",
       "  'name': 'Good Friday',\n",
       "  'countryCode': 'DE',\n",
       "  'fixed': False,\n",
       "  'global': True,\n",
       "  'counties': None,\n",
       "  'launchYear': None,\n",
       "  'types': ['Public']},\n",
       " {'date': '2025-04-20',\n",
       "  'localName': 'Ostersonntag',\n",
       "  'name': 'Easter Sunday',\n",
       "  'countryCode': 'DE',\n",
       "  'fixed': False,\n",
       "  'global': False,\n",
       "  'counties': ['DE-BB'],\n",
       "  'launchYear': None,\n",
       "  'types': ['Public']},\n",
       " {'date': '2025-04-21',\n",
       "  'localName': 'Ostermontag',\n",
       "  'name': 'Easter Monday',\n",
       "  'countryCode': 'DE',\n",
       "  'fixed': False,\n",
       "  'global': True,\n",
       "  'counties': None,\n",
       "  'launchYear': None,\n",
       "  'types': ['Public']},\n",
       " {'date': '2025-05-01',\n",
       "  'localName': 'Tag der Arbeit',\n",
       "  'name': 'Labour Day',\n",
       "  'countryCode': 'DE',\n",
       "  'fixed': False,\n",
       "  'global': True,\n",
       "  'counties': None,\n",
       "  'launchYear': None,\n",
       "  'types': ['Public']},\n",
       " {'date': '2025-05-08',\n",
       "  'localName': 'Tag der Befreiung',\n",
       "  'name': 'Liberation Day',\n",
       "  'countryCode': 'DE',\n",
       "  'fixed': False,\n",
       "  'global': False,\n",
       "  'counties': ['DE-BE'],\n",
       "  'launchYear': None,\n",
       "  'types': ['Public']},\n",
       " {'date': '2025-05-29',\n",
       "  'localName': 'Christi Himmelfahrt',\n",
       "  'name': 'Ascension Day',\n",
       "  'countryCode': 'DE',\n",
       "  'fixed': False,\n",
       "  'global': True,\n",
       "  'counties': None,\n",
       "  'launchYear': None,\n",
       "  'types': ['Public']},\n",
       " {'date': '2025-06-08',\n",
       "  'localName': 'Pfingstsonntag',\n",
       "  'name': 'Pentecost',\n",
       "  'countryCode': 'DE',\n",
       "  'fixed': False,\n",
       "  'global': False,\n",
       "  'counties': ['DE-BB', 'DE-HE'],\n",
       "  'launchYear': None,\n",
       "  'types': ['Public']},\n",
       " {'date': '2025-06-09',\n",
       "  'localName': 'Pfingstmontag',\n",
       "  'name': 'Whit Monday',\n",
       "  'countryCode': 'DE',\n",
       "  'fixed': False,\n",
       "  'global': True,\n",
       "  'counties': None,\n",
       "  'launchYear': None,\n",
       "  'types': ['Public']},\n",
       " {'date': '2025-06-19',\n",
       "  'localName': 'Fronleichnam',\n",
       "  'name': 'Corpus Christi',\n",
       "  'countryCode': 'DE',\n",
       "  'fixed': False,\n",
       "  'global': False,\n",
       "  'counties': ['DE-BW', 'DE-BY', 'DE-HE', 'DE-NW', 'DE-RP', 'DE-SL'],\n",
       "  'launchYear': None,\n",
       "  'types': ['Public']},\n",
       " {'date': '2025-08-15',\n",
       "  'localName': 'Mariä Himmelfahrt',\n",
       "  'name': 'Assumption Day',\n",
       "  'countryCode': 'DE',\n",
       "  'fixed': False,\n",
       "  'global': False,\n",
       "  'counties': ['DE-SL'],\n",
       "  'launchYear': None,\n",
       "  'types': ['Public']},\n",
       " {'date': '2025-09-20',\n",
       "  'localName': 'Weltkindertag',\n",
       "  'name': \"World Children's Day\",\n",
       "  'countryCode': 'DE',\n",
       "  'fixed': False,\n",
       "  'global': False,\n",
       "  'counties': ['DE-TH'],\n",
       "  'launchYear': None,\n",
       "  'types': ['Public']},\n",
       " {'date': '2025-10-03',\n",
       "  'localName': 'Tag der Deutschen Einheit',\n",
       "  'name': 'German Unity Day',\n",
       "  'countryCode': 'DE',\n",
       "  'fixed': False,\n",
       "  'global': True,\n",
       "  'counties': None,\n",
       "  'launchYear': None,\n",
       "  'types': ['Public']},\n",
       " {'date': '2025-10-31',\n",
       "  'localName': 'Reformationstag',\n",
       "  'name': 'Reformation Day',\n",
       "  'countryCode': 'DE',\n",
       "  'fixed': False,\n",
       "  'global': False,\n",
       "  'counties': ['DE-BB',\n",
       "   'DE-MV',\n",
       "   'DE-SN',\n",
       "   'DE-ST',\n",
       "   'DE-TH',\n",
       "   'DE-HB',\n",
       "   'DE-HH',\n",
       "   'DE-NI',\n",
       "   'DE-SH'],\n",
       "  'launchYear': None,\n",
       "  'types': ['Public']},\n",
       " {'date': '2025-11-01',\n",
       "  'localName': 'Allerheiligen',\n",
       "  'name': \"All Saints' Day\",\n",
       "  'countryCode': 'DE',\n",
       "  'fixed': False,\n",
       "  'global': False,\n",
       "  'counties': ['DE-BW', 'DE-BY', 'DE-NW', 'DE-RP', 'DE-SL'],\n",
       "  'launchYear': None,\n",
       "  'types': ['Public']},\n",
       " {'date': '2025-11-19',\n",
       "  'localName': 'Buß- und Bettag',\n",
       "  'name': 'Repentance and Prayer Day',\n",
       "  'countryCode': 'DE',\n",
       "  'fixed': False,\n",
       "  'global': False,\n",
       "  'counties': ['DE-SN'],\n",
       "  'launchYear': None,\n",
       "  'types': ['Public']},\n",
       " {'date': '2025-12-25',\n",
       "  'localName': 'Erster Weihnachtstag',\n",
       "  'name': 'Christmas Day',\n",
       "  'countryCode': 'DE',\n",
       "  'fixed': False,\n",
       "  'global': True,\n",
       "  'counties': None,\n",
       "  'launchYear': None,\n",
       "  'types': ['Public']},\n",
       " {'date': '2025-12-26',\n",
       "  'localName': 'Zweiter Weihnachtstag',\n",
       "  'name': \"St. Stephen's Day\",\n",
       "  'countryCode': 'DE',\n",
       "  'fixed': False,\n",
       "  'global': True,\n",
       "  'counties': None,\n",
       "  'launchYear': None,\n",
       "  'types': ['Public']}]"
      ]
     },
     "execution_count": 48,
     "metadata": {},
     "output_type": "execute_result"
    }
   ],
   "execution_count": 48
  },
  {
   "metadata": {
    "ExecuteTime": {
     "end_time": "2025-01-17T10:09:24.837420Z",
     "start_time": "2025-01-17T10:09:24.688325Z"
    }
   },
   "cell_type": "code",
   "source": [
    "x_api = 'https://date.nager.at/api/v3/PublicHolidays/1989/DE'\n",
    "\n",
    "res = requests.get(x_api)\n",
    "\n",
    "dict = res.json()\n",
    "dict"
   ],
   "outputs": [
    {
     "data": {
      "text/plain": [
       "[{'date': '1989-01-01',\n",
       "  'localName': 'Neujahr',\n",
       "  'name': \"New Year's Day\",\n",
       "  'countryCode': 'DE',\n",
       "  'fixed': False,\n",
       "  'global': True,\n",
       "  'counties': None,\n",
       "  'launchYear': None,\n",
       "  'types': ['Public']},\n",
       " {'date': '1989-01-06',\n",
       "  'localName': 'Heilige Drei Könige',\n",
       "  'name': 'Epiphany',\n",
       "  'countryCode': 'DE',\n",
       "  'fixed': False,\n",
       "  'global': False,\n",
       "  'counties': ['DE-BW', 'DE-BY', 'DE-ST'],\n",
       "  'launchYear': None,\n",
       "  'types': ['Public']},\n",
       " {'date': '1989-03-24',\n",
       "  'localName': 'Karfreitag',\n",
       "  'name': 'Good Friday',\n",
       "  'countryCode': 'DE',\n",
       "  'fixed': False,\n",
       "  'global': True,\n",
       "  'counties': None,\n",
       "  'launchYear': None,\n",
       "  'types': ['Public']},\n",
       " {'date': '1989-03-26',\n",
       "  'localName': 'Ostersonntag',\n",
       "  'name': 'Easter Sunday',\n",
       "  'countryCode': 'DE',\n",
       "  'fixed': False,\n",
       "  'global': False,\n",
       "  'counties': ['DE-BB'],\n",
       "  'launchYear': None,\n",
       "  'types': ['Public']},\n",
       " {'date': '1989-03-27',\n",
       "  'localName': 'Ostermontag',\n",
       "  'name': 'Easter Monday',\n",
       "  'countryCode': 'DE',\n",
       "  'fixed': False,\n",
       "  'global': True,\n",
       "  'counties': None,\n",
       "  'launchYear': None,\n",
       "  'types': ['Public']},\n",
       " {'date': '1989-05-01',\n",
       "  'localName': 'Tag der Arbeit',\n",
       "  'name': 'Labour Day',\n",
       "  'countryCode': 'DE',\n",
       "  'fixed': False,\n",
       "  'global': True,\n",
       "  'counties': None,\n",
       "  'launchYear': None,\n",
       "  'types': ['Public']},\n",
       " {'date': '1989-05-04',\n",
       "  'localName': 'Christi Himmelfahrt',\n",
       "  'name': 'Ascension Day',\n",
       "  'countryCode': 'DE',\n",
       "  'fixed': False,\n",
       "  'global': True,\n",
       "  'counties': None,\n",
       "  'launchYear': None,\n",
       "  'types': ['Public']},\n",
       " {'date': '1989-05-14',\n",
       "  'localName': 'Pfingstsonntag',\n",
       "  'name': 'Pentecost',\n",
       "  'countryCode': 'DE',\n",
       "  'fixed': False,\n",
       "  'global': False,\n",
       "  'counties': ['DE-BB', 'DE-HE'],\n",
       "  'launchYear': None,\n",
       "  'types': ['Public']},\n",
       " {'date': '1989-05-15',\n",
       "  'localName': 'Pfingstmontag',\n",
       "  'name': 'Whit Monday',\n",
       "  'countryCode': 'DE',\n",
       "  'fixed': False,\n",
       "  'global': True,\n",
       "  'counties': None,\n",
       "  'launchYear': None,\n",
       "  'types': ['Public']},\n",
       " {'date': '1989-05-25',\n",
       "  'localName': 'Fronleichnam',\n",
       "  'name': 'Corpus Christi',\n",
       "  'countryCode': 'DE',\n",
       "  'fixed': False,\n",
       "  'global': False,\n",
       "  'counties': ['DE-BW', 'DE-BY', 'DE-HE', 'DE-NW', 'DE-RP', 'DE-SL'],\n",
       "  'launchYear': None,\n",
       "  'types': ['Public']},\n",
       " {'date': '1989-08-15',\n",
       "  'localName': 'Mariä Himmelfahrt',\n",
       "  'name': 'Assumption Day',\n",
       "  'countryCode': 'DE',\n",
       "  'fixed': False,\n",
       "  'global': False,\n",
       "  'counties': ['DE-SL'],\n",
       "  'launchYear': None,\n",
       "  'types': ['Public']},\n",
       " {'date': '1989-10-03',\n",
       "  'localName': 'Tag der Deutschen Einheit',\n",
       "  'name': 'German Unity Day',\n",
       "  'countryCode': 'DE',\n",
       "  'fixed': False,\n",
       "  'global': True,\n",
       "  'counties': None,\n",
       "  'launchYear': None,\n",
       "  'types': ['Public']},\n",
       " {'date': '1989-10-31',\n",
       "  'localName': 'Reformationstag',\n",
       "  'name': 'Reformation Day',\n",
       "  'countryCode': 'DE',\n",
       "  'fixed': False,\n",
       "  'global': False,\n",
       "  'counties': ['DE-BB', 'DE-MV', 'DE-SN', 'DE-ST', 'DE-TH'],\n",
       "  'launchYear': None,\n",
       "  'types': ['Public']},\n",
       " {'date': '1989-11-01',\n",
       "  'localName': 'Allerheiligen',\n",
       "  'name': \"All Saints' Day\",\n",
       "  'countryCode': 'DE',\n",
       "  'fixed': False,\n",
       "  'global': False,\n",
       "  'counties': ['DE-BW', 'DE-BY', 'DE-NW', 'DE-RP', 'DE-SL'],\n",
       "  'launchYear': None,\n",
       "  'types': ['Public']},\n",
       " {'date': '1989-11-22',\n",
       "  'localName': 'Buß- und Bettag',\n",
       "  'name': 'Repentance and Prayer Day',\n",
       "  'countryCode': 'DE',\n",
       "  'fixed': False,\n",
       "  'global': False,\n",
       "  'counties': ['DE-BW',\n",
       "   'DE-BY',\n",
       "   'DE-BE',\n",
       "   'DE-HB',\n",
       "   'DE-HH',\n",
       "   'DE-HE',\n",
       "   'DE-NI',\n",
       "   'DE-NW',\n",
       "   'DE-RP',\n",
       "   'DE-SL',\n",
       "   'DE-SH'],\n",
       "  'launchYear': None,\n",
       "  'types': ['Public']},\n",
       " {'date': '1989-12-25',\n",
       "  'localName': 'Erster Weihnachtstag',\n",
       "  'name': 'Christmas Day',\n",
       "  'countryCode': 'DE',\n",
       "  'fixed': False,\n",
       "  'global': True,\n",
       "  'counties': None,\n",
       "  'launchYear': None,\n",
       "  'types': ['Public']},\n",
       " {'date': '1989-12-26',\n",
       "  'localName': 'Zweiter Weihnachtstag',\n",
       "  'name': \"St. Stephen's Day\",\n",
       "  'countryCode': 'DE',\n",
       "  'fixed': False,\n",
       "  'global': True,\n",
       "  'counties': None,\n",
       "  'launchYear': None,\n",
       "  'types': ['Public']}]"
      ]
     },
     "execution_count": 49,
     "metadata": {},
     "output_type": "execute_result"
    }
   ],
   "execution_count": 49
  },
  {
   "metadata": {
    "ExecuteTime": {
     "end_time": "2025-01-17T10:09:30.200301Z",
     "start_time": "2025-01-17T10:09:30.072250Z"
    }
   },
   "cell_type": "code",
   "source": [
    "x_api = 'https://date.nager.at/api/v3/PublicHolidays/2020/NL'\n",
    "\n",
    "res = requests.get(x_api)\n",
    "\n",
    "dict = res.json()\n",
    "dict"
   ],
   "outputs": [
    {
     "data": {
      "text/plain": [
       "[{'date': '2020-01-01',\n",
       "  'localName': 'Nieuwjaarsdag',\n",
       "  'name': \"New Year's Day\",\n",
       "  'countryCode': 'NL',\n",
       "  'fixed': False,\n",
       "  'global': True,\n",
       "  'counties': None,\n",
       "  'launchYear': None,\n",
       "  'types': ['Public']},\n",
       " {'date': '2020-04-10',\n",
       "  'localName': 'Goede Vrijdag',\n",
       "  'name': 'Good Friday',\n",
       "  'countryCode': 'NL',\n",
       "  'fixed': False,\n",
       "  'global': True,\n",
       "  'counties': None,\n",
       "  'launchYear': None,\n",
       "  'types': ['Public']},\n",
       " {'date': '2020-04-12',\n",
       "  'localName': 'Eerste Paasdag',\n",
       "  'name': 'Easter Sunday',\n",
       "  'countryCode': 'NL',\n",
       "  'fixed': False,\n",
       "  'global': True,\n",
       "  'counties': None,\n",
       "  'launchYear': None,\n",
       "  'types': ['Public']},\n",
       " {'date': '2020-04-13',\n",
       "  'localName': 'Tweede Paasdag',\n",
       "  'name': 'Easter Monday',\n",
       "  'countryCode': 'NL',\n",
       "  'fixed': False,\n",
       "  'global': True,\n",
       "  'counties': None,\n",
       "  'launchYear': None,\n",
       "  'types': ['Public']},\n",
       " {'date': '2020-04-27',\n",
       "  'localName': 'Koningsdag',\n",
       "  'name': \"King's Day\",\n",
       "  'countryCode': 'NL',\n",
       "  'fixed': False,\n",
       "  'global': True,\n",
       "  'counties': None,\n",
       "  'launchYear': None,\n",
       "  'types': ['Public']},\n",
       " {'date': '2020-05-05',\n",
       "  'localName': 'Bevrijdingsdag',\n",
       "  'name': 'Liberation Day',\n",
       "  'countryCode': 'NL',\n",
       "  'fixed': False,\n",
       "  'global': True,\n",
       "  'counties': None,\n",
       "  'launchYear': None,\n",
       "  'types': ['School', 'Authorities']},\n",
       " {'date': '2020-05-21',\n",
       "  'localName': 'Hemelvaartsdag',\n",
       "  'name': 'Ascension Day',\n",
       "  'countryCode': 'NL',\n",
       "  'fixed': False,\n",
       "  'global': True,\n",
       "  'counties': None,\n",
       "  'launchYear': None,\n",
       "  'types': ['Public']},\n",
       " {'date': '2020-05-31',\n",
       "  'localName': 'Eerste Pinksterdag',\n",
       "  'name': 'Pentecost',\n",
       "  'countryCode': 'NL',\n",
       "  'fixed': False,\n",
       "  'global': True,\n",
       "  'counties': None,\n",
       "  'launchYear': None,\n",
       "  'types': ['Public']},\n",
       " {'date': '2020-06-01',\n",
       "  'localName': 'Tweede Pinksterdag',\n",
       "  'name': 'Whit Monday',\n",
       "  'countryCode': 'NL',\n",
       "  'fixed': False,\n",
       "  'global': True,\n",
       "  'counties': None,\n",
       "  'launchYear': None,\n",
       "  'types': ['Public']},\n",
       " {'date': '2020-12-25',\n",
       "  'localName': 'Eerste Kerstdag',\n",
       "  'name': 'Christmas Day',\n",
       "  'countryCode': 'NL',\n",
       "  'fixed': False,\n",
       "  'global': True,\n",
       "  'counties': None,\n",
       "  'launchYear': None,\n",
       "  'types': ['Public']},\n",
       " {'date': '2020-12-26',\n",
       "  'localName': 'Tweede Kerstdag',\n",
       "  'name': \"St. Stephen's Day\",\n",
       "  'countryCode': 'NL',\n",
       "  'fixed': False,\n",
       "  'global': True,\n",
       "  'counties': None,\n",
       "  'launchYear': None,\n",
       "  'types': ['Public']}]"
      ]
     },
     "execution_count": 50,
     "metadata": {},
     "output_type": "execute_result"
    }
   ],
   "execution_count": 50
  },
  {
   "metadata": {
    "ExecuteTime": {
     "end_time": "2025-01-17T10:09:33.415003Z",
     "start_time": "2025-01-17T10:09:33.279546Z"
    }
   },
   "cell_type": "code",
   "source": [
    "x_api = 'https://date.nager.at/api/v3/PublicHolidays/2010/TR'\n",
    "\n",
    "res = requests.get(x_api)\n",
    "\n",
    "dict = res.json()\n",
    "dict"
   ],
   "outputs": [
    {
     "data": {
      "text/plain": [
       "[{'date': '2010-01-01',\n",
       "  'localName': 'Yılbaşı',\n",
       "  'name': \"New Year's Day\",\n",
       "  'countryCode': 'TR',\n",
       "  'fixed': False,\n",
       "  'global': True,\n",
       "  'counties': None,\n",
       "  'launchYear': None,\n",
       "  'types': ['Public']},\n",
       " {'date': '2010-04-23',\n",
       "  'localName': 'Ulusal Egemenlik ve Çocuk Bayramı',\n",
       "  'name': \"National Independence & Children's Day\",\n",
       "  'countryCode': 'TR',\n",
       "  'fixed': False,\n",
       "  'global': True,\n",
       "  'counties': None,\n",
       "  'launchYear': None,\n",
       "  'types': ['Public']},\n",
       " {'date': '2010-05-01',\n",
       "  'localName': 'İşçi Bayramı',\n",
       "  'name': 'Labour Day',\n",
       "  'countryCode': 'TR',\n",
       "  'fixed': False,\n",
       "  'global': True,\n",
       "  'counties': None,\n",
       "  'launchYear': None,\n",
       "  'types': ['Public']},\n",
       " {'date': '2010-05-19',\n",
       "  'localName': \"Atatürk'ü Anma, Gençlik ve Spor Bayramı\",\n",
       "  'name': 'Atatürk Commemoration & Youth Day',\n",
       "  'countryCode': 'TR',\n",
       "  'fixed': False,\n",
       "  'global': True,\n",
       "  'counties': None,\n",
       "  'launchYear': None,\n",
       "  'types': ['Public']},\n",
       " {'date': '2010-08-30',\n",
       "  'localName': 'Zafer Bayramı',\n",
       "  'name': 'Victory Day',\n",
       "  'countryCode': 'TR',\n",
       "  'fixed': False,\n",
       "  'global': True,\n",
       "  'counties': None,\n",
       "  'launchYear': None,\n",
       "  'types': ['Public']},\n",
       " {'date': '2010-10-29',\n",
       "  'localName': 'Cumhuriyet Bayramı',\n",
       "  'name': 'Republic Day',\n",
       "  'countryCode': 'TR',\n",
       "  'fixed': False,\n",
       "  'global': True,\n",
       "  'counties': None,\n",
       "  'launchYear': None,\n",
       "  'types': ['Public']}]"
      ]
     },
     "execution_count": 51,
     "metadata": {},
     "output_type": "execute_result"
    }
   ],
   "execution_count": 51
  },
  {
   "metadata": {
    "ExecuteTime": {
     "end_time": "2025-01-17T10:09:36.985289Z",
     "start_time": "2025-01-17T10:09:36.863452Z"
    }
   },
   "cell_type": "code",
   "source": [
    "x_api = 'https://date.nager.at/api/v3/PublicHolidays/1975/US'\n",
    "\n",
    "res = requests.get(x_api)\n",
    "\n",
    "dict = res.json()\n",
    "dict"
   ],
   "outputs": [
    {
     "data": {
      "text/plain": [
       "[{'date': '1975-01-01',\n",
       "  'localName': \"New Year's Day\",\n",
       "  'name': \"New Year's Day\",\n",
       "  'countryCode': 'US',\n",
       "  'fixed': False,\n",
       "  'global': True,\n",
       "  'counties': None,\n",
       "  'launchYear': None,\n",
       "  'types': ['Public']},\n",
       " {'date': '1975-01-20',\n",
       "  'localName': 'Martin Luther King, Jr. Day',\n",
       "  'name': 'Martin Luther King, Jr. Day',\n",
       "  'countryCode': 'US',\n",
       "  'fixed': False,\n",
       "  'global': True,\n",
       "  'counties': None,\n",
       "  'launchYear': None,\n",
       "  'types': ['Public']},\n",
       " {'date': '1975-02-12',\n",
       "  'localName': \"Lincoln's Birthday\",\n",
       "  'name': \"Lincoln's Birthday\",\n",
       "  'countryCode': 'US',\n",
       "  'fixed': False,\n",
       "  'global': False,\n",
       "  'counties': ['US-CA',\n",
       "   'US-CT',\n",
       "   'US-IL',\n",
       "   'US-IN',\n",
       "   'US-KY',\n",
       "   'US-MI',\n",
       "   'US-NY',\n",
       "   'US-MO',\n",
       "   'US-OH'],\n",
       "  'launchYear': None,\n",
       "  'types': ['Observance']},\n",
       " {'date': '1975-02-17',\n",
       "  'localName': \"Washington's Birthday\",\n",
       "  'name': 'Presidents Day',\n",
       "  'countryCode': 'US',\n",
       "  'fixed': False,\n",
       "  'global': True,\n",
       "  'counties': None,\n",
       "  'launchYear': None,\n",
       "  'types': ['Public']},\n",
       " {'date': '1975-03-28',\n",
       "  'localName': 'Good Friday',\n",
       "  'name': 'Good Friday',\n",
       "  'countryCode': 'US',\n",
       "  'fixed': False,\n",
       "  'global': False,\n",
       "  'counties': ['US-CT',\n",
       "   'US-DE',\n",
       "   'US-HI',\n",
       "   'US-IN',\n",
       "   'US-KY',\n",
       "   'US-LA',\n",
       "   'US-NC',\n",
       "   'US-ND',\n",
       "   'US-NJ',\n",
       "   'US-TN'],\n",
       "  'launchYear': None,\n",
       "  'types': ['Public']},\n",
       " {'date': '1975-03-28',\n",
       "  'localName': 'Good Friday',\n",
       "  'name': 'Good Friday',\n",
       "  'countryCode': 'US',\n",
       "  'fixed': False,\n",
       "  'global': False,\n",
       "  'counties': ['US-TX'],\n",
       "  'launchYear': None,\n",
       "  'types': ['Optional']},\n",
       " {'date': '1975-05-08',\n",
       "  'localName': 'Truman Day',\n",
       "  'name': 'Truman Day',\n",
       "  'countryCode': 'US',\n",
       "  'fixed': False,\n",
       "  'global': False,\n",
       "  'counties': ['US-MO'],\n",
       "  'launchYear': None,\n",
       "  'types': ['School', 'Authorities']},\n",
       " {'date': '1975-05-26',\n",
       "  'localName': 'Memorial Day',\n",
       "  'name': 'Memorial Day',\n",
       "  'countryCode': 'US',\n",
       "  'fixed': False,\n",
       "  'global': True,\n",
       "  'counties': None,\n",
       "  'launchYear': None,\n",
       "  'types': ['Public']},\n",
       " {'date': '1975-07-04',\n",
       "  'localName': 'Independence Day',\n",
       "  'name': 'Independence Day',\n",
       "  'countryCode': 'US',\n",
       "  'fixed': False,\n",
       "  'global': True,\n",
       "  'counties': None,\n",
       "  'launchYear': None,\n",
       "  'types': ['Public']},\n",
       " {'date': '1975-09-01',\n",
       "  'localName': 'Labour Day',\n",
       "  'name': 'Labor Day',\n",
       "  'countryCode': 'US',\n",
       "  'fixed': False,\n",
       "  'global': True,\n",
       "  'counties': None,\n",
       "  'launchYear': None,\n",
       "  'types': ['Public']},\n",
       " {'date': '1975-10-13',\n",
       "  'localName': 'Columbus Day',\n",
       "  'name': 'Columbus Day',\n",
       "  'countryCode': 'US',\n",
       "  'fixed': False,\n",
       "  'global': False,\n",
       "  'counties': ['US-AL',\n",
       "   'US-AZ',\n",
       "   'US-CO',\n",
       "   'US-CT',\n",
       "   'US-GA',\n",
       "   'US-ID',\n",
       "   'US-IL',\n",
       "   'US-IN',\n",
       "   'US-IA',\n",
       "   'US-KS',\n",
       "   'US-KY',\n",
       "   'US-LA',\n",
       "   'US-ME',\n",
       "   'US-MD',\n",
       "   'US-MA',\n",
       "   'US-MS',\n",
       "   'US-MO',\n",
       "   'US-MT',\n",
       "   'US-NE',\n",
       "   'US-NH',\n",
       "   'US-NJ',\n",
       "   'US-NM',\n",
       "   'US-NY',\n",
       "   'US-NC',\n",
       "   'US-OH',\n",
       "   'US-OK',\n",
       "   'US-PA',\n",
       "   'US-RI',\n",
       "   'US-SC',\n",
       "   'US-TN',\n",
       "   'US-UT',\n",
       "   'US-VA',\n",
       "   'US-WV'],\n",
       "  'launchYear': None,\n",
       "  'types': ['Public']},\n",
       " {'date': '1975-11-11',\n",
       "  'localName': 'Veterans Day',\n",
       "  'name': 'Veterans Day',\n",
       "  'countryCode': 'US',\n",
       "  'fixed': False,\n",
       "  'global': True,\n",
       "  'counties': None,\n",
       "  'launchYear': None,\n",
       "  'types': ['Public']},\n",
       " {'date': '1975-11-27',\n",
       "  'localName': 'Thanksgiving Day',\n",
       "  'name': 'Thanksgiving Day',\n",
       "  'countryCode': 'US',\n",
       "  'fixed': False,\n",
       "  'global': True,\n",
       "  'counties': None,\n",
       "  'launchYear': None,\n",
       "  'types': ['Public']},\n",
       " {'date': '1975-12-25',\n",
       "  'localName': 'Christmas Day',\n",
       "  'name': 'Christmas Day',\n",
       "  'countryCode': 'US',\n",
       "  'fixed': False,\n",
       "  'global': True,\n",
       "  'counties': None,\n",
       "  'launchYear': None,\n",
       "  'types': ['Public']}]"
      ]
     },
     "execution_count": 52,
     "metadata": {},
     "output_type": "execute_result"
    }
   ],
   "execution_count": 52
  },
  {
   "metadata": {
    "ExecuteTime": {
     "end_time": "2025-01-17T10:09:39.350767Z",
     "start_time": "2025-01-17T10:09:39.217755Z"
    }
   },
   "cell_type": "code",
   "source": [
    "x_api = 'https://date.nager.at/api/v3/PublicHolidays/2025/DE'\n",
    "\n",
    "res = requests.get(x_api)\n",
    "\n",
    "dict = res.json()\n",
    "dict"
   ],
   "outputs": [
    {
     "data": {
      "text/plain": [
       "[{'date': '2025-01-01',\n",
       "  'localName': 'Neujahr',\n",
       "  'name': \"New Year's Day\",\n",
       "  'countryCode': 'DE',\n",
       "  'fixed': False,\n",
       "  'global': True,\n",
       "  'counties': None,\n",
       "  'launchYear': None,\n",
       "  'types': ['Public']},\n",
       " {'date': '2025-01-06',\n",
       "  'localName': 'Heilige Drei Könige',\n",
       "  'name': 'Epiphany',\n",
       "  'countryCode': 'DE',\n",
       "  'fixed': False,\n",
       "  'global': False,\n",
       "  'counties': ['DE-BW', 'DE-BY', 'DE-ST'],\n",
       "  'launchYear': None,\n",
       "  'types': ['Public']},\n",
       " {'date': '2025-03-08',\n",
       "  'localName': 'Internationaler Frauentag',\n",
       "  'name': \"International Women's Day\",\n",
       "  'countryCode': 'DE',\n",
       "  'fixed': False,\n",
       "  'global': False,\n",
       "  'counties': ['DE-BE', 'DE-MV'],\n",
       "  'launchYear': None,\n",
       "  'types': ['Public']},\n",
       " {'date': '2025-04-18',\n",
       "  'localName': 'Karfreitag',\n",
       "  'name': 'Good Friday',\n",
       "  'countryCode': 'DE',\n",
       "  'fixed': False,\n",
       "  'global': True,\n",
       "  'counties': None,\n",
       "  'launchYear': None,\n",
       "  'types': ['Public']},\n",
       " {'date': '2025-04-20',\n",
       "  'localName': 'Ostersonntag',\n",
       "  'name': 'Easter Sunday',\n",
       "  'countryCode': 'DE',\n",
       "  'fixed': False,\n",
       "  'global': False,\n",
       "  'counties': ['DE-BB'],\n",
       "  'launchYear': None,\n",
       "  'types': ['Public']},\n",
       " {'date': '2025-04-21',\n",
       "  'localName': 'Ostermontag',\n",
       "  'name': 'Easter Monday',\n",
       "  'countryCode': 'DE',\n",
       "  'fixed': False,\n",
       "  'global': True,\n",
       "  'counties': None,\n",
       "  'launchYear': None,\n",
       "  'types': ['Public']},\n",
       " {'date': '2025-05-01',\n",
       "  'localName': 'Tag der Arbeit',\n",
       "  'name': 'Labour Day',\n",
       "  'countryCode': 'DE',\n",
       "  'fixed': False,\n",
       "  'global': True,\n",
       "  'counties': None,\n",
       "  'launchYear': None,\n",
       "  'types': ['Public']},\n",
       " {'date': '2025-05-08',\n",
       "  'localName': 'Tag der Befreiung',\n",
       "  'name': 'Liberation Day',\n",
       "  'countryCode': 'DE',\n",
       "  'fixed': False,\n",
       "  'global': False,\n",
       "  'counties': ['DE-BE'],\n",
       "  'launchYear': None,\n",
       "  'types': ['Public']},\n",
       " {'date': '2025-05-29',\n",
       "  'localName': 'Christi Himmelfahrt',\n",
       "  'name': 'Ascension Day',\n",
       "  'countryCode': 'DE',\n",
       "  'fixed': False,\n",
       "  'global': True,\n",
       "  'counties': None,\n",
       "  'launchYear': None,\n",
       "  'types': ['Public']},\n",
       " {'date': '2025-06-08',\n",
       "  'localName': 'Pfingstsonntag',\n",
       "  'name': 'Pentecost',\n",
       "  'countryCode': 'DE',\n",
       "  'fixed': False,\n",
       "  'global': False,\n",
       "  'counties': ['DE-BB', 'DE-HE'],\n",
       "  'launchYear': None,\n",
       "  'types': ['Public']},\n",
       " {'date': '2025-06-09',\n",
       "  'localName': 'Pfingstmontag',\n",
       "  'name': 'Whit Monday',\n",
       "  'countryCode': 'DE',\n",
       "  'fixed': False,\n",
       "  'global': True,\n",
       "  'counties': None,\n",
       "  'launchYear': None,\n",
       "  'types': ['Public']},\n",
       " {'date': '2025-06-19',\n",
       "  'localName': 'Fronleichnam',\n",
       "  'name': 'Corpus Christi',\n",
       "  'countryCode': 'DE',\n",
       "  'fixed': False,\n",
       "  'global': False,\n",
       "  'counties': ['DE-BW', 'DE-BY', 'DE-HE', 'DE-NW', 'DE-RP', 'DE-SL'],\n",
       "  'launchYear': None,\n",
       "  'types': ['Public']},\n",
       " {'date': '2025-08-15',\n",
       "  'localName': 'Mariä Himmelfahrt',\n",
       "  'name': 'Assumption Day',\n",
       "  'countryCode': 'DE',\n",
       "  'fixed': False,\n",
       "  'global': False,\n",
       "  'counties': ['DE-SL'],\n",
       "  'launchYear': None,\n",
       "  'types': ['Public']},\n",
       " {'date': '2025-09-20',\n",
       "  'localName': 'Weltkindertag',\n",
       "  'name': \"World Children's Day\",\n",
       "  'countryCode': 'DE',\n",
       "  'fixed': False,\n",
       "  'global': False,\n",
       "  'counties': ['DE-TH'],\n",
       "  'launchYear': None,\n",
       "  'types': ['Public']},\n",
       " {'date': '2025-10-03',\n",
       "  'localName': 'Tag der Deutschen Einheit',\n",
       "  'name': 'German Unity Day',\n",
       "  'countryCode': 'DE',\n",
       "  'fixed': False,\n",
       "  'global': True,\n",
       "  'counties': None,\n",
       "  'launchYear': None,\n",
       "  'types': ['Public']},\n",
       " {'date': '2025-10-31',\n",
       "  'localName': 'Reformationstag',\n",
       "  'name': 'Reformation Day',\n",
       "  'countryCode': 'DE',\n",
       "  'fixed': False,\n",
       "  'global': False,\n",
       "  'counties': ['DE-BB',\n",
       "   'DE-MV',\n",
       "   'DE-SN',\n",
       "   'DE-ST',\n",
       "   'DE-TH',\n",
       "   'DE-HB',\n",
       "   'DE-HH',\n",
       "   'DE-NI',\n",
       "   'DE-SH'],\n",
       "  'launchYear': None,\n",
       "  'types': ['Public']},\n",
       " {'date': '2025-11-01',\n",
       "  'localName': 'Allerheiligen',\n",
       "  'name': \"All Saints' Day\",\n",
       "  'countryCode': 'DE',\n",
       "  'fixed': False,\n",
       "  'global': False,\n",
       "  'counties': ['DE-BW', 'DE-BY', 'DE-NW', 'DE-RP', 'DE-SL'],\n",
       "  'launchYear': None,\n",
       "  'types': ['Public']},\n",
       " {'date': '2025-11-19',\n",
       "  'localName': 'Buß- und Bettag',\n",
       "  'name': 'Repentance and Prayer Day',\n",
       "  'countryCode': 'DE',\n",
       "  'fixed': False,\n",
       "  'global': False,\n",
       "  'counties': ['DE-SN'],\n",
       "  'launchYear': None,\n",
       "  'types': ['Public']},\n",
       " {'date': '2025-12-25',\n",
       "  'localName': 'Erster Weihnachtstag',\n",
       "  'name': 'Christmas Day',\n",
       "  'countryCode': 'DE',\n",
       "  'fixed': False,\n",
       "  'global': True,\n",
       "  'counties': None,\n",
       "  'launchYear': None,\n",
       "  'types': ['Public']},\n",
       " {'date': '2025-12-26',\n",
       "  'localName': 'Zweiter Weihnachtstag',\n",
       "  'name': \"St. Stephen's Day\",\n",
       "  'countryCode': 'DE',\n",
       "  'fixed': False,\n",
       "  'global': True,\n",
       "  'counties': None,\n",
       "  'launchYear': None,\n",
       "  'types': ['Public']}]"
      ]
     },
     "execution_count": 53,
     "metadata": {},
     "output_type": "execute_result"
    }
   ],
   "execution_count": 53
  },
  {
   "metadata": {
    "ExecuteTime": {
     "end_time": "2025-01-17T10:25:14.771208Z",
     "start_time": "2025-01-17T10:25:14.544143Z"
    }
   },
   "cell_type": "code",
   "source": [
    "x_api = 'https://date.nager.at/api/v3/PublicHolidays/2025/DE'\n",
    "\n",
    "res = requests.get(x_api)\n",
    "dict = res.json()\n",
    "dict\n",
    "for holiday in dict:\n",
    "\tif holiday['global']:\n",
    "\t\tprint(f\"Date: {holiday['date']}, \"\n",
    "\t\t\t  f\"Local Name: {holiday['localName']}, \"\n",
    "\t\t\t  f\"Name: {holiday['name']}\")"
   ],
   "outputs": [
    {
     "name": "stdout",
     "output_type": "stream",
     "text": [
      "Date: 2025-01-01, Local Name: Neujahr, Name: New Year's Day\n",
      "Date: 2025-04-18, Local Name: Karfreitag, Name: Good Friday\n",
      "Date: 2025-04-21, Local Name: Ostermontag, Name: Easter Monday\n",
      "Date: 2025-05-01, Local Name: Tag der Arbeit, Name: Labour Day\n",
      "Date: 2025-05-29, Local Name: Christi Himmelfahrt, Name: Ascension Day\n",
      "Date: 2025-06-09, Local Name: Pfingstmontag, Name: Whit Monday\n",
      "Date: 2025-10-03, Local Name: Tag der Deutschen Einheit, Name: German Unity Day\n",
      "Date: 2025-12-25, Local Name: Erster Weihnachtstag, Name: Christmas Day\n",
      "Date: 2025-12-26, Local Name: Zweiter Weihnachtstag, Name: St. Stephen's Day\n"
     ]
    }
   ],
   "execution_count": 67
  },
  {
   "cell_type": "markdown",
   "metadata": {},
   "source": [
    "#### POST-Befehl:\n",
    "Der Post-Befehl wird genutzt, um neue Daten an einen Server zu übertragen, die dort verarbeitet werden und (wenn der Nutzer dazu berechtigt ist) zu neuen Einträgen in der Datenbank auf Serverseite führen.\n",
    "\n",
    "Dies wird unter anderem häufig gemacht, wenn Formulardaten vom Client an den Server geschickt werden."
   ]
  },
  {
   "cell_type": "code",
   "metadata": {
    "ExecuteTime": {
     "end_time": "2025-01-17T10:52:40.245574Z",
     "start_time": "2025-01-17T10:52:40.240496Z"
    }
   },
   "source": [
    "# URL bleibt die gleiche:\n",
    "api_url = \"https://jsonplaceholder.typicode.com/todos\"\n",
    "todo = {\"userId\": 1, \"title\": \"Join DataCraft\", \"completed\": True}"
   ],
   "outputs": [],
   "execution_count": 68
  },
  {
   "cell_type": "code",
   "metadata": {
    "ExecuteTime": {
     "end_time": "2025-01-17T10:52:42.252218Z",
     "start_time": "2025-01-17T10:52:41.808272Z"
    }
   },
   "source": [
    "# Methode verändert sich aber von \"get\" auf \"post\"\n",
    "response = requests.post(api_url, todo)"
   ],
   "outputs": [],
   "execution_count": 69
  },
  {
   "cell_type": "code",
   "metadata": {
    "ExecuteTime": {
     "end_time": "2025-01-17T10:52:43.879213Z",
     "start_time": "2025-01-17T10:52:43.872651Z"
    }
   },
   "source": [
    "# Obwohl wir was schicken, bekommen wir auch etwas zurück\n",
    "# Zum Beispiel Rückgabecode\n",
    "response"
   ],
   "outputs": [
    {
     "data": {
      "text/plain": [
       "<Response [201]>"
      ]
     },
     "execution_count": 70,
     "metadata": {},
     "output_type": "execute_result"
    }
   ],
   "execution_count": 70
  },
  {
   "cell_type": "code",
   "metadata": {
    "ExecuteTime": {
     "end_time": "2025-01-17T10:52:54.842018Z",
     "start_time": "2025-01-17T10:52:54.834593Z"
    }
   },
   "source": [
    "# Auch Inhalt selbst\n",
    "response.json()"
   ],
   "outputs": [
    {
     "data": {
      "text/plain": [
       "{'userId': '1', 'title': 'Join DataCraft', 'completed': 'True', 'id': 201}"
      ]
     },
     "execution_count": 71,
     "metadata": {},
     "output_type": "execute_result"
    }
   ],
   "execution_count": 71
  },
  {
   "cell_type": "code",
   "metadata": {
    "ExecuteTime": {
     "end_time": "2025-01-14T16:03:36.199897Z",
     "start_time": "2025-01-14T16:03:36.194761Z"
    }
   },
   "source": [
    "# Welche URL wurde verwendet\n",
    "response.url"
   ],
   "outputs": [
    {
     "data": {
      "text/plain": [
       "'https://jsonplaceholder.typicode.com/todos'"
      ]
     },
     "execution_count": 39,
     "metadata": {},
     "output_type": "execute_result"
    }
   ],
   "execution_count": 39
  },
  {
   "cell_type": "code",
   "source": [
    "api_url = \"https://jsonplaceholder.typicode.com/todos\"\n",
    "response = requests.get(api_url)"
   ],
   "metadata": {
    "collapsed": false,
    "ExecuteTime": {
     "end_time": "2025-01-14T16:03:39.243765Z",
     "start_time": "2025-01-14T16:03:39.135858Z"
    }
   },
   "outputs": [],
   "execution_count": 40
  },
  {
   "cell_type": "code",
   "source": "response.json()",
   "metadata": {
    "collapsed": false,
    "ExecuteTime": {
     "end_time": "2025-01-14T16:03:41.078682Z",
     "start_time": "2025-01-14T16:03:41.057290Z"
    }
   },
   "outputs": [
    {
     "data": {
      "text/plain": [
       "[{'userId': 1, 'id': 1, 'title': 'delectus aut autem', 'completed': False},\n",
       " {'userId': 1,\n",
       "  'id': 2,\n",
       "  'title': 'quis ut nam facilis et officia qui',\n",
       "  'completed': False},\n",
       " {'userId': 1, 'id': 3, 'title': 'fugiat veniam minus', 'completed': False},\n",
       " {'userId': 1, 'id': 4, 'title': 'et porro tempora', 'completed': True},\n",
       " {'userId': 1,\n",
       "  'id': 5,\n",
       "  'title': 'laboriosam mollitia et enim quasi adipisci quia provident illum',\n",
       "  'completed': False},\n",
       " {'userId': 1,\n",
       "  'id': 6,\n",
       "  'title': 'qui ullam ratione quibusdam voluptatem quia omnis',\n",
       "  'completed': False},\n",
       " {'userId': 1,\n",
       "  'id': 7,\n",
       "  'title': 'illo expedita consequatur quia in',\n",
       "  'completed': False},\n",
       " {'userId': 1,\n",
       "  'id': 8,\n",
       "  'title': 'quo adipisci enim quam ut ab',\n",
       "  'completed': True},\n",
       " {'userId': 1,\n",
       "  'id': 9,\n",
       "  'title': 'molestiae perspiciatis ipsa',\n",
       "  'completed': False},\n",
       " {'userId': 1,\n",
       "  'id': 10,\n",
       "  'title': 'illo est ratione doloremque quia maiores aut',\n",
       "  'completed': True},\n",
       " {'userId': 1,\n",
       "  'id': 11,\n",
       "  'title': 'vero rerum temporibus dolor',\n",
       "  'completed': True},\n",
       " {'userId': 1,\n",
       "  'id': 12,\n",
       "  'title': 'ipsa repellendus fugit nisi',\n",
       "  'completed': True},\n",
       " {'userId': 1, 'id': 13, 'title': 'et doloremque nulla', 'completed': False},\n",
       " {'userId': 1,\n",
       "  'id': 14,\n",
       "  'title': 'repellendus sunt dolores architecto voluptatum',\n",
       "  'completed': True},\n",
       " {'userId': 1,\n",
       "  'id': 15,\n",
       "  'title': 'ab voluptatum amet voluptas',\n",
       "  'completed': True},\n",
       " {'userId': 1,\n",
       "  'id': 16,\n",
       "  'title': 'accusamus eos facilis sint et aut voluptatem',\n",
       "  'completed': True},\n",
       " {'userId': 1,\n",
       "  'id': 17,\n",
       "  'title': 'quo laboriosam deleniti aut qui',\n",
       "  'completed': True},\n",
       " {'userId': 1,\n",
       "  'id': 18,\n",
       "  'title': 'dolorum est consequatur ea mollitia in culpa',\n",
       "  'completed': False},\n",
       " {'userId': 1,\n",
       "  'id': 19,\n",
       "  'title': 'molestiae ipsa aut voluptatibus pariatur dolor nihil',\n",
       "  'completed': True},\n",
       " {'userId': 1,\n",
       "  'id': 20,\n",
       "  'title': 'ullam nobis libero sapiente ad optio sint',\n",
       "  'completed': True},\n",
       " {'userId': 2,\n",
       "  'id': 21,\n",
       "  'title': 'suscipit repellat esse quibusdam voluptatem incidunt',\n",
       "  'completed': False},\n",
       " {'userId': 2,\n",
       "  'id': 22,\n",
       "  'title': 'distinctio vitae autem nihil ut molestias quo',\n",
       "  'completed': True},\n",
       " {'userId': 2,\n",
       "  'id': 23,\n",
       "  'title': 'et itaque necessitatibus maxime molestiae qui quas velit',\n",
       "  'completed': False},\n",
       " {'userId': 2,\n",
       "  'id': 24,\n",
       "  'title': 'adipisci non ad dicta qui amet quaerat doloribus ea',\n",
       "  'completed': False},\n",
       " {'userId': 2,\n",
       "  'id': 25,\n",
       "  'title': 'voluptas quo tenetur perspiciatis explicabo natus',\n",
       "  'completed': True},\n",
       " {'userId': 2, 'id': 26, 'title': 'aliquam aut quasi', 'completed': True},\n",
       " {'userId': 2,\n",
       "  'id': 27,\n",
       "  'title': 'veritatis pariatur delectus',\n",
       "  'completed': True},\n",
       " {'userId': 2,\n",
       "  'id': 28,\n",
       "  'title': 'nesciunt totam sit blanditiis sit',\n",
       "  'completed': False},\n",
       " {'userId': 2, 'id': 29, 'title': 'laborum aut in quam', 'completed': False},\n",
       " {'userId': 2,\n",
       "  'id': 30,\n",
       "  'title': 'nemo perspiciatis repellat ut dolor libero commodi blanditiis omnis',\n",
       "  'completed': True},\n",
       " {'userId': 2,\n",
       "  'id': 31,\n",
       "  'title': 'repudiandae totam in est sint facere fuga',\n",
       "  'completed': False},\n",
       " {'userId': 2,\n",
       "  'id': 32,\n",
       "  'title': 'earum doloribus ea doloremque quis',\n",
       "  'completed': False},\n",
       " {'userId': 2, 'id': 33, 'title': 'sint sit aut vero', 'completed': False},\n",
       " {'userId': 2,\n",
       "  'id': 34,\n",
       "  'title': 'porro aut necessitatibus eaque distinctio',\n",
       "  'completed': False},\n",
       " {'userId': 2,\n",
       "  'id': 35,\n",
       "  'title': 'repellendus veritatis molestias dicta incidunt',\n",
       "  'completed': True},\n",
       " {'userId': 2,\n",
       "  'id': 36,\n",
       "  'title': 'excepturi deleniti adipisci voluptatem et neque optio illum ad',\n",
       "  'completed': True},\n",
       " {'userId': 2, 'id': 37, 'title': 'sunt cum tempora', 'completed': False},\n",
       " {'userId': 2, 'id': 38, 'title': 'totam quia non', 'completed': False},\n",
       " {'userId': 2,\n",
       "  'id': 39,\n",
       "  'title': 'doloremque quibusdam asperiores libero corrupti illum qui omnis',\n",
       "  'completed': False},\n",
       " {'userId': 2,\n",
       "  'id': 40,\n",
       "  'title': 'totam atque quo nesciunt',\n",
       "  'completed': True},\n",
       " {'userId': 3,\n",
       "  'id': 41,\n",
       "  'title': 'aliquid amet impedit consequatur aspernatur placeat eaque fugiat suscipit',\n",
       "  'completed': False},\n",
       " {'userId': 3,\n",
       "  'id': 42,\n",
       "  'title': 'rerum perferendis error quia ut eveniet',\n",
       "  'completed': False},\n",
       " {'userId': 3,\n",
       "  'id': 43,\n",
       "  'title': 'tempore ut sint quis recusandae',\n",
       "  'completed': True},\n",
       " {'userId': 3,\n",
       "  'id': 44,\n",
       "  'title': 'cum debitis quis accusamus doloremque ipsa natus sapiente omnis',\n",
       "  'completed': True},\n",
       " {'userId': 3,\n",
       "  'id': 45,\n",
       "  'title': 'velit soluta adipisci molestias reiciendis harum',\n",
       "  'completed': False},\n",
       " {'userId': 3,\n",
       "  'id': 46,\n",
       "  'title': 'vel voluptatem repellat nihil placeat corporis',\n",
       "  'completed': False},\n",
       " {'userId': 3,\n",
       "  'id': 47,\n",
       "  'title': 'nam qui rerum fugiat accusamus',\n",
       "  'completed': False},\n",
       " {'userId': 3,\n",
       "  'id': 48,\n",
       "  'title': 'sit reprehenderit omnis quia',\n",
       "  'completed': False},\n",
       " {'userId': 3,\n",
       "  'id': 49,\n",
       "  'title': 'ut necessitatibus aut maiores debitis officia blanditiis velit et',\n",
       "  'completed': False},\n",
       " {'userId': 3,\n",
       "  'id': 50,\n",
       "  'title': 'cupiditate necessitatibus ullam aut quis dolor voluptate',\n",
       "  'completed': True},\n",
       " {'userId': 3,\n",
       "  'id': 51,\n",
       "  'title': 'distinctio exercitationem ab doloribus',\n",
       "  'completed': False},\n",
       " {'userId': 3,\n",
       "  'id': 52,\n",
       "  'title': 'nesciunt dolorum quis recusandae ad pariatur ratione',\n",
       "  'completed': False},\n",
       " {'userId': 3,\n",
       "  'id': 53,\n",
       "  'title': 'qui labore est occaecati recusandae aliquid quam',\n",
       "  'completed': False},\n",
       " {'userId': 3,\n",
       "  'id': 54,\n",
       "  'title': 'quis et est ut voluptate quam dolor',\n",
       "  'completed': True},\n",
       " {'userId': 3,\n",
       "  'id': 55,\n",
       "  'title': 'voluptatum omnis minima qui occaecati provident nulla voluptatem ratione',\n",
       "  'completed': True},\n",
       " {'userId': 3,\n",
       "  'id': 56,\n",
       "  'title': 'deleniti ea temporibus enim',\n",
       "  'completed': True},\n",
       " {'userId': 3,\n",
       "  'id': 57,\n",
       "  'title': 'pariatur et magnam ea doloribus similique voluptatem rerum quia',\n",
       "  'completed': False},\n",
       " {'userId': 3,\n",
       "  'id': 58,\n",
       "  'title': 'est dicta totam qui explicabo doloribus qui dignissimos',\n",
       "  'completed': False},\n",
       " {'userId': 3,\n",
       "  'id': 59,\n",
       "  'title': 'perspiciatis velit id laborum placeat iusto et aliquam odio',\n",
       "  'completed': False},\n",
       " {'userId': 3,\n",
       "  'id': 60,\n",
       "  'title': 'et sequi qui architecto ut adipisci',\n",
       "  'completed': True},\n",
       " {'userId': 4,\n",
       "  'id': 61,\n",
       "  'title': 'odit optio omnis qui sunt',\n",
       "  'completed': True},\n",
       " {'userId': 4,\n",
       "  'id': 62,\n",
       "  'title': 'et placeat et tempore aspernatur sint numquam',\n",
       "  'completed': False},\n",
       " {'userId': 4,\n",
       "  'id': 63,\n",
       "  'title': 'doloremque aut dolores quidem fuga qui nulla',\n",
       "  'completed': True},\n",
       " {'userId': 4,\n",
       "  'id': 64,\n",
       "  'title': 'voluptas consequatur qui ut quia magnam nemo esse',\n",
       "  'completed': False},\n",
       " {'userId': 4,\n",
       "  'id': 65,\n",
       "  'title': 'fugiat pariatur ratione ut asperiores necessitatibus magni',\n",
       "  'completed': False},\n",
       " {'userId': 4,\n",
       "  'id': 66,\n",
       "  'title': 'rerum eum molestias autem voluptatum sit optio',\n",
       "  'completed': False},\n",
       " {'userId': 4,\n",
       "  'id': 67,\n",
       "  'title': 'quia voluptatibus voluptatem quos similique maiores repellat',\n",
       "  'completed': False},\n",
       " {'userId': 4,\n",
       "  'id': 68,\n",
       "  'title': 'aut id perspiciatis voluptatem iusto',\n",
       "  'completed': False},\n",
       " {'userId': 4,\n",
       "  'id': 69,\n",
       "  'title': 'doloribus sint dolorum ab adipisci itaque dignissimos aliquam suscipit',\n",
       "  'completed': False},\n",
       " {'userId': 4,\n",
       "  'id': 70,\n",
       "  'title': 'ut sequi accusantium et mollitia delectus sunt',\n",
       "  'completed': False},\n",
       " {'userId': 4, 'id': 71, 'title': 'aut velit saepe ullam', 'completed': False},\n",
       " {'userId': 4,\n",
       "  'id': 72,\n",
       "  'title': 'praesentium facilis facere quis harum voluptatibus voluptatem eum',\n",
       "  'completed': False},\n",
       " {'userId': 4,\n",
       "  'id': 73,\n",
       "  'title': 'sint amet quia totam corporis qui exercitationem commodi',\n",
       "  'completed': True},\n",
       " {'userId': 4,\n",
       "  'id': 74,\n",
       "  'title': 'expedita tempore nobis eveniet laborum maiores',\n",
       "  'completed': False},\n",
       " {'userId': 4,\n",
       "  'id': 75,\n",
       "  'title': 'occaecati adipisci est possimus totam',\n",
       "  'completed': False},\n",
       " {'userId': 4, 'id': 76, 'title': 'sequi dolorem sed', 'completed': True},\n",
       " {'userId': 4,\n",
       "  'id': 77,\n",
       "  'title': 'maiores aut nesciunt delectus exercitationem vel assumenda eligendi at',\n",
       "  'completed': False},\n",
       " {'userId': 4,\n",
       "  'id': 78,\n",
       "  'title': 'reiciendis est magnam amet nemo iste recusandae impedit quaerat',\n",
       "  'completed': False},\n",
       " {'userId': 4, 'id': 79, 'title': 'eum ipsa maxime ut', 'completed': True},\n",
       " {'userId': 4,\n",
       "  'id': 80,\n",
       "  'title': 'tempore molestias dolores rerum sequi voluptates ipsum consequatur',\n",
       "  'completed': True},\n",
       " {'userId': 5, 'id': 81, 'title': 'suscipit qui totam', 'completed': True},\n",
       " {'userId': 5,\n",
       "  'id': 82,\n",
       "  'title': 'voluptates eum voluptas et dicta',\n",
       "  'completed': False},\n",
       " {'userId': 5,\n",
       "  'id': 83,\n",
       "  'title': 'quidem at rerum quis ex aut sit quam',\n",
       "  'completed': True},\n",
       " {'userId': 5,\n",
       "  'id': 84,\n",
       "  'title': 'sunt veritatis ut voluptate',\n",
       "  'completed': False},\n",
       " {'userId': 5, 'id': 85, 'title': 'et quia ad iste a', 'completed': True},\n",
       " {'userId': 5,\n",
       "  'id': 86,\n",
       "  'title': 'incidunt ut saepe autem',\n",
       "  'completed': True},\n",
       " {'userId': 5,\n",
       "  'id': 87,\n",
       "  'title': 'laudantium quae eligendi consequatur quia et vero autem',\n",
       "  'completed': True},\n",
       " {'userId': 5,\n",
       "  'id': 88,\n",
       "  'title': 'vitae aut excepturi laboriosam sint aliquam et et accusantium',\n",
       "  'completed': False},\n",
       " {'userId': 5, 'id': 89, 'title': 'sequi ut omnis et', 'completed': True},\n",
       " {'userId': 5,\n",
       "  'id': 90,\n",
       "  'title': 'molestiae nisi accusantium tenetur dolorem et',\n",
       "  'completed': True},\n",
       " {'userId': 5,\n",
       "  'id': 91,\n",
       "  'title': 'nulla quis consequatur saepe qui id expedita',\n",
       "  'completed': True},\n",
       " {'userId': 5, 'id': 92, 'title': 'in omnis laboriosam', 'completed': True},\n",
       " {'userId': 5,\n",
       "  'id': 93,\n",
       "  'title': 'odio iure consequatur molestiae quibusdam necessitatibus quia sint',\n",
       "  'completed': True},\n",
       " {'userId': 5,\n",
       "  'id': 94,\n",
       "  'title': 'facilis modi saepe mollitia',\n",
       "  'completed': False},\n",
       " {'userId': 5,\n",
       "  'id': 95,\n",
       "  'title': 'vel nihil et molestiae iusto assumenda nemo quo ut',\n",
       "  'completed': True},\n",
       " {'userId': 5,\n",
       "  'id': 96,\n",
       "  'title': 'nobis suscipit ducimus enim asperiores voluptas',\n",
       "  'completed': False},\n",
       " {'userId': 5,\n",
       "  'id': 97,\n",
       "  'title': 'dolorum laboriosam eos qui iure aliquam',\n",
       "  'completed': False},\n",
       " {'userId': 5,\n",
       "  'id': 98,\n",
       "  'title': 'debitis accusantium ut quo facilis nihil quis sapiente necessitatibus',\n",
       "  'completed': True},\n",
       " {'userId': 5,\n",
       "  'id': 99,\n",
       "  'title': 'neque voluptates ratione',\n",
       "  'completed': False},\n",
       " {'userId': 5,\n",
       "  'id': 100,\n",
       "  'title': 'excepturi a et neque qui expedita vel voluptate',\n",
       "  'completed': False},\n",
       " {'userId': 6,\n",
       "  'id': 101,\n",
       "  'title': 'explicabo enim cumque porro aperiam occaecati minima',\n",
       "  'completed': False},\n",
       " {'userId': 6, 'id': 102, 'title': 'sed ab consequatur', 'completed': False},\n",
       " {'userId': 6,\n",
       "  'id': 103,\n",
       "  'title': 'non sunt delectus illo nulla tenetur enim omnis',\n",
       "  'completed': False},\n",
       " {'userId': 6,\n",
       "  'id': 104,\n",
       "  'title': 'excepturi non laudantium quo',\n",
       "  'completed': False},\n",
       " {'userId': 6,\n",
       "  'id': 105,\n",
       "  'title': 'totam quia dolorem et illum repellat voluptas optio',\n",
       "  'completed': True},\n",
       " {'userId': 6,\n",
       "  'id': 106,\n",
       "  'title': 'ad illo quis voluptatem temporibus',\n",
       "  'completed': True},\n",
       " {'userId': 6,\n",
       "  'id': 107,\n",
       "  'title': 'praesentium facilis omnis laudantium fugit ad iusto nihil nesciunt',\n",
       "  'completed': False},\n",
       " {'userId': 6,\n",
       "  'id': 108,\n",
       "  'title': 'a eos eaque nihil et exercitationem incidunt delectus',\n",
       "  'completed': True},\n",
       " {'userId': 6,\n",
       "  'id': 109,\n",
       "  'title': 'autem temporibus harum quisquam in culpa',\n",
       "  'completed': True},\n",
       " {'userId': 6, 'id': 110, 'title': 'aut aut ea corporis', 'completed': True},\n",
       " {'userId': 6,\n",
       "  'id': 111,\n",
       "  'title': 'magni accusantium labore et id quis provident',\n",
       "  'completed': False},\n",
       " {'userId': 6,\n",
       "  'id': 112,\n",
       "  'title': 'consectetur impedit quisquam qui deserunt non rerum consequuntur eius',\n",
       "  'completed': False},\n",
       " {'userId': 6,\n",
       "  'id': 113,\n",
       "  'title': 'quia atque aliquam sunt impedit voluptatum rerum assumenda nisi',\n",
       "  'completed': False},\n",
       " {'userId': 6,\n",
       "  'id': 114,\n",
       "  'title': 'cupiditate quos possimus corporis quisquam exercitationem beatae',\n",
       "  'completed': False},\n",
       " {'userId': 6, 'id': 115, 'title': 'sed et ea eum', 'completed': False},\n",
       " {'userId': 6,\n",
       "  'id': 116,\n",
       "  'title': 'ipsa dolores vel facilis ut',\n",
       "  'completed': True},\n",
       " {'userId': 6,\n",
       "  'id': 117,\n",
       "  'title': 'sequi quae est et qui qui eveniet asperiores',\n",
       "  'completed': False},\n",
       " {'userId': 6,\n",
       "  'id': 118,\n",
       "  'title': 'quia modi consequatur vero fugiat',\n",
       "  'completed': False},\n",
       " {'userId': 6,\n",
       "  'id': 119,\n",
       "  'title': 'corporis ducimus ea perspiciatis iste',\n",
       "  'completed': False},\n",
       " {'userId': 6,\n",
       "  'id': 120,\n",
       "  'title': 'dolorem laboriosam vel voluptas et aliquam quasi',\n",
       "  'completed': False},\n",
       " {'userId': 7,\n",
       "  'id': 121,\n",
       "  'title': 'inventore aut nihil minima laudantium hic qui omnis',\n",
       "  'completed': True},\n",
       " {'userId': 7,\n",
       "  'id': 122,\n",
       "  'title': 'provident aut nobis culpa',\n",
       "  'completed': True},\n",
       " {'userId': 7,\n",
       "  'id': 123,\n",
       "  'title': 'esse et quis iste est earum aut impedit',\n",
       "  'completed': False},\n",
       " {'userId': 7, 'id': 124, 'title': 'qui consectetur id', 'completed': False},\n",
       " {'userId': 7,\n",
       "  'id': 125,\n",
       "  'title': 'aut quasi autem iste tempore illum possimus',\n",
       "  'completed': False},\n",
       " {'userId': 7,\n",
       "  'id': 126,\n",
       "  'title': 'ut asperiores perspiciatis veniam ipsum rerum saepe',\n",
       "  'completed': True},\n",
       " {'userId': 7,\n",
       "  'id': 127,\n",
       "  'title': 'voluptatem libero consectetur rerum ut',\n",
       "  'completed': True},\n",
       " {'userId': 7,\n",
       "  'id': 128,\n",
       "  'title': 'eius omnis est qui voluptatem autem',\n",
       "  'completed': False},\n",
       " {'userId': 7,\n",
       "  'id': 129,\n",
       "  'title': 'rerum culpa quis harum',\n",
       "  'completed': False},\n",
       " {'userId': 7,\n",
       "  'id': 130,\n",
       "  'title': 'nulla aliquid eveniet harum laborum libero alias ut unde',\n",
       "  'completed': True},\n",
       " {'userId': 7, 'id': 131, 'title': 'qui ea incidunt quis', 'completed': False},\n",
       " {'userId': 7,\n",
       "  'id': 132,\n",
       "  'title': 'qui molestiae voluptatibus velit iure harum quisquam',\n",
       "  'completed': True},\n",
       " {'userId': 7,\n",
       "  'id': 133,\n",
       "  'title': 'et labore eos enim rerum consequatur sunt',\n",
       "  'completed': True},\n",
       " {'userId': 7,\n",
       "  'id': 134,\n",
       "  'title': 'molestiae doloribus et laborum quod ea',\n",
       "  'completed': False},\n",
       " {'userId': 7,\n",
       "  'id': 135,\n",
       "  'title': 'facere ipsa nam eum voluptates reiciendis vero qui',\n",
       "  'completed': False},\n",
       " {'userId': 7,\n",
       "  'id': 136,\n",
       "  'title': 'asperiores illo tempora fuga sed ut quasi adipisci',\n",
       "  'completed': False},\n",
       " {'userId': 7, 'id': 137, 'title': 'qui sit non', 'completed': False},\n",
       " {'userId': 7,\n",
       "  'id': 138,\n",
       "  'title': 'placeat minima consequatur rem qui ut',\n",
       "  'completed': True},\n",
       " {'userId': 7,\n",
       "  'id': 139,\n",
       "  'title': 'consequatur doloribus id possimus voluptas a voluptatem',\n",
       "  'completed': False},\n",
       " {'userId': 7,\n",
       "  'id': 140,\n",
       "  'title': 'aut consectetur in blanditiis deserunt quia sed laboriosam',\n",
       "  'completed': True},\n",
       " {'userId': 8,\n",
       "  'id': 141,\n",
       "  'title': 'explicabo consectetur debitis voluptates quas quae culpa rerum non',\n",
       "  'completed': True},\n",
       " {'userId': 8,\n",
       "  'id': 142,\n",
       "  'title': 'maiores accusantium architecto necessitatibus reiciendis ea aut',\n",
       "  'completed': True},\n",
       " {'userId': 8,\n",
       "  'id': 143,\n",
       "  'title': 'eum non recusandae cupiditate animi',\n",
       "  'completed': False},\n",
       " {'userId': 8,\n",
       "  'id': 144,\n",
       "  'title': 'ut eum exercitationem sint',\n",
       "  'completed': False},\n",
       " {'userId': 8,\n",
       "  'id': 145,\n",
       "  'title': 'beatae qui ullam incidunt voluptatem non nisi aliquam',\n",
       "  'completed': False},\n",
       " {'userId': 8,\n",
       "  'id': 146,\n",
       "  'title': 'molestiae suscipit ratione nihil odio libero impedit vero totam',\n",
       "  'completed': True},\n",
       " {'userId': 8,\n",
       "  'id': 147,\n",
       "  'title': 'eum itaque quod reprehenderit et facilis dolor autem ut',\n",
       "  'completed': True},\n",
       " {'userId': 8,\n",
       "  'id': 148,\n",
       "  'title': 'esse quas et quo quasi exercitationem',\n",
       "  'completed': False},\n",
       " {'userId': 8,\n",
       "  'id': 149,\n",
       "  'title': 'animi voluptas quod perferendis est',\n",
       "  'completed': False},\n",
       " {'userId': 8,\n",
       "  'id': 150,\n",
       "  'title': 'eos amet tempore laudantium fugit a',\n",
       "  'completed': False},\n",
       " {'userId': 8,\n",
       "  'id': 151,\n",
       "  'title': 'accusamus adipisci dicta qui quo ea explicabo sed vero',\n",
       "  'completed': True},\n",
       " {'userId': 8,\n",
       "  'id': 152,\n",
       "  'title': 'odit eligendi recusandae doloremque cumque non',\n",
       "  'completed': False},\n",
       " {'userId': 8,\n",
       "  'id': 153,\n",
       "  'title': 'ea aperiam consequatur qui repellat eos',\n",
       "  'completed': False},\n",
       " {'userId': 8, 'id': 154, 'title': 'rerum non ex sapiente', 'completed': True},\n",
       " {'userId': 8,\n",
       "  'id': 155,\n",
       "  'title': 'voluptatem nobis consequatur et assumenda magnam',\n",
       "  'completed': True},\n",
       " {'userId': 8,\n",
       "  'id': 156,\n",
       "  'title': 'nam quia quia nulla repellat assumenda quibusdam sit nobis',\n",
       "  'completed': True},\n",
       " {'userId': 8,\n",
       "  'id': 157,\n",
       "  'title': 'dolorem veniam quisquam deserunt repellendus',\n",
       "  'completed': True},\n",
       " {'userId': 8,\n",
       "  'id': 158,\n",
       "  'title': 'debitis vitae delectus et harum accusamus aut deleniti a',\n",
       "  'completed': True},\n",
       " {'userId': 8,\n",
       "  'id': 159,\n",
       "  'title': 'debitis adipisci quibusdam aliquam sed dolore ea praesentium nobis',\n",
       "  'completed': True},\n",
       " {'userId': 8,\n",
       "  'id': 160,\n",
       "  'title': 'et praesentium aliquam est',\n",
       "  'completed': False},\n",
       " {'userId': 9,\n",
       "  'id': 161,\n",
       "  'title': 'ex hic consequuntur earum omnis alias ut occaecati culpa',\n",
       "  'completed': True},\n",
       " {'userId': 9,\n",
       "  'id': 162,\n",
       "  'title': 'omnis laboriosam molestias animi sunt dolore',\n",
       "  'completed': True},\n",
       " {'userId': 9,\n",
       "  'id': 163,\n",
       "  'title': 'natus corrupti maxime laudantium et voluptatem laboriosam odit',\n",
       "  'completed': False},\n",
       " {'userId': 9,\n",
       "  'id': 164,\n",
       "  'title': 'reprehenderit quos aut aut consequatur est sed',\n",
       "  'completed': False},\n",
       " {'userId': 9,\n",
       "  'id': 165,\n",
       "  'title': 'fugiat perferendis sed aut quidem',\n",
       "  'completed': False},\n",
       " {'userId': 9,\n",
       "  'id': 166,\n",
       "  'title': 'quos quo possimus suscipit minima ut',\n",
       "  'completed': False},\n",
       " {'userId': 9,\n",
       "  'id': 167,\n",
       "  'title': 'et quis minus quo a asperiores molestiae',\n",
       "  'completed': False},\n",
       " {'userId': 9,\n",
       "  'id': 168,\n",
       "  'title': 'recusandae quia qui sunt libero',\n",
       "  'completed': False},\n",
       " {'userId': 9,\n",
       "  'id': 169,\n",
       "  'title': 'ea odio perferendis officiis',\n",
       "  'completed': True},\n",
       " {'userId': 9,\n",
       "  'id': 170,\n",
       "  'title': 'quisquam aliquam quia doloribus aut',\n",
       "  'completed': False},\n",
       " {'userId': 9,\n",
       "  'id': 171,\n",
       "  'title': 'fugiat aut voluptatibus corrupti deleniti velit iste odio',\n",
       "  'completed': True},\n",
       " {'userId': 9,\n",
       "  'id': 172,\n",
       "  'title': 'et provident amet rerum consectetur et voluptatum',\n",
       "  'completed': False},\n",
       " {'userId': 9,\n",
       "  'id': 173,\n",
       "  'title': 'harum ad aperiam quis',\n",
       "  'completed': False},\n",
       " {'userId': 9, 'id': 174, 'title': 'similique aut quo', 'completed': False},\n",
       " {'userId': 9,\n",
       "  'id': 175,\n",
       "  'title': 'laudantium eius officia perferendis provident perspiciatis asperiores',\n",
       "  'completed': True},\n",
       " {'userId': 9,\n",
       "  'id': 176,\n",
       "  'title': 'magni soluta corrupti ut maiores rem quidem',\n",
       "  'completed': False},\n",
       " {'userId': 9,\n",
       "  'id': 177,\n",
       "  'title': 'et placeat temporibus voluptas est tempora quos quibusdam',\n",
       "  'completed': False},\n",
       " {'userId': 9,\n",
       "  'id': 178,\n",
       "  'title': 'nesciunt itaque commodi tempore',\n",
       "  'completed': True},\n",
       " {'userId': 9,\n",
       "  'id': 179,\n",
       "  'title': 'omnis consequuntur cupiditate impedit itaque ipsam quo',\n",
       "  'completed': True},\n",
       " {'userId': 9,\n",
       "  'id': 180,\n",
       "  'title': 'debitis nisi et dolorem repellat et',\n",
       "  'completed': True},\n",
       " {'userId': 10,\n",
       "  'id': 181,\n",
       "  'title': 'ut cupiditate sequi aliquam fuga maiores',\n",
       "  'completed': False},\n",
       " {'userId': 10,\n",
       "  'id': 182,\n",
       "  'title': 'inventore saepe cumque et aut illum enim',\n",
       "  'completed': True},\n",
       " {'userId': 10,\n",
       "  'id': 183,\n",
       "  'title': 'omnis nulla eum aliquam distinctio',\n",
       "  'completed': True},\n",
       " {'userId': 10,\n",
       "  'id': 184,\n",
       "  'title': 'molestias modi perferendis perspiciatis',\n",
       "  'completed': False},\n",
       " {'userId': 10,\n",
       "  'id': 185,\n",
       "  'title': 'voluptates dignissimos sed doloribus animi quaerat aut',\n",
       "  'completed': False},\n",
       " {'userId': 10,\n",
       "  'id': 186,\n",
       "  'title': 'explicabo odio est et',\n",
       "  'completed': False},\n",
       " {'userId': 10,\n",
       "  'id': 187,\n",
       "  'title': 'consequuntur animi possimus',\n",
       "  'completed': False},\n",
       " {'userId': 10, 'id': 188, 'title': 'vel non beatae est', 'completed': True},\n",
       " {'userId': 10,\n",
       "  'id': 189,\n",
       "  'title': 'culpa eius et voluptatem et',\n",
       "  'completed': True},\n",
       " {'userId': 10,\n",
       "  'id': 190,\n",
       "  'title': 'accusamus sint iusto et voluptatem exercitationem',\n",
       "  'completed': True},\n",
       " {'userId': 10,\n",
       "  'id': 191,\n",
       "  'title': 'temporibus atque distinctio omnis eius impedit tempore molestias pariatur',\n",
       "  'completed': True},\n",
       " {'userId': 10,\n",
       "  'id': 192,\n",
       "  'title': 'ut quas possimus exercitationem sint voluptates',\n",
       "  'completed': False},\n",
       " {'userId': 10,\n",
       "  'id': 193,\n",
       "  'title': 'rerum debitis voluptatem qui eveniet tempora distinctio a',\n",
       "  'completed': True},\n",
       " {'userId': 10,\n",
       "  'id': 194,\n",
       "  'title': 'sed ut vero sit molestiae',\n",
       "  'completed': False},\n",
       " {'userId': 10,\n",
       "  'id': 195,\n",
       "  'title': 'rerum ex veniam mollitia voluptatibus pariatur',\n",
       "  'completed': True},\n",
       " {'userId': 10,\n",
       "  'id': 196,\n",
       "  'title': 'consequuntur aut ut fugit similique',\n",
       "  'completed': True},\n",
       " {'userId': 10,\n",
       "  'id': 197,\n",
       "  'title': 'dignissimos quo nobis earum saepe',\n",
       "  'completed': True},\n",
       " {'userId': 10,\n",
       "  'id': 198,\n",
       "  'title': 'quis eius est sint explicabo',\n",
       "  'completed': True},\n",
       " {'userId': 10,\n",
       "  'id': 199,\n",
       "  'title': 'numquam repellendus a magnam',\n",
       "  'completed': True},\n",
       " {'userId': 10,\n",
       "  'id': 200,\n",
       "  'title': 'ipsam aperiam voluptates qui',\n",
       "  'completed': False}]"
      ]
     },
     "execution_count": 41,
     "metadata": {},
     "output_type": "execute_result"
    }
   ],
   "execution_count": 41
  },
  {
   "cell_type": "code",
   "metadata": {
    "ExecuteTime": {
     "end_time": "2025-01-14T16:03:43.209821Z",
     "start_time": "2025-01-14T16:03:43.205548Z"
    }
   },
   "source": [
    "# Wie immer ist help() hilfreich für Methodenerklärung\n",
    "help(requests.post)"
   ],
   "outputs": [
    {
     "name": "stdout",
     "output_type": "stream",
     "text": [
      "Help on function post in module requests.api:\n",
      "\n",
      "post(url, data=None, json=None, **kwargs)\n",
      "    Sends a POST request.\n",
      "\n",
      "    :param url: URL for the new :class:`Request` object.\n",
      "    :param data: (optional) Dictionary, list of tuples, bytes, or file-like\n",
      "        object to send in the body of the :class:`Request`.\n",
      "    :param json: (optional) A JSON serializable Python object to send in the body of the :class:`Request`.\n",
      "    :param \\*\\*kwargs: Optional arguments that ``request`` takes.\n",
      "    :return: :class:`Response <Response>` object\n",
      "    :rtype: requests.Response\n",
      "\n"
     ]
    }
   ],
   "execution_count": 42
  },
  {
   "cell_type": "markdown",
   "metadata": {},
   "source": [
    "#### PUT-Befehl:\n",
    "\n",
    "Der PUT-Befehl ersetzt die bestehenden Daten mit den übergebenen:\n",
    "1. Prüfen, was wir ersetzen wollen\n",
    "2. Bestehende Daten mit PUT-Befehl ersetzen\n",
    "3. Abschließend noch einmal Änderung überprüfen"
   ]
  },
  {
   "cell_type": "code",
   "metadata": {
    "ExecuteTime": {
     "end_time": "2025-01-17T10:56:56.932602Z",
     "start_time": "2025-01-17T10:56:56.927079Z"
    }
   },
   "source": [
    "# URL definieren\n",
    "api_url = \"https://jsonplaceholder.typicode.com/todos/100\""
   ],
   "outputs": [],
   "execution_count": 75
  },
  {
   "cell_type": "code",
   "metadata": {
    "ExecuteTime": {
     "end_time": "2025-01-17T10:56:58.821193Z",
     "start_time": "2025-01-17T10:56:58.389223Z"
    }
   },
   "source": [
    "# Auswahl eines Eintrags, den wir ändern wollen\n",
    "response = requests.get(api_url)\n",
    "response.json()"
   ],
   "outputs": [
    {
     "data": {
      "text/plain": [
       "{'userId': 5,\n",
       " 'id': 100,\n",
       " 'title': 'excepturi a et neque qui expedita vel voluptate',\n",
       " 'completed': False}"
      ]
     },
     "execution_count": 76,
     "metadata": {},
     "output_type": "execute_result"
    }
   ],
   "execution_count": 76
  },
  {
   "cell_type": "code",
   "metadata": {
    "ExecuteTime": {
     "end_time": "2025-01-17T10:57:00.589266Z",
     "start_time": "2025-01-17T10:57:00.583390Z"
    }
   },
   "source": [
    "# Daten erstellen, die vorhandene überschreiben sollen\n",
    "todo = {\"userId\": 666, \"meaning of life\": 42}"
   ],
   "outputs": [],
   "execution_count": 77
  },
  {
   "cell_type": "code",
   "metadata": {
    "ExecuteTime": {
     "end_time": "2025-01-17T10:57:02.237083Z",
     "start_time": "2025-01-17T10:57:02.005680Z"
    }
   },
   "source": [
    "# Überschreiben mit put()\n",
    "response = requests.put(api_url, todo)"
   ],
   "outputs": [],
   "execution_count": 78
  },
  {
   "cell_type": "code",
   "source": "response.json()",
   "metadata": {
    "collapsed": false,
    "ExecuteTime": {
     "end_time": "2025-01-17T10:57:04.562032Z",
     "start_time": "2025-01-17T10:57:04.554497Z"
    }
   },
   "outputs": [
    {
     "data": {
      "text/plain": [
       "{'userId': '666', 'meaning of life': '42', 'id': 100}"
      ]
     },
     "execution_count": 79,
     "metadata": {},
     "output_type": "execute_result"
    }
   ],
   "execution_count": 79
  },
  {
   "cell_type": "code",
   "outputs": [],
   "source": [
    "# Quizfrage: Was ist mit 'id'?"
   ],
   "metadata": {
    "collapsed": false
   },
   "execution_count": null
  },
  {
   "cell_type": "markdown",
   "metadata": {},
   "source": [
    "#### PATCH-Befehl:\n",
    "Einzelne Eigenschaften einer Ressource manipulieren (verändern)\n",
    "Bspw. title"
   ]
  },
  {
   "cell_type": "code",
   "metadata": {
    "ExecuteTime": {
     "end_time": "2025-01-17T11:06:43.185464Z",
     "start_time": "2025-01-17T11:06:43.180320Z"
    }
   },
   "source": [
    "# URL definieren und Daten erstellen\n",
    "api_url = \"https://jsonplaceholder.typicode.com/todos/100\"\n",
    "todo = {\"title\": \"Devour Worlds\", \"completed\": True}"
   ],
   "outputs": [],
   "execution_count": 80
  },
  {
   "cell_type": "code",
   "source": [
    "# Das hier wollen wir verändern:\n",
    "response = requests.get(api_url)\n",
    "response.json()"
   ],
   "metadata": {
    "collapsed": false,
    "ExecuteTime": {
     "end_time": "2025-01-17T11:06:45.146033Z",
     "start_time": "2025-01-17T11:06:44.968588Z"
    }
   },
   "outputs": [
    {
     "data": {
      "text/plain": [
       "{'userId': 5,\n",
       " 'id': 100,\n",
       " 'title': 'excepturi a et neque qui expedita vel voluptate',\n",
       " 'completed': False}"
      ]
     },
     "execution_count": 81,
     "metadata": {},
     "output_type": "execute_result"
    }
   ],
   "execution_count": 81
  },
  {
   "cell_type": "code",
   "metadata": {
    "ExecuteTime": {
     "end_time": "2025-01-17T11:06:47.234304Z",
     "start_time": "2025-01-17T11:06:46.849576Z"
    }
   },
   "source": [
    "# Verändern von Daten durch Zugriff mit patch()\n",
    "response = requests.patch(api_url, todo)"
   ],
   "outputs": [],
   "execution_count": 82
  },
  {
   "cell_type": "code",
   "metadata": {
    "ExecuteTime": {
     "end_time": "2025-01-17T11:06:48.897229Z",
     "start_time": "2025-01-17T11:06:48.890645Z"
    }
   },
   "source": [
    "# Daten erfolgreich verändert\n",
    "response.json()"
   ],
   "outputs": [
    {
     "data": {
      "text/plain": [
       "{'userId': 5, 'id': 100, 'title': 'Devour Worlds', 'completed': 'True'}"
      ]
     },
     "execution_count": 83,
     "metadata": {},
     "output_type": "execute_result"
    }
   ],
   "execution_count": 83
  },
  {
   "cell_type": "markdown",
   "metadata": {},
   "source": [
    "#### DELETE-Befehl:\n",
    "Löschen einer Ressource"
   ]
  },
  {
   "cell_type": "code",
   "metadata": {
    "ExecuteTime": {
     "end_time": "2025-01-17T11:06:58.039644Z",
     "start_time": "2025-01-17T11:06:58.035162Z"
    }
   },
   "source": [
    "# URL definieren\n",
    "api_url = \"https://jsonplaceholder.typicode.com/todos/100\""
   ],
   "outputs": [],
   "execution_count": 84
  },
  {
   "cell_type": "code",
   "metadata": {
    "ExecuteTime": {
     "end_time": "2025-01-17T11:07:00.312476Z",
     "start_time": "2025-01-17T11:07:00.074429Z"
    }
   },
   "source": [
    "# Daten löschen\n",
    "response = requests.delete(api_url)"
   ],
   "outputs": [],
   "execution_count": 85
  },
  {
   "cell_type": "code",
   "metadata": {
    "ExecuteTime": {
     "end_time": "2025-01-17T11:07:01.691522Z",
     "start_time": "2025-01-17T11:07:01.685381Z"
    }
   },
   "source": [
    "# Daten erfolgreich gelöscht\n",
    "response.json()"
   ],
   "outputs": [
    {
     "data": {
      "text/plain": [
       "{}"
      ]
     },
     "execution_count": 86,
     "metadata": {},
     "output_type": "execute_result"
    }
   ],
   "execution_count": 86
  }
 ],
 "metadata": {
  "kernelspec": {
   "display_name": "DataCraft",
   "language": "python",
   "name": "python3"
  },
  "language_info": {
   "codemirror_mode": {
    "name": "ipython",
    "version": 3
   },
   "file_extension": ".py",
   "mimetype": "text/x-python",
   "name": "python",
   "nbconvert_exporter": "python",
   "pygments_lexer": "ipython3",
   "version": "3.11.5"
  }
 },
 "nbformat": 4,
 "nbformat_minor": 2
}
