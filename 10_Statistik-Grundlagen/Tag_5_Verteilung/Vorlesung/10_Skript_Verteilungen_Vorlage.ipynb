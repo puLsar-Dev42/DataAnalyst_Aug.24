{
 "cells": [
  {
   "cell_type": "markdown",
   "metadata": {},
   "source": [
    "# Skript: Statistische Verteilungen\n",
    "\n",
    "<hr>"
   ]
  },
  {
   "cell_type": "markdown",
   "metadata": {},
   "source": [
    "Das Paket `scipy`, im speziellen `scipy.stats`, liefert uns Verteilungsfunktionen und Wahrscheinlichkeitsfunktionen (uvm.) für jede statistische Verteilung. "
   ]
  },
  {
   "cell_type": "code",
   "metadata": {},
   "source": [
    "# Modulimporte\n",
    "import numpy as np\n",
    "import random\n",
    "from scipy.stats import binom, norm\n",
    "import pandas as pd\n",
    "import plotly.express as px"
   ],
   "outputs": [],
   "execution_count": null
  },
  {
   "metadata": {},
   "cell_type": "markdown",
   "source": "### 0. Vorspiel: Münzen werfen, werfen und werfen"
  },
  {
   "metadata": {},
   "cell_type": "code",
   "source": [
    "# Ein Münzwurf mit random (ungezinkte Münze):\n",
    "random.choices(population=['Kopf', 'Zahl'], weights=[0.5, 0.5])"
   ],
   "outputs": [],
   "execution_count": null
  },
  {
   "metadata": {},
   "cell_type": "code",
   "source": [
    "# Eine Wurfreihe\n",
    "random.choices(population=['Kopf', 'Zahl'], weights=[0.5, 0.5], k=10)"
   ],
   "outputs": [],
   "execution_count": null
  },
  {
   "metadata": {},
   "cell_type": "code",
   "source": [
    "thousand_coin_tosses = random.choices(population=['Kopf', 'Zahl'], weights=[0.5, 0.5], k=1000)\n",
    "thousand_coin_tosses"
   ],
   "outputs": [],
   "execution_count": null
  },
  {
   "metadata": {},
   "cell_type": "code",
   "source": "thousand_coin_tosses.count('Kopf')",
   "outputs": [],
   "execution_count": null
  },
  {
   "metadata": {},
   "cell_type": "code",
   "source": "len(thousand_coin_tosses) - thousand_coin_tosses.count('Kopf')",
   "outputs": [],
   "execution_count": null
  },
  {
   "metadata": {},
   "cell_type": "code",
   "source": "z_gen = np.random.default_rng(seed=42)",
   "outputs": [],
   "execution_count": null
  },
  {
   "metadata": {},
   "cell_type": "code",
   "source": [
    "# Ergebnisse von jeweils einem Wurf:\n",
    "z_gen.binomial(n=1, p=0.5, size=100)"
   ],
   "outputs": [],
   "execution_count": null
  },
  {
   "metadata": {},
   "cell_type": "code",
   "source": [
    "# 100 Ergebnisse von jeweils 10 Würfen (bei jedem Wurf kann 0 oder 1 rauskommen):\n",
    "ten_flips = z_gen.binomial(n=10, p=0.5, size=100)\n",
    "ten_flips"
   ],
   "outputs": [],
   "execution_count": null
  },
  {
   "metadata": {},
   "cell_type": "code",
   "source": [
    "# Kurze Häufigkeitsanalyse:\n",
    "freqs = np.unique(ten_flips, return_counts=True)\n",
    "freqs"
   ],
   "outputs": [],
   "execution_count": null
  },
  {
   "metadata": {},
   "cell_type": "code",
   "source": [
    "freqs_df = pd.DataFrame({'value': freqs[0], 'count': freqs[1]})\n",
    "freqs_df"
   ],
   "outputs": [],
   "execution_count": null
  },
  {
   "metadata": {},
   "cell_type": "code",
   "source": [
    "# Darstellung der Verteilung:\n",
    "freqs_df.set_index('value').plot(kind='bar')"
   ],
   "outputs": [],
   "execution_count": null
  },
  {
   "metadata": {},
   "cell_type": "code",
   "source": [
    "three_flips = z_gen.binomial(n=3, p=0.5, size=1000)\n",
    "three_flips"
   ],
   "outputs": [],
   "execution_count": null
  },
  {
   "metadata": {},
   "cell_type": "code",
   "source": [
    "freqs = np.unique(three_flips, return_counts=True)\n",
    "freqs_df = pd.DataFrame({'value': freqs[0], 'count': freqs[1]})\n",
    "freqs_df['count'] = freqs_df['count'].apply(lambda x: x/sum(freqs_df['count']))\n",
    "freqs_df"
   ],
   "outputs": [],
   "execution_count": null
  },
  {
   "metadata": {},
   "cell_type": "code",
   "source": "sum(freqs_df['count'])",
   "outputs": [],
   "execution_count": null
  },
  {
   "metadata": {},
   "cell_type": "code",
   "source": "freqs_df.set_index('value').plot(kind='bar');",
   "outputs": [],
   "execution_count": null
  },
  {
   "cell_type": "markdown",
   "metadata": {
    "collapsed": false
   },
   "source": [
    "# 1. Binomialverteilung\n",
    "\n",
    "Die Bernoulliverteilung wird durch den Wahrscheinlichkeitsparameter **$p$** bestimmt.\n",
    "\n",
    "Die Binomialverteilung braucht zusätzlich $n$ und $k$.\n",
    "\n",
    "## Wahrscheinlichkeitsrechnung\n",
    "\n",
    "Probability Mass Function (pmf) -> Wahrscheinlichkeit, genau k Erfolge zu erhalten\n",
    "\n",
    "*Beispiele:*\n",
    "\n",
    "1. Wahrscheinlichkeit, 2 Kopf bei 3 x Werfen zu bekommen (Wahrscheinlichkeit einer Münze 1/2)\n",
    "2. Wahrscheinlichkeit 4 Sechsen bei 10 x Werfen eines sechsseitigen Würfels zu bekommen"
   ]
  },
  {
   "cell_type": "markdown",
   "metadata": {
    "collapsed": false
   },
   "source": [
    "1. Beispiel:\n",
    "\n",
    "n = 3 (Würfe)\n",
    "\n",
    "k = 2 (Kopf)\n",
    "\n",
    "p = 1/2 (Wahrscheinlichkeit für Erfolg)\n",
    "\n",
    "\n",
    "$$ p_k = {n \\choose k} * p^k  * \\left ( 1-p \\right )^{n-k}  = {3 \\choose 2} * \\left ( \\frac{1}{2}\\right ) ^2  * \\left ( \\frac{1}{2} \\right )^{3-2} $$\n"
   ]
  },
  {
   "cell_type": "code",
   "metadata": {
    "collapsed": false
   },
   "source": [
    "# PMF = Probability Mass Function\n",
    "# Doku: https://docs.scipy.org/doc/scipy/reference/generated/scipy.stats.binom.html\n",
    "p_twoheads = binom.pmf(n=3, k=2, p=0.5)\n",
    "print(p_twoheads)\n",
    "print(f'{p_twoheads:.2%}')\n",
    "# [KKZ, KZK, ZKK]\n",
    "# Der Baum enthält bei drei Würfen 8 Möglichkeiten (2^3), also gibt es jeweils Wahrscheinlichkeiten von 1/8 (8 Stück)\n",
    "# 1/8 = 0,125\n",
    "# Wir hatten gesehen, dass es insgesamt drei mögliche Kombinationen für zweimal Kopf gibt\n",
    "# Also: 3*0,125 = 0,375"
   ],
   "outputs": [],
   "execution_count": null
  },
  {
   "cell_type": "code",
   "metadata": {},
   "source": [
    "# Wahrscheinlichkeiten für alle Ausgänge\n",
    "# des Münzwurfes ermitteln und darstellen\n",
    "# (k nimmt dabei 0, 1, 2, 3 Mal Kopf an)\n",
    "n = 3\n",
    "probs = [binom.pmf(n=n, k=k, p=0.5) for k in range(n + 1)]\n",
    "print(probs)\n",
    "\n",
    "px.bar(probs)"
   ],
   "outputs": [],
   "execution_count": null
  },
  {
   "metadata": {},
   "cell_type": "code",
   "source": [
    "# Quizfrage: Wir hatten vorhin etwas Ähnliches mit 1000 Würfen erreicht.\n",
    "# Worin unterscheidet sich diese Grafik von unserer obigen?\n"
   ],
   "outputs": [],
   "execution_count": null
  },
  {
   "cell_type": "code",
   "metadata": {},
   "source": [
    "# Wahrscheinlichkeiten für alle Ausgänge\n",
    "# bei 100 Würfen\n",
    "# Binomialverteilung nähert sich Normalverteilung an\n",
    "n = 100\n",
    "probs = [binom.pmf(n=n, k=k, p=0.5) for k in range(n + 1)]\n",
    "px.bar(probs)"
   ],
   "outputs": [],
   "execution_count": null
  },
  {
   "cell_type": "markdown",
   "metadata": {
    "collapsed": false
   },
   "source": [
    "Cumulative distribution function(cdf) -> Wahrscheinlichkeit kleiner oder gleich einem Wert\n",
    "\n",
    "1. Wahrscheinlichkeit für höchstens 2 Wappen bei 3x Werfen\n",
    "2. Wahrscheinlichkeit, mindestens 3 Mal die 5 zu werfen bei 10 Würfen mit einem \n",
    "sechsseitigen Würfel\n",
    "3. Wahrscheinlichkeit, 2 bis 4 Sechser bei 10x Würfen"
   ]
  },
  {
   "metadata": {},
   "cell_type": "code",
   "source": [
    "# 0. Vorspiel mit pmf:\n",
    "bis_zwei = binom.pmf(n=3, k=0, p=0.5) + binom.pmf(n=3, k=1, p=0.5) + binom.pmf(n=3, k=2, p=0.5)\n",
    "bis_zwei"
   ],
   "outputs": [],
   "execution_count": null
  },
  {
   "cell_type": "code",
   "metadata": {
    "collapsed": false
   },
   "source": [
    "# 1. Beispiel\n",
    "# Höchstens 2x Wappen bei drei Münzwürfen\n",
    "binom.cdf(n=3, k=2, p=0.5)\n",
    "\n",
    "# Im Grunde alle Möglichkeiten mit Ausnahme von [WWW]\n",
    "# Also 1 - 0,125 = 0,875\n",
    "# Bzw. 7 * 0,125 = 0,875"
   ],
   "outputs": [],
   "execution_count": null
  },
  {
   "cell_type": "code",
   "metadata": {
    "collapsed": false
   },
   "source": [
    "# 2. Beispiel\n",
    "# Mindestens 3x Fünf werfen bei 10 Würfelwürfen\n",
    "# Berechnet über Gegenwahrscheinlichkeit (1-p)\n",
    "1 - binom.cdf(n=10, k=2, p=1/6)"
   ],
   "outputs": [],
   "execution_count": null
  },
  {
   "metadata": {},
   "cell_type": "code",
   "source": [
    "# Alternativ auch mit sf (survival function) möglich\n",
    "# sf macht 1 - cdf für uns\n",
    "binom.sf(n=10, k=2, p=1/6)"
   ],
   "outputs": [],
   "execution_count": null
  },
  {
   "cell_type": "code",
   "metadata": {
    "collapsed": false
   },
   "source": [
    "# 3. Beispiel\n",
    "# Mindestens 2, aber maximal 4 Mal eine Sechs werfen\n",
    "# bei 10 Würfelwürfen\n",
    "binom.cdf(n=10, k=4, p=1/6) - binom.cdf(n=10, k=1, p=1/6)"
   ],
   "outputs": [],
   "execution_count": null
  },
  {
   "metadata": {},
   "cell_type": "code",
   "source": [
    "n = 10\n",
    "probs = [binom.pmf(n=n, k=k, p=1/6) for k in range(n + 1)]\n",
    "px.bar(probs)"
   ],
   "outputs": [],
   "execution_count": null
  },
  {
   "cell_type": "markdown",
   "metadata": {},
   "source": [
    "# 2. Normalverteilung\n",
    "\n",
    "Bei immer größer werdenden Stichprobenumfang $n$ nähert sich die Binomial-Verteilung der Normalverteilung an. Die Normalverteilung beschreibt eine stetige Zufallsvariable (anders als bei der Binomialverteilung).\n",
    "\n",
    "Die Normalverteilung wird über den Mittelwert µ und die Standardabweichung $σ$ beschrieben. Von einer Standardnormalverteilung spricht man bei µ=0 und $σ$ = 1."
   ]
  },
  {
   "cell_type": "code",
   "metadata": {},
   "source": [
    "# Angenommen, die mittlere Körpergröße aller Deutschen beträgt 1.74 m\n",
    "# mit einer Standardabweichung von 0.23 m.\n",
    "# Wie hoch ist die Wahrscheinlichkeit, wenn ich auf eine neue Person treffe, dass sie \n",
    "# höchstens 1,60 m groß ist?\n",
    "p_max_160 = norm.cdf(x=1.60, loc=1.74, scale=0.23)\n",
    "\n",
    "p_max_160"
   ],
   "outputs": [],
   "execution_count": null
  },
  {
   "cell_type": "code",
   "metadata": {},
   "source": [
    "# Wie hoch ist die Wahrscheinlichkeit, dass eine Person mindestens 1.80 m groß ist?\n",
    "\n",
    "# Wir müssen 1 - p benutzen, da die cdf die Wahrscheinlichkeit für \"höchstens\" berechnet\n",
    "# Bei der Normalverteilung muss man nicht k-1 rechnen. Es spielt keine Rolle, ob die 1.80m\n",
    "# inklusive oder exklusive sind, da die Wahrscheinlichkeit für einen Einzelwert immer = 0 ist.\n",
    "p_min_180 = 1 - norm.cdf(x=1.799, loc=1.74, scale=0.23)\n",
    "p_min_180"
   ],
   "outputs": [],
   "execution_count": null
  },
  {
   "cell_type": "markdown",
   "metadata": {},
   "source": [
    "#### Erzeugen einer Normalverteilung"
   ]
  },
  {
   "cell_type": "code",
   "metadata": {},
   "source": [
    "# Erstellen eines Zufallsgenerators\n",
    "z_gen = np.random.default_rng(seed=42)"
   ],
   "outputs": [],
   "execution_count": null
  },
  {
   "metadata": {},
   "cell_type": "code",
   "source": [
    "# Wie sieht eine Verteilung mit n=30 aus?\n",
    "n = 30\n",
    "normal_vert = z_gen.normal(loc=0, scale=1, size=n)\n",
    "px.histogram(normal_vert)"
   ],
   "outputs": [],
   "execution_count": null
  },
  {
   "metadata": {},
   "cell_type": "code",
   "source": [
    "# Und n=1000?\n",
    "n = 1000\n",
    "normal_vert = z_gen.normal(loc=0, scale=1, size=n)\n",
    "px.histogram(normal_vert)"
   ],
   "outputs": [],
   "execution_count": null
  },
  {
   "cell_type": "code",
   "metadata": {},
   "source": [
    "# Erzeugen von Zufallsdaten\n",
    "# Mit Mittelwert = 0\n",
    "# Standardabweichung = 1\n",
    "n = 100_000\n",
    "normal_vert = z_gen.normal(loc=0, scale=1, size=n)\n",
    "px.histogram(normal_vert)"
   ],
   "outputs": [],
   "execution_count": null
  },
  {
   "metadata": {},
   "cell_type": "code",
   "source": [
    "# Nur ausführen, wenn genug Zeit vorhanden ;)\n",
    "n = 1_000_000\n",
    "normal_vert = z_gen.normal(loc=0, scale=1, size=n)\n",
    "px.histogram(normal_vert)"
   ],
   "outputs": [],
   "execution_count": null
  }
 ],
 "metadata": {
  "kernelspec": {
   "display_name": "Python 3",
   "language": "python",
   "name": "python3"
  },
  "language_info": {
   "codemirror_mode": {
    "name": "ipython",
    "version": 3
   },
   "file_extension": ".py",
   "mimetype": "text/x-python",
   "name": "python",
   "nbconvert_exporter": "python",
   "pygments_lexer": "ipython3",
   "version": "3.11.5"
  }
 },
 "nbformat": 4,
 "nbformat_minor": 0
}
