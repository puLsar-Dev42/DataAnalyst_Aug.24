{
 "cells": [
  {
   "cell_type": "markdown",
   "metadata": {},
   "source": [
    "<br><br><center><h1 style=\"font-size:2em;color:#2467C0\">Tagesaufgaben: Einführung Pandas</h1></center>\n",
    "<br>\n"
   ]
  },
  {
   "metadata": {
    "ExecuteTime": {
     "end_time": "2024-11-12T12:26:13.236815Z",
     "start_time": "2024-11-12T12:26:11.679244Z"
    }
   },
   "cell_type": "code",
   "source": [
    "# Deine Imports:\n",
    "import pandas as pd\n",
    "import numpy as np\n",
    "from pandas.conftest import index\n",
    "from webcolors import names"
   ],
   "outputs": [],
   "execution_count": 2
  },
  {
   "cell_type": "markdown",
   "metadata": {},
   "source": [
    "## Aufgabe 1 - Serien"
   ]
  },
  {
   "cell_type": "markdown",
   "source": [
    "<div  class=\"alert alert-block alert-info\">\n",
    "1. Erstelle eine Pandas-Series mit fünf Zahlen und lass sie dir anschließend ausgeben.\n",
    "\n",
    "    Output:\n",
    "    0     1\n",
    "    1     2\n",
    "    2    23\n",
    "    3     3\n",
    "    4     4\n",
    "    dtype: int64\n",
    "\n",
    "</div>"
   ],
   "metadata": {
    "collapsed": false
   }
  },
  {
   "cell_type": "code",
   "metadata": {
    "ExecuteTime": {
     "end_time": "2024-11-12T12:37:57.785842Z",
     "start_time": "2024-11-12T12:37:57.779398Z"
    }
   },
   "source": [
    "task_1 = pd.Series([1, 2, 23, 3 ,4])\n",
    "task_1"
   ],
   "outputs": [
    {
     "data": {
      "text/plain": [
       "0     1\n",
       "1     2\n",
       "2    23\n",
       "3     3\n",
       "4     4\n",
       "dtype: int64"
      ]
     },
     "execution_count": 12,
     "metadata": {},
     "output_type": "execute_result"
    }
   ],
   "execution_count": 12
  },
  {
   "cell_type": "markdown",
   "source": [
    "<div  class=\"alert alert-block alert-info\">\n",
    "2. Erstelle eine Pandas-Series mit fünf Einträgen. Der Index soll dieses Mal aus Strings bestehen.\n",
    "\n",
    "    Output:\n",
    "    Rot        13\n",
    "    Blau       24\n",
    "    Grün        1\n",
    "    Schwarz    90\n",
    "    Magenta     3\n",
    "    dtype: int64\n",
    "</div>"
   ],
   "metadata": {
    "collapsed": false
   }
  },
  {
   "cell_type": "code",
   "metadata": {
    "ExecuteTime": {
     "end_time": "2024-11-12T12:38:03.474794Z",
     "start_time": "2024-11-12T12:38:03.468275Z"
    }
   },
   "source": [
    "task_2 = pd.Series([13, 24, 1, 90, 3], \n",
    "                   index=[\"Rot\", \"Blau\", \"Grün\", \"Schwarz\", \"Magenta\"])\n",
    "task_2"
   ],
   "outputs": [
    {
     "data": {
      "text/plain": [
       "Rot        13\n",
       "Blau       24\n",
       "Grün        1\n",
       "Schwarz    90\n",
       "Magenta     3\n",
       "dtype: int64"
      ]
     },
     "execution_count": 13,
     "metadata": {},
     "output_type": "execute_result"
    }
   ],
   "execution_count": 13
  },
  {
   "cell_type": "markdown",
   "source": [
    "<div  class=\"alert alert-block alert-info\">\n",
    "3. Greife per Index auf einen der Einträge aus der Series der vorherigen Aufgabe zu. Nutze dafür zum einen eine Zahl und zum anderen den entsprechenden String.\n",
    "</div>"
   ],
   "metadata": {
    "collapsed": false
   }
  },
  {
   "cell_type": "code",
   "metadata": {
    "ExecuteTime": {
     "end_time": "2024-11-12T12:38:11.046655Z",
     "start_time": "2024-11-12T12:38:11.042050Z"
    }
   },
   "source": [
    "# 3.1\n",
    "print(task_2.iloc[3])\n",
    "\n",
    "# 3.2\n",
    "print(task_2[\"Schwarz\"])"
   ],
   "outputs": [
    {
     "name": "stdout",
     "output_type": "stream",
     "text": [
      "90\n",
      "90\n"
     ]
    }
   ],
   "execution_count": 14
  },
  {
   "cell_type": "markdown",
   "source": [
    "<div  class=\"alert alert-block alert-info\">\n",
    "4. Gib der Series aus Aufgabe 2 nun einen Namen.\n",
    "\n",
    "    Output:\n",
    "    Rot        13\n",
    "    Blau       24\n",
    "    Grün        1\n",
    "    Schwarz    90\n",
    "    Magenta     3\n",
    "    Name: Farben, dtype: int64\n",
    "</div>"
   ],
   "metadata": {
    "collapsed": false
   }
  },
  {
   "cell_type": "code",
   "metadata": {
    "ExecuteTime": {
     "end_time": "2024-11-12T12:39:38.131431Z",
     "start_time": "2024-11-12T12:39:38.124416Z"
    }
   },
   "source": [
    "task_2 = pd.Series([13, 24, 1, 90, 3], \n",
    "                   index=[\"Rot\", \"Blau\", \"Grün\", \"Schwarz\", \"Magenta\"], \n",
    "                   name=\"Farben\")\n",
    "task_2"
   ],
   "outputs": [
    {
     "data": {
      "text/plain": [
       "Rot        13\n",
       "Blau       24\n",
       "Grün        1\n",
       "Schwarz    90\n",
       "Magenta     3\n",
       "Name: Farben, dtype: int64"
      ]
     },
     "execution_count": 15,
     "metadata": {},
     "output_type": "execute_result"
    }
   ],
   "execution_count": 15
  },
  {
   "cell_type": "markdown",
   "source": [
    "<div  class=\"alert alert-block alert-info\">\n",
    "5. Erstelle ein Dictionary für deinen Getränkemarkt mit vier Einträgen und wandel es anschließend in eine Pandas-Series um. Index = Getränkenamen; Werte = Getränkemengen\n",
    "\n",
    "</div>"
   ],
   "metadata": {
    "collapsed": false
   }
  },
  {
   "cell_type": "code",
   "metadata": {
    "ExecuteTime": {
     "end_time": "2024-11-12T12:50:29.552657Z",
     "start_time": "2024-11-12T12:50:29.544163Z"
    }
   },
   "source": [
    "beverage_market = {\"Beverages\": [\"Coca Cola\", \"Fanta\", \"Sprite\", \"Beer\"], \n",
    "                   \"Amount of Beverages\": [1337, 1589, 1110, 404]}\n",
    "\n",
    "beverage_market_df = pd.DataFrame(beverage_market)\n",
    "beverage_market_df"
   ],
   "outputs": [
    {
     "data": {
      "text/plain": [
       "   Beverages  Amount of Beverages\n",
       "0  Coca Cola                 1337\n",
       "1      Fanta                 1589\n",
       "2     Sprite                 1110\n",
       "3       Beer                  404"
      ],
      "text/html": [
       "<div>\n",
       "<style scoped>\n",
       "    .dataframe tbody tr th:only-of-type {\n",
       "        vertical-align: middle;\n",
       "    }\n",
       "\n",
       "    .dataframe tbody tr th {\n",
       "        vertical-align: top;\n",
       "    }\n",
       "\n",
       "    .dataframe thead th {\n",
       "        text-align: right;\n",
       "    }\n",
       "</style>\n",
       "<table border=\"1\" class=\"dataframe\">\n",
       "  <thead>\n",
       "    <tr style=\"text-align: right;\">\n",
       "      <th></th>\n",
       "      <th>Beverages</th>\n",
       "      <th>Amount of Beverages</th>\n",
       "    </tr>\n",
       "  </thead>\n",
       "  <tbody>\n",
       "    <tr>\n",
       "      <th>0</th>\n",
       "      <td>Coca Cola</td>\n",
       "      <td>1337</td>\n",
       "    </tr>\n",
       "    <tr>\n",
       "      <th>1</th>\n",
       "      <td>Fanta</td>\n",
       "      <td>1589</td>\n",
       "    </tr>\n",
       "    <tr>\n",
       "      <th>2</th>\n",
       "      <td>Sprite</td>\n",
       "      <td>1110</td>\n",
       "    </tr>\n",
       "    <tr>\n",
       "      <th>3</th>\n",
       "      <td>Beer</td>\n",
       "      <td>404</td>\n",
       "    </tr>\n",
       "  </tbody>\n",
       "</table>\n",
       "</div>"
      ]
     },
     "execution_count": 17,
     "metadata": {},
     "output_type": "execute_result"
    }
   ],
   "execution_count": 17
  },
  {
   "cell_type": "markdown",
   "source": [
    "<div  class=\"alert alert-block alert-info\">\n",
    "6. Du hast die beiden Listen revenue und expenses vorliegen. Wandle sie in Series um, ziehe expenses von revenue ab und nenne die Series profit. Lass dir profit ausgeben. Summiere außerdem alle Werte aus profit und lass dir auch das ausgeben. Erstelle aus allen drei Series schließlich ein DataFrame.\n",
    "\n",
    "</div>"
   ],
   "metadata": {
    "collapsed": false
   }
  },
  {
   "cell_type": "code",
   "source": [
    "revenue = [4700, 5300, 3500, 1900, 5600, 7200, 3200, 5800]\n",
    "expenses = [3500, 2000, 4500, 950,4200, 3800, 2700, 6000]"
   ],
   "metadata": {
    "collapsed": false,
    "ExecuteTime": {
     "end_time": "2024-11-12T12:53:25.132379Z",
     "start_time": "2024-11-12T12:53:25.128359Z"
    }
   },
   "outputs": [],
   "execution_count": 18
  },
  {
   "cell_type": "code",
   "source": [
    "revenue = pd.Series([4700, 5300, 3500, 1900, 5600, 7200, 3200, 5800], name=\"Revenue\")\n",
    "expenses = pd.Series([3500, 2000, 4500, 950,4200, 3800, 2700, 6000], name=\"Expenses\")\n",
    "profit = pd.Series(revenue - expenses, name=\"Profit\")\n",
    "\n",
    "rev_exp_df = pd.concat([revenue, expenses, profit], axis=1)\n",
    "rev_exp_df"
   ],
   "metadata": {
    "collapsed": false,
    "ExecuteTime": {
     "end_time": "2024-11-12T13:30:18.927784Z",
     "start_time": "2024-11-12T13:30:18.917569Z"
    }
   },
   "outputs": [
    {
     "data": {
      "text/plain": [
       "   Revenue  Expenses  Profit\n",
       "0     4700      3500    1200\n",
       "1     5300      2000    3300\n",
       "2     3500      4500   -1000\n",
       "3     1900       950     950\n",
       "4     5600      4200    1400\n",
       "5     7200      3800    3400\n",
       "6     3200      2700     500\n",
       "7     5800      6000    -200"
      ],
      "text/html": [
       "<div>\n",
       "<style scoped>\n",
       "    .dataframe tbody tr th:only-of-type {\n",
       "        vertical-align: middle;\n",
       "    }\n",
       "\n",
       "    .dataframe tbody tr th {\n",
       "        vertical-align: top;\n",
       "    }\n",
       "\n",
       "    .dataframe thead th {\n",
       "        text-align: right;\n",
       "    }\n",
       "</style>\n",
       "<table border=\"1\" class=\"dataframe\">\n",
       "  <thead>\n",
       "    <tr style=\"text-align: right;\">\n",
       "      <th></th>\n",
       "      <th>Revenue</th>\n",
       "      <th>Expenses</th>\n",
       "      <th>Profit</th>\n",
       "    </tr>\n",
       "  </thead>\n",
       "  <tbody>\n",
       "    <tr>\n",
       "      <th>0</th>\n",
       "      <td>4700</td>\n",
       "      <td>3500</td>\n",
       "      <td>1200</td>\n",
       "    </tr>\n",
       "    <tr>\n",
       "      <th>1</th>\n",
       "      <td>5300</td>\n",
       "      <td>2000</td>\n",
       "      <td>3300</td>\n",
       "    </tr>\n",
       "    <tr>\n",
       "      <th>2</th>\n",
       "      <td>3500</td>\n",
       "      <td>4500</td>\n",
       "      <td>-1000</td>\n",
       "    </tr>\n",
       "    <tr>\n",
       "      <th>3</th>\n",
       "      <td>1900</td>\n",
       "      <td>950</td>\n",
       "      <td>950</td>\n",
       "    </tr>\n",
       "    <tr>\n",
       "      <th>4</th>\n",
       "      <td>5600</td>\n",
       "      <td>4200</td>\n",
       "      <td>1400</td>\n",
       "    </tr>\n",
       "    <tr>\n",
       "      <th>5</th>\n",
       "      <td>7200</td>\n",
       "      <td>3800</td>\n",
       "      <td>3400</td>\n",
       "    </tr>\n",
       "    <tr>\n",
       "      <th>6</th>\n",
       "      <td>3200</td>\n",
       "      <td>2700</td>\n",
       "      <td>500</td>\n",
       "    </tr>\n",
       "    <tr>\n",
       "      <th>7</th>\n",
       "      <td>5800</td>\n",
       "      <td>6000</td>\n",
       "      <td>-200</td>\n",
       "    </tr>\n",
       "  </tbody>\n",
       "</table>\n",
       "</div>"
      ]
     },
     "execution_count": 29,
     "metadata": {},
     "output_type": "execute_result"
    }
   ],
   "execution_count": 29
  },
  {
   "cell_type": "markdown",
   "metadata": {},
   "source": [
    "## Aufgabe 2 - DataFrames"
   ]
  },
  {
   "cell_type": "markdown",
   "metadata": {},
   "source": [
    "<div  class=\"alert alert-block alert-info\">\n",
    "1. Erstelle ein DataFrame mit vier Ländern und deren zugehörigen Einwohnerzahlen über ein Dictionary (ohne Series diesmal).\n",
    "\n",
    "    Output:\n",
    "                 Land   Einwohner\n",
    "       0      Belgien   11600000\n",
    "       1  Niederlande   17600000\n",
    "       2     Portugal   10400000\n",
    "       3       Türkei   84700000\n",
    "\n",
    "\n",
    "</div>"
   ]
  },
  {
   "cell_type": "code",
   "metadata": {
    "ExecuteTime": {
     "end_time": "2024-11-12T13:21:45.043645Z",
     "start_time": "2024-11-12T13:21:45.036890Z"
    }
   },
   "source": [
    "country_population = {\"Country\": [\"Belgium\", \"Netherland\", \"Portugal\", \"Türkiye\"], \n",
    "                      \"Population\": [11600000, 17600000, 10400000, 84700000]}\n",
    "country_population_df = pd.DataFrame(country_population)\n",
    "country_population_df"
   ],
   "outputs": [
    {
     "data": {
      "text/plain": [
       "      Country  Population\n",
       "0     Belgium    11600000\n",
       "1  Netherland    17600000\n",
       "2    Portugal    10400000\n",
       "3     Türkiye    84700000"
      ],
      "text/html": [
       "<div>\n",
       "<style scoped>\n",
       "    .dataframe tbody tr th:only-of-type {\n",
       "        vertical-align: middle;\n",
       "    }\n",
       "\n",
       "    .dataframe tbody tr th {\n",
       "        vertical-align: top;\n",
       "    }\n",
       "\n",
       "    .dataframe thead th {\n",
       "        text-align: right;\n",
       "    }\n",
       "</style>\n",
       "<table border=\"1\" class=\"dataframe\">\n",
       "  <thead>\n",
       "    <tr style=\"text-align: right;\">\n",
       "      <th></th>\n",
       "      <th>Country</th>\n",
       "      <th>Population</th>\n",
       "    </tr>\n",
       "  </thead>\n",
       "  <tbody>\n",
       "    <tr>\n",
       "      <th>0</th>\n",
       "      <td>Belgium</td>\n",
       "      <td>11600000</td>\n",
       "    </tr>\n",
       "    <tr>\n",
       "      <th>1</th>\n",
       "      <td>Netherland</td>\n",
       "      <td>17600000</td>\n",
       "    </tr>\n",
       "    <tr>\n",
       "      <th>2</th>\n",
       "      <td>Portugal</td>\n",
       "      <td>10400000</td>\n",
       "    </tr>\n",
       "    <tr>\n",
       "      <th>3</th>\n",
       "      <td>Türkiye</td>\n",
       "      <td>84700000</td>\n",
       "    </tr>\n",
       "  </tbody>\n",
       "</table>\n",
       "</div>"
      ]
     },
     "execution_count": 28,
     "metadata": {},
     "output_type": "execute_result"
    }
   ],
   "execution_count": 28
  },
  {
   "cell_type": "markdown",
   "metadata": {},
   "source": [
    "<div  class=\"alert alert-block alert-info\">\n",
    "2. Ändere den Index des DataFrames aus Aufgabe 2.1 auf L1, L2, L3 und L4. Optional: Finde einen Weg, wie du den Index ändern kannst, ohne den gesamten DataFrame neu zu\n",
    " definieren.\n",
    "\n",
    "</div>"
   ]
  },
  {
   "cell_type": "code",
   "metadata": {
    "ExecuteTime": {
     "end_time": "2024-11-12T13:34:06.591069Z",
     "start_time": "2024-11-12T13:34:06.587346Z"
    }
   },
   "source": "country_population_df.index = [\"L1\", \"L2\", \"L3\", \"L4\"]",
   "outputs": [],
   "execution_count": 30
  },
  {
   "cell_type": "code",
   "metadata": {
    "ExecuteTime": {
     "end_time": "2024-11-12T13:34:12.651649Z",
     "start_time": "2024-11-12T13:34:12.642426Z"
    }
   },
   "source": "country_population_df",
   "outputs": [
    {
     "data": {
      "text/plain": [
       "       Country  Population\n",
       "L1     Belgium    11600000\n",
       "L2  Netherland    17600000\n",
       "L3    Portugal    10400000\n",
       "L4     Türkiye    84700000"
      ],
      "text/html": [
       "<div>\n",
       "<style scoped>\n",
       "    .dataframe tbody tr th:only-of-type {\n",
       "        vertical-align: middle;\n",
       "    }\n",
       "\n",
       "    .dataframe tbody tr th {\n",
       "        vertical-align: top;\n",
       "    }\n",
       "\n",
       "    .dataframe thead th {\n",
       "        text-align: right;\n",
       "    }\n",
       "</style>\n",
       "<table border=\"1\" class=\"dataframe\">\n",
       "  <thead>\n",
       "    <tr style=\"text-align: right;\">\n",
       "      <th></th>\n",
       "      <th>Country</th>\n",
       "      <th>Population</th>\n",
       "    </tr>\n",
       "  </thead>\n",
       "  <tbody>\n",
       "    <tr>\n",
       "      <th>L1</th>\n",
       "      <td>Belgium</td>\n",
       "      <td>11600000</td>\n",
       "    </tr>\n",
       "    <tr>\n",
       "      <th>L2</th>\n",
       "      <td>Netherland</td>\n",
       "      <td>17600000</td>\n",
       "    </tr>\n",
       "    <tr>\n",
       "      <th>L3</th>\n",
       "      <td>Portugal</td>\n",
       "      <td>10400000</td>\n",
       "    </tr>\n",
       "    <tr>\n",
       "      <th>L4</th>\n",
       "      <td>Türkiye</td>\n",
       "      <td>84700000</td>\n",
       "    </tr>\n",
       "  </tbody>\n",
       "</table>\n",
       "</div>"
      ]
     },
     "execution_count": 31,
     "metadata": {},
     "output_type": "execute_result"
    }
   ],
   "execution_count": 31
  },
  {
   "cell_type": "markdown",
   "metadata": {},
   "source": [
    "<div  class=\"alert alert-block alert-info\">\n",
    "3. Erstelle einen DataFrame mit vier Ländern, deren Einwohnerzahl, der Hauptstadt und der ersten Amtssprache. Verwende hierzu wieder ein Dictionary. Als Index sollen wieder L1, L2, usw. stehen.\n",
    "\n",
    "    Output:\n",
    "               Land  Einwohner Hauptstadt     Amtssprache\n",
    "    L1      Belgien   11600000    Brüssel  Niederländisch\n",
    "    L2  Niederlande   17600000  Amsterdam  Niederländisch\n",
    "    L3     Portugal   10400000   Lissabon   Portugiesisch\n",
    "    L4       Türkei   84700000     Ankara        Türkisch\n",
    "\n",
    "</div>"
   ]
  },
  {
   "cell_type": "code",
   "metadata": {
    "ExecuteTime": {
     "end_time": "2024-11-12T13:53:35.854597Z",
     "start_time": "2024-11-12T13:53:35.842580Z"
    }
   },
   "source": [
    "country_population_2 = {\"Country\": [\"Belgium\", \"Netherland\", \"Portugal\", \"Türkiye\"], \n",
    "                        \"Population\": [11600000, 17600000, 10400000, 84700000], \n",
    "                        \"Capital City\": [\"Brussels\", \"Amsterdam\", \"Lisbon\", \"Ankara\"], \n",
    "                        \"Official Language\": [\"Dutch\", \"Dutch\", \"Portuguese\", \"Turkish\"]}\n",
    "\n",
    "country_population_2_df = pd.DataFrame(country_population_2, index=[\"L1\", \"L2\", \"L3\", \"L4\"])\n",
    "country_population_2_df"
   ],
   "outputs": [
    {
     "data": {
      "text/plain": [
       "       Country  Population Capital City Official Language\n",
       "L1     Belgium    11600000     Brussels             Dutch\n",
       "L2  Netherland    17600000    Amsterdam             Dutch\n",
       "L3    Portugal    10400000       Lisbon        Portuguese\n",
       "L4     Türkiye    84700000       Ankara           Turkish"
      ],
      "text/html": [
       "<div>\n",
       "<style scoped>\n",
       "    .dataframe tbody tr th:only-of-type {\n",
       "        vertical-align: middle;\n",
       "    }\n",
       "\n",
       "    .dataframe tbody tr th {\n",
       "        vertical-align: top;\n",
       "    }\n",
       "\n",
       "    .dataframe thead th {\n",
       "        text-align: right;\n",
       "    }\n",
       "</style>\n",
       "<table border=\"1\" class=\"dataframe\">\n",
       "  <thead>\n",
       "    <tr style=\"text-align: right;\">\n",
       "      <th></th>\n",
       "      <th>Country</th>\n",
       "      <th>Population</th>\n",
       "      <th>Capital City</th>\n",
       "      <th>Official Language</th>\n",
       "    </tr>\n",
       "  </thead>\n",
       "  <tbody>\n",
       "    <tr>\n",
       "      <th>L1</th>\n",
       "      <td>Belgium</td>\n",
       "      <td>11600000</td>\n",
       "      <td>Brussels</td>\n",
       "      <td>Dutch</td>\n",
       "    </tr>\n",
       "    <tr>\n",
       "      <th>L2</th>\n",
       "      <td>Netherland</td>\n",
       "      <td>17600000</td>\n",
       "      <td>Amsterdam</td>\n",
       "      <td>Dutch</td>\n",
       "    </tr>\n",
       "    <tr>\n",
       "      <th>L3</th>\n",
       "      <td>Portugal</td>\n",
       "      <td>10400000</td>\n",
       "      <td>Lisbon</td>\n",
       "      <td>Portuguese</td>\n",
       "    </tr>\n",
       "    <tr>\n",
       "      <th>L4</th>\n",
       "      <td>Türkiye</td>\n",
       "      <td>84700000</td>\n",
       "      <td>Ankara</td>\n",
       "      <td>Turkish</td>\n",
       "    </tr>\n",
       "  </tbody>\n",
       "</table>\n",
       "</div>"
      ]
     },
     "execution_count": 34,
     "metadata": {},
     "output_type": "execute_result"
    }
   ],
   "execution_count": 34
  },
  {
   "cell_type": "markdown",
   "source": [
    "<div  class=\"alert alert-block alert-info\">\n",
    "4. Erstelle den gleichen DataFrame wie in der vorherigen Aufgabe, aber verwende dieses Mal kein Dictionary. Schreibe nun die einzelnen Spalten der Tabelle (Land, Einwohner, Hauptstadt, Amtssprache) zuerst als Pandas-Series und füge am Ende alle Series zu einem DataFrame zusammen.\n",
    "\n",
    "    Output:\n",
    "               Land  Einwohner Hauptstadt     Amtssprache\n",
    "    L1      Belgien   11600000    Brüssel  Niederländisch\n",
    "    L2  Niederlande   17600000  Amsterdam  Niederländisch\n",
    "    L3     Portugal   10400000   Lissabon   Portugiesisch\n",
    "    L4       Türkei   84700000     Ankara        Türkisch\n",
    "\n",
    "</div>"
   ],
   "metadata": {
    "collapsed": false
   }
  },
  {
   "cell_type": "code",
   "metadata": {
    "ExecuteTime": {
     "end_time": "2024-11-12T14:28:53.083351Z",
     "start_time": "2024-11-12T14:28:53.073262Z"
    }
   },
   "source": [
    "countries = pd.Series([\"Belgium\", \"Netherland\", \"Portugal\", \"Türkiye\"], name=\"Country\")\n",
    "population = pd.Series([11600000, 17600000, 10400000, 84700000], name=\"Population\")\n",
    "capital_city = pd.Series([\"Brussels\", \"Amsterdam\", \"Lisbon\", \"Ankara\"], name=\"Capital City\")\n",
    "official_language = pd.Series([\"Dutch\", \"Dutch\", \"Portuguese\", \"Turkish\"], name=\"Official Language\")\n",
    "\n",
    "countries_df = pd.concat([countries, population, capital_city, official_language], axis=1)\n",
    "countries_df.index = [\"L1\", \"L2\", \"L3\", \"L4\"]\n",
    "countries_df"
   ],
   "outputs": [
    {
     "data": {
      "text/plain": [
       "       Country  Population Capital City Official Language\n",
       "L1     Belgium    11600000     Brussels             Dutch\n",
       "L2  Netherland    17600000    Amsterdam             Dutch\n",
       "L3    Portugal    10400000       Lisbon        Portuguese\n",
       "L4     Türkiye    84700000       Ankara           Turkish"
      ],
      "text/html": [
       "<div>\n",
       "<style scoped>\n",
       "    .dataframe tbody tr th:only-of-type {\n",
       "        vertical-align: middle;\n",
       "    }\n",
       "\n",
       "    .dataframe tbody tr th {\n",
       "        vertical-align: top;\n",
       "    }\n",
       "\n",
       "    .dataframe thead th {\n",
       "        text-align: right;\n",
       "    }\n",
       "</style>\n",
       "<table border=\"1\" class=\"dataframe\">\n",
       "  <thead>\n",
       "    <tr style=\"text-align: right;\">\n",
       "      <th></th>\n",
       "      <th>Country</th>\n",
       "      <th>Population</th>\n",
       "      <th>Capital City</th>\n",
       "      <th>Official Language</th>\n",
       "    </tr>\n",
       "  </thead>\n",
       "  <tbody>\n",
       "    <tr>\n",
       "      <th>L1</th>\n",
       "      <td>Belgium</td>\n",
       "      <td>11600000</td>\n",
       "      <td>Brussels</td>\n",
       "      <td>Dutch</td>\n",
       "    </tr>\n",
       "    <tr>\n",
       "      <th>L2</th>\n",
       "      <td>Netherland</td>\n",
       "      <td>17600000</td>\n",
       "      <td>Amsterdam</td>\n",
       "      <td>Dutch</td>\n",
       "    </tr>\n",
       "    <tr>\n",
       "      <th>L3</th>\n",
       "      <td>Portugal</td>\n",
       "      <td>10400000</td>\n",
       "      <td>Lisbon</td>\n",
       "      <td>Portuguese</td>\n",
       "    </tr>\n",
       "    <tr>\n",
       "      <th>L4</th>\n",
       "      <td>Türkiye</td>\n",
       "      <td>84700000</td>\n",
       "      <td>Ankara</td>\n",
       "      <td>Turkish</td>\n",
       "    </tr>\n",
       "  </tbody>\n",
       "</table>\n",
       "</div>"
      ]
     },
     "execution_count": 58,
     "metadata": {},
     "output_type": "execute_result"
    }
   ],
   "execution_count": 58
  },
  {
   "cell_type": "markdown",
   "metadata": {},
   "source": [
    "<div  class=\"alert alert-block alert-info\">\n",
    "5. Lass dir alle Indices und alle Columns aus dem DataFrame aus der vorherigen Aufgabe ausgeben.\n",
    "\n",
    "    Output:\n",
    "    Index(['L1', 'L2', 'L3', 'L4'], dtype='object')\n",
    "    Index(['Land', 'Einwohner', 'Hauptstadt', 'Amtssprache'], dtype='object')\n",
    "</div>"
   ]
  },
  {
   "cell_type": "code",
   "metadata": {
    "ExecuteTime": {
     "end_time": "2024-11-12T14:33:22.641822Z",
     "start_time": "2024-11-12T14:33:22.636855Z"
    }
   },
   "source": "countries_df.index, countries_df.keys()         # alternativ zu countries_df.keys() -> countries_df.columns",
   "outputs": [
    {
     "data": {
      "text/plain": [
       "(Index(['L1', 'L2', 'L3', 'L4'], dtype='object'),\n",
       " Index(['Country', 'Population', 'Capital City', 'Official Language'], dtype='object'))"
      ]
     },
     "execution_count": 63,
     "metadata": {},
     "output_type": "execute_result"
    }
   ],
   "execution_count": 63
  },
  {
   "cell_type": "markdown",
   "metadata": {},
   "source": [
    "<div  class=\"alert alert-block alert-info\">\n",
    "6. Lass dir alle Infos für dein drittes Land ausgeben.\n",
    "\n",
    "    Output:\n",
    "    Land                Portugal\n",
    "    Einwohner           10400000\n",
    "    Hauptstadt          lissabon\n",
    "    Amtssprache    Portugiesisch\n",
    "    Name: L3, dtype: object\n",
    "</div>"
   ]
  },
  {
   "cell_type": "code",
   "metadata": {
    "ExecuteTime": {
     "end_time": "2024-11-12T14:27:43.979316Z",
     "start_time": "2024-11-12T14:27:43.973073Z"
    }
   },
   "source": [
    "country_nr3 = pd.Series(countries_df.values[2], \n",
    "                        name=\"Third Country of DataFrame\", \n",
    "                        index=[\"Country:\", \"Population:\", \"Capital City:\", \"Official Language:\"])\n",
    "country_nr3"
   ],
   "outputs": [
    {
     "data": {
      "text/plain": [
       "Country:                Portugal\n",
       "Population:             10400000\n",
       "Capital City:             Lisbon\n",
       "Official Language:    Portuguese\n",
       "Name: Third Country of DataFrame, dtype: object"
      ]
     },
     "execution_count": 57,
     "metadata": {},
     "output_type": "execute_result"
    }
   ],
   "execution_count": 57
  }
 ],
 "metadata": {
  "kernelspec": {
   "display_name": "Python 3 (ipykernel)",
   "language": "python",
   "name": "python3"
  },
  "language_info": {
   "codemirror_mode": {
    "name": "ipython",
    "version": 3
   },
   "file_extension": ".py",
   "mimetype": "text/x-python",
   "name": "python",
   "nbconvert_exporter": "python",
   "pygments_lexer": "ipython3",
   "version": "3.9.13"
  }
 },
 "nbformat": 4,
 "nbformat_minor": 1
}
