{
 "cells": [
  {
   "cell_type": "markdown",
   "metadata": {
    "collapsed": false
   },
   "source": "<center><h1 style=\"font-size:2em;color:#2467C0;font-family:Times New Roman\">Tagesaufgaben Hyperparameter</h1></center>"
  },
  {
   "cell_type": "markdown",
   "metadata": {
    "collapsed": false
   },
   "source": [
    "<div class=\"alert alert-success\" role=\"alert\">\n",
    "  <h4 class=\"alert-heading\" style=\"font-size:1em\">Aufgabe1:</h4>\n",
    "  <hr>\n",
    "\n",
    "   <h4>\n",
    "      Lade den Datensatz breast_cancer.csv und erstelle daraus ein Modell, mit dem die Diagnose vorausgesagt werden kann (M für bösartig, B für gutartig). Nutze Hyperparameteroptimierungsprozesse! Testsize=0.2\n",
    "</h4>\n",
    "</div>"
   ]
  },
  {
   "metadata": {
    "ExecuteTime": {
     "end_time": "2025-05-09T13:49:40.279941Z",
     "start_time": "2025-05-09T13:49:40.276143Z"
    }
   },
   "cell_type": "code",
   "source": [
    "# imports\n",
    "import pickle\n",
    "import matplotlib.pyplot as plt\n",
    "import numpy as np\n",
    "import pandas as pd\n",
    "import seaborn as sns\n",
    "from sklearn.model_selection import cross_val_score\n",
    "from sklearn.model_selection import train_test_split, GridSearchCV\n",
    "from sklearn.neighbors import KNeighborsClassifier"
   ],
   "outputs": [],
   "execution_count": 105
  },
  {
   "metadata": {
    "ExecuteTime": {
     "end_time": "2025-05-09T13:49:40.341602Z",
     "start_time": "2025-05-09T13:49:40.318548Z"
    }
   },
   "cell_type": "code",
   "source": [
    "# load data to df\n",
    "breast_cancer_data = pd.read_csv(\"breast_cancer.csv\")\n",
    "breast_cancer_data"
   ],
   "outputs": [
    {
     "data": {
      "text/plain": [
       "           id diagnosis  radius_mean  texture_mean  perimeter_mean  area_mean  \\\n",
       "0      842302         M        17.99         10.38          122.80     1001.0   \n",
       "1      842517         M        20.57         17.77          132.90     1326.0   \n",
       "2    84300903         M        19.69         21.25          130.00     1203.0   \n",
       "3    84348301         M        11.42         20.38           77.58      386.1   \n",
       "4    84358402         M        20.29         14.34          135.10     1297.0   \n",
       "..        ...       ...          ...           ...             ...        ...   \n",
       "564    926424         M        21.56         22.39          142.00     1479.0   \n",
       "565    926682         M        20.13         28.25          131.20     1261.0   \n",
       "566    926954         M        16.60         28.08          108.30      858.1   \n",
       "567    927241         M        20.60         29.33          140.10     1265.0   \n",
       "568     92751         B         7.76         24.54           47.92      181.0   \n",
       "\n",
       "     smoothness_mean  compactness_mean  concavity_mean  concave points_mean  \\\n",
       "0            0.11840           0.27760         0.30010              0.14710   \n",
       "1            0.08474           0.07864         0.08690              0.07017   \n",
       "2            0.10960           0.15990         0.19740              0.12790   \n",
       "3            0.14250           0.28390         0.24140              0.10520   \n",
       "4            0.10030           0.13280         0.19800              0.10430   \n",
       "..               ...               ...             ...                  ...   \n",
       "564          0.11100           0.11590         0.24390              0.13890   \n",
       "565          0.09780           0.10340         0.14400              0.09791   \n",
       "566          0.08455           0.10230         0.09251              0.05302   \n",
       "567          0.11780           0.27700         0.35140              0.15200   \n",
       "568          0.05263           0.04362         0.00000              0.00000   \n",
       "\n",
       "     ...  texture_worst  perimeter_worst  area_worst  smoothness_worst  \\\n",
       "0    ...          17.33           184.60      2019.0           0.16220   \n",
       "1    ...          23.41           158.80      1956.0           0.12380   \n",
       "2    ...          25.53           152.50      1709.0           0.14440   \n",
       "3    ...          26.50            98.87       567.7           0.20980   \n",
       "4    ...          16.67           152.20      1575.0           0.13740   \n",
       "..   ...            ...              ...         ...               ...   \n",
       "564  ...          26.40           166.10      2027.0           0.14100   \n",
       "565  ...          38.25           155.00      1731.0           0.11660   \n",
       "566  ...          34.12           126.70      1124.0           0.11390   \n",
       "567  ...          39.42           184.60      1821.0           0.16500   \n",
       "568  ...          30.37            59.16       268.6           0.08996   \n",
       "\n",
       "     compactness_worst  concavity_worst  concave points_worst  symmetry_worst  \\\n",
       "0              0.66560           0.7119                0.2654          0.4601   \n",
       "1              0.18660           0.2416                0.1860          0.2750   \n",
       "2              0.42450           0.4504                0.2430          0.3613   \n",
       "3              0.86630           0.6869                0.2575          0.6638   \n",
       "4              0.20500           0.4000                0.1625          0.2364   \n",
       "..                 ...              ...                   ...             ...   \n",
       "564            0.21130           0.4107                0.2216          0.2060   \n",
       "565            0.19220           0.3215                0.1628          0.2572   \n",
       "566            0.30940           0.3403                0.1418          0.2218   \n",
       "567            0.86810           0.9387                0.2650          0.4087   \n",
       "568            0.06444           0.0000                0.0000          0.2871   \n",
       "\n",
       "     fractal_dimension_worst  Unnamed: 32  \n",
       "0                    0.11890          NaN  \n",
       "1                    0.08902          NaN  \n",
       "2                    0.08758          NaN  \n",
       "3                    0.17300          NaN  \n",
       "4                    0.07678          NaN  \n",
       "..                       ...          ...  \n",
       "564                  0.07115          NaN  \n",
       "565                  0.06637          NaN  \n",
       "566                  0.07820          NaN  \n",
       "567                  0.12400          NaN  \n",
       "568                  0.07039          NaN  \n",
       "\n",
       "[569 rows x 33 columns]"
      ],
      "text/html": [
       "<div>\n",
       "<style scoped>\n",
       "    .dataframe tbody tr th:only-of-type {\n",
       "        vertical-align: middle;\n",
       "    }\n",
       "\n",
       "    .dataframe tbody tr th {\n",
       "        vertical-align: top;\n",
       "    }\n",
       "\n",
       "    .dataframe thead th {\n",
       "        text-align: right;\n",
       "    }\n",
       "</style>\n",
       "<table border=\"1\" class=\"dataframe\">\n",
       "  <thead>\n",
       "    <tr style=\"text-align: right;\">\n",
       "      <th></th>\n",
       "      <th>id</th>\n",
       "      <th>diagnosis</th>\n",
       "      <th>radius_mean</th>\n",
       "      <th>texture_mean</th>\n",
       "      <th>perimeter_mean</th>\n",
       "      <th>area_mean</th>\n",
       "      <th>smoothness_mean</th>\n",
       "      <th>compactness_mean</th>\n",
       "      <th>concavity_mean</th>\n",
       "      <th>concave points_mean</th>\n",
       "      <th>...</th>\n",
       "      <th>texture_worst</th>\n",
       "      <th>perimeter_worst</th>\n",
       "      <th>area_worst</th>\n",
       "      <th>smoothness_worst</th>\n",
       "      <th>compactness_worst</th>\n",
       "      <th>concavity_worst</th>\n",
       "      <th>concave points_worst</th>\n",
       "      <th>symmetry_worst</th>\n",
       "      <th>fractal_dimension_worst</th>\n",
       "      <th>Unnamed: 32</th>\n",
       "    </tr>\n",
       "  </thead>\n",
       "  <tbody>\n",
       "    <tr>\n",
       "      <th>0</th>\n",
       "      <td>842302</td>\n",
       "      <td>M</td>\n",
       "      <td>17.99</td>\n",
       "      <td>10.38</td>\n",
       "      <td>122.80</td>\n",
       "      <td>1001.0</td>\n",
       "      <td>0.11840</td>\n",
       "      <td>0.27760</td>\n",
       "      <td>0.30010</td>\n",
       "      <td>0.14710</td>\n",
       "      <td>...</td>\n",
       "      <td>17.33</td>\n",
       "      <td>184.60</td>\n",
       "      <td>2019.0</td>\n",
       "      <td>0.16220</td>\n",
       "      <td>0.66560</td>\n",
       "      <td>0.7119</td>\n",
       "      <td>0.2654</td>\n",
       "      <td>0.4601</td>\n",
       "      <td>0.11890</td>\n",
       "      <td>NaN</td>\n",
       "    </tr>\n",
       "    <tr>\n",
       "      <th>1</th>\n",
       "      <td>842517</td>\n",
       "      <td>M</td>\n",
       "      <td>20.57</td>\n",
       "      <td>17.77</td>\n",
       "      <td>132.90</td>\n",
       "      <td>1326.0</td>\n",
       "      <td>0.08474</td>\n",
       "      <td>0.07864</td>\n",
       "      <td>0.08690</td>\n",
       "      <td>0.07017</td>\n",
       "      <td>...</td>\n",
       "      <td>23.41</td>\n",
       "      <td>158.80</td>\n",
       "      <td>1956.0</td>\n",
       "      <td>0.12380</td>\n",
       "      <td>0.18660</td>\n",
       "      <td>0.2416</td>\n",
       "      <td>0.1860</td>\n",
       "      <td>0.2750</td>\n",
       "      <td>0.08902</td>\n",
       "      <td>NaN</td>\n",
       "    </tr>\n",
       "    <tr>\n",
       "      <th>2</th>\n",
       "      <td>84300903</td>\n",
       "      <td>M</td>\n",
       "      <td>19.69</td>\n",
       "      <td>21.25</td>\n",
       "      <td>130.00</td>\n",
       "      <td>1203.0</td>\n",
       "      <td>0.10960</td>\n",
       "      <td>0.15990</td>\n",
       "      <td>0.19740</td>\n",
       "      <td>0.12790</td>\n",
       "      <td>...</td>\n",
       "      <td>25.53</td>\n",
       "      <td>152.50</td>\n",
       "      <td>1709.0</td>\n",
       "      <td>0.14440</td>\n",
       "      <td>0.42450</td>\n",
       "      <td>0.4504</td>\n",
       "      <td>0.2430</td>\n",
       "      <td>0.3613</td>\n",
       "      <td>0.08758</td>\n",
       "      <td>NaN</td>\n",
       "    </tr>\n",
       "    <tr>\n",
       "      <th>3</th>\n",
       "      <td>84348301</td>\n",
       "      <td>M</td>\n",
       "      <td>11.42</td>\n",
       "      <td>20.38</td>\n",
       "      <td>77.58</td>\n",
       "      <td>386.1</td>\n",
       "      <td>0.14250</td>\n",
       "      <td>0.28390</td>\n",
       "      <td>0.24140</td>\n",
       "      <td>0.10520</td>\n",
       "      <td>...</td>\n",
       "      <td>26.50</td>\n",
       "      <td>98.87</td>\n",
       "      <td>567.7</td>\n",
       "      <td>0.20980</td>\n",
       "      <td>0.86630</td>\n",
       "      <td>0.6869</td>\n",
       "      <td>0.2575</td>\n",
       "      <td>0.6638</td>\n",
       "      <td>0.17300</td>\n",
       "      <td>NaN</td>\n",
       "    </tr>\n",
       "    <tr>\n",
       "      <th>4</th>\n",
       "      <td>84358402</td>\n",
       "      <td>M</td>\n",
       "      <td>20.29</td>\n",
       "      <td>14.34</td>\n",
       "      <td>135.10</td>\n",
       "      <td>1297.0</td>\n",
       "      <td>0.10030</td>\n",
       "      <td>0.13280</td>\n",
       "      <td>0.19800</td>\n",
       "      <td>0.10430</td>\n",
       "      <td>...</td>\n",
       "      <td>16.67</td>\n",
       "      <td>152.20</td>\n",
       "      <td>1575.0</td>\n",
       "      <td>0.13740</td>\n",
       "      <td>0.20500</td>\n",
       "      <td>0.4000</td>\n",
       "      <td>0.1625</td>\n",
       "      <td>0.2364</td>\n",
       "      <td>0.07678</td>\n",
       "      <td>NaN</td>\n",
       "    </tr>\n",
       "    <tr>\n",
       "      <th>...</th>\n",
       "      <td>...</td>\n",
       "      <td>...</td>\n",
       "      <td>...</td>\n",
       "      <td>...</td>\n",
       "      <td>...</td>\n",
       "      <td>...</td>\n",
       "      <td>...</td>\n",
       "      <td>...</td>\n",
       "      <td>...</td>\n",
       "      <td>...</td>\n",
       "      <td>...</td>\n",
       "      <td>...</td>\n",
       "      <td>...</td>\n",
       "      <td>...</td>\n",
       "      <td>...</td>\n",
       "      <td>...</td>\n",
       "      <td>...</td>\n",
       "      <td>...</td>\n",
       "      <td>...</td>\n",
       "      <td>...</td>\n",
       "      <td>...</td>\n",
       "    </tr>\n",
       "    <tr>\n",
       "      <th>564</th>\n",
       "      <td>926424</td>\n",
       "      <td>M</td>\n",
       "      <td>21.56</td>\n",
       "      <td>22.39</td>\n",
       "      <td>142.00</td>\n",
       "      <td>1479.0</td>\n",
       "      <td>0.11100</td>\n",
       "      <td>0.11590</td>\n",
       "      <td>0.24390</td>\n",
       "      <td>0.13890</td>\n",
       "      <td>...</td>\n",
       "      <td>26.40</td>\n",
       "      <td>166.10</td>\n",
       "      <td>2027.0</td>\n",
       "      <td>0.14100</td>\n",
       "      <td>0.21130</td>\n",
       "      <td>0.4107</td>\n",
       "      <td>0.2216</td>\n",
       "      <td>0.2060</td>\n",
       "      <td>0.07115</td>\n",
       "      <td>NaN</td>\n",
       "    </tr>\n",
       "    <tr>\n",
       "      <th>565</th>\n",
       "      <td>926682</td>\n",
       "      <td>M</td>\n",
       "      <td>20.13</td>\n",
       "      <td>28.25</td>\n",
       "      <td>131.20</td>\n",
       "      <td>1261.0</td>\n",
       "      <td>0.09780</td>\n",
       "      <td>0.10340</td>\n",
       "      <td>0.14400</td>\n",
       "      <td>0.09791</td>\n",
       "      <td>...</td>\n",
       "      <td>38.25</td>\n",
       "      <td>155.00</td>\n",
       "      <td>1731.0</td>\n",
       "      <td>0.11660</td>\n",
       "      <td>0.19220</td>\n",
       "      <td>0.3215</td>\n",
       "      <td>0.1628</td>\n",
       "      <td>0.2572</td>\n",
       "      <td>0.06637</td>\n",
       "      <td>NaN</td>\n",
       "    </tr>\n",
       "    <tr>\n",
       "      <th>566</th>\n",
       "      <td>926954</td>\n",
       "      <td>M</td>\n",
       "      <td>16.60</td>\n",
       "      <td>28.08</td>\n",
       "      <td>108.30</td>\n",
       "      <td>858.1</td>\n",
       "      <td>0.08455</td>\n",
       "      <td>0.10230</td>\n",
       "      <td>0.09251</td>\n",
       "      <td>0.05302</td>\n",
       "      <td>...</td>\n",
       "      <td>34.12</td>\n",
       "      <td>126.70</td>\n",
       "      <td>1124.0</td>\n",
       "      <td>0.11390</td>\n",
       "      <td>0.30940</td>\n",
       "      <td>0.3403</td>\n",
       "      <td>0.1418</td>\n",
       "      <td>0.2218</td>\n",
       "      <td>0.07820</td>\n",
       "      <td>NaN</td>\n",
       "    </tr>\n",
       "    <tr>\n",
       "      <th>567</th>\n",
       "      <td>927241</td>\n",
       "      <td>M</td>\n",
       "      <td>20.60</td>\n",
       "      <td>29.33</td>\n",
       "      <td>140.10</td>\n",
       "      <td>1265.0</td>\n",
       "      <td>0.11780</td>\n",
       "      <td>0.27700</td>\n",
       "      <td>0.35140</td>\n",
       "      <td>0.15200</td>\n",
       "      <td>...</td>\n",
       "      <td>39.42</td>\n",
       "      <td>184.60</td>\n",
       "      <td>1821.0</td>\n",
       "      <td>0.16500</td>\n",
       "      <td>0.86810</td>\n",
       "      <td>0.9387</td>\n",
       "      <td>0.2650</td>\n",
       "      <td>0.4087</td>\n",
       "      <td>0.12400</td>\n",
       "      <td>NaN</td>\n",
       "    </tr>\n",
       "    <tr>\n",
       "      <th>568</th>\n",
       "      <td>92751</td>\n",
       "      <td>B</td>\n",
       "      <td>7.76</td>\n",
       "      <td>24.54</td>\n",
       "      <td>47.92</td>\n",
       "      <td>181.0</td>\n",
       "      <td>0.05263</td>\n",
       "      <td>0.04362</td>\n",
       "      <td>0.00000</td>\n",
       "      <td>0.00000</td>\n",
       "      <td>...</td>\n",
       "      <td>30.37</td>\n",
       "      <td>59.16</td>\n",
       "      <td>268.6</td>\n",
       "      <td>0.08996</td>\n",
       "      <td>0.06444</td>\n",
       "      <td>0.0000</td>\n",
       "      <td>0.0000</td>\n",
       "      <td>0.2871</td>\n",
       "      <td>0.07039</td>\n",
       "      <td>NaN</td>\n",
       "    </tr>\n",
       "  </tbody>\n",
       "</table>\n",
       "<p>569 rows × 33 columns</p>\n",
       "</div>"
      ]
     },
     "execution_count": 106,
     "metadata": {},
     "output_type": "execute_result"
    }
   ],
   "execution_count": 106
  },
  {
   "metadata": {
    "ExecuteTime": {
     "end_time": "2025-05-09T13:49:40.423782Z",
     "start_time": "2025-05-09T13:49:40.416773Z"
    }
   },
   "cell_type": "code",
   "source": [
    "# searching for NaN\n",
    "breast_cancer_data.isna().sum()"
   ],
   "outputs": [
    {
     "data": {
      "text/plain": [
       "id                           0\n",
       "diagnosis                    0\n",
       "radius_mean                  0\n",
       "texture_mean                 0\n",
       "perimeter_mean               0\n",
       "area_mean                    0\n",
       "smoothness_mean              0\n",
       "compactness_mean             0\n",
       "concavity_mean               0\n",
       "concave points_mean          0\n",
       "symmetry_mean                0\n",
       "fractal_dimension_mean       0\n",
       "radius_se                    0\n",
       "texture_se                   0\n",
       "perimeter_se                 0\n",
       "area_se                      0\n",
       "smoothness_se                0\n",
       "compactness_se               0\n",
       "concavity_se                 0\n",
       "concave points_se            0\n",
       "symmetry_se                  0\n",
       "fractal_dimension_se         0\n",
       "radius_worst                 0\n",
       "texture_worst                0\n",
       "perimeter_worst              0\n",
       "area_worst                   0\n",
       "smoothness_worst             0\n",
       "compactness_worst            0\n",
       "concavity_worst              0\n",
       "concave points_worst         0\n",
       "symmetry_worst               0\n",
       "fractal_dimension_worst      0\n",
       "Unnamed: 32                569\n",
       "dtype: int64"
      ]
     },
     "execution_count": 107,
     "metadata": {},
     "output_type": "execute_result"
    }
   ],
   "execution_count": 107
  },
  {
   "metadata": {
    "ExecuteTime": {
     "end_time": "2025-05-09T13:49:40.519231Z",
     "start_time": "2025-05-09T13:49:40.514853Z"
    }
   },
   "cell_type": "code",
   "source": [
    "# drop NaN's\n",
    "breast_cancer_data.drop([\"Unnamed: 32\", \"id\"], axis=1, inplace=True)"
   ],
   "outputs": [],
   "execution_count": 108
  },
  {
   "metadata": {
    "ExecuteTime": {
     "end_time": "2025-05-09T13:49:40.814997Z",
     "start_time": "2025-05-09T13:49:40.806105Z"
    }
   },
   "cell_type": "code",
   "source": [
    "# searching for NaN\n",
    "breast_cancer_data.isna().sum()"
   ],
   "outputs": [
    {
     "data": {
      "text/plain": [
       "diagnosis                  0\n",
       "radius_mean                0\n",
       "texture_mean               0\n",
       "perimeter_mean             0\n",
       "area_mean                  0\n",
       "smoothness_mean            0\n",
       "compactness_mean           0\n",
       "concavity_mean             0\n",
       "concave points_mean        0\n",
       "symmetry_mean              0\n",
       "fractal_dimension_mean     0\n",
       "radius_se                  0\n",
       "texture_se                 0\n",
       "perimeter_se               0\n",
       "area_se                    0\n",
       "smoothness_se              0\n",
       "compactness_se             0\n",
       "concavity_se               0\n",
       "concave points_se          0\n",
       "symmetry_se                0\n",
       "fractal_dimension_se       0\n",
       "radius_worst               0\n",
       "texture_worst              0\n",
       "perimeter_worst            0\n",
       "area_worst                 0\n",
       "smoothness_worst           0\n",
       "compactness_worst          0\n",
       "concavity_worst            0\n",
       "concave points_worst       0\n",
       "symmetry_worst             0\n",
       "fractal_dimension_worst    0\n",
       "dtype: int64"
      ]
     },
     "execution_count": 109,
     "metadata": {},
     "output_type": "execute_result"
    }
   ],
   "execution_count": 109
  },
  {
   "metadata": {
    "ExecuteTime": {
     "end_time": "2025-05-09T13:49:40.955774Z",
     "start_time": "2025-05-09T13:49:40.951520Z"
    }
   },
   "cell_type": "code",
   "source": [
    "# defining X & y\n",
    "X = breast_cancer_data.select_dtypes(\"number\")\n",
    "y = breast_cancer_data[\"diagnosis\"]"
   ],
   "outputs": [],
   "execution_count": 110
  },
  {
   "metadata": {
    "ExecuteTime": {
     "end_time": "2025-05-09T13:49:41.113650Z",
     "start_time": "2025-05-09T13:49:41.104519Z"
    }
   },
   "cell_type": "code",
   "source": [
    "# train test split\n",
    "X_train, X_test, y_train, y_test = train_test_split(X,\n",
    "\t\t\t\t\t\t\t\t\t\t\t\t\ty,\n",
    "\t\t\t\t\t\t\t\t\t\t\t\t\ttest_size=0.2,\n",
    "\t\t\t\t\t\t\t\t\t\t\t\t\trandom_state=42,\n",
    "\t\t\t\t\t\t\t\t\t\t\t\t\tstratify=y\n",
    "\t\t\t\t\t\t\t\t\t\t\t\t\t)"
   ],
   "outputs": [],
   "execution_count": 111
  },
  {
   "metadata": {
    "ExecuteTime": {
     "end_time": "2025-05-09T13:49:41.233784Z",
     "start_time": "2025-05-09T13:49:41.224854Z"
    }
   },
   "cell_type": "code",
   "source": [
    "# distribution \"diagnosis\"\n",
    "breast_cancer_data[\"diagnosis\"].value_counts(normalize=True)"
   ],
   "outputs": [
    {
     "data": {
      "text/plain": [
       "diagnosis\n",
       "B    0.627417\n",
       "M    0.372583\n",
       "Name: proportion, dtype: float64"
      ]
     },
     "execution_count": 112,
     "metadata": {},
     "output_type": "execute_result"
    }
   ],
   "execution_count": 112
  },
  {
   "metadata": {
    "ExecuteTime": {
     "end_time": "2025-05-09T13:49:41.333502Z",
     "start_time": "2025-05-09T13:49:41.325501Z"
    }
   },
   "cell_type": "code",
   "source": [
    "# distribution \"diagnosis\" compare to y_train\n",
    "y_train.value_counts(normalize=True)"
   ],
   "outputs": [
    {
     "data": {
      "text/plain": [
       "diagnosis\n",
       "B    0.626374\n",
       "M    0.373626\n",
       "Name: proportion, dtype: float64"
      ]
     },
     "execution_count": 113,
     "metadata": {},
     "output_type": "execute_result"
    }
   ],
   "execution_count": 113
  },
  {
   "metadata": {
    "ExecuteTime": {
     "end_time": "2025-05-09T13:49:41.554906Z",
     "start_time": "2025-05-09T13:49:41.545346Z"
    }
   },
   "cell_type": "code",
   "source": [
    "# distribution \"diagnosis\" compare to y_test\n",
    "y_test.value_counts(normalize=True)"
   ],
   "outputs": [
    {
     "data": {
      "text/plain": [
       "diagnosis\n",
       "B    0.631579\n",
       "M    0.368421\n",
       "Name: proportion, dtype: float64"
      ]
     },
     "execution_count": 114,
     "metadata": {},
     "output_type": "execute_result"
    }
   ],
   "execution_count": 114
  },
  {
   "metadata": {
    "ExecuteTime": {
     "end_time": "2025-05-09T13:49:41.751296Z",
     "start_time": "2025-05-09T13:49:41.747187Z"
    }
   },
   "cell_type": "code",
   "source": [
    "# knn\n",
    "knn = KNeighborsClassifier()"
   ],
   "outputs": [],
   "execution_count": 115
  },
  {
   "metadata": {
    "ExecuteTime": {
     "end_time": "2025-05-09T13:49:42.017916Z",
     "start_time": "2025-05-09T13:49:41.920741Z"
    }
   },
   "cell_type": "code",
   "source": [
    "# crossvalidation\n",
    "knn_cv = cross_val_score(\n",
    "\tknn,\n",
    "\tX_train,\n",
    "\ty_train,\n",
    "\tcv=5,\n",
    "\tscoring=\"accuracy\",\n",
    "\tverbose=3\n",
    ")"
   ],
   "outputs": [
    {
     "name": "stdout",
     "output_type": "stream",
     "text": [
      "[CV] END ................................ score: (test=0.945) total time=   0.0s\n",
      "[CV] END ................................ score: (test=0.945) total time=   0.0s\n",
      "[CV] END ................................ score: (test=0.934) total time=   0.0s\n",
      "[CV] END ................................ score: (test=0.901) total time=   0.0s\n",
      "[CV] END ................................ score: (test=0.846) total time=   0.0s\n"
     ]
    }
   ],
   "execution_count": 116
  },
  {
   "metadata": {
    "ExecuteTime": {
     "end_time": "2025-05-09T13:49:42.129243Z",
     "start_time": "2025-05-09T13:49:42.119892Z"
    }
   },
   "cell_type": "code",
   "source": [
    "# knn_cv\n",
    "knn_cv"
   ],
   "outputs": [
    {
     "data": {
      "text/plain": [
       "array([0.94505495, 0.94505495, 0.93406593, 0.9010989 , 0.84615385])"
      ]
     },
     "execution_count": 117,
     "metadata": {},
     "output_type": "execute_result"
    }
   ],
   "execution_count": 117
  },
  {
   "metadata": {
    "ExecuteTime": {
     "end_time": "2025-05-09T13:49:42.222019Z",
     "start_time": "2025-05-09T13:49:42.218242Z"
    }
   },
   "cell_type": "code",
   "source": [
    "# mean accuracy for 5 folds\n",
    "knn_cv_mean = knn_cv.mean()\n",
    "print(f\"Mean accuracy for 5 folds: {knn_cv_mean:.3f}\")"
   ],
   "outputs": [
    {
     "name": "stdout",
     "output_type": "stream",
     "text": [
      "Mean accuracy for 5 folds: 0.914\n"
     ]
    }
   ],
   "execution_count": 118
  },
  {
   "metadata": {
    "ExecuteTime": {
     "end_time": "2025-05-09T13:49:44.153172Z",
     "start_time": "2025-05-09T13:49:42.289719Z"
    }
   },
   "cell_type": "code",
   "source": [
    "# prepare model, compare error_rates & cv\n",
    "# counting trainings\n",
    "error_rates = []\n",
    "trainings = 0\n",
    "\n",
    "for i in range(1, 31):\n",
    "\tknn = KNeighborsClassifier(i)\n",
    "\tknn_cv = cross_val_score(knn, X_train, y_train, cv=5,\n",
    "\t\t\t\t\t\t\t scoring=\"accuracy\", verbose=3)\n",
    "\terror_rate = 1 - knn_cv.mean()\n",
    "\terror_rates.append(error_rate)\n",
    "\ttrainings += len(knn_cv)"
   ],
   "outputs": [
    {
     "name": "stdout",
     "output_type": "stream",
     "text": [
      "[CV] END ................................ score: (test=0.923) total time=   0.0s\n",
      "[CV] END ................................ score: (test=0.956) total time=   0.0s\n",
      "[CV] END ................................ score: (test=0.934) total time=   0.0s\n",
      "[CV] END ................................ score: (test=0.890) total time=   0.0s\n",
      "[CV] END ................................ score: (test=0.868) total time=   0.0s\n",
      "[CV] END ................................ score: (test=0.934) total time=   0.0s\n",
      "[CV] END ................................ score: (test=0.934) total time=   0.0s\n",
      "[CV] END ................................ score: (test=0.912) total time=   0.0s\n",
      "[CV] END ................................ score: (test=0.923) total time=   0.0s\n",
      "[CV] END ................................ score: (test=0.868) total time=   0.0s\n",
      "[CV] END ................................ score: (test=0.945) total time=   0.0s\n",
      "[CV] END ................................ score: (test=0.956) total time=   0.0s\n",
      "[CV] END ................................ score: (test=0.945) total time=   0.0s\n",
      "[CV] END ................................ score: (test=0.879) total time=   0.0s\n",
      "[CV] END ................................ score: (test=0.879) total time=   0.0s\n",
      "[CV] END ................................ score: (test=0.945) total time=   0.0s\n",
      "[CV] END ................................ score: (test=0.934) total time=   0.0s\n",
      "[CV] END ................................ score: (test=0.934) total time=   0.0s\n",
      "[CV] END ................................ score: (test=0.912) total time=   0.0s\n",
      "[CV] END ................................ score: (test=0.857) total time=   0.0s\n",
      "[CV] END ................................ score: (test=0.945) total time=   0.0s\n",
      "[CV] END ................................ score: (test=0.945) total time=   0.0s\n",
      "[CV] END ................................ score: (test=0.934) total time=   0.0s\n",
      "[CV] END ................................ score: (test=0.901) total time=   0.0s\n",
      "[CV] END ................................ score: (test=0.846) total time=   0.0s\n",
      "[CV] END ................................ score: (test=0.945) total time=   0.0s\n",
      "[CV] END ................................ score: (test=0.945) total time=   0.0s\n",
      "[CV] END ................................ score: (test=0.945) total time=   0.0s\n",
      "[CV] END ................................ score: (test=0.912) total time=   0.0s\n",
      "[CV] END ................................ score: (test=0.857) total time=   0.0s\n",
      "[CV] END ................................ score: (test=0.945) total time=   0.0s\n",
      "[CV] END ................................ score: (test=0.945) total time=   0.0s\n",
      "[CV] END ................................ score: (test=0.945) total time=   0.0s\n",
      "[CV] END ................................ score: (test=0.923) total time=   0.0s\n",
      "[CV] END ................................ score: (test=0.857) total time=   0.0s\n",
      "[CV] END ................................ score: (test=0.945) total time=   0.0s\n",
      "[CV] END ................................ score: (test=0.945) total time=   0.0s\n",
      "[CV] END ................................ score: (test=0.956) total time=   0.0s\n",
      "[CV] END ................................ score: (test=0.923) total time=   0.0s\n",
      "[CV] END ................................ score: (test=0.846) total time=   0.0s\n",
      "[CV] END ................................ score: (test=0.945) total time=   0.0s\n",
      "[CV] END ................................ score: (test=0.945) total time=   0.0s\n",
      "[CV] END ................................ score: (test=0.934) total time=   0.0s\n",
      "[CV] END ................................ score: (test=0.923) total time=   0.0s\n",
      "[CV] END ................................ score: (test=0.868) total time=   0.0s\n",
      "[CV] END ................................ score: (test=0.945) total time=   0.0s\n",
      "[CV] END ................................ score: (test=0.945) total time=   0.0s\n",
      "[CV] END ................................ score: (test=0.934) total time=   0.0s\n",
      "[CV] END ................................ score: (test=0.923) total time=   0.0s\n",
      "[CV] END ................................ score: (test=0.857) total time=   0.0s\n",
      "[CV] END ................................ score: (test=0.945) total time=   0.0s\n",
      "[CV] END ................................ score: (test=0.945) total time=   0.0s\n",
      "[CV] END ................................ score: (test=0.934) total time=   0.0s\n",
      "[CV] END ................................ score: (test=0.923) total time=   0.0s\n",
      "[CV] END ................................ score: (test=0.879) total time=   0.0s\n",
      "[CV] END ................................ score: (test=0.945) total time=   0.0s\n",
      "[CV] END ................................ score: (test=0.945) total time=   0.0s\n",
      "[CV] END ................................ score: (test=0.901) total time=   0.0s\n",
      "[CV] END ................................ score: (test=0.912) total time=   0.0s\n",
      "[CV] END ................................ score: (test=0.890) total time=   0.0s\n",
      "[CV] END ................................ score: (test=0.945) total time=   0.0s\n",
      "[CV] END ................................ score: (test=0.945) total time=   0.0s\n",
      "[CV] END ................................ score: (test=0.923) total time=   0.0s\n",
      "[CV] END ................................ score: (test=0.923) total time=   0.0s\n",
      "[CV] END ................................ score: (test=0.890) total time=   0.0s\n",
      "[CV] END ................................ score: (test=0.945) total time=   0.0s\n",
      "[CV] END ................................ score: (test=0.956) total time=   0.0s\n",
      "[CV] END ................................ score: (test=0.923) total time=   0.0s\n",
      "[CV] END ................................ score: (test=0.923) total time=   0.0s\n",
      "[CV] END ................................ score: (test=0.890) total time=   0.0s\n",
      "[CV] END ................................ score: (test=0.945) total time=   0.0s\n",
      "[CV] END ................................ score: (test=0.956) total time=   0.0s\n",
      "[CV] END ................................ score: (test=0.923) total time=   0.0s\n",
      "[CV] END ................................ score: (test=0.923) total time=   0.0s\n",
      "[CV] END ................................ score: (test=0.890) total time=   0.0s\n",
      "[CV] END ................................ score: (test=0.945) total time=   0.0s\n",
      "[CV] END ................................ score: (test=0.956) total time=   0.0s\n",
      "[CV] END ................................ score: (test=0.901) total time=   0.0s\n",
      "[CV] END ................................ score: (test=0.912) total time=   0.0s\n",
      "[CV] END ................................ score: (test=0.890) total time=   0.0s\n",
      "[CV] END ................................ score: (test=0.945) total time=   0.0s\n",
      "[CV] END ................................ score: (test=0.967) total time=   0.0s\n",
      "[CV] END ................................ score: (test=0.912) total time=   0.0s\n",
      "[CV] END ................................ score: (test=0.912) total time=   0.0s\n",
      "[CV] END ................................ score: (test=0.890) total time=   0.0s\n",
      "[CV] END ................................ score: (test=0.945) total time=   0.0s\n",
      "[CV] END ................................ score: (test=0.967) total time=   0.0s\n",
      "[CV] END ................................ score: (test=0.912) total time=   0.0s\n",
      "[CV] END ................................ score: (test=0.912) total time=   0.0s\n",
      "[CV] END ................................ score: (test=0.879) total time=   0.0s\n",
      "[CV] END ................................ score: (test=0.945) total time=   0.0s\n",
      "[CV] END ................................ score: (test=0.967) total time=   0.0s\n",
      "[CV] END ................................ score: (test=0.912) total time=   0.0s\n",
      "[CV] END ................................ score: (test=0.912) total time=   0.0s\n",
      "[CV] END ................................ score: (test=0.879) total time=   0.0s\n",
      "[CV] END ................................ score: (test=0.945) total time=   0.0s\n",
      "[CV] END ................................ score: (test=0.956) total time=   0.0s\n",
      "[CV] END ................................ score: (test=0.901) total time=   0.0s\n",
      "[CV] END ................................ score: (test=0.901) total time=   0.0s\n",
      "[CV] END ................................ score: (test=0.879) total time=   0.0s\n",
      "[CV] END ................................ score: (test=0.945) total time=   0.0s\n",
      "[CV] END ................................ score: (test=0.967) total time=   0.0s\n",
      "[CV] END ................................ score: (test=0.901) total time=   0.0s\n",
      "[CV] END ................................ score: (test=0.901) total time=   0.0s\n",
      "[CV] END ................................ score: (test=0.890) total time=   0.0s\n",
      "[CV] END ................................ score: (test=0.945) total time=   0.0s\n",
      "[CV] END ................................ score: (test=0.967) total time=   0.0s\n",
      "[CV] END ................................ score: (test=0.901) total time=   0.0s\n",
      "[CV] END ................................ score: (test=0.912) total time=   0.0s\n",
      "[CV] END ................................ score: (test=0.868) total time=   0.0s\n",
      "[CV] END ................................ score: (test=0.945) total time=   0.0s\n",
      "[CV] END ................................ score: (test=0.967) total time=   0.0s\n",
      "[CV] END ................................ score: (test=0.901) total time=   0.0s\n",
      "[CV] END ................................ score: (test=0.912) total time=   0.0s\n",
      "[CV] END ................................ score: (test=0.868) total time=   0.0s\n",
      "[CV] END ................................ score: (test=0.934) total time=   0.0s\n",
      "[CV] END ................................ score: (test=0.956) total time=   0.0s\n",
      "[CV] END ................................ score: (test=0.901) total time=   0.0s\n",
      "[CV] END ................................ score: (test=0.912) total time=   0.0s\n",
      "[CV] END ................................ score: (test=0.868) total time=   0.0s\n",
      "[CV] END ................................ score: (test=0.934) total time=   0.0s\n",
      "[CV] END ................................ score: (test=0.956) total time=   0.0s\n",
      "[CV] END ................................ score: (test=0.901) total time=   0.0s\n",
      "[CV] END ................................ score: (test=0.912) total time=   0.0s\n",
      "[CV] END ................................ score: (test=0.879) total time=   0.0s\n",
      "[CV] END ................................ score: (test=0.934) total time=   0.0s\n",
      "[CV] END ................................ score: (test=0.956) total time=   0.0s\n",
      "[CV] END ................................ score: (test=0.901) total time=   0.0s\n",
      "[CV] END ................................ score: (test=0.912) total time=   0.0s\n",
      "[CV] END ................................ score: (test=0.868) total time=   0.0s\n",
      "[CV] END ................................ score: (test=0.934) total time=   0.0s\n",
      "[CV] END ................................ score: (test=0.956) total time=   0.0s\n",
      "[CV] END ................................ score: (test=0.901) total time=   0.0s\n",
      "[CV] END ................................ score: (test=0.912) total time=   0.0s\n",
      "[CV] END ................................ score: (test=0.868) total time=   0.0s\n",
      "[CV] END ................................ score: (test=0.923) total time=   0.0s\n",
      "[CV] END ................................ score: (test=0.956) total time=   0.0s\n",
      "[CV] END ................................ score: (test=0.901) total time=   0.0s\n",
      "[CV] END ................................ score: (test=0.912) total time=   0.0s\n",
      "[CV] END ................................ score: (test=0.879) total time=   0.0s\n",
      "[CV] END ................................ score: (test=0.934) total time=   0.0s\n",
      "[CV] END ................................ score: (test=0.956) total time=   0.0s\n",
      "[CV] END ................................ score: (test=0.901) total time=   0.0s\n",
      "[CV] END ................................ score: (test=0.912) total time=   0.0s\n",
      "[CV] END ................................ score: (test=0.868) total time=   0.0s\n",
      "[CV] END ................................ score: (test=0.923) total time=   0.0s\n",
      "[CV] END ................................ score: (test=0.956) total time=   0.0s\n",
      "[CV] END ................................ score: (test=0.901) total time=   0.0s\n",
      "[CV] END ................................ score: (test=0.912) total time=   0.0s\n",
      "[CV] END ................................ score: (test=0.868) total time=   0.0s\n"
     ]
    }
   ],
   "execution_count": 119
  },
  {
   "metadata": {
    "ExecuteTime": {
     "end_time": "2025-05-09T13:49:44.202792Z",
     "start_time": "2025-05-09T13:49:44.196317Z"
    }
   },
   "cell_type": "code",
   "source": [
    "# error_rates\n",
    "error_rates"
   ],
   "outputs": [
    {
     "data": {
      "text/plain": [
       "[np.float64(0.08571428571428574),\n",
       " np.float64(0.08571428571428574),\n",
       " np.float64(0.07912087912087917),\n",
       " np.float64(0.08351648351648355),\n",
       " np.float64(0.08571428571428574),\n",
       " np.float64(0.07912087912087917),\n",
       " np.float64(0.07692307692307698),\n",
       " np.float64(0.07692307692307698),\n",
       " np.float64(0.07692307692307698),\n",
       " np.float64(0.07912087912087917),\n",
       " np.float64(0.07472527472527479),\n",
       " np.float64(0.08131868131868136),\n",
       " np.float64(0.07472527472527479),\n",
       " np.float64(0.0725274725274726),\n",
       " np.float64(0.0725274725274726),\n",
       " np.float64(0.07912087912087917),\n",
       " np.float64(0.07472527472527479),\n",
       " np.float64(0.07692307692307698),\n",
       " np.float64(0.07692307692307698),\n",
       " np.float64(0.08351648351648355),\n",
       " np.float64(0.07912087912087917),\n",
       " np.float64(0.08131868131868136),\n",
       " np.float64(0.08131868131868136),\n",
       " np.float64(0.08571428571428574),\n",
       " np.float64(0.08351648351648355),\n",
       " np.float64(0.08571428571428574),\n",
       " np.float64(0.08571428571428574),\n",
       " np.float64(0.08571428571428574),\n",
       " np.float64(0.08571428571428574),\n",
       " np.float64(0.08791208791208793)]"
      ]
     },
     "execution_count": 120,
     "metadata": {},
     "output_type": "execute_result"
    }
   ],
   "execution_count": 120
  },
  {
   "metadata": {
    "ExecuteTime": {
     "end_time": "2025-05-09T13:49:44.378576Z",
     "start_time": "2025-05-09T13:49:44.244506Z"
    }
   },
   "cell_type": "code",
   "source": [
    "# plotting error_rates\n",
    "sns.lineplot(x=range(1, 31), y=error_rates, marker='o')\n",
    "plt.xticks(range(31))\n",
    "plt.title('Error Rate KNN -> k')\n",
    "plt.xlabel('k Values')\n",
    "plt.ylabel('Error Rate');"
   ],
   "outputs": [
    {
     "data": {
      "text/plain": [
       "<Figure size 640x480 with 1 Axes>"
      ],
      "image/png": "[encoded data removed]"
     },
     "metadata": {},
     "output_type": "display_data"
    }
   ],
   "execution_count": 121
  },
  {
   "metadata": {
    "ExecuteTime": {
     "end_time": "2025-05-09T13:49:44.412978Z",
     "start_time": "2025-05-09T13:49:44.409377Z"
    }
   },
   "cell_type": "code",
   "source": [
    "# min error_rate\n",
    "min_error = min(error_rates)\n",
    "print(f\"Min error_rate: {min_error:.3f}\")"
   ],
   "outputs": [
    {
     "name": "stdout",
     "output_type": "stream",
     "text": [
      "Min error_rate: 0.073\n"
     ]
    }
   ],
   "execution_count": 122
  },
  {
   "metadata": {
    "ExecuteTime": {
     "end_time": "2025-05-09T13:49:44.459927Z",
     "start_time": "2025-05-09T13:49:44.453169Z"
    }
   },
   "cell_type": "code",
   "source": [
    "# best k for min error rate\n",
    "best_k = error_rates.index(min_error) + 1\n",
    "print(f\"Best k with min error rate ({min_error:.3f}) is k-Nr.: {best_k}\")"
   ],
   "outputs": [
    {
     "name": "stdout",
     "output_type": "stream",
     "text": [
      "Best k with min error rate (0.073) is k-Nr.: 14\n"
     ]
    }
   ],
   "execution_count": 123
  },
  {
   "metadata": {
    "ExecuteTime": {
     "end_time": "2025-05-09T13:49:44.505579Z",
     "start_time": "2025-05-09T13:49:44.500566Z"
    }
   },
   "cell_type": "code",
   "source": [
    "# hyperparams\n",
    "new_knn = KNeighborsClassifier()\n",
    "new_knn.get_params()"
   ],
   "outputs": [
    {
     "data": {
      "text/plain": [
       "{'algorithm': 'auto',\n",
       " 'leaf_size': 30,\n",
       " 'metric': 'minkowski',\n",
       " 'metric_params': None,\n",
       " 'n_jobs': None,\n",
       " 'n_neighbors': 5,\n",
       " 'p': 2,\n",
       " 'weights': 'uniform'}"
      ]
     },
     "execution_count": 124,
     "metadata": {},
     "output_type": "execute_result"
    }
   ],
   "execution_count": 124
  },
  {
   "metadata": {
    "ExecuteTime": {
     "end_time": "2025-05-09T13:49:44.549628Z",
     "start_time": "2025-05-09T13:49:44.546124Z"
    }
   },
   "cell_type": "code",
   "source": [
    "# defining params\n",
    "new_knn_range = np.arange(1, 31)\n",
    "grid_params = {'n_neighbors': new_knn_range,\n",
    "\t\t\t   'weights': ['uniform', 'distance'],\n",
    "\t\t\t   'metric': ['euclidean', 'manhattan']}"
   ],
   "outputs": [],
   "execution_count": 125
  },
  {
   "metadata": {
    "ExecuteTime": {
     "end_time": "2025-05-09T13:49:50.458704Z",
     "start_time": "2025-05-09T13:49:44.586817Z"
    }
   },
   "cell_type": "code",
   "source": [
    "# grid search\n",
    "grid = GridSearchCV(new_knn, grid_params, verbose=1, cv=5)\n",
    "grid_results = grid.fit(X_train, y_train)"
   ],
   "outputs": [
    {
     "name": "stdout",
     "output_type": "stream",
     "text": [
      "Fitting 5 folds for each of 120 candidates, totalling 600 fits\n"
     ]
    }
   ],
   "execution_count": 126
  },
  {
   "metadata": {
    "ExecuteTime": {
     "end_time": "2025-05-09T13:49:50.508667Z",
     "start_time": "2025-05-09T13:49:50.502914Z"
    }
   },
   "cell_type": "code",
   "source": [
    "# best result out of 120 runs\n",
    "print(f\"Best result out of 120 runs: {grid_results.best_score_:.3f}\")\n",
    "print(f\"For compare the accuracy: {1 - min_error:.3f}\")"
   ],
   "outputs": [
    {
     "name": "stdout",
     "output_type": "stream",
     "text": [
      "Best result out of 120 runs: 0.932\n",
      "For compare the accuracy: 0.927\n"
     ]
    }
   ],
   "execution_count": 127
  },
  {
   "metadata": {
    "ExecuteTime": {
     "end_time": "2025-05-09T13:49:50.573867Z",
     "start_time": "2025-05-09T13:49:50.569954Z"
    }
   },
   "cell_type": "code",
   "source": [
    "# best params\n",
    "print(f\"Best params: {grid_results.best_params_}\")"
   ],
   "outputs": [
    {
     "name": "stdout",
     "output_type": "stream",
     "text": [
      "Best params: {'metric': 'manhattan', 'n_neighbors': np.int64(11), 'weights': 'distance'}\n"
     ]
    }
   ],
   "execution_count": 128
  },
  {
   "metadata": {
    "ExecuteTime": {
     "end_time": "2025-05-09T13:49:50.655427Z",
     "start_time": "2025-05-09T13:49:50.635697Z"
    }
   },
   "cell_type": "code",
   "source": [
    "# final model\n",
    "best_params = grid_results.best_params_\n",
    "final_knn = KNeighborsClassifier(**best_params)\n",
    "final_knn.fit(X_train, y_train)\n",
    "final_knn.score(X_test, y_test)"
   ],
   "outputs": [
    {
     "data": {
      "text/plain": [
       "0.9210526315789473"
      ]
     },
     "execution_count": 129,
     "metadata": {},
     "output_type": "execute_result"
    }
   ],
   "execution_count": 129
  },
  {
   "metadata": {
    "ExecuteTime": {
     "end_time": "2025-05-09T13:49:50.704834Z",
     "start_time": "2025-05-09T13:49:50.699324Z"
    }
   },
   "cell_type": "code",
   "source": [
    "# save model\n",
    "with open(\"breast_cancer_diagnosis_model.pkl\", \"wb\") as f:\n",
    "\tpickle.dump(final_knn, f)"
   ],
   "outputs": [],
   "execution_count": 130
  },
  {
   "metadata": {
    "ExecuteTime": {
     "end_time": "2025-05-09T13:49:50.766692Z",
     "start_time": "2025-05-09T13:49:50.762927Z"
    }
   },
   "cell_type": "code",
   "source": [
    "# load model\n",
    "bc_diagnosis_model = pickle.load(open(\"breast_cancer_diagnosis_model.pkl\", \"rb\"))"
   ],
   "outputs": [],
   "execution_count": 131
  },
  {
   "metadata": {
    "ExecuteTime": {
     "end_time": "2025-05-09T13:49:50.818277Z",
     "start_time": "2025-05-09T13:49:50.802677Z"
    }
   },
   "cell_type": "code",
   "source": [
    "# X test predictions\n",
    "pred_results = bc_diagnosis_model.predict(X_test)\n",
    "print(f\"Predictions: {pred_results}\")"
   ],
   "outputs": [
    {
     "name": "stdout",
     "output_type": "stream",
     "text": [
      "Predictions: ['B' 'M' 'B' 'B' 'B' 'B' 'B' 'B' 'B' 'B' 'B' 'B' 'M' 'B' 'B' 'B' 'M' 'B'\n",
      " 'B' 'B' 'B' 'B' 'M' 'M' 'B' 'B' 'B' 'M' 'M' 'M' 'M' 'B' 'M' 'M' 'B' 'B'\n",
      " 'B' 'B' 'M' 'B' 'B' 'B' 'B' 'B' 'B' 'M' 'B' 'M' 'B' 'B' 'M' 'M' 'B' 'B'\n",
      " 'B' 'M' 'B' 'B' 'B' 'M' 'B' 'B' 'B' 'B' 'B' 'B' 'M' 'M' 'B' 'M' 'B' 'M'\n",
      " 'M' 'B' 'B' 'B' 'B' 'M' 'B' 'M' 'B' 'M' 'B' 'B' 'B' 'B' 'M' 'B' 'M' 'B'\n",
      " 'M' 'B' 'B' 'B' 'B' 'B' 'B' 'B' 'B' 'B' 'B' 'B' 'B' 'B' 'B' 'B' 'M' 'B'\n",
      " 'M' 'B' 'B' 'B' 'M' 'M']\n"
     ]
    }
   ],
   "execution_count": 132
  }
 ],
 "metadata": {
  "kernelspec": {
   "display_name": "Python 3",
   "language": "python",
   "name": "python3"
  },
  "language_info": {
   "codemirror_mode": {
    "name": "ipython",
    "version": 2
   },
   "file_extension": ".py",
   "mimetype": "text/x-python",
   "name": "python",
   "nbconvert_exporter": "python",
   "pygments_lexer": "ipython2",
   "version": "2.7.6"
  }
 },
 "nbformat": 4,
 "nbformat_minor": 0
}
