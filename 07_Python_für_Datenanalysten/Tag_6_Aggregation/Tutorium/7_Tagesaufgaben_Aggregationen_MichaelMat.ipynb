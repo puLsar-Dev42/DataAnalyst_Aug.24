{
 "cells": [
  {
   "metadata": {},
   "cell_type": "markdown",
   "source": [
    "<br><br><center><h1 style=\"font-size:2em;color:#2467C0\">Tagesaufgaben: Pandas Aggregationen</h1></center>\n",
    "<br>"
   ],
   "id": "6508f7e55d7d65a3"
  },
  {
   "cell_type": "code",
   "id": "initial_id",
   "metadata": {
    "collapsed": true,
    "ExecuteTime": {
     "end_time": "2024-11-18T12:19:24.468099Z",
     "start_time": "2024-11-18T12:19:24.463263Z"
    }
   },
   "source": [
    "# Importiere, was du so fürs Leben brauchst ;)\n",
    "import numpy as np\n",
    "import pandas as pd"
   ],
   "outputs": [],
   "execution_count": 1
  },
  {
   "cell_type": "markdown",
   "source": [
    "Aufgabe 1:\n",
    "Verwende den Datensatz \"Data Science Salaries 2024\" von gestern weiter, lade ihn mit Pandas und speichere das Ergebnis in die Variabel salaries."
   ],
   "metadata": {
    "collapsed": false
   },
   "id": "5f917597a84470aa"
  },
  {
   "cell_type": "code",
   "source": [
    "salaries = pd.read_csv('data_science_salaries.csv')\n",
    "salaries"
   ],
   "metadata": {
    "collapsed": false,
    "ExecuteTime": {
     "end_time": "2024-11-18T13:56:25.574304Z",
     "start_time": "2024-11-18T13:56:25.548549Z"
    }
   },
   "id": "da06a5f17f95c6e1",
   "outputs": [
    {
     "data": {
      "text/plain": [
       "                     job_title experience_level employment_type work_models  \\\n",
       "0                Data Engineer        Mid-level       Full-time      Remote   \n",
       "1                Data Engineer        Mid-level       Full-time      Remote   \n",
       "2               Data Scientist     Senior-level       Full-time      Remote   \n",
       "3               Data Scientist     Senior-level       Full-time      Remote   \n",
       "4                 BI Developer        Mid-level       Full-time     On-site   \n",
       "...                        ...              ...             ...         ...   \n",
       "6594        Staff Data Analyst      Entry-level        Contract      Hybrid   \n",
       "6595        Staff Data Analyst  Executive-level       Full-time     On-site   \n",
       "6596  Machine Learning Manager     Senior-level       Full-time      Hybrid   \n",
       "6597             Data Engineer        Mid-level       Full-time      Hybrid   \n",
       "6598            Data Scientist     Senior-level       Full-time     On-site   \n",
       "\n",
       "      work_year employee_residence  salary salary_currency  salary_in_usd  \\\n",
       "0          2024      United States  148100             USD         148100   \n",
       "1          2024      United States   98700             USD          98700   \n",
       "2          2024      United States  140032             USD         140032   \n",
       "3          2024      United States  100022             USD         100022   \n",
       "4          2024      United States  120000             USD         120000   \n",
       "...         ...                ...     ...             ...            ...   \n",
       "6594       2020             Canada   60000             CAD          44753   \n",
       "6595       2020            Nigeria   15000             USD          15000   \n",
       "6596       2020             Canada  157000             CAD         117104   \n",
       "6597       2020            Austria   65000             EUR          74130   \n",
       "6598       2020            Austria   80000             EUR          91237   \n",
       "\n",
       "     company_location company_size  \n",
       "0       United States       Medium  \n",
       "1       United States       Medium  \n",
       "2       United States       Medium  \n",
       "3       United States       Medium  \n",
       "4       United States       Medium  \n",
       "...               ...          ...  \n",
       "6594           Canada        Large  \n",
       "6595           Canada       Medium  \n",
       "6596           Canada        Large  \n",
       "6597          Austria        Large  \n",
       "6598          Austria        Small  \n",
       "\n",
       "[6599 rows x 11 columns]"
      ],
      "text/html": [
       "<div>\n",
       "<style scoped>\n",
       "    .dataframe tbody tr th:only-of-type {\n",
       "        vertical-align: middle;\n",
       "    }\n",
       "\n",
       "    .dataframe tbody tr th {\n",
       "        vertical-align: top;\n",
       "    }\n",
       "\n",
       "    .dataframe thead th {\n",
       "        text-align: right;\n",
       "    }\n",
       "</style>\n",
       "<table border=\"1\" class=\"dataframe\">\n",
       "  <thead>\n",
       "    <tr style=\"text-align: right;\">\n",
       "      <th></th>\n",
       "      <th>job_title</th>\n",
       "      <th>experience_level</th>\n",
       "      <th>employment_type</th>\n",
       "      <th>work_models</th>\n",
       "      <th>work_year</th>\n",
       "      <th>employee_residence</th>\n",
       "      <th>salary</th>\n",
       "      <th>salary_currency</th>\n",
       "      <th>salary_in_usd</th>\n",
       "      <th>company_location</th>\n",
       "      <th>company_size</th>\n",
       "    </tr>\n",
       "  </thead>\n",
       "  <tbody>\n",
       "    <tr>\n",
       "      <th>0</th>\n",
       "      <td>Data Engineer</td>\n",
       "      <td>Mid-level</td>\n",
       "      <td>Full-time</td>\n",
       "      <td>Remote</td>\n",
       "      <td>2024</td>\n",
       "      <td>United States</td>\n",
       "      <td>148100</td>\n",
       "      <td>USD</td>\n",
       "      <td>148100</td>\n",
       "      <td>United States</td>\n",
       "      <td>Medium</td>\n",
       "    </tr>\n",
       "    <tr>\n",
       "      <th>1</th>\n",
       "      <td>Data Engineer</td>\n",
       "      <td>Mid-level</td>\n",
       "      <td>Full-time</td>\n",
       "      <td>Remote</td>\n",
       "      <td>2024</td>\n",
       "      <td>United States</td>\n",
       "      <td>98700</td>\n",
       "      <td>USD</td>\n",
       "      <td>98700</td>\n",
       "      <td>United States</td>\n",
       "      <td>Medium</td>\n",
       "    </tr>\n",
       "    <tr>\n",
       "      <th>2</th>\n",
       "      <td>Data Scientist</td>\n",
       "      <td>Senior-level</td>\n",
       "      <td>Full-time</td>\n",
       "      <td>Remote</td>\n",
       "      <td>2024</td>\n",
       "      <td>United States</td>\n",
       "      <td>140032</td>\n",
       "      <td>USD</td>\n",
       "      <td>140032</td>\n",
       "      <td>United States</td>\n",
       "      <td>Medium</td>\n",
       "    </tr>\n",
       "    <tr>\n",
       "      <th>3</th>\n",
       "      <td>Data Scientist</td>\n",
       "      <td>Senior-level</td>\n",
       "      <td>Full-time</td>\n",
       "      <td>Remote</td>\n",
       "      <td>2024</td>\n",
       "      <td>United States</td>\n",
       "      <td>100022</td>\n",
       "      <td>USD</td>\n",
       "      <td>100022</td>\n",
       "      <td>United States</td>\n",
       "      <td>Medium</td>\n",
       "    </tr>\n",
       "    <tr>\n",
       "      <th>4</th>\n",
       "      <td>BI Developer</td>\n",
       "      <td>Mid-level</td>\n",
       "      <td>Full-time</td>\n",
       "      <td>On-site</td>\n",
       "      <td>2024</td>\n",
       "      <td>United States</td>\n",
       "      <td>120000</td>\n",
       "      <td>USD</td>\n",
       "      <td>120000</td>\n",
       "      <td>United States</td>\n",
       "      <td>Medium</td>\n",
       "    </tr>\n",
       "    <tr>\n",
       "      <th>...</th>\n",
       "      <td>...</td>\n",
       "      <td>...</td>\n",
       "      <td>...</td>\n",
       "      <td>...</td>\n",
       "      <td>...</td>\n",
       "      <td>...</td>\n",
       "      <td>...</td>\n",
       "      <td>...</td>\n",
       "      <td>...</td>\n",
       "      <td>...</td>\n",
       "      <td>...</td>\n",
       "    </tr>\n",
       "    <tr>\n",
       "      <th>6594</th>\n",
       "      <td>Staff Data Analyst</td>\n",
       "      <td>Entry-level</td>\n",
       "      <td>Contract</td>\n",
       "      <td>Hybrid</td>\n",
       "      <td>2020</td>\n",
       "      <td>Canada</td>\n",
       "      <td>60000</td>\n",
       "      <td>CAD</td>\n",
       "      <td>44753</td>\n",
       "      <td>Canada</td>\n",
       "      <td>Large</td>\n",
       "    </tr>\n",
       "    <tr>\n",
       "      <th>6595</th>\n",
       "      <td>Staff Data Analyst</td>\n",
       "      <td>Executive-level</td>\n",
       "      <td>Full-time</td>\n",
       "      <td>On-site</td>\n",
       "      <td>2020</td>\n",
       "      <td>Nigeria</td>\n",
       "      <td>15000</td>\n",
       "      <td>USD</td>\n",
       "      <td>15000</td>\n",
       "      <td>Canada</td>\n",
       "      <td>Medium</td>\n",
       "    </tr>\n",
       "    <tr>\n",
       "      <th>6596</th>\n",
       "      <td>Machine Learning Manager</td>\n",
       "      <td>Senior-level</td>\n",
       "      <td>Full-time</td>\n",
       "      <td>Hybrid</td>\n",
       "      <td>2020</td>\n",
       "      <td>Canada</td>\n",
       "      <td>157000</td>\n",
       "      <td>CAD</td>\n",
       "      <td>117104</td>\n",
       "      <td>Canada</td>\n",
       "      <td>Large</td>\n",
       "    </tr>\n",
       "    <tr>\n",
       "      <th>6597</th>\n",
       "      <td>Data Engineer</td>\n",
       "      <td>Mid-level</td>\n",
       "      <td>Full-time</td>\n",
       "      <td>Hybrid</td>\n",
       "      <td>2020</td>\n",
       "      <td>Austria</td>\n",
       "      <td>65000</td>\n",
       "      <td>EUR</td>\n",
       "      <td>74130</td>\n",
       "      <td>Austria</td>\n",
       "      <td>Large</td>\n",
       "    </tr>\n",
       "    <tr>\n",
       "      <th>6598</th>\n",
       "      <td>Data Scientist</td>\n",
       "      <td>Senior-level</td>\n",
       "      <td>Full-time</td>\n",
       "      <td>On-site</td>\n",
       "      <td>2020</td>\n",
       "      <td>Austria</td>\n",
       "      <td>80000</td>\n",
       "      <td>EUR</td>\n",
       "      <td>91237</td>\n",
       "      <td>Austria</td>\n",
       "      <td>Small</td>\n",
       "    </tr>\n",
       "  </tbody>\n",
       "</table>\n",
       "<p>6599 rows × 11 columns</p>\n",
       "</div>"
      ]
     },
     "execution_count": 62,
     "metadata": {},
     "output_type": "execute_result"
    }
   ],
   "execution_count": 62
  },
  {
   "cell_type": "markdown",
   "source": [
    "Aufgabe 2:\n",
    "Lasse dir das Durchschnittsgehalt je Erfahrungslevel ausgeben."
   ],
   "metadata": {
    "collapsed": false
   },
   "id": "6f4bb8a361d882f4"
  },
  {
   "cell_type": "code",
   "source": [
    "exp_lvl_mean = salaries.groupby('experience_level')\\\n",
    "    .agg(salary_usd_mean=('salary_in_usd', 'mean'))\n",
    "exp_lvl_mean"
   ],
   "metadata": {
    "collapsed": false,
    "ExecuteTime": {
     "end_time": "2024-11-18T13:56:27.882473Z",
     "start_time": "2024-11-18T13:56:27.869313Z"
    }
   },
   "id": "a856d63cea4e6a79",
   "outputs": [
    {
     "data": {
      "text/plain": [
       "                  salary_usd_mean\n",
       "experience_level                 \n",
       "Entry-level          84448.916814\n",
       "Executive-level     189687.346457\n",
       "Mid-level           119019.812537\n",
       "Senior-level        162071.063581"
      ],
      "text/html": [
       "<div>\n",
       "<style scoped>\n",
       "    .dataframe tbody tr th:only-of-type {\n",
       "        vertical-align: middle;\n",
       "    }\n",
       "\n",
       "    .dataframe tbody tr th {\n",
       "        vertical-align: top;\n",
       "    }\n",
       "\n",
       "    .dataframe thead th {\n",
       "        text-align: right;\n",
       "    }\n",
       "</style>\n",
       "<table border=\"1\" class=\"dataframe\">\n",
       "  <thead>\n",
       "    <tr style=\"text-align: right;\">\n",
       "      <th></th>\n",
       "      <th>salary_usd_mean</th>\n",
       "    </tr>\n",
       "    <tr>\n",
       "      <th>experience_level</th>\n",
       "      <th></th>\n",
       "    </tr>\n",
       "  </thead>\n",
       "  <tbody>\n",
       "    <tr>\n",
       "      <th>Entry-level</th>\n",
       "      <td>84448.916814</td>\n",
       "    </tr>\n",
       "    <tr>\n",
       "      <th>Executive-level</th>\n",
       "      <td>189687.346457</td>\n",
       "    </tr>\n",
       "    <tr>\n",
       "      <th>Mid-level</th>\n",
       "      <td>119019.812537</td>\n",
       "    </tr>\n",
       "    <tr>\n",
       "      <th>Senior-level</th>\n",
       "      <td>162071.063581</td>\n",
       "    </tr>\n",
       "  </tbody>\n",
       "</table>\n",
       "</div>"
      ]
     },
     "execution_count": 63,
     "metadata": {},
     "output_type": "execute_result"
    }
   ],
   "execution_count": 63
  },
  {
   "cell_type": "markdown",
   "source": [
    "Aufgabe 3:\n",
    "Ermittle, wie viele Anstellungsarten es im Datensatz gibt und wie sie heißen. Führe dasselbe für Firmengrößen durch."
   ],
   "metadata": {
    "collapsed": false
   },
   "id": "ebd7913dcd252410"
  },
  {
   "cell_type": "code",
   "source": [
    "work_models = salaries['work_models'].unique()\n",
    "comp_size = salaries['company_size'].unique()\n",
    "print(work_models,'\\n', comp_size)"
   ],
   "metadata": {
    "collapsed": false,
    "ExecuteTime": {
     "end_time": "2024-11-18T13:56:29.604693Z",
     "start_time": "2024-11-18T13:56:29.597465Z"
    }
   },
   "id": "d469b5230626988b",
   "outputs": [
    {
     "name": "stdout",
     "output_type": "stream",
     "text": [
      "['Remote' 'On-site' 'Hybrid'] \n",
      " ['Medium' 'Large' 'Small']\n"
     ]
    }
   ],
   "execution_count": 64
  },
  {
   "cell_type": "markdown",
   "source": [
    "Aufgabe 4:\n",
    "Welches Durchschnittsgehalt gibt es in Abhängigkeit von der Firmengröße UND dem Anstellungsverhältnis?\n"
   ],
   "metadata": {
    "collapsed": false
   },
   "id": "a087cc0f3fc98b3b"
  },
  {
   "cell_type": "code",
   "source": [
    "size_work_models_mean = salaries.groupby(['work_models', 'company_size'])\\\n",
    "    .agg(salary_usd_mean=('salary_in_usd', 'mean'))\n",
    "size_work_models_mean"
   ],
   "metadata": {
    "collapsed": false,
    "ExecuteTime": {
     "end_time": "2024-11-18T13:56:32.177955Z",
     "start_time": "2024-11-18T13:56:32.164381Z"
    }
   },
   "id": "f8c65ea11719d4b0",
   "outputs": [
    {
     "data": {
      "text/plain": [
       "                          salary_usd_mean\n",
       "work_models company_size                 \n",
       "Hybrid      Large            89441.889706\n",
       "            Medium           70959.981132\n",
       "            Small            78223.944444\n",
       "On-site     Large           150104.415730\n",
       "            Medium          153128.724195\n",
       "            Small           105473.451613\n",
       "Remote      Large           116708.113725\n",
       "            Medium          145877.078983\n",
       "            Small            85642.029126"
      ],
      "text/html": [
       "<div>\n",
       "<style scoped>\n",
       "    .dataframe tbody tr th:only-of-type {\n",
       "        vertical-align: middle;\n",
       "    }\n",
       "\n",
       "    .dataframe tbody tr th {\n",
       "        vertical-align: top;\n",
       "    }\n",
       "\n",
       "    .dataframe thead th {\n",
       "        text-align: right;\n",
       "    }\n",
       "</style>\n",
       "<table border=\"1\" class=\"dataframe\">\n",
       "  <thead>\n",
       "    <tr style=\"text-align: right;\">\n",
       "      <th></th>\n",
       "      <th></th>\n",
       "      <th>salary_usd_mean</th>\n",
       "    </tr>\n",
       "    <tr>\n",
       "      <th>work_models</th>\n",
       "      <th>company_size</th>\n",
       "      <th></th>\n",
       "    </tr>\n",
       "  </thead>\n",
       "  <tbody>\n",
       "    <tr>\n",
       "      <th rowspan=\"3\" valign=\"top\">Hybrid</th>\n",
       "      <th>Large</th>\n",
       "      <td>89441.889706</td>\n",
       "    </tr>\n",
       "    <tr>\n",
       "      <th>Medium</th>\n",
       "      <td>70959.981132</td>\n",
       "    </tr>\n",
       "    <tr>\n",
       "      <th>Small</th>\n",
       "      <td>78223.944444</td>\n",
       "    </tr>\n",
       "    <tr>\n",
       "      <th rowspan=\"3\" valign=\"top\">On-site</th>\n",
       "      <th>Large</th>\n",
       "      <td>150104.415730</td>\n",
       "    </tr>\n",
       "    <tr>\n",
       "      <th>Medium</th>\n",
       "      <td>153128.724195</td>\n",
       "    </tr>\n",
       "    <tr>\n",
       "      <th>Small</th>\n",
       "      <td>105473.451613</td>\n",
       "    </tr>\n",
       "    <tr>\n",
       "      <th rowspan=\"3\" valign=\"top\">Remote</th>\n",
       "      <th>Large</th>\n",
       "      <td>116708.113725</td>\n",
       "    </tr>\n",
       "    <tr>\n",
       "      <th>Medium</th>\n",
       "      <td>145877.078983</td>\n",
       "    </tr>\n",
       "    <tr>\n",
       "      <th>Small</th>\n",
       "      <td>85642.029126</td>\n",
       "    </tr>\n",
       "  </tbody>\n",
       "</table>\n",
       "</div>"
      ]
     },
     "execution_count": 65,
     "metadata": {},
     "output_type": "execute_result"
    }
   ],
   "execution_count": 65
  },
  {
   "cell_type": "markdown",
   "source": [
    "Aufgabe 5:\n",
    "In welchem Land verdient man durchschnittlich am besten?"
   ],
   "metadata": {
    "collapsed": false
   },
   "id": "bdf1c902bbd40fee"
  },
  {
   "cell_type": "code",
   "source": [
    "best_location = salaries.groupby('company_location')['salary_in_usd'].max().sort_values(ascending=False)\n",
    "best_location"
   ],
   "metadata": {
    "collapsed": false,
    "ExecuteTime": {
     "end_time": "2024-11-18T13:56:35.573743Z",
     "start_time": "2024-11-18T13:56:35.561964Z"
    }
   },
   "id": "a1b06605b0589c98",
   "outputs": [
    {
     "data": {
      "text/plain": [
       "company_location\n",
       "United States     750000\n",
       "United Kingdom    430967\n",
       "Israel            417937\n",
       "Canada            306400\n",
       "Qatar             300000\n",
       "                   ...  \n",
       "Malta              28369\n",
       "Turkey             28016\n",
       "Honduras           20000\n",
       "Moldova            18000\n",
       "Ecuador            16000\n",
       "Name: salary_in_usd, Length: 75, dtype: int64"
      ]
     },
     "execution_count": 66,
     "metadata": {},
     "output_type": "execute_result"
    }
   ],
   "execution_count": 66
  },
  {
   "cell_type": "markdown",
   "source": [
    "Aufgabe 6:\n",
    "Hat die Arbeitssituation (Remote/on-site/weitere?) einen Einfluss auf das Gehalt? Führe die durchschnittlichen Gehälter auf."
   ],
   "metadata": {
    "collapsed": false
   },
   "id": "61c29af01f1fd27f"
  },
  {
   "cell_type": "code",
   "source": [
    "mean_models = salaries.groupby('work_models')\\\n",
    "    .agg(salary_usd_mean=('salary_in_usd', 'mean'))\n",
    "\n",
    "mean_models['salary_usd_mean'].sort_values(ascending=False)"
   ],
   "metadata": {
    "collapsed": false,
    "ExecuteTime": {
     "end_time": "2024-11-18T13:56:43.205229Z",
     "start_time": "2024-11-18T13:56:43.190815Z"
    }
   },
   "id": "61af96356e202884",
   "outputs": [
    {
     "data": {
      "text/plain": [
       "work_models\n",
       "On-site    152600.100970\n",
       "Remote     140550.137837\n",
       "Hybrid      83293.502222\n",
       "Name: salary_usd_mean, dtype: float64"
      ]
     },
     "execution_count": 67,
     "metadata": {},
     "output_type": "execute_result"
    }
   ],
   "execution_count": 67
  },
  {
   "cell_type": "markdown",
   "source": [
    "Aufgabe 7:\n",
    "Beantworte in einem Dataframe:\n",
    "* Was ist das häufigste Jahr für das jeweilige Arbeitsplatzmodell im Datensatz?\n",
    "(Tipp: Informiere dich über den Modus bei Series von Pandas!)\n",
    "* Was ist das maximale Gehalt für das jeweilige Arbeitsplatzmodell im Datensatz?"
   ],
   "metadata": {
    "collapsed": false
   },
   "id": "944c4e58fa954f16"
  },
  {
   "cell_type": "code",
   "source": [
    "year_models_max = salaries.groupby('work_models')['work_year']\\\n",
    "    .agg(pd.Series.mode)\n",
    "\n",
    "year_models_max"
   ],
   "metadata": {
    "collapsed": false,
    "ExecuteTime": {
     "end_time": "2024-11-18T13:56:51.047748Z",
     "start_time": "2024-11-18T13:56:51.040163Z"
    }
   },
   "id": "e2b036fca7b50175",
   "outputs": [
    {
     "data": {
      "text/plain": [
       "work_models\n",
       "Hybrid     2021\n",
       "On-site    2023\n",
       "Remote     2023\n",
       "Name: work_year, dtype: int64"
      ]
     },
     "execution_count": 68,
     "metadata": {},
     "output_type": "execute_result"
    }
   ],
   "execution_count": 68
  },
  {
   "metadata": {
    "ExecuteTime": {
     "end_time": "2024-11-18T13:57:02.942661Z",
     "start_time": "2024-11-18T13:57:02.935678Z"
    }
   },
   "cell_type": "code",
   "source": [
    "max_salary_model = salaries.groupby('work_models')['salary_in_usd'].max()\n",
    "max_salary_model.sort_values(ascending=False)"
   ],
   "id": "eaef603ef17bba7",
   "outputs": [
    {
     "data": {
      "text/plain": [
       "work_models\n",
       "On-site    750000\n",
       "Remote     700000\n",
       "Hybrid     423000\n",
       "Name: salary_in_usd, dtype: int64"
      ]
     },
     "execution_count": 69,
     "metadata": {},
     "output_type": "execute_result"
    }
   ],
   "execution_count": 69
  },
  {
   "cell_type": "markdown",
   "source": [
    "Aufgabe 8:\n",
    "Dein Chef wieder. Er will, dass du nach Firmengröße folgende Informationen sammelst UND die Spalten benennst:\n",
    "* Welcher Job-Titel ist am häufigsten vertreten? (Spalte: most_work_as)\n",
    "* Welches Arbeitsplatzmodell ist am häufigsten vertreten? (Spalte: most_work)\n",
    "* Das jeweilige Durchschnittsgehalt (Spalte: average_pay)\n",
    "* Das erfasste niedrigste Gehalt je Firmengröße (Spalte: min_pay)\n",
    "* Das erfasste höchste Gehalt je Firmengröße (Spalte: max_pay)"
   ],
   "metadata": {
    "collapsed": false
   },
   "id": "86090cf91be120a3"
  },
  {
   "cell_type": "code",
   "source": [
    "most_work_as = salaries.groupby('company_size')\\\n",
    "    .agg(most_work_as=('job_title', 'max'))\n",
    "\n",
    "most_work_as"
   ],
   "metadata": {
    "collapsed": false,
    "ExecuteTime": {
     "end_time": "2024-11-18T14:01:30.571396Z",
     "start_time": "2024-11-18T14:01:30.554129Z"
    }
   },
   "id": "1472940bb13dc776",
   "outputs": [
    {
     "data": {
      "text/plain": [
       "                                 most_work_as\n",
       "company_size                                 \n",
       "Large                      Staff Data Analyst\n",
       "Medium        Staff Machine Learning Engineer\n",
       "Small                      Staff Data Analyst"
      ],
      "text/html": [
       "<div>\n",
       "<style scoped>\n",
       "    .dataframe tbody tr th:only-of-type {\n",
       "        vertical-align: middle;\n",
       "    }\n",
       "\n",
       "    .dataframe tbody tr th {\n",
       "        vertical-align: top;\n",
       "    }\n",
       "\n",
       "    .dataframe thead th {\n",
       "        text-align: right;\n",
       "    }\n",
       "</style>\n",
       "<table border=\"1\" class=\"dataframe\">\n",
       "  <thead>\n",
       "    <tr style=\"text-align: right;\">\n",
       "      <th></th>\n",
       "      <th>most_work_as</th>\n",
       "    </tr>\n",
       "    <tr>\n",
       "      <th>company_size</th>\n",
       "      <th></th>\n",
       "    </tr>\n",
       "  </thead>\n",
       "  <tbody>\n",
       "    <tr>\n",
       "      <th>Large</th>\n",
       "      <td>Staff Data Analyst</td>\n",
       "    </tr>\n",
       "    <tr>\n",
       "      <th>Medium</th>\n",
       "      <td>Staff Machine Learning Engineer</td>\n",
       "    </tr>\n",
       "    <tr>\n",
       "      <th>Small</th>\n",
       "      <td>Staff Data Analyst</td>\n",
       "    </tr>\n",
       "  </tbody>\n",
       "</table>\n",
       "</div>"
      ]
     },
     "execution_count": 72,
     "metadata": {},
     "output_type": "execute_result"
    }
   ],
   "execution_count": 72
  },
  {
   "metadata": {
    "ExecuteTime": {
     "end_time": "2024-11-18T14:03:59.513116Z",
     "start_time": "2024-11-18T14:03:59.498062Z"
    }
   },
   "cell_type": "code",
   "source": [
    "most_work = salaries.groupby('company_size')\\\n",
    "    .agg(most_work=('work_models', 'max'))\n",
    "\n",
    "most_work"
   ],
   "id": "1f4470234b3472aa",
   "outputs": [
    {
     "data": {
      "text/plain": [
       "             most_work\n",
       "company_size          \n",
       "Large           Remote\n",
       "Medium          Remote\n",
       "Small           Remote"
      ],
      "text/html": [
       "<div>\n",
       "<style scoped>\n",
       "    .dataframe tbody tr th:only-of-type {\n",
       "        vertical-align: middle;\n",
       "    }\n",
       "\n",
       "    .dataframe tbody tr th {\n",
       "        vertical-align: top;\n",
       "    }\n",
       "\n",
       "    .dataframe thead th {\n",
       "        text-align: right;\n",
       "    }\n",
       "</style>\n",
       "<table border=\"1\" class=\"dataframe\">\n",
       "  <thead>\n",
       "    <tr style=\"text-align: right;\">\n",
       "      <th></th>\n",
       "      <th>most_work</th>\n",
       "    </tr>\n",
       "    <tr>\n",
       "      <th>company_size</th>\n",
       "      <th></th>\n",
       "    </tr>\n",
       "  </thead>\n",
       "  <tbody>\n",
       "    <tr>\n",
       "      <th>Large</th>\n",
       "      <td>Remote</td>\n",
       "    </tr>\n",
       "    <tr>\n",
       "      <th>Medium</th>\n",
       "      <td>Remote</td>\n",
       "    </tr>\n",
       "    <tr>\n",
       "      <th>Small</th>\n",
       "      <td>Remote</td>\n",
       "    </tr>\n",
       "  </tbody>\n",
       "</table>\n",
       "</div>"
      ]
     },
     "execution_count": 73,
     "metadata": {},
     "output_type": "execute_result"
    }
   ],
   "execution_count": 73
  },
  {
   "metadata": {
    "ExecuteTime": {
     "end_time": "2024-11-18T14:06:32.997688Z",
     "start_time": "2024-11-18T14:06:32.980862Z"
    }
   },
   "cell_type": "code",
   "source": [
    "avg_pay = salaries.groupby('company_size')\\\n",
    "    .agg(avgerage_pay=('salary_in_usd', 'mean'))\n",
    "\n",
    "avg_pay"
   ],
   "id": "c35990bae42bbd2a",
   "outputs": [
    {
     "data": {
      "text/plain": [
       "               avgerage_pay\n",
       "company_size               \n",
       "Large         120638.404218\n",
       "Medium        149659.386689\n",
       "Small          87687.458824"
      ],
      "text/html": [
       "<div>\n",
       "<style scoped>\n",
       "    .dataframe tbody tr th:only-of-type {\n",
       "        vertical-align: middle;\n",
       "    }\n",
       "\n",
       "    .dataframe tbody tr th {\n",
       "        vertical-align: top;\n",
       "    }\n",
       "\n",
       "    .dataframe thead th {\n",
       "        text-align: right;\n",
       "    }\n",
       "</style>\n",
       "<table border=\"1\" class=\"dataframe\">\n",
       "  <thead>\n",
       "    <tr style=\"text-align: right;\">\n",
       "      <th></th>\n",
       "      <th>avgerage_pay</th>\n",
       "    </tr>\n",
       "    <tr>\n",
       "      <th>company_size</th>\n",
       "      <th></th>\n",
       "    </tr>\n",
       "  </thead>\n",
       "  <tbody>\n",
       "    <tr>\n",
       "      <th>Large</th>\n",
       "      <td>120638.404218</td>\n",
       "    </tr>\n",
       "    <tr>\n",
       "      <th>Medium</th>\n",
       "      <td>149659.386689</td>\n",
       "    </tr>\n",
       "    <tr>\n",
       "      <th>Small</th>\n",
       "      <td>87687.458824</td>\n",
       "    </tr>\n",
       "  </tbody>\n",
       "</table>\n",
       "</div>"
      ]
     },
     "execution_count": 74,
     "metadata": {},
     "output_type": "execute_result"
    }
   ],
   "execution_count": 74
  },
  {
   "metadata": {
    "ExecuteTime": {
     "end_time": "2024-11-18T14:08:28.857559Z",
     "start_time": "2024-11-18T14:08:28.840268Z"
    }
   },
   "cell_type": "code",
   "source": [
    "min_pay = salaries.groupby('company_size')\\\n",
    "    .agg(min_pay=('salary_in_usd', 'min'))\n",
    "\n",
    "min_pay"
   ],
   "id": "7d0d064cdc4ad9f0",
   "outputs": [
    {
     "data": {
      "text/plain": [
       "              min_pay\n",
       "company_size         \n",
       "Large           15000\n",
       "Medium          15000\n",
       "Small           15809"
      ],
      "text/html": [
       "<div>\n",
       "<style scoped>\n",
       "    .dataframe tbody tr th:only-of-type {\n",
       "        vertical-align: middle;\n",
       "    }\n",
       "\n",
       "    .dataframe tbody tr th {\n",
       "        vertical-align: top;\n",
       "    }\n",
       "\n",
       "    .dataframe thead th {\n",
       "        text-align: right;\n",
       "    }\n",
       "</style>\n",
       "<table border=\"1\" class=\"dataframe\">\n",
       "  <thead>\n",
       "    <tr style=\"text-align: right;\">\n",
       "      <th></th>\n",
       "      <th>min_pay</th>\n",
       "    </tr>\n",
       "    <tr>\n",
       "      <th>company_size</th>\n",
       "      <th></th>\n",
       "    </tr>\n",
       "  </thead>\n",
       "  <tbody>\n",
       "    <tr>\n",
       "      <th>Large</th>\n",
       "      <td>15000</td>\n",
       "    </tr>\n",
       "    <tr>\n",
       "      <th>Medium</th>\n",
       "      <td>15000</td>\n",
       "    </tr>\n",
       "    <tr>\n",
       "      <th>Small</th>\n",
       "      <td>15809</td>\n",
       "    </tr>\n",
       "  </tbody>\n",
       "</table>\n",
       "</div>"
      ]
     },
     "execution_count": 75,
     "metadata": {},
     "output_type": "execute_result"
    }
   ],
   "execution_count": 75
  },
  {
   "metadata": {
    "ExecuteTime": {
     "end_time": "2024-11-18T14:09:21.679778Z",
     "start_time": "2024-11-18T14:09:21.667816Z"
    }
   },
   "cell_type": "code",
   "source": [
    "max_pay = salaries.groupby('company_size')\\\n",
    "    .agg(max_pay=('salary_in_usd', 'max'))\n",
    "\n",
    "max_pay"
   ],
   "id": "8c9677378326702b",
   "outputs": [
    {
     "data": {
      "text/plain": [
       "              max_pay\n",
       "company_size         \n",
       "Large          423000\n",
       "Medium         750000\n",
       "Small          416000"
      ],
      "text/html": [
       "<div>\n",
       "<style scoped>\n",
       "    .dataframe tbody tr th:only-of-type {\n",
       "        vertical-align: middle;\n",
       "    }\n",
       "\n",
       "    .dataframe tbody tr th {\n",
       "        vertical-align: top;\n",
       "    }\n",
       "\n",
       "    .dataframe thead th {\n",
       "        text-align: right;\n",
       "    }\n",
       "</style>\n",
       "<table border=\"1\" class=\"dataframe\">\n",
       "  <thead>\n",
       "    <tr style=\"text-align: right;\">\n",
       "      <th></th>\n",
       "      <th>max_pay</th>\n",
       "    </tr>\n",
       "    <tr>\n",
       "      <th>company_size</th>\n",
       "      <th></th>\n",
       "    </tr>\n",
       "  </thead>\n",
       "  <tbody>\n",
       "    <tr>\n",
       "      <th>Large</th>\n",
       "      <td>423000</td>\n",
       "    </tr>\n",
       "    <tr>\n",
       "      <th>Medium</th>\n",
       "      <td>750000</td>\n",
       "    </tr>\n",
       "    <tr>\n",
       "      <th>Small</th>\n",
       "      <td>416000</td>\n",
       "    </tr>\n",
       "  </tbody>\n",
       "</table>\n",
       "</div>"
      ]
     },
     "execution_count": 76,
     "metadata": {},
     "output_type": "execute_result"
    }
   ],
   "execution_count": 76
  },
  {
   "cell_type": "markdown",
   "source": [
    "Aufgabe 9:\n",
    "Du hast nicht genug? Dann überlege dir weitere Aggregationen und verdichtete Informationen zu diesem Datensatz, die dich interessieren. ;)"
   ],
   "metadata": {
    "collapsed": false
   },
   "id": "f546630eae3e6af8"
  },
  {
   "cell_type": "code",
   "source": [
    "overall_bliblablub = salaries.groupby(['job_title', 'company_size', 'company_location', 'work_models'])\\\n",
    "    .agg(mean_pay=('salary_in_usd', 'mean'))\n",
    "\n",
    "overall_bliblablub"
   ],
   "metadata": {
    "collapsed": false,
    "ExecuteTime": {
     "end_time": "2024-11-18T14:17:32.987161Z",
     "start_time": "2024-11-18T14:17:32.964508Z"
    }
   },
   "id": "6803e8be2aba82ff",
   "outputs": [
    {
     "data": {
      "text/plain": [
       "                                                                                mean_pay\n",
       "job_title                       company_size company_location work_models               \n",
       "AI Architect                    Large        United States    Remote       207968.000000\n",
       "                                Medium       United States    On-site      242108.333333\n",
       "                                                              Remote       226000.000000\n",
       "AI Developer                    Large        Germany          Remote       215936.000000\n",
       "                                             United States    Remote       130000.000000\n",
       "...                                                                                  ...\n",
       "Staff Data Analyst              Medium       Canada           On-site       15000.000000\n",
       "                                Small        Saudi Arabia     Remote       179998.000000\n",
       "Staff Data Scientist            Medium       United States    Hybrid       164000.000000\n",
       "                                                              Remote       105000.000000\n",
       "Staff Machine Learning Engineer Medium       United States    Hybrid       185000.000000\n",
       "\n",
       "[812 rows x 1 columns]"
      ],
      "text/html": [
       "<div>\n",
       "<style scoped>\n",
       "    .dataframe tbody tr th:only-of-type {\n",
       "        vertical-align: middle;\n",
       "    }\n",
       "\n",
       "    .dataframe tbody tr th {\n",
       "        vertical-align: top;\n",
       "    }\n",
       "\n",
       "    .dataframe thead th {\n",
       "        text-align: right;\n",
       "    }\n",
       "</style>\n",
       "<table border=\"1\" class=\"dataframe\">\n",
       "  <thead>\n",
       "    <tr style=\"text-align: right;\">\n",
       "      <th></th>\n",
       "      <th></th>\n",
       "      <th></th>\n",
       "      <th></th>\n",
       "      <th>mean_pay</th>\n",
       "    </tr>\n",
       "    <tr>\n",
       "      <th>job_title</th>\n",
       "      <th>company_size</th>\n",
       "      <th>company_location</th>\n",
       "      <th>work_models</th>\n",
       "      <th></th>\n",
       "    </tr>\n",
       "  </thead>\n",
       "  <tbody>\n",
       "    <tr>\n",
       "      <th rowspan=\"3\" valign=\"top\">AI Architect</th>\n",
       "      <th>Large</th>\n",
       "      <th>United States</th>\n",
       "      <th>Remote</th>\n",
       "      <td>207968.000000</td>\n",
       "    </tr>\n",
       "    <tr>\n",
       "      <th rowspan=\"2\" valign=\"top\">Medium</th>\n",
       "      <th rowspan=\"2\" valign=\"top\">United States</th>\n",
       "      <th>On-site</th>\n",
       "      <td>242108.333333</td>\n",
       "    </tr>\n",
       "    <tr>\n",
       "      <th>Remote</th>\n",
       "      <td>226000.000000</td>\n",
       "    </tr>\n",
       "    <tr>\n",
       "      <th rowspan=\"2\" valign=\"top\">AI Developer</th>\n",
       "      <th rowspan=\"2\" valign=\"top\">Large</th>\n",
       "      <th>Germany</th>\n",
       "      <th>Remote</th>\n",
       "      <td>215936.000000</td>\n",
       "    </tr>\n",
       "    <tr>\n",
       "      <th>United States</th>\n",
       "      <th>Remote</th>\n",
       "      <td>130000.000000</td>\n",
       "    </tr>\n",
       "    <tr>\n",
       "      <th>...</th>\n",
       "      <th>...</th>\n",
       "      <th>...</th>\n",
       "      <th>...</th>\n",
       "      <td>...</td>\n",
       "    </tr>\n",
       "    <tr>\n",
       "      <th rowspan=\"2\" valign=\"top\">Staff Data Analyst</th>\n",
       "      <th>Medium</th>\n",
       "      <th>Canada</th>\n",
       "      <th>On-site</th>\n",
       "      <td>15000.000000</td>\n",
       "    </tr>\n",
       "    <tr>\n",
       "      <th>Small</th>\n",
       "      <th>Saudi Arabia</th>\n",
       "      <th>Remote</th>\n",
       "      <td>179998.000000</td>\n",
       "    </tr>\n",
       "    <tr>\n",
       "      <th rowspan=\"2\" valign=\"top\">Staff Data Scientist</th>\n",
       "      <th rowspan=\"2\" valign=\"top\">Medium</th>\n",
       "      <th rowspan=\"2\" valign=\"top\">United States</th>\n",
       "      <th>Hybrid</th>\n",
       "      <td>164000.000000</td>\n",
       "    </tr>\n",
       "    <tr>\n",
       "      <th>Remote</th>\n",
       "      <td>105000.000000</td>\n",
       "    </tr>\n",
       "    <tr>\n",
       "      <th>Staff Machine Learning Engineer</th>\n",
       "      <th>Medium</th>\n",
       "      <th>United States</th>\n",
       "      <th>Hybrid</th>\n",
       "      <td>185000.000000</td>\n",
       "    </tr>\n",
       "  </tbody>\n",
       "</table>\n",
       "<p>812 rows × 1 columns</p>\n",
       "</div>"
      ]
     },
     "execution_count": 78,
     "metadata": {},
     "output_type": "execute_result"
    }
   ],
   "execution_count": 78
  },
  {
   "cell_type": "code",
   "outputs": [],
   "source": [],
   "metadata": {
    "collapsed": false
   },
   "id": "e77b4690c0a894ee",
   "execution_count": null
  },
  {
   "cell_type": "code",
   "outputs": [],
   "source": [],
   "metadata": {
    "collapsed": false
   },
   "id": "1b685b7bdb8a2f5c",
   "execution_count": null
  }
 ],
 "metadata": {
  "kernelspec": {
   "display_name": "Python 3",
   "language": "python",
   "name": "python3"
  },
  "language_info": {
   "codemirror_mode": {
    "name": "ipython",
    "version": 2
   },
   "file_extension": ".py",
   "mimetype": "text/x-python",
   "name": "python",
   "nbconvert_exporter": "python",
   "pygments_lexer": "ipython2",
   "version": "2.7.6"
  }
 },
 "nbformat": 4,
 "nbformat_minor": 5
}
