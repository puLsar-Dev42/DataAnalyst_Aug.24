{
 "cells": [
  {
   "cell_type": "code",
   "id": "initial_id",
   "metadata": {
    "collapsed": true,
    "ExecuteTime": {
     "end_time": "2024-12-03T10:32:30.591365Z",
     "start_time": "2024-12-03T10:32:30.584671Z"
    }
   },
   "source": [
    "import os, sqlite3\n",
    "\n",
    "# mit Db verbinden\n",
    "my_connector = sqlite3.connect(\"my_db\")\n",
    "cursor = my_connector.cursor()\n",
    "\n",
    "# SQL-Abfrage\n",
    "sql = \"SELECT name, vorname FROM personen\"\n",
    "cursor.execute(sql)\n",
    "\n",
    "# Ergebnis\n",
    "for dsatz in cursor:\n",
    "    print(sql)\n",
    "    print(\"Data_:\", dsatz)\n",
    "    print(\"Data-Points:\", dsatz[0], dsatz[1])\n",
    "\n",
    "# Verbindung beenden\n",
    "my_connector.close()"
   ],
   "outputs": [
    {
     "name": "stdout",
     "output_type": "stream",
     "text": [
      "SELECT name, vorname FROM personen\n",
      "Data_: ('Rickert', 'Rainer')\n",
      "Data-Points: Rickert Rainer\n",
      "SELECT name, vorname FROM personen\n",
      "Data_: ('Müller', 'Jochen')\n",
      "Data-Points: Müller Jochen\n",
      "SELECT name, vorname FROM personen\n",
      "Data_: ('Maier', 'Achim')\n",
      "Data-Points: Maier Achim\n"
     ]
    }
   ],
   "execution_count": 1
  },
  {
   "metadata": {
    "ExecuteTime": {
     "end_time": "2024-12-03T10:32:30.612500Z",
     "start_time": "2024-12-03T10:32:30.605406Z"
    }
   },
   "cell_type": "code",
   "source": [
    "# Daten auswählen mit Operatoren WHERE\n",
    "my_connector = sqlite3.connect(\"my_db\")\n",
    "cursor = my_connector.cursor()\n",
    "# SQL-Abfrage\n",
    "sql = \" SELECT * FROM personen \" \\\n",
    "    \" WHERE groesse < 1.85\"\n",
    "cursor.execute(sql)\n",
    "\n",
    "for dsatz in cursor:\n",
    "    print(sql)\n",
    "    print(\"Data_:\", dsatz)\n",
    "\n",
    "my_connector.close()"
   ],
   "id": "7e3461740b5e4c29",
   "outputs": [
    {
     "name": "stdout",
     "output_type": "stream",
     "text": [
      " SELECT * FROM personen  WHERE groesse < 1.85\n",
      "Data_: ('Rickert', 'Rainer', 3, 1.6)\n",
      " SELECT * FROM personen  WHERE groesse < 1.85\n",
      "Data_: ('Maier', 'Achim', 7, 1.7)\n"
     ]
    }
   ],
   "execution_count": 2
  },
  {
   "metadata": {
    "ExecuteTime": {
     "end_time": "2024-12-03T10:32:30.789733Z",
     "start_time": "2024-12-03T10:32:30.782017Z"
    }
   },
   "cell_type": "code",
   "source": [
    "# Daten auswählen mit Operatoren LIKE\n",
    "my_connector = sqlite3.connect(\"my_db\")\n",
    "cursor = my_connector.cursor()\n",
    "# SQL-Abfrage\n",
    "sql = \" SELECT * FROM personen WHERE name LIKE 'M%' ORDER BY groesse DESC \"\n",
    "cursor.execute(sql)\n",
    "\n",
    "for dsatz in cursor:\n",
    "    print(dsatz)\n",
    "\n",
    "my_connector.close()"
   ],
   "id": "f36637ab60d41bc1",
   "outputs": [
    {
     "name": "stdout",
     "output_type": "stream",
     "text": [
      "('Müller', 'Jochen', 5, 1.85)\n",
      "('Maier', 'Achim', 7, 1.7)\n"
     ]
    }
   ],
   "execution_count": 3
  }
 ],
 "metadata": {
  "kernelspec": {
   "display_name": "Python 3",
   "language": "python",
   "name": "python3"
  },
  "language_info": {
   "codemirror_mode": {
    "name": "ipython",
    "version": 2
   },
   "file_extension": ".py",
   "mimetype": "text/x-python",
   "name": "python",
   "nbconvert_exporter": "python",
   "pygments_lexer": "ipython2",
   "version": "2.7.6"
  }
 },
 "nbformat": 4,
 "nbformat_minor": 5
}
