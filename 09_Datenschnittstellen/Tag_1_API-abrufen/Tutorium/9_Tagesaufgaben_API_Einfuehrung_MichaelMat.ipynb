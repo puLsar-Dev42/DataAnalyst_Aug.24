{
 "cells": [
  {
   "attachments": {},
   "cell_type": "markdown",
   "metadata": {
    "collapsed": false
   },
   "source": [
    "# Tagesaufgaben: Einführung RESTful APIs\n",
    "\n",
    "<hr>\n"
   ]
  },
  {
   "attachments": {},
   "cell_type": "markdown",
   "metadata": {
    "collapsed": false
   },
   "source": [
    "## Aufgabe 1 - Videos"
   ]
  },
  {
   "attachments": {},
   "cell_type": "markdown",
   "metadata": {
    "collapsed": false
   },
   "source": [
    "Suche Dir zwei Youtube-Videos zu RESTful-APIs heraus, schaue sie an und fasse die wesentlichen Punkte zusammen. Dazu kannst du das Kommentarfeld benutzen.\n",
    "\n",
    "Beispiele:\n",
    "\n",
    "* https://www.youtube.com/watch?v=xpeQz7Hsfz0\n",
    "* https://www.youtube.com/watch?v=uhXCuSnIwjg"
   ]
  },
  {
   "metadata": {},
   "cell_type": "markdown",
   "source": [
    "- API bezeichnet die Kommunikations-Schnittstelle\n",
    "- request bezeichnet die Abfrage\n",
    "- man kann mehrere requests gleichzeitig laufen lassen (container)\n",
    "- man braucht eine connection, in diesem fall die url der API mit Endpoints\n",
    "- Endpoints bezeichnen den ausgewählten Entrance-Point in der Data auf dem Server\n",
    "- es gibt eine Unterteilung in Client und Server\n",
    "- der Client(user) stellt über die API eine requests an den Server,\n",
    "- der diese verarbeitet und als Response zurück an den Client schickt\n",
    "- der Client kann dann mit der Response weiterarbeiten nach belieben\n",
    "- meisten wird JSON oder XML als Format verwendet"
   ]
  },
  {
   "attachments": {},
   "cell_type": "markdown",
   "metadata": {
    "collapsed": false
   },
   "source": [
    "## Aufgabe 2 - Cocktails"
   ]
  },
  {
   "metadata": {
    "ExecuteTime": {
     "end_time": "2025-01-19T10:35:15.833342Z",
     "start_time": "2025-01-19T10:35:15.617841Z"
    }
   },
   "cell_type": "code",
   "source": [
    "# imports\n",
    "import requests"
   ],
   "outputs": [],
   "execution_count": 1
  },
  {
   "attachments": {},
   "cell_type": "markdown",
   "metadata": {
    "collapsed": false
   },
   "source": [
    "**a)** Nutze den gegebenen Link, um dir alle Rezepte für Cocktails mit \"Paloma\" im Namen ausgeben zu lassen. Lasse dir die Rezepte im json-Format ausgeben."
   ]
  },
  {
   "cell_type": "code",
   "source": [
    "# connection\n",
    "url1 = 'https://www.thecocktaildb.com/api/json/v1/1/search.php?s=Paloma'\n",
    "res = requests.get(url1)\n",
    "data = res.json()\n",
    "data"
   ],
   "metadata": {
    "collapsed": false,
    "ExecuteTime": {
     "end_time": "2025-01-19T10:35:18.488650Z",
     "start_time": "2025-01-19T10:35:18.237152Z"
    }
   },
   "outputs": [
    {
     "data": {
      "text/plain": [
       "{'drinks': [{'idDrink': '17253',\n",
       "   'strDrink': 'Paloma',\n",
       "   'strDrinkAlternate': None,\n",
       "   'strTags': None,\n",
       "   'strVideo': None,\n",
       "   'strCategory': 'Cocktail',\n",
       "   'strIBA': None,\n",
       "   'strAlcoholic': 'Alcoholic',\n",
       "   'strGlass': 'Collins glass',\n",
       "   'strInstructions': 'Stir together and serve over ice.',\n",
       "   'strInstructionsES': 'Remover y servir con hielo.',\n",
       "   'strInstructionsDE': 'Zusammenrühren und über Eis servieren.',\n",
       "   'strInstructionsFR': 'Mélanger et servir sur des glaçons.',\n",
       "   'strInstructionsIT': 'Mescolate e servite con ghiaccio.',\n",
       "   'strInstructionsZH-HANS': None,\n",
       "   'strInstructionsZH-HANT': None,\n",
       "   'strDrinkThumb': 'https://www.thecocktaildb.com/images/media/drink/samm5j1513706393.jpg',\n",
       "   'strIngredient1': 'Grape Soda',\n",
       "   'strIngredient2': 'Tequila',\n",
       "   'strIngredient3': None,\n",
       "   'strIngredient4': None,\n",
       "   'strIngredient5': None,\n",
       "   'strIngredient6': None,\n",
       "   'strIngredient7': None,\n",
       "   'strIngredient8': None,\n",
       "   'strIngredient9': None,\n",
       "   'strIngredient10': None,\n",
       "   'strIngredient11': None,\n",
       "   'strIngredient12': None,\n",
       "   'strIngredient13': None,\n",
       "   'strIngredient14': None,\n",
       "   'strIngredient15': None,\n",
       "   'strMeasure1': '3 oz',\n",
       "   'strMeasure2': '1 1/2 oz',\n",
       "   'strMeasure3': None,\n",
       "   'strMeasure4': None,\n",
       "   'strMeasure5': None,\n",
       "   'strMeasure6': None,\n",
       "   'strMeasure7': None,\n",
       "   'strMeasure8': None,\n",
       "   'strMeasure9': None,\n",
       "   'strMeasure10': None,\n",
       "   'strMeasure11': None,\n",
       "   'strMeasure12': None,\n",
       "   'strMeasure13': None,\n",
       "   'strMeasure14': None,\n",
       "   'strMeasure15': None,\n",
       "   'strImageSource': None,\n",
       "   'strImageAttribution': None,\n",
       "   'strCreativeCommonsConfirmed': 'No',\n",
       "   'dateModified': '2017-12-19 17:59:53'},\n",
       "  {'idDrink': '178348',\n",
       "   'strDrink': 'Winter Paloma',\n",
       "   'strDrinkAlternate': None,\n",
       "   'strTags': 'Winter',\n",
       "   'strVideo': None,\n",
       "   'strCategory': 'Cocktail',\n",
       "   'strIBA': None,\n",
       "   'strAlcoholic': 'Alcoholic',\n",
       "   'strGlass': 'Highball glass',\n",
       "   'strInstructions': 'Everyone’s favourite Paloma gets a delicious Indian makeover. Tequila reposado infused with “Timur Pepper” which has citrusy & grapefruit notes and is grown at the foothills of Himalaya. It also produces a slightly numbing and tingling sensation on your lip when consumed. We have also spiced up the fresh grapefruit juice with the warming spice blend from Himalaya. The combination of all these interesting elements has allowed us to elevate your Paloma sipping experience.',\n",
       "   'strInstructionsES': 'La Paloma favorita de todos recibe un delicioso cambio de imagen indio. Tequila reposado infundido con \"Timur Pepper\", que tiene notas cítricas y de pomelo y se cultiva en las estribaciones del Himalaya. También produce una ligera sensación de entumecimiento y hormigueo en el labio cuando se consume. También hemos condimentado el zumo de pomelo fresco con la cálida mezcla de especias del Himalaya. La combinación de todos estos elementos interesantes nos ha permitido mejorar su experiencia al beber Paloma.',\n",
       "   'strInstructionsDE': 'Jedermanns Lieblings-Paloma erhält ein köstliches indisches Makeover. Reposado-Tequila mit „Timur-Pfeffer“, der Zitrus- und Grapefruitnoten aufweist und am Fuße des Himalaya angebaut wird. Außerdem erzeugt es beim Verzehr ein leicht betäubendes und kribbelndes Gefühl auf der Lippe. Den frischen Grapefruitsaft haben wir zusätzlich mit der wärmenden Gewürzmischung aus dem Himalaya aufgepeppt. Die Kombination all dieser interessanten Elemente hat es uns ermöglicht, Ihr Paloma-Schluckerlebnis zu verbessern.',\n",
       "   'strInstructionsFR': \"La Paloma préférée de tous fait l'objet d'une délicieuse cure de jouvence indienne. Tequila reposado infusée de « Poivre de Timur » aux notes d'agrumes et de pamplemousse et cultivée sur les contreforts de l'Himalaya. Il produit également une légère sensation d’engourdissement et de picotement sur la lèvre lorsqu’il est consommé. Nous avons également pimenté le jus de pamplemousse frais avec le mélange d'épices réchauffant de l'Himalaya. La combinaison de tous ces éléments intéressants nous a permis d'améliorer votre expérience de dégustation de Paloma.\",\n",
       "   'strInstructionsIT': 'Il Paloma preferito da tutti riceve un delizioso restyling indiano. Tequila reposado infuso con \"Timur Pepper\" che ha note agrumate e di pompelmo ed è coltivato ai piedi dell\\'Himalaya. Produce anche una sensazione leggermente intorpidita e formicolio sul labbro quando viene consumato. Abbiamo anche aromatizzato il succo di pompelmo fresco con la calda miscela di spezie dell\\'Himalaya. La combinazione di tutti questi elementi interessanti ci ha permesso di elevare la tua esperienza di sorseggiare Paloma.',\n",
       "   'strInstructionsZH-HANS': None,\n",
       "   'strInstructionsZH-HANT': None,\n",
       "   'strDrinkThumb': 'https://www.thecocktaildb.com/images/media/drink/u5f0pz1614007748.jpg',\n",
       "   'strIngredient1': 'Tequila',\n",
       "   'strIngredient2': 'Grapefruit Juice',\n",
       "   'strIngredient3': 'Lime Juice',\n",
       "   'strIngredient4': 'Agave Syrup',\n",
       "   'strIngredient5': 'Pepper',\n",
       "   'strIngredient6': None,\n",
       "   'strIngredient7': None,\n",
       "   'strIngredient8': None,\n",
       "   'strIngredient9': None,\n",
       "   'strIngredient10': None,\n",
       "   'strIngredient11': None,\n",
       "   'strIngredient12': None,\n",
       "   'strIngredient13': None,\n",
       "   'strIngredient14': None,\n",
       "   'strIngredient15': None,\n",
       "   'strMeasure1': '2 shots',\n",
       "   'strMeasure2': 'Top',\n",
       "   'strMeasure3': 'Juice of 1',\n",
       "   'strMeasure4': '1 tsp',\n",
       "   'strMeasure5': 'Dash',\n",
       "   'strMeasure6': '',\n",
       "   'strMeasure7': '',\n",
       "   'strMeasure8': None,\n",
       "   'strMeasure9': None,\n",
       "   'strMeasure10': None,\n",
       "   'strMeasure11': None,\n",
       "   'strMeasure12': None,\n",
       "   'strMeasure13': None,\n",
       "   'strMeasure14': None,\n",
       "   'strMeasure15': None,\n",
       "   'strImageSource': 'https://www.instagram.com/p/CLGZ97gnalH/',\n",
       "   'strImageAttribution': None,\n",
       "   'strCreativeCommonsConfirmed': 'No',\n",
       "   'dateModified': None},\n",
       "  {'idDrink': '178327',\n",
       "   'strDrink': 'Pineapple Paloma',\n",
       "   'strDrinkAlternate': None,\n",
       "   'strTags': None,\n",
       "   'strVideo': None,\n",
       "   'strCategory': 'Cocktail',\n",
       "   'strIBA': None,\n",
       "   'strAlcoholic': 'Alcoholic',\n",
       "   'strGlass': 'Collins glass',\n",
       "   'strInstructions': 'Rub the rim of each glass with lime slice and dip into salt.\\r\\nAdd ice, tequila, grapefruit juice, lime juice and top with pineapple soda.\\r\\nGive it a quick stir.\\r\\nGarnish with fresh pineapple or lime.',\n",
       "   'strInstructionsES': 'Frote el borde de cada vaso con una rodaja de lima y sumérjalo en sal.\\r\\nAñade hielo, tequila, zumo de pomelo, zumo de lima y completa con soda de piña.\\r\\nRemover rápidamente.\\r\\nDecorar con piña fresca o lima.',\n",
       "   'strInstructionsDE': None,\n",
       "   'strInstructionsFR': \"Frotter le bord de chaque verre avec une tranche de citron vert et le tremper dans du sel.\\r\\nAjoutez de la glace, de la tequila, du jus de pamplemousse, du jus de citron vert et complétez avec du soda à l'ananas.\\r\\nRemuer rapidement.\\r\\nDécorer avec de l'ananas ou du citron vert frais.\",\n",
       "   'strInstructionsIT': \"Strofina il bordo di ogni bicchiere con uno spicchio di lime e salalo.\\r\\nAggiungi ghiaccio, tequila, succo di pompelmo, succo di lime e aggiungi la soda all'ananas.\\r\\nDagli una rapida mescolata.\\r\\nGuarnire con ananas fresco o lime.\",\n",
       "   'strInstructionsZH-HANS': None,\n",
       "   'strInstructionsZH-HANT': None,\n",
       "   'strDrinkThumb': 'https://www.thecocktaildb.com/images/media/drink/pg8iw31593351601.jpg',\n",
       "   'strIngredient1': 'Tequila',\n",
       "   'strIngredient2': 'Grapefruit Juice',\n",
       "   'strIngredient3': 'Fresh Lime Juice',\n",
       "   'strIngredient4': 'Pineapple Juice',\n",
       "   'strIngredient5': 'Lime',\n",
       "   'strIngredient6': 'Pepper',\n",
       "   'strIngredient7': None,\n",
       "   'strIngredient8': None,\n",
       "   'strIngredient9': None,\n",
       "   'strIngredient10': None,\n",
       "   'strIngredient11': None,\n",
       "   'strIngredient12': None,\n",
       "   'strIngredient13': None,\n",
       "   'strIngredient14': None,\n",
       "   'strIngredient15': None,\n",
       "   'strMeasure1': '4 oz',\n",
       "   'strMeasure2': '4 oz',\n",
       "   'strMeasure3': '1 oz',\n",
       "   'strMeasure4': '8 oz',\n",
       "   'strMeasure5': 'Garnish with',\n",
       "   'strMeasure6': 'Rimmed',\n",
       "   'strMeasure7': '',\n",
       "   'strMeasure8': None,\n",
       "   'strMeasure9': None,\n",
       "   'strMeasure10': None,\n",
       "   'strMeasure11': None,\n",
       "   'strMeasure12': None,\n",
       "   'strMeasure13': None,\n",
       "   'strMeasure14': None,\n",
       "   'strMeasure15': None,\n",
       "   'strImageSource': None,\n",
       "   'strImageAttribution': None,\n",
       "   'strCreativeCommonsConfirmed': 'Yes',\n",
       "   'dateModified': None},\n",
       "  {'idDrink': '178335',\n",
       "   'strDrink': 'Lazy Coconut Paloma',\n",
       "   'strDrinkAlternate': None,\n",
       "   'strTags': 'Lazy, Sharp',\n",
       "   'strVideo': None,\n",
       "   'strCategory': 'Cocktail',\n",
       "   'strIBA': None,\n",
       "   'strAlcoholic': 'Alcoholic',\n",
       "   'strGlass': 'Highball glass',\n",
       "   'strInstructions': 'Mix the coconut liqueur (preferably tequila) with the grapefruit juice and top with soda water. Garnish with a large grapefruit slice against the inside of the glass.',\n",
       "   'strInstructionsES': 'Mezclar el licor de coco (preferiblemente tequila) con el zumo de pomelo y completar con agua de soda. Decorar con una rodaja grande de pomelo en el interior del vaso.',\n",
       "   'strInstructionsDE': None,\n",
       "   'strInstructionsFR': \"Mélanger la liqueur de noix de coco (de préférence la tequila) avec le jus de pamplemousse et compléter avec de l'eau gazeuse. Garnir d'une grosse tranche de pamplemousse contre l'intérieur du verre.\",\n",
       "   'strInstructionsIT': 'Mescolare il liquore al cocco (preferibilmente tequila) con il succo di pompelmo e guarnire con acqua di seltz. Versare una grossa fetta di pompelmo dentro il bicchiere.',\n",
       "   'strInstructionsZH-HANS': None,\n",
       "   'strInstructionsZH-HANT': None,\n",
       "   'strDrinkThumb': 'https://www.thecocktaildb.com/images/media/drink/rytuex1598719770.jpg',\n",
       "   'strIngredient1': 'Coconut Liqueur',\n",
       "   'strIngredient2': 'Grapefruit Juice',\n",
       "   'strIngredient3': 'Soda Water',\n",
       "   'strIngredient4': None,\n",
       "   'strIngredient5': None,\n",
       "   'strIngredient6': None,\n",
       "   'strIngredient7': None,\n",
       "   'strIngredient8': None,\n",
       "   'strIngredient9': None,\n",
       "   'strIngredient10': None,\n",
       "   'strIngredient11': None,\n",
       "   'strIngredient12': None,\n",
       "   'strIngredient13': None,\n",
       "   'strIngredient14': None,\n",
       "   'strIngredient15': None,\n",
       "   'strMeasure1': '30 ml',\n",
       "   'strMeasure2': '75 ml',\n",
       "   'strMeasure3': 'Top',\n",
       "   'strMeasure4': '',\n",
       "   'strMeasure5': '',\n",
       "   'strMeasure6': '',\n",
       "   'strMeasure7': '',\n",
       "   'strMeasure8': None,\n",
       "   'strMeasure9': None,\n",
       "   'strMeasure10': None,\n",
       "   'strMeasure11': None,\n",
       "   'strMeasure12': None,\n",
       "   'strMeasure13': None,\n",
       "   'strMeasure14': None,\n",
       "   'strMeasure15': None,\n",
       "   'strImageSource': None,\n",
       "   'strImageAttribution': None,\n",
       "   'strCreativeCommonsConfirmed': 'No',\n",
       "   'dateModified': None}]}"
      ]
     },
     "execution_count": 2,
     "metadata": {},
     "output_type": "execute_result"
    }
   ],
   "execution_count": 2
  },
  {
   "attachments": {},
   "cell_type": "markdown",
   "metadata": {
    "collapsed": false
   },
   "source": [
    "**b)** Wie viele Paloma-Rezepte sind es?"
   ]
  },
  {
   "cell_type": "code",
   "source": [
    "# counting\n",
    "count_palomas = len(data[\"drinks\"])\n",
    "print(count_palomas)"
   ],
   "metadata": {
    "collapsed": false,
    "ExecuteTime": {
     "end_time": "2025-01-19T10:35:22.230305Z",
     "start_time": "2025-01-19T10:35:22.223720Z"
    }
   },
   "outputs": [
    {
     "name": "stdout",
     "output_type": "stream",
     "text": [
      "4\n"
     ]
    }
   ],
   "execution_count": 3
  },
  {
   "attachments": {},
   "cell_type": "markdown",
   "metadata": {
    "collapsed": false
   },
   "source": [
    "**c)** Lass dir die Zutaten für den Cocktail ausgeben, der nur \"Paloma\" heißt (im Gegensatz zu erweiterten Palomas wie \"Winter Paloma\"). Du kannst hierfür davon ausgehen, dass das Rezept das Erste in der Liste ist. Vermeide hierbei die Ausgabe von \"None\"-Zutaten!"
   ]
  },
  {
   "metadata": {
    "ExecuteTime": {
     "end_time": "2025-01-19T10:39:02.348644Z",
     "start_time": "2025-01-19T10:39:02.342734Z"
    }
   },
   "cell_type": "code",
   "source": [
    "for key, value in data[\"drinks\"][0].items():\n",
    "\tif (\"strIngredient\" in key) and (value is not None):\n",
    "\t\tprint(value)"
   ],
   "outputs": [
    {
     "name": "stdout",
     "output_type": "stream",
     "text": [
      "Grape Soda\n",
      "Tequila\n"
     ]
    }
   ],
   "execution_count": 8
  },
  {
   "attachments": {},
   "cell_type": "markdown",
   "metadata": {
    "collapsed": false
   },
   "source": [
    "**d)** Optional: Löse Aufgabe 3 ohne zu wissen, an welcher Stelle in der Liste der \"Paloma\" steht."
   ]
  },
  {
   "metadata": {
    "ExecuteTime": {
     "end_time": "2025-01-19T10:39:35.648988Z",
     "start_time": "2025-01-19T10:39:35.640142Z"
    }
   },
   "cell_type": "code",
   "source": [
    "for drink in data[\"drinks\"]:\n",
    "\tif drink[\"strDrink\"] == \"Paloma\":\n",
    "\t\tfor key, value in drink.items():\n",
    "\t\t\tif (\"strIngredient\" in key) and (value is not None):\n",
    "\t\t\t\tprint(key, value)"
   ],
   "outputs": [
    {
     "name": "stdout",
     "output_type": "stream",
     "text": [
      "strIngredient1 Grape Soda\n",
      "strIngredient2 Tequila\n"
     ]
    }
   ],
   "execution_count": 9
  },
  {
   "cell_type": "markdown",
   "metadata": {},
   "source": "**e)** Optional: Frage die Daten zu einem beliebigen anderen Cocktail von der API ab. Eine Übersicht über die Cocktails findest du auf der Hauptseite https://www.thecocktaildb.com/"
  },
  {
   "metadata": {
    "collapsed": false,
    "ExecuteTime": {
     "end_time": "2025-01-19T10:43:51.146120Z",
     "start_time": "2025-01-19T10:43:50.956297Z"
    }
   },
   "cell_type": "code",
   "source": [
    "url2 = \"https://thecocktaildb.com/api/json/v1/1/search.php?s=cuba_libre\"\n",
    "requests.get(url2).text"
   ],
   "outputs": [
    {
     "data": {
      "text/plain": [
       "'{\"drinks\":[{\"idDrink\":\"11288\",\"strDrink\":\"Cuba Libre\",\"strDrinkAlternate\":null,\"strTags\":\"IBA,ContemporaryClassic\",\"strVideo\":null,\"strCategory\":\"Ordinary Drink\",\"strIBA\":\"Contemporary Classics\",\"strAlcoholic\":\"Alcoholic\",\"strGlass\":\"Highball glass\",\"strInstructions\":\"Build all ingredients in a Collins glass filled with ice. Garnish with lime wedge.\",\"strInstructionsES\":\"Poner todos los ingredientes en un vaso Collins lleno de hielo. Decorar con una rodaja de lima.\",\"strInstructionsDE\":\"Geben Sie alle Zutaten in ein mit Eis gef\\\\u00fclltes Collins-Glas. Mit Limettenkeil garnieren.\",\"strInstructionsFR\":\"Mettre tous les ingr\\\\u00e9dients dans un verre Collins rempli de glace. Garnir d\\'un quartier de citron vert.\",\"strInstructionsIT\":\"Mettere tutti gli ingredienti in un bicchiere Collins pieno di ghiaccio. Guarnire con uno spicchio di lime.\",\"strInstructionsZH-HANS\":null,\"strInstructionsZH-HANT\":null,\"strDrinkThumb\":\"https:\\\\/\\\\/www.thecocktaildb.com\\\\/images\\\\/media\\\\/drink\\\\/wmkbfj1606853905.jpg\",\"strIngredient1\":\"Light rum\",\"strIngredient2\":\"Lime\",\"strIngredient3\":\"Coca-Cola\",\"strIngredient4\":null,\"strIngredient5\":null,\"strIngredient6\":null,\"strIngredient7\":null,\"strIngredient8\":null,\"strIngredient9\":null,\"strIngredient10\":null,\"strIngredient11\":null,\"strIngredient12\":null,\"strIngredient13\":null,\"strIngredient14\":null,\"strIngredient15\":null,\"strMeasure1\":\"2 oz \",\"strMeasure2\":\"Juice of 1\\\\/2 \",\"strMeasure3\":null,\"strMeasure4\":null,\"strMeasure5\":null,\"strMeasure6\":null,\"strMeasure7\":null,\"strMeasure8\":null,\"strMeasure9\":null,\"strMeasure10\":null,\"strMeasure11\":null,\"strMeasure12\":null,\"strMeasure13\":null,\"strMeasure14\":null,\"strMeasure15\":null,\"strImageSource\":\"https:\\\\/\\\\/commons.wikimedia.org\\\\/wiki\\\\/File:Cuba_Libre.jpg\",\"strImageAttribution\":\"Martin Belam (currybet)\",\"strCreativeCommonsConfirmed\":\"Yes\",\"dateModified\":\"2016-09-06 23:41:03\"}]}'"
      ]
     },
     "execution_count": 13,
     "metadata": {},
     "output_type": "execute_result"
    }
   ],
   "execution_count": 13
  },
  {
   "attachments": {},
   "cell_type": "markdown",
   "metadata": {
    "collapsed": false
   },
   "source": [
    "# Aufgabe 3 - Trivia Fakten\n",
    "\n",
    "**a)** Lass dir mithilfe des bereitgestellten Links den Trivia-Fakt der Nummer 42 ausgeben. Die Ausgabe soll ein reiner Satz sein (also ohne HTML-Elemente, nicht als JSON usw.)."
   ]
  },
  {
   "cell_type": "code",
   "source": "url3 = \"http://numbersapi.com/42\"",
   "metadata": {
    "collapsed": false,
    "ExecuteTime": {
     "end_time": "2025-01-19T11:21:54.038450Z",
     "start_time": "2025-01-19T11:21:54.030478Z"
    }
   },
   "outputs": [],
   "execution_count": 22
  },
  {
   "metadata": {
    "ExecuteTime": {
     "end_time": "2025-01-19T11:21:56.975253Z",
     "start_time": "2025-01-19T11:21:56.168626Z"
    }
   },
   "cell_type": "code",
   "source": "requests.get(url3).text",
   "outputs": [
    {
     "data": {
      "text/plain": [
       "'42 is the number of laws of cricket.'"
      ]
     },
     "execution_count": 23,
     "metadata": {},
     "output_type": "execute_result"
    }
   ],
   "execution_count": 23
  },
  {
   "cell_type": "markdown",
   "metadata": {},
   "source": [
    "**b)** Erstelle eine Schleife, welche 10 solcher Trivia-Fakten durch Link-Abruf holt und diese in eine Python-Liste einbindet. Gib die Liste anschließend aus."
   ]
  },
  {
   "cell_type": "code",
   "source": [
    "triv_list = []\n",
    "\n",
    "for i in range(1, 11):\n",
    "\tfact = requests.get(url3).text\n",
    "\ttriv_list.append(fact)\n",
    "print('\\n'.join(triv_list))"
   ],
   "metadata": {
    "collapsed": false,
    "ExecuteTime": {
     "end_time": "2025-01-19T11:22:05.952892Z",
     "start_time": "2025-01-19T11:21:58.350757Z"
    }
   },
   "outputs": [
    {
     "name": "stdout",
     "output_type": "stream",
     "text": [
      "42 is the number of museums in Amsterdam (Netherlands has the highest concentration of museums in the world).\n",
      "42 is the sum of the codes of the letters in the words \"BIG BANG\" using the encoding A=1, B=2, C=3, etc.\n",
      "42 is the number of museums in Amsterdam (Netherlands has the highest concentration of museums in the world).\n",
      "42 is the number of kilometers in a marathon.\n",
      "42 is the number of laws of cricket.\n",
      "42 is the number of museums in Amsterdam (Netherlands has the highest concentration of museums in the world).\n",
      "42 is the number of laws of cricket.\n",
      "42 is the number of laws of cricket.\n",
      "42 is the result given by the web search engines Google, Wolfram Alpha and Bing when the query \"the answer to life the universe and everything\" is entered as a search.\n",
      "42 is the number of spots (or pips, circular patches or pits) on a pair of standard six-sided dice.\n"
     ]
    }
   ],
   "execution_count": 24
  },
  {
   "cell_type": "markdown",
   "metadata": {},
   "source": [
    "**c)** Generiere nun mittels API-Aufruf einen Trivia-Fakt über eine beliebige andere Zahl.  "
   ]
  },
  {
   "cell_type": "code",
   "source": [
    "url4 = \"http://numbersapi.com/1337\"\n",
    "requests.get(url4).text"
   ],
   "metadata": {
    "collapsed": false,
    "ExecuteTime": {
     "end_time": "2025-01-19T11:00:04.691880Z",
     "start_time": "2025-01-19T11:00:03.912751Z"
    }
   },
   "outputs": [
    {
     "data": {
      "text/plain": [
       "'1337 is the weight in pounds of the biggest pumpkin in the world.'"
      ]
     },
     "execution_count": 20,
     "metadata": {},
     "output_type": "execute_result"
    }
   ],
   "execution_count": 20
  },
  {
   "cell_type": "markdown",
   "metadata": {},
   "source": [
    "**d)** Optional: Generiere eine Liste mit einem Fakt über jede Zahl von 1-10 und gib diese Liste aus. "
   ]
  },
  {
   "cell_type": "code",
   "source": [
    "facts = []\n",
    "\n",
    "for i in range(1, 11):\n",
    "\tfact = requests.get(f\"http://numbersapi.com/{i}\").text\n",
    "\tfacts.append(fact)\n",
    "for fact in facts:\n",
    "\tprint(fact)"
   ],
   "metadata": {
    "collapsed": false,
    "ExecuteTime": {
     "end_time": "2025-01-19T11:04:12.841752Z",
     "start_time": "2025-01-19T11:04:05.116309Z"
    }
   },
   "outputs": [
    {
     "name": "stdout",
     "output_type": "stream",
     "text": [
      "1 is the loneliest number.\n",
      "2 is the first magic number in physics.\n",
      "3 is the number of notes in a triad, the basic form of any chord.\n",
      "4 is the number of strings on a violin, a viola, a cello, double bass, a cuatro and a ukulele, and the number of string pairs on a mandolin.\n",
      "5 is the number of Justices on the Supreme Court of the United States necessary to render a majority decision.\n",
      "6 is the number of days taken to create the world by Yahweh in the Old Testament Book of Genesis, and the number of the day on which humankind were created.\n",
      "7 is the number of days in a week.\n",
      "8 is the number of principles of Yong in Chinese calligraphy.\n",
      "9 is the number of circles of Hell in Dante's Divine Comedy.\n",
      "10 is the number of hydrogen atoms in butane, a hydrocarbon.\n"
     ]
    }
   ],
   "execution_count": 21
  }
 ],
 "metadata": {
  "kernelspec": {
   "display_name": "Python 3",
   "language": "python",
   "name": "python3"
  },
  "language_info": {
   "codemirror_mode": {
    "name": "ipython",
    "version": 3
   },
   "file_extension": ".py",
   "mimetype": "text/x-python",
   "name": "python",
   "nbconvert_exporter": "python",
   "pygments_lexer": "ipython3",
   "version": "3.11.5"
  }
 },
 "nbformat": 4,
 "nbformat_minor": 0
}
