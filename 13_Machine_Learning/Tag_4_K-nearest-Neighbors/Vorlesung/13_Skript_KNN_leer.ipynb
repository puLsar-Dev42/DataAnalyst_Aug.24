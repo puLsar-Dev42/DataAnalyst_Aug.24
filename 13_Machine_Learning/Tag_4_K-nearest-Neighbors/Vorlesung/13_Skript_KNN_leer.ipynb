{
 "cells": [
  {
   "metadata": {},
   "cell_type": "markdown",
   "source": [
    "# Datenanalyse mit KI & Machine Learning\n",
    "## Klassifikation mit KNN"
   ],
   "id": "8a0403c5825fe314"
  },
  {
   "metadata": {},
   "cell_type": "markdown",
   "source": [
    "<h3>KNN steht für <b>k-nächste Nachbarn</b><br></h3>\n",
    "<p>Es handelt sich hierbei um keine Regression, bei der Werte ausgerechnet werden, sondern um <b>Klassifikation</b>, bei der Entitäten (Zeilen) passende Klassen (Werte aus y) zugeordnet werden.</p>\n",
    "<p>Die Zugehörigkeit von Punkten zu Klassen und damit zu Clustern wird über eine\n",
    "gewisse Anzahl von Nachbarn aus einer Klasse gesteuert.</p>\n",
    "<p>Sagen wir, dass z.B. die 3 nächsten Nachbarn die Zugehörigkeit bestimmen,\n",
    "dann wird unser Modell bei jedem Punkt schauen, welches die nächsten drei Punkte sind\n",
    "und je nach ihrer Klassenzugehörigkeit dem aktuellen Punkt ein Label verpassen.</p>"
   ],
   "id": "51bce56c9ff976fa"
  },
  {
   "metadata": {
    "ExecuteTime": {
     "end_time": "2025-05-08T10:11:28.573849Z",
     "start_time": "2025-05-08T10:11:28.256478Z"
    }
   },
   "cell_type": "code",
   "source": [
    "import numpy as np\n",
    "import matplotlib.pyplot as plt\n",
    "from sklearn.datasets import make_classification\n",
    "from sklearn.metrics import confusion_matrix, ConfusionMatrixDisplay, \\\n",
    "\tclassification_report\n",
    "from sklearn.model_selection import train_test_split, GridSearchCV\n",
    "from sklearn.neighbors import KNeighborsClassifier\n",
    "import seaborn as sns\n",
    "import pandas as pd"
   ],
   "id": "8fe4fd936812683a",
   "outputs": [],
   "execution_count": 1
  },
  {
   "metadata": {
    "ExecuteTime": {
     "end_time": "2025-05-08T10:11:28.607012Z",
     "start_time": "2025-05-08T10:11:28.601992Z"
    }
   },
   "cell_type": "code",
   "source": [
    "# Mit make_classification erstellen wir Daten, die eine gewählte Anzahl Cluster\n",
    "# enthalten"
   ],
   "id": "66d2a834074318e0",
   "outputs": [],
   "execution_count": 2
  },
  {
   "metadata": {
    "ExecuteTime": {
     "end_time": "2025-05-08T10:11:28.625940Z",
     "start_time": "2025-05-08T10:11:28.621299Z"
    }
   },
   "cell_type": "code",
   "source": "# Fall 1: Klar getrennte Cluster erzeugen (und danach mit KNN finden):\n",
   "id": "ce58a8f1624edaff",
   "outputs": [],
   "execution_count": 3
  },
  {
   "metadata": {
    "ExecuteTime": {
     "end_time": "2025-05-08T10:11:28.794677Z",
     "start_time": "2025-05-08T10:11:28.790437Z"
    }
   },
   "cell_type": "code",
   "source": "# Datenpunkte:\n",
   "id": "fea91f6e9be5edcd",
   "outputs": [],
   "execution_count": 4
  },
  {
   "metadata": {
    "ExecuteTime": {
     "end_time": "2025-05-08T10:11:28.818448Z",
     "start_time": "2025-05-08T10:11:28.814739Z"
    }
   },
   "cell_type": "code",
   "source": "# Klassenzugehörigkeiten\n",
   "id": "109e68892bbae4d5",
   "outputs": [],
   "execution_count": 5
  },
  {
   "metadata": {
    "ExecuteTime": {
     "end_time": "2025-05-08T10:11:28.979305Z",
     "start_time": "2025-05-08T10:11:28.974285Z"
    }
   },
   "cell_type": "code",
   "source": [
    "# Lasst uns zunächst die \"Wahrheit\" plotten, also die Datenpunkte mit \n",
    "# der Klasse, der sie in y zugeordnet werden (0 oder 1):\n",
    "\n"
   ],
   "id": "71692cfb8bf5c86a",
   "outputs": [],
   "execution_count": 6
  },
  {
   "metadata": {
    "ExecuteTime": {
     "end_time": "2025-05-08T10:11:29.091014Z",
     "start_time": "2025-05-08T10:11:29.086679Z"
    }
   },
   "cell_type": "code",
   "source": "# Aufsplitten in Trainings- und Testdaten (Validierung sparen wir uns)\n",
   "id": "3cdfe2618b0f826",
   "outputs": [],
   "execution_count": 7
  },
  {
   "metadata": {
    "ExecuteTime": {
     "end_time": "2025-05-08T10:11:29.121031Z",
     "start_time": "2025-05-08T10:11:29.116149Z"
    }
   },
   "cell_type": "code",
   "source": [
    "# KNN-Modell instantiieren (ein Objekt der Klasse erstellen)\n",
    "# (Mit Hyperparameter n_neighbors standardmäßig auf 5 eingestellt)\n"
   ],
   "id": "c32fee1f0a2123ca",
   "outputs": [],
   "execution_count": 8
  },
  {
   "metadata": {
    "ExecuteTime": {
     "end_time": "2025-05-08T10:11:29.160352Z",
     "start_time": "2025-05-08T10:11:29.155662Z"
    }
   },
   "cell_type": "code",
   "source": "# Modell an Trainingsdaten trainieren:\n",
   "id": "af4870b9970b7086",
   "outputs": [],
   "execution_count": 9
  },
  {
   "metadata": {
    "ExecuteTime": {
     "end_time": "2025-05-08T10:11:29.200859Z",
     "start_time": "2025-05-08T10:11:29.196487Z"
    }
   },
   "cell_type": "code",
   "source": [
    "# Treffergenauigkeit (accuracy) bestimmen anhand des Testdatensatzes\n",
    "# Sprich: Wie viele der Vorhersagen waren korrekt?\n"
   ],
   "id": "917122bc79bc006f",
   "outputs": [],
   "execution_count": 10
  },
  {
   "metadata": {
    "ExecuteTime": {
     "end_time": "2025-05-08T10:11:29.225978Z",
     "start_time": "2025-05-08T10:11:29.221462Z"
    }
   },
   "cell_type": "code",
   "source": "# Anschauen, wie die vorhergesagten Cluster aussehen:\n",
   "id": "219bc1eeccd2a59",
   "outputs": [],
   "execution_count": 11
  },
  {
   "metadata": {
    "ExecuteTime": {
     "end_time": "2025-05-08T10:11:29.268328Z",
     "start_time": "2025-05-08T10:11:29.263824Z"
    }
   },
   "cell_type": "code",
   "source": "# Wahrheit und Vorhersage nebeneinander plotten:\n",
   "id": "ebe9b2dc41cb3d26",
   "outputs": [],
   "execution_count": 12
  },
  {
   "metadata": {
    "ExecuteTime": {
     "end_time": "2025-05-08T10:11:29.297261Z",
     "start_time": "2025-05-08T10:11:29.293099Z"
    }
   },
   "cell_type": "code",
   "source": [
    "# Fazit: Ja, in diesem einfachen Fall war es tatsächlich möglich, alle Punkte\n",
    "# korrekt zu bestimmen."
   ],
   "id": "63c276771d31ea0f",
   "outputs": [],
   "execution_count": 13
  },
  {
   "metadata": {
    "ExecuteTime": {
     "end_time": "2025-05-08T10:11:29.326344Z",
     "start_time": "2025-05-08T10:11:29.322319Z"
    }
   },
   "cell_type": "code",
   "source": "# Fall 2: Cluster mit Überschneidungen erzeugen (und danach mit KNN finden):\n",
   "id": "1cd0f2b4cce3bae",
   "outputs": [],
   "execution_count": 14
  },
  {
   "metadata": {
    "ExecuteTime": {
     "end_time": "2025-05-08T10:11:29.364801Z",
     "start_time": "2025-05-08T10:11:29.360307Z"
    }
   },
   "cell_type": "code",
   "source": "# Zunächst wieder der Plot der \"wahren\" Cluster (mit Labels):\n",
   "id": "828f28fe93311ed",
   "outputs": [],
   "execution_count": 15
  },
  {
   "metadata": {
    "ExecuteTime": {
     "end_time": "2025-05-08T10:11:29.394192Z",
     "start_time": "2025-05-08T10:11:29.389367Z"
    }
   },
   "cell_type": "code",
   "source": "# Quizfrage: Wird hier KNN funktionieren?",
   "id": "379e34b3dab97e78",
   "outputs": [],
   "execution_count": 16
  },
  {
   "metadata": {
    "ExecuteTime": {
     "end_time": "2025-05-08T10:11:29.442966Z",
     "start_time": "2025-05-08T10:11:29.438445Z"
    }
   },
   "cell_type": "code",
   "source": "# Aufsplitten in Trainings- und Testdaten (Validierung sparen wir uns noch):\n",
   "id": "93bd7544e54e7bde",
   "outputs": [],
   "execution_count": 17
  },
  {
   "metadata": {
    "ExecuteTime": {
     "end_time": "2025-05-08T10:11:29.476826Z",
     "start_time": "2025-05-08T10:11:29.472283Z"
    }
   },
   "cell_type": "code",
   "source": "# Modelltraining:\n",
   "id": "aa0de527ed681cef",
   "outputs": [],
   "execution_count": 18
  },
  {
   "metadata": {
    "ExecuteTime": {
     "end_time": "2025-05-08T10:11:29.513793Z",
     "start_time": "2025-05-08T10:11:29.510002Z"
    }
   },
   "cell_type": "code",
   "source": "# Modell-Performance:\n",
   "id": "f1bbc5fb0e30f9d5",
   "outputs": [],
   "execution_count": 19
  },
  {
   "metadata": {
    "ExecuteTime": {
     "end_time": "2025-05-08T10:11:29.539795Z",
     "start_time": "2025-05-08T10:11:29.535272Z"
    }
   },
   "cell_type": "code",
   "source": "# Predictions als Array generieren:\n",
   "id": "e0af94d70ccf7505",
   "outputs": [],
   "execution_count": 20
  },
  {
   "metadata": {
    "ExecuteTime": {
     "end_time": "2025-05-08T10:11:29.585712Z",
     "start_time": "2025-05-08T10:11:29.578588Z"
    }
   },
   "cell_type": "code",
   "source": "# Plotten von Testdaten mit Labels vs. Predictions:\n",
   "id": "36341bb1bf6a0625",
   "outputs": [],
   "execution_count": 21
  },
  {
   "metadata": {
    "ExecuteTime": {
     "end_time": "2025-05-08T10:11:29.621790Z",
     "start_time": "2025-05-08T10:11:29.618267Z"
    }
   },
   "cell_type": "code",
   "source": [
    "# Quizfrage: Warum sind die beiden Punkte bei Predictions gelb?\n",
    "# Tipp: default values"
   ],
   "id": "3ea95c0ea05b140e",
   "outputs": [],
   "execution_count": 22
  },
  {
   "metadata": {
    "ExecuteTime": {
     "end_time": "2025-05-08T10:11:29.656403Z",
     "start_time": "2025-05-08T10:11:29.652305Z"
    }
   },
   "cell_type": "code",
   "source": [
    "# Wie sieht das Clustering der Testdaten aus? \n",
    "# Plotten von Testdaten mit Labels vs. Predictions:\n"
   ],
   "id": "3e64bd1d118bff43",
   "outputs": [],
   "execution_count": 23
  },
  {
   "metadata": {
    "ExecuteTime": {
     "end_time": "2025-05-08T10:11:29.683553Z",
     "start_time": "2025-05-08T10:11:29.678904Z"
    }
   },
   "cell_type": "code",
   "source": [
    "# Mit Hyperparametern spielen. \n",
    "# Was für ein Ergebnis gibt es, wenn nur 2 nächste Nachbarn die Clusterzugehörigkeit bestimmen? "
   ],
   "id": "eab850b167ce6f9e",
   "outputs": [],
   "execution_count": 24
  },
  {
   "metadata": {
    "ExecuteTime": {
     "end_time": "2025-05-08T10:11:29.712897Z",
     "start_time": "2025-05-08T10:11:29.709394Z"
    }
   },
   "cell_type": "code",
   "source": "",
   "id": "615e1fd33706700c",
   "outputs": [],
   "execution_count": null
  },
  {
   "metadata": {
    "ExecuteTime": {
     "end_time": "2025-05-08T10:11:29.747303Z",
     "start_time": "2025-05-08T10:11:29.742291Z"
    }
   },
   "cell_type": "code",
   "source": [
    "# Quizfrage: Was ist denn hier passiert?\n",
    "# Unten links ist die Nachbarschaft doch ganz \"klar\"!"
   ],
   "id": "d0cf01d4bfb5e724",
   "outputs": [],
   "execution_count": 25
  },
  {
   "metadata": {
    "ExecuteTime": {
     "end_time": "2025-05-08T10:11:29.774307Z",
     "start_time": "2025-05-08T10:11:29.770549Z"
    }
   },
   "cell_type": "code",
   "source": "",
   "id": "4e5abe4bb6d1d030",
   "outputs": [],
   "execution_count": null
  },
  {
   "metadata": {
    "ExecuteTime": {
     "end_time": "2025-05-08T10:11:29.823998Z",
     "start_time": "2025-05-08T10:11:29.820042Z"
    }
   },
   "cell_type": "code",
   "source": [
    "# Das Modell hat von den Trainingsdaten und nicht von den Testdaten gelernt.\n",
    "# Es wird immer Punkte nach ihrer Nähe zu Punkten bestimmen, wie sie in den Trainingsdaten\n",
    "# vorlagen!"
   ],
   "id": "c1261400546fb37f",
   "outputs": [],
   "execution_count": 26
  },
  {
   "metadata": {
    "ExecuteTime": {
     "end_time": "2025-05-08T10:11:29.869345Z",
     "start_time": "2025-05-08T10:11:29.864842Z"
    }
   },
   "cell_type": "code",
   "source": [
    "# Bei welchem n macht unser Modell die beste Arbeit? (bzw. hat es die geringste Fehlerrate)\n",
    "# Gridsearch mit for-Schleife "
   ],
   "id": "edd4806bd43c26a0",
   "outputs": [],
   "execution_count": 27
  },
  {
   "metadata": {
    "ExecuteTime": {
     "end_time": "2025-05-08T10:11:29.922149Z",
     "start_time": "2025-05-08T10:11:29.918145Z"
    }
   },
   "cell_type": "code",
   "source": [
    "# Eigener Gridsearch mit For-Schleife\n",
    "# Training mit verschiedenen k's und Vergleich der Fehlerraten\n"
   ],
   "id": "2fc67fe1d7152073",
   "outputs": [],
   "execution_count": 28
  },
  {
   "metadata": {
    "ExecuteTime": {
     "end_time": "2025-05-08T10:11:29.964817Z",
     "start_time": "2025-05-08T10:11:29.960293Z"
    }
   },
   "cell_type": "code",
   "source": "# Fehlerraten visualisieren und die besten sehen:\n",
   "id": "a00385c53379af03",
   "outputs": [],
   "execution_count": 29
  },
  {
   "metadata": {
    "ExecuteTime": {
     "end_time": "2025-05-08T10:11:30.001837Z",
     "start_time": "2025-05-08T10:11:29.997329Z"
    }
   },
   "cell_type": "code",
   "source": "# Die besten n mit for-Schleife rausholen:\n",
   "id": "9a90f1a3093eebeb",
   "outputs": [],
   "execution_count": 30
  },
  {
   "metadata": {
    "ExecuteTime": {
     "end_time": "2025-05-08T10:11:30.040583Z",
     "start_time": "2025-05-08T10:11:30.036573Z"
    }
   },
   "cell_type": "code",
   "source": "# Dann lasst uns die Visualisierung für n=18 durchspielen!",
   "id": "e14b58d55159e0d5",
   "outputs": [],
   "execution_count": 31
  },
  {
   "metadata": {
    "ExecuteTime": {
     "end_time": "2025-05-08T10:11:30.084224Z",
     "start_time": "2025-05-08T10:11:30.080707Z"
    }
   },
   "cell_type": "code",
   "source": "",
   "id": "a94e5ebb5c75e3a1",
   "outputs": [],
   "execution_count": null
  },
  {
   "metadata": {
    "ExecuteTime": {
     "end_time": "2025-05-08T10:11:30.113381Z",
     "start_time": "2025-05-08T10:11:30.109494Z"
    }
   },
   "cell_type": "code",
   "source": [
    "# Aber Vorsicht, das lag nur daran, dass Test so angenehm wenig Punkte hatte.\n",
    "# Für die Trainingsdaten (mit viel mehr Punkten) sind die Cluster nicht ganz so perfekt.\n"
   ],
   "id": "ab1366f8da9906b2",
   "outputs": [],
   "execution_count": 32
  },
  {
   "metadata": {},
   "cell_type": "markdown",
   "source": "# Jetzt wird es ernst: <br>Bestimmung der Gut-/Bösartigkeit von Tumoren",
   "id": "7ca90f06d2499ea1"
  },
  {
   "metadata": {},
   "cell_type": "markdown",
   "source": "## Mit KNN: K-Nearest Neighbour (K-Nächste Nachbarn)",
   "id": "19eea09a8b38e020"
  },
  {
   "metadata": {
    "ExecuteTime": {
     "end_time": "2025-05-08T10:11:30.225413Z",
     "start_time": "2025-05-08T10:11:30.186339Z"
    }
   },
   "cell_type": "code",
   "source": [
    "cancer = pd.read_csv('breast_cancer.csv', index_col='id')\n",
    "cancer.head()"
   ],
   "id": "4a75fed09eb59618",
   "outputs": [
    {
     "data": {
      "text/plain": [
       "         diagnosis  radius_mean  texture_mean  perimeter_mean  area_mean  \\\n",
       "id                                                                         \n",
       "842302           M        17.99         10.38          122.80     1001.0   \n",
       "842517           M        20.57         17.77          132.90     1326.0   \n",
       "84300903         M        19.69         21.25          130.00     1203.0   \n",
       "84348301         M        11.42         20.38           77.58      386.1   \n",
       "84358402         M        20.29         14.34          135.10     1297.0   \n",
       "\n",
       "          smoothness_mean  compactness_mean  concavity_mean  \\\n",
       "id                                                            \n",
       "842302            0.11840           0.27760          0.3001   \n",
       "842517            0.08474           0.07864          0.0869   \n",
       "84300903          0.10960           0.15990          0.1974   \n",
       "84348301          0.14250           0.28390          0.2414   \n",
       "84358402          0.10030           0.13280          0.1980   \n",
       "\n",
       "          concave points_mean  symmetry_mean  ...  texture_worst  \\\n",
       "id                                            ...                  \n",
       "842302                0.14710         0.2419  ...          17.33   \n",
       "842517                0.07017         0.1812  ...          23.41   \n",
       "84300903              0.12790         0.2069  ...          25.53   \n",
       "84348301              0.10520         0.2597  ...          26.50   \n",
       "84358402              0.10430         0.1809  ...          16.67   \n",
       "\n",
       "          perimeter_worst  area_worst  smoothness_worst  compactness_worst  \\\n",
       "id                                                                           \n",
       "842302             184.60      2019.0            0.1622             0.6656   \n",
       "842517             158.80      1956.0            0.1238             0.1866   \n",
       "84300903           152.50      1709.0            0.1444             0.4245   \n",
       "84348301            98.87       567.7            0.2098             0.8663   \n",
       "84358402           152.20      1575.0            0.1374             0.2050   \n",
       "\n",
       "          concavity_worst  concave points_worst  symmetry_worst  \\\n",
       "id                                                                \n",
       "842302             0.7119                0.2654          0.4601   \n",
       "842517             0.2416                0.1860          0.2750   \n",
       "84300903           0.4504                0.2430          0.3613   \n",
       "84348301           0.6869                0.2575          0.6638   \n",
       "84358402           0.4000                0.1625          0.2364   \n",
       "\n",
       "          fractal_dimension_worst  Unnamed: 32  \n",
       "id                                              \n",
       "842302                    0.11890          NaN  \n",
       "842517                    0.08902          NaN  \n",
       "84300903                  0.08758          NaN  \n",
       "84348301                  0.17300          NaN  \n",
       "84358402                  0.07678          NaN  \n",
       "\n",
       "[5 rows x 32 columns]"
      ],
      "text/html": [
       "<div>\n",
       "<style scoped>\n",
       "    .dataframe tbody tr th:only-of-type {\n",
       "        vertical-align: middle;\n",
       "    }\n",
       "\n",
       "    .dataframe tbody tr th {\n",
       "        vertical-align: top;\n",
       "    }\n",
       "\n",
       "    .dataframe thead th {\n",
       "        text-align: right;\n",
       "    }\n",
       "</style>\n",
       "<table border=\"1\" class=\"dataframe\">\n",
       "  <thead>\n",
       "    <tr style=\"text-align: right;\">\n",
       "      <th></th>\n",
       "      <th>diagnosis</th>\n",
       "      <th>radius_mean</th>\n",
       "      <th>texture_mean</th>\n",
       "      <th>perimeter_mean</th>\n",
       "      <th>area_mean</th>\n",
       "      <th>smoothness_mean</th>\n",
       "      <th>compactness_mean</th>\n",
       "      <th>concavity_mean</th>\n",
       "      <th>concave points_mean</th>\n",
       "      <th>symmetry_mean</th>\n",
       "      <th>...</th>\n",
       "      <th>texture_worst</th>\n",
       "      <th>perimeter_worst</th>\n",
       "      <th>area_worst</th>\n",
       "      <th>smoothness_worst</th>\n",
       "      <th>compactness_worst</th>\n",
       "      <th>concavity_worst</th>\n",
       "      <th>concave points_worst</th>\n",
       "      <th>symmetry_worst</th>\n",
       "      <th>fractal_dimension_worst</th>\n",
       "      <th>Unnamed: 32</th>\n",
       "    </tr>\n",
       "    <tr>\n",
       "      <th>id</th>\n",
       "      <th></th>\n",
       "      <th></th>\n",
       "      <th></th>\n",
       "      <th></th>\n",
       "      <th></th>\n",
       "      <th></th>\n",
       "      <th></th>\n",
       "      <th></th>\n",
       "      <th></th>\n",
       "      <th></th>\n",
       "      <th></th>\n",
       "      <th></th>\n",
       "      <th></th>\n",
       "      <th></th>\n",
       "      <th></th>\n",
       "      <th></th>\n",
       "      <th></th>\n",
       "      <th></th>\n",
       "      <th></th>\n",
       "      <th></th>\n",
       "      <th></th>\n",
       "    </tr>\n",
       "  </thead>\n",
       "  <tbody>\n",
       "    <tr>\n",
       "      <th>842302</th>\n",
       "      <td>M</td>\n",
       "      <td>17.99</td>\n",
       "      <td>10.38</td>\n",
       "      <td>122.80</td>\n",
       "      <td>1001.0</td>\n",
       "      <td>0.11840</td>\n",
       "      <td>0.27760</td>\n",
       "      <td>0.3001</td>\n",
       "      <td>0.14710</td>\n",
       "      <td>0.2419</td>\n",
       "      <td>...</td>\n",
       "      <td>17.33</td>\n",
       "      <td>184.60</td>\n",
       "      <td>2019.0</td>\n",
       "      <td>0.1622</td>\n",
       "      <td>0.6656</td>\n",
       "      <td>0.7119</td>\n",
       "      <td>0.2654</td>\n",
       "      <td>0.4601</td>\n",
       "      <td>0.11890</td>\n",
       "      <td>NaN</td>\n",
       "    </tr>\n",
       "    <tr>\n",
       "      <th>842517</th>\n",
       "      <td>M</td>\n",
       "      <td>20.57</td>\n",
       "      <td>17.77</td>\n",
       "      <td>132.90</td>\n",
       "      <td>1326.0</td>\n",
       "      <td>0.08474</td>\n",
       "      <td>0.07864</td>\n",
       "      <td>0.0869</td>\n",
       "      <td>0.07017</td>\n",
       "      <td>0.1812</td>\n",
       "      <td>...</td>\n",
       "      <td>23.41</td>\n",
       "      <td>158.80</td>\n",
       "      <td>1956.0</td>\n",
       "      <td>0.1238</td>\n",
       "      <td>0.1866</td>\n",
       "      <td>0.2416</td>\n",
       "      <td>0.1860</td>\n",
       "      <td>0.2750</td>\n",
       "      <td>0.08902</td>\n",
       "      <td>NaN</td>\n",
       "    </tr>\n",
       "    <tr>\n",
       "      <th>84300903</th>\n",
       "      <td>M</td>\n",
       "      <td>19.69</td>\n",
       "      <td>21.25</td>\n",
       "      <td>130.00</td>\n",
       "      <td>1203.0</td>\n",
       "      <td>0.10960</td>\n",
       "      <td>0.15990</td>\n",
       "      <td>0.1974</td>\n",
       "      <td>0.12790</td>\n",
       "      <td>0.2069</td>\n",
       "      <td>...</td>\n",
       "      <td>25.53</td>\n",
       "      <td>152.50</td>\n",
       "      <td>1709.0</td>\n",
       "      <td>0.1444</td>\n",
       "      <td>0.4245</td>\n",
       "      <td>0.4504</td>\n",
       "      <td>0.2430</td>\n",
       "      <td>0.3613</td>\n",
       "      <td>0.08758</td>\n",
       "      <td>NaN</td>\n",
       "    </tr>\n",
       "    <tr>\n",
       "      <th>84348301</th>\n",
       "      <td>M</td>\n",
       "      <td>11.42</td>\n",
       "      <td>20.38</td>\n",
       "      <td>77.58</td>\n",
       "      <td>386.1</td>\n",
       "      <td>0.14250</td>\n",
       "      <td>0.28390</td>\n",
       "      <td>0.2414</td>\n",
       "      <td>0.10520</td>\n",
       "      <td>0.2597</td>\n",
       "      <td>...</td>\n",
       "      <td>26.50</td>\n",
       "      <td>98.87</td>\n",
       "      <td>567.7</td>\n",
       "      <td>0.2098</td>\n",
       "      <td>0.8663</td>\n",
       "      <td>0.6869</td>\n",
       "      <td>0.2575</td>\n",
       "      <td>0.6638</td>\n",
       "      <td>0.17300</td>\n",
       "      <td>NaN</td>\n",
       "    </tr>\n",
       "    <tr>\n",
       "      <th>84358402</th>\n",
       "      <td>M</td>\n",
       "      <td>20.29</td>\n",
       "      <td>14.34</td>\n",
       "      <td>135.10</td>\n",
       "      <td>1297.0</td>\n",
       "      <td>0.10030</td>\n",
       "      <td>0.13280</td>\n",
       "      <td>0.1980</td>\n",
       "      <td>0.10430</td>\n",
       "      <td>0.1809</td>\n",
       "      <td>...</td>\n",
       "      <td>16.67</td>\n",
       "      <td>152.20</td>\n",
       "      <td>1575.0</td>\n",
       "      <td>0.1374</td>\n",
       "      <td>0.2050</td>\n",
       "      <td>0.4000</td>\n",
       "      <td>0.1625</td>\n",
       "      <td>0.2364</td>\n",
       "      <td>0.07678</td>\n",
       "      <td>NaN</td>\n",
       "    </tr>\n",
       "  </tbody>\n",
       "</table>\n",
       "<p>5 rows × 32 columns</p>\n",
       "</div>"
      ]
     },
     "execution_count": 33,
     "metadata": {},
     "output_type": "execute_result"
    }
   ],
   "execution_count": 33
  },
  {
   "metadata": {
    "ExecuteTime": {
     "end_time": "2025-05-08T10:11:30.733598Z",
     "start_time": "2025-05-08T10:11:30.725760Z"
    }
   },
   "cell_type": "code",
   "source": [
    "# In der Spalte 'diagnosis' gibt es genau zwei Werte. 'M' und 'B'.\n",
    "# Wir werden eine binäre Klassifikation durchführen, sodass das Modell neuen\n",
    "# Datenpunkten 'M' oder 'B' zuordnet.\n",
    "# Quizfrage: Wofür stehen diese Buchstaben eigentlich?\n"
   ],
   "id": "8de4ff35c854be90",
   "outputs": [],
   "execution_count": 34
  },
  {
   "metadata": {
    "ExecuteTime": {
     "end_time": "2025-05-08T10:11:30.964791Z",
     "start_time": "2025-05-08T10:11:30.956444Z"
    }
   },
   "cell_type": "code",
   "source": [
    "cancer_na = cancer.isna().sum()\n",
    "cancer_na"
   ],
   "id": "91e0d0ae720a22fb",
   "outputs": [
    {
     "data": {
      "text/plain": [
       "diagnosis                    0\n",
       "radius_mean                  0\n",
       "texture_mean                 0\n",
       "perimeter_mean               0\n",
       "area_mean                    0\n",
       "smoothness_mean              0\n",
       "compactness_mean             0\n",
       "concavity_mean               0\n",
       "concave points_mean          0\n",
       "symmetry_mean                0\n",
       "fractal_dimension_mean       0\n",
       "radius_se                    0\n",
       "texture_se                   0\n",
       "perimeter_se                 0\n",
       "area_se                      0\n",
       "smoothness_se                0\n",
       "compactness_se               0\n",
       "concavity_se                 0\n",
       "concave points_se            0\n",
       "symmetry_se                  0\n",
       "fractal_dimension_se         0\n",
       "radius_worst                 0\n",
       "texture_worst                0\n",
       "perimeter_worst              0\n",
       "area_worst                   0\n",
       "smoothness_worst             0\n",
       "compactness_worst            0\n",
       "concavity_worst              0\n",
       "concave points_worst         0\n",
       "symmetry_worst               0\n",
       "fractal_dimension_worst      0\n",
       "Unnamed: 32                569\n",
       "dtype: int64"
      ]
     },
     "execution_count": 35,
     "metadata": {},
     "output_type": "execute_result"
    }
   ],
   "execution_count": 35
  },
  {
   "metadata": {
    "ExecuteTime": {
     "end_time": "2025-05-08T10:11:31.376364Z",
     "start_time": "2025-05-08T10:11:31.369353Z"
    }
   },
   "cell_type": "code",
   "source": "cancer.drop('Unnamed: 32', axis=1, inplace=True)",
   "id": "cb08a24f6d8bcb36",
   "outputs": [],
   "execution_count": 36
  },
  {
   "metadata": {
    "ExecuteTime": {
     "end_time": "2025-05-08T10:11:31.720526Z",
     "start_time": "2025-05-08T10:11:31.712056Z"
    }
   },
   "cell_type": "code",
   "source": [
    "X = cancer.select_dtypes('number')\n",
    "y = cancer['diagnosis']"
   ],
   "id": "451c833a931fdd7b",
   "outputs": [],
   "execution_count": 37
  },
  {
   "metadata": {
    "ExecuteTime": {
     "end_time": "2025-05-08T10:11:32.135215Z",
     "start_time": "2025-05-08T10:11:31.805929Z"
    }
   },
   "cell_type": "code",
   "source": [
    "X_train, X_test, y_train, y_test = train_test_split(X, y, random_state=42)\n",
    "knn = KNeighborsClassifier()\n",
    "knn.fit(X_train, y_train)\n",
    "knn.score(X_test, y_test)\n",
    "\n",
    "test_score = knn.score(X_test, y_test)\n",
    "print(f'Score für Test: {test_score:.3f}')"
   ],
   "id": "e87ca80764fad062",
   "outputs": [
    {
     "name": "stdout",
     "output_type": "stream",
     "text": [
      "Score für Test: 0.965\n"
     ]
    }
   ],
   "execution_count": 38
  },
  {
   "metadata": {
    "ExecuteTime": {
     "end_time": "2025-05-08T10:11:32.251978Z",
     "start_time": "2025-05-08T10:11:32.206282Z"
    }
   },
   "cell_type": "code",
   "source": [
    "train_score = knn.score(X_train, y_train)\n",
    "print(f'Score für Train: {train_score:.3f}')"
   ],
   "id": "d0e3cd57f26daa01",
   "outputs": [
    {
     "name": "stdout",
     "output_type": "stream",
     "text": [
      "Score für Train: 0.934\n"
     ]
    }
   ],
   "execution_count": 39
  },
  {
   "metadata": {
    "ExecuteTime": {
     "end_time": "2025-05-08T10:12:27.115459Z",
     "start_time": "2025-05-08T10:12:27.088469Z"
    }
   },
   "cell_type": "code",
   "source": [
    "y_pred = knn.predict(X_test)\n",
    "y_pred"
   ],
   "id": "ad06c97b8ddd4d53",
   "outputs": [
    {
     "data": {
      "text/plain": [
       "array(['B', 'M', 'M', 'B', 'B', 'M', 'M', 'M', 'B', 'B', 'B', 'M', 'B',\n",
       "       'B', 'B', 'M', 'B', 'B', 'B', 'M', 'M', 'B', 'M', 'B', 'B', 'B',\n",
       "       'B', 'B', 'B', 'M', 'B', 'B', 'B', 'B', 'B', 'B', 'M', 'B', 'M',\n",
       "       'B', 'B', 'M', 'B', 'B', 'B', 'B', 'B', 'B', 'B', 'B', 'M', 'M',\n",
       "       'B', 'B', 'B', 'B', 'B', 'M', 'B', 'B', 'B', 'M', 'M', 'B', 'B',\n",
       "       'B', 'M', 'M', 'B', 'B', 'M', 'M', 'B', 'B', 'B', 'B', 'B', 'M',\n",
       "       'B', 'B', 'M', 'B', 'B', 'M', 'M', 'M', 'M', 'M', 'B', 'B', 'B',\n",
       "       'B', 'B', 'B', 'B', 'B', 'M', 'M', 'B', 'M', 'M', 'B', 'M', 'M',\n",
       "       'B', 'B', 'B', 'M', 'B', 'B', 'M', 'B', 'B', 'M', 'B', 'M', 'B',\n",
       "       'B', 'B', 'M', 'B', 'B', 'B', 'M', 'B', 'M', 'M', 'B', 'B', 'M',\n",
       "       'M', 'M', 'B', 'B', 'M', 'M', 'B', 'B', 'B', 'M', 'B', 'M', 'B'],\n",
       "      dtype=object)"
      ]
     },
     "execution_count": 56,
     "metadata": {},
     "output_type": "execute_result"
    }
   ],
   "execution_count": 56
  },
  {
   "metadata": {
    "ExecuteTime": {
     "end_time": "2025-05-08T10:13:30.763715Z",
     "start_time": "2025-05-08T10:13:30.755730Z"
    }
   },
   "cell_type": "code",
   "source": "y_test",
   "id": "395cf6bb8dba1fec",
   "outputs": [
    {
     "data": {
      "text/plain": [
       "id\n",
       "87930       B\n",
       "859575      M\n",
       "8670        M\n",
       "907915      B\n",
       "921385      B\n",
       "           ..\n",
       "861598      B\n",
       "877500      M\n",
       "905520      B\n",
       "849014      M\n",
       "90317302    B\n",
       "Name: diagnosis, Length: 143, dtype: object"
      ]
     },
     "execution_count": 57,
     "metadata": {},
     "output_type": "execute_result"
    }
   ],
   "execution_count": 57
  },
  {
   "metadata": {
    "ExecuteTime": {
     "end_time": "2025-05-08T10:11:32.568447Z",
     "start_time": "2025-05-08T10:11:32.560899Z"
    }
   },
   "cell_type": "code",
   "source": "# Aufsplitten in Trainings-, Validierungs- und Testdaten\n",
   "id": "b5f5cbb90837ea63",
   "outputs": [],
   "execution_count": 41
  },
  {
   "metadata": {
    "ExecuteTime": {
     "end_time": "2025-05-08T10:11:32.687964Z",
     "start_time": "2025-05-08T10:11:32.682765Z"
    }
   },
   "cell_type": "code",
   "source": [
    "# Bonusaufgabe für die, die später Lust haben:\n",
    "# Schreibt eine Funktion train_val_test!"
   ],
   "id": "b61aeacc4233220a",
   "outputs": [],
   "execution_count": 42
  },
  {
   "metadata": {
    "ExecuteTime": {
     "end_time": "2025-05-08T10:11:32.793250Z",
     "start_time": "2025-05-08T10:11:32.790052Z"
    }
   },
   "cell_type": "code",
   "source": "",
   "id": "27332bb24c3cfaec",
   "outputs": [],
   "execution_count": null
  },
  {
   "metadata": {
    "ExecuteTime": {
     "end_time": "2025-05-08T10:11:32.878359Z",
     "start_time": "2025-05-08T10:11:32.874356Z"
    }
   },
   "cell_type": "code",
   "source": "",
   "id": "82d52d75c34d26ed",
   "outputs": [],
   "execution_count": null
  },
  {
   "metadata": {
    "ExecuteTime": {
     "end_time": "2025-05-08T10:11:32.939707Z",
     "start_time": "2025-05-08T10:11:32.935477Z"
    }
   },
   "cell_type": "code",
   "source": "",
   "id": "3cd43be29a474855",
   "outputs": [],
   "execution_count": null
  },
  {
   "metadata": {
    "ExecuteTime": {
     "end_time": "2025-05-08T10:11:33.020155Z",
     "start_time": "2025-05-08T10:11:33.015145Z"
    }
   },
   "cell_type": "code",
   "source": "# Modell trainieren\n",
   "id": "cd8a45e84fec7a6c",
   "outputs": [],
   "execution_count": 43
  },
  {
   "metadata": {
    "ExecuteTime": {
     "end_time": "2025-05-08T10:11:33.109422Z",
     "start_time": "2025-05-08T10:11:33.105340Z"
    }
   },
   "cell_type": "code",
   "source": [
    "# Treffergenauigkeit (accuracy) bestimmen anhand des Testdatensatzes\n",
    "# Sprich: Wie viele der Vorhersagen waren korrekt?\n"
   ],
   "id": "d1cbaef603311526",
   "outputs": [],
   "execution_count": 44
  },
  {
   "metadata": {
    "ExecuteTime": {
     "end_time": "2025-05-08T10:11:33.189500Z",
     "start_time": "2025-05-08T10:11:33.184742Z"
    }
   },
   "cell_type": "code",
   "source": "# Und wie gut war die Genauigkeit beim Trainingsdatensatz?\n",
   "id": "73c0cd3e58700568",
   "outputs": [],
   "execution_count": 45
  },
  {
   "metadata": {
    "ExecuteTime": {
     "end_time": "2025-05-08T10:11:33.241190Z",
     "start_time": "2025-05-08T10:11:33.236161Z"
    }
   },
   "cell_type": "code",
   "source": [
    "# Quizfrage: Ende gut alles gut?\n",
    "# Ist unser Modell perfekt, um in der Medizin zum Einsatz zu kommen?\n",
    "# Bemerkung: ..."
   ],
   "id": "77772a00995a7c1",
   "outputs": [],
   "execution_count": 46
  },
  {
   "metadata": {
    "ExecuteTime": {
     "end_time": "2025-05-08T10:11:33.325519Z",
     "start_time": "2025-05-08T10:11:33.320996Z"
    }
   },
   "cell_type": "code",
   "source": [
    "# Übersicht über die verschiedenen (richtigen und falschen) Voraussagen \n",
    "# --> Confusion Matrix (zu Deutsch etwa: Matrix der Verwechslungen)\n"
   ],
   "id": "dd282ced287213a0",
   "outputs": [],
   "execution_count": 47
  },
  {
   "metadata": {
    "ExecuteTime": {
     "end_time": "2025-05-08T10:11:33.379002Z",
     "start_time": "2025-05-08T10:11:33.373985Z"
    }
   },
   "cell_type": "code",
   "source": "# Visuell ansprechender mit ConfusionMatrixDisplay:\n",
   "id": "77a59eb104adb559",
   "outputs": [],
   "execution_count": 48
  },
  {
   "metadata": {
    "ExecuteTime": {
     "end_time": "2025-05-08T10:11:33.468575Z",
     "start_time": "2025-05-08T10:11:33.464835Z"
    }
   },
   "cell_type": "code",
   "source": "# Accuracy (R²) – Anteil richtiger Vorhersagen an Gesamtheit)\n",
   "id": "8c16baa72eea40bf",
   "outputs": [],
   "execution_count": 49
  },
  {
   "metadata": {
    "ExecuteTime": {
     "end_time": "2025-05-08T10:11:33.526750Z",
     "start_time": "2025-05-08T10:11:33.523062Z"
    }
   },
   "cell_type": "code",
   "source": [
    "# Precision (Genauigkeit) – Anteil richtiger Positiver an richtig Positiven und falsch Positiven\n",
    "# In unserem Fall:\n",
    "# wirklich bösartige Tumoren / wirklich bösartige Tumoren + fälschlich als bösartig diagnostizierte gutartige Tumoren\n"
   ],
   "id": "7a0e87c9bef36e75",
   "outputs": [],
   "execution_count": 50
  },
  {
   "metadata": {
    "ExecuteTime": {
     "end_time": "2025-05-08T10:11:33.594240Z",
     "start_time": "2025-05-08T10:11:33.590579Z"
    }
   },
   "cell_type": "code",
   "source": [
    "# Dasselbe für gutartige:\n",
    "# wirklich gutartige Tumoren / wirklich gutartige Tumoren + fälschlich als gutartig diagnostizierte bösartige Tumoren\n"
   ],
   "id": "b100a92c8f989244",
   "outputs": [],
   "execution_count": 51
  },
  {
   "metadata": {
    "ExecuteTime": {
     "end_time": "2025-05-08T10:11:33.679430Z",
     "start_time": "2025-05-08T10:11:33.673173Z"
    }
   },
   "cell_type": "code",
   "source": "# Recall (Sensitivität) – Anteil richtiger Positiver an richtig Positiven und falsch Negativen (eigentlich Tumoren)\n",
   "id": "67fead3e654ee8c5",
   "outputs": [],
   "execution_count": 52
  },
  {
   "metadata": {
    "ExecuteTime": {
     "end_time": "2025-05-08T10:11:33.755754Z",
     "start_time": "2025-05-08T10:11:33.752199Z"
    }
   },
   "cell_type": "code",
   "source": "",
   "id": "de994d6d4e667bd3",
   "outputs": [],
   "execution_count": null
  },
  {
   "metadata": {
    "ExecuteTime": {
     "end_time": "2025-05-08T10:11:33.806666Z",
     "start_time": "2025-05-08T10:11:33.803336Z"
    }
   },
   "cell_type": "code",
   "source": "# f1-score – stellt das harmonische Mittel bei insbesondere unbalancierten Klassen her\n",
   "id": "75e4c1abe87bd56e",
   "outputs": [],
   "execution_count": 53
  },
  {
   "metadata": {
    "ExecuteTime": {
     "end_time": "2025-05-08T10:11:33.888246Z",
     "start_time": "2025-05-08T10:11:33.883732Z"
    }
   },
   "cell_type": "code",
   "source": "",
   "id": "e4ca422d3e893b92",
   "outputs": [],
   "execution_count": null
  },
  {
   "metadata": {
    "ExecuteTime": {
     "end_time": "2025-05-08T10:11:33.950696Z",
     "start_time": "2025-05-08T10:11:33.945822Z"
    }
   },
   "cell_type": "code",
   "source": [
    "# Was ist die wichtigste Metrik für Krebsspezialisten?\n",
    "# Und auf was sollten wir unser Modell trimmen?"
   ],
   "id": "7839308d12e53a6c",
   "outputs": [],
   "execution_count": 54
  },
  {
   "metadata": {
    "ExecuteTime": {
     "end_time": "2025-05-08T10:11:34.024849Z",
     "start_time": "2025-05-08T10:11:34.020971Z"
    }
   },
   "cell_type": "code",
   "source": "# Statt händisches Ausrechnen:\n",
   "id": "f352038cb18d8821",
   "outputs": [],
   "execution_count": 55
  }
 ],
 "metadata": {
  "kernelspec": {
   "display_name": "Python 3",
   "language": "python",
   "name": "python3"
  },
  "language_info": {
   "codemirror_mode": {
    "name": "ipython",
    "version": 2
   },
   "file_extension": ".py",
   "mimetype": "text/x-python",
   "name": "python",
   "nbconvert_exporter": "python",
   "pygments_lexer": "ipython2",
   "version": "2.7.6"
  }
 },
 "nbformat": 4,
 "nbformat_minor": 5
}
