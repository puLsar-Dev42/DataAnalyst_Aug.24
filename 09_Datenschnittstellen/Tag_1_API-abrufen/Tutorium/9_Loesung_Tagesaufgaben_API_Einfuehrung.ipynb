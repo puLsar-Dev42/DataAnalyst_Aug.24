{
 "cells": [
  {
   "attachments": {},
   "cell_type": "markdown",
   "metadata": {
    "collapsed": false
   },
   "source": [
    "# Tagesaufgaben: Einführung RESTful APIs\n",
    "\n",
    "<hr>\n"
   ]
  },
  {
   "attachments": {},
   "cell_type": "markdown",
   "metadata": {
    "collapsed": false
   },
   "source": [
    "## Aufgabe 1 - Videos"
   ]
  },
  {
   "attachments": {},
   "cell_type": "markdown",
   "metadata": {
    "collapsed": false
   },
   "source": [
    "Suche Dir zwei Youtube-Videos zu RESTful-APIs heraus, schaue sie an und fasse die wesentlichen Punkte zusammen. Dazu kannst du das Kommentarfeld benutzen.\n",
    "\n",
    "Beispiele:\n",
    "\n",
    "* https://www.youtube.com/watch?v=xpeQz7Hsfz0\n",
    "* https://www.youtube.com/watch?v=uhXCuSnIwjg"
   ]
  },
  {
   "cell_type": "code",
   "metadata": {
    "collapsed": false,
    "ExecuteTime": {
     "end_time": "2025-01-17T11:55:52.624687Z",
     "start_time": "2025-01-17T11:55:52.615615Z"
    }
   },
   "source": [
    "# API - Application Programming Interface\n",
    "\n",
    "\n",
    "# REST - REpresentational State Transfer - Keine tatsächliche Technologie\n",
    "# Standard für Datenaustausch\n",
    "\n",
    "# 1. Zustandslosigkeit - Man schickt nur einen Befehl ab und kriegt\n",
    "#    ein Ergebnis zurück\n",
    "# 2. Mehrschichtigkeit - Anwender sieht nur API schnittstelle, nicht rest vom Code\n",
    "# 3. Einheitliche Schnittstelle - JSON / XML\n",
    "# 4. Client-Server-Architektur\n",
    "\n",
    "\n",
    "# HTTP/S \n",
    "# Kommunikationsprotokoll, mit dem REST umgesetzt wird\n",
    "#  -> Welches Format haben die Anfragen\n",
    "\n",
    "# Kommunikation durch HTTP Nachrichten\n",
    "# Anwender -> Anfrage / Request an Server\n",
    "# Server -> Antwort / Response\n",
    "\n",
    "# Eindeutige URIs zur Identifikation\n",
    "# Endpoints -> verschiedene Funktionen ansteuern\n",
    "\n",
    "# Headers -> Metadaten\n",
    "# Body -> Der eigentliche Inhalt\n",
    "\n",
    "# Anfragen: HTTP Verben\n",
    "# Get    - Auswählen\n",
    "# Put    - Ändern\n",
    "# Post   - Hinzufügen\n",
    "# Delete - Löschen\n",
    "\n",
    "# Antworten: HTTP Status Codes\n",
    "# 2xx - Erfolgreich\n",
    "# 3xx - Weitergeleitet\n",
    "# 4xx - Client / Anwender Fehler\n",
    "# 5xx - Serverfehler"
   ],
   "outputs": [],
   "execution_count": 1
  },
  {
   "attachments": {},
   "cell_type": "markdown",
   "metadata": {
    "collapsed": false
   },
   "source": [
    "## Aufgabe 2 - Cocktails"
   ]
  },
  {
   "attachments": {},
   "cell_type": "markdown",
   "metadata": {
    "collapsed": false
   },
   "source": [
    "**a)** Nutze den gegebenen Link, um dir alle Rezepte für Cocktails mit \"Paloma\" im Namen ausgeben zu lassen. Lasse dir die Rezepte im json-Format ausgeben."
   ]
  },
  {
   "cell_type": "code",
   "source": [
    "import requests"
   ],
   "metadata": {
    "collapsed": false,
    "ExecuteTime": {
     "end_time": "2025-01-17T11:55:53.126696Z",
     "start_time": "2025-01-17T11:55:52.636701Z"
    }
   },
   "outputs": [],
   "execution_count": 2
  },
  {
   "cell_type": "code",
   "metadata": {
    "collapsed": false,
    "ExecuteTime": {
     "end_time": "2025-01-17T11:55:53.292990Z",
     "start_time": "2025-01-17T11:55:53.288481Z"
    }
   },
   "source": [
    "link_2a = \"https://thecocktaildb.com/api/json/v1/1/search.php?s=paloma\""
   ],
   "outputs": [],
   "execution_count": 3
  },
  {
   "cell_type": "code",
   "metadata": {
    "collapsed": false,
    "ExecuteTime": {
     "end_time": "2025-01-17T11:55:53.465489Z",
     "start_time": "2025-01-17T11:55:53.312754Z"
    }
   },
   "source": [
    "mydata = requests.get(link_2a)\n",
    "mydata.json()"
   ],
   "outputs": [
    {
     "data": {
      "text/plain": [
       "{'drinks': [{'idDrink': '17253',\n",
       "   'strDrink': 'Paloma',\n",
       "   'strDrinkAlternate': None,\n",
       "   'strTags': None,\n",
       "   'strVideo': None,\n",
       "   'strCategory': 'Cocktail',\n",
       "   'strIBA': None,\n",
       "   'strAlcoholic': 'Alcoholic',\n",
       "   'strGlass': 'Collins glass',\n",
       "   'strInstructions': 'Stir together and serve over ice.',\n",
       "   'strInstructionsES': 'Remover y servir con hielo.',\n",
       "   'strInstructionsDE': 'Zusammenrühren und über Eis servieren.',\n",
       "   'strInstructionsFR': 'Mélanger et servir sur des glaçons.',\n",
       "   'strInstructionsIT': 'Mescolate e servite con ghiaccio.',\n",
       "   'strInstructionsZH-HANS': None,\n",
       "   'strInstructionsZH-HANT': None,\n",
       "   'strDrinkThumb': 'https://www.thecocktaildb.com/images/media/drink/samm5j1513706393.jpg',\n",
       "   'strIngredient1': 'Grape Soda',\n",
       "   'strIngredient2': 'Tequila',\n",
       "   'strIngredient3': None,\n",
       "   'strIngredient4': None,\n",
       "   'strIngredient5': None,\n",
       "   'strIngredient6': None,\n",
       "   'strIngredient7': None,\n",
       "   'strIngredient8': None,\n",
       "   'strIngredient9': None,\n",
       "   'strIngredient10': None,\n",
       "   'strIngredient11': None,\n",
       "   'strIngredient12': None,\n",
       "   'strIngredient13': None,\n",
       "   'strIngredient14': None,\n",
       "   'strIngredient15': None,\n",
       "   'strMeasure1': '3 oz',\n",
       "   'strMeasure2': '1 1/2 oz',\n",
       "   'strMeasure3': None,\n",
       "   'strMeasure4': None,\n",
       "   'strMeasure5': None,\n",
       "   'strMeasure6': None,\n",
       "   'strMeasure7': None,\n",
       "   'strMeasure8': None,\n",
       "   'strMeasure9': None,\n",
       "   'strMeasure10': None,\n",
       "   'strMeasure11': None,\n",
       "   'strMeasure12': None,\n",
       "   'strMeasure13': None,\n",
       "   'strMeasure14': None,\n",
       "   'strMeasure15': None,\n",
       "   'strImageSource': None,\n",
       "   'strImageAttribution': None,\n",
       "   'strCreativeCommonsConfirmed': 'No',\n",
       "   'dateModified': '2017-12-19 17:59:53'},\n",
       "  {'idDrink': '178348',\n",
       "   'strDrink': 'Winter Paloma',\n",
       "   'strDrinkAlternate': None,\n",
       "   'strTags': 'Winter',\n",
       "   'strVideo': None,\n",
       "   'strCategory': 'Cocktail',\n",
       "   'strIBA': None,\n",
       "   'strAlcoholic': 'Alcoholic',\n",
       "   'strGlass': 'Highball glass',\n",
       "   'strInstructions': 'Everyone’s favourite Paloma gets a delicious Indian makeover. Tequila reposado infused with “Timur Pepper” which has citrusy & grapefruit notes and is grown at the foothills of Himalaya. It also produces a slightly numbing and tingling sensation on your lip when consumed. We have also spiced up the fresh grapefruit juice with the warming spice blend from Himalaya. The combination of all these interesting elements has allowed us to elevate your Paloma sipping experience.',\n",
       "   'strInstructionsES': 'La Paloma favorita de todos recibe un delicioso cambio de imagen indio. Tequila reposado infundido con \"Timur Pepper\", que tiene notas cítricas y de pomelo y se cultiva en las estribaciones del Himalaya. También produce una ligera sensación de entumecimiento y hormigueo en el labio cuando se consume. También hemos condimentado el zumo de pomelo fresco con la cálida mezcla de especias del Himalaya. La combinación de todos estos elementos interesantes nos ha permitido mejorar su experiencia al beber Paloma.',\n",
       "   'strInstructionsDE': 'Jedermanns Lieblings-Paloma erhält ein köstliches indisches Makeover. Reposado-Tequila mit „Timur-Pfeffer“, der Zitrus- und Grapefruitnoten aufweist und am Fuße des Himalaya angebaut wird. Außerdem erzeugt es beim Verzehr ein leicht betäubendes und kribbelndes Gefühl auf der Lippe. Den frischen Grapefruitsaft haben wir zusätzlich mit der wärmenden Gewürzmischung aus dem Himalaya aufgepeppt. Die Kombination all dieser interessanten Elemente hat es uns ermöglicht, Ihr Paloma-Schluckerlebnis zu verbessern.',\n",
       "   'strInstructionsFR': \"La Paloma préférée de tous fait l'objet d'une délicieuse cure de jouvence indienne. Tequila reposado infusée de « Poivre de Timur » aux notes d'agrumes et de pamplemousse et cultivée sur les contreforts de l'Himalaya. Il produit également une légère sensation d’engourdissement et de picotement sur la lèvre lorsqu’il est consommé. Nous avons également pimenté le jus de pamplemousse frais avec le mélange d'épices réchauffant de l'Himalaya. La combinaison de tous ces éléments intéressants nous a permis d'améliorer votre expérience de dégustation de Paloma.\",\n",
       "   'strInstructionsIT': 'Il Paloma preferito da tutti riceve un delizioso restyling indiano. Tequila reposado infuso con \"Timur Pepper\" che ha note agrumate e di pompelmo ed è coltivato ai piedi dell\\'Himalaya. Produce anche una sensazione leggermente intorpidita e formicolio sul labbro quando viene consumato. Abbiamo anche aromatizzato il succo di pompelmo fresco con la calda miscela di spezie dell\\'Himalaya. La combinazione di tutti questi elementi interessanti ci ha permesso di elevare la tua esperienza di sorseggiare Paloma.',\n",
       "   'strInstructionsZH-HANS': None,\n",
       "   'strInstructionsZH-HANT': None,\n",
       "   'strDrinkThumb': 'https://www.thecocktaildb.com/images/media/drink/u5f0pz1614007748.jpg',\n",
       "   'strIngredient1': 'Tequila',\n",
       "   'strIngredient2': 'Grapefruit Juice',\n",
       "   'strIngredient3': 'Lime Juice',\n",
       "   'strIngredient4': 'Agave Syrup',\n",
       "   'strIngredient5': 'Pepper',\n",
       "   'strIngredient6': None,\n",
       "   'strIngredient7': None,\n",
       "   'strIngredient8': None,\n",
       "   'strIngredient9': None,\n",
       "   'strIngredient10': None,\n",
       "   'strIngredient11': None,\n",
       "   'strIngredient12': None,\n",
       "   'strIngredient13': None,\n",
       "   'strIngredient14': None,\n",
       "   'strIngredient15': None,\n",
       "   'strMeasure1': '2 shots',\n",
       "   'strMeasure2': 'Top',\n",
       "   'strMeasure3': 'Juice of 1',\n",
       "   'strMeasure4': '1 tsp',\n",
       "   'strMeasure5': 'Dash',\n",
       "   'strMeasure6': '',\n",
       "   'strMeasure7': '',\n",
       "   'strMeasure8': None,\n",
       "   'strMeasure9': None,\n",
       "   'strMeasure10': None,\n",
       "   'strMeasure11': None,\n",
       "   'strMeasure12': None,\n",
       "   'strMeasure13': None,\n",
       "   'strMeasure14': None,\n",
       "   'strMeasure15': None,\n",
       "   'strImageSource': 'https://www.instagram.com/p/CLGZ97gnalH/',\n",
       "   'strImageAttribution': None,\n",
       "   'strCreativeCommonsConfirmed': 'No',\n",
       "   'dateModified': None},\n",
       "  {'idDrink': '178327',\n",
       "   'strDrink': 'Pineapple Paloma',\n",
       "   'strDrinkAlternate': None,\n",
       "   'strTags': None,\n",
       "   'strVideo': None,\n",
       "   'strCategory': 'Cocktail',\n",
       "   'strIBA': None,\n",
       "   'strAlcoholic': 'Alcoholic',\n",
       "   'strGlass': 'Collins glass',\n",
       "   'strInstructions': 'Rub the rim of each glass with lime slice and dip into salt.\\r\\nAdd ice, tequila, grapefruit juice, lime juice and top with pineapple soda.\\r\\nGive it a quick stir.\\r\\nGarnish with fresh pineapple or lime.',\n",
       "   'strInstructionsES': 'Frote el borde de cada vaso con una rodaja de lima y sumérjalo en sal.\\r\\nAñade hielo, tequila, zumo de pomelo, zumo de lima y completa con soda de piña.\\r\\nRemover rápidamente.\\r\\nDecorar con piña fresca o lima.',\n",
       "   'strInstructionsDE': None,\n",
       "   'strInstructionsFR': \"Frotter le bord de chaque verre avec une tranche de citron vert et le tremper dans du sel.\\r\\nAjoutez de la glace, de la tequila, du jus de pamplemousse, du jus de citron vert et complétez avec du soda à l'ananas.\\r\\nRemuer rapidement.\\r\\nDécorer avec de l'ananas ou du citron vert frais.\",\n",
       "   'strInstructionsIT': \"Strofina il bordo di ogni bicchiere con uno spicchio di lime e salalo.\\r\\nAggiungi ghiaccio, tequila, succo di pompelmo, succo di lime e aggiungi la soda all'ananas.\\r\\nDagli una rapida mescolata.\\r\\nGuarnire con ananas fresco o lime.\",\n",
       "   'strInstructionsZH-HANS': None,\n",
       "   'strInstructionsZH-HANT': None,\n",
       "   'strDrinkThumb': 'https://www.thecocktaildb.com/images/media/drink/pg8iw31593351601.jpg',\n",
       "   'strIngredient1': 'Tequila',\n",
       "   'strIngredient2': 'Grapefruit Juice',\n",
       "   'strIngredient3': 'Fresh Lime Juice',\n",
       "   'strIngredient4': 'Pineapple Juice',\n",
       "   'strIngredient5': 'Lime',\n",
       "   'strIngredient6': 'Pepper',\n",
       "   'strIngredient7': None,\n",
       "   'strIngredient8': None,\n",
       "   'strIngredient9': None,\n",
       "   'strIngredient10': None,\n",
       "   'strIngredient11': None,\n",
       "   'strIngredient12': None,\n",
       "   'strIngredient13': None,\n",
       "   'strIngredient14': None,\n",
       "   'strIngredient15': None,\n",
       "   'strMeasure1': '4 oz',\n",
       "   'strMeasure2': '4 oz',\n",
       "   'strMeasure3': '1 oz',\n",
       "   'strMeasure4': '8 oz',\n",
       "   'strMeasure5': 'Garnish with',\n",
       "   'strMeasure6': 'Rimmed',\n",
       "   'strMeasure7': '',\n",
       "   'strMeasure8': None,\n",
       "   'strMeasure9': None,\n",
       "   'strMeasure10': None,\n",
       "   'strMeasure11': None,\n",
       "   'strMeasure12': None,\n",
       "   'strMeasure13': None,\n",
       "   'strMeasure14': None,\n",
       "   'strMeasure15': None,\n",
       "   'strImageSource': None,\n",
       "   'strImageAttribution': None,\n",
       "   'strCreativeCommonsConfirmed': 'Yes',\n",
       "   'dateModified': None},\n",
       "  {'idDrink': '178335',\n",
       "   'strDrink': 'Lazy Coconut Paloma',\n",
       "   'strDrinkAlternate': None,\n",
       "   'strTags': 'Lazy, Sharp',\n",
       "   'strVideo': None,\n",
       "   'strCategory': 'Cocktail',\n",
       "   'strIBA': None,\n",
       "   'strAlcoholic': 'Alcoholic',\n",
       "   'strGlass': 'Highball glass',\n",
       "   'strInstructions': 'Mix the coconut liqueur (preferably tequila) with the grapefruit juice and top with soda water. Garnish with a large grapefruit slice against the inside of the glass.',\n",
       "   'strInstructionsES': 'Mezclar el licor de coco (preferiblemente tequila) con el zumo de pomelo y completar con agua de soda. Decorar con una rodaja grande de pomelo en el interior del vaso.',\n",
       "   'strInstructionsDE': None,\n",
       "   'strInstructionsFR': \"Mélanger la liqueur de noix de coco (de préférence la tequila) avec le jus de pamplemousse et compléter avec de l'eau gazeuse. Garnir d'une grosse tranche de pamplemousse contre l'intérieur du verre.\",\n",
       "   'strInstructionsIT': 'Mescolare il liquore al cocco (preferibilmente tequila) con il succo di pompelmo e guarnire con acqua di seltz. Versare una grossa fetta di pompelmo dentro il bicchiere.',\n",
       "   'strInstructionsZH-HANS': None,\n",
       "   'strInstructionsZH-HANT': None,\n",
       "   'strDrinkThumb': 'https://www.thecocktaildb.com/images/media/drink/rytuex1598719770.jpg',\n",
       "   'strIngredient1': 'Coconut Liqueur',\n",
       "   'strIngredient2': 'Grapefruit Juice',\n",
       "   'strIngredient3': 'Soda Water',\n",
       "   'strIngredient4': None,\n",
       "   'strIngredient5': None,\n",
       "   'strIngredient6': None,\n",
       "   'strIngredient7': None,\n",
       "   'strIngredient8': None,\n",
       "   'strIngredient9': None,\n",
       "   'strIngredient10': None,\n",
       "   'strIngredient11': None,\n",
       "   'strIngredient12': None,\n",
       "   'strIngredient13': None,\n",
       "   'strIngredient14': None,\n",
       "   'strIngredient15': None,\n",
       "   'strMeasure1': '30 ml',\n",
       "   'strMeasure2': '75 ml',\n",
       "   'strMeasure3': 'Top',\n",
       "   'strMeasure4': '',\n",
       "   'strMeasure5': '',\n",
       "   'strMeasure6': '',\n",
       "   'strMeasure7': '',\n",
       "   'strMeasure8': None,\n",
       "   'strMeasure9': None,\n",
       "   'strMeasure10': None,\n",
       "   'strMeasure11': None,\n",
       "   'strMeasure12': None,\n",
       "   'strMeasure13': None,\n",
       "   'strMeasure14': None,\n",
       "   'strMeasure15': None,\n",
       "   'strImageSource': None,\n",
       "   'strImageAttribution': None,\n",
       "   'strCreativeCommonsConfirmed': 'No',\n",
       "   'dateModified': None}]}"
      ]
     },
     "execution_count": 4,
     "metadata": {},
     "output_type": "execute_result"
    }
   ],
   "execution_count": 4
  },
  {
   "attachments": {},
   "cell_type": "markdown",
   "metadata": {
    "collapsed": false
   },
   "source": [
    "**b)** Wie viele Paloma-Rezepte sind es?"
   ]
  },
  {
   "cell_type": "code",
   "metadata": {
    "collapsed": false,
    "ExecuteTime": {
     "end_time": "2025-01-17T11:55:53.491228Z",
     "start_time": "2025-01-17T11:55:53.485278Z"
    }
   },
   "source": [
    "len(mydata.json()[\"drinks\"])"
   ],
   "outputs": [
    {
     "data": {
      "text/plain": [
       "4"
      ]
     },
     "execution_count": 5,
     "metadata": {},
     "output_type": "execute_result"
    }
   ],
   "execution_count": 5
  },
  {
   "attachments": {},
   "cell_type": "markdown",
   "metadata": {
    "collapsed": false
   },
   "source": [
    "**c)** Lass dir die Zutaten für den Cocktail ausgeben, der nur \"Paloma\" heißt (im Gegensatz zu erweiterten Palomas wie \"Winter Paloma\"). Du kannst hierfür davon ausgehen, dass das Rezept das Erste in der Liste ist. Vermeide hierbei die Ausgabe von \"None\"-Zutaten!"
   ]
  },
  {
   "cell_type": "code",
   "metadata": {
    "ExecuteTime": {
     "end_time": "2025-01-17T11:55:53.555094Z",
     "start_time": "2025-01-17T11:55:53.548459Z"
    }
   },
   "source": [
    "for key, value in mydata.json()[\"drinks\"][0].items():\n",
    "    if (\"strIngredient\" in key) and (value is not None):\n",
    "                print(value)"
   ],
   "outputs": [
    {
     "name": "stdout",
     "output_type": "stream",
     "text": [
      "Grape Soda\n",
      "Tequila\n"
     ]
    }
   ],
   "execution_count": 6
  },
  {
   "attachments": {},
   "cell_type": "markdown",
   "metadata": {
    "collapsed": false
   },
   "source": [
    "**d)** Optional: Löse Aufgabe 3 ohne zu wissen, an welcher Stelle in der Liste der \"Paloma\" steht."
   ]
  },
  {
   "cell_type": "code",
   "metadata": {
    "ExecuteTime": {
     "end_time": "2025-01-17T11:55:53.606677Z",
     "start_time": "2025-01-17T11:55:53.600108Z"
    }
   },
   "source": [
    "# Lösungsmöglichkeit 1:\n",
    "for drink in mydata.json()[\"drinks\"]:\n",
    "    if drink['strDrink'] == 'Paloma':\n",
    "        for spec in drink:\n",
    "            if spec.startswith(\"strIngredient\") and drink[spec] is not None:\n",
    "                print(f\"{spec}: {drink[spec]}\")"
   ],
   "outputs": [
    {
     "name": "stdout",
     "output_type": "stream",
     "text": [
      "strIngredient1: Grape Soda\n",
      "strIngredient2: Tequila\n"
     ]
    }
   ],
   "execution_count": 7
  },
  {
   "cell_type": "code",
   "metadata": {
    "ExecuteTime": {
     "end_time": "2025-01-17T11:55:53.658365Z",
     "start_time": "2025-01-17T11:55:53.651978Z"
    }
   },
   "source": [
    "# Lösungsmöglichkeit 2:\n",
    "for drink in mydata.json()[\"drinks\"]:\n",
    "    if drink[\"strDrink\"] == \"Paloma\":\n",
    "        for key, value in drink.items():\n",
    "            if (\"strIngredient\" in key) and (value is not None):\n",
    "                print(key, value)"
   ],
   "outputs": [
    {
     "name": "stdout",
     "output_type": "stream",
     "text": [
      "strIngredient1 Grape Soda\n",
      "strIngredient2 Tequila\n"
     ]
    }
   ],
   "execution_count": 8
  },
  {
   "cell_type": "markdown",
   "metadata": {},
   "source": [
    "**e)** Optional: Frage die Daten zu einem beliebigen anderen Cocktail von der API ab. Eine Übersicht über die Cocktails findest du auf der Hauptseite https://www.thecocktaildb.com/ "
   ]
  },
  {
   "cell_type": "code",
   "metadata": {
    "ExecuteTime": {
     "end_time": "2025-01-17T11:55:53.836743Z",
     "start_time": "2025-01-17T11:55:53.706799Z"
    }
   },
   "source": [
    "link_2e = \"https://thecocktaildb.com/api/json/v1/1/search.php?s=rum_cooler\"\n",
    "\n",
    "requests.get(link_2e).text"
   ],
   "outputs": [
    {
     "data": {
      "text/plain": [
       "'{\"drinks\":[{\"idDrink\":\"12071\",\"strDrink\":\"Rum Cooler\",\"strDrinkAlternate\":null,\"strTags\":null,\"strVideo\":null,\"strCategory\":\"Ordinary Drink\",\"strIBA\":null,\"strAlcoholic\":\"Alcoholic\",\"strGlass\":\"Collins glass\",\"strInstructions\":\"Pour the rum and soda into a collins glass almost filled with ice cubes. Stir well and garnish with the lemon wedge.\",\"strInstructionsES\":\"Vierta el ron y la soda en un vaso collins casi lleno de cubitos de hielo. Remover bien y decorar con la rodaja de lim\\\\u00f3n.\",\"strInstructionsDE\":\"Den Rum und das Soda in ein Collins-Glas gie\\\\u00dfen, das fast mit Eisw\\\\u00fcrfeln gef\\\\u00fcllt ist. Gut umr\\\\u00fchren und mit dem Zitronenkeil garnieren.\",\"strInstructionsFR\":\"Verser le rhum et le soda dans un verre Collins presque rempli de gla\\\\u00e7ons. Bien m\\\\u00e9langer et d\\\\u00e9corer avec le quartier de citron.\",\"strInstructionsIT\":\"Versare il rum e la soda in un bicchiere Collins quasi pieno di cubetti di ghiaccio. Mescolate bene e guarnite con lo spicchio di limone\",\"strInstructionsZH-HANS\":null,\"strInstructionsZH-HANT\":null,\"strDrinkThumb\":\"https:\\\\/\\\\/www.thecocktaildb.com\\\\/images\\\\/media\\\\/drink\\\\/2hgwsb1504888674.jpg\",\"strIngredient1\":\"Rum\",\"strIngredient2\":\"Lemon-lime soda\",\"strIngredient3\":\"Lemon\",\"strIngredient4\":null,\"strIngredient5\":null,\"strIngredient6\":null,\"strIngredient7\":null,\"strIngredient8\":null,\"strIngredient9\":null,\"strIngredient10\":null,\"strIngredient11\":null,\"strIngredient12\":null,\"strIngredient13\":null,\"strIngredient14\":null,\"strIngredient15\":null,\"strMeasure1\":\"2 oz light or dark \",\"strMeasure2\":\"4 oz \",\"strMeasure3\":\"1 \",\"strMeasure4\":null,\"strMeasure5\":null,\"strMeasure6\":null,\"strMeasure7\":null,\"strMeasure8\":null,\"strMeasure9\":null,\"strMeasure10\":null,\"strMeasure11\":null,\"strMeasure12\":null,\"strMeasure13\":null,\"strMeasure14\":null,\"strMeasure15\":null,\"strImageSource\":null,\"strImageAttribution\":null,\"strCreativeCommonsConfirmed\":\"No\",\"dateModified\":\"2017-09-08 17:37:54\"}]}'"
      ]
     },
     "execution_count": 9,
     "metadata": {},
     "output_type": "execute_result"
    }
   ],
   "execution_count": 9
  },
  {
   "attachments": {},
   "cell_type": "markdown",
   "metadata": {
    "collapsed": false
   },
   "source": [
    "# Aufgabe 3 - Trivia Fakten\n",
    "\n",
    "**a)** Lass dir mithilfe des bereitgestellten Links den Trivia-Fakt der Nummer 42 ausgeben. Die Ausgabe soll ein reiner Satz sein (also ohne HTML-Elemente, nicht als JSON usw.)."
   ]
  },
  {
   "cell_type": "code",
   "metadata": {
    "collapsed": false,
    "ExecuteTime": {
     "end_time": "2025-01-17T11:55:53.874378Z",
     "start_time": "2025-01-17T11:55:53.868802Z"
    }
   },
   "source": [
    "link_3a = \"http://numbersapi.com/42\""
   ],
   "outputs": [],
   "execution_count": 10
  },
  {
   "cell_type": "code",
   "metadata": {
    "ExecuteTime": {
     "end_time": "2025-01-17T12:04:47.158179Z",
     "start_time": "2025-01-17T12:04:46.915391Z"
    }
   },
   "source": [
    "requests.get(link_3a).text"
   ],
   "outputs": [
    {
     "data": {
      "text/plain": [
       "'42 is the result given by the web search engines Google, Wolfram Alpha and Bing when the query \"the answer to life the universe and everything\" is entered as a search.'"
      ]
     },
     "execution_count": 26,
     "metadata": {},
     "output_type": "execute_result"
    }
   ],
   "execution_count": 26
  },
  {
   "cell_type": "markdown",
   "metadata": {},
   "source": [
    "**b)** Erstelle eine Schleife, welche 10 solcher Trivia-Fakten durch Link-Abruf holt und diese in eine Python-Liste einbindet. Gib die Liste anschließend aus."
   ]
  },
  {
   "cell_type": "code",
   "metadata": {
    "ExecuteTime": {
     "end_time": "2025-01-17T11:55:56.508268Z",
     "start_time": "2025-01-17T11:55:54.164051Z"
    }
   },
   "source": [
    "trivia_list = []\n",
    "\n",
    "for i in range(10):\n",
    "    trivia_list.append(requests.get(link_3a).text)"
   ],
   "outputs": [],
   "execution_count": 12
  },
  {
   "cell_type": "code",
   "metadata": {
    "ExecuteTime": {
     "end_time": "2025-01-17T11:55:56.526856Z",
     "start_time": "2025-01-17T11:55:56.520853Z"
    }
   },
   "source": [
    "print('\\n'.join(trivia_list))"
   ],
   "outputs": [
    {
     "name": "stdout",
     "output_type": "stream",
     "text": [
      "42 is the number of US gallons in a barrel of oil.\n",
      "42 is the number of US gallons in a barrel of oil.\n",
      "42 is the number of kilometers in a marathon.\n",
      "42 is the number of spots (or pips, circular patches or pits) on a pair of standard six-sided dice.\n",
      "42 is the result given by the web search engines Google, Wolfram Alpha and Bing when the query \"the answer to life the universe and everything\" is entered as a search.\n",
      "42 is the result given by the web search engines Google, Wolfram Alpha and Bing when the query \"the answer to life the universe and everything\" is entered as a search.\n",
      "42 is the number of US gallons in a barrel of oil.\n",
      "42 is the number of gallons that one barrel of petroleum holds.\n",
      "42 is the number of laws of cricket.\n",
      "42 is the sum of the codes of the letters in the words \"BIG BANG\" using the encoding A=1, B=2, C=3, etc.\n"
     ]
    }
   ],
   "execution_count": 13
  },
  {
   "cell_type": "markdown",
   "metadata": {},
   "source": [
    "**c)** Generiere nun mittels API-Aufruf einen Trivia-Fakt über eine beliebige andere Zahl.  "
   ]
  },
  {
   "cell_type": "code",
   "metadata": {
    "ExecuteTime": {
     "end_time": "2025-01-17T11:55:56.840148Z",
     "start_time": "2025-01-17T11:55:56.616955Z"
    }
   },
   "source": [
    "link_3c = \"http://numbersapi.com/15\"\n",
    "requests.get(link_3c).text"
   ],
   "outputs": [
    {
     "data": {
      "text/plain": [
       "'15 is the number of letters in the words \"uncopyrightable\", \"dermatoglyphics\", \"misconjugatedly\", and \"hydropneumatics\", the longest English words with no repeat letters.'"
      ]
     },
     "execution_count": 14,
     "metadata": {},
     "output_type": "execute_result"
    }
   ],
   "execution_count": 14
  },
  {
   "cell_type": "markdown",
   "metadata": {},
   "source": [
    "**d)** Optional: Generiere eine Liste mit einem Fakt über jede Zahl von 1-10 und gib diese Liste aus. "
   ]
  },
  {
   "cell_type": "code",
   "metadata": {
    "ExecuteTime": {
     "end_time": "2025-01-17T11:55:59.139393Z",
     "start_time": "2025-01-17T11:55:56.865025Z"
    }
   },
   "source": [
    "fact_list = []\n",
    "\n",
    "for i in range(1, 11):\n",
    "    fact = requests.get(f\"http://numbersapi.com/{i}\").text\n",
    "    fact_list.append(fact)\n",
    "\n",
    "print('\\n'.join(fact_list))"
   ],
   "outputs": [
    {
     "name": "stdout",
     "output_type": "stream",
     "text": [
      "1 is the number of Gods in monotheism.\n",
      "2 is the number of stars in a binary star system (a stellar system consisting of two stars orbiting around their center of mass).\n",
      "3 is cans of Spam consumed every second in the United States.\n",
      "4 is the number of characters in a canonical four-character idiom in Chinese.\n",
      "5 is the number of Korotkoff sounds when measuring blood pressure.\n",
      "6 is the number of basic holes or keys on most woodwind instruments.\n",
      "7 is the number of types of viruses according to the Baltimore classification.\n",
      "8 is the number of principles of Yong in Chinese calligraphy.\n",
      "9 is the number of innings in a regulation, non-tied game of baseball.\n",
      "10 is the number of official inkblots in the Rorschach inkblot test.\n"
     ]
    }
   ],
   "execution_count": 15
  }
 ],
 "metadata": {
  "kernelspec": {
   "display_name": "Python 3",
   "language": "python",
   "name": "python3"
  },
  "language_info": {
   "codemirror_mode": {
    "name": "ipython",
    "version": 3
   },
   "file_extension": ".py",
   "mimetype": "text/x-python",
   "name": "python",
   "nbconvert_exporter": "python",
   "pygments_lexer": "ipython3",
   "version": "3.11.5"
  }
 },
 "nbformat": 4,
 "nbformat_minor": 0
}
