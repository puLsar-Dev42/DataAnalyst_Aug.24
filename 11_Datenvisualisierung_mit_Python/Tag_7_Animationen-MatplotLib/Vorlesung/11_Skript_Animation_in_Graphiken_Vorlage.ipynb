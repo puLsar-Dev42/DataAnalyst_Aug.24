{
 "cells": [
  {
   "cell_type": "markdown",
   "source": "# Animierte Graphen",
   "metadata": {
    "collapsed": false
   }
  },
  {
   "cell_type": "code",
   "source": [
    "import os\n",
    "import imageio\n",
    "import imageio.v3 as iio\n",
    "import matplotlib.pyplot as plt\n",
    "import numpy as np\n",
    "import seaborn as sns\n",
    "from pyarrow.types import duration"
   ],
   "metadata": {
    "collapsed": false,
    "ExecuteTime": {
     "end_time": "2025-03-04T09:51:20.284639Z",
     "start_time": "2025-03-04T09:51:20.256623Z"
    }
   },
   "outputs": [],
   "execution_count": 1
  },
  {
   "cell_type": "markdown",
   "source": [
    "# Schritt 1: 2D-Scatter, komplett per Hand"
   ],
   "metadata": {
    "collapsed": false
   }
  },
  {
   "cell_type": "code",
   "source": [
    "# Was ist ein Film? Was ist eine Animation? Was haben sie gemeinsam?"
   ],
   "metadata": {
    "collapsed": false
   },
   "outputs": [],
   "execution_count": null
  },
  {
   "cell_type": "code",
   "source": [
    "if not os.path.exists('plots'):\n",
    "\tos.mkdir('plots')\n",
    "\tprint('Ordner angelegt!')"
   ],
   "metadata": {
    "collapsed": false,
    "ExecuteTime": {
     "end_time": "2025-03-04T07:18:27.636170Z",
     "start_time": "2025-03-04T07:18:27.630411Z"
    }
   },
   "outputs": [
    {
     "name": "stdout",
     "output_type": "stream",
     "text": [
      "Ordner angelegt!\n"
     ]
    }
   ],
   "execution_count": 2
  },
  {
   "cell_type": "code",
   "source": [
    "# Noch einfach via per Hand Eingabe eines einfachen Scatterplots\n",
    "fig, ax = plt.subplots(figsize=(5, 5))\n",
    "ax.scatter(x=0, y=0)\n",
    "ax.set_xlim([0, 1])\n",
    "ax.set_ylim([0, 1])\n",
    "plt.savefig(r\"plots/bild00.png\", dpi=96)\n",
    "plt.close()"
   ],
   "metadata": {
    "collapsed": false,
    "ExecuteTime": {
     "end_time": "2025-03-04T07:18:39.674125Z",
     "start_time": "2025-03-04T07:18:39.470034Z"
    }
   },
   "outputs": [],
   "execution_count": 3
  },
  {
   "cell_type": "code",
   "source": [
    "# Skalierbare Vektorgraphik erstellen mit .svg\n",
    "fig, ax = plt.subplots(figsize=(5, 5))\n",
    "ax.scatter(x=0.0, y=0.0)\n",
    "ax.set_xlim([0, 1])\n",
    "ax.set_ylim([0, 1])\n",
    "plt.savefig(fname=r\"plots/bild00.svg\", dpi=96)\n",
    "plt.close()"
   ],
   "metadata": {
    "collapsed": false,
    "ExecuteTime": {
     "end_time": "2025-03-04T07:18:54.117353Z",
     "start_time": "2025-03-04T07:18:54.036394Z"
    }
   },
   "outputs": [],
   "execution_count": 4
  },
  {
   "cell_type": "code",
   "source": [
    "# Ab jetzt wiederholen für alle weiteren gewünschten Durchführungen\n",
    "fig, ax = plt.subplots(figsize=(5, 5))\n",
    "ax.scatter(x=0.2, y=0.2)\n",
    "ax.set_xlim([0, 1])\n",
    "ax.set_ylim([0, 1])\n",
    "plt.savefig(fname=(r\"plots/bild01.png\"), dpi=96)\n",
    "plt.close()"
   ],
   "metadata": {
    "collapsed": false,
    "ExecuteTime": {
     "end_time": "2025-03-04T07:18:59.689952Z",
     "start_time": "2025-03-04T07:18:59.628351Z"
    }
   },
   "outputs": [],
   "execution_count": 5
  },
  {
   "cell_type": "code",
   "source": [
    "fig, ax = plt.subplots(figsize=(5, 5))\n",
    "ax.scatter(x=0.4, y=0.4)\n",
    "ax.set_xlim([0, 1])\n",
    "ax.set_ylim([0, 1])\n",
    "plt.savefig(fname=(r\"plots/bild02.png\"), dpi=96)\n",
    "plt.close()"
   ],
   "metadata": {
    "collapsed": false,
    "ExecuteTime": {
     "end_time": "2025-03-04T07:19:09.767952Z",
     "start_time": "2025-03-04T07:19:09.690147Z"
    }
   },
   "outputs": [],
   "execution_count": 6
  },
  {
   "cell_type": "code",
   "source": [
    "fig, ax = plt.subplots(figsize=(5, 5))\n",
    "ax.scatter(x=0.6, y=0.6)\n",
    "ax.set_xlim([0, 1])\n",
    "ax.set_ylim([0, 1])\n",
    "plt.savefig(fname=(r\"plots/bild03.png\"), dpi=96)\n",
    "plt.close()"
   ],
   "metadata": {
    "collapsed": false,
    "ExecuteTime": {
     "end_time": "2025-03-04T07:19:11.192026Z",
     "start_time": "2025-03-04T07:19:11.119149Z"
    }
   },
   "outputs": [],
   "execution_count": 7
  },
  {
   "cell_type": "code",
   "source": [
    "fig, ax = plt.subplots(figsize=(5, 5))\n",
    "ax.scatter(x=0.8, y=0.8)\n",
    "ax.set_xlim([0, 1])\n",
    "ax.set_ylim([0, 1])\n",
    "plt.savefig(fname=(r\"plots/bild04.png\"), dpi=96)\n",
    "plt.close()"
   ],
   "metadata": {
    "collapsed": false,
    "ExecuteTime": {
     "end_time": "2025-03-04T07:19:13.102752Z",
     "start_time": "2025-03-04T07:19:13.030935Z"
    }
   },
   "outputs": [],
   "execution_count": 8
  },
  {
   "cell_type": "code",
   "source": [
    "fig, ax = plt.subplots(figsize=(5, 5))\n",
    "ax.scatter(x=1.0, y=1.0)\n",
    "ax.set_xlim([0, 1])\n",
    "ax.set_ylim([0, 1])\n",
    "plt.savefig(fname=(r\"plots/bild05.png\"), dpi=96)\n",
    "plt.close()"
   ],
   "metadata": {
    "collapsed": false,
    "ExecuteTime": {
     "end_time": "2025-03-04T07:19:15.781033Z",
     "start_time": "2025-03-04T07:19:15.712701Z"
    }
   },
   "outputs": [],
   "execution_count": 9
  },
  {
   "cell_type": "markdown",
   "source": [
    "# Wiederholung\n",
    "## For-Schleifen"
   ],
   "metadata": {
    "collapsed": false
   }
  },
  {
   "cell_type": "code",
   "source": [
    "for i in range(5):\n",
    "\tprint(i)"
   ],
   "metadata": {
    "collapsed": false,
    "ExecuteTime": {
     "end_time": "2025-03-04T07:19:19.899444Z",
     "start_time": "2025-03-04T07:19:19.894198Z"
    }
   },
   "outputs": [
    {
     "name": "stdout",
     "output_type": "stream",
     "text": [
      "0\n",
      "1\n",
      "2\n",
      "3\n",
      "4\n"
     ]
    }
   ],
   "execution_count": 10
  },
  {
   "cell_type": "code",
   "source": [
    "wort = \"Hallo\"\n",
    "for i in wort:\n",
    "\tprint(i)"
   ],
   "metadata": {
    "collapsed": false,
    "ExecuteTime": {
     "end_time": "2025-03-04T07:19:24.039688Z",
     "start_time": "2025-03-04T07:19:24.034179Z"
    }
   },
   "outputs": [
    {
     "name": "stdout",
     "output_type": "stream",
     "text": [
      "H\n",
      "a\n",
      "l\n",
      "l\n",
      "o\n"
     ]
    }
   ],
   "execution_count": 11
  },
  {
   "cell_type": "markdown",
   "source": [
    "# Miniübung 1\n",
    "## Schreibe eine For-Schleife, um alle Werte der folgenden Liste multipliziert mit 4 auszugeben"
   ],
   "metadata": {
    "collapsed": false
   }
  },
  {
   "cell_type": "code",
   "source": "liste = [3, 4, 12, 89, 56, 756, 34, 23435, 2345]",
   "metadata": {
    "collapsed": false,
    "ExecuteTime": {
     "end_time": "2025-03-04T07:53:37.392821Z",
     "start_time": "2025-03-04T07:53:37.388361Z"
    }
   },
   "outputs": [],
   "execution_count": 16
  },
  {
   "metadata": {
    "ExecuteTime": {
     "end_time": "2025-03-04T08:00:08.218616Z",
     "start_time": "2025-03-04T08:00:08.213061Z"
    }
   },
   "cell_type": "code",
   "source": [
    "for n in liste:\n",
    "\tresult = n * 4\n",
    "\tprint(f\"{n} * 4 = {result}\")"
   ],
   "outputs": [
    {
     "name": "stdout",
     "output_type": "stream",
     "text": [
      "3 * 4 = 12\n",
      "4 * 4 = 16\n",
      "12 * 4 = 48\n",
      "89 * 4 = 356\n",
      "56 * 4 = 224\n",
      "756 * 4 = 3024\n",
      "34 * 4 = 136\n",
      "23435 * 4 = 93740\n",
      "2345 * 4 = 9380\n"
     ]
    }
   ],
   "execution_count": 20
  },
  {
   "cell_type": "markdown",
   "source": [
    "# Miniübung 2\n",
    "## Schreibe eine verschachtelte For-Schleife, um jeden Wert der Liste1 mit jedem Wert der Liste2 zu addieren"
   ],
   "metadata": {
    "collapsed": false
   }
  },
  {
   "cell_type": "code",
   "source": [
    "liste1 = [23, 42, 1, 435, 3, 3]\n",
    "liste2 = [3, 345, 1]"
   ],
   "metadata": {
    "collapsed": false,
    "ExecuteTime": {
     "end_time": "2025-03-04T07:54:17.613507Z",
     "start_time": "2025-03-04T07:54:17.608400Z"
    }
   },
   "outputs": [],
   "execution_count": 18
  },
  {
   "metadata": {
    "ExecuteTime": {
     "end_time": "2025-03-04T07:58:01.591954Z",
     "start_time": "2025-03-04T07:58:01.587085Z"
    }
   },
   "cell_type": "code",
   "source": [
    "for n1 in liste1:\n",
    "\tfor n2 in liste2:\n",
    "\t\tresult = n1 + n2\n",
    "\t\tprint(f\"{n1} + {n2} = {result}\")"
   ],
   "outputs": [
    {
     "name": "stdout",
     "output_type": "stream",
     "text": [
      "23 + 3 = 26\n",
      "23 + 345 = 368\n",
      "23 + 1 = 24\n",
      "42 + 3 = 45\n",
      "42 + 345 = 387\n",
      "42 + 1 = 43\n",
      "1 + 3 = 4\n",
      "1 + 345 = 346\n",
      "1 + 1 = 2\n",
      "435 + 3 = 438\n",
      "435 + 345 = 780\n",
      "435 + 1 = 436\n",
      "3 + 3 = 6\n",
      "3 + 345 = 348\n",
      "3 + 1 = 4\n",
      "3 + 3 = 6\n",
      "3 + 345 = 348\n",
      "3 + 1 = 4\n"
     ]
    }
   ],
   "execution_count": 19
  },
  {
   "cell_type": "markdown",
   "source": [
    "# Übung:\n",
    "#### Automatisiere nun die obige Grafikerstellung\n",
    "#### Lege dafür zunächst einen Unterordner moving_point an\n",
    "#### Erzeuge mittels for-Schleife die obigen fünf Diagramme des Punkts. "
   ],
   "metadata": {
    "collapsed": false
   }
  },
  {
   "cell_type": "code",
   "source": [
    "# moving_point Ordner anlegen\n",
    "if not os.path.exists('moving_point'):\n",
    "\tos.mkdir('moving_point')\n",
    "\tprint('Ordner angelegt!')"
   ],
   "metadata": {
    "collapsed": false,
    "ExecuteTime": {
     "end_time": "2025-03-04T08:01:29.206155Z",
     "start_time": "2025-03-04T08:01:29.199545Z"
    }
   },
   "outputs": [
    {
     "name": "stdout",
     "output_type": "stream",
     "text": [
      "Ordner angelegt!\n"
     ]
    }
   ],
   "execution_count": 21
  },
  {
   "cell_type": "code",
   "source": [
    "# range(1, 6) weil wir 5 plots wollen\n",
    "for i in range(1, 6):\n",
    "\t# Koordinaten werden mit i multipliziert\n",
    "\t# dadurch entsteht der moving_point\n",
    "\tcoordinates = 0.2 * i\n",
    "\n",
    "\t# fig, ax\n",
    "\tfig, ax = plt.subplots(figsize=(5, 5))\n",
    "\tax.scatter(x=coordinates, y=coordinates)\n",
    "\n",
    "\t# xlim, ylim\n",
    "\tax.set_xlim([0, 1])\n",
    "\tax.set_ylim([0, 1])\n",
    "\n",
    "\t# pics/plots speichern\n",
    "\tpics = os.path.join(\"moving_point\", f\"plot{i:02d}.png\")\n",
    "\tplt.savefig(pics, dpi=96)\n",
    "\tplt.close()\n",
    "\n",
    "print(\"Plots successfully saved in folder 'moving_point'!\")"
   ],
   "metadata": {
    "collapsed": false,
    "ExecuteTime": {
     "end_time": "2025-03-04T09:52:38.396866Z",
     "start_time": "2025-03-04T09:52:37.951796Z"
    }
   },
   "outputs": [
    {
     "name": "stdout",
     "output_type": "stream",
     "text": [
      "Plots successfully saved in folder 'moving_point'!\n"
     ]
    }
   ],
   "execution_count": 5
  },
  {
   "cell_type": "code",
   "source": "",
   "metadata": {
    "collapsed": false
   },
   "outputs": [],
   "execution_count": null
  },
  {
   "metadata": {},
   "cell_type": "markdown",
   "source": "### Von Einzelbildern zur Animation!"
  },
  {
   "metadata": {
    "ExecuteTime": {
     "end_time": "2025-03-04T09:52:41.310750Z",
     "start_time": "2025-03-04T09:52:41.305199Z"
    }
   },
   "cell_type": "code",
   "source": [
    "# Was listdir macht:\n",
    "if os.path.exists('moving_point'):\n",
    "\tos.listdir('moving_point')"
   ],
   "outputs": [],
   "execution_count": 6
  },
  {
   "cell_type": "code",
   "source": [
    "# Jetzt wollen wir diese Dateien aus dem Ordner zu einem GIF verbinden!\n",
    "\n",
    "images = []\n",
    "path = r\"moving_point/\"\n",
    "\n",
    "for file in os.listdir(path):\n",
    "\tif file.endswith('png'):\n",
    "\t\tfilepath = os.path.join(path, file)\n",
    "\t\timages.append(iio.imread(filepath))\n",
    "\n",
    "imageio.mimsave(r\"moving_point/movie.gif\",\n",
    "\t\t\t\timages,\n",
    "\t\t\t\tduration=1000)\n",
    "\n",
    "# duration-Parameter ist in Mikrosekunden!"
   ],
   "metadata": {
    "collapsed": false,
    "ExecuteTime": {
     "end_time": "2025-03-04T09:52:56.484467Z",
     "start_time": "2025-03-04T09:52:56.377180Z"
    }
   },
   "outputs": [],
   "execution_count": 7
  },
  {
   "cell_type": "markdown",
   "source": [
    "## Lasst uns das Meisterwerk öffnen und bewundern!\n"
   ],
   "metadata": {
    "collapsed": false
   }
  },
  {
   "cell_type": "markdown",
   "source": [
    "# Schritt 2: 3D-Scatterplot"
   ],
   "metadata": {
    "collapsed": false
   }
  },
  {
   "cell_type": "code",
   "source": [
    "penguins = sns.load_dataset(\"penguins\")"
   ],
   "metadata": {
    "collapsed": false,
    "ExecuteTime": {
     "end_time": "2025-03-04T09:54:14.684116Z",
     "start_time": "2025-03-04T09:54:14.638074Z"
    }
   },
   "outputs": [],
   "execution_count": 8
  },
  {
   "cell_type": "code",
   "source": [
    "# Normaler 3D-Scatterplot von Schnabellänge, -breite und Körpermasse:\n",
    "ax = plt.axes(projection=\"3d\")\n",
    "\n",
    "ax.scatter(penguins[\"bill_depth_mm\"],\n",
    "\t\t   penguins[\"bill_length_mm\"],\n",
    "\t\t   penguins[\"body_mass_g\"])\n",
    "\n",
    "ax.set_title(\"Bill Length vs Bill Depth vs Body Mass\")\n",
    "ax.set_xlabel(\"Bill Depth [mm]\")\n",
    "ax.set_ylabel(\"Bill Length [mm]\")\n",
    "ax.set_zlabel(\"Body Mass [g]\")\n",
    "\n",
    "ax.view_init(20, 0, 0)"
   ],
   "metadata": {
    "collapsed": false,
    "ExecuteTime": {
     "end_time": "2025-03-04T09:54:17.722084Z",
     "start_time": "2025-03-04T09:54:17.479453Z"
    }
   },
   "outputs": [
    {
     "data": {
      "text/plain": [
       "<Figure size 640x480 with 1 Axes>"
      ],
      "image/png": "[encoded data removed]"
     },
     "metadata": {},
     "output_type": "display_data"
    }
   ],
   "execution_count": 9
  },
  {
   "cell_type": "code",
   "source": [
    "# Die Idee: Diesen Plot erstellen wir uns jetzt ganz häufig und ändern dabei die Drehung im view_init. Dadurch rotiert dann der Würfel im gif!\n",
    "\n",
    "circle = np.linspace(0, 359, 360)\n",
    "\n",
    "# Alternativ: List Comprehension\n",
    "# drehung = [num for num in range(0,501,1)]\n",
    "# drehung"
   ],
   "metadata": {
    "collapsed": false,
    "ExecuteTime": {
     "end_time": "2025-03-04T10:08:43.417883Z",
     "start_time": "2025-03-04T10:08:43.413090Z"
    }
   },
   "outputs": [],
   "execution_count": 16
  },
  {
   "metadata": {
    "ExecuteTime": {
     "end_time": "2025-03-04T10:08:56.809501Z",
     "start_time": "2025-03-04T10:08:56.802953Z"
    }
   },
   "cell_type": "code",
   "source": [
    "print(circle[0])\n",
    "print(circle[359])\n",
    "print(len(circle))"
   ],
   "outputs": [
    {
     "name": "stdout",
     "output_type": "stream",
     "text": [
      "0.0\n",
      "359.0\n",
      "360\n"
     ]
    }
   ],
   "execution_count": 18
  },
  {
   "cell_type": "code",
   "source": [
    "if not os.path.exists('rotating_penguins'):\n",
    "\tos.mkdir('rotating_penguins')\n",
    "\tprint('Ordner angelegt!')"
   ],
   "metadata": {
    "collapsed": false,
    "ExecuteTime": {
     "end_time": "2025-03-04T10:09:03.069984Z",
     "start_time": "2025-03-04T10:09:03.065008Z"
    }
   },
   "outputs": [
    {
     "name": "stdout",
     "output_type": "stream",
     "text": [
      "Ordner angelegt!\n"
     ]
    }
   ],
   "execution_count": 19
  },
  {
   "cell_type": "code",
   "source": [
    "# Und das machen wir doch ganz einfach mit einer Schleife!\n",
    "for degree in circle:\n",
    "\tax = plt.axes(projection=\"3d\")\n",
    "\tax.scatter(penguins[\"bill_depth_mm\"], penguins[\"bill_length_mm\"], penguins[\"body_mass_g\"])\n",
    "\tax.set_xlabel(\"Bill Depth [mm]\")\n",
    "\tax.set_ylabel(\"Bill Length [mm]\")\n",
    "\tax.set_zlabel(\"Body Mass [g]\")\n",
    "\tax.set_title(\"Bill Length vs Bill Depth vs Body Mass\")\n",
    "\tax.view_init(20, degree, 0)\n",
    "\n",
    "\tplt.savefig(fname=fr\"rotating_penguins/Bild{int(degree):0>3d}.png\", dpi=96)\n",
    "\tprint(f'Pinguinwürfel bei {degree} Grad Rotation gespeichert!')\n",
    "\tplt.close()\n",
    "\n",
    "print('Pinguinproduktion abgeschlossen!')"
   ],
   "metadata": {
    "collapsed": false,
    "ExecuteTime": {
     "end_time": "2025-03-04T10:10:30.197782Z",
     "start_time": "2025-03-04T10:09:37.449068Z"
    }
   },
   "outputs": [
    {
     "name": "stdout",
     "output_type": "stream",
     "text": [
      "Pinguinwürfel bei 0.0 Grad Rotation gespeichert!\n",
      "Pinguinwürfel bei 1.0 Grad Rotation gespeichert!\n",
      "Pinguinwürfel bei 2.0 Grad Rotation gespeichert!\n",
      "Pinguinwürfel bei 3.0 Grad Rotation gespeichert!\n",
      "Pinguinwürfel bei 4.0 Grad Rotation gespeichert!\n",
      "Pinguinwürfel bei 5.0 Grad Rotation gespeichert!\n",
      "Pinguinwürfel bei 6.0 Grad Rotation gespeichert!\n",
      "Pinguinwürfel bei 7.0 Grad Rotation gespeichert!\n",
      "Pinguinwürfel bei 8.0 Grad Rotation gespeichert!\n",
      "Pinguinwürfel bei 9.0 Grad Rotation gespeichert!\n",
      "Pinguinwürfel bei 10.0 Grad Rotation gespeichert!\n",
      "Pinguinwürfel bei 11.0 Grad Rotation gespeichert!\n",
      "Pinguinwürfel bei 12.0 Grad Rotation gespeichert!\n",
      "Pinguinwürfel bei 13.0 Grad Rotation gespeichert!\n",
      "Pinguinwürfel bei 14.0 Grad Rotation gespeichert!\n",
      "Pinguinwürfel bei 15.0 Grad Rotation gespeichert!\n",
      "Pinguinwürfel bei 16.0 Grad Rotation gespeichert!\n",
      "Pinguinwürfel bei 17.0 Grad Rotation gespeichert!\n",
      "Pinguinwürfel bei 18.0 Grad Rotation gespeichert!\n",
      "Pinguinwürfel bei 19.0 Grad Rotation gespeichert!\n",
      "Pinguinwürfel bei 20.0 Grad Rotation gespeichert!\n",
      "Pinguinwürfel bei 21.0 Grad Rotation gespeichert!\n",
      "Pinguinwürfel bei 22.0 Grad Rotation gespeichert!\n",
      "Pinguinwürfel bei 23.0 Grad Rotation gespeichert!\n",
      "Pinguinwürfel bei 24.0 Grad Rotation gespeichert!\n",
      "Pinguinwürfel bei 25.0 Grad Rotation gespeichert!\n",
      "Pinguinwürfel bei 26.0 Grad Rotation gespeichert!\n",
      "Pinguinwürfel bei 27.0 Grad Rotation gespeichert!\n",
      "Pinguinwürfel bei 28.0 Grad Rotation gespeichert!\n",
      "Pinguinwürfel bei 29.0 Grad Rotation gespeichert!\n",
      "Pinguinwürfel bei 30.0 Grad Rotation gespeichert!\n",
      "Pinguinwürfel bei 31.0 Grad Rotation gespeichert!\n",
      "Pinguinwürfel bei 32.0 Grad Rotation gespeichert!\n",
      "Pinguinwürfel bei 33.0 Grad Rotation gespeichert!\n",
      "Pinguinwürfel bei 34.0 Grad Rotation gespeichert!\n",
      "Pinguinwürfel bei 35.0 Grad Rotation gespeichert!\n",
      "Pinguinwürfel bei 36.0 Grad Rotation gespeichert!\n",
      "Pinguinwürfel bei 37.0 Grad Rotation gespeichert!\n",
      "Pinguinwürfel bei 38.0 Grad Rotation gespeichert!\n",
      "Pinguinwürfel bei 39.0 Grad Rotation gespeichert!\n",
      "Pinguinwürfel bei 40.0 Grad Rotation gespeichert!\n",
      "Pinguinwürfel bei 41.0 Grad Rotation gespeichert!\n",
      "Pinguinwürfel bei 42.0 Grad Rotation gespeichert!\n",
      "Pinguinwürfel bei 43.0 Grad Rotation gespeichert!\n",
      "Pinguinwürfel bei 44.0 Grad Rotation gespeichert!\n",
      "Pinguinwürfel bei 45.0 Grad Rotation gespeichert!\n",
      "Pinguinwürfel bei 46.0 Grad Rotation gespeichert!\n",
      "Pinguinwürfel bei 47.0 Grad Rotation gespeichert!\n",
      "Pinguinwürfel bei 48.0 Grad Rotation gespeichert!\n",
      "Pinguinwürfel bei 49.0 Grad Rotation gespeichert!\n",
      "Pinguinwürfel bei 50.0 Grad Rotation gespeichert!\n",
      "Pinguinwürfel bei 51.0 Grad Rotation gespeichert!\n",
      "Pinguinwürfel bei 52.0 Grad Rotation gespeichert!\n",
      "Pinguinwürfel bei 53.0 Grad Rotation gespeichert!\n",
      "Pinguinwürfel bei 54.0 Grad Rotation gespeichert!\n",
      "Pinguinwürfel bei 55.0 Grad Rotation gespeichert!\n",
      "Pinguinwürfel bei 56.0 Grad Rotation gespeichert!\n",
      "Pinguinwürfel bei 57.0 Grad Rotation gespeichert!\n",
      "Pinguinwürfel bei 58.0 Grad Rotation gespeichert!\n",
      "Pinguinwürfel bei 59.0 Grad Rotation gespeichert!\n",
      "Pinguinwürfel bei 60.0 Grad Rotation gespeichert!\n",
      "Pinguinwürfel bei 61.0 Grad Rotation gespeichert!\n",
      "Pinguinwürfel bei 62.0 Grad Rotation gespeichert!\n",
      "Pinguinwürfel bei 63.0 Grad Rotation gespeichert!\n",
      "Pinguinwürfel bei 64.0 Grad Rotation gespeichert!\n",
      "Pinguinwürfel bei 65.0 Grad Rotation gespeichert!\n",
      "Pinguinwürfel bei 66.0 Grad Rotation gespeichert!\n",
      "Pinguinwürfel bei 67.0 Grad Rotation gespeichert!\n",
      "Pinguinwürfel bei 68.0 Grad Rotation gespeichert!\n",
      "Pinguinwürfel bei 69.0 Grad Rotation gespeichert!\n",
      "Pinguinwürfel bei 70.0 Grad Rotation gespeichert!\n",
      "Pinguinwürfel bei 71.0 Grad Rotation gespeichert!\n",
      "Pinguinwürfel bei 72.0 Grad Rotation gespeichert!\n",
      "Pinguinwürfel bei 73.0 Grad Rotation gespeichert!\n",
      "Pinguinwürfel bei 74.0 Grad Rotation gespeichert!\n",
      "Pinguinwürfel bei 75.0 Grad Rotation gespeichert!\n",
      "Pinguinwürfel bei 76.0 Grad Rotation gespeichert!\n",
      "Pinguinwürfel bei 77.0 Grad Rotation gespeichert!\n",
      "Pinguinwürfel bei 78.0 Grad Rotation gespeichert!\n",
      "Pinguinwürfel bei 79.0 Grad Rotation gespeichert!\n",
      "Pinguinwürfel bei 80.0 Grad Rotation gespeichert!\n",
      "Pinguinwürfel bei 81.0 Grad Rotation gespeichert!\n",
      "Pinguinwürfel bei 82.0 Grad Rotation gespeichert!\n",
      "Pinguinwürfel bei 83.0 Grad Rotation gespeichert!\n",
      "Pinguinwürfel bei 84.0 Grad Rotation gespeichert!\n",
      "Pinguinwürfel bei 85.0 Grad Rotation gespeichert!\n",
      "Pinguinwürfel bei 86.0 Grad Rotation gespeichert!\n",
      "Pinguinwürfel bei 87.0 Grad Rotation gespeichert!\n",
      "Pinguinwürfel bei 88.0 Grad Rotation gespeichert!\n",
      "Pinguinwürfel bei 89.0 Grad Rotation gespeichert!\n",
      "Pinguinwürfel bei 90.0 Grad Rotation gespeichert!\n",
      "Pinguinwürfel bei 91.0 Grad Rotation gespeichert!\n",
      "Pinguinwürfel bei 92.0 Grad Rotation gespeichert!\n",
      "Pinguinwürfel bei 93.0 Grad Rotation gespeichert!\n",
      "Pinguinwürfel bei 94.0 Grad Rotation gespeichert!\n",
      "Pinguinwürfel bei 95.0 Grad Rotation gespeichert!\n",
      "Pinguinwürfel bei 96.0 Grad Rotation gespeichert!\n",
      "Pinguinwürfel bei 97.0 Grad Rotation gespeichert!\n",
      "Pinguinwürfel bei 98.0 Grad Rotation gespeichert!\n",
      "Pinguinwürfel bei 99.0 Grad Rotation gespeichert!\n",
      "Pinguinwürfel bei 100.0 Grad Rotation gespeichert!\n",
      "Pinguinwürfel bei 101.0 Grad Rotation gespeichert!\n",
      "Pinguinwürfel bei 102.0 Grad Rotation gespeichert!\n",
      "Pinguinwürfel bei 103.0 Grad Rotation gespeichert!\n",
      "Pinguinwürfel bei 104.0 Grad Rotation gespeichert!\n",
      "Pinguinwürfel bei 105.0 Grad Rotation gespeichert!\n",
      "Pinguinwürfel bei 106.0 Grad Rotation gespeichert!\n",
      "Pinguinwürfel bei 107.0 Grad Rotation gespeichert!\n",
      "Pinguinwürfel bei 108.0 Grad Rotation gespeichert!\n",
      "Pinguinwürfel bei 109.0 Grad Rotation gespeichert!\n",
      "Pinguinwürfel bei 110.0 Grad Rotation gespeichert!\n",
      "Pinguinwürfel bei 111.0 Grad Rotation gespeichert!\n",
      "Pinguinwürfel bei 112.0 Grad Rotation gespeichert!\n",
      "Pinguinwürfel bei 113.0 Grad Rotation gespeichert!\n",
      "Pinguinwürfel bei 114.0 Grad Rotation gespeichert!\n",
      "Pinguinwürfel bei 115.0 Grad Rotation gespeichert!\n",
      "Pinguinwürfel bei 116.0 Grad Rotation gespeichert!\n",
      "Pinguinwürfel bei 117.0 Grad Rotation gespeichert!\n",
      "Pinguinwürfel bei 118.0 Grad Rotation gespeichert!\n",
      "Pinguinwürfel bei 119.0 Grad Rotation gespeichert!\n",
      "Pinguinwürfel bei 120.0 Grad Rotation gespeichert!\n",
      "Pinguinwürfel bei 121.0 Grad Rotation gespeichert!\n",
      "Pinguinwürfel bei 122.0 Grad Rotation gespeichert!\n",
      "Pinguinwürfel bei 123.0 Grad Rotation gespeichert!\n",
      "Pinguinwürfel bei 124.0 Grad Rotation gespeichert!\n",
      "Pinguinwürfel bei 125.0 Grad Rotation gespeichert!\n",
      "Pinguinwürfel bei 126.0 Grad Rotation gespeichert!\n",
      "Pinguinwürfel bei 127.0 Grad Rotation gespeichert!\n",
      "Pinguinwürfel bei 128.0 Grad Rotation gespeichert!\n",
      "Pinguinwürfel bei 129.0 Grad Rotation gespeichert!\n",
      "Pinguinwürfel bei 130.0 Grad Rotation gespeichert!\n",
      "Pinguinwürfel bei 131.0 Grad Rotation gespeichert!\n",
      "Pinguinwürfel bei 132.0 Grad Rotation gespeichert!\n",
      "Pinguinwürfel bei 133.0 Grad Rotation gespeichert!\n",
      "Pinguinwürfel bei 134.0 Grad Rotation gespeichert!\n",
      "Pinguinwürfel bei 135.0 Grad Rotation gespeichert!\n",
      "Pinguinwürfel bei 136.0 Grad Rotation gespeichert!\n",
      "Pinguinwürfel bei 137.0 Grad Rotation gespeichert!\n",
      "Pinguinwürfel bei 138.0 Grad Rotation gespeichert!\n",
      "Pinguinwürfel bei 139.0 Grad Rotation gespeichert!\n",
      "Pinguinwürfel bei 140.0 Grad Rotation gespeichert!\n",
      "Pinguinwürfel bei 141.0 Grad Rotation gespeichert!\n",
      "Pinguinwürfel bei 142.0 Grad Rotation gespeichert!\n",
      "Pinguinwürfel bei 143.0 Grad Rotation gespeichert!\n",
      "Pinguinwürfel bei 144.0 Grad Rotation gespeichert!\n",
      "Pinguinwürfel bei 145.0 Grad Rotation gespeichert!\n",
      "Pinguinwürfel bei 146.0 Grad Rotation gespeichert!\n",
      "Pinguinwürfel bei 147.0 Grad Rotation gespeichert!\n",
      "Pinguinwürfel bei 148.0 Grad Rotation gespeichert!\n",
      "Pinguinwürfel bei 149.0 Grad Rotation gespeichert!\n",
      "Pinguinwürfel bei 150.0 Grad Rotation gespeichert!\n",
      "Pinguinwürfel bei 151.0 Grad Rotation gespeichert!\n",
      "Pinguinwürfel bei 152.0 Grad Rotation gespeichert!\n",
      "Pinguinwürfel bei 153.0 Grad Rotation gespeichert!\n",
      "Pinguinwürfel bei 154.0 Grad Rotation gespeichert!\n",
      "Pinguinwürfel bei 155.0 Grad Rotation gespeichert!\n",
      "Pinguinwürfel bei 156.0 Grad Rotation gespeichert!\n",
      "Pinguinwürfel bei 157.0 Grad Rotation gespeichert!\n",
      "Pinguinwürfel bei 158.0 Grad Rotation gespeichert!\n",
      "Pinguinwürfel bei 159.0 Grad Rotation gespeichert!\n",
      "Pinguinwürfel bei 160.0 Grad Rotation gespeichert!\n",
      "Pinguinwürfel bei 161.0 Grad Rotation gespeichert!\n",
      "Pinguinwürfel bei 162.0 Grad Rotation gespeichert!\n",
      "Pinguinwürfel bei 163.0 Grad Rotation gespeichert!\n",
      "Pinguinwürfel bei 164.0 Grad Rotation gespeichert!\n",
      "Pinguinwürfel bei 165.0 Grad Rotation gespeichert!\n",
      "Pinguinwürfel bei 166.0 Grad Rotation gespeichert!\n",
      "Pinguinwürfel bei 167.0 Grad Rotation gespeichert!\n",
      "Pinguinwürfel bei 168.0 Grad Rotation gespeichert!\n",
      "Pinguinwürfel bei 169.0 Grad Rotation gespeichert!\n",
      "Pinguinwürfel bei 170.0 Grad Rotation gespeichert!\n",
      "Pinguinwürfel bei 171.0 Grad Rotation gespeichert!\n",
      "Pinguinwürfel bei 172.0 Grad Rotation gespeichert!\n",
      "Pinguinwürfel bei 173.0 Grad Rotation gespeichert!\n",
      "Pinguinwürfel bei 174.0 Grad Rotation gespeichert!\n",
      "Pinguinwürfel bei 175.0 Grad Rotation gespeichert!\n",
      "Pinguinwürfel bei 176.0 Grad Rotation gespeichert!\n",
      "Pinguinwürfel bei 177.0 Grad Rotation gespeichert!\n",
      "Pinguinwürfel bei 178.0 Grad Rotation gespeichert!\n",
      "Pinguinwürfel bei 179.0 Grad Rotation gespeichert!\n",
      "Pinguinwürfel bei 180.0 Grad Rotation gespeichert!\n",
      "Pinguinwürfel bei 181.0 Grad Rotation gespeichert!\n",
      "Pinguinwürfel bei 182.0 Grad Rotation gespeichert!\n",
      "Pinguinwürfel bei 183.0 Grad Rotation gespeichert!\n",
      "Pinguinwürfel bei 184.0 Grad Rotation gespeichert!\n",
      "Pinguinwürfel bei 185.0 Grad Rotation gespeichert!\n",
      "Pinguinwürfel bei 186.0 Grad Rotation gespeichert!\n",
      "Pinguinwürfel bei 187.0 Grad Rotation gespeichert!\n",
      "Pinguinwürfel bei 188.0 Grad Rotation gespeichert!\n",
      "Pinguinwürfel bei 189.0 Grad Rotation gespeichert!\n",
      "Pinguinwürfel bei 190.0 Grad Rotation gespeichert!\n",
      "Pinguinwürfel bei 191.0 Grad Rotation gespeichert!\n",
      "Pinguinwürfel bei 192.0 Grad Rotation gespeichert!\n",
      "Pinguinwürfel bei 193.0 Grad Rotation gespeichert!\n",
      "Pinguinwürfel bei 194.0 Grad Rotation gespeichert!\n",
      "Pinguinwürfel bei 195.0 Grad Rotation gespeichert!\n",
      "Pinguinwürfel bei 196.0 Grad Rotation gespeichert!\n",
      "Pinguinwürfel bei 197.0 Grad Rotation gespeichert!\n",
      "Pinguinwürfel bei 198.0 Grad Rotation gespeichert!\n",
      "Pinguinwürfel bei 199.0 Grad Rotation gespeichert!\n",
      "Pinguinwürfel bei 200.0 Grad Rotation gespeichert!\n",
      "Pinguinwürfel bei 201.0 Grad Rotation gespeichert!\n",
      "Pinguinwürfel bei 202.0 Grad Rotation gespeichert!\n",
      "Pinguinwürfel bei 203.0 Grad Rotation gespeichert!\n",
      "Pinguinwürfel bei 204.0 Grad Rotation gespeichert!\n",
      "Pinguinwürfel bei 205.0 Grad Rotation gespeichert!\n",
      "Pinguinwürfel bei 206.0 Grad Rotation gespeichert!\n",
      "Pinguinwürfel bei 207.0 Grad Rotation gespeichert!\n",
      "Pinguinwürfel bei 208.0 Grad Rotation gespeichert!\n",
      "Pinguinwürfel bei 209.0 Grad Rotation gespeichert!\n",
      "Pinguinwürfel bei 210.0 Grad Rotation gespeichert!\n",
      "Pinguinwürfel bei 211.0 Grad Rotation gespeichert!\n",
      "Pinguinwürfel bei 212.0 Grad Rotation gespeichert!\n",
      "Pinguinwürfel bei 213.0 Grad Rotation gespeichert!\n",
      "Pinguinwürfel bei 214.0 Grad Rotation gespeichert!\n",
      "Pinguinwürfel bei 215.0 Grad Rotation gespeichert!\n",
      "Pinguinwürfel bei 216.0 Grad Rotation gespeichert!\n",
      "Pinguinwürfel bei 217.0 Grad Rotation gespeichert!\n",
      "Pinguinwürfel bei 218.0 Grad Rotation gespeichert!\n",
      "Pinguinwürfel bei 219.0 Grad Rotation gespeichert!\n",
      "Pinguinwürfel bei 220.0 Grad Rotation gespeichert!\n",
      "Pinguinwürfel bei 221.0 Grad Rotation gespeichert!\n",
      "Pinguinwürfel bei 222.0 Grad Rotation gespeichert!\n",
      "Pinguinwürfel bei 223.0 Grad Rotation gespeichert!\n",
      "Pinguinwürfel bei 224.0 Grad Rotation gespeichert!\n",
      "Pinguinwürfel bei 225.0 Grad Rotation gespeichert!\n",
      "Pinguinwürfel bei 226.0 Grad Rotation gespeichert!\n",
      "Pinguinwürfel bei 227.0 Grad Rotation gespeichert!\n",
      "Pinguinwürfel bei 228.0 Grad Rotation gespeichert!\n",
      "Pinguinwürfel bei 229.0 Grad Rotation gespeichert!\n",
      "Pinguinwürfel bei 230.0 Grad Rotation gespeichert!\n",
      "Pinguinwürfel bei 231.0 Grad Rotation gespeichert!\n",
      "Pinguinwürfel bei 232.0 Grad Rotation gespeichert!\n",
      "Pinguinwürfel bei 233.0 Grad Rotation gespeichert!\n",
      "Pinguinwürfel bei 234.0 Grad Rotation gespeichert!\n",
      "Pinguinwürfel bei 235.0 Grad Rotation gespeichert!\n",
      "Pinguinwürfel bei 236.0 Grad Rotation gespeichert!\n",
      "Pinguinwürfel bei 237.0 Grad Rotation gespeichert!\n",
      "Pinguinwürfel bei 238.0 Grad Rotation gespeichert!\n",
      "Pinguinwürfel bei 239.0 Grad Rotation gespeichert!\n",
      "Pinguinwürfel bei 240.0 Grad Rotation gespeichert!\n",
      "Pinguinwürfel bei 241.0 Grad Rotation gespeichert!\n",
      "Pinguinwürfel bei 242.0 Grad Rotation gespeichert!\n",
      "Pinguinwürfel bei 243.0 Grad Rotation gespeichert!\n",
      "Pinguinwürfel bei 244.0 Grad Rotation gespeichert!\n",
      "Pinguinwürfel bei 245.0 Grad Rotation gespeichert!\n",
      "Pinguinwürfel bei 246.0 Grad Rotation gespeichert!\n",
      "Pinguinwürfel bei 247.0 Grad Rotation gespeichert!\n",
      "Pinguinwürfel bei 248.0 Grad Rotation gespeichert!\n",
      "Pinguinwürfel bei 249.0 Grad Rotation gespeichert!\n",
      "Pinguinwürfel bei 250.0 Grad Rotation gespeichert!\n",
      "Pinguinwürfel bei 251.0 Grad Rotation gespeichert!\n",
      "Pinguinwürfel bei 252.0 Grad Rotation gespeichert!\n",
      "Pinguinwürfel bei 253.0 Grad Rotation gespeichert!\n",
      "Pinguinwürfel bei 254.0 Grad Rotation gespeichert!\n",
      "Pinguinwürfel bei 255.0 Grad Rotation gespeichert!\n",
      "Pinguinwürfel bei 256.0 Grad Rotation gespeichert!\n",
      "Pinguinwürfel bei 257.0 Grad Rotation gespeichert!\n",
      "Pinguinwürfel bei 258.0 Grad Rotation gespeichert!\n",
      "Pinguinwürfel bei 259.0 Grad Rotation gespeichert!\n",
      "Pinguinwürfel bei 260.0 Grad Rotation gespeichert!\n",
      "Pinguinwürfel bei 261.0 Grad Rotation gespeichert!\n",
      "Pinguinwürfel bei 262.0 Grad Rotation gespeichert!\n",
      "Pinguinwürfel bei 263.0 Grad Rotation gespeichert!\n",
      "Pinguinwürfel bei 264.0 Grad Rotation gespeichert!\n",
      "Pinguinwürfel bei 265.0 Grad Rotation gespeichert!\n",
      "Pinguinwürfel bei 266.0 Grad Rotation gespeichert!\n",
      "Pinguinwürfel bei 267.0 Grad Rotation gespeichert!\n",
      "Pinguinwürfel bei 268.0 Grad Rotation gespeichert!\n",
      "Pinguinwürfel bei 269.0 Grad Rotation gespeichert!\n",
      "Pinguinwürfel bei 270.0 Grad Rotation gespeichert!\n",
      "Pinguinwürfel bei 271.0 Grad Rotation gespeichert!\n",
      "Pinguinwürfel bei 272.0 Grad Rotation gespeichert!\n",
      "Pinguinwürfel bei 273.0 Grad Rotation gespeichert!\n",
      "Pinguinwürfel bei 274.0 Grad Rotation gespeichert!\n",
      "Pinguinwürfel bei 275.0 Grad Rotation gespeichert!\n",
      "Pinguinwürfel bei 276.0 Grad Rotation gespeichert!\n",
      "Pinguinwürfel bei 277.0 Grad Rotation gespeichert!\n",
      "Pinguinwürfel bei 278.0 Grad Rotation gespeichert!\n",
      "Pinguinwürfel bei 279.0 Grad Rotation gespeichert!\n",
      "Pinguinwürfel bei 280.0 Grad Rotation gespeichert!\n",
      "Pinguinwürfel bei 281.0 Grad Rotation gespeichert!\n",
      "Pinguinwürfel bei 282.0 Grad Rotation gespeichert!\n",
      "Pinguinwürfel bei 283.0 Grad Rotation gespeichert!\n",
      "Pinguinwürfel bei 284.0 Grad Rotation gespeichert!\n",
      "Pinguinwürfel bei 285.0 Grad Rotation gespeichert!\n",
      "Pinguinwürfel bei 286.0 Grad Rotation gespeichert!\n",
      "Pinguinwürfel bei 287.0 Grad Rotation gespeichert!\n",
      "Pinguinwürfel bei 288.0 Grad Rotation gespeichert!\n",
      "Pinguinwürfel bei 289.0 Grad Rotation gespeichert!\n",
      "Pinguinwürfel bei 290.0 Grad Rotation gespeichert!\n",
      "Pinguinwürfel bei 291.0 Grad Rotation gespeichert!\n",
      "Pinguinwürfel bei 292.0 Grad Rotation gespeichert!\n",
      "Pinguinwürfel bei 293.0 Grad Rotation gespeichert!\n",
      "Pinguinwürfel bei 294.0 Grad Rotation gespeichert!\n",
      "Pinguinwürfel bei 295.0 Grad Rotation gespeichert!\n",
      "Pinguinwürfel bei 296.0 Grad Rotation gespeichert!\n",
      "Pinguinwürfel bei 297.0 Grad Rotation gespeichert!\n",
      "Pinguinwürfel bei 298.0 Grad Rotation gespeichert!\n",
      "Pinguinwürfel bei 299.0 Grad Rotation gespeichert!\n",
      "Pinguinwürfel bei 300.0 Grad Rotation gespeichert!\n",
      "Pinguinwürfel bei 301.0 Grad Rotation gespeichert!\n",
      "Pinguinwürfel bei 302.0 Grad Rotation gespeichert!\n",
      "Pinguinwürfel bei 303.0 Grad Rotation gespeichert!\n",
      "Pinguinwürfel bei 304.0 Grad Rotation gespeichert!\n",
      "Pinguinwürfel bei 305.0 Grad Rotation gespeichert!\n",
      "Pinguinwürfel bei 306.0 Grad Rotation gespeichert!\n",
      "Pinguinwürfel bei 307.0 Grad Rotation gespeichert!\n",
      "Pinguinwürfel bei 308.0 Grad Rotation gespeichert!\n",
      "Pinguinwürfel bei 309.0 Grad Rotation gespeichert!\n",
      "Pinguinwürfel bei 310.0 Grad Rotation gespeichert!\n",
      "Pinguinwürfel bei 311.0 Grad Rotation gespeichert!\n",
      "Pinguinwürfel bei 312.0 Grad Rotation gespeichert!\n",
      "Pinguinwürfel bei 313.0 Grad Rotation gespeichert!\n",
      "Pinguinwürfel bei 314.0 Grad Rotation gespeichert!\n",
      "Pinguinwürfel bei 315.0 Grad Rotation gespeichert!\n",
      "Pinguinwürfel bei 316.0 Grad Rotation gespeichert!\n",
      "Pinguinwürfel bei 317.0 Grad Rotation gespeichert!\n",
      "Pinguinwürfel bei 318.0 Grad Rotation gespeichert!\n",
      "Pinguinwürfel bei 319.0 Grad Rotation gespeichert!\n",
      "Pinguinwürfel bei 320.0 Grad Rotation gespeichert!\n",
      "Pinguinwürfel bei 321.0 Grad Rotation gespeichert!\n",
      "Pinguinwürfel bei 322.0 Grad Rotation gespeichert!\n",
      "Pinguinwürfel bei 323.0 Grad Rotation gespeichert!\n",
      "Pinguinwürfel bei 324.0 Grad Rotation gespeichert!\n",
      "Pinguinwürfel bei 325.0 Grad Rotation gespeichert!\n",
      "Pinguinwürfel bei 326.0 Grad Rotation gespeichert!\n",
      "Pinguinwürfel bei 327.0 Grad Rotation gespeichert!\n",
      "Pinguinwürfel bei 328.0 Grad Rotation gespeichert!\n",
      "Pinguinwürfel bei 329.0 Grad Rotation gespeichert!\n",
      "Pinguinwürfel bei 330.0 Grad Rotation gespeichert!\n",
      "Pinguinwürfel bei 331.0 Grad Rotation gespeichert!\n",
      "Pinguinwürfel bei 332.0 Grad Rotation gespeichert!\n",
      "Pinguinwürfel bei 333.0 Grad Rotation gespeichert!\n",
      "Pinguinwürfel bei 334.0 Grad Rotation gespeichert!\n",
      "Pinguinwürfel bei 335.0 Grad Rotation gespeichert!\n",
      "Pinguinwürfel bei 336.0 Grad Rotation gespeichert!\n",
      "Pinguinwürfel bei 337.0 Grad Rotation gespeichert!\n",
      "Pinguinwürfel bei 338.0 Grad Rotation gespeichert!\n",
      "Pinguinwürfel bei 339.0 Grad Rotation gespeichert!\n",
      "Pinguinwürfel bei 340.0 Grad Rotation gespeichert!\n",
      "Pinguinwürfel bei 341.0 Grad Rotation gespeichert!\n",
      "Pinguinwürfel bei 342.0 Grad Rotation gespeichert!\n",
      "Pinguinwürfel bei 343.0 Grad Rotation gespeichert!\n",
      "Pinguinwürfel bei 344.0 Grad Rotation gespeichert!\n",
      "Pinguinwürfel bei 345.0 Grad Rotation gespeichert!\n",
      "Pinguinwürfel bei 346.0 Grad Rotation gespeichert!\n",
      "Pinguinwürfel bei 347.0 Grad Rotation gespeichert!\n",
      "Pinguinwürfel bei 348.0 Grad Rotation gespeichert!\n",
      "Pinguinwürfel bei 349.0 Grad Rotation gespeichert!\n",
      "Pinguinwürfel bei 350.0 Grad Rotation gespeichert!\n",
      "Pinguinwürfel bei 351.0 Grad Rotation gespeichert!\n",
      "Pinguinwürfel bei 352.0 Grad Rotation gespeichert!\n",
      "Pinguinwürfel bei 353.0 Grad Rotation gespeichert!\n",
      "Pinguinwürfel bei 354.0 Grad Rotation gespeichert!\n",
      "Pinguinwürfel bei 355.0 Grad Rotation gespeichert!\n",
      "Pinguinwürfel bei 356.0 Grad Rotation gespeichert!\n",
      "Pinguinwürfel bei 357.0 Grad Rotation gespeichert!\n",
      "Pinguinwürfel bei 358.0 Grad Rotation gespeichert!\n",
      "Pinguinwürfel bei 359.0 Grad Rotation gespeichert!\n",
      "Pinguinproduktion abgeschlossen!\n"
     ]
    }
   ],
   "execution_count": 20
  },
  {
   "cell_type": "code",
   "source": [
    "# Hintergrund\n",
    "format(1, '0>3')"
   ],
   "metadata": {
    "collapsed": false,
    "ExecuteTime": {
     "end_time": "2025-03-04T10:10:34.900087Z",
     "start_time": "2025-03-04T10:10:34.893044Z"
    }
   },
   "outputs": [
    {
     "data": {
      "text/plain": [
       "'001'"
      ]
     },
     "execution_count": 21,
     "metadata": {},
     "output_type": "execute_result"
    }
   ],
   "execution_count": 21
  },
  {
   "cell_type": "code",
   "source": [
    "# Und jetzt wieder zu einem Gif zusammenfügen!\n",
    "images = []\n",
    "path = r\"rotating_penguins/\"\n",
    "for file in os.listdir(path):\n",
    "\tif file.endswith('png'):\n",
    "\t\timages.append(iio.imread(f\"{path}{file}\"))\n",
    "\n",
    "imageio.mimsave('rotating_penguins/rotating_penguins_infinite.gif', images, duration=100, loop=0)"
   ],
   "metadata": {
    "collapsed": false,
    "ExecuteTime": {
     "end_time": "2025-03-04T10:21:24.909504Z",
     "start_time": "2025-03-04T10:21:17.424725Z"
    }
   },
   "outputs": [],
   "execution_count": 23
  },
  {
   "cell_type": "markdown",
   "source": [
    "# Übung"
   ],
   "metadata": {
    "collapsed": false
   }
  },
  {
   "cell_type": "markdown",
   "source": [
    "Du willst den Kursfortschritt bei DataCraft in einer Grafik darstellen und willst dafür eintragen, wie viele Stunden du dich mit den verschiedenen Programmen beschäftigt hast. Jeder Tag im Curriculum steht hierbei für 8 Stunden Erfahrung mit einem Programm.\n",
    "\n",
    "Zum Start solltest du ein leeres Diagramm vorbereitet haben, in welchem die Balken \"Excel\", \"Python\" und \"SQL\" jeweils bei 0 sind. Danach sollten getrennt in dieser Reihenfolge die Programme wie folgt ansteigen:\n",
    "- 15 Tage Excel\n",
    "- 40 Tage Python\n",
    "- 28 Tage SQL\n",
    "\n",
    "Insgesamt sollten also 83 Bilder entstehen, in welchen das Balkendiagramm Stück für Stück größer wird. Achte dabei, dass von Anfang an die passenden Titel, Labels und Ticks gesetzt sind. Probiere aus, ob es ebenfalls Sinn ergibt, die Ticks vorab festzulegen oder ob sich diese \"natürlich\" entwickeln sollen. Als Tipp: Du kannst hierfür in 3 getrennten Schleifen diese Bilderreihen für die einzelnen Programme erstellen und ganz zum Schluss über alle Bilder mit imageio das GIF erstellen."
   ],
   "metadata": {
    "collapsed": false
   }
  },
  {
   "cell_type": "code",
   "source": "",
   "metadata": {
    "collapsed": false
   },
   "outputs": [],
   "execution_count": null
  },
  {
   "cell_type": "code",
   "source": "",
   "metadata": {
    "collapsed": false
   },
   "outputs": [],
   "execution_count": null
  },
  {
   "cell_type": "code",
   "source": "",
   "metadata": {
    "collapsed": false
   },
   "outputs": [],
   "execution_count": null
  },
  {
   "cell_type": "code",
   "source": "",
   "metadata": {
    "collapsed": false
   },
   "outputs": [],
   "execution_count": null
  }
 ],
 "metadata": {
  "kernelspec": {
   "display_name": "Python 3",
   "language": "python",
   "name": "python3"
  },
  "language_info": {
   "codemirror_mode": {
    "name": "ipython",
    "version": 2
   },
   "file_extension": ".py",
   "mimetype": "text/x-python",
   "name": "python",
   "nbconvert_exporter": "python",
   "pygments_lexer": "ipython2",
   "version": "2.7.6"
  }
 },
 "nbformat": 4,
 "nbformat_minor": 0
}
