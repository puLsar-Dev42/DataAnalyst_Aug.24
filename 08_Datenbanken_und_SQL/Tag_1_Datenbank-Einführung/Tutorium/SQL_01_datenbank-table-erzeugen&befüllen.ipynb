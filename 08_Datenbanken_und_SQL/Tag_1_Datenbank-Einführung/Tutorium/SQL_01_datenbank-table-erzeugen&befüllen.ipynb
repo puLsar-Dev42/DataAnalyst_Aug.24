{
 "cells": [
  {
   "cell_type": "code",
   "id": "initial_id",
   "metadata": {
    "collapsed": true,
    "ExecuteTime": {
     "end_time": "2024-12-03T10:31:18.392817Z",
     "start_time": "2024-12-03T10:31:18.387744Z"
    }
   },
   "source": "import os, sqlite3",
   "outputs": [],
   "execution_count": 1
  },
  {
   "metadata": {
    "ExecuteTime": {
     "end_time": "2024-12-03T10:31:18.421722Z",
     "start_time": "2024-12-03T10:31:18.417003Z"
    }
   },
   "cell_type": "code",
   "source": [
    "# 1.) mit Db verbinden\n",
    "my_connector = sqlite3.connect(\"my_db\")"
   ],
   "id": "5cae3744a55beb89",
   "outputs": [],
   "execution_count": 2
  },
  {
   "metadata": {
    "ExecuteTime": {
     "end_time": "2024-12-03T10:31:18.436036Z",
     "start_time": "2024-12-03T10:31:18.431245Z"
    }
   },
   "cell_type": "code",
   "source": [
    "# 2.) Cursor erzeugen\n",
    "cursor = my_connector.cursor()"
   ],
   "id": "f882b9d44d9b18ca",
   "outputs": [],
   "execution_count": 3
  },
  {
   "metadata": {
    "ExecuteTime": {
     "end_time": "2024-12-03T10:31:18.701800Z",
     "start_time": "2024-12-03T10:31:18.687723Z"
    }
   },
   "cell_type": "code",
   "source": [
    "# 3.) DB TABLE erzeugen\n",
    "sql = \"CREATE TABLE personen(\" \\\n",
    "    \"name TEXT,\" \\\n",
    "    \"vorname TEXT,\" \\\n",
    "    \"id INTEGER PRIMARY KEY,\" \\\n",
    "    \"groesse REAL)\"\n",
    "cursor.execute(sql)"
   ],
   "id": "aba27482374c2b46",
   "outputs": [
    {
     "data": {
      "text/plain": [
       "<sqlite3.Cursor at 0x252ce3d5ac0>"
      ]
     },
     "execution_count": 4,
     "metadata": {},
     "output_type": "execute_result"
    }
   ],
   "execution_count": 4
  },
  {
   "metadata": {
    "ExecuteTime": {
     "end_time": "2024-12-03T10:31:18.724099Z",
     "start_time": "2024-12-03T10:31:18.714485Z"
    }
   },
   "cell_type": "code",
   "source": [
    "# 4.) TABLE-Datensatz erzeugen\n",
    "sql = \"INSERT INTO personen VALUES('Maier', \"\\\n",
    "    \" 'Achim', 007, 1.70)\"\n",
    "cursor.execute(sql)\n",
    "\n",
    "sql = \"INSERT INTO personen VALUES('Müller', \"\\\n",
    "    \" 'Jochen', 005, 1.85)\"\n",
    "cursor.execute(sql)\n",
    "\n",
    "sql = \"INSERT INTO personen VALUES('Rickert', \"\\\n",
    "    \" 'Rainer', 003, 1.60)\"\n",
    "cursor.execute(sql)"
   ],
   "id": "dd8d18ef8bf2f8ae",
   "outputs": [
    {
     "data": {
      "text/plain": [
       "<sqlite3.Cursor at 0x252ce3d5ac0>"
      ]
     },
     "execution_count": 5,
     "metadata": {},
     "output_type": "execute_result"
    }
   ],
   "execution_count": 5
  },
  {
   "metadata": {
    "ExecuteTime": {
     "end_time": "2024-12-03T10:31:18.776092Z",
     "start_time": "2024-12-03T10:31:18.765763Z"
    }
   },
   "cell_type": "code",
   "source": [
    "# 5.) Commit\n",
    "my_connector.commit()"
   ],
   "id": "a8c5ecf832498c1c",
   "outputs": [],
   "execution_count": 6
  },
  {
   "metadata": {
    "ExecuteTime": {
     "end_time": "2024-12-03T10:31:18.790737Z",
     "start_time": "2024-12-03T10:31:18.786586Z"
    }
   },
   "cell_type": "code",
   "source": [
    "# 6.) Verbinden mit DB beenden\n",
    "my_connector.close()"
   ],
   "id": "573ceaadd02505de",
   "outputs": [],
   "execution_count": 7
  }
 ],
 "metadata": {
  "kernelspec": {
   "display_name": "Python 3",
   "language": "python",
   "name": "python3"
  },
  "language_info": {
   "codemirror_mode": {
    "name": "ipython",
    "version": 2
   },
   "file_extension": ".py",
   "mimetype": "text/x-python",
   "name": "python",
   "nbconvert_exporter": "python",
   "pygments_lexer": "ipython2",
   "version": "2.7.6"
  }
 },
 "nbformat": 4,
 "nbformat_minor": 5
}
