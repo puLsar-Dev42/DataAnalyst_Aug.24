{
 "cells": [
  {
   "cell_type": "code",
   "id": "initial_id",
   "metadata": {
    "collapsed": true,
    "ExecuteTime": {
     "end_time": "2025-02-04T09:42:38.891196Z",
     "start_time": "2025-02-04T09:42:36.138103Z"
    }
   },
   "source": [
    "import statistics\n",
    "from scipy import stats\n",
    "import pandas as pd"
   ],
   "outputs": [],
   "execution_count": 1
  },
  {
   "metadata": {},
   "cell_type": "markdown",
   "source": "##### Vorspiel: Mittelwert berechnen",
   "id": "3bcf2152e8f585cc"
  },
  {
   "metadata": {
    "ExecuteTime": {
     "end_time": "2025-02-04T09:42:43.530147Z",
     "start_time": "2025-02-04T09:42:43.524153Z"
    }
   },
   "cell_type": "code",
   "source": "data = [1, 4, 5, 1, 2, 2, 2, 1]",
   "id": "19847c9d4bcc4359",
   "outputs": [],
   "execution_count": 2
  },
  {
   "metadata": {
    "ExecuteTime": {
     "end_time": "2025-02-04T09:42:48.693594Z",
     "start_time": "2025-02-04T09:42:48.687692Z"
    }
   },
   "cell_type": "code",
   "source": [
    "# Per Hand: \n",
    "mean_per_hand = sum(data) / len(data)\n",
    "print(mean_per_hand)"
   ],
   "id": "936d94ef47a441a2",
   "outputs": [
    {
     "name": "stdout",
     "output_type": "stream",
     "text": [
      "2.25\n"
     ]
    }
   ],
   "execution_count": 3
  },
  {
   "metadata": {
    "ExecuteTime": {
     "end_time": "2025-02-04T09:43:09.330483Z",
     "start_time": "2025-02-04T09:43:09.323944Z"
    }
   },
   "cell_type": "code",
   "source": [
    "# Mit mean aus dem Modul statistics (Standardbibliothek):\n",
    "mean_stat = statistics.mean(data)\n",
    "print(mean_stat)"
   ],
   "id": "dbf5f86bf32e61f4",
   "outputs": [
    {
     "name": "stdout",
     "output_type": "stream",
     "text": [
      "2.25\n"
     ]
    }
   ],
   "execution_count": 4
  },
  {
   "metadata": {},
   "cell_type": "code",
   "source": "# Hinweis: Auch numpy hat eine mean-Methode, ebenso Spalten eines Dataframes!",
   "id": "53cd5188e6c4b5df",
   "outputs": [],
   "execution_count": null
  },
  {
   "metadata": {},
   "cell_type": "markdown",
   "source": "### Skalentypen",
   "id": "1407ca9ca443c11f"
  },
  {
   "metadata": {
    "ExecuteTime": {
     "end_time": "2025-02-04T09:56:32.099134Z",
     "start_time": "2025-02-04T09:56:32.092914Z"
    }
   },
   "cell_type": "code",
   "source": [
    "# Was für ein Skalentyp ist das?\n",
    "\n",
    "# Nominalskala\n",
    "favorite_technologies = ['Python', 'Power BI', 'Excel', 'Python', 'Python',\n",
    "\t\t\t\t\t\t 'SQL', 'Python', 'Python', 'Power BI', 'SQL']"
   ],
   "id": "3decb2b3f4c9789",
   "outputs": [],
   "execution_count": 5
  },
  {
   "metadata": {
    "ExecuteTime": {
     "end_time": "2025-02-04T09:56:33.663629Z",
     "start_time": "2025-02-04T09:56:33.653149Z"
    }
   },
   "cell_type": "code",
   "source": [
    "# Wie oft kommt jedes Element vor? (Schritt 1)\n",
    "[favorite_technologies.count(tech) for tech in favorite_technologies]"
   ],
   "id": "56feeab6fe363ae",
   "outputs": [
    {
     "data": {
      "text/plain": [
       "[5, 2, 1, 5, 5, 2, 5, 5, 2, 2]"
      ]
     },
     "execution_count": 6,
     "metadata": {},
     "output_type": "execute_result"
    }
   ],
   "execution_count": 6
  },
  {
   "metadata": {
    "ExecuteTime": {
     "end_time": "2025-02-04T09:57:26.640859Z",
     "start_time": "2025-02-04T09:57:26.635325Z"
    }
   },
   "cell_type": "code",
   "source": [
    "# Mit Namen (Schritt 2)\n",
    "[(tech, favorite_technologies.count(tech)) for tech in favorite_technologies]"
   ],
   "id": "dcbefafab40049b0",
   "outputs": [
    {
     "data": {
      "text/plain": [
       "[('Python', 5),\n",
       " ('Power BI', 2),\n",
       " ('Excel', 1),\n",
       " ('Python', 5),\n",
       " ('Python', 5),\n",
       " ('SQL', 2),\n",
       " ('Python', 5),\n",
       " ('Python', 5),\n",
       " ('Power BI', 2),\n",
       " ('SQL', 2)]"
      ]
     },
     "execution_count": 7,
     "metadata": {},
     "output_type": "execute_result"
    }
   ],
   "execution_count": 7
  },
  {
   "metadata": {
    "ExecuteTime": {
     "end_time": "2025-02-04T09:57:38.329781Z",
     "start_time": "2025-02-04T09:57:38.321Z"
    }
   },
   "cell_type": "code",
   "source": [
    "# Ohne Doppelungen (Schritt 3 - fertig):\n",
    "[(tech, favorite_technologies.count(tech)) for tech in set(favorite_technologies)]"
   ],
   "id": "3af082e5d7406fc9",
   "outputs": [
    {
     "data": {
      "text/plain": [
       "[('Excel', 1), ('Power BI', 2), ('Python', 5), ('SQL', 2)]"
      ]
     },
     "execution_count": 8,
     "metadata": {},
     "output_type": "execute_result"
    }
   ],
   "execution_count": 8
  },
  {
   "metadata": {
    "ExecuteTime": {
     "end_time": "2025-02-04T10:06:55.759701Z",
     "start_time": "2025-02-04T10:06:55.753359Z"
    }
   },
   "cell_type": "code",
   "source": [
    "# Als Funktion:\n",
    "def abs_freq(entities: list) -> list:\n",
    "\tabs_freqs = [(entity, entities.count(entity)) for entity in set(entities)]\n",
    "\treturn abs_freqs"
   ],
   "id": "8e64139a3554ef80",
   "outputs": [],
   "execution_count": 12
  },
  {
   "metadata": {
    "ExecuteTime": {
     "end_time": "2025-02-04T10:15:31.893569Z",
     "start_time": "2025-02-04T10:15:31.888514Z"
    }
   },
   "cell_type": "code",
   "source": [
    "# Aufruf der Funktion:\n",
    "abs_frequencies = abs_freq(favorite_technologies)\n",
    "abs_frequencies"
   ],
   "id": "1e98e81169b01a1b",
   "outputs": [
    {
     "data": {
      "text/plain": [
       "[('Excel', 1), ('Power BI', 2), ('Python', 5), ('SQL', 2)]"
      ]
     },
     "execution_count": 25,
     "metadata": {},
     "output_type": "execute_result"
    }
   ],
   "execution_count": 25
  },
  {
   "metadata": {
    "ExecuteTime": {
     "end_time": "2025-02-04T10:09:53.847783Z",
     "start_time": "2025-02-04T10:09:53.841271Z"
    }
   },
   "cell_type": "code",
   "source": [
    "# Als Funktion:\n",
    "def rel_freq(entities: list) -> list:\n",
    "\trel_freqs = [(entity, entities.count(entity) / len(entities)) for entity in set(entities)]\n",
    "\treturn rel_freqs"
   ],
   "id": "db465903d07b7c6d",
   "outputs": [],
   "execution_count": 14
  },
  {
   "metadata": {
    "ExecuteTime": {
     "end_time": "2025-02-04T10:14:57.531487Z",
     "start_time": "2025-02-04T10:14:57.525536Z"
    }
   },
   "cell_type": "code",
   "source": [
    "# Aufruf der Funktion:\n",
    "rel_frequencies = rel_freq(favorite_technologies)\n",
    "rel_frequencies"
   ],
   "id": "38550801736d59e",
   "outputs": [
    {
     "data": {
      "text/plain": [
       "[('Excel', 0.1), ('Power BI', 0.2), ('Python', 0.5), ('SQL', 0.2)]"
      ]
     },
     "execution_count": 21,
     "metadata": {},
     "output_type": "execute_result"
    }
   ],
   "execution_count": 21
  },
  {
   "metadata": {
    "ExecuteTime": {
     "end_time": "2025-02-04T10:14:58.868454Z",
     "start_time": "2025-02-04T10:14:58.864116Z"
    }
   },
   "cell_type": "code",
   "source": [
    "# Schöne Ausgabe in Prozent:\n",
    "for tech, percentage in rel_frequencies:\n",
    "\tprint(f'{tech}: {percentage:.2%}')"
   ],
   "id": "166be7d82710491",
   "outputs": [
    {
     "name": "stdout",
     "output_type": "stream",
     "text": [
      "Excel: 10.00%\n",
      "Power BI: 20.00%\n",
      "Python: 50.00%\n",
      "SQL: 20.00%\n"
     ]
    }
   ],
   "execution_count": 22
  },
  {
   "metadata": {
    "ExecuteTime": {
     "end_time": "2025-02-04T10:15:48.785098Z",
     "start_time": "2025-02-04T10:15:48.778589Z"
    }
   },
   "cell_type": "code",
   "source": [
    "# Sollte in der Summe 1 ergeben (entspricht 100%):\n",
    "sum([tup[1] for tup in rel_frequencies])"
   ],
   "id": "ad3c4be8185d4f82",
   "outputs": [
    {
     "data": {
      "text/plain": [
       "1.0"
      ]
     },
     "execution_count": 27,
     "metadata": {},
     "output_type": "execute_result"
    }
   ],
   "execution_count": 27
  },
  {
   "metadata": {
    "ExecuteTime": {
     "end_time": "2025-02-04T10:17:52.590950Z",
     "start_time": "2025-02-04T10:17:52.585279Z"
    }
   },
   "cell_type": "code",
   "source": [
    "# Was ist das für eine Skala?\n",
    "\n",
    "# Ordinalskala, es gibt eine Reihenfolge!\n",
    "grades = ['gut', 'sehr schlecht', 'neutral', 'gut', 'gut', 'gut',\n",
    "\t\t  'sehr gut', 'gut', 'gut', 'sehr gut', 'sehr gut', 'gut',\n",
    "\t\t  'schlecht', 'neutral', 'sehr gut', 'gut', 'neutral', 'neutral', 'gut',\n",
    "\t\t  'sehr gut']"
   ],
   "id": "57898e911f108c9b",
   "outputs": [],
   "execution_count": 28
  },
  {
   "metadata": {
    "ExecuteTime": {
     "end_time": "2025-02-04T10:19:01.318533Z",
     "start_time": "2025-02-04T10:19:01.309646Z"
    }
   },
   "cell_type": "code",
   "source": [
    "# Rechne die relativen Häufigkeiten der Werte aus:\n",
    "rel_freq(grades)"
   ],
   "id": "3d300bb787093fd1",
   "outputs": [
    {
     "data": {
      "text/plain": [
       "[('gut', 0.45),\n",
       " ('neutral', 0.2),\n",
       " ('sehr gut', 0.25),\n",
       " ('sehr schlecht', 0.05),\n",
       " ('schlecht', 0.05)]"
      ]
     },
     "execution_count": 30,
     "metadata": {},
     "output_type": "execute_result"
    }
   ],
   "execution_count": 30
  },
  {
   "metadata": {
    "ExecuteTime": {
     "end_time": "2025-02-04T10:25:37.641922Z",
     "start_time": "2025-02-04T10:25:37.633717Z"
    }
   },
   "cell_type": "code",
   "source": [
    "# Relative Häufigkeiten mit scipy:\n",
    "stats.relfreq([1, 1, 2, 4], numbins=3)"
   ],
   "id": "35bd0c5efe7cca38",
   "outputs": [
    {
     "data": {
      "text/plain": [
       "RelfreqResult(frequency=array([0.5 , 0.25, 0.25]), lowerlimit=np.float64(0.25), binsize=np.float64(1.5), extrapoints=0)"
      ]
     },
     "execution_count": 36,
     "metadata": {},
     "output_type": "execute_result"
    }
   ],
   "execution_count": 36
  },
  {
   "metadata": {
    "ExecuteTime": {
     "end_time": "2025-02-04T10:25:57.429523Z",
     "start_time": "2025-02-04T10:25:57.424112Z"
    }
   },
   "cell_type": "code",
   "source": [
    "# Damit wir einen Mittelwert ausrechnen können, müssen wir erst einmal die Strings\n",
    "# zu Werten umwandeln:\n",
    "grades_dict = {'sehr schlecht': 5, 'schlecht': 4, 'neutral': 3, 'gut': 2, 'sehr gut': 1}"
   ],
   "id": "b9eafe2ad21beeb2",
   "outputs": [],
   "execution_count": 37
  },
  {
   "metadata": {
    "ExecuteTime": {
     "end_time": "2025-02-04T10:26:07.399548Z",
     "start_time": "2025-02-04T10:26:07.391530Z"
    }
   },
   "cell_type": "code",
   "source": [
    "grades_num = [grades_dict[grade] for grade in grades]\n",
    "grades_num"
   ],
   "id": "ee5389b7d4e6f57a",
   "outputs": [
    {
     "data": {
      "text/plain": [
       "[2, 5, 3, 2, 2, 2, 1, 2, 2, 1, 1, 2, 4, 3, 1, 2, 3, 3, 2, 1]"
      ]
     },
     "execution_count": 38,
     "metadata": {},
     "output_type": "execute_result"
    }
   ],
   "execution_count": 38
  },
  {
   "metadata": {
    "ExecuteTime": {
     "end_time": "2025-02-04T10:26:09.366833Z",
     "start_time": "2025-02-04T10:26:09.360237Z"
    }
   },
   "cell_type": "code",
   "source": "sum(grades_num) / len(grades_num)",
   "id": "59a0ae0f1d267591",
   "outputs": [
    {
     "data": {
      "text/plain": [
       "2.2"
      ]
     },
     "execution_count": 39,
     "metadata": {},
     "output_type": "execute_result"
    }
   ],
   "execution_count": 39
  },
  {
   "metadata": {
    "ExecuteTime": {
     "end_time": "2025-02-04T10:28:48.370124Z",
     "start_time": "2025-02-04T10:28:48.364813Z"
    }
   },
   "cell_type": "code",
   "source": [
    "# Relative Häufigkeit mit scipy:\n",
    "print(stats.relfreq(grades_num, len(set(grades_num))))"
   ],
   "id": "a958b9e770a61b13",
   "outputs": [
    {
     "name": "stdout",
     "output_type": "stream",
     "text": [
      "RelfreqResult(frequency=array([0.25, 0.45, 0.2 , 0.05, 0.05]), lowerlimit=np.float64(0.5), binsize=np.float64(1.0), extrapoints=0)\n"
     ]
    }
   ],
   "execution_count": 40
  },
  {
   "metadata": {
    "ExecuteTime": {
     "end_time": "2025-02-04T10:32:05.326705Z",
     "start_time": "2025-02-04T10:32:05.322703Z"
    }
   },
   "cell_type": "code",
   "source": [
    "# caluc_mean()\n",
    "def calcu_mean(numb: list) -> list:\n",
    "\tc_mean = sum(numb) / len(numb)\n",
    "\treturn c_mean"
   ],
   "id": "62db72cd95aff492",
   "outputs": [],
   "execution_count": 41
  },
  {
   "metadata": {
    "ExecuteTime": {
     "end_time": "2025-02-04T10:32:31.644786Z",
     "start_time": "2025-02-04T10:32:31.638272Z"
    }
   },
   "cell_type": "code",
   "source": "calcu_mean(grades_num)",
   "id": "e8c3c0340709d22e",
   "outputs": [
    {
     "data": {
      "text/plain": [
       "2.2"
      ]
     },
     "execution_count": 42,
     "metadata": {},
     "output_type": "execute_result"
    }
   ],
   "execution_count": 42
  },
  {
   "metadata": {},
   "cell_type": "markdown",
   "source": "# Dasselbe mit Pandasmitteln",
   "id": "571827b60cb83a7f"
  },
  {
   "metadata": {
    "ExecuteTime": {
     "end_time": "2025-02-04T10:32:35.407939Z",
     "start_time": "2025-02-04T10:32:35.403403Z"
    }
   },
   "cell_type": "code",
   "source": "grades_dict = {'grades': grades}",
   "id": "e0d4fb33fd8b7d7c",
   "outputs": [],
   "execution_count": 43
  },
  {
   "metadata": {
    "ExecuteTime": {
     "end_time": "2025-02-04T10:32:37.472379Z",
     "start_time": "2025-02-04T10:32:37.442867Z"
    }
   },
   "cell_type": "code",
   "source": [
    "grades_df = pd.DataFrame.from_dict(grades_dict)\n",
    "grades_df"
   ],
   "id": "6d703f1cd431349d",
   "outputs": [
    {
     "data": {
      "text/plain": [
       "           grades\n",
       "0             gut\n",
       "1   sehr schlecht\n",
       "2         neutral\n",
       "3             gut\n",
       "4             gut\n",
       "5             gut\n",
       "6        sehr gut\n",
       "7             gut\n",
       "8             gut\n",
       "9        sehr gut\n",
       "10       sehr gut\n",
       "11            gut\n",
       "12       schlecht\n",
       "13        neutral\n",
       "14       sehr gut\n",
       "15            gut\n",
       "16        neutral\n",
       "17        neutral\n",
       "18            gut\n",
       "19       sehr gut"
      ],
      "text/html": [
       "<div>\n",
       "<style scoped>\n",
       "    .dataframe tbody tr th:only-of-type {\n",
       "        vertical-align: middle;\n",
       "    }\n",
       "\n",
       "    .dataframe tbody tr th {\n",
       "        vertical-align: top;\n",
       "    }\n",
       "\n",
       "    .dataframe thead th {\n",
       "        text-align: right;\n",
       "    }\n",
       "</style>\n",
       "<table border=\"1\" class=\"dataframe\">\n",
       "  <thead>\n",
       "    <tr style=\"text-align: right;\">\n",
       "      <th></th>\n",
       "      <th>grades</th>\n",
       "    </tr>\n",
       "  </thead>\n",
       "  <tbody>\n",
       "    <tr>\n",
       "      <th>0</th>\n",
       "      <td>gut</td>\n",
       "    </tr>\n",
       "    <tr>\n",
       "      <th>1</th>\n",
       "      <td>sehr schlecht</td>\n",
       "    </tr>\n",
       "    <tr>\n",
       "      <th>2</th>\n",
       "      <td>neutral</td>\n",
       "    </tr>\n",
       "    <tr>\n",
       "      <th>3</th>\n",
       "      <td>gut</td>\n",
       "    </tr>\n",
       "    <tr>\n",
       "      <th>4</th>\n",
       "      <td>gut</td>\n",
       "    </tr>\n",
       "    <tr>\n",
       "      <th>5</th>\n",
       "      <td>gut</td>\n",
       "    </tr>\n",
       "    <tr>\n",
       "      <th>6</th>\n",
       "      <td>sehr gut</td>\n",
       "    </tr>\n",
       "    <tr>\n",
       "      <th>7</th>\n",
       "      <td>gut</td>\n",
       "    </tr>\n",
       "    <tr>\n",
       "      <th>8</th>\n",
       "      <td>gut</td>\n",
       "    </tr>\n",
       "    <tr>\n",
       "      <th>9</th>\n",
       "      <td>sehr gut</td>\n",
       "    </tr>\n",
       "    <tr>\n",
       "      <th>10</th>\n",
       "      <td>sehr gut</td>\n",
       "    </tr>\n",
       "    <tr>\n",
       "      <th>11</th>\n",
       "      <td>gut</td>\n",
       "    </tr>\n",
       "    <tr>\n",
       "      <th>12</th>\n",
       "      <td>schlecht</td>\n",
       "    </tr>\n",
       "    <tr>\n",
       "      <th>13</th>\n",
       "      <td>neutral</td>\n",
       "    </tr>\n",
       "    <tr>\n",
       "      <th>14</th>\n",
       "      <td>sehr gut</td>\n",
       "    </tr>\n",
       "    <tr>\n",
       "      <th>15</th>\n",
       "      <td>gut</td>\n",
       "    </tr>\n",
       "    <tr>\n",
       "      <th>16</th>\n",
       "      <td>neutral</td>\n",
       "    </tr>\n",
       "    <tr>\n",
       "      <th>17</th>\n",
       "      <td>neutral</td>\n",
       "    </tr>\n",
       "    <tr>\n",
       "      <th>18</th>\n",
       "      <td>gut</td>\n",
       "    </tr>\n",
       "    <tr>\n",
       "      <th>19</th>\n",
       "      <td>sehr gut</td>\n",
       "    </tr>\n",
       "  </tbody>\n",
       "</table>\n",
       "</div>"
      ]
     },
     "execution_count": 44,
     "metadata": {},
     "output_type": "execute_result"
    }
   ],
   "execution_count": 44
  },
  {
   "metadata": {
    "ExecuteTime": {
     "end_time": "2025-02-04T10:36:01.357050Z",
     "start_time": "2025-02-04T10:36:01.350355Z"
    }
   },
   "cell_type": "code",
   "source": [
    "# Numerische Werte hinzufügen mit map:\n",
    "grades_mapping = {'sehr gut': 1, 'gut': 2, 'neutral': 3, 'schlecht': 4, 'sehr schlecht': 5}\n",
    "grades_df['grades_num'] = grades_df['grades'].map(grades_mapping)"
   ],
   "id": "33e31ffefbb165a5",
   "outputs": [],
   "execution_count": 47
  },
  {
   "metadata": {
    "ExecuteTime": {
     "end_time": "2025-02-04T10:36:02.644710Z",
     "start_time": "2025-02-04T10:36:02.634673Z"
    }
   },
   "cell_type": "code",
   "source": "grades_df",
   "id": "adf40dc55c28acf4",
   "outputs": [
    {
     "data": {
      "text/plain": [
       "           grades  grades_num\n",
       "0             gut           2\n",
       "1   sehr schlecht           5\n",
       "2         neutral           3\n",
       "3             gut           2\n",
       "4             gut           2\n",
       "5             gut           2\n",
       "6        sehr gut           1\n",
       "7             gut           2\n",
       "8             gut           2\n",
       "9        sehr gut           1\n",
       "10       sehr gut           1\n",
       "11            gut           2\n",
       "12       schlecht           4\n",
       "13        neutral           3\n",
       "14       sehr gut           1\n",
       "15            gut           2\n",
       "16        neutral           3\n",
       "17        neutral           3\n",
       "18            gut           2\n",
       "19       sehr gut           1"
      ],
      "text/html": [
       "<div>\n",
       "<style scoped>\n",
       "    .dataframe tbody tr th:only-of-type {\n",
       "        vertical-align: middle;\n",
       "    }\n",
       "\n",
       "    .dataframe tbody tr th {\n",
       "        vertical-align: top;\n",
       "    }\n",
       "\n",
       "    .dataframe thead th {\n",
       "        text-align: right;\n",
       "    }\n",
       "</style>\n",
       "<table border=\"1\" class=\"dataframe\">\n",
       "  <thead>\n",
       "    <tr style=\"text-align: right;\">\n",
       "      <th></th>\n",
       "      <th>grades</th>\n",
       "      <th>grades_num</th>\n",
       "    </tr>\n",
       "  </thead>\n",
       "  <tbody>\n",
       "    <tr>\n",
       "      <th>0</th>\n",
       "      <td>gut</td>\n",
       "      <td>2</td>\n",
       "    </tr>\n",
       "    <tr>\n",
       "      <th>1</th>\n",
       "      <td>sehr schlecht</td>\n",
       "      <td>5</td>\n",
       "    </tr>\n",
       "    <tr>\n",
       "      <th>2</th>\n",
       "      <td>neutral</td>\n",
       "      <td>3</td>\n",
       "    </tr>\n",
       "    <tr>\n",
       "      <th>3</th>\n",
       "      <td>gut</td>\n",
       "      <td>2</td>\n",
       "    </tr>\n",
       "    <tr>\n",
       "      <th>4</th>\n",
       "      <td>gut</td>\n",
       "      <td>2</td>\n",
       "    </tr>\n",
       "    <tr>\n",
       "      <th>5</th>\n",
       "      <td>gut</td>\n",
       "      <td>2</td>\n",
       "    </tr>\n",
       "    <tr>\n",
       "      <th>6</th>\n",
       "      <td>sehr gut</td>\n",
       "      <td>1</td>\n",
       "    </tr>\n",
       "    <tr>\n",
       "      <th>7</th>\n",
       "      <td>gut</td>\n",
       "      <td>2</td>\n",
       "    </tr>\n",
       "    <tr>\n",
       "      <th>8</th>\n",
       "      <td>gut</td>\n",
       "      <td>2</td>\n",
       "    </tr>\n",
       "    <tr>\n",
       "      <th>9</th>\n",
       "      <td>sehr gut</td>\n",
       "      <td>1</td>\n",
       "    </tr>\n",
       "    <tr>\n",
       "      <th>10</th>\n",
       "      <td>sehr gut</td>\n",
       "      <td>1</td>\n",
       "    </tr>\n",
       "    <tr>\n",
       "      <th>11</th>\n",
       "      <td>gut</td>\n",
       "      <td>2</td>\n",
       "    </tr>\n",
       "    <tr>\n",
       "      <th>12</th>\n",
       "      <td>schlecht</td>\n",
       "      <td>4</td>\n",
       "    </tr>\n",
       "    <tr>\n",
       "      <th>13</th>\n",
       "      <td>neutral</td>\n",
       "      <td>3</td>\n",
       "    </tr>\n",
       "    <tr>\n",
       "      <th>14</th>\n",
       "      <td>sehr gut</td>\n",
       "      <td>1</td>\n",
       "    </tr>\n",
       "    <tr>\n",
       "      <th>15</th>\n",
       "      <td>gut</td>\n",
       "      <td>2</td>\n",
       "    </tr>\n",
       "    <tr>\n",
       "      <th>16</th>\n",
       "      <td>neutral</td>\n",
       "      <td>3</td>\n",
       "    </tr>\n",
       "    <tr>\n",
       "      <th>17</th>\n",
       "      <td>neutral</td>\n",
       "      <td>3</td>\n",
       "    </tr>\n",
       "    <tr>\n",
       "      <th>18</th>\n",
       "      <td>gut</td>\n",
       "      <td>2</td>\n",
       "    </tr>\n",
       "    <tr>\n",
       "      <th>19</th>\n",
       "      <td>sehr gut</td>\n",
       "      <td>1</td>\n",
       "    </tr>\n",
       "  </tbody>\n",
       "</table>\n",
       "</div>"
      ]
     },
     "execution_count": 48,
     "metadata": {},
     "output_type": "execute_result"
    }
   ],
   "execution_count": 48
  },
  {
   "metadata": {
    "ExecuteTime": {
     "end_time": "2025-02-04T10:36:19.636996Z",
     "start_time": "2025-02-04T10:36:19.618915Z"
    }
   },
   "cell_type": "code",
   "source": [
    "# Häufigkeiten von Bewertungen:\n",
    "grades_distribution = grades_df.grades.value_counts() / len(grades_df)\n",
    "print(grades_distribution)"
   ],
   "id": "cddb829c1056b314",
   "outputs": [
    {
     "name": "stdout",
     "output_type": "stream",
     "text": [
      "grades\n",
      "gut              0.45\n",
      "sehr gut         0.25\n",
      "neutral          0.20\n",
      "sehr schlecht    0.05\n",
      "schlecht         0.05\n",
      "Name: count, dtype: float64\n"
     ]
    }
   ],
   "execution_count": 49
  },
  {
   "metadata": {},
   "cell_type": "code",
   "source": "# Ging das in Pandas nicht einfacher?\n",
   "id": "e51767e9d439fa1a",
   "outputs": [],
   "execution_count": null
  },
  {
   "metadata": {
    "ExecuteTime": {
     "end_time": "2025-02-04T10:36:54.297200Z",
     "start_time": "2025-02-04T10:36:52.969669Z"
    }
   },
   "cell_type": "code",
   "source": "grades_distribution.plot(kind='bar');",
   "id": "1c2d4f1ff7e9606d",
   "outputs": [
    {
     "data": {
      "text/plain": [
       "<Figure size 640x480 with 1 Axes>"
      ],
      "image/png": "[encoded data removed]"
     },
     "metadata": {},
     "output_type": "display_data"
    }
   ],
   "execution_count": 50
  },
  {
   "metadata": {
    "ExecuteTime": {
     "end_time": "2025-02-04T10:47:41.891961Z",
     "start_time": "2025-02-04T10:47:41.876516Z"
    }
   },
   "cell_type": "code",
   "source": [
    "grades_sorted = grades_distribution.reindex(['sehr schlecht', 'schlecht', 'neutral', 'gut', 'sehr gut'])\n",
    "grades_sorted"
   ],
   "id": "2575227344ad2c",
   "outputs": [
    {
     "data": {
      "text/plain": [
       "grades\n",
       "sehr schlecht    0.05\n",
       "schlecht         0.05\n",
       "neutral          0.20\n",
       "gut              0.45\n",
       "sehr gut         0.25\n",
       "Name: count, dtype: float64"
      ]
     },
     "execution_count": 51,
     "metadata": {},
     "output_type": "execute_result"
    }
   ],
   "execution_count": 51
  },
  {
   "metadata": {
    "ExecuteTime": {
     "end_time": "2025-02-04T10:48:50.828882Z",
     "start_time": "2025-02-04T10:48:50.759612Z"
    }
   },
   "cell_type": "code",
   "source": "grades_sorted.plot(kind='pie');",
   "id": "add2dfe11e9cca13",
   "outputs": [
    {
     "data": {
      "text/plain": [
       "<Figure size 640x480 with 1 Axes>"
      ],
      "image/png": "[encoded data removed]"
     },
     "metadata": {},
     "output_type": "display_data"
    }
   ],
   "execution_count": 56
  },
  {
   "metadata": {
    "ExecuteTime": {
     "end_time": "2025-02-04T10:49:56.603179Z",
     "start_time": "2025-02-04T10:49:56.501037Z"
    }
   },
   "cell_type": "code",
   "source": [
    "# Oder komplett aus Pandasmitteln mit method chaining:\n",
    "grades_df['grades'].value_counts(normalize=True) \\\n",
    "\t.reindex(['sehr schlecht', 'schlecht', 'neutral', 'gut', 'sehr gut']) \\\n",
    "\t.plot(kind='bar');"
   ],
   "id": "ea3930a3d8ec2539",
   "outputs": [
    {
     "data": {
      "text/plain": [
       "<Figure size 640x480 with 1 Axes>"
      ],
      "image/png": "[encoded data removed]"
     },
     "metadata": {},
     "output_type": "display_data"
    }
   ],
   "execution_count": 58
  },
  {
   "metadata": {
    "ExecuteTime": {
     "end_time": "2025-02-04T10:49:53.757624Z",
     "start_time": "2025-02-04T10:49:53.752626Z"
    }
   },
   "cell_type": "code",
   "source": [
    "# Was ist das für eine Skala?\n",
    "\n",
    "# Intervallskala  -> siehe Skript!!!\n",
    "celsius_temperatures = [20, 27, 10, 7, 11, -1, 0, -4]"
   ],
   "id": "41d726754b1b906f",
   "outputs": [],
   "execution_count": 57
  },
  {
   "metadata": {},
   "cell_type": "code",
   "source": "",
   "id": "cc5085e253b43777",
   "outputs": [],
   "execution_count": null
  },
  {
   "metadata": {
    "ExecuteTime": {
     "end_time": "2025-02-04T10:51:05.871200Z",
     "start_time": "2025-02-04T10:51:05.866767Z"
    }
   },
   "cell_type": "code",
   "source": [
    "# Was ist das für eine Skala?\n",
    "\n",
    "# Verhältnisskala -> siehe Skript!!!\n",
    "student_weigths = [72, 64.5, 85, 77, 68, 62]"
   ],
   "id": "6b5d58891cb85870",
   "outputs": [],
   "execution_count": 59
  },
  {
   "metadata": {},
   "cell_type": "code",
   "source": "",
   "id": "38063bcce32f56fc",
   "outputs": [],
   "execution_count": null
  }
 ],
 "metadata": {
  "kernelspec": {
   "display_name": "Python 3",
   "language": "python",
   "name": "python3"
  },
  "language_info": {
   "codemirror_mode": {
    "name": "ipython",
    "version": 2
   },
   "file_extension": ".py",
   "mimetype": "text/x-python",
   "name": "python",
   "nbconvert_exporter": "python",
   "pygments_lexer": "ipython2",
   "version": "2.7.6"
  }
 },
 "nbformat": 4,
 "nbformat_minor": 5
}
