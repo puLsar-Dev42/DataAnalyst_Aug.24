{
 "cells": [
  {
   "cell_type": "markdown",
   "metadata": {},
   "source": [
    "# Python & SQLite\n",
    "Willkommen zurück in Python!\n",
    "\n",
    "Vor unserem \"kleinen Ausflug\" in SQL haben wir hier Pandas und Tabellen kennengelernt. Lasst uns dieses Wissen mit SQL verknüpfen und SQL-Befehle in Python kennenlernen.\n",
    "\n",
    "## Wie können wir SQL in Verbindung mit Python nutzen?\n",
    "\n",
    "Wir brauchen einen Datenbank-Treiber, um uns mit Datenbanken zu verbinden. Auch Pycharm, DBeaver und Pgadmin benutzen diese Treiber, um mit der Datenbank zu kommunizieren. In Python erhalten wir diese Treiber durch die Installation von Paketen. Diese unterscheiden sich je nach Datenbank.\n",
    "\n",
    "Den Anfang machen wir wieder in `SQLite`. Um uns mit SQLite-Datenbanken zu verbinden, brauchen wir das `sqlite3`-Paket, welches den Treiber bereitstellt. Da das Paket Teil der Standard-Bibliothek ist, brauchen wir es nicht erst nachträglich installieren. Wir können es direkt importieren und mit seiner Hilfe Verbindungen zu SQLite-Datenbanken herstellen.\n",
    "\n",
    "Dokumentation [hier](https://docs.python.org/3/library/sqlite3.html)."
   ]
  },
  {
   "cell_type": "markdown",
   "metadata": {},
   "source": [
    "### Warum Python und SQL kombinieren?\n",
    "\n",
    "Mit Python haben wir einen Allrounder in Sachen Programmierung und Datenanalyse, mit dem wir Diagramme erstellen, Machine Learning betreiben und vieles Weiteres tun können. Die Sammlung von Daten in Unternehmen erfolgt sehr häufig in relationalen Datenbanken – und hier ist die Zugriffssprache SQL. Ein Datenanalyst sollte imstande sein, auf solche Datenbanken zuzugreifen, um z.B. Daten für die weitere Analyse in einen Dataframe zu laden. Nutzt man SQL-Datenbanken als solide Datenspeicher, führt die Analysen von gewissen Daten dann aber mit Python durch, dann vereint man das Beste aus beiden Welten.\n",
    "\n",
    "Hinweis: Beim Arbeiten in Pycharm stellen wir den globalen Dialekt wieder von Postgres auf SQLite um."
   ]
  },
  {
   "cell_type": "code",
   "metadata": {
    "ExecuteTime": {
     "end_time": "2025-01-03T09:22:32.676352Z",
     "start_time": "2025-01-03T09:22:32.118878Z"
    }
   },
   "source": [
    "import sqlite3\n",
    "import pandas as pd"
   ],
   "outputs": [],
   "execution_count": 2
  },
  {
   "cell_type": "markdown",
   "source": [
    "## Zu einer bestehenden Datenbank verbinden"
   ],
   "metadata": {
    "collapsed": false
   }
  },
  {
   "cell_type": "markdown",
   "source": [
    "Mit der connect-Methode stellt man eine Verbindung zu einer Datenbank her.\n",
    "Existiert die in Klammern angegebene Datenbank nicht, wird sie erstellt!"
   ],
   "metadata": {
    "collapsed": false
   }
  },
  {
   "cell_type": "code",
   "source": [
    "connection = sqlite3.connect(\n",
    "\tr\"C:\\Users\\Admin\\OneDrive\\Dokumente\\DataCraft\\DataAnalyst_Aug.24\\08_Datenbanken_und_SQL\\databases\\Chinook.db\")"
   ],
   "metadata": {
    "collapsed": false,
    "ExecuteTime": {
     "end_time": "2025-01-03T08:43:41.556537Z",
     "start_time": "2025-01-03T08:43:41.551205Z"
    }
   },
   "outputs": [],
   "execution_count": 2
  },
  {
   "cell_type": "markdown",
   "source": [
    "Um über diese Verbindung Befehle ausführen zu können, müssen wir noch einen \"cursor\"\n",
    "erstellen. Das kann man sich wie eine Kommandozeile/ Befehlseingabe vorstellen.\n",
    "\n",
    "<small>Hinweis: Nicht für alle SQL-Statements brauchen wir auch unbedingt einen Cursor und bei manchen\n",
    "ist es sogar sinnvoll, direkt connection.execute() zu benutzen.\n",
    "<br>In erster Linie bei SELECT-Statements, bei denen wir Kontrolle über die Ausgabe haben wollen,\n",
    "brauchen wir aber einen Cursor.</small>"
   ],
   "metadata": {
    "collapsed": false
   }
  },
  {
   "cell_type": "code",
   "source": [
    "cursor = connection.cursor()"
   ],
   "metadata": {
    "collapsed": false,
    "ExecuteTime": {
     "end_time": "2025-01-03T08:02:43.516846Z",
     "start_time": "2025-01-03T08:02:43.511363Z"
    }
   },
   "outputs": [],
   "execution_count": 7
  },
  {
   "cell_type": "markdown",
   "source": [
    "Mit der execute-Methode kann man SQL-Befehle wie Select-Statements ausführen."
   ],
   "metadata": {
    "collapsed": false
   }
  },
  {
   "cell_type": "code",
   "source": "cursor.execute('SELECT * FROM Artist;')",
   "metadata": {
    "collapsed": false,
    "ExecuteTime": {
     "end_time": "2025-01-03T08:13:21.209470Z",
     "start_time": "2025-01-03T08:13:21.200908Z"
    }
   },
   "outputs": [
    {
     "data": {
      "text/plain": [
       "<sqlite3.Cursor at 0x20d32bc7440>"
      ]
     },
     "execution_count": 22,
     "metadata": {},
     "output_type": "execute_result"
    }
   ],
   "execution_count": 22
  },
  {
   "cell_type": "markdown",
   "source": "Der Cursor hat jetzt die Tabelleninhalte abgerufen und kann diese mit den fetch-Methoden ausgeben. Dabei kann der Nutzer zwischen der Ausgabe von einer Tabellenzeile (fetchone), einer selbst gewählten Anzahl (fetchmany) und allen Zeilen der Tabelle auf einen Schlag (fetchall) wählen. Je nach dem, wie viel gefetcht wurde, bleibt der Cursor dabei an einer bestimmten Stelle stehen und holt mit dem nächten Fetch die nächsten Einträge. Das kann so lange gehen, bis der Cursor komplett \"entleert\" bzw. abgearbeitet ist.",
   "metadata": {
    "collapsed": false
   }
  },
  {
   "cell_type": "code",
   "source": [
    "# Der Cursor gibt dem Nutzer den ersten Eintrag als Tupel aus und bleibt beim nächsten stehen:\n",
    "cursor.fetchone()"
   ],
   "metadata": {
    "collapsed": false,
    "ExecuteTime": {
     "end_time": "2025-01-03T08:13:04.826824Z",
     "start_time": "2025-01-03T08:13:04.820826Z"
    }
   },
   "outputs": [
    {
     "data": {
      "text/plain": [
       "(1, 'AC/DC')"
      ]
     },
     "execution_count": 17,
     "metadata": {},
     "output_type": "execute_result"
    }
   ],
   "execution_count": 17
  },
  {
   "cell_type": "code",
   "source": [
    "# Derselbe Befehl gibt den nächsten Eintrag aus:\n",
    "cursor.fetchone()"
   ],
   "metadata": {
    "collapsed": false,
    "ExecuteTime": {
     "end_time": "2025-01-03T08:13:06.352010Z",
     "start_time": "2025-01-03T08:13:06.345640Z"
    }
   },
   "outputs": [
    {
     "data": {
      "text/plain": [
       "(2, 'Accept')"
      ]
     },
     "execution_count": 18,
     "metadata": {},
     "output_type": "execute_result"
    }
   ],
   "execution_count": 18
  },
  {
   "cell_type": "code",
   "source": [
    "# Mit fetchmany eine Anzahl von 5 Zeilen ausgeben lassen (Liste von Tupeln):\n",
    "cursor.fetchmany(5)"
   ],
   "metadata": {
    "collapsed": false,
    "ExecuteTime": {
     "end_time": "2025-01-03T08:13:08.424755Z",
     "start_time": "2025-01-03T08:13:08.416202Z"
    }
   },
   "outputs": [
    {
     "data": {
      "text/plain": [
       "[(3, 'Aerosmith'),\n",
       " (4, 'Alanis Morissette'),\n",
       " (5, 'Alice In Chains'),\n",
       " (6, 'Antônio Carlos Jobim'),\n",
       " (7, 'Apocalyptica')]"
      ]
     },
     "execution_count": 19,
     "metadata": {},
     "output_type": "execute_result"
    }
   ],
   "execution_count": 19
  },
  {
   "cell_type": "code",
   "source": [
    "# Mit fetchall alle restlichen Inhalte ausgeben lassen:\n",
    "cursor.fetchall()"
   ],
   "metadata": {
    "collapsed": false,
    "ExecuteTime": {
     "end_time": "2025-01-03T08:13:10.254786Z",
     "start_time": "2025-01-03T08:13:10.243636Z"
    }
   },
   "outputs": [
    {
     "data": {
      "text/plain": [
       "[(8, 'Audioslave'),\n",
       " (9, 'BackBeat'),\n",
       " (10, 'Billy Cobham'),\n",
       " (11, 'Black Label Society'),\n",
       " (12, 'Black Sabbath'),\n",
       " (13, 'Body Count'),\n",
       " (14, 'Bruce Dickinson'),\n",
       " (15, 'Buddy Guy'),\n",
       " (16, 'Caetano Veloso'),\n",
       " (17, 'Chico Buarque'),\n",
       " (18, 'Chico Science & Nação Zumbi'),\n",
       " (19, 'Cidade Negra'),\n",
       " (20, 'Cláudio Zoli'),\n",
       " (21, 'Various Artists'),\n",
       " (22, 'Led Zeppelin'),\n",
       " (23, 'Frank Zappa & Captain Beefheart'),\n",
       " (24, 'Marcos Valle'),\n",
       " (25, 'Milton Nascimento & Bebeto'),\n",
       " (26, 'Azymuth'),\n",
       " (27, 'Gilberto Gil'),\n",
       " (28, 'João Gilberto'),\n",
       " (29, 'Bebel Gilberto'),\n",
       " (30, 'Jorge Vercilo'),\n",
       " (31, 'Baby Consuelo'),\n",
       " (32, 'Ney Matogrosso'),\n",
       " (33, 'Luiz Melodia'),\n",
       " (34, 'Nando Reis'),\n",
       " (35, 'Pedro Luís & A Parede'),\n",
       " (36, 'O Rappa'),\n",
       " (37, 'Ed Motta'),\n",
       " (38, 'Banda Black Rio'),\n",
       " (39, 'Fernanda Porto'),\n",
       " (40, 'Os Cariocas'),\n",
       " (41, 'Elis Regina'),\n",
       " (42, 'Milton Nascimento'),\n",
       " (43, 'A Cor Do Som'),\n",
       " (44, 'Kid Abelha'),\n",
       " (45, 'Sandra De Sá'),\n",
       " (46, 'Jorge Ben'),\n",
       " (47, 'Hermeto Pascoal'),\n",
       " (48, 'Barão Vermelho'),\n",
       " (49, 'Edson, DJ Marky & DJ Patife Featuring Fernanda Porto'),\n",
       " (50, 'Metallica'),\n",
       " (51, 'Queen'),\n",
       " (52, 'Kiss'),\n",
       " (53, 'Spyro Gyra'),\n",
       " (54, 'Green Day'),\n",
       " (55, 'David Coverdale'),\n",
       " (56, 'Gonzaguinha'),\n",
       " (57, 'Os Mutantes'),\n",
       " (58, 'Deep Purple'),\n",
       " (59, 'Santana'),\n",
       " (60, 'Santana Feat. Dave Matthews'),\n",
       " (61, 'Santana Feat. Everlast'),\n",
       " (62, 'Santana Feat. Rob Thomas'),\n",
       " (63, 'Santana Feat. Lauryn Hill & Cee-Lo'),\n",
       " (64, 'Santana Feat. The Project G&B'),\n",
       " (65, 'Santana Feat. Maná'),\n",
       " (66, 'Santana Feat. Eagle-Eye Cherry'),\n",
       " (67, 'Santana Feat. Eric Clapton'),\n",
       " (68, 'Miles Davis'),\n",
       " (69, 'Gene Krupa'),\n",
       " (70, 'Toquinho & Vinícius'),\n",
       " (71, 'Vinícius De Moraes & Baden Powell'),\n",
       " (72, 'Vinícius De Moraes'),\n",
       " (73, 'Vinícius E Qurteto Em Cy'),\n",
       " (74, 'Vinícius E Odette Lara'),\n",
       " (75, 'Vinicius, Toquinho & Quarteto Em Cy'),\n",
       " (76, 'Creedence Clearwater Revival'),\n",
       " (77, 'Cássia Eller'),\n",
       " (78, 'Def Leppard'),\n",
       " (79, 'Dennis Chambers'),\n",
       " (80, 'Djavan'),\n",
       " (81, 'Eric Clapton'),\n",
       " (82, 'Faith No More'),\n",
       " (83, 'Falamansa'),\n",
       " (84, 'Foo Fighters'),\n",
       " (85, 'Frank Sinatra'),\n",
       " (86, 'Funk Como Le Gusta'),\n",
       " (87, 'Godsmack'),\n",
       " (88, \"Guns N' Roses\"),\n",
       " (89, 'Incognito'),\n",
       " (90, 'Iron Maiden'),\n",
       " (91, 'James Brown'),\n",
       " (92, 'Jamiroquai'),\n",
       " (93, 'JET'),\n",
       " (94, 'Jimi Hendrix'),\n",
       " (95, 'Joe Satriani'),\n",
       " (96, 'Jota Quest'),\n",
       " (97, 'João Suplicy'),\n",
       " (98, 'Judas Priest'),\n",
       " (99, 'Legião Urbana'),\n",
       " (100, 'Lenny Kravitz'),\n",
       " (101, 'Lulu Santos'),\n",
       " (102, 'Marillion'),\n",
       " (103, 'Marisa Monte'),\n",
       " (104, 'Marvin Gaye'),\n",
       " (105, 'Men At Work'),\n",
       " (106, 'Motörhead'),\n",
       " (107, 'Motörhead & Girlschool'),\n",
       " (108, 'Mônica Marianno'),\n",
       " (109, 'Mötley Crüe'),\n",
       " (110, 'Nirvana'),\n",
       " (111, 'O Terço'),\n",
       " (112, 'Olodum'),\n",
       " (113, 'Os Paralamas Do Sucesso'),\n",
       " (114, 'Ozzy Osbourne'),\n",
       " (115, 'Page & Plant'),\n",
       " (116, 'Passengers'),\n",
       " (117, \"Paul D'Ianno\"),\n",
       " (118, 'Pearl Jam'),\n",
       " (119, 'Peter Tosh'),\n",
       " (120, 'Pink Floyd'),\n",
       " (121, 'Planet Hemp'),\n",
       " (122, 'R.E.M. Feat. Kate Pearson'),\n",
       " (123, 'R.E.M. Feat. KRS-One'),\n",
       " (124, 'R.E.M.'),\n",
       " (125, 'Raimundos'),\n",
       " (126, 'Raul Seixas'),\n",
       " (127, 'Red Hot Chili Peppers'),\n",
       " (128, 'Rush'),\n",
       " (129, 'Simply Red'),\n",
       " (130, 'Skank'),\n",
       " (131, 'Smashing Pumpkins'),\n",
       " (132, 'Soundgarden'),\n",
       " (133, 'Stevie Ray Vaughan & Double Trouble'),\n",
       " (134, 'Stone Temple Pilots'),\n",
       " (135, 'System Of A Down'),\n",
       " (136, 'Terry Bozzio, Tony Levin & Steve Stevens'),\n",
       " (137, 'The Black Crowes'),\n",
       " (138, 'The Clash'),\n",
       " (139, 'The Cult'),\n",
       " (140, 'The Doors'),\n",
       " (141, 'The Police'),\n",
       " (142, 'The Rolling Stones'),\n",
       " (143, 'The Tea Party'),\n",
       " (144, 'The Who'),\n",
       " (145, 'Tim Maia'),\n",
       " (146, 'Titãs'),\n",
       " (147, 'Battlestar Galactica'),\n",
       " (148, 'Heroes'),\n",
       " (149, 'Lost'),\n",
       " (150, 'U2'),\n",
       " (151, 'UB40'),\n",
       " (152, 'Van Halen'),\n",
       " (153, 'Velvet Revolver'),\n",
       " (154, 'Whitesnake'),\n",
       " (155, 'Zeca Pagodinho'),\n",
       " (156, 'The Office'),\n",
       " (157, 'Dread Zeppelin'),\n",
       " (158, 'Battlestar Galactica (Classic)'),\n",
       " (159, 'Aquaman'),\n",
       " (160, 'Christina Aguilera featuring BigElf'),\n",
       " (161, \"Aerosmith & Sierra Leone's Refugee Allstars\"),\n",
       " (162, 'Los Lonely Boys'),\n",
       " (163, 'Corinne Bailey Rae'),\n",
       " (164, 'Dhani Harrison & Jakob Dylan'),\n",
       " (165, 'Jackson Browne'),\n",
       " (166, 'Avril Lavigne'),\n",
       " (167, 'Big & Rich'),\n",
       " (168, \"Youssou N'Dour\"),\n",
       " (169, 'Black Eyed Peas'),\n",
       " (170, 'Jack Johnson'),\n",
       " (171, 'Ben Harper'),\n",
       " (172, 'Snow Patrol'),\n",
       " (173, 'Matisyahu'),\n",
       " (174, 'The Postal Service'),\n",
       " (175, 'Jaguares'),\n",
       " (176, 'The Flaming Lips'),\n",
       " (177, \"Jack's Mannequin & Mick Fleetwood\"),\n",
       " (178, 'Regina Spektor'),\n",
       " (179, 'Scorpions'),\n",
       " (180, 'House Of Pain'),\n",
       " (181, 'Xis'),\n",
       " (182, 'Nega Gizza'),\n",
       " (183, 'Gustavo & Andres Veiga & Salazar'),\n",
       " (184, 'Rodox'),\n",
       " (185, 'Charlie Brown Jr.'),\n",
       " (186, 'Pedro Luís E A Parede'),\n",
       " (187, 'Los Hermanos'),\n",
       " (188, 'Mundo Livre S/A'),\n",
       " (189, 'Otto'),\n",
       " (190, 'Instituto'),\n",
       " (191, 'Nação Zumbi'),\n",
       " (192, 'DJ Dolores & Orchestra Santa Massa'),\n",
       " (193, 'Seu Jorge'),\n",
       " (194, 'Sabotage E Instituto'),\n",
       " (195, 'Stereo Maracana'),\n",
       " (196, 'Cake'),\n",
       " (197, 'Aisha Duo'),\n",
       " (198, 'Habib Koité and Bamada'),\n",
       " (199, 'Karsh Kale'),\n",
       " (200, 'The Posies'),\n",
       " (201, 'Luciana Souza/Romero Lubambo'),\n",
       " (202, 'Aaron Goldberg'),\n",
       " (203, 'Nicolaus Esterhazy Sinfonia'),\n",
       " (204, 'Temple of the Dog'),\n",
       " (205, 'Chris Cornell'),\n",
       " (206, 'Alberto Turco & Nova Schola Gregoriana'),\n",
       " (207, 'Richard Marlow & The Choir of Trinity College, Cambridge'),\n",
       " (208, 'English Concert & Trevor Pinnock'),\n",
       " (209, 'Anne-Sophie Mutter, Herbert Von Karajan & Wiener Philharmoniker'),\n",
       " (210,\n",
       "  'Hilary Hahn, Jeffrey Kahane, Los Angeles Chamber Orchestra & Margaret Batjer'),\n",
       " (211, 'Wilhelm Kempff'),\n",
       " (212, 'Yo-Yo Ma'),\n",
       " (213, 'Scholars Baroque Ensemble'),\n",
       " (214, 'Academy of St. Martin in the Fields & Sir Neville Marriner'),\n",
       " (215,\n",
       "  'Academy of St. Martin in the Fields Chamber Ensemble & Sir Neville Marriner'),\n",
       " (216, 'Berliner Philharmoniker, Claudio Abbado & Sabine Meyer'),\n",
       " (217, 'Royal Philharmonic Orchestra & Sir Thomas Beecham'),\n",
       " (218, 'Orchestre Révolutionnaire et Romantique & John Eliot Gardiner'),\n",
       " (219, 'Britten Sinfonia, Ivor Bolton & Lesley Garrett'),\n",
       " (220,\n",
       "  'Chicago Symphony Chorus, Chicago Symphony Orchestra & Sir Georg Solti'),\n",
       " (221, 'Sir Georg Solti & Wiener Philharmoniker'),\n",
       " (222,\n",
       "  'Academy of St. Martin in the Fields, John Birch, Sir Neville Marriner & Sylvia McNair'),\n",
       " (223, 'London Symphony Orchestra & Sir Charles Mackerras'),\n",
       " (224, 'Barry Wordsworth & BBC Concert Orchestra'),\n",
       " (225, 'Herbert Von Karajan, Mirella Freni & Wiener Philharmoniker'),\n",
       " (226, 'Eugene Ormandy'),\n",
       " (227, 'Luciano Pavarotti'),\n",
       " (228, 'Leonard Bernstein & New York Philharmonic'),\n",
       " (229, 'Boston Symphony Orchestra & Seiji Ozawa'),\n",
       " (230, 'Aaron Copland & London Symphony Orchestra'),\n",
       " (231, 'Ton Koopman'),\n",
       " (232, 'Sergei Prokofiev & Yuri Temirkanov'),\n",
       " (233, 'Chicago Symphony Orchestra & Fritz Reiner'),\n",
       " (234, 'Orchestra of The Age of Enlightenment'),\n",
       " (235, 'Emanuel Ax, Eugene Ormandy & Philadelphia Orchestra'),\n",
       " (236, 'James Levine'),\n",
       " (237, 'Berliner Philharmoniker & Hans Rosbaud'),\n",
       " (238, 'Maurizio Pollini'),\n",
       " (239,\n",
       "  'Academy of St. Martin in the Fields, Sir Neville Marriner & William Bennett'),\n",
       " (240, 'Gustav Mahler'),\n",
       " (241, 'Felix Schmidt, London Symphony Orchestra & Rafael Frühbeck de Burgos'),\n",
       " (242, 'Edo de Waart & San Francisco Symphony'),\n",
       " (243, 'Antal Doráti & London Symphony Orchestra'),\n",
       " (244, 'Choir Of Westminster Abbey & Simon Preston'),\n",
       " (245, 'Michael Tilson Thomas & San Francisco Symphony'),\n",
       " (246,\n",
       "  'Chor der Wiener Staatsoper, Herbert Von Karajan & Wiener Philharmoniker'),\n",
       " (247, \"The King's Singers\"),\n",
       " (248, 'Berliner Philharmoniker & Herbert Von Karajan'),\n",
       " (249, 'Sir Georg Solti, Sumi Jo & Wiener Philharmoniker'),\n",
       " (250, \"Christopher O'Riley\"),\n",
       " (251, 'Fretwork'),\n",
       " (252, 'Amy Winehouse'),\n",
       " (253, 'Calexico'),\n",
       " (254, 'Otto Klemperer & Philharmonia Orchestra'),\n",
       " (255, 'Yehudi Menuhin'),\n",
       " (256, 'Philharmonia Orchestra & Sir Neville Marriner'),\n",
       " (257,\n",
       "  'Academy of St. Martin in the Fields, Sir Neville Marriner & Thurston Dart'),\n",
       " (258, 'Les Arts Florissants & William Christie'),\n",
       " (259, 'The 12 Cellists of The Berlin Philharmonic'),\n",
       " (260, 'Adrian Leaper & Doreen de Feis'),\n",
       " (261, 'Roger Norrington, London Classical Players'),\n",
       " (262, \"Charles Dutoit & L'Orchestre Symphonique de Montréal\"),\n",
       " (263,\n",
       "  'Equale Brass Ensemble, John Eliot Gardiner & Munich Monteverdi Orchestra and Choir'),\n",
       " (264, \"Kent Nagano and Orchestre de l'Opéra de Lyon\"),\n",
       " (265, 'Julian Bream'),\n",
       " (266, 'Martin Roscoe'),\n",
       " (267, 'Göteborgs Symfoniker & Neeme Järvi'),\n",
       " (268, 'Itzhak Perlman'),\n",
       " (269, 'Michele Campanella'),\n",
       " (270, 'Gerald Moore'),\n",
       " (271, 'Mela Tenenbaum, Pro Musica Prague & Richard Kapp'),\n",
       " (272, 'Emerson String Quartet'),\n",
       " (273,\n",
       "  'C. Monteverdi, Nigel Rogers - Chiaroscuro; London Baroque; London Cornett & Sackbu'),\n",
       " (274, 'Nash Ensemble'),\n",
       " (275, 'Philip Glass Ensemble')]"
      ]
     },
     "execution_count": 20,
     "metadata": {},
     "output_type": "execute_result"
    }
   ],
   "execution_count": 20
  },
  {
   "cell_type": "code",
   "source": [
    "# Ab jetzt ist der Cursor über alle Inhalte gelaufen und \"leer\" (gibt None zurück):\n",
    "cursor.fetchone()"
   ],
   "metadata": {
    "collapsed": false,
    "ExecuteTime": {
     "end_time": "2025-01-03T08:13:13.431545Z",
     "start_time": "2025-01-03T08:13:13.426072Z"
    }
   },
   "outputs": [],
   "execution_count": 21
  },
  {
   "cell_type": "code",
   "source": [
    "# Wir können natürlich komplexere Abfragen schreiben und über execute ausführen.\n",
    "# Dann lohnt sich aber ein Multiline-String:\n",
    "cursor.execute('''\n",
    "        SELECT InvoiceId,\n",
    "               CustomerId,\n",
    "               BillingAddress,\n",
    "               BillingCity,\n",
    "               BillingCountry,\n",
    "               Total\n",
    "        FROM Invoice\n",
    "        WHERE InvoiceId > 100\n",
    "        AND BillingCountry = 'Germany';\n",
    "''')\n",
    "# Das funktioniert, ist aber unschön und relativ unflexibel."
   ],
   "metadata": {
    "collapsed": false,
    "ExecuteTime": {
     "end_time": "2025-01-03T08:39:13.172477Z",
     "start_time": "2025-01-03T08:39:13.165644Z"
    }
   },
   "outputs": [
    {
     "data": {
      "text/plain": [
       "<sqlite3.Cursor at 0x20d32bc7440>"
      ]
     },
     "execution_count": 24,
     "metadata": {},
     "output_type": "execute_result"
    }
   ],
   "execution_count": 24
  },
  {
   "cell_type": "code",
   "source": [
    "cursor.fetchall()"
   ],
   "metadata": {
    "collapsed": false,
    "ExecuteTime": {
     "end_time": "2025-01-03T08:39:15.489316Z",
     "start_time": "2025-01-03T08:39:15.480026Z"
    }
   },
   "outputs": [
    {
     "data": {
      "text/plain": [
       "[(104, 38, 'Barbarossastraße 19', 'Berlin', 'Germany', 0.99),\n",
       " (127, 37, 'Berger Straße 10', 'Frankfurt', 'Germany', 1.98),\n",
       " (138, 37, 'Berger Straße 10', 'Frankfurt', 'Germany', 13.86),\n",
       " (193, 37, 'Berger Straße 10', 'Frankfurt', 'Germany', 14.91),\n",
       " (196, 2, 'Theodor-Heuss-Straße 34', 'Stuttgart', 'Germany', 1.98),\n",
       " (219, 2, 'Theodor-Heuss-Straße 34', 'Stuttgart', 'Germany', 3.96),\n",
       " (224, 36, 'Tauentzienstraße 8', 'Berlin', 'Germany', 1.98),\n",
       " (225, 38, 'Barbarossastraße 19', 'Berlin', 'Germany', 1.98),\n",
       " (236, 38, 'Barbarossastraße 19', 'Berlin', 'Germany', 13.86),\n",
       " (241, 2, 'Theodor-Heuss-Straße 34', 'Stuttgart', 'Germany', 5.94),\n",
       " (247, 36, 'Tauentzienstraße 8', 'Berlin', 'Germany', 3.96),\n",
       " (269, 36, 'Tauentzienstraße 8', 'Berlin', 'Germany', 5.94),\n",
       " (291, 38, 'Barbarossastraße 19', 'Berlin', 'Germany', 8.91),\n",
       " (293, 2, 'Theodor-Heuss-Straße 34', 'Stuttgart', 'Germany', 0.99),\n",
       " (321, 36, 'Tauentzienstraße 8', 'Berlin', 'Germany', 0.99),\n",
       " (322, 37, 'Berger Straße 10', 'Frankfurt', 'Germany', 1.98),\n",
       " (345, 37, 'Berger Straße 10', 'Frankfurt', 'Germany', 3.96),\n",
       " (367, 37, 'Berger Straße 10', 'Frankfurt', 'Germany', 5.94)]"
      ]
     },
     "execution_count": 25,
     "metadata": {},
     "output_type": "execute_result"
    }
   ],
   "execution_count": 25
  },
  {
   "cell_type": "code",
   "source": [
    "# Gängiger ist es, die Query in eine Variabel zu schreiben und diese\n",
    "# Variabel dann dem execute zu übergeben:\n",
    "\n",
    "get_germans = '''\n",
    "        SELECT InvoiceId,\n",
    "               CustomerId,\n",
    "               BillingAddress,\n",
    "               BillingCity,\n",
    "               BillingCountry,\n",
    "               Total\n",
    "        FROM Invoice\n",
    "        WHERE BillingCountry = 'Germany';\n",
    "'''"
   ],
   "metadata": {
    "collapsed": false,
    "ExecuteTime": {
     "end_time": "2025-01-03T08:39:17.260746Z",
     "start_time": "2025-01-03T08:39:17.257353Z"
    }
   },
   "outputs": [],
   "execution_count": 26
  },
  {
   "cell_type": "code",
   "source": "cursor.execute(get_germans)",
   "metadata": {
    "collapsed": false,
    "ExecuteTime": {
     "end_time": "2025-01-03T08:39:19.130740Z",
     "start_time": "2025-01-03T08:39:19.125209Z"
    }
   },
   "outputs": [
    {
     "data": {
      "text/plain": [
       "<sqlite3.Cursor at 0x20d32bc7440>"
      ]
     },
     "execution_count": 27,
     "metadata": {},
     "output_type": "execute_result"
    }
   ],
   "execution_count": 27
  },
  {
   "cell_type": "code",
   "source": [
    "cursor.fetchall()"
   ],
   "metadata": {
    "collapsed": false,
    "ExecuteTime": {
     "end_time": "2025-01-03T08:39:21.336829Z",
     "start_time": "2025-01-03T08:39:21.328283Z"
    }
   },
   "outputs": [
    {
     "data": {
      "text/plain": [
       "[(1, 2, 'Theodor-Heuss-Straße 34', 'Stuttgart', 'Germany', 1.98),\n",
       " (6, 37, 'Berger Straße 10', 'Frankfurt', 'Germany', 0.99),\n",
       " (7, 38, 'Barbarossastraße 19', 'Berlin', 'Germany', 1.98),\n",
       " (12, 2, 'Theodor-Heuss-Straße 34', 'Stuttgart', 'Germany', 13.86),\n",
       " (29, 36, 'Tauentzienstraße 8', 'Berlin', 'Germany', 1.98),\n",
       " (30, 38, 'Barbarossastraße 19', 'Berlin', 'Germany', 3.96),\n",
       " (40, 36, 'Tauentzienstraße 8', 'Berlin', 'Germany', 13.86),\n",
       " (52, 38, 'Barbarossastraße 19', 'Berlin', 'Germany', 5.94),\n",
       " (67, 2, 'Theodor-Heuss-Straße 34', 'Stuttgart', 'Germany', 8.91),\n",
       " (95, 36, 'Tauentzienstraße 8', 'Berlin', 'Germany', 8.91),\n",
       " (104, 38, 'Barbarossastraße 19', 'Berlin', 'Germany', 0.99),\n",
       " (127, 37, 'Berger Straße 10', 'Frankfurt', 'Germany', 1.98),\n",
       " (138, 37, 'Berger Straße 10', 'Frankfurt', 'Germany', 13.86),\n",
       " (193, 37, 'Berger Straße 10', 'Frankfurt', 'Germany', 14.91),\n",
       " (196, 2, 'Theodor-Heuss-Straße 34', 'Stuttgart', 'Germany', 1.98),\n",
       " (219, 2, 'Theodor-Heuss-Straße 34', 'Stuttgart', 'Germany', 3.96),\n",
       " (224, 36, 'Tauentzienstraße 8', 'Berlin', 'Germany', 1.98),\n",
       " (225, 38, 'Barbarossastraße 19', 'Berlin', 'Germany', 1.98),\n",
       " (236, 38, 'Barbarossastraße 19', 'Berlin', 'Germany', 13.86),\n",
       " (241, 2, 'Theodor-Heuss-Straße 34', 'Stuttgart', 'Germany', 5.94),\n",
       " (247, 36, 'Tauentzienstraße 8', 'Berlin', 'Germany', 3.96),\n",
       " (269, 36, 'Tauentzienstraße 8', 'Berlin', 'Germany', 5.94),\n",
       " (291, 38, 'Barbarossastraße 19', 'Berlin', 'Germany', 8.91),\n",
       " (293, 2, 'Theodor-Heuss-Straße 34', 'Stuttgart', 'Germany', 0.99),\n",
       " (321, 36, 'Tauentzienstraße 8', 'Berlin', 'Germany', 0.99),\n",
       " (322, 37, 'Berger Straße 10', 'Frankfurt', 'Germany', 1.98),\n",
       " (345, 37, 'Berger Straße 10', 'Frankfurt', 'Germany', 3.96),\n",
       " (367, 37, 'Berger Straße 10', 'Frankfurt', 'Germany', 5.94)]"
      ]
     },
     "execution_count": 28,
     "metadata": {},
     "output_type": "execute_result"
    }
   ],
   "execution_count": 28
  },
  {
   "cell_type": "code",
   "source": [
    "# Spaltennamen erhält man über description.\n",
    "# Die Ausgabe sind siebenteilige Tupel, wobei die Überschrift immer im\n",
    "# ersten Element steckt:\n",
    "cursor.description"
   ],
   "metadata": {
    "collapsed": false,
    "ExecuteTime": {
     "end_time": "2025-01-03T08:39:26.133278Z",
     "start_time": "2025-01-03T08:39:26.126241Z"
    }
   },
   "outputs": [
    {
     "data": {
      "text/plain": [
       "(('InvoiceId', None, None, None, None, None, None),\n",
       " ('CustomerId', None, None, None, None, None, None),\n",
       " ('BillingAddress', None, None, None, None, None, None),\n",
       " ('BillingCity', None, None, None, None, None, None),\n",
       " ('BillingCountry', None, None, None, None, None, None),\n",
       " ('Total', None, None, None, None, None, None))"
      ]
     },
     "execution_count": 29,
     "metadata": {},
     "output_type": "execute_result"
    }
   ],
   "execution_count": 29
  },
  {
   "cell_type": "code",
   "source": [
    "# Sich nur die Spaltennamen ausgeben lassen:\n",
    "for column in cursor.description:\n",
    "\tprint(column[0])"
   ],
   "metadata": {
    "collapsed": false,
    "ExecuteTime": {
     "end_time": "2025-01-03T08:39:28.578491Z",
     "start_time": "2025-01-03T08:39:28.573201Z"
    }
   },
   "outputs": [
    {
     "name": "stdout",
     "output_type": "stream",
     "text": [
      "InvoiceId\n",
      "CustomerId\n",
      "BillingAddress\n",
      "BillingCity\n",
      "BillingCountry\n",
      "Total\n"
     ]
    }
   ],
   "execution_count": 30
  },
  {
   "metadata": {
    "ExecuteTime": {
     "end_time": "2025-01-03T08:50:14.619597Z",
     "start_time": "2025-01-03T08:50:14.604412Z"
    }
   },
   "cell_type": "code",
   "source": [
    "# Wenn wir den Cursor nicht mehr brauchen, sollten wir ihn schließen,\n",
    "# auch wenn es nicht so tragisch ist, wenn man das vergisst, denn er wird\n",
    "# mit der Zeit automatisch entfernt:\n",
    "cursor.close()"
   ],
   "outputs": [
    {
     "ename": "ProgrammingError",
     "evalue": "Cannot operate on a closed database.",
     "output_type": "error",
     "traceback": [
      "\u001B[1;31m---------------------------------------------------------------------------\u001B[0m",
      "\u001B[1;31mProgrammingError\u001B[0m                          Traceback (most recent call last)",
      "Cell \u001B[1;32mIn[13], line 4\u001B[0m\n\u001B[0;32m      1\u001B[0m \u001B[38;5;66;03m# Wenn wir den Cursor nicht mehr brauchen, sollten wir ihn schließen,\u001B[39;00m\n\u001B[0;32m      2\u001B[0m \u001B[38;5;66;03m# auch wenn es nicht so tragisch ist, wenn man das vergisst, denn er wird\u001B[39;00m\n\u001B[0;32m      3\u001B[0m \u001B[38;5;66;03m# mit der Zeit automatisch entfernt:\u001B[39;00m\n\u001B[1;32m----> 4\u001B[0m \u001B[43mcursor\u001B[49m\u001B[38;5;241;43m.\u001B[39;49m\u001B[43mclose\u001B[49m\u001B[43m(\u001B[49m\u001B[43m)\u001B[49m\n",
      "\u001B[1;31mProgrammingError\u001B[0m: Cannot operate on a closed database."
     ]
    }
   ],
   "execution_count": 13
  },
  {
   "cell_type": "code",
   "source": [
    "# Wenn wir mit allem fertig sind, sollte die bestehende Verbindung geschlossen werden:\n",
    "connection.close()"
   ],
   "metadata": {
    "collapsed": false,
    "ExecuteTime": {
     "end_time": "2025-01-03T08:50:19.104874Z",
     "start_time": "2025-01-03T08:50:19.099367Z"
    }
   },
   "outputs": [],
   "execution_count": 15
  },
  {
   "cell_type": "markdown",
   "source": [
    "#### Aufgabe: \n",
    "1. Stelle eine Verbindung zu Chinook her.\n",
    "2. Lass dir die Nach- und Vornamen aller Mitarbeiter ausgeben.\n",
    "3. Hole dir aus Invoice Kundennummer, Stadt sowie Gesamtbetrag und hole außerdem die Kundennamen hinzu. \n",
    "   Lasse dir die oberen zehn Einträge ausgeben.\n",
    "4. Schließe die Verbindung wieder."
   ],
   "metadata": {
    "collapsed": false
   }
  },
  {
   "cell_type": "code",
   "source": [
    "connection = sqlite3.connect(\n",
    "\tr\"C:\\Users\\Admin\\OneDrive\\Dokumente\\DataCraft\\DataAnalyst_Aug.24\\08_Datenbanken_und_SQL\\databases\\Chinook.db\")"
   ],
   "metadata": {
    "collapsed": false,
    "ExecuteTime": {
     "end_time": "2025-01-03T09:22:47.488946Z",
     "start_time": "2025-01-03T09:22:47.484941Z"
    }
   },
   "outputs": [],
   "execution_count": 3
  },
  {
   "cell_type": "code",
   "source": "cursor = connection.cursor()",
   "metadata": {
    "collapsed": false,
    "ExecuteTime": {
     "end_time": "2025-01-03T09:22:50.198273Z",
     "start_time": "2025-01-03T09:22:50.191499Z"
    }
   },
   "outputs": [],
   "execution_count": 4
  },
  {
   "cell_type": "code",
   "source": [
    "employeesname = '''\n",
    "\t\tSELECT LastName,\n",
    "\t\tFirstName\n",
    "\t\tFROM Employee;\n",
    "'''"
   ],
   "metadata": {
    "collapsed": false,
    "ExecuteTime": {
     "end_time": "2025-01-03T09:22:51.804482Z",
     "start_time": "2025-01-03T09:22:51.800026Z"
    }
   },
   "outputs": [],
   "execution_count": 5
  },
  {
   "cell_type": "code",
   "source": [
    "cursor.execute(employeesname)\n",
    "cursor.fetchall()"
   ],
   "metadata": {
    "collapsed": false,
    "ExecuteTime": {
     "end_time": "2025-01-03T09:22:54.438958Z",
     "start_time": "2025-01-03T09:22:54.427374Z"
    }
   },
   "outputs": [
    {
     "data": {
      "text/plain": [
       "[('Adams', 'Andrew'),\n",
       " ('Edwards', 'Nancy'),\n",
       " ('Peacock', 'Jane'),\n",
       " ('Park', 'Margaret'),\n",
       " ('Johnson', 'Steve'),\n",
       " ('Mitchell', 'Michael'),\n",
       " ('King', 'Robert'),\n",
       " ('Callahan', 'Laura')]"
      ]
     },
     "execution_count": 6,
     "metadata": {},
     "output_type": "execute_result"
    }
   ],
   "execution_count": 6
  },
  {
   "metadata": {
    "collapsed": false,
    "ExecuteTime": {
     "end_time": "2025-01-03T09:09:15.152969Z",
     "start_time": "2025-01-03T09:09:15.150122Z"
    }
   },
   "cell_type": "code",
   "source": "",
   "outputs": [],
   "execution_count": null
  },
  {
   "metadata": {
    "ExecuteTime": {
     "end_time": "2025-01-03T09:23:14.992226Z",
     "start_time": "2025-01-03T09:23:14.986369Z"
    }
   },
   "cell_type": "code",
   "source": [
    "customers = '''\n",
    "\t\tSELECT C.LastName || \", \" || C.FirstName,\n",
    "\t\tI.CustomerId,\n",
    "\t\tI.BillingCity,\n",
    "\t\tI.Total\n",
    "\t\tFROM Customer C\n",
    "\t\tJOIN Invoice I on C.CustomerId = I.CustomerId\n",
    "\t\tORDER BY I.CustomerId\n",
    "\t\tLIMIT 10;\n",
    "'''"
   ],
   "outputs": [],
   "execution_count": 7
  },
  {
   "metadata": {
    "ExecuteTime": {
     "end_time": "2025-01-03T09:23:20.841847Z",
     "start_time": "2025-01-03T09:23:20.832231Z"
    }
   },
   "cell_type": "code",
   "source": [
    "cursor.execute(customers)\n",
    "cursor.fetchall()"
   ],
   "outputs": [
    {
     "data": {
      "text/plain": [
       "[('Gonçalves, Luís', 1, 'São José dos Campos', 3.98),\n",
       " ('Gonçalves, Luís', 1, 'São José dos Campos', 3.96),\n",
       " ('Gonçalves, Luís', 1, 'São José dos Campos', 5.94),\n",
       " ('Gonçalves, Luís', 1, 'São José dos Campos', 0.99),\n",
       " ('Gonçalves, Luís', 1, 'São José dos Campos', 1.98),\n",
       " ('Gonçalves, Luís', 1, 'São José dos Campos', 13.86),\n",
       " ('Gonçalves, Luís', 1, 'São José dos Campos', 8.91),\n",
       " ('Köhler, Leonie', 2, 'Stuttgart', 1.98),\n",
       " ('Köhler, Leonie', 2, 'Stuttgart', 13.86),\n",
       " ('Köhler, Leonie', 2, 'Stuttgart', 8.91)]"
      ]
     },
     "execution_count": 8,
     "metadata": {},
     "output_type": "execute_result"
    }
   ],
   "execution_count": 8
  },
  {
   "metadata": {
    "ExecuteTime": {
     "end_time": "2025-01-03T09:50:05.129954Z",
     "start_time": "2025-01-03T09:50:05.123762Z"
    }
   },
   "cell_type": "code",
   "source": [
    "cursor.close()\n",
    "connection.close()"
   ],
   "outputs": [],
   "execution_count": 20
  },
  {
   "cell_type": "markdown",
   "source": [
    "## Eine neue Datenbank erstellen"
   ],
   "metadata": {
    "collapsed": false
   }
  },
  {
   "cell_type": "markdown",
   "source": "Vorhin war die Rede davon, dass bei der connect-Methode eine Datenbank neu erstellt wird, jetzt wollen wir genau das machen!",
   "metadata": {
    "collapsed": false
   }
  },
  {
   "metadata": {
    "ExecuteTime": {
     "end_time": "2025-01-03T09:59:28.327343Z",
     "start_time": "2025-01-03T09:59:28.320610Z"
    }
   },
   "cell_type": "code",
   "source": [
    "# Verbindung zur noch nicht existierenden Datenbank wohnungen.db aufbauen:\n",
    "connection = sqlite3.connect(\n",
    "\tr\"C:\\Users\\Admin\\OneDrive\\Dokumente\\DataCraft\\DataAnalyst_Aug.24\\08_Datenbanken_und_SQL\\databases\\wohnungen.db\")"
   ],
   "outputs": [],
   "execution_count": 26
  },
  {
   "metadata": {
    "collapsed": false
   },
   "cell_type": "code",
   "source": "# Kurz im Bereich Datenbanken die neue Tabelle einbinden!",
   "outputs": [],
   "execution_count": null
  },
  {
   "metadata": {
    "collapsed": false,
    "ExecuteTime": {
     "end_time": "2025-01-03T09:59:32.750235Z",
     "start_time": "2025-01-03T09:59:32.744425Z"
    }
   },
   "cell_type": "code",
   "source": "cursor = connection.cursor()",
   "outputs": [],
   "execution_count": 27
  },
  {
   "cell_type": "code",
   "metadata": {
    "ExecuteTime": {
     "end_time": "2025-01-03T09:30:49.041320Z",
     "start_time": "2025-01-03T09:30:49.035535Z"
    }
   },
   "source": [
    "# Eine neue Tabelle erstellen\n",
    "# 1. SQL-Befehl als String-Variable erstellen:\n",
    "\n",
    "create_areas_table = \"\"\"\n",
    "    CREATE TABLE IF NOT EXISTS areas(\n",
    "        id INTEGER PRIMARY KEY AUTOINCREMENT,\n",
    "        preis FLOAT,\n",
    "        quadratmeter INT,\n",
    "        stadt VARCHAR);\"\"\""
   ],
   "outputs": [],
   "execution_count": 13
  },
  {
   "cell_type": "code",
   "metadata": {
    "ExecuteTime": {
     "end_time": "2025-01-03T09:30:54.197688Z",
     "start_time": "2025-01-03T09:30:54.171279Z"
    }
   },
   "source": [
    "# 2. Den Befehl ausführen:\n",
    "cursor.execute(create_areas_table)"
   ],
   "outputs": [
    {
     "data": {
      "text/plain": [
       "<sqlite3.Cursor at 0x25c2cd53540>"
      ]
     },
     "execution_count": 14,
     "metadata": {},
     "output_type": "execute_result"
    }
   ],
   "execution_count": 14
  },
  {
   "cell_type": "code",
   "metadata": {
    "ExecuteTime": {
     "end_time": "2025-01-03T09:31:20.921732Z",
     "start_time": "2025-01-03T09:31:20.913950Z"
    }
   },
   "source": [
    "# fetchall() gibt alles zurück, was wir durch Select aus Tabelle areas bekommen.\n",
    "# Aktuell ist das eine leere Liste:\n",
    "cursor.execute(\"SELECT * FROM areas;\")\n",
    "cursor.fetchall()"
   ],
   "outputs": [
    {
     "data": {
      "text/plain": [
       "[]"
      ]
     },
     "execution_count": 15,
     "metadata": {},
     "output_type": "execute_result"
    }
   ],
   "execution_count": 15
  },
  {
   "cell_type": "code",
   "metadata": {
    "ExecuteTime": {
     "end_time": "2025-01-03T09:39:34.860952Z",
     "start_time": "2025-01-03T09:39:34.846100Z"
    }
   },
   "source": [
    "# Ein paar Daten einfügen (die Query):\n",
    "insertion_query = \"\"\"\n",
    "    INSERT INTO areas (preis, quadratmeter, stadt)\n",
    "    VALUES\n",
    "    (65.24, 70, \"München\"),\n",
    "    (21.88, 367, \"Augsburg\"),\n",
    "    (89.22, 34, \"Halle\");\n",
    "\"\"\"\n",
    "\n",
    "# SQL-Befehl über sqlite3 durchführen:\n",
    "cursor.execute(insertion_query)"
   ],
   "outputs": [
    {
     "data": {
      "text/plain": [
       "<sqlite3.Cursor at 0x25c2cd53540>"
      ]
     },
     "execution_count": 16,
     "metadata": {},
     "output_type": "execute_result"
    }
   ],
   "execution_count": 16
  },
  {
   "cell_type": "code",
   "source": [
    "# Hier sehen wir Inhalte:\n",
    "cursor.execute('SELECT * FROM areas;')\n",
    "cursor.fetchall()"
   ],
   "metadata": {
    "collapsed": false,
    "ExecuteTime": {
     "end_time": "2025-01-03T09:39:46.060255Z",
     "start_time": "2025-01-03T09:39:46.052830Z"
    }
   },
   "outputs": [
    {
     "data": {
      "text/plain": [
       "[(1, 65.24, 70, 'München'),\n",
       " (2, 21.88, 367, 'Augsburg'),\n",
       " (3, 89.22, 34, 'Halle')]"
      ]
     },
     "execution_count": 17,
     "metadata": {},
     "output_type": "execute_result"
    }
   ],
   "execution_count": 17
  },
  {
   "cell_type": "markdown",
   "source": [
    "### Achtung! Wenn wir SQL aus Python heraus benutzen, ist der Modus \"autocommit\" standardmäßig aus. Das bedeutet, dass wir jedes Mal cursor.commit() ausführen müssen, um unsere Veränderungen wirklich in die Datenbank zu schreiben. Alternativ kann man auch mit with arbeiten."
   ],
   "metadata": {
    "collapsed": false
   }
  },
  {
   "cell_type": "code",
   "source": [
    "# Die Inhalte sind also noch nicht in der Datenbank.\n",
    "# Schreibt die Veränderungen in die Datenbank:\n",
    "connection.commit()"
   ],
   "metadata": {
    "collapsed": false,
    "ExecuteTime": {
     "end_time": "2025-01-03T09:43:28.564974Z",
     "start_time": "2025-01-03T09:43:28.539025Z"
    }
   },
   "outputs": [],
   "execution_count": 18
  },
  {
   "cell_type": "markdown",
   "metadata": {},
   "source": [
    "# Daten aus Excel importieren -> Pandas\n",
    "\n",
    "Pandas bringt uns wieder allerhand Zusatzfunktionen, auch für SQL.\n",
    "Zunächst wollen wir eine Excel-Tabelle in unsere SQLite-Datenbank einfügen.\n"
   ]
  },
  {
   "cell_type": "markdown",
   "metadata": {},
   "source": [
    "Excel-Tabelle in ein DataFrame einlesen:\n",
    "( Falls nicht schon vorhanden, muss das Paket openpyxl vorher installiert werden)"
   ]
  },
  {
   "cell_type": "code",
   "metadata": {
    "ExecuteTime": {
     "end_time": "2025-01-03T09:56:27.109237Z",
     "start_time": "2025-01-03T09:56:27.004021Z"
    }
   },
   "source": [
    "data = pd.read_excel('hotelsneu.xlsx')\n",
    "data.head()"
   ],
   "outputs": [
    {
     "data": {
      "text/plain": [
       "   Gewinn  Preis in Mio  Quadratmeter    Stadt  Preis pro Quadratmeter\n",
       "0  119000         21.88          3938   Berlin             5556.119858\n",
       "1  250000         27.95          3986  München             7012.042148\n",
       "2  250000         16.09          2574     Köln             6250.971251\n",
       "3  145000         27.58          4155  München             6637.785800\n",
       "4  110000         23.76          3795   Berlin             6260.869565"
      ],
      "text/html": [
       "<div>\n",
       "<style scoped>\n",
       "    .dataframe tbody tr th:only-of-type {\n",
       "        vertical-align: middle;\n",
       "    }\n",
       "\n",
       "    .dataframe tbody tr th {\n",
       "        vertical-align: top;\n",
       "    }\n",
       "\n",
       "    .dataframe thead th {\n",
       "        text-align: right;\n",
       "    }\n",
       "</style>\n",
       "<table border=\"1\" class=\"dataframe\">\n",
       "  <thead>\n",
       "    <tr style=\"text-align: right;\">\n",
       "      <th></th>\n",
       "      <th>Gewinn</th>\n",
       "      <th>Preis in Mio</th>\n",
       "      <th>Quadratmeter</th>\n",
       "      <th>Stadt</th>\n",
       "      <th>Preis pro Quadratmeter</th>\n",
       "    </tr>\n",
       "  </thead>\n",
       "  <tbody>\n",
       "    <tr>\n",
       "      <th>0</th>\n",
       "      <td>119000</td>\n",
       "      <td>21.88</td>\n",
       "      <td>3938</td>\n",
       "      <td>Berlin</td>\n",
       "      <td>5556.119858</td>\n",
       "    </tr>\n",
       "    <tr>\n",
       "      <th>1</th>\n",
       "      <td>250000</td>\n",
       "      <td>27.95</td>\n",
       "      <td>3986</td>\n",
       "      <td>München</td>\n",
       "      <td>7012.042148</td>\n",
       "    </tr>\n",
       "    <tr>\n",
       "      <th>2</th>\n",
       "      <td>250000</td>\n",
       "      <td>16.09</td>\n",
       "      <td>2574</td>\n",
       "      <td>Köln</td>\n",
       "      <td>6250.971251</td>\n",
       "    </tr>\n",
       "    <tr>\n",
       "      <th>3</th>\n",
       "      <td>145000</td>\n",
       "      <td>27.58</td>\n",
       "      <td>4155</td>\n",
       "      <td>München</td>\n",
       "      <td>6637.785800</td>\n",
       "    </tr>\n",
       "    <tr>\n",
       "      <th>4</th>\n",
       "      <td>110000</td>\n",
       "      <td>23.76</td>\n",
       "      <td>3795</td>\n",
       "      <td>Berlin</td>\n",
       "      <td>6260.869565</td>\n",
       "    </tr>\n",
       "  </tbody>\n",
       "</table>\n",
       "</div>"
      ]
     },
     "execution_count": 23,
     "metadata": {},
     "output_type": "execute_result"
    }
   ],
   "execution_count": 23
  },
  {
   "cell_type": "markdown",
   "metadata": {},
   "source": [
    "Alle Zeilen der Excel-Tabelle in die Datenbank überführen: \n",
    "\n",
    "1. Tabelle 'hotels' in SQL erstellen"
   ]
  },
  {
   "cell_type": "code",
   "metadata": {
    "ExecuteTime": {
     "end_time": "2025-01-03T09:59:44.659997Z",
     "start_time": "2025-01-03T09:59:44.637068Z"
    }
   },
   "source": [
    "create_hotels = \"\"\"\n",
    "    CREATE TABLE IF NOT EXISTS hotels(\n",
    "        Gewinn int,\n",
    "        Preis float,\n",
    "        Quadratmeter int,\n",
    "        Stadt varchar,\n",
    "        Preis_qm float);\"\"\"\n",
    "\n",
    "cursor.execute(create_hotels)"
   ],
   "outputs": [
    {
     "data": {
      "text/plain": [
       "<sqlite3.Cursor at 0x25c2d4ff440>"
      ]
     },
     "execution_count": 28,
     "metadata": {},
     "output_type": "execute_result"
    }
   ],
   "execution_count": 28
  },
  {
   "cell_type": "markdown",
   "metadata": {},
   "source": [
    "2. Einfügen der Daten aus Dataframe direkt per `to_sql`-Befehl an die von uns angelegte Connection (die ja auch hier in Python geöffnet ist)"
   ]
  },
  {
   "cell_type": "code",
   "metadata": {
    "ExecuteTime": {
     "end_time": "2025-01-03T09:59:47.576241Z",
     "start_time": "2025-01-03T09:59:47.568592Z"
    }
   },
   "source": [
    "# Hilfe für Funktion to_sql anzeigen lassen\n",
    "help(data.to_sql)"
   ],
   "outputs": [
    {
     "name": "stdout",
     "output_type": "stream",
     "text": [
      "Help on method to_sql in module pandas.core.generic:\n",
      "\n",
      "to_sql(name: 'str', con, *, schema: 'str | None' = None, if_exists: \"Literal['fail', 'replace', 'append']\" = 'fail', index: 'bool_t' = True, index_label: 'IndexLabel | None' = None, chunksize: 'int | None' = None, dtype: 'DtypeArg | None' = None, method: \"Literal['multi'] | Callable | None\" = None) -> 'int | None' method of pandas.core.frame.DataFrame instance\n",
      "    Write records stored in a DataFrame to a SQL database.\n",
      "\n",
      "    Databases supported by SQLAlchemy [1]_ are supported. Tables can be\n",
      "    newly created, appended to, or overwritten.\n",
      "\n",
      "    Parameters\n",
      "    ----------\n",
      "    name : str\n",
      "        Name of SQL table.\n",
      "    con : sqlalchemy.engine.(Engine or Connection) or sqlite3.Connection\n",
      "        Using SQLAlchemy makes it possible to use any DB supported by that\n",
      "        library. Legacy support is provided for sqlite3.Connection objects. The user\n",
      "        is responsible for engine disposal and connection closure for the SQLAlchemy\n",
      "        connectable. See `here                 <https://docs.sqlalchemy.org/en/20/core/connections.html>`_.\n",
      "        If passing a sqlalchemy.engine.Connection which is already in a transaction,\n",
      "        the transaction will not be committed.  If passing a sqlite3.Connection,\n",
      "        it will not be possible to roll back the record insertion.\n",
      "\n",
      "    schema : str, optional\n",
      "        Specify the schema (if database flavor supports this). If None, use\n",
      "        default schema.\n",
      "    if_exists : {'fail', 'replace', 'append'}, default 'fail'\n",
      "        How to behave if the table already exists.\n",
      "\n",
      "        * fail: Raise a ValueError.\n",
      "        * replace: Drop the table before inserting new values.\n",
      "        * append: Insert new values to the existing table.\n",
      "\n",
      "    index : bool, default True\n",
      "        Write DataFrame index as a column. Uses `index_label` as the column\n",
      "        name in the table. Creates a table index for this column.\n",
      "    index_label : str or sequence, default None\n",
      "        Column label for index column(s). If None is given (default) and\n",
      "        `index` is True, then the index names are used.\n",
      "        A sequence should be given if the DataFrame uses MultiIndex.\n",
      "    chunksize : int, optional\n",
      "        Specify the number of rows in each batch to be written at a time.\n",
      "        By default, all rows will be written at once.\n",
      "    dtype : dict or scalar, optional\n",
      "        Specifying the datatype for columns. If a dictionary is used, the\n",
      "        keys should be the column names and the values should be the\n",
      "        SQLAlchemy types or strings for the sqlite3 legacy mode. If a\n",
      "        scalar is provided, it will be applied to all columns.\n",
      "    method : {None, 'multi', callable}, optional\n",
      "        Controls the SQL insertion clause used:\n",
      "\n",
      "        * None : Uses standard SQL ``INSERT`` clause (one per row).\n",
      "        * 'multi': Pass multiple values in a single ``INSERT`` clause.\n",
      "        * callable with signature ``(pd_table, conn, keys, data_iter)``.\n",
      "\n",
      "        Details and a sample callable implementation can be found in the\n",
      "        section :ref:`insert method <io.sql.method>`.\n",
      "\n",
      "    Returns\n",
      "    -------\n",
      "    None or int\n",
      "        Number of rows affected by to_sql. None is returned if the callable\n",
      "        passed into ``method`` does not return an integer number of rows.\n",
      "\n",
      "        The number of returned rows affected is the sum of the ``rowcount``\n",
      "        attribute of ``sqlite3.Cursor`` or SQLAlchemy connectable which may not\n",
      "        reflect the exact number of written rows as stipulated in the\n",
      "        `sqlite3 <https://docs.python.org/3/library/sqlite3.html#sqlite3.Cursor.rowcount>`__ or\n",
      "        `SQLAlchemy <https://docs.sqlalchemy.org/en/20/core/connections.html#sqlalchemy.engine.CursorResult.rowcount>`__.\n",
      "\n",
      "        .. versionadded:: 1.4.0\n",
      "\n",
      "    Raises\n",
      "    ------\n",
      "    ValueError\n",
      "        When the table already exists and `if_exists` is 'fail' (the\n",
      "        default).\n",
      "\n",
      "    See Also\n",
      "    --------\n",
      "    read_sql : Read a DataFrame from a table.\n",
      "\n",
      "    Notes\n",
      "    -----\n",
      "    Timezone aware datetime columns will be written as\n",
      "    ``Timestamp with timezone`` type with SQLAlchemy if supported by the\n",
      "    database. Otherwise, the datetimes will be stored as timezone unaware\n",
      "    timestamps local to the original timezone.\n",
      "\n",
      "    Not all datastores support ``method=\"multi\"``. Oracle, for example,\n",
      "    does not support multi-value insert.\n",
      "\n",
      "    References\n",
      "    ----------\n",
      "    .. [1] https://docs.sqlalchemy.org\n",
      "    .. [2] https://www.python.org/dev/peps/pep-0249/\n",
      "\n",
      "    Examples\n",
      "    --------\n",
      "    Create an in-memory SQLite database.\n",
      "\n",
      "    >>> from sqlalchemy import create_engine\n",
      "    >>> engine = create_engine('sqlite://', echo=False)\n",
      "\n",
      "    Create a table from scratch with 3 rows.\n",
      "\n",
      "    >>> df = pd.DataFrame({'name' : ['User 1', 'User 2', 'User 3']})\n",
      "    >>> df\n",
      "         name\n",
      "    0  User 1\n",
      "    1  User 2\n",
      "    2  User 3\n",
      "\n",
      "    >>> df.to_sql(name='users', con=engine)\n",
      "    3\n",
      "    >>> from sqlalchemy import text\n",
      "    >>> with engine.connect() as conn:\n",
      "    ...    conn.execute(text(\"SELECT * FROM users\")).fetchall()\n",
      "    [(0, 'User 1'), (1, 'User 2'), (2, 'User 3')]\n",
      "\n",
      "    An `sqlalchemy.engine.Connection` can also be passed to `con`:\n",
      "\n",
      "    >>> with engine.begin() as connection:\n",
      "    ...     df1 = pd.DataFrame({'name' : ['User 4', 'User 5']})\n",
      "    ...     df1.to_sql(name='users', con=connection, if_exists='append')\n",
      "    2\n",
      "\n",
      "    This is allowed to support operations that require that the same\n",
      "    DBAPI connection is used for the entire operation.\n",
      "\n",
      "    >>> df2 = pd.DataFrame({'name' : ['User 6', 'User 7']})\n",
      "    >>> df2.to_sql(name='users', con=engine, if_exists='append')\n",
      "    2\n",
      "    >>> with engine.connect() as conn:\n",
      "    ...    conn.execute(text(\"SELECT * FROM users\")).fetchall()\n",
      "    [(0, 'User 1'), (1, 'User 2'), (2, 'User 3'),\n",
      "     (0, 'User 4'), (1, 'User 5'), (0, 'User 6'),\n",
      "     (1, 'User 7')]\n",
      "\n",
      "    Overwrite the table with just ``df2``.\n",
      "\n",
      "    >>> df2.to_sql(name='users', con=engine, if_exists='replace',\n",
      "    ...            index_label='id')\n",
      "    2\n",
      "    >>> with engine.connect() as conn:\n",
      "    ...    conn.execute(text(\"SELECT * FROM users\")).fetchall()\n",
      "    [(0, 'User 6'), (1, 'User 7')]\n",
      "\n",
      "    Use ``method`` to define a callable insertion method to do nothing\n",
      "    if there's a primary key conflict on a table in a PostgreSQL database.\n",
      "\n",
      "    >>> from sqlalchemy.dialects.postgresql import insert\n",
      "    >>> def insert_on_conflict_nothing(table, conn, keys, data_iter):\n",
      "    ...     # \"a\" is the primary key in \"conflict_table\"\n",
      "    ...     data = [dict(zip(keys, row)) for row in data_iter]\n",
      "    ...     stmt = insert(table.table).values(data).on_conflict_do_nothing(index_elements=[\"a\"])\n",
      "    ...     result = conn.execute(stmt)\n",
      "    ...     return result.rowcount\n",
      "    >>> df_conflict.to_sql(name=\"conflict_table\", con=conn, if_exists=\"append\", method=insert_on_conflict_nothing)  # doctest: +SKIP\n",
      "    0\n",
      "\n",
      "    For MySQL, a callable to update columns ``b`` and ``c`` if there's a conflict\n",
      "    on a primary key.\n",
      "\n",
      "    >>> from sqlalchemy.dialects.mysql import insert\n",
      "    >>> def insert_on_conflict_update(table, conn, keys, data_iter):\n",
      "    ...     # update columns \"b\" and \"c\" on primary key conflict\n",
      "    ...     data = [dict(zip(keys, row)) for row in data_iter]\n",
      "    ...     stmt = (\n",
      "    ...         insert(table.table)\n",
      "    ...         .values(data)\n",
      "    ...     )\n",
      "    ...     stmt = stmt.on_duplicate_key_update(b=stmt.inserted.b, c=stmt.inserted.c)\n",
      "    ...     result = conn.execute(stmt)\n",
      "    ...     return result.rowcount\n",
      "    >>> df_conflict.to_sql(name=\"conflict_table\", con=conn, if_exists=\"append\", method=insert_on_conflict_update)  # doctest: +SKIP\n",
      "    2\n",
      "\n",
      "    Specify the dtype (especially useful for integers with missing values).\n",
      "    Notice that while pandas is forced to store the data as floating point,\n",
      "    the database supports nullable integers. When fetching the data with\n",
      "    Python, we get back integer scalars.\n",
      "\n",
      "    >>> df = pd.DataFrame({\"A\": [1, None, 2]})\n",
      "    >>> df\n",
      "         A\n",
      "    0  1.0\n",
      "    1  NaN\n",
      "    2  2.0\n",
      "\n",
      "    >>> from sqlalchemy.types import Integer\n",
      "    >>> df.to_sql(name='integers', con=engine, index=False,\n",
      "    ...           dtype={\"A\": Integer()})\n",
      "    3\n",
      "\n",
      "    >>> with engine.connect() as conn:\n",
      "    ...   conn.execute(text(\"SELECT * FROM integers\")).fetchall()\n",
      "    [(1,), (None,), (2,)]\n",
      "\n"
     ]
    }
   ],
   "execution_count": 29
  },
  {
   "cell_type": "code",
   "metadata": {
    "ExecuteTime": {
     "end_time": "2025-01-03T10:00:34.588396Z",
     "start_time": "2025-01-03T10:00:34.536125Z"
    }
   },
   "source": [
    "# Daten in Tabelle hotel eintragen\n",
    "data.to_sql(\"hotels\",\n",
    "\t\t\tconnection,\n",
    "\t\t\tif_exists=\"replace\",\n",
    "\t\t\tindex=False)"
   ],
   "outputs": [
    {
     "data": {
      "text/plain": [
       "150"
      ]
     },
     "execution_count": 30,
     "metadata": {},
     "output_type": "execute_result"
    }
   ],
   "execution_count": 30
  },
  {
   "cell_type": "markdown",
   "metadata": {},
   "source": [
    "Überprüfen, ob das Einfügen von den Excel-Daten auch erfolgreich war (wir nutzen hier wieder `fetchall()`)"
   ]
  },
  {
   "cell_type": "code",
   "metadata": {
    "ExecuteTime": {
     "end_time": "2025-01-03T10:02:13.707134Z",
     "start_time": "2025-01-03T10:02:13.693886Z"
    }
   },
   "source": [
    "cursor.execute(\"SELECT * FROM hotels;\")\n",
    "cursor.fetchall()"
   ],
   "outputs": [
    {
     "data": {
      "text/plain": [
       "[(119000, 21.88, 3938, 'Berlin', 5556.119857795836),\n",
       " (250000, 27.95, 3986, 'München', 7012.042147516308),\n",
       " (250000, 16.09, 2574, 'Köln', 6250.971250971251),\n",
       " (145000, 27.58, 4155, 'München', 6637.785800240674),\n",
       " (110000, 23.76, 3795, 'Berlin', 6260.869565217391),\n",
       " (246000, 22.88, 2773, 'München', 8250.991705733863),\n",
       " (54000, 13.25, 634, 'München', 20899.05362776025),\n",
       " (2000, 8.94, 82, 'München', 109024.3902439024),\n",
       " (114000, 24.87, 3706, 'München', 6710.739341608203),\n",
       " (47000, 14.11, 1692, 'Berlin', 8339.243498817967),\n",
       " (54000, 11.65, 1989, 'Köln', 5857.214680744092),\n",
       " (124000, 17.26, 2616, 'Berlin', 6597.859327217126),\n",
       " (125000, 18.45, 3358, 'Köln', 5494.34187016081),\n",
       " (62000, 17.08, 1941, 'München', 8799.587841318908),\n",
       " (250000, 19.32, 1831, 'München', 10551.61114145276),\n",
       " (24000, 8.48, 800, 'Berlin', 10600.0),\n",
       " (102000, 14.16, 2700, 'Köln', 5244.444444444444),\n",
       " (26000, 13.84, 1257, 'München', 11010.34208432777),\n",
       " (85000, 19.59, 2644, 'Berlin', 7409.228441754917),\n",
       " (182000, 18.64, 2001, 'München', 9315.342328835583),\n",
       " (74000, 8.0, 1581, 'Köln', 5060.088551549652),\n",
       " (5000, 7.84, 82, 'München', 95609.75609756098),\n",
       " (134000, 15.54, 2412, 'Köln', 6442.786069651741),\n",
       " (14000, 6.09, 769, 'Köln', 7919.375812743823),\n",
       " (84000, 22.4, 3815, 'Berlin', 5871.559633027523),\n",
       " (124000, 23.44, 3122, 'München', 7508.007687379884),\n",
       " (32000, 17.75, 1492, 'München', 11896.78284182306),\n",
       " (250000, 6.73, 525, 'Köln', 12819.04761904762),\n",
       " (53000, 14.22, 1217, 'München', 11684.47000821693),\n",
       " (32000, 17.22, 1497, 'München', 11503.00601202405),\n",
       " (63000, 17.97, 3101, 'Berlin', 5794.904869396969),\n",
       " (88000, 13.58, 2644, 'Köln', 5136.157337367625),\n",
       " (156000, 19.1, 3631, 'Köln', 5260.25888185073),\n",
       " (138000, 13.09, 1461, 'Berlin', 8959.616700889801),\n",
       " (37000, 15.93, 1492, 'München', 10676.9436997319),\n",
       " (86000, 19.37, 2408, 'München', 8044.019933554818),\n",
       " (17000, 7.87, 859, 'Köln', 9161.816065192084),\n",
       " (23000, 9.76, 703, 'Berlin', 13883.35704125178),\n",
       " (136000, 22.98, 4908, 'Köln', 4682.151589242054),\n",
       " (129000, 14.15, 2545, 'Köln', 5559.92141453831),\n",
       " (34000, 13.77, 1847, 'Berlin', 7455.332972387656),\n",
       " (18000, 7.77, 502, 'Berlin', 15478.08764940239),\n",
       " (137000, 18.12, 3478, 'Köln', 5209.890741805635),\n",
       " (73000, 9.88, 756, 'Berlin', 13068.78306878307),\n",
       " (156000, 24.78, 5099, 'Köln', 4859.776426750343),\n",
       " (21000, 8.69, 1215, 'Köln', 7152.263374485597),\n",
       " (91000, 19.76, 3107, 'Berlin', 6359.832635983264),\n",
       " (72000, 13.76, 2375, 'Köln', 5793.684210526316),\n",
       " (101000, 11.87, 2101, 'Köln', 5649.690623512613),\n",
       " (250000, 24.21, 4832, 'Köln', 5010.347682119205),\n",
       " (57000, 13.0, 2458, 'Köln', 5288.852725793328),\n",
       " (83000, 23.6, 4561, 'Berlin', 5174.303880727911),\n",
       " (87000, 24.43, 4044, 'Berlin', 6041.04846686449),\n",
       " (141000, 21.93, 3896, 'Berlin', 5628.850102669405),\n",
       " (99000, 21.26, 2630, 'München', 8083.650190114068),\n",
       " (250000, 20.43, 3249, 'Berlin', 6288.08864265928),\n",
       " (99000, 14.97, 2409, 'Berlin', 6214.196762141968),\n",
       " (113000, 22.62, 2618, 'München', 8640.1833460657),\n",
       " (83000, 19.6, 3366, 'Köln', 5822.93523469994),\n",
       " (29000, 10.94, 1625, 'Köln', 6732.307692307692),\n",
       " (68000, 22.3, 3149, 'München', 7081.61321054303),\n",
       " (121000, 22.99, 3944, 'Berlin', 5829.107505070994),\n",
       " (71000, 16.32, 3162, 'Berlin', 5161.290322580645),\n",
       " (64000, 13.86, 1993, 'Köln', 6954.340190667335),\n",
       " (250000, 16.39, 2583, 'Köln', 6345.334881920247),\n",
       " (97000, 16.55, 2301, 'Berlin', 7192.524989135159),\n",
       " (4000, 6.95, 171, 'Berlin', 40643.27485380117),\n",
       " (250000, 20.64, 3876, 'Köln', 5325.077399380805),\n",
       " (13000, 12.1, 304, 'München', 39802.63157894737),\n",
       " (250000, 20.86, 3849, 'Köln', 5419.589503767213),\n",
       " (66000, 22.42, 2795, 'München', 8021.466905187835),\n",
       " (250000, 32.78, 5702, 'München', 5748.860049105577),\n",
       " (75000, 20.14, 4082, 'Köln', 4933.855952964233),\n",
       " (125000, 20.27, 3910, 'Köln', 5184.143222506394),\n",
       " (126000, 24.49, 4565, 'Berlin', 5364.731653888281),\n",
       " (250000, 27.94, 4436, 'München', 6298.467087466186),\n",
       " (250000, 10.41, 1355, 'Köln', 7682.656826568265),\n",
       " (64000, 14.9, 2220, 'Berlin', 6711.711711711711),\n",
       " (97000, 24.81, 3674, 'München', 6752.857920522591),\n",
       " (91000, 16.38, 2847, 'Köln', 5753.424657534246),\n",
       " (124000, 26.31, 5201, 'Berlin', 5058.642568736781),\n",
       " (25000, 9.07, 1002, 'Berlin', 9051.89620758483),\n",
       " (58000, 19.93, 3306, 'München', 6028.43315184513),\n",
       " (57000, 15.18, 2952, 'Köln', 5142.276422764227),\n",
       " (19000, 7.98, 723, 'Berlin', 11037.34439834025),\n",
       " (23000, 12.08, 760, 'München', 15894.73684210526),\n",
       " (26000, 9.63, 1241, 'Köln', 7759.871071716358),\n",
       " (96000, 23.05, 3168, 'München', 7275.883838383838),\n",
       " (250000, 28.24, 5741, 'Köln', 4919.00365789932),\n",
       " (45000, 17.71, 1873, 'München', 9455.419113721302),\n",
       " (3000, 6.62, 114, 'Berlin', 58070.17543859649),\n",
       " (116000, 21.03, 3707, 'Berlin', 5673.050984623685),\n",
       " (80000, 17.13, 3165, 'Köln', 5412.322274881517),\n",
       " (62000, 16.15, 1799, 'München', 8977.209560867148),\n",
       " (85000, 11.9, 647, 'München', 18392.58114374034),\n",
       " (20000, 8.97, 396, 'Berlin', 22651.51515151515),\n",
       " (61000, 7.75, 1346, 'Köln', 5757.800891530461),\n",
       " (142000, 30.14, 5427, 'München', 5553.712916896997),\n",
       " (156000, 17.67, 3085, 'Köln', 5727.71474878444),\n",
       " (39000, 13.98, 1594, 'Berlin', 8770.38895859473),\n",
       " (163000, 19.13, 3619, 'Köln', 5285.990605139541),\n",
       " (128000, 16.51, 1127, 'München', 14649.51197870453),\n",
       " (71000, 18.09, 2985, 'Berlin', 6060.301507537689),\n",
       " (67000, 20.95, 2770, 'München', 7563.176895306859),\n",
       " (7000, 9.25, 242, 'Berlin', 38223.14049586777),\n",
       " (250000, 26.66, 5519, 'Köln', 4830.58525095126),\n",
       " (69000, 13.97, 3062, 'Köln', 4562.377531025473),\n",
       " (120000, 22.87, 4681, 'Köln', 4885.70818201239),\n",
       " (34000, 18.3, 2501, 'München', 7317.073170731707),\n",
       " (25000, 11.21, 1690, 'Berlin', 6633.136094674556),\n",
       " (89000, 27.96, 4494, 'München', 6221.628838451268),\n",
       " (176000, 20.54, 2671, 'München', 7690.003743916136),\n",
       " (250000, 35.35, 5549, 'München', 6370.517210308164),\n",
       " (103000, 7.65, 1275, 'Köln', 6000.0),\n",
       " (56000, 14.56, 2218, 'Köln', 6564.472497745717),\n",
       " (76000, 18.78, 2186, 'München', 8591.033851784081),\n",
       " (7000, 4.16, 380, 'Köln', 10947.36842105263),\n",
       " (33000, 16.04, 1505, 'München', 10657.8073089701),\n",
       " (121000, 27.27, 4151, 'München', 6569.501324981932),\n",
       " (44000, 13.09, 1781, 'Berlin', 7349.803481190343),\n",
       " (250000, 31.79, 5607, 'Berlin', 5669.698591046906),\n",
       " (125000, 28.49, 5643, 'Köln', 5048.732943469786),\n",
       " (125000, 21.27, 3309, 'Berlin', 6427.92384406165),\n",
       " (48000, 17.86, 3302, 'Berlin', 5408.843125378558),\n",
       " (95000, 17.35, 3429, 'Köln', 5059.784193642461),\n",
       " (250000, 15.44, 2584, 'Köln', 5975.232198142415),\n",
       " (135000, 16.94, 3224, 'Köln', 5254.342431761786),\n",
       " (44000, 6.3, 788, 'Köln', 7994.923857868021),\n",
       " (192000, 23.82, 3708, 'Berlin', 6423.948220064725),\n",
       " (63000, 8.9, 1489, 'Köln', 5977.165883143049),\n",
       " (87000, 14.69, 2244, 'Köln', 6546.345811051693),\n",
       " (11000, 4.8, 179, 'Köln', 26815.64245810056),\n",
       " (121000, 13.21, 2220, 'Köln', 5950.45045045045),\n",
       " (104000, 19.87, 3374, 'Berlin', 5889.152341434499),\n",
       " (227000, 12.98, 1696, 'Berlin', 7653.301886792453),\n",
       " (250000, 12.73, 2115, 'Köln', 6018.912529550827),\n",
       " (250000, 19.6, 3558, 'Köln', 5508.712759977516),\n",
       " (35000, 7.91, 1021, 'Köln', 7747.306562193928),\n",
       " (187000, 24.9, 4008, 'Berlin', 6212.574850299401),\n",
       " (8000, 5.65, 267, 'Köln', 21161.04868913858),\n",
       " (250000, 29.45, 5256, 'Berlin', 5603.120243531203),\n",
       " (232000, 15.28, 2337, 'Köln', 6538.296961916988),\n",
       " (8000, 6.19, 449, 'Köln', 13786.19153674833),\n",
       " (213000, 23.86, 4763, 'Köln', 5009.44782699979),\n",
       " (159000, 21.4, 3078, 'Berlin', 6952.566601689408),\n",
       " (45000, 10.5, 1775, 'Köln', 5915.492957746479),\n",
       " (250000, 23.8, 4058, 'Köln', 5864.958107442089),\n",
       " (32000, 12.86, 1668, 'Berlin', 7709.832134292566),\n",
       " (35000, 15.8, 2281, 'Berlin', 6926.786497150372),\n",
       " (90000, 17.09, 2297, 'Berlin', 7440.139312146278)]"
      ]
     },
     "execution_count": 33,
     "metadata": {},
     "output_type": "execute_result"
    }
   ],
   "execution_count": 33
  },
  {
   "cell_type": "markdown",
   "metadata": {},
   "source": [
    "Auch hier können wir natürlich mit konkreteren Select-Befehlen arbeiten"
   ]
  },
  {
   "cell_type": "code",
   "metadata": {
    "ExecuteTime": {
     "end_time": "2025-01-03T10:03:00.934020Z",
     "start_time": "2025-01-03T10:03:00.921189Z"
    }
   },
   "source": [
    "cursor.execute(\"\"\"\n",
    "               SELECT *\n",
    "               FROM hotels\n",
    "               WHERE Stadt = 'Köln';\"\"\")\n",
    "\n",
    "cursor.fetchall()"
   ],
   "outputs": [
    {
     "data": {
      "text/plain": [
       "[(250000, 16.09, 2574, 'Köln', 6250.971250971251),\n",
       " (54000, 11.65, 1989, 'Köln', 5857.214680744092),\n",
       " (125000, 18.45, 3358, 'Köln', 5494.34187016081),\n",
       " (102000, 14.16, 2700, 'Köln', 5244.444444444444),\n",
       " (74000, 8.0, 1581, 'Köln', 5060.088551549652),\n",
       " (134000, 15.54, 2412, 'Köln', 6442.786069651741),\n",
       " (14000, 6.09, 769, 'Köln', 7919.375812743823),\n",
       " (250000, 6.73, 525, 'Köln', 12819.04761904762),\n",
       " (88000, 13.58, 2644, 'Köln', 5136.157337367625),\n",
       " (156000, 19.1, 3631, 'Köln', 5260.25888185073),\n",
       " (17000, 7.87, 859, 'Köln', 9161.816065192084),\n",
       " (136000, 22.98, 4908, 'Köln', 4682.151589242054),\n",
       " (129000, 14.15, 2545, 'Köln', 5559.92141453831),\n",
       " (137000, 18.12, 3478, 'Köln', 5209.890741805635),\n",
       " (156000, 24.78, 5099, 'Köln', 4859.776426750343),\n",
       " (21000, 8.69, 1215, 'Köln', 7152.263374485597),\n",
       " (72000, 13.76, 2375, 'Köln', 5793.684210526316),\n",
       " (101000, 11.87, 2101, 'Köln', 5649.690623512613),\n",
       " (250000, 24.21, 4832, 'Köln', 5010.347682119205),\n",
       " (57000, 13.0, 2458, 'Köln', 5288.852725793328),\n",
       " (83000, 19.6, 3366, 'Köln', 5822.93523469994),\n",
       " (29000, 10.94, 1625, 'Köln', 6732.307692307692),\n",
       " (64000, 13.86, 1993, 'Köln', 6954.340190667335),\n",
       " (250000, 16.39, 2583, 'Köln', 6345.334881920247),\n",
       " (250000, 20.64, 3876, 'Köln', 5325.077399380805),\n",
       " (250000, 20.86, 3849, 'Köln', 5419.589503767213),\n",
       " (75000, 20.14, 4082, 'Köln', 4933.855952964233),\n",
       " (125000, 20.27, 3910, 'Köln', 5184.143222506394),\n",
       " (250000, 10.41, 1355, 'Köln', 7682.656826568265),\n",
       " (91000, 16.38, 2847, 'Köln', 5753.424657534246),\n",
       " (57000, 15.18, 2952, 'Köln', 5142.276422764227),\n",
       " (26000, 9.63, 1241, 'Köln', 7759.871071716358),\n",
       " (250000, 28.24, 5741, 'Köln', 4919.00365789932),\n",
       " (80000, 17.13, 3165, 'Köln', 5412.322274881517),\n",
       " (61000, 7.75, 1346, 'Köln', 5757.800891530461),\n",
       " (156000, 17.67, 3085, 'Köln', 5727.71474878444),\n",
       " (163000, 19.13, 3619, 'Köln', 5285.990605139541),\n",
       " (250000, 26.66, 5519, 'Köln', 4830.58525095126),\n",
       " (69000, 13.97, 3062, 'Köln', 4562.377531025473),\n",
       " (120000, 22.87, 4681, 'Köln', 4885.70818201239),\n",
       " (103000, 7.65, 1275, 'Köln', 6000.0),\n",
       " (56000, 14.56, 2218, 'Köln', 6564.472497745717),\n",
       " (7000, 4.16, 380, 'Köln', 10947.36842105263),\n",
       " (125000, 28.49, 5643, 'Köln', 5048.732943469786),\n",
       " (95000, 17.35, 3429, 'Köln', 5059.784193642461),\n",
       " (250000, 15.44, 2584, 'Köln', 5975.232198142415),\n",
       " (135000, 16.94, 3224, 'Köln', 5254.342431761786),\n",
       " (44000, 6.3, 788, 'Köln', 7994.923857868021),\n",
       " (63000, 8.9, 1489, 'Köln', 5977.165883143049),\n",
       " (87000, 14.69, 2244, 'Köln', 6546.345811051693),\n",
       " (11000, 4.8, 179, 'Köln', 26815.64245810056),\n",
       " (121000, 13.21, 2220, 'Köln', 5950.45045045045),\n",
       " (250000, 12.73, 2115, 'Köln', 6018.912529550827),\n",
       " (250000, 19.6, 3558, 'Köln', 5508.712759977516),\n",
       " (35000, 7.91, 1021, 'Köln', 7747.306562193928),\n",
       " (8000, 5.65, 267, 'Köln', 21161.04868913858),\n",
       " (232000, 15.28, 2337, 'Köln', 6538.296961916988),\n",
       " (8000, 6.19, 449, 'Köln', 13786.19153674833),\n",
       " (213000, 23.86, 4763, 'Köln', 5009.44782699979),\n",
       " (45000, 10.5, 1775, 'Köln', 5915.492957746479),\n",
       " (250000, 23.8, 4058, 'Köln', 5864.958107442089)]"
      ]
     },
     "execution_count": 34,
     "metadata": {},
     "output_type": "execute_result"
    }
   ],
   "execution_count": 34
  },
  {
   "cell_type": "code",
   "metadata": {
    "ExecuteTime": {
     "end_time": "2025-01-03T10:08:44.749206Z",
     "start_time": "2025-01-03T10:08:44.743868Z"
    }
   },
   "source": [
    "# Schließen der Verbindung\n",
    "cursor.close()\n",
    "connection.close()"
   ],
   "outputs": [],
   "execution_count": 35
  }
 ],
 "metadata": {
  "kernelspec": {
   "display_name": "kurs6",
   "language": "python",
   "name": "python3"
  },
  "language_info": {
   "codemirror_mode": {
    "name": "ipython",
    "version": 3
   },
   "file_extension": ".py",
   "mimetype": "text/x-python",
   "name": "python",
   "nbconvert_exporter": "python",
   "pygments_lexer": "ipython3",
   "version": "3.11.5"
  }
 },
 "nbformat": 4,
 "nbformat_minor": 2
}
