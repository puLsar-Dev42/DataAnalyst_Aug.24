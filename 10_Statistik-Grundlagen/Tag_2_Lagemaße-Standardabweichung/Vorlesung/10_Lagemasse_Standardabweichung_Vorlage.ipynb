{
 "cells": [
  {
   "cell_type": "code",
   "id": "initial_id",
   "metadata": {
    "collapsed": true,
    "ExecuteTime": {
     "end_time": "2025-02-05T09:45:10.087348Z",
     "start_time": "2025-02-05T09:45:09.615971Z"
    }
   },
   "source": [
    "import statistics\n",
    "import pandas as pd\n",
    "from collections import Counter\n",
    "from math import floor, ceil"
   ],
   "outputs": [],
   "execution_count": 1
  },
  {
   "metadata": {},
   "cell_type": "markdown",
   "source": [
    "### Mittelwert\n",
    "#### Der Mittelwert ist die Summe der Datenreihe geteilt durch die Anzahl der Werte.\n",
    "$$\n",
    "\\bar{x} = \\frac{1}{n} \\sum_{i=1}^{n} x_i\n",
    "$$\n",
    "\n",
    "Keine Angst vor solchen Gebilden! Die Formel sagt eigentlich nur, dass genau das getan wird: Summe bilden und diese \n",
    "Summe durch n teilen."
   ],
   "id": "9441b126f4595a8b"
  },
  {
   "metadata": {
    "ExecuteTime": {
     "end_time": "2025-02-05T09:45:19.391174Z",
     "start_time": "2025-02-05T09:45:19.386092Z"
    }
   },
   "cell_type": "code",
   "source": "data = [6, 1, 1, 5, 3, 1]",
   "id": "b23b72d253af256c",
   "outputs": [],
   "execution_count": 2
  },
  {
   "metadata": {
    "ExecuteTime": {
     "end_time": "2025-02-05T09:45:21.399504Z",
     "start_time": "2025-02-05T09:45:21.388725Z"
    }
   },
   "cell_type": "code",
   "source": [
    "# Mittelwert: Summe aller Werte einer Reihe geteilt durch die Anzahl der Werte:\n",
    "mean = sum(data) / len(data)\n",
    "mean"
   ],
   "id": "f5e6ea494bd72921",
   "outputs": [
    {
     "data": {
      "text/plain": [
       "2.8333333333333335"
      ]
     },
     "execution_count": 3,
     "metadata": {},
     "output_type": "execute_result"
    }
   ],
   "execution_count": 3
  },
  {
   "metadata": {
    "ExecuteTime": {
     "end_time": "2025-02-05T09:45:22.530071Z",
     "start_time": "2025-02-05T09:45:22.519920Z"
    }
   },
   "cell_type": "code",
   "source": [
    "data_series = pd.Series(data, name='data')\n",
    "data_series"
   ],
   "id": "9a2bb03905fdc5ae",
   "outputs": [
    {
     "data": {
      "text/plain": [
       "0    6\n",
       "1    1\n",
       "2    1\n",
       "3    5\n",
       "4    3\n",
       "5    1\n",
       "Name: data, dtype: int64"
      ]
     },
     "execution_count": 4,
     "metadata": {},
     "output_type": "execute_result"
    }
   ],
   "execution_count": 4
  },
  {
   "metadata": {
    "ExecuteTime": {
     "end_time": "2025-02-05T09:45:25.607089Z",
     "start_time": "2025-02-05T09:45:25.601227Z"
    }
   },
   "cell_type": "code",
   "source": [
    "# Series und Dataframe haben die mean-Methode: \n",
    "data_series.mean()"
   ],
   "id": "f03fccf2629226e6",
   "outputs": [
    {
     "data": {
      "text/plain": [
       "np.float64(2.8333333333333335)"
      ]
     },
     "execution_count": 5,
     "metadata": {},
     "output_type": "execute_result"
    }
   ],
   "execution_count": 5
  },
  {
   "metadata": {
    "ExecuteTime": {
     "end_time": "2025-02-05T09:45:29.569472Z",
     "start_time": "2025-02-05T09:45:29.562095Z"
    }
   },
   "cell_type": "code",
   "source": [
    "# Bsp. 1: Unterschiedliche Datenreihen – gleicher Mittelwert:\n",
    "x = [-3, -2, -1, 0, 1, 2, 3]\n",
    "y = [-100, -100, 100, 100]\n",
    "z = [-300, 10, 20, 30, 40, 200]"
   ],
   "id": "7abeff5a2cc90b7f",
   "outputs": [],
   "execution_count": 6
  },
  {
   "metadata": {
    "ExecuteTime": {
     "end_time": "2025-02-05T09:45:36.910938Z",
     "start_time": "2025-02-05T09:45:36.902901Z"
    }
   },
   "cell_type": "code",
   "source": "sum(x) / len(x)",
   "id": "43cbc0d065bd9ee2",
   "outputs": [
    {
     "data": {
      "text/plain": [
       "0.0"
      ]
     },
     "execution_count": 7,
     "metadata": {},
     "output_type": "execute_result"
    }
   ],
   "execution_count": 7
  },
  {
   "metadata": {
    "ExecuteTime": {
     "end_time": "2025-02-05T09:45:38.237427Z",
     "start_time": "2025-02-05T09:45:38.229806Z"
    }
   },
   "cell_type": "code",
   "source": "sum(y) / len(y)",
   "id": "ba76ce80b30193be",
   "outputs": [
    {
     "data": {
      "text/plain": [
       "0.0"
      ]
     },
     "execution_count": 8,
     "metadata": {},
     "output_type": "execute_result"
    }
   ],
   "execution_count": 8
  },
  {
   "metadata": {
    "ExecuteTime": {
     "end_time": "2025-02-05T09:45:39.902797Z",
     "start_time": "2025-02-05T09:45:39.894004Z"
    }
   },
   "cell_type": "code",
   "source": "sum(z) / len(z)",
   "id": "d00b65d96da20b1b",
   "outputs": [
    {
     "data": {
      "text/plain": [
       "0.0"
      ]
     },
     "execution_count": 9,
     "metadata": {},
     "output_type": "execute_result"
    }
   ],
   "execution_count": 9
  },
  {
   "metadata": {
    "ExecuteTime": {
     "end_time": "2025-02-05T09:46:56.947862Z",
     "start_time": "2025-02-05T09:46:56.942261Z"
    }
   },
   "cell_type": "code",
   "source": [
    "def calculate_mean(data_list: list) -> float:\n",
    "\treturn sum(data_list) / len(data_list)"
   ],
   "id": "fac6629c4cc40b87",
   "outputs": [],
   "execution_count": 10
  },
  {
   "metadata": {
    "ExecuteTime": {
     "end_time": "2025-02-05T09:50:50.568783Z",
     "start_time": "2025-02-05T09:50:50.561253Z"
    }
   },
   "cell_type": "code",
   "source": "calculate_mean(data)",
   "id": "6e586cad067b52c9",
   "outputs": [
    {
     "data": {
      "text/plain": [
       "2.8333333333333335"
      ]
     },
     "execution_count": 12,
     "metadata": {},
     "output_type": "execute_result"
    }
   ],
   "execution_count": 12
  },
  {
   "metadata": {
    "ExecuteTime": {
     "end_time": "2025-02-05T09:54:41.119093Z",
     "start_time": "2025-02-05T09:54:41.110044Z"
    }
   },
   "cell_type": "code",
   "source": [
    "# Natürlich auch in Pandas am Start:\n",
    "data_series = pd.Series(data, name='data')\n",
    "data_series.mean()"
   ],
   "id": "cea706e016bbae30",
   "outputs": [
    {
     "data": {
      "text/plain": [
       "np.float64(2.8333333333333335)"
      ]
     },
     "execution_count": 14,
     "metadata": {},
     "output_type": "execute_result"
    }
   ],
   "execution_count": 14
  },
  {
   "metadata": {},
   "cell_type": "markdown",
   "source": [
    "### Modus\n",
    "Der Modus bezeichnet das am häufigsten vorkommende Element in einer Datenreihe"
   ],
   "id": "1a234c86ae74fd4b"
  },
  {
   "metadata": {
    "ExecuteTime": {
     "end_time": "2025-02-05T09:54:45.561680Z",
     "start_time": "2025-02-05T09:54:45.555634Z"
    }
   },
   "cell_type": "code",
   "source": "data = [6, 1, 1, 5, 3, 1]",
   "id": "db86fd5a794b6e23",
   "outputs": [],
   "execution_count": 15
  },
  {
   "metadata": {
    "ExecuteTime": {
     "end_time": "2025-02-05T09:54:47.582029Z",
     "start_time": "2025-02-05T09:54:47.575010Z"
    }
   },
   "cell_type": "code",
   "source": [
    "num_counter = Counter(data)\n",
    "num_counter"
   ],
   "id": "176e94a4ee2a2f70",
   "outputs": [
    {
     "data": {
      "text/plain": [
       "Counter({1: 3, 6: 1, 5: 1, 3: 1})"
      ]
     },
     "execution_count": 16,
     "metadata": {},
     "output_type": "execute_result"
    }
   ],
   "execution_count": 16
  },
  {
   "metadata": {
    "ExecuteTime": {
     "end_time": "2025-02-05T09:55:12.501229Z",
     "start_time": "2025-02-05T09:55:12.494998Z"
    }
   },
   "cell_type": "code",
   "source": [
    "modus = num_counter.most_common()[0]\n",
    "num, n_times = modus\n",
    "print(f'Modus ist die Zahl {num}, die {n_times}-mal vorkommt.')"
   ],
   "id": "275a3131c12f71bb",
   "outputs": [
    {
     "name": "stdout",
     "output_type": "stream",
     "text": [
      "Modus ist die Zahl 1, die 3-mal vorkommt.\n"
     ]
    }
   ],
   "execution_count": 17
  },
  {
   "metadata": {
    "ExecuteTime": {
     "end_time": "2025-02-05T09:55:17.716287Z",
     "start_time": "2025-02-05T09:55:17.711435Z"
    }
   },
   "cell_type": "code",
   "source": [
    "def determine_mode(data_list: list) -> tuple:\n",
    "\tcounter = Counter(data_list)\n",
    "\tmost_common = counter.most_common()[0]\n",
    "\treturn most_common"
   ],
   "id": "7a23bdeadac9d929",
   "outputs": [],
   "execution_count": 18
  },
  {
   "metadata": {
    "ExecuteTime": {
     "end_time": "2025-02-05T09:56:24.277302Z",
     "start_time": "2025-02-05T09:56:24.272286Z"
    }
   },
   "cell_type": "code",
   "source": [
    "# Test:\n",
    "new_data = [1, 5, 3, 7, 4, 3, 3, 3, 3]"
   ],
   "id": "4c40e348a7e8a1d",
   "outputs": [],
   "execution_count": 20
  },
  {
   "metadata": {
    "ExecuteTime": {
     "end_time": "2025-02-05T10:14:57.596996Z",
     "start_time": "2025-02-05T10:14:57.589903Z"
    }
   },
   "cell_type": "code",
   "source": "determine_mode(new_data)",
   "id": "aa11df3c42be7267",
   "outputs": [
    {
     "data": {
      "text/plain": [
       "(3, 5)"
      ]
     },
     "execution_count": 22,
     "metadata": {},
     "output_type": "execute_result"
    }
   ],
   "execution_count": 22
  },
  {
   "metadata": {
    "ExecuteTime": {
     "end_time": "2025-02-05T10:15:00.942409Z",
     "start_time": "2025-02-05T10:15:00.938586Z"
    }
   },
   "cell_type": "code",
   "source": [
    "# Modus ist nicht nur bei numerischen Daten sinnvoll:\n",
    "names_list = ['Anna', 'Hendrik', 'Thomas', 'Julia', 'Anna', 'Hannah',\n",
    "\t\t\t  'Matthias', 'Alexa', 'Anna', 'Julia']"
   ],
   "id": "912e78e427126c44",
   "outputs": [],
   "execution_count": 23
  },
  {
   "metadata": {
    "ExecuteTime": {
     "end_time": "2025-02-05T10:15:03.271203Z",
     "start_time": "2025-02-05T10:15:03.263842Z"
    }
   },
   "cell_type": "code",
   "source": "determine_mode(names_list)",
   "id": "21a31175961bd467",
   "outputs": [
    {
     "data": {
      "text/plain": [
       "('Anna', 3)"
      ]
     },
     "execution_count": 24,
     "metadata": {},
     "output_type": "execute_result"
    }
   ],
   "execution_count": 24
  },
  {
   "metadata": {
    "ExecuteTime": {
     "end_time": "2025-02-05T10:15:05.059670Z",
     "start_time": "2025-02-05T10:15:05.052299Z"
    }
   },
   "cell_type": "code",
   "source": [
    "# Oder einfach Modus aus statistics benutzen:\n",
    "statistics.mode(data)"
   ],
   "id": "ad6255885378b9e7",
   "outputs": [
    {
     "data": {
      "text/plain": [
       "1"
      ]
     },
     "execution_count": 25,
     "metadata": {},
     "output_type": "execute_result"
    }
   ],
   "execution_count": 25
  },
  {
   "metadata": {
    "ExecuteTime": {
     "end_time": "2025-02-05T10:15:08.288885Z",
     "start_time": "2025-02-05T10:15:08.282617Z"
    }
   },
   "cell_type": "code",
   "source": "statistics.mode(new_data)",
   "id": "c46edd336d21c1ce",
   "outputs": [
    {
     "data": {
      "text/plain": [
       "3"
      ]
     },
     "execution_count": 26,
     "metadata": {},
     "output_type": "execute_result"
    }
   ],
   "execution_count": 26
  },
  {
   "metadata": {
    "ExecuteTime": {
     "end_time": "2025-02-05T10:15:10.807225Z",
     "start_time": "2025-02-05T10:15:10.800563Z"
    }
   },
   "cell_type": "code",
   "source": "statistics.mode(names_list)",
   "id": "b4ce35e5c4a0d52f",
   "outputs": [
    {
     "data": {
      "text/plain": [
       "'Anna'"
      ]
     },
     "execution_count": 27,
     "metadata": {},
     "output_type": "execute_result"
    }
   ],
   "execution_count": 27
  },
  {
   "metadata": {
    "ExecuteTime": {
     "end_time": "2025-02-05T10:15:26.114763Z",
     "start_time": "2025-02-05T10:15:26.103985Z"
    }
   },
   "cell_type": "code",
   "source": [
    "# Auch in Pandas am Start:\n",
    "data_series = pd.Series(data, name='data')\n",
    "data_series.mode()"
   ],
   "id": "891b62f067d7db1a",
   "outputs": [
    {
     "data": {
      "text/plain": [
       "0    1\n",
       "Name: data, dtype: int64"
      ]
     },
     "execution_count": 28,
     "metadata": {},
     "output_type": "execute_result"
    }
   ],
   "execution_count": 28
  },
  {
   "metadata": {
    "ExecuteTime": {
     "end_time": "2025-02-05T10:15:29.561508Z",
     "start_time": "2025-02-05T10:15:29.555993Z"
    }
   },
   "cell_type": "code",
   "source": [
    "# Was passiert, wenn es ZWEI (oder mehr Werte) gibt, die am häufigsten vorkommen?\n",
    "bimodal_data = [1, 2, 2, 2, 3, 4, 4, 4, 5, 6]"
   ],
   "id": "5dc83067f93b2962",
   "outputs": [],
   "execution_count": 29
  },
  {
   "metadata": {
    "ExecuteTime": {
     "end_time": "2025-02-05T10:15:34.678073Z",
     "start_time": "2025-02-05T10:15:34.670872Z"
    }
   },
   "cell_type": "code",
   "source": [
    "# Unsere Funktion ist auf diesen Fall nicht vorbereitet und müsste überarbeitet werden!\n",
    "determine_mode(bimodal_data)"
   ],
   "id": "73ec33c89b2fd794",
   "outputs": [
    {
     "data": {
      "text/plain": [
       "(2, 3)"
      ]
     },
     "execution_count": 30,
     "metadata": {},
     "output_type": "execute_result"
    }
   ],
   "execution_count": 30
  },
  {
   "metadata": {
    "ExecuteTime": {
     "end_time": "2025-02-05T10:15:37.785925Z",
     "start_time": "2025-02-05T10:15:37.779904Z"
    }
   },
   "cell_type": "code",
   "source": [
    "# Mode gibt nur den \"ersten Modus\" zurück:\n",
    "statistics.mode(bimodal_data)"
   ],
   "id": "a1309dbd8c473734",
   "outputs": [
    {
     "data": {
      "text/plain": [
       "2"
      ]
     },
     "execution_count": 31,
     "metadata": {},
     "output_type": "execute_result"
    }
   ],
   "execution_count": 31
  },
  {
   "metadata": {
    "ExecuteTime": {
     "end_time": "2025-02-05T10:15:40.394605Z",
     "start_time": "2025-02-05T10:15:40.387988Z"
    }
   },
   "cell_type": "code",
   "source": [
    "# Aber die Funktion multimode rettet uns aus dem Schlamassel:\n",
    "statistics.multimode(bimodal_data)"
   ],
   "id": "26b76a6fe25a7f73",
   "outputs": [
    {
     "data": {
      "text/plain": [
       "[2, 4]"
      ]
     },
     "execution_count": 32,
     "metadata": {},
     "output_type": "execute_result"
    }
   ],
   "execution_count": 32
  },
  {
   "metadata": {
    "ExecuteTime": {
     "end_time": "2025-02-05T10:15:50.825873Z",
     "start_time": "2025-02-05T10:15:50.815654Z"
    }
   },
   "cell_type": "code",
   "source": [
    "# Auch Pandas ist intelligent genug für solche Verteilungen:\n",
    "b_data_series = pd.Series(bimodal_data, name='b_data')\n",
    "b_data_series.mode()"
   ],
   "id": "e5412fede0bdec72",
   "outputs": [
    {
     "data": {
      "text/plain": [
       "0    2\n",
       "1    4\n",
       "Name: b_data, dtype: int64"
      ]
     },
     "execution_count": 33,
     "metadata": {},
     "output_type": "execute_result"
    }
   ],
   "execution_count": 33
  },
  {
   "metadata": {},
   "cell_type": "markdown",
   "source": [
    "### Median\n",
    "Der Median ist das Element, das eine nach Größe <b>geordnete</b> Datenreihe in \n",
    "genau zwei gleiche Teile teilt. \n",
    "Findet sich ein solches Element nicht, dann bildet man meistens den Mittelwert der zwei Elemente in der Mitte der Datenreihe. "
   ],
   "id": "525414f66d361968"
  },
  {
   "metadata": {
    "ExecuteTime": {
     "end_time": "2025-02-05T10:16:30.973577Z",
     "start_time": "2025-02-05T10:16:30.968572Z"
    }
   },
   "cell_type": "code",
   "source": [
    "# Datenreihe mit ungerader Anzahl Elemente:\n",
    "uneven = [6, 1, 1, 5, 3, 1, 2]"
   ],
   "id": "f6ca61adcab56a31",
   "outputs": [],
   "execution_count": 34
  },
  {
   "metadata": {
    "ExecuteTime": {
     "end_time": "2025-02-05T10:16:33.201915Z",
     "start_time": "2025-02-05T10:16:33.196981Z"
    }
   },
   "cell_type": "code",
   "source": [
    "# Erstmal sortieren\n",
    "sorted_uneven = sorted(uneven)\n",
    "sorted_uneven"
   ],
   "id": "a870dac838c2d271",
   "outputs": [
    {
     "data": {
      "text/plain": [
       "[1, 1, 1, 2, 3, 5, 6]"
      ]
     },
     "execution_count": 35,
     "metadata": {},
     "output_type": "execute_result"
    }
   ],
   "execution_count": 35
  },
  {
   "metadata": {
    "ExecuteTime": {
     "end_time": "2025-02-05T10:16:35.254250Z",
     "start_time": "2025-02-05T10:16:35.247897Z"
    }
   },
   "cell_type": "code",
   "source": "len(sorted_uneven)",
   "id": "23804c702b529157",
   "outputs": [
    {
     "data": {
      "text/plain": [
       "7"
      ]
     },
     "execution_count": 36,
     "metadata": {},
     "output_type": "execute_result"
    }
   ],
   "execution_count": 36
  },
  {
   "metadata": {
    "ExecuteTime": {
     "end_time": "2025-02-05T10:27:50.839733Z",
     "start_time": "2025-02-05T10:27:50.831199Z"
    }
   },
   "cell_type": "code",
   "source": [
    "middle_index = int((len(sorted_uneven) - 1) / 2)\n",
    "middle_index"
   ],
   "id": "fa8d42d731c41a7d",
   "outputs": [
    {
     "data": {
      "text/plain": [
       "3"
      ]
     },
     "execution_count": 49,
     "metadata": {},
     "output_type": "execute_result"
    }
   ],
   "execution_count": 49
  },
  {
   "metadata": {
    "ExecuteTime": {
     "end_time": "2025-02-05T10:28:07.433004Z",
     "start_time": "2025-02-05T10:28:07.425002Z"
    }
   },
   "cell_type": "code",
   "source": [
    "median_uneven = sorted_uneven[middle_index]\n",
    "median_uneven"
   ],
   "id": "78d2e8f2506738a",
   "outputs": [
    {
     "data": {
      "text/plain": [
       "2"
      ]
     },
     "execution_count": 51,
     "metadata": {},
     "output_type": "execute_result"
    }
   ],
   "execution_count": 51
  },
  {
   "metadata": {
    "ExecuteTime": {
     "end_time": "2025-02-05T10:16:41.367044Z",
     "start_time": "2025-02-05T10:16:41.363579Z"
    }
   },
   "cell_type": "code",
   "source": [
    "# Datenreihe mit gerader Anzahl Elemente:\n",
    "even = [6, 1, 1, 5, 3, 1]"
   ],
   "id": "3f02d778eb48f483",
   "outputs": [],
   "execution_count": 39
  },
  {
   "metadata": {
    "ExecuteTime": {
     "end_time": "2025-02-05T10:16:43.438587Z",
     "start_time": "2025-02-05T10:16:43.430873Z"
    }
   },
   "cell_type": "code",
   "source": [
    "sorted_even = sorted(even)\n",
    "sorted_even"
   ],
   "id": "ee1072171e333895",
   "outputs": [
    {
     "data": {
      "text/plain": [
       "[1, 1, 1, 3, 5, 6]"
      ]
     },
     "execution_count": 40,
     "metadata": {},
     "output_type": "execute_result"
    }
   ],
   "execution_count": 40
  },
  {
   "metadata": {
    "ExecuteTime": {
     "end_time": "2025-02-05T10:30:02.933684Z",
     "start_time": "2025-02-05T10:30:02.926679Z"
    }
   },
   "cell_type": "code",
   "source": "len(sorted_even)",
   "id": "9c878a6644586c7d",
   "outputs": [
    {
     "data": {
      "text/plain": [
       "6"
      ]
     },
     "execution_count": 52,
     "metadata": {},
     "output_type": "execute_result"
    }
   ],
   "execution_count": 52
  },
  {
   "metadata": {
    "ExecuteTime": {
     "end_time": "2025-02-05T10:31:46.008578Z",
     "start_time": "2025-02-05T10:31:46.000778Z"
    }
   },
   "cell_type": "code",
   "source": [
    "# index zwischen 2 und 3:\n",
    "middle_position = (len(sorted_even) - 1) / 2\n",
    "middle_position"
   ],
   "id": "58d4232cc0492d79",
   "outputs": [
    {
     "data": {
      "text/plain": [
       "2.5"
      ]
     },
     "execution_count": 55,
     "metadata": {},
     "output_type": "execute_result"
    }
   ],
   "execution_count": 55
  },
  {
   "metadata": {
    "ExecuteTime": {
     "end_time": "2024-04-10T06:59:26.894067Z",
     "start_time": "2024-04-10T06:59:26.887609Z"
    }
   },
   "cell_type": "code",
   "source": [
    "# Mit floor und ceil aus dem Modul math kann man von einem Wert aus abrunden (floor, Boden)\n",
    "# oder aufrunden (ceil, Decke) und zwar unabhängig davon, ob der Wert eigentlich mathematisch \n",
    "# auf- oder abgerundet werden muss."
   ],
   "id": "4275c5c159a691c0",
   "outputs": [],
   "execution_count": 41
  },
  {
   "metadata": {
    "ExecuteTime": {
     "end_time": "2025-02-05T10:35:02.555638Z",
     "start_time": "2025-02-05T10:35:02.549129Z"
    }
   },
   "cell_type": "code",
   "source": [
    "untermedian_index = floor(middle_position)\n",
    "untermedian_index"
   ],
   "id": "d428ceda746542c9",
   "outputs": [
    {
     "data": {
      "text/plain": [
       "2"
      ]
     },
     "execution_count": 61,
     "metadata": {},
     "output_type": "execute_result"
    }
   ],
   "execution_count": 61
  },
  {
   "metadata": {
    "ExecuteTime": {
     "end_time": "2025-02-05T10:35:03.810057Z",
     "start_time": "2025-02-05T10:35:03.804221Z"
    }
   },
   "cell_type": "code",
   "source": [
    "obermedian_index = ceil(middle_position)\n",
    "obermedian_index"
   ],
   "id": "7abb5790b6876804",
   "outputs": [
    {
     "data": {
      "text/plain": [
       "3"
      ]
     },
     "execution_count": 62,
     "metadata": {},
     "output_type": "execute_result"
    }
   ],
   "execution_count": 62
  },
  {
   "metadata": {
    "ExecuteTime": {
     "end_time": "2025-02-05T10:35:05.161711Z",
     "start_time": "2025-02-05T10:35:05.155142Z"
    }
   },
   "cell_type": "code",
   "source": [
    "median_even = (sorted_even[untermedian_index] + sorted_even[obermedian_index]) / 2\n",
    "median_even"
   ],
   "id": "12fe55c26a39380d",
   "outputs": [
    {
     "data": {
      "text/plain": [
       "2.0"
      ]
     },
     "execution_count": 63,
     "metadata": {},
     "output_type": "execute_result"
    }
   ],
   "execution_count": 63
  },
  {
   "metadata": {
    "ExecuteTime": {
     "end_time": "2025-02-05T10:32:44.078147Z",
     "start_time": "2025-02-05T10:32:44.070847Z"
    }
   },
   "cell_type": "code",
   "source": "sorted_even",
   "id": "5b3b06928a79655f",
   "outputs": [
    {
     "data": {
      "text/plain": [
       "[1, 1, 1, 3, 5, 6]"
      ]
     },
     "execution_count": 59,
     "metadata": {},
     "output_type": "execute_result"
    }
   ],
   "execution_count": 59
  },
  {
   "metadata": {
    "ExecuteTime": {
     "end_time": "2025-02-05T10:37:01.302072Z",
     "start_time": "2025-02-05T10:37:01.295041Z"
    }
   },
   "cell_type": "code",
   "source": [
    "# \"Test\":\n",
    "(1 + 3) / 2"
   ],
   "id": "29974309c5b226d",
   "outputs": [
    {
     "data": {
      "text/plain": [
       "2.0"
      ]
     },
     "execution_count": 64,
     "metadata": {},
     "output_type": "execute_result"
    }
   ],
   "execution_count": 64
  },
  {
   "metadata": {
    "ExecuteTime": {
     "end_time": "2025-02-05T10:39:23.974217Z",
     "start_time": "2025-02-05T10:39:23.967022Z"
    }
   },
   "cell_type": "code",
   "source": [
    "# Wir können die Datenreihe natürlich auch dem median aus statistics übergeben:\n",
    "statistics.median(even)"
   ],
   "id": "2a578c8bd32e3e92",
   "outputs": [
    {
     "data": {
      "text/plain": [
       "2.0"
      ]
     },
     "execution_count": 70,
     "metadata": {},
     "output_type": "execute_result"
    }
   ],
   "execution_count": 70
  },
  {
   "metadata": {
    "ExecuteTime": {
     "end_time": "2025-02-05T10:37:34.293660Z",
     "start_time": "2025-02-05T10:37:34.284261Z"
    }
   },
   "cell_type": "code",
   "source": "statistics.median(uneven)",
   "id": "973bed4d8f1eb0ad",
   "outputs": [
    {
     "data": {
      "text/plain": [
       "2"
      ]
     },
     "execution_count": 66,
     "metadata": {},
     "output_type": "execute_result"
    }
   ],
   "execution_count": 66
  },
  {
   "metadata": {},
   "cell_type": "markdown",
   "source": [
    "### Quantile\n",
    "Quantile erweitern die Idee des Medians. Hier gibt es nicht nur einen Wert, der die <b>geordnete</b> Datenreihe in zwei Teile teilt, sondern so viele Werte, die die Daten teilen, wie das Quantil es vorgibt. Bei Quartilen z.B. werden die Daten von drei Werten in vier Teile unterteilt. Bei Dezentilen sind es 9 Werte, die die Datene in insgesamt 10 Teile teilen."
   ],
   "id": "d5afd6f8776a99be"
  },
  {
   "metadata": {
    "ExecuteTime": {
     "end_time": "2025-02-05T10:19:12.762754Z",
     "start_time": "2025-02-05T10:19:12.755826Z"
    }
   },
   "cell_type": "code",
   "source": "x",
   "id": "be0e66b3e093cc4f",
   "outputs": [
    {
     "data": {
      "text/plain": [
       "[-3, -2, -1, 0, 1, 2, 3]"
      ]
     },
     "execution_count": 47,
     "metadata": {},
     "output_type": "execute_result"
    }
   ],
   "execution_count": 47
  },
  {
   "metadata": {
    "ExecuteTime": {
     "end_time": "2025-02-05T10:19:20.257790Z",
     "start_time": "2025-02-05T10:19:20.251722Z"
    }
   },
   "cell_type": "code",
   "source": [
    "# In zwei Teile gibt einfach den Median:\n",
    "statistics.quantiles(x, n=2)"
   ],
   "id": "664d16cf253d24ca",
   "outputs": [
    {
     "data": {
      "text/plain": [
       "[0.0]"
      ]
     },
     "execution_count": 48,
     "metadata": {},
     "output_type": "execute_result"
    }
   ],
   "execution_count": 48
  },
  {
   "metadata": {
    "ExecuteTime": {
     "end_time": "2025-02-05T10:48:40.632975Z",
     "start_time": "2025-02-05T10:48:40.624533Z"
    }
   },
   "cell_type": "code",
   "source": [
    "# Diese Werte teilen die Daten in vier Teile ein:\n",
    "statistics.quantiles(x, n=4)"
   ],
   "id": "647fcc26c7da505c",
   "outputs": [
    {
     "data": {
      "text/plain": [
       "[-2.0, 0.0, 2.0]"
      ]
     },
     "execution_count": 76,
     "metadata": {},
     "output_type": "execute_result"
    }
   ],
   "execution_count": 76
  },
  {
   "metadata": {},
   "cell_type": "markdown",
   "source": [
    "### Standardabweichung\n",
    "Stellt ein Maß dar, das beschreibt, wie stark Daten um einen Mittelwert herum streuen."
   ],
   "id": "a69cba8453af43eb"
  },
  {
   "metadata": {},
   "cell_type": "markdown",
   "source": "### statistics",
   "id": "7f4e179e174bbbb8"
  },
  {
   "metadata": {
    "ExecuteTime": {
     "end_time": "2025-02-05T10:48:44.916619Z",
     "start_time": "2025-02-05T10:48:44.912113Z"
    }
   },
   "cell_type": "code",
   "source": [
    "data1 = [49, 50, 52, 56, 43, 50]\n",
    "data2 = [1, 50, 20, 80, 99, 50]"
   ],
   "id": "616454774480939b",
   "outputs": [],
   "execution_count": 77
  },
  {
   "metadata": {
    "ExecuteTime": {
     "end_time": "2025-02-05T10:48:47.946205Z",
     "start_time": "2025-02-05T10:48:47.939045Z"
    }
   },
   "cell_type": "code",
   "source": "calculate_mean(data1)",
   "id": "5b92aafeb2307706",
   "outputs": [
    {
     "data": {
      "text/plain": [
       "50.0"
      ]
     },
     "execution_count": 78,
     "metadata": {},
     "output_type": "execute_result"
    }
   ],
   "execution_count": 78
  },
  {
   "metadata": {
    "ExecuteTime": {
     "end_time": "2025-02-05T10:48:50.472764Z",
     "start_time": "2025-02-05T10:48:50.467937Z"
    }
   },
   "cell_type": "code",
   "source": "calculate_mean(data2)",
   "id": "516cabb51021046f",
   "outputs": [
    {
     "data": {
      "text/plain": [
       "50.0"
      ]
     },
     "execution_count": 79,
     "metadata": {},
     "output_type": "execute_result"
    }
   ],
   "execution_count": 79
  },
  {
   "metadata": {},
   "cell_type": "code",
   "outputs": [],
   "execution_count": null,
   "source": [
    "# Beide Datenreihen haben denselben Mittelwert, aber die Werte von data1 liegen\n",
    "# deutlich enger um diesen Mittelwert verteilt vor. data2 dagegen ist viel verstreuter\n",
    "# Das Maß der Standardabweichung gibt uns an, wie stark die Streuung von Daten ist!"
   ],
   "id": "225a22e60b1f9491"
  },
  {
   "metadata": {
    "ExecuteTime": {
     "end_time": "2025-02-05T10:49:37.058058Z",
     "start_time": "2025-02-05T10:49:37.047899Z"
    }
   },
   "cell_type": "code",
   "source": [
    "# stdev => standard diviation => Standardabweichung\n",
    "statistics.stdev(data1)"
   ],
   "id": "43e1e61a1b0574a7",
   "outputs": [
    {
     "data": {
      "text/plain": [
       "4.242640687119285"
      ]
     },
     "execution_count": 80,
     "metadata": {},
     "output_type": "execute_result"
    }
   ],
   "execution_count": 80
  },
  {
   "metadata": {
    "ExecuteTime": {
     "end_time": "2025-02-05T10:51:57.426470Z",
     "start_time": "2025-02-05T10:51:57.417359Z"
    }
   },
   "cell_type": "code",
   "source": "statistics.stdev(data2)",
   "id": "d4b3f196ffc1d9d8",
   "outputs": [
    {
     "data": {
      "text/plain": [
       "36.33730865102698"
      ]
     },
     "execution_count": 81,
     "metadata": {},
     "output_type": "execute_result"
    }
   ],
   "execution_count": 81
  },
  {
   "metadata": {},
   "cell_type": "code",
   "outputs": [],
   "execution_count": null,
   "source": [
    "# Je höher die Standardabweichung, desto stärker streuen die Daten.\n",
    "# Eine Standardabweichung von 0 dagegen bedeutet, dass die Daten überhaupt nicht\n",
    "# streuen, sondern alle auf dem Mittelwert liegen."
   ],
   "id": "fac4c21ba0f6ceff"
  },
  {
   "metadata": {
    "ExecuteTime": {
     "end_time": "2025-02-05T10:54:11.474843Z",
     "start_time": "2025-02-05T10:54:11.466429Z"
    }
   },
   "cell_type": "code",
   "source": [
    "data3 = [1, 1, 1, 99, 99, 99]\n",
    "calculate_mean(data3)"
   ],
   "id": "7e0ce0d781a17b66",
   "outputs": [
    {
     "data": {
      "text/plain": [
       "50.0"
      ]
     },
     "execution_count": 82,
     "metadata": {},
     "output_type": "execute_result"
    }
   ],
   "execution_count": 82
  },
  {
   "metadata": {
    "ExecuteTime": {
     "end_time": "2025-02-05T10:54:12.959710Z",
     "start_time": "2025-02-05T10:54:12.950636Z"
    }
   },
   "cell_type": "code",
   "source": [
    "data4 = [50, 50, 50, 50, 50, 50]\n",
    "calculate_mean(data4)"
   ],
   "id": "8ffa6287c52a7a",
   "outputs": [
    {
     "data": {
      "text/plain": [
       "50.0"
      ]
     },
     "execution_count": 83,
     "metadata": {},
     "output_type": "execute_result"
    }
   ],
   "execution_count": 83
  },
  {
   "metadata": {
    "ExecuteTime": {
     "end_time": "2025-02-05T10:54:15.287708Z",
     "start_time": "2025-02-05T10:54:15.280278Z"
    }
   },
   "cell_type": "code",
   "source": "statistics.stdev(data3)",
   "id": "2299444add858872",
   "outputs": [
    {
     "data": {
      "text/plain": [
       "53.67681063550628"
      ]
     },
     "execution_count": 84,
     "metadata": {},
     "output_type": "execute_result"
    }
   ],
   "execution_count": 84
  },
  {
   "metadata": {
    "ExecuteTime": {
     "end_time": "2025-02-05T10:54:17.878892Z",
     "start_time": "2025-02-05T10:54:17.870729Z"
    }
   },
   "cell_type": "code",
   "source": [
    "# Hier kommt die prophezeite 0 heraus:\n",
    "statistics.stdev(data4)"
   ],
   "id": "3a2d1c40bda341d3",
   "outputs": [
    {
     "data": {
      "text/plain": [
       "0.0"
      ]
     },
     "execution_count": 85,
     "metadata": {},
     "output_type": "execute_result"
    }
   ],
   "execution_count": 85
  },
  {
   "metadata": {},
   "cell_type": "markdown",
   "source": "### PANDAS",
   "id": "ca99024141cd3d53"
  },
  {
   "metadata": {
    "ExecuteTime": {
     "end_time": "2025-02-05T10:54:27.218991Z",
     "start_time": "2025-02-05T10:54:27.210034Z"
    }
   },
   "cell_type": "code",
   "source": [
    "# Natürlich auch bei Pandas an Bord:\n",
    "data3_ser = pd.Series(data3, name='data3')\n",
    "data3_ser.std()"
   ],
   "id": "db9c5b4feaf82d32",
   "outputs": [
    {
     "data": {
      "text/plain": [
       "np.float64(53.67681063550628)"
      ]
     },
     "execution_count": 86,
     "metadata": {},
     "output_type": "execute_result"
    }
   ],
   "execution_count": 86
  },
  {
   "metadata": {
    "ExecuteTime": {
     "end_time": "2025-02-05T10:54:34.917100Z",
     "start_time": "2025-02-05T10:54:34.908174Z"
    }
   },
   "cell_type": "code",
   "source": [
    "data4_ser = pd.Series(data4, name='data4')\n",
    "data4_ser.std()"
   ],
   "id": "344a9c36f5ef7b3a",
   "outputs": [
    {
     "data": {
      "text/plain": [
       "np.float64(0.0)"
      ]
     },
     "execution_count": 87,
     "metadata": {},
     "output_type": "execute_result"
    }
   ],
   "execution_count": 87
  },
  {
   "metadata": {
    "ExecuteTime": {
     "end_time": "2025-02-05T11:02:20.939028Z",
     "start_time": "2025-02-05T11:02:20.930847Z"
    }
   },
   "cell_type": "code",
   "source": [
    "# Machen wir uns zum Schluss einen Dataframe:\n",
    "data_frame = pd.DataFrame(dict(data1=data1, data2=data2, data3=data3, data4=data4))\n",
    "data_frame"
   ],
   "id": "a7d18d624939bb4b",
   "outputs": [
    {
     "data": {
      "text/plain": [
       "   data1  data2  data3  data4\n",
       "0     49      1      1     50\n",
       "1     50     50      1     50\n",
       "2     52     20      1     50\n",
       "3     56     80     99     50\n",
       "4     43     99     99     50\n",
       "5     50     50     99     50"
      ],
      "text/html": [
       "<div>\n",
       "<style scoped>\n",
       "    .dataframe tbody tr th:only-of-type {\n",
       "        vertical-align: middle;\n",
       "    }\n",
       "\n",
       "    .dataframe tbody tr th {\n",
       "        vertical-align: top;\n",
       "    }\n",
       "\n",
       "    .dataframe thead th {\n",
       "        text-align: right;\n",
       "    }\n",
       "</style>\n",
       "<table border=\"1\" class=\"dataframe\">\n",
       "  <thead>\n",
       "    <tr style=\"text-align: right;\">\n",
       "      <th></th>\n",
       "      <th>data1</th>\n",
       "      <th>data2</th>\n",
       "      <th>data3</th>\n",
       "      <th>data4</th>\n",
       "    </tr>\n",
       "  </thead>\n",
       "  <tbody>\n",
       "    <tr>\n",
       "      <th>0</th>\n",
       "      <td>49</td>\n",
       "      <td>1</td>\n",
       "      <td>1</td>\n",
       "      <td>50</td>\n",
       "    </tr>\n",
       "    <tr>\n",
       "      <th>1</th>\n",
       "      <td>50</td>\n",
       "      <td>50</td>\n",
       "      <td>1</td>\n",
       "      <td>50</td>\n",
       "    </tr>\n",
       "    <tr>\n",
       "      <th>2</th>\n",
       "      <td>52</td>\n",
       "      <td>20</td>\n",
       "      <td>1</td>\n",
       "      <td>50</td>\n",
       "    </tr>\n",
       "    <tr>\n",
       "      <th>3</th>\n",
       "      <td>56</td>\n",
       "      <td>80</td>\n",
       "      <td>99</td>\n",
       "      <td>50</td>\n",
       "    </tr>\n",
       "    <tr>\n",
       "      <th>4</th>\n",
       "      <td>43</td>\n",
       "      <td>99</td>\n",
       "      <td>99</td>\n",
       "      <td>50</td>\n",
       "    </tr>\n",
       "    <tr>\n",
       "      <th>5</th>\n",
       "      <td>50</td>\n",
       "      <td>50</td>\n",
       "      <td>99</td>\n",
       "      <td>50</td>\n",
       "    </tr>\n",
       "  </tbody>\n",
       "</table>\n",
       "</div>"
      ]
     },
     "execution_count": 91,
     "metadata": {},
     "output_type": "execute_result"
    }
   ],
   "execution_count": 91
  },
  {
   "metadata": {
    "ExecuteTime": {
     "end_time": "2025-02-05T11:13:19.662802Z",
     "start_time": "2025-02-05T11:13:19.643591Z"
    }
   },
   "cell_type": "code",
   "source": [
    "# Was sagt uns dieser Output nach allem, was wir gelernt haben?\n",
    "data_frame.describe()  # => .drop(\"50%\")"
   ],
   "id": "9b8b59a06c8608c4",
   "outputs": [
    {
     "data": {
      "text/plain": [
       "           data1      data2      data3  data4\n",
       "count   6.000000   6.000000   6.000000    6.0\n",
       "mean   50.000000  50.000000  50.000000   50.0\n",
       "std     4.242641  36.337309  53.676811    0.0\n",
       "min    43.000000   1.000000   1.000000   50.0\n",
       "25%    49.250000  27.500000   1.000000   50.0\n",
       "50%    50.000000  50.000000  50.000000   50.0\n",
       "75%    51.500000  72.500000  99.000000   50.0\n",
       "max    56.000000  99.000000  99.000000   50.0"
      ],
      "text/html": [
       "<div>\n",
       "<style scoped>\n",
       "    .dataframe tbody tr th:only-of-type {\n",
       "        vertical-align: middle;\n",
       "    }\n",
       "\n",
       "    .dataframe tbody tr th {\n",
       "        vertical-align: top;\n",
       "    }\n",
       "\n",
       "    .dataframe thead th {\n",
       "        text-align: right;\n",
       "    }\n",
       "</style>\n",
       "<table border=\"1\" class=\"dataframe\">\n",
       "  <thead>\n",
       "    <tr style=\"text-align: right;\">\n",
       "      <th></th>\n",
       "      <th>data1</th>\n",
       "      <th>data2</th>\n",
       "      <th>data3</th>\n",
       "      <th>data4</th>\n",
       "    </tr>\n",
       "  </thead>\n",
       "  <tbody>\n",
       "    <tr>\n",
       "      <th>count</th>\n",
       "      <td>6.000000</td>\n",
       "      <td>6.000000</td>\n",
       "      <td>6.000000</td>\n",
       "      <td>6.0</td>\n",
       "    </tr>\n",
       "    <tr>\n",
       "      <th>mean</th>\n",
       "      <td>50.000000</td>\n",
       "      <td>50.000000</td>\n",
       "      <td>50.000000</td>\n",
       "      <td>50.0</td>\n",
       "    </tr>\n",
       "    <tr>\n",
       "      <th>std</th>\n",
       "      <td>4.242641</td>\n",
       "      <td>36.337309</td>\n",
       "      <td>53.676811</td>\n",
       "      <td>0.0</td>\n",
       "    </tr>\n",
       "    <tr>\n",
       "      <th>min</th>\n",
       "      <td>43.000000</td>\n",
       "      <td>1.000000</td>\n",
       "      <td>1.000000</td>\n",
       "      <td>50.0</td>\n",
       "    </tr>\n",
       "    <tr>\n",
       "      <th>25%</th>\n",
       "      <td>49.250000</td>\n",
       "      <td>27.500000</td>\n",
       "      <td>1.000000</td>\n",
       "      <td>50.0</td>\n",
       "    </tr>\n",
       "    <tr>\n",
       "      <th>50%</th>\n",
       "      <td>50.000000</td>\n",
       "      <td>50.000000</td>\n",
       "      <td>50.000000</td>\n",
       "      <td>50.0</td>\n",
       "    </tr>\n",
       "    <tr>\n",
       "      <th>75%</th>\n",
       "      <td>51.500000</td>\n",
       "      <td>72.500000</td>\n",
       "      <td>99.000000</td>\n",
       "      <td>50.0</td>\n",
       "    </tr>\n",
       "    <tr>\n",
       "      <th>max</th>\n",
       "      <td>56.000000</td>\n",
       "      <td>99.000000</td>\n",
       "      <td>99.000000</td>\n",
       "      <td>50.0</td>\n",
       "    </tr>\n",
       "  </tbody>\n",
       "</table>\n",
       "</div>"
      ]
     },
     "execution_count": 94,
     "metadata": {},
     "output_type": "execute_result"
    }
   ],
   "execution_count": 94
  }
 ],
 "metadata": {
  "kernelspec": {
   "display_name": "Python 3",
   "language": "python",
   "name": "python3"
  },
  "language_info": {
   "codemirror_mode": {
    "name": "ipython",
    "version": 2
   },
   "file_extension": ".py",
   "mimetype": "text/x-python",
   "name": "python",
   "nbconvert_exporter": "python",
   "pygments_lexer": "ipython2",
   "version": "2.7.6"
  }
 },
 "nbformat": 4,
 "nbformat_minor": 5
}
