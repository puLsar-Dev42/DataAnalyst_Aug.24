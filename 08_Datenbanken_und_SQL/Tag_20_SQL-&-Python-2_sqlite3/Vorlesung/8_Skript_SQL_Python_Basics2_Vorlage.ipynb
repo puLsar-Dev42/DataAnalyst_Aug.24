{
 "cells": [
  {
   "cell_type": "markdown",
   "metadata": {},
   "source": [
    "# Python & SQLite – Teil 2"
   ]
  },
  {
   "cell_type": "code",
   "metadata": {
    "ExecuteTime": {
     "end_time": "2025-01-07T10:04:17.662914Z",
     "start_time": "2025-01-07T10:04:16.743279Z"
    }
   },
   "source": [
    "import sqlite3\n",
    "import pandas as pd"
   ],
   "outputs": [],
   "execution_count": 1
  },
  {
   "cell_type": "code",
   "metadata": {
    "ExecuteTime": {
     "end_time": "2025-01-07T10:04:22.048887Z",
     "start_time": "2025-01-07T10:04:22.039948Z"
    }
   },
   "source": [
    "# Verbindung zur Datenbank herstellen\n",
    "database_path = r'C:\\Users\\Admin\\OneDrive\\Dokumente\\DataCraft\\DataAnalyst_Aug.24\\08_Datenbanken_und_SQL\\databases\\wohnungen.db'\n",
    "connection = sqlite3.connect(database_path)"
   ],
   "outputs": [],
   "execution_count": 2
  },
  {
   "cell_type": "code",
   "metadata": {
    "ExecuteTime": {
     "end_time": "2025-01-07T10:04:23.909272Z",
     "start_time": "2025-01-07T10:04:23.904761Z"
    }
   },
   "source": [
    "# Cursor erstellen\n",
    "cursor = connection.cursor()"
   ],
   "outputs": [],
   "execution_count": 3
  },
  {
   "cell_type": "code",
   "metadata": {
    "ExecuteTime": {
     "end_time": "2025-01-07T10:04:25.759655Z",
     "start_time": "2025-01-07T10:04:25.748444Z"
    }
   },
   "source": [
    "# Verbindung testen\n",
    "cursor.execute('SELECT * FROM hotels;')"
   ],
   "outputs": [
    {
     "data": {
      "text/plain": [
       "<sqlite3.Cursor at 0x2a7466b2c40>"
      ]
     },
     "execution_count": 4,
     "metadata": {},
     "output_type": "execute_result"
    }
   ],
   "execution_count": 4
  },
  {
   "cell_type": "code",
   "metadata": {
    "ExecuteTime": {
     "end_time": "2025-01-07T10:04:27.223327Z",
     "start_time": "2025-01-07T10:04:27.215913Z"
    }
   },
   "source": [
    "# Das Ergebnis von fetchall() ist eine Liste\n",
    "result = cursor.fetchall()"
   ],
   "outputs": [],
   "execution_count": 5
  },
  {
   "cell_type": "code",
   "source": [
    "result"
   ],
   "metadata": {
    "collapsed": false,
    "ExecuteTime": {
     "end_time": "2025-01-07T10:04:29.178624Z",
     "start_time": "2025-01-07T10:04:29.166043Z"
    }
   },
   "outputs": [
    {
     "data": {
      "text/plain": [
       "[(119000, 21.88, 3938, 'Berlin', 5556.119857795836),\n",
       " (250000, 27.95, 3986, 'München', 7012.042147516308),\n",
       " (250000, 16.09, 2574, 'Köln', 6250.971250971251),\n",
       " (145000, 27.58, 4155, 'München', 6637.785800240674),\n",
       " (110000, 23.76, 3795, 'Berlin', 6260.869565217391),\n",
       " (246000, 22.88, 2773, 'München', 8250.991705733863),\n",
       " (54000, 13.25, 634, 'München', 20899.05362776025),\n",
       " (2000, 8.94, 82, 'München', 109024.3902439024),\n",
       " (114000, 24.87, 3706, 'München', 6710.739341608203),\n",
       " (47000, 14.11, 1692, 'Berlin', 8339.243498817967),\n",
       " (54000, 11.65, 1989, 'Köln', 5857.214680744092),\n",
       " (124000, 17.26, 2616, 'Berlin', 6597.859327217126),\n",
       " (125000, 18.45, 3358, 'Köln', 5494.34187016081),\n",
       " (62000, 17.08, 1941, 'München', 8799.587841318908),\n",
       " (250000, 19.32, 1831, 'München', 10551.61114145276),\n",
       " (24000, 8.48, 800, 'Berlin', 10600.0),\n",
       " (102000, 14.16, 2700, 'Köln', 5244.444444444444),\n",
       " (26000, 13.84, 1257, 'München', 11010.34208432777),\n",
       " (85000, 19.59, 2644, 'Berlin', 7409.228441754917),\n",
       " (182000, 18.64, 2001, 'München', 9315.342328835583),\n",
       " (74000, 8.0, 1581, 'Köln', 5060.088551549652),\n",
       " (5000, 7.84, 82, 'München', 95609.75609756098),\n",
       " (134000, 15.54, 2412, 'Köln', 6442.786069651741),\n",
       " (14000, 6.09, 769, 'Köln', 7919.375812743823),\n",
       " (84000, 22.4, 3815, 'Berlin', 5871.559633027523),\n",
       " (124000, 23.44, 3122, 'München', 7508.007687379884),\n",
       " (32000, 17.75, 1492, 'München', 11896.78284182306),\n",
       " (250000, 6.73, 525, 'Köln', 12819.04761904762),\n",
       " (53000, 14.22, 1217, 'München', 11684.47000821693),\n",
       " (32000, 17.22, 1497, 'München', 11503.00601202405),\n",
       " (63000, 17.97, 3101, 'Berlin', 5794.904869396969),\n",
       " (88000, 13.58, 2644, 'Köln', 5136.157337367625),\n",
       " (156000, 19.1, 3631, 'Köln', 5260.25888185073),\n",
       " (138000, 13.09, 1461, 'Berlin', 8959.616700889801),\n",
       " (37000, 15.93, 1492, 'München', 10676.9436997319),\n",
       " (86000, 19.37, 2408, 'München', 8044.019933554818),\n",
       " (17000, 7.87, 859, 'Köln', 9161.816065192084),\n",
       " (23000, 9.76, 703, 'Berlin', 13883.35704125178),\n",
       " (136000, 22.98, 4908, 'Köln', 4682.151589242054),\n",
       " (129000, 14.15, 2545, 'Köln', 5559.92141453831),\n",
       " (34000, 13.77, 1847, 'Berlin', 7455.332972387656),\n",
       " (18000, 7.77, 502, 'Berlin', 15478.08764940239),\n",
       " (137000, 18.12, 3478, 'Köln', 5209.890741805635),\n",
       " (73000, 9.88, 756, 'Berlin', 13068.78306878307),\n",
       " (156000, 24.78, 5099, 'Köln', 4859.776426750343),\n",
       " (21000, 8.69, 1215, 'Köln', 7152.263374485597),\n",
       " (91000, 19.76, 3107, 'Berlin', 6359.832635983264),\n",
       " (72000, 13.76, 2375, 'Köln', 5793.684210526316),\n",
       " (101000, 11.87, 2101, 'Köln', 5649.690623512613),\n",
       " (250000, 24.21, 4832, 'Köln', 5010.347682119205),\n",
       " (57000, 13.0, 2458, 'Köln', 5288.852725793328),\n",
       " (83000, 23.6, 4561, 'Berlin', 5174.303880727911),\n",
       " (87000, 24.43, 4044, 'Berlin', 6041.04846686449),\n",
       " (141000, 21.93, 3896, 'Berlin', 5628.850102669405),\n",
       " (99000, 21.26, 2630, 'München', 8083.650190114068),\n",
       " (250000, 20.43, 3249, 'Berlin', 6288.08864265928),\n",
       " (99000, 14.97, 2409, 'Berlin', 6214.196762141968),\n",
       " (113000, 22.62, 2618, 'München', 8640.1833460657),\n",
       " (83000, 19.6, 3366, 'Köln', 5822.93523469994),\n",
       " (29000, 10.94, 1625, 'Köln', 6732.307692307692),\n",
       " (68000, 22.3, 3149, 'München', 7081.61321054303),\n",
       " (121000, 22.99, 3944, 'Berlin', 5829.107505070994),\n",
       " (71000, 16.32, 3162, 'Berlin', 5161.290322580645),\n",
       " (64000, 13.86, 1993, 'Köln', 6954.340190667335),\n",
       " (250000, 16.39, 2583, 'Köln', 6345.334881920247),\n",
       " (97000, 16.55, 2301, 'Berlin', 7192.524989135159),\n",
       " (4000, 6.95, 171, 'Berlin', 40643.27485380117),\n",
       " (250000, 20.64, 3876, 'Köln', 5325.077399380805),\n",
       " (13000, 12.1, 304, 'München', 39802.63157894737),\n",
       " (250000, 20.86, 3849, 'Köln', 5419.589503767213),\n",
       " (66000, 22.42, 2795, 'München', 8021.466905187835),\n",
       " (250000, 32.78, 5702, 'München', 5748.860049105577),\n",
       " (75000, 20.14, 4082, 'Köln', 4933.855952964233),\n",
       " (125000, 20.27, 3910, 'Köln', 5184.143222506394),\n",
       " (126000, 24.49, 4565, 'Berlin', 5364.731653888281),\n",
       " (250000, 27.94, 4436, 'München', 6298.467087466186),\n",
       " (250000, 10.41, 1355, 'Köln', 7682.656826568265),\n",
       " (64000, 14.9, 2220, 'Berlin', 6711.711711711711),\n",
       " (97000, 24.81, 3674, 'München', 6752.857920522591),\n",
       " (91000, 16.38, 2847, 'Köln', 5753.424657534246),\n",
       " (124000, 26.31, 5201, 'Berlin', 5058.642568736781),\n",
       " (25000, 9.07, 1002, 'Berlin', 9051.89620758483),\n",
       " (58000, 19.93, 3306, 'München', 6028.43315184513),\n",
       " (57000, 15.18, 2952, 'Köln', 5142.276422764227),\n",
       " (19000, 7.98, 723, 'Berlin', 11037.34439834025),\n",
       " (23000, 12.08, 760, 'München', 15894.73684210526),\n",
       " (26000, 9.63, 1241, 'Köln', 7759.871071716358),\n",
       " (96000, 23.05, 3168, 'München', 7275.883838383838),\n",
       " (250000, 28.24, 5741, 'Köln', 4919.00365789932),\n",
       " (45000, 17.71, 1873, 'München', 9455.419113721302),\n",
       " (3000, 6.62, 114, 'Berlin', 58070.17543859649),\n",
       " (116000, 21.03, 3707, 'Berlin', 5673.050984623685),\n",
       " (80000, 17.13, 3165, 'Köln', 5412.322274881517),\n",
       " (62000, 16.15, 1799, 'München', 8977.209560867148),\n",
       " (85000, 11.9, 647, 'München', 18392.58114374034),\n",
       " (20000, 8.97, 396, 'Berlin', 22651.51515151515),\n",
       " (61000, 7.75, 1346, 'Köln', 5757.800891530461),\n",
       " (142000, 30.14, 5427, 'München', 5553.712916896997),\n",
       " (156000, 17.67, 3085, 'Köln', 5727.71474878444),\n",
       " (39000, 13.98, 1594, 'Berlin', 8770.38895859473),\n",
       " (163000, 19.13, 3619, 'Köln', 5285.990605139541),\n",
       " (128000, 16.51, 1127, 'München', 14649.51197870453),\n",
       " (71000, 18.09, 2985, 'Berlin', 6060.301507537689),\n",
       " (67000, 20.95, 2770, 'München', 7563.176895306859),\n",
       " (7000, 9.25, 242, 'Berlin', 38223.14049586777),\n",
       " (250000, 26.66, 5519, 'Köln', 4830.58525095126),\n",
       " (69000, 13.97, 3062, 'Köln', 4562.377531025473),\n",
       " (120000, 22.87, 4681, 'Köln', 4885.70818201239),\n",
       " (34000, 18.3, 2501, 'München', 7317.073170731707),\n",
       " (25000, 11.21, 1690, 'Berlin', 6633.136094674556),\n",
       " (89000, 27.96, 4494, 'München', 6221.628838451268),\n",
       " (176000, 20.54, 2671, 'München', 7690.003743916136),\n",
       " (250000, 35.35, 5549, 'München', 6370.517210308164),\n",
       " (103000, 7.65, 1275, 'Köln', 6000.0),\n",
       " (56000, 14.56, 2218, 'Köln', 6564.472497745717),\n",
       " (76000, 18.78, 2186, 'München', 8591.033851784081),\n",
       " (7000, 4.16, 380, 'Köln', 10947.36842105263),\n",
       " (33000, 16.04, 1505, 'München', 10657.8073089701),\n",
       " (121000, 27.27, 4151, 'München', 6569.501324981932),\n",
       " (44000, 13.09, 1781, 'Berlin', 7349.803481190343),\n",
       " (250000, 31.79, 5607, 'Berlin', 5669.698591046906),\n",
       " (125000, 28.49, 5643, 'Köln', 5048.732943469786),\n",
       " (125000, 21.27, 3309, 'Berlin', 6427.92384406165),\n",
       " (48000, 17.86, 3302, 'Berlin', 5408.843125378558),\n",
       " (95000, 17.35, 3429, 'Köln', 5059.784193642461),\n",
       " (250000, 15.44, 2584, 'Köln', 5975.232198142415),\n",
       " (135000, 16.94, 3224, 'Köln', 5254.342431761786),\n",
       " (44000, 6.3, 788, 'Köln', 7994.923857868021),\n",
       " (192000, 23.82, 3708, 'Berlin', 6423.948220064725),\n",
       " (63000, 8.9, 1489, 'Köln', 5977.165883143049),\n",
       " (87000, 14.69, 2244, 'Köln', 6546.345811051693),\n",
       " (11000, 4.8, 179, 'Köln', 26815.64245810056),\n",
       " (121000, 13.21, 2220, 'Köln', 5950.45045045045),\n",
       " (104000, 19.87, 3374, 'Berlin', 5889.152341434499),\n",
       " (227000, 12.98, 1696, 'Berlin', 7653.301886792453),\n",
       " (250000, 12.73, 2115, 'Köln', 6018.912529550827),\n",
       " (250000, 19.6, 3558, 'Köln', 5508.712759977516),\n",
       " (35000, 7.91, 1021, 'Köln', 7747.306562193928),\n",
       " (187000, 24.9, 4008, 'Berlin', 6212.574850299401),\n",
       " (8000, 5.65, 267, 'Köln', 21161.04868913858),\n",
       " (250000, 29.45, 5256, 'Berlin', 5603.120243531203),\n",
       " (232000, 15.28, 2337, 'Köln', 6538.296961916988),\n",
       " (8000, 6.19, 449, 'Köln', 13786.19153674833),\n",
       " (213000, 23.86, 4763, 'Köln', 5009.44782699979),\n",
       " (159000, 21.4, 3078, 'Berlin', 6952.566601689408),\n",
       " (45000, 10.5, 1775, 'Köln', 5915.492957746479),\n",
       " (250000, 23.8, 4058, 'Köln', 5864.958107442089),\n",
       " (32000, 12.86, 1668, 'Berlin', 7709.832134292566),\n",
       " (35000, 15.8, 2281, 'Berlin', 6926.786497150372),\n",
       " (90000, 17.09, 2297, 'Berlin', 7440.139312146278),\n",
       " (12000, 15.5, 222, 'Zutzenhausen', 12.2)]"
      ]
     },
     "execution_count": 6,
     "metadata": {},
     "output_type": "execute_result"
    }
   ],
   "execution_count": 6
  },
  {
   "cell_type": "code",
   "source": [
    "# Python-Wiederholung:\n",
    "# Wie greifen wir auf das dritte Element der Liste zu?\n",
    "result[2]"
   ],
   "metadata": {
    "collapsed": false,
    "ExecuteTime": {
     "end_time": "2025-01-07T10:04:32.932543Z",
     "start_time": "2025-01-07T10:04:32.925678Z"
    }
   },
   "outputs": [
    {
     "data": {
      "text/plain": [
       "(250000, 16.09, 2574, 'Köln', 6250.971250971251)"
      ]
     },
     "execution_count": 7,
     "metadata": {},
     "output_type": "execute_result"
    }
   ],
   "execution_count": 7
  },
  {
   "cell_type": "code",
   "metadata": {
    "ExecuteTime": {
     "end_time": "2025-01-07T10:04:34.601117Z",
     "start_time": "2025-01-07T10:04:34.594939Z"
    }
   },
   "source": [
    "# Python-Wiederholung:\n",
    "# Ein einzelnes Element des Ergebnisses von fetchall()\n",
    "# ist ein Tupel. Wie greifen wir auf das vierte Element\n",
    "# des dritten Tupels zu?\n",
    "result[2][3]"
   ],
   "outputs": [
    {
     "data": {
      "text/plain": [
       "'Köln'"
      ]
     },
     "execution_count": 8,
     "metadata": {},
     "output_type": "execute_result"
    }
   ],
   "execution_count": 8
  },
  {
   "metadata": {
    "ExecuteTime": {
     "end_time": "2025-01-07T09:58:00.565420Z",
     "start_time": "2025-01-07T09:58:00.561741Z"
    }
   },
   "cell_type": "code",
   "source": [
    "# Warum haben wir fetchall auf Variable result gelegt?\n",
    "# weil wenn wir es nicht auf die var packen, ist der cursor nach dem 1. fetchall() leer und kann nicht mehr verwendet werden!"
   ],
   "outputs": [],
   "execution_count": 9
  },
  {
   "metadata": {},
   "cell_type": "markdown",
   "source": "## SQL-Abfrage-Ergebnisse direkt in DataFrames speichern"
  },
  {
   "metadata": {},
   "cell_type": "markdown",
   "source": [
    "Daten aus Datenbank auslesen und in DataFrame speichern\n",
    "-> Für die Umwandlung nutzen wir `pd.read_sql`"
   ]
  },
  {
   "cell_type": "code",
   "source": [
    "help(pd.read_sql)"
   ],
   "metadata": {
    "collapsed": false,
    "ExecuteTime": {
     "end_time": "2025-01-07T09:58:02.422357Z",
     "start_time": "2025-01-07T09:58:02.416828Z"
    }
   },
   "outputs": [
    {
     "name": "stdout",
     "output_type": "stream",
     "text": [
      "Help on function read_sql in module pandas.io.sql:\n",
      "\n",
      "read_sql(sql, con, index_col: 'str | list[str] | None' = None, coerce_float: 'bool' = True, params=None, parse_dates=None, columns: 'list[str] | None' = None, chunksize: 'int | None' = None, dtype_backend: 'DtypeBackend | lib.NoDefault' = <no_default>, dtype: 'DtypeArg | None' = None) -> 'DataFrame | Iterator[DataFrame]'\n",
      "    Read SQL query or database table into a DataFrame.\n",
      "\n",
      "    This function is a convenience wrapper around ``read_sql_table`` and\n",
      "    ``read_sql_query`` (for backward compatibility). It will delegate\n",
      "    to the specific function depending on the provided input. A SQL query\n",
      "    will be routed to ``read_sql_query``, while a database table name will\n",
      "    be routed to ``read_sql_table``. Note that the delegated function might\n",
      "    have more specific notes about their functionality not listed here.\n",
      "\n",
      "    Parameters\n",
      "    ----------\n",
      "    sql : str or SQLAlchemy Selectable (select or text object)\n",
      "        SQL query to be executed or a table name.\n",
      "    con : ADBC Connection, SQLAlchemy connectable, str, or sqlite3 connection\n",
      "        ADBC provides high performance I/O with native type support, where available.\n",
      "        Using SQLAlchemy makes it possible to use any DB supported by that\n",
      "        library. If a DBAPI2 object, only sqlite3 is supported. The user is responsible\n",
      "        for engine disposal and connection closure for the ADBC connection and\n",
      "        SQLAlchemy connectable; str connections are closed automatically. See\n",
      "        `here <https://docs.sqlalchemy.org/en/20/core/connections.html>`_.\n",
      "    index_col : str or list of str, optional, default: None\n",
      "        Column(s) to set as index(MultiIndex).\n",
      "    coerce_float : bool, default True\n",
      "        Attempts to convert values of non-string, non-numeric objects (like\n",
      "        decimal.Decimal) to floating point, useful for SQL result sets.\n",
      "    params : list, tuple or dict, optional, default: None\n",
      "        List of parameters to pass to execute method.  The syntax used\n",
      "        to pass parameters is database driver dependent. Check your\n",
      "        database driver documentation for which of the five syntax styles,\n",
      "        described in PEP 249's paramstyle, is supported.\n",
      "        Eg. for psycopg2, uses %(name)s so use params={'name' : 'value'}.\n",
      "    parse_dates : list or dict, default: None\n",
      "        - List of column names to parse as dates.\n",
      "        - Dict of ``{column_name: format string}`` where format string is\n",
      "          strftime compatible in case of parsing string times, or is one of\n",
      "          (D, s, ns, ms, us) in case of parsing integer timestamps.\n",
      "        - Dict of ``{column_name: arg dict}``, where the arg dict corresponds\n",
      "          to the keyword arguments of :func:`pandas.to_datetime`\n",
      "          Especially useful with databases without native Datetime support,\n",
      "          such as SQLite.\n",
      "    columns : list, default: None\n",
      "        List of column names to select from SQL table (only used when reading\n",
      "        a table).\n",
      "    chunksize : int, default None\n",
      "        If specified, return an iterator where `chunksize` is the\n",
      "        number of rows to include in each chunk.\n",
      "    dtype_backend : {'numpy_nullable', 'pyarrow'}, default 'numpy_nullable'\n",
      "        Back-end data type applied to the resultant :class:`DataFrame`\n",
      "        (still experimental). Behaviour is as follows:\n",
      "\n",
      "        * ``\"numpy_nullable\"``: returns nullable-dtype-backed :class:`DataFrame`\n",
      "          (default).\n",
      "        * ``\"pyarrow\"``: returns pyarrow-backed nullable :class:`ArrowDtype`\n",
      "          DataFrame.\n",
      "\n",
      "        .. versionadded:: 2.0\n",
      "    dtype : Type name or dict of columns\n",
      "        Data type for data or columns. E.g. np.float64 or\n",
      "        {'a': np.float64, 'b': np.int32, 'c': 'Int64'}.\n",
      "        The argument is ignored if a table is passed instead of a query.\n",
      "\n",
      "        .. versionadded:: 2.0.0\n",
      "\n",
      "    Returns\n",
      "    -------\n",
      "    DataFrame or Iterator[DataFrame]\n",
      "\n",
      "    See Also\n",
      "    --------\n",
      "    read_sql_table : Read SQL database table into a DataFrame.\n",
      "    read_sql_query : Read SQL query into a DataFrame.\n",
      "\n",
      "    Examples\n",
      "    --------\n",
      "    Read data from SQL via either a SQL query or a SQL tablename.\n",
      "    When using a SQLite database only SQL queries are accepted,\n",
      "    providing only the SQL tablename will result in an error.\n",
      "\n",
      "    >>> from sqlite3 import connect\n",
      "    >>> conn = connect(':memory:')\n",
      "    >>> df = pd.DataFrame(data=[[0, '10/11/12'], [1, '12/11/10']],\n",
      "    ...                   columns=['int_column', 'date_column'])\n",
      "    >>> df.to_sql(name='test_data', con=conn)\n",
      "    2\n",
      "\n",
      "    >>> pd.read_sql('SELECT int_column, date_column FROM test_data', conn)\n",
      "       int_column date_column\n",
      "    0           0    10/11/12\n",
      "    1           1    12/11/10\n",
      "\n",
      "    >>> pd.read_sql('test_data', 'postgres:///db_name')  # doctest:+SKIP\n",
      "\n",
      "    Apply date parsing to columns through the ``parse_dates`` argument\n",
      "    The ``parse_dates`` argument calls ``pd.to_datetime`` on the provided columns.\n",
      "    Custom argument values for applying ``pd.to_datetime`` on a column are specified\n",
      "    via a dictionary format:\n",
      "\n",
      "    >>> pd.read_sql('SELECT int_column, date_column FROM test_data',\n",
      "    ...             conn,\n",
      "    ...             parse_dates={\"date_column\": {\"format\": \"%d/%m/%y\"}})\n",
      "       int_column date_column\n",
      "    0           0  2012-11-10\n",
      "    1           1  2010-11-12\n",
      "\n",
      "    .. versionadded:: 2.2.0\n",
      "\n",
      "       pandas now supports reading via ADBC drivers\n",
      "\n",
      "    >>> from adbc_driver_postgresql import dbapi  # doctest:+SKIP\n",
      "    >>> with dbapi.connect('postgres:///db_name') as conn:  # doctest:+SKIP\n",
      "    ...     pd.read_sql('SELECT int_column FROM test_data', conn)\n",
      "       int_column\n",
      "    0           0\n",
      "    1           1\n",
      "\n"
     ]
    }
   ],
   "execution_count": 10
  },
  {
   "cell_type": "code",
   "metadata": {
    "ExecuteTime": {
     "end_time": "2025-01-07T10:04:41.697492Z",
     "start_time": "2025-01-07T10:04:41.664836Z"
    }
   },
   "source": [
    "hotels_df = pd.read_sql('SELECT * FROM hotels;', connection)\n",
    "hotels_df.head()"
   ],
   "outputs": [
    {
     "data": {
      "text/plain": [
       "   Gewinn  Preis in Mio  Quadratmeter    Stadt  Preis pro Quadratmeter\n",
       "0  119000         21.88          3938   Berlin             5556.119858\n",
       "1  250000         27.95          3986  München             7012.042148\n",
       "2  250000         16.09          2574     Köln             6250.971251\n",
       "3  145000         27.58          4155  München             6637.785800\n",
       "4  110000         23.76          3795   Berlin             6260.869565"
      ],
      "text/html": [
       "<div>\n",
       "<style scoped>\n",
       "    .dataframe tbody tr th:only-of-type {\n",
       "        vertical-align: middle;\n",
       "    }\n",
       "\n",
       "    .dataframe tbody tr th {\n",
       "        vertical-align: top;\n",
       "    }\n",
       "\n",
       "    .dataframe thead th {\n",
       "        text-align: right;\n",
       "    }\n",
       "</style>\n",
       "<table border=\"1\" class=\"dataframe\">\n",
       "  <thead>\n",
       "    <tr style=\"text-align: right;\">\n",
       "      <th></th>\n",
       "      <th>Gewinn</th>\n",
       "      <th>Preis in Mio</th>\n",
       "      <th>Quadratmeter</th>\n",
       "      <th>Stadt</th>\n",
       "      <th>Preis pro Quadratmeter</th>\n",
       "    </tr>\n",
       "  </thead>\n",
       "  <tbody>\n",
       "    <tr>\n",
       "      <th>0</th>\n",
       "      <td>119000</td>\n",
       "      <td>21.88</td>\n",
       "      <td>3938</td>\n",
       "      <td>Berlin</td>\n",
       "      <td>5556.119858</td>\n",
       "    </tr>\n",
       "    <tr>\n",
       "      <th>1</th>\n",
       "      <td>250000</td>\n",
       "      <td>27.95</td>\n",
       "      <td>3986</td>\n",
       "      <td>München</td>\n",
       "      <td>7012.042148</td>\n",
       "    </tr>\n",
       "    <tr>\n",
       "      <th>2</th>\n",
       "      <td>250000</td>\n",
       "      <td>16.09</td>\n",
       "      <td>2574</td>\n",
       "      <td>Köln</td>\n",
       "      <td>6250.971251</td>\n",
       "    </tr>\n",
       "    <tr>\n",
       "      <th>3</th>\n",
       "      <td>145000</td>\n",
       "      <td>27.58</td>\n",
       "      <td>4155</td>\n",
       "      <td>München</td>\n",
       "      <td>6637.785800</td>\n",
       "    </tr>\n",
       "    <tr>\n",
       "      <th>4</th>\n",
       "      <td>110000</td>\n",
       "      <td>23.76</td>\n",
       "      <td>3795</td>\n",
       "      <td>Berlin</td>\n",
       "      <td>6260.869565</td>\n",
       "    </tr>\n",
       "  </tbody>\n",
       "</table>\n",
       "</div>"
      ]
     },
     "execution_count": 9,
     "metadata": {},
     "output_type": "execute_result"
    }
   ],
   "execution_count": 9
  },
  {
   "cell_type": "markdown",
   "metadata": {},
   "source": [
    "#### Das Problem mit den Leerzeichen\n",
    "\n",
    "In Python sollte man Leerzeichen (außerhalb von Strings) am besten vermeiden.\n",
    "Allerdings sollte man auch innerhalb von Datenbanken auf Leerzeichen\n",
    "verzichten, weil sie uns spätestens in Python wieder Probleme bereiten."
   ]
  },
  {
   "cell_type": "code",
   "metadata": {
    "ExecuteTime": {
     "end_time": "2025-01-07T10:04:46.757553Z",
     "start_time": "2025-01-07T10:04:46.412935Z"
    }
   },
   "source": [
    "# Alle Infos der Spalte \"Preis in Mio\" selektieren:\n",
    "df_preis = pd.read_sql('SELECT Preis in Mio FROM hotels;', connection)"
   ],
   "outputs": [
    {
     "ename": "DatabaseError",
     "evalue": "Execution failed on sql 'SELECT Preis in Mio FROM hotels;': no such table: Mio",
     "output_type": "error",
     "traceback": [
      "\u001B[1;31m---------------------------------------------------------------------------\u001B[0m",
      "\u001B[1;31mOperationalError\u001B[0m                          Traceback (most recent call last)",
      "File \u001B[1;32m~\\Python\\Lib\\site-packages\\pandas\\io\\sql.py:2674\u001B[0m, in \u001B[0;36mSQLiteDatabase.execute\u001B[1;34m(self, sql, params)\u001B[0m\n\u001B[0;32m   2673\u001B[0m \u001B[38;5;28;01mtry\u001B[39;00m:\n\u001B[1;32m-> 2674\u001B[0m     \u001B[43mcur\u001B[49m\u001B[38;5;241;43m.\u001B[39;49m\u001B[43mexecute\u001B[49m\u001B[43m(\u001B[49m\u001B[43msql\u001B[49m\u001B[43m,\u001B[49m\u001B[43m \u001B[49m\u001B[38;5;241;43m*\u001B[39;49m\u001B[43margs\u001B[49m\u001B[43m)\u001B[49m\n\u001B[0;32m   2675\u001B[0m     \u001B[38;5;28;01mreturn\u001B[39;00m cur\n",
      "\u001B[1;31mOperationalError\u001B[0m: no such table: Mio",
      "\nThe above exception was the direct cause of the following exception:\n",
      "\u001B[1;31mDatabaseError\u001B[0m                             Traceback (most recent call last)",
      "Cell \u001B[1;32mIn[10], line 2\u001B[0m\n\u001B[0;32m      1\u001B[0m \u001B[38;5;66;03m# Alle Infos der Spalte \"Preis in Mio\" selektieren:\u001B[39;00m\n\u001B[1;32m----> 2\u001B[0m df_preis \u001B[38;5;241m=\u001B[39m \u001B[43mpd\u001B[49m\u001B[38;5;241;43m.\u001B[39;49m\u001B[43mread_sql\u001B[49m\u001B[43m(\u001B[49m\u001B[38;5;124;43m'\u001B[39;49m\u001B[38;5;124;43mSELECT Preis in Mio FROM hotels;\u001B[39;49m\u001B[38;5;124;43m'\u001B[39;49m\u001B[43m,\u001B[49m\u001B[43m \u001B[49m\u001B[43mconnection\u001B[49m\u001B[43m)\u001B[49m\n",
      "File \u001B[1;32m~\\Python\\Lib\\site-packages\\pandas\\io\\sql.py:706\u001B[0m, in \u001B[0;36mread_sql\u001B[1;34m(sql, con, index_col, coerce_float, params, parse_dates, columns, chunksize, dtype_backend, dtype)\u001B[0m\n\u001B[0;32m    704\u001B[0m \u001B[38;5;28;01mwith\u001B[39;00m pandasSQL_builder(con) \u001B[38;5;28;01mas\u001B[39;00m pandas_sql:\n\u001B[0;32m    705\u001B[0m     \u001B[38;5;28;01mif\u001B[39;00m \u001B[38;5;28misinstance\u001B[39m(pandas_sql, SQLiteDatabase):\n\u001B[1;32m--> 706\u001B[0m         \u001B[38;5;28;01mreturn\u001B[39;00m \u001B[43mpandas_sql\u001B[49m\u001B[38;5;241;43m.\u001B[39;49m\u001B[43mread_query\u001B[49m\u001B[43m(\u001B[49m\n\u001B[0;32m    707\u001B[0m \u001B[43m            \u001B[49m\u001B[43msql\u001B[49m\u001B[43m,\u001B[49m\n\u001B[0;32m    708\u001B[0m \u001B[43m            \u001B[49m\u001B[43mindex_col\u001B[49m\u001B[38;5;241;43m=\u001B[39;49m\u001B[43mindex_col\u001B[49m\u001B[43m,\u001B[49m\n\u001B[0;32m    709\u001B[0m \u001B[43m            \u001B[49m\u001B[43mparams\u001B[49m\u001B[38;5;241;43m=\u001B[39;49m\u001B[43mparams\u001B[49m\u001B[43m,\u001B[49m\n\u001B[0;32m    710\u001B[0m \u001B[43m            \u001B[49m\u001B[43mcoerce_float\u001B[49m\u001B[38;5;241;43m=\u001B[39;49m\u001B[43mcoerce_float\u001B[49m\u001B[43m,\u001B[49m\n\u001B[0;32m    711\u001B[0m \u001B[43m            \u001B[49m\u001B[43mparse_dates\u001B[49m\u001B[38;5;241;43m=\u001B[39;49m\u001B[43mparse_dates\u001B[49m\u001B[43m,\u001B[49m\n\u001B[0;32m    712\u001B[0m \u001B[43m            \u001B[49m\u001B[43mchunksize\u001B[49m\u001B[38;5;241;43m=\u001B[39;49m\u001B[43mchunksize\u001B[49m\u001B[43m,\u001B[49m\n\u001B[0;32m    713\u001B[0m \u001B[43m            \u001B[49m\u001B[43mdtype_backend\u001B[49m\u001B[38;5;241;43m=\u001B[39;49m\u001B[43mdtype_backend\u001B[49m\u001B[43m,\u001B[49m\n\u001B[0;32m    714\u001B[0m \u001B[43m            \u001B[49m\u001B[43mdtype\u001B[49m\u001B[38;5;241;43m=\u001B[39;49m\u001B[43mdtype\u001B[49m\u001B[43m,\u001B[49m\n\u001B[0;32m    715\u001B[0m \u001B[43m        \u001B[49m\u001B[43m)\u001B[49m\n\u001B[0;32m    717\u001B[0m     \u001B[38;5;28;01mtry\u001B[39;00m:\n\u001B[0;32m    718\u001B[0m         _is_table_name \u001B[38;5;241m=\u001B[39m pandas_sql\u001B[38;5;241m.\u001B[39mhas_table(sql)\n",
      "File \u001B[1;32m~\\Python\\Lib\\site-packages\\pandas\\io\\sql.py:2738\u001B[0m, in \u001B[0;36mSQLiteDatabase.read_query\u001B[1;34m(self, sql, index_col, coerce_float, parse_dates, params, chunksize, dtype, dtype_backend)\u001B[0m\n\u001B[0;32m   2727\u001B[0m \u001B[38;5;28;01mdef\u001B[39;00m \u001B[38;5;21mread_query\u001B[39m(\n\u001B[0;32m   2728\u001B[0m     \u001B[38;5;28mself\u001B[39m,\n\u001B[0;32m   2729\u001B[0m     sql,\n\u001B[1;32m   (...)\u001B[0m\n\u001B[0;32m   2736\u001B[0m     dtype_backend: DtypeBackend \u001B[38;5;241m|\u001B[39m Literal[\u001B[38;5;124m\"\u001B[39m\u001B[38;5;124mnumpy\u001B[39m\u001B[38;5;124m\"\u001B[39m] \u001B[38;5;241m=\u001B[39m \u001B[38;5;124m\"\u001B[39m\u001B[38;5;124mnumpy\u001B[39m\u001B[38;5;124m\"\u001B[39m,\n\u001B[0;32m   2737\u001B[0m ) \u001B[38;5;241m-\u001B[39m\u001B[38;5;241m>\u001B[39m DataFrame \u001B[38;5;241m|\u001B[39m Iterator[DataFrame]:\n\u001B[1;32m-> 2738\u001B[0m     cursor \u001B[38;5;241m=\u001B[39m \u001B[38;5;28;43mself\u001B[39;49m\u001B[38;5;241;43m.\u001B[39;49m\u001B[43mexecute\u001B[49m\u001B[43m(\u001B[49m\u001B[43msql\u001B[49m\u001B[43m,\u001B[49m\u001B[43m \u001B[49m\u001B[43mparams\u001B[49m\u001B[43m)\u001B[49m\n\u001B[0;32m   2739\u001B[0m     columns \u001B[38;5;241m=\u001B[39m [col_desc[\u001B[38;5;241m0\u001B[39m] \u001B[38;5;28;01mfor\u001B[39;00m col_desc \u001B[38;5;129;01min\u001B[39;00m cursor\u001B[38;5;241m.\u001B[39mdescription]\n\u001B[0;32m   2741\u001B[0m     \u001B[38;5;28;01mif\u001B[39;00m chunksize \u001B[38;5;129;01mis\u001B[39;00m \u001B[38;5;129;01mnot\u001B[39;00m \u001B[38;5;28;01mNone\u001B[39;00m:\n",
      "File \u001B[1;32m~\\Python\\Lib\\site-packages\\pandas\\io\\sql.py:2686\u001B[0m, in \u001B[0;36mSQLiteDatabase.execute\u001B[1;34m(self, sql, params)\u001B[0m\n\u001B[0;32m   2683\u001B[0m     \u001B[38;5;28;01mraise\u001B[39;00m ex \u001B[38;5;28;01mfrom\u001B[39;00m \u001B[38;5;21;01minner_exc\u001B[39;00m\n\u001B[0;32m   2685\u001B[0m ex \u001B[38;5;241m=\u001B[39m DatabaseError(\u001B[38;5;124mf\u001B[39m\u001B[38;5;124m\"\u001B[39m\u001B[38;5;124mExecution failed on sql \u001B[39m\u001B[38;5;124m'\u001B[39m\u001B[38;5;132;01m{\u001B[39;00msql\u001B[38;5;132;01m}\u001B[39;00m\u001B[38;5;124m'\u001B[39m\u001B[38;5;124m: \u001B[39m\u001B[38;5;132;01m{\u001B[39;00mexc\u001B[38;5;132;01m}\u001B[39;00m\u001B[38;5;124m\"\u001B[39m)\n\u001B[1;32m-> 2686\u001B[0m \u001B[38;5;28;01mraise\u001B[39;00m ex \u001B[38;5;28;01mfrom\u001B[39;00m \u001B[38;5;21;01mexc\u001B[39;00m\n",
      "\u001B[1;31mDatabaseError\u001B[0m: Execution failed on sql 'SELECT Preis in Mio FROM hotels;': no such table: Mio"
     ]
    }
   ],
   "execution_count": 10
  },
  {
   "cell_type": "code",
   "metadata": {
    "ExecuteTime": {
     "end_time": "2025-01-07T10:04:49.173008Z",
     "start_time": "2025-01-07T10:04:49.159932Z"
    }
   },
   "source": [
    "# Der vorherige Code verursacht einen Fehler, da die Bezeichnung\n",
    "# \"Preis in Mio\" nicht als zusammengehöriger String identifiziert wird\n",
    "# Wie lösen wir das?\n",
    "df_preis = pd.read_sql('SELECT \"Preis in Mio\" FROM hotels;', connection)\n",
    "df_preis"
   ],
   "outputs": [
    {
     "data": {
      "text/plain": [
       "     Preis in Mio\n",
       "0           21.88\n",
       "1           27.95\n",
       "2           16.09\n",
       "3           27.58\n",
       "4           23.76\n",
       "..            ...\n",
       "146         23.80\n",
       "147         12.86\n",
       "148         15.80\n",
       "149         17.09\n",
       "150         15.50\n",
       "\n",
       "[151 rows x 1 columns]"
      ],
      "text/html": [
       "<div>\n",
       "<style scoped>\n",
       "    .dataframe tbody tr th:only-of-type {\n",
       "        vertical-align: middle;\n",
       "    }\n",
       "\n",
       "    .dataframe tbody tr th {\n",
       "        vertical-align: top;\n",
       "    }\n",
       "\n",
       "    .dataframe thead th {\n",
       "        text-align: right;\n",
       "    }\n",
       "</style>\n",
       "<table border=\"1\" class=\"dataframe\">\n",
       "  <thead>\n",
       "    <tr style=\"text-align: right;\">\n",
       "      <th></th>\n",
       "      <th>Preis in Mio</th>\n",
       "    </tr>\n",
       "  </thead>\n",
       "  <tbody>\n",
       "    <tr>\n",
       "      <th>0</th>\n",
       "      <td>21.88</td>\n",
       "    </tr>\n",
       "    <tr>\n",
       "      <th>1</th>\n",
       "      <td>27.95</td>\n",
       "    </tr>\n",
       "    <tr>\n",
       "      <th>2</th>\n",
       "      <td>16.09</td>\n",
       "    </tr>\n",
       "    <tr>\n",
       "      <th>3</th>\n",
       "      <td>27.58</td>\n",
       "    </tr>\n",
       "    <tr>\n",
       "      <th>4</th>\n",
       "      <td>23.76</td>\n",
       "    </tr>\n",
       "    <tr>\n",
       "      <th>...</th>\n",
       "      <td>...</td>\n",
       "    </tr>\n",
       "    <tr>\n",
       "      <th>146</th>\n",
       "      <td>23.80</td>\n",
       "    </tr>\n",
       "    <tr>\n",
       "      <th>147</th>\n",
       "      <td>12.86</td>\n",
       "    </tr>\n",
       "    <tr>\n",
       "      <th>148</th>\n",
       "      <td>15.80</td>\n",
       "    </tr>\n",
       "    <tr>\n",
       "      <th>149</th>\n",
       "      <td>17.09</td>\n",
       "    </tr>\n",
       "    <tr>\n",
       "      <th>150</th>\n",
       "      <td>15.50</td>\n",
       "    </tr>\n",
       "  </tbody>\n",
       "</table>\n",
       "<p>151 rows × 1 columns</p>\n",
       "</div>"
      ]
     },
     "execution_count": 11,
     "metadata": {},
     "output_type": "execute_result"
    }
   ],
   "execution_count": 11
  },
  {
   "cell_type": "code",
   "source": [
    "connection.close()"
   ],
   "metadata": {
    "collapsed": false,
    "ExecuteTime": {
     "end_time": "2025-01-07T10:04:55.571849Z",
     "start_time": "2025-01-07T10:04:55.565395Z"
    }
   },
   "outputs": [],
   "execution_count": 12
  },
  {
   "cell_type": "markdown",
   "metadata": {},
   "source": [
    "### 2. Einmalige SQL-Verbindung\n",
    "#### 2.1 `with`-Statement "
   ]
  },
  {
   "cell_type": "markdown",
   "metadata": {},
   "source": [
    " Das `with`-Statement haben wir bereits im Zusammenhang mit dem Öffnen, Lesen und Schreiben von Dateien kennengelernt. Praktisch daran war, dass es eine Datei geöffnet und anschließend automatisch geschlossen hat. Den gleichen Vorteil können wir mit sqlite3 mit Datenbanken leider nicht nutzen."
   ]
  },
  {
   "cell_type": "code",
   "metadata": {
    "ExecuteTime": {
     "end_time": "2025-01-07T10:04:59.364944Z",
     "start_time": "2025-01-07T10:04:59.352106Z"
    }
   },
   "source": [
    "with sqlite3.connect(database_path) as connection:\n",
    "\tdf = pd.read_sql('SELECT * FROM hotels;', connection)\n",
    "\n",
    "df.head()"
   ],
   "outputs": [
    {
     "data": {
      "text/plain": [
       "   Gewinn  Preis in Mio  Quadratmeter    Stadt  Preis pro Quadratmeter\n",
       "0  119000         21.88          3938   Berlin             5556.119858\n",
       "1  250000         27.95          3986  München             7012.042148\n",
       "2  250000         16.09          2574     Köln             6250.971251\n",
       "3  145000         27.58          4155  München             6637.785800\n",
       "4  110000         23.76          3795   Berlin             6260.869565"
      ],
      "text/html": [
       "<div>\n",
       "<style scoped>\n",
       "    .dataframe tbody tr th:only-of-type {\n",
       "        vertical-align: middle;\n",
       "    }\n",
       "\n",
       "    .dataframe tbody tr th {\n",
       "        vertical-align: top;\n",
       "    }\n",
       "\n",
       "    .dataframe thead th {\n",
       "        text-align: right;\n",
       "    }\n",
       "</style>\n",
       "<table border=\"1\" class=\"dataframe\">\n",
       "  <thead>\n",
       "    <tr style=\"text-align: right;\">\n",
       "      <th></th>\n",
       "      <th>Gewinn</th>\n",
       "      <th>Preis in Mio</th>\n",
       "      <th>Quadratmeter</th>\n",
       "      <th>Stadt</th>\n",
       "      <th>Preis pro Quadratmeter</th>\n",
       "    </tr>\n",
       "  </thead>\n",
       "  <tbody>\n",
       "    <tr>\n",
       "      <th>0</th>\n",
       "      <td>119000</td>\n",
       "      <td>21.88</td>\n",
       "      <td>3938</td>\n",
       "      <td>Berlin</td>\n",
       "      <td>5556.119858</td>\n",
       "    </tr>\n",
       "    <tr>\n",
       "      <th>1</th>\n",
       "      <td>250000</td>\n",
       "      <td>27.95</td>\n",
       "      <td>3986</td>\n",
       "      <td>München</td>\n",
       "      <td>7012.042148</td>\n",
       "    </tr>\n",
       "    <tr>\n",
       "      <th>2</th>\n",
       "      <td>250000</td>\n",
       "      <td>16.09</td>\n",
       "      <td>2574</td>\n",
       "      <td>Köln</td>\n",
       "      <td>6250.971251</td>\n",
       "    </tr>\n",
       "    <tr>\n",
       "      <th>3</th>\n",
       "      <td>145000</td>\n",
       "      <td>27.58</td>\n",
       "      <td>4155</td>\n",
       "      <td>München</td>\n",
       "      <td>6637.785800</td>\n",
       "    </tr>\n",
       "    <tr>\n",
       "      <th>4</th>\n",
       "      <td>110000</td>\n",
       "      <td>23.76</td>\n",
       "      <td>3795</td>\n",
       "      <td>Berlin</td>\n",
       "      <td>6260.869565</td>\n",
       "    </tr>\n",
       "  </tbody>\n",
       "</table>\n",
       "</div>"
      ]
     },
     "execution_count": 13,
     "metadata": {},
     "output_type": "execute_result"
    }
   ],
   "execution_count": 13
  },
  {
   "cell_type": "code",
   "metadata": {
    "ExecuteTime": {
     "end_time": "2025-01-07T10:05:02.867971Z",
     "start_time": "2025-01-07T10:05:02.855421Z"
    }
   },
   "source": [
    "# Trotz abgeschlossenem with Block, kann trotzdem auf Verbindung\n",
    "# zugegriffen werden\n",
    "connection.cursor() \\\n",
    "\t.execute('SELECT * FROM hotels;') \\\n",
    "\t.fetchall()"
   ],
   "outputs": [
    {
     "data": {
      "text/plain": [
       "[(119000, 21.88, 3938, 'Berlin', 5556.119857795836),\n",
       " (250000, 27.95, 3986, 'München', 7012.042147516308),\n",
       " (250000, 16.09, 2574, 'Köln', 6250.971250971251),\n",
       " (145000, 27.58, 4155, 'München', 6637.785800240674),\n",
       " (110000, 23.76, 3795, 'Berlin', 6260.869565217391),\n",
       " (246000, 22.88, 2773, 'München', 8250.991705733863),\n",
       " (54000, 13.25, 634, 'München', 20899.05362776025),\n",
       " (2000, 8.94, 82, 'München', 109024.3902439024),\n",
       " (114000, 24.87, 3706, 'München', 6710.739341608203),\n",
       " (47000, 14.11, 1692, 'Berlin', 8339.243498817967),\n",
       " (54000, 11.65, 1989, 'Köln', 5857.214680744092),\n",
       " (124000, 17.26, 2616, 'Berlin', 6597.859327217126),\n",
       " (125000, 18.45, 3358, 'Köln', 5494.34187016081),\n",
       " (62000, 17.08, 1941, 'München', 8799.587841318908),\n",
       " (250000, 19.32, 1831, 'München', 10551.61114145276),\n",
       " (24000, 8.48, 800, 'Berlin', 10600.0),\n",
       " (102000, 14.16, 2700, 'Köln', 5244.444444444444),\n",
       " (26000, 13.84, 1257, 'München', 11010.34208432777),\n",
       " (85000, 19.59, 2644, 'Berlin', 7409.228441754917),\n",
       " (182000, 18.64, 2001, 'München', 9315.342328835583),\n",
       " (74000, 8.0, 1581, 'Köln', 5060.088551549652),\n",
       " (5000, 7.84, 82, 'München', 95609.75609756098),\n",
       " (134000, 15.54, 2412, 'Köln', 6442.786069651741),\n",
       " (14000, 6.09, 769, 'Köln', 7919.375812743823),\n",
       " (84000, 22.4, 3815, 'Berlin', 5871.559633027523),\n",
       " (124000, 23.44, 3122, 'München', 7508.007687379884),\n",
       " (32000, 17.75, 1492, 'München', 11896.78284182306),\n",
       " (250000, 6.73, 525, 'Köln', 12819.04761904762),\n",
       " (53000, 14.22, 1217, 'München', 11684.47000821693),\n",
       " (32000, 17.22, 1497, 'München', 11503.00601202405),\n",
       " (63000, 17.97, 3101, 'Berlin', 5794.904869396969),\n",
       " (88000, 13.58, 2644, 'Köln', 5136.157337367625),\n",
       " (156000, 19.1, 3631, 'Köln', 5260.25888185073),\n",
       " (138000, 13.09, 1461, 'Berlin', 8959.616700889801),\n",
       " (37000, 15.93, 1492, 'München', 10676.9436997319),\n",
       " (86000, 19.37, 2408, 'München', 8044.019933554818),\n",
       " (17000, 7.87, 859, 'Köln', 9161.816065192084),\n",
       " (23000, 9.76, 703, 'Berlin', 13883.35704125178),\n",
       " (136000, 22.98, 4908, 'Köln', 4682.151589242054),\n",
       " (129000, 14.15, 2545, 'Köln', 5559.92141453831),\n",
       " (34000, 13.77, 1847, 'Berlin', 7455.332972387656),\n",
       " (18000, 7.77, 502, 'Berlin', 15478.08764940239),\n",
       " (137000, 18.12, 3478, 'Köln', 5209.890741805635),\n",
       " (73000, 9.88, 756, 'Berlin', 13068.78306878307),\n",
       " (156000, 24.78, 5099, 'Köln', 4859.776426750343),\n",
       " (21000, 8.69, 1215, 'Köln', 7152.263374485597),\n",
       " (91000, 19.76, 3107, 'Berlin', 6359.832635983264),\n",
       " (72000, 13.76, 2375, 'Köln', 5793.684210526316),\n",
       " (101000, 11.87, 2101, 'Köln', 5649.690623512613),\n",
       " (250000, 24.21, 4832, 'Köln', 5010.347682119205),\n",
       " (57000, 13.0, 2458, 'Köln', 5288.852725793328),\n",
       " (83000, 23.6, 4561, 'Berlin', 5174.303880727911),\n",
       " (87000, 24.43, 4044, 'Berlin', 6041.04846686449),\n",
       " (141000, 21.93, 3896, 'Berlin', 5628.850102669405),\n",
       " (99000, 21.26, 2630, 'München', 8083.650190114068),\n",
       " (250000, 20.43, 3249, 'Berlin', 6288.08864265928),\n",
       " (99000, 14.97, 2409, 'Berlin', 6214.196762141968),\n",
       " (113000, 22.62, 2618, 'München', 8640.1833460657),\n",
       " (83000, 19.6, 3366, 'Köln', 5822.93523469994),\n",
       " (29000, 10.94, 1625, 'Köln', 6732.307692307692),\n",
       " (68000, 22.3, 3149, 'München', 7081.61321054303),\n",
       " (121000, 22.99, 3944, 'Berlin', 5829.107505070994),\n",
       " (71000, 16.32, 3162, 'Berlin', 5161.290322580645),\n",
       " (64000, 13.86, 1993, 'Köln', 6954.340190667335),\n",
       " (250000, 16.39, 2583, 'Köln', 6345.334881920247),\n",
       " (97000, 16.55, 2301, 'Berlin', 7192.524989135159),\n",
       " (4000, 6.95, 171, 'Berlin', 40643.27485380117),\n",
       " (250000, 20.64, 3876, 'Köln', 5325.077399380805),\n",
       " (13000, 12.1, 304, 'München', 39802.63157894737),\n",
       " (250000, 20.86, 3849, 'Köln', 5419.589503767213),\n",
       " (66000, 22.42, 2795, 'München', 8021.466905187835),\n",
       " (250000, 32.78, 5702, 'München', 5748.860049105577),\n",
       " (75000, 20.14, 4082, 'Köln', 4933.855952964233),\n",
       " (125000, 20.27, 3910, 'Köln', 5184.143222506394),\n",
       " (126000, 24.49, 4565, 'Berlin', 5364.731653888281),\n",
       " (250000, 27.94, 4436, 'München', 6298.467087466186),\n",
       " (250000, 10.41, 1355, 'Köln', 7682.656826568265),\n",
       " (64000, 14.9, 2220, 'Berlin', 6711.711711711711),\n",
       " (97000, 24.81, 3674, 'München', 6752.857920522591),\n",
       " (91000, 16.38, 2847, 'Köln', 5753.424657534246),\n",
       " (124000, 26.31, 5201, 'Berlin', 5058.642568736781),\n",
       " (25000, 9.07, 1002, 'Berlin', 9051.89620758483),\n",
       " (58000, 19.93, 3306, 'München', 6028.43315184513),\n",
       " (57000, 15.18, 2952, 'Köln', 5142.276422764227),\n",
       " (19000, 7.98, 723, 'Berlin', 11037.34439834025),\n",
       " (23000, 12.08, 760, 'München', 15894.73684210526),\n",
       " (26000, 9.63, 1241, 'Köln', 7759.871071716358),\n",
       " (96000, 23.05, 3168, 'München', 7275.883838383838),\n",
       " (250000, 28.24, 5741, 'Köln', 4919.00365789932),\n",
       " (45000, 17.71, 1873, 'München', 9455.419113721302),\n",
       " (3000, 6.62, 114, 'Berlin', 58070.17543859649),\n",
       " (116000, 21.03, 3707, 'Berlin', 5673.050984623685),\n",
       " (80000, 17.13, 3165, 'Köln', 5412.322274881517),\n",
       " (62000, 16.15, 1799, 'München', 8977.209560867148),\n",
       " (85000, 11.9, 647, 'München', 18392.58114374034),\n",
       " (20000, 8.97, 396, 'Berlin', 22651.51515151515),\n",
       " (61000, 7.75, 1346, 'Köln', 5757.800891530461),\n",
       " (142000, 30.14, 5427, 'München', 5553.712916896997),\n",
       " (156000, 17.67, 3085, 'Köln', 5727.71474878444),\n",
       " (39000, 13.98, 1594, 'Berlin', 8770.38895859473),\n",
       " (163000, 19.13, 3619, 'Köln', 5285.990605139541),\n",
       " (128000, 16.51, 1127, 'München', 14649.51197870453),\n",
       " (71000, 18.09, 2985, 'Berlin', 6060.301507537689),\n",
       " (67000, 20.95, 2770, 'München', 7563.176895306859),\n",
       " (7000, 9.25, 242, 'Berlin', 38223.14049586777),\n",
       " (250000, 26.66, 5519, 'Köln', 4830.58525095126),\n",
       " (69000, 13.97, 3062, 'Köln', 4562.377531025473),\n",
       " (120000, 22.87, 4681, 'Köln', 4885.70818201239),\n",
       " (34000, 18.3, 2501, 'München', 7317.073170731707),\n",
       " (25000, 11.21, 1690, 'Berlin', 6633.136094674556),\n",
       " (89000, 27.96, 4494, 'München', 6221.628838451268),\n",
       " (176000, 20.54, 2671, 'München', 7690.003743916136),\n",
       " (250000, 35.35, 5549, 'München', 6370.517210308164),\n",
       " (103000, 7.65, 1275, 'Köln', 6000.0),\n",
       " (56000, 14.56, 2218, 'Köln', 6564.472497745717),\n",
       " (76000, 18.78, 2186, 'München', 8591.033851784081),\n",
       " (7000, 4.16, 380, 'Köln', 10947.36842105263),\n",
       " (33000, 16.04, 1505, 'München', 10657.8073089701),\n",
       " (121000, 27.27, 4151, 'München', 6569.501324981932),\n",
       " (44000, 13.09, 1781, 'Berlin', 7349.803481190343),\n",
       " (250000, 31.79, 5607, 'Berlin', 5669.698591046906),\n",
       " (125000, 28.49, 5643, 'Köln', 5048.732943469786),\n",
       " (125000, 21.27, 3309, 'Berlin', 6427.92384406165),\n",
       " (48000, 17.86, 3302, 'Berlin', 5408.843125378558),\n",
       " (95000, 17.35, 3429, 'Köln', 5059.784193642461),\n",
       " (250000, 15.44, 2584, 'Köln', 5975.232198142415),\n",
       " (135000, 16.94, 3224, 'Köln', 5254.342431761786),\n",
       " (44000, 6.3, 788, 'Köln', 7994.923857868021),\n",
       " (192000, 23.82, 3708, 'Berlin', 6423.948220064725),\n",
       " (63000, 8.9, 1489, 'Köln', 5977.165883143049),\n",
       " (87000, 14.69, 2244, 'Köln', 6546.345811051693),\n",
       " (11000, 4.8, 179, 'Köln', 26815.64245810056),\n",
       " (121000, 13.21, 2220, 'Köln', 5950.45045045045),\n",
       " (104000, 19.87, 3374, 'Berlin', 5889.152341434499),\n",
       " (227000, 12.98, 1696, 'Berlin', 7653.301886792453),\n",
       " (250000, 12.73, 2115, 'Köln', 6018.912529550827),\n",
       " (250000, 19.6, 3558, 'Köln', 5508.712759977516),\n",
       " (35000, 7.91, 1021, 'Köln', 7747.306562193928),\n",
       " (187000, 24.9, 4008, 'Berlin', 6212.574850299401),\n",
       " (8000, 5.65, 267, 'Köln', 21161.04868913858),\n",
       " (250000, 29.45, 5256, 'Berlin', 5603.120243531203),\n",
       " (232000, 15.28, 2337, 'Köln', 6538.296961916988),\n",
       " (8000, 6.19, 449, 'Köln', 13786.19153674833),\n",
       " (213000, 23.86, 4763, 'Köln', 5009.44782699979),\n",
       " (159000, 21.4, 3078, 'Berlin', 6952.566601689408),\n",
       " (45000, 10.5, 1775, 'Köln', 5915.492957746479),\n",
       " (250000, 23.8, 4058, 'Köln', 5864.958107442089),\n",
       " (32000, 12.86, 1668, 'Berlin', 7709.832134292566),\n",
       " (35000, 15.8, 2281, 'Berlin', 6926.786497150372),\n",
       " (90000, 17.09, 2297, 'Berlin', 7440.139312146278),\n",
       " (12000, 15.5, 222, 'Zutzenhausen', 12.2)]"
      ]
     },
     "execution_count": 14,
     "metadata": {},
     "output_type": "execute_result"
    }
   ],
   "execution_count": 14
  },
  {
   "cell_type": "code",
   "metadata": {
    "ExecuteTime": {
     "end_time": "2025-01-07T09:58:28.865860Z",
     "start_time": "2025-01-07T09:58:28.861016Z"
    }
   },
   "source": [
    "# Manuelles schließen\n",
    "connection.close()"
   ],
   "outputs": [],
   "execution_count": 17
  },
  {
   "cell_type": "markdown",
   "source": [
    "ABER ganz nutzlos ist with mit sqlite3 auch nicht:\n",
    "Wir können auf connection.commit() verzichten durch 'with'"
   ],
   "metadata": {
    "collapsed": false
   }
  },
  {
   "cell_type": "code",
   "source": [
    "with sqlite3.connect(database_path) as connection:\n",
    "\tconnection.execute('''INSERT INTO hotels\n",
    "                          VALUES (12000, 15.5, 222, 'Zutzenhausen', 12.2)''')"
   ],
   "metadata": {
    "collapsed": false,
    "ExecuteTime": {
     "end_time": "2025-01-07T10:05:07.265662Z",
     "start_time": "2025-01-07T10:05:07.251553Z"
    }
   },
   "outputs": [],
   "execution_count": 15
  },
  {
   "cell_type": "code",
   "source": [
    "with sqlite3.connect(database_path) as connection:\n",
    "\tdf = pd.read_sql(\"SELECT * FROM hotels;\", connection)"
   ],
   "metadata": {
    "collapsed": false,
    "ExecuteTime": {
     "end_time": "2025-01-07T10:05:10.168622Z",
     "start_time": "2025-01-07T10:05:10.159599Z"
    }
   },
   "outputs": [],
   "execution_count": 16
  },
  {
   "cell_type": "code",
   "source": [
    "df.tail()"
   ],
   "metadata": {
    "collapsed": false,
    "ExecuteTime": {
     "end_time": "2025-01-07T10:05:11.778625Z",
     "start_time": "2025-01-07T10:05:11.767681Z"
    }
   },
   "outputs": [
    {
     "data": {
      "text/plain": [
       "     Gewinn  Preis in Mio  Quadratmeter         Stadt  Preis pro Quadratmeter\n",
       "147   32000         12.86          1668        Berlin             7709.832134\n",
       "148   35000         15.80          2281        Berlin             6926.786497\n",
       "149   90000         17.09          2297        Berlin             7440.139312\n",
       "150   12000         15.50           222  Zutzenhausen               12.200000\n",
       "151   12000         15.50           222  Zutzenhausen               12.200000"
      ],
      "text/html": [
       "<div>\n",
       "<style scoped>\n",
       "    .dataframe tbody tr th:only-of-type {\n",
       "        vertical-align: middle;\n",
       "    }\n",
       "\n",
       "    .dataframe tbody tr th {\n",
       "        vertical-align: top;\n",
       "    }\n",
       "\n",
       "    .dataframe thead th {\n",
       "        text-align: right;\n",
       "    }\n",
       "</style>\n",
       "<table border=\"1\" class=\"dataframe\">\n",
       "  <thead>\n",
       "    <tr style=\"text-align: right;\">\n",
       "      <th></th>\n",
       "      <th>Gewinn</th>\n",
       "      <th>Preis in Mio</th>\n",
       "      <th>Quadratmeter</th>\n",
       "      <th>Stadt</th>\n",
       "      <th>Preis pro Quadratmeter</th>\n",
       "    </tr>\n",
       "  </thead>\n",
       "  <tbody>\n",
       "    <tr>\n",
       "      <th>147</th>\n",
       "      <td>32000</td>\n",
       "      <td>12.86</td>\n",
       "      <td>1668</td>\n",
       "      <td>Berlin</td>\n",
       "      <td>7709.832134</td>\n",
       "    </tr>\n",
       "    <tr>\n",
       "      <th>148</th>\n",
       "      <td>35000</td>\n",
       "      <td>15.80</td>\n",
       "      <td>2281</td>\n",
       "      <td>Berlin</td>\n",
       "      <td>6926.786497</td>\n",
       "    </tr>\n",
       "    <tr>\n",
       "      <th>149</th>\n",
       "      <td>90000</td>\n",
       "      <td>17.09</td>\n",
       "      <td>2297</td>\n",
       "      <td>Berlin</td>\n",
       "      <td>7440.139312</td>\n",
       "    </tr>\n",
       "    <tr>\n",
       "      <th>150</th>\n",
       "      <td>12000</td>\n",
       "      <td>15.50</td>\n",
       "      <td>222</td>\n",
       "      <td>Zutzenhausen</td>\n",
       "      <td>12.200000</td>\n",
       "    </tr>\n",
       "    <tr>\n",
       "      <th>151</th>\n",
       "      <td>12000</td>\n",
       "      <td>15.50</td>\n",
       "      <td>222</td>\n",
       "      <td>Zutzenhausen</td>\n",
       "      <td>12.200000</td>\n",
       "    </tr>\n",
       "  </tbody>\n",
       "</table>\n",
       "</div>"
      ]
     },
     "execution_count": 17,
     "metadata": {},
     "output_type": "execute_result"
    }
   ],
   "execution_count": 17
  },
  {
   "cell_type": "code",
   "source": [
    "connection.close()"
   ],
   "metadata": {
    "collapsed": false,
    "ExecuteTime": {
     "end_time": "2025-01-07T09:56:42.831945300Z",
     "start_time": "2025-01-07T08:21:05.307272Z"
    }
   },
   "outputs": [],
   "execution_count": 22
  },
  {
   "cell_type": "markdown",
   "metadata": {},
   "source": [
    "#### 2.2 `try` - Statement"
   ]
  },
  {
   "cell_type": "code",
   "metadata": {
    "ExecuteTime": {
     "end_time": "2025-01-07T10:05:16.404938Z",
     "start_time": "2025-01-07T10:05:16.396124Z"
    }
   },
   "source": [
    "# Alternativ dazu können wir einen try-except-finally-\n",
    "# Block definieren\n",
    "try:\n",
    "\tconnection = sqlite3.connect(database_path)\n",
    "\tcursor = connection.cursor()\n",
    "\tcursor.execute(\"SELECT * FROM hotels\")\n",
    "\tprint(cursor.fetchall())\n",
    "except:\n",
    "\tprint('Irgendwas hat da nicht geklappt.')\n",
    "finally:\n",
    "\tconnection.close()"
   ],
   "outputs": [
    {
     "name": "stdout",
     "output_type": "stream",
     "text": [
      "[(119000, 21.88, 3938, 'Berlin', 5556.119857795836), (250000, 27.95, 3986, 'München', 7012.042147516308), (250000, 16.09, 2574, 'Köln', 6250.971250971251), (145000, 27.58, 4155, 'München', 6637.785800240674), (110000, 23.76, 3795, 'Berlin', 6260.869565217391), (246000, 22.88, 2773, 'München', 8250.991705733863), (54000, 13.25, 634, 'München', 20899.05362776025), (2000, 8.94, 82, 'München', 109024.3902439024), (114000, 24.87, 3706, 'München', 6710.739341608203), (47000, 14.11, 1692, 'Berlin', 8339.243498817967), (54000, 11.65, 1989, 'Köln', 5857.214680744092), (124000, 17.26, 2616, 'Berlin', 6597.859327217126), (125000, 18.45, 3358, 'Köln', 5494.34187016081), (62000, 17.08, 1941, 'München', 8799.587841318908), (250000, 19.32, 1831, 'München', 10551.61114145276), (24000, 8.48, 800, 'Berlin', 10600.0), (102000, 14.16, 2700, 'Köln', 5244.444444444444), (26000, 13.84, 1257, 'München', 11010.34208432777), (85000, 19.59, 2644, 'Berlin', 7409.228441754917), (182000, 18.64, 2001, 'München', 9315.342328835583), (74000, 8.0, 1581, 'Köln', 5060.088551549652), (5000, 7.84, 82, 'München', 95609.75609756098), (134000, 15.54, 2412, 'Köln', 6442.786069651741), (14000, 6.09, 769, 'Köln', 7919.375812743823), (84000, 22.4, 3815, 'Berlin', 5871.559633027523), (124000, 23.44, 3122, 'München', 7508.007687379884), (32000, 17.75, 1492, 'München', 11896.78284182306), (250000, 6.73, 525, 'Köln', 12819.04761904762), (53000, 14.22, 1217, 'München', 11684.47000821693), (32000, 17.22, 1497, 'München', 11503.00601202405), (63000, 17.97, 3101, 'Berlin', 5794.904869396969), (88000, 13.58, 2644, 'Köln', 5136.157337367625), (156000, 19.1, 3631, 'Köln', 5260.25888185073), (138000, 13.09, 1461, 'Berlin', 8959.616700889801), (37000, 15.93, 1492, 'München', 10676.9436997319), (86000, 19.37, 2408, 'München', 8044.019933554818), (17000, 7.87, 859, 'Köln', 9161.816065192084), (23000, 9.76, 703, 'Berlin', 13883.35704125178), (136000, 22.98, 4908, 'Köln', 4682.151589242054), (129000, 14.15, 2545, 'Köln', 5559.92141453831), (34000, 13.77, 1847, 'Berlin', 7455.332972387656), (18000, 7.77, 502, 'Berlin', 15478.08764940239), (137000, 18.12, 3478, 'Köln', 5209.890741805635), (73000, 9.88, 756, 'Berlin', 13068.78306878307), (156000, 24.78, 5099, 'Köln', 4859.776426750343), (21000, 8.69, 1215, 'Köln', 7152.263374485597), (91000, 19.76, 3107, 'Berlin', 6359.832635983264), (72000, 13.76, 2375, 'Köln', 5793.684210526316), (101000, 11.87, 2101, 'Köln', 5649.690623512613), (250000, 24.21, 4832, 'Köln', 5010.347682119205), (57000, 13.0, 2458, 'Köln', 5288.852725793328), (83000, 23.6, 4561, 'Berlin', 5174.303880727911), (87000, 24.43, 4044, 'Berlin', 6041.04846686449), (141000, 21.93, 3896, 'Berlin', 5628.850102669405), (99000, 21.26, 2630, 'München', 8083.650190114068), (250000, 20.43, 3249, 'Berlin', 6288.08864265928), (99000, 14.97, 2409, 'Berlin', 6214.196762141968), (113000, 22.62, 2618, 'München', 8640.1833460657), (83000, 19.6, 3366, 'Köln', 5822.93523469994), (29000, 10.94, 1625, 'Köln', 6732.307692307692), (68000, 22.3, 3149, 'München', 7081.61321054303), (121000, 22.99, 3944, 'Berlin', 5829.107505070994), (71000, 16.32, 3162, 'Berlin', 5161.290322580645), (64000, 13.86, 1993, 'Köln', 6954.340190667335), (250000, 16.39, 2583, 'Köln', 6345.334881920247), (97000, 16.55, 2301, 'Berlin', 7192.524989135159), (4000, 6.95, 171, 'Berlin', 40643.27485380117), (250000, 20.64, 3876, 'Köln', 5325.077399380805), (13000, 12.1, 304, 'München', 39802.63157894737), (250000, 20.86, 3849, 'Köln', 5419.589503767213), (66000, 22.42, 2795, 'München', 8021.466905187835), (250000, 32.78, 5702, 'München', 5748.860049105577), (75000, 20.14, 4082, 'Köln', 4933.855952964233), (125000, 20.27, 3910, 'Köln', 5184.143222506394), (126000, 24.49, 4565, 'Berlin', 5364.731653888281), (250000, 27.94, 4436, 'München', 6298.467087466186), (250000, 10.41, 1355, 'Köln', 7682.656826568265), (64000, 14.9, 2220, 'Berlin', 6711.711711711711), (97000, 24.81, 3674, 'München', 6752.857920522591), (91000, 16.38, 2847, 'Köln', 5753.424657534246), (124000, 26.31, 5201, 'Berlin', 5058.642568736781), (25000, 9.07, 1002, 'Berlin', 9051.89620758483), (58000, 19.93, 3306, 'München', 6028.43315184513), (57000, 15.18, 2952, 'Köln', 5142.276422764227), (19000, 7.98, 723, 'Berlin', 11037.34439834025), (23000, 12.08, 760, 'München', 15894.73684210526), (26000, 9.63, 1241, 'Köln', 7759.871071716358), (96000, 23.05, 3168, 'München', 7275.883838383838), (250000, 28.24, 5741, 'Köln', 4919.00365789932), (45000, 17.71, 1873, 'München', 9455.419113721302), (3000, 6.62, 114, 'Berlin', 58070.17543859649), (116000, 21.03, 3707, 'Berlin', 5673.050984623685), (80000, 17.13, 3165, 'Köln', 5412.322274881517), (62000, 16.15, 1799, 'München', 8977.209560867148), (85000, 11.9, 647, 'München', 18392.58114374034), (20000, 8.97, 396, 'Berlin', 22651.51515151515), (61000, 7.75, 1346, 'Köln', 5757.800891530461), (142000, 30.14, 5427, 'München', 5553.712916896997), (156000, 17.67, 3085, 'Köln', 5727.71474878444), (39000, 13.98, 1594, 'Berlin', 8770.38895859473), (163000, 19.13, 3619, 'Köln', 5285.990605139541), (128000, 16.51, 1127, 'München', 14649.51197870453), (71000, 18.09, 2985, 'Berlin', 6060.301507537689), (67000, 20.95, 2770, 'München', 7563.176895306859), (7000, 9.25, 242, 'Berlin', 38223.14049586777), (250000, 26.66, 5519, 'Köln', 4830.58525095126), (69000, 13.97, 3062, 'Köln', 4562.377531025473), (120000, 22.87, 4681, 'Köln', 4885.70818201239), (34000, 18.3, 2501, 'München', 7317.073170731707), (25000, 11.21, 1690, 'Berlin', 6633.136094674556), (89000, 27.96, 4494, 'München', 6221.628838451268), (176000, 20.54, 2671, 'München', 7690.003743916136), (250000, 35.35, 5549, 'München', 6370.517210308164), (103000, 7.65, 1275, 'Köln', 6000.0), (56000, 14.56, 2218, 'Köln', 6564.472497745717), (76000, 18.78, 2186, 'München', 8591.033851784081), (7000, 4.16, 380, 'Köln', 10947.36842105263), (33000, 16.04, 1505, 'München', 10657.8073089701), (121000, 27.27, 4151, 'München', 6569.501324981932), (44000, 13.09, 1781, 'Berlin', 7349.803481190343), (250000, 31.79, 5607, 'Berlin', 5669.698591046906), (125000, 28.49, 5643, 'Köln', 5048.732943469786), (125000, 21.27, 3309, 'Berlin', 6427.92384406165), (48000, 17.86, 3302, 'Berlin', 5408.843125378558), (95000, 17.35, 3429, 'Köln', 5059.784193642461), (250000, 15.44, 2584, 'Köln', 5975.232198142415), (135000, 16.94, 3224, 'Köln', 5254.342431761786), (44000, 6.3, 788, 'Köln', 7994.923857868021), (192000, 23.82, 3708, 'Berlin', 6423.948220064725), (63000, 8.9, 1489, 'Köln', 5977.165883143049), (87000, 14.69, 2244, 'Köln', 6546.345811051693), (11000, 4.8, 179, 'Köln', 26815.64245810056), (121000, 13.21, 2220, 'Köln', 5950.45045045045), (104000, 19.87, 3374, 'Berlin', 5889.152341434499), (227000, 12.98, 1696, 'Berlin', 7653.301886792453), (250000, 12.73, 2115, 'Köln', 6018.912529550827), (250000, 19.6, 3558, 'Köln', 5508.712759977516), (35000, 7.91, 1021, 'Köln', 7747.306562193928), (187000, 24.9, 4008, 'Berlin', 6212.574850299401), (8000, 5.65, 267, 'Köln', 21161.04868913858), (250000, 29.45, 5256, 'Berlin', 5603.120243531203), (232000, 15.28, 2337, 'Köln', 6538.296961916988), (8000, 6.19, 449, 'Köln', 13786.19153674833), (213000, 23.86, 4763, 'Köln', 5009.44782699979), (159000, 21.4, 3078, 'Berlin', 6952.566601689408), (45000, 10.5, 1775, 'Köln', 5915.492957746479), (250000, 23.8, 4058, 'Köln', 5864.958107442089), (32000, 12.86, 1668, 'Berlin', 7709.832134292566), (35000, 15.8, 2281, 'Berlin', 6926.786497150372), (90000, 17.09, 2297, 'Berlin', 7440.139312146278), (12000, 15.5, 222, 'Zutzenhausen', 12.2), (12000, 15.5, 222, 'Zutzenhausen', 12.2)]\n"
     ]
    }
   ],
   "execution_count": 18
  },
  {
   "cell_type": "markdown",
   "source": [
    "## Prepared statement in SQL\n",
    "\"Prepared statements\" verbessern zum einen die Laufzeit von Queries, welche mehrmals mit unterschiedlichen Werten aufgerufen werden. Außerdem bieten sie einen wichtigen Schutz gegen Angriffe von außen durch sogenannte SQL-Injections (Einschleusung von SQL-Code). "
   ],
   "metadata": {
    "collapsed": false
   }
  },
  {
   "cell_type": "markdown",
   "source": [
    "### 1. Question Mark Style\n",
    "1.1 Insert mit Question Mark style. Hier stehen '?' stellvertretend für beliebige Werte"
   ],
   "metadata": {
    "collapsed": false
   }
  },
  {
   "cell_type": "code",
   "source": [
    "connection = sqlite3.connect(database_path)\n",
    "cursor = connection.cursor()"
   ],
   "metadata": {
    "collapsed": false,
    "ExecuteTime": {
     "end_time": "2025-01-07T10:26:01.775074Z",
     "start_time": "2025-01-07T10:26:01.771079Z"
    }
   },
   "outputs": [],
   "execution_count": 44
  },
  {
   "cell_type": "code",
   "source": [
    "# Tabelle erstellen:\n",
    "connection.execute(\n",
    "\t'''CREATE TABLE IF NOT EXISTS programmiersprachen(\n",
    "            id INTEGER PRIMARY KEY AUTOINCREMENT,\n",
    "            name VARCHAR(50) UNIQUE NOT NULL,\n",
    "            first_appeared INT);'''\n",
    ")"
   ],
   "metadata": {
    "collapsed": false,
    "ExecuteTime": {
     "end_time": "2025-01-07T10:26:03.408274Z",
     "start_time": "2025-01-07T10:26:03.391421Z"
    }
   },
   "outputs": [
    {
     "data": {
      "text/plain": [
       "<sqlite3.Cursor at 0x2a746eff8c0>"
      ]
     },
     "execution_count": 45,
     "metadata": {},
     "output_type": "execute_result"
    }
   ],
   "execution_count": 45
  },
  {
   "cell_type": "code",
   "source": [
    "# Fragezeichen können als Platzhalter dienen, um dann einen Befehl\n",
    "# mehrmals mit unterschiedlichen Werten ausführen zu können\n",
    "\n",
    "# Die einzutragenden Werte, jedes Tupel ist ein Eintrag:\n",
    "data = [\n",
    "\t(\"Ada Lovelace Machinealgorithm\", 1843),\n",
    "\t(\"Assembler\", 1949),\n",
    "\t(\"COBOL\", 1959),\n",
    "\t(\"SQL\", 1972),\n",
    "\t(\"C++\", 1985),\n",
    "\t(\"Python\", 1991),\n",
    "\t(\"Swift\", 2014)\n",
    "]"
   ],
   "metadata": {
    "collapsed": false,
    "ExecuteTime": {
     "end_time": "2025-01-07T10:26:11.524229Z",
     "start_time": "2025-01-07T10:26:11.519219Z"
    }
   },
   "outputs": [],
   "execution_count": 46
  },
  {
   "metadata": {
    "ExecuteTime": {
     "end_time": "2025-01-07T10:26:14.860185Z",
     "start_time": "2025-01-07T10:26:14.850171Z"
    }
   },
   "cell_type": "code",
   "source": [
    "# Mit executemany kann man einen Befehl wiederholt auf eine iterierbare Datenstruktur anwenden.\n",
    "# In unserem Fall liegt eine Liste aus Tupeln vor und executemany führt das Insert so oft aus,\n",
    "# wie es Tupel in der Liste gibt.\n",
    "\n",
    "# Da die Tupel jeweils über zwei Werte verfügen, werden sie von VALUES(?, ?) abgebildet:\n",
    "cursor.executemany('''\n",
    "                  INSERT INTO programmiersprachen(name, first_appeared)\n",
    "                  VALUES (?, ?)''', data)"
   ],
   "outputs": [
    {
     "data": {
      "text/plain": [
       "<sqlite3.Cursor at 0x2a7466b3640>"
      ]
     },
     "execution_count": 47,
     "metadata": {},
     "output_type": "execute_result"
    }
   ],
   "execution_count": 47
  },
  {
   "metadata": {
    "ExecuteTime": {
     "end_time": "2025-01-07T09:56:42.841311500Z",
     "start_time": "2025-01-07T08:38:18.644828Z"
    }
   },
   "cell_type": "code",
   "source": [
    "# Was ist eigentlich mit der ID-Spalte?\n",
    "# ...AUTOINCREMENT"
   ],
   "outputs": [
    {
     "data": {
      "text/plain": [
       "[]"
      ]
     },
     "execution_count": 30,
     "metadata": {},
     "output_type": "execute_result"
    }
   ],
   "execution_count": 30
  },
  {
   "cell_type": "code",
   "source": [
    "help(cursor.executemany)"
   ],
   "metadata": {
    "collapsed": false,
    "ExecuteTime": {
     "end_time": "2025-01-07T10:05:30.980267Z",
     "start_time": "2025-01-07T10:05:30.973294Z"
    }
   },
   "outputs": [
    {
     "name": "stdout",
     "output_type": "stream",
     "text": [
      "Help on built-in function executemany:\n",
      "\n",
      "executemany(sql, seq_of_parameters, /) method of sqlite3.Cursor instance\n",
      "    Repeatedly executes an SQL statement.\n",
      "\n"
     ]
    }
   ],
   "execution_count": 23
  },
  {
   "cell_type": "code",
   "source": [
    "connection.commit()"
   ],
   "metadata": {
    "collapsed": false,
    "ExecuteTime": {
     "end_time": "2025-01-07T10:26:18.339780Z",
     "start_time": "2025-01-07T10:26:18.325249Z"
    }
   },
   "outputs": [],
   "execution_count": 48
  },
  {
   "cell_type": "code",
   "source": [
    "cursor.execute('SELECT * FROM programmiersprachen;').fetchall()"
   ],
   "metadata": {
    "collapsed": false,
    "ExecuteTime": {
     "end_time": "2025-01-07T10:24:08.569441Z",
     "start_time": "2025-01-07T10:24:08.561460Z"
    }
   },
   "outputs": [
    {
     "data": {
      "text/plain": [
       "[(17, 'Ada Lovelace Machinealgorithm', 1843),\n",
       " (18, 'Assembler', 1949),\n",
       " (19, 'COBOL', 1959),\n",
       " (20, 'SQL', 1972),\n",
       " (21, 'C++', 1985),\n",
       " (22, 'Python', 1991),\n",
       " (23, 'Swift', 2014)]"
      ]
     },
     "execution_count": 42,
     "metadata": {},
     "output_type": "execute_result"
    }
   ],
   "execution_count": 42
  },
  {
   "cell_type": "markdown",
   "source": [
    "1.2 Tabelle ausgeben lassen"
   ],
   "metadata": {
    "collapsed": false
   }
  },
  {
   "cell_type": "code",
   "source": [
    "result = cursor.execute('SELECT * FROM programmiersprachen;').fetchall()\n",
    "for row in result:\n",
    "\tprint(row)"
   ],
   "metadata": {
    "collapsed": false,
    "ExecuteTime": {
     "end_time": "2025-01-07T10:05:38.751015Z",
     "start_time": "2025-01-07T10:05:38.745457Z"
    }
   },
   "outputs": [
    {
     "name": "stdout",
     "output_type": "stream",
     "text": [
      "(1, 'Ada Lovelace Machinealgorithm', 1843)\n",
      "(2, 'Assembler', 1949)\n",
      "(3, 'COBOL', 1959)\n",
      "(4, 'SQL', 1972)\n",
      "(5, 'C++', 1985)\n",
      "(6, 'Python', 1991)\n",
      "(7, 'Swift', 2014)\n",
      "(8, 'Ada Lovelace Machinealgorithm', 1843)\n",
      "(9, 'Assembler', 1949)\n",
      "(10, 'COBOL', 1959)\n",
      "(11, 'SQL', 1972)\n",
      "(12, 'C++', 1985)\n",
      "(13, 'Python', 1991)\n",
      "(14, 'Swift', 2014)\n"
     ]
    }
   ],
   "execution_count": 26
  },
  {
   "cell_type": "code",
   "source": [
    "# Tuple unpacking:\n",
    "result = cursor.execute('SELECT * FROM programmiersprachen;').fetchall()\n",
    "for _, name, year in result:\n",
    "\tprint('Name der Sprache:', name)\n",
    "\tprint('Erscheinungsjahr:', year)\n",
    "\tprint()"
   ],
   "metadata": {
    "collapsed": false,
    "ExecuteTime": {
     "end_time": "2025-01-07T10:05:40.486794Z",
     "start_time": "2025-01-07T10:05:40.481789Z"
    }
   },
   "outputs": [
    {
     "name": "stdout",
     "output_type": "stream",
     "text": [
      "Name der Sprache: Ada Lovelace Machinealgorithm\n",
      "Erscheinungsjahr: 1843\n",
      "\n",
      "Name der Sprache: Assembler\n",
      "Erscheinungsjahr: 1949\n",
      "\n",
      "Name der Sprache: COBOL\n",
      "Erscheinungsjahr: 1959\n",
      "\n",
      "Name der Sprache: SQL\n",
      "Erscheinungsjahr: 1972\n",
      "\n",
      "Name der Sprache: C++\n",
      "Erscheinungsjahr: 1985\n",
      "\n",
      "Name der Sprache: Python\n",
      "Erscheinungsjahr: 1991\n",
      "\n",
      "Name der Sprache: Swift\n",
      "Erscheinungsjahr: 2014\n",
      "\n",
      "Name der Sprache: Ada Lovelace Machinealgorithm\n",
      "Erscheinungsjahr: 1843\n",
      "\n",
      "Name der Sprache: Assembler\n",
      "Erscheinungsjahr: 1949\n",
      "\n",
      "Name der Sprache: COBOL\n",
      "Erscheinungsjahr: 1959\n",
      "\n",
      "Name der Sprache: SQL\n",
      "Erscheinungsjahr: 1972\n",
      "\n",
      "Name der Sprache: C++\n",
      "Erscheinungsjahr: 1985\n",
      "\n",
      "Name der Sprache: Python\n",
      "Erscheinungsjahr: 1991\n",
      "\n",
      "Name der Sprache: Swift\n",
      "Erscheinungsjahr: 2014\n",
      "\n"
     ]
    }
   ],
   "execution_count": 27
  },
  {
   "cell_type": "markdown",
   "source": [
    "1.3 Select mit Question Mark style"
   ],
   "metadata": {
    "collapsed": false
   }
  },
  {
   "cell_type": "code",
   "source": [
    "abfrage = 'SELECT * FROM programmiersprachen WHERE name = ?;'\n",
    "# (Python,) steht für ein Tupel mit nur EINEM Element:\n",
    "cursor.execute(abfrage, ('Python',))\n",
    "cursor.fetchall()"
   ],
   "metadata": {
    "collapsed": false,
    "ExecuteTime": {
     "end_time": "2025-01-07T10:05:42.810066Z",
     "start_time": "2025-01-07T10:05:42.802760Z"
    }
   },
   "outputs": [
    {
     "data": {
      "text/plain": [
       "[(6, 'Python', 1991), (13, 'Python', 1991)]"
      ]
     },
     "execution_count": 28,
     "metadata": {},
     "output_type": "execute_result"
    }
   ],
   "execution_count": 28
  },
  {
   "cell_type": "code",
   "source": [
    "abfrage = 'SELECT * FROM programmiersprachen WHERE name = ? OR first_appeared = ?;'\n",
    "# (Python,) steht für ein Tupel mit nur EINEM Element:\n",
    "cursor.execute(abfrage, ('Python', 1843))\n",
    "cursor.fetchall()"
   ],
   "metadata": {
    "collapsed": false,
    "ExecuteTime": {
     "end_time": "2025-01-07T10:05:44.385132Z",
     "start_time": "2025-01-07T10:05:44.377421Z"
    }
   },
   "outputs": [
    {
     "data": {
      "text/plain": [
       "[(1, 'Ada Lovelace Machinealgorithm', 1843),\n",
       " (6, 'Python', 1991),\n",
       " (8, 'Ada Lovelace Machinealgorithm', 1843),\n",
       " (13, 'Python', 1991)]"
      ]
     },
     "execution_count": 29,
     "metadata": {},
     "output_type": "execute_result"
    }
   ],
   "execution_count": 29
  },
  {
   "cell_type": "markdown",
   "source": [
    "1.4 Verwendung in Python-Funktionen"
   ],
   "metadata": {
    "collapsed": false
   }
  },
  {
   "cell_type": "code",
   "source": [
    "# Funktion erstellen, mit der wir neue Zeilen\n",
    "# in Tabelle 'hotels' eintragen können:\n",
    "def add_hotel(gewinn, preis, qm, stadt, qm_preis):\n",
    "\tquery = '''INSERT INTO hotels\n",
    "               VALUES(?, ?, ?, ?, ?);'''\n",
    "\tcursor.execute(query, (gewinn, preis, qm, stadt, qm_preis))\n",
    "\tconnection.commit()\n",
    "\treturn 'Hotel wurde hinzugefügt!'"
   ],
   "metadata": {
    "collapsed": false,
    "ExecuteTime": {
     "end_time": "2025-01-07T10:05:46.553589Z",
     "start_time": "2025-01-07T10:05:46.548188Z"
    }
   },
   "outputs": [],
   "execution_count": 30
  },
  {
   "cell_type": "code",
   "source": [
    "# Funktion aufrufen:\n",
    "add_hotel(125641, 15, 300, \"Bamberg\", 3500)"
   ],
   "metadata": {
    "collapsed": false,
    "ExecuteTime": {
     "end_time": "2025-01-07T10:05:48.848948Z",
     "start_time": "2025-01-07T10:05:48.829736Z"
    }
   },
   "outputs": [
    {
     "data": {
      "text/plain": [
       "'Hotel wurde hinzugefügt!'"
      ]
     },
     "execution_count": 31,
     "metadata": {},
     "output_type": "execute_result"
    }
   ],
   "execution_count": 31
  },
  {
   "cell_type": "code",
   "source": [
    "# Zu programmiersprachen mit with-Schreibweise hinzufügen.\n",
    "# Funktion (durch with kein commit mehr nötig!):\n",
    "def add_language(name, year):\n",
    "\tquery = '''INSERT INTO programmiersprachen(name, first_appeared)\n",
    "               VALUES(?, ?);'''\n",
    "\twith connection:\n",
    "\t\tconnection.execute(query, (name, year))\n",
    "\treturn 'Programmiersprache hinzugefügt!'"
   ],
   "metadata": {
    "collapsed": false,
    "ExecuteTime": {
     "end_time": "2025-01-07T10:26:56.120907Z",
     "start_time": "2025-01-07T10:26:56.116465Z"
    }
   },
   "outputs": [],
   "execution_count": 49
  },
  {
   "cell_type": "code",
   "source": [
    "add_language('Rust', 2006)"
   ],
   "metadata": {
    "collapsed": false,
    "ExecuteTime": {
     "end_time": "2025-01-07T10:26:57.724387Z",
     "start_time": "2025-01-07T10:26:57.707393Z"
    }
   },
   "outputs": [
    {
     "data": {
      "text/plain": [
       "'Programmiersprache hinzugefügt!'"
      ]
     },
     "execution_count": 50,
     "metadata": {},
     "output_type": "execute_result"
    }
   ],
   "execution_count": 50
  },
  {
   "cell_type": "code",
   "source": [
    "# Eventuelle Übungsaufgabe:\n",
    "# Eine Funktion schreiben, die zu areas neue Zeilen hinzufügt."
   ],
   "metadata": {
    "collapsed": false
   },
   "outputs": [],
   "execution_count": null
  },
  {
   "metadata": {
    "ExecuteTime": {
     "end_time": "2025-01-07T10:27:24.357600Z",
     "start_time": "2025-01-07T10:27:24.351963Z"
    }
   },
   "cell_type": "code",
   "source": [
    "def add_row(preis, quadratmeter, stadt):\n",
    "\tquery = '''\n",
    "\tINSERT INTO areas(preis, quadratmeter, stadt)\n",
    "\tVALUES (?, ?, ?);\n",
    "\t'''\n",
    "\twith connection:\n",
    "\t\tconnection.execute(query, (preis, quadratmeter, stadt))\n",
    "\t\treturn 'Stadt wurde hinzugefügt!'"
   ],
   "outputs": [],
   "execution_count": 51
  },
  {
   "metadata": {
    "ExecuteTime": {
     "end_time": "2025-01-07T10:27:25.893751Z",
     "start_time": "2025-01-07T10:27:25.877323Z"
    }
   },
   "cell_type": "code",
   "source": "add_row(133.42, 75, 'Hörnum/Sylt')",
   "outputs": [
    {
     "data": {
      "text/plain": [
       "'Stadt wurde hinzugefügt!'"
      ]
     },
     "execution_count": 52,
     "metadata": {},
     "output_type": "execute_result"
    }
   ],
   "execution_count": 52
  },
  {
   "cell_type": "markdown",
   "source": [
    "### 2. Named style\n",
    "2.1 Insert mit named style"
   ],
   "metadata": {
    "collapsed": false
   }
  },
  {
   "cell_type": "code",
   "source": [
    "# Mithilfe eines Dictionaries können Keys der Zuordnung der Werte dienen\n",
    "# Dadurch müssen Werte nicht in richtiger Reihenfolge stehen:\n",
    "name_sql = \"\"\"\n",
    "            INSERT INTO programmiersprachen(name, first_appeared)\n",
    "            VALUES(:name, :first_appeared);\"\"\"\n",
    "\n",
    "sprache = {'first_appeared': 1993, 'name': 'Brainfuck'}\n",
    "\n",
    "connection.execute(name_sql, sprache)"
   ],
   "metadata": {
    "collapsed": false,
    "ExecuteTime": {
     "end_time": "2025-01-07T10:27:34.001767Z",
     "start_time": "2025-01-07T10:27:33.990827Z"
    }
   },
   "outputs": [
    {
     "data": {
      "text/plain": [
       "<sqlite3.Cursor at 0x2a7470fb540>"
      ]
     },
     "execution_count": 53,
     "metadata": {},
     "output_type": "execute_result"
    }
   ],
   "execution_count": 53
  },
  {
   "cell_type": "code",
   "source": [
    "connection.commit()"
   ],
   "metadata": {
    "collapsed": false,
    "ExecuteTime": {
     "end_time": "2025-01-07T10:27:38.233229Z",
     "start_time": "2025-01-07T10:27:38.221258Z"
    }
   },
   "outputs": [],
   "execution_count": 54
  },
  {
   "cell_type": "code",
   "source": [
    "cursor.execute(\"SELECT * FROM programmiersprachen\")\n",
    "cursor.fetchall()"
   ],
   "metadata": {
    "collapsed": false,
    "ExecuteTime": {
     "end_time": "2025-01-07T10:27:39.424789Z",
     "start_time": "2025-01-07T10:27:39.417203Z"
    }
   },
   "outputs": [
    {
     "data": {
      "text/plain": [
       "[(1, 'Ada Lovelace Machinealgorithm', 1843),\n",
       " (2, 'Assembler', 1949),\n",
       " (3, 'COBOL', 1959),\n",
       " (4, 'SQL', 1972),\n",
       " (5, 'C++', 1985),\n",
       " (6, 'Python', 1991),\n",
       " (7, 'Swift', 2014),\n",
       " (8, 'Rust', 2006),\n",
       " (9, 'Brainfuck', 1993)]"
      ]
     },
     "execution_count": 55,
     "metadata": {},
     "output_type": "execute_result"
    }
   ],
   "execution_count": 55
  },
  {
   "cell_type": "markdown",
   "source": [
    "2.2 Tabelle mit where-Bedingung ausgeben (named style)"
   ],
   "metadata": {
    "collapsed": false
   }
  },
  {
   "cell_type": "code",
   "source": [
    "cursor.execute(\"\"\"\n",
    "               SELECT *\n",
    "               FROM programmiersprachen\n",
    "               WHERE first_appeared > :year;\"\"\",\n",
    "\t\t\t   {\"year\": 1990})\n",
    "\n",
    "cursor.fetchall()"
   ],
   "metadata": {
    "collapsed": false,
    "ExecuteTime": {
     "end_time": "2025-01-07T10:27:49.343946Z",
     "start_time": "2025-01-07T10:27:49.333671Z"
    }
   },
   "outputs": [
    {
     "data": {
      "text/plain": [
       "[(6, 'Python', 1991),\n",
       " (7, 'Swift', 2014),\n",
       " (8, 'Rust', 2006),\n",
       " (9, 'Brainfuck', 1993)]"
      ]
     },
     "execution_count": 56,
     "metadata": {},
     "output_type": "execute_result"
    }
   ],
   "execution_count": 56
  },
  {
   "cell_type": "code",
   "source": [
    "# Schließen nicht vergessen!\n",
    "connection.close()"
   ],
   "metadata": {
    "collapsed": false,
    "ExecuteTime": {
     "end_time": "2025-01-07T10:29:40.863063Z",
     "start_time": "2025-01-07T10:29:40.857280Z"
    }
   },
   "outputs": [],
   "execution_count": 57
  },
  {
   "cell_type": "markdown",
   "source": [
    "### 3. Warum nicht einfach f-String? >>> SQL-Injections!\n",
    "Lasst uns eine ganze Tabelle voller \"geheimer Inhalte\" klauen!"
   ],
   "metadata": {
    "collapsed": false
   }
  },
  {
   "cell_type": "code",
   "source": "connection = sqlite3.connect(database_path)",
   "metadata": {
    "collapsed": false,
    "ExecuteTime": {
     "end_time": "2025-01-07T10:29:42.363676Z",
     "start_time": "2025-01-07T10:29:42.355850Z"
    }
   },
   "outputs": [],
   "execution_count": 58
  },
  {
   "cell_type": "code",
   "source": [
    "with connection:\n",
    "\tconnection.execute('''CREATE TABLE IF NOT EXISTS super_confident(\n",
    "                               password VARCHAR,\n",
    "                               secret_content VARCHAR);\n",
    "                               ''')"
   ],
   "metadata": {
    "collapsed": false,
    "ExecuteTime": {
     "end_time": "2025-01-07T10:40:11.037106Z",
     "start_time": "2025-01-07T10:40:11.012120Z"
    }
   },
   "outputs": [],
   "execution_count": 59
  },
  {
   "cell_type": "code",
   "source": [
    "data = [('21412452d', 'Daten zum Konto in der Schweiz'),\n",
    "\t\t('Zdsam832197m', 'Das größte Geheimnis'),\n",
    "\t\t('998321_dsHwoepw§', 'Die Weltformel')]\n",
    "\n",
    "with connection:\n",
    "\tconnection.executemany('''INSERT INTO super_confident\n",
    "                              VALUES(?, ?)''', data)"
   ],
   "metadata": {
    "collapsed": false,
    "ExecuteTime": {
     "end_time": "2025-01-07T10:40:20.077389Z",
     "start_time": "2025-01-07T10:40:20.057028Z"
    }
   },
   "outputs": [],
   "execution_count": 60
  },
  {
   "cell_type": "code",
   "source": [
    "cursor = connection.cursor()\n",
    "cursor.execute('SELECT * FROM super_confident;')\n",
    "cursor.fetchall()"
   ],
   "metadata": {
    "collapsed": false,
    "ExecuteTime": {
     "end_time": "2025-01-07T10:40:35.275427Z",
     "start_time": "2025-01-07T10:40:35.267266Z"
    }
   },
   "outputs": [
    {
     "data": {
      "text/plain": [
       "[('21412452d', 'Daten zum Konto in der Schweiz'),\n",
       " ('Zdsam832197m', 'Das größte Geheimnis'),\n",
       " ('998321_dsHwoepw§', 'Die Weltformel')]"
      ]
     },
     "execution_count": 61,
     "metadata": {},
     "output_type": "execute_result"
    }
   ],
   "execution_count": 61
  },
  {
   "cell_type": "code",
   "source": [
    "# So sollten Nutzer auf ihre Geheimnisse zugreifen:\n",
    "code = 'Zdsam832197m'\n",
    "cursor.execute(f'''SELECT * FROM super_confident WHERE password = '{code}';''')"
   ],
   "metadata": {
    "collapsed": false,
    "ExecuteTime": {
     "end_time": "2025-01-07T10:40:50.910088Z",
     "start_time": "2025-01-07T10:40:50.902567Z"
    }
   },
   "outputs": [
    {
     "data": {
      "text/plain": [
       "<sqlite3.Cursor at 0x2a7470f9140>"
      ]
     },
     "execution_count": 62,
     "metadata": {},
     "output_type": "execute_result"
    }
   ],
   "execution_count": 62
  },
  {
   "cell_type": "code",
   "source": [
    "cursor.fetchall()"
   ],
   "metadata": {
    "collapsed": false,
    "ExecuteTime": {
     "end_time": "2025-01-07T10:40:52.504509Z",
     "start_time": "2025-01-07T10:40:52.497125Z"
    }
   },
   "outputs": [
    {
     "data": {
      "text/plain": [
       "[('Zdsam832197m', 'Das größte Geheimnis')]"
      ]
     },
     "execution_count": 63,
     "metadata": {},
     "output_type": "execute_result"
    }
   ],
   "execution_count": 63
  },
  {
   "cell_type": "code",
   "source": [
    "# Jetzt kommt der \"Angriff\":\n",
    "injection = '1 OR 1=1'\n",
    "cursor.execute(f'''SELECT * FROM super_confident\n",
    "                   WHERE password = {injection}''')"
   ],
   "metadata": {
    "collapsed": false,
    "ExecuteTime": {
     "end_time": "2025-01-07T10:46:54.961886Z",
     "start_time": "2025-01-07T10:46:54.954383Z"
    }
   },
   "outputs": [
    {
     "data": {
      "text/plain": [
       "<sqlite3.Cursor at 0x2a7470f9140>"
      ]
     },
     "execution_count": 64,
     "metadata": {},
     "output_type": "execute_result"
    }
   ],
   "execution_count": 64
  },
  {
   "cell_type": "code",
   "source": [
    "# Die Katastrophe: Wir haben nun die komplette Tabelle!\n",
    "cursor.fetchall()"
   ],
   "metadata": {
    "collapsed": false,
    "ExecuteTime": {
     "end_time": "2025-01-07T10:46:58.233978Z",
     "start_time": "2025-01-07T10:46:58.227857Z"
    }
   },
   "outputs": [
    {
     "data": {
      "text/plain": [
       "[('21412452d', 'Daten zum Konto in der Schweiz'),\n",
       " ('Zdsam832197m', 'Das größte Geheimnis'),\n",
       " ('998321_dsHwoepw§', 'Die Weltformel')]"
      ]
     },
     "execution_count": 65,
     "metadata": {},
     "output_type": "execute_result"
    }
   ],
   "execution_count": 65
  },
  {
   "cell_type": "code",
   "source": [
    "# Was passiert, wenn wir '?' schreiben?\n",
    "injection = '1 OR 1=1'\n",
    "cursor.execute('''SELECT * FROM super_confident\n",
    "                   WHERE password = ?''', (injection,))"
   ],
   "metadata": {
    "collapsed": false,
    "ExecuteTime": {
     "end_time": "2025-01-07T10:50:04.520968Z",
     "start_time": "2025-01-07T10:50:04.514439Z"
    }
   },
   "outputs": [
    {
     "data": {
      "text/plain": [
       "<sqlite3.Cursor at 0x2a7470f9140>"
      ]
     },
     "execution_count": 66,
     "metadata": {},
     "output_type": "execute_result"
    }
   ],
   "execution_count": 66
  },
  {
   "cell_type": "code",
   "source": [
    "# So sieht es schon besser aus!\n",
    "cursor.fetchall()"
   ],
   "metadata": {
    "collapsed": false,
    "ExecuteTime": {
     "end_time": "2025-01-07T10:50:06.198022Z",
     "start_time": "2025-01-07T10:50:06.191491Z"
    }
   },
   "outputs": [
    {
     "data": {
      "text/plain": [
       "[]"
      ]
     },
     "execution_count": 67,
     "metadata": {},
     "output_type": "execute_result"
    }
   ],
   "execution_count": 67
  },
  {
   "cell_type": "code",
   "source": [
    "# Übungsaufgabe: Schreibe weiter an app.py und database.py von gestern.\n",
    "# Schreibe die Funktion insert_topic so, dass der Nutzer Datum und Lerninhalt eintragen kann,\n",
    "# aber die Gefahr von SQL-Einschleusung nicht besteht!\n",
    "# Schreibe die Funktion view_entries aus.\n",
    "# Falls die Zeit reicht: Verbaue die Funktionen in app.py"
   ],
   "metadata": {
    "collapsed": false
   },
   "outputs": [],
   "execution_count": null
  },
  {
   "cell_type": "code",
   "source": [
    "# Berücksichtige den Walrus-Operator:\n",
    "# https://towardsdatascience.com/the-walrus-operator-in-python-a315e4f84583"
   ],
   "metadata": {
    "collapsed": false
   },
   "outputs": [],
   "execution_count": null
  }
 ],
 "metadata": {
  "kernelspec": {
   "display_name": "kurs6",
   "language": "python",
   "name": "python3"
  },
  "language_info": {
   "codemirror_mode": {
    "name": "ipython",
    "version": 3
   },
   "file_extension": ".py",
   "mimetype": "text/x-python",
   "name": "python",
   "nbconvert_exporter": "python",
   "pygments_lexer": "ipython3",
   "version": "3.11.5"
  }
 },
 "nbformat": 4,
 "nbformat_minor": 2
}
