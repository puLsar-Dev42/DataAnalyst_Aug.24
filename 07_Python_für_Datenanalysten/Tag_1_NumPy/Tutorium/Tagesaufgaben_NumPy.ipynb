{
 "cells": [
  {
   "cell_type": "markdown",
   "metadata": {},
   "source": [
    "<br><br><center><h1 style=\"font-size:2em;color:#2467C0\">Tagesaufgaben: Numpy</h1></center>\n",
    "<br>\n"
   ]
  },
  {
   "cell_type": "markdown",
   "metadata": {},
   "source": [
    "## Aufgabe 1"
   ]
  },
  {
   "metadata": {},
   "cell_type": "code",
   "source": "# Deine Imports:\n",
   "outputs": [],
   "execution_count": null
  },
  {
   "cell_type": "markdown",
   "metadata": {},
   "source": [
    "<div  class=\"alert alert-block alert-info\">\n",
    "1. Erstelle ein eindimensionales Array und wandel es anschließend in ein zweidimensionales Array der folgenden Form um:\n",
    "\n",
    "    Output:\n",
    "    [[12 23]\n",
    "     [31 25]\n",
    "     [65 98]]\n",
    "</div>"
   ]
  },
  {
   "cell_type": "code",
   "metadata": {},
   "source": "",
   "outputs": [],
   "execution_count": null
  },
  {
   "cell_type": "markdown",
   "metadata": {
    "collapsed": false
   },
   "source": [
    "<div  class=\"alert alert-block alert-info\">\n",
    "2. Erstelle ein Array mit den Zahlen 1 bis 100 OHNE den Einsatz von list oder range, ausschließlich mit Numpy-Mitteln. Teile dieses Array danach in zwei gleiche Teile und lege diese auf die Variabeln arr1 und arr2. Lass dir arr1 und arr2 anzeigen.\n",
    "</div>"
   ]
  },
  {
   "metadata": {},
   "cell_type": "code",
   "source": "",
   "outputs": [],
   "execution_count": null
  },
  {
   "cell_type": "markdown",
   "metadata": {
    "collapsed": false
   },
   "source": [
    "<div  class=\"alert alert-block alert-info\">\n",
    "3. Gegeben ist nachfolgendes Array. Sortiere die Zahlen im Array.\n",
    "\n",
    "    Output:\n",
    "    [12 20 23 34]\n",
    "</div>"
   ]
  },
  {
   "cell_type": "code",
   "metadata": {
    "collapsed": false
   },
   "source": "array1 = np.array([20, 23, 12, 34])\n",
   "outputs": [],
   "execution_count": null
  },
  {
   "cell_type": "markdown",
   "metadata": {
    "collapsed": false
   },
   "source": [
    "<div  class=\"alert alert-block alert-info\">\n",
    "4. Erstelle zwei Arrays. Füge beide Arrays zusammen. Nutze dafür zwei verschiedene Befehle.\n",
    "\n",
    "    Output:\n",
    "    [20 23 12 34 23 34 12 45]\n",
    "    [20 23 12 34 23 34 12 45]\n",
    "</div>"
   ]
  },
  {
   "cell_type": "code",
   "metadata": {
    "collapsed": false
   },
   "source": "",
   "outputs": [],
   "execution_count": null
  },
  {
   "cell_type": "markdown",
   "metadata": {
    "collapsed": false
   },
   "source": [
    "<div  class=\"alert alert-block alert-info\">\n",
    "5. Erstelle ein eindimensionales Array und teile es in zwei Arrays auf. Speichere das Ergebnis der Teilung in zwei Variablen. Nutze dafür nur eine Zeile Code.\n",
    "\n",
    "    Output:\n",
    "    [array([20, 23]), array([12, 34])]\n",
    "</div>"
   ]
  },
  {
   "cell_type": "code",
   "metadata": {
    "collapsed": false
   },
   "source": "array1 = np.array([20, 23, 12, 34])\n",
   "outputs": [],
   "execution_count": null
  },
  {
   "cell_type": "markdown",
   "metadata": {
    "collapsed": false
   },
   "source": [
    "<div  class=\"alert alert-block alert-info\">\n",
    "6. Gegeben ist folgendes Array. Lass dir die Index-Position ausgeben, an der sich der Name Sara befindet.\n",
    "\n",
    "    Output:\n",
    "    (array([1], dtype=int64),)\n",
    "</div>"
   ]
  },
  {
   "cell_type": "code",
   "metadata": {
    "collapsed": false
   },
   "source": [
    "array3 = np.array([\"Alex\", \"Sara\", \"Annika\", \"Max\", \"Julian\"])\n",
    "\n"
   ],
   "outputs": [],
   "execution_count": null
  },
  {
   "cell_type": "markdown",
   "metadata": {
    "collapsed": false
   },
   "source": [
    "<div  class=\"alert alert-block alert-info\">\n",
    "7. Gegeben ist folgendes Array. Durchsuche wieder das Array nach dem Namen Sara aber lass dir dieses Mal eine Liste mit Booleschen Werten für jeden Index des Arrays ausgeben.\n",
    "\n",
    "    Output:\n",
    "    [False  True False False False]\n",
    "</div>"
   ]
  },
  {
   "cell_type": "code",
   "metadata": {
    "collapsed": false
   },
   "source": "array3 = np.array([\"Alex\", \"Sara\", \"Annika\", \"Max\", \"Julian\"])\n",
   "outputs": [],
   "execution_count": null
  },
  {
   "cell_type": "markdown",
   "metadata": {
    "collapsed": false
   },
   "source": [
    "<div  class=\"alert alert-block alert-info\">\n",
    "8. Gegeben ist folgendes Array. Überprüfe, ob in dem Array der Name Hans vorkommt.\n",
    "\n",
    "    Output:\n",
    "    False\n",
    "</div>"
   ]
  },
  {
   "cell_type": "code",
   "metadata": {
    "collapsed": false
   },
   "source": "array3 = np.array([\"Alex\", \"Sara\", \"Annika\", \"Max\", \"Julian\"])\n",
   "outputs": [],
   "execution_count": null
  },
  {
   "cell_type": "markdown",
   "metadata": {
    "collapsed": false
   },
   "source": [
    "<div  class=\"alert alert-block alert-info\">\n",
    "9. Erstelle ein eindimensionales Array mit 8 Zahlen. Lass dir den maximalen Wert und die Summe der Zahlen im Array ausgeben.\n",
    "\n",
    "    Output:\n",
    "    67\n",
    "    206\n",
    "</div>"
   ]
  },
  {
   "cell_type": "code",
   "metadata": {
    "collapsed": false
   },
   "source": "array4 = np.array([20, 23, 12, 34, 45, 67, 2, 3])\n",
   "outputs": [],
   "execution_count": null
  },
  {
   "cell_type": "markdown",
   "metadata": {
    "collapsed": false
   },
   "source": [
    "<div  class=\"alert alert-block alert-info\">\n",
    "10. Lass dir den Mittelwert des Arrays aus Aufgabe 9 ausgeben.\n",
    "\n",
    "    Output:\n",
    "    25.75\n",
    "</div>"
   ]
  },
  {
   "cell_type": "code",
   "metadata": {
    "collapsed": false
   },
   "source": "",
   "outputs": [],
   "execution_count": null
  },
  {
   "cell_type": "markdown",
   "metadata": {},
   "source": [
    "# Optional"
   ]
  },
  {
   "cell_type": "markdown",
   "metadata": {},
   "source": [
    "Fasse die Lerninhalte von heute nochmal zusammen und notiere dir Fragen, die dir dabei kommen!"
   ]
  }
 ],
 "metadata": {
  "kernelspec": {
   "display_name": "Python 3 (ipykernel)",
   "language": "python",
   "name": "python3"
  },
  "language_info": {
   "codemirror_mode": {
    "name": "ipython",
    "version": 3
   },
   "file_extension": ".py",
   "mimetype": "text/x-python",
   "name": "python",
   "nbconvert_exporter": "python",
   "pygments_lexer": "ipython3",
   "version": "3.9.13"
  }
 },
 "nbformat": 4,
 "nbformat_minor": 1
}
