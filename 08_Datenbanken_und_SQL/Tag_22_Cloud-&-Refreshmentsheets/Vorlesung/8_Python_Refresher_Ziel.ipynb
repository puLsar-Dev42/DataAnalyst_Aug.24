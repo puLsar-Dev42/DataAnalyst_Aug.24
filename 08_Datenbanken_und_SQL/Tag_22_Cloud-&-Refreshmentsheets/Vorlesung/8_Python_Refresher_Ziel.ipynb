{
 "cells": [
  {
   "cell_type": "code",
   "execution_count": 1,
   "outputs": [],
   "source": [
    "import numpy as np\n",
    "from datetime import datetime\n",
    "from time import sleep"
   ],
   "metadata": {
    "collapsed": false,
    "ExecuteTime": {
     "end_time": "2024-03-13T14:33:08.878888Z",
     "start_time": "2024-03-13T14:33:08.872920Z"
    }
   },
   "id": "e211590c8cdcf7d6"
  },
  {
   "cell_type": "markdown",
   "source": [
    "# Datentypen und Loops"
   ],
   "metadata": {
    "collapsed": false
   },
   "id": "24c1521a66f43b1"
  },
  {
   "cell_type": "code",
   "execution_count": 2,
   "id": "initial_id",
   "metadata": {
    "collapsed": true,
    "ExecuteTime": {
     "end_time": "2024-03-13T14:33:08.886007Z",
     "start_time": "2024-03-13T14:33:08.881938Z"
    }
   },
   "outputs": [],
   "source": [
    "# Welche Datentypen gibt es?"
   ]
  },
  {
   "cell_type": "code",
   "execution_count": 3,
   "outputs": [],
   "source": [
    "# Die wichtigsten sind: Integer, Float, List, Tuple, Range, Dict, Set, Bool, NoneType"
   ],
   "metadata": {
    "collapsed": false,
    "ExecuteTime": {
     "end_time": "2024-03-13T14:33:08.892283Z",
     "start_time": "2024-03-13T14:33:08.888014Z"
    }
   },
   "id": "5fc262e99d719471"
  },
  {
   "cell_type": "code",
   "execution_count": 157,
   "outputs": [],
   "source": [
    "zahl = 3\n",
    "gleitkommazahl = 7.6\n",
    "komische_liste = ['Anna', 'Bella', 3.7, True, 4, {'Pikachu': '500 HP'}, 'Tina', ['Hallo', 'wo', 'zum', 'Teufel', 'bin', 'ich?', ['Die Antwort ist', [], 42, 'hab', 'ich', 'gehört']]]\n",
    "mein_tupel = ('Hallo', 'Datacraft', 2023)\n",
    "nix = None"
   ],
   "metadata": {
    "collapsed": false,
    "ExecuteTime": {
     "end_time": "2024-03-13T16:47:51.714896Z",
     "start_time": "2024-03-13T16:47:51.710620Z"
    }
   },
   "id": "2a4094fb34e38fb6"
  },
  {
   "cell_type": "code",
   "execution_count": 5,
   "outputs": [],
   "source": [
    "# Datentypen prüfen:"
   ],
   "metadata": {
    "collapsed": false,
    "ExecuteTime": {
     "end_time": "2024-03-13T14:33:08.905409Z",
     "start_time": "2024-03-13T14:33:08.901834Z"
    }
   },
   "id": "5fdff97020037745"
  },
  {
   "cell_type": "code",
   "execution_count": 132,
   "outputs": [
    {
     "name": "stdout",
     "output_type": "stream",
     "text": [
      "<class 'int'>\n",
      "<class 'float'>\n",
      "<class 'list'>\n",
      "<class 'tuple'>\n",
      "<class 'NoneType'>\n",
      "<class 'dict'>\n"
     ]
    }
   ],
   "source": [
    "print(type(zahl))\n",
    "print(type(gleitkommazahl))\n",
    "print(type(komische_liste))\n",
    "print(type(mein_tupel))\n",
    "print(type(nix))\n",
    "print(type(komische_liste[5]))"
   ],
   "metadata": {
    "collapsed": false,
    "ExecuteTime": {
     "end_time": "2024-03-13T15:23:56.417283Z",
     "start_time": "2024-03-13T15:23:56.413179Z"
    }
   },
   "id": "fb6cc868d45e0b"
  },
  {
   "cell_type": "code",
   "execution_count": 7,
   "outputs": [],
   "source": [
    "# Casting: Gleitkommazahl in Ganzzahl und umgekehrt umwandeln."
   ],
   "metadata": {
    "collapsed": false,
    "ExecuteTime": {
     "end_time": "2024-03-13T14:33:08.921548Z",
     "start_time": "2024-03-13T14:33:08.917825Z"
    }
   },
   "id": "19c919db521bd1c5"
  },
  {
   "cell_type": "code",
   "execution_count": 8,
   "outputs": [
    {
     "name": "stdout",
     "output_type": "stream",
     "text": [
      "3.0\n",
      "7\n"
     ]
    }
   ],
   "source": [
    "print(float(zahl))\n",
    "print(int(gleitkommazahl))"
   ],
   "metadata": {
    "collapsed": false,
    "ExecuteTime": {
     "end_time": "2024-03-13T14:33:08.927723Z",
     "start_time": "2024-03-13T14:33:08.923556Z"
    }
   },
   "id": "adad4cfd944bf653"
  },
  {
   "cell_type": "code",
   "execution_count": 9,
   "outputs": [],
   "source": [
    "# ÜBUNG: Bestimme Datentypen und wandle dann um.\n",
    "# Erkläre, wo bestimmte Umwandlungen nicht klappen."
   ],
   "metadata": {
    "collapsed": false,
    "ExecuteTime": {
     "end_time": "2024-03-13T14:33:08.933437Z",
     "start_time": "2024-03-13T14:33:08.928728Z"
    }
   },
   "id": "ccec25ea11a7c5f0"
  },
  {
   "cell_type": "code",
   "execution_count": 10,
   "outputs": [],
   "source": [
    "xyz = 42 # > float\n",
    "\n",
    "numstr = '164' # > int\n",
    "\n",
    "das_nichts = None # > string\n",
    "\n",
    "greetz = 'Hello' # > int\n",
    "\n",
    "noch_so_ne_zahl = 3 # > Multipliziere mit 'greetz'"
   ],
   "metadata": {
    "collapsed": false,
    "ExecuteTime": {
     "end_time": "2024-03-13T14:33:08.938285Z",
     "start_time": "2024-03-13T14:33:08.934449Z"
    }
   },
   "id": "8ec225f20041599d"
  },
  {
   "cell_type": "code",
   "execution_count": 11,
   "outputs": [],
   "source": [
    "# In 'mein_tupel' Datacraft durch Valentin ersetzen. Geht das?\n"
   ],
   "metadata": {
    "collapsed": false,
    "ExecuteTime": {
     "end_time": "2024-03-13T14:33:08.945744Z",
     "start_time": "2024-03-13T14:33:08.942841Z"
    }
   },
   "id": "796b5a36228c3032"
  },
  {
   "cell_type": "code",
   "outputs": [
    {
     "data": {
      "text/plain": "8"
     },
     "execution_count": 133,
     "metadata": {},
     "output_type": "execute_result"
    }
   ],
   "source": [
    "# Wie lang ist unsere 'komische_liste'?\n",
    "len(komische_liste)"
   ],
   "metadata": {
    "collapsed": false,
    "ExecuteTime": {
     "end_time": "2024-03-13T15:24:39.760820Z",
     "start_time": "2024-03-13T15:24:39.755811Z"
    }
   },
   "id": "5b777c8391aab878",
   "execution_count": 133
  },
  {
   "cell_type": "code",
   "outputs": [
    {
     "name": "stdout",
     "output_type": "stream",
     "text": [
      "True\n"
     ]
    }
   ],
   "source": [
    "# Wie greife ich das True in der Liste?\n",
    "print(komische_liste[3])"
   ],
   "metadata": {
    "collapsed": false,
    "ExecuteTime": {
     "end_time": "2024-03-13T15:27:09.380774Z",
     "start_time": "2024-03-13T15:27:09.375194Z"
    }
   },
   "id": "92b8bba69948f6cd",
   "execution_count": 141
  },
  {
   "cell_type": "code",
   "outputs": [
    {
     "name": "stdout",
     "output_type": "stream",
     "text": [
      "3\n"
     ]
    }
   ],
   "source": [
    "# Wie ermittle ich die Position des True?\n",
    "print(komische_liste.index(True))"
   ],
   "metadata": {
    "collapsed": false,
    "ExecuteTime": {
     "end_time": "2024-03-13T15:27:28.034054Z",
     "start_time": "2024-03-13T15:27:28.030688Z"
    }
   },
   "id": "694ea2295c410a8b",
   "execution_count": 142
  },
  {
   "cell_type": "code",
   "outputs": [
    {
     "data": {
      "text/plain": "['Hallo',\n 'wo',\n 'zum',\n 'Teufel',\n 'bin',\n 'ich?',\n ['Die Antwort ist', [], 42, 'hab', 'ich', 'gehört']]"
     },
     "execution_count": 158,
     "metadata": {},
     "output_type": "execute_result"
    }
   ],
   "source": [
    "# Wie greife ich mir die komische verschachtelte Liste am Ende der Liste zu?\n",
    "komische_liste[-1]"
   ],
   "metadata": {
    "collapsed": false,
    "ExecuteTime": {
     "end_time": "2024-03-13T16:47:56.408253Z",
     "start_time": "2024-03-13T16:47:56.403904Z"
    }
   },
   "id": "7f6cfab0a7c0f847",
   "execution_count": 158
  },
  {
   "cell_type": "code",
   "outputs": [
    {
     "data": {
      "text/plain": "['Die Antwort ist', [], 42, 'hab', 'ich', 'gehört']"
     },
     "execution_count": 159,
     "metadata": {},
     "output_type": "execute_result"
    }
   ],
   "source": [
    "# Wie greife ich auf die Liste in dieser Liste zu?\n",
    "komische_liste[-1][-1]"
   ],
   "metadata": {
    "collapsed": false,
    "ExecuteTime": {
     "end_time": "2024-03-13T16:48:02.706495Z",
     "start_time": "2024-03-13T16:48:02.700731Z"
    }
   },
   "id": "83d3b00e11dc33f2",
   "execution_count": 159
  },
  {
   "cell_type": "code",
   "outputs": [
    {
     "data": {
      "text/plain": "42"
     },
     "execution_count": 162,
     "metadata": {},
     "output_type": "execute_result"
    }
   ],
   "source": [
    "# Wie greife ich auf die Zahl 42 zu?\n",
    "komische_liste[-1][-1][2]"
   ],
   "metadata": {
    "collapsed": false,
    "ExecuteTime": {
     "end_time": "2024-03-13T16:48:12.809619Z",
     "start_time": "2024-03-13T16:48:12.804327Z"
    }
   },
   "id": "7b0a0535c959ef7e",
   "execution_count": 162
  },
  {
   "cell_type": "code",
   "execution_count": 12,
   "outputs": [],
   "source": [
    "# Einträge in Liste verändern. Bella in Tina umwandeln.\n",
    "komische_liste[1] = 'Tina'"
   ],
   "metadata": {
    "collapsed": false,
    "ExecuteTime": {
     "end_time": "2024-03-13T14:33:08.951623Z",
     "start_time": "2024-03-13T14:33:08.947756Z"
    }
   },
   "id": "a3244a39172fb53b"
  },
  {
   "cell_type": "code",
   "execution_count": 13,
   "outputs": [],
   "source": [
    "# Einträge in Liste verändern. Pikachu 1000 HP geben ;)\n",
    "komische_liste[5]['Pikachu'] = '1000 HP'"
   ],
   "metadata": {
    "collapsed": false,
    "ExecuteTime": {
     "end_time": "2024-03-13T14:33:08.956698Z",
     "start_time": "2024-03-13T14:33:08.952630Z"
    }
   },
   "id": "39d47f6467db9068"
  },
  {
   "cell_type": "code",
   "execution_count": 135,
   "outputs": [
    {
     "data": {
      "text/plain": "['Anna',\n 'Bella',\n 3.7,\n True,\n 4,\n {'Pikachu': '500 HP'},\n 'Tina',\n ['Hallo', 'wo', 'zum', 'Teufel', 'bin', 'ich?', ['Die Antwort ist', 42]]]"
     },
     "execution_count": 135,
     "metadata": {},
     "output_type": "execute_result"
    }
   ],
   "source": [
    "# Liste anschauen\n",
    "komische_liste"
   ],
   "metadata": {
    "collapsed": false,
    "ExecuteTime": {
     "end_time": "2024-03-13T15:25:18.224319Z",
     "start_time": "2024-03-13T15:25:18.218923Z"
    }
   },
   "id": "da076169e9d0e5b2"
  },
  {
   "cell_type": "code",
   "execution_count": 15,
   "outputs": [],
   "source": [
    "# Indexposition von Tina bestimmen"
   ],
   "metadata": {
    "collapsed": false,
    "ExecuteTime": {
     "end_time": "2024-03-13T14:33:08.971644Z",
     "start_time": "2024-03-13T14:33:08.967451Z"
    }
   },
   "id": "b33b660b63523c49"
  },
  {
   "cell_type": "code",
   "execution_count": 16,
   "outputs": [
    {
     "data": {
      "text/plain": "1"
     },
     "execution_count": 16,
     "metadata": {},
     "output_type": "execute_result"
    }
   ],
   "source": [
    "komische_liste.index(\"Tina\")"
   ],
   "metadata": {
    "collapsed": false,
    "ExecuteTime": {
     "end_time": "2024-03-13T14:33:08.977954Z",
     "start_time": "2024-03-13T14:33:08.972650Z"
    }
   },
   "id": "63b5defbe6ae1165"
  },
  {
   "cell_type": "code",
   "execution_count": 17,
   "outputs": [],
   "source": [
    "# Was fällt auf?"
   ],
   "metadata": {
    "collapsed": false,
    "ExecuteTime": {
     "end_time": "2024-03-13T14:33:08.983620Z",
     "start_time": "2024-03-13T14:33:08.978959Z"
    }
   },
   "id": "e35ed1038ff94630"
  },
  {
   "cell_type": "code",
   "execution_count": 18,
   "outputs": [],
   "source": [
    "# Nur erstes Vorkommnis von Tina wird ausgegeben."
   ],
   "metadata": {
    "collapsed": false,
    "ExecuteTime": {
     "end_time": "2024-03-13T14:33:08.988427Z",
     "start_time": "2024-03-13T14:33:08.984626Z"
    }
   },
   "id": "b52d3880e688df5e"
  },
  {
   "cell_type": "code",
   "execution_count": 19,
   "outputs": [],
   "source": [
    "# Alle Indizes von Tina"
   ],
   "metadata": {
    "collapsed": false,
    "ExecuteTime": {
     "end_time": "2024-03-13T14:33:08.992992Z",
     "start_time": "2024-03-13T14:33:08.989996Z"
    }
   },
   "id": "86f3662e5515753f"
  },
  {
   "cell_type": "code",
   "execution_count": 134,
   "outputs": [
    {
     "data": {
      "text/plain": "['Anna',\n 'Bella',\n 3.7,\n True,\n 4,\n {'Pikachu': '500 HP'},\n 'Tina',\n ['Hallo', 'wo', 'zum', 'Teufel', 'bin', 'ich?', ['Die Antwort ist', 42]]]"
     },
     "execution_count": 134,
     "metadata": {},
     "output_type": "execute_result"
    }
   ],
   "source": [
    "komische_liste"
   ],
   "metadata": {
    "collapsed": false,
    "ExecuteTime": {
     "end_time": "2024-03-13T15:25:10.690843Z",
     "start_time": "2024-03-13T15:25:10.684228Z"
    }
   },
   "id": "f40461daf8488bcf"
  },
  {
   "cell_type": "code",
   "outputs": [
    {
     "data": {
      "text/plain": "True"
     },
     "execution_count": 214,
     "metadata": {},
     "output_type": "execute_result"
    }
   ],
   "source": [
    "# Welche iterierbaren Datentypen gibt es?\n",
    "# String, Liste, Tupel, Dictionary, Set"
   ],
   "metadata": {
    "collapsed": false,
    "ExecuteTime": {
     "end_time": "2024-03-13T20:13:17.931920Z",
     "start_time": "2024-03-13T20:13:17.926768Z"
    }
   },
   "id": "2e9f894b6d011839",
   "execution_count": 214
  },
  {
   "cell_type": "code",
   "outputs": [
    {
     "name": "stdout",
     "output_type": "stream",
     "text": [
      "Welcher Datentyp ist iterierbar?\n",
      "String: True\n",
      "Liste: True\n",
      "Tupel: True\n",
      "Dictionary: True\n",
      "Set: True\n",
      "Range: True\n",
      "Int: False\n",
      "float: False\n",
      "Boolean: False\n",
      "None: False\n"
     ]
    }
   ],
   "source": [
    "print('Welcher Datentyp ist iterierbar?')\n",
    "print('String:', hasattr(str, '__iter__'))\n",
    "print('Liste:', hasattr(list, '__iter__'))\n",
    "print('Tupel:', hasattr(tuple, '__iter__'))\n",
    "print('Dictionary:', hasattr(dict, '__iter__'))\n",
    "print('Set:', hasattr(set, '__iter__'))\n",
    "print('Range:', hasattr(range, '__iter__'))\n",
    "print('Int:', hasattr(int, '__iter__'))\n",
    "print('float:', hasattr(float, '__iter__'))\n",
    "print('Boolean:', hasattr(bool, '__iter__'))\n",
    "print('None:', hasattr(None, '__iter__'))"
   ],
   "metadata": {
    "collapsed": false,
    "ExecuteTime": {
     "end_time": "2024-03-13T20:16:52.424303Z",
     "start_time": "2024-03-13T20:16:52.418610Z"
    }
   },
   "id": "37d5b26c42131ffd",
   "execution_count": 226
  },
  {
   "cell_type": "code",
   "outputs": [],
   "source": [
    "# Sets sind ein Sonderfall, da sie über keinen Index verfügen, aber iterierbar sind!\n",
    "my_set = {'Hallo', 'Welt', 42}"
   ],
   "metadata": {
    "collapsed": false,
    "ExecuteTime": {
     "end_time": "2024-03-13T20:19:26.344261Z",
     "start_time": "2024-03-13T20:19:26.340575Z"
    }
   },
   "id": "7622fcfae6ca8f5f",
   "execution_count": 230
  },
  {
   "cell_type": "code",
   "outputs": [
    {
     "name": "stdout",
     "output_type": "stream",
     "text": [
      "42\n",
      "Welt\n",
      "Hallo\n"
     ]
    }
   ],
   "source": [
    "for elem in my_set:\n",
    "    print(elem)"
   ],
   "metadata": {
    "collapsed": false,
    "ExecuteTime": {
     "end_time": "2024-03-13T20:19:40.566724Z",
     "start_time": "2024-03-13T20:19:40.563015Z"
    }
   },
   "id": "72323809eb086342",
   "execution_count": 231
  },
  {
   "cell_type": "code",
   "execution_count": 21,
   "outputs": [],
   "source": [
    "# Mit For-Loop"
   ],
   "metadata": {
    "collapsed": false,
    "ExecuteTime": {
     "end_time": "2024-03-13T14:33:09.005692Z",
     "start_time": "2024-03-13T14:33:09.002518Z"
    }
   },
   "id": "a9b2924b251cf7ed"
  },
  {
   "cell_type": "code",
   "execution_count": 22,
   "outputs": [
    {
     "name": "stdout",
     "output_type": "stream",
     "text": [
      "(0, 'Anna')\n",
      "(1, 'Tina')\n",
      "(2, 3.7)\n",
      "(3, True)\n",
      "(4, 4)\n",
      "(5, {'Pikachu': '1000 HP'})\n",
      "(6, 'Tina')\n"
     ]
    }
   ],
   "source": [
    "for x in enumerate(komische_liste):\n",
    "    print(x)"
   ],
   "metadata": {
    "collapsed": false,
    "ExecuteTime": {
     "end_time": "2024-03-13T14:33:09.012862Z",
     "start_time": "2024-03-13T14:33:09.007699Z"
    }
   },
   "id": "8c7800bd671c7a7d"
  },
  {
   "cell_type": "code",
   "execution_count": 23,
   "outputs": [
    {
     "data": {
      "text/plain": "[1, 6]"
     },
     "execution_count": 23,
     "metadata": {},
     "output_type": "execute_result"
    }
   ],
   "source": [
    "indices = []\n",
    "\n",
    "for i, wort in enumerate(komische_liste):\n",
    "    if wort == 'Tina':\n",
    "        indices.append(i)\n",
    "indices"
   ],
   "metadata": {
    "collapsed": false,
    "ExecuteTime": {
     "end_time": "2024-03-13T14:33:09.021559Z",
     "start_time": "2024-03-13T14:33:09.015869Z"
    }
   },
   "id": "d95875392883ecfe"
  },
  {
   "cell_type": "code",
   "execution_count": 24,
   "outputs": [],
   "source": [
    "# ÜBUNG:\n",
    "# Gegeben ist folgende Liste: ['Anna', 'Tina', 'Anton', 'Lana', 'Anna', 'Toni', Minna', 'Lena', 'Hanna']\n",
    "# Einfach: Finde mittels For-Loop alle Positionen, an denen 'Anna' vorkommt\n",
    "# Etwas schwieriger: Finde mittels For-Loop alle Positionen von Strings, die mit 'nna' enden."
   ],
   "metadata": {
    "collapsed": false,
    "ExecuteTime": {
     "end_time": "2024-03-13T14:33:09.026557Z",
     "start_time": "2024-03-13T14:33:09.022565Z"
    }
   },
   "id": "f93e1c0fbc63e69e"
  },
  {
   "cell_type": "code",
   "execution_count": 25,
   "outputs": [
    {
     "data": {
      "text/plain": "[0, 4]"
     },
     "execution_count": 25,
     "metadata": {},
     "output_type": "execute_result"
    }
   ],
   "source": [
    "namensliste = ['Anna', 'Tina', 'Anton', 'Lana', 'Anna', 'Toni', 'Minna', 'Lena', 'Hanna']\n",
    "index_liste = []\n",
    "for index, name in enumerate(namensliste):\n",
    "   if name == 'Anna':\n",
    "       index_liste.append(index)\n",
    "index_liste"
   ],
   "metadata": {
    "collapsed": false,
    "ExecuteTime": {
     "end_time": "2024-03-13T14:33:09.035963Z",
     "start_time": "2024-03-13T14:33:09.028567Z"
    }
   },
   "id": "73ff878049794ddf"
  },
  {
   "cell_type": "code",
   "execution_count": 26,
   "outputs": [
    {
     "data": {
      "text/plain": "[0, 4, 6, 8]"
     },
     "execution_count": 26,
     "metadata": {},
     "output_type": "execute_result"
    }
   ],
   "source": [
    "namensliste = ['Anna', 'Tina', 'Anton', 'Lana', 'Anna', 'Toni', 'Minna', 'Lena', 'Hanna']\n",
    "index_liste = []\n",
    "for index, name in enumerate(namensliste):\n",
    "   if name[-3:] == 'nna':\n",
    "       index_liste.append(index)\n",
    "index_liste"
   ],
   "metadata": {
    "collapsed": false,
    "ExecuteTime": {
     "end_time": "2024-03-13T14:33:09.043642Z",
     "start_time": "2024-03-13T14:33:09.037971Z"
    }
   },
   "id": "8a006807bbf40b29"
  },
  {
   "cell_type": "code",
   "execution_count": 27,
   "outputs": [],
   "source": [
    "# Mit List Comprehension"
   ],
   "metadata": {
    "collapsed": false,
    "ExecuteTime": {
     "end_time": "2024-03-13T14:33:09.050688Z",
     "start_time": "2024-03-13T14:33:09.045649Z"
    }
   },
   "id": "94fb9589a389000b"
  },
  {
   "cell_type": "code",
   "execution_count": 28,
   "outputs": [
    {
     "data": {
      "text/plain": "[1, 6]"
     },
     "execution_count": 28,
     "metadata": {},
     "output_type": "execute_result"
    }
   ],
   "source": [
    "[i for i, wort in enumerate(komische_liste) if wort == 'Tina']"
   ],
   "metadata": {
    "collapsed": false,
    "ExecuteTime": {
     "end_time": "2024-03-13T14:33:09.057726Z",
     "start_time": "2024-03-13T14:33:09.051695Z"
    }
   },
   "id": "cbc8af3c2c0b3e99"
  },
  {
   "cell_type": "code",
   "execution_count": 29,
   "outputs": [],
   "source": [
    "# Mit numpy"
   ],
   "metadata": {
    "collapsed": false,
    "ExecuteTime": {
     "end_time": "2024-03-13T14:33:09.063041Z",
     "start_time": "2024-03-13T14:33:09.058736Z"
    }
   },
   "id": "8359760550843135"
  },
  {
   "cell_type": "code",
   "execution_count": 30,
   "outputs": [
    {
     "data": {
      "text/plain": "(array([1, 6], dtype=int64),)"
     },
     "execution_count": 30,
     "metadata": {},
     "output_type": "execute_result"
    }
   ],
   "source": [
    "np.where(np.array(komische_liste) == 'Tina')"
   ],
   "metadata": {
    "collapsed": false,
    "ExecuteTime": {
     "end_time": "2024-03-13T14:33:09.072022Z",
     "start_time": "2024-03-13T14:33:09.066050Z"
    }
   },
   "id": "b52fd6410cbc297f"
  },
  {
   "cell_type": "code",
   "execution_count": 31,
   "outputs": [],
   "source": [
    "# Das letzte Vorkommnis von 'Tina'"
   ],
   "metadata": {
    "collapsed": false,
    "ExecuteTime": {
     "end_time": "2024-03-13T14:33:09.076696Z",
     "start_time": "2024-03-13T14:33:09.073030Z"
    }
   },
   "id": "1a901f691b661512"
  },
  {
   "cell_type": "code",
   "execution_count": 32,
   "outputs": [
    {
     "data": {
      "text/plain": "6"
     },
     "execution_count": 32,
     "metadata": {},
     "output_type": "execute_result"
    }
   ],
   "source": [
    "index_liste = [i for i, wort in enumerate(komische_liste) if wort == 'Tina']\n",
    "index_liste[-1]"
   ],
   "metadata": {
    "collapsed": false,
    "ExecuteTime": {
     "end_time": "2024-03-13T14:33:09.085377Z",
     "start_time": "2024-03-13T14:33:09.077704Z"
    }
   },
   "id": "2da4220414054a3e"
  },
  {
   "cell_type": "code",
   "execution_count": 33,
   "outputs": [
    {
     "data": {
      "text/plain": "2"
     },
     "execution_count": 33,
     "metadata": {},
     "output_type": "execute_result"
    }
   ],
   "source": [
    "# Anzahl der Vorkommnisse ermitteln?\n",
    "len(index_liste)"
   ],
   "metadata": {
    "collapsed": false,
    "ExecuteTime": {
     "end_time": "2024-03-13T14:33:09.094456Z",
     "start_time": "2024-03-13T14:33:09.087387Z"
    }
   },
   "id": "d0414698d770c387"
  },
  {
   "cell_type": "code",
   "execution_count": 34,
   "outputs": [
    {
     "data": {
      "text/plain": "[9.6, 8.0, 64.0, 52.0, 11.2, 4.0, 9.6]"
     },
     "execution_count": 34,
     "metadata": {},
     "output_type": "execute_result"
    }
   ],
   "source": [
    "# ÜBUNG\n",
    "# Du hast eine Liste von Preisen: [12, 10, 80, 65, 14, 5, 12]\n",
    "# Es gibt eine Rabattaktion. Senke alle Elemente in der Liste um 20 Prozent.\n",
    "# Benutze hierfür list comprehension. Runde auf zwei Nachkommastellen.\n",
    "\n",
    "preisliste = [12, 10, 80, 65, 14, 5, 12]\n",
    "rabattliste = [round(0.8*preis, 2) for preis in preisliste]\n",
    "rabattliste"
   ],
   "metadata": {
    "collapsed": false,
    "ExecuteTime": {
     "end_time": "2024-03-13T14:33:09.105624Z",
     "start_time": "2024-03-13T14:33:09.098483Z"
    }
   },
   "id": "77bc349bef686001"
  },
  {
   "cell_type": "code",
   "outputs": [],
   "source": [
    "# Mehr Dictionaries\n",
    "anna_blume = dict(nachname='Blume',\n",
    "                  vorname='Anna',\n",
    "                  alter=30, \n",
    "                  beruf='Data Analyst',\n",
    "                  fertigkeiten=['Python', 'Pandas', 'Numpy', 'Scikit-Learn',\n",
    "                                'Power BI', 'SQL', 'Matplotlib & Seaborn'],\n",
    "                  hobbies=['Reisen', 'Tanzen', 'Bücher lesen'],\n",
    "                  gewicht=67.5,\n",
    "                  verheiratet=True)"
   ],
   "metadata": {
    "collapsed": false,
    "ExecuteTime": {
     "end_time": "2024-03-13T17:07:52.538549Z",
     "start_time": "2024-03-13T17:07:52.531812Z"
    }
   },
   "id": "d7022c7927eecb92",
   "execution_count": 197
  },
  {
   "cell_type": "code",
   "outputs": [
    {
     "data": {
      "text/plain": "{'nachname': 'Blume',\n 'vorname': 'Anna',\n 'alter': 30,\n 'beruf': 'Data Analyst',\n 'fertigkeiten': ['Python',\n  'Pandas',\n  'Numpy',\n  'Scikit-Learn',\n  'Power BI',\n  'SQL',\n  'Matplotlib & Seaborn'],\n 'hobbies': ['Reisen', 'Tanzen', 'Bücher lesen'],\n 'gewicht': 67.5,\n 'verheiratet': True}"
     },
     "execution_count": 198,
     "metadata": {},
     "output_type": "execute_result"
    }
   ],
   "source": [
    "anna_blume"
   ],
   "metadata": {
    "collapsed": false,
    "ExecuteTime": {
     "end_time": "2024-03-13T17:07:53.412436Z",
     "start_time": "2024-03-13T17:07:53.407200Z"
    }
   },
   "id": "f30a2f425c8592ec",
   "execution_count": 198
  },
  {
   "cell_type": "code",
   "outputs": [],
   "source": [
    "# Wie fügt man dem Ganzen einen Eintrag 'haustier' mit Wert 'Hund' hinzu?\n",
    "anna_blume['haustier'] = 'Hund'"
   ],
   "metadata": {
    "collapsed": false,
    "ExecuteTime": {
     "end_time": "2024-03-13T17:07:54.077153Z",
     "start_time": "2024-03-13T17:07:54.073128Z"
    }
   },
   "id": "7a3730b3ea97cd8f",
   "execution_count": 199
  },
  {
   "cell_type": "code",
   "outputs": [],
   "source": [
    "# Wie erhöht man das Alter Annas von 30 auf 31?\n",
    "anna_blume['alter'] = 31"
   ],
   "metadata": {
    "collapsed": false,
    "ExecuteTime": {
     "end_time": "2024-03-13T17:07:54.952550Z",
     "start_time": "2024-03-13T17:07:54.947910Z"
    }
   },
   "id": "36e89f289fae52c7",
   "execution_count": 200
  },
  {
   "cell_type": "code",
   "outputs": [
    {
     "data": {
      "text/plain": "True"
     },
     "execution_count": 201,
     "metadata": {},
     "output_type": "execute_result"
    }
   ],
   "source": [
    "# Wie entfernt man die Information zum Verheiratet-Status?\n",
    "anna_blume.pop('verheiratet')"
   ],
   "metadata": {
    "collapsed": false,
    "ExecuteTime": {
     "end_time": "2024-03-13T17:07:55.526689Z",
     "start_time": "2024-03-13T17:07:55.520787Z"
    }
   },
   "id": "437921bdd77605a",
   "execution_count": 201
  },
  {
   "cell_type": "code",
   "outputs": [
    {
     "ename": "KeyError",
     "evalue": "'verheiratet'",
     "output_type": "error",
     "traceback": [
      "\u001B[1;31m---------------------------------------------------------------------------\u001B[0m",
      "\u001B[1;31mKeyError\u001B[0m                                  Traceback (most recent call last)",
      "Cell \u001B[1;32mIn[202], line 1\u001B[0m\n\u001B[1;32m----> 1\u001B[0m \u001B[43manna_blume\u001B[49m\u001B[43m[\u001B[49m\u001B[38;5;124;43m'\u001B[39;49m\u001B[38;5;124;43mverheiratet\u001B[39;49m\u001B[38;5;124;43m'\u001B[39;49m\u001B[43m]\u001B[49m\n",
      "\u001B[1;31mKeyError\u001B[0m: 'verheiratet'"
     ]
    }
   ],
   "source": [
    "anna_blume['verheiratet']"
   ],
   "metadata": {
    "collapsed": false,
    "ExecuteTime": {
     "end_time": "2024-03-13T17:07:56.188237Z",
     "start_time": "2024-03-13T17:07:56.172983Z"
    }
   },
   "id": "d2ac06fed1aa9f88",
   "execution_count": 202
  },
  {
   "cell_type": "code",
   "outputs": [
    {
     "data": {
      "text/plain": "{'nachname': 'Blume',\n 'vorname': 'Anna',\n 'alter': 31,\n 'beruf': 'Data Analyst',\n 'fertigkeiten': ['Python',\n  'Pandas',\n  'Numpy',\n  'Scikit-Learn',\n  'Power BI',\n  'SQL',\n  'Matplotlib & Seaborn'],\n 'hobbies': ['Reisen', 'Tanzen', 'Bücher lesen'],\n 'gewicht': 67.5,\n 'haustier': 'Hund'}"
     },
     "execution_count": 203,
     "metadata": {},
     "output_type": "execute_result"
    }
   ],
   "source": [
    "anna_blume"
   ],
   "metadata": {
    "collapsed": false,
    "ExecuteTime": {
     "end_time": "2024-03-13T17:07:56.784798Z",
     "start_time": "2024-03-13T17:07:56.779475Z"
    }
   },
   "id": "c7c18ef6a4c4df6b",
   "execution_count": 203
  },
  {
   "cell_type": "code",
   "outputs": [],
   "source": [
    "# Füge dem Dictionary einen weiteren Eintrag 'lieblingsessen' hinzu mit dem Wert 'Chinesisch':\n",
    "anna_blume['lieblingessen'] = 'Chinesisch'"
   ],
   "metadata": {
    "collapsed": false,
    "ExecuteTime": {
     "end_time": "2024-03-13T17:07:57.449003Z",
     "start_time": "2024-03-13T17:07:57.444267Z"
    }
   },
   "id": "6c71473d973872b4",
   "execution_count": 204
  },
  {
   "cell_type": "code",
   "outputs": [],
   "source": [
    "# Anna hat zugelegt. Erhöhe das Gewicht auf 95.5 kg:\n",
    "anna_blume['gewicht'] = 95.5"
   ],
   "metadata": {
    "collapsed": false,
    "ExecuteTime": {
     "end_time": "2024-03-13T17:07:58.047944Z",
     "start_time": "2024-03-13T17:07:58.044111Z"
    }
   },
   "id": "177652bd0fa93204",
   "execution_count": 205
  },
  {
   "cell_type": "code",
   "outputs": [
    {
     "data": {
      "text/plain": "'Hund'"
     },
     "execution_count": 206,
     "metadata": {},
     "output_type": "execute_result"
    }
   ],
   "source": [
    "# Der Hund ist gestorben... Entferne das Haustier:\n",
    "anna_blume.pop('haustier')"
   ],
   "metadata": {
    "collapsed": false,
    "ExecuteTime": {
     "end_time": "2024-03-13T17:07:58.638931Z",
     "start_time": "2024-03-13T17:07:58.632238Z"
    }
   },
   "id": "e394c221677e9079",
   "execution_count": 206
  },
  {
   "cell_type": "code",
   "outputs": [
    {
     "data": {
      "text/plain": "['Reisen', 'Bücher lesen']"
     },
     "execution_count": 210,
     "metadata": {},
     "output_type": "execute_result"
    }
   ],
   "source": [
    "# Anna geht nicht mehr gern tanzen. Entferne dieses Hobby. \n",
    "anna_blume['hobbies'].remove('Tanzen')"
   ],
   "metadata": {
    "collapsed": false,
    "ExecuteTime": {
     "end_time": "2024-03-13T17:08:12.588021Z",
     "start_time": "2024-03-13T17:08:12.582913Z"
    }
   },
   "id": "f7392cc5c6c02325",
   "execution_count": 210
  },
  {
   "cell_type": "code",
   "outputs": [],
   "source": [
    "# Füge stattdessen das Hobby 'Musizieren' hinzu:\n",
    "anna_blume['hobbies'].append('Musizieren')"
   ],
   "metadata": {
    "collapsed": false,
    "ExecuteTime": {
     "end_time": "2024-03-13T17:08:43.239371Z",
     "start_time": "2024-03-13T17:08:43.235111Z"
    }
   },
   "id": "985e7e5246fea7fe",
   "execution_count": 211
  },
  {
   "cell_type": "code",
   "outputs": [
    {
     "data": {
      "text/plain": "['Reisen', 'Bücher lesen', 'Musizieren']"
     },
     "execution_count": 212,
     "metadata": {},
     "output_type": "execute_result"
    }
   ],
   "source": [
    "# Schaue dir ihre Hobbies an:\n",
    "anna_blume['hobbies']"
   ],
   "metadata": {
    "collapsed": false,
    "ExecuteTime": {
     "end_time": "2024-03-13T17:08:55.641296Z",
     "start_time": "2024-03-13T17:08:55.634744Z"
    }
   },
   "id": "7f5bc4b67450e3b8",
   "execution_count": 212
  },
  {
   "cell_type": "code",
   "execution_count": 35,
   "outputs": [],
   "source": [
    "# While Loop bauen      "
   ],
   "metadata": {
    "collapsed": false,
    "ExecuteTime": {
     "end_time": "2024-03-13T14:33:09.118223Z",
     "start_time": "2024-03-13T14:33:09.113148Z"
    }
   },
   "id": "a653deee0d0f5ac5"
  },
  {
   "cell_type": "code",
   "execution_count": 36,
   "outputs": [
    {
     "name": "stdout",
     "output_type": "stream",
     "text": [
      "0\n",
      "1\n",
      "2\n",
      "3\n",
      "4\n",
      "5\n",
      "6\n",
      "7\n",
      "8\n",
      "9\n",
      "10\n",
      "11\n",
      "12\n",
      "13\n",
      "14\n",
      "15\n",
      "16\n",
      "17\n",
      "18\n",
      "19\n",
      "Vorbei!\n"
     ]
    }
   ],
   "source": [
    "# Ein Counter zählt bis 20, wenn 20 erreicht ist, wird \"Vorbei\" ausgegeben.\n",
    "counter = 0\n",
    "while counter < 20:\n",
    "    print(counter)\n",
    "    sleep(1)\n",
    "    counter += 1\n",
    "print('Vorbei!')"
   ],
   "metadata": {
    "collapsed": false,
    "ExecuteTime": {
     "end_time": "2024-03-13T14:33:29.136885Z",
     "start_time": "2024-03-13T14:33:09.119230Z"
    }
   },
   "id": "374be5a6c375dd8e"
  },
  {
   "cell_type": "code",
   "execution_count": 87,
   "outputs": [
    {
     "name": "stdout",
     "output_type": "stream",
     "text": [
      "Zu früh!\n",
      "Zu früh!\n",
      "Zu früh!\n",
      "Zu früh!\n",
      "Zu früh!\n",
      "Zu früh!\n",
      "Zu früh!\n",
      "Zu früh!\n",
      "Zu früh!\n",
      "Zu früh!\n",
      "Hurra!\n"
     ]
    }
   ],
   "source": [
    "# Alle drei Sekunden wird geprüft, ob eine Ziel-Uhrzeit erreicht wurde.\n",
    "# Solange sie nicht erreicht ist, erscheint die Nachricht \"Zu früh\".\n",
    "# Wenn sie erreicht ist, lautet die Botschaft \"Hurra!\"\n",
    "ziel_zeitpunkt = datetime(2024, 3, 13, 15, 43, 0)\n",
    "while datetime.now() < ziel_zeitpunkt:\n",
    "    sleep(3)\n",
    "    print('Zu früh!')\n",
    "print('Hurra!')"
   ],
   "metadata": {
    "collapsed": false,
    "ExecuteTime": {
     "end_time": "2024-03-13T14:43:02.412895Z",
     "start_time": "2024-03-13T14:42:32.399597Z"
    }
   },
   "id": "6097076a3d2966cc"
  },
  {
   "cell_type": "code",
   "execution_count": 82,
   "outputs": [
    {
     "name": "stdout",
     "output_type": "stream",
     "text": [
      "Das ist aber nicht schön...\n",
      "Das ist aber nicht schön...\n",
      "Das ist aber nicht schön...\n",
      "Das ist aber nicht schön...\n",
      "Das ist aber nicht schön...\n",
      "Das ist aber nicht schön...\n",
      "Das ist aber nicht schön...\n",
      "Na also, geht doch!\n"
     ]
    }
   ],
   "source": [
    "# ÜBUNG\n",
    "# Schreibe eine \"Besserungsloop\". Der Nutzer wird so lange gefragt, wie es ihm geht, bis er 'gut' eingibt. Wenn er 'gut' eingegeben hat, kriegt er als Antwort: \"Na also, geht doch.\" Und die Loop hört auf.\n",
    "\n",
    "while True:\n",
    "    antwort = input('Wie geht es dir?')\n",
    "    if antwort == 'gut':\n",
    "        print('Na also, geht doch!')\n",
    "        break\n",
    "    print('Das ist aber nicht schön...')"
   ],
   "metadata": {
    "collapsed": false,
    "ExecuteTime": {
     "end_time": "2024-03-13T14:40:00.886432Z",
     "start_time": "2024-03-13T14:39:48.719464Z"
    }
   },
   "id": "e42e915fba540f7f"
  },
  {
   "cell_type": "code",
   "outputs": [
    {
     "name": "stdout",
     "output_type": "stream",
     "text": [
      "Na also, geht doch!\n"
     ]
    }
   ],
   "source": [
    "while (antwort := input('Wie geht es dir?')) != 'gut':\n",
    "    print('Das ist aber nicht schön...')\n",
    "print('Na also, geht doch!')"
   ],
   "metadata": {
    "collapsed": false,
    "ExecuteTime": {
     "end_time": "2024-03-13T14:38:39.758537Z",
     "start_time": "2024-03-13T14:38:33.847716Z"
    }
   },
   "id": "4e5b3bf0671a67e0",
   "execution_count": 79
  },
  {
   "cell_type": "markdown",
   "source": [
    "## Funktionen"
   ],
   "metadata": {
    "collapsed": false
   },
   "id": "d827810e3c609677"
  },
  {
   "cell_type": "code",
   "outputs": [],
   "source": [
    "# Schreibe eine Funktion, die den BMI eines Menschen errechnet:\n",
    "def bmi(mass:float, size:float) -> float:\n",
    "    return mass / size**2"
   ],
   "metadata": {
    "collapsed": false,
    "ExecuteTime": {
     "end_time": "2024-03-13T14:49:16.782383Z",
     "start_time": "2024-03-13T14:49:16.777580Z"
    }
   },
   "id": "ccfb55918e1840dd",
   "execution_count": 88
  },
  {
   "cell_type": "code",
   "outputs": [],
   "source": [
    "# Schreibe eine Funktion, die Fuß in Zentimeter umrechnet.\n",
    "# Rechne dann 5 Fuß in Zentimeter um.\n",
    "def feet_to_meter(size:float):\n",
    "    return size * 30.48"
   ],
   "metadata": {
    "collapsed": false,
    "ExecuteTime": {
     "end_time": "2024-03-13T14:56:39.418563Z",
     "start_time": "2024-03-13T14:56:39.414608Z"
    }
   },
   "id": "fe3847b6f13174d7",
   "execution_count": 94
  },
  {
   "cell_type": "code",
   "outputs": [
    {
     "data": {
      "text/plain": "152.4"
     },
     "execution_count": 95,
     "metadata": {},
     "output_type": "execute_result"
    }
   ],
   "source": [
    "feet_to_meter(5)"
   ],
   "metadata": {
    "collapsed": false,
    "ExecuteTime": {
     "end_time": "2024-03-13T14:57:47.777315Z",
     "start_time": "2024-03-13T14:57:47.772241Z"
    }
   },
   "id": "2c2937503334a6e0",
   "execution_count": 95
  },
  {
   "cell_type": "code",
   "outputs": [],
   "source": [
    "# Schreibe eine Funktion, die Fuß in Zentimeter umrechnet:\n",
    "# Optional: Führe einen Parameter inverse um, über den man die Berechnung umdrehen kann.\n",
    "def feet_to_meter(size:float, inverse=False) -> float:\n",
    "    if not inverse:\n",
    "        return size * 30.48\n",
    "    return size / 30.48"
   ],
   "metadata": {
    "collapsed": false,
    "ExecuteTime": {
     "end_time": "2024-03-13T14:58:52.485026Z",
     "start_time": "2024-03-13T14:58:52.480842Z"
    }
   },
   "id": "565c4a6e1661ac25",
   "execution_count": 98
  },
  {
   "cell_type": "code",
   "outputs": [
    {
     "data": {
      "text/plain": "5.0"
     },
     "execution_count": 99,
     "metadata": {},
     "output_type": "execute_result"
    }
   ],
   "source": [
    "feet_to_meter(152.4, inverse=True)"
   ],
   "metadata": {
    "collapsed": false,
    "ExecuteTime": {
     "end_time": "2024-03-13T14:59:08.523261Z",
     "start_time": "2024-03-13T14:59:08.517104Z"
    }
   },
   "id": "1b086cbbcf673a71",
   "execution_count": 99
  },
  {
   "cell_type": "code",
   "outputs": [],
   "source": [
    "# Schreibe eine Funktion, die die Anzahl von Worten in einem Text zählt:\n",
    "def count_words(text:str) -> int:\n",
    "    token_list = text.split(' ')\n",
    "    return len(token_list)"
   ],
   "metadata": {
    "collapsed": false,
    "ExecuteTime": {
     "end_time": "2024-03-13T15:01:34.917788Z",
     "start_time": "2024-03-13T15:01:34.912511Z"
    }
   },
   "id": "6a2e13e988590b39",
   "execution_count": 100
  },
  {
   "cell_type": "code",
   "outputs": [
    {
     "data": {
      "text/plain": "8"
     },
     "execution_count": 101,
     "metadata": {},
     "output_type": "execute_result"
    }
   ],
   "source": [
    "satz = 'Das ist ein Satz mit einigen Worten drin.'\n",
    "count_words(satz)"
   ],
   "metadata": {
    "collapsed": false,
    "ExecuteTime": {
     "end_time": "2024-03-13T15:02:03.536398Z",
     "start_time": "2024-03-13T15:02:03.530958Z"
    }
   },
   "id": "a2069d9ed3afdbdd",
   "execution_count": 101
  },
  {
   "cell_type": "code",
   "outputs": [],
   "source": [
    "# Schreibe eine Funktion, die die Anzahl von Worten in einem Text zählt\n",
    "from collections import Counter\n",
    "def get_word_frequencies(text:str):\n",
    "    text_list = text.split(' ')\n",
    "    return Counter(text_list)"
   ],
   "metadata": {
    "collapsed": false,
    "ExecuteTime": {
     "end_time": "2024-03-13T15:02:41.271958Z",
     "start_time": "2024-03-13T15:02:41.267617Z"
    }
   },
   "id": "45d73416eb219cab",
   "execution_count": 103
  },
  {
   "cell_type": "code",
   "outputs": [
    {
     "data": {
      "text/plain": "Counter({'Das': 1,\n         'ist': 1,\n         'ein': 1,\n         'Satz': 1,\n         'mit': 1,\n         'einigen': 1,\n         'Worten': 1,\n         'drin.': 1})"
     },
     "execution_count": 104,
     "metadata": {},
     "output_type": "execute_result"
    }
   ],
   "source": [
    "get_word_frequencies(satz)"
   ],
   "metadata": {
    "collapsed": false,
    "ExecuteTime": {
     "end_time": "2024-03-13T15:02:41.844861Z",
     "start_time": "2024-03-13T15:02:41.836688Z"
    }
   },
   "id": "c60d5b39b49dc48",
   "execution_count": 104
  },
  {
   "cell_type": "code",
   "outputs": [],
   "source": [
    "# Schreibe eine Funktion, die alle Satzzeichen in einem String entfernt\n",
    "# und ihn dann erst in einzelne Token auftrennt:\n",
    "from string import punctuation\n",
    "def tokenize_string(text:str) -> list:\n",
    "    for char in text:\n",
    "        if char in punctuation:\n",
    "            text = text.replace(char, '')\n",
    "    return text.split()"
   ],
   "metadata": {
    "collapsed": false,
    "ExecuteTime": {
     "end_time": "2024-03-13T15:07:21.515156Z",
     "start_time": "2024-03-13T15:07:21.510483Z"
    }
   },
   "id": "7cf7d6b4f42fe302",
   "execution_count": 116
  },
  {
   "cell_type": "code",
   "outputs": [],
   "source": [
    "absatz = '''Wir stellen Dir die Hardware\n",
    "kostenlos zur Verfügung.\n",
    "\n",
    "Du bekommst von uns kostenlos einen leistungsstarken Laptop zur Verfügung gestellt, den Du sogar bei erfolgreichem Bestehen des Kurses behalten darfst.\n",
    "\n",
    "Um Dir Deinen Start maximal zu erleichtern ist dieser bereits vollumfänglich konfiguriert und enthält alle relevanten Programme und Einstellungen.'''"
   ],
   "metadata": {
    "collapsed": false,
    "ExecuteTime": {
     "end_time": "2024-03-13T15:06:38.739743Z",
     "start_time": "2024-03-13T15:06:38.735268Z"
    }
   },
   "id": "c24f0298bc30d133",
   "execution_count": 110
  },
  {
   "cell_type": "code",
   "outputs": [
    {
     "data": {
      "text/plain": "['Wir',\n 'stellen',\n 'Dir',\n 'die',\n 'Hardware',\n 'kostenlos',\n 'zur',\n 'Verfügung',\n 'Du',\n 'bekommst',\n 'von',\n 'uns',\n 'kostenlos',\n 'einen',\n 'leistungsstarken',\n 'Laptop',\n 'zur',\n 'Verfügung',\n 'gestellt',\n 'den',\n 'Du',\n 'sogar',\n 'bei',\n 'erfolgreichem',\n 'Bestehen',\n 'des',\n 'Kurses',\n 'behalten',\n 'darfst',\n 'Um',\n 'Dir',\n 'Deinen',\n 'Start',\n 'maximal',\n 'zu',\n 'erleichtern',\n 'ist',\n 'dieser',\n 'bereits',\n 'vollumfänglich',\n 'konfiguriert',\n 'und',\n 'enthält',\n 'alle',\n 'relevanten',\n 'Programme',\n 'und',\n 'Einstellungen']"
     },
     "execution_count": 117,
     "metadata": {},
     "output_type": "execute_result"
    }
   ],
   "source": [
    "tokenize_string(absatz)"
   ],
   "metadata": {
    "collapsed": false,
    "ExecuteTime": {
     "end_time": "2024-03-13T15:07:23.260212Z",
     "start_time": "2024-03-13T15:07:23.252564Z"
    }
   },
   "id": "b0f4eae9bf39c47c",
   "execution_count": 117
  },
  {
   "cell_type": "code",
   "outputs": [
    {
     "name": "stdout",
     "output_type": "stream",
     "text": [
      "31\n"
     ]
    }
   ],
   "source": [
    "# Schreibe eine Funktion, die dir ausrechnet, wie viel Geld du pro Tag hast.\n",
    "# Der Nutzer übergibt den aktuellen Kontostand und die Funktion ermittelt, wie viele\n",
    "# Tage noch bis Monatsende sind und berechnet dann den Betrag, der pro Tag verfügbar ist.\n",
    "# Der aktuelle Tag soll auch als vollwertiger Tag in die Berechnung einfließen.\n",
    "# Die Funktion soll nur für Werte über 0 sinnvolle Zahlen ausspucken.\n",
    "# In allen anderen Fällen soll sie den Nutzer darüber informieren, dass er kein Geld zur Verfügung hat.\n",
    "\n",
    "from datetime import date\n",
    "from calendar import monthrange\n",
    "\n",
    "def calculate_daily_amount(balance:float) -> float:\n",
    "    if balance > 0:\n",
    "        end_of_month = monthrange(2024, 3)[1]\n",
    "        today = date.today().day\n",
    "        # added 1 to account for the current day:\n",
    "        days_to_go = end_of_month - today + 1\n",
    "        daily_amount = balance / days_to_go\n",
    "        return daily_amount\n",
    "    else:\n",
    "        print('Dude, you have no money!')"
   ],
   "metadata": {
    "collapsed": false,
    "ExecuteTime": {
     "end_time": "2024-03-13T15:13:33.584324Z",
     "start_time": "2024-03-13T15:13:33.579700Z"
    }
   },
   "id": "6dedde42644242a4",
   "execution_count": 123
  },
  {
   "cell_type": "code",
   "outputs": [
    {
     "data": {
      "text/plain": "39.473684210526315"
     },
     "execution_count": 129,
     "metadata": {},
     "output_type": "execute_result"
    }
   ],
   "source": [
    "calculate_daily_amount(750)"
   ],
   "metadata": {
    "collapsed": false,
    "ExecuteTime": {
     "end_time": "2024-03-13T15:19:54.608903Z",
     "start_time": "2024-03-13T15:19:54.603313Z"
    }
   },
   "id": "9716b8c9577d13f8",
   "execution_count": 129
  },
  {
   "cell_type": "code",
   "outputs": [
    {
     "name": "stdout",
     "output_type": "stream",
     "text": [
      "Dude, you have no money!\n"
     ]
    }
   ],
   "source": [
    "calculate_daily_amount(-120)"
   ],
   "metadata": {
    "collapsed": false,
    "ExecuteTime": {
     "end_time": "2024-03-13T15:20:00.712463Z",
     "start_time": "2024-03-13T15:20:00.708244Z"
    }
   },
   "id": "eb9ffb8948d5de48",
   "execution_count": 130
  }
 ],
 "metadata": {
  "kernelspec": {
   "display_name": "Python 3",
   "language": "python",
   "name": "python3"
  },
  "language_info": {
   "codemirror_mode": {
    "name": "ipython",
    "version": 2
   },
   "file_extension": ".py",
   "mimetype": "text/x-python",
   "name": "python",
   "nbconvert_exporter": "python",
   "pygments_lexer": "ipython2",
   "version": "2.7.6"
  }
 },
 "nbformat": 4,
 "nbformat_minor": 5
}
