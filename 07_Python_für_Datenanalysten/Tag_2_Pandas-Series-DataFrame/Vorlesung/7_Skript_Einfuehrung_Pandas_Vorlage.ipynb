{
 "cells": [
  {
   "cell_type": "markdown",
   "metadata": {},
   "source": [
    "# Pandas\n",
    "\n",
    "<br> Pandas ist eine Bibliothek für Daten-Manipulation und -Analyse durch spezielle Funktionen und Datenstrukturen.\n",
    "<br> Der Name \"Pandas\" ist abgeleitet von \"Panel Data\", was eine [bestimmte Form von Datensätzen](https://de.wikipedia.org/wiki/Paneldaten) beschreibt.\n",
    "\n",
    "Wichtige Elemente von Pandas:\n",
    "<br> * Series (Serien): 1D-Array-ähnliche Objekt, das verschiedene Datentypen aufnehmen kann (int, float, strings, object etc.)\n",
    "<br> * Die wichtigsten Datenstrukturen in Pandas: `pd.Series` (Serien), `pd.DataFrame`\n",
    "\n",
    "Im Hintergrund spielt aber beim Aufbau von Series auch numpy eine entscheidende Rolle.\n"
   ]
  },
  {
   "cell_type": "code",
   "execution_count": null,
   "metadata": {
    "ExecuteTime": {
     "end_time": "2024-11-11T11:57:22.708130Z",
     "start_time": "2024-11-11T11:57:21.209207Z"
    }
   },
   "outputs": [],
   "source": [
    "import pandas as pd\n",
    "import numpy as np"
   ]
  },
  {
   "cell_type": "markdown",
   "metadata": {},
   "source": [
    "\n",
    "## Die Serie - `pd.Series`\n",
    "\n",
    "<br> Eine Serie beinhaltet zwei eindimensionale Arrays: 1. Index, 2. Daten"
   ]
  },
  {
   "cell_type": "code",
   "execution_count": null,
   "metadata": {
    "ExecuteTime": {
     "end_time": "2024-11-11T12:28:54.413642Z",
     "start_time": "2024-11-11T12:28:54.407504Z"
    }
   },
   "outputs": [],
   "source": [
    "# Eine Serie in pandas erstellen:\n",
    "words_series = pd.Series([\"Hallo\", \"DataCraft\", \"ich\", \"lerne\", \"Pandas\"])\n",
    "\n",
    "words_series"
   ]
  },
  {
   "cell_type": "code",
   "execution_count": null,
   "metadata": {
    "ExecuteTime": {
     "end_time": "2024-11-11T12:49:24.891937Z",
     "start_time": "2024-11-11T12:49:24.887006Z"
    }
   },
   "outputs": [],
   "source": [
    "# Zugriff auf einzelne Elemente über Indexposition:\n",
    "words_series[1]"
   ]
  },
  {
   "cell_type": "code",
   "execution_count": null,
   "metadata": {
    "ExecuteTime": {
     "end_time": "2024-11-11T12:50:18.245911Z",
     "start_time": "2024-11-11T12:50:18.240642Z"
    }
   },
   "outputs": [],
   "source": [
    "# Slicing auch möglich:\n",
    "words_series[2:4]"
   ]
  },
  {
   "cell_type": "code",
   "execution_count": null,
   "metadata": {
    "ExecuteTime": {
     "end_time": "2024-11-11T12:28:55.252825Z",
     "start_time": "2024-11-11T12:28:55.247283Z"
    }
   },
   "outputs": [],
   "source": [
    "# Welcher Datentyp steckt in der Series:\n",
    "words_series.dtype"
   ]
  },
  {
   "cell_type": "code",
   "execution_count": null,
   "metadata": {
    "ExecuteTime": {
     "end_time": "2024-11-11T12:28:55.990875Z",
     "start_time": "2024-11-11T12:28:55.985552Z"
    }
   },
   "outputs": [],
   "source": [
    "# Standardmäßig beginnt ein Index bei 0 und geht so weit, wie es die Anzahl der Einträge erfordert:\n",
    "words_series.index"
   ]
  },
  {
   "cell_type": "code",
   "execution_count": null,
   "metadata": {
    "ExecuteTime": {
     "end_time": "2024-11-11T12:47:32.574181Z",
     "start_time": "2024-11-11T12:47:32.568202Z"
    }
   },
   "outputs": [],
   "source": [
    "list(words_series.index)"
   ]
  },
  {
   "cell_type": "code",
   "execution_count": null,
   "metadata": {
    "ExecuteTime": {
     "end_time": "2024-11-11T12:51:45.944497Z",
     "start_time": "2024-11-11T12:51:45.939203Z"
    }
   },
   "outputs": [],
   "source": [
    "# Wer hält die Werte unter der Haube zusammen?\n",
    "words_series.values"
   ]
  },
  {
   "cell_type": "code",
   "execution_count": null,
   "metadata": {
    "ExecuteTime": {
     "end_time": "2024-11-11T12:29:02.121412Z",
     "start_time": "2024-11-11T12:29:02.115397Z"
    }
   },
   "outputs": [],
   "source": [
    "# Die Attribute ndim, shape, size gibt es auch bei der Series:\n",
    "words_series.ndim"
   ]
  },
  {
   "cell_type": "code",
   "execution_count": null,
   "metadata": {
    "ExecuteTime": {
     "end_time": "2024-11-11T12:28:20.393965Z",
     "start_time": "2024-11-11T12:28:20.389235Z"
    }
   },
   "outputs": [],
   "source": [
    "words_series.shape"
   ]
  },
  {
   "cell_type": "code",
   "execution_count": null,
   "metadata": {
    "ExecuteTime": {
     "end_time": "2024-11-11T12:51:21.463474Z",
     "start_time": "2024-11-11T12:51:21.454616Z"
    }
   },
   "outputs": [],
   "source": [
    "words_series.size"
   ]
  },
  {
   "cell_type": "code",
   "execution_count": null,
   "metadata": {
    "ExecuteTime": {
     "end_time": "2024-11-11T12:53:01.351780Z",
     "start_time": "2024-11-11T12:53:01.345134Z"
    }
   },
   "outputs": [],
   "source": [
    "# Individueller:  Series einen Namen verpassen und einen selbstgewählten Index mitgeben:\n",
    "words_series = pd.Series(data=[\"Hallo\", \"DataCraft\", \"ich\", \"lerne\", \"Pandas\"],\n",
    "                         index=[\"I\", \"II\", \"III\", \"IV\", \"V\"],\n",
    "                         name='words')\n",
    "\n",
    "words_series"
   ]
  },
  {
   "cell_type": "code",
   "execution_count": null,
   "metadata": {
    "ExecuteTime": {
     "end_time": "2024-11-11T12:53:08.041260Z",
     "start_time": "2024-11-11T12:53:08.036047Z"
    }
   },
   "outputs": [],
   "source": [
    "# Zugriff über den neuen Index:\n",
    "words_series['II']"
   ]
  },
  {
   "cell_type": "code",
   "execution_count": null,
   "metadata": {
    "ExecuteTime": {
     "end_time": "2024-11-11T12:53:40.324065Z",
     "start_time": "2024-11-11T12:53:40.319083Z"
    }
   },
   "outputs": [],
   "source": [
    "# Geht auch noch über den numerischen Index, aber das Verhalten wird abgeschafft werden:\n",
    "words_series[1]"
   ]
  },
  {
   "cell_type": "code",
   "execution_count": null,
   "metadata": {
    "ExecuteTime": {
     "end_time": "2024-11-11T12:54:16.217781Z",
     "start_time": "2024-11-11T12:54:16.213286Z"
    }
   },
   "outputs": [],
   "source": [
    "# Besser in diesem Fall:\n",
    "words_series.iloc[1]\n",
    "# Mehr dazu an anderer Stelle!  "
   ]
  },
  {
   "cell_type": "code",
   "execution_count": null,
   "metadata": {
    "ExecuteTime": {
     "end_time": "2024-11-11T12:48:42.373590Z",
     "start_time": "2024-11-11T12:48:42.366754Z"
    }
   },
   "outputs": [],
   "source": [
    "# Eine Serie in pandas vom Typ int erstellen:\n",
    "numbers_series = pd.Series([2, 7, 3, 9, 0, 3, 6], dtype=int, name='numbers')\n",
    "numbers_series"
   ]
  },
  {
   "cell_type": "code",
   "execution_count": null,
   "metadata": {},
   "outputs": [],
   "source": [
    "numbers_series.dtype"
   ]
  },
  {
   "cell_type": "code",
   "execution_count": null,
   "metadata": {},
   "outputs": [],
   "source": [
    "# Man kann auch hier auf Speicherplatz optimieren:\n",
    "numbers_series = pd.Series([2, 7, 3, 9, 0, 3, 6], dtype='int8', name='numbers')\n",
    "numbers_series"
   ]
  },
  {
   "cell_type": "code",
   "execution_count": null,
   "metadata": {},
   "outputs": [],
   "source": [
    "# Ausgeben der Serie als Liste:\n",
    "numbers_list = numbers_series.to_list()\n",
    "numbers_list"
   ]
  },
  {
   "cell_type": "code",
   "execution_count": null,
   "metadata": {},
   "outputs": [],
   "source": [
    "# Ursprüngliche Series bleibt unverändert:\n",
    "numbers_series"
   ]
  },
  {
   "cell_type": "markdown",
   "metadata": {},
   "source": [
    "Den Index und die Werte einzeln zu benennen ist umständlich. Man kann das jedoch mit einem Standard-Datentyp in Python ganz leicht umsetzen: dem Dictionary. Die Keys sind dabei Indexwerte und die Values die eigentlichen Werte der Series."
   ]
  },
  {
   "cell_type": "code",
   "execution_count": null,
   "metadata": {},
   "outputs": [],
   "source": [
    "data = {\"a\": 100, \"b\": 200, \"c\": 300}\n",
    "\n",
    "pd.Series(data)"
   ]
  },
  {
   "cell_type": "code",
   "execution_count": null,
   "metadata": {},
   "outputs": [],
   "source": [
    "# Reihenfolge und Inhalte der Series modifizierbar\n",
    "# durch Indexreihenfolge:\n",
    "data = {\"a\": 100, \"b\": 200, \"c\": 300, \"e\": 500}\n",
    "series_from_dict = pd.Series(data, index=[\"a\", \"c\", \"b\", \"b\", \"d\"])\n",
    "series_from_dict\n",
    "# Für Index d gibt es keine Daten > NaN\n",
    "# bei Index b gibt es zwei Einträge > das ist zwar nicht verboten,\n",
    "# aber mit großer Vorsicht zu behandeln, da der Index oft gerade \n",
    "# unique values identifizieren soll!"
   ]
  },
  {
   "cell_type": "code",
   "execution_count": null,
   "metadata": {},
   "outputs": [],
   "source": [
    "series_from_dict[\"b\"]"
   ]
  },
  {
   "cell_type": "markdown",
   "metadata": {},
   "source": [
    "Oder: Alle Informationen direkt bei Erstellung über Listen übergeben"
   ]
  },
  {
   "cell_type": "code",
   "execution_count": null,
   "metadata": {},
   "outputs": [],
   "source": [
    "# Hierbei nur Benennung der Indices, kein Einfluss auf Inhalte:\n",
    "customers = pd.Series([1500, 2300, 1350, 450, 5700],\n",
    "                    index=[\"Mayer\", \"Müller\", \"Schmidt\", \"Weber\", \"Schneider\"],\n",
    "                    name=\"payments\")\n",
    "\n",
    "customers"
   ]
  },
  {
   "cell_type": "code",
   "execution_count": null,
   "metadata": {},
   "outputs": [],
   "source": [
    "customers[\"Müller\"]"
   ]
  },
  {
   "cell_type": "code",
   "execution_count": null,
   "metadata": {},
   "outputs": [],
   "source": [
    "# Erstellung mit konstanten Werten\n",
    "pd.Series(5, index=[0,1,2,3])"
   ]
  },
  {
   "cell_type": "code",
   "execution_count": null,
   "metadata": {},
   "outputs": [],
   "source": [
    "# Es geht auch nachträglich auf diese Weise:\n",
    "my_series = pd.Series(index=[1, 2, 3])\n",
    "my_series"
   ]
  },
  {
   "cell_type": "code",
   "execution_count": null,
   "metadata": {},
   "outputs": [],
   "source": [
    "my_series[:] = 1\n",
    "my_series"
   ]
  },
  {
   "cell_type": "code",
   "execution_count": null,
   "metadata": {
    "collapsed": false
   },
   "outputs": [],
   "source": [
    "# Zusatz: Gemischte Datentypen in einer Serie"
   ]
  },
  {
   "cell_type": "code",
   "execution_count": null,
   "metadata": {
    "ExecuteTime": {
     "end_time": "2024-01-23T10:13:18.624954600Z",
     "start_time": "2024-01-23T10:13:18.614208Z"
    },
    "collapsed": false
   },
   "outputs": [],
   "source": [
    "my_dict = dict(zip(range(1, 6), ['Hallo', 'Pandas', 2024, 'Q4']))\n",
    "my_dict"
   ]
  },
  {
   "cell_type": "code",
   "execution_count": null,
   "metadata": {
    "ExecuteTime": {
     "end_time": "2024-01-23T10:14:24.253808100Z",
     "start_time": "2024-01-23T10:14:24.208746200Z"
    },
    "collapsed": false
   },
   "outputs": [],
   "source": [
    "my_series = pd.Series(my_dict)\n",
    "my_series"
   ]
  },
  {
   "cell_type": "code",
   "execution_count": null,
   "metadata": {
    "ExecuteTime": {
     "end_time": "2024-01-23T10:15:26.536332300Z",
     "start_time": "2024-01-23T10:15:26.510343800Z"
    },
    "collapsed": false
   },
   "outputs": [],
   "source": [
    "# Nebeneinander von verschiedenen Datentypen in einer Series möglich!\n",
    "print(my_series[2])\n",
    "print(type(my_series[2]))\n",
    "print(my_series[3])\n",
    "print(type(my_series[3]))"
   ]
  },
  {
   "cell_type": "code",
   "execution_count": null,
   "metadata": {},
   "outputs": [],
   "source": [
    "# Der Datentyp der gesamten Series ist dann object:\n",
    "my_series.dtype"
   ]
  },
  {
   "cell_type": "code",
   "execution_count": null,
   "metadata": {},
   "outputs": [],
   "source": [
    "my_series"
   ]
  },
  {
   "cell_type": "code",
   "execution_count": null,
   "metadata": {},
   "outputs": [],
   "source": [
    "# Bonus-Info: In Pandas kann so ziemlich jedes Objekt rein ;)\n",
    "class DataCraftStudent:\n",
    "    def __init__(self, name) -> None:\n",
    "        self.name = name"
   ]
  },
  {
   "cell_type": "code",
   "execution_count": null,
   "metadata": {},
   "outputs": [],
   "source": [
    "students = [DataCraftStudent('Max Mustererkenner'), \n",
    "            DataCraftStudent('Dora Datenfels'),\n",
    "            DataCraftStudent('Andrea Ey-Ay')]"
   ]
  },
  {
   "cell_type": "code",
   "execution_count": null,
   "metadata": {},
   "outputs": [],
   "source": [
    "students_series = pd.Series(students)\n",
    "students_series"
   ]
  },
  {
   "cell_type": "markdown",
   "metadata": {},
   "source": [
    "### Rechnen mit Serien\n",
    "\n",
    "1. Broadcasting - Wie bei numpy-Arrays, wird bei einer Rechenoperation die Rechnung auf alle Elemente jeweils (elementwise) angewandt.\n"
   ]
  },
  {
   "cell_type": "code",
   "execution_count": null,
   "metadata": {},
   "outputs": [],
   "source": [
    "# Für Vergleichbarkeit:\n",
    "np.random.seed(42)\n",
    "\n",
    "# random.randint erzeugt eine vom Nutzer gewählte Anzahl zufälliger Ganzzahlen \n",
    "# in einem ebenfalls vom Nutzer festgelegten Wertebereich (start, stop): \n",
    "random_series = pd.Series(np.random.randint(0, 50, 6))\n",
    "random_series"
   ]
  },
  {
   "cell_type": "code",
   "execution_count": null,
   "metadata": {},
   "outputs": [],
   "source": [
    "# Broadcasting / Vektorisierung\n",
    "(random_series * 4) - 2"
   ]
  },
  {
   "cell_type": "markdown",
   "metadata": {},
   "source": [
    "2. Zwei Serien miteinander verrechnen"
   ]
  },
  {
   "cell_type": "code",
   "execution_count": null,
   "metadata": {},
   "outputs": [],
   "source": [
    "np.random.seed(42)\n",
    "s1 = pd.Series(np.random.randint(0, 50, 6), name=\"S1\")\n",
    "s2 = pd.Series(np.random.randint(0, 50, 6), name=\"S2\")\n",
    "\n",
    "print(s1)\n",
    "print(s2)"
   ]
  },
  {
   "cell_type": "code",
   "execution_count": null,
   "metadata": {},
   "outputs": [],
   "source": [
    "s1 - s2"
   ]
  },
  {
   "cell_type": "markdown",
   "metadata": {},
   "source": [
    "3. Zwei Serien mit unterschiedlichen Indizes verrechnen"
   ]
  },
  {
   "cell_type": "code",
   "execution_count": null,
   "metadata": {},
   "outputs": [],
   "source": [
    "np.random.seed(42)\n",
    "\n",
    "s1 = pd.Series(10,\n",
    "               index=[1, 2, 3, 4, 5, 6],\n",
    "               name=\"Series 1\")\n",
    "\n",
    "s2 = pd.Series([1, 5, 3, 2, 12, -1],\n",
    "               index=[1, 3, 4, 6, 7, 8],\n",
    "               name=\"Series 2\")\n",
    "\n",
    "print(s1)\n",
    "print(s2)"
   ]
  },
  {
   "cell_type": "code",
   "execution_count": null,
   "metadata": {},
   "outputs": [],
   "source": [
    "# Wo entstehen die Null-Werte?\n",
    "result = s1 - s2\n",
    "result"
   ]
  },
  {
   "cell_type": "markdown",
   "metadata": {},
   "source": [
    "--> Es werden nur die Werte verrechnet, die den gleichen Index haben."
   ]
  },
  {
   "cell_type": "code",
   "execution_count": null,
   "metadata": {},
   "outputs": [],
   "source": [
    "# Fehlende Werte checken\n",
    "result.isna()"
   ]
  },
  {
   "cell_type": "code",
   "execution_count": null,
   "metadata": {},
   "outputs": [],
   "source": [
    "# Mit Boolescher Maske nur die Werte rausholen, die nicht Null-Werte sind:\n",
    "result[~ result.isna()]"
   ]
  },
  {
   "cell_type": "markdown",
   "metadata": {},
   "source": [
    "## Übungsaufgabe zu Erstellen und Zugreifen auf Series\n",
    "\n",
    "Erstelle eine Series mit folgenden Beträgen in Euro:\n",
    "\n",
    "1200, 2300, 140, 670, 500\n",
    "\n",
    "Erstelle eine weitere Series, bei der von jedem Betrag 100 Euro abgezogen werden.\n",
    "\n",
    "Erstelle schließlich eine Series mit entsprechenden Dollarbeträgen für die erste Series (1.06 Dollar für einen Euro).\n",
    "\n",
    "Erhalte mit einer Booleschen Maske alle Beträge über 700 Dollar."
   ]
  },
  {
   "cell_type": "code",
   "execution_count": null,
   "metadata": {},
   "outputs": [],
   "source": []
  },
  {
   "cell_type": "code",
   "execution_count": null,
   "metadata": {},
   "outputs": [],
   "source": []
  },
  {
   "cell_type": "markdown",
   "metadata": {},
   "source": [
    "## DataFrames bei pandas\n",
    "Ein pandas-DataFrame ist eine zwei-dimensionale Datenstruktur, die in Form von Spalten und Zeilen aufgebaut ist und ähnelt einem 2D-Array oder einer Excel-Tabelle.<br>\n",
    "Ein DataFrame verfügt ebenfalls über einen Zeilen- und einen Spaltenindex. <br>\n",
    "Beim Zeilenindex ist ein numerischer Index mit Ganzzahlen ab 0 gängig. <br>\n",
    "Bei Spaltennamen sind dagegen Strings als Bezeichner der Standard. (Dahinter verbergen sich aber zwei numerische Indizes, auf die der Nutzer auch zugreifen kann -> siehe Abschnitt zu iloc.)"
   ]
  },
  {
   "cell_type": "code",
   "execution_count": null,
   "metadata": {},
   "outputs": [],
   "source": [
    "# Erstellung eines DataFrame ausgehend von einem Dictionary:\n",
    "mein_dict = {\"Name\": [\"Dora\", \"Max\", \"Andrea\"],\n",
    "             \"Alter\": [31, 24, 25],\n",
    "             \"Lieblingsfarbe\": [\"schwarz\", \"rot\", \"lila\"]\n",
    "             }\n",
    "\n",
    "mein_dict"
   ]
  },
  {
   "cell_type": "code",
   "execution_count": null,
   "metadata": {},
   "outputs": [],
   "source": [
    "# Erzeugung eines DataFrames (Tabelle)\n",
    "students_df = pd.DataFrame(mein_dict)\n",
    "students_df"
   ]
  },
  {
   "cell_type": "code",
   "execution_count": null,
   "metadata": {},
   "outputs": [],
   "source": [
    "# Zugriff auf einzelne Spalten meines DataFrames:\n",
    "students_df[\"Name\"]"
   ]
  },
  {
   "cell_type": "code",
   "execution_count": null,
   "metadata": {},
   "outputs": [],
   "source": [
    "# Zugriff auf mehrere Spalten mit einer Liste von Spaltennamen:\n",
    "students_df[[\"Name\", \"Lieblingsfarbe\"]]"
   ]
  },
  {
   "cell_type": "code",
   "execution_count": null,
   "metadata": {},
   "outputs": [],
   "source": [
    "# Mit .loc gleiche Indizierung wie bei Numpy\n",
    "students_df.loc[1:, \"Name\"]"
   ]
  },
  {
   "cell_type": "code",
   "execution_count": null,
   "metadata": {},
   "outputs": [],
   "source": [
    "# .iloc für Index-Position als Zahl\n",
    "# (0 statt \"Name\")\n",
    "students_df.iloc[:, 0]"
   ]
  },
  {
   "cell_type": "markdown",
   "metadata": {},
   "source": [
    "#### Wie kann man mehrere pandas-Serien zu einem DataFrame zusammenführen?"
   ]
  },
  {
   "cell_type": "code",
   "execution_count": null,
   "metadata": {},
   "outputs": [],
   "source": [
    "# Erstellen der Series\n",
    "\n",
    "name_series = pd.Series([\"Dora\", \"Max\", \"Andrea\"], name=\"name\")\n",
    "\n",
    "age_series = pd.Series([31, 24, 25], name=\"age\")\n",
    "\n",
    "print(name_series)\n",
    "print()\n",
    "print(age_series)"
   ]
  },
  {
   "cell_type": "code",
   "execution_count": null,
   "metadata": {},
   "outputs": [],
   "source": [
    "# Mit Hilfe von concat erzeugen wir direkt einen\n",
    "# DataFrame aus den beiden Series:\n",
    "students = pd.concat((name_series, age_series), axis=1)\n",
    "students"
   ]
  },
  {
   "cell_type": "code",
   "execution_count": null,
   "metadata": {},
   "outputs": [],
   "source": [
    "# Oh-oh, zwei neue Studis sind dazugekommen. Wie kriegen wir sie unter?\n",
    "new_student = pd.DataFrame({'name': ['Fred', 'Luise'], 'age': [42, 52]})"
   ]
  },
  {
   "cell_type": "code",
   "execution_count": null,
   "metadata": {},
   "outputs": [],
   "source": [
    "students = pd.concat([students, new_student], ignore_index=True)\n",
    "students"
   ]
  },
  {
   "cell_type": "markdown",
   "metadata": {},
   "source": [
    "### DataFrame beschreiben"
   ]
  },
  {
   "cell_type": "code",
   "execution_count": null,
   "metadata": {},
   "outputs": [],
   "source": [
    "# Spaltennamen ausgeben\n",
    "students.columns"
   ]
  },
  {
   "cell_type": "code",
   "execution_count": null,
   "metadata": {},
   "outputs": [],
   "source": [
    "# Index ausgeben\n",
    "students.index"
   ]
  },
  {
   "cell_type": "code",
   "execution_count": null,
   "metadata": {},
   "outputs": [],
   "source": [
    "# Kleine Statistik unseres DataFrames mittels .describe()\n",
    "students.describe()\n",
    "# Quizfrage: Wo sind die Namen hin?"
   ]
  },
  {
   "cell_type": "markdown",
   "metadata": {},
   "source": [
    "## Übungsaufgabe DataFrame mit Pandas\n",
    "\n",
    "Du interessierst dich dafür, wie viel Zeit  bei deinen Lieblingssportarten eigentlich wirklich gespielt wird.\n",
    "\n",
    "Du bist Fan von den Sportarten: Fussball, Basketball, Handball, Eishockey und (American) Football.\n",
    "\n",
    "Die offiziellen Spielzeiten für diese Sportarten sind (in Minuten) 90, 48, 60, 60 und 60. Erstelle daraus eine Series mit passendem Index.\n",
    "\n",
    "Die Nettospielzeiten der Sportarten belaufen sich auf folgende Zeiten (in Minuten) 57, 43, 48, 60 und 11. Erstelle auch daraus eine Series mit passendem Index.\n",
    "\n",
    "Berechne die absolute und prozentuale Abweichung von Nettospielzeit zu normaler Spielzeit und erstelle für beides eine Series.\n",
    "\n",
    "Verbinde ALLE 4 Series zu einem gemeinsamen DataFrame (in welchem alle Spalten ordentlich benannt sind) und beantworte schließlich die Frage: Wie viele Minuten werden im Schnitt bei deinen Lieblingssportarten verschenkt?\n",
    "\n",
    "Erwartete Ausgabe:\n",
    "\"Durch. Abweichung in Minuten = XX.X\"\n",
    "\n",
    "Lass dir außerdem dein DataFrame anzeigen."
   ]
  },
  {
   "cell_type": "code",
   "execution_count": null,
   "metadata": {},
   "outputs": [],
   "source": []
  },
  {
   "cell_type": "code",
   "execution_count": null,
   "metadata": {},
   "outputs": [],
   "source": []
  }
 ],
 "metadata": {
  "kernelspec": {
   "display_name": "Python 3",
   "language": "python",
   "name": "python3"
  },
  "language_info": {
   "codemirror_mode": {
    "name": "ipython",
    "version": 3
   },
   "file_extension": ".py",
   "mimetype": "text/x-python",
   "name": "python",
   "nbconvert_exporter": "python",
   "pygments_lexer": "ipython3",
   "version": "3.10.12"
  }
 },
 "nbformat": 4,
 "nbformat_minor": 2
}
