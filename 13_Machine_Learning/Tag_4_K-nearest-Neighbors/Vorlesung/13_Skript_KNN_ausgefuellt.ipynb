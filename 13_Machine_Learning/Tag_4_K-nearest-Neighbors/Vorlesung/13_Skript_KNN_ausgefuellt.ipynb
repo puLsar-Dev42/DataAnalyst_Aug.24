{
 "cells": [
  {
   "metadata": {},
   "cell_type": "markdown",
   "source": [
    "# Datenanalyse mit KI & Machine Learning\n",
    "## Klassifikation mit KNN"
   ],
   "id": "8a0403c5825fe314"
  },
  {
   "metadata": {},
   "cell_type": "markdown",
   "source": [
    "# Datenanalyse mit KI & Machine Learning\n",
    "## Klassifikation mit KNN"
   ],
   "id": "cc7adf7e640a1cec"
  },
  {
   "metadata": {},
   "cell_type": "markdown",
   "source": [
    "<h3>KNN steht für <b>k-nächste Nachbarn</b><br></h3>\n",
    "<p>Es handelt sich hierbei um keine Regression, bei der Werte ausgerechnet werden, sondern um <b>Klassifikation</b>, bei der Entitäten (Zeilen) passende Klassen (Werte aus y) zugeordnet werden.</p>\n",
    "<p>Die Zugehörigkeit von Punkten zu Klassen und damit zu Clustern wird über eine\n",
    "gewisse Anzahl von Nachbarn aus einer Klasse gesteuert.</p>\n",
    "<p>Sagen wir, dass z.B. die 3 nächsten Nachbarn die Zugehörigkeit bestimmen,\n",
    "dann wird unser Modell bei jedem Punkt schauen, welches die nächsten drei Punkte sind\n",
    "und je nach ihrer Klassenzugehörigkeit dem aktuellen Punkt ein Label verpassen.</p>"
   ],
   "id": "51bce56c9ff976fa"
  },
  {
   "metadata": {
    "ExecuteTime": {
     "end_time": "2025-05-08T12:06:42.924984Z",
     "start_time": "2025-05-08T12:06:42.721525Z"
    }
   },
   "cell_type": "code",
   "source": [
    "import numpy as np\n",
    "import matplotlib.pyplot as plt\n",
    "from sklearn.datasets import make_classification\n",
    "from sklearn.metrics import confusion_matrix, ConfusionMatrixDisplay, \\\n",
    "\tclassification_report\n",
    "from sklearn.model_selection import train_test_split\n",
    "from sklearn.neighbors import KNeighborsClassifier\n",
    "import seaborn as sns\n",
    "import pandas as pd"
   ],
   "id": "8fe4fd936812683a",
   "outputs": [],
   "execution_count": 2
  },
  {
   "metadata": {
    "ExecuteTime": {
     "end_time": "2025-05-08T12:06:42.948904Z",
     "start_time": "2025-05-08T12:06:42.944908Z"
    }
   },
   "cell_type": "code",
   "source": [
    "# Mit make_classification erstellen wir Daten, die eine gewählte Anzahl Cluster\n",
    "# enthalten"
   ],
   "id": "66d2a834074318e0",
   "outputs": [],
   "execution_count": 3
  },
  {
   "metadata": {
    "ExecuteTime": {
     "end_time": "2025-05-08T12:06:42.967850Z",
     "start_time": "2025-05-08T12:06:42.961841Z"
    }
   },
   "cell_type": "code",
   "source": [
    "# Fall 1: Klar getrennte Cluster erzeugen (und danach mit KNN finden):\n",
    "X, y = make_classification(\n",
    "\tn_samples=200,\n",
    "\tn_features=2,\n",
    "\tn_informative=2,\n",
    "\tn_redundant=0,\n",
    "\tn_clusters_per_class=1,\n",
    "\tclass_sep=3,\n",
    "\trandom_state=42\n",
    ")"
   ],
   "id": "ce58a8f1624edaff",
   "outputs": [],
   "execution_count": 4
  },
  {
   "metadata": {
    "ExecuteTime": {
     "end_time": "2025-05-08T12:06:42.996118Z",
     "start_time": "2025-05-08T12:06:42.987304Z"
    }
   },
   "cell_type": "code",
   "source": [
    "# Datenpunkte:\n",
    "X"
   ],
   "id": "fea91f6e9be5edcd",
   "outputs": [
    {
     "data": {
      "text/plain": [
       "array([[ 1.12707102,  2.013042  ],\n",
       "       [ 3.31293463,  4.77053357],\n",
       "       [ 4.34042818,  4.42099601],\n",
       "       [ 4.29454774,  1.59561981],\n",
       "       [ 2.94410516,  2.4772409 ],\n",
       "       [-2.11959689,  2.50891314],\n",
       "       [ 2.1510847 ,  2.81007677],\n",
       "       [-2.00745441,  1.54715744],\n",
       "       [-3.25396925,  2.06769236],\n",
       "       [-2.24392415,  3.19979806],\n",
       "       [-3.9208928 ,  4.9189499 ],\n",
       "       [-1.51193731,  5.50578584],\n",
       "       [ 4.25751204,  3.81515089],\n",
       "       [-5.12190908,  2.62220145],\n",
       "       [ 3.87768113,  2.51095984],\n",
       "       [-1.53214458,  2.7871928 ],\n",
       "       [ 2.48404809,  2.04843842],\n",
       "       [-2.54235518,  5.49536942],\n",
       "       [ 3.04235818,  3.10204918],\n",
       "       [ 3.63367133,  2.59219328],\n",
       "       [ 3.85756778,  3.7382647 ],\n",
       "       [-4.41167954,  1.19379086],\n",
       "       [ 2.87481918,  2.48815664],\n",
       "       [-1.90470998,  2.57526555],\n",
       "       [-3.64994223,  1.93304083],\n",
       "       [ 1.34754651,  1.80841051],\n",
       "       [ 4.10252081,  4.34684404],\n",
       "       [ 4.9574463 ,  4.01418031],\n",
       "       [-3.70056309,  1.80666154],\n",
       "       [ 2.86204356,  2.66498993],\n",
       "       [-1.69837209,  2.22791173],\n",
       "       [ 3.96734507,  3.82610109],\n",
       "       [-2.6910389 ,  2.46491472],\n",
       "       [ 5.66332221,  4.15367981],\n",
       "       [ 4.3487899 ,  4.70680122],\n",
       "       [-2.10191136,  4.4621975 ],\n",
       "       [-3.09936351,  3.47691125],\n",
       "       [-2.47995197,  4.03891075],\n",
       "       [-4.54154743,  3.02491255],\n",
       "       [-1.64265552,  3.07566374],\n",
       "       [-3.54796112,  3.70994209],\n",
       "       [-1.58126856,  1.93740096],\n",
       "       [-2.72131493,  1.53579873],\n",
       "       [ 3.25197222,  2.92017185],\n",
       "       [-2.44891081,  2.0787994 ],\n",
       "       [-3.70707082,  2.49983212],\n",
       "       [-2.13866279,  1.20206215],\n",
       "       [-1.45821786,  2.01195939],\n",
       "       [ 3.78797488,  3.51412733],\n",
       "       [-3.15134201,  2.76927531],\n",
       "       [ 3.10688432,  2.54432827],\n",
       "       [-3.00544154,  3.52897328],\n",
       "       [-4.41201542,  1.2642982 ],\n",
       "       [ 2.69472072,  2.42543324],\n",
       "       [ 2.44177614,  2.10611039],\n",
       "       [-2.38380103,  4.47232413],\n",
       "       [-4.40818907,  1.48860591],\n",
       "       [-3.76691875,  1.90013513],\n",
       "       [ 2.80125261,  3.68489836],\n",
       "       [ 4.97144919,  3.55596825],\n",
       "       [-2.20876699,  3.12654681],\n",
       "       [-3.5434072 ,  4.58513456],\n",
       "       [ 5.4705557 ,  3.80157587],\n",
       "       [-3.40349166,  2.5694988 ],\n",
       "       [-4.49380858,  2.37984677],\n",
       "       [-3.72457845,  2.61903802],\n",
       "       [-1.82144904,  1.17979771],\n",
       "       [-2.93877103,  2.5951933 ],\n",
       "       [ 2.82632031,  2.74117663],\n",
       "       [-3.52852845,  2.85153651],\n",
       "       [-3.46545609,  3.27241291],\n",
       "       [-2.3581415 ,  4.80078624],\n",
       "       [ 2.65511414,  3.52522257],\n",
       "       [ 3.43464287,  2.88079636],\n",
       "       [ 1.62782393,  2.56938167],\n",
       "       [-2.60404357,  3.28617369],\n",
       "       [ 1.87521778,  2.40979613],\n",
       "       [ 4.17795625,  4.07341223],\n",
       "       [ 3.22935956,  3.03604499],\n",
       "       [-2.72886112,  0.77800178],\n",
       "       [ 2.07785476,  1.86205704],\n",
       "       [-3.19667757,  0.8683189 ],\n",
       "       [ 4.0706309 ,  3.62579107],\n",
       "       [ 4.64268527,  4.05746083],\n",
       "       [-1.31416458,  1.5738635 ],\n",
       "       [-1.74791948,  2.70104307],\n",
       "       [ 4.72588578,  2.55612935],\n",
       "       [-3.9695403 ,  1.91113419],\n",
       "       [-2.64061899,  3.16106038],\n",
       "       [-2.72784069,  4.02854683],\n",
       "       [-3.27509973,  3.1134649 ],\n",
       "       [ 4.06851179,  1.50003185],\n",
       "       [ 1.23034407,  2.40081602],\n",
       "       [-3.08582248,  2.61470729],\n",
       "       [ 2.68115929,  2.32321218],\n",
       "       [-2.62154585,  4.99462288],\n",
       "       [ 3.85205111,  1.90881894],\n",
       "       [ 2.27369333,  3.30224218],\n",
       "       [ 4.57621565,  3.83260099],\n",
       "       [-4.63559457,  3.56006448],\n",
       "       [ 2.02673783,  4.01438813],\n",
       "       [-4.35888098,  4.8345448 ],\n",
       "       [-2.68341504,  4.21663265],\n",
       "       [-3.19799362,  1.94818443],\n",
       "       [-3.07817905,  0.92614036],\n",
       "       [-2.76699391,  0.99745858],\n",
       "       [-2.35490992,  3.55059358],\n",
       "       [ 4.29801693,  3.6851969 ],\n",
       "       [ 3.91910213,  2.71341025],\n",
       "       [-0.16128551,  1.9104791 ],\n",
       "       [ 4.14611901,  3.65019133],\n",
       "       [ 2.98184616,  2.42321507],\n",
       "       [ 3.11707051,  3.91633584],\n",
       "       [-2.96650639,  3.82145399],\n",
       "       [ 2.10497061,  2.70366436],\n",
       "       [ 3.55214461,  4.08837827],\n",
       "       [ 3.46896343,  3.60157099],\n",
       "       [-4.27093881,  2.66814014],\n",
       "       [ 0.60754732,  2.29686204],\n",
       "       [ 0.80447586,  1.58747712],\n",
       "       [ 2.00715787,  2.62259975],\n",
       "       [ 1.0938483 ,  2.29007337],\n",
       "       [-3.59643538,  4.11527751],\n",
       "       [-2.14989682,  5.61729861],\n",
       "       [ 3.76584782,  2.95281272],\n",
       "       [-1.74366951,  2.53589965],\n",
       "       [-0.77056029,  1.72943701],\n",
       "       [-2.44758139,  2.71376284],\n",
       "       [ 3.0951577 ,  3.64017517],\n",
       "       [-2.58215572,  2.16041392],\n",
       "       [-4.09153366,  2.5997162 ],\n",
       "       [ 4.05886828,  3.3730853 ],\n",
       "       [ 3.96508651,  3.25979692],\n",
       "       [ 2.50513533,  2.20050629],\n",
       "       [ 3.1080822 ,  3.34527769],\n",
       "       [ 3.51045023,  2.79961159],\n",
       "       [-3.95152462,  1.6253144 ],\n",
       "       [-4.49206972,  2.36324656],\n",
       "       [-3.33195632,  4.68281146],\n",
       "       [-3.60645651,  3.99630075],\n",
       "       [-2.01661337,  3.1175537 ],\n",
       "       [-1.98905622,  4.53762706],\n",
       "       [ 2.39099533,  3.11157579],\n",
       "       [-2.06789396,  3.53020724],\n",
       "       [ 2.04728122,  2.84428765],\n",
       "       [-2.25130391,  2.73608209],\n",
       "       [-2.50660604,  2.10678033],\n",
       "       [ 3.29225586,  3.44570243],\n",
       "       [ 3.41652304,  3.5401642 ],\n",
       "       [ 4.16084506,  3.13805493],\n",
       "       [ 2.17155907,  2.73048287],\n",
       "       [ 2.56194739,  3.01902056],\n",
       "       [-3.56797304,  1.2512902 ],\n",
       "       [ 3.90943517,  2.07475541],\n",
       "       [ 3.88944759,  2.97729293],\n",
       "       [ 1.08878691,  2.94134276],\n",
       "       [ 1.84346824,  2.37372696],\n",
       "       [-3.27723853,  3.67754452],\n",
       "       [ 2.17677464,  2.36618904],\n",
       "       [-2.88028773,  2.19649562],\n",
       "       [-4.44168668,  3.84346099],\n",
       "       [-1.76109699,  2.69843315],\n",
       "       [-2.71809799,  3.2847179 ],\n",
       "       [ 2.97059618,  2.57621593],\n",
       "       [ 2.31440771,  3.12561328],\n",
       "       [ 4.74022947,  2.52376227],\n",
       "       [-3.26435183,  2.76465751],\n",
       "       [ 2.65696708,  3.15419481],\n",
       "       [ 3.95795585,  3.62812515],\n",
       "       [ 3.37489728,  3.9532637 ],\n",
       "       [-2.30809618,  3.95043884],\n",
       "       [ 4.30799727,  3.16341341],\n",
       "       [ 2.81404363,  1.64151964],\n",
       "       [-1.30697698,  4.41232056],\n",
       "       [-2.59666542,  1.90877486],\n",
       "       [ 3.65912112,  1.88253992],\n",
       "       [-1.21428968,  3.87839005],\n",
       "       [ 2.63325054,  3.06751302],\n",
       "       [ 2.67392583,  4.48277463],\n",
       "       [ 2.32688158,  3.04961997],\n",
       "       [ 3.46965534,  2.71961349],\n",
       "       [ 2.37226849,  3.33797626],\n",
       "       [-4.56426542,  4.55034764],\n",
       "       [ 2.52805555,  2.53838702],\n",
       "       [ 3.95082039,  2.61542493],\n",
       "       [ 3.16573571,  3.50649925],\n",
       "       [-2.47553789,  1.71148051],\n",
       "       [-1.92974949,  3.72051478],\n",
       "       [-2.91252221,  3.51142573],\n",
       "       [ 2.71099872,  2.40604731],\n",
       "       [ 2.24138379,  3.67668118],\n",
       "       [ 2.87551842,  2.29992973],\n",
       "       [-2.87217498,  4.94816692],\n",
       "       [-2.64962646,  2.27033822],\n",
       "       [ 5.58425588,  6.48422581],\n",
       "       [-4.3252393 ,  1.08048779],\n",
       "       [-2.74131442,  3.97095155],\n",
       "       [-2.58161457,  3.19667242],\n",
       "       [ 2.87166405,  3.69040881],\n",
       "       [-1.06289613,  5.52558068]])"
      ]
     },
     "execution_count": 5,
     "metadata": {},
     "output_type": "execute_result"
    }
   ],
   "execution_count": 5
  },
  {
   "metadata": {
    "ExecuteTime": {
     "end_time": "2025-05-08T12:06:43.061286Z",
     "start_time": "2025-05-08T12:06:43.055Z"
    }
   },
   "cell_type": "code",
   "source": [
    "# Klassenzugehörigkeiten\n",
    "y"
   ],
   "id": "109e68892bbae4d5",
   "outputs": [
    {
     "data": {
      "text/plain": [
       "array([1, 1, 1, 1, 1, 0, 1, 0, 0, 0, 0, 0, 1, 0, 1, 0, 1, 0, 1, 1, 1, 0,\n",
       "       1, 0, 0, 1, 1, 1, 0, 1, 0, 1, 0, 1, 1, 0, 0, 0, 0, 0, 0, 0, 0, 1,\n",
       "       0, 0, 0, 0, 1, 0, 1, 0, 0, 1, 1, 0, 0, 0, 1, 1, 0, 0, 1, 0, 0, 0,\n",
       "       0, 0, 1, 0, 0, 0, 1, 1, 1, 0, 1, 1, 1, 0, 1, 0, 1, 1, 0, 0, 1, 0,\n",
       "       0, 0, 0, 1, 1, 0, 1, 0, 1, 1, 1, 0, 1, 0, 0, 0, 0, 0, 0, 1, 1, 0,\n",
       "       1, 1, 1, 0, 1, 1, 1, 0, 1, 1, 1, 1, 0, 0, 1, 0, 1, 0, 1, 0, 0, 1,\n",
       "       1, 1, 1, 1, 0, 0, 0, 0, 0, 0, 1, 0, 1, 0, 0, 1, 1, 1, 1, 1, 0, 1,\n",
       "       1, 1, 1, 0, 1, 0, 0, 0, 0, 1, 1, 1, 0, 1, 1, 1, 0, 1, 1, 0, 0, 1,\n",
       "       0, 1, 1, 1, 1, 1, 0, 1, 1, 1, 0, 0, 0, 1, 1, 1, 0, 0, 1, 0, 0, 0,\n",
       "       1, 0])"
      ]
     },
     "execution_count": 6,
     "metadata": {},
     "output_type": "execute_result"
    }
   ],
   "execution_count": 6
  },
  {
   "metadata": {
    "ExecuteTime": {
     "end_time": "2025-05-08T12:06:43.374299Z",
     "start_time": "2025-05-08T12:06:43.210026Z"
    }
   },
   "cell_type": "code",
   "source": [
    "# Lasst uns zunächst die \"Wahrheit\" plotten, also die Datenpunkte mit \n",
    "# der Klasse, der sie in y zugeordnet werden (0 oder 1):\n",
    "plt.scatter(X[:, 0],\n",
    "\t\t\tX[:, 1],\n",
    "\t\t\tc=y,\n",
    "\t\t\tcmap='viridis');"
   ],
   "id": "71692cfb8bf5c86a",
   "outputs": [
    {
     "data": {
      "text/plain": [
       "<Figure size 640x480 with 1 Axes>"
      ],
      "image/png": "[encoded data removed]"
     },
     "metadata": {},
     "output_type": "display_data"
    }
   ],
   "execution_count": 7
  },
  {
   "metadata": {
    "ExecuteTime": {
     "end_time": "2025-05-08T12:06:43.394362Z",
     "start_time": "2025-05-08T12:06:43.389854Z"
    }
   },
   "cell_type": "code",
   "source": [
    "# Aufsplitten in Trainings- und Testdaten (Validierung sparen wir uns)\n",
    "X_train, X_test, y_train, y_test = train_test_split(X, y, random_state=42)"
   ],
   "id": "3cdfe2618b0f826",
   "outputs": [],
   "execution_count": 8
  },
  {
   "metadata": {
    "ExecuteTime": {
     "end_time": "2025-05-08T12:06:43.423807Z",
     "start_time": "2025-05-08T12:06:43.420333Z"
    }
   },
   "cell_type": "code",
   "source": [
    "# KNN-Modell instantiieren (ein Objekt der Klasse erstellen)\n",
    "# (Mit Hyperparameter n_neighbors standardmäßig auf 5 eingestellt)\n",
    "knn = KNeighborsClassifier()"
   ],
   "id": "c32fee1f0a2123ca",
   "outputs": [],
   "execution_count": 9
  },
  {
   "metadata": {
    "ExecuteTime": {
     "end_time": "2025-05-08T12:06:43.458178Z",
     "start_time": "2025-05-08T12:06:43.447348Z"
    }
   },
   "cell_type": "code",
   "source": [
    "# Modell an Trainingsdaten trainieren:\n",
    "knn.fit(X_train, y_train)"
   ],
   "id": "af4870b9970b7086",
   "outputs": [
    {
     "data": {
      "text/plain": [
       "KNeighborsClassifier()"
      ],
      "text/html": [
       "<style>#sk-container-id-1 {\n",
       "  /* Definition of color scheme common for light and dark mode */\n",
       "  --sklearn-color-text: #000;\n",
       "  --sklearn-color-text-muted: #666;\n",
       "  --sklearn-color-line: gray;\n",
       "  /* Definition of color scheme for unfitted estimators */\n",
       "  --sklearn-color-unfitted-level-0: #fff5e6;\n",
       "  --sklearn-color-unfitted-level-1: #f6e4d2;\n",
       "  --sklearn-color-unfitted-level-2: #ffe0b3;\n",
       "  --sklearn-color-unfitted-level-3: chocolate;\n",
       "  /* Definition of color scheme for fitted estimators */\n",
       "  --sklearn-color-fitted-level-0: #f0f8ff;\n",
       "  --sklearn-color-fitted-level-1: #d4ebff;\n",
       "  --sklearn-color-fitted-level-2: #b3dbfd;\n",
       "  --sklearn-color-fitted-level-3: cornflowerblue;\n",
       "\n",
       "  /* Specific color for light theme */\n",
       "  --sklearn-color-text-on-default-background: var(--sg-text-color, var(--theme-code-foreground, var(--jp-content-font-color1, black)));\n",
       "  --sklearn-color-background: var(--sg-background-color, var(--theme-background, var(--jp-layout-color0, white)));\n",
       "  --sklearn-color-border-box: var(--sg-text-color, var(--theme-code-foreground, var(--jp-content-font-color1, black)));\n",
       "  --sklearn-color-icon: #696969;\n",
       "\n",
       "  @media (prefers-color-scheme: dark) {\n",
       "    /* Redefinition of color scheme for dark theme */\n",
       "    --sklearn-color-text-on-default-background: var(--sg-text-color, var(--theme-code-foreground, var(--jp-content-font-color1, white)));\n",
       "    --sklearn-color-background: var(--sg-background-color, var(--theme-background, var(--jp-layout-color0, #111)));\n",
       "    --sklearn-color-border-box: var(--sg-text-color, var(--theme-code-foreground, var(--jp-content-font-color1, white)));\n",
       "    --sklearn-color-icon: #878787;\n",
       "  }\n",
       "}\n",
       "\n",
       "#sk-container-id-1 {\n",
       "  color: var(--sklearn-color-text);\n",
       "}\n",
       "\n",
       "#sk-container-id-1 pre {\n",
       "  padding: 0;\n",
       "}\n",
       "\n",
       "#sk-container-id-1 input.sk-hidden--visually {\n",
       "  border: 0;\n",
       "  clip: rect(1px 1px 1px 1px);\n",
       "  clip: rect(1px, 1px, 1px, 1px);\n",
       "  height: 1px;\n",
       "  margin: -1px;\n",
       "  overflow: hidden;\n",
       "  padding: 0;\n",
       "  position: absolute;\n",
       "  width: 1px;\n",
       "}\n",
       "\n",
       "#sk-container-id-1 div.sk-dashed-wrapped {\n",
       "  border: 1px dashed var(--sklearn-color-line);\n",
       "  margin: 0 0.4em 0.5em 0.4em;\n",
       "  box-sizing: border-box;\n",
       "  padding-bottom: 0.4em;\n",
       "  background-color: var(--sklearn-color-background);\n",
       "}\n",
       "\n",
       "#sk-container-id-1 div.sk-container {\n",
       "  /* jupyter's `normalize.less` sets `[hidden] { display: none; }`\n",
       "     but bootstrap.min.css set `[hidden] { display: none !important; }`\n",
       "     so we also need the `!important` here to be able to override the\n",
       "     default hidden behavior on the sphinx rendered scikit-learn.org.\n",
       "     See: https://github.com/scikit-learn/scikit-learn/issues/21755 */\n",
       "  display: inline-block !important;\n",
       "  position: relative;\n",
       "}\n",
       "\n",
       "#sk-container-id-1 div.sk-text-repr-fallback {\n",
       "  display: none;\n",
       "}\n",
       "\n",
       "div.sk-parallel-item,\n",
       "div.sk-serial,\n",
       "div.sk-item {\n",
       "  /* draw centered vertical line to link estimators */\n",
       "  background-image: linear-gradient(var(--sklearn-color-text-on-default-background), var(--sklearn-color-text-on-default-background));\n",
       "  background-size: 2px 100%;\n",
       "  background-repeat: no-repeat;\n",
       "  background-position: center center;\n",
       "}\n",
       "\n",
       "/* Parallel-specific style estimator block */\n",
       "\n",
       "#sk-container-id-1 div.sk-parallel-item::after {\n",
       "  content: \"\";\n",
       "  width: 100%;\n",
       "  border-bottom: 2px solid var(--sklearn-color-text-on-default-background);\n",
       "  flex-grow: 1;\n",
       "}\n",
       "\n",
       "#sk-container-id-1 div.sk-parallel {\n",
       "  display: flex;\n",
       "  align-items: stretch;\n",
       "  justify-content: center;\n",
       "  background-color: var(--sklearn-color-background);\n",
       "  position: relative;\n",
       "}\n",
       "\n",
       "#sk-container-id-1 div.sk-parallel-item {\n",
       "  display: flex;\n",
       "  flex-direction: column;\n",
       "}\n",
       "\n",
       "#sk-container-id-1 div.sk-parallel-item:first-child::after {\n",
       "  align-self: flex-end;\n",
       "  width: 50%;\n",
       "}\n",
       "\n",
       "#sk-container-id-1 div.sk-parallel-item:last-child::after {\n",
       "  align-self: flex-start;\n",
       "  width: 50%;\n",
       "}\n",
       "\n",
       "#sk-container-id-1 div.sk-parallel-item:only-child::after {\n",
       "  width: 0;\n",
       "}\n",
       "\n",
       "/* Serial-specific style estimator block */\n",
       "\n",
       "#sk-container-id-1 div.sk-serial {\n",
       "  display: flex;\n",
       "  flex-direction: column;\n",
       "  align-items: center;\n",
       "  background-color: var(--sklearn-color-background);\n",
       "  padding-right: 1em;\n",
       "  padding-left: 1em;\n",
       "}\n",
       "\n",
       "\n",
       "/* Toggleable style: style used for estimator/Pipeline/ColumnTransformer box that is\n",
       "clickable and can be expanded/collapsed.\n",
       "- Pipeline and ColumnTransformer use this feature and define the default style\n",
       "- Estimators will overwrite some part of the style using the `sk-estimator` class\n",
       "*/\n",
       "\n",
       "/* Pipeline and ColumnTransformer style (default) */\n",
       "\n",
       "#sk-container-id-1 div.sk-toggleable {\n",
       "  /* Default theme specific background. It is overwritten whether we have a\n",
       "  specific estimator or a Pipeline/ColumnTransformer */\n",
       "  background-color: var(--sklearn-color-background);\n",
       "}\n",
       "\n",
       "/* Toggleable label */\n",
       "#sk-container-id-1 label.sk-toggleable__label {\n",
       "  cursor: pointer;\n",
       "  display: flex;\n",
       "  width: 100%;\n",
       "  margin-bottom: 0;\n",
       "  padding: 0.5em;\n",
       "  box-sizing: border-box;\n",
       "  text-align: center;\n",
       "  align-items: start;\n",
       "  justify-content: space-between;\n",
       "  gap: 0.5em;\n",
       "}\n",
       "\n",
       "#sk-container-id-1 label.sk-toggleable__label .caption {\n",
       "  font-size: 0.6rem;\n",
       "  font-weight: lighter;\n",
       "  color: var(--sklearn-color-text-muted);\n",
       "}\n",
       "\n",
       "#sk-container-id-1 label.sk-toggleable__label-arrow:before {\n",
       "  /* Arrow on the left of the label */\n",
       "  content: \"▸\";\n",
       "  float: left;\n",
       "  margin-right: 0.25em;\n",
       "  color: var(--sklearn-color-icon);\n",
       "}\n",
       "\n",
       "#sk-container-id-1 label.sk-toggleable__label-arrow:hover:before {\n",
       "  color: var(--sklearn-color-text);\n",
       "}\n",
       "\n",
       "/* Toggleable content - dropdown */\n",
       "\n",
       "#sk-container-id-1 div.sk-toggleable__content {\n",
       "  max-height: 0;\n",
       "  max-width: 0;\n",
       "  overflow: hidden;\n",
       "  text-align: left;\n",
       "  /* unfitted */\n",
       "  background-color: var(--sklearn-color-unfitted-level-0);\n",
       "}\n",
       "\n",
       "#sk-container-id-1 div.sk-toggleable__content.fitted {\n",
       "  /* fitted */\n",
       "  background-color: var(--sklearn-color-fitted-level-0);\n",
       "}\n",
       "\n",
       "#sk-container-id-1 div.sk-toggleable__content pre {\n",
       "  margin: 0.2em;\n",
       "  border-radius: 0.25em;\n",
       "  color: var(--sklearn-color-text);\n",
       "  /* unfitted */\n",
       "  background-color: var(--sklearn-color-unfitted-level-0);\n",
       "}\n",
       "\n",
       "#sk-container-id-1 div.sk-toggleable__content.fitted pre {\n",
       "  /* unfitted */\n",
       "  background-color: var(--sklearn-color-fitted-level-0);\n",
       "}\n",
       "\n",
       "#sk-container-id-1 input.sk-toggleable__control:checked~div.sk-toggleable__content {\n",
       "  /* Expand drop-down */\n",
       "  max-height: 200px;\n",
       "  max-width: 100%;\n",
       "  overflow: auto;\n",
       "}\n",
       "\n",
       "#sk-container-id-1 input.sk-toggleable__control:checked~label.sk-toggleable__label-arrow:before {\n",
       "  content: \"▾\";\n",
       "}\n",
       "\n",
       "/* Pipeline/ColumnTransformer-specific style */\n",
       "\n",
       "#sk-container-id-1 div.sk-label input.sk-toggleable__control:checked~label.sk-toggleable__label {\n",
       "  color: var(--sklearn-color-text);\n",
       "  background-color: var(--sklearn-color-unfitted-level-2);\n",
       "}\n",
       "\n",
       "#sk-container-id-1 div.sk-label.fitted input.sk-toggleable__control:checked~label.sk-toggleable__label {\n",
       "  background-color: var(--sklearn-color-fitted-level-2);\n",
       "}\n",
       "\n",
       "/* Estimator-specific style */\n",
       "\n",
       "/* Colorize estimator box */\n",
       "#sk-container-id-1 div.sk-estimator input.sk-toggleable__control:checked~label.sk-toggleable__label {\n",
       "  /* unfitted */\n",
       "  background-color: var(--sklearn-color-unfitted-level-2);\n",
       "}\n",
       "\n",
       "#sk-container-id-1 div.sk-estimator.fitted input.sk-toggleable__control:checked~label.sk-toggleable__label {\n",
       "  /* fitted */\n",
       "  background-color: var(--sklearn-color-fitted-level-2);\n",
       "}\n",
       "\n",
       "#sk-container-id-1 div.sk-label label.sk-toggleable__label,\n",
       "#sk-container-id-1 div.sk-label label {\n",
       "  /* The background is the default theme color */\n",
       "  color: var(--sklearn-color-text-on-default-background);\n",
       "}\n",
       "\n",
       "/* On hover, darken the color of the background */\n",
       "#sk-container-id-1 div.sk-label:hover label.sk-toggleable__label {\n",
       "  color: var(--sklearn-color-text);\n",
       "  background-color: var(--sklearn-color-unfitted-level-2);\n",
       "}\n",
       "\n",
       "/* Label box, darken color on hover, fitted */\n",
       "#sk-container-id-1 div.sk-label.fitted:hover label.sk-toggleable__label.fitted {\n",
       "  color: var(--sklearn-color-text);\n",
       "  background-color: var(--sklearn-color-fitted-level-2);\n",
       "}\n",
       "\n",
       "/* Estimator label */\n",
       "\n",
       "#sk-container-id-1 div.sk-label label {\n",
       "  font-family: monospace;\n",
       "  font-weight: bold;\n",
       "  display: inline-block;\n",
       "  line-height: 1.2em;\n",
       "}\n",
       "\n",
       "#sk-container-id-1 div.sk-label-container {\n",
       "  text-align: center;\n",
       "}\n",
       "\n",
       "/* Estimator-specific */\n",
       "#sk-container-id-1 div.sk-estimator {\n",
       "  font-family: monospace;\n",
       "  border: 1px dotted var(--sklearn-color-border-box);\n",
       "  border-radius: 0.25em;\n",
       "  box-sizing: border-box;\n",
       "  margin-bottom: 0.5em;\n",
       "  /* unfitted */\n",
       "  background-color: var(--sklearn-color-unfitted-level-0);\n",
       "}\n",
       "\n",
       "#sk-container-id-1 div.sk-estimator.fitted {\n",
       "  /* fitted */\n",
       "  background-color: var(--sklearn-color-fitted-level-0);\n",
       "}\n",
       "\n",
       "/* on hover */\n",
       "#sk-container-id-1 div.sk-estimator:hover {\n",
       "  /* unfitted */\n",
       "  background-color: var(--sklearn-color-unfitted-level-2);\n",
       "}\n",
       "\n",
       "#sk-container-id-1 div.sk-estimator.fitted:hover {\n",
       "  /* fitted */\n",
       "  background-color: var(--sklearn-color-fitted-level-2);\n",
       "}\n",
       "\n",
       "/* Specification for estimator info (e.g. \"i\" and \"?\") */\n",
       "\n",
       "/* Common style for \"i\" and \"?\" */\n",
       "\n",
       ".sk-estimator-doc-link,\n",
       "a:link.sk-estimator-doc-link,\n",
       "a:visited.sk-estimator-doc-link {\n",
       "  float: right;\n",
       "  font-size: smaller;\n",
       "  line-height: 1em;\n",
       "  font-family: monospace;\n",
       "  background-color: var(--sklearn-color-background);\n",
       "  border-radius: 1em;\n",
       "  height: 1em;\n",
       "  width: 1em;\n",
       "  text-decoration: none !important;\n",
       "  margin-left: 0.5em;\n",
       "  text-align: center;\n",
       "  /* unfitted */\n",
       "  border: var(--sklearn-color-unfitted-level-1) 1pt solid;\n",
       "  color: var(--sklearn-color-unfitted-level-1);\n",
       "}\n",
       "\n",
       ".sk-estimator-doc-link.fitted,\n",
       "a:link.sk-estimator-doc-link.fitted,\n",
       "a:visited.sk-estimator-doc-link.fitted {\n",
       "  /* fitted */\n",
       "  border: var(--sklearn-color-fitted-level-1) 1pt solid;\n",
       "  color: var(--sklearn-color-fitted-level-1);\n",
       "}\n",
       "\n",
       "/* On hover */\n",
       "div.sk-estimator:hover .sk-estimator-doc-link:hover,\n",
       ".sk-estimator-doc-link:hover,\n",
       "div.sk-label-container:hover .sk-estimator-doc-link:hover,\n",
       ".sk-estimator-doc-link:hover {\n",
       "  /* unfitted */\n",
       "  background-color: var(--sklearn-color-unfitted-level-3);\n",
       "  color: var(--sklearn-color-background);\n",
       "  text-decoration: none;\n",
       "}\n",
       "\n",
       "div.sk-estimator.fitted:hover .sk-estimator-doc-link.fitted:hover,\n",
       ".sk-estimator-doc-link.fitted:hover,\n",
       "div.sk-label-container:hover .sk-estimator-doc-link.fitted:hover,\n",
       ".sk-estimator-doc-link.fitted:hover {\n",
       "  /* fitted */\n",
       "  background-color: var(--sklearn-color-fitted-level-3);\n",
       "  color: var(--sklearn-color-background);\n",
       "  text-decoration: none;\n",
       "}\n",
       "\n",
       "/* Span, style for the box shown on hovering the info icon */\n",
       ".sk-estimator-doc-link span {\n",
       "  display: none;\n",
       "  z-index: 9999;\n",
       "  position: relative;\n",
       "  font-weight: normal;\n",
       "  right: .2ex;\n",
       "  padding: .5ex;\n",
       "  margin: .5ex;\n",
       "  width: min-content;\n",
       "  min-width: 20ex;\n",
       "  max-width: 50ex;\n",
       "  color: var(--sklearn-color-text);\n",
       "  box-shadow: 2pt 2pt 4pt #999;\n",
       "  /* unfitted */\n",
       "  background: var(--sklearn-color-unfitted-level-0);\n",
       "  border: .5pt solid var(--sklearn-color-unfitted-level-3);\n",
       "}\n",
       "\n",
       ".sk-estimator-doc-link.fitted span {\n",
       "  /* fitted */\n",
       "  background: var(--sklearn-color-fitted-level-0);\n",
       "  border: var(--sklearn-color-fitted-level-3);\n",
       "}\n",
       "\n",
       ".sk-estimator-doc-link:hover span {\n",
       "  display: block;\n",
       "}\n",
       "\n",
       "/* \"?\"-specific style due to the `<a>` HTML tag */\n",
       "\n",
       "#sk-container-id-1 a.estimator_doc_link {\n",
       "  float: right;\n",
       "  font-size: 1rem;\n",
       "  line-height: 1em;\n",
       "  font-family: monospace;\n",
       "  background-color: var(--sklearn-color-background);\n",
       "  border-radius: 1rem;\n",
       "  height: 1rem;\n",
       "  width: 1rem;\n",
       "  text-decoration: none;\n",
       "  /* unfitted */\n",
       "  color: var(--sklearn-color-unfitted-level-1);\n",
       "  border: var(--sklearn-color-unfitted-level-1) 1pt solid;\n",
       "}\n",
       "\n",
       "#sk-container-id-1 a.estimator_doc_link.fitted {\n",
       "  /* fitted */\n",
       "  border: var(--sklearn-color-fitted-level-1) 1pt solid;\n",
       "  color: var(--sklearn-color-fitted-level-1);\n",
       "}\n",
       "\n",
       "/* On hover */\n",
       "#sk-container-id-1 a.estimator_doc_link:hover {\n",
       "  /* unfitted */\n",
       "  background-color: var(--sklearn-color-unfitted-level-3);\n",
       "  color: var(--sklearn-color-background);\n",
       "  text-decoration: none;\n",
       "}\n",
       "\n",
       "#sk-container-id-1 a.estimator_doc_link.fitted:hover {\n",
       "  /* fitted */\n",
       "  background-color: var(--sklearn-color-fitted-level-3);\n",
       "}\n",
       "</style><div id=\"sk-container-id-1\" class=\"sk-top-container\"><div class=\"sk-text-repr-fallback\"><pre>KNeighborsClassifier()</pre><b>In a Jupyter environment, please rerun this cell to show the HTML representation or trust the notebook. <br />On GitHub, the HTML representation is unable to render, please try loading this page with nbviewer.org.</b></div><div class=\"sk-container\" hidden><div class=\"sk-item\"><div class=\"sk-estimator fitted sk-toggleable\"><input class=\"sk-toggleable__control sk-hidden--visually\" id=\"sk-estimator-id-1\" type=\"checkbox\" checked><label for=\"sk-estimator-id-1\" class=\"sk-toggleable__label fitted sk-toggleable__label-arrow\"><div><div>KNeighborsClassifier</div></div><div><a class=\"sk-estimator-doc-link fitted\" rel=\"noreferrer\" target=\"_blank\" href=\"https://scikit-learn.org/1.6/modules/generated/sklearn.neighbors.KNeighborsClassifier.html\">?<span>Documentation for KNeighborsClassifier</span></a><span class=\"sk-estimator-doc-link fitted\">i<span>Fitted</span></span></div></label><div class=\"sk-toggleable__content fitted\"><pre>KNeighborsClassifier()</pre></div> </div></div></div></div>"
      ]
     },
     "execution_count": 10,
     "metadata": {},
     "output_type": "execute_result"
    }
   ],
   "execution_count": 10
  },
  {
   "metadata": {
    "ExecuteTime": {
     "end_time": "2025-05-08T12:06:43.500847Z",
     "start_time": "2025-05-08T12:06:43.489822Z"
    }
   },
   "cell_type": "code",
   "source": [
    "# Treffergenauigkeit (accuracy) bestimmen anhand des Testdatensatzes\n",
    "# Sprich: Wie viele der Vorhersagen waren korrekt?\n",
    "accuracy = knn.score(X_test, y_test)\n",
    "print(f'Accuracy bei Testdaten in Höhe von: {accuracy:.3f}')"
   ],
   "id": "917122bc79bc006f",
   "outputs": [
    {
     "name": "stdout",
     "output_type": "stream",
     "text": [
      "Accuracy bei Testdaten in Höhe von: 1.000\n"
     ]
    }
   ],
   "execution_count": 11
  },
  {
   "metadata": {
    "ExecuteTime": {
     "end_time": "2025-05-08T12:06:43.548476Z",
     "start_time": "2025-05-08T12:06:43.537440Z"
    }
   },
   "cell_type": "code",
   "source": "knn.score(X_train, y_train)",
   "id": "b837b4848a70445d",
   "outputs": [
    {
     "data": {
      "text/plain": [
       "0.9866666666666667"
      ]
     },
     "execution_count": 12,
     "metadata": {},
     "output_type": "execute_result"
    }
   ],
   "execution_count": 12
  },
  {
   "metadata": {
    "ExecuteTime": {
     "end_time": "2025-05-08T12:06:43.588760Z",
     "start_time": "2025-05-08T12:06:43.577733Z"
    }
   },
   "cell_type": "code",
   "source": [
    "# Anschauen, wie die vorhergesagten Cluster aussehen:\n",
    "y_pred = knn.predict(X_test)\n",
    "y_pred"
   ],
   "id": "219bc1eeccd2a59",
   "outputs": [
    {
     "data": {
      "text/plain": [
       "array([0, 0, 0, 1, 1, 1, 0, 0, 0, 0, 0, 0, 1, 1, 0, 1, 0, 0, 1, 1, 1, 1,\n",
       "       1, 0, 0, 0, 0, 0, 0, 1, 0, 1, 0, 0, 1, 0, 1, 0, 1, 1, 0, 0, 0, 0,\n",
       "       0, 0, 1, 1, 0, 1])"
      ]
     },
     "execution_count": 13,
     "metadata": {},
     "output_type": "execute_result"
    }
   ],
   "execution_count": 13
  },
  {
   "metadata": {
    "ExecuteTime": {
     "end_time": "2025-05-08T12:06:43.637177Z",
     "start_time": "2025-05-08T12:06:43.630845Z"
    }
   },
   "cell_type": "code",
   "source": "y_test",
   "id": "8a713842309e2920",
   "outputs": [
    {
     "data": {
      "text/plain": [
       "array([0, 0, 0, 1, 1, 1, 0, 0, 0, 0, 0, 0, 1, 1, 0, 1, 0, 0, 1, 1, 1, 1,\n",
       "       1, 0, 0, 0, 0, 0, 0, 1, 0, 1, 0, 0, 1, 0, 1, 0, 1, 1, 0, 0, 0, 0,\n",
       "       0, 0, 1, 1, 0, 1])"
      ]
     },
     "execution_count": 14,
     "metadata": {},
     "output_type": "execute_result"
    }
   ],
   "execution_count": 14
  },
  {
   "metadata": {
    "ExecuteTime": {
     "end_time": "2025-05-08T12:06:43.832651Z",
     "start_time": "2025-05-08T12:06:43.693457Z"
    }
   },
   "cell_type": "code",
   "source": [
    "# Wahrheit und Vorhersage nebeneinander plotten:\n",
    "fig, (ax1, ax2) = plt.subplots(ncols=2, figsize=(10, 4))\n",
    "\n",
    "ax1.scatter(X_test[:, 0],\n",
    "\t\t\tX_test[:, 1],\n",
    "\t\t\tc=y_test,\n",
    "\t\t\tcmap='viridis')\n",
    "ax1.set(title='True Clusters')\n",
    "\n",
    "ax2.scatter(X_test[:, 0],\n",
    "\t\t\tX_test[:, 1],\n",
    "\t\t\tc=y_pred,\n",
    "\t\t\tcmap='viridis')\n",
    "ax2.set(title='Predicted Clusters');"
   ],
   "id": "ebe9b2dc41cb3d26",
   "outputs": [
    {
     "data": {
      "text/plain": [
       "<Figure size 1000x400 with 2 Axes>"
      ],
      "image/png": "[encoded data removed]"
     },
     "metadata": {},
     "output_type": "display_data"
    }
   ],
   "execution_count": 15
  },
  {
   "metadata": {
    "ExecuteTime": {
     "end_time": "2025-05-08T12:06:44.023336Z",
     "start_time": "2025-05-08T12:06:43.858146Z"
    }
   },
   "cell_type": "code",
   "source": [
    "_, (ax1, ax2) = plt.subplots(ncols=2, figsize=(10, 4))\n",
    "\n",
    "y_pred = knn.predict(X_train)\n",
    "\n",
    "ax1.scatter(X_train[:, 0],\n",
    "\t\t\tX_train[:, 1],\n",
    "\t\t\tc=y_train,\n",
    "\t\t\tcmap='viridis')\n",
    "ax1.set(title='True Clusters')\n",
    "\n",
    "ax2.scatter(X_train[:, 0],\n",
    "\t\t\tX_train[:, 1],\n",
    "\t\t\tc=y_pred,\n",
    "\t\t\tcmap='viridis')\n",
    "ax2.set(title='Predicted Clusters');"
   ],
   "id": "da82ac47dc8256ac",
   "outputs": [
    {
     "data": {
      "text/plain": [
       "<Figure size 1000x400 with 2 Axes>"
      ],
      "image/png": "[encoded data removed]"
     },
     "metadata": {},
     "output_type": "display_data"
    }
   ],
   "execution_count": 16
  },
  {
   "metadata": {
    "ExecuteTime": {
     "end_time": "2025-05-08T12:06:44.045778Z",
     "start_time": "2025-05-08T12:06:44.042277Z"
    }
   },
   "cell_type": "code",
   "source": [
    "# Fazit: Ja, in diesem einfachen Fall war es tatsächlich möglich, alle Punkte\n",
    "# korrekt zu bestimmen (bei den Testdaten!)."
   ],
   "id": "63c276771d31ea0f",
   "outputs": [],
   "execution_count": 17
  },
  {
   "metadata": {
    "ExecuteTime": {
     "end_time": "2025-05-08T12:06:44.069654Z",
     "start_time": "2025-05-08T12:06:44.064146Z"
    }
   },
   "cell_type": "code",
   "source": [
    "# Fall 2: Cluster mit Überschneidungen erzeugen (und danach mit KNN finden):\n",
    "X, y = make_classification(\n",
    "\tn_samples=200,  # Stichprobengröße\n",
    "\tn_features=2,  # Anzahl der Variablen\n",
    "\tn_informative=2,  # Anzahl bedeutsamer Variablen\n",
    "\tn_redundant=0,  # Anzahl redundanter Variablen (kein Beitrag zu Clustern)\n",
    "\tn_classes=2,\n",
    "\tn_clusters_per_class=1,\n",
    "\trandom_state=42,\n",
    "\tclass_sep=1.7\n",
    ")"
   ],
   "id": "1cd0f2b4cce3bae",
   "outputs": [],
   "execution_count": 18
  },
  {
   "metadata": {
    "ExecuteTime": {
     "end_time": "2025-05-08T12:06:44.151077Z",
     "start_time": "2025-05-08T12:06:44.087214Z"
    }
   },
   "cell_type": "code",
   "source": [
    "# Zunächst wieder der Plot der \"wahren\" Cluster (mit Labels):\n",
    "plt.scatter(X[:, 0],\n",
    "\t\t\tX[:, 1],\n",
    "\t\t\tc=y,\n",
    "\t\t\tcmap='viridis');"
   ],
   "id": "828f28fe93311ed",
   "outputs": [
    {
     "data": {
      "text/plain": [
       "<Figure size 640x480 with 1 Axes>"
      ],
      "image/png": "[encoded data removed]"
     },
     "metadata": {},
     "output_type": "display_data"
    }
   ],
   "execution_count": 19
  },
  {
   "metadata": {
    "ExecuteTime": {
     "end_time": "2025-05-08T12:06:44.177420Z",
     "start_time": "2025-05-08T12:06:44.173397Z"
    }
   },
   "cell_type": "code",
   "source": [
    "# Quizfrage: Wird hier KNN funktionieren?\n",
    "# Ja, aber nicht mehr so gut wahrscheinlich."
   ],
   "id": "379e34b3dab97e78",
   "outputs": [],
   "execution_count": 20
  },
  {
   "metadata": {
    "ExecuteTime": {
     "end_time": "2025-05-08T12:06:44.222048Z",
     "start_time": "2025-05-08T12:06:44.217182Z"
    }
   },
   "cell_type": "code",
   "source": [
    "# Aufsplitten in Trainings- und Testdaten (Validierung sparen wir uns noch):\n",
    "X_train, X_test, y_train, y_test = train_test_split(X, y, random_state=42)"
   ],
   "id": "93bd7544e54e7bde",
   "outputs": [],
   "execution_count": 21
  },
  {
   "metadata": {
    "ExecuteTime": {
     "end_time": "2025-05-08T12:06:44.248287Z",
     "start_time": "2025-05-08T12:06:44.240715Z"
    }
   },
   "cell_type": "code",
   "source": [
    "# Modelltraining:\n",
    "knn = KNeighborsClassifier()\n",
    "knn.fit(X_train, y_train)"
   ],
   "id": "aa0de527ed681cef",
   "outputs": [
    {
     "data": {
      "text/plain": [
       "KNeighborsClassifier()"
      ],
      "text/html": [
       "<style>#sk-container-id-2 {\n",
       "  /* Definition of color scheme common for light and dark mode */\n",
       "  --sklearn-color-text: #000;\n",
       "  --sklearn-color-text-muted: #666;\n",
       "  --sklearn-color-line: gray;\n",
       "  /* Definition of color scheme for unfitted estimators */\n",
       "  --sklearn-color-unfitted-level-0: #fff5e6;\n",
       "  --sklearn-color-unfitted-level-1: #f6e4d2;\n",
       "  --sklearn-color-unfitted-level-2: #ffe0b3;\n",
       "  --sklearn-color-unfitted-level-3: chocolate;\n",
       "  /* Definition of color scheme for fitted estimators */\n",
       "  --sklearn-color-fitted-level-0: #f0f8ff;\n",
       "  --sklearn-color-fitted-level-1: #d4ebff;\n",
       "  --sklearn-color-fitted-level-2: #b3dbfd;\n",
       "  --sklearn-color-fitted-level-3: cornflowerblue;\n",
       "\n",
       "  /* Specific color for light theme */\n",
       "  --sklearn-color-text-on-default-background: var(--sg-text-color, var(--theme-code-foreground, var(--jp-content-font-color1, black)));\n",
       "  --sklearn-color-background: var(--sg-background-color, var(--theme-background, var(--jp-layout-color0, white)));\n",
       "  --sklearn-color-border-box: var(--sg-text-color, var(--theme-code-foreground, var(--jp-content-font-color1, black)));\n",
       "  --sklearn-color-icon: #696969;\n",
       "\n",
       "  @media (prefers-color-scheme: dark) {\n",
       "    /* Redefinition of color scheme for dark theme */\n",
       "    --sklearn-color-text-on-default-background: var(--sg-text-color, var(--theme-code-foreground, var(--jp-content-font-color1, white)));\n",
       "    --sklearn-color-background: var(--sg-background-color, var(--theme-background, var(--jp-layout-color0, #111)));\n",
       "    --sklearn-color-border-box: var(--sg-text-color, var(--theme-code-foreground, var(--jp-content-font-color1, white)));\n",
       "    --sklearn-color-icon: #878787;\n",
       "  }\n",
       "}\n",
       "\n",
       "#sk-container-id-2 {\n",
       "  color: var(--sklearn-color-text);\n",
       "}\n",
       "\n",
       "#sk-container-id-2 pre {\n",
       "  padding: 0;\n",
       "}\n",
       "\n",
       "#sk-container-id-2 input.sk-hidden--visually {\n",
       "  border: 0;\n",
       "  clip: rect(1px 1px 1px 1px);\n",
       "  clip: rect(1px, 1px, 1px, 1px);\n",
       "  height: 1px;\n",
       "  margin: -1px;\n",
       "  overflow: hidden;\n",
       "  padding: 0;\n",
       "  position: absolute;\n",
       "  width: 1px;\n",
       "}\n",
       "\n",
       "#sk-container-id-2 div.sk-dashed-wrapped {\n",
       "  border: 1px dashed var(--sklearn-color-line);\n",
       "  margin: 0 0.4em 0.5em 0.4em;\n",
       "  box-sizing: border-box;\n",
       "  padding-bottom: 0.4em;\n",
       "  background-color: var(--sklearn-color-background);\n",
       "}\n",
       "\n",
       "#sk-container-id-2 div.sk-container {\n",
       "  /* jupyter's `normalize.less` sets `[hidden] { display: none; }`\n",
       "     but bootstrap.min.css set `[hidden] { display: none !important; }`\n",
       "     so we also need the `!important` here to be able to override the\n",
       "     default hidden behavior on the sphinx rendered scikit-learn.org.\n",
       "     See: https://github.com/scikit-learn/scikit-learn/issues/21755 */\n",
       "  display: inline-block !important;\n",
       "  position: relative;\n",
       "}\n",
       "\n",
       "#sk-container-id-2 div.sk-text-repr-fallback {\n",
       "  display: none;\n",
       "}\n",
       "\n",
       "div.sk-parallel-item,\n",
       "div.sk-serial,\n",
       "div.sk-item {\n",
       "  /* draw centered vertical line to link estimators */\n",
       "  background-image: linear-gradient(var(--sklearn-color-text-on-default-background), var(--sklearn-color-text-on-default-background));\n",
       "  background-size: 2px 100%;\n",
       "  background-repeat: no-repeat;\n",
       "  background-position: center center;\n",
       "}\n",
       "\n",
       "/* Parallel-specific style estimator block */\n",
       "\n",
       "#sk-container-id-2 div.sk-parallel-item::after {\n",
       "  content: \"\";\n",
       "  width: 100%;\n",
       "  border-bottom: 2px solid var(--sklearn-color-text-on-default-background);\n",
       "  flex-grow: 1;\n",
       "}\n",
       "\n",
       "#sk-container-id-2 div.sk-parallel {\n",
       "  display: flex;\n",
       "  align-items: stretch;\n",
       "  justify-content: center;\n",
       "  background-color: var(--sklearn-color-background);\n",
       "  position: relative;\n",
       "}\n",
       "\n",
       "#sk-container-id-2 div.sk-parallel-item {\n",
       "  display: flex;\n",
       "  flex-direction: column;\n",
       "}\n",
       "\n",
       "#sk-container-id-2 div.sk-parallel-item:first-child::after {\n",
       "  align-self: flex-end;\n",
       "  width: 50%;\n",
       "}\n",
       "\n",
       "#sk-container-id-2 div.sk-parallel-item:last-child::after {\n",
       "  align-self: flex-start;\n",
       "  width: 50%;\n",
       "}\n",
       "\n",
       "#sk-container-id-2 div.sk-parallel-item:only-child::after {\n",
       "  width: 0;\n",
       "}\n",
       "\n",
       "/* Serial-specific style estimator block */\n",
       "\n",
       "#sk-container-id-2 div.sk-serial {\n",
       "  display: flex;\n",
       "  flex-direction: column;\n",
       "  align-items: center;\n",
       "  background-color: var(--sklearn-color-background);\n",
       "  padding-right: 1em;\n",
       "  padding-left: 1em;\n",
       "}\n",
       "\n",
       "\n",
       "/* Toggleable style: style used for estimator/Pipeline/ColumnTransformer box that is\n",
       "clickable and can be expanded/collapsed.\n",
       "- Pipeline and ColumnTransformer use this feature and define the default style\n",
       "- Estimators will overwrite some part of the style using the `sk-estimator` class\n",
       "*/\n",
       "\n",
       "/* Pipeline and ColumnTransformer style (default) */\n",
       "\n",
       "#sk-container-id-2 div.sk-toggleable {\n",
       "  /* Default theme specific background. It is overwritten whether we have a\n",
       "  specific estimator or a Pipeline/ColumnTransformer */\n",
       "  background-color: var(--sklearn-color-background);\n",
       "}\n",
       "\n",
       "/* Toggleable label */\n",
       "#sk-container-id-2 label.sk-toggleable__label {\n",
       "  cursor: pointer;\n",
       "  display: flex;\n",
       "  width: 100%;\n",
       "  margin-bottom: 0;\n",
       "  padding: 0.5em;\n",
       "  box-sizing: border-box;\n",
       "  text-align: center;\n",
       "  align-items: start;\n",
       "  justify-content: space-between;\n",
       "  gap: 0.5em;\n",
       "}\n",
       "\n",
       "#sk-container-id-2 label.sk-toggleable__label .caption {\n",
       "  font-size: 0.6rem;\n",
       "  font-weight: lighter;\n",
       "  color: var(--sklearn-color-text-muted);\n",
       "}\n",
       "\n",
       "#sk-container-id-2 label.sk-toggleable__label-arrow:before {\n",
       "  /* Arrow on the left of the label */\n",
       "  content: \"▸\";\n",
       "  float: left;\n",
       "  margin-right: 0.25em;\n",
       "  color: var(--sklearn-color-icon);\n",
       "}\n",
       "\n",
       "#sk-container-id-2 label.sk-toggleable__label-arrow:hover:before {\n",
       "  color: var(--sklearn-color-text);\n",
       "}\n",
       "\n",
       "/* Toggleable content - dropdown */\n",
       "\n",
       "#sk-container-id-2 div.sk-toggleable__content {\n",
       "  max-height: 0;\n",
       "  max-width: 0;\n",
       "  overflow: hidden;\n",
       "  text-align: left;\n",
       "  /* unfitted */\n",
       "  background-color: var(--sklearn-color-unfitted-level-0);\n",
       "}\n",
       "\n",
       "#sk-container-id-2 div.sk-toggleable__content.fitted {\n",
       "  /* fitted */\n",
       "  background-color: var(--sklearn-color-fitted-level-0);\n",
       "}\n",
       "\n",
       "#sk-container-id-2 div.sk-toggleable__content pre {\n",
       "  margin: 0.2em;\n",
       "  border-radius: 0.25em;\n",
       "  color: var(--sklearn-color-text);\n",
       "  /* unfitted */\n",
       "  background-color: var(--sklearn-color-unfitted-level-0);\n",
       "}\n",
       "\n",
       "#sk-container-id-2 div.sk-toggleable__content.fitted pre {\n",
       "  /* unfitted */\n",
       "  background-color: var(--sklearn-color-fitted-level-0);\n",
       "}\n",
       "\n",
       "#sk-container-id-2 input.sk-toggleable__control:checked~div.sk-toggleable__content {\n",
       "  /* Expand drop-down */\n",
       "  max-height: 200px;\n",
       "  max-width: 100%;\n",
       "  overflow: auto;\n",
       "}\n",
       "\n",
       "#sk-container-id-2 input.sk-toggleable__control:checked~label.sk-toggleable__label-arrow:before {\n",
       "  content: \"▾\";\n",
       "}\n",
       "\n",
       "/* Pipeline/ColumnTransformer-specific style */\n",
       "\n",
       "#sk-container-id-2 div.sk-label input.sk-toggleable__control:checked~label.sk-toggleable__label {\n",
       "  color: var(--sklearn-color-text);\n",
       "  background-color: var(--sklearn-color-unfitted-level-2);\n",
       "}\n",
       "\n",
       "#sk-container-id-2 div.sk-label.fitted input.sk-toggleable__control:checked~label.sk-toggleable__label {\n",
       "  background-color: var(--sklearn-color-fitted-level-2);\n",
       "}\n",
       "\n",
       "/* Estimator-specific style */\n",
       "\n",
       "/* Colorize estimator box */\n",
       "#sk-container-id-2 div.sk-estimator input.sk-toggleable__control:checked~label.sk-toggleable__label {\n",
       "  /* unfitted */\n",
       "  background-color: var(--sklearn-color-unfitted-level-2);\n",
       "}\n",
       "\n",
       "#sk-container-id-2 div.sk-estimator.fitted input.sk-toggleable__control:checked~label.sk-toggleable__label {\n",
       "  /* fitted */\n",
       "  background-color: var(--sklearn-color-fitted-level-2);\n",
       "}\n",
       "\n",
       "#sk-container-id-2 div.sk-label label.sk-toggleable__label,\n",
       "#sk-container-id-2 div.sk-label label {\n",
       "  /* The background is the default theme color */\n",
       "  color: var(--sklearn-color-text-on-default-background);\n",
       "}\n",
       "\n",
       "/* On hover, darken the color of the background */\n",
       "#sk-container-id-2 div.sk-label:hover label.sk-toggleable__label {\n",
       "  color: var(--sklearn-color-text);\n",
       "  background-color: var(--sklearn-color-unfitted-level-2);\n",
       "}\n",
       "\n",
       "/* Label box, darken color on hover, fitted */\n",
       "#sk-container-id-2 div.sk-label.fitted:hover label.sk-toggleable__label.fitted {\n",
       "  color: var(--sklearn-color-text);\n",
       "  background-color: var(--sklearn-color-fitted-level-2);\n",
       "}\n",
       "\n",
       "/* Estimator label */\n",
       "\n",
       "#sk-container-id-2 div.sk-label label {\n",
       "  font-family: monospace;\n",
       "  font-weight: bold;\n",
       "  display: inline-block;\n",
       "  line-height: 1.2em;\n",
       "}\n",
       "\n",
       "#sk-container-id-2 div.sk-label-container {\n",
       "  text-align: center;\n",
       "}\n",
       "\n",
       "/* Estimator-specific */\n",
       "#sk-container-id-2 div.sk-estimator {\n",
       "  font-family: monospace;\n",
       "  border: 1px dotted var(--sklearn-color-border-box);\n",
       "  border-radius: 0.25em;\n",
       "  box-sizing: border-box;\n",
       "  margin-bottom: 0.5em;\n",
       "  /* unfitted */\n",
       "  background-color: var(--sklearn-color-unfitted-level-0);\n",
       "}\n",
       "\n",
       "#sk-container-id-2 div.sk-estimator.fitted {\n",
       "  /* fitted */\n",
       "  background-color: var(--sklearn-color-fitted-level-0);\n",
       "}\n",
       "\n",
       "/* on hover */\n",
       "#sk-container-id-2 div.sk-estimator:hover {\n",
       "  /* unfitted */\n",
       "  background-color: var(--sklearn-color-unfitted-level-2);\n",
       "}\n",
       "\n",
       "#sk-container-id-2 div.sk-estimator.fitted:hover {\n",
       "  /* fitted */\n",
       "  background-color: var(--sklearn-color-fitted-level-2);\n",
       "}\n",
       "\n",
       "/* Specification for estimator info (e.g. \"i\" and \"?\") */\n",
       "\n",
       "/* Common style for \"i\" and \"?\" */\n",
       "\n",
       ".sk-estimator-doc-link,\n",
       "a:link.sk-estimator-doc-link,\n",
       "a:visited.sk-estimator-doc-link {\n",
       "  float: right;\n",
       "  font-size: smaller;\n",
       "  line-height: 1em;\n",
       "  font-family: monospace;\n",
       "  background-color: var(--sklearn-color-background);\n",
       "  border-radius: 1em;\n",
       "  height: 1em;\n",
       "  width: 1em;\n",
       "  text-decoration: none !important;\n",
       "  margin-left: 0.5em;\n",
       "  text-align: center;\n",
       "  /* unfitted */\n",
       "  border: var(--sklearn-color-unfitted-level-1) 1pt solid;\n",
       "  color: var(--sklearn-color-unfitted-level-1);\n",
       "}\n",
       "\n",
       ".sk-estimator-doc-link.fitted,\n",
       "a:link.sk-estimator-doc-link.fitted,\n",
       "a:visited.sk-estimator-doc-link.fitted {\n",
       "  /* fitted */\n",
       "  border: var(--sklearn-color-fitted-level-1) 1pt solid;\n",
       "  color: var(--sklearn-color-fitted-level-1);\n",
       "}\n",
       "\n",
       "/* On hover */\n",
       "div.sk-estimator:hover .sk-estimator-doc-link:hover,\n",
       ".sk-estimator-doc-link:hover,\n",
       "div.sk-label-container:hover .sk-estimator-doc-link:hover,\n",
       ".sk-estimator-doc-link:hover {\n",
       "  /* unfitted */\n",
       "  background-color: var(--sklearn-color-unfitted-level-3);\n",
       "  color: var(--sklearn-color-background);\n",
       "  text-decoration: none;\n",
       "}\n",
       "\n",
       "div.sk-estimator.fitted:hover .sk-estimator-doc-link.fitted:hover,\n",
       ".sk-estimator-doc-link.fitted:hover,\n",
       "div.sk-label-container:hover .sk-estimator-doc-link.fitted:hover,\n",
       ".sk-estimator-doc-link.fitted:hover {\n",
       "  /* fitted */\n",
       "  background-color: var(--sklearn-color-fitted-level-3);\n",
       "  color: var(--sklearn-color-background);\n",
       "  text-decoration: none;\n",
       "}\n",
       "\n",
       "/* Span, style for the box shown on hovering the info icon */\n",
       ".sk-estimator-doc-link span {\n",
       "  display: none;\n",
       "  z-index: 9999;\n",
       "  position: relative;\n",
       "  font-weight: normal;\n",
       "  right: .2ex;\n",
       "  padding: .5ex;\n",
       "  margin: .5ex;\n",
       "  width: min-content;\n",
       "  min-width: 20ex;\n",
       "  max-width: 50ex;\n",
       "  color: var(--sklearn-color-text);\n",
       "  box-shadow: 2pt 2pt 4pt #999;\n",
       "  /* unfitted */\n",
       "  background: var(--sklearn-color-unfitted-level-0);\n",
       "  border: .5pt solid var(--sklearn-color-unfitted-level-3);\n",
       "}\n",
       "\n",
       ".sk-estimator-doc-link.fitted span {\n",
       "  /* fitted */\n",
       "  background: var(--sklearn-color-fitted-level-0);\n",
       "  border: var(--sklearn-color-fitted-level-3);\n",
       "}\n",
       "\n",
       ".sk-estimator-doc-link:hover span {\n",
       "  display: block;\n",
       "}\n",
       "\n",
       "/* \"?\"-specific style due to the `<a>` HTML tag */\n",
       "\n",
       "#sk-container-id-2 a.estimator_doc_link {\n",
       "  float: right;\n",
       "  font-size: 1rem;\n",
       "  line-height: 1em;\n",
       "  font-family: monospace;\n",
       "  background-color: var(--sklearn-color-background);\n",
       "  border-radius: 1rem;\n",
       "  height: 1rem;\n",
       "  width: 1rem;\n",
       "  text-decoration: none;\n",
       "  /* unfitted */\n",
       "  color: var(--sklearn-color-unfitted-level-1);\n",
       "  border: var(--sklearn-color-unfitted-level-1) 1pt solid;\n",
       "}\n",
       "\n",
       "#sk-container-id-2 a.estimator_doc_link.fitted {\n",
       "  /* fitted */\n",
       "  border: var(--sklearn-color-fitted-level-1) 1pt solid;\n",
       "  color: var(--sklearn-color-fitted-level-1);\n",
       "}\n",
       "\n",
       "/* On hover */\n",
       "#sk-container-id-2 a.estimator_doc_link:hover {\n",
       "  /* unfitted */\n",
       "  background-color: var(--sklearn-color-unfitted-level-3);\n",
       "  color: var(--sklearn-color-background);\n",
       "  text-decoration: none;\n",
       "}\n",
       "\n",
       "#sk-container-id-2 a.estimator_doc_link.fitted:hover {\n",
       "  /* fitted */\n",
       "  background-color: var(--sklearn-color-fitted-level-3);\n",
       "}\n",
       "</style><div id=\"sk-container-id-2\" class=\"sk-top-container\"><div class=\"sk-text-repr-fallback\"><pre>KNeighborsClassifier()</pre><b>In a Jupyter environment, please rerun this cell to show the HTML representation or trust the notebook. <br />On GitHub, the HTML representation is unable to render, please try loading this page with nbviewer.org.</b></div><div class=\"sk-container\" hidden><div class=\"sk-item\"><div class=\"sk-estimator fitted sk-toggleable\"><input class=\"sk-toggleable__control sk-hidden--visually\" id=\"sk-estimator-id-2\" type=\"checkbox\" checked><label for=\"sk-estimator-id-2\" class=\"sk-toggleable__label fitted sk-toggleable__label-arrow\"><div><div>KNeighborsClassifier</div></div><div><a class=\"sk-estimator-doc-link fitted\" rel=\"noreferrer\" target=\"_blank\" href=\"https://scikit-learn.org/1.6/modules/generated/sklearn.neighbors.KNeighborsClassifier.html\">?<span>Documentation for KNeighborsClassifier</span></a><span class=\"sk-estimator-doc-link fitted\">i<span>Fitted</span></span></div></label><div class=\"sk-toggleable__content fitted\"><pre>KNeighborsClassifier()</pre></div> </div></div></div></div>"
      ]
     },
     "execution_count": 22,
     "metadata": {},
     "output_type": "execute_result"
    }
   ],
   "execution_count": 22
  },
  {
   "metadata": {
    "ExecuteTime": {
     "end_time": "2025-05-08T12:06:44.286581Z",
     "start_time": "2025-05-08T12:06:44.276035Z"
    }
   },
   "cell_type": "code",
   "source": [
    "# Modell-Performance:\n",
    "knn_score = knn.score(X_test, y_test)\n",
    "print('Accuracy bei Test:', knn_score)"
   ],
   "id": "f1bbc5fb0e30f9d5",
   "outputs": [
    {
     "name": "stdout",
     "output_type": "stream",
     "text": [
      "Accuracy bei Test: 0.96\n"
     ]
    }
   ],
   "execution_count": 23
  },
  {
   "metadata": {
    "ExecuteTime": {
     "end_time": "2025-05-08T12:06:44.344802Z",
     "start_time": "2025-05-08T12:06:44.338268Z"
    }
   },
   "cell_type": "code",
   "source": [
    "# Predictions als Array generieren:\n",
    "y_pred = knn.predict(X_test)"
   ],
   "id": "e0af94d70ccf7505",
   "outputs": [],
   "execution_count": 24
  },
  {
   "metadata": {
    "ExecuteTime": {
     "end_time": "2025-05-08T12:06:44.502288Z",
     "start_time": "2025-05-08T12:06:44.374162Z"
    }
   },
   "cell_type": "code",
   "source": [
    "# Plotten von Testdaten mit Labels vs. Predictions:\n",
    "_, (ax1, ax2) = plt.subplots(ncols=2, figsize=(10, 4))\n",
    "\n",
    "ax1.scatter(X_test[:, 0],\n",
    "\t\t\tX_test[:, 1],\n",
    "\t\t\tc=y_test,\n",
    "\t\t\tcmap='viridis')\n",
    "ax1.set(title='True Clusters')\n",
    "\n",
    "ax2.scatter(X_test[:, 0],\n",
    "\t\t\tX_test[:, 1],\n",
    "\t\t\tc=y_pred,\n",
    "\t\t\tcmap='viridis')\n",
    "ax2.set(title='Predicted Clusters');"
   ],
   "id": "36341bb1bf6a0625",
   "outputs": [
    {
     "data": {
      "text/plain": [
       "<Figure size 1000x400 with 2 Axes>"
      ],
      "image/png": "[encoded data removed]"
     },
     "metadata": {},
     "output_type": "display_data"
    }
   ],
   "execution_count": 25
  },
  {
   "metadata": {
    "ExecuteTime": {
     "end_time": "2025-05-08T12:06:44.529759Z",
     "start_time": "2025-05-08T12:06:44.526241Z"
    }
   },
   "cell_type": "code",
   "source": [
    "# Quizfrage: Was ist denn hier passiert?\n",
    "# Bei den beiden gelben Punkten ist die Nachbarschaft doch ganz \"klar\"!"
   ],
   "id": "1bea01abad967d4b",
   "outputs": [],
   "execution_count": 26
  },
  {
   "metadata": {
    "ExecuteTime": {
     "end_time": "2025-05-08T12:06:44.561429Z",
     "start_time": "2025-05-08T12:06:44.558180Z"
    }
   },
   "cell_type": "code",
   "source": [
    "# Das Modell hat von den Trainingsdaten und nicht von den Testdaten gelernt.\n",
    "# Es wird immer Punkte nach ihrer Nähe zu Punkten bestimmen, wie sie in den Trainingsdaten\n",
    "# vorlagen!"
   ],
   "id": "7b05e1a82c55d110",
   "outputs": [],
   "execution_count": 27
  },
  {
   "metadata": {
    "ExecuteTime": {
     "end_time": "2025-05-08T12:06:44.711280Z",
     "start_time": "2025-05-08T12:06:44.583228Z"
    }
   },
   "cell_type": "code",
   "source": [
    "# Wie sieht das Clustering der Trainingsdaten aus? \n",
    "# Plotten von Trainingsdaten mit Labels vs. Predictions:\n",
    "y_pred = knn.predict(X_train)\n",
    "\n",
    "_, (ax1, ax2) = plt.subplots(ncols=2, figsize=(10, 4))\n",
    "\n",
    "ax1.scatter(X_train[:, 0],\n",
    "\t\t\tX_train[:, 1],\n",
    "\t\t\tc=y_train,\n",
    "\t\t\tcmap='viridis')\n",
    "ax1.set(title='True Clusters')\n",
    "\n",
    "ax2.scatter(X_train[:, 0],\n",
    "\t\t\tX_train[:, 1],\n",
    "\t\t\tc=y_pred,\n",
    "\t\t\tcmap='viridis')\n",
    "ax2.set(title='Predicted Clusters');"
   ],
   "id": "3e64bd1d118bff43",
   "outputs": [
    {
     "data": {
      "text/plain": [
       "<Figure size 1000x400 with 2 Axes>"
      ],
      "image/png": "[encoded data removed]"
     },
     "metadata": {},
     "output_type": "display_data"
    }
   ],
   "execution_count": 28
  },
  {
   "metadata": {
    "ExecuteTime": {
     "end_time": "2025-05-08T12:06:44.731086Z",
     "start_time": "2025-05-08T12:06:44.727160Z"
    }
   },
   "cell_type": "code",
   "source": [
    "# Mit Hyperparametern spielen. \n",
    "# Was für ein Ergebnis gibt es, wenn nur 2 nächste Nachbarn die Clusterzugehörigkeit bestimmen? "
   ],
   "id": "eab850b167ce6f9e",
   "outputs": [],
   "execution_count": 29
  },
  {
   "metadata": {
    "ExecuteTime": {
     "end_time": "2025-05-08T12:06:44.888947Z",
     "start_time": "2025-05-08T12:06:44.761289Z"
    }
   },
   "cell_type": "code",
   "source": [
    "knn = KNeighborsClassifier(n_neighbors=2)\n",
    "knn.fit(X_train, y_train)\n",
    "\n",
    "y_pred = knn.predict(X_train)\n",
    "\n",
    "_, (ax1, ax2) = plt.subplots(ncols=2, figsize=(10, 4))\n",
    "\n",
    "ax1.scatter(X_train[:, 0],\n",
    "\t\t\tX_train[:, 1],\n",
    "\t\t\tc=y_train,\n",
    "\t\t\tcmap='viridis')\n",
    "ax1.set(title='True Clusters')\n",
    "\n",
    "ax2.scatter(X_train[:, 0],\n",
    "\t\t\tX_train[:, 1],\n",
    "\t\t\tc=y_pred,\n",
    "\t\t\tcmap='viridis')\n",
    "ax2.set(title='Predicted Clusters');"
   ],
   "id": "615e1fd33706700c",
   "outputs": [
    {
     "data": {
      "text/plain": [
       "<Figure size 1000x400 with 2 Axes>"
      ],
      "image/png": "[encoded data removed]"
     },
     "metadata": {},
     "output_type": "display_data"
    }
   ],
   "execution_count": 30
  },
  {
   "metadata": {
    "ExecuteTime": {
     "end_time": "2025-05-08T12:06:44.919088Z",
     "start_time": "2025-05-08T12:06:44.907251Z"
    }
   },
   "cell_type": "code",
   "source": "knn.score(X_train, y_train)",
   "id": "454c0d50d916ae9b",
   "outputs": [
    {
     "data": {
      "text/plain": [
       "0.9466666666666667"
      ]
     },
     "execution_count": 31,
     "metadata": {},
     "output_type": "execute_result"
    }
   ],
   "execution_count": 31
  },
  {
   "metadata": {
    "ExecuteTime": {
     "end_time": "2025-05-08T12:06:45.033602Z",
     "start_time": "2025-05-08T12:06:44.952918Z"
    }
   },
   "cell_type": "code",
   "source": [
    "# Bei welchem n macht unser Modell die beste Arbeit? (bzw. hat es die geringste Fehlerrate)\n",
    "# Gridsearch mit for-Schleife\n",
    "\n",
    "accuracy_rates = []\n",
    "\n",
    "for i in range(1, 31):\n",
    "\tknn = KNeighborsClassifier(n_neighbors=i)\n",
    "\tX_train, X_test, y_train, y_test = train_test_split(X, y, random_state=42)\n",
    "\tknn.fit(X_train, y_train)\n",
    "\taccuracy = knn.score(X_test, y_test)\n",
    "\taccuracy_rates.append(accuracy)"
   ],
   "id": "edd4806bd43c26a0",
   "outputs": [],
   "execution_count": 32
  },
  {
   "metadata": {
    "ExecuteTime": {
     "end_time": "2025-05-08T12:06:45.054514Z",
     "start_time": "2025-05-08T12:06:45.049223Z"
    }
   },
   "cell_type": "code",
   "source": "accuracy_rates",
   "id": "df5e6d864dadb485",
   "outputs": [
    {
     "data": {
      "text/plain": [
       "[0.92,\n",
       " 0.96,\n",
       " 0.98,\n",
       " 0.98,\n",
       " 0.96,\n",
       " 0.98,\n",
       " 0.96,\n",
       " 0.98,\n",
       " 0.98,\n",
       " 0.98,\n",
       " 0.98,\n",
       " 0.98,\n",
       " 0.96,\n",
       " 0.98,\n",
       " 0.98,\n",
       " 0.98,\n",
       " 0.98,\n",
       " 1.0,\n",
       " 1.0,\n",
       " 1.0,\n",
       " 0.98,\n",
       " 1.0,\n",
       " 0.96,\n",
       " 0.98,\n",
       " 0.98,\n",
       " 0.98,\n",
       " 0.98,\n",
       " 0.98,\n",
       " 0.98,\n",
       " 1.0]"
      ]
     },
     "execution_count": 33,
     "metadata": {},
     "output_type": "execute_result"
    }
   ],
   "execution_count": 33
  },
  {
   "metadata": {
    "ExecuteTime": {
     "end_time": "2025-05-08T12:06:45.174823Z",
     "start_time": "2025-05-08T12:06:45.092665Z"
    }
   },
   "cell_type": "code",
   "source": [
    "_, ax = plt.subplots(figsize=(12, 4))\n",
    "ax.plot(range(1, 31), accuracy_rates, marker=\"o\")"
   ],
   "id": "24911c107fc55e0f",
   "outputs": [
    {
     "data": {
      "text/plain": [
       "[<matplotlib.lines.Line2D at 0x23751842900>]"
      ]
     },
     "execution_count": 34,
     "metadata": {},
     "output_type": "execute_result"
    },
    {
     "data": {
      "text/plain": [
       "<Figure size 1200x400 with 1 Axes>"
      ],
      "image/png": "[encoded data removed]"
     },
     "metadata": {},
     "output_type": "display_data"
    }
   ],
   "execution_count": 34
  },
  {
   "metadata": {
    "ExecuteTime": {
     "end_time": "2025-05-08T12:06:45.282333Z",
     "start_time": "2025-05-08T12:06:45.203980Z"
    }
   },
   "cell_type": "code",
   "source": [
    "# Eigener Gridsearch mit For-Schleife\n",
    "# Training mit verschiedenen k's und Vergleich der Fehlerraten\n",
    "error_rates = []\n",
    "\n",
    "for i in range(1, 31):\n",
    "\tknn = KNeighborsClassifier(n_neighbors=i)\n",
    "\tknn.fit(X_train, y_train)\n",
    "\terror_rate = 1 - knn.score(X_test, y_test)\n",
    "\terror_rates.append(error_rate)"
   ],
   "id": "2fc67fe1d7152073",
   "outputs": [],
   "execution_count": 35
  },
  {
   "metadata": {
    "ExecuteTime": {
     "end_time": "2025-05-08T12:06:45.302495Z",
     "start_time": "2025-05-08T12:06:45.297855Z"
    }
   },
   "cell_type": "code",
   "source": "error_rates",
   "id": "52e8576bab40baae",
   "outputs": [
    {
     "data": {
      "text/plain": [
       "[0.07999999999999996,\n",
       " 0.040000000000000036,\n",
       " 0.020000000000000018,\n",
       " 0.020000000000000018,\n",
       " 0.040000000000000036,\n",
       " 0.020000000000000018,\n",
       " 0.040000000000000036,\n",
       " 0.020000000000000018,\n",
       " 0.020000000000000018,\n",
       " 0.020000000000000018,\n",
       " 0.020000000000000018,\n",
       " 0.020000000000000018,\n",
       " 0.040000000000000036,\n",
       " 0.020000000000000018,\n",
       " 0.020000000000000018,\n",
       " 0.020000000000000018,\n",
       " 0.020000000000000018,\n",
       " 0.0,\n",
       " 0.0,\n",
       " 0.0,\n",
       " 0.020000000000000018,\n",
       " 0.0,\n",
       " 0.040000000000000036,\n",
       " 0.020000000000000018,\n",
       " 0.020000000000000018,\n",
       " 0.020000000000000018,\n",
       " 0.020000000000000018,\n",
       " 0.020000000000000018,\n",
       " 0.020000000000000018,\n",
       " 0.0]"
      ]
     },
     "execution_count": 36,
     "metadata": {},
     "output_type": "execute_result"
    }
   ],
   "execution_count": 36
  },
  {
   "metadata": {
    "ExecuteTime": {
     "end_time": "2025-05-08T12:06:45.346983Z",
     "start_time": "2025-05-08T12:06:45.341981Z"
    }
   },
   "cell_type": "code",
   "source": "np.arange(31)",
   "id": "dc69ab761aa74008",
   "outputs": [
    {
     "data": {
      "text/plain": [
       "array([ 0,  1,  2,  3,  4,  5,  6,  7,  8,  9, 10, 11, 12, 13, 14, 15, 16,\n",
       "       17, 18, 19, 20, 21, 22, 23, 24, 25, 26, 27, 28, 29, 30])"
      ]
     },
     "execution_count": 37,
     "metadata": {},
     "output_type": "execute_result"
    }
   ],
   "execution_count": 37
  },
  {
   "metadata": {
    "ExecuteTime": {
     "end_time": "2025-05-08T12:06:45.558088Z",
     "start_time": "2025-05-08T12:06:45.406301Z"
    }
   },
   "cell_type": "code",
   "source": [
    "# Fehlerraten visualisieren und die besten sehen:\n",
    "_, ax = plt.subplots(figsize=(12, 4))\n",
    "ax.plot(range(1, 31), error_rates, marker='o')\n",
    "plt.title(\"Fehlerrate des KNN-Modells\")\n",
    "plt.xlabel(\"Wert von K\")\n",
    "plt.ylabel(\"Fehlerrate\")\n",
    "plt.xticks(np.arange(31));"
   ],
   "id": "a00385c53379af03",
   "outputs": [
    {
     "data": {
      "text/plain": [
       "<Figure size 1200x400 with 1 Axes>"
      ],
      "image/png": "[encoded data removed]"
     },
     "metadata": {},
     "output_type": "display_data"
    }
   ],
   "execution_count": 38
  },
  {
   "metadata": {
    "ExecuteTime": {
     "end_time": "2025-05-08T12:06:45.589065Z",
     "start_time": "2025-05-08T12:06:45.583058Z"
    }
   },
   "cell_type": "code",
   "source": "min(error_rates)",
   "id": "c539ce1a3cf05e26",
   "outputs": [
    {
     "data": {
      "text/plain": [
       "0.0"
      ]
     },
     "execution_count": 39,
     "metadata": {},
     "output_type": "execute_result"
    }
   ],
   "execution_count": 39
  },
  {
   "metadata": {
    "ExecuteTime": {
     "end_time": "2025-05-08T12:06:45.636349Z",
     "start_time": "2025-05-08T12:06:45.631348Z"
    }
   },
   "cell_type": "code",
   "source": [
    "# Die besten n mit for-Schleife rausholen:\n",
    "for i, error_rate in enumerate(error_rates):\n",
    "\tif error_rate == min(error_rates):\n",
    "\t\tprint('Minimum at:', i + 1)"
   ],
   "id": "9a90f1a3093eebeb",
   "outputs": [
    {
     "name": "stdout",
     "output_type": "stream",
     "text": [
      "Minimum at: 18\n",
      "Minimum at: 19\n",
      "Minimum at: 20\n",
      "Minimum at: 22\n",
      "Minimum at: 30\n"
     ]
    }
   ],
   "execution_count": 40
  },
  {
   "metadata": {
    "ExecuteTime": {
     "end_time": "2025-05-08T12:06:45.709216Z",
     "start_time": "2025-05-08T12:06:45.705209Z"
    }
   },
   "cell_type": "code",
   "source": "# Dann lasst uns die Visualisierung für n=18 durchspielen!",
   "id": "e14b58d55159e0d5",
   "outputs": [],
   "execution_count": 41
  },
  {
   "metadata": {
    "ExecuteTime": {
     "end_time": "2025-05-08T12:06:45.875227Z",
     "start_time": "2025-05-08T12:06:45.744443Z"
    }
   },
   "cell_type": "code",
   "source": [
    "knn = KNeighborsClassifier(n_neighbors=18)\n",
    "knn.fit(X_train, y_train)\n",
    "\n",
    "y_pred = knn.predict(X_test)\n",
    "\n",
    "_, (ax1, ax2) = plt.subplots(ncols=2, figsize=(10, 4))\n",
    "\n",
    "ax1.scatter(X_test[:, 0],\n",
    "\t\t\tX_test[:, 1],\n",
    "\t\t\tc=y_test,\n",
    "\t\t\tcmap='viridis')\n",
    "ax1.set(title='True Clusters')\n",
    "\n",
    "ax2.scatter(X_test[:, 0],\n",
    "\t\t\tX_test[:, 1],\n",
    "\t\t\tc=y_pred,\n",
    "\t\t\tcmap='viridis')\n",
    "ax2.set(title='Predicted Clusters');"
   ],
   "id": "a94e5ebb5c75e3a1",
   "outputs": [
    {
     "data": {
      "text/plain": [
       "<Figure size 1000x400 with 2 Axes>"
      ],
      "image/png": "[encoded data removed]"
     },
     "metadata": {},
     "output_type": "display_data"
    }
   ],
   "execution_count": 42
  },
  {
   "metadata": {
    "ExecuteTime": {
     "end_time": "2025-05-08T12:06:46.101989Z",
     "start_time": "2025-05-08T12:06:45.896997Z"
    }
   },
   "cell_type": "code",
   "source": [
    "# Aber Vorsicht, das lag nur daran, dass Test so angenehm wenig Punkte hatte.\n",
    "# Für die Trainingsdaten (mit viel mehr Punkten) sind die Cluster nicht ganz so perfekt.\n",
    "knn = KNeighborsClassifier(n_neighbors=18)\n",
    "knn.fit(X_train, y_train)\n",
    "\n",
    "y_pred = knn.predict(X_train)\n",
    "\n",
    "_, (ax1, ax2) = plt.subplots(ncols=2, figsize=(10, 4))\n",
    "ax1.scatter(X_train[:, 0],\n",
    "\t\t\tX_train[:, 1],\n",
    "\t\t\tc=y_train,\n",
    "\t\t\tcmap='viridis')\n",
    "\n",
    "ax1.set(title='True Clusters')\n",
    "\n",
    "ax2.scatter(X_train[:, 0],\n",
    "\t\t\tX_train[:, 1],\n",
    "\t\t\tc=y_pred,\n",
    "\t\t\tcmap='viridis')\n",
    "\n",
    "ax2.set(title='Predicted Clusters');"
   ],
   "id": "ab1366f8da9906b2",
   "outputs": [
    {
     "data": {
      "text/plain": [
       "<Figure size 1000x400 with 2 Axes>"
      ],
      "image/png": "[encoded data removed]"
     },
     "metadata": {},
     "output_type": "display_data"
    }
   ],
   "execution_count": 43
  },
  {
   "metadata": {},
   "cell_type": "markdown",
   "source": "# Jetzt wird es ernst: <br>Bestimmung der Gut-/Bösartigkeit von Tumoren",
   "id": "7ca90f06d2499ea1"
  },
  {
   "metadata": {},
   "cell_type": "markdown",
   "source": "## Mit KNN: K-Nearest Neighbour (K-Nächste Nachbarn)",
   "id": "19eea09a8b38e020"
  },
  {
   "metadata": {
    "ExecuteTime": {
     "end_time": "2025-05-08T12:06:46.143796Z",
     "start_time": "2025-05-08T12:06:46.118908Z"
    }
   },
   "cell_type": "code",
   "source": [
    "cancer = pd.read_csv('breast_cancer.csv', index_col='id')\n",
    "cancer.head()"
   ],
   "id": "4a75fed09eb59618",
   "outputs": [
    {
     "data": {
      "text/plain": [
       "         diagnosis  radius_mean  texture_mean  perimeter_mean  area_mean  \\\n",
       "id                                                                         \n",
       "842302           M        17.99         10.38          122.80     1001.0   \n",
       "842517           M        20.57         17.77          132.90     1326.0   \n",
       "84300903         M        19.69         21.25          130.00     1203.0   \n",
       "84348301         M        11.42         20.38           77.58      386.1   \n",
       "84358402         M        20.29         14.34          135.10     1297.0   \n",
       "\n",
       "          smoothness_mean  compactness_mean  concavity_mean  \\\n",
       "id                                                            \n",
       "842302            0.11840           0.27760          0.3001   \n",
       "842517            0.08474           0.07864          0.0869   \n",
       "84300903          0.10960           0.15990          0.1974   \n",
       "84348301          0.14250           0.28390          0.2414   \n",
       "84358402          0.10030           0.13280          0.1980   \n",
       "\n",
       "          concave points_mean  symmetry_mean  ...  texture_worst  \\\n",
       "id                                            ...                  \n",
       "842302                0.14710         0.2419  ...          17.33   \n",
       "842517                0.07017         0.1812  ...          23.41   \n",
       "84300903              0.12790         0.2069  ...          25.53   \n",
       "84348301              0.10520         0.2597  ...          26.50   \n",
       "84358402              0.10430         0.1809  ...          16.67   \n",
       "\n",
       "          perimeter_worst  area_worst  smoothness_worst  compactness_worst  \\\n",
       "id                                                                           \n",
       "842302             184.60      2019.0            0.1622             0.6656   \n",
       "842517             158.80      1956.0            0.1238             0.1866   \n",
       "84300903           152.50      1709.0            0.1444             0.4245   \n",
       "84348301            98.87       567.7            0.2098             0.8663   \n",
       "84358402           152.20      1575.0            0.1374             0.2050   \n",
       "\n",
       "          concavity_worst  concave points_worst  symmetry_worst  \\\n",
       "id                                                                \n",
       "842302             0.7119                0.2654          0.4601   \n",
       "842517             0.2416                0.1860          0.2750   \n",
       "84300903           0.4504                0.2430          0.3613   \n",
       "84348301           0.6869                0.2575          0.6638   \n",
       "84358402           0.4000                0.1625          0.2364   \n",
       "\n",
       "          fractal_dimension_worst  Unnamed: 32  \n",
       "id                                              \n",
       "842302                    0.11890          NaN  \n",
       "842517                    0.08902          NaN  \n",
       "84300903                  0.08758          NaN  \n",
       "84348301                  0.17300          NaN  \n",
       "84358402                  0.07678          NaN  \n",
       "\n",
       "[5 rows x 32 columns]"
      ],
      "text/html": [
       "<div>\n",
       "<style scoped>\n",
       "    .dataframe tbody tr th:only-of-type {\n",
       "        vertical-align: middle;\n",
       "    }\n",
       "\n",
       "    .dataframe tbody tr th {\n",
       "        vertical-align: top;\n",
       "    }\n",
       "\n",
       "    .dataframe thead th {\n",
       "        text-align: right;\n",
       "    }\n",
       "</style>\n",
       "<table border=\"1\" class=\"dataframe\">\n",
       "  <thead>\n",
       "    <tr style=\"text-align: right;\">\n",
       "      <th></th>\n",
       "      <th>diagnosis</th>\n",
       "      <th>radius_mean</th>\n",
       "      <th>texture_mean</th>\n",
       "      <th>perimeter_mean</th>\n",
       "      <th>area_mean</th>\n",
       "      <th>smoothness_mean</th>\n",
       "      <th>compactness_mean</th>\n",
       "      <th>concavity_mean</th>\n",
       "      <th>concave points_mean</th>\n",
       "      <th>symmetry_mean</th>\n",
       "      <th>...</th>\n",
       "      <th>texture_worst</th>\n",
       "      <th>perimeter_worst</th>\n",
       "      <th>area_worst</th>\n",
       "      <th>smoothness_worst</th>\n",
       "      <th>compactness_worst</th>\n",
       "      <th>concavity_worst</th>\n",
       "      <th>concave points_worst</th>\n",
       "      <th>symmetry_worst</th>\n",
       "      <th>fractal_dimension_worst</th>\n",
       "      <th>Unnamed: 32</th>\n",
       "    </tr>\n",
       "    <tr>\n",
       "      <th>id</th>\n",
       "      <th></th>\n",
       "      <th></th>\n",
       "      <th></th>\n",
       "      <th></th>\n",
       "      <th></th>\n",
       "      <th></th>\n",
       "      <th></th>\n",
       "      <th></th>\n",
       "      <th></th>\n",
       "      <th></th>\n",
       "      <th></th>\n",
       "      <th></th>\n",
       "      <th></th>\n",
       "      <th></th>\n",
       "      <th></th>\n",
       "      <th></th>\n",
       "      <th></th>\n",
       "      <th></th>\n",
       "      <th></th>\n",
       "      <th></th>\n",
       "      <th></th>\n",
       "    </tr>\n",
       "  </thead>\n",
       "  <tbody>\n",
       "    <tr>\n",
       "      <th>842302</th>\n",
       "      <td>M</td>\n",
       "      <td>17.99</td>\n",
       "      <td>10.38</td>\n",
       "      <td>122.80</td>\n",
       "      <td>1001.0</td>\n",
       "      <td>0.11840</td>\n",
       "      <td>0.27760</td>\n",
       "      <td>0.3001</td>\n",
       "      <td>0.14710</td>\n",
       "      <td>0.2419</td>\n",
       "      <td>...</td>\n",
       "      <td>17.33</td>\n",
       "      <td>184.60</td>\n",
       "      <td>2019.0</td>\n",
       "      <td>0.1622</td>\n",
       "      <td>0.6656</td>\n",
       "      <td>0.7119</td>\n",
       "      <td>0.2654</td>\n",
       "      <td>0.4601</td>\n",
       "      <td>0.11890</td>\n",
       "      <td>NaN</td>\n",
       "    </tr>\n",
       "    <tr>\n",
       "      <th>842517</th>\n",
       "      <td>M</td>\n",
       "      <td>20.57</td>\n",
       "      <td>17.77</td>\n",
       "      <td>132.90</td>\n",
       "      <td>1326.0</td>\n",
       "      <td>0.08474</td>\n",
       "      <td>0.07864</td>\n",
       "      <td>0.0869</td>\n",
       "      <td>0.07017</td>\n",
       "      <td>0.1812</td>\n",
       "      <td>...</td>\n",
       "      <td>23.41</td>\n",
       "      <td>158.80</td>\n",
       "      <td>1956.0</td>\n",
       "      <td>0.1238</td>\n",
       "      <td>0.1866</td>\n",
       "      <td>0.2416</td>\n",
       "      <td>0.1860</td>\n",
       "      <td>0.2750</td>\n",
       "      <td>0.08902</td>\n",
       "      <td>NaN</td>\n",
       "    </tr>\n",
       "    <tr>\n",
       "      <th>84300903</th>\n",
       "      <td>M</td>\n",
       "      <td>19.69</td>\n",
       "      <td>21.25</td>\n",
       "      <td>130.00</td>\n",
       "      <td>1203.0</td>\n",
       "      <td>0.10960</td>\n",
       "      <td>0.15990</td>\n",
       "      <td>0.1974</td>\n",
       "      <td>0.12790</td>\n",
       "      <td>0.2069</td>\n",
       "      <td>...</td>\n",
       "      <td>25.53</td>\n",
       "      <td>152.50</td>\n",
       "      <td>1709.0</td>\n",
       "      <td>0.1444</td>\n",
       "      <td>0.4245</td>\n",
       "      <td>0.4504</td>\n",
       "      <td>0.2430</td>\n",
       "      <td>0.3613</td>\n",
       "      <td>0.08758</td>\n",
       "      <td>NaN</td>\n",
       "    </tr>\n",
       "    <tr>\n",
       "      <th>84348301</th>\n",
       "      <td>M</td>\n",
       "      <td>11.42</td>\n",
       "      <td>20.38</td>\n",
       "      <td>77.58</td>\n",
       "      <td>386.1</td>\n",
       "      <td>0.14250</td>\n",
       "      <td>0.28390</td>\n",
       "      <td>0.2414</td>\n",
       "      <td>0.10520</td>\n",
       "      <td>0.2597</td>\n",
       "      <td>...</td>\n",
       "      <td>26.50</td>\n",
       "      <td>98.87</td>\n",
       "      <td>567.7</td>\n",
       "      <td>0.2098</td>\n",
       "      <td>0.8663</td>\n",
       "      <td>0.6869</td>\n",
       "      <td>0.2575</td>\n",
       "      <td>0.6638</td>\n",
       "      <td>0.17300</td>\n",
       "      <td>NaN</td>\n",
       "    </tr>\n",
       "    <tr>\n",
       "      <th>84358402</th>\n",
       "      <td>M</td>\n",
       "      <td>20.29</td>\n",
       "      <td>14.34</td>\n",
       "      <td>135.10</td>\n",
       "      <td>1297.0</td>\n",
       "      <td>0.10030</td>\n",
       "      <td>0.13280</td>\n",
       "      <td>0.1980</td>\n",
       "      <td>0.10430</td>\n",
       "      <td>0.1809</td>\n",
       "      <td>...</td>\n",
       "      <td>16.67</td>\n",
       "      <td>152.20</td>\n",
       "      <td>1575.0</td>\n",
       "      <td>0.1374</td>\n",
       "      <td>0.2050</td>\n",
       "      <td>0.4000</td>\n",
       "      <td>0.1625</td>\n",
       "      <td>0.2364</td>\n",
       "      <td>0.07678</td>\n",
       "      <td>NaN</td>\n",
       "    </tr>\n",
       "  </tbody>\n",
       "</table>\n",
       "<p>5 rows × 32 columns</p>\n",
       "</div>"
      ]
     },
     "execution_count": 44,
     "metadata": {},
     "output_type": "execute_result"
    }
   ],
   "execution_count": 44
  },
  {
   "metadata": {
    "ExecuteTime": {
     "end_time": "2025-05-08T12:06:46.199099Z",
     "start_time": "2025-05-08T12:06:46.192571Z"
    }
   },
   "cell_type": "code",
   "source": [
    "# In der Spalte 'diagnosis' gibt es genau zwei Werte. 'M' und 'B'.\n",
    "# Wir werden eine binäre Klassifikation durchführen, sodass das Modell neuen\n",
    "# Datenpunkten 'M' oder 'B' zuordnet.\n",
    "# Quizfrage: Wofür stehen diese Buchstaben eigentlich?\n",
    "cancer['diagnosis'].unique()\n",
    "# [B]enign > gutartig, [M]align > bösartig"
   ],
   "id": "8de4ff35c854be90",
   "outputs": [
    {
     "data": {
      "text/plain": [
       "array(['M', 'B'], dtype=object)"
      ]
     },
     "execution_count": 45,
     "metadata": {},
     "output_type": "execute_result"
    }
   ],
   "execution_count": 45
  },
  {
   "metadata": {
    "ExecuteTime": {
     "end_time": "2025-05-08T12:06:46.345991Z",
     "start_time": "2025-05-08T12:06:46.335964Z"
    }
   },
   "cell_type": "code",
   "source": "cancer['diagnosis'].value_counts(normalize=True)",
   "id": "451c833a931fdd7b",
   "outputs": [
    {
     "data": {
      "text/plain": [
       "diagnosis\n",
       "B    0.627417\n",
       "M    0.372583\n",
       "Name: proportion, dtype: float64"
      ]
     },
     "execution_count": 46,
     "metadata": {},
     "output_type": "execute_result"
    }
   ],
   "execution_count": 46
  },
  {
   "metadata": {
    "ExecuteTime": {
     "end_time": "2025-05-08T12:06:46.445755Z",
     "start_time": "2025-05-08T12:06:46.439237Z"
    }
   },
   "cell_type": "code",
   "source": [
    "na_overview = cancer.isna().sum()\n",
    "na_overview"
   ],
   "id": "e87ca80764fad062",
   "outputs": [
    {
     "data": {
      "text/plain": [
       "diagnosis                    0\n",
       "radius_mean                  0\n",
       "texture_mean                 0\n",
       "perimeter_mean               0\n",
       "area_mean                    0\n",
       "smoothness_mean              0\n",
       "compactness_mean             0\n",
       "concavity_mean               0\n",
       "concave points_mean          0\n",
       "symmetry_mean                0\n",
       "fractal_dimension_mean       0\n",
       "radius_se                    0\n",
       "texture_se                   0\n",
       "perimeter_se                 0\n",
       "area_se                      0\n",
       "smoothness_se                0\n",
       "compactness_se               0\n",
       "concavity_se                 0\n",
       "concave points_se            0\n",
       "symmetry_se                  0\n",
       "fractal_dimension_se         0\n",
       "radius_worst                 0\n",
       "texture_worst                0\n",
       "perimeter_worst              0\n",
       "area_worst                   0\n",
       "smoothness_worst             0\n",
       "compactness_worst            0\n",
       "concavity_worst              0\n",
       "concave points_worst         0\n",
       "symmetry_worst               0\n",
       "fractal_dimension_worst      0\n",
       "Unnamed: 32                569\n",
       "dtype: int64"
      ]
     },
     "execution_count": 47,
     "metadata": {},
     "output_type": "execute_result"
    }
   ],
   "execution_count": 47
  },
  {
   "metadata": {
    "ExecuteTime": {
     "end_time": "2025-05-08T12:06:46.608494Z",
     "start_time": "2025-05-08T12:06:46.601983Z"
    }
   },
   "cell_type": "code",
   "source": "na_overview[na_overview != 0]",
   "id": "d0e3cd57f26daa01",
   "outputs": [
    {
     "data": {
      "text/plain": [
       "Unnamed: 32    569\n",
       "dtype: int64"
      ]
     },
     "execution_count": 48,
     "metadata": {},
     "output_type": "execute_result"
    }
   ],
   "execution_count": 48
  },
  {
   "metadata": {
    "ExecuteTime": {
     "end_time": "2025-05-08T12:06:46.893731Z",
     "start_time": "2025-05-08T12:06:46.888298Z"
    }
   },
   "cell_type": "code",
   "source": "cancer.drop('Unnamed: 32', axis=1, inplace=True)",
   "id": "ad06c97b8ddd4d53",
   "outputs": [],
   "execution_count": 49
  },
  {
   "metadata": {
    "ExecuteTime": {
     "end_time": "2025-05-08T12:06:47.066113Z",
     "start_time": "2025-05-08T12:06:47.059816Z"
    }
   },
   "cell_type": "code",
   "source": [
    "na_overview = cancer.isna().sum()\n",
    "na_overview[na_overview != 0]"
   ],
   "id": "395cf6bb8dba1fec",
   "outputs": [
    {
     "data": {
      "text/plain": [
       "Series([], dtype: int64)"
      ]
     },
     "execution_count": 50,
     "metadata": {},
     "output_type": "execute_result"
    }
   ],
   "execution_count": 50
  },
  {
   "metadata": {
    "ExecuteTime": {
     "end_time": "2025-05-08T12:06:47.226807Z",
     "start_time": "2025-05-08T12:06:47.222791Z"
    }
   },
   "cell_type": "code",
   "source": [
    "X = cancer.select_dtypes('number')\n",
    "y = cancer['diagnosis']"
   ],
   "id": "60e02ac5a00b0c38",
   "outputs": [],
   "execution_count": 51
  },
  {
   "metadata": {
    "ExecuteTime": {
     "end_time": "2025-05-08T12:06:47.321584Z",
     "start_time": "2025-05-08T12:06:47.313994Z"
    }
   },
   "cell_type": "code",
   "source": [
    "# Aufsplitten in Trainings-, Validierungs- und Testdaten\n",
    "train_ratio = 0.8\n",
    "\n",
    "X_train, X_temp, y_train, y_temp = train_test_split(X, y, train_size=train_ratio, random_state=0)\n",
    "\n",
    "X_val, X_test, y_val, y_test = train_test_split(\n",
    "\tX_temp, y_temp,\n",
    "\ttest_size=0.5, random_state=0\n",
    ")"
   ],
   "id": "b5f5cbb90837ea63",
   "outputs": [],
   "execution_count": 52
  },
  {
   "metadata": {
    "ExecuteTime": {
     "end_time": "2025-05-08T12:06:47.378909Z",
     "start_time": "2025-05-08T12:06:47.374889Z"
    }
   },
   "cell_type": "code",
   "source": [
    "# Bonusaufgabe für die, die später Lust haben:\n",
    "# Schreibt eine Funktion train_val_test!"
   ],
   "id": "b61aeacc4233220a",
   "outputs": [],
   "execution_count": 53
  },
  {
   "metadata": {
    "ExecuteTime": {
     "end_time": "2025-05-08T12:06:47.430619Z",
     "start_time": "2025-05-08T12:06:47.423545Z"
    }
   },
   "cell_type": "code",
   "source": [
    "# Modell trainieren\n",
    "knn_cancer = KNeighborsClassifier(n_neighbors=5)\n",
    "knn_cancer.fit(X_train, y_train)"
   ],
   "id": "27332bb24c3cfaec",
   "outputs": [
    {
     "data": {
      "text/plain": [
       "KNeighborsClassifier()"
      ],
      "text/html": [
       "<style>#sk-container-id-3 {\n",
       "  /* Definition of color scheme common for light and dark mode */\n",
       "  --sklearn-color-text: #000;\n",
       "  --sklearn-color-text-muted: #666;\n",
       "  --sklearn-color-line: gray;\n",
       "  /* Definition of color scheme for unfitted estimators */\n",
       "  --sklearn-color-unfitted-level-0: #fff5e6;\n",
       "  --sklearn-color-unfitted-level-1: #f6e4d2;\n",
       "  --sklearn-color-unfitted-level-2: #ffe0b3;\n",
       "  --sklearn-color-unfitted-level-3: chocolate;\n",
       "  /* Definition of color scheme for fitted estimators */\n",
       "  --sklearn-color-fitted-level-0: #f0f8ff;\n",
       "  --sklearn-color-fitted-level-1: #d4ebff;\n",
       "  --sklearn-color-fitted-level-2: #b3dbfd;\n",
       "  --sklearn-color-fitted-level-3: cornflowerblue;\n",
       "\n",
       "  /* Specific color for light theme */\n",
       "  --sklearn-color-text-on-default-background: var(--sg-text-color, var(--theme-code-foreground, var(--jp-content-font-color1, black)));\n",
       "  --sklearn-color-background: var(--sg-background-color, var(--theme-background, var(--jp-layout-color0, white)));\n",
       "  --sklearn-color-border-box: var(--sg-text-color, var(--theme-code-foreground, var(--jp-content-font-color1, black)));\n",
       "  --sklearn-color-icon: #696969;\n",
       "\n",
       "  @media (prefers-color-scheme: dark) {\n",
       "    /* Redefinition of color scheme for dark theme */\n",
       "    --sklearn-color-text-on-default-background: var(--sg-text-color, var(--theme-code-foreground, var(--jp-content-font-color1, white)));\n",
       "    --sklearn-color-background: var(--sg-background-color, var(--theme-background, var(--jp-layout-color0, #111)));\n",
       "    --sklearn-color-border-box: var(--sg-text-color, var(--theme-code-foreground, var(--jp-content-font-color1, white)));\n",
       "    --sklearn-color-icon: #878787;\n",
       "  }\n",
       "}\n",
       "\n",
       "#sk-container-id-3 {\n",
       "  color: var(--sklearn-color-text);\n",
       "}\n",
       "\n",
       "#sk-container-id-3 pre {\n",
       "  padding: 0;\n",
       "}\n",
       "\n",
       "#sk-container-id-3 input.sk-hidden--visually {\n",
       "  border: 0;\n",
       "  clip: rect(1px 1px 1px 1px);\n",
       "  clip: rect(1px, 1px, 1px, 1px);\n",
       "  height: 1px;\n",
       "  margin: -1px;\n",
       "  overflow: hidden;\n",
       "  padding: 0;\n",
       "  position: absolute;\n",
       "  width: 1px;\n",
       "}\n",
       "\n",
       "#sk-container-id-3 div.sk-dashed-wrapped {\n",
       "  border: 1px dashed var(--sklearn-color-line);\n",
       "  margin: 0 0.4em 0.5em 0.4em;\n",
       "  box-sizing: border-box;\n",
       "  padding-bottom: 0.4em;\n",
       "  background-color: var(--sklearn-color-background);\n",
       "}\n",
       "\n",
       "#sk-container-id-3 div.sk-container {\n",
       "  /* jupyter's `normalize.less` sets `[hidden] { display: none; }`\n",
       "     but bootstrap.min.css set `[hidden] { display: none !important; }`\n",
       "     so we also need the `!important` here to be able to override the\n",
       "     default hidden behavior on the sphinx rendered scikit-learn.org.\n",
       "     See: https://github.com/scikit-learn/scikit-learn/issues/21755 */\n",
       "  display: inline-block !important;\n",
       "  position: relative;\n",
       "}\n",
       "\n",
       "#sk-container-id-3 div.sk-text-repr-fallback {\n",
       "  display: none;\n",
       "}\n",
       "\n",
       "div.sk-parallel-item,\n",
       "div.sk-serial,\n",
       "div.sk-item {\n",
       "  /* draw centered vertical line to link estimators */\n",
       "  background-image: linear-gradient(var(--sklearn-color-text-on-default-background), var(--sklearn-color-text-on-default-background));\n",
       "  background-size: 2px 100%;\n",
       "  background-repeat: no-repeat;\n",
       "  background-position: center center;\n",
       "}\n",
       "\n",
       "/* Parallel-specific style estimator block */\n",
       "\n",
       "#sk-container-id-3 div.sk-parallel-item::after {\n",
       "  content: \"\";\n",
       "  width: 100%;\n",
       "  border-bottom: 2px solid var(--sklearn-color-text-on-default-background);\n",
       "  flex-grow: 1;\n",
       "}\n",
       "\n",
       "#sk-container-id-3 div.sk-parallel {\n",
       "  display: flex;\n",
       "  align-items: stretch;\n",
       "  justify-content: center;\n",
       "  background-color: var(--sklearn-color-background);\n",
       "  position: relative;\n",
       "}\n",
       "\n",
       "#sk-container-id-3 div.sk-parallel-item {\n",
       "  display: flex;\n",
       "  flex-direction: column;\n",
       "}\n",
       "\n",
       "#sk-container-id-3 div.sk-parallel-item:first-child::after {\n",
       "  align-self: flex-end;\n",
       "  width: 50%;\n",
       "}\n",
       "\n",
       "#sk-container-id-3 div.sk-parallel-item:last-child::after {\n",
       "  align-self: flex-start;\n",
       "  width: 50%;\n",
       "}\n",
       "\n",
       "#sk-container-id-3 div.sk-parallel-item:only-child::after {\n",
       "  width: 0;\n",
       "}\n",
       "\n",
       "/* Serial-specific style estimator block */\n",
       "\n",
       "#sk-container-id-3 div.sk-serial {\n",
       "  display: flex;\n",
       "  flex-direction: column;\n",
       "  align-items: center;\n",
       "  background-color: var(--sklearn-color-background);\n",
       "  padding-right: 1em;\n",
       "  padding-left: 1em;\n",
       "}\n",
       "\n",
       "\n",
       "/* Toggleable style: style used for estimator/Pipeline/ColumnTransformer box that is\n",
       "clickable and can be expanded/collapsed.\n",
       "- Pipeline and ColumnTransformer use this feature and define the default style\n",
       "- Estimators will overwrite some part of the style using the `sk-estimator` class\n",
       "*/\n",
       "\n",
       "/* Pipeline and ColumnTransformer style (default) */\n",
       "\n",
       "#sk-container-id-3 div.sk-toggleable {\n",
       "  /* Default theme specific background. It is overwritten whether we have a\n",
       "  specific estimator or a Pipeline/ColumnTransformer */\n",
       "  background-color: var(--sklearn-color-background);\n",
       "}\n",
       "\n",
       "/* Toggleable label */\n",
       "#sk-container-id-3 label.sk-toggleable__label {\n",
       "  cursor: pointer;\n",
       "  display: flex;\n",
       "  width: 100%;\n",
       "  margin-bottom: 0;\n",
       "  padding: 0.5em;\n",
       "  box-sizing: border-box;\n",
       "  text-align: center;\n",
       "  align-items: start;\n",
       "  justify-content: space-between;\n",
       "  gap: 0.5em;\n",
       "}\n",
       "\n",
       "#sk-container-id-3 label.sk-toggleable__label .caption {\n",
       "  font-size: 0.6rem;\n",
       "  font-weight: lighter;\n",
       "  color: var(--sklearn-color-text-muted);\n",
       "}\n",
       "\n",
       "#sk-container-id-3 label.sk-toggleable__label-arrow:before {\n",
       "  /* Arrow on the left of the label */\n",
       "  content: \"▸\";\n",
       "  float: left;\n",
       "  margin-right: 0.25em;\n",
       "  color: var(--sklearn-color-icon);\n",
       "}\n",
       "\n",
       "#sk-container-id-3 label.sk-toggleable__label-arrow:hover:before {\n",
       "  color: var(--sklearn-color-text);\n",
       "}\n",
       "\n",
       "/* Toggleable content - dropdown */\n",
       "\n",
       "#sk-container-id-3 div.sk-toggleable__content {\n",
       "  max-height: 0;\n",
       "  max-width: 0;\n",
       "  overflow: hidden;\n",
       "  text-align: left;\n",
       "  /* unfitted */\n",
       "  background-color: var(--sklearn-color-unfitted-level-0);\n",
       "}\n",
       "\n",
       "#sk-container-id-3 div.sk-toggleable__content.fitted {\n",
       "  /* fitted */\n",
       "  background-color: var(--sklearn-color-fitted-level-0);\n",
       "}\n",
       "\n",
       "#sk-container-id-3 div.sk-toggleable__content pre {\n",
       "  margin: 0.2em;\n",
       "  border-radius: 0.25em;\n",
       "  color: var(--sklearn-color-text);\n",
       "  /* unfitted */\n",
       "  background-color: var(--sklearn-color-unfitted-level-0);\n",
       "}\n",
       "\n",
       "#sk-container-id-3 div.sk-toggleable__content.fitted pre {\n",
       "  /* unfitted */\n",
       "  background-color: var(--sklearn-color-fitted-level-0);\n",
       "}\n",
       "\n",
       "#sk-container-id-3 input.sk-toggleable__control:checked~div.sk-toggleable__content {\n",
       "  /* Expand drop-down */\n",
       "  max-height: 200px;\n",
       "  max-width: 100%;\n",
       "  overflow: auto;\n",
       "}\n",
       "\n",
       "#sk-container-id-3 input.sk-toggleable__control:checked~label.sk-toggleable__label-arrow:before {\n",
       "  content: \"▾\";\n",
       "}\n",
       "\n",
       "/* Pipeline/ColumnTransformer-specific style */\n",
       "\n",
       "#sk-container-id-3 div.sk-label input.sk-toggleable__control:checked~label.sk-toggleable__label {\n",
       "  color: var(--sklearn-color-text);\n",
       "  background-color: var(--sklearn-color-unfitted-level-2);\n",
       "}\n",
       "\n",
       "#sk-container-id-3 div.sk-label.fitted input.sk-toggleable__control:checked~label.sk-toggleable__label {\n",
       "  background-color: var(--sklearn-color-fitted-level-2);\n",
       "}\n",
       "\n",
       "/* Estimator-specific style */\n",
       "\n",
       "/* Colorize estimator box */\n",
       "#sk-container-id-3 div.sk-estimator input.sk-toggleable__control:checked~label.sk-toggleable__label {\n",
       "  /* unfitted */\n",
       "  background-color: var(--sklearn-color-unfitted-level-2);\n",
       "}\n",
       "\n",
       "#sk-container-id-3 div.sk-estimator.fitted input.sk-toggleable__control:checked~label.sk-toggleable__label {\n",
       "  /* fitted */\n",
       "  background-color: var(--sklearn-color-fitted-level-2);\n",
       "}\n",
       "\n",
       "#sk-container-id-3 div.sk-label label.sk-toggleable__label,\n",
       "#sk-container-id-3 div.sk-label label {\n",
       "  /* The background is the default theme color */\n",
       "  color: var(--sklearn-color-text-on-default-background);\n",
       "}\n",
       "\n",
       "/* On hover, darken the color of the background */\n",
       "#sk-container-id-3 div.sk-label:hover label.sk-toggleable__label {\n",
       "  color: var(--sklearn-color-text);\n",
       "  background-color: var(--sklearn-color-unfitted-level-2);\n",
       "}\n",
       "\n",
       "/* Label box, darken color on hover, fitted */\n",
       "#sk-container-id-3 div.sk-label.fitted:hover label.sk-toggleable__label.fitted {\n",
       "  color: var(--sklearn-color-text);\n",
       "  background-color: var(--sklearn-color-fitted-level-2);\n",
       "}\n",
       "\n",
       "/* Estimator label */\n",
       "\n",
       "#sk-container-id-3 div.sk-label label {\n",
       "  font-family: monospace;\n",
       "  font-weight: bold;\n",
       "  display: inline-block;\n",
       "  line-height: 1.2em;\n",
       "}\n",
       "\n",
       "#sk-container-id-3 div.sk-label-container {\n",
       "  text-align: center;\n",
       "}\n",
       "\n",
       "/* Estimator-specific */\n",
       "#sk-container-id-3 div.sk-estimator {\n",
       "  font-family: monospace;\n",
       "  border: 1px dotted var(--sklearn-color-border-box);\n",
       "  border-radius: 0.25em;\n",
       "  box-sizing: border-box;\n",
       "  margin-bottom: 0.5em;\n",
       "  /* unfitted */\n",
       "  background-color: var(--sklearn-color-unfitted-level-0);\n",
       "}\n",
       "\n",
       "#sk-container-id-3 div.sk-estimator.fitted {\n",
       "  /* fitted */\n",
       "  background-color: var(--sklearn-color-fitted-level-0);\n",
       "}\n",
       "\n",
       "/* on hover */\n",
       "#sk-container-id-3 div.sk-estimator:hover {\n",
       "  /* unfitted */\n",
       "  background-color: var(--sklearn-color-unfitted-level-2);\n",
       "}\n",
       "\n",
       "#sk-container-id-3 div.sk-estimator.fitted:hover {\n",
       "  /* fitted */\n",
       "  background-color: var(--sklearn-color-fitted-level-2);\n",
       "}\n",
       "\n",
       "/* Specification for estimator info (e.g. \"i\" and \"?\") */\n",
       "\n",
       "/* Common style for \"i\" and \"?\" */\n",
       "\n",
       ".sk-estimator-doc-link,\n",
       "a:link.sk-estimator-doc-link,\n",
       "a:visited.sk-estimator-doc-link {\n",
       "  float: right;\n",
       "  font-size: smaller;\n",
       "  line-height: 1em;\n",
       "  font-family: monospace;\n",
       "  background-color: var(--sklearn-color-background);\n",
       "  border-radius: 1em;\n",
       "  height: 1em;\n",
       "  width: 1em;\n",
       "  text-decoration: none !important;\n",
       "  margin-left: 0.5em;\n",
       "  text-align: center;\n",
       "  /* unfitted */\n",
       "  border: var(--sklearn-color-unfitted-level-1) 1pt solid;\n",
       "  color: var(--sklearn-color-unfitted-level-1);\n",
       "}\n",
       "\n",
       ".sk-estimator-doc-link.fitted,\n",
       "a:link.sk-estimator-doc-link.fitted,\n",
       "a:visited.sk-estimator-doc-link.fitted {\n",
       "  /* fitted */\n",
       "  border: var(--sklearn-color-fitted-level-1) 1pt solid;\n",
       "  color: var(--sklearn-color-fitted-level-1);\n",
       "}\n",
       "\n",
       "/* On hover */\n",
       "div.sk-estimator:hover .sk-estimator-doc-link:hover,\n",
       ".sk-estimator-doc-link:hover,\n",
       "div.sk-label-container:hover .sk-estimator-doc-link:hover,\n",
       ".sk-estimator-doc-link:hover {\n",
       "  /* unfitted */\n",
       "  background-color: var(--sklearn-color-unfitted-level-3);\n",
       "  color: var(--sklearn-color-background);\n",
       "  text-decoration: none;\n",
       "}\n",
       "\n",
       "div.sk-estimator.fitted:hover .sk-estimator-doc-link.fitted:hover,\n",
       ".sk-estimator-doc-link.fitted:hover,\n",
       "div.sk-label-container:hover .sk-estimator-doc-link.fitted:hover,\n",
       ".sk-estimator-doc-link.fitted:hover {\n",
       "  /* fitted */\n",
       "  background-color: var(--sklearn-color-fitted-level-3);\n",
       "  color: var(--sklearn-color-background);\n",
       "  text-decoration: none;\n",
       "}\n",
       "\n",
       "/* Span, style for the box shown on hovering the info icon */\n",
       ".sk-estimator-doc-link span {\n",
       "  display: none;\n",
       "  z-index: 9999;\n",
       "  position: relative;\n",
       "  font-weight: normal;\n",
       "  right: .2ex;\n",
       "  padding: .5ex;\n",
       "  margin: .5ex;\n",
       "  width: min-content;\n",
       "  min-width: 20ex;\n",
       "  max-width: 50ex;\n",
       "  color: var(--sklearn-color-text);\n",
       "  box-shadow: 2pt 2pt 4pt #999;\n",
       "  /* unfitted */\n",
       "  background: var(--sklearn-color-unfitted-level-0);\n",
       "  border: .5pt solid var(--sklearn-color-unfitted-level-3);\n",
       "}\n",
       "\n",
       ".sk-estimator-doc-link.fitted span {\n",
       "  /* fitted */\n",
       "  background: var(--sklearn-color-fitted-level-0);\n",
       "  border: var(--sklearn-color-fitted-level-3);\n",
       "}\n",
       "\n",
       ".sk-estimator-doc-link:hover span {\n",
       "  display: block;\n",
       "}\n",
       "\n",
       "/* \"?\"-specific style due to the `<a>` HTML tag */\n",
       "\n",
       "#sk-container-id-3 a.estimator_doc_link {\n",
       "  float: right;\n",
       "  font-size: 1rem;\n",
       "  line-height: 1em;\n",
       "  font-family: monospace;\n",
       "  background-color: var(--sklearn-color-background);\n",
       "  border-radius: 1rem;\n",
       "  height: 1rem;\n",
       "  width: 1rem;\n",
       "  text-decoration: none;\n",
       "  /* unfitted */\n",
       "  color: var(--sklearn-color-unfitted-level-1);\n",
       "  border: var(--sklearn-color-unfitted-level-1) 1pt solid;\n",
       "}\n",
       "\n",
       "#sk-container-id-3 a.estimator_doc_link.fitted {\n",
       "  /* fitted */\n",
       "  border: var(--sklearn-color-fitted-level-1) 1pt solid;\n",
       "  color: var(--sklearn-color-fitted-level-1);\n",
       "}\n",
       "\n",
       "/* On hover */\n",
       "#sk-container-id-3 a.estimator_doc_link:hover {\n",
       "  /* unfitted */\n",
       "  background-color: var(--sklearn-color-unfitted-level-3);\n",
       "  color: var(--sklearn-color-background);\n",
       "  text-decoration: none;\n",
       "}\n",
       "\n",
       "#sk-container-id-3 a.estimator_doc_link.fitted:hover {\n",
       "  /* fitted */\n",
       "  background-color: var(--sklearn-color-fitted-level-3);\n",
       "}\n",
       "</style><div id=\"sk-container-id-3\" class=\"sk-top-container\"><div class=\"sk-text-repr-fallback\"><pre>KNeighborsClassifier()</pre><b>In a Jupyter environment, please rerun this cell to show the HTML representation or trust the notebook. <br />On GitHub, the HTML representation is unable to render, please try loading this page with nbviewer.org.</b></div><div class=\"sk-container\" hidden><div class=\"sk-item\"><div class=\"sk-estimator fitted sk-toggleable\"><input class=\"sk-toggleable__control sk-hidden--visually\" id=\"sk-estimator-id-3\" type=\"checkbox\" checked><label for=\"sk-estimator-id-3\" class=\"sk-toggleable__label fitted sk-toggleable__label-arrow\"><div><div>KNeighborsClassifier</div></div><div><a class=\"sk-estimator-doc-link fitted\" rel=\"noreferrer\" target=\"_blank\" href=\"https://scikit-learn.org/1.6/modules/generated/sklearn.neighbors.KNeighborsClassifier.html\">?<span>Documentation for KNeighborsClassifier</span></a><span class=\"sk-estimator-doc-link fitted\">i<span>Fitted</span></span></div></label><div class=\"sk-toggleable__content fitted\"><pre>KNeighborsClassifier()</pre></div> </div></div></div></div>"
      ]
     },
     "execution_count": 54,
     "metadata": {},
     "output_type": "execute_result"
    }
   ],
   "execution_count": 54
  },
  {
   "metadata": {
    "ExecuteTime": {
     "end_time": "2025-05-08T12:06:47.699719Z",
     "start_time": "2025-05-08T12:06:47.488115Z"
    }
   },
   "cell_type": "code",
   "source": [
    "# Treffergenauigkeit (accuracy) bestimmen anhand des Testdatensatzes\n",
    "# Sprich: Wie viele der Vorhersagen waren korrekt?\n",
    "test_score = knn_cancer.score(X_test, y_test)\n",
    "print(f'Score für Test: {test_score:.3f}')"
   ],
   "id": "d1cbaef603311526",
   "outputs": [
    {
     "name": "stdout",
     "output_type": "stream",
     "text": [
      "Score für Test: 0.912\n"
     ]
    }
   ],
   "execution_count": 55
  },
  {
   "metadata": {
    "ExecuteTime": {
     "end_time": "2025-05-08T12:06:47.769832Z",
     "start_time": "2025-05-08T12:06:47.734171Z"
    }
   },
   "cell_type": "code",
   "source": [
    "# Und wie gut war die Genauigkeit beim Trainingsdatensatz?\n",
    "train_score = knn_cancer.score(X_train, y_train)\n",
    "print(f'Score für Train: {train_score:.3f}')"
   ],
   "id": "73c0cd3e58700568",
   "outputs": [
    {
     "name": "stdout",
     "output_type": "stream",
     "text": [
      "Score für Train: 0.949\n"
     ]
    }
   ],
   "execution_count": 56
  },
  {
   "metadata": {
    "ExecuteTime": {
     "end_time": "2025-05-08T12:06:47.809703Z",
     "start_time": "2025-05-08T12:06:47.806196Z"
    }
   },
   "cell_type": "code",
   "source": [
    "# Quizfrage: Ende gut alles gut?\n",
    "# Ist unser Modell perfekt, um in der Krebsdiagnostik zum Einsatz zu kommen?\n",
    "# Bemerkung: Auf gar keinen Fall. Das sind zu viele falsche Krebsdiagnosen.\n",
    "# Außerdem ist nicht bekannt, was hier falsch diagnostiziert wird."
   ],
   "id": "77772a00995a7c1",
   "outputs": [],
   "execution_count": 57
  },
  {
   "metadata": {
    "ExecuteTime": {
     "end_time": "2025-05-08T12:06:47.880055Z",
     "start_time": "2025-05-08T12:06:47.861495Z"
    }
   },
   "cell_type": "code",
   "source": [
    "# Übersicht über die verschiedenen (richtigen und falschen) Voraussagen \n",
    "# --> Confusion Matrix (zu Deutsch etwa: Matrix der Verwechslungen)\n",
    "predictions = knn_cancer.predict(X_test)\n",
    "predictions"
   ],
   "id": "dd282ced287213a0",
   "outputs": [
    {
     "data": {
      "text/plain": [
       "array(['M', 'B', 'B', 'B', 'M', 'B', 'B', 'B', 'B', 'B', 'B', 'M', 'B',\n",
       "       'M', 'B', 'M', 'M', 'M', 'B', 'M', 'M', 'M', 'B', 'M', 'M', 'B',\n",
       "       'B', 'B', 'M', 'M', 'M', 'B', 'B', 'B', 'M', 'B', 'B', 'B', 'M',\n",
       "       'B', 'B', 'B', 'M', 'B', 'B', 'M', 'B', 'B', 'B', 'B', 'M', 'M',\n",
       "       'B', 'B', 'M', 'M', 'M'], dtype=object)"
      ]
     },
     "execution_count": 58,
     "metadata": {},
     "output_type": "execute_result"
    }
   ],
   "execution_count": 58
  },
  {
   "metadata": {
    "ExecuteTime": {
     "end_time": "2025-05-08T12:06:47.942054Z",
     "start_time": "2025-05-08T12:06:47.936341Z"
    }
   },
   "cell_type": "code",
   "source": "y_test",
   "id": "918d55f74730751d",
   "outputs": [
    {
     "data": {
      "text/plain": [
       "id\n",
       "86730502     M\n",
       "906564       B\n",
       "8510824      B\n",
       "893783       B\n",
       "9012795      M\n",
       "90291        M\n",
       "914862       B\n",
       "912519       B\n",
       "905978       B\n",
       "909410       B\n",
       "874662       B\n",
       "927241       M\n",
       "87556202     M\n",
       "84862001     M\n",
       "915186       B\n",
       "925622       M\n",
       "8910988      M\n",
       "86355        M\n",
       "894329       B\n",
       "8711216      B\n",
       "881046502    M\n",
       "90439701     M\n",
       "871149       B\n",
       "846226       M\n",
       "864877       M\n",
       "921092       B\n",
       "873586       B\n",
       "8712291      B\n",
       "879523       M\n",
       "892214       B\n",
       "8610404      M\n",
       "892604       B\n",
       "905557       B\n",
       "90250        B\n",
       "875938       M\n",
       "922577       B\n",
       "893526       B\n",
       "869218       B\n",
       "926424       M\n",
       "91805        B\n",
       "901011       B\n",
       "84667401     M\n",
       "90312        M\n",
       "861648       B\n",
       "906539       B\n",
       "881094802    M\n",
       "88199202     B\n",
       "9112594      B\n",
       "87139402     B\n",
       "9112367      B\n",
       "896839       M\n",
       "845636       M\n",
       "9010333      B\n",
       "854941       B\n",
       "87164        M\n",
       "88206102     M\n",
       "867739       M\n",
       "Name: diagnosis, dtype: object"
      ]
     },
     "execution_count": 59,
     "metadata": {},
     "output_type": "execute_result"
    }
   ],
   "execution_count": 59
  },
  {
   "metadata": {
    "ExecuteTime": {
     "end_time": "2025-05-08T12:06:48.030408Z",
     "start_time": "2025-05-08T12:06:48.022613Z"
    }
   },
   "cell_type": "code",
   "source": "confusion_matrix(y_true=y_test, y_pred=predictions)",
   "id": "94a5ca4bc9b511ec",
   "outputs": [
    {
     "data": {
      "text/plain": [
       "array([[30,  2],\n",
       "       [ 3, 22]])"
      ]
     },
     "execution_count": 60,
     "metadata": {},
     "output_type": "execute_result"
    }
   ],
   "execution_count": 60
  },
  {
   "metadata": {
    "ExecuteTime": {
     "end_time": "2025-05-08T12:06:48.263444Z",
     "start_time": "2025-05-08T12:06:48.168084Z"
    }
   },
   "cell_type": "code",
   "source": [
    "# Visuell ansprechender mit ConfusionMatrixDisplay:\n",
    "ConfusionMatrixDisplay.from_predictions(\n",
    "\ty_true=y_test,\n",
    "\ty_pred=predictions\n",
    ");"
   ],
   "id": "77a59eb104adb559",
   "outputs": [
    {
     "data": {
      "text/plain": [
       "<Figure size 640x480 with 2 Axes>"
      ],
      "image/png": "[encoded data removed]"
     },
     "metadata": {},
     "output_type": "display_data"
    }
   ],
   "execution_count": 61
  },
  {
   "metadata": {
    "ExecuteTime": {
     "end_time": "2025-05-08T12:06:48.474455Z",
     "start_time": "2025-05-08T12:06:48.467763Z"
    }
   },
   "cell_type": "code",
   "source": [
    "# Accuracy (R²) – Anteil richtiger Vorhersagen an Gesamtheit)\n",
    "accuracy = (30 + 22) / len(y_test)\n",
    "accuracy"
   ],
   "id": "8c16baa72eea40bf",
   "outputs": [
    {
     "data": {
      "text/plain": [
       "0.9122807017543859"
      ]
     },
     "execution_count": 62,
     "metadata": {},
     "output_type": "execute_result"
    }
   ],
   "execution_count": 62
  },
  {
   "metadata": {
    "ExecuteTime": {
     "end_time": "2025-05-08T12:06:48.549387Z",
     "start_time": "2025-05-08T12:06:48.543725Z"
    }
   },
   "cell_type": "code",
   "source": [
    "# Precision (Genauigkeit) – Anteil richtiger Positiver an richtig Positiven und falsch Positiven\n",
    "# In unserem Fall:\n",
    "# wirklich bösartige Tumoren / wirklich bösartige Tumoren + fälschlich als bösartig diagnostizierte gutartige Tumoren\n",
    "precision_m = 22 / (22 + 2)\n",
    "precision_m"
   ],
   "id": "7a0e87c9bef36e75",
   "outputs": [
    {
     "data": {
      "text/plain": [
       "0.9166666666666666"
      ]
     },
     "execution_count": 63,
     "metadata": {},
     "output_type": "execute_result"
    }
   ],
   "execution_count": 63
  },
  {
   "metadata": {
    "ExecuteTime": {
     "end_time": "2025-05-08T12:06:48.595094Z",
     "start_time": "2025-05-08T12:06:48.590077Z"
    }
   },
   "cell_type": "code",
   "source": [
    "# Dasselbe für gutartige:\n",
    "# wirklich gutartige Tumoren / wirklich gutartige Tumoren + fälschlich als gutartig diagnostizierte bösartige Tumoren\n",
    "precision_b = 30 / (30 + 3)\n",
    "precision_b"
   ],
   "id": "b100a92c8f989244",
   "outputs": [
    {
     "data": {
      "text/plain": [
       "0.9090909090909091"
      ]
     },
     "execution_count": 64,
     "metadata": {},
     "output_type": "execute_result"
    }
   ],
   "execution_count": 64
  },
  {
   "metadata": {
    "ExecuteTime": {
     "end_time": "2025-05-08T12:06:48.676069Z",
     "start_time": "2025-05-08T12:06:48.671444Z"
    }
   },
   "cell_type": "code",
   "source": [
    "# Recall (Sensitivität) – Anteil richtiger Positiver (böse) an richtig Positiven und falsch Negativen (eigentlich Tumoren)\n",
    "recall_m = 22 / (22 + 3)\n",
    "recall_m"
   ],
   "id": "67fead3e654ee8c5",
   "outputs": [
    {
     "data": {
      "text/plain": [
       "0.88"
      ]
     },
     "execution_count": 65,
     "metadata": {},
     "output_type": "execute_result"
    }
   ],
   "execution_count": 65
  },
  {
   "metadata": {
    "ExecuteTime": {
     "end_time": "2025-05-08T12:06:48.725217Z",
     "start_time": "2025-05-08T12:06:48.720226Z"
    }
   },
   "cell_type": "code",
   "source": [
    "recall_b = 30 / (30 + 2)\n",
    "recall_b"
   ],
   "id": "de994d6d4e667bd3",
   "outputs": [
    {
     "data": {
      "text/plain": [
       "0.9375"
      ]
     },
     "execution_count": 66,
     "metadata": {},
     "output_type": "execute_result"
    }
   ],
   "execution_count": 66
  },
  {
   "metadata": {
    "ExecuteTime": {
     "end_time": "2025-05-08T12:06:48.781545Z",
     "start_time": "2025-05-08T12:06:48.776230Z"
    }
   },
   "cell_type": "code",
   "source": [
    "# f1-score – stellt das harmonische Mittel bei insbesondere unbalancierten Klassen her\n",
    "f1_score_b = 2 * (precision_b * recall_b) / (precision_b + recall_b)\n",
    "f1_score_b"
   ],
   "id": "75e4c1abe87bd56e",
   "outputs": [
    {
     "data": {
      "text/plain": [
       "0.923076923076923"
      ]
     },
     "execution_count": 67,
     "metadata": {},
     "output_type": "execute_result"
    }
   ],
   "execution_count": 67
  },
  {
   "metadata": {
    "ExecuteTime": {
     "end_time": "2025-05-08T12:06:48.859209Z",
     "start_time": "2025-05-08T12:06:48.853195Z"
    }
   },
   "cell_type": "code",
   "source": [
    "f1_score_m = 2 * (precision_m * recall_m) / (precision_m + recall_m)\n",
    "f1_score_m"
   ],
   "id": "e4ca422d3e893b92",
   "outputs": [
    {
     "data": {
      "text/plain": [
       "0.8979591836734694"
      ]
     },
     "execution_count": 68,
     "metadata": {},
     "output_type": "execute_result"
    }
   ],
   "execution_count": 68
  },
  {
   "metadata": {
    "ExecuteTime": {
     "end_time": "2025-05-08T12:06:48.915394Z",
     "start_time": "2025-05-08T12:06:48.911582Z"
    }
   },
   "cell_type": "code",
   "source": [
    "# Was ist die wichtigste Metrik für Krebsspezialisten?\n",
    "# Und auf was sollten wir unser Modell trimmen?\n",
    "# Recall von bösartigen Tumoren ist aktuell viel zu niedrig.\n",
    "# Wir sollten möglichst keine falsch negativen Diagnosen (kein Krebs, obwohl bösartig)\n",
    "# produzieren."
   ],
   "id": "7839308d12e53a6c",
   "outputs": [],
   "execution_count": 69
  },
  {
   "metadata": {
    "ExecuteTime": {
     "end_time": "2025-05-08T12:06:48.976840Z",
     "start_time": "2025-05-08T12:06:48.963783Z"
    }
   },
   "cell_type": "code",
   "source": [
    "# Statt händisches Ausrechnen:\n",
    "print(classification_report(y_test, predictions))"
   ],
   "id": "f352038cb18d8821",
   "outputs": [
    {
     "name": "stdout",
     "output_type": "stream",
     "text": [
      "              precision    recall  f1-score   support\n",
      "\n",
      "           B       0.91      0.94      0.92        32\n",
      "           M       0.92      0.88      0.90        25\n",
      "\n",
      "    accuracy                           0.91        57\n",
      "   macro avg       0.91      0.91      0.91        57\n",
      "weighted avg       0.91      0.91      0.91        57\n",
      "\n"
     ]
    }
   ],
   "execution_count": 70
  },
  {
   "metadata": {
    "ExecuteTime": {
     "end_time": "2025-05-08T12:06:49.028282Z",
     "start_time": "2025-05-08T12:06:49.024292Z"
    }
   },
   "cell_type": "code",
   "source": "# EXKURS zu Korrelationen + Vorauswahl von Variablen",
   "id": "8c06be370f4734d1",
   "outputs": [],
   "execution_count": 71
  },
  {
   "metadata": {
    "ExecuteTime": {
     "end_time": "2025-05-08T12:06:49.087214Z",
     "start_time": "2025-05-08T12:06:49.082188Z"
    }
   },
   "cell_type": "code",
   "source": [
    "diag_dict = {'B': 0, 'M': 1}\n",
    "cancer['diagnosis_binary'] = cancer['diagnosis'].map(diag_dict)"
   ],
   "id": "d861a900266352e4",
   "outputs": [],
   "execution_count": 72
  },
  {
   "metadata": {
    "ExecuteTime": {
     "end_time": "2025-05-08T12:06:49.168806Z",
     "start_time": "2025-05-08T12:06:49.140121Z"
    }
   },
   "cell_type": "code",
   "source": "cancer.select_dtypes('number').corr()",
   "id": "9ef242b8a486ee5e",
   "outputs": [
    {
     "data": {
      "text/plain": [
       "                         radius_mean  texture_mean  perimeter_mean  area_mean  \\\n",
       "radius_mean                 1.000000      0.323782        0.997855   0.987357   \n",
       "texture_mean                0.323782      1.000000        0.329533   0.321086   \n",
       "perimeter_mean              0.997855      0.329533        1.000000   0.986507   \n",
       "area_mean                   0.987357      0.321086        0.986507   1.000000   \n",
       "smoothness_mean             0.170581     -0.023389        0.207278   0.177028   \n",
       "compactness_mean            0.506124      0.236702        0.556936   0.498502   \n",
       "concavity_mean              0.676764      0.302418        0.716136   0.685983   \n",
       "concave points_mean         0.822529      0.293464        0.850977   0.823269   \n",
       "symmetry_mean               0.147741      0.071401        0.183027   0.151293   \n",
       "fractal_dimension_mean     -0.311631     -0.076437       -0.261477  -0.283110   \n",
       "radius_se                   0.679090      0.275869        0.691765   0.732562   \n",
       "texture_se                 -0.097317      0.386358       -0.086761  -0.066280   \n",
       "perimeter_se                0.674172      0.281673        0.693135   0.726628   \n",
       "area_se                     0.735864      0.259845        0.744983   0.800086   \n",
       "smoothness_se              -0.222600      0.006614       -0.202694  -0.166777   \n",
       "compactness_se              0.206000      0.191975        0.250744   0.212583   \n",
       "concavity_se                0.194204      0.143293        0.228082   0.207660   \n",
       "concave points_se           0.376169      0.163851        0.407217   0.372320   \n",
       "symmetry_se                -0.104321      0.009127       -0.081629  -0.072497   \n",
       "fractal_dimension_se       -0.042641      0.054458       -0.005523  -0.019887   \n",
       "radius_worst                0.969539      0.352573        0.969476   0.962746   \n",
       "texture_worst               0.297008      0.912045        0.303038   0.287489   \n",
       "perimeter_worst             0.965137      0.358040        0.970387   0.959120   \n",
       "area_worst                  0.941082      0.343546        0.941550   0.959213   \n",
       "smoothness_worst            0.119616      0.077503        0.150549   0.123523   \n",
       "compactness_worst           0.413463      0.277830        0.455774   0.390410   \n",
       "concavity_worst             0.526911      0.301025        0.563879   0.512606   \n",
       "concave points_worst        0.744214      0.295316        0.771241   0.722017   \n",
       "symmetry_worst              0.163953      0.105008        0.189115   0.143570   \n",
       "fractal_dimension_worst     0.007066      0.119205        0.051019   0.003738   \n",
       "diagnosis_binary            0.730029      0.415185        0.742636   0.708984   \n",
       "\n",
       "                         smoothness_mean  compactness_mean  concavity_mean  \\\n",
       "radius_mean                     0.170581          0.506124        0.676764   \n",
       "texture_mean                   -0.023389          0.236702        0.302418   \n",
       "perimeter_mean                  0.207278          0.556936        0.716136   \n",
       "area_mean                       0.177028          0.498502        0.685983   \n",
       "smoothness_mean                 1.000000          0.659123        0.521984   \n",
       "compactness_mean                0.659123          1.000000        0.883121   \n",
       "concavity_mean                  0.521984          0.883121        1.000000   \n",
       "concave points_mean             0.553695          0.831135        0.921391   \n",
       "symmetry_mean                   0.557775          0.602641        0.500667   \n",
       "fractal_dimension_mean          0.584792          0.565369        0.336783   \n",
       "radius_se                       0.301467          0.497473        0.631925   \n",
       "texture_se                      0.068406          0.046205        0.076218   \n",
       "perimeter_se                    0.296092          0.548905        0.660391   \n",
       "area_se                         0.246552          0.455653        0.617427   \n",
       "smoothness_se                   0.332375          0.135299        0.098564   \n",
       "compactness_se                  0.318943          0.738722        0.670279   \n",
       "concavity_se                    0.248396          0.570517        0.691270   \n",
       "concave points_se               0.380676          0.642262        0.683260   \n",
       "symmetry_se                     0.200774          0.229977        0.178009   \n",
       "fractal_dimension_se            0.283607          0.507318        0.449301   \n",
       "radius_worst                    0.213120          0.535315        0.688236   \n",
       "texture_worst                   0.036072          0.248133        0.299879   \n",
       "perimeter_worst                 0.238853          0.590210        0.729565   \n",
       "area_worst                      0.206718          0.509604        0.675987   \n",
       "smoothness_worst                0.805324          0.565541        0.448822   \n",
       "compactness_worst               0.472468          0.865809        0.754968   \n",
       "concavity_worst                 0.434926          0.816275        0.884103   \n",
       "concave points_worst            0.503053          0.815573        0.861323   \n",
       "symmetry_worst                  0.394309          0.510223        0.409464   \n",
       "fractal_dimension_worst         0.499316          0.687382        0.514930   \n",
       "diagnosis_binary                0.358560          0.596534        0.696360   \n",
       "\n",
       "                         concave points_mean  symmetry_mean  \\\n",
       "radius_mean                         0.822529       0.147741   \n",
       "texture_mean                        0.293464       0.071401   \n",
       "perimeter_mean                      0.850977       0.183027   \n",
       "area_mean                           0.823269       0.151293   \n",
       "smoothness_mean                     0.553695       0.557775   \n",
       "compactness_mean                    0.831135       0.602641   \n",
       "concavity_mean                      0.921391       0.500667   \n",
       "concave points_mean                 1.000000       0.462497   \n",
       "symmetry_mean                       0.462497       1.000000   \n",
       "fractal_dimension_mean              0.166917       0.479921   \n",
       "radius_se                           0.698050       0.303379   \n",
       "texture_se                          0.021480       0.128053   \n",
       "perimeter_se                        0.710650       0.313893   \n",
       "area_se                             0.690299       0.223970   \n",
       "smoothness_se                       0.027653       0.187321   \n",
       "compactness_se                      0.490424       0.421659   \n",
       "concavity_se                        0.439167       0.342627   \n",
       "concave points_se                   0.615634       0.393298   \n",
       "symmetry_se                         0.095351       0.449137   \n",
       "fractal_dimension_se                0.257584       0.331786   \n",
       "radius_worst                        0.830318       0.185728   \n",
       "texture_worst                       0.292752       0.090651   \n",
       "perimeter_worst                     0.855923       0.219169   \n",
       "area_worst                          0.809630       0.177193   \n",
       "smoothness_worst                    0.452753       0.426675   \n",
       "compactness_worst                   0.667454       0.473200   \n",
       "concavity_worst                     0.752399       0.433721   \n",
       "concave points_worst                0.910155       0.430297   \n",
       "symmetry_worst                      0.375744       0.699826   \n",
       "fractal_dimension_worst             0.368661       0.438413   \n",
       "diagnosis_binary                    0.776614       0.330499   \n",
       "\n",
       "                         fractal_dimension_mean  ...  texture_worst  \\\n",
       "radius_mean                           -0.311631  ...       0.297008   \n",
       "texture_mean                          -0.076437  ...       0.912045   \n",
       "perimeter_mean                        -0.261477  ...       0.303038   \n",
       "area_mean                             -0.283110  ...       0.287489   \n",
       "smoothness_mean                        0.584792  ...       0.036072   \n",
       "compactness_mean                       0.565369  ...       0.248133   \n",
       "concavity_mean                         0.336783  ...       0.299879   \n",
       "concave points_mean                    0.166917  ...       0.292752   \n",
       "symmetry_mean                          0.479921  ...       0.090651   \n",
       "fractal_dimension_mean                 1.000000  ...      -0.051269   \n",
       "radius_se                              0.000111  ...       0.194799   \n",
       "texture_se                             0.164174  ...       0.409003   \n",
       "perimeter_se                           0.039830  ...       0.200371   \n",
       "area_se                               -0.090170  ...       0.196497   \n",
       "smoothness_se                          0.401964  ...      -0.074743   \n",
       "compactness_se                         0.559837  ...       0.143003   \n",
       "concavity_se                           0.446630  ...       0.100241   \n",
       "concave points_se                      0.341198  ...       0.086741   \n",
       "symmetry_se                            0.345007  ...      -0.077473   \n",
       "fractal_dimension_se                   0.688132  ...      -0.003195   \n",
       "radius_worst                          -0.253691  ...       0.359921   \n",
       "texture_worst                         -0.051269  ...       1.000000   \n",
       "perimeter_worst                       -0.205151  ...       0.365098   \n",
       "area_worst                            -0.231854  ...       0.345842   \n",
       "smoothness_worst                       0.504942  ...       0.225429   \n",
       "compactness_worst                      0.458798  ...       0.360832   \n",
       "concavity_worst                        0.346234  ...       0.368366   \n",
       "concave points_worst                   0.175325  ...       0.359755   \n",
       "symmetry_worst                         0.334019  ...       0.233027   \n",
       "fractal_dimension_worst                0.767297  ...       0.219122   \n",
       "diagnosis_binary                      -0.012838  ...       0.456903   \n",
       "\n",
       "                         perimeter_worst  area_worst  smoothness_worst  \\\n",
       "radius_mean                     0.965137    0.941082          0.119616   \n",
       "texture_mean                    0.358040    0.343546          0.077503   \n",
       "perimeter_mean                  0.970387    0.941550          0.150549   \n",
       "area_mean                       0.959120    0.959213          0.123523   \n",
       "smoothness_mean                 0.238853    0.206718          0.805324   \n",
       "compactness_mean                0.590210    0.509604          0.565541   \n",
       "concavity_mean                  0.729565    0.675987          0.448822   \n",
       "concave points_mean             0.855923    0.809630          0.452753   \n",
       "symmetry_mean                   0.219169    0.177193          0.426675   \n",
       "fractal_dimension_mean         -0.205151   -0.231854          0.504942   \n",
       "radius_se                       0.719684    0.751548          0.141919   \n",
       "texture_se                     -0.102242   -0.083195         -0.073658   \n",
       "perimeter_se                    0.721031    0.730713          0.130054   \n",
       "area_se                         0.761213    0.811408          0.125389   \n",
       "smoothness_se                  -0.217304   -0.182195          0.314457   \n",
       "compactness_se                  0.260516    0.199371          0.227394   \n",
       "concavity_se                    0.226680    0.188353          0.168481   \n",
       "concave points_se               0.394999    0.342271          0.215351   \n",
       "symmetry_se                    -0.103753   -0.110343         -0.012662   \n",
       "fractal_dimension_se           -0.001000   -0.022736          0.170568   \n",
       "radius_worst                    0.993708    0.984015          0.216574   \n",
       "texture_worst                   0.365098    0.345842          0.225429   \n",
       "perimeter_worst                 1.000000    0.977578          0.236775   \n",
       "area_worst                      0.977578    1.000000          0.209145   \n",
       "smoothness_worst                0.236775    0.209145          1.000000   \n",
       "compactness_worst               0.529408    0.438296          0.568187   \n",
       "concavity_worst                 0.618344    0.543331          0.518523   \n",
       "concave points_worst            0.816322    0.747419          0.547691   \n",
       "symmetry_worst                  0.269493    0.209146          0.493838   \n",
       "fractal_dimension_worst         0.138957    0.079647          0.617624   \n",
       "diagnosis_binary                0.782914    0.733825          0.421465   \n",
       "\n",
       "                         compactness_worst  concavity_worst  \\\n",
       "radius_mean                       0.413463         0.526911   \n",
       "texture_mean                      0.277830         0.301025   \n",
       "perimeter_mean                    0.455774         0.563879   \n",
       "area_mean                         0.390410         0.512606   \n",
       "smoothness_mean                   0.472468         0.434926   \n",
       "compactness_mean                  0.865809         0.816275   \n",
       "concavity_mean                    0.754968         0.884103   \n",
       "concave points_mean               0.667454         0.752399   \n",
       "symmetry_mean                     0.473200         0.433721   \n",
       "fractal_dimension_mean            0.458798         0.346234   \n",
       "radius_se                         0.287103         0.380585   \n",
       "texture_se                       -0.092439        -0.068956   \n",
       "perimeter_se                      0.341919         0.418899   \n",
       "area_se                           0.283257         0.385100   \n",
       "smoothness_se                    -0.055558        -0.058298   \n",
       "compactness_se                    0.678780         0.639147   \n",
       "concavity_se                      0.484858         0.662564   \n",
       "concave points_se                 0.452888         0.549592   \n",
       "symmetry_se                       0.060255         0.037119   \n",
       "fractal_dimension_se              0.390159         0.379975   \n",
       "radius_worst                      0.475820         0.573975   \n",
       "texture_worst                     0.360832         0.368366   \n",
       "perimeter_worst                   0.529408         0.618344   \n",
       "area_worst                        0.438296         0.543331   \n",
       "smoothness_worst                  0.568187         0.518523   \n",
       "compactness_worst                 1.000000         0.892261   \n",
       "concavity_worst                   0.892261         1.000000   \n",
       "concave points_worst              0.801080         0.855434   \n",
       "symmetry_worst                    0.614441         0.532520   \n",
       "fractal_dimension_worst           0.810455         0.686511   \n",
       "diagnosis_binary                  0.590998         0.659610   \n",
       "\n",
       "                         concave points_worst  symmetry_worst  \\\n",
       "radius_mean                          0.744214        0.163953   \n",
       "texture_mean                         0.295316        0.105008   \n",
       "perimeter_mean                       0.771241        0.189115   \n",
       "area_mean                            0.722017        0.143570   \n",
       "smoothness_mean                      0.503053        0.394309   \n",
       "compactness_mean                     0.815573        0.510223   \n",
       "concavity_mean                       0.861323        0.409464   \n",
       "concave points_mean                  0.910155        0.375744   \n",
       "symmetry_mean                        0.430297        0.699826   \n",
       "fractal_dimension_mean               0.175325        0.334019   \n",
       "radius_se                            0.531062        0.094543   \n",
       "texture_se                          -0.119638       -0.128215   \n",
       "perimeter_se                         0.554897        0.109930   \n",
       "area_se                              0.538166        0.074126   \n",
       "smoothness_se                       -0.102007       -0.107342   \n",
       "compactness_se                       0.483208        0.277878   \n",
       "concavity_se                         0.440472        0.197788   \n",
       "concave points_se                    0.602450        0.143116   \n",
       "symmetry_se                         -0.030413        0.389402   \n",
       "fractal_dimension_se                 0.215204        0.111094   \n",
       "radius_worst                         0.787424        0.243529   \n",
       "texture_worst                        0.359755        0.233027   \n",
       "perimeter_worst                      0.816322        0.269493   \n",
       "area_worst                           0.747419        0.209146   \n",
       "smoothness_worst                     0.547691        0.493838   \n",
       "compactness_worst                    0.801080        0.614441   \n",
       "concavity_worst                      0.855434        0.532520   \n",
       "concave points_worst                 1.000000        0.502528   \n",
       "symmetry_worst                       0.502528        1.000000   \n",
       "fractal_dimension_worst              0.511114        0.537848   \n",
       "diagnosis_binary                     0.793566        0.416294   \n",
       "\n",
       "                         fractal_dimension_worst  diagnosis_binary  \n",
       "radius_mean                             0.007066          0.730029  \n",
       "texture_mean                            0.119205          0.415185  \n",
       "perimeter_mean                          0.051019          0.742636  \n",
       "area_mean                               0.003738          0.708984  \n",
       "smoothness_mean                         0.499316          0.358560  \n",
       "compactness_mean                        0.687382          0.596534  \n",
       "concavity_mean                          0.514930          0.696360  \n",
       "concave points_mean                     0.368661          0.776614  \n",
       "symmetry_mean                           0.438413          0.330499  \n",
       "fractal_dimension_mean                  0.767297         -0.012838  \n",
       "radius_se                               0.049559          0.567134  \n",
       "texture_se                             -0.045655         -0.008303  \n",
       "perimeter_se                            0.085433          0.556141  \n",
       "area_se                                 0.017539          0.548236  \n",
       "smoothness_se                           0.101480         -0.067016  \n",
       "compactness_se                          0.590973          0.292999  \n",
       "concavity_se                            0.439329          0.253730  \n",
       "concave points_se                       0.310655          0.408042  \n",
       "symmetry_se                             0.078079         -0.006522  \n",
       "fractal_dimension_se                    0.591328          0.077972  \n",
       "radius_worst                            0.093492          0.776454  \n",
       "texture_worst                           0.219122          0.456903  \n",
       "perimeter_worst                         0.138957          0.782914  \n",
       "area_worst                              0.079647          0.733825  \n",
       "smoothness_worst                        0.617624          0.421465  \n",
       "compactness_worst                       0.810455          0.590998  \n",
       "concavity_worst                         0.686511          0.659610  \n",
       "concave points_worst                    0.511114          0.793566  \n",
       "symmetry_worst                          0.537848          0.416294  \n",
       "fractal_dimension_worst                 1.000000          0.323872  \n",
       "diagnosis_binary                        0.323872          1.000000  \n",
       "\n",
       "[31 rows x 31 columns]"
      ],
      "text/html": [
       "<div>\n",
       "<style scoped>\n",
       "    .dataframe tbody tr th:only-of-type {\n",
       "        vertical-align: middle;\n",
       "    }\n",
       "\n",
       "    .dataframe tbody tr th {\n",
       "        vertical-align: top;\n",
       "    }\n",
       "\n",
       "    .dataframe thead th {\n",
       "        text-align: right;\n",
       "    }\n",
       "</style>\n",
       "<table border=\"1\" class=\"dataframe\">\n",
       "  <thead>\n",
       "    <tr style=\"text-align: right;\">\n",
       "      <th></th>\n",
       "      <th>radius_mean</th>\n",
       "      <th>texture_mean</th>\n",
       "      <th>perimeter_mean</th>\n",
       "      <th>area_mean</th>\n",
       "      <th>smoothness_mean</th>\n",
       "      <th>compactness_mean</th>\n",
       "      <th>concavity_mean</th>\n",
       "      <th>concave points_mean</th>\n",
       "      <th>symmetry_mean</th>\n",
       "      <th>fractal_dimension_mean</th>\n",
       "      <th>...</th>\n",
       "      <th>texture_worst</th>\n",
       "      <th>perimeter_worst</th>\n",
       "      <th>area_worst</th>\n",
       "      <th>smoothness_worst</th>\n",
       "      <th>compactness_worst</th>\n",
       "      <th>concavity_worst</th>\n",
       "      <th>concave points_worst</th>\n",
       "      <th>symmetry_worst</th>\n",
       "      <th>fractal_dimension_worst</th>\n",
       "      <th>diagnosis_binary</th>\n",
       "    </tr>\n",
       "  </thead>\n",
       "  <tbody>\n",
       "    <tr>\n",
       "      <th>radius_mean</th>\n",
       "      <td>1.000000</td>\n",
       "      <td>0.323782</td>\n",
       "      <td>0.997855</td>\n",
       "      <td>0.987357</td>\n",
       "      <td>0.170581</td>\n",
       "      <td>0.506124</td>\n",
       "      <td>0.676764</td>\n",
       "      <td>0.822529</td>\n",
       "      <td>0.147741</td>\n",
       "      <td>-0.311631</td>\n",
       "      <td>...</td>\n",
       "      <td>0.297008</td>\n",
       "      <td>0.965137</td>\n",
       "      <td>0.941082</td>\n",
       "      <td>0.119616</td>\n",
       "      <td>0.413463</td>\n",
       "      <td>0.526911</td>\n",
       "      <td>0.744214</td>\n",
       "      <td>0.163953</td>\n",
       "      <td>0.007066</td>\n",
       "      <td>0.730029</td>\n",
       "    </tr>\n",
       "    <tr>\n",
       "      <th>texture_mean</th>\n",
       "      <td>0.323782</td>\n",
       "      <td>1.000000</td>\n",
       "      <td>0.329533</td>\n",
       "      <td>0.321086</td>\n",
       "      <td>-0.023389</td>\n",
       "      <td>0.236702</td>\n",
       "      <td>0.302418</td>\n",
       "      <td>0.293464</td>\n",
       "      <td>0.071401</td>\n",
       "      <td>-0.076437</td>\n",
       "      <td>...</td>\n",
       "      <td>0.912045</td>\n",
       "      <td>0.358040</td>\n",
       "      <td>0.343546</td>\n",
       "      <td>0.077503</td>\n",
       "      <td>0.277830</td>\n",
       "      <td>0.301025</td>\n",
       "      <td>0.295316</td>\n",
       "      <td>0.105008</td>\n",
       "      <td>0.119205</td>\n",
       "      <td>0.415185</td>\n",
       "    </tr>\n",
       "    <tr>\n",
       "      <th>perimeter_mean</th>\n",
       "      <td>0.997855</td>\n",
       "      <td>0.329533</td>\n",
       "      <td>1.000000</td>\n",
       "      <td>0.986507</td>\n",
       "      <td>0.207278</td>\n",
       "      <td>0.556936</td>\n",
       "      <td>0.716136</td>\n",
       "      <td>0.850977</td>\n",
       "      <td>0.183027</td>\n",
       "      <td>-0.261477</td>\n",
       "      <td>...</td>\n",
       "      <td>0.303038</td>\n",
       "      <td>0.970387</td>\n",
       "      <td>0.941550</td>\n",
       "      <td>0.150549</td>\n",
       "      <td>0.455774</td>\n",
       "      <td>0.563879</td>\n",
       "      <td>0.771241</td>\n",
       "      <td>0.189115</td>\n",
       "      <td>0.051019</td>\n",
       "      <td>0.742636</td>\n",
       "    </tr>\n",
       "    <tr>\n",
       "      <th>area_mean</th>\n",
       "      <td>0.987357</td>\n",
       "      <td>0.321086</td>\n",
       "      <td>0.986507</td>\n",
       "      <td>1.000000</td>\n",
       "      <td>0.177028</td>\n",
       "      <td>0.498502</td>\n",
       "      <td>0.685983</td>\n",
       "      <td>0.823269</td>\n",
       "      <td>0.151293</td>\n",
       "      <td>-0.283110</td>\n",
       "      <td>...</td>\n",
       "      <td>0.287489</td>\n",
       "      <td>0.959120</td>\n",
       "      <td>0.959213</td>\n",
       "      <td>0.123523</td>\n",
       "      <td>0.390410</td>\n",
       "      <td>0.512606</td>\n",
       "      <td>0.722017</td>\n",
       "      <td>0.143570</td>\n",
       "      <td>0.003738</td>\n",
       "      <td>0.708984</td>\n",
       "    </tr>\n",
       "    <tr>\n",
       "      <th>smoothness_mean</th>\n",
       "      <td>0.170581</td>\n",
       "      <td>-0.023389</td>\n",
       "      <td>0.207278</td>\n",
       "      <td>0.177028</td>\n",
       "      <td>1.000000</td>\n",
       "      <td>0.659123</td>\n",
       "      <td>0.521984</td>\n",
       "      <td>0.553695</td>\n",
       "      <td>0.557775</td>\n",
       "      <td>0.584792</td>\n",
       "      <td>...</td>\n",
       "      <td>0.036072</td>\n",
       "      <td>0.238853</td>\n",
       "      <td>0.206718</td>\n",
       "      <td>0.805324</td>\n",
       "      <td>0.472468</td>\n",
       "      <td>0.434926</td>\n",
       "      <td>0.503053</td>\n",
       "      <td>0.394309</td>\n",
       "      <td>0.499316</td>\n",
       "      <td>0.358560</td>\n",
       "    </tr>\n",
       "    <tr>\n",
       "      <th>compactness_mean</th>\n",
       "      <td>0.506124</td>\n",
       "      <td>0.236702</td>\n",
       "      <td>0.556936</td>\n",
       "      <td>0.498502</td>\n",
       "      <td>0.659123</td>\n",
       "      <td>1.000000</td>\n",
       "      <td>0.883121</td>\n",
       "      <td>0.831135</td>\n",
       "      <td>0.602641</td>\n",
       "      <td>0.565369</td>\n",
       "      <td>...</td>\n",
       "      <td>0.248133</td>\n",
       "      <td>0.590210</td>\n",
       "      <td>0.509604</td>\n",
       "      <td>0.565541</td>\n",
       "      <td>0.865809</td>\n",
       "      <td>0.816275</td>\n",
       "      <td>0.815573</td>\n",
       "      <td>0.510223</td>\n",
       "      <td>0.687382</td>\n",
       "      <td>0.596534</td>\n",
       "    </tr>\n",
       "    <tr>\n",
       "      <th>concavity_mean</th>\n",
       "      <td>0.676764</td>\n",
       "      <td>0.302418</td>\n",
       "      <td>0.716136</td>\n",
       "      <td>0.685983</td>\n",
       "      <td>0.521984</td>\n",
       "      <td>0.883121</td>\n",
       "      <td>1.000000</td>\n",
       "      <td>0.921391</td>\n",
       "      <td>0.500667</td>\n",
       "      <td>0.336783</td>\n",
       "      <td>...</td>\n",
       "      <td>0.299879</td>\n",
       "      <td>0.729565</td>\n",
       "      <td>0.675987</td>\n",
       "      <td>0.448822</td>\n",
       "      <td>0.754968</td>\n",
       "      <td>0.884103</td>\n",
       "      <td>0.861323</td>\n",
       "      <td>0.409464</td>\n",
       "      <td>0.514930</td>\n",
       "      <td>0.696360</td>\n",
       "    </tr>\n",
       "    <tr>\n",
       "      <th>concave points_mean</th>\n",
       "      <td>0.822529</td>\n",
       "      <td>0.293464</td>\n",
       "      <td>0.850977</td>\n",
       "      <td>0.823269</td>\n",
       "      <td>0.553695</td>\n",
       "      <td>0.831135</td>\n",
       "      <td>0.921391</td>\n",
       "      <td>1.000000</td>\n",
       "      <td>0.462497</td>\n",
       "      <td>0.166917</td>\n",
       "      <td>...</td>\n",
       "      <td>0.292752</td>\n",
       "      <td>0.855923</td>\n",
       "      <td>0.809630</td>\n",
       "      <td>0.452753</td>\n",
       "      <td>0.667454</td>\n",
       "      <td>0.752399</td>\n",
       "      <td>0.910155</td>\n",
       "      <td>0.375744</td>\n",
       "      <td>0.368661</td>\n",
       "      <td>0.776614</td>\n",
       "    </tr>\n",
       "    <tr>\n",
       "      <th>symmetry_mean</th>\n",
       "      <td>0.147741</td>\n",
       "      <td>0.071401</td>\n",
       "      <td>0.183027</td>\n",
       "      <td>0.151293</td>\n",
       "      <td>0.557775</td>\n",
       "      <td>0.602641</td>\n",
       "      <td>0.500667</td>\n",
       "      <td>0.462497</td>\n",
       "      <td>1.000000</td>\n",
       "      <td>0.479921</td>\n",
       "      <td>...</td>\n",
       "      <td>0.090651</td>\n",
       "      <td>0.219169</td>\n",
       "      <td>0.177193</td>\n",
       "      <td>0.426675</td>\n",
       "      <td>0.473200</td>\n",
       "      <td>0.433721</td>\n",
       "      <td>0.430297</td>\n",
       "      <td>0.699826</td>\n",
       "      <td>0.438413</td>\n",
       "      <td>0.330499</td>\n",
       "    </tr>\n",
       "    <tr>\n",
       "      <th>fractal_dimension_mean</th>\n",
       "      <td>-0.311631</td>\n",
       "      <td>-0.076437</td>\n",
       "      <td>-0.261477</td>\n",
       "      <td>-0.283110</td>\n",
       "      <td>0.584792</td>\n",
       "      <td>0.565369</td>\n",
       "      <td>0.336783</td>\n",
       "      <td>0.166917</td>\n",
       "      <td>0.479921</td>\n",
       "      <td>1.000000</td>\n",
       "      <td>...</td>\n",
       "      <td>-0.051269</td>\n",
       "      <td>-0.205151</td>\n",
       "      <td>-0.231854</td>\n",
       "      <td>0.504942</td>\n",
       "      <td>0.458798</td>\n",
       "      <td>0.346234</td>\n",
       "      <td>0.175325</td>\n",
       "      <td>0.334019</td>\n",
       "      <td>0.767297</td>\n",
       "      <td>-0.012838</td>\n",
       "    </tr>\n",
       "    <tr>\n",
       "      <th>radius_se</th>\n",
       "      <td>0.679090</td>\n",
       "      <td>0.275869</td>\n",
       "      <td>0.691765</td>\n",
       "      <td>0.732562</td>\n",
       "      <td>0.301467</td>\n",
       "      <td>0.497473</td>\n",
       "      <td>0.631925</td>\n",
       "      <td>0.698050</td>\n",
       "      <td>0.303379</td>\n",
       "      <td>0.000111</td>\n",
       "      <td>...</td>\n",
       "      <td>0.194799</td>\n",
       "      <td>0.719684</td>\n",
       "      <td>0.751548</td>\n",
       "      <td>0.141919</td>\n",
       "      <td>0.287103</td>\n",
       "      <td>0.380585</td>\n",
       "      <td>0.531062</td>\n",
       "      <td>0.094543</td>\n",
       "      <td>0.049559</td>\n",
       "      <td>0.567134</td>\n",
       "    </tr>\n",
       "    <tr>\n",
       "      <th>texture_se</th>\n",
       "      <td>-0.097317</td>\n",
       "      <td>0.386358</td>\n",
       "      <td>-0.086761</td>\n",
       "      <td>-0.066280</td>\n",
       "      <td>0.068406</td>\n",
       "      <td>0.046205</td>\n",
       "      <td>0.076218</td>\n",
       "      <td>0.021480</td>\n",
       "      <td>0.128053</td>\n",
       "      <td>0.164174</td>\n",
       "      <td>...</td>\n",
       "      <td>0.409003</td>\n",
       "      <td>-0.102242</td>\n",
       "      <td>-0.083195</td>\n",
       "      <td>-0.073658</td>\n",
       "      <td>-0.092439</td>\n",
       "      <td>-0.068956</td>\n",
       "      <td>-0.119638</td>\n",
       "      <td>-0.128215</td>\n",
       "      <td>-0.045655</td>\n",
       "      <td>-0.008303</td>\n",
       "    </tr>\n",
       "    <tr>\n",
       "      <th>perimeter_se</th>\n",
       "      <td>0.674172</td>\n",
       "      <td>0.281673</td>\n",
       "      <td>0.693135</td>\n",
       "      <td>0.726628</td>\n",
       "      <td>0.296092</td>\n",
       "      <td>0.548905</td>\n",
       "      <td>0.660391</td>\n",
       "      <td>0.710650</td>\n",
       "      <td>0.313893</td>\n",
       "      <td>0.039830</td>\n",
       "      <td>...</td>\n",
       "      <td>0.200371</td>\n",
       "      <td>0.721031</td>\n",
       "      <td>0.730713</td>\n",
       "      <td>0.130054</td>\n",
       "      <td>0.341919</td>\n",
       "      <td>0.418899</td>\n",
       "      <td>0.554897</td>\n",
       "      <td>0.109930</td>\n",
       "      <td>0.085433</td>\n",
       "      <td>0.556141</td>\n",
       "    </tr>\n",
       "    <tr>\n",
       "      <th>area_se</th>\n",
       "      <td>0.735864</td>\n",
       "      <td>0.259845</td>\n",
       "      <td>0.744983</td>\n",
       "      <td>0.800086</td>\n",
       "      <td>0.246552</td>\n",
       "      <td>0.455653</td>\n",
       "      <td>0.617427</td>\n",
       "      <td>0.690299</td>\n",
       "      <td>0.223970</td>\n",
       "      <td>-0.090170</td>\n",
       "      <td>...</td>\n",
       "      <td>0.196497</td>\n",
       "      <td>0.761213</td>\n",
       "      <td>0.811408</td>\n",
       "      <td>0.125389</td>\n",
       "      <td>0.283257</td>\n",
       "      <td>0.385100</td>\n",
       "      <td>0.538166</td>\n",
       "      <td>0.074126</td>\n",
       "      <td>0.017539</td>\n",
       "      <td>0.548236</td>\n",
       "    </tr>\n",
       "    <tr>\n",
       "      <th>smoothness_se</th>\n",
       "      <td>-0.222600</td>\n",
       "      <td>0.006614</td>\n",
       "      <td>-0.202694</td>\n",
       "      <td>-0.166777</td>\n",
       "      <td>0.332375</td>\n",
       "      <td>0.135299</td>\n",
       "      <td>0.098564</td>\n",
       "      <td>0.027653</td>\n",
       "      <td>0.187321</td>\n",
       "      <td>0.401964</td>\n",
       "      <td>...</td>\n",
       "      <td>-0.074743</td>\n",
       "      <td>-0.217304</td>\n",
       "      <td>-0.182195</td>\n",
       "      <td>0.314457</td>\n",
       "      <td>-0.055558</td>\n",
       "      <td>-0.058298</td>\n",
       "      <td>-0.102007</td>\n",
       "      <td>-0.107342</td>\n",
       "      <td>0.101480</td>\n",
       "      <td>-0.067016</td>\n",
       "    </tr>\n",
       "    <tr>\n",
       "      <th>compactness_se</th>\n",
       "      <td>0.206000</td>\n",
       "      <td>0.191975</td>\n",
       "      <td>0.250744</td>\n",
       "      <td>0.212583</td>\n",
       "      <td>0.318943</td>\n",
       "      <td>0.738722</td>\n",
       "      <td>0.670279</td>\n",
       "      <td>0.490424</td>\n",
       "      <td>0.421659</td>\n",
       "      <td>0.559837</td>\n",
       "      <td>...</td>\n",
       "      <td>0.143003</td>\n",
       "      <td>0.260516</td>\n",
       "      <td>0.199371</td>\n",
       "      <td>0.227394</td>\n",
       "      <td>0.678780</td>\n",
       "      <td>0.639147</td>\n",
       "      <td>0.483208</td>\n",
       "      <td>0.277878</td>\n",
       "      <td>0.590973</td>\n",
       "      <td>0.292999</td>\n",
       "    </tr>\n",
       "    <tr>\n",
       "      <th>concavity_se</th>\n",
       "      <td>0.194204</td>\n",
       "      <td>0.143293</td>\n",
       "      <td>0.228082</td>\n",
       "      <td>0.207660</td>\n",
       "      <td>0.248396</td>\n",
       "      <td>0.570517</td>\n",
       "      <td>0.691270</td>\n",
       "      <td>0.439167</td>\n",
       "      <td>0.342627</td>\n",
       "      <td>0.446630</td>\n",
       "      <td>...</td>\n",
       "      <td>0.100241</td>\n",
       "      <td>0.226680</td>\n",
       "      <td>0.188353</td>\n",
       "      <td>0.168481</td>\n",
       "      <td>0.484858</td>\n",
       "      <td>0.662564</td>\n",
       "      <td>0.440472</td>\n",
       "      <td>0.197788</td>\n",
       "      <td>0.439329</td>\n",
       "      <td>0.253730</td>\n",
       "    </tr>\n",
       "    <tr>\n",
       "      <th>concave points_se</th>\n",
       "      <td>0.376169</td>\n",
       "      <td>0.163851</td>\n",
       "      <td>0.407217</td>\n",
       "      <td>0.372320</td>\n",
       "      <td>0.380676</td>\n",
       "      <td>0.642262</td>\n",
       "      <td>0.683260</td>\n",
       "      <td>0.615634</td>\n",
       "      <td>0.393298</td>\n",
       "      <td>0.341198</td>\n",
       "      <td>...</td>\n",
       "      <td>0.086741</td>\n",
       "      <td>0.394999</td>\n",
       "      <td>0.342271</td>\n",
       "      <td>0.215351</td>\n",
       "      <td>0.452888</td>\n",
       "      <td>0.549592</td>\n",
       "      <td>0.602450</td>\n",
       "      <td>0.143116</td>\n",
       "      <td>0.310655</td>\n",
       "      <td>0.408042</td>\n",
       "    </tr>\n",
       "    <tr>\n",
       "      <th>symmetry_se</th>\n",
       "      <td>-0.104321</td>\n",
       "      <td>0.009127</td>\n",
       "      <td>-0.081629</td>\n",
       "      <td>-0.072497</td>\n",
       "      <td>0.200774</td>\n",
       "      <td>0.229977</td>\n",
       "      <td>0.178009</td>\n",
       "      <td>0.095351</td>\n",
       "      <td>0.449137</td>\n",
       "      <td>0.345007</td>\n",
       "      <td>...</td>\n",
       "      <td>-0.077473</td>\n",
       "      <td>-0.103753</td>\n",
       "      <td>-0.110343</td>\n",
       "      <td>-0.012662</td>\n",
       "      <td>0.060255</td>\n",
       "      <td>0.037119</td>\n",
       "      <td>-0.030413</td>\n",
       "      <td>0.389402</td>\n",
       "      <td>0.078079</td>\n",
       "      <td>-0.006522</td>\n",
       "    </tr>\n",
       "    <tr>\n",
       "      <th>fractal_dimension_se</th>\n",
       "      <td>-0.042641</td>\n",
       "      <td>0.054458</td>\n",
       "      <td>-0.005523</td>\n",
       "      <td>-0.019887</td>\n",
       "      <td>0.283607</td>\n",
       "      <td>0.507318</td>\n",
       "      <td>0.449301</td>\n",
       "      <td>0.257584</td>\n",
       "      <td>0.331786</td>\n",
       "      <td>0.688132</td>\n",
       "      <td>...</td>\n",
       "      <td>-0.003195</td>\n",
       "      <td>-0.001000</td>\n",
       "      <td>-0.022736</td>\n",
       "      <td>0.170568</td>\n",
       "      <td>0.390159</td>\n",
       "      <td>0.379975</td>\n",
       "      <td>0.215204</td>\n",
       "      <td>0.111094</td>\n",
       "      <td>0.591328</td>\n",
       "      <td>0.077972</td>\n",
       "    </tr>\n",
       "    <tr>\n",
       "      <th>radius_worst</th>\n",
       "      <td>0.969539</td>\n",
       "      <td>0.352573</td>\n",
       "      <td>0.969476</td>\n",
       "      <td>0.962746</td>\n",
       "      <td>0.213120</td>\n",
       "      <td>0.535315</td>\n",
       "      <td>0.688236</td>\n",
       "      <td>0.830318</td>\n",
       "      <td>0.185728</td>\n",
       "      <td>-0.253691</td>\n",
       "      <td>...</td>\n",
       "      <td>0.359921</td>\n",
       "      <td>0.993708</td>\n",
       "      <td>0.984015</td>\n",
       "      <td>0.216574</td>\n",
       "      <td>0.475820</td>\n",
       "      <td>0.573975</td>\n",
       "      <td>0.787424</td>\n",
       "      <td>0.243529</td>\n",
       "      <td>0.093492</td>\n",
       "      <td>0.776454</td>\n",
       "    </tr>\n",
       "    <tr>\n",
       "      <th>texture_worst</th>\n",
       "      <td>0.297008</td>\n",
       "      <td>0.912045</td>\n",
       "      <td>0.303038</td>\n",
       "      <td>0.287489</td>\n",
       "      <td>0.036072</td>\n",
       "      <td>0.248133</td>\n",
       "      <td>0.299879</td>\n",
       "      <td>0.292752</td>\n",
       "      <td>0.090651</td>\n",
       "      <td>-0.051269</td>\n",
       "      <td>...</td>\n",
       "      <td>1.000000</td>\n",
       "      <td>0.365098</td>\n",
       "      <td>0.345842</td>\n",
       "      <td>0.225429</td>\n",
       "      <td>0.360832</td>\n",
       "      <td>0.368366</td>\n",
       "      <td>0.359755</td>\n",
       "      <td>0.233027</td>\n",
       "      <td>0.219122</td>\n",
       "      <td>0.456903</td>\n",
       "    </tr>\n",
       "    <tr>\n",
       "      <th>perimeter_worst</th>\n",
       "      <td>0.965137</td>\n",
       "      <td>0.358040</td>\n",
       "      <td>0.970387</td>\n",
       "      <td>0.959120</td>\n",
       "      <td>0.238853</td>\n",
       "      <td>0.590210</td>\n",
       "      <td>0.729565</td>\n",
       "      <td>0.855923</td>\n",
       "      <td>0.219169</td>\n",
       "      <td>-0.205151</td>\n",
       "      <td>...</td>\n",
       "      <td>0.365098</td>\n",
       "      <td>1.000000</td>\n",
       "      <td>0.977578</td>\n",
       "      <td>0.236775</td>\n",
       "      <td>0.529408</td>\n",
       "      <td>0.618344</td>\n",
       "      <td>0.816322</td>\n",
       "      <td>0.269493</td>\n",
       "      <td>0.138957</td>\n",
       "      <td>0.782914</td>\n",
       "    </tr>\n",
       "    <tr>\n",
       "      <th>area_worst</th>\n",
       "      <td>0.941082</td>\n",
       "      <td>0.343546</td>\n",
       "      <td>0.941550</td>\n",
       "      <td>0.959213</td>\n",
       "      <td>0.206718</td>\n",
       "      <td>0.509604</td>\n",
       "      <td>0.675987</td>\n",
       "      <td>0.809630</td>\n",
       "      <td>0.177193</td>\n",
       "      <td>-0.231854</td>\n",
       "      <td>...</td>\n",
       "      <td>0.345842</td>\n",
       "      <td>0.977578</td>\n",
       "      <td>1.000000</td>\n",
       "      <td>0.209145</td>\n",
       "      <td>0.438296</td>\n",
       "      <td>0.543331</td>\n",
       "      <td>0.747419</td>\n",
       "      <td>0.209146</td>\n",
       "      <td>0.079647</td>\n",
       "      <td>0.733825</td>\n",
       "    </tr>\n",
       "    <tr>\n",
       "      <th>smoothness_worst</th>\n",
       "      <td>0.119616</td>\n",
       "      <td>0.077503</td>\n",
       "      <td>0.150549</td>\n",
       "      <td>0.123523</td>\n",
       "      <td>0.805324</td>\n",
       "      <td>0.565541</td>\n",
       "      <td>0.448822</td>\n",
       "      <td>0.452753</td>\n",
       "      <td>0.426675</td>\n",
       "      <td>0.504942</td>\n",
       "      <td>...</td>\n",
       "      <td>0.225429</td>\n",
       "      <td>0.236775</td>\n",
       "      <td>0.209145</td>\n",
       "      <td>1.000000</td>\n",
       "      <td>0.568187</td>\n",
       "      <td>0.518523</td>\n",
       "      <td>0.547691</td>\n",
       "      <td>0.493838</td>\n",
       "      <td>0.617624</td>\n",
       "      <td>0.421465</td>\n",
       "    </tr>\n",
       "    <tr>\n",
       "      <th>compactness_worst</th>\n",
       "      <td>0.413463</td>\n",
       "      <td>0.277830</td>\n",
       "      <td>0.455774</td>\n",
       "      <td>0.390410</td>\n",
       "      <td>0.472468</td>\n",
       "      <td>0.865809</td>\n",
       "      <td>0.754968</td>\n",
       "      <td>0.667454</td>\n",
       "      <td>0.473200</td>\n",
       "      <td>0.458798</td>\n",
       "      <td>...</td>\n",
       "      <td>0.360832</td>\n",
       "      <td>0.529408</td>\n",
       "      <td>0.438296</td>\n",
       "      <td>0.568187</td>\n",
       "      <td>1.000000</td>\n",
       "      <td>0.892261</td>\n",
       "      <td>0.801080</td>\n",
       "      <td>0.614441</td>\n",
       "      <td>0.810455</td>\n",
       "      <td>0.590998</td>\n",
       "    </tr>\n",
       "    <tr>\n",
       "      <th>concavity_worst</th>\n",
       "      <td>0.526911</td>\n",
       "      <td>0.301025</td>\n",
       "      <td>0.563879</td>\n",
       "      <td>0.512606</td>\n",
       "      <td>0.434926</td>\n",
       "      <td>0.816275</td>\n",
       "      <td>0.884103</td>\n",
       "      <td>0.752399</td>\n",
       "      <td>0.433721</td>\n",
       "      <td>0.346234</td>\n",
       "      <td>...</td>\n",
       "      <td>0.368366</td>\n",
       "      <td>0.618344</td>\n",
       "      <td>0.543331</td>\n",
       "      <td>0.518523</td>\n",
       "      <td>0.892261</td>\n",
       "      <td>1.000000</td>\n",
       "      <td>0.855434</td>\n",
       "      <td>0.532520</td>\n",
       "      <td>0.686511</td>\n",
       "      <td>0.659610</td>\n",
       "    </tr>\n",
       "    <tr>\n",
       "      <th>concave points_worst</th>\n",
       "      <td>0.744214</td>\n",
       "      <td>0.295316</td>\n",
       "      <td>0.771241</td>\n",
       "      <td>0.722017</td>\n",
       "      <td>0.503053</td>\n",
       "      <td>0.815573</td>\n",
       "      <td>0.861323</td>\n",
       "      <td>0.910155</td>\n",
       "      <td>0.430297</td>\n",
       "      <td>0.175325</td>\n",
       "      <td>...</td>\n",
       "      <td>0.359755</td>\n",
       "      <td>0.816322</td>\n",
       "      <td>0.747419</td>\n",
       "      <td>0.547691</td>\n",
       "      <td>0.801080</td>\n",
       "      <td>0.855434</td>\n",
       "      <td>1.000000</td>\n",
       "      <td>0.502528</td>\n",
       "      <td>0.511114</td>\n",
       "      <td>0.793566</td>\n",
       "    </tr>\n",
       "    <tr>\n",
       "      <th>symmetry_worst</th>\n",
       "      <td>0.163953</td>\n",
       "      <td>0.105008</td>\n",
       "      <td>0.189115</td>\n",
       "      <td>0.143570</td>\n",
       "      <td>0.394309</td>\n",
       "      <td>0.510223</td>\n",
       "      <td>0.409464</td>\n",
       "      <td>0.375744</td>\n",
       "      <td>0.699826</td>\n",
       "      <td>0.334019</td>\n",
       "      <td>...</td>\n",
       "      <td>0.233027</td>\n",
       "      <td>0.269493</td>\n",
       "      <td>0.209146</td>\n",
       "      <td>0.493838</td>\n",
       "      <td>0.614441</td>\n",
       "      <td>0.532520</td>\n",
       "      <td>0.502528</td>\n",
       "      <td>1.000000</td>\n",
       "      <td>0.537848</td>\n",
       "      <td>0.416294</td>\n",
       "    </tr>\n",
       "    <tr>\n",
       "      <th>fractal_dimension_worst</th>\n",
       "      <td>0.007066</td>\n",
       "      <td>0.119205</td>\n",
       "      <td>0.051019</td>\n",
       "      <td>0.003738</td>\n",
       "      <td>0.499316</td>\n",
       "      <td>0.687382</td>\n",
       "      <td>0.514930</td>\n",
       "      <td>0.368661</td>\n",
       "      <td>0.438413</td>\n",
       "      <td>0.767297</td>\n",
       "      <td>...</td>\n",
       "      <td>0.219122</td>\n",
       "      <td>0.138957</td>\n",
       "      <td>0.079647</td>\n",
       "      <td>0.617624</td>\n",
       "      <td>0.810455</td>\n",
       "      <td>0.686511</td>\n",
       "      <td>0.511114</td>\n",
       "      <td>0.537848</td>\n",
       "      <td>1.000000</td>\n",
       "      <td>0.323872</td>\n",
       "    </tr>\n",
       "    <tr>\n",
       "      <th>diagnosis_binary</th>\n",
       "      <td>0.730029</td>\n",
       "      <td>0.415185</td>\n",
       "      <td>0.742636</td>\n",
       "      <td>0.708984</td>\n",
       "      <td>0.358560</td>\n",
       "      <td>0.596534</td>\n",
       "      <td>0.696360</td>\n",
       "      <td>0.776614</td>\n",
       "      <td>0.330499</td>\n",
       "      <td>-0.012838</td>\n",
       "      <td>...</td>\n",
       "      <td>0.456903</td>\n",
       "      <td>0.782914</td>\n",
       "      <td>0.733825</td>\n",
       "      <td>0.421465</td>\n",
       "      <td>0.590998</td>\n",
       "      <td>0.659610</td>\n",
       "      <td>0.793566</td>\n",
       "      <td>0.416294</td>\n",
       "      <td>0.323872</td>\n",
       "      <td>1.000000</td>\n",
       "    </tr>\n",
       "  </tbody>\n",
       "</table>\n",
       "<p>31 rows × 31 columns</p>\n",
       "</div>"
      ]
     },
     "execution_count": 73,
     "metadata": {},
     "output_type": "execute_result"
    }
   ],
   "execution_count": 73
  },
  {
   "metadata": {
    "ExecuteTime": {
     "end_time": "2025-05-08T12:06:49.383961Z",
     "start_time": "2025-05-08T12:06:49.372930Z"
    }
   },
   "cell_type": "code",
   "source": "cancer.select_dtypes('number').corr()['diagnosis_binary'].sort_values()",
   "id": "7c6ad21526e5559f",
   "outputs": [
    {
     "data": {
      "text/plain": [
       "smoothness_se             -0.067016\n",
       "fractal_dimension_mean    -0.012838\n",
       "texture_se                -0.008303\n",
       "symmetry_se               -0.006522\n",
       "fractal_dimension_se       0.077972\n",
       "concavity_se               0.253730\n",
       "compactness_se             0.292999\n",
       "fractal_dimension_worst    0.323872\n",
       "symmetry_mean              0.330499\n",
       "smoothness_mean            0.358560\n",
       "concave points_se          0.408042\n",
       "texture_mean               0.415185\n",
       "symmetry_worst             0.416294\n",
       "smoothness_worst           0.421465\n",
       "texture_worst              0.456903\n",
       "area_se                    0.548236\n",
       "perimeter_se               0.556141\n",
       "radius_se                  0.567134\n",
       "compactness_worst          0.590998\n",
       "compactness_mean           0.596534\n",
       "concavity_worst            0.659610\n",
       "concavity_mean             0.696360\n",
       "area_mean                  0.708984\n",
       "radius_mean                0.730029\n",
       "area_worst                 0.733825\n",
       "perimeter_mean             0.742636\n",
       "radius_worst               0.776454\n",
       "concave points_mean        0.776614\n",
       "perimeter_worst            0.782914\n",
       "concave points_worst       0.793566\n",
       "diagnosis_binary           1.000000\n",
       "Name: diagnosis_binary, dtype: float64"
      ]
     },
     "execution_count": 74,
     "metadata": {},
     "output_type": "execute_result"
    }
   ],
   "execution_count": 74
  }
 ],
 "metadata": {
  "kernelspec": {
   "display_name": "Python 3",
   "language": "python",
   "name": "python3"
  },
  "language_info": {
   "codemirror_mode": {
    "name": "ipython",
    "version": 2
   },
   "file_extension": ".py",
   "mimetype": "text/x-python",
   "name": "python",
   "nbconvert_exporter": "python",
   "pygments_lexer": "ipython2",
   "version": "2.7.6"
  }
 },
 "nbformat": 4,
 "nbformat_minor": 5
}
