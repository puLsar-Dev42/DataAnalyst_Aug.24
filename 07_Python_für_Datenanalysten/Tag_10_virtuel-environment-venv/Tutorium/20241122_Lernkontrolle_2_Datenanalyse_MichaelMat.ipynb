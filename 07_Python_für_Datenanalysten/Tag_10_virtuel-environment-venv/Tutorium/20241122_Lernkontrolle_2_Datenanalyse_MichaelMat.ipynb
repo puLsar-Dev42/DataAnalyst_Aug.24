{
 "cells": [
  {
   "cell_type": "markdown",
   "source": [
    "<br><br><center><h1 style=\"font-size:2em;color:#2467C0\">Lernkontrolle 02.02.2024</h1></center>\n",
    "<br>\n"
   ],
   "metadata": {
    "collapsed": false
   }
  },
  {
   "cell_type": "markdown",
   "source": [
    "## Punkteschema\n",
    "\n",
    "* Aufgabe 1: 8 Punkte\n",
    "* Aufgabe 2: 12 Punkte\n",
    "* Aufgabe 3-7: jeweils 10 Punkte\n",
    "* Aufgabe 8: 5 Punkte\n",
    "* Aufgaben 9-10: jeweils 10 Punkte\n",
    "* Aufgabe 11: 5 Punkte"
   ],
   "metadata": {
    "collapsed": false
   }
  },
  {
   "cell_type": "code",
   "outputs": [],
   "source": [
    "# Deine Imports\n"
   ],
   "metadata": {
    "collapsed": false
   },
   "execution_count": null
  },
  {
   "cell_type": "markdown",
   "source": [
    "1. Lade die Datei 'autoscout24-germany-dataset.csv' und lasse dir die ersten fünf Einträge anzeigen.\n",
    "Beantworte außerdem folgende Fragen:\n",
    "Wie viel kostet das billigste Fahrzeug? (Hier reicht eine Zahl!)\n",
    "Wie hoch ist der höchste \"Kilometerstand\" (mileage)?\n",
    "Was ist der durchschnittliche Fahrzeugpreis über den ganzen Datensatz?"
   ],
   "metadata": {
    "collapsed": false
   }
  },
  {
   "cell_type": "code",
   "outputs": [],
   "source": [],
   "metadata": {
    "collapsed": false
   }
  },
  {
   "cell_type": "markdown",
   "source": [
    "2. Welche und wie viele Angebotstypen (offerType) sowie Antriebsarten (fuel) gibt es?\n",
    "Außerdem: Wie viele Marken gibt es im Datensatz und welche kommen besonders häufig vor (Top Ten, bitte)?"
   ],
   "metadata": {
    "collapsed": false
   }
  },
  {
   "cell_type": "code",
   "outputs": [],
   "source": [],
   "metadata": {
    "collapsed": false
   }
  },
  {
   "cell_type": "markdown",
   "source": [
    "3. Berechne den Wert durchschnittlicher Fahrzeuge für die verschiedenen Angebotstypen. Sortiere das Ergebnis nach Werten, speichere es in eine Variable price_per_type und lass dir dieses als Output ausgeben."
   ],
   "metadata": {
    "collapsed": false
   }
  },
  {
   "cell_type": "code",
   "outputs": [],
   "source": [],
   "metadata": {
    "collapsed": false
   }
  },
  {
   "cell_type": "markdown",
   "source": [
    "4. Stelle price_per_type als Balkendiagramm dar. Denke daran, dem Diagramm Beschriftungen zu verpassen!"
   ],
   "metadata": {
    "collapsed": false
   }
  },
  {
   "cell_type": "code",
   "outputs": [],
   "source": [],
   "metadata": {
    "collapsed": false
   }
  },
  {
   "cell_type": "markdown",
   "source": [
    "5. Rechne den Preis von Durchschnittsfahrzeugen für die verschiedenen Jahre aus und speicher auch hier in eine Variabel price_per_year, die du ausgeben lässt. "
   ],
   "metadata": {
    "collapsed": false
   }
  },
  {
   "cell_type": "code",
   "outputs": [],
   "source": [],
   "metadata": {
    "collapsed": false
   }
  },
  {
   "cell_type": "markdown",
   "source": [
    "6. Stelle price_per_year in einem Liniendiagramm dar. Färbe die Linie grün, füge runde Marker hinzu für die Jahrespunkte und denk ans Beschriften!"
   ],
   "metadata": {
    "collapsed": false
   }
  },
  {
   "cell_type": "code",
   "outputs": [],
   "source": [],
   "metadata": {
    "collapsed": false
   }
  },
  {
   "cell_type": "markdown",
   "source": [
    "7. Stelle den Zusammenhang zwischen Kilometerstand und Preis in einem geeigneten Plot dar und ergänze den Plot um folgende Parameter:\n",
    "xlim=(0, 450_000)\n",
    "ylim=(0, 300_000)\n",
    "(Damit grenzt man den angezeigten Ausschnitt auf der x- und y-Achse ein.)\n",
    "Vergiss nicht, deinen Plot zu beschriften!"
   ],
   "metadata": {
    "collapsed": false
   }
  },
  {
   "cell_type": "code",
   "outputs": [],
   "source": [],
   "metadata": {
    "collapsed": false
   }
  },
  {
   "cell_type": "markdown",
   "source": [
    "9. a) Wie viele Antriebsarten (fuel) gibt es in diesem Datensatz? \n",
    "b) Gruppiere die Daten nach diesen Antriebsarten und rechne wieder die mittleren Fahrzeugpreise aus, speichere das Ergebnis in bmw_by_fuel und lasse dir das Ergebnis anzeigen."
   ],
   "metadata": {
    "collapsed": false
   }
  },
  {
   "cell_type": "code",
   "outputs": [],
   "source": [],
   "metadata": {
    "collapsed": false
   }
  },
  {
   "cell_type": "markdown",
   "source": [
    "10. a) Sortiere bmw_by_fuel absteigend. \n",
    "b) Stelle die sortierte Series in einem geeigneten Diagramm mit Beschriftungen dar."
   ],
   "metadata": {
    "collapsed": false
   }
  },
  {
   "cell_type": "code",
   "outputs": [],
   "source": [],
   "metadata": {
    "collapsed": false
   }
  },
  {
   "cell_type": "markdown",
   "source": [
    "11. Exportiere deine bmw_by_fuel als csv und nenne die Datei bmw_by_fuel.csv. Lade sie danach wieder zum Test!"
   ],
   "metadata": {
    "collapsed": false
   }
  },
  {
   "cell_type": "code",
   "outputs": [],
   "source": [],
   "metadata": {
    "collapsed": false
   }
  }
 ],
 "metadata": {
  "kernelspec": {
   "display_name": "Python 3",
   "language": "python",
   "name": "python3"
  },
  "language_info": {
   "codemirror_mode": {
    "name": "ipython",
    "version": 2
   },
   "file_extension": ".py",
   "mimetype": "text/x-python",
   "name": "python",
   "nbconvert_exporter": "python",
   "pygments_lexer": "ipython2",
   "version": "2.7.6"
  }
 },
 "nbformat": 4,
 "nbformat_minor": 0
}
