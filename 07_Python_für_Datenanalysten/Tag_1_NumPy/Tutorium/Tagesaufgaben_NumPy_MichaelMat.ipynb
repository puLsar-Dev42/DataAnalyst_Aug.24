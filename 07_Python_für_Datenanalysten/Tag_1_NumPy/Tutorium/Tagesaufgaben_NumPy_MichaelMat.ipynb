{
 "cells": [
  {
   "cell_type": "markdown",
   "metadata": {},
   "source": [
    "<br><br><center><h1 style=\"font-size:2em;color:#2467C0\">Tagesaufgaben: Numpy</h1></center>\n",
    "<br>\n"
   ]
  },
  {
   "cell_type": "markdown",
   "metadata": {},
   "source": [
    "## Aufgabe 1"
   ]
  },
  {
   "metadata": {
    "ExecuteTime": {
     "end_time": "2024-11-11T13:48:02.491337Z",
     "start_time": "2024-11-11T13:48:02.433766Z"
    }
   },
   "cell_type": "code",
   "source": [
    "# Deine Imports:\n",
    "import numpy as np\n",
    "from numpy import dtype\n",
    "from numpy.ma.core import maximum"
   ],
   "outputs": [],
   "execution_count": 1
  },
  {
   "cell_type": "markdown",
   "metadata": {},
   "source": [
    "<div  class=\"alert alert-block alert-info\">\n",
    "1. Erstelle ein eindimensionales Array und wandel es anschließend in ein zweidimensionales Array der folgenden Form um:\n",
    "\n",
    "    Output:\n",
    "    [[12 23]\n",
    "     [31 25]\n",
    "     [65 98]]\n",
    "</div>"
   ]
  },
  {
   "cell_type": "code",
   "metadata": {
    "ExecuteTime": {
     "end_time": "2024-11-11T13:34:43.128069Z",
     "start_time": "2024-11-11T13:34:43.121279Z"
    }
   },
   "source": [
    "arrayX = np.arange(1, 7)\n",
    "arrayX_2d = arrayX.reshape((3, 2))\n",
    "print(arrayX_2d)\n",
    "arrayX_2d"
   ],
   "outputs": [
    {
     "name": "stdout",
     "output_type": "stream",
     "text": [
      "[[1 2]\n",
      " [3 4]\n",
      " [5 6]]\n"
     ]
    },
    {
     "data": {
      "text/plain": [
       "array([[1, 2],\n",
       "       [3, 4],\n",
       "       [5, 6]])"
      ]
     },
     "execution_count": 58,
     "metadata": {},
     "output_type": "execute_result"
    }
   ],
   "execution_count": 58
  },
  {
   "cell_type": "markdown",
   "metadata": {
    "collapsed": false
   },
   "source": [
    "<div  class=\"alert alert-block alert-info\">\n",
    "2. Erstelle ein Array mit den Zahlen 1 bis 100 OHNE den Einsatz von list oder range, ausschließlich mit Numpy-Mitteln. Teile dieses Array danach in zwei gleiche Teile und lege diese auf die Variabeln arr1 und arr2. Lass dir arr1 und arr2 anzeigen.\n",
    "</div>"
   ]
  },
  {
   "metadata": {
    "ExecuteTime": {
     "end_time": "2024-11-11T13:34:43.182357Z",
     "start_time": "2024-11-11T13:34:43.174572Z"
    }
   },
   "cell_type": "code",
   "source": [
    "array1_100 = np.arange(1, 101)\n",
    "arr1 = array1_100[0: 50]\n",
    "arr2 = array1_100[50: ]\n",
    "print(arr1,\"\\n\\n\",arr2)"
   ],
   "outputs": [
    {
     "name": "stdout",
     "output_type": "stream",
     "text": [
      "[ 1  2  3  4  5  6  7  8  9 10 11 12 13 14 15 16 17 18 19 20 21 22 23 24\n",
      " 25 26 27 28 29 30 31 32 33 34 35 36 37 38 39 40 41 42 43 44 45 46 47 48\n",
      " 49 50] \n",
      "\n",
      " [ 51  52  53  54  55  56  57  58  59  60  61  62  63  64  65  66  67  68\n",
      "  69  70  71  72  73  74  75  76  77  78  79  80  81  82  83  84  85  86\n",
      "  87  88  89  90  91  92  93  94  95  96  97  98  99 100]\n"
     ]
    }
   ],
   "execution_count": 59
  },
  {
   "cell_type": "markdown",
   "metadata": {
    "collapsed": false
   },
   "source": [
    "<div  class=\"alert alert-block alert-info\">\n",
    "3. Gegeben ist nachfolgendes Array. Sortiere die Zahlen im Array.\n",
    "\n",
    "    Output:\n",
    "    [12 20 23 34]\n",
    "</div>"
   ]
  },
  {
   "cell_type": "code",
   "metadata": {
    "collapsed": false,
    "ExecuteTime": {
     "end_time": "2024-11-11T13:34:43.248496Z",
     "start_time": "2024-11-11T13:34:43.244197Z"
    }
   },
   "source": [
    "array1 = np.array([20, 23, 12, 34])\n",
    "array1.sort()\n",
    "print(array1)"
   ],
   "outputs": [
    {
     "name": "stdout",
     "output_type": "stream",
     "text": [
      "[12 20 23 34]\n"
     ]
    }
   ],
   "execution_count": 60
  },
  {
   "cell_type": "markdown",
   "metadata": {
    "collapsed": false
   },
   "source": [
    "<div  class=\"alert alert-block alert-info\">\n",
    "4. Erstelle zwei Arrays. Füge beide Arrays zusammen. Nutze dafür zwei verschiedene Befehle.\n",
    "\n",
    "    Output:\n",
    "    [20 23 12 34 23 34 12 45]\n",
    "    [20 23 12 34 23 34 12 45]\n",
    "</div>"
   ]
  },
  {
   "cell_type": "code",
   "metadata": {
    "collapsed": false,
    "ExecuteTime": {
     "end_time": "2024-11-11T13:34:43.312676Z",
     "start_time": "2024-11-11T13:34:43.307308Z"
    }
   },
   "source": [
    "arr01 = np.array([20, 23, 12, 34])\n",
    "arr02 = np.array([23, 34, 12, 45])\n",
    "arr03 = np.concatenate((arr01, arr02))\n",
    "arr04 = np.append(arr01, arr02)\n",
    "print(arr03)\n",
    "print(arr04)"
   ],
   "outputs": [
    {
     "name": "stdout",
     "output_type": "stream",
     "text": [
      "[20 23 12 34 23 34 12 45]\n",
      "[20 23 12 34 23 34 12 45]\n"
     ]
    }
   ],
   "execution_count": 61
  },
  {
   "cell_type": "markdown",
   "metadata": {
    "collapsed": false
   },
   "source": [
    "<div  class=\"alert alert-block alert-info\">\n",
    "5. Erstelle ein eindimensionales Array und teile es in zwei Arrays auf. Speichere das Ergebnis der Teilung in zwei Variablen. Nutze dafür nur eine Zeile Code.\n",
    "\n",
    "    Output:\n",
    "    [array([20, 23]), array([12, 34])]\n",
    "</div>"
   ]
  },
  {
   "cell_type": "code",
   "metadata": {
    "collapsed": false,
    "ExecuteTime": {
     "end_time": "2024-11-11T13:34:43.466707Z",
     "start_time": "2024-11-11T13:34:43.461598Z"
    }
   },
   "source": [
    "array1 = np.array([20, 23, 12, 34])\n",
    "arr001, arr002 = np.split(array1, 2)\n",
    "print(arr001)\n",
    "print(arr002)"
   ],
   "outputs": [
    {
     "name": "stdout",
     "output_type": "stream",
     "text": [
      "[20 23]\n",
      "[12 34]\n"
     ]
    }
   ],
   "execution_count": 62
  },
  {
   "cell_type": "markdown",
   "metadata": {
    "collapsed": false
   },
   "source": [
    "<div  class=\"alert alert-block alert-info\">\n",
    "6. Gegeben ist folgendes Array. Lass dir die Index-Position ausgeben, an der sich der Name Sara befindet.\n",
    "\n",
    "    Output:\n",
    "    (array([1], dtype=int64),)\n",
    "</div>"
   ]
  },
  {
   "cell_type": "code",
   "metadata": {
    "collapsed": false,
    "ExecuteTime": {
     "end_time": "2024-11-11T13:54:56.278681Z",
     "start_time": "2024-11-11T13:54:56.273464Z"
    }
   },
   "source": [
    "array3 = np.array([\"Alex\", \"Sara\", \"Annika\", \"Max\", \"Julian\"])\n",
    "saras_index = np.where(array3 == \"Sara\")\n",
    "print(saras_index)"
   ],
   "outputs": [
    {
     "name": "stdout",
     "output_type": "stream",
     "text": [
      "(array([1]),)\n"
     ]
    }
   ],
   "execution_count": 6
  },
  {
   "cell_type": "markdown",
   "metadata": {
    "collapsed": false
   },
   "source": [
    "<div  class=\"alert alert-block alert-info\">\n",
    "7. Gegeben ist folgendes Array. Durchsuche wieder das Array nach dem Namen Sara aber lass dir dieses Mal eine Liste mit Booleschen Werten für jeden Index des Arrays ausgeben.\n",
    "\n",
    "    Output:\n",
    "    [False  True False False False]\n",
    "</div>"
   ]
  },
  {
   "cell_type": "code",
   "metadata": {
    "collapsed": false,
    "ExecuteTime": {
     "end_time": "2024-11-11T13:52:13.014217Z",
     "start_time": "2024-11-11T13:52:13.006088Z"
    }
   },
   "source": [
    "array3 = np.array([\"Alex\", \"Sara\", \"Annika\", \"Max\", \"Julian\"])\n",
    "array3 == \"Sara\""
   ],
   "outputs": [
    {
     "data": {
      "text/plain": [
       "array([False,  True, False, False, False])"
      ]
     },
     "execution_count": 3,
     "metadata": {},
     "output_type": "execute_result"
    }
   ],
   "execution_count": 3
  },
  {
   "cell_type": "markdown",
   "metadata": {
    "collapsed": false
   },
   "source": [
    "<div  class=\"alert alert-block alert-info\">\n",
    "8. Gegeben ist folgendes Array. Überprüfe, ob in dem Array der Name Hans vorkommt.\n",
    "\n",
    "    Output:\n",
    "    False\n",
    "</div>"
   ]
  },
  {
   "cell_type": "code",
   "metadata": {
    "collapsed": false,
    "ExecuteTime": {
     "end_time": "2024-11-11T13:57:15.820470Z",
     "start_time": "2024-11-11T13:57:15.814466Z"
    }
   },
   "source": [
    "array3 = np.array([\"Alex\", \"Sara\", \"Annika\", \"Max\", \"Julian\"])\n",
    "hans = \"Hans\" in array3\n",
    "hans"
   ],
   "outputs": [
    {
     "data": {
      "text/plain": [
       "False"
      ]
     },
     "execution_count": 7,
     "metadata": {},
     "output_type": "execute_result"
    }
   ],
   "execution_count": 7
  },
  {
   "cell_type": "markdown",
   "metadata": {
    "collapsed": false
   },
   "source": [
    "<div  class=\"alert alert-block alert-info\">\n",
    "9. Erstelle ein eindimensionales Array mit 8 Zahlen. Lass dir den maximalen Wert und die Summe der Zahlen im Array ausgeben.\n",
    "\n",
    "    Output:\n",
    "    67\n",
    "    206\n",
    "</div>"
   ]
  },
  {
   "cell_type": "code",
   "metadata": {
    "collapsed": false,
    "ExecuteTime": {
     "end_time": "2024-11-11T14:14:56.678572Z",
     "start_time": "2024-11-11T14:14:56.673803Z"
    }
   },
   "source": [
    "array4 = np.array([20, 23, 12, 34, 45, 67, 2, 3])\n",
    "print(array4.max())\n",
    "print(array4.sum())"
   ],
   "outputs": [
    {
     "name": "stdout",
     "output_type": "stream",
     "text": [
      "67\n",
      "206\n"
     ]
    }
   ],
   "execution_count": 27
  },
  {
   "cell_type": "markdown",
   "metadata": {
    "collapsed": false
   },
   "source": [
    "<div  class=\"alert alert-block alert-info\">\n",
    "10. Lass dir den Mittelwert des Arrays aus Aufgabe 9 ausgeben.\n",
    "\n",
    "    Output:\n",
    "    25.75\n",
    "</div>"
   ]
  },
  {
   "cell_type": "code",
   "metadata": {
    "collapsed": false,
    "ExecuteTime": {
     "end_time": "2024-11-11T14:14:59.571381Z",
     "start_time": "2024-11-11T14:14:59.565639Z"
    }
   },
   "source": "print(array4.mean())",
   "outputs": [
    {
     "name": "stdout",
     "output_type": "stream",
     "text": [
      "25.75\n"
     ]
    }
   ],
   "execution_count": 28
  },
  {
   "cell_type": "markdown",
   "metadata": {},
   "source": [
    "# Optional"
   ]
  },
  {
   "cell_type": "markdown",
   "metadata": {},
   "source": [
    "Fasse die Lerninhalte von heute nochmal zusammen und notiere dir Fragen, die dir dabei kommen!"
   ]
  }
 ],
 "metadata": {
  "kernelspec": {
   "display_name": "Python 3 (ipykernel)",
   "language": "python",
   "name": "python3"
  },
  "language_info": {
   "codemirror_mode": {
    "name": "ipython",
    "version": 3
   },
   "file_extension": ".py",
   "mimetype": "text/x-python",
   "name": "python",
   "nbconvert_exporter": "python",
   "pygments_lexer": "ipython3",
   "version": "3.9.13"
  }
 },
 "nbformat": 4,
 "nbformat_minor": 1
}
