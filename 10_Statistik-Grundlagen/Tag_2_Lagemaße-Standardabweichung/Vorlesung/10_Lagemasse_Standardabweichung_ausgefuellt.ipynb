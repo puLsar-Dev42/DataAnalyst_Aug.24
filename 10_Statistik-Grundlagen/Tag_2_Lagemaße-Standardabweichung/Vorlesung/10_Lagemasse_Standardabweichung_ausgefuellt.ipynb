{
 "cells": [
  {
   "cell_type": "code",
   "id": "initial_id",
   "metadata": {
    "collapsed": true,
    "ExecuteTime": {
     "end_time": "2025-02-05T09:45:15.646963Z",
     "start_time": "2025-02-05T09:45:13.116034Z"
    }
   },
   "source": [
    "import statistics\n",
    "import pandas as pd\n",
    "from collections import Counter\n",
    "from math import floor, ceil"
   ],
   "outputs": [],
   "execution_count": 1
  },
  {
   "metadata": {},
   "cell_type": "markdown",
   "source": [
    "### Mittelwert\n",
    "#### Der Mittelwert ist die Summe der Datenreihe geteilt durch die Anzahl der Werte.\n",
    "$$\n",
    "\\bar{x} = \\frac{1}{n} \\sum_{i=1}^{n} x_i\n",
    "$$\n",
    "\n",
    "Keine Angst vor solchen Gebilden! Die Formel sagt eigentlich nur, dass genau das getan wird: Summe bilden und diese \n",
    "Summe durch n teilen."
   ],
   "id": "9441b126f4595a8b"
  },
  {
   "metadata": {
    "ExecuteTime": {
     "end_time": "2025-02-05T09:45:21.360200Z",
     "start_time": "2025-02-05T09:45:21.356136Z"
    }
   },
   "cell_type": "code",
   "source": "data = [6, 1, 1, 5, 3, 1]",
   "id": "b23b72d253af256c",
   "outputs": [],
   "execution_count": 2
  },
  {
   "metadata": {
    "ExecuteTime": {
     "end_time": "2025-02-05T09:45:57.515630Z",
     "start_time": "2025-02-05T09:45:57.507351Z"
    }
   },
   "cell_type": "code",
   "source": [
    "# Mittelwert: Summe aller Werte einer Reihe geteilt durch die Anzahl der Werte:\n",
    "mean = sum(data) / len(data)\n",
    "mean"
   ],
   "id": "f5e6ea494bd72921",
   "outputs": [
    {
     "data": {
      "text/plain": [
       "2.8333333333333335"
      ]
     },
     "execution_count": 3,
     "metadata": {},
     "output_type": "execute_result"
    }
   ],
   "execution_count": 3
  },
  {
   "metadata": {
    "ExecuteTime": {
     "end_time": "2025-02-05T09:46:52.850900Z",
     "start_time": "2025-02-05T09:46:52.840660Z"
    }
   },
   "cell_type": "code",
   "source": [
    "# Natürlich auch in Pandas am Start:\n",
    "data_series = pd.Series(data, name='data')\n",
    "data_series"
   ],
   "id": "9a2bb03905fdc5ae",
   "outputs": [
    {
     "data": {
      "text/plain": [
       "0    6\n",
       "1    1\n",
       "2    1\n",
       "3    5\n",
       "4    3\n",
       "5    1\n",
       "Name: data, dtype: int64"
      ]
     },
     "execution_count": 4,
     "metadata": {},
     "output_type": "execute_result"
    }
   ],
   "execution_count": 4
  },
  {
   "metadata": {
    "ExecuteTime": {
     "end_time": "2025-02-05T09:47:20.777931Z",
     "start_time": "2025-02-05T09:47:20.754026Z"
    }
   },
   "cell_type": "code",
   "source": [
    "# Series und Dataframe haben die mean-Methode: \n",
    "data_series.mean()"
   ],
   "id": "f03fccf2629226e6",
   "outputs": [
    {
     "data": {
      "text/plain": [
       "np.float64(2.8333333333333335)"
      ]
     },
     "execution_count": 5,
     "metadata": {},
     "output_type": "execute_result"
    }
   ],
   "execution_count": 5
  },
  {
   "metadata": {
    "ExecuteTime": {
     "end_time": "2025-02-05T09:50:41.255530Z",
     "start_time": "2025-02-05T09:50:41.251547Z"
    }
   },
   "cell_type": "code",
   "source": [
    "def calculate_mean(data: list) -> float:\n",
    "    return sum(data) / len(data)"
   ],
   "id": "f06571a700726f72",
   "outputs": [],
   "execution_count": 7
  },
  {
   "metadata": {
    "ExecuteTime": {
     "end_time": "2025-02-05T09:50:44.578045Z",
     "start_time": "2025-02-05T09:50:44.574699Z"
    }
   },
   "cell_type": "code",
   "source": [
    "# Bsp. 1: Unterschiedliche Datenreihen – gleicher Mittelwert:\n",
    "x = [-3, -2, -1, 0, 1, 2, 3]\n",
    "y = [-100, -100, 100, 100]\n",
    "z = [-300, 10, 20, 30, 40, 200]"
   ],
   "id": "7abeff5a2cc90b7f",
   "outputs": [],
   "execution_count": 8
  },
  {
   "metadata": {
    "ExecuteTime": {
     "end_time": "2025-02-05T09:51:07.981965Z",
     "start_time": "2025-02-05T09:51:07.977060Z"
    }
   },
   "cell_type": "code",
   "source": "calculate_mean(x)",
   "id": "43cbc0d065bd9ee2",
   "outputs": [
    {
     "data": {
      "text/plain": [
       "0.0"
      ]
     },
     "execution_count": 9,
     "metadata": {},
     "output_type": "execute_result"
    }
   ],
   "execution_count": 9
  },
  {
   "metadata": {
    "ExecuteTime": {
     "end_time": "2025-02-05T09:51:20.230674Z",
     "start_time": "2025-02-05T09:51:20.224094Z"
    }
   },
   "cell_type": "code",
   "source": "calculate_mean(y)",
   "id": "ba76ce80b30193be",
   "outputs": [
    {
     "data": {
      "text/plain": [
       "0.0"
      ]
     },
     "execution_count": 10,
     "metadata": {},
     "output_type": "execute_result"
    }
   ],
   "execution_count": 10
  },
  {
   "metadata": {
    "ExecuteTime": {
     "end_time": "2025-02-05T09:51:25.447141Z",
     "start_time": "2025-02-05T09:51:25.442231Z"
    }
   },
   "cell_type": "code",
   "source": "calculate_mean(z)",
   "id": "d00b65d96da20b1b",
   "outputs": [
    {
     "data": {
      "text/plain": [
       "0.0"
      ]
     },
     "execution_count": 11,
     "metadata": {},
     "output_type": "execute_result"
    }
   ],
   "execution_count": 11
  },
  {
   "metadata": {},
   "cell_type": "markdown",
   "source": [
    "### Modus\n",
    "Der Modus bezeichnet das am häufigsten vorkommende Element in einer Datenreihe"
   ],
   "id": "1a234c86ae74fd4b"
  },
  {
   "metadata": {
    "ExecuteTime": {
     "end_time": "2025-02-05T09:58:38.972067Z",
     "start_time": "2025-02-05T09:58:38.968498Z"
    }
   },
   "cell_type": "code",
   "source": "data = [6, 1, 1, 5, 3, 1, 5]",
   "id": "db86fd5a794b6e23",
   "outputs": [],
   "execution_count": 16
  },
  {
   "metadata": {},
   "cell_type": "code",
   "outputs": [],
   "execution_count": null,
   "source": "# Bonusaufgabe: Löse Nachfolgendes OHNE Counter!",
   "id": "ee26e80b199b53cc"
  },
  {
   "metadata": {
    "ExecuteTime": {
     "end_time": "2025-02-05T09:58:40.192063Z",
     "start_time": "2025-02-05T09:58:40.188595Z"
    }
   },
   "cell_type": "code",
   "source": [
    "num_counter = Counter(data)\n",
    "num_counter"
   ],
   "id": "176e94a4ee2a2f70",
   "outputs": [
    {
     "data": {
      "text/plain": [
       "Counter({1: 3, 5: 2, 6: 1, 3: 1})"
      ]
     },
     "execution_count": 17,
     "metadata": {},
     "output_type": "execute_result"
    }
   ],
   "execution_count": 17
  },
  {
   "metadata": {
    "ExecuteTime": {
     "end_time": "2025-02-05T10:00:13.573138Z",
     "start_time": "2025-02-05T10:00:13.568142Z"
    }
   },
   "cell_type": "code",
   "source": [
    "modus = num_counter.most_common()[0]\n",
    "modus"
   ],
   "id": "275a3131c12f71bb",
   "outputs": [
    {
     "data": {
      "text/plain": [
       "(1, 3)"
      ]
     },
     "execution_count": 20,
     "metadata": {},
     "output_type": "execute_result"
    }
   ],
   "execution_count": 20
  },
  {
   "metadata": {
    "ExecuteTime": {
     "end_time": "2025-02-05T10:02:15.250111Z",
     "start_time": "2025-02-05T10:02:15.246427Z"
    }
   },
   "cell_type": "code",
   "source": "value, count = modus",
   "id": "7a23bdeadac9d929",
   "outputs": [],
   "execution_count": 21
  },
  {
   "metadata": {
    "ExecuteTime": {
     "end_time": "2025-02-05T10:03:16.366605Z",
     "start_time": "2025-02-05T10:03:16.362282Z"
    }
   },
   "cell_type": "code",
   "source": "print(f'Der Modus ist die Zahl {value} und kommt {count} Mal vor.')",
   "id": "30df375bfa661139",
   "outputs": [
    {
     "name": "stdout",
     "output_type": "stream",
     "text": [
      "Der Modus ist die Zahl 1 und kommt 3 Mal vor.\n"
     ]
    }
   ],
   "execution_count": 23
  },
  {
   "metadata": {
    "ExecuteTime": {
     "end_time": "2025-02-05T10:05:46.339335Z",
     "start_time": "2025-02-05T10:05:46.334868Z"
    }
   },
   "cell_type": "code",
   "source": [
    "# Funktion, die den Modus einer Datenreihe ermittelt:\n",
    "def determine_mode(data_list: list) -> tuple:\n",
    "    counter = Counter(data_list)\n",
    "    most_common = counter.most_common()[0]\n",
    "    return most_common"
   ],
   "id": "5f2a1f044ea0d92c",
   "outputs": [],
   "execution_count": 24
  },
  {
   "metadata": {
    "ExecuteTime": {
     "end_time": "2025-02-05T10:06:23.677393Z",
     "start_time": "2025-02-05T10:06:23.673690Z"
    }
   },
   "cell_type": "code",
   "source": [
    "# Test:\n",
    "new_data = [1, 5, 3, 7, 4, 3, 3, 3, 3]"
   ],
   "id": "4c40e348a7e8a1d",
   "outputs": [],
   "execution_count": 26
  },
  {
   "metadata": {
    "ExecuteTime": {
     "end_time": "2025-02-05T10:06:25.142975Z",
     "start_time": "2025-02-05T10:06:25.137030Z"
    }
   },
   "cell_type": "code",
   "source": "determine_mode(new_data)",
   "id": "aa11df3c42be7267",
   "outputs": [
    {
     "data": {
      "text/plain": [
       "(3, 5)"
      ]
     },
     "execution_count": 27,
     "metadata": {},
     "output_type": "execute_result"
    }
   ],
   "execution_count": 27
  },
  {
   "metadata": {
    "ExecuteTime": {
     "end_time": "2025-02-05T10:06:58.751915Z",
     "start_time": "2025-02-05T10:06:58.747438Z"
    }
   },
   "cell_type": "code",
   "source": [
    "# Modus ist nicht nur bei numerischen Daten sinnvoll:\n",
    "names_list = ['Anna', 'Hendrik', 'Thomas', 'Julia', 'Anna', 'Hannah', \n",
    "              'Matthias', 'Alexa', 'Anna', 'Julia']"
   ],
   "id": "912e78e427126c44",
   "outputs": [],
   "execution_count": 28
  },
  {
   "metadata": {
    "ExecuteTime": {
     "end_time": "2025-02-05T10:07:28.062044Z",
     "start_time": "2025-02-05T10:07:28.056461Z"
    }
   },
   "cell_type": "code",
   "source": "determine_mode(names_list)",
   "id": "21a31175961bd467",
   "outputs": [
    {
     "data": {
      "text/plain": [
       "('Anna', 3)"
      ]
     },
     "execution_count": 29,
     "metadata": {},
     "output_type": "execute_result"
    }
   ],
   "execution_count": 29
  },
  {
   "metadata": {
    "ExecuteTime": {
     "end_time": "2025-02-05T10:08:17.230884Z",
     "start_time": "2025-02-05T10:08:17.225985Z"
    }
   },
   "cell_type": "code",
   "source": [
    "# Oder einfach Modus aus statistics benutzen:\n",
    "statistics.mode(data)"
   ],
   "id": "ad6255885378b9e7",
   "outputs": [
    {
     "data": {
      "text/plain": [
       "1"
      ]
     },
     "execution_count": 30,
     "metadata": {},
     "output_type": "execute_result"
    }
   ],
   "execution_count": 30
  },
  {
   "metadata": {
    "ExecuteTime": {
     "end_time": "2025-02-05T10:08:42.819497Z",
     "start_time": "2025-02-05T10:08:42.813664Z"
    }
   },
   "cell_type": "code",
   "source": "statistics.mode(new_data)",
   "id": "c46edd336d21c1ce",
   "outputs": [
    {
     "data": {
      "text/plain": [
       "3"
      ]
     },
     "execution_count": 31,
     "metadata": {},
     "output_type": "execute_result"
    }
   ],
   "execution_count": 31
  },
  {
   "metadata": {
    "ExecuteTime": {
     "end_time": "2025-02-05T10:10:03.173053Z",
     "start_time": "2025-02-05T10:10:03.168001Z"
    }
   },
   "cell_type": "code",
   "source": [
    "most_common_name = statistics.mode(names_list)\n",
    "most_common_name"
   ],
   "id": "b4ce35e5c4a0d52f",
   "outputs": [
    {
     "data": {
      "text/plain": [
       "'Anna'"
      ]
     },
     "execution_count": 33,
     "metadata": {},
     "output_type": "execute_result"
    }
   ],
   "execution_count": 33
  },
  {
   "metadata": {
    "ExecuteTime": {
     "end_time": "2025-02-05T10:10:20.511662Z",
     "start_time": "2025-02-05T10:10:20.506365Z"
    }
   },
   "cell_type": "code",
   "source": "type(most_common_name)",
   "id": "b8405aa4e6bce5eb",
   "outputs": [
    {
     "data": {
      "text/plain": [
       "str"
      ]
     },
     "execution_count": 34,
     "metadata": {},
     "output_type": "execute_result"
    }
   ],
   "execution_count": 34
  },
  {
   "metadata": {
    "ExecuteTime": {
     "end_time": "2025-02-05T10:13:10.220674Z",
     "start_time": "2025-02-05T10:13:10.214747Z"
    }
   },
   "cell_type": "code",
   "source": [
    "# Auch in Pandas am Start:\n",
    "data_series = pd.Series(data, name='data')\n",
    "data_series"
   ],
   "id": "891b62f067d7db1a",
   "outputs": [
    {
     "data": {
      "text/plain": [
       "0    6\n",
       "1    1\n",
       "2    1\n",
       "3    5\n",
       "4    3\n",
       "5    1\n",
       "6    5\n",
       "Name: data, dtype: int64"
      ]
     },
     "execution_count": 35,
     "metadata": {},
     "output_type": "execute_result"
    }
   ],
   "execution_count": 35
  },
  {
   "metadata": {
    "ExecuteTime": {
     "end_time": "2025-02-05T10:13:20.949929Z",
     "start_time": "2025-02-05T10:13:20.942234Z"
    }
   },
   "cell_type": "code",
   "source": "data_series.mode()",
   "id": "c4be0b728d0bb7df",
   "outputs": [
    {
     "data": {
      "text/plain": [
       "0    1\n",
       "Name: data, dtype: int64"
      ]
     },
     "execution_count": 36,
     "metadata": {},
     "output_type": "execute_result"
    }
   ],
   "execution_count": 36
  },
  {
   "metadata": {
    "ExecuteTime": {
     "end_time": "2025-02-05T10:14:40.877563Z",
     "start_time": "2025-02-05T10:14:40.874193Z"
    }
   },
   "cell_type": "code",
   "source": [
    "# Was passiert, wenn es ZWEI (oder mehr Werte) gibt, die am häufigsten vorkommen?\n",
    "bimodal_data = [1, 2, 2, 2, 3, 4, 4, 4, 5, 6]"
   ],
   "id": "5dc83067f93b2962",
   "outputs": [],
   "execution_count": 37
  },
  {
   "metadata": {
    "ExecuteTime": {
     "end_time": "2025-02-05T10:19:57.723766Z",
     "start_time": "2025-02-05T10:19:57.717897Z"
    }
   },
   "cell_type": "code",
   "source": [
    "# Mathias' Lösung mit Multimode anhand von Doku:\n",
    "statistics.multimode(bimodal_data)"
   ],
   "id": "4823a80b75a56bd9",
   "outputs": [
    {
     "data": {
      "text/plain": [
       "[2, 4]"
      ]
     },
     "execution_count": 39,
     "metadata": {},
     "output_type": "execute_result"
    }
   ],
   "execution_count": 39
  },
  {
   "metadata": {
    "ExecuteTime": {
     "end_time": "2025-02-05T10:20:30.548176Z",
     "start_time": "2025-02-05T10:20:30.543065Z"
    }
   },
   "cell_type": "code",
   "source": [
    "# Unsere Funktion ist auf diesen Fall nicht vorbereitet und müsste überarbeitet werden!\n",
    "determine_mode(bimodal_data)\n",
    "# Bonusaufgabe: Funktion so erweitern, dass sie mit einer beliebigen Anzahl von Modi zurechtkommt."
   ],
   "id": "73ec33c89b2fd794",
   "outputs": [
    {
     "data": {
      "text/plain": [
       "(2, 3)"
      ]
     },
     "execution_count": 40,
     "metadata": {},
     "output_type": "execute_result"
    }
   ],
   "execution_count": 40
  },
  {
   "metadata": {
    "ExecuteTime": {
     "end_time": "2025-02-05T10:23:06.344276Z",
     "start_time": "2025-02-05T10:23:06.337403Z"
    }
   },
   "cell_type": "code",
   "source": [
    "# Mode gibt nur den \"ersten Modus\" zurück:\n",
    "statistics.mode(bimodal_data)"
   ],
   "id": "a1309dbd8c473734",
   "outputs": [
    {
     "data": {
      "text/plain": [
       "2"
      ]
     },
     "execution_count": 41,
     "metadata": {},
     "output_type": "execute_result"
    }
   ],
   "execution_count": 41
  },
  {
   "metadata": {
    "ExecuteTime": {
     "end_time": "2025-02-05T10:24:03.199038Z",
     "start_time": "2025-02-05T10:24:03.191717Z"
    }
   },
   "cell_type": "code",
   "source": [
    "# Auch Pandas ist intelligent genug für solche Verteilungen:\n",
    "b_data_series = pd.Series(bimodal_data, name='b_data')\n",
    "b_data_series"
   ],
   "id": "e5412fede0bdec72",
   "outputs": [
    {
     "data": {
      "text/plain": [
       "0    1\n",
       "1    2\n",
       "2    2\n",
       "3    2\n",
       "4    3\n",
       "5    4\n",
       "6    4\n",
       "7    4\n",
       "8    5\n",
       "9    6\n",
       "Name: b_data, dtype: int64"
      ]
     },
     "execution_count": 42,
     "metadata": {},
     "output_type": "execute_result"
    }
   ],
   "execution_count": 42
  },
  {
   "metadata": {
    "ExecuteTime": {
     "end_time": "2025-02-05T10:24:29.896724Z",
     "start_time": "2025-02-05T10:24:29.887312Z"
    }
   },
   "cell_type": "code",
   "source": "b_data_series.mode()",
   "id": "17138e4c384f1891",
   "outputs": [
    {
     "data": {
      "text/plain": [
       "0    2\n",
       "1    4\n",
       "Name: b_data, dtype: int64"
      ]
     },
     "execution_count": 43,
     "metadata": {},
     "output_type": "execute_result"
    }
   ],
   "execution_count": 43
  },
  {
   "metadata": {},
   "cell_type": "markdown",
   "source": [
    "### Median\n",
    "Der Median ist das Element, das eine nach Größe <b>geordnete</b> Datenreihe in \n",
    "genau zwei gleiche Teile teilt. \n",
    "Findet sich ein solches Element nicht, dann bildet man meistens den Mittelwert der zwei Elemente in der Mitte der Datenreihe. "
   ],
   "id": "525414f66d361968"
  },
  {
   "metadata": {
    "ExecuteTime": {
     "end_time": "2025-02-05T10:25:51.508203Z",
     "start_time": "2025-02-05T10:25:51.503802Z"
    }
   },
   "cell_type": "code",
   "source": [
    "# Datenreihe mit ungerader Anzahl Elemente:\n",
    "uneven = [6, 1, 1, 5, 3, 1, 2]"
   ],
   "id": "f6ca61adcab56a31",
   "outputs": [],
   "execution_count": 44
  },
  {
   "metadata": {
    "ExecuteTime": {
     "end_time": "2025-02-05T10:26:32.632073Z",
     "start_time": "2025-02-05T10:26:32.625662Z"
    }
   },
   "cell_type": "code",
   "source": [
    "# Erstmal sortieren\n",
    "sorted_uneven = sorted(uneven)\n",
    "sorted_uneven"
   ],
   "id": "a870dac838c2d271",
   "outputs": [
    {
     "data": {
      "text/plain": [
       "[1, 1, 1, 2, 3, 5, 6]"
      ]
     },
     "execution_count": 45,
     "metadata": {},
     "output_type": "execute_result"
    }
   ],
   "execution_count": 45
  },
  {
   "metadata": {
    "ExecuteTime": {
     "end_time": "2025-02-05T10:26:44.148887Z",
     "start_time": "2025-02-05T10:26:44.142839Z"
    }
   },
   "cell_type": "code",
   "source": "len(sorted_uneven)",
   "id": "23804c702b529157",
   "outputs": [
    {
     "data": {
      "text/plain": [
       "7"
      ]
     },
     "execution_count": 46,
     "metadata": {},
     "output_type": "execute_result"
    }
   ],
   "execution_count": 46
  },
  {
   "metadata": {
    "ExecuteTime": {
     "end_time": "2025-02-05T10:29:24.584405Z",
     "start_time": "2025-02-05T10:29:24.578435Z"
    }
   },
   "cell_type": "code",
   "source": [
    "middle_index = int((len(sorted_uneven) - 1) / 2)\n",
    "middle_index"
   ],
   "id": "fa8d42d731c41a7d",
   "outputs": [
    {
     "data": {
      "text/plain": [
       "3"
      ]
     },
     "execution_count": 49,
     "metadata": {},
     "output_type": "execute_result"
    }
   ],
   "execution_count": 49
  },
  {
   "metadata": {
    "ExecuteTime": {
     "end_time": "2025-02-05T10:29:51.890294Z",
     "start_time": "2025-02-05T10:29:51.884930Z"
    }
   },
   "cell_type": "code",
   "source": [
    "# Unser Median:\n",
    "median_uneven = sorted_uneven[middle_index]\n",
    "median_uneven"
   ],
   "id": "78d2e8f2506738a",
   "outputs": [
    {
     "data": {
      "text/plain": [
       "2"
      ]
     },
     "execution_count": 51,
     "metadata": {},
     "output_type": "execute_result"
    }
   ],
   "execution_count": 51
  },
  {
   "metadata": {
    "ExecuteTime": {
     "end_time": "2025-02-05T10:30:41.354406Z",
     "start_time": "2025-02-05T10:30:41.349945Z"
    }
   },
   "cell_type": "code",
   "source": [
    "# Datenreihe mit gerader Anzahl Elemente:\n",
    "even = [6, 1, 1, 5, 3, 1]"
   ],
   "id": "3f02d778eb48f483",
   "outputs": [],
   "execution_count": 52
  },
  {
   "metadata": {
    "ExecuteTime": {
     "end_time": "2025-02-05T10:31:15.395044Z",
     "start_time": "2025-02-05T10:31:15.389863Z"
    }
   },
   "cell_type": "code",
   "source": [
    "sorted_even = sorted(even)\n",
    "sorted_even"
   ],
   "id": "ee1072171e333895",
   "outputs": [
    {
     "data": {
      "text/plain": [
       "[1, 1, 1, 3, 5, 6]"
      ]
     },
     "execution_count": 53,
     "metadata": {},
     "output_type": "execute_result"
    }
   ],
   "execution_count": 53
  },
  {
   "metadata": {
    "ExecuteTime": {
     "end_time": "2025-02-05T10:32:06.411878Z",
     "start_time": "2025-02-05T10:32:06.406561Z"
    }
   },
   "cell_type": "code",
   "source": "len(sorted_even)",
   "id": "9c878a6644586c7d",
   "outputs": [
    {
     "data": {
      "text/plain": [
       "6"
      ]
     },
     "execution_count": 54,
     "metadata": {},
     "output_type": "execute_result"
    }
   ],
   "execution_count": 54
  },
  {
   "metadata": {
    "ExecuteTime": {
     "end_time": "2025-02-05T10:33:04.146110Z",
     "start_time": "2025-02-05T10:33:04.140861Z"
    }
   },
   "cell_type": "code",
   "source": [
    "middle_position = (len(sorted_even) - 1) / 2\n",
    "middle_position"
   ],
   "id": "58d4232cc0492d79",
   "outputs": [
    {
     "data": {
      "text/plain": [
       "2.5"
      ]
     },
     "execution_count": 55,
     "metadata": {},
     "output_type": "execute_result"
    }
   ],
   "execution_count": 55
  },
  {
   "metadata": {},
   "cell_type": "code",
   "source": [
    "# Mit floor und ceil aus dem Modul math kann man von einem Wert aus abrunden (floor, Boden)\n",
    "# oder aufrunden (ceil, Decke) und zwar unabhängig davon, ob der Wert eigentlich mathematisch \n",
    "# auf- oder abgerundet werden muss."
   ],
   "id": "4275c5c159a691c0",
   "outputs": [],
   "execution_count": null
  },
  {
   "metadata": {
    "ExecuteTime": {
     "end_time": "2025-02-05T10:35:52.027664Z",
     "start_time": "2025-02-05T10:35:52.021377Z"
    }
   },
   "cell_type": "code",
   "source": [
    "untermedian_index = floor(middle_position)\n",
    "untermedian_index"
   ],
   "id": "d428ceda746542c9",
   "outputs": [
    {
     "data": {
      "text/plain": [
       "2"
      ]
     },
     "execution_count": 61,
     "metadata": {},
     "output_type": "execute_result"
    }
   ],
   "execution_count": 61
  },
  {
   "metadata": {
    "ExecuteTime": {
     "end_time": "2025-02-05T10:35:52.873461Z",
     "start_time": "2025-02-05T10:35:52.867354Z"
    }
   },
   "cell_type": "code",
   "source": [
    "obermedian_index = ceil(middle_position)\n",
    "obermedian_index"
   ],
   "id": "7abb5790b6876804",
   "outputs": [
    {
     "data": {
      "text/plain": [
       "3"
      ]
     },
     "execution_count": 62,
     "metadata": {},
     "output_type": "execute_result"
    }
   ],
   "execution_count": 62
  },
  {
   "metadata": {
    "ExecuteTime": {
     "end_time": "2025-02-05T10:37:43.943799Z",
     "start_time": "2025-02-05T10:37:43.938659Z"
    }
   },
   "cell_type": "code",
   "source": [
    "median_even = (sorted_even[untermedian_index] + sorted_even[obermedian_index]) / 2\n",
    "median_even"
   ],
   "id": "12fe55c26a39380d",
   "outputs": [
    {
     "data": {
      "text/plain": [
       "2.0"
      ]
     },
     "execution_count": 66,
     "metadata": {},
     "output_type": "execute_result"
    }
   ],
   "execution_count": 66
  },
  {
   "metadata": {
    "ExecuteTime": {
     "end_time": "2025-02-05T10:38:58.564973Z",
     "start_time": "2025-02-05T10:38:58.559119Z"
    }
   },
   "cell_type": "code",
   "source": [
    "# \"Test\":\n",
    "(1 + 3) / 2"
   ],
   "id": "29974309c5b226d",
   "outputs": [
    {
     "data": {
      "text/plain": [
       "2.0"
      ]
     },
     "execution_count": 67,
     "metadata": {},
     "output_type": "execute_result"
    }
   ],
   "execution_count": 67
  },
  {
   "metadata": {
    "ExecuteTime": {
     "end_time": "2025-02-05T10:39:32.931892Z",
     "start_time": "2025-02-05T10:39:32.926415Z"
    }
   },
   "cell_type": "code",
   "source": [
    "# Wir können die Datenreihe natürlich auch dem median aus statistics übergeben:\n",
    "statistics.median(even)"
   ],
   "id": "2a578c8bd32e3e92",
   "outputs": [
    {
     "data": {
      "text/plain": [
       "2.0"
      ]
     },
     "execution_count": 68,
     "metadata": {},
     "output_type": "execute_result"
    }
   ],
   "execution_count": 68
  },
  {
   "metadata": {
    "ExecuteTime": {
     "end_time": "2025-02-05T10:39:42.053557Z",
     "start_time": "2025-02-05T10:39:42.047242Z"
    }
   },
   "cell_type": "code",
   "source": "statistics.median(uneven)",
   "id": "973bed4d8f1eb0ad",
   "outputs": [
    {
     "data": {
      "text/plain": [
       "2"
      ]
     },
     "execution_count": 69,
     "metadata": {},
     "output_type": "execute_result"
    }
   ],
   "execution_count": 69
  },
  {
   "metadata": {
    "ExecuteTime": {
     "end_time": "2025-02-05T10:41:26.370235Z",
     "start_time": "2025-02-05T10:41:26.366401Z"
    }
   },
   "cell_type": "code",
   "source": [
    "# Es gibt auch Folgendes:\n",
    "print('Untermedian:', statistics.median_low(even))\n",
    "print('Obermedian:', statistics.median_high(even))"
   ],
   "id": "e10ed1e9c5a6036a",
   "outputs": [
    {
     "name": "stdout",
     "output_type": "stream",
     "text": [
      "Untermedian: 1\n",
      "Obermedian: 3\n"
     ]
    }
   ],
   "execution_count": 72
  },
  {
   "metadata": {},
   "cell_type": "markdown",
   "source": [
    "### Quantile\n",
    "Quantile erweitern die Idee des Medians. Hier gibt es nicht nur einen Wert, der die <b>geordnete</b> Datenreihe in zwei Teile teilt, sondern so viele Werte, die die Daten teilen, wie das Quantil es vorgibt. Bei Quartilen z.B. werden die Daten von drei Werten in vier Teile unterteilt. Bei Dezentilen sind es 9 Werte, die die Datene in insgesamt 10 Teile teilen."
   ],
   "id": "d5afd6f8776a99be"
  },
  {
   "metadata": {
    "ExecuteTime": {
     "end_time": "2025-02-05T10:46:39.603956Z",
     "start_time": "2025-02-05T10:46:39.598270Z"
    }
   },
   "cell_type": "code",
   "source": "x",
   "id": "be0e66b3e093cc4f",
   "outputs": [
    {
     "data": {
      "text/plain": [
       "[-3, -2, -1, 0, 1, 2, 3]"
      ]
     },
     "execution_count": 73,
     "metadata": {},
     "output_type": "execute_result"
    }
   ],
   "execution_count": 73
  },
  {
   "metadata": {
    "ExecuteTime": {
     "end_time": "2025-02-05T10:47:33.860929Z",
     "start_time": "2025-02-05T10:47:33.854895Z"
    }
   },
   "cell_type": "code",
   "source": [
    "# In zwei Teile gibt einfach den Median:\n",
    "statistics.quantiles(x, n=2)"
   ],
   "id": "664d16cf253d24ca",
   "outputs": [
    {
     "data": {
      "text/plain": [
       "[0.0]"
      ]
     },
     "execution_count": 74,
     "metadata": {},
     "output_type": "execute_result"
    }
   ],
   "execution_count": 74
  },
  {
   "metadata": {
    "ExecuteTime": {
     "end_time": "2025-02-05T10:48:12.577757Z",
     "start_time": "2025-02-05T10:48:12.573174Z"
    }
   },
   "cell_type": "code",
   "source": [
    "# Diese Werte teilen die Daten in vier Teile ein:\n",
    "statistics.quantiles(x, n=4)"
   ],
   "id": "647fcc26c7da505c",
   "outputs": [
    {
     "data": {
      "text/plain": [
       "[-2.0, 0.0, 2.0]"
      ]
     },
     "execution_count": 75,
     "metadata": {},
     "output_type": "execute_result"
    }
   ],
   "execution_count": 75
  },
  {
   "metadata": {},
   "cell_type": "markdown",
   "source": [
    "### Standardabweichung\n",
    "Stellt ein Maß dar, das beschreibt, wie stark Daten um einen Mittelwert herum streuen."
   ],
   "id": "a69cba8453af43eb"
  },
  {
   "metadata": {
    "ExecuteTime": {
     "end_time": "2025-02-05T10:50:36.321697Z",
     "start_time": "2025-02-05T10:50:36.317384Z"
    }
   },
   "cell_type": "code",
   "source": [
    "data1 = [49, 50, 52, 56, 43, 50]\n",
    "data2 = [1, 50, 20, 80, 99, 50]"
   ],
   "id": "616454774480939b",
   "outputs": [],
   "execution_count": 77
  },
  {
   "metadata": {
    "ExecuteTime": {
     "end_time": "2025-02-05T10:50:44.243631Z",
     "start_time": "2025-02-05T10:50:44.238812Z"
    }
   },
   "cell_type": "code",
   "source": "calculate_mean(data1)",
   "id": "5b92aafeb2307706",
   "outputs": [
    {
     "data": {
      "text/plain": [
       "50.0"
      ]
     },
     "execution_count": 78,
     "metadata": {},
     "output_type": "execute_result"
    }
   ],
   "execution_count": 78
  },
  {
   "metadata": {
    "ExecuteTime": {
     "end_time": "2025-02-05T10:50:50.162161Z",
     "start_time": "2025-02-05T10:50:50.156247Z"
    }
   },
   "cell_type": "code",
   "source": "calculate_mean(data2)",
   "id": "516cabb51021046f",
   "outputs": [
    {
     "data": {
      "text/plain": [
       "50.0"
      ]
     },
     "execution_count": 79,
     "metadata": {},
     "output_type": "execute_result"
    }
   ],
   "execution_count": 79
  },
  {
   "metadata": {},
   "cell_type": "code",
   "source": [
    "# Beide Datenreihen haben denselben Mittelwert, aber die Werte von data1 liegen\n",
    "# deutlich enger um diesen Mittelwert verteilt vor. data2 dagegen ist viel verstreuter\n",
    "# Das Maß der Standardabweichung gibt uns an, wie stark die Streuung von Daten ist!"
   ],
   "id": "225a22e60b1f9491",
   "outputs": [],
   "execution_count": null
  },
  {
   "metadata": {
    "ExecuteTime": {
     "end_time": "2025-02-05T10:53:07.224393Z",
     "start_time": "2025-02-05T10:53:07.217451Z"
    }
   },
   "cell_type": "code",
   "source": [
    "data3 = [1, 1, 1, 99, 99, 99]\n",
    "calculate_mean(data3)"
   ],
   "id": "f853c6bfdc6ed212",
   "outputs": [
    {
     "data": {
      "text/plain": [
       "50.0"
      ]
     },
     "execution_count": 81,
     "metadata": {},
     "output_type": "execute_result"
    }
   ],
   "execution_count": 81
  },
  {
   "metadata": {
    "ExecuteTime": {
     "end_time": "2025-02-05T10:53:14.333155Z",
     "start_time": "2025-02-05T10:53:14.328391Z"
    }
   },
   "cell_type": "code",
   "source": [
    "data4 = [50, 50, 50, 50, 50, 50]\n",
    "calculate_mean(data4)"
   ],
   "id": "141a661b44f0730f",
   "outputs": [
    {
     "data": {
      "text/plain": [
       "50.0"
      ]
     },
     "execution_count": 82,
     "metadata": {},
     "output_type": "execute_result"
    }
   ],
   "execution_count": 82
  },
  {
   "metadata": {},
   "cell_type": "code",
   "outputs": [],
   "execution_count": null,
   "source": [
    "# Je höher die Standardabweichung, desto stärker streuen die Daten.\n",
    "# Eine Standardabweichung von 0 dagegen bedeutet, dass die Daten überhaupt nicht\n",
    "# streuen, sondern alle auf dem Mittelwert liegen."
   ],
   "id": "26526da5c0674f31"
  },
  {
   "metadata": {
    "ExecuteTime": {
     "end_time": "2025-02-05T10:52:40.772341Z",
     "start_time": "2025-02-05T10:52:40.764971Z"
    }
   },
   "cell_type": "code",
   "source": "statistics.stdev(data1)  # standard deviation = Standardabweichung",
   "id": "71ddb27edcbae847",
   "outputs": [
    {
     "data": {
      "text/plain": [
       "4.242640687119285"
      ]
     },
     "execution_count": 80,
     "metadata": {},
     "output_type": "execute_result"
    }
   ],
   "execution_count": 80
  },
  {
   "metadata": {
    "ExecuteTime": {
     "end_time": "2025-02-05T10:55:02.698968Z",
     "start_time": "2025-02-05T10:55:02.692487Z"
    }
   },
   "cell_type": "code",
   "source": "statistics.stdev(data2)",
   "id": "d4b3f196ffc1d9d8",
   "outputs": [
    {
     "data": {
      "text/plain": [
       "36.33730865102698"
      ]
     },
     "execution_count": 83,
     "metadata": {},
     "output_type": "execute_result"
    }
   ],
   "execution_count": 83
  },
  {
   "metadata": {
    "ExecuteTime": {
     "end_time": "2025-02-05T10:56:09.567055Z",
     "start_time": "2025-02-05T10:56:09.561589Z"
    }
   },
   "cell_type": "code",
   "source": "statistics.stdev(data3)",
   "id": "44879a85d51ba638",
   "outputs": [
    {
     "data": {
      "text/plain": [
       "53.67681063550628"
      ]
     },
     "execution_count": 84,
     "metadata": {},
     "output_type": "execute_result"
    }
   ],
   "execution_count": 84
  },
  {
   "metadata": {
    "ExecuteTime": {
     "end_time": "2025-02-05T10:56:49.230308Z",
     "start_time": "2025-02-05T10:56:49.224218Z"
    }
   },
   "cell_type": "code",
   "source": [
    "# Hier kommt die prophezeite 0 heraus:\n",
    "statistics.stdev(data4)"
   ],
   "id": "f6b3a50d2f95e460",
   "outputs": [
    {
     "data": {
      "text/plain": [
       "0.0"
      ]
     },
     "execution_count": 85,
     "metadata": {},
     "output_type": "execute_result"
    }
   ],
   "execution_count": 85
  },
  {
   "metadata": {},
   "cell_type": "code",
   "outputs": [],
   "execution_count": null,
   "source": [
    "# Kleines Gedankenspiel:\n",
    "# Der Mittelwert von Körpergrößen beträgt 178\n",
    "# Unsere errechnete Standardabweichung beträgt 10\n",
    "# In welchem Größenbereich bewegen sich 68% der Menschen?\n",
    "# Zwischen 168 und 188 (Mittelwert - 1 Standardabweichung und Mittelwert + 1 Standardabweichung)"
   ],
   "id": "8c7c3d9ba1aaf2e0"
  },
  {
   "metadata": {
    "ExecuteTime": {
     "end_time": "2025-02-05T11:01:58.226335Z",
     "start_time": "2025-02-05T11:01:58.216974Z"
    }
   },
   "cell_type": "code",
   "source": [
    "# Natürlich auch bei Pandas an Bord:\n",
    "data3_ser = pd.Series(data3, name='data3')\n",
    "data3_ser.std()"
   ],
   "id": "db9c5b4feaf82d32",
   "outputs": [
    {
     "data": {
      "text/plain": [
       "np.float64(53.67681063550628)"
      ]
     },
     "execution_count": 86,
     "metadata": {},
     "output_type": "execute_result"
    }
   ],
   "execution_count": 86
  },
  {
   "metadata": {
    "ExecuteTime": {
     "end_time": "2025-02-05T11:02:41.825946Z",
     "start_time": "2025-02-05T11:02:41.820275Z"
    }
   },
   "cell_type": "code",
   "source": [
    "data4_ser = pd.Series(data4, name='data4')\n",
    "data4_ser.std()"
   ],
   "id": "344a9c36f5ef7b3a",
   "outputs": [
    {
     "data": {
      "text/plain": [
       "np.float64(0.0)"
      ]
     },
     "execution_count": 87,
     "metadata": {},
     "output_type": "execute_result"
    }
   ],
   "execution_count": 87
  },
  {
   "metadata": {
    "ExecuteTime": {
     "end_time": "2025-02-05T11:04:13.638957Z",
     "start_time": "2025-02-05T11:04:13.617064Z"
    }
   },
   "cell_type": "code",
   "source": [
    "# Machen wir uns zum Schluss einen Dataframe:\n",
    "dataframe = pd.DataFrame({'data1': data1, 'data2': data2, 'data3': data3, 'data4': data4})\n",
    "dataframe"
   ],
   "id": "a7d18d624939bb4b",
   "outputs": [
    {
     "data": {
      "text/plain": [
       "   data1  data2  data3  data4\n",
       "0     49      1      1     50\n",
       "1     50     50      1     50\n",
       "2     52     20      1     50\n",
       "3     56     80     99     50\n",
       "4     43     99     99     50\n",
       "5     50     50     99     50"
      ],
      "text/html": [
       "<div>\n",
       "<style scoped>\n",
       "    .dataframe tbody tr th:only-of-type {\n",
       "        vertical-align: middle;\n",
       "    }\n",
       "\n",
       "    .dataframe tbody tr th {\n",
       "        vertical-align: top;\n",
       "    }\n",
       "\n",
       "    .dataframe thead th {\n",
       "        text-align: right;\n",
       "    }\n",
       "</style>\n",
       "<table border=\"1\" class=\"dataframe\">\n",
       "  <thead>\n",
       "    <tr style=\"text-align: right;\">\n",
       "      <th></th>\n",
       "      <th>data1</th>\n",
       "      <th>data2</th>\n",
       "      <th>data3</th>\n",
       "      <th>data4</th>\n",
       "    </tr>\n",
       "  </thead>\n",
       "  <tbody>\n",
       "    <tr>\n",
       "      <th>0</th>\n",
       "      <td>49</td>\n",
       "      <td>1</td>\n",
       "      <td>1</td>\n",
       "      <td>50</td>\n",
       "    </tr>\n",
       "    <tr>\n",
       "      <th>1</th>\n",
       "      <td>50</td>\n",
       "      <td>50</td>\n",
       "      <td>1</td>\n",
       "      <td>50</td>\n",
       "    </tr>\n",
       "    <tr>\n",
       "      <th>2</th>\n",
       "      <td>52</td>\n",
       "      <td>20</td>\n",
       "      <td>1</td>\n",
       "      <td>50</td>\n",
       "    </tr>\n",
       "    <tr>\n",
       "      <th>3</th>\n",
       "      <td>56</td>\n",
       "      <td>80</td>\n",
       "      <td>99</td>\n",
       "      <td>50</td>\n",
       "    </tr>\n",
       "    <tr>\n",
       "      <th>4</th>\n",
       "      <td>43</td>\n",
       "      <td>99</td>\n",
       "      <td>99</td>\n",
       "      <td>50</td>\n",
       "    </tr>\n",
       "    <tr>\n",
       "      <th>5</th>\n",
       "      <td>50</td>\n",
       "      <td>50</td>\n",
       "      <td>99</td>\n",
       "      <td>50</td>\n",
       "    </tr>\n",
       "  </tbody>\n",
       "</table>\n",
       "</div>"
      ]
     },
     "execution_count": 88,
     "metadata": {},
     "output_type": "execute_result"
    }
   ],
   "execution_count": 88
  },
  {
   "metadata": {
    "ExecuteTime": {
     "end_time": "2025-02-05T11:04:48.787856Z",
     "start_time": "2025-02-05T11:04:48.760832Z"
    }
   },
   "cell_type": "code",
   "source": [
    "# Was sagt uns dieser Output nach allem, was wir gelernt haben?\n",
    "dataframe.describe()"
   ],
   "id": "9b8b59a06c8608c4",
   "outputs": [
    {
     "data": {
      "text/plain": [
       "           data1      data2      data3  data4\n",
       "count   6.000000   6.000000   6.000000    6.0\n",
       "mean   50.000000  50.000000  50.000000   50.0\n",
       "std     4.242641  36.337309  53.676811    0.0\n",
       "min    43.000000   1.000000   1.000000   50.0\n",
       "25%    49.250000  27.500000   1.000000   50.0\n",
       "50%    50.000000  50.000000  50.000000   50.0\n",
       "75%    51.500000  72.500000  99.000000   50.0\n",
       "max    56.000000  99.000000  99.000000   50.0"
      ],
      "text/html": [
       "<div>\n",
       "<style scoped>\n",
       "    .dataframe tbody tr th:only-of-type {\n",
       "        vertical-align: middle;\n",
       "    }\n",
       "\n",
       "    .dataframe tbody tr th {\n",
       "        vertical-align: top;\n",
       "    }\n",
       "\n",
       "    .dataframe thead th {\n",
       "        text-align: right;\n",
       "    }\n",
       "</style>\n",
       "<table border=\"1\" class=\"dataframe\">\n",
       "  <thead>\n",
       "    <tr style=\"text-align: right;\">\n",
       "      <th></th>\n",
       "      <th>data1</th>\n",
       "      <th>data2</th>\n",
       "      <th>data3</th>\n",
       "      <th>data4</th>\n",
       "    </tr>\n",
       "  </thead>\n",
       "  <tbody>\n",
       "    <tr>\n",
       "      <th>count</th>\n",
       "      <td>6.000000</td>\n",
       "      <td>6.000000</td>\n",
       "      <td>6.000000</td>\n",
       "      <td>6.0</td>\n",
       "    </tr>\n",
       "    <tr>\n",
       "      <th>mean</th>\n",
       "      <td>50.000000</td>\n",
       "      <td>50.000000</td>\n",
       "      <td>50.000000</td>\n",
       "      <td>50.0</td>\n",
       "    </tr>\n",
       "    <tr>\n",
       "      <th>std</th>\n",
       "      <td>4.242641</td>\n",
       "      <td>36.337309</td>\n",
       "      <td>53.676811</td>\n",
       "      <td>0.0</td>\n",
       "    </tr>\n",
       "    <tr>\n",
       "      <th>min</th>\n",
       "      <td>43.000000</td>\n",
       "      <td>1.000000</td>\n",
       "      <td>1.000000</td>\n",
       "      <td>50.0</td>\n",
       "    </tr>\n",
       "    <tr>\n",
       "      <th>25%</th>\n",
       "      <td>49.250000</td>\n",
       "      <td>27.500000</td>\n",
       "      <td>1.000000</td>\n",
       "      <td>50.0</td>\n",
       "    </tr>\n",
       "    <tr>\n",
       "      <th>50%</th>\n",
       "      <td>50.000000</td>\n",
       "      <td>50.000000</td>\n",
       "      <td>50.000000</td>\n",
       "      <td>50.0</td>\n",
       "    </tr>\n",
       "    <tr>\n",
       "      <th>75%</th>\n",
       "      <td>51.500000</td>\n",
       "      <td>72.500000</td>\n",
       "      <td>99.000000</td>\n",
       "      <td>50.0</td>\n",
       "    </tr>\n",
       "    <tr>\n",
       "      <th>max</th>\n",
       "      <td>56.000000</td>\n",
       "      <td>99.000000</td>\n",
       "      <td>99.000000</td>\n",
       "      <td>50.0</td>\n",
       "    </tr>\n",
       "  </tbody>\n",
       "</table>\n",
       "</div>"
      ]
     },
     "execution_count": 89,
     "metadata": {},
     "output_type": "execute_result"
    }
   ],
   "execution_count": 89
  },
  {
   "metadata": {
    "ExecuteTime": {
     "end_time": "2025-02-05T11:07:51.214404Z",
     "start_time": "2025-02-05T11:07:51.200787Z"
    }
   },
   "cell_type": "code",
   "source": [
    "# Nutzerdefinierte Einteilung möglich:\n",
    "dataframe.describe(percentiles=[0.33, 0.66])"
   ],
   "id": "dcca8ea4e0042715",
   "outputs": [
    {
     "data": {
      "text/plain": [
       "           data1      data2      data3  data4\n",
       "count   6.000000   6.000000   6.000000    6.0\n",
       "mean   50.000000  50.000000  50.000000   50.0\n",
       "std     4.242641  36.337309  53.676811    0.0\n",
       "min    43.000000   1.000000   1.000000   50.0\n",
       "33%    49.650000  39.500000   1.000000   50.0\n",
       "50%    50.000000  50.000000  50.000000   50.0\n",
       "66%    50.600000  59.000000  99.000000   50.0\n",
       "max    56.000000  99.000000  99.000000   50.0"
      ],
      "text/html": [
       "<div>\n",
       "<style scoped>\n",
       "    .dataframe tbody tr th:only-of-type {\n",
       "        vertical-align: middle;\n",
       "    }\n",
       "\n",
       "    .dataframe tbody tr th {\n",
       "        vertical-align: top;\n",
       "    }\n",
       "\n",
       "    .dataframe thead th {\n",
       "        text-align: right;\n",
       "    }\n",
       "</style>\n",
       "<table border=\"1\" class=\"dataframe\">\n",
       "  <thead>\n",
       "    <tr style=\"text-align: right;\">\n",
       "      <th></th>\n",
       "      <th>data1</th>\n",
       "      <th>data2</th>\n",
       "      <th>data3</th>\n",
       "      <th>data4</th>\n",
       "    </tr>\n",
       "  </thead>\n",
       "  <tbody>\n",
       "    <tr>\n",
       "      <th>count</th>\n",
       "      <td>6.000000</td>\n",
       "      <td>6.000000</td>\n",
       "      <td>6.000000</td>\n",
       "      <td>6.0</td>\n",
       "    </tr>\n",
       "    <tr>\n",
       "      <th>mean</th>\n",
       "      <td>50.000000</td>\n",
       "      <td>50.000000</td>\n",
       "      <td>50.000000</td>\n",
       "      <td>50.0</td>\n",
       "    </tr>\n",
       "    <tr>\n",
       "      <th>std</th>\n",
       "      <td>4.242641</td>\n",
       "      <td>36.337309</td>\n",
       "      <td>53.676811</td>\n",
       "      <td>0.0</td>\n",
       "    </tr>\n",
       "    <tr>\n",
       "      <th>min</th>\n",
       "      <td>43.000000</td>\n",
       "      <td>1.000000</td>\n",
       "      <td>1.000000</td>\n",
       "      <td>50.0</td>\n",
       "    </tr>\n",
       "    <tr>\n",
       "      <th>33%</th>\n",
       "      <td>49.650000</td>\n",
       "      <td>39.500000</td>\n",
       "      <td>1.000000</td>\n",
       "      <td>50.0</td>\n",
       "    </tr>\n",
       "    <tr>\n",
       "      <th>50%</th>\n",
       "      <td>50.000000</td>\n",
       "      <td>50.000000</td>\n",
       "      <td>50.000000</td>\n",
       "      <td>50.0</td>\n",
       "    </tr>\n",
       "    <tr>\n",
       "      <th>66%</th>\n",
       "      <td>50.600000</td>\n",
       "      <td>59.000000</td>\n",
       "      <td>99.000000</td>\n",
       "      <td>50.0</td>\n",
       "    </tr>\n",
       "    <tr>\n",
       "      <th>max</th>\n",
       "      <td>56.000000</td>\n",
       "      <td>99.000000</td>\n",
       "      <td>99.000000</td>\n",
       "      <td>50.0</td>\n",
       "    </tr>\n",
       "  </tbody>\n",
       "</table>\n",
       "</div>"
      ]
     },
     "execution_count": 93,
     "metadata": {},
     "output_type": "execute_result"
    }
   ],
   "execution_count": 93
  },
  {
   "metadata": {
    "ExecuteTime": {
     "end_time": "2025-02-05T11:11:39.603Z",
     "start_time": "2025-02-05T11:11:39.584715Z"
    }
   },
   "cell_type": "code",
   "source": [
    "# Selektieren:\n",
    "dataframe.describe(percentiles=[0.33, 0.66]).loc[['33%', '66%']]"
   ],
   "id": "79dc8c4726621243",
   "outputs": [
    {
     "data": {
      "text/plain": [
       "     data1  data2  data3  data4\n",
       "33%  49.65   39.5    1.0   50.0\n",
       "66%  50.60   59.0   99.0   50.0"
      ],
      "text/html": [
       "<div>\n",
       "<style scoped>\n",
       "    .dataframe tbody tr th:only-of-type {\n",
       "        vertical-align: middle;\n",
       "    }\n",
       "\n",
       "    .dataframe tbody tr th {\n",
       "        vertical-align: top;\n",
       "    }\n",
       "\n",
       "    .dataframe thead th {\n",
       "        text-align: right;\n",
       "    }\n",
       "</style>\n",
       "<table border=\"1\" class=\"dataframe\">\n",
       "  <thead>\n",
       "    <tr style=\"text-align: right;\">\n",
       "      <th></th>\n",
       "      <th>data1</th>\n",
       "      <th>data2</th>\n",
       "      <th>data3</th>\n",
       "      <th>data4</th>\n",
       "    </tr>\n",
       "  </thead>\n",
       "  <tbody>\n",
       "    <tr>\n",
       "      <th>33%</th>\n",
       "      <td>49.65</td>\n",
       "      <td>39.5</td>\n",
       "      <td>1.0</td>\n",
       "      <td>50.0</td>\n",
       "    </tr>\n",
       "    <tr>\n",
       "      <th>66%</th>\n",
       "      <td>50.60</td>\n",
       "      <td>59.0</td>\n",
       "      <td>99.0</td>\n",
       "      <td>50.0</td>\n",
       "    </tr>\n",
       "  </tbody>\n",
       "</table>\n",
       "</div>"
      ]
     },
     "execution_count": 94,
     "metadata": {},
     "output_type": "execute_result"
    }
   ],
   "execution_count": 94
  },
  {
   "metadata": {
    "ExecuteTime": {
     "end_time": "2025-02-05T11:14:04.399980Z",
     "start_time": "2025-02-05T11:14:04.380225Z"
    }
   },
   "cell_type": "code",
   "source": [
    "# Auslassen:\n",
    "dataframe.describe(percentiles=[0.33, 0.66]).drop('50%')"
   ],
   "id": "bfbc49170dbe9591",
   "outputs": [
    {
     "data": {
      "text/plain": [
       "           data1      data2      data3  data4\n",
       "count   6.000000   6.000000   6.000000    6.0\n",
       "mean   50.000000  50.000000  50.000000   50.0\n",
       "std     4.242641  36.337309  53.676811    0.0\n",
       "min    43.000000   1.000000   1.000000   50.0\n",
       "33%    49.650000  39.500000   1.000000   50.0\n",
       "66%    50.600000  59.000000  99.000000   50.0\n",
       "max    56.000000  99.000000  99.000000   50.0"
      ],
      "text/html": [
       "<div>\n",
       "<style scoped>\n",
       "    .dataframe tbody tr th:only-of-type {\n",
       "        vertical-align: middle;\n",
       "    }\n",
       "\n",
       "    .dataframe tbody tr th {\n",
       "        vertical-align: top;\n",
       "    }\n",
       "\n",
       "    .dataframe thead th {\n",
       "        text-align: right;\n",
       "    }\n",
       "</style>\n",
       "<table border=\"1\" class=\"dataframe\">\n",
       "  <thead>\n",
       "    <tr style=\"text-align: right;\">\n",
       "      <th></th>\n",
       "      <th>data1</th>\n",
       "      <th>data2</th>\n",
       "      <th>data3</th>\n",
       "      <th>data4</th>\n",
       "    </tr>\n",
       "  </thead>\n",
       "  <tbody>\n",
       "    <tr>\n",
       "      <th>count</th>\n",
       "      <td>6.000000</td>\n",
       "      <td>6.000000</td>\n",
       "      <td>6.000000</td>\n",
       "      <td>6.0</td>\n",
       "    </tr>\n",
       "    <tr>\n",
       "      <th>mean</th>\n",
       "      <td>50.000000</td>\n",
       "      <td>50.000000</td>\n",
       "      <td>50.000000</td>\n",
       "      <td>50.0</td>\n",
       "    </tr>\n",
       "    <tr>\n",
       "      <th>std</th>\n",
       "      <td>4.242641</td>\n",
       "      <td>36.337309</td>\n",
       "      <td>53.676811</td>\n",
       "      <td>0.0</td>\n",
       "    </tr>\n",
       "    <tr>\n",
       "      <th>min</th>\n",
       "      <td>43.000000</td>\n",
       "      <td>1.000000</td>\n",
       "      <td>1.000000</td>\n",
       "      <td>50.0</td>\n",
       "    </tr>\n",
       "    <tr>\n",
       "      <th>33%</th>\n",
       "      <td>49.650000</td>\n",
       "      <td>39.500000</td>\n",
       "      <td>1.000000</td>\n",
       "      <td>50.0</td>\n",
       "    </tr>\n",
       "    <tr>\n",
       "      <th>66%</th>\n",
       "      <td>50.600000</td>\n",
       "      <td>59.000000</td>\n",
       "      <td>99.000000</td>\n",
       "      <td>50.0</td>\n",
       "    </tr>\n",
       "    <tr>\n",
       "      <th>max</th>\n",
       "      <td>56.000000</td>\n",
       "      <td>99.000000</td>\n",
       "      <td>99.000000</td>\n",
       "      <td>50.0</td>\n",
       "    </tr>\n",
       "  </tbody>\n",
       "</table>\n",
       "</div>"
      ]
     },
     "execution_count": 95,
     "metadata": {},
     "output_type": "execute_result"
    }
   ],
   "execution_count": 95
  }
 ],
 "metadata": {
  "kernelspec": {
   "display_name": "Python 3",
   "language": "python",
   "name": "python3"
  },
  "language_info": {
   "codemirror_mode": {
    "name": "ipython",
    "version": 2
   },
   "file_extension": ".py",
   "mimetype": "text/x-python",
   "name": "python",
   "nbconvert_exporter": "python",
   "pygments_lexer": "ipython2",
   "version": "2.7.6"
  }
 },
 "nbformat": 4,
 "nbformat_minor": 5
}
