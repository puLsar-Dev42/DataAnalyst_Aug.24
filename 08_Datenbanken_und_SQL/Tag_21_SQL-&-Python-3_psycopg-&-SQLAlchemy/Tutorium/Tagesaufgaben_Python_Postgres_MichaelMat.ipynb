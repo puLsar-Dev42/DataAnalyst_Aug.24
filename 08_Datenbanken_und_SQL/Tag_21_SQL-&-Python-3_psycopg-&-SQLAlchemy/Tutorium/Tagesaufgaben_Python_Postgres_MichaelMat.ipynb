{
 "cells": [
  {
   "cell_type": "markdown",
   "metadata": {
    "id": "J7s-HhBw2y4b"
   },
   "source": [
    "# Tagesaufgaben Python und PostgreSQL\n",
    "\n",
    "## Aufgabe 1 - Postgres Bedienung\n"
   ]
  },
  {
   "cell_type": "code",
   "metadata": {
    "id": "SuMyaRfJ2y4d",
    "ExecuteTime": {
     "end_time": "2025-01-08T12:25:37.916230Z",
     "start_time": "2025-01-08T12:25:36.873307Z"
    }
   },
   "source": [
    "import psycopg\n",
    "import pandas as pd\n",
    "from configparser import ConfigParser\n",
    "from getpass import getpass\n",
    "import sqlalchemy\n",
    "from sqlalchemy import text"
   ],
   "outputs": [],
   "execution_count": 1
  },
  {
   "metadata": {},
   "cell_type": "markdown",
   "source": [
    "\n",
    "**a)** Erstelle eine Postgres-Datenbank \"programmiersprachen\" und verbinde dich zu ihr.\n",
    "(Sollte vorher bereits eine bestehen, lösche diese erst!)\n",
    "\n",
    "Hinweis: Sollte sich die Datenbank nicht erstellen lassen, stelle autocommit auf True."
   ]
  },
  {
   "cell_type": "code",
   "metadata": {
    "ExecuteTime": {
     "end_time": "2025-01-08T13:53:36.320406Z",
     "start_time": "2025-01-08T13:53:36.276089Z"
    }
   },
   "source": [
    "connection = psycopg.connect(\n",
    "\thost='localhost',\n",
    "\tport='5432',\n",
    "\tuser='postgres',\n",
    "\tpassword='42',\n",
    "\tdbname='programmiersprachen',\n",
    "\tautocommit=True\n",
    ")"
   ],
   "outputs": [],
   "execution_count": 48
  },
  {
   "metadata": {
    "ExecuteTime": {
     "end_time": "2025-01-08T12:41:20.900612Z",
     "start_time": "2025-01-08T12:41:20.895604Z"
    }
   },
   "cell_type": "code",
   "source": "create_db = ('CREATE DATABASE programmiersprachen;')",
   "outputs": [],
   "execution_count": 6
  },
  {
   "metadata": {
    "ExecuteTime": {
     "end_time": "2025-01-08T12:42:45.866141Z",
     "start_time": "2025-01-08T12:42:45.474792Z"
    }
   },
   "cell_type": "code",
   "source": [
    "cursor = connection.cursor()\n",
    "cursor.execute(create_db)"
   ],
   "outputs": [
    {
     "data": {
      "text/plain": [
       "<psycopg.Cursor [COMMAND_OK] [IDLE] (host=localhost database=postgres) at 0x15c10cf8350>"
      ]
     },
     "execution_count": 7,
     "metadata": {},
     "output_type": "execute_result"
    }
   ],
   "execution_count": 7
  },
  {
   "metadata": {
    "ExecuteTime": {
     "end_time": "2025-01-08T13:05:11.703283Z",
     "start_time": "2025-01-08T13:05:11.697254Z"
    }
   },
   "cell_type": "code",
   "source": [
    "cursor.close()\n",
    "connection.close()"
   ],
   "outputs": [],
   "execution_count": 15
  },
  {
   "cell_type": "markdown",
   "metadata": {
    "collapsed": false,
    "id": "izTZgJgR2y4d"
   },
   "source": [
    "**b)** Erstelle in der neuen Datenbank eine Tabelle namens `programmiersprachen` und füge die folgenden Inhalte ein:\n"
   ]
  },
  {
   "cell_type": "code",
   "metadata": {
    "id": "1PEp5FgE2y4d",
    "ExecuteTime": {
     "end_time": "2025-01-08T12:43:19.779146Z",
     "start_time": "2025-01-08T12:43:19.774097Z"
    }
   },
   "source": [
    "data = [\n",
    "\t(1, \"Ada Lovelace Machinealgorithm\", 1843),\n",
    "\t(2, \"Assembler\", 1949),\n",
    "\t(3, \"COBOL\", 1959),\n",
    "\t(4, \"SQL\", 1972),\n",
    "\t(5, \"C++\", 1985),\n",
    "\t(6, \"Python\", 1991),\n",
    "\t(7, \"Swift\", 2014)\n",
    "]"
   ],
   "outputs": [],
   "execution_count": 8
  },
  {
   "metadata": {
    "ExecuteTime": {
     "end_time": "2025-01-08T13:10:41.824429Z",
     "start_time": "2025-01-08T13:10:41.810256Z"
    }
   },
   "cell_type": "code",
   "source": [
    "cursor = connection.cursor()\n",
    "cursor.execute(\n",
    "\t'''CREATE TABLE IF NOT EXISTS programmiersprachen(\n",
    "\tid int,\n",
    "\tprog_language VARCHAR(50) UNIQUE NOT NULL,\n",
    "\trelease_year int);'''\n",
    ")"
   ],
   "outputs": [
    {
     "data": {
      "text/plain": [
       "<psycopg.Cursor [COMMAND_OK] [IDLE] (host=localhost user=postgres database=programmiersprachen) at 0x15c10cf9250>"
      ]
     },
     "execution_count": 18,
     "metadata": {},
     "output_type": "execute_result"
    }
   ],
   "execution_count": 18
  },
  {
   "metadata": {
    "ExecuteTime": {
     "end_time": "2025-01-08T13:14:16.546814Z",
     "start_time": "2025-01-08T13:14:16.535917Z"
    }
   },
   "cell_type": "code",
   "source": [
    "cursor.executemany('''\n",
    "                  INSERT INTO programmiersprachen(id, prog_language, release_year)\n",
    "                  VALUES (%s, %s, %s)''', data)"
   ],
   "outputs": [],
   "execution_count": 21
  },
  {
   "cell_type": "markdown",
   "metadata": {
    "collapsed": false,
    "id": "wCtJFiZv2y4m"
   },
   "source": [
    "**c)** Lasse dir die Inhalte der Tabelle als pandas DataFrame anzeigen.\n"
   ]
  },
  {
   "cell_type": "code",
   "metadata": {
    "id": "VP30UcgY2y4m",
    "ExecuteTime": {
     "end_time": "2025-01-08T13:22:40.900393Z",
     "start_time": "2025-01-08T13:22:40.863738Z"
    }
   },
   "source": [
    "prog_lang_df = pd.read_sql('SELECT * FROM programmiersprachen', connection)\n",
    "prog_lang_df"
   ],
   "outputs": [
    {
     "name": "stderr",
     "output_type": "stream",
     "text": [
      "C:\\Users\\Admin\\AppData\\Local\\Temp\\ipykernel_15600\\2762793855.py:1: UserWarning: pandas only supports SQLAlchemy connectable (engine/connection) or database string URI or sqlite3 DBAPI2 connection. Other DBAPI2 objects are not tested. Please consider using SQLAlchemy.\n",
      "  prog_lang_df = pd.read_sql('SELECT * FROM programmiersprachen', connection)\n"
     ]
    },
    {
     "data": {
      "text/plain": [
       "   id                  prog_language  release_year\n",
       "0   1  Ada Lovelace Machinealgorithm          1843\n",
       "1   2                      Assembler          1949\n",
       "2   3                          COBOL          1959\n",
       "3   4                            SQL          1972\n",
       "4   5                            C++          1985\n",
       "5   6                         Python          1991\n",
       "6   7                          Swift          2014"
      ],
      "text/html": [
       "<div>\n",
       "<style scoped>\n",
       "    .dataframe tbody tr th:only-of-type {\n",
       "        vertical-align: middle;\n",
       "    }\n",
       "\n",
       "    .dataframe tbody tr th {\n",
       "        vertical-align: top;\n",
       "    }\n",
       "\n",
       "    .dataframe thead th {\n",
       "        text-align: right;\n",
       "    }\n",
       "</style>\n",
       "<table border=\"1\" class=\"dataframe\">\n",
       "  <thead>\n",
       "    <tr style=\"text-align: right;\">\n",
       "      <th></th>\n",
       "      <th>id</th>\n",
       "      <th>prog_language</th>\n",
       "      <th>release_year</th>\n",
       "    </tr>\n",
       "  </thead>\n",
       "  <tbody>\n",
       "    <tr>\n",
       "      <th>0</th>\n",
       "      <td>1</td>\n",
       "      <td>Ada Lovelace Machinealgorithm</td>\n",
       "      <td>1843</td>\n",
       "    </tr>\n",
       "    <tr>\n",
       "      <th>1</th>\n",
       "      <td>2</td>\n",
       "      <td>Assembler</td>\n",
       "      <td>1949</td>\n",
       "    </tr>\n",
       "    <tr>\n",
       "      <th>2</th>\n",
       "      <td>3</td>\n",
       "      <td>COBOL</td>\n",
       "      <td>1959</td>\n",
       "    </tr>\n",
       "    <tr>\n",
       "      <th>3</th>\n",
       "      <td>4</td>\n",
       "      <td>SQL</td>\n",
       "      <td>1972</td>\n",
       "    </tr>\n",
       "    <tr>\n",
       "      <th>4</th>\n",
       "      <td>5</td>\n",
       "      <td>C++</td>\n",
       "      <td>1985</td>\n",
       "    </tr>\n",
       "    <tr>\n",
       "      <th>5</th>\n",
       "      <td>6</td>\n",
       "      <td>Python</td>\n",
       "      <td>1991</td>\n",
       "    </tr>\n",
       "    <tr>\n",
       "      <th>6</th>\n",
       "      <td>7</td>\n",
       "      <td>Swift</td>\n",
       "      <td>2014</td>\n",
       "    </tr>\n",
       "  </tbody>\n",
       "</table>\n",
       "</div>"
      ]
     },
     "execution_count": 23,
     "metadata": {},
     "output_type": "execute_result"
    }
   ],
   "execution_count": 23
  },
  {
   "cell_type": "markdown",
   "metadata": {},
   "source": [
    "## Aufgabe 2 - Funktionen\n"
   ]
  },
  {
   "cell_type": "markdown",
   "metadata": {},
   "source": [
    "**a)** Erstelle eine SQL Tabelle `student` mit den Spalten id, Vorname, Nachname und Alter\n"
   ]
  },
  {
   "cell_type": "code",
   "metadata": {
    "ExecuteTime": {
     "end_time": "2025-01-08T14:05:00.904627Z",
     "start_time": "2025-01-08T14:05:00.897743Z"
    }
   },
   "source": [
    "cursor = connection.cursor()\n",
    "cursor.execute(\n",
    "\t'''CREATE TABLE IF NOT EXISTS student(\n",
    "\tid SERIAL PRIMARY KEY,\n",
    "\tvorname VARCHAR(20),\n",
    "\tnachname VARCHAR(20),\n",
    "\talter INT NOT NULL\n",
    "\t)'''\n",
    ")"
   ],
   "outputs": [
    {
     "data": {
      "text/plain": [
       "<psycopg.Cursor [COMMAND_OK] [IDLE] (host=localhost user=postgres database=programmiersprachen) at 0x15c112f2810>"
      ]
     },
     "execution_count": 79,
     "metadata": {},
     "output_type": "execute_result"
    }
   ],
   "execution_count": 79
  },
  {
   "cell_type": "markdown",
   "metadata": {},
   "source": "**b)** Schreibe eine Funktion, mit der du Studenten in deine neue SQL Tabelle eintragen kannst. Teste sie mit einem Aufruf.\n"
  },
  {
   "cell_type": "code",
   "metadata": {
    "ExecuteTime": {
     "end_time": "2025-01-08T14:05:02.489543Z",
     "start_time": "2025-01-08T14:05:02.484543Z"
    }
   },
   "source": [
    "def add_students(vorname, nachname, alter):\n",
    "\tinsert_q = \"\"\"\n",
    "\t\tINSERT INTO student (vorname, nachname, alter)\n",
    "\t\tVALUES (%s, %s, %s);\n",
    "\t\"\"\"\n",
    "\tcursor.execute(insert_q, (vorname, nachname, alter))\n",
    "\tconnection.commit()"
   ],
   "outputs": [],
   "execution_count": 80
  },
  {
   "cell_type": "code",
   "metadata": {
    "ExecuteTime": {
     "end_time": "2025-01-08T14:05:04.104105Z",
     "start_time": "2025-01-08T14:05:04.097367Z"
    }
   },
   "source": "add_students(\"Mitch\", \"Maddison\", 39)",
   "outputs": [],
   "execution_count": 81
  },
  {
   "metadata": {
    "ExecuteTime": {
     "end_time": "2025-01-08T14:05:04.843575Z",
     "start_time": "2025-01-08T14:05:04.836595Z"
    }
   },
   "cell_type": "code",
   "source": "cursor.execute('SELECT * FROM student;')",
   "outputs": [
    {
     "data": {
      "text/plain": [
       "<psycopg.Cursor [TUPLES_OK] [IDLE] (host=localhost user=postgres database=programmiersprachen) at 0x15c112f2810>"
      ]
     },
     "execution_count": 82,
     "metadata": {},
     "output_type": "execute_result"
    }
   ],
   "execution_count": 82
  },
  {
   "metadata": {
    "ExecuteTime": {
     "end_time": "2025-01-08T14:05:05.889163Z",
     "start_time": "2025-01-08T14:05:05.882287Z"
    }
   },
   "cell_type": "code",
   "source": [
    "student_table = cursor.fetchall()\n",
    "student_table"
   ],
   "outputs": [
    {
     "data": {
      "text/plain": [
       "[(1, 'Mitch', 'Maddison', 39)]"
      ]
     },
     "execution_count": 83,
     "metadata": {},
     "output_type": "execute_result"
    }
   ],
   "execution_count": 83
  },
  {
   "cell_type": "markdown",
   "metadata": {},
   "source": "**c)** Schreibe eine Funktion zum Löschen eines Studenten anhand einer ID. Teste die Funktion mit einem Testaufruf. Optional: Die Infos der gelöschten ID sollen dabei auch angezeigt werden."
  },
  {
   "cell_type": "code",
   "metadata": {
    "ExecuteTime": {
     "end_time": "2025-01-08T14:05:08.288293Z",
     "start_time": "2025-01-08T14:05:08.283749Z"
    }
   },
   "source": [
    "def kill_students(connection, id):\n",
    "\twith connection.cursor() as cc:\n",
    "\t\tcc.execute(\"DELETE FROM student WHERE id = %s\", (id,))\n",
    "\t\tconnection.commit()\n",
    "\t\tprint(f\"student with id {id} deleted from table!👍🏻\")"
   ],
   "outputs": [],
   "execution_count": 84
  },
  {
   "cell_type": "code",
   "metadata": {
    "ExecuteTime": {
     "end_time": "2025-01-08T14:05:09.272701Z",
     "start_time": "2025-01-08T14:05:09.266386Z"
    }
   },
   "source": "kill_students(connection, 1)",
   "outputs": [
    {
     "name": "stdout",
     "output_type": "stream",
     "text": [
      "student with id 1 deleted from table!👍🏻\n"
     ]
    }
   ],
   "execution_count": 85
  },
  {
   "cell_type": "markdown",
   "metadata": {},
   "source": [
    "**d)** Schließe die Datenbank-, Cursor und/oder Engine-Verbindung."
   ]
  },
  {
   "cell_type": "code",
   "metadata": {
    "ExecuteTime": {
     "end_time": "2025-01-08T14:05:24.937968Z",
     "start_time": "2025-01-08T14:05:24.933448Z"
    }
   },
   "source": [
    "cursor.close()\n",
    "connection.close()"
   ],
   "outputs": [],
   "execution_count": 86
  }
 ],
 "metadata": {
  "colab": {
   "provenance": []
  },
  "kernelspec": {
   "display_name": "Python 3.11.0 64-bit",
   "language": "python",
   "name": "python3"
  },
  "language_info": {
   "codemirror_mode": {
    "name": "ipython",
    "version": 3
   },
   "file_extension": ".py",
   "mimetype": "text/x-python",
   "name": "python",
   "nbconvert_exporter": "python",
   "pygments_lexer": "ipython3",
   "version": "3.11.5"
  },
  "orig_nbformat": 4,
  "vscode": {
   "interpreter": {
    "hash": "6a33add19b135581d6797622ba897a8aa8e07e9491c492522c896e8d2e24141e"
   }
  }
 },
 "nbformat": 4,
 "nbformat_minor": 0
}
