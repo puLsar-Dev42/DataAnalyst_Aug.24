{
 "cells": [
  {
   "cell_type": "markdown",
   "metadata": {},
   "source": [
    "<br><br><center><h1 style=\"font-size:2em;color:#2467C0\">Tagesaufgaben: Pandas Datetime\n",
    "</h1></center>\n",
    "<br>"
   ]
  },
  {
   "metadata": {
    "ExecuteTime": {
     "end_time": "2024-11-19T17:36:26.171573Z",
     "start_time": "2024-11-19T17:36:26.167370Z"
    }
   },
   "cell_type": "code",
   "source": [
    "# Deine Imports:\n",
    "import numpy as np\n",
    "import pandas as pd\n",
    "import seaborn as sns"
   ],
   "outputs": [],
   "execution_count": 113
  },
  {
   "cell_type": "markdown",
   "metadata": {},
   "source": [
    "Aufgabe 1:\n",
    "\n",
    "Erstelle eine Pandas Series mit täglichen Datumsangaben für eine Woche, beginnend am 15.05.2024.\n",
    "\n",
    "Nutze zur Erstellung einen String im Ausgangsformat \"YYYY-MM-DD\".\n",
    "\n",
    "Gib die Series anschließend aus."
   ]
  },
  {
   "cell_type": "code",
   "metadata": {
    "ExecuteTime": {
     "end_time": "2024-11-19T17:36:26.218368Z",
     "start_time": "2024-11-19T17:36:26.211739Z"
    }
   },
   "source": [
    "start_date = '2024-05-15'\n",
    "date_range = pd.date_range(start=start_date, periods=7)\n",
    "date_series = pd.Series(date_range, name='Date')\n",
    "date_series"
   ],
   "outputs": [
    {
     "data": {
      "text/plain": [
       "0   2024-05-15\n",
       "1   2024-05-16\n",
       "2   2024-05-17\n",
       "3   2024-05-18\n",
       "4   2024-05-19\n",
       "5   2024-05-20\n",
       "6   2024-05-21\n",
       "Name: Date, dtype: datetime64[ns]"
      ]
     },
     "execution_count": 114,
     "metadata": {},
     "output_type": "execute_result"
    }
   ],
   "execution_count": 114
  },
  {
   "cell_type": "markdown",
   "metadata": {},
   "source": "Aufgabe 2: Lass dir nun aus der Series die folgenden Datumsbestandteile separat ausgeben: Jahr, Monat, Tag, Stunde, Minute."
  },
  {
   "cell_type": "code",
   "metadata": {
    "ExecuteTime": {
     "end_time": "2024-11-19T17:36:26.287513Z",
     "start_time": "2024-11-19T17:36:26.279184Z"
    }
   },
   "source": [
    "print(date_series.dt.year)\n",
    "print(date_series.dt.month)\n",
    "print(date_series.dt.day)\n",
    "print(date_series.dt.hour)\n",
    "print(date_series.dt.minute)"
   ],
   "outputs": [
    {
     "name": "stdout",
     "output_type": "stream",
     "text": [
      "0    2024\n",
      "1    2024\n",
      "2    2024\n",
      "3    2024\n",
      "4    2024\n",
      "5    2024\n",
      "6    2024\n",
      "Name: Date, dtype: int32\n",
      "0    5\n",
      "1    5\n",
      "2    5\n",
      "3    5\n",
      "4    5\n",
      "5    5\n",
      "6    5\n",
      "Name: Date, dtype: int32\n",
      "0    15\n",
      "1    16\n",
      "2    17\n",
      "3    18\n",
      "4    19\n",
      "5    20\n",
      "6    21\n",
      "Name: Date, dtype: int32\n",
      "0    0\n",
      "1    0\n",
      "2    0\n",
      "3    0\n",
      "4    0\n",
      "5    0\n",
      "6    0\n",
      "Name: Date, dtype: int32\n",
      "0    0\n",
      "1    0\n",
      "2    0\n",
      "3    0\n",
      "4    0\n",
      "5    0\n",
      "6    0\n",
      "Name: Date, dtype: int32\n"
     ]
    }
   ],
   "execution_count": 115
  },
  {
   "cell_type": "markdown",
   "metadata": {},
   "source": [
    "Aufgabe 3:\n",
    "\n",
    "Führe den nachfolgenden Code aus (revenues).\n",
    "\n",
    "Erzeuge dann einen DatetimeIndex mit den Tagen der Monate Mai-Juli 2024.\n",
    "\n",
    "Füge account_balances und date_range zu einer Series zusammen, wobei date_range der Index sein soll. Die Series soll den Namen revenue erhalten."
   ]
  },
  {
   "metadata": {
    "ExecuteTime": {
     "end_time": "2024-11-19T17:36:26.362798Z",
     "start_time": "2024-11-19T17:36:26.357610Z"
    }
   },
   "cell_type": "code",
   "source": [
    "np.random.seed(42)\n",
    "revenues = np.random.randint(1500, 8000, 92)\n",
    "revenues"
   ],
   "outputs": [
    {
     "data": {
      "text/plain": [
       "array([2360, 6890, 6726, 6691, 5272, 4592, 7234, 7765, 1966, 6834, 5926,\n",
       "       7078, 7731, 4944, 4671, 4419, 1630, 3185, 2269, 3891, 7111, 3933,\n",
       "       6811, 6551, 7920, 2684, 6055, 4885, 5617, 7896, 6343, 4404, 1974,\n",
       "       2582, 4058, 3547, 4247, 2475, 3306, 1689, 4234, 4505, 6158, 3399,\n",
       "       2767, 3028, 4702, 5056, 5390, 2146, 7664, 4388, 7810, 6893, 3935,\n",
       "       2100, 3863, 3561, 1741, 3541, 4324, 4112, 2863, 7735, 6986, 2978,\n",
       "       4056, 2275, 5514, 1534, 7849, 4652, 3455, 3085, 5443, 4573, 2521,\n",
       "       4961, 4113, 6725, 5343, 3000, 6298, 7175, 1661, 5797, 3481, 2495,\n",
       "       7913, 6411, 4842, 6051], dtype=int32)"
      ]
     },
     "execution_count": 116,
     "metadata": {},
     "output_type": "execute_result"
    }
   ],
   "execution_count": 116
  },
  {
   "cell_type": "code",
   "metadata": {
    "ExecuteTime": {
     "end_time": "2024-11-19T17:36:26.443268Z",
     "start_time": "2024-11-19T17:36:26.437991Z"
    }
   },
   "source": [
    "date_range = pd.date_range(start='2024-05-01', end='2024-07-31')\n",
    "print(date_range)"
   ],
   "outputs": [
    {
     "name": "stdout",
     "output_type": "stream",
     "text": [
      "DatetimeIndex(['2024-05-01', '2024-05-02', '2024-05-03', '2024-05-04',\n",
      "               '2024-05-05', '2024-05-06', '2024-05-07', '2024-05-08',\n",
      "               '2024-05-09', '2024-05-10', '2024-05-11', '2024-05-12',\n",
      "               '2024-05-13', '2024-05-14', '2024-05-15', '2024-05-16',\n",
      "               '2024-05-17', '2024-05-18', '2024-05-19', '2024-05-20',\n",
      "               '2024-05-21', '2024-05-22', '2024-05-23', '2024-05-24',\n",
      "               '2024-05-25', '2024-05-26', '2024-05-27', '2024-05-28',\n",
      "               '2024-05-29', '2024-05-30', '2024-05-31', '2024-06-01',\n",
      "               '2024-06-02', '2024-06-03', '2024-06-04', '2024-06-05',\n",
      "               '2024-06-06', '2024-06-07', '2024-06-08', '2024-06-09',\n",
      "               '2024-06-10', '2024-06-11', '2024-06-12', '2024-06-13',\n",
      "               '2024-06-14', '2024-06-15', '2024-06-16', '2024-06-17',\n",
      "               '2024-06-18', '2024-06-19', '2024-06-20', '2024-06-21',\n",
      "               '2024-06-22', '2024-06-23', '2024-06-24', '2024-06-25',\n",
      "               '2024-06-26', '2024-06-27', '2024-06-28', '2024-06-29',\n",
      "               '2024-06-30', '2024-07-01', '2024-07-02', '2024-07-03',\n",
      "               '2024-07-04', '2024-07-05', '2024-07-06', '2024-07-07',\n",
      "               '2024-07-08', '2024-07-09', '2024-07-10', '2024-07-11',\n",
      "               '2024-07-12', '2024-07-13', '2024-07-14', '2024-07-15',\n",
      "               '2024-07-16', '2024-07-17', '2024-07-18', '2024-07-19',\n",
      "               '2024-07-20', '2024-07-21', '2024-07-22', '2024-07-23',\n",
      "               '2024-07-24', '2024-07-25', '2024-07-26', '2024-07-27',\n",
      "               '2024-07-28', '2024-07-29', '2024-07-30', '2024-07-31'],\n",
      "              dtype='datetime64[ns]', freq='D')\n"
     ]
    }
   ],
   "execution_count": 117
  },
  {
   "metadata": {
    "ExecuteTime": {
     "end_time": "2024-11-19T17:36:26.556992Z",
     "start_time": "2024-11-19T17:36:26.550161Z"
    }
   },
   "cell_type": "code",
   "source": [
    "revenue = pd.Series(revenues, date_range, name='revenue')\n",
    "revenue"
   ],
   "outputs": [
    {
     "data": {
      "text/plain": [
       "2024-05-01    2360\n",
       "2024-05-02    6890\n",
       "2024-05-03    6726\n",
       "2024-05-04    6691\n",
       "2024-05-05    5272\n",
       "              ... \n",
       "2024-07-27    2495\n",
       "2024-07-28    7913\n",
       "2024-07-29    6411\n",
       "2024-07-30    4842\n",
       "2024-07-31    6051\n",
       "Freq: D, Name: revenue, Length: 92, dtype: int32"
      ]
     },
     "execution_count": 118,
     "metadata": {},
     "output_type": "execute_result"
    }
   ],
   "execution_count": 118
  },
  {
   "cell_type": "markdown",
   "metadata": {},
   "source": "Aufgabe 4: Gruppiere nach dem Monat und lasse dir Monatssummen sowie den Durchschnitt für jeden Monat ausgeben."
  },
  {
   "metadata": {
    "ExecuteTime": {
     "end_time": "2024-11-19T17:36:26.616408Z",
     "start_time": "2024-11-19T17:36:26.606279Z"
    }
   },
   "cell_type": "code",
   "source": "revenue.groupby(revenue.index.month).agg(['sum', 'mean'])",
   "outputs": [
    {
     "data": {
      "text/plain": [
       "      sum         mean\n",
       "5  167880  5415.483871\n",
       "6  119487  3982.900000\n",
       "7  145897  4706.354839"
      ],
      "text/html": [
       "<div>\n",
       "<style scoped>\n",
       "    .dataframe tbody tr th:only-of-type {\n",
       "        vertical-align: middle;\n",
       "    }\n",
       "\n",
       "    .dataframe tbody tr th {\n",
       "        vertical-align: top;\n",
       "    }\n",
       "\n",
       "    .dataframe thead th {\n",
       "        text-align: right;\n",
       "    }\n",
       "</style>\n",
       "<table border=\"1\" class=\"dataframe\">\n",
       "  <thead>\n",
       "    <tr style=\"text-align: right;\">\n",
       "      <th></th>\n",
       "      <th>sum</th>\n",
       "      <th>mean</th>\n",
       "    </tr>\n",
       "  </thead>\n",
       "  <tbody>\n",
       "    <tr>\n",
       "      <th>5</th>\n",
       "      <td>167880</td>\n",
       "      <td>5415.483871</td>\n",
       "    </tr>\n",
       "    <tr>\n",
       "      <th>6</th>\n",
       "      <td>119487</td>\n",
       "      <td>3982.900000</td>\n",
       "    </tr>\n",
       "    <tr>\n",
       "      <th>7</th>\n",
       "      <td>145897</td>\n",
       "      <td>4706.354839</td>\n",
       "    </tr>\n",
       "  </tbody>\n",
       "</table>\n",
       "</div>"
      ]
     },
     "execution_count": 119,
     "metadata": {},
     "output_type": "execute_result"
    }
   ],
   "execution_count": 119
  },
  {
   "metadata": {},
   "cell_type": "markdown",
   "source": [
    "Aufgabe 5: Filtere nun die Series nach Daten, die zwischen dem 13.05.2024 und dem 19.05.2024 liegen, nenne den Ausschnitt period_of_interest und schaue dir Minimum, Maximum und Summe an.\n",
    "\n",
    "Bonus: Benenne das Resultat so (Series-Name), dass erkennbar ist, dass es hier nur um den genannten Zeitraum geht."
   ]
  },
  {
   "metadata": {
    "ExecuteTime": {
     "end_time": "2024-11-19T17:36:26.730756Z",
     "start_time": "2024-11-19T17:36:26.723987Z"
    }
   },
   "cell_type": "code",
   "source": [
    "period_of_interest = revenue[(revenue.index >= \"2024-05-13\") &\n",
    "                             (revenue.index <= \"2024-05-19\")]\n",
    "period_of_interest"
   ],
   "outputs": [
    {
     "data": {
      "text/plain": [
       "2024-05-13    7731\n",
       "2024-05-14    4944\n",
       "2024-05-15    4671\n",
       "2024-05-16    4419\n",
       "2024-05-17    1630\n",
       "2024-05-18    3185\n",
       "2024-05-19    2269\n",
       "Freq: D, Name: revenue, dtype: int32"
      ]
     },
     "execution_count": 120,
     "metadata": {},
     "output_type": "execute_result"
    }
   ],
   "execution_count": 120
  },
  {
   "metadata": {
    "ExecuteTime": {
     "end_time": "2024-11-19T17:36:26.869607Z",
     "start_time": "2024-11-19T17:36:26.862610Z"
    }
   },
   "cell_type": "code",
   "source": "period_of_interest.agg(['min',  'max', 'sum']).rename('revenue - 13.05.-19.05.24')",
   "outputs": [
    {
     "data": {
      "text/plain": [
       "min     1630\n",
       "max     7731\n",
       "sum    28849\n",
       "Name: revenue - 13.05.-19.05.24, dtype: int64"
      ]
     },
     "execution_count": 121,
     "metadata": {},
     "output_type": "execute_result"
    }
   ],
   "execution_count": 121
  },
  {
   "metadata": {},
   "cell_type": "markdown",
   "source": [
    "Aufgabe 6: Ändere den Index, sodass er die Wochentage mit Namen anzeigt.\n",
    "\n",
    "Gruppiere nach den Wochentagen und beantworte die Frage, welche Einnahmen es durchschnittlich an den verschiedenen Wochentagen gibt.\n",
    "\n",
    "Passe die Series an, sodass sie bei Montag startet und mit Sonntag abschließt."
   ]
  },
  {
   "metadata": {
    "ExecuteTime": {
     "end_time": "2024-11-19T17:36:27.074803Z",
     "start_time": "2024-11-19T17:36:27.067289Z"
    }
   },
   "cell_type": "code",
   "source": [
    "revenue.index = revenue.index.day_name()\n",
    "revenue"
   ],
   "outputs": [
    {
     "data": {
      "text/plain": [
       "Wednesday    2360\n",
       "Thursday     6890\n",
       "Friday       6726\n",
       "Saturday     6691\n",
       "Sunday       5272\n",
       "             ... \n",
       "Saturday     2495\n",
       "Sunday       7913\n",
       "Monday       6411\n",
       "Tuesday      4842\n",
       "Wednesday    6051\n",
       "Name: revenue, Length: 92, dtype: int32"
      ]
     },
     "execution_count": 122,
     "metadata": {},
     "output_type": "execute_result"
    }
   ],
   "execution_count": 122
  },
  {
   "metadata": {
    "ExecuteTime": {
     "end_time": "2024-11-19T17:36:27.323575Z",
     "start_time": "2024-11-19T17:36:27.316242Z"
    }
   },
   "cell_type": "code",
   "source": [
    "weekdays_average = revenue.groupby(revenue.index).mean()\n",
    "weekdays_average"
   ],
   "outputs": [
    {
     "data": {
      "text/plain": [
       "Friday       4314.923077\n",
       "Monday       4998.769231\n",
       "Saturday     4676.153846\n",
       "Sunday       4270.461538\n",
       "Thursday     5261.615385\n",
       "Tuesday      4550.923077\n",
       "Wednesday    4879.785714\n",
       "Name: revenue, dtype: float64"
      ]
     },
     "execution_count": 123,
     "metadata": {},
     "output_type": "execute_result"
    }
   ],
   "execution_count": 123
  },
  {
   "metadata": {
    "ExecuteTime": {
     "end_time": "2024-11-19T17:36:27.537520Z",
     "start_time": "2024-11-19T17:36:27.531301Z"
    }
   },
   "cell_type": "code",
   "source": [
    "weekdays_average = weekdays_average.reindex(['Monday', 'Tuesday', 'Wednesday',\n",
    "                                             'Thursday', 'Friday', 'Saturday',\n",
    "                                             'Sunday'])\n",
    "\n",
    "weekdays_average"
   ],
   "outputs": [
    {
     "data": {
      "text/plain": [
       "Monday       4998.769231\n",
       "Tuesday      4550.923077\n",
       "Wednesday    4879.785714\n",
       "Thursday     5261.615385\n",
       "Friday       4314.923077\n",
       "Saturday     4676.153846\n",
       "Sunday       4270.461538\n",
       "Name: revenue, dtype: float64"
      ]
     },
     "execution_count": 124,
     "metadata": {},
     "output_type": "execute_result"
    }
   ],
   "execution_count": 124
  },
  {
   "metadata": {},
   "cell_type": "markdown",
   "source": [
    "Aufgabe 7: Lade den Taxis-Datensatz aus Seaborn, allerdings nur die Spalten pickup, dropoff, total, distance.\n",
    "\n",
    "Füge eine Spalte travel_time hinzu, die die Differenz zwischen pickup und dropoff enthält."
   ]
  },
  {
   "metadata": {
    "ExecuteTime": {
     "end_time": "2024-11-19T17:36:27.820738Z",
     "start_time": "2024-11-19T17:36:27.783099Z"
    }
   },
   "cell_type": "code",
   "source": [
    "taxis = sns.load_dataset('taxis',\n",
    "                         usecols=['pickup', 'dropoff', 'total', 'distance'])\n",
    "taxis.head()"
   ],
   "outputs": [
    {
     "data": {
      "text/plain": [
       "               pickup             dropoff  distance  total\n",
       "0 2019-03-23 20:21:09 2019-03-23 20:27:24      1.60  12.95\n",
       "1 2019-03-04 16:11:55 2019-03-04 16:19:00      0.79   9.30\n",
       "2 2019-03-27 17:53:01 2019-03-27 18:00:25      1.37  14.16\n",
       "3 2019-03-10 01:23:59 2019-03-10 01:49:51      7.70  36.95\n",
       "4 2019-03-30 13:27:42 2019-03-30 13:37:14      2.16  13.40"
      ],
      "text/html": [
       "<div>\n",
       "<style scoped>\n",
       "    .dataframe tbody tr th:only-of-type {\n",
       "        vertical-align: middle;\n",
       "    }\n",
       "\n",
       "    .dataframe tbody tr th {\n",
       "        vertical-align: top;\n",
       "    }\n",
       "\n",
       "    .dataframe thead th {\n",
       "        text-align: right;\n",
       "    }\n",
       "</style>\n",
       "<table border=\"1\" class=\"dataframe\">\n",
       "  <thead>\n",
       "    <tr style=\"text-align: right;\">\n",
       "      <th></th>\n",
       "      <th>pickup</th>\n",
       "      <th>dropoff</th>\n",
       "      <th>distance</th>\n",
       "      <th>total</th>\n",
       "    </tr>\n",
       "  </thead>\n",
       "  <tbody>\n",
       "    <tr>\n",
       "      <th>0</th>\n",
       "      <td>2019-03-23 20:21:09</td>\n",
       "      <td>2019-03-23 20:27:24</td>\n",
       "      <td>1.60</td>\n",
       "      <td>12.95</td>\n",
       "    </tr>\n",
       "    <tr>\n",
       "      <th>1</th>\n",
       "      <td>2019-03-04 16:11:55</td>\n",
       "      <td>2019-03-04 16:19:00</td>\n",
       "      <td>0.79</td>\n",
       "      <td>9.30</td>\n",
       "    </tr>\n",
       "    <tr>\n",
       "      <th>2</th>\n",
       "      <td>2019-03-27 17:53:01</td>\n",
       "      <td>2019-03-27 18:00:25</td>\n",
       "      <td>1.37</td>\n",
       "      <td>14.16</td>\n",
       "    </tr>\n",
       "    <tr>\n",
       "      <th>3</th>\n",
       "      <td>2019-03-10 01:23:59</td>\n",
       "      <td>2019-03-10 01:49:51</td>\n",
       "      <td>7.70</td>\n",
       "      <td>36.95</td>\n",
       "    </tr>\n",
       "    <tr>\n",
       "      <th>4</th>\n",
       "      <td>2019-03-30 13:27:42</td>\n",
       "      <td>2019-03-30 13:37:14</td>\n",
       "      <td>2.16</td>\n",
       "      <td>13.40</td>\n",
       "    </tr>\n",
       "  </tbody>\n",
       "</table>\n",
       "</div>"
      ]
     },
     "execution_count": 125,
     "metadata": {},
     "output_type": "execute_result"
    }
   ],
   "execution_count": 125
  },
  {
   "metadata": {
    "ExecuteTime": {
     "end_time": "2024-11-19T17:36:28.027472Z",
     "start_time": "2024-11-19T17:36:28.015730Z"
    }
   },
   "cell_type": "code",
   "source": [
    "taxis['travel_time'] = taxis['dropoff'] - taxis['pickup']\n",
    "taxis.head()"
   ],
   "outputs": [
    {
     "data": {
      "text/plain": [
       "               pickup             dropoff  distance  total     travel_time\n",
       "0 2019-03-23 20:21:09 2019-03-23 20:27:24      1.60  12.95 0 days 00:06:15\n",
       "1 2019-03-04 16:11:55 2019-03-04 16:19:00      0.79   9.30 0 days 00:07:05\n",
       "2 2019-03-27 17:53:01 2019-03-27 18:00:25      1.37  14.16 0 days 00:07:24\n",
       "3 2019-03-10 01:23:59 2019-03-10 01:49:51      7.70  36.95 0 days 00:25:52\n",
       "4 2019-03-30 13:27:42 2019-03-30 13:37:14      2.16  13.40 0 days 00:09:32"
      ],
      "text/html": [
       "<div>\n",
       "<style scoped>\n",
       "    .dataframe tbody tr th:only-of-type {\n",
       "        vertical-align: middle;\n",
       "    }\n",
       "\n",
       "    .dataframe tbody tr th {\n",
       "        vertical-align: top;\n",
       "    }\n",
       "\n",
       "    .dataframe thead th {\n",
       "        text-align: right;\n",
       "    }\n",
       "</style>\n",
       "<table border=\"1\" class=\"dataframe\">\n",
       "  <thead>\n",
       "    <tr style=\"text-align: right;\">\n",
       "      <th></th>\n",
       "      <th>pickup</th>\n",
       "      <th>dropoff</th>\n",
       "      <th>distance</th>\n",
       "      <th>total</th>\n",
       "      <th>travel_time</th>\n",
       "    </tr>\n",
       "  </thead>\n",
       "  <tbody>\n",
       "    <tr>\n",
       "      <th>0</th>\n",
       "      <td>2019-03-23 20:21:09</td>\n",
       "      <td>2019-03-23 20:27:24</td>\n",
       "      <td>1.60</td>\n",
       "      <td>12.95</td>\n",
       "      <td>0 days 00:06:15</td>\n",
       "    </tr>\n",
       "    <tr>\n",
       "      <th>1</th>\n",
       "      <td>2019-03-04 16:11:55</td>\n",
       "      <td>2019-03-04 16:19:00</td>\n",
       "      <td>0.79</td>\n",
       "      <td>9.30</td>\n",
       "      <td>0 days 00:07:05</td>\n",
       "    </tr>\n",
       "    <tr>\n",
       "      <th>2</th>\n",
       "      <td>2019-03-27 17:53:01</td>\n",
       "      <td>2019-03-27 18:00:25</td>\n",
       "      <td>1.37</td>\n",
       "      <td>14.16</td>\n",
       "      <td>0 days 00:07:24</td>\n",
       "    </tr>\n",
       "    <tr>\n",
       "      <th>3</th>\n",
       "      <td>2019-03-10 01:23:59</td>\n",
       "      <td>2019-03-10 01:49:51</td>\n",
       "      <td>7.70</td>\n",
       "      <td>36.95</td>\n",
       "      <td>0 days 00:25:52</td>\n",
       "    </tr>\n",
       "    <tr>\n",
       "      <th>4</th>\n",
       "      <td>2019-03-30 13:27:42</td>\n",
       "      <td>2019-03-30 13:37:14</td>\n",
       "      <td>2.16</td>\n",
       "      <td>13.40</td>\n",
       "      <td>0 days 00:09:32</td>\n",
       "    </tr>\n",
       "  </tbody>\n",
       "</table>\n",
       "</div>"
      ]
     },
     "execution_count": 126,
     "metadata": {},
     "output_type": "execute_result"
    }
   ],
   "execution_count": 126
  },
  {
   "metadata": {},
   "cell_type": "markdown",
   "source": [
    "Aufgabe 8: Entferne die dropoff-Spalte und erhebe die pickup-Spalte zum Index und gruppiere die Daten nach Tag (eine Zeile pro Tag), um die tägliche Gesamtdistanz sowie Gesamtfahrtzeit der Taxis zu erhalten. Speichere das Ergebnis als 'daily_business'.\n",
    "\n",
    "Bonus: Wandle die Spalte travel_time so um, dass sie dort Stunden enthält."
   ]
  },
  {
   "cell_type": "code",
   "metadata": {
    "ExecuteTime": {
     "end_time": "2024-11-19T17:36:28.265267Z",
     "start_time": "2024-11-19T17:36:28.251873Z"
    }
   },
   "source": [
    "taxis.drop('dropoff', axis=1, inplace=True)\n",
    "taxis.set_index('pickup', inplace=True)\n",
    "taxis.head()"
   ],
   "outputs": [
    {
     "data": {
      "text/plain": [
       "                     distance  total     travel_time\n",
       "pickup                                              \n",
       "2019-03-23 20:21:09      1.60  12.95 0 days 00:06:15\n",
       "2019-03-04 16:11:55      0.79   9.30 0 days 00:07:05\n",
       "2019-03-27 17:53:01      1.37  14.16 0 days 00:07:24\n",
       "2019-03-10 01:23:59      7.70  36.95 0 days 00:25:52\n",
       "2019-03-30 13:27:42      2.16  13.40 0 days 00:09:32"
      ],
      "text/html": [
       "<div>\n",
       "<style scoped>\n",
       "    .dataframe tbody tr th:only-of-type {\n",
       "        vertical-align: middle;\n",
       "    }\n",
       "\n",
       "    .dataframe tbody tr th {\n",
       "        vertical-align: top;\n",
       "    }\n",
       "\n",
       "    .dataframe thead th {\n",
       "        text-align: right;\n",
       "    }\n",
       "</style>\n",
       "<table border=\"1\" class=\"dataframe\">\n",
       "  <thead>\n",
       "    <tr style=\"text-align: right;\">\n",
       "      <th></th>\n",
       "      <th>distance</th>\n",
       "      <th>total</th>\n",
       "      <th>travel_time</th>\n",
       "    </tr>\n",
       "    <tr>\n",
       "      <th>pickup</th>\n",
       "      <th></th>\n",
       "      <th></th>\n",
       "      <th></th>\n",
       "    </tr>\n",
       "  </thead>\n",
       "  <tbody>\n",
       "    <tr>\n",
       "      <th>2019-03-23 20:21:09</th>\n",
       "      <td>1.60</td>\n",
       "      <td>12.95</td>\n",
       "      <td>0 days 00:06:15</td>\n",
       "    </tr>\n",
       "    <tr>\n",
       "      <th>2019-03-04 16:11:55</th>\n",
       "      <td>0.79</td>\n",
       "      <td>9.30</td>\n",
       "      <td>0 days 00:07:05</td>\n",
       "    </tr>\n",
       "    <tr>\n",
       "      <th>2019-03-27 17:53:01</th>\n",
       "      <td>1.37</td>\n",
       "      <td>14.16</td>\n",
       "      <td>0 days 00:07:24</td>\n",
       "    </tr>\n",
       "    <tr>\n",
       "      <th>2019-03-10 01:23:59</th>\n",
       "      <td>7.70</td>\n",
       "      <td>36.95</td>\n",
       "      <td>0 days 00:25:52</td>\n",
       "    </tr>\n",
       "    <tr>\n",
       "      <th>2019-03-30 13:27:42</th>\n",
       "      <td>2.16</td>\n",
       "      <td>13.40</td>\n",
       "      <td>0 days 00:09:32</td>\n",
       "    </tr>\n",
       "  </tbody>\n",
       "</table>\n",
       "</div>"
      ]
     },
     "execution_count": 127,
     "metadata": {},
     "output_type": "execute_result"
    }
   ],
   "execution_count": 127
  },
  {
   "metadata": {
    "ExecuteTime": {
     "end_time": "2024-11-19T17:36:28.639283Z",
     "start_time": "2024-11-19T17:36:28.623712Z"
    }
   },
   "cell_type": "code",
   "source": [
    "daily_business = taxis.resample('D')[['total', 'distance', 'travel_time']].sum()\n",
    "daily_business.head()"
   ],
   "outputs": [
    {
     "data": {
      "text/plain": [
       "              total  distance     travel_time\n",
       "pickup                                       \n",
       "2019-02-28     6.30      0.90 0 days 00:03:32\n",
       "2019-03-01  4213.83    640.29 2 days 08:05:48\n",
       "2019-03-02  3319.02    548.70 1 days 17:58:06\n",
       "2019-03-03  3027.32    554.04 1 days 13:40:43\n",
       "2019-03-04  3269.08    583.81 1 days 13:44:08"
      ],
      "text/html": [
       "<div>\n",
       "<style scoped>\n",
       "    .dataframe tbody tr th:only-of-type {\n",
       "        vertical-align: middle;\n",
       "    }\n",
       "\n",
       "    .dataframe tbody tr th {\n",
       "        vertical-align: top;\n",
       "    }\n",
       "\n",
       "    .dataframe thead th {\n",
       "        text-align: right;\n",
       "    }\n",
       "</style>\n",
       "<table border=\"1\" class=\"dataframe\">\n",
       "  <thead>\n",
       "    <tr style=\"text-align: right;\">\n",
       "      <th></th>\n",
       "      <th>total</th>\n",
       "      <th>distance</th>\n",
       "      <th>travel_time</th>\n",
       "    </tr>\n",
       "    <tr>\n",
       "      <th>pickup</th>\n",
       "      <th></th>\n",
       "      <th></th>\n",
       "      <th></th>\n",
       "    </tr>\n",
       "  </thead>\n",
       "  <tbody>\n",
       "    <tr>\n",
       "      <th>2019-02-28</th>\n",
       "      <td>6.30</td>\n",
       "      <td>0.90</td>\n",
       "      <td>0 days 00:03:32</td>\n",
       "    </tr>\n",
       "    <tr>\n",
       "      <th>2019-03-01</th>\n",
       "      <td>4213.83</td>\n",
       "      <td>640.29</td>\n",
       "      <td>2 days 08:05:48</td>\n",
       "    </tr>\n",
       "    <tr>\n",
       "      <th>2019-03-02</th>\n",
       "      <td>3319.02</td>\n",
       "      <td>548.70</td>\n",
       "      <td>1 days 17:58:06</td>\n",
       "    </tr>\n",
       "    <tr>\n",
       "      <th>2019-03-03</th>\n",
       "      <td>3027.32</td>\n",
       "      <td>554.04</td>\n",
       "      <td>1 days 13:40:43</td>\n",
       "    </tr>\n",
       "    <tr>\n",
       "      <th>2019-03-04</th>\n",
       "      <td>3269.08</td>\n",
       "      <td>583.81</td>\n",
       "      <td>1 days 13:44:08</td>\n",
       "    </tr>\n",
       "  </tbody>\n",
       "</table>\n",
       "</div>"
      ]
     },
     "execution_count": 128,
     "metadata": {},
     "output_type": "execute_result"
    }
   ],
   "execution_count": 128
  },
  {
   "metadata": {
    "ExecuteTime": {
     "end_time": "2024-11-19T17:36:28.848163Z",
     "start_time": "2024-11-19T17:36:28.838546Z"
    }
   },
   "cell_type": "code",
   "source": [
    "daily_business['travel_time'] = daily_business['travel_time'].dt.total_seconds() / 3600\n",
    "daily_business.head()"
   ],
   "outputs": [
    {
     "data": {
      "text/plain": [
       "              total  distance  travel_time\n",
       "pickup                                    \n",
       "2019-02-28     6.30      0.90     0.058889\n",
       "2019-03-01  4213.83    640.29    56.096667\n",
       "2019-03-02  3319.02    548.70    41.968333\n",
       "2019-03-03  3027.32    554.04    37.678611\n",
       "2019-03-04  3269.08    583.81    37.735556"
      ],
      "text/html": [
       "<div>\n",
       "<style scoped>\n",
       "    .dataframe tbody tr th:only-of-type {\n",
       "        vertical-align: middle;\n",
       "    }\n",
       "\n",
       "    .dataframe tbody tr th {\n",
       "        vertical-align: top;\n",
       "    }\n",
       "\n",
       "    .dataframe thead th {\n",
       "        text-align: right;\n",
       "    }\n",
       "</style>\n",
       "<table border=\"1\" class=\"dataframe\">\n",
       "  <thead>\n",
       "    <tr style=\"text-align: right;\">\n",
       "      <th></th>\n",
       "      <th>total</th>\n",
       "      <th>distance</th>\n",
       "      <th>travel_time</th>\n",
       "    </tr>\n",
       "    <tr>\n",
       "      <th>pickup</th>\n",
       "      <th></th>\n",
       "      <th></th>\n",
       "      <th></th>\n",
       "    </tr>\n",
       "  </thead>\n",
       "  <tbody>\n",
       "    <tr>\n",
       "      <th>2019-02-28</th>\n",
       "      <td>6.30</td>\n",
       "      <td>0.90</td>\n",
       "      <td>0.058889</td>\n",
       "    </tr>\n",
       "    <tr>\n",
       "      <th>2019-03-01</th>\n",
       "      <td>4213.83</td>\n",
       "      <td>640.29</td>\n",
       "      <td>56.096667</td>\n",
       "    </tr>\n",
       "    <tr>\n",
       "      <th>2019-03-02</th>\n",
       "      <td>3319.02</td>\n",
       "      <td>548.70</td>\n",
       "      <td>41.968333</td>\n",
       "    </tr>\n",
       "    <tr>\n",
       "      <th>2019-03-03</th>\n",
       "      <td>3027.32</td>\n",
       "      <td>554.04</td>\n",
       "      <td>37.678611</td>\n",
       "    </tr>\n",
       "    <tr>\n",
       "      <th>2019-03-04</th>\n",
       "      <td>3269.08</td>\n",
       "      <td>583.81</td>\n",
       "      <td>37.735556</td>\n",
       "    </tr>\n",
       "  </tbody>\n",
       "</table>\n",
       "</div>"
      ]
     },
     "execution_count": 129,
     "metadata": {},
     "output_type": "execute_result"
    }
   ],
   "execution_count": 129
  },
  {
   "metadata": {},
   "cell_type": "markdown",
   "source": "Aufgabe 9: Slice von '2019-03-04' bis '2019-03-10' aus daily_business und nenne den Slice one_week. Ordne nun den einzelnen Daten die Namen der Wochentage zu und plotte ein Liniendiagramm mit dem täglichen 'total' und Markern, um die Datenpunkte besser zu sehen."
  },
  {
   "metadata": {
    "ExecuteTime": {
     "end_time": "2024-11-19T17:36:29.011516Z",
     "start_time": "2024-11-19T17:36:29.001065Z"
    }
   },
   "cell_type": "code",
   "source": [
    "one_week = daily_business.loc['2019-03-04':'2019-03-10']\n",
    "one_week"
   ],
   "outputs": [
    {
     "data": {
      "text/plain": [
       "              total  distance  travel_time\n",
       "pickup                                    \n",
       "2019-03-04  3269.08    583.81    37.735556\n",
       "2019-03-05  4377.38    716.63    60.057778\n",
       "2019-03-06  4673.61    716.86    63.051389\n",
       "2019-03-07  4115.70    637.01    57.634722\n",
       "2019-03-08  4524.21    728.39    58.474167\n",
       "2019-03-09  3785.80    662.99    51.400833\n",
       "2019-03-10  3198.69    520.40    36.769167"
      ],
      "text/html": [
       "<div>\n",
       "<style scoped>\n",
       "    .dataframe tbody tr th:only-of-type {\n",
       "        vertical-align: middle;\n",
       "    }\n",
       "\n",
       "    .dataframe tbody tr th {\n",
       "        vertical-align: top;\n",
       "    }\n",
       "\n",
       "    .dataframe thead th {\n",
       "        text-align: right;\n",
       "    }\n",
       "</style>\n",
       "<table border=\"1\" class=\"dataframe\">\n",
       "  <thead>\n",
       "    <tr style=\"text-align: right;\">\n",
       "      <th></th>\n",
       "      <th>total</th>\n",
       "      <th>distance</th>\n",
       "      <th>travel_time</th>\n",
       "    </tr>\n",
       "    <tr>\n",
       "      <th>pickup</th>\n",
       "      <th></th>\n",
       "      <th></th>\n",
       "      <th></th>\n",
       "    </tr>\n",
       "  </thead>\n",
       "  <tbody>\n",
       "    <tr>\n",
       "      <th>2019-03-04</th>\n",
       "      <td>3269.08</td>\n",
       "      <td>583.81</td>\n",
       "      <td>37.735556</td>\n",
       "    </tr>\n",
       "    <tr>\n",
       "      <th>2019-03-05</th>\n",
       "      <td>4377.38</td>\n",
       "      <td>716.63</td>\n",
       "      <td>60.057778</td>\n",
       "    </tr>\n",
       "    <tr>\n",
       "      <th>2019-03-06</th>\n",
       "      <td>4673.61</td>\n",
       "      <td>716.86</td>\n",
       "      <td>63.051389</td>\n",
       "    </tr>\n",
       "    <tr>\n",
       "      <th>2019-03-07</th>\n",
       "      <td>4115.70</td>\n",
       "      <td>637.01</td>\n",
       "      <td>57.634722</td>\n",
       "    </tr>\n",
       "    <tr>\n",
       "      <th>2019-03-08</th>\n",
       "      <td>4524.21</td>\n",
       "      <td>728.39</td>\n",
       "      <td>58.474167</td>\n",
       "    </tr>\n",
       "    <tr>\n",
       "      <th>2019-03-09</th>\n",
       "      <td>3785.80</td>\n",
       "      <td>662.99</td>\n",
       "      <td>51.400833</td>\n",
       "    </tr>\n",
       "    <tr>\n",
       "      <th>2019-03-10</th>\n",
       "      <td>3198.69</td>\n",
       "      <td>520.40</td>\n",
       "      <td>36.769167</td>\n",
       "    </tr>\n",
       "  </tbody>\n",
       "</table>\n",
       "</div>"
      ]
     },
     "execution_count": 130,
     "metadata": {},
     "output_type": "execute_result"
    }
   ],
   "execution_count": 130
  },
  {
   "metadata": {
    "ExecuteTime": {
     "end_time": "2024-11-19T17:36:29.238510Z",
     "start_time": "2024-11-19T17:36:29.229596Z"
    }
   },
   "cell_type": "code",
   "source": [
    "one_week.set_index(one_week.index.day_name(), inplace=True)\n",
    "one_week"
   ],
   "outputs": [
    {
     "data": {
      "text/plain": [
       "             total  distance  travel_time\n",
       "pickup                                   \n",
       "Monday     3269.08    583.81    37.735556\n",
       "Tuesday    4377.38    716.63    60.057778\n",
       "Wednesday  4673.61    716.86    63.051389\n",
       "Thursday   4115.70    637.01    57.634722\n",
       "Friday     4524.21    728.39    58.474167\n",
       "Saturday   3785.80    662.99    51.400833\n",
       "Sunday     3198.69    520.40    36.769167"
      ],
      "text/html": [
       "<div>\n",
       "<style scoped>\n",
       "    .dataframe tbody tr th:only-of-type {\n",
       "        vertical-align: middle;\n",
       "    }\n",
       "\n",
       "    .dataframe tbody tr th {\n",
       "        vertical-align: top;\n",
       "    }\n",
       "\n",
       "    .dataframe thead th {\n",
       "        text-align: right;\n",
       "    }\n",
       "</style>\n",
       "<table border=\"1\" class=\"dataframe\">\n",
       "  <thead>\n",
       "    <tr style=\"text-align: right;\">\n",
       "      <th></th>\n",
       "      <th>total</th>\n",
       "      <th>distance</th>\n",
       "      <th>travel_time</th>\n",
       "    </tr>\n",
       "    <tr>\n",
       "      <th>pickup</th>\n",
       "      <th></th>\n",
       "      <th></th>\n",
       "      <th></th>\n",
       "    </tr>\n",
       "  </thead>\n",
       "  <tbody>\n",
       "    <tr>\n",
       "      <th>Monday</th>\n",
       "      <td>3269.08</td>\n",
       "      <td>583.81</td>\n",
       "      <td>37.735556</td>\n",
       "    </tr>\n",
       "    <tr>\n",
       "      <th>Tuesday</th>\n",
       "      <td>4377.38</td>\n",
       "      <td>716.63</td>\n",
       "      <td>60.057778</td>\n",
       "    </tr>\n",
       "    <tr>\n",
       "      <th>Wednesday</th>\n",
       "      <td>4673.61</td>\n",
       "      <td>716.86</td>\n",
       "      <td>63.051389</td>\n",
       "    </tr>\n",
       "    <tr>\n",
       "      <th>Thursday</th>\n",
       "      <td>4115.70</td>\n",
       "      <td>637.01</td>\n",
       "      <td>57.634722</td>\n",
       "    </tr>\n",
       "    <tr>\n",
       "      <th>Friday</th>\n",
       "      <td>4524.21</td>\n",
       "      <td>728.39</td>\n",
       "      <td>58.474167</td>\n",
       "    </tr>\n",
       "    <tr>\n",
       "      <th>Saturday</th>\n",
       "      <td>3785.80</td>\n",
       "      <td>662.99</td>\n",
       "      <td>51.400833</td>\n",
       "    </tr>\n",
       "    <tr>\n",
       "      <th>Sunday</th>\n",
       "      <td>3198.69</td>\n",
       "      <td>520.40</td>\n",
       "      <td>36.769167</td>\n",
       "    </tr>\n",
       "  </tbody>\n",
       "</table>\n",
       "</div>"
      ]
     },
     "execution_count": 131,
     "metadata": {},
     "output_type": "execute_result"
    }
   ],
   "execution_count": 131
  },
  {
   "metadata": {
    "ExecuteTime": {
     "end_time": "2024-11-19T17:36:29.640272Z",
     "start_time": "2024-11-19T17:36:29.449926Z"
    }
   },
   "cell_type": "code",
   "source": "one_week.plot(y='total', marker='o');",
   "outputs": [
    {
     "data": {
      "text/plain": [
       "<Figure size 640x480 with 1 Axes>"
      ],
      "image/png": "[encoded data removed]"
     },
     "metadata": {},
     "output_type": "display_data"
    }
   ],
   "execution_count": 132
  },
  {
   "metadata": {},
   "cell_type": "markdown",
   "source": "Aufgabe 10: Tob dich hier gerne weiter aus."
  },
  {
   "metadata": {
    "ExecuteTime": {
     "end_time": "2024-11-19T17:36:29.708706Z",
     "start_time": "2024-11-19T17:36:29.706355Z"
    }
   },
   "cell_type": "code",
   "source": "",
   "outputs": [],
   "execution_count": null
  },
  {
   "metadata": {
    "ExecuteTime": {
     "end_time": "2024-11-19T17:36:29.785746Z",
     "start_time": "2024-11-19T17:36:29.782718Z"
    }
   },
   "cell_type": "code",
   "source": "",
   "outputs": [],
   "execution_count": null
  },
  {
   "metadata": {
    "ExecuteTime": {
     "end_time": "2024-11-19T17:36:29.839853Z",
     "start_time": "2024-11-19T17:36:29.835870Z"
    }
   },
   "cell_type": "code",
   "source": "",
   "outputs": [],
   "execution_count": null
  }
 ],
 "metadata": {
  "kernelspec": {
   "display_name": "kurs6",
   "language": "python",
   "name": "python3"
  },
  "language_info": {
   "codemirror_mode": {
    "name": "ipython",
    "version": 3
   },
   "file_extension": ".py",
   "mimetype": "text/x-python",
   "name": "python",
   "nbconvert_exporter": "python",
   "pygments_lexer": "ipython3",
   "version": "3.10.13"
  }
 },
 "nbformat": 4,
 "nbformat_minor": 2
}
