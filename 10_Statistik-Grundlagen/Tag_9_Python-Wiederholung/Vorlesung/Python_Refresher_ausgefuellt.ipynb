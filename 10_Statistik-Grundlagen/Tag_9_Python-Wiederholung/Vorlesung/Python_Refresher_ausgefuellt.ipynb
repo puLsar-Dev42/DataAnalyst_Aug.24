{
 "cells": [
  {
   "cell_type": "code",
   "source": [
    "import random\n",
    "from calendar import monthrange\n",
    "from collections import Counter\n",
    "from datetime import datetime, date\n",
    "from string import punctuation\n",
    "from time import sleep\n",
    "\n",
    "import pytz"
   ],
   "metadata": {
    "collapsed": false,
    "ExecuteTime": {
     "end_time": "2025-02-14T11:17:55.188789Z",
     "start_time": "2025-02-14T11:17:55.183203Z"
    }
   },
   "id": "e211590c8cdcf7d6",
   "outputs": [],
   "execution_count": 165
  },
  {
   "metadata": {},
   "cell_type": "markdown",
   "source": "### For-Loop und List Comprehensions",
   "id": "38e6ee19625c86c"
  },
  {
   "metadata": {
    "ExecuteTime": {
     "end_time": "2025-02-14T07:37:59.456513Z",
     "start_time": "2025-02-14T07:37:59.451627Z"
    }
   },
   "cell_type": "code",
   "source": [
    "strange_list = ['Anna', 'Tina', 3.7, True, 4, {'Pikachu': '500 HP'}, 'Tina',\n",
    "                ['Hallo', 'wo', 'zum', 'Teufel', 'bin', 'ich?',\n",
    "                 ['Die Antwort ist', [], 42, 'hab', 'ich', 'gehört']]]"
   ],
   "id": "91487755e3579b3a",
   "outputs": [],
   "execution_count": 2
  },
  {
   "metadata": {
    "collapsed": false,
    "ExecuteTime": {
     "end_time": "2025-02-14T07:45:20.003777Z",
     "start_time": "2025-02-14T07:45:19.998508Z"
    }
   },
   "cell_type": "code",
   "source": [
    "# Finde mittels for-Schleife alle Vorkommnisse von Tina mit zugehörigem Index:\n",
    "i = -1\n",
    "\n",
    "for element in strange_list:\n",
    "    i += 1\n",
    "    if element == 'Tina':\n",
    "        print(f'An Position {i} wurde eine Tina gefunden.')"
   ],
   "id": "5c5ef9b67a25ffe9",
   "outputs": [
    {
     "name": "stdout",
     "output_type": "stream",
     "text": [
      "An Position 1 wurde eine Tina gefunden.\n",
      "An Position 6 wurde eine Tina gefunden.\n"
     ]
    }
   ],
   "execution_count": 4
  },
  {
   "metadata": {
    "ExecuteTime": {
     "end_time": "2025-02-14T08:38:09.847827Z",
     "start_time": "2025-02-14T08:38:09.843617Z"
    }
   },
   "cell_type": "code",
   "source": [
    "# Enumerate erzeugt Tupel, die aus 1) Indexposition und 2) dem eigentlich Wert bestehen:\n",
    "for tup in enumerate(strange_list):\n",
    "    print(tup)"
   ],
   "id": "2c48833191f453f1",
   "outputs": [
    {
     "name": "stdout",
     "output_type": "stream",
     "text": [
      "(0, 'Anna')\n",
      "(1, 'Tina')\n",
      "(2, 3.7)\n",
      "(3, True)\n",
      "(4, 4)\n",
      "(5, {'Pikachu': '500 HP'})\n",
      "(6, 'Tina')\n",
      "(7, ['Hallo', 'wo', 'zum', 'Teufel', 'bin', 'ich?', ['Die Antwort ist', [], 42, 'hab', 'ich', 'gehört']])\n"
     ]
    }
   ],
   "execution_count": 37
  },
  {
   "metadata": {
    "ExecuteTime": {
     "end_time": "2025-02-14T08:39:28.407355Z",
     "start_time": "2025-02-14T08:39:28.403469Z"
    }
   },
   "cell_type": "code",
   "source": [
    "for tup in enumerate(strange_list):\n",
    "    print('Indexposition:', tup[0])\n",
    "    print('Wert:', tup[1])"
   ],
   "id": "74f140ed08a65945",
   "outputs": [
    {
     "name": "stdout",
     "output_type": "stream",
     "text": [
      "Indexposition: 0\n",
      "Wert: Anna\n",
      "Indexposition: 1\n",
      "Wert: Tina\n",
      "Indexposition: 2\n",
      "Wert: 3.7\n",
      "Indexposition: 3\n",
      "Wert: True\n",
      "Indexposition: 4\n",
      "Wert: 4\n",
      "Indexposition: 5\n",
      "Wert: {'Pikachu': '500 HP'}\n",
      "Indexposition: 6\n",
      "Wert: Tina\n",
      "Indexposition: 7\n",
      "Wert: ['Hallo', 'wo', 'zum', 'Teufel', 'bin', 'ich?', ['Die Antwort ist', [], 42, 'hab', 'ich', 'gehört']]\n"
     ]
    }
   ],
   "execution_count": 39
  },
  {
   "metadata": {
    "ExecuteTime": {
     "end_time": "2025-02-14T08:41:18.500820Z",
     "start_time": "2025-02-14T08:41:18.496289Z"
    }
   },
   "cell_type": "code",
   "source": [
    "# Wir können aber die entstehenden Tupel auch direkt auf Variablen verteilen\n",
    "# Man nennt das tuple unpacking (geht auch mit anderen Iterables):\n",
    "for i, value in enumerate(strange_list):\n",
    "    print('Index:', i)\n",
    "    print('Wert:', value)"
   ],
   "id": "6d3f9e115044e479",
   "outputs": [
    {
     "name": "stdout",
     "output_type": "stream",
     "text": [
      "Index: 0\n",
      "Wert: Anna\n",
      "Index: 1\n",
      "Wert: Tina\n",
      "Index: 2\n",
      "Wert: 3.7\n",
      "Index: 3\n",
      "Wert: True\n",
      "Index: 4\n",
      "Wert: 4\n",
      "Index: 5\n",
      "Wert: {'Pikachu': '500 HP'}\n",
      "Index: 6\n",
      "Wert: Tina\n",
      "Index: 7\n",
      "Wert: ['Hallo', 'wo', 'zum', 'Teufel', 'bin', 'ich?', ['Die Antwort ist', [], 42, 'hab', 'ich', 'gehört']]\n"
     ]
    }
   ],
   "execution_count": 41
  },
  {
   "metadata": {
    "ExecuteTime": {
     "end_time": "2025-02-14T07:46:45.357596Z",
     "start_time": "2025-02-14T07:46:45.352734Z"
    }
   },
   "cell_type": "code",
   "source": [
    "for i, element in enumerate(strange_list):\n",
    "    if element == 'Tina':\n",
    "        print(f'An Position {i} wurde eine Tina gefunden.')"
   ],
   "id": "264846969cfdbaa",
   "outputs": [
    {
     "name": "stdout",
     "output_type": "stream",
     "text": [
      "An Position 1 wurde eine Tina gefunden.\n",
      "An Position 6 wurde eine Tina gefunden.\n"
     ]
    }
   ],
   "execution_count": 6
  },
  {
   "metadata": {
    "ExecuteTime": {
     "end_time": "2025-02-14T07:52:14.098575Z",
     "start_time": "2025-02-14T07:52:14.091900Z"
    }
   },
   "cell_type": "code",
   "source": [
    "# Finde mittels list comprehension dasselbe:\n",
    "tinas = [(i, element) for i, element in enumerate(strange_list) if\n",
    "         element == 'Tina']\n",
    "tinas"
   ],
   "id": "3a9fe2ec748b9db8",
   "outputs": [
    {
     "data": {
      "text/plain": [
       "[(1, 'Tina'), (6, 'Tina')]"
      ]
     },
     "execution_count": 11,
     "metadata": {},
     "output_type": "execute_result"
    }
   ],
   "execution_count": 11
  },
  {
   "metadata": {
    "ExecuteTime": {
     "end_time": "2025-02-14T07:54:34.014373Z",
     "start_time": "2025-02-14T07:54:34.009160Z"
    }
   },
   "cell_type": "code",
   "source": [
    "# Dasselbe mit builtin filter:\n",
    "tinas = list(filter(lambda x: x[1] == 'Tina', enumerate(strange_list)))\n",
    "tinas"
   ],
   "id": "d7afaf4059aa2682",
   "outputs": [
    {
     "data": {
      "text/plain": [
       "[(1, 'Tina'), (6, 'Tina')]"
      ]
     },
     "execution_count": 14,
     "metadata": {},
     "output_type": "execute_result"
    }
   ],
   "execution_count": 14
  },
  {
   "metadata": {
    "ExecuteTime": {
     "end_time": "2025-02-14T07:56:07.231772Z",
     "start_time": "2025-02-14T07:56:07.226599Z"
    }
   },
   "cell_type": "code",
   "source": [
    "# Zahlen zufällig würfeln:\n",
    "random.seed(42)\n",
    "numbers = [random.randint(1, 100) for num in range(100)]\n",
    "print(numbers)"
   ],
   "id": "b622cf105da839e0",
   "outputs": [
    {
     "name": "stdout",
     "output_type": "stream",
     "text": [
      "[82, 15, 4, 95, 36, 32, 29, 18, 95, 14, 87, 95, 70, 12, 76, 55, 5, 4, 12, 28, 30, 65, 78, 4, 72, 26, 92, 84, 90, 70, 54, 29, 58, 76, 36, 1, 98, 21, 90, 55, 44, 36, 20, 28, 98, 44, 14, 12, 49, 13, 46, 45, 78, 34, 6, 94, 59, 69, 16, 49, 11, 71, 38, 81, 80, 47, 74, 25, 91, 9, 6, 85, 30, 99, 38, 11, 30, 13, 49, 36, 59, 82, 47, 21, 48, 46, 27, 86, 35, 90, 88, 83, 10, 78, 82, 22, 69, 94, 32, 21]\n"
     ]
    }
   ],
   "execution_count": 25
  },
  {
   "metadata": {
    "ExecuteTime": {
     "end_time": "2025-02-14T08:03:00.890838Z",
     "start_time": "2025-02-14T08:03:00.885207Z"
    }
   },
   "cell_type": "code",
   "source": "15 % 7",
   "id": "ce33b1dff642ce0f",
   "outputs": [
    {
     "data": {
      "text/plain": [
       "1"
      ]
     },
     "execution_count": 26,
     "metadata": {},
     "output_type": "execute_result"
    }
   ],
   "execution_count": 26
  },
  {
   "metadata": {
    "ExecuteTime": {
     "end_time": "2025-02-14T08:03:08.069077Z",
     "start_time": "2025-02-14T08:03:08.063895Z"
    }
   },
   "cell_type": "code",
   "source": "70 % 7",
   "id": "f8ae2efa6d489699",
   "outputs": [
    {
     "data": {
      "text/plain": [
       "0"
      ]
     },
     "execution_count": 27,
     "metadata": {},
     "output_type": "execute_result"
    }
   ],
   "execution_count": 27
  },
  {
   "metadata": {
    "ExecuteTime": {
     "end_time": "2025-02-14T08:04:07.132332Z",
     "start_time": "2025-02-14T08:04:07.128936Z"
    }
   },
   "cell_type": "code",
   "source": [
    "# Filtere alle durch 7 teilbaren Zahlen heraus. Arbeite mit einer for-Schleife:\n",
    "for num in numbers:\n",
    "    if num % 7 == 0:  # prüft, ob Zahl restlos durch sieben teilbar ist\n",
    "        print(num)"
   ],
   "id": "9fdcf9667dfa45f",
   "outputs": [
    {
     "name": "stdout",
     "output_type": "stream",
     "text": [
      "14\n",
      "70\n",
      "28\n",
      "84\n",
      "70\n",
      "98\n",
      "21\n",
      "28\n",
      "98\n",
      "14\n",
      "49\n",
      "49\n",
      "91\n",
      "49\n",
      "21\n",
      "35\n",
      "21\n"
     ]
    }
   ],
   "execution_count": 28
  },
  {
   "metadata": {
    "ExecuteTime": {
     "end_time": "2025-02-14T08:13:56.746781Z",
     "start_time": "2025-02-14T08:13:56.742091Z"
    }
   },
   "cell_type": "code",
   "source": [
    "# For-Schleife mit Liste als Ergebnis:\n",
    "divisible_by_seven = []\n",
    "\n",
    "for num in numbers:\n",
    "    if num % 7 == 0:\n",
    "        divisible_by_seven.append(num)\n",
    "\n",
    "print(divisible_by_seven)"
   ],
   "id": "9078e4012eb3aea5",
   "outputs": [
    {
     "name": "stdout",
     "output_type": "stream",
     "text": [
      "[14, 70, 28, 84, 70, 98, 21, 28, 98, 14, 49, 49, 91, 49, 21, 35, 21]\n"
     ]
    }
   ],
   "execution_count": 36
  },
  {
   "metadata": {
    "ExecuteTime": {
     "end_time": "2025-02-14T08:06:28.136012Z",
     "start_time": "2025-02-14T08:06:28.130064Z"
    }
   },
   "cell_type": "code",
   "source": [
    "# Dasselbe mit einer list comprehension:\n",
    "divisible_by_seven = [num for num in numbers if num % 7 == 0]\n",
    "divisible_by_seven"
   ],
   "id": "9d0e3e2fac5c7949",
   "outputs": [
    {
     "data": {
      "text/plain": [
       "[14, 70, 28, 84, 70, 98, 21, 28, 98, 14, 49, 49, 91, 49, 21, 35, 21]"
      ]
     },
     "execution_count": 30,
     "metadata": {},
     "output_type": "execute_result"
    }
   ],
   "execution_count": 30
  },
  {
   "metadata": {
    "ExecuteTime": {
     "end_time": "2025-02-14T08:10:25.722568Z",
     "start_time": "2025-02-14T08:10:25.716458Z"
    }
   },
   "cell_type": "code",
   "source": [
    "# Dasselbe mit filter:\n",
    "divisible_by_seven = list(filter(lambda num: num % 7 == 0, numbers))\n",
    "divisible_by_seven"
   ],
   "id": "ca8b4d02e5954be5",
   "outputs": [
    {
     "data": {
      "text/plain": [
       "[14, 70, 28, 84, 70, 98, 21, 28, 98, 14, 49, 49, 91, 49, 21, 35, 21]"
      ]
     },
     "execution_count": 33,
     "metadata": {},
     "output_type": "execute_result"
    }
   ],
   "execution_count": 33
  },
  {
   "cell_type": "code",
   "source": [
    "# ÜBUNG:\n",
    "# Gegeben ist folgende Liste: ['Anna', 'Tina', 'Anton', 'Lana', 'Anna', 'Toni', Minna', 'Lena', 'Hanna']\n",
    "# Einfach: Finde mittels For-Loop alle Positionen, an denen 'Anna' vorkommt\n",
    "# Etwas schwieriger: Finde mittels For-Loop alle Positionen von Strings, die mit 'nna' enden."
   ],
   "metadata": {
    "collapsed": false
   },
   "id": "f93e1c0fbc63e69e",
   "outputs": [],
   "execution_count": null
  },
  {
   "cell_type": "code",
   "source": [
    "names = ['Anna', 'Tina', 'Anton', 'Lana', 'Anna', 'Toni', 'Minna',\n",
    "         'Lena', 'Hanna']\n",
    "\n",
    "index_liste = []\n",
    "\n",
    "for index, name in enumerate(names):\n",
    "    if name == 'Anna':\n",
    "        index_liste.append(index)\n",
    "\n",
    "index_liste"
   ],
   "metadata": {
    "collapsed": false,
    "ExecuteTime": {
     "end_time": "2025-02-14T08:43:25.235502Z",
     "start_time": "2025-02-14T08:43:25.228869Z"
    }
   },
   "id": "73ff878049794ddf",
   "outputs": [
    {
     "data": {
      "text/plain": [
       "[0, 4]"
      ]
     },
     "execution_count": 44,
     "metadata": {},
     "output_type": "execute_result"
    }
   ],
   "execution_count": 44
  },
  {
   "metadata": {
    "ExecuteTime": {
     "end_time": "2025-02-14T08:44:33.758122Z",
     "start_time": "2025-02-14T08:44:33.752224Z"
    }
   },
   "cell_type": "code",
   "source": [
    "names = ['Anna', 'Tina', 'Anton', 'Lana', 'Anna', 'Toni', 'Minna',\n",
    "         'Lena', 'Hanna']\n",
    "\n",
    "elements = []\n",
    "\n",
    "for index, name in enumerate(names):\n",
    "    if name[-3:] == 'nna':\n",
    "        elements.append((index, name))\n",
    "\n",
    "elements"
   ],
   "id": "11e8f30e370a45bc",
   "outputs": [
    {
     "data": {
      "text/plain": [
       "[(0, 'Anna'), (4, 'Anna'), (6, 'Minna'), (8, 'Hanna')]"
      ]
     },
     "execution_count": 46,
     "metadata": {},
     "output_type": "execute_result"
    }
   ],
   "execution_count": 46
  },
  {
   "metadata": {
    "ExecuteTime": {
     "end_time": "2025-02-14T08:45:02.884118Z",
     "start_time": "2025-02-14T08:45:02.878739Z"
    }
   },
   "cell_type": "code",
   "source": [
    "names = ['Anna', 'Tina', 'Anton', 'Lana', 'Anna', 'Toni', 'Minna',\n",
    "         'Lena', 'Hanna']\n",
    "\n",
    "elements = []\n",
    "\n",
    "for index, name in enumerate(names):\n",
    "    if name.endswith('nna'):\n",
    "        elements.append((index, name))\n",
    "\n",
    "elements"
   ],
   "id": "e15d84678d4416a9",
   "outputs": [
    {
     "data": {
      "text/plain": [
       "[(0, 'Anna'), (4, 'Anna'), (6, 'Minna'), (8, 'Hanna')]"
      ]
     },
     "execution_count": 47,
     "metadata": {},
     "output_type": "execute_result"
    }
   ],
   "execution_count": 47
  },
  {
   "cell_type": "code",
   "source": [
    "# ÜBUNG\n",
    "# Du hast eine Liste von Preisen: [12, 10, 80, 65, 14, 5, 12]\n",
    "# Es gibt eine Rabattaktion. Senke alle Elemente in der Liste um 20 Prozent.\n",
    "# Benutze hierfür list comprehension. Runde auf zwei Nachkommastellen."
   ],
   "metadata": {
    "collapsed": false
   },
   "id": "77bc349bef686001",
   "outputs": [],
   "execution_count": null
  },
  {
   "metadata": {
    "ExecuteTime": {
     "end_time": "2025-02-14T08:46:23.553975Z",
     "start_time": "2025-02-14T08:46:23.547563Z"
    }
   },
   "cell_type": "code",
   "source": [
    "prices = [12, 10, 80, 65, 14, 5, 12]\n",
    "\n",
    "discounts = [round(0.8 * price, 2) for price in prices]\n",
    "discounts"
   ],
   "id": "a3cdb017e493ebb0",
   "outputs": [
    {
     "data": {
      "text/plain": [
       "[9.6, 8.0, 64.0, 52.0, 11.2, 4.0, 9.6]"
      ]
     },
     "execution_count": 48,
     "metadata": {},
     "output_type": "execute_result"
    }
   ],
   "execution_count": 48
  },
  {
   "metadata": {},
   "cell_type": "markdown",
   "source": "### Dictionaries",
   "id": "666efd919c99e937"
  },
  {
   "metadata": {
    "collapsed": false,
    "ExecuteTime": {
     "end_time": "2025-02-14T08:47:27.100730Z",
     "start_time": "2025-02-14T08:47:27.096417Z"
    }
   },
   "cell_type": "code",
   "source": [
    "# Mehr Dictionaries:\n",
    "anna_blume = dict(nachname='Blume',\n",
    "                  vorname='Anna',\n",
    "                  alter=30,\n",
    "                  beruf='Data Analyst',\n",
    "                  fertigkeiten=['Python', 'Pandas', 'Numpy', 'Scikit-Learn',\n",
    "                                'Power BI', 'SQL', 'Matplotlib & Seaborn'],\n",
    "                  hobbies=['Reisen', 'Tanzen', 'Bücher lesen'],\n",
    "                  gewicht=67.5,\n",
    "                  verheiratet=True)"
   ],
   "id": "8378ad9eac2a9e58",
   "outputs": [],
   "execution_count": 49
  },
  {
   "metadata": {
    "collapsed": false
   },
   "cell_type": "code",
   "source": [
    "# Dictionaries können natürlich auch immer so erstellt werden:\n",
    "# {'nachname': 'Blume', 'vorname': 'Anna' ...}"
   ],
   "id": "ce7bfecd53c62af4",
   "outputs": [],
   "execution_count": null
  },
  {
   "metadata": {
    "ExecuteTime": {
     "end_time": "2025-02-14T08:47:30.559067Z",
     "start_time": "2025-02-14T08:47:30.554233Z"
    }
   },
   "cell_type": "code",
   "source": "anna_blume",
   "id": "93b4022d2d70d694",
   "outputs": [
    {
     "data": {
      "text/plain": [
       "{'nachname': 'Blume',\n",
       " 'vorname': 'Anna',\n",
       " 'alter': 30,\n",
       " 'beruf': 'Data Analyst',\n",
       " 'fertigkeiten': ['Python',\n",
       "  'Pandas',\n",
       "  'Numpy',\n",
       "  'Scikit-Learn',\n",
       "  'Power BI',\n",
       "  'SQL',\n",
       "  'Matplotlib & Seaborn'],\n",
       " 'hobbies': ['Reisen', 'Tanzen', 'Bücher lesen'],\n",
       " 'gewicht': 67.5,\n",
       " 'verheiratet': True}"
      ]
     },
     "execution_count": 50,
     "metadata": {},
     "output_type": "execute_result"
    }
   ],
   "execution_count": 50
  },
  {
   "metadata": {
    "collapsed": false,
    "ExecuteTime": {
     "end_time": "2025-02-14T08:49:58.415489Z",
     "start_time": "2025-02-14T08:49:58.412749Z"
    }
   },
   "cell_type": "code",
   "source": [
    "# Wie fügt man dem Ganzen einen Eintrag 'haustier' mit Wert 'Hund' hinzu?\n",
    "anna_blume['haustier'] = 'Hund'"
   ],
   "id": "82843dafb860da7e",
   "outputs": [],
   "execution_count": 51
  },
  {
   "metadata": {
    "collapsed": false,
    "ExecuteTime": {
     "end_time": "2025-02-14T08:50:36.229835Z",
     "start_time": "2025-02-14T08:50:36.224691Z"
    }
   },
   "cell_type": "code",
   "source": [
    "# Den Hund prüfen:\n",
    "anna_blume['haustier']"
   ],
   "id": "d0e397c57d8070e3",
   "outputs": [
    {
     "data": {
      "text/plain": [
       "'Hund'"
      ]
     },
     "execution_count": 52,
     "metadata": {},
     "output_type": "execute_result"
    }
   ],
   "execution_count": 52
  },
  {
   "metadata": {
    "ExecuteTime": {
     "end_time": "2025-02-14T08:51:10.494045Z",
     "start_time": "2025-02-14T08:51:10.488263Z"
    }
   },
   "cell_type": "code",
   "source": "anna_blume.get('haustier')",
   "id": "be699b6404c9bf5f",
   "outputs": [
    {
     "data": {
      "text/plain": [
       "'Hund'"
      ]
     },
     "execution_count": 53,
     "metadata": {},
     "output_type": "execute_result"
    }
   ],
   "execution_count": 53
  },
  {
   "metadata": {
    "ExecuteTime": {
     "end_time": "2025-02-14T08:51:29.044915Z",
     "start_time": "2025-02-14T08:51:29.041900Z"
    }
   },
   "cell_type": "code",
   "source": [
    "# Bei get kommen wir auch bei nicht-existierenden keys \"davon\":\n",
    "anna_blume.get('IBAN')"
   ],
   "id": "fdc15a064b5b09d5",
   "outputs": [],
   "execution_count": 55
  },
  {
   "metadata": {
    "ExecuteTime": {
     "end_time": "2025-02-14T08:52:37.795615Z",
     "start_time": "2025-02-14T08:52:37.782453Z"
    }
   },
   "cell_type": "code",
   "source": [
    "# Bei Direktzugriff kriegen wir dagegen einen KeyError:\n",
    "# anna_blume['IBAN']"
   ],
   "id": "9ff45643500d13cc",
   "outputs": [
    {
     "ename": "KeyError",
     "evalue": "'IBAN'",
     "output_type": "error",
     "traceback": [
      "\u001B[1;31m---------------------------------------------------------------------------\u001B[0m",
      "\u001B[1;31mKeyError\u001B[0m                                  Traceback (most recent call last)",
      "Cell \u001B[1;32mIn[56], line 1\u001B[0m\n\u001B[1;32m----> 1\u001B[0m \u001B[43manna_blume\u001B[49m\u001B[43m[\u001B[49m\u001B[38;5;124;43m'\u001B[39;49m\u001B[38;5;124;43mIBAN\u001B[39;49m\u001B[38;5;124;43m'\u001B[39;49m\u001B[43m]\u001B[49m\n",
      "\u001B[1;31mKeyError\u001B[0m: 'IBAN'"
     ]
    }
   ],
   "execution_count": 56
  },
  {
   "metadata": {
    "collapsed": false,
    "ExecuteTime": {
     "end_time": "2025-02-14T08:54:28.773092Z",
     "start_time": "2025-02-14T08:54:28.769598Z"
    }
   },
   "cell_type": "code",
   "source": [
    "# Wie erhöht man das Alter Annas von 30 auf 31?\n",
    "anna_blume['alter'] += 1"
   ],
   "id": "9dd7ed4744d41de1",
   "outputs": [],
   "execution_count": 57
  },
  {
   "metadata": {
    "collapsed": false,
    "ExecuteTime": {
     "end_time": "2025-02-14T08:54:45.618855Z",
     "start_time": "2025-02-14T08:54:45.612749Z"
    }
   },
   "cell_type": "code",
   "source": "anna_blume.get('alter')",
   "id": "7c9b11b83e6070b1",
   "outputs": [
    {
     "data": {
      "text/plain": [
       "31"
      ]
     },
     "execution_count": 59,
     "metadata": {},
     "output_type": "execute_result"
    }
   ],
   "execution_count": 59
  },
  {
   "metadata": {
    "collapsed": false,
    "ExecuteTime": {
     "end_time": "2025-02-14T08:55:21.499331Z",
     "start_time": "2025-02-14T08:55:21.495730Z"
    }
   },
   "cell_type": "code",
   "source": [
    "# Alternativ Wert überschreiben:\n",
    "anna_blume['alter'] = 32"
   ],
   "id": "547bae09b5a051f9",
   "outputs": [],
   "execution_count": 60
  },
  {
   "metadata": {
    "ExecuteTime": {
     "end_time": "2025-02-14T08:55:27.009235Z",
     "start_time": "2025-02-14T08:55:27.003522Z"
    }
   },
   "cell_type": "code",
   "source": "anna_blume.get('alter')",
   "id": "564be52ab5641aaa",
   "outputs": [
    {
     "data": {
      "text/plain": [
       "32"
      ]
     },
     "execution_count": 61,
     "metadata": {},
     "output_type": "execute_result"
    }
   ],
   "execution_count": 61
  },
  {
   "metadata": {
    "ExecuteTime": {
     "end_time": "2025-02-14T08:55:41.810457Z",
     "start_time": "2025-02-14T08:55:41.804368Z"
    }
   },
   "cell_type": "code",
   "source": "anna_blume",
   "id": "c87fc577e6eca5ba",
   "outputs": [
    {
     "data": {
      "text/plain": [
       "{'nachname': 'Blume',\n",
       " 'vorname': 'Anna',\n",
       " 'alter': 32,\n",
       " 'beruf': 'Data Analyst',\n",
       " 'fertigkeiten': ['Python',\n",
       "  'Pandas',\n",
       "  'Numpy',\n",
       "  'Scikit-Learn',\n",
       "  'Power BI',\n",
       "  'SQL',\n",
       "  'Matplotlib & Seaborn'],\n",
       " 'hobbies': ['Reisen', 'Tanzen', 'Bücher lesen'],\n",
       " 'gewicht': 67.5,\n",
       " 'verheiratet': True,\n",
       " 'haustier': 'Hund'}"
      ]
     },
     "execution_count": 62,
     "metadata": {},
     "output_type": "execute_result"
    }
   ],
   "execution_count": 62
  },
  {
   "metadata": {
    "collapsed": false,
    "ExecuteTime": {
     "end_time": "2025-02-14T08:56:27.317640Z",
     "start_time": "2025-02-14T08:56:27.313366Z"
    }
   },
   "cell_type": "code",
   "source": [
    "# Wie entfernt man die Information zum Verheiratet-Status?\n",
    "del anna_blume['verheiratet']"
   ],
   "id": "3cae420cf7541c1c",
   "outputs": [],
   "execution_count": 63
  },
  {
   "metadata": {
    "collapsed": false,
    "ExecuteTime": {
     "end_time": "2025-02-14T08:56:39.488724Z",
     "start_time": "2025-02-14T08:56:39.483730Z"
    }
   },
   "cell_type": "code",
   "source": "anna_blume.get('verheiratet')",
   "id": "526e23d79b97b1d4",
   "outputs": [],
   "execution_count": 64
  },
  {
   "metadata": {
    "ExecuteTime": {
     "end_time": "2025-02-14T08:57:52.063821Z",
     "start_time": "2025-02-14T08:57:52.058355Z"
    }
   },
   "cell_type": "code",
   "source": [
    "# Weitere Möglichkeit:\n",
    "anna_blume['verheiratet'] = True\n",
    "\n",
    "anna_blume.pop('verheiratet')"
   ],
   "id": "455f3d26be1efbc9",
   "outputs": [
    {
     "data": {
      "text/plain": [
       "True"
      ]
     },
     "execution_count": 67,
     "metadata": {},
     "output_type": "execute_result"
    }
   ],
   "execution_count": 67
  },
  {
   "metadata": {
    "ExecuteTime": {
     "end_time": "2025-02-14T08:58:04.773437Z",
     "start_time": "2025-02-14T08:58:04.769610Z"
    }
   },
   "cell_type": "code",
   "source": "anna_blume.get('verheiratet')",
   "id": "9ba5ddfd09b1cf71",
   "outputs": [],
   "execution_count": 68
  },
  {
   "metadata": {
    "collapsed": false,
    "ExecuteTime": {
     "end_time": "2025-02-14T08:59:26.620953Z",
     "start_time": "2025-02-14T08:59:26.617107Z"
    }
   },
   "cell_type": "code",
   "source": [
    "# Füge dem Dictionary einen weiteren Eintrag 'lieblingsessen' hinzu mit dem Wert 'KFC':\n",
    "anna_blume['lieblingsessen'] = 'KFC'"
   ],
   "id": "300113027cdcc74a",
   "outputs": [],
   "execution_count": 70
  },
  {
   "metadata": {
    "collapsed": false,
    "ExecuteTime": {
     "end_time": "2025-02-14T09:00:11.403814Z",
     "start_time": "2025-02-14T09:00:11.399594Z"
    }
   },
   "cell_type": "code",
   "source": [
    "# Anna hat zugelegt. Erhöhe das Gewicht auf 95.5 kg:\n",
    "anna_blume['gewicht'] = 95.5"
   ],
   "id": "222aca0c79ca0692",
   "outputs": [],
   "execution_count": 71
  },
  {
   "metadata": {
    "ExecuteTime": {
     "end_time": "2025-02-14T09:01:35.383707Z",
     "start_time": "2025-02-14T09:01:35.378555Z"
    }
   },
   "cell_type": "code",
   "source": "anna_blume",
   "id": "7324ec3288b544fd",
   "outputs": [
    {
     "data": {
      "text/plain": [
       "{'nachname': 'Blume',\n",
       " 'vorname': 'Anna',\n",
       " 'alter': 32,\n",
       " 'beruf': 'Data Analyst',\n",
       " 'fertigkeiten': ['Python',\n",
       "  'Pandas',\n",
       "  'Numpy',\n",
       "  'Scikit-Learn',\n",
       "  'Power BI',\n",
       "  'SQL',\n",
       "  'Matplotlib & Seaborn'],\n",
       " 'hobbies': ['Reisen', 'Tanzen', 'Bücher lesen'],\n",
       " 'gewicht': 95.5,\n",
       " 'haustier': 'Hund',\n",
       " 'lieblingsessen': 'KFC'}"
      ]
     },
     "execution_count": 72,
     "metadata": {},
     "output_type": "execute_result"
    }
   ],
   "execution_count": 72
  },
  {
   "metadata": {
    "collapsed": false,
    "ExecuteTime": {
     "end_time": "2025-02-14T09:23:35.097406Z",
     "start_time": "2025-02-14T09:23:35.092726Z"
    }
   },
   "cell_type": "code",
   "source": [
    "# Anna geht nicht mehr gern tanzen. Entferne dieses Hobby.\n",
    "anna_blume['hobbies'].remove('Tanzen')"
   ],
   "id": "fc25bda6be1476da",
   "outputs": [],
   "execution_count": 74
  },
  {
   "metadata": {
    "ExecuteTime": {
     "end_time": "2025-02-14T09:23:52.233301Z",
     "start_time": "2025-02-14T09:23:52.227513Z"
    }
   },
   "cell_type": "code",
   "source": "anna_blume['hobbies']",
   "id": "b511bff25bd987ed",
   "outputs": [
    {
     "data": {
      "text/plain": [
       "['Reisen', 'Bücher lesen']"
      ]
     },
     "execution_count": 75,
     "metadata": {},
     "output_type": "execute_result"
    }
   ],
   "execution_count": 75
  },
  {
   "metadata": {
    "collapsed": false,
    "ExecuteTime": {
     "end_time": "2025-02-14T09:24:37.128671Z",
     "start_time": "2025-02-14T09:24:37.124328Z"
    }
   },
   "cell_type": "code",
   "source": [
    "# Füge stattdessen das Hobby 'Netflix schauen' hinzu:\n",
    "anna_blume['hobbies'].append('Netflix schauen')"
   ],
   "id": "33a286533171886",
   "outputs": [],
   "execution_count": 76
  },
  {
   "metadata": {
    "ExecuteTime": {
     "end_time": "2025-02-14T09:24:42.596272Z",
     "start_time": "2025-02-14T09:24:42.591160Z"
    }
   },
   "cell_type": "code",
   "source": [
    "# Schaue dir ihre Hobbies an:\n",
    "anna_blume['hobbies']"
   ],
   "id": "418561a2ce889eec",
   "outputs": [
    {
     "data": {
      "text/plain": [
       "['Reisen', 'Bücher lesen', 'Netflix schauen']"
      ]
     },
     "execution_count": 77,
     "metadata": {},
     "output_type": "execute_result"
    }
   ],
   "execution_count": 77
  },
  {
   "metadata": {
    "collapsed": false,
    "ExecuteTime": {
     "end_time": "2025-02-14T09:25:52.535369Z",
     "start_time": "2025-02-14T09:25:52.529233Z"
    }
   },
   "cell_type": "code",
   "source": [
    "# Der Hund ist gestorben... Entferne das Haustier:\n",
    "anna_blume.pop('haustier')"
   ],
   "id": "bb33885697561135",
   "outputs": [
    {
     "data": {
      "text/plain": [
       "'Hund'"
      ]
     },
     "execution_count": 78,
     "metadata": {},
     "output_type": "execute_result"
    }
   ],
   "execution_count": 78
  },
  {
   "metadata": {
    "ExecuteTime": {
     "end_time": "2025-02-14T09:26:09.187888Z",
     "start_time": "2025-02-14T09:26:09.183468Z"
    }
   },
   "cell_type": "code",
   "source": "anna_blume.get('haustier')",
   "id": "b19287293472ac8",
   "outputs": [],
   "execution_count": 79
  },
  {
   "metadata": {},
   "cell_type": "markdown",
   "source": "## While Loops bauen",
   "id": "dba75bc10571bf74"
  },
  {
   "metadata": {
    "collapsed": false,
    "ExecuteTime": {
     "end_time": "2025-02-14T09:39:48.817400Z",
     "start_time": "2025-02-14T09:39:48.811474Z"
    }
   },
   "cell_type": "code",
   "source": [
    "# Schreibe einen Counter, der von 10 runterzählt und dann \"Neujahr!!!\" ruft.\n",
    "#  10, 9, 8 ... NEUJAHR!!!\n",
    "\n",
    "countdown = 10\n",
    "\n",
    "while countdown != 0:  # oder > 0\n",
    "    countdown -= 1\n",
    "    if countdown > 0:\n",
    "        print(countdown)\n",
    "    else:\n",
    "        print('Neujahr!!!')"
   ],
   "id": "723fba65f117de9",
   "outputs": [
    {
     "name": "stdout",
     "output_type": "stream",
     "text": [
      "9\n",
      "8\n",
      "7\n",
      "6\n",
      "5\n",
      "4\n",
      "3\n",
      "2\n",
      "1\n",
      "Neujahr!!!\n"
     ]
    }
   ],
   "execution_count": 81
  },
  {
   "metadata": {
    "collapsed": false,
    "ExecuteTime": {
     "end_time": "2025-02-14T09:43:21.325307Z",
     "start_time": "2025-02-14T09:43:11.313670Z"
    }
   },
   "cell_type": "code",
   "source": [
    "# Schreibe einen Counter, der von 10 runterzählt und dann \"Neujahr!!!\" ruft.\n",
    "#  10, 9, 8 ... NEUJAHR!!!\n",
    "\n",
    "countdown = 10\n",
    "\n",
    "while countdown > 0:\n",
    "    print(countdown)\n",
    "    sleep(1)\n",
    "    countdown -= 1\n",
    "\n",
    "print('NEUJAHR!!!')"
   ],
   "id": "b8085712c9fcdcaa",
   "outputs": [
    {
     "name": "stdout",
     "output_type": "stream",
     "text": [
      "10\n",
      "9\n",
      "8\n",
      "7\n",
      "6\n",
      "5\n",
      "4\n",
      "3\n",
      "2\n",
      "1\n",
      "NEUJAHR!!!\n"
     ]
    }
   ],
   "execution_count": 86
  },
  {
   "metadata": {
    "collapsed": false,
    "ExecuteTime": {
     "end_time": "2025-02-14T09:59:20.819143Z",
     "start_time": "2025-02-14T09:59:20.812367Z"
    }
   },
   "cell_type": "code",
   "source": [
    "# Alle drei Sekunden wird geprüft, ob eine Ziel-Uhrzeit erreicht oder überschritten wurde.\n",
    "# Solange sie nicht erreicht ist, erscheint die Nachricht \"Zu früh\".\n",
    "# Wenn sie erreicht ist, lautet die Botschaft \"Hurra!\"\n",
    "target_time = datetime(2025, 2, 14, 11, 0, 0, 0)\n",
    "german_timezone = 'Europe/Berlin'\n",
    "tz = pytz.timezone(german_timezone)\n",
    "\n",
    "target_time_with_tz = target_time.astimezone(tz)\n",
    "\n",
    "target_time_with_tz"
   ],
   "id": "dfaac4c78e036659",
   "outputs": [
    {
     "data": {
      "text/plain": [
       "datetime.datetime(2025, 2, 14, 11, 0, tzinfo=<DstTzInfo 'Europe/Berlin' CET+1:00:00 STD>)"
      ]
     },
     "execution_count": 99,
     "metadata": {},
     "output_type": "execute_result"
    }
   ],
   "execution_count": 99
  },
  {
   "metadata": {
    "ExecuteTime": {
     "end_time": "2025-02-14T10:00:01.042876Z",
     "start_time": "2025-02-14T09:59:22.030161Z"
    }
   },
   "cell_type": "code",
   "source": [
    "while datetime.now(tz) < target_time_with_tz:\n",
    "    print('Zu früh!')\n",
    "    sleep(3)\n",
    "\n",
    "print('Hurra!')"
   ],
   "id": "3af19d2305d84fc9",
   "outputs": [
    {
     "name": "stdout",
     "output_type": "stream",
     "text": [
      "Zu früh!\n",
      "Zu früh!\n",
      "Zu früh!\n",
      "Zu früh!\n",
      "Zu früh!\n",
      "Zu früh!\n",
      "Zu früh!\n",
      "Zu früh!\n",
      "Zu früh!\n",
      "Zu früh!\n",
      "Zu früh!\n",
      "Zu früh!\n",
      "Zu früh!\n",
      "Hurra!\n"
     ]
    }
   ],
   "execution_count": 100
  },
  {
   "metadata": {
    "collapsed": false
   },
   "cell_type": "code",
   "source": [
    "# ÜBUNG\n",
    "# Schreibe eine \"Besserungsloop\". Der Nutzer wird so lange gefragt, wie es ihm geht, bis er 'gut' eingibt. Wenn er 'gut' eingegeben hat, kriegt er als Antwort: \"Na also, geht doch.\" Und die Loop hört auf."
   ],
   "id": "613156469e0c176d",
   "outputs": [],
   "execution_count": null
  },
  {
   "metadata": {},
   "cell_type": "code",
   "outputs": [],
   "execution_count": null,
   "source": [
    "# Mit while True und break:\n",
    "while True:\n",
    "    antwort = input('Wie geht es dir?')\n",
    "    if antwort == 'gut':\n",
    "        print('Na also, geht doch!')\n",
    "        break\n",
    "    print('Das ist aber nicht schön...')"
   ],
   "id": "a65771faec121e41"
  },
  {
   "metadata": {
    "ExecuteTime": {
     "end_time": "2025-02-14T10:15:08.392718Z",
     "start_time": "2025-02-14T10:14:54.979952Z"
    }
   },
   "cell_type": "code",
   "source": [
    "# Mit Walrus-Operator:\n",
    "while (antwort := input('Wie geht es dir?')) != 'gut':\n",
    "    print('Das ist aber nicht schön...')\n",
    "\n",
    "print('Na also, geht doch!')"
   ],
   "id": "e719e662cf09ebfa",
   "outputs": [
    {
     "name": "stdout",
     "output_type": "stream",
     "text": [
      "Das ist aber nicht schön...\n",
      "Das ist aber nicht schön...\n",
      "Das ist aber nicht schön...\n",
      "Na also, geht doch!\n"
     ]
    }
   ],
   "execution_count": 101
  },
  {
   "metadata": {},
   "cell_type": "code",
   "outputs": [],
   "execution_count": null,
   "source": [
    "# Pascal 1:\n",
    "user_input = input('Wie geht es Dir heute?: ')\n",
    "\n",
    "while user_input.lower() != 'gut':\n",
    "    print('Echt? Schade das zu hören... wie geht es Dir wirklich?')\n",
    "    sleep(1)\n",
    "    user_input = input('Wie geht es Dir heute?: ')\n",
    "\n",
    "print('Na also, geht doch.')"
   ],
   "id": "202277a5ad6f624e"
  },
  {
   "metadata": {},
   "cell_type": "code",
   "outputs": [],
   "execution_count": null,
   "source": [
    "# Pascal 2:\n",
    "user_input = input('Wie geht es Dir heute?: ')\n",
    "\n",
    "while 'gut' not in user_input.lower():\n",
    "    print('Echt? Schade das zu hören... wie geht es Dir wirklich?')\n",
    "    sleep(1)\n",
    "    user_input = input('Wie geht es Dir heute?: ')\n",
    "\n",
    "print('Na also, geht doch.')"
   ],
   "id": "403249e65d2afcb8"
  },
  {
   "metadata": {},
   "cell_type": "markdown",
   "source": "## Funktionen",
   "id": "6fd95f7f5c32eaad"
  },
  {
   "metadata": {
    "collapsed": false,
    "ExecuteTime": {
     "end_time": "2025-02-14T10:22:55.439337Z",
     "start_time": "2025-02-14T10:22:55.433490Z"
    }
   },
   "cell_type": "code",
   "source": [
    "# Schreibe eine Funktion, die den BMI eines Menschen errechnet:\n",
    "# BMI-Formel = Körpergewicht (in kg) geteilt durch Körpergröße (in m) zum Quadrat.\n",
    "weight = 90\n",
    "height = 1.9\n",
    "\n",
    "\n",
    "# Funktionsdefinition:\n",
    "def calculate_bmi(weight: float, height: float) -> float:\n",
    "    bmi = weight / height ** 2\n",
    "    return round(bmi, 2)\n",
    "\n",
    "\n",
    "# Funktionsaufruf:\n",
    "bmi = calculate_bmi(90, 1.9)\n",
    "print(bmi)"
   ],
   "id": "5ee29f78c08ba499",
   "outputs": [
    {
     "name": "stdout",
     "output_type": "stream",
     "text": [
      "24.93\n"
     ]
    }
   ],
   "execution_count": 103
  },
  {
   "metadata": {},
   "cell_type": "code",
   "outputs": [],
   "execution_count": null,
   "source": [
    "# Bonus: Baue dir eine Liste mit Tupeln o.Ä. von Gewicht und Größe und wende diese Funktion darauf an.\n",
    "# oder: lade menschen_masse.csv und lege eine neue Spalte bmi mithilfe dieser Funktion im DataFrame an."
   ],
   "id": "2c0624e70ff362d1"
  },
  {
   "metadata": {
    "collapsed": false,
    "ExecuteTime": {
     "end_time": "2025-02-14T10:33:22.612320Z",
     "start_time": "2025-02-14T10:33:22.608076Z"
    }
   },
   "cell_type": "code",
   "source": [
    "# Schreibe eine Funktion, die Fuß in Zentimeter umrechnet.\n",
    "# 1 Fuß > 30.48 cm\n",
    "# Rechne dann 5 Fuß in Zentimeter um.\n",
    "\n",
    "def feet_to_cm(feet: float) -> float:\n",
    "    return feet * 30.48"
   ],
   "id": "596acffb5d904421",
   "outputs": [],
   "execution_count": 114
  },
  {
   "metadata": {
    "collapsed": false,
    "ExecuteTime": {
     "end_time": "2025-02-14T10:33:16.019216Z",
     "start_time": "2025-02-14T10:33:16.014810Z"
    }
   },
   "cell_type": "code",
   "source": [
    "feet = 5\n",
    "\n",
    "cm = feet_to_cm(5)\n",
    "print(cm)"
   ],
   "id": "29d6a9ffec8985a2",
   "outputs": [
    {
     "name": "stdout",
     "output_type": "stream",
     "text": [
      "152.4\n"
     ]
    }
   ],
   "execution_count": 112
  },
  {
   "metadata": {
    "ExecuteTime": {
     "end_time": "2025-02-14T10:45:16.347233Z",
     "start_time": "2025-02-14T10:45:16.341920Z"
    }
   },
   "cell_type": "code",
   "source": [
    "# Mini-Exkurs:\n",
    "full_list = ['Anna', 'Tina', 'Dora']  # entspricht True in einer Bedingung\n",
    "\n",
    "if full_list:\n",
    "    print('Wahr')\n",
    "else:\n",
    "    print('Nicht wahr')"
   ],
   "id": "ac9b61f566d22d7",
   "outputs": [
    {
     "name": "stdout",
     "output_type": "stream",
     "text": [
      "Wahr\n"
     ]
    }
   ],
   "execution_count": 117
  },
  {
   "metadata": {
    "ExecuteTime": {
     "end_time": "2025-02-14T10:45:21.127718Z",
     "start_time": "2025-02-14T10:45:21.123065Z"
    }
   },
   "cell_type": "code",
   "source": [
    "empty_list = []\n",
    "\n",
    "if empty_list:  # entspricht False in einer Bedingung\n",
    "    print('Wahr')\n",
    "else:\n",
    "    print('Nicht wahr')"
   ],
   "id": "50e4b37fe3e26509",
   "outputs": [
    {
     "name": "stdout",
     "output_type": "stream",
     "text": [
      "Nicht wahr\n"
     ]
    }
   ],
   "execution_count": 118
  },
  {
   "metadata": {
    "ExecuteTime": {
     "end_time": "2025-02-14T10:43:15.320029Z",
     "start_time": "2025-02-14T10:43:15.316001Z"
    }
   },
   "cell_type": "code",
   "source": "inverse = True",
   "id": "b328236fe1e84a82",
   "outputs": [],
   "execution_count": 115
  },
  {
   "metadata": {
    "ExecuteTime": {
     "end_time": "2025-02-14T10:43:33.794728Z",
     "start_time": "2025-02-14T10:43:33.790460Z"
    }
   },
   "cell_type": "code",
   "source": [
    "if inverse:  # True entspricht True in einer Bedingung\n",
    "    print('Wahr')\n",
    "else:\n",
    "    print('Nicht wahr')"
   ],
   "id": "c390709cfe08c3ea",
   "outputs": [
    {
     "name": "stdout",
     "output_type": "stream",
     "text": [
      "Wahr\n"
     ]
    }
   ],
   "execution_count": 116
  },
  {
   "metadata": {
    "collapsed": false,
    "ExecuteTime": {
     "end_time": "2025-02-14T10:50:08.228500Z",
     "start_time": "2025-02-14T10:50:08.224264Z"
    }
   },
   "cell_type": "code",
   "source": [
    "# Schreibe eine Funktion, die Fuß in Zentimeter umrechnet:\n",
    "# Optional: Führe einen Parameter inverse ein, über den man die Berechnung umdrehen kann.\n",
    "def feet_to_cm(size: float, inverse: bool = False) -> float:\n",
    "    if inverse:\n",
    "        return round(size / 30.48, 2)\n",
    "    # hier kein else nötig, denn dieses return gibt es nur, wenn es das andere return nicht gibt:\n",
    "    return round(size * 30.48, 2)"
   ],
   "id": "c4afc970788c0e8a",
   "outputs": [],
   "execution_count": 124
  },
  {
   "metadata": {
    "collapsed": false,
    "ExecuteTime": {
     "end_time": "2025-02-14T10:50:09.779296Z",
     "start_time": "2025-02-14T10:50:09.774455Z"
    }
   },
   "cell_type": "code",
   "source": [
    "# 10 Fuß in Zentimeter umrechnen:\n",
    "feet_to_cm(10)"
   ],
   "id": "d0ba54c8d6691067",
   "outputs": [
    {
     "data": {
      "text/plain": [
       "304.8"
      ]
     },
     "execution_count": 125,
     "metadata": {},
     "output_type": "execute_result"
    }
   ],
   "execution_count": 125
  },
  {
   "metadata": {
    "ExecuteTime": {
     "end_time": "2025-02-14T10:50:10.799465Z",
     "start_time": "2025-02-14T10:50:10.793341Z"
    }
   },
   "cell_type": "code",
   "source": [
    "# 175cm in Fuß umrechnen:\n",
    "feet_to_cm(175, inverse=True)"
   ],
   "id": "10f9d4d2333feaac",
   "outputs": [
    {
     "data": {
      "text/plain": [
       "5.74"
      ]
     },
     "execution_count": 126,
     "metadata": {},
     "output_type": "execute_result"
    }
   ],
   "execution_count": 126
  },
  {
   "metadata": {
    "ExecuteTime": {
     "end_time": "2025-02-14T10:50:37.085992Z",
     "start_time": "2025-02-14T10:50:37.081300Z"
    }
   },
   "cell_type": "code",
   "source": [
    "# 175cm in Fuß umrechnen:\n",
    "feet_to_cm(175, True)"
   ],
   "id": "e6fc2fe162ca3728",
   "outputs": [
    {
     "data": {
      "text/plain": [
       "5.74"
      ]
     },
     "execution_count": 127,
     "metadata": {},
     "output_type": "execute_result"
    }
   ],
   "execution_count": 127
  },
  {
   "metadata": {
    "collapsed": false,
    "ExecuteTime": {
     "end_time": "2025-02-14T10:54:34.639447Z",
     "start_time": "2025-02-14T10:54:34.633095Z"
    }
   },
   "cell_type": "code",
   "source": [
    "# Schreibe eine Funktion, die die Anzahl von Worten in einem Text zählt:\n",
    "def count_words(text: str) -> int:\n",
    "    token_list = text.split(' ')\n",
    "    return len(token_list)"
   ],
   "id": "f314dac71766a1ff",
   "outputs": [],
   "execution_count": 128
  },
  {
   "metadata": {
    "collapsed": false,
    "ExecuteTime": {
     "end_time": "2025-02-14T10:54:59.096651Z",
     "start_time": "2025-02-14T10:54:59.092069Z"
    }
   },
   "cell_type": "code",
   "source": [
    "# Wende die Funktion auf folgenden Satz an:\n",
    "sentence = 'Das ist ein Satz mit ein paar Worten drin.'"
   ],
   "id": "8d177dae4f61937c",
   "outputs": [],
   "execution_count": 129
  },
  {
   "metadata": {
    "ExecuteTime": {
     "end_time": "2025-02-14T10:55:00.617893Z",
     "start_time": "2025-02-14T10:55:00.610861Z"
    }
   },
   "cell_type": "code",
   "source": "count_words(sentence)",
   "id": "4a0b645f13510e1",
   "outputs": [
    {
     "data": {
      "text/plain": [
       "9"
      ]
     },
     "execution_count": 130,
     "metadata": {},
     "output_type": "execute_result"
    }
   ],
   "execution_count": 130
  },
  {
   "metadata": {
    "collapsed": false,
    "ExecuteTime": {
     "end_time": "2025-02-14T10:58:37.275195Z",
     "start_time": "2025-02-14T10:58:37.269639Z"
    }
   },
   "cell_type": "code",
   "source": [
    "# Schreibe eine Funktion namens calculate_word_frequencies, die die Anzahl von Worten in einem Text, der als Liste vorliegt, zählt:\n",
    "def calculate_word_frequencies(text: list) -> Counter:\n",
    "    return Counter(text)"
   ],
   "id": "ccd00ee812c952eb",
   "outputs": [],
   "execution_count": 132
  },
  {
   "metadata": {
    "ExecuteTime": {
     "end_time": "2025-02-14T10:58:39.795824Z",
     "start_time": "2025-02-14T10:58:39.790456Z"
    }
   },
   "cell_type": "code",
   "source": [
    "# Wende die Funktion auf folgenden Satz an:\n",
    "sentence = ['Das', 'ist', 'ein', 'Satz', 'mit', 'ein', 'paar', 'Worten',\n",
    "            'drin']"
   ],
   "id": "5c618a50d198f64e",
   "outputs": [],
   "execution_count": 133
  },
  {
   "metadata": {
    "collapsed": false,
    "ExecuteTime": {
     "end_time": "2025-02-14T10:58:48.492081Z",
     "start_time": "2025-02-14T10:58:48.484521Z"
    }
   },
   "cell_type": "code",
   "source": "calculate_word_frequencies(sentence)",
   "id": "b23327132192f728",
   "outputs": [
    {
     "data": {
      "text/plain": [
       "Counter({'ein': 2,\n",
       "         'Das': 1,\n",
       "         'ist': 1,\n",
       "         'Satz': 1,\n",
       "         'mit': 1,\n",
       "         'paar': 1,\n",
       "         'Worten': 1,\n",
       "         'drin': 1})"
      ]
     },
     "execution_count": 134,
     "metadata": {},
     "output_type": "execute_result"
    }
   ],
   "execution_count": 134
  },
  {
   "metadata": {
    "collapsed": false,
    "ExecuteTime": {
     "end_time": "2025-02-14T11:00:57.947401Z",
     "start_time": "2025-02-14T11:00:57.941501Z"
    }
   },
   "cell_type": "code",
   "source": [
    "# Schreibe eine Funktion tokenize_string, die alle Satzzeichen in einem String entfernt\n",
    "# und ihn dann erst in einzelne Token auftrennt:\n",
    "# Das soll raus:\n",
    "punctuation"
   ],
   "id": "58f6f507a9841ef7",
   "outputs": [
    {
     "data": {
      "text/plain": [
       "'!\"#$%&\\'()*+,-./:;<=>?@[\\\\]^_`{|}~'"
      ]
     },
     "execution_count": 136,
     "metadata": {},
     "output_type": "execute_result"
    }
   ],
   "execution_count": 136
  },
  {
   "metadata": {
    "ExecuteTime": {
     "end_time": "2025-02-14T11:06:48.154328Z",
     "start_time": "2025-02-14T11:06:48.149901Z"
    }
   },
   "cell_type": "code",
   "source": [
    "def tokenize_text(text: str) -> list:\n",
    "    for char in text:\n",
    "        if char in punctuation:\n",
    "            text = text.replace(char, '')\n",
    "\n",
    "    # professioneller mit regex pattern, das 1-beliebig viele \\n umfasst:\n",
    "    text = text.replace('\\n\\n', ' ')\n",
    "    text = text.replace('\\n', ' ')\n",
    "    return text.split(' ')"
   ],
   "id": "e56d43a65cd4491",
   "outputs": [],
   "execution_count": 151
  },
  {
   "metadata": {
    "collapsed": false,
    "ExecuteTime": {
     "end_time": "2025-02-14T11:06:49.702793Z",
     "start_time": "2025-02-14T11:06:49.699143Z"
    }
   },
   "cell_type": "code",
   "source": [
    "# Wende nun zuerst deine tokenize-Funktion auf den Text an\n",
    "# und danach calculacte_word_frequencies.\n",
    "# Welches Wort kommt am häufigsten vor?\n",
    "\n",
    "text = '''Hallo Du!\n",
    "\n",
    "Wir stellen Dir die Hardware\n",
    "kostenlos zur Verfügung.\n",
    "\n",
    "Du bekommst von uns kostenlos einen leistungsstarken Laptop zur Verfügung gestellt, den Du sogar bei erfolgreichem Bestehen des Kurses behalten darfst.\n",
    "\n",
    "Um Dir Deinen Start maximal zu erleichtern, haben Wir diesen bereits vollumfänglich konfiguriert und er enthält alle relevanten Programme und Einstellungen.\n",
    "\n",
    "'''"
   ],
   "id": "4ea8a64791d38db4",
   "outputs": [],
   "execution_count": 153
  },
  {
   "metadata": {
    "ExecuteTime": {
     "end_time": "2025-02-14T11:07:46.104627Z",
     "start_time": "2025-02-14T11:07:46.097603Z"
    }
   },
   "cell_type": "code",
   "source": [
    "tokens = tokenize_text(text)\n",
    "tokens"
   ],
   "id": "9cbc021c7e951aac",
   "outputs": [
    {
     "data": {
      "text/plain": [
       "['Hallo',\n",
       " 'Du',\n",
       " 'Wir',\n",
       " 'stellen',\n",
       " 'Dir',\n",
       " 'die',\n",
       " 'Hardware',\n",
       " 'kostenlos',\n",
       " 'zur',\n",
       " 'Verfügung',\n",
       " 'Du',\n",
       " 'bekommst',\n",
       " 'von',\n",
       " 'uns',\n",
       " 'kostenlos',\n",
       " 'einen',\n",
       " 'leistungsstarken',\n",
       " 'Laptop',\n",
       " 'zur',\n",
       " 'Verfügung',\n",
       " 'gestellt',\n",
       " 'den',\n",
       " 'Du',\n",
       " 'sogar',\n",
       " 'bei',\n",
       " 'erfolgreichem',\n",
       " 'Bestehen',\n",
       " 'des',\n",
       " 'Kurses',\n",
       " 'behalten',\n",
       " 'darfst',\n",
       " 'Um',\n",
       " 'Dir',\n",
       " 'Deinen',\n",
       " 'Start',\n",
       " 'maximal',\n",
       " 'zu',\n",
       " 'erleichtern',\n",
       " 'haben',\n",
       " 'Wir',\n",
       " 'diesen',\n",
       " 'bereits',\n",
       " 'vollumfänglich',\n",
       " 'konfiguriert',\n",
       " 'und',\n",
       " 'er',\n",
       " 'enthält',\n",
       " 'alle',\n",
       " 'relevanten',\n",
       " 'Programme',\n",
       " 'und',\n",
       " 'Einstellungen',\n",
       " '']"
      ]
     },
     "execution_count": 155,
     "metadata": {},
     "output_type": "execute_result"
    }
   ],
   "execution_count": 155
  },
  {
   "metadata": {
    "ExecuteTime": {
     "end_time": "2025-02-14T11:08:25.554562Z",
     "start_time": "2025-02-14T11:08:25.547280Z"
    }
   },
   "cell_type": "code",
   "source": [
    "word_freqs = calculate_word_frequencies(tokens)\n",
    "word_freqs"
   ],
   "id": "aea601878ddcb208",
   "outputs": [
    {
     "data": {
      "text/plain": [
       "Counter({'Du': 3,\n",
       "         'Wir': 2,\n",
       "         'Dir': 2,\n",
       "         'kostenlos': 2,\n",
       "         'zur': 2,\n",
       "         'Verfügung': 2,\n",
       "         'und': 2,\n",
       "         'Hallo': 1,\n",
       "         'stellen': 1,\n",
       "         'die': 1,\n",
       "         'Hardware': 1,\n",
       "         'bekommst': 1,\n",
       "         'von': 1,\n",
       "         'uns': 1,\n",
       "         'einen': 1,\n",
       "         'leistungsstarken': 1,\n",
       "         'Laptop': 1,\n",
       "         'gestellt': 1,\n",
       "         'den': 1,\n",
       "         'sogar': 1,\n",
       "         'bei': 1,\n",
       "         'erfolgreichem': 1,\n",
       "         'Bestehen': 1,\n",
       "         'des': 1,\n",
       "         'Kurses': 1,\n",
       "         'behalten': 1,\n",
       "         'darfst': 1,\n",
       "         'Um': 1,\n",
       "         'Deinen': 1,\n",
       "         'Start': 1,\n",
       "         'maximal': 1,\n",
       "         'zu': 1,\n",
       "         'erleichtern': 1,\n",
       "         'haben': 1,\n",
       "         'diesen': 1,\n",
       "         'bereits': 1,\n",
       "         'vollumfänglich': 1,\n",
       "         'konfiguriert': 1,\n",
       "         'er': 1,\n",
       "         'enthält': 1,\n",
       "         'alle': 1,\n",
       "         'relevanten': 1,\n",
       "         'Programme': 1,\n",
       "         'Einstellungen': 1,\n",
       "         '': 1})"
      ]
     },
     "execution_count": 157,
     "metadata": {},
     "output_type": "execute_result"
    }
   ],
   "execution_count": 157
  },
  {
   "metadata": {
    "ExecuteTime": {
     "end_time": "2025-02-14T11:08:46.291433Z",
     "start_time": "2025-02-14T11:08:46.286634Z"
    }
   },
   "cell_type": "code",
   "source": "word_freqs.most_common()[0]",
   "id": "4bfd05ed6353dba9",
   "outputs": [
    {
     "data": {
      "text/plain": [
       "('Du', 3)"
      ]
     },
     "execution_count": 159,
     "metadata": {},
     "output_type": "execute_result"
    }
   ],
   "execution_count": 159
  },
  {
   "metadata": {
    "ExecuteTime": {
     "end_time": "2025-02-14T11:09:44.493916Z",
     "start_time": "2025-02-14T11:09:44.487461Z"
    }
   },
   "cell_type": "code",
   "source": "word_freqs.most_common()[-1]",
   "id": "7501d524837c21c2",
   "outputs": [
    {
     "data": {
      "text/plain": [
       "('', 1)"
      ]
     },
     "execution_count": 162,
     "metadata": {},
     "output_type": "execute_result"
    }
   ],
   "execution_count": 162
  },
  {
   "metadata": {
    "collapsed": false,
    "ExecuteTime": {
     "end_time": "2025-02-14T11:18:30.866729Z",
     "start_time": "2025-02-14T11:18:30.861786Z"
    }
   },
   "cell_type": "code",
   "source": [
    "# Schreibe eine Funktion, die dir ausrechnet, wie viel Geld du pro Tag hast.\n",
    "# Der Nutzer übergibt den aktuellen Kontostand und die Funktion ermittelt, wie viele\n",
    "# Tage noch bis Monatsende sind und berechnet dann den Betrag, der pro Tag verfügbar ist.\n",
    "# Der aktuelle Tag soll auch als vollwertiger Tag in die Berechnung einfließen.\n",
    "# Die Funktion soll nur für Werte über 0 sinnvolle Zahlen ausspucken.\n",
    "# In allen anderen Fällen soll sie den Nutzer darüber informieren, dass er kein Geld zur Verfügung hat.\n",
    "\n",
    "def calculate_daily_amount(balance: float) -> float | None:\n",
    "    if balance > 0:\n",
    "        end_of_month = monthrange(2025, 2)[1]\n",
    "        today = date.today().day\n",
    "        # added 1 to account for the current day:\n",
    "        days_to_go = end_of_month - today + 1\n",
    "        daily_amount = balance / days_to_go\n",
    "        return daily_amount\n",
    "    else:\n",
    "        print('Dude, you have no money!')"
   ],
   "id": "b23e8f2dc9bd7092",
   "outputs": [],
   "execution_count": 170
  },
  {
   "metadata": {
    "collapsed": false,
    "ExecuteTime": {
     "end_time": "2025-02-14T11:18:32.957901Z",
     "start_time": "2025-02-14T11:18:32.953038Z"
    }
   },
   "cell_type": "code",
   "source": "calculate_daily_amount(750)",
   "id": "cb83b4d421ddeea0",
   "outputs": [
    {
     "data": {
      "text/plain": [
       "50.0"
      ]
     },
     "execution_count": 171,
     "metadata": {},
     "output_type": "execute_result"
    }
   ],
   "execution_count": 171
  },
  {
   "metadata": {
    "ExecuteTime": {
     "end_time": "2025-02-14T11:18:35.404677Z",
     "start_time": "2025-02-14T11:18:35.400111Z"
    }
   },
   "cell_type": "code",
   "source": "calculate_daily_amount(-120)",
   "id": "4b0b06f22c30eb0c",
   "outputs": [
    {
     "name": "stdout",
     "output_type": "stream",
     "text": [
      "Dude, you have no money!\n"
     ]
    }
   ],
   "execution_count": 172
  }
 ],
 "metadata": {
  "kernelspec": {
   "display_name": "Python 3",
   "language": "python",
   "name": "python3"
  },
  "language_info": {
   "codemirror_mode": {
    "name": "ipython",
    "version": 2
   },
   "file_extension": ".py",
   "mimetype": "text/x-python",
   "name": "python",
   "nbconvert_exporter": "python",
   "pygments_lexer": "ipython2",
   "version": "2.7.6"
  }
 },
 "nbformat": 4,
 "nbformat_minor": 5
}
