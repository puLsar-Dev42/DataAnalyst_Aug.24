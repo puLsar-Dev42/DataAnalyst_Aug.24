{
 "cells": [
  {
   "cell_type": "code",
   "id": "initial_id",
   "metadata": {
    "collapsed": true,
    "ExecuteTime": {
     "end_time": "2025-02-07T10:21:10.531495Z",
     "start_time": "2025-02-07T10:21:10.527832Z"
    }
   },
   "source": [
    "import math\n",
    "from itertools import permutations, product, combinations, combinations_with_replacement"
   ],
   "outputs": [],
   "execution_count": 2
  },
  {
   "metadata": {},
   "cell_type": "markdown",
   "source": "#### Ziehen ohne Zurücklegen mit Beachtung der Reihenfolge",
   "id": "440e869d4fbefb2d"
  },
  {
   "metadata": {
    "ExecuteTime": {
     "end_time": "2025-02-07T10:22:12.361872Z",
     "start_time": "2025-02-07T10:22:12.353318Z"
    }
   },
   "cell_type": "code",
   "source": [
    "# Wie viele Permutationen von folgender Liste sind möglich?\n",
    "nums = [1, 2, 3]"
   ],
   "id": "d0bcc0cc39fe7b9f",
   "outputs": [],
   "execution_count": 3
  },
  {
   "metadata": {},
   "cell_type": "code",
   "source": [
    "# [1, 2, 3]\n",
    "# [1, 3, 2]\n",
    "# [2, 1, 3]\n",
    "# [2, 3, 1]\n",
    "# [3, 1, 2]\n",
    "# [3, 2, 1]"
   ],
   "id": "b502b3345c17503a",
   "outputs": [],
   "execution_count": null
  },
  {
   "metadata": {
    "ExecuteTime": {
     "end_time": "2025-02-07T10:24:55.939125Z",
     "start_time": "2025-02-07T10:24:55.927072Z"
    }
   },
   "cell_type": "code",
   "source": [
    "# Alle möglichen Permutation als Tupel in einer Liste:\n",
    "perms = list(permutations(nums))\n",
    "perms"
   ],
   "id": "c512e8bab8cfd246",
   "outputs": [
    {
     "data": {
      "text/plain": [
       "[(1, 2, 3), (1, 3, 2), (2, 1, 3), (2, 3, 1), (3, 1, 2), (3, 2, 1)]"
      ]
     },
     "execution_count": 6,
     "metadata": {},
     "output_type": "execute_result"
    }
   ],
   "execution_count": 6
  },
  {
   "metadata": {
    "ExecuteTime": {
     "end_time": "2025-02-07T10:25:05.553259Z",
     "start_time": "2025-02-07T10:25:05.546804Z"
    }
   },
   "cell_type": "code",
   "source": [
    "# Anzahl der möglichen Permutationen:\n",
    "len(perms)"
   ],
   "id": "1b0a8c233463dcfc",
   "outputs": [
    {
     "data": {
      "text/plain": [
       "6"
      ]
     },
     "execution_count": 7,
     "metadata": {},
     "output_type": "execute_result"
    }
   ],
   "execution_count": 7
  },
  {
   "metadata": {
    "ExecuteTime": {
     "end_time": "2025-02-07T10:25:32.599462Z",
     "start_time": "2025-02-07T10:25:32.591719Z"
    }
   },
   "cell_type": "code",
   "source": [
    "# Wahrscheinlichkeit für z.B. 1, 2, 3:\n",
    "1/len(perms)"
   ],
   "id": "e1d8acde7bd9cf7e",
   "outputs": [
    {
     "data": {
      "text/plain": [
       "0.16666666666666666"
      ]
     },
     "execution_count": 8,
     "metadata": {},
     "output_type": "execute_result"
    }
   ],
   "execution_count": 8
  },
  {
   "metadata": {
    "ExecuteTime": {
     "end_time": "2025-02-07T10:30:14.113647Z",
     "start_time": "2025-02-07T10:30:14.107421Z"
    }
   },
   "cell_type": "code",
   "source": [
    "# Mit for-Schleife Anzahl der Permutationen von fünf Elementen berechnen (1,2,3,4,5):\n",
    "# n! nachbauen!\n",
    "\n",
    "n = 5\n",
    "result = 1\n",
    "\n",
    "for num in range(1, n+1):\n",
    "    result *= num\n",
    "    # print(result)\n",
    "    # oder auch: result = result * num\n",
    "\n",
    "print(result)"
   ],
   "id": "a58400053a5126f2",
   "outputs": [
    {
     "name": "stdout",
     "output_type": "stream",
     "text": [
      "120\n"
     ]
    }
   ],
   "execution_count": 14
  },
  {
   "metadata": {
    "ExecuteTime": {
     "end_time": "2025-02-07T10:30:31.822815Z",
     "start_time": "2025-02-07T10:30:31.816535Z"
    }
   },
   "cell_type": "code",
   "source": [
    "# Anzahl möglicher Permutationen berechnen mit factorial aus dem Modul math:\n",
    "math.factorial(5)"
   ],
   "id": "742df70601bf5cfd",
   "outputs": [
    {
     "data": {
      "text/plain": [
       "120"
      ]
     },
     "execution_count": 15,
     "metadata": {},
     "output_type": "execute_result"
    }
   ],
   "execution_count": 15
  },
  {
   "metadata": {
    "ExecuteTime": {
     "end_time": "2025-02-07T10:31:42.899793Z",
     "start_time": "2025-02-07T10:31:42.892213Z"
    }
   },
   "cell_type": "code",
   "source": [
    "# Anzahl möglicher Permutationen bei einem 32-Blatt-Kartenspiel:\n",
    "math.factorial(32)"
   ],
   "id": "8ba0dedbae45b6c5",
   "outputs": [
    {
     "data": {
      "text/plain": [
       "263130836933693530167218012160000000"
      ]
     },
     "execution_count": 16,
     "metadata": {},
     "output_type": "execute_result"
    }
   ],
   "execution_count": 16
  },
  {
   "metadata": {
    "ExecuteTime": {
     "end_time": "2025-02-07T10:33:20.387034Z",
     "start_time": "2025-02-07T10:33:20.381991Z"
    }
   },
   "cell_type": "code",
   "source": [
    "# Wie wahrscheinlich ist es, eine Dreier-Kombination von verschiedenfarbigen Kugeln\n",
    "# aus einer Urne zu ziehen?\n",
    "# Da es eine Wahrscheinlichkeit aus den 6 möglichen Permutationen ist,\n",
    "# wird die eine Wahrscheinlichkeit durch den Kehrwert, 1/6 ermittelt: \n",
    "prop = 1 / math.factorial(3)\n",
    "prop"
   ],
   "id": "6a8e208273038e94",
   "outputs": [
    {
     "data": {
      "text/plain": [
       "0.16666666666666666"
      ]
     },
     "execution_count": 17,
     "metadata": {},
     "output_type": "execute_result"
    }
   ],
   "execution_count": 17
  },
  {
   "metadata": {
    "ExecuteTime": {
     "end_time": "2025-02-07T10:33:59.857197Z",
     "start_time": "2025-02-07T10:33:59.851211Z"
    }
   },
   "cell_type": "code",
   "source": [
    "# By the way... Weitere Möglichkeit für String-Formatierung:\n",
    "format(prop, '.2%')\n",
    "# Achtung: Das Ergebnis ist ein String und nicht mehr für mathematische Operationen nutzbar."
   ],
   "id": "bed391af29c55be4",
   "outputs": [
    {
     "data": {
      "text/plain": [
       "'16.67%'"
      ]
     },
     "execution_count": 18,
     "metadata": {},
     "output_type": "execute_result"
    }
   ],
   "execution_count": 18
  },
  {
   "metadata": {
    "ExecuteTime": {
     "end_time": "2025-02-07T10:36:01.824798Z",
     "start_time": "2025-02-07T10:36:01.819554Z"
    }
   },
   "cell_type": "code",
   "source": [
    "# Wie viele Möglichkeiten gibt es bei zwei blauen und zwei roten Kugeln, diese\n",
    "# aus einer Urne zu ziehen?\n",
    "math.factorial(4) / (math.factorial(2)*math.factorial(2))"
   ],
   "id": "19eaf1c6834d563e",
   "outputs": [
    {
     "data": {
      "text/plain": [
       "6.0"
      ]
     },
     "execution_count": 19,
     "metadata": {},
     "output_type": "execute_result"
    }
   ],
   "execution_count": 19
  },
  {
   "metadata": {
    "ExecuteTime": {
     "end_time": "2025-02-07T10:37:52.019004Z",
     "start_time": "2025-02-07T10:37:52.013022Z"
    }
   },
   "cell_type": "code",
   "source": [
    "# Alle möglichen Permutationen ohne Wiederholungen:\n",
    "set(permutations(['r', 'r', 'b', 'b']))"
   ],
   "id": "d041194e4f9c9630",
   "outputs": [
    {
     "data": {
      "text/plain": [
       "{('b', 'b', 'r', 'r'),\n",
       " ('b', 'r', 'b', 'r'),\n",
       " ('b', 'r', 'r', 'b'),\n",
       " ('r', 'b', 'b', 'r'),\n",
       " ('r', 'b', 'r', 'b'),\n",
       " ('r', 'r', 'b', 'b')}"
      ]
     },
     "execution_count": 22,
     "metadata": {},
     "output_type": "execute_result"
    }
   ],
   "execution_count": 22
  },
  {
   "metadata": {
    "ExecuteTime": {
     "end_time": "2025-02-07T10:38:23.709034Z",
     "start_time": "2025-02-07T10:38:23.705793Z"
    }
   },
   "cell_type": "code",
   "source": [
    "# Ziehen von zwei farbigen Kugeln aus drei:\n",
    "balls = ['r', 'g', 'b']"
   ],
   "id": "ce39d99927a61d2b",
   "outputs": [],
   "execution_count": 23
  },
  {
   "metadata": {
    "ExecuteTime": {
     "end_time": "2025-02-07T10:38:50.005388Z",
     "start_time": "2025-02-07T10:38:49.997166Z"
    }
   },
   "cell_type": "code",
   "source": [
    "# Mit factorial nachbauen:\n",
    "math.factorial(3) / (math.factorial(3 - 2))"
   ],
   "id": "3e97666bcfe55510",
   "outputs": [
    {
     "data": {
      "text/plain": [
       "6.0"
      ]
     },
     "execution_count": 24,
     "metadata": {},
     "output_type": "execute_result"
    }
   ],
   "execution_count": 24
  },
  {
   "metadata": {
    "ExecuteTime": {
     "end_time": "2025-02-07T10:40:42.968264Z",
     "start_time": "2025-02-07T10:40:42.962356Z"
    }
   },
   "cell_type": "code",
   "source": [
    "# Noch entspannter mit perm aus dem Modul math:\n",
    "math.perm(3, 2)"
   ],
   "id": "3c6e0b1d6d870c70",
   "outputs": [
    {
     "data": {
      "text/plain": [
       "6"
      ]
     },
     "execution_count": 25,
     "metadata": {},
     "output_type": "execute_result"
    }
   ],
   "execution_count": 25
  },
  {
   "metadata": {
    "ExecuteTime": {
     "end_time": "2025-02-07T10:41:32.851352Z",
     "start_time": "2025-02-07T10:41:32.844907Z"
    }
   },
   "cell_type": "code",
   "source": [
    "# Die Möglichkeiten anzeigen:\n",
    "list(permutations(balls, r=2))\n",
    "# Mit Parameter r steuert man die Anzahl gezogener Elemente."
   ],
   "id": "e009d2964d06b484",
   "outputs": [
    {
     "data": {
      "text/plain": [
       "[('r', 'g'), ('r', 'b'), ('g', 'r'), ('g', 'b'), ('b', 'r'), ('b', 'g')]"
      ]
     },
     "execution_count": 26,
     "metadata": {},
     "output_type": "execute_result"
    }
   ],
   "execution_count": 26
  },
  {
   "metadata": {},
   "cell_type": "markdown",
   "source": "#### Ziehen mit Zurücklegen mit Beachtung der Reihenfolge",
   "id": "1b13019f5c9c0735"
  },
  {
   "metadata": {
    "ExecuteTime": {
     "end_time": "2025-02-07T10:42:41.765323Z",
     "start_time": "2025-02-07T10:42:41.759844Z"
    }
   },
   "cell_type": "code",
   "source": [
    "# Wie viele mögliche Kombinationen gibt es bei einem doppelten Würfelwurf (wobei Reihenfolge ne Rolle spielt)?\n",
    "6**2"
   ],
   "id": "9cb944b114e5a5d1",
   "outputs": [
    {
     "data": {
      "text/plain": [
       "36"
      ]
     },
     "execution_count": 27,
     "metadata": {},
     "output_type": "execute_result"
    }
   ],
   "execution_count": 27
  },
  {
   "metadata": {
    "ExecuteTime": {
     "end_time": "2025-02-07T10:43:02.006118Z",
     "start_time": "2025-02-07T10:43:02.001147Z"
    }
   },
   "cell_type": "code",
   "source": [
    "# Alternative Möglichkeit mit Math:\n",
    "math.pow(6, 2)"
   ],
   "id": "a3a9b66f1534c8ab",
   "outputs": [
    {
     "data": {
      "text/plain": [
       "36.0"
      ]
     },
     "execution_count": 28,
     "metadata": {},
     "output_type": "execute_result"
    }
   ],
   "execution_count": 28
  },
  {
   "metadata": {
    "ExecuteTime": {
     "end_time": "2025-02-07T10:45:11.187398Z",
     "start_time": "2025-02-07T10:45:11.181307Z"
    }
   },
   "cell_type": "code",
   "source": [
    "# Alle Kombinationen als kartesisches Produkt anzeigen lassen mit product aus itertools:\n",
    "dice_outcomes = [1, 2, 3, 4, 5, 6]\n",
    "combs = list(product(dice_outcomes, repeat=2))\n",
    "combs"
   ],
   "id": "74e673e30e832b1d",
   "outputs": [
    {
     "data": {
      "text/plain": [
       "[(1, 1),\n",
       " (1, 2),\n",
       " (1, 3),\n",
       " (1, 4),\n",
       " (1, 5),\n",
       " (1, 6),\n",
       " (2, 1),\n",
       " (2, 2),\n",
       " (2, 3),\n",
       " (2, 4),\n",
       " (2, 5),\n",
       " (2, 6),\n",
       " (3, 1),\n",
       " (3, 2),\n",
       " (3, 3),\n",
       " (3, 4),\n",
       " (3, 5),\n",
       " (3, 6),\n",
       " (4, 1),\n",
       " (4, 2),\n",
       " (4, 3),\n",
       " (4, 4),\n",
       " (4, 5),\n",
       " (4, 6),\n",
       " (5, 1),\n",
       " (5, 2),\n",
       " (5, 3),\n",
       " (5, 4),\n",
       " (5, 5),\n",
       " (5, 6),\n",
       " (6, 1),\n",
       " (6, 2),\n",
       " (6, 3),\n",
       " (6, 4),\n",
       " (6, 5),\n",
       " (6, 6)]"
      ]
     },
     "execution_count": 31,
     "metadata": {},
     "output_type": "execute_result"
    }
   ],
   "execution_count": 31
  },
  {
   "metadata": {
    "ExecuteTime": {
     "end_time": "2025-02-07T10:45:25.229313Z",
     "start_time": "2025-02-07T10:45:25.224016Z"
    }
   },
   "cell_type": "code",
   "source": [
    "# Für die Zahl 1 als ersten Wurf gibt es sechs Möglichkeiten:\n",
    "combs[:6]"
   ],
   "id": "90178eb36b974cc2",
   "outputs": [
    {
     "data": {
      "text/plain": [
       "[(1, 1), (1, 2), (1, 3), (1, 4), (1, 5), (1, 6)]"
      ]
     },
     "execution_count": 32,
     "metadata": {},
     "output_type": "execute_result"
    }
   ],
   "execution_count": 32
  },
  {
   "metadata": {
    "ExecuteTime": {
     "end_time": "2025-02-07T10:45:33.206443Z",
     "start_time": "2025-02-07T10:45:33.200780Z"
    }
   },
   "cell_type": "code",
   "source": [
    "# Für die Zahl 2 als Startwurf ebenfalls:\n",
    "combs[6:12]"
   ],
   "id": "2bdef355d2a42daf",
   "outputs": [
    {
     "data": {
      "text/plain": [
       "[(2, 1), (2, 2), (2, 3), (2, 4), (2, 5), (2, 6)]"
      ]
     },
     "execution_count": 33,
     "metadata": {},
     "output_type": "execute_result"
    }
   ],
   "execution_count": 33
  },
  {
   "metadata": {},
   "cell_type": "code",
   "source": "# Uns so für jede Zahl ergibt das: 6*6 = 36",
   "id": "536100ced58062f2",
   "outputs": [],
   "execution_count": null
  },
  {
   "metadata": {
    "ExecuteTime": {
     "end_time": "2025-02-07T10:46:20.545053Z",
     "start_time": "2025-02-07T10:46:20.540019Z"
    }
   },
   "cell_type": "code",
   "source": [
    "# Check\n",
    "len(combs)"
   ],
   "id": "8da86312fbd0beb9",
   "outputs": [
    {
     "data": {
      "text/plain": [
       "36"
      ]
     },
     "execution_count": 34,
     "metadata": {},
     "output_type": "execute_result"
    }
   ],
   "execution_count": 34
  },
  {
   "metadata": {},
   "cell_type": "markdown",
   "source": "#### Ziehen ohne Zurücklegen ohne Beachtung der Reihenfolge",
   "id": "f0d1563148ee9bee"
  },
  {
   "metadata": {
    "ExecuteTime": {
     "end_time": "2025-02-07T10:47:19.560150Z",
     "start_time": "2025-02-07T10:47:19.556555Z"
    }
   },
   "cell_type": "code",
   "source": "balls = ['r', 'b', 'g', 'p']",
   "id": "bb4b3312c847b0b0",
   "outputs": [],
   "execution_count": 35
  },
  {
   "metadata": {},
   "cell_type": "code",
   "source": [
    "# Per Hand raussuchen:\n",
    "kombi1 = ['r', 'b', 'g']\n",
    "kombi2 = ['r', 'b', 'p']\n",
    "kombi3 = ['r', 'g', 'p']\n",
    "# Ab jetzt ist 'r' \"verbrannt\" und es bleibt nur noch eine Kombination der übrigen Elemente übrig:\n",
    "kombi4 = ['b', 'g', 'p']"
   ],
   "id": "4aaf75a8e4d1fdb8",
   "outputs": [],
   "execution_count": null
  },
  {
   "metadata": {
    "ExecuteTime": {
     "end_time": "2025-02-07T10:48:30.093229Z",
     "start_time": "2025-02-07T10:48:30.088041Z"
    }
   },
   "cell_type": "code",
   "source": [
    "# Die Kombinationen lassen sich auch mit combinations aus itertools anzeigen:\n",
    "list(combinations(balls, r=3))"
   ],
   "id": "4e935eb2ec838e78",
   "outputs": [
    {
     "data": {
      "text/plain": [
       "[('r', 'b', 'g'), ('r', 'b', 'p'), ('r', 'g', 'p'), ('b', 'g', 'p')]"
      ]
     },
     "execution_count": 36,
     "metadata": {},
     "output_type": "execute_result"
    }
   ],
   "execution_count": 36
  },
  {
   "metadata": {
    "ExecuteTime": {
     "end_time": "2025-02-07T10:50:13.211629Z",
     "start_time": "2025-02-07T10:50:13.205339Z"
    }
   },
   "cell_type": "code",
   "source": [
    "# Ausrechnen unter Nachbildung des Binomialkoeffizienten\n",
    "# n = 4, k = 3\n",
    "math.factorial(4) / (math.factorial(4 - 3) * math.factorial(3))"
   ],
   "id": "23997cddd399e588",
   "outputs": [
    {
     "data": {
      "text/plain": [
       "4.0"
      ]
     },
     "execution_count": 37,
     "metadata": {},
     "output_type": "execute_result"
    }
   ],
   "execution_count": 37
  },
  {
   "metadata": {
    "ExecuteTime": {
     "end_time": "2025-02-07T10:50:48.578287Z",
     "start_time": "2025-02-07T10:50:48.572260Z"
    }
   },
   "cell_type": "code",
   "source": [
    "# Den einfachen Weg bietet comb aus dem Modul math:\n",
    "math.comb(4, 3)"
   ],
   "id": "76ae72184c7ec5ee",
   "outputs": [
    {
     "data": {
      "text/plain": [
       "4"
      ]
     },
     "execution_count": 38,
     "metadata": {},
     "output_type": "execute_result"
    }
   ],
   "execution_count": 38
  },
  {
   "metadata": {},
   "cell_type": "markdown",
   "source": "#### Ziehen mit Zurücklegen ohne Beachtung der Reihenfolge",
   "id": "51e34f768df058ae"
  },
  {
   "metadata": {
    "ExecuteTime": {
     "end_time": "2025-02-07T10:55:49.010052Z",
     "start_time": "2025-02-07T10:55:49.004339Z"
    }
   },
   "cell_type": "code",
   "source": [
    "# Nachbildung der Formel für doppelten Würfelwurf (Reihenfolge egal! realistisch):\n",
    "n = 6\n",
    "k = 2\n",
    "\n",
    "math.factorial(n+k-1) / (math.factorial(n - 1) * math.factorial(k))"
   ],
   "id": "5842cd6fd981f73a",
   "outputs": [
    {
     "data": {
      "text/plain": [
       "21.0"
      ]
     },
     "execution_count": 39,
     "metadata": {},
     "output_type": "execute_result"
    }
   ],
   "execution_count": 39
  },
  {
   "metadata": {
    "ExecuteTime": {
     "end_time": "2025-02-07T10:56:31.570605Z",
     "start_time": "2025-02-07T10:56:31.565277Z"
    }
   },
   "cell_type": "code",
   "source": [
    "# Eingesetzt in comb des Moduls math:\n",
    "math.comb(n + k - 1, k)"
   ],
   "id": "410d93b76017466d",
   "outputs": [
    {
     "data": {
      "text/plain": [
       "21"
      ]
     },
     "execution_count": 40,
     "metadata": {},
     "output_type": "execute_result"
    }
   ],
   "execution_count": 40
  },
  {
   "metadata": {
    "ExecuteTime": {
     "end_time": "2025-02-07T11:00:03.506811Z",
     "start_time": "2025-02-07T11:00:03.500880Z"
    }
   },
   "cell_type": "code",
   "source": [
    "# So kriegen wir die Liste der Kombinationen, wenn die Reihenfolge keine Rolle spielt.\n",
    "# Da es insgesamt noch sechs mögliche Paschs gibt, kommen auf die 15 noch 6 weitere drauf > 21.\n",
    "two_dice = list(combinations_with_replacement(range(1, 7), r=2))\n",
    "two_dice"
   ],
   "id": "8b06186c5c26dd9e",
   "outputs": [
    {
     "data": {
      "text/plain": [
       "[(1, 1),\n",
       " (1, 2),\n",
       " (1, 3),\n",
       " (1, 4),\n",
       " (1, 5),\n",
       " (1, 6),\n",
       " (2, 2),\n",
       " (2, 3),\n",
       " (2, 4),\n",
       " (2, 5),\n",
       " (2, 6),\n",
       " (3, 3),\n",
       " (3, 4),\n",
       " (3, 5),\n",
       " (3, 6),\n",
       " (4, 4),\n",
       " (4, 5),\n",
       " (4, 6),\n",
       " (5, 5),\n",
       " (5, 6),\n",
       " (6, 6)]"
      ]
     },
     "execution_count": 43,
     "metadata": {},
     "output_type": "execute_result"
    }
   ],
   "execution_count": 43
  },
  {
   "metadata": {
    "ExecuteTime": {
     "end_time": "2025-02-07T11:00:13.223895Z",
     "start_time": "2025-02-07T11:00:13.218467Z"
    }
   },
   "cell_type": "code",
   "source": "len(two_dice)",
   "id": "3be67c7d1734d210",
   "outputs": [
    {
     "data": {
      "text/plain": [
       "21"
      ]
     },
     "execution_count": 44,
     "metadata": {},
     "output_type": "execute_result"
    }
   ],
   "execution_count": 44
  },
  {
   "metadata": {},
   "cell_type": "code",
   "source": [
    "# Übungsaufgaben: Ordne im Urnenmodell zu und löse\n",
    "# 1. Im Skatspiel zieht man 10 von 32 Karten. Wie viele Skathände sind möglich?\n",
    "# 2. Bei vier Fußballspielen infolge richtig tippen (jedes Mal 3 Möglichkeiten: Sieg, Niederlage, Unentschieden)\n",
    "# 3. Eine PIN besteht aus vier Zahlen: Wie viele PINs sind möglich?\n",
    "# 4. In deinem Lieblingseisgeschäft gibt es 8 Sorten Eis. Wie viele Kugelbecher mit drei Kugeln kannst du dir zusammenstellen?"
   ],
   "id": "255d64531d8be4d2",
   "outputs": [],
   "execution_count": null
  },
  {
   "metadata": {},
   "cell_type": "code",
   "source": "",
   "id": "3b632d8967956f22",
   "outputs": [],
   "execution_count": null
  },
  {
   "metadata": {},
   "cell_type": "code",
   "source": "",
   "id": "39ec37d4061ea845",
   "outputs": [],
   "execution_count": null
  },
  {
   "metadata": {},
   "cell_type": "code",
   "source": "",
   "id": "af3b09d5cf159cbb",
   "outputs": [],
   "execution_count": null
  },
  {
   "metadata": {},
   "cell_type": "code",
   "source": "",
   "id": "b265652e6d6f237e",
   "outputs": [],
   "execution_count": null
  }
 ],
 "metadata": {
  "kernelspec": {
   "display_name": "Python 3",
   "language": "python",
   "name": "python3"
  },
  "language_info": {
   "codemirror_mode": {
    "name": "ipython",
    "version": 2
   },
   "file_extension": ".py",
   "mimetype": "text/x-python",
   "name": "python",
   "nbconvert_exporter": "python",
   "pygments_lexer": "ipython2",
   "version": "2.7.6"
  }
 },
 "nbformat": 4,
 "nbformat_minor": 5
}
