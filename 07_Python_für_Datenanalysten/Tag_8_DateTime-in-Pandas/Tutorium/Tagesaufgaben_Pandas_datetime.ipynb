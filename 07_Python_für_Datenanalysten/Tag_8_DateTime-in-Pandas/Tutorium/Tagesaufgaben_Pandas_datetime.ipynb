{
 "cells": [
  {
   "cell_type": "markdown",
   "metadata": {},
   "source": [
    "<br><br><center><h1 style=\"font-size:2em;color:#2467C0\">Tagesaufgaben: Pandas Datetime\n",
    "</h1></center>\n",
    "<br>"
   ]
  },
  {
   "metadata": {},
   "cell_type": "code",
   "source": "# Deine Imports:\n",
   "outputs": [],
   "execution_count": null
  },
  {
   "cell_type": "markdown",
   "metadata": {},
   "source": [
    "Aufgabe 1:\n",
    "\n",
    "Erstelle eine Pandas Series mit täglichen Datumsangaben für eine Woche, beginnend am 15.05.2024.\n",
    "\n",
    "Nutze zur Erstellung einen String im Ausgangsformat \"YYYY-MM-DD\".\n",
    "\n",
    "Gib die Series anschließend aus."
   ]
  },
  {
   "cell_type": "code",
   "metadata": {},
   "source": "",
   "outputs": [],
   "execution_count": null
  },
  {
   "cell_type": "markdown",
   "metadata": {},
   "source": "Aufgabe 2: Lass dir nun aus der Series die folgenden Datumsbestandteile separat ausgeben: Jahr, Monat, Tag, Stunde, Minute."
  },
  {
   "cell_type": "code",
   "metadata": {},
   "source": "",
   "outputs": [],
   "execution_count": null
  },
  {
   "cell_type": "markdown",
   "metadata": {},
   "source": [
    "Aufgabe 3:\n",
    "\n",
    "Führe den nachfolgenden Code aus (revenues).\n",
    "\n",
    "Erzeuge dann einen DatetimeIndex mit den Tagen der Monate Mai-Juli 2024.\n",
    "\n",
    "Füge account_balances und date_range zu einer Series zusammen, wobei date_range der Index sein soll. Die Series soll den Namen revenue erhalten."
   ]
  },
  {
   "metadata": {},
   "cell_type": "code",
   "source": [
    "np.random.seed(42)\n",
    "revenues = np.random.randint(1500, 8000, 92)\n",
    "revenues"
   ],
   "outputs": [],
   "execution_count": null
  },
  {
   "cell_type": "code",
   "metadata": {},
   "source": "",
   "outputs": [],
   "execution_count": null
  },
  {
   "metadata": {},
   "cell_type": "code",
   "source": "",
   "outputs": [],
   "execution_count": null
  },
  {
   "cell_type": "markdown",
   "metadata": {},
   "source": "Aufgabe 4: Gruppiere nach dem Monat und lasse dir Monatssummen sowie den Durchschnitt für jeden Monat ausgeben."
  },
  {
   "metadata": {},
   "cell_type": "code",
   "source": "",
   "outputs": [],
   "execution_count": null
  },
  {
   "metadata": {},
   "cell_type": "markdown",
   "source": [
    "Aufgabe 5: Filtere nun die Series nach Daten, die zwischen dem 13.05.2024 und dem 19.05.2024 liegen, nenne den Ausschnitt period_of_interest und schaue dir Minimum, Maximum und Summe an.\n",
    "\n",
    "Bonus: Benenne das Resultat so (Series-Name), dass erkennbar ist, dass es hier nur um den genannten Zeitraum geht."
   ]
  },
  {
   "metadata": {},
   "cell_type": "code",
   "source": "",
   "outputs": [],
   "execution_count": null
  },
  {
   "metadata": {},
   "cell_type": "code",
   "source": "",
   "outputs": [],
   "execution_count": null
  },
  {
   "metadata": {},
   "cell_type": "markdown",
   "source": [
    "Aufgabe 6: Ändere den Index, sodass er die Wochentage mit Namen anzeigt.\n",
    "\n",
    "Gruppiere nach den Wochentagen und beantworte die Frage, welche Einnahmen es durchschnittlich an den verschiedenen Wochentagen gibt.\n",
    "\n",
    "Passe die Series an, sodass sie bei Montag startet und mit Sonntag abschließt."
   ]
  },
  {
   "metadata": {},
   "cell_type": "code",
   "source": "",
   "outputs": [],
   "execution_count": null
  },
  {
   "metadata": {},
   "cell_type": "code",
   "source": "",
   "outputs": [],
   "execution_count": null
  },
  {
   "metadata": {},
   "cell_type": "code",
   "source": "",
   "outputs": [],
   "execution_count": null
  },
  {
   "metadata": {},
   "cell_type": "markdown",
   "source": [
    "Aufgabe 7: Lade den Taxis-Datensatz aus Seaborn, allerdings nur die Spalten pickup, dropoff, total, distance.\n",
    "\n",
    "Füge eine Spalte travel_time hinzu, die die Differenz zwischen pickup und dropoff enthält."
   ]
  },
  {
   "metadata": {},
   "cell_type": "code",
   "source": "",
   "outputs": [],
   "execution_count": null
  },
  {
   "metadata": {},
   "cell_type": "code",
   "source": "",
   "outputs": [],
   "execution_count": null
  },
  {
   "metadata": {},
   "cell_type": "markdown",
   "source": [
    "Aufgabe 8: Entferne die dropoff-Spalte und erhebe die pickup-Spalte zum Index und gruppiere die Daten nach Tag (eine Zeile pro Tag), um die tägliche Gesamtdistanz sowie Gesamtfahrtzeit der Taxis zu erhalten. Speichere das Ergebnis als 'daily_business'.\n",
    "\n",
    "Bonus: Wandle die Spalte travel_time so um, dass sie dort Stunden enthält."
   ]
  },
  {
   "cell_type": "code",
   "metadata": {},
   "source": "",
   "outputs": [],
   "execution_count": null
  },
  {
   "metadata": {},
   "cell_type": "code",
   "source": "",
   "outputs": [],
   "execution_count": null
  },
  {
   "metadata": {},
   "cell_type": "code",
   "source": "",
   "outputs": [],
   "execution_count": null
  },
  {
   "metadata": {},
   "cell_type": "markdown",
   "source": "Aufgabe 9: Slice von '2019-03-04' bis '2019-03-10' aus daily_business und nenne den Slice one_week. Ordne nun den einzelnen Daten die Namen der Wochentage zu und plotte ein Liniendiagramm mit dem täglichen 'total' und Markern, um die Datenpunkte besser zu sehen."
  },
  {
   "metadata": {},
   "cell_type": "code",
   "source": "",
   "outputs": [],
   "execution_count": null
  },
  {
   "metadata": {},
   "cell_type": "code",
   "source": "",
   "outputs": [],
   "execution_count": null
  },
  {
   "metadata": {},
   "cell_type": "code",
   "source": "",
   "outputs": [],
   "execution_count": null
  },
  {
   "metadata": {},
   "cell_type": "markdown",
   "source": "Aufgabe 10: Tob dich hier gerne weiter aus."
  },
  {
   "metadata": {},
   "cell_type": "code",
   "source": "",
   "outputs": [],
   "execution_count": null
  },
  {
   "metadata": {},
   "cell_type": "code",
   "source": "",
   "outputs": [],
   "execution_count": null
  },
  {
   "metadata": {},
   "cell_type": "code",
   "source": "",
   "outputs": [],
   "execution_count": null
  }
 ],
 "metadata": {
  "kernelspec": {
   "display_name": "kurs6",
   "language": "python",
   "name": "python3"
  },
  "language_info": {
   "codemirror_mode": {
    "name": "ipython",
    "version": 3
   },
   "file_extension": ".py",
   "mimetype": "text/x-python",
   "name": "python",
   "nbconvert_exporter": "python",
   "pygments_lexer": "ipython3",
   "version": "3.10.13"
  }
 },
 "nbformat": 4,
 "nbformat_minor": 2
}
