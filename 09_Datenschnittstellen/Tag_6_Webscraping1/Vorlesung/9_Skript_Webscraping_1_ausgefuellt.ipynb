{
 "cells": [
  {
   "cell_type": "markdown",
   "metadata": {
    "collapsed": false
   },
   "source": [
    "# Skript: Webscraping mit BeautifulSoup\n",
    "\n",
    "Benötigt werden:\n",
    "\n",
    "* Pakete `requests` und `bs4`\n",
    "\n",
    "* Grundverständnis von HTML\n",
    "\n",
    "### Achtung!\n",
    "\n",
    "Vor jedem Webscraping stellen wir uns folgende Fragen:\n",
    "- Gibt es auf der Webseite stattdessen eine API, auf welche wir zugreifen können? Das erspart uns Arbeit.\n",
    "- Verbietet die Webseite das Scrapen von Daten? (`/robots.txt` überprüfen)\n",
    "\n",
    "## Beautiful Soup 4\n",
    "\n",
    "Dieses Modul kann HTML-Text auslesen und alle Informationen extrahieren. Wir können aus einem  BeautifulSoup-Objekt dann die Schnipsel holen, die für uns Wert haben. Das Modul müssen wir zunächst installieren. Achtung! Installiert wird es unter dem Namen `beautifulsoup4`, importiert wird es jedoch unter `bs4`! Wir können conda für die Installation nutzen."
   ]
  },
  {
   "cell_type": "code",
   "metadata": {
    "collapsed": false,
    "ExecuteTime": {
     "end_time": "2025-01-24T08:23:03.427810Z",
     "start_time": "2025-01-24T08:22:54.479534Z"
    }
   },
   "source": [
    "# Modulimporte\n",
    "import pandas as pd\n",
    "import requests\n",
    "import bs4\n",
    "from bs4 import BeautifulSoup"
   ],
   "outputs": [],
   "execution_count": 1
  },
  {
   "cell_type": "code",
   "metadata": {
    "ExecuteTime": {
     "end_time": "2025-01-24T08:24:11.730491Z",
     "start_time": "2025-01-24T08:24:11.722426Z"
    }
   },
   "source": [
    "# Beispiel HTML:\n",
    "html = '''<section><article><h1>Test-Artikel</h1><p>Dies ist ein <strong>Beispiel-Artikel</strong> in HTML-Form.</p><p>Absatz 2.</p></article></section>'''\n",
    "print(html)"
   ],
   "outputs": [
    {
     "name": "stdout",
     "output_type": "stream",
     "text": [
      "<section><article><h1>Test-Artikel</h1><p>Dies ist ein <strong>Beispiel-Artikel</strong> in HTML-Form.</p><p>Absatz 2.</p></article></section>\n"
     ]
    }
   ],
   "execution_count": 2
  },
  {
   "cell_type": "code",
   "metadata": {
    "ExecuteTime": {
     "end_time": "2025-01-24T08:24:51.758728Z",
     "start_time": "2025-01-24T08:24:51.748404Z"
    }
   },
   "source": [
    "# Verwendung bs4: Suppen-Objekt erstellen\n",
    "soup = BeautifulSoup(html)"
   ],
   "outputs": [],
   "execution_count": 3
  },
  {
   "cell_type": "code",
   "metadata": {
    "ExecuteTime": {
     "end_time": "2025-01-24T08:25:01.610205Z",
     "start_time": "2025-01-24T08:25:01.588369Z"
    }
   },
   "source": [
    "# Was kann unser Objekt alles?\n",
    "dir(soup)"
   ],
   "outputs": [
    {
     "data": {
      "text/plain": [
       "['ASCII_SPACES',\n",
       " 'DEFAULT_BUILDER_FEATURES',\n",
       " 'DEFAULT_INTERESTING_STRING_TYPES',\n",
       " 'EMPTY_ELEMENT_EVENT',\n",
       " 'END_ELEMENT_EVENT',\n",
       " 'NO_PARSER_SPECIFIED_WARNING',\n",
       " 'ROOT_TAG_NAME',\n",
       " 'START_ELEMENT_EVENT',\n",
       " 'STRING_ELEMENT_EVENT',\n",
       " '__bool__',\n",
       " '__call__',\n",
       " '__class__',\n",
       " '__contains__',\n",
       " '__copy__',\n",
       " '__deepcopy__',\n",
       " '__delattr__',\n",
       " '__delitem__',\n",
       " '__dict__',\n",
       " '__dir__',\n",
       " '__doc__',\n",
       " '__eq__',\n",
       " '__firstlineno__',\n",
       " '__format__',\n",
       " '__ge__',\n",
       " '__getattr__',\n",
       " '__getattribute__',\n",
       " '__getitem__',\n",
       " '__getstate__',\n",
       " '__gt__',\n",
       " '__hash__',\n",
       " '__init__',\n",
       " '__init_subclass__',\n",
       " '__iter__',\n",
       " '__le__',\n",
       " '__len__',\n",
       " '__lt__',\n",
       " '__module__',\n",
       " '__ne__',\n",
       " '__new__',\n",
       " '__reduce__',\n",
       " '__reduce_ex__',\n",
       " '__repr__',\n",
       " '__setattr__',\n",
       " '__setitem__',\n",
       " '__setstate__',\n",
       " '__sizeof__',\n",
       " '__static_attributes__',\n",
       " '__str__',\n",
       " '__subclasshook__',\n",
       " '__unicode__',\n",
       " '__weakref__',\n",
       " '_all_strings',\n",
       " '_clone',\n",
       " '_decode_markup',\n",
       " '_event_stream',\n",
       " '_feed',\n",
       " '_find_all',\n",
       " '_find_one',\n",
       " '_format_tag',\n",
       " '_indent_string',\n",
       " '_is_xml',\n",
       " '_lastRecursiveChild',\n",
       " '_last_descendant',\n",
       " '_linkage_fixer',\n",
       " '_markup_is_url',\n",
       " '_markup_resembles_filename',\n",
       " '_most_recent_element',\n",
       " '_namespaces',\n",
       " '_popToTag',\n",
       " '_should_pretty_print',\n",
       " 'append',\n",
       " 'attrs',\n",
       " 'builder',\n",
       " 'can_be_empty_element',\n",
       " 'cdata_list_attributes',\n",
       " 'childGenerator',\n",
       " 'children',\n",
       " 'clear',\n",
       " 'contains_replacement_characters',\n",
       " 'contents',\n",
       " 'css',\n",
       " 'currentTag',\n",
       " 'current_data',\n",
       " 'declared_html_encoding',\n",
       " 'decode',\n",
       " 'decode_contents',\n",
       " 'decompose',\n",
       " 'decomposed',\n",
       " 'default',\n",
       " 'descendants',\n",
       " 'element_classes',\n",
       " 'encode',\n",
       " 'encode_contents',\n",
       " 'endData',\n",
       " 'extend',\n",
       " 'extract',\n",
       " 'fetchNextSiblings',\n",
       " 'fetchParents',\n",
       " 'fetchPrevious',\n",
       " 'fetchPreviousSiblings',\n",
       " 'find',\n",
       " 'findAll',\n",
       " 'findAllNext',\n",
       " 'findAllPrevious',\n",
       " 'findChild',\n",
       " 'findChildren',\n",
       " 'findNext',\n",
       " 'findNextSibling',\n",
       " 'findNextSiblings',\n",
       " 'findParent',\n",
       " 'findParents',\n",
       " 'findPrevious',\n",
       " 'findPreviousSibling',\n",
       " 'findPreviousSiblings',\n",
       " 'find_all',\n",
       " 'find_all_next',\n",
       " 'find_all_previous',\n",
       " 'find_next',\n",
       " 'find_next_sibling',\n",
       " 'find_next_siblings',\n",
       " 'find_parent',\n",
       " 'find_parents',\n",
       " 'find_previous',\n",
       " 'find_previous_sibling',\n",
       " 'find_previous_siblings',\n",
       " 'format_string',\n",
       " 'formatter_for_name',\n",
       " 'get',\n",
       " 'getText',\n",
       " 'get_attribute_list',\n",
       " 'get_text',\n",
       " 'handle_data',\n",
       " 'handle_endtag',\n",
       " 'handle_starttag',\n",
       " 'has_attr',\n",
       " 'has_key',\n",
       " 'hidden',\n",
       " 'index',\n",
       " 'insert',\n",
       " 'insert_after',\n",
       " 'insert_before',\n",
       " 'interesting_string_types',\n",
       " 'isSelfClosing',\n",
       " 'is_empty_element',\n",
       " 'is_xml',\n",
       " 'known_xml',\n",
       " 'markup',\n",
       " 'name',\n",
       " 'namespace',\n",
       " 'new_string',\n",
       " 'new_tag',\n",
       " 'next',\n",
       " 'nextGenerator',\n",
       " 'nextSibling',\n",
       " 'nextSiblingGenerator',\n",
       " 'next_element',\n",
       " 'next_elements',\n",
       " 'next_sibling',\n",
       " 'next_siblings',\n",
       " 'object_was_parsed',\n",
       " 'open_tag_counter',\n",
       " 'original_encoding',\n",
       " 'parent',\n",
       " 'parentGenerator',\n",
       " 'parents',\n",
       " 'parse_only',\n",
       " 'parserClass',\n",
       " 'parser_class',\n",
       " 'popTag',\n",
       " 'prefix',\n",
       " 'preserve_whitespace_tag_stack',\n",
       " 'preserve_whitespace_tags',\n",
       " 'prettify',\n",
       " 'previous',\n",
       " 'previousGenerator',\n",
       " 'previousSibling',\n",
       " 'previousSiblingGenerator',\n",
       " 'previous_element',\n",
       " 'previous_elements',\n",
       " 'previous_sibling',\n",
       " 'previous_siblings',\n",
       " 'pushTag',\n",
       " 'recursiveChildGenerator',\n",
       " 'renderContents',\n",
       " 'replaceWith',\n",
       " 'replaceWithChildren',\n",
       " 'replace_with',\n",
       " 'replace_with_children',\n",
       " 'reset',\n",
       " 'select',\n",
       " 'select_one',\n",
       " 'self_and_descendants',\n",
       " 'setup',\n",
       " 'smooth',\n",
       " 'string',\n",
       " 'string_container',\n",
       " 'string_container_stack',\n",
       " 'strings',\n",
       " 'stripped_strings',\n",
       " 'tagStack',\n",
       " 'text',\n",
       " 'unwrap',\n",
       " 'wrap']"
      ]
     },
     "execution_count": 4,
     "metadata": {},
     "output_type": "execute_result"
    }
   ],
   "execution_count": 4
  },
  {
   "cell_type": "code",
   "metadata": {
    "ExecuteTime": {
     "end_time": "2025-01-24T08:25:43.503415Z",
     "start_time": "2025-01-24T08:25:43.492619Z"
    }
   },
   "source": [
    "# Wie sieht der Inhalt aus?\n",
    "soup"
   ],
   "outputs": [
    {
     "data": {
      "text/plain": [
       "<section><article><h1>Test-Artikel</h1><p>Dies ist ein <strong>Beispiel-Artikel</strong> in HTML-Form.</p><p>Absatz 2.</p></article></section>"
      ]
     },
     "execution_count": 5,
     "metadata": {},
     "output_type": "execute_result"
    }
   ],
   "execution_count": 5
  },
  {
   "metadata": {
    "ExecuteTime": {
     "end_time": "2025-01-24T08:26:26.178118Z",
     "start_time": "2025-01-24T08:26:26.165743Z"
    }
   },
   "cell_type": "code",
   "source": "type(soup)",
   "outputs": [
    {
     "data": {
      "text/plain": [
       "bs4.BeautifulSoup"
      ]
     },
     "execution_count": 6,
     "metadata": {},
     "output_type": "execute_result"
    }
   ],
   "execution_count": 6
  },
  {
   "cell_type": "code",
   "metadata": {
    "ExecuteTime": {
     "end_time": "2025-01-24T08:26:52.240011Z",
     "start_time": "2025-01-24T08:26:52.228877Z"
    }
   },
   "source": [
    "# Ausgabe-Formatierung mit .prettify() \"verschönern\"\n",
    "print(soup.prettify())"
   ],
   "outputs": [
    {
     "name": "stdout",
     "output_type": "stream",
     "text": [
      "<section>\n",
      " <article>\n",
      "  <h1>\n",
      "   Test-Artikel\n",
      "  </h1>\n",
      "  <p>\n",
      "   Dies ist ein\n",
      "   <strong>\n",
      "    Beispiel-Artikel\n",
      "   </strong>\n",
      "   in HTML-Form.\n",
      "  </p>\n",
      "  <p>\n",
      "   Absatz 2.\n",
      "  </p>\n",
      " </article>\n",
      "</section>\n",
      "\n"
     ]
    }
   ],
   "execution_count": 8
  },
  {
   "cell_type": "code",
   "metadata": {
    "ExecuteTime": {
     "end_time": "2025-01-24T08:28:50.858219Z",
     "start_time": "2025-01-24T08:28:50.844633Z"
    }
   },
   "source": [
    "# Wir können auch spezielle Formatierer\n",
    "# \"Formatter\" benutzen, die uns den Inhalt\n",
    "# schön darstellen.\n",
    "formatter = bs4.formatter.HTMLFormatter(indent=4)\n",
    "print(soup.prettify(formatter=formatter))"
   ],
   "outputs": [
    {
     "name": "stdout",
     "output_type": "stream",
     "text": [
      "<section>\n",
      "    <article>\n",
      "        <h1>\n",
      "            Test-Artikel\n",
      "        </h1>\n",
      "        <p>\n",
      "            Dies ist ein\n",
      "            <strong>\n",
      "                Beispiel-Artikel\n",
      "            </strong>\n",
      "            in HTML-Form.\n",
      "        </p>\n",
      "        <p>\n",
      "            Absatz 2.\n",
      "        </p>\n",
      "    </article>\n",
      "</section>\n",
      "\n"
     ]
    }
   ],
   "execution_count": 9
  },
  {
   "cell_type": "code",
   "metadata": {
    "ExecuteTime": {
     "end_time": "2025-01-24T08:30:18.125742Z",
     "start_time": "2025-01-24T08:30:18.115425Z"
    }
   },
   "source": [
    "# Wichtigste Funktionen:\n",
    "# find - Findet den ersten Eintrag\n",
    "# des angegebenen HTML Tags\n",
    "soup.find('h1')"
   ],
   "outputs": [
    {
     "data": {
      "text/plain": [
       "<h1>Test-Artikel</h1>"
      ]
     },
     "execution_count": 10,
     "metadata": {},
     "output_type": "execute_result"
    }
   ],
   "execution_count": 10
  },
  {
   "cell_type": "code",
   "source": [
    "# Alternative Notation: \n",
    "soup.h1"
   ],
   "metadata": {
    "collapsed": false,
    "ExecuteTime": {
     "end_time": "2025-01-24T08:30:58.560951Z",
     "start_time": "2025-01-24T08:30:58.543304Z"
    }
   },
   "outputs": [
    {
     "data": {
      "text/plain": [
       "<h1>Test-Artikel</h1>"
      ]
     },
     "execution_count": 11,
     "metadata": {},
     "output_type": "execute_result"
    }
   ],
   "execution_count": 11
  },
  {
   "cell_type": "code",
   "source": "soup.find('p')",
   "metadata": {
    "collapsed": false,
    "ExecuteTime": {
     "end_time": "2025-01-24T08:33:05.886310Z",
     "start_time": "2025-01-24T08:33:05.870281Z"
    }
   },
   "outputs": [
    {
     "data": {
      "text/plain": [
       "<p>Dies ist ein <strong>Beispiel-Artikel</strong> in HTML-Form.</p>"
      ]
     },
     "execution_count": 12,
     "metadata": {},
     "output_type": "execute_result"
    }
   ],
   "execution_count": 12
  },
  {
   "cell_type": "code",
   "source": "soup.p",
   "metadata": {
    "collapsed": false,
    "ExecuteTime": {
     "end_time": "2025-01-24T08:33:23.943297Z",
     "start_time": "2025-01-24T08:33:23.930604Z"
    }
   },
   "outputs": [
    {
     "data": {
      "text/plain": [
       "<p>Dies ist ein <strong>Beispiel-Artikel</strong> in HTML-Form.</p>"
      ]
     },
     "execution_count": 13,
     "metadata": {},
     "output_type": "execute_result"
    }
   ],
   "execution_count": 13
  },
  {
   "cell_type": "code",
   "source": [
    "# Find ist mächtiger als die Punkt-Notation, da man \n",
    "# hier spezifischer werden kann."
   ],
   "metadata": {
    "collapsed": false
   },
   "outputs": [],
   "execution_count": null
  },
  {
   "metadata": {
    "ExecuteTime": {
     "end_time": "2025-01-24T08:34:25.047875Z",
     "start_time": "2025-01-24T08:34:25.040074Z"
    }
   },
   "cell_type": "code",
   "source": [
    "# Find gibt ein bs4-Tag zurück:\n",
    "print(soup.find('p'))\n",
    "print(type(soup.find('p')))"
   ],
   "outputs": [
    {
     "name": "stdout",
     "output_type": "stream",
     "text": [
      "<p>Dies ist ein <strong>Beispiel-Artikel</strong> in HTML-Form.</p>\n",
      "<class 'bs4.element.Tag'>\n"
     ]
    }
   ],
   "execution_count": 14
  },
  {
   "metadata": {
    "ExecuteTime": {
     "end_time": "2025-01-24T08:35:38.751858Z",
     "start_time": "2025-01-24T08:35:38.739948Z"
    }
   },
   "cell_type": "code",
   "source": [
    "# Solche bs4-Tags können mit find weiter (tiefer) durchsucht werden!\n",
    "soup.find('p').find('strong')"
   ],
   "outputs": [
    {
     "data": {
      "text/plain": [
       "<strong>Beispiel-Artikel</strong>"
      ]
     },
     "execution_count": 16,
     "metadata": {},
     "output_type": "execute_result"
    }
   ],
   "execution_count": 16
  },
  {
   "cell_type": "code",
   "metadata": {
    "ExecuteTime": {
     "end_time": "2025-01-24T08:36:27.632807Z",
     "start_time": "2025-01-24T08:36:27.624551Z"
    }
   },
   "source": [
    "# find_all - Findet alle Einträge\n",
    "# einer Art von HTML-Tag\n",
    "soup.find_all('p')\n",
    "# Einstellbar über Parameter \"name\", \"attrs\" und \"class_\""
   ],
   "outputs": [
    {
     "data": {
      "text/plain": [
       "[<p>Dies ist ein <strong>Beispiel-Artikel</strong> in HTML-Form.</p>,\n",
       " <p>Absatz 2.</p>]"
      ]
     },
     "execution_count": 17,
     "metadata": {},
     "output_type": "execute_result"
    }
   ],
   "execution_count": 17
  },
  {
   "metadata": {
    "ExecuteTime": {
     "end_time": "2025-01-24T08:37:00.293530Z",
     "start_time": "2025-01-24T08:37:00.284954Z"
    }
   },
   "cell_type": "code",
   "source": [
    "# Was ist der Datentyp von find_all?\n",
    "type(soup.find_all('p'))"
   ],
   "outputs": [
    {
     "data": {
      "text/plain": [
       "bs4.element.ResultSet"
      ]
     },
     "execution_count": 18,
     "metadata": {},
     "output_type": "execute_result"
    }
   ],
   "execution_count": 18
  },
  {
   "metadata": {
    "ExecuteTime": {
     "end_time": "2025-01-24T08:38:09.470896Z",
     "start_time": "2025-01-24T08:38:09.458639Z"
    }
   },
   "cell_type": "code",
   "source": "paragraph_soup = soup.find_all('p')",
   "outputs": [],
   "execution_count": 19
  },
  {
   "metadata": {
    "ExecuteTime": {
     "end_time": "2025-01-24T08:38:15.608540Z",
     "start_time": "2025-01-24T08:38:15.598241Z"
    }
   },
   "cell_type": "code",
   "source": "paragraph_soup",
   "outputs": [
    {
     "data": {
      "text/plain": [
       "[<p>Dies ist ein <strong>Beispiel-Artikel</strong> in HTML-Form.</p>,\n",
       " <p>Absatz 2.</p>]"
      ]
     },
     "execution_count": 20,
     "metadata": {},
     "output_type": "execute_result"
    }
   ],
   "execution_count": 20
  },
  {
   "cell_type": "code",
   "metadata": {
    "ExecuteTime": {
     "end_time": "2025-01-24T08:38:28.573328Z",
     "start_time": "2025-01-24T08:38:28.558439Z"
    }
   },
   "source": [
    "# Resultset verhält sich wie eine Liste,\n",
    "# Einzelelemente sind per Indexposition extrahierbar\n",
    "paragraph_soup[0]"
   ],
   "outputs": [
    {
     "data": {
      "text/plain": [
       "<p>Dies ist ein <strong>Beispiel-Artikel</strong> in HTML-Form.</p>"
      ]
     },
     "execution_count": 21,
     "metadata": {},
     "output_type": "execute_result"
    }
   ],
   "execution_count": 21
  },
  {
   "metadata": {
    "ExecuteTime": {
     "end_time": "2025-01-24T08:39:12.330870Z",
     "start_time": "2025-01-24T08:39:12.313399Z"
    }
   },
   "cell_type": "code",
   "source": "type(paragraph_soup[0])",
   "outputs": [
    {
     "data": {
      "text/plain": [
       "bs4.element.Tag"
      ]
     },
     "execution_count": 22,
     "metadata": {},
     "output_type": "execute_result"
    }
   ],
   "execution_count": 22
  },
  {
   "metadata": {
    "ExecuteTime": {
     "end_time": "2025-01-24T08:39:45.730679Z",
     "start_time": "2025-01-24T08:39:45.712993Z"
    }
   },
   "cell_type": "code",
   "source": "paragraph_soup[0].find('strong')",
   "outputs": [
    {
     "data": {
      "text/plain": [
       "<strong>Beispiel-Artikel</strong>"
      ]
     },
     "execution_count": 23,
     "metadata": {},
     "output_type": "execute_result"
    }
   ],
   "execution_count": 23
  },
  {
   "cell_type": "code",
   "source": [
    "# Iteration möglich:\n",
    "for p in paragraph_soup:\n",
    "    print(p)"
   ],
   "metadata": {
    "collapsed": false,
    "ExecuteTime": {
     "end_time": "2025-01-24T08:40:18.266611Z",
     "start_time": "2025-01-24T08:40:18.258944Z"
    }
   },
   "outputs": [
    {
     "name": "stdout",
     "output_type": "stream",
     "text": [
      "<p>Dies ist ein <strong>Beispiel-Artikel</strong> in HTML-Form.</p>\n",
      "<p>Absatz 2.</p>\n"
     ]
    }
   ],
   "execution_count": 24
  },
  {
   "cell_type": "code",
   "metadata": {
    "ExecuteTime": {
     "end_time": "2025-01-24T08:41:36.326595Z",
     "start_time": "2025-01-24T08:41:36.314516Z"
    }
   },
   "source": [
    "# Nur Text, ohne Tags ausgeben\n",
    "paragraph_soup[0].text"
   ],
   "outputs": [
    {
     "data": {
      "text/plain": [
       "'Dies ist ein Beispiel-Artikel in HTML-Form.'"
      ]
     },
     "execution_count": 26,
     "metadata": {},
     "output_type": "execute_result"
    }
   ],
   "execution_count": 26
  },
  {
   "cell_type": "code",
   "source": [
    "for p in paragraph_soup:\n",
    "    print(p.text)"
   ],
   "metadata": {
    "collapsed": false,
    "ExecuteTime": {
     "end_time": "2025-01-24T08:43:08.077539Z",
     "start_time": "2025-01-24T08:43:08.068475Z"
    }
   },
   "outputs": [
    {
     "name": "stdout",
     "output_type": "stream",
     "text": [
      "Dies ist ein Beispiel-Artikel in HTML-Form.\n",
      "Absatz 2.\n"
     ]
    }
   ],
   "execution_count": 27
  },
  {
   "cell_type": "code",
   "source": [
    "# Webscraping aus einer lokalen HTML-Datei\n",
    "# Bisschen Zusatz-Infos: https://wiki.selfhtml.org/wiki/HTML/Tabellen/Aufbau_einer_Tabelle"
   ],
   "metadata": {
    "collapsed": false
   },
   "outputs": [],
   "execution_count": null
  },
  {
   "cell_type": "code",
   "source": [
    "# Reinladen, die gute Datei!\n",
    "with open('Liste der größten Schiffe der Welt – Wikipedia.html', encoding='utf-8') as f:\n",
    "    soup = BeautifulSoup(f, 'html.parser')\n",
    "\n",
    "# bs4 hat mehrere Parser, die Web-Dokumente scannen.\n",
    "# Die Wahl des passenden Parsers hängt von den Anforderungen ab und sie stellen das\n",
    "# Dokument unterschiedlich dar. Wir benutzen im Folgenden den html-Parser.\n",
    "# Mehr Infos:\n",
    "# https://www.crummy.com/software/BeautifulSoup/bs4/doc/#differences-between-parsers"
   ],
   "metadata": {
    "collapsed": false,
    "ExecuteTime": {
     "end_time": "2025-01-24T08:47:58.924219Z",
     "start_time": "2025-01-24T08:47:58.710135Z"
    }
   },
   "outputs": [],
   "execution_count": 28
  },
  {
   "cell_type": "code",
   "source": [
    "# Suppe bestaunen:\n",
    "soup"
   ],
   "metadata": {
    "collapsed": false,
    "ExecuteTime": {
     "end_time": "2025-01-24T08:48:09.003777Z",
     "start_time": "2025-01-24T08:48:08.780089Z"
    }
   },
   "outputs": [
    {
     "data": {
      "text/plain": [
       "<!DOCTYPE html>\n",
       "\n",
       "<html class=\"client-nojs\" dir=\"ltr\" lang=\"de\">\n",
       "<head>\n",
       "<meta charset=\"utf-8\"/>\n",
       "<title>Liste der größten Schiffe der Welt – Wikipedia</title>\n",
       "<script>document.documentElement.className=\"client-js\";RLCONF={\"wgBreakFrames\":false,\"wgSeparatorTransformTable\":[\",\\t.\",\".\\t,\"],\"wgDigitTransformTable\":[\"\",\"\"],\"wgDefaultDateFormat\":\"dmy\",\"wgMonthNames\":[\"\",\"Januar\",\"Februar\",\"März\",\"April\",\"Mai\",\"Juni\",\"Juli\",\"August\",\"September\",\"Oktober\",\"November\",\"Dezember\"],\"wgRequestId\":\"85d2fc8f-8e94-4b28-bad9-7c90c40ddfe3\",\"wgCanonicalNamespace\":\"\",\"wgCanonicalSpecialPageName\":false,\"wgNamespaceNumber\":0,\"wgPageName\":\"Liste_der_größten_Schiffe_der_Welt\",\"wgTitle\":\"Liste der größten Schiffe der Welt\",\"wgCurRevisionId\":241862931,\"wgRevisionId\":241862931,\"wgArticleId\":1548947,\"wgIsArticle\":true,\"wgIsRedirect\":false,\"wgAction\":\"view\",\"wgUserName\":null,\"wgUserGroups\":[\"*\"],\"wgCategories\":[\"Liste (Schiffe)\",\"Liste (technische Rekorde)\"],\"wgPageViewLanguage\":\"de\",\"wgPageContentLanguage\":\"de\",\"wgPageContentModel\":\"wikitext\",\"wgRelevantPageName\":\"Liste_der_größten_Schiffe_der_Welt\",\"wgRelevantArticleId\":1548947,\"wgIsProbablyEditable\":true,\n",
       "\"wgRelevantPageIsProbablyEditable\":true,\"wgRestrictionEdit\":[],\"wgRestrictionMove\":[],\"wgNoticeProject\":\"wikipedia\",\"wgFlaggedRevsParams\":{\"tags\":{\"accuracy\":{\"levels\":1}}},\"wgStableRevisionId\":241862931,\"wgMediaViewerOnClick\":true,\"wgMediaViewerEnabledByDefault\":true,\"wgPopupsFlags\":4,\"wgVisualEditor\":{\"pageLanguageCode\":\"de\",\"pageLanguageDir\":\"ltr\",\"pageVariantFallbacks\":\"de\"},\"wgMFDisplayWikibaseDescriptions\":{\"search\":true,\"watchlist\":true,\"tagline\":true,\"nearby\":true},\"wgWMESchemaEditAttemptStepOversample\":false,\"wgWMEPageLength\":20000,\"wgULSCurrentAutonym\":\"Deutsch\",\"wgCentralAuthMobileDomain\":false,\"wgEditSubmitButtonLabelPublish\":true,\"wgULSPosition\":\"interlanguage\",\"wgULSisCompactLinksEnabled\":true,\"wgVector2022LanguageInHeader\":false,\"wgULSisLanguageSelectorEmpty\":false,\"wgWikibaseItemId\":\"Q1778295\",\"wgCheckUserClientHintsHeadersJsApi\":[\"architecture\",\"bitness\",\"brands\",\"fullVersionList\",\"mobile\",\"model\",\"platform\",\"platformVersion\"],\"GEHomepageSuggestedEditsEnableTopics\":\n",
       "true,\"wgGETopicsMatchModeEnabled\":false,\"wgGEStructuredTaskRejectionReasonTextInputEnabled\":false,\"wgGELevelingUpEnabledForUser\":false};RLSTATE={\"ext.gadget.citeRef\":\"ready\",\"ext.gadget.dewikiCommonHide\":\"ready\",\"ext.gadget.dewikiCommonLayout\":\"ready\",\"ext.gadget.dewikiCommonStyle\":\"ready\",\"ext.gadget.NavFrame\":\"ready\",\"ext.globalCssJs.user.styles\":\"ready\",\"site.styles\":\"ready\",\"user.styles\":\"ready\",\"ext.globalCssJs.user\":\"ready\",\"user\":\"ready\",\"user.options\":\"loading\",\"ext.flaggedRevs.icons\":\"ready\",\"oojs-ui-core.styles\":\"ready\",\"oojs-ui.styles.indicators\":\"ready\",\"mediawiki.widgets.styles\":\"ready\",\"oojs-ui-core.icons\":\"ready\",\"ext.cite.styles\":\"ready\",\"mediawiki.page.gallery.styles\":\"ready\",\"skins.vector.styles.legacy\":\"ready\",\"jquery.tablesorter.styles\":\"ready\",\"ext.flaggedRevs.basic\":\"ready\",\"ext.visualEditor.desktopArticleTarget.noscript\":\"ready\",\"codex-search-styles\":\"ready\",\"ext.uls.interlanguage\":\"ready\",\"wikibase.client.init\":\"ready\",\"ext.wikimediaBadges\":\"ready\"};\n",
       "RLPAGEMODULES=[\"ext.cite.ux-enhancements\",\"mediawiki.page.media\",\"site\",\"mediawiki.page.ready\",\"jquery.tablesorter\",\"mediawiki.toc\",\"skins.vector.legacy.js\",\"ext.centralNotice.geoIP\",\"ext.centralNotice.startUp\",\"ext.flaggedRevs.advanced\",\"ext.gadget.createNewSection\",\"ext.gadget.WikiMiniAtlas\",\"ext.gadget.OpenStreetMap\",\"ext.gadget.CommonsDirekt\",\"ext.gadget.donateLink\",\"ext.urlShortener.toolbar\",\"ext.centralauth.centralautologin\",\"mmv.head\",\"mmv.bootstrap.autostart\",\"ext.popups\",\"ext.visualEditor.desktopArticleTarget.init\",\"ext.visualEditor.targetLoader\",\"ext.echo.centralauth\",\"ext.eventLogging\",\"ext.wikimediaEvents\",\"ext.navigationTiming\",\"ext.uls.compactlinks\",\"ext.uls.interface\",\"ext.cx.eventlogging.campaigns\",\"ext.checkUser.clientHints\",\"ext.growthExperiments.SuggestedEditSession\"];</script>\n",
       "<script>(RLQ=window.RLQ||[]).push(function(){mw.loader.impl(function(){return[\"user.options@12s5i\",function($,jQuery,require,module){mw.user.tokens.set({\"patrolToken\":\"+\\\\\",\"watchToken\":\"+\\\\\",\"csrfToken\":\"+\\\\\"});\n",
       "}];});});</script>\n",
       "<link href=\"/w/load.php?lang=de&amp;modules=codex-search-styles%7Cext.cite.styles%7Cext.flaggedRevs.basic%2Cicons%7Cext.uls.interlanguage%7Cext.visualEditor.desktopArticleTarget.noscript%7Cext.wikimediaBadges%7Cjquery.tablesorter.styles%7Cmediawiki.page.gallery.styles%7Cmediawiki.widgets.styles%7Coojs-ui-core.icons%2Cstyles%7Coojs-ui.styles.indicators%7Cskins.vector.styles.legacy%7Cwikibase.client.init&amp;only=styles&amp;skin=vector\" rel=\"stylesheet\"/>\n",
       "<script async=\"\" src=\"/w/load.php?lang=de&amp;modules=startup&amp;only=scripts&amp;raw=1&amp;skin=vector\"></script>\n",
       "<meta content=\"\" name=\"ResourceLoaderDynamicStyles\"/>\n",
       "<link href=\"/w/load.php?lang=de&amp;modules=ext.gadget.NavFrame%2CciteRef%2CdewikiCommonHide%2CdewikiCommonLayout%2CdewikiCommonStyle&amp;only=styles&amp;skin=vector\" rel=\"stylesheet\"/>\n",
       "<link href=\"/w/load.php?lang=de&amp;modules=site.styles&amp;only=styles&amp;skin=vector\" rel=\"stylesheet\"/>\n",
       "<meta content=\"MediaWiki 1.42.0-wmf.24\" name=\"generator\"/>\n",
       "<meta content=\"origin\" name=\"referrer\"/>\n",
       "<meta content=\"origin-when-cross-origin\" name=\"referrer\"/>\n",
       "<meta content=\"max-image-preview:standard\" name=\"robots\"/>\n",
       "<meta content=\"telephone=no\" name=\"format-detection\"/>\n",
       "<meta content=\"https://upload.wikimedia.org/wikipedia/commons/thumb/5/5b/Bateaux_comparaison2_with_Allure.svg/1200px-Bateaux_comparaison2_with_Allure.svg.png\" property=\"og:image\"/>\n",
       "<meta content=\"1200\" property=\"og:image:width\"/>\n",
       "<meta content=\"1130\" property=\"og:image:height\"/>\n",
       "<meta content=\"https://upload.wikimedia.org/wikipedia/commons/thumb/5/5b/Bateaux_comparaison2_with_Allure.svg/800px-Bateaux_comparaison2_with_Allure.svg.png\" property=\"og:image\"/>\n",
       "<meta content=\"800\" property=\"og:image:width\"/>\n",
       "<meta content=\"754\" property=\"og:image:height\"/>\n",
       "<meta content=\"https://upload.wikimedia.org/wikipedia/commons/thumb/5/5b/Bateaux_comparaison2_with_Allure.svg/640px-Bateaux_comparaison2_with_Allure.svg.png\" property=\"og:image\"/>\n",
       "<meta content=\"640\" property=\"og:image:width\"/>\n",
       "<meta content=\"603\" property=\"og:image:height\"/>\n",
       "<meta content=\"width=1000\" name=\"viewport\"/>\n",
       "<meta content=\"Liste der größten Schiffe der Welt – Wikipedia\" property=\"og:title\"/>\n",
       "<meta content=\"website\" property=\"og:type\"/>\n",
       "<link href=\"//upload.wikimedia.org\" rel=\"preconnect\"/>\n",
       "<link href=\"//de.m.wikipedia.org/wiki/Liste_der_gr%C3%B6%C3%9Ften_Schiffe_der_Welt\" media=\"only screen and (max-width: 720px)\" rel=\"alternate\"/>\n",
       "<link href=\"/w/index.php?title=Liste_der_gr%C3%B6%C3%9Ften_Schiffe_der_Welt&amp;action=edit\" rel=\"alternate\" title=\"Seite bearbeiten\" type=\"application/x-wiki\"/>\n",
       "<link href=\"/static/apple-touch/wikipedia.png\" rel=\"apple-touch-icon\"/>\n",
       "<link href=\"/static/favicon/wikipedia.ico\" rel=\"icon\"/>\n",
       "<link href=\"/w/opensearch_desc.php\" rel=\"search\" title=\"Wikipedia (de)\" type=\"application/opensearchdescription+xml\"/>\n",
       "<link href=\"//de.wikipedia.org/w/api.php?action=rsd\" rel=\"EditURI\" type=\"application/rsd+xml\"/>\n",
       "<link href=\"https://de.wikipedia.org/wiki/Liste_der_gr%C3%B6%C3%9Ften_Schiffe_der_Welt\" rel=\"canonical\"/>\n",
       "<link href=\"https://creativecommons.org/licenses/by-sa/4.0/deed.de\" rel=\"license\"/>\n",
       "<link href=\"/w/index.php?title=Spezial:Letzte_%C3%84nderungen&amp;feed=atom\" rel=\"alternate\" title=\"Atom-Feed für „Wikipedia“\" type=\"application/atom+xml\"/>\n",
       "<link href=\"//meta.wikimedia.org\" rel=\"dns-prefetch\">\n",
       "<link href=\"//login.wikimedia.org\" rel=\"dns-prefetch\"/>\n",
       "</link></head>\n",
       "<body class=\"skin-vector-legacy mediawiki ltr sitedir-ltr mw-hide-empty-elt ns-0 ns-subject mw-editable page-Liste_der_größten_Schiffe_der_Welt rootpage-Liste_der_größten_Schiffe_der_Welt skin-vector action-view\"><div class=\"noprint\" id=\"mw-page-base\"></div>\n",
       "<div class=\"noprint\" id=\"mw-head-base\"></div>\n",
       "<div class=\"mw-body\" id=\"content\" role=\"main\">\n",
       "<a id=\"top\"></a>\n",
       "<div id=\"siteNotice\"><!-- CentralNotice --></div>\n",
       "<div class=\"mw-indicators\">\n",
       "</div>\n",
       "<h1 class=\"firstHeading mw-first-heading\" id=\"firstHeading\"><span class=\"mw-page-title-main\">Liste der größten Schiffe der Welt</span></h1>\n",
       "<div class=\"vector-body\" id=\"bodyContent\">\n",
       "<div class=\"noprint\" id=\"siteSub\">aus Wikipedia, der freien Enzyklopädie</div>\n",
       "<div id=\"contentSub\"><div id=\"mw-content-subtitle\"></div></div>\n",
       "<div id=\"contentSub2\"></div>\n",
       "<div id=\"jump-to-nav\"></div>\n",
       "<a class=\"mw-jump-link\" href=\"#mw-head\">Zur Navigation springen</a>\n",
       "<a class=\"mw-jump-link\" href=\"#searchInput\">Zur Suche springen</a>\n",
       "<div class=\"mw-body-content\" id=\"mw-content-text\"><div class=\"mw-content-ltr mw-parser-output\" dir=\"ltr\" lang=\"de\"><figure class=\"mw-default-size\" typeof=\"mw:File/Thumb\"><a class=\"mw-file-description\" href=\"/wiki/Datei:Bateaux_comparaison2_with_Allure.svg\"><img class=\"mw-file-element\" data-file-height=\"1300\" data-file-width=\"1380\" decoding=\"async\" height=\"207\" src=\"//upload.wikimedia.org/wikipedia/commons/thumb/5/5b/Bateaux_comparaison2_with_Allure.svg/220px-Bateaux_comparaison2_with_Allure.svg.png\" srcset=\"//upload.wikimedia.org/wikipedia/commons/thumb/5/5b/Bateaux_comparaison2_with_Allure.svg/330px-Bateaux_comparaison2_with_Allure.svg.png 1.5x, //upload.wikimedia.org/wikipedia/commons/thumb/5/5b/Bateaux_comparaison2_with_Allure.svg/440px-Bateaux_comparaison2_with_Allure.svg.png 2x\" width=\"220\"/></a><figcaption>Größenvergleich einiger der größten Schiffe</figcaption></figure>\n",
       "<figure class=\"mw-default-size\" typeof=\"mw:File/Thumb\"><a class=\"mw-file-description\" href=\"/w/index.php?title=Datei:Queen_Mary_2-Titanic.svg&amp;lang=de\"><img class=\"mw-file-element\" data-file-height=\"1280\" data-file-width=\"4042\" decoding=\"async\" height=\"70\" src=\"//upload.wikimedia.org/wikipedia/commons/thumb/d/d4/Queen_Mary_2-Titanic.svg/langde-220px-Queen_Mary_2-Titanic.svg.png\" srcset=\"//upload.wikimedia.org/wikipedia/commons/thumb/d/d4/Queen_Mary_2-Titanic.svg/langde-330px-Queen_Mary_2-Titanic.svg.png 1.5x, //upload.wikimedia.org/wikipedia/commons/thumb/d/d4/Queen_Mary_2-Titanic.svg/langde-440px-Queen_Mary_2-Titanic.svg.png 2x\" width=\"220\"/></a><figcaption>Die <i><a href=\"/wiki/Queen_Mary_2\" title=\"Queen Mary 2\">Queen Mary 2</a></i> im Größenvergleich zur <i><a href=\"/wiki/Titanic_(Schiff)\" title=\"Titanic (Schiff)\">Titanic</a></i> und zum <a href=\"/wiki/Airbus_A380\" title=\"Airbus A380\">Airbus A380</a></figcaption></figure>\n",
       "<figure class=\"mw-default-size\" typeof=\"mw:File/Thumb\"><a class=\"mw-file-description\" href=\"/wiki/Datei:Hellespont_Alhambra-223713_v2.jpg\"><img class=\"mw-file-element\" data-file-height=\"787\" data-file-width=\"973\" decoding=\"async\" height=\"178\" src=\"//upload.wikimedia.org/wikipedia/commons/thumb/8/82/Hellespont_Alhambra-223713_v2.jpg/220px-Hellespont_Alhambra-223713_v2.jpg\" srcset=\"//upload.wikimedia.org/wikipedia/commons/thumb/8/82/Hellespont_Alhambra-223713_v2.jpg/330px-Hellespont_Alhambra-223713_v2.jpg 1.5x, //upload.wikimedia.org/wikipedia/commons/thumb/8/82/Hellespont_Alhambra-223713_v2.jpg/440px-Hellespont_Alhambra-223713_v2.jpg 2x\" width=\"220\"/></a><figcaption>Die spätere <i><a class=\"mw-redirect\" href=\"/wiki/TI_Asia\" title=\"TI Asia\">TI Asia</a></i>, Typschiff der größten Tanker der Erde</figcaption></figure>\n",
       "<p>In diesem Artikel sind die größten und längsten bisher gebauten <a href=\"/wiki/Schiff\" title=\"Schiff\">Schiffe</a> der Welt aufgelistet.\n",
       "</p>\n",
       "<div aria-labelledby=\"mw-toc-heading\" class=\"toc\" id=\"toc\" role=\"navigation\"><input class=\"toctogglecheckbox\" id=\"toctogglecheckbox\" role=\"button\" style=\"display:none\" type=\"checkbox\"/><div class=\"toctitle\" dir=\"ltr\" lang=\"de\"><h2 id=\"mw-toc-heading\">Inhaltsverzeichnis</h2><span class=\"toctogglespan\"><label class=\"toctogglelabel\" for=\"toctogglecheckbox\"></label></span></div>\n",
       "<ul>\n",
       "<li class=\"toclevel-1 tocsection-1\"><a href=\"#Die_größten_Schiffe_nach_Art\"><span class=\"tocnumber\">1</span> <span class=\"toctext\">Die größten Schiffe nach Art</span></a></li>\n",
       "<li class=\"toclevel-1 tocsection-2\"><a href=\"#Schiffe_mit_herausragenden_Abmessungen\"><span class=\"tocnumber\">2</span> <span class=\"toctext\">Schiffe mit herausragenden Abmessungen</span></a></li>\n",
       "<li class=\"toclevel-1 tocsection-3\"><a href=\"#Siehe_auch\"><span class=\"tocnumber\">3</span> <span class=\"toctext\">Siehe auch</span></a></li>\n",
       "<li class=\"toclevel-1 tocsection-4\"><a href=\"#Literatur\"><span class=\"tocnumber\">4</span> <span class=\"toctext\">Literatur</span></a></li>\n",
       "<li class=\"toclevel-1 tocsection-5\"><a href=\"#Anmerkung_und_Einzelnachweise\"><span class=\"tocnumber\">5</span> <span class=\"toctext\">Anmerkung und Einzelnachweise</span></a></li>\n",
       "</ul>\n",
       "</div>\n",
       "<h2><span id=\"Die_gr.C3.B6.C3.9Ften_Schiffe_nach_Art\"></span><span class=\"mw-headline\" id=\"Die_größten_Schiffe_nach_Art\">Die größten Schiffe nach Art</span><span class=\"mw-editsection\"><span class=\"mw-editsection-bracket\">[</span><a class=\"mw-editsection-visualeditor\" href=\"/w/index.php?title=Liste_der_gr%C3%B6%C3%9Ften_Schiffe_der_Welt&amp;veaction=edit&amp;section=1\" title=\"Abschnitt bearbeiten: Die größten Schiffe nach Art\"><span>Bearbeiten</span></a><span class=\"mw-editsection-divider\"> | </span><a href=\"/w/index.php?title=Liste_der_gr%C3%B6%C3%9Ften_Schiffe_der_Welt&amp;action=edit&amp;section=1\" title=\"Quellcode des Abschnitts bearbeiten: Die größten Schiffe nach Art\"><span>Quelltext bearbeiten</span></a><span class=\"mw-editsection-bracket\">]</span></span></h2>\n",
       "<table class=\"wikitable sortable zebra\">\n",
       "<caption>Größte und längste Schiffe ihrer Art\n",
       "</caption>\n",
       "<tbody><tr>\n",
       "<th>Kategorie</th>\n",
       "<th>Schiffsname\n",
       "</th></tr>\n",
       "<tr>\n",
       "<td><a href=\"/wiki/Kreuzfahrtschiff\" title=\"Kreuzfahrtschiff\">Kreuzfahrtschiff</a></td>\n",
       "<td><i><a href=\"/wiki/Icon_of_the_Seas\" title=\"Icon of the Seas\">Icon of the Seas</a><sup class=\"reference\" id=\"cite_ref-1\"><a href=\"#cite_note-1\">[1]</a></sup></i>\n",
       "</td></tr>\n",
       "<tr>\n",
       "<td><a href=\"/wiki/Segelschiff\" title=\"Segelschiff\">Segelschiff</a></td>\n",
       "<td><i><a href=\"/wiki/SY_A\" title=\"SY A\">SY A</a></i>\n",
       "</td></tr>\n",
       "<tr>\n",
       "<td><a href=\"/wiki/Frachtsegler\" title=\"Frachtsegler\">Frachtsegler</a></td>\n",
       "<td><i><a href=\"/wiki/France_(Schiff,_1912%E2%80%931922)\" title=\"France (Schiff, 1912–1922)\">France</a></i>\n",
       "</td></tr>\n",
       "<tr>\n",
       "<td><a href=\"/wiki/Eisbrecher\" title=\"Eisbrecher\">Eisbrecher</a></td>\n",
       "<td><a class=\"mw-redirect\" href=\"/wiki/Arktika_(Schiff,_2020)\" title=\"Arktika (Schiff, 2020)\"><i>Arktika</i></a>\n",
       "</td></tr>\n",
       "<tr>\n",
       "<td><a href=\"/wiki/Autof%C3%A4hre\" title=\"Autofähre\">Autofähre</a></td>\n",
       "<td><i><a href=\"/wiki/Color_Magic\" title=\"Color Magic\">Color Magic</a></i> (nach Größe (BRZ)); <i><a href=\"/wiki/Cruise_Barcelona\" title=\"Cruise Barcelona\">Cruise Barcelona</a></i> und <i><a href=\"/wiki/Cruise_Roma\" title=\"Cruise Roma\">Cruise Roma</a></i> (nach Länge)\n",
       "</td></tr>\n",
       "<tr>\n",
       "<td><a class=\"new\" href=\"/w/index.php?title=LNG-F%C3%A4hre&amp;action=edit&amp;redlink=1\" title=\"LNG-Fähre (Seite nicht vorhanden)\">LNG-Fähre</a></td>\n",
       "<td><i><a href=\"/wiki/Nils_Holgersson_(Schiff,_2022)\" title=\"Nils Holgersson (Schiff, 2022)\">Nils Holgerson</a>, <a href=\"/wiki/Peter_Pan_(Schiff,_2022)\" title=\"Peter Pan (Schiff, 2022)\">Peter Pan</a></i>\n",
       "</td></tr>\n",
       "<tr>\n",
       "<td>Kombifähre (Eisenbahn/RoRo)</td>\n",
       "<td><i><a href=\"/wiki/Sk%C3%A5ne_(Schiff,_1998)\" title=\"Skåne (Schiff, 1998)\">Skåne</a></i>\n",
       "</td></tr>\n",
       "<tr>\n",
       "<td>Autotransporter</td>\n",
       "<td><a href=\"/wiki/Mark-V-Klasse\" title=\"Mark-V-Klasse\">Tysla, Salome</a> (nach Länge und Tragfähigkeit); <a href=\"/wiki/New-Horizon-Klasse\" title=\"New-Horizon-Klasse\"><i>Höegh Target</i></a> (nach Tonnage und Fahrzeugkapazität)\n",
       "</td></tr>\n",
       "<tr>\n",
       "<td><a href=\"/wiki/Flugzeugtr%C3%A4ger\" title=\"Flugzeugträger\">Flugzeugträger</a></td>\n",
       "<td><a href=\"/wiki/USS_Gerald_R._Ford_(CVN-78)\" title=\"USS Gerald R. Ford (CVN-78)\">USS <i>Gerald R. Ford</i> (CVN-78)</a> (nach Tonnage); <a href=\"/wiki/USS_Enterprise_(CVN-65)\" title=\"USS Enterprise (CVN-65)\">USS <i>Enterprise</i> (CVN 65)</a> (nach Länge)\n",
       "</td></tr>\n",
       "<tr>\n",
       "<td><a href=\"/wiki/Schlachtschiff\" title=\"Schlachtschiff\">Schlachtschiff</a></td>\n",
       "<td><a href=\"/wiki/Yamato_(Schiff,_1941)\" title=\"Yamato (Schiff, 1941)\"><i>Yamato</i></a> und <a href=\"/wiki/Musashi_(Schiff,_1942)\" title=\"Musashi (Schiff, 1942)\"><i>Musashi</i></a>\n",
       "</td></tr>\n",
       "<tr>\n",
       "<td><a class=\"mw-redirect\" href=\"/wiki/Unterseeboot\" title=\"Unterseeboot\">Unterseeboot</a></td>\n",
       "<td><a href=\"/wiki/TK-208_Dmitri_Donskoj\" title=\"TK-208 Dmitri Donskoj\"><i>Dmitri Donskoi</i> (TK-208)</a>\n",
       "</td></tr>\n",
       "<tr>\n",
       "<td><a href=\"/wiki/Containerschiff\" title=\"Containerschiff\">Containerschiff</a></td>\n",
       "<td><a href=\"/wiki/MSC-Irina-Typ\" title=\"MSC-Irina-Typ\"><i>MSC Irina</i></a><sup class=\"reference\" id=\"cite_ref-2\"><a href=\"#cite_note-2\">[2]</a></sup><sup class=\"reference\" id=\"cite_ref-3\"><a href=\"#cite_note-3\">[3]</a></sup>\n",
       "</td></tr>\n",
       "<tr>\n",
       "<td><a class=\"mw-redirect\" href=\"/wiki/Sch%C3%BCttgutschiff\" title=\"Schüttgutschiff\">Schüttgutschiff</a></td>\n",
       "<td><i><a href=\"/wiki/Valemax-Klasse\" title=\"Valemax-Klasse\">Yuan He Hai</a></i> (Valemax-Klasse)\n",
       "</td></tr>\n",
       "<tr>\n",
       "<td><a class=\"mw-redirect\" href=\"/wiki/%C3%96ltanker\" title=\"Öltanker\">Öltanker</a> (doppelwandig)</td>\n",
       "<td><i><a href=\"/wiki/Hellespont-Alhambra-Klasse\" title=\"Hellespont-Alhambra-Klasse\">TI Europe</a></i>, <i><a href=\"/wiki/Hellespont-Alhambra-Klasse\" title=\"Hellespont-Alhambra-Klasse\">TI Oceania</a></i> <style data-mw-deduplicate=\"TemplateStyles:r236689292\">.mw-parser-output .fussnoten-marke{font-size:0.75rem;font-style:normal;font-variant:normal;font-weight:normal;unicode-bidi:isolate;white-space:nowrap}.mw-parser-output .fussnoten-marke.reference,.mw-parser-output span.fussnoten-inhalt{padding-left:0.1rem}.mw-parser-output .fussnoten-marke.reference~.fussnoten-marke.reference,.mw-parser-output span.fussnoten-inhalt~span.fussnoten-inhalt{padding-left:0.15rem}.mw-parser-output .fussnoten-block{margin-bottom:0.1rem}.mw-parser-output div.fussnoten-inhalt{display:inline-block;padding-left:0.8rem;text-indent:-0.8rem}.mw-parser-output div.fussnoten-inhalt p,.mw-parser-output div.fussnoten-inhalt dl,.mw-parser-output div.fussnoten-inhalt ol,.mw-parser-output div.fussnoten-inhalt ul{text-indent:0}.mw-parser-output div.fussnoten-inhalt.fussnoten-floatfix{display:block}.mw-parser-output .fussnoten-box{margin-top:0.5rem;padding-left:0.8rem}.mw-parser-output .fussnoten-box,.mw-parser-output div.fussnoten-inhalt{font-size:94%}.mw-parser-output .fussnoten-box div.fussnoten-inhalt,.mw-parser-output span.fussnoten-inhalt,.mw-parser-output .fussnoten-inhalt .mw-reference-text{font-size:inherit}.mw-parser-output .fussnoten-inhalt .mw-reference-text{display:inline}.mw-parser-output .fussnoten-linie{display:inline-block;position:relative;top:-1em;border-top:solid 1px #808080;width:8rem}.mw-parser-output .fussnoten-linie+p,.mw-parser-output .fussnoten-linie+dl,.mw-parser-output .fussnoten-linie+ol,.mw-parser-output .fussnoten-linie+ul,.mw-parser-output .fussnoten-linie+link+div{margin-top:-1em}.mw-parser-output .fussnoten-marke.reference:target,.mw-parser-output .fussnoten-inhalt:target{background-color:#eaf3ff;box-shadow:0 0 0 0.25em #eaf3ff}.mw-parser-output .fussnoten-marke.reference:target,.mw-parser-output .fussnoten-inhalt:target .fussnoten-marke{font-weight:bold}</style>⁠<sup class=\"fussnoten-marke reference\" id=\"FN_Anm._1_back\"><a href=\"#FNZ_Anm._1\">Anm. 1</a></sup>\n",
       "</td></tr>\n",
       "<tr>\n",
       "<td>Öltanker (einwandig)</td>\n",
       "<td><i><a href=\"/wiki/Jahre_Viking\" title=\"Jahre Viking\">Jahre Viking</a></i> <link href=\"mw-data:TemplateStyles:r236689292\" rel=\"mw-deduplicated-inline-style\"/>⁠<sup class=\"fussnoten-marke reference\" id=\"FN_Anm._2_back\"><a href=\"#FNZ_Anm._2\">Anm. 2</a></sup>; <i><a href=\"/wiki/Pierre_Guillaumat_(Schiff)\" title=\"Pierre Guillaumat (Schiff)\">Pierre Guillaumat</a></i>\n",
       "</td></tr>\n",
       "<tr>\n",
       "<td><a class=\"mw-redirect\" href=\"/wiki/Fl%C3%BCssiggastanker\" title=\"Flüssiggastanker\">Flüssiggastanker</a></td>\n",
       "<td><i><a href=\"/wiki/Nakilat_Q-Max-Klasse\" title=\"Nakilat Q-Max-Klasse\">Mozah</a></i>\n",
       "</td></tr>\n",
       "<tr>\n",
       "<td><a href=\"/wiki/Dockschiff\" title=\"Dockschiff\">Dockschiff</a></td>\n",
       "<td><i><a href=\"/wiki/Boka_Vanguard\" title=\"Boka Vanguard\">Boka Vanguard</a></i>\n",
       "</td></tr>\n",
       "<tr>\n",
       "<td><a href=\"/wiki/Schwimmkran\" title=\"Schwimmkran\">Schwimmkran</a></td>\n",
       "<td><a href=\"/wiki/Sleipnir_(Schiff)\" title=\"Sleipnir (Schiff)\"><i>Sleipnir</i></a>\n",
       "</td></tr>\n",
       "<tr>\n",
       "<td><a class=\"mw-redirect\" href=\"/wiki/Motoryacht\" title=\"Motoryacht\">Motoryacht</a></td>\n",
       "<td><i><a href=\"/wiki/REV_Ocean\" title=\"REV Ocean\">REV Ocean</a></i> (nach Länge); <i><a href=\"/wiki/Dilbar_(Schiff)\" title=\"Dilbar (Schiff)\">Dilbar</a></i> (nach Größe (BRZ))\n",
       "</td></tr>\n",
       "<tr>\n",
       "<td><a href=\"/wiki/Schlepper_(Schiffstyp)\" title=\"Schlepper (Schiffstyp)\">Schlepper</a></td>\n",
       "<td><i><a class=\"new\" href=\"/w/index.php?title=Island_Victory&amp;action=edit&amp;redlink=1\" title=\"Island Victory (Seite nicht vorhanden)\">Island Victory</a></i>\n",
       "</td></tr>\n",
       "<tr>\n",
       "<td><a href=\"/wiki/Schubboot\" title=\"Schubboot\">Schubboot</a></td>\n",
       "<td><i><a class=\"new\" href=\"/w/index.php?title=E._Bronson_Ingram&amp;action=edit&amp;redlink=1\" title=\"E. Bronson Ingram (Seite nicht vorhanden)\">E. Bronson Ingram</a></i>\n",
       "</td></tr>\n",
       "<tr>\n",
       "<td><a href=\"/wiki/Katamaran\" title=\"Katamaran\">Katamaran</a></td>\n",
       "<td><a class=\"mw-redirect\" href=\"/wiki/HSS_1500\" title=\"HSS 1500\"><i>Stena Explorer</i></a>\n",
       "</td></tr>\n",
       "<tr>\n",
       "<td><a href=\"/wiki/Seenotrettungskreuzer\" title=\"Seenotrettungskreuzer\">Seenotrettungskreuzer</a></td>\n",
       "<td><a href=\"/wiki/Hermann_Marwede_(Schiff)\" title=\"Hermann Marwede (Schiff)\"><i>Hermann Marwede</i></a>\n",
       "</td></tr>\n",
       "<tr>\n",
       "<td><a href=\"/wiki/Trimaran\" title=\"Trimaran\">Trimaran</a></td>\n",
       "<td><a href=\"/wiki/Independence_(Schiff,_2010)\" title=\"Independence (Schiff, 2010)\">USS <i>Independence</i> (LCS-2)</a>\n",
       "</td></tr>\n",
       "<tr>\n",
       "<td><a class=\"mw-redirect\" href=\"/wiki/Motorsegelschiff\" title=\"Motorsegelschiff\">Motorsegelschiff</a></td>\n",
       "<td><i><a href=\"/wiki/Club_Med_2\" title=\"Club Med 2\">Club Med 2</a></i>\n",
       "</td></tr>\n",
       "<tr>\n",
       "<td><a href=\"/wiki/Hopperbagger\" title=\"Hopperbagger\">Hopperbagger</a></td>\n",
       "<td><a href=\"/wiki/Crist%C3%B3bal-Col%C3%B3n-Klasse\" title=\"Cristóbal-Colón-Klasse\"><i>Cristóbal-Colón</i>-Klasse</a>\n",
       "</td></tr>\n",
       "<tr>\n",
       "<td><a class=\"mw-redirect\" href=\"/wiki/Segelyacht\" title=\"Segelyacht\">Segelyacht</a></td>\n",
       "<td><i><a href=\"/wiki/SY_A\" title=\"SY A\">SY A</a></i>\n",
       "</td></tr>\n",
       "<tr>\n",
       "<td><a href=\"/wiki/Arbeitsschiff\" title=\"Arbeitsschiff\">Arbeitsschiff</a></td>\n",
       "<td><i><a href=\"/wiki/Pioneering_Spirit\" title=\"Pioneering Spirit\">Pioneering Spirit</a></i>\n",
       "</td></tr>\n",
       "<tr>\n",
       "<td>Schwimmende Erdöl-/Erdgas-Förderanlagen und Verflüssigungsanlagen (FPSO / FLNG)</td>\n",
       "<td><i><a href=\"/wiki/Prelude_(Schiff)\" title=\"Prelude (Schiff)\">Prelude</a></i>\n",
       "</td></tr>\n",
       "<tr>\n",
       "<td><a href=\"/wiki/Hospitalschiff\" title=\"Hospitalschiff\">Hospitalschiff</a></td>\n",
       "<td><i><a href=\"/wiki/USNS_Comfort_(T-AH-20)\" title=\"USNS Comfort (T-AH-20)\">USNS Comfort</a></i>\n",
       "</td></tr></tbody></table>\n",
       "<link href=\"mw-data:TemplateStyles:r236689292\" rel=\"mw-deduplicated-inline-style\"/><div class=\"fussnoten-box\">\n",
       "<div aria-hidden=\"true\" class=\"fussnoten-linie\" role=\"presentation\"></div>\n",
       "<p><br/>\n",
       "</p>\n",
       "<link href=\"mw-data:TemplateStyles:r236689292\" rel=\"mw-deduplicated-inline-style\"/><div class=\"fussnoten-block\"><div class=\"fussnoten-inhalt references\" id=\"FNZ_Anm._1\"><sup class=\"fussnoten-marke\"><a href=\"#FN_Anm._1_back\">Anm. 1</a></sup> <div class=\"mw-reference-text\">Die <i>TI Europe</i> und ihr Schwesterschiff, die <i>TI Oceania</i>, sind die größten <a href=\"/wiki/Doppelh%C3%BCllenschiff\" title=\"Doppelhüllenschiff\">Doppelhüllentanker</a> der Welt. Zwei weitere Schwesterschiffe, die <i>TI Asia</i> und die <i>TI Africa</i>, wurden zu stationären Offshore-Plattformen umgebaut.</div></div></div>\n",
       "<link href=\"mw-data:TemplateStyles:r236689292\" rel=\"mw-deduplicated-inline-style\"/><div class=\"fussnoten-block\"><div class=\"fussnoten-inhalt references\" id=\"FNZ_Anm._2\"><sup class=\"fussnoten-marke\"><a href=\"#FN_Anm._2_back\">Anm. 2</a></sup> <div class=\"mw-reference-text\">Der Öltanker <i>Jahre Viking</i> war ehemals das größte und längste Schiff der Welt, er wurde später zu einer <a href=\"/wiki/Floating_Production_Storage_and_Offloading_Unit\" title=\"Floating Production Storage and Offloading Unit\">FSO</a>, einer stationären <a href=\"/wiki/Offshorebauwerk\" title=\"Offshorebauwerk\">Offshore-Plattform</a>, umgebaut und erhielt den Namen <i>Knock Nevis</i>. Die <i>Pierre Guillaumat</i> war der größte in einem Stück gebaute Tanker.</div></div></div>\n",
       "<p><br/>\n",
       "</p>\n",
       "</div>\n",
       "<p>Nach dem Abwracken der <i>Jahre Viking</i> und den 4 Schiffen der <a href=\"/wiki/Batillus-Klasse\" title=\"Batillus-Klasse\"><i>Batillus</i>-Klasse</a> waren die Containerschiffe der <a href=\"/wiki/Emma-M%C3%A6rsk-Klasse\" title=\"Emma-Mærsk-Klasse\"><i>Emma-Mærsk</i>-Klasse</a> bis 2013 die längsten Schiffe der Welt.\n",
       "</p><p>Nach <a href=\"/wiki/Schiffsma%C3%9Fe#Brutto-_und_Nettoraumzahl_(BRZ,_NRZ)\" title=\"Schiffsmaße\">Bruttoraumzahl</a> (BRZ) ist der <a href=\"/wiki/Rohrleger\" title=\"Rohrleger\">Rohrleger</a> <i><a href=\"/wiki/Pioneering_Spirit\" title=\"Pioneering Spirit\">Pioneering Spirit</a></i> das größte Schiff der Welt.\n",
       "</p>\n",
       "<ul class=\"gallery mw-gallery-traditional\">\n",
       "<li class=\"gallerybox\" style=\"width: 155px\">\n",
       "<div class=\"thumb\" style=\"width: 150px; height: 150px;\"><span typeof=\"mw:File\"><a class=\"mw-file-description\" href=\"/wiki/Datei:Freedom-of-the-Seas--in-Hamburg.jpg\" title=\"Freedom of the Seas\"><img alt=\"Freedom of the Seas\" class=\"mw-file-element\" data-file-height=\"1200\" data-file-width=\"1800\" decoding=\"async\" height=\"80\" src=\"//upload.wikimedia.org/wikipedia/commons/thumb/0/02/Freedom-of-the-Seas--in-Hamburg.jpg/120px-Freedom-of-the-Seas--in-Hamburg.jpg\" srcset=\"//upload.wikimedia.org/wikipedia/commons/thumb/0/02/Freedom-of-the-Seas--in-Hamburg.jpg/180px-Freedom-of-the-Seas--in-Hamburg.jpg 1.5x, //upload.wikimedia.org/wikipedia/commons/thumb/0/02/Freedom-of-the-Seas--in-Hamburg.jpg/240px-Freedom-of-the-Seas--in-Hamburg.jpg 2x\" width=\"120\"/></a></span></div>\n",
       "<div class=\"gallerytext\"><i><a href=\"/wiki/Freedom_of_the_Seas\" title=\"Freedom of the Seas\">Freedom of the Seas</a></i></div>\n",
       "</li>\n",
       "<li class=\"gallerybox\" style=\"width: 155px\">\n",
       "<div class=\"thumb\" style=\"width: 150px; height: 150px;\"><span typeof=\"mw:File\"><a class=\"mw-file-description\" href=\"/wiki/Datei:Royal_clipper.jpg\" title=\"Royal Clipper\"><img alt=\"Royal Clipper\" class=\"mw-file-element\" data-file-height=\"927\" data-file-width=\"1614\" decoding=\"async\" height=\"69\" src=\"//upload.wikimedia.org/wikipedia/commons/thumb/b/be/Royal_clipper.jpg/120px-Royal_clipper.jpg\" srcset=\"//upload.wikimedia.org/wikipedia/commons/thumb/b/be/Royal_clipper.jpg/180px-Royal_clipper.jpg 1.5x, //upload.wikimedia.org/wikipedia/commons/thumb/b/be/Royal_clipper.jpg/240px-Royal_clipper.jpg 2x\" width=\"120\"/></a></span></div>\n",
       "<div class=\"gallerytext\"><i><a href=\"/wiki/Royal_Clipper\" title=\"Royal Clipper\">Royal Clipper</a></i></div>\n",
       "</li>\n",
       "<li class=\"gallerybox\" style=\"width: 155px\">\n",
       "<div class=\"thumb\" style=\"width: 150px; height: 150px;\"><span typeof=\"mw:File\"><a class=\"mw-file-description\" href=\"/wiki/Datei:Queen_Mary_2_02_KMJ.jpg\" title=\"Queen Mary 2\"><img alt=\"Queen Mary 2\" class=\"mw-file-element\" data-file-height=\"343\" data-file-width=\"768\" decoding=\"async\" height=\"54\" src=\"//upload.wikimedia.org/wikipedia/commons/thumb/4/4d/Queen_Mary_2_02_KMJ.jpg/120px-Queen_Mary_2_02_KMJ.jpg\" srcset=\"//upload.wikimedia.org/wikipedia/commons/thumb/4/4d/Queen_Mary_2_02_KMJ.jpg/180px-Queen_Mary_2_02_KMJ.jpg 1.5x, //upload.wikimedia.org/wikipedia/commons/thumb/4/4d/Queen_Mary_2_02_KMJ.jpg/240px-Queen_Mary_2_02_KMJ.jpg 2x\" width=\"120\"/></a></span></div>\n",
       "<div class=\"gallerytext\"><i><a href=\"/wiki/Queen_Mary_2\" title=\"Queen Mary 2\">Queen Mary 2</a></i></div>\n",
       "</li>\n",
       "<li class=\"gallerybox\" style=\"width: 155px\">\n",
       "<div class=\"thumb\" style=\"width: 150px; height: 150px;\"><span typeof=\"mw:File\"><a class=\"mw-file-description\" href=\"/wiki/Datei:Stena_Hollandica_at_Hoek_van_Holland_Haven_aerial_photo.jpg\" title=\"Stena Hollandica\"><img alt=\"Stena Hollandica\" class=\"mw-file-element\" data-file-height=\"2588\" data-file-width=\"3882\" decoding=\"async\" height=\"80\" src=\"//upload.wikimedia.org/wikipedia/commons/thumb/c/c9/Stena_Hollandica_at_Hoek_van_Holland_Haven_aerial_photo.jpg/120px-Stena_Hollandica_at_Hoek_van_Holland_Haven_aerial_photo.jpg\" srcset=\"//upload.wikimedia.org/wikipedia/commons/thumb/c/c9/Stena_Hollandica_at_Hoek_van_Holland_Haven_aerial_photo.jpg/180px-Stena_Hollandica_at_Hoek_van_Holland_Haven_aerial_photo.jpg 1.5x, //upload.wikimedia.org/wikipedia/commons/thumb/c/c9/Stena_Hollandica_at_Hoek_van_Holland_Haven_aerial_photo.jpg/240px-Stena_Hollandica_at_Hoek_van_Holland_Haven_aerial_photo.jpg 2x\" width=\"120\"/></a></span></div>\n",
       "<div class=\"gallerytext\"><i><a href=\"/wiki/RoPax_55\" title=\"RoPax 55\">Stena Hollandica</a></i></div>\n",
       "</li>\n",
       "<li class=\"gallerybox\" style=\"width: 155px\">\n",
       "<div class=\"thumb\" style=\"width: 150px; height: 150px;\"><span typeof=\"mw:File\"><a class=\"mw-file-description\" href=\"/wiki/Datei:White_Pearl_A_Seite.JPG\" title=\"SY A\"><img alt=\"SY A\" class=\"mw-file-element\" data-file-height=\"1350\" data-file-width=\"1600\" decoding=\"async\" height=\"101\" src=\"//upload.wikimedia.org/wikipedia/commons/thumb/e/ef/White_Pearl_A_Seite.JPG/120px-White_Pearl_A_Seite.JPG\" srcset=\"//upload.wikimedia.org/wikipedia/commons/thumb/e/ef/White_Pearl_A_Seite.JPG/180px-White_Pearl_A_Seite.JPG 1.5x, //upload.wikimedia.org/wikipedia/commons/thumb/e/ef/White_Pearl_A_Seite.JPG/240px-White_Pearl_A_Seite.JPG 2x\" width=\"120\"/></a></span></div>\n",
       "<div class=\"gallerytext\"><i><a href=\"/wiki/SY_A\" title=\"SY A\">SY A</a></i></div>\n",
       "</li>\n",
       "</ul>\n",
       "<h2><span class=\"mw-headline\" id=\"Schiffe_mit_herausragenden_Abmessungen\">Schiffe mit herausragenden Abmessungen</span><span class=\"mw-editsection\"><span class=\"mw-editsection-bracket\">[</span><a class=\"mw-editsection-visualeditor\" href=\"/w/index.php?title=Liste_der_gr%C3%B6%C3%9Ften_Schiffe_der_Welt&amp;veaction=edit&amp;section=2\" title=\"Abschnitt bearbeiten: Schiffe mit herausragenden Abmessungen\"><span>Bearbeiten</span></a><span class=\"mw-editsection-divider\"> | </span><a href=\"/w/index.php?title=Liste_der_gr%C3%B6%C3%9Ften_Schiffe_der_Welt&amp;action=edit&amp;section=2\" title=\"Quellcode des Abschnitts bearbeiten: Schiffe mit herausragenden Abmessungen\"><span>Quelltext bearbeiten</span></a><span class=\"mw-editsection-bracket\">]</span></span></h2>\n",
       "<p>Eine Auswahl von zum Teil historischen Schiffen, die (zu ihrer Zeit) zu den größten Schiffen ihrer Art gehören bzw. gehörten. Die Schiffe sind in der Tabelle nach ihrer Länge sortiert, können aber durch die schwarzen Doppeldreiecke auf grauem Grund neben der Spaltenüberschrift nach jeder beliebigen Kategorie sortiert werden.\n",
       "</p>\n",
       "<table class=\"wikitable sortable toptextcells zebra\">\n",
       "<tbody><tr>\n",
       "<th>Name\n",
       "</th>\n",
       "<th>Klasse\n",
       "</th>\n",
       "<th>Art\n",
       "</th>\n",
       "<th>Besonderheit\n",
       "</th>\n",
       "<th data-sort-type=\"number\"><a href=\"/wiki/Registertonne#Bruttoregistertonne\" title=\"Registertonne\">BRT</a>\n",
       "</th>\n",
       "<th data-sort-type=\"number\"><a href=\"/wiki/Schiffsma%C3%9Fe#Brutto-_und_Nettoraumzahl_(BRZ,_NRZ)\" title=\"Schiffsmaße\">BRZ</a>\n",
       "</th>\n",
       "<th data-sort-type=\"number\"><a href=\"/wiki/Schiffsma%C3%9Fe#Verdrängung\" title=\"Schiffsmaße\">Verdr.</a> /t\n",
       "</th>\n",
       "<th data-sort-type=\"number\">Länge /m\n",
       "</th>\n",
       "<th data-sort-type=\"number\">Breite /m\n",
       "</th>\n",
       "<th data-sort-type=\"number\">Jahr<br/><small>(Dienstbeg.)</small>\n",
       "</th>\n",
       "<th>Status\n",
       "</th></tr>\n",
       "<tr>\n",
       "<td><i><a href=\"/wiki/Prelude_(Schiff)\" title=\"Prelude (Schiff)\">Prelude</a></i>\n",
       "</td>\n",
       "<td>\n",
       "</td>\n",
       "<td><a href=\"/wiki/Fl%C3%BCssigerdgas#Floating_Liquefied_Natural_Gas_(FLNG)\" title=\"Flüssigerdgas\">FLNG</a>-Plattform<sup class=\"reference\" id=\"cite_ref-4\"><a href=\"#cite_note-4\">[4]</a></sup></td>\n",
       "<td>Schwimmende, selbst-manövrierende Plattform. Im eigentlichen Sinne kein Schiff</td>\n",
       "<td>–</td>\n",
       "<td>300.000</td>\n",
       "<td>600.000</td>\n",
       "<td>488,00</td>\n",
       "<td>74,00</td>\n",
       "<td>2017</td>\n",
       "<td>in Dienst\n",
       "</td></tr>\n",
       "<tr>\n",
       "<td><i><a href=\"/wiki/Jahre_Viking\" title=\"Jahre Viking\">Jahre Viking</a></i>\n",
       "</td>\n",
       "<td>\n",
       "</td>\n",
       "<td><a href=\"/wiki/Tanker\" title=\"Tanker\">Tanker</a>, einwandig / später <a href=\"/wiki/Floating_Production_Storage_and_Offloading_Unit\" title=\"Floating Production Storage and Offloading Unit\">FSO</a></td>\n",
       "<td>(Nach Umbau) längstes jemals gebautes Schiff; später als FSO (Lager- und Umschlagstation) genutzt</td>\n",
       "<td>–</td>\n",
       "<td>260.941</td>\n",
       "<td>647.955</td>\n",
       "<td>458,45</td>\n",
       "<td>68,80</td>\n",
       "<td>1979</td>\n",
       "<td>abgewrackt\n",
       "</td></tr>\n",
       "<tr>\n",
       "<td><i><a href=\"/wiki/Pierre_Guillaumat_(Schiff)\" title=\"Pierre Guillaumat (Schiff)\">Pierre Guillaumat</a></i>\n",
       "</td>\n",
       "<td>\n",
       "</td>\n",
       "<td><a href=\"/wiki/Tanker\" title=\"Tanker\">Tanker</a>, einwandig</td>\n",
       "<td>Bis 2014 war es das längste „in einem Stück“ gebaute Schiff</td>\n",
       "<td>274.838</td>\n",
       "<td>–</td>\n",
       "<td>630.962</td>\n",
       "<td>414,23</td>\n",
       "<td>63,05</td>\n",
       "<td>1977</td>\n",
       "<td>abgewrackt\n",
       "</td></tr>\n",
       "<tr>\n",
       "<td><i>MOL Triumph</i>\n",
       "</td>\n",
       "<td><a href=\"/wiki/MOL_20.000-TEU-Typ\" title=\"MOL 20.000-TEU-Typ\">MOL 20.000-TEU-Typ</a>\n",
       "</td>\n",
       "<td><a href=\"/wiki/Containerschiff\" title=\"Containerschiff\">Containerschiff</a></td>\n",
       "<td>2017 kurzzeitig größtes Containerschiff nach BRZ und Containerzahl (TEU)</td>\n",
       "<td>–</td>\n",
       "<td>199.000</td>\n",
       "<td>?</td>\n",
       "<td>400,00</td>\n",
       "<td>58,80</td>\n",
       "<td>2017</td>\n",
       "<td>in Dienst\n",
       "</td></tr>\n",
       "<tr>\n",
       "<td><i>Majestic Mærsk</i>\n",
       "</td>\n",
       "<td><a href=\"/wiki/Triple-E-Klasse\" title=\"Triple-E-Klasse\">Triple-E-Klasse</a>\n",
       "</td>\n",
       "<td><a href=\"/wiki/Containerschiff\" title=\"Containerschiff\">Containerschiff</a></td>\n",
       "<td>Von 2013 bis 2014 längstes Containerschiff</td>\n",
       "<td>–</td>\n",
       "<td>194.849</td>\n",
       "<td>?</td>\n",
       "<td>399,00</td>\n",
       "<td>59,00</td>\n",
       "<td>2013</td>\n",
       "<td>in Dienst\n",
       "</td></tr>\n",
       "<tr>\n",
       "<td><i><a href=\"/wiki/Pioneering_Spirit\" title=\"Pioneering Spirit\">Pioneering Spirit</a></i>\n",
       "</td>\n",
       "<td>\n",
       "</td>\n",
       "<td><a href=\"/wiki/Rohrleger\" title=\"Rohrleger\">Rohrleger</a></td>\n",
       "<td>Arbeitsschiff. Größtes (nach BRZ) jemals gebautes Schiff</td>\n",
       "<td>–</td>\n",
       "<td>403.342</td>\n",
       "<td>900.000</td>\n",
       "<td>382,00</td>\n",
       "<td>123,75</td>\n",
       "<td>2014</td>\n",
       "<td>in Dienst\n",
       "</td></tr>\n",
       "<tr>\n",
       "<td><i>TI Europe</i>\n",
       "</td>\n",
       "<td><a href=\"/wiki/Hellespont-Alhambra-Klasse\" title=\"Hellespont-Alhambra-Klasse\"><i>Hellespont-Alhambra</i>-Klasse</a>\n",
       "</td>\n",
       "<td><a href=\"/wiki/Tanker\" title=\"Tanker\">Tanker</a>, <a href=\"/wiki/Doppelh%C3%BCllenschiff\" title=\"Doppelhüllenschiff\"><i>doppelwandig</i></a></td>\n",
       "<td>Größter Doppelhüllen-Tanker</td>\n",
       "<td>–</td>\n",
       "<td>234.006</td>\n",
       "<td>?</td>\n",
       "<td>380,00</td>\n",
       "<td>68,00</td>\n",
       "<td>?</td>\n",
       "<td>in Dienst\n",
       "</td></tr>\n",
       "<tr>\n",
       "<td><i><a href=\"/wiki/Nanny_(Schiff)\" title=\"Nanny (Schiff)\">Nanny</a></i>\n",
       "</td>\n",
       "<td>\n",
       "</td>\n",
       "<td><a href=\"/wiki/Tanker\" title=\"Tanker\">Tanker</a>, einwandig</td>\n",
       "<td>Breitestes je gebautes Frachtschiff</td>\n",
       "<td>–</td>\n",
       "<td>245.140</td>\n",
       "<td>?</td>\n",
       "<td>364,04</td>\n",
       "<td>79,04</td>\n",
       "<td>1978</td>\n",
       "<td>2003 abgewrackt\n",
       "</td></tr>\n",
       "<tr>\n",
       "<td><i><a href=\"/wiki/Wonder_of_the_Seas\" title=\"Wonder of the Seas\">Wonder of the Seas</a></i>\n",
       "</td>\n",
       "<td><a class=\"mw-redirect\" href=\"/wiki/Oasis-Klasse\" title=\"Oasis-Klasse\"><i>Oasis</i>-Klasse</a>\n",
       "</td>\n",
       "<td><a href=\"/wiki/Kreuzfahrtschiff\" title=\"Kreuzfahrtschiff\">Kreuzfahrtschiff</a></td>\n",
       "<td>Bis Ende 2023 größtes jemals gebautes Passagierschiff (Kreuzfahrtschiff) (nach BRZ). Seit 2024 ist <a href=\"/wiki/Icon_of_the_Seas\" title=\"Icon of the Seas\">Icon of the Seas</a> am größten.</td>\n",
       "<td>–</td>\n",
       "<td>236.857</td>\n",
       "<td>100.000</td>\n",
       "<td>362</td>\n",
       "<td>66,00 ü.A.</td>\n",
       "<td>2021</td>\n",
       "<td>in Dienst\n",
       "</td></tr>\n",
       "<tr>\n",
       "<td><i>Vale Brasil</i>\n",
       "</td>\n",
       "<td><a href=\"/wiki/Valemax-Klasse\" title=\"Valemax-Klasse\">Valemax-Klasse</a>\n",
       "</td>\n",
       "<td><a href=\"/wiki/Massengutfrachter\" title=\"Massengutfrachter\">Massengutfrachter</a></td>\n",
       "<td>Größter Schüttgutfrachter der Welt (nach Ladekapazität und Länge)</td>\n",
       "<td>–</td>\n",
       "<td>198.980</td>\n",
       "<td>?</td>\n",
       "<td>362,00</td>\n",
       "<td>65,06</td>\n",
       "<td>?</td>\n",
       "<td>in Dienst\n",
       "</td></tr>\n",
       "<tr>\n",
       "<td><i><a href=\"/wiki/Queen_Mary_2\" title=\"Queen Mary 2\">Queen Mary 2</a></i>\n",
       "</td>\n",
       "<td>\n",
       "</td>\n",
       "<td><a href=\"/wiki/Passagierschiff\" title=\"Passagierschiff\">Passagierschiff</a></td>\n",
       "<td>Größter planmäßig verkehrender Transatlantikliner. Daneben auch Einsatz als Kreuzfahrtschiff</td>\n",
       "<td>–</td>\n",
       "<td>148.528</td>\n",
       "<td>79.827</td>\n",
       "<td>345,03</td>\n",
       "<td>41,08</td>\n",
       "<td>2004</td>\n",
       "<td>in Dienst\n",
       "</td></tr>\n",
       "<tr>\n",
       "<td><a href=\"/wiki/USS_Enterprise_(CVN-65)\" title=\"USS Enterprise (CVN-65)\">USS <i>Enterprise</i></a>\n",
       "</td>\n",
       "<td>\n",
       "</td>\n",
       "<td><a href=\"/wiki/Flugzeugtr%C3%A4ger\" title=\"Flugzeugträger\">Flugzeugträger</a></td>\n",
       "<td>Längster jemals gebauter Flugzeugträger und Kriegsschiff</td>\n",
       "<td>–</td>\n",
       "<td>–</td>\n",
       "<td>75.704</td>\n",
       "<td>342,30</td>\n",
       "<td>78,30</td>\n",
       "<td>1961</td>\n",
       "<td>2012 außer Dienst\n",
       "</td></tr>\n",
       "<tr>\n",
       "<td><i><a href=\"/wiki/USS_Nimitz_(CVN-68)\" title=\"USS Nimitz (CVN-68)\">USS Nimitz</a></i>\n",
       "</td>\n",
       "<td><a href=\"/wiki/Nimitz-Klasse\" title=\"Nimitz-Klasse\"><i>Nimitz</i>-Klasse</a>\n",
       "</td>\n",
       "<td><a href=\"/wiki/Flugzeugtr%C3%A4ger\" title=\"Flugzeugträger\">Flugzeugträger</a></td>\n",
       "<td></td>\n",
       "<td>–</td>\n",
       "<td>–</td>\n",
       "<td>97.000</td>\n",
       "<td>332,85</td>\n",
       "<td>76,80</td>\n",
       "<td>1975</td>\n",
       "<td>in Dienst\n",
       "</td></tr>\n",
       "<tr>\n",
       "<td><i><a href=\"/wiki/Normandie_(Schiff,_1935)\" title=\"Normandie (Schiff, 1935)\">Normandie</a></i>\n",
       "</td>\n",
       "<td>\n",
       "</td>\n",
       "<td><a href=\"/wiki/Passagierschiff\" title=\"Passagierschiff\">Passagierschiff</a></td>\n",
       "<td>Zu ihrer Zeit das größte Schiff der Welt</td>\n",
       "<td>79.000</td>\n",
       "<td>–</td>\n",
       "<td>71.300</td>\n",
       "<td>313,58</td>\n",
       "<td>36,40</td>\n",
       "<td>1935</td>\n",
       "<td>1942 nach Brand gekentert, später geborgen und abgewrackt\n",
       "</td></tr>\n",
       "<tr>\n",
       "<td><i><a href=\"/wiki/Vaterland_(Schiff,_1914)\" title=\"Vaterland (Schiff, 1914)\">Vaterland</a></i>\n",
       "</td>\n",
       "<td><a href=\"/wiki/Imperator-Klasse\" title=\"Imperator-Klasse\"><i>Imperator</i>-Klasse</a>\n",
       "</td>\n",
       "<td><a href=\"/wiki/Passagierschiff\" title=\"Passagierschiff\">Passagierschiff</a></td>\n",
       "<td>Die <i>Vaterland</i> ist bis heute das größte jemals unter deutscher Flagge gefahrene Passagierschiff und zugleich das größte mit Kohlefeuerung betriebene Dampfschiff der Geschichte</td>\n",
       "<td>54.282</td>\n",
       "<td>–</td>\n",
       "<td>?</td>\n",
       "<td>289,56</td>\n",
       "<td>30,48</td>\n",
       "<td>1914</td>\n",
       "<td>1938 abgewrackt\n",
       "</td></tr>\n",
       "<tr>\n",
       "<td><i><a href=\"/wiki/Boka_Vanguard\" title=\"Boka Vanguard\">Boka Vanguard</a></i>\n",
       "</td>\n",
       "<td>\n",
       "</td>\n",
       "<td><a href=\"/wiki/Halbtaucher\" title=\"Halbtaucher\">Halbtaucherschiff</a></td>\n",
       "<td>Größter Schwergutfrachter</td>\n",
       "<td>–</td>\n",
       "<td>91.784</td>\n",
       "<td>?</td>\n",
       "<td>275,00</td>\n",
       "<td>78,75</td>\n",
       "<td>2013</td>\n",
       "<td>in Fahrt\n",
       "</td></tr>\n",
       "<tr>\n",
       "<td><i><a href=\"/wiki/Titanic_(Schiff)\" title=\"Titanic (Schiff)\">Titanic</a></i>\n",
       "</td>\n",
       "<td><a href=\"/wiki/Olympic-Klasse\" title=\"Olympic-Klasse\"><i>Olympic</i>-Klasse</a>\n",
       "</td>\n",
       "<td><a href=\"/wiki/Passagierschiff\" title=\"Passagierschiff\">Passagierschiff</a></td>\n",
       "<td>Zu ihrer Zeit das größte Schiff der Welt. Durch den tragischen Untergang eines der bekanntesten und berühmtesten Schiffe überhaupt</td>\n",
       "<td>46.329</td>\n",
       "<td>–</td>\n",
       "<td>53.147</td>\n",
       "<td>269,04</td>\n",
       "<td>28,19</td>\n",
       "<td>1912</td>\n",
       "<td>1912 Untergang\n",
       "</td></tr>\n",
       "<tr>\n",
       "<td><i>Tønsberg</i>\n",
       "</td>\n",
       "<td><a href=\"/wiki/Mark-V-Klasse\" title=\"Mark-V-Klasse\">Mark-V-Klasse</a>\n",
       "</td>\n",
       "<td><a href=\"/wiki/Autotransporter_(Schiffstyp)\" title=\"Autotransporter (Schiffstyp)\">Autotransporter</a></td>\n",
       "<td>Größter Autotransporter mit Ladekapazität von ca. 6.000 PKW</td>\n",
       "<td>–</td>\n",
       "<td>76.500</td>\n",
       "<td>41.820</td>\n",
       "<td>265,00</td>\n",
       "<td>32,26</td>\n",
       "<td>?</td>\n",
       "<td>in Dienst\n",
       "</td></tr>\n",
       "<tr>\n",
       "<td><i><a href=\"/wiki/Yamato_(Schiff,_1941)\" title=\"Yamato (Schiff, 1941)\">Yamato</a></i>\n",
       "</td>\n",
       "<td><a href=\"/wiki/Yamato-Klasse\" title=\"Yamato-Klasse\"><i>Yamato</i>-Klasse</a>\n",
       "</td>\n",
       "<td><a href=\"/wiki/Schlachtschiff\" title=\"Schlachtschiff\">Schlachtschiff</a></td>\n",
       "<td>Größtes jemals gebautes Schlachtschiff (nach Verdrängung und Länge)</td>\n",
       "<td>–</td>\n",
       "<td>–</td>\n",
       "<td>65.000</td>\n",
       "<td>263,00</td>\n",
       "<td>38,90</td>\n",
       "<td>1941</td>\n",
       "<td>1945 versenkt\n",
       "</td></tr>\n",
       "<tr>\n",
       "<td><i><a href=\"/wiki/HMS_Hood_(51)\" title=\"HMS Hood (51)\">HMS Hood</a></i>\n",
       "</td>\n",
       "<td>\n",
       "</td>\n",
       "<td><a href=\"/wiki/Schlachtkreuzer\" title=\"Schlachtkreuzer\">Schlachtkreuzer</a></td>\n",
       "<td>Zwischen den Weltkriegen größter und längster Schlachtkreuzer. Wurde von der <a href=\"/wiki/Bismarck_(Schiff,_1939)\" title=\"Bismarck (Schiff, 1939)\"><i>Bismarck</i></a> versenkt.</td>\n",
       "<td>–</td>\n",
       "<td>–</td>\n",
       "<td>42.600</td>\n",
       "<td>262,30</td>\n",
       "<td>32,00</td>\n",
       "<td>1918</td>\n",
       "<td>1941 versenkt\n",
       "</td></tr>\n",
       "<tr>\n",
       "<td><i><a href=\"/wiki/Bismarck_(Schiff,_1939)\" title=\"Bismarck (Schiff, 1939)\">Bismarck</a></i>\n",
       "</td>\n",
       "<td><a href=\"/wiki/Bismarck-Klasse_(1939)\" title=\"Bismarck-Klasse (1939)\"><i>Bismarck</i>-Klasse</a>\n",
       "</td>\n",
       "<td><a href=\"/wiki/Schlachtschiff\" title=\"Schlachtschiff\">Schlachtschiff</a></td>\n",
       "<td>Bei ihrer Indienststellung galt sie als das weltweit größte und kampfstärkste Schlachtschiff.</td>\n",
       "<td>–</td>\n",
       "<td>–</td>\n",
       "<td>41.700</td>\n",
       "<td>250,50</td>\n",
       "<td>36,00</td>\n",
       "<td>1939</td>\n",
       "<td>1941 versenkt\n",
       "</td></tr>\n",
       "<tr>\n",
       "<td><i><a href=\"/wiki/Stena_Scandinavica_(Schiff,_2003)\" title=\"Stena Scandinavica (Schiff, 2003)\">Stena Scandinavica</a></i>\n",
       "</td>\n",
       "<td>\n",
       "</td>\n",
       "<td><a href=\"/wiki/F%C3%A4hre\" title=\"Fähre\">Fähre</a></td>\n",
       "<td>Größte Fähre nach Länge</td>\n",
       "<td>–</td>\n",
       "<td>51.837</td>\n",
       "<td>?</td>\n",
       "<td>243,30</td>\n",
       "<td>28,70</td>\n",
       "<td>?</td>\n",
       "<td>in Dienst\n",
       "</td></tr>\n",
       "<tr>\n",
       "<td><i><a href=\"/wiki/Color_Magic\" title=\"Color Magic\">Color Magic</a></i>\n",
       "</td>\n",
       "<td>\n",
       "</td>\n",
       "<td><a href=\"/wiki/F%C3%A4hre\" title=\"Fähre\">Fähre</a></td>\n",
       "<td>Größte Fähre nach BRZ</td>\n",
       "<td>–</td>\n",
       "<td>75.156</td>\n",
       "<td>?</td>\n",
       "<td>223,75</td>\n",
       "<td>35,00</td>\n",
       "<td></td>\n",
       "<td>In Fahrt\n",
       "</td></tr>\n",
       "<tr>\n",
       "<td><i><a class=\"new\" href=\"/w/index.php?title=Crist%C3%B3bal_Col%C3%B3n_(Hopperbagger)&amp;action=edit&amp;redlink=1\" title=\"Cristóbal Colón (Hopperbagger) (Seite nicht vorhanden)\">Cristóbal Colón</a></i>\n",
       "</td>\n",
       "<td>\n",
       "</td>\n",
       "<td><a href=\"/wiki/Hopperbagger\" title=\"Hopperbagger\">Hopperbagger</a></td>\n",
       "<td>–</td>\n",
       "<td>–</td>\n",
       "<td>?</td>\n",
       "<td>78.000</td>\n",
       "<td>223,00</td>\n",
       "<td>41,00</td>\n",
       "<td>?</td>\n",
       "<td>in Dienst\n",
       "</td></tr>\n",
       "<tr>\n",
       "<td><i><a href=\"/wiki/Great_Eastern\" title=\"Great Eastern\">Great Eastern</a></i>\n",
       "</td>\n",
       "<td>\n",
       "</td>\n",
       "<td><a href=\"/wiki/Segeldampfer\" title=\"Segeldampfer\">Segeldampfer</a></td>\n",
       "<td>Seinerzeit größtes je gebautes Schiff (bis 1901)</td>\n",
       "<td>18.915</td>\n",
       "<td>–</td>\n",
       "<td>32.000</td>\n",
       "<td>211,00</td>\n",
       "<td>23,50</td>\n",
       "<td>1858</td>\n",
       "<td>1889 abgewrackt\n",
       "</td></tr>\n",
       "<tr>\n",
       "<td><i><a href=\"/wiki/Ulysses_(Schiff,_2001)\" title=\"Ulysses (Schiff, 2001)\">Ulysses</a></i>\n",
       "</td>\n",
       "<td>\n",
       "</td>\n",
       "<td><a href=\"/wiki/F%C3%A4hre\" title=\"Fähre\">Fähre</a></td>\n",
       "<td>–</td>\n",
       "<td>–</td>\n",
       "<td>50.938</td>\n",
       "<td>27.425</td>\n",
       "<td>209,02</td>\n",
       "<td>31,20</td>\n",
       "<td>2001</td>\n",
       "<td>in Dienst\n",
       "</td></tr>\n",
       "<tr>\n",
       "<td><i><a href=\"/wiki/Hughes_Glomar_Explorer\" title=\"Hughes Glomar Explorer\">Hughes Glomar Explorer</a></i>\n",
       "</td>\n",
       "<td>\n",
       "</td>\n",
       "<td><a href=\"/wiki/Bergungsschiff\" title=\"Bergungsschiff\">Bergungsschiff</a></td>\n",
       "<td>–</td>\n",
       "<td>–</td>\n",
       "<td>27.686</td>\n",
       "<td>63.000</td>\n",
       "<td>188,70</td>\n",
       "<td>35,30</td>\n",
       "<td>?</td>\n",
       "<td>2015 abgewrackt\n",
       "</td></tr>\n",
       "<tr>\n",
       "<td><i><a href=\"/wiki/Club_Med_2\" title=\"Club Med 2\">Club Med 2</a></i>\n",
       "</td>\n",
       "<td>\n",
       "</td>\n",
       "<td><a href=\"/wiki/Motorsegler_(Wasserfahrzeug)\" title=\"Motorsegler (Wasserfahrzeug)\">Motorsegelschiff</a></td>\n",
       "<td>–</td>\n",
       "<td>–</td>\n",
       "<td>19.983</td>\n",
       "<td>?</td>\n",
       "<td>187,00</td>\n",
       "<td>20,00</td>\n",
       "<td>?</td>\n",
       "<td>in Dienst\n",
       "</td></tr>\n",
       "<tr>\n",
       "<td><i><a href=\"/wiki/Azzam_(Schiff)\" title=\"Azzam (Schiff)\">Azzam</a></i>\n",
       "</td>\n",
       "<td>\n",
       "</td>\n",
       "<td><a href=\"/wiki/Motorboot\" title=\"Motorboot\">Motoryacht</a></td>\n",
       "<td>Längste private Motoryacht der Welt</td>\n",
       "<td>?</td>\n",
       "<td>?</td>\n",
       "<td>?</td>\n",
       "<td>180,0</td>\n",
       "<td>20,80</td>\n",
       "<td>2013</td>\n",
       "<td>in Dienst\n",
       "</td></tr>\n",
       "<tr>\n",
       "<td><i><a href=\"/wiki/TK-208_Dmitri_Donskoj\" title=\"TK-208 Dmitri Donskoj\">Dmitri Donskoj</a></i>\n",
       "</td>\n",
       "<td><a href=\"/wiki/Projekt_941\" title=\"Projekt 941\"><i>Typhoon</i>-Klasse</a>\n",
       "</td>\n",
       "<td><a href=\"/wiki/U-Boot\" title=\"U-Boot\">Unterseeboot</a></td>\n",
       "<td>Größtes je gebautes (Atom-)Unterseeboot (nach Verdrängung und Länge)</td>\n",
       "<td>–</td>\n",
       "<td>–</td>\n",
       "<td>23.200</td>\n",
       "<td>172,80</td>\n",
       "<td>23,30</td>\n",
       "<td>1981</td>\n",
       "<td>in Dienst\n",
       "</td></tr>\n",
       "<tr>\n",
       "<td><i><a href=\"/wiki/50_Let_Pobedy_(Schiff)\" title=\"50 Let Pobedy (Schiff)\">50 Let Pobedy</a></i>\n",
       "</td>\n",
       "<td><a href=\"/wiki/Arktika-Klasse\" title=\"Arktika-Klasse\"><i>Arktica</i>-Klasse</a>\n",
       "</td>\n",
       "<td><a href=\"/wiki/Eisbrecher\" title=\"Eisbrecher\">Eisbrecher</a></td>\n",
       "<td>Größter und leistungsfähigster Eisbrecher</td>\n",
       "<td>–</td>\n",
       "<td>23.439</td>\n",
       "<td>25.840</td>\n",
       "<td>159,60</td>\n",
       "<td>30,00</td>\n",
       "<td>2007</td>\n",
       "<td>in Dienst\n",
       "</td></tr>\n",
       "<tr>\n",
       "<td><i><a href=\"/wiki/France_(Schiff,_1912%E2%80%931922)\" title=\"France (Schiff, 1912–1922)\">France</a></i>\n",
       "</td>\n",
       "<td>\n",
       "</td>\n",
       "<td><a href=\"/wiki/Segelschiff\" title=\"Segelschiff\">Segelschiff</a> <i><a href=\"/wiki/Auxiliarsegler\" title=\"Auxiliarsegler\">Aux.</a></i> / <a href=\"/wiki/Segelschiff\" title=\"Segelschiff\">Segelschiff</a></td>\n",
       "<td>Segelschiff zunächst mit Motoren; nach Ausbau der Motoren (1919) größtes Segelschiff nach BRT</td>\n",
       "<td>5.633</td>\n",
       "<td>–</td>\n",
       "<td>10.710</td>\n",
       "<td>146,5</td>\n",
       "<td>16,90</td>\n",
       "<td>1911</td>\n",
       "<td>gestrandet\n",
       "</td></tr>\n",
       "<tr>\n",
       "<td><i><a href=\"/wiki/Preu%C3%9Fen_(Schiff,_1902)\" title=\"Preußen (Schiff, 1902)\">Preußen</a></i>\n",
       "</td>\n",
       "<td>\n",
       "</td>\n",
       "<td><a href=\"/wiki/Segelschiff\" title=\"Segelschiff\">Segelschiff</a></td>\n",
       "<td>Die <i>Preußen</i> war bis zur Inbetriebnahme des Luxuskreuzfahrtschiffes <i><a href=\"/wiki/Royal_Clipper\" title=\"Royal Clipper\">Royal Clipper</a></i> im Jahr 2000 das einzige je gebaute Fünfmast<a href=\"/wiki/Vollschiff\" title=\"Vollschiff\">vollschiff</a> und erreichte mit 47 Segeln, davon 30 <a href=\"/wiki/Rahsegel\" title=\"Rahsegel\">Rahsegeln</a>, auch das Maximum in der Anzahl der Segel. Sie zählt zu den größten Segelschiffen der Schiffahrtsgeschichte überhaupt. Sie führt u.A. die Ranglisten nach Lüa (147 m), Segelfläche (6.805 m²), Frachtmenge (8.000 t) sowie Geschwindigkeit für Frachtsegler (20 Knoten) an.</td>\n",
       "<td>5.081</td>\n",
       "<td>–</td>\n",
       "<td>11.650</td>\n",
       "<td>147,00</td>\n",
       "<td>16,34</td>\n",
       "<td>1902</td>\n",
       "<td>gestrandet\n",
       "</td></tr>\n",
       "<tr>\n",
       "<td><i><a href=\"/wiki/Royal_Clipper\" title=\"Royal Clipper\">Royal Clipper</a></i>\n",
       "</td>\n",
       "<td>\n",
       "</td>\n",
       "<td><a href=\"/wiki/Segelschiff\" title=\"Segelschiff\">Segelschiff</a> <i><a href=\"/wiki/Auxiliarsegler\" title=\"Auxiliarsegler\">Aux.</a></i></td>\n",
       "<td>Bisher neben ihrem Vorbild, der <i>Preußen</i>, einziges Fünfmastvollschiff der Welt</td>\n",
       "<td>–</td>\n",
       "<td>4.425</td>\n",
       "<td>?</td>\n",
       "<td>133,74</td>\n",
       "<td>16,28</td>\n",
       "<td>?</td>\n",
       "<td>in Dienst\n",
       "</td></tr>\n",
       "<tr>\n",
       "<td><i>Stena Explorer</i>\n",
       "</td>\n",
       "<td><a href=\"/wiki/High-Speed_Sea_Service\" title=\"High-Speed Sea Service\">HSS 1500-Klasse</a>\n",
       "</td>\n",
       "<td><a href=\"/wiki/Autof%C3%A4hre#Seegehende_Autofähren\" title=\"Autofähre\">Fährkatamaran</a></td>\n",
       "<td>–</td>\n",
       "<td>–</td>\n",
       "<td>19.638</td>\n",
       "<td>?</td>\n",
       "<td>126,60</td>\n",
       "<td>40,00</td>\n",
       "<td>?</td>\n",
       "<td>in Dienst\n",
       "</td></tr>\n",
       "<tr>\n",
       "<td><i><a class=\"mw-redirect\" href=\"/wiki/Far_Samson\" title=\"Far Samson\">Far Samson</a></i>\n",
       "</td>\n",
       "<td>\n",
       "</td>\n",
       "<td><a href=\"/wiki/Schlepper_(Schiffstyp)\" title=\"Schlepper (Schiffstyp)\">Schlepper</a></td>\n",
       "<td>Stärkster Schlepper (Pfahlzugkraft 423 to)</td>\n",
       "<td>–</td>\n",
       "<td>14.740</td>\n",
       "<td>–</td>\n",
       "<td>121,5</td>\n",
       "<td>26,00</td>\n",
       "<td>2009</td>\n",
       "<td>in Dienst\n",
       "</td></tr>\n",
       "<tr>\n",
       "<td><i><a href=\"/wiki/Hermann_Marwede_(Schiff)\" title=\"Hermann Marwede (Schiff)\">Hermann Marwede</a></i>\n",
       "</td>\n",
       "<td>\n",
       "</td>\n",
       "<td><a href=\"/wiki/Seenotrettungskreuzer\" title=\"Seenotrettungskreuzer\">Seenotrettungskreuzer</a></td>\n",
       "<td>Größter Seenotkreuzer nach BRZ</td>\n",
       "<td>–</td>\n",
       "<td>?</td>\n",
       "<td>404</td>\n",
       "<td>46,00</td>\n",
       "<td>10,25</td>\n",
       "<td>2003</td>\n",
       "<td>in Dienst\n",
       "</td></tr>\n",
       "<tr>\n",
       "<td><i><a href=\"/wiki/Baron_of_Renfrew_(Schiff)\" title=\"Baron of Renfrew (Schiff)\">Baron of Renfrew</a></i>\n",
       "</td>\n",
       "<td>\n",
       "</td>\n",
       "<td><a href=\"/wiki/Einwegschiff\" title=\"Einwegschiff\">Einwegschiff</a></td>\n",
       "<td>Das größte je gebaute Holzschiff. War als Einwegschiff nur für eine einmalige Fahrt gebaut, danach wurde das Schiff als Bauholz verwendet.</td>\n",
       "<td>5.294</td>\n",
       "<td>–</td>\n",
       "<td>?</td>\n",
       "<td>110,80</td>\n",
       "<td>18,59</td>\n",
       "<td>1825</td>\n",
       "<td>1825 gestrandet und abgewrackt\n",
       "</td></tr></tbody></table>\n",
       "<h2><span class=\"mw-headline\" id=\"Siehe_auch\">Siehe auch</span><span class=\"mw-editsection\"><span class=\"mw-editsection-bracket\">[</span><a class=\"mw-editsection-visualeditor\" href=\"/w/index.php?title=Liste_der_gr%C3%B6%C3%9Ften_Schiffe_der_Welt&amp;veaction=edit&amp;section=3\" title=\"Abschnitt bearbeiten: Siehe auch\"><span>Bearbeiten</span></a><span class=\"mw-editsection-divider\"> | </span><a href=\"/w/index.php?title=Liste_der_gr%C3%B6%C3%9Ften_Schiffe_der_Welt&amp;action=edit&amp;section=3\" title=\"Quellcode des Abschnitts bearbeiten: Siehe auch\"><span>Quelltext bearbeiten</span></a><span class=\"mw-editsection-bracket\">]</span></span></h2>\n",
       "<ul><li><a class=\"mw-redirect\" href=\"/wiki/Liste_der_gr%C3%B6%C3%9Ften_Holzschiffe_der_Welt\" title=\"Liste der größten Holzschiffe der Welt\">Liste der größten Holzschiffe der Welt</a></li>\n",
       "<li><a href=\"/wiki/Liste_von_Kreuzfahrtschiffen\" title=\"Liste von Kreuzfahrtschiffen\">Liste von Kreuzfahrtschiffen</a></li>\n",
       "<li><a class=\"mw-redirect\" href=\"/wiki/Liste_der_gr%C3%B6%C3%9Ften_Segelschiffe_der_Welt\" title=\"Liste der größten Segelschiffe der Welt\">Liste der größten Segelschiffe der Welt</a></li></ul>\n",
       "<h2><span class=\"mw-headline\" id=\"Literatur\">Literatur</span><span class=\"mw-editsection\"><span class=\"mw-editsection-bracket\">[</span><a class=\"mw-editsection-visualeditor\" href=\"/w/index.php?title=Liste_der_gr%C3%B6%C3%9Ften_Schiffe_der_Welt&amp;veaction=edit&amp;section=4\" title=\"Abschnitt bearbeiten: Literatur\"><span>Bearbeiten</span></a><span class=\"mw-editsection-divider\"> | </span><a href=\"/w/index.php?title=Liste_der_gr%C3%B6%C3%9Ften_Schiffe_der_Welt&amp;action=edit&amp;section=4\" title=\"Quellcode des Abschnitts bearbeiten: Literatur\"><span>Quelltext bearbeiten</span></a><span class=\"mw-editsection-bracket\">]</span></span></h2>\n",
       "<ul><li>Joachim W. Pein: <i>Giganten der Meere. Die größten Tankschiffe der Welt.</i> Koehlers Verlagsgesellschaft, Hamburg 2011.</li></ul>\n",
       "<h2><span class=\"mw-headline\" id=\"Anmerkung_und_Einzelnachweise\">Anmerkung und Einzelnachweise</span><span class=\"mw-editsection\"><span class=\"mw-editsection-bracket\">[</span><a class=\"mw-editsection-visualeditor\" href=\"/w/index.php?title=Liste_der_gr%C3%B6%C3%9Ften_Schiffe_der_Welt&amp;veaction=edit&amp;section=5\" title=\"Abschnitt bearbeiten: Anmerkung und Einzelnachweise\"><span>Bearbeiten</span></a><span class=\"mw-editsection-divider\"> | </span><a href=\"/w/index.php?title=Liste_der_gr%C3%B6%C3%9Ften_Schiffe_der_Welt&amp;action=edit&amp;section=5\" title=\"Quellcode des Abschnitts bearbeiten: Anmerkung und Einzelnachweise\"><span>Quelltext bearbeiten</span></a><span class=\"mw-editsection-bracket\">]</span></span></h2>\n",
       "<ol class=\"references\">\n",
       "<li id=\"cite_note-1\"><span class=\"mw-cite-backlink\"><a href=\"#cite_ref-1\">↑</a></span> <span class=\"reference-text\"><span class=\"cite\"><a class=\"external text\" href=\"https://www.cruisetricks.de/die-groessten-kreuzfahrtschiffe-der-welt/\" rel=\"nofollow\"><i>Die 25 größten Kreuzfahrtschiffe der Welt.</i></a><span class=\"Abrufdatum\"> Abgerufen am 29. November 2023</span>.</span><span class=\"Z3988\" style=\"display: none;\" title=\"ctx_ver=Z39.88-2004&amp;rft_val_fmt=info%3Aofi%2Ffmt%3Akev%3Amtx%3Adc&amp;rfr_id=info%3Asid%2Fde.wikipedia.org%3AListe+der+gr%C3%B6%C3%9Ften+Schiffe+der+Welt&amp;rft.title=Die+25+gr%C3%B6%C3%9Ften+Kreuzfahrtschiffe+der+Welt&amp;rft.description=Die+25+gr%C3%B6%C3%9Ften+Kreuzfahrtschiffe+der+Welt&amp;rft.identifier=https%3A%2F%2Fwww.cruisetricks.de%2Fdie-groessten-kreuzfahrtschiffe-der-welt%2F&amp;rft.language=de\"> </span></span>\n",
       "</li>\n",
       "<li id=\"cite_note-2\"><span class=\"mw-cite-backlink\"><a href=\"#cite_ref-2\">↑</a></span> <span class=\"reference-text\"><span class=\"cite\"><a class=\"external text\" href=\"https://maritime-executive.com/article/msc-receives-second-ultra-large-and-this-one-is-the-world-s-largest\" rel=\"nofollow\"><i>MSC Takes Delivery of the World's Biggest Ultra Large Container Ship.</i></a><span class=\"Abrufdatum\"> Abgerufen am 15. März 2023</span> (englisch).</span><span class=\"Z3988\" style=\"display: none;\" title=\"ctx_ver=Z39.88-2004&amp;rft_val_fmt=info%3Aofi%2Ffmt%3Akev%3Amtx%3Adc&amp;rfr_id=info%3Asid%2Fde.wikipedia.org%3AListe+der+gr%C3%B6%C3%9Ften+Schiffe+der+Welt&amp;rft.title=MSC+Takes+Delivery+of+the+World%27s+Biggest+Ultra+Large+Container+Ship&amp;rft.description=MSC+Takes+Delivery+of+the+World%27s+Biggest+Ultra+Large+Container+Ship&amp;rft.identifier=https%3A%2F%2Fmaritime-executive.com%2Farticle%2Fmsc-receives-second-ultra-large-and-this-one-is-the-world-s-largest&amp;rft.language=en\"> </span></span>\n",
       "</li>\n",
       "<li id=\"cite_note-3\"><span class=\"mw-cite-backlink\"><a href=\"#cite_ref-3\">↑</a></span> <span class=\"reference-text\"><span class=\"cite\"><a class=\"external text\" href=\"https://vesselregister.dnv.com/vesselregister/details/42806\" rel=\"nofollow\"><i>DNV Vessel Register.</i></a><span class=\"Abrufdatum\"> Abgerufen am 15. März 2023</span>.</span><span class=\"Z3988\" style=\"display: none;\" title=\"ctx_ver=Z39.88-2004&amp;rft_val_fmt=info%3Aofi%2Ffmt%3Akev%3Amtx%3Adc&amp;rfr_id=info%3Asid%2Fde.wikipedia.org%3AListe+der+gr%C3%B6%C3%9Ften+Schiffe+der+Welt&amp;rft.title=DNV+Vessel+Register&amp;rft.description=DNV+Vessel+Register&amp;rft.identifier=https%3A%2F%2Fvesselregister.dnv.com%2Fvesselregister%2Fdetails%2F42806\"> </span></span>\n",
       "</li>\n",
       "<li id=\"cite_note-4\"><span class=\"mw-cite-backlink\"><a href=\"#cite_ref-4\">↑</a></span> <span class=\"reference-text\"><span class=\"cite\"><a class=\"external text\" href=\"http://www.vesselfinder.com/news/1488-VIDEO-BIGGEST-SHIP-in-the-WORLD-but-not-MAERSK-MC-KINNEY-MOLLER\" rel=\"nofollow\"><i>VIDEO: Biggest ship in the world, but not Maersk Mc-Kinney Møller.</i></a><span class=\"Abrufdatum\"> Abgerufen am 9. März 2014</span>.</span><span class=\"Z3988\" style=\"display: none;\" title=\"ctx_ver=Z39.88-2004&amp;rft_val_fmt=info%3Aofi%2Ffmt%3Akev%3Amtx%3Adc&amp;rfr_id=info%3Asid%2Fde.wikipedia.org%3AListe+der+gr%C3%B6%C3%9Ften+Schiffe+der+Welt&amp;rft.title=VIDEO%3A+Biggest+ship+in+the+world%2C+but+not+Maersk+Mc-Kinney+M%C3%B8ller&amp;rft.description=VIDEO%3A+Biggest+ship+in+the+world%2C+but+not+Maersk+Mc-Kinney+M%C3%B8ller&amp;rft.identifier=http%3A%2F%2Fwww.vesselfinder.com%2Fnews%2F1488-VIDEO-BIGGEST-SHIP-in-the-WORLD-but-not-MAERSK-MC-KINNEY-MOLLER\"> </span></span>\n",
       "</li>\n",
       "</ol></div><!--esi <esi:include src=\"/esitest-fa8a495983347898/content\" /> --><noscript><img alt=\"\" height=\"1\" src=\"https://login.wikimedia.org/wiki/Special:CentralAutoLogin/start?type=1x1\" style=\"border: none; position: absolute;\" width=\"1\"/></noscript>\n",
       "<div class=\"printfooter\" data-nosnippet=\"\">Abgerufen von „<a dir=\"ltr\" href=\"https://de.wikipedia.org/w/index.php?title=Liste_der_größten_Schiffe_der_Welt&amp;oldid=241862931\">https://de.wikipedia.org/w/index.php?title=Liste_der_größten_Schiffe_der_Welt&amp;oldid=241862931</a>“</div></div>\n",
       "<div class=\"catlinks\" data-mw=\"interface\" id=\"catlinks\"><div class=\"mw-normal-catlinks\" id=\"mw-normal-catlinks\"><a href=\"/wiki/Wikipedia:Kategorien\" title=\"Wikipedia:Kategorien\">Kategorien</a>: <ul><li><a href=\"/wiki/Kategorie:Liste_(Schiffe)\" title=\"Kategorie:Liste (Schiffe)\">Liste (Schiffe)</a></li><li><a href=\"/wiki/Kategorie:Liste_(technische_Rekorde)\" title=\"Kategorie:Liste (technische Rekorde)\">Liste (technische Rekorde)</a></li></ul></div></div>\n",
       "</div>\n",
       "</div>\n",
       "<div id=\"mw-navigation\">\n",
       "<h2>Navigationsmenü</h2>\n",
       "<div id=\"mw-head\">\n",
       "<nav aria-labelledby=\"p-personal-label\" class=\"mw-portlet mw-portlet-personal vector-user-menu-legacy vector-menu\" id=\"p-personal\" role=\"navigation\">\n",
       "<h3 class=\"vector-menu-heading\" id=\"p-personal-label\">\n",
       "<span class=\"vector-menu-heading-label\">Meine Werkzeuge</span>\n",
       "</h3>\n",
       "<div class=\"vector-menu-content\">\n",
       "<ul class=\"vector-menu-content-list\">\n",
       "<li class=\"mw-list-item\" id=\"pt-anonuserpage\"><span title=\"Benutzerseite der IP-Adresse, von der aus du Änderungen durchführst\">Nicht angemeldet</span></li><li class=\"mw-list-item\" id=\"pt-anontalk\"><a accesskey=\"n\" href=\"/wiki/Spezial:Meine_Diskussionsseite\" title=\"Diskussion über Änderungen von dieser IP-Adresse [n]\"><span>Diskussionsseite</span></a></li><li class=\"mw-list-item\" id=\"pt-anoncontribs\"><a accesskey=\"y\" href=\"/wiki/Spezial:Meine_Beitr%C3%A4ge\" title=\"Eine Liste der Bearbeitungen, die von dieser IP-Adresse gemacht wurden [y]\"><span>Beiträge</span></a></li><li class=\"mw-list-item\" id=\"pt-createaccount\"><a href=\"/w/index.php?title=Spezial:Benutzerkonto_anlegen&amp;returnto=Liste+der+gr%C3%B6%C3%9Ften+Schiffe+der+Welt\" title=\"Wir ermutigen dich dazu, ein Benutzerkonto zu erstellen und dich anzumelden. Es ist jedoch nicht zwingend erforderlich.\"><span>Benutzerkonto erstellen</span></a></li><li class=\"mw-list-item\" id=\"pt-login\"><a accesskey=\"o\" href=\"/w/index.php?title=Spezial:Anmelden&amp;returnto=Liste+der+gr%C3%B6%C3%9Ften+Schiffe+der+Welt\" title=\"Anmelden ist zwar keine Pflicht, wird aber gerne gesehen. [o]\"><span>Anmelden</span></a></li>\n",
       "</ul>\n",
       "</div>\n",
       "</nav>\n",
       "<div id=\"left-navigation\">\n",
       "<nav aria-labelledby=\"p-namespaces-label\" class=\"mw-portlet mw-portlet-namespaces vector-menu-tabs vector-menu-tabs-legacy vector-menu\" id=\"p-namespaces\" role=\"navigation\">\n",
       "<h3 class=\"vector-menu-heading\" id=\"p-namespaces-label\">\n",
       "<span class=\"vector-menu-heading-label\">Namensräume</span>\n",
       "</h3>\n",
       "<div class=\"vector-menu-content\">\n",
       "<ul class=\"vector-menu-content-list\">\n",
       "<li class=\"selected mw-list-item\" id=\"ca-nstab-main\"><a accesskey=\"c\" href=\"/wiki/Liste_der_gr%C3%B6%C3%9Ften_Schiffe_der_Welt\" title=\"Seiteninhalt anzeigen [c]\"><span>Artikel</span></a></li><li class=\"mw-list-item\" id=\"ca-talk\"><a accesskey=\"t\" href=\"/wiki/Diskussion:Liste_der_gr%C3%B6%C3%9Ften_Schiffe_der_Welt\" rel=\"discussion\" title=\"Diskussion zum Seiteninhalt [t]\"><span>Diskussion</span></a></li>\n",
       "</ul>\n",
       "</div>\n",
       "</nav>\n",
       "<nav aria-labelledby=\"p-variants-label\" class=\"mw-portlet mw-portlet-variants emptyPortlet vector-menu-dropdown vector-menu\" id=\"p-variants\" role=\"navigation\">\n",
       "<input aria-haspopup=\"true\" aria-labelledby=\"p-variants-label\" class=\"vector-menu-checkbox\" data-event-name=\"ui.dropdown-p-variants\" id=\"p-variants-checkbox\" role=\"button\" type=\"checkbox\"/>\n",
       "<label class=\"vector-menu-heading\" id=\"p-variants-label\">\n",
       "<span class=\"vector-menu-heading-label\">Deutsch</span>\n",
       "</label>\n",
       "<div class=\"vector-menu-content\">\n",
       "<ul class=\"vector-menu-content-list\">\n",
       "</ul>\n",
       "</div>\n",
       "</nav>\n",
       "</div>\n",
       "<div id=\"right-navigation\">\n",
       "<nav aria-labelledby=\"p-views-label\" class=\"mw-portlet mw-portlet-views vector-menu-tabs vector-menu-tabs-legacy vector-menu\" id=\"p-views\" role=\"navigation\">\n",
       "<h3 class=\"vector-menu-heading\" id=\"p-views-label\">\n",
       "<span class=\"vector-menu-heading-label\">Ansichten</span>\n",
       "</h3>\n",
       "<div class=\"vector-menu-content\">\n",
       "<ul class=\"vector-menu-content-list\">\n",
       "<li class=\"selected mw-list-item\" id=\"ca-view\"><a href=\"/wiki/Liste_der_gr%C3%B6%C3%9Ften_Schiffe_der_Welt\"><span>Lesen</span></a></li><li class=\"mw-list-item\" id=\"ca-ve-edit\"><a accesskey=\"v\" href=\"/w/index.php?title=Liste_der_gr%C3%B6%C3%9Ften_Schiffe_der_Welt&amp;veaction=edit\" title=\"Diese Seite mit dem VisualEditor bearbeiten [v]\"><span>Bearbeiten</span></a></li><li class=\"collapsible mw-list-item\" id=\"ca-edit\"><a accesskey=\"e\" href=\"/w/index.php?title=Liste_der_gr%C3%B6%C3%9Ften_Schiffe_der_Welt&amp;action=edit\" title=\"Den Quelltext dieser Seite bearbeiten [e]\"><span>Quelltext bearbeiten</span></a></li><li class=\"mw-list-item\" id=\"ca-history\"><a accesskey=\"h\" href=\"/w/index.php?title=Liste_der_gr%C3%B6%C3%9Ften_Schiffe_der_Welt&amp;action=history\" title=\"Frühere Versionen dieser Seite [h]\"><span>Versionsgeschichte</span></a></li>\n",
       "</ul>\n",
       "</div>\n",
       "</nav>\n",
       "<nav aria-labelledby=\"p-cactions-label\" class=\"mw-portlet mw-portlet-cactions emptyPortlet vector-menu-dropdown vector-menu\" id=\"p-cactions\" role=\"navigation\" title=\"Weitere Optionen\">\n",
       "<input aria-haspopup=\"true\" aria-labelledby=\"p-cactions-label\" class=\"vector-menu-checkbox\" data-event-name=\"ui.dropdown-p-cactions\" id=\"p-cactions-checkbox\" role=\"button\" type=\"checkbox\"/>\n",
       "<label class=\"vector-menu-heading\" id=\"p-cactions-label\">\n",
       "<span class=\"vector-menu-heading-label\">Weitere</span>\n",
       "</label>\n",
       "<div class=\"vector-menu-content\">\n",
       "<ul class=\"vector-menu-content-list\">\n",
       "</ul>\n",
       "</div>\n",
       "</nav>\n",
       "<div class=\"vector-search-box-vue vector-search-box-show-thumbnail vector-search-box-auto-expand-width vector-search-box\" id=\"p-search\" role=\"search\">\n",
       "<h3>Suche</h3>\n",
       "<form action=\"/w/index.php\" class=\"vector-search-box-form\" id=\"searchform\">\n",
       "<div class=\"vector-search-box-inner\" data-search-loc=\"header-navigation\" id=\"simpleSearch\">\n",
       "<input accesskey=\"f\" aria-label=\"Wikipedia durchsuchen\" autocapitalize=\"sentences\" class=\"vector-search-box-input\" id=\"searchInput\" name=\"search\" placeholder=\"Wikipedia durchsuchen\" title=\"Durchsuche die Wikipedia [f]\" type=\"search\"/>\n",
       "<input name=\"title\" type=\"hidden\" value=\"Spezial:Suche\"/>\n",
       "<input class=\"searchButton mw-fallbackSearchButton\" id=\"mw-searchButton\" name=\"fulltext\" title=\"Suche nach Seiten, die diesen Text enthalten\" type=\"submit\" value=\"Suchen\"/>\n",
       "<input class=\"searchButton\" id=\"searchButton\" name=\"go\" title=\"Gehe direkt zu der Seite mit genau diesem Namen, falls sie vorhanden ist.\" type=\"submit\" value=\"Artikel\"/>\n",
       "</div>\n",
       "</form>\n",
       "</div>\n",
       "</div>\n",
       "</div>\n",
       "<div class=\"vector-legacy-sidebar\" id=\"mw-panel\">\n",
       "<div id=\"p-logo\" role=\"banner\">\n",
       "<a class=\"mw-wiki-logo\" href=\"/wiki/Wikipedia:Hauptseite\" title=\"Hauptseite\"></a>\n",
       "</div>\n",
       "<nav aria-labelledby=\"p-navigation-label\" class=\"mw-portlet mw-portlet-navigation vector-menu-portal portal vector-menu\" id=\"p-navigation\" role=\"navigation\">\n",
       "<h3 class=\"vector-menu-heading\" id=\"p-navigation-label\">\n",
       "<span class=\"vector-menu-heading-label\">Navigation</span>\n",
       "</h3>\n",
       "<div class=\"vector-menu-content\">\n",
       "<ul class=\"vector-menu-content-list\">\n",
       "<li class=\"mw-list-item\" id=\"n-mainpage-description\"><a accesskey=\"z\" href=\"/wiki/Wikipedia:Hauptseite\" title=\"Hauptseite besuchen [z]\"><span>Hauptseite</span></a></li><li class=\"mw-list-item\" id=\"n-topics\"><a href=\"/wiki/Portal:Wikipedia_nach_Themen\"><span>Themenportale</span></a></li><li class=\"mw-list-item\" id=\"n-randompage\"><a accesskey=\"x\" href=\"/wiki/Spezial:Zuf%C3%A4llige_Seite\" title=\"Zufällige Seite aufrufen [x]\"><span>Zufälliger Artikel</span></a></li>\n",
       "</ul>\n",
       "</div>\n",
       "</nav>\n",
       "<nav aria-labelledby=\"p-Mitmachen-label\" class=\"mw-portlet mw-portlet-Mitmachen vector-menu-portal portal vector-menu\" id=\"p-Mitmachen\" role=\"navigation\">\n",
       "<h3 class=\"vector-menu-heading\" id=\"p-Mitmachen-label\">\n",
       "<span class=\"vector-menu-heading-label\">Mitmachen</span>\n",
       "</h3>\n",
       "<div class=\"vector-menu-content\">\n",
       "<ul class=\"vector-menu-content-list\">\n",
       "<li class=\"mw-list-item\" id=\"n-Artikel-verbessern\"><a href=\"/wiki/Wikipedia:Beteiligen\"><span>Artikel verbessern</span></a></li><li class=\"mw-list-item\" id=\"n-Neuerartikel\"><a href=\"/wiki/Hilfe:Neuen_Artikel_anlegen\"><span>Neuen Artikel anlegen</span></a></li><li class=\"mw-list-item\" id=\"n-portal\"><a href=\"/wiki/Wikipedia:Autorenportal\" title=\"Info-Zentrum über Beteiligungsmöglichkeiten\"><span>Autorenportal</span></a></li><li class=\"mw-list-item\" id=\"n-help\"><a href=\"/wiki/Hilfe:%C3%9Cbersicht\" title=\"Übersicht über Hilfeseiten\"><span>Hilfe</span></a></li><li class=\"mw-list-item\" id=\"n-recentchanges\"><a accesskey=\"r\" href=\"/wiki/Spezial:Letzte_%C3%84nderungen\" title=\"Liste der letzten Änderungen in Wikipedia [r]\"><span>Letzte Änderungen</span></a></li><li class=\"mw-list-item\" id=\"n-contact\"><a href=\"/wiki/Wikipedia:Kontakt\" title=\"Kontaktmöglichkeiten\"><span>Kontakt</span></a></li><li class=\"mw-list-item\" id=\"n-sitesupport\"><a href=\"//donate.wikimedia.org/wiki/Special:FundraiserRedirector?utm_source=donate&amp;utm_medium=sidebar&amp;utm_campaign=C13_de.wikipedia.org&amp;uselang=de\" title=\"Unterstütze uns\"><span>Spenden</span></a></li>\n",
       "</ul>\n",
       "</div>\n",
       "</nav>\n",
       "<nav aria-labelledby=\"p-tb-label\" class=\"mw-portlet mw-portlet-tb vector-menu-portal portal vector-menu\" id=\"p-tb\" role=\"navigation\">\n",
       "<h3 class=\"vector-menu-heading\" id=\"p-tb-label\">\n",
       "<span class=\"vector-menu-heading-label\">Werkzeuge</span>\n",
       "</h3>\n",
       "<div class=\"vector-menu-content\">\n",
       "<ul class=\"vector-menu-content-list\">\n",
       "<li class=\"mw-list-item\" id=\"t-whatlinkshere\"><a accesskey=\"j\" href=\"/wiki/Spezial:Linkliste/Liste_der_gr%C3%B6%C3%9Ften_Schiffe_der_Welt\" title=\"Liste aller Seiten, die hierher verlinken [j]\"><span>Links auf diese Seite</span></a></li><li class=\"mw-list-item\" id=\"t-recentchangeslinked\"><a accesskey=\"k\" href=\"/wiki/Spezial:%C3%84nderungen_an_verlinkten_Seiten/Liste_der_gr%C3%B6%C3%9Ften_Schiffe_der_Welt\" rel=\"nofollow\" title=\"Letzte Änderungen an Seiten, die von hier verlinkt sind [k]\"><span>Änderungen an verlinkten Seiten</span></a></li><li class=\"mw-list-item\" id=\"t-specialpages\"><a accesskey=\"q\" href=\"/wiki/Spezial:Spezialseiten\" title=\"Liste aller Spezialseiten [q]\"><span>Spezialseiten</span></a></li><li class=\"mw-list-item\" id=\"t-permalink\"><a href=\"/w/index.php?title=Liste_der_gr%C3%B6%C3%9Ften_Schiffe_der_Welt&amp;oldid=241862931\" title=\"Dauerhafter Link zu dieser Seitenversion\"><span>Permanenter Link</span></a></li><li class=\"mw-list-item\" id=\"t-info\"><a href=\"/w/index.php?title=Liste_der_gr%C3%B6%C3%9Ften_Schiffe_der_Welt&amp;action=info\" title=\"Weitere Informationen über diese Seite\"><span>Seiten­­informationen</span></a></li><li class=\"mw-list-item\" id=\"t-cite\"><a href=\"/w/index.php?title=Spezial:Zitierhilfe&amp;page=Liste_der_gr%C3%B6%C3%9Ften_Schiffe_der_Welt&amp;id=241862931&amp;wpFormIdentifier=titleform\" title=\"Hinweise, wie diese Seite zitiert werden kann\"><span>Artikel zitieren</span></a></li><li class=\"mw-list-item\" id=\"t-urlshortener\"><a href=\"/w/index.php?title=Spezial:URL-K%C3%BCrzung&amp;url=https%3A%2F%2Fde.wikipedia.org%2Fwiki%2FListe_der_gr%25C3%25B6%25C3%259Ften_Schiffe_der_Welt\"><span>Kurzlink</span></a></li><li class=\"mw-list-item\" id=\"t-urlshortener-qrcode\"><a href=\"/w/index.php?title=Spezial:QrCode&amp;url=https%3A%2F%2Fde.wikipedia.org%2Fwiki%2FListe_der_gr%25C3%25B6%25C3%259Ften_Schiffe_der_Welt\"><span>QR-Code herunterladen</span></a></li><li class=\"mw-list-item\" id=\"t-wikibase\"><a accesskey=\"g\" href=\"https://www.wikidata.org/wiki/Special:EntityPage/Q1778295\" title=\"Link zum verbundenen Objekt im Datenrepositorium [g]\"><span>Wikidata-Datenobjekt</span></a></li>\n",
       "</ul>\n",
       "</div>\n",
       "</nav>\n",
       "<nav aria-labelledby=\"p-coll-print_export-label\" class=\"mw-portlet mw-portlet-coll-print_export vector-menu-portal portal vector-menu\" id=\"p-coll-print_export\" role=\"navigation\">\n",
       "<h3 class=\"vector-menu-heading\" id=\"p-coll-print_export-label\">\n",
       "<span class=\"vector-menu-heading-label\">Drucken/​exportieren</span>\n",
       "</h3>\n",
       "<div class=\"vector-menu-content\">\n",
       "<ul class=\"vector-menu-content-list\">\n",
       "<li class=\"mw-list-item\" id=\"coll-create_a_book\"><a href=\"/w/index.php?title=Spezial:Buch&amp;bookcmd=book_creator&amp;referer=Liste+der+gr%C3%B6%C3%9Ften+Schiffe+der+Welt\"><span>Buch erstellen</span></a></li><li class=\"mw-list-item\" id=\"coll-download-as-rl\"><a href=\"/w/index.php?title=Spezial:DownloadAsPdf&amp;page=Liste_der_gr%C3%B6%C3%9Ften_Schiffe_der_Welt&amp;action=show-download-screen\"><span>Als PDF herunterladen</span></a></li><li class=\"mw-list-item\" id=\"t-print\"><a accesskey=\"p\" href=\"/w/index.php?title=Liste_der_gr%C3%B6%C3%9Ften_Schiffe_der_Welt&amp;printable=yes\" title=\"Druckansicht dieser Seite [p]\"><span>Druckversion</span></a></li>\n",
       "</ul>\n",
       "</div>\n",
       "</nav>\n",
       "<nav aria-labelledby=\"p-lang-label\" class=\"mw-portlet mw-portlet-lang vector-menu-portal portal vector-menu\" id=\"p-lang\" role=\"navigation\">\n",
       "<h3 class=\"vector-menu-heading\" id=\"p-lang-label\">\n",
       "<span class=\"vector-menu-heading-label\">In anderen Sprachen</span>\n",
       "</h3>\n",
       "<div class=\"vector-menu-content\">\n",
       "<ul class=\"vector-menu-content-list\">\n",
       "<li class=\"interlanguage-link interwiki-be mw-list-item\"><a class=\"interlanguage-link-target\" href=\"https://be.wikipedia.org/wiki/%D0%A1%D0%BF%D1%96%D1%81_%D1%81%D0%B0%D0%BC%D1%8B%D1%85_%D0%B4%D0%BE%D1%9E%D0%B3%D1%96%D1%85_%D1%81%D1%83%D0%B4%D0%BD%D0%B0%D1%9E_%D0%BF%D0%B0_%D1%82%D1%8B%D0%BF%D0%B5\" hreflang=\"be\" lang=\"be\" title=\"Спіс самых доўгіх суднаў па тыпе – Belarussisch\"><span>Беларуская</span></a></li><li class=\"interlanguage-link interwiki-en mw-list-item\"><a class=\"interlanguage-link-target\" href=\"https://en.wikipedia.org/wiki/List_of_longest_ships\" hreflang=\"en\" lang=\"en\" title=\"List of longest ships – Englisch\"><span>English</span></a></li><li class=\"interlanguage-link interwiki-es mw-list-item\"><a class=\"interlanguage-link-target\" href=\"https://es.wikipedia.org/wiki/Anexo:Barcos_m%C3%A1s_largos\" hreflang=\"es\" lang=\"es\" title=\"Anexo:Barcos más largos – Spanisch\"><span>Español</span></a></li><li class=\"interlanguage-link interwiki-fr mw-list-item\"><a class=\"interlanguage-link-target\" href=\"https://fr.wikipedia.org/wiki/Liste_des_plus_grands_navires\" hreflang=\"fr\" lang=\"fr\" title=\"Liste des plus grands navires – Französisch\"><span>Français</span></a></li><li class=\"interlanguage-link interwiki-ro mw-list-item\"><a class=\"interlanguage-link-target\" href=\"https://ro.wikipedia.org/wiki/List%C4%83_cu_nave_maritime_importante\" hreflang=\"ro\" lang=\"ro\" title=\"Listă cu nave maritime importante – Rumänisch\"><span>Română</span></a></li><li class=\"interlanguage-link interwiki-ru mw-list-item\"><a class=\"interlanguage-link-target\" href=\"https://ru.wikipedia.org/wiki/%D0%A1%D0%BF%D0%B8%D1%81%D0%BE%D0%BA_%D1%81%D0%B0%D0%BC%D1%8B%D1%85_%D0%B4%D0%BB%D0%B8%D0%BD%D0%BD%D1%8B%D1%85_%D1%81%D1%83%D0%B4%D0%BE%D0%B2_%D0%BF%D0%BE_%D1%82%D0%B8%D0%BF%D1%83\" hreflang=\"ru\" lang=\"ru\" title=\"Список самых длинных судов по типу – Russisch\"><span>Русский</span></a></li><li class=\"interlanguage-link interwiki-tr mw-list-item\"><a class=\"interlanguage-link-target\" href=\"https://tr.wikipedia.org/wiki/D%C3%BCnyan%C4%B1n_en_uzun_gemileri_listesi\" hreflang=\"tr\" lang=\"tr\" title=\"Dünyanın en uzun gemileri listesi – Türkisch\"><span>Türkçe</span></a></li>\n",
       "</ul>\n",
       "<div class=\"after-portlet after-portlet-lang\"><span class=\"wb-langlinks-edit wb-langlinks-link\"><a class=\"wbc-editpage\" href=\"https://www.wikidata.org/wiki/Special:EntityPage/Q1778295#sitelinks-wikipedia\" title=\"Links auf Artikel in anderen Sprachen bearbeiten\">Links bearbeiten</a></span></div>\n",
       "</div>\n",
       "</nav>\n",
       "</div>\n",
       "</div>\n",
       "<footer class=\"mw-footer\" id=\"footer\" role=\"contentinfo\">\n",
       "<ul id=\"footer-info\">\n",
       "<li id=\"footer-info-lastmod\"> Diese Seite wurde zuletzt am 4. Februar 2024 um 17:00 Uhr bearbeitet.</li>\n",
       "<li id=\"footer-info-copyright\"><div class=\"noprint\" id=\"footer-info-copyright-stats\"><a class=\"external\" href=\"https://pageviews.wmcloud.org/?pages=Liste_der_gr%C3%B6%C3%9Ften_Schiffe_der_Welt&amp;project=de.wikipedia.org\" rel=\"nofollow\">Abrufstatistik</a> · <a class=\"external\" href=\" https://xtools.wmcloud.org/articleinfo-authorship/de.wikipedia.org/Liste_der_gr%C3%B6%C3%9Ften_Schiffe_der_Welt?uselang=de\" rel=\"nofollow\">Autoren</a> </div><div id=\"footer-info-copyright-separator\"><br/></div><div id=\"footer-info-copyright-info\">\n",
       "Der Text ist unter der Lizenz <a class=\"internal\" href=\"https://creativecommons.org/licenses/by-sa/4.0/deed.de\">„Creative-Commons Namensnennung – Weitergabe unter gleichen Bedingungen“</a> verfügbar; Informationen zu den Urhebern und zum Lizenzstatus eingebundener Mediendateien (etwa Bilder oder Videos) können im Regelfall durch Anklicken dieser abgerufen werden. Möglicherweise unterliegen die Inhalte jeweils zusätzlichen Bedingungen. Durch die Nutzung dieser Website erklären Sie sich mit den <a class=\"internal\" href=\"https://foundation.wikimedia.org/wiki/Policy:Terms_of_Use/de\">Nutzungsbedingungen</a> und der <a class=\"internal\" href=\"https://foundation.wikimedia.org/wiki/Policy:Privacy_policy/de\">Datenschutzrichtlinie</a> einverstanden.<br/>\n",
       "Wikipedia® ist eine eingetragene Marke der Wikimedia Foundation Inc.</div></li>\n",
       "</ul>\n",
       "<ul id=\"footer-places\">\n",
       "<li id=\"footer-places-privacy\"><a href=\"https://foundation.wikimedia.org/wiki/Special:MyLanguage/Policy:Privacy_policy/de\">Datenschutz</a></li>\n",
       "<li id=\"footer-places-about\"><a href=\"/wiki/Wikipedia:%C3%9Cber_Wikipedia\">Über Wikipedia</a></li>\n",
       "<li id=\"footer-places-disclaimers\"><a href=\"/wiki/Wikipedia:Impressum\">Impressum</a></li>\n",
       "<li id=\"footer-places-wm-codeofconduct\"><a href=\"https://foundation.wikimedia.org/wiki/Special:MyLanguage/Policy:Universal_Code_of_Conduct\">Verhaltenskodex</a></li>\n",
       "<li id=\"footer-places-developers\"><a href=\"https://developer.wikimedia.org\">Entwickler</a></li>\n",
       "<li id=\"footer-places-statslink\"><a href=\"https://stats.wikimedia.org/#/de.wikipedia.org\">Statistiken</a></li>\n",
       "<li id=\"footer-places-cookiestatement\"><a href=\"https://foundation.wikimedia.org/wiki/Special:MyLanguage/Policy:Cookie_statement\">Stellungnahme zu Cookies</a></li>\n",
       "<li id=\"footer-places-mobileview\"><a class=\"noprint stopMobileRedirectToggle\" href=\"//de.m.wikipedia.org/w/index.php?title=Liste_der_gr%C3%B6%C3%9Ften_Schiffe_der_Welt&amp;mobileaction=toggle_view_mobile\">Mobile Ansicht</a></li>\n",
       "</ul>\n",
       "<ul class=\"noprint\" id=\"footer-icons\">\n",
       "<li id=\"footer-copyrightico\"><a href=\"https://wikimediafoundation.org/\"><img alt=\"Wikimedia Foundation\" height=\"31\" loading=\"lazy\" src=\"/static/images/footer/wikimedia-button.png\" srcset=\"/static/images/footer/wikimedia-button-1.5x.png 1.5x, /static/images/footer/wikimedia-button-2x.png 2x\" width=\"88\"/></a></li>\n",
       "<li id=\"footer-poweredbyico\"><a href=\"https://www.mediawiki.org/\"><img alt=\"Powered by MediaWiki\" height=\"31\" loading=\"lazy\" src=\"/static/images/footer/poweredby_mediawiki_88x31.png\" srcset=\"/static/images/footer/poweredby_mediawiki_132x47.png 1.5x, /static/images/footer/poweredby_mediawiki_176x62.png 2x\" width=\"88\"/></a></li>\n",
       "</ul>\n",
       "</footer>\n",
       "<script>(RLQ=window.RLQ||[]).push(function(){mw.config.set({\"wgHostname\":\"mw1399\",\"wgBackendResponseTime\":127,\"wgPageParseReport\":{\"limitreport\":{\"cputime\":\"0.188\",\"walltime\":\"0.466\",\"ppvisitednodes\":{\"value\":1679,\"limit\":1000000},\"postexpandincludesize\":{\"value\":11815,\"limit\":2097152},\"templateargumentsize\":{\"value\":6769,\"limit\":2097152},\"expansiondepth\":{\"value\":14,\"limit\":100},\"expensivefunctioncount\":{\"value\":1,\"limit\":500},\"unstrip-depth\":{\"value\":0,\"limit\":20},\"unstrip-size\":{\"value\":18137,\"limit\":5000000},\"entityaccesscount\":{\"value\":0,\"limit\":400},\"timingprofile\":[\"100.00%  169.429      1 -total\",\" 48.74%   82.573      4 Vorlage:Internetquelle\",\" 31.20%   52.861      2 Vorlage:FN\",\" 10.69%   18.106      1 Vorlage:FNBox\",\"  9.68%   16.393      4 Vorlage:Str_len\",\"  9.26%   15.681      2 Vorlage:FNZ\",\"  8.65%   14.650     16 Vorlage:Str_match\"]},\"scribunto\":{\"limitreport-timeusage\":{\"value\":\"0.055\",\"limit\":\"10.000\"},\"limitreport-memusage\":{\"value\":2562139,\"limit\":52428800}},\"cachereport\":{\"origin\":\"mw2365\",\"timestamp\":\"20240331082235\",\"ttl\":2592000,\"transientcontent\":false}}});});</script>\n",
       "<script type=\"application/ld+json\">{\"@context\":\"https:\\/\\/schema.org\",\"@type\":\"Article\",\"name\":\"Liste der gr\\u00f6\\u00dften Schiffe der Welt\",\"url\":\"https:\\/\\/de.wikipedia.org\\/wiki\\/Liste_der_gr%C3%B6%C3%9Ften_Schiffe_der_Welt\",\"sameAs\":\"http:\\/\\/www.wikidata.org\\/entity\\/Q1778295\",\"mainEntity\":\"http:\\/\\/www.wikidata.org\\/entity\\/Q1778295\",\"author\":{\"@type\":\"Organization\",\"name\":\"Autoren der Wikimedia-Projekte\"},\"publisher\":{\"@type\":\"Organization\",\"name\":\"Wikimedia Foundation, Inc.\",\"logo\":{\"@type\":\"ImageObject\",\"url\":\"https:\\/\\/www.wikimedia.org\\/static\\/images\\/wmf-hor-googpub.png\"}},\"datePublished\":\"2006-06-15T00:16:00Z\",\"image\":\"https:\\/\\/upload.wikimedia.org\\/wikipedia\\/commons\\/5\\/5b\\/Bateaux_comparaison2_with_Allure.svg\",\"headline\":\"Wikimedia-Liste\"}</script>\n",
       "</body>\n",
       "</html>"
      ]
     },
     "execution_count": 29,
     "metadata": {},
     "output_type": "execute_result"
    }
   ],
   "execution_count": 29
  },
  {
   "cell_type": "code",
   "source": [
    "# Die erste Tabelle heraussondern:\n",
    "soup.find('table')"
   ],
   "metadata": {
    "collapsed": false,
    "ExecuteTime": {
     "end_time": "2025-01-24T08:49:06.152205Z",
     "start_time": "2025-01-24T08:49:06.111305Z"
    }
   },
   "outputs": [
    {
     "data": {
      "text/plain": [
       "<table class=\"wikitable sortable zebra\">\n",
       "<caption>Größte und längste Schiffe ihrer Art\n",
       "</caption>\n",
       "<tbody><tr>\n",
       "<th>Kategorie</th>\n",
       "<th>Schiffsname\n",
       "</th></tr>\n",
       "<tr>\n",
       "<td><a href=\"/wiki/Kreuzfahrtschiff\" title=\"Kreuzfahrtschiff\">Kreuzfahrtschiff</a></td>\n",
       "<td><i><a href=\"/wiki/Icon_of_the_Seas\" title=\"Icon of the Seas\">Icon of the Seas</a><sup class=\"reference\" id=\"cite_ref-1\"><a href=\"#cite_note-1\">[1]</a></sup></i>\n",
       "</td></tr>\n",
       "<tr>\n",
       "<td><a href=\"/wiki/Segelschiff\" title=\"Segelschiff\">Segelschiff</a></td>\n",
       "<td><i><a href=\"/wiki/SY_A\" title=\"SY A\">SY A</a></i>\n",
       "</td></tr>\n",
       "<tr>\n",
       "<td><a href=\"/wiki/Frachtsegler\" title=\"Frachtsegler\">Frachtsegler</a></td>\n",
       "<td><i><a href=\"/wiki/France_(Schiff,_1912%E2%80%931922)\" title=\"France (Schiff, 1912–1922)\">France</a></i>\n",
       "</td></tr>\n",
       "<tr>\n",
       "<td><a href=\"/wiki/Eisbrecher\" title=\"Eisbrecher\">Eisbrecher</a></td>\n",
       "<td><a class=\"mw-redirect\" href=\"/wiki/Arktika_(Schiff,_2020)\" title=\"Arktika (Schiff, 2020)\"><i>Arktika</i></a>\n",
       "</td></tr>\n",
       "<tr>\n",
       "<td><a href=\"/wiki/Autof%C3%A4hre\" title=\"Autofähre\">Autofähre</a></td>\n",
       "<td><i><a href=\"/wiki/Color_Magic\" title=\"Color Magic\">Color Magic</a></i> (nach Größe (BRZ)); <i><a href=\"/wiki/Cruise_Barcelona\" title=\"Cruise Barcelona\">Cruise Barcelona</a></i> und <i><a href=\"/wiki/Cruise_Roma\" title=\"Cruise Roma\">Cruise Roma</a></i> (nach Länge)\n",
       "</td></tr>\n",
       "<tr>\n",
       "<td><a class=\"new\" href=\"/w/index.php?title=LNG-F%C3%A4hre&amp;action=edit&amp;redlink=1\" title=\"LNG-Fähre (Seite nicht vorhanden)\">LNG-Fähre</a></td>\n",
       "<td><i><a href=\"/wiki/Nils_Holgersson_(Schiff,_2022)\" title=\"Nils Holgersson (Schiff, 2022)\">Nils Holgerson</a>, <a href=\"/wiki/Peter_Pan_(Schiff,_2022)\" title=\"Peter Pan (Schiff, 2022)\">Peter Pan</a></i>\n",
       "</td></tr>\n",
       "<tr>\n",
       "<td>Kombifähre (Eisenbahn/RoRo)</td>\n",
       "<td><i><a href=\"/wiki/Sk%C3%A5ne_(Schiff,_1998)\" title=\"Skåne (Schiff, 1998)\">Skåne</a></i>\n",
       "</td></tr>\n",
       "<tr>\n",
       "<td>Autotransporter</td>\n",
       "<td><a href=\"/wiki/Mark-V-Klasse\" title=\"Mark-V-Klasse\">Tysla, Salome</a> (nach Länge und Tragfähigkeit); <a href=\"/wiki/New-Horizon-Klasse\" title=\"New-Horizon-Klasse\"><i>Höegh Target</i></a> (nach Tonnage und Fahrzeugkapazität)\n",
       "</td></tr>\n",
       "<tr>\n",
       "<td><a href=\"/wiki/Flugzeugtr%C3%A4ger\" title=\"Flugzeugträger\">Flugzeugträger</a></td>\n",
       "<td><a href=\"/wiki/USS_Gerald_R._Ford_(CVN-78)\" title=\"USS Gerald R. Ford (CVN-78)\">USS <i>Gerald R. Ford</i> (CVN-78)</a> (nach Tonnage); <a href=\"/wiki/USS_Enterprise_(CVN-65)\" title=\"USS Enterprise (CVN-65)\">USS <i>Enterprise</i> (CVN 65)</a> (nach Länge)\n",
       "</td></tr>\n",
       "<tr>\n",
       "<td><a href=\"/wiki/Schlachtschiff\" title=\"Schlachtschiff\">Schlachtschiff</a></td>\n",
       "<td><a href=\"/wiki/Yamato_(Schiff,_1941)\" title=\"Yamato (Schiff, 1941)\"><i>Yamato</i></a> und <a href=\"/wiki/Musashi_(Schiff,_1942)\" title=\"Musashi (Schiff, 1942)\"><i>Musashi</i></a>\n",
       "</td></tr>\n",
       "<tr>\n",
       "<td><a class=\"mw-redirect\" href=\"/wiki/Unterseeboot\" title=\"Unterseeboot\">Unterseeboot</a></td>\n",
       "<td><a href=\"/wiki/TK-208_Dmitri_Donskoj\" title=\"TK-208 Dmitri Donskoj\"><i>Dmitri Donskoi</i> (TK-208)</a>\n",
       "</td></tr>\n",
       "<tr>\n",
       "<td><a href=\"/wiki/Containerschiff\" title=\"Containerschiff\">Containerschiff</a></td>\n",
       "<td><a href=\"/wiki/MSC-Irina-Typ\" title=\"MSC-Irina-Typ\"><i>MSC Irina</i></a><sup class=\"reference\" id=\"cite_ref-2\"><a href=\"#cite_note-2\">[2]</a></sup><sup class=\"reference\" id=\"cite_ref-3\"><a href=\"#cite_note-3\">[3]</a></sup>\n",
       "</td></tr>\n",
       "<tr>\n",
       "<td><a class=\"mw-redirect\" href=\"/wiki/Sch%C3%BCttgutschiff\" title=\"Schüttgutschiff\">Schüttgutschiff</a></td>\n",
       "<td><i><a href=\"/wiki/Valemax-Klasse\" title=\"Valemax-Klasse\">Yuan He Hai</a></i> (Valemax-Klasse)\n",
       "</td></tr>\n",
       "<tr>\n",
       "<td><a class=\"mw-redirect\" href=\"/wiki/%C3%96ltanker\" title=\"Öltanker\">Öltanker</a> (doppelwandig)</td>\n",
       "<td><i><a href=\"/wiki/Hellespont-Alhambra-Klasse\" title=\"Hellespont-Alhambra-Klasse\">TI Europe</a></i>, <i><a href=\"/wiki/Hellespont-Alhambra-Klasse\" title=\"Hellespont-Alhambra-Klasse\">TI Oceania</a></i> <style data-mw-deduplicate=\"TemplateStyles:r236689292\">.mw-parser-output .fussnoten-marke{font-size:0.75rem;font-style:normal;font-variant:normal;font-weight:normal;unicode-bidi:isolate;white-space:nowrap}.mw-parser-output .fussnoten-marke.reference,.mw-parser-output span.fussnoten-inhalt{padding-left:0.1rem}.mw-parser-output .fussnoten-marke.reference~.fussnoten-marke.reference,.mw-parser-output span.fussnoten-inhalt~span.fussnoten-inhalt{padding-left:0.15rem}.mw-parser-output .fussnoten-block{margin-bottom:0.1rem}.mw-parser-output div.fussnoten-inhalt{display:inline-block;padding-left:0.8rem;text-indent:-0.8rem}.mw-parser-output div.fussnoten-inhalt p,.mw-parser-output div.fussnoten-inhalt dl,.mw-parser-output div.fussnoten-inhalt ol,.mw-parser-output div.fussnoten-inhalt ul{text-indent:0}.mw-parser-output div.fussnoten-inhalt.fussnoten-floatfix{display:block}.mw-parser-output .fussnoten-box{margin-top:0.5rem;padding-left:0.8rem}.mw-parser-output .fussnoten-box,.mw-parser-output div.fussnoten-inhalt{font-size:94%}.mw-parser-output .fussnoten-box div.fussnoten-inhalt,.mw-parser-output span.fussnoten-inhalt,.mw-parser-output .fussnoten-inhalt .mw-reference-text{font-size:inherit}.mw-parser-output .fussnoten-inhalt .mw-reference-text{display:inline}.mw-parser-output .fussnoten-linie{display:inline-block;position:relative;top:-1em;border-top:solid 1px #808080;width:8rem}.mw-parser-output .fussnoten-linie+p,.mw-parser-output .fussnoten-linie+dl,.mw-parser-output .fussnoten-linie+ol,.mw-parser-output .fussnoten-linie+ul,.mw-parser-output .fussnoten-linie+link+div{margin-top:-1em}.mw-parser-output .fussnoten-marke.reference:target,.mw-parser-output .fussnoten-inhalt:target{background-color:#eaf3ff;box-shadow:0 0 0 0.25em #eaf3ff}.mw-parser-output .fussnoten-marke.reference:target,.mw-parser-output .fussnoten-inhalt:target .fussnoten-marke{font-weight:bold}</style>⁠<sup class=\"fussnoten-marke reference\" id=\"FN_Anm._1_back\"><a href=\"#FNZ_Anm._1\">Anm. 1</a></sup>\n",
       "</td></tr>\n",
       "<tr>\n",
       "<td>Öltanker (einwandig)</td>\n",
       "<td><i><a href=\"/wiki/Jahre_Viking\" title=\"Jahre Viking\">Jahre Viking</a></i> <link href=\"mw-data:TemplateStyles:r236689292\" rel=\"mw-deduplicated-inline-style\"/>⁠<sup class=\"fussnoten-marke reference\" id=\"FN_Anm._2_back\"><a href=\"#FNZ_Anm._2\">Anm. 2</a></sup>; <i><a href=\"/wiki/Pierre_Guillaumat_(Schiff)\" title=\"Pierre Guillaumat (Schiff)\">Pierre Guillaumat</a></i>\n",
       "</td></tr>\n",
       "<tr>\n",
       "<td><a class=\"mw-redirect\" href=\"/wiki/Fl%C3%BCssiggastanker\" title=\"Flüssiggastanker\">Flüssiggastanker</a></td>\n",
       "<td><i><a href=\"/wiki/Nakilat_Q-Max-Klasse\" title=\"Nakilat Q-Max-Klasse\">Mozah</a></i>\n",
       "</td></tr>\n",
       "<tr>\n",
       "<td><a href=\"/wiki/Dockschiff\" title=\"Dockschiff\">Dockschiff</a></td>\n",
       "<td><i><a href=\"/wiki/Boka_Vanguard\" title=\"Boka Vanguard\">Boka Vanguard</a></i>\n",
       "</td></tr>\n",
       "<tr>\n",
       "<td><a href=\"/wiki/Schwimmkran\" title=\"Schwimmkran\">Schwimmkran</a></td>\n",
       "<td><a href=\"/wiki/Sleipnir_(Schiff)\" title=\"Sleipnir (Schiff)\"><i>Sleipnir</i></a>\n",
       "</td></tr>\n",
       "<tr>\n",
       "<td><a class=\"mw-redirect\" href=\"/wiki/Motoryacht\" title=\"Motoryacht\">Motoryacht</a></td>\n",
       "<td><i><a href=\"/wiki/REV_Ocean\" title=\"REV Ocean\">REV Ocean</a></i> (nach Länge); <i><a href=\"/wiki/Dilbar_(Schiff)\" title=\"Dilbar (Schiff)\">Dilbar</a></i> (nach Größe (BRZ))\n",
       "</td></tr>\n",
       "<tr>\n",
       "<td><a href=\"/wiki/Schlepper_(Schiffstyp)\" title=\"Schlepper (Schiffstyp)\">Schlepper</a></td>\n",
       "<td><i><a class=\"new\" href=\"/w/index.php?title=Island_Victory&amp;action=edit&amp;redlink=1\" title=\"Island Victory (Seite nicht vorhanden)\">Island Victory</a></i>\n",
       "</td></tr>\n",
       "<tr>\n",
       "<td><a href=\"/wiki/Schubboot\" title=\"Schubboot\">Schubboot</a></td>\n",
       "<td><i><a class=\"new\" href=\"/w/index.php?title=E._Bronson_Ingram&amp;action=edit&amp;redlink=1\" title=\"E. Bronson Ingram (Seite nicht vorhanden)\">E. Bronson Ingram</a></i>\n",
       "</td></tr>\n",
       "<tr>\n",
       "<td><a href=\"/wiki/Katamaran\" title=\"Katamaran\">Katamaran</a></td>\n",
       "<td><a class=\"mw-redirect\" href=\"/wiki/HSS_1500\" title=\"HSS 1500\"><i>Stena Explorer</i></a>\n",
       "</td></tr>\n",
       "<tr>\n",
       "<td><a href=\"/wiki/Seenotrettungskreuzer\" title=\"Seenotrettungskreuzer\">Seenotrettungskreuzer</a></td>\n",
       "<td><a href=\"/wiki/Hermann_Marwede_(Schiff)\" title=\"Hermann Marwede (Schiff)\"><i>Hermann Marwede</i></a>\n",
       "</td></tr>\n",
       "<tr>\n",
       "<td><a href=\"/wiki/Trimaran\" title=\"Trimaran\">Trimaran</a></td>\n",
       "<td><a href=\"/wiki/Independence_(Schiff,_2010)\" title=\"Independence (Schiff, 2010)\">USS <i>Independence</i> (LCS-2)</a>\n",
       "</td></tr>\n",
       "<tr>\n",
       "<td><a class=\"mw-redirect\" href=\"/wiki/Motorsegelschiff\" title=\"Motorsegelschiff\">Motorsegelschiff</a></td>\n",
       "<td><i><a href=\"/wiki/Club_Med_2\" title=\"Club Med 2\">Club Med 2</a></i>\n",
       "</td></tr>\n",
       "<tr>\n",
       "<td><a href=\"/wiki/Hopperbagger\" title=\"Hopperbagger\">Hopperbagger</a></td>\n",
       "<td><a href=\"/wiki/Crist%C3%B3bal-Col%C3%B3n-Klasse\" title=\"Cristóbal-Colón-Klasse\"><i>Cristóbal-Colón</i>-Klasse</a>\n",
       "</td></tr>\n",
       "<tr>\n",
       "<td><a class=\"mw-redirect\" href=\"/wiki/Segelyacht\" title=\"Segelyacht\">Segelyacht</a></td>\n",
       "<td><i><a href=\"/wiki/SY_A\" title=\"SY A\">SY A</a></i>\n",
       "</td></tr>\n",
       "<tr>\n",
       "<td><a href=\"/wiki/Arbeitsschiff\" title=\"Arbeitsschiff\">Arbeitsschiff</a></td>\n",
       "<td><i><a href=\"/wiki/Pioneering_Spirit\" title=\"Pioneering Spirit\">Pioneering Spirit</a></i>\n",
       "</td></tr>\n",
       "<tr>\n",
       "<td>Schwimmende Erdöl-/Erdgas-Förderanlagen und Verflüssigungsanlagen (FPSO / FLNG)</td>\n",
       "<td><i><a href=\"/wiki/Prelude_(Schiff)\" title=\"Prelude (Schiff)\">Prelude</a></i>\n",
       "</td></tr>\n",
       "<tr>\n",
       "<td><a href=\"/wiki/Hospitalschiff\" title=\"Hospitalschiff\">Hospitalschiff</a></td>\n",
       "<td><i><a href=\"/wiki/USNS_Comfort_(T-AH-20)\" title=\"USNS Comfort (T-AH-20)\">USNS Comfort</a></i>\n",
       "</td></tr></tbody></table>"
      ]
     },
     "execution_count": 30,
     "metadata": {},
     "output_type": "execute_result"
    }
   ],
   "execution_count": 30
  },
  {
   "metadata": {
    "ExecuteTime": {
     "end_time": "2025-01-24T08:52:06.722473Z",
     "start_time": "2025-01-24T08:52:06.711120Z"
    }
   },
   "cell_type": "code",
   "source": "soup.find('table')['class']",
   "outputs": [
    {
     "data": {
      "text/plain": [
       "['wikitable', 'sortable', 'zebra']"
      ]
     },
     "execution_count": 31,
     "metadata": {},
     "output_type": "execute_result"
    }
   ],
   "execution_count": 31
  },
  {
   "cell_type": "code",
   "source": "soup.find(class_='wikitable sortable zebra')",
   "metadata": {
    "collapsed": false,
    "ExecuteTime": {
     "end_time": "2025-01-24T08:53:57.356223Z",
     "start_time": "2025-01-24T08:53:57.295630Z"
    }
   },
   "outputs": [
    {
     "data": {
      "text/plain": [
       "<table class=\"wikitable sortable zebra\">\n",
       "<caption>Größte und längste Schiffe ihrer Art\n",
       "</caption>\n",
       "<tbody><tr>\n",
       "<th>Kategorie</th>\n",
       "<th>Schiffsname\n",
       "</th></tr>\n",
       "<tr>\n",
       "<td><a href=\"/wiki/Kreuzfahrtschiff\" title=\"Kreuzfahrtschiff\">Kreuzfahrtschiff</a></td>\n",
       "<td><i><a href=\"/wiki/Icon_of_the_Seas\" title=\"Icon of the Seas\">Icon of the Seas</a><sup class=\"reference\" id=\"cite_ref-1\"><a href=\"#cite_note-1\">[1]</a></sup></i>\n",
       "</td></tr>\n",
       "<tr>\n",
       "<td><a href=\"/wiki/Segelschiff\" title=\"Segelschiff\">Segelschiff</a></td>\n",
       "<td><i><a href=\"/wiki/SY_A\" title=\"SY A\">SY A</a></i>\n",
       "</td></tr>\n",
       "<tr>\n",
       "<td><a href=\"/wiki/Frachtsegler\" title=\"Frachtsegler\">Frachtsegler</a></td>\n",
       "<td><i><a href=\"/wiki/France_(Schiff,_1912%E2%80%931922)\" title=\"France (Schiff, 1912–1922)\">France</a></i>\n",
       "</td></tr>\n",
       "<tr>\n",
       "<td><a href=\"/wiki/Eisbrecher\" title=\"Eisbrecher\">Eisbrecher</a></td>\n",
       "<td><a class=\"mw-redirect\" href=\"/wiki/Arktika_(Schiff,_2020)\" title=\"Arktika (Schiff, 2020)\"><i>Arktika</i></a>\n",
       "</td></tr>\n",
       "<tr>\n",
       "<td><a href=\"/wiki/Autof%C3%A4hre\" title=\"Autofähre\">Autofähre</a></td>\n",
       "<td><i><a href=\"/wiki/Color_Magic\" title=\"Color Magic\">Color Magic</a></i> (nach Größe (BRZ)); <i><a href=\"/wiki/Cruise_Barcelona\" title=\"Cruise Barcelona\">Cruise Barcelona</a></i> und <i><a href=\"/wiki/Cruise_Roma\" title=\"Cruise Roma\">Cruise Roma</a></i> (nach Länge)\n",
       "</td></tr>\n",
       "<tr>\n",
       "<td><a class=\"new\" href=\"/w/index.php?title=LNG-F%C3%A4hre&amp;action=edit&amp;redlink=1\" title=\"LNG-Fähre (Seite nicht vorhanden)\">LNG-Fähre</a></td>\n",
       "<td><i><a href=\"/wiki/Nils_Holgersson_(Schiff,_2022)\" title=\"Nils Holgersson (Schiff, 2022)\">Nils Holgerson</a>, <a href=\"/wiki/Peter_Pan_(Schiff,_2022)\" title=\"Peter Pan (Schiff, 2022)\">Peter Pan</a></i>\n",
       "</td></tr>\n",
       "<tr>\n",
       "<td>Kombifähre (Eisenbahn/RoRo)</td>\n",
       "<td><i><a href=\"/wiki/Sk%C3%A5ne_(Schiff,_1998)\" title=\"Skåne (Schiff, 1998)\">Skåne</a></i>\n",
       "</td></tr>\n",
       "<tr>\n",
       "<td>Autotransporter</td>\n",
       "<td><a href=\"/wiki/Mark-V-Klasse\" title=\"Mark-V-Klasse\">Tysla, Salome</a> (nach Länge und Tragfähigkeit); <a href=\"/wiki/New-Horizon-Klasse\" title=\"New-Horizon-Klasse\"><i>Höegh Target</i></a> (nach Tonnage und Fahrzeugkapazität)\n",
       "</td></tr>\n",
       "<tr>\n",
       "<td><a href=\"/wiki/Flugzeugtr%C3%A4ger\" title=\"Flugzeugträger\">Flugzeugträger</a></td>\n",
       "<td><a href=\"/wiki/USS_Gerald_R._Ford_(CVN-78)\" title=\"USS Gerald R. Ford (CVN-78)\">USS <i>Gerald R. Ford</i> (CVN-78)</a> (nach Tonnage); <a href=\"/wiki/USS_Enterprise_(CVN-65)\" title=\"USS Enterprise (CVN-65)\">USS <i>Enterprise</i> (CVN 65)</a> (nach Länge)\n",
       "</td></tr>\n",
       "<tr>\n",
       "<td><a href=\"/wiki/Schlachtschiff\" title=\"Schlachtschiff\">Schlachtschiff</a></td>\n",
       "<td><a href=\"/wiki/Yamato_(Schiff,_1941)\" title=\"Yamato (Schiff, 1941)\"><i>Yamato</i></a> und <a href=\"/wiki/Musashi_(Schiff,_1942)\" title=\"Musashi (Schiff, 1942)\"><i>Musashi</i></a>\n",
       "</td></tr>\n",
       "<tr>\n",
       "<td><a class=\"mw-redirect\" href=\"/wiki/Unterseeboot\" title=\"Unterseeboot\">Unterseeboot</a></td>\n",
       "<td><a href=\"/wiki/TK-208_Dmitri_Donskoj\" title=\"TK-208 Dmitri Donskoj\"><i>Dmitri Donskoi</i> (TK-208)</a>\n",
       "</td></tr>\n",
       "<tr>\n",
       "<td><a href=\"/wiki/Containerschiff\" title=\"Containerschiff\">Containerschiff</a></td>\n",
       "<td><a href=\"/wiki/MSC-Irina-Typ\" title=\"MSC-Irina-Typ\"><i>MSC Irina</i></a><sup class=\"reference\" id=\"cite_ref-2\"><a href=\"#cite_note-2\">[2]</a></sup><sup class=\"reference\" id=\"cite_ref-3\"><a href=\"#cite_note-3\">[3]</a></sup>\n",
       "</td></tr>\n",
       "<tr>\n",
       "<td><a class=\"mw-redirect\" href=\"/wiki/Sch%C3%BCttgutschiff\" title=\"Schüttgutschiff\">Schüttgutschiff</a></td>\n",
       "<td><i><a href=\"/wiki/Valemax-Klasse\" title=\"Valemax-Klasse\">Yuan He Hai</a></i> (Valemax-Klasse)\n",
       "</td></tr>\n",
       "<tr>\n",
       "<td><a class=\"mw-redirect\" href=\"/wiki/%C3%96ltanker\" title=\"Öltanker\">Öltanker</a> (doppelwandig)</td>\n",
       "<td><i><a href=\"/wiki/Hellespont-Alhambra-Klasse\" title=\"Hellespont-Alhambra-Klasse\">TI Europe</a></i>, <i><a href=\"/wiki/Hellespont-Alhambra-Klasse\" title=\"Hellespont-Alhambra-Klasse\">TI Oceania</a></i> <style data-mw-deduplicate=\"TemplateStyles:r236689292\">.mw-parser-output .fussnoten-marke{font-size:0.75rem;font-style:normal;font-variant:normal;font-weight:normal;unicode-bidi:isolate;white-space:nowrap}.mw-parser-output .fussnoten-marke.reference,.mw-parser-output span.fussnoten-inhalt{padding-left:0.1rem}.mw-parser-output .fussnoten-marke.reference~.fussnoten-marke.reference,.mw-parser-output span.fussnoten-inhalt~span.fussnoten-inhalt{padding-left:0.15rem}.mw-parser-output .fussnoten-block{margin-bottom:0.1rem}.mw-parser-output div.fussnoten-inhalt{display:inline-block;padding-left:0.8rem;text-indent:-0.8rem}.mw-parser-output div.fussnoten-inhalt p,.mw-parser-output div.fussnoten-inhalt dl,.mw-parser-output div.fussnoten-inhalt ol,.mw-parser-output div.fussnoten-inhalt ul{text-indent:0}.mw-parser-output div.fussnoten-inhalt.fussnoten-floatfix{display:block}.mw-parser-output .fussnoten-box{margin-top:0.5rem;padding-left:0.8rem}.mw-parser-output .fussnoten-box,.mw-parser-output div.fussnoten-inhalt{font-size:94%}.mw-parser-output .fussnoten-box div.fussnoten-inhalt,.mw-parser-output span.fussnoten-inhalt,.mw-parser-output .fussnoten-inhalt .mw-reference-text{font-size:inherit}.mw-parser-output .fussnoten-inhalt .mw-reference-text{display:inline}.mw-parser-output .fussnoten-linie{display:inline-block;position:relative;top:-1em;border-top:solid 1px #808080;width:8rem}.mw-parser-output .fussnoten-linie+p,.mw-parser-output .fussnoten-linie+dl,.mw-parser-output .fussnoten-linie+ol,.mw-parser-output .fussnoten-linie+ul,.mw-parser-output .fussnoten-linie+link+div{margin-top:-1em}.mw-parser-output .fussnoten-marke.reference:target,.mw-parser-output .fussnoten-inhalt:target{background-color:#eaf3ff;box-shadow:0 0 0 0.25em #eaf3ff}.mw-parser-output .fussnoten-marke.reference:target,.mw-parser-output .fussnoten-inhalt:target .fussnoten-marke{font-weight:bold}</style>⁠<sup class=\"fussnoten-marke reference\" id=\"FN_Anm._1_back\"><a href=\"#FNZ_Anm._1\">Anm. 1</a></sup>\n",
       "</td></tr>\n",
       "<tr>\n",
       "<td>Öltanker (einwandig)</td>\n",
       "<td><i><a href=\"/wiki/Jahre_Viking\" title=\"Jahre Viking\">Jahre Viking</a></i> <link href=\"mw-data:TemplateStyles:r236689292\" rel=\"mw-deduplicated-inline-style\"/>⁠<sup class=\"fussnoten-marke reference\" id=\"FN_Anm._2_back\"><a href=\"#FNZ_Anm._2\">Anm. 2</a></sup>; <i><a href=\"/wiki/Pierre_Guillaumat_(Schiff)\" title=\"Pierre Guillaumat (Schiff)\">Pierre Guillaumat</a></i>\n",
       "</td></tr>\n",
       "<tr>\n",
       "<td><a class=\"mw-redirect\" href=\"/wiki/Fl%C3%BCssiggastanker\" title=\"Flüssiggastanker\">Flüssiggastanker</a></td>\n",
       "<td><i><a href=\"/wiki/Nakilat_Q-Max-Klasse\" title=\"Nakilat Q-Max-Klasse\">Mozah</a></i>\n",
       "</td></tr>\n",
       "<tr>\n",
       "<td><a href=\"/wiki/Dockschiff\" title=\"Dockschiff\">Dockschiff</a></td>\n",
       "<td><i><a href=\"/wiki/Boka_Vanguard\" title=\"Boka Vanguard\">Boka Vanguard</a></i>\n",
       "</td></tr>\n",
       "<tr>\n",
       "<td><a href=\"/wiki/Schwimmkran\" title=\"Schwimmkran\">Schwimmkran</a></td>\n",
       "<td><a href=\"/wiki/Sleipnir_(Schiff)\" title=\"Sleipnir (Schiff)\"><i>Sleipnir</i></a>\n",
       "</td></tr>\n",
       "<tr>\n",
       "<td><a class=\"mw-redirect\" href=\"/wiki/Motoryacht\" title=\"Motoryacht\">Motoryacht</a></td>\n",
       "<td><i><a href=\"/wiki/REV_Ocean\" title=\"REV Ocean\">REV Ocean</a></i> (nach Länge); <i><a href=\"/wiki/Dilbar_(Schiff)\" title=\"Dilbar (Schiff)\">Dilbar</a></i> (nach Größe (BRZ))\n",
       "</td></tr>\n",
       "<tr>\n",
       "<td><a href=\"/wiki/Schlepper_(Schiffstyp)\" title=\"Schlepper (Schiffstyp)\">Schlepper</a></td>\n",
       "<td><i><a class=\"new\" href=\"/w/index.php?title=Island_Victory&amp;action=edit&amp;redlink=1\" title=\"Island Victory (Seite nicht vorhanden)\">Island Victory</a></i>\n",
       "</td></tr>\n",
       "<tr>\n",
       "<td><a href=\"/wiki/Schubboot\" title=\"Schubboot\">Schubboot</a></td>\n",
       "<td><i><a class=\"new\" href=\"/w/index.php?title=E._Bronson_Ingram&amp;action=edit&amp;redlink=1\" title=\"E. Bronson Ingram (Seite nicht vorhanden)\">E. Bronson Ingram</a></i>\n",
       "</td></tr>\n",
       "<tr>\n",
       "<td><a href=\"/wiki/Katamaran\" title=\"Katamaran\">Katamaran</a></td>\n",
       "<td><a class=\"mw-redirect\" href=\"/wiki/HSS_1500\" title=\"HSS 1500\"><i>Stena Explorer</i></a>\n",
       "</td></tr>\n",
       "<tr>\n",
       "<td><a href=\"/wiki/Seenotrettungskreuzer\" title=\"Seenotrettungskreuzer\">Seenotrettungskreuzer</a></td>\n",
       "<td><a href=\"/wiki/Hermann_Marwede_(Schiff)\" title=\"Hermann Marwede (Schiff)\"><i>Hermann Marwede</i></a>\n",
       "</td></tr>\n",
       "<tr>\n",
       "<td><a href=\"/wiki/Trimaran\" title=\"Trimaran\">Trimaran</a></td>\n",
       "<td><a href=\"/wiki/Independence_(Schiff,_2010)\" title=\"Independence (Schiff, 2010)\">USS <i>Independence</i> (LCS-2)</a>\n",
       "</td></tr>\n",
       "<tr>\n",
       "<td><a class=\"mw-redirect\" href=\"/wiki/Motorsegelschiff\" title=\"Motorsegelschiff\">Motorsegelschiff</a></td>\n",
       "<td><i><a href=\"/wiki/Club_Med_2\" title=\"Club Med 2\">Club Med 2</a></i>\n",
       "</td></tr>\n",
       "<tr>\n",
       "<td><a href=\"/wiki/Hopperbagger\" title=\"Hopperbagger\">Hopperbagger</a></td>\n",
       "<td><a href=\"/wiki/Crist%C3%B3bal-Col%C3%B3n-Klasse\" title=\"Cristóbal-Colón-Klasse\"><i>Cristóbal-Colón</i>-Klasse</a>\n",
       "</td></tr>\n",
       "<tr>\n",
       "<td><a class=\"mw-redirect\" href=\"/wiki/Segelyacht\" title=\"Segelyacht\">Segelyacht</a></td>\n",
       "<td><i><a href=\"/wiki/SY_A\" title=\"SY A\">SY A</a></i>\n",
       "</td></tr>\n",
       "<tr>\n",
       "<td><a href=\"/wiki/Arbeitsschiff\" title=\"Arbeitsschiff\">Arbeitsschiff</a></td>\n",
       "<td><i><a href=\"/wiki/Pioneering_Spirit\" title=\"Pioneering Spirit\">Pioneering Spirit</a></i>\n",
       "</td></tr>\n",
       "<tr>\n",
       "<td>Schwimmende Erdöl-/Erdgas-Förderanlagen und Verflüssigungsanlagen (FPSO / FLNG)</td>\n",
       "<td><i><a href=\"/wiki/Prelude_(Schiff)\" title=\"Prelude (Schiff)\">Prelude</a></i>\n",
       "</td></tr>\n",
       "<tr>\n",
       "<td><a href=\"/wiki/Hospitalschiff\" title=\"Hospitalschiff\">Hospitalschiff</a></td>\n",
       "<td><i><a href=\"/wiki/USNS_Comfort_(T-AH-20)\" title=\"USNS Comfort (T-AH-20)\">USNS Comfort</a></i>\n",
       "</td></tr></tbody></table>"
      ]
     },
     "execution_count": 32,
     "metadata": {},
     "output_type": "execute_result"
    }
   ],
   "execution_count": 32
  },
  {
   "cell_type": "code",
   "source": [
    "# Selbes Element, anderer Weg:\n",
    "soup.table"
   ],
   "metadata": {
    "collapsed": false,
    "ExecuteTime": {
     "end_time": "2025-01-24T08:54:30.030630Z",
     "start_time": "2025-01-24T08:54:29.956873Z"
    }
   },
   "outputs": [
    {
     "data": {
      "text/plain": [
       "<table class=\"wikitable sortable zebra\">\n",
       "<caption>Größte und längste Schiffe ihrer Art\n",
       "</caption>\n",
       "<tbody><tr>\n",
       "<th>Kategorie</th>\n",
       "<th>Schiffsname\n",
       "</th></tr>\n",
       "<tr>\n",
       "<td><a href=\"/wiki/Kreuzfahrtschiff\" title=\"Kreuzfahrtschiff\">Kreuzfahrtschiff</a></td>\n",
       "<td><i><a href=\"/wiki/Icon_of_the_Seas\" title=\"Icon of the Seas\">Icon of the Seas</a><sup class=\"reference\" id=\"cite_ref-1\"><a href=\"#cite_note-1\">[1]</a></sup></i>\n",
       "</td></tr>\n",
       "<tr>\n",
       "<td><a href=\"/wiki/Segelschiff\" title=\"Segelschiff\">Segelschiff</a></td>\n",
       "<td><i><a href=\"/wiki/SY_A\" title=\"SY A\">SY A</a></i>\n",
       "</td></tr>\n",
       "<tr>\n",
       "<td><a href=\"/wiki/Frachtsegler\" title=\"Frachtsegler\">Frachtsegler</a></td>\n",
       "<td><i><a href=\"/wiki/France_(Schiff,_1912%E2%80%931922)\" title=\"France (Schiff, 1912–1922)\">France</a></i>\n",
       "</td></tr>\n",
       "<tr>\n",
       "<td><a href=\"/wiki/Eisbrecher\" title=\"Eisbrecher\">Eisbrecher</a></td>\n",
       "<td><a class=\"mw-redirect\" href=\"/wiki/Arktika_(Schiff,_2020)\" title=\"Arktika (Schiff, 2020)\"><i>Arktika</i></a>\n",
       "</td></tr>\n",
       "<tr>\n",
       "<td><a href=\"/wiki/Autof%C3%A4hre\" title=\"Autofähre\">Autofähre</a></td>\n",
       "<td><i><a href=\"/wiki/Color_Magic\" title=\"Color Magic\">Color Magic</a></i> (nach Größe (BRZ)); <i><a href=\"/wiki/Cruise_Barcelona\" title=\"Cruise Barcelona\">Cruise Barcelona</a></i> und <i><a href=\"/wiki/Cruise_Roma\" title=\"Cruise Roma\">Cruise Roma</a></i> (nach Länge)\n",
       "</td></tr>\n",
       "<tr>\n",
       "<td><a class=\"new\" href=\"/w/index.php?title=LNG-F%C3%A4hre&amp;action=edit&amp;redlink=1\" title=\"LNG-Fähre (Seite nicht vorhanden)\">LNG-Fähre</a></td>\n",
       "<td><i><a href=\"/wiki/Nils_Holgersson_(Schiff,_2022)\" title=\"Nils Holgersson (Schiff, 2022)\">Nils Holgerson</a>, <a href=\"/wiki/Peter_Pan_(Schiff,_2022)\" title=\"Peter Pan (Schiff, 2022)\">Peter Pan</a></i>\n",
       "</td></tr>\n",
       "<tr>\n",
       "<td>Kombifähre (Eisenbahn/RoRo)</td>\n",
       "<td><i><a href=\"/wiki/Sk%C3%A5ne_(Schiff,_1998)\" title=\"Skåne (Schiff, 1998)\">Skåne</a></i>\n",
       "</td></tr>\n",
       "<tr>\n",
       "<td>Autotransporter</td>\n",
       "<td><a href=\"/wiki/Mark-V-Klasse\" title=\"Mark-V-Klasse\">Tysla, Salome</a> (nach Länge und Tragfähigkeit); <a href=\"/wiki/New-Horizon-Klasse\" title=\"New-Horizon-Klasse\"><i>Höegh Target</i></a> (nach Tonnage und Fahrzeugkapazität)\n",
       "</td></tr>\n",
       "<tr>\n",
       "<td><a href=\"/wiki/Flugzeugtr%C3%A4ger\" title=\"Flugzeugträger\">Flugzeugträger</a></td>\n",
       "<td><a href=\"/wiki/USS_Gerald_R._Ford_(CVN-78)\" title=\"USS Gerald R. Ford (CVN-78)\">USS <i>Gerald R. Ford</i> (CVN-78)</a> (nach Tonnage); <a href=\"/wiki/USS_Enterprise_(CVN-65)\" title=\"USS Enterprise (CVN-65)\">USS <i>Enterprise</i> (CVN 65)</a> (nach Länge)\n",
       "</td></tr>\n",
       "<tr>\n",
       "<td><a href=\"/wiki/Schlachtschiff\" title=\"Schlachtschiff\">Schlachtschiff</a></td>\n",
       "<td><a href=\"/wiki/Yamato_(Schiff,_1941)\" title=\"Yamato (Schiff, 1941)\"><i>Yamato</i></a> und <a href=\"/wiki/Musashi_(Schiff,_1942)\" title=\"Musashi (Schiff, 1942)\"><i>Musashi</i></a>\n",
       "</td></tr>\n",
       "<tr>\n",
       "<td><a class=\"mw-redirect\" href=\"/wiki/Unterseeboot\" title=\"Unterseeboot\">Unterseeboot</a></td>\n",
       "<td><a href=\"/wiki/TK-208_Dmitri_Donskoj\" title=\"TK-208 Dmitri Donskoj\"><i>Dmitri Donskoi</i> (TK-208)</a>\n",
       "</td></tr>\n",
       "<tr>\n",
       "<td><a href=\"/wiki/Containerschiff\" title=\"Containerschiff\">Containerschiff</a></td>\n",
       "<td><a href=\"/wiki/MSC-Irina-Typ\" title=\"MSC-Irina-Typ\"><i>MSC Irina</i></a><sup class=\"reference\" id=\"cite_ref-2\"><a href=\"#cite_note-2\">[2]</a></sup><sup class=\"reference\" id=\"cite_ref-3\"><a href=\"#cite_note-3\">[3]</a></sup>\n",
       "</td></tr>\n",
       "<tr>\n",
       "<td><a class=\"mw-redirect\" href=\"/wiki/Sch%C3%BCttgutschiff\" title=\"Schüttgutschiff\">Schüttgutschiff</a></td>\n",
       "<td><i><a href=\"/wiki/Valemax-Klasse\" title=\"Valemax-Klasse\">Yuan He Hai</a></i> (Valemax-Klasse)\n",
       "</td></tr>\n",
       "<tr>\n",
       "<td><a class=\"mw-redirect\" href=\"/wiki/%C3%96ltanker\" title=\"Öltanker\">Öltanker</a> (doppelwandig)</td>\n",
       "<td><i><a href=\"/wiki/Hellespont-Alhambra-Klasse\" title=\"Hellespont-Alhambra-Klasse\">TI Europe</a></i>, <i><a href=\"/wiki/Hellespont-Alhambra-Klasse\" title=\"Hellespont-Alhambra-Klasse\">TI Oceania</a></i> <style data-mw-deduplicate=\"TemplateStyles:r236689292\">.mw-parser-output .fussnoten-marke{font-size:0.75rem;font-style:normal;font-variant:normal;font-weight:normal;unicode-bidi:isolate;white-space:nowrap}.mw-parser-output .fussnoten-marke.reference,.mw-parser-output span.fussnoten-inhalt{padding-left:0.1rem}.mw-parser-output .fussnoten-marke.reference~.fussnoten-marke.reference,.mw-parser-output span.fussnoten-inhalt~span.fussnoten-inhalt{padding-left:0.15rem}.mw-parser-output .fussnoten-block{margin-bottom:0.1rem}.mw-parser-output div.fussnoten-inhalt{display:inline-block;padding-left:0.8rem;text-indent:-0.8rem}.mw-parser-output div.fussnoten-inhalt p,.mw-parser-output div.fussnoten-inhalt dl,.mw-parser-output div.fussnoten-inhalt ol,.mw-parser-output div.fussnoten-inhalt ul{text-indent:0}.mw-parser-output div.fussnoten-inhalt.fussnoten-floatfix{display:block}.mw-parser-output .fussnoten-box{margin-top:0.5rem;padding-left:0.8rem}.mw-parser-output .fussnoten-box,.mw-parser-output div.fussnoten-inhalt{font-size:94%}.mw-parser-output .fussnoten-box div.fussnoten-inhalt,.mw-parser-output span.fussnoten-inhalt,.mw-parser-output .fussnoten-inhalt .mw-reference-text{font-size:inherit}.mw-parser-output .fussnoten-inhalt .mw-reference-text{display:inline}.mw-parser-output .fussnoten-linie{display:inline-block;position:relative;top:-1em;border-top:solid 1px #808080;width:8rem}.mw-parser-output .fussnoten-linie+p,.mw-parser-output .fussnoten-linie+dl,.mw-parser-output .fussnoten-linie+ol,.mw-parser-output .fussnoten-linie+ul,.mw-parser-output .fussnoten-linie+link+div{margin-top:-1em}.mw-parser-output .fussnoten-marke.reference:target,.mw-parser-output .fussnoten-inhalt:target{background-color:#eaf3ff;box-shadow:0 0 0 0.25em #eaf3ff}.mw-parser-output .fussnoten-marke.reference:target,.mw-parser-output .fussnoten-inhalt:target .fussnoten-marke{font-weight:bold}</style>⁠<sup class=\"fussnoten-marke reference\" id=\"FN_Anm._1_back\"><a href=\"#FNZ_Anm._1\">Anm. 1</a></sup>\n",
       "</td></tr>\n",
       "<tr>\n",
       "<td>Öltanker (einwandig)</td>\n",
       "<td><i><a href=\"/wiki/Jahre_Viking\" title=\"Jahre Viking\">Jahre Viking</a></i> <link href=\"mw-data:TemplateStyles:r236689292\" rel=\"mw-deduplicated-inline-style\"/>⁠<sup class=\"fussnoten-marke reference\" id=\"FN_Anm._2_back\"><a href=\"#FNZ_Anm._2\">Anm. 2</a></sup>; <i><a href=\"/wiki/Pierre_Guillaumat_(Schiff)\" title=\"Pierre Guillaumat (Schiff)\">Pierre Guillaumat</a></i>\n",
       "</td></tr>\n",
       "<tr>\n",
       "<td><a class=\"mw-redirect\" href=\"/wiki/Fl%C3%BCssiggastanker\" title=\"Flüssiggastanker\">Flüssiggastanker</a></td>\n",
       "<td><i><a href=\"/wiki/Nakilat_Q-Max-Klasse\" title=\"Nakilat Q-Max-Klasse\">Mozah</a></i>\n",
       "</td></tr>\n",
       "<tr>\n",
       "<td><a href=\"/wiki/Dockschiff\" title=\"Dockschiff\">Dockschiff</a></td>\n",
       "<td><i><a href=\"/wiki/Boka_Vanguard\" title=\"Boka Vanguard\">Boka Vanguard</a></i>\n",
       "</td></tr>\n",
       "<tr>\n",
       "<td><a href=\"/wiki/Schwimmkran\" title=\"Schwimmkran\">Schwimmkran</a></td>\n",
       "<td><a href=\"/wiki/Sleipnir_(Schiff)\" title=\"Sleipnir (Schiff)\"><i>Sleipnir</i></a>\n",
       "</td></tr>\n",
       "<tr>\n",
       "<td><a class=\"mw-redirect\" href=\"/wiki/Motoryacht\" title=\"Motoryacht\">Motoryacht</a></td>\n",
       "<td><i><a href=\"/wiki/REV_Ocean\" title=\"REV Ocean\">REV Ocean</a></i> (nach Länge); <i><a href=\"/wiki/Dilbar_(Schiff)\" title=\"Dilbar (Schiff)\">Dilbar</a></i> (nach Größe (BRZ))\n",
       "</td></tr>\n",
       "<tr>\n",
       "<td><a href=\"/wiki/Schlepper_(Schiffstyp)\" title=\"Schlepper (Schiffstyp)\">Schlepper</a></td>\n",
       "<td><i><a class=\"new\" href=\"/w/index.php?title=Island_Victory&amp;action=edit&amp;redlink=1\" title=\"Island Victory (Seite nicht vorhanden)\">Island Victory</a></i>\n",
       "</td></tr>\n",
       "<tr>\n",
       "<td><a href=\"/wiki/Schubboot\" title=\"Schubboot\">Schubboot</a></td>\n",
       "<td><i><a class=\"new\" href=\"/w/index.php?title=E._Bronson_Ingram&amp;action=edit&amp;redlink=1\" title=\"E. Bronson Ingram (Seite nicht vorhanden)\">E. Bronson Ingram</a></i>\n",
       "</td></tr>\n",
       "<tr>\n",
       "<td><a href=\"/wiki/Katamaran\" title=\"Katamaran\">Katamaran</a></td>\n",
       "<td><a class=\"mw-redirect\" href=\"/wiki/HSS_1500\" title=\"HSS 1500\"><i>Stena Explorer</i></a>\n",
       "</td></tr>\n",
       "<tr>\n",
       "<td><a href=\"/wiki/Seenotrettungskreuzer\" title=\"Seenotrettungskreuzer\">Seenotrettungskreuzer</a></td>\n",
       "<td><a href=\"/wiki/Hermann_Marwede_(Schiff)\" title=\"Hermann Marwede (Schiff)\"><i>Hermann Marwede</i></a>\n",
       "</td></tr>\n",
       "<tr>\n",
       "<td><a href=\"/wiki/Trimaran\" title=\"Trimaran\">Trimaran</a></td>\n",
       "<td><a href=\"/wiki/Independence_(Schiff,_2010)\" title=\"Independence (Schiff, 2010)\">USS <i>Independence</i> (LCS-2)</a>\n",
       "</td></tr>\n",
       "<tr>\n",
       "<td><a class=\"mw-redirect\" href=\"/wiki/Motorsegelschiff\" title=\"Motorsegelschiff\">Motorsegelschiff</a></td>\n",
       "<td><i><a href=\"/wiki/Club_Med_2\" title=\"Club Med 2\">Club Med 2</a></i>\n",
       "</td></tr>\n",
       "<tr>\n",
       "<td><a href=\"/wiki/Hopperbagger\" title=\"Hopperbagger\">Hopperbagger</a></td>\n",
       "<td><a href=\"/wiki/Crist%C3%B3bal-Col%C3%B3n-Klasse\" title=\"Cristóbal-Colón-Klasse\"><i>Cristóbal-Colón</i>-Klasse</a>\n",
       "</td></tr>\n",
       "<tr>\n",
       "<td><a class=\"mw-redirect\" href=\"/wiki/Segelyacht\" title=\"Segelyacht\">Segelyacht</a></td>\n",
       "<td><i><a href=\"/wiki/SY_A\" title=\"SY A\">SY A</a></i>\n",
       "</td></tr>\n",
       "<tr>\n",
       "<td><a href=\"/wiki/Arbeitsschiff\" title=\"Arbeitsschiff\">Arbeitsschiff</a></td>\n",
       "<td><i><a href=\"/wiki/Pioneering_Spirit\" title=\"Pioneering Spirit\">Pioneering Spirit</a></i>\n",
       "</td></tr>\n",
       "<tr>\n",
       "<td>Schwimmende Erdöl-/Erdgas-Förderanlagen und Verflüssigungsanlagen (FPSO / FLNG)</td>\n",
       "<td><i><a href=\"/wiki/Prelude_(Schiff)\" title=\"Prelude (Schiff)\">Prelude</a></i>\n",
       "</td></tr>\n",
       "<tr>\n",
       "<td><a href=\"/wiki/Hospitalschiff\" title=\"Hospitalschiff\">Hospitalschiff</a></td>\n",
       "<td><i><a href=\"/wiki/USNS_Comfort_(T-AH-20)\" title=\"USNS Comfort (T-AH-20)\">USNS Comfort</a></i>\n",
       "</td></tr></tbody></table>"
      ]
     },
     "execution_count": 33,
     "metadata": {},
     "output_type": "execute_result"
    }
   ],
   "execution_count": 33
  },
  {
   "cell_type": "code",
   "source": [
    "# Die Klassenzugehörigkeiten aller Tabellen im Artikel (Mini-Exkurs):\n",
    "for table in soup.find_all('table'):\n",
    "    print(table['class'])"
   ],
   "metadata": {
    "collapsed": false,
    "ExecuteTime": {
     "end_time": "2025-01-24T08:58:07.026817Z",
     "start_time": "2025-01-24T08:58:07.018983Z"
    }
   },
   "outputs": [
    {
     "name": "stdout",
     "output_type": "stream",
     "text": [
      "['wikitable', 'sortable', 'zebra']\n",
      "['wikitable', 'sortable', 'toptextcells', 'zebra']\n"
     ]
    }
   ],
   "execution_count": 40
  },
  {
   "metadata": {
    "ExecuteTime": {
     "end_time": "2025-01-24T08:59:48.737718Z",
     "start_time": "2025-01-24T08:59:48.727152Z"
    }
   },
   "cell_type": "code",
   "source": "soup.table == soup.find('table')",
   "outputs": [
    {
     "data": {
      "text/plain": [
       "True"
      ]
     },
     "execution_count": 41,
     "metadata": {},
     "output_type": "execute_result"
    }
   ],
   "execution_count": 41
  },
  {
   "cell_type": "code",
   "source": [
    "# Wenn's hübscher aussehen soll:\n",
    "print(soup.find('table').prettify())"
   ],
   "metadata": {
    "collapsed": false,
    "ExecuteTime": {
     "end_time": "2025-01-24T09:00:05.248098Z",
     "start_time": "2025-01-24T09:00:05.224951Z"
    }
   },
   "outputs": [
    {
     "name": "stdout",
     "output_type": "stream",
     "text": [
      "<table class=\"wikitable sortable zebra\">\n",
      " <caption>\n",
      "  Größte und längste Schiffe ihrer Art\n",
      " </caption>\n",
      " <tbody>\n",
      "  <tr>\n",
      "   <th>\n",
      "    Kategorie\n",
      "   </th>\n",
      "   <th>\n",
      "    Schiffsname\n",
      "   </th>\n",
      "  </tr>\n",
      "  <tr>\n",
      "   <td>\n",
      "    <a href=\"/wiki/Kreuzfahrtschiff\" title=\"Kreuzfahrtschiff\">\n",
      "     Kreuzfahrtschiff\n",
      "    </a>\n",
      "   </td>\n",
      "   <td>\n",
      "    <i>\n",
      "     <a href=\"/wiki/Icon_of_the_Seas\" title=\"Icon of the Seas\">\n",
      "      Icon of the Seas\n",
      "     </a>\n",
      "     <sup class=\"reference\" id=\"cite_ref-1\">\n",
      "      <a href=\"#cite_note-1\">\n",
      "       [1]\n",
      "      </a>\n",
      "     </sup>\n",
      "    </i>\n",
      "   </td>\n",
      "  </tr>\n",
      "  <tr>\n",
      "   <td>\n",
      "    <a href=\"/wiki/Segelschiff\" title=\"Segelschiff\">\n",
      "     Segelschiff\n",
      "    </a>\n",
      "   </td>\n",
      "   <td>\n",
      "    <i>\n",
      "     <a href=\"/wiki/SY_A\" title=\"SY A\">\n",
      "      SY A\n",
      "     </a>\n",
      "    </i>\n",
      "   </td>\n",
      "  </tr>\n",
      "  <tr>\n",
      "   <td>\n",
      "    <a href=\"/wiki/Frachtsegler\" title=\"Frachtsegler\">\n",
      "     Frachtsegler\n",
      "    </a>\n",
      "   </td>\n",
      "   <td>\n",
      "    <i>\n",
      "     <a href=\"/wiki/France_(Schiff,_1912%E2%80%931922)\" title=\"France (Schiff, 1912–1922)\">\n",
      "      France\n",
      "     </a>\n",
      "    </i>\n",
      "   </td>\n",
      "  </tr>\n",
      "  <tr>\n",
      "   <td>\n",
      "    <a href=\"/wiki/Eisbrecher\" title=\"Eisbrecher\">\n",
      "     Eisbrecher\n",
      "    </a>\n",
      "   </td>\n",
      "   <td>\n",
      "    <a class=\"mw-redirect\" href=\"/wiki/Arktika_(Schiff,_2020)\" title=\"Arktika (Schiff, 2020)\">\n",
      "     <i>\n",
      "      Arktika\n",
      "     </i>\n",
      "    </a>\n",
      "   </td>\n",
      "  </tr>\n",
      "  <tr>\n",
      "   <td>\n",
      "    <a href=\"/wiki/Autof%C3%A4hre\" title=\"Autofähre\">\n",
      "     Autofähre\n",
      "    </a>\n",
      "   </td>\n",
      "   <td>\n",
      "    <i>\n",
      "     <a href=\"/wiki/Color_Magic\" title=\"Color Magic\">\n",
      "      Color Magic\n",
      "     </a>\n",
      "    </i>\n",
      "    (nach Größe (BRZ));\n",
      "    <i>\n",
      "     <a href=\"/wiki/Cruise_Barcelona\" title=\"Cruise Barcelona\">\n",
      "      Cruise Barcelona\n",
      "     </a>\n",
      "    </i>\n",
      "    und\n",
      "    <i>\n",
      "     <a href=\"/wiki/Cruise_Roma\" title=\"Cruise Roma\">\n",
      "      Cruise Roma\n",
      "     </a>\n",
      "    </i>\n",
      "    (nach Länge)\n",
      "   </td>\n",
      "  </tr>\n",
      "  <tr>\n",
      "   <td>\n",
      "    <a class=\"new\" href=\"/w/index.php?title=LNG-F%C3%A4hre&amp;action=edit&amp;redlink=1\" title=\"LNG-Fähre (Seite nicht vorhanden)\">\n",
      "     LNG-Fähre\n",
      "    </a>\n",
      "   </td>\n",
      "   <td>\n",
      "    <i>\n",
      "     <a href=\"/wiki/Nils_Holgersson_(Schiff,_2022)\" title=\"Nils Holgersson (Schiff, 2022)\">\n",
      "      Nils Holgerson\n",
      "     </a>\n",
      "     ,\n",
      "     <a href=\"/wiki/Peter_Pan_(Schiff,_2022)\" title=\"Peter Pan (Schiff, 2022)\">\n",
      "      Peter Pan\n",
      "     </a>\n",
      "    </i>\n",
      "   </td>\n",
      "  </tr>\n",
      "  <tr>\n",
      "   <td>\n",
      "    Kombifähre (Eisenbahn/RoRo)\n",
      "   </td>\n",
      "   <td>\n",
      "    <i>\n",
      "     <a href=\"/wiki/Sk%C3%A5ne_(Schiff,_1998)\" title=\"Skåne (Schiff, 1998)\">\n",
      "      Skåne\n",
      "     </a>\n",
      "    </i>\n",
      "   </td>\n",
      "  </tr>\n",
      "  <tr>\n",
      "   <td>\n",
      "    Autotransporter\n",
      "   </td>\n",
      "   <td>\n",
      "    <a href=\"/wiki/Mark-V-Klasse\" title=\"Mark-V-Klasse\">\n",
      "     Tysla, Salome\n",
      "    </a>\n",
      "    (nach Länge und Tragfähigkeit);\n",
      "    <a href=\"/wiki/New-Horizon-Klasse\" title=\"New-Horizon-Klasse\">\n",
      "     <i>\n",
      "      Höegh Target\n",
      "     </i>\n",
      "    </a>\n",
      "    (nach Tonnage und Fahrzeugkapazität)\n",
      "   </td>\n",
      "  </tr>\n",
      "  <tr>\n",
      "   <td>\n",
      "    <a href=\"/wiki/Flugzeugtr%C3%A4ger\" title=\"Flugzeugträger\">\n",
      "     Flugzeugträger\n",
      "    </a>\n",
      "   </td>\n",
      "   <td>\n",
      "    <a href=\"/wiki/USS_Gerald_R._Ford_(CVN-78)\" title=\"USS Gerald R. Ford (CVN-78)\">\n",
      "     USS\n",
      "     <i>\n",
      "      Gerald R. Ford\n",
      "     </i>\n",
      "     (CVN-78)\n",
      "    </a>\n",
      "    (nach Tonnage);\n",
      "    <a href=\"/wiki/USS_Enterprise_(CVN-65)\" title=\"USS Enterprise (CVN-65)\">\n",
      "     USS\n",
      "     <i>\n",
      "      Enterprise\n",
      "     </i>\n",
      "     (CVN 65)\n",
      "    </a>\n",
      "    (nach Länge)\n",
      "   </td>\n",
      "  </tr>\n",
      "  <tr>\n",
      "   <td>\n",
      "    <a href=\"/wiki/Schlachtschiff\" title=\"Schlachtschiff\">\n",
      "     Schlachtschiff\n",
      "    </a>\n",
      "   </td>\n",
      "   <td>\n",
      "    <a href=\"/wiki/Yamato_(Schiff,_1941)\" title=\"Yamato (Schiff, 1941)\">\n",
      "     <i>\n",
      "      Yamato\n",
      "     </i>\n",
      "    </a>\n",
      "    und\n",
      "    <a href=\"/wiki/Musashi_(Schiff,_1942)\" title=\"Musashi (Schiff, 1942)\">\n",
      "     <i>\n",
      "      Musashi\n",
      "     </i>\n",
      "    </a>\n",
      "   </td>\n",
      "  </tr>\n",
      "  <tr>\n",
      "   <td>\n",
      "    <a class=\"mw-redirect\" href=\"/wiki/Unterseeboot\" title=\"Unterseeboot\">\n",
      "     Unterseeboot\n",
      "    </a>\n",
      "   </td>\n",
      "   <td>\n",
      "    <a href=\"/wiki/TK-208_Dmitri_Donskoj\" title=\"TK-208 Dmitri Donskoj\">\n",
      "     <i>\n",
      "      Dmitri Donskoi\n",
      "     </i>\n",
      "     (TK-208)\n",
      "    </a>\n",
      "   </td>\n",
      "  </tr>\n",
      "  <tr>\n",
      "   <td>\n",
      "    <a href=\"/wiki/Containerschiff\" title=\"Containerschiff\">\n",
      "     Containerschiff\n",
      "    </a>\n",
      "   </td>\n",
      "   <td>\n",
      "    <a href=\"/wiki/MSC-Irina-Typ\" title=\"MSC-Irina-Typ\">\n",
      "     <i>\n",
      "      MSC Irina\n",
      "     </i>\n",
      "    </a>\n",
      "    <sup class=\"reference\" id=\"cite_ref-2\">\n",
      "     <a href=\"#cite_note-2\">\n",
      "      [2]\n",
      "     </a>\n",
      "    </sup>\n",
      "    <sup class=\"reference\" id=\"cite_ref-3\">\n",
      "     <a href=\"#cite_note-3\">\n",
      "      [3]\n",
      "     </a>\n",
      "    </sup>\n",
      "   </td>\n",
      "  </tr>\n",
      "  <tr>\n",
      "   <td>\n",
      "    <a class=\"mw-redirect\" href=\"/wiki/Sch%C3%BCttgutschiff\" title=\"Schüttgutschiff\">\n",
      "     Schüttgutschiff\n",
      "    </a>\n",
      "   </td>\n",
      "   <td>\n",
      "    <i>\n",
      "     <a href=\"/wiki/Valemax-Klasse\" title=\"Valemax-Klasse\">\n",
      "      Yuan He Hai\n",
      "     </a>\n",
      "    </i>\n",
      "    (Valemax-Klasse)\n",
      "   </td>\n",
      "  </tr>\n",
      "  <tr>\n",
      "   <td>\n",
      "    <a class=\"mw-redirect\" href=\"/wiki/%C3%96ltanker\" title=\"Öltanker\">\n",
      "     Öltanker\n",
      "    </a>\n",
      "    (doppelwandig)\n",
      "   </td>\n",
      "   <td>\n",
      "    <i>\n",
      "     <a href=\"/wiki/Hellespont-Alhambra-Klasse\" title=\"Hellespont-Alhambra-Klasse\">\n",
      "      TI Europe\n",
      "     </a>\n",
      "    </i>\n",
      "    ,\n",
      "    <i>\n",
      "     <a href=\"/wiki/Hellespont-Alhambra-Klasse\" title=\"Hellespont-Alhambra-Klasse\">\n",
      "      TI Oceania\n",
      "     </a>\n",
      "    </i>\n",
      "    <style data-mw-deduplicate=\"TemplateStyles:r236689292\">\n",
      "     .mw-parser-output .fussnoten-marke{font-size:0.75rem;font-style:normal;font-variant:normal;font-weight:normal;unicode-bidi:isolate;white-space:nowrap}.mw-parser-output .fussnoten-marke.reference,.mw-parser-output span.fussnoten-inhalt{padding-left:0.1rem}.mw-parser-output .fussnoten-marke.reference~.fussnoten-marke.reference,.mw-parser-output span.fussnoten-inhalt~span.fussnoten-inhalt{padding-left:0.15rem}.mw-parser-output .fussnoten-block{margin-bottom:0.1rem}.mw-parser-output div.fussnoten-inhalt{display:inline-block;padding-left:0.8rem;text-indent:-0.8rem}.mw-parser-output div.fussnoten-inhalt p,.mw-parser-output div.fussnoten-inhalt dl,.mw-parser-output div.fussnoten-inhalt ol,.mw-parser-output div.fussnoten-inhalt ul{text-indent:0}.mw-parser-output div.fussnoten-inhalt.fussnoten-floatfix{display:block}.mw-parser-output .fussnoten-box{margin-top:0.5rem;padding-left:0.8rem}.mw-parser-output .fussnoten-box,.mw-parser-output div.fussnoten-inhalt{font-size:94%}.mw-parser-output .fussnoten-box div.fussnoten-inhalt,.mw-parser-output span.fussnoten-inhalt,.mw-parser-output .fussnoten-inhalt .mw-reference-text{font-size:inherit}.mw-parser-output .fussnoten-inhalt .mw-reference-text{display:inline}.mw-parser-output .fussnoten-linie{display:inline-block;position:relative;top:-1em;border-top:solid 1px #808080;width:8rem}.mw-parser-output .fussnoten-linie+p,.mw-parser-output .fussnoten-linie+dl,.mw-parser-output .fussnoten-linie+ol,.mw-parser-output .fussnoten-linie+ul,.mw-parser-output .fussnoten-linie+link+div{margin-top:-1em}.mw-parser-output .fussnoten-marke.reference:target,.mw-parser-output .fussnoten-inhalt:target{background-color:#eaf3ff;box-shadow:0 0 0 0.25em #eaf3ff}.mw-parser-output .fussnoten-marke.reference:target,.mw-parser-output .fussnoten-inhalt:target .fussnoten-marke{font-weight:bold}\n",
      "    </style>\n",
      "    ⁠\n",
      "    <sup class=\"fussnoten-marke reference\" id=\"FN_Anm._1_back\">\n",
      "     <a href=\"#FNZ_Anm._1\">\n",
      "      Anm. 1\n",
      "     </a>\n",
      "    </sup>\n",
      "   </td>\n",
      "  </tr>\n",
      "  <tr>\n",
      "   <td>\n",
      "    Öltanker (einwandig)\n",
      "   </td>\n",
      "   <td>\n",
      "    <i>\n",
      "     <a href=\"/wiki/Jahre_Viking\" title=\"Jahre Viking\">\n",
      "      Jahre Viking\n",
      "     </a>\n",
      "    </i>\n",
      "    <link href=\"mw-data:TemplateStyles:r236689292\" rel=\"mw-deduplicated-inline-style\"/>\n",
      "    ⁠\n",
      "    <sup class=\"fussnoten-marke reference\" id=\"FN_Anm._2_back\">\n",
      "     <a href=\"#FNZ_Anm._2\">\n",
      "      Anm. 2\n",
      "     </a>\n",
      "    </sup>\n",
      "    ;\n",
      "    <i>\n",
      "     <a href=\"/wiki/Pierre_Guillaumat_(Schiff)\" title=\"Pierre Guillaumat (Schiff)\">\n",
      "      Pierre Guillaumat\n",
      "     </a>\n",
      "    </i>\n",
      "   </td>\n",
      "  </tr>\n",
      "  <tr>\n",
      "   <td>\n",
      "    <a class=\"mw-redirect\" href=\"/wiki/Fl%C3%BCssiggastanker\" title=\"Flüssiggastanker\">\n",
      "     Flüssiggastanker\n",
      "    </a>\n",
      "   </td>\n",
      "   <td>\n",
      "    <i>\n",
      "     <a href=\"/wiki/Nakilat_Q-Max-Klasse\" title=\"Nakilat Q-Max-Klasse\">\n",
      "      Mozah\n",
      "     </a>\n",
      "    </i>\n",
      "   </td>\n",
      "  </tr>\n",
      "  <tr>\n",
      "   <td>\n",
      "    <a href=\"/wiki/Dockschiff\" title=\"Dockschiff\">\n",
      "     Dockschiff\n",
      "    </a>\n",
      "   </td>\n",
      "   <td>\n",
      "    <i>\n",
      "     <a href=\"/wiki/Boka_Vanguard\" title=\"Boka Vanguard\">\n",
      "      Boka Vanguard\n",
      "     </a>\n",
      "    </i>\n",
      "   </td>\n",
      "  </tr>\n",
      "  <tr>\n",
      "   <td>\n",
      "    <a href=\"/wiki/Schwimmkran\" title=\"Schwimmkran\">\n",
      "     Schwimmkran\n",
      "    </a>\n",
      "   </td>\n",
      "   <td>\n",
      "    <a href=\"/wiki/Sleipnir_(Schiff)\" title=\"Sleipnir (Schiff)\">\n",
      "     <i>\n",
      "      Sleipnir\n",
      "     </i>\n",
      "    </a>\n",
      "   </td>\n",
      "  </tr>\n",
      "  <tr>\n",
      "   <td>\n",
      "    <a class=\"mw-redirect\" href=\"/wiki/Motoryacht\" title=\"Motoryacht\">\n",
      "     Motoryacht\n",
      "    </a>\n",
      "   </td>\n",
      "   <td>\n",
      "    <i>\n",
      "     <a href=\"/wiki/REV_Ocean\" title=\"REV Ocean\">\n",
      "      REV Ocean\n",
      "     </a>\n",
      "    </i>\n",
      "    (nach Länge);\n",
      "    <i>\n",
      "     <a href=\"/wiki/Dilbar_(Schiff)\" title=\"Dilbar (Schiff)\">\n",
      "      Dilbar\n",
      "     </a>\n",
      "    </i>\n",
      "    (nach Größe (BRZ))\n",
      "   </td>\n",
      "  </tr>\n",
      "  <tr>\n",
      "   <td>\n",
      "    <a href=\"/wiki/Schlepper_(Schiffstyp)\" title=\"Schlepper (Schiffstyp)\">\n",
      "     Schlepper\n",
      "    </a>\n",
      "   </td>\n",
      "   <td>\n",
      "    <i>\n",
      "     <a class=\"new\" href=\"/w/index.php?title=Island_Victory&amp;action=edit&amp;redlink=1\" title=\"Island Victory (Seite nicht vorhanden)\">\n",
      "      Island Victory\n",
      "     </a>\n",
      "    </i>\n",
      "   </td>\n",
      "  </tr>\n",
      "  <tr>\n",
      "   <td>\n",
      "    <a href=\"/wiki/Schubboot\" title=\"Schubboot\">\n",
      "     Schubboot\n",
      "    </a>\n",
      "   </td>\n",
      "   <td>\n",
      "    <i>\n",
      "     <a class=\"new\" href=\"/w/index.php?title=E._Bronson_Ingram&amp;action=edit&amp;redlink=1\" title=\"E. Bronson Ingram (Seite nicht vorhanden)\">\n",
      "      E. Bronson Ingram\n",
      "     </a>\n",
      "    </i>\n",
      "   </td>\n",
      "  </tr>\n",
      "  <tr>\n",
      "   <td>\n",
      "    <a href=\"/wiki/Katamaran\" title=\"Katamaran\">\n",
      "     Katamaran\n",
      "    </a>\n",
      "   </td>\n",
      "   <td>\n",
      "    <a class=\"mw-redirect\" href=\"/wiki/HSS_1500\" title=\"HSS 1500\">\n",
      "     <i>\n",
      "      Stena Explorer\n",
      "     </i>\n",
      "    </a>\n",
      "   </td>\n",
      "  </tr>\n",
      "  <tr>\n",
      "   <td>\n",
      "    <a href=\"/wiki/Seenotrettungskreuzer\" title=\"Seenotrettungskreuzer\">\n",
      "     Seenotrettungskreuzer\n",
      "    </a>\n",
      "   </td>\n",
      "   <td>\n",
      "    <a href=\"/wiki/Hermann_Marwede_(Schiff)\" title=\"Hermann Marwede (Schiff)\">\n",
      "     <i>\n",
      "      Hermann Marwede\n",
      "     </i>\n",
      "    </a>\n",
      "   </td>\n",
      "  </tr>\n",
      "  <tr>\n",
      "   <td>\n",
      "    <a href=\"/wiki/Trimaran\" title=\"Trimaran\">\n",
      "     Trimaran\n",
      "    </a>\n",
      "   </td>\n",
      "   <td>\n",
      "    <a href=\"/wiki/Independence_(Schiff,_2010)\" title=\"Independence (Schiff, 2010)\">\n",
      "     USS\n",
      "     <i>\n",
      "      Independence\n",
      "     </i>\n",
      "     (LCS-2)\n",
      "    </a>\n",
      "   </td>\n",
      "  </tr>\n",
      "  <tr>\n",
      "   <td>\n",
      "    <a class=\"mw-redirect\" href=\"/wiki/Motorsegelschiff\" title=\"Motorsegelschiff\">\n",
      "     Motorsegelschiff\n",
      "    </a>\n",
      "   </td>\n",
      "   <td>\n",
      "    <i>\n",
      "     <a href=\"/wiki/Club_Med_2\" title=\"Club Med 2\">\n",
      "      Club Med 2\n",
      "     </a>\n",
      "    </i>\n",
      "   </td>\n",
      "  </tr>\n",
      "  <tr>\n",
      "   <td>\n",
      "    <a href=\"/wiki/Hopperbagger\" title=\"Hopperbagger\">\n",
      "     Hopperbagger\n",
      "    </a>\n",
      "   </td>\n",
      "   <td>\n",
      "    <a href=\"/wiki/Crist%C3%B3bal-Col%C3%B3n-Klasse\" title=\"Cristóbal-Colón-Klasse\">\n",
      "     <i>\n",
      "      Cristóbal-Colón\n",
      "     </i>\n",
      "     -Klasse\n",
      "    </a>\n",
      "   </td>\n",
      "  </tr>\n",
      "  <tr>\n",
      "   <td>\n",
      "    <a class=\"mw-redirect\" href=\"/wiki/Segelyacht\" title=\"Segelyacht\">\n",
      "     Segelyacht\n",
      "    </a>\n",
      "   </td>\n",
      "   <td>\n",
      "    <i>\n",
      "     <a href=\"/wiki/SY_A\" title=\"SY A\">\n",
      "      SY A\n",
      "     </a>\n",
      "    </i>\n",
      "   </td>\n",
      "  </tr>\n",
      "  <tr>\n",
      "   <td>\n",
      "    <a href=\"/wiki/Arbeitsschiff\" title=\"Arbeitsschiff\">\n",
      "     Arbeitsschiff\n",
      "    </a>\n",
      "   </td>\n",
      "   <td>\n",
      "    <i>\n",
      "     <a href=\"/wiki/Pioneering_Spirit\" title=\"Pioneering Spirit\">\n",
      "      Pioneering Spirit\n",
      "     </a>\n",
      "    </i>\n",
      "   </td>\n",
      "  </tr>\n",
      "  <tr>\n",
      "   <td>\n",
      "    Schwimmende Erdöl-/Erdgas-Förderanlagen und Verflüssigungsanlagen (FPSO / FLNG)\n",
      "   </td>\n",
      "   <td>\n",
      "    <i>\n",
      "     <a href=\"/wiki/Prelude_(Schiff)\" title=\"Prelude (Schiff)\">\n",
      "      Prelude\n",
      "     </a>\n",
      "    </i>\n",
      "   </td>\n",
      "  </tr>\n",
      "  <tr>\n",
      "   <td>\n",
      "    <a href=\"/wiki/Hospitalschiff\" title=\"Hospitalschiff\">\n",
      "     Hospitalschiff\n",
      "    </a>\n",
      "   </td>\n",
      "   <td>\n",
      "    <i>\n",
      "     <a href=\"/wiki/USNS_Comfort_(T-AH-20)\" title=\"USNS Comfort (T-AH-20)\">\n",
      "      USNS Comfort\n",
      "     </a>\n",
      "    </i>\n",
      "   </td>\n",
      "  </tr>\n",
      " </tbody>\n",
      "</table>\n",
      "\n"
     ]
    }
   ],
   "execution_count": 42
  },
  {
   "cell_type": "code",
   "source": [
    "# Alle Datenfelder holen:\n",
    "data_fields = soup.find('table').find_all('td')\n",
    "data_fields"
   ],
   "metadata": {
    "collapsed": false,
    "ExecuteTime": {
     "end_time": "2025-01-24T09:23:29.291227Z",
     "start_time": "2025-01-24T09:23:29.267108Z"
    }
   },
   "outputs": [
    {
     "data": {
      "text/plain": [
       "[<td><a href=\"/wiki/Kreuzfahrtschiff\" title=\"Kreuzfahrtschiff\">Kreuzfahrtschiff</a></td>,\n",
       " <td><i><a href=\"/wiki/Icon_of_the_Seas\" title=\"Icon of the Seas\">Icon of the Seas</a><sup class=\"reference\" id=\"cite_ref-1\"><a href=\"#cite_note-1\">[1]</a></sup></i>\n",
       " </td>,\n",
       " <td><a href=\"/wiki/Segelschiff\" title=\"Segelschiff\">Segelschiff</a></td>,\n",
       " <td><i><a href=\"/wiki/SY_A\" title=\"SY A\">SY A</a></i>\n",
       " </td>,\n",
       " <td><a href=\"/wiki/Frachtsegler\" title=\"Frachtsegler\">Frachtsegler</a></td>,\n",
       " <td><i><a href=\"/wiki/France_(Schiff,_1912%E2%80%931922)\" title=\"France (Schiff, 1912–1922)\">France</a></i>\n",
       " </td>,\n",
       " <td><a href=\"/wiki/Eisbrecher\" title=\"Eisbrecher\">Eisbrecher</a></td>,\n",
       " <td><a class=\"mw-redirect\" href=\"/wiki/Arktika_(Schiff,_2020)\" title=\"Arktika (Schiff, 2020)\"><i>Arktika</i></a>\n",
       " </td>,\n",
       " <td><a href=\"/wiki/Autof%C3%A4hre\" title=\"Autofähre\">Autofähre</a></td>,\n",
       " <td><i><a href=\"/wiki/Color_Magic\" title=\"Color Magic\">Color Magic</a></i> (nach Größe (BRZ)); <i><a href=\"/wiki/Cruise_Barcelona\" title=\"Cruise Barcelona\">Cruise Barcelona</a></i> und <i><a href=\"/wiki/Cruise_Roma\" title=\"Cruise Roma\">Cruise Roma</a></i> (nach Länge)\n",
       " </td>,\n",
       " <td><a class=\"new\" href=\"/w/index.php?title=LNG-F%C3%A4hre&amp;action=edit&amp;redlink=1\" title=\"LNG-Fähre (Seite nicht vorhanden)\">LNG-Fähre</a></td>,\n",
       " <td><i><a href=\"/wiki/Nils_Holgersson_(Schiff,_2022)\" title=\"Nils Holgersson (Schiff, 2022)\">Nils Holgerson</a>, <a href=\"/wiki/Peter_Pan_(Schiff,_2022)\" title=\"Peter Pan (Schiff, 2022)\">Peter Pan</a></i>\n",
       " </td>,\n",
       " <td>Kombifähre (Eisenbahn/RoRo)</td>,\n",
       " <td><i><a href=\"/wiki/Sk%C3%A5ne_(Schiff,_1998)\" title=\"Skåne (Schiff, 1998)\">Skåne</a></i>\n",
       " </td>,\n",
       " <td>Autotransporter</td>,\n",
       " <td><a href=\"/wiki/Mark-V-Klasse\" title=\"Mark-V-Klasse\">Tysla, Salome</a> (nach Länge und Tragfähigkeit); <a href=\"/wiki/New-Horizon-Klasse\" title=\"New-Horizon-Klasse\"><i>Höegh Target</i></a> (nach Tonnage und Fahrzeugkapazität)\n",
       " </td>,\n",
       " <td><a href=\"/wiki/Flugzeugtr%C3%A4ger\" title=\"Flugzeugträger\">Flugzeugträger</a></td>,\n",
       " <td><a href=\"/wiki/USS_Gerald_R._Ford_(CVN-78)\" title=\"USS Gerald R. Ford (CVN-78)\">USS <i>Gerald R. Ford</i> (CVN-78)</a> (nach Tonnage); <a href=\"/wiki/USS_Enterprise_(CVN-65)\" title=\"USS Enterprise (CVN-65)\">USS <i>Enterprise</i> (CVN 65)</a> (nach Länge)\n",
       " </td>,\n",
       " <td><a href=\"/wiki/Schlachtschiff\" title=\"Schlachtschiff\">Schlachtschiff</a></td>,\n",
       " <td><a href=\"/wiki/Yamato_(Schiff,_1941)\" title=\"Yamato (Schiff, 1941)\"><i>Yamato</i></a> und <a href=\"/wiki/Musashi_(Schiff,_1942)\" title=\"Musashi (Schiff, 1942)\"><i>Musashi</i></a>\n",
       " </td>,\n",
       " <td><a class=\"mw-redirect\" href=\"/wiki/Unterseeboot\" title=\"Unterseeboot\">Unterseeboot</a></td>,\n",
       " <td><a href=\"/wiki/TK-208_Dmitri_Donskoj\" title=\"TK-208 Dmitri Donskoj\"><i>Dmitri Donskoi</i> (TK-208)</a>\n",
       " </td>,\n",
       " <td><a href=\"/wiki/Containerschiff\" title=\"Containerschiff\">Containerschiff</a></td>,\n",
       " <td><a href=\"/wiki/MSC-Irina-Typ\" title=\"MSC-Irina-Typ\"><i>MSC Irina</i></a><sup class=\"reference\" id=\"cite_ref-2\"><a href=\"#cite_note-2\">[2]</a></sup><sup class=\"reference\" id=\"cite_ref-3\"><a href=\"#cite_note-3\">[3]</a></sup>\n",
       " </td>,\n",
       " <td><a class=\"mw-redirect\" href=\"/wiki/Sch%C3%BCttgutschiff\" title=\"Schüttgutschiff\">Schüttgutschiff</a></td>,\n",
       " <td><i><a href=\"/wiki/Valemax-Klasse\" title=\"Valemax-Klasse\">Yuan He Hai</a></i> (Valemax-Klasse)\n",
       " </td>,\n",
       " <td><a class=\"mw-redirect\" href=\"/wiki/%C3%96ltanker\" title=\"Öltanker\">Öltanker</a> (doppelwandig)</td>,\n",
       " <td><i><a href=\"/wiki/Hellespont-Alhambra-Klasse\" title=\"Hellespont-Alhambra-Klasse\">TI Europe</a></i>, <i><a href=\"/wiki/Hellespont-Alhambra-Klasse\" title=\"Hellespont-Alhambra-Klasse\">TI Oceania</a></i> <style data-mw-deduplicate=\"TemplateStyles:r236689292\">.mw-parser-output .fussnoten-marke{font-size:0.75rem;font-style:normal;font-variant:normal;font-weight:normal;unicode-bidi:isolate;white-space:nowrap}.mw-parser-output .fussnoten-marke.reference,.mw-parser-output span.fussnoten-inhalt{padding-left:0.1rem}.mw-parser-output .fussnoten-marke.reference~.fussnoten-marke.reference,.mw-parser-output span.fussnoten-inhalt~span.fussnoten-inhalt{padding-left:0.15rem}.mw-parser-output .fussnoten-block{margin-bottom:0.1rem}.mw-parser-output div.fussnoten-inhalt{display:inline-block;padding-left:0.8rem;text-indent:-0.8rem}.mw-parser-output div.fussnoten-inhalt p,.mw-parser-output div.fussnoten-inhalt dl,.mw-parser-output div.fussnoten-inhalt ol,.mw-parser-output div.fussnoten-inhalt ul{text-indent:0}.mw-parser-output div.fussnoten-inhalt.fussnoten-floatfix{display:block}.mw-parser-output .fussnoten-box{margin-top:0.5rem;padding-left:0.8rem}.mw-parser-output .fussnoten-box,.mw-parser-output div.fussnoten-inhalt{font-size:94%}.mw-parser-output .fussnoten-box div.fussnoten-inhalt,.mw-parser-output span.fussnoten-inhalt,.mw-parser-output .fussnoten-inhalt .mw-reference-text{font-size:inherit}.mw-parser-output .fussnoten-inhalt .mw-reference-text{display:inline}.mw-parser-output .fussnoten-linie{display:inline-block;position:relative;top:-1em;border-top:solid 1px #808080;width:8rem}.mw-parser-output .fussnoten-linie+p,.mw-parser-output .fussnoten-linie+dl,.mw-parser-output .fussnoten-linie+ol,.mw-parser-output .fussnoten-linie+ul,.mw-parser-output .fussnoten-linie+link+div{margin-top:-1em}.mw-parser-output .fussnoten-marke.reference:target,.mw-parser-output .fussnoten-inhalt:target{background-color:#eaf3ff;box-shadow:0 0 0 0.25em #eaf3ff}.mw-parser-output .fussnoten-marke.reference:target,.mw-parser-output .fussnoten-inhalt:target .fussnoten-marke{font-weight:bold}</style>⁠<sup class=\"fussnoten-marke reference\" id=\"FN_Anm._1_back\"><a href=\"#FNZ_Anm._1\">Anm. 1</a></sup>\n",
       " </td>,\n",
       " <td>Öltanker (einwandig)</td>,\n",
       " <td><i><a href=\"/wiki/Jahre_Viking\" title=\"Jahre Viking\">Jahre Viking</a></i> <link href=\"mw-data:TemplateStyles:r236689292\" rel=\"mw-deduplicated-inline-style\"/>⁠<sup class=\"fussnoten-marke reference\" id=\"FN_Anm._2_back\"><a href=\"#FNZ_Anm._2\">Anm. 2</a></sup>; <i><a href=\"/wiki/Pierre_Guillaumat_(Schiff)\" title=\"Pierre Guillaumat (Schiff)\">Pierre Guillaumat</a></i>\n",
       " </td>,\n",
       " <td><a class=\"mw-redirect\" href=\"/wiki/Fl%C3%BCssiggastanker\" title=\"Flüssiggastanker\">Flüssiggastanker</a></td>,\n",
       " <td><i><a href=\"/wiki/Nakilat_Q-Max-Klasse\" title=\"Nakilat Q-Max-Klasse\">Mozah</a></i>\n",
       " </td>,\n",
       " <td><a href=\"/wiki/Dockschiff\" title=\"Dockschiff\">Dockschiff</a></td>,\n",
       " <td><i><a href=\"/wiki/Boka_Vanguard\" title=\"Boka Vanguard\">Boka Vanguard</a></i>\n",
       " </td>,\n",
       " <td><a href=\"/wiki/Schwimmkran\" title=\"Schwimmkran\">Schwimmkran</a></td>,\n",
       " <td><a href=\"/wiki/Sleipnir_(Schiff)\" title=\"Sleipnir (Schiff)\"><i>Sleipnir</i></a>\n",
       " </td>,\n",
       " <td><a class=\"mw-redirect\" href=\"/wiki/Motoryacht\" title=\"Motoryacht\">Motoryacht</a></td>,\n",
       " <td><i><a href=\"/wiki/REV_Ocean\" title=\"REV Ocean\">REV Ocean</a></i> (nach Länge); <i><a href=\"/wiki/Dilbar_(Schiff)\" title=\"Dilbar (Schiff)\">Dilbar</a></i> (nach Größe (BRZ))\n",
       " </td>,\n",
       " <td><a href=\"/wiki/Schlepper_(Schiffstyp)\" title=\"Schlepper (Schiffstyp)\">Schlepper</a></td>,\n",
       " <td><i><a class=\"new\" href=\"/w/index.php?title=Island_Victory&amp;action=edit&amp;redlink=1\" title=\"Island Victory (Seite nicht vorhanden)\">Island Victory</a></i>\n",
       " </td>,\n",
       " <td><a href=\"/wiki/Schubboot\" title=\"Schubboot\">Schubboot</a></td>,\n",
       " <td><i><a class=\"new\" href=\"/w/index.php?title=E._Bronson_Ingram&amp;action=edit&amp;redlink=1\" title=\"E. Bronson Ingram (Seite nicht vorhanden)\">E. Bronson Ingram</a></i>\n",
       " </td>,\n",
       " <td><a href=\"/wiki/Katamaran\" title=\"Katamaran\">Katamaran</a></td>,\n",
       " <td><a class=\"mw-redirect\" href=\"/wiki/HSS_1500\" title=\"HSS 1500\"><i>Stena Explorer</i></a>\n",
       " </td>,\n",
       " <td><a href=\"/wiki/Seenotrettungskreuzer\" title=\"Seenotrettungskreuzer\">Seenotrettungskreuzer</a></td>,\n",
       " <td><a href=\"/wiki/Hermann_Marwede_(Schiff)\" title=\"Hermann Marwede (Schiff)\"><i>Hermann Marwede</i></a>\n",
       " </td>,\n",
       " <td><a href=\"/wiki/Trimaran\" title=\"Trimaran\">Trimaran</a></td>,\n",
       " <td><a href=\"/wiki/Independence_(Schiff,_2010)\" title=\"Independence (Schiff, 2010)\">USS <i>Independence</i> (LCS-2)</a>\n",
       " </td>,\n",
       " <td><a class=\"mw-redirect\" href=\"/wiki/Motorsegelschiff\" title=\"Motorsegelschiff\">Motorsegelschiff</a></td>,\n",
       " <td><i><a href=\"/wiki/Club_Med_2\" title=\"Club Med 2\">Club Med 2</a></i>\n",
       " </td>,\n",
       " <td><a href=\"/wiki/Hopperbagger\" title=\"Hopperbagger\">Hopperbagger</a></td>,\n",
       " <td><a href=\"/wiki/Crist%C3%B3bal-Col%C3%B3n-Klasse\" title=\"Cristóbal-Colón-Klasse\"><i>Cristóbal-Colón</i>-Klasse</a>\n",
       " </td>,\n",
       " <td><a class=\"mw-redirect\" href=\"/wiki/Segelyacht\" title=\"Segelyacht\">Segelyacht</a></td>,\n",
       " <td><i><a href=\"/wiki/SY_A\" title=\"SY A\">SY A</a></i>\n",
       " </td>,\n",
       " <td><a href=\"/wiki/Arbeitsschiff\" title=\"Arbeitsschiff\">Arbeitsschiff</a></td>,\n",
       " <td><i><a href=\"/wiki/Pioneering_Spirit\" title=\"Pioneering Spirit\">Pioneering Spirit</a></i>\n",
       " </td>,\n",
       " <td>Schwimmende Erdöl-/Erdgas-Förderanlagen und Verflüssigungsanlagen (FPSO / FLNG)</td>,\n",
       " <td><i><a href=\"/wiki/Prelude_(Schiff)\" title=\"Prelude (Schiff)\">Prelude</a></i>\n",
       " </td>,\n",
       " <td><a href=\"/wiki/Hospitalschiff\" title=\"Hospitalschiff\">Hospitalschiff</a></td>,\n",
       " <td><i><a href=\"/wiki/USNS_Comfort_(T-AH-20)\" title=\"USNS Comfort (T-AH-20)\">USNS Comfort</a></i>\n",
       " </td>]"
      ]
     },
     "execution_count": 43,
     "metadata": {},
     "output_type": "execute_result"
    }
   ],
   "execution_count": 43
  },
  {
   "cell_type": "code",
   "source": [
    "# Nur die Text-Inhalte der Datenfelder:\n",
    "for field in data_fields:\n",
    "    print(field.text)"
   ],
   "metadata": {
    "collapsed": false,
    "ExecuteTime": {
     "end_time": "2025-01-24T09:25:19.163782Z",
     "start_time": "2025-01-24T09:25:19.149003Z"
    }
   },
   "outputs": [
    {
     "name": "stdout",
     "output_type": "stream",
     "text": [
      "Kreuzfahrtschiff\n",
      "Icon of the Seas[1]\n",
      "\n",
      "Segelschiff\n",
      "SY A\n",
      "\n",
      "Frachtsegler\n",
      "France\n",
      "\n",
      "Eisbrecher\n",
      "Arktika\n",
      "\n",
      "Autofähre\n",
      "Color Magic (nach Größe (BRZ)); Cruise Barcelona und Cruise Roma (nach Länge)\n",
      "\n",
      "LNG-Fähre\n",
      "Nils Holgerson, Peter Pan\n",
      "\n",
      "Kombifähre (Eisenbahn/RoRo)\n",
      "Skåne\n",
      "\n",
      "Autotransporter\n",
      "Tysla, Salome (nach Länge und Tragfähigkeit); Höegh Target (nach Tonnage und Fahrzeugkapazität)\n",
      "\n",
      "Flugzeugträger\n",
      "USS Gerald R. Ford (CVN-78) (nach Tonnage); USS Enterprise (CVN 65) (nach Länge)\n",
      "\n",
      "Schlachtschiff\n",
      "Yamato und Musashi\n",
      "\n",
      "Unterseeboot\n",
      "Dmitri Donskoi (TK-208)\n",
      "\n",
      "Containerschiff\n",
      "MSC Irina[2][3]\n",
      "\n",
      "Schüttgutschiff\n",
      "Yuan He Hai (Valemax-Klasse)\n",
      "\n",
      "Öltanker (doppelwandig)\n",
      "TI Europe, TI Oceania ⁠Anm. 1\n",
      "\n",
      "Öltanker (einwandig)\n",
      "Jahre Viking ⁠Anm. 2; Pierre Guillaumat\n",
      "\n",
      "Flüssiggastanker\n",
      "Mozah\n",
      "\n",
      "Dockschiff\n",
      "Boka Vanguard\n",
      "\n",
      "Schwimmkran\n",
      "Sleipnir\n",
      "\n",
      "Motoryacht\n",
      "REV Ocean (nach Länge); Dilbar (nach Größe (BRZ))\n",
      "\n",
      "Schlepper\n",
      "Island Victory\n",
      "\n",
      "Schubboot\n",
      "E. Bronson Ingram\n",
      "\n",
      "Katamaran\n",
      "Stena Explorer\n",
      "\n",
      "Seenotrettungskreuzer\n",
      "Hermann Marwede\n",
      "\n",
      "Trimaran\n",
      "USS Independence (LCS-2)\n",
      "\n",
      "Motorsegelschiff\n",
      "Club Med 2\n",
      "\n",
      "Hopperbagger\n",
      "Cristóbal-Colón-Klasse\n",
      "\n",
      "Segelyacht\n",
      "SY A\n",
      "\n",
      "Arbeitsschiff\n",
      "Pioneering Spirit\n",
      "\n",
      "Schwimmende Erdöl-/Erdgas-Förderanlagen und Verflüssigungsanlagen (FPSO / FLNG)\n",
      "Prelude\n",
      "\n",
      "Hospitalschiff\n",
      "USNS Comfort\n",
      "\n"
     ]
    }
   ],
   "execution_count": 44
  },
  {
   "cell_type": "code",
   "source": [
    "# Alle Links sammeln:\n",
    "soup.find('table').find_all('a')"
   ],
   "metadata": {
    "collapsed": false,
    "ExecuteTime": {
     "end_time": "2025-01-24T09:27:24.144632Z",
     "start_time": "2025-01-24T09:27:24.127024Z"
    }
   },
   "outputs": [
    {
     "data": {
      "text/plain": [
       "[<a href=\"/wiki/Kreuzfahrtschiff\" title=\"Kreuzfahrtschiff\">Kreuzfahrtschiff</a>,\n",
       " <a href=\"/wiki/Icon_of_the_Seas\" title=\"Icon of the Seas\">Icon of the Seas</a>,\n",
       " <a href=\"#cite_note-1\">[1]</a>,\n",
       " <a href=\"/wiki/Segelschiff\" title=\"Segelschiff\">Segelschiff</a>,\n",
       " <a href=\"/wiki/SY_A\" title=\"SY A\">SY A</a>,\n",
       " <a href=\"/wiki/Frachtsegler\" title=\"Frachtsegler\">Frachtsegler</a>,\n",
       " <a href=\"/wiki/France_(Schiff,_1912%E2%80%931922)\" title=\"France (Schiff, 1912–1922)\">France</a>,\n",
       " <a href=\"/wiki/Eisbrecher\" title=\"Eisbrecher\">Eisbrecher</a>,\n",
       " <a class=\"mw-redirect\" href=\"/wiki/Arktika_(Schiff,_2020)\" title=\"Arktika (Schiff, 2020)\"><i>Arktika</i></a>,\n",
       " <a href=\"/wiki/Autof%C3%A4hre\" title=\"Autofähre\">Autofähre</a>,\n",
       " <a href=\"/wiki/Color_Magic\" title=\"Color Magic\">Color Magic</a>,\n",
       " <a href=\"/wiki/Cruise_Barcelona\" title=\"Cruise Barcelona\">Cruise Barcelona</a>,\n",
       " <a href=\"/wiki/Cruise_Roma\" title=\"Cruise Roma\">Cruise Roma</a>,\n",
       " <a class=\"new\" href=\"/w/index.php?title=LNG-F%C3%A4hre&amp;action=edit&amp;redlink=1\" title=\"LNG-Fähre (Seite nicht vorhanden)\">LNG-Fähre</a>,\n",
       " <a href=\"/wiki/Nils_Holgersson_(Schiff,_2022)\" title=\"Nils Holgersson (Schiff, 2022)\">Nils Holgerson</a>,\n",
       " <a href=\"/wiki/Peter_Pan_(Schiff,_2022)\" title=\"Peter Pan (Schiff, 2022)\">Peter Pan</a>,\n",
       " <a href=\"/wiki/Sk%C3%A5ne_(Schiff,_1998)\" title=\"Skåne (Schiff, 1998)\">Skåne</a>,\n",
       " <a href=\"/wiki/Mark-V-Klasse\" title=\"Mark-V-Klasse\">Tysla, Salome</a>,\n",
       " <a href=\"/wiki/New-Horizon-Klasse\" title=\"New-Horizon-Klasse\"><i>Höegh Target</i></a>,\n",
       " <a href=\"/wiki/Flugzeugtr%C3%A4ger\" title=\"Flugzeugträger\">Flugzeugträger</a>,\n",
       " <a href=\"/wiki/USS_Gerald_R._Ford_(CVN-78)\" title=\"USS Gerald R. Ford (CVN-78)\">USS <i>Gerald R. Ford</i> (CVN-78)</a>,\n",
       " <a href=\"/wiki/USS_Enterprise_(CVN-65)\" title=\"USS Enterprise (CVN-65)\">USS <i>Enterprise</i> (CVN 65)</a>,\n",
       " <a href=\"/wiki/Schlachtschiff\" title=\"Schlachtschiff\">Schlachtschiff</a>,\n",
       " <a href=\"/wiki/Yamato_(Schiff,_1941)\" title=\"Yamato (Schiff, 1941)\"><i>Yamato</i></a>,\n",
       " <a href=\"/wiki/Musashi_(Schiff,_1942)\" title=\"Musashi (Schiff, 1942)\"><i>Musashi</i></a>,\n",
       " <a class=\"mw-redirect\" href=\"/wiki/Unterseeboot\" title=\"Unterseeboot\">Unterseeboot</a>,\n",
       " <a href=\"/wiki/TK-208_Dmitri_Donskoj\" title=\"TK-208 Dmitri Donskoj\"><i>Dmitri Donskoi</i> (TK-208)</a>,\n",
       " <a href=\"/wiki/Containerschiff\" title=\"Containerschiff\">Containerschiff</a>,\n",
       " <a href=\"/wiki/MSC-Irina-Typ\" title=\"MSC-Irina-Typ\"><i>MSC Irina</i></a>,\n",
       " <a href=\"#cite_note-2\">[2]</a>,\n",
       " <a href=\"#cite_note-3\">[3]</a>,\n",
       " <a class=\"mw-redirect\" href=\"/wiki/Sch%C3%BCttgutschiff\" title=\"Schüttgutschiff\">Schüttgutschiff</a>,\n",
       " <a href=\"/wiki/Valemax-Klasse\" title=\"Valemax-Klasse\">Yuan He Hai</a>,\n",
       " <a class=\"mw-redirect\" href=\"/wiki/%C3%96ltanker\" title=\"Öltanker\">Öltanker</a>,\n",
       " <a href=\"/wiki/Hellespont-Alhambra-Klasse\" title=\"Hellespont-Alhambra-Klasse\">TI Europe</a>,\n",
       " <a href=\"/wiki/Hellespont-Alhambra-Klasse\" title=\"Hellespont-Alhambra-Klasse\">TI Oceania</a>,\n",
       " <a href=\"#FNZ_Anm._1\">Anm. 1</a>,\n",
       " <a href=\"/wiki/Jahre_Viking\" title=\"Jahre Viking\">Jahre Viking</a>,\n",
       " <a href=\"#FNZ_Anm._2\">Anm. 2</a>,\n",
       " <a href=\"/wiki/Pierre_Guillaumat_(Schiff)\" title=\"Pierre Guillaumat (Schiff)\">Pierre Guillaumat</a>,\n",
       " <a class=\"mw-redirect\" href=\"/wiki/Fl%C3%BCssiggastanker\" title=\"Flüssiggastanker\">Flüssiggastanker</a>,\n",
       " <a href=\"/wiki/Nakilat_Q-Max-Klasse\" title=\"Nakilat Q-Max-Klasse\">Mozah</a>,\n",
       " <a href=\"/wiki/Dockschiff\" title=\"Dockschiff\">Dockschiff</a>,\n",
       " <a href=\"/wiki/Boka_Vanguard\" title=\"Boka Vanguard\">Boka Vanguard</a>,\n",
       " <a href=\"/wiki/Schwimmkran\" title=\"Schwimmkran\">Schwimmkran</a>,\n",
       " <a href=\"/wiki/Sleipnir_(Schiff)\" title=\"Sleipnir (Schiff)\"><i>Sleipnir</i></a>,\n",
       " <a class=\"mw-redirect\" href=\"/wiki/Motoryacht\" title=\"Motoryacht\">Motoryacht</a>,\n",
       " <a href=\"/wiki/REV_Ocean\" title=\"REV Ocean\">REV Ocean</a>,\n",
       " <a href=\"/wiki/Dilbar_(Schiff)\" title=\"Dilbar (Schiff)\">Dilbar</a>,\n",
       " <a href=\"/wiki/Schlepper_(Schiffstyp)\" title=\"Schlepper (Schiffstyp)\">Schlepper</a>,\n",
       " <a class=\"new\" href=\"/w/index.php?title=Island_Victory&amp;action=edit&amp;redlink=1\" title=\"Island Victory (Seite nicht vorhanden)\">Island Victory</a>,\n",
       " <a href=\"/wiki/Schubboot\" title=\"Schubboot\">Schubboot</a>,\n",
       " <a class=\"new\" href=\"/w/index.php?title=E._Bronson_Ingram&amp;action=edit&amp;redlink=1\" title=\"E. Bronson Ingram (Seite nicht vorhanden)\">E. Bronson Ingram</a>,\n",
       " <a href=\"/wiki/Katamaran\" title=\"Katamaran\">Katamaran</a>,\n",
       " <a class=\"mw-redirect\" href=\"/wiki/HSS_1500\" title=\"HSS 1500\"><i>Stena Explorer</i></a>,\n",
       " <a href=\"/wiki/Seenotrettungskreuzer\" title=\"Seenotrettungskreuzer\">Seenotrettungskreuzer</a>,\n",
       " <a href=\"/wiki/Hermann_Marwede_(Schiff)\" title=\"Hermann Marwede (Schiff)\"><i>Hermann Marwede</i></a>,\n",
       " <a href=\"/wiki/Trimaran\" title=\"Trimaran\">Trimaran</a>,\n",
       " <a href=\"/wiki/Independence_(Schiff,_2010)\" title=\"Independence (Schiff, 2010)\">USS <i>Independence</i> (LCS-2)</a>,\n",
       " <a class=\"mw-redirect\" href=\"/wiki/Motorsegelschiff\" title=\"Motorsegelschiff\">Motorsegelschiff</a>,\n",
       " <a href=\"/wiki/Club_Med_2\" title=\"Club Med 2\">Club Med 2</a>,\n",
       " <a href=\"/wiki/Hopperbagger\" title=\"Hopperbagger\">Hopperbagger</a>,\n",
       " <a href=\"/wiki/Crist%C3%B3bal-Col%C3%B3n-Klasse\" title=\"Cristóbal-Colón-Klasse\"><i>Cristóbal-Colón</i>-Klasse</a>,\n",
       " <a class=\"mw-redirect\" href=\"/wiki/Segelyacht\" title=\"Segelyacht\">Segelyacht</a>,\n",
       " <a href=\"/wiki/SY_A\" title=\"SY A\">SY A</a>,\n",
       " <a href=\"/wiki/Arbeitsschiff\" title=\"Arbeitsschiff\">Arbeitsschiff</a>,\n",
       " <a href=\"/wiki/Pioneering_Spirit\" title=\"Pioneering Spirit\">Pioneering Spirit</a>,\n",
       " <a href=\"/wiki/Prelude_(Schiff)\" title=\"Prelude (Schiff)\">Prelude</a>,\n",
       " <a href=\"/wiki/Hospitalschiff\" title=\"Hospitalschiff\">Hospitalschiff</a>,\n",
       " <a href=\"/wiki/USNS_Comfort_(T-AH-20)\" title=\"USNS Comfort (T-AH-20)\">USNS Comfort</a>]"
      ]
     },
     "execution_count": 46,
     "metadata": {},
     "output_type": "execute_result"
    }
   ],
   "execution_count": 46
  },
  {
   "cell_type": "code",
   "source": [
    "# Packen wir doch das Zwischenergebnis für die Lesbarkeit auf eine Variabel:\n",
    "anchors = soup.find('table').find_all('a')"
   ],
   "metadata": {
    "collapsed": false,
    "ExecuteTime": {
     "end_time": "2025-01-24T09:28:10.112307Z",
     "start_time": "2025-01-24T09:28:10.103815Z"
    }
   },
   "outputs": [],
   "execution_count": 47
  },
  {
   "cell_type": "code",
   "source": [
    "# Wir wollen JEDEN Link aus dieser Liste bekommen, starten aber erstmal klein\n",
    "# mit nur einem Link: \n",
    "anchors[0]"
   ],
   "metadata": {
    "collapsed": false,
    "ExecuteTime": {
     "end_time": "2025-01-24T09:28:21.934519Z",
     "start_time": "2025-01-24T09:28:21.920719Z"
    }
   },
   "outputs": [
    {
     "data": {
      "text/plain": [
       "<a href=\"/wiki/Kreuzfahrtschiff\" title=\"Kreuzfahrtschiff\">Kreuzfahrtschiff</a>"
      ]
     },
     "execution_count": 48,
     "metadata": {},
     "output_type": "execute_result"
    }
   ],
   "execution_count": 48
  },
  {
   "cell_type": "code",
   "source": [
    "# Man kann auf Attribute mit Schlüssel-Notation zugreifen (kennen wir von Dicts):\n",
    "anchors[0]['href']"
   ],
   "metadata": {
    "collapsed": false,
    "ExecuteTime": {
     "end_time": "2025-01-24T09:29:25.801407Z",
     "start_time": "2025-01-24T09:29:25.789032Z"
    }
   },
   "outputs": [
    {
     "data": {
      "text/plain": [
       "'/wiki/Kreuzfahrtschiff'"
      ]
     },
     "execution_count": 49,
     "metadata": {},
     "output_type": "execute_result"
    }
   ],
   "execution_count": 49
  },
  {
   "metadata": {
    "ExecuteTime": {
     "end_time": "2025-01-24T09:30:02.903562Z",
     "start_time": "2025-01-24T09:30:02.888336Z"
    }
   },
   "cell_type": "code",
   "source": [
    "# Mini-Übung: Wie komm ich an title?\n",
    "anchors[0]['title']"
   ],
   "outputs": [
    {
     "data": {
      "text/plain": [
       "'Kreuzfahrtschiff'"
      ]
     },
     "execution_count": 50,
     "metadata": {},
     "output_type": "execute_result"
    }
   ],
   "execution_count": 50
  },
  {
   "cell_type": "code",
   "source": [
    "# Alternativ geht das auch mit der get-Notation:\n",
    "anchors[0].get('href')"
   ],
   "metadata": {
    "collapsed": false,
    "ExecuteTime": {
     "end_time": "2025-01-24T09:30:27.267567Z",
     "start_time": "2025-01-24T09:30:27.257003Z"
    }
   },
   "outputs": [
    {
     "data": {
      "text/plain": [
       "'/wiki/Kreuzfahrtschiff'"
      ]
     },
     "execution_count": 51,
     "metadata": {},
     "output_type": "execute_result"
    }
   ],
   "execution_count": 51
  },
  {
   "cell_type": "code",
   "source": [
    "# Und jetzt Denkschmalz-Aufgabe: Wie lasse ich mir ALLE Links ausgeben?"
   ],
   "metadata": {
    "collapsed": false
   },
   "outputs": [],
   "execution_count": null
  },
  {
   "cell_type": "code",
   "source": [
    "for anchor in anchors:\n",
    "    print(anchor.get('href'))"
   ],
   "metadata": {
    "collapsed": false,
    "ExecuteTime": {
     "end_time": "2025-01-24T09:35:27.767700Z",
     "start_time": "2025-01-24T09:35:27.758180Z"
    }
   },
   "outputs": [
    {
     "name": "stdout",
     "output_type": "stream",
     "text": [
      "/wiki/Kreuzfahrtschiff\n",
      "/wiki/Icon_of_the_Seas\n",
      "#cite_note-1\n",
      "/wiki/Segelschiff\n",
      "/wiki/SY_A\n",
      "/wiki/Frachtsegler\n",
      "/wiki/France_(Schiff,_1912%E2%80%931922)\n",
      "/wiki/Eisbrecher\n",
      "/wiki/Arktika_(Schiff,_2020)\n",
      "/wiki/Autof%C3%A4hre\n",
      "/wiki/Color_Magic\n",
      "/wiki/Cruise_Barcelona\n",
      "/wiki/Cruise_Roma\n",
      "/w/index.php?title=LNG-F%C3%A4hre&action=edit&redlink=1\n",
      "/wiki/Nils_Holgersson_(Schiff,_2022)\n",
      "/wiki/Peter_Pan_(Schiff,_2022)\n",
      "/wiki/Sk%C3%A5ne_(Schiff,_1998)\n",
      "/wiki/Mark-V-Klasse\n",
      "/wiki/New-Horizon-Klasse\n",
      "/wiki/Flugzeugtr%C3%A4ger\n",
      "/wiki/USS_Gerald_R._Ford_(CVN-78)\n",
      "/wiki/USS_Enterprise_(CVN-65)\n",
      "/wiki/Schlachtschiff\n",
      "/wiki/Yamato_(Schiff,_1941)\n",
      "/wiki/Musashi_(Schiff,_1942)\n",
      "/wiki/Unterseeboot\n",
      "/wiki/TK-208_Dmitri_Donskoj\n",
      "/wiki/Containerschiff\n",
      "/wiki/MSC-Irina-Typ\n",
      "#cite_note-2\n",
      "#cite_note-3\n",
      "/wiki/Sch%C3%BCttgutschiff\n",
      "/wiki/Valemax-Klasse\n",
      "/wiki/%C3%96ltanker\n",
      "/wiki/Hellespont-Alhambra-Klasse\n",
      "/wiki/Hellespont-Alhambra-Klasse\n",
      "#FNZ_Anm._1\n",
      "/wiki/Jahre_Viking\n",
      "#FNZ_Anm._2\n",
      "/wiki/Pierre_Guillaumat_(Schiff)\n",
      "/wiki/Fl%C3%BCssiggastanker\n",
      "/wiki/Nakilat_Q-Max-Klasse\n",
      "/wiki/Dockschiff\n",
      "/wiki/Boka_Vanguard\n",
      "/wiki/Schwimmkran\n",
      "/wiki/Sleipnir_(Schiff)\n",
      "/wiki/Motoryacht\n",
      "/wiki/REV_Ocean\n",
      "/wiki/Dilbar_(Schiff)\n",
      "/wiki/Schlepper_(Schiffstyp)\n",
      "/w/index.php?title=Island_Victory&action=edit&redlink=1\n",
      "/wiki/Schubboot\n",
      "/w/index.php?title=E._Bronson_Ingram&action=edit&redlink=1\n",
      "/wiki/Katamaran\n",
      "/wiki/HSS_1500\n",
      "/wiki/Seenotrettungskreuzer\n",
      "/wiki/Hermann_Marwede_(Schiff)\n",
      "/wiki/Trimaran\n",
      "/wiki/Independence_(Schiff,_2010)\n",
      "/wiki/Motorsegelschiff\n",
      "/wiki/Club_Med_2\n",
      "/wiki/Hopperbagger\n",
      "/wiki/Crist%C3%B3bal-Col%C3%B3n-Klasse\n",
      "/wiki/Segelyacht\n",
      "/wiki/SY_A\n",
      "/wiki/Arbeitsschiff\n",
      "/wiki/Pioneering_Spirit\n",
      "/wiki/Prelude_(Schiff)\n",
      "/wiki/Hospitalschiff\n",
      "/wiki/USNS_Comfort_(T-AH-20)\n"
     ]
    }
   ],
   "execution_count": 54
  },
  {
   "metadata": {
    "ExecuteTime": {
     "end_time": "2025-01-24T09:38:13.755400Z",
     "start_time": "2025-01-24T09:38:13.744699Z"
    }
   },
   "cell_type": "code",
   "source": [
    "ressource_paths = [anchor.get('href') for anchor in anchors]\n",
    "ressource_paths"
   ],
   "outputs": [
    {
     "data": {
      "text/plain": [
       "['/wiki/Kreuzfahrtschiff',\n",
       " '/wiki/Icon_of_the_Seas',\n",
       " '#cite_note-1',\n",
       " '/wiki/Segelschiff',\n",
       " '/wiki/SY_A',\n",
       " '/wiki/Frachtsegler',\n",
       " '/wiki/France_(Schiff,_1912%E2%80%931922)',\n",
       " '/wiki/Eisbrecher',\n",
       " '/wiki/Arktika_(Schiff,_2020)',\n",
       " '/wiki/Autof%C3%A4hre',\n",
       " '/wiki/Color_Magic',\n",
       " '/wiki/Cruise_Barcelona',\n",
       " '/wiki/Cruise_Roma',\n",
       " '/w/index.php?title=LNG-F%C3%A4hre&action=edit&redlink=1',\n",
       " '/wiki/Nils_Holgersson_(Schiff,_2022)',\n",
       " '/wiki/Peter_Pan_(Schiff,_2022)',\n",
       " '/wiki/Sk%C3%A5ne_(Schiff,_1998)',\n",
       " '/wiki/Mark-V-Klasse',\n",
       " '/wiki/New-Horizon-Klasse',\n",
       " '/wiki/Flugzeugtr%C3%A4ger',\n",
       " '/wiki/USS_Gerald_R._Ford_(CVN-78)',\n",
       " '/wiki/USS_Enterprise_(CVN-65)',\n",
       " '/wiki/Schlachtschiff',\n",
       " '/wiki/Yamato_(Schiff,_1941)',\n",
       " '/wiki/Musashi_(Schiff,_1942)',\n",
       " '/wiki/Unterseeboot',\n",
       " '/wiki/TK-208_Dmitri_Donskoj',\n",
       " '/wiki/Containerschiff',\n",
       " '/wiki/MSC-Irina-Typ',\n",
       " '#cite_note-2',\n",
       " '#cite_note-3',\n",
       " '/wiki/Sch%C3%BCttgutschiff',\n",
       " '/wiki/Valemax-Klasse',\n",
       " '/wiki/%C3%96ltanker',\n",
       " '/wiki/Hellespont-Alhambra-Klasse',\n",
       " '/wiki/Hellespont-Alhambra-Klasse',\n",
       " '#FNZ_Anm._1',\n",
       " '/wiki/Jahre_Viking',\n",
       " '#FNZ_Anm._2',\n",
       " '/wiki/Pierre_Guillaumat_(Schiff)',\n",
       " '/wiki/Fl%C3%BCssiggastanker',\n",
       " '/wiki/Nakilat_Q-Max-Klasse',\n",
       " '/wiki/Dockschiff',\n",
       " '/wiki/Boka_Vanguard',\n",
       " '/wiki/Schwimmkran',\n",
       " '/wiki/Sleipnir_(Schiff)',\n",
       " '/wiki/Motoryacht',\n",
       " '/wiki/REV_Ocean',\n",
       " '/wiki/Dilbar_(Schiff)',\n",
       " '/wiki/Schlepper_(Schiffstyp)',\n",
       " '/w/index.php?title=Island_Victory&action=edit&redlink=1',\n",
       " '/wiki/Schubboot',\n",
       " '/w/index.php?title=E._Bronson_Ingram&action=edit&redlink=1',\n",
       " '/wiki/Katamaran',\n",
       " '/wiki/HSS_1500',\n",
       " '/wiki/Seenotrettungskreuzer',\n",
       " '/wiki/Hermann_Marwede_(Schiff)',\n",
       " '/wiki/Trimaran',\n",
       " '/wiki/Independence_(Schiff,_2010)',\n",
       " '/wiki/Motorsegelschiff',\n",
       " '/wiki/Club_Med_2',\n",
       " '/wiki/Hopperbagger',\n",
       " '/wiki/Crist%C3%B3bal-Col%C3%B3n-Klasse',\n",
       " '/wiki/Segelyacht',\n",
       " '/wiki/SY_A',\n",
       " '/wiki/Arbeitsschiff',\n",
       " '/wiki/Pioneering_Spirit',\n",
       " '/wiki/Prelude_(Schiff)',\n",
       " '/wiki/Hospitalschiff',\n",
       " '/wiki/USNS_Comfort_(T-AH-20)']"
      ]
     },
     "execution_count": 55,
     "metadata": {},
     "output_type": "execute_result"
    }
   ],
   "execution_count": 55
  },
  {
   "metadata": {},
   "cell_type": "code",
   "source": [
    "# Das sind jetzt aber keine funktionsfähigen Links, sondern nur die Ressourcenpfade.\n",
    "# Die Basis-URL fehlt.\n",
    "# Wie kriegen wir alle diese URL-Teile als ganze URLs?"
   ],
   "outputs": [],
   "execution_count": null
  },
  {
   "metadata": {
    "ExecuteTime": {
     "end_time": "2025-01-24T09:39:29.031137Z",
     "start_time": "2025-01-24T09:39:29.024109Z"
    }
   },
   "cell_type": "code",
   "source": "base_url = 'https://de.wikipedia.org'",
   "outputs": [],
   "execution_count": 56
  },
  {
   "metadata": {
    "ExecuteTime": {
     "end_time": "2025-01-24T09:42:01.645831Z",
     "start_time": "2025-01-24T09:42:01.625746Z"
    }
   },
   "cell_type": "code",
   "source": [
    "full_urls = [base_url + ressource for ressource in ressource_paths]\n",
    "full_urls"
   ],
   "outputs": [
    {
     "data": {
      "text/plain": [
       "['https://de.wikipedia.org/wiki/Kreuzfahrtschiff',\n",
       " 'https://de.wikipedia.org/wiki/Icon_of_the_Seas',\n",
       " 'https://de.wikipedia.org#cite_note-1',\n",
       " 'https://de.wikipedia.org/wiki/Segelschiff',\n",
       " 'https://de.wikipedia.org/wiki/SY_A',\n",
       " 'https://de.wikipedia.org/wiki/Frachtsegler',\n",
       " 'https://de.wikipedia.org/wiki/France_(Schiff,_1912%E2%80%931922)',\n",
       " 'https://de.wikipedia.org/wiki/Eisbrecher',\n",
       " 'https://de.wikipedia.org/wiki/Arktika_(Schiff,_2020)',\n",
       " 'https://de.wikipedia.org/wiki/Autof%C3%A4hre',\n",
       " 'https://de.wikipedia.org/wiki/Color_Magic',\n",
       " 'https://de.wikipedia.org/wiki/Cruise_Barcelona',\n",
       " 'https://de.wikipedia.org/wiki/Cruise_Roma',\n",
       " 'https://de.wikipedia.org/w/index.php?title=LNG-F%C3%A4hre&action=edit&redlink=1',\n",
       " 'https://de.wikipedia.org/wiki/Nils_Holgersson_(Schiff,_2022)',\n",
       " 'https://de.wikipedia.org/wiki/Peter_Pan_(Schiff,_2022)',\n",
       " 'https://de.wikipedia.org/wiki/Sk%C3%A5ne_(Schiff,_1998)',\n",
       " 'https://de.wikipedia.org/wiki/Mark-V-Klasse',\n",
       " 'https://de.wikipedia.org/wiki/New-Horizon-Klasse',\n",
       " 'https://de.wikipedia.org/wiki/Flugzeugtr%C3%A4ger',\n",
       " 'https://de.wikipedia.org/wiki/USS_Gerald_R._Ford_(CVN-78)',\n",
       " 'https://de.wikipedia.org/wiki/USS_Enterprise_(CVN-65)',\n",
       " 'https://de.wikipedia.org/wiki/Schlachtschiff',\n",
       " 'https://de.wikipedia.org/wiki/Yamato_(Schiff,_1941)',\n",
       " 'https://de.wikipedia.org/wiki/Musashi_(Schiff,_1942)',\n",
       " 'https://de.wikipedia.org/wiki/Unterseeboot',\n",
       " 'https://de.wikipedia.org/wiki/TK-208_Dmitri_Donskoj',\n",
       " 'https://de.wikipedia.org/wiki/Containerschiff',\n",
       " 'https://de.wikipedia.org/wiki/MSC-Irina-Typ',\n",
       " 'https://de.wikipedia.org#cite_note-2',\n",
       " 'https://de.wikipedia.org#cite_note-3',\n",
       " 'https://de.wikipedia.org/wiki/Sch%C3%BCttgutschiff',\n",
       " 'https://de.wikipedia.org/wiki/Valemax-Klasse',\n",
       " 'https://de.wikipedia.org/wiki/%C3%96ltanker',\n",
       " 'https://de.wikipedia.org/wiki/Hellespont-Alhambra-Klasse',\n",
       " 'https://de.wikipedia.org/wiki/Hellespont-Alhambra-Klasse',\n",
       " 'https://de.wikipedia.org#FNZ_Anm._1',\n",
       " 'https://de.wikipedia.org/wiki/Jahre_Viking',\n",
       " 'https://de.wikipedia.org#FNZ_Anm._2',\n",
       " 'https://de.wikipedia.org/wiki/Pierre_Guillaumat_(Schiff)',\n",
       " 'https://de.wikipedia.org/wiki/Fl%C3%BCssiggastanker',\n",
       " 'https://de.wikipedia.org/wiki/Nakilat_Q-Max-Klasse',\n",
       " 'https://de.wikipedia.org/wiki/Dockschiff',\n",
       " 'https://de.wikipedia.org/wiki/Boka_Vanguard',\n",
       " 'https://de.wikipedia.org/wiki/Schwimmkran',\n",
       " 'https://de.wikipedia.org/wiki/Sleipnir_(Schiff)',\n",
       " 'https://de.wikipedia.org/wiki/Motoryacht',\n",
       " 'https://de.wikipedia.org/wiki/REV_Ocean',\n",
       " 'https://de.wikipedia.org/wiki/Dilbar_(Schiff)',\n",
       " 'https://de.wikipedia.org/wiki/Schlepper_(Schiffstyp)',\n",
       " 'https://de.wikipedia.org/w/index.php?title=Island_Victory&action=edit&redlink=1',\n",
       " 'https://de.wikipedia.org/wiki/Schubboot',\n",
       " 'https://de.wikipedia.org/w/index.php?title=E._Bronson_Ingram&action=edit&redlink=1',\n",
       " 'https://de.wikipedia.org/wiki/Katamaran',\n",
       " 'https://de.wikipedia.org/wiki/HSS_1500',\n",
       " 'https://de.wikipedia.org/wiki/Seenotrettungskreuzer',\n",
       " 'https://de.wikipedia.org/wiki/Hermann_Marwede_(Schiff)',\n",
       " 'https://de.wikipedia.org/wiki/Trimaran',\n",
       " 'https://de.wikipedia.org/wiki/Independence_(Schiff,_2010)',\n",
       " 'https://de.wikipedia.org/wiki/Motorsegelschiff',\n",
       " 'https://de.wikipedia.org/wiki/Club_Med_2',\n",
       " 'https://de.wikipedia.org/wiki/Hopperbagger',\n",
       " 'https://de.wikipedia.org/wiki/Crist%C3%B3bal-Col%C3%B3n-Klasse',\n",
       " 'https://de.wikipedia.org/wiki/Segelyacht',\n",
       " 'https://de.wikipedia.org/wiki/SY_A',\n",
       " 'https://de.wikipedia.org/wiki/Arbeitsschiff',\n",
       " 'https://de.wikipedia.org/wiki/Pioneering_Spirit',\n",
       " 'https://de.wikipedia.org/wiki/Prelude_(Schiff)',\n",
       " 'https://de.wikipedia.org/wiki/Hospitalschiff',\n",
       " 'https://de.wikipedia.org/wiki/USNS_Comfort_(T-AH-20)']"
      ]
     },
     "execution_count": 57,
     "metadata": {},
     "output_type": "execute_result"
    }
   ],
   "execution_count": 57
  },
  {
   "cell_type": "markdown",
   "source": [
    "### Natürlich müssen wir für unsere Suppen keine lokale HTML-Datei vorliegen haben"
   ],
   "metadata": {
    "collapsed": false
   }
  },
  {
   "cell_type": "code",
   "source": [
    "# Schiffe mit requests an Land ziehen:\n",
    "ships_url = 'https://de.wikipedia.org/wiki/Liste_der_gr%C3%B6%C3%9Ften_Schiffe_der_Welt'\n",
    "response = requests.get(ships_url)"
   ],
   "metadata": {
    "collapsed": false,
    "ExecuteTime": {
     "end_time": "2025-01-24T10:32:08.140506Z",
     "start_time": "2025-01-24T10:32:08.003658Z"
    }
   },
   "outputs": [],
   "execution_count": 68
  },
  {
   "metadata": {
    "ExecuteTime": {
     "end_time": "2025-01-24T10:32:34.191806Z",
     "start_time": "2025-01-24T10:32:34.176638Z"
    }
   },
   "cell_type": "code",
   "source": "response.text",
   "outputs": [
    {
     "data": {
      "text/plain": [
       "'<!DOCTYPE html>\\n<html class=\"client-nojs\" lang=\"de\" dir=\"ltr\">\\n<head>\\n<meta charset=\"UTF-8\">\\n<title>Liste der größten Schiffe der Welt – Wikipedia</title>\\n<script>(function(){var className=\"client-js\";var cookie=document.cookie.match(/(?:^|; )dewikimwclientpreferences=([^;]+)/);if(cookie){cookie[1].split(\\'%2C\\').forEach(function(pref){className=className.replace(new RegExp(\\'(^| )\\'+pref.replace(/-clientpref-\\\\w+$|[^\\\\w-]+/g,\\'\\')+\\'-clientpref-\\\\\\\\w+( |$)\\'),\\'$1\\'+pref+\\'$2\\');});}document.documentElement.className=className;}());RLCONF={\"wgBreakFrames\":false,\"wgSeparatorTransformTable\":[\",\\\\t.\",\".\\\\t,\"],\"wgDigitTransformTable\":[\"\",\"\"],\"wgDefaultDateFormat\":\"dmy\",\"wgMonthNames\":[\"\",\"Januar\",\"Februar\",\"März\",\"April\",\"Mai\",\"Juni\",\"Juli\",\"August\",\"September\",\"Oktober\",\"November\",\"Dezember\"],\"wgRequestId\":\"909436f0-5822-4606-87cf-4f0a5fa8153c\",\"wgCanonicalNamespace\":\"\",\"wgCanonicalSpecialPageName\":false,\"wgNamespaceNumber\":0,\"wgPageName\":\"Liste_der_größten_Schiffe_der_Welt\",\"wgTitle\":\"Liste der größten Schiffe der Welt\",\"wgCurRevisionId\":252292753,\"wgRevisionId\":251380379,\"wgArticleId\":1548947,\"wgIsArticle\":true,\"wgIsRedirect\":false,\"wgAction\":\"view\",\\n\"wgUserName\":null,\"wgUserGroups\":[\"*\"],\"wgCategories\":[\"MediaWiki:Gadget/annotationPair\",\"Liste (Schiffe)\",\"Liste (technische Rekorde)\"],\"wgPageViewLanguage\":\"de\",\"wgPageContentLanguage\":\"de\",\"wgPageContentModel\":\"wikitext\",\"wgRelevantPageName\":\"Liste_der_größten_Schiffe_der_Welt\",\"wgRelevantArticleId\":1548947,\"wgIsProbablyEditable\":true,\"wgRelevantPageIsProbablyEditable\":true,\"wgRestrictionEdit\":[],\"wgRestrictionMove\":[],\"wgNoticeProject\":\"wikipedia\",\"wgCiteReferencePreviewsActive\":true,\"wgFlaggedRevsParams\":{\"tags\":{\"accuracy\":{\"levels\":1}}},\"wgStableRevisionId\":251380379,\"wgMediaViewerOnClick\":true,\"wgMediaViewerEnabledByDefault\":true,\"wgPopupsFlags\":0,\"wgVisualEditor\":{\"pageLanguageCode\":\"de\",\"pageLanguageDir\":\"ltr\",\"pageVariantFallbacks\":\"de\"},\"wgMFDisplayWikibaseDescriptions\":{\"search\":true,\"watchlist\":true,\"tagline\":true,\"nearby\":true},\"wgWMESchemaEditAttemptStepOversample\":false,\"wgWMEPageLength\":20000,\"wgRelatedArticlesCompat\":[],\"wgEditSubmitButtonLabelPublish\":true,\\n\"wgULSPosition\":\"interlanguage\",\"wgULSisCompactLinksEnabled\":true,\"wgVector2022LanguageInHeader\":false,\"wgULSisLanguageSelectorEmpty\":false,\"wgWikibaseItemId\":\"Q1778295\",\"wgCheckUserClientHintsHeadersJsApi\":[\"brands\",\"architecture\",\"bitness\",\"fullVersionList\",\"mobile\",\"model\",\"platform\",\"platformVersion\"],\"GEHomepageSuggestedEditsEnableTopics\":true,\"wgGETopicsMatchModeEnabled\":false,\"wgGEStructuredTaskRejectionReasonTextInputEnabled\":false,\"wgGELevelingUpEnabledForUser\":false,\"wgEditLatestRevision\":true};RLSTATE={\"ext.gadget.citeRef\":\"ready\",\"ext.gadget.defaultPlainlinks\":\"ready\",\"ext.gadget.dewikiCommonHide\":\"ready\",\"ext.gadget.dewikiCommonLayout\":\"ready\",\"ext.gadget.dewikiCommonStyle\":\"ready\",\"ext.gadget.NavFrame\":\"ready\",\"ext.globalCssJs.user.styles\":\"ready\",\"site.styles\":\"ready\",\"user.styles\":\"ready\",\"ext.globalCssJs.user\":\"ready\",\"user\":\"ready\",\"user.options\":\"loading\",\"ext.cite.styles\":\"ready\",\"mediawiki.page.gallery.styles\":\"ready\",\"skins.vector.styles.legacy\":\"ready\",\\n\"jquery.tablesorter.styles\":\"ready\",\"ext.flaggedRevs.basic\":\"ready\",\"mediawiki.codex.messagebox.styles\":\"ready\",\"ext.visualEditor.desktopArticleTarget.noscript\":\"ready\",\"codex-search-styles\":\"ready\",\"ext.uls.interlanguage\":\"ready\",\"wikibase.client.init\":\"ready\",\"ext.wikimediaBadges\":\"ready\"};RLPAGEMODULES=[\"ext.cite.ux-enhancements\",\"mediawiki.page.media\",\"site\",\"mediawiki.page.ready\",\"jquery.tablesorter\",\"mediawiki.toc\",\"skins.vector.legacy.js\",\"ext.centralNotice.geoIP\",\"ext.centralNotice.startUp\",\"ext.flaggedRevs.advanced\",\"ext.gadget.createNewSection\",\"ext.gadget.WikiMiniAtlas\",\"ext.gadget.OpenStreetMap\",\"ext.gadget.CommonsDirekt\",\"ext.gadget.annotationPair\",\"ext.gadget.donateLink\",\"ext.urlShortener.toolbar\",\"ext.centralauth.centralautologin\",\"mmv.bootstrap\",\"ext.popups\",\"ext.visualEditor.desktopArticleTarget.init\",\"ext.visualEditor.targetLoader\",\"ext.echo.centralauth\",\"ext.eventLogging\",\"ext.wikimediaEvents\",\"ext.navigationTiming\",\"ext.uls.compactlinks\",\"ext.uls.interface\",\\n\"ext.cx.eventlogging.campaigns\",\"ext.checkUser.clientHints\",\"ext.growthExperiments.SuggestedEditSession\"];</script>\\n<script>(RLQ=window.RLQ||[]).push(function(){mw.loader.impl(function(){return[\"user.options@12s5i\",function($,jQuery,require,module){mw.user.tokens.set({\"patrolToken\":\"+\\\\\\\\\",\"watchToken\":\"+\\\\\\\\\",\"csrfToken\":\"+\\\\\\\\\"});\\n}];});});</script>\\n<link rel=\"stylesheet\" href=\"/w/load.php?lang=de&amp;modules=codex-search-styles%7Cext.cite.styles%7Cext.flaggedRevs.basic%7Cext.uls.interlanguage%7Cext.visualEditor.desktopArticleTarget.noscript%7Cext.wikimediaBadges%7Cjquery.tablesorter.styles%7Cmediawiki.codex.messagebox.styles%7Cmediawiki.page.gallery.styles%7Cskins.vector.styles.legacy%7Cwikibase.client.init&amp;only=styles&amp;skin=vector\">\\n<script async=\"\" src=\"/w/load.php?lang=de&amp;modules=startup&amp;only=scripts&amp;raw=1&amp;skin=vector\"></script>\\n<meta name=\"ResourceLoaderDynamicStyles\" content=\"\">\\n<link rel=\"stylesheet\" href=\"/w/load.php?lang=de&amp;modules=ext.gadget.NavFrame%2CciteRef%2CdefaultPlainlinks%2CdewikiCommonHide%2CdewikiCommonLayout%2CdewikiCommonStyle&amp;only=styles&amp;skin=vector\">\\n<link rel=\"stylesheet\" href=\"/w/load.php?lang=de&amp;modules=site.styles&amp;only=styles&amp;skin=vector\">\\n<meta name=\"generator\" content=\"MediaWiki 1.44.0-wmf.12\">\\n<meta name=\"referrer\" content=\"origin\">\\n<meta name=\"referrer\" content=\"origin-when-cross-origin\">\\n<meta name=\"robots\" content=\"max-image-preview:standard\">\\n<meta name=\"format-detection\" content=\"telephone=no\">\\n<meta property=\"og:image\" content=\"https://upload.wikimedia.org/wikipedia/commons/thumb/5/5b/Bateaux_comparaison2_with_Allure.svg/1200px-Bateaux_comparaison2_with_Allure.svg.png\">\\n<meta property=\"og:image:width\" content=\"1200\">\\n<meta property=\"og:image:height\" content=\"1130\">\\n<meta property=\"og:image\" content=\"https://upload.wikimedia.org/wikipedia/commons/thumb/5/5b/Bateaux_comparaison2_with_Allure.svg/800px-Bateaux_comparaison2_with_Allure.svg.png\">\\n<meta property=\"og:image:width\" content=\"800\">\\n<meta property=\"og:image:height\" content=\"754\">\\n<meta property=\"og:image\" content=\"https://upload.wikimedia.org/wikipedia/commons/thumb/5/5b/Bateaux_comparaison2_with_Allure.svg/640px-Bateaux_comparaison2_with_Allure.svg.png\">\\n<meta property=\"og:image:width\" content=\"640\">\\n<meta property=\"og:image:height\" content=\"603\">\\n<meta name=\"viewport\" content=\"width=1120\">\\n<meta property=\"og:title\" content=\"Liste der größten Schiffe der Welt – Wikipedia\">\\n<meta property=\"og:type\" content=\"website\">\\n<link rel=\"preconnect\" href=\"//upload.wikimedia.org\">\\n<link rel=\"alternate\" media=\"only screen and (max-width: 640px)\" href=\"//de.m.wikipedia.org/wiki/Liste_der_gr%C3%B6%C3%9Ften_Schiffe_der_Welt\">\\n<link rel=\"alternate\" type=\"application/x-wiki\" title=\"Seite bearbeiten\" href=\"/w/index.php?title=Liste_der_gr%C3%B6%C3%9Ften_Schiffe_der_Welt&amp;action=edit\">\\n<link rel=\"apple-touch-icon\" href=\"/static/apple-touch/wikipedia.png\">\\n<link rel=\"icon\" href=\"/static/favicon/wikipedia.ico\">\\n<link rel=\"search\" type=\"application/opensearchdescription+xml\" href=\"/w/rest.php/v1/search\" title=\"Wikipedia (de)\">\\n<link rel=\"EditURI\" type=\"application/rsd+xml\" href=\"//de.wikipedia.org/w/api.php?action=rsd\">\\n<link rel=\"canonical\" href=\"https://de.wikipedia.org/wiki/Liste_der_gr%C3%B6%C3%9Ften_Schiffe_der_Welt\">\\n<link rel=\"license\" href=\"https://creativecommons.org/licenses/by-sa/4.0/deed.de\">\\n<link rel=\"alternate\" type=\"application/atom+xml\" title=\"Atom-Feed für „Wikipedia“\" href=\"/w/index.php?title=Spezial:Letzte_%C3%84nderungen&amp;feed=atom\">\\n<link rel=\"dns-prefetch\" href=\"//meta.wikimedia.org\" />\\n<link rel=\"dns-prefetch\" href=\"login.wikimedia.org\">\\n</head>\\n<body class=\"skin-vector-legacy mediawiki ltr sitedir-ltr mw-hide-empty-elt ns-0 ns-subject mw-editable page-Liste_der_größten_Schiffe_der_Welt rootpage-Liste_der_größten_Schiffe_der_Welt skin-vector action-view\"><div id=\"mw-page-base\" class=\"noprint\"></div>\\n<div id=\"mw-head-base\" class=\"noprint\"></div>\\n<div id=\"content\" class=\"mw-body\" role=\"main\">\\n\\t<a id=\"top\"></a>\\n\\t<div id=\"siteNotice\"><!-- CentralNotice --></div>\\n\\t<div class=\"mw-indicators\">\\n\\t<div id=\"mw-indicator-indicator-fr-review-status\" class=\"mw-indicator\"><indicator name=\"fr-review-status\" class=\"mw-fr-review-status-indicator\" id=\"mw-fr-revision-toggle\"><span class=\"cdx-fr-css-icon-review--status--stable\"></span><b>Überprüft</b></indicator></div>\\n\\t</div>\\n\\t<h1 id=\"firstHeading\" class=\"firstHeading mw-first-heading\"><span class=\"mw-page-title-main\">Liste der größten Schiffe der Welt</span></h1>\\n\\t<div id=\"bodyContent\" class=\"vector-body\">\\n\\t\\t<div id=\"siteSub\" class=\"noprint\">aus Wikipedia, der freien Enzyklopädie</div>\\n\\t\\t<div id=\"contentSub\"><div id=\"mw-content-subtitle\"><div id=\"mw-fr-revision-messages\"><div id=\"mw-fr-revision-details\" class=\"mw-fr-revision-details-dialog\" style=\"display:none;\"><div tabindex=\"0\"></div><div class=\"cdx-dialog cdx-dialog--horizontal-actions\"><header class=\"cdx-dialog__header cdx-dialog__header--default\"><div class=\"cdx-dialog__header__title-group\"><h2 class=\"cdx-dialog__header__title\">Seitenversionsstatus</h2><p class=\"cdx-dialog__header__subtitle\">Dies ist eine gesichtete Version dieser Seite</p></div><button class=\"cdx-button cdx-button--action-default cdx-button--weight-quiet&#10;&#9;&#9;&#9;&#9;&#9;&#9;&#9;cdx-button--size-medium cdx-button--icon-only cdx-dialog__header__close-button\" aria-label=\"Schließen\" onclick=\"document.getElementById(&quot;mw-fr-revision-details&quot;).style.display = &quot;none&quot;;\" type=\"submit\"><span class=\"cdx-icon cdx-icon--medium&#10;&#9;&#9;&#9;&#9;&#9;&#9;&#9;cdx-fr-css-icon--close\"></span></button></header><div class=\"cdx-dialog__body\">Dies ist die <a href=\"/wiki/Hilfe:Gesichtete_Versionen\" title=\"Hilfe:Gesichtete Versionen\">gesichtete Version</a>, die am <i>19. Dezember 2024</i> <a class=\"external text\" href=\"https://de.wikipedia.org/w/index.php?title=Spezial:Logbuch&amp;type=review&amp;page=Liste_der_gr%C3%B6%C3%9Ften_Schiffe_der_Welt\">markiert</a> wurde.\\nEs existieren <a class=\"external text\" href=\"https://de.wikipedia.org/w/index.php?title=Liste_der_gr%C3%B6%C3%9Ften_Schiffe_der_Welt&amp;oldid=251380379&amp;diff=cur\">2 ausstehende Änderungen</a>, die noch gesichtet werden müssen.</div></div><div tabindex=\"0\"></div></div></div></div></div>\\n\\t\\t<div id=\"contentSub2\"></div>\\n\\t\\t\\n\\t\\t<div id=\"jump-to-nav\"></div>\\n\\t\\t<a class=\"mw-jump-link\" href=\"#mw-head\">Zur Navigation springen</a>\\n\\t\\t<a class=\"mw-jump-link\" href=\"#searchInput\">Zur Suche springen</a>\\n\\t\\t<div id=\"mw-content-text\" class=\"mw-body-content\"><div class=\"mw-content-ltr mw-parser-output\" lang=\"de\" dir=\"ltr\"><figure class=\"mw-default-size\" typeof=\"mw:File/Thumb\"><a href=\"/wiki/Datei:Bateaux_comparaison2_with_Allure.svg\" class=\"mw-file-description\"><img src=\"//upload.wikimedia.org/wikipedia/commons/thumb/5/5b/Bateaux_comparaison2_with_Allure.svg/220px-Bateaux_comparaison2_with_Allure.svg.png\" decoding=\"async\" width=\"220\" height=\"207\" class=\"mw-file-element\" srcset=\"//upload.wikimedia.org/wikipedia/commons/thumb/5/5b/Bateaux_comparaison2_with_Allure.svg/330px-Bateaux_comparaison2_with_Allure.svg.png 1.5x, //upload.wikimedia.org/wikipedia/commons/thumb/5/5b/Bateaux_comparaison2_with_Allure.svg/440px-Bateaux_comparaison2_with_Allure.svg.png 2x\" data-file-width=\"1380\" data-file-height=\"1300\" /></a><figcaption>Größenvergleich einiger der größten Schiffe</figcaption></figure>\\n<figure class=\"mw-default-size\" typeof=\"mw:File/Thumb\"><a href=\"/w/index.php?title=Datei:Queen_Mary_2-Titanic.svg&amp;lang=de\" class=\"mw-file-description\"><img src=\"//upload.wikimedia.org/wikipedia/commons/thumb/d/d4/Queen_Mary_2-Titanic.svg/langde-220px-Queen_Mary_2-Titanic.svg.png\" decoding=\"async\" width=\"220\" height=\"70\" class=\"mw-file-element\" srcset=\"//upload.wikimedia.org/wikipedia/commons/thumb/d/d4/Queen_Mary_2-Titanic.svg/langde-330px-Queen_Mary_2-Titanic.svg.png 1.5x, //upload.wikimedia.org/wikipedia/commons/thumb/d/d4/Queen_Mary_2-Titanic.svg/langde-440px-Queen_Mary_2-Titanic.svg.png 2x\" data-file-width=\"4042\" data-file-height=\"1280\" /></a><figcaption>Die <i><a href=\"/wiki/Queen_Mary_2\" title=\"Queen Mary 2\">Queen Mary 2</a></i> im Größenvergleich zur <i><a href=\"/wiki/Titanic_(Schiff)\" title=\"Titanic (Schiff)\">Titanic</a></i> und zum <a href=\"/wiki/Airbus_A380\" title=\"Airbus A380\">Airbus A380</a></figcaption></figure>\\n<figure class=\"mw-default-size\" typeof=\"mw:File/Thumb\"><a href=\"/wiki/Datei:Hellespont_Alhambra-223713_v2.jpg\" class=\"mw-file-description\"><img src=\"//upload.wikimedia.org/wikipedia/commons/thumb/8/82/Hellespont_Alhambra-223713_v2.jpg/220px-Hellespont_Alhambra-223713_v2.jpg\" decoding=\"async\" width=\"220\" height=\"178\" class=\"mw-file-element\" srcset=\"//upload.wikimedia.org/wikipedia/commons/thumb/8/82/Hellespont_Alhambra-223713_v2.jpg/330px-Hellespont_Alhambra-223713_v2.jpg 1.5x, //upload.wikimedia.org/wikipedia/commons/thumb/8/82/Hellespont_Alhambra-223713_v2.jpg/440px-Hellespont_Alhambra-223713_v2.jpg 2x\" data-file-width=\"973\" data-file-height=\"787\" /></a><figcaption>Die spätere <i><a href=\"/wiki/TI_Asia\" class=\"mw-redirect\" title=\"TI Asia\">TI Asia</a></i>, Typschiff der größten Tanker der Erde</figcaption></figure>\\n<p>In diesem Artikel sind die größten und längsten bisher gebauten <a href=\"/wiki/Schiff\" title=\"Schiff\">Schiffe</a> der Welt aufgelistet.\\n</p>\\n<div id=\"toc\" class=\"toc\" role=\"navigation\" aria-labelledby=\"mw-toc-heading\"><input type=\"checkbox\" role=\"button\" id=\"toctogglecheckbox\" class=\"toctogglecheckbox\" style=\"display:none\" /><div class=\"toctitle\" lang=\"de\" dir=\"ltr\"><h2 id=\"mw-toc-heading\">Inhaltsverzeichnis</h2><span class=\"toctogglespan\"><label class=\"toctogglelabel\" for=\"toctogglecheckbox\"></label></span></div>\\n<ul>\\n<li class=\"toclevel-1 tocsection-1\"><a href=\"#Die_größten_Schiffe_nach_Art\"><span class=\"tocnumber\">1</span> <span class=\"toctext\">Die größten Schiffe nach Art</span></a></li>\\n<li class=\"toclevel-1 tocsection-2\"><a href=\"#Schiffe_mit_herausragenden_Abmessungen\"><span class=\"tocnumber\">2</span> <span class=\"toctext\">Schiffe mit herausragenden Abmessungen</span></a></li>\\n<li class=\"toclevel-1 tocsection-3\"><a href=\"#Siehe_auch\"><span class=\"tocnumber\">3</span> <span class=\"toctext\">Siehe auch</span></a></li>\\n<li class=\"toclevel-1 tocsection-4\"><a href=\"#Literatur\"><span class=\"tocnumber\">4</span> <span class=\"toctext\">Literatur</span></a></li>\\n<li class=\"toclevel-1 tocsection-5\"><a href=\"#Anmerkung_und_Einzelnachweise\"><span class=\"tocnumber\">5</span> <span class=\"toctext\">Anmerkung und Einzelnachweise</span></a></li>\\n</ul>\\n</div>\\n\\n<div class=\"mw-heading mw-heading2\"><h2 id=\"Die_größten_Schiffe_nach_Art\"><span id=\"Die_gr.C3.B6.C3.9Ften_Schiffe_nach_Art\"></span>Die größten Schiffe nach Art</h2><span class=\"mw-editsection\"><span class=\"mw-editsection-bracket\">[</span><a href=\"/w/index.php?title=Liste_der_gr%C3%B6%C3%9Ften_Schiffe_der_Welt&amp;veaction=edit&amp;section=1\" title=\"Abschnitt bearbeiten: Die größten Schiffe nach Art\" class=\"mw-editsection-visualeditor\"><span>Bearbeiten</span></a><span class=\"mw-editsection-divider\"> | </span><a href=\"/w/index.php?title=Liste_der_gr%C3%B6%C3%9Ften_Schiffe_der_Welt&amp;action=edit&amp;section=1\" title=\"Quellcode des Abschnitts bearbeiten: Die größten Schiffe nach Art\"><span>Quelltext bearbeiten</span></a><span class=\"mw-editsection-bracket\">]</span></span></div>\\n<table class=\"wikitable sortable zebra\">\\n<caption>Größte und längste Schiffe ihrer Art\\n</caption>\\n<tbody><tr>\\n<th>Kategorie</th>\\n<th>Schiffsname\\n</th></tr>\\n<tr>\\n<td><a href=\"/wiki/Kreuzfahrtschiff\" title=\"Kreuzfahrtschiff\">Kreuzfahrtschiff</a></td>\\n<td><i><a href=\"/wiki/Icon_of_the_Seas\" title=\"Icon of the Seas\">Icon of the Seas</a><sup id=\"cite_ref-1\" class=\"reference\"><a href=\"#cite_note-1\"><span class=\"cite-bracket\">&#91;</span>1<span class=\"cite-bracket\">&#93;</span></a></sup></i>\\n</td></tr>\\n<tr>\\n<td><a href=\"/wiki/Segelschiff\" title=\"Segelschiff\">Segelschiff</a></td>\\n<td><i><a href=\"/wiki/SY_A\" title=\"SY A\">SY A</a></i>\\n</td></tr>\\n<tr>\\n<td><a href=\"/wiki/Frachtsegler\" title=\"Frachtsegler\">Frachtsegler</a></td>\\n<td><i><a href=\"/wiki/France_(Schiff,_1912%E2%80%931922)\" title=\"France (Schiff, 1912–1922)\">France</a></i> (nach Größe [BRT])<i>, <a href=\"/wiki/Preu%C3%9Fen_(Schiff,_1902)\" title=\"Preußen (Schiff, 1902)\">Preußen</a></i> (nach Länge)\\n</td></tr>\\n<tr>\\n<td><a href=\"/wiki/Eisbrecher\" title=\"Eisbrecher\">Eisbrecher</a></td>\\n<td><a href=\"/wiki/Arktika_(Schiff,_2020)\" class=\"mw-redirect\" title=\"Arktika (Schiff, 2020)\"><i>Arktika</i></a>\\n</td></tr>\\n<tr>\\n<td><a href=\"/wiki/Autof%C3%A4hre\" title=\"Autofähre\">Autofähre</a></td>\\n<td><i><a href=\"/wiki/Color_Magic\" title=\"Color Magic\">Color Magic</a></i> (nach Größe [BRZ]); <i><a href=\"/wiki/Cruise_Barcelona\" title=\"Cruise Barcelona\">Cruise Barcelona</a></i> und <i><a href=\"/wiki/Cruise_Roma\" title=\"Cruise Roma\">Cruise Roma</a></i> (nach Länge)\\n</td></tr>\\n<tr>\\n<td>LNG-Fähre</td>\\n<td><i><a href=\"/wiki/Nils_Holgersson_(Schiff,_2022)\" title=\"Nils Holgersson (Schiff, 2022)\">Nils Holgerson</a>, <a href=\"/wiki/Peter_Pan_(Schiff,_2022)\" title=\"Peter Pan (Schiff, 2022)\">Peter Pan</a></i>\\n</td></tr>\\n<tr>\\n<td>Kombifähre (Eisenbahn/RoRo)</td>\\n<td><i><a href=\"/wiki/Sk%C3%A5ne_(Schiff,_1998)\" title=\"Skåne (Schiff, 1998)\">Skåne</a></i>\\n</td></tr>\\n<tr>\\n<td><a href=\"/wiki/Autotransporter_(Schiffstyp)\" title=\"Autotransporter (Schiffstyp)\">Autotransporter</a></td>\\n<td><a href=\"/wiki/Mark-V-Klasse\" title=\"Mark-V-Klasse\">Mark-V-Klasse</a> (nach Länge und Tragfähigkeit); <a href=\"/wiki/Aurora-Klasse_(2024)\" title=\"Aurora-Klasse (2024)\">Aurora-Klasse</a> (nach Vermessung und Fahrzeugkapazität)<sup id=\"cite_ref-2\" class=\"reference\"><a href=\"#cite_note-2\"><span class=\"cite-bracket\">&#91;</span>2<span class=\"cite-bracket\">&#93;</span></a></sup>\\n</td></tr>\\n<tr>\\n<td><a href=\"/wiki/Flugzeugtr%C3%A4ger\" title=\"Flugzeugträger\">Flugzeugträger</a></td>\\n<td><a href=\"/wiki/Gerald_R._Ford_(Schiff)\" title=\"Gerald R. Ford (Schiff)\">USS <i>Gerald R. Ford</i> (CVN-78)</a> (nach Tonnage); <a href=\"/w/index.php?title=USS_Enterprise_(CVN-65)&amp;action=edit&amp;redlink=1\" class=\"new\" title=\"USS Enterprise (CVN-65) (Seite nicht vorhanden)\">USS <i>Enterprise</i> (CVN-65)</a> (nach Länge)\\n</td></tr>\\n<tr>\\n<td><a href=\"/wiki/Schlachtschiff\" title=\"Schlachtschiff\">Schlachtschiff</a></td>\\n<td><a href=\"/wiki/Yamato_(Schiff,_1941)\" title=\"Yamato (Schiff, 1941)\"><i>Yamato</i></a> und <a href=\"/wiki/Musashi_(Schiff,_1942)\" title=\"Musashi (Schiff, 1942)\"><i>Musashi</i></a>\\n</td></tr>\\n<tr>\\n<td><a href=\"/wiki/Unterseeboot\" class=\"mw-redirect\" title=\"Unterseeboot\">Unterseeboot</a></td>\\n<td><a href=\"/wiki/TK-208_Dmitri_Donskoj\" title=\"TK-208 Dmitri Donskoj\"><i>Dmitri Donskoi</i> (TK-208)</a>\\n</td></tr>\\n<tr>\\n<td><a href=\"/wiki/Containerschiff\" title=\"Containerschiff\">Containerschiff</a></td>\\n<td><a href=\"/wiki/MSC-Irina-Typ\" title=\"MSC-Irina-Typ\"><i>MSC Irina</i></a><sup id=\"cite_ref-3\" class=\"reference\"><a href=\"#cite_note-3\"><span class=\"cite-bracket\">&#91;</span>3<span class=\"cite-bracket\">&#93;</span></a></sup><sup id=\"cite_ref-4\" class=\"reference\"><a href=\"#cite_note-4\"><span class=\"cite-bracket\">&#91;</span>4<span class=\"cite-bracket\">&#93;</span></a></sup>\\n</td></tr>\\n<tr>\\n<td><a href=\"/wiki/Sch%C3%BCttgutschiff\" class=\"mw-redirect\" title=\"Schüttgutschiff\">Schüttgutschiff</a></td>\\n<td><i><a href=\"/wiki/Valemax-Klasse\" title=\"Valemax-Klasse\">Yuan He Hai</a></i> (Valemax-Klasse)\\n</td></tr>\\n<tr>\\n<td><a href=\"/wiki/%C3%96ltanker\" class=\"mw-redirect\" title=\"Öltanker\">Öltanker</a> (doppelwandig)</td>\\n<td><i><a href=\"/wiki/Hellespont-Alhambra-Klasse\" title=\"Hellespont-Alhambra-Klasse\">TI Europe</a></i>, <i><a href=\"/wiki/Hellespont-Alhambra-Klasse\" title=\"Hellespont-Alhambra-Klasse\">TI Oceania</a></i> <style data-mw-deduplicate=\"TemplateStyles:r247957335\">.mw-parser-output .fussnoten-marke{font-size:0.75rem;font-style:normal;font-variant:normal;font-weight:normal;unicode-bidi:isolate;white-space:nowrap}.mw-parser-output .fussnoten-marke.reference,.mw-parser-output span.fussnoten-inhalt{padding-left:0.1rem}.mw-parser-output .fussnoten-marke.reference~.fussnoten-marke.reference,.mw-parser-output span.fussnoten-inhalt~span.fussnoten-inhalt{padding-left:0.15rem}.mw-parser-output .fussnoten-block{margin-bottom:0.1rem}.mw-parser-output div.fussnoten-inhalt{display:inline-block;padding-left:0.8rem;text-indent:-0.8rem}.mw-parser-output div.fussnoten-inhalt p,.mw-parser-output div.fussnoten-inhalt dl,.mw-parser-output div.fussnoten-inhalt ol,.mw-parser-output div.fussnoten-inhalt ul{text-indent:0}.mw-parser-output div.fussnoten-inhalt.fussnoten-floatfix{display:block}.mw-parser-output .fussnoten-box{margin-top:0.5rem;padding-left:0.8rem}.mw-parser-output .fussnoten-box,.mw-parser-output div.fussnoten-inhalt{font-size:94%}.mw-parser-output .fussnoten-box div.fussnoten-inhalt,.mw-parser-output span.fussnoten-inhalt,.mw-parser-output .fussnoten-inhalt .reference-text{font-size:inherit}.mw-parser-output .fussnoten-inhalt .reference-text{display:inline}.mw-parser-output .fussnoten-linie{display:inline-block;position:relative;top:-1em;border-top:solid 1px #808080;width:8rem}.mw-parser-output .fussnoten-linie+p,.mw-parser-output .fussnoten-linie+dl,.mw-parser-output .fussnoten-linie+ol,.mw-parser-output .fussnoten-linie+ul,.mw-parser-output .fussnoten-linie+link+div{margin-top:-1em}.mw-parser-output .fussnoten-marke.reference:target,.mw-parser-output .fussnoten-inhalt:target{background-color:#eaf3ff;box-shadow:0 0 0 0.25em #eaf3ff}.mw-parser-output .fussnoten-marke.reference:target,.mw-parser-output .fussnoten-inhalt:target .fussnoten-marke{font-weight:bold}</style>&#160;<span class=\"reference\"><sup class=\"fussnoten-marke\" data-annotationpair-m=\"Anm._1\">Anm. 1</sup></span>\\n</td></tr>\\n<tr>\\n<td>Öltanker (einwandig)</td>\\n<td><i><a href=\"/wiki/Jahre_Viking\" title=\"Jahre Viking\">Jahre Viking</a></i> <link rel=\"mw-deduplicated-inline-style\" href=\"mw-data:TemplateStyles:r247957335\">&#160;<span class=\"reference\"><sup class=\"fussnoten-marke\" data-annotationpair-m=\"Anm._2\">Anm. 2</sup></span>; <i><a href=\"/wiki/Pierre_Guillaumat_(Schiff)\" title=\"Pierre Guillaumat (Schiff)\">Pierre Guillaumat</a></i>\\n</td></tr>\\n<tr>\\n<td><a href=\"/wiki/Fl%C3%BCssiggastanker\" class=\"mw-redirect\" title=\"Flüssiggastanker\">Flüssiggastanker</a></td>\\n<td><i><a href=\"/wiki/Nakilat_Q-Max-Klasse\" title=\"Nakilat Q-Max-Klasse\">Mozah</a></i>\\n</td></tr>\\n<tr>\\n<td><a href=\"/wiki/Dockschiff\" title=\"Dockschiff\">Dockschiff</a></td>\\n<td><i><a href=\"/wiki/Boka_Vanguard\" title=\"Boka Vanguard\">Boka Vanguard</a></i>\\n</td></tr>\\n<tr>\\n<td><a href=\"/wiki/Schwimmkran\" title=\"Schwimmkran\">Schwimmkran</a></td>\\n<td><a href=\"/wiki/Sleipnir_(Schiff)\" title=\"Sleipnir (Schiff)\"><i>Sleipnir</i></a>\\n</td></tr>\\n<tr>\\n<td><a href=\"/wiki/Motoryacht\" class=\"mw-redirect\" title=\"Motoryacht\">Motoryacht</a></td>\\n<td><i><a href=\"/wiki/REV_Ocean\" title=\"REV Ocean\">REV Ocean</a></i> (nach Länge); <i><a href=\"/wiki/Dilbar_(Schiff)\" title=\"Dilbar (Schiff)\">Dilbar</a></i> (nach Größe (BRZ))\\n</td></tr>\\n<tr>\\n<td><a href=\"/wiki/Schlepper_(Schiffstyp)\" title=\"Schlepper (Schiffstyp)\">Schlepper</a></td>\\n<td><i><a href=\"/wiki/Island_Victory\" title=\"Island Victory\">Island Victory</a></i>\\n</td></tr>\\n<tr>\\n<td><a href=\"/wiki/Schubboot\" title=\"Schubboot\">Schubboot</a></td>\\n<td><i><a href=\"/wiki/E._Bronson_Ingram\" title=\"E. Bronson Ingram\">E. Bronson Ingram</a></i>\\n</td></tr>\\n<tr>\\n<td><a href=\"/wiki/Katamaran\" title=\"Katamaran\">Katamaran</a></td>\\n<td><a href=\"/wiki/HSS_1500\" class=\"mw-redirect\" title=\"HSS 1500\"><i>Stena Explorer</i></a>\\n</td></tr>\\n<tr>\\n<td><a href=\"/wiki/Seenotrettungskreuzer\" title=\"Seenotrettungskreuzer\">Seenotrettungskreuzer</a></td>\\n<td><a href=\"/wiki/Hermann_Marwede_(Schiff)\" title=\"Hermann Marwede (Schiff)\"><i>Hermann Marwede</i></a>\\n</td></tr>\\n<tr>\\n<td><a href=\"/wiki/Trimaran\" title=\"Trimaran\">Trimaran</a></td>\\n<td><a href=\"/wiki/Independence_(Schiff,_2010)\" title=\"Independence (Schiff, 2010)\">USS <i>Independence</i> (LCS-2)</a>\\n</td></tr>\\n<tr>\\n<td><a href=\"/wiki/Motorsegelschiff\" class=\"mw-redirect\" title=\"Motorsegelschiff\">Motorsegelschiff</a></td>\\n<td><i><a href=\"/wiki/Club_Med_2\" title=\"Club Med 2\">Club Med 2</a></i>\\n</td></tr>\\n<tr>\\n<td><a href=\"/wiki/Hopperbagger\" title=\"Hopperbagger\">Hopperbagger</a></td>\\n<td><a href=\"/wiki/Crist%C3%B3bal-Col%C3%B3n-Klasse\" title=\"Cristóbal-Colón-Klasse\"><i>Cristóbal-Colón</i>-Klasse</a>\\n</td></tr>\\n<tr>\\n<td><a href=\"/wiki/Segelyacht\" class=\"mw-redirect\" title=\"Segelyacht\">Segelyacht</a></td>\\n<td><i><a href=\"/wiki/SY_A\" title=\"SY A\">SY A</a></i>\\n</td></tr>\\n<tr>\\n<td><a href=\"/wiki/Arbeitsschiff\" title=\"Arbeitsschiff\">Arbeitsschiff</a></td>\\n<td><i><a href=\"/wiki/Pioneering_Spirit\" title=\"Pioneering Spirit\">Pioneering Spirit</a></i>\\n</td></tr>\\n<tr>\\n<td>Schwimmende Erdöl-/Erdgas-Förderanlagen und Verflüssigungsanlagen (FPSO / FLNG)</td>\\n<td><i><a href=\"/wiki/Prelude_(Schiff)\" title=\"Prelude (Schiff)\">Prelude</a></i>\\n</td></tr>\\n<tr>\\n<td><a href=\"/wiki/Hospitalschiff\" title=\"Hospitalschiff\">Hospitalschiff</a></td>\\n<td><i><a href=\"/wiki/USNS_Comfort_(T-AH-20)\" title=\"USNS Comfort (T-AH-20)\">USNS Comfort</a></i>\\n</td></tr></tbody></table>\\n<link rel=\"mw-deduplicated-inline-style\" href=\"mw-data:TemplateStyles:r247957335\"><div class=\"fussnoten-box\">\\n<div class=\"fussnoten-linie\" aria-hidden=\"true\" role=\"presentation\"></div>\\n<p><br />\\n</p>\\n<link rel=\"mw-deduplicated-inline-style\" href=\"mw-data:TemplateStyles:r247957335\"><div class=\"fussnoten-block\"><div class=\"fussnoten-inhalt references\"><sup class=\"fussnoten-marke mw-cite-backlink\" data-annotationpair-a=\"Anm._1\">Anm. 1</sup>&#160;<div class=\"reference-text\">Die <i>TI Europe</i> und ihr Schwesterschiff, die <i>TI Oceania</i>, sind die größten <a href=\"/wiki/Doppelh%C3%BCllenschiff\" title=\"Doppelhüllenschiff\">Doppelhüllentanker</a> der Welt. Zwei weitere Schwesterschiffe, die <i>TI Asia</i> und die <i>TI Africa</i>, wurden zu stationären Offshore-Plattformen umgebaut.</div></div></div>\\n<link rel=\"mw-deduplicated-inline-style\" href=\"mw-data:TemplateStyles:r247957335\"><div class=\"fussnoten-block\"><div class=\"fussnoten-inhalt references\"><sup class=\"fussnoten-marke mw-cite-backlink\" data-annotationpair-a=\"Anm._2\">Anm. 2</sup>&#160;<div class=\"reference-text\">Der Öltanker <i>Jahre Viking</i> war ehemals das größte und längste Schiff der Welt, er wurde später zu einer <a href=\"/wiki/Floating_Production_Storage_and_Offloading_Unit\" title=\"Floating Production Storage and Offloading Unit\">FSO</a>, einer stationären <a href=\"/wiki/Offshorebauwerk\" title=\"Offshorebauwerk\">Offshore-Plattform</a>, umgebaut und erhielt den Namen <i>Knock Nevis</i>. Die <i>Pierre Guillaumat</i> war der größte in einem Stück gebaute Tanker.</div></div></div>\\n<p><br />\\n</p>\\n</div>\\n<p>Nach dem Abwracken der <i>Jahre Viking</i> und den 4 Schiffen der <a href=\"/wiki/Batillus-Klasse\" title=\"Batillus-Klasse\"><i>Batillus</i>-Klasse</a> waren die Containerschiffe der <a href=\"/wiki/Emma-M%C3%A6rsk-Klasse\" title=\"Emma-Mærsk-Klasse\"><i>Emma-Mærsk</i>-Klasse</a> bis 2013 die längsten Schiffe der Welt.\\n</p><p>Nach <a href=\"/wiki/Schiffsma%C3%9Fe#Brutto-_und_Nettoraumzahl_(BRZ,_NRZ)\" title=\"Schiffsmaße\">Bruttoraumzahl</a> (BRZ) ist der <a href=\"/wiki/Rohrleger\" title=\"Rohrleger\">Rohrleger</a> <i><a href=\"/wiki/Pioneering_Spirit\" title=\"Pioneering Spirit\">Pioneering Spirit</a></i> das größte Schiff der Welt.\\n</p>\\n<ul class=\"gallery mw-gallery-traditional\">\\n\\t\\t<li class=\"gallerybox\" style=\"width: 155px\">\\n\\t\\t\\t<div class=\"thumb\" style=\"width: 150px; height: 150px;\"><span typeof=\"mw:File\"><a href=\"/wiki/Datei:Freedom-of-the-Seas--in-Hamburg.jpg\" class=\"mw-file-description\" title=\"Freedom of the Seas\"><img alt=\"Freedom of the Seas\" src=\"//upload.wikimedia.org/wikipedia/commons/thumb/0/02/Freedom-of-the-Seas--in-Hamburg.jpg/120px-Freedom-of-the-Seas--in-Hamburg.jpg\" decoding=\"async\" width=\"120\" height=\"80\" class=\"mw-file-element\" srcset=\"//upload.wikimedia.org/wikipedia/commons/thumb/0/02/Freedom-of-the-Seas--in-Hamburg.jpg/180px-Freedom-of-the-Seas--in-Hamburg.jpg 1.5x, //upload.wikimedia.org/wikipedia/commons/thumb/0/02/Freedom-of-the-Seas--in-Hamburg.jpg/240px-Freedom-of-the-Seas--in-Hamburg.jpg 2x\" data-file-width=\"1800\" data-file-height=\"1200\" /></a></span></div>\\n\\t\\t\\t<div class=\"gallerytext\"><i><a href=\"/wiki/Freedom_of_the_Seas\" title=\"Freedom of the Seas\">Freedom of the Seas</a></i></div>\\n\\t\\t</li>\\n\\t\\t<li class=\"gallerybox\" style=\"width: 155px\">\\n\\t\\t\\t<div class=\"thumb\" style=\"width: 150px; height: 150px;\"><span typeof=\"mw:File\"><a href=\"/wiki/Datei:Royal_clipper.jpg\" class=\"mw-file-description\" title=\"Royal Clipper\"><img alt=\"Royal Clipper\" src=\"//upload.wikimedia.org/wikipedia/commons/thumb/b/be/Royal_clipper.jpg/120px-Royal_clipper.jpg\" decoding=\"async\" width=\"120\" height=\"69\" class=\"mw-file-element\" srcset=\"//upload.wikimedia.org/wikipedia/commons/thumb/b/be/Royal_clipper.jpg/180px-Royal_clipper.jpg 1.5x, //upload.wikimedia.org/wikipedia/commons/thumb/b/be/Royal_clipper.jpg/240px-Royal_clipper.jpg 2x\" data-file-width=\"1614\" data-file-height=\"927\" /></a></span></div>\\n\\t\\t\\t<div class=\"gallerytext\"><i><a href=\"/wiki/Royal_Clipper\" title=\"Royal Clipper\">Royal Clipper</a></i></div>\\n\\t\\t</li>\\n\\t\\t<li class=\"gallerybox\" style=\"width: 155px\">\\n\\t\\t\\t<div class=\"thumb\" style=\"width: 150px; height: 150px;\"><span typeof=\"mw:File\"><a href=\"/wiki/Datei:Queen_Mary_2_02_KMJ.jpg\" class=\"mw-file-description\" title=\"Queen Mary 2\"><img alt=\"Queen Mary 2\" src=\"//upload.wikimedia.org/wikipedia/commons/thumb/4/4d/Queen_Mary_2_02_KMJ.jpg/120px-Queen_Mary_2_02_KMJ.jpg\" decoding=\"async\" width=\"120\" height=\"54\" class=\"mw-file-element\" srcset=\"//upload.wikimedia.org/wikipedia/commons/thumb/4/4d/Queen_Mary_2_02_KMJ.jpg/180px-Queen_Mary_2_02_KMJ.jpg 1.5x, //upload.wikimedia.org/wikipedia/commons/thumb/4/4d/Queen_Mary_2_02_KMJ.jpg/240px-Queen_Mary_2_02_KMJ.jpg 2x\" data-file-width=\"768\" data-file-height=\"343\" /></a></span></div>\\n\\t\\t\\t<div class=\"gallerytext\"><i><a href=\"/wiki/Queen_Mary_2\" title=\"Queen Mary 2\">Queen Mary 2</a></i></div>\\n\\t\\t</li>\\n\\t\\t<li class=\"gallerybox\" style=\"width: 155px\">\\n\\t\\t\\t<div class=\"thumb\" style=\"width: 150px; height: 150px;\"><span typeof=\"mw:File\"><a href=\"/wiki/Datei:Stena_Hollandica_at_Hoek_van_Holland_Haven_aerial_photo.jpg\" class=\"mw-file-description\" title=\"Stena Hollandica\"><img alt=\"Stena Hollandica\" src=\"//upload.wikimedia.org/wikipedia/commons/thumb/c/c9/Stena_Hollandica_at_Hoek_van_Holland_Haven_aerial_photo.jpg/120px-Stena_Hollandica_at_Hoek_van_Holland_Haven_aerial_photo.jpg\" decoding=\"async\" width=\"120\" height=\"80\" class=\"mw-file-element\" srcset=\"//upload.wikimedia.org/wikipedia/commons/thumb/c/c9/Stena_Hollandica_at_Hoek_van_Holland_Haven_aerial_photo.jpg/180px-Stena_Hollandica_at_Hoek_van_Holland_Haven_aerial_photo.jpg 1.5x, //upload.wikimedia.org/wikipedia/commons/thumb/c/c9/Stena_Hollandica_at_Hoek_van_Holland_Haven_aerial_photo.jpg/240px-Stena_Hollandica_at_Hoek_van_Holland_Haven_aerial_photo.jpg 2x\" data-file-width=\"3882\" data-file-height=\"2588\" /></a></span></div>\\n\\t\\t\\t<div class=\"gallerytext\"><i><a href=\"/wiki/RoPax_55\" title=\"RoPax 55\">Stena Hollandica</a></i></div>\\n\\t\\t</li>\\n\\t\\t<li class=\"gallerybox\" style=\"width: 155px\">\\n\\t\\t\\t<div class=\"thumb\" style=\"width: 150px; height: 150px;\"><span typeof=\"mw:File\"><a href=\"/wiki/Datei:White_Pearl_A_Seite.JPG\" class=\"mw-file-description\" title=\"SY A\"><img alt=\"SY A\" src=\"//upload.wikimedia.org/wikipedia/commons/thumb/e/ef/White_Pearl_A_Seite.JPG/120px-White_Pearl_A_Seite.JPG\" decoding=\"async\" width=\"120\" height=\"101\" class=\"mw-file-element\" srcset=\"//upload.wikimedia.org/wikipedia/commons/thumb/e/ef/White_Pearl_A_Seite.JPG/180px-White_Pearl_A_Seite.JPG 1.5x, //upload.wikimedia.org/wikipedia/commons/thumb/e/ef/White_Pearl_A_Seite.JPG/240px-White_Pearl_A_Seite.JPG 2x\" data-file-width=\"1600\" data-file-height=\"1350\" /></a></span></div>\\n\\t\\t\\t<div class=\"gallerytext\"><i><a href=\"/wiki/SY_A\" title=\"SY A\">SY A</a></i></div>\\n\\t\\t</li>\\n</ul>\\n<div class=\"mw-heading mw-heading2\"><h2 id=\"Schiffe_mit_herausragenden_Abmessungen\">Schiffe mit herausragenden Abmessungen</h2><span class=\"mw-editsection\"><span class=\"mw-editsection-bracket\">[</span><a href=\"/w/index.php?title=Liste_der_gr%C3%B6%C3%9Ften_Schiffe_der_Welt&amp;veaction=edit&amp;section=2\" title=\"Abschnitt bearbeiten: Schiffe mit herausragenden Abmessungen\" class=\"mw-editsection-visualeditor\"><span>Bearbeiten</span></a><span class=\"mw-editsection-divider\"> | </span><a href=\"/w/index.php?title=Liste_der_gr%C3%B6%C3%9Ften_Schiffe_der_Welt&amp;action=edit&amp;section=2\" title=\"Quellcode des Abschnitts bearbeiten: Schiffe mit herausragenden Abmessungen\"><span>Quelltext bearbeiten</span></a><span class=\"mw-editsection-bracket\">]</span></span></div>\\n<p>Eine Auswahl von zum Teil historischen Schiffen, die (zu ihrer Zeit) zu den größten Schiffen ihrer Art gehören bzw. gehörten. Die Schiffe sind in der Tabelle nach ihrer Länge sortiert, können aber durch die schwarzen Doppeldreiecke auf grauem Grund neben der Spaltenüberschrift nach jeder beliebigen Kategorie sortiert werden.\\n</p>\\n<style data-mw-deduplicate=\"TemplateStyles:r249638868\">.mw-parser-output table.wikitable.tabelle-zeile-aktiv tr:hover td,.mw-parser-output table.wikitable.mw-datatable tr:hover td{background-color:#eaf3ff}@media screen{html.skin-theme-clientpref-night .mw-parser-output table.wikitable.tabelle-zeile-aktiv tr:hover td,html.skin-theme-clientpref-night .mw-parser-output table.wikitable.mw-datatable tr:hover td{background-color:#404142;color:var(--color-base,#eaecf0)}}@media screen and (prefers-color-scheme:dark){html.skin-theme-clientpref-os .mw-parser-output table.wikitable.tabelle-zeile-aktiv tr:hover td,html.skin-theme-clientpref-os .mw-parser-output table.wikitable.mw-datatable tr:hover td{background-color:#404142;color:var(--color-base,#eaecf0)}}@media screen and (min-width:721px){.mw-parser-output table.wikitable.tabelle-kopf-fixiert th,.mw-parser-output table.wikitable.tabelle-kopf-fixiert tr.tabelle-zaehler-kopf::before{position:sticky;top:0;z-index:12}.mw-parser-output table.wikitable.tabelle-kopf-fixiert{border-collapse:separate;border-spacing:0;border-bottom-style:none;border-left-style:none}.mw-parser-output table.wikitable.tabelle-kopf-fixiert th,.mw-parser-output table.wikitable.tabelle-kopf-fixiert td{border-right-style:none;border-top-style:none}}.mw-parser-output table.wikitable.tabelle-zaehler{counter-reset:tabZaehler}.mw-parser-output table.wikitable.tabelle-zaehler tr::before{display:table-cell;padding-right:0.5em;padding-left:0.5em;text-align:right;vertical-align:inherit;background-color:var(--dewiki-hintergrundfarbe5);content:\"\"}.mw-parser-output table.wikitable.tabelle-zaehler:not(.tabelle-kopf-fixiert) tr:not(.tabelle-zaehler-kein)::before{border-top:1px solid #a2a9b1}.mw-parser-output table.wikitable.tabelle-zaehler.tabelle-kopf-fixiert tr:not(.tabelle-zaehler-kein)::before{border-left:1px solid #a2a9b1;border-bottom:1px solid #a2a9b1}.mw-parser-output table.wikitable.tabelle-zaehler:not(.sortable) tbody tr:not(:first-child):not(.tabelle-zaehler-auslassen):not(.tabelle-zaehler-kein),.mw-parser-output table.wikitable.tabelle-zaehler.sortable tbody tr:not(.tabelle-zaehler-auslassen):not(.tabelle-zaehler-kein){counter-increment:tabZaehler}.mw-parser-output table.wikitable.tabelle-zaehler:not(.sortable) tbody tr:not(:first-child):not(.tabelle-zaehler-versteckt):not(.tabelle-zaehler-kein)::before,.mw-parser-output table.wikitable.tabelle-zaehler.sortable tbody tr:not(.tabelle-zaehler-versteckt):not(.tabelle-zaehler-kein)::before{content:attr(data-zaehler-vor)counter(tabZaehler)attr(data-zaehler-nach)}.mw-parser-output table.wikitable.tabelle-zaehler:not(.sortable) tbody tr:first-child::before,.mw-parser-output table.wikitable.tabelle-zaehler.sortable thead tr:first-child::before{font-weight:bold;content:attr(data-zaehler-spalte)}.mw-parser-output table.wikitable.tabelle-zaehler tr.hintergrundfarbe-basis::before{background-color:var(--dewiki-hintergrundfarbe-basis)}.mw-parser-output table.wikitable.tabelle-zaehler tr.hintergrundfarbe1::before{background-color:var(--dewiki-hintergrundfarbe1)}.mw-parser-output table.wikitable.tabelle-zaehler tr.hintergrundfarbe2::before{background-color:var(--dewiki-hintergrundfarbe2)}.mw-parser-output table.wikitable.tabelle-zaehler tr.hintergrundfarbe3::before{background-color:var(--dewiki-hintergrundfarbe3)}.mw-parser-output table.wikitable.tabelle-zaehler tr.hintergrundfarbe4::before{background-color:var(--dewiki-hintergrundfarbe4)}.mw-parser-output table.wikitable.tabelle-zaehler tr.hintergrundfarbe6::before{background-color:var(--dewiki-hintergrundfarbe6)}.mw-parser-output table.wikitable.tabelle-zaehler tr.hintergrundfarbe7::before{background-color:var(--dewiki-hintergrundfarbe7)}.mw-parser-output table.wikitable.tabelle-zaehler tr.hintergrundfarbe8::before{background-color:var(--dewiki-hintergrundfarbe8)}.mw-parser-output table.wikitable.tabelle-zaehler tr.hintergrundfarbe9::before{background-color:var(--dewiki-hintergrundfarbe9)}.mw-parser-output .prettytable{background-color:#f8f9fa;border:1px solid #a2a9b1;border-collapse:collapse;color:black;margin:1em 0}.mw-parser-output table.prettytable>*>tr>th,.mw-parser-output table.prettytable>*>tr>td{border:1px solid #a2a9b1;padding:.2em .4em}.mw-parser-output table.prettytable>*>tr>th{text-align:center}.mw-parser-output table.prettytable>caption{font-weight:bold}</style>\\n<table class=\"wikitable sortable toptextcells zebra tabelle-kopf-fixiert\">\\n\\n\\n<tbody><tr>\\n<th>Name\\n</th>\\n<th>Klasse\\n</th>\\n<th>Art\\n</th>\\n<th>Besonderheit\\n</th>\\n<th data-sort-type=\"number\"><a href=\"/wiki/Registertonne#Bruttoregistertonne\" title=\"Registertonne\">BRT</a>\\n</th>\\n<th data-sort-type=\"number\"><a href=\"/wiki/Schiffsma%C3%9Fe#Brutto-_und_Nettoraumzahl_(BRZ,_NRZ)\" title=\"Schiffsmaße\">BRZ</a>\\n</th>\\n<th data-sort-type=\"number\"><a href=\"/wiki/Schiffsma%C3%9Fe#Verdrängung\" title=\"Schiffsmaße\">Verdr.</a> /t\\n</th>\\n<th data-sort-type=\"number\">Länge /m\\n</th>\\n<th data-sort-type=\"number\">Breite /m\\n</th>\\n<th data-sort-type=\"number\">Jahr<br /><small>(Dienstbeg.)</small>\\n</th>\\n<th>Status\\n</th></tr>\\n<tr>\\n<td><i><a href=\"/wiki/Prelude_(Schiff)\" title=\"Prelude (Schiff)\">Prelude</a></i>\\n</td>\\n<td>\\n</td>\\n<td><a href=\"/wiki/Fl%C3%BCssigerdgas#Floating_Liquefied_Natural_Gas_(FLNG)\" title=\"Flüssigerdgas\">FLNG</a>-Plattform<sup id=\"cite_ref-5\" class=\"reference\"><a href=\"#cite_note-5\"><span class=\"cite-bracket\">&#91;</span>5<span class=\"cite-bracket\">&#93;</span></a></sup></td>\\n<td>Schwimmende, selbst-manövrierende Plattform. Im eigentlichen Sinne kein Schiff</td>\\n<td>–</td>\\n<td>300.000</td>\\n<td>600.000</td>\\n<td>488,00</td>\\n<td>74,00</td>\\n<td>2017</td>\\n<td>in Dienst\\n</td></tr>\\n<tr>\\n<td><i><a href=\"/wiki/Jahre_Viking\" title=\"Jahre Viking\">Jahre Viking</a></i>\\n</td>\\n<td>\\n</td>\\n<td><a href=\"/wiki/Tanker\" title=\"Tanker\">Tanker</a>, einwandig / später <a href=\"/wiki/Floating_Production_Storage_and_Offloading_Unit\" title=\"Floating Production Storage and Offloading Unit\">FSO</a></td>\\n<td>(Nach Umbau) längstes jemals gebautes Schiff; später als FSO (Lager- und Umschlagstation) genutzt</td>\\n<td>–</td>\\n<td>260.941</td>\\n<td>647.955</td>\\n<td>458,45</td>\\n<td>68,80</td>\\n<td>1979</td>\\n<td>abgewrackt\\n</td></tr>\\n<tr>\\n<td><i><a href=\"/wiki/Pierre_Guillaumat_(Schiff)\" title=\"Pierre Guillaumat (Schiff)\">Pierre Guillaumat</a></i>\\n</td>\\n<td>\\n</td>\\n<td><a href=\"/wiki/Tanker\" title=\"Tanker\">Tanker</a>, einwandig</td>\\n<td>Bis 2014 war es das längste „in einem Stück“ gebaute Schiff</td>\\n<td>274.838</td>\\n<td>–</td>\\n<td>630.962</td>\\n<td>414,23</td>\\n<td>63,05</td>\\n<td>1977</td>\\n<td>abgewrackt\\n</td></tr>\\n<tr>\\n<td><i>MOL Triumph</i>\\n</td>\\n<td><a href=\"/wiki/MOL_20.000-TEU-Typ\" title=\"MOL 20.000-TEU-Typ\">MOL 20.000-TEU-Typ</a>\\n</td>\\n<td><a href=\"/wiki/Containerschiff\" title=\"Containerschiff\">Containerschiff</a></td>\\n<td>2017 kurzzeitig größtes Containerschiff nach BRZ und Containerzahl (TEU)</td>\\n<td>–</td>\\n<td>199.000</td>\\n<td>?</td>\\n<td>400,00</td>\\n<td>58,80</td>\\n<td>2017</td>\\n<td>in Dienst\\n</td></tr>\\n<tr>\\n<td><i>Majestic Mærsk</i>\\n</td>\\n<td><a href=\"/wiki/Triple-E-Klasse\" title=\"Triple-E-Klasse\">Triple-E-Klasse</a>\\n</td>\\n<td><a href=\"/wiki/Containerschiff\" title=\"Containerschiff\">Containerschiff</a></td>\\n<td>Von 2013 bis 2014 längstes Containerschiff</td>\\n<td>–</td>\\n<td>194.849</td>\\n<td>?</td>\\n<td>399,00</td>\\n<td>59,00</td>\\n<td>2013</td>\\n<td>in Dienst\\n</td></tr>\\n<tr>\\n<td><i><a href=\"/wiki/Pioneering_Spirit\" title=\"Pioneering Spirit\">Pioneering Spirit</a></i>\\n</td>\\n<td>\\n</td>\\n<td><a href=\"/wiki/Rohrleger\" title=\"Rohrleger\">Rohrleger</a></td>\\n<td>Arbeitsschiff. Größtes (nach BRZ) jemals gebautes Schiff</td>\\n<td>–</td>\\n<td>403.342</td>\\n<td>900.000</td>\\n<td>382,00</td>\\n<td>123,75</td>\\n<td>2014</td>\\n<td>in Dienst\\n</td></tr>\\n<tr>\\n<td><i>TI Europe</i>\\n</td>\\n<td><a href=\"/wiki/Hellespont-Alhambra-Klasse\" title=\"Hellespont-Alhambra-Klasse\"><i>Hellespont-Alhambra</i>-Klasse</a>\\n</td>\\n<td><a href=\"/wiki/Tanker\" title=\"Tanker\">Tanker</a>, <a href=\"/wiki/Doppelh%C3%BCllenschiff\" title=\"Doppelhüllenschiff\"><i>doppelwandig</i></a></td>\\n<td>Größter Doppelhüllen-Tanker</td>\\n<td>–</td>\\n<td>234.006</td>\\n<td>?</td>\\n<td>380,00</td>\\n<td>68,00</td>\\n<td>?</td>\\n<td>in Dienst\\n</td></tr>\\n<tr>\\n<td><i><a href=\"/wiki/Nanny_(Schiff)\" title=\"Nanny (Schiff)\">Nanny</a></i>\\n</td>\\n<td>\\n</td>\\n<td><a href=\"/wiki/Tanker\" title=\"Tanker\">Tanker</a>, einwandig</td>\\n<td>Breitestes je gebautes Frachtschiff</td>\\n<td>–</td>\\n<td>245.140</td>\\n<td>?</td>\\n<td>364,04</td>\\n<td>79,04</td>\\n<td>1978</td>\\n<td>2003 abgewrackt\\n</td></tr>\\n<tr>\\n<td><i><a href=\"/wiki/Wonder_of_the_Seas\" title=\"Wonder of the Seas\">Wonder of the Seas</a></i>\\n</td>\\n<td><a href=\"/wiki/Oasis-Klasse\" class=\"mw-redirect\" title=\"Oasis-Klasse\"><i>Oasis</i>-Klasse</a>\\n</td>\\n<td><a href=\"/wiki/Kreuzfahrtschiff\" title=\"Kreuzfahrtschiff\">Kreuzfahrtschiff</a></td>\\n<td>Bis Ende 2023 größtes jemals gebautes Passagierschiff (Kreuzfahrtschiff) (nach BRZ). Seit 2024 ist <a href=\"/wiki/Icon_of_the_Seas\" title=\"Icon of the Seas\">Icon of the Seas</a> am größten.</td>\\n<td>–</td>\\n<td>236.857</td>\\n<td>100.000</td>\\n<td>362</td>\\n<td>66,00 ü.A.</td>\\n<td>2021</td>\\n<td>in Dienst\\n</td></tr>\\n<tr>\\n<td><i>Vale Brasil</i>\\n</td>\\n<td><a href=\"/wiki/Valemax-Klasse\" title=\"Valemax-Klasse\">Valemax-Klasse</a>\\n</td>\\n<td><a href=\"/wiki/Massengutfrachter\" title=\"Massengutfrachter\">Massengutfrachter</a></td>\\n<td>Größter Schüttgutfrachter der Welt (nach Ladekapazität und Länge)</td>\\n<td>–</td>\\n<td>198.980</td>\\n<td>?</td>\\n<td>362,00</td>\\n<td>65,06</td>\\n<td>?</td>\\n<td>in Dienst\\n</td></tr>\\n<tr>\\n<td><i><a href=\"/wiki/Queen_Mary_2\" title=\"Queen Mary 2\">Queen Mary 2</a></i>\\n</td>\\n<td>\\n</td>\\n<td><a href=\"/wiki/Passagierschiff\" title=\"Passagierschiff\">Passagierschiff</a></td>\\n<td>Größter planmäßig verkehrender Transatlantikliner. Daneben auch Einsatz als Kreuzfahrtschiff</td>\\n<td>–</td>\\n<td>148.528</td>\\n<td>79.827</td>\\n<td>345,03</td>\\n<td>41,08</td>\\n<td>2004</td>\\n<td>in Dienst\\n</td></tr>\\n<tr>\\n<td><a href=\"/w/index.php?title=USS_Enterprise_(CVN-65)&amp;action=edit&amp;redlink=1\" class=\"new\" title=\"USS Enterprise (CVN-65) (Seite nicht vorhanden)\">USS <i>Enterprise</i></a>\\n</td>\\n<td>\\n</td>\\n<td><a href=\"/wiki/Flugzeugtr%C3%A4ger\" title=\"Flugzeugträger\">Flugzeugträger</a></td>\\n<td>Längster jemals gebauter Flugzeugträger und Kriegsschiff</td>\\n<td>–</td>\\n<td>–</td>\\n<td>75.704</td>\\n<td>342,30</td>\\n<td>78,30</td>\\n<td>1961</td>\\n<td>2012 außer Dienst\\n</td></tr>\\n<tr>\\n<td><i><a href=\"/wiki/Nimitz_(Schiff)\" title=\"Nimitz (Schiff)\">Nimitz</a></i>\\n</td>\\n<td><a href=\"/wiki/Nimitz-Klasse\" title=\"Nimitz-Klasse\"><i>Nimitz</i>-Klasse</a>\\n</td>\\n<td><a href=\"/wiki/Flugzeugtr%C3%A4ger\" title=\"Flugzeugträger\">Flugzeugträger</a></td>\\n<td></td>\\n<td>–</td>\\n<td>–</td>\\n<td>97.000</td>\\n<td>332,85</td>\\n<td>76,80</td>\\n<td>1975</td>\\n<td>in Dienst\\n</td></tr>\\n<tr>\\n<td><i><a href=\"/wiki/Normandie_(Schiff,_1935)\" title=\"Normandie (Schiff, 1935)\">Normandie</a></i>\\n</td>\\n<td>\\n</td>\\n<td><a href=\"/wiki/Passagierschiff\" title=\"Passagierschiff\">Passagierschiff</a></td>\\n<td>Zu ihrer Zeit das größte Schiff der Welt</td>\\n<td>79.000</td>\\n<td>–</td>\\n<td>71.300</td>\\n<td>313,58</td>\\n<td>36,40</td>\\n<td>1935</td>\\n<td>1942 nach Brand gekentert, später geborgen und abgewrackt\\n</td></tr>\\n<tr>\\n<td><i><a href=\"/wiki/Vaterland_(Schiff,_1914)\" title=\"Vaterland (Schiff, 1914)\">Vaterland</a></i>\\n</td>\\n<td><a href=\"/wiki/Imperator-Klasse\" title=\"Imperator-Klasse\"><i>Imperator</i>-Klasse</a>\\n</td>\\n<td><a href=\"/wiki/Passagierschiff\" title=\"Passagierschiff\">Passagierschiff</a></td>\\n<td>Die <i>Vaterland</i> ist bis heute das größte jemals unter deutscher Flagge gefahrene Passagierschiff und zugleich das größte mit Kohlefeuerung betriebene Dampfschiff der Geschichte</td>\\n<td>54.282</td>\\n<td>–</td>\\n<td>?</td>\\n<td>289,56</td>\\n<td>30,48</td>\\n<td>1914</td>\\n<td>1938 abgewrackt\\n</td></tr>\\n<tr>\\n<td><i><a href=\"/wiki/Boka_Vanguard\" title=\"Boka Vanguard\">Boka Vanguard</a></i>\\n</td>\\n<td>\\n</td>\\n<td><a href=\"/wiki/Halbtaucher\" title=\"Halbtaucher\">Halbtaucherschiff</a></td>\\n<td>Größter Schwergutfrachter</td>\\n<td>–</td>\\n<td>91.784</td>\\n<td>?</td>\\n<td>275,00</td>\\n<td>78,75</td>\\n<td>2013</td>\\n<td>in Fahrt\\n</td></tr>\\n<tr>\\n<td><i><a href=\"/wiki/Titanic_(Schiff)\" title=\"Titanic (Schiff)\">Titanic</a></i>\\n</td>\\n<td><a href=\"/wiki/Olympic-Klasse\" title=\"Olympic-Klasse\"><i>Olympic</i>-Klasse</a>\\n</td>\\n<td><a href=\"/wiki/Passagierschiff\" title=\"Passagierschiff\">Passagierschiff</a></td>\\n<td>Zu ihrer Zeit das größte Schiff der Welt. Durch den tragischen Untergang eines der bekanntesten und berühmtesten Schiffe überhaupt</td>\\n<td>46.329</td>\\n<td>–</td>\\n<td>53.147</td>\\n<td>269,04</td>\\n<td>28,19</td>\\n<td>1912</td>\\n<td>1912 Untergang\\n</td></tr>\\n<tr>\\n<td><i>Tønsberg</i>\\n</td>\\n<td><a href=\"/wiki/Mark-V-Klasse\" title=\"Mark-V-Klasse\">Mark-V-Klasse</a>\\n</td>\\n<td><a href=\"/wiki/Autotransporter_(Schiffstyp)\" title=\"Autotransporter (Schiffstyp)\">Autotransporter</a></td>\\n<td>Größter Autotransporter mit Ladekapazität von ca. 6.000 PKW</td>\\n<td>–</td>\\n<td>76.500</td>\\n<td>41.820</td>\\n<td>265,00</td>\\n<td>32,26</td>\\n<td>?</td>\\n<td>in Dienst\\n</td></tr>\\n<tr>\\n<td><i><a href=\"/wiki/Yamato_(Schiff,_1941)\" title=\"Yamato (Schiff, 1941)\">Yamato</a></i>\\n</td>\\n<td><a href=\"/wiki/Yamato-Klasse\" title=\"Yamato-Klasse\"><i>Yamato</i>-Klasse</a>\\n</td>\\n<td><a href=\"/wiki/Schlachtschiff\" title=\"Schlachtschiff\">Schlachtschiff</a></td>\\n<td>Größtes jemals gebautes Schlachtschiff (nach Verdrängung und Länge)</td>\\n<td>–</td>\\n<td>–</td>\\n<td>65.000</td>\\n<td>263,00</td>\\n<td>38,90</td>\\n<td>1941</td>\\n<td>1945 versenkt\\n</td></tr>\\n<tr>\\n<td><i><a href=\"/wiki/Hood_(Schiff,_1920)\" title=\"Hood (Schiff, 1920)\">Hood</a></i>\\n</td>\\n<td>\\n</td>\\n<td><a href=\"/wiki/Schlachtkreuzer\" title=\"Schlachtkreuzer\">Schlachtkreuzer</a></td>\\n<td>Zwischen den Weltkriegen größter und längster Schlachtkreuzer. Wurde von der <i><a href=\"/wiki/Bismarck_(Schiff,_1940)\" title=\"Bismarck (Schiff, 1940)\">Bismarck</a></i> versenkt.</td>\\n<td>–</td>\\n<td>–</td>\\n<td>42.600</td>\\n<td>262,30</td>\\n<td>32,00</td>\\n<td>1918</td>\\n<td>1941 versenkt\\n</td></tr>\\n<tr>\\n<td><i><a href=\"/wiki/Bismarck_(Schiff,_1940)\" title=\"Bismarck (Schiff, 1940)\">Bismarck</a></i>\\n</td>\\n<td><a href=\"/wiki/Bismarck-Klasse_(1940)\" title=\"Bismarck-Klasse (1940)\"><i>Bismarck</i>-Klasse</a>\\n</td>\\n<td><a href=\"/wiki/Schlachtschiff\" title=\"Schlachtschiff\">Schlachtschiff</a></td>\\n<td>Bei ihrer Indienststellung galt sie als das weltweit größte und kampfstärkste Schlachtschiff.</td>\\n<td>–</td>\\n<td>–</td>\\n<td>41.700</td>\\n<td>250,50</td>\\n<td>36,00</td>\\n<td>1939</td>\\n<td>1941 versenkt\\n</td></tr>\\n<tr>\\n<td><i><a href=\"/wiki/Stena_Scandinavica_(Schiff,_2003)\" title=\"Stena Scandinavica (Schiff, 2003)\">Stena Scandinavica</a></i>\\n</td>\\n<td>\\n</td>\\n<td><a href=\"/wiki/F%C3%A4hre\" title=\"Fähre\">Fähre</a></td>\\n<td>Größte Fähre nach Länge</td>\\n<td>–</td>\\n<td>51.837</td>\\n<td>?</td>\\n<td>243,30</td>\\n<td>28,70</td>\\n<td>?</td>\\n<td>in Dienst\\n</td></tr>\\n<tr>\\n<td><i><a href=\"/wiki/Color_Magic\" title=\"Color Magic\">Color Magic</a></i>\\n</td>\\n<td>\\n</td>\\n<td><a href=\"/wiki/F%C3%A4hre\" title=\"Fähre\">Fähre</a></td>\\n<td>Größte Fähre nach BRZ</td>\\n<td>–</td>\\n<td>75.156</td>\\n<td>?</td>\\n<td>223,75</td>\\n<td>35,00</td>\\n<td></td>\\n<td>In Fahrt\\n</td></tr>\\n<tr>\\n<td><i><a href=\"/w/index.php?title=Crist%C3%B3bal_Col%C3%B3n_(Hopperbagger)&amp;action=edit&amp;redlink=1\" class=\"new\" title=\"Cristóbal Colón (Hopperbagger) (Seite nicht vorhanden)\">Cristóbal Colón</a></i>\\n</td>\\n<td>\\n</td>\\n<td><a href=\"/wiki/Hopperbagger\" title=\"Hopperbagger\">Hopperbagger</a></td>\\n<td>–</td>\\n<td>–</td>\\n<td>?</td>\\n<td>78.000</td>\\n<td>223,00</td>\\n<td>41,00</td>\\n<td>?</td>\\n<td>in Dienst\\n</td></tr>\\n<tr>\\n<td><i><a href=\"/wiki/Great_Eastern\" title=\"Great Eastern\">Great Eastern</a></i>\\n</td>\\n<td>\\n</td>\\n<td><a href=\"/wiki/Segeldampfer\" title=\"Segeldampfer\">Segeldampfer</a></td>\\n<td>Seinerzeit größtes je gebautes Schiff (bis 1901)</td>\\n<td>18.915</td>\\n<td>–</td>\\n<td>32.000</td>\\n<td>211,00</td>\\n<td>23,50</td>\\n<td>1858</td>\\n<td>1889 abgewrackt\\n</td></tr>\\n<tr>\\n<td><i><a href=\"/wiki/Ulysses_(Schiff,_2001)\" title=\"Ulysses (Schiff, 2001)\">Ulysses</a></i>\\n</td>\\n<td>\\n</td>\\n<td><a href=\"/wiki/F%C3%A4hre\" title=\"Fähre\">Fähre</a></td>\\n<td>–</td>\\n<td>–</td>\\n<td>50.938</td>\\n<td>27.425</td>\\n<td>209,02</td>\\n<td>31,20</td>\\n<td>2001</td>\\n<td>in Dienst\\n</td></tr>\\n<tr>\\n<td><i><a href=\"/wiki/Hughes_Glomar_Explorer\" title=\"Hughes Glomar Explorer\">Hughes&#160;Glomar&#160;Explorer</a></i>\\n</td>\\n<td>\\n</td>\\n<td><a href=\"/wiki/Bergungsschiff\" title=\"Bergungsschiff\">Bergungsschiff</a></td>\\n<td>–</td>\\n<td>–</td>\\n<td>27.686</td>\\n<td>63.000</td>\\n<td>188,70</td>\\n<td>35,30</td>\\n<td>?</td>\\n<td>2015 abgewrackt\\n</td></tr>\\n<tr>\\n<td><i><a href=\"/wiki/Club_Med_2\" title=\"Club Med 2\">Club Med 2</a></i>\\n</td>\\n<td>\\n</td>\\n<td><a href=\"/wiki/Motorsegler_(Wasserfahrzeug)\" title=\"Motorsegler (Wasserfahrzeug)\">Motorsegelschiff</a></td>\\n<td>–</td>\\n<td>–</td>\\n<td>19.983</td>\\n<td>?</td>\\n<td>187,00</td>\\n<td>20,00</td>\\n<td>?</td>\\n<td>in Dienst\\n</td></tr>\\n<tr>\\n<td><i><a href=\"/wiki/Azzam_(Schiff)\" title=\"Azzam (Schiff)\">Azzam</a></i>\\n</td>\\n<td>\\n</td>\\n<td><a href=\"/wiki/Motorboot\" title=\"Motorboot\">Motoryacht</a></td>\\n<td>Längste private Motoryacht der Welt</td>\\n<td>?</td>\\n<td>?</td>\\n<td>?</td>\\n<td>180,0</td>\\n<td>20,80</td>\\n<td>2013</td>\\n<td>in Dienst\\n</td></tr>\\n<tr>\\n<td><i><a href=\"/wiki/TK-208_Dmitri_Donskoj\" title=\"TK-208 Dmitri Donskoj\">Dmitri Donskoj</a></i>\\n</td>\\n<td><a href=\"/wiki/Projekt_941\" title=\"Projekt 941\"><i>Typhoon</i>-Klasse</a>\\n</td>\\n<td><a href=\"/wiki/U-Boot\" title=\"U-Boot\">Unterseeboot</a></td>\\n<td>Größtes je gebautes (Atom-)Unterseeboot (nach Verdrängung und Länge)</td>\\n<td>–</td>\\n<td>–</td>\\n<td>23.200</td>\\n<td>172,80</td>\\n<td>23,30</td>\\n<td>1981</td>\\n<td>in Dienst\\n</td></tr>\\n<tr>\\n<td><i><a href=\"/wiki/50_Let_Pobedy_(Schiff)\" title=\"50 Let Pobedy (Schiff)\">50 Let Pobedy</a></i>\\n</td>\\n<td><a href=\"/wiki/Arktika-Klasse\" title=\"Arktika-Klasse\"><i>Arktica</i>-Klasse</a>\\n</td>\\n<td><a href=\"/wiki/Eisbrecher\" title=\"Eisbrecher\">Eisbrecher</a></td>\\n<td>Größter und leistungsfähigster Eisbrecher</td>\\n<td>–</td>\\n<td>23.439</td>\\n<td>25.840</td>\\n<td>159,60</td>\\n<td>30,00</td>\\n<td>2007</td>\\n<td>in Dienst\\n</td></tr>\\n<tr>\\n<td><i><a href=\"/wiki/France_(Schiff,_1912%E2%80%931922)\" title=\"France (Schiff, 1912–1922)\">France</a></i>\\n</td>\\n<td>\\n</td>\\n<td><a href=\"/wiki/Segelschiff\" title=\"Segelschiff\">Segelschiff</a> <i><a href=\"/wiki/Auxiliarsegler\" title=\"Auxiliarsegler\">Aux.</a></i> / <a href=\"/wiki/Segelschiff\" title=\"Segelschiff\">Segelschiff</a></td>\\n<td>Segelschiff zunächst mit Motoren; nach Ausbau der Motoren (1919) größtes Segelschiff nach BRT</td>\\n<td>5.633</td>\\n<td>–</td>\\n<td>10.710</td>\\n<td>146,5</td>\\n<td>16,90</td>\\n<td>1911</td>\\n<td>gestrandet\\n</td></tr>\\n<tr>\\n<td><i><a href=\"/wiki/Preu%C3%9Fen_(Schiff,_1902)\" title=\"Preußen (Schiff, 1902)\">Preußen</a></i>\\n</td>\\n<td>\\n</td>\\n<td><a href=\"/wiki/Segelschiff\" title=\"Segelschiff\">Segelschiff</a></td>\\n<td>Die <i>Preußen</i> war bis zur Inbetriebnahme des Luxuskreuzfahrtschiffes <i><a href=\"/wiki/Royal_Clipper\" title=\"Royal Clipper\">Royal Clipper</a></i> im Jahr 2000 das einzige je gebaute Fünfmast<a href=\"/wiki/Vollschiff\" title=\"Vollschiff\">vollschiff</a> und erreichte mit 47 Segeln, davon 30 <a href=\"/wiki/Rahsegel\" title=\"Rahsegel\">Rahsegeln</a>, auch das Maximum in der Anzahl der Segel. Sie zählt zu den größten Segelschiffen der Schiffahrtsgeschichte überhaupt. Sie führt u.A. die Ranglisten nach Lüa (147&#160;m), Segelfläche (6.805 m²), Frachtmenge (8.000&#160;t) sowie Geschwindigkeit für Frachtsegler (20 Knoten) an.</td>\\n<td>5.081</td>\\n<td>–</td>\\n<td>11.650</td>\\n<td>147,00</td>\\n<td>16,34</td>\\n<td>1902</td>\\n<td>gestrandet\\n</td></tr>\\n<tr>\\n<td><i><a href=\"/wiki/Royal_Clipper\" title=\"Royal Clipper\">Royal Clipper</a></i>\\n</td>\\n<td>\\n</td>\\n<td><a href=\"/wiki/Segelschiff\" title=\"Segelschiff\">Segelschiff</a> <i><a href=\"/wiki/Auxiliarsegler\" title=\"Auxiliarsegler\">Aux.</a></i></td>\\n<td>Bisher neben ihrem Vorbild, der <i><a href=\"/wiki/Preu%C3%9Fen_(Schiff,_1902)\" title=\"Preußen (Schiff, 1902)\">Preußen</a></i>, einziges Fünfmastvollschiff der Welt</td>\\n<td>–</td>\\n<td>4.425</td>\\n<td>?</td>\\n<td>133,74</td>\\n<td>16,28</td>\\n<td>?</td>\\n<td>in Dienst\\n</td></tr>\\n<tr>\\n<td><i>Stena Explorer</i>\\n</td>\\n<td><a href=\"/wiki/High-Speed_Sea_Service\" title=\"High-Speed Sea Service\">HSS 1500-Klasse</a>\\n</td>\\n<td><a href=\"/wiki/Autof%C3%A4hre#Seegehende_Autofähren\" title=\"Autofähre\">Fährkatamaran</a></td>\\n<td>–</td>\\n<td>–</td>\\n<td>19.638</td>\\n<td>?</td>\\n<td>126,60</td>\\n<td>40,00</td>\\n<td>?</td>\\n<td>in Dienst\\n</td></tr>\\n<tr>\\n<td><i><a href=\"/wiki/Island_Victory\" title=\"Island Victory\">Island Victory</a></i>\\n</td>\\n<td>\\n</td>\\n<td><a href=\"/wiki/Schlepper_(Schiffstyp)\" title=\"Schlepper (Schiffstyp)\">Schlepper</a></td>\\n<td>Stärkster Schlepper (<a href=\"/wiki/Pfahlzug\" title=\"Pfahlzug\">Pfahlzugkraft</a> 477 to)</td>\\n<td>11.362</td>\\n<td>–</td>\\n<td>–</td>\\n<td>123,4</td>\\n<td>25</td>\\n<td>2020</td>\\n<td>in Dienst\\n</td></tr>\\n<tr>\\n<td><i><a href=\"/wiki/Hermann_Marwede_(Schiff)\" title=\"Hermann Marwede (Schiff)\">Hermann Marwede</a></i>\\n</td>\\n<td>\\n</td>\\n<td><a href=\"/wiki/Seenotrettungskreuzer\" title=\"Seenotrettungskreuzer\">Seenotrettungskreuzer</a></td>\\n<td>Größter Seenotkreuzer nach BRZ</td>\\n<td>–</td>\\n<td>?</td>\\n<td>404</td>\\n<td>46,00</td>\\n<td>10,25</td>\\n<td>2003</td>\\n<td>in Dienst\\n</td></tr>\\n<tr>\\n<td><i><a href=\"/wiki/Baron_of_Renfrew_(Schiff)\" title=\"Baron of Renfrew (Schiff)\">Baron of Renfrew</a></i>\\n</td>\\n<td>\\n</td>\\n<td><a href=\"/wiki/Einwegschiff\" title=\"Einwegschiff\">Einwegschiff</a></td>\\n<td>Das größte je gebaute Holzschiff. War als Einwegschiff nur für eine einmalige Fahrt gebaut, danach wurde das Schiff als Bauholz verwendet.</td>\\n<td>5.294</td>\\n<td>–</td>\\n<td>?</td>\\n<td>110,80</td>\\n<td>18,59</td>\\n<td>1825</td>\\n<td>1825 gestrandet und abgewrackt\\n</td></tr></tbody></table>\\n<div class=\"mw-heading mw-heading2\"><h2 id=\"Siehe_auch\">Siehe auch</h2><span class=\"mw-editsection\"><span class=\"mw-editsection-bracket\">[</span><a href=\"/w/index.php?title=Liste_der_gr%C3%B6%C3%9Ften_Schiffe_der_Welt&amp;veaction=edit&amp;section=3\" title=\"Abschnitt bearbeiten: Siehe auch\" class=\"mw-editsection-visualeditor\"><span>Bearbeiten</span></a><span class=\"mw-editsection-divider\"> | </span><a href=\"/w/index.php?title=Liste_der_gr%C3%B6%C3%9Ften_Schiffe_der_Welt&amp;action=edit&amp;section=3\" title=\"Quellcode des Abschnitts bearbeiten: Siehe auch\"><span>Quelltext bearbeiten</span></a><span class=\"mw-editsection-bracket\">]</span></span></div>\\n<ul><li><a href=\"/wiki/Liste_der_gr%C3%B6%C3%9Ften_Holzschiffe_der_Welt\" class=\"mw-redirect\" title=\"Liste der größten Holzschiffe der Welt\">Liste der größten Holzschiffe der Welt</a></li>\\n<li><a href=\"/wiki/Liste_von_Kreuzfahrtschiffen\" title=\"Liste von Kreuzfahrtschiffen\">Liste von Kreuzfahrtschiffen</a></li>\\n<li><a href=\"/wiki/Liste_der_gr%C3%B6%C3%9Ften_Segelschiffe_der_Welt\" class=\"mw-redirect\" title=\"Liste der größten Segelschiffe der Welt\">Liste der größten Segelschiffe der Welt</a></li></ul>\\n<div class=\"mw-heading mw-heading2\"><h2 id=\"Literatur\">Literatur</h2><span class=\"mw-editsection\"><span class=\"mw-editsection-bracket\">[</span><a href=\"/w/index.php?title=Liste_der_gr%C3%B6%C3%9Ften_Schiffe_der_Welt&amp;veaction=edit&amp;section=4\" title=\"Abschnitt bearbeiten: Literatur\" class=\"mw-editsection-visualeditor\"><span>Bearbeiten</span></a><span class=\"mw-editsection-divider\"> | </span><a href=\"/w/index.php?title=Liste_der_gr%C3%B6%C3%9Ften_Schiffe_der_Welt&amp;action=edit&amp;section=4\" title=\"Quellcode des Abschnitts bearbeiten: Literatur\"><span>Quelltext bearbeiten</span></a><span class=\"mw-editsection-bracket\">]</span></span></div>\\n<ul><li>Joachim W. Pein: <i>Giganten der Meere. Die größten Tankschiffe der Welt.</i> Koehlers Verlagsgesellschaft, Hamburg 2011.</li></ul>\\n<div class=\"mw-heading mw-heading2\"><h2 id=\"Anmerkung_und_Einzelnachweise\">Anmerkung und Einzelnachweise</h2><span class=\"mw-editsection\"><span class=\"mw-editsection-bracket\">[</span><a href=\"/w/index.php?title=Liste_der_gr%C3%B6%C3%9Ften_Schiffe_der_Welt&amp;veaction=edit&amp;section=5\" title=\"Abschnitt bearbeiten: Anmerkung und Einzelnachweise\" class=\"mw-editsection-visualeditor\"><span>Bearbeiten</span></a><span class=\"mw-editsection-divider\"> | </span><a href=\"/w/index.php?title=Liste_der_gr%C3%B6%C3%9Ften_Schiffe_der_Welt&amp;action=edit&amp;section=5\" title=\"Quellcode des Abschnitts bearbeiten: Anmerkung und Einzelnachweise\"><span>Quelltext bearbeiten</span></a><span class=\"mw-editsection-bracket\">]</span></span></div>\\n<ol class=\"references\">\\n<li id=\"cite_note-1\"><span class=\"mw-cite-backlink\"><a href=\"#cite_ref-1\">↑</a></span> <span class=\"reference-text\"><span class=\"cite\"><a rel=\"nofollow\" class=\"external text\" href=\"https://www.cruisetricks.de/die-groessten-kreuzfahrtschiffe-der-welt/\"><i>Die 25 größten Kreuzfahrtschiffe der Welt.</i></a><span class=\"Abrufdatum\">&#32;Abgerufen am 29.&#160;November 2023</span>.</span><span style=\"display: none;\" class=\"Z3988\" title=\"ctx_ver=Z39.88-2004&amp;rft_val_fmt=info%3Aofi%2Ffmt%3Akev%3Amtx%3Adc&amp;rfr_id=info%3Asid%2Fde.wikipedia.org%3AListe+der+gr%C3%B6%C3%9Ften+Schiffe+der+Welt&amp;rft.title=Die+25+gr%C3%B6%C3%9Ften+Kreuzfahrtschiffe+der+Welt&amp;rft.description=Die+25+gr%C3%B6%C3%9Ften+Kreuzfahrtschiffe+der+Welt&amp;rft.identifier=https%3A%2F%2Fwww.cruisetricks.de%2Fdie-groessten-kreuzfahrtschiffe-der-welt%2F&amp;rft.language=de\">&#160;</span></span>\\n</li>\\n<li id=\"cite_note-2\"><span class=\"mw-cite-backlink\"><a href=\"#cite_ref-2\">↑</a></span> <span class=\"reference-text\"><span class=\"cite\">NDR:&#32;<a rel=\"nofollow\" class=\"external text\" href=\"https://www.ndr.de/nachrichten/hamburg/Hoeegh-Aurora-Weltgroesster-Autotransporter-erstmals-in-Hamburg,autotransporterschiff100.html\"><i>Weltweit größter Autofrachter „Höegh Aurora“ hat im Hamburger Hafen festgemacht.</i></a><span class=\"Abrufdatum\">&#32;Abgerufen am 24.&#160;Oktober 2024</span>.</span><span style=\"display: none;\" class=\"Z3988\" title=\"ctx_ver=Z39.88-2004&amp;rft_val_fmt=info%3Aofi%2Ffmt%3Akev%3Amtx%3Adc&amp;rfr_id=info%3Asid%2Fde.wikipedia.org%3AListe+der+gr%C3%B6%C3%9Ften+Schiffe+der+Welt&amp;rft.title=Weltweit+gr%C3%B6%C3%9Fter+Autofrachter+%E2%80%9EH%C3%B6egh+Aurora%E2%80%9C+hat+im+Hamburger+Hafen+festgemacht&amp;rft.description=Weltweit+gr%C3%B6%C3%9Fter+Autofrachter+%E2%80%9EH%C3%B6egh+Aurora%E2%80%9C+hat+im+Hamburger+Hafen+festgemacht&amp;rft.identifier=https%3A%2F%2Fwww.ndr.de%2Fnachrichten%2Fhamburg%2FHoeegh-Aurora-Weltgroesster-Autotransporter-erstmals-in-Hamburg%2Cautotransporterschiff100.html&amp;rft.creator=NDR&amp;rft.language=de\">&#160;</span></span>\\n</li>\\n<li id=\"cite_note-3\"><span class=\"mw-cite-backlink\"><a href=\"#cite_ref-3\">↑</a></span> <span class=\"reference-text\"><span class=\"cite\"><a rel=\"nofollow\" class=\"external text\" href=\"https://maritime-executive.com/article/msc-receives-second-ultra-large-and-this-one-is-the-world-s-largest\"><i>MSC Takes Delivery of the World\\'s Biggest Ultra Large Container Ship.</i></a><span class=\"Abrufdatum\">&#32;Abgerufen am 15.&#160;März 2023</span>&#32;(englisch).</span><span style=\"display: none;\" class=\"Z3988\" title=\"ctx_ver=Z39.88-2004&amp;rft_val_fmt=info%3Aofi%2Ffmt%3Akev%3Amtx%3Adc&amp;rfr_id=info%3Asid%2Fde.wikipedia.org%3AListe+der+gr%C3%B6%C3%9Ften+Schiffe+der+Welt&amp;rft.title=MSC+Takes+Delivery+of+the+World%27s+Biggest+Ultra+Large+Container+Ship&amp;rft.description=MSC+Takes+Delivery+of+the+World%27s+Biggest+Ultra+Large+Container+Ship&amp;rft.identifier=https%3A%2F%2Fmaritime-executive.com%2Farticle%2Fmsc-receives-second-ultra-large-and-this-one-is-the-world-s-largest&amp;rft.language=en\">&#160;</span></span>\\n</li>\\n<li id=\"cite_note-4\"><span class=\"mw-cite-backlink\"><a href=\"#cite_ref-4\">↑</a></span> <span class=\"reference-text\"><span class=\"cite\"><a rel=\"nofollow\" class=\"external text\" href=\"https://vesselregister.dnv.com/vesselregister/details/42806\"><i>DNV Vessel Register.</i></a><span class=\"Abrufdatum\">&#32;Abgerufen am 15.&#160;März 2023</span>.</span><span style=\"display: none;\" class=\"Z3988\" title=\"ctx_ver=Z39.88-2004&amp;rft_val_fmt=info%3Aofi%2Ffmt%3Akev%3Amtx%3Adc&amp;rfr_id=info%3Asid%2Fde.wikipedia.org%3AListe+der+gr%C3%B6%C3%9Ften+Schiffe+der+Welt&amp;rft.title=DNV+Vessel+Register&amp;rft.description=DNV+Vessel+Register&amp;rft.identifier=https%3A%2F%2Fvesselregister.dnv.com%2Fvesselregister%2Fdetails%2F42806\">&#160;</span></span>\\n</li>\\n<li id=\"cite_note-5\"><span class=\"mw-cite-backlink\"><a href=\"#cite_ref-5\">↑</a></span> <span class=\"reference-text\"><span class=\"cite\"><a rel=\"nofollow\" class=\"external text\" href=\"http://www.vesselfinder.com/news/1488-VIDEO-BIGGEST-SHIP-in-the-WORLD-but-not-MAERSK-MC-KINNEY-MOLLER\"><i>VIDEO: Biggest ship in the world, but not Maersk Mc-Kinney Møller.</i></a><span class=\"Abrufdatum\">&#32;Abgerufen am 9.&#160;März 2014</span>.</span><span style=\"display: none;\" class=\"Z3988\" title=\"ctx_ver=Z39.88-2004&amp;rft_val_fmt=info%3Aofi%2Ffmt%3Akev%3Amtx%3Adc&amp;rfr_id=info%3Asid%2Fde.wikipedia.org%3AListe+der+gr%C3%B6%C3%9Ften+Schiffe+der+Welt&amp;rft.title=VIDEO%3A+Biggest+ship+in+the+world%2C+but+not+Maersk+Mc-Kinney+M%C3%B8ller&amp;rft.description=VIDEO%3A+Biggest+ship+in+the+world%2C+but+not+Maersk+Mc-Kinney+M%C3%B8ller&amp;rft.identifier=http%3A%2F%2Fwww.vesselfinder.com%2Fnews%2F1488-VIDEO-BIGGEST-SHIP-in-the-WORLD-but-not-MAERSK-MC-KINNEY-MOLLER\">&#160;</span></span>\\n</li>\\n</ol></div><!--esi <esi:include src=\"/esitest-fa8a495983347898/content\" /> --><noscript><img src=\"https://login.wikimedia.org/wiki/Special:CentralAutoLogin/start?useformat=desktop&amp;type=1x1&amp;usesul3=0\" alt=\"\" width=\"1\" height=\"1\" style=\"border: none; position: absolute;\"></noscript>\\n<div class=\"printfooter\" data-nosnippet=\"\">Abgerufen von „<a dir=\"ltr\" href=\"https://de.wikipedia.org/w/index.php?title=Liste_der_größten_Schiffe_der_Welt&amp;oldid=251380379\">https://de.wikipedia.org/w/index.php?title=Liste_der_größten_Schiffe_der_Welt&amp;oldid=251380379</a>“</div></div>\\n\\t\\t<div id=\"catlinks\" class=\"catlinks\" data-mw=\"interface\"><div id=\"mw-normal-catlinks\" class=\"mw-normal-catlinks\"><a href=\"/wiki/Wikipedia:Kategorien\" title=\"Wikipedia:Kategorien\">Kategorien</a>: <ul><li><a href=\"/wiki/Kategorie:Liste_(Schiffe)\" title=\"Kategorie:Liste (Schiffe)\">Liste (Schiffe)</a></li><li><a href=\"/wiki/Kategorie:Liste_(technische_Rekorde)\" title=\"Kategorie:Liste (technische Rekorde)\">Liste (technische Rekorde)</a></li></ul></div><div id=\"mw-hidden-catlinks\" class=\"mw-hidden-catlinks mw-hidden-cats-hidden\">Versteckte Kategorie: <ul><li><a href=\"/wiki/Kategorie:MediaWiki:Gadget/annotationPair\" title=\"Kategorie:MediaWiki:Gadget/annotationPair\">MediaWiki:Gadget/annotationPair</a></li></ul></div></div>\\n\\t</div>\\n</div>\\n\\n<div id=\"mw-navigation\">\\n\\t<h2>Navigationsmenü</h2>\\n\\t<div id=\"mw-head\">\\n\\t\\t\\n<nav id=\"p-personal\" class=\"mw-portlet mw-portlet-personal vector-user-menu-legacy vector-menu\" aria-labelledby=\"p-personal-label\"  >\\n\\t<h3\\n\\t\\tid=\"p-personal-label\"\\n\\t\\t\\n\\t\\tclass=\"vector-menu-heading \"\\n\\t>\\n\\t\\t<span class=\"vector-menu-heading-label\">Meine Werkzeuge</span>\\n\\t</h3>\\n\\t<div class=\"vector-menu-content\">\\n\\t\\t\\n\\t\\t<ul class=\"vector-menu-content-list\">\\n\\t\\t\\t\\n\\t\\t\\t<li id=\"pt-anonuserpage\" class=\"mw-list-item\"><span title=\"Benutzerseite der IP-Adresse, von der aus du Änderungen durchführst\">Nicht angemeldet</span></li><li id=\"pt-anontalk\" class=\"mw-list-item\"><a href=\"/wiki/Spezial:Meine_Diskussionsseite\" title=\"Diskussion über Änderungen von dieser IP-Adresse [n]\" accesskey=\"n\"><span>Diskussionsseite</span></a></li><li id=\"pt-anoncontribs\" class=\"mw-list-item\"><a href=\"/wiki/Spezial:Meine_Beitr%C3%A4ge\" title=\"Eine Liste der Bearbeitungen, die von dieser IP-Adresse gemacht wurden [y]\" accesskey=\"y\"><span>Beiträge</span></a></li><li id=\"pt-createaccount\" class=\"mw-list-item\"><a href=\"/w/index.php?title=Spezial:Benutzerkonto_anlegen&amp;returnto=Liste+der+gr%C3%B6%C3%9Ften+Schiffe+der+Welt\" title=\"Wir ermutigen dich dazu, ein Benutzerkonto zu erstellen und dich anzumelden. Es ist jedoch nicht zwingend erforderlich.\"><span>Benutzerkonto erstellen</span></a></li><li id=\"pt-login\" class=\"mw-list-item\"><a href=\"/w/index.php?title=Spezial:Anmelden&amp;returnto=Liste+der+gr%C3%B6%C3%9Ften+Schiffe+der+Welt\" title=\"Anmelden ist zwar keine Pflicht, wird aber gerne gesehen. [o]\" accesskey=\"o\"><span>Anmelden</span></a></li>\\n\\t\\t</ul>\\n\\t\\t\\n\\t</div>\\n</nav>\\n\\n\\t\\t<div id=\"left-navigation\">\\n\\t\\t\\t\\n<nav id=\"p-namespaces\" class=\"mw-portlet mw-portlet-namespaces vector-menu-tabs vector-menu-tabs-legacy vector-menu\" aria-labelledby=\"p-namespaces-label\"  >\\n\\t<h3\\n\\t\\tid=\"p-namespaces-label\"\\n\\t\\t\\n\\t\\tclass=\"vector-menu-heading \"\\n\\t>\\n\\t\\t<span class=\"vector-menu-heading-label\">Namensräume</span>\\n\\t</h3>\\n\\t<div class=\"vector-menu-content\">\\n\\t\\t\\n\\t\\t<ul class=\"vector-menu-content-list\">\\n\\t\\t\\t\\n\\t\\t\\t<li id=\"ca-nstab-main\" class=\"selected mw-list-item\"><a href=\"/wiki/Liste_der_gr%C3%B6%C3%9Ften_Schiffe_der_Welt\" title=\"Seiteninhalt anzeigen [c]\" accesskey=\"c\"><span>Artikel</span></a></li><li id=\"ca-talk\" class=\"mw-list-item\"><a href=\"/wiki/Diskussion:Liste_der_gr%C3%B6%C3%9Ften_Schiffe_der_Welt\" rel=\"discussion\" title=\"Diskussion zum Seiteninhalt [t]\" accesskey=\"t\"><span>Diskussion</span></a></li>\\n\\t\\t</ul>\\n\\t\\t\\n\\t</div>\\n</nav>\\n\\n\\t\\t\\t\\n<nav id=\"p-variants\" class=\"mw-portlet mw-portlet-variants emptyPortlet vector-menu-dropdown vector-menu\" aria-labelledby=\"p-variants-label\"  >\\n\\t<input type=\"checkbox\"\\n\\t\\tid=\"p-variants-checkbox\"\\n\\t\\trole=\"button\"\\n\\t\\taria-haspopup=\"true\"\\n\\t\\tdata-event-name=\"ui.dropdown-p-variants\"\\n\\t\\tclass=\"vector-menu-checkbox\"\\n\\t\\taria-labelledby=\"p-variants-label\"\\n\\t>\\n\\t<label\\n\\t\\tid=\"p-variants-label\"\\n\\t\\t\\n\\t\\tclass=\"vector-menu-heading \"\\n\\t>\\n\\t\\t<span class=\"vector-menu-heading-label\">Deutsch</span>\\n\\t</label>\\n\\t<div class=\"vector-menu-content\">\\n\\t\\t\\n\\t\\t<ul class=\"vector-menu-content-list\">\\n\\t\\t\\t\\n\\t\\t\\t\\n\\t\\t</ul>\\n\\t\\t\\n\\t</div>\\n</nav>\\n\\n\\t\\t</div>\\n\\t\\t<div id=\"right-navigation\">\\n\\t\\t\\t\\n<nav id=\"p-views\" class=\"mw-portlet mw-portlet-views vector-menu-tabs vector-menu-tabs-legacy vector-menu\" aria-labelledby=\"p-views-label\"  >\\n\\t<h3\\n\\t\\tid=\"p-views-label\"\\n\\t\\t\\n\\t\\tclass=\"vector-menu-heading \"\\n\\t>\\n\\t\\t<span class=\"vector-menu-heading-label\">Ansichten</span>\\n\\t</h3>\\n\\t<div class=\"vector-menu-content\">\\n\\t\\t\\n\\t\\t<ul class=\"vector-menu-content-list\">\\n\\t\\t\\t\\n\\t\\t\\t<li id=\"ca-view\" class=\"selected mw-list-item\"><a href=\"/w/index.php?title=Liste_der_gr%C3%B6%C3%9Ften_Schiffe_der_Welt&amp;stable=1\"><span>Lesen</span></a></li><li id=\"ca-current\" class=\"collapsible mw-list-item\"><a href=\"/w/index.php?title=Liste_der_gr%C3%B6%C3%9Ften_Schiffe_der_Welt&amp;stable=0&amp;redirect=no\" title=\"Die unmarkieren Änderungen dieser Seite ansehen [v]\" accesskey=\"v\"><span>Ungesichtete Änderungen</span></a></li><li id=\"ca-ve-edit\" class=\"mw-list-item\"><a href=\"/w/index.php?title=Liste_der_gr%C3%B6%C3%9Ften_Schiffe_der_Welt&amp;oldid=251380379&amp;veaction=edit\" title=\"Diese Seite mit dem VisualEditor bearbeiten [v]\" accesskey=\"v\"><span>Bearbeiten</span></a></li><li id=\"ca-edit\" class=\"collapsible mw-list-item\"><a href=\"//de.wikipedia.org/w/index.php?title=Liste_der_gr%C3%B6%C3%9Ften_Schiffe_der_Welt&amp;action=edit\" title=\"Den Quelltext dieser Seite bearbeiten [e]\" accesskey=\"e\"><span>Quelltext bearbeiten</span></a></li><li id=\"ca-history\" class=\"mw-list-item\"><a href=\"/w/index.php?title=Liste_der_gr%C3%B6%C3%9Ften_Schiffe_der_Welt&amp;action=history\" title=\"Frühere Versionen dieser Seite [h]\" accesskey=\"h\"><span>Versionsgeschichte</span></a></li>\\n\\t\\t</ul>\\n\\t\\t\\n\\t</div>\\n</nav>\\n\\n\\t\\t\\t\\n<nav id=\"p-cactions\" class=\"mw-portlet mw-portlet-cactions emptyPortlet vector-menu-dropdown vector-menu\" aria-labelledby=\"p-cactions-label\"  title=\"Weitere Optionen\" >\\n\\t<input type=\"checkbox\"\\n\\t\\tid=\"p-cactions-checkbox\"\\n\\t\\trole=\"button\"\\n\\t\\taria-haspopup=\"true\"\\n\\t\\tdata-event-name=\"ui.dropdown-p-cactions\"\\n\\t\\tclass=\"vector-menu-checkbox\"\\n\\t\\taria-labelledby=\"p-cactions-label\"\\n\\t>\\n\\t<label\\n\\t\\tid=\"p-cactions-label\"\\n\\t\\t\\n\\t\\tclass=\"vector-menu-heading \"\\n\\t>\\n\\t\\t<span class=\"vector-menu-heading-label\">Weitere</span>\\n\\t</label>\\n\\t<div class=\"vector-menu-content\">\\n\\t\\t\\n\\t\\t<ul class=\"vector-menu-content-list\">\\n\\t\\t\\t\\n\\t\\t\\t\\n\\t\\t</ul>\\n\\t\\t\\n\\t</div>\\n</nav>\\n\\n\\t\\t\\t\\n<div id=\"p-search\" role=\"search\" class=\"vector-search-box-vue  vector-search-box-show-thumbnail vector-search-box-auto-expand-width vector-search-box\">\\n\\t<h3 >Suche</h3>\\n\\t<form action=\"/w/index.php\" id=\"searchform\" class=\"vector-search-box-form\">\\n\\t\\t<div id=\"simpleSearch\"\\n\\t\\t\\tclass=\"vector-search-box-inner\"\\n\\t\\t\\t data-search-loc=\"header-navigation\">\\n\\t\\t\\t<input class=\"vector-search-box-input\"\\n\\t\\t\\t\\t type=\"search\" name=\"search\" placeholder=\"Wikipedia durchsuchen\" aria-label=\"Wikipedia durchsuchen\" autocapitalize=\"sentences\" title=\"Durchsuche die Wikipedia [f]\" accesskey=\"f\" id=\"searchInput\"\\n\\t\\t\\t>\\n\\t\\t\\t<input type=\"hidden\" name=\"title\" value=\"Spezial:Suche\">\\n\\t\\t\\t<input id=\"mw-searchButton\"\\n\\t\\t\\t\\t class=\"searchButton mw-fallbackSearchButton\" type=\"submit\" name=\"fulltext\" title=\"Suche nach Seiten, die diesen Text enthalten\" value=\"Suchen\">\\n\\t\\t\\t<input id=\"searchButton\"\\n\\t\\t\\t\\t class=\"searchButton\" type=\"submit\" name=\"go\" title=\"Gehe direkt zu der Seite mit genau diesem Namen, falls sie vorhanden ist.\" value=\"Artikel\">\\n\\t\\t</div>\\n\\t</form>\\n</div>\\n\\n\\t\\t</div>\\n\\t</div>\\n\\t\\n<div id=\"mw-panel\" class=\"vector-legacy-sidebar\">\\n\\t<div id=\"p-logo\" role=\"banner\">\\n\\t\\t<a class=\"mw-wiki-logo\" href=\"/wiki/Wikipedia:Hauptseite\"\\n\\t\\t\\ttitle=\"Hauptseite\"></a>\\n\\t</div>\\n\\t\\n<nav id=\"p-navigation\" class=\"mw-portlet mw-portlet-navigation vector-menu-portal portal vector-menu\" aria-labelledby=\"p-navigation-label\"  >\\n\\t<h3\\n\\t\\tid=\"p-navigation-label\"\\n\\t\\t\\n\\t\\tclass=\"vector-menu-heading \"\\n\\t>\\n\\t\\t<span class=\"vector-menu-heading-label\">Navigation</span>\\n\\t</h3>\\n\\t<div class=\"vector-menu-content\">\\n\\t\\t\\n\\t\\t<ul class=\"vector-menu-content-list\">\\n\\t\\t\\t\\n\\t\\t\\t<li id=\"n-mainpage-description\" class=\"mw-list-item\"><a href=\"/wiki/Wikipedia:Hauptseite\" title=\"Hauptseite besuchen [z]\" accesskey=\"z\"><span>Hauptseite</span></a></li><li id=\"n-topics\" class=\"mw-list-item\"><a href=\"/wiki/Portal:Wikipedia_nach_Themen\"><span>Themenportale</span></a></li><li id=\"n-randompage\" class=\"mw-list-item\"><a href=\"/wiki/Spezial:Zuf%C3%A4llige_Seite\" title=\"Zufällige Seite aufrufen [x]\" accesskey=\"x\"><span>Zufälliger Artikel</span></a></li>\\n\\t\\t</ul>\\n\\t\\t\\n\\t</div>\\n</nav>\\n\\n\\t\\n<nav id=\"p-Mitmachen\" class=\"mw-portlet mw-portlet-Mitmachen vector-menu-portal portal vector-menu\" aria-labelledby=\"p-Mitmachen-label\"  >\\n\\t<h3\\n\\t\\tid=\"p-Mitmachen-label\"\\n\\t\\t\\n\\t\\tclass=\"vector-menu-heading \"\\n\\t>\\n\\t\\t<span class=\"vector-menu-heading-label\">Mitmachen</span>\\n\\t</h3>\\n\\t<div class=\"vector-menu-content\">\\n\\t\\t\\n\\t\\t<ul class=\"vector-menu-content-list\">\\n\\t\\t\\t\\n\\t\\t\\t<li id=\"n-Artikel-verbessern\" class=\"mw-list-item\"><a href=\"/wiki/Wikipedia:Beteiligen\"><span>Artikel verbessern</span></a></li><li id=\"n-Neuerartikel\" class=\"mw-list-item\"><a href=\"/wiki/Hilfe:Neuen_Artikel_anlegen\"><span>Neuen Artikel anlegen</span></a></li><li id=\"n-portal\" class=\"mw-list-item\"><a href=\"/wiki/Wikipedia:Autorenportal\" title=\"Info-Zentrum über Beteiligungsmöglichkeiten\"><span>Autorenportal</span></a></li><li id=\"n-help\" class=\"mw-list-item\"><a href=\"/wiki/Hilfe:%C3%9Cbersicht\" title=\"Übersicht über Hilfeseiten\"><span>Hilfe</span></a></li><li id=\"n-recentchanges\" class=\"mw-list-item\"><a href=\"/wiki/Spezial:Letzte_%C3%84nderungen\" title=\"Liste der letzten Änderungen in Wikipedia [r]\" accesskey=\"r\"><span>Letzte Änderungen</span></a></li><li id=\"n-contact\" class=\"mw-list-item\"><a href=\"/wiki/Wikipedia:Kontakt\" title=\"Kontaktmöglichkeiten\"><span>Kontakt</span></a></li><li id=\"n-sitesupport\" class=\"mw-list-item\"><a href=\"https://donate.wikimedia.org/?wmf_source=donate&amp;wmf_medium=sidebar&amp;wmf_campaign=de.wikipedia.org&amp;uselang=de\" title=\"Unterstütze uns\"><span>Spenden</span></a></li>\\n\\t\\t</ul>\\n\\t\\t\\n\\t</div>\\n</nav>\\n\\n<nav id=\"p-tb\" class=\"mw-portlet mw-portlet-tb vector-menu-portal portal vector-menu\" aria-labelledby=\"p-tb-label\"  >\\n\\t<h3\\n\\t\\tid=\"p-tb-label\"\\n\\t\\t\\n\\t\\tclass=\"vector-menu-heading \"\\n\\t>\\n\\t\\t<span class=\"vector-menu-heading-label\">Werkzeuge</span>\\n\\t</h3>\\n\\t<div class=\"vector-menu-content\">\\n\\t\\t\\n\\t\\t<ul class=\"vector-menu-content-list\">\\n\\t\\t\\t\\n\\t\\t\\t<li id=\"t-whatlinkshere\" class=\"mw-list-item\"><a href=\"/wiki/Spezial:Linkliste/Liste_der_gr%C3%B6%C3%9Ften_Schiffe_der_Welt\" title=\"Liste aller Seiten, die hierher verlinken [j]\" accesskey=\"j\"><span>Links auf diese Seite</span></a></li><li id=\"t-recentchangeslinked\" class=\"mw-list-item\"><a href=\"/wiki/Spezial:%C3%84nderungen_an_verlinkten_Seiten/Liste_der_gr%C3%B6%C3%9Ften_Schiffe_der_Welt\" rel=\"nofollow\" title=\"Letzte Änderungen an Seiten, die von hier verlinkt sind [k]\" accesskey=\"k\"><span>Änderungen an verlinkten Seiten</span></a></li><li id=\"t-specialpages\" class=\"mw-list-item\"><a href=\"/wiki/Spezial:Spezialseiten\" title=\"Liste aller Spezialseiten [q]\" accesskey=\"q\"><span>Spezialseiten</span></a></li><li id=\"t-permalink\" class=\"mw-list-item\"><a href=\"/w/index.php?title=Liste_der_gr%C3%B6%C3%9Ften_Schiffe_der_Welt&amp;oldid=251380379\" title=\"Dauerhafter Link zu dieser Seitenversion\"><span>Permanenter Link</span></a></li><li id=\"t-info\" class=\"mw-list-item\"><a href=\"/w/index.php?title=Liste_der_gr%C3%B6%C3%9Ften_Schiffe_der_Welt&amp;action=info\" title=\"Weitere Informationen über diese Seite\"><span>Seiten\\xad\\xadinformationen</span></a></li><li id=\"t-cite\" class=\"mw-list-item\"><a href=\"/w/index.php?title=Spezial:Zitierhilfe&amp;page=Liste_der_gr%C3%B6%C3%9Ften_Schiffe_der_Welt&amp;id=251380379&amp;wpFormIdentifier=titleform\" title=\"Hinweise, wie diese Seite zitiert werden kann\"><span>Artikel zitieren</span></a></li><li id=\"t-urlshortener\" class=\"mw-list-item\"><a href=\"/w/index.php?title=Spezial:URL-K%C3%BCrzung&amp;url=https%3A%2F%2Fde.wikipedia.org%2Fwiki%2FListe_der_gr%25C3%25B6%25C3%259Ften_Schiffe_der_Welt\"><span>Kurzlink</span></a></li><li id=\"t-urlshortener-qrcode\" class=\"mw-list-item\"><a href=\"/w/index.php?title=Spezial:QrCode&amp;url=https%3A%2F%2Fde.wikipedia.org%2Fwiki%2FListe_der_gr%25C3%25B6%25C3%259Ften_Schiffe_der_Welt\"><span>QR-Code herunterladen</span></a></li>\\n\\t\\t</ul>\\n\\t\\t\\n\\t</div>\\n</nav>\\n\\n<nav id=\"p-coll-print_export\" class=\"mw-portlet mw-portlet-coll-print_export vector-menu-portal portal vector-menu\" aria-labelledby=\"p-coll-print_export-label\"  >\\n\\t<h3\\n\\t\\tid=\"p-coll-print_export-label\"\\n\\t\\t\\n\\t\\tclass=\"vector-menu-heading \"\\n\\t>\\n\\t\\t<span class=\"vector-menu-heading-label\">Drucken/\\u200bexportieren</span>\\n\\t</h3>\\n\\t<div class=\"vector-menu-content\">\\n\\t\\t\\n\\t\\t<ul class=\"vector-menu-content-list\">\\n\\t\\t\\t\\n\\t\\t\\t<li id=\"coll-download-as-rl\" class=\"mw-list-item\"><a href=\"/w/index.php?title=Spezial:Buch&amp;bookcmd=render_article&amp;arttitle=Liste+der+gr%C3%B6%C3%9Ften+Schiffe+der+Welt&amp;returnto=Liste+der+gr%C3%B6%C3%9Ften+Schiffe+der+Welt&amp;oldid=252292753&amp;writer=rl\"><span>Als PDF herunterladen</span></a></li><li id=\"t-print\" class=\"mw-list-item\"><a href=\"/w/index.php?title=Liste_der_gr%C3%B6%C3%9Ften_Schiffe_der_Welt&amp;printable=yes\" title=\"Druckansicht dieser Seite [p]\" accesskey=\"p\"><span>Druckversion</span></a></li>\\n\\t\\t</ul>\\n\\t\\t\\n\\t</div>\\n</nav>\\n\\n<nav id=\"p-wikibase-otherprojects\" class=\"mw-portlet mw-portlet-wikibase-otherprojects vector-menu-portal portal vector-menu\" aria-labelledby=\"p-wikibase-otherprojects-label\"  >\\n\\t<h3\\n\\t\\tid=\"p-wikibase-otherprojects-label\"\\n\\t\\t\\n\\t\\tclass=\"vector-menu-heading \"\\n\\t>\\n\\t\\t<span class=\"vector-menu-heading-label\">In anderen Projekten</span>\\n\\t</h3>\\n\\t<div class=\"vector-menu-content\">\\n\\t\\t\\n\\t\\t<ul class=\"vector-menu-content-list\">\\n\\t\\t\\t\\n\\t\\t\\t<li id=\"t-wikibase\" class=\"wb-otherproject-link wb-otherproject-wikibase-dataitem mw-list-item\"><a href=\"https://www.wikidata.org/wiki/Special:EntityPage/Q1778295\" title=\"Link zum verbundenen Objekt im Datenrepositorium [g]\" accesskey=\"g\"><span>Wikidata-Datenobjekt</span></a></li>\\n\\t\\t</ul>\\n\\t\\t\\n\\t</div>\\n</nav>\\n\\n\\t\\n<nav id=\"p-lang\" class=\"mw-portlet mw-portlet-lang vector-menu-portal portal vector-menu\" aria-labelledby=\"p-lang-label\"  >\\n\\t<h3\\n\\t\\tid=\"p-lang-label\"\\n\\t\\t\\n\\t\\tclass=\"vector-menu-heading \"\\n\\t>\\n\\t\\t<span class=\"vector-menu-heading-label\">In anderen Sprachen</span>\\n\\t</h3>\\n\\t<div class=\"vector-menu-content\">\\n\\t\\t\\n\\t\\t<ul class=\"vector-menu-content-list\">\\n\\t\\t\\t\\n\\t\\t\\t<li class=\"interlanguage-link interwiki-be mw-list-item\"><a href=\"https://be.wikipedia.org/wiki/%D0%A1%D0%BF%D1%96%D1%81_%D1%81%D0%B0%D0%BC%D1%8B%D1%85_%D0%B4%D0%BE%D1%9E%D0%B3%D1%96%D1%85_%D1%81%D1%83%D0%B4%D0%BD%D0%B0%D1%9E_%D0%BF%D0%B0_%D1%82%D1%8B%D0%BF%D0%B5\" title=\"Спіс самых доўгіх суднаў па тыпе – Belarussisch\" lang=\"be\" hreflang=\"be\" data-title=\"Спіс самых доўгіх суднаў па тыпе\" data-language-autonym=\"Беларуская\" data-language-local-name=\"Belarussisch\" class=\"interlanguage-link-target\"><span>Беларуская</span></a></li><li class=\"interlanguage-link interwiki-en mw-list-item\"><a href=\"https://en.wikipedia.org/wiki/List_of_longest_ships\" title=\"List of longest ships – Englisch\" lang=\"en\" hreflang=\"en\" data-title=\"List of longest ships\" data-language-autonym=\"English\" data-language-local-name=\"Englisch\" class=\"interlanguage-link-target\"><span>English</span></a></li><li class=\"interlanguage-link interwiki-es mw-list-item\"><a href=\"https://es.wikipedia.org/wiki/Anexo:Barcos_m%C3%A1s_largos\" title=\"Anexo:Barcos más largos – Spanisch\" lang=\"es\" hreflang=\"es\" data-title=\"Anexo:Barcos más largos\" data-language-autonym=\"Español\" data-language-local-name=\"Spanisch\" class=\"interlanguage-link-target\"><span>Español</span></a></li><li class=\"interlanguage-link interwiki-fr mw-list-item\"><a href=\"https://fr.wikipedia.org/wiki/Liste_des_plus_grands_navires\" title=\"Liste des plus grands navires – Französisch\" lang=\"fr\" hreflang=\"fr\" data-title=\"Liste des plus grands navires\" data-language-autonym=\"Français\" data-language-local-name=\"Französisch\" class=\"interlanguage-link-target\"><span>Français</span></a></li><li class=\"interlanguage-link interwiki-ro mw-list-item\"><a href=\"https://ro.wikipedia.org/wiki/List%C4%83_cu_nave_maritime_importante\" title=\"Listă cu nave maritime importante – Rumänisch\" lang=\"ro\" hreflang=\"ro\" data-title=\"Listă cu nave maritime importante\" data-language-autonym=\"Română\" data-language-local-name=\"Rumänisch\" class=\"interlanguage-link-target\"><span>Română</span></a></li><li class=\"interlanguage-link interwiki-ru mw-list-item\"><a href=\"https://ru.wikipedia.org/wiki/%D0%A1%D0%BF%D0%B8%D1%81%D0%BE%D0%BA_%D1%81%D0%B0%D0%BC%D1%8B%D1%85_%D0%B4%D0%BB%D0%B8%D0%BD%D0%BD%D1%8B%D1%85_%D1%81%D1%83%D0%B4%D0%BE%D0%B2_%D0%BF%D0%BE_%D1%82%D0%B8%D0%BF%D1%83\" title=\"Список самых длинных судов по типу – Russisch\" lang=\"ru\" hreflang=\"ru\" data-title=\"Список самых длинных судов по типу\" data-language-autonym=\"Русский\" data-language-local-name=\"Russisch\" class=\"interlanguage-link-target\"><span>Русский</span></a></li><li class=\"interlanguage-link interwiki-tr mw-list-item\"><a href=\"https://tr.wikipedia.org/wiki/D%C3%BCnyan%C4%B1n_en_uzun_gemileri_listesi\" title=\"Dünyanın en uzun gemileri listesi – Türkisch\" lang=\"tr\" hreflang=\"tr\" data-title=\"Dünyanın en uzun gemileri listesi\" data-language-autonym=\"Türkçe\" data-language-local-name=\"Türkisch\" class=\"interlanguage-link-target\"><span>Türkçe</span></a></li>\\n\\t\\t</ul>\\n\\t\\t<div class=\"after-portlet after-portlet-lang\"><span class=\"wb-langlinks-edit wb-langlinks-link\"><a href=\"https://www.wikidata.org/wiki/Special:EntityPage/Q1778295#sitelinks-wikipedia\" title=\"Links auf Artikel in anderen Sprachen bearbeiten\" class=\"wbc-editpage\">Links bearbeiten</a></span></div>\\n\\t</div>\\n</nav>\\n\\n</div>\\n\\n</div>\\n\\n<footer id=\"footer\" class=\"mw-footer\" >\\n\\t<ul id=\"footer-info\">\\n\\t<li id=\"footer-info-lastmod\"> Diese Seite wurde zuletzt am 19. Dezember 2024 um 12:08 Uhr bearbeitet.</li>\\n\\t<li id=\"footer-info-copyright\"><div id=\"footer-info-copyright-stats\" class=\"noprint\"><a rel=\"nofollow\" class=\"external text\" href=\"https://pageviews.wmcloud.org/?pages=Liste_der_gr%C3%B6%C3%9Ften_Schiffe_der_Welt&amp;project=de.wikipedia.org\">Abrufstatistik</a>&#160;· <a rel=\"nofollow\" class=\"external text\" href=\"https://xtools.wmcloud.org/authorship/de.wikipedia.org/Liste_der_gr%C3%B6%C3%9Ften_Schiffe_der_Welt?uselang=de\">Autoren</a> </div><div id=\"footer-info-copyright-separator\"><br /></div><div id=\"footer-info-copyright-info\">\\n<p>Der Text ist unter der Lizenz <a rel=\"nofollow\" class=\"external text\" href=\"https://creativecommons.org/licenses/by-sa/4.0/deed.de\">„Creative-Commons Namensnennung – Weitergabe unter gleichen Bedingungen“</a> verfügbar; Informationen zu den Urhebern und zum Lizenzstatus eingebundener Mediendateien (etwa Bilder oder Videos) können im Regelfall durch Anklicken dieser abgerufen werden. Möglicherweise unterliegen die Inhalte jeweils zusätzlichen Bedingungen. Durch die Nutzung dieser Website erklären Sie sich mit den <span class=\"plainlinks\"><a class=\"external text\" href=\"https://foundation.wikimedia.org/wiki/Policy:Terms_of_Use/de\">Nutzungsbedingungen</a> und der <a class=\"external text\" href=\"https://foundation.wikimedia.org/wiki/Policy:Privacy_policy/de\">Datenschutzrichtlinie</a></span> einverstanden.<br />\\n</p>\\nWikipedia® ist eine eingetragene Marke der Wikimedia Foundation Inc.</div></li>\\n</ul>\\n\\n\\t<ul id=\"footer-places\">\\n\\t<li id=\"footer-places-privacy\"><a href=\"https://foundation.wikimedia.org/wiki/Special:MyLanguage/Policy:Privacy_policy/de\">Datenschutz</a></li>\\n\\t<li id=\"footer-places-about\"><a href=\"/wiki/Wikipedia:%C3%9Cber_Wikipedia\">Über Wikipedia</a></li>\\n\\t<li id=\"footer-places-disclaimers\"><a href=\"/wiki/Wikipedia:Impressum\">Impressum</a></li>\\n\\t<li id=\"footer-places-wm-codeofconduct\"><a href=\"https://foundation.wikimedia.org/wiki/Special:MyLanguage/Policy:Universal_Code_of_Conduct\">Verhaltenskodex</a></li>\\n\\t<li id=\"footer-places-developers\"><a href=\"https://developer.wikimedia.org\">Entwickler</a></li>\\n\\t<li id=\"footer-places-statslink\"><a href=\"https://stats.wikimedia.org/#/de.wikipedia.org\">Statistiken</a></li>\\n\\t<li id=\"footer-places-cookiestatement\"><a href=\"https://foundation.wikimedia.org/wiki/Special:MyLanguage/Policy:Cookie_statement\">Stellungnahme zu Cookies</a></li>\\n\\t<li id=\"footer-places-mobileview\"><a href=\"//de.m.wikipedia.org/w/index.php?title=Liste_der_gr%C3%B6%C3%9Ften_Schiffe_der_Welt&amp;mobileaction=toggle_view_mobile\" class=\"noprint stopMobileRedirectToggle\">Mobile Ansicht</a></li>\\n</ul>\\n\\n\\t<ul id=\"footer-icons\" class=\"noprint\">\\n\\t<li id=\"footer-copyrightico\"><a href=\"https://wikimediafoundation.org/\" class=\"cdx-button cdx-button--fake-button cdx-button--size-large cdx-button--fake-button--enabled\"><img src=\"/static/images/footer/wikimedia-button.svg\" width=\"84\" height=\"29\" alt=\"Wikimedia Foundation\" loading=\"lazy\"></a></li>\\n\\t<li id=\"footer-poweredbyico\"><a href=\"https://www.mediawiki.org/\" class=\"cdx-button cdx-button--fake-button cdx-button--size-large cdx-button--fake-button--enabled\"><img src=\"/w/resources/assets/poweredby_mediawiki.svg\" alt=\"Powered by MediaWiki\" width=\"88\" height=\"31\" loading=\"lazy\"></a></li>\\n</ul>\\n\\n</footer>\\n\\n<script>(RLQ=window.RLQ||[]).push(function(){mw.log.warn(\"This page is using the deprecated ResourceLoader module \\\\\"codex-search-styles\\\\\".\\\\n[1.43] Use a CodexModule with codexComponents to set your specific components used: https://www.mediawiki.org/wiki/Codex#Using_a_limited_subset_of_components\");mw.config.set({\"wgHostname\":\"mw-web.eqiad.main-55d995bd96-l689x\",\"wgBackendResponseTime\":487,\"wgPageParseReport\":{\"limitreport\":{\"cputime\":\"0.242\",\"walltime\":\"0.303\",\"ppvisitednodes\":{\"value\":1894,\"limit\":1000000},\"postexpandincludesize\":{\"value\":14882,\"limit\":2097152},\"templateargumentsize\":{\"value\":8123,\"limit\":2097152},\"expansiondepth\":{\"value\":14,\"limit\":100},\"expensivefunctioncount\":{\"value\":1,\"limit\":500},\"unstrip-depth\":{\"value\":0,\"limit\":20},\"unstrip-size\":{\"value\":24157,\"limit\":5000000},\"entityaccesscount\":{\"value\":0,\"limit\":400},\"timingprofile\":[\"100.00%  234.480      1 -total\",\" 44.58%  104.532      5 Vorlage:Internetquelle\",\" 24.04%   56.373      2 Vorlage:FN\",\" 17.11%   40.114      1 Vorlage:Tabellenstile\",\"  8.75%   20.518      1 Vorlage:FNBox\",\"  8.11%   19.018      5 Vorlage:Str_len\",\"  7.50%   17.576      2 Vorlage:FNZ\",\"  7.01%   16.434     16 Vorlage:Str_match\"]},\"scribunto\":{\"limitreport-timeusage\":{\"value\":\"0.064\",\"limit\":\"10.000\"},\"limitreport-memusage\":{\"value\":2778668,\"limit\":52428800}},\"cachereport\":{\"origin\":\"mw-web.eqiad.main-55d995bd96-l689x\",\"timestamp\":\"20250117124931\",\"ttl\":2592000,\"transientcontent\":false}}});});</script>\\n<script type=\"application/ld+json\">{\"@context\":\"https:\\\\/\\\\/schema.org\",\"@type\":\"Article\",\"name\":\"Liste der gr\\\\u00f6\\\\u00dften Schiffe der Welt\",\"url\":\"https:\\\\/\\\\/de.wikipedia.org\\\\/wiki\\\\/Liste_der_gr%C3%B6%C3%9Ften_Schiffe_der_Welt\",\"sameAs\":\"http:\\\\/\\\\/www.wikidata.org\\\\/entity\\\\/Q1778295\",\"mainEntity\":\"http:\\\\/\\\\/www.wikidata.org\\\\/entity\\\\/Q1778295\",\"author\":{\"@type\":\"Organization\",\"name\":\"Autoren der Wikimedia-Projekte\"},\"publisher\":{\"@type\":\"Organization\",\"name\":\"Wikimedia Foundation, Inc.\",\"logo\":{\"@type\":\"ImageObject\",\"url\":\"https:\\\\/\\\\/www.wikimedia.org\\\\/static\\\\/images\\\\/wmf-hor-googpub.png\"}},\"datePublished\":\"2006-06-15T00:16:00Z\",\"image\":\"https:\\\\/\\\\/upload.wikimedia.org\\\\/wikipedia\\\\/commons\\\\/5\\\\/5b\\\\/Bateaux_comparaison2_with_Allure.svg\",\"headline\":\"Wikimedia-Liste\"}</script>\\n</body>\\n</html>'"
      ]
     },
     "execution_count": 70,
     "metadata": {},
     "output_type": "execute_result"
    }
   ],
   "execution_count": 70
  },
  {
   "metadata": {
    "ExecuteTime": {
     "end_time": "2025-01-24T10:32:36.184618Z",
     "start_time": "2025-01-24T10:32:36.007025Z"
    }
   },
   "cell_type": "code",
   "source": "ship_soup = BeautifulSoup(response.text)",
   "outputs": [],
   "execution_count": 71
  },
  {
   "metadata": {
    "ExecuteTime": {
     "end_time": "2025-01-24T10:32:39.920478Z",
     "start_time": "2025-01-24T10:32:39.847615Z"
    }
   },
   "cell_type": "code",
   "source": "ship_soup.find('table')",
   "outputs": [
    {
     "data": {
      "text/plain": [
       "<table class=\"wikitable sortable zebra\">\n",
       "<caption>Größte und längste Schiffe ihrer Art\n",
       "</caption>\n",
       "<tbody><tr>\n",
       "<th>Kategorie</th>\n",
       "<th>Schiffsname\n",
       "</th></tr>\n",
       "<tr>\n",
       "<td><a href=\"/wiki/Kreuzfahrtschiff\" title=\"Kreuzfahrtschiff\">Kreuzfahrtschiff</a></td>\n",
       "<td><i><a href=\"/wiki/Icon_of_the_Seas\" title=\"Icon of the Seas\">Icon of the Seas</a><sup class=\"reference\" id=\"cite_ref-1\"><a href=\"#cite_note-1\"><span class=\"cite-bracket\">[</span>1<span class=\"cite-bracket\">]</span></a></sup></i>\n",
       "</td></tr>\n",
       "<tr>\n",
       "<td><a href=\"/wiki/Segelschiff\" title=\"Segelschiff\">Segelschiff</a></td>\n",
       "<td><i><a href=\"/wiki/SY_A\" title=\"SY A\">SY A</a></i>\n",
       "</td></tr>\n",
       "<tr>\n",
       "<td><a href=\"/wiki/Frachtsegler\" title=\"Frachtsegler\">Frachtsegler</a></td>\n",
       "<td><i><a href=\"/wiki/France_(Schiff,_1912%E2%80%931922)\" title=\"France (Schiff, 1912–1922)\">France</a></i> (nach Größe [BRT])<i>, <a href=\"/wiki/Preu%C3%9Fen_(Schiff,_1902)\" title=\"Preußen (Schiff, 1902)\">Preußen</a></i> (nach Länge)\n",
       "</td></tr>\n",
       "<tr>\n",
       "<td><a href=\"/wiki/Eisbrecher\" title=\"Eisbrecher\">Eisbrecher</a></td>\n",
       "<td><a class=\"mw-redirect\" href=\"/wiki/Arktika_(Schiff,_2020)\" title=\"Arktika (Schiff, 2020)\"><i>Arktika</i></a>\n",
       "</td></tr>\n",
       "<tr>\n",
       "<td><a href=\"/wiki/Autof%C3%A4hre\" title=\"Autofähre\">Autofähre</a></td>\n",
       "<td><i><a href=\"/wiki/Color_Magic\" title=\"Color Magic\">Color Magic</a></i> (nach Größe [BRZ]); <i><a href=\"/wiki/Cruise_Barcelona\" title=\"Cruise Barcelona\">Cruise Barcelona</a></i> und <i><a href=\"/wiki/Cruise_Roma\" title=\"Cruise Roma\">Cruise Roma</a></i> (nach Länge)\n",
       "</td></tr>\n",
       "<tr>\n",
       "<td>LNG-Fähre</td>\n",
       "<td><i><a href=\"/wiki/Nils_Holgersson_(Schiff,_2022)\" title=\"Nils Holgersson (Schiff, 2022)\">Nils Holgerson</a>, <a href=\"/wiki/Peter_Pan_(Schiff,_2022)\" title=\"Peter Pan (Schiff, 2022)\">Peter Pan</a></i>\n",
       "</td></tr>\n",
       "<tr>\n",
       "<td>Kombifähre (Eisenbahn/RoRo)</td>\n",
       "<td><i><a href=\"/wiki/Sk%C3%A5ne_(Schiff,_1998)\" title=\"Skåne (Schiff, 1998)\">Skåne</a></i>\n",
       "</td></tr>\n",
       "<tr>\n",
       "<td><a href=\"/wiki/Autotransporter_(Schiffstyp)\" title=\"Autotransporter (Schiffstyp)\">Autotransporter</a></td>\n",
       "<td><a href=\"/wiki/Mark-V-Klasse\" title=\"Mark-V-Klasse\">Mark-V-Klasse</a> (nach Länge und Tragfähigkeit); <a href=\"/wiki/Aurora-Klasse_(2024)\" title=\"Aurora-Klasse (2024)\">Aurora-Klasse</a> (nach Vermessung und Fahrzeugkapazität)<sup class=\"reference\" id=\"cite_ref-2\"><a href=\"#cite_note-2\"><span class=\"cite-bracket\">[</span>2<span class=\"cite-bracket\">]</span></a></sup>\n",
       "</td></tr>\n",
       "<tr>\n",
       "<td><a href=\"/wiki/Flugzeugtr%C3%A4ger\" title=\"Flugzeugträger\">Flugzeugträger</a></td>\n",
       "<td><a href=\"/wiki/Gerald_R._Ford_(Schiff)\" title=\"Gerald R. Ford (Schiff)\">USS <i>Gerald R. Ford</i> (CVN-78)</a> (nach Tonnage); <a class=\"new\" href=\"/w/index.php?title=USS_Enterprise_(CVN-65)&amp;action=edit&amp;redlink=1\" title=\"USS Enterprise (CVN-65) (Seite nicht vorhanden)\">USS <i>Enterprise</i> (CVN-65)</a> (nach Länge)\n",
       "</td></tr>\n",
       "<tr>\n",
       "<td><a href=\"/wiki/Schlachtschiff\" title=\"Schlachtschiff\">Schlachtschiff</a></td>\n",
       "<td><a href=\"/wiki/Yamato_(Schiff,_1941)\" title=\"Yamato (Schiff, 1941)\"><i>Yamato</i></a> und <a href=\"/wiki/Musashi_(Schiff,_1942)\" title=\"Musashi (Schiff, 1942)\"><i>Musashi</i></a>\n",
       "</td></tr>\n",
       "<tr>\n",
       "<td><a class=\"mw-redirect\" href=\"/wiki/Unterseeboot\" title=\"Unterseeboot\">Unterseeboot</a></td>\n",
       "<td><a href=\"/wiki/TK-208_Dmitri_Donskoj\" title=\"TK-208 Dmitri Donskoj\"><i>Dmitri Donskoi</i> (TK-208)</a>\n",
       "</td></tr>\n",
       "<tr>\n",
       "<td><a href=\"/wiki/Containerschiff\" title=\"Containerschiff\">Containerschiff</a></td>\n",
       "<td><a href=\"/wiki/MSC-Irina-Typ\" title=\"MSC-Irina-Typ\"><i>MSC Irina</i></a><sup class=\"reference\" id=\"cite_ref-3\"><a href=\"#cite_note-3\"><span class=\"cite-bracket\">[</span>3<span class=\"cite-bracket\">]</span></a></sup><sup class=\"reference\" id=\"cite_ref-4\"><a href=\"#cite_note-4\"><span class=\"cite-bracket\">[</span>4<span class=\"cite-bracket\">]</span></a></sup>\n",
       "</td></tr>\n",
       "<tr>\n",
       "<td><a class=\"mw-redirect\" href=\"/wiki/Sch%C3%BCttgutschiff\" title=\"Schüttgutschiff\">Schüttgutschiff</a></td>\n",
       "<td><i><a href=\"/wiki/Valemax-Klasse\" title=\"Valemax-Klasse\">Yuan He Hai</a></i> (Valemax-Klasse)\n",
       "</td></tr>\n",
       "<tr>\n",
       "<td><a class=\"mw-redirect\" href=\"/wiki/%C3%96ltanker\" title=\"Öltanker\">Öltanker</a> (doppelwandig)</td>\n",
       "<td><i><a href=\"/wiki/Hellespont-Alhambra-Klasse\" title=\"Hellespont-Alhambra-Klasse\">TI Europe</a></i>, <i><a href=\"/wiki/Hellespont-Alhambra-Klasse\" title=\"Hellespont-Alhambra-Klasse\">TI Oceania</a></i> <style data-mw-deduplicate=\"TemplateStyles:r247957335\">.mw-parser-output .fussnoten-marke{font-size:0.75rem;font-style:normal;font-variant:normal;font-weight:normal;unicode-bidi:isolate;white-space:nowrap}.mw-parser-output .fussnoten-marke.reference,.mw-parser-output span.fussnoten-inhalt{padding-left:0.1rem}.mw-parser-output .fussnoten-marke.reference~.fussnoten-marke.reference,.mw-parser-output span.fussnoten-inhalt~span.fussnoten-inhalt{padding-left:0.15rem}.mw-parser-output .fussnoten-block{margin-bottom:0.1rem}.mw-parser-output div.fussnoten-inhalt{display:inline-block;padding-left:0.8rem;text-indent:-0.8rem}.mw-parser-output div.fussnoten-inhalt p,.mw-parser-output div.fussnoten-inhalt dl,.mw-parser-output div.fussnoten-inhalt ol,.mw-parser-output div.fussnoten-inhalt ul{text-indent:0}.mw-parser-output div.fussnoten-inhalt.fussnoten-floatfix{display:block}.mw-parser-output .fussnoten-box{margin-top:0.5rem;padding-left:0.8rem}.mw-parser-output .fussnoten-box,.mw-parser-output div.fussnoten-inhalt{font-size:94%}.mw-parser-output .fussnoten-box div.fussnoten-inhalt,.mw-parser-output span.fussnoten-inhalt,.mw-parser-output .fussnoten-inhalt .reference-text{font-size:inherit}.mw-parser-output .fussnoten-inhalt .reference-text{display:inline}.mw-parser-output .fussnoten-linie{display:inline-block;position:relative;top:-1em;border-top:solid 1px #808080;width:8rem}.mw-parser-output .fussnoten-linie+p,.mw-parser-output .fussnoten-linie+dl,.mw-parser-output .fussnoten-linie+ol,.mw-parser-output .fussnoten-linie+ul,.mw-parser-output .fussnoten-linie+link+div{margin-top:-1em}.mw-parser-output .fussnoten-marke.reference:target,.mw-parser-output .fussnoten-inhalt:target{background-color:#eaf3ff;box-shadow:0 0 0 0.25em #eaf3ff}.mw-parser-output .fussnoten-marke.reference:target,.mw-parser-output .fussnoten-inhalt:target .fussnoten-marke{font-weight:bold}</style> <span class=\"reference\"><sup class=\"fussnoten-marke\" data-annotationpair-m=\"Anm._1\">Anm. 1</sup></span>\n",
       "</td></tr>\n",
       "<tr>\n",
       "<td>Öltanker (einwandig)</td>\n",
       "<td><i><a href=\"/wiki/Jahre_Viking\" title=\"Jahre Viking\">Jahre Viking</a></i> <link href=\"mw-data:TemplateStyles:r247957335\" rel=\"mw-deduplicated-inline-style\"/> <span class=\"reference\"><sup class=\"fussnoten-marke\" data-annotationpair-m=\"Anm._2\">Anm. 2</sup></span>; <i><a href=\"/wiki/Pierre_Guillaumat_(Schiff)\" title=\"Pierre Guillaumat (Schiff)\">Pierre Guillaumat</a></i>\n",
       "</td></tr>\n",
       "<tr>\n",
       "<td><a class=\"mw-redirect\" href=\"/wiki/Fl%C3%BCssiggastanker\" title=\"Flüssiggastanker\">Flüssiggastanker</a></td>\n",
       "<td><i><a href=\"/wiki/Nakilat_Q-Max-Klasse\" title=\"Nakilat Q-Max-Klasse\">Mozah</a></i>\n",
       "</td></tr>\n",
       "<tr>\n",
       "<td><a href=\"/wiki/Dockschiff\" title=\"Dockschiff\">Dockschiff</a></td>\n",
       "<td><i><a href=\"/wiki/Boka_Vanguard\" title=\"Boka Vanguard\">Boka Vanguard</a></i>\n",
       "</td></tr>\n",
       "<tr>\n",
       "<td><a href=\"/wiki/Schwimmkran\" title=\"Schwimmkran\">Schwimmkran</a></td>\n",
       "<td><a href=\"/wiki/Sleipnir_(Schiff)\" title=\"Sleipnir (Schiff)\"><i>Sleipnir</i></a>\n",
       "</td></tr>\n",
       "<tr>\n",
       "<td><a class=\"mw-redirect\" href=\"/wiki/Motoryacht\" title=\"Motoryacht\">Motoryacht</a></td>\n",
       "<td><i><a href=\"/wiki/REV_Ocean\" title=\"REV Ocean\">REV Ocean</a></i> (nach Länge); <i><a href=\"/wiki/Dilbar_(Schiff)\" title=\"Dilbar (Schiff)\">Dilbar</a></i> (nach Größe (BRZ))\n",
       "</td></tr>\n",
       "<tr>\n",
       "<td><a href=\"/wiki/Schlepper_(Schiffstyp)\" title=\"Schlepper (Schiffstyp)\">Schlepper</a></td>\n",
       "<td><i><a href=\"/wiki/Island_Victory\" title=\"Island Victory\">Island Victory</a></i>\n",
       "</td></tr>\n",
       "<tr>\n",
       "<td><a href=\"/wiki/Schubboot\" title=\"Schubboot\">Schubboot</a></td>\n",
       "<td><i><a href=\"/wiki/E._Bronson_Ingram\" title=\"E. Bronson Ingram\">E. Bronson Ingram</a></i>\n",
       "</td></tr>\n",
       "<tr>\n",
       "<td><a href=\"/wiki/Katamaran\" title=\"Katamaran\">Katamaran</a></td>\n",
       "<td><a class=\"mw-redirect\" href=\"/wiki/HSS_1500\" title=\"HSS 1500\"><i>Stena Explorer</i></a>\n",
       "</td></tr>\n",
       "<tr>\n",
       "<td><a href=\"/wiki/Seenotrettungskreuzer\" title=\"Seenotrettungskreuzer\">Seenotrettungskreuzer</a></td>\n",
       "<td><a href=\"/wiki/Hermann_Marwede_(Schiff)\" title=\"Hermann Marwede (Schiff)\"><i>Hermann Marwede</i></a>\n",
       "</td></tr>\n",
       "<tr>\n",
       "<td><a href=\"/wiki/Trimaran\" title=\"Trimaran\">Trimaran</a></td>\n",
       "<td><a href=\"/wiki/Independence_(Schiff,_2010)\" title=\"Independence (Schiff, 2010)\">USS <i>Independence</i> (LCS-2)</a>\n",
       "</td></tr>\n",
       "<tr>\n",
       "<td><a class=\"mw-redirect\" href=\"/wiki/Motorsegelschiff\" title=\"Motorsegelschiff\">Motorsegelschiff</a></td>\n",
       "<td><i><a href=\"/wiki/Club_Med_2\" title=\"Club Med 2\">Club Med 2</a></i>\n",
       "</td></tr>\n",
       "<tr>\n",
       "<td><a href=\"/wiki/Hopperbagger\" title=\"Hopperbagger\">Hopperbagger</a></td>\n",
       "<td><a href=\"/wiki/Crist%C3%B3bal-Col%C3%B3n-Klasse\" title=\"Cristóbal-Colón-Klasse\"><i>Cristóbal-Colón</i>-Klasse</a>\n",
       "</td></tr>\n",
       "<tr>\n",
       "<td><a class=\"mw-redirect\" href=\"/wiki/Segelyacht\" title=\"Segelyacht\">Segelyacht</a></td>\n",
       "<td><i><a href=\"/wiki/SY_A\" title=\"SY A\">SY A</a></i>\n",
       "</td></tr>\n",
       "<tr>\n",
       "<td><a href=\"/wiki/Arbeitsschiff\" title=\"Arbeitsschiff\">Arbeitsschiff</a></td>\n",
       "<td><i><a href=\"/wiki/Pioneering_Spirit\" title=\"Pioneering Spirit\">Pioneering Spirit</a></i>\n",
       "</td></tr>\n",
       "<tr>\n",
       "<td>Schwimmende Erdöl-/Erdgas-Förderanlagen und Verflüssigungsanlagen (FPSO / FLNG)</td>\n",
       "<td><i><a href=\"/wiki/Prelude_(Schiff)\" title=\"Prelude (Schiff)\">Prelude</a></i>\n",
       "</td></tr>\n",
       "<tr>\n",
       "<td><a href=\"/wiki/Hospitalschiff\" title=\"Hospitalschiff\">Hospitalschiff</a></td>\n",
       "<td><i><a href=\"/wiki/USNS_Comfort_(T-AH-20)\" title=\"USNS Comfort (T-AH-20)\">USNS Comfort</a></i>\n",
       "</td></tr></tbody></table>"
      ]
     },
     "execution_count": 72,
     "metadata": {},
     "output_type": "execute_result"
    }
   ],
   "execution_count": 72
  },
  {
   "cell_type": "code",
   "source": [
    "# Und jetzt seid ihr dran! Nehmt DataCraft und holt von dort die Namen \n",
    "# und Background der Dozenten! Bitte als Text, ohne HTML-Elemente!\n",
    "# Bonus: Regelt das mit den Umlauten!"
   ],
   "metadata": {
    "collapsed": false
   },
   "outputs": [],
   "execution_count": null
  },
  {
   "metadata": {
    "ExecuteTime": {
     "end_time": "2025-01-24T10:33:16.945197Z",
     "start_time": "2025-01-24T10:33:16.691781Z"
    }
   },
   "cell_type": "code",
   "source": "response = requests.get('https://www.data-craft.de/')",
   "outputs": [],
   "execution_count": 73
  },
  {
   "metadata": {
    "ExecuteTime": {
     "end_time": "2025-01-24T10:33:18.935147Z",
     "start_time": "2025-01-24T10:33:18.929649Z"
    }
   },
   "cell_type": "code",
   "source": [
    "# Encoding anpassen für Umlaute:\n",
    "response.encoding = 'utf-8'"
   ],
   "outputs": [],
   "execution_count": 74
  },
  {
   "metadata": {
    "ExecuteTime": {
     "end_time": "2025-01-24T10:33:21.245977Z",
     "start_time": "2025-01-24T10:33:21.183596Z"
    }
   },
   "cell_type": "code",
   "source": "soup = BeautifulSoup(response.text)",
   "outputs": [],
   "execution_count": 75
  },
  {
   "metadata": {
    "ExecuteTime": {
     "end_time": "2025-01-24T10:33:23.660579Z",
     "start_time": "2025-01-24T10:33:23.646497Z"
    }
   },
   "cell_type": "code",
   "source": [
    "# :-1 weil, letztes Element keine Teaminfo ist:\n",
    "team_infos = soup.find_all('strong')[:-1]\n",
    "team_infos"
   ],
   "outputs": [
    {
     "data": {
      "text/plain": [
       "[<strong class=\"bold-text\">M.Sc. Eric Rost</strong>,\n",
       " <strong class=\"bold-text-2\">Master of Science</strong>,\n",
       " <strong class=\"bold-text-3\">Dr. Pascal Kroh</strong>,\n",
       " <strong class=\"bold-text-2\">Doktor der Biophysik</strong>,\n",
       " <strong class=\"bold-text-4\">B.A. Merve Yalcin</strong>,\n",
       " <strong class=\"bold-text-2\">Doktor der Mathematik</strong>,\n",
       " <strong class=\"bold-text-5\">Dr. Nils Höche</strong>,\n",
       " <strong class=\"bold-text-2\">Doktor der Geologie</strong>,\n",
       " <strong class=\"bold-text-6\">M.A. V. Raskatov</strong>,\n",
       " <strong class=\"bold-text-2\">Master der Germanistik</strong>]"
      ]
     },
     "execution_count": 76,
     "metadata": {},
     "output_type": "execute_result"
    }
   ],
   "execution_count": 76
  },
  {
   "metadata": {
    "ExecuteTime": {
     "end_time": "2025-01-24T10:33:33.798253Z",
     "start_time": "2025-01-24T10:33:33.787992Z"
    }
   },
   "cell_type": "code",
   "outputs": [
    {
     "name": "stdout",
     "output_type": "stream",
     "text": [
      "M.Sc. Eric Rost\n",
      "Master of Science\n",
      "Dr. Pascal Kroh\n",
      "Doktor der Biophysik\n",
      "B.A. Merve Yalcin\n",
      "Doktor der Mathematik\n",
      "Dr. Nils Höche\n",
      "Doktor der Geologie\n",
      "M.A. V. Raskatov\n",
      "Master der Germanistik\n"
     ]
    }
   ],
   "execution_count": 77,
   "source": [
    "for info in team_infos:\n",
    "    print(info.text)"
   ]
  },
  {
   "metadata": {},
   "cell_type": "markdown",
   "source": [
    "## Webscraping am Beispiel erklärt\n",
    "\n",
    "Als Beispiel untersuchen wir die Webseite https://worldofwarcraft.com/de-de/game/classes\n",
    "\n",
    "Um zu prüfen, was wir auf der Webseite dürfen und ob bestimmte Inhalte von Webscraping verboten sind, müssen wir die robots.txt Seite aufsuchen\n",
    "https://worldofwarcraft.com/robots.txt\n",
    "\n",
    "Den Inhalt der Webseite können wir schon in python abrufen. Dazu können wir `requests.get` verwenden. Wir erhalten allerdings HTML Code zurück, und müssen diesen durchsuchen, um an die Infos zu kommen, die uns interessieren. Dafür benutzen wir \"Beautiful Soup 4\"."
   ]
  },
  {
   "cell_type": "code",
   "metadata": {
    "collapsed": false,
    "ExecuteTime": {
     "end_time": "2025-01-24T10:45:32.717351Z",
     "start_time": "2025-01-24T10:45:32.077687Z"
    }
   },
   "source": [
    "# Schritt 1: Webseiten-Inhalte abrufen\n",
    "url = 'https://worldofwarcraft.com/de-de/game/classes'\n",
    "response = requests.get(url)\n",
    "response.text"
   ],
   "outputs": [
    {
     "data": {
      "text/plain": [
       "'<!DOCTYPE html><html lang=\"de-DE\"><head><title>Spielbare Klassen</title><script>var optimizelyEnabled = false;\\ntry {\\n  optimizelyEnabled = JSON.parse(\\'true\\');\\n} catch (err) {\\n  console.log(err);\\n}\\n</script><script>var optimizelyLoaded = (function () {\\n  var OPTIMIZELY_AGENT_LOADED_EVENT = \\'OptimizelyWebLoaded\\';\\n  var OPTIMIZELY_FULLSTACK_DATAFILE_LOADED_EVENT = \\'OptimizelyFullstackDataFileLoaded\\';\\n\\n  function initOptimizely() {\\n    var agentScript = document.createElement(\\'script\\');\\n    agentScript.src = \\'https://cdn.optimizely.com/js/8521175242.js\\';\\n    agentScript.onload = function () {\\n      optimizelyLoaded = true;\\n      trigger(OPTIMIZELY_AGENT_LOADED_EVENT);\\n    };\\n    document.head.appendChild(agentScript);\\n\\n    var optimizelySdkKey = \\'\\';\\n    var optimizelySdkEnabled = false;\\n    try {\\n      optimizelySdkEnabled = JSON.parse(\\'true\\');\\n    } catch (err) {\\n      console.log(err);\\n    }\\n    if (optimizelySdkKey && optimizelySdkEnabled) {\\n      var dataFileScript = document.createElement(\\'script\\');\\n      dataFileScript.src = \\'https://cdn.optimizely.com/datafiles/\\' + optimizelySdkKey + \\'.json/tag.js\\';\\n      dataFileScript.onload = function () {\\n        trigger(OPTIMIZELY_FULLSTACK_DATAFILE_LOADED_EVENT);\\n      };\\n      document.head.appendChild(dataFileScript);\\n    }\\n  }\\n\\n  var optimizelyLoaded = false;\\n  var COOKIE_CONSENT_EVENT = \\'CookieConsentChange\\';\\n  var cookieConsentChangeEventListener = window.addEventListener(COOKIE_CONSENT_EVENT, function () {\\n    if (BlzCookieConsent.isPerformanceStorageAllowed()) {\\n      initOptimizely();\\n    }\\n    window.removeEventListener(COOKIE_CONSENT_EVENT, cookieConsentChangeEventListener);\\n  });\\n\\n  return function () {\\n    return optimizelyLoaded;\\n  };\\n})();</script><meta name=\"viewport\" content=\"width=device-width, initial-scale=1, maximum-scale=1, user-scalable=no\"><meta http-equiv=\"X-UA-Compatible\" content=\"IE=edge\"><meta name=\"referrer\" content=\"no-referrer-when-downgrade\"><meta name=\"description\" content=\"In World of Warcraft könnt ihr Ritter in glänzender Rüstung, herumschleichende Draufgänger oder raffinierte Zauberwirker sein. Einzigartige Herausforderungen...\"/><meta property=\"fb:app_id\" content=\"175314325675\"/><meta property=\"og:site_name\" content=\"World of Warcraft\"/><meta property=\"og:title\" content=\"Spielbare Klassen - WoW\"/><meta property=\"og:image\" content=\"https://bnetcmsus-a.akamaihd.net/cms/template_resource/fh/FHSCSCG9CXOC1462229977849.png\"/><meta property=\"og:description\" content=\"In World of Warcraft könnt ihr Ritter in glänzender Rüstung, herumschleichende Draufgänger oder raffinierte Zauberwirker sein. Einzigartige Herausforderungen...\"/><meta property=\"og:url\" content=\"https://worldofwarcraft.blizzard.com/de-de/game/classes\"/><meta name=\"twitter:card\" content=\"summary\"/><meta name=\"twitter:site\" content=\"@warcraft\"/><link rel=\"icon\" type=\"image/x-icon\" href=\"https://assets-bwa.worldofwarcraft.blizzard.com/static/wow-icon-32x32.1a38d7c1c3d8df560d53f5c2ad5442c0401edf83.png\"><script>(function (w, d, s, l, i) {\\n  w[l] = w[l] || [];\\n  w[l].push({ \\'gtm.start\\': new Date().getTime(), event: \\'gtm.js\\' });\\n  var f = d.getElementsByTagName(s)[0],\\n    j = d.createElement(s),\\n    dl = l != \\'dataLayer\\' ? \\'&l=\\' + l : \\'\\';\\n  j.async = true;\\n  j.src = \\'https://www.googletagmanager.com/gtm.js?id=\\' + i + dl;\\n  f.parentNode.insertBefore(j, f);\\n})(window, document, \\'script\\', \\'dataLayer\\', \\'GTM-TVHPB9J\\');\\n</script><link rel=\"stylesheet\" type=\"text/css\" media=\"screen\" href=\"https://assets-bwa.worldofwarcraft.blizzard.com/css/index.198a32b3596c88ea2cc3830c124529922195abf2.css\"><script>window.__WOW_UI_PUBLIC_PATH__ = \\'https://assets-bwa.worldofwarcraft.blizzard.com/\\';</script><script src=\"https://assets-bwa.worldofwarcraft.blizzard.com/core.de93880c4434234a2e93.js\"></script><script id=\"init\">//- defined in _pollyfills.js\\nwindow.trigger(\\'init\\');</script><link href=\"https://assets-bwa.worldofwarcraft.blizzard.com/core.a2bc13957c9c07fb3563.css\" rel=\"stylesheet\" type=\"text/css\"/><link href=\"https://assets-bwa.worldofwarcraft.blizzard.com/static/izimodal.df3420266654fd7974759048907176f23513e765.css\" rel=\"stylesheet\"><link href=\"https://assets-bwa.worldofwarcraft.blizzard.com/static/simplebar.9d79d89318973e13b0ce47c1c4de660bcf0f049f.css\" rel=\"stylesheet\"><link href=\"https://assets-bwa.worldofwarcraft.blizzard.com/632.eb658303be1a75a6d059.css\" rel=\"stylesheet\" type=\"text/css\"/><link href=\"/opensearch/opensearch.xml\" title=\"Search World of Warcraft\" rel=\"search\" type=\"application/opensearchdescription+xml\"><link rel=\"canonical\" href=\"http://worldofwarcraft.blizzard.com/de-de/game/classes\"><link rel=\"alternate\" href=\"http://worldofwarcraft.blizzard.com/en-us/game/classes\" hreflang=\"en-us\"><link rel=\"alternate\" href=\"http://worldofwarcraft.blizzard.com/en-gb/game/classes\" hreflang=\"en-gb\"><link rel=\"alternate\" href=\"http://worldofwarcraft.blizzard.com/de-de/game/classes\" hreflang=\"de-de\"><link rel=\"alternate\" href=\"http://worldofwarcraft.blizzard.com/es-es/game/classes\" hreflang=\"es-es\"><link rel=\"alternate\" href=\"http://worldofwarcraft.blizzard.com/es-mx/game/classes\" hreflang=\"es-mx\"><link rel=\"alternate\" href=\"http://worldofwarcraft.blizzard.com/fr-fr/game/classes\" hreflang=\"fr-fr\"><link rel=\"alternate\" href=\"http://worldofwarcraft.blizzard.com/it-it/game/classes\" hreflang=\"it-it\"><link rel=\"alternate\" href=\"http://worldofwarcraft.blizzard.com/pt-br/game/classes\" hreflang=\"pt-br\"><link rel=\"alternate\" href=\"http://worldofwarcraft.blizzard.com/ru-ru/game/classes\" hreflang=\"ru-ru\"><link rel=\"alternate\" href=\"http://worldofwarcraft.blizzard.com/ko-kr/game/classes\" hreflang=\"ko-kr\"><link rel=\"alternate\" href=\"http://worldofwarcraft.blizzard.com/zh-tw/game/classes\" hreflang=\"zh-tw\"></head><body class=\"de-de\"><header class=\"sitenav\"><blz-nav class=\"SiteNav\" hidden=\"hidden\" user-endpoint=\"/de-de/navbar/authenticate\" content=\"wow-site\" search-url=\"/de-de/search?q={value}\"><script src=\"https://navbar.blizzard.com/static/v1/nav.js\" async=\"async\"></script></blz-nav></header><noscript><iframe src=\"https://www.googletagmanager.com/ns.html?id=GTM-TVHPB9J\" height=\"0\" width=\"0\" style=\"display: none; visibility: hidden\"></iframe></noscript><script>!(function (i, d, e, n) {\\n  (i[e] = i[e] || {}),\\n    i[e][n] ||\\n      (i[e][n] = function (i, e, n) {\\n        if (void 0 !== i) {\\n          (e = void 0 === e ? 0 : e), (n = void 0 === n ? 0 : n);\\n          var a = d.createElement(\\'iframe\\');\\n          (a.width = e), (a.height = n), (a.hidden = !0), (a.src = i), d.body.appendChild(a);\\n        }\\n      });\\n})(window, document, \\'analytics\\', \\'appendFrame\\');</script><script>var dataLayer = dataLayer || [];\\ndataLayer.push({\"locale\":\"de-DE\",\"serverRegion\":\"us\",\"region\":\"us\",\"localeRegion\":\"eu\",\"project\":\"wow\",\"authenticated\":\"0\"});\\n</script><div class=\"body\"><div class=\"page\"><main id=\"main\" role=\"main\"><div class=\"Pane Pane--underSiteNav Pane--cropWide\" data-url=\"https://blz-contentstack-images.akamaized.net/v3/assets/blt3452e3b114fab0cd/bltfdb10c76cd837218/5ef22bb0b7f22712a4d508b9/PJBK2UYV0YYL1466177409759.jpg\"><div class=\"Pane-bg\" style=\"background-color:#151b0f;background-image:url(&quot;https://blz-contentstack-images.akamaized.net/v3/assets/blt3452e3b114fab0cd/bltfdb10c76cd837218/5ef22bb0b7f22712a4d508b9/PJBK2UYV0YYL1466177409759.jpg&quot;);\"><div class=\"Pane-overlay\"></div></div><div class=\"Pane-content\"><div class=\"space-medium\"></div><div class=\"space-large hide\" media-medium=\"!hide\"></div><div class=\"space-large hide\" media-wide=\"!hide\"></div><div class=\"contain-masthead align-center\"><h1 class=\"margin-none font-semp-xxxLarge-white\">Klassen</h1><div class=\"space-rhythm-medium\"></div><p class=\"margin-none font-bliz-light-small-beige\">In World of Warcraft erwarten euch Ritter in glänzender Rüstung, herumschleichende Draufgänger und raffinierte Zauberwirker. Einzigartige Herausforderungen erwarten euch mit jeder Klasse und ein Spielerlebnis, das es zu meistern gilt. Welchem Ruf werdet ihr folgen?</p></div><div class=\"space-medium\"></div><div class=\"space-large hide\" media-medium=\"!hide\"></div><div class=\"space-large hide\" media-wide=\"!hide\"></div><div class=\"Grid Grid--gutters\" media-large=\"SyncHeight\"><div class=\"Grid-full\" media-large=\"Grid-1of2\"><div class=\"Cards Cards--gutters Cards--stacked\" media-huge=\"!Cards--stacked Cards--1of3 Cards--excerpts\" media-max=\"!Cards--excerpts\"><div class=\"Card Card--borderPaper Cards-card\"><a class=\"Card-link SyncHeight-item\" href=\"/de-de/game/classes/warrior\"><div class=\"Card-image\"><div class=\"Card-image--full\"><div class=\"Art Card-art\"><div class=\"Art-size\" style=\"padding-top:100%\"></div><div class=\"Art-image\" style=\"background-image:url(https://blz-contentstack-images.akamaized.net/v3/assets/blt3452e3b114fab0cd/bltf9f62859db695a4d/5ee3e473a7c560086afc3ffd/9WL35DUZNSG01457032148687.jpg);\"></div><div class=\"Art-overlay\"></div></div></div><div class=\"Card-image--half\"><div class=\"Art Card-art\"><div class=\"Art-size\" style=\"padding-top:50%\"></div><div class=\"Art-image\" style=\"background-image:url(https://blz-contentstack-images.akamaized.net/v3/assets/blt3452e3b114fab0cd/bltf9f62859db695a4d/5ee3e473a7c560086afc3ffd/9WL35DUZNSG01457032148687.jpg);\"></div><div class=\"Art-overlay\"></div></div></div></div><div class=\"Card-content\"><div class=\"gutter-normal gutter-all\"><div class=\"Card-title\">Krieger</div><div class=\"Card-subtitle\">Tank, Schaden</div><p class=\"Card-description font-size-xSmall\" media-large=\"font-size-xSmall\">Schon seit es Kriege gibt streben Helden aus allen Völkern danach, die Kunst der Schlacht zu beherrschen. Im Krieger vereinen sich Stärke, Führungsqualitäten und ein unermessliches Wissen über Waffen und Rüstungen, um in einer glorreichen Schlacht den Feind in den Untergang zu stürzen.</p><p class=\"Card-excerpt Card-excerpt--normal font-size-small\" media-large=\"font-size-xSmall\">Schon seit es Kriege gibt streben Helden aus allen Völkern danach, die Kunst der Schlacht zu beherrschen. Im Krieger vereinen sich Stärke, Führun...</p><p class=\"Card-excerpt Card-excerpt--medium font-size-small\" media-large=\"font-size-xSmall\">Schon seit es Kriege gibt streben Helden aus allen Völkern danach, die Kunst der Schlacht zu beherrschen. Im Krieger vereinen sich Stärke, Führungsqualitäten und ein unermessliches Wissen über Waffen und Rüstungen, um in einer glorreichen Schlac...</p><p class=\"Card-excerpt Card-excerpt--long font-size-small\" media-large=\"font-size-xSmall\">Schon seit es Kriege gibt streben Helden aus allen Völkern danach, die Kunst der Schlacht zu beherrschen. Im Krieger vereinen sich Stärke, Führungsqualitäten und ein unermessliches Wissen über Waffen und Rüstungen, um in einer glorreichen Schlacht den Feind in den Untergang zu stürzen.</p></div></div></a></div><div class=\"Card Card--borderPaper Cards-card\"><a class=\"Card-link SyncHeight-item\" href=\"/de-de/game/classes/hunter\"><div class=\"Card-image\"><div class=\"Card-image--full\"><div class=\"Art Card-art\"><div class=\"Art-size\" style=\"padding-top:100%\"></div><div class=\"Art-image\" style=\"background-image:url(https://blz-contentstack-images.akamaized.net/v3/assets/blt3452e3b114fab0cd/blt567c8844ced4dbc7/5ee3e411e8f74907ecce011e/QDIDT6YO6NYN1457032234749.jpg);\"></div><div class=\"Art-overlay\"></div></div></div><div class=\"Card-image--half\"><div class=\"Art Card-art\"><div class=\"Art-size\" style=\"padding-top:50%\"></div><div class=\"Art-image\" style=\"background-image:url(https://blz-contentstack-images.akamaized.net/v3/assets/blt3452e3b114fab0cd/blt567c8844ced4dbc7/5ee3e411e8f74907ecce011e/QDIDT6YO6NYN1457032234749.jpg);\"></div><div class=\"Art-overlay\"></div></div></div></div><div class=\"Card-content\"><div class=\"gutter-normal gutter-all\"><div class=\"Card-title\">Jäger</div><div class=\"Card-subtitle\">Schaden</div><p class=\"Card-description font-size-xSmall\" media-large=\"font-size-xSmall\">Schon seit ewigen Zeiten lockt der Ruf der Wildnis einige Abenteurer aus der Sicherheit ihres Heims hinaus in die gnadenlose, unberührte Welt. Diejenigen, die ihre Herausforderungen bestehen, werden zu Jägern.</p><p class=\"Card-excerpt Card-excerpt--normal font-size-small\" media-large=\"font-size-xSmall\">Schon seit ewigen Zeiten lockt der Ruf der Wildnis einige Abenteurer aus der Sicherheit ihres Heims hinaus in die gnadenlose, unberührte Welt. Di...</p><p class=\"Card-excerpt Card-excerpt--medium font-size-small\" media-large=\"font-size-xSmall\">Schon seit ewigen Zeiten lockt der Ruf der Wildnis einige Abenteurer aus der Sicherheit ihres Heims hinaus in die gnadenlose, unberührte Welt. Diejenigen, die ihre Herausforderungen bestehen, werden zu Jägern.</p><p class=\"Card-excerpt Card-excerpt--long font-size-small\" media-large=\"font-size-xSmall\">Schon seit ewigen Zeiten lockt der Ruf der Wildnis einige Abenteurer aus der Sicherheit ihres Heims hinaus in die gnadenlose, unberührte Welt. Diejenigen, die ihre Herausforderungen bestehen, werden zu Jägern.</p></div></div></a></div><div class=\"Card Card--borderPaper Cards-card\"><a class=\"Card-link SyncHeight-item\" href=\"/de-de/game/classes/priest\"><div class=\"Card-image\"><div class=\"Card-image--full\"><div class=\"Art Card-art\"><div class=\"Art-size\" style=\"padding-top:100%\"></div><div class=\"Art-image\" style=\"background-image:url(https://blz-contentstack-images.akamaized.net/v3/assets/blt3452e3b114fab0cd/blt6b4539f958b752fb/5ee78bff63a2d97093830907/MWNKR1G1Z7AD1457032234453.jpg);\"></div><div class=\"Art-overlay\"></div></div></div><div class=\"Card-image--half\"><div class=\"Art Card-art\"><div class=\"Art-size\" style=\"padding-top:50%\"></div><div class=\"Art-image\" style=\"background-image:url(https://blz-contentstack-images.akamaized.net/v3/assets/blt3452e3b114fab0cd/blt6b4539f958b752fb/5ee78bff63a2d97093830907/MWNKR1G1Z7AD1457032234453.jpg);\"></div><div class=\"Art-overlay\"></div></div></div></div><div class=\"Card-content\"><div class=\"gutter-normal gutter-all\"><div class=\"Card-title\">Priester</div><div class=\"Card-subtitle\">Heiler, Schaden</div><p class=\"Card-description font-size-xSmall\" media-large=\"font-size-xSmall\">Priester haben sich ganz dem spirituellen Pfad gewidmet und zeigen ihren unerschütterlichen Glauben, indem sie anderen dienen. Vor Jahrtausenden verließen sie die Grenzen ihrer Tempel und die Zuflucht ihrer Schreine, um ihre Verbündeten in den von Kriegen zerrissenen Ländern zu unterstützen.</p><p class=\"Card-excerpt Card-excerpt--normal font-size-small\" media-large=\"font-size-xSmall\">Priester haben sich ganz dem spirituellen Pfad gewidmet und zeigen ihren unerschütterlichen Glauben, indem sie anderen dienen. Vor Jahrtausenden ...</p><p class=\"Card-excerpt Card-excerpt--medium font-size-small\" media-large=\"font-size-xSmall\">Priester haben sich ganz dem spirituellen Pfad gewidmet und zeigen ihren unerschütterlichen Glauben, indem sie anderen dienen. Vor Jahrtausenden verließen sie die Grenzen ihrer Tempel und die Zuflucht ihrer Schreine, um ihre Verbündeten in den v...</p><p class=\"Card-excerpt Card-excerpt--long font-size-small\" media-large=\"font-size-xSmall\">Priester haben sich ganz dem spirituellen Pfad gewidmet und zeigen ihren unerschütterlichen Glauben, indem sie anderen dienen. Vor Jahrtausenden verließen sie die Grenzen ihrer Tempel und die Zuflucht ihrer Schreine, um ihre Verbündeten in den von Kriegen zerrissenen Ländern zu unterstützen.</p></div></div></a></div><div class=\"Card Card--borderPaper Cards-card\"><a class=\"Card-link SyncHeight-item\" href=\"/de-de/game/classes/mage\"><div class=\"Card-image\"><div class=\"Card-image--full\"><div class=\"Art Card-art\"><div class=\"Art-size\" style=\"padding-top:100%\"></div><div class=\"Art-image\" style=\"background-image:url(https://blz-contentstack-images.akamaized.net/v3/assets/blt3452e3b114fab0cd/bltdd80a40a42fdc015/5ee3e44c18f34d710497c5bd/PRJHFTFZI64Z1457032234735.jpg);\"></div><div class=\"Art-overlay\"></div></div></div><div class=\"Card-image--half\"><div class=\"Art Card-art\"><div class=\"Art-size\" style=\"padding-top:50%\"></div><div class=\"Art-image\" style=\"background-image:url(https://blz-contentstack-images.akamaized.net/v3/assets/blt3452e3b114fab0cd/bltdd80a40a42fdc015/5ee3e44c18f34d710497c5bd/PRJHFTFZI64Z1457032234735.jpg);\"></div><div class=\"Art-overlay\"></div></div></div></div><div class=\"Card-content\"><div class=\"gutter-normal gutter-all\"><div class=\"Card-title\">Magier</div><div class=\"Card-subtitle\">Schaden</div><p class=\"Card-description font-size-xSmall\" media-large=\"font-size-xSmall\">Nur besonders talentierte Schüler mit einer unerschütterlichen Disziplin sind in der Lage, auf dem harten Pfad des Magiers zu bestehen. Die arkane Magie der Magier ist sowohl mächtig als auch gefährlich, weshalb sie nur hingebungsvollen Magiebegabten offenbart wird.</p><p class=\"Card-excerpt Card-excerpt--normal font-size-small\" media-large=\"font-size-xSmall\">Nur besonders talentierte Schüler mit einer unerschütterlichen Disziplin sind in der Lage, auf dem harten Pfad des Magiers zu bestehen. Die arkan...</p><p class=\"Card-excerpt Card-excerpt--medium font-size-small\" media-large=\"font-size-xSmall\">Nur besonders talentierte Schüler mit einer unerschütterlichen Disziplin sind in der Lage, auf dem harten Pfad des Magiers zu bestehen. Die arkane Magie der Magier ist sowohl mächtig als auch gefährlich, weshalb sie nur hingebungsvollen Magiebeg...</p><p class=\"Card-excerpt Card-excerpt--long font-size-small\" media-large=\"font-size-xSmall\">Nur besonders talentierte Schüler mit einer unerschütterlichen Disziplin sind in der Lage, auf dem harten Pfad des Magiers zu bestehen. Die arkane Magie der Magier ist sowohl mächtig als auch gefährlich, weshalb sie nur hingebungsvollen Magiebegabten offenbart wird.</p></div></div></a></div><div class=\"Card Card--borderPaper Cards-card\"><a class=\"Card-link SyncHeight-item\" href=\"/de-de/game/classes/monk\"><div class=\"Card-image\"><div class=\"Card-image--full\"><div class=\"Art Card-art\"><div class=\"Art-size\" style=\"padding-top:100%\"></div><div class=\"Art-image\" style=\"background-image:url(https://blz-contentstack-images.akamaized.net/v3/assets/blt3452e3b114fab0cd/bltab8e835ed1f245ba/5ee793cb3a8621077a04a491/80E3HJ653J1M1457032234443.jpg);\"></div><div class=\"Art-overlay\"></div></div></div><div class=\"Card-image--half\"><div class=\"Art Card-art\"><div class=\"Art-size\" style=\"padding-top:50%\"></div><div class=\"Art-image\" style=\"background-image:url(https://blz-contentstack-images.akamaized.net/v3/assets/blt3452e3b114fab0cd/bltab8e835ed1f245ba/5ee793cb3a8621077a04a491/80E3HJ653J1M1457032234443.jpg);\"></div><div class=\"Art-overlay\"></div></div></div></div><div class=\"Card-content\"><div class=\"gutter-normal gutter-all\"><div class=\"Card-title\">Mönch</div><div class=\"Card-subtitle\">Tank, Heiler, Schaden</div><p class=\"Card-description font-size-xSmall\" media-large=\"font-size-xSmall\">Raufbolde die mit bloßen Händen kämpfen haben diesen waffenlosen Stil im alten Pandaria entwickelt. Mönche die so verschieden sind, wie die Energie die sie umgibt. Sie können tödliche Angriffe durch den Dunst ihrer Gebräue schultern, den Chi-Fluß heilen und ihre Feinde mit Schlägen und Tritten so schnell wie der Wind eindecken.</p><p class=\"Card-excerpt Card-excerpt--normal font-size-small\" media-large=\"font-size-xSmall\">Raufbolde die mit bloßen Händen kämpfen haben diesen waffenlosen Stil im alten Pandaria entwickelt. Mönche die so verschieden sind, wie die Energ...</p><p class=\"Card-excerpt Card-excerpt--medium font-size-small\" media-large=\"font-size-xSmall\">Raufbolde die mit bloßen Händen kämpfen haben diesen waffenlosen Stil im alten Pandaria entwickelt. Mönche die so verschieden sind, wie die Energie die sie umgibt. Sie können tödliche Angriffe durch den Dunst ihrer Gebräue schultern, den Chi-Flu...</p><p class=\"Card-excerpt Card-excerpt--long font-size-small\" media-large=\"font-size-xSmall\">Raufbolde die mit bloßen Händen kämpfen haben diesen waffenlosen Stil im alten Pandaria entwickelt. Mönche die so verschieden sind, wie die Energie die sie umgibt. Sie können tödliche Angriffe durch den Dunst ihrer Gebräue schultern, den Chi-Fluß heilen und ihre Feinde mit Schlägen und Tritten so schnell wie der Wind eindecken.</p></div></div></a></div><div class=\"Card Card--borderPaper Cards-card\"><a class=\"Card-link SyncHeight-item\" href=\"/de-de/game/classes/demon-hunter\"><div class=\"Card-image\"><div class=\"Card-image--full\"><div class=\"Art Card-art\"><div class=\"Art-size\" style=\"padding-top:100%\"></div><div class=\"Art-image\" style=\"background-image:url(https://blz-contentstack-images.akamaized.net/v3/assets/blt3452e3b114fab0cd/bltecb94c367119455a/5ee79631d217327180733e77/4YSZQMC616V61457032235002.jpg);\"></div><div class=\"Art-overlay\"></div></div></div><div class=\"Card-image--half\"><div class=\"Art Card-art\"><div class=\"Art-size\" style=\"padding-top:50%\"></div><div class=\"Art-image\" style=\"background-image:url(https://blz-contentstack-images.akamaized.net/v3/assets/blt3452e3b114fab0cd/bltecb94c367119455a/5ee79631d217327180733e77/4YSZQMC616V61457032235002.jpg);\"></div><div class=\"Art-overlay\"></div></div></div></div><div class=\"Card-content\"><div class=\"gutter-normal gutter-all\"><div class=\"Card-title\">Dämonenjäger</div><div class=\"Card-subtitle\">Tank, Schaden</div><p class=\"Card-description font-size-xSmall\" media-large=\"font-size-xSmall\">Dämonenjäger machen sich die verbotenen Mächte der Legion zueigen. Sie setzen Dämonen- und Chaosmagie ein, nehmen dämonische Formen an, besitzen Geistersicht und höllische Beweglichkeit, mit der sie selbst die gefährlichsten Gegner zur Strecke bringen können.</p><p class=\"Card-excerpt Card-excerpt--normal font-size-small\" media-large=\"font-size-xSmall\">Dämonenjäger machen sich die verbotenen Mächte der Legion zueigen. Sie setzen Dämonen- und Chaosmagie ein, nehmen dämonische Formen an, besitzen ...</p><p class=\"Card-excerpt Card-excerpt--medium font-size-small\" media-large=\"font-size-xSmall\">Dämonenjäger machen sich die verbotenen Mächte der Legion zueigen. Sie setzen Dämonen- und Chaosmagie ein, nehmen dämonische Formen an, besitzen Geistersicht und höllische Beweglichkeit, mit der sie selbst die gefährlichsten Gegner zur Strecke b...</p><p class=\"Card-excerpt Card-excerpt--long font-size-small\" media-large=\"font-size-xSmall\">Dämonenjäger machen sich die verbotenen Mächte der Legion zueigen. Sie setzen Dämonen- und Chaosmagie ein, nehmen dämonische Formen an, besitzen Geistersicht und höllische Beweglichkeit, mit der sie selbst die gefährlichsten Gegner zur Strecke bringen können.</p></div></div></a></div><div class=\"Card Card--borderPaper Cards-card\"><a class=\"Card-link SyncHeight-item\" href=\"/de-de/game/classes/evoker\"><div class=\"Card-image\"><div class=\"Card-image--full\"><div class=\"Art Card-art\"><div class=\"Art-size\" style=\"padding-top:100%\"></div><div class=\"Art-image\" style=\"background-image:url(https://blz-contentstack-images.akamaized.net/v3/assets/blt3452e3b114fab0cd/bltc4d521bd78d2e181/6351cce05e1b6d519cb60ba9/Evoker_Card.jpg);\"></div><div class=\"Art-overlay\"></div></div></div><div class=\"Card-image--half\"><div class=\"Art Card-art\"><div class=\"Art-size\" style=\"padding-top:50%\"></div><div class=\"Art-image\" style=\"background-image:url(https://blz-contentstack-images.akamaized.net/v3/assets/blt3452e3b114fab0cd/bltc4d521bd78d2e181/6351cce05e1b6d519cb60ba9/Evoker_Card.jpg);\"></div><div class=\"Art-overlay\"></div></div></div></div><div class=\"Card-content\"><div class=\"gutter-normal gutter-all\"><div class=\"Card-title\">Rufer</div><div class=\"Card-subtitle\">Heiler, Schaden</div><p class=\"Card-description font-size-xSmall\" media-large=\"font-size-xSmall\">Die Rufer der Dracthyr wurden geschaffen, um die Magien aller fünf Drachenschwärme zu verwenden. Jetzt machen sie sich auf, um sich in Azeroth ihren eigenen Weg zu bahnen.</p><p class=\"Card-excerpt Card-excerpt--normal font-size-small\" media-large=\"font-size-xSmall\">Die Rufer der Dracthyr wurden geschaffen, um die Magien aller fünf Drachenschwärme zu verwenden. Jetzt machen sie sich auf, um sich in Azeroth ih...</p><p class=\"Card-excerpt Card-excerpt--medium font-size-small\" media-large=\"font-size-xSmall\">Die Rufer der Dracthyr wurden geschaffen, um die Magien aller fünf Drachenschwärme zu verwenden. Jetzt machen sie sich auf, um sich in Azeroth ihren eigenen Weg zu bahnen.</p><p class=\"Card-excerpt Card-excerpt--long font-size-small\" media-large=\"font-size-xSmall\">Die Rufer der Dracthyr wurden geschaffen, um die Magien aller fünf Drachenschwärme zu verwenden. Jetzt machen sie sich auf, um sich in Azeroth ihren eigenen Weg zu bahnen.</p></div></div></a></div></div></div><div class=\"Grid-full\" media-large=\"Grid-1of2\"><div class=\"Cards Cards--gutters Cards--stacked\" media-huge=\"!Cards--stacked Cards--1of3 Cards--excerpts\" media-max=\"!Cards--excerpts\"><div class=\"Card Card--borderPaper Cards-card\"><a class=\"Card-link SyncHeight-item\" href=\"/de-de/game/classes/paladin\"><div class=\"Card-image\"><div class=\"Card-image--full\"><div class=\"Art Card-art\"><div class=\"Art-size\" style=\"padding-top:100%\"></div><div class=\"Art-image\" style=\"background-image:url(https://blz-contentstack-images.akamaized.net/v3/assets/blt3452e3b114fab0cd/blt931cd3c007637bcc/5ee790ab3a8621077a04a479/ZNPM9RQETYC21457032234435.jpg);\"></div><div class=\"Art-overlay\"></div></div></div><div class=\"Card-image--half\"><div class=\"Art Card-art\"><div class=\"Art-size\" style=\"padding-top:50%\"></div><div class=\"Art-image\" style=\"background-image:url(https://blz-contentstack-images.akamaized.net/v3/assets/blt3452e3b114fab0cd/blt931cd3c007637bcc/5ee790ab3a8621077a04a479/ZNPM9RQETYC21457032234435.jpg);\"></div><div class=\"Art-overlay\"></div></div></div></div><div class=\"Card-content\"><div class=\"gutter-normal gutter-all\"><div class=\"Card-title\">Paladin</div><div class=\"Card-subtitle\">Tank, Heiler, Schaden</div><p class=\"Card-description font-size-xSmall\" media-large=\"font-size-xSmall\">Die Berufung des Paladins besteht darin, die Schwachen zu beschützen, den Ungerechten ihre gerechte Strafe zuteil werden zu lassen und das Böse aus den düstersten Ecken der Welt zu verbannen.</p><p class=\"Card-excerpt Card-excerpt--normal font-size-small\" media-large=\"font-size-xSmall\">Die Berufung des Paladins besteht darin, die Schwachen zu beschützen, den Ungerechten ihre gerechte Strafe zuteil werden zu lassen und das Böse a...</p><p class=\"Card-excerpt Card-excerpt--medium font-size-small\" media-large=\"font-size-xSmall\">Die Berufung des Paladins besteht darin, die Schwachen zu beschützen, den Ungerechten ihre gerechte Strafe zuteil werden zu lassen und das Böse aus den düstersten Ecken der Welt zu verbannen.</p><p class=\"Card-excerpt Card-excerpt--long font-size-small\" media-large=\"font-size-xSmall\">Die Berufung des Paladins besteht darin, die Schwachen zu beschützen, den Ungerechten ihre gerechte Strafe zuteil werden zu lassen und das Böse aus den düstersten Ecken der Welt zu verbannen.</p></div></div></a></div><div class=\"Card Card--borderPaper Cards-card\"><a class=\"Card-link SyncHeight-item\" href=\"/de-de/game/classes/rogue\"><div class=\"Card-image\"><div class=\"Card-image--full\"><div class=\"Art Card-art\"><div class=\"Art-size\" style=\"padding-top:100%\"></div><div class=\"Art-image\" style=\"background-image:url(https://blz-contentstack-images.akamaized.net/v3/assets/blt3452e3b114fab0cd/bltceda97b65490029d/5ee3e4a218f34d710497c5c9/65H7H3XK5PFS1457032234098.jpg);\"></div><div class=\"Art-overlay\"></div></div></div><div class=\"Card-image--half\"><div class=\"Art Card-art\"><div class=\"Art-size\" style=\"padding-top:50%\"></div><div class=\"Art-image\" style=\"background-image:url(https://blz-contentstack-images.akamaized.net/v3/assets/blt3452e3b114fab0cd/bltceda97b65490029d/5ee3e4a218f34d710497c5c9/65H7H3XK5PFS1457032234098.jpg);\"></div><div class=\"Art-overlay\"></div></div></div></div><div class=\"Card-content\"><div class=\"gutter-normal gutter-all\"><div class=\"Card-title\">Schurke</div><div class=\"Card-subtitle\">Schaden</div><p class=\"Card-description font-size-xSmall\" media-large=\"font-size-xSmall\">Schurken kennen nur einen Kodex, nämlich den Vertrag. Ihre Ehre lässt sich mit Gold kaufen. Frei von den hinderlichen Schranken eines Gewissens verlassen diese Söldner sich auf brutale und effiziente Taktiken.</p><p class=\"Card-excerpt Card-excerpt--normal font-size-small\" media-large=\"font-size-xSmall\">Schurken kennen nur einen Kodex, nämlich den Vertrag. Ihre Ehre lässt sich mit Gold kaufen. Frei von den hinderlichen Schranken eines Gewissens v...</p><p class=\"Card-excerpt Card-excerpt--medium font-size-small\" media-large=\"font-size-xSmall\">Schurken kennen nur einen Kodex, nämlich den Vertrag. Ihre Ehre lässt sich mit Gold kaufen. Frei von den hinderlichen Schranken eines Gewissens verlassen diese Söldner sich auf brutale und effiziente Taktiken.</p><p class=\"Card-excerpt Card-excerpt--long font-size-small\" media-large=\"font-size-xSmall\">Schurken kennen nur einen Kodex, nämlich den Vertrag. Ihre Ehre lässt sich mit Gold kaufen. Frei von den hinderlichen Schranken eines Gewissens verlassen diese Söldner sich auf brutale und effiziente Taktiken.</p></div></div></a></div><div class=\"Card Card--borderPaper Cards-card\"><a class=\"Card-link SyncHeight-item\" href=\"/de-de/game/classes/shaman\"><div class=\"Card-image\"><div class=\"Card-image--full\"><div class=\"Art Card-art\"><div class=\"Art-size\" style=\"padding-top:100%\"></div><div class=\"Art-image\" style=\"background-image:url(https://blz-contentstack-images.akamaized.net/v3/assets/blt3452e3b114fab0cd/blt3001008857efcbd4/5ee7928218f34d710497c759/LPEY9SFJT7PB1457032234088.jpg);\"></div><div class=\"Art-overlay\"></div></div></div><div class=\"Card-image--half\"><div class=\"Art Card-art\"><div class=\"Art-size\" style=\"padding-top:50%\"></div><div class=\"Art-image\" style=\"background-image:url(https://blz-contentstack-images.akamaized.net/v3/assets/blt3452e3b114fab0cd/blt3001008857efcbd4/5ee7928218f34d710497c759/LPEY9SFJT7PB1457032234088.jpg);\"></div><div class=\"Art-overlay\"></div></div></div></div><div class=\"Card-content\"><div class=\"gutter-normal gutter-all\"><div class=\"Card-title\">Schamane</div><div class=\"Card-subtitle\">Heiler, Schaden</div><p class=\"Card-description font-size-xSmall\" media-large=\"font-size-xSmall\">Schamanen haben sich der spirituellen Führung und Kunst verschrieben, jedoch nicht des Göttlichen, sondern der Elemente selbst. Als Vermittler der vier Elemente ruft der Schamane Totems herbei und befieht ihnen, die Verbündeten des Schamanen zu unterstützen oder seine Feinde zu bestrafen.</p><p class=\"Card-excerpt Card-excerpt--normal font-size-small\" media-large=\"font-size-xSmall\">Schamanen haben sich der spirituellen Führung und Kunst verschrieben, jedoch nicht des Göttlichen, sondern der Elemente selbst. Als Vermittler de...</p><p class=\"Card-excerpt Card-excerpt--medium font-size-small\" media-large=\"font-size-xSmall\">Schamanen haben sich der spirituellen Führung und Kunst verschrieben, jedoch nicht des Göttlichen, sondern der Elemente selbst. Als Vermittler der vier Elemente ruft der Schamane Totems herbei und befieht ihnen, die Verbündeten des Schamanen zu ...</p><p class=\"Card-excerpt Card-excerpt--long font-size-small\" media-large=\"font-size-xSmall\">Schamanen haben sich der spirituellen Führung und Kunst verschrieben, jedoch nicht des Göttlichen, sondern der Elemente selbst. Als Vermittler der vier Elemente ruft der Schamane Totems herbei und befieht ihnen, die Verbündeten des Schamanen zu unterstützen oder seine Feinde zu bestrafen.</p></div></div></a></div><div class=\"Card Card--borderPaper Cards-card\"><a class=\"Card-link SyncHeight-item\" href=\"/de-de/game/classes/warlock\"><div class=\"Card-image\"><div class=\"Card-image--full\"><div class=\"Art Card-art\"><div class=\"Art-size\" style=\"padding-top:100%\"></div><div class=\"Art-image\" style=\"background-image:url(https://blz-contentstack-images.akamaized.net/v3/assets/blt3452e3b114fab0cd/blt87bd56354f8c3fcd/5ee3e8c1889f917094610eb8/YDUU4KIKVCLY1457032234192.jpg);\"></div><div class=\"Art-overlay\"></div></div></div><div class=\"Card-image--half\"><div class=\"Art Card-art\"><div class=\"Art-size\" style=\"padding-top:50%\"></div><div class=\"Art-image\" style=\"background-image:url(https://blz-contentstack-images.akamaized.net/v3/assets/blt3452e3b114fab0cd/blt87bd56354f8c3fcd/5ee3e8c1889f917094610eb8/YDUU4KIKVCLY1457032234192.jpg);\"></div><div class=\"Art-overlay\"></div></div></div></div><div class=\"Card-content\"><div class=\"gutter-normal gutter-all\"><div class=\"Card-title\">Hexenmeister</div><div class=\"Card-subtitle\">Schaden</div><p class=\"Card-description font-size-xSmall\" media-large=\"font-size-xSmall\">Im Angesicht einer dämonischen Macht finden die meisten Helden den Tod. Hexenmeister jedoch sehen dies als günstige Gelegenheit. Ihr Ziel ist die Beherrschung, und in den dunklen Künsten haben sie einen Weg dorthin gefunden.</p><p class=\"Card-excerpt Card-excerpt--normal font-size-small\" media-large=\"font-size-xSmall\">Im Angesicht einer dämonischen Macht finden die meisten Helden den Tod. Hexenmeister jedoch sehen dies als günstige Gelegenheit. Ihr Ziel ist die...</p><p class=\"Card-excerpt Card-excerpt--medium font-size-small\" media-large=\"font-size-xSmall\">Im Angesicht einer dämonischen Macht finden die meisten Helden den Tod. Hexenmeister jedoch sehen dies als günstige Gelegenheit. Ihr Ziel ist die Beherrschung, und in den dunklen Künsten haben sie einen Weg dorthin gefunden.</p><p class=\"Card-excerpt Card-excerpt--long font-size-small\" media-large=\"font-size-xSmall\">Im Angesicht einer dämonischen Macht finden die meisten Helden den Tod. Hexenmeister jedoch sehen dies als günstige Gelegenheit. Ihr Ziel ist die Beherrschung, und in den dunklen Künsten haben sie einen Weg dorthin gefunden.</p></div></div></a></div><div class=\"Card Card--borderPaper Cards-card\"><a class=\"Card-link SyncHeight-item\" href=\"/de-de/game/classes/druid\"><div class=\"Card-image\"><div class=\"Card-image--full\"><div class=\"Art Card-art\"><div class=\"Art-size\" style=\"padding-top:100%\"></div><div class=\"Art-image\" style=\"background-image:url(https://blz-contentstack-images.akamaized.net/v3/assets/blt3452e3b114fab0cd/blt15fb42851b4eab5e/5ee3e39aa9170407eeb4b76d/1LARAZ7I3M0F1457032234809.jpg);\"></div><div class=\"Art-overlay\"></div></div></div><div class=\"Card-image--half\"><div class=\"Art Card-art\"><div class=\"Art-size\" style=\"padding-top:50%\"></div><div class=\"Art-image\" style=\"background-image:url(https://blz-contentstack-images.akamaized.net/v3/assets/blt3452e3b114fab0cd/blt15fb42851b4eab5e/5ee3e39aa9170407eeb4b76d/1LARAZ7I3M0F1457032234809.jpg);\"></div><div class=\"Art-overlay\"></div></div></div></div><div class=\"Card-content\"><div class=\"gutter-normal gutter-all\"><div class=\"Card-title\">Druide</div><div class=\"Card-subtitle\">Tank, Heiler, Schaden</div><p class=\"Card-description font-size-xSmall\" media-large=\"font-size-xSmall\">Druiden nutzen die endlosen Mächte der Natur, um Gleichgewicht zu schaffen und das Leben zu beschützen. Als Meister der Gestaltwandelkunst können sie die Form eines Bären, einer Katze, einer Sturmkrähe oder eines Seelöwen annehmen.</p><p class=\"Card-excerpt Card-excerpt--normal font-size-small\" media-large=\"font-size-xSmall\">Druiden nutzen die endlosen Mächte der Natur, um Gleichgewicht zu schaffen und das Leben zu beschützen. Als Meister der Gestaltwandelkunst können...</p><p class=\"Card-excerpt Card-excerpt--medium font-size-small\" media-large=\"font-size-xSmall\">Druiden nutzen die endlosen Mächte der Natur, um Gleichgewicht zu schaffen und das Leben zu beschützen. Als Meister der Gestaltwandelkunst können sie die Form eines Bären, einer Katze, einer Sturmkrähe oder eines Seelöwen annehmen.</p><p class=\"Card-excerpt Card-excerpt--long font-size-small\" media-large=\"font-size-xSmall\">Druiden nutzen die endlosen Mächte der Natur, um Gleichgewicht zu schaffen und das Leben zu beschützen. Als Meister der Gestaltwandelkunst können sie die Form eines Bären, einer Katze, einer Sturmkrähe oder eines Seelöwen annehmen.</p></div></div></a></div><div class=\"Card Card--borderPaper Cards-card\"><a class=\"Card-link SyncHeight-item\" href=\"/de-de/game/classes/death-knight\"><div class=\"Card-image\"><div class=\"Card-image--full\"><div class=\"Art Card-art\"><div class=\"Art-size\" style=\"padding-top:100%\"></div><div class=\"Art-image\" style=\"background-image:url(https://blz-contentstack-images.akamaized.net/v3/assets/blt3452e3b114fab0cd/blt456a89c041972885/5ee3e3d363a2d9709383078b/XM82LOJR750J1457032234975.jpg);\"></div><div class=\"Art-overlay\"></div></div></div><div class=\"Card-image--half\"><div class=\"Art Card-art\"><div class=\"Art-size\" style=\"padding-top:50%\"></div><div class=\"Art-image\" style=\"background-image:url(https://blz-contentstack-images.akamaized.net/v3/assets/blt3452e3b114fab0cd/blt456a89c041972885/5ee3e3d363a2d9709383078b/XM82LOJR750J1457032234975.jpg);\"></div><div class=\"Art-overlay\"></div></div></div></div><div class=\"Card-content\"><div class=\"gutter-normal gutter-all\"><div class=\"Card-title\">Todesritter</div><div class=\"Card-subtitle\">Tank, Schaden</div><p class=\"Card-description font-size-xSmall\" media-large=\"font-size-xSmall\">Als die Kontrolle des Lichkönigs über seine Todesritter gebrochen war, fanden seine einstigen Champions eine neue Bestimmung als Ritter der Schwarzen Klinge. Nachdem Bolvar Fordragon den Helm aufgesetzt hatte, um die untote Geißel unter Kontrolle zu halten, rief er eine neue Generation Todesritter als Unterstützung für die Schwarze Klinge ins Leben.</p><p class=\"Card-excerpt Card-excerpt--normal font-size-small\" media-large=\"font-size-xSmall\">Als die Kontrolle des Lichkönigs über seine Todesritter gebrochen war, fanden seine einstigen Champions eine neue Bestimmung als Ritter der Schwa...</p><p class=\"Card-excerpt Card-excerpt--medium font-size-small\" media-large=\"font-size-xSmall\">Als die Kontrolle des Lichkönigs über seine Todesritter gebrochen war, fanden seine einstigen Champions eine neue Bestimmung als Ritter der Schwarzen Klinge. Nachdem Bolvar Fordragon den Helm aufgesetzt hatte, um die untote Geißel unter Kontroll...</p><p class=\"Card-excerpt Card-excerpt--long font-size-small\" media-large=\"font-size-xSmall\">Als die Kontrolle des Lichkönigs über seine Todesritter gebrochen war, fanden seine einstigen Champions eine neue Bestimmung als Ritter der Schwarzen Klinge. Nachdem Bolvar Fordragon den Helm aufgesetzt hatte, um die untote Geißel unter Kontrolle zu halten, rief er eine neue Generation Todesritter als Unterstützung für die Schwarze Klinge ins ...</p></div></div></a></div></div></div></div><div class=\"space-normal\"></div></div></div></main><div class=\"Divider\"></div><div class=\"Pane Pane--bgBottom bordered\" data-lazyload-modifier=\"Pane--dirtLight\"><div class=\"Pane-bg\"><div class=\"Pane-overlay\"></div></div><div class=\"Pane-content\"><div class=\"gutter-normal gutter-vertical\"><div class=\"SocialLinks SocialLinks--undefined\"><h2 class=\"SocialLinks-title\">Warcraft folgen</h2><div class=\"SocialLinks-links\"><a class=\"Link SocialLinks-link\" href=\"https://www.facebook.com/WorldofWarcraft.de\" data-analytics=\"sns-refer\" data-analytics-placement=\"Footer - facebook\"><span class=\"Icon Icon--social-facebook Icon--medium SocialLinks-icon\"><img class=\"Icon-svg\" src=\"https://assets-bwa.worldofwarcraft.blizzard.com/images/social-facebook.73dc888c990c5a763d2940e0aa4fe23caa7dd2a3.svg\"/></span></a><a class=\"Link SocialLinks-link\" href=\"https://x.com/warcraft_DE\" data-analytics=\"sns-refer\" data-analytics-placement=\"Footer - twitter\"><span class=\"Icon Icon--social-twitter Icon--medium SocialLinks-icon\"><img class=\"Icon-svg\" src=\"https://assets-bwa.worldofwarcraft.blizzard.com/images/social-twitter.281231bf5ecb4280d12309e259acea8cf9a33c1a.svg\"/></span></a><a class=\"Link SocialLinks-link\" href=\"http://www.youtube.com/user/WorldofWarcraftDE\" data-analytics=\"sns-refer\" data-analytics-placement=\"Footer - youtube\"><span class=\"Icon Icon--social-youtube Icon--medium SocialLinks-icon\"><img class=\"Icon-svg\" src=\"https://assets-bwa.worldofwarcraft.blizzard.com/images/social-youtube.d360ef1618fe9863912792a8daae20106cd6b5c3.svg\"/></span></a><a class=\"Link SocialLinks-link\" href=\"https://www.reddit.com/r/wow\" data-analytics=\"sns-refer\" data-analytics-placement=\"Footer - reddit\"><span class=\"Icon Icon--social-reddit Icon--medium SocialLinks-icon\"><img class=\"Icon-svg\" src=\"https://assets-bwa.worldofwarcraft.blizzard.com/images/social-reddit.90720f352b8616f75e1eb772b781adcc7b41a734.svg\"/></span></a><a class=\"Link SocialLinks-link\" href=\"https://www.instagram.com/warcraft\" data-analytics=\"sns-refer\" data-analytics-placement=\"Footer - instagram\"><span class=\"Icon Icon--social-instagram Icon--medium SocialLinks-icon\"><img class=\"Icon-svg\" src=\"https://assets-bwa.worldofwarcraft.blizzard.com/images/social-instagram.063315658017923523fd188585c39561560d9b9c.svg\"/></span></a></div></div></div></div></div><div class=\"Pane z-index-above\" data-lazyload-modifier=\"Pane--dirtDark\"><div class=\"Pane-bg\"><div class=\"Pane-overlay\"></div></div><div class=\"Pane-content\"><blz-nav-footer legal-title-id=\"5730135\" legal-subtitle-id=\"13\" supported-locales=\\'[\"en-us\",\"en-gb\",\"de-de\",\"es-es\",\"es-mx\",\"fr-fr\",\"it-it\",\"pt-br\",\"ru-ru\",\"ko-kr\",\"zh-tw\"]\\' cookies-url=\"https://www.blizzard.com/cookies\"><script src=\"https://navbar.blizzard.com/static/v1/footer.js\" async=\"async\"></script></blz-nav-footer></div></div></div></div><div class=\"Photoswipe pswp Photoswipe--modal Photoswipe--wow\" name=\"modal\" tabindex=\"-1\" role=\"dialog\" aria-hidden=\"true\"><div class=\"pswp__bg\"></div><div class=\"pswp__scroll-wrap\"><div class=\"pswp__container\"><div class=\"pswp__item\"></div><div class=\"pswp__item\"></div><div class=\"pswp__item\"></div></div><div class=\"pswp__ui pswp__ui--hidden\"><div class=\"pswp__top-bar Photoswipe-top\"><div class=\"pswp__counter\"></div><button class=\"pswp__button pswp__button--close\" title=\"Schließen (Esc)\"></button><button class=\"pswp__button pswp__button--share\" title=\"Teilen\"></button><button class=\"pswp__button pswp__button--fs\" title=\"Vollbild ein/aus\"></button><button class=\"pswp__button pswp__button--zoom\" title=\"Hereinzoomen/Herauszoomen\"></button><div class=\"pswp__preloader\"><div class=\"pswp__preloader__icn\"><div class=\"pswp__preloader__cut\"><div class=\"pswp__preloader__donut\"></div></div></div></div></div><div class=\"pswp__share-modal pswp__share-modal--hidden pswp__single-tap\"><div class=\"pswp__share-tooltip\"></div></div><div class=\"pswp__caption\"><div class=\"pswp__caption__center\"></div></div><button class=\"pswp__button pswp__button--arrow--left\" title=\"Vorheriges (Rechtspfeil)\"></button><button class=\"pswp__button pswp__button--arrow--right\" title=\"Nächstes (Linkspfeil)\"></button><div class=\"Photoswipe-prev\" title=\"Vorheriges (Rechtspfeil)\"><span class=\"Icon Icon--prev\"></span></div><div class=\"Photoswipe-next\" title=\"Nächstes (Linkspfeil)\"><span class=\"Icon Icon--next\"></span></div></div></div></div><div class=\"Photoswipe pswp Photoswipe--lightbox Photoswipe--wow\" name=\"lightbox\" tabindex=\"-1\" role=\"dialog\" aria-hidden=\"true\"><div class=\"pswp__bg\"></div><div class=\"pswp__scroll-wrap\"><div class=\"pswp__container\"><div class=\"pswp__item\"></div><div class=\"pswp__item\"></div><div class=\"pswp__item\"></div></div><div class=\"pswp__ui pswp__ui--hidden\"><div class=\"pswp__top-bar Photoswipe-top\"><div class=\"pswp__counter\"></div><button class=\"pswp__button pswp__button--close\" title=\"Schließen (Esc)\"></button><button class=\"pswp__button pswp__button--share\" title=\"Teilen\"></button><button class=\"pswp__button pswp__button--fs\" title=\"Vollbild ein/aus\"></button><button class=\"pswp__button pswp__button--zoom\" title=\"Hereinzoomen/Herauszoomen\"></button><div class=\"pswp__preloader\"><div class=\"pswp__preloader__icn\"><div class=\"pswp__preloader__cut\"><div class=\"pswp__preloader__donut\"></div></div></div></div></div><div class=\"pswp__share-modal pswp__share-modal--hidden pswp__single-tap\"><div class=\"pswp__share-tooltip\"></div></div><div class=\"pswp__caption\"><div class=\"pswp__caption__center\"></div></div><button class=\"pswp__button pswp__button--arrow--left\" title=\"Vorheriges (Rechtspfeil)\"></button><button class=\"pswp__button pswp__button--arrow--right\" title=\"Nächstes (Linkspfeil)\"></button><div class=\"Photoswipe-prev\" title=\"Vorheriges (Rechtspfeil)\"><span class=\"Icon Icon--prev\"></span></div><div class=\"Photoswipe-next\" title=\"Nächstes (Linkspfeil)\"><span class=\"Icon Icon--next\"></span></div></div></div></div><script src=\"https://assets-bwa.worldofwarcraft.blizzard.com/runtime.7c542bb00faccf9472f3.js\"></script><script src=\"https://assets-bwa.worldofwarcraft.blizzard.com/vendor.20dc0f46c8f804e11276.js\"></script><script src=\"https://assets-bwa.worldofwarcraft.blizzard.com/632.70d340201ba1db8189d1.js\"></script><script src=\"https://assets-bwa.worldofwarcraft.blizzard.com/legacy-components.50eec4bc7d84f03521ef.js\"></script><script id=\"model\">model = {\"title\":\"Klassen\",\"subtitle\":\"In World of Warcraft erwarten euch Ritter in glänzender Rüstung, herumschleichende Draufgänger und raffinierte Zauberwirker. Einzigartige Herausforderungen erwarten euch mit jeder Klasse und ein Spielerlebnis, das es zu meistern gilt. Welchem Ruf werdet ihr folgen?\",\"background\":{\"color\":\"#151b0f\",\"url\":\"https://blz-contentstack-images.akamaized.net/v3/assets/blt3452e3b114fab0cd/bltfdb10c76cd837218/5ef22bb0b7f22712a4d508b9/PJBK2UYV0YYL1466177409759.jpg\",\"bg\":{\"url\":\"https://blz-contentstack-images.akamaized.net/v3/assets/blt3452e3b114fab0cd/bltfdb10c76cd837218/5ef22bb0b7f22712a4d508b9/PJBK2UYV0YYL1466177409759.jpg\"}},\"meta\":{\"title\":\"Spielbare Klassen\",\"description\":\"In World of Warcraft könnt ihr Ritter in glänzender Rüstung, herumschleichende Draufgänger oder raffinierte Zauberwirker sein. Einzigartige Herausforderungen...\",\"card\":\"summary\"},\"columns\":[[{\"title\":\"Krieger\",\"subtitle\":\"Tank, Schaden\",\"url\":\"/game/classes/warrior\",\"description\":\"Schon seit es Kriege gibt streben Helden aus allen Völkern danach, die Kunst der Schlacht zu beherrschen. Im Krieger vereinen sich Stärke, Führungsqualitäten und ein unermessliches Wissen über Waffen und Rüstungen, um in einer glorreichen Schlacht den Feind in den Untergang zu stürzen.\",\"image\":{\"uid\":\"bltf9f62859db695a4d\",\"created_by\":\"bltc3f426be8073d0e3\",\"updated_by\":\"bltc3f426be8073d0e3\",\"created_at\":\"2020-06-12T20:24:19.139Z\",\"updated_at\":\"2020-06-12T20:24:19.139Z\",\"content_type\":\"image/jpeg\",\"file_size\":\"116117\",\"filename\":\"9WL35DUZNSG01457032148687.jpg\",\"title\":\"9WL35DUZNSG01457032148687.jpg\",\"ACL\":[],\"_version\":1,\"is_dir\":false,\"tags\":[],\"publish_details\":{\"environment\":\"blt4418a17401c01b36\",\"locale\":\"de-de\",\"time\":\"2020-07-14T14:22:23.425Z\",\"user\":\"blt8e45e3b7cfc3143d\"},\"url\":\"https://blz-contentstack-images.akamaized.net/v3/assets/blt3452e3b114fab0cd/bltf9f62859db695a4d/5ee3e473a7c560086afc3ffd/9WL35DUZNSG01457032148687.jpg\",\"width\":100,\"height\":100},\"fontSize\":\"xSmall\"},{\"title\":\"Jäger\",\"subtitle\":\"Schaden\",\"url\":\"/game/classes/hunter\",\"description\":\"Schon seit ewigen Zeiten lockt der Ruf der Wildnis einige Abenteurer aus der Sicherheit ihres Heims hinaus in die gnadenlose, unberührte Welt. Diejenigen, die ihre Herausforderungen bestehen, werden zu Jägern.\",\"image\":{\"uid\":\"blt567c8844ced4dbc7\",\"created_by\":\"bltc3f426be8073d0e3\",\"updated_by\":\"bltc3f426be8073d0e3\",\"created_at\":\"2020-06-12T20:22:41.898Z\",\"updated_at\":\"2020-06-12T20:22:41.898Z\",\"content_type\":\"image/jpeg\",\"file_size\":\"107437\",\"filename\":\"QDIDT6YO6NYN1457032234749.jpg\",\"title\":\"QDIDT6YO6NYN1457032234749.jpg\",\"ACL\":[],\"_version\":1,\"is_dir\":false,\"tags\":[],\"publish_details\":{\"environment\":\"blt4418a17401c01b36\",\"locale\":\"de-de\",\"time\":\"2020-07-14T14:22:57.046Z\",\"user\":\"blt8e45e3b7cfc3143d\"},\"url\":\"https://blz-contentstack-images.akamaized.net/v3/assets/blt3452e3b114fab0cd/blt567c8844ced4dbc7/5ee3e411e8f74907ecce011e/QDIDT6YO6NYN1457032234749.jpg\",\"width\":100,\"height\":100},\"fontSize\":\"xSmall\"},{\"title\":\"Priester\",\"subtitle\":\"Heiler, Schaden\",\"url\":\"/game/classes/priest\",\"description\":\"Priester haben sich ganz dem spirituellen Pfad gewidmet und zeigen ihren unerschütterlichen Glauben, indem sie anderen dienen. Vor Jahrtausenden verließen sie die Grenzen ihrer Tempel und die Zuflucht ihrer Schreine, um ihre Verbündeten in den von Kriegen zerrissenen Ländern zu unterstützen.\",\"image\":{\"uid\":\"blt6b4539f958b752fb\",\"created_by\":\"bltc3f426be8073d0e3\",\"updated_by\":\"bltc3f426be8073d0e3\",\"created_at\":\"2020-06-15T14:55:59.803Z\",\"updated_at\":\"2020-06-15T14:55:59.803Z\",\"content_type\":\"image/jpeg\",\"file_size\":\"112005\",\"filename\":\"MWNKR1G1Z7AD1457032234453.jpg\",\"title\":\"MWNKR1G1Z7AD1457032234453.jpg\",\"ACL\":[],\"_version\":1,\"is_dir\":false,\"tags\":[],\"publish_details\":{\"environment\":\"blt4418a17401c01b36\",\"locale\":\"de-de\",\"time\":\"2020-07-14T14:22:23.425Z\",\"user\":\"blt8e45e3b7cfc3143d\"},\"url\":\"https://blz-contentstack-images.akamaized.net/v3/assets/blt3452e3b114fab0cd/blt6b4539f958b752fb/5ee78bff63a2d97093830907/MWNKR1G1Z7AD1457032234453.jpg\",\"width\":100,\"height\":100},\"fontSize\":\"xSmall\"},{\"title\":\"Magier\",\"subtitle\":\"Schaden\",\"url\":\"/game/classes/mage\",\"description\":\"Nur besonders talentierte Schüler mit einer unerschütterlichen Disziplin sind in der Lage, auf dem harten Pfad des Magiers zu bestehen. Die arkane Magie der Magier ist sowohl mächtig als auch gefährlich, weshalb sie nur hingebungsvollen Magiebegabten offenbart wird.\",\"image\":{\"uid\":\"bltdd80a40a42fdc015\",\"created_by\":\"bltc3f426be8073d0e3\",\"updated_by\":\"bltc3f426be8073d0e3\",\"created_at\":\"2020-06-12T20:23:40.509Z\",\"updated_at\":\"2020-06-12T20:23:40.509Z\",\"content_type\":\"image/jpeg\",\"file_size\":\"106494\",\"filename\":\"PRJHFTFZI64Z1457032234735.jpg\",\"title\":\"PRJHFTFZI64Z1457032234735.jpg\",\"ACL\":[],\"_version\":1,\"is_dir\":false,\"tags\":[],\"publish_details\":{\"environment\":\"blt4418a17401c01b36\",\"locale\":\"de-de\",\"time\":\"2020-07-14T14:22:23.425Z\",\"user\":\"blt8e45e3b7cfc3143d\"},\"url\":\"https://blz-contentstack-images.akamaized.net/v3/assets/blt3452e3b114fab0cd/bltdd80a40a42fdc015/5ee3e44c18f34d710497c5bd/PRJHFTFZI64Z1457032234735.jpg\",\"width\":100,\"height\":100},\"fontSize\":\"xSmall\"},{\"title\":\"Mönch\",\"subtitle\":\"Tank, Heiler, Schaden\",\"url\":\"/game/classes/monk\",\"description\":\"Raufbolde die mit bloßen Händen kämpfen haben diesen waffenlosen Stil im alten Pandaria entwickelt. Mönche die so verschieden sind, wie die Energie die sie umgibt. Sie können tödliche Angriffe durch den Dunst ihrer Gebräue schultern, den Chi-Fluß heilen und ihre Feinde mit Schlägen und Tritten so schnell wie der Wind eindecken.\",\"image\":{\"uid\":\"bltab8e835ed1f245ba\",\"created_by\":\"bltc3f426be8073d0e3\",\"updated_by\":\"bltc3f426be8073d0e3\",\"created_at\":\"2020-06-15T15:29:15.946Z\",\"updated_at\":\"2020-06-15T15:29:15.946Z\",\"content_type\":\"image/jpeg\",\"file_size\":\"86954\",\"filename\":\"80E3HJ653J1M1457032234443.jpg\",\"title\":\"80E3HJ653J1M1457032234443.jpg\",\"ACL\":[],\"_version\":1,\"is_dir\":false,\"tags\":[],\"publish_details\":{\"environment\":\"blt4418a17401c01b36\",\"locale\":\"de-de\",\"time\":\"2020-07-14T14:22:23.425Z\",\"user\":\"blt8e45e3b7cfc3143d\"},\"url\":\"https://blz-contentstack-images.akamaized.net/v3/assets/blt3452e3b114fab0cd/bltab8e835ed1f245ba/5ee793cb3a8621077a04a491/80E3HJ653J1M1457032234443.jpg\",\"width\":100,\"height\":100},\"fontSize\":\"xSmall\"},{\"title\":\"Dämonenjäger\",\"subtitle\":\"Tank, Schaden\",\"url\":\"/game/classes/demon-hunter\",\"description\":\"Dämonenjäger machen sich die verbotenen Mächte der Legion zueigen. Sie setzen Dämonen- und Chaosmagie ein, nehmen dämonische Formen an, besitzen Geistersicht und höllische Beweglichkeit, mit der sie selbst die gefährlichsten Gegner zur Strecke bringen können.\",\"image\":{\"uid\":\"bltecb94c367119455a\",\"created_by\":\"bltc3f426be8073d0e3\",\"updated_by\":\"bltc3f426be8073d0e3\",\"created_at\":\"2020-06-15T15:39:29.119Z\",\"updated_at\":\"2020-06-15T15:39:29.119Z\",\"content_type\":\"image/jpeg\",\"file_size\":\"108653\",\"filename\":\"4YSZQMC616V61457032235002.jpg\",\"title\":\"4YSZQMC616V61457032235002.jpg\",\"ACL\":[],\"_version\":1,\"is_dir\":false,\"tags\":[],\"publish_details\":{\"environment\":\"blt4418a17401c01b36\",\"locale\":\"de-de\",\"time\":\"2020-07-14T14:22:23.425Z\",\"user\":\"blt8e45e3b7cfc3143d\"},\"url\":\"https://blz-contentstack-images.akamaized.net/v3/assets/blt3452e3b114fab0cd/bltecb94c367119455a/5ee79631d217327180733e77/4YSZQMC616V61457032235002.jpg\",\"width\":100,\"height\":100},\"fontSize\":\"xSmall\"},{\"title\":\"Rufer\",\"subtitle\":\"Heiler, Schaden\",\"url\":\"/game/classes/evoker\",\"description\":\"Die Rufer der Dracthyr wurden geschaffen, um die Magien aller fünf Drachenschwärme zu verwenden. Jetzt machen sie sich auf, um sich in Azeroth ihren eigenen Weg zu bahnen.\",\"image\":{\"parent_uid\":\"bltdeea1f2173a869e1\",\"uid\":\"bltc4d521bd78d2e181\",\"created_by\":\"bltbd9ac9b1c3485aae\",\"updated_by\":\"bltbd9ac9b1c3485aae\",\"created_at\":\"2022-10-12T23:46:08.195Z\",\"updated_at\":\"2022-10-20T22:34:08.297Z\",\"content_type\":\"image/jpeg\",\"file_size\":\"144333\",\"filename\":\"Evoker_Card.jpg\",\"title\":\"Evoker_RacePage_T.png\",\"ACL\":[],\"_version\":4,\"is_dir\":false,\"tags\":[],\"description\":\"\",\"publish_details\":{\"environment\":\"blt4418a17401c01b36\",\"locale\":\"de-de\",\"time\":\"2022-11-15T16:41:13.871Z\",\"user\":\"bltdd7e3abfb24e69c1\"},\"url\":\"https://blz-contentstack-images.akamaized.net/v3/assets/blt3452e3b114fab0cd/bltc4d521bd78d2e181/6351cce05e1b6d519cb60ba9/Evoker_Card.jpg\",\"permanent_url\":\"https://blz-contentstack-images.akamaized.net/v3/assets/blt3452e3b114fab0cd/bltc4d521bd78d2e181/Evoker_RacePage_T.png\",\"width\":100,\"height\":100},\"fontSize\":\"xSmall\"}],[{\"title\":\"Paladin\",\"subtitle\":\"Tank, Heiler, Schaden\",\"url\":\"/game/classes/paladin\",\"description\":\"Die Berufung des Paladins besteht darin, die Schwachen zu beschützen, den Ungerechten ihre gerechte Strafe zuteil werden zu lassen und das Böse aus den düstersten Ecken der Welt zu verbannen.\",\"image\":{\"uid\":\"blt931cd3c007637bcc\",\"created_by\":\"bltc3f426be8073d0e3\",\"updated_by\":\"bltc3f426be8073d0e3\",\"created_at\":\"2020-06-15T15:15:55.325Z\",\"updated_at\":\"2020-06-15T15:15:55.325Z\",\"content_type\":\"image/jpeg\",\"file_size\":\"95435\",\"filename\":\"ZNPM9RQETYC21457032234435.jpg\",\"title\":\"ZNPM9RQETYC21457032234435.jpg\",\"ACL\":[],\"_version\":1,\"is_dir\":false,\"tags\":[],\"publish_details\":{\"environment\":\"blt4418a17401c01b36\",\"locale\":\"de-de\",\"time\":\"2020-07-14T14:22:23.425Z\",\"user\":\"blt8e45e3b7cfc3143d\"},\"url\":\"https://blz-contentstack-images.akamaized.net/v3/assets/blt3452e3b114fab0cd/blt931cd3c007637bcc/5ee790ab3a8621077a04a479/ZNPM9RQETYC21457032234435.jpg\",\"width\":100,\"height\":100},\"fontSize\":\"xSmall\"},{\"title\":\"Schurke\",\"subtitle\":\"Schaden\",\"url\":\"/game/classes/rogue\",\"description\":\"Schurken kennen nur einen Kodex, nämlich den Vertrag. Ihre Ehre lässt sich mit Gold kaufen. Frei von den hinderlichen Schranken eines Gewissens verlassen diese Söldner sich auf brutale und effiziente Taktiken.\",\"image\":{\"uid\":\"bltceda97b65490029d\",\"created_by\":\"bltc3f426be8073d0e3\",\"updated_by\":\"bltc3f426be8073d0e3\",\"created_at\":\"2020-06-12T20:25:06.565Z\",\"updated_at\":\"2020-06-12T20:25:06.565Z\",\"content_type\":\"image/jpeg\",\"file_size\":\"97153\",\"filename\":\"65H7H3XK5PFS1457032234098.jpg\",\"title\":\"65H7H3XK5PFS1457032234098.jpg\",\"ACL\":[],\"_version\":1,\"is_dir\":false,\"tags\":[],\"publish_details\":{\"environment\":\"blt4418a17401c01b36\",\"locale\":\"de-de\",\"time\":\"2020-07-14T14:22:23.425Z\",\"user\":\"blt8e45e3b7cfc3143d\"},\"url\":\"https://blz-contentstack-images.akamaized.net/v3/assets/blt3452e3b114fab0cd/bltceda97b65490029d/5ee3e4a218f34d710497c5c9/65H7H3XK5PFS1457032234098.jpg\",\"width\":100,\"height\":100},\"fontSize\":\"xSmall\"},{\"title\":\"Schamane\",\"subtitle\":\"Heiler, Schaden\",\"url\":\"/game/classes/shaman\",\"description\":\"Schamanen haben sich der spirituellen Führung und Kunst verschrieben, jedoch nicht des Göttlichen, sondern der Elemente selbst. Als Vermittler der vier Elemente ruft der Schamane Totems herbei und befieht ihnen, die Verbündeten des Schamanen zu unterstützen oder seine Feinde zu bestrafen.\",\"image\":{\"uid\":\"blt3001008857efcbd4\",\"created_by\":\"bltc3f426be8073d0e3\",\"updated_by\":\"bltc3f426be8073d0e3\",\"created_at\":\"2020-06-15T15:23:46.559Z\",\"updated_at\":\"2020-06-15T15:23:46.559Z\",\"content_type\":\"image/jpeg\",\"file_size\":\"104887\",\"filename\":\"LPEY9SFJT7PB1457032234088.jpg\",\"title\":\"LPEY9SFJT7PB1457032234088.jpg\",\"ACL\":[],\"_version\":1,\"is_dir\":false,\"tags\":[],\"publish_details\":{\"environment\":\"blt4418a17401c01b36\",\"locale\":\"de-de\",\"time\":\"2020-07-14T14:22:23.425Z\",\"user\":\"blt8e45e3b7cfc3143d\"},\"url\":\"https://blz-contentstack-images.akamaized.net/v3/assets/blt3452e3b114fab0cd/blt3001008857efcbd4/5ee7928218f34d710497c759/LPEY9SFJT7PB1457032234088.jpg\",\"width\":100,\"height\":100},\"fontSize\":\"xSmall\"},{\"title\":\"Hexenmeister\",\"subtitle\":\"Schaden\",\"url\":\"/game/classes/warlock\",\"description\":\"Im Angesicht einer dämonischen Macht finden die meisten Helden den Tod. Hexenmeister jedoch sehen dies als günstige Gelegenheit. Ihr Ziel ist die Beherrschung, und in den dunklen Künsten haben sie einen Weg dorthin gefunden.\",\"image\":{\"uid\":\"blt87bd56354f8c3fcd\",\"created_by\":\"bltc3f426be8073d0e3\",\"updated_by\":\"bltc3f426be8073d0e3\",\"created_at\":\"2020-06-12T20:42:41.269Z\",\"updated_at\":\"2020-06-12T20:42:41.269Z\",\"content_type\":\"image/jpeg\",\"file_size\":\"142602\",\"filename\":\"YDUU4KIKVCLY1457032234192.jpg\",\"title\":\"YDUU4KIKVCLY1457032234192.jpg\",\"ACL\":[],\"_version\":1,\"is_dir\":false,\"tags\":[],\"publish_details\":{\"environment\":\"blt4418a17401c01b36\",\"locale\":\"de-de\",\"time\":\"2020-07-14T14:22:23.425Z\",\"user\":\"blt8e45e3b7cfc3143d\"},\"url\":\"https://blz-contentstack-images.akamaized.net/v3/assets/blt3452e3b114fab0cd/blt87bd56354f8c3fcd/5ee3e8c1889f917094610eb8/YDUU4KIKVCLY1457032234192.jpg\",\"width\":100,\"height\":100},\"fontSize\":\"xSmall\"},{\"title\":\"Druide\",\"subtitle\":\"Tank, Heiler, Schaden\",\"url\":\"/game/classes/druid\",\"description\":\"Druiden nutzen die endlosen Mächte der Natur, um Gleichgewicht zu schaffen und das Leben zu beschützen. Als Meister der Gestaltwandelkunst können sie die Form eines Bären, einer Katze, einer Sturmkrähe oder eines Seelöwen annehmen.\",\"image\":{\"uid\":\"blt15fb42851b4eab5e\",\"created_by\":\"bltc3f426be8073d0e3\",\"updated_by\":\"bltc3f426be8073d0e3\",\"created_at\":\"2020-06-12T20:20:42.163Z\",\"updated_at\":\"2020-06-12T20:20:42.163Z\",\"content_type\":\"image/jpeg\",\"file_size\":\"120689\",\"filename\":\"1LARAZ7I3M0F1457032234809.jpg\",\"title\":\"1LARAZ7I3M0F1457032234809.jpg\",\"ACL\":[],\"_version\":1,\"is_dir\":false,\"tags\":[],\"publish_details\":{\"environment\":\"blt4418a17401c01b36\",\"locale\":\"de-de\",\"time\":\"2020-07-14T14:22:23.425Z\",\"user\":\"blt8e45e3b7cfc3143d\"},\"url\":\"https://blz-contentstack-images.akamaized.net/v3/assets/blt3452e3b114fab0cd/blt15fb42851b4eab5e/5ee3e39aa9170407eeb4b76d/1LARAZ7I3M0F1457032234809.jpg\",\"width\":100,\"height\":100},\"fontSize\":\"xSmall\"},{\"title\":\"Todesritter\",\"subtitle\":\"Tank, Schaden\",\"url\":\"/game/classes/death-knight\",\"description\":\"Als die Kontrolle des Lichkönigs über seine Todesritter gebrochen war, fanden seine einstigen Champions eine neue Bestimmung als Ritter der Schwarzen Klinge. Nachdem Bolvar Fordragon den Helm aufgesetzt hatte, um die untote Geißel unter Kontrolle zu halten, rief er eine neue Generation Todesritter als Unterstützung für die Schwarze Klinge ins Leben.\",\"image\":{\"uid\":\"blt456a89c041972885\",\"created_by\":\"bltc3f426be8073d0e3\",\"updated_by\":\"bltc3f426be8073d0e3\",\"created_at\":\"2020-06-12T20:21:39.962Z\",\"updated_at\":\"2020-06-12T20:21:39.962Z\",\"content_type\":\"image/jpeg\",\"file_size\":\"86508\",\"filename\":\"XM82LOJR750J1457032234975.jpg\",\"title\":\"XM82LOJR750J1457032234975.jpg\",\"ACL\":[],\"_version\":1,\"is_dir\":false,\"tags\":[],\"publish_details\":{\"environment\":\"blt4418a17401c01b36\",\"locale\":\"de-de\",\"time\":\"2020-07-14T14:22:57.046Z\",\"user\":\"blt8e45e3b7cfc3143d\"},\"url\":\"https://blz-contentstack-images.akamaized.net/v3/assets/blt3452e3b114fab0cd/blt456a89c041972885/5ee3e3d363a2d9709383078b/XM82LOJR750J1457032234975.jpg\",\"width\":100,\"height\":100},\"fontSize\":\"xSmall\"}]]};</script><script id=\"settings\">settings = {\"x-powered-by\":false,\"etag\":\"weak\",\"env\":\"production\",\"query parser\":\"extended\",\"subdomain offset\":2,\"trust proxy\":true,\"views\":\"/usr/src/app/templates\",\"jsonp callback name\":\"callback\",\"view cache\":true,\"view engine\":\"pug\"};</script></body></html>'"
      ]
     },
     "execution_count": 79,
     "metadata": {},
     "output_type": "execute_result"
    }
   ],
   "execution_count": 79
  },
  {
   "cell_type": "code",
   "metadata": {
    "ExecuteTime": {
     "end_time": "2025-01-24T10:46:23.442431Z",
     "start_time": "2025-01-24T10:46:23.396809Z"
    }
   },
   "source": [
    "# Schritt 2: Suppen-Objekt erstellen -> Inhalt wird von bs4 ausgelesen und umgewandelt\n",
    "soup = BeautifulSoup(response.text)"
   ],
   "outputs": [],
   "execution_count": 80
  },
  {
   "cell_type": "code",
   "metadata": {
    "collapsed": false,
    "ExecuteTime": {
     "end_time": "2025-01-24T10:52:58.769665Z",
     "start_time": "2025-01-24T10:52:58.727965Z"
    }
   },
   "source": [
    "# Schritt 3: Die Suppe durchsuchen\n",
    "#            Welche HTML-Tags wollen wir finden?\n",
    "# Klasse Card-title ist interessant!\n",
    "classes = soup.find_all(class_='Card-title')\n",
    "classes"
   ],
   "outputs": [
    {
     "data": {
      "text/plain": [
       "[<div class=\"Card-title\">Krieger</div>,\n",
       " <div class=\"Card-title\">Jäger</div>,\n",
       " <div class=\"Card-title\">Priester</div>,\n",
       " <div class=\"Card-title\">Magier</div>,\n",
       " <div class=\"Card-title\">Mönch</div>,\n",
       " <div class=\"Card-title\">Dämonenjäger</div>,\n",
       " <div class=\"Card-title\">Rufer</div>,\n",
       " <div class=\"Card-title\">Paladin</div>,\n",
       " <div class=\"Card-title\">Schurke</div>,\n",
       " <div class=\"Card-title\">Schamane</div>,\n",
       " <div class=\"Card-title\">Hexenmeister</div>,\n",
       " <div class=\"Card-title\">Druide</div>,\n",
       " <div class=\"Card-title\">Todesritter</div>]"
      ]
     },
     "execution_count": 83,
     "metadata": {},
     "output_type": "execute_result"
    }
   ],
   "execution_count": 83
  },
  {
   "cell_type": "code",
   "metadata": {
    "collapsed": false,
    "ExecuteTime": {
     "end_time": "2025-01-24T10:55:00.921480Z",
     "start_time": "2025-01-24T10:55:00.906770Z"
    }
   },
   "source": [
    "# Schritt 4: Jetzt wollen wir für jedes Objekt nur den\n",
    "# Textinhalt und diesen als neue Liste speichern.\n",
    "classes = {'Klasse': [c.text for c in classes]}\n",
    "classes"
   ],
   "outputs": [
    {
     "data": {
      "text/plain": [
       "{'Klasse': ['Krieger',\n",
       "  'Jäger',\n",
       "  'Priester',\n",
       "  'Magier',\n",
       "  'Mönch',\n",
       "  'Dämonenjäger',\n",
       "  'Rufer',\n",
       "  'Paladin',\n",
       "  'Schurke',\n",
       "  'Schamane',\n",
       "  'Hexenmeister',\n",
       "  'Druide',\n",
       "  'Todesritter']}"
      ]
     },
     "execution_count": 84,
     "metadata": {},
     "output_type": "execute_result"
    }
   ],
   "execution_count": 84
  },
  {
   "metadata": {
    "ExecuteTime": {
     "end_time": "2025-01-24T10:56:17.305979Z",
     "start_time": "2025-01-24T10:56:17.259071Z"
    }
   },
   "cell_type": "code",
   "outputs": [
    {
     "data": {
      "text/plain": [
       "          Klasse\n",
       "0        Krieger\n",
       "1          Jäger\n",
       "2       Priester\n",
       "3         Magier\n",
       "4          Mönch\n",
       "5   Dämonenjäger\n",
       "6          Rufer\n",
       "7        Paladin\n",
       "8        Schurke\n",
       "9       Schamane\n",
       "10  Hexenmeister\n",
       "11        Druide\n",
       "12   Todesritter"
      ],
      "text/html": [
       "<div>\n",
       "<style scoped>\n",
       "    .dataframe tbody tr th:only-of-type {\n",
       "        vertical-align: middle;\n",
       "    }\n",
       "\n",
       "    .dataframe tbody tr th {\n",
       "        vertical-align: top;\n",
       "    }\n",
       "\n",
       "    .dataframe thead th {\n",
       "        text-align: right;\n",
       "    }\n",
       "</style>\n",
       "<table border=\"1\" class=\"dataframe\">\n",
       "  <thead>\n",
       "    <tr style=\"text-align: right;\">\n",
       "      <th></th>\n",
       "      <th>Klasse</th>\n",
       "    </tr>\n",
       "  </thead>\n",
       "  <tbody>\n",
       "    <tr>\n",
       "      <th>0</th>\n",
       "      <td>Krieger</td>\n",
       "    </tr>\n",
       "    <tr>\n",
       "      <th>1</th>\n",
       "      <td>Jäger</td>\n",
       "    </tr>\n",
       "    <tr>\n",
       "      <th>2</th>\n",
       "      <td>Priester</td>\n",
       "    </tr>\n",
       "    <tr>\n",
       "      <th>3</th>\n",
       "      <td>Magier</td>\n",
       "    </tr>\n",
       "    <tr>\n",
       "      <th>4</th>\n",
       "      <td>Mönch</td>\n",
       "    </tr>\n",
       "    <tr>\n",
       "      <th>5</th>\n",
       "      <td>Dämonenjäger</td>\n",
       "    </tr>\n",
       "    <tr>\n",
       "      <th>6</th>\n",
       "      <td>Rufer</td>\n",
       "    </tr>\n",
       "    <tr>\n",
       "      <th>7</th>\n",
       "      <td>Paladin</td>\n",
       "    </tr>\n",
       "    <tr>\n",
       "      <th>8</th>\n",
       "      <td>Schurke</td>\n",
       "    </tr>\n",
       "    <tr>\n",
       "      <th>9</th>\n",
       "      <td>Schamane</td>\n",
       "    </tr>\n",
       "    <tr>\n",
       "      <th>10</th>\n",
       "      <td>Hexenmeister</td>\n",
       "    </tr>\n",
       "    <tr>\n",
       "      <th>11</th>\n",
       "      <td>Druide</td>\n",
       "    </tr>\n",
       "    <tr>\n",
       "      <th>12</th>\n",
       "      <td>Todesritter</td>\n",
       "    </tr>\n",
       "  </tbody>\n",
       "</table>\n",
       "</div>"
      ]
     },
     "execution_count": 85,
     "metadata": {},
     "output_type": "execute_result"
    }
   ],
   "execution_count": 85,
   "source": [
    "# Schritt 5: Gesammelte Daten optional zu einem\n",
    "# DataFrame umwandeln.\n",
    "classes_df = pd.DataFrame(classes)\n",
    "classes_df"
   ]
  },
  {
   "metadata": {
    "ExecuteTime": {
     "end_time": "2025-01-24T11:02:48.083365Z",
     "start_time": "2025-01-24T11:02:48.062980Z"
    }
   },
   "cell_type": "code",
   "outputs": [
    {
     "data": {
      "text/plain": [
       "['Krieger',\n",
       " 'Jäger',\n",
       " 'Priester',\n",
       " 'Magier',\n",
       " 'Mönch',\n",
       " 'Dämonenjäger',\n",
       " 'Rufer',\n",
       " 'Paladin',\n",
       " 'Schurke',\n",
       " 'Schamane',\n",
       " 'Hexenmeister',\n",
       " 'Druide',\n",
       " 'Todesritter']"
      ]
     },
     "execution_count": 86,
     "metadata": {},
     "output_type": "execute_result"
    }
   ],
   "execution_count": 86,
   "source": [
    "# Schritt 3 alternativ (und spezifischer):\n",
    "classes = [c.text for c in soup.css.select('.Card-title')]\n",
    "classes"
   ]
  },
  {
   "cell_type": "code",
   "source": [
    "# Aufgabe: \n",
    "# Holt Euch die Zitate und Autorennamen von folgender URL:\n",
    "# https://quotes.toscrape.com/\n",
    "# Lasst Euch alle Zitate auf der ersten Seite mit Autoren ausgeben oder schreibt diese in eine txt-Datei!\n",
    "# Bonus: Holt euch alle Zitate von allen Seiten, auf denen es Zitate gibt!"
   ],
   "metadata": {
    "collapsed": false
   },
   "outputs": [],
   "execution_count": null
  },
  {
   "metadata": {
    "collapsed": false,
    "ExecuteTime": {
     "end_time": "2025-01-23T17:08:51.484860Z",
     "start_time": "2025-01-23T17:08:51.480712Z"
    }
   },
   "cell_type": "code",
   "outputs": [],
   "execution_count": 80,
   "source": "quotes_url = 'https://quotes.toscrape.com/'"
  },
  {
   "metadata": {
    "collapsed": false,
    "ExecuteTime": {
     "end_time": "2025-01-23T17:08:53.383777Z",
     "start_time": "2025-01-23T17:08:52.767894Z"
    }
   },
   "cell_type": "code",
   "outputs": [],
   "execution_count": 81,
   "source": [
    "response = requests.get(quotes_url)\n",
    "response.encoding = 'utf-8'\n",
    "soup = BeautifulSoup(response.text, 'html.parser')"
   ]
  },
  {
   "metadata": {
    "collapsed": false,
    "ExecuteTime": {
     "end_time": "2025-01-23T17:08:54.769699Z",
     "start_time": "2025-01-23T17:08:54.760081Z"
    }
   },
   "cell_type": "code",
   "outputs": [
    {
     "data": {
      "text/plain": [
       "[<div class=\"quote\" itemscope=\"\" itemtype=\"http://schema.org/CreativeWork\">\n",
       " <span class=\"text\" itemprop=\"text\">“The world as we have created it is a process of our thinking. It cannot be changed without changing our thinking.”</span>\n",
       " <span>by <small class=\"author\" itemprop=\"author\">Albert Einstein</small>\n",
       " <a href=\"/author/Albert-Einstein\">(about)</a>\n",
       " </span>\n",
       " <div class=\"tags\">\n",
       "             Tags:\n",
       "             <meta class=\"keywords\" content=\"change,deep-thoughts,thinking,world\" itemprop=\"keywords\"/>\n",
       " <a class=\"tag\" href=\"/tag/change/page/1/\">change</a>\n",
       " <a class=\"tag\" href=\"/tag/deep-thoughts/page/1/\">deep-thoughts</a>\n",
       " <a class=\"tag\" href=\"/tag/thinking/page/1/\">thinking</a>\n",
       " <a class=\"tag\" href=\"/tag/world/page/1/\">world</a>\n",
       " </div>\n",
       " </div>,\n",
       " <div class=\"quote\" itemscope=\"\" itemtype=\"http://schema.org/CreativeWork\">\n",
       " <span class=\"text\" itemprop=\"text\">“It is our choices, Harry, that show what we truly are, far more than our abilities.”</span>\n",
       " <span>by <small class=\"author\" itemprop=\"author\">J.K. Rowling</small>\n",
       " <a href=\"/author/J-K-Rowling\">(about)</a>\n",
       " </span>\n",
       " <div class=\"tags\">\n",
       "             Tags:\n",
       "             <meta class=\"keywords\" content=\"abilities,choices\" itemprop=\"keywords\"/>\n",
       " <a class=\"tag\" href=\"/tag/abilities/page/1/\">abilities</a>\n",
       " <a class=\"tag\" href=\"/tag/choices/page/1/\">choices</a>\n",
       " </div>\n",
       " </div>,\n",
       " <div class=\"quote\" itemscope=\"\" itemtype=\"http://schema.org/CreativeWork\">\n",
       " <span class=\"text\" itemprop=\"text\">“There are only two ways to live your life. One is as though nothing is a miracle. The other is as though everything is a miracle.”</span>\n",
       " <span>by <small class=\"author\" itemprop=\"author\">Albert Einstein</small>\n",
       " <a href=\"/author/Albert-Einstein\">(about)</a>\n",
       " </span>\n",
       " <div class=\"tags\">\n",
       "             Tags:\n",
       "             <meta class=\"keywords\" content=\"inspirational,life,live,miracle,miracles\" itemprop=\"keywords\"/>\n",
       " <a class=\"tag\" href=\"/tag/inspirational/page/1/\">inspirational</a>\n",
       " <a class=\"tag\" href=\"/tag/life/page/1/\">life</a>\n",
       " <a class=\"tag\" href=\"/tag/live/page/1/\">live</a>\n",
       " <a class=\"tag\" href=\"/tag/miracle/page/1/\">miracle</a>\n",
       " <a class=\"tag\" href=\"/tag/miracles/page/1/\">miracles</a>\n",
       " </div>\n",
       " </div>,\n",
       " <div class=\"quote\" itemscope=\"\" itemtype=\"http://schema.org/CreativeWork\">\n",
       " <span class=\"text\" itemprop=\"text\">“The person, be it gentleman or lady, who has not pleasure in a good novel, must be intolerably stupid.”</span>\n",
       " <span>by <small class=\"author\" itemprop=\"author\">Jane Austen</small>\n",
       " <a href=\"/author/Jane-Austen\">(about)</a>\n",
       " </span>\n",
       " <div class=\"tags\">\n",
       "             Tags:\n",
       "             <meta class=\"keywords\" content=\"aliteracy,books,classic,humor\" itemprop=\"keywords\"/>\n",
       " <a class=\"tag\" href=\"/tag/aliteracy/page/1/\">aliteracy</a>\n",
       " <a class=\"tag\" href=\"/tag/books/page/1/\">books</a>\n",
       " <a class=\"tag\" href=\"/tag/classic/page/1/\">classic</a>\n",
       " <a class=\"tag\" href=\"/tag/humor/page/1/\">humor</a>\n",
       " </div>\n",
       " </div>,\n",
       " <div class=\"quote\" itemscope=\"\" itemtype=\"http://schema.org/CreativeWork\">\n",
       " <span class=\"text\" itemprop=\"text\">“Imperfection is beauty, madness is genius and it's better to be absolutely ridiculous than absolutely boring.”</span>\n",
       " <span>by <small class=\"author\" itemprop=\"author\">Marilyn Monroe</small>\n",
       " <a href=\"/author/Marilyn-Monroe\">(about)</a>\n",
       " </span>\n",
       " <div class=\"tags\">\n",
       "             Tags:\n",
       "             <meta class=\"keywords\" content=\"be-yourself,inspirational\" itemprop=\"keywords\"/>\n",
       " <a class=\"tag\" href=\"/tag/be-yourself/page/1/\">be-yourself</a>\n",
       " <a class=\"tag\" href=\"/tag/inspirational/page/1/\">inspirational</a>\n",
       " </div>\n",
       " </div>,\n",
       " <div class=\"quote\" itemscope=\"\" itemtype=\"http://schema.org/CreativeWork\">\n",
       " <span class=\"text\" itemprop=\"text\">“Try not to become a man of success. Rather become a man of value.”</span>\n",
       " <span>by <small class=\"author\" itemprop=\"author\">Albert Einstein</small>\n",
       " <a href=\"/author/Albert-Einstein\">(about)</a>\n",
       " </span>\n",
       " <div class=\"tags\">\n",
       "             Tags:\n",
       "             <meta class=\"keywords\" content=\"adulthood,success,value\" itemprop=\"keywords\"/>\n",
       " <a class=\"tag\" href=\"/tag/adulthood/page/1/\">adulthood</a>\n",
       " <a class=\"tag\" href=\"/tag/success/page/1/\">success</a>\n",
       " <a class=\"tag\" href=\"/tag/value/page/1/\">value</a>\n",
       " </div>\n",
       " </div>,\n",
       " <div class=\"quote\" itemscope=\"\" itemtype=\"http://schema.org/CreativeWork\">\n",
       " <span class=\"text\" itemprop=\"text\">“It is better to be hated for what you are than to be loved for what you are not.”</span>\n",
       " <span>by <small class=\"author\" itemprop=\"author\">André Gide</small>\n",
       " <a href=\"/author/Andre-Gide\">(about)</a>\n",
       " </span>\n",
       " <div class=\"tags\">\n",
       "             Tags:\n",
       "             <meta class=\"keywords\" content=\"life,love\" itemprop=\"keywords\"/>\n",
       " <a class=\"tag\" href=\"/tag/life/page/1/\">life</a>\n",
       " <a class=\"tag\" href=\"/tag/love/page/1/\">love</a>\n",
       " </div>\n",
       " </div>,\n",
       " <div class=\"quote\" itemscope=\"\" itemtype=\"http://schema.org/CreativeWork\">\n",
       " <span class=\"text\" itemprop=\"text\">“I have not failed. I've just found 10,000 ways that won't work.”</span>\n",
       " <span>by <small class=\"author\" itemprop=\"author\">Thomas A. Edison</small>\n",
       " <a href=\"/author/Thomas-A-Edison\">(about)</a>\n",
       " </span>\n",
       " <div class=\"tags\">\n",
       "             Tags:\n",
       "             <meta class=\"keywords\" content=\"edison,failure,inspirational,paraphrased\" itemprop=\"keywords\"/>\n",
       " <a class=\"tag\" href=\"/tag/edison/page/1/\">edison</a>\n",
       " <a class=\"tag\" href=\"/tag/failure/page/1/\">failure</a>\n",
       " <a class=\"tag\" href=\"/tag/inspirational/page/1/\">inspirational</a>\n",
       " <a class=\"tag\" href=\"/tag/paraphrased/page/1/\">paraphrased</a>\n",
       " </div>\n",
       " </div>,\n",
       " <div class=\"quote\" itemscope=\"\" itemtype=\"http://schema.org/CreativeWork\">\n",
       " <span class=\"text\" itemprop=\"text\">“A woman is like a tea bag; you never know how strong it is until it's in hot water.”</span>\n",
       " <span>by <small class=\"author\" itemprop=\"author\">Eleanor Roosevelt</small>\n",
       " <a href=\"/author/Eleanor-Roosevelt\">(about)</a>\n",
       " </span>\n",
       " <div class=\"tags\">\n",
       "             Tags:\n",
       "             <meta class=\"keywords\" content=\"misattributed-eleanor-roosevelt\" itemprop=\"keywords\"/>\n",
       " <a class=\"tag\" href=\"/tag/misattributed-eleanor-roosevelt/page/1/\">misattributed-eleanor-roosevelt</a>\n",
       " </div>\n",
       " </div>,\n",
       " <div class=\"quote\" itemscope=\"\" itemtype=\"http://schema.org/CreativeWork\">\n",
       " <span class=\"text\" itemprop=\"text\">“A day without sunshine is like, you know, night.”</span>\n",
       " <span>by <small class=\"author\" itemprop=\"author\">Steve Martin</small>\n",
       " <a href=\"/author/Steve-Martin\">(about)</a>\n",
       " </span>\n",
       " <div class=\"tags\">\n",
       "             Tags:\n",
       "             <meta class=\"keywords\" content=\"humor,obvious,simile\" itemprop=\"keywords\"/>\n",
       " <a class=\"tag\" href=\"/tag/humor/page/1/\">humor</a>\n",
       " <a class=\"tag\" href=\"/tag/obvious/page/1/\">obvious</a>\n",
       " <a class=\"tag\" href=\"/tag/simile/page/1/\">simile</a>\n",
       " </div>\n",
       " </div>]"
      ]
     },
     "execution_count": 82,
     "metadata": {},
     "output_type": "execute_result"
    }
   ],
   "execution_count": 82,
   "source": [
    "quotes = soup.find_all('div', class_='quote')\n",
    "quotes"
   ]
  },
  {
   "metadata": {
    "collapsed": false,
    "ExecuteTime": {
     "end_time": "2025-01-23T17:08:59.092706Z",
     "start_time": "2025-01-23T17:08:59.086331Z"
    }
   },
   "cell_type": "code",
   "outputs": [
    {
     "data": {
      "text/plain": [
       "<div class=\"quote\" itemscope=\"\" itemtype=\"http://schema.org/CreativeWork\">\n",
       "<span class=\"text\" itemprop=\"text\">“The world as we have created it is a process of our thinking. It cannot be changed without changing our thinking.”</span>\n",
       "<span>by <small class=\"author\" itemprop=\"author\">Albert Einstein</small>\n",
       "<a href=\"/author/Albert-Einstein\">(about)</a>\n",
       "</span>\n",
       "<div class=\"tags\">\n",
       "            Tags:\n",
       "            <meta class=\"keywords\" content=\"change,deep-thoughts,thinking,world\" itemprop=\"keywords\"/>\n",
       "<a class=\"tag\" href=\"/tag/change/page/1/\">change</a>\n",
       "<a class=\"tag\" href=\"/tag/deep-thoughts/page/1/\">deep-thoughts</a>\n",
       "<a class=\"tag\" href=\"/tag/thinking/page/1/\">thinking</a>\n",
       "<a class=\"tag\" href=\"/tag/world/page/1/\">world</a>\n",
       "</div>\n",
       "</div>"
      ]
     },
     "execution_count": 83,
     "metadata": {},
     "output_type": "execute_result"
    }
   ],
   "execution_count": 83,
   "source": "quotes[0]"
  },
  {
   "metadata": {
    "collapsed": false,
    "ExecuteTime": {
     "end_time": "2025-01-23T17:09:05.438186Z",
     "start_time": "2025-01-23T17:09:05.432563Z"
    }
   },
   "cell_type": "code",
   "outputs": [
    {
     "data": {
      "text/plain": [
       "'“The world as we have created it is a process of our thinking. It cannot be changed without changing our thinking.”'"
      ]
     },
     "execution_count": 84,
     "metadata": {},
     "output_type": "execute_result"
    }
   ],
   "execution_count": 84,
   "source": "quotes[0].find('span').text"
  },
  {
   "metadata": {
    "collapsed": false,
    "ExecuteTime": {
     "end_time": "2025-01-23T17:09:07.895107Z",
     "start_time": "2025-01-23T17:09:07.890429Z"
    }
   },
   "cell_type": "code",
   "outputs": [
    {
     "data": {
      "text/plain": [
       "'Albert Einstein'"
      ]
     },
     "execution_count": 85,
     "metadata": {},
     "output_type": "execute_result"
    }
   ],
   "execution_count": 85,
   "source": "quotes[0].find('small').text"
  },
  {
   "metadata": {
    "collapsed": false,
    "ExecuteTime": {
     "end_time": "2025-01-23T17:09:11.039993Z",
     "start_time": "2025-01-23T17:09:11.035596Z"
    }
   },
   "cell_type": "code",
   "outputs": [
    {
     "name": "stdout",
     "output_type": "stream",
     "text": [
      "Quote:\n",
      " “The world as we have created it is a process of our thinking. It cannot be changed without changing our thinking.”\n",
      "Author: Albert Einstein\n",
      "\n",
      "Quote:\n",
      " “It is our choices, Harry, that show what we truly are, far more than our abilities.”\n",
      "Author: J.K. Rowling\n",
      "\n",
      "Quote:\n",
      " “There are only two ways to live your life. One is as though nothing is a miracle. The other is as though everything is a miracle.”\n",
      "Author: Albert Einstein\n",
      "\n",
      "Quote:\n",
      " “The person, be it gentleman or lady, who has not pleasure in a good novel, must be intolerably stupid.”\n",
      "Author: Jane Austen\n",
      "\n",
      "Quote:\n",
      " “Imperfection is beauty, madness is genius and it's better to be absolutely ridiculous than absolutely boring.”\n",
      "Author: Marilyn Monroe\n",
      "\n",
      "Quote:\n",
      " “Try not to become a man of success. Rather become a man of value.”\n",
      "Author: Albert Einstein\n",
      "\n",
      "Quote:\n",
      " “It is better to be hated for what you are than to be loved for what you are not.”\n",
      "Author: André Gide\n",
      "\n",
      "Quote:\n",
      " “I have not failed. I've just found 10,000 ways that won't work.”\n",
      "Author: Thomas A. Edison\n",
      "\n",
      "Quote:\n",
      " “A woman is like a tea bag; you never know how strong it is until it's in hot water.”\n",
      "Author: Eleanor Roosevelt\n",
      "\n",
      "Quote:\n",
      " “A day without sunshine is like, you know, night.”\n",
      "Author: Steve Martin\n",
      "\n"
     ]
    }
   ],
   "execution_count": 86,
   "source": [
    "for quote in quotes:\n",
    "    print('Quote:\\n',quote.find('span').text)\n",
    "    print('Author:', quote.find('small').text)\n",
    "    print()"
   ]
  }
 ],
 "metadata": {
  "kernelspec": {
   "display_name": "Python 3",
   "language": "python",
   "name": "python3"
  },
  "language_info": {
   "codemirror_mode": {
    "name": "ipython",
    "version": 3
   },
   "file_extension": ".py",
   "mimetype": "text/x-python",
   "name": "python",
   "nbconvert_exporter": "python",
   "pygments_lexer": "ipython3",
   "version": "3.11.5"
  }
 },
 "nbformat": 4,
 "nbformat_minor": 0
}
