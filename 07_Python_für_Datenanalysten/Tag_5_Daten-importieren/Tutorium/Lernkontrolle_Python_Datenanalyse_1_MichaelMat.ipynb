{
 "cells": [
  {
   "cell_type": "markdown",
   "metadata": {},
   "source": [
    "<br><br><center><h1 style=\"font-size:2em;color:green\">Lernkontrolle 1: Numpy & Pandas</h1></center>\n",
    "<br>\n",
    "<center>Die möglichen Punkte stehen bei der jeweiligen Aufgabe dabei</center>"
   ]
  },
  {
   "cell_type": "code",
   "metadata": {
    "ExecuteTime": {
     "end_time": "2024-11-15T13:00:09.590240Z",
     "start_time": "2024-11-15T13:00:09.586099Z"
    }
   },
   "source": [
    "from operator import index\n",
    "from unittest.mock import inplace\n",
    "\n",
    "# Deine Imports hier:\n",
    "# (bitte NUR hier, sonst gibt es in Zukunft dafür Punktabzug!)\n",
    "\n",
    "import numpy as np\n",
    "import pandas as pd\n",
    "import seaborn as sns"
   ],
   "outputs": [],
   "execution_count": 1
  },
  {
   "cell_type": "markdown",
   "metadata": {},
   "source": [
    "# Aufgabe 1"
   ]
  },
  {
   "cell_type": "markdown",
   "metadata": {},
   "source": [
    "1. Du hast einen Musikladen. Schreibe eine pandas-Series mit Instrumenten und vorrätigen Stückzahlen. Orientiere dich am nachfolgenden Output. Gib der Series den Namen 'quantity'! 8 Pkt\n",
    "\n",
    "\n",
    "Output:\n",
    "\n",
    "|            | Quantity |\n",
    "|------------|----------|\n",
    "| Klavier    | 12       |\n",
    "| Gitarre    | 32       |\n",
    "| Harfe      | 1        |\n",
    "| Schlagzeug | 32       |\n",
    "| Triangel   | 9        |\n",
    "\n",
    "Name: quantity, dtype: int64"
   ]
  },
  {
   "cell_type": "code",
   "metadata": {
    "ExecuteTime": {
     "end_time": "2024-11-15T13:00:09.630793Z",
     "start_time": "2024-11-15T13:00:09.619859Z"
    }
   },
   "source": [
    "music_store = pd.Series(\n",
    "    data=[12, 32, 1, 32, 9],\n",
    "    index=['Klavier', 'Gitarre', 'Harfe', 'Schlagzeug', 'Triangel'],\n",
    "    name='quantity'\n",
    ")\n",
    "\n",
    "music_store"
   ],
   "outputs": [
    {
     "data": {
      "text/plain": [
       "Klavier       12\n",
       "Gitarre       32\n",
       "Harfe          1\n",
       "Schlagzeug    32\n",
       "Triangel       9\n",
       "Name: quantity, dtype: int64"
      ]
     },
     "execution_count": 2,
     "metadata": {},
     "output_type": "execute_result"
    }
   ],
   "execution_count": 2
  },
  {
   "cell_type": "markdown",
   "metadata": {},
   "source": [
    "2. Du hast die Preise vergessen. So viel kostet jeweils ein Instrument:\n",
    "\n",
    "    Klavier       1200\n",
    "    Gitarre      800\n",
    "    Harfe        2500\n",
    "    Schlagzeug   450\n",
    "    Triangel      25\n",
    "\n",
    "Ja, die Triangel ist viel zu teuer, aber darum geht es nicht.\n",
    "Sondern du sollst mal wieder eine Series namens `price` produzieren und diese danach mit der vorigen Series zu einem DataFrame namens `music_shop` verbinden.\n",
    "\n",
    "\n",
    "8 Pkt.\n",
    "\n",
    "    Output:\n",
    "|            | Quantity | Price |\n",
    "|------------|----------|-------|\n",
    "| Klavier    | 12       | 1200  |\n",
    "| Gitarre    | 32       | 800   |\n",
    "| Harfe      | 1        | 2500  |\n",
    "| Schlagzeug | 32       | 450   |\n",
    "| Triangel   | 9        | 25    |"
   ]
  },
  {
   "cell_type": "code",
   "metadata": {
    "ExecuteTime": {
     "end_time": "2024-11-15T13:00:09.890930Z",
     "start_time": "2024-11-15T13:00:09.879846Z"
    }
   },
   "source": [
    "price = pd.Series(\n",
    "    data=[1200, 800, 2500, 450, 25],\n",
    "    index=['Klavier', 'Gitarre', 'Harfe', 'Schlagzeug', 'Triangel'],\n",
    "    name='price'\n",
    ")\n",
    "\n",
    "music_shop = pd.concat([music_store, price], axis=1, ignore_index=False)\n",
    "music_shop"
   ],
   "outputs": [
    {
     "data": {
      "text/plain": [
       "            quantity  price\n",
       "Klavier           12   1200\n",
       "Gitarre           32    800\n",
       "Harfe              1   2500\n",
       "Schlagzeug        32    450\n",
       "Triangel           9     25"
      ],
      "text/html": [
       "<div>\n",
       "<style scoped>\n",
       "    .dataframe tbody tr th:only-of-type {\n",
       "        vertical-align: middle;\n",
       "    }\n",
       "\n",
       "    .dataframe tbody tr th {\n",
       "        vertical-align: top;\n",
       "    }\n",
       "\n",
       "    .dataframe thead th {\n",
       "        text-align: right;\n",
       "    }\n",
       "</style>\n",
       "<table border=\"1\" class=\"dataframe\">\n",
       "  <thead>\n",
       "    <tr style=\"text-align: right;\">\n",
       "      <th></th>\n",
       "      <th>quantity</th>\n",
       "      <th>price</th>\n",
       "    </tr>\n",
       "  </thead>\n",
       "  <tbody>\n",
       "    <tr>\n",
       "      <th>Klavier</th>\n",
       "      <td>12</td>\n",
       "      <td>1200</td>\n",
       "    </tr>\n",
       "    <tr>\n",
       "      <th>Gitarre</th>\n",
       "      <td>32</td>\n",
       "      <td>800</td>\n",
       "    </tr>\n",
       "    <tr>\n",
       "      <th>Harfe</th>\n",
       "      <td>1</td>\n",
       "      <td>2500</td>\n",
       "    </tr>\n",
       "    <tr>\n",
       "      <th>Schlagzeug</th>\n",
       "      <td>32</td>\n",
       "      <td>450</td>\n",
       "    </tr>\n",
       "    <tr>\n",
       "      <th>Triangel</th>\n",
       "      <td>9</td>\n",
       "      <td>25</td>\n",
       "    </tr>\n",
       "  </tbody>\n",
       "</table>\n",
       "</div>"
      ]
     },
     "execution_count": 3,
     "metadata": {},
     "output_type": "execute_result"
    }
   ],
   "execution_count": 3
  },
  {
   "cell_type": "markdown",
   "metadata": {},
   "source": [
    "3. Sortiere den Index neu, damit die Instrumente in der korrekten alphabetischen Reihenfolge aufgeführt werden. Der DataFrame soll die Veränderungen übernehmen!\n",
    "\n",
    "4 Pkt"
   ]
  },
  {
   "cell_type": "code",
   "metadata": {
    "ExecuteTime": {
     "end_time": "2024-11-15T13:02:02.567137Z",
     "start_time": "2024-11-15T13:02:02.559347Z"
    }
   },
   "source": [
    "music_shop.sort_index(inplace=True)\n",
    "music_shop"
   ],
   "outputs": [
    {
     "data": {
      "text/plain": [
       "   instrument  quantity  price\n",
       "0     Gitarre        32    800\n",
       "1       Harfe         1   2500\n",
       "2     Klavier        12   1200\n",
       "3  Schlagzeug        32    450\n",
       "4    Triangel         9     25"
      ],
      "text/html": [
       "<div>\n",
       "<style scoped>\n",
       "    .dataframe tbody tr th:only-of-type {\n",
       "        vertical-align: middle;\n",
       "    }\n",
       "\n",
       "    .dataframe tbody tr th {\n",
       "        vertical-align: top;\n",
       "    }\n",
       "\n",
       "    .dataframe thead th {\n",
       "        text-align: right;\n",
       "    }\n",
       "</style>\n",
       "<table border=\"1\" class=\"dataframe\">\n",
       "  <thead>\n",
       "    <tr style=\"text-align: right;\">\n",
       "      <th></th>\n",
       "      <th>instrument</th>\n",
       "      <th>quantity</th>\n",
       "      <th>price</th>\n",
       "    </tr>\n",
       "  </thead>\n",
       "  <tbody>\n",
       "    <tr>\n",
       "      <th>0</th>\n",
       "      <td>Gitarre</td>\n",
       "      <td>32</td>\n",
       "      <td>800</td>\n",
       "    </tr>\n",
       "    <tr>\n",
       "      <th>1</th>\n",
       "      <td>Harfe</td>\n",
       "      <td>1</td>\n",
       "      <td>2500</td>\n",
       "    </tr>\n",
       "    <tr>\n",
       "      <th>2</th>\n",
       "      <td>Klavier</td>\n",
       "      <td>12</td>\n",
       "      <td>1200</td>\n",
       "    </tr>\n",
       "    <tr>\n",
       "      <th>3</th>\n",
       "      <td>Schlagzeug</td>\n",
       "      <td>32</td>\n",
       "      <td>450</td>\n",
       "    </tr>\n",
       "    <tr>\n",
       "      <th>4</th>\n",
       "      <td>Triangel</td>\n",
       "      <td>9</td>\n",
       "      <td>25</td>\n",
       "    </tr>\n",
       "  </tbody>\n",
       "</table>\n",
       "</div>"
      ]
     },
     "execution_count": 11,
     "metadata": {},
     "output_type": "execute_result"
    }
   ],
   "execution_count": 11
  },
  {
   "cell_type": "markdown",
   "metadata": {},
   "source": [
    "4. Du möchtest nicht mehr die Instrumentennamen im Index haben, sondern diese als weitere Spalte im DataFrame namens 'instrument' führen. Der Index soll ein ganz normaler numerischer fortlaufender Index sein. Wie löst du das? Bonus: Wenn du es in einer Zeile hinkriegst, gibt es zwei Bonuspunkte ;)\n",
    "\n",
    "8 Pkt (+ 2 Bonus)"
   ]
  },
  {
   "cell_type": "code",
   "metadata": {
    "ExecuteTime": {
     "end_time": "2024-11-15T13:02:04.861380Z",
     "start_time": "2024-11-15T13:02:04.850914Z"
    }
   },
   "source": [
    "music_shop.rename(columns={'index': 'instrument'}, inplace=True)\n",
    "music_shop"
   ],
   "outputs": [
    {
     "data": {
      "text/plain": [
       "   instrument  quantity  price\n",
       "0     Gitarre        32    800\n",
       "1       Harfe         1   2500\n",
       "2     Klavier        12   1200\n",
       "3  Schlagzeug        32    450\n",
       "4    Triangel         9     25"
      ],
      "text/html": [
       "<div>\n",
       "<style scoped>\n",
       "    .dataframe tbody tr th:only-of-type {\n",
       "        vertical-align: middle;\n",
       "    }\n",
       "\n",
       "    .dataframe tbody tr th {\n",
       "        vertical-align: top;\n",
       "    }\n",
       "\n",
       "    .dataframe thead th {\n",
       "        text-align: right;\n",
       "    }\n",
       "</style>\n",
       "<table border=\"1\" class=\"dataframe\">\n",
       "  <thead>\n",
       "    <tr style=\"text-align: right;\">\n",
       "      <th></th>\n",
       "      <th>instrument</th>\n",
       "      <th>quantity</th>\n",
       "      <th>price</th>\n",
       "    </tr>\n",
       "  </thead>\n",
       "  <tbody>\n",
       "    <tr>\n",
       "      <th>0</th>\n",
       "      <td>Gitarre</td>\n",
       "      <td>32</td>\n",
       "      <td>800</td>\n",
       "    </tr>\n",
       "    <tr>\n",
       "      <th>1</th>\n",
       "      <td>Harfe</td>\n",
       "      <td>1</td>\n",
       "      <td>2500</td>\n",
       "    </tr>\n",
       "    <tr>\n",
       "      <th>2</th>\n",
       "      <td>Klavier</td>\n",
       "      <td>12</td>\n",
       "      <td>1200</td>\n",
       "    </tr>\n",
       "    <tr>\n",
       "      <th>3</th>\n",
       "      <td>Schlagzeug</td>\n",
       "      <td>32</td>\n",
       "      <td>450</td>\n",
       "    </tr>\n",
       "    <tr>\n",
       "      <th>4</th>\n",
       "      <td>Triangel</td>\n",
       "      <td>9</td>\n",
       "      <td>25</td>\n",
       "    </tr>\n",
       "  </tbody>\n",
       "</table>\n",
       "</div>"
      ]
     },
     "execution_count": 12,
     "metadata": {},
     "output_type": "execute_result"
    }
   ],
   "execution_count": 12
  },
  {
   "cell_type": "markdown",
   "metadata": {},
   "source": [
    "5. Du hast dich umorientiert und bist jetzt Autohändler. Erstelle einen DataFrame mit fünf Autos. Folgende Informationen sollen für jedes Auto enthalten sein:\n",
    "\n",
    "   1. Marke\n",
    "   2. Modell\n",
    "   3. Farbe\n",
    "   4. PS\n",
    "\n",
    "Die Informationen dazu können frei erfunden sein. Eine Bedingung gibt es aber: Die Informationen müssen als Dictionary verfasst werden und dann dem DataFrame übergeben werden.\n",
    "\n",
    "Lass dir schließlich den DataFrame ausgeben. 8 Pkt\n",
    "\n",
    "    Output:\n",
    "\n",
    "| Marke  | Modell     | Farbe  | PS  |\n",
    "|--------|------------|--------|-----|\n",
    "| BMW    | 2er Coupé  | Schwarz| 116 |\n",
    "| Audi   | A1         | Rot    | 95  |\n",
    "| Ford   | Mustang    | Grün   | 449 |\n",
    "| VW     | Golf 6     | Blau   | 80  |\n",
    "| Mazda  | RX-8       | Silber | 231 |\n"
   ]
  },
  {
   "cell_type": "code",
   "metadata": {
    "ExecuteTime": {
     "end_time": "2024-11-15T13:17:04.877045Z",
     "start_time": "2024-11-15T13:17:04.866517Z"
    }
   },
   "source": [
    "muscle_cars = [\n",
    "    {\n",
    "        \"Marke\": \"Ford\",\n",
    "        \"Modell\": \"Mustang Shelby GT500\",\n",
    "        \"Farbe\": \"Blau mit weißen Streifen\",\n",
    "        \"PS\": 760\n",
    "    },\n",
    "    {\n",
    "        \"Marke\": \"Chevrolet\",\n",
    "        \"Modell\": \"Camaro ZL1\",\n",
    "        \"Farbe\": \"Schwarz\",\n",
    "        \"PS\": 650\n",
    "    },\n",
    "    {\n",
    "        \"Marke\": \"Dodge\",\n",
    "        \"Modell\": \"Challenger SRT Hellcat\",\n",
    "        \"Farbe\": \"Matt-Schwarz\",\n",
    "        \"PS\": 717\n",
    "    },\n",
    "    {\n",
    "        \"Marke\": \"Pontiac\",\n",
    "        \"Modell\": \"GTO Judge\",\n",
    "        \"Farbe\": \"Orange\",\n",
    "        \"PS\": 366\n",
    "    },\n",
    "    {\n",
    "        \"Marke\": \"Plymouth\",\n",
    "        \"Modell\": \"Barracuda HEMI\",\n",
    "        \"Farbe\": \"Gelb\",\n",
    "        \"PS\": 425\n",
    "    }\n",
    "]\n",
    "muscle_cars_df = pd.DataFrame(muscle_cars).set_index('Marke')\n",
    "muscle_cars_df"
   ],
   "outputs": [
    {
     "data": {
      "text/plain": [
       "                           Modell                     Farbe   PS\n",
       "Marke                                                           \n",
       "Ford         Mustang Shelby GT500  Blau mit weißen Streifen  760\n",
       "Chevrolet              Camaro ZL1                   Schwarz  650\n",
       "Dodge      Challenger SRT Hellcat              Matt-Schwarz  717\n",
       "Pontiac                 GTO Judge                    Orange  366\n",
       "Plymouth           Barracuda HEMI                      Gelb  425"
      ],
      "text/html": [
       "<div>\n",
       "<style scoped>\n",
       "    .dataframe tbody tr th:only-of-type {\n",
       "        vertical-align: middle;\n",
       "    }\n",
       "\n",
       "    .dataframe tbody tr th {\n",
       "        vertical-align: top;\n",
       "    }\n",
       "\n",
       "    .dataframe thead th {\n",
       "        text-align: right;\n",
       "    }\n",
       "</style>\n",
       "<table border=\"1\" class=\"dataframe\">\n",
       "  <thead>\n",
       "    <tr style=\"text-align: right;\">\n",
       "      <th></th>\n",
       "      <th>Modell</th>\n",
       "      <th>Farbe</th>\n",
       "      <th>PS</th>\n",
       "    </tr>\n",
       "    <tr>\n",
       "      <th>Marke</th>\n",
       "      <th></th>\n",
       "      <th></th>\n",
       "      <th></th>\n",
       "    </tr>\n",
       "  </thead>\n",
       "  <tbody>\n",
       "    <tr>\n",
       "      <th>Ford</th>\n",
       "      <td>Mustang Shelby GT500</td>\n",
       "      <td>Blau mit weißen Streifen</td>\n",
       "      <td>760</td>\n",
       "    </tr>\n",
       "    <tr>\n",
       "      <th>Chevrolet</th>\n",
       "      <td>Camaro ZL1</td>\n",
       "      <td>Schwarz</td>\n",
       "      <td>650</td>\n",
       "    </tr>\n",
       "    <tr>\n",
       "      <th>Dodge</th>\n",
       "      <td>Challenger SRT Hellcat</td>\n",
       "      <td>Matt-Schwarz</td>\n",
       "      <td>717</td>\n",
       "    </tr>\n",
       "    <tr>\n",
       "      <th>Pontiac</th>\n",
       "      <td>GTO Judge</td>\n",
       "      <td>Orange</td>\n",
       "      <td>366</td>\n",
       "    </tr>\n",
       "    <tr>\n",
       "      <th>Plymouth</th>\n",
       "      <td>Barracuda HEMI</td>\n",
       "      <td>Gelb</td>\n",
       "      <td>425</td>\n",
       "    </tr>\n",
       "  </tbody>\n",
       "</table>\n",
       "</div>"
      ]
     },
     "execution_count": 16,
     "metadata": {},
     "output_type": "execute_result"
    }
   ],
   "execution_count": 16
  },
  {
   "cell_type": "markdown",
   "metadata": {},
   "source": [
    "6. Lass dir nur die beiden Spalten Modell und Marke des Autodataframes ausgeben. 4 Pkt"
   ]
  },
  {
   "cell_type": "code",
   "metadata": {
    "ExecuteTime": {
     "end_time": "2024-11-15T13:26:44.148543Z",
     "start_time": "2024-11-15T13:26:44.126406Z"
    }
   },
   "source": "muscle_cars_df[[\"Modell\"]]",
   "outputs": [
    {
     "data": {
      "text/plain": [
       "                           Modell\n",
       "Marke                            \n",
       "Ford         Mustang Shelby GT500\n",
       "Chevrolet              Camaro ZL1\n",
       "Dodge      Challenger SRT Hellcat\n",
       "Pontiac                 GTO Judge\n",
       "Plymouth           Barracuda HEMI"
      ],
      "text/html": [
       "<div>\n",
       "<style scoped>\n",
       "    .dataframe tbody tr th:only-of-type {\n",
       "        vertical-align: middle;\n",
       "    }\n",
       "\n",
       "    .dataframe tbody tr th {\n",
       "        vertical-align: top;\n",
       "    }\n",
       "\n",
       "    .dataframe thead th {\n",
       "        text-align: right;\n",
       "    }\n",
       "</style>\n",
       "<table border=\"1\" class=\"dataframe\">\n",
       "  <thead>\n",
       "    <tr style=\"text-align: right;\">\n",
       "      <th></th>\n",
       "      <th>Modell</th>\n",
       "    </tr>\n",
       "    <tr>\n",
       "      <th>Marke</th>\n",
       "      <th></th>\n",
       "    </tr>\n",
       "  </thead>\n",
       "  <tbody>\n",
       "    <tr>\n",
       "      <th>Ford</th>\n",
       "      <td>Mustang Shelby GT500</td>\n",
       "    </tr>\n",
       "    <tr>\n",
       "      <th>Chevrolet</th>\n",
       "      <td>Camaro ZL1</td>\n",
       "    </tr>\n",
       "    <tr>\n",
       "      <th>Dodge</th>\n",
       "      <td>Challenger SRT Hellcat</td>\n",
       "    </tr>\n",
       "    <tr>\n",
       "      <th>Pontiac</th>\n",
       "      <td>GTO Judge</td>\n",
       "    </tr>\n",
       "    <tr>\n",
       "      <th>Plymouth</th>\n",
       "      <td>Barracuda HEMI</td>\n",
       "    </tr>\n",
       "  </tbody>\n",
       "</table>\n",
       "</div>"
      ]
     },
     "execution_count": 24,
     "metadata": {},
     "output_type": "execute_result"
    }
   ],
   "execution_count": 24
  },
  {
   "cell_type": "markdown",
   "metadata": {},
   "source": [
    "7. Lass dir nur die Autos ausgeben, die eine PS Zahl von mehr als 200 haben. 6 Pkt"
   ]
  },
  {
   "cell_type": "code",
   "metadata": {
    "ExecuteTime": {
     "end_time": "2024-11-15T13:30:02.803240Z",
     "start_time": "2024-11-15T13:30:02.792482Z"
    }
   },
   "source": [
    "# Ich mach mal lieber > 500 PS 🤣\n",
    "muscle_cars_df[muscle_cars_df['PS'] > 500]"
   ],
   "outputs": [
    {
     "data": {
      "text/plain": [
       "                           Modell                     Farbe   PS\n",
       "Marke                                                           \n",
       "Ford         Mustang Shelby GT500  Blau mit weißen Streifen  760\n",
       "Chevrolet              Camaro ZL1                   Schwarz  650\n",
       "Dodge      Challenger SRT Hellcat              Matt-Schwarz  717"
      ],
      "text/html": [
       "<div>\n",
       "<style scoped>\n",
       "    .dataframe tbody tr th:only-of-type {\n",
       "        vertical-align: middle;\n",
       "    }\n",
       "\n",
       "    .dataframe tbody tr th {\n",
       "        vertical-align: top;\n",
       "    }\n",
       "\n",
       "    .dataframe thead th {\n",
       "        text-align: right;\n",
       "    }\n",
       "</style>\n",
       "<table border=\"1\" class=\"dataframe\">\n",
       "  <thead>\n",
       "    <tr style=\"text-align: right;\">\n",
       "      <th></th>\n",
       "      <th>Modell</th>\n",
       "      <th>Farbe</th>\n",
       "      <th>PS</th>\n",
       "    </tr>\n",
       "    <tr>\n",
       "      <th>Marke</th>\n",
       "      <th></th>\n",
       "      <th></th>\n",
       "      <th></th>\n",
       "    </tr>\n",
       "  </thead>\n",
       "  <tbody>\n",
       "    <tr>\n",
       "      <th>Ford</th>\n",
       "      <td>Mustang Shelby GT500</td>\n",
       "      <td>Blau mit weißen Streifen</td>\n",
       "      <td>760</td>\n",
       "    </tr>\n",
       "    <tr>\n",
       "      <th>Chevrolet</th>\n",
       "      <td>Camaro ZL1</td>\n",
       "      <td>Schwarz</td>\n",
       "      <td>650</td>\n",
       "    </tr>\n",
       "    <tr>\n",
       "      <th>Dodge</th>\n",
       "      <td>Challenger SRT Hellcat</td>\n",
       "      <td>Matt-Schwarz</td>\n",
       "      <td>717</td>\n",
       "    </tr>\n",
       "  </tbody>\n",
       "</table>\n",
       "</div>"
      ]
     },
     "execution_count": 28,
     "metadata": {},
     "output_type": "execute_result"
    }
   ],
   "execution_count": 28
  },
  {
   "cell_type": "markdown",
   "metadata": {},
   "source": [
    "8. Sortiere die Autos nun absteigend nach Pferdestärken. Überschreibe den DataFrame durch die neue Sortierung. 6 Pkt\n",
    "\n",
    "    Output:\n",
    "\n",
    "| Marke  | Modell     | Farbe  | PS  |\n",
    "|--------|------------|--------|-----|\n",
    "| Ford   | Mustang    | Grün   | 449 |\n",
    "| Mazda  | RX-8       | Silber | 231 |\n",
    "| BMW    | 2er Coupé  | Schwarz| 116 |\n",
    "| Audi   | A1         | Rot    | 95  |\n",
    "| VW     | Golf 6     | Blau   | 80  |\n"
   ]
  },
  {
   "cell_type": "code",
   "metadata": {
    "ExecuteTime": {
     "end_time": "2024-11-15T13:32:16.005748Z",
     "start_time": "2024-11-15T13:32:15.994930Z"
    }
   },
   "source": "muscle_cars_df.sort_values(by='PS', ascending=False)",
   "outputs": [
    {
     "data": {
      "text/plain": [
       "                           Modell                     Farbe   PS\n",
       "Marke                                                           \n",
       "Ford         Mustang Shelby GT500  Blau mit weißen Streifen  760\n",
       "Dodge      Challenger SRT Hellcat              Matt-Schwarz  717\n",
       "Chevrolet              Camaro ZL1                   Schwarz  650\n",
       "Plymouth           Barracuda HEMI                      Gelb  425\n",
       "Pontiac                 GTO Judge                    Orange  366"
      ],
      "text/html": [
       "<div>\n",
       "<style scoped>\n",
       "    .dataframe tbody tr th:only-of-type {\n",
       "        vertical-align: middle;\n",
       "    }\n",
       "\n",
       "    .dataframe tbody tr th {\n",
       "        vertical-align: top;\n",
       "    }\n",
       "\n",
       "    .dataframe thead th {\n",
       "        text-align: right;\n",
       "    }\n",
       "</style>\n",
       "<table border=\"1\" class=\"dataframe\">\n",
       "  <thead>\n",
       "    <tr style=\"text-align: right;\">\n",
       "      <th></th>\n",
       "      <th>Modell</th>\n",
       "      <th>Farbe</th>\n",
       "      <th>PS</th>\n",
       "    </tr>\n",
       "    <tr>\n",
       "      <th>Marke</th>\n",
       "      <th></th>\n",
       "      <th></th>\n",
       "      <th></th>\n",
       "    </tr>\n",
       "  </thead>\n",
       "  <tbody>\n",
       "    <tr>\n",
       "      <th>Ford</th>\n",
       "      <td>Mustang Shelby GT500</td>\n",
       "      <td>Blau mit weißen Streifen</td>\n",
       "      <td>760</td>\n",
       "    </tr>\n",
       "    <tr>\n",
       "      <th>Dodge</th>\n",
       "      <td>Challenger SRT Hellcat</td>\n",
       "      <td>Matt-Schwarz</td>\n",
       "      <td>717</td>\n",
       "    </tr>\n",
       "    <tr>\n",
       "      <th>Chevrolet</th>\n",
       "      <td>Camaro ZL1</td>\n",
       "      <td>Schwarz</td>\n",
       "      <td>650</td>\n",
       "    </tr>\n",
       "    <tr>\n",
       "      <th>Plymouth</th>\n",
       "      <td>Barracuda HEMI</td>\n",
       "      <td>Gelb</td>\n",
       "      <td>425</td>\n",
       "    </tr>\n",
       "    <tr>\n",
       "      <th>Pontiac</th>\n",
       "      <td>GTO Judge</td>\n",
       "      <td>Orange</td>\n",
       "      <td>366</td>\n",
       "    </tr>\n",
       "  </tbody>\n",
       "</table>\n",
       "</div>"
      ]
     },
     "execution_count": 29,
     "metadata": {},
     "output_type": "execute_result"
    }
   ],
   "execution_count": 29
  },
  {
   "cell_type": "markdown",
   "metadata": {},
   "source": [
    "9. Der nachfolgende Code importiert dir den Datensatz 'iris' (wenn oben in den Imports seaborn als sns importiert wurde).\n",
    "\n",
    "Lass dir die oberen 7 Einträge anzeigen.\n",
    "\n",
    "4 Pkt"
   ]
  },
  {
   "cell_type": "code",
   "metadata": {
    "ExecuteTime": {
     "end_time": "2024-11-15T13:32:31.461854Z",
     "start_time": "2024-11-15T13:32:31.455595Z"
    }
   },
   "source": [
    "iris = sns.load_dataset(\"iris\")"
   ],
   "outputs": [],
   "execution_count": 30
  },
  {
   "cell_type": "code",
   "metadata": {
    "ExecuteTime": {
     "end_time": "2024-11-15T13:50:42.850002Z",
     "start_time": "2024-11-15T13:50:42.835544Z"
    }
   },
   "source": "iris.head(7)",
   "outputs": [
    {
     "data": {
      "text/plain": [
       "   sepal_length  sepal_width  petal_length  petal_width species\n",
       "0           5.1          3.5           1.4          0.2  setosa\n",
       "1           4.9          3.0           1.4          0.2  setosa\n",
       "2           4.7          3.2           1.3          0.2  setosa\n",
       "3           4.6          3.1           1.5          0.2  setosa\n",
       "4           5.0          3.6           1.4          0.2  setosa\n",
       "5           5.4          3.9           1.7          0.4  setosa\n",
       "6           4.6          3.4           1.4          0.3  setosa"
      ],
      "text/html": [
       "<div>\n",
       "<style scoped>\n",
       "    .dataframe tbody tr th:only-of-type {\n",
       "        vertical-align: middle;\n",
       "    }\n",
       "\n",
       "    .dataframe tbody tr th {\n",
       "        vertical-align: top;\n",
       "    }\n",
       "\n",
       "    .dataframe thead th {\n",
       "        text-align: right;\n",
       "    }\n",
       "</style>\n",
       "<table border=\"1\" class=\"dataframe\">\n",
       "  <thead>\n",
       "    <tr style=\"text-align: right;\">\n",
       "      <th></th>\n",
       "      <th>sepal_length</th>\n",
       "      <th>sepal_width</th>\n",
       "      <th>petal_length</th>\n",
       "      <th>petal_width</th>\n",
       "      <th>species</th>\n",
       "    </tr>\n",
       "  </thead>\n",
       "  <tbody>\n",
       "    <tr>\n",
       "      <th>0</th>\n",
       "      <td>5.1</td>\n",
       "      <td>3.5</td>\n",
       "      <td>1.4</td>\n",
       "      <td>0.2</td>\n",
       "      <td>setosa</td>\n",
       "    </tr>\n",
       "    <tr>\n",
       "      <th>1</th>\n",
       "      <td>4.9</td>\n",
       "      <td>3.0</td>\n",
       "      <td>1.4</td>\n",
       "      <td>0.2</td>\n",
       "      <td>setosa</td>\n",
       "    </tr>\n",
       "    <tr>\n",
       "      <th>2</th>\n",
       "      <td>4.7</td>\n",
       "      <td>3.2</td>\n",
       "      <td>1.3</td>\n",
       "      <td>0.2</td>\n",
       "      <td>setosa</td>\n",
       "    </tr>\n",
       "    <tr>\n",
       "      <th>3</th>\n",
       "      <td>4.6</td>\n",
       "      <td>3.1</td>\n",
       "      <td>1.5</td>\n",
       "      <td>0.2</td>\n",
       "      <td>setosa</td>\n",
       "    </tr>\n",
       "    <tr>\n",
       "      <th>4</th>\n",
       "      <td>5.0</td>\n",
       "      <td>3.6</td>\n",
       "      <td>1.4</td>\n",
       "      <td>0.2</td>\n",
       "      <td>setosa</td>\n",
       "    </tr>\n",
       "    <tr>\n",
       "      <th>5</th>\n",
       "      <td>5.4</td>\n",
       "      <td>3.9</td>\n",
       "      <td>1.7</td>\n",
       "      <td>0.4</td>\n",
       "      <td>setosa</td>\n",
       "    </tr>\n",
       "    <tr>\n",
       "      <th>6</th>\n",
       "      <td>4.6</td>\n",
       "      <td>3.4</td>\n",
       "      <td>1.4</td>\n",
       "      <td>0.3</td>\n",
       "      <td>setosa</td>\n",
       "    </tr>\n",
       "  </tbody>\n",
       "</table>\n",
       "</div>"
      ]
     },
     "execution_count": 43,
     "metadata": {},
     "output_type": "execute_result"
    }
   ],
   "execution_count": 43
  },
  {
   "cell_type": "markdown",
   "metadata": {},
   "source": [
    "10. Lass dir eine statistische Zusammenfassung der numerischen Spalten geben.\n",
    "\n",
    "2 Pkt"
   ]
  },
  {
   "cell_type": "code",
   "metadata": {
    "ExecuteTime": {
     "end_time": "2024-11-15T13:33:06.232673Z",
     "start_time": "2024-11-15T13:33:06.213226Z"
    }
   },
   "source": "iris.describe()",
   "outputs": [
    {
     "data": {
      "text/plain": [
       "       sepal_length  sepal_width  petal_length  petal_width\n",
       "count    150.000000   150.000000    150.000000   150.000000\n",
       "mean       5.843333     3.057333      3.758000     1.199333\n",
       "std        0.828066     0.435866      1.765298     0.762238\n",
       "min        4.300000     2.000000      1.000000     0.100000\n",
       "25%        5.100000     2.800000      1.600000     0.300000\n",
       "50%        5.800000     3.000000      4.350000     1.300000\n",
       "75%        6.400000     3.300000      5.100000     1.800000\n",
       "max        7.900000     4.400000      6.900000     2.500000"
      ],
      "text/html": [
       "<div>\n",
       "<style scoped>\n",
       "    .dataframe tbody tr th:only-of-type {\n",
       "        vertical-align: middle;\n",
       "    }\n",
       "\n",
       "    .dataframe tbody tr th {\n",
       "        vertical-align: top;\n",
       "    }\n",
       "\n",
       "    .dataframe thead th {\n",
       "        text-align: right;\n",
       "    }\n",
       "</style>\n",
       "<table border=\"1\" class=\"dataframe\">\n",
       "  <thead>\n",
       "    <tr style=\"text-align: right;\">\n",
       "      <th></th>\n",
       "      <th>sepal_length</th>\n",
       "      <th>sepal_width</th>\n",
       "      <th>petal_length</th>\n",
       "      <th>petal_width</th>\n",
       "    </tr>\n",
       "  </thead>\n",
       "  <tbody>\n",
       "    <tr>\n",
       "      <th>count</th>\n",
       "      <td>150.000000</td>\n",
       "      <td>150.000000</td>\n",
       "      <td>150.000000</td>\n",
       "      <td>150.000000</td>\n",
       "    </tr>\n",
       "    <tr>\n",
       "      <th>mean</th>\n",
       "      <td>5.843333</td>\n",
       "      <td>3.057333</td>\n",
       "      <td>3.758000</td>\n",
       "      <td>1.199333</td>\n",
       "    </tr>\n",
       "    <tr>\n",
       "      <th>std</th>\n",
       "      <td>0.828066</td>\n",
       "      <td>0.435866</td>\n",
       "      <td>1.765298</td>\n",
       "      <td>0.762238</td>\n",
       "    </tr>\n",
       "    <tr>\n",
       "      <th>min</th>\n",
       "      <td>4.300000</td>\n",
       "      <td>2.000000</td>\n",
       "      <td>1.000000</td>\n",
       "      <td>0.100000</td>\n",
       "    </tr>\n",
       "    <tr>\n",
       "      <th>25%</th>\n",
       "      <td>5.100000</td>\n",
       "      <td>2.800000</td>\n",
       "      <td>1.600000</td>\n",
       "      <td>0.300000</td>\n",
       "    </tr>\n",
       "    <tr>\n",
       "      <th>50%</th>\n",
       "      <td>5.800000</td>\n",
       "      <td>3.000000</td>\n",
       "      <td>4.350000</td>\n",
       "      <td>1.300000</td>\n",
       "    </tr>\n",
       "    <tr>\n",
       "      <th>75%</th>\n",
       "      <td>6.400000</td>\n",
       "      <td>3.300000</td>\n",
       "      <td>5.100000</td>\n",
       "      <td>1.800000</td>\n",
       "    </tr>\n",
       "    <tr>\n",
       "      <th>max</th>\n",
       "      <td>7.900000</td>\n",
       "      <td>4.400000</td>\n",
       "      <td>6.900000</td>\n",
       "      <td>2.500000</td>\n",
       "    </tr>\n",
       "  </tbody>\n",
       "</table>\n",
       "</div>"
      ]
     },
     "execution_count": 32,
     "metadata": {},
     "output_type": "execute_result"
    }
   ],
   "execution_count": 32
  },
  {
   "cell_type": "markdown",
   "metadata": {},
   "source": [
    "11. Welche Schwertlilien-Arten (mit Namen) gibt es im Datensatz?\n",
    "\n",
    "4 Pkt"
   ]
  },
  {
   "cell_type": "code",
   "metadata": {
    "ExecuteTime": {
     "end_time": "2024-11-15T13:37:39.099597Z",
     "start_time": "2024-11-15T13:37:39.094115Z"
    }
   },
   "source": "iris['species'].unique()",
   "outputs": [
    {
     "data": {
      "text/plain": [
       "array(['setosa', 'versicolor', 'virginica'], dtype=object)"
      ]
     },
     "execution_count": 37,
     "metadata": {},
     "output_type": "execute_result"
    }
   ],
   "execution_count": 37
  },
  {
   "cell_type": "markdown",
   "metadata": {},
   "source": [
    "12. Wie oft kommen die verschiedenen Vertreter vor? (absolute Zahlen)\n",
    "\n",
    "4 Pkt"
   ]
  },
  {
   "cell_type": "code",
   "metadata": {
    "ExecuteTime": {
     "end_time": "2024-11-15T13:37:55.303190Z",
     "start_time": "2024-11-15T13:37:55.296629Z"
    }
   },
   "source": "iris['species'].value_counts()",
   "outputs": [
    {
     "data": {
      "text/plain": [
       "species\n",
       "setosa        50\n",
       "versicolor    50\n",
       "virginica     50\n",
       "Name: count, dtype: int64"
      ]
     },
     "execution_count": 38,
     "metadata": {},
     "output_type": "execute_result"
    }
   ],
   "execution_count": 38
  },
  {
   "cell_type": "markdown",
   "metadata": {},
   "source": [
    "13. Dich interessieren nur Daten der Art setosa, die eine Kelchblattlänge (Kelchblatt = sepal) ab 5.5 cm aufwärts haben. Lasse dir den entsprechenden Ausschnitt der Daten ausgeben.\n",
    "\n",
    "6 Pkt"
   ]
  },
  {
   "cell_type": "code",
   "metadata": {
    "ExecuteTime": {
     "end_time": "2024-11-15T13:51:50.213401Z",
     "start_time": "2024-11-15T13:51:50.203853Z"
    }
   },
   "source": "iris[(iris['species'] == 'setosa') & (iris['sepal_length'] > 5.5)]",
   "outputs": [
    {
     "data": {
      "text/plain": [
       "    sepal_length  sepal_width  petal_length  petal_width species\n",
       "14           5.8          4.0           1.2          0.2  setosa\n",
       "15           5.7          4.4           1.5          0.4  setosa\n",
       "18           5.7          3.8           1.7          0.3  setosa"
      ],
      "text/html": [
       "<div>\n",
       "<style scoped>\n",
       "    .dataframe tbody tr th:only-of-type {\n",
       "        vertical-align: middle;\n",
       "    }\n",
       "\n",
       "    .dataframe tbody tr th {\n",
       "        vertical-align: top;\n",
       "    }\n",
       "\n",
       "    .dataframe thead th {\n",
       "        text-align: right;\n",
       "    }\n",
       "</style>\n",
       "<table border=\"1\" class=\"dataframe\">\n",
       "  <thead>\n",
       "    <tr style=\"text-align: right;\">\n",
       "      <th></th>\n",
       "      <th>sepal_length</th>\n",
       "      <th>sepal_width</th>\n",
       "      <th>petal_length</th>\n",
       "      <th>petal_width</th>\n",
       "      <th>species</th>\n",
       "    </tr>\n",
       "  </thead>\n",
       "  <tbody>\n",
       "    <tr>\n",
       "      <th>14</th>\n",
       "      <td>5.8</td>\n",
       "      <td>4.0</td>\n",
       "      <td>1.2</td>\n",
       "      <td>0.2</td>\n",
       "      <td>setosa</td>\n",
       "    </tr>\n",
       "    <tr>\n",
       "      <th>15</th>\n",
       "      <td>5.7</td>\n",
       "      <td>4.4</td>\n",
       "      <td>1.5</td>\n",
       "      <td>0.4</td>\n",
       "      <td>setosa</td>\n",
       "    </tr>\n",
       "    <tr>\n",
       "      <th>18</th>\n",
       "      <td>5.7</td>\n",
       "      <td>3.8</td>\n",
       "      <td>1.7</td>\n",
       "      <td>0.3</td>\n",
       "      <td>setosa</td>\n",
       "    </tr>\n",
       "  </tbody>\n",
       "</table>\n",
       "</div>"
      ]
     },
     "execution_count": 45,
     "metadata": {},
     "output_type": "execute_result"
    }
   ],
   "execution_count": 45
  },
  {
   "cell_type": "markdown",
   "metadata": {},
   "source": [
    "14. Dich interessieren alle Pflanzen, deren Blütenblattbreite sich zwischen 1.2 und 1.3 cm bewegt.\n",
    "\n",
    "4 Pkt"
   ]
  },
  {
   "cell_type": "code",
   "metadata": {
    "ExecuteTime": {
     "end_time": "2024-11-15T13:54:31.860874Z",
     "start_time": "2024-11-15T13:54:31.849230Z"
    }
   },
   "source": "iris[iris['petal_width'].between(1.2 ,1.3)]",
   "outputs": [
    {
     "data": {
      "text/plain": [
       "    sepal_length  sepal_width  petal_length  petal_width     species\n",
       "53           5.5          2.3           4.0          1.3  versicolor\n",
       "55           5.7          2.8           4.5          1.3  versicolor\n",
       "58           6.6          2.9           4.6          1.3  versicolor\n",
       "64           5.6          2.9           3.6          1.3  versicolor\n",
       "71           6.1          2.8           4.0          1.3  versicolor\n",
       "73           6.1          2.8           4.7          1.2  versicolor\n",
       "74           6.4          2.9           4.3          1.3  versicolor\n",
       "82           5.8          2.7           3.9          1.2  versicolor\n",
       "87           6.3          2.3           4.4          1.3  versicolor\n",
       "88           5.6          3.0           4.1          1.3  versicolor\n",
       "89           5.5          2.5           4.0          1.3  versicolor\n",
       "90           5.5          2.6           4.4          1.2  versicolor\n",
       "92           5.8          2.6           4.0          1.2  versicolor\n",
       "94           5.6          2.7           4.2          1.3  versicolor\n",
       "95           5.7          3.0           4.2          1.2  versicolor\n",
       "96           5.7          2.9           4.2          1.3  versicolor\n",
       "97           6.2          2.9           4.3          1.3  versicolor\n",
       "99           5.7          2.8           4.1          1.3  versicolor"
      ],
      "text/html": [
       "<div>\n",
       "<style scoped>\n",
       "    .dataframe tbody tr th:only-of-type {\n",
       "        vertical-align: middle;\n",
       "    }\n",
       "\n",
       "    .dataframe tbody tr th {\n",
       "        vertical-align: top;\n",
       "    }\n",
       "\n",
       "    .dataframe thead th {\n",
       "        text-align: right;\n",
       "    }\n",
       "</style>\n",
       "<table border=\"1\" class=\"dataframe\">\n",
       "  <thead>\n",
       "    <tr style=\"text-align: right;\">\n",
       "      <th></th>\n",
       "      <th>sepal_length</th>\n",
       "      <th>sepal_width</th>\n",
       "      <th>petal_length</th>\n",
       "      <th>petal_width</th>\n",
       "      <th>species</th>\n",
       "    </tr>\n",
       "  </thead>\n",
       "  <tbody>\n",
       "    <tr>\n",
       "      <th>53</th>\n",
       "      <td>5.5</td>\n",
       "      <td>2.3</td>\n",
       "      <td>4.0</td>\n",
       "      <td>1.3</td>\n",
       "      <td>versicolor</td>\n",
       "    </tr>\n",
       "    <tr>\n",
       "      <th>55</th>\n",
       "      <td>5.7</td>\n",
       "      <td>2.8</td>\n",
       "      <td>4.5</td>\n",
       "      <td>1.3</td>\n",
       "      <td>versicolor</td>\n",
       "    </tr>\n",
       "    <tr>\n",
       "      <th>58</th>\n",
       "      <td>6.6</td>\n",
       "      <td>2.9</td>\n",
       "      <td>4.6</td>\n",
       "      <td>1.3</td>\n",
       "      <td>versicolor</td>\n",
       "    </tr>\n",
       "    <tr>\n",
       "      <th>64</th>\n",
       "      <td>5.6</td>\n",
       "      <td>2.9</td>\n",
       "      <td>3.6</td>\n",
       "      <td>1.3</td>\n",
       "      <td>versicolor</td>\n",
       "    </tr>\n",
       "    <tr>\n",
       "      <th>71</th>\n",
       "      <td>6.1</td>\n",
       "      <td>2.8</td>\n",
       "      <td>4.0</td>\n",
       "      <td>1.3</td>\n",
       "      <td>versicolor</td>\n",
       "    </tr>\n",
       "    <tr>\n",
       "      <th>73</th>\n",
       "      <td>6.1</td>\n",
       "      <td>2.8</td>\n",
       "      <td>4.7</td>\n",
       "      <td>1.2</td>\n",
       "      <td>versicolor</td>\n",
       "    </tr>\n",
       "    <tr>\n",
       "      <th>74</th>\n",
       "      <td>6.4</td>\n",
       "      <td>2.9</td>\n",
       "      <td>4.3</td>\n",
       "      <td>1.3</td>\n",
       "      <td>versicolor</td>\n",
       "    </tr>\n",
       "    <tr>\n",
       "      <th>82</th>\n",
       "      <td>5.8</td>\n",
       "      <td>2.7</td>\n",
       "      <td>3.9</td>\n",
       "      <td>1.2</td>\n",
       "      <td>versicolor</td>\n",
       "    </tr>\n",
       "    <tr>\n",
       "      <th>87</th>\n",
       "      <td>6.3</td>\n",
       "      <td>2.3</td>\n",
       "      <td>4.4</td>\n",
       "      <td>1.3</td>\n",
       "      <td>versicolor</td>\n",
       "    </tr>\n",
       "    <tr>\n",
       "      <th>88</th>\n",
       "      <td>5.6</td>\n",
       "      <td>3.0</td>\n",
       "      <td>4.1</td>\n",
       "      <td>1.3</td>\n",
       "      <td>versicolor</td>\n",
       "    </tr>\n",
       "    <tr>\n",
       "      <th>89</th>\n",
       "      <td>5.5</td>\n",
       "      <td>2.5</td>\n",
       "      <td>4.0</td>\n",
       "      <td>1.3</td>\n",
       "      <td>versicolor</td>\n",
       "    </tr>\n",
       "    <tr>\n",
       "      <th>90</th>\n",
       "      <td>5.5</td>\n",
       "      <td>2.6</td>\n",
       "      <td>4.4</td>\n",
       "      <td>1.2</td>\n",
       "      <td>versicolor</td>\n",
       "    </tr>\n",
       "    <tr>\n",
       "      <th>92</th>\n",
       "      <td>5.8</td>\n",
       "      <td>2.6</td>\n",
       "      <td>4.0</td>\n",
       "      <td>1.2</td>\n",
       "      <td>versicolor</td>\n",
       "    </tr>\n",
       "    <tr>\n",
       "      <th>94</th>\n",
       "      <td>5.6</td>\n",
       "      <td>2.7</td>\n",
       "      <td>4.2</td>\n",
       "      <td>1.3</td>\n",
       "      <td>versicolor</td>\n",
       "    </tr>\n",
       "    <tr>\n",
       "      <th>95</th>\n",
       "      <td>5.7</td>\n",
       "      <td>3.0</td>\n",
       "      <td>4.2</td>\n",
       "      <td>1.2</td>\n",
       "      <td>versicolor</td>\n",
       "    </tr>\n",
       "    <tr>\n",
       "      <th>96</th>\n",
       "      <td>5.7</td>\n",
       "      <td>2.9</td>\n",
       "      <td>4.2</td>\n",
       "      <td>1.3</td>\n",
       "      <td>versicolor</td>\n",
       "    </tr>\n",
       "    <tr>\n",
       "      <th>97</th>\n",
       "      <td>6.2</td>\n",
       "      <td>2.9</td>\n",
       "      <td>4.3</td>\n",
       "      <td>1.3</td>\n",
       "      <td>versicolor</td>\n",
       "    </tr>\n",
       "    <tr>\n",
       "      <th>99</th>\n",
       "      <td>5.7</td>\n",
       "      <td>2.8</td>\n",
       "      <td>4.1</td>\n",
       "      <td>1.3</td>\n",
       "      <td>versicolor</td>\n",
       "    </tr>\n",
       "  </tbody>\n",
       "</table>\n",
       "</div>"
      ]
     },
     "execution_count": 48,
     "metadata": {},
     "output_type": "execute_result"
    }
   ],
   "execution_count": 48
  },
  {
   "cell_type": "markdown",
   "metadata": {},
   "source": [
    "15. Wähle folgenden Ausschnitt der Daten aus:\n",
    "\n",
    "Spalten: 'species', 'sepal_length', 'sepal_width'\n",
    "\n",
    "Zeilen: 100-120 (Ende inklusive)\n",
    "\n",
    "6 Pkt"
   ]
  },
  {
   "cell_type": "code",
   "metadata": {
    "ExecuteTime": {
     "end_time": "2024-11-15T14:04:59.612499Z",
     "start_time": "2024-11-15T14:04:59.602969Z"
    }
   },
   "source": "iris.loc[100:120, ['species', 'sepal_length', 'sepal_width']]",
   "outputs": [
    {
     "data": {
      "text/plain": [
       "       species  sepal_length  sepal_width\n",
       "100  virginica           6.3          3.3\n",
       "101  virginica           5.8          2.7\n",
       "102  virginica           7.1          3.0\n",
       "103  virginica           6.3          2.9\n",
       "104  virginica           6.5          3.0\n",
       "105  virginica           7.6          3.0\n",
       "106  virginica           4.9          2.5\n",
       "107  virginica           7.3          2.9\n",
       "108  virginica           6.7          2.5\n",
       "109  virginica           7.2          3.6\n",
       "110  virginica           6.5          3.2\n",
       "111  virginica           6.4          2.7\n",
       "112  virginica           6.8          3.0\n",
       "113  virginica           5.7          2.5\n",
       "114  virginica           5.8          2.8\n",
       "115  virginica           6.4          3.2\n",
       "116  virginica           6.5          3.0\n",
       "117  virginica           7.7          3.8\n",
       "118  virginica           7.7          2.6\n",
       "119  virginica           6.0          2.2\n",
       "120  virginica           6.9          3.2"
      ],
      "text/html": [
       "<div>\n",
       "<style scoped>\n",
       "    .dataframe tbody tr th:only-of-type {\n",
       "        vertical-align: middle;\n",
       "    }\n",
       "\n",
       "    .dataframe tbody tr th {\n",
       "        vertical-align: top;\n",
       "    }\n",
       "\n",
       "    .dataframe thead th {\n",
       "        text-align: right;\n",
       "    }\n",
       "</style>\n",
       "<table border=\"1\" class=\"dataframe\">\n",
       "  <thead>\n",
       "    <tr style=\"text-align: right;\">\n",
       "      <th></th>\n",
       "      <th>species</th>\n",
       "      <th>sepal_length</th>\n",
       "      <th>sepal_width</th>\n",
       "    </tr>\n",
       "  </thead>\n",
       "  <tbody>\n",
       "    <tr>\n",
       "      <th>100</th>\n",
       "      <td>virginica</td>\n",
       "      <td>6.3</td>\n",
       "      <td>3.3</td>\n",
       "    </tr>\n",
       "    <tr>\n",
       "      <th>101</th>\n",
       "      <td>virginica</td>\n",
       "      <td>5.8</td>\n",
       "      <td>2.7</td>\n",
       "    </tr>\n",
       "    <tr>\n",
       "      <th>102</th>\n",
       "      <td>virginica</td>\n",
       "      <td>7.1</td>\n",
       "      <td>3.0</td>\n",
       "    </tr>\n",
       "    <tr>\n",
       "      <th>103</th>\n",
       "      <td>virginica</td>\n",
       "      <td>6.3</td>\n",
       "      <td>2.9</td>\n",
       "    </tr>\n",
       "    <tr>\n",
       "      <th>104</th>\n",
       "      <td>virginica</td>\n",
       "      <td>6.5</td>\n",
       "      <td>3.0</td>\n",
       "    </tr>\n",
       "    <tr>\n",
       "      <th>105</th>\n",
       "      <td>virginica</td>\n",
       "      <td>7.6</td>\n",
       "      <td>3.0</td>\n",
       "    </tr>\n",
       "    <tr>\n",
       "      <th>106</th>\n",
       "      <td>virginica</td>\n",
       "      <td>4.9</td>\n",
       "      <td>2.5</td>\n",
       "    </tr>\n",
       "    <tr>\n",
       "      <th>107</th>\n",
       "      <td>virginica</td>\n",
       "      <td>7.3</td>\n",
       "      <td>2.9</td>\n",
       "    </tr>\n",
       "    <tr>\n",
       "      <th>108</th>\n",
       "      <td>virginica</td>\n",
       "      <td>6.7</td>\n",
       "      <td>2.5</td>\n",
       "    </tr>\n",
       "    <tr>\n",
       "      <th>109</th>\n",
       "      <td>virginica</td>\n",
       "      <td>7.2</td>\n",
       "      <td>3.6</td>\n",
       "    </tr>\n",
       "    <tr>\n",
       "      <th>110</th>\n",
       "      <td>virginica</td>\n",
       "      <td>6.5</td>\n",
       "      <td>3.2</td>\n",
       "    </tr>\n",
       "    <tr>\n",
       "      <th>111</th>\n",
       "      <td>virginica</td>\n",
       "      <td>6.4</td>\n",
       "      <td>2.7</td>\n",
       "    </tr>\n",
       "    <tr>\n",
       "      <th>112</th>\n",
       "      <td>virginica</td>\n",
       "      <td>6.8</td>\n",
       "      <td>3.0</td>\n",
       "    </tr>\n",
       "    <tr>\n",
       "      <th>113</th>\n",
       "      <td>virginica</td>\n",
       "      <td>5.7</td>\n",
       "      <td>2.5</td>\n",
       "    </tr>\n",
       "    <tr>\n",
       "      <th>114</th>\n",
       "      <td>virginica</td>\n",
       "      <td>5.8</td>\n",
       "      <td>2.8</td>\n",
       "    </tr>\n",
       "    <tr>\n",
       "      <th>115</th>\n",
       "      <td>virginica</td>\n",
       "      <td>6.4</td>\n",
       "      <td>3.2</td>\n",
       "    </tr>\n",
       "    <tr>\n",
       "      <th>116</th>\n",
       "      <td>virginica</td>\n",
       "      <td>6.5</td>\n",
       "      <td>3.0</td>\n",
       "    </tr>\n",
       "    <tr>\n",
       "      <th>117</th>\n",
       "      <td>virginica</td>\n",
       "      <td>7.7</td>\n",
       "      <td>3.8</td>\n",
       "    </tr>\n",
       "    <tr>\n",
       "      <th>118</th>\n",
       "      <td>virginica</td>\n",
       "      <td>7.7</td>\n",
       "      <td>2.6</td>\n",
       "    </tr>\n",
       "    <tr>\n",
       "      <th>119</th>\n",
       "      <td>virginica</td>\n",
       "      <td>6.0</td>\n",
       "      <td>2.2</td>\n",
       "    </tr>\n",
       "    <tr>\n",
       "      <th>120</th>\n",
       "      <td>virginica</td>\n",
       "      <td>6.9</td>\n",
       "      <td>3.2</td>\n",
       "    </tr>\n",
       "  </tbody>\n",
       "</table>\n",
       "</div>"
      ]
     },
     "execution_count": 49,
     "metadata": {},
     "output_type": "execute_result"
    }
   ],
   "execution_count": 49
  },
  {
   "cell_type": "markdown",
   "metadata": {},
   "source": [
    "16. Time to join forces.\n",
    "\n",
    "Der nachfolgende Code erzeugt dir drei DataFrames.\n",
    "\n",
    "Deine erste Aufgabe: Führe employees über die IDs der Mitarbeiter mit salaries zusammen und speicher das Ergebnis in 'employees_details'.\n",
    "\n",
    "6 Pkt"
   ]
  },
  {
   "cell_type": "code",
   "metadata": {
    "ExecuteTime": {
     "end_time": "2024-11-15T14:38:24.873549Z",
     "start_time": "2024-11-15T14:38:24.868025Z"
    }
   },
   "source": [
    "employees_data = {\n",
    "    'ID': [101, 102, 103, 104, 105],\n",
    "    'Name': ['Alice', 'Bob', 'Charlie', 'David', 'Eve'],\n",
    "    'Department': [1, 2, 3, 2, 1],\n",
    "    'Salary': [50000, 60000, 55000, 70000, 52000]\n",
    "}\n",
    "\n",
    "salaries_data = {\n",
    "    'Year': [2023, 2023, 2023, 2023, 2023],\n",
    "    'Salary_Adjustment': [2000, 2500, 1500, 3000, 2200]\n",
    "}\n",
    "\n",
    "departments_data = {\n",
    "    'Department_ID': [1, 2, 3, 4],\n",
    "    'Department_Name': ['HR', 'IT', 'Marketing', 'Finance'],\n",
    "    'Location': ['New York', 'San Francisco', 'Chicago', 'Los Angeles'],\n",
    "    'Budget': [500000, 1200000, 750000, 950000],\n",
    "    'Manager_ID': [201, 202, 203, 204]\n",
    "}\n",
    "\n",
    "employees = pd.DataFrame(employees_data)\n",
    "salaries = pd.DataFrame(salaries_data,                          \n",
    "                        index=[101, 102, 103, 104, 105])\n",
    "departments = pd.DataFrame(departments_data)"
   ],
   "outputs": [],
   "execution_count": 80
  },
  {
   "cell_type": "code",
   "metadata": {
    "ExecuteTime": {
     "end_time": "2024-11-15T14:38:26.001071Z",
     "start_time": "2024-11-15T14:38:25.991571Z"
    }
   },
   "source": [
    "employees_details = employees.merge(salaries, left_on='ID', right_index=True)\n",
    "employees_details"
   ],
   "outputs": [
    {
     "data": {
      "text/plain": [
       "    ID     Name  Department  Salary  Year  Salary_Adjustment\n",
       "0  101    Alice           1   50000  2023               2000\n",
       "1  102      Bob           2   60000  2023               2500\n",
       "2  103  Charlie           3   55000  2023               1500\n",
       "3  104    David           2   70000  2023               3000\n",
       "4  105      Eve           1   52000  2023               2200"
      ],
      "text/html": [
       "<div>\n",
       "<style scoped>\n",
       "    .dataframe tbody tr th:only-of-type {\n",
       "        vertical-align: middle;\n",
       "    }\n",
       "\n",
       "    .dataframe tbody tr th {\n",
       "        vertical-align: top;\n",
       "    }\n",
       "\n",
       "    .dataframe thead th {\n",
       "        text-align: right;\n",
       "    }\n",
       "</style>\n",
       "<table border=\"1\" class=\"dataframe\">\n",
       "  <thead>\n",
       "    <tr style=\"text-align: right;\">\n",
       "      <th></th>\n",
       "      <th>ID</th>\n",
       "      <th>Name</th>\n",
       "      <th>Department</th>\n",
       "      <th>Salary</th>\n",
       "      <th>Year</th>\n",
       "      <th>Salary_Adjustment</th>\n",
       "    </tr>\n",
       "  </thead>\n",
       "  <tbody>\n",
       "    <tr>\n",
       "      <th>0</th>\n",
       "      <td>101</td>\n",
       "      <td>Alice</td>\n",
       "      <td>1</td>\n",
       "      <td>50000</td>\n",
       "      <td>2023</td>\n",
       "      <td>2000</td>\n",
       "    </tr>\n",
       "    <tr>\n",
       "      <th>1</th>\n",
       "      <td>102</td>\n",
       "      <td>Bob</td>\n",
       "      <td>2</td>\n",
       "      <td>60000</td>\n",
       "      <td>2023</td>\n",
       "      <td>2500</td>\n",
       "    </tr>\n",
       "    <tr>\n",
       "      <th>2</th>\n",
       "      <td>103</td>\n",
       "      <td>Charlie</td>\n",
       "      <td>3</td>\n",
       "      <td>55000</td>\n",
       "      <td>2023</td>\n",
       "      <td>1500</td>\n",
       "    </tr>\n",
       "    <tr>\n",
       "      <th>3</th>\n",
       "      <td>104</td>\n",
       "      <td>David</td>\n",
       "      <td>2</td>\n",
       "      <td>70000</td>\n",
       "      <td>2023</td>\n",
       "      <td>3000</td>\n",
       "    </tr>\n",
       "    <tr>\n",
       "      <th>4</th>\n",
       "      <td>105</td>\n",
       "      <td>Eve</td>\n",
       "      <td>1</td>\n",
       "      <td>52000</td>\n",
       "      <td>2023</td>\n",
       "      <td>2200</td>\n",
       "    </tr>\n",
       "  </tbody>\n",
       "</table>\n",
       "</div>"
      ]
     },
     "execution_count": 81,
     "metadata": {},
     "output_type": "execute_result"
    }
   ],
   "execution_count": 81
  },
  {
   "cell_type": "markdown",
   "metadata": {},
   "source": [
    "17. Jetzt hättest du noch gern zusätzlich die Informationen über die Departments in den Tabellen, zu denen die aufgeführten Mitarbeiter gehören. Führe 'employees_details' und 'departments' so zusammen, dass auch diese Infos vorliegen. Überschreibe employees_details mit dem Ergebnis des Zusammenführens.\n",
    "\n",
    "6 Pkt"
   ]
  },
  {
   "cell_type": "code",
   "metadata": {
    "ExecuteTime": {
     "end_time": "2024-11-15T14:38:27.696991Z",
     "start_time": "2024-11-15T14:38:27.686437Z"
    }
   },
   "source": [
    "employees_details = employees_details.merge(departments, left_on='Department', right_on='Department_ID')\n",
    "employees_details"
   ],
   "outputs": [
    {
     "data": {
      "text/plain": [
       "    ID     Name  Department  Salary  Year  Salary_Adjustment  Department_ID  \\\n",
       "0  101    Alice           1   50000  2023               2000              1   \n",
       "1  102      Bob           2   60000  2023               2500              2   \n",
       "2  103  Charlie           3   55000  2023               1500              3   \n",
       "3  104    David           2   70000  2023               3000              2   \n",
       "4  105      Eve           1   52000  2023               2200              1   \n",
       "\n",
       "  Department_Name       Location   Budget  Manager_ID  \n",
       "0              HR       New York   500000         201  \n",
       "1              IT  San Francisco  1200000         202  \n",
       "2       Marketing        Chicago   750000         203  \n",
       "3              IT  San Francisco  1200000         202  \n",
       "4              HR       New York   500000         201  "
      ],
      "text/html": [
       "<div>\n",
       "<style scoped>\n",
       "    .dataframe tbody tr th:only-of-type {\n",
       "        vertical-align: middle;\n",
       "    }\n",
       "\n",
       "    .dataframe tbody tr th {\n",
       "        vertical-align: top;\n",
       "    }\n",
       "\n",
       "    .dataframe thead th {\n",
       "        text-align: right;\n",
       "    }\n",
       "</style>\n",
       "<table border=\"1\" class=\"dataframe\">\n",
       "  <thead>\n",
       "    <tr style=\"text-align: right;\">\n",
       "      <th></th>\n",
       "      <th>ID</th>\n",
       "      <th>Name</th>\n",
       "      <th>Department</th>\n",
       "      <th>Salary</th>\n",
       "      <th>Year</th>\n",
       "      <th>Salary_Adjustment</th>\n",
       "      <th>Department_ID</th>\n",
       "      <th>Department_Name</th>\n",
       "      <th>Location</th>\n",
       "      <th>Budget</th>\n",
       "      <th>Manager_ID</th>\n",
       "    </tr>\n",
       "  </thead>\n",
       "  <tbody>\n",
       "    <tr>\n",
       "      <th>0</th>\n",
       "      <td>101</td>\n",
       "      <td>Alice</td>\n",
       "      <td>1</td>\n",
       "      <td>50000</td>\n",
       "      <td>2023</td>\n",
       "      <td>2000</td>\n",
       "      <td>1</td>\n",
       "      <td>HR</td>\n",
       "      <td>New York</td>\n",
       "      <td>500000</td>\n",
       "      <td>201</td>\n",
       "    </tr>\n",
       "    <tr>\n",
       "      <th>1</th>\n",
       "      <td>102</td>\n",
       "      <td>Bob</td>\n",
       "      <td>2</td>\n",
       "      <td>60000</td>\n",
       "      <td>2023</td>\n",
       "      <td>2500</td>\n",
       "      <td>2</td>\n",
       "      <td>IT</td>\n",
       "      <td>San Francisco</td>\n",
       "      <td>1200000</td>\n",
       "      <td>202</td>\n",
       "    </tr>\n",
       "    <tr>\n",
       "      <th>2</th>\n",
       "      <td>103</td>\n",
       "      <td>Charlie</td>\n",
       "      <td>3</td>\n",
       "      <td>55000</td>\n",
       "      <td>2023</td>\n",
       "      <td>1500</td>\n",
       "      <td>3</td>\n",
       "      <td>Marketing</td>\n",
       "      <td>Chicago</td>\n",
       "      <td>750000</td>\n",
       "      <td>203</td>\n",
       "    </tr>\n",
       "    <tr>\n",
       "      <th>3</th>\n",
       "      <td>104</td>\n",
       "      <td>David</td>\n",
       "      <td>2</td>\n",
       "      <td>70000</td>\n",
       "      <td>2023</td>\n",
       "      <td>3000</td>\n",
       "      <td>2</td>\n",
       "      <td>IT</td>\n",
       "      <td>San Francisco</td>\n",
       "      <td>1200000</td>\n",
       "      <td>202</td>\n",
       "    </tr>\n",
       "    <tr>\n",
       "      <th>4</th>\n",
       "      <td>105</td>\n",
       "      <td>Eve</td>\n",
       "      <td>1</td>\n",
       "      <td>52000</td>\n",
       "      <td>2023</td>\n",
       "      <td>2200</td>\n",
       "      <td>1</td>\n",
       "      <td>HR</td>\n",
       "      <td>New York</td>\n",
       "      <td>500000</td>\n",
       "      <td>201</td>\n",
       "    </tr>\n",
       "  </tbody>\n",
       "</table>\n",
       "</div>"
      ]
     },
     "execution_count": 82,
     "metadata": {},
     "output_type": "execute_result"
    }
   ],
   "execution_count": 82
  },
  {
   "cell_type": "markdown",
   "metadata": {},
   "source": [
    "18. Entferne alle ID-Spalten aus dem DataFrame und überschreibe 'employees_details' mit dem resultierenden Dataframe.\n",
    "\n",
    "2 Pkt"
   ]
  },
  {
   "cell_type": "code",
   "metadata": {
    "ExecuteTime": {
     "end_time": "2024-11-15T14:38:29.816965Z",
     "start_time": "2024-11-15T14:38:29.807939Z"
    }
   },
   "source": [
    "employees_details.drop('ID', axis=1, inplace=True)\n",
    "employees_details"
   ],
   "outputs": [
    {
     "data": {
      "text/plain": [
       "      Name  Department  Salary  Year  Salary_Adjustment  Department_ID  \\\n",
       "0    Alice           1   50000  2023               2000              1   \n",
       "1      Bob           2   60000  2023               2500              2   \n",
       "2  Charlie           3   55000  2023               1500              3   \n",
       "3    David           2   70000  2023               3000              2   \n",
       "4      Eve           1   52000  2023               2200              1   \n",
       "\n",
       "  Department_Name       Location   Budget  Manager_ID  \n",
       "0              HR       New York   500000         201  \n",
       "1              IT  San Francisco  1200000         202  \n",
       "2       Marketing        Chicago   750000         203  \n",
       "3              IT  San Francisco  1200000         202  \n",
       "4              HR       New York   500000         201  "
      ],
      "text/html": [
       "<div>\n",
       "<style scoped>\n",
       "    .dataframe tbody tr th:only-of-type {\n",
       "        vertical-align: middle;\n",
       "    }\n",
       "\n",
       "    .dataframe tbody tr th {\n",
       "        vertical-align: top;\n",
       "    }\n",
       "\n",
       "    .dataframe thead th {\n",
       "        text-align: right;\n",
       "    }\n",
       "</style>\n",
       "<table border=\"1\" class=\"dataframe\">\n",
       "  <thead>\n",
       "    <tr style=\"text-align: right;\">\n",
       "      <th></th>\n",
       "      <th>Name</th>\n",
       "      <th>Department</th>\n",
       "      <th>Salary</th>\n",
       "      <th>Year</th>\n",
       "      <th>Salary_Adjustment</th>\n",
       "      <th>Department_ID</th>\n",
       "      <th>Department_Name</th>\n",
       "      <th>Location</th>\n",
       "      <th>Budget</th>\n",
       "      <th>Manager_ID</th>\n",
       "    </tr>\n",
       "  </thead>\n",
       "  <tbody>\n",
       "    <tr>\n",
       "      <th>0</th>\n",
       "      <td>Alice</td>\n",
       "      <td>1</td>\n",
       "      <td>50000</td>\n",
       "      <td>2023</td>\n",
       "      <td>2000</td>\n",
       "      <td>1</td>\n",
       "      <td>HR</td>\n",
       "      <td>New York</td>\n",
       "      <td>500000</td>\n",
       "      <td>201</td>\n",
       "    </tr>\n",
       "    <tr>\n",
       "      <th>1</th>\n",
       "      <td>Bob</td>\n",
       "      <td>2</td>\n",
       "      <td>60000</td>\n",
       "      <td>2023</td>\n",
       "      <td>2500</td>\n",
       "      <td>2</td>\n",
       "      <td>IT</td>\n",
       "      <td>San Francisco</td>\n",
       "      <td>1200000</td>\n",
       "      <td>202</td>\n",
       "    </tr>\n",
       "    <tr>\n",
       "      <th>2</th>\n",
       "      <td>Charlie</td>\n",
       "      <td>3</td>\n",
       "      <td>55000</td>\n",
       "      <td>2023</td>\n",
       "      <td>1500</td>\n",
       "      <td>3</td>\n",
       "      <td>Marketing</td>\n",
       "      <td>Chicago</td>\n",
       "      <td>750000</td>\n",
       "      <td>203</td>\n",
       "    </tr>\n",
       "    <tr>\n",
       "      <th>3</th>\n",
       "      <td>David</td>\n",
       "      <td>2</td>\n",
       "      <td>70000</td>\n",
       "      <td>2023</td>\n",
       "      <td>3000</td>\n",
       "      <td>2</td>\n",
       "      <td>IT</td>\n",
       "      <td>San Francisco</td>\n",
       "      <td>1200000</td>\n",
       "      <td>202</td>\n",
       "    </tr>\n",
       "    <tr>\n",
       "      <th>4</th>\n",
       "      <td>Eve</td>\n",
       "      <td>1</td>\n",
       "      <td>52000</td>\n",
       "      <td>2023</td>\n",
       "      <td>2200</td>\n",
       "      <td>1</td>\n",
       "      <td>HR</td>\n",
       "      <td>New York</td>\n",
       "      <td>500000</td>\n",
       "      <td>201</td>\n",
       "    </tr>\n",
       "  </tbody>\n",
       "</table>\n",
       "</div>"
      ]
     },
     "execution_count": 83,
     "metadata": {},
     "output_type": "execute_result"
    }
   ],
   "execution_count": 83
  },
  {
   "cell_type": "markdown",
   "metadata": {},
   "source": [
    "19. Lasse mit Pandasmitteln dir folgende drei Sachen ausgeben:\n",
    "* Das niedrigste und das höchste Budget\n",
    "* Das mittlere Gehalt\n",
    "\n",
    "4 Pkt"
   ]
  },
  {
   "cell_type": "code",
   "metadata": {
    "ExecuteTime": {
     "end_time": "2024-11-15T14:39:17.975359Z",
     "start_time": "2024-11-15T14:39:17.968845Z"
    }
   },
   "source": "employees_details['Budget'].min()",
   "outputs": [
    {
     "data": {
      "text/plain": [
       "np.int64(500000)"
      ]
     },
     "execution_count": 84,
     "metadata": {},
     "output_type": "execute_result"
    }
   ],
   "execution_count": 84
  },
  {
   "metadata": {
    "ExecuteTime": {
     "end_time": "2024-11-15T14:40:03.786642Z",
     "start_time": "2024-11-15T14:40:03.779057Z"
    }
   },
   "cell_type": "code",
   "source": "employees_details['Budget'].max()",
   "outputs": [
    {
     "data": {
      "text/plain": [
       "np.int64(1200000)"
      ]
     },
     "execution_count": 85,
     "metadata": {},
     "output_type": "execute_result"
    }
   ],
   "execution_count": 85
  },
  {
   "metadata": {
    "ExecuteTime": {
     "end_time": "2024-11-15T14:40:17.576609Z",
     "start_time": "2024-11-15T14:40:17.570502Z"
    }
   },
   "cell_type": "code",
   "source": "employees_details['Budget'].mean()",
   "outputs": [
    {
     "data": {
      "text/plain": [
       "np.float64(830000.0)"
      ]
     },
     "execution_count": 86,
     "metadata": {},
     "output_type": "execute_result"
    }
   ],
   "execution_count": 86
  }
 ],
 "metadata": {
  "kernelspec": {
   "display_name": "Python 3",
   "language": "python",
   "name": "python3"
  },
  "language_info": {
   "codemirror_mode": {
    "name": "ipython",
    "version": 3
   },
   "file_extension": ".py",
   "mimetype": "text/x-python",
   "name": "python",
   "nbconvert_exporter": "python",
   "pygments_lexer": "ipython3",
   "version": "3.10.12"
  }
 },
 "nbformat": 4,
 "nbformat_minor": 2
}
