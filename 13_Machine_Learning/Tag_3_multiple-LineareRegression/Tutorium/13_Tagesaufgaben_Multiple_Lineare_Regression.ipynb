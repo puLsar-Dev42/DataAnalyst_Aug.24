{
 "cells": [
  {
   "metadata": {},
   "cell_type": "markdown",
   "source": "<center><h1 style=\"font-size:2em;color:#2467C0;font-family:Times New Roman\">Tagesaufgaben: Multiple Lineare Regression</h1></center>\n"
  },
  {
   "cell_type": "markdown",
   "source": [
    "<div class=\"alert alert-success\" role=\"alert\">\n",
    "  <h4 class=\"alert-heading\" style=\"font-size:1.7em\">Aufgabe1</h4>\n",
    "  <hr>\n",
    "   <h4 style=\"font-family:cursive;\">\n",
    "Führe eine lineare Regression mit dem Diamond-Datensatz aus Seaborn durch. Die Karat-Zahl ist die zu erklärende Variable, während alle anderen metrischen Daten Prädiktoren sind. Benutze dafür die lineare Regression aus scikit-learn und gib die Koeffizienten und R2 aus. Vergleiche deine Ergebnisse mit Ansätzen mit Ridge, Lasso und Elasticnet.</h4>\n",
    "</div>\n"
   ],
   "metadata": {
    "collapsed": false
   }
  },
  {
   "cell_type": "code",
   "execution_count": null,
   "outputs": [],
   "source": [],
   "metadata": {
    "collapsed": false
   }
  },
  {
   "cell_type": "markdown",
   "source": [
    "<div class=\"alert alert-success\" role=\"alert\">\n",
    "  <h4 class=\"alert-heading\" style=\"font-size:1.7em\">Aufgabe2</h4>\n",
    "  <hr>\n",
    "   <h4 style=\"font-family:cursive;\">\n",
    "Schreibe eine Funktion, der du als Argumente die unabhängigen Variablen (X) und die abhängige Variable (y) geben kannst und die dann für diese Argumente ein Modell berechnet. Als Ergebnis sollen dir die Koeffizienten, der Interecept und R² ausgegeben werden.</h4>\n",
    "</div>\n"
   ],
   "metadata": {
    "collapsed": false
   }
  },
  {
   "cell_type": "code",
   "execution_count": null,
   "outputs": [],
   "source": [],
   "metadata": {
    "collapsed": false
   }
  }
 ],
 "metadata": {
  "kernelspec": {
   "display_name": "Python 3",
   "language": "python",
   "name": "python3"
  },
  "language_info": {
   "codemirror_mode": {
    "name": "ipython",
    "version": 2
   },
   "file_extension": ".py",
   "mimetype": "text/x-python",
   "name": "python",
   "nbconvert_exporter": "python",
   "pygments_lexer": "ipython2",
   "version": "2.7.6"
  }
 },
 "nbformat": 4,
 "nbformat_minor": 0
}
