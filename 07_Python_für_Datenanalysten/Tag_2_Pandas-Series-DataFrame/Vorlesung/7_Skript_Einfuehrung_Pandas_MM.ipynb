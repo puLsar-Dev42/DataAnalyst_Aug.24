{
 "cells": [
  {
   "cell_type": "markdown",
   "metadata": {},
   "source": [
    "# Pandas\n",
    "\n",
    "<br> Pandas ist eine Bibliothek für Daten-Manipulation und -Analyse durch spezielle Funktionen und Datenstrukturen.\n",
    "<br> Der Name \"Pandas\" ist abgeleitet von \"Panel Data\", was eine [bestimmte Form von Datensätzen](https://de.wikipedia.org/wiki/Paneldaten) beschreibt.\n",
    "\n",
    "Wichtige Elemente von Pandas:\n",
    "<br> * Series (Serien): 1D-Array-ähnliche Objekt, das verschiedene Datentypen aufnehmen kann (int, float, strings, object etc.)\n",
    "<br> * Die wichtigsten Datenstrukturen in Pandas: `pd.Series` (Serien), `pd.DataFrame`\n",
    "\n",
    "Im Hintergrund spielt aber beim Aufbau von Series auch numpy eine entscheidende Rolle.\n"
   ]
  },
  {
   "cell_type": "code",
   "metadata": {
    "ExecuteTime": {
     "end_time": "2024-11-12T09:09:42.499878Z",
     "start_time": "2024-11-12T09:09:41.394274Z"
    }
   },
   "source": [
    "import pandas as pd\n",
    "import numpy as np"
   ],
   "outputs": [],
   "execution_count": 1
  },
  {
   "cell_type": "markdown",
   "metadata": {},
   "source": [
    "\n",
    "## Die Serie - `pd.Series`\n",
    "\n",
    "<br> Eine Serie beinhaltet zwei eindimensionale Arrays: 1. Index, 2. Daten"
   ]
  },
  {
   "cell_type": "code",
   "metadata": {
    "ExecuteTime": {
     "end_time": "2024-11-12T09:09:42.526608Z",
     "start_time": "2024-11-12T09:09:42.516919Z"
    }
   },
   "source": [
    "# Eine Serie in pandas erstellen:\n",
    "words_series = pd.Series([\"Hallo\", \"DataCraft\", \"ich\", \"lerne\", \"Pandas\"])\n",
    "\n",
    "words_series"
   ],
   "outputs": [
    {
     "data": {
      "text/plain": [
       "0        Hallo\n",
       "1    DataCraft\n",
       "2          ich\n",
       "3        lerne\n",
       "4       Pandas\n",
       "dtype: object"
      ]
     },
     "execution_count": 2,
     "metadata": {},
     "output_type": "execute_result"
    }
   ],
   "execution_count": 2
  },
  {
   "cell_type": "code",
   "metadata": {
    "ExecuteTime": {
     "end_time": "2024-11-12T09:09:42.574448Z",
     "start_time": "2024-11-12T09:09:42.567448Z"
    }
   },
   "source": [
    "# Zugriff auf einzelne Elemente über Indexposition:\n",
    "words_series[1]"
   ],
   "outputs": [
    {
     "data": {
      "text/plain": [
       "'DataCraft'"
      ]
     },
     "execution_count": 3,
     "metadata": {},
     "output_type": "execute_result"
    }
   ],
   "execution_count": 3
  },
  {
   "cell_type": "code",
   "metadata": {
    "ExecuteTime": {
     "end_time": "2024-11-12T09:09:42.837990Z",
     "start_time": "2024-11-12T09:09:42.831925Z"
    }
   },
   "source": [
    "# Slicing auch möglich:\n",
    "words_series[2:4]"
   ],
   "outputs": [
    {
     "data": {
      "text/plain": [
       "2      ich\n",
       "3    lerne\n",
       "dtype: object"
      ]
     },
     "execution_count": 4,
     "metadata": {},
     "output_type": "execute_result"
    }
   ],
   "execution_count": 4
  },
  {
   "cell_type": "code",
   "metadata": {
    "ExecuteTime": {
     "end_time": "2024-11-12T09:09:42.906778Z",
     "start_time": "2024-11-12T09:09:42.900867Z"
    }
   },
   "source": [
    "# Welcher Datentyp steckt in der Series:\n",
    "words_series.dtype"
   ],
   "outputs": [
    {
     "data": {
      "text/plain": [
       "dtype('O')"
      ]
     },
     "execution_count": 5,
     "metadata": {},
     "output_type": "execute_result"
    }
   ],
   "execution_count": 5
  },
  {
   "cell_type": "code",
   "metadata": {
    "ExecuteTime": {
     "end_time": "2024-11-12T09:09:43.258559Z",
     "start_time": "2024-11-12T09:09:43.252490Z"
    }
   },
   "source": [
    "# Standardmäßig beginnt ein Index bei 0 und geht so weit, wie es die Anzahl der Einträge erfordert:\n",
    "words_series.index"
   ],
   "outputs": [
    {
     "data": {
      "text/plain": [
       "RangeIndex(start=0, stop=5, step=1)"
      ]
     },
     "execution_count": 6,
     "metadata": {},
     "output_type": "execute_result"
    }
   ],
   "execution_count": 6
  },
  {
   "cell_type": "code",
   "metadata": {
    "ExecuteTime": {
     "end_time": "2024-11-12T09:09:43.624744Z",
     "start_time": "2024-11-12T09:09:43.618231Z"
    }
   },
   "source": [
    "list(words_series.index)"
   ],
   "outputs": [
    {
     "data": {
      "text/plain": [
       "[0, 1, 2, 3, 4]"
      ]
     },
     "execution_count": 7,
     "metadata": {},
     "output_type": "execute_result"
    }
   ],
   "execution_count": 7
  },
  {
   "cell_type": "code",
   "metadata": {
    "ExecuteTime": {
     "end_time": "2024-11-12T09:09:43.838434Z",
     "start_time": "2024-11-12T09:09:43.832362Z"
    }
   },
   "source": [
    "# Wer hält die Werte unter der Haube zusammen?\n",
    "words_series.values"
   ],
   "outputs": [
    {
     "data": {
      "text/plain": [
       "array(['Hallo', 'DataCraft', 'ich', 'lerne', 'Pandas'], dtype=object)"
      ]
     },
     "execution_count": 8,
     "metadata": {},
     "output_type": "execute_result"
    }
   ],
   "execution_count": 8
  },
  {
   "cell_type": "code",
   "metadata": {
    "ExecuteTime": {
     "end_time": "2024-11-12T09:09:43.982677Z",
     "start_time": "2024-11-12T09:09:43.974999Z"
    }
   },
   "source": [
    "# Die Attribute ndim, shape, size gibt es auch bei der Series:\n",
    "words_series.ndim"
   ],
   "outputs": [
    {
     "data": {
      "text/plain": [
       "1"
      ]
     },
     "execution_count": 9,
     "metadata": {},
     "output_type": "execute_result"
    }
   ],
   "execution_count": 9
  },
  {
   "cell_type": "code",
   "metadata": {
    "ExecuteTime": {
     "end_time": "2024-11-12T09:09:44.100103Z",
     "start_time": "2024-11-12T09:09:44.094647Z"
    }
   },
   "source": [
    "words_series.shape"
   ],
   "outputs": [
    {
     "data": {
      "text/plain": [
       "(5,)"
      ]
     },
     "execution_count": 10,
     "metadata": {},
     "output_type": "execute_result"
    }
   ],
   "execution_count": 10
  },
  {
   "cell_type": "code",
   "metadata": {
    "ExecuteTime": {
     "end_time": "2024-11-12T09:09:44.205283Z",
     "start_time": "2024-11-12T09:09:44.201055Z"
    }
   },
   "source": [
    "words_series.size"
   ],
   "outputs": [
    {
     "data": {
      "text/plain": [
       "5"
      ]
     },
     "execution_count": 11,
     "metadata": {},
     "output_type": "execute_result"
    }
   ],
   "execution_count": 11
  },
  {
   "cell_type": "code",
   "metadata": {
    "ExecuteTime": {
     "end_time": "2024-11-12T09:09:44.284920Z",
     "start_time": "2024-11-12T09:09:44.274364Z"
    }
   },
   "source": [
    "# Individueller:  Series einen Namen verpassen und einen selbstgewählten Index mitgeben:\n",
    "words_series = pd.Series(data=[\"Hallo\", \"DataCraft\", \"ich\", \"lerne\", \"Pandas\"],\n",
    "                         index=[\"I\", \"II\", \"III\", \"IV\", \"V\"],\n",
    "                         name='words')\n",
    "\n",
    "words_series"
   ],
   "outputs": [
    {
     "data": {
      "text/plain": [
       "I          Hallo\n",
       "II     DataCraft\n",
       "III          ich\n",
       "IV         lerne\n",
       "V         Pandas\n",
       "Name: words, dtype: object"
      ]
     },
     "execution_count": 12,
     "metadata": {},
     "output_type": "execute_result"
    }
   ],
   "execution_count": 12
  },
  {
   "cell_type": "code",
   "metadata": {
    "ExecuteTime": {
     "end_time": "2024-11-12T09:09:44.355218Z",
     "start_time": "2024-11-12T09:09:44.348977Z"
    }
   },
   "source": [
    "# Zugriff über den neuen Index:\n",
    "words_series['II']"
   ],
   "outputs": [
    {
     "data": {
      "text/plain": [
       "'DataCraft'"
      ]
     },
     "execution_count": 13,
     "metadata": {},
     "output_type": "execute_result"
    }
   ],
   "execution_count": 13
  },
  {
   "cell_type": "code",
   "metadata": {
    "ExecuteTime": {
     "end_time": "2024-11-12T09:09:44.482272Z",
     "start_time": "2024-11-12T09:09:44.474855Z"
    }
   },
   "source": [
    "# Geht auch noch über den numerischen Index, aber das Verhalten wird abgeschafft werden:\n",
    "words_series[1]"
   ],
   "outputs": [
    {
     "name": "stderr",
     "output_type": "stream",
     "text": [
      "C:\\Users\\Admin\\AppData\\Local\\Temp\\ipykernel_5672\\1091462620.py:2: FutureWarning: Series.__getitem__ treating keys as positions is deprecated. In a future version, integer keys will always be treated as labels (consistent with DataFrame behavior). To access a value by position, use `ser.iloc[pos]`\n",
      "  words_series[1]\n"
     ]
    },
    {
     "data": {
      "text/plain": [
       "'DataCraft'"
      ]
     },
     "execution_count": 14,
     "metadata": {},
     "output_type": "execute_result"
    }
   ],
   "execution_count": 14
  },
  {
   "cell_type": "code",
   "metadata": {
    "ExecuteTime": {
     "end_time": "2024-11-12T09:09:44.693395Z",
     "start_time": "2024-11-12T09:09:44.688132Z"
    }
   },
   "source": [
    "# Besser in diesem Fall:\n",
    "words_series.iloc[1]\n",
    "# Mehr dazu an anderer Stelle!  "
   ],
   "outputs": [
    {
     "data": {
      "text/plain": [
       "'DataCraft'"
      ]
     },
     "execution_count": 15,
     "metadata": {},
     "output_type": "execute_result"
    }
   ],
   "execution_count": 15
  },
  {
   "cell_type": "code",
   "metadata": {
    "ExecuteTime": {
     "end_time": "2024-11-12T09:09:44.751619Z",
     "start_time": "2024-11-12T09:09:44.742401Z"
    }
   },
   "source": [
    "# Eine Serie in pandas vom Typ int erstellen:\n",
    "numbers_series = pd.Series([2, 7, 3, 9, 0, 3, 6], dtype=int, name='numbers')\n",
    "numbers_series"
   ],
   "outputs": [
    {
     "data": {
      "text/plain": [
       "0    2\n",
       "1    7\n",
       "2    3\n",
       "3    9\n",
       "4    0\n",
       "5    3\n",
       "6    6\n",
       "Name: numbers, dtype: int64"
      ]
     },
     "execution_count": 16,
     "metadata": {},
     "output_type": "execute_result"
    }
   ],
   "execution_count": 16
  },
  {
   "cell_type": "code",
   "metadata": {
    "ExecuteTime": {
     "end_time": "2024-11-12T09:09:44.851725Z",
     "start_time": "2024-11-12T09:09:44.844798Z"
    }
   },
   "source": [
    "numbers_series.dtype"
   ],
   "outputs": [
    {
     "data": {
      "text/plain": [
       "dtype('int64')"
      ]
     },
     "execution_count": 17,
     "metadata": {},
     "output_type": "execute_result"
    }
   ],
   "execution_count": 17
  },
  {
   "cell_type": "code",
   "metadata": {
    "ExecuteTime": {
     "end_time": "2024-11-12T09:09:44.947220Z",
     "start_time": "2024-11-12T09:09:44.938806Z"
    }
   },
   "source": [
    "# Man kann auch hier auf Speicherplatz optimieren:\n",
    "numbers_series = pd.Series([2, 7, 3, 9, 0, 3, 6], dtype='int8', name='numbers')\n",
    "numbers_series"
   ],
   "outputs": [
    {
     "data": {
      "text/plain": [
       "0    2\n",
       "1    7\n",
       "2    3\n",
       "3    9\n",
       "4    0\n",
       "5    3\n",
       "6    6\n",
       "Name: numbers, dtype: int8"
      ]
     },
     "execution_count": 18,
     "metadata": {},
     "output_type": "execute_result"
    }
   ],
   "execution_count": 18
  },
  {
   "cell_type": "code",
   "metadata": {
    "ExecuteTime": {
     "end_time": "2024-11-12T09:09:45.065422Z",
     "start_time": "2024-11-12T09:09:45.059412Z"
    }
   },
   "source": [
    "# Ausgeben der Serie als Liste:\n",
    "numbers_list = numbers_series.to_list()\n",
    "numbers_list"
   ],
   "outputs": [
    {
     "data": {
      "text/plain": [
       "[2, 7, 3, 9, 0, 3, 6]"
      ]
     },
     "execution_count": 19,
     "metadata": {},
     "output_type": "execute_result"
    }
   ],
   "execution_count": 19
  },
  {
   "cell_type": "code",
   "metadata": {
    "ExecuteTime": {
     "end_time": "2024-11-12T09:09:45.155434Z",
     "start_time": "2024-11-12T09:09:45.149473Z"
    }
   },
   "source": [
    "# Ursprüngliche Series bleibt unverändert:\n",
    "numbers_series"
   ],
   "outputs": [
    {
     "data": {
      "text/plain": [
       "0    2\n",
       "1    7\n",
       "2    3\n",
       "3    9\n",
       "4    0\n",
       "5    3\n",
       "6    6\n",
       "Name: numbers, dtype: int8"
      ]
     },
     "execution_count": 20,
     "metadata": {},
     "output_type": "execute_result"
    }
   ],
   "execution_count": 20
  },
  {
   "cell_type": "markdown",
   "metadata": {},
   "source": [
    "Den Index und die Werte einzeln zu benennen ist umständlich. Man kann das jedoch mit einem Standard-Datentyp in Python ganz leicht umsetzen: dem Dictionary. Die Keys sind dabei Indexwerte und die Values die eigentlichen Werte der Series."
   ]
  },
  {
   "cell_type": "code",
   "metadata": {
    "ExecuteTime": {
     "end_time": "2024-11-12T09:09:45.326877Z",
     "start_time": "2024-11-12T09:09:45.320036Z"
    }
   },
   "source": [
    "data = {\"a\": 100, \"b\": 200, \"c\": 300}\n",
    "\n",
    "pd.Series(data)"
   ],
   "outputs": [
    {
     "data": {
      "text/plain": [
       "a    100\n",
       "b    200\n",
       "c    300\n",
       "dtype: int64"
      ]
     },
     "execution_count": 21,
     "metadata": {},
     "output_type": "execute_result"
    }
   ],
   "execution_count": 21
  },
  {
   "cell_type": "code",
   "metadata": {
    "ExecuteTime": {
     "end_time": "2024-11-12T09:09:45.518223Z",
     "start_time": "2024-11-12T09:09:45.506880Z"
    }
   },
   "source": [
    "# Reihenfolge und Inhalte der Series modifizierbar\n",
    "# durch Indexreihenfolge:\n",
    "data = {\"a\": 100, \"b\": 200, \"c\": 300, \"e\": 500}\n",
    "series_from_dict = pd.Series(data, index=[\"a\", \"c\", \"b\", \"b\", \"d\"])\n",
    "series_from_dict\n",
    "# Für Index d gibt es keine Daten > NaN\n",
    "# bei Index b gibt es zwei Einträge > das ist zwar nicht verboten,\n",
    "# aber mit großer Vorsicht zu behandeln, da der Index oft gerade \n",
    "# unique values identifizieren soll!"
   ],
   "outputs": [
    {
     "data": {
      "text/plain": [
       "a    100.0\n",
       "c    300.0\n",
       "b    200.0\n",
       "b    200.0\n",
       "d      NaN\n",
       "dtype: float64"
      ]
     },
     "execution_count": 22,
     "metadata": {},
     "output_type": "execute_result"
    }
   ],
   "execution_count": 22
  },
  {
   "cell_type": "code",
   "metadata": {
    "ExecuteTime": {
     "end_time": "2024-11-12T09:09:45.735057Z",
     "start_time": "2024-11-12T09:09:45.721476Z"
    }
   },
   "source": [
    "series_from_dict[\"b\"]"
   ],
   "outputs": [
    {
     "data": {
      "text/plain": [
       "b    200.0\n",
       "b    200.0\n",
       "dtype: float64"
      ]
     },
     "execution_count": 23,
     "metadata": {},
     "output_type": "execute_result"
    }
   ],
   "execution_count": 23
  },
  {
   "cell_type": "markdown",
   "metadata": {},
   "source": [
    "Oder: Alle Informationen direkt bei Erstellung über Listen übergeben"
   ]
  },
  {
   "cell_type": "code",
   "metadata": {
    "ExecuteTime": {
     "end_time": "2024-11-12T09:09:46.002987Z",
     "start_time": "2024-11-12T09:09:45.996610Z"
    }
   },
   "source": [
    "# Hierbei nur Benennung der Indices, kein Einfluss auf Inhalte:\n",
    "customers = pd.Series([1500, 2300, 1350, 450, 5700],\n",
    "                    index=[\"Mayer\", \"Müller\", \"Schmidt\", \"Weber\", \"Schneider\"],\n",
    "                    name=\"payments\")\n",
    "\n",
    "customers"
   ],
   "outputs": [
    {
     "data": {
      "text/plain": [
       "Mayer        1500\n",
       "Müller       2300\n",
       "Schmidt      1350\n",
       "Weber         450\n",
       "Schneider    5700\n",
       "Name: payments, dtype: int64"
      ]
     },
     "execution_count": 24,
     "metadata": {},
     "output_type": "execute_result"
    }
   ],
   "execution_count": 24
  },
  {
   "cell_type": "code",
   "metadata": {
    "ExecuteTime": {
     "end_time": "2024-11-12T09:09:46.218769Z",
     "start_time": "2024-11-12T09:09:46.212952Z"
    }
   },
   "source": [
    "customers[\"Müller\"]"
   ],
   "outputs": [
    {
     "data": {
      "text/plain": [
       "np.int64(2300)"
      ]
     },
     "execution_count": 25,
     "metadata": {},
     "output_type": "execute_result"
    }
   ],
   "execution_count": 25
  },
  {
   "cell_type": "code",
   "metadata": {
    "ExecuteTime": {
     "end_time": "2024-11-12T09:09:46.440253Z",
     "start_time": "2024-11-12T09:09:46.433456Z"
    }
   },
   "source": [
    "# Erstellung mit konstanten Werten\n",
    "pd.Series(5, index=[0,1,2,3])"
   ],
   "outputs": [
    {
     "data": {
      "text/plain": [
       "0    5\n",
       "1    5\n",
       "2    5\n",
       "3    5\n",
       "dtype: int64"
      ]
     },
     "execution_count": 26,
     "metadata": {},
     "output_type": "execute_result"
    }
   ],
   "execution_count": 26
  },
  {
   "cell_type": "code",
   "metadata": {
    "ExecuteTime": {
     "end_time": "2024-11-12T09:09:46.656498Z",
     "start_time": "2024-11-12T09:09:46.639841Z"
    }
   },
   "source": [
    "# Es geht auch nachträglich auf diese Weise:\n",
    "my_series = pd.Series(index=[1, 2, 3])\n",
    "my_series"
   ],
   "outputs": [
    {
     "data": {
      "text/plain": [
       "1   NaN\n",
       "2   NaN\n",
       "3   NaN\n",
       "dtype: float64"
      ]
     },
     "execution_count": 27,
     "metadata": {},
     "output_type": "execute_result"
    }
   ],
   "execution_count": 27
  },
  {
   "cell_type": "code",
   "metadata": {
    "ExecuteTime": {
     "end_time": "2024-11-12T09:09:46.816194Z",
     "start_time": "2024-11-12T09:09:46.809225Z"
    }
   },
   "source": [
    "my_series[:] = 1\n",
    "my_series"
   ],
   "outputs": [
    {
     "data": {
      "text/plain": [
       "1    1.0\n",
       "2    1.0\n",
       "3    1.0\n",
       "dtype: float64"
      ]
     },
     "execution_count": 28,
     "metadata": {},
     "output_type": "execute_result"
    }
   ],
   "execution_count": 28
  },
  {
   "cell_type": "code",
   "metadata": {
    "collapsed": false,
    "ExecuteTime": {
     "end_time": "2024-11-12T09:09:47.000629Z",
     "start_time": "2024-11-12T09:09:46.996647Z"
    }
   },
   "source": [
    "# Zusatz: Gemischte Datentypen in einer Serie"
   ],
   "outputs": [],
   "execution_count": 29
  },
  {
   "cell_type": "code",
   "metadata": {
    "collapsed": false,
    "ExecuteTime": {
     "end_time": "2024-11-12T09:09:47.142523Z",
     "start_time": "2024-11-12T09:09:47.136019Z"
    }
   },
   "source": [
    "my_dict = dict(zip(range(1, 6), ['Hallo', 'Pandas', 2024, 'Q4']))\n",
    "my_dict"
   ],
   "outputs": [
    {
     "data": {
      "text/plain": [
       "{1: 'Hallo', 2: 'Pandas', 3: 2024, 4: 'Q4'}"
      ]
     },
     "execution_count": 30,
     "metadata": {},
     "output_type": "execute_result"
    }
   ],
   "execution_count": 30
  },
  {
   "cell_type": "code",
   "metadata": {
    "collapsed": false,
    "ExecuteTime": {
     "end_time": "2024-11-12T09:09:47.323045Z",
     "start_time": "2024-11-12T09:09:47.315212Z"
    }
   },
   "source": [
    "my_series = pd.Series(my_dict)\n",
    "my_series"
   ],
   "outputs": [
    {
     "data": {
      "text/plain": [
       "1     Hallo\n",
       "2    Pandas\n",
       "3      2024\n",
       "4        Q4\n",
       "dtype: object"
      ]
     },
     "execution_count": 31,
     "metadata": {},
     "output_type": "execute_result"
    }
   ],
   "execution_count": 31
  },
  {
   "cell_type": "code",
   "metadata": {
    "collapsed": false,
    "ExecuteTime": {
     "end_time": "2024-11-12T09:09:47.431976Z",
     "start_time": "2024-11-12T09:09:47.427280Z"
    }
   },
   "source": [
    "# Nebeneinander von verschiedenen Datentypen in einer Series möglich!\n",
    "print(my_series[2])\n",
    "print(type(my_series[2]))\n",
    "print(my_series[3])\n",
    "print(type(my_series[3]))"
   ],
   "outputs": [
    {
     "name": "stdout",
     "output_type": "stream",
     "text": [
      "Pandas\n",
      "<class 'str'>\n",
      "2024\n",
      "<class 'int'>\n"
     ]
    }
   ],
   "execution_count": 32
  },
  {
   "cell_type": "code",
   "metadata": {
    "ExecuteTime": {
     "end_time": "2024-11-12T09:09:47.512476Z",
     "start_time": "2024-11-12T09:09:47.507297Z"
    }
   },
   "source": [
    "# Der Datentyp der gesamten Series ist dann object:\n",
    "my_series.dtype"
   ],
   "outputs": [
    {
     "data": {
      "text/plain": [
       "dtype('O')"
      ]
     },
     "execution_count": 33,
     "metadata": {},
     "output_type": "execute_result"
    }
   ],
   "execution_count": 33
  },
  {
   "cell_type": "code",
   "metadata": {
    "ExecuteTime": {
     "end_time": "2024-11-12T09:09:47.659492Z",
     "start_time": "2024-11-12T09:09:47.652696Z"
    }
   },
   "source": [
    "my_series"
   ],
   "outputs": [
    {
     "data": {
      "text/plain": [
       "1     Hallo\n",
       "2    Pandas\n",
       "3      2024\n",
       "4        Q4\n",
       "dtype: object"
      ]
     },
     "execution_count": 34,
     "metadata": {},
     "output_type": "execute_result"
    }
   ],
   "execution_count": 34
  },
  {
   "cell_type": "code",
   "metadata": {
    "ExecuteTime": {
     "end_time": "2024-11-12T09:09:47.754430Z",
     "start_time": "2024-11-12T09:09:47.750917Z"
    }
   },
   "source": [
    "# Bonus-Info: In Pandas kann so ziemlich jedes Objekt rein ;)\n",
    "class DataCraftStudent:\n",
    "    def __init__(self, name) -> None:\n",
    "        self.name = name"
   ],
   "outputs": [],
   "execution_count": 35
  },
  {
   "cell_type": "code",
   "metadata": {
    "ExecuteTime": {
     "end_time": "2024-11-12T09:09:47.862798Z",
     "start_time": "2024-11-12T09:09:47.858127Z"
    }
   },
   "source": [
    "students = [DataCraftStudent('Max Mustererkenner'), \n",
    "            DataCraftStudent('Dora Datenfels'),\n",
    "            DataCraftStudent('Andrea Ey-Ay')]"
   ],
   "outputs": [],
   "execution_count": 36
  },
  {
   "cell_type": "code",
   "metadata": {
    "ExecuteTime": {
     "end_time": "2024-11-12T09:09:48.002115Z",
     "start_time": "2024-11-12T09:09:47.994767Z"
    }
   },
   "source": [
    "students_series = pd.Series(students)\n",
    "students_series"
   ],
   "outputs": [
    {
     "data": {
      "text/plain": [
       "0    <__main__.DataCraftStudent object at 0x000001A...\n",
       "1    <__main__.DataCraftStudent object at 0x000001A...\n",
       "2    <__main__.DataCraftStudent object at 0x000001A...\n",
       "dtype: object"
      ]
     },
     "execution_count": 37,
     "metadata": {},
     "output_type": "execute_result"
    }
   ],
   "execution_count": 37
  },
  {
   "cell_type": "markdown",
   "metadata": {},
   "source": [
    "### Rechnen mit Serien\n",
    "\n",
    "1. Broadcasting - Wie bei numpy-Arrays, wird bei einer Rechenoperation die Rechnung auf alle Elemente jeweils (elementwise) angewandt.\n"
   ]
  },
  {
   "cell_type": "code",
   "metadata": {
    "ExecuteTime": {
     "end_time": "2024-11-12T09:09:48.118083Z",
     "start_time": "2024-11-12T09:09:48.111100Z"
    }
   },
   "source": [
    "# Für Vergleichbarkeit:\n",
    "np.random.seed(42)\n",
    "\n",
    "# random.randint erzeugt eine vom Nutzer gewählte Anzahl zufälliger Ganzzahlen \n",
    "# in einem ebenfalls vom Nutzer festgelegten Wertebereich (start, stop): \n",
    "random_series = pd.Series(np.random.randint(0, 50, 6))\n",
    "random_series"
   ],
   "outputs": [
    {
     "data": {
      "text/plain": [
       "0    38\n",
       "1    28\n",
       "2    14\n",
       "3    42\n",
       "4     7\n",
       "5    20\n",
       "dtype: int32"
      ]
     },
     "execution_count": 38,
     "metadata": {},
     "output_type": "execute_result"
    }
   ],
   "execution_count": 38
  },
  {
   "cell_type": "code",
   "metadata": {
    "ExecuteTime": {
     "end_time": "2024-11-12T09:09:48.225108Z",
     "start_time": "2024-11-12T09:09:48.219071Z"
    }
   },
   "source": [
    "# Broadcasting / Vektorisierung\n",
    "(random_series * 4) - 2"
   ],
   "outputs": [
    {
     "data": {
      "text/plain": [
       "0    150\n",
       "1    110\n",
       "2     54\n",
       "3    166\n",
       "4     26\n",
       "5     78\n",
       "dtype: int32"
      ]
     },
     "execution_count": 39,
     "metadata": {},
     "output_type": "execute_result"
    }
   ],
   "execution_count": 39
  },
  {
   "cell_type": "markdown",
   "metadata": {},
   "source": [
    "2. Zwei Serien miteinander verrechnen"
   ]
  },
  {
   "cell_type": "code",
   "metadata": {
    "ExecuteTime": {
     "end_time": "2024-11-12T09:09:48.350624Z",
     "start_time": "2024-11-12T09:09:48.342857Z"
    }
   },
   "source": [
    "np.random.seed(42)\n",
    "s1 = pd.Series(np.random.randint(0, 50, 6), name=\"S1\")\n",
    "s2 = pd.Series(np.random.randint(0, 50, 6), name=\"S2\")\n",
    "\n",
    "print(s1)\n",
    "print(s2)"
   ],
   "outputs": [
    {
     "name": "stdout",
     "output_type": "stream",
     "text": [
      "0    38\n",
      "1    28\n",
      "2    14\n",
      "3    42\n",
      "4     7\n",
      "5    20\n",
      "Name: S1, dtype: int32\n",
      "0    38\n",
      "1    18\n",
      "2    22\n",
      "3    10\n",
      "4    10\n",
      "5    23\n",
      "Name: S2, dtype: int32\n"
     ]
    }
   ],
   "execution_count": 40
  },
  {
   "cell_type": "code",
   "metadata": {
    "ExecuteTime": {
     "end_time": "2024-11-12T09:09:48.482290Z",
     "start_time": "2024-11-12T09:09:48.475581Z"
    }
   },
   "source": [
    "s1 - s2"
   ],
   "outputs": [
    {
     "data": {
      "text/plain": [
       "0     0\n",
       "1    10\n",
       "2    -8\n",
       "3    32\n",
       "4    -3\n",
       "5    -3\n",
       "dtype: int32"
      ]
     },
     "execution_count": 41,
     "metadata": {},
     "output_type": "execute_result"
    }
   ],
   "execution_count": 41
  },
  {
   "cell_type": "markdown",
   "metadata": {},
   "source": [
    "3. Zwei Serien mit unterschiedlichen Indizes verrechnen"
   ]
  },
  {
   "cell_type": "code",
   "metadata": {
    "ExecuteTime": {
     "end_time": "2024-11-12T09:09:48.650247Z",
     "start_time": "2024-11-12T09:09:48.643241Z"
    }
   },
   "source": [
    "np.random.seed(42)\n",
    "\n",
    "s1 = pd.Series(10,\n",
    "               index=[1, 2, 3, 4, 5, 6],\n",
    "               name=\"Series 1\")\n",
    "\n",
    "s2 = pd.Series([1, 5, 3, 2, 12, -1],\n",
    "               index=[1, 3, 4, 6, 7, 8],\n",
    "               name=\"Series 2\")\n",
    "\n",
    "print(s1)\n",
    "print(s2)"
   ],
   "outputs": [
    {
     "name": "stdout",
     "output_type": "stream",
     "text": [
      "1    10\n",
      "2    10\n",
      "3    10\n",
      "4    10\n",
      "5    10\n",
      "6    10\n",
      "Name: Series 1, dtype: int64\n",
      "1     1\n",
      "3     5\n",
      "4     3\n",
      "6     2\n",
      "7    12\n",
      "8    -1\n",
      "Name: Series 2, dtype: int64\n"
     ]
    }
   ],
   "execution_count": 42
  },
  {
   "cell_type": "code",
   "metadata": {
    "ExecuteTime": {
     "end_time": "2024-11-12T09:09:48.891382Z",
     "start_time": "2024-11-12T09:09:48.882807Z"
    }
   },
   "source": [
    "# Wo entstehen die Null-Werte?\n",
    "result = s1 - s2\n",
    "result"
   ],
   "outputs": [
    {
     "data": {
      "text/plain": [
       "1    9.0\n",
       "2    NaN\n",
       "3    5.0\n",
       "4    7.0\n",
       "5    NaN\n",
       "6    8.0\n",
       "7    NaN\n",
       "8    NaN\n",
       "dtype: float64"
      ]
     },
     "execution_count": 43,
     "metadata": {},
     "output_type": "execute_result"
    }
   ],
   "execution_count": 43
  },
  {
   "cell_type": "markdown",
   "metadata": {},
   "source": [
    "--> Es werden nur die Werte verrechnet, die den gleichen Index haben."
   ]
  },
  {
   "cell_type": "code",
   "metadata": {
    "ExecuteTime": {
     "end_time": "2024-11-12T09:09:49.053165Z",
     "start_time": "2024-11-12T09:09:49.045827Z"
    }
   },
   "source": [
    "# Fehlende Werte checken\n",
    "result.isna()"
   ],
   "outputs": [
    {
     "data": {
      "text/plain": [
       "1    False\n",
       "2     True\n",
       "3    False\n",
       "4    False\n",
       "5     True\n",
       "6    False\n",
       "7     True\n",
       "8     True\n",
       "dtype: bool"
      ]
     },
     "execution_count": 44,
     "metadata": {},
     "output_type": "execute_result"
    }
   ],
   "execution_count": 44
  },
  {
   "cell_type": "code",
   "metadata": {
    "ExecuteTime": {
     "end_time": "2024-11-12T09:09:49.263294Z",
     "start_time": "2024-11-12T09:09:49.256395Z"
    }
   },
   "source": [
    "# Mit Boolescher Maske nur die Werte rausholen, die nicht Null-Werte sind:\n",
    "result[~ result.isna()]"
   ],
   "outputs": [
    {
     "data": {
      "text/plain": [
       "1    9.0\n",
       "3    5.0\n",
       "4    7.0\n",
       "6    8.0\n",
       "dtype: float64"
      ]
     },
     "execution_count": 45,
     "metadata": {},
     "output_type": "execute_result"
    }
   ],
   "execution_count": 45
  },
  {
   "cell_type": "markdown",
   "metadata": {},
   "source": [
    "## Übungsaufgabe zu Erstellen und Zugreifen auf Series\n",
    "\n",
    "Erstelle eine Series mit folgenden Beträgen in Euro:\n",
    "\n",
    "1200, 2300, 140, 670, 500\n",
    "\n",
    "Erstelle eine weitere Series, bei der von jedem Betrag 100 Euro abgezogen werden.\n",
    "\n",
    "Erstelle schließlich eine Series mit entsprechenden Dollarbeträgen für die erste Series (1.06 Dollar für einen Euro).\n",
    "\n",
    "Erhalte mit einer Booleschen Maske alle Beträge über 700 Dollar."
   ]
  },
  {
   "cell_type": "code",
   "metadata": {
    "ExecuteTime": {
     "end_time": "2024-11-12T09:42:43.398440Z",
     "start_time": "2024-11-12T09:42:43.394161Z"
    }
   },
   "source": [
    "amounts_euro = pd.Series([1200, 2300, 140, 670, 500], name='€')\n",
    "print(amounts_euro)"
   ],
   "outputs": [
    {
     "name": "stdout",
     "output_type": "stream",
     "text": [
      "0    1200\n",
      "1    2300\n",
      "2     140\n",
      "3     670\n",
      "4     500\n",
      "Name: €, dtype: int64\n"
     ]
    }
   ],
   "execution_count": 69
  },
  {
   "cell_type": "code",
   "metadata": {
    "ExecuteTime": {
     "end_time": "2024-11-12T09:43:26.748868Z",
     "start_time": "2024-11-12T09:43:26.742799Z"
    }
   },
   "source": [
    "amounts_minus100 = amounts_euro - 100\n",
    "print(amounts_minus100)"
   ],
   "outputs": [
    {
     "name": "stdout",
     "output_type": "stream",
     "text": [
      "0    1100\n",
      "1    2200\n",
      "2      40\n",
      "3     570\n",
      "4     400\n",
      "Name: €, dtype: int64\n"
     ]
    }
   ],
   "execution_count": 70
  },
  {
   "metadata": {
    "ExecuteTime": {
     "end_time": "2024-11-12T09:46:13.965989Z",
     "start_time": "2024-11-12T09:46:13.960670Z"
    }
   },
   "cell_type": "code",
   "source": [
    "amounts_dollar = pd.Series(amounts_euro * 1.06, name='$')\n",
    "print(amounts_dollar)"
   ],
   "outputs": [
    {
     "name": "stdout",
     "output_type": "stream",
     "text": [
      "0    1272.0\n",
      "1    2438.0\n",
      "2     148.4\n",
      "3     710.2\n",
      "4     530.0\n",
      "Name: $, dtype: float64\n"
     ]
    }
   ],
   "execution_count": 77
  },
  {
   "metadata": {
    "ExecuteTime": {
     "end_time": "2024-11-12T09:46:15.709490Z",
     "start_time": "2024-11-12T09:46:15.704167Z"
    }
   },
   "cell_type": "code",
   "source": [
    "amounts_over_700 = amounts_dollar > 700\n",
    "print(amounts_over_700)"
   ],
   "outputs": [
    {
     "name": "stdout",
     "output_type": "stream",
     "text": [
      "0     True\n",
      "1     True\n",
      "2    False\n",
      "3     True\n",
      "4    False\n",
      "Name: $, dtype: bool\n"
     ]
    }
   ],
   "execution_count": 78
  },
  {
   "metadata": {
    "ExecuteTime": {
     "end_time": "2024-11-12T09:49:34.370529Z",
     "start_time": "2024-11-12T09:49:34.362901Z"
    }
   },
   "cell_type": "code",
   "source": [
    "# Werte der Boolischen Maske, durch Bedingung in der [...] Klammer\n",
    "amounts_dollar[amounts_dollar > 700]"
   ],
   "outputs": [
    {
     "data": {
      "text/plain": [
       "0    1272.0\n",
       "1    2438.0\n",
       "3     710.2\n",
       "Name: $, dtype: float64"
      ]
     },
     "execution_count": 79,
     "metadata": {},
     "output_type": "execute_result"
    }
   ],
   "execution_count": 79
  },
  {
   "cell_type": "markdown",
   "metadata": {},
   "source": [
    "## DataFrames bei pandas\n",
    "Ein pandas-DataFrame ist eine zwei-dimensionale Datenstruktur, die in Form von Spalten und Zeilen aufgebaut ist und ähnelt einem 2D-Array oder einer Excel-Tabelle.<br>\n",
    "Ein DataFrame verfügt ebenfalls über einen Zeilen- und einen Spaltenindex. <br>\n",
    "Beim Zeilenindex ist ein numerischer Index mit Ganzzahlen ab 0 gängig. <br>\n",
    "Bei Spaltennamen sind dagegen Strings als Bezeichner der Standard. (Dahinter verbergen sich aber zwei numerische Indizes, auf die der Nutzer auch zugreifen kann -> siehe Abschnitt zu iloc.)"
   ]
  },
  {
   "cell_type": "code",
   "metadata": {
    "ExecuteTime": {
     "end_time": "2024-11-12T09:09:49.747211Z",
     "start_time": "2024-11-12T09:09:49.741073Z"
    }
   },
   "source": [
    "# Erstellung eines DataFrame ausgehend von einem Dictionary:\n",
    "mein_dict = {\"Name\": [\"Dora\", \"Max\", \"Andrea\"],\n",
    "             \"Alter\": [31, 24, 25],\n",
    "             \"Lieblingsfarbe\": [\"schwarz\", \"rot\", \"lila\"]\n",
    "             }\n",
    "\n",
    "mein_dict"
   ],
   "outputs": [
    {
     "data": {
      "text/plain": [
       "{'Name': ['Dora', 'Max', 'Andrea'],\n",
       " 'Alter': [31, 24, 25],\n",
       " 'Lieblingsfarbe': ['schwarz', 'rot', 'lila']}"
      ]
     },
     "execution_count": 46,
     "metadata": {},
     "output_type": "execute_result"
    }
   ],
   "execution_count": 46
  },
  {
   "cell_type": "code",
   "metadata": {
    "ExecuteTime": {
     "end_time": "2024-11-12T09:09:49.892114Z",
     "start_time": "2024-11-12T09:09:49.880617Z"
    }
   },
   "source": [
    "# Erzeugung eines DataFrames (Tabelle)\n",
    "students_df = pd.DataFrame(mein_dict)\n",
    "students_df"
   ],
   "outputs": [
    {
     "data": {
      "text/plain": [
       "     Name  Alter Lieblingsfarbe\n",
       "0    Dora     31        schwarz\n",
       "1     Max     24            rot\n",
       "2  Andrea     25           lila"
      ],
      "text/html": [
       "<div>\n",
       "<style scoped>\n",
       "    .dataframe tbody tr th:only-of-type {\n",
       "        vertical-align: middle;\n",
       "    }\n",
       "\n",
       "    .dataframe tbody tr th {\n",
       "        vertical-align: top;\n",
       "    }\n",
       "\n",
       "    .dataframe thead th {\n",
       "        text-align: right;\n",
       "    }\n",
       "</style>\n",
       "<table border=\"1\" class=\"dataframe\">\n",
       "  <thead>\n",
       "    <tr style=\"text-align: right;\">\n",
       "      <th></th>\n",
       "      <th>Name</th>\n",
       "      <th>Alter</th>\n",
       "      <th>Lieblingsfarbe</th>\n",
       "    </tr>\n",
       "  </thead>\n",
       "  <tbody>\n",
       "    <tr>\n",
       "      <th>0</th>\n",
       "      <td>Dora</td>\n",
       "      <td>31</td>\n",
       "      <td>schwarz</td>\n",
       "    </tr>\n",
       "    <tr>\n",
       "      <th>1</th>\n",
       "      <td>Max</td>\n",
       "      <td>24</td>\n",
       "      <td>rot</td>\n",
       "    </tr>\n",
       "    <tr>\n",
       "      <th>2</th>\n",
       "      <td>Andrea</td>\n",
       "      <td>25</td>\n",
       "      <td>lila</td>\n",
       "    </tr>\n",
       "  </tbody>\n",
       "</table>\n",
       "</div>"
      ]
     },
     "execution_count": 47,
     "metadata": {},
     "output_type": "execute_result"
    }
   ],
   "execution_count": 47
  },
  {
   "cell_type": "code",
   "metadata": {
    "ExecuteTime": {
     "end_time": "2024-11-12T09:09:49.987636Z",
     "start_time": "2024-11-12T09:09:49.981845Z"
    }
   },
   "source": [
    "# Zugriff auf einzelne Spalten meines DataFrames:\n",
    "students_df[\"Name\"]"
   ],
   "outputs": [
    {
     "data": {
      "text/plain": [
       "0      Dora\n",
       "1       Max\n",
       "2    Andrea\n",
       "Name: Name, dtype: object"
      ]
     },
     "execution_count": 48,
     "metadata": {},
     "output_type": "execute_result"
    }
   ],
   "execution_count": 48
  },
  {
   "cell_type": "code",
   "metadata": {
    "ExecuteTime": {
     "end_time": "2024-11-12T09:09:50.110158Z",
     "start_time": "2024-11-12T09:09:50.098400Z"
    }
   },
   "source": [
    "# Zugriff auf mehrere Spalten mit einer Liste von Spaltennamen:\n",
    "students_df[[\"Name\", \"Lieblingsfarbe\"]]"
   ],
   "outputs": [
    {
     "data": {
      "text/plain": [
       "     Name Lieblingsfarbe\n",
       "0    Dora        schwarz\n",
       "1     Max            rot\n",
       "2  Andrea           lila"
      ],
      "text/html": [
       "<div>\n",
       "<style scoped>\n",
       "    .dataframe tbody tr th:only-of-type {\n",
       "        vertical-align: middle;\n",
       "    }\n",
       "\n",
       "    .dataframe tbody tr th {\n",
       "        vertical-align: top;\n",
       "    }\n",
       "\n",
       "    .dataframe thead th {\n",
       "        text-align: right;\n",
       "    }\n",
       "</style>\n",
       "<table border=\"1\" class=\"dataframe\">\n",
       "  <thead>\n",
       "    <tr style=\"text-align: right;\">\n",
       "      <th></th>\n",
       "      <th>Name</th>\n",
       "      <th>Lieblingsfarbe</th>\n",
       "    </tr>\n",
       "  </thead>\n",
       "  <tbody>\n",
       "    <tr>\n",
       "      <th>0</th>\n",
       "      <td>Dora</td>\n",
       "      <td>schwarz</td>\n",
       "    </tr>\n",
       "    <tr>\n",
       "      <th>1</th>\n",
       "      <td>Max</td>\n",
       "      <td>rot</td>\n",
       "    </tr>\n",
       "    <tr>\n",
       "      <th>2</th>\n",
       "      <td>Andrea</td>\n",
       "      <td>lila</td>\n",
       "    </tr>\n",
       "  </tbody>\n",
       "</table>\n",
       "</div>"
      ]
     },
     "execution_count": 49,
     "metadata": {},
     "output_type": "execute_result"
    }
   ],
   "execution_count": 49
  },
  {
   "cell_type": "code",
   "metadata": {
    "ExecuteTime": {
     "end_time": "2024-11-12T09:09:50.301374Z",
     "start_time": "2024-11-12T09:09:50.293022Z"
    }
   },
   "source": [
    "# Mit .loc gleiche Indizierung wie bei Numpy\n",
    "students_df.loc[1:, \"Name\"]"
   ],
   "outputs": [
    {
     "data": {
      "text/plain": [
       "1       Max\n",
       "2    Andrea\n",
       "Name: Name, dtype: object"
      ]
     },
     "execution_count": 50,
     "metadata": {},
     "output_type": "execute_result"
    }
   ],
   "execution_count": 50
  },
  {
   "cell_type": "code",
   "metadata": {
    "ExecuteTime": {
     "end_time": "2024-11-12T09:09:50.504957Z",
     "start_time": "2024-11-12T09:09:50.499924Z"
    }
   },
   "source": [
    "# .iloc für Index-Position als Zahl\n",
    "# (0 statt \"Name\")\n",
    "students_df.iloc[:, 0]"
   ],
   "outputs": [
    {
     "data": {
      "text/plain": [
       "0      Dora\n",
       "1       Max\n",
       "2    Andrea\n",
       "Name: Name, dtype: object"
      ]
     },
     "execution_count": 51,
     "metadata": {},
     "output_type": "execute_result"
    }
   ],
   "execution_count": 51
  },
  {
   "cell_type": "markdown",
   "metadata": {},
   "source": [
    "#### Wie kann man mehrere pandas-Serien zu einem DataFrame zusammenführen?"
   ]
  },
  {
   "cell_type": "code",
   "metadata": {
    "ExecuteTime": {
     "end_time": "2024-11-12T09:09:50.754025Z",
     "start_time": "2024-11-12T09:09:50.747423Z"
    }
   },
   "source": [
    "# Erstellen der Series\n",
    "\n",
    "name_series = pd.Series([\"Dora\", \"Max\", \"Andrea\"], name=\"name\")\n",
    "\n",
    "age_series = pd.Series([31, 24, 25], name=\"age\")\n",
    "\n",
    "print(name_series)\n",
    "print()\n",
    "print(age_series)"
   ],
   "outputs": [
    {
     "name": "stdout",
     "output_type": "stream",
     "text": [
      "0      Dora\n",
      "1       Max\n",
      "2    Andrea\n",
      "Name: name, dtype: object\n",
      "\n",
      "0    31\n",
      "1    24\n",
      "2    25\n",
      "Name: age, dtype: int64\n"
     ]
    }
   ],
   "execution_count": 52
  },
  {
   "cell_type": "code",
   "metadata": {
    "ExecuteTime": {
     "end_time": "2024-11-12T09:09:50.939563Z",
     "start_time": "2024-11-12T09:09:50.930523Z"
    }
   },
   "source": [
    "# Mit Hilfe von concat erzeugen wir direkt einen\n",
    "# DataFrame aus den beiden Series:\n",
    "students = pd.concat((name_series, age_series), axis=1)\n",
    "students"
   ],
   "outputs": [
    {
     "data": {
      "text/plain": [
       "     name  age\n",
       "0    Dora   31\n",
       "1     Max   24\n",
       "2  Andrea   25"
      ],
      "text/html": [
       "<div>\n",
       "<style scoped>\n",
       "    .dataframe tbody tr th:only-of-type {\n",
       "        vertical-align: middle;\n",
       "    }\n",
       "\n",
       "    .dataframe tbody tr th {\n",
       "        vertical-align: top;\n",
       "    }\n",
       "\n",
       "    .dataframe thead th {\n",
       "        text-align: right;\n",
       "    }\n",
       "</style>\n",
       "<table border=\"1\" class=\"dataframe\">\n",
       "  <thead>\n",
       "    <tr style=\"text-align: right;\">\n",
       "      <th></th>\n",
       "      <th>name</th>\n",
       "      <th>age</th>\n",
       "    </tr>\n",
       "  </thead>\n",
       "  <tbody>\n",
       "    <tr>\n",
       "      <th>0</th>\n",
       "      <td>Dora</td>\n",
       "      <td>31</td>\n",
       "    </tr>\n",
       "    <tr>\n",
       "      <th>1</th>\n",
       "      <td>Max</td>\n",
       "      <td>24</td>\n",
       "    </tr>\n",
       "    <tr>\n",
       "      <th>2</th>\n",
       "      <td>Andrea</td>\n",
       "      <td>25</td>\n",
       "    </tr>\n",
       "  </tbody>\n",
       "</table>\n",
       "</div>"
      ]
     },
     "execution_count": 53,
     "metadata": {},
     "output_type": "execute_result"
    }
   ],
   "execution_count": 53
  },
  {
   "cell_type": "code",
   "metadata": {
    "ExecuteTime": {
     "end_time": "2024-11-12T09:09:51.110126Z",
     "start_time": "2024-11-12T09:09:51.104551Z"
    }
   },
   "source": [
    "# Oh-oh, zwei neue Studis sind dazugekommen. Wie kriegen wir sie unter?\n",
    "new_student = pd.DataFrame({'name': ['Fred', 'Luise'], 'age': [42, 52]})"
   ],
   "outputs": [],
   "execution_count": 54
  },
  {
   "cell_type": "code",
   "metadata": {
    "ExecuteTime": {
     "end_time": "2024-11-12T09:09:51.227783Z",
     "start_time": "2024-11-12T09:09:51.218858Z"
    }
   },
   "source": [
    "students = pd.concat([students, new_student], ignore_index=True)\n",
    "students"
   ],
   "outputs": [
    {
     "data": {
      "text/plain": [
       "     name  age\n",
       "0    Dora   31\n",
       "1     Max   24\n",
       "2  Andrea   25\n",
       "3    Fred   42\n",
       "4   Luise   52"
      ],
      "text/html": [
       "<div>\n",
       "<style scoped>\n",
       "    .dataframe tbody tr th:only-of-type {\n",
       "        vertical-align: middle;\n",
       "    }\n",
       "\n",
       "    .dataframe tbody tr th {\n",
       "        vertical-align: top;\n",
       "    }\n",
       "\n",
       "    .dataframe thead th {\n",
       "        text-align: right;\n",
       "    }\n",
       "</style>\n",
       "<table border=\"1\" class=\"dataframe\">\n",
       "  <thead>\n",
       "    <tr style=\"text-align: right;\">\n",
       "      <th></th>\n",
       "      <th>name</th>\n",
       "      <th>age</th>\n",
       "    </tr>\n",
       "  </thead>\n",
       "  <tbody>\n",
       "    <tr>\n",
       "      <th>0</th>\n",
       "      <td>Dora</td>\n",
       "      <td>31</td>\n",
       "    </tr>\n",
       "    <tr>\n",
       "      <th>1</th>\n",
       "      <td>Max</td>\n",
       "      <td>24</td>\n",
       "    </tr>\n",
       "    <tr>\n",
       "      <th>2</th>\n",
       "      <td>Andrea</td>\n",
       "      <td>25</td>\n",
       "    </tr>\n",
       "    <tr>\n",
       "      <th>3</th>\n",
       "      <td>Fred</td>\n",
       "      <td>42</td>\n",
       "    </tr>\n",
       "    <tr>\n",
       "      <th>4</th>\n",
       "      <td>Luise</td>\n",
       "      <td>52</td>\n",
       "    </tr>\n",
       "  </tbody>\n",
       "</table>\n",
       "</div>"
      ]
     },
     "execution_count": 55,
     "metadata": {},
     "output_type": "execute_result"
    }
   ],
   "execution_count": 55
  },
  {
   "cell_type": "markdown",
   "metadata": {},
   "source": [
    "### DataFrame beschreiben"
   ]
  },
  {
   "cell_type": "code",
   "metadata": {
    "ExecuteTime": {
     "end_time": "2024-11-12T09:09:51.381386Z",
     "start_time": "2024-11-12T09:09:51.375366Z"
    }
   },
   "source": [
    "# Spaltennamen ausgeben\n",
    "students.columns"
   ],
   "outputs": [
    {
     "data": {
      "text/plain": [
       "Index(['name', 'age'], dtype='object')"
      ]
     },
     "execution_count": 56,
     "metadata": {},
     "output_type": "execute_result"
    }
   ],
   "execution_count": 56
  },
  {
   "cell_type": "code",
   "metadata": {
    "ExecuteTime": {
     "end_time": "2024-11-12T09:09:51.498652Z",
     "start_time": "2024-11-12T09:09:51.491988Z"
    }
   },
   "source": [
    "# Index ausgeben\n",
    "students.index"
   ],
   "outputs": [
    {
     "data": {
      "text/plain": [
       "RangeIndex(start=0, stop=5, step=1)"
      ]
     },
     "execution_count": 57,
     "metadata": {},
     "output_type": "execute_result"
    }
   ],
   "execution_count": 57
  },
  {
   "cell_type": "code",
   "metadata": {
    "ExecuteTime": {
     "end_time": "2024-11-12T09:09:51.574976Z",
     "start_time": "2024-11-12T09:09:51.562567Z"
    }
   },
   "source": [
    "# Kleine Statistik unseres DataFrames mittels .describe()\n",
    "students.describe()\n",
    "# Quizfrage: Wo sind die Namen hin?"
   ],
   "outputs": [
    {
     "data": {
      "text/plain": [
       "             age\n",
       "count   5.000000\n",
       "mean   34.800000\n",
       "std    11.987493\n",
       "min    24.000000\n",
       "25%    25.000000\n",
       "50%    31.000000\n",
       "75%    42.000000\n",
       "max    52.000000"
      ],
      "text/html": [
       "<div>\n",
       "<style scoped>\n",
       "    .dataframe tbody tr th:only-of-type {\n",
       "        vertical-align: middle;\n",
       "    }\n",
       "\n",
       "    .dataframe tbody tr th {\n",
       "        vertical-align: top;\n",
       "    }\n",
       "\n",
       "    .dataframe thead th {\n",
       "        text-align: right;\n",
       "    }\n",
       "</style>\n",
       "<table border=\"1\" class=\"dataframe\">\n",
       "  <thead>\n",
       "    <tr style=\"text-align: right;\">\n",
       "      <th></th>\n",
       "      <th>age</th>\n",
       "    </tr>\n",
       "  </thead>\n",
       "  <tbody>\n",
       "    <tr>\n",
       "      <th>count</th>\n",
       "      <td>5.000000</td>\n",
       "    </tr>\n",
       "    <tr>\n",
       "      <th>mean</th>\n",
       "      <td>34.800000</td>\n",
       "    </tr>\n",
       "    <tr>\n",
       "      <th>std</th>\n",
       "      <td>11.987493</td>\n",
       "    </tr>\n",
       "    <tr>\n",
       "      <th>min</th>\n",
       "      <td>24.000000</td>\n",
       "    </tr>\n",
       "    <tr>\n",
       "      <th>25%</th>\n",
       "      <td>25.000000</td>\n",
       "    </tr>\n",
       "    <tr>\n",
       "      <th>50%</th>\n",
       "      <td>31.000000</td>\n",
       "    </tr>\n",
       "    <tr>\n",
       "      <th>75%</th>\n",
       "      <td>42.000000</td>\n",
       "    </tr>\n",
       "    <tr>\n",
       "      <th>max</th>\n",
       "      <td>52.000000</td>\n",
       "    </tr>\n",
       "  </tbody>\n",
       "</table>\n",
       "</div>"
      ]
     },
     "execution_count": 58,
     "metadata": {},
     "output_type": "execute_result"
    }
   ],
   "execution_count": 58
  },
  {
   "cell_type": "markdown",
   "metadata": {},
   "source": [
    "## Übungsaufgabe DataFrame mit Pandas\n",
    "\n",
    "Du interessierst dich dafür, wie viel Zeit  bei deinen Lieblingssportarten eigentlich wirklich gespielt wird.\n",
    "\n",
    "Du bist Fan von den Sportarten: Fussball, Basketball, Handball, Eishockey und (American) Football.\n",
    "\n",
    "Die offiziellen Spielzeiten für diese Sportarten sind (in Minuten) 90, 48, 60, 60 und 60. Erstelle daraus eine Series mit passendem Index.\n",
    "\n",
    "Die Nettospielzeiten der Sportarten belaufen sich auf folgende Zeiten (in Minuten) 57, 43, 48, 60 und 11. Erstelle auch daraus eine Series mit passendem Index.\n",
    "\n",
    "Berechne die absolute und prozentuale Abweichung von Nettospielzeit zu normaler Spielzeit und erstelle für beides eine Series.\n",
    "\n",
    "Verbinde ALLE 4 Series zu einem gemeinsamen DataFrame (in welchem alle Spalten ordentlich benannt sind) und beantworte schließlich die Frage: Wie viele Minuten werden im Schnitt bei deinen Lieblingssportarten verschenkt?\n",
    "\n",
    "Erwartete Ausgabe:\n",
    "\"Durch. Abweichung in Minuten = XX.X\"\n",
    "\n",
    "Lass dir außerdem dein DataFrame anzeigen."
   ]
  },
  {
   "cell_type": "code",
   "metadata": {
    "ExecuteTime": {
     "end_time": "2024-11-12T11:53:05.527361Z",
     "start_time": "2024-11-12T11:53:05.522086Z"
    }
   },
   "source": [
    "official_playtime = pd.Series([90, 48, 60, 60, 60], index=[\"Fussball\", \"Basketball\", \"Handball\", \"Eishockey\", \"Football\"])\n",
    "net_playtime = pd.Series([57, 43, 48, 60, 11], index=[\"Fussball\", \"Basketball\", \"Handball\", \"Eishockey\", \"Football\"])\n",
    "diff_absolute = official_playtime - net_playtime\n",
    "diff_percentage = (diff_absolute / official_playtime) * 100\n",
    "\n",
    "sports_df = pd.DataFrame({\"Official PlayTime\": official_playtime,\n",
    "                          \"Net PlayTime\": net_playtime,\n",
    "                          \"Absolute Difference\": diff_absolute,\n",
    "                          \"% Difference\": diff_percentage})\n",
    "\n",
    "fav_sports = [\"Fussball\", \"Football\"]\n",
    "avg_diff = sports_df.loc[fav_sports, \"Absolute Difference\"].mean()"
   ],
   "outputs": [],
   "execution_count": 97
  },
  {
   "metadata": {
    "ExecuteTime": {
     "end_time": "2024-11-12T11:54:13.354599Z",
     "start_time": "2024-11-12T11:54:13.350549Z"
    }
   },
   "cell_type": "code",
   "source": "print(f\"avg Difference : {avg_diff:.1f} minutes\")",
   "outputs": [
    {
     "name": "stdout",
     "output_type": "stream",
     "text": [
      "avg Difference : 41.0 minutes\n"
     ]
    }
   ],
   "execution_count": 102
  },
  {
   "metadata": {
    "ExecuteTime": {
     "end_time": "2024-11-12T11:54:10.267598Z",
     "start_time": "2024-11-12T11:54:10.260548Z"
    }
   },
   "cell_type": "code",
   "source": "sports_df",
   "outputs": [
    {
     "data": {
      "text/plain": [
       "            Official PlayTime  Net PlayTime  Absolute Difference  % Difference\n",
       "Fussball                   90            57                   33     36.666667\n",
       "Basketball                 48            43                    5     10.416667\n",
       "Handball                   60            48                   12     20.000000\n",
       "Eishockey                  60            60                    0      0.000000\n",
       "Football                   60            11                   49     81.666667"
      ],
      "text/html": [
       "<div>\n",
       "<style scoped>\n",
       "    .dataframe tbody tr th:only-of-type {\n",
       "        vertical-align: middle;\n",
       "    }\n",
       "\n",
       "    .dataframe tbody tr th {\n",
       "        vertical-align: top;\n",
       "    }\n",
       "\n",
       "    .dataframe thead th {\n",
       "        text-align: right;\n",
       "    }\n",
       "</style>\n",
       "<table border=\"1\" class=\"dataframe\">\n",
       "  <thead>\n",
       "    <tr style=\"text-align: right;\">\n",
       "      <th></th>\n",
       "      <th>Official PlayTime</th>\n",
       "      <th>Net PlayTime</th>\n",
       "      <th>Absolute Difference</th>\n",
       "      <th>% Difference</th>\n",
       "    </tr>\n",
       "  </thead>\n",
       "  <tbody>\n",
       "    <tr>\n",
       "      <th>Fussball</th>\n",
       "      <td>90</td>\n",
       "      <td>57</td>\n",
       "      <td>33</td>\n",
       "      <td>36.666667</td>\n",
       "    </tr>\n",
       "    <tr>\n",
       "      <th>Basketball</th>\n",
       "      <td>48</td>\n",
       "      <td>43</td>\n",
       "      <td>5</td>\n",
       "      <td>10.416667</td>\n",
       "    </tr>\n",
       "    <tr>\n",
       "      <th>Handball</th>\n",
       "      <td>60</td>\n",
       "      <td>48</td>\n",
       "      <td>12</td>\n",
       "      <td>20.000000</td>\n",
       "    </tr>\n",
       "    <tr>\n",
       "      <th>Eishockey</th>\n",
       "      <td>60</td>\n",
       "      <td>60</td>\n",
       "      <td>0</td>\n",
       "      <td>0.000000</td>\n",
       "    </tr>\n",
       "    <tr>\n",
       "      <th>Football</th>\n",
       "      <td>60</td>\n",
       "      <td>11</td>\n",
       "      <td>49</td>\n",
       "      <td>81.666667</td>\n",
       "    </tr>\n",
       "  </tbody>\n",
       "</table>\n",
       "</div>"
      ]
     },
     "execution_count": 101,
     "metadata": {},
     "output_type": "execute_result"
    }
   ],
   "execution_count": 101
  }
 ],
 "metadata": {
  "kernelspec": {
   "display_name": "Python 3",
   "language": "python",
   "name": "python3"
  },
  "language_info": {
   "codemirror_mode": {
    "name": "ipython",
    "version": 3
   },
   "file_extension": ".py",
   "mimetype": "text/x-python",
   "name": "python",
   "nbconvert_exporter": "python",
   "pygments_lexer": "ipython3",
   "version": "3.10.12"
  }
 },
 "nbformat": 4,
 "nbformat_minor": 2
}
