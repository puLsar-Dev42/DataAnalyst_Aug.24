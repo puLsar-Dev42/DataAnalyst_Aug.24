{
 "cells": [
  {
   "cell_type": "markdown",
   "metadata": {
    "collapsed": false,
    "id": "WThhvr2WHaeE"
   },
   "source": [
    "# Tagesaufgaben: APIs und Pandas\n",
    "\n",
    "<hr>"
   ]
  },
  {
   "cell_type": "code",
   "metadata": {
    "ExecuteTime": {
     "end_time": "2025-01-14T16:14:02.858761Z",
     "start_time": "2025-01-14T16:14:02.847602Z"
    }
   },
   "source": [
    "# Um die Aufgaben lösen zu können, muss bei den drei\n",
    "# Websites ninja api, open weather und api layer (fixer api)\n",
    "# ein kostenloser Account erstellt werden und der apikey\n",
    "# im Skript hinterlegt werden (Klartext, Umgebungsvariable oder\n",
    "# config.ini). Hier gelöst mit config.ini Datei"
   ],
   "outputs": [],
   "execution_count": 1
  },
  {
   "metadata": {
    "ExecuteTime": {
     "end_time": "2025-01-20T12:18:38.329678Z",
     "start_time": "2025-01-20T12:18:38.324006Z"
    }
   },
   "cell_type": "code",
   "source": [
    "import requests\n",
    "import pandas as pd\n",
    "from configparser import ConfigParser"
   ],
   "outputs": [],
   "execution_count": 4
  },
  {
   "metadata": {
    "ExecuteTime": {
     "end_time": "2025-01-20T12:18:39.914240Z",
     "start_time": "2025-01-20T12:18:39.908229Z"
    }
   },
   "cell_type": "code",
   "source": [
    "config = ConfigParser()\n",
    "config.read(\"apiconfig.ini\")\n",
    "api_layer_key = config['api_keys']['apilayer']"
   ],
   "outputs": [],
   "execution_count": 5
  },
  {
   "cell_type": "markdown",
   "metadata": {
    "collapsed": false,
    "id": "qzgAE0buHaeI"
   },
   "source": [
    "## Aufgabe 1 - APIs abrufen, JSON und Pandas"
   ]
  },
  {
   "cell_type": "markdown",
   "metadata": {
    "collapsed": false,
    "id": "7-QY2z1IHaeI"
   },
   "source": [
    "**a)** Konvertiere die angegebene JSON Datei in einen Pandas Dataframe."
   ]
  },
  {
   "cell_type": "code",
   "metadata": {
    "id": "Mz95Alt9HaeJ",
    "ExecuteTime": {
     "end_time": "2025-01-20T12:20:16.941615Z",
     "start_time": "2025-01-20T12:20:16.936256Z"
    }
   },
   "source": [
    "data = '''\n",
    "{\n",
    "\"technologies\":\n",
    "         [\n",
    "         { \"Courses\": \"Spark\", \"Fee\": 22000,\"Duration\":\"40Days\"},\n",
    "         { \"Courses\": \"PySpark\",\"Fee\": 25000,\"Duration\":\"60Days\"},\n",
    "         { \"Courses\": \"Hadoop\", \"Fee\": 23000,\"Duration\":\"50Days\"}\n",
    "         ],\n",
    "\"status\": [\"ok\"]\n",
    "}\n",
    "'''"
   ],
   "outputs": [],
   "execution_count": 10
  },
  {
   "metadata": {
    "ExecuteTime": {
     "end_time": "2025-01-20T12:34:52.350001Z",
     "start_time": "2025-01-20T12:34:52.342488Z"
    }
   },
   "cell_type": "code",
   "source": [
    "data = {\n",
    "\t\"technologies\":\n",
    "\t\t[\n",
    "\t\t\t{\"Courses\": \"Spark\", \"Fee\": 22000, \"Duration\": \"40Days\"},\n",
    "\t\t\t{\"Courses\": \"PySpark\", \"Fee\": 25000, \"Duration\": \"60Days\"},\n",
    "\t\t\t{\"Courses\": \"Hadoop\", \"Fee\": 23000, \"Duration\": \"50Days\"}\n",
    "\t\t],\n",
    "\t\"status\": [\"ok\"]\n",
    "}"
   ],
   "outputs": [],
   "execution_count": 20
  },
  {
   "metadata": {
    "ExecuteTime": {
     "end_time": "2025-01-20T12:35:15.634512Z",
     "start_time": "2025-01-20T12:35:15.624552Z"
    }
   },
   "cell_type": "code",
   "source": [
    "df1 = pd.DataFrame(data[\"technologies\"])\n",
    "df1"
   ],
   "outputs": [
    {
     "data": {
      "text/plain": [
       "   Courses    Fee Duration\n",
       "0    Spark  22000   40Days\n",
       "1  PySpark  25000   60Days\n",
       "2   Hadoop  23000   50Days"
      ],
      "text/html": [
       "<div>\n",
       "<style scoped>\n",
       "    .dataframe tbody tr th:only-of-type {\n",
       "        vertical-align: middle;\n",
       "    }\n",
       "\n",
       "    .dataframe tbody tr th {\n",
       "        vertical-align: top;\n",
       "    }\n",
       "\n",
       "    .dataframe thead th {\n",
       "        text-align: right;\n",
       "    }\n",
       "</style>\n",
       "<table border=\"1\" class=\"dataframe\">\n",
       "  <thead>\n",
       "    <tr style=\"text-align: right;\">\n",
       "      <th></th>\n",
       "      <th>Courses</th>\n",
       "      <th>Fee</th>\n",
       "      <th>Duration</th>\n",
       "    </tr>\n",
       "  </thead>\n",
       "  <tbody>\n",
       "    <tr>\n",
       "      <th>0</th>\n",
       "      <td>Spark</td>\n",
       "      <td>22000</td>\n",
       "      <td>40Days</td>\n",
       "    </tr>\n",
       "    <tr>\n",
       "      <th>1</th>\n",
       "      <td>PySpark</td>\n",
       "      <td>25000</td>\n",
       "      <td>60Days</td>\n",
       "    </tr>\n",
       "    <tr>\n",
       "      <th>2</th>\n",
       "      <td>Hadoop</td>\n",
       "      <td>23000</td>\n",
       "      <td>50Days</td>\n",
       "    </tr>\n",
       "  </tbody>\n",
       "</table>\n",
       "</div>"
      ]
     },
     "execution_count": 22,
     "metadata": {},
     "output_type": "execute_result"
    }
   ],
   "execution_count": 22
  },
  {
   "metadata": {
    "ExecuteTime": {
     "end_time": "2025-01-20T12:35:28.039938Z",
     "start_time": "2025-01-20T12:35:28.029654Z"
    }
   },
   "cell_type": "code",
   "source": [
    "df2 = pd.json_normalize(data, record_path=\"technologies\", meta=[\"status\"])\n",
    "df2"
   ],
   "outputs": [
    {
     "data": {
      "text/plain": [
       "   Courses    Fee Duration status\n",
       "0    Spark  22000   40Days   [ok]\n",
       "1  PySpark  25000   60Days   [ok]\n",
       "2   Hadoop  23000   50Days   [ok]"
      ],
      "text/html": [
       "<div>\n",
       "<style scoped>\n",
       "    .dataframe tbody tr th:only-of-type {\n",
       "        vertical-align: middle;\n",
       "    }\n",
       "\n",
       "    .dataframe tbody tr th {\n",
       "        vertical-align: top;\n",
       "    }\n",
       "\n",
       "    .dataframe thead th {\n",
       "        text-align: right;\n",
       "    }\n",
       "</style>\n",
       "<table border=\"1\" class=\"dataframe\">\n",
       "  <thead>\n",
       "    <tr style=\"text-align: right;\">\n",
       "      <th></th>\n",
       "      <th>Courses</th>\n",
       "      <th>Fee</th>\n",
       "      <th>Duration</th>\n",
       "      <th>status</th>\n",
       "    </tr>\n",
       "  </thead>\n",
       "  <tbody>\n",
       "    <tr>\n",
       "      <th>0</th>\n",
       "      <td>Spark</td>\n",
       "      <td>22000</td>\n",
       "      <td>40Days</td>\n",
       "      <td>[ok]</td>\n",
       "    </tr>\n",
       "    <tr>\n",
       "      <th>1</th>\n",
       "      <td>PySpark</td>\n",
       "      <td>25000</td>\n",
       "      <td>60Days</td>\n",
       "      <td>[ok]</td>\n",
       "    </tr>\n",
       "    <tr>\n",
       "      <th>2</th>\n",
       "      <td>Hadoop</td>\n",
       "      <td>23000</td>\n",
       "      <td>50Days</td>\n",
       "      <td>[ok]</td>\n",
       "    </tr>\n",
       "  </tbody>\n",
       "</table>\n",
       "</div>"
      ]
     },
     "execution_count": 24,
     "metadata": {},
     "output_type": "execute_result"
    }
   ],
   "execution_count": 24
  },
  {
   "cell_type": "markdown",
   "metadata": {
    "collapsed": false,
    "id": "9mylseN3HaeL"
   },
   "source": [
    "**b)** In dieser Aufgabe rufen wir die Daten aus verschiedenen Währungen von der aus der Vorlesung bekannten Fixer API ab https://apilayer.com/marketplace/fixer-api\n",
    "\n",
    "Unten steht bereits eine Funktion, welche mithilfe des Requests-Moduls die Wechselraten verschiedener Währungen über die letzten 30 Tage ausgibt. \n",
    "\n",
    "- Beschreibe in den Zeilen mit \"Kommentar1\" bis \"Kommentar4\" jeweils kurz, was in den jeweils vorherigen Schritten der Funktion passiert.\n",
    "- Ändere die Funktion so, dass nicht nur Werte für 30 Tage zurückgegeben werden, sondern für beliebig viele Tage. Führe anschließend die geänderte Funktion aus und gebe deinen API key ein!\n"
   ]
  },
  {
   "cell_type": "code",
   "metadata": {
    "ExecuteTime": {
     "end_time": "2025-01-20T13:15:28.156609Z",
     "start_time": "2025-01-20T13:15:28.150143Z"
    }
   },
   "source": [
    "import requests\n",
    "from datetime import timedelta, date\n",
    "from pprint import pprint\n",
    "\n",
    "config = ConfigParser()\n",
    "config.read(\"apiconfig.ini\")\n",
    "api_layer_key = config['api_keys']['apilayer']\n",
    "\n",
    "\n",
    "def get_rates1(currencies):\n",
    "\trequest_url = f\"https://api.apilayer.com/fixer/timeseries\"\n",
    "\tapi_key = config['api_keys']['apilayer']\n",
    "\t# Kommentar1: API endpunkt festlegen, aufforderung zur API_KEY eingabe\n",
    "\n",
    "\tend_date = date.today()\n",
    "\tstart_date = end_date - timedelta(30)\n",
    "\tsymbols = ','.join(currencies)\n",
    "\t# Kommentar2: festlegen von end_date = heute und von start_date = end_date - 30Tage, also 30 Tage zuvor\n",
    "\t# Währungs-zeichen werden per join, durch Komma gertrennt, zusammengefügt\n",
    "\n",
    "\tr = requests.get(request_url,\n",
    "\t\t\t\t\t params={\"start_date\": start_date, \"end_date\": end_date, \"symbols\": [symbols]},\n",
    "\t\t\t\t\t headers={\"apikey\": api_key})\n",
    "\tprint(r.url)\n",
    "\t# Kommentar3: Anfragen an die API\n",
    "\t# Parameter werden als URL-Parameter übergeben\n",
    "\t# API_KEY im Header zur Authentifizierung\n",
    "\t# Ausgabe URL mit Parametern\n",
    "\n",
    "\tif not r:\n",
    "\t\treturn 'Request was not successful'\n",
    "\n",
    "\tapi_rates = r.json()\n",
    "\tpprint(api_rates)\n",
    "\n",
    "# Kommentar4: wenn ein Fehler auftritt kommt entsprechender print() Befehl\n",
    "# wenn kein Fehler auftritt, wird die response in json(), als dict umgewandelt\n",
    "# und per print() ausgegeben"
   ],
   "outputs": [],
   "execution_count": 35
  },
  {
   "metadata": {
    "ExecuteTime": {
     "end_time": "2025-01-20T13:15:31.665120Z",
     "start_time": "2025-01-20T13:15:31.055031Z"
    }
   },
   "cell_type": "code",
   "source": "get_rates1([\"USD\", \"EUR\"])",
   "outputs": [
    {
     "name": "stdout",
     "output_type": "stream",
     "text": [
      "https://api.apilayer.com/fixer/timeseries?start_date=2024-12-21&end_date=2025-01-20&symbols=USD%2CEUR\n",
      "{'base': 'EUR',\n",
      " 'end_date': '2025-01-20',\n",
      " 'rates': {'2024-12-21': {'EUR': 1, 'USD': 1.043024},\n",
      "           '2024-12-22': {'EUR': 1, 'USD': 1.04327},\n",
      "           '2024-12-23': {'EUR': 1, 'USD': 1.04042},\n",
      "           '2024-12-24': {'EUR': 1, 'USD': 1.040148},\n",
      "           '2024-12-25': {'EUR': 1, 'USD': 1.039885},\n",
      "           '2024-12-26': {'EUR': 1, 'USD': 1.042155},\n",
      "           '2024-12-27': {'EUR': 1, 'USD': 1.042857},\n",
      "           '2024-12-28': {'EUR': 1, 'USD': 1.042857},\n",
      "           '2024-12-29': {'EUR': 1, 'USD': 1.0429},\n",
      "           '2024-12-30': {'EUR': 1, 'USD': 1.040566},\n",
      "           '2024-12-31': {'EUR': 1, 'USD': 1.040566},\n",
      "           '2025-01-01': {'EUR': 1, 'USD': 1.035138},\n",
      "           '2025-01-02': {'EUR': 1, 'USD': 1.026763},\n",
      "           '2025-01-03': {'EUR': 1, 'USD': 1.031349},\n",
      "           '2025-01-04': {'EUR': 1, 'USD': 1.031349},\n",
      "           '2025-01-05': {'EUR': 1, 'USD': 1.030492},\n",
      "           '2025-01-06': {'EUR': 1, 'USD': 1.038475},\n",
      "           '2025-01-07': {'EUR': 1, 'USD': 1.03445},\n",
      "           '2025-01-08': {'EUR': 1, 'USD': 1.031428},\n",
      "           '2025-01-09': {'EUR': 1, 'USD': 1.029691},\n",
      "           '2025-01-10': {'EUR': 1, 'USD': 1.025483},\n",
      "           '2025-01-11': {'EUR': 1, 'USD': 1.025483},\n",
      "           '2025-01-12': {'EUR': 1, 'USD': 1.024401},\n",
      "           '2025-01-13': {'EUR': 1, 'USD': 1.026485},\n",
      "           '2025-01-14': {'EUR': 1, 'USD': 1.03063},\n",
      "           '2025-01-15': {'EUR': 1, 'USD': 1.029485},\n",
      "           '2025-01-16': {'EUR': 1, 'USD': 1.030153},\n",
      "           '2025-01-17': {'EUR': 1, 'USD': 1.031512},\n",
      "           '2025-01-18': {'EUR': 1, 'USD': 1.031512},\n",
      "           '2025-01-19': {'EUR': 1, 'USD': 1.027707},\n",
      "           '2025-01-20': {'EUR': 1, 'USD': 1.030683}},\n",
      " 'start_date': '2024-12-21',\n",
      " 'success': True,\n",
      " 'timeseries': True}\n"
     ]
    }
   ],
   "execution_count": 36
  },
  {
   "metadata": {
    "ExecuteTime": {
     "end_time": "2025-01-20T13:17:27.282925Z",
     "start_time": "2025-01-20T13:17:27.275557Z"
    }
   },
   "cell_type": "code",
   "source": [
    "config = ConfigParser()\n",
    "config.read(\"apiconfig.ini\")\n",
    "api_layer_key = config['api_keys']['apilayer']\n",
    "\n",
    "\n",
    "def get_rates2(currencies, days):\n",
    "\trequest_url = f\"https://api.apilayer.com/fixer/timeseries\"\n",
    "\tapi_key = config['api_keys']['apilayer']\n",
    "\t# Kommentar1: API endpunkt festlegen, aufforderung zur API_KEY eingabe\n",
    "\n",
    "\tend_date = date.today()\n",
    "\tstart_date = end_date - timedelta(days=days)\n",
    "\tsymbols = ','.join(currencies)\n",
    "\t# Kommentar2: festlegen von end_date = heute und von start_date = end_date - days=days, also days wird auch als Parameter entgegen genommen\n",
    "\t# Währungs-zeichen werden per join, durch Komma gertrennt, zusammengefügt\n",
    "\n",
    "\tr = requests.get(request_url,\n",
    "\t\t\t\t\t params={\"start_date\": start_date, \"end_date\": end_date, \"symbols\": [symbols]},\n",
    "\t\t\t\t\t headers={\"apikey\": api_key})\n",
    "\tprint(r.url)\n",
    "\t# Kommentar3: Anfragen an die API\n",
    "\t# Parameter werden als URL-Parameter übergeben\n",
    "\t# API_KEY im Header zur Authentifizierung\n",
    "\t# Ausgabe URL mit Parametern\n",
    "\n",
    "\tif not r:\n",
    "\t\treturn 'Request was not successful'\n",
    "\n",
    "\tapi_rates = r.json()\n",
    "\tpprint(api_rates)\n",
    "\n",
    "# Kommentar4: wenn ein Fehler auftritt kommt entsprechender print() Befehl\n",
    "# wenn kein Fehler auftritt, wird die response in json(), als dict umgewandelt\n",
    "# und per print() ausgegeben"
   ],
   "outputs": [],
   "execution_count": 37
  },
  {
   "metadata": {
    "ExecuteTime": {
     "end_time": "2025-01-20T13:17:31.133951Z",
     "start_time": "2025-01-20T13:17:30.568965Z"
    }
   },
   "cell_type": "code",
   "source": "get_rates2([\"USD\", \"EUR\"], 100)",
   "outputs": [
    {
     "name": "stdout",
     "output_type": "stream",
     "text": [
      "https://api.apilayer.com/fixer/timeseries?start_date=2024-10-12&end_date=2025-01-20&symbols=USD%2CEUR\n",
      "{'base': 'EUR',\n",
      " 'end_date': '2025-01-20',\n",
      " 'rates': {'2024-10-12': {'EUR': 1, 'USD': 1.09487},\n",
      "           '2024-10-13': {'EUR': 1, 'USD': 1.092359},\n",
      "           '2024-10-14': {'EUR': 1, 'USD': 1.090893},\n",
      "           '2024-10-15': {'EUR': 1, 'USD': 1.088388},\n",
      "           '2024-10-16': {'EUR': 1, 'USD': 1.086071},\n",
      "           '2024-10-17': {'EUR': 1, 'USD': 1.082907},\n",
      "           '2024-10-18': {'EUR': 1, 'USD': 1.087424},\n",
      "           '2024-10-19': {'EUR': 1, 'USD': 1.087424},\n",
      "           '2024-10-20': {'EUR': 1, 'USD': 1.086744},\n",
      "           '2024-10-21': {'EUR': 1, 'USD': 1.081663},\n",
      "           '2024-10-22': {'EUR': 1, 'USD': 1.079704},\n",
      "           '2024-10-23': {'EUR': 1, 'USD': 1.078016},\n",
      "           '2024-10-24': {'EUR': 1, 'USD': 1.082426},\n",
      "           '2024-10-25': {'EUR': 1, 'USD': 1.079971},\n",
      "           '2024-10-26': {'EUR': 1, 'USD': 1.079971},\n",
      "           '2024-10-27': {'EUR': 1, 'USD': 1.079622},\n",
      "           '2024-10-28': {'EUR': 1, 'USD': 1.081642},\n",
      "           '2024-10-29': {'EUR': 1, 'USD': 1.082041},\n",
      "           '2024-10-30': {'EUR': 1, 'USD': 1.085883},\n",
      "           '2024-10-31': {'EUR': 1, 'USD': 1.08838},\n",
      "           '2024-11-01': {'EUR': 1, 'USD': 1.08808},\n",
      "           '2024-11-02': {'EUR': 1, 'USD': 1.08808},\n",
      "           '2024-11-03': {'EUR': 1, 'USD': 1.087406},\n",
      "           '2024-11-04': {'EUR': 1, 'USD': 1.087426},\n",
      "           '2024-11-05': {'EUR': 1, 'USD': 1.093267},\n",
      "           '2024-11-06': {'EUR': 1, 'USD': 1.073226},\n",
      "           '2024-11-07': {'EUR': 1, 'USD': 1.079482},\n",
      "           '2024-11-08': {'EUR': 1, 'USD': 1.072266},\n",
      "           '2024-11-09': {'EUR': 1, 'USD': 1.072266},\n",
      "           '2024-11-10': {'EUR': 1, 'USD': 1.071455},\n",
      "           '2024-11-11': {'EUR': 1, 'USD': 1.066269},\n",
      "           '2024-11-12': {'EUR': 1, 'USD': 1.06165},\n",
      "           '2024-11-13': {'EUR': 1, 'USD': 1.05639},\n",
      "           '2024-11-14': {'EUR': 1, 'USD': 1.052753},\n",
      "           '2024-11-15': {'EUR': 1, 'USD': 1.054463},\n",
      "           '2024-11-16': {'EUR': 1, 'USD': 1.054463},\n",
      "           '2024-11-17': {'EUR': 1, 'USD': 1.053347},\n",
      "           '2024-11-18': {'EUR': 1, 'USD': 1.05953},\n",
      "           '2024-11-19': {'EUR': 1, 'USD': 1.06062},\n",
      "           '2024-11-20': {'EUR': 1, 'USD': 1.05458},\n",
      "           '2024-11-21': {'EUR': 1, 'USD': 1.046885},\n",
      "           '2024-11-22': {'EUR': 1, 'USD': 1.041829},\n",
      "           '2024-11-23': {'EUR': 1, 'USD': 1.041829},\n",
      "           '2024-11-24': {'EUR': 1, 'USD': 1.047696},\n",
      "           '2024-11-25': {'EUR': 1, 'USD': 1.046206},\n",
      "           '2024-11-26': {'EUR': 1, 'USD': 1.049081},\n",
      "           '2024-11-27': {'EUR': 1, 'USD': 1.056239},\n",
      "           '2024-11-28': {'EUR': 1, 'USD': 1.056134},\n",
      "           '2024-11-29': {'EUR': 1, 'USD': 1.057921},\n",
      "           '2024-11-30': {'EUR': 1, 'USD': 1.057921},\n",
      "           '2024-12-01': {'EUR': 1, 'USD': 1.054429},\n",
      "           '2024-12-02': {'EUR': 1, 'USD': 1.050062},\n",
      "           '2024-12-03': {'EUR': 1, 'USD': 1.051022},\n",
      "           '2024-12-04': {'EUR': 1, 'USD': 1.051248},\n",
      "           '2024-12-05': {'EUR': 1, 'USD': 1.058531},\n",
      "           '2024-12-06': {'EUR': 1, 'USD': 1.057585},\n",
      "           '2024-12-07': {'EUR': 1, 'USD': 1.057585},\n",
      "           '2024-12-08': {'EUR': 1, 'USD': 1.056518},\n",
      "           '2024-12-09': {'EUR': 1, 'USD': 1.055493},\n",
      "           '2024-12-10': {'EUR': 1, 'USD': 1.053131},\n",
      "           '2024-12-11': {'EUR': 1, 'USD': 1.050624},\n",
      "           '2024-12-12': {'EUR': 1, 'USD': 1.047356},\n",
      "           '2024-12-13': {'EUR': 1, 'USD': 1.050475},\n",
      "           '2024-12-14': {'EUR': 1, 'USD': 1.050475},\n",
      "           '2024-12-15': {'EUR': 1, 'USD': 1.050956},\n",
      "           '2024-12-16': {'EUR': 1, 'USD': 1.051685},\n",
      "           '2024-12-17': {'EUR': 1, 'USD': 1.049478},\n",
      "           '2024-12-18': {'EUR': 1, 'USD': 1.034988},\n",
      "           '2024-12-19': {'EUR': 1, 'USD': 1.036447},\n",
      "           '2024-12-20': {'EUR': 1, 'USD': 1.043024},\n",
      "           '2024-12-21': {'EUR': 1, 'USD': 1.043024},\n",
      "           '2024-12-22': {'EUR': 1, 'USD': 1.04327},\n",
      "           '2024-12-23': {'EUR': 1, 'USD': 1.04042},\n",
      "           '2024-12-24': {'EUR': 1, 'USD': 1.040148},\n",
      "           '2024-12-25': {'EUR': 1, 'USD': 1.039885},\n",
      "           '2024-12-26': {'EUR': 1, 'USD': 1.042155},\n",
      "           '2024-12-27': {'EUR': 1, 'USD': 1.042857},\n",
      "           '2024-12-28': {'EUR': 1, 'USD': 1.042857},\n",
      "           '2024-12-29': {'EUR': 1, 'USD': 1.0429},\n",
      "           '2024-12-30': {'EUR': 1, 'USD': 1.040566},\n",
      "           '2024-12-31': {'EUR': 1, 'USD': 1.040566},\n",
      "           '2025-01-01': {'EUR': 1, 'USD': 1.035138},\n",
      "           '2025-01-02': {'EUR': 1, 'USD': 1.026763},\n",
      "           '2025-01-03': {'EUR': 1, 'USD': 1.031349},\n",
      "           '2025-01-04': {'EUR': 1, 'USD': 1.031349},\n",
      "           '2025-01-05': {'EUR': 1, 'USD': 1.030492},\n",
      "           '2025-01-06': {'EUR': 1, 'USD': 1.038475},\n",
      "           '2025-01-07': {'EUR': 1, 'USD': 1.03445},\n",
      "           '2025-01-08': {'EUR': 1, 'USD': 1.031428},\n",
      "           '2025-01-09': {'EUR': 1, 'USD': 1.029691},\n",
      "           '2025-01-10': {'EUR': 1, 'USD': 1.025483},\n",
      "           '2025-01-11': {'EUR': 1, 'USD': 1.025483},\n",
      "           '2025-01-12': {'EUR': 1, 'USD': 1.024401},\n",
      "           '2025-01-13': {'EUR': 1, 'USD': 1.026485},\n",
      "           '2025-01-14': {'EUR': 1, 'USD': 1.03063},\n",
      "           '2025-01-15': {'EUR': 1, 'USD': 1.029485},\n",
      "           '2025-01-16': {'EUR': 1, 'USD': 1.030153},\n",
      "           '2025-01-17': {'EUR': 1, 'USD': 1.031512},\n",
      "           '2025-01-18': {'EUR': 1, 'USD': 1.031512},\n",
      "           '2025-01-19': {'EUR': 1, 'USD': 1.027707},\n",
      "           '2025-01-20': {'EUR': 1, 'USD': 1.030683}},\n",
      " 'start_date': '2024-10-12',\n",
      " 'success': True,\n",
      " 'timeseries': True}\n"
     ]
    }
   ],
   "execution_count": 38
  },
  {
   "cell_type": "markdown",
   "metadata": {
    "collapsed": false,
    "id": "ZhCoUfJ-HaeM"
   },
   "source": [
    "**c)** Registriere dich auf der Website https://api-ninjas.com. Diese Website bietet 50.000 kostenlose Abfragen im Monat und bietet eine Vielzahl an verschiedenen APIs zum testen an. Du kannst deine DataCraft-Email-Adresse verwenden und musst nicht unbedingt deinen Namen angeben.\n",
    "\n",
    "- Suche auf der api-ninjas Website die dictionary API und schreibe Code, mit dem du mittels der API erfolgreich die Definition eines Wortes ausgeben lässt.\n"
   ]
  },
  {
   "metadata": {
    "ExecuteTime": {
     "end_time": "2025-01-20T13:31:01.182207Z",
     "start_time": "2025-01-20T13:31:00.545245Z"
    }
   },
   "cell_type": "code",
   "source": [
    "config = ConfigParser()\n",
    "config.read(\"apiconfig.ini\")\n",
    "api_ninjas_key = config['api_keys']['api_ninjas']\n",
    "\n",
    "req_url = f\"https://api.api-ninjas.com/v1/dictionary?word=singularity\"\n",
    "resp = requests.get(req_url, headers={'X-Api-Key': api_ninjas_key})\n",
    "data = resp.json()\n",
    "data"
   ],
   "outputs": [
    {
     "data": {
      "text/plain": [
       "{'definition': '1. The quality or state of being singular; some character or quality of a thing by which it is distinguished from all, or from most, others; peculiarity. Pliny addeth this singularity to that soil, that the second year the very falling down of the seeds yieldeth corn. Sir. W. Raleigh. I took notice of this little figure for the singularity of the instrument. Addison. 2. Anything singular, rare, or curious. Your gallery Have we passed through, not without much content In many singularities. Shak. 3. Possession of a particular or exclusive privilege, prerogative, or distinction. No bishop of Rome ever took upon him this name of singularity [universal bishop]. Hooker. Catholicism . . . must be understood in opposition to the legal singularity of the Jewish nation. Bp. Pearson. 4. Celibacy. [Obs.] Jer. Taylor.',\n",
       " 'word': 'singularity',\n",
       " 'valid': True}"
      ]
     },
     "execution_count": 49,
     "metadata": {},
     "output_type": "execute_result"
    }
   ],
   "execution_count": 49
  },
  {
   "cell_type": "markdown",
   "metadata": {
    "collapsed": false,
    "id": "6No2vdKnHaeN"
   },
   "source": [
    "**d)** Schreibe für den Code aus Aufgabe 1 c) eine Funktion, sodass du anschließend nur noch die Funktion aufrufen musst, um dir eine Definition ausgeben zu lassen. Lass dir nur eine Ausgabe ausgeben, wenn der eingegebene Parameter ein Wort ist.\n"
   ]
  },
  {
   "metadata": {
    "ExecuteTime": {
     "end_time": "2025-01-20T13:51:10.540950Z",
     "start_time": "2025-01-20T13:51:09.907560Z"
    }
   },
   "cell_type": "code",
   "source": [
    "def get_def(word):\n",
    "\tconfig = ConfigParser()\n",
    "\tconfig.read(\"apiconfig.ini\")\n",
    "\tapi_ninjas_key = config['api_keys']['api_ninjas']\n",
    "\treq_url = f\"https://api.api-ninjas.com/v1/dictionary?word={word}\"\n",
    "\tresp = requests.get(req_url, headers={'X-Api-Key': api_ninjas_key})\n",
    "\tdata = resp.json()\n",
    "\tif data.get(\"valid\", True):\n",
    "\t\treturn data\n",
    "\n",
    "\n",
    "get_def(\"singularity\")"
   ],
   "outputs": [
    {
     "data": {
      "text/plain": [
       "{'definition': '1. The quality or state of being singular; some character or quality of a thing by which it is distinguished from all, or from most, others; peculiarity. Pliny addeth this singularity to that soil, that the second year the very falling down of the seeds yieldeth corn. Sir. W. Raleigh. I took notice of this little figure for the singularity of the instrument. Addison. 2. Anything singular, rare, or curious. Your gallery Have we passed through, not without much content In many singularities. Shak. 3. Possession of a particular or exclusive privilege, prerogative, or distinction. No bishop of Rome ever took upon him this name of singularity [universal bishop]. Hooker. Catholicism . . . must be understood in opposition to the legal singularity of the Jewish nation. Bp. Pearson. 4. Celibacy. [Obs.] Jer. Taylor.',\n",
       " 'word': 'singularity',\n",
       " 'valid': True}"
      ]
     },
     "execution_count": 62,
     "metadata": {},
     "output_type": "execute_result"
    }
   ],
   "execution_count": 62
  },
  {
   "cell_type": "markdown",
   "metadata": {},
   "source": [
    "# Optional: Aufgabe 2 - APIs mit Anmeldedaten\n",
    "\n",
    "**a)** Melde Dich bei [openweathermap.org](https://openweathermap.org/api) mit deiner DataCraft-Email-Adresse an. Es dauert ein bisschen, bis der Service freigeschaltet ist. Schaue auf der Website nach deinem API Key, welchen du brauchst um einen Request zu machen."
   ]
  },
  {
   "cell_type": "markdown",
   "metadata": {},
   "source": [
    "**b)** Frage dann mit einem Request auf diesem Link [https://api.openweathermap.org/data/2.5/weather](https://openweathermap.org/current) das Wetter für Duisburg ab. Benutze eine `lat` von 51.4321 und eine `lon` von 6.7644 sowie deinen API Key in den Parametern.\n",
    "\n",
    "Optional: Verstecke deinen API Key, so wie du auch dein Postgres Passwort versteckt hast."
   ]
  },
  {
   "metadata": {
    "ExecuteTime": {
     "end_time": "2025-01-20T14:00:01.225923Z",
     "start_time": "2025-01-20T14:00:01.108527Z"
    }
   },
   "cell_type": "code",
   "source": [
    "config = ConfigParser()\n",
    "config.read(\"apiconfig.ini\")\n",
    "openweathermap_key = config['api_keys']['openweathermap']\n",
    "lat = 51.4321\n",
    "lon = 6.7644\n",
    "req_url = f\"https://api.openweathermap.org/data/2.5/weather?lat={lat}&lon={lon}&appid={openweathermap_key}\"\n",
    "resp = requests.get(req_url, headers={'X-Api-Key': openweathermap_key})\n",
    "data = resp.json()\n",
    "print(data)"
   ],
   "outputs": [
    {
     "name": "stdout",
     "output_type": "stream",
     "text": [
      "{'coord': {'lon': 6.7644, 'lat': 51.4321}, 'weather': [{'id': 804, 'main': 'Clouds', 'description': 'overcast clouds', 'icon': '04d'}], 'base': 'stations', 'main': {'temp': 272.28, 'feels_like': 269.6, 'temp_min': 271.65, 'temp_max': 273.15, 'pressure': 1020, 'humidity': 92, 'sea_level': 1020, 'grnd_level': 1014}, 'visibility': 7000, 'wind': {'speed': 2.06, 'deg': 200}, 'clouds': {'all': 100}, 'dt': 1737381656, 'sys': {'type': 2, 'id': 2097072, 'country': 'DE', 'sunrise': 1737357998, 'sunset': 1737388857}, 'timezone': 3600, 'id': 2843196, 'name': 'Ruhrort', 'cod': 200}\n"
     ]
    }
   ],
   "execution_count": 64
  },
  {
   "cell_type": "markdown",
   "metadata": {},
   "source": [
    "**c)** Frage das Wetter an einer beliebigen anderen Koordinate ab. Um den Längen- und Breitengrad einer Stadt herauszufinden, kannst du z.B. eine Nadel bei [Google Maps](https://www.google.de/maps) fallen lassen.\n"
   ]
  },
  {
   "metadata": {},
   "cell_type": "code",
   "outputs": [],
   "execution_count": null,
   "source": ""
  },
  {
   "cell_type": "markdown",
   "metadata": {},
   "source": [
    "d) Lass dir nun nur die Wind-Daten ausgeben - sowohl von Duisburg, als auch von der von dir gewählten Stadt. Wo ist der Wind stärker?"
   ]
  },
  {
   "metadata": {},
   "cell_type": "code",
   "outputs": [],
   "execution_count": null,
   "source": ""
  }
 ],
 "metadata": {
  "colab": {
   "provenance": []
  },
  "kernelspec": {
   "display_name": "Python 3",
   "language": "python",
   "name": "python3"
  },
  "language_info": {
   "codemirror_mode": {
    "name": "ipython",
    "version": 3
   },
   "file_extension": ".py",
   "mimetype": "text/x-python",
   "name": "python",
   "nbconvert_exporter": "python",
   "pygments_lexer": "ipython3",
   "version": "3.11.5"
  }
 },
 "nbformat": 4,
 "nbformat_minor": 0
}
