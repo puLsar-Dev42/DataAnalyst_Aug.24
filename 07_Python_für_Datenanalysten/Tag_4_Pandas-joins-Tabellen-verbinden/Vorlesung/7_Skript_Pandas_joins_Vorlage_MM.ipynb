{
 "cells": [
  {
   "cell_type": "markdown",
   "metadata": {},
   "source": [
    "# Zusammenfügen von Datensätzen in `pandas`\n",
    "\n",
    "Wir kennen in Pandas nun schon `pd.concat`. Diese Funktion dient zum \n",
    "*einfachen* Aneinanderfügen von Tabellen, ohne Berücksichtigung von Spalten,\n",
    " die diese gemeinsam haben.\n",
    "\n",
    "Heute lernen wir, wie wir Tabellen basierend auf übereinstimmenden Spalten \n",
    "(z.B. Bestell-ID; Modellnummer; ...) zusammenfügen. Dabei werden anhand der\n",
    " Indizes oder anhand einer gemeinsamen Spalte Einträge verbunden, die in \n",
    " beiden Tabellen übereinstimmen. Wir kennen diese \"Joins\" noch aus Excel \n",
    " mit den Funktionen `SVERWEIS()` und `INDEX(VERGLEICH())` und aus Power \n",
    " Query. In Pandas benutzt man mit die DataFrame-Methoden `join()` und `merge()`.\n",
    "\n",
    "Hierfür ist es nützlich, sich noch einmal die verschiedenen Arten anzuschauen, auf\n",
    "  die man Tabellen zusammenfügen kann – die sogenannten Joins."
   ]
  },
  {
   "cell_type": "code",
   "metadata": {
    "ExecuteTime": {
     "end_time": "2024-11-14T11:10:10.838757Z",
     "start_time": "2024-11-14T11:10:10.228823Z"
    }
   },
   "source": [
    "from unittest.mock import inplace\n",
    "\n",
    "import pandas as pd\n",
    "from traitlets import Float"
   ],
   "outputs": [],
   "execution_count": 1
  },
  {
   "cell_type": "markdown",
   "metadata": {},
   "source": [
    "\n",
    "## Anfügen von Daten: pd.concat\n"
   ]
  },
  {
   "cell_type": "code",
   "metadata": {
    "ExecuteTime": {
     "end_time": "2024-11-14T11:10:10.876154Z",
     "start_time": "2024-11-14T11:10:10.865869Z"
    }
   },
   "source": [
    "# Series mit Temperatur-Messwerten:\n",
    "data = [4.5, 6.3, 3.8, 5.1, 4.9, 5.7, 4.2, 6.0]\n",
    "temp_series = pd.Series(data, name=\"Temperatur\")\n",
    "temp_series"
   ],
   "outputs": [
    {
     "data": {
      "text/plain": [
       "0    4.5\n",
       "1    6.3\n",
       "2    3.8\n",
       "3    5.1\n",
       "4    4.9\n",
       "5    5.7\n",
       "6    4.2\n",
       "7    6.0\n",
       "Name: Temperatur, dtype: float64"
      ]
     },
     "execution_count": 2,
     "metadata": {},
     "output_type": "execute_result"
    }
   ],
   "execution_count": 2
  },
  {
   "cell_type": "code",
   "metadata": {
    "ExecuteTime": {
     "end_time": "2024-11-14T11:10:11.115971Z",
     "start_time": "2024-11-14T11:10:11.107393Z"
    }
   },
   "source": [
    "# Series mit Zeitstempeln für Messzeitpunkt:\n",
    "uhrzeiten = ['2023-01-02 19:08',\n",
    "             '2023-01-04 18:17',\n",
    "             '2023-01-06 06:03',\n",
    "             '2023-01-09 02:17',\n",
    "             '2023-01-12 22:02',\n",
    "             '2023-01-17 16:00',\n",
    "             '2023-01-22 21:04',\n",
    "             '2023-01-24 11:16']\n",
    "\n",
    "# Eigentlich besser, man macht datetime-Objekte daraus, aber das Thema kommt erst später dran,\n",
    "# bitte also Geduld ;)\n",
    "\n",
    "# So könnte man das tun: pd.Series(pd.to_datetime(uhrzeiten))\n",
    "\n",
    "time_series = pd.Series(uhrzeiten, name=\"Zeitstempel\")\n",
    "time_series"
   ],
   "outputs": [
    {
     "data": {
      "text/plain": [
       "0    2023-01-02 19:08\n",
       "1    2023-01-04 18:17\n",
       "2    2023-01-06 06:03\n",
       "3    2023-01-09 02:17\n",
       "4    2023-01-12 22:02\n",
       "5    2023-01-17 16:00\n",
       "6    2023-01-22 21:04\n",
       "7    2023-01-24 11:16\n",
       "Name: Zeitstempel, dtype: object"
      ]
     },
     "execution_count": 3,
     "metadata": {},
     "output_type": "execute_result"
    }
   ],
   "execution_count": 3
  },
  {
   "cell_type": "markdown",
   "metadata": {},
   "source": [
    "#### Beide Serien zu einem DataFrame verbinden\n"
   ]
  },
  {
   "cell_type": "code",
   "metadata": {
    "ExecuteTime": {
     "end_time": "2024-11-14T11:10:11.195922Z",
     "start_time": "2024-11-14T11:10:11.186194Z"
    }
   },
   "source": [
    "# temp_series und time_series verbinden\n",
    "temps_df = pd.concat([time_series, temp_series], axis=1)\n",
    "temps_df"
   ],
   "outputs": [
    {
     "data": {
      "text/plain": [
       "        Zeitstempel  Temperatur\n",
       "0  2023-01-02 19:08         4.5\n",
       "1  2023-01-04 18:17         6.3\n",
       "2  2023-01-06 06:03         3.8\n",
       "3  2023-01-09 02:17         5.1\n",
       "4  2023-01-12 22:02         4.9\n",
       "5  2023-01-17 16:00         5.7\n",
       "6  2023-01-22 21:04         4.2\n",
       "7  2023-01-24 11:16         6.0"
      ],
      "text/html": [
       "<div>\n",
       "<style scoped>\n",
       "    .dataframe tbody tr th:only-of-type {\n",
       "        vertical-align: middle;\n",
       "    }\n",
       "\n",
       "    .dataframe tbody tr th {\n",
       "        vertical-align: top;\n",
       "    }\n",
       "\n",
       "    .dataframe thead th {\n",
       "        text-align: right;\n",
       "    }\n",
       "</style>\n",
       "<table border=\"1\" class=\"dataframe\">\n",
       "  <thead>\n",
       "    <tr style=\"text-align: right;\">\n",
       "      <th></th>\n",
       "      <th>Zeitstempel</th>\n",
       "      <th>Temperatur</th>\n",
       "    </tr>\n",
       "  </thead>\n",
       "  <tbody>\n",
       "    <tr>\n",
       "      <th>0</th>\n",
       "      <td>2023-01-02 19:08</td>\n",
       "      <td>4.5</td>\n",
       "    </tr>\n",
       "    <tr>\n",
       "      <th>1</th>\n",
       "      <td>2023-01-04 18:17</td>\n",
       "      <td>6.3</td>\n",
       "    </tr>\n",
       "    <tr>\n",
       "      <th>2</th>\n",
       "      <td>2023-01-06 06:03</td>\n",
       "      <td>3.8</td>\n",
       "    </tr>\n",
       "    <tr>\n",
       "      <th>3</th>\n",
       "      <td>2023-01-09 02:17</td>\n",
       "      <td>5.1</td>\n",
       "    </tr>\n",
       "    <tr>\n",
       "      <th>4</th>\n",
       "      <td>2023-01-12 22:02</td>\n",
       "      <td>4.9</td>\n",
       "    </tr>\n",
       "    <tr>\n",
       "      <th>5</th>\n",
       "      <td>2023-01-17 16:00</td>\n",
       "      <td>5.7</td>\n",
       "    </tr>\n",
       "    <tr>\n",
       "      <th>6</th>\n",
       "      <td>2023-01-22 21:04</td>\n",
       "      <td>4.2</td>\n",
       "    </tr>\n",
       "    <tr>\n",
       "      <th>7</th>\n",
       "      <td>2023-01-24 11:16</td>\n",
       "      <td>6.0</td>\n",
       "    </tr>\n",
       "  </tbody>\n",
       "</table>\n",
       "</div>"
      ]
     },
     "execution_count": 4,
     "metadata": {},
     "output_type": "execute_result"
    }
   ],
   "execution_count": 4
  },
  {
   "cell_type": "markdown",
   "metadata": {},
   "source": [
    "#### Was, wenn die Indices nicht so gut zusammenspielen?"
   ]
  },
  {
   "cell_type": "code",
   "metadata": {
    "ExecuteTime": {
     "end_time": "2024-11-14T11:10:11.742345Z",
     "start_time": "2024-11-14T11:10:11.734670Z"
    }
   },
   "source": [
    "# Eigene Indizes vergeben:\n",
    "\n",
    "time_series_2 = time_series.copy()\n",
    "# Lücken: 0, 1, 4, 10\n",
    "time_series_2.index = [2, 3, 5, 6, 7, 8, 9, 11]\n",
    "\n",
    "temp_series_2 = temp_series.copy()\n",
    "# Lücken: 1, 3, 9, 11\n",
    "temp_series_2.index = [0, 2, 4, 5, 6, 7, 8, 10]\n",
    "\n",
    "print(time_series_2)\n",
    "print(temp_series_2)\n"
   ],
   "outputs": [
    {
     "name": "stdout",
     "output_type": "stream",
     "text": [
      "2     2023-01-02 19:08\n",
      "3     2023-01-04 18:17\n",
      "5     2023-01-06 06:03\n",
      "6     2023-01-09 02:17\n",
      "7     2023-01-12 22:02\n",
      "8     2023-01-17 16:00\n",
      "9     2023-01-22 21:04\n",
      "11    2023-01-24 11:16\n",
      "Name: Zeitstempel, dtype: object\n",
      "0     4.5\n",
      "2     6.3\n",
      "4     3.8\n",
      "5     5.1\n",
      "6     4.9\n",
      "7     5.7\n",
      "8     4.2\n",
      "10    6.0\n",
      "Name: Temperatur, dtype: float64\n"
     ]
    }
   ],
   "execution_count": 5
  },
  {
   "cell_type": "code",
   "metadata": {
    "ExecuteTime": {
     "end_time": "2024-11-14T11:10:12.061745Z",
     "start_time": "2024-11-14T11:10:12.049528Z"
    }
   },
   "source": [
    "# Serien mit benannten indizes verbinden\n",
    "# Erzeugt NaN, wenn Indices nicht in beiden Serien vorkommen\n",
    "temps_df2 = pd.concat([time_series_2, temp_series_2],\n",
    "                 axis=1)\n",
    "\n",
    "temps_df2.sort_index()"
   ],
   "outputs": [
    {
     "data": {
      "text/plain": [
       "         Zeitstempel  Temperatur\n",
       "0                NaN         4.5\n",
       "2   2023-01-02 19:08         6.3\n",
       "3   2023-01-04 18:17         NaN\n",
       "4                NaN         3.8\n",
       "5   2023-01-06 06:03         5.1\n",
       "6   2023-01-09 02:17         4.9\n",
       "7   2023-01-12 22:02         5.7\n",
       "8   2023-01-17 16:00         4.2\n",
       "9   2023-01-22 21:04         NaN\n",
       "10               NaN         6.0\n",
       "11  2023-01-24 11:16         NaN"
      ],
      "text/html": [
       "<div>\n",
       "<style scoped>\n",
       "    .dataframe tbody tr th:only-of-type {\n",
       "        vertical-align: middle;\n",
       "    }\n",
       "\n",
       "    .dataframe tbody tr th {\n",
       "        vertical-align: top;\n",
       "    }\n",
       "\n",
       "    .dataframe thead th {\n",
       "        text-align: right;\n",
       "    }\n",
       "</style>\n",
       "<table border=\"1\" class=\"dataframe\">\n",
       "  <thead>\n",
       "    <tr style=\"text-align: right;\">\n",
       "      <th></th>\n",
       "      <th>Zeitstempel</th>\n",
       "      <th>Temperatur</th>\n",
       "    </tr>\n",
       "  </thead>\n",
       "  <tbody>\n",
       "    <tr>\n",
       "      <th>0</th>\n",
       "      <td>NaN</td>\n",
       "      <td>4.5</td>\n",
       "    </tr>\n",
       "    <tr>\n",
       "      <th>2</th>\n",
       "      <td>2023-01-02 19:08</td>\n",
       "      <td>6.3</td>\n",
       "    </tr>\n",
       "    <tr>\n",
       "      <th>3</th>\n",
       "      <td>2023-01-04 18:17</td>\n",
       "      <td>NaN</td>\n",
       "    </tr>\n",
       "    <tr>\n",
       "      <th>4</th>\n",
       "      <td>NaN</td>\n",
       "      <td>3.8</td>\n",
       "    </tr>\n",
       "    <tr>\n",
       "      <th>5</th>\n",
       "      <td>2023-01-06 06:03</td>\n",
       "      <td>5.1</td>\n",
       "    </tr>\n",
       "    <tr>\n",
       "      <th>6</th>\n",
       "      <td>2023-01-09 02:17</td>\n",
       "      <td>4.9</td>\n",
       "    </tr>\n",
       "    <tr>\n",
       "      <th>7</th>\n",
       "      <td>2023-01-12 22:02</td>\n",
       "      <td>5.7</td>\n",
       "    </tr>\n",
       "    <tr>\n",
       "      <th>8</th>\n",
       "      <td>2023-01-17 16:00</td>\n",
       "      <td>4.2</td>\n",
       "    </tr>\n",
       "    <tr>\n",
       "      <th>9</th>\n",
       "      <td>2023-01-22 21:04</td>\n",
       "      <td>NaN</td>\n",
       "    </tr>\n",
       "    <tr>\n",
       "      <th>10</th>\n",
       "      <td>NaN</td>\n",
       "      <td>6.0</td>\n",
       "    </tr>\n",
       "    <tr>\n",
       "      <th>11</th>\n",
       "      <td>2023-01-24 11:16</td>\n",
       "      <td>NaN</td>\n",
       "    </tr>\n",
       "  </tbody>\n",
       "</table>\n",
       "</div>"
      ]
     },
     "execution_count": 6,
     "metadata": {},
     "output_type": "execute_result"
    }
   ],
   "execution_count": 6
  },
  {
   "cell_type": "code",
   "metadata": {
    "ExecuteTime": {
     "end_time": "2024-11-14T11:10:12.419127Z",
     "start_time": "2024-11-14T11:10:12.415605Z"
    }
   },
   "source": [
    "# Index muss in beiden Serien einzigartig sein (Keine Duplikate)!\n",
    "# Sonst funktioniert concat nicht."
   ],
   "outputs": [],
   "execution_count": 7
  },
  {
   "cell_type": "code",
   "metadata": {
    "ExecuteTime": {
     "end_time": "2024-11-14T11:10:12.822652Z",
     "start_time": "2024-11-14T11:10:12.817477Z"
    }
   },
   "source": [
    "# Test\n",
    "temp_series_3 = temp_series.copy()\n",
    "temp_series_3.index = [2, 3, 5, 6, 7, 7, 9, 11]\n",
    "\n",
    "time_series_3 = time_series.copy()\n",
    "time_series_3.index = [0, 2, 2, 5, 6, 7, 8, 10]"
   ],
   "outputs": [],
   "execution_count": 8
  },
  {
   "cell_type": "code",
   "metadata": {
    "ExecuteTime": {
     "end_time": "2024-11-14T11:10:14.829418Z",
     "start_time": "2024-11-14T11:10:13.174164Z"
    }
   },
   "source": [
    "temps_df3 = pd.concat([time_series_3, temp_series_3],\n",
    "                       axis=1)\n",
    "\n",
    "temps_df3.sort_index()"
   ],
   "outputs": [
    {
     "ename": "ValueError",
     "evalue": "cannot reindex on an axis with duplicate labels",
     "output_type": "error",
     "traceback": [
      "\u001B[1;31m---------------------------------------------------------------------------\u001B[0m",
      "\u001B[1;31mValueError\u001B[0m                                Traceback (most recent call last)",
      "Cell \u001B[1;32mIn[9], line 1\u001B[0m\n\u001B[1;32m----> 1\u001B[0m temps_df3 \u001B[38;5;241m=\u001B[39m \u001B[43mpd\u001B[49m\u001B[38;5;241;43m.\u001B[39;49m\u001B[43mconcat\u001B[49m\u001B[43m(\u001B[49m\u001B[43m[\u001B[49m\u001B[43mtime_series_3\u001B[49m\u001B[43m,\u001B[49m\u001B[43m \u001B[49m\u001B[43mtemp_series_3\u001B[49m\u001B[43m]\u001B[49m\u001B[43m,\u001B[49m\n\u001B[0;32m      2\u001B[0m \u001B[43m                       \u001B[49m\u001B[43maxis\u001B[49m\u001B[38;5;241;43m=\u001B[39;49m\u001B[38;5;241;43m1\u001B[39;49m\u001B[43m)\u001B[49m\n\u001B[0;32m      4\u001B[0m temps_df3\u001B[38;5;241m.\u001B[39msort_index()\n",
      "File \u001B[1;32m~\\Python\\Lib\\site-packages\\pandas\\core\\reshape\\concat.py:395\u001B[0m, in \u001B[0;36mconcat\u001B[1;34m(objs, axis, join, ignore_index, keys, levels, names, verify_integrity, sort, copy)\u001B[0m\n\u001B[0;32m    380\u001B[0m     copy \u001B[38;5;241m=\u001B[39m \u001B[38;5;28;01mFalse\u001B[39;00m\n\u001B[0;32m    382\u001B[0m op \u001B[38;5;241m=\u001B[39m _Concatenator(\n\u001B[0;32m    383\u001B[0m     objs,\n\u001B[0;32m    384\u001B[0m     axis\u001B[38;5;241m=\u001B[39maxis,\n\u001B[1;32m   (...)\u001B[0m\n\u001B[0;32m    392\u001B[0m     sort\u001B[38;5;241m=\u001B[39msort,\n\u001B[0;32m    393\u001B[0m )\n\u001B[1;32m--> 395\u001B[0m \u001B[38;5;28;01mreturn\u001B[39;00m \u001B[43mop\u001B[49m\u001B[38;5;241;43m.\u001B[39;49m\u001B[43mget_result\u001B[49m\u001B[43m(\u001B[49m\u001B[43m)\u001B[49m\n",
      "File \u001B[1;32m~\\Python\\Lib\\site-packages\\pandas\\core\\reshape\\concat.py:660\u001B[0m, in \u001B[0;36m_Concatenator.get_result\u001B[1;34m(self)\u001B[0m\n\u001B[0;32m    657\u001B[0m cons \u001B[38;5;241m=\u001B[39m sample\u001B[38;5;241m.\u001B[39m_constructor_expanddim\n\u001B[0;32m    659\u001B[0m index, columns \u001B[38;5;241m=\u001B[39m \u001B[38;5;28mself\u001B[39m\u001B[38;5;241m.\u001B[39mnew_axes\n\u001B[1;32m--> 660\u001B[0m df \u001B[38;5;241m=\u001B[39m \u001B[43mcons\u001B[49m\u001B[43m(\u001B[49m\u001B[43mdata\u001B[49m\u001B[43m,\u001B[49m\u001B[43m \u001B[49m\u001B[43mindex\u001B[49m\u001B[38;5;241;43m=\u001B[39;49m\u001B[43mindex\u001B[49m\u001B[43m,\u001B[49m\u001B[43m \u001B[49m\u001B[43mcopy\u001B[49m\u001B[38;5;241;43m=\u001B[39;49m\u001B[38;5;28;43mself\u001B[39;49m\u001B[38;5;241;43m.\u001B[39;49m\u001B[43mcopy\u001B[49m\u001B[43m)\u001B[49m\n\u001B[0;32m    661\u001B[0m df\u001B[38;5;241m.\u001B[39mcolumns \u001B[38;5;241m=\u001B[39m columns\n\u001B[0;32m    662\u001B[0m \u001B[38;5;28;01mreturn\u001B[39;00m df\u001B[38;5;241m.\u001B[39m__finalize__(\u001B[38;5;28mself\u001B[39m, method\u001B[38;5;241m=\u001B[39m\u001B[38;5;124m\"\u001B[39m\u001B[38;5;124mconcat\u001B[39m\u001B[38;5;124m\"\u001B[39m)\n",
      "File \u001B[1;32m~\\Python\\Lib\\site-packages\\pandas\\core\\frame.py:778\u001B[0m, in \u001B[0;36mDataFrame.__init__\u001B[1;34m(self, data, index, columns, dtype, copy)\u001B[0m\n\u001B[0;32m    772\u001B[0m     mgr \u001B[38;5;241m=\u001B[39m \u001B[38;5;28mself\u001B[39m\u001B[38;5;241m.\u001B[39m_init_mgr(\n\u001B[0;32m    773\u001B[0m         data, axes\u001B[38;5;241m=\u001B[39m{\u001B[38;5;124m\"\u001B[39m\u001B[38;5;124mindex\u001B[39m\u001B[38;5;124m\"\u001B[39m: index, \u001B[38;5;124m\"\u001B[39m\u001B[38;5;124mcolumns\u001B[39m\u001B[38;5;124m\"\u001B[39m: columns}, dtype\u001B[38;5;241m=\u001B[39mdtype, copy\u001B[38;5;241m=\u001B[39mcopy\n\u001B[0;32m    774\u001B[0m     )\n\u001B[0;32m    776\u001B[0m \u001B[38;5;28;01melif\u001B[39;00m \u001B[38;5;28misinstance\u001B[39m(data, \u001B[38;5;28mdict\u001B[39m):\n\u001B[0;32m    777\u001B[0m     \u001B[38;5;66;03m# GH#38939 de facto copy defaults to False only in non-dict cases\u001B[39;00m\n\u001B[1;32m--> 778\u001B[0m     mgr \u001B[38;5;241m=\u001B[39m \u001B[43mdict_to_mgr\u001B[49m\u001B[43m(\u001B[49m\u001B[43mdata\u001B[49m\u001B[43m,\u001B[49m\u001B[43m \u001B[49m\u001B[43mindex\u001B[49m\u001B[43m,\u001B[49m\u001B[43m \u001B[49m\u001B[43mcolumns\u001B[49m\u001B[43m,\u001B[49m\u001B[43m \u001B[49m\u001B[43mdtype\u001B[49m\u001B[38;5;241;43m=\u001B[39;49m\u001B[43mdtype\u001B[49m\u001B[43m,\u001B[49m\u001B[43m \u001B[49m\u001B[43mcopy\u001B[49m\u001B[38;5;241;43m=\u001B[39;49m\u001B[43mcopy\u001B[49m\u001B[43m,\u001B[49m\u001B[43m \u001B[49m\u001B[43mtyp\u001B[49m\u001B[38;5;241;43m=\u001B[39;49m\u001B[43mmanager\u001B[49m\u001B[43m)\u001B[49m\n\u001B[0;32m    779\u001B[0m \u001B[38;5;28;01melif\u001B[39;00m \u001B[38;5;28misinstance\u001B[39m(data, ma\u001B[38;5;241m.\u001B[39mMaskedArray):\n\u001B[0;32m    780\u001B[0m     \u001B[38;5;28;01mfrom\u001B[39;00m \u001B[38;5;21;01mnumpy\u001B[39;00m\u001B[38;5;21;01m.\u001B[39;00m\u001B[38;5;21;01mma\u001B[39;00m \u001B[38;5;28;01mimport\u001B[39;00m mrecords\n",
      "File \u001B[1;32m~\\Python\\Lib\\site-packages\\pandas\\core\\internals\\construction.py:503\u001B[0m, in \u001B[0;36mdict_to_mgr\u001B[1;34m(data, index, columns, dtype, typ, copy)\u001B[0m\n\u001B[0;32m    499\u001B[0m     \u001B[38;5;28;01melse\u001B[39;00m:\n\u001B[0;32m    500\u001B[0m         \u001B[38;5;66;03m# dtype check to exclude e.g. range objects, scalars\u001B[39;00m\n\u001B[0;32m    501\u001B[0m         arrays \u001B[38;5;241m=\u001B[39m [x\u001B[38;5;241m.\u001B[39mcopy() \u001B[38;5;28;01mif\u001B[39;00m \u001B[38;5;28mhasattr\u001B[39m(x, \u001B[38;5;124m\"\u001B[39m\u001B[38;5;124mdtype\u001B[39m\u001B[38;5;124m\"\u001B[39m) \u001B[38;5;28;01melse\u001B[39;00m x \u001B[38;5;28;01mfor\u001B[39;00m x \u001B[38;5;129;01min\u001B[39;00m arrays]\n\u001B[1;32m--> 503\u001B[0m \u001B[38;5;28;01mreturn\u001B[39;00m \u001B[43marrays_to_mgr\u001B[49m\u001B[43m(\u001B[49m\u001B[43marrays\u001B[49m\u001B[43m,\u001B[49m\u001B[43m \u001B[49m\u001B[43mcolumns\u001B[49m\u001B[43m,\u001B[49m\u001B[43m \u001B[49m\u001B[43mindex\u001B[49m\u001B[43m,\u001B[49m\u001B[43m \u001B[49m\u001B[43mdtype\u001B[49m\u001B[38;5;241;43m=\u001B[39;49m\u001B[43mdtype\u001B[49m\u001B[43m,\u001B[49m\u001B[43m \u001B[49m\u001B[43mtyp\u001B[49m\u001B[38;5;241;43m=\u001B[39;49m\u001B[43mtyp\u001B[49m\u001B[43m,\u001B[49m\u001B[43m \u001B[49m\u001B[43mconsolidate\u001B[49m\u001B[38;5;241;43m=\u001B[39;49m\u001B[43mcopy\u001B[49m\u001B[43m)\u001B[49m\n",
      "File \u001B[1;32m~\\Python\\Lib\\site-packages\\pandas\\core\\internals\\construction.py:119\u001B[0m, in \u001B[0;36marrays_to_mgr\u001B[1;34m(arrays, columns, index, dtype, verify_integrity, typ, consolidate)\u001B[0m\n\u001B[0;32m    116\u001B[0m         index \u001B[38;5;241m=\u001B[39m ensure_index(index)\n\u001B[0;32m    118\u001B[0m     \u001B[38;5;66;03m# don't force copy because getting jammed in an ndarray anyway\u001B[39;00m\n\u001B[1;32m--> 119\u001B[0m     arrays, refs \u001B[38;5;241m=\u001B[39m \u001B[43m_homogenize\u001B[49m\u001B[43m(\u001B[49m\u001B[43marrays\u001B[49m\u001B[43m,\u001B[49m\u001B[43m \u001B[49m\u001B[43mindex\u001B[49m\u001B[43m,\u001B[49m\u001B[43m \u001B[49m\u001B[43mdtype\u001B[49m\u001B[43m)\u001B[49m\n\u001B[0;32m    120\u001B[0m     \u001B[38;5;66;03m# _homogenize ensures\u001B[39;00m\n\u001B[0;32m    121\u001B[0m     \u001B[38;5;66;03m#  - all(len(x) == len(index) for x in arrays)\u001B[39;00m\n\u001B[0;32m    122\u001B[0m     \u001B[38;5;66;03m#  - all(x.ndim == 1 for x in arrays)\u001B[39;00m\n\u001B[1;32m   (...)\u001B[0m\n\u001B[0;32m    125\u001B[0m \n\u001B[0;32m    126\u001B[0m \u001B[38;5;28;01melse\u001B[39;00m:\n\u001B[0;32m    127\u001B[0m     index \u001B[38;5;241m=\u001B[39m ensure_index(index)\n",
      "File \u001B[1;32m~\\Python\\Lib\\site-packages\\pandas\\core\\internals\\construction.py:611\u001B[0m, in \u001B[0;36m_homogenize\u001B[1;34m(data, index, dtype)\u001B[0m\n\u001B[0;32m    607\u001B[0m     val \u001B[38;5;241m=\u001B[39m val\u001B[38;5;241m.\u001B[39mastype(dtype, copy\u001B[38;5;241m=\u001B[39m\u001B[38;5;28;01mFalse\u001B[39;00m)\n\u001B[0;32m    608\u001B[0m \u001B[38;5;28;01mif\u001B[39;00m \u001B[38;5;28misinstance\u001B[39m(val, ABCSeries) \u001B[38;5;129;01mand\u001B[39;00m val\u001B[38;5;241m.\u001B[39mindex \u001B[38;5;129;01mis\u001B[39;00m \u001B[38;5;129;01mnot\u001B[39;00m index:\n\u001B[0;32m    609\u001B[0m     \u001B[38;5;66;03m# Forces alignment. No need to copy data since we\u001B[39;00m\n\u001B[0;32m    610\u001B[0m     \u001B[38;5;66;03m# are putting it into an ndarray later\u001B[39;00m\n\u001B[1;32m--> 611\u001B[0m     val \u001B[38;5;241m=\u001B[39m \u001B[43mval\u001B[49m\u001B[38;5;241;43m.\u001B[39;49m\u001B[43mreindex\u001B[49m\u001B[43m(\u001B[49m\u001B[43mindex\u001B[49m\u001B[43m,\u001B[49m\u001B[43m \u001B[49m\u001B[43mcopy\u001B[49m\u001B[38;5;241;43m=\u001B[39;49m\u001B[38;5;28;43;01mFalse\u001B[39;49;00m\u001B[43m)\u001B[49m\n\u001B[0;32m    612\u001B[0m refs\u001B[38;5;241m.\u001B[39mappend(val\u001B[38;5;241m.\u001B[39m_references)\n\u001B[0;32m    613\u001B[0m val \u001B[38;5;241m=\u001B[39m val\u001B[38;5;241m.\u001B[39m_values\n",
      "File \u001B[1;32m~\\Python\\Lib\\site-packages\\pandas\\core\\series.py:5153\u001B[0m, in \u001B[0;36mSeries.reindex\u001B[1;34m(self, index, axis, method, copy, level, fill_value, limit, tolerance)\u001B[0m\n\u001B[0;32m   5136\u001B[0m \u001B[38;5;129m@doc\u001B[39m(\n\u001B[0;32m   5137\u001B[0m     NDFrame\u001B[38;5;241m.\u001B[39mreindex,  \u001B[38;5;66;03m# type: ignore[has-type]\u001B[39;00m\n\u001B[0;32m   5138\u001B[0m     klass\u001B[38;5;241m=\u001B[39m_shared_doc_kwargs[\u001B[38;5;124m\"\u001B[39m\u001B[38;5;124mklass\u001B[39m\u001B[38;5;124m\"\u001B[39m],\n\u001B[1;32m   (...)\u001B[0m\n\u001B[0;32m   5151\u001B[0m     tolerance\u001B[38;5;241m=\u001B[39m\u001B[38;5;28;01mNone\u001B[39;00m,\n\u001B[0;32m   5152\u001B[0m ) \u001B[38;5;241m-\u001B[39m\u001B[38;5;241m>\u001B[39m Series:\n\u001B[1;32m-> 5153\u001B[0m     \u001B[38;5;28;01mreturn\u001B[39;00m \u001B[38;5;28;43msuper\u001B[39;49m\u001B[43m(\u001B[49m\u001B[43m)\u001B[49m\u001B[38;5;241;43m.\u001B[39;49m\u001B[43mreindex\u001B[49m\u001B[43m(\u001B[49m\n\u001B[0;32m   5154\u001B[0m \u001B[43m        \u001B[49m\u001B[43mindex\u001B[49m\u001B[38;5;241;43m=\u001B[39;49m\u001B[43mindex\u001B[49m\u001B[43m,\u001B[49m\n\u001B[0;32m   5155\u001B[0m \u001B[43m        \u001B[49m\u001B[43mmethod\u001B[49m\u001B[38;5;241;43m=\u001B[39;49m\u001B[43mmethod\u001B[49m\u001B[43m,\u001B[49m\n\u001B[0;32m   5156\u001B[0m \u001B[43m        \u001B[49m\u001B[43mcopy\u001B[49m\u001B[38;5;241;43m=\u001B[39;49m\u001B[43mcopy\u001B[49m\u001B[43m,\u001B[49m\n\u001B[0;32m   5157\u001B[0m \u001B[43m        \u001B[49m\u001B[43mlevel\u001B[49m\u001B[38;5;241;43m=\u001B[39;49m\u001B[43mlevel\u001B[49m\u001B[43m,\u001B[49m\n\u001B[0;32m   5158\u001B[0m \u001B[43m        \u001B[49m\u001B[43mfill_value\u001B[49m\u001B[38;5;241;43m=\u001B[39;49m\u001B[43mfill_value\u001B[49m\u001B[43m,\u001B[49m\n\u001B[0;32m   5159\u001B[0m \u001B[43m        \u001B[49m\u001B[43mlimit\u001B[49m\u001B[38;5;241;43m=\u001B[39;49m\u001B[43mlimit\u001B[49m\u001B[43m,\u001B[49m\n\u001B[0;32m   5160\u001B[0m \u001B[43m        \u001B[49m\u001B[43mtolerance\u001B[49m\u001B[38;5;241;43m=\u001B[39;49m\u001B[43mtolerance\u001B[49m\u001B[43m,\u001B[49m\n\u001B[0;32m   5161\u001B[0m \u001B[43m    \u001B[49m\u001B[43m)\u001B[49m\n",
      "File \u001B[1;32m~\\Python\\Lib\\site-packages\\pandas\\core\\generic.py:5610\u001B[0m, in \u001B[0;36mNDFrame.reindex\u001B[1;34m(self, labels, index, columns, axis, method, copy, level, fill_value, limit, tolerance)\u001B[0m\n\u001B[0;32m   5607\u001B[0m     \u001B[38;5;28;01mreturn\u001B[39;00m \u001B[38;5;28mself\u001B[39m\u001B[38;5;241m.\u001B[39m_reindex_multi(axes, copy, fill_value)\n\u001B[0;32m   5609\u001B[0m \u001B[38;5;66;03m# perform the reindex on the axes\u001B[39;00m\n\u001B[1;32m-> 5610\u001B[0m \u001B[38;5;28;01mreturn\u001B[39;00m \u001B[38;5;28;43mself\u001B[39;49m\u001B[38;5;241;43m.\u001B[39;49m\u001B[43m_reindex_axes\u001B[49m\u001B[43m(\u001B[49m\n\u001B[0;32m   5611\u001B[0m \u001B[43m    \u001B[49m\u001B[43maxes\u001B[49m\u001B[43m,\u001B[49m\u001B[43m \u001B[49m\u001B[43mlevel\u001B[49m\u001B[43m,\u001B[49m\u001B[43m \u001B[49m\u001B[43mlimit\u001B[49m\u001B[43m,\u001B[49m\u001B[43m \u001B[49m\u001B[43mtolerance\u001B[49m\u001B[43m,\u001B[49m\u001B[43m \u001B[49m\u001B[43mmethod\u001B[49m\u001B[43m,\u001B[49m\u001B[43m \u001B[49m\u001B[43mfill_value\u001B[49m\u001B[43m,\u001B[49m\u001B[43m \u001B[49m\u001B[43mcopy\u001B[49m\n\u001B[0;32m   5612\u001B[0m \u001B[43m\u001B[49m\u001B[43m)\u001B[49m\u001B[38;5;241m.\u001B[39m__finalize__(\u001B[38;5;28mself\u001B[39m, method\u001B[38;5;241m=\u001B[39m\u001B[38;5;124m\"\u001B[39m\u001B[38;5;124mreindex\u001B[39m\u001B[38;5;124m\"\u001B[39m)\n",
      "File \u001B[1;32m~\\Python\\Lib\\site-packages\\pandas\\core\\generic.py:5633\u001B[0m, in \u001B[0;36mNDFrame._reindex_axes\u001B[1;34m(self, axes, level, limit, tolerance, method, fill_value, copy)\u001B[0m\n\u001B[0;32m   5630\u001B[0m     \u001B[38;5;28;01mcontinue\u001B[39;00m\n\u001B[0;32m   5632\u001B[0m ax \u001B[38;5;241m=\u001B[39m \u001B[38;5;28mself\u001B[39m\u001B[38;5;241m.\u001B[39m_get_axis(a)\n\u001B[1;32m-> 5633\u001B[0m new_index, indexer \u001B[38;5;241m=\u001B[39m \u001B[43max\u001B[49m\u001B[38;5;241;43m.\u001B[39;49m\u001B[43mreindex\u001B[49m\u001B[43m(\u001B[49m\n\u001B[0;32m   5634\u001B[0m \u001B[43m    \u001B[49m\u001B[43mlabels\u001B[49m\u001B[43m,\u001B[49m\u001B[43m \u001B[49m\u001B[43mlevel\u001B[49m\u001B[38;5;241;43m=\u001B[39;49m\u001B[43mlevel\u001B[49m\u001B[43m,\u001B[49m\u001B[43m \u001B[49m\u001B[43mlimit\u001B[49m\u001B[38;5;241;43m=\u001B[39;49m\u001B[43mlimit\u001B[49m\u001B[43m,\u001B[49m\u001B[43m \u001B[49m\u001B[43mtolerance\u001B[49m\u001B[38;5;241;43m=\u001B[39;49m\u001B[43mtolerance\u001B[49m\u001B[43m,\u001B[49m\u001B[43m \u001B[49m\u001B[43mmethod\u001B[49m\u001B[38;5;241;43m=\u001B[39;49m\u001B[43mmethod\u001B[49m\n\u001B[0;32m   5635\u001B[0m \u001B[43m\u001B[49m\u001B[43m)\u001B[49m\n\u001B[0;32m   5637\u001B[0m axis \u001B[38;5;241m=\u001B[39m \u001B[38;5;28mself\u001B[39m\u001B[38;5;241m.\u001B[39m_get_axis_number(a)\n\u001B[0;32m   5638\u001B[0m obj \u001B[38;5;241m=\u001B[39m obj\u001B[38;5;241m.\u001B[39m_reindex_with_indexers(\n\u001B[0;32m   5639\u001B[0m     {axis: [new_index, indexer]},\n\u001B[0;32m   5640\u001B[0m     fill_value\u001B[38;5;241m=\u001B[39mfill_value,\n\u001B[0;32m   5641\u001B[0m     copy\u001B[38;5;241m=\u001B[39mcopy,\n\u001B[0;32m   5642\u001B[0m     allow_dups\u001B[38;5;241m=\u001B[39m\u001B[38;5;28;01mFalse\u001B[39;00m,\n\u001B[0;32m   5643\u001B[0m )\n",
      "File \u001B[1;32m~\\Python\\Lib\\site-packages\\pandas\\core\\indexes\\base.py:4429\u001B[0m, in \u001B[0;36mIndex.reindex\u001B[1;34m(self, target, method, level, limit, tolerance)\u001B[0m\n\u001B[0;32m   4426\u001B[0m     \u001B[38;5;28;01mraise\u001B[39;00m \u001B[38;5;167;01mValueError\u001B[39;00m(\u001B[38;5;124m\"\u001B[39m\u001B[38;5;124mcannot handle a non-unique multi-index!\u001B[39m\u001B[38;5;124m\"\u001B[39m)\n\u001B[0;32m   4427\u001B[0m \u001B[38;5;28;01melif\u001B[39;00m \u001B[38;5;129;01mnot\u001B[39;00m \u001B[38;5;28mself\u001B[39m\u001B[38;5;241m.\u001B[39mis_unique:\n\u001B[0;32m   4428\u001B[0m     \u001B[38;5;66;03m# GH#42568\u001B[39;00m\n\u001B[1;32m-> 4429\u001B[0m     \u001B[38;5;28;01mraise\u001B[39;00m \u001B[38;5;167;01mValueError\u001B[39;00m(\u001B[38;5;124m\"\u001B[39m\u001B[38;5;124mcannot reindex on an axis with duplicate labels\u001B[39m\u001B[38;5;124m\"\u001B[39m)\n\u001B[0;32m   4430\u001B[0m \u001B[38;5;28;01melse\u001B[39;00m:\n\u001B[0;32m   4431\u001B[0m     indexer, _ \u001B[38;5;241m=\u001B[39m \u001B[38;5;28mself\u001B[39m\u001B[38;5;241m.\u001B[39mget_indexer_non_unique(target)\n",
      "\u001B[1;31mValueError\u001B[0m: cannot reindex on an axis with duplicate labels"
     ]
    }
   ],
   "execution_count": 9
  },
  {
   "cell_type": "markdown",
   "metadata": {},
   "source": [
    "## Verbinden über Index-Vergleich\n",
    "\n",
    "\n",
    "### `DataFrame.join`\n",
    "\n",
    "Verwendet den Index oder eine bestimmte Spalte des DataFrames, der die Methode aufruft und fügt die Daten übereinstimmender Indizes des anderen DataFrames seitlich an. \n",
    "\n",
    "Für weitere Infos: [Link](https://pandas.pydata.org/docs/reference/api/pandas.DataFrame.join.html)"
   ]
  },
  {
   "cell_type": "code",
   "metadata": {
    "collapsed": false,
    "ExecuteTime": {
     "end_time": "2024-11-14T11:10:14.843502600Z",
     "start_time": "2024-11-14T08:12:07.835921Z"
    }
   },
   "source": [
    "# Erstellen zweier DataFrames mit\n",
    "# unterschiedlichen Indices\n",
    "contacts1 = pd.DataFrame({\"Name\": [\"Franz\", \"Lena\", \"Chloé\"],\n",
    "                    \"Alter\": [\"67\", \"31\", \"41\"]},\n",
    "                   index=[\"K0\", \"K1\", \"K2\"])\n",
    "\n",
    "contacts2 = pd.DataFrame({\"Wohnort\": [\"Rostock\", \"Nürnberg\", \"Berlin\"],\n",
    "                    \"Telefonnummer\": [\"030 215783\", \"030 847735\", \"030 781404\"]},\n",
    "                   index=[\"K0\", \"K2\", \"K3\"])\n",
    "\n",
    "print(contacts1)\n",
    "print()\n",
    "print(contacts2)\n",
    "# Was stellen wir an den DataFrames fest?"
   ],
   "outputs": [
    {
     "name": "stdout",
     "output_type": "stream",
     "text": [
      "     Name Alter\n",
      "K0  Franz    67\n",
      "K1   Lena    31\n",
      "K2  Chloé    41\n",
      "\n",
      "     Wohnort Telefonnummer\n",
      "K0   Rostock    030 215783\n",
      "K2  Nürnberg    030 847735\n",
      "K3    Berlin    030 781404\n"
     ]
    }
   ],
   "execution_count": 11
  },
  {
   "cell_type": "code",
   "metadata": {
    "ExecuteTime": {
     "end_time": "2024-11-14T11:10:14.845510300Z",
     "start_time": "2024-11-14T08:12:11.316279Z"
    }
   },
   "source": [
    "# pd.concat kann zwar auch joins, aber nur inner \n",
    "# oder outer join (kein left oder right join)\n",
    "# Standardverhalten ist übrigens: outer und erzeugt potentiell NaNs:\n",
    "pd.concat([contacts1, contacts2], axis=1, join=\"outer\")"
   ],
   "outputs": [
    {
     "data": {
      "text/plain": [
       "     Name Alter   Wohnort Telefonnummer\n",
       "K0  Franz    67   Rostock    030 215783\n",
       "K1   Lena    31       NaN           NaN\n",
       "K2  Chloé    41  Nürnberg    030 847735\n",
       "K3    NaN   NaN    Berlin    030 781404"
      ],
      "text/html": [
       "<div>\n",
       "<style scoped>\n",
       "    .dataframe tbody tr th:only-of-type {\n",
       "        vertical-align: middle;\n",
       "    }\n",
       "\n",
       "    .dataframe tbody tr th {\n",
       "        vertical-align: top;\n",
       "    }\n",
       "\n",
       "    .dataframe thead th {\n",
       "        text-align: right;\n",
       "    }\n",
       "</style>\n",
       "<table border=\"1\" class=\"dataframe\">\n",
       "  <thead>\n",
       "    <tr style=\"text-align: right;\">\n",
       "      <th></th>\n",
       "      <th>Name</th>\n",
       "      <th>Alter</th>\n",
       "      <th>Wohnort</th>\n",
       "      <th>Telefonnummer</th>\n",
       "    </tr>\n",
       "  </thead>\n",
       "  <tbody>\n",
       "    <tr>\n",
       "      <th>K0</th>\n",
       "      <td>Franz</td>\n",
       "      <td>67</td>\n",
       "      <td>Rostock</td>\n",
       "      <td>030 215783</td>\n",
       "    </tr>\n",
       "    <tr>\n",
       "      <th>K1</th>\n",
       "      <td>Lena</td>\n",
       "      <td>31</td>\n",
       "      <td>NaN</td>\n",
       "      <td>NaN</td>\n",
       "    </tr>\n",
       "    <tr>\n",
       "      <th>K2</th>\n",
       "      <td>Chloé</td>\n",
       "      <td>41</td>\n",
       "      <td>Nürnberg</td>\n",
       "      <td>030 847735</td>\n",
       "    </tr>\n",
       "    <tr>\n",
       "      <th>K3</th>\n",
       "      <td>NaN</td>\n",
       "      <td>NaN</td>\n",
       "      <td>Berlin</td>\n",
       "      <td>030 781404</td>\n",
       "    </tr>\n",
       "  </tbody>\n",
       "</table>\n",
       "</div>"
      ]
     },
     "execution_count": 12,
     "metadata": {},
     "output_type": "execute_result"
    }
   ],
   "execution_count": 12
  },
  {
   "cell_type": "code",
   "metadata": {
    "collapsed": false,
    "ExecuteTime": {
     "end_time": "2024-11-14T11:10:14.875852200Z",
     "start_time": "2024-11-14T08:12:13.692551Z"
    }
   },
   "source": [
    "pd.concat([contacts1, contacts2], axis=1, join=\"inner\")"
   ],
   "outputs": [
    {
     "data": {
      "text/plain": [
       "     Name Alter   Wohnort Telefonnummer\n",
       "K0  Franz    67   Rostock    030 215783\n",
       "K2  Chloé    41  Nürnberg    030 847735"
      ],
      "text/html": [
       "<div>\n",
       "<style scoped>\n",
       "    .dataframe tbody tr th:only-of-type {\n",
       "        vertical-align: middle;\n",
       "    }\n",
       "\n",
       "    .dataframe tbody tr th {\n",
       "        vertical-align: top;\n",
       "    }\n",
       "\n",
       "    .dataframe thead th {\n",
       "        text-align: right;\n",
       "    }\n",
       "</style>\n",
       "<table border=\"1\" class=\"dataframe\">\n",
       "  <thead>\n",
       "    <tr style=\"text-align: right;\">\n",
       "      <th></th>\n",
       "      <th>Name</th>\n",
       "      <th>Alter</th>\n",
       "      <th>Wohnort</th>\n",
       "      <th>Telefonnummer</th>\n",
       "    </tr>\n",
       "  </thead>\n",
       "  <tbody>\n",
       "    <tr>\n",
       "      <th>K0</th>\n",
       "      <td>Franz</td>\n",
       "      <td>67</td>\n",
       "      <td>Rostock</td>\n",
       "      <td>030 215783</td>\n",
       "    </tr>\n",
       "    <tr>\n",
       "      <th>K2</th>\n",
       "      <td>Chloé</td>\n",
       "      <td>41</td>\n",
       "      <td>Nürnberg</td>\n",
       "      <td>030 847735</td>\n",
       "    </tr>\n",
       "  </tbody>\n",
       "</table>\n",
       "</div>"
      ]
     },
     "execution_count": 13,
     "metadata": {},
     "output_type": "execute_result"
    }
   ],
   "execution_count": 13
  },
  {
   "cell_type": "markdown",
   "metadata": {},
   "source": [
    "#### DataFrame.join() ermöglicht weitere Joins"
   ]
  },
  {
   "cell_type": "code",
   "metadata": {
    "ExecuteTime": {
     "end_time": "2024-11-14T11:10:14.878863200Z",
     "start_time": "2024-11-14T08:21:19.776598Z"
    }
   },
   "source": [
    "# Left Join (Standardverhalten von join!)\n",
    "# Alle Keys aus dem ERSTEN (linken) Datensatz werden genutzt\n",
    "# und um Daten aus dem andern (rechten) Datensatz ergänzt.\n",
    "# An Indexpositionen, über die der rechte Datensatz nicht verfügt, entstehen NaNs:\n",
    "contacts1.join(contacts2)"
   ],
   "outputs": [
    {
     "data": {
      "text/plain": [
       "     Name Alter   Wohnort Telefonnummer\n",
       "K0  Franz    67   Rostock    030 215783\n",
       "K1   Lena    31       NaN           NaN\n",
       "K2  Chloé    41  Nürnberg    030 847735"
      ],
      "text/html": [
       "<div>\n",
       "<style scoped>\n",
       "    .dataframe tbody tr th:only-of-type {\n",
       "        vertical-align: middle;\n",
       "    }\n",
       "\n",
       "    .dataframe tbody tr th {\n",
       "        vertical-align: top;\n",
       "    }\n",
       "\n",
       "    .dataframe thead th {\n",
       "        text-align: right;\n",
       "    }\n",
       "</style>\n",
       "<table border=\"1\" class=\"dataframe\">\n",
       "  <thead>\n",
       "    <tr style=\"text-align: right;\">\n",
       "      <th></th>\n",
       "      <th>Name</th>\n",
       "      <th>Alter</th>\n",
       "      <th>Wohnort</th>\n",
       "      <th>Telefonnummer</th>\n",
       "    </tr>\n",
       "  </thead>\n",
       "  <tbody>\n",
       "    <tr>\n",
       "      <th>K0</th>\n",
       "      <td>Franz</td>\n",
       "      <td>67</td>\n",
       "      <td>Rostock</td>\n",
       "      <td>030 215783</td>\n",
       "    </tr>\n",
       "    <tr>\n",
       "      <th>K1</th>\n",
       "      <td>Lena</td>\n",
       "      <td>31</td>\n",
       "      <td>NaN</td>\n",
       "      <td>NaN</td>\n",
       "    </tr>\n",
       "    <tr>\n",
       "      <th>K2</th>\n",
       "      <td>Chloé</td>\n",
       "      <td>41</td>\n",
       "      <td>Nürnberg</td>\n",
       "      <td>030 847735</td>\n",
       "    </tr>\n",
       "  </tbody>\n",
       "</table>\n",
       "</div>"
      ]
     },
     "execution_count": 24,
     "metadata": {},
     "output_type": "execute_result"
    }
   ],
   "execution_count": 24
  },
  {
   "cell_type": "code",
   "metadata": {
    "ExecuteTime": {
     "end_time": "2024-11-14T11:10:14.887370400Z",
     "start_time": "2024-11-14T08:21:21.451666Z"
    }
   },
   "source": [
    "# Von contacts2 kommend entstehen die Lücken an anderen Stellen, wo eben contacts1 keine Indices hat:\n",
    "contacts2.join(contacts1)"
   ],
   "outputs": [
    {
     "data": {
      "text/plain": [
       "     Wohnort Telefonnummer   Name Alter\n",
       "K0   Rostock    030 215783  Franz    67\n",
       "K2  Nürnberg    030 847735  Chloé    41\n",
       "K3    Berlin    030 781404    NaN   NaN"
      ],
      "text/html": [
       "<div>\n",
       "<style scoped>\n",
       "    .dataframe tbody tr th:only-of-type {\n",
       "        vertical-align: middle;\n",
       "    }\n",
       "\n",
       "    .dataframe tbody tr th {\n",
       "        vertical-align: top;\n",
       "    }\n",
       "\n",
       "    .dataframe thead th {\n",
       "        text-align: right;\n",
       "    }\n",
       "</style>\n",
       "<table border=\"1\" class=\"dataframe\">\n",
       "  <thead>\n",
       "    <tr style=\"text-align: right;\">\n",
       "      <th></th>\n",
       "      <th>Wohnort</th>\n",
       "      <th>Telefonnummer</th>\n",
       "      <th>Name</th>\n",
       "      <th>Alter</th>\n",
       "    </tr>\n",
       "  </thead>\n",
       "  <tbody>\n",
       "    <tr>\n",
       "      <th>K0</th>\n",
       "      <td>Rostock</td>\n",
       "      <td>030 215783</td>\n",
       "      <td>Franz</td>\n",
       "      <td>67</td>\n",
       "    </tr>\n",
       "    <tr>\n",
       "      <th>K2</th>\n",
       "      <td>Nürnberg</td>\n",
       "      <td>030 847735</td>\n",
       "      <td>Chloé</td>\n",
       "      <td>41</td>\n",
       "    </tr>\n",
       "    <tr>\n",
       "      <th>K3</th>\n",
       "      <td>Berlin</td>\n",
       "      <td>030 781404</td>\n",
       "      <td>NaN</td>\n",
       "      <td>NaN</td>\n",
       "    </tr>\n",
       "  </tbody>\n",
       "</table>\n",
       "</div>"
      ]
     },
     "execution_count": 25,
     "metadata": {},
     "output_type": "execute_result"
    }
   ],
   "execution_count": 25
  },
  {
   "cell_type": "code",
   "metadata": {
    "ExecuteTime": {
     "end_time": "2024-11-14T11:10:14.890368600Z",
     "start_time": "2024-11-14T08:21:23.873578Z"
    }
   },
   "source": [
    "# Right join\n",
    "# Keys der rechten (zweiten) Datensatzes werden genutzt,\n",
    "# und um entsprechende Daten aus dem linken (ersten) ergänzt.\n",
    "# Wo der erste keine Indices hat, entstehen NaNs \n",
    "contacts1.join(contacts2, how=\"right\")"
   ],
   "outputs": [
    {
     "data": {
      "text/plain": [
       "     Name Alter   Wohnort Telefonnummer\n",
       "K0  Franz    67   Rostock    030 215783\n",
       "K2  Chloé    41  Nürnberg    030 847735\n",
       "K3    NaN   NaN    Berlin    030 781404"
      ],
      "text/html": [
       "<div>\n",
       "<style scoped>\n",
       "    .dataframe tbody tr th:only-of-type {\n",
       "        vertical-align: middle;\n",
       "    }\n",
       "\n",
       "    .dataframe tbody tr th {\n",
       "        vertical-align: top;\n",
       "    }\n",
       "\n",
       "    .dataframe thead th {\n",
       "        text-align: right;\n",
       "    }\n",
       "</style>\n",
       "<table border=\"1\" class=\"dataframe\">\n",
       "  <thead>\n",
       "    <tr style=\"text-align: right;\">\n",
       "      <th></th>\n",
       "      <th>Name</th>\n",
       "      <th>Alter</th>\n",
       "      <th>Wohnort</th>\n",
       "      <th>Telefonnummer</th>\n",
       "    </tr>\n",
       "  </thead>\n",
       "  <tbody>\n",
       "    <tr>\n",
       "      <th>K0</th>\n",
       "      <td>Franz</td>\n",
       "      <td>67</td>\n",
       "      <td>Rostock</td>\n",
       "      <td>030 215783</td>\n",
       "    </tr>\n",
       "    <tr>\n",
       "      <th>K2</th>\n",
       "      <td>Chloé</td>\n",
       "      <td>41</td>\n",
       "      <td>Nürnberg</td>\n",
       "      <td>030 847735</td>\n",
       "    </tr>\n",
       "    <tr>\n",
       "      <th>K3</th>\n",
       "      <td>NaN</td>\n",
       "      <td>NaN</td>\n",
       "      <td>Berlin</td>\n",
       "      <td>030 781404</td>\n",
       "    </tr>\n",
       "  </tbody>\n",
       "</table>\n",
       "</div>"
      ]
     },
     "execution_count": 26,
     "metadata": {},
     "output_type": "execute_result"
    }
   ],
   "execution_count": 26
  },
  {
   "cell_type": "code",
   "metadata": {
    "ExecuteTime": {
     "end_time": "2024-11-14T11:10:14.891369500Z",
     "start_time": "2024-11-14T08:21:26.006451Z"
    }
   },
   "source": [
    "# Outer join\n",
    "# Alle Keys aus BEIDEN Datensätzen werden genutzt\n",
    "# Maximale \"NaN-Dichte\" wird erreicht:\n",
    "contacts1.join(contacts2, how=\"outer\")"
   ],
   "outputs": [
    {
     "data": {
      "text/plain": [
       "     Name Alter   Wohnort Telefonnummer\n",
       "K0  Franz    67   Rostock    030 215783\n",
       "K1   Lena    31       NaN           NaN\n",
       "K2  Chloé    41  Nürnberg    030 847735\n",
       "K3    NaN   NaN    Berlin    030 781404"
      ],
      "text/html": [
       "<div>\n",
       "<style scoped>\n",
       "    .dataframe tbody tr th:only-of-type {\n",
       "        vertical-align: middle;\n",
       "    }\n",
       "\n",
       "    .dataframe tbody tr th {\n",
       "        vertical-align: top;\n",
       "    }\n",
       "\n",
       "    .dataframe thead th {\n",
       "        text-align: right;\n",
       "    }\n",
       "</style>\n",
       "<table border=\"1\" class=\"dataframe\">\n",
       "  <thead>\n",
       "    <tr style=\"text-align: right;\">\n",
       "      <th></th>\n",
       "      <th>Name</th>\n",
       "      <th>Alter</th>\n",
       "      <th>Wohnort</th>\n",
       "      <th>Telefonnummer</th>\n",
       "    </tr>\n",
       "  </thead>\n",
       "  <tbody>\n",
       "    <tr>\n",
       "      <th>K0</th>\n",
       "      <td>Franz</td>\n",
       "      <td>67</td>\n",
       "      <td>Rostock</td>\n",
       "      <td>030 215783</td>\n",
       "    </tr>\n",
       "    <tr>\n",
       "      <th>K1</th>\n",
       "      <td>Lena</td>\n",
       "      <td>31</td>\n",
       "      <td>NaN</td>\n",
       "      <td>NaN</td>\n",
       "    </tr>\n",
       "    <tr>\n",
       "      <th>K2</th>\n",
       "      <td>Chloé</td>\n",
       "      <td>41</td>\n",
       "      <td>Nürnberg</td>\n",
       "      <td>030 847735</td>\n",
       "    </tr>\n",
       "    <tr>\n",
       "      <th>K3</th>\n",
       "      <td>NaN</td>\n",
       "      <td>NaN</td>\n",
       "      <td>Berlin</td>\n",
       "      <td>030 781404</td>\n",
       "    </tr>\n",
       "  </tbody>\n",
       "</table>\n",
       "</div>"
      ]
     },
     "execution_count": 27,
     "metadata": {},
     "output_type": "execute_result"
    }
   ],
   "execution_count": 27
  },
  {
   "cell_type": "code",
   "metadata": {
    "ExecuteTime": {
     "end_time": "2024-11-14T11:10:14.892370300Z",
     "start_time": "2024-11-14T08:21:27.673140Z"
    }
   },
   "source": [
    "# Inner join\n",
    "# Nur Keys, die in BEIDEN Datensätzen vorhanden sind\n",
    "# Es kommt zu keinen NaN-Werten (ist unmöglich!):\n",
    "contacts1.join(contacts2, how=\"inner\")"
   ],
   "outputs": [
    {
     "data": {
      "text/plain": [
       "     Name Alter   Wohnort Telefonnummer\n",
       "K0  Franz    67   Rostock    030 215783\n",
       "K2  Chloé    41  Nürnberg    030 847735"
      ],
      "text/html": [
       "<div>\n",
       "<style scoped>\n",
       "    .dataframe tbody tr th:only-of-type {\n",
       "        vertical-align: middle;\n",
       "    }\n",
       "\n",
       "    .dataframe tbody tr th {\n",
       "        vertical-align: top;\n",
       "    }\n",
       "\n",
       "    .dataframe thead th {\n",
       "        text-align: right;\n",
       "    }\n",
       "</style>\n",
       "<table border=\"1\" class=\"dataframe\">\n",
       "  <thead>\n",
       "    <tr style=\"text-align: right;\">\n",
       "      <th></th>\n",
       "      <th>Name</th>\n",
       "      <th>Alter</th>\n",
       "      <th>Wohnort</th>\n",
       "      <th>Telefonnummer</th>\n",
       "    </tr>\n",
       "  </thead>\n",
       "  <tbody>\n",
       "    <tr>\n",
       "      <th>K0</th>\n",
       "      <td>Franz</td>\n",
       "      <td>67</td>\n",
       "      <td>Rostock</td>\n",
       "      <td>030 215783</td>\n",
       "    </tr>\n",
       "    <tr>\n",
       "      <th>K2</th>\n",
       "      <td>Chloé</td>\n",
       "      <td>41</td>\n",
       "      <td>Nürnberg</td>\n",
       "      <td>030 847735</td>\n",
       "    </tr>\n",
       "  </tbody>\n",
       "</table>\n",
       "</div>"
      ]
     },
     "execution_count": 28,
     "metadata": {},
     "output_type": "execute_result"
    }
   ],
   "execution_count": 28
  },
  {
   "cell_type": "code",
   "metadata": {
    "ExecuteTime": {
     "end_time": "2024-11-14T11:10:14.895432600Z",
     "start_time": "2024-11-14T08:21:30.381876Z"
    }
   },
   "source": [
    "# Cross join\n",
    "# Erzeugt eine Kombination jeder Zeile des ersten Datensatzes\n",
    "# mit jeder Zeile des zweiten Datensatzes (hier nicht gerade sinnvoll)\n",
    "contacts1.join(contacts2, how=\"cross\")"
   ],
   "outputs": [
    {
     "data": {
      "text/plain": [
       "    Name Alter   Wohnort Telefonnummer\n",
       "0  Franz    67   Rostock    030 215783\n",
       "1  Franz    67  Nürnberg    030 847735\n",
       "2  Franz    67    Berlin    030 781404\n",
       "3   Lena    31   Rostock    030 215783\n",
       "4   Lena    31  Nürnberg    030 847735\n",
       "5   Lena    31    Berlin    030 781404\n",
       "6  Chloé    41   Rostock    030 215783\n",
       "7  Chloé    41  Nürnberg    030 847735\n",
       "8  Chloé    41    Berlin    030 781404"
      ],
      "text/html": [
       "<div>\n",
       "<style scoped>\n",
       "    .dataframe tbody tr th:only-of-type {\n",
       "        vertical-align: middle;\n",
       "    }\n",
       "\n",
       "    .dataframe tbody tr th {\n",
       "        vertical-align: top;\n",
       "    }\n",
       "\n",
       "    .dataframe thead th {\n",
       "        text-align: right;\n",
       "    }\n",
       "</style>\n",
       "<table border=\"1\" class=\"dataframe\">\n",
       "  <thead>\n",
       "    <tr style=\"text-align: right;\">\n",
       "      <th></th>\n",
       "      <th>Name</th>\n",
       "      <th>Alter</th>\n",
       "      <th>Wohnort</th>\n",
       "      <th>Telefonnummer</th>\n",
       "    </tr>\n",
       "  </thead>\n",
       "  <tbody>\n",
       "    <tr>\n",
       "      <th>0</th>\n",
       "      <td>Franz</td>\n",
       "      <td>67</td>\n",
       "      <td>Rostock</td>\n",
       "      <td>030 215783</td>\n",
       "    </tr>\n",
       "    <tr>\n",
       "      <th>1</th>\n",
       "      <td>Franz</td>\n",
       "      <td>67</td>\n",
       "      <td>Nürnberg</td>\n",
       "      <td>030 847735</td>\n",
       "    </tr>\n",
       "    <tr>\n",
       "      <th>2</th>\n",
       "      <td>Franz</td>\n",
       "      <td>67</td>\n",
       "      <td>Berlin</td>\n",
       "      <td>030 781404</td>\n",
       "    </tr>\n",
       "    <tr>\n",
       "      <th>3</th>\n",
       "      <td>Lena</td>\n",
       "      <td>31</td>\n",
       "      <td>Rostock</td>\n",
       "      <td>030 215783</td>\n",
       "    </tr>\n",
       "    <tr>\n",
       "      <th>4</th>\n",
       "      <td>Lena</td>\n",
       "      <td>31</td>\n",
       "      <td>Nürnberg</td>\n",
       "      <td>030 847735</td>\n",
       "    </tr>\n",
       "    <tr>\n",
       "      <th>5</th>\n",
       "      <td>Lena</td>\n",
       "      <td>31</td>\n",
       "      <td>Berlin</td>\n",
       "      <td>030 781404</td>\n",
       "    </tr>\n",
       "    <tr>\n",
       "      <th>6</th>\n",
       "      <td>Chloé</td>\n",
       "      <td>41</td>\n",
       "      <td>Rostock</td>\n",
       "      <td>030 215783</td>\n",
       "    </tr>\n",
       "    <tr>\n",
       "      <th>7</th>\n",
       "      <td>Chloé</td>\n",
       "      <td>41</td>\n",
       "      <td>Nürnberg</td>\n",
       "      <td>030 847735</td>\n",
       "    </tr>\n",
       "    <tr>\n",
       "      <th>8</th>\n",
       "      <td>Chloé</td>\n",
       "      <td>41</td>\n",
       "      <td>Berlin</td>\n",
       "      <td>030 781404</td>\n",
       "    </tr>\n",
       "  </tbody>\n",
       "</table>\n",
       "</div>"
      ]
     },
     "execution_count": 29,
     "metadata": {},
     "output_type": "execute_result"
    }
   ],
   "execution_count": 29
  },
  {
   "cell_type": "markdown",
   "metadata": {},
   "source": [
    "#### Zusammenfügen mehrerer Datensätze"
   ]
  },
  {
   "cell_type": "code",
   "metadata": {
    "ExecuteTime": {
     "end_time": "2024-11-14T11:10:14.900295400Z",
     "start_time": "2024-11-14T08:23:55.837677Z"
    }
   },
   "source": [
    "print(contacts1)\n",
    "print()\n",
    "print(contacts2)\n"
   ],
   "outputs": [
    {
     "name": "stdout",
     "output_type": "stream",
     "text": [
      "     Name Alter\n",
      "K0  Franz    67\n",
      "K1   Lena    31\n",
      "K2  Chloé    41\n",
      "\n",
      "     Wohnort Telefonnummer\n",
      "K0   Rostock    030 215783\n",
      "K2  Nürnberg    030 847735\n",
      "K3    Berlin    030 781404\n"
     ]
    }
   ],
   "execution_count": 30
  },
  {
   "cell_type": "code",
   "metadata": {
    "collapsed": false,
    "ExecuteTime": {
     "end_time": "2024-11-14T11:10:14.901584300Z",
     "start_time": "2024-11-14T08:23:57.919734Z"
    }
   },
   "source": [
    "# Mit zwei dfs kennen wir das Spiel schon:\n",
    "contacts1.join(contacts2, how='outer')"
   ],
   "outputs": [
    {
     "data": {
      "text/plain": [
       "     Name Alter   Wohnort Telefonnummer\n",
       "K0  Franz    67   Rostock    030 215783\n",
       "K1   Lena    31       NaN           NaN\n",
       "K2  Chloé    41  Nürnberg    030 847735\n",
       "K3    NaN   NaN    Berlin    030 781404"
      ],
      "text/html": [
       "<div>\n",
       "<style scoped>\n",
       "    .dataframe tbody tr th:only-of-type {\n",
       "        vertical-align: middle;\n",
       "    }\n",
       "\n",
       "    .dataframe tbody tr th {\n",
       "        vertical-align: top;\n",
       "    }\n",
       "\n",
       "    .dataframe thead th {\n",
       "        text-align: right;\n",
       "    }\n",
       "</style>\n",
       "<table border=\"1\" class=\"dataframe\">\n",
       "  <thead>\n",
       "    <tr style=\"text-align: right;\">\n",
       "      <th></th>\n",
       "      <th>Name</th>\n",
       "      <th>Alter</th>\n",
       "      <th>Wohnort</th>\n",
       "      <th>Telefonnummer</th>\n",
       "    </tr>\n",
       "  </thead>\n",
       "  <tbody>\n",
       "    <tr>\n",
       "      <th>K0</th>\n",
       "      <td>Franz</td>\n",
       "      <td>67</td>\n",
       "      <td>Rostock</td>\n",
       "      <td>030 215783</td>\n",
       "    </tr>\n",
       "    <tr>\n",
       "      <th>K1</th>\n",
       "      <td>Lena</td>\n",
       "      <td>31</td>\n",
       "      <td>NaN</td>\n",
       "      <td>NaN</td>\n",
       "    </tr>\n",
       "    <tr>\n",
       "      <th>K2</th>\n",
       "      <td>Chloé</td>\n",
       "      <td>41</td>\n",
       "      <td>Nürnberg</td>\n",
       "      <td>030 847735</td>\n",
       "    </tr>\n",
       "    <tr>\n",
       "      <th>K3</th>\n",
       "      <td>NaN</td>\n",
       "      <td>NaN</td>\n",
       "      <td>Berlin</td>\n",
       "      <td>030 781404</td>\n",
       "    </tr>\n",
       "  </tbody>\n",
       "</table>\n",
       "</div>"
      ]
     },
     "execution_count": 31,
     "metadata": {},
     "output_type": "execute_result"
    }
   ],
   "execution_count": 31
  },
  {
   "cell_type": "code",
   "metadata": {
    "ExecuteTime": {
     "end_time": "2024-11-14T11:10:14.903583700Z",
     "start_time": "2024-11-14T08:23:59.571575Z"
    }
   },
   "source": [
    "# Aber jetzt haben wir noch eine Nummer 3:\n",
    "contacts3 = pd.DataFrame({\"Position\": [\"Rentner\", \"Verkäuferin\", \"Data Engineer\"],\n",
    "                    \"Gehalt\": [\"1400\", \"3000\", \"3800\"]},\n",
    "                   index=[\"K1\", \"K3\", \"K4\"])\n",
    "\n",
    "contacts3"
   ],
   "outputs": [
    {
     "data": {
      "text/plain": [
       "         Position Gehalt\n",
       "K1        Rentner   1400\n",
       "K3    Verkäuferin   3000\n",
       "K4  Data Engineer   3800"
      ],
      "text/html": [
       "<div>\n",
       "<style scoped>\n",
       "    .dataframe tbody tr th:only-of-type {\n",
       "        vertical-align: middle;\n",
       "    }\n",
       "\n",
       "    .dataframe tbody tr th {\n",
       "        vertical-align: top;\n",
       "    }\n",
       "\n",
       "    .dataframe thead th {\n",
       "        text-align: right;\n",
       "    }\n",
       "</style>\n",
       "<table border=\"1\" class=\"dataframe\">\n",
       "  <thead>\n",
       "    <tr style=\"text-align: right;\">\n",
       "      <th></th>\n",
       "      <th>Position</th>\n",
       "      <th>Gehalt</th>\n",
       "    </tr>\n",
       "  </thead>\n",
       "  <tbody>\n",
       "    <tr>\n",
       "      <th>K1</th>\n",
       "      <td>Rentner</td>\n",
       "      <td>1400</td>\n",
       "    </tr>\n",
       "    <tr>\n",
       "      <th>K3</th>\n",
       "      <td>Verkäuferin</td>\n",
       "      <td>3000</td>\n",
       "    </tr>\n",
       "    <tr>\n",
       "      <th>K4</th>\n",
       "      <td>Data Engineer</td>\n",
       "      <td>3800</td>\n",
       "    </tr>\n",
       "  </tbody>\n",
       "</table>\n",
       "</div>"
      ]
     },
     "execution_count": 32,
     "metadata": {},
     "output_type": "execute_result"
    }
   ],
   "execution_count": 32
  },
  {
   "cell_type": "code",
   "metadata": {
    "ExecuteTime": {
     "end_time": "2024-11-14T11:10:14.905095500Z",
     "start_time": "2024-11-14T08:24:01.488962Z"
    }
   },
   "source": [
    "# joinen mehrerer dfs an contacts1 über Liste möglich:\n",
    "contacts1.join([contacts2, contacts3], how=\"outer\")"
   ],
   "outputs": [
    {
     "data": {
      "text/plain": [
       "     Name Alter   Wohnort Telefonnummer       Position Gehalt\n",
       "K0  Franz    67   Rostock    030 215783            NaN    NaN\n",
       "K1   Lena    31       NaN           NaN        Rentner   1400\n",
       "K2  Chloé    41  Nürnberg    030 847735            NaN    NaN\n",
       "K3    NaN   NaN    Berlin    030 781404    Verkäuferin   3000\n",
       "K4    NaN   NaN       NaN           NaN  Data Engineer   3800"
      ],
      "text/html": [
       "<div>\n",
       "<style scoped>\n",
       "    .dataframe tbody tr th:only-of-type {\n",
       "        vertical-align: middle;\n",
       "    }\n",
       "\n",
       "    .dataframe tbody tr th {\n",
       "        vertical-align: top;\n",
       "    }\n",
       "\n",
       "    .dataframe thead th {\n",
       "        text-align: right;\n",
       "    }\n",
       "</style>\n",
       "<table border=\"1\" class=\"dataframe\">\n",
       "  <thead>\n",
       "    <tr style=\"text-align: right;\">\n",
       "      <th></th>\n",
       "      <th>Name</th>\n",
       "      <th>Alter</th>\n",
       "      <th>Wohnort</th>\n",
       "      <th>Telefonnummer</th>\n",
       "      <th>Position</th>\n",
       "      <th>Gehalt</th>\n",
       "    </tr>\n",
       "  </thead>\n",
       "  <tbody>\n",
       "    <tr>\n",
       "      <th>K0</th>\n",
       "      <td>Franz</td>\n",
       "      <td>67</td>\n",
       "      <td>Rostock</td>\n",
       "      <td>030 215783</td>\n",
       "      <td>NaN</td>\n",
       "      <td>NaN</td>\n",
       "    </tr>\n",
       "    <tr>\n",
       "      <th>K1</th>\n",
       "      <td>Lena</td>\n",
       "      <td>31</td>\n",
       "      <td>NaN</td>\n",
       "      <td>NaN</td>\n",
       "      <td>Rentner</td>\n",
       "      <td>1400</td>\n",
       "    </tr>\n",
       "    <tr>\n",
       "      <th>K2</th>\n",
       "      <td>Chloé</td>\n",
       "      <td>41</td>\n",
       "      <td>Nürnberg</td>\n",
       "      <td>030 847735</td>\n",
       "      <td>NaN</td>\n",
       "      <td>NaN</td>\n",
       "    </tr>\n",
       "    <tr>\n",
       "      <th>K3</th>\n",
       "      <td>NaN</td>\n",
       "      <td>NaN</td>\n",
       "      <td>Berlin</td>\n",
       "      <td>030 781404</td>\n",
       "      <td>Verkäuferin</td>\n",
       "      <td>3000</td>\n",
       "    </tr>\n",
       "    <tr>\n",
       "      <th>K4</th>\n",
       "      <td>NaN</td>\n",
       "      <td>NaN</td>\n",
       "      <td>NaN</td>\n",
       "      <td>NaN</td>\n",
       "      <td>Data Engineer</td>\n",
       "      <td>3800</td>\n",
       "    </tr>\n",
       "  </tbody>\n",
       "</table>\n",
       "</div>"
      ]
     },
     "execution_count": 33,
     "metadata": {},
     "output_type": "execute_result"
    }
   ],
   "execution_count": 33
  },
  {
   "cell_type": "code",
   "metadata": {
    "ExecuteTime": {
     "end_time": "2024-11-14T11:10:14.907094700Z",
     "start_time": "2024-11-14T08:35:58.600573Z"
    }
   },
   "source": [
    "# Bonusfrage: Was zum Teufel ist denn hier passiert?\n",
    "contacts1.join([contacts2, contacts3], how=\"inner\")\n",
    "# es gibt keinen einzigen übereinstimmenden Index dadurch wird kein df generiert"
   ],
   "outputs": [
    {
     "data": {
      "text/plain": [
       "Empty DataFrame\n",
       "Columns: [Name, Alter, Kontakt-ID, Wohnort, Telefonnummer, Position, Gehalt]\n",
       "Index: []"
      ],
      "text/html": [
       "<div>\n",
       "<style scoped>\n",
       "    .dataframe tbody tr th:only-of-type {\n",
       "        vertical-align: middle;\n",
       "    }\n",
       "\n",
       "    .dataframe tbody tr th {\n",
       "        vertical-align: top;\n",
       "    }\n",
       "\n",
       "    .dataframe thead th {\n",
       "        text-align: right;\n",
       "    }\n",
       "</style>\n",
       "<table border=\"1\" class=\"dataframe\">\n",
       "  <thead>\n",
       "    <tr style=\"text-align: right;\">\n",
       "      <th></th>\n",
       "      <th>Name</th>\n",
       "      <th>Alter</th>\n",
       "      <th>Kontakt-ID</th>\n",
       "      <th>Wohnort</th>\n",
       "      <th>Telefonnummer</th>\n",
       "      <th>Position</th>\n",
       "      <th>Gehalt</th>\n",
       "    </tr>\n",
       "  </thead>\n",
       "  <tbody>\n",
       "  </tbody>\n",
       "</table>\n",
       "</div>"
      ]
     },
     "execution_count": 40,
     "metadata": {},
     "output_type": "execute_result"
    }
   ],
   "execution_count": 40
  },
  {
   "cell_type": "code",
   "metadata": {
    "ExecuteTime": {
     "end_time": "2024-11-14T11:10:14.910095700Z",
     "start_time": "2024-11-14T08:24:08.710713Z"
    }
   },
   "source": [
    "# Bonus-Info!\n",
    "# join hat noch eine weitere Fähigkeit mit 'on'\n",
    "# Der join kann über eine wählbare Spalte aus dem linken DataFrame \n",
    "# mit dem Index des rechten DataFrames erfolgen.\n",
    "# Wir modifizieren contacts1, sodass dort die \"Indices\" in einer Spalte vorkommen!\n",
    "\n",
    "contacts1 = pd.DataFrame({\"Name\": [\"Franz\", \"Lena\", \"Chloé\"],\n",
    "                          \"Alter\": [\"67\", \"31\", \"41\"],\n",
    "                          \"Kontakt-ID\": [\"K0\", \"K1\", \"K2\"]})\n",
    "\n",
    "contacts2 = pd.DataFrame({\"Wohnort\": [\"Rostock\", \"Nürnberg\", \"Berlin\"],\n",
    "                          \"Telefonnummer\": [\"030 215783\", \"030 847735\", \"030 781404\"]}, \n",
    "                          index=[\"K0\", \"K2\", \"K3\"])\n",
    "\n",
    "print(contacts1)\n",
    "print()\n",
    "print(contacts2)"
   ],
   "outputs": [
    {
     "name": "stdout",
     "output_type": "stream",
     "text": [
      "    Name Alter Kontakt-ID\n",
      "0  Franz    67         K0\n",
      "1   Lena    31         K1\n",
      "2  Chloé    41         K2\n",
      "\n",
      "     Wohnort Telefonnummer\n",
      "K0   Rostock    030 215783\n",
      "K2  Nürnberg    030 847735\n",
      "K3    Berlin    030 781404\n"
     ]
    }
   ],
   "execution_count": 36
  },
  {
   "cell_type": "code",
   "metadata": {
    "ExecuteTime": {
     "end_time": "2024-11-14T11:10:14.911095100Z",
     "start_time": "2024-11-14T08:55:27.167425Z"
    }
   },
   "source": [
    "contacts1.join(contacts2, on='Kontakt-ID')"
   ],
   "outputs": [
    {
     "ename": "NameError",
     "evalue": "name 'contacts1' is not defined",
     "output_type": "error",
     "traceback": [
      "\u001B[1;31m---------------------------------------------------------------------------\u001B[0m",
      "\u001B[1;31mNameError\u001B[0m                                 Traceback (most recent call last)",
      "Cell \u001B[1;32mIn[11], line 1\u001B[0m\n\u001B[1;32m----> 1\u001B[0m \u001B[43mcontacts1\u001B[49m\u001B[38;5;241m.\u001B[39mjoin(contacts2, on\u001B[38;5;241m=\u001B[39m\u001B[38;5;124m'\u001B[39m\u001B[38;5;124mKontakt-ID\u001B[39m\u001B[38;5;124m'\u001B[39m)\n",
      "\u001B[1;31mNameError\u001B[0m: name 'contacts1' is not defined"
     ]
    }
   ],
   "execution_count": 11
  },
  {
   "cell_type": "code",
   "metadata": {
    "ExecuteTime": {
     "end_time": "2024-11-14T11:10:14.912098700Z",
     "start_time": "2024-11-14T08:24:14.376574Z"
    }
   },
   "source": [
    "# Aber man kann solche Dinge (und noch mehr) auch mit merge erreichen!"
   ],
   "outputs": [],
   "execution_count": 38
  },
  {
   "cell_type": "markdown",
   "metadata": {},
   "source": [
    "#### Beide Serien zu einem DataFrame verbinden\n"
   ]
  },
  {
   "cell_type": "markdown",
   "metadata": {},
   "source": [
    "#### Übungsaufgabe `concat` + `join`\n",
    "\n",
    "Zeit: 30 Minuten\n",
    "\n",
    "Gegeben sind Temperaturmessdaten (`temp`), Zeitstempel (`uhrzeiten`), \n",
    " Luftdruckdaten (`druck_dict`) und Geolokationsdaten (`geo_dict`).\n",
    "1. Wandel die Temperaturdaten und Zeitstempel in Series um und kombiniere \n",
    "sie anschließend zu einem DataFrame namens `temp_df`.\n",
    "2. Wandel die beiden Dictionaries jedes in jeweils einen DataFrame um (`druck_df`, `geo_df`).\n",
    "3. Füge die Druckdaten an den DataFrame aus 1. an und speichere den neuen \n",
    "DataFrame als `df_gesamt`.\n",
    "4. Kombiniere `df_gesamt` so mit dem Geolokalisation-DataFrame, dass du für \n",
    "jede in `df_gesamt` vorkommende Stadt die Breiten- und Längengrade im \n",
    "resultierenden DataFrame erhältst. (Tipp: Hierfür müssen die Indices \n",
    "verändert werden).\n",
    "\n",
    "    Output:\n",
    "    ```\n",
    "                        Zeitstempel  Temperatur  Luftdruck  Breitengrad  Laengengrad  \n",
    "    Location                                                              \n",
    "    Berlin         2023-01-01 19:08         4.5     1001.2        52.31        13.24\n",
    "    München        2023-01-01 18:17         6.3      997.8        48.80        11.34\n",
    "    Wilhelmshaven  2023-01-01 06:03         3.8     1002.5          NaN          NaN\n",
    "    Kassel         2023-01-01 02:17         5.1     1000.1        49.28      -123.13\n",
    "    Frankfurt      2023-01-01 22:02         4.9      998.9        47.61      -122.33\n",
    "    Duisburg       2023-01-01 16:00         5.7     1001.5        53.55      -113.49\n",
    "    Dresden        2023-01-01 21:04         4.2      999.2          NaN          NaN\n",
    "    Würzburg       2023-01-01 11:16         6.0     1002.8        51.05      -114.07\n",
    "    ```\n"
   ]
  },
  {
   "cell_type": "code",
   "metadata": {
    "ExecuteTime": {
     "end_time": "2024-11-14T11:12:17.967779Z",
     "start_time": "2024-11-14T11:12:17.961825Z"
    }
   },
   "source": [
    "# Temperatur-Messwerte\n",
    "temp = [4.5, 6.3, 3.8, 5.1, 4.9, 5.7, 4.2, 6.0]\n",
    "\n",
    "# Zeitstempel für Messzeitpunkt\n",
    "uhrzeiten = ['2023-01-01 19:08',\n",
    "             '2023-01-01 18:17',\n",
    "             '2023-01-01 06:03',\n",
    "             '2023-01-01 02:17',\n",
    "             '2023-01-01 22:02',\n",
    "             '2023-01-01 16:00',\n",
    "             '2023-01-01 21:04',\n",
    "             '2023-01-01 11:16']\n",
    "\n",
    "# Orte und Luftdruckmessung\n",
    "druck_dict = {'Location': ['Berlin', 'München', 'Wilhelmshaven',\n",
    "                           'Kassel', 'Frankfurt', 'Duisburg',\n",
    "                           'Dresden', 'Würzburg'],\n",
    "              'Luftdruck': [1001.2, 997.8, 1002.5, 1000.1, 998.9,\n",
    "                            1001.5, 999.2, 1002.8]}\n",
    "\n",
    "# Längen- und Breitengrade der Orte\n",
    "geo_dict = {'Location': ['Berlin', 'München', 'Hamburg', 'Köln',\n",
    "                         'Frankfurt', 'Duisburg', 'Kassel', 'Würzburg'],\n",
    "            'Breitengrad': [52.31, 48.8, 53.33, 45.75, 47.61,\n",
    "                            53.55, 49.28, 51.05],\n",
    "            'Laengengrad': [13.24, 11.34, 10.0, -122.43, -122.33,\n",
    "                            -113.49, -123.13, -114.07]}"
   ],
   "outputs": [],
   "execution_count": 12
  },
  {
   "cell_type": "code",
   "metadata": {
    "ExecuteTime": {
     "end_time": "2024-11-14T11:22:19.147938Z",
     "start_time": "2024-11-14T11:22:19.138064Z"
    }
   },
   "source": [
    "# 1\n",
    "temp_data = pd.Series(temp, name='Temperature')\n",
    "time_data = pd.Series(uhrzeiten, name='Timestamps')\n",
    "temp_df = pd.concat([temp_data, time_data], axis=1)\n",
    "temp_df"
   ],
   "outputs": [
    {
     "data": {
      "text/plain": [
       "                  Temperature\n",
       "Timestamps                   \n",
       "2023-01-01 19:08          NaN\n",
       "2023-01-01 18:17          NaN\n",
       "2023-01-01 06:03          NaN\n",
       "2023-01-01 02:17          NaN\n",
       "2023-01-01 22:02          NaN\n",
       "2023-01-01 16:00          NaN\n",
       "2023-01-01 21:04          NaN\n",
       "2023-01-01 11:16          NaN"
      ],
      "text/html": [
       "<div>\n",
       "<style scoped>\n",
       "    .dataframe tbody tr th:only-of-type {\n",
       "        vertical-align: middle;\n",
       "    }\n",
       "\n",
       "    .dataframe tbody tr th {\n",
       "        vertical-align: top;\n",
       "    }\n",
       "\n",
       "    .dataframe thead th {\n",
       "        text-align: right;\n",
       "    }\n",
       "</style>\n",
       "<table border=\"1\" class=\"dataframe\">\n",
       "  <thead>\n",
       "    <tr style=\"text-align: right;\">\n",
       "      <th></th>\n",
       "      <th>Temperature</th>\n",
       "    </tr>\n",
       "    <tr>\n",
       "      <th>Timestamps</th>\n",
       "      <th></th>\n",
       "    </tr>\n",
       "  </thead>\n",
       "  <tbody>\n",
       "    <tr>\n",
       "      <th>2023-01-01 19:08</th>\n",
       "      <td>NaN</td>\n",
       "    </tr>\n",
       "    <tr>\n",
       "      <th>2023-01-01 18:17</th>\n",
       "      <td>NaN</td>\n",
       "    </tr>\n",
       "    <tr>\n",
       "      <th>2023-01-01 06:03</th>\n",
       "      <td>NaN</td>\n",
       "    </tr>\n",
       "    <tr>\n",
       "      <th>2023-01-01 02:17</th>\n",
       "      <td>NaN</td>\n",
       "    </tr>\n",
       "    <tr>\n",
       "      <th>2023-01-01 22:02</th>\n",
       "      <td>NaN</td>\n",
       "    </tr>\n",
       "    <tr>\n",
       "      <th>2023-01-01 16:00</th>\n",
       "      <td>NaN</td>\n",
       "    </tr>\n",
       "    <tr>\n",
       "      <th>2023-01-01 21:04</th>\n",
       "      <td>NaN</td>\n",
       "    </tr>\n",
       "    <tr>\n",
       "      <th>2023-01-01 11:16</th>\n",
       "      <td>NaN</td>\n",
       "    </tr>\n",
       "  </tbody>\n",
       "</table>\n",
       "</div>"
      ]
     },
     "execution_count": 27,
     "metadata": {},
     "output_type": "execute_result"
    }
   ],
   "execution_count": 27
  },
  {
   "cell_type": "code",
   "metadata": {
    "ExecuteTime": {
     "end_time": "2024-11-14T11:12:21.576826Z",
     "start_time": "2024-11-14T11:12:21.571179Z"
    }
   },
   "source": [
    "#2\n",
    "druck_df = pd.DataFrame(druck_dict).set_index('Location')\n",
    "geo_df = pd.DataFrame(geo_dict).set_index('Location')"
   ],
   "outputs": [],
   "execution_count": 14
  },
  {
   "metadata": {
    "ExecuteTime": {
     "end_time": "2024-11-14T11:12:23.494205Z",
     "start_time": "2024-11-14T11:12:23.482649Z"
    }
   },
   "cell_type": "code",
   "source": "druck_df",
   "outputs": [
    {
     "data": {
      "text/plain": [
       "               Luftdruck\n",
       "Location                \n",
       "Berlin            1001.2\n",
       "München            997.8\n",
       "Wilhelmshaven     1002.5\n",
       "Kassel            1000.1\n",
       "Frankfurt          998.9\n",
       "Duisburg          1001.5\n",
       "Dresden            999.2\n",
       "Würzburg          1002.8"
      ],
      "text/html": [
       "<div>\n",
       "<style scoped>\n",
       "    .dataframe tbody tr th:only-of-type {\n",
       "        vertical-align: middle;\n",
       "    }\n",
       "\n",
       "    .dataframe tbody tr th {\n",
       "        vertical-align: top;\n",
       "    }\n",
       "\n",
       "    .dataframe thead th {\n",
       "        text-align: right;\n",
       "    }\n",
       "</style>\n",
       "<table border=\"1\" class=\"dataframe\">\n",
       "  <thead>\n",
       "    <tr style=\"text-align: right;\">\n",
       "      <th></th>\n",
       "      <th>Luftdruck</th>\n",
       "    </tr>\n",
       "    <tr>\n",
       "      <th>Location</th>\n",
       "      <th></th>\n",
       "    </tr>\n",
       "  </thead>\n",
       "  <tbody>\n",
       "    <tr>\n",
       "      <th>Berlin</th>\n",
       "      <td>1001.2</td>\n",
       "    </tr>\n",
       "    <tr>\n",
       "      <th>München</th>\n",
       "      <td>997.8</td>\n",
       "    </tr>\n",
       "    <tr>\n",
       "      <th>Wilhelmshaven</th>\n",
       "      <td>1002.5</td>\n",
       "    </tr>\n",
       "    <tr>\n",
       "      <th>Kassel</th>\n",
       "      <td>1000.1</td>\n",
       "    </tr>\n",
       "    <tr>\n",
       "      <th>Frankfurt</th>\n",
       "      <td>998.9</td>\n",
       "    </tr>\n",
       "    <tr>\n",
       "      <th>Duisburg</th>\n",
       "      <td>1001.5</td>\n",
       "    </tr>\n",
       "    <tr>\n",
       "      <th>Dresden</th>\n",
       "      <td>999.2</td>\n",
       "    </tr>\n",
       "    <tr>\n",
       "      <th>Würzburg</th>\n",
       "      <td>1002.8</td>\n",
       "    </tr>\n",
       "  </tbody>\n",
       "</table>\n",
       "</div>"
      ]
     },
     "execution_count": 15,
     "metadata": {},
     "output_type": "execute_result"
    }
   ],
   "execution_count": 15
  },
  {
   "metadata": {
    "ExecuteTime": {
     "end_time": "2024-11-14T11:12:25.249930Z",
     "start_time": "2024-11-14T11:12:25.239946Z"
    }
   },
   "cell_type": "code",
   "source": "geo_df",
   "outputs": [
    {
     "data": {
      "text/plain": [
       "           Breitengrad  Laengengrad\n",
       "Location                           \n",
       "Berlin           52.31        13.24\n",
       "München          48.80        11.34\n",
       "Hamburg          53.33        10.00\n",
       "Köln             45.75      -122.43\n",
       "Frankfurt        47.61      -122.33\n",
       "Duisburg         53.55      -113.49\n",
       "Kassel           49.28      -123.13\n",
       "Würzburg         51.05      -114.07"
      ],
      "text/html": [
       "<div>\n",
       "<style scoped>\n",
       "    .dataframe tbody tr th:only-of-type {\n",
       "        vertical-align: middle;\n",
       "    }\n",
       "\n",
       "    .dataframe tbody tr th {\n",
       "        vertical-align: top;\n",
       "    }\n",
       "\n",
       "    .dataframe thead th {\n",
       "        text-align: right;\n",
       "    }\n",
       "</style>\n",
       "<table border=\"1\" class=\"dataframe\">\n",
       "  <thead>\n",
       "    <tr style=\"text-align: right;\">\n",
       "      <th></th>\n",
       "      <th>Breitengrad</th>\n",
       "      <th>Laengengrad</th>\n",
       "    </tr>\n",
       "    <tr>\n",
       "      <th>Location</th>\n",
       "      <th></th>\n",
       "      <th></th>\n",
       "    </tr>\n",
       "  </thead>\n",
       "  <tbody>\n",
       "    <tr>\n",
       "      <th>Berlin</th>\n",
       "      <td>52.31</td>\n",
       "      <td>13.24</td>\n",
       "    </tr>\n",
       "    <tr>\n",
       "      <th>München</th>\n",
       "      <td>48.80</td>\n",
       "      <td>11.34</td>\n",
       "    </tr>\n",
       "    <tr>\n",
       "      <th>Hamburg</th>\n",
       "      <td>53.33</td>\n",
       "      <td>10.00</td>\n",
       "    </tr>\n",
       "    <tr>\n",
       "      <th>Köln</th>\n",
       "      <td>45.75</td>\n",
       "      <td>-122.43</td>\n",
       "    </tr>\n",
       "    <tr>\n",
       "      <th>Frankfurt</th>\n",
       "      <td>47.61</td>\n",
       "      <td>-122.33</td>\n",
       "    </tr>\n",
       "    <tr>\n",
       "      <th>Duisburg</th>\n",
       "      <td>53.55</td>\n",
       "      <td>-113.49</td>\n",
       "    </tr>\n",
       "    <tr>\n",
       "      <th>Kassel</th>\n",
       "      <td>49.28</td>\n",
       "      <td>-123.13</td>\n",
       "    </tr>\n",
       "    <tr>\n",
       "      <th>Würzburg</th>\n",
       "      <td>51.05</td>\n",
       "      <td>-114.07</td>\n",
       "    </tr>\n",
       "  </tbody>\n",
       "</table>\n",
       "</div>"
      ]
     },
     "execution_count": 16,
     "metadata": {},
     "output_type": "execute_result"
    }
   ],
   "execution_count": 16
  },
  {
   "cell_type": "code",
   "metadata": {
    "ExecuteTime": {
     "end_time": "2024-11-14T11:18:15.221578Z",
     "start_time": "2024-11-14T11:18:15.200274Z"
    }
   },
   "source": [
    "# 3\n",
    "gesamt_df = pd.concat([temp_df, druck_df, geo_df], axis=1)\n",
    "gesamt_df"
   ],
   "outputs": [
    {
     "data": {
      "text/plain": [
       "               Temperature        Timestamps  Luftdruck  Breitengrad  \\\n",
       "0                      4.5  2023-01-01 19:08        NaN          NaN   \n",
       "1                      6.3  2023-01-01 18:17        NaN          NaN   \n",
       "2                      3.8  2023-01-01 06:03        NaN          NaN   \n",
       "3                      5.1  2023-01-01 02:17        NaN          NaN   \n",
       "4                      4.9  2023-01-01 22:02        NaN          NaN   \n",
       "5                      5.7  2023-01-01 16:00        NaN          NaN   \n",
       "6                      4.2  2023-01-01 21:04        NaN          NaN   \n",
       "7                      6.0  2023-01-01 11:16        NaN          NaN   \n",
       "Berlin                 NaN               NaN     1001.2        52.31   \n",
       "München                NaN               NaN      997.8        48.80   \n",
       "Wilhelmshaven          NaN               NaN     1002.5          NaN   \n",
       "Kassel                 NaN               NaN     1000.1        49.28   \n",
       "Frankfurt              NaN               NaN      998.9        47.61   \n",
       "Duisburg               NaN               NaN     1001.5        53.55   \n",
       "Dresden                NaN               NaN      999.2          NaN   \n",
       "Würzburg               NaN               NaN     1002.8        51.05   \n",
       "Hamburg                NaN               NaN        NaN        53.33   \n",
       "Köln                   NaN               NaN        NaN        45.75   \n",
       "\n",
       "               Laengengrad  \n",
       "0                      NaN  \n",
       "1                      NaN  \n",
       "2                      NaN  \n",
       "3                      NaN  \n",
       "4                      NaN  \n",
       "5                      NaN  \n",
       "6                      NaN  \n",
       "7                      NaN  \n",
       "Berlin               13.24  \n",
       "München              11.34  \n",
       "Wilhelmshaven          NaN  \n",
       "Kassel             -123.13  \n",
       "Frankfurt          -122.33  \n",
       "Duisburg           -113.49  \n",
       "Dresden                NaN  \n",
       "Würzburg           -114.07  \n",
       "Hamburg              10.00  \n",
       "Köln               -122.43  "
      ],
      "text/html": [
       "<div>\n",
       "<style scoped>\n",
       "    .dataframe tbody tr th:only-of-type {\n",
       "        vertical-align: middle;\n",
       "    }\n",
       "\n",
       "    .dataframe tbody tr th {\n",
       "        vertical-align: top;\n",
       "    }\n",
       "\n",
       "    .dataframe thead th {\n",
       "        text-align: right;\n",
       "    }\n",
       "</style>\n",
       "<table border=\"1\" class=\"dataframe\">\n",
       "  <thead>\n",
       "    <tr style=\"text-align: right;\">\n",
       "      <th></th>\n",
       "      <th>Temperature</th>\n",
       "      <th>Timestamps</th>\n",
       "      <th>Luftdruck</th>\n",
       "      <th>Breitengrad</th>\n",
       "      <th>Laengengrad</th>\n",
       "    </tr>\n",
       "  </thead>\n",
       "  <tbody>\n",
       "    <tr>\n",
       "      <th>0</th>\n",
       "      <td>4.5</td>\n",
       "      <td>2023-01-01 19:08</td>\n",
       "      <td>NaN</td>\n",
       "      <td>NaN</td>\n",
       "      <td>NaN</td>\n",
       "    </tr>\n",
       "    <tr>\n",
       "      <th>1</th>\n",
       "      <td>6.3</td>\n",
       "      <td>2023-01-01 18:17</td>\n",
       "      <td>NaN</td>\n",
       "      <td>NaN</td>\n",
       "      <td>NaN</td>\n",
       "    </tr>\n",
       "    <tr>\n",
       "      <th>2</th>\n",
       "      <td>3.8</td>\n",
       "      <td>2023-01-01 06:03</td>\n",
       "      <td>NaN</td>\n",
       "      <td>NaN</td>\n",
       "      <td>NaN</td>\n",
       "    </tr>\n",
       "    <tr>\n",
       "      <th>3</th>\n",
       "      <td>5.1</td>\n",
       "      <td>2023-01-01 02:17</td>\n",
       "      <td>NaN</td>\n",
       "      <td>NaN</td>\n",
       "      <td>NaN</td>\n",
       "    </tr>\n",
       "    <tr>\n",
       "      <th>4</th>\n",
       "      <td>4.9</td>\n",
       "      <td>2023-01-01 22:02</td>\n",
       "      <td>NaN</td>\n",
       "      <td>NaN</td>\n",
       "      <td>NaN</td>\n",
       "    </tr>\n",
       "    <tr>\n",
       "      <th>5</th>\n",
       "      <td>5.7</td>\n",
       "      <td>2023-01-01 16:00</td>\n",
       "      <td>NaN</td>\n",
       "      <td>NaN</td>\n",
       "      <td>NaN</td>\n",
       "    </tr>\n",
       "    <tr>\n",
       "      <th>6</th>\n",
       "      <td>4.2</td>\n",
       "      <td>2023-01-01 21:04</td>\n",
       "      <td>NaN</td>\n",
       "      <td>NaN</td>\n",
       "      <td>NaN</td>\n",
       "    </tr>\n",
       "    <tr>\n",
       "      <th>7</th>\n",
       "      <td>6.0</td>\n",
       "      <td>2023-01-01 11:16</td>\n",
       "      <td>NaN</td>\n",
       "      <td>NaN</td>\n",
       "      <td>NaN</td>\n",
       "    </tr>\n",
       "    <tr>\n",
       "      <th>Berlin</th>\n",
       "      <td>NaN</td>\n",
       "      <td>NaN</td>\n",
       "      <td>1001.2</td>\n",
       "      <td>52.31</td>\n",
       "      <td>13.24</td>\n",
       "    </tr>\n",
       "    <tr>\n",
       "      <th>München</th>\n",
       "      <td>NaN</td>\n",
       "      <td>NaN</td>\n",
       "      <td>997.8</td>\n",
       "      <td>48.80</td>\n",
       "      <td>11.34</td>\n",
       "    </tr>\n",
       "    <tr>\n",
       "      <th>Wilhelmshaven</th>\n",
       "      <td>NaN</td>\n",
       "      <td>NaN</td>\n",
       "      <td>1002.5</td>\n",
       "      <td>NaN</td>\n",
       "      <td>NaN</td>\n",
       "    </tr>\n",
       "    <tr>\n",
       "      <th>Kassel</th>\n",
       "      <td>NaN</td>\n",
       "      <td>NaN</td>\n",
       "      <td>1000.1</td>\n",
       "      <td>49.28</td>\n",
       "      <td>-123.13</td>\n",
       "    </tr>\n",
       "    <tr>\n",
       "      <th>Frankfurt</th>\n",
       "      <td>NaN</td>\n",
       "      <td>NaN</td>\n",
       "      <td>998.9</td>\n",
       "      <td>47.61</td>\n",
       "      <td>-122.33</td>\n",
       "    </tr>\n",
       "    <tr>\n",
       "      <th>Duisburg</th>\n",
       "      <td>NaN</td>\n",
       "      <td>NaN</td>\n",
       "      <td>1001.5</td>\n",
       "      <td>53.55</td>\n",
       "      <td>-113.49</td>\n",
       "    </tr>\n",
       "    <tr>\n",
       "      <th>Dresden</th>\n",
       "      <td>NaN</td>\n",
       "      <td>NaN</td>\n",
       "      <td>999.2</td>\n",
       "      <td>NaN</td>\n",
       "      <td>NaN</td>\n",
       "    </tr>\n",
       "    <tr>\n",
       "      <th>Würzburg</th>\n",
       "      <td>NaN</td>\n",
       "      <td>NaN</td>\n",
       "      <td>1002.8</td>\n",
       "      <td>51.05</td>\n",
       "      <td>-114.07</td>\n",
       "    </tr>\n",
       "    <tr>\n",
       "      <th>Hamburg</th>\n",
       "      <td>NaN</td>\n",
       "      <td>NaN</td>\n",
       "      <td>NaN</td>\n",
       "      <td>53.33</td>\n",
       "      <td>10.00</td>\n",
       "    </tr>\n",
       "    <tr>\n",
       "      <th>Köln</th>\n",
       "      <td>NaN</td>\n",
       "      <td>NaN</td>\n",
       "      <td>NaN</td>\n",
       "      <td>45.75</td>\n",
       "      <td>-122.43</td>\n",
       "    </tr>\n",
       "  </tbody>\n",
       "</table>\n",
       "</div>"
      ]
     },
     "execution_count": 25,
     "metadata": {},
     "output_type": "execute_result"
    }
   ],
   "execution_count": 25
  },
  {
   "cell_type": "code",
   "metadata": {
    "ExecuteTime": {
     "end_time": "2024-11-14T11:10:14.967229600Z",
     "start_time": "2024-11-14T10:58:37.974018Z"
    }
   },
   "source": [
    "gesamt_df = pd.concat([gesamt_df, geo_df], axis=1)\n",
    "\n",
    "gesamt_df"
   ],
   "outputs": [
    {
     "data": {
      "text/plain": [
       "               Temperature        Timestamps  Luftdruck  Breitengrad  \\\n",
       "0                      4.5  2023-01-01 19:08        NaN          NaN   \n",
       "1                      6.3  2023-01-01 18:17        NaN          NaN   \n",
       "2                      3.8  2023-01-01 06:03        NaN          NaN   \n",
       "3                      5.1  2023-01-01 02:17        NaN          NaN   \n",
       "4                      4.9  2023-01-01 22:02        NaN          NaN   \n",
       "5                      5.7  2023-01-01 16:00        NaN          NaN   \n",
       "6                      4.2  2023-01-01 21:04        NaN          NaN   \n",
       "7                      6.0  2023-01-01 11:16        NaN          NaN   \n",
       "Berlin                 NaN               NaN     1001.2        52.31   \n",
       "München                NaN               NaN      997.8        48.80   \n",
       "Wilhelmshaven          NaN               NaN     1002.5          NaN   \n",
       "Kassel                 NaN               NaN     1000.1        49.28   \n",
       "Frankfurt              NaN               NaN      998.9        47.61   \n",
       "Duisburg               NaN               NaN     1001.5        53.55   \n",
       "Dresden                NaN               NaN      999.2          NaN   \n",
       "Würzburg               NaN               NaN     1002.8        51.05   \n",
       "Hamburg                NaN               NaN        NaN        53.33   \n",
       "Köln                   NaN               NaN        NaN        45.75   \n",
       "\n",
       "               Laengengrad  \n",
       "0                      NaN  \n",
       "1                      NaN  \n",
       "2                      NaN  \n",
       "3                      NaN  \n",
       "4                      NaN  \n",
       "5                      NaN  \n",
       "6                      NaN  \n",
       "7                      NaN  \n",
       "Berlin               13.24  \n",
       "München              11.34  \n",
       "Wilhelmshaven          NaN  \n",
       "Kassel             -123.13  \n",
       "Frankfurt          -122.33  \n",
       "Duisburg           -113.49  \n",
       "Dresden                NaN  \n",
       "Würzburg           -114.07  \n",
       "Hamburg              10.00  \n",
       "Köln               -122.43  "
      ],
      "text/html": [
       "<div>\n",
       "<style scoped>\n",
       "    .dataframe tbody tr th:only-of-type {\n",
       "        vertical-align: middle;\n",
       "    }\n",
       "\n",
       "    .dataframe tbody tr th {\n",
       "        vertical-align: top;\n",
       "    }\n",
       "\n",
       "    .dataframe thead th {\n",
       "        text-align: right;\n",
       "    }\n",
       "</style>\n",
       "<table border=\"1\" class=\"dataframe\">\n",
       "  <thead>\n",
       "    <tr style=\"text-align: right;\">\n",
       "      <th></th>\n",
       "      <th>Temperature</th>\n",
       "      <th>Timestamps</th>\n",
       "      <th>Luftdruck</th>\n",
       "      <th>Breitengrad</th>\n",
       "      <th>Laengengrad</th>\n",
       "    </tr>\n",
       "  </thead>\n",
       "  <tbody>\n",
       "    <tr>\n",
       "      <th>0</th>\n",
       "      <td>4.5</td>\n",
       "      <td>2023-01-01 19:08</td>\n",
       "      <td>NaN</td>\n",
       "      <td>NaN</td>\n",
       "      <td>NaN</td>\n",
       "    </tr>\n",
       "    <tr>\n",
       "      <th>1</th>\n",
       "      <td>6.3</td>\n",
       "      <td>2023-01-01 18:17</td>\n",
       "      <td>NaN</td>\n",
       "      <td>NaN</td>\n",
       "      <td>NaN</td>\n",
       "    </tr>\n",
       "    <tr>\n",
       "      <th>2</th>\n",
       "      <td>3.8</td>\n",
       "      <td>2023-01-01 06:03</td>\n",
       "      <td>NaN</td>\n",
       "      <td>NaN</td>\n",
       "      <td>NaN</td>\n",
       "    </tr>\n",
       "    <tr>\n",
       "      <th>3</th>\n",
       "      <td>5.1</td>\n",
       "      <td>2023-01-01 02:17</td>\n",
       "      <td>NaN</td>\n",
       "      <td>NaN</td>\n",
       "      <td>NaN</td>\n",
       "    </tr>\n",
       "    <tr>\n",
       "      <th>4</th>\n",
       "      <td>4.9</td>\n",
       "      <td>2023-01-01 22:02</td>\n",
       "      <td>NaN</td>\n",
       "      <td>NaN</td>\n",
       "      <td>NaN</td>\n",
       "    </tr>\n",
       "    <tr>\n",
       "      <th>5</th>\n",
       "      <td>5.7</td>\n",
       "      <td>2023-01-01 16:00</td>\n",
       "      <td>NaN</td>\n",
       "      <td>NaN</td>\n",
       "      <td>NaN</td>\n",
       "    </tr>\n",
       "    <tr>\n",
       "      <th>6</th>\n",
       "      <td>4.2</td>\n",
       "      <td>2023-01-01 21:04</td>\n",
       "      <td>NaN</td>\n",
       "      <td>NaN</td>\n",
       "      <td>NaN</td>\n",
       "    </tr>\n",
       "    <tr>\n",
       "      <th>7</th>\n",
       "      <td>6.0</td>\n",
       "      <td>2023-01-01 11:16</td>\n",
       "      <td>NaN</td>\n",
       "      <td>NaN</td>\n",
       "      <td>NaN</td>\n",
       "    </tr>\n",
       "    <tr>\n",
       "      <th>Berlin</th>\n",
       "      <td>NaN</td>\n",
       "      <td>NaN</td>\n",
       "      <td>1001.2</td>\n",
       "      <td>52.31</td>\n",
       "      <td>13.24</td>\n",
       "    </tr>\n",
       "    <tr>\n",
       "      <th>München</th>\n",
       "      <td>NaN</td>\n",
       "      <td>NaN</td>\n",
       "      <td>997.8</td>\n",
       "      <td>48.80</td>\n",
       "      <td>11.34</td>\n",
       "    </tr>\n",
       "    <tr>\n",
       "      <th>Wilhelmshaven</th>\n",
       "      <td>NaN</td>\n",
       "      <td>NaN</td>\n",
       "      <td>1002.5</td>\n",
       "      <td>NaN</td>\n",
       "      <td>NaN</td>\n",
       "    </tr>\n",
       "    <tr>\n",
       "      <th>Kassel</th>\n",
       "      <td>NaN</td>\n",
       "      <td>NaN</td>\n",
       "      <td>1000.1</td>\n",
       "      <td>49.28</td>\n",
       "      <td>-123.13</td>\n",
       "    </tr>\n",
       "    <tr>\n",
       "      <th>Frankfurt</th>\n",
       "      <td>NaN</td>\n",
       "      <td>NaN</td>\n",
       "      <td>998.9</td>\n",
       "      <td>47.61</td>\n",
       "      <td>-122.33</td>\n",
       "    </tr>\n",
       "    <tr>\n",
       "      <th>Duisburg</th>\n",
       "      <td>NaN</td>\n",
       "      <td>NaN</td>\n",
       "      <td>1001.5</td>\n",
       "      <td>53.55</td>\n",
       "      <td>-113.49</td>\n",
       "    </tr>\n",
       "    <tr>\n",
       "      <th>Dresden</th>\n",
       "      <td>NaN</td>\n",
       "      <td>NaN</td>\n",
       "      <td>999.2</td>\n",
       "      <td>NaN</td>\n",
       "      <td>NaN</td>\n",
       "    </tr>\n",
       "    <tr>\n",
       "      <th>Würzburg</th>\n",
       "      <td>NaN</td>\n",
       "      <td>NaN</td>\n",
       "      <td>1002.8</td>\n",
       "      <td>51.05</td>\n",
       "      <td>-114.07</td>\n",
       "    </tr>\n",
       "    <tr>\n",
       "      <th>Hamburg</th>\n",
       "      <td>NaN</td>\n",
       "      <td>NaN</td>\n",
       "      <td>NaN</td>\n",
       "      <td>53.33</td>\n",
       "      <td>10.00</td>\n",
       "    </tr>\n",
       "    <tr>\n",
       "      <th>Köln</th>\n",
       "      <td>NaN</td>\n",
       "      <td>NaN</td>\n",
       "      <td>NaN</td>\n",
       "      <td>45.75</td>\n",
       "      <td>-122.43</td>\n",
       "    </tr>\n",
       "  </tbody>\n",
       "</table>\n",
       "</div>"
      ]
     },
     "execution_count": 20,
     "metadata": {},
     "output_type": "execute_result"
    }
   ],
   "execution_count": 20
  },
  {
   "metadata": {
    "ExecuteTime": {
     "end_time": "2024-11-14T11:10:14.969229Z",
     "start_time": "2024-11-14T10:45:58.039131Z"
    }
   },
   "cell_type": "code",
   "source": "gesamt_df",
   "outputs": [
    {
     "data": {
      "text/plain": [
       "               Temperature        Timestamps  Luftdruck\n",
       "0                      4.5  2023-01-01 19:08        NaN\n",
       "1                      6.3  2023-01-01 18:17        NaN\n",
       "2                      3.8  2023-01-01 06:03        NaN\n",
       "3                      5.1  2023-01-01 02:17        NaN\n",
       "4                      4.9  2023-01-01 22:02        NaN\n",
       "5                      5.7  2023-01-01 16:00        NaN\n",
       "6                      4.2  2023-01-01 21:04        NaN\n",
       "7                      6.0  2023-01-01 11:16        NaN\n",
       "Berlin                 NaN               NaN     1001.2\n",
       "München                NaN               NaN      997.8\n",
       "Wilhelmshaven          NaN               NaN     1002.5\n",
       "Kassel                 NaN               NaN     1000.1\n",
       "Frankfurt              NaN               NaN      998.9\n",
       "Duisburg               NaN               NaN     1001.5\n",
       "Dresden                NaN               NaN      999.2\n",
       "Würzburg               NaN               NaN     1002.8"
      ],
      "text/html": [
       "<div>\n",
       "<style scoped>\n",
       "    .dataframe tbody tr th:only-of-type {\n",
       "        vertical-align: middle;\n",
       "    }\n",
       "\n",
       "    .dataframe tbody tr th {\n",
       "        vertical-align: top;\n",
       "    }\n",
       "\n",
       "    .dataframe thead th {\n",
       "        text-align: right;\n",
       "    }\n",
       "</style>\n",
       "<table border=\"1\" class=\"dataframe\">\n",
       "  <thead>\n",
       "    <tr style=\"text-align: right;\">\n",
       "      <th></th>\n",
       "      <th>Temperature</th>\n",
       "      <th>Timestamps</th>\n",
       "      <th>Luftdruck</th>\n",
       "    </tr>\n",
       "  </thead>\n",
       "  <tbody>\n",
       "    <tr>\n",
       "      <th>0</th>\n",
       "      <td>4.5</td>\n",
       "      <td>2023-01-01 19:08</td>\n",
       "      <td>NaN</td>\n",
       "    </tr>\n",
       "    <tr>\n",
       "      <th>1</th>\n",
       "      <td>6.3</td>\n",
       "      <td>2023-01-01 18:17</td>\n",
       "      <td>NaN</td>\n",
       "    </tr>\n",
       "    <tr>\n",
       "      <th>2</th>\n",
       "      <td>3.8</td>\n",
       "      <td>2023-01-01 06:03</td>\n",
       "      <td>NaN</td>\n",
       "    </tr>\n",
       "    <tr>\n",
       "      <th>3</th>\n",
       "      <td>5.1</td>\n",
       "      <td>2023-01-01 02:17</td>\n",
       "      <td>NaN</td>\n",
       "    </tr>\n",
       "    <tr>\n",
       "      <th>4</th>\n",
       "      <td>4.9</td>\n",
       "      <td>2023-01-01 22:02</td>\n",
       "      <td>NaN</td>\n",
       "    </tr>\n",
       "    <tr>\n",
       "      <th>5</th>\n",
       "      <td>5.7</td>\n",
       "      <td>2023-01-01 16:00</td>\n",
       "      <td>NaN</td>\n",
       "    </tr>\n",
       "    <tr>\n",
       "      <th>6</th>\n",
       "      <td>4.2</td>\n",
       "      <td>2023-01-01 21:04</td>\n",
       "      <td>NaN</td>\n",
       "    </tr>\n",
       "    <tr>\n",
       "      <th>7</th>\n",
       "      <td>6.0</td>\n",
       "      <td>2023-01-01 11:16</td>\n",
       "      <td>NaN</td>\n",
       "    </tr>\n",
       "    <tr>\n",
       "      <th>Berlin</th>\n",
       "      <td>NaN</td>\n",
       "      <td>NaN</td>\n",
       "      <td>1001.2</td>\n",
       "    </tr>\n",
       "    <tr>\n",
       "      <th>München</th>\n",
       "      <td>NaN</td>\n",
       "      <td>NaN</td>\n",
       "      <td>997.8</td>\n",
       "    </tr>\n",
       "    <tr>\n",
       "      <th>Wilhelmshaven</th>\n",
       "      <td>NaN</td>\n",
       "      <td>NaN</td>\n",
       "      <td>1002.5</td>\n",
       "    </tr>\n",
       "    <tr>\n",
       "      <th>Kassel</th>\n",
       "      <td>NaN</td>\n",
       "      <td>NaN</td>\n",
       "      <td>1000.1</td>\n",
       "    </tr>\n",
       "    <tr>\n",
       "      <th>Frankfurt</th>\n",
       "      <td>NaN</td>\n",
       "      <td>NaN</td>\n",
       "      <td>998.9</td>\n",
       "    </tr>\n",
       "    <tr>\n",
       "      <th>Duisburg</th>\n",
       "      <td>NaN</td>\n",
       "      <td>NaN</td>\n",
       "      <td>1001.5</td>\n",
       "    </tr>\n",
       "    <tr>\n",
       "      <th>Dresden</th>\n",
       "      <td>NaN</td>\n",
       "      <td>NaN</td>\n",
       "      <td>999.2</td>\n",
       "    </tr>\n",
       "    <tr>\n",
       "      <th>Würzburg</th>\n",
       "      <td>NaN</td>\n",
       "      <td>NaN</td>\n",
       "      <td>1002.8</td>\n",
       "    </tr>\n",
       "  </tbody>\n",
       "</table>\n",
       "</div>"
      ]
     },
     "execution_count": 192,
     "metadata": {},
     "output_type": "execute_result"
    }
   ],
   "execution_count": 192
  },
  {
   "cell_type": "code",
   "execution_count": null,
   "metadata": {},
   "outputs": [],
   "source": [
    "# ENDE ÜBUNG"
   ]
  },
  {
   "cell_type": "markdown",
   "metadata": {},
   "source": [
    "### `pandas.merge` (Datensätze zusammenfügen über Index oder / und Column)\n",
    "\n",
    "Bei `pd.merge` können wir ein `on=` Keyword angeben, wodurch wir Tabellen \n",
    "auch über normale Spalten statt über den Index zusammenführen können. Hier \n",
    "müssen nicht einmal die Spaltennamen zwingend übereinstimmen. Außerdem hat \n",
    "`merge` noch viele andere zusätzliche Optionen, die es bei `join` nicht \n",
    "gibt, zum Beispiel die Benutzung mehrerer Schlüsselspalten.\n",
    "\n",
    "Es gibt sogar eine `merge_asof` Funktion, welche auch ungenaue \n",
    "Übereinstimmungen erlaubt, ähnlich wie der optionale Parameter \n",
    "Bereich_Verweis in Excels SVERWEIS, wo eine ungenaue Übereinstimmung über \n",
    "\"WAHR\" festgelegt werden konnte.\n",
    "Jedoch gibt es auch hier in Pandas wieder viel mehr Einstellungsmöglichkeiten.\n",
    "\n",
    "Mehr Information: [Link](https://pandas.pydata.org/docs/reference/api/pandas.merge.html)"
   ]
  },
  {
   "cell_type": "code",
   "metadata": {
    "ExecuteTime": {
     "end_time": "2024-11-14T11:10:14.976528400Z",
     "start_time": "2024-11-14T10:58:47.339942Z"
    }
   },
   "source": [
    "# DataFrame aus Übung erstellen vor dem Zusammenführen:\n",
    "df = pd.concat([time_series, temp_series, druck_df],\n",
    "               axis=1)\n",
    "df"
   ],
   "outputs": [
    {
     "data": {
      "text/plain": [
       "                    Zeitstempel  Temperatur  Luftdruck\n",
       "0              2023-01-02 19:08         4.5        NaN\n",
       "1              2023-01-04 18:17         6.3        NaN\n",
       "2              2023-01-06 06:03         3.8        NaN\n",
       "3              2023-01-09 02:17         5.1        NaN\n",
       "4              2023-01-12 22:02         4.9        NaN\n",
       "5              2023-01-17 16:00         5.7        NaN\n",
       "6              2023-01-22 21:04         4.2        NaN\n",
       "7              2023-01-24 11:16         6.0        NaN\n",
       "Berlin                      NaN         NaN     1001.2\n",
       "München                     NaN         NaN      997.8\n",
       "Wilhelmshaven               NaN         NaN     1002.5\n",
       "Kassel                      NaN         NaN     1000.1\n",
       "Frankfurt                   NaN         NaN      998.9\n",
       "Duisburg                    NaN         NaN     1001.5\n",
       "Dresden                     NaN         NaN      999.2\n",
       "Würzburg                    NaN         NaN     1002.8"
      ],
      "text/html": [
       "<div>\n",
       "<style scoped>\n",
       "    .dataframe tbody tr th:only-of-type {\n",
       "        vertical-align: middle;\n",
       "    }\n",
       "\n",
       "    .dataframe tbody tr th {\n",
       "        vertical-align: top;\n",
       "    }\n",
       "\n",
       "    .dataframe thead th {\n",
       "        text-align: right;\n",
       "    }\n",
       "</style>\n",
       "<table border=\"1\" class=\"dataframe\">\n",
       "  <thead>\n",
       "    <tr style=\"text-align: right;\">\n",
       "      <th></th>\n",
       "      <th>Zeitstempel</th>\n",
       "      <th>Temperatur</th>\n",
       "      <th>Luftdruck</th>\n",
       "    </tr>\n",
       "  </thead>\n",
       "  <tbody>\n",
       "    <tr>\n",
       "      <th>0</th>\n",
       "      <td>2023-01-02 19:08</td>\n",
       "      <td>4.5</td>\n",
       "      <td>NaN</td>\n",
       "    </tr>\n",
       "    <tr>\n",
       "      <th>1</th>\n",
       "      <td>2023-01-04 18:17</td>\n",
       "      <td>6.3</td>\n",
       "      <td>NaN</td>\n",
       "    </tr>\n",
       "    <tr>\n",
       "      <th>2</th>\n",
       "      <td>2023-01-06 06:03</td>\n",
       "      <td>3.8</td>\n",
       "      <td>NaN</td>\n",
       "    </tr>\n",
       "    <tr>\n",
       "      <th>3</th>\n",
       "      <td>2023-01-09 02:17</td>\n",
       "      <td>5.1</td>\n",
       "      <td>NaN</td>\n",
       "    </tr>\n",
       "    <tr>\n",
       "      <th>4</th>\n",
       "      <td>2023-01-12 22:02</td>\n",
       "      <td>4.9</td>\n",
       "      <td>NaN</td>\n",
       "    </tr>\n",
       "    <tr>\n",
       "      <th>5</th>\n",
       "      <td>2023-01-17 16:00</td>\n",
       "      <td>5.7</td>\n",
       "      <td>NaN</td>\n",
       "    </tr>\n",
       "    <tr>\n",
       "      <th>6</th>\n",
       "      <td>2023-01-22 21:04</td>\n",
       "      <td>4.2</td>\n",
       "      <td>NaN</td>\n",
       "    </tr>\n",
       "    <tr>\n",
       "      <th>7</th>\n",
       "      <td>2023-01-24 11:16</td>\n",
       "      <td>6.0</td>\n",
       "      <td>NaN</td>\n",
       "    </tr>\n",
       "    <tr>\n",
       "      <th>Berlin</th>\n",
       "      <td>NaN</td>\n",
       "      <td>NaN</td>\n",
       "      <td>1001.2</td>\n",
       "    </tr>\n",
       "    <tr>\n",
       "      <th>München</th>\n",
       "      <td>NaN</td>\n",
       "      <td>NaN</td>\n",
       "      <td>997.8</td>\n",
       "    </tr>\n",
       "    <tr>\n",
       "      <th>Wilhelmshaven</th>\n",
       "      <td>NaN</td>\n",
       "      <td>NaN</td>\n",
       "      <td>1002.5</td>\n",
       "    </tr>\n",
       "    <tr>\n",
       "      <th>Kassel</th>\n",
       "      <td>NaN</td>\n",
       "      <td>NaN</td>\n",
       "      <td>1000.1</td>\n",
       "    </tr>\n",
       "    <tr>\n",
       "      <th>Frankfurt</th>\n",
       "      <td>NaN</td>\n",
       "      <td>NaN</td>\n",
       "      <td>998.9</td>\n",
       "    </tr>\n",
       "    <tr>\n",
       "      <th>Duisburg</th>\n",
       "      <td>NaN</td>\n",
       "      <td>NaN</td>\n",
       "      <td>1001.5</td>\n",
       "    </tr>\n",
       "    <tr>\n",
       "      <th>Dresden</th>\n",
       "      <td>NaN</td>\n",
       "      <td>NaN</td>\n",
       "      <td>999.2</td>\n",
       "    </tr>\n",
       "    <tr>\n",
       "      <th>Würzburg</th>\n",
       "      <td>NaN</td>\n",
       "      <td>NaN</td>\n",
       "      <td>1002.8</td>\n",
       "    </tr>\n",
       "  </tbody>\n",
       "</table>\n",
       "</div>"
      ]
     },
     "execution_count": 21,
     "metadata": {},
     "output_type": "execute_result"
    }
   ],
   "execution_count": 21
  },
  {
   "cell_type": "code",
   "metadata": {
    "collapsed": false,
    "ExecuteTime": {
     "end_time": "2024-11-14T11:10:14.978529300Z",
     "start_time": "2024-11-14T10:58:49.065017Z"
    }
   },
   "source": [
    "# Geo-Dataframe soll gänzlich anderen Index haben.\n",
    "# Vorarbeit:\n",
    "geo_length = len(geo_dict['Location'])"
   ],
   "outputs": [],
   "execution_count": 22
  },
  {
   "cell_type": "code",
   "metadata": {
    "collapsed": false,
    "ExecuteTime": {
     "end_time": "2024-11-14T11:10:14.980531600Z",
     "start_time": "2024-11-14T10:58:50.836315Z"
    }
   },
   "source": [
    "geo_df = pd.DataFrame(geo_dict, index=[f'Eintrag {i}' for i in range (geo_length)])"
   ],
   "outputs": [],
   "execution_count": 23
  },
  {
   "cell_type": "code",
   "metadata": {
    "collapsed": false,
    "ExecuteTime": {
     "end_time": "2024-11-14T11:10:14.983528300Z",
     "start_time": "2024-11-14T10:58:51.741179Z"
    }
   },
   "source": [
    "geo_df"
   ],
   "outputs": [
    {
     "data": {
      "text/plain": [
       "            Location  Breitengrad  Laengengrad\n",
       "Eintrag 0     Berlin        52.31        13.24\n",
       "Eintrag 1    München        48.80        11.34\n",
       "Eintrag 2    Hamburg        53.33        10.00\n",
       "Eintrag 3       Köln        45.75      -122.43\n",
       "Eintrag 4  Frankfurt        47.61      -122.33\n",
       "Eintrag 5   Duisburg        53.55      -113.49\n",
       "Eintrag 6     Kassel        49.28      -123.13\n",
       "Eintrag 7   Würzburg        51.05      -114.07"
      ],
      "text/html": [
       "<div>\n",
       "<style scoped>\n",
       "    .dataframe tbody tr th:only-of-type {\n",
       "        vertical-align: middle;\n",
       "    }\n",
       "\n",
       "    .dataframe tbody tr th {\n",
       "        vertical-align: top;\n",
       "    }\n",
       "\n",
       "    .dataframe thead th {\n",
       "        text-align: right;\n",
       "    }\n",
       "</style>\n",
       "<table border=\"1\" class=\"dataframe\">\n",
       "  <thead>\n",
       "    <tr style=\"text-align: right;\">\n",
       "      <th></th>\n",
       "      <th>Location</th>\n",
       "      <th>Breitengrad</th>\n",
       "      <th>Laengengrad</th>\n",
       "    </tr>\n",
       "  </thead>\n",
       "  <tbody>\n",
       "    <tr>\n",
       "      <th>Eintrag 0</th>\n",
       "      <td>Berlin</td>\n",
       "      <td>52.31</td>\n",
       "      <td>13.24</td>\n",
       "    </tr>\n",
       "    <tr>\n",
       "      <th>Eintrag 1</th>\n",
       "      <td>München</td>\n",
       "      <td>48.80</td>\n",
       "      <td>11.34</td>\n",
       "    </tr>\n",
       "    <tr>\n",
       "      <th>Eintrag 2</th>\n",
       "      <td>Hamburg</td>\n",
       "      <td>53.33</td>\n",
       "      <td>10.00</td>\n",
       "    </tr>\n",
       "    <tr>\n",
       "      <th>Eintrag 3</th>\n",
       "      <td>Köln</td>\n",
       "      <td>45.75</td>\n",
       "      <td>-122.43</td>\n",
       "    </tr>\n",
       "    <tr>\n",
       "      <th>Eintrag 4</th>\n",
       "      <td>Frankfurt</td>\n",
       "      <td>47.61</td>\n",
       "      <td>-122.33</td>\n",
       "    </tr>\n",
       "    <tr>\n",
       "      <th>Eintrag 5</th>\n",
       "      <td>Duisburg</td>\n",
       "      <td>53.55</td>\n",
       "      <td>-113.49</td>\n",
       "    </tr>\n",
       "    <tr>\n",
       "      <th>Eintrag 6</th>\n",
       "      <td>Kassel</td>\n",
       "      <td>49.28</td>\n",
       "      <td>-123.13</td>\n",
       "    </tr>\n",
       "    <tr>\n",
       "      <th>Eintrag 7</th>\n",
       "      <td>Würzburg</td>\n",
       "      <td>51.05</td>\n",
       "      <td>-114.07</td>\n",
       "    </tr>\n",
       "  </tbody>\n",
       "</table>\n",
       "</div>"
      ]
     },
     "execution_count": 24,
     "metadata": {},
     "output_type": "execute_result"
    }
   ],
   "execution_count": 24
  },
  {
   "cell_type": "code",
   "metadata": {
    "ExecuteTime": {
     "end_time": "2024-11-14T11:10:14.986037400Z",
     "start_time": "2024-11-14T10:58:53.621836Z"
    }
   },
   "source": [
    "# Zusammenführen beider dfs jetzt durch merge,\n",
    "# OHNE dass Indices passen:\n",
    "df.merge(geo_df, on=\"Location\")\n",
    "# how ist standardmäßig auf 'inner' gesetzt"
   ],
   "outputs": [
    {
     "ename": "KeyError",
     "evalue": "'Location'",
     "output_type": "error",
     "traceback": [
      "\u001B[1;31m---------------------------------------------------------------------------\u001B[0m",
      "\u001B[1;31mKeyError\u001B[0m                                  Traceback (most recent call last)",
      "\u001B[1;32m~\\AppData\\Local\\Temp\\ipykernel_932\\1534438.py\u001B[0m in \u001B[0;36m?\u001B[1;34m()\u001B[0m\n\u001B[0;32m      1\u001B[0m \u001B[1;31m# Zusammenführen beider dfs jetzt durch merge,\u001B[0m\u001B[1;33m\u001B[0m\u001B[1;33m\u001B[0m\u001B[0m\n\u001B[0;32m      2\u001B[0m \u001B[1;31m# OHNE dass Indices passen:\u001B[0m\u001B[1;33m\u001B[0m\u001B[1;33m\u001B[0m\u001B[0m\n\u001B[1;32m----> 3\u001B[1;33m \u001B[0mdf\u001B[0m\u001B[1;33m.\u001B[0m\u001B[0mmerge\u001B[0m\u001B[1;33m(\u001B[0m\u001B[0mgeo_df\u001B[0m\u001B[1;33m,\u001B[0m \u001B[0mon\u001B[0m\u001B[1;33m=\u001B[0m\u001B[1;34m\"Location\"\u001B[0m\u001B[1;33m)\u001B[0m\u001B[1;33m\u001B[0m\u001B[1;33m\u001B[0m\u001B[0m\n\u001B[0m\u001B[0;32m      4\u001B[0m \u001B[1;31m# how ist standardmäßig auf 'inner' gesetzt\u001B[0m\u001B[1;33m\u001B[0m\u001B[1;33m\u001B[0m\u001B[0m\n",
      "\u001B[1;32m~\\Python\\Lib\\site-packages\\pandas\\core\\frame.py\u001B[0m in \u001B[0;36m?\u001B[1;34m(self, right, how, on, left_on, right_on, left_index, right_index, sort, suffixes, copy, indicator, validate)\u001B[0m\n\u001B[0;32m  10828\u001B[0m         \u001B[0mvalidate\u001B[0m\u001B[1;33m:\u001B[0m \u001B[0mMergeValidate\u001B[0m \u001B[1;33m|\u001B[0m \u001B[1;32mNone\u001B[0m \u001B[1;33m=\u001B[0m \u001B[1;32mNone\u001B[0m\u001B[1;33m,\u001B[0m\u001B[1;33m\u001B[0m\u001B[1;33m\u001B[0m\u001B[0m\n\u001B[0;32m  10829\u001B[0m     \u001B[1;33m)\u001B[0m \u001B[1;33m->\u001B[0m \u001B[0mDataFrame\u001B[0m\u001B[1;33m:\u001B[0m\u001B[1;33m\u001B[0m\u001B[1;33m\u001B[0m\u001B[0m\n\u001B[0;32m  10830\u001B[0m         \u001B[1;32mfrom\u001B[0m \u001B[0mpandas\u001B[0m\u001B[1;33m.\u001B[0m\u001B[0mcore\u001B[0m\u001B[1;33m.\u001B[0m\u001B[0mreshape\u001B[0m\u001B[1;33m.\u001B[0m\u001B[0mmerge\u001B[0m \u001B[1;32mimport\u001B[0m \u001B[0mmerge\u001B[0m\u001B[1;33m\u001B[0m\u001B[1;33m\u001B[0m\u001B[0m\n\u001B[0;32m  10831\u001B[0m \u001B[1;33m\u001B[0m\u001B[0m\n\u001B[1;32m> 10832\u001B[1;33m         return merge(\n\u001B[0m\u001B[0;32m  10833\u001B[0m             \u001B[0mself\u001B[0m\u001B[1;33m,\u001B[0m\u001B[1;33m\u001B[0m\u001B[1;33m\u001B[0m\u001B[0m\n\u001B[0;32m  10834\u001B[0m             \u001B[0mright\u001B[0m\u001B[1;33m,\u001B[0m\u001B[1;33m\u001B[0m\u001B[1;33m\u001B[0m\u001B[0m\n\u001B[0;32m  10835\u001B[0m             \u001B[0mhow\u001B[0m\u001B[1;33m=\u001B[0m\u001B[0mhow\u001B[0m\u001B[1;33m,\u001B[0m\u001B[1;33m\u001B[0m\u001B[1;33m\u001B[0m\u001B[0m\n",
      "\u001B[1;32m~\\Python\\Lib\\site-packages\\pandas\\core\\reshape\\merge.py\u001B[0m in \u001B[0;36m?\u001B[1;34m(left, right, how, on, left_on, right_on, left_index, right_index, sort, suffixes, copy, indicator, validate)\u001B[0m\n\u001B[0;32m    166\u001B[0m             \u001B[0mvalidate\u001B[0m\u001B[1;33m=\u001B[0m\u001B[0mvalidate\u001B[0m\u001B[1;33m,\u001B[0m\u001B[1;33m\u001B[0m\u001B[1;33m\u001B[0m\u001B[0m\n\u001B[0;32m    167\u001B[0m             \u001B[0mcopy\u001B[0m\u001B[1;33m=\u001B[0m\u001B[0mcopy\u001B[0m\u001B[1;33m,\u001B[0m\u001B[1;33m\u001B[0m\u001B[1;33m\u001B[0m\u001B[0m\n\u001B[0;32m    168\u001B[0m         \u001B[1;33m)\u001B[0m\u001B[1;33m\u001B[0m\u001B[1;33m\u001B[0m\u001B[0m\n\u001B[0;32m    169\u001B[0m     \u001B[1;32melse\u001B[0m\u001B[1;33m:\u001B[0m\u001B[1;33m\u001B[0m\u001B[1;33m\u001B[0m\u001B[0m\n\u001B[1;32m--> 170\u001B[1;33m         op = _MergeOperation(\n\u001B[0m\u001B[0;32m    171\u001B[0m             \u001B[0mleft_df\u001B[0m\u001B[1;33m,\u001B[0m\u001B[1;33m\u001B[0m\u001B[1;33m\u001B[0m\u001B[0m\n\u001B[0;32m    172\u001B[0m             \u001B[0mright_df\u001B[0m\u001B[1;33m,\u001B[0m\u001B[1;33m\u001B[0m\u001B[1;33m\u001B[0m\u001B[0m\n\u001B[0;32m    173\u001B[0m             \u001B[0mhow\u001B[0m\u001B[1;33m=\u001B[0m\u001B[0mhow\u001B[0m\u001B[1;33m,\u001B[0m\u001B[1;33m\u001B[0m\u001B[1;33m\u001B[0m\u001B[0m\n",
      "\u001B[1;32m~\\Python\\Lib\\site-packages\\pandas\\core\\reshape\\merge.py\u001B[0m in \u001B[0;36m?\u001B[1;34m(self, left, right, how, on, left_on, right_on, left_index, right_index, sort, suffixes, indicator, validate)\u001B[0m\n\u001B[0;32m    790\u001B[0m             \u001B[0mself\u001B[0m\u001B[1;33m.\u001B[0m\u001B[0mright_join_keys\u001B[0m\u001B[1;33m,\u001B[0m\u001B[1;33m\u001B[0m\u001B[1;33m\u001B[0m\u001B[0m\n\u001B[0;32m    791\u001B[0m             \u001B[0mself\u001B[0m\u001B[1;33m.\u001B[0m\u001B[0mjoin_names\u001B[0m\u001B[1;33m,\u001B[0m\u001B[1;33m\u001B[0m\u001B[1;33m\u001B[0m\u001B[0m\n\u001B[0;32m    792\u001B[0m             \u001B[0mleft_drop\u001B[0m\u001B[1;33m,\u001B[0m\u001B[1;33m\u001B[0m\u001B[1;33m\u001B[0m\u001B[0m\n\u001B[0;32m    793\u001B[0m             \u001B[0mright_drop\u001B[0m\u001B[1;33m,\u001B[0m\u001B[1;33m\u001B[0m\u001B[1;33m\u001B[0m\u001B[0m\n\u001B[1;32m--> 794\u001B[1;33m         \u001B[1;33m)\u001B[0m \u001B[1;33m=\u001B[0m \u001B[0mself\u001B[0m\u001B[1;33m.\u001B[0m\u001B[0m_get_merge_keys\u001B[0m\u001B[1;33m(\u001B[0m\u001B[1;33m)\u001B[0m\u001B[1;33m\u001B[0m\u001B[1;33m\u001B[0m\u001B[0m\n\u001B[0m\u001B[0;32m    795\u001B[0m \u001B[1;33m\u001B[0m\u001B[0m\n\u001B[0;32m    796\u001B[0m         \u001B[1;32mif\u001B[0m \u001B[0mleft_drop\u001B[0m\u001B[1;33m:\u001B[0m\u001B[1;33m\u001B[0m\u001B[1;33m\u001B[0m\u001B[0m\n\u001B[0;32m    797\u001B[0m             \u001B[0mself\u001B[0m\u001B[1;33m.\u001B[0m\u001B[0mleft\u001B[0m \u001B[1;33m=\u001B[0m \u001B[0mself\u001B[0m\u001B[1;33m.\u001B[0m\u001B[0mleft\u001B[0m\u001B[1;33m.\u001B[0m\u001B[0m_drop_labels_or_levels\u001B[0m\u001B[1;33m(\u001B[0m\u001B[0mleft_drop\u001B[0m\u001B[1;33m)\u001B[0m\u001B[1;33m\u001B[0m\u001B[1;33m\u001B[0m\u001B[0m\n",
      "\u001B[1;32m~\\Python\\Lib\\site-packages\\pandas\\core\\reshape\\merge.py\u001B[0m in \u001B[0;36m?\u001B[1;34m(self)\u001B[0m\n\u001B[0;32m   1306\u001B[0m                     \u001B[1;32mif\u001B[0m \u001B[0mlk\u001B[0m \u001B[1;32mis\u001B[0m \u001B[1;32mnot\u001B[0m \u001B[1;32mNone\u001B[0m\u001B[1;33m:\u001B[0m\u001B[1;33m\u001B[0m\u001B[1;33m\u001B[0m\u001B[0m\n\u001B[0;32m   1307\u001B[0m                         \u001B[1;31m# Then we're either Hashable or a wrong-length arraylike,\u001B[0m\u001B[1;33m\u001B[0m\u001B[1;33m\u001B[0m\u001B[0m\n\u001B[0;32m   1308\u001B[0m                         \u001B[1;31m#  the latter of which will raise\u001B[0m\u001B[1;33m\u001B[0m\u001B[1;33m\u001B[0m\u001B[0m\n\u001B[0;32m   1309\u001B[0m                         \u001B[0mlk\u001B[0m \u001B[1;33m=\u001B[0m \u001B[0mcast\u001B[0m\u001B[1;33m(\u001B[0m\u001B[0mHashable\u001B[0m\u001B[1;33m,\u001B[0m \u001B[0mlk\u001B[0m\u001B[1;33m)\u001B[0m\u001B[1;33m\u001B[0m\u001B[1;33m\u001B[0m\u001B[0m\n\u001B[1;32m-> 1310\u001B[1;33m                         \u001B[0mleft_keys\u001B[0m\u001B[1;33m.\u001B[0m\u001B[0mappend\u001B[0m\u001B[1;33m(\u001B[0m\u001B[0mleft\u001B[0m\u001B[1;33m.\u001B[0m\u001B[0m_get_label_or_level_values\u001B[0m\u001B[1;33m(\u001B[0m\u001B[0mlk\u001B[0m\u001B[1;33m)\u001B[0m\u001B[1;33m)\u001B[0m\u001B[1;33m\u001B[0m\u001B[1;33m\u001B[0m\u001B[0m\n\u001B[0m\u001B[0;32m   1311\u001B[0m                         \u001B[0mjoin_names\u001B[0m\u001B[1;33m.\u001B[0m\u001B[0mappend\u001B[0m\u001B[1;33m(\u001B[0m\u001B[0mlk\u001B[0m\u001B[1;33m)\u001B[0m\u001B[1;33m\u001B[0m\u001B[1;33m\u001B[0m\u001B[0m\n\u001B[0;32m   1312\u001B[0m                     \u001B[1;32melse\u001B[0m\u001B[1;33m:\u001B[0m\u001B[1;33m\u001B[0m\u001B[1;33m\u001B[0m\u001B[0m\n\u001B[0;32m   1313\u001B[0m                         \u001B[1;31m# work-around for merge_asof(left_index=True)\u001B[0m\u001B[1;33m\u001B[0m\u001B[1;33m\u001B[0m\u001B[0m\n",
      "\u001B[1;32m~\\Python\\Lib\\site-packages\\pandas\\core\\generic.py\u001B[0m in \u001B[0;36m?\u001B[1;34m(self, key, axis)\u001B[0m\n\u001B[0;32m   1907\u001B[0m             \u001B[0mvalues\u001B[0m \u001B[1;33m=\u001B[0m \u001B[0mself\u001B[0m\u001B[1;33m.\u001B[0m\u001B[0mxs\u001B[0m\u001B[1;33m(\u001B[0m\u001B[0mkey\u001B[0m\u001B[1;33m,\u001B[0m \u001B[0maxis\u001B[0m\u001B[1;33m=\u001B[0m\u001B[0mother_axes\u001B[0m\u001B[1;33m[\u001B[0m\u001B[1;36m0\u001B[0m\u001B[1;33m]\u001B[0m\u001B[1;33m)\u001B[0m\u001B[1;33m.\u001B[0m\u001B[0m_values\u001B[0m\u001B[1;33m\u001B[0m\u001B[1;33m\u001B[0m\u001B[0m\n\u001B[0;32m   1908\u001B[0m         \u001B[1;32melif\u001B[0m \u001B[0mself\u001B[0m\u001B[1;33m.\u001B[0m\u001B[0m_is_level_reference\u001B[0m\u001B[1;33m(\u001B[0m\u001B[0mkey\u001B[0m\u001B[1;33m,\u001B[0m \u001B[0maxis\u001B[0m\u001B[1;33m=\u001B[0m\u001B[0maxis\u001B[0m\u001B[1;33m)\u001B[0m\u001B[1;33m:\u001B[0m\u001B[1;33m\u001B[0m\u001B[1;33m\u001B[0m\u001B[0m\n\u001B[0;32m   1909\u001B[0m             \u001B[0mvalues\u001B[0m \u001B[1;33m=\u001B[0m \u001B[0mself\u001B[0m\u001B[1;33m.\u001B[0m\u001B[0maxes\u001B[0m\u001B[1;33m[\u001B[0m\u001B[0maxis\u001B[0m\u001B[1;33m]\u001B[0m\u001B[1;33m.\u001B[0m\u001B[0mget_level_values\u001B[0m\u001B[1;33m(\u001B[0m\u001B[0mkey\u001B[0m\u001B[1;33m)\u001B[0m\u001B[1;33m.\u001B[0m\u001B[0m_values\u001B[0m\u001B[1;33m\u001B[0m\u001B[1;33m\u001B[0m\u001B[0m\n\u001B[0;32m   1910\u001B[0m         \u001B[1;32melse\u001B[0m\u001B[1;33m:\u001B[0m\u001B[1;33m\u001B[0m\u001B[1;33m\u001B[0m\u001B[0m\n\u001B[1;32m-> 1911\u001B[1;33m             \u001B[1;32mraise\u001B[0m \u001B[0mKeyError\u001B[0m\u001B[1;33m(\u001B[0m\u001B[0mkey\u001B[0m\u001B[1;33m)\u001B[0m\u001B[1;33m\u001B[0m\u001B[1;33m\u001B[0m\u001B[0m\n\u001B[0m\u001B[0;32m   1912\u001B[0m \u001B[1;33m\u001B[0m\u001B[0m\n\u001B[0;32m   1913\u001B[0m         \u001B[1;31m# Check for duplicates\u001B[0m\u001B[1;33m\u001B[0m\u001B[1;33m\u001B[0m\u001B[0m\n\u001B[0;32m   1914\u001B[0m         \u001B[1;32mif\u001B[0m \u001B[0mvalues\u001B[0m\u001B[1;33m.\u001B[0m\u001B[0mndim\u001B[0m \u001B[1;33m>\u001B[0m \u001B[1;36m1\u001B[0m\u001B[1;33m:\u001B[0m\u001B[1;33m\u001B[0m\u001B[1;33m\u001B[0m\u001B[0m\n",
      "\u001B[1;31mKeyError\u001B[0m: 'Location'"
     ]
    }
   ],
   "execution_count": 25
  },
  {
   "cell_type": "code",
   "metadata": {
    "ExecuteTime": {
     "end_time": "2024-11-14T11:10:14.989037400Z",
     "start_time": "2024-11-14T10:58:55.399755Z"
    }
   },
   "source": [
    "# Achtung: andere defaults bei .merge() als bei .join()\n",
    "# bei .merge() ist inner join default (bei .join() ist es left)\n",
    "df.merge(geo_df, on=\"Location\", how=\"left\")"
   ],
   "outputs": [
    {
     "ename": "KeyError",
     "evalue": "'Location'",
     "output_type": "error",
     "traceback": [
      "\u001B[1;31m---------------------------------------------------------------------------\u001B[0m",
      "\u001B[1;31mKeyError\u001B[0m                                  Traceback (most recent call last)",
      "\u001B[1;32m~\\AppData\\Local\\Temp\\ipykernel_932\\1625513245.py\u001B[0m in \u001B[0;36m?\u001B[1;34m()\u001B[0m\n\u001B[0;32m      1\u001B[0m \u001B[1;31m# Achtung: andere defaults bei .merge() als bei .join()\u001B[0m\u001B[1;33m\u001B[0m\u001B[1;33m\u001B[0m\u001B[0m\n\u001B[0;32m      2\u001B[0m \u001B[1;31m# bei .merge() ist inner join default (bei .join() ist es left)\u001B[0m\u001B[1;33m\u001B[0m\u001B[1;33m\u001B[0m\u001B[0m\n\u001B[1;32m----> 3\u001B[1;33m \u001B[0mdf\u001B[0m\u001B[1;33m.\u001B[0m\u001B[0mmerge\u001B[0m\u001B[1;33m(\u001B[0m\u001B[0mgeo_df\u001B[0m\u001B[1;33m,\u001B[0m \u001B[0mon\u001B[0m\u001B[1;33m=\u001B[0m\u001B[1;34m\"Location\"\u001B[0m\u001B[1;33m,\u001B[0m \u001B[0mhow\u001B[0m\u001B[1;33m=\u001B[0m\u001B[1;34m\"left\"\u001B[0m\u001B[1;33m)\u001B[0m\u001B[1;33m\u001B[0m\u001B[1;33m\u001B[0m\u001B[0m\n\u001B[0m",
      "\u001B[1;32m~\\Python\\Lib\\site-packages\\pandas\\core\\frame.py\u001B[0m in \u001B[0;36m?\u001B[1;34m(self, right, how, on, left_on, right_on, left_index, right_index, sort, suffixes, copy, indicator, validate)\u001B[0m\n\u001B[0;32m  10828\u001B[0m         \u001B[0mvalidate\u001B[0m\u001B[1;33m:\u001B[0m \u001B[0mMergeValidate\u001B[0m \u001B[1;33m|\u001B[0m \u001B[1;32mNone\u001B[0m \u001B[1;33m=\u001B[0m \u001B[1;32mNone\u001B[0m\u001B[1;33m,\u001B[0m\u001B[1;33m\u001B[0m\u001B[1;33m\u001B[0m\u001B[0m\n\u001B[0;32m  10829\u001B[0m     \u001B[1;33m)\u001B[0m \u001B[1;33m->\u001B[0m \u001B[0mDataFrame\u001B[0m\u001B[1;33m:\u001B[0m\u001B[1;33m\u001B[0m\u001B[1;33m\u001B[0m\u001B[0m\n\u001B[0;32m  10830\u001B[0m         \u001B[1;32mfrom\u001B[0m \u001B[0mpandas\u001B[0m\u001B[1;33m.\u001B[0m\u001B[0mcore\u001B[0m\u001B[1;33m.\u001B[0m\u001B[0mreshape\u001B[0m\u001B[1;33m.\u001B[0m\u001B[0mmerge\u001B[0m \u001B[1;32mimport\u001B[0m \u001B[0mmerge\u001B[0m\u001B[1;33m\u001B[0m\u001B[1;33m\u001B[0m\u001B[0m\n\u001B[0;32m  10831\u001B[0m \u001B[1;33m\u001B[0m\u001B[0m\n\u001B[1;32m> 10832\u001B[1;33m         return merge(\n\u001B[0m\u001B[0;32m  10833\u001B[0m             \u001B[0mself\u001B[0m\u001B[1;33m,\u001B[0m\u001B[1;33m\u001B[0m\u001B[1;33m\u001B[0m\u001B[0m\n\u001B[0;32m  10834\u001B[0m             \u001B[0mright\u001B[0m\u001B[1;33m,\u001B[0m\u001B[1;33m\u001B[0m\u001B[1;33m\u001B[0m\u001B[0m\n\u001B[0;32m  10835\u001B[0m             \u001B[0mhow\u001B[0m\u001B[1;33m=\u001B[0m\u001B[0mhow\u001B[0m\u001B[1;33m,\u001B[0m\u001B[1;33m\u001B[0m\u001B[1;33m\u001B[0m\u001B[0m\n",
      "\u001B[1;32m~\\Python\\Lib\\site-packages\\pandas\\core\\reshape\\merge.py\u001B[0m in \u001B[0;36m?\u001B[1;34m(left, right, how, on, left_on, right_on, left_index, right_index, sort, suffixes, copy, indicator, validate)\u001B[0m\n\u001B[0;32m    166\u001B[0m             \u001B[0mvalidate\u001B[0m\u001B[1;33m=\u001B[0m\u001B[0mvalidate\u001B[0m\u001B[1;33m,\u001B[0m\u001B[1;33m\u001B[0m\u001B[1;33m\u001B[0m\u001B[0m\n\u001B[0;32m    167\u001B[0m             \u001B[0mcopy\u001B[0m\u001B[1;33m=\u001B[0m\u001B[0mcopy\u001B[0m\u001B[1;33m,\u001B[0m\u001B[1;33m\u001B[0m\u001B[1;33m\u001B[0m\u001B[0m\n\u001B[0;32m    168\u001B[0m         \u001B[1;33m)\u001B[0m\u001B[1;33m\u001B[0m\u001B[1;33m\u001B[0m\u001B[0m\n\u001B[0;32m    169\u001B[0m     \u001B[1;32melse\u001B[0m\u001B[1;33m:\u001B[0m\u001B[1;33m\u001B[0m\u001B[1;33m\u001B[0m\u001B[0m\n\u001B[1;32m--> 170\u001B[1;33m         op = _MergeOperation(\n\u001B[0m\u001B[0;32m    171\u001B[0m             \u001B[0mleft_df\u001B[0m\u001B[1;33m,\u001B[0m\u001B[1;33m\u001B[0m\u001B[1;33m\u001B[0m\u001B[0m\n\u001B[0;32m    172\u001B[0m             \u001B[0mright_df\u001B[0m\u001B[1;33m,\u001B[0m\u001B[1;33m\u001B[0m\u001B[1;33m\u001B[0m\u001B[0m\n\u001B[0;32m    173\u001B[0m             \u001B[0mhow\u001B[0m\u001B[1;33m=\u001B[0m\u001B[0mhow\u001B[0m\u001B[1;33m,\u001B[0m\u001B[1;33m\u001B[0m\u001B[1;33m\u001B[0m\u001B[0m\n",
      "\u001B[1;32m~\\Python\\Lib\\site-packages\\pandas\\core\\reshape\\merge.py\u001B[0m in \u001B[0;36m?\u001B[1;34m(self, left, right, how, on, left_on, right_on, left_index, right_index, sort, suffixes, indicator, validate)\u001B[0m\n\u001B[0;32m    790\u001B[0m             \u001B[0mself\u001B[0m\u001B[1;33m.\u001B[0m\u001B[0mright_join_keys\u001B[0m\u001B[1;33m,\u001B[0m\u001B[1;33m\u001B[0m\u001B[1;33m\u001B[0m\u001B[0m\n\u001B[0;32m    791\u001B[0m             \u001B[0mself\u001B[0m\u001B[1;33m.\u001B[0m\u001B[0mjoin_names\u001B[0m\u001B[1;33m,\u001B[0m\u001B[1;33m\u001B[0m\u001B[1;33m\u001B[0m\u001B[0m\n\u001B[0;32m    792\u001B[0m             \u001B[0mleft_drop\u001B[0m\u001B[1;33m,\u001B[0m\u001B[1;33m\u001B[0m\u001B[1;33m\u001B[0m\u001B[0m\n\u001B[0;32m    793\u001B[0m             \u001B[0mright_drop\u001B[0m\u001B[1;33m,\u001B[0m\u001B[1;33m\u001B[0m\u001B[1;33m\u001B[0m\u001B[0m\n\u001B[1;32m--> 794\u001B[1;33m         \u001B[1;33m)\u001B[0m \u001B[1;33m=\u001B[0m \u001B[0mself\u001B[0m\u001B[1;33m.\u001B[0m\u001B[0m_get_merge_keys\u001B[0m\u001B[1;33m(\u001B[0m\u001B[1;33m)\u001B[0m\u001B[1;33m\u001B[0m\u001B[1;33m\u001B[0m\u001B[0m\n\u001B[0m\u001B[0;32m    795\u001B[0m \u001B[1;33m\u001B[0m\u001B[0m\n\u001B[0;32m    796\u001B[0m         \u001B[1;32mif\u001B[0m \u001B[0mleft_drop\u001B[0m\u001B[1;33m:\u001B[0m\u001B[1;33m\u001B[0m\u001B[1;33m\u001B[0m\u001B[0m\n\u001B[0;32m    797\u001B[0m             \u001B[0mself\u001B[0m\u001B[1;33m.\u001B[0m\u001B[0mleft\u001B[0m \u001B[1;33m=\u001B[0m \u001B[0mself\u001B[0m\u001B[1;33m.\u001B[0m\u001B[0mleft\u001B[0m\u001B[1;33m.\u001B[0m\u001B[0m_drop_labels_or_levels\u001B[0m\u001B[1;33m(\u001B[0m\u001B[0mleft_drop\u001B[0m\u001B[1;33m)\u001B[0m\u001B[1;33m\u001B[0m\u001B[1;33m\u001B[0m\u001B[0m\n",
      "\u001B[1;32m~\\Python\\Lib\\site-packages\\pandas\\core\\reshape\\merge.py\u001B[0m in \u001B[0;36m?\u001B[1;34m(self)\u001B[0m\n\u001B[0;32m   1306\u001B[0m                     \u001B[1;32mif\u001B[0m \u001B[0mlk\u001B[0m \u001B[1;32mis\u001B[0m \u001B[1;32mnot\u001B[0m \u001B[1;32mNone\u001B[0m\u001B[1;33m:\u001B[0m\u001B[1;33m\u001B[0m\u001B[1;33m\u001B[0m\u001B[0m\n\u001B[0;32m   1307\u001B[0m                         \u001B[1;31m# Then we're either Hashable or a wrong-length arraylike,\u001B[0m\u001B[1;33m\u001B[0m\u001B[1;33m\u001B[0m\u001B[0m\n\u001B[0;32m   1308\u001B[0m                         \u001B[1;31m#  the latter of which will raise\u001B[0m\u001B[1;33m\u001B[0m\u001B[1;33m\u001B[0m\u001B[0m\n\u001B[0;32m   1309\u001B[0m                         \u001B[0mlk\u001B[0m \u001B[1;33m=\u001B[0m \u001B[0mcast\u001B[0m\u001B[1;33m(\u001B[0m\u001B[0mHashable\u001B[0m\u001B[1;33m,\u001B[0m \u001B[0mlk\u001B[0m\u001B[1;33m)\u001B[0m\u001B[1;33m\u001B[0m\u001B[1;33m\u001B[0m\u001B[0m\n\u001B[1;32m-> 1310\u001B[1;33m                         \u001B[0mleft_keys\u001B[0m\u001B[1;33m.\u001B[0m\u001B[0mappend\u001B[0m\u001B[1;33m(\u001B[0m\u001B[0mleft\u001B[0m\u001B[1;33m.\u001B[0m\u001B[0m_get_label_or_level_values\u001B[0m\u001B[1;33m(\u001B[0m\u001B[0mlk\u001B[0m\u001B[1;33m)\u001B[0m\u001B[1;33m)\u001B[0m\u001B[1;33m\u001B[0m\u001B[1;33m\u001B[0m\u001B[0m\n\u001B[0m\u001B[0;32m   1311\u001B[0m                         \u001B[0mjoin_names\u001B[0m\u001B[1;33m.\u001B[0m\u001B[0mappend\u001B[0m\u001B[1;33m(\u001B[0m\u001B[0mlk\u001B[0m\u001B[1;33m)\u001B[0m\u001B[1;33m\u001B[0m\u001B[1;33m\u001B[0m\u001B[0m\n\u001B[0;32m   1312\u001B[0m                     \u001B[1;32melse\u001B[0m\u001B[1;33m:\u001B[0m\u001B[1;33m\u001B[0m\u001B[1;33m\u001B[0m\u001B[0m\n\u001B[0;32m   1313\u001B[0m                         \u001B[1;31m# work-around for merge_asof(left_index=True)\u001B[0m\u001B[1;33m\u001B[0m\u001B[1;33m\u001B[0m\u001B[0m\n",
      "\u001B[1;32m~\\Python\\Lib\\site-packages\\pandas\\core\\generic.py\u001B[0m in \u001B[0;36m?\u001B[1;34m(self, key, axis)\u001B[0m\n\u001B[0;32m   1907\u001B[0m             \u001B[0mvalues\u001B[0m \u001B[1;33m=\u001B[0m \u001B[0mself\u001B[0m\u001B[1;33m.\u001B[0m\u001B[0mxs\u001B[0m\u001B[1;33m(\u001B[0m\u001B[0mkey\u001B[0m\u001B[1;33m,\u001B[0m \u001B[0maxis\u001B[0m\u001B[1;33m=\u001B[0m\u001B[0mother_axes\u001B[0m\u001B[1;33m[\u001B[0m\u001B[1;36m0\u001B[0m\u001B[1;33m]\u001B[0m\u001B[1;33m)\u001B[0m\u001B[1;33m.\u001B[0m\u001B[0m_values\u001B[0m\u001B[1;33m\u001B[0m\u001B[1;33m\u001B[0m\u001B[0m\n\u001B[0;32m   1908\u001B[0m         \u001B[1;32melif\u001B[0m \u001B[0mself\u001B[0m\u001B[1;33m.\u001B[0m\u001B[0m_is_level_reference\u001B[0m\u001B[1;33m(\u001B[0m\u001B[0mkey\u001B[0m\u001B[1;33m,\u001B[0m \u001B[0maxis\u001B[0m\u001B[1;33m=\u001B[0m\u001B[0maxis\u001B[0m\u001B[1;33m)\u001B[0m\u001B[1;33m:\u001B[0m\u001B[1;33m\u001B[0m\u001B[1;33m\u001B[0m\u001B[0m\n\u001B[0;32m   1909\u001B[0m             \u001B[0mvalues\u001B[0m \u001B[1;33m=\u001B[0m \u001B[0mself\u001B[0m\u001B[1;33m.\u001B[0m\u001B[0maxes\u001B[0m\u001B[1;33m[\u001B[0m\u001B[0maxis\u001B[0m\u001B[1;33m]\u001B[0m\u001B[1;33m.\u001B[0m\u001B[0mget_level_values\u001B[0m\u001B[1;33m(\u001B[0m\u001B[0mkey\u001B[0m\u001B[1;33m)\u001B[0m\u001B[1;33m.\u001B[0m\u001B[0m_values\u001B[0m\u001B[1;33m\u001B[0m\u001B[1;33m\u001B[0m\u001B[0m\n\u001B[0;32m   1910\u001B[0m         \u001B[1;32melse\u001B[0m\u001B[1;33m:\u001B[0m\u001B[1;33m\u001B[0m\u001B[1;33m\u001B[0m\u001B[0m\n\u001B[1;32m-> 1911\u001B[1;33m             \u001B[1;32mraise\u001B[0m \u001B[0mKeyError\u001B[0m\u001B[1;33m(\u001B[0m\u001B[0mkey\u001B[0m\u001B[1;33m)\u001B[0m\u001B[1;33m\u001B[0m\u001B[1;33m\u001B[0m\u001B[0m\n\u001B[0m\u001B[0;32m   1912\u001B[0m \u001B[1;33m\u001B[0m\u001B[0m\n\u001B[0;32m   1913\u001B[0m         \u001B[1;31m# Check for duplicates\u001B[0m\u001B[1;33m\u001B[0m\u001B[1;33m\u001B[0m\u001B[0m\n\u001B[0;32m   1914\u001B[0m         \u001B[1;32mif\u001B[0m \u001B[0mvalues\u001B[0m\u001B[1;33m.\u001B[0m\u001B[0mndim\u001B[0m \u001B[1;33m>\u001B[0m \u001B[1;36m1\u001B[0m\u001B[1;33m:\u001B[0m\u001B[1;33m\u001B[0m\u001B[1;33m\u001B[0m\u001B[0m\n",
      "\u001B[1;31mKeyError\u001B[0m: 'Location'"
     ]
    }
   ],
   "execution_count": 26
  },
  {
   "cell_type": "markdown",
   "metadata": {},
   "source": [
    "#### merge() erlaubt uns auch das Verbinden von unterschiedlich bezeichneten Spalten"
   ]
  },
  {
   "cell_type": "code",
   "metadata": {
    "ExecuteTime": {
     "end_time": "2024-11-14T11:10:14.991037200Z",
     "start_time": "2024-11-14T10:58:57.339886Z"
    }
   },
   "source": [
    "# Umbennenen der Spalte Location von geo_df in Stadt\n",
    "geo_df.rename(columns={\"Location\": \"Stadt\"}, inplace=True)\n",
    "geo_df"
   ],
   "outputs": [
    {
     "data": {
      "text/plain": [
       "               Stadt  Breitengrad  Laengengrad\n",
       "Eintrag 0     Berlin        52.31        13.24\n",
       "Eintrag 1    München        48.80        11.34\n",
       "Eintrag 2    Hamburg        53.33        10.00\n",
       "Eintrag 3       Köln        45.75      -122.43\n",
       "Eintrag 4  Frankfurt        47.61      -122.33\n",
       "Eintrag 5   Duisburg        53.55      -113.49\n",
       "Eintrag 6     Kassel        49.28      -123.13\n",
       "Eintrag 7   Würzburg        51.05      -114.07"
      ],
      "text/html": [
       "<div>\n",
       "<style scoped>\n",
       "    .dataframe tbody tr th:only-of-type {\n",
       "        vertical-align: middle;\n",
       "    }\n",
       "\n",
       "    .dataframe tbody tr th {\n",
       "        vertical-align: top;\n",
       "    }\n",
       "\n",
       "    .dataframe thead th {\n",
       "        text-align: right;\n",
       "    }\n",
       "</style>\n",
       "<table border=\"1\" class=\"dataframe\">\n",
       "  <thead>\n",
       "    <tr style=\"text-align: right;\">\n",
       "      <th></th>\n",
       "      <th>Stadt</th>\n",
       "      <th>Breitengrad</th>\n",
       "      <th>Laengengrad</th>\n",
       "    </tr>\n",
       "  </thead>\n",
       "  <tbody>\n",
       "    <tr>\n",
       "      <th>Eintrag 0</th>\n",
       "      <td>Berlin</td>\n",
       "      <td>52.31</td>\n",
       "      <td>13.24</td>\n",
       "    </tr>\n",
       "    <tr>\n",
       "      <th>Eintrag 1</th>\n",
       "      <td>München</td>\n",
       "      <td>48.80</td>\n",
       "      <td>11.34</td>\n",
       "    </tr>\n",
       "    <tr>\n",
       "      <th>Eintrag 2</th>\n",
       "      <td>Hamburg</td>\n",
       "      <td>53.33</td>\n",
       "      <td>10.00</td>\n",
       "    </tr>\n",
       "    <tr>\n",
       "      <th>Eintrag 3</th>\n",
       "      <td>Köln</td>\n",
       "      <td>45.75</td>\n",
       "      <td>-122.43</td>\n",
       "    </tr>\n",
       "    <tr>\n",
       "      <th>Eintrag 4</th>\n",
       "      <td>Frankfurt</td>\n",
       "      <td>47.61</td>\n",
       "      <td>-122.33</td>\n",
       "    </tr>\n",
       "    <tr>\n",
       "      <th>Eintrag 5</th>\n",
       "      <td>Duisburg</td>\n",
       "      <td>53.55</td>\n",
       "      <td>-113.49</td>\n",
       "    </tr>\n",
       "    <tr>\n",
       "      <th>Eintrag 6</th>\n",
       "      <td>Kassel</td>\n",
       "      <td>49.28</td>\n",
       "      <td>-123.13</td>\n",
       "    </tr>\n",
       "    <tr>\n",
       "      <th>Eintrag 7</th>\n",
       "      <td>Würzburg</td>\n",
       "      <td>51.05</td>\n",
       "      <td>-114.07</td>\n",
       "    </tr>\n",
       "  </tbody>\n",
       "</table>\n",
       "</div>"
      ]
     },
     "execution_count": 27,
     "metadata": {},
     "output_type": "execute_result"
    }
   ],
   "execution_count": 27
  },
  {
   "cell_type": "code",
   "metadata": {
    "ExecuteTime": {
     "end_time": "2024-11-14T11:10:14.994921500Z",
     "start_time": "2024-11-14T10:59:17.509906Z"
    }
   },
   "source": [
    "# Verwenden von right_on und left_on, um unterschiedliche\n",
    "# Spaltennamen zu mergen\n",
    "df.merge(geo_df, left_on=\"Location\", right_on=\"Stadt\", how=\"left\")"
   ],
   "outputs": [
    {
     "ename": "KeyError",
     "evalue": "'Location'",
     "output_type": "error",
     "traceback": [
      "\u001B[1;31m---------------------------------------------------------------------------\u001B[0m",
      "\u001B[1;31mKeyError\u001B[0m                                  Traceback (most recent call last)",
      "\u001B[1;32m~\\AppData\\Local\\Temp\\ipykernel_932\\2573342542.py\u001B[0m in \u001B[0;36m?\u001B[1;34m()\u001B[0m\n\u001B[0;32m      1\u001B[0m \u001B[1;31m# Verwenden von right_on und left_on, um unterschiedliche\u001B[0m\u001B[1;33m\u001B[0m\u001B[1;33m\u001B[0m\u001B[0m\n\u001B[0;32m      2\u001B[0m \u001B[1;31m# Spaltennamen zu mergen\u001B[0m\u001B[1;33m\u001B[0m\u001B[1;33m\u001B[0m\u001B[0m\n\u001B[1;32m----> 3\u001B[1;33m \u001B[0mdf\u001B[0m\u001B[1;33m.\u001B[0m\u001B[0mmerge\u001B[0m\u001B[1;33m(\u001B[0m\u001B[0mgeo_df\u001B[0m\u001B[1;33m,\u001B[0m \u001B[0mleft_on\u001B[0m\u001B[1;33m=\u001B[0m\u001B[1;34m\"Location\"\u001B[0m\u001B[1;33m,\u001B[0m \u001B[0mright_on\u001B[0m\u001B[1;33m=\u001B[0m\u001B[1;34m\"Stadt\"\u001B[0m\u001B[1;33m,\u001B[0m \u001B[0mhow\u001B[0m\u001B[1;33m=\u001B[0m\u001B[1;34m\"left\"\u001B[0m\u001B[1;33m)\u001B[0m\u001B[1;33m\u001B[0m\u001B[1;33m\u001B[0m\u001B[0m\n\u001B[0m",
      "\u001B[1;32m~\\Python\\Lib\\site-packages\\pandas\\core\\frame.py\u001B[0m in \u001B[0;36m?\u001B[1;34m(self, right, how, on, left_on, right_on, left_index, right_index, sort, suffixes, copy, indicator, validate)\u001B[0m\n\u001B[0;32m  10828\u001B[0m         \u001B[0mvalidate\u001B[0m\u001B[1;33m:\u001B[0m \u001B[0mMergeValidate\u001B[0m \u001B[1;33m|\u001B[0m \u001B[1;32mNone\u001B[0m \u001B[1;33m=\u001B[0m \u001B[1;32mNone\u001B[0m\u001B[1;33m,\u001B[0m\u001B[1;33m\u001B[0m\u001B[1;33m\u001B[0m\u001B[0m\n\u001B[0;32m  10829\u001B[0m     \u001B[1;33m)\u001B[0m \u001B[1;33m->\u001B[0m \u001B[0mDataFrame\u001B[0m\u001B[1;33m:\u001B[0m\u001B[1;33m\u001B[0m\u001B[1;33m\u001B[0m\u001B[0m\n\u001B[0;32m  10830\u001B[0m         \u001B[1;32mfrom\u001B[0m \u001B[0mpandas\u001B[0m\u001B[1;33m.\u001B[0m\u001B[0mcore\u001B[0m\u001B[1;33m.\u001B[0m\u001B[0mreshape\u001B[0m\u001B[1;33m.\u001B[0m\u001B[0mmerge\u001B[0m \u001B[1;32mimport\u001B[0m \u001B[0mmerge\u001B[0m\u001B[1;33m\u001B[0m\u001B[1;33m\u001B[0m\u001B[0m\n\u001B[0;32m  10831\u001B[0m \u001B[1;33m\u001B[0m\u001B[0m\n\u001B[1;32m> 10832\u001B[1;33m         return merge(\n\u001B[0m\u001B[0;32m  10833\u001B[0m             \u001B[0mself\u001B[0m\u001B[1;33m,\u001B[0m\u001B[1;33m\u001B[0m\u001B[1;33m\u001B[0m\u001B[0m\n\u001B[0;32m  10834\u001B[0m             \u001B[0mright\u001B[0m\u001B[1;33m,\u001B[0m\u001B[1;33m\u001B[0m\u001B[1;33m\u001B[0m\u001B[0m\n\u001B[0;32m  10835\u001B[0m             \u001B[0mhow\u001B[0m\u001B[1;33m=\u001B[0m\u001B[0mhow\u001B[0m\u001B[1;33m,\u001B[0m\u001B[1;33m\u001B[0m\u001B[1;33m\u001B[0m\u001B[0m\n",
      "\u001B[1;32m~\\Python\\Lib\\site-packages\\pandas\\core\\reshape\\merge.py\u001B[0m in \u001B[0;36m?\u001B[1;34m(left, right, how, on, left_on, right_on, left_index, right_index, sort, suffixes, copy, indicator, validate)\u001B[0m\n\u001B[0;32m    166\u001B[0m             \u001B[0mvalidate\u001B[0m\u001B[1;33m=\u001B[0m\u001B[0mvalidate\u001B[0m\u001B[1;33m,\u001B[0m\u001B[1;33m\u001B[0m\u001B[1;33m\u001B[0m\u001B[0m\n\u001B[0;32m    167\u001B[0m             \u001B[0mcopy\u001B[0m\u001B[1;33m=\u001B[0m\u001B[0mcopy\u001B[0m\u001B[1;33m,\u001B[0m\u001B[1;33m\u001B[0m\u001B[1;33m\u001B[0m\u001B[0m\n\u001B[0;32m    168\u001B[0m         \u001B[1;33m)\u001B[0m\u001B[1;33m\u001B[0m\u001B[1;33m\u001B[0m\u001B[0m\n\u001B[0;32m    169\u001B[0m     \u001B[1;32melse\u001B[0m\u001B[1;33m:\u001B[0m\u001B[1;33m\u001B[0m\u001B[1;33m\u001B[0m\u001B[0m\n\u001B[1;32m--> 170\u001B[1;33m         op = _MergeOperation(\n\u001B[0m\u001B[0;32m    171\u001B[0m             \u001B[0mleft_df\u001B[0m\u001B[1;33m,\u001B[0m\u001B[1;33m\u001B[0m\u001B[1;33m\u001B[0m\u001B[0m\n\u001B[0;32m    172\u001B[0m             \u001B[0mright_df\u001B[0m\u001B[1;33m,\u001B[0m\u001B[1;33m\u001B[0m\u001B[1;33m\u001B[0m\u001B[0m\n\u001B[0;32m    173\u001B[0m             \u001B[0mhow\u001B[0m\u001B[1;33m=\u001B[0m\u001B[0mhow\u001B[0m\u001B[1;33m,\u001B[0m\u001B[1;33m\u001B[0m\u001B[1;33m\u001B[0m\u001B[0m\n",
      "\u001B[1;32m~\\Python\\Lib\\site-packages\\pandas\\core\\reshape\\merge.py\u001B[0m in \u001B[0;36m?\u001B[1;34m(self, left, right, how, on, left_on, right_on, left_index, right_index, sort, suffixes, indicator, validate)\u001B[0m\n\u001B[0;32m    790\u001B[0m             \u001B[0mself\u001B[0m\u001B[1;33m.\u001B[0m\u001B[0mright_join_keys\u001B[0m\u001B[1;33m,\u001B[0m\u001B[1;33m\u001B[0m\u001B[1;33m\u001B[0m\u001B[0m\n\u001B[0;32m    791\u001B[0m             \u001B[0mself\u001B[0m\u001B[1;33m.\u001B[0m\u001B[0mjoin_names\u001B[0m\u001B[1;33m,\u001B[0m\u001B[1;33m\u001B[0m\u001B[1;33m\u001B[0m\u001B[0m\n\u001B[0;32m    792\u001B[0m             \u001B[0mleft_drop\u001B[0m\u001B[1;33m,\u001B[0m\u001B[1;33m\u001B[0m\u001B[1;33m\u001B[0m\u001B[0m\n\u001B[0;32m    793\u001B[0m             \u001B[0mright_drop\u001B[0m\u001B[1;33m,\u001B[0m\u001B[1;33m\u001B[0m\u001B[1;33m\u001B[0m\u001B[0m\n\u001B[1;32m--> 794\u001B[1;33m         \u001B[1;33m)\u001B[0m \u001B[1;33m=\u001B[0m \u001B[0mself\u001B[0m\u001B[1;33m.\u001B[0m\u001B[0m_get_merge_keys\u001B[0m\u001B[1;33m(\u001B[0m\u001B[1;33m)\u001B[0m\u001B[1;33m\u001B[0m\u001B[1;33m\u001B[0m\u001B[0m\n\u001B[0m\u001B[0;32m    795\u001B[0m \u001B[1;33m\u001B[0m\u001B[0m\n\u001B[0;32m    796\u001B[0m         \u001B[1;32mif\u001B[0m \u001B[0mleft_drop\u001B[0m\u001B[1;33m:\u001B[0m\u001B[1;33m\u001B[0m\u001B[1;33m\u001B[0m\u001B[0m\n\u001B[0;32m    797\u001B[0m             \u001B[0mself\u001B[0m\u001B[1;33m.\u001B[0m\u001B[0mleft\u001B[0m \u001B[1;33m=\u001B[0m \u001B[0mself\u001B[0m\u001B[1;33m.\u001B[0m\u001B[0mleft\u001B[0m\u001B[1;33m.\u001B[0m\u001B[0m_drop_labels_or_levels\u001B[0m\u001B[1;33m(\u001B[0m\u001B[0mleft_drop\u001B[0m\u001B[1;33m)\u001B[0m\u001B[1;33m\u001B[0m\u001B[1;33m\u001B[0m\u001B[0m\n",
      "\u001B[1;32m~\\Python\\Lib\\site-packages\\pandas\\core\\reshape\\merge.py\u001B[0m in \u001B[0;36m?\u001B[1;34m(self)\u001B[0m\n\u001B[0;32m   1306\u001B[0m                     \u001B[1;32mif\u001B[0m \u001B[0mlk\u001B[0m \u001B[1;32mis\u001B[0m \u001B[1;32mnot\u001B[0m \u001B[1;32mNone\u001B[0m\u001B[1;33m:\u001B[0m\u001B[1;33m\u001B[0m\u001B[1;33m\u001B[0m\u001B[0m\n\u001B[0;32m   1307\u001B[0m                         \u001B[1;31m# Then we're either Hashable or a wrong-length arraylike,\u001B[0m\u001B[1;33m\u001B[0m\u001B[1;33m\u001B[0m\u001B[0m\n\u001B[0;32m   1308\u001B[0m                         \u001B[1;31m#  the latter of which will raise\u001B[0m\u001B[1;33m\u001B[0m\u001B[1;33m\u001B[0m\u001B[0m\n\u001B[0;32m   1309\u001B[0m                         \u001B[0mlk\u001B[0m \u001B[1;33m=\u001B[0m \u001B[0mcast\u001B[0m\u001B[1;33m(\u001B[0m\u001B[0mHashable\u001B[0m\u001B[1;33m,\u001B[0m \u001B[0mlk\u001B[0m\u001B[1;33m)\u001B[0m\u001B[1;33m\u001B[0m\u001B[1;33m\u001B[0m\u001B[0m\n\u001B[1;32m-> 1310\u001B[1;33m                         \u001B[0mleft_keys\u001B[0m\u001B[1;33m.\u001B[0m\u001B[0mappend\u001B[0m\u001B[1;33m(\u001B[0m\u001B[0mleft\u001B[0m\u001B[1;33m.\u001B[0m\u001B[0m_get_label_or_level_values\u001B[0m\u001B[1;33m(\u001B[0m\u001B[0mlk\u001B[0m\u001B[1;33m)\u001B[0m\u001B[1;33m)\u001B[0m\u001B[1;33m\u001B[0m\u001B[1;33m\u001B[0m\u001B[0m\n\u001B[0m\u001B[0;32m   1311\u001B[0m                         \u001B[0mjoin_names\u001B[0m\u001B[1;33m.\u001B[0m\u001B[0mappend\u001B[0m\u001B[1;33m(\u001B[0m\u001B[0mlk\u001B[0m\u001B[1;33m)\u001B[0m\u001B[1;33m\u001B[0m\u001B[1;33m\u001B[0m\u001B[0m\n\u001B[0;32m   1312\u001B[0m                     \u001B[1;32melse\u001B[0m\u001B[1;33m:\u001B[0m\u001B[1;33m\u001B[0m\u001B[1;33m\u001B[0m\u001B[0m\n\u001B[0;32m   1313\u001B[0m                         \u001B[1;31m# work-around for merge_asof(left_index=True)\u001B[0m\u001B[1;33m\u001B[0m\u001B[1;33m\u001B[0m\u001B[0m\n",
      "\u001B[1;32m~\\Python\\Lib\\site-packages\\pandas\\core\\generic.py\u001B[0m in \u001B[0;36m?\u001B[1;34m(self, key, axis)\u001B[0m\n\u001B[0;32m   1907\u001B[0m             \u001B[0mvalues\u001B[0m \u001B[1;33m=\u001B[0m \u001B[0mself\u001B[0m\u001B[1;33m.\u001B[0m\u001B[0mxs\u001B[0m\u001B[1;33m(\u001B[0m\u001B[0mkey\u001B[0m\u001B[1;33m,\u001B[0m \u001B[0maxis\u001B[0m\u001B[1;33m=\u001B[0m\u001B[0mother_axes\u001B[0m\u001B[1;33m[\u001B[0m\u001B[1;36m0\u001B[0m\u001B[1;33m]\u001B[0m\u001B[1;33m)\u001B[0m\u001B[1;33m.\u001B[0m\u001B[0m_values\u001B[0m\u001B[1;33m\u001B[0m\u001B[1;33m\u001B[0m\u001B[0m\n\u001B[0;32m   1908\u001B[0m         \u001B[1;32melif\u001B[0m \u001B[0mself\u001B[0m\u001B[1;33m.\u001B[0m\u001B[0m_is_level_reference\u001B[0m\u001B[1;33m(\u001B[0m\u001B[0mkey\u001B[0m\u001B[1;33m,\u001B[0m \u001B[0maxis\u001B[0m\u001B[1;33m=\u001B[0m\u001B[0maxis\u001B[0m\u001B[1;33m)\u001B[0m\u001B[1;33m:\u001B[0m\u001B[1;33m\u001B[0m\u001B[1;33m\u001B[0m\u001B[0m\n\u001B[0;32m   1909\u001B[0m             \u001B[0mvalues\u001B[0m \u001B[1;33m=\u001B[0m \u001B[0mself\u001B[0m\u001B[1;33m.\u001B[0m\u001B[0maxes\u001B[0m\u001B[1;33m[\u001B[0m\u001B[0maxis\u001B[0m\u001B[1;33m]\u001B[0m\u001B[1;33m.\u001B[0m\u001B[0mget_level_values\u001B[0m\u001B[1;33m(\u001B[0m\u001B[0mkey\u001B[0m\u001B[1;33m)\u001B[0m\u001B[1;33m.\u001B[0m\u001B[0m_values\u001B[0m\u001B[1;33m\u001B[0m\u001B[1;33m\u001B[0m\u001B[0m\n\u001B[0;32m   1910\u001B[0m         \u001B[1;32melse\u001B[0m\u001B[1;33m:\u001B[0m\u001B[1;33m\u001B[0m\u001B[1;33m\u001B[0m\u001B[0m\n\u001B[1;32m-> 1911\u001B[1;33m             \u001B[1;32mraise\u001B[0m \u001B[0mKeyError\u001B[0m\u001B[1;33m(\u001B[0m\u001B[0mkey\u001B[0m\u001B[1;33m)\u001B[0m\u001B[1;33m\u001B[0m\u001B[1;33m\u001B[0m\u001B[0m\n\u001B[0m\u001B[0;32m   1912\u001B[0m \u001B[1;33m\u001B[0m\u001B[0m\n\u001B[0;32m   1913\u001B[0m         \u001B[1;31m# Check for duplicates\u001B[0m\u001B[1;33m\u001B[0m\u001B[1;33m\u001B[0m\u001B[0m\n\u001B[0;32m   1914\u001B[0m         \u001B[1;32mif\u001B[0m \u001B[0mvalues\u001B[0m\u001B[1;33m.\u001B[0m\u001B[0mndim\u001B[0m \u001B[1;33m>\u001B[0m \u001B[1;36m1\u001B[0m\u001B[1;33m:\u001B[0m\u001B[1;33m\u001B[0m\u001B[1;33m\u001B[0m\u001B[0m\n",
      "\u001B[1;31mKeyError\u001B[0m: 'Location'"
     ]
    }
   ],
   "execution_count": 28
  },
  {
   "cell_type": "markdown",
   "metadata": {},
   "source": [
    "#### Übungsaufgabe `merge`\n",
    "\n",
    "Nachfolgender Dictionaries enthalten Daten zu Kunden und Produktkäufen.\n",
    "Deine Aufgabe ist es, daraus zwei DataFrames zu erstellen und danach die beiden DataFrames so mitttels merge zu verbinden, dass zu allen Produktdaten die entsprechenden Kundendaten erscheinen, soweit verfügbar (ansonsten NaN-Werte)."
   ]
  },
  {
   "cell_type": "code",
   "metadata": {
    "ExecuteTime": {
     "end_time": "2024-11-14T11:10:14.998509500Z",
     "start_time": "2024-11-14T10:59:20.857544Z"
    }
   },
   "source": [
    "customer_data = {\n",
    "    'CustomerID': [101, 102, 103, 104, 105, 106, 107],\n",
    "    'CustomerName': ['Alice', 'Bob', 'Charlie', 'David', 'Eva', 'Frank', 'Grace'],\n",
    "    'Email': ['alice@mail.com', 'bob@mail.com', 'charlie@mail.com', 'david@mail.com', 'eva@mail.com', 'frank@mail.com', 'grace@mail.com'],\n",
    "    'JoinDate': ['2022-05-01', '2021-06-15', '2020-08-20', '2022-11-25', '2023-01-05', '2021-09-10', '2020-12-31']\n",
    "}\n",
    "\n",
    "purchase_data = {\n",
    "    'ClientID': [101, 102, 103, 108, 105, 106, 107, 102],\n",
    "    'ProductID': [201, 202, 203, 204, 205, 206, 207, 205],\n",
    "    'PurchaseDate': ['2023-01-10', '2023-02-15', '2023-01-20', '2023-03-10', '2023-01-30', '2023-03-05', '2023-01-25', '2023-04-01'],\n",
    "}"
   ],
   "outputs": [],
   "execution_count": 29
  },
  {
   "cell_type": "code",
   "execution_count": null,
   "metadata": {},
   "outputs": [],
   "source": []
  },
  {
   "cell_type": "code",
   "execution_count": null,
   "metadata": {},
   "outputs": [],
   "source": []
  }
 ],
 "metadata": {
  "kernelspec": {
   "display_name": "Python 3",
   "language": "python",
   "name": "python3"
  },
  "language_info": {
   "codemirror_mode": {
    "name": "ipython",
    "version": 3
   },
   "file_extension": ".py",
   "mimetype": "text/x-python",
   "name": "python",
   "nbconvert_exporter": "python",
   "pygments_lexer": "ipython3",
   "version": "3.10.12"
  }
 },
 "nbformat": 4,
 "nbformat_minor": 2
}
