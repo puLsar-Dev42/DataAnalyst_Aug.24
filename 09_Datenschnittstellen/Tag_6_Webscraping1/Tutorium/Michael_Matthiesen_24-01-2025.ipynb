{
 "cells": [
  {
   "metadata": {
    "ExecuteTime": {
     "end_time": "2025-01-24T12:22:11.659611Z",
     "start_time": "2025-01-24T12:22:10.925168Z"
    }
   },
   "cell_type": "code",
   "source": [
    "# imports\n",
    "import pandas as pd\n",
    "import requests\n",
    "import bs4\n",
    "from bs4 import BeautifulSoup"
   ],
   "outputs": [],
   "execution_count": 1
  },
  {
   "cell_type": "markdown",
   "metadata": {},
   "source": [
    "<center><h1 style=\"font-size:2.5em;color:#2467C0\">Tagesaufgaben - Webscraping<br></h1></center>\n"
   ]
  },
  {
   "cell_type": "markdown",
   "metadata": {},
   "source": [
    "# Aufgabe 1"
   ]
  },
  {
   "cell_type": "markdown",
   "metadata": {},
   "source": [
    "**a)** Versuche mithilfe der BeautifulSoup-Library den Preis des Produktes aus dem gegebenen Link herauszufinden und auszugeben.\n"
   ]
  },
  {
   "cell_type": "code",
   "metadata": {
    "ExecuteTime": {
     "end_time": "2025-01-24T13:57:25.905611Z",
     "start_time": "2025-01-24T13:57:25.298388Z"
    }
   },
   "source": [
    "url1 = 'https://www.newegg.ca/msi-geforce-rtx-3060-rtx-3060-ventus-3x-12g-oc/p/N82E16814137631'\n",
    "re1 = requests.get(url1)\n",
    "re1.encoding = 'utf-8'\n",
    "\n",
    "# Variante 1:\n",
    "soup1 = BeautifulSoup(re1.text)\n",
    "price_part1 = soup1.find('strong')\n",
    "price_part2 = soup1.find('sup')\n",
    "price = price_part1.text + price_part2.text\n",
    "print(f'Price for MSI GEFORCE RTX 3060 : {price} $')"
   ],
   "outputs": [
    {
     "name": "stdout",
     "output_type": "stream",
     "text": [
      "Price for MSI GEFORCE RTX 3060 : 644.99 $\n"
     ]
    }
   ],
   "execution_count": 54
  },
  {
   "metadata": {
    "ExecuteTime": {
     "end_time": "2025-01-24T13:57:32.061317Z",
     "start_time": "2025-01-24T13:57:31.357549Z"
    }
   },
   "cell_type": "code",
   "source": [
    "# Variante 2:\n",
    "re1 = requests.get(url1).text\n",
    "soup1 = BeautifulSoup(re1)\n",
    "soup1.find('strong').text\n",
    "p = soup1.find('div', class_='price-current')\n",
    "p.text"
   ],
   "outputs": [
    {
     "data": {
      "text/plain": [
       "'$644.99'"
      ]
     },
     "execution_count": 55,
     "metadata": {},
     "output_type": "execute_result"
    }
   ],
   "execution_count": 55
  },
  {
   "cell_type": "markdown",
   "metadata": {},
   "source": [
    "**b) Optional**: Lass dir erneut den Preis ausgeben, nutze aber dieses Mal in deiner `find_all`-Funktion keine HTML Tags oder Klassen Tags, sondern nutze das $ Symbol, um den Preis zu finden."
   ]
  },
  {
   "cell_type": "code",
   "metadata": {
    "ExecuteTime": {
     "end_time": "2025-01-24T13:57:35.554237Z",
     "start_time": "2025-01-24T13:57:35.549408Z"
    }
   },
   "source": [
    "d = soup1.find(string='$')\n",
    "print(d, d.next_sibling.text, d.next_sibling.next_sibling.text, sep='')"
   ],
   "outputs": [
    {
     "name": "stdout",
     "output_type": "stream",
     "text": [
      "$644.99\n"
     ]
    }
   ],
   "execution_count": 56
  },
  {
   "cell_type": "markdown",
   "metadata": {},
   "source": [
    "**c)** Nutze BeautifulSoup um dir aus der unten angegebenen Website die neusten Cyber-Sicherheitswarnungen zu extrahieren und ausgeben zu lassen. Es reichen dabei die Titel."
   ]
  },
  {
   "cell_type": "code",
   "execution_count": null,
   "metadata": {},
   "outputs": [],
   "source": [
    "URL = \"https://www.cisa.gov/news-events/cybersecurity-advisories?f%5B0%5D=advisory_type%3A93\"\n"
   ]
  },
  {
   "cell_type": "code",
   "execution_count": null,
   "metadata": {},
   "outputs": [],
   "source": []
  },
  {
   "cell_type": "markdown",
   "metadata": {},
   "source": [
    "**d)** Gehe auf die Website https://www.lyrics.com/ und suche ein Lied deiner Wahl. Nutze anschließend BeautifulSoup um dir den Songtext davon zu scrapen.\n",
    "<br> *Hinweis: Die Klasse die wir hier angeben müssen, sind nur die zwei ersten mit Bindestrich verbundenen Wörter.*"
   ]
  },
  {
   "cell_type": "code",
   "execution_count": null,
   "metadata": {},
   "outputs": [],
   "source": []
  },
  {
   "cell_type": "markdown",
   "metadata": {},
   "source": [
    "**e) Optional**: Entferne alle Elemente im Text, die nicht Teil des Songtexts sind (\\r zum Beispiel)."
   ]
  },
  {
   "cell_type": "code",
   "execution_count": null,
   "metadata": {},
   "outputs": [],
   "source": []
  },
  {
   "cell_type": "markdown",
   "metadata": {},
   "source": [
    "**f)** Lass dir nur den Titel des Songs ausgeben."
   ]
  },
  {
   "cell_type": "code",
   "execution_count": null,
   "metadata": {},
   "outputs": [],
   "source": []
  }
 ],
 "metadata": {
  "language_info": {
   "name": "python"
  },
  "kernelspec": {
   "name": "python3",
   "language": "python",
   "display_name": "Python 3 (ipykernel)"
  }
 },
 "nbformat": 4,
 "nbformat_minor": 2
}
