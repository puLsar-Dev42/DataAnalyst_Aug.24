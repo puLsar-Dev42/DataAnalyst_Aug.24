{
 "cells": [
  {
   "cell_type": "markdown",
   "metadata": {
    "collapsed": false
   },
   "source": [
    "# Skript: Interaktive Plots mit Plotly\n",
    "\n",
    "---\n",
    "\n",
    "Was ist eigentlich Interaktivität?\n",
    "\n",
    "> Ermöglichung von nicht-linearen Abläufen und Einstellungsmöglichkeiten für den Nutzer durch (grafische) Oberflächen.\n",
    "\n",
    "Bsp.: Würfel der sich einmal als GIF um die eigene Achse dreht vs. Würfel, den der Nutzer selbst so drehen kann, wie er es will.\n",
    "\n",
    "## Plotly\n",
    "\n",
    "Plotly ist eine **JavaScript**-Grafikbibliothek, die nicht nur von Python aus, sondern auch von Julia, R, MATLAB, Perl und vielen anderen Sprachen bedient werden kann. Wenn es um Python geht, ist Plotly \"Marktführer\" im Bereich Interaktivität und Bereitstellung von Plots über das Internet.\n",
    "\n",
    "Plotly besteht aus mehreren Komponenten:\n",
    "\n",
    "* **`plotly.express`** bietet ähnlich zu seaborn viele konventionelle Plot-Funktionen mit denen viele Visualisierungen schnell gelöst werden können\n",
    "* `plotly.graph_objects` bietet einzelne Grafikobjekte (Tabelle, Liniengraphen, etc.), die maßgeschneidert werden können.\n",
    "* `plotly.subplots` für mehr Werkzeuge zum Anordnen von Unterplots.\n",
    "\n",
    "Schließlich bietet Plotly auch mit **`Dash`**, einen Service, um Plotly-Plots direkt als Dashboard-Internetseite bereitzustellen. Das Modul stützt sich auf `flask` als Python-Webserver."
   ]
  },
  {
   "cell_type": "code",
   "metadata": {
    "collapsed": false
   },
   "source": [
    "# Unsere Imports heute:\n",
    "import numpy as np\n",
    "import pandas as pd\n",
    "import seaborn as sns\n",
    "\n",
    "import plotly\n",
    "import plotly.express as px  # \"Schnelle\" Plot Funktionen\n",
    "import plotly.graph_objects as go  # Grafikobjekte\n",
    "import \\\n",
    "    plotly.figure_factory as ff  # Für Zusammenstellung von Grafiken, die sonst schwer zu machen sind"
   ],
   "outputs": [],
   "execution_count": null
  },
  {
   "metadata": {},
   "cell_type": "code",
   "source": "rng = np.random.default_rng(1234)  # Zufallsgenerator",
   "outputs": [],
   "execution_count": null
  },
  {
   "cell_type": "markdown",
   "metadata": {
    "collapsed": false
   },
   "source": [
    "# 1 Plotly Express\n",
    "\n",
    "Plotly express ist innerhalb von Plotly die schnellste Möglichkeit zum Erstellen von Plots.\n",
    "\n",
    "Express Plots sind dank HTML / CSS Rendering bereits voll interaktiv (Sichtfeld-Anpassung mittels Zoom, Pan, Select) und können in vielen Umgebungen einfach eingebunden werden."
   ]
  },
  {
   "metadata": {},
   "cell_type": "code",
   "source": [
    "# loc=Mittelwert, scale=Standardabweichung, size=Anzahl Punkte\n",
    "data = rng.normal(0, 1, 10)\n",
    "data"
   ],
   "outputs": [],
   "execution_count": null
  },
  {
   "cell_type": "code",
   "metadata": {},
   "source": [
    "# Alle herkömmlichen Plot-Arten verfügbar\n",
    "line_fig = px.line(y=data)\n",
    "line_fig.show()\n",
    "\n",
    "scatter_fig = px.scatter(y=data)\n",
    "scatter_fig.show()"
   ],
   "outputs": [],
   "execution_count": null
  },
  {
   "cell_type": "markdown",
   "metadata": {},
   "source": [
    "\n",
    "## 1.1 Plotstil\n",
    "\n",
    "### 1.1.1 Templates\n",
    "\n",
    "In Plotly express kann allen Plot-Befehlen ein `template`-Argument mitgegeben werden. Dieses erhält entweder den Namen eines [vordefinierten Plotly Stils](https://plotly.com/python/templates/) oder ein selbst definiertes Template-Objekt (dazu erst später mehr). "
   ]
  },
  {
   "cell_type": "code",
   "metadata": {
    "collapsed": false
   },
   "source": [
    "x_werte = [0, 1, 2, 3, 4]\n",
    "y_werte = [0, 1, 4, 9, 16]\n",
    "px.scatter(x=x_werte,\n",
    "           y=y_werte,\n",
    "           template='ggplot2')"
   ],
   "outputs": [],
   "execution_count": null
  },
  {
   "cell_type": "code",
   "metadata": {},
   "source": [
    "templates = plotly.io.templates\n",
    "templates"
   ],
   "outputs": [],
   "execution_count": null
  },
  {
   "cell_type": "code",
   "metadata": {},
   "source": [
    "# Über alle verfügbaren Templates loopen...\n",
    "for template in templates:\n",
    "    print(template)"
   ],
   "outputs": [],
   "execution_count": null
  },
  {
   "metadata": {},
   "cell_type": "code",
   "source": [
    "for template in templates:\n",
    "    print(template)\n",
    "\n",
    "    fig = px.scatter(x=x_werte,\n",
    "                     y=y_werte,\n",
    "                     template=template)\n",
    "    fig.show()"
   ],
   "outputs": [],
   "execution_count": null
  },
  {
   "cell_type": "markdown",
   "metadata": {},
   "source": [
    "### 1.1.2 Weitere Stil-Anpassungen\n",
    "\n",
    "Viele Stil-Anpassungen sind mit `plotly.express` erst im Nachhinein anhand des `fig`-Objektes möglich (Rückgabe der Plot-Funktion).\n",
    "\n",
    "Mit `fig.update_traces` lassen sich die Datenreihen, die in einer Abbildung vorhanden sind, verändern. Als Argument übergibt man normalerweise verschachtelte Dictionaries. Diese können aber auch mit Unterstrichen verbunden als Keyword-Argumente eingebaut werden.\n"
   ]
  },
  {
   "cell_type": "code",
   "metadata": {},
   "source": [
    "# Beispieldiagramm:\n",
    "n = 500\n",
    "\n",
    "x = rng.normal(0, 8, n)\n",
    "y = rng.normal(0, 20, n)"
   ],
   "outputs": [],
   "execution_count": null
  },
  {
   "metadata": {},
   "cell_type": "code",
   "source": [
    "fig = px.scatter(x, y)\n",
    "fig.show()"
   ],
   "outputs": [],
   "execution_count": null
  },
  {
   "cell_type": "code",
   "metadata": {},
   "source": [
    "# {} - Stil\n",
    "fig.update_traces(marker={'color': 'red',\n",
    "                          'line': {'color': 'black',\n",
    "                                   'width': 2}})"
   ],
   "outputs": [],
   "execution_count": null
  },
  {
   "cell_type": "code",
   "metadata": {},
   "source": [
    "# dict() - Stil\n",
    "fig = px.scatter(x, y)\n",
    "fig.update_traces(marker=dict(color='red',\n",
    "                              line=dict(color='black',\n",
    "                                        width=2)))"
   ],
   "outputs": [],
   "execution_count": null
  },
  {
   "cell_type": "code",
   "metadata": {},
   "source": [
    "# _ - Stil\n",
    "fig = px.scatter(x, y)\n",
    "fig.update_traces(marker_color='red',\n",
    "                  marker_line_color='black',\n",
    "                  marker_line_width=2,\n",
    "                  marker_size=12,\n",
    "                  marker_opacity=0.5)"
   ],
   "outputs": [],
   "execution_count": null
  },
  {
   "metadata": {},
   "cell_type": "code",
   "source": [
    "# Felix' Versuch (Mischform von beidem):\n",
    "fig = px.scatter(x, y)\n",
    "fig.update_traces(marker=dict(line_color='black', line_width=2))"
   ],
   "outputs": [],
   "execution_count": null
  },
  {
   "cell_type": "code",
   "metadata": {},
   "source": [
    "''  # Übersicht über alle Anpassungsmöglichkeiten gibt es in der\n",
    "# (sehr langen) Reference Page von Plotly\n",
    "\n",
    "# https://plotly.com/python/reference/"
   ],
   "outputs": [],
   "execution_count": null
  },
  {
   "metadata": {},
   "cell_type": "code",
   "source": [
    "# marker_symbol bietet ganz viele Symbole als Strings:\n",
    "# hexagon\n",
    "fig = px.scatter(x, y)\n",
    "fig.update_traces(marker_color='red',\n",
    "                  marker_line_color='black',\n",
    "                  marker_line_width=2,\n",
    "                  # Viel Spaß beim Rumspielen mit Symbolen:\n",
    "                  marker_symbol='diamond-wide',\n",
    "                  marker_size=10,\n",
    "                  marker_opacity=0.5)"
   ],
   "outputs": [],
   "execution_count": null
  },
  {
   "cell_type": "markdown",
   "metadata": {},
   "source": [
    "### 📝 Übung 1:\n",
    "\n",
    "1. Erstelle mit plotly-Express ein Balkendiagramm. Darin sollen die Kategorien: \"A\",\"B\",\"C\" mit den Werten 5,10,20 dargestellt werden.\n",
    "\n",
    "2. Wähle einen Plot-Stil für diese Abbildung\n",
    "\n",
    "3. Füge eine Rahmenlinie für die Bars ein\n"
   ]
  },
  {
   "cell_type": "code",
   "metadata": {},
   "source": [
    "bars = ['A', 'B', 'C']\n",
    "heights = [5, 10, 20]\n",
    "\n",
    "fig = px.bar(x=bars,\n",
    "             y=heights,\n",
    "             width=600,\n",
    "             template='ggplot2')\n",
    "\n",
    "fig.update_traces(marker_line_color='black',\n",
    "                  marker_line_width=2)\n",
    "\n",
    "fig.show()"
   ],
   "outputs": [],
   "execution_count": null
  },
  {
   "cell_type": "markdown",
   "metadata": {},
   "source": [
    "### 1.1.3 Beschriftungen\n",
    "\n",
    "Der Abbildungstitel kann unter `title` verändert werden. Die Achsenbeschriftungen sind als Dictionary unter `labels` zu verändern. <br>Die Schlüssel des Dictionaries müssen dabei die Variablennamen (Spaltennamen) aus dem DataFrame sein und die Werte müssen die Titel sein, die sie bekommen sollen.\n",
    "<br>Wurde ohne DataFrame gearbeitet, müssen für die Achsen \"x\" und \"y\" als Schlüssel verwendet werden."
   ]
  },
  {
   "cell_type": "code",
   "metadata": {},
   "source": [
    "# Titel- und Labelbeschriftungen\n",
    "px.scatter(x=x,\n",
    "           y=y,\n",
    "           title='Streuwolke von normalverteilten Zufallswerten',\n",
    "           labels=dict(x='Test-X',\n",
    "                       y='Test-Y')\n",
    "           )"
   ],
   "outputs": [],
   "execution_count": null
  },
  {
   "metadata": {},
   "cell_type": "code",
   "source": [
    "# Manchmal kommt man mit dem Unterstrich nicht weiter:\n",
    "# px.scatter(x=x,\n",
    "#            y=y,\n",
    "#            title='Streuwolke von normalverteilten Zufallswerten',\n",
    "#            labels_x='Test-X',\n",
    "#            labels_y='Test-Y')"
   ],
   "outputs": [],
   "execution_count": null
  },
  {
   "metadata": {},
   "cell_type": "code",
   "source": [
    "# Vorwegnahme: Titel zentrieren\n",
    "fig = px.scatter(x=x,\n",
    "                 y=y,\n",
    "                 title='Streuwolke von normalverteilten Zufallswerten',\n",
    "                 labels=dict(x='Test-X',\n",
    "                             y='Test-Y')\n",
    "                 )\n",
    "\n",
    "fig.update_layout(title_x=0.5)"
   ],
   "outputs": [],
   "execution_count": null
  },
  {
   "cell_type": "code",
   "metadata": {},
   "source": [
    "# Formatanpassungen:\n",
    "fig.update_layout(title_font_size=40,\n",
    "                  title_font_color='purple',\n",
    "                  title_font_family='Comic Sans MS')"
   ],
   "outputs": [],
   "execution_count": null
  },
  {
   "metadata": {},
   "cell_type": "code",
   "source": [
    "fig.update_layout(title_font=dict(\n",
    "    size=40,\n",
    "    color='purple',\n",
    "    family='Comic Sans MS')\n",
    ")"
   ],
   "outputs": [],
   "execution_count": null
  },
  {
   "cell_type": "markdown",
   "metadata": {},
   "source": [
    "## 1.2 DataFrames\n",
    "\n",
    "Wie bei Seaborn sind auch in Plotly (express) nützliche Standard-Datensätze verfügbar.\n",
    "\n",
    "Wie bei Seaborn lassen sich alle von Plotlys Funktionen sowohl mit Arrays/Listen als auch mit DataFrames und Spaltennamen bedienen.\n"
   ]
  },
  {
   "cell_type": "code",
   "metadata": {
    "collapsed": false
   },
   "source": [
    "gapminder = px.data.gapminder()\n",
    "gapminder.head()"
   ],
   "outputs": [],
   "execution_count": null
  },
  {
   "cell_type": "code",
   "metadata": {
    "collapsed": false
   },
   "source": [
    "# Verlauf der Lebenserwartungen und Bruttoinlandsprodukte zweier Länder\n",
    "# 1. Länderdaten selektieren (Deutschland und Japan)\n",
    "\n",
    "gapminder[\n",
    "    (gapminder['country'] == 'Germany') | (gapminder['country'] == 'Japan')]"
   ],
   "outputs": [],
   "execution_count": null
  },
  {
   "metadata": {},
   "cell_type": "code",
   "source": [
    "# Lesbarkeit bei solchem Code erhöhen:\n",
    "is_germany = gapminder['country'] == 'Germany'\n",
    "is_japan = gapminder['country'] == 'Japan'\n",
    "\n",
    "two_countries = gapminder[is_germany | is_japan]\n",
    "two_countries"
   ],
   "outputs": [],
   "execution_count": null
  },
  {
   "metadata": {},
   "cell_type": "code",
   "source": [
    "fig = px.line(\n",
    "    two_countries,\n",
    "    x='gdpPercap',\n",
    "    y='lifeExp',\n",
    "    color='country',\n",
    "    width=800,\n",
    "    # Beschriftung für individuelle Punkte über \"text\" - Spaltenname oder Fixtext\n",
    "    text='year',\n",
    "    title='Daten zu Deutschland und Japan',\n",
    "    labels={'gdpPercap': 'BIP pro Person',\n",
    "            'lifeExp': 'Lebenserwartung (Jahre)'}\n",
    ")\n",
    "\n",
    "fig.update_traces(textposition='middle left')\n",
    "fig.show()"
   ],
   "outputs": [],
   "execution_count": null
  },
  {
   "cell_type": "markdown",
   "metadata": {
    "collapsed": false
   },
   "source": [
    "## 1.3 Statistische Plots"
   ]
  },
  {
   "metadata": {},
   "cell_type": "code",
   "source": [
    "tips = px.data.tips()\n",
    "tips.head()"
   ],
   "outputs": [],
   "execution_count": null
  },
  {
   "metadata": {},
   "cell_type": "code",
   "source": "tips['tip_per_person'] = tips['tip'] / tips['size']",
   "outputs": [],
   "execution_count": null
  },
  {
   "metadata": {},
   "cell_type": "code",
   "source": "tips.head()",
   "outputs": [],
   "execution_count": null
  },
  {
   "metadata": {},
   "cell_type": "code",
   "source": [
    "# Marginal fügt zusätzlichen Plot oberhalb des eigentlich Plots hinzu:\n",
    "px.histogram(\n",
    "    tips,\n",
    "    x='total_bill',\n",
    "    y='tip',\n",
    "    color='smoker',\n",
    "    opacity=0.7,\n",
    "    width=800,\n",
    "    marginal='rug',\n",
    "    barmode='overlay'\n",
    ")"
   ],
   "outputs": [],
   "execution_count": null
  },
  {
   "metadata": {},
   "cell_type": "code",
   "source": [
    "# Man kann auch mehrere Marginals haben!\n",
    "px.scatter(\n",
    "    tips,\n",
    "    x='total_bill',\n",
    "    y='tip_per_person',\n",
    "    color='smoker',\n",
    "    width=800,\n",
    "    opacity=0.7,\n",
    "    trendline='ols',\n",
    "    # ordinary least squares (minimale Summe quadrierter Abweichungen)\n",
    "    marginal_x='histogram',\n",
    "    marginal_y='violin',\n",
    ")"
   ],
   "outputs": [],
   "execution_count": null
  },
  {
   "metadata": {},
   "cell_type": "code",
   "source": "# Mehr Info: https://plotly.com/python/marginal-plots/",
   "outputs": [],
   "execution_count": null
  },
  {
   "metadata": {},
   "cell_type": "code",
   "source": [
    "# Histogramm und Dichte mit figure_factory\n",
    "# Vorarbeit: die einzelnen zu visualisierenden Variablen aus Datensatz herausholen\n",
    "iris = px.data.iris()\n",
    "\n",
    "x1 = iris['petal_length']\n",
    "x2 = iris['sepal_length']\n",
    "x3 = iris['petal_width']\n",
    "x4 = iris['sepal_width']\n",
    "\n",
    "# Listen von Variablen + zugehörigen Labels und Farben erstellen\n",
    "data = [x1, x2, x3, x4]\n",
    "labels = ['Blütenblattlänge', 'Kelchblattlänge', 'Blütenblattbreite',\n",
    "          'Kelchblattbreite']\n",
    "\n",
    "colors = ['blue', 'red', 'green', 'orange']"
   ],
   "outputs": [],
   "execution_count": null
  },
  {
   "metadata": {},
   "cell_type": "code",
   "source": [
    "# Jetzt kommt figure_factory ins Spiel\n",
    "fig = ff.create_distplot(\n",
    "    data,\n",
    "    group_labels=labels,\n",
    "    colors=colors,\n",
    "    show_rug=False,\n",
    "    bin_size=0.2,\n",
    ")\n",
    "\n",
    "fig.update_layout(\n",
    "    title_text='Histogramm und Dichtefunktionen des Schwertlilien-Datensatzes',\n",
    "    width=800,\n",
    "    legend_title_text='Maße in mm',\n",
    "    legend_bordercolor='orange',\n",
    "    legend_borderwidth=2,\n",
    "    legend_font_color='blue',\n",
    "    legend_bgcolor='yellow'\n",
    ")\n",
    "\n",
    "fig.show()\n",
    "# Mehr zu figure factory: https://plotly.com/python/figure-factories/"
   ],
   "outputs": [],
   "execution_count": null
  },
  {
   "metadata": {},
   "cell_type": "code",
   "source": [
    "# Wäre der kürzeste Weg zu data gewesen:\n",
    "iris.iloc[:, 0:4]"
   ],
   "outputs": [],
   "execution_count": null
  },
  {
   "metadata": {},
   "cell_type": "code",
   "source": "# Mehr hier: https://plotly.com/python/reference/layout/",
   "outputs": [],
   "execution_count": null
  },
  {
   "metadata": {},
   "cell_type": "markdown",
   "source": [
    "## Übung 2\n",
    "### Erstelle mit Plotly einen Scatterplot, der die sepal_length gegen die sepal_width des Datensatzes iris aufträgt (inklusive Trendlinie). Außerdem sollen die Spezies durch verschiedene Farben aufgetrennt sein. Des Weiteren sollen am rechten Rand Boxplots dargestellt werden und am oberen Rand Violinplots."
   ]
  },
  {
   "metadata": {},
   "cell_type": "code",
   "source": "",
   "outputs": [],
   "execution_count": null
  },
  {
   "cell_type": "markdown",
   "metadata": {},
   "source": [
    "## 1.4 Zusätzliche Plot-Typen\n",
    "\n",
    "### 1.4.1 Gantt Chart\n",
    "\n",
    "`ff.create_gant`\n",
    "\n",
    "* **In `plotly.figure_factory` verfügbar**\n",
    "* Nicht in `plotly.express` verfügbar (nur kompliziert über `bar`) erstellbar.\n",
    "* Erwartet \"Task\", \"Start\" und \"Finish\" Spalten für jeden Task-Eintrag.\n",
    "* Mit \"Resource\" kann Zuständigkeit / Gruppe eingetragen werden."
   ]
  },
  {
   "cell_type": "code",
   "metadata": {},
   "source": [
    "# Aufgabenliste erstellen (by the way: muss kein DataFrame sein!)\n",
    "process1 = dict(\n",
    "    Task='Neue Waschmaschine bestellen und anschließen',\n",
    "    Start='2023-08-15',\n",
    "    Finish='2023-08-18'\n",
    ")\n",
    "\n",
    "process2 = dict(\n",
    "    Task='Angehäufte Wäscheberge waschen',\n",
    "    Start='2023-08-18',\n",
    "    Finish='2023-08-21'\n",
    ")\n",
    "\n",
    "process3 = dict(\n",
    "    Task='Wäsche einsortieren',\n",
    "    Start='2023-08-18',\n",
    "    Finish='2023-08-23'\n",
    ")"
   ],
   "outputs": [],
   "execution_count": null
  },
  {
   "metadata": {},
   "cell_type": "code",
   "source": [
    "gantt_df = pd.DataFrame([process1, process2, process3])\n",
    "gantt_df"
   ],
   "outputs": [],
   "execution_count": null
  },
  {
   "cell_type": "code",
   "metadata": {
    "collapsed": false
   },
   "source": [
    "# Gantt-Chart erstellen\n",
    "fig = ff.create_gantt(gantt_df)\n",
    "fig.update_yaxes(autorange='reversed')\n",
    "fig.show()"
   ],
   "outputs": [],
   "execution_count": null
  },
  {
   "cell_type": "code",
   "metadata": {
    "collapsed": false
   },
   "source": [
    "# Zuständigkeit / Gruppe über \"Resource\"\n",
    "process1 = dict(\n",
    "    Task='Neue Waschmaschine bestellen und anschließen',\n",
    "    Start='2023-08-15',\n",
    "    Finish='2023-08-18',\n",
    "    Resource='Andy'\n",
    ")\n",
    "\n",
    "process2 = dict(\n",
    "    Task='Angehäufte Wäscheberge waschen',\n",
    "    Start='2023-08-18',\n",
    "    Finish='2023-08-21',\n",
    "    Resource='Andy'\n",
    ")\n",
    "\n",
    "process3 = dict(\n",
    "    Task='Wäsche einsortieren',\n",
    "    Start='2023-08-18',\n",
    "    Finish='2023-08-23',\n",
    "    Resource='Wendy'\n",
    ")\n",
    "\n",
    "gantt_df = pd.DataFrame([process1, process2, process3])\n",
    "gantt_df"
   ],
   "outputs": [],
   "execution_count": null
  },
  {
   "cell_type": "code",
   "metadata": {},
   "source": [
    "# RGB Farben angeben\n",
    "color_set = {'Andy': 'rgb(0, 100, 255)',\n",
    "             'Wendy': 'rgb(255, 50, 20)'}\n",
    "\n",
    "fig = ff.create_gantt(gantt_df,\n",
    "                      colors=color_set,\n",
    "                      index_col='Resource')\n",
    "\n",
    "fig.update_yaxes(autorange='reversed')\n",
    "fig.show()"
   ],
   "outputs": [],
   "execution_count": null
  },
  {
   "cell_type": "markdown",
   "metadata": {
    "collapsed": false
   },
   "source": [
    "### 1.4.2 Tabellen\n",
    "\n",
    "`go.Table`\n",
    "\n",
    "* **In `plotly.graph_objects` verfügbar**\n",
    "* Zur Einbindung von Tabellen in Präsentationen / Dashboards / Reports\n"
   ]
  },
  {
   "cell_type": "code",
   "metadata": {
    "collapsed": false
   },
   "source": [
    "# Jetzt geht's in die graph-objects rüber\n",
    "# Info: https://plotly.com/python/graph-objects/"
   ],
   "outputs": [],
   "execution_count": null
  },
  {
   "cell_type": "code",
   "metadata": {
    "collapsed": false
   },
   "source": [
    "# Grafisch schönere und interaktive Tabelle\n",
    "header = dict(values=['Spalte A', 'Spalte B'])\n",
    "\n",
    "cells = dict(values=[[1, 2, 3, 4], [5, 6, 7, 8]])\n",
    "\n",
    "table = go.Table(header=header, cells=cells)\n",
    "\n",
    "fig = go.Figure(data=table)\n",
    "\n",
    "fig.show()"
   ],
   "outputs": [],
   "execution_count": null
  },
  {
   "metadata": {},
   "cell_type": "code",
   "source": [
    "# Wenn man das nicht mit der dict-Schreibweise schreiben würde:\n",
    "# header = {'values': ['Spalte A', 'Spalte B']}\n",
    "# cells = {'values': [[1, 2, 3, 4], [5, 6, 7, 8]]}"
   ],
   "outputs": [],
   "execution_count": null
  },
  {
   "cell_type": "code",
   "metadata": {
    "collapsed": false
   },
   "source": [
    "# Mehr hier: https://plotly.com/python/table/"
   ],
   "outputs": [],
   "execution_count": null
  },
  {
   "cell_type": "code",
   "metadata": {
    "collapsed": false
   },
   "source": [
    "# Visuelle Darstellung anpassen\n",
    "header = dict(values=['Spalte A', 'Spalte B'],\n",
    "              fill_color='red')\n",
    "\n",
    "cells = dict(values=[[1, 2, 3, 4], [5, 6, 7, 8]],\n",
    "             align='left')\n",
    "\n",
    "table = go.Table(header=header, cells=cells)\n",
    "\n",
    "fig = go.Figure(data=table)\n",
    "\n",
    "fig.show()"
   ],
   "outputs": [],
   "execution_count": null
  },
  {
   "cell_type": "code",
   "metadata": {
    "collapsed": false
   },
   "source": [
    "header = dict(values=iris.columns,\n",
    "              fill_color=\"paleturquoise\",\n",
    "              line_color='darkblue',\n",
    "              align='left')\n",
    "\n",
    "# values kann einfach eine Liste aller Spalten sein\n",
    "# nach Schreibweise iris['sepal_length'],... usw..\n",
    "# Oder wir nutzen List comprehension, um Platz zu\n",
    "# sparen, wie im Folgenden zu sehen:\n",
    "\n",
    "cells = dict(values=[iris[column] for column in iris.columns],\n",
    "             fill_color='lavender',\n",
    "             line_color='grey',\n",
    "             align='left')\n",
    "\n",
    "table = go.Table(header=header,\n",
    "                 cells=cells)\n",
    "\n",
    "fig = go.Figure(data=table)\n",
    "# fig.write_html('meine_tabelle.html')\n",
    "fig.show()"
   ],
   "outputs": [],
   "execution_count": null
  },
  {
   "metadata": {},
   "cell_type": "markdown",
   "source": [
    "### 1.4.3 3D-Scatterplots\n",
    "\n",
    "`px.scatter_3d`\n",
    "\n",
    "* **In `plotly.express` verfügbar**\n"
   ]
  },
  {
   "metadata": {},
   "cell_type": "code",
   "source": [
    "penguins = sns.load_dataset('penguins')\n",
    "penguins.head()"
   ],
   "outputs": [],
   "execution_count": null
  },
  {
   "metadata": {},
   "cell_type": "code",
   "source": [
    "# Interaktiver 3D-Plot\n",
    "fig = px.scatter_3d(\n",
    "    penguins,\n",
    "    x='bill_depth_mm',\n",
    "    y='bill_length_mm',\n",
    "    z='body_mass_g'\n",
    ")\n",
    "\n",
    "fig.write_html('penguin_cube.html')"
   ],
   "outputs": [],
   "execution_count": null
  },
  {
   "cell_type": "markdown",
   "metadata": {
    "collapsed": false
   },
   "source": "### 1.4.4 Dropdown-Menüs (Ausblick interaktive Updates)   "
  },
  {
   "cell_type": "code",
   "metadata": {
    "collapsed": false
   },
   "source": [
    "# Infos zu Buttons: https://plotly.com/python/custom-buttons/\n",
    "# Infos zu Shapes: https://plotly.com/python/reference/layout/shapes/"
   ],
   "outputs": [],
   "execution_count": null
  },
  {
   "metadata": {},
   "cell_type": "code",
   "source": [
    "# Datengrundlage erstellen\n",
    "\n",
    "# Streuwolke 1:\n",
    "x0 = np.random.normal(1, 0.5, 100)\n",
    "y0 = np.random.normal(1, 0.5, 100)\n",
    "\n",
    "# Streuwolke 2:\n",
    "x1 = np.random.normal(3, 0.5, 100)\n",
    "y1 = np.random.normal(3, 0.5, 100)\n",
    "\n",
    "# Streuwolke 3:\n",
    "x2 = np.random.normal(6, 0.5, 100)\n",
    "y2 = np.random.normal(6, 0.5, 100)"
   ],
   "outputs": [],
   "execution_count": null
  },
  {
   "cell_type": "code",
   "metadata": {
    "collapsed": false
   },
   "source": [
    "# Die drei einzelnen Scatterplots erstellen\n",
    "scatter0 = go.Scatter(\n",
    "    name='unteres Cluster',\n",
    "    x=x0,\n",
    "    y=y0,\n",
    "    mode='markers',\n",
    "    marker=dict(color='darkorange'),\n",
    "    hoverinfo='none'\n",
    ")\n",
    "\n",
    "scatter1 = go.Scatter(\n",
    "    name='mittleres Cluster',\n",
    "    x=x1,\n",
    "    y=y1,\n",
    "    mode='markers',\n",
    "    marker=dict(color='darkgreen'),\n",
    "    hoverinfo='name',\n",
    ")\n",
    "\n",
    "scatter2 = go.Scatter(\n",
    "    name='oberes Cluster',\n",
    "    x=x2,\n",
    "    y=y2,\n",
    "    mode='markers',\n",
    "    marker=dict(color='darkcyan'),\n",
    "    hoverinfo='x+y'\n",
    ")\n",
    "\n",
    "# Plotgrundlage erstellen\n",
    "fig = go.Figure()\n",
    "\n",
    "# Scatterplots zur Figur hinzufügen\n",
    "fig.add_trace(scatter0)\n",
    "fig.add_trace(scatter1)\n",
    "fig.add_trace(scatter2)\n",
    "\n",
    "# Umrandung der Punkte\n",
    "circle0 = dict(type='circle',\n",
    "               xref='x',\n",
    "               yref='y',\n",
    "               x0=min(x0),\n",
    "               x1=max(x0),\n",
    "               y0=min(y0),\n",
    "               y1=max(y0),\n",
    "               line=dict(color='darkorange'))\n",
    "\n",
    "circle1 = dict(type='circle',\n",
    "               xref='x',\n",
    "               yref='y',\n",
    "               x0=min(x1),\n",
    "               x1=max(x1),\n",
    "               y0=min(y1),\n",
    "               y1=max(y1),\n",
    "               line=dict(color='darkgreen'))\n",
    "\n",
    "circle2 = dict(type='circle',\n",
    "               xref='x',\n",
    "               yref='y',\n",
    "               x0=min(x2),\n",
    "               x1=max(x2),\n",
    "               y0=min(y2),\n",
    "               y1=max(y2),\n",
    "               line=dict(color='darkcyan'))\n",
    "\n",
    "fig.update_traces(hoverlabel_namelength=20)  # default: 15 Zeichen max\n",
    "\n",
    "fig.update_layout(updatemenus=[\n",
    "    dict(buttons=list([\n",
    "        dict(label='Nichts tun', method='relayout', args=['shapes', []]),\n",
    "        dict(label='unteres Cluster', method='relayout', args=['shapes', [circle0]]),\n",
    "        dict(label='mittleres Cluster', method='relayout', args=['shapes', [circle1]]),\n",
    "        dict(label='oberes Cluster', method='relayout', args=['shapes', [circle2]]),\n",
    "        dict(label='alle Cluster', method='relayout', args=['shapes', [circle0, circle1, circle2]]),\n",
    "    ]))\n",
    "])\n",
    "\n",
    "fig.show()"
   ],
   "outputs": [],
   "execution_count": null
  }
 ],
 "metadata": {
  "kernelspec": {
   "display_name": "Python 3",
   "language": "python",
   "name": "python3"
  },
  "language_info": {
   "codemirror_mode": {
    "name": "ipython",
    "version": 3
   },
   "file_extension": ".py",
   "mimetype": "text/x-python",
   "name": "python",
   "nbconvert_exporter": "python",
   "pygments_lexer": "ipython3",
   "version": "3.11.5"
  }
 },
 "nbformat": 4,
 "nbformat_minor": 0
}
