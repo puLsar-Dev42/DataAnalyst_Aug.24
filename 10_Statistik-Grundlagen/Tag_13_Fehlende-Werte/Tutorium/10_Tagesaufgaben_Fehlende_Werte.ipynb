{
 "cells": [
  {
   "cell_type": "markdown",
   "metadata": {},
   "source": "# Tagesaufgaben - Fehlende Werte in Datensätzen"
  },
  {
   "cell_type": "markdown",
   "metadata": {},
   "source": [
    "### Datensatz\n",
    "\n",
    "Dir liegt der Datensatz Fish vor, in welchem verschiedene Informationen zu Fischarten und deren Abmessungen zu Länge und Breite vorliegen. Innerhalb der Variable Weight_Y zeigen sich fehlende Werte für diesen Datensatz, die Variable Weight_C steht als Kontrollvariable zur Verfügung und enthält die fehlenden Werte!"
   ]
  },
  {
   "cell_type": "code",
   "metadata": {},
   "source": [
    "# Module und Datensatz\n",
    "import missingno as msno\n",
    "\n",
    "import pandas as pd\n",
    "import plotly.express as px\n",
    "import statsmodels.formula.api as smf"
   ],
   "outputs": [],
   "execution_count": null
  },
  {
   "cell_type": "code",
   "metadata": {},
   "source": "",
   "outputs": [],
   "execution_count": null
  },
  {
   "cell_type": "markdown",
   "metadata": {},
   "source": [
    "### Aufgabe 1: \n",
    "Überprüfe grafisch, wie die Struktur der fehlenden Daten ist (MCAR, MAR, NMAR) und wie sich diese im Datensatz verteilen. "
   ]
  },
  {
   "cell_type": "code",
   "metadata": {},
   "source": "",
   "outputs": [],
   "execution_count": null
  },
  {
   "cell_type": "markdown",
   "metadata": {},
   "source": [
    "Der Fehler scheint auf den ersten Blick systematisch, da der komplette letzte Abschnitt der Daten im Datensatz fehlt (die letzten X Indexeinträge sind leer). Somit ist MCAR ausgeschlossen - aber es kann zumindest MAR angenommen werden, da der Indexeintrag im Datensatz einen Einfluss auf die Variable und den fehlenden Wert darin hat. "
   ]
  },
  {
   "cell_type": "markdown",
   "metadata": {},
   "source": [
    "### Aufgabe 2: \n",
    "\n",
    "Nutze zur Schätzung der fehlenden Werte den Mittelwert und den Median der Variable und überprüfe, wie hoch die durchschnittliche Differenz bei beiden Verfahren ist."
   ]
  },
  {
   "cell_type": "code",
   "metadata": {},
   "source": "",
   "outputs": [],
   "execution_count": null
  },
  {
   "metadata": {},
   "cell_type": "code",
   "source": "",
   "outputs": [],
   "execution_count": null
  },
  {
   "metadata": {},
   "cell_type": "code",
   "source": "",
   "outputs": [],
   "execution_count": null
  },
  {
   "cell_type": "markdown",
   "metadata": {},
   "source": [
    "### Aufgabe 3: \n",
    "\n",
    "Führe eine Korrelationsanalyse aller Variablen durch. Ersetze die fehlenden Werte mit a) einer Regressionsfunktion welche nur eine unabhängige Variable enthält (die mit dem stärksten Korrelationskoeffizienten) und b) einer Regressionsfunktion, welche ALLE numerischen unabhängigen Variablen enthält. Erstelle zusätzlich die Differenzvariablen.\n",
    "\n",
    "Optional: Binde auch die kategoriale Variable zur Bestimmung der Spezies der Fische mit in die Regressionsfunktion bei b) ein."
   ]
  },
  {
   "cell_type": "code",
   "metadata": {},
   "source": "",
   "outputs": [],
   "execution_count": null
  },
  {
   "metadata": {},
   "cell_type": "code",
   "source": "",
   "outputs": [],
   "execution_count": null
  },
  {
   "cell_type": "code",
   "metadata": {},
   "source": "",
   "outputs": [],
   "execution_count": null
  },
  {
   "cell_type": "code",
   "metadata": {},
   "source": "",
   "outputs": [],
   "execution_count": null
  },
  {
   "cell_type": "markdown",
   "metadata": {},
   "source": [
    "### Aufgabe 4: \n",
    "\n",
    "Erstelle einen Boxplot, welcher alle 4 Differenzvariablen aus Aufgaben 2 und 3 enthält. Welche Methode zum Ersetzen der fehlenden Werte zeigt sich hier als die beste Methode? "
   ]
  },
  {
   "cell_type": "code",
   "metadata": {},
   "source": "",
   "outputs": [],
   "execution_count": null
  }
 ],
 "metadata": {
  "kernelspec": {
   "display_name": "Python 3",
   "language": "python",
   "name": "python3"
  },
  "language_info": {
   "codemirror_mode": {
    "name": "ipython",
    "version": 3
   },
   "file_extension": ".py",
   "mimetype": "text/x-python",
   "name": "python",
   "nbconvert_exporter": "python",
   "pygments_lexer": "ipython3",
   "version": "3.11.1"
  }
 },
 "nbformat": 4,
 "nbformat_minor": 2
}
