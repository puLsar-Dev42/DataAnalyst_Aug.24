{
 "cells": [
  {
   "cell_type": "markdown",
   "source": "# Animierte Graphen",
   "metadata": {
    "collapsed": false
   }
  },
  {
   "cell_type": "code",
   "source": [
    "import os\n",
    "import imageio\n",
    "import imageio.v3 as iio\n",
    "import matplotlib.pyplot as plt\n",
    "import numpy as np\n",
    "import seaborn as sns"
   ],
   "metadata": {
    "collapsed": false,
    "ExecuteTime": {
     "end_time": "2025-03-04T06:48:47.487495Z",
     "start_time": "2025-03-04T06:48:47.457092Z"
    }
   },
   "outputs": [],
   "execution_count": 1
  },
  {
   "cell_type": "markdown",
   "source": [
    "# Schritt 1: 2D-Scatter, komplett per Hand"
   ],
   "metadata": {
    "collapsed": false
   }
  },
  {
   "cell_type": "code",
   "source": [
    "# Was ist ein Film? Was ist eine Animation? Was haben sie gemeinsam?\n",
    "# Beides sind Ablauffolgen von Bildern, auch Frames genannt. Filme laufen kontinuierlich, Frames nicht.\n",
    "# Beides vermittelt einen Eindruck von Bewegung.\n",
    "# Animationen von Diagrammen wären dann entsprechend viele Diagramme die hintereinander ablaufen und eine Entwicklung anzeigen."
   ],
   "metadata": {
    "collapsed": false
   },
   "outputs": [],
   "execution_count": null
  },
  {
   "cell_type": "code",
   "source": [
    "if not os.path.exists('plots'):\n",
    "\tos.mkdir('plots')\n",
    "\tprint('Ordner wurde angelegt!')"
   ],
   "metadata": {
    "collapsed": false,
    "ExecuteTime": {
     "end_time": "2025-03-04T07:44:50.473824Z",
     "start_time": "2025-03-04T07:44:50.470279Z"
    }
   },
   "outputs": [],
   "execution_count": 20
  },
  {
   "cell_type": "code",
   "source": [
    "# Noch einfach via Per-Hand-Eingabe eines einfachen Scatterplots:\n",
    "fig, ax = plt.subplots(figsize=(5, 5))\n",
    "\n",
    "ax.scatter(0, 0)\n",
    "ax.set_xlim([0, 1])\n",
    "ax.set_ylim([0, 1])\n",
    "\n",
    "fig.savefig(r'plots/bild00.png', dpi=96)\n",
    "plt.close()"
   ],
   "metadata": {
    "collapsed": false,
    "ExecuteTime": {
     "end_time": "2025-03-04T07:53:23.216753Z",
     "start_time": "2025-03-04T07:53:23.152769Z"
    }
   },
   "outputs": [],
   "execution_count": 29
  },
  {
   "cell_type": "code",
   "source": [
    "# Skalierbare Vektorgraphik erstellen mit .svg\n",
    "fig, ax = plt.subplots(figsize=(5, 5))\n",
    "\n",
    "ax.scatter(0, 0)\n",
    "ax.set_xlim([0, 1])\n",
    "ax.set_ylim([0, 1])\n",
    "\n",
    "fig.savefig(r'plots/bild00.svg')\n",
    "plt.close()"
   ],
   "metadata": {
    "collapsed": false,
    "ExecuteTime": {
     "end_time": "2025-03-04T07:52:57.791222Z",
     "start_time": "2025-03-04T07:52:57.743861Z"
    }
   },
   "outputs": [],
   "execution_count": 27
  },
  {
   "cell_type": "code",
   "source": [
    "# Ab jetzt wiederholen für alle weiteren gewünschten Durchführungen\n",
    "fig, ax = plt.subplots(figsize=(5, 5))\n",
    "\n",
    "ax.scatter(0.2, 0.2)\n",
    "ax.set_xlim([0, 1])\n",
    "ax.set_ylim([0, 1])\n",
    "\n",
    "fig.savefig(r'plots/bild01.png', dpi=96)\n",
    "plt.close()"
   ],
   "metadata": {
    "collapsed": false,
    "ExecuteTime": {
     "end_time": "2025-03-04T07:54:40.573274Z",
     "start_time": "2025-03-04T07:54:40.515580Z"
    }
   },
   "outputs": [],
   "execution_count": 32
  },
  {
   "cell_type": "code",
   "source": "# ...",
   "metadata": {
    "collapsed": false
   },
   "outputs": [],
   "execution_count": null
  },
  {
   "cell_type": "code",
   "source": [
    "fig, ax = plt.subplots(figsize=(5, 5))\n",
    "\n",
    "ax.scatter(1, 1)\n",
    "ax.set_xlim([0, 1])\n",
    "ax.set_ylim([0, 1])\n",
    "\n",
    "fig.savefig(r'plots/bild05.png', dpi=96)\n",
    "plt.close()"
   ],
   "metadata": {
    "collapsed": false,
    "ExecuteTime": {
     "end_time": "2025-03-04T07:54:42.325473Z",
     "start_time": "2025-03-04T07:54:42.279994Z"
    }
   },
   "outputs": [],
   "execution_count": 33
  },
  {
   "cell_type": "markdown",
   "source": [
    "# Wiederholung\n",
    "## For-Schleifen"
   ],
   "metadata": {
    "collapsed": false
   }
  },
  {
   "cell_type": "code",
   "source": [
    "# Bei for-Schleifen werden iterierbare Strukturen durchlaufen und dabei\n",
    "# gewisse vom Programmierer festgelegte Schritte ausgeführt\n",
    "# Beispiel:\n",
    "for i in range(5):\n",
    "\tprint(i)"
   ],
   "metadata": {
    "collapsed": false,
    "ExecuteTime": {
     "end_time": "2025-03-04T07:56:48.409859Z",
     "start_time": "2025-03-04T07:56:48.405806Z"
    }
   },
   "outputs": [
    {
     "name": "stdout",
     "output_type": "stream",
     "text": [
      "0\n",
      "1\n",
      "2\n",
      "3\n",
      "4\n"
     ]
    }
   ],
   "execution_count": 34
  },
  {
   "cell_type": "code",
   "source": [
    "word = 'hallo'\n",
    "for char in word:\n",
    "\tprint(char)"
   ],
   "metadata": {
    "collapsed": false,
    "ExecuteTime": {
     "end_time": "2025-03-04T07:58:24.107713Z",
     "start_time": "2025-03-04T07:58:24.102556Z"
    }
   },
   "outputs": [
    {
     "name": "stdout",
     "output_type": "stream",
     "text": [
      "h\n",
      "a\n",
      "l\n",
      "l\n",
      "o\n"
     ]
    }
   ],
   "execution_count": 35
  },
  {
   "cell_type": "markdown",
   "source": [
    "# Miniübung 1\n",
    "## Schreibe eine For-Schleife, um alle Werte der folgenden Liste multipliziert mit 4 auszugeben"
   ],
   "metadata": {
    "collapsed": false
   }
  },
  {
   "cell_type": "code",
   "source": "liste = [3, 4, 12, 89, 56, 756, 34, 23435, 2345]",
   "metadata": {
    "collapsed": false
   },
   "outputs": [],
   "execution_count": null
  },
  {
   "metadata": {},
   "cell_type": "code",
   "source": "",
   "outputs": [],
   "execution_count": null
  },
  {
   "cell_type": "markdown",
   "source": [
    "# Miniübung 2\n",
    "## Schreibe eine verschachtelte For-Schleife, um jeden Wert der Liste1 mit jedem Wert der Liste2 zu addieren"
   ],
   "metadata": {
    "collapsed": false
   }
  },
  {
   "cell_type": "code",
   "source": [
    "liste1 = [23, 42, 1, 435, 3, 3]\n",
    "liste2 = [3, 345, 1]"
   ],
   "metadata": {
    "collapsed": false
   },
   "outputs": [],
   "execution_count": null
  },
  {
   "metadata": {},
   "cell_type": "code",
   "source": "",
   "outputs": [],
   "execution_count": null
  },
  {
   "cell_type": "markdown",
   "source": [
    "# Übung:\n",
    "#### Automatisiere nun die obige Grafikerstellung\n",
    "#### Lege dafür zunächst einen Unterordner moving_point an\n",
    "#### Erzeuge mittels for-Schleife die obigen fünf Diagramme des Punkts."
   ],
   "metadata": {
    "collapsed": false
   }
  },
  {
   "metadata": {
    "ExecuteTime": {
     "end_time": "2025-03-04T08:46:33.802485Z",
     "start_time": "2025-03-04T08:46:33.783391Z"
    }
   },
   "cell_type": "code",
   "source": [
    "if not os.path.exists('moving_point'):\n",
    "\tos.mkdir('moving_point')\n",
    "\tprint('Ordner angelegt!')"
   ],
   "outputs": [],
   "execution_count": 42
  },
  {
   "metadata": {},
   "cell_type": "code",
   "outputs": [],
   "execution_count": null,
   "source": [
    "# Version mit plt.close():\n",
    "\n",
    "for i in range(6):\n",
    "\tfig, ax = plt.subplots(figsize=(5, 5))\n",
    "\tax.scatter(x=i * 0.2, y=i * 0.2)\n",
    "\tax.set_xlim([0, 1])\n",
    "\tax.set_ylim([0, 1])\n",
    "\tplt.savefig(fname=fr\"moving_point/Bild0{i}.png\", dpi=96)\n",
    "\tplt.close()\n"
   ]
  },
  {
   "cell_type": "code",
   "source": [
    "# Mit ax.clear() (etwas effizienter):\n",
    "fig, ax = plt.subplots(figsize=(5, 5))\n",
    "\n",
    "for i in range(6):\n",
    "\tlin_coord = i * 0.2\n",
    "\tax.scatter(x=lin_coord, y=lin_coord)\n",
    "\tax.set_xlim([0, 1])\n",
    "\tax.set_ylim([0, 1])\n",
    "\tplt.savefig(fname=fr\"moving_point/Bild0{i}.png\", dpi=96)\n",
    "\tax.clear()\n",
    "\n",
    "plt.close()"
   ],
   "metadata": {
    "collapsed": false,
    "ExecuteTime": {
     "end_time": "2025-03-04T08:54:34.441942Z",
     "start_time": "2025-03-04T08:54:33.980582Z"
    }
   },
   "outputs": [],
   "execution_count": 43
  },
  {
   "cell_type": "code",
   "source": [
    "# Mit numpy linspace und enumerate:\n",
    "fig, ax = plt.subplots(figsize=(5, 5))\n",
    "\n",
    "for i, num in enumerate(np.linspace(0, 1, 6)):\n",
    "\tax.scatter(x=num, y=num)\n",
    "\tax.set_xlim([0, 1])\n",
    "\tax.set_ylim([0, 1])\n",
    "\tplt.savefig(fname=fr\"moving_point/Bild0{i}.png\", dpi=96)\n",
    "\tax.clear()\n",
    "\n",
    "plt.close()"
   ],
   "metadata": {
    "collapsed": false
   },
   "outputs": [],
   "execution_count": null
  },
  {
   "metadata": {},
   "cell_type": "markdown",
   "source": "### Von Einzelbildern zur Animation!"
  },
  {
   "metadata": {
    "ExecuteTime": {
     "end_time": "2025-03-04T08:59:29.571725Z",
     "start_time": "2025-03-04T08:59:29.565542Z"
    }
   },
   "cell_type": "code",
   "source": [
    "# Was listdir macht (list directory, \"liste die Inhalte folgenden Ordners auf\"):\n",
    "mp_files = os.listdir('moving_point')\n",
    "mp_files"
   ],
   "outputs": [
    {
     "data": {
      "text/plain": [
       "['Bild00.png',\n",
       " 'Bild01.png',\n",
       " 'Bild02.png',\n",
       " 'Bild03.png',\n",
       " 'Bild04.png',\n",
       " 'Bild05.png']"
      ]
     },
     "execution_count": 45,
     "metadata": {},
     "output_type": "execute_result"
    }
   ],
   "execution_count": 45
  },
  {
   "metadata": {
    "ExecuteTime": {
     "end_time": "2025-03-04T08:59:38.209130Z",
     "start_time": "2025-03-04T08:59:38.200756Z"
    }
   },
   "cell_type": "code",
   "source": "type(mp_files)",
   "outputs": [
    {
     "data": {
      "text/plain": [
       "list"
      ]
     },
     "execution_count": 46,
     "metadata": {},
     "output_type": "execute_result"
    }
   ],
   "execution_count": 46
  },
  {
   "metadata": {
    "ExecuteTime": {
     "end_time": "2025-03-04T09:00:18.857166Z",
     "start_time": "2025-03-04T09:00:18.851626Z"
    }
   },
   "cell_type": "code",
   "source": "type(mp_files[0])",
   "outputs": [
    {
     "data": {
      "text/plain": [
       "str"
      ]
     },
     "execution_count": 47,
     "metadata": {},
     "output_type": "execute_result"
    }
   ],
   "execution_count": 47
  },
  {
   "cell_type": "code",
   "source": [
    "# Jetzt wollen wir diese Dateien aus dem Ordner zu einem GIF verbinden!\n",
    "images = []\n",
    "base_path = 'moving_point'\n",
    "\n",
    "for file in os.listdir(base_path):\n",
    "\t# print(file)\n",
    "\tfilepath = os.path.join(base_path, file)\n",
    "\t# print(filepath)\n",
    "\timageio_file = iio.imread(filepath)\n",
    "\timages.append(imageio_file)\n",
    "\n",
    "imageio.mimsave(\n",
    "\tr'moving_point/moving_point.gif',\n",
    "\timages,\n",
    "\t# Zeit pro Bild:\n",
    "\tduration=1_000\n",
    ")\n",
    "\n",
    "# duration-Parameter ist in Millisekunden!\n",
    "# Zur Erinnerung:\n",
    "# Milli > Tausendstel Sekunden\n",
    "# Mikro > Millionstel Sekunden\n",
    "# Nano > Milliardstel Sekunden"
   ],
   "metadata": {
    "collapsed": false,
    "ExecuteTime": {
     "end_time": "2025-03-04T09:38:21.699781Z",
     "start_time": "2025-03-04T09:38:21.593489Z"
    }
   },
   "outputs": [],
   "execution_count": 60
  },
  {
   "cell_type": "markdown",
   "source": [
    "## Lasst uns das Meisterwerk öffnen und bewundern!\n"
   ],
   "metadata": {
    "collapsed": false
   }
  },
  {
   "metadata": {
    "ExecuteTime": {
     "end_time": "2025-03-04T09:46:23.471488Z",
     "start_time": "2025-03-04T09:46:23.467051Z"
    }
   },
   "cell_type": "code",
   "source": [
    "file_list = ['text.txt', 'portrait.png', 'installer.exe', 'foto.png']\n",
    "for file in file_list:\n",
    "\tif file.endswith('png'):\n",
    "\t\tprint(file)"
   ],
   "outputs": [
    {
     "name": "stdout",
     "output_type": "stream",
     "text": [
      "portrait.png\n",
      "foto.png\n"
     ]
    }
   ],
   "execution_count": 62
  },
  {
   "metadata": {
    "ExecuteTime": {
     "end_time": "2025-03-04T09:47:17.418634Z",
     "start_time": "2025-03-04T09:47:17.318567Z"
    }
   },
   "cell_type": "code",
   "source": [
    "images = []\n",
    "base_path = 'moving_point'\n",
    "\n",
    "for file in os.listdir(base_path):\n",
    "\tif file.endswith('png'):\n",
    "\t\tfilepath = os.path.join(base_path, file)\n",
    "\t\timageio_file = iio.imread(filepath)\n",
    "\t\timages.append(imageio_file)\n",
    "\n",
    "imageio.mimsave(\n",
    "\tr'moving_point/moving_point.gif',\n",
    "\timages,\n",
    "\tduration=500,\n",
    "\t# loop=0 macht Endlosschleife aus Animation:\n",
    "\tloop=0,\n",
    ")"
   ],
   "outputs": [],
   "execution_count": 66
  },
  {
   "cell_type": "markdown",
   "source": [
    "# Schritt 2: 3D-Scatterplot"
   ],
   "metadata": {
    "collapsed": false
   }
  },
  {
   "cell_type": "code",
   "source": [
    "penguins = sns.load_dataset(\"penguins\")"
   ],
   "metadata": {
    "collapsed": false,
    "ExecuteTime": {
     "end_time": "2025-03-04T09:48:01.431572Z",
     "start_time": "2025-03-04T09:48:01.361858Z"
    }
   },
   "outputs": [],
   "execution_count": 67
  },
  {
   "cell_type": "code",
   "source": [
    "# Normaler 3D-Scatterplot von Schnabellänge, -breite und Körpermasse:\n",
    "fig = plt.figure()\n",
    "ax = fig.add_subplot(projection='3d')\n",
    "\n",
    "ax.scatter(\n",
    "\t'bill_depth_mm',\n",
    "\t'bill_length_mm',\n",
    "\t'body_mass_g',\n",
    "\tdata=penguins\n",
    ")\n",
    "\n",
    "ax.set(\n",
    "\ttitle='Bill Length vs. Bill Depth vs. Body Mass',\n",
    "\txlabel='Bill Depth (mm)',\n",
    "\tylabel='Bill Length (mm)',\n",
    "\tzlabel='Body Mass (g)',\n",
    ")\n",
    "\n",
    "ax.view_init(20, 0, 0)"
   ],
   "metadata": {
    "collapsed": false,
    "ExecuteTime": {
     "end_time": "2025-03-04T09:53:22.364758Z",
     "start_time": "2025-03-04T09:53:22.164114Z"
    }
   },
   "outputs": [
    {
     "data": {
      "text/plain": [
       "<Figure size 640x480 with 1 Axes>"
      ],
      "image/png": "[encoded data removed]"
     },
     "metadata": {},
     "output_type": "display_data"
    }
   ],
   "execution_count": 75
  },
  {
   "cell_type": "code",
   "source": "# Die Idee: Diesen Plot erstellen wir uns jetzt ganz häufig und ändern dabei die Drehung im view_init. Dadurch rotiert dann der Würfel im gif!",
   "metadata": {
    "collapsed": false
   },
   "outputs": [],
   "execution_count": null
  },
  {
   "metadata": {
    "ExecuteTime": {
     "end_time": "2025-03-04T09:58:55.118533Z",
     "start_time": "2025-03-04T09:58:55.111026Z"
    }
   },
   "cell_type": "code",
   "source": [
    "# An alle Gradzahlen mit range kommen:\n",
    "list(range(0, 360))"
   ],
   "outputs": [
    {
     "data": {
      "text/plain": [
       "[0,\n",
       " 1,\n",
       " 2,\n",
       " 3,\n",
       " 4,\n",
       " 5,\n",
       " 6,\n",
       " 7,\n",
       " 8,\n",
       " 9,\n",
       " 10,\n",
       " 11,\n",
       " 12,\n",
       " 13,\n",
       " 14,\n",
       " 15,\n",
       " 16,\n",
       " 17,\n",
       " 18,\n",
       " 19,\n",
       " 20,\n",
       " 21,\n",
       " 22,\n",
       " 23,\n",
       " 24,\n",
       " 25,\n",
       " 26,\n",
       " 27,\n",
       " 28,\n",
       " 29,\n",
       " 30,\n",
       " 31,\n",
       " 32,\n",
       " 33,\n",
       " 34,\n",
       " 35,\n",
       " 36,\n",
       " 37,\n",
       " 38,\n",
       " 39,\n",
       " 40,\n",
       " 41,\n",
       " 42,\n",
       " 43,\n",
       " 44,\n",
       " 45,\n",
       " 46,\n",
       " 47,\n",
       " 48,\n",
       " 49,\n",
       " 50,\n",
       " 51,\n",
       " 52,\n",
       " 53,\n",
       " 54,\n",
       " 55,\n",
       " 56,\n",
       " 57,\n",
       " 58,\n",
       " 59,\n",
       " 60,\n",
       " 61,\n",
       " 62,\n",
       " 63,\n",
       " 64,\n",
       " 65,\n",
       " 66,\n",
       " 67,\n",
       " 68,\n",
       " 69,\n",
       " 70,\n",
       " 71,\n",
       " 72,\n",
       " 73,\n",
       " 74,\n",
       " 75,\n",
       " 76,\n",
       " 77,\n",
       " 78,\n",
       " 79,\n",
       " 80,\n",
       " 81,\n",
       " 82,\n",
       " 83,\n",
       " 84,\n",
       " 85,\n",
       " 86,\n",
       " 87,\n",
       " 88,\n",
       " 89,\n",
       " 90,\n",
       " 91,\n",
       " 92,\n",
       " 93,\n",
       " 94,\n",
       " 95,\n",
       " 96,\n",
       " 97,\n",
       " 98,\n",
       " 99,\n",
       " 100,\n",
       " 101,\n",
       " 102,\n",
       " 103,\n",
       " 104,\n",
       " 105,\n",
       " 106,\n",
       " 107,\n",
       " 108,\n",
       " 109,\n",
       " 110,\n",
       " 111,\n",
       " 112,\n",
       " 113,\n",
       " 114,\n",
       " 115,\n",
       " 116,\n",
       " 117,\n",
       " 118,\n",
       " 119,\n",
       " 120,\n",
       " 121,\n",
       " 122,\n",
       " 123,\n",
       " 124,\n",
       " 125,\n",
       " 126,\n",
       " 127,\n",
       " 128,\n",
       " 129,\n",
       " 130,\n",
       " 131,\n",
       " 132,\n",
       " 133,\n",
       " 134,\n",
       " 135,\n",
       " 136,\n",
       " 137,\n",
       " 138,\n",
       " 139,\n",
       " 140,\n",
       " 141,\n",
       " 142,\n",
       " 143,\n",
       " 144,\n",
       " 145,\n",
       " 146,\n",
       " 147,\n",
       " 148,\n",
       " 149,\n",
       " 150,\n",
       " 151,\n",
       " 152,\n",
       " 153,\n",
       " 154,\n",
       " 155,\n",
       " 156,\n",
       " 157,\n",
       " 158,\n",
       " 159,\n",
       " 160,\n",
       " 161,\n",
       " 162,\n",
       " 163,\n",
       " 164,\n",
       " 165,\n",
       " 166,\n",
       " 167,\n",
       " 168,\n",
       " 169,\n",
       " 170,\n",
       " 171,\n",
       " 172,\n",
       " 173,\n",
       " 174,\n",
       " 175,\n",
       " 176,\n",
       " 177,\n",
       " 178,\n",
       " 179,\n",
       " 180,\n",
       " 181,\n",
       " 182,\n",
       " 183,\n",
       " 184,\n",
       " 185,\n",
       " 186,\n",
       " 187,\n",
       " 188,\n",
       " 189,\n",
       " 190,\n",
       " 191,\n",
       " 192,\n",
       " 193,\n",
       " 194,\n",
       " 195,\n",
       " 196,\n",
       " 197,\n",
       " 198,\n",
       " 199,\n",
       " 200,\n",
       " 201,\n",
       " 202,\n",
       " 203,\n",
       " 204,\n",
       " 205,\n",
       " 206,\n",
       " 207,\n",
       " 208,\n",
       " 209,\n",
       " 210,\n",
       " 211,\n",
       " 212,\n",
       " 213,\n",
       " 214,\n",
       " 215,\n",
       " 216,\n",
       " 217,\n",
       " 218,\n",
       " 219,\n",
       " 220,\n",
       " 221,\n",
       " 222,\n",
       " 223,\n",
       " 224,\n",
       " 225,\n",
       " 226,\n",
       " 227,\n",
       " 228,\n",
       " 229,\n",
       " 230,\n",
       " 231,\n",
       " 232,\n",
       " 233,\n",
       " 234,\n",
       " 235,\n",
       " 236,\n",
       " 237,\n",
       " 238,\n",
       " 239,\n",
       " 240,\n",
       " 241,\n",
       " 242,\n",
       " 243,\n",
       " 244,\n",
       " 245,\n",
       " 246,\n",
       " 247,\n",
       " 248,\n",
       " 249,\n",
       " 250,\n",
       " 251,\n",
       " 252,\n",
       " 253,\n",
       " 254,\n",
       " 255,\n",
       " 256,\n",
       " 257,\n",
       " 258,\n",
       " 259,\n",
       " 260,\n",
       " 261,\n",
       " 262,\n",
       " 263,\n",
       " 264,\n",
       " 265,\n",
       " 266,\n",
       " 267,\n",
       " 268,\n",
       " 269,\n",
       " 270,\n",
       " 271,\n",
       " 272,\n",
       " 273,\n",
       " 274,\n",
       " 275,\n",
       " 276,\n",
       " 277,\n",
       " 278,\n",
       " 279,\n",
       " 280,\n",
       " 281,\n",
       " 282,\n",
       " 283,\n",
       " 284,\n",
       " 285,\n",
       " 286,\n",
       " 287,\n",
       " 288,\n",
       " 289,\n",
       " 290,\n",
       " 291,\n",
       " 292,\n",
       " 293,\n",
       " 294,\n",
       " 295,\n",
       " 296,\n",
       " 297,\n",
       " 298,\n",
       " 299,\n",
       " 300,\n",
       " 301,\n",
       " 302,\n",
       " 303,\n",
       " 304,\n",
       " 305,\n",
       " 306,\n",
       " 307,\n",
       " 308,\n",
       " 309,\n",
       " 310,\n",
       " 311,\n",
       " 312,\n",
       " 313,\n",
       " 314,\n",
       " 315,\n",
       " 316,\n",
       " 317,\n",
       " 318,\n",
       " 319,\n",
       " 320,\n",
       " 321,\n",
       " 322,\n",
       " 323,\n",
       " 324,\n",
       " 325,\n",
       " 326,\n",
       " 327,\n",
       " 328,\n",
       " 329,\n",
       " 330,\n",
       " 331,\n",
       " 332,\n",
       " 333,\n",
       " 334,\n",
       " 335,\n",
       " 336,\n",
       " 337,\n",
       " 338,\n",
       " 339,\n",
       " 340,\n",
       " 341,\n",
       " 342,\n",
       " 343,\n",
       " 344,\n",
       " 345,\n",
       " 346,\n",
       " 347,\n",
       " 348,\n",
       " 349,\n",
       " 350,\n",
       " 351,\n",
       " 352,\n",
       " 353,\n",
       " 354,\n",
       " 355,\n",
       " 356,\n",
       " 357,\n",
       " 358,\n",
       " 359]"
      ]
     },
     "execution_count": 77,
     "metadata": {},
     "output_type": "execute_result"
    }
   ],
   "execution_count": 77
  },
  {
   "metadata": {
    "ExecuteTime": {
     "end_time": "2025-03-04T09:59:53.339138Z",
     "start_time": "2025-03-04T09:59:53.330295Z"
    }
   },
   "cell_type": "code",
   "source": [
    "# Dasselbe mit Numpys Linspace:\n",
    "np.linspace(0, 359, 360)"
   ],
   "outputs": [
    {
     "data": {
      "text/plain": [
       "array([  0.,   1.,   2.,   3.,   4.,   5.,   6.,   7.,   8.,   9.,  10.,\n",
       "        11.,  12.,  13.,  14.,  15.,  16.,  17.,  18.,  19.,  20.,  21.,\n",
       "        22.,  23.,  24.,  25.,  26.,  27.,  28.,  29.,  30.,  31.,  32.,\n",
       "        33.,  34.,  35.,  36.,  37.,  38.,  39.,  40.,  41.,  42.,  43.,\n",
       "        44.,  45.,  46.,  47.,  48.,  49.,  50.,  51.,  52.,  53.,  54.,\n",
       "        55.,  56.,  57.,  58.,  59.,  60.,  61.,  62.,  63.,  64.,  65.,\n",
       "        66.,  67.,  68.,  69.,  70.,  71.,  72.,  73.,  74.,  75.,  76.,\n",
       "        77.,  78.,  79.,  80.,  81.,  82.,  83.,  84.,  85.,  86.,  87.,\n",
       "        88.,  89.,  90.,  91.,  92.,  93.,  94.,  95.,  96.,  97.,  98.,\n",
       "        99., 100., 101., 102., 103., 104., 105., 106., 107., 108., 109.,\n",
       "       110., 111., 112., 113., 114., 115., 116., 117., 118., 119., 120.,\n",
       "       121., 122., 123., 124., 125., 126., 127., 128., 129., 130., 131.,\n",
       "       132., 133., 134., 135., 136., 137., 138., 139., 140., 141., 142.,\n",
       "       143., 144., 145., 146., 147., 148., 149., 150., 151., 152., 153.,\n",
       "       154., 155., 156., 157., 158., 159., 160., 161., 162., 163., 164.,\n",
       "       165., 166., 167., 168., 169., 170., 171., 172., 173., 174., 175.,\n",
       "       176., 177., 178., 179., 180., 181., 182., 183., 184., 185., 186.,\n",
       "       187., 188., 189., 190., 191., 192., 193., 194., 195., 196., 197.,\n",
       "       198., 199., 200., 201., 202., 203., 204., 205., 206., 207., 208.,\n",
       "       209., 210., 211., 212., 213., 214., 215., 216., 217., 218., 219.,\n",
       "       220., 221., 222., 223., 224., 225., 226., 227., 228., 229., 230.,\n",
       "       231., 232., 233., 234., 235., 236., 237., 238., 239., 240., 241.,\n",
       "       242., 243., 244., 245., 246., 247., 248., 249., 250., 251., 252.,\n",
       "       253., 254., 255., 256., 257., 258., 259., 260., 261., 262., 263.,\n",
       "       264., 265., 266., 267., 268., 269., 270., 271., 272., 273., 274.,\n",
       "       275., 276., 277., 278., 279., 280., 281., 282., 283., 284., 285.,\n",
       "       286., 287., 288., 289., 290., 291., 292., 293., 294., 295., 296.,\n",
       "       297., 298., 299., 300., 301., 302., 303., 304., 305., 306., 307.,\n",
       "       308., 309., 310., 311., 312., 313., 314., 315., 316., 317., 318.,\n",
       "       319., 320., 321., 322., 323., 324., 325., 326., 327., 328., 329.,\n",
       "       330., 331., 332., 333., 334., 335., 336., 337., 338., 339., 340.,\n",
       "       341., 342., 343., 344., 345., 346., 347., 348., 349., 350., 351.,\n",
       "       352., 353., 354., 355., 356., 357., 358., 359.])"
      ]
     },
     "execution_count": 78,
     "metadata": {},
     "output_type": "execute_result"
    }
   ],
   "execution_count": 78
  },
  {
   "cell_type": "code",
   "source": "circle_degrees = np.linspace(0, 359, 360)",
   "metadata": {
    "collapsed": false,
    "ExecuteTime": {
     "end_time": "2025-03-04T10:01:54.081097Z",
     "start_time": "2025-03-04T10:01:54.076083Z"
    }
   },
   "outputs": [],
   "execution_count": 79
  },
  {
   "metadata": {
    "ExecuteTime": {
     "end_time": "2025-03-04T10:02:47.215194Z",
     "start_time": "2025-03-04T10:02:47.211381Z"
    }
   },
   "cell_type": "code",
   "source": [
    "# Ordner erstellen:\n",
    "if not os.path.exists('rotating_penguins'):\n",
    "\tos.mkdir('rotating_penguins')\n",
    "\tprint('Ordner wurde angelegt!')"
   ],
   "outputs": [],
   "execution_count": 81
  },
  {
   "cell_type": "code",
   "source": [
    "# Und das machen wir doch ganz einfach mit einer Schleife!\n",
    "# Anlauf 1:\n",
    "fig = plt.figure()\n",
    "ax = fig.add_subplot(projection='3d')\n",
    "\n",
    "for degree in circle_degrees:\n",
    "\tax.scatter(\n",
    "\t\t'bill_depth_mm',\n",
    "\t\t'bill_length_mm',\n",
    "\t\t'body_mass_g',\n",
    "\t\tdata=penguins\n",
    "\t)\n",
    "\n",
    "\tax.set(\n",
    "\t\ttitle='Bill Length vs. Bill Depth vs. Body Mass',\n",
    "\t\txlabel='Bill Depth (mm)',\n",
    "\t\tylabel='Bill Length (mm)',\n",
    "\t\tzlabel='Body Mass (g)',\n",
    "\t)\n",
    "\n",
    "\tax.view_init(20, degree, 0)\n",
    "\tfig.savefig(fr'rotating_penguins/Bild{int(degree)}.png')\n",
    "\tprint(f'Pinguinwürfel bei {int(degree)} Grad Rotation hergestellt.')\n",
    "\tax.clear()\n",
    "\n",
    "plt.close()"
   ],
   "metadata": {
    "collapsed": false,
    "ExecuteTime": {
     "end_time": "2025-03-04T10:13:53.075345Z",
     "start_time": "2025-03-04T10:13:12.445905Z"
    }
   },
   "outputs": [
    {
     "name": "stdout",
     "output_type": "stream",
     "text": [
      "Pinguinwürfel bei 0 Grad Rotation hergestellt.\n",
      "Pinguinwürfel bei 1 Grad Rotation hergestellt.\n",
      "Pinguinwürfel bei 2 Grad Rotation hergestellt.\n",
      "Pinguinwürfel bei 3 Grad Rotation hergestellt.\n",
      "Pinguinwürfel bei 4 Grad Rotation hergestellt.\n",
      "Pinguinwürfel bei 5 Grad Rotation hergestellt.\n",
      "Pinguinwürfel bei 6 Grad Rotation hergestellt.\n",
      "Pinguinwürfel bei 7 Grad Rotation hergestellt.\n",
      "Pinguinwürfel bei 8 Grad Rotation hergestellt.\n",
      "Pinguinwürfel bei 9 Grad Rotation hergestellt.\n",
      "Pinguinwürfel bei 10 Grad Rotation hergestellt.\n",
      "Pinguinwürfel bei 11 Grad Rotation hergestellt.\n",
      "Pinguinwürfel bei 12 Grad Rotation hergestellt.\n",
      "Pinguinwürfel bei 13 Grad Rotation hergestellt.\n",
      "Pinguinwürfel bei 14 Grad Rotation hergestellt.\n",
      "Pinguinwürfel bei 15 Grad Rotation hergestellt.\n",
      "Pinguinwürfel bei 16 Grad Rotation hergestellt.\n",
      "Pinguinwürfel bei 17 Grad Rotation hergestellt.\n",
      "Pinguinwürfel bei 18 Grad Rotation hergestellt.\n",
      "Pinguinwürfel bei 19 Grad Rotation hergestellt.\n",
      "Pinguinwürfel bei 20 Grad Rotation hergestellt.\n",
      "Pinguinwürfel bei 21 Grad Rotation hergestellt.\n",
      "Pinguinwürfel bei 22 Grad Rotation hergestellt.\n",
      "Pinguinwürfel bei 23 Grad Rotation hergestellt.\n",
      "Pinguinwürfel bei 24 Grad Rotation hergestellt.\n",
      "Pinguinwürfel bei 25 Grad Rotation hergestellt.\n",
      "Pinguinwürfel bei 26 Grad Rotation hergestellt.\n",
      "Pinguinwürfel bei 27 Grad Rotation hergestellt.\n",
      "Pinguinwürfel bei 28 Grad Rotation hergestellt.\n",
      "Pinguinwürfel bei 29 Grad Rotation hergestellt.\n",
      "Pinguinwürfel bei 30 Grad Rotation hergestellt.\n",
      "Pinguinwürfel bei 31 Grad Rotation hergestellt.\n",
      "Pinguinwürfel bei 32 Grad Rotation hergestellt.\n",
      "Pinguinwürfel bei 33 Grad Rotation hergestellt.\n",
      "Pinguinwürfel bei 34 Grad Rotation hergestellt.\n",
      "Pinguinwürfel bei 35 Grad Rotation hergestellt.\n",
      "Pinguinwürfel bei 36 Grad Rotation hergestellt.\n",
      "Pinguinwürfel bei 37 Grad Rotation hergestellt.\n",
      "Pinguinwürfel bei 38 Grad Rotation hergestellt.\n",
      "Pinguinwürfel bei 39 Grad Rotation hergestellt.\n",
      "Pinguinwürfel bei 40 Grad Rotation hergestellt.\n",
      "Pinguinwürfel bei 41 Grad Rotation hergestellt.\n",
      "Pinguinwürfel bei 42 Grad Rotation hergestellt.\n",
      "Pinguinwürfel bei 43 Grad Rotation hergestellt.\n",
      "Pinguinwürfel bei 44 Grad Rotation hergestellt.\n",
      "Pinguinwürfel bei 45 Grad Rotation hergestellt.\n",
      "Pinguinwürfel bei 46 Grad Rotation hergestellt.\n",
      "Pinguinwürfel bei 47 Grad Rotation hergestellt.\n",
      "Pinguinwürfel bei 48 Grad Rotation hergestellt.\n",
      "Pinguinwürfel bei 49 Grad Rotation hergestellt.\n",
      "Pinguinwürfel bei 50 Grad Rotation hergestellt.\n",
      "Pinguinwürfel bei 51 Grad Rotation hergestellt.\n",
      "Pinguinwürfel bei 52 Grad Rotation hergestellt.\n",
      "Pinguinwürfel bei 53 Grad Rotation hergestellt.\n",
      "Pinguinwürfel bei 54 Grad Rotation hergestellt.\n",
      "Pinguinwürfel bei 55 Grad Rotation hergestellt.\n",
      "Pinguinwürfel bei 56 Grad Rotation hergestellt.\n",
      "Pinguinwürfel bei 57 Grad Rotation hergestellt.\n",
      "Pinguinwürfel bei 58 Grad Rotation hergestellt.\n",
      "Pinguinwürfel bei 59 Grad Rotation hergestellt.\n",
      "Pinguinwürfel bei 60 Grad Rotation hergestellt.\n",
      "Pinguinwürfel bei 61 Grad Rotation hergestellt.\n",
      "Pinguinwürfel bei 62 Grad Rotation hergestellt.\n",
      "Pinguinwürfel bei 63 Grad Rotation hergestellt.\n",
      "Pinguinwürfel bei 64 Grad Rotation hergestellt.\n",
      "Pinguinwürfel bei 65 Grad Rotation hergestellt.\n",
      "Pinguinwürfel bei 66 Grad Rotation hergestellt.\n",
      "Pinguinwürfel bei 67 Grad Rotation hergestellt.\n",
      "Pinguinwürfel bei 68 Grad Rotation hergestellt.\n",
      "Pinguinwürfel bei 69 Grad Rotation hergestellt.\n",
      "Pinguinwürfel bei 70 Grad Rotation hergestellt.\n",
      "Pinguinwürfel bei 71 Grad Rotation hergestellt.\n",
      "Pinguinwürfel bei 72 Grad Rotation hergestellt.\n",
      "Pinguinwürfel bei 73 Grad Rotation hergestellt.\n",
      "Pinguinwürfel bei 74 Grad Rotation hergestellt.\n",
      "Pinguinwürfel bei 75 Grad Rotation hergestellt.\n",
      "Pinguinwürfel bei 76 Grad Rotation hergestellt.\n",
      "Pinguinwürfel bei 77 Grad Rotation hergestellt.\n",
      "Pinguinwürfel bei 78 Grad Rotation hergestellt.\n",
      "Pinguinwürfel bei 79 Grad Rotation hergestellt.\n",
      "Pinguinwürfel bei 80 Grad Rotation hergestellt.\n",
      "Pinguinwürfel bei 81 Grad Rotation hergestellt.\n",
      "Pinguinwürfel bei 82 Grad Rotation hergestellt.\n",
      "Pinguinwürfel bei 83 Grad Rotation hergestellt.\n",
      "Pinguinwürfel bei 84 Grad Rotation hergestellt.\n",
      "Pinguinwürfel bei 85 Grad Rotation hergestellt.\n",
      "Pinguinwürfel bei 86 Grad Rotation hergestellt.\n",
      "Pinguinwürfel bei 87 Grad Rotation hergestellt.\n",
      "Pinguinwürfel bei 88 Grad Rotation hergestellt.\n",
      "Pinguinwürfel bei 89 Grad Rotation hergestellt.\n",
      "Pinguinwürfel bei 90 Grad Rotation hergestellt.\n",
      "Pinguinwürfel bei 91 Grad Rotation hergestellt.\n",
      "Pinguinwürfel bei 92 Grad Rotation hergestellt.\n",
      "Pinguinwürfel bei 93 Grad Rotation hergestellt.\n",
      "Pinguinwürfel bei 94 Grad Rotation hergestellt.\n",
      "Pinguinwürfel bei 95 Grad Rotation hergestellt.\n",
      "Pinguinwürfel bei 96 Grad Rotation hergestellt.\n",
      "Pinguinwürfel bei 97 Grad Rotation hergestellt.\n",
      "Pinguinwürfel bei 98 Grad Rotation hergestellt.\n",
      "Pinguinwürfel bei 99 Grad Rotation hergestellt.\n",
      "Pinguinwürfel bei 100 Grad Rotation hergestellt.\n",
      "Pinguinwürfel bei 101 Grad Rotation hergestellt.\n",
      "Pinguinwürfel bei 102 Grad Rotation hergestellt.\n",
      "Pinguinwürfel bei 103 Grad Rotation hergestellt.\n",
      "Pinguinwürfel bei 104 Grad Rotation hergestellt.\n",
      "Pinguinwürfel bei 105 Grad Rotation hergestellt.\n",
      "Pinguinwürfel bei 106 Grad Rotation hergestellt.\n",
      "Pinguinwürfel bei 107 Grad Rotation hergestellt.\n",
      "Pinguinwürfel bei 108 Grad Rotation hergestellt.\n",
      "Pinguinwürfel bei 109 Grad Rotation hergestellt.\n",
      "Pinguinwürfel bei 110 Grad Rotation hergestellt.\n",
      "Pinguinwürfel bei 111 Grad Rotation hergestellt.\n",
      "Pinguinwürfel bei 112 Grad Rotation hergestellt.\n",
      "Pinguinwürfel bei 113 Grad Rotation hergestellt.\n",
      "Pinguinwürfel bei 114 Grad Rotation hergestellt.\n",
      "Pinguinwürfel bei 115 Grad Rotation hergestellt.\n",
      "Pinguinwürfel bei 116 Grad Rotation hergestellt.\n",
      "Pinguinwürfel bei 117 Grad Rotation hergestellt.\n",
      "Pinguinwürfel bei 118 Grad Rotation hergestellt.\n",
      "Pinguinwürfel bei 119 Grad Rotation hergestellt.\n",
      "Pinguinwürfel bei 120 Grad Rotation hergestellt.\n",
      "Pinguinwürfel bei 121 Grad Rotation hergestellt.\n",
      "Pinguinwürfel bei 122 Grad Rotation hergestellt.\n",
      "Pinguinwürfel bei 123 Grad Rotation hergestellt.\n",
      "Pinguinwürfel bei 124 Grad Rotation hergestellt.\n",
      "Pinguinwürfel bei 125 Grad Rotation hergestellt.\n",
      "Pinguinwürfel bei 126 Grad Rotation hergestellt.\n",
      "Pinguinwürfel bei 127 Grad Rotation hergestellt.\n",
      "Pinguinwürfel bei 128 Grad Rotation hergestellt.\n",
      "Pinguinwürfel bei 129 Grad Rotation hergestellt.\n",
      "Pinguinwürfel bei 130 Grad Rotation hergestellt.\n",
      "Pinguinwürfel bei 131 Grad Rotation hergestellt.\n",
      "Pinguinwürfel bei 132 Grad Rotation hergestellt.\n",
      "Pinguinwürfel bei 133 Grad Rotation hergestellt.\n",
      "Pinguinwürfel bei 134 Grad Rotation hergestellt.\n",
      "Pinguinwürfel bei 135 Grad Rotation hergestellt.\n",
      "Pinguinwürfel bei 136 Grad Rotation hergestellt.\n",
      "Pinguinwürfel bei 137 Grad Rotation hergestellt.\n",
      "Pinguinwürfel bei 138 Grad Rotation hergestellt.\n",
      "Pinguinwürfel bei 139 Grad Rotation hergestellt.\n",
      "Pinguinwürfel bei 140 Grad Rotation hergestellt.\n",
      "Pinguinwürfel bei 141 Grad Rotation hergestellt.\n",
      "Pinguinwürfel bei 142 Grad Rotation hergestellt.\n",
      "Pinguinwürfel bei 143 Grad Rotation hergestellt.\n",
      "Pinguinwürfel bei 144 Grad Rotation hergestellt.\n",
      "Pinguinwürfel bei 145 Grad Rotation hergestellt.\n",
      "Pinguinwürfel bei 146 Grad Rotation hergestellt.\n",
      "Pinguinwürfel bei 147 Grad Rotation hergestellt.\n",
      "Pinguinwürfel bei 148 Grad Rotation hergestellt.\n",
      "Pinguinwürfel bei 149 Grad Rotation hergestellt.\n",
      "Pinguinwürfel bei 150 Grad Rotation hergestellt.\n",
      "Pinguinwürfel bei 151 Grad Rotation hergestellt.\n",
      "Pinguinwürfel bei 152 Grad Rotation hergestellt.\n",
      "Pinguinwürfel bei 153 Grad Rotation hergestellt.\n",
      "Pinguinwürfel bei 154 Grad Rotation hergestellt.\n",
      "Pinguinwürfel bei 155 Grad Rotation hergestellt.\n",
      "Pinguinwürfel bei 156 Grad Rotation hergestellt.\n",
      "Pinguinwürfel bei 157 Grad Rotation hergestellt.\n",
      "Pinguinwürfel bei 158 Grad Rotation hergestellt.\n",
      "Pinguinwürfel bei 159 Grad Rotation hergestellt.\n",
      "Pinguinwürfel bei 160 Grad Rotation hergestellt.\n",
      "Pinguinwürfel bei 161 Grad Rotation hergestellt.\n",
      "Pinguinwürfel bei 162 Grad Rotation hergestellt.\n",
      "Pinguinwürfel bei 163 Grad Rotation hergestellt.\n",
      "Pinguinwürfel bei 164 Grad Rotation hergestellt.\n",
      "Pinguinwürfel bei 165 Grad Rotation hergestellt.\n",
      "Pinguinwürfel bei 166 Grad Rotation hergestellt.\n",
      "Pinguinwürfel bei 167 Grad Rotation hergestellt.\n",
      "Pinguinwürfel bei 168 Grad Rotation hergestellt.\n",
      "Pinguinwürfel bei 169 Grad Rotation hergestellt.\n",
      "Pinguinwürfel bei 170 Grad Rotation hergestellt.\n",
      "Pinguinwürfel bei 171 Grad Rotation hergestellt.\n",
      "Pinguinwürfel bei 172 Grad Rotation hergestellt.\n",
      "Pinguinwürfel bei 173 Grad Rotation hergestellt.\n",
      "Pinguinwürfel bei 174 Grad Rotation hergestellt.\n",
      "Pinguinwürfel bei 175 Grad Rotation hergestellt.\n",
      "Pinguinwürfel bei 176 Grad Rotation hergestellt.\n",
      "Pinguinwürfel bei 177 Grad Rotation hergestellt.\n",
      "Pinguinwürfel bei 178 Grad Rotation hergestellt.\n",
      "Pinguinwürfel bei 179 Grad Rotation hergestellt.\n",
      "Pinguinwürfel bei 180 Grad Rotation hergestellt.\n",
      "Pinguinwürfel bei 181 Grad Rotation hergestellt.\n",
      "Pinguinwürfel bei 182 Grad Rotation hergestellt.\n",
      "Pinguinwürfel bei 183 Grad Rotation hergestellt.\n",
      "Pinguinwürfel bei 184 Grad Rotation hergestellt.\n",
      "Pinguinwürfel bei 185 Grad Rotation hergestellt.\n",
      "Pinguinwürfel bei 186 Grad Rotation hergestellt.\n",
      "Pinguinwürfel bei 187 Grad Rotation hergestellt.\n",
      "Pinguinwürfel bei 188 Grad Rotation hergestellt.\n",
      "Pinguinwürfel bei 189 Grad Rotation hergestellt.\n",
      "Pinguinwürfel bei 190 Grad Rotation hergestellt.\n",
      "Pinguinwürfel bei 191 Grad Rotation hergestellt.\n",
      "Pinguinwürfel bei 192 Grad Rotation hergestellt.\n",
      "Pinguinwürfel bei 193 Grad Rotation hergestellt.\n",
      "Pinguinwürfel bei 194 Grad Rotation hergestellt.\n",
      "Pinguinwürfel bei 195 Grad Rotation hergestellt.\n",
      "Pinguinwürfel bei 196 Grad Rotation hergestellt.\n",
      "Pinguinwürfel bei 197 Grad Rotation hergestellt.\n",
      "Pinguinwürfel bei 198 Grad Rotation hergestellt.\n",
      "Pinguinwürfel bei 199 Grad Rotation hergestellt.\n",
      "Pinguinwürfel bei 200 Grad Rotation hergestellt.\n",
      "Pinguinwürfel bei 201 Grad Rotation hergestellt.\n",
      "Pinguinwürfel bei 202 Grad Rotation hergestellt.\n",
      "Pinguinwürfel bei 203 Grad Rotation hergestellt.\n",
      "Pinguinwürfel bei 204 Grad Rotation hergestellt.\n",
      "Pinguinwürfel bei 205 Grad Rotation hergestellt.\n",
      "Pinguinwürfel bei 206 Grad Rotation hergestellt.\n",
      "Pinguinwürfel bei 207 Grad Rotation hergestellt.\n",
      "Pinguinwürfel bei 208 Grad Rotation hergestellt.\n",
      "Pinguinwürfel bei 209 Grad Rotation hergestellt.\n",
      "Pinguinwürfel bei 210 Grad Rotation hergestellt.\n",
      "Pinguinwürfel bei 211 Grad Rotation hergestellt.\n",
      "Pinguinwürfel bei 212 Grad Rotation hergestellt.\n",
      "Pinguinwürfel bei 213 Grad Rotation hergestellt.\n",
      "Pinguinwürfel bei 214 Grad Rotation hergestellt.\n",
      "Pinguinwürfel bei 215 Grad Rotation hergestellt.\n",
      "Pinguinwürfel bei 216 Grad Rotation hergestellt.\n",
      "Pinguinwürfel bei 217 Grad Rotation hergestellt.\n",
      "Pinguinwürfel bei 218 Grad Rotation hergestellt.\n",
      "Pinguinwürfel bei 219 Grad Rotation hergestellt.\n",
      "Pinguinwürfel bei 220 Grad Rotation hergestellt.\n",
      "Pinguinwürfel bei 221 Grad Rotation hergestellt.\n",
      "Pinguinwürfel bei 222 Grad Rotation hergestellt.\n",
      "Pinguinwürfel bei 223 Grad Rotation hergestellt.\n",
      "Pinguinwürfel bei 224 Grad Rotation hergestellt.\n",
      "Pinguinwürfel bei 225 Grad Rotation hergestellt.\n",
      "Pinguinwürfel bei 226 Grad Rotation hergestellt.\n",
      "Pinguinwürfel bei 227 Grad Rotation hergestellt.\n",
      "Pinguinwürfel bei 228 Grad Rotation hergestellt.\n",
      "Pinguinwürfel bei 229 Grad Rotation hergestellt.\n",
      "Pinguinwürfel bei 230 Grad Rotation hergestellt.\n",
      "Pinguinwürfel bei 231 Grad Rotation hergestellt.\n",
      "Pinguinwürfel bei 232 Grad Rotation hergestellt.\n",
      "Pinguinwürfel bei 233 Grad Rotation hergestellt.\n",
      "Pinguinwürfel bei 234 Grad Rotation hergestellt.\n",
      "Pinguinwürfel bei 235 Grad Rotation hergestellt.\n",
      "Pinguinwürfel bei 236 Grad Rotation hergestellt.\n",
      "Pinguinwürfel bei 237 Grad Rotation hergestellt.\n",
      "Pinguinwürfel bei 238 Grad Rotation hergestellt.\n",
      "Pinguinwürfel bei 239 Grad Rotation hergestellt.\n",
      "Pinguinwürfel bei 240 Grad Rotation hergestellt.\n",
      "Pinguinwürfel bei 241 Grad Rotation hergestellt.\n",
      "Pinguinwürfel bei 242 Grad Rotation hergestellt.\n",
      "Pinguinwürfel bei 243 Grad Rotation hergestellt.\n",
      "Pinguinwürfel bei 244 Grad Rotation hergestellt.\n",
      "Pinguinwürfel bei 245 Grad Rotation hergestellt.\n",
      "Pinguinwürfel bei 246 Grad Rotation hergestellt.\n",
      "Pinguinwürfel bei 247 Grad Rotation hergestellt.\n",
      "Pinguinwürfel bei 248 Grad Rotation hergestellt.\n",
      "Pinguinwürfel bei 249 Grad Rotation hergestellt.\n",
      "Pinguinwürfel bei 250 Grad Rotation hergestellt.\n",
      "Pinguinwürfel bei 251 Grad Rotation hergestellt.\n",
      "Pinguinwürfel bei 252 Grad Rotation hergestellt.\n",
      "Pinguinwürfel bei 253 Grad Rotation hergestellt.\n",
      "Pinguinwürfel bei 254 Grad Rotation hergestellt.\n",
      "Pinguinwürfel bei 255 Grad Rotation hergestellt.\n",
      "Pinguinwürfel bei 256 Grad Rotation hergestellt.\n",
      "Pinguinwürfel bei 257 Grad Rotation hergestellt.\n",
      "Pinguinwürfel bei 258 Grad Rotation hergestellt.\n",
      "Pinguinwürfel bei 259 Grad Rotation hergestellt.\n",
      "Pinguinwürfel bei 260 Grad Rotation hergestellt.\n",
      "Pinguinwürfel bei 261 Grad Rotation hergestellt.\n",
      "Pinguinwürfel bei 262 Grad Rotation hergestellt.\n",
      "Pinguinwürfel bei 263 Grad Rotation hergestellt.\n",
      "Pinguinwürfel bei 264 Grad Rotation hergestellt.\n",
      "Pinguinwürfel bei 265 Grad Rotation hergestellt.\n",
      "Pinguinwürfel bei 266 Grad Rotation hergestellt.\n",
      "Pinguinwürfel bei 267 Grad Rotation hergestellt.\n",
      "Pinguinwürfel bei 268 Grad Rotation hergestellt.\n",
      "Pinguinwürfel bei 269 Grad Rotation hergestellt.\n",
      "Pinguinwürfel bei 270 Grad Rotation hergestellt.\n",
      "Pinguinwürfel bei 271 Grad Rotation hergestellt.\n",
      "Pinguinwürfel bei 272 Grad Rotation hergestellt.\n",
      "Pinguinwürfel bei 273 Grad Rotation hergestellt.\n",
      "Pinguinwürfel bei 274 Grad Rotation hergestellt.\n",
      "Pinguinwürfel bei 275 Grad Rotation hergestellt.\n",
      "Pinguinwürfel bei 276 Grad Rotation hergestellt.\n",
      "Pinguinwürfel bei 277 Grad Rotation hergestellt.\n",
      "Pinguinwürfel bei 278 Grad Rotation hergestellt.\n",
      "Pinguinwürfel bei 279 Grad Rotation hergestellt.\n",
      "Pinguinwürfel bei 280 Grad Rotation hergestellt.\n",
      "Pinguinwürfel bei 281 Grad Rotation hergestellt.\n",
      "Pinguinwürfel bei 282 Grad Rotation hergestellt.\n",
      "Pinguinwürfel bei 283 Grad Rotation hergestellt.\n",
      "Pinguinwürfel bei 284 Grad Rotation hergestellt.\n",
      "Pinguinwürfel bei 285 Grad Rotation hergestellt.\n",
      "Pinguinwürfel bei 286 Grad Rotation hergestellt.\n",
      "Pinguinwürfel bei 287 Grad Rotation hergestellt.\n",
      "Pinguinwürfel bei 288 Grad Rotation hergestellt.\n",
      "Pinguinwürfel bei 289 Grad Rotation hergestellt.\n",
      "Pinguinwürfel bei 290 Grad Rotation hergestellt.\n",
      "Pinguinwürfel bei 291 Grad Rotation hergestellt.\n",
      "Pinguinwürfel bei 292 Grad Rotation hergestellt.\n",
      "Pinguinwürfel bei 293 Grad Rotation hergestellt.\n",
      "Pinguinwürfel bei 294 Grad Rotation hergestellt.\n",
      "Pinguinwürfel bei 295 Grad Rotation hergestellt.\n",
      "Pinguinwürfel bei 296 Grad Rotation hergestellt.\n",
      "Pinguinwürfel bei 297 Grad Rotation hergestellt.\n",
      "Pinguinwürfel bei 298 Grad Rotation hergestellt.\n",
      "Pinguinwürfel bei 299 Grad Rotation hergestellt.\n",
      "Pinguinwürfel bei 300 Grad Rotation hergestellt.\n",
      "Pinguinwürfel bei 301 Grad Rotation hergestellt.\n",
      "Pinguinwürfel bei 302 Grad Rotation hergestellt.\n",
      "Pinguinwürfel bei 303 Grad Rotation hergestellt.\n",
      "Pinguinwürfel bei 304 Grad Rotation hergestellt.\n",
      "Pinguinwürfel bei 305 Grad Rotation hergestellt.\n",
      "Pinguinwürfel bei 306 Grad Rotation hergestellt.\n",
      "Pinguinwürfel bei 307 Grad Rotation hergestellt.\n",
      "Pinguinwürfel bei 308 Grad Rotation hergestellt.\n",
      "Pinguinwürfel bei 309 Grad Rotation hergestellt.\n",
      "Pinguinwürfel bei 310 Grad Rotation hergestellt.\n",
      "Pinguinwürfel bei 311 Grad Rotation hergestellt.\n",
      "Pinguinwürfel bei 312 Grad Rotation hergestellt.\n",
      "Pinguinwürfel bei 313 Grad Rotation hergestellt.\n",
      "Pinguinwürfel bei 314 Grad Rotation hergestellt.\n",
      "Pinguinwürfel bei 315 Grad Rotation hergestellt.\n",
      "Pinguinwürfel bei 316 Grad Rotation hergestellt.\n",
      "Pinguinwürfel bei 317 Grad Rotation hergestellt.\n",
      "Pinguinwürfel bei 318 Grad Rotation hergestellt.\n",
      "Pinguinwürfel bei 319 Grad Rotation hergestellt.\n",
      "Pinguinwürfel bei 320 Grad Rotation hergestellt.\n",
      "Pinguinwürfel bei 321 Grad Rotation hergestellt.\n",
      "Pinguinwürfel bei 322 Grad Rotation hergestellt.\n",
      "Pinguinwürfel bei 323 Grad Rotation hergestellt.\n",
      "Pinguinwürfel bei 324 Grad Rotation hergestellt.\n",
      "Pinguinwürfel bei 325 Grad Rotation hergestellt.\n",
      "Pinguinwürfel bei 326 Grad Rotation hergestellt.\n",
      "Pinguinwürfel bei 327 Grad Rotation hergestellt.\n",
      "Pinguinwürfel bei 328 Grad Rotation hergestellt.\n",
      "Pinguinwürfel bei 329 Grad Rotation hergestellt.\n",
      "Pinguinwürfel bei 330 Grad Rotation hergestellt.\n",
      "Pinguinwürfel bei 331 Grad Rotation hergestellt.\n",
      "Pinguinwürfel bei 332 Grad Rotation hergestellt.\n",
      "Pinguinwürfel bei 333 Grad Rotation hergestellt.\n",
      "Pinguinwürfel bei 334 Grad Rotation hergestellt.\n",
      "Pinguinwürfel bei 335 Grad Rotation hergestellt.\n",
      "Pinguinwürfel bei 336 Grad Rotation hergestellt.\n",
      "Pinguinwürfel bei 337 Grad Rotation hergestellt.\n",
      "Pinguinwürfel bei 338 Grad Rotation hergestellt.\n",
      "Pinguinwürfel bei 339 Grad Rotation hergestellt.\n",
      "Pinguinwürfel bei 340 Grad Rotation hergestellt.\n",
      "Pinguinwürfel bei 341 Grad Rotation hergestellt.\n",
      "Pinguinwürfel bei 342 Grad Rotation hergestellt.\n",
      "Pinguinwürfel bei 343 Grad Rotation hergestellt.\n",
      "Pinguinwürfel bei 344 Grad Rotation hergestellt.\n",
      "Pinguinwürfel bei 345 Grad Rotation hergestellt.\n",
      "Pinguinwürfel bei 346 Grad Rotation hergestellt.\n",
      "Pinguinwürfel bei 347 Grad Rotation hergestellt.\n",
      "Pinguinwürfel bei 348 Grad Rotation hergestellt.\n",
      "Pinguinwürfel bei 349 Grad Rotation hergestellt.\n",
      "Pinguinwürfel bei 350 Grad Rotation hergestellt.\n",
      "Pinguinwürfel bei 351 Grad Rotation hergestellt.\n",
      "Pinguinwürfel bei 352 Grad Rotation hergestellt.\n",
      "Pinguinwürfel bei 353 Grad Rotation hergestellt.\n",
      "Pinguinwürfel bei 354 Grad Rotation hergestellt.\n",
      "Pinguinwürfel bei 355 Grad Rotation hergestellt.\n",
      "Pinguinwürfel bei 356 Grad Rotation hergestellt.\n",
      "Pinguinwürfel bei 357 Grad Rotation hergestellt.\n",
      "Pinguinwürfel bei 358 Grad Rotation hergestellt.\n",
      "Pinguinwürfel bei 359 Grad Rotation hergestellt.\n"
     ]
    }
   ],
   "execution_count": 83
  },
  {
   "cell_type": "code",
   "source": [
    "# Und jetzt wieder zu einem Gif zusammenfügen!\n",
    "images = []\n",
    "base_path = 'rotating_penguins'\n",
    "\n",
    "for file in os.listdir(base_path):\n",
    "\tif file.endswith('png'):\n",
    "\t\tfile_path = os.path.join(base_path, file)\n",
    "\t\timageio_file = iio.imread(file_path)\n",
    "\t\timages.append(imageio_file)\n",
    "\n",
    "imageio.mimsave(\n",
    "\tr'rotating_penguins/rotating_penguins.gif',\n",
    "\timages,\n",
    "\tduration=100,\n",
    "\tloop=0\n",
    ")\n",
    "# Würfel ruckelt!"
   ],
   "metadata": {
    "collapsed": false,
    "ExecuteTime": {
     "end_time": "2025-03-04T10:20:40.149687Z",
     "start_time": "2025-03-04T10:20:31.400761Z"
    }
   },
   "outputs": [],
   "execution_count": 84
  },
  {
   "metadata": {
    "ExecuteTime": {
     "end_time": "2025-03-04T10:23:38.753193Z",
     "start_time": "2025-03-04T10:23:38.744826Z"
    }
   },
   "cell_type": "code",
   "outputs": [
    {
     "data": {
      "text/plain": [
       "['Bild0.png',\n",
       " 'Bild1.png',\n",
       " 'Bild10.png',\n",
       " 'Bild100.png',\n",
       " 'Bild101.png',\n",
       " 'Bild102.png',\n",
       " 'Bild103.png',\n",
       " 'Bild104.png',\n",
       " 'Bild105.png',\n",
       " 'Bild106.png',\n",
       " 'Bild107.png',\n",
       " 'Bild108.png',\n",
       " 'Bild109.png',\n",
       " 'Bild11.png',\n",
       " 'Bild110.png',\n",
       " 'Bild111.png',\n",
       " 'Bild112.png',\n",
       " 'Bild113.png',\n",
       " 'Bild114.png',\n",
       " 'Bild115.png',\n",
       " 'Bild116.png',\n",
       " 'Bild117.png',\n",
       " 'Bild118.png',\n",
       " 'Bild119.png',\n",
       " 'Bild12.png',\n",
       " 'Bild120.png',\n",
       " 'Bild121.png',\n",
       " 'Bild122.png',\n",
       " 'Bild123.png',\n",
       " 'Bild124.png',\n",
       " 'Bild125.png',\n",
       " 'Bild126.png',\n",
       " 'Bild127.png',\n",
       " 'Bild128.png',\n",
       " 'Bild129.png',\n",
       " 'Bild13.png',\n",
       " 'Bild130.png',\n",
       " 'Bild131.png',\n",
       " 'Bild132.png',\n",
       " 'Bild133.png',\n",
       " 'Bild134.png',\n",
       " 'Bild135.png',\n",
       " 'Bild136.png',\n",
       " 'Bild137.png',\n",
       " 'Bild138.png',\n",
       " 'Bild139.png',\n",
       " 'Bild14.png',\n",
       " 'Bild140.png',\n",
       " 'Bild141.png',\n",
       " 'Bild142.png',\n",
       " 'Bild143.png',\n",
       " 'Bild144.png',\n",
       " 'Bild145.png',\n",
       " 'Bild146.png',\n",
       " 'Bild147.png',\n",
       " 'Bild148.png',\n",
       " 'Bild149.png',\n",
       " 'Bild15.png',\n",
       " 'Bild150.png',\n",
       " 'Bild151.png',\n",
       " 'Bild152.png',\n",
       " 'Bild153.png',\n",
       " 'Bild154.png',\n",
       " 'Bild155.png',\n",
       " 'Bild156.png',\n",
       " 'Bild157.png',\n",
       " 'Bild158.png',\n",
       " 'Bild159.png',\n",
       " 'Bild16.png',\n",
       " 'Bild160.png',\n",
       " 'Bild161.png',\n",
       " 'Bild162.png',\n",
       " 'Bild163.png',\n",
       " 'Bild164.png',\n",
       " 'Bild165.png',\n",
       " 'Bild166.png',\n",
       " 'Bild167.png',\n",
       " 'Bild168.png',\n",
       " 'Bild169.png',\n",
       " 'Bild17.png',\n",
       " 'Bild170.png',\n",
       " 'Bild171.png',\n",
       " 'Bild172.png',\n",
       " 'Bild173.png',\n",
       " 'Bild174.png',\n",
       " 'Bild175.png',\n",
       " 'Bild176.png',\n",
       " 'Bild177.png',\n",
       " 'Bild178.png',\n",
       " 'Bild179.png',\n",
       " 'Bild18.png',\n",
       " 'Bild180.png',\n",
       " 'Bild181.png',\n",
       " 'Bild182.png',\n",
       " 'Bild183.png',\n",
       " 'Bild184.png',\n",
       " 'Bild185.png',\n",
       " 'Bild186.png',\n",
       " 'Bild187.png',\n",
       " 'Bild188.png',\n",
       " 'Bild189.png',\n",
       " 'Bild19.png',\n",
       " 'Bild190.png',\n",
       " 'Bild191.png',\n",
       " 'Bild192.png',\n",
       " 'Bild193.png',\n",
       " 'Bild194.png',\n",
       " 'Bild195.png',\n",
       " 'Bild196.png',\n",
       " 'Bild197.png',\n",
       " 'Bild198.png',\n",
       " 'Bild199.png',\n",
       " 'Bild2.png',\n",
       " 'Bild20.png',\n",
       " 'Bild200.png',\n",
       " 'Bild201.png',\n",
       " 'Bild202.png',\n",
       " 'Bild203.png',\n",
       " 'Bild204.png',\n",
       " 'Bild205.png',\n",
       " 'Bild206.png',\n",
       " 'Bild207.png',\n",
       " 'Bild208.png',\n",
       " 'Bild209.png',\n",
       " 'Bild21.png',\n",
       " 'Bild210.png',\n",
       " 'Bild211.png',\n",
       " 'Bild212.png',\n",
       " 'Bild213.png',\n",
       " 'Bild214.png',\n",
       " 'Bild215.png',\n",
       " 'Bild216.png',\n",
       " 'Bild217.png',\n",
       " 'Bild218.png',\n",
       " 'Bild219.png',\n",
       " 'Bild22.png',\n",
       " 'Bild220.png',\n",
       " 'Bild221.png',\n",
       " 'Bild222.png',\n",
       " 'Bild223.png',\n",
       " 'Bild224.png',\n",
       " 'Bild225.png',\n",
       " 'Bild226.png',\n",
       " 'Bild227.png',\n",
       " 'Bild228.png',\n",
       " 'Bild229.png',\n",
       " 'Bild23.png',\n",
       " 'Bild230.png',\n",
       " 'Bild231.png',\n",
       " 'Bild232.png',\n",
       " 'Bild233.png',\n",
       " 'Bild234.png',\n",
       " 'Bild235.png',\n",
       " 'Bild236.png',\n",
       " 'Bild237.png',\n",
       " 'Bild238.png',\n",
       " 'Bild239.png',\n",
       " 'Bild24.png',\n",
       " 'Bild240.png',\n",
       " 'Bild241.png',\n",
       " 'Bild242.png',\n",
       " 'Bild243.png',\n",
       " 'Bild244.png',\n",
       " 'Bild245.png',\n",
       " 'Bild246.png',\n",
       " 'Bild247.png',\n",
       " 'Bild248.png',\n",
       " 'Bild249.png',\n",
       " 'Bild25.png',\n",
       " 'Bild250.png',\n",
       " 'Bild251.png',\n",
       " 'Bild252.png',\n",
       " 'Bild253.png',\n",
       " 'Bild254.png',\n",
       " 'Bild255.png',\n",
       " 'Bild256.png',\n",
       " 'Bild257.png',\n",
       " 'Bild258.png',\n",
       " 'Bild259.png',\n",
       " 'Bild26.png',\n",
       " 'Bild260.png',\n",
       " 'Bild261.png',\n",
       " 'Bild262.png',\n",
       " 'Bild263.png',\n",
       " 'Bild264.png',\n",
       " 'Bild265.png',\n",
       " 'Bild266.png',\n",
       " 'Bild267.png',\n",
       " 'Bild268.png',\n",
       " 'Bild269.png',\n",
       " 'Bild27.png',\n",
       " 'Bild270.png',\n",
       " 'Bild271.png',\n",
       " 'Bild272.png',\n",
       " 'Bild273.png',\n",
       " 'Bild274.png',\n",
       " 'Bild275.png',\n",
       " 'Bild276.png',\n",
       " 'Bild277.png',\n",
       " 'Bild278.png',\n",
       " 'Bild279.png',\n",
       " 'Bild28.png',\n",
       " 'Bild280.png',\n",
       " 'Bild281.png',\n",
       " 'Bild282.png',\n",
       " 'Bild283.png',\n",
       " 'Bild284.png',\n",
       " 'Bild285.png',\n",
       " 'Bild286.png',\n",
       " 'Bild287.png',\n",
       " 'Bild288.png',\n",
       " 'Bild289.png',\n",
       " 'Bild29.png',\n",
       " 'Bild290.png',\n",
       " 'Bild291.png',\n",
       " 'Bild292.png',\n",
       " 'Bild293.png',\n",
       " 'Bild294.png',\n",
       " 'Bild295.png',\n",
       " 'Bild296.png',\n",
       " 'Bild297.png',\n",
       " 'Bild298.png',\n",
       " 'Bild299.png',\n",
       " 'Bild3.png',\n",
       " 'Bild30.png',\n",
       " 'Bild300.png',\n",
       " 'Bild301.png',\n",
       " 'Bild302.png',\n",
       " 'Bild303.png',\n",
       " 'Bild304.png',\n",
       " 'Bild305.png',\n",
       " 'Bild306.png',\n",
       " 'Bild307.png',\n",
       " 'Bild308.png',\n",
       " 'Bild309.png',\n",
       " 'Bild31.png',\n",
       " 'Bild310.png',\n",
       " 'Bild311.png',\n",
       " 'Bild312.png',\n",
       " 'Bild313.png',\n",
       " 'Bild314.png',\n",
       " 'Bild315.png',\n",
       " 'Bild316.png',\n",
       " 'Bild317.png',\n",
       " 'Bild318.png',\n",
       " 'Bild319.png',\n",
       " 'Bild32.png',\n",
       " 'Bild320.png',\n",
       " 'Bild321.png',\n",
       " 'Bild322.png',\n",
       " 'Bild323.png',\n",
       " 'Bild324.png',\n",
       " 'Bild325.png',\n",
       " 'Bild326.png',\n",
       " 'Bild327.png',\n",
       " 'Bild328.png',\n",
       " 'Bild329.png',\n",
       " 'Bild33.png',\n",
       " 'Bild330.png',\n",
       " 'Bild331.png',\n",
       " 'Bild332.png',\n",
       " 'Bild333.png',\n",
       " 'Bild334.png',\n",
       " 'Bild335.png',\n",
       " 'Bild336.png',\n",
       " 'Bild337.png',\n",
       " 'Bild338.png',\n",
       " 'Bild339.png',\n",
       " 'Bild34.png',\n",
       " 'Bild340.png',\n",
       " 'Bild341.png',\n",
       " 'Bild342.png',\n",
       " 'Bild343.png',\n",
       " 'Bild344.png',\n",
       " 'Bild345.png',\n",
       " 'Bild346.png',\n",
       " 'Bild347.png',\n",
       " 'Bild348.png',\n",
       " 'Bild349.png',\n",
       " 'Bild35.png',\n",
       " 'Bild350.png',\n",
       " 'Bild351.png',\n",
       " 'Bild352.png',\n",
       " 'Bild353.png',\n",
       " 'Bild354.png',\n",
       " 'Bild355.png',\n",
       " 'Bild356.png',\n",
       " 'Bild357.png',\n",
       " 'Bild358.png',\n",
       " 'Bild359.png',\n",
       " 'Bild36.png',\n",
       " 'Bild37.png',\n",
       " 'Bild38.png',\n",
       " 'Bild39.png',\n",
       " 'Bild4.png',\n",
       " 'Bild40.png',\n",
       " 'Bild41.png',\n",
       " 'Bild42.png',\n",
       " 'Bild43.png',\n",
       " 'Bild44.png',\n",
       " 'Bild45.png',\n",
       " 'Bild46.png',\n",
       " 'Bild47.png',\n",
       " 'Bild48.png',\n",
       " 'Bild49.png',\n",
       " 'Bild5.png',\n",
       " 'Bild50.png',\n",
       " 'Bild51.png',\n",
       " 'Bild52.png',\n",
       " 'Bild53.png',\n",
       " 'Bild54.png',\n",
       " 'Bild55.png',\n",
       " 'Bild56.png',\n",
       " 'Bild57.png',\n",
       " 'Bild58.png',\n",
       " 'Bild59.png',\n",
       " 'Bild6.png',\n",
       " 'Bild60.png',\n",
       " 'Bild61.png',\n",
       " 'Bild62.png',\n",
       " 'Bild63.png',\n",
       " 'Bild64.png',\n",
       " 'Bild65.png',\n",
       " 'Bild66.png',\n",
       " 'Bild67.png',\n",
       " 'Bild68.png',\n",
       " 'Bild69.png',\n",
       " 'Bild7.png',\n",
       " 'Bild70.png',\n",
       " 'Bild71.png',\n",
       " 'Bild72.png',\n",
       " 'Bild73.png',\n",
       " 'Bild74.png',\n",
       " 'Bild75.png',\n",
       " 'Bild76.png',\n",
       " 'Bild77.png',\n",
       " 'Bild78.png',\n",
       " 'Bild79.png',\n",
       " 'Bild8.png',\n",
       " 'Bild80.png',\n",
       " 'Bild81.png',\n",
       " 'Bild82.png',\n",
       " 'Bild83.png',\n",
       " 'Bild84.png',\n",
       " 'Bild85.png',\n",
       " 'Bild86.png',\n",
       " 'Bild87.png',\n",
       " 'Bild88.png',\n",
       " 'Bild89.png',\n",
       " 'Bild9.png',\n",
       " 'Bild90.png',\n",
       " 'Bild91.png',\n",
       " 'Bild92.png',\n",
       " 'Bild93.png',\n",
       " 'Bild94.png',\n",
       " 'Bild95.png',\n",
       " 'Bild96.png',\n",
       " 'Bild97.png',\n",
       " 'Bild98.png',\n",
       " 'Bild99.png',\n",
       " 'nervige_textdatei.txt',\n",
       " 'rotating_penguins.gif']"
      ]
     },
     "execution_count": 85,
     "metadata": {},
     "output_type": "execute_result"
    }
   ],
   "execution_count": 85,
   "source": [
    "# Hintergrund: So sortiert klappt das nicht!\n",
    "os.listdir('rotating_penguins')"
   ]
  },
  {
   "metadata": {
    "ExecuteTime": {
     "end_time": "2025-03-04T10:28:02.256707Z",
     "start_time": "2025-03-04T10:28:02.251192Z"
    }
   },
   "cell_type": "code",
   "source": [
    "# Wie sollten unsere Bilddateien idealerweise benannt sein:\n",
    "# Bild001\n",
    "# ...\n",
    "# Bild010\n",
    "# ...\n",
    "# Bild312"
   ],
   "outputs": [],
   "execution_count": 88
  },
  {
   "metadata": {
    "ExecuteTime": {
     "end_time": "2025-03-04T10:28:00.517713Z",
     "start_time": "2025-03-04T10:28:00.512203Z"
    }
   },
   "cell_type": "code",
   "source": [
    "# Zur Erinnerung:\n",
    "format(1, '.2f')"
   ],
   "outputs": [
    {
     "data": {
      "text/plain": [
       "'1.00'"
      ]
     },
     "execution_count": 87,
     "metadata": {},
     "output_type": "execute_result"
    }
   ],
   "execution_count": 87
  },
  {
   "metadata": {
    "ExecuteTime": {
     "end_time": "2025-03-04T10:28:37.981217Z",
     "start_time": "2025-03-04T10:28:37.975525Z"
    }
   },
   "cell_type": "code",
   "source": "format(1, '0>3')",
   "outputs": [
    {
     "data": {
      "text/plain": [
       "'001'"
      ]
     },
     "execution_count": 89,
     "metadata": {},
     "output_type": "execute_result"
    }
   ],
   "execution_count": 89
  },
  {
   "metadata": {
    "ExecuteTime": {
     "end_time": "2025-03-04T10:29:24.878579Z",
     "start_time": "2025-03-04T10:29:24.873059Z"
    }
   },
   "cell_type": "code",
   "source": [
    "# Dasselbe mit zfill:\n",
    "'1'.zfill(3)"
   ],
   "outputs": [
    {
     "data": {
      "text/plain": [
       "'001'"
      ]
     },
     "execution_count": 91,
     "metadata": {},
     "output_type": "execute_result"
    }
   ],
   "execution_count": 91
  },
  {
   "metadata": {
    "ExecuteTime": {
     "end_time": "2025-03-04T10:30:03.111543Z",
     "start_time": "2025-03-04T10:30:03.105501Z"
    }
   },
   "cell_type": "code",
   "source": "format(10, '0>3')",
   "outputs": [
    {
     "data": {
      "text/plain": [
       "'010'"
      ]
     },
     "execution_count": 92,
     "metadata": {},
     "output_type": "execute_result"
    }
   ],
   "execution_count": 92
  },
  {
   "metadata": {
    "ExecuteTime": {
     "end_time": "2025-03-04T10:30:11.771811Z",
     "start_time": "2025-03-04T10:30:11.762890Z"
    }
   },
   "cell_type": "code",
   "source": "'10'.zfill(3)",
   "outputs": [
    {
     "data": {
      "text/plain": [
       "'010'"
      ]
     },
     "execution_count": 93,
     "metadata": {},
     "output_type": "execute_result"
    }
   ],
   "execution_count": 93
  },
  {
   "metadata": {
    "ExecuteTime": {
     "end_time": "2025-03-04T10:30:31.062018Z",
     "start_time": "2025-03-04T10:30:31.057330Z"
    }
   },
   "cell_type": "code",
   "source": "format(100, '0>3')",
   "outputs": [
    {
     "data": {
      "text/plain": [
       "'100'"
      ]
     },
     "execution_count": 94,
     "metadata": {},
     "output_type": "execute_result"
    }
   ],
   "execution_count": 94
  },
  {
   "metadata": {
    "ExecuteTime": {
     "end_time": "2025-03-04T10:30:39.102237Z",
     "start_time": "2025-03-04T10:30:39.098534Z"
    }
   },
   "cell_type": "code",
   "source": "'100'.zfill(3)",
   "outputs": [
    {
     "data": {
      "text/plain": [
       "'100'"
      ]
     },
     "execution_count": 95,
     "metadata": {},
     "output_type": "execute_result"
    }
   ],
   "execution_count": 95
  },
  {
   "metadata": {
    "ExecuteTime": {
     "end_time": "2025-03-04T10:34:29.471453Z",
     "start_time": "2025-03-04T10:33:51.421355Z"
    }
   },
   "cell_type": "code",
   "source": [
    "# Anlauf 2 mit zero fill (Auffüllen mit Nullen):\n",
    "fig = plt.figure()\n",
    "ax = fig.add_subplot(projection='3d')\n",
    "\n",
    "for degree in circle_degrees:\n",
    "\tax.scatter(\n",
    "\t\t'bill_depth_mm',\n",
    "\t\t'bill_length_mm',\n",
    "\t\t'body_mass_g',\n",
    "\t\tdata=penguins\n",
    "\t)\n",
    "\n",
    "\tax.set(\n",
    "\t\ttitle='Bill Length vs. Bill Depth vs. Body Mass',\n",
    "\t\txlabel='Bill Depth (mm)',\n",
    "\t\tylabel='Bill Length (mm)',\n",
    "\t\tzlabel='Body Mass (g)',\n",
    "\t)\n",
    "\n",
    "\tax.view_init(20, degree, 0)\n",
    "\tfig.savefig(fr'rotating_penguins/Bild{int(degree):0>3}.png')\n",
    "\tprint(f'Pinguinwürfel bei {int(degree)} Grad Rotation hergestellt.')\n",
    "\tax.clear()\n",
    "\n",
    "plt.close()"
   ],
   "outputs": [
    {
     "name": "stdout",
     "output_type": "stream",
     "text": [
      "Pinguinwürfel bei 0 Grad Rotation hergestellt.\n",
      "Pinguinwürfel bei 1 Grad Rotation hergestellt.\n",
      "Pinguinwürfel bei 2 Grad Rotation hergestellt.\n",
      "Pinguinwürfel bei 3 Grad Rotation hergestellt.\n",
      "Pinguinwürfel bei 4 Grad Rotation hergestellt.\n",
      "Pinguinwürfel bei 5 Grad Rotation hergestellt.\n",
      "Pinguinwürfel bei 6 Grad Rotation hergestellt.\n",
      "Pinguinwürfel bei 7 Grad Rotation hergestellt.\n",
      "Pinguinwürfel bei 8 Grad Rotation hergestellt.\n",
      "Pinguinwürfel bei 9 Grad Rotation hergestellt.\n",
      "Pinguinwürfel bei 10 Grad Rotation hergestellt.\n",
      "Pinguinwürfel bei 11 Grad Rotation hergestellt.\n",
      "Pinguinwürfel bei 12 Grad Rotation hergestellt.\n",
      "Pinguinwürfel bei 13 Grad Rotation hergestellt.\n",
      "Pinguinwürfel bei 14 Grad Rotation hergestellt.\n",
      "Pinguinwürfel bei 15 Grad Rotation hergestellt.\n",
      "Pinguinwürfel bei 16 Grad Rotation hergestellt.\n",
      "Pinguinwürfel bei 17 Grad Rotation hergestellt.\n",
      "Pinguinwürfel bei 18 Grad Rotation hergestellt.\n",
      "Pinguinwürfel bei 19 Grad Rotation hergestellt.\n",
      "Pinguinwürfel bei 20 Grad Rotation hergestellt.\n",
      "Pinguinwürfel bei 21 Grad Rotation hergestellt.\n",
      "Pinguinwürfel bei 22 Grad Rotation hergestellt.\n",
      "Pinguinwürfel bei 23 Grad Rotation hergestellt.\n",
      "Pinguinwürfel bei 24 Grad Rotation hergestellt.\n",
      "Pinguinwürfel bei 25 Grad Rotation hergestellt.\n",
      "Pinguinwürfel bei 26 Grad Rotation hergestellt.\n",
      "Pinguinwürfel bei 27 Grad Rotation hergestellt.\n",
      "Pinguinwürfel bei 28 Grad Rotation hergestellt.\n",
      "Pinguinwürfel bei 29 Grad Rotation hergestellt.\n",
      "Pinguinwürfel bei 30 Grad Rotation hergestellt.\n",
      "Pinguinwürfel bei 31 Grad Rotation hergestellt.\n",
      "Pinguinwürfel bei 32 Grad Rotation hergestellt.\n",
      "Pinguinwürfel bei 33 Grad Rotation hergestellt.\n",
      "Pinguinwürfel bei 34 Grad Rotation hergestellt.\n",
      "Pinguinwürfel bei 35 Grad Rotation hergestellt.\n",
      "Pinguinwürfel bei 36 Grad Rotation hergestellt.\n",
      "Pinguinwürfel bei 37 Grad Rotation hergestellt.\n",
      "Pinguinwürfel bei 38 Grad Rotation hergestellt.\n",
      "Pinguinwürfel bei 39 Grad Rotation hergestellt.\n",
      "Pinguinwürfel bei 40 Grad Rotation hergestellt.\n",
      "Pinguinwürfel bei 41 Grad Rotation hergestellt.\n",
      "Pinguinwürfel bei 42 Grad Rotation hergestellt.\n",
      "Pinguinwürfel bei 43 Grad Rotation hergestellt.\n",
      "Pinguinwürfel bei 44 Grad Rotation hergestellt.\n",
      "Pinguinwürfel bei 45 Grad Rotation hergestellt.\n",
      "Pinguinwürfel bei 46 Grad Rotation hergestellt.\n",
      "Pinguinwürfel bei 47 Grad Rotation hergestellt.\n",
      "Pinguinwürfel bei 48 Grad Rotation hergestellt.\n",
      "Pinguinwürfel bei 49 Grad Rotation hergestellt.\n",
      "Pinguinwürfel bei 50 Grad Rotation hergestellt.\n",
      "Pinguinwürfel bei 51 Grad Rotation hergestellt.\n",
      "Pinguinwürfel bei 52 Grad Rotation hergestellt.\n",
      "Pinguinwürfel bei 53 Grad Rotation hergestellt.\n",
      "Pinguinwürfel bei 54 Grad Rotation hergestellt.\n",
      "Pinguinwürfel bei 55 Grad Rotation hergestellt.\n",
      "Pinguinwürfel bei 56 Grad Rotation hergestellt.\n",
      "Pinguinwürfel bei 57 Grad Rotation hergestellt.\n",
      "Pinguinwürfel bei 58 Grad Rotation hergestellt.\n",
      "Pinguinwürfel bei 59 Grad Rotation hergestellt.\n",
      "Pinguinwürfel bei 60 Grad Rotation hergestellt.\n",
      "Pinguinwürfel bei 61 Grad Rotation hergestellt.\n",
      "Pinguinwürfel bei 62 Grad Rotation hergestellt.\n",
      "Pinguinwürfel bei 63 Grad Rotation hergestellt.\n",
      "Pinguinwürfel bei 64 Grad Rotation hergestellt.\n",
      "Pinguinwürfel bei 65 Grad Rotation hergestellt.\n",
      "Pinguinwürfel bei 66 Grad Rotation hergestellt.\n",
      "Pinguinwürfel bei 67 Grad Rotation hergestellt.\n",
      "Pinguinwürfel bei 68 Grad Rotation hergestellt.\n",
      "Pinguinwürfel bei 69 Grad Rotation hergestellt.\n",
      "Pinguinwürfel bei 70 Grad Rotation hergestellt.\n",
      "Pinguinwürfel bei 71 Grad Rotation hergestellt.\n",
      "Pinguinwürfel bei 72 Grad Rotation hergestellt.\n",
      "Pinguinwürfel bei 73 Grad Rotation hergestellt.\n",
      "Pinguinwürfel bei 74 Grad Rotation hergestellt.\n",
      "Pinguinwürfel bei 75 Grad Rotation hergestellt.\n",
      "Pinguinwürfel bei 76 Grad Rotation hergestellt.\n",
      "Pinguinwürfel bei 77 Grad Rotation hergestellt.\n",
      "Pinguinwürfel bei 78 Grad Rotation hergestellt.\n",
      "Pinguinwürfel bei 79 Grad Rotation hergestellt.\n",
      "Pinguinwürfel bei 80 Grad Rotation hergestellt.\n",
      "Pinguinwürfel bei 81 Grad Rotation hergestellt.\n",
      "Pinguinwürfel bei 82 Grad Rotation hergestellt.\n",
      "Pinguinwürfel bei 83 Grad Rotation hergestellt.\n",
      "Pinguinwürfel bei 84 Grad Rotation hergestellt.\n",
      "Pinguinwürfel bei 85 Grad Rotation hergestellt.\n",
      "Pinguinwürfel bei 86 Grad Rotation hergestellt.\n",
      "Pinguinwürfel bei 87 Grad Rotation hergestellt.\n",
      "Pinguinwürfel bei 88 Grad Rotation hergestellt.\n",
      "Pinguinwürfel bei 89 Grad Rotation hergestellt.\n",
      "Pinguinwürfel bei 90 Grad Rotation hergestellt.\n",
      "Pinguinwürfel bei 91 Grad Rotation hergestellt.\n",
      "Pinguinwürfel bei 92 Grad Rotation hergestellt.\n",
      "Pinguinwürfel bei 93 Grad Rotation hergestellt.\n",
      "Pinguinwürfel bei 94 Grad Rotation hergestellt.\n",
      "Pinguinwürfel bei 95 Grad Rotation hergestellt.\n",
      "Pinguinwürfel bei 96 Grad Rotation hergestellt.\n",
      "Pinguinwürfel bei 97 Grad Rotation hergestellt.\n",
      "Pinguinwürfel bei 98 Grad Rotation hergestellt.\n",
      "Pinguinwürfel bei 99 Grad Rotation hergestellt.\n",
      "Pinguinwürfel bei 100 Grad Rotation hergestellt.\n",
      "Pinguinwürfel bei 101 Grad Rotation hergestellt.\n",
      "Pinguinwürfel bei 102 Grad Rotation hergestellt.\n",
      "Pinguinwürfel bei 103 Grad Rotation hergestellt.\n",
      "Pinguinwürfel bei 104 Grad Rotation hergestellt.\n",
      "Pinguinwürfel bei 105 Grad Rotation hergestellt.\n",
      "Pinguinwürfel bei 106 Grad Rotation hergestellt.\n",
      "Pinguinwürfel bei 107 Grad Rotation hergestellt.\n",
      "Pinguinwürfel bei 108 Grad Rotation hergestellt.\n",
      "Pinguinwürfel bei 109 Grad Rotation hergestellt.\n",
      "Pinguinwürfel bei 110 Grad Rotation hergestellt.\n",
      "Pinguinwürfel bei 111 Grad Rotation hergestellt.\n",
      "Pinguinwürfel bei 112 Grad Rotation hergestellt.\n",
      "Pinguinwürfel bei 113 Grad Rotation hergestellt.\n",
      "Pinguinwürfel bei 114 Grad Rotation hergestellt.\n",
      "Pinguinwürfel bei 115 Grad Rotation hergestellt.\n",
      "Pinguinwürfel bei 116 Grad Rotation hergestellt.\n",
      "Pinguinwürfel bei 117 Grad Rotation hergestellt.\n",
      "Pinguinwürfel bei 118 Grad Rotation hergestellt.\n",
      "Pinguinwürfel bei 119 Grad Rotation hergestellt.\n",
      "Pinguinwürfel bei 120 Grad Rotation hergestellt.\n",
      "Pinguinwürfel bei 121 Grad Rotation hergestellt.\n",
      "Pinguinwürfel bei 122 Grad Rotation hergestellt.\n",
      "Pinguinwürfel bei 123 Grad Rotation hergestellt.\n",
      "Pinguinwürfel bei 124 Grad Rotation hergestellt.\n",
      "Pinguinwürfel bei 125 Grad Rotation hergestellt.\n",
      "Pinguinwürfel bei 126 Grad Rotation hergestellt.\n",
      "Pinguinwürfel bei 127 Grad Rotation hergestellt.\n",
      "Pinguinwürfel bei 128 Grad Rotation hergestellt.\n",
      "Pinguinwürfel bei 129 Grad Rotation hergestellt.\n",
      "Pinguinwürfel bei 130 Grad Rotation hergestellt.\n",
      "Pinguinwürfel bei 131 Grad Rotation hergestellt.\n",
      "Pinguinwürfel bei 132 Grad Rotation hergestellt.\n",
      "Pinguinwürfel bei 133 Grad Rotation hergestellt.\n",
      "Pinguinwürfel bei 134 Grad Rotation hergestellt.\n",
      "Pinguinwürfel bei 135 Grad Rotation hergestellt.\n",
      "Pinguinwürfel bei 136 Grad Rotation hergestellt.\n",
      "Pinguinwürfel bei 137 Grad Rotation hergestellt.\n",
      "Pinguinwürfel bei 138 Grad Rotation hergestellt.\n",
      "Pinguinwürfel bei 139 Grad Rotation hergestellt.\n",
      "Pinguinwürfel bei 140 Grad Rotation hergestellt.\n",
      "Pinguinwürfel bei 141 Grad Rotation hergestellt.\n",
      "Pinguinwürfel bei 142 Grad Rotation hergestellt.\n",
      "Pinguinwürfel bei 143 Grad Rotation hergestellt.\n",
      "Pinguinwürfel bei 144 Grad Rotation hergestellt.\n",
      "Pinguinwürfel bei 145 Grad Rotation hergestellt.\n",
      "Pinguinwürfel bei 146 Grad Rotation hergestellt.\n",
      "Pinguinwürfel bei 147 Grad Rotation hergestellt.\n",
      "Pinguinwürfel bei 148 Grad Rotation hergestellt.\n",
      "Pinguinwürfel bei 149 Grad Rotation hergestellt.\n",
      "Pinguinwürfel bei 150 Grad Rotation hergestellt.\n",
      "Pinguinwürfel bei 151 Grad Rotation hergestellt.\n",
      "Pinguinwürfel bei 152 Grad Rotation hergestellt.\n",
      "Pinguinwürfel bei 153 Grad Rotation hergestellt.\n",
      "Pinguinwürfel bei 154 Grad Rotation hergestellt.\n",
      "Pinguinwürfel bei 155 Grad Rotation hergestellt.\n",
      "Pinguinwürfel bei 156 Grad Rotation hergestellt.\n",
      "Pinguinwürfel bei 157 Grad Rotation hergestellt.\n",
      "Pinguinwürfel bei 158 Grad Rotation hergestellt.\n",
      "Pinguinwürfel bei 159 Grad Rotation hergestellt.\n",
      "Pinguinwürfel bei 160 Grad Rotation hergestellt.\n",
      "Pinguinwürfel bei 161 Grad Rotation hergestellt.\n",
      "Pinguinwürfel bei 162 Grad Rotation hergestellt.\n",
      "Pinguinwürfel bei 163 Grad Rotation hergestellt.\n",
      "Pinguinwürfel bei 164 Grad Rotation hergestellt.\n",
      "Pinguinwürfel bei 165 Grad Rotation hergestellt.\n",
      "Pinguinwürfel bei 166 Grad Rotation hergestellt.\n",
      "Pinguinwürfel bei 167 Grad Rotation hergestellt.\n",
      "Pinguinwürfel bei 168 Grad Rotation hergestellt.\n",
      "Pinguinwürfel bei 169 Grad Rotation hergestellt.\n",
      "Pinguinwürfel bei 170 Grad Rotation hergestellt.\n",
      "Pinguinwürfel bei 171 Grad Rotation hergestellt.\n",
      "Pinguinwürfel bei 172 Grad Rotation hergestellt.\n",
      "Pinguinwürfel bei 173 Grad Rotation hergestellt.\n",
      "Pinguinwürfel bei 174 Grad Rotation hergestellt.\n",
      "Pinguinwürfel bei 175 Grad Rotation hergestellt.\n",
      "Pinguinwürfel bei 176 Grad Rotation hergestellt.\n",
      "Pinguinwürfel bei 177 Grad Rotation hergestellt.\n",
      "Pinguinwürfel bei 178 Grad Rotation hergestellt.\n",
      "Pinguinwürfel bei 179 Grad Rotation hergestellt.\n",
      "Pinguinwürfel bei 180 Grad Rotation hergestellt.\n",
      "Pinguinwürfel bei 181 Grad Rotation hergestellt.\n",
      "Pinguinwürfel bei 182 Grad Rotation hergestellt.\n",
      "Pinguinwürfel bei 183 Grad Rotation hergestellt.\n",
      "Pinguinwürfel bei 184 Grad Rotation hergestellt.\n",
      "Pinguinwürfel bei 185 Grad Rotation hergestellt.\n",
      "Pinguinwürfel bei 186 Grad Rotation hergestellt.\n",
      "Pinguinwürfel bei 187 Grad Rotation hergestellt.\n",
      "Pinguinwürfel bei 188 Grad Rotation hergestellt.\n",
      "Pinguinwürfel bei 189 Grad Rotation hergestellt.\n",
      "Pinguinwürfel bei 190 Grad Rotation hergestellt.\n",
      "Pinguinwürfel bei 191 Grad Rotation hergestellt.\n",
      "Pinguinwürfel bei 192 Grad Rotation hergestellt.\n",
      "Pinguinwürfel bei 193 Grad Rotation hergestellt.\n",
      "Pinguinwürfel bei 194 Grad Rotation hergestellt.\n",
      "Pinguinwürfel bei 195 Grad Rotation hergestellt.\n",
      "Pinguinwürfel bei 196 Grad Rotation hergestellt.\n",
      "Pinguinwürfel bei 197 Grad Rotation hergestellt.\n",
      "Pinguinwürfel bei 198 Grad Rotation hergestellt.\n",
      "Pinguinwürfel bei 199 Grad Rotation hergestellt.\n",
      "Pinguinwürfel bei 200 Grad Rotation hergestellt.\n",
      "Pinguinwürfel bei 201 Grad Rotation hergestellt.\n",
      "Pinguinwürfel bei 202 Grad Rotation hergestellt.\n",
      "Pinguinwürfel bei 203 Grad Rotation hergestellt.\n",
      "Pinguinwürfel bei 204 Grad Rotation hergestellt.\n",
      "Pinguinwürfel bei 205 Grad Rotation hergestellt.\n",
      "Pinguinwürfel bei 206 Grad Rotation hergestellt.\n",
      "Pinguinwürfel bei 207 Grad Rotation hergestellt.\n",
      "Pinguinwürfel bei 208 Grad Rotation hergestellt.\n",
      "Pinguinwürfel bei 209 Grad Rotation hergestellt.\n",
      "Pinguinwürfel bei 210 Grad Rotation hergestellt.\n",
      "Pinguinwürfel bei 211 Grad Rotation hergestellt.\n",
      "Pinguinwürfel bei 212 Grad Rotation hergestellt.\n",
      "Pinguinwürfel bei 213 Grad Rotation hergestellt.\n",
      "Pinguinwürfel bei 214 Grad Rotation hergestellt.\n",
      "Pinguinwürfel bei 215 Grad Rotation hergestellt.\n",
      "Pinguinwürfel bei 216 Grad Rotation hergestellt.\n",
      "Pinguinwürfel bei 217 Grad Rotation hergestellt.\n",
      "Pinguinwürfel bei 218 Grad Rotation hergestellt.\n",
      "Pinguinwürfel bei 219 Grad Rotation hergestellt.\n",
      "Pinguinwürfel bei 220 Grad Rotation hergestellt.\n",
      "Pinguinwürfel bei 221 Grad Rotation hergestellt.\n",
      "Pinguinwürfel bei 222 Grad Rotation hergestellt.\n",
      "Pinguinwürfel bei 223 Grad Rotation hergestellt.\n",
      "Pinguinwürfel bei 224 Grad Rotation hergestellt.\n",
      "Pinguinwürfel bei 225 Grad Rotation hergestellt.\n",
      "Pinguinwürfel bei 226 Grad Rotation hergestellt.\n",
      "Pinguinwürfel bei 227 Grad Rotation hergestellt.\n",
      "Pinguinwürfel bei 228 Grad Rotation hergestellt.\n",
      "Pinguinwürfel bei 229 Grad Rotation hergestellt.\n",
      "Pinguinwürfel bei 230 Grad Rotation hergestellt.\n",
      "Pinguinwürfel bei 231 Grad Rotation hergestellt.\n",
      "Pinguinwürfel bei 232 Grad Rotation hergestellt.\n",
      "Pinguinwürfel bei 233 Grad Rotation hergestellt.\n",
      "Pinguinwürfel bei 234 Grad Rotation hergestellt.\n",
      "Pinguinwürfel bei 235 Grad Rotation hergestellt.\n",
      "Pinguinwürfel bei 236 Grad Rotation hergestellt.\n",
      "Pinguinwürfel bei 237 Grad Rotation hergestellt.\n",
      "Pinguinwürfel bei 238 Grad Rotation hergestellt.\n",
      "Pinguinwürfel bei 239 Grad Rotation hergestellt.\n",
      "Pinguinwürfel bei 240 Grad Rotation hergestellt.\n",
      "Pinguinwürfel bei 241 Grad Rotation hergestellt.\n",
      "Pinguinwürfel bei 242 Grad Rotation hergestellt.\n",
      "Pinguinwürfel bei 243 Grad Rotation hergestellt.\n",
      "Pinguinwürfel bei 244 Grad Rotation hergestellt.\n",
      "Pinguinwürfel bei 245 Grad Rotation hergestellt.\n",
      "Pinguinwürfel bei 246 Grad Rotation hergestellt.\n",
      "Pinguinwürfel bei 247 Grad Rotation hergestellt.\n",
      "Pinguinwürfel bei 248 Grad Rotation hergestellt.\n",
      "Pinguinwürfel bei 249 Grad Rotation hergestellt.\n",
      "Pinguinwürfel bei 250 Grad Rotation hergestellt.\n",
      "Pinguinwürfel bei 251 Grad Rotation hergestellt.\n",
      "Pinguinwürfel bei 252 Grad Rotation hergestellt.\n",
      "Pinguinwürfel bei 253 Grad Rotation hergestellt.\n",
      "Pinguinwürfel bei 254 Grad Rotation hergestellt.\n",
      "Pinguinwürfel bei 255 Grad Rotation hergestellt.\n",
      "Pinguinwürfel bei 256 Grad Rotation hergestellt.\n",
      "Pinguinwürfel bei 257 Grad Rotation hergestellt.\n",
      "Pinguinwürfel bei 258 Grad Rotation hergestellt.\n",
      "Pinguinwürfel bei 259 Grad Rotation hergestellt.\n",
      "Pinguinwürfel bei 260 Grad Rotation hergestellt.\n",
      "Pinguinwürfel bei 261 Grad Rotation hergestellt.\n",
      "Pinguinwürfel bei 262 Grad Rotation hergestellt.\n",
      "Pinguinwürfel bei 263 Grad Rotation hergestellt.\n",
      "Pinguinwürfel bei 264 Grad Rotation hergestellt.\n",
      "Pinguinwürfel bei 265 Grad Rotation hergestellt.\n",
      "Pinguinwürfel bei 266 Grad Rotation hergestellt.\n",
      "Pinguinwürfel bei 267 Grad Rotation hergestellt.\n",
      "Pinguinwürfel bei 268 Grad Rotation hergestellt.\n",
      "Pinguinwürfel bei 269 Grad Rotation hergestellt.\n",
      "Pinguinwürfel bei 270 Grad Rotation hergestellt.\n",
      "Pinguinwürfel bei 271 Grad Rotation hergestellt.\n",
      "Pinguinwürfel bei 272 Grad Rotation hergestellt.\n",
      "Pinguinwürfel bei 273 Grad Rotation hergestellt.\n",
      "Pinguinwürfel bei 274 Grad Rotation hergestellt.\n",
      "Pinguinwürfel bei 275 Grad Rotation hergestellt.\n",
      "Pinguinwürfel bei 276 Grad Rotation hergestellt.\n",
      "Pinguinwürfel bei 277 Grad Rotation hergestellt.\n",
      "Pinguinwürfel bei 278 Grad Rotation hergestellt.\n",
      "Pinguinwürfel bei 279 Grad Rotation hergestellt.\n",
      "Pinguinwürfel bei 280 Grad Rotation hergestellt.\n",
      "Pinguinwürfel bei 281 Grad Rotation hergestellt.\n",
      "Pinguinwürfel bei 282 Grad Rotation hergestellt.\n",
      "Pinguinwürfel bei 283 Grad Rotation hergestellt.\n",
      "Pinguinwürfel bei 284 Grad Rotation hergestellt.\n",
      "Pinguinwürfel bei 285 Grad Rotation hergestellt.\n",
      "Pinguinwürfel bei 286 Grad Rotation hergestellt.\n",
      "Pinguinwürfel bei 287 Grad Rotation hergestellt.\n",
      "Pinguinwürfel bei 288 Grad Rotation hergestellt.\n",
      "Pinguinwürfel bei 289 Grad Rotation hergestellt.\n",
      "Pinguinwürfel bei 290 Grad Rotation hergestellt.\n",
      "Pinguinwürfel bei 291 Grad Rotation hergestellt.\n",
      "Pinguinwürfel bei 292 Grad Rotation hergestellt.\n",
      "Pinguinwürfel bei 293 Grad Rotation hergestellt.\n",
      "Pinguinwürfel bei 294 Grad Rotation hergestellt.\n",
      "Pinguinwürfel bei 295 Grad Rotation hergestellt.\n",
      "Pinguinwürfel bei 296 Grad Rotation hergestellt.\n",
      "Pinguinwürfel bei 297 Grad Rotation hergestellt.\n",
      "Pinguinwürfel bei 298 Grad Rotation hergestellt.\n",
      "Pinguinwürfel bei 299 Grad Rotation hergestellt.\n",
      "Pinguinwürfel bei 300 Grad Rotation hergestellt.\n",
      "Pinguinwürfel bei 301 Grad Rotation hergestellt.\n",
      "Pinguinwürfel bei 302 Grad Rotation hergestellt.\n",
      "Pinguinwürfel bei 303 Grad Rotation hergestellt.\n",
      "Pinguinwürfel bei 304 Grad Rotation hergestellt.\n",
      "Pinguinwürfel bei 305 Grad Rotation hergestellt.\n",
      "Pinguinwürfel bei 306 Grad Rotation hergestellt.\n",
      "Pinguinwürfel bei 307 Grad Rotation hergestellt.\n",
      "Pinguinwürfel bei 308 Grad Rotation hergestellt.\n",
      "Pinguinwürfel bei 309 Grad Rotation hergestellt.\n",
      "Pinguinwürfel bei 310 Grad Rotation hergestellt.\n",
      "Pinguinwürfel bei 311 Grad Rotation hergestellt.\n",
      "Pinguinwürfel bei 312 Grad Rotation hergestellt.\n",
      "Pinguinwürfel bei 313 Grad Rotation hergestellt.\n",
      "Pinguinwürfel bei 314 Grad Rotation hergestellt.\n",
      "Pinguinwürfel bei 315 Grad Rotation hergestellt.\n",
      "Pinguinwürfel bei 316 Grad Rotation hergestellt.\n",
      "Pinguinwürfel bei 317 Grad Rotation hergestellt.\n",
      "Pinguinwürfel bei 318 Grad Rotation hergestellt.\n",
      "Pinguinwürfel bei 319 Grad Rotation hergestellt.\n",
      "Pinguinwürfel bei 320 Grad Rotation hergestellt.\n",
      "Pinguinwürfel bei 321 Grad Rotation hergestellt.\n",
      "Pinguinwürfel bei 322 Grad Rotation hergestellt.\n",
      "Pinguinwürfel bei 323 Grad Rotation hergestellt.\n",
      "Pinguinwürfel bei 324 Grad Rotation hergestellt.\n",
      "Pinguinwürfel bei 325 Grad Rotation hergestellt.\n",
      "Pinguinwürfel bei 326 Grad Rotation hergestellt.\n",
      "Pinguinwürfel bei 327 Grad Rotation hergestellt.\n",
      "Pinguinwürfel bei 328 Grad Rotation hergestellt.\n",
      "Pinguinwürfel bei 329 Grad Rotation hergestellt.\n",
      "Pinguinwürfel bei 330 Grad Rotation hergestellt.\n",
      "Pinguinwürfel bei 331 Grad Rotation hergestellt.\n",
      "Pinguinwürfel bei 332 Grad Rotation hergestellt.\n",
      "Pinguinwürfel bei 333 Grad Rotation hergestellt.\n",
      "Pinguinwürfel bei 334 Grad Rotation hergestellt.\n",
      "Pinguinwürfel bei 335 Grad Rotation hergestellt.\n",
      "Pinguinwürfel bei 336 Grad Rotation hergestellt.\n",
      "Pinguinwürfel bei 337 Grad Rotation hergestellt.\n",
      "Pinguinwürfel bei 338 Grad Rotation hergestellt.\n",
      "Pinguinwürfel bei 339 Grad Rotation hergestellt.\n",
      "Pinguinwürfel bei 340 Grad Rotation hergestellt.\n",
      "Pinguinwürfel bei 341 Grad Rotation hergestellt.\n",
      "Pinguinwürfel bei 342 Grad Rotation hergestellt.\n",
      "Pinguinwürfel bei 343 Grad Rotation hergestellt.\n",
      "Pinguinwürfel bei 344 Grad Rotation hergestellt.\n",
      "Pinguinwürfel bei 345 Grad Rotation hergestellt.\n",
      "Pinguinwürfel bei 346 Grad Rotation hergestellt.\n",
      "Pinguinwürfel bei 347 Grad Rotation hergestellt.\n",
      "Pinguinwürfel bei 348 Grad Rotation hergestellt.\n",
      "Pinguinwürfel bei 349 Grad Rotation hergestellt.\n",
      "Pinguinwürfel bei 350 Grad Rotation hergestellt.\n",
      "Pinguinwürfel bei 351 Grad Rotation hergestellt.\n",
      "Pinguinwürfel bei 352 Grad Rotation hergestellt.\n",
      "Pinguinwürfel bei 353 Grad Rotation hergestellt.\n",
      "Pinguinwürfel bei 354 Grad Rotation hergestellt.\n",
      "Pinguinwürfel bei 355 Grad Rotation hergestellt.\n",
      "Pinguinwürfel bei 356 Grad Rotation hergestellt.\n",
      "Pinguinwürfel bei 357 Grad Rotation hergestellt.\n",
      "Pinguinwürfel bei 358 Grad Rotation hergestellt.\n",
      "Pinguinwürfel bei 359 Grad Rotation hergestellt.\n"
     ]
    }
   ],
   "execution_count": 97
  },
  {
   "metadata": {
    "ExecuteTime": {
     "end_time": "2025-03-04T10:35:05.579086Z",
     "start_time": "2025-03-04T10:34:55.441260Z"
    }
   },
   "cell_type": "code",
   "source": [
    "# Und jetzt wieder zu einem Gif zusammenfügen!\n",
    "images = []\n",
    "base_path = 'rotating_penguins'\n",
    "\n",
    "for file in os.listdir(base_path):\n",
    "\tif file.endswith('png'):\n",
    "\t\tfile_path = os.path.join(base_path, file)\n",
    "\t\timageio_file = iio.imread(file_path)\n",
    "\t\timages.append(imageio_file)\n",
    "\n",
    "imageio.mimsave(\n",
    "\tr'rotating_penguins/rotating_penguins.gif',\n",
    "\timages,\n",
    "\tduration=100,\n",
    "\tloop=0\n",
    ")\n",
    "# Würfel läuft nun flüssig!"
   ],
   "outputs": [],
   "execution_count": 98
  },
  {
   "cell_type": "markdown",
   "source": [
    "# Übung"
   ],
   "metadata": {
    "collapsed": false
   }
  },
  {
   "cell_type": "markdown",
   "source": [
    "Du willst den Kursfortschritt bei DataCraft in einer Grafik darstellen und willst dafür eintragen, wie viele Stunden du dich mit den verschiedenen Programmen beschäftigt hast. Jeder Tag im Curriculum steht hierbei für 8 Stunden Erfahrung mit einem Programm.\n",
    "\n",
    "Zum Start solltest du ein leeres Diagramm vorbereitet haben, in welchem die Balken \"Excel\", \"Python\" und \"SQL\" jeweils bei 0 sind. Danach sollten getrennt in dieser Reihenfolge die Programme wie folgt ansteigen:\n",
    "- 15 Tage Excel\n",
    "- 40 Tage Python\n",
    "- 28 Tage SQL\n",
    "\n",
    "Insgesamt sollten also 83 Bilder entstehen, in welchen das Säulendiagramm Stück für Stück größer wird. Achte dabei, dass von Anfang an die passenden Titel, Labels und Ticks gesetzt sind. Probiere aus, ob es ebenfalls Sinn ergibt, die Ticks vorab festzulegen oder ob sich diese \"natürlich\" entwickeln sollen. Als Tipp: Du kannst hierfür in 3 getrennten Schleifen diese Bilderreihen für die einzelnen Programme erstellen und ganz zum Schluss über alle Bilder mit imageio das GIF erstellen."
   ],
   "metadata": {
    "collapsed": false
   }
  },
  {
   "cell_type": "code",
   "source": [
    "# Ordner erstellen:\n",
    "folder_list = ['kursfortschritt', 'kursfortschritt/excel',\n",
    "\t\t\t   'kursfortschritt/python', 'kursfortschritt/sql']\n",
    "\n",
    "for folder in folder_list:\n",
    "\tif not os.path.exists(folder):\n",
    "\t\tos.mkdir(folder)\n",
    "\t\tprint(f\"Ordner {folder} wurde angelegt!\")"
   ],
   "metadata": {
    "collapsed": false,
    "ExecuteTime": {
     "end_time": "2025-03-04T10:40:10.640913Z",
     "start_time": "2025-03-04T10:40:10.632636Z"
    }
   },
   "outputs": [
    {
     "name": "stdout",
     "output_type": "stream",
     "text": [
      "Ordner kursfortschritt wurde angelegt!\n",
      "Ordner kursfortschritt/excel wurde angelegt!\n",
      "Ordner kursfortschritt/python wurde angelegt!\n",
      "Ordner kursfortschritt/sql wurde angelegt!\n"
     ]
    }
   ],
   "execution_count": 99
  },
  {
   "cell_type": "code",
   "source": [
    "num_hours = 8\n",
    "excel = np.linspace(0 * num_hours, 15 * num_hours, 16)\n",
    "python = np.linspace(0 * num_hours, 40 * num_hours, 41)\n",
    "sql = np.linspace(0 * num_hours, 28 * num_hours, 29)"
   ],
   "metadata": {
    "collapsed": false,
    "ExecuteTime": {
     "end_time": "2025-03-04T10:40:19.910584Z",
     "start_time": "2025-03-04T10:40:19.905982Z"
    }
   },
   "outputs": [],
   "execution_count": 100
  },
  {
   "cell_type": "code",
   "source": [
    "# Programme\n",
    "programme = ['Excel', 'Python', 'SQL']"
   ],
   "metadata": {
    "collapsed": false,
    "ExecuteTime": {
     "end_time": "2025-03-04T10:40:28.458978Z",
     "start_time": "2025-03-04T10:40:28.455216Z"
    }
   },
   "outputs": [],
   "execution_count": 101
  },
  {
   "cell_type": "code",
   "source": [
    "# Bilder erstellen Excel\n",
    "for index, hour in enumerate(excel):\n",
    "\tfig, ax = plt.subplots()\n",
    "\tvalues = [excel[index], python[0], sql[0]]\n",
    "\tax.bar(programme, values)\n",
    "\tax.set_xlabel(\"Programm\")\n",
    "\tax.set_ylabel(\"Kenntnisse in Stunden\")\n",
    "\tax.set_title(\"Ablauf Datacraft\")\n",
    "\tplt.savefig(fr\"kursfortschritt/excel/bild{index:0>4}.png\", dpi=96)\n",
    "\tplt.close()"
   ],
   "metadata": {
    "collapsed": false,
    "ExecuteTime": {
     "end_time": "2025-03-04T10:40:49.762510Z",
     "start_time": "2025-03-04T10:40:47.642615Z"
    }
   },
   "outputs": [],
   "execution_count": 102
  },
  {
   "metadata": {
    "ExecuteTime": {
     "end_time": "2025-03-04T10:40:59.147855Z",
     "start_time": "2025-03-04T10:40:54.781597Z"
    }
   },
   "cell_type": "code",
   "source": [
    "# Bilder erstellen Python\n",
    "for index, hour in enumerate(python):\n",
    "\tfig, ax = plt.subplots()\n",
    "\tax.bar(['Excel', 'Python', 'SQL'], [excel[-1], python[index], sql[0]])\n",
    "\tax.set_xlabel(\"Programm\")\n",
    "\tax.set_ylabel(\"Kenntnisse in Stunden\")\n",
    "\tax.set_title(\"Ablauf Datacraft\")\n",
    "\tplt.savefig(fr\"kursfortschritt/python/bild{index:0>4}.png\", dpi=96)\n",
    "\tplt.close()"
   ],
   "outputs": [],
   "execution_count": 103
  },
  {
   "metadata": {
    "ExecuteTime": {
     "end_time": "2025-03-04T10:41:06.919464Z",
     "start_time": "2025-03-04T10:41:03.457198Z"
    }
   },
   "cell_type": "code",
   "source": [
    "# Bilder erstellen SQL\n",
    "for index, hour in enumerate(sql):\n",
    "\tfig, ax = plt.subplots()\n",
    "\tax.bar(['Excel', 'Python', 'SQL'], [excel[-1], python[-1], sql[index]])\n",
    "\tax.set_xlabel(\"Programm\")\n",
    "\tax.set_ylabel(\"Kenntnisse in Stunden\")\n",
    "\tax.set_title(\"Ablauf Datacraft\")\n",
    "\tplt.savefig(fr\"kursfortschritt/sql/bild{index:0>4}.png\", dpi=96)\n",
    "\tplt.close()"
   ],
   "outputs": [],
   "execution_count": 104
  },
  {
   "metadata": {
    "ExecuteTime": {
     "end_time": "2025-03-04T10:41:15.057092Z",
     "start_time": "2025-03-04T10:41:12.970329Z"
    }
   },
   "cell_type": "code",
   "source": [
    "# Und jetzt wieder zu einem Gif einfügen!\n",
    "images = []\n",
    "path = r\"kursfortschritt\"\n",
    "for file in os.listdir(f\"{path}/excel\"):\n",
    "\tif file.endswith(\"png\"):\n",
    "\t\timages.append(iio.imread(f\"{path}/excel/{file}\"))\n",
    "for file in os.listdir(f\"{path}/python\"):\n",
    "\tif file.endswith(\"png\"):\n",
    "\t\timages.append(iio.imread(f\"{path}/python/{file}\"))\n",
    "for file in os.listdir(f\"{path}/sql\"):\n",
    "\tif file.endswith(\"png\"):\n",
    "\t\timages.append(iio.imread(f\"{path}/sql/{file}\"))\n",
    "\n",
    "imageio.mimsave(f\"{path}/movie.gif\", images, duration=500)"
   ],
   "outputs": [],
   "execution_count": 105
  }
 ],
 "metadata": {
  "kernelspec": {
   "display_name": "Python 3",
   "language": "python",
   "name": "python3"
  },
  "language_info": {
   "codemirror_mode": {
    "name": "ipython",
    "version": 2
   },
   "file_extension": ".py",
   "mimetype": "text/x-python",
   "name": "python",
   "nbconvert_exporter": "python",
   "pygments_lexer": "ipython2",
   "version": "2.7.6"
  }
 },
 "nbformat": 4,
 "nbformat_minor": 0
}
