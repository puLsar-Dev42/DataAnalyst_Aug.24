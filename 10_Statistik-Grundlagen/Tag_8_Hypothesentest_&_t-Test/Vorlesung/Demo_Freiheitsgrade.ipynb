{
 "cells": [
  {
   "metadata": {
    "ExecuteTime": {
     "end_time": "2025-02-12T18:14:57.111956Z",
     "start_time": "2025-02-12T18:14:57.108294Z"
    }
   },
   "cell_type": "code",
   "source": "data = [1, 5, 3, 6, 4]",
   "id": "947c113fbd9072f0",
   "outputs": [],
   "execution_count": 1
  },
  {
   "metadata": {
    "ExecuteTime": {
     "end_time": "2025-02-12T18:15:22.993762Z",
     "start_time": "2025-02-12T18:15:22.989915Z"
    }
   },
   "cell_type": "code",
   "source": [
    "mean = sum(data)/ len(data)\n",
    "print(mean)"
   ],
   "id": "5a2110353265ee22",
   "outputs": [
    {
     "name": "stdout",
     "output_type": "stream",
     "text": [
      "3.8\n"
     ]
    }
   ],
   "execution_count": 3
  },
  {
   "metadata": {},
   "cell_type": "code",
   "outputs": [],
   "execution_count": null,
   "source": [
    "# Behauptung: Ich kann eine beliebige Zahl aus der Reihe entfernen\n",
    "# und diese unter Hinzunahme des Mittelwerts rekonstruieren!"
   ],
   "id": "68062827ef6d4853"
  },
  {
   "metadata": {
    "ExecuteTime": {
     "end_time": "2025-02-12T18:16:18.230129Z",
     "start_time": "2025-02-12T18:16:18.225434Z"
    }
   },
   "cell_type": "code",
   "source": "data.remove(5)",
   "id": "70cf8e1addc7654f",
   "outputs": [],
   "execution_count": 5
  },
  {
   "metadata": {
    "ExecuteTime": {
     "end_time": "2025-02-12T18:16:20.166029Z",
     "start_time": "2025-02-12T18:16:20.160346Z"
    }
   },
   "cell_type": "code",
   "source": "data",
   "id": "1bd8e95420aadb7b",
   "outputs": [
    {
     "data": {
      "text/plain": [
       "[1, 3, 6, 4]"
      ]
     },
     "execution_count": 6,
     "metadata": {},
     "output_type": "execute_result"
    }
   ],
   "execution_count": 6
  },
  {
   "metadata": {},
   "cell_type": "code",
   "outputs": [],
   "execution_count": null,
   "source": [
    "# Idee: x ist unbekannt, aber ist ja vorher mit in die Berechnung von mean geflossen.\n",
    "# Also stellen wir die Formel auf und stellen dann um!\n",
    "# (1 + 3 + 6 + 4 + x)/n = mean\n",
    "# 1 + 3 + 6 + 4 + x = n * mean\n",
    "# x = n*mean - (1 + 3 + 6 + 4)"
   ],
   "id": "31dc86c9ce98fcea"
  },
  {
   "metadata": {
    "ExecuteTime": {
     "end_time": "2025-02-12T18:21:54.510281Z",
     "start_time": "2025-02-12T18:21:54.505331Z"
    }
   },
   "cell_type": "code",
   "source": [
    "x = 5 * mean - (1 + 3 + 6 + 4)\n",
    "x"
   ],
   "id": "dcf18436d6d5f177",
   "outputs": [
    {
     "data": {
      "text/plain": [
       "5.0"
      ]
     },
     "execution_count": 12,
     "metadata": {},
     "output_type": "execute_result"
    }
   ],
   "execution_count": 12
  }
 ],
 "metadata": {
  "kernelspec": {
   "name": "python3",
   "language": "python",
   "display_name": "Python 3 (ipykernel)"
  }
 },
 "nbformat": 5,
 "nbformat_minor": 9
}
