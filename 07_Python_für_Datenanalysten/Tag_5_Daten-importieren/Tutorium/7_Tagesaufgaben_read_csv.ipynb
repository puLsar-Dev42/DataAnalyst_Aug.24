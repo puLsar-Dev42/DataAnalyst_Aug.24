{
 "cells": [
  {
   "cell_type": "code",
   "execution_count": 46,
   "id": "initial_id",
   "metadata": {
    "collapsed": true,
    "ExecuteTime": {
     "end_time": "2024-01-29T16:58:10.938129Z",
     "start_time": "2024-01-29T16:58:10.921021500Z"
    }
   },
   "outputs": [],
   "source": [
    "# Importiere, was du so fürs Leben brauchst ;)\n"
   ]
  },
  {
   "cell_type": "markdown",
   "source": [
    "Aufgabe 1:\n",
    "Lade den Datensatz \"Data Science Salaries 2024\" [hier](https://www.kaggle.com/datasets/sazidthe1/data-science-salaries) herunter, lade ihn mit Pandas und speichere das Ergebnis in die Variabel salaries."
   ],
   "metadata": {
    "collapsed": false
   },
   "id": "5f917597a84470aa"
  },
  {
   "cell_type": "code",
   "outputs": [],
   "source": [],
   "metadata": {
    "collapsed": false
   },
   "id": "f9f1393a986a7bf1"
  },
  {
   "cell_type": "markdown",
   "source": [
    "Aufgabe 2:\n",
    "Lasse dir Informationen über Spalten und Verbrauch an Arbeitsspeicher \n",
    "ausgeben, bitte als Kurzzusammenfassung (keine Zeile für jede Spalte!)"
   ],
   "metadata": {
    "collapsed": false
   },
   "id": "6f4bb8a361d882f4"
  },
  {
   "cell_type": "code",
   "outputs": [],
   "source": [],
   "metadata": {
    "collapsed": false
   },
   "id": "eed65a333aaf6116"
  },
  {
   "cell_type": "markdown",
   "source": [
    "Aufgabe 3:\n",
    "Lasse dir die Größe des Dataframes (Anzahl Einträge) ausgeben.\n",
    "Lasse dir außerdem auch seine Anzahl Spalten und Zeilen anzeigen.\n",
    "Selektiere außerdem zur Übung einmal folgende Spalten: job_title, \n",
    "experience_level und salary_in_usd"
   ],
   "metadata": {
    "collapsed": false
   },
   "id": "ebd7913dcd252410"
  },
  {
   "cell_type": "code",
   "outputs": [],
   "source": [],
   "metadata": {
    "collapsed": false
   },
   "id": "72aef3ff0ddb3819"
  },
  {
   "cell_type": "markdown",
   "source": [
    "Aufgabe 4:\n",
    "Lasse dir eine statistische Übersicht über den gesamten Datensatz ausgeben.\n",
    "Wieso findest du dort nicht alle Spalten?"
   ],
   "metadata": {
    "collapsed": false
   },
   "id": "213d27c3059fd6b6"
  },
  {
   "cell_type": "code",
   "outputs": [],
   "source": [],
   "metadata": {
    "collapsed": false
   },
   "id": "b319cf46917a7c57"
  },
  {
   "cell_type": "markdown",
   "source": [
    "Aufgabe 5:\n",
    "Lasse dir die oberen sechs Einträge anzeigen. Lasse dir ferner die unteren \n",
    "10 anzeigen. Ziehe schließlich eine Stichprobe mit random state 42, die 20 \n",
    "Menschen umfasst und speichere sie in tech_sample. Vergleiche die Personen \n",
    "in der Stichprobe mit deinen Kollegen aus der Gruppe!"
   ],
   "metadata": {
    "collapsed": false
   },
   "id": "2914fd5559de1121"
  },
  {
   "cell_type": "code",
   "outputs": [],
   "source": [],
   "metadata": {
    "collapsed": false
   },
   "id": "1dba5ef3b608fa29"
  },
  {
   "cell_type": "markdown",
   "source": [
    "Aufgabe 6:\n",
    "In wie vielen unterschiedlichen Ländern arbeiten die hier erfassten Personen?"
   ],
   "metadata": {
    "collapsed": false
   },
   "id": "cc339936baec1b9e"
  },
  {
   "cell_type": "code",
   "outputs": [],
   "source": [],
   "metadata": {
    "collapsed": false
   },
   "id": "684d377d441ec241"
  },
  {
   "cell_type": "markdown",
   "source": [
    "Aufgabe 7:\n",
    "Was sind die fünf Länder mit den meisten im Datensatz erfassten \n",
    "Tech-Arbeitern?"
   ],
   "metadata": {
    "collapsed": false
   },
   "id": "a79dd7d436076c4c"
  },
  {
   "cell_type": "code",
   "outputs": [],
   "source": [],
   "metadata": {
    "collapsed": false
   },
   "id": "ece0d1dd0fc1013e"
  },
  {
   "cell_type": "markdown",
   "source": [
    "Aufgabe 8:\n",
    "Wie viele verschiedene Jobrollen gibt es?"
   ],
   "metadata": {
    "collapsed": false
   },
   "id": "b5bb1bf48300edb6"
  },
  {
   "cell_type": "code",
   "outputs": [],
   "source": [],
   "metadata": {
    "collapsed": false
   },
   "id": "bbd0504dc3eddaab"
  },
  {
   "cell_type": "markdown",
   "source": [
    "Aufgabe 9:\n",
    "Wie viele Personen gibt es, die AI Engineers sind?\n",
    "Löse, ohne durch Output gehen zu müssen!"
   ],
   "metadata": {
    "collapsed": false
   },
   "id": "6338128b63833766"
  },
  {
   "cell_type": "code",
   "outputs": [],
   "source": [],
   "metadata": {
    "collapsed": false
   },
   "id": "7fdcc84f6ab83f03"
  },
  {
   "cell_type": "markdown",
   "source": [
    "Aufgabe 10:\n",
    "Lass dir die statistische Zusammenfassung der Gehälter in US-Dollar ausgeben"
   ],
   "metadata": {
    "collapsed": false
   },
   "id": "ba620eaaf4bcf08c"
  },
  {
   "cell_type": "code",
   "outputs": [],
   "source": [],
   "metadata": {
    "collapsed": false
   },
   "id": "48a3827ebdf7cce5"
  },
  {
   "cell_type": "markdown",
   "source": [
    "Aufgabe 11:\n",
    "Erstelle eine Spalte mit Gehaltskategorien (salary_level)\n",
    "* low income: unter 30000\n",
    "* middle income: über 30000, aber unter 80000\n",
    "* high income: über 80000"
   ],
   "metadata": {
    "collapsed": false
   },
   "id": "f4800a165830912b"
  },
  {
   "cell_type": "code",
   "outputs": [],
   "source": [],
   "metadata": {
    "collapsed": false
   },
   "id": "fc4f1343ffb94022"
  },
  {
   "cell_type": "markdown",
   "source": [
    "\n",
    "Aufgabe 12:\n",
    "Zähle nun die Einkommensklassen, aber lasse sie Anteile am Gesamt-Datensatz \n",
    "ausgeben!"
   ],
   "metadata": {
    "collapsed": false
   },
   "id": "9c9e536599be36ca"
  },
  {
   "cell_type": "code",
   "outputs": [],
   "source": [],
   "metadata": {
    "collapsed": false
   },
   "id": "48cff55b4c1966f4"
  },
  {
   "cell_type": "markdown",
   "source": [
    "Aufgabe 13:\n",
    "Hey, du hast einen Datensatz und weißt schon so Manches damit anzufangen! \n",
    "Niemand hindert dich, weiter deine Künste daran auszuprobieren und \n",
    "Fragenstellungen nachzugehen, die dich interessieren. In dem Sinne: Viel \n",
    "Spaß mit Aufgabe 13! ;)"
   ],
   "metadata": {
    "collapsed": false
   },
   "id": "b9fcb8caf21650dc"
  },
  {
   "cell_type": "code",
   "outputs": [],
   "source": [],
   "metadata": {
    "collapsed": false
   },
   "id": "461fa476d698f618"
  },
  {
   "cell_type": "code",
   "outputs": [],
   "source": [],
   "metadata": {
    "collapsed": false
   },
   "id": "4f0cff164a417d56"
  },
  {
   "cell_type": "code",
   "outputs": [],
   "source": [],
   "metadata": {
    "collapsed": false
   },
   "id": "68953d8dc1936e14"
  },
  {
   "cell_type": "code",
   "outputs": [],
   "source": [],
   "metadata": {
    "collapsed": false
   },
   "id": "fe224af534d6348e"
  }
 ],
 "metadata": {
  "kernelspec": {
   "display_name": "Python 3",
   "language": "python",
   "name": "python3"
  },
  "language_info": {
   "codemirror_mode": {
    "name": "ipython",
    "version": 2
   },
   "file_extension": ".py",
   "mimetype": "text/x-python",
   "name": "python",
   "nbconvert_exporter": "python",
   "pygments_lexer": "ipython2",
   "version": "2.7.6"
  }
 },
 "nbformat": 4,
 "nbformat_minor": 5
}
