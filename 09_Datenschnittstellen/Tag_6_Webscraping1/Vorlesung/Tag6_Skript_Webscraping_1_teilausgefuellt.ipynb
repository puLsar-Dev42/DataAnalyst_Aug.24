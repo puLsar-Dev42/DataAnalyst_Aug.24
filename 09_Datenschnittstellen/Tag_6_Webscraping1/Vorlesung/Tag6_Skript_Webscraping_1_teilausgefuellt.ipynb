{
 "cells": [
  {
   "cell_type": "markdown",
   "metadata": {
    "collapsed": false
   },
   "source": [
    "# Skript: Webscraping mit BeautifulSoup\n",
    "\n",
    "Benötigt werden:\n",
    "\n",
    "* Pakete `requests` und `bs4`\n",
    "\n",
    "* Grundverständnis von HTML\n",
    "\n",
    "### Achtung!\n",
    "\n",
    "Vor jedem Webscraping stellen wir uns folgende Fragen:\n",
    "- Gibt es auf der Webseite stattdessen eine API, auf welche wir zugreifen können? Das erspart uns Arbeit.\n",
    "- Verbietet die Webseite das Scrapen von Daten? (`/robots.txt` überprüfen)\n",
    "\n",
    "## Beautiful Soup 4\n",
    "\n",
    "Dieses Modul kann HTML-Text auslesen und alle Informationen extrahieren. Wir können aus einem  BeautifulSoup-Objekt dann die Schnipsel holen, die für uns Wert haben. Das Modul müssen wir zunächst installieren. Achtung! Installiert wird es unter dem Namen `beautifulsoup4`, importiert wird es jedoch unter `bs4`! Wir können conda für die Installation nutzen."
   ]
  },
  {
   "cell_type": "code",
   "metadata": {
    "collapsed": false,
    "ExecuteTime": {
     "end_time": "2025-01-24T07:43:04.169216Z",
     "start_time": "2025-01-24T07:43:01.412673Z"
    }
   },
   "source": [
    "# Modulimporte\n",
    "import pandas as pd\n",
    "import requests\n",
    "import bs4\n",
    "from bs4 import BeautifulSoup"
   ],
   "outputs": [],
   "execution_count": 1
  },
  {
   "cell_type": "code",
   "metadata": {
    "ExecuteTime": {
     "end_time": "2025-01-24T07:43:13.474579Z",
     "start_time": "2025-01-24T07:43:13.468658Z"
    }
   },
   "source": [
    "# Beispiel-HTML:\n",
    "html = '''<section><article><h1>Test-Artikel</h1><p>Dies ist ein Beispiel-Artikel in HTML-Form.</p><p>Absatz 2.</p></article></section>'''\n",
    "print(html)"
   ],
   "outputs": [
    {
     "name": "stdout",
     "output_type": "stream",
     "text": [
      "<section><article><h1>Test-Artikel</h1><p>Dies ist ein Beispiel-Artikel in HTML-Form.</p><p>Absatz 2.</p></article></section>\n"
     ]
    }
   ],
   "execution_count": 2
  },
  {
   "cell_type": "code",
   "metadata": {
    "ExecuteTime": {
     "end_time": "2025-01-24T07:43:15.674606Z",
     "start_time": "2025-01-24T07:43:15.667917Z"
    }
   },
   "source": [
    "# Verwendung bs4: Suppen-Objekt erstellen\n",
    "soup = BeautifulSoup(html)"
   ],
   "outputs": [],
   "execution_count": 3
  },
  {
   "cell_type": "code",
   "metadata": {
    "ExecuteTime": {
     "end_time": "2025-01-24T07:43:17.734074Z",
     "start_time": "2025-01-24T07:43:17.720830Z"
    }
   },
   "source": [
    "# Was kann unser Objekt alles?\n",
    "dir(soup)"
   ],
   "outputs": [
    {
     "data": {
      "text/plain": [
       "['ASCII_SPACES',\n",
       " 'DEFAULT_BUILDER_FEATURES',\n",
       " 'DEFAULT_INTERESTING_STRING_TYPES',\n",
       " 'EMPTY_ELEMENT_EVENT',\n",
       " 'END_ELEMENT_EVENT',\n",
       " 'NO_PARSER_SPECIFIED_WARNING',\n",
       " 'ROOT_TAG_NAME',\n",
       " 'START_ELEMENT_EVENT',\n",
       " 'STRING_ELEMENT_EVENT',\n",
       " '__bool__',\n",
       " '__call__',\n",
       " '__class__',\n",
       " '__contains__',\n",
       " '__copy__',\n",
       " '__deepcopy__',\n",
       " '__delattr__',\n",
       " '__delitem__',\n",
       " '__dict__',\n",
       " '__dir__',\n",
       " '__doc__',\n",
       " '__eq__',\n",
       " '__format__',\n",
       " '__ge__',\n",
       " '__getattr__',\n",
       " '__getattribute__',\n",
       " '__getitem__',\n",
       " '__getstate__',\n",
       " '__gt__',\n",
       " '__hash__',\n",
       " '__init__',\n",
       " '__init_subclass__',\n",
       " '__iter__',\n",
       " '__le__',\n",
       " '__len__',\n",
       " '__lt__',\n",
       " '__module__',\n",
       " '__ne__',\n",
       " '__new__',\n",
       " '__reduce__',\n",
       " '__reduce_ex__',\n",
       " '__repr__',\n",
       " '__setattr__',\n",
       " '__setitem__',\n",
       " '__setstate__',\n",
       " '__sizeof__',\n",
       " '__str__',\n",
       " '__subclasshook__',\n",
       " '__unicode__',\n",
       " '__weakref__',\n",
       " '_all_strings',\n",
       " '_clone',\n",
       " '_decode_markup',\n",
       " '_event_stream',\n",
       " '_feed',\n",
       " '_find_all',\n",
       " '_find_one',\n",
       " '_format_tag',\n",
       " '_indent_string',\n",
       " '_is_xml',\n",
       " '_lastRecursiveChild',\n",
       " '_last_descendant',\n",
       " '_linkage_fixer',\n",
       " '_markup_is_url',\n",
       " '_markup_resembles_filename',\n",
       " '_most_recent_element',\n",
       " '_namespaces',\n",
       " '_popToTag',\n",
       " '_should_pretty_print',\n",
       " 'append',\n",
       " 'attrs',\n",
       " 'builder',\n",
       " 'can_be_empty_element',\n",
       " 'cdata_list_attributes',\n",
       " 'childGenerator',\n",
       " 'children',\n",
       " 'clear',\n",
       " 'contains_replacement_characters',\n",
       " 'contents',\n",
       " 'css',\n",
       " 'currentTag',\n",
       " 'current_data',\n",
       " 'declared_html_encoding',\n",
       " 'decode',\n",
       " 'decode_contents',\n",
       " 'decompose',\n",
       " 'decomposed',\n",
       " 'default',\n",
       " 'descendants',\n",
       " 'element_classes',\n",
       " 'encode',\n",
       " 'encode_contents',\n",
       " 'endData',\n",
       " 'extend',\n",
       " 'extract',\n",
       " 'fetchNextSiblings',\n",
       " 'fetchParents',\n",
       " 'fetchPrevious',\n",
       " 'fetchPreviousSiblings',\n",
       " 'find',\n",
       " 'findAll',\n",
       " 'findAllNext',\n",
       " 'findAllPrevious',\n",
       " 'findChild',\n",
       " 'findChildren',\n",
       " 'findNext',\n",
       " 'findNextSibling',\n",
       " 'findNextSiblings',\n",
       " 'findParent',\n",
       " 'findParents',\n",
       " 'findPrevious',\n",
       " 'findPreviousSibling',\n",
       " 'findPreviousSiblings',\n",
       " 'find_all',\n",
       " 'find_all_next',\n",
       " 'find_all_previous',\n",
       " 'find_next',\n",
       " 'find_next_sibling',\n",
       " 'find_next_siblings',\n",
       " 'find_parent',\n",
       " 'find_parents',\n",
       " 'find_previous',\n",
       " 'find_previous_sibling',\n",
       " 'find_previous_siblings',\n",
       " 'format_string',\n",
       " 'formatter_for_name',\n",
       " 'get',\n",
       " 'getText',\n",
       " 'get_attribute_list',\n",
       " 'get_text',\n",
       " 'handle_data',\n",
       " 'handle_endtag',\n",
       " 'handle_starttag',\n",
       " 'has_attr',\n",
       " 'has_key',\n",
       " 'hidden',\n",
       " 'index',\n",
       " 'insert',\n",
       " 'insert_after',\n",
       " 'insert_before',\n",
       " 'interesting_string_types',\n",
       " 'isSelfClosing',\n",
       " 'is_empty_element',\n",
       " 'is_xml',\n",
       " 'known_xml',\n",
       " 'markup',\n",
       " 'name',\n",
       " 'namespace',\n",
       " 'new_string',\n",
       " 'new_tag',\n",
       " 'next',\n",
       " 'nextGenerator',\n",
       " 'nextSibling',\n",
       " 'nextSiblingGenerator',\n",
       " 'next_element',\n",
       " 'next_elements',\n",
       " 'next_sibling',\n",
       " 'next_siblings',\n",
       " 'object_was_parsed',\n",
       " 'open_tag_counter',\n",
       " 'original_encoding',\n",
       " 'parent',\n",
       " 'parentGenerator',\n",
       " 'parents',\n",
       " 'parse_only',\n",
       " 'parserClass',\n",
       " 'parser_class',\n",
       " 'popTag',\n",
       " 'prefix',\n",
       " 'preserve_whitespace_tag_stack',\n",
       " 'preserve_whitespace_tags',\n",
       " 'prettify',\n",
       " 'previous',\n",
       " 'previousGenerator',\n",
       " 'previousSibling',\n",
       " 'previousSiblingGenerator',\n",
       " 'previous_element',\n",
       " 'previous_elements',\n",
       " 'previous_sibling',\n",
       " 'previous_siblings',\n",
       " 'pushTag',\n",
       " 'recursiveChildGenerator',\n",
       " 'renderContents',\n",
       " 'replaceWith',\n",
       " 'replaceWithChildren',\n",
       " 'replace_with',\n",
       " 'replace_with_children',\n",
       " 'reset',\n",
       " 'select',\n",
       " 'select_one',\n",
       " 'self_and_descendants',\n",
       " 'setup',\n",
       " 'smooth',\n",
       " 'string',\n",
       " 'string_container',\n",
       " 'string_container_stack',\n",
       " 'strings',\n",
       " 'stripped_strings',\n",
       " 'tagStack',\n",
       " 'text',\n",
       " 'unwrap',\n",
       " 'wrap']"
      ]
     },
     "execution_count": 4,
     "metadata": {},
     "output_type": "execute_result"
    }
   ],
   "execution_count": 4
  },
  {
   "cell_type": "code",
   "metadata": {
    "ExecuteTime": {
     "end_time": "2025-01-24T07:43:34.053068Z",
     "start_time": "2025-01-24T07:43:34.047073Z"
    }
   },
   "source": [
    "# Wie sieht der Inhalt aus?\n",
    "soup"
   ],
   "outputs": [
    {
     "data": {
      "text/plain": [
       "<html><body><section><article><h1>Test-Artikel</h1><p>Dies ist ein Beispiel-Artikel in HTML-Form.</p><p>Absatz 2.</p></article></section></body></html>"
      ]
     },
     "execution_count": 5,
     "metadata": {},
     "output_type": "execute_result"
    }
   ],
   "execution_count": 5
  },
  {
   "cell_type": "code",
   "source": [
    "type(soup)"
   ],
   "metadata": {
    "collapsed": false,
    "ExecuteTime": {
     "end_time": "2025-01-24T07:43:36.279259Z",
     "start_time": "2025-01-24T07:43:36.271799Z"
    }
   },
   "outputs": [
    {
     "data": {
      "text/plain": [
       "bs4.BeautifulSoup"
      ]
     },
     "execution_count": 6,
     "metadata": {},
     "output_type": "execute_result"
    }
   ],
   "execution_count": 6
  },
  {
   "cell_type": "code",
   "metadata": {
    "ExecuteTime": {
     "end_time": "2025-01-24T07:43:41.845696Z",
     "start_time": "2025-01-24T07:43:41.839241Z"
    }
   },
   "source": [
    "# Ausgabe-Formatierung mit .prettify() \"verschönern\"\n",
    "print(soup.prettify())"
   ],
   "outputs": [
    {
     "name": "stdout",
     "output_type": "stream",
     "text": [
      "<html>\n",
      " <body>\n",
      "  <section>\n",
      "   <article>\n",
      "    <h1>\n",
      "     Test-Artikel\n",
      "    </h1>\n",
      "    <p>\n",
      "     Dies ist ein Beispiel-Artikel in HTML-Form.\n",
      "    </p>\n",
      "    <p>\n",
      "     Absatz 2.\n",
      "    </p>\n",
      "   </article>\n",
      "  </section>\n",
      " </body>\n",
      "</html>\n",
      "\n"
     ]
    }
   ],
   "execution_count": 7
  },
  {
   "cell_type": "code",
   "execution_count": 9,
   "metadata": {
    "ExecuteTime": {
     "end_time": "2024-04-04T07:23:08.998819Z",
     "start_time": "2024-04-04T07:23:08.988514Z"
    }
   },
   "outputs": [
    {
     "name": "stdout",
     "output_type": "stream",
     "text": [
      "<section>\n",
      "    <article>\n",
      "        <h1>\n",
      "            Test-Artikel\n",
      "        </h1>\n",
      "        <p>\n",
      "            Dies ist ein Beispiel-Artikel in HTML-Form.\n",
      "        </p>\n",
      "        <p>\n",
      "            Absatz 2.\n",
      "        </p>\n",
      "    </article>\n",
      "</section>\n"
     ]
    }
   ],
   "source": [
    "# Wir können auch spezielle Formatierer\n",
    "# \"Formatter\" benutzen, die uns den Inhalt\n",
    "# schön darstellen.\n",
    "formatter = bs4.formatter.HTMLFormatter(indent=4)\n",
    "print(soup.prettify(formatter=formatter))"
   ]
  },
  {
   "cell_type": "code",
   "execution_count": 10,
   "metadata": {
    "ExecuteTime": {
     "end_time": "2024-04-04T07:26:13.517864Z",
     "start_time": "2024-04-04T07:26:13.509546Z"
    }
   },
   "outputs": [
    {
     "data": {
      "text/plain": "<h1>Test-Artikel</h1>"
     },
     "execution_count": 10,
     "metadata": {},
     "output_type": "execute_result"
    }
   ],
   "source": [
    "# Wichtigste Funktionen:\n",
    "# find - Findet den ersten Eintrag\n",
    "# des angegebenen HTML Tags\n",
    "soup.find('h1')"
   ]
  },
  {
   "cell_type": "code",
   "outputs": [
    {
     "data": {
      "text/plain": "<h1>Test-Artikel</h1>"
     },
     "execution_count": 11,
     "metadata": {},
     "output_type": "execute_result"
    }
   ],
   "source": [
    "# Alternative Notation: \n",
    "soup.h1"
   ],
   "metadata": {
    "collapsed": false,
    "ExecuteTime": {
     "end_time": "2024-04-04T07:27:35.772317Z",
     "start_time": "2024-04-04T07:27:35.762557Z"
    }
   },
   "execution_count": 11
  },
  {
   "cell_type": "code",
   "outputs": [
    {
     "data": {
      "text/plain": "<p>Dies ist ein Beispiel-Artikel in HTML-Form.</p>"
     },
     "execution_count": 14,
     "metadata": {},
     "output_type": "execute_result"
    }
   ],
   "source": [
    "soup.find('p')"
   ],
   "metadata": {
    "collapsed": false,
    "ExecuteTime": {
     "end_time": "2024-04-04T07:30:12.286791Z",
     "start_time": "2024-04-04T07:30:12.275105Z"
    }
   },
   "execution_count": 14
  },
  {
   "cell_type": "code",
   "outputs": [
    {
     "data": {
      "text/plain": "<p>Dies ist ein Beispiel-Artikel in HTML-Form.</p>"
     },
     "execution_count": 15,
     "metadata": {},
     "output_type": "execute_result"
    }
   ],
   "source": [
    "soup.p"
   ],
   "metadata": {
    "collapsed": false,
    "ExecuteTime": {
     "end_time": "2024-04-04T07:30:24.863437Z",
     "start_time": "2024-04-04T07:30:24.851046Z"
    }
   },
   "execution_count": 15
  },
  {
   "cell_type": "code",
   "outputs": [
    {
     "data": {
      "text/plain": "<section><article><h1>Test-Artikel</h1><p>Dies ist ein Beispiel-Artikel in HTML-Form.</p><p>Absatz 2.</p></article></section>"
     },
     "execution_count": 16,
     "metadata": {},
     "output_type": "execute_result"
    }
   ],
   "source": [
    "soup.find('section')"
   ],
   "metadata": {
    "collapsed": false,
    "ExecuteTime": {
     "end_time": "2024-04-04T07:31:29.482292Z",
     "start_time": "2024-04-04T07:31:29.475444Z"
    }
   },
   "execution_count": 16
  },
  {
   "cell_type": "code",
   "outputs": [
    {
     "data": {
      "text/plain": "<article><h1>Test-Artikel</h1><p>Dies ist ein Beispiel-Artikel in HTML-Form.</p><p>Absatz 2.</p></article>"
     },
     "execution_count": 17,
     "metadata": {},
     "output_type": "execute_result"
    }
   ],
   "source": [
    "soup.find('article')"
   ],
   "metadata": {
    "collapsed": false,
    "ExecuteTime": {
     "end_time": "2024-04-04T07:32:05.821499Z",
     "start_time": "2024-04-04T07:32:05.809687Z"
    }
   },
   "execution_count": 17
  },
  {
   "cell_type": "code",
   "outputs": [
    {
     "data": {
      "text/plain": "'Test-ArtikelDies ist ein Beispiel-Artikel in HTML-Form.Absatz 2.'"
     },
     "execution_count": 18,
     "metadata": {},
     "output_type": "execute_result"
    }
   ],
   "source": [
    "# So kommt man an die Textdaten:\n",
    "soup.find('section').text"
   ],
   "metadata": {
    "collapsed": false,
    "ExecuteTime": {
     "end_time": "2024-04-04T07:34:46.106990Z",
     "start_time": "2024-04-04T07:34:46.098013Z"
    }
   },
   "execution_count": 18
  },
  {
   "cell_type": "code",
   "outputs": [
    {
     "data": {
      "text/plain": "'Test-Artikel'"
     },
     "execution_count": 19,
     "metadata": {},
     "output_type": "execute_result"
    }
   ],
   "source": [
    "# h1-Überschrift-Text extrahieren:\n",
    "soup.h1.text"
   ],
   "metadata": {
    "collapsed": false,
    "ExecuteTime": {
     "end_time": "2024-04-04T07:35:46.563220Z",
     "start_time": "2024-04-04T07:35:46.551259Z"
    }
   },
   "execution_count": 19
  },
  {
   "cell_type": "code",
   "outputs": [
    {
     "data": {
      "text/plain": "'Dies ist ein Beispiel-Artikel in HTML-Form.'"
     },
     "execution_count": 20,
     "metadata": {},
     "output_type": "execute_result"
    }
   ],
   "source": [
    "# p-Text extrahieren:\n",
    "soup.p.text"
   ],
   "metadata": {
    "collapsed": false,
    "ExecuteTime": {
     "end_time": "2024-04-04T07:36:20.850126Z",
     "start_time": "2024-04-04T07:36:20.837785Z"
    }
   },
   "execution_count": 20
  },
  {
   "cell_type": "code",
   "outputs": [
    {
     "data": {
      "text/plain": "'Dies ist ein Beispiel-Artikel in HTML-Form.'"
     },
     "execution_count": 21,
     "metadata": {},
     "output_type": "execute_result"
    }
   ],
   "source": [
    "# Oder eben mit find():\n",
    "soup.find('p').text"
   ],
   "metadata": {
    "collapsed": false,
    "ExecuteTime": {
     "end_time": "2024-04-04T07:36:42.045481Z",
     "start_time": "2024-04-04T07:36:42.035183Z"
    }
   },
   "execution_count": 21
  },
  {
   "cell_type": "code",
   "outputs": [],
   "source": [
    "# Find ist mächtiger als die Punkt-Notation, da man \n",
    "# hier spezifischer werden kann."
   ],
   "metadata": {
    "collapsed": false
   },
   "execution_count": null
  },
  {
   "cell_type": "code",
   "execution_count": 22,
   "metadata": {
    "ExecuteTime": {
     "end_time": "2024-04-04T07:42:23.998227Z",
     "start_time": "2024-04-04T07:42:23.990076Z"
    }
   },
   "outputs": [
    {
     "data": {
      "text/plain": "[<p>Dies ist ein Beispiel-Artikel in HTML-Form.</p>, <p>Absatz 2.</p>]"
     },
     "execution_count": 22,
     "metadata": {},
     "output_type": "execute_result"
    }
   ],
   "source": [
    "# find_all - Findet alle Einträge\n",
    "# einer Art von HTML-Tag (und gibt sie in Liste zurück)\n",
    "soup.find_all('p')\n",
    "# Einstellbar über Parameter \"name\", \"attrs\" und \"class_\""
   ]
  },
  {
   "cell_type": "code",
   "execution_count": 25,
   "metadata": {
    "ExecuteTime": {
     "end_time": "2024-04-04T07:44:12.288980Z",
     "start_time": "2024-04-04T07:44:12.280460Z"
    }
   },
   "outputs": [
    {
     "data": {
      "text/plain": "<p>Dies ist ein Beispiel-Artikel in HTML-Form.</p>"
     },
     "execution_count": 25,
     "metadata": {},
     "output_type": "execute_result"
    }
   ],
   "source": [
    "# find_all gibt Liste mit Treffern zurück\n",
    "# Einzelelemente extrahierbar\n",
    "soup.find_all('p')[0]"
   ]
  },
  {
   "cell_type": "code",
   "outputs": [],
   "source": [
    "# Oftmals lesbarer mit Variablen!\n",
    "paragraphs = soup.find_all('p')"
   ],
   "metadata": {
    "collapsed": false,
    "ExecuteTime": {
     "end_time": "2024-04-04T07:45:05.162249Z",
     "start_time": "2024-04-04T07:45:05.156209Z"
    }
   },
   "execution_count": 26
  },
  {
   "cell_type": "code",
   "outputs": [
    {
     "name": "stdout",
     "output_type": "stream",
     "text": [
      "<p>Dies ist ein Beispiel-Artikel in HTML-Form.</p>\n",
      "\n",
      "<p>Absatz 2.</p>\n"
     ]
    }
   ],
   "source": [
    "# Iteration möglich:\n",
    "for p in paragraphs:\n",
    "\tprint(p)\n",
    "\tprint()"
   ],
   "metadata": {
    "collapsed": false,
    "ExecuteTime": {
     "end_time": "2024-04-04T07:46:26.612078Z",
     "start_time": "2024-04-04T07:46:26.604112Z"
    }
   },
   "execution_count": 27
  },
  {
   "cell_type": "code",
   "execution_count": 28,
   "metadata": {
    "ExecuteTime": {
     "end_time": "2024-04-04T07:47:39.514451Z",
     "start_time": "2024-04-04T07:47:39.506720Z"
    }
   },
   "outputs": [
    {
     "name": "stdout",
     "output_type": "stream",
     "text": [
      "Dies ist ein Beispiel-Artikel in HTML-Form.\n",
      "\n",
      "Absatz 2.\n"
     ]
    }
   ],
   "source": [
    "# Jetzt nur den Text in Vorschleife ausgeben:\n",
    "for p in paragraphs:\n",
    "\tprint(p.text)\n",
    "\tprint()"
   ]
  },
  {
   "cell_type": "code",
   "outputs": [
    {
     "data": {
      "text/plain": "['Dies ist ein Beispiel-Artikel in HTML-Form.', 'Absatz 2.']"
     },
     "execution_count": 29,
     "metadata": {},
     "output_type": "execute_result"
    }
   ],
   "source": [
    "# Mit List Comprehension das Ergebnis wieder in einer Liste ablegen:\n",
    "paragraphs_text = [p.text for p in paragraphs]\n",
    "paragraphs_text"
   ],
   "metadata": {
    "collapsed": false,
    "ExecuteTime": {
     "end_time": "2024-04-04T07:50:37.529850Z",
     "start_time": "2024-04-04T07:50:37.519777Z"
    }
   },
   "execution_count": 29
  },
  {
   "cell_type": "code",
   "outputs": [],
   "source": [
    "# Webscraping aus einer lokalen HTML-Datei\n",
    "# Bisschen Zusatz-Infos: https://wiki.selfhtml.org/wiki/HTML/Tabellen/Aufbau_einer_Tabelle"
   ],
   "metadata": {
    "collapsed": false
   },
   "execution_count": null
  },
  {
   "cell_type": "code",
   "outputs": [],
   "source": [
    "# Reinladen, die gute Datei!\n",
    "with open('Liste der größten Schiffe der Welt – Wikipedia.html', encoding='utf-8') as f:\n",
    "\tship_soup = BeautifulSoup(f, 'html.parser')\n",
    "\n",
    "# bs4 hat mehrere Parser, die Web-Dokumente scannen.\n",
    "# Die Wahl des passenden Parsers hängt von den Anforderungen ab und sie stellen das\n",
    "# Dokument unterschiedlich dar. Wir benutzen im Folgenden den html-Parser.\n",
    "# Mehr Infos:\n",
    "# https://www.crummy.com/software/BeautifulSoup/bs4/doc/#differences-between-parsers"
   ],
   "metadata": {
    "collapsed": false,
    "ExecuteTime": {
     "end_time": "2024-04-04T07:59:12.330967Z",
     "start_time": "2024-04-04T07:59:12.246670Z"
    }
   },
   "execution_count": 30
  },
  {
   "cell_type": "code",
   "outputs": [
    {
     "data": {
      "text/plain": "<!DOCTYPE html>\n\n<html class=\"client-nojs\" dir=\"ltr\" lang=\"de\">\n<head>\n<meta charset=\"utf-8\"/>\n<title>Liste der größten Schiffe der Welt – Wikipedia</title>\n<script>document.documentElement.className=\"client-js\";RLCONF={\"wgBreakFrames\":false,\"wgSeparatorTransformTable\":[\",\\t.\",\".\\t,\"],\"wgDigitTransformTable\":[\"\",\"\"],\"wgDefaultDateFormat\":\"dmy\",\"wgMonthNames\":[\"\",\"Januar\",\"Februar\",\"März\",\"April\",\"Mai\",\"Juni\",\"Juli\",\"August\",\"September\",\"Oktober\",\"November\",\"Dezember\"],\"wgRequestId\":\"85d2fc8f-8e94-4b28-bad9-7c90c40ddfe3\",\"wgCanonicalNamespace\":\"\",\"wgCanonicalSpecialPageName\":false,\"wgNamespaceNumber\":0,\"wgPageName\":\"Liste_der_größten_Schiffe_der_Welt\",\"wgTitle\":\"Liste der größten Schiffe der Welt\",\"wgCurRevisionId\":241862931,\"wgRevisionId\":241862931,\"wgArticleId\":1548947,\"wgIsArticle\":true,\"wgIsRedirect\":false,\"wgAction\":\"view\",\"wgUserName\":null,\"wgUserGroups\":[\"*\"],\"wgCategories\":[\"Liste (Schiffe)\",\"Liste (technische Rekorde)\"],\"wgPageViewLanguage\":\"de\",\"wgPageContentLanguage\":\"de\",\"wgPageContentModel\":\"wikitext\",\"wgRelevantPageName\":\"Liste_der_größten_Schiffe_der_Welt\",\"wgRelevantArticleId\":1548947,\"wgIsProbablyEditable\":true,\n\"wgRelevantPageIsProbablyEditable\":true,\"wgRestrictionEdit\":[],\"wgRestrictionMove\":[],\"wgNoticeProject\":\"wikipedia\",\"wgFlaggedRevsParams\":{\"tags\":{\"accuracy\":{\"levels\":1}}},\"wgStableRevisionId\":241862931,\"wgMediaViewerOnClick\":true,\"wgMediaViewerEnabledByDefault\":true,\"wgPopupsFlags\":4,\"wgVisualEditor\":{\"pageLanguageCode\":\"de\",\"pageLanguageDir\":\"ltr\",\"pageVariantFallbacks\":\"de\"},\"wgMFDisplayWikibaseDescriptions\":{\"search\":true,\"watchlist\":true,\"tagline\":true,\"nearby\":true},\"wgWMESchemaEditAttemptStepOversample\":false,\"wgWMEPageLength\":20000,\"wgULSCurrentAutonym\":\"Deutsch\",\"wgCentralAuthMobileDomain\":false,\"wgEditSubmitButtonLabelPublish\":true,\"wgULSPosition\":\"interlanguage\",\"wgULSisCompactLinksEnabled\":true,\"wgVector2022LanguageInHeader\":false,\"wgULSisLanguageSelectorEmpty\":false,\"wgWikibaseItemId\":\"Q1778295\",\"wgCheckUserClientHintsHeadersJsApi\":[\"architecture\",\"bitness\",\"brands\",\"fullVersionList\",\"mobile\",\"model\",\"platform\",\"platformVersion\"],\"GEHomepageSuggestedEditsEnableTopics\":\ntrue,\"wgGETopicsMatchModeEnabled\":false,\"wgGEStructuredTaskRejectionReasonTextInputEnabled\":false,\"wgGELevelingUpEnabledForUser\":false};RLSTATE={\"ext.gadget.citeRef\":\"ready\",\"ext.gadget.dewikiCommonHide\":\"ready\",\"ext.gadget.dewikiCommonLayout\":\"ready\",\"ext.gadget.dewikiCommonStyle\":\"ready\",\"ext.gadget.NavFrame\":\"ready\",\"ext.globalCssJs.user.styles\":\"ready\",\"site.styles\":\"ready\",\"user.styles\":\"ready\",\"ext.globalCssJs.user\":\"ready\",\"user\":\"ready\",\"user.options\":\"loading\",\"ext.flaggedRevs.icons\":\"ready\",\"oojs-ui-core.styles\":\"ready\",\"oojs-ui.styles.indicators\":\"ready\",\"mediawiki.widgets.styles\":\"ready\",\"oojs-ui-core.icons\":\"ready\",\"ext.cite.styles\":\"ready\",\"mediawiki.page.gallery.styles\":\"ready\",\"skins.vector.styles.legacy\":\"ready\",\"jquery.tablesorter.styles\":\"ready\",\"ext.flaggedRevs.basic\":\"ready\",\"ext.visualEditor.desktopArticleTarget.noscript\":\"ready\",\"codex-search-styles\":\"ready\",\"ext.uls.interlanguage\":\"ready\",\"wikibase.client.init\":\"ready\",\"ext.wikimediaBadges\":\"ready\"};\nRLPAGEMODULES=[\"ext.cite.ux-enhancements\",\"mediawiki.page.media\",\"site\",\"mediawiki.page.ready\",\"jquery.tablesorter\",\"mediawiki.toc\",\"skins.vector.legacy.js\",\"ext.centralNotice.geoIP\",\"ext.centralNotice.startUp\",\"ext.flaggedRevs.advanced\",\"ext.gadget.createNewSection\",\"ext.gadget.WikiMiniAtlas\",\"ext.gadget.OpenStreetMap\",\"ext.gadget.CommonsDirekt\",\"ext.gadget.donateLink\",\"ext.urlShortener.toolbar\",\"ext.centralauth.centralautologin\",\"mmv.head\",\"mmv.bootstrap.autostart\",\"ext.popups\",\"ext.visualEditor.desktopArticleTarget.init\",\"ext.visualEditor.targetLoader\",\"ext.echo.centralauth\",\"ext.eventLogging\",\"ext.wikimediaEvents\",\"ext.navigationTiming\",\"ext.uls.compactlinks\",\"ext.uls.interface\",\"ext.cx.eventlogging.campaigns\",\"ext.checkUser.clientHints\",\"ext.growthExperiments.SuggestedEditSession\"];</script>\n<script>(RLQ=window.RLQ||[]).push(function(){mw.loader.impl(function(){return[\"user.options@12s5i\",function($,jQuery,require,module){mw.user.tokens.set({\"patrolToken\":\"+\\\\\",\"watchToken\":\"+\\\\\",\"csrfToken\":\"+\\\\\"});\n}];});});</script>\n<link href=\"/w/load.php?lang=de&amp;modules=codex-search-styles%7Cext.cite.styles%7Cext.flaggedRevs.basic%2Cicons%7Cext.uls.interlanguage%7Cext.visualEditor.desktopArticleTarget.noscript%7Cext.wikimediaBadges%7Cjquery.tablesorter.styles%7Cmediawiki.page.gallery.styles%7Cmediawiki.widgets.styles%7Coojs-ui-core.icons%2Cstyles%7Coojs-ui.styles.indicators%7Cskins.vector.styles.legacy%7Cwikibase.client.init&amp;only=styles&amp;skin=vector\" rel=\"stylesheet\"/>\n<script async=\"\" src=\"/w/load.php?lang=de&amp;modules=startup&amp;only=scripts&amp;raw=1&amp;skin=vector\"></script>\n<meta content=\"\" name=\"ResourceLoaderDynamicStyles\"/>\n<link href=\"/w/load.php?lang=de&amp;modules=ext.gadget.NavFrame%2CciteRef%2CdewikiCommonHide%2CdewikiCommonLayout%2CdewikiCommonStyle&amp;only=styles&amp;skin=vector\" rel=\"stylesheet\"/>\n<link href=\"/w/load.php?lang=de&amp;modules=site.styles&amp;only=styles&amp;skin=vector\" rel=\"stylesheet\"/>\n<meta content=\"MediaWiki 1.42.0-wmf.24\" name=\"generator\"/>\n<meta content=\"origin\" name=\"referrer\"/>\n<meta content=\"origin-when-cross-origin\" name=\"referrer\"/>\n<meta content=\"max-image-preview:standard\" name=\"robots\"/>\n<meta content=\"telephone=no\" name=\"format-detection\"/>\n<meta content=\"https://upload.wikimedia.org/wikipedia/commons/thumb/5/5b/Bateaux_comparaison2_with_Allure.svg/1200px-Bateaux_comparaison2_with_Allure.svg.png\" property=\"og:image\"/>\n<meta content=\"1200\" property=\"og:image:width\"/>\n<meta content=\"1130\" property=\"og:image:height\"/>\n<meta content=\"https://upload.wikimedia.org/wikipedia/commons/thumb/5/5b/Bateaux_comparaison2_with_Allure.svg/800px-Bateaux_comparaison2_with_Allure.svg.png\" property=\"og:image\"/>\n<meta content=\"800\" property=\"og:image:width\"/>\n<meta content=\"754\" property=\"og:image:height\"/>\n<meta content=\"https://upload.wikimedia.org/wikipedia/commons/thumb/5/5b/Bateaux_comparaison2_with_Allure.svg/640px-Bateaux_comparaison2_with_Allure.svg.png\" property=\"og:image\"/>\n<meta content=\"640\" property=\"og:image:width\"/>\n<meta content=\"603\" property=\"og:image:height\"/>\n<meta content=\"width=1000\" name=\"viewport\"/>\n<meta content=\"Liste der größten Schiffe der Welt – Wikipedia\" property=\"og:title\"/>\n<meta content=\"website\" property=\"og:type\"/>\n<link href=\"//upload.wikimedia.org\" rel=\"preconnect\"/>\n<link href=\"//de.m.wikipedia.org/wiki/Liste_der_gr%C3%B6%C3%9Ften_Schiffe_der_Welt\" media=\"only screen and (max-width: 720px)\" rel=\"alternate\"/>\n<link href=\"/w/index.php?title=Liste_der_gr%C3%B6%C3%9Ften_Schiffe_der_Welt&amp;action=edit\" rel=\"alternate\" title=\"Seite bearbeiten\" type=\"application/x-wiki\"/>\n<link href=\"/static/apple-touch/wikipedia.png\" rel=\"apple-touch-icon\"/>\n<link href=\"/static/favicon/wikipedia.ico\" rel=\"icon\"/>\n<link href=\"/w/opensearch_desc.php\" rel=\"search\" title=\"Wikipedia (de)\" type=\"application/opensearchdescription+xml\"/>\n<link href=\"//de.wikipedia.org/w/api.php?action=rsd\" rel=\"EditURI\" type=\"application/rsd+xml\"/>\n<link href=\"https://de.wikipedia.org/wiki/Liste_der_gr%C3%B6%C3%9Ften_Schiffe_der_Welt\" rel=\"canonical\"/>\n<link href=\"https://creativecommons.org/licenses/by-sa/4.0/deed.de\" rel=\"license\"/>\n<link href=\"/w/index.php?title=Spezial:Letzte_%C3%84nderungen&amp;feed=atom\" rel=\"alternate\" title=\"Atom-Feed für „Wikipedia“\" type=\"application/atom+xml\"/>\n<link href=\"//meta.wikimedia.org\" rel=\"dns-prefetch\">\n<link href=\"//login.wikimedia.org\" rel=\"dns-prefetch\"/>\n</link></head>\n<body class=\"skin-vector-legacy mediawiki ltr sitedir-ltr mw-hide-empty-elt ns-0 ns-subject mw-editable page-Liste_der_größten_Schiffe_der_Welt rootpage-Liste_der_größten_Schiffe_der_Welt skin-vector action-view\"><div class=\"noprint\" id=\"mw-page-base\"></div>\n<div class=\"noprint\" id=\"mw-head-base\"></div>\n<div class=\"mw-body\" id=\"content\" role=\"main\">\n<a id=\"top\"></a>\n<div id=\"siteNotice\"><!-- CentralNotice --></div>\n<div class=\"mw-indicators\">\n</div>\n<h1 class=\"firstHeading mw-first-heading\" id=\"firstHeading\"><span class=\"mw-page-title-main\">Liste der größten Schiffe der Welt</span></h1>\n<div class=\"vector-body\" id=\"bodyContent\">\n<div class=\"noprint\" id=\"siteSub\">aus Wikipedia, der freien Enzyklopädie</div>\n<div id=\"contentSub\"><div id=\"mw-content-subtitle\"></div></div>\n<div id=\"contentSub2\"></div>\n<div id=\"jump-to-nav\"></div>\n<a class=\"mw-jump-link\" href=\"#mw-head\">Zur Navigation springen</a>\n<a class=\"mw-jump-link\" href=\"#searchInput\">Zur Suche springen</a>\n<div class=\"mw-body-content\" id=\"mw-content-text\"><div class=\"mw-content-ltr mw-parser-output\" dir=\"ltr\" lang=\"de\"><figure class=\"mw-default-size\" typeof=\"mw:File/Thumb\"><a class=\"mw-file-description\" href=\"/wiki/Datei:Bateaux_comparaison2_with_Allure.svg\"><img class=\"mw-file-element\" data-file-height=\"1300\" data-file-width=\"1380\" decoding=\"async\" height=\"207\" src=\"//upload.wikimedia.org/wikipedia/commons/thumb/5/5b/Bateaux_comparaison2_with_Allure.svg/220px-Bateaux_comparaison2_with_Allure.svg.png\" srcset=\"//upload.wikimedia.org/wikipedia/commons/thumb/5/5b/Bateaux_comparaison2_with_Allure.svg/330px-Bateaux_comparaison2_with_Allure.svg.png 1.5x, //upload.wikimedia.org/wikipedia/commons/thumb/5/5b/Bateaux_comparaison2_with_Allure.svg/440px-Bateaux_comparaison2_with_Allure.svg.png 2x\" width=\"220\"/></a><figcaption>Größenvergleich einiger der größten Schiffe</figcaption></figure>\n<figure class=\"mw-default-size\" typeof=\"mw:File/Thumb\"><a class=\"mw-file-description\" href=\"/w/index.php?title=Datei:Queen_Mary_2-Titanic.svg&amp;lang=de\"><img class=\"mw-file-element\" data-file-height=\"1280\" data-file-width=\"4042\" decoding=\"async\" height=\"70\" src=\"//upload.wikimedia.org/wikipedia/commons/thumb/d/d4/Queen_Mary_2-Titanic.svg/langde-220px-Queen_Mary_2-Titanic.svg.png\" srcset=\"//upload.wikimedia.org/wikipedia/commons/thumb/d/d4/Queen_Mary_2-Titanic.svg/langde-330px-Queen_Mary_2-Titanic.svg.png 1.5x, //upload.wikimedia.org/wikipedia/commons/thumb/d/d4/Queen_Mary_2-Titanic.svg/langde-440px-Queen_Mary_2-Titanic.svg.png 2x\" width=\"220\"/></a><figcaption>Die <i><a href=\"/wiki/Queen_Mary_2\" title=\"Queen Mary 2\">Queen Mary 2</a></i> im Größenvergleich zur <i><a href=\"/wiki/Titanic_(Schiff)\" title=\"Titanic (Schiff)\">Titanic</a></i> und zum <a href=\"/wiki/Airbus_A380\" title=\"Airbus A380\">Airbus A380</a></figcaption></figure>\n<figure class=\"mw-default-size\" typeof=\"mw:File/Thumb\"><a class=\"mw-file-description\" href=\"/wiki/Datei:Hellespont_Alhambra-223713_v2.jpg\"><img class=\"mw-file-element\" data-file-height=\"787\" data-file-width=\"973\" decoding=\"async\" height=\"178\" src=\"//upload.wikimedia.org/wikipedia/commons/thumb/8/82/Hellespont_Alhambra-223713_v2.jpg/220px-Hellespont_Alhambra-223713_v2.jpg\" srcset=\"//upload.wikimedia.org/wikipedia/commons/thumb/8/82/Hellespont_Alhambra-223713_v2.jpg/330px-Hellespont_Alhambra-223713_v2.jpg 1.5x, //upload.wikimedia.org/wikipedia/commons/thumb/8/82/Hellespont_Alhambra-223713_v2.jpg/440px-Hellespont_Alhambra-223713_v2.jpg 2x\" width=\"220\"/></a><figcaption>Die spätere <i><a class=\"mw-redirect\" href=\"/wiki/TI_Asia\" title=\"TI Asia\">TI Asia</a></i>, Typschiff der größten Tanker der Erde</figcaption></figure>\n<p>In diesem Artikel sind die größten und längsten bisher gebauten <a href=\"/wiki/Schiff\" title=\"Schiff\">Schiffe</a> der Welt aufgelistet.\n</p>\n<div aria-labelledby=\"mw-toc-heading\" class=\"toc\" id=\"toc\" role=\"navigation\"><input class=\"toctogglecheckbox\" id=\"toctogglecheckbox\" role=\"button\" style=\"display:none\" type=\"checkbox\"/><div class=\"toctitle\" dir=\"ltr\" lang=\"de\"><h2 id=\"mw-toc-heading\">Inhaltsverzeichnis</h2><span class=\"toctogglespan\"><label class=\"toctogglelabel\" for=\"toctogglecheckbox\"></label></span></div>\n<ul>\n<li class=\"toclevel-1 tocsection-1\"><a href=\"#Die_größten_Schiffe_nach_Art\"><span class=\"tocnumber\">1</span> <span class=\"toctext\">Die größten Schiffe nach Art</span></a></li>\n<li class=\"toclevel-1 tocsection-2\"><a href=\"#Schiffe_mit_herausragenden_Abmessungen\"><span class=\"tocnumber\">2</span> <span class=\"toctext\">Schiffe mit herausragenden Abmessungen</span></a></li>\n<li class=\"toclevel-1 tocsection-3\"><a href=\"#Siehe_auch\"><span class=\"tocnumber\">3</span> <span class=\"toctext\">Siehe auch</span></a></li>\n<li class=\"toclevel-1 tocsection-4\"><a href=\"#Literatur\"><span class=\"tocnumber\">4</span> <span class=\"toctext\">Literatur</span></a></li>\n<li class=\"toclevel-1 tocsection-5\"><a href=\"#Anmerkung_und_Einzelnachweise\"><span class=\"tocnumber\">5</span> <span class=\"toctext\">Anmerkung und Einzelnachweise</span></a></li>\n</ul>\n</div>\n<h2><span id=\"Die_gr.C3.B6.C3.9Ften_Schiffe_nach_Art\"></span><span class=\"mw-headline\" id=\"Die_größten_Schiffe_nach_Art\">Die größten Schiffe nach Art</span><span class=\"mw-editsection\"><span class=\"mw-editsection-bracket\">[</span><a class=\"mw-editsection-visualeditor\" href=\"/w/index.php?title=Liste_der_gr%C3%B6%C3%9Ften_Schiffe_der_Welt&amp;veaction=edit&amp;section=1\" title=\"Abschnitt bearbeiten: Die größten Schiffe nach Art\"><span>Bearbeiten</span></a><span class=\"mw-editsection-divider\"> | </span><a href=\"/w/index.php?title=Liste_der_gr%C3%B6%C3%9Ften_Schiffe_der_Welt&amp;action=edit&amp;section=1\" title=\"Quellcode des Abschnitts bearbeiten: Die größten Schiffe nach Art\"><span>Quelltext bearbeiten</span></a><span class=\"mw-editsection-bracket\">]</span></span></h2>\n<table class=\"wikitable sortable zebra\">\n<caption>Größte und längste Schiffe ihrer Art\n</caption>\n<tbody><tr>\n<th>Kategorie</th>\n<th>Schiffsname\n</th></tr>\n<tr>\n<td><a href=\"/wiki/Kreuzfahrtschiff\" title=\"Kreuzfahrtschiff\">Kreuzfahrtschiff</a></td>\n<td><i><a href=\"/wiki/Icon_of_the_Seas\" title=\"Icon of the Seas\">Icon of the Seas</a><sup class=\"reference\" id=\"cite_ref-1\"><a href=\"#cite_note-1\">[1]</a></sup></i>\n</td></tr>\n<tr>\n<td><a href=\"/wiki/Segelschiff\" title=\"Segelschiff\">Segelschiff</a></td>\n<td><i><a href=\"/wiki/SY_A\" title=\"SY A\">SY A</a></i>\n</td></tr>\n<tr>\n<td><a href=\"/wiki/Frachtsegler\" title=\"Frachtsegler\">Frachtsegler</a></td>\n<td><i><a href=\"/wiki/France_(Schiff,_1912%E2%80%931922)\" title=\"France (Schiff, 1912–1922)\">France</a></i>\n</td></tr>\n<tr>\n<td><a href=\"/wiki/Eisbrecher\" title=\"Eisbrecher\">Eisbrecher</a></td>\n<td><a class=\"mw-redirect\" href=\"/wiki/Arktika_(Schiff,_2020)\" title=\"Arktika (Schiff, 2020)\"><i>Arktika</i></a>\n</td></tr>\n<tr>\n<td><a href=\"/wiki/Autof%C3%A4hre\" title=\"Autofähre\">Autofähre</a></td>\n<td><i><a href=\"/wiki/Color_Magic\" title=\"Color Magic\">Color Magic</a></i> (nach Größe (BRZ)); <i><a href=\"/wiki/Cruise_Barcelona\" title=\"Cruise Barcelona\">Cruise Barcelona</a></i> und <i><a href=\"/wiki/Cruise_Roma\" title=\"Cruise Roma\">Cruise Roma</a></i> (nach Länge)\n</td></tr>\n<tr>\n<td><a class=\"new\" href=\"/w/index.php?title=LNG-F%C3%A4hre&amp;action=edit&amp;redlink=1\" title=\"LNG-Fähre (Seite nicht vorhanden)\">LNG-Fähre</a></td>\n<td><i><a href=\"/wiki/Nils_Holgersson_(Schiff,_2022)\" title=\"Nils Holgersson (Schiff, 2022)\">Nils Holgerson</a>, <a href=\"/wiki/Peter_Pan_(Schiff,_2022)\" title=\"Peter Pan (Schiff, 2022)\">Peter Pan</a></i>\n</td></tr>\n<tr>\n<td>Kombifähre (Eisenbahn/RoRo)</td>\n<td><i><a href=\"/wiki/Sk%C3%A5ne_(Schiff,_1998)\" title=\"Skåne (Schiff, 1998)\">Skåne</a></i>\n</td></tr>\n<tr>\n<td>Autotransporter</td>\n<td><a href=\"/wiki/Mark-V-Klasse\" title=\"Mark-V-Klasse\">Tysla, Salome</a> (nach Länge und Tragfähigkeit); <a href=\"/wiki/New-Horizon-Klasse\" title=\"New-Horizon-Klasse\"><i>Höegh Target</i></a> (nach Tonnage und Fahrzeugkapazität)\n</td></tr>\n<tr>\n<td><a href=\"/wiki/Flugzeugtr%C3%A4ger\" title=\"Flugzeugträger\">Flugzeugträger</a></td>\n<td><a href=\"/wiki/USS_Gerald_R._Ford_(CVN-78)\" title=\"USS Gerald R. Ford (CVN-78)\">USS <i>Gerald R. Ford</i> (CVN-78)</a> (nach Tonnage); <a href=\"/wiki/USS_Enterprise_(CVN-65)\" title=\"USS Enterprise (CVN-65)\">USS <i>Enterprise</i> (CVN 65)</a> (nach Länge)\n</td></tr>\n<tr>\n<td><a href=\"/wiki/Schlachtschiff\" title=\"Schlachtschiff\">Schlachtschiff</a></td>\n<td><a href=\"/wiki/Yamato_(Schiff,_1941)\" title=\"Yamato (Schiff, 1941)\"><i>Yamato</i></a> und <a href=\"/wiki/Musashi_(Schiff,_1942)\" title=\"Musashi (Schiff, 1942)\"><i>Musashi</i></a>\n</td></tr>\n<tr>\n<td><a class=\"mw-redirect\" href=\"/wiki/Unterseeboot\" title=\"Unterseeboot\">Unterseeboot</a></td>\n<td><a href=\"/wiki/TK-208_Dmitri_Donskoj\" title=\"TK-208 Dmitri Donskoj\"><i>Dmitri Donskoi</i> (TK-208)</a>\n</td></tr>\n<tr>\n<td><a href=\"/wiki/Containerschiff\" title=\"Containerschiff\">Containerschiff</a></td>\n<td><a href=\"/wiki/MSC-Irina-Typ\" title=\"MSC-Irina-Typ\"><i>MSC Irina</i></a><sup class=\"reference\" id=\"cite_ref-2\"><a href=\"#cite_note-2\">[2]</a></sup><sup class=\"reference\" id=\"cite_ref-3\"><a href=\"#cite_note-3\">[3]</a></sup>\n</td></tr>\n<tr>\n<td><a class=\"mw-redirect\" href=\"/wiki/Sch%C3%BCttgutschiff\" title=\"Schüttgutschiff\">Schüttgutschiff</a></td>\n<td><i><a href=\"/wiki/Valemax-Klasse\" title=\"Valemax-Klasse\">Yuan He Hai</a></i> (Valemax-Klasse)\n</td></tr>\n<tr>\n<td><a class=\"mw-redirect\" href=\"/wiki/%C3%96ltanker\" title=\"Öltanker\">Öltanker</a> (doppelwandig)</td>\n<td><i><a href=\"/wiki/Hellespont-Alhambra-Klasse\" title=\"Hellespont-Alhambra-Klasse\">TI Europe</a></i>, <i><a href=\"/wiki/Hellespont-Alhambra-Klasse\" title=\"Hellespont-Alhambra-Klasse\">TI Oceania</a></i> <style data-mw-deduplicate=\"TemplateStyles:r236689292\">.mw-parser-output .fussnoten-marke{font-size:0.75rem;font-style:normal;font-variant:normal;font-weight:normal;unicode-bidi:isolate;white-space:nowrap}.mw-parser-output .fussnoten-marke.reference,.mw-parser-output span.fussnoten-inhalt{padding-left:0.1rem}.mw-parser-output .fussnoten-marke.reference~.fussnoten-marke.reference,.mw-parser-output span.fussnoten-inhalt~span.fussnoten-inhalt{padding-left:0.15rem}.mw-parser-output .fussnoten-block{margin-bottom:0.1rem}.mw-parser-output div.fussnoten-inhalt{display:inline-block;padding-left:0.8rem;text-indent:-0.8rem}.mw-parser-output div.fussnoten-inhalt p,.mw-parser-output div.fussnoten-inhalt dl,.mw-parser-output div.fussnoten-inhalt ol,.mw-parser-output div.fussnoten-inhalt ul{text-indent:0}.mw-parser-output div.fussnoten-inhalt.fussnoten-floatfix{display:block}.mw-parser-output .fussnoten-box{margin-top:0.5rem;padding-left:0.8rem}.mw-parser-output .fussnoten-box,.mw-parser-output div.fussnoten-inhalt{font-size:94%}.mw-parser-output .fussnoten-box div.fussnoten-inhalt,.mw-parser-output span.fussnoten-inhalt,.mw-parser-output .fussnoten-inhalt .mw-reference-text{font-size:inherit}.mw-parser-output .fussnoten-inhalt .mw-reference-text{display:inline}.mw-parser-output .fussnoten-linie{display:inline-block;position:relative;top:-1em;border-top:solid 1px #808080;width:8rem}.mw-parser-output .fussnoten-linie+p,.mw-parser-output .fussnoten-linie+dl,.mw-parser-output .fussnoten-linie+ol,.mw-parser-output .fussnoten-linie+ul,.mw-parser-output .fussnoten-linie+link+div{margin-top:-1em}.mw-parser-output .fussnoten-marke.reference:target,.mw-parser-output .fussnoten-inhalt:target{background-color:#eaf3ff;box-shadow:0 0 0 0.25em #eaf3ff}.mw-parser-output .fussnoten-marke.reference:target,.mw-parser-output .fussnoten-inhalt:target .fussnoten-marke{font-weight:bold}</style>⁠<sup class=\"fussnoten-marke reference\" id=\"FN_Anm._1_back\"><a href=\"#FNZ_Anm._1\">Anm. 1</a></sup>\n</td></tr>\n<tr>\n<td>Öltanker (einwandig)</td>\n<td><i><a href=\"/wiki/Jahre_Viking\" title=\"Jahre Viking\">Jahre Viking</a></i> <link href=\"mw-data:TemplateStyles:r236689292\" rel=\"mw-deduplicated-inline-style\"/>⁠<sup class=\"fussnoten-marke reference\" id=\"FN_Anm._2_back\"><a href=\"#FNZ_Anm._2\">Anm. 2</a></sup>; <i><a href=\"/wiki/Pierre_Guillaumat_(Schiff)\" title=\"Pierre Guillaumat (Schiff)\">Pierre Guillaumat</a></i>\n</td></tr>\n<tr>\n<td><a class=\"mw-redirect\" href=\"/wiki/Fl%C3%BCssiggastanker\" title=\"Flüssiggastanker\">Flüssiggastanker</a></td>\n<td><i><a href=\"/wiki/Nakilat_Q-Max-Klasse\" title=\"Nakilat Q-Max-Klasse\">Mozah</a></i>\n</td></tr>\n<tr>\n<td><a href=\"/wiki/Dockschiff\" title=\"Dockschiff\">Dockschiff</a></td>\n<td><i><a href=\"/wiki/Boka_Vanguard\" title=\"Boka Vanguard\">Boka Vanguard</a></i>\n</td></tr>\n<tr>\n<td><a href=\"/wiki/Schwimmkran\" title=\"Schwimmkran\">Schwimmkran</a></td>\n<td><a href=\"/wiki/Sleipnir_(Schiff)\" title=\"Sleipnir (Schiff)\"><i>Sleipnir</i></a>\n</td></tr>\n<tr>\n<td><a class=\"mw-redirect\" href=\"/wiki/Motoryacht\" title=\"Motoryacht\">Motoryacht</a></td>\n<td><i><a href=\"/wiki/REV_Ocean\" title=\"REV Ocean\">REV Ocean</a></i> (nach Länge); <i><a href=\"/wiki/Dilbar_(Schiff)\" title=\"Dilbar (Schiff)\">Dilbar</a></i> (nach Größe (BRZ))\n</td></tr>\n<tr>\n<td><a href=\"/wiki/Schlepper_(Schiffstyp)\" title=\"Schlepper (Schiffstyp)\">Schlepper</a></td>\n<td><i><a class=\"new\" href=\"/w/index.php?title=Island_Victory&amp;action=edit&amp;redlink=1\" title=\"Island Victory (Seite nicht vorhanden)\">Island Victory</a></i>\n</td></tr>\n<tr>\n<td><a href=\"/wiki/Schubboot\" title=\"Schubboot\">Schubboot</a></td>\n<td><i><a class=\"new\" href=\"/w/index.php?title=E._Bronson_Ingram&amp;action=edit&amp;redlink=1\" title=\"E. Bronson Ingram (Seite nicht vorhanden)\">E. Bronson Ingram</a></i>\n</td></tr>\n<tr>\n<td><a href=\"/wiki/Katamaran\" title=\"Katamaran\">Katamaran</a></td>\n<td><a class=\"mw-redirect\" href=\"/wiki/HSS_1500\" title=\"HSS 1500\"><i>Stena Explorer</i></a>\n</td></tr>\n<tr>\n<td><a href=\"/wiki/Seenotrettungskreuzer\" title=\"Seenotrettungskreuzer\">Seenotrettungskreuzer</a></td>\n<td><a href=\"/wiki/Hermann_Marwede_(Schiff)\" title=\"Hermann Marwede (Schiff)\"><i>Hermann Marwede</i></a>\n</td></tr>\n<tr>\n<td><a href=\"/wiki/Trimaran\" title=\"Trimaran\">Trimaran</a></td>\n<td><a href=\"/wiki/Independence_(Schiff,_2010)\" title=\"Independence (Schiff, 2010)\">USS <i>Independence</i> (LCS-2)</a>\n</td></tr>\n<tr>\n<td><a class=\"mw-redirect\" href=\"/wiki/Motorsegelschiff\" title=\"Motorsegelschiff\">Motorsegelschiff</a></td>\n<td><i><a href=\"/wiki/Club_Med_2\" title=\"Club Med 2\">Club Med 2</a></i>\n</td></tr>\n<tr>\n<td><a href=\"/wiki/Hopperbagger\" title=\"Hopperbagger\">Hopperbagger</a></td>\n<td><a href=\"/wiki/Crist%C3%B3bal-Col%C3%B3n-Klasse\" title=\"Cristóbal-Colón-Klasse\"><i>Cristóbal-Colón</i>-Klasse</a>\n</td></tr>\n<tr>\n<td><a class=\"mw-redirect\" href=\"/wiki/Segelyacht\" title=\"Segelyacht\">Segelyacht</a></td>\n<td><i><a href=\"/wiki/SY_A\" title=\"SY A\">SY A</a></i>\n</td></tr>\n<tr>\n<td><a href=\"/wiki/Arbeitsschiff\" title=\"Arbeitsschiff\">Arbeitsschiff</a></td>\n<td><i><a href=\"/wiki/Pioneering_Spirit\" title=\"Pioneering Spirit\">Pioneering Spirit</a></i>\n</td></tr>\n<tr>\n<td>Schwimmende Erdöl-/Erdgas-Förderanlagen und Verflüssigungsanlagen (FPSO / FLNG)</td>\n<td><i><a href=\"/wiki/Prelude_(Schiff)\" title=\"Prelude (Schiff)\">Prelude</a></i>\n</td></tr>\n<tr>\n<td><a href=\"/wiki/Hospitalschiff\" title=\"Hospitalschiff\">Hospitalschiff</a></td>\n<td><i><a href=\"/wiki/USNS_Comfort_(T-AH-20)\" title=\"USNS Comfort (T-AH-20)\">USNS Comfort</a></i>\n</td></tr></tbody></table>\n<link href=\"mw-data:TemplateStyles:r236689292\" rel=\"mw-deduplicated-inline-style\"/><div class=\"fussnoten-box\">\n<div aria-hidden=\"true\" class=\"fussnoten-linie\" role=\"presentation\"></div>\n<p><br/>\n</p>\n<link href=\"mw-data:TemplateStyles:r236689292\" rel=\"mw-deduplicated-inline-style\"/><div class=\"fussnoten-block\"><div class=\"fussnoten-inhalt references\" id=\"FNZ_Anm._1\"><sup class=\"fussnoten-marke\"><a href=\"#FN_Anm._1_back\">Anm. 1</a></sup> <div class=\"mw-reference-text\">Die <i>TI Europe</i> und ihr Schwesterschiff, die <i>TI Oceania</i>, sind die größten <a href=\"/wiki/Doppelh%C3%BCllenschiff\" title=\"Doppelhüllenschiff\">Doppelhüllentanker</a> der Welt. Zwei weitere Schwesterschiffe, die <i>TI Asia</i> und die <i>TI Africa</i>, wurden zu stationären Offshore-Plattformen umgebaut.</div></div></div>\n<link href=\"mw-data:TemplateStyles:r236689292\" rel=\"mw-deduplicated-inline-style\"/><div class=\"fussnoten-block\"><div class=\"fussnoten-inhalt references\" id=\"FNZ_Anm._2\"><sup class=\"fussnoten-marke\"><a href=\"#FN_Anm._2_back\">Anm. 2</a></sup> <div class=\"mw-reference-text\">Der Öltanker <i>Jahre Viking</i> war ehemals das größte und längste Schiff der Welt, er wurde später zu einer <a href=\"/wiki/Floating_Production_Storage_and_Offloading_Unit\" title=\"Floating Production Storage and Offloading Unit\">FSO</a>, einer stationären <a href=\"/wiki/Offshorebauwerk\" title=\"Offshorebauwerk\">Offshore-Plattform</a>, umgebaut und erhielt den Namen <i>Knock Nevis</i>. Die <i>Pierre Guillaumat</i> war der größte in einem Stück gebaute Tanker.</div></div></div>\n<p><br/>\n</p>\n</div>\n<p>Nach dem Abwracken der <i>Jahre Viking</i> und den 4 Schiffen der <a href=\"/wiki/Batillus-Klasse\" title=\"Batillus-Klasse\"><i>Batillus</i>-Klasse</a> waren die Containerschiffe der <a href=\"/wiki/Emma-M%C3%A6rsk-Klasse\" title=\"Emma-Mærsk-Klasse\"><i>Emma-Mærsk</i>-Klasse</a> bis 2013 die längsten Schiffe der Welt.\n</p><p>Nach <a href=\"/wiki/Schiffsma%C3%9Fe#Brutto-_und_Nettoraumzahl_(BRZ,_NRZ)\" title=\"Schiffsmaße\">Bruttoraumzahl</a> (BRZ) ist der <a href=\"/wiki/Rohrleger\" title=\"Rohrleger\">Rohrleger</a> <i><a href=\"/wiki/Pioneering_Spirit\" title=\"Pioneering Spirit\">Pioneering Spirit</a></i> das größte Schiff der Welt.\n</p>\n<ul class=\"gallery mw-gallery-traditional\">\n<li class=\"gallerybox\" style=\"width: 155px\">\n<div class=\"thumb\" style=\"width: 150px; height: 150px;\"><span typeof=\"mw:File\"><a class=\"mw-file-description\" href=\"/wiki/Datei:Freedom-of-the-Seas--in-Hamburg.jpg\" title=\"Freedom of the Seas\"><img alt=\"Freedom of the Seas\" class=\"mw-file-element\" data-file-height=\"1200\" data-file-width=\"1800\" decoding=\"async\" height=\"80\" src=\"//upload.wikimedia.org/wikipedia/commons/thumb/0/02/Freedom-of-the-Seas--in-Hamburg.jpg/120px-Freedom-of-the-Seas--in-Hamburg.jpg\" srcset=\"//upload.wikimedia.org/wikipedia/commons/thumb/0/02/Freedom-of-the-Seas--in-Hamburg.jpg/180px-Freedom-of-the-Seas--in-Hamburg.jpg 1.5x, //upload.wikimedia.org/wikipedia/commons/thumb/0/02/Freedom-of-the-Seas--in-Hamburg.jpg/240px-Freedom-of-the-Seas--in-Hamburg.jpg 2x\" width=\"120\"/></a></span></div>\n<div class=\"gallerytext\"><i><a href=\"/wiki/Freedom_of_the_Seas\" title=\"Freedom of the Seas\">Freedom of the Seas</a></i></div>\n</li>\n<li class=\"gallerybox\" style=\"width: 155px\">\n<div class=\"thumb\" style=\"width: 150px; height: 150px;\"><span typeof=\"mw:File\"><a class=\"mw-file-description\" href=\"/wiki/Datei:Royal_clipper.jpg\" title=\"Royal Clipper\"><img alt=\"Royal Clipper\" class=\"mw-file-element\" data-file-height=\"927\" data-file-width=\"1614\" decoding=\"async\" height=\"69\" src=\"//upload.wikimedia.org/wikipedia/commons/thumb/b/be/Royal_clipper.jpg/120px-Royal_clipper.jpg\" srcset=\"//upload.wikimedia.org/wikipedia/commons/thumb/b/be/Royal_clipper.jpg/180px-Royal_clipper.jpg 1.5x, //upload.wikimedia.org/wikipedia/commons/thumb/b/be/Royal_clipper.jpg/240px-Royal_clipper.jpg 2x\" width=\"120\"/></a></span></div>\n<div class=\"gallerytext\"><i><a href=\"/wiki/Royal_Clipper\" title=\"Royal Clipper\">Royal Clipper</a></i></div>\n</li>\n<li class=\"gallerybox\" style=\"width: 155px\">\n<div class=\"thumb\" style=\"width: 150px; height: 150px;\"><span typeof=\"mw:File\"><a class=\"mw-file-description\" href=\"/wiki/Datei:Queen_Mary_2_02_KMJ.jpg\" title=\"Queen Mary 2\"><img alt=\"Queen Mary 2\" class=\"mw-file-element\" data-file-height=\"343\" data-file-width=\"768\" decoding=\"async\" height=\"54\" src=\"//upload.wikimedia.org/wikipedia/commons/thumb/4/4d/Queen_Mary_2_02_KMJ.jpg/120px-Queen_Mary_2_02_KMJ.jpg\" srcset=\"//upload.wikimedia.org/wikipedia/commons/thumb/4/4d/Queen_Mary_2_02_KMJ.jpg/180px-Queen_Mary_2_02_KMJ.jpg 1.5x, //upload.wikimedia.org/wikipedia/commons/thumb/4/4d/Queen_Mary_2_02_KMJ.jpg/240px-Queen_Mary_2_02_KMJ.jpg 2x\" width=\"120\"/></a></span></div>\n<div class=\"gallerytext\"><i><a href=\"/wiki/Queen_Mary_2\" title=\"Queen Mary 2\">Queen Mary 2</a></i></div>\n</li>\n<li class=\"gallerybox\" style=\"width: 155px\">\n<div class=\"thumb\" style=\"width: 150px; height: 150px;\"><span typeof=\"mw:File\"><a class=\"mw-file-description\" href=\"/wiki/Datei:Stena_Hollandica_at_Hoek_van_Holland_Haven_aerial_photo.jpg\" title=\"Stena Hollandica\"><img alt=\"Stena Hollandica\" class=\"mw-file-element\" data-file-height=\"2588\" data-file-width=\"3882\" decoding=\"async\" height=\"80\" src=\"//upload.wikimedia.org/wikipedia/commons/thumb/c/c9/Stena_Hollandica_at_Hoek_van_Holland_Haven_aerial_photo.jpg/120px-Stena_Hollandica_at_Hoek_van_Holland_Haven_aerial_photo.jpg\" srcset=\"//upload.wikimedia.org/wikipedia/commons/thumb/c/c9/Stena_Hollandica_at_Hoek_van_Holland_Haven_aerial_photo.jpg/180px-Stena_Hollandica_at_Hoek_van_Holland_Haven_aerial_photo.jpg 1.5x, //upload.wikimedia.org/wikipedia/commons/thumb/c/c9/Stena_Hollandica_at_Hoek_van_Holland_Haven_aerial_photo.jpg/240px-Stena_Hollandica_at_Hoek_van_Holland_Haven_aerial_photo.jpg 2x\" width=\"120\"/></a></span></div>\n<div class=\"gallerytext\"><i><a href=\"/wiki/RoPax_55\" title=\"RoPax 55\">Stena Hollandica</a></i></div>\n</li>\n<li class=\"gallerybox\" style=\"width: 155px\">\n<div class=\"thumb\" style=\"width: 150px; height: 150px;\"><span typeof=\"mw:File\"><a class=\"mw-file-description\" href=\"/wiki/Datei:White_Pearl_A_Seite.JPG\" title=\"SY A\"><img alt=\"SY A\" class=\"mw-file-element\" data-file-height=\"1350\" data-file-width=\"1600\" decoding=\"async\" height=\"101\" src=\"//upload.wikimedia.org/wikipedia/commons/thumb/e/ef/White_Pearl_A_Seite.JPG/120px-White_Pearl_A_Seite.JPG\" srcset=\"//upload.wikimedia.org/wikipedia/commons/thumb/e/ef/White_Pearl_A_Seite.JPG/180px-White_Pearl_A_Seite.JPG 1.5x, //upload.wikimedia.org/wikipedia/commons/thumb/e/ef/White_Pearl_A_Seite.JPG/240px-White_Pearl_A_Seite.JPG 2x\" width=\"120\"/></a></span></div>\n<div class=\"gallerytext\"><i><a href=\"/wiki/SY_A\" title=\"SY A\">SY A</a></i></div>\n</li>\n</ul>\n<h2><span class=\"mw-headline\" id=\"Schiffe_mit_herausragenden_Abmessungen\">Schiffe mit herausragenden Abmessungen</span><span class=\"mw-editsection\"><span class=\"mw-editsection-bracket\">[</span><a class=\"mw-editsection-visualeditor\" href=\"/w/index.php?title=Liste_der_gr%C3%B6%C3%9Ften_Schiffe_der_Welt&amp;veaction=edit&amp;section=2\" title=\"Abschnitt bearbeiten: Schiffe mit herausragenden Abmessungen\"><span>Bearbeiten</span></a><span class=\"mw-editsection-divider\"> | </span><a href=\"/w/index.php?title=Liste_der_gr%C3%B6%C3%9Ften_Schiffe_der_Welt&amp;action=edit&amp;section=2\" title=\"Quellcode des Abschnitts bearbeiten: Schiffe mit herausragenden Abmessungen\"><span>Quelltext bearbeiten</span></a><span class=\"mw-editsection-bracket\">]</span></span></h2>\n<p>Eine Auswahl von zum Teil historischen Schiffen, die (zu ihrer Zeit) zu den größten Schiffen ihrer Art gehören bzw. gehörten. Die Schiffe sind in der Tabelle nach ihrer Länge sortiert, können aber durch die schwarzen Doppeldreiecke auf grauem Grund neben der Spaltenüberschrift nach jeder beliebigen Kategorie sortiert werden.\n</p>\n<table class=\"wikitable sortable toptextcells zebra\">\n<tbody><tr>\n<th>Name\n</th>\n<th>Klasse\n</th>\n<th>Art\n</th>\n<th>Besonderheit\n</th>\n<th data-sort-type=\"number\"><a href=\"/wiki/Registertonne#Bruttoregistertonne\" title=\"Registertonne\">BRT</a>\n</th>\n<th data-sort-type=\"number\"><a href=\"/wiki/Schiffsma%C3%9Fe#Brutto-_und_Nettoraumzahl_(BRZ,_NRZ)\" title=\"Schiffsmaße\">BRZ</a>\n</th>\n<th data-sort-type=\"number\"><a href=\"/wiki/Schiffsma%C3%9Fe#Verdrängung\" title=\"Schiffsmaße\">Verdr.</a> /t\n</th>\n<th data-sort-type=\"number\">Länge /m\n</th>\n<th data-sort-type=\"number\">Breite /m\n</th>\n<th data-sort-type=\"number\">Jahr<br/><small>(Dienstbeg.)</small>\n</th>\n<th>Status\n</th></tr>\n<tr>\n<td><i><a href=\"/wiki/Prelude_(Schiff)\" title=\"Prelude (Schiff)\">Prelude</a></i>\n</td>\n<td>\n</td>\n<td><a href=\"/wiki/Fl%C3%BCssigerdgas#Floating_Liquefied_Natural_Gas_(FLNG)\" title=\"Flüssigerdgas\">FLNG</a>-Plattform<sup class=\"reference\" id=\"cite_ref-4\"><a href=\"#cite_note-4\">[4]</a></sup></td>\n<td>Schwimmende, selbst-manövrierende Plattform. Im eigentlichen Sinne kein Schiff</td>\n<td>–</td>\n<td>300.000</td>\n<td>600.000</td>\n<td>488,00</td>\n<td>74,00</td>\n<td>2017</td>\n<td>in Dienst\n</td></tr>\n<tr>\n<td><i><a href=\"/wiki/Jahre_Viking\" title=\"Jahre Viking\">Jahre Viking</a></i>\n</td>\n<td>\n</td>\n<td><a href=\"/wiki/Tanker\" title=\"Tanker\">Tanker</a>, einwandig / später <a href=\"/wiki/Floating_Production_Storage_and_Offloading_Unit\" title=\"Floating Production Storage and Offloading Unit\">FSO</a></td>\n<td>(Nach Umbau) längstes jemals gebautes Schiff; später als FSO (Lager- und Umschlagstation) genutzt</td>\n<td>–</td>\n<td>260.941</td>\n<td>647.955</td>\n<td>458,45</td>\n<td>68,80</td>\n<td>1979</td>\n<td>abgewrackt\n</td></tr>\n<tr>\n<td><i><a href=\"/wiki/Pierre_Guillaumat_(Schiff)\" title=\"Pierre Guillaumat (Schiff)\">Pierre Guillaumat</a></i>\n</td>\n<td>\n</td>\n<td><a href=\"/wiki/Tanker\" title=\"Tanker\">Tanker</a>, einwandig</td>\n<td>Bis 2014 war es das längste „in einem Stück“ gebaute Schiff</td>\n<td>274.838</td>\n<td>–</td>\n<td>630.962</td>\n<td>414,23</td>\n<td>63,05</td>\n<td>1977</td>\n<td>abgewrackt\n</td></tr>\n<tr>\n<td><i>MOL Triumph</i>\n</td>\n<td><a href=\"/wiki/MOL_20.000-TEU-Typ\" title=\"MOL 20.000-TEU-Typ\">MOL 20.000-TEU-Typ</a>\n</td>\n<td><a href=\"/wiki/Containerschiff\" title=\"Containerschiff\">Containerschiff</a></td>\n<td>2017 kurzzeitig größtes Containerschiff nach BRZ und Containerzahl (TEU)</td>\n<td>–</td>\n<td>199.000</td>\n<td>?</td>\n<td>400,00</td>\n<td>58,80</td>\n<td>2017</td>\n<td>in Dienst\n</td></tr>\n<tr>\n<td><i>Majestic Mærsk</i>\n</td>\n<td><a href=\"/wiki/Triple-E-Klasse\" title=\"Triple-E-Klasse\">Triple-E-Klasse</a>\n</td>\n<td><a href=\"/wiki/Containerschiff\" title=\"Containerschiff\">Containerschiff</a></td>\n<td>Von 2013 bis 2014 längstes Containerschiff</td>\n<td>–</td>\n<td>194.849</td>\n<td>?</td>\n<td>399,00</td>\n<td>59,00</td>\n<td>2013</td>\n<td>in Dienst\n</td></tr>\n<tr>\n<td><i><a href=\"/wiki/Pioneering_Spirit\" title=\"Pioneering Spirit\">Pioneering Spirit</a></i>\n</td>\n<td>\n</td>\n<td><a href=\"/wiki/Rohrleger\" title=\"Rohrleger\">Rohrleger</a></td>\n<td>Arbeitsschiff. Größtes (nach BRZ) jemals gebautes Schiff</td>\n<td>–</td>\n<td>403.342</td>\n<td>900.000</td>\n<td>382,00</td>\n<td>123,75</td>\n<td>2014</td>\n<td>in Dienst\n</td></tr>\n<tr>\n<td><i>TI Europe</i>\n</td>\n<td><a href=\"/wiki/Hellespont-Alhambra-Klasse\" title=\"Hellespont-Alhambra-Klasse\"><i>Hellespont-Alhambra</i>-Klasse</a>\n</td>\n<td><a href=\"/wiki/Tanker\" title=\"Tanker\">Tanker</a>, <a href=\"/wiki/Doppelh%C3%BCllenschiff\" title=\"Doppelhüllenschiff\"><i>doppelwandig</i></a></td>\n<td>Größter Doppelhüllen-Tanker</td>\n<td>–</td>\n<td>234.006</td>\n<td>?</td>\n<td>380,00</td>\n<td>68,00</td>\n<td>?</td>\n<td>in Dienst\n</td></tr>\n<tr>\n<td><i><a href=\"/wiki/Nanny_(Schiff)\" title=\"Nanny (Schiff)\">Nanny</a></i>\n</td>\n<td>\n</td>\n<td><a href=\"/wiki/Tanker\" title=\"Tanker\">Tanker</a>, einwandig</td>\n<td>Breitestes je gebautes Frachtschiff</td>\n<td>–</td>\n<td>245.140</td>\n<td>?</td>\n<td>364,04</td>\n<td>79,04</td>\n<td>1978</td>\n<td>2003 abgewrackt\n</td></tr>\n<tr>\n<td><i><a href=\"/wiki/Wonder_of_the_Seas\" title=\"Wonder of the Seas\">Wonder of the Seas</a></i>\n</td>\n<td><a class=\"mw-redirect\" href=\"/wiki/Oasis-Klasse\" title=\"Oasis-Klasse\"><i>Oasis</i>-Klasse</a>\n</td>\n<td><a href=\"/wiki/Kreuzfahrtschiff\" title=\"Kreuzfahrtschiff\">Kreuzfahrtschiff</a></td>\n<td>Bis Ende 2023 größtes jemals gebautes Passagierschiff (Kreuzfahrtschiff) (nach BRZ). Seit 2024 ist <a href=\"/wiki/Icon_of_the_Seas\" title=\"Icon of the Seas\">Icon of the Seas</a> am größten.</td>\n<td>–</td>\n<td>236.857</td>\n<td>100.000</td>\n<td>362</td>\n<td>66,00 ü.A.</td>\n<td>2021</td>\n<td>in Dienst\n</td></tr>\n<tr>\n<td><i>Vale Brasil</i>\n</td>\n<td><a href=\"/wiki/Valemax-Klasse\" title=\"Valemax-Klasse\">Valemax-Klasse</a>\n</td>\n<td><a href=\"/wiki/Massengutfrachter\" title=\"Massengutfrachter\">Massengutfrachter</a></td>\n<td>Größter Schüttgutfrachter der Welt (nach Ladekapazität und Länge)</td>\n<td>–</td>\n<td>198.980</td>\n<td>?</td>\n<td>362,00</td>\n<td>65,06</td>\n<td>?</td>\n<td>in Dienst\n</td></tr>\n<tr>\n<td><i><a href=\"/wiki/Queen_Mary_2\" title=\"Queen Mary 2\">Queen Mary 2</a></i>\n</td>\n<td>\n</td>\n<td><a href=\"/wiki/Passagierschiff\" title=\"Passagierschiff\">Passagierschiff</a></td>\n<td>Größter planmäßig verkehrender Transatlantikliner. Daneben auch Einsatz als Kreuzfahrtschiff</td>\n<td>–</td>\n<td>148.528</td>\n<td>79.827</td>\n<td>345,03</td>\n<td>41,08</td>\n<td>2004</td>\n<td>in Dienst\n</td></tr>\n<tr>\n<td><a href=\"/wiki/USS_Enterprise_(CVN-65)\" title=\"USS Enterprise (CVN-65)\">USS <i>Enterprise</i></a>\n</td>\n<td>\n</td>\n<td><a href=\"/wiki/Flugzeugtr%C3%A4ger\" title=\"Flugzeugträger\">Flugzeugträger</a></td>\n<td>Längster jemals gebauter Flugzeugträger und Kriegsschiff</td>\n<td>–</td>\n<td>–</td>\n<td>75.704</td>\n<td>342,30</td>\n<td>78,30</td>\n<td>1961</td>\n<td>2012 außer Dienst\n</td></tr>\n<tr>\n<td><i><a href=\"/wiki/USS_Nimitz_(CVN-68)\" title=\"USS Nimitz (CVN-68)\">USS Nimitz</a></i>\n</td>\n<td><a href=\"/wiki/Nimitz-Klasse\" title=\"Nimitz-Klasse\"><i>Nimitz</i>-Klasse</a>\n</td>\n<td><a href=\"/wiki/Flugzeugtr%C3%A4ger\" title=\"Flugzeugträger\">Flugzeugträger</a></td>\n<td></td>\n<td>–</td>\n<td>–</td>\n<td>97.000</td>\n<td>332,85</td>\n<td>76,80</td>\n<td>1975</td>\n<td>in Dienst\n</td></tr>\n<tr>\n<td><i><a href=\"/wiki/Normandie_(Schiff,_1935)\" title=\"Normandie (Schiff, 1935)\">Normandie</a></i>\n</td>\n<td>\n</td>\n<td><a href=\"/wiki/Passagierschiff\" title=\"Passagierschiff\">Passagierschiff</a></td>\n<td>Zu ihrer Zeit das größte Schiff der Welt</td>\n<td>79.000</td>\n<td>–</td>\n<td>71.300</td>\n<td>313,58</td>\n<td>36,40</td>\n<td>1935</td>\n<td>1942 nach Brand gekentert, später geborgen und abgewrackt\n</td></tr>\n<tr>\n<td><i><a href=\"/wiki/Vaterland_(Schiff,_1914)\" title=\"Vaterland (Schiff, 1914)\">Vaterland</a></i>\n</td>\n<td><a href=\"/wiki/Imperator-Klasse\" title=\"Imperator-Klasse\"><i>Imperator</i>-Klasse</a>\n</td>\n<td><a href=\"/wiki/Passagierschiff\" title=\"Passagierschiff\">Passagierschiff</a></td>\n<td>Die <i>Vaterland</i> ist bis heute das größte jemals unter deutscher Flagge gefahrene Passagierschiff und zugleich das größte mit Kohlefeuerung betriebene Dampfschiff der Geschichte</td>\n<td>54.282</td>\n<td>–</td>\n<td>?</td>\n<td>289,56</td>\n<td>30,48</td>\n<td>1914</td>\n<td>1938 abgewrackt\n</td></tr>\n<tr>\n<td><i><a href=\"/wiki/Boka_Vanguard\" title=\"Boka Vanguard\">Boka Vanguard</a></i>\n</td>\n<td>\n</td>\n<td><a href=\"/wiki/Halbtaucher\" title=\"Halbtaucher\">Halbtaucherschiff</a></td>\n<td>Größter Schwergutfrachter</td>\n<td>–</td>\n<td>91.784</td>\n<td>?</td>\n<td>275,00</td>\n<td>78,75</td>\n<td>2013</td>\n<td>in Fahrt\n</td></tr>\n<tr>\n<td><i><a href=\"/wiki/Titanic_(Schiff)\" title=\"Titanic (Schiff)\">Titanic</a></i>\n</td>\n<td><a href=\"/wiki/Olympic-Klasse\" title=\"Olympic-Klasse\"><i>Olympic</i>-Klasse</a>\n</td>\n<td><a href=\"/wiki/Passagierschiff\" title=\"Passagierschiff\">Passagierschiff</a></td>\n<td>Zu ihrer Zeit das größte Schiff der Welt. Durch den tragischen Untergang eines der bekanntesten und berühmtesten Schiffe überhaupt</td>\n<td>46.329</td>\n<td>–</td>\n<td>53.147</td>\n<td>269,04</td>\n<td>28,19</td>\n<td>1912</td>\n<td>1912 Untergang\n</td></tr>\n<tr>\n<td><i>Tønsberg</i>\n</td>\n<td><a href=\"/wiki/Mark-V-Klasse\" title=\"Mark-V-Klasse\">Mark-V-Klasse</a>\n</td>\n<td><a href=\"/wiki/Autotransporter_(Schiffstyp)\" title=\"Autotransporter (Schiffstyp)\">Autotransporter</a></td>\n<td>Größter Autotransporter mit Ladekapazität von ca. 6.000 PKW</td>\n<td>–</td>\n<td>76.500</td>\n<td>41.820</td>\n<td>265,00</td>\n<td>32,26</td>\n<td>?</td>\n<td>in Dienst\n</td></tr>\n<tr>\n<td><i><a href=\"/wiki/Yamato_(Schiff,_1941)\" title=\"Yamato (Schiff, 1941)\">Yamato</a></i>\n</td>\n<td><a href=\"/wiki/Yamato-Klasse\" title=\"Yamato-Klasse\"><i>Yamato</i>-Klasse</a>\n</td>\n<td><a href=\"/wiki/Schlachtschiff\" title=\"Schlachtschiff\">Schlachtschiff</a></td>\n<td>Größtes jemals gebautes Schlachtschiff (nach Verdrängung und Länge)</td>\n<td>–</td>\n<td>–</td>\n<td>65.000</td>\n<td>263,00</td>\n<td>38,90</td>\n<td>1941</td>\n<td>1945 versenkt\n</td></tr>\n<tr>\n<td><i><a href=\"/wiki/HMS_Hood_(51)\" title=\"HMS Hood (51)\">HMS Hood</a></i>\n</td>\n<td>\n</td>\n<td><a href=\"/wiki/Schlachtkreuzer\" title=\"Schlachtkreuzer\">Schlachtkreuzer</a></td>\n<td>Zwischen den Weltkriegen größter und längster Schlachtkreuzer. Wurde von der <a href=\"/wiki/Bismarck_(Schiff,_1939)\" title=\"Bismarck (Schiff, 1939)\"><i>Bismarck</i></a> versenkt.</td>\n<td>–</td>\n<td>–</td>\n<td>42.600</td>\n<td>262,30</td>\n<td>32,00</td>\n<td>1918</td>\n<td>1941 versenkt\n</td></tr>\n<tr>\n<td><i><a href=\"/wiki/Bismarck_(Schiff,_1939)\" title=\"Bismarck (Schiff, 1939)\">Bismarck</a></i>\n</td>\n<td><a href=\"/wiki/Bismarck-Klasse_(1939)\" title=\"Bismarck-Klasse (1939)\"><i>Bismarck</i>-Klasse</a>\n</td>\n<td><a href=\"/wiki/Schlachtschiff\" title=\"Schlachtschiff\">Schlachtschiff</a></td>\n<td>Bei ihrer Indienststellung galt sie als das weltweit größte und kampfstärkste Schlachtschiff.</td>\n<td>–</td>\n<td>–</td>\n<td>41.700</td>\n<td>250,50</td>\n<td>36,00</td>\n<td>1939</td>\n<td>1941 versenkt\n</td></tr>\n<tr>\n<td><i><a href=\"/wiki/Stena_Scandinavica_(Schiff,_2003)\" title=\"Stena Scandinavica (Schiff, 2003)\">Stena Scandinavica</a></i>\n</td>\n<td>\n</td>\n<td><a href=\"/wiki/F%C3%A4hre\" title=\"Fähre\">Fähre</a></td>\n<td>Größte Fähre nach Länge</td>\n<td>–</td>\n<td>51.837</td>\n<td>?</td>\n<td>243,30</td>\n<td>28,70</td>\n<td>?</td>\n<td>in Dienst\n</td></tr>\n<tr>\n<td><i><a href=\"/wiki/Color_Magic\" title=\"Color Magic\">Color Magic</a></i>\n</td>\n<td>\n</td>\n<td><a href=\"/wiki/F%C3%A4hre\" title=\"Fähre\">Fähre</a></td>\n<td>Größte Fähre nach BRZ</td>\n<td>–</td>\n<td>75.156</td>\n<td>?</td>\n<td>223,75</td>\n<td>35,00</td>\n<td></td>\n<td>In Fahrt\n</td></tr>\n<tr>\n<td><i><a class=\"new\" href=\"/w/index.php?title=Crist%C3%B3bal_Col%C3%B3n_(Hopperbagger)&amp;action=edit&amp;redlink=1\" title=\"Cristóbal Colón (Hopperbagger) (Seite nicht vorhanden)\">Cristóbal Colón</a></i>\n</td>\n<td>\n</td>\n<td><a href=\"/wiki/Hopperbagger\" title=\"Hopperbagger\">Hopperbagger</a></td>\n<td>–</td>\n<td>–</td>\n<td>?</td>\n<td>78.000</td>\n<td>223,00</td>\n<td>41,00</td>\n<td>?</td>\n<td>in Dienst\n</td></tr>\n<tr>\n<td><i><a href=\"/wiki/Great_Eastern\" title=\"Great Eastern\">Great Eastern</a></i>\n</td>\n<td>\n</td>\n<td><a href=\"/wiki/Segeldampfer\" title=\"Segeldampfer\">Segeldampfer</a></td>\n<td>Seinerzeit größtes je gebautes Schiff (bis 1901)</td>\n<td>18.915</td>\n<td>–</td>\n<td>32.000</td>\n<td>211,00</td>\n<td>23,50</td>\n<td>1858</td>\n<td>1889 abgewrackt\n</td></tr>\n<tr>\n<td><i><a href=\"/wiki/Ulysses_(Schiff,_2001)\" title=\"Ulysses (Schiff, 2001)\">Ulysses</a></i>\n</td>\n<td>\n</td>\n<td><a href=\"/wiki/F%C3%A4hre\" title=\"Fähre\">Fähre</a></td>\n<td>–</td>\n<td>–</td>\n<td>50.938</td>\n<td>27.425</td>\n<td>209,02</td>\n<td>31,20</td>\n<td>2001</td>\n<td>in Dienst\n</td></tr>\n<tr>\n<td><i><a href=\"/wiki/Hughes_Glomar_Explorer\" title=\"Hughes Glomar Explorer\">Hughes Glomar Explorer</a></i>\n</td>\n<td>\n</td>\n<td><a href=\"/wiki/Bergungsschiff\" title=\"Bergungsschiff\">Bergungsschiff</a></td>\n<td>–</td>\n<td>–</td>\n<td>27.686</td>\n<td>63.000</td>\n<td>188,70</td>\n<td>35,30</td>\n<td>?</td>\n<td>2015 abgewrackt\n</td></tr>\n<tr>\n<td><i><a href=\"/wiki/Club_Med_2\" title=\"Club Med 2\">Club Med 2</a></i>\n</td>\n<td>\n</td>\n<td><a href=\"/wiki/Motorsegler_(Wasserfahrzeug)\" title=\"Motorsegler (Wasserfahrzeug)\">Motorsegelschiff</a></td>\n<td>–</td>\n<td>–</td>\n<td>19.983</td>\n<td>?</td>\n<td>187,00</td>\n<td>20,00</td>\n<td>?</td>\n<td>in Dienst\n</td></tr>\n<tr>\n<td><i><a href=\"/wiki/Azzam_(Schiff)\" title=\"Azzam (Schiff)\">Azzam</a></i>\n</td>\n<td>\n</td>\n<td><a href=\"/wiki/Motorboot\" title=\"Motorboot\">Motoryacht</a></td>\n<td>Längste private Motoryacht der Welt</td>\n<td>?</td>\n<td>?</td>\n<td>?</td>\n<td>180,0</td>\n<td>20,80</td>\n<td>2013</td>\n<td>in Dienst\n</td></tr>\n<tr>\n<td><i><a href=\"/wiki/TK-208_Dmitri_Donskoj\" title=\"TK-208 Dmitri Donskoj\">Dmitri Donskoj</a></i>\n</td>\n<td><a href=\"/wiki/Projekt_941\" title=\"Projekt 941\"><i>Typhoon</i>-Klasse</a>\n</td>\n<td><a href=\"/wiki/U-Boot\" title=\"U-Boot\">Unterseeboot</a></td>\n<td>Größtes je gebautes (Atom-)Unterseeboot (nach Verdrängung und Länge)</td>\n<td>–</td>\n<td>–</td>\n<td>23.200</td>\n<td>172,80</td>\n<td>23,30</td>\n<td>1981</td>\n<td>in Dienst\n</td></tr>\n<tr>\n<td><i><a href=\"/wiki/50_Let_Pobedy_(Schiff)\" title=\"50 Let Pobedy (Schiff)\">50 Let Pobedy</a></i>\n</td>\n<td><a href=\"/wiki/Arktika-Klasse\" title=\"Arktika-Klasse\"><i>Arktica</i>-Klasse</a>\n</td>\n<td><a href=\"/wiki/Eisbrecher\" title=\"Eisbrecher\">Eisbrecher</a></td>\n<td>Größter und leistungsfähigster Eisbrecher</td>\n<td>–</td>\n<td>23.439</td>\n<td>25.840</td>\n<td>159,60</td>\n<td>30,00</td>\n<td>2007</td>\n<td>in Dienst\n</td></tr>\n<tr>\n<td><i><a href=\"/wiki/France_(Schiff,_1912%E2%80%931922)\" title=\"France (Schiff, 1912–1922)\">France</a></i>\n</td>\n<td>\n</td>\n<td><a href=\"/wiki/Segelschiff\" title=\"Segelschiff\">Segelschiff</a> <i><a href=\"/wiki/Auxiliarsegler\" title=\"Auxiliarsegler\">Aux.</a></i> / <a href=\"/wiki/Segelschiff\" title=\"Segelschiff\">Segelschiff</a></td>\n<td>Segelschiff zunächst mit Motoren; nach Ausbau der Motoren (1919) größtes Segelschiff nach BRT</td>\n<td>5.633</td>\n<td>–</td>\n<td>10.710</td>\n<td>146,5</td>\n<td>16,90</td>\n<td>1911</td>\n<td>gestrandet\n</td></tr>\n<tr>\n<td><i><a href=\"/wiki/Preu%C3%9Fen_(Schiff,_1902)\" title=\"Preußen (Schiff, 1902)\">Preußen</a></i>\n</td>\n<td>\n</td>\n<td><a href=\"/wiki/Segelschiff\" title=\"Segelschiff\">Segelschiff</a></td>\n<td>Die <i>Preußen</i> war bis zur Inbetriebnahme des Luxuskreuzfahrtschiffes <i><a href=\"/wiki/Royal_Clipper\" title=\"Royal Clipper\">Royal Clipper</a></i> im Jahr 2000 das einzige je gebaute Fünfmast<a href=\"/wiki/Vollschiff\" title=\"Vollschiff\">vollschiff</a> und erreichte mit 47 Segeln, davon 30 <a href=\"/wiki/Rahsegel\" title=\"Rahsegel\">Rahsegeln</a>, auch das Maximum in der Anzahl der Segel. Sie zählt zu den größten Segelschiffen der Schiffahrtsgeschichte überhaupt. Sie führt u.A. die Ranglisten nach Lüa (147 m), Segelfläche (6.805 m²), Frachtmenge (8.000 t) sowie Geschwindigkeit für Frachtsegler (20 Knoten) an.</td>\n<td>5.081</td>\n<td>–</td>\n<td>11.650</td>\n<td>147,00</td>\n<td>16,34</td>\n<td>1902</td>\n<td>gestrandet\n</td></tr>\n<tr>\n<td><i><a href=\"/wiki/Royal_Clipper\" title=\"Royal Clipper\">Royal Clipper</a></i>\n</td>\n<td>\n</td>\n<td><a href=\"/wiki/Segelschiff\" title=\"Segelschiff\">Segelschiff</a> <i><a href=\"/wiki/Auxiliarsegler\" title=\"Auxiliarsegler\">Aux.</a></i></td>\n<td>Bisher neben ihrem Vorbild, der <i>Preußen</i>, einziges Fünfmastvollschiff der Welt</td>\n<td>–</td>\n<td>4.425</td>\n<td>?</td>\n<td>133,74</td>\n<td>16,28</td>\n<td>?</td>\n<td>in Dienst\n</td></tr>\n<tr>\n<td><i>Stena Explorer</i>\n</td>\n<td><a href=\"/wiki/High-Speed_Sea_Service\" title=\"High-Speed Sea Service\">HSS 1500-Klasse</a>\n</td>\n<td><a href=\"/wiki/Autof%C3%A4hre#Seegehende_Autofähren\" title=\"Autofähre\">Fährkatamaran</a></td>\n<td>–</td>\n<td>–</td>\n<td>19.638</td>\n<td>?</td>\n<td>126,60</td>\n<td>40,00</td>\n<td>?</td>\n<td>in Dienst\n</td></tr>\n<tr>\n<td><i><a class=\"mw-redirect\" href=\"/wiki/Far_Samson\" title=\"Far Samson\">Far Samson</a></i>\n</td>\n<td>\n</td>\n<td><a href=\"/wiki/Schlepper_(Schiffstyp)\" title=\"Schlepper (Schiffstyp)\">Schlepper</a></td>\n<td>Stärkster Schlepper (Pfahlzugkraft 423 to)</td>\n<td>–</td>\n<td>14.740</td>\n<td>–</td>\n<td>121,5</td>\n<td>26,00</td>\n<td>2009</td>\n<td>in Dienst\n</td></tr>\n<tr>\n<td><i><a href=\"/wiki/Hermann_Marwede_(Schiff)\" title=\"Hermann Marwede (Schiff)\">Hermann Marwede</a></i>\n</td>\n<td>\n</td>\n<td><a href=\"/wiki/Seenotrettungskreuzer\" title=\"Seenotrettungskreuzer\">Seenotrettungskreuzer</a></td>\n<td>Größter Seenotkreuzer nach BRZ</td>\n<td>–</td>\n<td>?</td>\n<td>404</td>\n<td>46,00</td>\n<td>10,25</td>\n<td>2003</td>\n<td>in Dienst\n</td></tr>\n<tr>\n<td><i><a href=\"/wiki/Baron_of_Renfrew_(Schiff)\" title=\"Baron of Renfrew (Schiff)\">Baron of Renfrew</a></i>\n</td>\n<td>\n</td>\n<td><a href=\"/wiki/Einwegschiff\" title=\"Einwegschiff\">Einwegschiff</a></td>\n<td>Das größte je gebaute Holzschiff. War als Einwegschiff nur für eine einmalige Fahrt gebaut, danach wurde das Schiff als Bauholz verwendet.</td>\n<td>5.294</td>\n<td>–</td>\n<td>?</td>\n<td>110,80</td>\n<td>18,59</td>\n<td>1825</td>\n<td>1825 gestrandet und abgewrackt\n</td></tr></tbody></table>\n<h2><span class=\"mw-headline\" id=\"Siehe_auch\">Siehe auch</span><span class=\"mw-editsection\"><span class=\"mw-editsection-bracket\">[</span><a class=\"mw-editsection-visualeditor\" href=\"/w/index.php?title=Liste_der_gr%C3%B6%C3%9Ften_Schiffe_der_Welt&amp;veaction=edit&amp;section=3\" title=\"Abschnitt bearbeiten: Siehe auch\"><span>Bearbeiten</span></a><span class=\"mw-editsection-divider\"> | </span><a href=\"/w/index.php?title=Liste_der_gr%C3%B6%C3%9Ften_Schiffe_der_Welt&amp;action=edit&amp;section=3\" title=\"Quellcode des Abschnitts bearbeiten: Siehe auch\"><span>Quelltext bearbeiten</span></a><span class=\"mw-editsection-bracket\">]</span></span></h2>\n<ul><li><a class=\"mw-redirect\" href=\"/wiki/Liste_der_gr%C3%B6%C3%9Ften_Holzschiffe_der_Welt\" title=\"Liste der größten Holzschiffe der Welt\">Liste der größten Holzschiffe der Welt</a></li>\n<li><a href=\"/wiki/Liste_von_Kreuzfahrtschiffen\" title=\"Liste von Kreuzfahrtschiffen\">Liste von Kreuzfahrtschiffen</a></li>\n<li><a class=\"mw-redirect\" href=\"/wiki/Liste_der_gr%C3%B6%C3%9Ften_Segelschiffe_der_Welt\" title=\"Liste der größten Segelschiffe der Welt\">Liste der größten Segelschiffe der Welt</a></li></ul>\n<h2><span class=\"mw-headline\" id=\"Literatur\">Literatur</span><span class=\"mw-editsection\"><span class=\"mw-editsection-bracket\">[</span><a class=\"mw-editsection-visualeditor\" href=\"/w/index.php?title=Liste_der_gr%C3%B6%C3%9Ften_Schiffe_der_Welt&amp;veaction=edit&amp;section=4\" title=\"Abschnitt bearbeiten: Literatur\"><span>Bearbeiten</span></a><span class=\"mw-editsection-divider\"> | </span><a href=\"/w/index.php?title=Liste_der_gr%C3%B6%C3%9Ften_Schiffe_der_Welt&amp;action=edit&amp;section=4\" title=\"Quellcode des Abschnitts bearbeiten: Literatur\"><span>Quelltext bearbeiten</span></a><span class=\"mw-editsection-bracket\">]</span></span></h2>\n<ul><li>Joachim W. Pein: <i>Giganten der Meere. Die größten Tankschiffe der Welt.</i> Koehlers Verlagsgesellschaft, Hamburg 2011.</li></ul>\n<h2><span class=\"mw-headline\" id=\"Anmerkung_und_Einzelnachweise\">Anmerkung und Einzelnachweise</span><span class=\"mw-editsection\"><span class=\"mw-editsection-bracket\">[</span><a class=\"mw-editsection-visualeditor\" href=\"/w/index.php?title=Liste_der_gr%C3%B6%C3%9Ften_Schiffe_der_Welt&amp;veaction=edit&amp;section=5\" title=\"Abschnitt bearbeiten: Anmerkung und Einzelnachweise\"><span>Bearbeiten</span></a><span class=\"mw-editsection-divider\"> | </span><a href=\"/w/index.php?title=Liste_der_gr%C3%B6%C3%9Ften_Schiffe_der_Welt&amp;action=edit&amp;section=5\" title=\"Quellcode des Abschnitts bearbeiten: Anmerkung und Einzelnachweise\"><span>Quelltext bearbeiten</span></a><span class=\"mw-editsection-bracket\">]</span></span></h2>\n<ol class=\"references\">\n<li id=\"cite_note-1\"><span class=\"mw-cite-backlink\"><a href=\"#cite_ref-1\">↑</a></span> <span class=\"reference-text\"><span class=\"cite\"><a class=\"external text\" href=\"https://www.cruisetricks.de/die-groessten-kreuzfahrtschiffe-der-welt/\" rel=\"nofollow\"><i>Die 25 größten Kreuzfahrtschiffe der Welt.</i></a><span class=\"Abrufdatum\"> Abgerufen am 29. November 2023</span>.</span><span class=\"Z3988\" style=\"display: none;\" title=\"ctx_ver=Z39.88-2004&amp;rft_val_fmt=info%3Aofi%2Ffmt%3Akev%3Amtx%3Adc&amp;rfr_id=info%3Asid%2Fde.wikipedia.org%3AListe+der+gr%C3%B6%C3%9Ften+Schiffe+der+Welt&amp;rft.title=Die+25+gr%C3%B6%C3%9Ften+Kreuzfahrtschiffe+der+Welt&amp;rft.description=Die+25+gr%C3%B6%C3%9Ften+Kreuzfahrtschiffe+der+Welt&amp;rft.identifier=https%3A%2F%2Fwww.cruisetricks.de%2Fdie-groessten-kreuzfahrtschiffe-der-welt%2F&amp;rft.language=de\"> </span></span>\n</li>\n<li id=\"cite_note-2\"><span class=\"mw-cite-backlink\"><a href=\"#cite_ref-2\">↑</a></span> <span class=\"reference-text\"><span class=\"cite\"><a class=\"external text\" href=\"https://maritime-executive.com/article/msc-receives-second-ultra-large-and-this-one-is-the-world-s-largest\" rel=\"nofollow\"><i>MSC Takes Delivery of the World's Biggest Ultra Large Container Ship.</i></a><span class=\"Abrufdatum\"> Abgerufen am 15. März 2023</span> (englisch).</span><span class=\"Z3988\" style=\"display: none;\" title=\"ctx_ver=Z39.88-2004&amp;rft_val_fmt=info%3Aofi%2Ffmt%3Akev%3Amtx%3Adc&amp;rfr_id=info%3Asid%2Fde.wikipedia.org%3AListe+der+gr%C3%B6%C3%9Ften+Schiffe+der+Welt&amp;rft.title=MSC+Takes+Delivery+of+the+World%27s+Biggest+Ultra+Large+Container+Ship&amp;rft.description=MSC+Takes+Delivery+of+the+World%27s+Biggest+Ultra+Large+Container+Ship&amp;rft.identifier=https%3A%2F%2Fmaritime-executive.com%2Farticle%2Fmsc-receives-second-ultra-large-and-this-one-is-the-world-s-largest&amp;rft.language=en\"> </span></span>\n</li>\n<li id=\"cite_note-3\"><span class=\"mw-cite-backlink\"><a href=\"#cite_ref-3\">↑</a></span> <span class=\"reference-text\"><span class=\"cite\"><a class=\"external text\" href=\"https://vesselregister.dnv.com/vesselregister/details/42806\" rel=\"nofollow\"><i>DNV Vessel Register.</i></a><span class=\"Abrufdatum\"> Abgerufen am 15. März 2023</span>.</span><span class=\"Z3988\" style=\"display: none;\" title=\"ctx_ver=Z39.88-2004&amp;rft_val_fmt=info%3Aofi%2Ffmt%3Akev%3Amtx%3Adc&amp;rfr_id=info%3Asid%2Fde.wikipedia.org%3AListe+der+gr%C3%B6%C3%9Ften+Schiffe+der+Welt&amp;rft.title=DNV+Vessel+Register&amp;rft.description=DNV+Vessel+Register&amp;rft.identifier=https%3A%2F%2Fvesselregister.dnv.com%2Fvesselregister%2Fdetails%2F42806\"> </span></span>\n</li>\n<li id=\"cite_note-4\"><span class=\"mw-cite-backlink\"><a href=\"#cite_ref-4\">↑</a></span> <span class=\"reference-text\"><span class=\"cite\"><a class=\"external text\" href=\"http://www.vesselfinder.com/news/1488-VIDEO-BIGGEST-SHIP-in-the-WORLD-but-not-MAERSK-MC-KINNEY-MOLLER\" rel=\"nofollow\"><i>VIDEO: Biggest ship in the world, but not Maersk Mc-Kinney Møller.</i></a><span class=\"Abrufdatum\"> Abgerufen am 9. März 2014</span>.</span><span class=\"Z3988\" style=\"display: none;\" title=\"ctx_ver=Z39.88-2004&amp;rft_val_fmt=info%3Aofi%2Ffmt%3Akev%3Amtx%3Adc&amp;rfr_id=info%3Asid%2Fde.wikipedia.org%3AListe+der+gr%C3%B6%C3%9Ften+Schiffe+der+Welt&amp;rft.title=VIDEO%3A+Biggest+ship+in+the+world%2C+but+not+Maersk+Mc-Kinney+M%C3%B8ller&amp;rft.description=VIDEO%3A+Biggest+ship+in+the+world%2C+but+not+Maersk+Mc-Kinney+M%C3%B8ller&amp;rft.identifier=http%3A%2F%2Fwww.vesselfinder.com%2Fnews%2F1488-VIDEO-BIGGEST-SHIP-in-the-WORLD-but-not-MAERSK-MC-KINNEY-MOLLER\"> </span></span>\n</li>\n</ol></div><!--esi <esi:include src=\"/esitest-fa8a495983347898/content\" /> --><noscript><img alt=\"\" height=\"1\" src=\"https://login.wikimedia.org/wiki/Special:CentralAutoLogin/start?type=1x1\" style=\"border: none; position: absolute;\" width=\"1\"/></noscript>\n<div class=\"printfooter\" data-nosnippet=\"\">Abgerufen von „<a dir=\"ltr\" href=\"https://de.wikipedia.org/w/index.php?title=Liste_der_größten_Schiffe_der_Welt&amp;oldid=241862931\">https://de.wikipedia.org/w/index.php?title=Liste_der_größten_Schiffe_der_Welt&amp;oldid=241862931</a>“</div></div>\n<div class=\"catlinks\" data-mw=\"interface\" id=\"catlinks\"><div class=\"mw-normal-catlinks\" id=\"mw-normal-catlinks\"><a href=\"/wiki/Wikipedia:Kategorien\" title=\"Wikipedia:Kategorien\">Kategorien</a>: <ul><li><a href=\"/wiki/Kategorie:Liste_(Schiffe)\" title=\"Kategorie:Liste (Schiffe)\">Liste (Schiffe)</a></li><li><a href=\"/wiki/Kategorie:Liste_(technische_Rekorde)\" title=\"Kategorie:Liste (technische Rekorde)\">Liste (technische Rekorde)</a></li></ul></div></div>\n</div>\n</div>\n<div id=\"mw-navigation\">\n<h2>Navigationsmenü</h2>\n<div id=\"mw-head\">\n<nav aria-labelledby=\"p-personal-label\" class=\"mw-portlet mw-portlet-personal vector-user-menu-legacy vector-menu\" id=\"p-personal\" role=\"navigation\">\n<h3 class=\"vector-menu-heading\" id=\"p-personal-label\">\n<span class=\"vector-menu-heading-label\">Meine Werkzeuge</span>\n</h3>\n<div class=\"vector-menu-content\">\n<ul class=\"vector-menu-content-list\">\n<li class=\"mw-list-item\" id=\"pt-anonuserpage\"><span title=\"Benutzerseite der IP-Adresse, von der aus du Änderungen durchführst\">Nicht angemeldet</span></li><li class=\"mw-list-item\" id=\"pt-anontalk\"><a accesskey=\"n\" href=\"/wiki/Spezial:Meine_Diskussionsseite\" title=\"Diskussion über Änderungen von dieser IP-Adresse [n]\"><span>Diskussionsseite</span></a></li><li class=\"mw-list-item\" id=\"pt-anoncontribs\"><a accesskey=\"y\" href=\"/wiki/Spezial:Meine_Beitr%C3%A4ge\" title=\"Eine Liste der Bearbeitungen, die von dieser IP-Adresse gemacht wurden [y]\"><span>Beiträge</span></a></li><li class=\"mw-list-item\" id=\"pt-createaccount\"><a href=\"/w/index.php?title=Spezial:Benutzerkonto_anlegen&amp;returnto=Liste+der+gr%C3%B6%C3%9Ften+Schiffe+der+Welt\" title=\"Wir ermutigen dich dazu, ein Benutzerkonto zu erstellen und dich anzumelden. Es ist jedoch nicht zwingend erforderlich.\"><span>Benutzerkonto erstellen</span></a></li><li class=\"mw-list-item\" id=\"pt-login\"><a accesskey=\"o\" href=\"/w/index.php?title=Spezial:Anmelden&amp;returnto=Liste+der+gr%C3%B6%C3%9Ften+Schiffe+der+Welt\" title=\"Anmelden ist zwar keine Pflicht, wird aber gerne gesehen. [o]\"><span>Anmelden</span></a></li>\n</ul>\n</div>\n</nav>\n<div id=\"left-navigation\">\n<nav aria-labelledby=\"p-namespaces-label\" class=\"mw-portlet mw-portlet-namespaces vector-menu-tabs vector-menu-tabs-legacy vector-menu\" id=\"p-namespaces\" role=\"navigation\">\n<h3 class=\"vector-menu-heading\" id=\"p-namespaces-label\">\n<span class=\"vector-menu-heading-label\">Namensräume</span>\n</h3>\n<div class=\"vector-menu-content\">\n<ul class=\"vector-menu-content-list\">\n<li class=\"selected mw-list-item\" id=\"ca-nstab-main\"><a accesskey=\"c\" href=\"/wiki/Liste_der_gr%C3%B6%C3%9Ften_Schiffe_der_Welt\" title=\"Seiteninhalt anzeigen [c]\"><span>Artikel</span></a></li><li class=\"mw-list-item\" id=\"ca-talk\"><a accesskey=\"t\" href=\"/wiki/Diskussion:Liste_der_gr%C3%B6%C3%9Ften_Schiffe_der_Welt\" rel=\"discussion\" title=\"Diskussion zum Seiteninhalt [t]\"><span>Diskussion</span></a></li>\n</ul>\n</div>\n</nav>\n<nav aria-labelledby=\"p-variants-label\" class=\"mw-portlet mw-portlet-variants emptyPortlet vector-menu-dropdown vector-menu\" id=\"p-variants\" role=\"navigation\">\n<input aria-haspopup=\"true\" aria-labelledby=\"p-variants-label\" class=\"vector-menu-checkbox\" data-event-name=\"ui.dropdown-p-variants\" id=\"p-variants-checkbox\" role=\"button\" type=\"checkbox\"/>\n<label class=\"vector-menu-heading\" id=\"p-variants-label\">\n<span class=\"vector-menu-heading-label\">Deutsch</span>\n</label>\n<div class=\"vector-menu-content\">\n<ul class=\"vector-menu-content-list\">\n</ul>\n</div>\n</nav>\n</div>\n<div id=\"right-navigation\">\n<nav aria-labelledby=\"p-views-label\" class=\"mw-portlet mw-portlet-views vector-menu-tabs vector-menu-tabs-legacy vector-menu\" id=\"p-views\" role=\"navigation\">\n<h3 class=\"vector-menu-heading\" id=\"p-views-label\">\n<span class=\"vector-menu-heading-label\">Ansichten</span>\n</h3>\n<div class=\"vector-menu-content\">\n<ul class=\"vector-menu-content-list\">\n<li class=\"selected mw-list-item\" id=\"ca-view\"><a href=\"/wiki/Liste_der_gr%C3%B6%C3%9Ften_Schiffe_der_Welt\"><span>Lesen</span></a></li><li class=\"mw-list-item\" id=\"ca-ve-edit\"><a accesskey=\"v\" href=\"/w/index.php?title=Liste_der_gr%C3%B6%C3%9Ften_Schiffe_der_Welt&amp;veaction=edit\" title=\"Diese Seite mit dem VisualEditor bearbeiten [v]\"><span>Bearbeiten</span></a></li><li class=\"collapsible mw-list-item\" id=\"ca-edit\"><a accesskey=\"e\" href=\"/w/index.php?title=Liste_der_gr%C3%B6%C3%9Ften_Schiffe_der_Welt&amp;action=edit\" title=\"Den Quelltext dieser Seite bearbeiten [e]\"><span>Quelltext bearbeiten</span></a></li><li class=\"mw-list-item\" id=\"ca-history\"><a accesskey=\"h\" href=\"/w/index.php?title=Liste_der_gr%C3%B6%C3%9Ften_Schiffe_der_Welt&amp;action=history\" title=\"Frühere Versionen dieser Seite [h]\"><span>Versionsgeschichte</span></a></li>\n</ul>\n</div>\n</nav>\n<nav aria-labelledby=\"p-cactions-label\" class=\"mw-portlet mw-portlet-cactions emptyPortlet vector-menu-dropdown vector-menu\" id=\"p-cactions\" role=\"navigation\" title=\"Weitere Optionen\">\n<input aria-haspopup=\"true\" aria-labelledby=\"p-cactions-label\" class=\"vector-menu-checkbox\" data-event-name=\"ui.dropdown-p-cactions\" id=\"p-cactions-checkbox\" role=\"button\" type=\"checkbox\"/>\n<label class=\"vector-menu-heading\" id=\"p-cactions-label\">\n<span class=\"vector-menu-heading-label\">Weitere</span>\n</label>\n<div class=\"vector-menu-content\">\n<ul class=\"vector-menu-content-list\">\n</ul>\n</div>\n</nav>\n<div class=\"vector-search-box-vue vector-search-box-show-thumbnail vector-search-box-auto-expand-width vector-search-box\" id=\"p-search\" role=\"search\">\n<h3>Suche</h3>\n<form action=\"/w/index.php\" class=\"vector-search-box-form\" id=\"searchform\">\n<div class=\"vector-search-box-inner\" data-search-loc=\"header-navigation\" id=\"simpleSearch\">\n<input accesskey=\"f\" aria-label=\"Wikipedia durchsuchen\" autocapitalize=\"sentences\" class=\"vector-search-box-input\" id=\"searchInput\" name=\"search\" placeholder=\"Wikipedia durchsuchen\" title=\"Durchsuche die Wikipedia [f]\" type=\"search\"/>\n<input name=\"title\" type=\"hidden\" value=\"Spezial:Suche\"/>\n<input class=\"searchButton mw-fallbackSearchButton\" id=\"mw-searchButton\" name=\"fulltext\" title=\"Suche nach Seiten, die diesen Text enthalten\" type=\"submit\" value=\"Suchen\"/>\n<input class=\"searchButton\" id=\"searchButton\" name=\"go\" title=\"Gehe direkt zu der Seite mit genau diesem Namen, falls sie vorhanden ist.\" type=\"submit\" value=\"Artikel\"/>\n</div>\n</form>\n</div>\n</div>\n</div>\n<div class=\"vector-legacy-sidebar\" id=\"mw-panel\">\n<div id=\"p-logo\" role=\"banner\">\n<a class=\"mw-wiki-logo\" href=\"/wiki/Wikipedia:Hauptseite\" title=\"Hauptseite\"></a>\n</div>\n<nav aria-labelledby=\"p-navigation-label\" class=\"mw-portlet mw-portlet-navigation vector-menu-portal portal vector-menu\" id=\"p-navigation\" role=\"navigation\">\n<h3 class=\"vector-menu-heading\" id=\"p-navigation-label\">\n<span class=\"vector-menu-heading-label\">Navigation</span>\n</h3>\n<div class=\"vector-menu-content\">\n<ul class=\"vector-menu-content-list\">\n<li class=\"mw-list-item\" id=\"n-mainpage-description\"><a accesskey=\"z\" href=\"/wiki/Wikipedia:Hauptseite\" title=\"Hauptseite besuchen [z]\"><span>Hauptseite</span></a></li><li class=\"mw-list-item\" id=\"n-topics\"><a href=\"/wiki/Portal:Wikipedia_nach_Themen\"><span>Themenportale</span></a></li><li class=\"mw-list-item\" id=\"n-randompage\"><a accesskey=\"x\" href=\"/wiki/Spezial:Zuf%C3%A4llige_Seite\" title=\"Zufällige Seite aufrufen [x]\"><span>Zufälliger Artikel</span></a></li>\n</ul>\n</div>\n</nav>\n<nav aria-labelledby=\"p-Mitmachen-label\" class=\"mw-portlet mw-portlet-Mitmachen vector-menu-portal portal vector-menu\" id=\"p-Mitmachen\" role=\"navigation\">\n<h3 class=\"vector-menu-heading\" id=\"p-Mitmachen-label\">\n<span class=\"vector-menu-heading-label\">Mitmachen</span>\n</h3>\n<div class=\"vector-menu-content\">\n<ul class=\"vector-menu-content-list\">\n<li class=\"mw-list-item\" id=\"n-Artikel-verbessern\"><a href=\"/wiki/Wikipedia:Beteiligen\"><span>Artikel verbessern</span></a></li><li class=\"mw-list-item\" id=\"n-Neuerartikel\"><a href=\"/wiki/Hilfe:Neuen_Artikel_anlegen\"><span>Neuen Artikel anlegen</span></a></li><li class=\"mw-list-item\" id=\"n-portal\"><a href=\"/wiki/Wikipedia:Autorenportal\" title=\"Info-Zentrum über Beteiligungsmöglichkeiten\"><span>Autorenportal</span></a></li><li class=\"mw-list-item\" id=\"n-help\"><a href=\"/wiki/Hilfe:%C3%9Cbersicht\" title=\"Übersicht über Hilfeseiten\"><span>Hilfe</span></a></li><li class=\"mw-list-item\" id=\"n-recentchanges\"><a accesskey=\"r\" href=\"/wiki/Spezial:Letzte_%C3%84nderungen\" title=\"Liste der letzten Änderungen in Wikipedia [r]\"><span>Letzte Änderungen</span></a></li><li class=\"mw-list-item\" id=\"n-contact\"><a href=\"/wiki/Wikipedia:Kontakt\" title=\"Kontaktmöglichkeiten\"><span>Kontakt</span></a></li><li class=\"mw-list-item\" id=\"n-sitesupport\"><a href=\"//donate.wikimedia.org/wiki/Special:FundraiserRedirector?utm_source=donate&amp;utm_medium=sidebar&amp;utm_campaign=C13_de.wikipedia.org&amp;uselang=de\" title=\"Unterstütze uns\"><span>Spenden</span></a></li>\n</ul>\n</div>\n</nav>\n<nav aria-labelledby=\"p-tb-label\" class=\"mw-portlet mw-portlet-tb vector-menu-portal portal vector-menu\" id=\"p-tb\" role=\"navigation\">\n<h3 class=\"vector-menu-heading\" id=\"p-tb-label\">\n<span class=\"vector-menu-heading-label\">Werkzeuge</span>\n</h3>\n<div class=\"vector-menu-content\">\n<ul class=\"vector-menu-content-list\">\n<li class=\"mw-list-item\" id=\"t-whatlinkshere\"><a accesskey=\"j\" href=\"/wiki/Spezial:Linkliste/Liste_der_gr%C3%B6%C3%9Ften_Schiffe_der_Welt\" title=\"Liste aller Seiten, die hierher verlinken [j]\"><span>Links auf diese Seite</span></a></li><li class=\"mw-list-item\" id=\"t-recentchangeslinked\"><a accesskey=\"k\" href=\"/wiki/Spezial:%C3%84nderungen_an_verlinkten_Seiten/Liste_der_gr%C3%B6%C3%9Ften_Schiffe_der_Welt\" rel=\"nofollow\" title=\"Letzte Änderungen an Seiten, die von hier verlinkt sind [k]\"><span>Änderungen an verlinkten Seiten</span></a></li><li class=\"mw-list-item\" id=\"t-specialpages\"><a accesskey=\"q\" href=\"/wiki/Spezial:Spezialseiten\" title=\"Liste aller Spezialseiten [q]\"><span>Spezialseiten</span></a></li><li class=\"mw-list-item\" id=\"t-permalink\"><a href=\"/w/index.php?title=Liste_der_gr%C3%B6%C3%9Ften_Schiffe_der_Welt&amp;oldid=241862931\" title=\"Dauerhafter Link zu dieser Seitenversion\"><span>Permanenter Link</span></a></li><li class=\"mw-list-item\" id=\"t-info\"><a href=\"/w/index.php?title=Liste_der_gr%C3%B6%C3%9Ften_Schiffe_der_Welt&amp;action=info\" title=\"Weitere Informationen über diese Seite\"><span>Seiten­­informationen</span></a></li><li class=\"mw-list-item\" id=\"t-cite\"><a href=\"/w/index.php?title=Spezial:Zitierhilfe&amp;page=Liste_der_gr%C3%B6%C3%9Ften_Schiffe_der_Welt&amp;id=241862931&amp;wpFormIdentifier=titleform\" title=\"Hinweise, wie diese Seite zitiert werden kann\"><span>Artikel zitieren</span></a></li><li class=\"mw-list-item\" id=\"t-urlshortener\"><a href=\"/w/index.php?title=Spezial:URL-K%C3%BCrzung&amp;url=https%3A%2F%2Fde.wikipedia.org%2Fwiki%2FListe_der_gr%25C3%25B6%25C3%259Ften_Schiffe_der_Welt\"><span>Kurzlink</span></a></li><li class=\"mw-list-item\" id=\"t-urlshortener-qrcode\"><a href=\"/w/index.php?title=Spezial:QrCode&amp;url=https%3A%2F%2Fde.wikipedia.org%2Fwiki%2FListe_der_gr%25C3%25B6%25C3%259Ften_Schiffe_der_Welt\"><span>QR-Code herunterladen</span></a></li><li class=\"mw-list-item\" id=\"t-wikibase\"><a accesskey=\"g\" href=\"https://www.wikidata.org/wiki/Special:EntityPage/Q1778295\" title=\"Link zum verbundenen Objekt im Datenrepositorium [g]\"><span>Wikidata-Datenobjekt</span></a></li>\n</ul>\n</div>\n</nav>\n<nav aria-labelledby=\"p-coll-print_export-label\" class=\"mw-portlet mw-portlet-coll-print_export vector-menu-portal portal vector-menu\" id=\"p-coll-print_export\" role=\"navigation\">\n<h3 class=\"vector-menu-heading\" id=\"p-coll-print_export-label\">\n<span class=\"vector-menu-heading-label\">Drucken/​exportieren</span>\n</h3>\n<div class=\"vector-menu-content\">\n<ul class=\"vector-menu-content-list\">\n<li class=\"mw-list-item\" id=\"coll-create_a_book\"><a href=\"/w/index.php?title=Spezial:Buch&amp;bookcmd=book_creator&amp;referer=Liste+der+gr%C3%B6%C3%9Ften+Schiffe+der+Welt\"><span>Buch erstellen</span></a></li><li class=\"mw-list-item\" id=\"coll-download-as-rl\"><a href=\"/w/index.php?title=Spezial:DownloadAsPdf&amp;page=Liste_der_gr%C3%B6%C3%9Ften_Schiffe_der_Welt&amp;action=show-download-screen\"><span>Als PDF herunterladen</span></a></li><li class=\"mw-list-item\" id=\"t-print\"><a accesskey=\"p\" href=\"/w/index.php?title=Liste_der_gr%C3%B6%C3%9Ften_Schiffe_der_Welt&amp;printable=yes\" title=\"Druckansicht dieser Seite [p]\"><span>Druckversion</span></a></li>\n</ul>\n</div>\n</nav>\n<nav aria-labelledby=\"p-lang-label\" class=\"mw-portlet mw-portlet-lang vector-menu-portal portal vector-menu\" id=\"p-lang\" role=\"navigation\">\n<h3 class=\"vector-menu-heading\" id=\"p-lang-label\">\n<span class=\"vector-menu-heading-label\">In anderen Sprachen</span>\n</h3>\n<div class=\"vector-menu-content\">\n<ul class=\"vector-menu-content-list\">\n<li class=\"interlanguage-link interwiki-be mw-list-item\"><a class=\"interlanguage-link-target\" href=\"https://be.wikipedia.org/wiki/%D0%A1%D0%BF%D1%96%D1%81_%D1%81%D0%B0%D0%BC%D1%8B%D1%85_%D0%B4%D0%BE%D1%9E%D0%B3%D1%96%D1%85_%D1%81%D1%83%D0%B4%D0%BD%D0%B0%D1%9E_%D0%BF%D0%B0_%D1%82%D1%8B%D0%BF%D0%B5\" hreflang=\"be\" lang=\"be\" title=\"Спіс самых доўгіх суднаў па тыпе – Belarussisch\"><span>Беларуская</span></a></li><li class=\"interlanguage-link interwiki-en mw-list-item\"><a class=\"interlanguage-link-target\" href=\"https://en.wikipedia.org/wiki/List_of_longest_ships\" hreflang=\"en\" lang=\"en\" title=\"List of longest ships – Englisch\"><span>English</span></a></li><li class=\"interlanguage-link interwiki-es mw-list-item\"><a class=\"interlanguage-link-target\" href=\"https://es.wikipedia.org/wiki/Anexo:Barcos_m%C3%A1s_largos\" hreflang=\"es\" lang=\"es\" title=\"Anexo:Barcos más largos – Spanisch\"><span>Español</span></a></li><li class=\"interlanguage-link interwiki-fr mw-list-item\"><a class=\"interlanguage-link-target\" href=\"https://fr.wikipedia.org/wiki/Liste_des_plus_grands_navires\" hreflang=\"fr\" lang=\"fr\" title=\"Liste des plus grands navires – Französisch\"><span>Français</span></a></li><li class=\"interlanguage-link interwiki-ro mw-list-item\"><a class=\"interlanguage-link-target\" href=\"https://ro.wikipedia.org/wiki/List%C4%83_cu_nave_maritime_importante\" hreflang=\"ro\" lang=\"ro\" title=\"Listă cu nave maritime importante – Rumänisch\"><span>Română</span></a></li><li class=\"interlanguage-link interwiki-ru mw-list-item\"><a class=\"interlanguage-link-target\" href=\"https://ru.wikipedia.org/wiki/%D0%A1%D0%BF%D0%B8%D1%81%D0%BE%D0%BA_%D1%81%D0%B0%D0%BC%D1%8B%D1%85_%D0%B4%D0%BB%D0%B8%D0%BD%D0%BD%D1%8B%D1%85_%D1%81%D1%83%D0%B4%D0%BE%D0%B2_%D0%BF%D0%BE_%D1%82%D0%B8%D0%BF%D1%83\" hreflang=\"ru\" lang=\"ru\" title=\"Список самых длинных судов по типу – Russisch\"><span>Русский</span></a></li><li class=\"interlanguage-link interwiki-tr mw-list-item\"><a class=\"interlanguage-link-target\" href=\"https://tr.wikipedia.org/wiki/D%C3%BCnyan%C4%B1n_en_uzun_gemileri_listesi\" hreflang=\"tr\" lang=\"tr\" title=\"Dünyanın en uzun gemileri listesi – Türkisch\"><span>Türkçe</span></a></li>\n</ul>\n<div class=\"after-portlet after-portlet-lang\"><span class=\"wb-langlinks-edit wb-langlinks-link\"><a class=\"wbc-editpage\" href=\"https://www.wikidata.org/wiki/Special:EntityPage/Q1778295#sitelinks-wikipedia\" title=\"Links auf Artikel in anderen Sprachen bearbeiten\">Links bearbeiten</a></span></div>\n</div>\n</nav>\n</div>\n</div>\n<footer class=\"mw-footer\" id=\"footer\" role=\"contentinfo\">\n<ul id=\"footer-info\">\n<li id=\"footer-info-lastmod\"> Diese Seite wurde zuletzt am 4. Februar 2024 um 17:00 Uhr bearbeitet.</li>\n<li id=\"footer-info-copyright\"><div class=\"noprint\" id=\"footer-info-copyright-stats\"><a class=\"external\" href=\"https://pageviews.wmcloud.org/?pages=Liste_der_gr%C3%B6%C3%9Ften_Schiffe_der_Welt&amp;project=de.wikipedia.org\" rel=\"nofollow\">Abrufstatistik</a> · <a class=\"external\" href=\" https://xtools.wmcloud.org/articleinfo-authorship/de.wikipedia.org/Liste_der_gr%C3%B6%C3%9Ften_Schiffe_der_Welt?uselang=de\" rel=\"nofollow\">Autoren</a> </div><div id=\"footer-info-copyright-separator\"><br/></div><div id=\"footer-info-copyright-info\">\nDer Text ist unter der Lizenz <a class=\"internal\" href=\"https://creativecommons.org/licenses/by-sa/4.0/deed.de\">„Creative-Commons Namensnennung – Weitergabe unter gleichen Bedingungen“</a> verfügbar; Informationen zu den Urhebern und zum Lizenzstatus eingebundener Mediendateien (etwa Bilder oder Videos) können im Regelfall durch Anklicken dieser abgerufen werden. Möglicherweise unterliegen die Inhalte jeweils zusätzlichen Bedingungen. Durch die Nutzung dieser Website erklären Sie sich mit den <a class=\"internal\" href=\"https://foundation.wikimedia.org/wiki/Policy:Terms_of_Use/de\">Nutzungsbedingungen</a> und der <a class=\"internal\" href=\"https://foundation.wikimedia.org/wiki/Policy:Privacy_policy/de\">Datenschutzrichtlinie</a> einverstanden.<br/>\nWikipedia® ist eine eingetragene Marke der Wikimedia Foundation Inc.</div></li>\n</ul>\n<ul id=\"footer-places\">\n<li id=\"footer-places-privacy\"><a href=\"https://foundation.wikimedia.org/wiki/Special:MyLanguage/Policy:Privacy_policy/de\">Datenschutz</a></li>\n<li id=\"footer-places-about\"><a href=\"/wiki/Wikipedia:%C3%9Cber_Wikipedia\">Über Wikipedia</a></li>\n<li id=\"footer-places-disclaimers\"><a href=\"/wiki/Wikipedia:Impressum\">Impressum</a></li>\n<li id=\"footer-places-wm-codeofconduct\"><a href=\"https://foundation.wikimedia.org/wiki/Special:MyLanguage/Policy:Universal_Code_of_Conduct\">Verhaltenskodex</a></li>\n<li id=\"footer-places-developers\"><a href=\"https://developer.wikimedia.org\">Entwickler</a></li>\n<li id=\"footer-places-statslink\"><a href=\"https://stats.wikimedia.org/#/de.wikipedia.org\">Statistiken</a></li>\n<li id=\"footer-places-cookiestatement\"><a href=\"https://foundation.wikimedia.org/wiki/Special:MyLanguage/Policy:Cookie_statement\">Stellungnahme zu Cookies</a></li>\n<li id=\"footer-places-mobileview\"><a class=\"noprint stopMobileRedirectToggle\" href=\"//de.m.wikipedia.org/w/index.php?title=Liste_der_gr%C3%B6%C3%9Ften_Schiffe_der_Welt&amp;mobileaction=toggle_view_mobile\">Mobile Ansicht</a></li>\n</ul>\n<ul class=\"noprint\" id=\"footer-icons\">\n<li id=\"footer-copyrightico\"><a href=\"https://wikimediafoundation.org/\"><img alt=\"Wikimedia Foundation\" height=\"31\" loading=\"lazy\" src=\"/static/images/footer/wikimedia-button.png\" srcset=\"/static/images/footer/wikimedia-button-1.5x.png 1.5x, /static/images/footer/wikimedia-button-2x.png 2x\" width=\"88\"/></a></li>\n<li id=\"footer-poweredbyico\"><a href=\"https://www.mediawiki.org/\"><img alt=\"Powered by MediaWiki\" height=\"31\" loading=\"lazy\" src=\"/static/images/footer/poweredby_mediawiki_88x31.png\" srcset=\"/static/images/footer/poweredby_mediawiki_132x47.png 1.5x, /static/images/footer/poweredby_mediawiki_176x62.png 2x\" width=\"88\"/></a></li>\n</ul>\n</footer>\n<script>(RLQ=window.RLQ||[]).push(function(){mw.config.set({\"wgHostname\":\"mw1399\",\"wgBackendResponseTime\":127,\"wgPageParseReport\":{\"limitreport\":{\"cputime\":\"0.188\",\"walltime\":\"0.466\",\"ppvisitednodes\":{\"value\":1679,\"limit\":1000000},\"postexpandincludesize\":{\"value\":11815,\"limit\":2097152},\"templateargumentsize\":{\"value\":6769,\"limit\":2097152},\"expansiondepth\":{\"value\":14,\"limit\":100},\"expensivefunctioncount\":{\"value\":1,\"limit\":500},\"unstrip-depth\":{\"value\":0,\"limit\":20},\"unstrip-size\":{\"value\":18137,\"limit\":5000000},\"entityaccesscount\":{\"value\":0,\"limit\":400},\"timingprofile\":[\"100.00%  169.429      1 -total\",\" 48.74%   82.573      4 Vorlage:Internetquelle\",\" 31.20%   52.861      2 Vorlage:FN\",\" 10.69%   18.106      1 Vorlage:FNBox\",\"  9.68%   16.393      4 Vorlage:Str_len\",\"  9.26%   15.681      2 Vorlage:FNZ\",\"  8.65%   14.650     16 Vorlage:Str_match\"]},\"scribunto\":{\"limitreport-timeusage\":{\"value\":\"0.055\",\"limit\":\"10.000\"},\"limitreport-memusage\":{\"value\":2562139,\"limit\":52428800}},\"cachereport\":{\"origin\":\"mw2365\",\"timestamp\":\"20240331082235\",\"ttl\":2592000,\"transientcontent\":false}}});});</script>\n<script type=\"application/ld+json\">{\"@context\":\"https:\\/\\/schema.org\",\"@type\":\"Article\",\"name\":\"Liste der gr\\u00f6\\u00dften Schiffe der Welt\",\"url\":\"https:\\/\\/de.wikipedia.org\\/wiki\\/Liste_der_gr%C3%B6%C3%9Ften_Schiffe_der_Welt\",\"sameAs\":\"http:\\/\\/www.wikidata.org\\/entity\\/Q1778295\",\"mainEntity\":\"http:\\/\\/www.wikidata.org\\/entity\\/Q1778295\",\"author\":{\"@type\":\"Organization\",\"name\":\"Autoren der Wikimedia-Projekte\"},\"publisher\":{\"@type\":\"Organization\",\"name\":\"Wikimedia Foundation, Inc.\",\"logo\":{\"@type\":\"ImageObject\",\"url\":\"https:\\/\\/www.wikimedia.org\\/static\\/images\\/wmf-hor-googpub.png\"}},\"datePublished\":\"2006-06-15T00:16:00Z\",\"image\":\"https:\\/\\/upload.wikimedia.org\\/wikipedia\\/commons\\/5\\/5b\\/Bateaux_comparaison2_with_Allure.svg\",\"headline\":\"Wikimedia-Liste\"}</script>\n</body>\n</html>"
     },
     "execution_count": 31,
     "metadata": {},
     "output_type": "execute_result"
    }
   ],
   "source": [
    "# Suppe bestaunen:\n",
    "ship_soup"
   ],
   "metadata": {
    "collapsed": false,
    "ExecuteTime": {
     "end_time": "2024-04-04T07:59:22.266004Z",
     "start_time": "2024-04-04T07:59:22.030654Z"
    }
   },
   "execution_count": 31
  },
  {
   "cell_type": "code",
   "outputs": [
    {
     "data": {
      "text/plain": "<table class=\"wikitable sortable zebra\">\n<caption>Größte und längste Schiffe ihrer Art\n</caption>\n<tbody><tr>\n<th>Kategorie</th>\n<th>Schiffsname\n</th></tr>\n<tr>\n<td><a href=\"/wiki/Kreuzfahrtschiff\" title=\"Kreuzfahrtschiff\">Kreuzfahrtschiff</a></td>\n<td><i><a href=\"/wiki/Icon_of_the_Seas\" title=\"Icon of the Seas\">Icon of the Seas</a><sup class=\"reference\" id=\"cite_ref-1\"><a href=\"#cite_note-1\">[1]</a></sup></i>\n</td></tr>\n<tr>\n<td><a href=\"/wiki/Segelschiff\" title=\"Segelschiff\">Segelschiff</a></td>\n<td><i><a href=\"/wiki/SY_A\" title=\"SY A\">SY A</a></i>\n</td></tr>\n<tr>\n<td><a href=\"/wiki/Frachtsegler\" title=\"Frachtsegler\">Frachtsegler</a></td>\n<td><i><a href=\"/wiki/France_(Schiff,_1912%E2%80%931922)\" title=\"France (Schiff, 1912–1922)\">France</a></i>\n</td></tr>\n<tr>\n<td><a href=\"/wiki/Eisbrecher\" title=\"Eisbrecher\">Eisbrecher</a></td>\n<td><a class=\"mw-redirect\" href=\"/wiki/Arktika_(Schiff,_2020)\" title=\"Arktika (Schiff, 2020)\"><i>Arktika</i></a>\n</td></tr>\n<tr>\n<td><a href=\"/wiki/Autof%C3%A4hre\" title=\"Autofähre\">Autofähre</a></td>\n<td><i><a href=\"/wiki/Color_Magic\" title=\"Color Magic\">Color Magic</a></i> (nach Größe (BRZ)); <i><a href=\"/wiki/Cruise_Barcelona\" title=\"Cruise Barcelona\">Cruise Barcelona</a></i> und <i><a href=\"/wiki/Cruise_Roma\" title=\"Cruise Roma\">Cruise Roma</a></i> (nach Länge)\n</td></tr>\n<tr>\n<td><a class=\"new\" href=\"/w/index.php?title=LNG-F%C3%A4hre&amp;action=edit&amp;redlink=1\" title=\"LNG-Fähre (Seite nicht vorhanden)\">LNG-Fähre</a></td>\n<td><i><a href=\"/wiki/Nils_Holgersson_(Schiff,_2022)\" title=\"Nils Holgersson (Schiff, 2022)\">Nils Holgerson</a>, <a href=\"/wiki/Peter_Pan_(Schiff,_2022)\" title=\"Peter Pan (Schiff, 2022)\">Peter Pan</a></i>\n</td></tr>\n<tr>\n<td>Kombifähre (Eisenbahn/RoRo)</td>\n<td><i><a href=\"/wiki/Sk%C3%A5ne_(Schiff,_1998)\" title=\"Skåne (Schiff, 1998)\">Skåne</a></i>\n</td></tr>\n<tr>\n<td>Autotransporter</td>\n<td><a href=\"/wiki/Mark-V-Klasse\" title=\"Mark-V-Klasse\">Tysla, Salome</a> (nach Länge und Tragfähigkeit); <a href=\"/wiki/New-Horizon-Klasse\" title=\"New-Horizon-Klasse\"><i>Höegh Target</i></a> (nach Tonnage und Fahrzeugkapazität)\n</td></tr>\n<tr>\n<td><a href=\"/wiki/Flugzeugtr%C3%A4ger\" title=\"Flugzeugträger\">Flugzeugträger</a></td>\n<td><a href=\"/wiki/USS_Gerald_R._Ford_(CVN-78)\" title=\"USS Gerald R. Ford (CVN-78)\">USS <i>Gerald R. Ford</i> (CVN-78)</a> (nach Tonnage); <a href=\"/wiki/USS_Enterprise_(CVN-65)\" title=\"USS Enterprise (CVN-65)\">USS <i>Enterprise</i> (CVN 65)</a> (nach Länge)\n</td></tr>\n<tr>\n<td><a href=\"/wiki/Schlachtschiff\" title=\"Schlachtschiff\">Schlachtschiff</a></td>\n<td><a href=\"/wiki/Yamato_(Schiff,_1941)\" title=\"Yamato (Schiff, 1941)\"><i>Yamato</i></a> und <a href=\"/wiki/Musashi_(Schiff,_1942)\" title=\"Musashi (Schiff, 1942)\"><i>Musashi</i></a>\n</td></tr>\n<tr>\n<td><a class=\"mw-redirect\" href=\"/wiki/Unterseeboot\" title=\"Unterseeboot\">Unterseeboot</a></td>\n<td><a href=\"/wiki/TK-208_Dmitri_Donskoj\" title=\"TK-208 Dmitri Donskoj\"><i>Dmitri Donskoi</i> (TK-208)</a>\n</td></tr>\n<tr>\n<td><a href=\"/wiki/Containerschiff\" title=\"Containerschiff\">Containerschiff</a></td>\n<td><a href=\"/wiki/MSC-Irina-Typ\" title=\"MSC-Irina-Typ\"><i>MSC Irina</i></a><sup class=\"reference\" id=\"cite_ref-2\"><a href=\"#cite_note-2\">[2]</a></sup><sup class=\"reference\" id=\"cite_ref-3\"><a href=\"#cite_note-3\">[3]</a></sup>\n</td></tr>\n<tr>\n<td><a class=\"mw-redirect\" href=\"/wiki/Sch%C3%BCttgutschiff\" title=\"Schüttgutschiff\">Schüttgutschiff</a></td>\n<td><i><a href=\"/wiki/Valemax-Klasse\" title=\"Valemax-Klasse\">Yuan He Hai</a></i> (Valemax-Klasse)\n</td></tr>\n<tr>\n<td><a class=\"mw-redirect\" href=\"/wiki/%C3%96ltanker\" title=\"Öltanker\">Öltanker</a> (doppelwandig)</td>\n<td><i><a href=\"/wiki/Hellespont-Alhambra-Klasse\" title=\"Hellespont-Alhambra-Klasse\">TI Europe</a></i>, <i><a href=\"/wiki/Hellespont-Alhambra-Klasse\" title=\"Hellespont-Alhambra-Klasse\">TI Oceania</a></i> <style data-mw-deduplicate=\"TemplateStyles:r236689292\">.mw-parser-output .fussnoten-marke{font-size:0.75rem;font-style:normal;font-variant:normal;font-weight:normal;unicode-bidi:isolate;white-space:nowrap}.mw-parser-output .fussnoten-marke.reference,.mw-parser-output span.fussnoten-inhalt{padding-left:0.1rem}.mw-parser-output .fussnoten-marke.reference~.fussnoten-marke.reference,.mw-parser-output span.fussnoten-inhalt~span.fussnoten-inhalt{padding-left:0.15rem}.mw-parser-output .fussnoten-block{margin-bottom:0.1rem}.mw-parser-output div.fussnoten-inhalt{display:inline-block;padding-left:0.8rem;text-indent:-0.8rem}.mw-parser-output div.fussnoten-inhalt p,.mw-parser-output div.fussnoten-inhalt dl,.mw-parser-output div.fussnoten-inhalt ol,.mw-parser-output div.fussnoten-inhalt ul{text-indent:0}.mw-parser-output div.fussnoten-inhalt.fussnoten-floatfix{display:block}.mw-parser-output .fussnoten-box{margin-top:0.5rem;padding-left:0.8rem}.mw-parser-output .fussnoten-box,.mw-parser-output div.fussnoten-inhalt{font-size:94%}.mw-parser-output .fussnoten-box div.fussnoten-inhalt,.mw-parser-output span.fussnoten-inhalt,.mw-parser-output .fussnoten-inhalt .mw-reference-text{font-size:inherit}.mw-parser-output .fussnoten-inhalt .mw-reference-text{display:inline}.mw-parser-output .fussnoten-linie{display:inline-block;position:relative;top:-1em;border-top:solid 1px #808080;width:8rem}.mw-parser-output .fussnoten-linie+p,.mw-parser-output .fussnoten-linie+dl,.mw-parser-output .fussnoten-linie+ol,.mw-parser-output .fussnoten-linie+ul,.mw-parser-output .fussnoten-linie+link+div{margin-top:-1em}.mw-parser-output .fussnoten-marke.reference:target,.mw-parser-output .fussnoten-inhalt:target{background-color:#eaf3ff;box-shadow:0 0 0 0.25em #eaf3ff}.mw-parser-output .fussnoten-marke.reference:target,.mw-parser-output .fussnoten-inhalt:target .fussnoten-marke{font-weight:bold}</style>⁠<sup class=\"fussnoten-marke reference\" id=\"FN_Anm._1_back\"><a href=\"#FNZ_Anm._1\">Anm. 1</a></sup>\n</td></tr>\n<tr>\n<td>Öltanker (einwandig)</td>\n<td><i><a href=\"/wiki/Jahre_Viking\" title=\"Jahre Viking\">Jahre Viking</a></i> <link href=\"mw-data:TemplateStyles:r236689292\" rel=\"mw-deduplicated-inline-style\"/>⁠<sup class=\"fussnoten-marke reference\" id=\"FN_Anm._2_back\"><a href=\"#FNZ_Anm._2\">Anm. 2</a></sup>; <i><a href=\"/wiki/Pierre_Guillaumat_(Schiff)\" title=\"Pierre Guillaumat (Schiff)\">Pierre Guillaumat</a></i>\n</td></tr>\n<tr>\n<td><a class=\"mw-redirect\" href=\"/wiki/Fl%C3%BCssiggastanker\" title=\"Flüssiggastanker\">Flüssiggastanker</a></td>\n<td><i><a href=\"/wiki/Nakilat_Q-Max-Klasse\" title=\"Nakilat Q-Max-Klasse\">Mozah</a></i>\n</td></tr>\n<tr>\n<td><a href=\"/wiki/Dockschiff\" title=\"Dockschiff\">Dockschiff</a></td>\n<td><i><a href=\"/wiki/Boka_Vanguard\" title=\"Boka Vanguard\">Boka Vanguard</a></i>\n</td></tr>\n<tr>\n<td><a href=\"/wiki/Schwimmkran\" title=\"Schwimmkran\">Schwimmkran</a></td>\n<td><a href=\"/wiki/Sleipnir_(Schiff)\" title=\"Sleipnir (Schiff)\"><i>Sleipnir</i></a>\n</td></tr>\n<tr>\n<td><a class=\"mw-redirect\" href=\"/wiki/Motoryacht\" title=\"Motoryacht\">Motoryacht</a></td>\n<td><i><a href=\"/wiki/REV_Ocean\" title=\"REV Ocean\">REV Ocean</a></i> (nach Länge); <i><a href=\"/wiki/Dilbar_(Schiff)\" title=\"Dilbar (Schiff)\">Dilbar</a></i> (nach Größe (BRZ))\n</td></tr>\n<tr>\n<td><a href=\"/wiki/Schlepper_(Schiffstyp)\" title=\"Schlepper (Schiffstyp)\">Schlepper</a></td>\n<td><i><a class=\"new\" href=\"/w/index.php?title=Island_Victory&amp;action=edit&amp;redlink=1\" title=\"Island Victory (Seite nicht vorhanden)\">Island Victory</a></i>\n</td></tr>\n<tr>\n<td><a href=\"/wiki/Schubboot\" title=\"Schubboot\">Schubboot</a></td>\n<td><i><a class=\"new\" href=\"/w/index.php?title=E._Bronson_Ingram&amp;action=edit&amp;redlink=1\" title=\"E. Bronson Ingram (Seite nicht vorhanden)\">E. Bronson Ingram</a></i>\n</td></tr>\n<tr>\n<td><a href=\"/wiki/Katamaran\" title=\"Katamaran\">Katamaran</a></td>\n<td><a class=\"mw-redirect\" href=\"/wiki/HSS_1500\" title=\"HSS 1500\"><i>Stena Explorer</i></a>\n</td></tr>\n<tr>\n<td><a href=\"/wiki/Seenotrettungskreuzer\" title=\"Seenotrettungskreuzer\">Seenotrettungskreuzer</a></td>\n<td><a href=\"/wiki/Hermann_Marwede_(Schiff)\" title=\"Hermann Marwede (Schiff)\"><i>Hermann Marwede</i></a>\n</td></tr>\n<tr>\n<td><a href=\"/wiki/Trimaran\" title=\"Trimaran\">Trimaran</a></td>\n<td><a href=\"/wiki/Independence_(Schiff,_2010)\" title=\"Independence (Schiff, 2010)\">USS <i>Independence</i> (LCS-2)</a>\n</td></tr>\n<tr>\n<td><a class=\"mw-redirect\" href=\"/wiki/Motorsegelschiff\" title=\"Motorsegelschiff\">Motorsegelschiff</a></td>\n<td><i><a href=\"/wiki/Club_Med_2\" title=\"Club Med 2\">Club Med 2</a></i>\n</td></tr>\n<tr>\n<td><a href=\"/wiki/Hopperbagger\" title=\"Hopperbagger\">Hopperbagger</a></td>\n<td><a href=\"/wiki/Crist%C3%B3bal-Col%C3%B3n-Klasse\" title=\"Cristóbal-Colón-Klasse\"><i>Cristóbal-Colón</i>-Klasse</a>\n</td></tr>\n<tr>\n<td><a class=\"mw-redirect\" href=\"/wiki/Segelyacht\" title=\"Segelyacht\">Segelyacht</a></td>\n<td><i><a href=\"/wiki/SY_A\" title=\"SY A\">SY A</a></i>\n</td></tr>\n<tr>\n<td><a href=\"/wiki/Arbeitsschiff\" title=\"Arbeitsschiff\">Arbeitsschiff</a></td>\n<td><i><a href=\"/wiki/Pioneering_Spirit\" title=\"Pioneering Spirit\">Pioneering Spirit</a></i>\n</td></tr>\n<tr>\n<td>Schwimmende Erdöl-/Erdgas-Förderanlagen und Verflüssigungsanlagen (FPSO / FLNG)</td>\n<td><i><a href=\"/wiki/Prelude_(Schiff)\" title=\"Prelude (Schiff)\">Prelude</a></i>\n</td></tr>\n<tr>\n<td><a href=\"/wiki/Hospitalschiff\" title=\"Hospitalschiff\">Hospitalschiff</a></td>\n<td><i><a href=\"/wiki/USNS_Comfort_(T-AH-20)\" title=\"USNS Comfort (T-AH-20)\">USNS Comfort</a></i>\n</td></tr></tbody></table>"
     },
     "execution_count": 34,
     "metadata": {},
     "output_type": "execute_result"
    }
   ],
   "source": [
    "# Die Tabelle heraussondern:\n",
    "table = ship_soup.find('table')\n",
    "table"
   ],
   "metadata": {
    "collapsed": false,
    "ExecuteTime": {
     "end_time": "2024-04-04T08:25:20.319659Z",
     "start_time": "2024-04-04T08:25:20.262422Z"
    }
   },
   "execution_count": 34
  },
  {
   "cell_type": "code",
   "outputs": [
    {
     "data": {
      "text/plain": "<table class=\"wikitable sortable zebra\">\n<caption>Größte und längste Schiffe ihrer Art\n</caption>\n<tbody><tr>\n<th>Kategorie</th>\n<th>Schiffsname\n</th></tr>\n<tr>\n<td><a href=\"/wiki/Kreuzfahrtschiff\" title=\"Kreuzfahrtschiff\">Kreuzfahrtschiff</a></td>\n<td><i><a href=\"/wiki/Icon_of_the_Seas\" title=\"Icon of the Seas\">Icon of the Seas</a><sup class=\"reference\" id=\"cite_ref-1\"><a href=\"#cite_note-1\">[1]</a></sup></i>\n</td></tr>\n<tr>\n<td><a href=\"/wiki/Segelschiff\" title=\"Segelschiff\">Segelschiff</a></td>\n<td><i><a href=\"/wiki/SY_A\" title=\"SY A\">SY A</a></i>\n</td></tr>\n<tr>\n<td><a href=\"/wiki/Frachtsegler\" title=\"Frachtsegler\">Frachtsegler</a></td>\n<td><i><a href=\"/wiki/France_(Schiff,_1912%E2%80%931922)\" title=\"France (Schiff, 1912–1922)\">France</a></i>\n</td></tr>\n<tr>\n<td><a href=\"/wiki/Eisbrecher\" title=\"Eisbrecher\">Eisbrecher</a></td>\n<td><a class=\"mw-redirect\" href=\"/wiki/Arktika_(Schiff,_2020)\" title=\"Arktika (Schiff, 2020)\"><i>Arktika</i></a>\n</td></tr>\n<tr>\n<td><a href=\"/wiki/Autof%C3%A4hre\" title=\"Autofähre\">Autofähre</a></td>\n<td><i><a href=\"/wiki/Color_Magic\" title=\"Color Magic\">Color Magic</a></i> (nach Größe (BRZ)); <i><a href=\"/wiki/Cruise_Barcelona\" title=\"Cruise Barcelona\">Cruise Barcelona</a></i> und <i><a href=\"/wiki/Cruise_Roma\" title=\"Cruise Roma\">Cruise Roma</a></i> (nach Länge)\n</td></tr>\n<tr>\n<td><a class=\"new\" href=\"/w/index.php?title=LNG-F%C3%A4hre&amp;action=edit&amp;redlink=1\" title=\"LNG-Fähre (Seite nicht vorhanden)\">LNG-Fähre</a></td>\n<td><i><a href=\"/wiki/Nils_Holgersson_(Schiff,_2022)\" title=\"Nils Holgersson (Schiff, 2022)\">Nils Holgerson</a>, <a href=\"/wiki/Peter_Pan_(Schiff,_2022)\" title=\"Peter Pan (Schiff, 2022)\">Peter Pan</a></i>\n</td></tr>\n<tr>\n<td>Kombifähre (Eisenbahn/RoRo)</td>\n<td><i><a href=\"/wiki/Sk%C3%A5ne_(Schiff,_1998)\" title=\"Skåne (Schiff, 1998)\">Skåne</a></i>\n</td></tr>\n<tr>\n<td>Autotransporter</td>\n<td><a href=\"/wiki/Mark-V-Klasse\" title=\"Mark-V-Klasse\">Tysla, Salome</a> (nach Länge und Tragfähigkeit); <a href=\"/wiki/New-Horizon-Klasse\" title=\"New-Horizon-Klasse\"><i>Höegh Target</i></a> (nach Tonnage und Fahrzeugkapazität)\n</td></tr>\n<tr>\n<td><a href=\"/wiki/Flugzeugtr%C3%A4ger\" title=\"Flugzeugträger\">Flugzeugträger</a></td>\n<td><a href=\"/wiki/USS_Gerald_R._Ford_(CVN-78)\" title=\"USS Gerald R. Ford (CVN-78)\">USS <i>Gerald R. Ford</i> (CVN-78)</a> (nach Tonnage); <a href=\"/wiki/USS_Enterprise_(CVN-65)\" title=\"USS Enterprise (CVN-65)\">USS <i>Enterprise</i> (CVN 65)</a> (nach Länge)\n</td></tr>\n<tr>\n<td><a href=\"/wiki/Schlachtschiff\" title=\"Schlachtschiff\">Schlachtschiff</a></td>\n<td><a href=\"/wiki/Yamato_(Schiff,_1941)\" title=\"Yamato (Schiff, 1941)\"><i>Yamato</i></a> und <a href=\"/wiki/Musashi_(Schiff,_1942)\" title=\"Musashi (Schiff, 1942)\"><i>Musashi</i></a>\n</td></tr>\n<tr>\n<td><a class=\"mw-redirect\" href=\"/wiki/Unterseeboot\" title=\"Unterseeboot\">Unterseeboot</a></td>\n<td><a href=\"/wiki/TK-208_Dmitri_Donskoj\" title=\"TK-208 Dmitri Donskoj\"><i>Dmitri Donskoi</i> (TK-208)</a>\n</td></tr>\n<tr>\n<td><a href=\"/wiki/Containerschiff\" title=\"Containerschiff\">Containerschiff</a></td>\n<td><a href=\"/wiki/MSC-Irina-Typ\" title=\"MSC-Irina-Typ\"><i>MSC Irina</i></a><sup class=\"reference\" id=\"cite_ref-2\"><a href=\"#cite_note-2\">[2]</a></sup><sup class=\"reference\" id=\"cite_ref-3\"><a href=\"#cite_note-3\">[3]</a></sup>\n</td></tr>\n<tr>\n<td><a class=\"mw-redirect\" href=\"/wiki/Sch%C3%BCttgutschiff\" title=\"Schüttgutschiff\">Schüttgutschiff</a></td>\n<td><i><a href=\"/wiki/Valemax-Klasse\" title=\"Valemax-Klasse\">Yuan He Hai</a></i> (Valemax-Klasse)\n</td></tr>\n<tr>\n<td><a class=\"mw-redirect\" href=\"/wiki/%C3%96ltanker\" title=\"Öltanker\">Öltanker</a> (doppelwandig)</td>\n<td><i><a href=\"/wiki/Hellespont-Alhambra-Klasse\" title=\"Hellespont-Alhambra-Klasse\">TI Europe</a></i>, <i><a href=\"/wiki/Hellespont-Alhambra-Klasse\" title=\"Hellespont-Alhambra-Klasse\">TI Oceania</a></i> <style data-mw-deduplicate=\"TemplateStyles:r236689292\">.mw-parser-output .fussnoten-marke{font-size:0.75rem;font-style:normal;font-variant:normal;font-weight:normal;unicode-bidi:isolate;white-space:nowrap}.mw-parser-output .fussnoten-marke.reference,.mw-parser-output span.fussnoten-inhalt{padding-left:0.1rem}.mw-parser-output .fussnoten-marke.reference~.fussnoten-marke.reference,.mw-parser-output span.fussnoten-inhalt~span.fussnoten-inhalt{padding-left:0.15rem}.mw-parser-output .fussnoten-block{margin-bottom:0.1rem}.mw-parser-output div.fussnoten-inhalt{display:inline-block;padding-left:0.8rem;text-indent:-0.8rem}.mw-parser-output div.fussnoten-inhalt p,.mw-parser-output div.fussnoten-inhalt dl,.mw-parser-output div.fussnoten-inhalt ol,.mw-parser-output div.fussnoten-inhalt ul{text-indent:0}.mw-parser-output div.fussnoten-inhalt.fussnoten-floatfix{display:block}.mw-parser-output .fussnoten-box{margin-top:0.5rem;padding-left:0.8rem}.mw-parser-output .fussnoten-box,.mw-parser-output div.fussnoten-inhalt{font-size:94%}.mw-parser-output .fussnoten-box div.fussnoten-inhalt,.mw-parser-output span.fussnoten-inhalt,.mw-parser-output .fussnoten-inhalt .mw-reference-text{font-size:inherit}.mw-parser-output .fussnoten-inhalt .mw-reference-text{display:inline}.mw-parser-output .fussnoten-linie{display:inline-block;position:relative;top:-1em;border-top:solid 1px #808080;width:8rem}.mw-parser-output .fussnoten-linie+p,.mw-parser-output .fussnoten-linie+dl,.mw-parser-output .fussnoten-linie+ol,.mw-parser-output .fussnoten-linie+ul,.mw-parser-output .fussnoten-linie+link+div{margin-top:-1em}.mw-parser-output .fussnoten-marke.reference:target,.mw-parser-output .fussnoten-inhalt:target{background-color:#eaf3ff;box-shadow:0 0 0 0.25em #eaf3ff}.mw-parser-output .fussnoten-marke.reference:target,.mw-parser-output .fussnoten-inhalt:target .fussnoten-marke{font-weight:bold}</style>⁠<sup class=\"fussnoten-marke reference\" id=\"FN_Anm._1_back\"><a href=\"#FNZ_Anm._1\">Anm. 1</a></sup>\n</td></tr>\n<tr>\n<td>Öltanker (einwandig)</td>\n<td><i><a href=\"/wiki/Jahre_Viking\" title=\"Jahre Viking\">Jahre Viking</a></i> <link href=\"mw-data:TemplateStyles:r236689292\" rel=\"mw-deduplicated-inline-style\"/>⁠<sup class=\"fussnoten-marke reference\" id=\"FN_Anm._2_back\"><a href=\"#FNZ_Anm._2\">Anm. 2</a></sup>; <i><a href=\"/wiki/Pierre_Guillaumat_(Schiff)\" title=\"Pierre Guillaumat (Schiff)\">Pierre Guillaumat</a></i>\n</td></tr>\n<tr>\n<td><a class=\"mw-redirect\" href=\"/wiki/Fl%C3%BCssiggastanker\" title=\"Flüssiggastanker\">Flüssiggastanker</a></td>\n<td><i><a href=\"/wiki/Nakilat_Q-Max-Klasse\" title=\"Nakilat Q-Max-Klasse\">Mozah</a></i>\n</td></tr>\n<tr>\n<td><a href=\"/wiki/Dockschiff\" title=\"Dockschiff\">Dockschiff</a></td>\n<td><i><a href=\"/wiki/Boka_Vanguard\" title=\"Boka Vanguard\">Boka Vanguard</a></i>\n</td></tr>\n<tr>\n<td><a href=\"/wiki/Schwimmkran\" title=\"Schwimmkran\">Schwimmkran</a></td>\n<td><a href=\"/wiki/Sleipnir_(Schiff)\" title=\"Sleipnir (Schiff)\"><i>Sleipnir</i></a>\n</td></tr>\n<tr>\n<td><a class=\"mw-redirect\" href=\"/wiki/Motoryacht\" title=\"Motoryacht\">Motoryacht</a></td>\n<td><i><a href=\"/wiki/REV_Ocean\" title=\"REV Ocean\">REV Ocean</a></i> (nach Länge); <i><a href=\"/wiki/Dilbar_(Schiff)\" title=\"Dilbar (Schiff)\">Dilbar</a></i> (nach Größe (BRZ))\n</td></tr>\n<tr>\n<td><a href=\"/wiki/Schlepper_(Schiffstyp)\" title=\"Schlepper (Schiffstyp)\">Schlepper</a></td>\n<td><i><a class=\"new\" href=\"/w/index.php?title=Island_Victory&amp;action=edit&amp;redlink=1\" title=\"Island Victory (Seite nicht vorhanden)\">Island Victory</a></i>\n</td></tr>\n<tr>\n<td><a href=\"/wiki/Schubboot\" title=\"Schubboot\">Schubboot</a></td>\n<td><i><a class=\"new\" href=\"/w/index.php?title=E._Bronson_Ingram&amp;action=edit&amp;redlink=1\" title=\"E. Bronson Ingram (Seite nicht vorhanden)\">E. Bronson Ingram</a></i>\n</td></tr>\n<tr>\n<td><a href=\"/wiki/Katamaran\" title=\"Katamaran\">Katamaran</a></td>\n<td><a class=\"mw-redirect\" href=\"/wiki/HSS_1500\" title=\"HSS 1500\"><i>Stena Explorer</i></a>\n</td></tr>\n<tr>\n<td><a href=\"/wiki/Seenotrettungskreuzer\" title=\"Seenotrettungskreuzer\">Seenotrettungskreuzer</a></td>\n<td><a href=\"/wiki/Hermann_Marwede_(Schiff)\" title=\"Hermann Marwede (Schiff)\"><i>Hermann Marwede</i></a>\n</td></tr>\n<tr>\n<td><a href=\"/wiki/Trimaran\" title=\"Trimaran\">Trimaran</a></td>\n<td><a href=\"/wiki/Independence_(Schiff,_2010)\" title=\"Independence (Schiff, 2010)\">USS <i>Independence</i> (LCS-2)</a>\n</td></tr>\n<tr>\n<td><a class=\"mw-redirect\" href=\"/wiki/Motorsegelschiff\" title=\"Motorsegelschiff\">Motorsegelschiff</a></td>\n<td><i><a href=\"/wiki/Club_Med_2\" title=\"Club Med 2\">Club Med 2</a></i>\n</td></tr>\n<tr>\n<td><a href=\"/wiki/Hopperbagger\" title=\"Hopperbagger\">Hopperbagger</a></td>\n<td><a href=\"/wiki/Crist%C3%B3bal-Col%C3%B3n-Klasse\" title=\"Cristóbal-Colón-Klasse\"><i>Cristóbal-Colón</i>-Klasse</a>\n</td></tr>\n<tr>\n<td><a class=\"mw-redirect\" href=\"/wiki/Segelyacht\" title=\"Segelyacht\">Segelyacht</a></td>\n<td><i><a href=\"/wiki/SY_A\" title=\"SY A\">SY A</a></i>\n</td></tr>\n<tr>\n<td><a href=\"/wiki/Arbeitsschiff\" title=\"Arbeitsschiff\">Arbeitsschiff</a></td>\n<td><i><a href=\"/wiki/Pioneering_Spirit\" title=\"Pioneering Spirit\">Pioneering Spirit</a></i>\n</td></tr>\n<tr>\n<td>Schwimmende Erdöl-/Erdgas-Förderanlagen und Verflüssigungsanlagen (FPSO / FLNG)</td>\n<td><i><a href=\"/wiki/Prelude_(Schiff)\" title=\"Prelude (Schiff)\">Prelude</a></i>\n</td></tr>\n<tr>\n<td><a href=\"/wiki/Hospitalschiff\" title=\"Hospitalschiff\">Hospitalschiff</a></td>\n<td><i><a href=\"/wiki/USNS_Comfort_(T-AH-20)\" title=\"USNS Comfort (T-AH-20)\">USNS Comfort</a></i>\n</td></tr></tbody></table>"
     },
     "execution_count": 35,
     "metadata": {},
     "output_type": "execute_result"
    }
   ],
   "source": [
    "# Selbes Element, anderer Weg:\n",
    "ship_soup.table"
   ],
   "metadata": {
    "collapsed": false,
    "ExecuteTime": {
     "end_time": "2024-04-04T08:25:34.240284Z",
     "start_time": "2024-04-04T08:25:34.151883Z"
    }
   },
   "execution_count": 35
  },
  {
   "cell_type": "code",
   "outputs": [
    {
     "data": {
      "text/plain": "['wikitable', 'sortable', 'zebra']"
     },
     "execution_count": 36,
     "metadata": {},
     "output_type": "execute_result"
    }
   ],
   "source": [
    "table['class']"
   ],
   "metadata": {
    "collapsed": false,
    "ExecuteTime": {
     "end_time": "2024-04-04T08:26:59.167485Z",
     "start_time": "2024-04-04T08:26:59.152834Z"
    }
   },
   "execution_count": 36
  },
  {
   "cell_type": "code",
   "outputs": [
    {
     "data": {
      "text/plain": "True"
     },
     "execution_count": 37,
     "metadata": {},
     "output_type": "execute_result"
    }
   ],
   "source": [
    "ship_soup.table == ship_soup.find('table')"
   ],
   "metadata": {
    "collapsed": false,
    "ExecuteTime": {
     "end_time": "2024-04-04T08:28:28.933360Z",
     "start_time": "2024-04-04T08:28:28.924375Z"
    }
   },
   "execution_count": 37
  },
  {
   "cell_type": "code",
   "outputs": [],
   "source": [
    "# Selbes Element, anderer Weg:\n",
    "ship_soup.table"
   ],
   "metadata": {
    "collapsed": false
   },
   "execution_count": null
  },
  {
   "cell_type": "code",
   "outputs": [
    {
     "data": {
      "text/plain": "<table class=\"wikitable sortable zebra\">\n<caption>Größte und längste Schiffe ihrer Art\n</caption>\n<tbody><tr>\n<th>Kategorie</th>\n<th>Schiffsname\n</th></tr>\n<tr>\n<td><a href=\"/wiki/Kreuzfahrtschiff\" title=\"Kreuzfahrtschiff\">Kreuzfahrtschiff</a></td>\n<td><i><a href=\"/wiki/Icon_of_the_Seas\" title=\"Icon of the Seas\">Icon of the Seas</a><sup class=\"reference\" id=\"cite_ref-1\"><a href=\"#cite_note-1\">[1]</a></sup></i>\n</td></tr>\n<tr>\n<td><a href=\"/wiki/Segelschiff\" title=\"Segelschiff\">Segelschiff</a></td>\n<td><i><a href=\"/wiki/SY_A\" title=\"SY A\">SY A</a></i>\n</td></tr>\n<tr>\n<td><a href=\"/wiki/Frachtsegler\" title=\"Frachtsegler\">Frachtsegler</a></td>\n<td><i><a href=\"/wiki/France_(Schiff,_1912%E2%80%931922)\" title=\"France (Schiff, 1912–1922)\">France</a></i>\n</td></tr>\n<tr>\n<td><a href=\"/wiki/Eisbrecher\" title=\"Eisbrecher\">Eisbrecher</a></td>\n<td><a class=\"mw-redirect\" href=\"/wiki/Arktika_(Schiff,_2020)\" title=\"Arktika (Schiff, 2020)\"><i>Arktika</i></a>\n</td></tr>\n<tr>\n<td><a href=\"/wiki/Autof%C3%A4hre\" title=\"Autofähre\">Autofähre</a></td>\n<td><i><a href=\"/wiki/Color_Magic\" title=\"Color Magic\">Color Magic</a></i> (nach Größe (BRZ)); <i><a href=\"/wiki/Cruise_Barcelona\" title=\"Cruise Barcelona\">Cruise Barcelona</a></i> und <i><a href=\"/wiki/Cruise_Roma\" title=\"Cruise Roma\">Cruise Roma</a></i> (nach Länge)\n</td></tr>\n<tr>\n<td><a class=\"new\" href=\"/w/index.php?title=LNG-F%C3%A4hre&amp;action=edit&amp;redlink=1\" title=\"LNG-Fähre (Seite nicht vorhanden)\">LNG-Fähre</a></td>\n<td><i><a href=\"/wiki/Nils_Holgersson_(Schiff,_2022)\" title=\"Nils Holgersson (Schiff, 2022)\">Nils Holgerson</a>, <a href=\"/wiki/Peter_Pan_(Schiff,_2022)\" title=\"Peter Pan (Schiff, 2022)\">Peter Pan</a></i>\n</td></tr>\n<tr>\n<td>Kombifähre (Eisenbahn/RoRo)</td>\n<td><i><a href=\"/wiki/Sk%C3%A5ne_(Schiff,_1998)\" title=\"Skåne (Schiff, 1998)\">Skåne</a></i>\n</td></tr>\n<tr>\n<td>Autotransporter</td>\n<td><a href=\"/wiki/Mark-V-Klasse\" title=\"Mark-V-Klasse\">Tysla, Salome</a> (nach Länge und Tragfähigkeit); <a href=\"/wiki/New-Horizon-Klasse\" title=\"New-Horizon-Klasse\"><i>Höegh Target</i></a> (nach Tonnage und Fahrzeugkapazität)\n</td></tr>\n<tr>\n<td><a href=\"/wiki/Flugzeugtr%C3%A4ger\" title=\"Flugzeugträger\">Flugzeugträger</a></td>\n<td><a href=\"/wiki/USS_Gerald_R._Ford_(CVN-78)\" title=\"USS Gerald R. Ford (CVN-78)\">USS <i>Gerald R. Ford</i> (CVN-78)</a> (nach Tonnage); <a href=\"/wiki/USS_Enterprise_(CVN-65)\" title=\"USS Enterprise (CVN-65)\">USS <i>Enterprise</i> (CVN 65)</a> (nach Länge)\n</td></tr>\n<tr>\n<td><a href=\"/wiki/Schlachtschiff\" title=\"Schlachtschiff\">Schlachtschiff</a></td>\n<td><a href=\"/wiki/Yamato_(Schiff,_1941)\" title=\"Yamato (Schiff, 1941)\"><i>Yamato</i></a> und <a href=\"/wiki/Musashi_(Schiff,_1942)\" title=\"Musashi (Schiff, 1942)\"><i>Musashi</i></a>\n</td></tr>\n<tr>\n<td><a class=\"mw-redirect\" href=\"/wiki/Unterseeboot\" title=\"Unterseeboot\">Unterseeboot</a></td>\n<td><a href=\"/wiki/TK-208_Dmitri_Donskoj\" title=\"TK-208 Dmitri Donskoj\"><i>Dmitri Donskoi</i> (TK-208)</a>\n</td></tr>\n<tr>\n<td><a href=\"/wiki/Containerschiff\" title=\"Containerschiff\">Containerschiff</a></td>\n<td><a href=\"/wiki/MSC-Irina-Typ\" title=\"MSC-Irina-Typ\"><i>MSC Irina</i></a><sup class=\"reference\" id=\"cite_ref-2\"><a href=\"#cite_note-2\">[2]</a></sup><sup class=\"reference\" id=\"cite_ref-3\"><a href=\"#cite_note-3\">[3]</a></sup>\n</td></tr>\n<tr>\n<td><a class=\"mw-redirect\" href=\"/wiki/Sch%C3%BCttgutschiff\" title=\"Schüttgutschiff\">Schüttgutschiff</a></td>\n<td><i><a href=\"/wiki/Valemax-Klasse\" title=\"Valemax-Klasse\">Yuan He Hai</a></i> (Valemax-Klasse)\n</td></tr>\n<tr>\n<td><a class=\"mw-redirect\" href=\"/wiki/%C3%96ltanker\" title=\"Öltanker\">Öltanker</a> (doppelwandig)</td>\n<td><i><a href=\"/wiki/Hellespont-Alhambra-Klasse\" title=\"Hellespont-Alhambra-Klasse\">TI Europe</a></i>, <i><a href=\"/wiki/Hellespont-Alhambra-Klasse\" title=\"Hellespont-Alhambra-Klasse\">TI Oceania</a></i> <style data-mw-deduplicate=\"TemplateStyles:r236689292\">.mw-parser-output .fussnoten-marke{font-size:0.75rem;font-style:normal;font-variant:normal;font-weight:normal;unicode-bidi:isolate;white-space:nowrap}.mw-parser-output .fussnoten-marke.reference,.mw-parser-output span.fussnoten-inhalt{padding-left:0.1rem}.mw-parser-output .fussnoten-marke.reference~.fussnoten-marke.reference,.mw-parser-output span.fussnoten-inhalt~span.fussnoten-inhalt{padding-left:0.15rem}.mw-parser-output .fussnoten-block{margin-bottom:0.1rem}.mw-parser-output div.fussnoten-inhalt{display:inline-block;padding-left:0.8rem;text-indent:-0.8rem}.mw-parser-output div.fussnoten-inhalt p,.mw-parser-output div.fussnoten-inhalt dl,.mw-parser-output div.fussnoten-inhalt ol,.mw-parser-output div.fussnoten-inhalt ul{text-indent:0}.mw-parser-output div.fussnoten-inhalt.fussnoten-floatfix{display:block}.mw-parser-output .fussnoten-box{margin-top:0.5rem;padding-left:0.8rem}.mw-parser-output .fussnoten-box,.mw-parser-output div.fussnoten-inhalt{font-size:94%}.mw-parser-output .fussnoten-box div.fussnoten-inhalt,.mw-parser-output span.fussnoten-inhalt,.mw-parser-output .fussnoten-inhalt .mw-reference-text{font-size:inherit}.mw-parser-output .fussnoten-inhalt .mw-reference-text{display:inline}.mw-parser-output .fussnoten-linie{display:inline-block;position:relative;top:-1em;border-top:solid 1px #808080;width:8rem}.mw-parser-output .fussnoten-linie+p,.mw-parser-output .fussnoten-linie+dl,.mw-parser-output .fussnoten-linie+ol,.mw-parser-output .fussnoten-linie+ul,.mw-parser-output .fussnoten-linie+link+div{margin-top:-1em}.mw-parser-output .fussnoten-marke.reference:target,.mw-parser-output .fussnoten-inhalt:target{background-color:#eaf3ff;box-shadow:0 0 0 0.25em #eaf3ff}.mw-parser-output .fussnoten-marke.reference:target,.mw-parser-output .fussnoten-inhalt:target .fussnoten-marke{font-weight:bold}</style>⁠<sup class=\"fussnoten-marke reference\" id=\"FN_Anm._1_back\"><a href=\"#FNZ_Anm._1\">Anm. 1</a></sup>\n</td></tr>\n<tr>\n<td>Öltanker (einwandig)</td>\n<td><i><a href=\"/wiki/Jahre_Viking\" title=\"Jahre Viking\">Jahre Viking</a></i> <link href=\"mw-data:TemplateStyles:r236689292\" rel=\"mw-deduplicated-inline-style\"/>⁠<sup class=\"fussnoten-marke reference\" id=\"FN_Anm._2_back\"><a href=\"#FNZ_Anm._2\">Anm. 2</a></sup>; <i><a href=\"/wiki/Pierre_Guillaumat_(Schiff)\" title=\"Pierre Guillaumat (Schiff)\">Pierre Guillaumat</a></i>\n</td></tr>\n<tr>\n<td><a class=\"mw-redirect\" href=\"/wiki/Fl%C3%BCssiggastanker\" title=\"Flüssiggastanker\">Flüssiggastanker</a></td>\n<td><i><a href=\"/wiki/Nakilat_Q-Max-Klasse\" title=\"Nakilat Q-Max-Klasse\">Mozah</a></i>\n</td></tr>\n<tr>\n<td><a href=\"/wiki/Dockschiff\" title=\"Dockschiff\">Dockschiff</a></td>\n<td><i><a href=\"/wiki/Boka_Vanguard\" title=\"Boka Vanguard\">Boka Vanguard</a></i>\n</td></tr>\n<tr>\n<td><a href=\"/wiki/Schwimmkran\" title=\"Schwimmkran\">Schwimmkran</a></td>\n<td><a href=\"/wiki/Sleipnir_(Schiff)\" title=\"Sleipnir (Schiff)\"><i>Sleipnir</i></a>\n</td></tr>\n<tr>\n<td><a class=\"mw-redirect\" href=\"/wiki/Motoryacht\" title=\"Motoryacht\">Motoryacht</a></td>\n<td><i><a href=\"/wiki/REV_Ocean\" title=\"REV Ocean\">REV Ocean</a></i> (nach Länge); <i><a href=\"/wiki/Dilbar_(Schiff)\" title=\"Dilbar (Schiff)\">Dilbar</a></i> (nach Größe (BRZ))\n</td></tr>\n<tr>\n<td><a href=\"/wiki/Schlepper_(Schiffstyp)\" title=\"Schlepper (Schiffstyp)\">Schlepper</a></td>\n<td><i><a class=\"new\" href=\"/w/index.php?title=Island_Victory&amp;action=edit&amp;redlink=1\" title=\"Island Victory (Seite nicht vorhanden)\">Island Victory</a></i>\n</td></tr>\n<tr>\n<td><a href=\"/wiki/Schubboot\" title=\"Schubboot\">Schubboot</a></td>\n<td><i><a class=\"new\" href=\"/w/index.php?title=E._Bronson_Ingram&amp;action=edit&amp;redlink=1\" title=\"E. Bronson Ingram (Seite nicht vorhanden)\">E. Bronson Ingram</a></i>\n</td></tr>\n<tr>\n<td><a href=\"/wiki/Katamaran\" title=\"Katamaran\">Katamaran</a></td>\n<td><a class=\"mw-redirect\" href=\"/wiki/HSS_1500\" title=\"HSS 1500\"><i>Stena Explorer</i></a>\n</td></tr>\n<tr>\n<td><a href=\"/wiki/Seenotrettungskreuzer\" title=\"Seenotrettungskreuzer\">Seenotrettungskreuzer</a></td>\n<td><a href=\"/wiki/Hermann_Marwede_(Schiff)\" title=\"Hermann Marwede (Schiff)\"><i>Hermann Marwede</i></a>\n</td></tr>\n<tr>\n<td><a href=\"/wiki/Trimaran\" title=\"Trimaran\">Trimaran</a></td>\n<td><a href=\"/wiki/Independence_(Schiff,_2010)\" title=\"Independence (Schiff, 2010)\">USS <i>Independence</i> (LCS-2)</a>\n</td></tr>\n<tr>\n<td><a class=\"mw-redirect\" href=\"/wiki/Motorsegelschiff\" title=\"Motorsegelschiff\">Motorsegelschiff</a></td>\n<td><i><a href=\"/wiki/Club_Med_2\" title=\"Club Med 2\">Club Med 2</a></i>\n</td></tr>\n<tr>\n<td><a href=\"/wiki/Hopperbagger\" title=\"Hopperbagger\">Hopperbagger</a></td>\n<td><a href=\"/wiki/Crist%C3%B3bal-Col%C3%B3n-Klasse\" title=\"Cristóbal-Colón-Klasse\"><i>Cristóbal-Colón</i>-Klasse</a>\n</td></tr>\n<tr>\n<td><a class=\"mw-redirect\" href=\"/wiki/Segelyacht\" title=\"Segelyacht\">Segelyacht</a></td>\n<td><i><a href=\"/wiki/SY_A\" title=\"SY A\">SY A</a></i>\n</td></tr>\n<tr>\n<td><a href=\"/wiki/Arbeitsschiff\" title=\"Arbeitsschiff\">Arbeitsschiff</a></td>\n<td><i><a href=\"/wiki/Pioneering_Spirit\" title=\"Pioneering Spirit\">Pioneering Spirit</a></i>\n</td></tr>\n<tr>\n<td>Schwimmende Erdöl-/Erdgas-Förderanlagen und Verflüssigungsanlagen (FPSO / FLNG)</td>\n<td><i><a href=\"/wiki/Prelude_(Schiff)\" title=\"Prelude (Schiff)\">Prelude</a></i>\n</td></tr>\n<tr>\n<td><a href=\"/wiki/Hospitalschiff\" title=\"Hospitalschiff\">Hospitalschiff</a></td>\n<td><i><a href=\"/wiki/USNS_Comfort_(T-AH-20)\" title=\"USNS Comfort (T-AH-20)\">USNS Comfort</a></i>\n</td></tr></tbody></table>"
     },
     "execution_count": 38,
     "metadata": {},
     "output_type": "execute_result"
    }
   ],
   "source": [
    "# Selbe Suche, aber mit Klasse:\n",
    "ship_soup.find(class_='wikitable sortable zebra')"
   ],
   "metadata": {
    "collapsed": false,
    "ExecuteTime": {
     "end_time": "2024-04-04T08:30:53.708738Z",
     "start_time": "2024-04-04T08:30:53.645562Z"
    }
   },
   "execution_count": 38
  },
  {
   "cell_type": "code",
   "outputs": [
    {
     "name": "stdout",
     "output_type": "stream",
     "text": [
      "<table class=\"wikitable sortable zebra\">\n",
      " <caption>\n",
      "  Größte und längste Schiffe ihrer Art\n",
      " </caption>\n",
      " <tbody>\n",
      "  <tr>\n",
      "   <th>\n",
      "    Kategorie\n",
      "   </th>\n",
      "   <th>\n",
      "    Schiffsname\n",
      "   </th>\n",
      "  </tr>\n",
      "  <tr>\n",
      "   <td>\n",
      "    <a href=\"/wiki/Kreuzfahrtschiff\" title=\"Kreuzfahrtschiff\">\n",
      "     Kreuzfahrtschiff\n",
      "    </a>\n",
      "   </td>\n",
      "   <td>\n",
      "    <i>\n",
      "     <a href=\"/wiki/Icon_of_the_Seas\" title=\"Icon of the Seas\">\n",
      "      Icon of the Seas\n",
      "     </a>\n",
      "     <sup class=\"reference\" id=\"cite_ref-1\">\n",
      "      <a href=\"#cite_note-1\">\n",
      "       [1]\n",
      "      </a>\n",
      "     </sup>\n",
      "    </i>\n",
      "   </td>\n",
      "  </tr>\n",
      "  <tr>\n",
      "   <td>\n",
      "    <a href=\"/wiki/Segelschiff\" title=\"Segelschiff\">\n",
      "     Segelschiff\n",
      "    </a>\n",
      "   </td>\n",
      "   <td>\n",
      "    <i>\n",
      "     <a href=\"/wiki/SY_A\" title=\"SY A\">\n",
      "      SY A\n",
      "     </a>\n",
      "    </i>\n",
      "   </td>\n",
      "  </tr>\n",
      "  <tr>\n",
      "   <td>\n",
      "    <a href=\"/wiki/Frachtsegler\" title=\"Frachtsegler\">\n",
      "     Frachtsegler\n",
      "    </a>\n",
      "   </td>\n",
      "   <td>\n",
      "    <i>\n",
      "     <a href=\"/wiki/France_(Schiff,_1912%E2%80%931922)\" title=\"France (Schiff, 1912–1922)\">\n",
      "      France\n",
      "     </a>\n",
      "    </i>\n",
      "   </td>\n",
      "  </tr>\n",
      "  <tr>\n",
      "   <td>\n",
      "    <a href=\"/wiki/Eisbrecher\" title=\"Eisbrecher\">\n",
      "     Eisbrecher\n",
      "    </a>\n",
      "   </td>\n",
      "   <td>\n",
      "    <a class=\"mw-redirect\" href=\"/wiki/Arktika_(Schiff,_2020)\" title=\"Arktika (Schiff, 2020)\">\n",
      "     <i>\n",
      "      Arktika\n",
      "     </i>\n",
      "    </a>\n",
      "   </td>\n",
      "  </tr>\n",
      "  <tr>\n",
      "   <td>\n",
      "    <a href=\"/wiki/Autof%C3%A4hre\" title=\"Autofähre\">\n",
      "     Autofähre\n",
      "    </a>\n",
      "   </td>\n",
      "   <td>\n",
      "    <i>\n",
      "     <a href=\"/wiki/Color_Magic\" title=\"Color Magic\">\n",
      "      Color Magic\n",
      "     </a>\n",
      "    </i>\n",
      "    (nach Größe (BRZ));\n",
      "    <i>\n",
      "     <a href=\"/wiki/Cruise_Barcelona\" title=\"Cruise Barcelona\">\n",
      "      Cruise Barcelona\n",
      "     </a>\n",
      "    </i>\n",
      "    und\n",
      "    <i>\n",
      "     <a href=\"/wiki/Cruise_Roma\" title=\"Cruise Roma\">\n",
      "      Cruise Roma\n",
      "     </a>\n",
      "    </i>\n",
      "    (nach Länge)\n",
      "   </td>\n",
      "  </tr>\n",
      "  <tr>\n",
      "   <td>\n",
      "    <a class=\"new\" href=\"/w/index.php?title=LNG-F%C3%A4hre&amp;action=edit&amp;redlink=1\" title=\"LNG-Fähre (Seite nicht vorhanden)\">\n",
      "     LNG-Fähre\n",
      "    </a>\n",
      "   </td>\n",
      "   <td>\n",
      "    <i>\n",
      "     <a href=\"/wiki/Nils_Holgersson_(Schiff,_2022)\" title=\"Nils Holgersson (Schiff, 2022)\">\n",
      "      Nils Holgerson\n",
      "     </a>\n",
      "     ,\n",
      "     <a href=\"/wiki/Peter_Pan_(Schiff,_2022)\" title=\"Peter Pan (Schiff, 2022)\">\n",
      "      Peter Pan\n",
      "     </a>\n",
      "    </i>\n",
      "   </td>\n",
      "  </tr>\n",
      "  <tr>\n",
      "   <td>\n",
      "    Kombifähre (Eisenbahn/RoRo)\n",
      "   </td>\n",
      "   <td>\n",
      "    <i>\n",
      "     <a href=\"/wiki/Sk%C3%A5ne_(Schiff,_1998)\" title=\"Skåne (Schiff, 1998)\">\n",
      "      Skåne\n",
      "     </a>\n",
      "    </i>\n",
      "   </td>\n",
      "  </tr>\n",
      "  <tr>\n",
      "   <td>\n",
      "    Autotransporter\n",
      "   </td>\n",
      "   <td>\n",
      "    <a href=\"/wiki/Mark-V-Klasse\" title=\"Mark-V-Klasse\">\n",
      "     Tysla, Salome\n",
      "    </a>\n",
      "    (nach Länge und Tragfähigkeit);\n",
      "    <a href=\"/wiki/New-Horizon-Klasse\" title=\"New-Horizon-Klasse\">\n",
      "     <i>\n",
      "      Höegh Target\n",
      "     </i>\n",
      "    </a>\n",
      "    (nach Tonnage und Fahrzeugkapazität)\n",
      "   </td>\n",
      "  </tr>\n",
      "  <tr>\n",
      "   <td>\n",
      "    <a href=\"/wiki/Flugzeugtr%C3%A4ger\" title=\"Flugzeugträger\">\n",
      "     Flugzeugträger\n",
      "    </a>\n",
      "   </td>\n",
      "   <td>\n",
      "    <a href=\"/wiki/USS_Gerald_R._Ford_(CVN-78)\" title=\"USS Gerald R. Ford (CVN-78)\">\n",
      "     USS\n",
      "     <i>\n",
      "      Gerald R. Ford\n",
      "     </i>\n",
      "     (CVN-78)\n",
      "    </a>\n",
      "    (nach Tonnage);\n",
      "    <a href=\"/wiki/USS_Enterprise_(CVN-65)\" title=\"USS Enterprise (CVN-65)\">\n",
      "     USS\n",
      "     <i>\n",
      "      Enterprise\n",
      "     </i>\n",
      "     (CVN 65)\n",
      "    </a>\n",
      "    (nach Länge)\n",
      "   </td>\n",
      "  </tr>\n",
      "  <tr>\n",
      "   <td>\n",
      "    <a href=\"/wiki/Schlachtschiff\" title=\"Schlachtschiff\">\n",
      "     Schlachtschiff\n",
      "    </a>\n",
      "   </td>\n",
      "   <td>\n",
      "    <a href=\"/wiki/Yamato_(Schiff,_1941)\" title=\"Yamato (Schiff, 1941)\">\n",
      "     <i>\n",
      "      Yamato\n",
      "     </i>\n",
      "    </a>\n",
      "    und\n",
      "    <a href=\"/wiki/Musashi_(Schiff,_1942)\" title=\"Musashi (Schiff, 1942)\">\n",
      "     <i>\n",
      "      Musashi\n",
      "     </i>\n",
      "    </a>\n",
      "   </td>\n",
      "  </tr>\n",
      "  <tr>\n",
      "   <td>\n",
      "    <a class=\"mw-redirect\" href=\"/wiki/Unterseeboot\" title=\"Unterseeboot\">\n",
      "     Unterseeboot\n",
      "    </a>\n",
      "   </td>\n",
      "   <td>\n",
      "    <a href=\"/wiki/TK-208_Dmitri_Donskoj\" title=\"TK-208 Dmitri Donskoj\">\n",
      "     <i>\n",
      "      Dmitri Donskoi\n",
      "     </i>\n",
      "     (TK-208)\n",
      "    </a>\n",
      "   </td>\n",
      "  </tr>\n",
      "  <tr>\n",
      "   <td>\n",
      "    <a href=\"/wiki/Containerschiff\" title=\"Containerschiff\">\n",
      "     Containerschiff\n",
      "    </a>\n",
      "   </td>\n",
      "   <td>\n",
      "    <a href=\"/wiki/MSC-Irina-Typ\" title=\"MSC-Irina-Typ\">\n",
      "     <i>\n",
      "      MSC Irina\n",
      "     </i>\n",
      "    </a>\n",
      "    <sup class=\"reference\" id=\"cite_ref-2\">\n",
      "     <a href=\"#cite_note-2\">\n",
      "      [2]\n",
      "     </a>\n",
      "    </sup>\n",
      "    <sup class=\"reference\" id=\"cite_ref-3\">\n",
      "     <a href=\"#cite_note-3\">\n",
      "      [3]\n",
      "     </a>\n",
      "    </sup>\n",
      "   </td>\n",
      "  </tr>\n",
      "  <tr>\n",
      "   <td>\n",
      "    <a class=\"mw-redirect\" href=\"/wiki/Sch%C3%BCttgutschiff\" title=\"Schüttgutschiff\">\n",
      "     Schüttgutschiff\n",
      "    </a>\n",
      "   </td>\n",
      "   <td>\n",
      "    <i>\n",
      "     <a href=\"/wiki/Valemax-Klasse\" title=\"Valemax-Klasse\">\n",
      "      Yuan He Hai\n",
      "     </a>\n",
      "    </i>\n",
      "    (Valemax-Klasse)\n",
      "   </td>\n",
      "  </tr>\n",
      "  <tr>\n",
      "   <td>\n",
      "    <a class=\"mw-redirect\" href=\"/wiki/%C3%96ltanker\" title=\"Öltanker\">\n",
      "     Öltanker\n",
      "    </a>\n",
      "    (doppelwandig)\n",
      "   </td>\n",
      "   <td>\n",
      "    <i>\n",
      "     <a href=\"/wiki/Hellespont-Alhambra-Klasse\" title=\"Hellespont-Alhambra-Klasse\">\n",
      "      TI Europe\n",
      "     </a>\n",
      "    </i>\n",
      "    ,\n",
      "    <i>\n",
      "     <a href=\"/wiki/Hellespont-Alhambra-Klasse\" title=\"Hellespont-Alhambra-Klasse\">\n",
      "      TI Oceania\n",
      "     </a>\n",
      "    </i>\n",
      "    <style data-mw-deduplicate=\"TemplateStyles:r236689292\">\n",
      "     .mw-parser-output .fussnoten-marke{font-size:0.75rem;font-style:normal;font-variant:normal;font-weight:normal;unicode-bidi:isolate;white-space:nowrap}.mw-parser-output .fussnoten-marke.reference,.mw-parser-output span.fussnoten-inhalt{padding-left:0.1rem}.mw-parser-output .fussnoten-marke.reference~.fussnoten-marke.reference,.mw-parser-output span.fussnoten-inhalt~span.fussnoten-inhalt{padding-left:0.15rem}.mw-parser-output .fussnoten-block{margin-bottom:0.1rem}.mw-parser-output div.fussnoten-inhalt{display:inline-block;padding-left:0.8rem;text-indent:-0.8rem}.mw-parser-output div.fussnoten-inhalt p,.mw-parser-output div.fussnoten-inhalt dl,.mw-parser-output div.fussnoten-inhalt ol,.mw-parser-output div.fussnoten-inhalt ul{text-indent:0}.mw-parser-output div.fussnoten-inhalt.fussnoten-floatfix{display:block}.mw-parser-output .fussnoten-box{margin-top:0.5rem;padding-left:0.8rem}.mw-parser-output .fussnoten-box,.mw-parser-output div.fussnoten-inhalt{font-size:94%}.mw-parser-output .fussnoten-box div.fussnoten-inhalt,.mw-parser-output span.fussnoten-inhalt,.mw-parser-output .fussnoten-inhalt .mw-reference-text{font-size:inherit}.mw-parser-output .fussnoten-inhalt .mw-reference-text{display:inline}.mw-parser-output .fussnoten-linie{display:inline-block;position:relative;top:-1em;border-top:solid 1px #808080;width:8rem}.mw-parser-output .fussnoten-linie+p,.mw-parser-output .fussnoten-linie+dl,.mw-parser-output .fussnoten-linie+ol,.mw-parser-output .fussnoten-linie+ul,.mw-parser-output .fussnoten-linie+link+div{margin-top:-1em}.mw-parser-output .fussnoten-marke.reference:target,.mw-parser-output .fussnoten-inhalt:target{background-color:#eaf3ff;box-shadow:0 0 0 0.25em #eaf3ff}.mw-parser-output .fussnoten-marke.reference:target,.mw-parser-output .fussnoten-inhalt:target .fussnoten-marke{font-weight:bold}\n",
      "    </style>\n",
      "    ⁠\n",
      "    <sup class=\"fussnoten-marke reference\" id=\"FN_Anm._1_back\">\n",
      "     <a href=\"#FNZ_Anm._1\">\n",
      "      Anm. 1\n",
      "     </a>\n",
      "    </sup>\n",
      "   </td>\n",
      "  </tr>\n",
      "  <tr>\n",
      "   <td>\n",
      "    Öltanker (einwandig)\n",
      "   </td>\n",
      "   <td>\n",
      "    <i>\n",
      "     <a href=\"/wiki/Jahre_Viking\" title=\"Jahre Viking\">\n",
      "      Jahre Viking\n",
      "     </a>\n",
      "    </i>\n",
      "    <link href=\"mw-data:TemplateStyles:r236689292\" rel=\"mw-deduplicated-inline-style\"/>\n",
      "    ⁠\n",
      "    <sup class=\"fussnoten-marke reference\" id=\"FN_Anm._2_back\">\n",
      "     <a href=\"#FNZ_Anm._2\">\n",
      "      Anm. 2\n",
      "     </a>\n",
      "    </sup>\n",
      "    ;\n",
      "    <i>\n",
      "     <a href=\"/wiki/Pierre_Guillaumat_(Schiff)\" title=\"Pierre Guillaumat (Schiff)\">\n",
      "      Pierre Guillaumat\n",
      "     </a>\n",
      "    </i>\n",
      "   </td>\n",
      "  </tr>\n",
      "  <tr>\n",
      "   <td>\n",
      "    <a class=\"mw-redirect\" href=\"/wiki/Fl%C3%BCssiggastanker\" title=\"Flüssiggastanker\">\n",
      "     Flüssiggastanker\n",
      "    </a>\n",
      "   </td>\n",
      "   <td>\n",
      "    <i>\n",
      "     <a href=\"/wiki/Nakilat_Q-Max-Klasse\" title=\"Nakilat Q-Max-Klasse\">\n",
      "      Mozah\n",
      "     </a>\n",
      "    </i>\n",
      "   </td>\n",
      "  </tr>\n",
      "  <tr>\n",
      "   <td>\n",
      "    <a href=\"/wiki/Dockschiff\" title=\"Dockschiff\">\n",
      "     Dockschiff\n",
      "    </a>\n",
      "   </td>\n",
      "   <td>\n",
      "    <i>\n",
      "     <a href=\"/wiki/Boka_Vanguard\" title=\"Boka Vanguard\">\n",
      "      Boka Vanguard\n",
      "     </a>\n",
      "    </i>\n",
      "   </td>\n",
      "  </tr>\n",
      "  <tr>\n",
      "   <td>\n",
      "    <a href=\"/wiki/Schwimmkran\" title=\"Schwimmkran\">\n",
      "     Schwimmkran\n",
      "    </a>\n",
      "   </td>\n",
      "   <td>\n",
      "    <a href=\"/wiki/Sleipnir_(Schiff)\" title=\"Sleipnir (Schiff)\">\n",
      "     <i>\n",
      "      Sleipnir\n",
      "     </i>\n",
      "    </a>\n",
      "   </td>\n",
      "  </tr>\n",
      "  <tr>\n",
      "   <td>\n",
      "    <a class=\"mw-redirect\" href=\"/wiki/Motoryacht\" title=\"Motoryacht\">\n",
      "     Motoryacht\n",
      "    </a>\n",
      "   </td>\n",
      "   <td>\n",
      "    <i>\n",
      "     <a href=\"/wiki/REV_Ocean\" title=\"REV Ocean\">\n",
      "      REV Ocean\n",
      "     </a>\n",
      "    </i>\n",
      "    (nach Länge);\n",
      "    <i>\n",
      "     <a href=\"/wiki/Dilbar_(Schiff)\" title=\"Dilbar (Schiff)\">\n",
      "      Dilbar\n",
      "     </a>\n",
      "    </i>\n",
      "    (nach Größe (BRZ))\n",
      "   </td>\n",
      "  </tr>\n",
      "  <tr>\n",
      "   <td>\n",
      "    <a href=\"/wiki/Schlepper_(Schiffstyp)\" title=\"Schlepper (Schiffstyp)\">\n",
      "     Schlepper\n",
      "    </a>\n",
      "   </td>\n",
      "   <td>\n",
      "    <i>\n",
      "     <a class=\"new\" href=\"/w/index.php?title=Island_Victory&amp;action=edit&amp;redlink=1\" title=\"Island Victory (Seite nicht vorhanden)\">\n",
      "      Island Victory\n",
      "     </a>\n",
      "    </i>\n",
      "   </td>\n",
      "  </tr>\n",
      "  <tr>\n",
      "   <td>\n",
      "    <a href=\"/wiki/Schubboot\" title=\"Schubboot\">\n",
      "     Schubboot\n",
      "    </a>\n",
      "   </td>\n",
      "   <td>\n",
      "    <i>\n",
      "     <a class=\"new\" href=\"/w/index.php?title=E._Bronson_Ingram&amp;action=edit&amp;redlink=1\" title=\"E. Bronson Ingram (Seite nicht vorhanden)\">\n",
      "      E. Bronson Ingram\n",
      "     </a>\n",
      "    </i>\n",
      "   </td>\n",
      "  </tr>\n",
      "  <tr>\n",
      "   <td>\n",
      "    <a href=\"/wiki/Katamaran\" title=\"Katamaran\">\n",
      "     Katamaran\n",
      "    </a>\n",
      "   </td>\n",
      "   <td>\n",
      "    <a class=\"mw-redirect\" href=\"/wiki/HSS_1500\" title=\"HSS 1500\">\n",
      "     <i>\n",
      "      Stena Explorer\n",
      "     </i>\n",
      "    </a>\n",
      "   </td>\n",
      "  </tr>\n",
      "  <tr>\n",
      "   <td>\n",
      "    <a href=\"/wiki/Seenotrettungskreuzer\" title=\"Seenotrettungskreuzer\">\n",
      "     Seenotrettungskreuzer\n",
      "    </a>\n",
      "   </td>\n",
      "   <td>\n",
      "    <a href=\"/wiki/Hermann_Marwede_(Schiff)\" title=\"Hermann Marwede (Schiff)\">\n",
      "     <i>\n",
      "      Hermann Marwede\n",
      "     </i>\n",
      "    </a>\n",
      "   </td>\n",
      "  </tr>\n",
      "  <tr>\n",
      "   <td>\n",
      "    <a href=\"/wiki/Trimaran\" title=\"Trimaran\">\n",
      "     Trimaran\n",
      "    </a>\n",
      "   </td>\n",
      "   <td>\n",
      "    <a href=\"/wiki/Independence_(Schiff,_2010)\" title=\"Independence (Schiff, 2010)\">\n",
      "     USS\n",
      "     <i>\n",
      "      Independence\n",
      "     </i>\n",
      "     (LCS-2)\n",
      "    </a>\n",
      "   </td>\n",
      "  </tr>\n",
      "  <tr>\n",
      "   <td>\n",
      "    <a class=\"mw-redirect\" href=\"/wiki/Motorsegelschiff\" title=\"Motorsegelschiff\">\n",
      "     Motorsegelschiff\n",
      "    </a>\n",
      "   </td>\n",
      "   <td>\n",
      "    <i>\n",
      "     <a href=\"/wiki/Club_Med_2\" title=\"Club Med 2\">\n",
      "      Club Med 2\n",
      "     </a>\n",
      "    </i>\n",
      "   </td>\n",
      "  </tr>\n",
      "  <tr>\n",
      "   <td>\n",
      "    <a href=\"/wiki/Hopperbagger\" title=\"Hopperbagger\">\n",
      "     Hopperbagger\n",
      "    </a>\n",
      "   </td>\n",
      "   <td>\n",
      "    <a href=\"/wiki/Crist%C3%B3bal-Col%C3%B3n-Klasse\" title=\"Cristóbal-Colón-Klasse\">\n",
      "     <i>\n",
      "      Cristóbal-Colón\n",
      "     </i>\n",
      "     -Klasse\n",
      "    </a>\n",
      "   </td>\n",
      "  </tr>\n",
      "  <tr>\n",
      "   <td>\n",
      "    <a class=\"mw-redirect\" href=\"/wiki/Segelyacht\" title=\"Segelyacht\">\n",
      "     Segelyacht\n",
      "    </a>\n",
      "   </td>\n",
      "   <td>\n",
      "    <i>\n",
      "     <a href=\"/wiki/SY_A\" title=\"SY A\">\n",
      "      SY A\n",
      "     </a>\n",
      "    </i>\n",
      "   </td>\n",
      "  </tr>\n",
      "  <tr>\n",
      "   <td>\n",
      "    <a href=\"/wiki/Arbeitsschiff\" title=\"Arbeitsschiff\">\n",
      "     Arbeitsschiff\n",
      "    </a>\n",
      "   </td>\n",
      "   <td>\n",
      "    <i>\n",
      "     <a href=\"/wiki/Pioneering_Spirit\" title=\"Pioneering Spirit\">\n",
      "      Pioneering Spirit\n",
      "     </a>\n",
      "    </i>\n",
      "   </td>\n",
      "  </tr>\n",
      "  <tr>\n",
      "   <td>\n",
      "    Schwimmende Erdöl-/Erdgas-Förderanlagen und Verflüssigungsanlagen (FPSO / FLNG)\n",
      "   </td>\n",
      "   <td>\n",
      "    <i>\n",
      "     <a href=\"/wiki/Prelude_(Schiff)\" title=\"Prelude (Schiff)\">\n",
      "      Prelude\n",
      "     </a>\n",
      "    </i>\n",
      "   </td>\n",
      "  </tr>\n",
      "  <tr>\n",
      "   <td>\n",
      "    <a href=\"/wiki/Hospitalschiff\" title=\"Hospitalschiff\">\n",
      "     Hospitalschiff\n",
      "    </a>\n",
      "   </td>\n",
      "   <td>\n",
      "    <i>\n",
      "     <a href=\"/wiki/USNS_Comfort_(T-AH-20)\" title=\"USNS Comfort (T-AH-20)\">\n",
      "      USNS Comfort\n",
      "     </a>\n",
      "    </i>\n",
      "   </td>\n",
      "  </tr>\n",
      " </tbody>\n",
      "</table>\n"
     ]
    }
   ],
   "source": [
    "# Wenn's hübscher aussehen soll:\n",
    "print(table.prettify())"
   ],
   "metadata": {
    "collapsed": false,
    "ExecuteTime": {
     "end_time": "2024-04-04T08:32:24.095011Z",
     "start_time": "2024-04-04T08:32:24.079666Z"
    }
   },
   "execution_count": 40
  },
  {
   "cell_type": "code",
   "outputs": [
    {
     "data": {
      "text/plain": "[<td><a href=\"/wiki/Kreuzfahrtschiff\" title=\"Kreuzfahrtschiff\">Kreuzfahrtschiff</a></td>,\n <td><i><a href=\"/wiki/Icon_of_the_Seas\" title=\"Icon of the Seas\">Icon of the Seas</a><sup class=\"reference\" id=\"cite_ref-1\"><a href=\"#cite_note-1\">[1]</a></sup></i>\n </td>,\n <td><a href=\"/wiki/Segelschiff\" title=\"Segelschiff\">Segelschiff</a></td>,\n <td><i><a href=\"/wiki/SY_A\" title=\"SY A\">SY A</a></i>\n </td>,\n <td><a href=\"/wiki/Frachtsegler\" title=\"Frachtsegler\">Frachtsegler</a></td>,\n <td><i><a href=\"/wiki/France_(Schiff,_1912%E2%80%931922)\" title=\"France (Schiff, 1912–1922)\">France</a></i>\n </td>,\n <td><a href=\"/wiki/Eisbrecher\" title=\"Eisbrecher\">Eisbrecher</a></td>,\n <td><a class=\"mw-redirect\" href=\"/wiki/Arktika_(Schiff,_2020)\" title=\"Arktika (Schiff, 2020)\"><i>Arktika</i></a>\n </td>,\n <td><a href=\"/wiki/Autof%C3%A4hre\" title=\"Autofähre\">Autofähre</a></td>,\n <td><i><a href=\"/wiki/Color_Magic\" title=\"Color Magic\">Color Magic</a></i> (nach Größe (BRZ)); <i><a href=\"/wiki/Cruise_Barcelona\" title=\"Cruise Barcelona\">Cruise Barcelona</a></i> und <i><a href=\"/wiki/Cruise_Roma\" title=\"Cruise Roma\">Cruise Roma</a></i> (nach Länge)\n </td>,\n <td><a class=\"new\" href=\"/w/index.php?title=LNG-F%C3%A4hre&amp;action=edit&amp;redlink=1\" title=\"LNG-Fähre (Seite nicht vorhanden)\">LNG-Fähre</a></td>,\n <td><i><a href=\"/wiki/Nils_Holgersson_(Schiff,_2022)\" title=\"Nils Holgersson (Schiff, 2022)\">Nils Holgerson</a>, <a href=\"/wiki/Peter_Pan_(Schiff,_2022)\" title=\"Peter Pan (Schiff, 2022)\">Peter Pan</a></i>\n </td>,\n <td>Kombifähre (Eisenbahn/RoRo)</td>,\n <td><i><a href=\"/wiki/Sk%C3%A5ne_(Schiff,_1998)\" title=\"Skåne (Schiff, 1998)\">Skåne</a></i>\n </td>,\n <td>Autotransporter</td>,\n <td><a href=\"/wiki/Mark-V-Klasse\" title=\"Mark-V-Klasse\">Tysla, Salome</a> (nach Länge und Tragfähigkeit); <a href=\"/wiki/New-Horizon-Klasse\" title=\"New-Horizon-Klasse\"><i>Höegh Target</i></a> (nach Tonnage und Fahrzeugkapazität)\n </td>,\n <td><a href=\"/wiki/Flugzeugtr%C3%A4ger\" title=\"Flugzeugträger\">Flugzeugträger</a></td>,\n <td><a href=\"/wiki/USS_Gerald_R._Ford_(CVN-78)\" title=\"USS Gerald R. Ford (CVN-78)\">USS <i>Gerald R. Ford</i> (CVN-78)</a> (nach Tonnage); <a href=\"/wiki/USS_Enterprise_(CVN-65)\" title=\"USS Enterprise (CVN-65)\">USS <i>Enterprise</i> (CVN 65)</a> (nach Länge)\n </td>,\n <td><a href=\"/wiki/Schlachtschiff\" title=\"Schlachtschiff\">Schlachtschiff</a></td>,\n <td><a href=\"/wiki/Yamato_(Schiff,_1941)\" title=\"Yamato (Schiff, 1941)\"><i>Yamato</i></a> und <a href=\"/wiki/Musashi_(Schiff,_1942)\" title=\"Musashi (Schiff, 1942)\"><i>Musashi</i></a>\n </td>,\n <td><a class=\"mw-redirect\" href=\"/wiki/Unterseeboot\" title=\"Unterseeboot\">Unterseeboot</a></td>,\n <td><a href=\"/wiki/TK-208_Dmitri_Donskoj\" title=\"TK-208 Dmitri Donskoj\"><i>Dmitri Donskoi</i> (TK-208)</a>\n </td>,\n <td><a href=\"/wiki/Containerschiff\" title=\"Containerschiff\">Containerschiff</a></td>,\n <td><a href=\"/wiki/MSC-Irina-Typ\" title=\"MSC-Irina-Typ\"><i>MSC Irina</i></a><sup class=\"reference\" id=\"cite_ref-2\"><a href=\"#cite_note-2\">[2]</a></sup><sup class=\"reference\" id=\"cite_ref-3\"><a href=\"#cite_note-3\">[3]</a></sup>\n </td>,\n <td><a class=\"mw-redirect\" href=\"/wiki/Sch%C3%BCttgutschiff\" title=\"Schüttgutschiff\">Schüttgutschiff</a></td>,\n <td><i><a href=\"/wiki/Valemax-Klasse\" title=\"Valemax-Klasse\">Yuan He Hai</a></i> (Valemax-Klasse)\n </td>,\n <td><a class=\"mw-redirect\" href=\"/wiki/%C3%96ltanker\" title=\"Öltanker\">Öltanker</a> (doppelwandig)</td>,\n <td><i><a href=\"/wiki/Hellespont-Alhambra-Klasse\" title=\"Hellespont-Alhambra-Klasse\">TI Europe</a></i>, <i><a href=\"/wiki/Hellespont-Alhambra-Klasse\" title=\"Hellespont-Alhambra-Klasse\">TI Oceania</a></i> <style data-mw-deduplicate=\"TemplateStyles:r236689292\">.mw-parser-output .fussnoten-marke{font-size:0.75rem;font-style:normal;font-variant:normal;font-weight:normal;unicode-bidi:isolate;white-space:nowrap}.mw-parser-output .fussnoten-marke.reference,.mw-parser-output span.fussnoten-inhalt{padding-left:0.1rem}.mw-parser-output .fussnoten-marke.reference~.fussnoten-marke.reference,.mw-parser-output span.fussnoten-inhalt~span.fussnoten-inhalt{padding-left:0.15rem}.mw-parser-output .fussnoten-block{margin-bottom:0.1rem}.mw-parser-output div.fussnoten-inhalt{display:inline-block;padding-left:0.8rem;text-indent:-0.8rem}.mw-parser-output div.fussnoten-inhalt p,.mw-parser-output div.fussnoten-inhalt dl,.mw-parser-output div.fussnoten-inhalt ol,.mw-parser-output div.fussnoten-inhalt ul{text-indent:0}.mw-parser-output div.fussnoten-inhalt.fussnoten-floatfix{display:block}.mw-parser-output .fussnoten-box{margin-top:0.5rem;padding-left:0.8rem}.mw-parser-output .fussnoten-box,.mw-parser-output div.fussnoten-inhalt{font-size:94%}.mw-parser-output .fussnoten-box div.fussnoten-inhalt,.mw-parser-output span.fussnoten-inhalt,.mw-parser-output .fussnoten-inhalt .mw-reference-text{font-size:inherit}.mw-parser-output .fussnoten-inhalt .mw-reference-text{display:inline}.mw-parser-output .fussnoten-linie{display:inline-block;position:relative;top:-1em;border-top:solid 1px #808080;width:8rem}.mw-parser-output .fussnoten-linie+p,.mw-parser-output .fussnoten-linie+dl,.mw-parser-output .fussnoten-linie+ol,.mw-parser-output .fussnoten-linie+ul,.mw-parser-output .fussnoten-linie+link+div{margin-top:-1em}.mw-parser-output .fussnoten-marke.reference:target,.mw-parser-output .fussnoten-inhalt:target{background-color:#eaf3ff;box-shadow:0 0 0 0.25em #eaf3ff}.mw-parser-output .fussnoten-marke.reference:target,.mw-parser-output .fussnoten-inhalt:target .fussnoten-marke{font-weight:bold}</style>⁠<sup class=\"fussnoten-marke reference\" id=\"FN_Anm._1_back\"><a href=\"#FNZ_Anm._1\">Anm. 1</a></sup>\n </td>,\n <td>Öltanker (einwandig)</td>,\n <td><i><a href=\"/wiki/Jahre_Viking\" title=\"Jahre Viking\">Jahre Viking</a></i> <link href=\"mw-data:TemplateStyles:r236689292\" rel=\"mw-deduplicated-inline-style\"/>⁠<sup class=\"fussnoten-marke reference\" id=\"FN_Anm._2_back\"><a href=\"#FNZ_Anm._2\">Anm. 2</a></sup>; <i><a href=\"/wiki/Pierre_Guillaumat_(Schiff)\" title=\"Pierre Guillaumat (Schiff)\">Pierre Guillaumat</a></i>\n </td>,\n <td><a class=\"mw-redirect\" href=\"/wiki/Fl%C3%BCssiggastanker\" title=\"Flüssiggastanker\">Flüssiggastanker</a></td>,\n <td><i><a href=\"/wiki/Nakilat_Q-Max-Klasse\" title=\"Nakilat Q-Max-Klasse\">Mozah</a></i>\n </td>,\n <td><a href=\"/wiki/Dockschiff\" title=\"Dockschiff\">Dockschiff</a></td>,\n <td><i><a href=\"/wiki/Boka_Vanguard\" title=\"Boka Vanguard\">Boka Vanguard</a></i>\n </td>,\n <td><a href=\"/wiki/Schwimmkran\" title=\"Schwimmkran\">Schwimmkran</a></td>,\n <td><a href=\"/wiki/Sleipnir_(Schiff)\" title=\"Sleipnir (Schiff)\"><i>Sleipnir</i></a>\n </td>,\n <td><a class=\"mw-redirect\" href=\"/wiki/Motoryacht\" title=\"Motoryacht\">Motoryacht</a></td>,\n <td><i><a href=\"/wiki/REV_Ocean\" title=\"REV Ocean\">REV Ocean</a></i> (nach Länge); <i><a href=\"/wiki/Dilbar_(Schiff)\" title=\"Dilbar (Schiff)\">Dilbar</a></i> (nach Größe (BRZ))\n </td>,\n <td><a href=\"/wiki/Schlepper_(Schiffstyp)\" title=\"Schlepper (Schiffstyp)\">Schlepper</a></td>,\n <td><i><a class=\"new\" href=\"/w/index.php?title=Island_Victory&amp;action=edit&amp;redlink=1\" title=\"Island Victory (Seite nicht vorhanden)\">Island Victory</a></i>\n </td>,\n <td><a href=\"/wiki/Schubboot\" title=\"Schubboot\">Schubboot</a></td>,\n <td><i><a class=\"new\" href=\"/w/index.php?title=E._Bronson_Ingram&amp;action=edit&amp;redlink=1\" title=\"E. Bronson Ingram (Seite nicht vorhanden)\">E. Bronson Ingram</a></i>\n </td>,\n <td><a href=\"/wiki/Katamaran\" title=\"Katamaran\">Katamaran</a></td>,\n <td><a class=\"mw-redirect\" href=\"/wiki/HSS_1500\" title=\"HSS 1500\"><i>Stena Explorer</i></a>\n </td>,\n <td><a href=\"/wiki/Seenotrettungskreuzer\" title=\"Seenotrettungskreuzer\">Seenotrettungskreuzer</a></td>,\n <td><a href=\"/wiki/Hermann_Marwede_(Schiff)\" title=\"Hermann Marwede (Schiff)\"><i>Hermann Marwede</i></a>\n </td>,\n <td><a href=\"/wiki/Trimaran\" title=\"Trimaran\">Trimaran</a></td>,\n <td><a href=\"/wiki/Independence_(Schiff,_2010)\" title=\"Independence (Schiff, 2010)\">USS <i>Independence</i> (LCS-2)</a>\n </td>,\n <td><a class=\"mw-redirect\" href=\"/wiki/Motorsegelschiff\" title=\"Motorsegelschiff\">Motorsegelschiff</a></td>,\n <td><i><a href=\"/wiki/Club_Med_2\" title=\"Club Med 2\">Club Med 2</a></i>\n </td>,\n <td><a href=\"/wiki/Hopperbagger\" title=\"Hopperbagger\">Hopperbagger</a></td>,\n <td><a href=\"/wiki/Crist%C3%B3bal-Col%C3%B3n-Klasse\" title=\"Cristóbal-Colón-Klasse\"><i>Cristóbal-Colón</i>-Klasse</a>\n </td>,\n <td><a class=\"mw-redirect\" href=\"/wiki/Segelyacht\" title=\"Segelyacht\">Segelyacht</a></td>,\n <td><i><a href=\"/wiki/SY_A\" title=\"SY A\">SY A</a></i>\n </td>,\n <td><a href=\"/wiki/Arbeitsschiff\" title=\"Arbeitsschiff\">Arbeitsschiff</a></td>,\n <td><i><a href=\"/wiki/Pioneering_Spirit\" title=\"Pioneering Spirit\">Pioneering Spirit</a></i>\n </td>,\n <td>Schwimmende Erdöl-/Erdgas-Förderanlagen und Verflüssigungsanlagen (FPSO / FLNG)</td>,\n <td><i><a href=\"/wiki/Prelude_(Schiff)\" title=\"Prelude (Schiff)\">Prelude</a></i>\n </td>,\n <td><a href=\"/wiki/Hospitalschiff\" title=\"Hospitalschiff\">Hospitalschiff</a></td>,\n <td><i><a href=\"/wiki/USNS_Comfort_(T-AH-20)\" title=\"USNS Comfort (T-AH-20)\">USNS Comfort</a></i>\n </td>]"
     },
     "execution_count": 42,
     "metadata": {},
     "output_type": "execute_result"
    }
   ],
   "source": [
    "# Alle Datenfelder holen:\n",
    "fields = table.find_all('td')\n",
    "fields"
   ],
   "metadata": {
    "collapsed": false,
    "ExecuteTime": {
     "end_time": "2024-04-04T08:35:15.895444Z",
     "start_time": "2024-04-04T08:35:15.870055Z"
    }
   },
   "execution_count": 42
  },
  {
   "cell_type": "code",
   "outputs": [
    {
     "name": "stdout",
     "output_type": "stream",
     "text": [
      "Kreuzfahrtschiff\n",
      "Icon of the Seas[1]\n",
      "\n",
      "Segelschiff\n",
      "SY A\n",
      "\n",
      "Frachtsegler\n",
      "France\n",
      "\n",
      "Eisbrecher\n",
      "Arktika\n",
      "\n",
      "Autofähre\n",
      "Color Magic (nach Größe (BRZ)); Cruise Barcelona und Cruise Roma (nach Länge)\n",
      "\n",
      "LNG-Fähre\n",
      "Nils Holgerson, Peter Pan\n",
      "\n",
      "Kombifähre (Eisenbahn/RoRo)\n",
      "Skåne\n",
      "\n",
      "Autotransporter\n",
      "Tysla, Salome (nach Länge und Tragfähigkeit); Höegh Target (nach Tonnage und Fahrzeugkapazität)\n",
      "\n",
      "Flugzeugträger\n",
      "USS Gerald R. Ford (CVN-78) (nach Tonnage); USS Enterprise (CVN 65) (nach Länge)\n",
      "\n",
      "Schlachtschiff\n",
      "Yamato und Musashi\n",
      "\n",
      "Unterseeboot\n",
      "Dmitri Donskoi (TK-208)\n",
      "\n",
      "Containerschiff\n",
      "MSC Irina[2][3]\n",
      "\n",
      "Schüttgutschiff\n",
      "Yuan He Hai (Valemax-Klasse)\n",
      "\n",
      "Öltanker (doppelwandig)\n",
      "TI Europe, TI Oceania ⁠Anm. 1\n",
      "\n",
      "Öltanker (einwandig)\n",
      "Jahre Viking ⁠Anm. 2; Pierre Guillaumat\n",
      "\n",
      "Flüssiggastanker\n",
      "Mozah\n",
      "\n",
      "Dockschiff\n",
      "Boka Vanguard\n",
      "\n",
      "Schwimmkran\n",
      "Sleipnir\n",
      "\n",
      "Motoryacht\n",
      "REV Ocean (nach Länge); Dilbar (nach Größe (BRZ))\n",
      "\n",
      "Schlepper\n",
      "Island Victory\n",
      "\n",
      "Schubboot\n",
      "E. Bronson Ingram\n",
      "\n",
      "Katamaran\n",
      "Stena Explorer\n",
      "\n",
      "Seenotrettungskreuzer\n",
      "Hermann Marwede\n",
      "\n",
      "Trimaran\n",
      "USS Independence (LCS-2)\n",
      "\n",
      "Motorsegelschiff\n",
      "Club Med 2\n",
      "\n",
      "Hopperbagger\n",
      "Cristóbal-Colón-Klasse\n",
      "\n",
      "Segelyacht\n",
      "SY A\n",
      "\n",
      "Arbeitsschiff\n",
      "Pioneering Spirit\n",
      "\n",
      "Schwimmende Erdöl-/Erdgas-Förderanlagen und Verflüssigungsanlagen (FPSO / FLNG)\n",
      "Prelude\n",
      "\n",
      "Hospitalschiff\n",
      "USNS Comfort\n"
     ]
    }
   ],
   "source": [
    "# Nur die Text-Inhalte der Datenfelder:\n",
    "for field in fields:\n",
    "\tprint(field.text)"
   ],
   "metadata": {
    "collapsed": false,
    "ExecuteTime": {
     "end_time": "2024-04-04T08:35:47.697989Z",
     "start_time": "2024-04-04T08:35:47.688141Z"
    }
   },
   "execution_count": 43
  },
  {
   "cell_type": "code",
   "outputs": [
    {
     "data": {
      "text/plain": "[<th>Kategorie</th>,\n <th>Schiffsname\n </th>]"
     },
     "execution_count": 44,
     "metadata": {},
     "output_type": "execute_result"
    }
   ],
   "source": [
    "# Spaltenüberschriften holen:\n",
    "header = table.find_all('th')\n",
    "header"
   ],
   "metadata": {
    "collapsed": false,
    "ExecuteTime": {
     "end_time": "2024-04-04T08:38:46.170550Z",
     "start_time": "2024-04-04T08:38:46.157950Z"
    }
   },
   "execution_count": 44
  },
  {
   "cell_type": "code",
   "outputs": [
    {
     "ename": "AttributeError",
     "evalue": "ResultSet object has no attribute 'text'. You're probably treating a list of elements like a single element. Did you call find_all() when you meant to call find()?",
     "output_type": "error",
     "traceback": [
      "\u001B[1;31m---------------------------------------------------------------------------\u001B[0m",
      "\u001B[1;31mAttributeError\u001B[0m                            Traceback (most recent call last)",
      "Cell \u001B[1;32mIn[45], line 1\u001B[0m\n\u001B[1;32m----> 1\u001B[0m \u001B[38;5;28mprint\u001B[39m(\u001B[43mheader\u001B[49m\u001B[38;5;241;43m.\u001B[39;49m\u001B[43mtext\u001B[49m)\n",
      "File \u001B[1;32m~\\AppData\\Local\\Programs\\Python\\Python312\\Lib\\site-packages\\bs4\\element.py:2433\u001B[0m, in \u001B[0;36mResultSet.__getattr__\u001B[1;34m(self, key)\u001B[0m\n\u001B[0;32m   2431\u001B[0m \u001B[38;5;28;01mdef\u001B[39;00m \u001B[38;5;21m__getattr__\u001B[39m(\u001B[38;5;28mself\u001B[39m, key):\n\u001B[0;32m   2432\u001B[0m \u001B[38;5;250m    \u001B[39m\u001B[38;5;124;03m\"\"\"Raise a helpful exception to explain a common code fix.\"\"\"\u001B[39;00m\n\u001B[1;32m-> 2433\u001B[0m     \u001B[38;5;28;01mraise\u001B[39;00m \u001B[38;5;167;01mAttributeError\u001B[39;00m(\n\u001B[0;32m   2434\u001B[0m         \u001B[38;5;124m\"\u001B[39m\u001B[38;5;124mResultSet object has no attribute \u001B[39m\u001B[38;5;124m'\u001B[39m\u001B[38;5;132;01m%s\u001B[39;00m\u001B[38;5;124m'\u001B[39m\u001B[38;5;124m. You\u001B[39m\u001B[38;5;124m'\u001B[39m\u001B[38;5;124mre probably treating a list of elements like a single element. Did you call find_all() when you meant to call find()?\u001B[39m\u001B[38;5;124m\"\u001B[39m \u001B[38;5;241m%\u001B[39m key\n\u001B[0;32m   2435\u001B[0m     )\n",
      "\u001B[1;31mAttributeError\u001B[0m: ResultSet object has no attribute 'text'. You're probably treating a list of elements like a single element. Did you call find_all() when you meant to call find()?"
     ]
    }
   ],
   "source": [
    "# Liste hat kein Attribut Text.\n",
    "# Deswegen kann man nicht direkt .text anwenden.\n",
    "# Die Elemente INNERHALB der Liste dagegen sind bs4-Tags und verfügen über das Attribut text.\n",
    "print(header.text)"
   ],
   "metadata": {
    "collapsed": false,
    "ExecuteTime": {
     "end_time": "2024-04-04T08:39:30.616701Z",
     "start_time": "2024-04-04T08:39:28.408067Z"
    }
   },
   "execution_count": 45
  },
  {
   "cell_type": "code",
   "outputs": [
    {
     "data": {
      "text/plain": "bs4.element.ResultSet"
     },
     "execution_count": 46,
     "metadata": {},
     "output_type": "execute_result"
    }
   ],
   "source": [
    "type(header)"
   ],
   "metadata": {
    "collapsed": false,
    "ExecuteTime": {
     "end_time": "2024-04-04T08:39:59.442431Z",
     "start_time": "2024-04-04T08:39:59.430180Z"
    }
   },
   "execution_count": 46
  },
  {
   "cell_type": "code",
   "outputs": [
    {
     "name": "stdout",
     "output_type": "stream",
     "text": [
      "<class 'bs4.element.Tag'>\n",
      "<class 'bs4.element.Tag'>\n"
     ]
    }
   ],
   "source": [
    "for h in header:\n",
    "\tprint(type(h))"
   ],
   "metadata": {
    "collapsed": false,
    "ExecuteTime": {
     "end_time": "2024-04-04T08:40:24.885558Z",
     "start_time": "2024-04-04T08:40:24.877667Z"
    }
   },
   "execution_count": 47
  },
  {
   "cell_type": "code",
   "outputs": [
    {
     "name": "stdout",
     "output_type": "stream",
     "text": [
      "Kategorie\n",
      "Schiffsname\n"
     ]
    }
   ],
   "source": [
    "for h in header:\n",
    "\tprint(h.text)"
   ],
   "metadata": {
    "collapsed": false,
    "ExecuteTime": {
     "end_time": "2024-04-04T08:41:48.762245Z",
     "start_time": "2024-04-04T08:41:48.756908Z"
    }
   },
   "execution_count": 48
  },
  {
   "cell_type": "code",
   "outputs": [
    {
     "data": {
      "text/plain": "['Kategorie', 'Schiffsname\\n']"
     },
     "execution_count": 49,
     "metadata": {},
     "output_type": "execute_result"
    }
   ],
   "source": [
    "header_texts = [h.text for h in header]\n",
    "header_texts"
   ],
   "metadata": {
    "collapsed": false,
    "ExecuteTime": {
     "end_time": "2024-04-04T08:44:48.401110Z",
     "start_time": "2024-04-04T08:44:48.393097Z"
    }
   },
   "execution_count": 49
  },
  {
   "cell_type": "code",
   "outputs": [
    {
     "data": {
      "text/plain": "[<a href=\"/wiki/Kreuzfahrtschiff\" title=\"Kreuzfahrtschiff\">Kreuzfahrtschiff</a>,\n <a href=\"/wiki/Icon_of_the_Seas\" title=\"Icon of the Seas\">Icon of the Seas</a>,\n <a href=\"#cite_note-1\">[1]</a>,\n <a href=\"/wiki/Segelschiff\" title=\"Segelschiff\">Segelschiff</a>,\n <a href=\"/wiki/SY_A\" title=\"SY A\">SY A</a>,\n <a href=\"/wiki/Frachtsegler\" title=\"Frachtsegler\">Frachtsegler</a>,\n <a href=\"/wiki/France_(Schiff,_1912%E2%80%931922)\" title=\"France (Schiff, 1912–1922)\">France</a>,\n <a href=\"/wiki/Eisbrecher\" title=\"Eisbrecher\">Eisbrecher</a>,\n <a class=\"mw-redirect\" href=\"/wiki/Arktika_(Schiff,_2020)\" title=\"Arktika (Schiff, 2020)\"><i>Arktika</i></a>,\n <a href=\"/wiki/Autof%C3%A4hre\" title=\"Autofähre\">Autofähre</a>,\n <a href=\"/wiki/Color_Magic\" title=\"Color Magic\">Color Magic</a>,\n <a href=\"/wiki/Cruise_Barcelona\" title=\"Cruise Barcelona\">Cruise Barcelona</a>,\n <a href=\"/wiki/Cruise_Roma\" title=\"Cruise Roma\">Cruise Roma</a>,\n <a class=\"new\" href=\"/w/index.php?title=LNG-F%C3%A4hre&amp;action=edit&amp;redlink=1\" title=\"LNG-Fähre (Seite nicht vorhanden)\">LNG-Fähre</a>,\n <a href=\"/wiki/Nils_Holgersson_(Schiff,_2022)\" title=\"Nils Holgersson (Schiff, 2022)\">Nils Holgerson</a>,\n <a href=\"/wiki/Peter_Pan_(Schiff,_2022)\" title=\"Peter Pan (Schiff, 2022)\">Peter Pan</a>,\n <a href=\"/wiki/Sk%C3%A5ne_(Schiff,_1998)\" title=\"Skåne (Schiff, 1998)\">Skåne</a>,\n <a href=\"/wiki/Mark-V-Klasse\" title=\"Mark-V-Klasse\">Tysla, Salome</a>,\n <a href=\"/wiki/New-Horizon-Klasse\" title=\"New-Horizon-Klasse\"><i>Höegh Target</i></a>,\n <a href=\"/wiki/Flugzeugtr%C3%A4ger\" title=\"Flugzeugträger\">Flugzeugträger</a>,\n <a href=\"/wiki/USS_Gerald_R._Ford_(CVN-78)\" title=\"USS Gerald R. Ford (CVN-78)\">USS <i>Gerald R. Ford</i> (CVN-78)</a>,\n <a href=\"/wiki/USS_Enterprise_(CVN-65)\" title=\"USS Enterprise (CVN-65)\">USS <i>Enterprise</i> (CVN 65)</a>,\n <a href=\"/wiki/Schlachtschiff\" title=\"Schlachtschiff\">Schlachtschiff</a>,\n <a href=\"/wiki/Yamato_(Schiff,_1941)\" title=\"Yamato (Schiff, 1941)\"><i>Yamato</i></a>,\n <a href=\"/wiki/Musashi_(Schiff,_1942)\" title=\"Musashi (Schiff, 1942)\"><i>Musashi</i></a>,\n <a class=\"mw-redirect\" href=\"/wiki/Unterseeboot\" title=\"Unterseeboot\">Unterseeboot</a>,\n <a href=\"/wiki/TK-208_Dmitri_Donskoj\" title=\"TK-208 Dmitri Donskoj\"><i>Dmitri Donskoi</i> (TK-208)</a>,\n <a href=\"/wiki/Containerschiff\" title=\"Containerschiff\">Containerschiff</a>,\n <a href=\"/wiki/MSC-Irina-Typ\" title=\"MSC-Irina-Typ\"><i>MSC Irina</i></a>,\n <a href=\"#cite_note-2\">[2]</a>,\n <a href=\"#cite_note-3\">[3]</a>,\n <a class=\"mw-redirect\" href=\"/wiki/Sch%C3%BCttgutschiff\" title=\"Schüttgutschiff\">Schüttgutschiff</a>,\n <a href=\"/wiki/Valemax-Klasse\" title=\"Valemax-Klasse\">Yuan He Hai</a>,\n <a class=\"mw-redirect\" href=\"/wiki/%C3%96ltanker\" title=\"Öltanker\">Öltanker</a>,\n <a href=\"/wiki/Hellespont-Alhambra-Klasse\" title=\"Hellespont-Alhambra-Klasse\">TI Europe</a>,\n <a href=\"/wiki/Hellespont-Alhambra-Klasse\" title=\"Hellespont-Alhambra-Klasse\">TI Oceania</a>,\n <a href=\"#FNZ_Anm._1\">Anm. 1</a>,\n <a href=\"/wiki/Jahre_Viking\" title=\"Jahre Viking\">Jahre Viking</a>,\n <a href=\"#FNZ_Anm._2\">Anm. 2</a>,\n <a href=\"/wiki/Pierre_Guillaumat_(Schiff)\" title=\"Pierre Guillaumat (Schiff)\">Pierre Guillaumat</a>,\n <a class=\"mw-redirect\" href=\"/wiki/Fl%C3%BCssiggastanker\" title=\"Flüssiggastanker\">Flüssiggastanker</a>,\n <a href=\"/wiki/Nakilat_Q-Max-Klasse\" title=\"Nakilat Q-Max-Klasse\">Mozah</a>,\n <a href=\"/wiki/Dockschiff\" title=\"Dockschiff\">Dockschiff</a>,\n <a href=\"/wiki/Boka_Vanguard\" title=\"Boka Vanguard\">Boka Vanguard</a>,\n <a href=\"/wiki/Schwimmkran\" title=\"Schwimmkran\">Schwimmkran</a>,\n <a href=\"/wiki/Sleipnir_(Schiff)\" title=\"Sleipnir (Schiff)\"><i>Sleipnir</i></a>,\n <a class=\"mw-redirect\" href=\"/wiki/Motoryacht\" title=\"Motoryacht\">Motoryacht</a>,\n <a href=\"/wiki/REV_Ocean\" title=\"REV Ocean\">REV Ocean</a>,\n <a href=\"/wiki/Dilbar_(Schiff)\" title=\"Dilbar (Schiff)\">Dilbar</a>,\n <a href=\"/wiki/Schlepper_(Schiffstyp)\" title=\"Schlepper (Schiffstyp)\">Schlepper</a>,\n <a class=\"new\" href=\"/w/index.php?title=Island_Victory&amp;action=edit&amp;redlink=1\" title=\"Island Victory (Seite nicht vorhanden)\">Island Victory</a>,\n <a href=\"/wiki/Schubboot\" title=\"Schubboot\">Schubboot</a>,\n <a class=\"new\" href=\"/w/index.php?title=E._Bronson_Ingram&amp;action=edit&amp;redlink=1\" title=\"E. Bronson Ingram (Seite nicht vorhanden)\">E. Bronson Ingram</a>,\n <a href=\"/wiki/Katamaran\" title=\"Katamaran\">Katamaran</a>,\n <a class=\"mw-redirect\" href=\"/wiki/HSS_1500\" title=\"HSS 1500\"><i>Stena Explorer</i></a>,\n <a href=\"/wiki/Seenotrettungskreuzer\" title=\"Seenotrettungskreuzer\">Seenotrettungskreuzer</a>,\n <a href=\"/wiki/Hermann_Marwede_(Schiff)\" title=\"Hermann Marwede (Schiff)\"><i>Hermann Marwede</i></a>,\n <a href=\"/wiki/Trimaran\" title=\"Trimaran\">Trimaran</a>,\n <a href=\"/wiki/Independence_(Schiff,_2010)\" title=\"Independence (Schiff, 2010)\">USS <i>Independence</i> (LCS-2)</a>,\n <a class=\"mw-redirect\" href=\"/wiki/Motorsegelschiff\" title=\"Motorsegelschiff\">Motorsegelschiff</a>,\n <a href=\"/wiki/Club_Med_2\" title=\"Club Med 2\">Club Med 2</a>,\n <a href=\"/wiki/Hopperbagger\" title=\"Hopperbagger\">Hopperbagger</a>,\n <a href=\"/wiki/Crist%C3%B3bal-Col%C3%B3n-Klasse\" title=\"Cristóbal-Colón-Klasse\"><i>Cristóbal-Colón</i>-Klasse</a>,\n <a class=\"mw-redirect\" href=\"/wiki/Segelyacht\" title=\"Segelyacht\">Segelyacht</a>,\n <a href=\"/wiki/SY_A\" title=\"SY A\">SY A</a>,\n <a href=\"/wiki/Arbeitsschiff\" title=\"Arbeitsschiff\">Arbeitsschiff</a>,\n <a href=\"/wiki/Pioneering_Spirit\" title=\"Pioneering Spirit\">Pioneering Spirit</a>,\n <a href=\"/wiki/Prelude_(Schiff)\" title=\"Prelude (Schiff)\">Prelude</a>,\n <a href=\"/wiki/Hospitalschiff\" title=\"Hospitalschiff\">Hospitalschiff</a>,\n <a href=\"/wiki/USNS_Comfort_(T-AH-20)\" title=\"USNS Comfort (T-AH-20)\">USNS Comfort</a>]"
     },
     "execution_count": 51,
     "metadata": {},
     "output_type": "execute_result"
    }
   ],
   "source": [
    "# Alle Links sammeln:\n",
    "table_links = table.find_all('a')\n",
    "table_links"
   ],
   "metadata": {
    "collapsed": false,
    "ExecuteTime": {
     "end_time": "2024-04-04T08:51:54.550283Z",
     "start_time": "2024-04-04T08:51:54.533163Z"
    }
   },
   "execution_count": 51
  },
  {
   "cell_type": "code",
   "outputs": [
    {
     "name": "stdout",
     "output_type": "stream",
     "text": [
      "<class 'bs4.element.Tag'>\n",
      "<class 'bs4.element.Tag'>\n",
      "<class 'bs4.element.Tag'>\n",
      "<class 'bs4.element.Tag'>\n",
      "<class 'bs4.element.Tag'>\n",
      "<class 'bs4.element.Tag'>\n",
      "<class 'bs4.element.Tag'>\n",
      "<class 'bs4.element.Tag'>\n",
      "<class 'bs4.element.Tag'>\n",
      "<class 'bs4.element.Tag'>\n",
      "<class 'bs4.element.Tag'>\n",
      "<class 'bs4.element.Tag'>\n",
      "<class 'bs4.element.Tag'>\n",
      "<class 'bs4.element.Tag'>\n",
      "<class 'bs4.element.Tag'>\n",
      "<class 'bs4.element.Tag'>\n",
      "<class 'bs4.element.Tag'>\n",
      "<class 'bs4.element.Tag'>\n",
      "<class 'bs4.element.Tag'>\n",
      "<class 'bs4.element.Tag'>\n",
      "<class 'bs4.element.Tag'>\n",
      "<class 'bs4.element.Tag'>\n",
      "<class 'bs4.element.Tag'>\n",
      "<class 'bs4.element.Tag'>\n",
      "<class 'bs4.element.Tag'>\n",
      "<class 'bs4.element.Tag'>\n",
      "<class 'bs4.element.Tag'>\n",
      "<class 'bs4.element.Tag'>\n",
      "<class 'bs4.element.Tag'>\n",
      "<class 'bs4.element.Tag'>\n",
      "<class 'bs4.element.Tag'>\n",
      "<class 'bs4.element.Tag'>\n",
      "<class 'bs4.element.Tag'>\n",
      "<class 'bs4.element.Tag'>\n",
      "<class 'bs4.element.Tag'>\n",
      "<class 'bs4.element.Tag'>\n",
      "<class 'bs4.element.Tag'>\n",
      "<class 'bs4.element.Tag'>\n",
      "<class 'bs4.element.Tag'>\n",
      "<class 'bs4.element.Tag'>\n",
      "<class 'bs4.element.Tag'>\n",
      "<class 'bs4.element.Tag'>\n",
      "<class 'bs4.element.Tag'>\n",
      "<class 'bs4.element.Tag'>\n",
      "<class 'bs4.element.Tag'>\n",
      "<class 'bs4.element.Tag'>\n",
      "<class 'bs4.element.Tag'>\n",
      "<class 'bs4.element.Tag'>\n",
      "<class 'bs4.element.Tag'>\n",
      "<class 'bs4.element.Tag'>\n",
      "<class 'bs4.element.Tag'>\n",
      "<class 'bs4.element.Tag'>\n",
      "<class 'bs4.element.Tag'>\n",
      "<class 'bs4.element.Tag'>\n",
      "<class 'bs4.element.Tag'>\n",
      "<class 'bs4.element.Tag'>\n",
      "<class 'bs4.element.Tag'>\n",
      "<class 'bs4.element.Tag'>\n",
      "<class 'bs4.element.Tag'>\n",
      "<class 'bs4.element.Tag'>\n",
      "<class 'bs4.element.Tag'>\n",
      "<class 'bs4.element.Tag'>\n",
      "<class 'bs4.element.Tag'>\n",
      "<class 'bs4.element.Tag'>\n",
      "<class 'bs4.element.Tag'>\n",
      "<class 'bs4.element.Tag'>\n",
      "<class 'bs4.element.Tag'>\n",
      "<class 'bs4.element.Tag'>\n",
      "<class 'bs4.element.Tag'>\n",
      "<class 'bs4.element.Tag'>\n"
     ]
    }
   ],
   "source": [
    "# Was ist eigentlich in dieser Liste drin?\n",
    "for a in table_links:\n",
    "\tprint(type(a))"
   ],
   "metadata": {
    "collapsed": false,
    "ExecuteTime": {
     "end_time": "2024-04-04T08:52:07.866838Z",
     "start_time": "2024-04-04T08:52:07.856871Z"
    }
   },
   "execution_count": 52
  },
  {
   "cell_type": "code",
   "outputs": [
    {
     "data": {
      "text/plain": "<a href=\"/wiki/Kreuzfahrtschiff\" title=\"Kreuzfahrtschiff\">Kreuzfahrtschiff</a>"
     },
     "execution_count": 60,
     "metadata": {},
     "output_type": "execute_result"
    }
   ],
   "source": [
    "# Wir wollen JEDEN Link aus dieser Liste bekommen, starten aber erstmal klein\n",
    "# mit nur einem Link: \n",
    "table_links[0]"
   ],
   "metadata": {
    "collapsed": false,
    "ExecuteTime": {
     "end_time": "2024-04-04T08:54:00.786308Z",
     "start_time": "2024-04-04T08:54:00.775892Z"
    }
   },
   "execution_count": 60
  },
  {
   "cell_type": "code",
   "outputs": [
    {
     "data": {
      "text/plain": "'/wiki/Kreuzfahrtschiff'"
     },
     "execution_count": 62,
     "metadata": {},
     "output_type": "execute_result"
    }
   ],
   "source": [
    "# Man kann auf Attribute mit Schlüssel-Notation zugreifen (kennen wir von Dicts):\n",
    "first_link = table_links[0]['href']\n",
    "first_link"
   ],
   "metadata": {
    "collapsed": false,
    "ExecuteTime": {
     "end_time": "2024-04-04T09:01:07.641049Z",
     "start_time": "2024-04-04T09:01:07.631985Z"
    }
   },
   "execution_count": 62
  },
  {
   "cell_type": "code",
   "outputs": [],
   "source": [
    "# EXKURS: Links zusammensetzen und neue request an diese Links senden:\n",
    "base = 'https://de.wikipedia.org'"
   ],
   "metadata": {
    "collapsed": false,
    "ExecuteTime": {
     "end_time": "2024-04-04T09:02:10.166111Z",
     "start_time": "2024-04-04T09:02:10.158299Z"
    }
   },
   "execution_count": 66
  },
  {
   "cell_type": "code",
   "outputs": [
    {
     "name": "stdout",
     "output_type": "stream",
     "text": [
      "https://de.wikipedia.org/wiki/Kreuzfahrtschiff\n"
     ]
    }
   ],
   "source": [
    "print(base + first_link)"
   ],
   "metadata": {
    "collapsed": false,
    "ExecuteTime": {
     "end_time": "2024-04-04T09:02:11.918933Z",
     "start_time": "2024-04-04T09:02:11.911712Z"
    }
   },
   "execution_count": 67
  },
  {
   "cell_type": "code",
   "outputs": [
    {
     "data": {
      "text/plain": "'https://de.wikipedia.org/wiki/Kreuzfahrtschiff'"
     },
     "execution_count": 73,
     "metadata": {},
     "output_type": "execute_result"
    }
   ],
   "source": [
    "''.join([base, first_link])"
   ],
   "metadata": {
    "collapsed": false,
    "ExecuteTime": {
     "end_time": "2024-04-04T09:03:56.237858Z",
     "start_time": "2024-04-04T09:03:56.220457Z"
    }
   },
   "execution_count": 73
  },
  {
   "cell_type": "code",
   "outputs": [
    {
     "data": {
      "text/plain": "'https://de.wikipedia.org/wiki/Kreuzfahrtschiff'"
     },
     "execution_count": 74,
     "metadata": {},
     "output_type": "execute_result"
    }
   ],
   "source": [
    "first_complete_link = base + first_link\n",
    "first_complete_link"
   ],
   "metadata": {
    "collapsed": false,
    "ExecuteTime": {
     "end_time": "2024-04-04T09:04:40.232685Z",
     "start_time": "2024-04-04T09:04:40.223709Z"
    }
   },
   "execution_count": 74
  },
  {
   "cell_type": "code",
   "outputs": [],
   "source": [
    "# Mit dem so gewonnenen Link einen request durchführen:\n",
    "first_page = requests.get(first_complete_link)\n",
    "first_soup = BeautifulSoup(first_page.text, 'html.parser')"
   ],
   "metadata": {
    "collapsed": false,
    "ExecuteTime": {
     "end_time": "2024-04-04T09:06:25.869960Z",
     "start_time": "2024-04-04T09:06:22.778315Z"
    }
   },
   "execution_count": 76
  },
  {
   "cell_type": "code",
   "outputs": [
    {
     "data": {
      "text/plain": "'Kreuzfahrtschiff'"
     },
     "execution_count": 79,
     "metadata": {},
     "output_type": "execute_result"
    }
   ],
   "source": [
    "first_soup.h1.text"
   ],
   "metadata": {
    "collapsed": false,
    "ExecuteTime": {
     "end_time": "2024-04-04T09:07:00.959253Z",
     "start_time": "2024-04-04T09:07:00.950539Z"
    }
   },
   "execution_count": 79
  },
  {
   "cell_type": "code",
   "outputs": [],
   "source": [
    "# EXKURS ENDE"
   ],
   "metadata": {
    "collapsed": false
   },
   "execution_count": null
  },
  {
   "cell_type": "code",
   "outputs": [
    {
     "data": {
      "text/plain": "'/wiki/Kreuzfahrtschiff'"
     },
     "execution_count": 80,
     "metadata": {},
     "output_type": "execute_result"
    }
   ],
   "source": [
    "# Alternativ geht das auch mit der get-Notation:\n",
    "table_links[0].get('href')"
   ],
   "metadata": {
    "collapsed": false,
    "ExecuteTime": {
     "end_time": "2024-04-04T09:10:06.389193Z",
     "start_time": "2024-04-04T09:10:06.380977Z"
    }
   },
   "execution_count": 80
  },
  {
   "cell_type": "code",
   "outputs": [],
   "source": [
    "# Und jetzt Denkschmalz-Aufgabe: Wie lasse ich mir ALLE vollständigen Links ausgeben?"
   ],
   "metadata": {
    "collapsed": false
   },
   "execution_count": null
  },
  {
   "cell_type": "code",
   "outputs": [
    {
     "name": "stdout",
     "output_type": "stream",
     "text": [
      "https://de.wikipedia.org/wiki/Kreuzfahrtschiff\n",
      "https://de.wikipedia.org/wiki/Icon_of_the_Seas\n",
      "https://de.wikipedia.org#cite_note-1\n",
      "https://de.wikipedia.org/wiki/Segelschiff\n",
      "https://de.wikipedia.org/wiki/SY_A\n",
      "https://de.wikipedia.org/wiki/Frachtsegler\n",
      "https://de.wikipedia.org/wiki/France_(Schiff,_1912%E2%80%931922)\n",
      "https://de.wikipedia.org/wiki/Eisbrecher\n",
      "https://de.wikipedia.org/wiki/Arktika_(Schiff,_2020)\n",
      "https://de.wikipedia.org/wiki/Autof%C3%A4hre\n",
      "https://de.wikipedia.org/wiki/Color_Magic\n",
      "https://de.wikipedia.org/wiki/Cruise_Barcelona\n",
      "https://de.wikipedia.org/wiki/Cruise_Roma\n",
      "https://de.wikipedia.org/w/index.php?title=LNG-F%C3%A4hre&action=edit&redlink=1\n",
      "https://de.wikipedia.org/wiki/Nils_Holgersson_(Schiff,_2022)\n",
      "https://de.wikipedia.org/wiki/Peter_Pan_(Schiff,_2022)\n",
      "https://de.wikipedia.org/wiki/Sk%C3%A5ne_(Schiff,_1998)\n",
      "https://de.wikipedia.org/wiki/Mark-V-Klasse\n",
      "https://de.wikipedia.org/wiki/New-Horizon-Klasse\n",
      "https://de.wikipedia.org/wiki/Flugzeugtr%C3%A4ger\n",
      "https://de.wikipedia.org/wiki/USS_Gerald_R._Ford_(CVN-78)\n",
      "https://de.wikipedia.org/wiki/USS_Enterprise_(CVN-65)\n",
      "https://de.wikipedia.org/wiki/Schlachtschiff\n",
      "https://de.wikipedia.org/wiki/Yamato_(Schiff,_1941)\n",
      "https://de.wikipedia.org/wiki/Musashi_(Schiff,_1942)\n",
      "https://de.wikipedia.org/wiki/Unterseeboot\n",
      "https://de.wikipedia.org/wiki/TK-208_Dmitri_Donskoj\n",
      "https://de.wikipedia.org/wiki/Containerschiff\n",
      "https://de.wikipedia.org/wiki/MSC-Irina-Typ\n",
      "https://de.wikipedia.org#cite_note-2\n",
      "https://de.wikipedia.org#cite_note-3\n",
      "https://de.wikipedia.org/wiki/Sch%C3%BCttgutschiff\n",
      "https://de.wikipedia.org/wiki/Valemax-Klasse\n",
      "https://de.wikipedia.org/wiki/%C3%96ltanker\n",
      "https://de.wikipedia.org/wiki/Hellespont-Alhambra-Klasse\n",
      "https://de.wikipedia.org/wiki/Hellespont-Alhambra-Klasse\n",
      "https://de.wikipedia.org#FNZ_Anm._1\n",
      "https://de.wikipedia.org/wiki/Jahre_Viking\n",
      "https://de.wikipedia.org#FNZ_Anm._2\n",
      "https://de.wikipedia.org/wiki/Pierre_Guillaumat_(Schiff)\n",
      "https://de.wikipedia.org/wiki/Fl%C3%BCssiggastanker\n",
      "https://de.wikipedia.org/wiki/Nakilat_Q-Max-Klasse\n",
      "https://de.wikipedia.org/wiki/Dockschiff\n",
      "https://de.wikipedia.org/wiki/Boka_Vanguard\n",
      "https://de.wikipedia.org/wiki/Schwimmkran\n",
      "https://de.wikipedia.org/wiki/Sleipnir_(Schiff)\n",
      "https://de.wikipedia.org/wiki/Motoryacht\n",
      "https://de.wikipedia.org/wiki/REV_Ocean\n",
      "https://de.wikipedia.org/wiki/Dilbar_(Schiff)\n",
      "https://de.wikipedia.org/wiki/Schlepper_(Schiffstyp)\n",
      "https://de.wikipedia.org/w/index.php?title=Island_Victory&action=edit&redlink=1\n",
      "https://de.wikipedia.org/wiki/Schubboot\n",
      "https://de.wikipedia.org/w/index.php?title=E._Bronson_Ingram&action=edit&redlink=1\n",
      "https://de.wikipedia.org/wiki/Katamaran\n",
      "https://de.wikipedia.org/wiki/HSS_1500\n",
      "https://de.wikipedia.org/wiki/Seenotrettungskreuzer\n",
      "https://de.wikipedia.org/wiki/Hermann_Marwede_(Schiff)\n",
      "https://de.wikipedia.org/wiki/Trimaran\n",
      "https://de.wikipedia.org/wiki/Independence_(Schiff,_2010)\n",
      "https://de.wikipedia.org/wiki/Motorsegelschiff\n",
      "https://de.wikipedia.org/wiki/Club_Med_2\n",
      "https://de.wikipedia.org/wiki/Hopperbagger\n",
      "https://de.wikipedia.org/wiki/Crist%C3%B3bal-Col%C3%B3n-Klasse\n",
      "https://de.wikipedia.org/wiki/Segelyacht\n",
      "https://de.wikipedia.org/wiki/SY_A\n",
      "https://de.wikipedia.org/wiki/Arbeitsschiff\n",
      "https://de.wikipedia.org/wiki/Pioneering_Spirit\n",
      "https://de.wikipedia.org/wiki/Prelude_(Schiff)\n",
      "https://de.wikipedia.org/wiki/Hospitalschiff\n",
      "https://de.wikipedia.org/wiki/USNS_Comfort_(T-AH-20)\n"
     ]
    }
   ],
   "source": [
    "for link in table_links:\n",
    "\tprint(base + link.get('href'))"
   ],
   "metadata": {
    "collapsed": false,
    "ExecuteTime": {
     "end_time": "2024-04-04T09:13:01.868612Z",
     "start_time": "2024-04-04T09:13:01.861429Z"
    }
   },
   "execution_count": 84
  },
  {
   "cell_type": "markdown",
   "source": [
    "### Natürlich müssen wir für unsere Suppen keine lokale HTML-Datei vorliegen haben"
   ],
   "metadata": {
    "collapsed": false
   }
  },
  {
   "cell_type": "code",
   "outputs": [],
   "source": [
    "# Schiffe mit requests an Land ziehen:\n",
    "ships_url = 'https://de.wikipedia.org/wiki/Liste_der_gr%C3%B6%C3%9Ften_Schiffe_der_Welt'\n",
    "ships_html = requests.get(ships_url)"
   ],
   "metadata": {
    "collapsed": false,
    "ExecuteTime": {
     "end_time": "2024-04-04T09:36:14.222023Z",
     "start_time": "2024-04-04T09:36:12.389228Z"
    }
   },
   "execution_count": 85
  },
  {
   "cell_type": "code",
   "outputs": [
    {
     "name": "stdout",
     "output_type": "stream",
     "text": [
      "<!DOCTYPE html>\n",
      "<html class=\"client-nojs\" lang=\"de\" dir=\"ltr\">\n",
      "<head>\n",
      "<meta charset=\"UTF-8\">\n",
      "<title>Liste der größten Schiffe der Welt – Wikipedia</title>\n",
      "<script>document.documentElement.className=\"client-js\";RLCONF={\"wgBreakFrames\":false,\"wgSeparatorTransformTable\":[\",\\t.\",\".\\t,\"],\"wgDigitTransformTable\":[\"\",\"\"],\"wgDefaultDateFormat\":\"dmy\",\"wgMonthNames\":[\"\",\"Januar\",\"Februar\",\"März\",\"April\",\"Mai\",\"Juni\",\"Juli\",\"August\",\"September\",\"Oktober\",\"November\",\"Dezember\"],\"wgRequestId\":\"85d2fc8f-8e94-4b28-bad9-7c90c40ddfe3\",\"wgCanonicalNamespace\":\"\",\"wgCanonicalSpecialPageName\":false,\"wgNamespaceNumber\":0,\"wgPageName\":\"Liste_der_größten_Schiffe_der_Welt\",\"wgTitle\":\"Liste der größten Schiffe der Welt\",\"wgCurRevisionId\":241862931,\"wgRevisionId\":241862931,\"wgArticleId\":1548947,\"wgIsArticle\":true,\"wgIsRedirect\":false,\"wgAction\":\"view\",\"wgUserName\":null,\"wgUserGroups\":[\"*\"],\"wgCategories\":[\"Liste (Schiffe)\",\"Liste (technische Rekorde)\"],\"wgPageViewLanguage\":\"de\",\"wgPageContentLanguage\":\"de\",\"wgPageContentModel\":\"wikitext\",\"wgRelevantPageName\":\"Liste_der_größten_Schiffe_der_Welt\",\"wgRelevantArticleId\":1548947,\"wgIsProbablyEditable\":true,\n",
      "\"wgRelevantPageIsProbablyEditable\":true,\"wgRestrictionEdit\":[],\"wgRestrictionMove\":[],\"wgNoticeProject\":\"wikipedia\",\"wgFlaggedRevsParams\":{\"tags\":{\"accuracy\":{\"levels\":1}}},\"wgStableRevisionId\":241862931,\"wgMediaViewerOnClick\":true,\"wgMediaViewerEnabledByDefault\":true,\"wgPopupsFlags\":4,\"wgVisualEditor\":{\"pageLanguageCode\":\"de\",\"pageLanguageDir\":\"ltr\",\"pageVariantFallbacks\":\"de\"},\"wgMFDisplayWikibaseDescriptions\":{\"search\":true,\"watchlist\":true,\"tagline\":true,\"nearby\":true},\"wgWMESchemaEditAttemptStepOversample\":false,\"wgWMEPageLength\":20000,\"wgULSCurrentAutonym\":\"Deutsch\",\"wgCentralAuthMobileDomain\":false,\"wgEditSubmitButtonLabelPublish\":true,\"wgULSPosition\":\"interlanguage\",\"wgULSisCompactLinksEnabled\":true,\"wgVector2022LanguageInHeader\":false,\"wgULSisLanguageSelectorEmpty\":false,\"wgWikibaseItemId\":\"Q1778295\",\"wgCheckUserClientHintsHeadersJsApi\":[\"architecture\",\"bitness\",\"brands\",\"fullVersionList\",\"mobile\",\"model\",\"platform\",\"platformVersion\"],\"GEHomepageSuggestedEditsEnableTopics\":\n",
      "true,\"wgGETopicsMatchModeEnabled\":false,\"wgGEStructuredTaskRejectionReasonTextInputEnabled\":false,\"wgGELevelingUpEnabledForUser\":false};RLSTATE={\"ext.gadget.citeRef\":\"ready\",\"ext.gadget.dewikiCommonHide\":\"ready\",\"ext.gadget.dewikiCommonLayout\":\"ready\",\"ext.gadget.dewikiCommonStyle\":\"ready\",\"ext.gadget.NavFrame\":\"ready\",\"ext.globalCssJs.user.styles\":\"ready\",\"site.styles\":\"ready\",\"user.styles\":\"ready\",\"ext.globalCssJs.user\":\"ready\",\"user\":\"ready\",\"user.options\":\"loading\",\"ext.flaggedRevs.icons\":\"ready\",\"oojs-ui-core.styles\":\"ready\",\"oojs-ui.styles.indicators\":\"ready\",\"mediawiki.widgets.styles\":\"ready\",\"oojs-ui-core.icons\":\"ready\",\"ext.cite.styles\":\"ready\",\"mediawiki.page.gallery.styles\":\"ready\",\"skins.vector.styles.legacy\":\"ready\",\"jquery.tablesorter.styles\":\"ready\",\"ext.flaggedRevs.basic\":\"ready\",\"ext.visualEditor.desktopArticleTarget.noscript\":\"ready\",\"codex-search-styles\":\"ready\",\"ext.uls.interlanguage\":\"ready\",\"wikibase.client.init\":\"ready\",\"ext.wikimediaBadges\":\"ready\"};\n",
      "RLPAGEMODULES=[\"ext.cite.ux-enhancements\",\"mediawiki.page.media\",\"site\",\"mediawiki.page.ready\",\"jquery.tablesorter\",\"mediawiki.toc\",\"skins.vector.legacy.js\",\"ext.centralNotice.geoIP\",\"ext.centralNotice.startUp\",\"ext.flaggedRevs.advanced\",\"ext.gadget.createNewSection\",\"ext.gadget.WikiMiniAtlas\",\"ext.gadget.OpenStreetMap\",\"ext.gadget.CommonsDirekt\",\"ext.gadget.donateLink\",\"ext.urlShortener.toolbar\",\"ext.centralauth.centralautologin\",\"mmv.head\",\"mmv.bootstrap.autostart\",\"ext.popups\",\"ext.visualEditor.desktopArticleTarget.init\",\"ext.visualEditor.targetLoader\",\"ext.echo.centralauth\",\"ext.eventLogging\",\"ext.wikimediaEvents\",\"ext.navigationTiming\",\"ext.uls.compactlinks\",\"ext.uls.interface\",\"ext.cx.eventlogging.campaigns\",\"ext.checkUser.clientHints\",\"ext.growthExperiments.SuggestedEditSession\"];</script>\n",
      "<script>(RLQ=window.RLQ||[]).push(function(){mw.loader.impl(function(){return[\"user.options@12s5i\",function($,jQuery,require,module){mw.user.tokens.set({\"patrolToken\":\"+\\\\\",\"watchToken\":\"+\\\\\",\"csrfToken\":\"+\\\\\"});\n",
      "}];});});</script>\n",
      "<link rel=\"stylesheet\" href=\"/w/load.php?lang=de&amp;modules=codex-search-styles%7Cext.cite.styles%7Cext.flaggedRevs.basic%2Cicons%7Cext.uls.interlanguage%7Cext.visualEditor.desktopArticleTarget.noscript%7Cext.wikimediaBadges%7Cjquery.tablesorter.styles%7Cmediawiki.page.gallery.styles%7Cmediawiki.widgets.styles%7Coojs-ui-core.icons%2Cstyles%7Coojs-ui.styles.indicators%7Cskins.vector.styles.legacy%7Cwikibase.client.init&amp;only=styles&amp;skin=vector\">\n",
      "<script async=\"\" src=\"/w/load.php?lang=de&amp;modules=startup&amp;only=scripts&amp;raw=1&amp;skin=vector\"></script>\n",
      "<meta name=\"ResourceLoaderDynamicStyles\" content=\"\">\n",
      "<link rel=\"stylesheet\" href=\"/w/load.php?lang=de&amp;modules=ext.gadget.NavFrame%2CciteRef%2CdewikiCommonHide%2CdewikiCommonLayout%2CdewikiCommonStyle&amp;only=styles&amp;skin=vector\">\n",
      "<link rel=\"stylesheet\" href=\"/w/load.php?lang=de&amp;modules=site.styles&amp;only=styles&amp;skin=vector\">\n",
      "<meta name=\"generator\" content=\"MediaWiki 1.42.0-wmf.24\">\n",
      "<meta name=\"referrer\" content=\"origin\">\n",
      "<meta name=\"referrer\" content=\"origin-when-cross-origin\">\n",
      "<meta name=\"robots\" content=\"max-image-preview:standard\">\n",
      "<meta name=\"format-detection\" content=\"telephone=no\">\n",
      "<meta property=\"og:image\" content=\"https://upload.wikimedia.org/wikipedia/commons/thumb/5/5b/Bateaux_comparaison2_with_Allure.svg/1200px-Bateaux_comparaison2_with_Allure.svg.png\">\n",
      "<meta property=\"og:image:width\" content=\"1200\">\n",
      "<meta property=\"og:image:height\" content=\"1130\">\n",
      "<meta property=\"og:image\" content=\"https://upload.wikimedia.org/wikipedia/commons/thumb/5/5b/Bateaux_comparaison2_with_Allure.svg/800px-Bateaux_comparaison2_with_Allure.svg.png\">\n",
      "<meta property=\"og:image:width\" content=\"800\">\n",
      "<meta property=\"og:image:height\" content=\"754\">\n",
      "<meta property=\"og:image\" content=\"https://upload.wikimedia.org/wikipedia/commons/thumb/5/5b/Bateaux_comparaison2_with_Allure.svg/640px-Bateaux_comparaison2_with_Allure.svg.png\">\n",
      "<meta property=\"og:image:width\" content=\"640\">\n",
      "<meta property=\"og:image:height\" content=\"603\">\n",
      "<meta name=\"viewport\" content=\"width=1000\">\n",
      "<meta property=\"og:title\" content=\"Liste der größten Schiffe der Welt – Wikipedia\">\n",
      "<meta property=\"og:type\" content=\"website\">\n",
      "<link rel=\"preconnect\" href=\"//upload.wikimedia.org\">\n",
      "<link rel=\"alternate\" media=\"only screen and (max-width: 720px)\" href=\"//de.m.wikipedia.org/wiki/Liste_der_gr%C3%B6%C3%9Ften_Schiffe_der_Welt\">\n",
      "<link rel=\"alternate\" type=\"application/x-wiki\" title=\"Seite bearbeiten\" href=\"/w/index.php?title=Liste_der_gr%C3%B6%C3%9Ften_Schiffe_der_Welt&amp;action=edit\">\n",
      "<link rel=\"apple-touch-icon\" href=\"/static/apple-touch/wikipedia.png\">\n",
      "<link rel=\"icon\" href=\"/static/favicon/wikipedia.ico\">\n",
      "<link rel=\"search\" type=\"application/opensearchdescription+xml\" href=\"/w/opensearch_desc.php\" title=\"Wikipedia (de)\">\n",
      "<link rel=\"EditURI\" type=\"application/rsd+xml\" href=\"//de.wikipedia.org/w/api.php?action=rsd\">\n",
      "<link rel=\"canonical\" href=\"https://de.wikipedia.org/wiki/Liste_der_gr%C3%B6%C3%9Ften_Schiffe_der_Welt\">\n",
      "<link rel=\"license\" href=\"https://creativecommons.org/licenses/by-sa/4.0/deed.de\">\n",
      "<link rel=\"alternate\" type=\"application/atom+xml\" title=\"Atom-Feed für „Wikipedia“\" href=\"/w/index.php?title=Spezial:Letzte_%C3%84nderungen&amp;feed=atom\">\n",
      "<link rel=\"dns-prefetch\" href=\"//meta.wikimedia.org\" />\n",
      "<link rel=\"dns-prefetch\" href=\"//login.wikimedia.org\">\n",
      "</head>\n",
      "<body class=\"skin-vector-legacy mediawiki ltr sitedir-ltr mw-hide-empty-elt ns-0 ns-subject mw-editable page-Liste_der_größten_Schiffe_der_Welt rootpage-Liste_der_größten_Schiffe_der_Welt skin-vector action-view\"><div id=\"mw-page-base\" class=\"noprint\"></div>\n",
      "<div id=\"mw-head-base\" class=\"noprint\"></div>\n",
      "<div id=\"content\" class=\"mw-body\" role=\"main\">\n",
      "\t<a id=\"top\"></a>\n",
      "\t<div id=\"siteNotice\"><!-- CentralNotice --></div>\n",
      "\t<div class=\"mw-indicators\">\n",
      "\t</div>\n",
      "\t<h1 id=\"firstHeading\" class=\"firstHeading mw-first-heading\"><span class=\"mw-page-title-main\">Liste der größten Schiffe der Welt</span></h1>\n",
      "\t<div id=\"bodyContent\" class=\"vector-body\">\n",
      "\t\t<div id=\"siteSub\" class=\"noprint\">aus Wikipedia, der freien Enzyklopädie</div>\n",
      "\t\t<div id=\"contentSub\"><div id=\"mw-content-subtitle\"></div></div>\n",
      "\t\t<div id=\"contentSub2\"></div>\n",
      "\t\t\n",
      "\t\t<div id=\"jump-to-nav\"></div>\n",
      "\t\t<a class=\"mw-jump-link\" href=\"#mw-head\">Zur Navigation springen</a>\n",
      "\t\t<a class=\"mw-jump-link\" href=\"#searchInput\">Zur Suche springen</a>\n",
      "\t\t<div id=\"mw-content-text\" class=\"mw-body-content\"><div class=\"mw-content-ltr mw-parser-output\" lang=\"de\" dir=\"ltr\"><figure class=\"mw-default-size\" typeof=\"mw:File/Thumb\"><a href=\"/wiki/Datei:Bateaux_comparaison2_with_Allure.svg\" class=\"mw-file-description\"><img src=\"//upload.wikimedia.org/wikipedia/commons/thumb/5/5b/Bateaux_comparaison2_with_Allure.svg/220px-Bateaux_comparaison2_with_Allure.svg.png\" decoding=\"async\" width=\"220\" height=\"207\" class=\"mw-file-element\" srcset=\"//upload.wikimedia.org/wikipedia/commons/thumb/5/5b/Bateaux_comparaison2_with_Allure.svg/330px-Bateaux_comparaison2_with_Allure.svg.png 1.5x, //upload.wikimedia.org/wikipedia/commons/thumb/5/5b/Bateaux_comparaison2_with_Allure.svg/440px-Bateaux_comparaison2_with_Allure.svg.png 2x\" data-file-width=\"1380\" data-file-height=\"1300\" /></a><figcaption>Größenvergleich einiger der größten Schiffe</figcaption></figure>\n",
      "<figure class=\"mw-default-size\" typeof=\"mw:File/Thumb\"><a href=\"/w/index.php?title=Datei:Queen_Mary_2-Titanic.svg&amp;lang=de\" class=\"mw-file-description\"><img src=\"//upload.wikimedia.org/wikipedia/commons/thumb/d/d4/Queen_Mary_2-Titanic.svg/langde-220px-Queen_Mary_2-Titanic.svg.png\" decoding=\"async\" width=\"220\" height=\"70\" class=\"mw-file-element\" srcset=\"//upload.wikimedia.org/wikipedia/commons/thumb/d/d4/Queen_Mary_2-Titanic.svg/langde-330px-Queen_Mary_2-Titanic.svg.png 1.5x, //upload.wikimedia.org/wikipedia/commons/thumb/d/d4/Queen_Mary_2-Titanic.svg/langde-440px-Queen_Mary_2-Titanic.svg.png 2x\" data-file-width=\"4042\" data-file-height=\"1280\" /></a><figcaption>Die <i><a href=\"/wiki/Queen_Mary_2\" title=\"Queen Mary 2\">Queen Mary 2</a></i> im Größenvergleich zur <i><a href=\"/wiki/Titanic_(Schiff)\" title=\"Titanic (Schiff)\">Titanic</a></i> und zum <a href=\"/wiki/Airbus_A380\" title=\"Airbus A380\">Airbus A380</a></figcaption></figure>\n",
      "<figure class=\"mw-default-size\" typeof=\"mw:File/Thumb\"><a href=\"/wiki/Datei:Hellespont_Alhambra-223713_v2.jpg\" class=\"mw-file-description\"><img src=\"//upload.wikimedia.org/wikipedia/commons/thumb/8/82/Hellespont_Alhambra-223713_v2.jpg/220px-Hellespont_Alhambra-223713_v2.jpg\" decoding=\"async\" width=\"220\" height=\"178\" class=\"mw-file-element\" srcset=\"//upload.wikimedia.org/wikipedia/commons/thumb/8/82/Hellespont_Alhambra-223713_v2.jpg/330px-Hellespont_Alhambra-223713_v2.jpg 1.5x, //upload.wikimedia.org/wikipedia/commons/thumb/8/82/Hellespont_Alhambra-223713_v2.jpg/440px-Hellespont_Alhambra-223713_v2.jpg 2x\" data-file-width=\"973\" data-file-height=\"787\" /></a><figcaption>Die spätere <i><a href=\"/wiki/TI_Asia\" class=\"mw-redirect\" title=\"TI Asia\">TI Asia</a></i>, Typschiff der größten Tanker der Erde</figcaption></figure>\n",
      "<p>In diesem Artikel sind die größten und längsten bisher gebauten <a href=\"/wiki/Schiff\" title=\"Schiff\">Schiffe</a> der Welt aufgelistet.\n",
      "</p>\n",
      "<div id=\"toc\" class=\"toc\" role=\"navigation\" aria-labelledby=\"mw-toc-heading\"><input type=\"checkbox\" role=\"button\" id=\"toctogglecheckbox\" class=\"toctogglecheckbox\" style=\"display:none\" /><div class=\"toctitle\" lang=\"de\" dir=\"ltr\"><h2 id=\"mw-toc-heading\">Inhaltsverzeichnis</h2><span class=\"toctogglespan\"><label class=\"toctogglelabel\" for=\"toctogglecheckbox\"></label></span></div>\n",
      "<ul>\n",
      "<li class=\"toclevel-1 tocsection-1\"><a href=\"#Die_größten_Schiffe_nach_Art\"><span class=\"tocnumber\">1</span> <span class=\"toctext\">Die größten Schiffe nach Art</span></a></li>\n",
      "<li class=\"toclevel-1 tocsection-2\"><a href=\"#Schiffe_mit_herausragenden_Abmessungen\"><span class=\"tocnumber\">2</span> <span class=\"toctext\">Schiffe mit herausragenden Abmessungen</span></a></li>\n",
      "<li class=\"toclevel-1 tocsection-3\"><a href=\"#Siehe_auch\"><span class=\"tocnumber\">3</span> <span class=\"toctext\">Siehe auch</span></a></li>\n",
      "<li class=\"toclevel-1 tocsection-4\"><a href=\"#Literatur\"><span class=\"tocnumber\">4</span> <span class=\"toctext\">Literatur</span></a></li>\n",
      "<li class=\"toclevel-1 tocsection-5\"><a href=\"#Anmerkung_und_Einzelnachweise\"><span class=\"tocnumber\">5</span> <span class=\"toctext\">Anmerkung und Einzelnachweise</span></a></li>\n",
      "</ul>\n",
      "</div>\n",
      "\n",
      "<h2><span id=\"Die_gr.C3.B6.C3.9Ften_Schiffe_nach_Art\"></span><span class=\"mw-headline\" id=\"Die_größten_Schiffe_nach_Art\">Die größten Schiffe nach Art</span><span class=\"mw-editsection\"><span class=\"mw-editsection-bracket\">[</span><a href=\"/w/index.php?title=Liste_der_gr%C3%B6%C3%9Ften_Schiffe_der_Welt&amp;veaction=edit&amp;section=1\" title=\"Abschnitt bearbeiten: Die größten Schiffe nach Art\" class=\"mw-editsection-visualeditor\"><span>Bearbeiten</span></a><span class=\"mw-editsection-divider\"> | </span><a href=\"/w/index.php?title=Liste_der_gr%C3%B6%C3%9Ften_Schiffe_der_Welt&amp;action=edit&amp;section=1\" title=\"Quellcode des Abschnitts bearbeiten: Die größten Schiffe nach Art\"><span>Quelltext bearbeiten</span></a><span class=\"mw-editsection-bracket\">]</span></span></h2>\n",
      "<table class=\"wikitable sortable zebra\">\n",
      "<caption>Größte und längste Schiffe ihrer Art\n",
      "</caption>\n",
      "<tbody><tr>\n",
      "<th>Kategorie</th>\n",
      "<th>Schiffsname\n",
      "</th></tr>\n",
      "<tr>\n",
      "<td><a href=\"/wiki/Kreuzfahrtschiff\" title=\"Kreuzfahrtschiff\">Kreuzfahrtschiff</a></td>\n",
      "<td><i><a href=\"/wiki/Icon_of_the_Seas\" title=\"Icon of the Seas\">Icon of the Seas</a><sup id=\"cite_ref-1\" class=\"reference\"><a href=\"#cite_note-1\">&#91;1&#93;</a></sup></i>\n",
      "</td></tr>\n",
      "<tr>\n",
      "<td><a href=\"/wiki/Segelschiff\" title=\"Segelschiff\">Segelschiff</a></td>\n",
      "<td><i><a href=\"/wiki/SY_A\" title=\"SY A\">SY A</a></i>\n",
      "</td></tr>\n",
      "<tr>\n",
      "<td><a href=\"/wiki/Frachtsegler\" title=\"Frachtsegler\">Frachtsegler</a></td>\n",
      "<td><i><a href=\"/wiki/France_(Schiff,_1912%E2%80%931922)\" title=\"France (Schiff, 1912–1922)\">France</a></i>\n",
      "</td></tr>\n",
      "<tr>\n",
      "<td><a href=\"/wiki/Eisbrecher\" title=\"Eisbrecher\">Eisbrecher</a></td>\n",
      "<td><a href=\"/wiki/Arktika_(Schiff,_2020)\" class=\"mw-redirect\" title=\"Arktika (Schiff, 2020)\"><i>Arktika</i></a>\n",
      "</td></tr>\n",
      "<tr>\n",
      "<td><a href=\"/wiki/Autof%C3%A4hre\" title=\"Autofähre\">Autofähre</a></td>\n",
      "<td><i><a href=\"/wiki/Color_Magic\" title=\"Color Magic\">Color Magic</a></i> (nach Größe (BRZ)); <i><a href=\"/wiki/Cruise_Barcelona\" title=\"Cruise Barcelona\">Cruise Barcelona</a></i> und <i><a href=\"/wiki/Cruise_Roma\" title=\"Cruise Roma\">Cruise Roma</a></i> (nach Länge)\n",
      "</td></tr>\n",
      "<tr>\n",
      "<td><a href=\"/w/index.php?title=LNG-F%C3%A4hre&amp;action=edit&amp;redlink=1\" class=\"new\" title=\"LNG-Fähre (Seite nicht vorhanden)\">LNG-Fähre</a></td>\n",
      "<td><i><a href=\"/wiki/Nils_Holgersson_(Schiff,_2022)\" title=\"Nils Holgersson (Schiff, 2022)\">Nils Holgerson</a>, <a href=\"/wiki/Peter_Pan_(Schiff,_2022)\" title=\"Peter Pan (Schiff, 2022)\">Peter Pan</a></i>\n",
      "</td></tr>\n",
      "<tr>\n",
      "<td>Kombifähre (Eisenbahn/RoRo)</td>\n",
      "<td><i><a href=\"/wiki/Sk%C3%A5ne_(Schiff,_1998)\" title=\"Skåne (Schiff, 1998)\">Skåne</a></i>\n",
      "</td></tr>\n",
      "<tr>\n",
      "<td>Autotransporter</td>\n",
      "<td><a href=\"/wiki/Mark-V-Klasse\" title=\"Mark-V-Klasse\">Tysla, Salome</a> (nach Länge und Tragfähigkeit); <a href=\"/wiki/New-Horizon-Klasse\" title=\"New-Horizon-Klasse\"><i>Höegh Target</i></a> (nach Tonnage und Fahrzeugkapazität)\n",
      "</td></tr>\n",
      "<tr>\n",
      "<td><a href=\"/wiki/Flugzeugtr%C3%A4ger\" title=\"Flugzeugträger\">Flugzeugträger</a></td>\n",
      "<td><a href=\"/wiki/USS_Gerald_R._Ford_(CVN-78)\" title=\"USS Gerald R. Ford (CVN-78)\">USS <i>Gerald R. Ford</i> (CVN-78)</a> (nach Tonnage); <a href=\"/wiki/USS_Enterprise_(CVN-65)\" title=\"USS Enterprise (CVN-65)\">USS <i>Enterprise</i> (CVN 65)</a> (nach Länge)\n",
      "</td></tr>\n",
      "<tr>\n",
      "<td><a href=\"/wiki/Schlachtschiff\" title=\"Schlachtschiff\">Schlachtschiff</a></td>\n",
      "<td><a href=\"/wiki/Yamato_(Schiff,_1941)\" title=\"Yamato (Schiff, 1941)\"><i>Yamato</i></a> und <a href=\"/wiki/Musashi_(Schiff,_1942)\" title=\"Musashi (Schiff, 1942)\"><i>Musashi</i></a>\n",
      "</td></tr>\n",
      "<tr>\n",
      "<td><a href=\"/wiki/Unterseeboot\" class=\"mw-redirect\" title=\"Unterseeboot\">Unterseeboot</a></td>\n",
      "<td><a href=\"/wiki/TK-208_Dmitri_Donskoj\" title=\"TK-208 Dmitri Donskoj\"><i>Dmitri Donskoi</i> (TK-208)</a>\n",
      "</td></tr>\n",
      "<tr>\n",
      "<td><a href=\"/wiki/Containerschiff\" title=\"Containerschiff\">Containerschiff</a></td>\n",
      "<td><a href=\"/wiki/MSC-Irina-Typ\" title=\"MSC-Irina-Typ\"><i>MSC Irina</i></a><sup id=\"cite_ref-2\" class=\"reference\"><a href=\"#cite_note-2\">&#91;2&#93;</a></sup><sup id=\"cite_ref-3\" class=\"reference\"><a href=\"#cite_note-3\">&#91;3&#93;</a></sup>\n",
      "</td></tr>\n",
      "<tr>\n",
      "<td><a href=\"/wiki/Sch%C3%BCttgutschiff\" class=\"mw-redirect\" title=\"Schüttgutschiff\">Schüttgutschiff</a></td>\n",
      "<td><i><a href=\"/wiki/Valemax-Klasse\" title=\"Valemax-Klasse\">Yuan He Hai</a></i> (Valemax-Klasse)\n",
      "</td></tr>\n",
      "<tr>\n",
      "<td><a href=\"/wiki/%C3%96ltanker\" class=\"mw-redirect\" title=\"Öltanker\">Öltanker</a> (doppelwandig)</td>\n",
      "<td><i><a href=\"/wiki/Hellespont-Alhambra-Klasse\" title=\"Hellespont-Alhambra-Klasse\">TI Europe</a></i>, <i><a href=\"/wiki/Hellespont-Alhambra-Klasse\" title=\"Hellespont-Alhambra-Klasse\">TI Oceania</a></i> <style data-mw-deduplicate=\"TemplateStyles:r236689292\">.mw-parser-output .fussnoten-marke{font-size:0.75rem;font-style:normal;font-variant:normal;font-weight:normal;unicode-bidi:isolate;white-space:nowrap}.mw-parser-output .fussnoten-marke.reference,.mw-parser-output span.fussnoten-inhalt{padding-left:0.1rem}.mw-parser-output .fussnoten-marke.reference~.fussnoten-marke.reference,.mw-parser-output span.fussnoten-inhalt~span.fussnoten-inhalt{padding-left:0.15rem}.mw-parser-output .fussnoten-block{margin-bottom:0.1rem}.mw-parser-output div.fussnoten-inhalt{display:inline-block;padding-left:0.8rem;text-indent:-0.8rem}.mw-parser-output div.fussnoten-inhalt p,.mw-parser-output div.fussnoten-inhalt dl,.mw-parser-output div.fussnoten-inhalt ol,.mw-parser-output div.fussnoten-inhalt ul{text-indent:0}.mw-parser-output div.fussnoten-inhalt.fussnoten-floatfix{display:block}.mw-parser-output .fussnoten-box{margin-top:0.5rem;padding-left:0.8rem}.mw-parser-output .fussnoten-box,.mw-parser-output div.fussnoten-inhalt{font-size:94%}.mw-parser-output .fussnoten-box div.fussnoten-inhalt,.mw-parser-output span.fussnoten-inhalt,.mw-parser-output .fussnoten-inhalt .mw-reference-text{font-size:inherit}.mw-parser-output .fussnoten-inhalt .mw-reference-text{display:inline}.mw-parser-output .fussnoten-linie{display:inline-block;position:relative;top:-1em;border-top:solid 1px #808080;width:8rem}.mw-parser-output .fussnoten-linie+p,.mw-parser-output .fussnoten-linie+dl,.mw-parser-output .fussnoten-linie+ol,.mw-parser-output .fussnoten-linie+ul,.mw-parser-output .fussnoten-linie+link+div{margin-top:-1em}.mw-parser-output .fussnoten-marke.reference:target,.mw-parser-output .fussnoten-inhalt:target{background-color:#eaf3ff;box-shadow:0 0 0 0.25em #eaf3ff}.mw-parser-output .fussnoten-marke.reference:target,.mw-parser-output .fussnoten-inhalt:target .fussnoten-marke{font-weight:bold}</style>&#8288;<sup class=\"fussnoten-marke reference\" id=\"FN_Anm._1_back\"><a href=\"#FNZ_Anm._1\">Anm. 1</a></sup>\n",
      "</td></tr>\n",
      "<tr>\n",
      "<td>Öltanker (einwandig)</td>\n",
      "<td><i><a href=\"/wiki/Jahre_Viking\" title=\"Jahre Viking\">Jahre Viking</a></i> <link rel=\"mw-deduplicated-inline-style\" href=\"mw-data:TemplateStyles:r236689292\">&#8288;<sup class=\"fussnoten-marke reference\" id=\"FN_Anm._2_back\"><a href=\"#FNZ_Anm._2\">Anm. 2</a></sup>; <i><a href=\"/wiki/Pierre_Guillaumat_(Schiff)\" title=\"Pierre Guillaumat (Schiff)\">Pierre Guillaumat</a></i>\n",
      "</td></tr>\n",
      "<tr>\n",
      "<td><a href=\"/wiki/Fl%C3%BCssiggastanker\" class=\"mw-redirect\" title=\"Flüssiggastanker\">Flüssiggastanker</a></td>\n",
      "<td><i><a href=\"/wiki/Nakilat_Q-Max-Klasse\" title=\"Nakilat Q-Max-Klasse\">Mozah</a></i>\n",
      "</td></tr>\n",
      "<tr>\n",
      "<td><a href=\"/wiki/Dockschiff\" title=\"Dockschiff\">Dockschiff</a></td>\n",
      "<td><i><a href=\"/wiki/Boka_Vanguard\" title=\"Boka Vanguard\">Boka Vanguard</a></i>\n",
      "</td></tr>\n",
      "<tr>\n",
      "<td><a href=\"/wiki/Schwimmkran\" title=\"Schwimmkran\">Schwimmkran</a></td>\n",
      "<td><a href=\"/wiki/Sleipnir_(Schiff)\" title=\"Sleipnir (Schiff)\"><i>Sleipnir</i></a>\n",
      "</td></tr>\n",
      "<tr>\n",
      "<td><a href=\"/wiki/Motoryacht\" class=\"mw-redirect\" title=\"Motoryacht\">Motoryacht</a></td>\n",
      "<td><i><a href=\"/wiki/REV_Ocean\" title=\"REV Ocean\">REV Ocean</a></i> (nach Länge); <i><a href=\"/wiki/Dilbar_(Schiff)\" title=\"Dilbar (Schiff)\">Dilbar</a></i> (nach Größe (BRZ))\n",
      "</td></tr>\n",
      "<tr>\n",
      "<td><a href=\"/wiki/Schlepper_(Schiffstyp)\" title=\"Schlepper (Schiffstyp)\">Schlepper</a></td>\n",
      "<td><i><a href=\"/w/index.php?title=Island_Victory&amp;action=edit&amp;redlink=1\" class=\"new\" title=\"Island Victory (Seite nicht vorhanden)\">Island Victory</a></i>\n",
      "</td></tr>\n",
      "<tr>\n",
      "<td><a href=\"/wiki/Schubboot\" title=\"Schubboot\">Schubboot</a></td>\n",
      "<td><i><a href=\"/w/index.php?title=E._Bronson_Ingram&amp;action=edit&amp;redlink=1\" class=\"new\" title=\"E. Bronson Ingram (Seite nicht vorhanden)\">E. Bronson Ingram</a></i>\n",
      "</td></tr>\n",
      "<tr>\n",
      "<td><a href=\"/wiki/Katamaran\" title=\"Katamaran\">Katamaran</a></td>\n",
      "<td><a href=\"/wiki/HSS_1500\" class=\"mw-redirect\" title=\"HSS 1500\"><i>Stena Explorer</i></a>\n",
      "</td></tr>\n",
      "<tr>\n",
      "<td><a href=\"/wiki/Seenotrettungskreuzer\" title=\"Seenotrettungskreuzer\">Seenotrettungskreuzer</a></td>\n",
      "<td><a href=\"/wiki/Hermann_Marwede_(Schiff)\" title=\"Hermann Marwede (Schiff)\"><i>Hermann Marwede</i></a>\n",
      "</td></tr>\n",
      "<tr>\n",
      "<td><a href=\"/wiki/Trimaran\" title=\"Trimaran\">Trimaran</a></td>\n",
      "<td><a href=\"/wiki/Independence_(Schiff,_2010)\" title=\"Independence (Schiff, 2010)\">USS <i>Independence</i> (LCS-2)</a>\n",
      "</td></tr>\n",
      "<tr>\n",
      "<td><a href=\"/wiki/Motorsegelschiff\" class=\"mw-redirect\" title=\"Motorsegelschiff\">Motorsegelschiff</a></td>\n",
      "<td><i><a href=\"/wiki/Club_Med_2\" title=\"Club Med 2\">Club Med 2</a></i>\n",
      "</td></tr>\n",
      "<tr>\n",
      "<td><a href=\"/wiki/Hopperbagger\" title=\"Hopperbagger\">Hopperbagger</a></td>\n",
      "<td><a href=\"/wiki/Crist%C3%B3bal-Col%C3%B3n-Klasse\" title=\"Cristóbal-Colón-Klasse\"><i>Cristóbal-Colón</i>-Klasse</a>\n",
      "</td></tr>\n",
      "<tr>\n",
      "<td><a href=\"/wiki/Segelyacht\" class=\"mw-redirect\" title=\"Segelyacht\">Segelyacht</a></td>\n",
      "<td><i><a href=\"/wiki/SY_A\" title=\"SY A\">SY A</a></i>\n",
      "</td></tr>\n",
      "<tr>\n",
      "<td><a href=\"/wiki/Arbeitsschiff\" title=\"Arbeitsschiff\">Arbeitsschiff</a></td>\n",
      "<td><i><a href=\"/wiki/Pioneering_Spirit\" title=\"Pioneering Spirit\">Pioneering Spirit</a></i>\n",
      "</td></tr>\n",
      "<tr>\n",
      "<td>Schwimmende Erdöl-/Erdgas-Förderanlagen und Verflüssigungsanlagen (FPSO / FLNG)</td>\n",
      "<td><i><a href=\"/wiki/Prelude_(Schiff)\" title=\"Prelude (Schiff)\">Prelude</a></i>\n",
      "</td></tr>\n",
      "<tr>\n",
      "<td><a href=\"/wiki/Hospitalschiff\" title=\"Hospitalschiff\">Hospitalschiff</a></td>\n",
      "<td><i><a href=\"/wiki/USNS_Comfort_(T-AH-20)\" title=\"USNS Comfort (T-AH-20)\">USNS Comfort</a></i>\n",
      "</td></tr></tbody></table>\n",
      "<link rel=\"mw-deduplicated-inline-style\" href=\"mw-data:TemplateStyles:r236689292\"><div class=\"fussnoten-box\">\n",
      "<div class=\"fussnoten-linie\" aria-hidden=\"true\" role=\"presentation\"></div>\n",
      "<p><br />\n",
      "</p>\n",
      "<link rel=\"mw-deduplicated-inline-style\" href=\"mw-data:TemplateStyles:r236689292\"><div class=\"fussnoten-block\"><div class=\"fussnoten-inhalt references\" id=\"FNZ_Anm._1\"><sup class=\"fussnoten-marke\"><a href=\"#FN_Anm._1_back\">Anm. 1</a></sup>&#160;<div class=\"mw-reference-text\">Die <i>TI Europe</i> und ihr Schwesterschiff, die <i>TI Oceania</i>, sind die größten <a href=\"/wiki/Doppelh%C3%BCllenschiff\" title=\"Doppelhüllenschiff\">Doppelhüllentanker</a> der Welt. Zwei weitere Schwesterschiffe, die <i>TI Asia</i> und die <i>TI Africa</i>, wurden zu stationären Offshore-Plattformen umgebaut.</div></div></div>\n",
      "<link rel=\"mw-deduplicated-inline-style\" href=\"mw-data:TemplateStyles:r236689292\"><div class=\"fussnoten-block\"><div class=\"fussnoten-inhalt references\" id=\"FNZ_Anm._2\"><sup class=\"fussnoten-marke\"><a href=\"#FN_Anm._2_back\">Anm. 2</a></sup>&#160;<div class=\"mw-reference-text\">Der Öltanker <i>Jahre Viking</i> war ehemals das größte und längste Schiff der Welt, er wurde später zu einer <a href=\"/wiki/Floating_Production_Storage_and_Offloading_Unit\" title=\"Floating Production Storage and Offloading Unit\">FSO</a>, einer stationären <a href=\"/wiki/Offshorebauwerk\" title=\"Offshorebauwerk\">Offshore-Plattform</a>, umgebaut und erhielt den Namen <i>Knock Nevis</i>. Die <i>Pierre Guillaumat</i> war der größte in einem Stück gebaute Tanker.</div></div></div>\n",
      "<p><br />\n",
      "</p>\n",
      "</div>\n",
      "<p>Nach dem Abwracken der <i>Jahre Viking</i> und den 4 Schiffen der <a href=\"/wiki/Batillus-Klasse\" title=\"Batillus-Klasse\"><i>Batillus</i>-Klasse</a> waren die Containerschiffe der <a href=\"/wiki/Emma-M%C3%A6rsk-Klasse\" title=\"Emma-Mærsk-Klasse\"><i>Emma-Mærsk</i>-Klasse</a> bis 2013 die längsten Schiffe der Welt.\n",
      "</p><p>Nach <a href=\"/wiki/Schiffsma%C3%9Fe#Brutto-_und_Nettoraumzahl_(BRZ,_NRZ)\" title=\"Schiffsmaße\">Bruttoraumzahl</a> (BRZ) ist der <a href=\"/wiki/Rohrleger\" title=\"Rohrleger\">Rohrleger</a> <i><a href=\"/wiki/Pioneering_Spirit\" title=\"Pioneering Spirit\">Pioneering Spirit</a></i> das größte Schiff der Welt.\n",
      "</p>\n",
      "<ul class=\"gallery mw-gallery-traditional\">\n",
      "\t\t<li class=\"gallerybox\" style=\"width: 155px\">\n",
      "\t\t\t<div class=\"thumb\" style=\"width: 150px; height: 150px;\"><span typeof=\"mw:File\"><a href=\"/wiki/Datei:Freedom-of-the-Seas--in-Hamburg.jpg\" class=\"mw-file-description\" title=\"Freedom of the Seas\"><img alt=\"Freedom of the Seas\" src=\"//upload.wikimedia.org/wikipedia/commons/thumb/0/02/Freedom-of-the-Seas--in-Hamburg.jpg/120px-Freedom-of-the-Seas--in-Hamburg.jpg\" decoding=\"async\" width=\"120\" height=\"80\" class=\"mw-file-element\" srcset=\"//upload.wikimedia.org/wikipedia/commons/thumb/0/02/Freedom-of-the-Seas--in-Hamburg.jpg/180px-Freedom-of-the-Seas--in-Hamburg.jpg 1.5x, //upload.wikimedia.org/wikipedia/commons/thumb/0/02/Freedom-of-the-Seas--in-Hamburg.jpg/240px-Freedom-of-the-Seas--in-Hamburg.jpg 2x\" data-file-width=\"1800\" data-file-height=\"1200\" /></a></span></div>\n",
      "\t\t\t<div class=\"gallerytext\"><i><a href=\"/wiki/Freedom_of_the_Seas\" title=\"Freedom of the Seas\">Freedom of the Seas</a></i></div>\n",
      "\t\t</li>\n",
      "\t\t<li class=\"gallerybox\" style=\"width: 155px\">\n",
      "\t\t\t<div class=\"thumb\" style=\"width: 150px; height: 150px;\"><span typeof=\"mw:File\"><a href=\"/wiki/Datei:Royal_clipper.jpg\" class=\"mw-file-description\" title=\"Royal Clipper\"><img alt=\"Royal Clipper\" src=\"//upload.wikimedia.org/wikipedia/commons/thumb/b/be/Royal_clipper.jpg/120px-Royal_clipper.jpg\" decoding=\"async\" width=\"120\" height=\"69\" class=\"mw-file-element\" srcset=\"//upload.wikimedia.org/wikipedia/commons/thumb/b/be/Royal_clipper.jpg/180px-Royal_clipper.jpg 1.5x, //upload.wikimedia.org/wikipedia/commons/thumb/b/be/Royal_clipper.jpg/240px-Royal_clipper.jpg 2x\" data-file-width=\"1614\" data-file-height=\"927\" /></a></span></div>\n",
      "\t\t\t<div class=\"gallerytext\"><i><a href=\"/wiki/Royal_Clipper\" title=\"Royal Clipper\">Royal Clipper</a></i></div>\n",
      "\t\t</li>\n",
      "\t\t<li class=\"gallerybox\" style=\"width: 155px\">\n",
      "\t\t\t<div class=\"thumb\" style=\"width: 150px; height: 150px;\"><span typeof=\"mw:File\"><a href=\"/wiki/Datei:Queen_Mary_2_02_KMJ.jpg\" class=\"mw-file-description\" title=\"Queen Mary 2\"><img alt=\"Queen Mary 2\" src=\"//upload.wikimedia.org/wikipedia/commons/thumb/4/4d/Queen_Mary_2_02_KMJ.jpg/120px-Queen_Mary_2_02_KMJ.jpg\" decoding=\"async\" width=\"120\" height=\"54\" class=\"mw-file-element\" srcset=\"//upload.wikimedia.org/wikipedia/commons/thumb/4/4d/Queen_Mary_2_02_KMJ.jpg/180px-Queen_Mary_2_02_KMJ.jpg 1.5x, //upload.wikimedia.org/wikipedia/commons/thumb/4/4d/Queen_Mary_2_02_KMJ.jpg/240px-Queen_Mary_2_02_KMJ.jpg 2x\" data-file-width=\"768\" data-file-height=\"343\" /></a></span></div>\n",
      "\t\t\t<div class=\"gallerytext\"><i><a href=\"/wiki/Queen_Mary_2\" title=\"Queen Mary 2\">Queen Mary 2</a></i></div>\n",
      "\t\t</li>\n",
      "\t\t<li class=\"gallerybox\" style=\"width: 155px\">\n",
      "\t\t\t<div class=\"thumb\" style=\"width: 150px; height: 150px;\"><span typeof=\"mw:File\"><a href=\"/wiki/Datei:Stena_Hollandica_at_Hoek_van_Holland_Haven_aerial_photo.jpg\" class=\"mw-file-description\" title=\"Stena Hollandica\"><img alt=\"Stena Hollandica\" src=\"//upload.wikimedia.org/wikipedia/commons/thumb/c/c9/Stena_Hollandica_at_Hoek_van_Holland_Haven_aerial_photo.jpg/120px-Stena_Hollandica_at_Hoek_van_Holland_Haven_aerial_photo.jpg\" decoding=\"async\" width=\"120\" height=\"80\" class=\"mw-file-element\" srcset=\"//upload.wikimedia.org/wikipedia/commons/thumb/c/c9/Stena_Hollandica_at_Hoek_van_Holland_Haven_aerial_photo.jpg/180px-Stena_Hollandica_at_Hoek_van_Holland_Haven_aerial_photo.jpg 1.5x, //upload.wikimedia.org/wikipedia/commons/thumb/c/c9/Stena_Hollandica_at_Hoek_van_Holland_Haven_aerial_photo.jpg/240px-Stena_Hollandica_at_Hoek_van_Holland_Haven_aerial_photo.jpg 2x\" data-file-width=\"3882\" data-file-height=\"2588\" /></a></span></div>\n",
      "\t\t\t<div class=\"gallerytext\"><i><a href=\"/wiki/RoPax_55\" title=\"RoPax 55\">Stena Hollandica</a></i></div>\n",
      "\t\t</li>\n",
      "\t\t<li class=\"gallerybox\" style=\"width: 155px\">\n",
      "\t\t\t<div class=\"thumb\" style=\"width: 150px; height: 150px;\"><span typeof=\"mw:File\"><a href=\"/wiki/Datei:White_Pearl_A_Seite.JPG\" class=\"mw-file-description\" title=\"SY A\"><img alt=\"SY A\" src=\"//upload.wikimedia.org/wikipedia/commons/thumb/e/ef/White_Pearl_A_Seite.JPG/120px-White_Pearl_A_Seite.JPG\" decoding=\"async\" width=\"120\" height=\"101\" class=\"mw-file-element\" srcset=\"//upload.wikimedia.org/wikipedia/commons/thumb/e/ef/White_Pearl_A_Seite.JPG/180px-White_Pearl_A_Seite.JPG 1.5x, //upload.wikimedia.org/wikipedia/commons/thumb/e/ef/White_Pearl_A_Seite.JPG/240px-White_Pearl_A_Seite.JPG 2x\" data-file-width=\"1600\" data-file-height=\"1350\" /></a></span></div>\n",
      "\t\t\t<div class=\"gallerytext\"><i><a href=\"/wiki/SY_A\" title=\"SY A\">SY A</a></i></div>\n",
      "\t\t</li>\n",
      "</ul>\n",
      "<h2><span class=\"mw-headline\" id=\"Schiffe_mit_herausragenden_Abmessungen\">Schiffe mit herausragenden Abmessungen</span><span class=\"mw-editsection\"><span class=\"mw-editsection-bracket\">[</span><a href=\"/w/index.php?title=Liste_der_gr%C3%B6%C3%9Ften_Schiffe_der_Welt&amp;veaction=edit&amp;section=2\" title=\"Abschnitt bearbeiten: Schiffe mit herausragenden Abmessungen\" class=\"mw-editsection-visualeditor\"><span>Bearbeiten</span></a><span class=\"mw-editsection-divider\"> | </span><a href=\"/w/index.php?title=Liste_der_gr%C3%B6%C3%9Ften_Schiffe_der_Welt&amp;action=edit&amp;section=2\" title=\"Quellcode des Abschnitts bearbeiten: Schiffe mit herausragenden Abmessungen\"><span>Quelltext bearbeiten</span></a><span class=\"mw-editsection-bracket\">]</span></span></h2>\n",
      "<p>Eine Auswahl von zum Teil historischen Schiffen, die (zu ihrer Zeit) zu den größten Schiffen ihrer Art gehören bzw. gehörten. Die Schiffe sind in der Tabelle nach ihrer Länge sortiert, können aber durch die schwarzen Doppeldreiecke auf grauem Grund neben der Spaltenüberschrift nach jeder beliebigen Kategorie sortiert werden.\n",
      "</p>\n",
      "<table class=\"wikitable sortable toptextcells zebra\">\n",
      "\n",
      "\n",
      "<tbody><tr>\n",
      "<th>Name\n",
      "</th>\n",
      "<th>Klasse\n",
      "</th>\n",
      "<th>Art\n",
      "</th>\n",
      "<th>Besonderheit\n",
      "</th>\n",
      "<th data-sort-type=\"number\"><a href=\"/wiki/Registertonne#Bruttoregistertonne\" title=\"Registertonne\">BRT</a>\n",
      "</th>\n",
      "<th data-sort-type=\"number\"><a href=\"/wiki/Schiffsma%C3%9Fe#Brutto-_und_Nettoraumzahl_(BRZ,_NRZ)\" title=\"Schiffsmaße\">BRZ</a>\n",
      "</th>\n",
      "<th data-sort-type=\"number\"><a href=\"/wiki/Schiffsma%C3%9Fe#Verdrängung\" title=\"Schiffsmaße\">Verdr.</a> /t\n",
      "</th>\n",
      "<th data-sort-type=\"number\">Länge /m\n",
      "</th>\n",
      "<th data-sort-type=\"number\">Breite /m\n",
      "</th>\n",
      "<th data-sort-type=\"number\">Jahr<br /><small>(Dienstbeg.)</small>\n",
      "</th>\n",
      "<th>Status\n",
      "</th></tr>\n",
      "<tr>\n",
      "<td><i><a href=\"/wiki/Prelude_(Schiff)\" title=\"Prelude (Schiff)\">Prelude</a></i>\n",
      "</td>\n",
      "<td>\n",
      "</td>\n",
      "<td><a href=\"/wiki/Fl%C3%BCssigerdgas#Floating_Liquefied_Natural_Gas_(FLNG)\" title=\"Flüssigerdgas\">FLNG</a>-Plattform<sup id=\"cite_ref-4\" class=\"reference\"><a href=\"#cite_note-4\">&#91;4&#93;</a></sup></td>\n",
      "<td>Schwimmende, selbst-manövrierende Plattform. Im eigentlichen Sinne kein Schiff</td>\n",
      "<td>–</td>\n",
      "<td>300.000</td>\n",
      "<td>600.000</td>\n",
      "<td>488,00</td>\n",
      "<td>74,00</td>\n",
      "<td>2017</td>\n",
      "<td>in Dienst\n",
      "</td></tr>\n",
      "<tr>\n",
      "<td><i><a href=\"/wiki/Jahre_Viking\" title=\"Jahre Viking\">Jahre Viking</a></i>\n",
      "</td>\n",
      "<td>\n",
      "</td>\n",
      "<td><a href=\"/wiki/Tanker\" title=\"Tanker\">Tanker</a>, einwandig / später <a href=\"/wiki/Floating_Production_Storage_and_Offloading_Unit\" title=\"Floating Production Storage and Offloading Unit\">FSO</a></td>\n",
      "<td>(Nach Umbau) längstes jemals gebautes Schiff; später als FSO (Lager- und Umschlagstation) genutzt</td>\n",
      "<td>–</td>\n",
      "<td>260.941</td>\n",
      "<td>647.955</td>\n",
      "<td>458,45</td>\n",
      "<td>68,80</td>\n",
      "<td>1979</td>\n",
      "<td>abgewrackt\n",
      "</td></tr>\n",
      "<tr>\n",
      "<td><i><a href=\"/wiki/Pierre_Guillaumat_(Schiff)\" title=\"Pierre Guillaumat (Schiff)\">Pierre Guillaumat</a></i>\n",
      "</td>\n",
      "<td>\n",
      "</td>\n",
      "<td><a href=\"/wiki/Tanker\" title=\"Tanker\">Tanker</a>, einwandig</td>\n",
      "<td>Bis 2014 war es das längste „in einem Stück“ gebaute Schiff</td>\n",
      "<td>274.838</td>\n",
      "<td>–</td>\n",
      "<td>630.962</td>\n",
      "<td>414,23</td>\n",
      "<td>63,05</td>\n",
      "<td>1977</td>\n",
      "<td>abgewrackt\n",
      "</td></tr>\n",
      "<tr>\n",
      "<td><i>MOL Triumph</i>\n",
      "</td>\n",
      "<td><a href=\"/wiki/MOL_20.000-TEU-Typ\" title=\"MOL 20.000-TEU-Typ\">MOL 20.000-TEU-Typ</a>\n",
      "</td>\n",
      "<td><a href=\"/wiki/Containerschiff\" title=\"Containerschiff\">Containerschiff</a></td>\n",
      "<td>2017 kurzzeitig größtes Containerschiff nach BRZ und Containerzahl (TEU)</td>\n",
      "<td>–</td>\n",
      "<td>199.000</td>\n",
      "<td>?</td>\n",
      "<td>400,00</td>\n",
      "<td>58,80</td>\n",
      "<td>2017</td>\n",
      "<td>in Dienst\n",
      "</td></tr>\n",
      "<tr>\n",
      "<td><i>Majestic Mærsk</i>\n",
      "</td>\n",
      "<td><a href=\"/wiki/Triple-E-Klasse\" title=\"Triple-E-Klasse\">Triple-E-Klasse</a>\n",
      "</td>\n",
      "<td><a href=\"/wiki/Containerschiff\" title=\"Containerschiff\">Containerschiff</a></td>\n",
      "<td>Von 2013 bis 2014 längstes Containerschiff</td>\n",
      "<td>–</td>\n",
      "<td>194.849</td>\n",
      "<td>?</td>\n",
      "<td>399,00</td>\n",
      "<td>59,00</td>\n",
      "<td>2013</td>\n",
      "<td>in Dienst\n",
      "</td></tr>\n",
      "<tr>\n",
      "<td><i><a href=\"/wiki/Pioneering_Spirit\" title=\"Pioneering Spirit\">Pioneering Spirit</a></i>\n",
      "</td>\n",
      "<td>\n",
      "</td>\n",
      "<td><a href=\"/wiki/Rohrleger\" title=\"Rohrleger\">Rohrleger</a></td>\n",
      "<td>Arbeitsschiff. Größtes (nach BRZ) jemals gebautes Schiff</td>\n",
      "<td>–</td>\n",
      "<td>403.342</td>\n",
      "<td>900.000</td>\n",
      "<td>382,00</td>\n",
      "<td>123,75</td>\n",
      "<td>2014</td>\n",
      "<td>in Dienst\n",
      "</td></tr>\n",
      "<tr>\n",
      "<td><i>TI Europe</i>\n",
      "</td>\n",
      "<td><a href=\"/wiki/Hellespont-Alhambra-Klasse\" title=\"Hellespont-Alhambra-Klasse\"><i>Hellespont-Alhambra</i>-Klasse</a>\n",
      "</td>\n",
      "<td><a href=\"/wiki/Tanker\" title=\"Tanker\">Tanker</a>, <a href=\"/wiki/Doppelh%C3%BCllenschiff\" title=\"Doppelhüllenschiff\"><i>doppelwandig</i></a></td>\n",
      "<td>Größter Doppelhüllen-Tanker</td>\n",
      "<td>–</td>\n",
      "<td>234.006</td>\n",
      "<td>?</td>\n",
      "<td>380,00</td>\n",
      "<td>68,00</td>\n",
      "<td>?</td>\n",
      "<td>in Dienst\n",
      "</td></tr>\n",
      "<tr>\n",
      "<td><i><a href=\"/wiki/Nanny_(Schiff)\" title=\"Nanny (Schiff)\">Nanny</a></i>\n",
      "</td>\n",
      "<td>\n",
      "</td>\n",
      "<td><a href=\"/wiki/Tanker\" title=\"Tanker\">Tanker</a>, einwandig</td>\n",
      "<td>Breitestes je gebautes Frachtschiff</td>\n",
      "<td>–</td>\n",
      "<td>245.140</td>\n",
      "<td>?</td>\n",
      "<td>364,04</td>\n",
      "<td>79,04</td>\n",
      "<td>1978</td>\n",
      "<td>2003 abgewrackt\n",
      "</td></tr>\n",
      "<tr>\n",
      "<td><i><a href=\"/wiki/Wonder_of_the_Seas\" title=\"Wonder of the Seas\">Wonder of the Seas</a></i>\n",
      "</td>\n",
      "<td><a href=\"/wiki/Oasis-Klasse\" class=\"mw-redirect\" title=\"Oasis-Klasse\"><i>Oasis</i>-Klasse</a>\n",
      "</td>\n",
      "<td><a href=\"/wiki/Kreuzfahrtschiff\" title=\"Kreuzfahrtschiff\">Kreuzfahrtschiff</a></td>\n",
      "<td>Bis Ende 2023 größtes jemals gebautes Passagierschiff (Kreuzfahrtschiff) (nach BRZ). Seit 2024 ist <a href=\"/wiki/Icon_of_the_Seas\" title=\"Icon of the Seas\">Icon of the Seas</a> am größten.</td>\n",
      "<td>–</td>\n",
      "<td>236.857</td>\n",
      "<td>100.000</td>\n",
      "<td>362</td>\n",
      "<td>66,00 ü.A.</td>\n",
      "<td>2021</td>\n",
      "<td>in Dienst\n",
      "</td></tr>\n",
      "<tr>\n",
      "<td><i>Vale Brasil</i>\n",
      "</td>\n",
      "<td><a href=\"/wiki/Valemax-Klasse\" title=\"Valemax-Klasse\">Valemax-Klasse</a>\n",
      "</td>\n",
      "<td><a href=\"/wiki/Massengutfrachter\" title=\"Massengutfrachter\">Massengutfrachter</a></td>\n",
      "<td>Größter Schüttgutfrachter der Welt (nach Ladekapazität und Länge)</td>\n",
      "<td>–</td>\n",
      "<td>198.980</td>\n",
      "<td>?</td>\n",
      "<td>362,00</td>\n",
      "<td>65,06</td>\n",
      "<td>?</td>\n",
      "<td>in Dienst\n",
      "</td></tr>\n",
      "<tr>\n",
      "<td><i><a href=\"/wiki/Queen_Mary_2\" title=\"Queen Mary 2\">Queen Mary 2</a></i>\n",
      "</td>\n",
      "<td>\n",
      "</td>\n",
      "<td><a href=\"/wiki/Passagierschiff\" title=\"Passagierschiff\">Passagierschiff</a></td>\n",
      "<td>Größter planmäßig verkehrender Transatlantikliner. Daneben auch Einsatz als Kreuzfahrtschiff</td>\n",
      "<td>–</td>\n",
      "<td>148.528</td>\n",
      "<td>79.827</td>\n",
      "<td>345,03</td>\n",
      "<td>41,08</td>\n",
      "<td>2004</td>\n",
      "<td>in Dienst\n",
      "</td></tr>\n",
      "<tr>\n",
      "<td><a href=\"/wiki/USS_Enterprise_(CVN-65)\" title=\"USS Enterprise (CVN-65)\">USS <i>Enterprise</i></a>\n",
      "</td>\n",
      "<td>\n",
      "</td>\n",
      "<td><a href=\"/wiki/Flugzeugtr%C3%A4ger\" title=\"Flugzeugträger\">Flugzeugträger</a></td>\n",
      "<td>Längster jemals gebauter Flugzeugträger und Kriegsschiff</td>\n",
      "<td>–</td>\n",
      "<td>–</td>\n",
      "<td>75.704</td>\n",
      "<td>342,30</td>\n",
      "<td>78,30</td>\n",
      "<td>1961</td>\n",
      "<td>2012 außer Dienst\n",
      "</td></tr>\n",
      "<tr>\n",
      "<td><i><a href=\"/wiki/USS_Nimitz_(CVN-68)\" title=\"USS Nimitz (CVN-68)\">USS Nimitz</a></i>\n",
      "</td>\n",
      "<td><a href=\"/wiki/Nimitz-Klasse\" title=\"Nimitz-Klasse\"><i>Nimitz</i>-Klasse</a>\n",
      "</td>\n",
      "<td><a href=\"/wiki/Flugzeugtr%C3%A4ger\" title=\"Flugzeugträger\">Flugzeugträger</a></td>\n",
      "<td></td>\n",
      "<td>–</td>\n",
      "<td>–</td>\n",
      "<td>97.000</td>\n",
      "<td>332,85</td>\n",
      "<td>76,80</td>\n",
      "<td>1975</td>\n",
      "<td>in Dienst\n",
      "</td></tr>\n",
      "<tr>\n",
      "<td><i><a href=\"/wiki/Normandie_(Schiff,_1935)\" title=\"Normandie (Schiff, 1935)\">Normandie</a></i>\n",
      "</td>\n",
      "<td>\n",
      "</td>\n",
      "<td><a href=\"/wiki/Passagierschiff\" title=\"Passagierschiff\">Passagierschiff</a></td>\n",
      "<td>Zu ihrer Zeit das größte Schiff der Welt</td>\n",
      "<td>79.000</td>\n",
      "<td>–</td>\n",
      "<td>71.300</td>\n",
      "<td>313,58</td>\n",
      "<td>36,40</td>\n",
      "<td>1935</td>\n",
      "<td>1942 nach Brand gekentert, später geborgen und abgewrackt\n",
      "</td></tr>\n",
      "<tr>\n",
      "<td><i><a href=\"/wiki/Vaterland_(Schiff,_1914)\" title=\"Vaterland (Schiff, 1914)\">Vaterland</a></i>\n",
      "</td>\n",
      "<td><a href=\"/wiki/Imperator-Klasse\" title=\"Imperator-Klasse\"><i>Imperator</i>-Klasse</a>\n",
      "</td>\n",
      "<td><a href=\"/wiki/Passagierschiff\" title=\"Passagierschiff\">Passagierschiff</a></td>\n",
      "<td>Die <i>Vaterland</i> ist bis heute das größte jemals unter deutscher Flagge gefahrene Passagierschiff und zugleich das größte mit Kohlefeuerung betriebene Dampfschiff der Geschichte</td>\n",
      "<td>54.282</td>\n",
      "<td>–</td>\n",
      "<td>?</td>\n",
      "<td>289,56</td>\n",
      "<td>30,48</td>\n",
      "<td>1914</td>\n",
      "<td>1938 abgewrackt\n",
      "</td></tr>\n",
      "<tr>\n",
      "<td><i><a href=\"/wiki/Boka_Vanguard\" title=\"Boka Vanguard\">Boka Vanguard</a></i>\n",
      "</td>\n",
      "<td>\n",
      "</td>\n",
      "<td><a href=\"/wiki/Halbtaucher\" title=\"Halbtaucher\">Halbtaucherschiff</a></td>\n",
      "<td>Größter Schwergutfrachter</td>\n",
      "<td>–</td>\n",
      "<td>91.784</td>\n",
      "<td>?</td>\n",
      "<td>275,00</td>\n",
      "<td>78,75</td>\n",
      "<td>2013</td>\n",
      "<td>in Fahrt\n",
      "</td></tr>\n",
      "<tr>\n",
      "<td><i><a href=\"/wiki/Titanic_(Schiff)\" title=\"Titanic (Schiff)\">Titanic</a></i>\n",
      "</td>\n",
      "<td><a href=\"/wiki/Olympic-Klasse\" title=\"Olympic-Klasse\"><i>Olympic</i>-Klasse</a>\n",
      "</td>\n",
      "<td><a href=\"/wiki/Passagierschiff\" title=\"Passagierschiff\">Passagierschiff</a></td>\n",
      "<td>Zu ihrer Zeit das größte Schiff der Welt. Durch den tragischen Untergang eines der bekanntesten und berühmtesten Schiffe überhaupt</td>\n",
      "<td>46.329</td>\n",
      "<td>–</td>\n",
      "<td>53.147</td>\n",
      "<td>269,04</td>\n",
      "<td>28,19</td>\n",
      "<td>1912</td>\n",
      "<td>1912 Untergang\n",
      "</td></tr>\n",
      "<tr>\n",
      "<td><i>Tønsberg</i>\n",
      "</td>\n",
      "<td><a href=\"/wiki/Mark-V-Klasse\" title=\"Mark-V-Klasse\">Mark-V-Klasse</a>\n",
      "</td>\n",
      "<td><a href=\"/wiki/Autotransporter_(Schiffstyp)\" title=\"Autotransporter (Schiffstyp)\">Autotransporter</a></td>\n",
      "<td>Größter Autotransporter mit Ladekapazität von ca. 6.000 PKW</td>\n",
      "<td>–</td>\n",
      "<td>76.500</td>\n",
      "<td>41.820</td>\n",
      "<td>265,00</td>\n",
      "<td>32,26</td>\n",
      "<td>?</td>\n",
      "<td>in Dienst\n",
      "</td></tr>\n",
      "<tr>\n",
      "<td><i><a href=\"/wiki/Yamato_(Schiff,_1941)\" title=\"Yamato (Schiff, 1941)\">Yamato</a></i>\n",
      "</td>\n",
      "<td><a href=\"/wiki/Yamato-Klasse\" title=\"Yamato-Klasse\"><i>Yamato</i>-Klasse</a>\n",
      "</td>\n",
      "<td><a href=\"/wiki/Schlachtschiff\" title=\"Schlachtschiff\">Schlachtschiff</a></td>\n",
      "<td>Größtes jemals gebautes Schlachtschiff (nach Verdrängung und Länge)</td>\n",
      "<td>–</td>\n",
      "<td>–</td>\n",
      "<td>65.000</td>\n",
      "<td>263,00</td>\n",
      "<td>38,90</td>\n",
      "<td>1941</td>\n",
      "<td>1945 versenkt\n",
      "</td></tr>\n",
      "<tr>\n",
      "<td><i><a href=\"/wiki/HMS_Hood_(51)\" title=\"HMS Hood (51)\">HMS Hood</a></i>\n",
      "</td>\n",
      "<td>\n",
      "</td>\n",
      "<td><a href=\"/wiki/Schlachtkreuzer\" title=\"Schlachtkreuzer\">Schlachtkreuzer</a></td>\n",
      "<td>Zwischen den Weltkriegen größter und längster Schlachtkreuzer. Wurde von der <a href=\"/wiki/Bismarck_(Schiff,_1939)\" title=\"Bismarck (Schiff, 1939)\"><i>Bismarck</i></a> versenkt.</td>\n",
      "<td>–</td>\n",
      "<td>–</td>\n",
      "<td>42.600</td>\n",
      "<td>262,30</td>\n",
      "<td>32,00</td>\n",
      "<td>1918</td>\n",
      "<td>1941 versenkt\n",
      "</td></tr>\n",
      "<tr>\n",
      "<td><i><a href=\"/wiki/Bismarck_(Schiff,_1939)\" title=\"Bismarck (Schiff, 1939)\">Bismarck</a></i>\n",
      "</td>\n",
      "<td><a href=\"/wiki/Bismarck-Klasse_(1939)\" title=\"Bismarck-Klasse (1939)\"><i>Bismarck</i>-Klasse</a>\n",
      "</td>\n",
      "<td><a href=\"/wiki/Schlachtschiff\" title=\"Schlachtschiff\">Schlachtschiff</a></td>\n",
      "<td>Bei ihrer Indienststellung galt sie als das weltweit größte und kampfstärkste Schlachtschiff.</td>\n",
      "<td>–</td>\n",
      "<td>–</td>\n",
      "<td>41.700</td>\n",
      "<td>250,50</td>\n",
      "<td>36,00</td>\n",
      "<td>1939</td>\n",
      "<td>1941 versenkt\n",
      "</td></tr>\n",
      "<tr>\n",
      "<td><i><a href=\"/wiki/Stena_Scandinavica_(Schiff,_2003)\" title=\"Stena Scandinavica (Schiff, 2003)\">Stena Scandinavica</a></i>\n",
      "</td>\n",
      "<td>\n",
      "</td>\n",
      "<td><a href=\"/wiki/F%C3%A4hre\" title=\"Fähre\">Fähre</a></td>\n",
      "<td>Größte Fähre nach Länge</td>\n",
      "<td>–</td>\n",
      "<td>51.837</td>\n",
      "<td>?</td>\n",
      "<td>243,30</td>\n",
      "<td>28,70</td>\n",
      "<td>?</td>\n",
      "<td>in Dienst\n",
      "</td></tr>\n",
      "<tr>\n",
      "<td><i><a href=\"/wiki/Color_Magic\" title=\"Color Magic\">Color Magic</a></i>\n",
      "</td>\n",
      "<td>\n",
      "</td>\n",
      "<td><a href=\"/wiki/F%C3%A4hre\" title=\"Fähre\">Fähre</a></td>\n",
      "<td>Größte Fähre nach BRZ</td>\n",
      "<td>–</td>\n",
      "<td>75.156</td>\n",
      "<td>?</td>\n",
      "<td>223,75</td>\n",
      "<td>35,00</td>\n",
      "<td></td>\n",
      "<td>In Fahrt\n",
      "</td></tr>\n",
      "<tr>\n",
      "<td><i><a href=\"/w/index.php?title=Crist%C3%B3bal_Col%C3%B3n_(Hopperbagger)&amp;action=edit&amp;redlink=1\" class=\"new\" title=\"Cristóbal Colón (Hopperbagger) (Seite nicht vorhanden)\">Cristóbal Colón</a></i>\n",
      "</td>\n",
      "<td>\n",
      "</td>\n",
      "<td><a href=\"/wiki/Hopperbagger\" title=\"Hopperbagger\">Hopperbagger</a></td>\n",
      "<td>–</td>\n",
      "<td>–</td>\n",
      "<td>?</td>\n",
      "<td>78.000</td>\n",
      "<td>223,00</td>\n",
      "<td>41,00</td>\n",
      "<td>?</td>\n",
      "<td>in Dienst\n",
      "</td></tr>\n",
      "<tr>\n",
      "<td><i><a href=\"/wiki/Great_Eastern\" title=\"Great Eastern\">Great Eastern</a></i>\n",
      "</td>\n",
      "<td>\n",
      "</td>\n",
      "<td><a href=\"/wiki/Segeldampfer\" title=\"Segeldampfer\">Segeldampfer</a></td>\n",
      "<td>Seinerzeit größtes je gebautes Schiff (bis 1901)</td>\n",
      "<td>18.915</td>\n",
      "<td>–</td>\n",
      "<td>32.000</td>\n",
      "<td>211,00</td>\n",
      "<td>23,50</td>\n",
      "<td>1858</td>\n",
      "<td>1889 abgewrackt\n",
      "</td></tr>\n",
      "<tr>\n",
      "<td><i><a href=\"/wiki/Ulysses_(Schiff,_2001)\" title=\"Ulysses (Schiff, 2001)\">Ulysses</a></i>\n",
      "</td>\n",
      "<td>\n",
      "</td>\n",
      "<td><a href=\"/wiki/F%C3%A4hre\" title=\"Fähre\">Fähre</a></td>\n",
      "<td>–</td>\n",
      "<td>–</td>\n",
      "<td>50.938</td>\n",
      "<td>27.425</td>\n",
      "<td>209,02</td>\n",
      "<td>31,20</td>\n",
      "<td>2001</td>\n",
      "<td>in Dienst\n",
      "</td></tr>\n",
      "<tr>\n",
      "<td><i><a href=\"/wiki/Hughes_Glomar_Explorer\" title=\"Hughes Glomar Explorer\">Hughes&#160;Glomar&#160;Explorer</a></i>\n",
      "</td>\n",
      "<td>\n",
      "</td>\n",
      "<td><a href=\"/wiki/Bergungsschiff\" title=\"Bergungsschiff\">Bergungsschiff</a></td>\n",
      "<td>–</td>\n",
      "<td>–</td>\n",
      "<td>27.686</td>\n",
      "<td>63.000</td>\n",
      "<td>188,70</td>\n",
      "<td>35,30</td>\n",
      "<td>?</td>\n",
      "<td>2015 abgewrackt\n",
      "</td></tr>\n",
      "<tr>\n",
      "<td><i><a href=\"/wiki/Club_Med_2\" title=\"Club Med 2\">Club Med 2</a></i>\n",
      "</td>\n",
      "<td>\n",
      "</td>\n",
      "<td><a href=\"/wiki/Motorsegler_(Wasserfahrzeug)\" title=\"Motorsegler (Wasserfahrzeug)\">Motorsegelschiff</a></td>\n",
      "<td>–</td>\n",
      "<td>–</td>\n",
      "<td>19.983</td>\n",
      "<td>?</td>\n",
      "<td>187,00</td>\n",
      "<td>20,00</td>\n",
      "<td>?</td>\n",
      "<td>in Dienst\n",
      "</td></tr>\n",
      "<tr>\n",
      "<td><i><a href=\"/wiki/Azzam_(Schiff)\" title=\"Azzam (Schiff)\">Azzam</a></i>\n",
      "</td>\n",
      "<td>\n",
      "</td>\n",
      "<td><a href=\"/wiki/Motorboot\" title=\"Motorboot\">Motoryacht</a></td>\n",
      "<td>Längste private Motoryacht der Welt</td>\n",
      "<td>?</td>\n",
      "<td>?</td>\n",
      "<td>?</td>\n",
      "<td>180,0</td>\n",
      "<td>20,80</td>\n",
      "<td>2013</td>\n",
      "<td>in Dienst\n",
      "</td></tr>\n",
      "<tr>\n",
      "<td><i><a href=\"/wiki/TK-208_Dmitri_Donskoj\" title=\"TK-208 Dmitri Donskoj\">Dmitri Donskoj</a></i>\n",
      "</td>\n",
      "<td><a href=\"/wiki/Projekt_941\" title=\"Projekt 941\"><i>Typhoon</i>-Klasse</a>\n",
      "</td>\n",
      "<td><a href=\"/wiki/U-Boot\" title=\"U-Boot\">Unterseeboot</a></td>\n",
      "<td>Größtes je gebautes (Atom-)Unterseeboot (nach Verdrängung und Länge)</td>\n",
      "<td>–</td>\n",
      "<td>–</td>\n",
      "<td>23.200</td>\n",
      "<td>172,80</td>\n",
      "<td>23,30</td>\n",
      "<td>1981</td>\n",
      "<td>in Dienst\n",
      "</td></tr>\n",
      "<tr>\n",
      "<td><i><a href=\"/wiki/50_Let_Pobedy_(Schiff)\" title=\"50 Let Pobedy (Schiff)\">50 Let Pobedy</a></i>\n",
      "</td>\n",
      "<td><a href=\"/wiki/Arktika-Klasse\" title=\"Arktika-Klasse\"><i>Arktica</i>-Klasse</a>\n",
      "</td>\n",
      "<td><a href=\"/wiki/Eisbrecher\" title=\"Eisbrecher\">Eisbrecher</a></td>\n",
      "<td>Größter und leistungsfähigster Eisbrecher</td>\n",
      "<td>–</td>\n",
      "<td>23.439</td>\n",
      "<td>25.840</td>\n",
      "<td>159,60</td>\n",
      "<td>30,00</td>\n",
      "<td>2007</td>\n",
      "<td>in Dienst\n",
      "</td></tr>\n",
      "<tr>\n",
      "<td><i><a href=\"/wiki/France_(Schiff,_1912%E2%80%931922)\" title=\"France (Schiff, 1912–1922)\">France</a></i>\n",
      "</td>\n",
      "<td>\n",
      "</td>\n",
      "<td><a href=\"/wiki/Segelschiff\" title=\"Segelschiff\">Segelschiff</a> <i><a href=\"/wiki/Auxiliarsegler\" title=\"Auxiliarsegler\">Aux.</a></i> / <a href=\"/wiki/Segelschiff\" title=\"Segelschiff\">Segelschiff</a></td>\n",
      "<td>Segelschiff zunächst mit Motoren; nach Ausbau der Motoren (1919) größtes Segelschiff nach BRT</td>\n",
      "<td>5.633</td>\n",
      "<td>–</td>\n",
      "<td>10.710</td>\n",
      "<td>146,5</td>\n",
      "<td>16,90</td>\n",
      "<td>1911</td>\n",
      "<td>gestrandet\n",
      "</td></tr>\n",
      "<tr>\n",
      "<td><i><a href=\"/wiki/Preu%C3%9Fen_(Schiff,_1902)\" title=\"Preußen (Schiff, 1902)\">Preußen</a></i>\n",
      "</td>\n",
      "<td>\n",
      "</td>\n",
      "<td><a href=\"/wiki/Segelschiff\" title=\"Segelschiff\">Segelschiff</a></td>\n",
      "<td>Die <i>Preußen</i> war bis zur Inbetriebnahme des Luxuskreuzfahrtschiffes <i><a href=\"/wiki/Royal_Clipper\" title=\"Royal Clipper\">Royal Clipper</a></i> im Jahr 2000 das einzige je gebaute Fünfmast<a href=\"/wiki/Vollschiff\" title=\"Vollschiff\">vollschiff</a> und erreichte mit 47 Segeln, davon 30 <a href=\"/wiki/Rahsegel\" title=\"Rahsegel\">Rahsegeln</a>, auch das Maximum in der Anzahl der Segel. Sie zählt zu den größten Segelschiffen der Schiffahrtsgeschichte überhaupt. Sie führt u.A. die Ranglisten nach Lüa (147&#160;m), Segelfläche (6.805 m²), Frachtmenge (8.000&#160;t) sowie Geschwindigkeit für Frachtsegler (20 Knoten) an.</td>\n",
      "<td>5.081</td>\n",
      "<td>–</td>\n",
      "<td>11.650</td>\n",
      "<td>147,00</td>\n",
      "<td>16,34</td>\n",
      "<td>1902</td>\n",
      "<td>gestrandet\n",
      "</td></tr>\n",
      "<tr>\n",
      "<td><i><a href=\"/wiki/Royal_Clipper\" title=\"Royal Clipper\">Royal Clipper</a></i>\n",
      "</td>\n",
      "<td>\n",
      "</td>\n",
      "<td><a href=\"/wiki/Segelschiff\" title=\"Segelschiff\">Segelschiff</a> <i><a href=\"/wiki/Auxiliarsegler\" title=\"Auxiliarsegler\">Aux.</a></i></td>\n",
      "<td>Bisher neben ihrem Vorbild, der <i>Preußen</i>, einziges Fünfmastvollschiff der Welt</td>\n",
      "<td>–</td>\n",
      "<td>4.425</td>\n",
      "<td>?</td>\n",
      "<td>133,74</td>\n",
      "<td>16,28</td>\n",
      "<td>?</td>\n",
      "<td>in Dienst\n",
      "</td></tr>\n",
      "<tr>\n",
      "<td><i>Stena Explorer</i>\n",
      "</td>\n",
      "<td><a href=\"/wiki/High-Speed_Sea_Service\" title=\"High-Speed Sea Service\">HSS 1500-Klasse</a>\n",
      "</td>\n",
      "<td><a href=\"/wiki/Autof%C3%A4hre#Seegehende_Autofähren\" title=\"Autofähre\">Fährkatamaran</a></td>\n",
      "<td>–</td>\n",
      "<td>–</td>\n",
      "<td>19.638</td>\n",
      "<td>?</td>\n",
      "<td>126,60</td>\n",
      "<td>40,00</td>\n",
      "<td>?</td>\n",
      "<td>in Dienst\n",
      "</td></tr>\n",
      "<tr>\n",
      "<td><i><a href=\"/wiki/Far_Samson\" class=\"mw-redirect\" title=\"Far Samson\">Far Samson</a></i>\n",
      "</td>\n",
      "<td>\n",
      "</td>\n",
      "<td><a href=\"/wiki/Schlepper_(Schiffstyp)\" title=\"Schlepper (Schiffstyp)\">Schlepper</a></td>\n",
      "<td>Stärkster Schlepper (Pfahlzugkraft 423 to)</td>\n",
      "<td>–</td>\n",
      "<td>14.740</td>\n",
      "<td>–</td>\n",
      "<td>121,5</td>\n",
      "<td>26,00</td>\n",
      "<td>2009</td>\n",
      "<td>in Dienst\n",
      "</td></tr>\n",
      "<tr>\n",
      "<td><i><a href=\"/wiki/Hermann_Marwede_(Schiff)\" title=\"Hermann Marwede (Schiff)\">Hermann Marwede</a></i>\n",
      "</td>\n",
      "<td>\n",
      "</td>\n",
      "<td><a href=\"/wiki/Seenotrettungskreuzer\" title=\"Seenotrettungskreuzer\">Seenotrettungskreuzer</a></td>\n",
      "<td>Größter Seenotkreuzer nach BRZ</td>\n",
      "<td>–</td>\n",
      "<td>?</td>\n",
      "<td>404</td>\n",
      "<td>46,00</td>\n",
      "<td>10,25</td>\n",
      "<td>2003</td>\n",
      "<td>in Dienst\n",
      "</td></tr>\n",
      "<tr>\n",
      "<td><i><a href=\"/wiki/Baron_of_Renfrew_(Schiff)\" title=\"Baron of Renfrew (Schiff)\">Baron of Renfrew</a></i>\n",
      "</td>\n",
      "<td>\n",
      "</td>\n",
      "<td><a href=\"/wiki/Einwegschiff\" title=\"Einwegschiff\">Einwegschiff</a></td>\n",
      "<td>Das größte je gebaute Holzschiff. War als Einwegschiff nur für eine einmalige Fahrt gebaut, danach wurde das Schiff als Bauholz verwendet.</td>\n",
      "<td>5.294</td>\n",
      "<td>–</td>\n",
      "<td>?</td>\n",
      "<td>110,80</td>\n",
      "<td>18,59</td>\n",
      "<td>1825</td>\n",
      "<td>1825 gestrandet und abgewrackt\n",
      "</td></tr></tbody></table>\n",
      "<h2><span class=\"mw-headline\" id=\"Siehe_auch\">Siehe auch</span><span class=\"mw-editsection\"><span class=\"mw-editsection-bracket\">[</span><a href=\"/w/index.php?title=Liste_der_gr%C3%B6%C3%9Ften_Schiffe_der_Welt&amp;veaction=edit&amp;section=3\" title=\"Abschnitt bearbeiten: Siehe auch\" class=\"mw-editsection-visualeditor\"><span>Bearbeiten</span></a><span class=\"mw-editsection-divider\"> | </span><a href=\"/w/index.php?title=Liste_der_gr%C3%B6%C3%9Ften_Schiffe_der_Welt&amp;action=edit&amp;section=3\" title=\"Quellcode des Abschnitts bearbeiten: Siehe auch\"><span>Quelltext bearbeiten</span></a><span class=\"mw-editsection-bracket\">]</span></span></h2>\n",
      "<ul><li><a href=\"/wiki/Liste_der_gr%C3%B6%C3%9Ften_Holzschiffe_der_Welt\" class=\"mw-redirect\" title=\"Liste der größten Holzschiffe der Welt\">Liste der größten Holzschiffe der Welt</a></li>\n",
      "<li><a href=\"/wiki/Liste_von_Kreuzfahrtschiffen\" title=\"Liste von Kreuzfahrtschiffen\">Liste von Kreuzfahrtschiffen</a></li>\n",
      "<li><a href=\"/wiki/Liste_der_gr%C3%B6%C3%9Ften_Segelschiffe_der_Welt\" class=\"mw-redirect\" title=\"Liste der größten Segelschiffe der Welt\">Liste der größten Segelschiffe der Welt</a></li></ul>\n",
      "<h2><span class=\"mw-headline\" id=\"Literatur\">Literatur</span><span class=\"mw-editsection\"><span class=\"mw-editsection-bracket\">[</span><a href=\"/w/index.php?title=Liste_der_gr%C3%B6%C3%9Ften_Schiffe_der_Welt&amp;veaction=edit&amp;section=4\" title=\"Abschnitt bearbeiten: Literatur\" class=\"mw-editsection-visualeditor\"><span>Bearbeiten</span></a><span class=\"mw-editsection-divider\"> | </span><a href=\"/w/index.php?title=Liste_der_gr%C3%B6%C3%9Ften_Schiffe_der_Welt&amp;action=edit&amp;section=4\" title=\"Quellcode des Abschnitts bearbeiten: Literatur\"><span>Quelltext bearbeiten</span></a><span class=\"mw-editsection-bracket\">]</span></span></h2>\n",
      "<ul><li>Joachim W. Pein: <i>Giganten der Meere. Die größten Tankschiffe der Welt.</i> Koehlers Verlagsgesellschaft, Hamburg 2011.</li></ul>\n",
      "<h2><span class=\"mw-headline\" id=\"Anmerkung_und_Einzelnachweise\">Anmerkung und Einzelnachweise</span><span class=\"mw-editsection\"><span class=\"mw-editsection-bracket\">[</span><a href=\"/w/index.php?title=Liste_der_gr%C3%B6%C3%9Ften_Schiffe_der_Welt&amp;veaction=edit&amp;section=5\" title=\"Abschnitt bearbeiten: Anmerkung und Einzelnachweise\" class=\"mw-editsection-visualeditor\"><span>Bearbeiten</span></a><span class=\"mw-editsection-divider\"> | </span><a href=\"/w/index.php?title=Liste_der_gr%C3%B6%C3%9Ften_Schiffe_der_Welt&amp;action=edit&amp;section=5\" title=\"Quellcode des Abschnitts bearbeiten: Anmerkung und Einzelnachweise\"><span>Quelltext bearbeiten</span></a><span class=\"mw-editsection-bracket\">]</span></span></h2>\n",
      "<ol class=\"references\">\n",
      "<li id=\"cite_note-1\"><span class=\"mw-cite-backlink\"><a href=\"#cite_ref-1\">↑</a></span> <span class=\"reference-text\"><span class=\"cite\"><a rel=\"nofollow\" class=\"external text\" href=\"https://www.cruisetricks.de/die-groessten-kreuzfahrtschiffe-der-welt/\"><i>Die 25 größten Kreuzfahrtschiffe der Welt.</i></a><span class=\"Abrufdatum\">&#32;Abgerufen am 29.&#160;November 2023</span>.</span><span style=\"display: none;\" class=\"Z3988\" title=\"ctx_ver=Z39.88-2004&amp;rft_val_fmt=info%3Aofi%2Ffmt%3Akev%3Amtx%3Adc&amp;rfr_id=info%3Asid%2Fde.wikipedia.org%3AListe+der+gr%C3%B6%C3%9Ften+Schiffe+der+Welt&amp;rft.title=Die+25+gr%C3%B6%C3%9Ften+Kreuzfahrtschiffe+der+Welt&amp;rft.description=Die+25+gr%C3%B6%C3%9Ften+Kreuzfahrtschiffe+der+Welt&amp;rft.identifier=https%3A%2F%2Fwww.cruisetricks.de%2Fdie-groessten-kreuzfahrtschiffe-der-welt%2F&amp;rft.language=de\">&#160;</span></span>\n",
      "</li>\n",
      "<li id=\"cite_note-2\"><span class=\"mw-cite-backlink\"><a href=\"#cite_ref-2\">↑</a></span> <span class=\"reference-text\"><span class=\"cite\"><a rel=\"nofollow\" class=\"external text\" href=\"https://maritime-executive.com/article/msc-receives-second-ultra-large-and-this-one-is-the-world-s-largest\"><i>MSC Takes Delivery of the World's Biggest Ultra Large Container Ship.</i></a><span class=\"Abrufdatum\">&#32;Abgerufen am 15.&#160;März 2023</span>&#32;(englisch).</span><span style=\"display: none;\" class=\"Z3988\" title=\"ctx_ver=Z39.88-2004&amp;rft_val_fmt=info%3Aofi%2Ffmt%3Akev%3Amtx%3Adc&amp;rfr_id=info%3Asid%2Fde.wikipedia.org%3AListe+der+gr%C3%B6%C3%9Ften+Schiffe+der+Welt&amp;rft.title=MSC+Takes+Delivery+of+the+World%27s+Biggest+Ultra+Large+Container+Ship&amp;rft.description=MSC+Takes+Delivery+of+the+World%27s+Biggest+Ultra+Large+Container+Ship&amp;rft.identifier=https%3A%2F%2Fmaritime-executive.com%2Farticle%2Fmsc-receives-second-ultra-large-and-this-one-is-the-world-s-largest&amp;rft.language=en\">&#160;</span></span>\n",
      "</li>\n",
      "<li id=\"cite_note-3\"><span class=\"mw-cite-backlink\"><a href=\"#cite_ref-3\">↑</a></span> <span class=\"reference-text\"><span class=\"cite\"><a rel=\"nofollow\" class=\"external text\" href=\"https://vesselregister.dnv.com/vesselregister/details/42806\"><i>DNV Vessel Register.</i></a><span class=\"Abrufdatum\">&#32;Abgerufen am 15.&#160;März 2023</span>.</span><span style=\"display: none;\" class=\"Z3988\" title=\"ctx_ver=Z39.88-2004&amp;rft_val_fmt=info%3Aofi%2Ffmt%3Akev%3Amtx%3Adc&amp;rfr_id=info%3Asid%2Fde.wikipedia.org%3AListe+der+gr%C3%B6%C3%9Ften+Schiffe+der+Welt&amp;rft.title=DNV+Vessel+Register&amp;rft.description=DNV+Vessel+Register&amp;rft.identifier=https%3A%2F%2Fvesselregister.dnv.com%2Fvesselregister%2Fdetails%2F42806\">&#160;</span></span>\n",
      "</li>\n",
      "<li id=\"cite_note-4\"><span class=\"mw-cite-backlink\"><a href=\"#cite_ref-4\">↑</a></span> <span class=\"reference-text\"><span class=\"cite\"><a rel=\"nofollow\" class=\"external text\" href=\"http://www.vesselfinder.com/news/1488-VIDEO-BIGGEST-SHIP-in-the-WORLD-but-not-MAERSK-MC-KINNEY-MOLLER\"><i>VIDEO: Biggest ship in the world, but not Maersk Mc-Kinney Møller.</i></a><span class=\"Abrufdatum\">&#32;Abgerufen am 9.&#160;März 2014</span>.</span><span style=\"display: none;\" class=\"Z3988\" title=\"ctx_ver=Z39.88-2004&amp;rft_val_fmt=info%3Aofi%2Ffmt%3Akev%3Amtx%3Adc&amp;rfr_id=info%3Asid%2Fde.wikipedia.org%3AListe+der+gr%C3%B6%C3%9Ften+Schiffe+der+Welt&amp;rft.title=VIDEO%3A+Biggest+ship+in+the+world%2C+but+not+Maersk+Mc-Kinney+M%C3%B8ller&amp;rft.description=VIDEO%3A+Biggest+ship+in+the+world%2C+but+not+Maersk+Mc-Kinney+M%C3%B8ller&amp;rft.identifier=http%3A%2F%2Fwww.vesselfinder.com%2Fnews%2F1488-VIDEO-BIGGEST-SHIP-in-the-WORLD-but-not-MAERSK-MC-KINNEY-MOLLER\">&#160;</span></span>\n",
      "</li>\n",
      "</ol></div><!--esi <esi:include src=\"/esitest-fa8a495983347898/content\" /> --><noscript><img src=\"https://login.wikimedia.org/wiki/Special:CentralAutoLogin/start?type=1x1\" alt=\"\" width=\"1\" height=\"1\" style=\"border: none; position: absolute;\"></noscript>\n",
      "<div class=\"printfooter\" data-nosnippet=\"\">Abgerufen von „<a dir=\"ltr\" href=\"https://de.wikipedia.org/w/index.php?title=Liste_der_größten_Schiffe_der_Welt&amp;oldid=241862931\">https://de.wikipedia.org/w/index.php?title=Liste_der_größten_Schiffe_der_Welt&amp;oldid=241862931</a>“</div></div>\n",
      "\t\t<div id=\"catlinks\" class=\"catlinks\" data-mw=\"interface\"><div id=\"mw-normal-catlinks\" class=\"mw-normal-catlinks\"><a href=\"/wiki/Wikipedia:Kategorien\" title=\"Wikipedia:Kategorien\">Kategorien</a>: <ul><li><a href=\"/wiki/Kategorie:Liste_(Schiffe)\" title=\"Kategorie:Liste (Schiffe)\">Liste (Schiffe)</a></li><li><a href=\"/wiki/Kategorie:Liste_(technische_Rekorde)\" title=\"Kategorie:Liste (technische Rekorde)\">Liste (technische Rekorde)</a></li></ul></div></div>\n",
      "\t</div>\n",
      "</div>\n",
      "\n",
      "<div id=\"mw-navigation\">\n",
      "\t<h2>Navigationsmenü</h2>\n",
      "\t<div id=\"mw-head\">\n",
      "\t\t\n",
      "<nav id=\"p-personal\" class=\"mw-portlet mw-portlet-personal vector-user-menu-legacy vector-menu\" aria-labelledby=\"p-personal-label\" role=\"navigation\"  >\n",
      "\t<h3\n",
      "\t\tid=\"p-personal-label\"\n",
      "\t\t\n",
      "\t\tclass=\"vector-menu-heading \"\n",
      "\t>\n",
      "\t\t<span class=\"vector-menu-heading-label\">Meine Werkzeuge</span>\n",
      "\t</h3>\n",
      "\t<div class=\"vector-menu-content\">\n",
      "\t\t\n",
      "\t\t<ul class=\"vector-menu-content-list\">\n",
      "\t\t\t\n",
      "\t\t\t<li id=\"pt-anonuserpage\" class=\"mw-list-item\"><span title=\"Benutzerseite der IP-Adresse, von der aus du Änderungen durchführst\">Nicht angemeldet</span></li><li id=\"pt-anontalk\" class=\"mw-list-item\"><a href=\"/wiki/Spezial:Meine_Diskussionsseite\" title=\"Diskussion über Änderungen von dieser IP-Adresse [n]\" accesskey=\"n\"><span>Diskussionsseite</span></a></li><li id=\"pt-anoncontribs\" class=\"mw-list-item\"><a href=\"/wiki/Spezial:Meine_Beitr%C3%A4ge\" title=\"Eine Liste der Bearbeitungen, die von dieser IP-Adresse gemacht wurden [y]\" accesskey=\"y\"><span>Beiträge</span></a></li><li id=\"pt-createaccount\" class=\"mw-list-item\"><a href=\"/w/index.php?title=Spezial:Benutzerkonto_anlegen&amp;returnto=Liste+der+gr%C3%B6%C3%9Ften+Schiffe+der+Welt\" title=\"Wir ermutigen dich dazu, ein Benutzerkonto zu erstellen und dich anzumelden. Es ist jedoch nicht zwingend erforderlich.\"><span>Benutzerkonto erstellen</span></a></li><li id=\"pt-login\" class=\"mw-list-item\"><a href=\"/w/index.php?title=Spezial:Anmelden&amp;returnto=Liste+der+gr%C3%B6%C3%9Ften+Schiffe+der+Welt\" title=\"Anmelden ist zwar keine Pflicht, wird aber gerne gesehen. [o]\" accesskey=\"o\"><span>Anmelden</span></a></li>\n",
      "\t\t</ul>\n",
      "\t\t\n",
      "\t</div>\n",
      "</nav>\n",
      "\n",
      "\t\t<div id=\"left-navigation\">\n",
      "\t\t\t\n",
      "<nav id=\"p-namespaces\" class=\"mw-portlet mw-portlet-namespaces vector-menu-tabs vector-menu-tabs-legacy vector-menu\" aria-labelledby=\"p-namespaces-label\" role=\"navigation\"  >\n",
      "\t<h3\n",
      "\t\tid=\"p-namespaces-label\"\n",
      "\t\t\n",
      "\t\tclass=\"vector-menu-heading \"\n",
      "\t>\n",
      "\t\t<span class=\"vector-menu-heading-label\">Namensräume</span>\n",
      "\t</h3>\n",
      "\t<div class=\"vector-menu-content\">\n",
      "\t\t\n",
      "\t\t<ul class=\"vector-menu-content-list\">\n",
      "\t\t\t\n",
      "\t\t\t<li id=\"ca-nstab-main\" class=\"selected mw-list-item\"><a href=\"/wiki/Liste_der_gr%C3%B6%C3%9Ften_Schiffe_der_Welt\" title=\"Seiteninhalt anzeigen [c]\" accesskey=\"c\"><span>Artikel</span></a></li><li id=\"ca-talk\" class=\"mw-list-item\"><a href=\"/wiki/Diskussion:Liste_der_gr%C3%B6%C3%9Ften_Schiffe_der_Welt\" rel=\"discussion\" title=\"Diskussion zum Seiteninhalt [t]\" accesskey=\"t\"><span>Diskussion</span></a></li>\n",
      "\t\t</ul>\n",
      "\t\t\n",
      "\t</div>\n",
      "</nav>\n",
      "\n",
      "\t\t\t\n",
      "<nav id=\"p-variants\" class=\"mw-portlet mw-portlet-variants emptyPortlet vector-menu-dropdown vector-menu\" aria-labelledby=\"p-variants-label\" role=\"navigation\"  >\n",
      "\t<input type=\"checkbox\"\n",
      "\t\tid=\"p-variants-checkbox\"\n",
      "\t\trole=\"button\"\n",
      "\t\taria-haspopup=\"true\"\n",
      "\t\tdata-event-name=\"ui.dropdown-p-variants\"\n",
      "\t\tclass=\"vector-menu-checkbox\"\n",
      "\t\taria-labelledby=\"p-variants-label\"\n",
      "\t>\n",
      "\t<label\n",
      "\t\tid=\"p-variants-label\"\n",
      "\t\t\n",
      "\t\tclass=\"vector-menu-heading \"\n",
      "\t>\n",
      "\t\t<span class=\"vector-menu-heading-label\">Deutsch</span>\n",
      "\t</label>\n",
      "\t<div class=\"vector-menu-content\">\n",
      "\t\t\n",
      "\t\t<ul class=\"vector-menu-content-list\">\n",
      "\t\t\t\n",
      "\t\t\t\n",
      "\t\t</ul>\n",
      "\t\t\n",
      "\t</div>\n",
      "</nav>\n",
      "\n",
      "\t\t</div>\n",
      "\t\t<div id=\"right-navigation\">\n",
      "\t\t\t\n",
      "<nav id=\"p-views\" class=\"mw-portlet mw-portlet-views vector-menu-tabs vector-menu-tabs-legacy vector-menu\" aria-labelledby=\"p-views-label\" role=\"navigation\"  >\n",
      "\t<h3\n",
      "\t\tid=\"p-views-label\"\n",
      "\t\t\n",
      "\t\tclass=\"vector-menu-heading \"\n",
      "\t>\n",
      "\t\t<span class=\"vector-menu-heading-label\">Ansichten</span>\n",
      "\t</h3>\n",
      "\t<div class=\"vector-menu-content\">\n",
      "\t\t\n",
      "\t\t<ul class=\"vector-menu-content-list\">\n",
      "\t\t\t\n",
      "\t\t\t<li id=\"ca-view\" class=\"selected mw-list-item\"><a href=\"/wiki/Liste_der_gr%C3%B6%C3%9Ften_Schiffe_der_Welt\"><span>Lesen</span></a></li><li id=\"ca-ve-edit\" class=\"mw-list-item\"><a href=\"/w/index.php?title=Liste_der_gr%C3%B6%C3%9Ften_Schiffe_der_Welt&amp;veaction=edit\" title=\"Diese Seite mit dem VisualEditor bearbeiten [v]\" accesskey=\"v\"><span>Bearbeiten</span></a></li><li id=\"ca-edit\" class=\"collapsible mw-list-item\"><a href=\"/w/index.php?title=Liste_der_gr%C3%B6%C3%9Ften_Schiffe_der_Welt&amp;action=edit\" title=\"Den Quelltext dieser Seite bearbeiten [e]\" accesskey=\"e\"><span>Quelltext bearbeiten</span></a></li><li id=\"ca-history\" class=\"mw-list-item\"><a href=\"/w/index.php?title=Liste_der_gr%C3%B6%C3%9Ften_Schiffe_der_Welt&amp;action=history\" title=\"Frühere Versionen dieser Seite [h]\" accesskey=\"h\"><span>Versionsgeschichte</span></a></li>\n",
      "\t\t</ul>\n",
      "\t\t\n",
      "\t</div>\n",
      "</nav>\n",
      "\n",
      "\t\t\t\n",
      "<nav id=\"p-cactions\" class=\"mw-portlet mw-portlet-cactions emptyPortlet vector-menu-dropdown vector-menu\" aria-labelledby=\"p-cactions-label\" role=\"navigation\"  title=\"Weitere Optionen\" >\n",
      "\t<input type=\"checkbox\"\n",
      "\t\tid=\"p-cactions-checkbox\"\n",
      "\t\trole=\"button\"\n",
      "\t\taria-haspopup=\"true\"\n",
      "\t\tdata-event-name=\"ui.dropdown-p-cactions\"\n",
      "\t\tclass=\"vector-menu-checkbox\"\n",
      "\t\taria-labelledby=\"p-cactions-label\"\n",
      "\t>\n",
      "\t<label\n",
      "\t\tid=\"p-cactions-label\"\n",
      "\t\t\n",
      "\t\tclass=\"vector-menu-heading \"\n",
      "\t>\n",
      "\t\t<span class=\"vector-menu-heading-label\">Weitere</span>\n",
      "\t</label>\n",
      "\t<div class=\"vector-menu-content\">\n",
      "\t\t\n",
      "\t\t<ul class=\"vector-menu-content-list\">\n",
      "\t\t\t\n",
      "\t\t\t\n",
      "\t\t</ul>\n",
      "\t\t\n",
      "\t</div>\n",
      "</nav>\n",
      "\n",
      "\t\t\t\n",
      "<div id=\"p-search\" role=\"search\" class=\"vector-search-box-vue  vector-search-box-show-thumbnail vector-search-box-auto-expand-width vector-search-box\">\n",
      "\t<h3 >Suche</h3>\n",
      "\t<form action=\"/w/index.php\" id=\"searchform\" class=\"vector-search-box-form\">\n",
      "\t\t<div id=\"simpleSearch\"\n",
      "\t\t\tclass=\"vector-search-box-inner\"\n",
      "\t\t\t data-search-loc=\"header-navigation\">\n",
      "\t\t\t<input class=\"vector-search-box-input\"\n",
      "\t\t\t\t type=\"search\" name=\"search\" placeholder=\"Wikipedia durchsuchen\" aria-label=\"Wikipedia durchsuchen\" autocapitalize=\"sentences\" title=\"Durchsuche die Wikipedia [f]\" accesskey=\"f\" id=\"searchInput\"\n",
      "\t\t\t>\n",
      "\t\t\t<input type=\"hidden\" name=\"title\" value=\"Spezial:Suche\">\n",
      "\t\t\t<input id=\"mw-searchButton\"\n",
      "\t\t\t\t class=\"searchButton mw-fallbackSearchButton\" type=\"submit\" name=\"fulltext\" title=\"Suche nach Seiten, die diesen Text enthalten\" value=\"Suchen\">\n",
      "\t\t\t<input id=\"searchButton\"\n",
      "\t\t\t\t class=\"searchButton\" type=\"submit\" name=\"go\" title=\"Gehe direkt zu der Seite mit genau diesem Namen, falls sie vorhanden ist.\" value=\"Artikel\">\n",
      "\t\t</div>\n",
      "\t</form>\n",
      "</div>\n",
      "\n",
      "\t\t</div>\n",
      "\t</div>\n",
      "\t\n",
      "<div id=\"mw-panel\" class=\"vector-legacy-sidebar\">\n",
      "\t<div id=\"p-logo\" role=\"banner\">\n",
      "\t\t<a class=\"mw-wiki-logo\" href=\"/wiki/Wikipedia:Hauptseite\"\n",
      "\t\t\ttitle=\"Hauptseite\"></a>\n",
      "\t</div>\n",
      "\t\n",
      "<nav id=\"p-navigation\" class=\"mw-portlet mw-portlet-navigation vector-menu-portal portal vector-menu\" aria-labelledby=\"p-navigation-label\" role=\"navigation\"  >\n",
      "\t<h3\n",
      "\t\tid=\"p-navigation-label\"\n",
      "\t\t\n",
      "\t\tclass=\"vector-menu-heading \"\n",
      "\t>\n",
      "\t\t<span class=\"vector-menu-heading-label\">Navigation</span>\n",
      "\t</h3>\n",
      "\t<div class=\"vector-menu-content\">\n",
      "\t\t\n",
      "\t\t<ul class=\"vector-menu-content-list\">\n",
      "\t\t\t\n",
      "\t\t\t<li id=\"n-mainpage-description\" class=\"mw-list-item\"><a href=\"/wiki/Wikipedia:Hauptseite\" title=\"Hauptseite besuchen [z]\" accesskey=\"z\"><span>Hauptseite</span></a></li><li id=\"n-topics\" class=\"mw-list-item\"><a href=\"/wiki/Portal:Wikipedia_nach_Themen\"><span>Themenportale</span></a></li><li id=\"n-randompage\" class=\"mw-list-item\"><a href=\"/wiki/Spezial:Zuf%C3%A4llige_Seite\" title=\"Zufällige Seite aufrufen [x]\" accesskey=\"x\"><span>Zufälliger Artikel</span></a></li>\n",
      "\t\t</ul>\n",
      "\t\t\n",
      "\t</div>\n",
      "</nav>\n",
      "\n",
      "\t\n",
      "<nav id=\"p-Mitmachen\" class=\"mw-portlet mw-portlet-Mitmachen vector-menu-portal portal vector-menu\" aria-labelledby=\"p-Mitmachen-label\" role=\"navigation\"  >\n",
      "\t<h3\n",
      "\t\tid=\"p-Mitmachen-label\"\n",
      "\t\t\n",
      "\t\tclass=\"vector-menu-heading \"\n",
      "\t>\n",
      "\t\t<span class=\"vector-menu-heading-label\">Mitmachen</span>\n",
      "\t</h3>\n",
      "\t<div class=\"vector-menu-content\">\n",
      "\t\t\n",
      "\t\t<ul class=\"vector-menu-content-list\">\n",
      "\t\t\t\n",
      "\t\t\t<li id=\"n-Artikel-verbessern\" class=\"mw-list-item\"><a href=\"/wiki/Wikipedia:Beteiligen\"><span>Artikel verbessern</span></a></li><li id=\"n-Neuerartikel\" class=\"mw-list-item\"><a href=\"/wiki/Hilfe:Neuen_Artikel_anlegen\"><span>Neuen Artikel anlegen</span></a></li><li id=\"n-portal\" class=\"mw-list-item\"><a href=\"/wiki/Wikipedia:Autorenportal\" title=\"Info-Zentrum über Beteiligungsmöglichkeiten\"><span>Autorenportal</span></a></li><li id=\"n-help\" class=\"mw-list-item\"><a href=\"/wiki/Hilfe:%C3%9Cbersicht\" title=\"Übersicht über Hilfeseiten\"><span>Hilfe</span></a></li><li id=\"n-recentchanges\" class=\"mw-list-item\"><a href=\"/wiki/Spezial:Letzte_%C3%84nderungen\" title=\"Liste der letzten Änderungen in Wikipedia [r]\" accesskey=\"r\"><span>Letzte Änderungen</span></a></li><li id=\"n-contact\" class=\"mw-list-item\"><a href=\"/wiki/Wikipedia:Kontakt\" title=\"Kontaktmöglichkeiten\"><span>Kontakt</span></a></li><li id=\"n-sitesupport\" class=\"mw-list-item\"><a href=\"//donate.wikimedia.org/wiki/Special:FundraiserRedirector?utm_source=donate&amp;utm_medium=sidebar&amp;utm_campaign=C13_de.wikipedia.org&amp;uselang=de\" title=\"Unterstütze uns\"><span>Spenden</span></a></li>\n",
      "\t\t</ul>\n",
      "\t\t\n",
      "\t</div>\n",
      "</nav>\n",
      "\n",
      "<nav id=\"p-tb\" class=\"mw-portlet mw-portlet-tb vector-menu-portal portal vector-menu\" aria-labelledby=\"p-tb-label\" role=\"navigation\"  >\n",
      "\t<h3\n",
      "\t\tid=\"p-tb-label\"\n",
      "\t\t\n",
      "\t\tclass=\"vector-menu-heading \"\n",
      "\t>\n",
      "\t\t<span class=\"vector-menu-heading-label\">Werkzeuge</span>\n",
      "\t</h3>\n",
      "\t<div class=\"vector-menu-content\">\n",
      "\t\t\n",
      "\t\t<ul class=\"vector-menu-content-list\">\n",
      "\t\t\t\n",
      "\t\t\t<li id=\"t-whatlinkshere\" class=\"mw-list-item\"><a href=\"/wiki/Spezial:Linkliste/Liste_der_gr%C3%B6%C3%9Ften_Schiffe_der_Welt\" title=\"Liste aller Seiten, die hierher verlinken [j]\" accesskey=\"j\"><span>Links auf diese Seite</span></a></li><li id=\"t-recentchangeslinked\" class=\"mw-list-item\"><a href=\"/wiki/Spezial:%C3%84nderungen_an_verlinkten_Seiten/Liste_der_gr%C3%B6%C3%9Ften_Schiffe_der_Welt\" rel=\"nofollow\" title=\"Letzte Änderungen an Seiten, die von hier verlinkt sind [k]\" accesskey=\"k\"><span>Änderungen an verlinkten Seiten</span></a></li><li id=\"t-specialpages\" class=\"mw-list-item\"><a href=\"/wiki/Spezial:Spezialseiten\" title=\"Liste aller Spezialseiten [q]\" accesskey=\"q\"><span>Spezialseiten</span></a></li><li id=\"t-permalink\" class=\"mw-list-item\"><a href=\"/w/index.php?title=Liste_der_gr%C3%B6%C3%9Ften_Schiffe_der_Welt&amp;oldid=241862931\" title=\"Dauerhafter Link zu dieser Seitenversion\"><span>Permanenter Link</span></a></li><li id=\"t-info\" class=\"mw-list-item\"><a href=\"/w/index.php?title=Liste_der_gr%C3%B6%C3%9Ften_Schiffe_der_Welt&amp;action=info\" title=\"Weitere Informationen über diese Seite\"><span>Seiten­­informationen</span></a></li><li id=\"t-cite\" class=\"mw-list-item\"><a href=\"/w/index.php?title=Spezial:Zitierhilfe&amp;page=Liste_der_gr%C3%B6%C3%9Ften_Schiffe_der_Welt&amp;id=241862931&amp;wpFormIdentifier=titleform\" title=\"Hinweise, wie diese Seite zitiert werden kann\"><span>Artikel zitieren</span></a></li><li id=\"t-urlshortener\" class=\"mw-list-item\"><a href=\"/w/index.php?title=Spezial:URL-K%C3%BCrzung&amp;url=https%3A%2F%2Fde.wikipedia.org%2Fwiki%2FListe_der_gr%25C3%25B6%25C3%259Ften_Schiffe_der_Welt\"><span>Kurzlink</span></a></li><li id=\"t-urlshortener-qrcode\" class=\"mw-list-item\"><a href=\"/w/index.php?title=Spezial:QrCode&amp;url=https%3A%2F%2Fde.wikipedia.org%2Fwiki%2FListe_der_gr%25C3%25B6%25C3%259Ften_Schiffe_der_Welt\"><span>QR-Code herunterladen</span></a></li><li id=\"t-wikibase\" class=\"mw-list-item\"><a href=\"https://www.wikidata.org/wiki/Special:EntityPage/Q1778295\" title=\"Link zum verbundenen Objekt im Datenrepositorium [g]\" accesskey=\"g\"><span>Wikidata-Datenobjekt</span></a></li>\n",
      "\t\t</ul>\n",
      "\t\t\n",
      "\t</div>\n",
      "</nav>\n",
      "\n",
      "<nav id=\"p-coll-print_export\" class=\"mw-portlet mw-portlet-coll-print_export vector-menu-portal portal vector-menu\" aria-labelledby=\"p-coll-print_export-label\" role=\"navigation\"  >\n",
      "\t<h3\n",
      "\t\tid=\"p-coll-print_export-label\"\n",
      "\t\t\n",
      "\t\tclass=\"vector-menu-heading \"\n",
      "\t>\n",
      "\t\t<span class=\"vector-menu-heading-label\">Drucken/​exportieren</span>\n",
      "\t</h3>\n",
      "\t<div class=\"vector-menu-content\">\n",
      "\t\t\n",
      "\t\t<ul class=\"vector-menu-content-list\">\n",
      "\t\t\t\n",
      "\t\t\t<li id=\"coll-create_a_book\" class=\"mw-list-item\"><a href=\"/w/index.php?title=Spezial:Buch&amp;bookcmd=book_creator&amp;referer=Liste+der+gr%C3%B6%C3%9Ften+Schiffe+der+Welt\"><span>Buch erstellen</span></a></li><li id=\"coll-download-as-rl\" class=\"mw-list-item\"><a href=\"/w/index.php?title=Spezial:DownloadAsPdf&amp;page=Liste_der_gr%C3%B6%C3%9Ften_Schiffe_der_Welt&amp;action=show-download-screen\"><span>Als PDF herunterladen</span></a></li><li id=\"t-print\" class=\"mw-list-item\"><a href=\"/w/index.php?title=Liste_der_gr%C3%B6%C3%9Ften_Schiffe_der_Welt&amp;printable=yes\" title=\"Druckansicht dieser Seite [p]\" accesskey=\"p\"><span>Druckversion</span></a></li>\n",
      "\t\t</ul>\n",
      "\t\t\n",
      "\t</div>\n",
      "</nav>\n",
      "\n",
      "\t\n",
      "<nav id=\"p-lang\" class=\"mw-portlet mw-portlet-lang vector-menu-portal portal vector-menu\" aria-labelledby=\"p-lang-label\" role=\"navigation\"  >\n",
      "\t<h3\n",
      "\t\tid=\"p-lang-label\"\n",
      "\t\t\n",
      "\t\tclass=\"vector-menu-heading \"\n",
      "\t>\n",
      "\t\t<span class=\"vector-menu-heading-label\">In anderen Sprachen</span>\n",
      "\t</h3>\n",
      "\t<div class=\"vector-menu-content\">\n",
      "\t\t\n",
      "\t\t<ul class=\"vector-menu-content-list\">\n",
      "\t\t\t\n",
      "\t\t\t<li class=\"interlanguage-link interwiki-be mw-list-item\"><a href=\"https://be.wikipedia.org/wiki/%D0%A1%D0%BF%D1%96%D1%81_%D1%81%D0%B0%D0%BC%D1%8B%D1%85_%D0%B4%D0%BE%D1%9E%D0%B3%D1%96%D1%85_%D1%81%D1%83%D0%B4%D0%BD%D0%B0%D1%9E_%D0%BF%D0%B0_%D1%82%D1%8B%D0%BF%D0%B5\" title=\"Спіс самых доўгіх суднаў па тыпе – Belarussisch\" lang=\"be\" hreflang=\"be\" class=\"interlanguage-link-target\"><span>Беларуская</span></a></li><li class=\"interlanguage-link interwiki-en mw-list-item\"><a href=\"https://en.wikipedia.org/wiki/List_of_longest_ships\" title=\"List of longest ships – Englisch\" lang=\"en\" hreflang=\"en\" class=\"interlanguage-link-target\"><span>English</span></a></li><li class=\"interlanguage-link interwiki-es mw-list-item\"><a href=\"https://es.wikipedia.org/wiki/Anexo:Barcos_m%C3%A1s_largos\" title=\"Anexo:Barcos más largos – Spanisch\" lang=\"es\" hreflang=\"es\" class=\"interlanguage-link-target\"><span>Español</span></a></li><li class=\"interlanguage-link interwiki-fr mw-list-item\"><a href=\"https://fr.wikipedia.org/wiki/Liste_des_plus_grands_navires\" title=\"Liste des plus grands navires – Französisch\" lang=\"fr\" hreflang=\"fr\" class=\"interlanguage-link-target\"><span>Français</span></a></li><li class=\"interlanguage-link interwiki-ro mw-list-item\"><a href=\"https://ro.wikipedia.org/wiki/List%C4%83_cu_nave_maritime_importante\" title=\"Listă cu nave maritime importante – Rumänisch\" lang=\"ro\" hreflang=\"ro\" class=\"interlanguage-link-target\"><span>Română</span></a></li><li class=\"interlanguage-link interwiki-ru mw-list-item\"><a href=\"https://ru.wikipedia.org/wiki/%D0%A1%D0%BF%D0%B8%D1%81%D0%BE%D0%BA_%D1%81%D0%B0%D0%BC%D1%8B%D1%85_%D0%B4%D0%BB%D0%B8%D0%BD%D0%BD%D1%8B%D1%85_%D1%81%D1%83%D0%B4%D0%BE%D0%B2_%D0%BF%D0%BE_%D1%82%D0%B8%D0%BF%D1%83\" title=\"Список самых длинных судов по типу – Russisch\" lang=\"ru\" hreflang=\"ru\" class=\"interlanguage-link-target\"><span>Русский</span></a></li><li class=\"interlanguage-link interwiki-tr mw-list-item\"><a href=\"https://tr.wikipedia.org/wiki/D%C3%BCnyan%C4%B1n_en_uzun_gemileri_listesi\" title=\"Dünyanın en uzun gemileri listesi – Türkisch\" lang=\"tr\" hreflang=\"tr\" class=\"interlanguage-link-target\"><span>Türkçe</span></a></li>\n",
      "\t\t</ul>\n",
      "\t\t<div class=\"after-portlet after-portlet-lang\"><span class=\"wb-langlinks-edit wb-langlinks-link\"><a href=\"https://www.wikidata.org/wiki/Special:EntityPage/Q1778295#sitelinks-wikipedia\" title=\"Links auf Artikel in anderen Sprachen bearbeiten\" class=\"wbc-editpage\">Links bearbeiten</a></span></div>\n",
      "\t</div>\n",
      "</nav>\n",
      "\n",
      "</div>\n",
      "\n",
      "</div>\n",
      "\n",
      "<footer id=\"footer\" class=\"mw-footer\" role=\"contentinfo\" >\n",
      "\t<ul id=\"footer-info\">\n",
      "\t<li id=\"footer-info-lastmod\"> Diese Seite wurde zuletzt am 4. Februar 2024 um 17:00 Uhr bearbeitet.</li>\n",
      "\t<li id=\"footer-info-copyright\"><div id=\"footer-info-copyright-stats\" class=\"noprint\"><a class=\"external\" href=\"https://pageviews.wmcloud.org/?pages=Liste_der_gr%C3%B6%C3%9Ften_Schiffe_der_Welt&amp;project=de.wikipedia.org\" rel=\"nofollow\">Abrufstatistik</a> · <a class=\"external\" href=\" https://xtools.wmcloud.org/articleinfo-authorship/de.wikipedia.org/Liste_der_gr%C3%B6%C3%9Ften_Schiffe_der_Welt?uselang=de\" rel=\"nofollow\">Autoren</a> </div><div id=\"footer-info-copyright-separator\"><br /></div><div id=\"footer-info-copyright-info\">\n",
      "Der Text ist unter der Lizenz <a class=\"internal\" href=\"https://creativecommons.org/licenses/by-sa/4.0/deed.de\">„Creative-Commons Namensnennung – Weitergabe unter gleichen Bedingungen“</a> verfügbar; Informationen zu den Urhebern und zum Lizenzstatus eingebundener Mediendateien (etwa Bilder oder Videos) können im Regelfall durch Anklicken dieser abgerufen werden. Möglicherweise unterliegen die Inhalte jeweils zusätzlichen Bedingungen. Durch die Nutzung dieser Website erklären Sie sich mit den <a class=\"internal\" href=\"https://foundation.wikimedia.org/wiki/Policy:Terms_of_Use/de\">Nutzungsbedingungen</a> und der <a class=\"internal\" href=\"https://foundation.wikimedia.org/wiki/Policy:Privacy_policy/de\">Datenschutzrichtlinie</a> einverstanden.<br />\n",
      "Wikipedia® ist eine eingetragene Marke der Wikimedia Foundation Inc.</div></li>\n",
      "</ul>\n",
      "\n",
      "\t<ul id=\"footer-places\">\n",
      "\t<li id=\"footer-places-privacy\"><a href=\"https://foundation.wikimedia.org/wiki/Special:MyLanguage/Policy:Privacy_policy/de\">Datenschutz</a></li>\n",
      "\t<li id=\"footer-places-about\"><a href=\"/wiki/Wikipedia:%C3%9Cber_Wikipedia\">Über Wikipedia</a></li>\n",
      "\t<li id=\"footer-places-disclaimers\"><a href=\"/wiki/Wikipedia:Impressum\">Impressum</a></li>\n",
      "\t<li id=\"footer-places-wm-codeofconduct\"><a href=\"https://foundation.wikimedia.org/wiki/Special:MyLanguage/Policy:Universal_Code_of_Conduct\">Verhaltenskodex</a></li>\n",
      "\t<li id=\"footer-places-developers\"><a href=\"https://developer.wikimedia.org\">Entwickler</a></li>\n",
      "\t<li id=\"footer-places-statslink\"><a href=\"https://stats.wikimedia.org/#/de.wikipedia.org\">Statistiken</a></li>\n",
      "\t<li id=\"footer-places-cookiestatement\"><a href=\"https://foundation.wikimedia.org/wiki/Special:MyLanguage/Policy:Cookie_statement\">Stellungnahme zu Cookies</a></li>\n",
      "\t<li id=\"footer-places-mobileview\"><a href=\"//de.m.wikipedia.org/w/index.php?title=Liste_der_gr%C3%B6%C3%9Ften_Schiffe_der_Welt&amp;mobileaction=toggle_view_mobile\" class=\"noprint stopMobileRedirectToggle\">Mobile Ansicht</a></li>\n",
      "</ul>\n",
      "\n",
      "\t<ul id=\"footer-icons\" class=\"noprint\">\n",
      "\t<li id=\"footer-copyrightico\"><a href=\"https://wikimediafoundation.org/\"><img src=\"/static/images/footer/wikimedia-button.png\" srcset=\"/static/images/footer/wikimedia-button-1.5x.png 1.5x, /static/images/footer/wikimedia-button-2x.png 2x\" width=\"88\" height=\"31\" alt=\"Wikimedia Foundation\" loading=\"lazy\" /></a></li>\n",
      "\t<li id=\"footer-poweredbyico\"><a href=\"https://www.mediawiki.org/\"><img src=\"/static/images/footer/poweredby_mediawiki_88x31.png\" alt=\"Powered by MediaWiki\" srcset=\"/static/images/footer/poweredby_mediawiki_132x47.png 1.5x, /static/images/footer/poweredby_mediawiki_176x62.png 2x\" width=\"88\" height=\"31\" loading=\"lazy\"></a></li>\n",
      "</ul>\n",
      "\n",
      "</footer>\n",
      "\n",
      "<script>(RLQ=window.RLQ||[]).push(function(){mw.config.set({\"wgHostname\":\"mw1399\",\"wgBackendResponseTime\":127,\"wgPageParseReport\":{\"limitreport\":{\"cputime\":\"0.188\",\"walltime\":\"0.466\",\"ppvisitednodes\":{\"value\":1679,\"limit\":1000000},\"postexpandincludesize\":{\"value\":11815,\"limit\":2097152},\"templateargumentsize\":{\"value\":6769,\"limit\":2097152},\"expansiondepth\":{\"value\":14,\"limit\":100},\"expensivefunctioncount\":{\"value\":1,\"limit\":500},\"unstrip-depth\":{\"value\":0,\"limit\":20},\"unstrip-size\":{\"value\":18137,\"limit\":5000000},\"entityaccesscount\":{\"value\":0,\"limit\":400},\"timingprofile\":[\"100.00%  169.429      1 -total\",\" 48.74%   82.573      4 Vorlage:Internetquelle\",\" 31.20%   52.861      2 Vorlage:FN\",\" 10.69%   18.106      1 Vorlage:FNBox\",\"  9.68%   16.393      4 Vorlage:Str_len\",\"  9.26%   15.681      2 Vorlage:FNZ\",\"  8.65%   14.650     16 Vorlage:Str_match\"]},\"scribunto\":{\"limitreport-timeusage\":{\"value\":\"0.055\",\"limit\":\"10.000\"},\"limitreport-memusage\":{\"value\":2562139,\"limit\":52428800}},\"cachereport\":{\"origin\":\"mw2365\",\"timestamp\":\"20240331082235\",\"ttl\":2592000,\"transientcontent\":false}}});});</script>\n",
      "<script type=\"application/ld+json\">{\"@context\":\"https:\\/\\/schema.org\",\"@type\":\"Article\",\"name\":\"Liste der gr\\u00f6\\u00dften Schiffe der Welt\",\"url\":\"https:\\/\\/de.wikipedia.org\\/wiki\\/Liste_der_gr%C3%B6%C3%9Ften_Schiffe_der_Welt\",\"sameAs\":\"http:\\/\\/www.wikidata.org\\/entity\\/Q1778295\",\"mainEntity\":\"http:\\/\\/www.wikidata.org\\/entity\\/Q1778295\",\"author\":{\"@type\":\"Organization\",\"name\":\"Autoren der Wikimedia-Projekte\"},\"publisher\":{\"@type\":\"Organization\",\"name\":\"Wikimedia Foundation, Inc.\",\"logo\":{\"@type\":\"ImageObject\",\"url\":\"https:\\/\\/www.wikimedia.org\\/static\\/images\\/wmf-hor-googpub.png\"}},\"datePublished\":\"2006-06-15T00:16:00Z\",\"image\":\"https:\\/\\/upload.wikimedia.org\\/wikipedia\\/commons\\/5\\/5b\\/Bateaux_comparaison2_with_Allure.svg\",\"headline\":\"Wikimedia-Liste\"}</script>\n",
      "</body>\n",
      "</html>\n"
     ]
    }
   ],
   "source": [
    "print(ships_html.text)"
   ],
   "metadata": {
    "collapsed": false,
    "ExecuteTime": {
     "end_time": "2024-04-04T09:37:32.686868Z",
     "start_time": "2024-04-04T09:37:32.677271Z"
    }
   },
   "execution_count": 88
  },
  {
   "cell_type": "code",
   "outputs": [
    {
     "data": {
      "text/plain": "<!DOCTYPE html>\n\n<html class=\"client-nojs\" dir=\"ltr\" lang=\"de\">\n<head>\n<meta charset=\"utf-8\"/>\n<title>Liste der größten Schiffe der Welt – Wikipedia</title>\n<script>document.documentElement.className=\"client-js\";RLCONF={\"wgBreakFrames\":false,\"wgSeparatorTransformTable\":[\",\\t.\",\".\\t,\"],\"wgDigitTransformTable\":[\"\",\"\"],\"wgDefaultDateFormat\":\"dmy\",\"wgMonthNames\":[\"\",\"Januar\",\"Februar\",\"März\",\"April\",\"Mai\",\"Juni\",\"Juli\",\"August\",\"September\",\"Oktober\",\"November\",\"Dezember\"],\"wgRequestId\":\"85d2fc8f-8e94-4b28-bad9-7c90c40ddfe3\",\"wgCanonicalNamespace\":\"\",\"wgCanonicalSpecialPageName\":false,\"wgNamespaceNumber\":0,\"wgPageName\":\"Liste_der_größten_Schiffe_der_Welt\",\"wgTitle\":\"Liste der größten Schiffe der Welt\",\"wgCurRevisionId\":241862931,\"wgRevisionId\":241862931,\"wgArticleId\":1548947,\"wgIsArticle\":true,\"wgIsRedirect\":false,\"wgAction\":\"view\",\"wgUserName\":null,\"wgUserGroups\":[\"*\"],\"wgCategories\":[\"Liste (Schiffe)\",\"Liste (technische Rekorde)\"],\"wgPageViewLanguage\":\"de\",\"wgPageContentLanguage\":\"de\",\"wgPageContentModel\":\"wikitext\",\"wgRelevantPageName\":\"Liste_der_größten_Schiffe_der_Welt\",\"wgRelevantArticleId\":1548947,\"wgIsProbablyEditable\":true,\n\"wgRelevantPageIsProbablyEditable\":true,\"wgRestrictionEdit\":[],\"wgRestrictionMove\":[],\"wgNoticeProject\":\"wikipedia\",\"wgFlaggedRevsParams\":{\"tags\":{\"accuracy\":{\"levels\":1}}},\"wgStableRevisionId\":241862931,\"wgMediaViewerOnClick\":true,\"wgMediaViewerEnabledByDefault\":true,\"wgPopupsFlags\":4,\"wgVisualEditor\":{\"pageLanguageCode\":\"de\",\"pageLanguageDir\":\"ltr\",\"pageVariantFallbacks\":\"de\"},\"wgMFDisplayWikibaseDescriptions\":{\"search\":true,\"watchlist\":true,\"tagline\":true,\"nearby\":true},\"wgWMESchemaEditAttemptStepOversample\":false,\"wgWMEPageLength\":20000,\"wgULSCurrentAutonym\":\"Deutsch\",\"wgCentralAuthMobileDomain\":false,\"wgEditSubmitButtonLabelPublish\":true,\"wgULSPosition\":\"interlanguage\",\"wgULSisCompactLinksEnabled\":true,\"wgVector2022LanguageInHeader\":false,\"wgULSisLanguageSelectorEmpty\":false,\"wgWikibaseItemId\":\"Q1778295\",\"wgCheckUserClientHintsHeadersJsApi\":[\"architecture\",\"bitness\",\"brands\",\"fullVersionList\",\"mobile\",\"model\",\"platform\",\"platformVersion\"],\"GEHomepageSuggestedEditsEnableTopics\":\ntrue,\"wgGETopicsMatchModeEnabled\":false,\"wgGEStructuredTaskRejectionReasonTextInputEnabled\":false,\"wgGELevelingUpEnabledForUser\":false};RLSTATE={\"ext.gadget.citeRef\":\"ready\",\"ext.gadget.dewikiCommonHide\":\"ready\",\"ext.gadget.dewikiCommonLayout\":\"ready\",\"ext.gadget.dewikiCommonStyle\":\"ready\",\"ext.gadget.NavFrame\":\"ready\",\"ext.globalCssJs.user.styles\":\"ready\",\"site.styles\":\"ready\",\"user.styles\":\"ready\",\"ext.globalCssJs.user\":\"ready\",\"user\":\"ready\",\"user.options\":\"loading\",\"ext.flaggedRevs.icons\":\"ready\",\"oojs-ui-core.styles\":\"ready\",\"oojs-ui.styles.indicators\":\"ready\",\"mediawiki.widgets.styles\":\"ready\",\"oojs-ui-core.icons\":\"ready\",\"ext.cite.styles\":\"ready\",\"mediawiki.page.gallery.styles\":\"ready\",\"skins.vector.styles.legacy\":\"ready\",\"jquery.tablesorter.styles\":\"ready\",\"ext.flaggedRevs.basic\":\"ready\",\"ext.visualEditor.desktopArticleTarget.noscript\":\"ready\",\"codex-search-styles\":\"ready\",\"ext.uls.interlanguage\":\"ready\",\"wikibase.client.init\":\"ready\",\"ext.wikimediaBadges\":\"ready\"};\nRLPAGEMODULES=[\"ext.cite.ux-enhancements\",\"mediawiki.page.media\",\"site\",\"mediawiki.page.ready\",\"jquery.tablesorter\",\"mediawiki.toc\",\"skins.vector.legacy.js\",\"ext.centralNotice.geoIP\",\"ext.centralNotice.startUp\",\"ext.flaggedRevs.advanced\",\"ext.gadget.createNewSection\",\"ext.gadget.WikiMiniAtlas\",\"ext.gadget.OpenStreetMap\",\"ext.gadget.CommonsDirekt\",\"ext.gadget.donateLink\",\"ext.urlShortener.toolbar\",\"ext.centralauth.centralautologin\",\"mmv.head\",\"mmv.bootstrap.autostart\",\"ext.popups\",\"ext.visualEditor.desktopArticleTarget.init\",\"ext.visualEditor.targetLoader\",\"ext.echo.centralauth\",\"ext.eventLogging\",\"ext.wikimediaEvents\",\"ext.navigationTiming\",\"ext.uls.compactlinks\",\"ext.uls.interface\",\"ext.cx.eventlogging.campaigns\",\"ext.checkUser.clientHints\",\"ext.growthExperiments.SuggestedEditSession\"];</script>\n<script>(RLQ=window.RLQ||[]).push(function(){mw.loader.impl(function(){return[\"user.options@12s5i\",function($,jQuery,require,module){mw.user.tokens.set({\"patrolToken\":\"+\\\\\",\"watchToken\":\"+\\\\\",\"csrfToken\":\"+\\\\\"});\n}];});});</script>\n<link href=\"/w/load.php?lang=de&amp;modules=codex-search-styles%7Cext.cite.styles%7Cext.flaggedRevs.basic%2Cicons%7Cext.uls.interlanguage%7Cext.visualEditor.desktopArticleTarget.noscript%7Cext.wikimediaBadges%7Cjquery.tablesorter.styles%7Cmediawiki.page.gallery.styles%7Cmediawiki.widgets.styles%7Coojs-ui-core.icons%2Cstyles%7Coojs-ui.styles.indicators%7Cskins.vector.styles.legacy%7Cwikibase.client.init&amp;only=styles&amp;skin=vector\" rel=\"stylesheet\"/>\n<script async=\"\" src=\"/w/load.php?lang=de&amp;modules=startup&amp;only=scripts&amp;raw=1&amp;skin=vector\"></script>\n<meta content=\"\" name=\"ResourceLoaderDynamicStyles\"/>\n<link href=\"/w/load.php?lang=de&amp;modules=ext.gadget.NavFrame%2CciteRef%2CdewikiCommonHide%2CdewikiCommonLayout%2CdewikiCommonStyle&amp;only=styles&amp;skin=vector\" rel=\"stylesheet\"/>\n<link href=\"/w/load.php?lang=de&amp;modules=site.styles&amp;only=styles&amp;skin=vector\" rel=\"stylesheet\"/>\n<meta content=\"MediaWiki 1.42.0-wmf.24\" name=\"generator\"/>\n<meta content=\"origin\" name=\"referrer\"/>\n<meta content=\"origin-when-cross-origin\" name=\"referrer\"/>\n<meta content=\"max-image-preview:standard\" name=\"robots\"/>\n<meta content=\"telephone=no\" name=\"format-detection\"/>\n<meta content=\"https://upload.wikimedia.org/wikipedia/commons/thumb/5/5b/Bateaux_comparaison2_with_Allure.svg/1200px-Bateaux_comparaison2_with_Allure.svg.png\" property=\"og:image\"/>\n<meta content=\"1200\" property=\"og:image:width\"/>\n<meta content=\"1130\" property=\"og:image:height\"/>\n<meta content=\"https://upload.wikimedia.org/wikipedia/commons/thumb/5/5b/Bateaux_comparaison2_with_Allure.svg/800px-Bateaux_comparaison2_with_Allure.svg.png\" property=\"og:image\"/>\n<meta content=\"800\" property=\"og:image:width\"/>\n<meta content=\"754\" property=\"og:image:height\"/>\n<meta content=\"https://upload.wikimedia.org/wikipedia/commons/thumb/5/5b/Bateaux_comparaison2_with_Allure.svg/640px-Bateaux_comparaison2_with_Allure.svg.png\" property=\"og:image\"/>\n<meta content=\"640\" property=\"og:image:width\"/>\n<meta content=\"603\" property=\"og:image:height\"/>\n<meta content=\"width=1000\" name=\"viewport\"/>\n<meta content=\"Liste der größten Schiffe der Welt – Wikipedia\" property=\"og:title\"/>\n<meta content=\"website\" property=\"og:type\"/>\n<link href=\"//upload.wikimedia.org\" rel=\"preconnect\"/>\n<link href=\"//de.m.wikipedia.org/wiki/Liste_der_gr%C3%B6%C3%9Ften_Schiffe_der_Welt\" media=\"only screen and (max-width: 720px)\" rel=\"alternate\"/>\n<link href=\"/w/index.php?title=Liste_der_gr%C3%B6%C3%9Ften_Schiffe_der_Welt&amp;action=edit\" rel=\"alternate\" title=\"Seite bearbeiten\" type=\"application/x-wiki\"/>\n<link href=\"/static/apple-touch/wikipedia.png\" rel=\"apple-touch-icon\"/>\n<link href=\"/static/favicon/wikipedia.ico\" rel=\"icon\"/>\n<link href=\"/w/opensearch_desc.php\" rel=\"search\" title=\"Wikipedia (de)\" type=\"application/opensearchdescription+xml\"/>\n<link href=\"//de.wikipedia.org/w/api.php?action=rsd\" rel=\"EditURI\" type=\"application/rsd+xml\"/>\n<link href=\"https://de.wikipedia.org/wiki/Liste_der_gr%C3%B6%C3%9Ften_Schiffe_der_Welt\" rel=\"canonical\"/>\n<link href=\"https://creativecommons.org/licenses/by-sa/4.0/deed.de\" rel=\"license\"/>\n<link href=\"/w/index.php?title=Spezial:Letzte_%C3%84nderungen&amp;feed=atom\" rel=\"alternate\" title=\"Atom-Feed für „Wikipedia“\" type=\"application/atom+xml\"/>\n<link href=\"//meta.wikimedia.org\" rel=\"dns-prefetch\">\n<link href=\"//login.wikimedia.org\" rel=\"dns-prefetch\"/>\n</link></head>\n<body class=\"skin-vector-legacy mediawiki ltr sitedir-ltr mw-hide-empty-elt ns-0 ns-subject mw-editable page-Liste_der_größten_Schiffe_der_Welt rootpage-Liste_der_größten_Schiffe_der_Welt skin-vector action-view\"><div class=\"noprint\" id=\"mw-page-base\"></div>\n<div class=\"noprint\" id=\"mw-head-base\"></div>\n<div class=\"mw-body\" id=\"content\" role=\"main\">\n<a id=\"top\"></a>\n<div id=\"siteNotice\"><!-- CentralNotice --></div>\n<div class=\"mw-indicators\">\n</div>\n<h1 class=\"firstHeading mw-first-heading\" id=\"firstHeading\"><span class=\"mw-page-title-main\">Liste der größten Schiffe der Welt</span></h1>\n<div class=\"vector-body\" id=\"bodyContent\">\n<div class=\"noprint\" id=\"siteSub\">aus Wikipedia, der freien Enzyklopädie</div>\n<div id=\"contentSub\"><div id=\"mw-content-subtitle\"></div></div>\n<div id=\"contentSub2\"></div>\n<div id=\"jump-to-nav\"></div>\n<a class=\"mw-jump-link\" href=\"#mw-head\">Zur Navigation springen</a>\n<a class=\"mw-jump-link\" href=\"#searchInput\">Zur Suche springen</a>\n<div class=\"mw-body-content\" id=\"mw-content-text\"><div class=\"mw-content-ltr mw-parser-output\" dir=\"ltr\" lang=\"de\"><figure class=\"mw-default-size\" typeof=\"mw:File/Thumb\"><a class=\"mw-file-description\" href=\"/wiki/Datei:Bateaux_comparaison2_with_Allure.svg\"><img class=\"mw-file-element\" data-file-height=\"1300\" data-file-width=\"1380\" decoding=\"async\" height=\"207\" src=\"//upload.wikimedia.org/wikipedia/commons/thumb/5/5b/Bateaux_comparaison2_with_Allure.svg/220px-Bateaux_comparaison2_with_Allure.svg.png\" srcset=\"//upload.wikimedia.org/wikipedia/commons/thumb/5/5b/Bateaux_comparaison2_with_Allure.svg/330px-Bateaux_comparaison2_with_Allure.svg.png 1.5x, //upload.wikimedia.org/wikipedia/commons/thumb/5/5b/Bateaux_comparaison2_with_Allure.svg/440px-Bateaux_comparaison2_with_Allure.svg.png 2x\" width=\"220\"/></a><figcaption>Größenvergleich einiger der größten Schiffe</figcaption></figure>\n<figure class=\"mw-default-size\" typeof=\"mw:File/Thumb\"><a class=\"mw-file-description\" href=\"/w/index.php?title=Datei:Queen_Mary_2-Titanic.svg&amp;lang=de\"><img class=\"mw-file-element\" data-file-height=\"1280\" data-file-width=\"4042\" decoding=\"async\" height=\"70\" src=\"//upload.wikimedia.org/wikipedia/commons/thumb/d/d4/Queen_Mary_2-Titanic.svg/langde-220px-Queen_Mary_2-Titanic.svg.png\" srcset=\"//upload.wikimedia.org/wikipedia/commons/thumb/d/d4/Queen_Mary_2-Titanic.svg/langde-330px-Queen_Mary_2-Titanic.svg.png 1.5x, //upload.wikimedia.org/wikipedia/commons/thumb/d/d4/Queen_Mary_2-Titanic.svg/langde-440px-Queen_Mary_2-Titanic.svg.png 2x\" width=\"220\"/></a><figcaption>Die <i><a href=\"/wiki/Queen_Mary_2\" title=\"Queen Mary 2\">Queen Mary 2</a></i> im Größenvergleich zur <i><a href=\"/wiki/Titanic_(Schiff)\" title=\"Titanic (Schiff)\">Titanic</a></i> und zum <a href=\"/wiki/Airbus_A380\" title=\"Airbus A380\">Airbus A380</a></figcaption></figure>\n<figure class=\"mw-default-size\" typeof=\"mw:File/Thumb\"><a class=\"mw-file-description\" href=\"/wiki/Datei:Hellespont_Alhambra-223713_v2.jpg\"><img class=\"mw-file-element\" data-file-height=\"787\" data-file-width=\"973\" decoding=\"async\" height=\"178\" src=\"//upload.wikimedia.org/wikipedia/commons/thumb/8/82/Hellespont_Alhambra-223713_v2.jpg/220px-Hellespont_Alhambra-223713_v2.jpg\" srcset=\"//upload.wikimedia.org/wikipedia/commons/thumb/8/82/Hellespont_Alhambra-223713_v2.jpg/330px-Hellespont_Alhambra-223713_v2.jpg 1.5x, //upload.wikimedia.org/wikipedia/commons/thumb/8/82/Hellespont_Alhambra-223713_v2.jpg/440px-Hellespont_Alhambra-223713_v2.jpg 2x\" width=\"220\"/></a><figcaption>Die spätere <i><a class=\"mw-redirect\" href=\"/wiki/TI_Asia\" title=\"TI Asia\">TI Asia</a></i>, Typschiff der größten Tanker der Erde</figcaption></figure>\n<p>In diesem Artikel sind die größten und längsten bisher gebauten <a href=\"/wiki/Schiff\" title=\"Schiff\">Schiffe</a> der Welt aufgelistet.\n</p>\n<div aria-labelledby=\"mw-toc-heading\" class=\"toc\" id=\"toc\" role=\"navigation\"><input class=\"toctogglecheckbox\" id=\"toctogglecheckbox\" role=\"button\" style=\"display:none\" type=\"checkbox\"/><div class=\"toctitle\" dir=\"ltr\" lang=\"de\"><h2 id=\"mw-toc-heading\">Inhaltsverzeichnis</h2><span class=\"toctogglespan\"><label class=\"toctogglelabel\" for=\"toctogglecheckbox\"></label></span></div>\n<ul>\n<li class=\"toclevel-1 tocsection-1\"><a href=\"#Die_größten_Schiffe_nach_Art\"><span class=\"tocnumber\">1</span> <span class=\"toctext\">Die größten Schiffe nach Art</span></a></li>\n<li class=\"toclevel-1 tocsection-2\"><a href=\"#Schiffe_mit_herausragenden_Abmessungen\"><span class=\"tocnumber\">2</span> <span class=\"toctext\">Schiffe mit herausragenden Abmessungen</span></a></li>\n<li class=\"toclevel-1 tocsection-3\"><a href=\"#Siehe_auch\"><span class=\"tocnumber\">3</span> <span class=\"toctext\">Siehe auch</span></a></li>\n<li class=\"toclevel-1 tocsection-4\"><a href=\"#Literatur\"><span class=\"tocnumber\">4</span> <span class=\"toctext\">Literatur</span></a></li>\n<li class=\"toclevel-1 tocsection-5\"><a href=\"#Anmerkung_und_Einzelnachweise\"><span class=\"tocnumber\">5</span> <span class=\"toctext\">Anmerkung und Einzelnachweise</span></a></li>\n</ul>\n</div>\n<h2><span id=\"Die_gr.C3.B6.C3.9Ften_Schiffe_nach_Art\"></span><span class=\"mw-headline\" id=\"Die_größten_Schiffe_nach_Art\">Die größten Schiffe nach Art</span><span class=\"mw-editsection\"><span class=\"mw-editsection-bracket\">[</span><a class=\"mw-editsection-visualeditor\" href=\"/w/index.php?title=Liste_der_gr%C3%B6%C3%9Ften_Schiffe_der_Welt&amp;veaction=edit&amp;section=1\" title=\"Abschnitt bearbeiten: Die größten Schiffe nach Art\"><span>Bearbeiten</span></a><span class=\"mw-editsection-divider\"> | </span><a href=\"/w/index.php?title=Liste_der_gr%C3%B6%C3%9Ften_Schiffe_der_Welt&amp;action=edit&amp;section=1\" title=\"Quellcode des Abschnitts bearbeiten: Die größten Schiffe nach Art\"><span>Quelltext bearbeiten</span></a><span class=\"mw-editsection-bracket\">]</span></span></h2>\n<table class=\"wikitable sortable zebra\">\n<caption>Größte und längste Schiffe ihrer Art\n</caption>\n<tbody><tr>\n<th>Kategorie</th>\n<th>Schiffsname\n</th></tr>\n<tr>\n<td><a href=\"/wiki/Kreuzfahrtschiff\" title=\"Kreuzfahrtschiff\">Kreuzfahrtschiff</a></td>\n<td><i><a href=\"/wiki/Icon_of_the_Seas\" title=\"Icon of the Seas\">Icon of the Seas</a><sup class=\"reference\" id=\"cite_ref-1\"><a href=\"#cite_note-1\">[1]</a></sup></i>\n</td></tr>\n<tr>\n<td><a href=\"/wiki/Segelschiff\" title=\"Segelschiff\">Segelschiff</a></td>\n<td><i><a href=\"/wiki/SY_A\" title=\"SY A\">SY A</a></i>\n</td></tr>\n<tr>\n<td><a href=\"/wiki/Frachtsegler\" title=\"Frachtsegler\">Frachtsegler</a></td>\n<td><i><a href=\"/wiki/France_(Schiff,_1912%E2%80%931922)\" title=\"France (Schiff, 1912–1922)\">France</a></i>\n</td></tr>\n<tr>\n<td><a href=\"/wiki/Eisbrecher\" title=\"Eisbrecher\">Eisbrecher</a></td>\n<td><a class=\"mw-redirect\" href=\"/wiki/Arktika_(Schiff,_2020)\" title=\"Arktika (Schiff, 2020)\"><i>Arktika</i></a>\n</td></tr>\n<tr>\n<td><a href=\"/wiki/Autof%C3%A4hre\" title=\"Autofähre\">Autofähre</a></td>\n<td><i><a href=\"/wiki/Color_Magic\" title=\"Color Magic\">Color Magic</a></i> (nach Größe (BRZ)); <i><a href=\"/wiki/Cruise_Barcelona\" title=\"Cruise Barcelona\">Cruise Barcelona</a></i> und <i><a href=\"/wiki/Cruise_Roma\" title=\"Cruise Roma\">Cruise Roma</a></i> (nach Länge)\n</td></tr>\n<tr>\n<td><a class=\"new\" href=\"/w/index.php?title=LNG-F%C3%A4hre&amp;action=edit&amp;redlink=1\" title=\"LNG-Fähre (Seite nicht vorhanden)\">LNG-Fähre</a></td>\n<td><i><a href=\"/wiki/Nils_Holgersson_(Schiff,_2022)\" title=\"Nils Holgersson (Schiff, 2022)\">Nils Holgerson</a>, <a href=\"/wiki/Peter_Pan_(Schiff,_2022)\" title=\"Peter Pan (Schiff, 2022)\">Peter Pan</a></i>\n</td></tr>\n<tr>\n<td>Kombifähre (Eisenbahn/RoRo)</td>\n<td><i><a href=\"/wiki/Sk%C3%A5ne_(Schiff,_1998)\" title=\"Skåne (Schiff, 1998)\">Skåne</a></i>\n</td></tr>\n<tr>\n<td>Autotransporter</td>\n<td><a href=\"/wiki/Mark-V-Klasse\" title=\"Mark-V-Klasse\">Tysla, Salome</a> (nach Länge und Tragfähigkeit); <a href=\"/wiki/New-Horizon-Klasse\" title=\"New-Horizon-Klasse\"><i>Höegh Target</i></a> (nach Tonnage und Fahrzeugkapazität)\n</td></tr>\n<tr>\n<td><a href=\"/wiki/Flugzeugtr%C3%A4ger\" title=\"Flugzeugträger\">Flugzeugträger</a></td>\n<td><a href=\"/wiki/USS_Gerald_R._Ford_(CVN-78)\" title=\"USS Gerald R. Ford (CVN-78)\">USS <i>Gerald R. Ford</i> (CVN-78)</a> (nach Tonnage); <a href=\"/wiki/USS_Enterprise_(CVN-65)\" title=\"USS Enterprise (CVN-65)\">USS <i>Enterprise</i> (CVN 65)</a> (nach Länge)\n</td></tr>\n<tr>\n<td><a href=\"/wiki/Schlachtschiff\" title=\"Schlachtschiff\">Schlachtschiff</a></td>\n<td><a href=\"/wiki/Yamato_(Schiff,_1941)\" title=\"Yamato (Schiff, 1941)\"><i>Yamato</i></a> und <a href=\"/wiki/Musashi_(Schiff,_1942)\" title=\"Musashi (Schiff, 1942)\"><i>Musashi</i></a>\n</td></tr>\n<tr>\n<td><a class=\"mw-redirect\" href=\"/wiki/Unterseeboot\" title=\"Unterseeboot\">Unterseeboot</a></td>\n<td><a href=\"/wiki/TK-208_Dmitri_Donskoj\" title=\"TK-208 Dmitri Donskoj\"><i>Dmitri Donskoi</i> (TK-208)</a>\n</td></tr>\n<tr>\n<td><a href=\"/wiki/Containerschiff\" title=\"Containerschiff\">Containerschiff</a></td>\n<td><a href=\"/wiki/MSC-Irina-Typ\" title=\"MSC-Irina-Typ\"><i>MSC Irina</i></a><sup class=\"reference\" id=\"cite_ref-2\"><a href=\"#cite_note-2\">[2]</a></sup><sup class=\"reference\" id=\"cite_ref-3\"><a href=\"#cite_note-3\">[3]</a></sup>\n</td></tr>\n<tr>\n<td><a class=\"mw-redirect\" href=\"/wiki/Sch%C3%BCttgutschiff\" title=\"Schüttgutschiff\">Schüttgutschiff</a></td>\n<td><i><a href=\"/wiki/Valemax-Klasse\" title=\"Valemax-Klasse\">Yuan He Hai</a></i> (Valemax-Klasse)\n</td></tr>\n<tr>\n<td><a class=\"mw-redirect\" href=\"/wiki/%C3%96ltanker\" title=\"Öltanker\">Öltanker</a> (doppelwandig)</td>\n<td><i><a href=\"/wiki/Hellespont-Alhambra-Klasse\" title=\"Hellespont-Alhambra-Klasse\">TI Europe</a></i>, <i><a href=\"/wiki/Hellespont-Alhambra-Klasse\" title=\"Hellespont-Alhambra-Klasse\">TI Oceania</a></i> <style data-mw-deduplicate=\"TemplateStyles:r236689292\">.mw-parser-output .fussnoten-marke{font-size:0.75rem;font-style:normal;font-variant:normal;font-weight:normal;unicode-bidi:isolate;white-space:nowrap}.mw-parser-output .fussnoten-marke.reference,.mw-parser-output span.fussnoten-inhalt{padding-left:0.1rem}.mw-parser-output .fussnoten-marke.reference~.fussnoten-marke.reference,.mw-parser-output span.fussnoten-inhalt~span.fussnoten-inhalt{padding-left:0.15rem}.mw-parser-output .fussnoten-block{margin-bottom:0.1rem}.mw-parser-output div.fussnoten-inhalt{display:inline-block;padding-left:0.8rem;text-indent:-0.8rem}.mw-parser-output div.fussnoten-inhalt p,.mw-parser-output div.fussnoten-inhalt dl,.mw-parser-output div.fussnoten-inhalt ol,.mw-parser-output div.fussnoten-inhalt ul{text-indent:0}.mw-parser-output div.fussnoten-inhalt.fussnoten-floatfix{display:block}.mw-parser-output .fussnoten-box{margin-top:0.5rem;padding-left:0.8rem}.mw-parser-output .fussnoten-box,.mw-parser-output div.fussnoten-inhalt{font-size:94%}.mw-parser-output .fussnoten-box div.fussnoten-inhalt,.mw-parser-output span.fussnoten-inhalt,.mw-parser-output .fussnoten-inhalt .mw-reference-text{font-size:inherit}.mw-parser-output .fussnoten-inhalt .mw-reference-text{display:inline}.mw-parser-output .fussnoten-linie{display:inline-block;position:relative;top:-1em;border-top:solid 1px #808080;width:8rem}.mw-parser-output .fussnoten-linie+p,.mw-parser-output .fussnoten-linie+dl,.mw-parser-output .fussnoten-linie+ol,.mw-parser-output .fussnoten-linie+ul,.mw-parser-output .fussnoten-linie+link+div{margin-top:-1em}.mw-parser-output .fussnoten-marke.reference:target,.mw-parser-output .fussnoten-inhalt:target{background-color:#eaf3ff;box-shadow:0 0 0 0.25em #eaf3ff}.mw-parser-output .fussnoten-marke.reference:target,.mw-parser-output .fussnoten-inhalt:target .fussnoten-marke{font-weight:bold}</style>⁠<sup class=\"fussnoten-marke reference\" id=\"FN_Anm._1_back\"><a href=\"#FNZ_Anm._1\">Anm. 1</a></sup>\n</td></tr>\n<tr>\n<td>Öltanker (einwandig)</td>\n<td><i><a href=\"/wiki/Jahre_Viking\" title=\"Jahre Viking\">Jahre Viking</a></i> <link href=\"mw-data:TemplateStyles:r236689292\" rel=\"mw-deduplicated-inline-style\"/>⁠<sup class=\"fussnoten-marke reference\" id=\"FN_Anm._2_back\"><a href=\"#FNZ_Anm._2\">Anm. 2</a></sup>; <i><a href=\"/wiki/Pierre_Guillaumat_(Schiff)\" title=\"Pierre Guillaumat (Schiff)\">Pierre Guillaumat</a></i>\n</td></tr>\n<tr>\n<td><a class=\"mw-redirect\" href=\"/wiki/Fl%C3%BCssiggastanker\" title=\"Flüssiggastanker\">Flüssiggastanker</a></td>\n<td><i><a href=\"/wiki/Nakilat_Q-Max-Klasse\" title=\"Nakilat Q-Max-Klasse\">Mozah</a></i>\n</td></tr>\n<tr>\n<td><a href=\"/wiki/Dockschiff\" title=\"Dockschiff\">Dockschiff</a></td>\n<td><i><a href=\"/wiki/Boka_Vanguard\" title=\"Boka Vanguard\">Boka Vanguard</a></i>\n</td></tr>\n<tr>\n<td><a href=\"/wiki/Schwimmkran\" title=\"Schwimmkran\">Schwimmkran</a></td>\n<td><a href=\"/wiki/Sleipnir_(Schiff)\" title=\"Sleipnir (Schiff)\"><i>Sleipnir</i></a>\n</td></tr>\n<tr>\n<td><a class=\"mw-redirect\" href=\"/wiki/Motoryacht\" title=\"Motoryacht\">Motoryacht</a></td>\n<td><i><a href=\"/wiki/REV_Ocean\" title=\"REV Ocean\">REV Ocean</a></i> (nach Länge); <i><a href=\"/wiki/Dilbar_(Schiff)\" title=\"Dilbar (Schiff)\">Dilbar</a></i> (nach Größe (BRZ))\n</td></tr>\n<tr>\n<td><a href=\"/wiki/Schlepper_(Schiffstyp)\" title=\"Schlepper (Schiffstyp)\">Schlepper</a></td>\n<td><i><a class=\"new\" href=\"/w/index.php?title=Island_Victory&amp;action=edit&amp;redlink=1\" title=\"Island Victory (Seite nicht vorhanden)\">Island Victory</a></i>\n</td></tr>\n<tr>\n<td><a href=\"/wiki/Schubboot\" title=\"Schubboot\">Schubboot</a></td>\n<td><i><a class=\"new\" href=\"/w/index.php?title=E._Bronson_Ingram&amp;action=edit&amp;redlink=1\" title=\"E. Bronson Ingram (Seite nicht vorhanden)\">E. Bronson Ingram</a></i>\n</td></tr>\n<tr>\n<td><a href=\"/wiki/Katamaran\" title=\"Katamaran\">Katamaran</a></td>\n<td><a class=\"mw-redirect\" href=\"/wiki/HSS_1500\" title=\"HSS 1500\"><i>Stena Explorer</i></a>\n</td></tr>\n<tr>\n<td><a href=\"/wiki/Seenotrettungskreuzer\" title=\"Seenotrettungskreuzer\">Seenotrettungskreuzer</a></td>\n<td><a href=\"/wiki/Hermann_Marwede_(Schiff)\" title=\"Hermann Marwede (Schiff)\"><i>Hermann Marwede</i></a>\n</td></tr>\n<tr>\n<td><a href=\"/wiki/Trimaran\" title=\"Trimaran\">Trimaran</a></td>\n<td><a href=\"/wiki/Independence_(Schiff,_2010)\" title=\"Independence (Schiff, 2010)\">USS <i>Independence</i> (LCS-2)</a>\n</td></tr>\n<tr>\n<td><a class=\"mw-redirect\" href=\"/wiki/Motorsegelschiff\" title=\"Motorsegelschiff\">Motorsegelschiff</a></td>\n<td><i><a href=\"/wiki/Club_Med_2\" title=\"Club Med 2\">Club Med 2</a></i>\n</td></tr>\n<tr>\n<td><a href=\"/wiki/Hopperbagger\" title=\"Hopperbagger\">Hopperbagger</a></td>\n<td><a href=\"/wiki/Crist%C3%B3bal-Col%C3%B3n-Klasse\" title=\"Cristóbal-Colón-Klasse\"><i>Cristóbal-Colón</i>-Klasse</a>\n</td></tr>\n<tr>\n<td><a class=\"mw-redirect\" href=\"/wiki/Segelyacht\" title=\"Segelyacht\">Segelyacht</a></td>\n<td><i><a href=\"/wiki/SY_A\" title=\"SY A\">SY A</a></i>\n</td></tr>\n<tr>\n<td><a href=\"/wiki/Arbeitsschiff\" title=\"Arbeitsschiff\">Arbeitsschiff</a></td>\n<td><i><a href=\"/wiki/Pioneering_Spirit\" title=\"Pioneering Spirit\">Pioneering Spirit</a></i>\n</td></tr>\n<tr>\n<td>Schwimmende Erdöl-/Erdgas-Förderanlagen und Verflüssigungsanlagen (FPSO / FLNG)</td>\n<td><i><a href=\"/wiki/Prelude_(Schiff)\" title=\"Prelude (Schiff)\">Prelude</a></i>\n</td></tr>\n<tr>\n<td><a href=\"/wiki/Hospitalschiff\" title=\"Hospitalschiff\">Hospitalschiff</a></td>\n<td><i><a href=\"/wiki/USNS_Comfort_(T-AH-20)\" title=\"USNS Comfort (T-AH-20)\">USNS Comfort</a></i>\n</td></tr></tbody></table>\n<link href=\"mw-data:TemplateStyles:r236689292\" rel=\"mw-deduplicated-inline-style\"/><div class=\"fussnoten-box\">\n<div aria-hidden=\"true\" class=\"fussnoten-linie\" role=\"presentation\"></div>\n<p><br/>\n</p>\n<link href=\"mw-data:TemplateStyles:r236689292\" rel=\"mw-deduplicated-inline-style\"/><div class=\"fussnoten-block\"><div class=\"fussnoten-inhalt references\" id=\"FNZ_Anm._1\"><sup class=\"fussnoten-marke\"><a href=\"#FN_Anm._1_back\">Anm. 1</a></sup> <div class=\"mw-reference-text\">Die <i>TI Europe</i> und ihr Schwesterschiff, die <i>TI Oceania</i>, sind die größten <a href=\"/wiki/Doppelh%C3%BCllenschiff\" title=\"Doppelhüllenschiff\">Doppelhüllentanker</a> der Welt. Zwei weitere Schwesterschiffe, die <i>TI Asia</i> und die <i>TI Africa</i>, wurden zu stationären Offshore-Plattformen umgebaut.</div></div></div>\n<link href=\"mw-data:TemplateStyles:r236689292\" rel=\"mw-deduplicated-inline-style\"/><div class=\"fussnoten-block\"><div class=\"fussnoten-inhalt references\" id=\"FNZ_Anm._2\"><sup class=\"fussnoten-marke\"><a href=\"#FN_Anm._2_back\">Anm. 2</a></sup> <div class=\"mw-reference-text\">Der Öltanker <i>Jahre Viking</i> war ehemals das größte und längste Schiff der Welt, er wurde später zu einer <a href=\"/wiki/Floating_Production_Storage_and_Offloading_Unit\" title=\"Floating Production Storage and Offloading Unit\">FSO</a>, einer stationären <a href=\"/wiki/Offshorebauwerk\" title=\"Offshorebauwerk\">Offshore-Plattform</a>, umgebaut und erhielt den Namen <i>Knock Nevis</i>. Die <i>Pierre Guillaumat</i> war der größte in einem Stück gebaute Tanker.</div></div></div>\n<p><br/>\n</p>\n</div>\n<p>Nach dem Abwracken der <i>Jahre Viking</i> und den 4 Schiffen der <a href=\"/wiki/Batillus-Klasse\" title=\"Batillus-Klasse\"><i>Batillus</i>-Klasse</a> waren die Containerschiffe der <a href=\"/wiki/Emma-M%C3%A6rsk-Klasse\" title=\"Emma-Mærsk-Klasse\"><i>Emma-Mærsk</i>-Klasse</a> bis 2013 die längsten Schiffe der Welt.\n</p><p>Nach <a href=\"/wiki/Schiffsma%C3%9Fe#Brutto-_und_Nettoraumzahl_(BRZ,_NRZ)\" title=\"Schiffsmaße\">Bruttoraumzahl</a> (BRZ) ist der <a href=\"/wiki/Rohrleger\" title=\"Rohrleger\">Rohrleger</a> <i><a href=\"/wiki/Pioneering_Spirit\" title=\"Pioneering Spirit\">Pioneering Spirit</a></i> das größte Schiff der Welt.\n</p>\n<ul class=\"gallery mw-gallery-traditional\">\n<li class=\"gallerybox\" style=\"width: 155px\">\n<div class=\"thumb\" style=\"width: 150px; height: 150px;\"><span typeof=\"mw:File\"><a class=\"mw-file-description\" href=\"/wiki/Datei:Freedom-of-the-Seas--in-Hamburg.jpg\" title=\"Freedom of the Seas\"><img alt=\"Freedom of the Seas\" class=\"mw-file-element\" data-file-height=\"1200\" data-file-width=\"1800\" decoding=\"async\" height=\"80\" src=\"//upload.wikimedia.org/wikipedia/commons/thumb/0/02/Freedom-of-the-Seas--in-Hamburg.jpg/120px-Freedom-of-the-Seas--in-Hamburg.jpg\" srcset=\"//upload.wikimedia.org/wikipedia/commons/thumb/0/02/Freedom-of-the-Seas--in-Hamburg.jpg/180px-Freedom-of-the-Seas--in-Hamburg.jpg 1.5x, //upload.wikimedia.org/wikipedia/commons/thumb/0/02/Freedom-of-the-Seas--in-Hamburg.jpg/240px-Freedom-of-the-Seas--in-Hamburg.jpg 2x\" width=\"120\"/></a></span></div>\n<div class=\"gallerytext\"><i><a href=\"/wiki/Freedom_of_the_Seas\" title=\"Freedom of the Seas\">Freedom of the Seas</a></i></div>\n</li>\n<li class=\"gallerybox\" style=\"width: 155px\">\n<div class=\"thumb\" style=\"width: 150px; height: 150px;\"><span typeof=\"mw:File\"><a class=\"mw-file-description\" href=\"/wiki/Datei:Royal_clipper.jpg\" title=\"Royal Clipper\"><img alt=\"Royal Clipper\" class=\"mw-file-element\" data-file-height=\"927\" data-file-width=\"1614\" decoding=\"async\" height=\"69\" src=\"//upload.wikimedia.org/wikipedia/commons/thumb/b/be/Royal_clipper.jpg/120px-Royal_clipper.jpg\" srcset=\"//upload.wikimedia.org/wikipedia/commons/thumb/b/be/Royal_clipper.jpg/180px-Royal_clipper.jpg 1.5x, //upload.wikimedia.org/wikipedia/commons/thumb/b/be/Royal_clipper.jpg/240px-Royal_clipper.jpg 2x\" width=\"120\"/></a></span></div>\n<div class=\"gallerytext\"><i><a href=\"/wiki/Royal_Clipper\" title=\"Royal Clipper\">Royal Clipper</a></i></div>\n</li>\n<li class=\"gallerybox\" style=\"width: 155px\">\n<div class=\"thumb\" style=\"width: 150px; height: 150px;\"><span typeof=\"mw:File\"><a class=\"mw-file-description\" href=\"/wiki/Datei:Queen_Mary_2_02_KMJ.jpg\" title=\"Queen Mary 2\"><img alt=\"Queen Mary 2\" class=\"mw-file-element\" data-file-height=\"343\" data-file-width=\"768\" decoding=\"async\" height=\"54\" src=\"//upload.wikimedia.org/wikipedia/commons/thumb/4/4d/Queen_Mary_2_02_KMJ.jpg/120px-Queen_Mary_2_02_KMJ.jpg\" srcset=\"//upload.wikimedia.org/wikipedia/commons/thumb/4/4d/Queen_Mary_2_02_KMJ.jpg/180px-Queen_Mary_2_02_KMJ.jpg 1.5x, //upload.wikimedia.org/wikipedia/commons/thumb/4/4d/Queen_Mary_2_02_KMJ.jpg/240px-Queen_Mary_2_02_KMJ.jpg 2x\" width=\"120\"/></a></span></div>\n<div class=\"gallerytext\"><i><a href=\"/wiki/Queen_Mary_2\" title=\"Queen Mary 2\">Queen Mary 2</a></i></div>\n</li>\n<li class=\"gallerybox\" style=\"width: 155px\">\n<div class=\"thumb\" style=\"width: 150px; height: 150px;\"><span typeof=\"mw:File\"><a class=\"mw-file-description\" href=\"/wiki/Datei:Stena_Hollandica_at_Hoek_van_Holland_Haven_aerial_photo.jpg\" title=\"Stena Hollandica\"><img alt=\"Stena Hollandica\" class=\"mw-file-element\" data-file-height=\"2588\" data-file-width=\"3882\" decoding=\"async\" height=\"80\" src=\"//upload.wikimedia.org/wikipedia/commons/thumb/c/c9/Stena_Hollandica_at_Hoek_van_Holland_Haven_aerial_photo.jpg/120px-Stena_Hollandica_at_Hoek_van_Holland_Haven_aerial_photo.jpg\" srcset=\"//upload.wikimedia.org/wikipedia/commons/thumb/c/c9/Stena_Hollandica_at_Hoek_van_Holland_Haven_aerial_photo.jpg/180px-Stena_Hollandica_at_Hoek_van_Holland_Haven_aerial_photo.jpg 1.5x, //upload.wikimedia.org/wikipedia/commons/thumb/c/c9/Stena_Hollandica_at_Hoek_van_Holland_Haven_aerial_photo.jpg/240px-Stena_Hollandica_at_Hoek_van_Holland_Haven_aerial_photo.jpg 2x\" width=\"120\"/></a></span></div>\n<div class=\"gallerytext\"><i><a href=\"/wiki/RoPax_55\" title=\"RoPax 55\">Stena Hollandica</a></i></div>\n</li>\n<li class=\"gallerybox\" style=\"width: 155px\">\n<div class=\"thumb\" style=\"width: 150px; height: 150px;\"><span typeof=\"mw:File\"><a class=\"mw-file-description\" href=\"/wiki/Datei:White_Pearl_A_Seite.JPG\" title=\"SY A\"><img alt=\"SY A\" class=\"mw-file-element\" data-file-height=\"1350\" data-file-width=\"1600\" decoding=\"async\" height=\"101\" src=\"//upload.wikimedia.org/wikipedia/commons/thumb/e/ef/White_Pearl_A_Seite.JPG/120px-White_Pearl_A_Seite.JPG\" srcset=\"//upload.wikimedia.org/wikipedia/commons/thumb/e/ef/White_Pearl_A_Seite.JPG/180px-White_Pearl_A_Seite.JPG 1.5x, //upload.wikimedia.org/wikipedia/commons/thumb/e/ef/White_Pearl_A_Seite.JPG/240px-White_Pearl_A_Seite.JPG 2x\" width=\"120\"/></a></span></div>\n<div class=\"gallerytext\"><i><a href=\"/wiki/SY_A\" title=\"SY A\">SY A</a></i></div>\n</li>\n</ul>\n<h2><span class=\"mw-headline\" id=\"Schiffe_mit_herausragenden_Abmessungen\">Schiffe mit herausragenden Abmessungen</span><span class=\"mw-editsection\"><span class=\"mw-editsection-bracket\">[</span><a class=\"mw-editsection-visualeditor\" href=\"/w/index.php?title=Liste_der_gr%C3%B6%C3%9Ften_Schiffe_der_Welt&amp;veaction=edit&amp;section=2\" title=\"Abschnitt bearbeiten: Schiffe mit herausragenden Abmessungen\"><span>Bearbeiten</span></a><span class=\"mw-editsection-divider\"> | </span><a href=\"/w/index.php?title=Liste_der_gr%C3%B6%C3%9Ften_Schiffe_der_Welt&amp;action=edit&amp;section=2\" title=\"Quellcode des Abschnitts bearbeiten: Schiffe mit herausragenden Abmessungen\"><span>Quelltext bearbeiten</span></a><span class=\"mw-editsection-bracket\">]</span></span></h2>\n<p>Eine Auswahl von zum Teil historischen Schiffen, die (zu ihrer Zeit) zu den größten Schiffen ihrer Art gehören bzw. gehörten. Die Schiffe sind in der Tabelle nach ihrer Länge sortiert, können aber durch die schwarzen Doppeldreiecke auf grauem Grund neben der Spaltenüberschrift nach jeder beliebigen Kategorie sortiert werden.\n</p>\n<table class=\"wikitable sortable toptextcells zebra\">\n<tbody><tr>\n<th>Name\n</th>\n<th>Klasse\n</th>\n<th>Art\n</th>\n<th>Besonderheit\n</th>\n<th data-sort-type=\"number\"><a href=\"/wiki/Registertonne#Bruttoregistertonne\" title=\"Registertonne\">BRT</a>\n</th>\n<th data-sort-type=\"number\"><a href=\"/wiki/Schiffsma%C3%9Fe#Brutto-_und_Nettoraumzahl_(BRZ,_NRZ)\" title=\"Schiffsmaße\">BRZ</a>\n</th>\n<th data-sort-type=\"number\"><a href=\"/wiki/Schiffsma%C3%9Fe#Verdrängung\" title=\"Schiffsmaße\">Verdr.</a> /t\n</th>\n<th data-sort-type=\"number\">Länge /m\n</th>\n<th data-sort-type=\"number\">Breite /m\n</th>\n<th data-sort-type=\"number\">Jahr<br/><small>(Dienstbeg.)</small>\n</th>\n<th>Status\n</th></tr>\n<tr>\n<td><i><a href=\"/wiki/Prelude_(Schiff)\" title=\"Prelude (Schiff)\">Prelude</a></i>\n</td>\n<td>\n</td>\n<td><a href=\"/wiki/Fl%C3%BCssigerdgas#Floating_Liquefied_Natural_Gas_(FLNG)\" title=\"Flüssigerdgas\">FLNG</a>-Plattform<sup class=\"reference\" id=\"cite_ref-4\"><a href=\"#cite_note-4\">[4]</a></sup></td>\n<td>Schwimmende, selbst-manövrierende Plattform. Im eigentlichen Sinne kein Schiff</td>\n<td>–</td>\n<td>300.000</td>\n<td>600.000</td>\n<td>488,00</td>\n<td>74,00</td>\n<td>2017</td>\n<td>in Dienst\n</td></tr>\n<tr>\n<td><i><a href=\"/wiki/Jahre_Viking\" title=\"Jahre Viking\">Jahre Viking</a></i>\n</td>\n<td>\n</td>\n<td><a href=\"/wiki/Tanker\" title=\"Tanker\">Tanker</a>, einwandig / später <a href=\"/wiki/Floating_Production_Storage_and_Offloading_Unit\" title=\"Floating Production Storage and Offloading Unit\">FSO</a></td>\n<td>(Nach Umbau) längstes jemals gebautes Schiff; später als FSO (Lager- und Umschlagstation) genutzt</td>\n<td>–</td>\n<td>260.941</td>\n<td>647.955</td>\n<td>458,45</td>\n<td>68,80</td>\n<td>1979</td>\n<td>abgewrackt\n</td></tr>\n<tr>\n<td><i><a href=\"/wiki/Pierre_Guillaumat_(Schiff)\" title=\"Pierre Guillaumat (Schiff)\">Pierre Guillaumat</a></i>\n</td>\n<td>\n</td>\n<td><a href=\"/wiki/Tanker\" title=\"Tanker\">Tanker</a>, einwandig</td>\n<td>Bis 2014 war es das längste „in einem Stück“ gebaute Schiff</td>\n<td>274.838</td>\n<td>–</td>\n<td>630.962</td>\n<td>414,23</td>\n<td>63,05</td>\n<td>1977</td>\n<td>abgewrackt\n</td></tr>\n<tr>\n<td><i>MOL Triumph</i>\n</td>\n<td><a href=\"/wiki/MOL_20.000-TEU-Typ\" title=\"MOL 20.000-TEU-Typ\">MOL 20.000-TEU-Typ</a>\n</td>\n<td><a href=\"/wiki/Containerschiff\" title=\"Containerschiff\">Containerschiff</a></td>\n<td>2017 kurzzeitig größtes Containerschiff nach BRZ und Containerzahl (TEU)</td>\n<td>–</td>\n<td>199.000</td>\n<td>?</td>\n<td>400,00</td>\n<td>58,80</td>\n<td>2017</td>\n<td>in Dienst\n</td></tr>\n<tr>\n<td><i>Majestic Mærsk</i>\n</td>\n<td><a href=\"/wiki/Triple-E-Klasse\" title=\"Triple-E-Klasse\">Triple-E-Klasse</a>\n</td>\n<td><a href=\"/wiki/Containerschiff\" title=\"Containerschiff\">Containerschiff</a></td>\n<td>Von 2013 bis 2014 längstes Containerschiff</td>\n<td>–</td>\n<td>194.849</td>\n<td>?</td>\n<td>399,00</td>\n<td>59,00</td>\n<td>2013</td>\n<td>in Dienst\n</td></tr>\n<tr>\n<td><i><a href=\"/wiki/Pioneering_Spirit\" title=\"Pioneering Spirit\">Pioneering Spirit</a></i>\n</td>\n<td>\n</td>\n<td><a href=\"/wiki/Rohrleger\" title=\"Rohrleger\">Rohrleger</a></td>\n<td>Arbeitsschiff. Größtes (nach BRZ) jemals gebautes Schiff</td>\n<td>–</td>\n<td>403.342</td>\n<td>900.000</td>\n<td>382,00</td>\n<td>123,75</td>\n<td>2014</td>\n<td>in Dienst\n</td></tr>\n<tr>\n<td><i>TI Europe</i>\n</td>\n<td><a href=\"/wiki/Hellespont-Alhambra-Klasse\" title=\"Hellespont-Alhambra-Klasse\"><i>Hellespont-Alhambra</i>-Klasse</a>\n</td>\n<td><a href=\"/wiki/Tanker\" title=\"Tanker\">Tanker</a>, <a href=\"/wiki/Doppelh%C3%BCllenschiff\" title=\"Doppelhüllenschiff\"><i>doppelwandig</i></a></td>\n<td>Größter Doppelhüllen-Tanker</td>\n<td>–</td>\n<td>234.006</td>\n<td>?</td>\n<td>380,00</td>\n<td>68,00</td>\n<td>?</td>\n<td>in Dienst\n</td></tr>\n<tr>\n<td><i><a href=\"/wiki/Nanny_(Schiff)\" title=\"Nanny (Schiff)\">Nanny</a></i>\n</td>\n<td>\n</td>\n<td><a href=\"/wiki/Tanker\" title=\"Tanker\">Tanker</a>, einwandig</td>\n<td>Breitestes je gebautes Frachtschiff</td>\n<td>–</td>\n<td>245.140</td>\n<td>?</td>\n<td>364,04</td>\n<td>79,04</td>\n<td>1978</td>\n<td>2003 abgewrackt\n</td></tr>\n<tr>\n<td><i><a href=\"/wiki/Wonder_of_the_Seas\" title=\"Wonder of the Seas\">Wonder of the Seas</a></i>\n</td>\n<td><a class=\"mw-redirect\" href=\"/wiki/Oasis-Klasse\" title=\"Oasis-Klasse\"><i>Oasis</i>-Klasse</a>\n</td>\n<td><a href=\"/wiki/Kreuzfahrtschiff\" title=\"Kreuzfahrtschiff\">Kreuzfahrtschiff</a></td>\n<td>Bis Ende 2023 größtes jemals gebautes Passagierschiff (Kreuzfahrtschiff) (nach BRZ). Seit 2024 ist <a href=\"/wiki/Icon_of_the_Seas\" title=\"Icon of the Seas\">Icon of the Seas</a> am größten.</td>\n<td>–</td>\n<td>236.857</td>\n<td>100.000</td>\n<td>362</td>\n<td>66,00 ü.A.</td>\n<td>2021</td>\n<td>in Dienst\n</td></tr>\n<tr>\n<td><i>Vale Brasil</i>\n</td>\n<td><a href=\"/wiki/Valemax-Klasse\" title=\"Valemax-Klasse\">Valemax-Klasse</a>\n</td>\n<td><a href=\"/wiki/Massengutfrachter\" title=\"Massengutfrachter\">Massengutfrachter</a></td>\n<td>Größter Schüttgutfrachter der Welt (nach Ladekapazität und Länge)</td>\n<td>–</td>\n<td>198.980</td>\n<td>?</td>\n<td>362,00</td>\n<td>65,06</td>\n<td>?</td>\n<td>in Dienst\n</td></tr>\n<tr>\n<td><i><a href=\"/wiki/Queen_Mary_2\" title=\"Queen Mary 2\">Queen Mary 2</a></i>\n</td>\n<td>\n</td>\n<td><a href=\"/wiki/Passagierschiff\" title=\"Passagierschiff\">Passagierschiff</a></td>\n<td>Größter planmäßig verkehrender Transatlantikliner. Daneben auch Einsatz als Kreuzfahrtschiff</td>\n<td>–</td>\n<td>148.528</td>\n<td>79.827</td>\n<td>345,03</td>\n<td>41,08</td>\n<td>2004</td>\n<td>in Dienst\n</td></tr>\n<tr>\n<td><a href=\"/wiki/USS_Enterprise_(CVN-65)\" title=\"USS Enterprise (CVN-65)\">USS <i>Enterprise</i></a>\n</td>\n<td>\n</td>\n<td><a href=\"/wiki/Flugzeugtr%C3%A4ger\" title=\"Flugzeugträger\">Flugzeugträger</a></td>\n<td>Längster jemals gebauter Flugzeugträger und Kriegsschiff</td>\n<td>–</td>\n<td>–</td>\n<td>75.704</td>\n<td>342,30</td>\n<td>78,30</td>\n<td>1961</td>\n<td>2012 außer Dienst\n</td></tr>\n<tr>\n<td><i><a href=\"/wiki/USS_Nimitz_(CVN-68)\" title=\"USS Nimitz (CVN-68)\">USS Nimitz</a></i>\n</td>\n<td><a href=\"/wiki/Nimitz-Klasse\" title=\"Nimitz-Klasse\"><i>Nimitz</i>-Klasse</a>\n</td>\n<td><a href=\"/wiki/Flugzeugtr%C3%A4ger\" title=\"Flugzeugträger\">Flugzeugträger</a></td>\n<td></td>\n<td>–</td>\n<td>–</td>\n<td>97.000</td>\n<td>332,85</td>\n<td>76,80</td>\n<td>1975</td>\n<td>in Dienst\n</td></tr>\n<tr>\n<td><i><a href=\"/wiki/Normandie_(Schiff,_1935)\" title=\"Normandie (Schiff, 1935)\">Normandie</a></i>\n</td>\n<td>\n</td>\n<td><a href=\"/wiki/Passagierschiff\" title=\"Passagierschiff\">Passagierschiff</a></td>\n<td>Zu ihrer Zeit das größte Schiff der Welt</td>\n<td>79.000</td>\n<td>–</td>\n<td>71.300</td>\n<td>313,58</td>\n<td>36,40</td>\n<td>1935</td>\n<td>1942 nach Brand gekentert, später geborgen und abgewrackt\n</td></tr>\n<tr>\n<td><i><a href=\"/wiki/Vaterland_(Schiff,_1914)\" title=\"Vaterland (Schiff, 1914)\">Vaterland</a></i>\n</td>\n<td><a href=\"/wiki/Imperator-Klasse\" title=\"Imperator-Klasse\"><i>Imperator</i>-Klasse</a>\n</td>\n<td><a href=\"/wiki/Passagierschiff\" title=\"Passagierschiff\">Passagierschiff</a></td>\n<td>Die <i>Vaterland</i> ist bis heute das größte jemals unter deutscher Flagge gefahrene Passagierschiff und zugleich das größte mit Kohlefeuerung betriebene Dampfschiff der Geschichte</td>\n<td>54.282</td>\n<td>–</td>\n<td>?</td>\n<td>289,56</td>\n<td>30,48</td>\n<td>1914</td>\n<td>1938 abgewrackt\n</td></tr>\n<tr>\n<td><i><a href=\"/wiki/Boka_Vanguard\" title=\"Boka Vanguard\">Boka Vanguard</a></i>\n</td>\n<td>\n</td>\n<td><a href=\"/wiki/Halbtaucher\" title=\"Halbtaucher\">Halbtaucherschiff</a></td>\n<td>Größter Schwergutfrachter</td>\n<td>–</td>\n<td>91.784</td>\n<td>?</td>\n<td>275,00</td>\n<td>78,75</td>\n<td>2013</td>\n<td>in Fahrt\n</td></tr>\n<tr>\n<td><i><a href=\"/wiki/Titanic_(Schiff)\" title=\"Titanic (Schiff)\">Titanic</a></i>\n</td>\n<td><a href=\"/wiki/Olympic-Klasse\" title=\"Olympic-Klasse\"><i>Olympic</i>-Klasse</a>\n</td>\n<td><a href=\"/wiki/Passagierschiff\" title=\"Passagierschiff\">Passagierschiff</a></td>\n<td>Zu ihrer Zeit das größte Schiff der Welt. Durch den tragischen Untergang eines der bekanntesten und berühmtesten Schiffe überhaupt</td>\n<td>46.329</td>\n<td>–</td>\n<td>53.147</td>\n<td>269,04</td>\n<td>28,19</td>\n<td>1912</td>\n<td>1912 Untergang\n</td></tr>\n<tr>\n<td><i>Tønsberg</i>\n</td>\n<td><a href=\"/wiki/Mark-V-Klasse\" title=\"Mark-V-Klasse\">Mark-V-Klasse</a>\n</td>\n<td><a href=\"/wiki/Autotransporter_(Schiffstyp)\" title=\"Autotransporter (Schiffstyp)\">Autotransporter</a></td>\n<td>Größter Autotransporter mit Ladekapazität von ca. 6.000 PKW</td>\n<td>–</td>\n<td>76.500</td>\n<td>41.820</td>\n<td>265,00</td>\n<td>32,26</td>\n<td>?</td>\n<td>in Dienst\n</td></tr>\n<tr>\n<td><i><a href=\"/wiki/Yamato_(Schiff,_1941)\" title=\"Yamato (Schiff, 1941)\">Yamato</a></i>\n</td>\n<td><a href=\"/wiki/Yamato-Klasse\" title=\"Yamato-Klasse\"><i>Yamato</i>-Klasse</a>\n</td>\n<td><a href=\"/wiki/Schlachtschiff\" title=\"Schlachtschiff\">Schlachtschiff</a></td>\n<td>Größtes jemals gebautes Schlachtschiff (nach Verdrängung und Länge)</td>\n<td>–</td>\n<td>–</td>\n<td>65.000</td>\n<td>263,00</td>\n<td>38,90</td>\n<td>1941</td>\n<td>1945 versenkt\n</td></tr>\n<tr>\n<td><i><a href=\"/wiki/HMS_Hood_(51)\" title=\"HMS Hood (51)\">HMS Hood</a></i>\n</td>\n<td>\n</td>\n<td><a href=\"/wiki/Schlachtkreuzer\" title=\"Schlachtkreuzer\">Schlachtkreuzer</a></td>\n<td>Zwischen den Weltkriegen größter und längster Schlachtkreuzer. Wurde von der <a href=\"/wiki/Bismarck_(Schiff,_1939)\" title=\"Bismarck (Schiff, 1939)\"><i>Bismarck</i></a> versenkt.</td>\n<td>–</td>\n<td>–</td>\n<td>42.600</td>\n<td>262,30</td>\n<td>32,00</td>\n<td>1918</td>\n<td>1941 versenkt\n</td></tr>\n<tr>\n<td><i><a href=\"/wiki/Bismarck_(Schiff,_1939)\" title=\"Bismarck (Schiff, 1939)\">Bismarck</a></i>\n</td>\n<td><a href=\"/wiki/Bismarck-Klasse_(1939)\" title=\"Bismarck-Klasse (1939)\"><i>Bismarck</i>-Klasse</a>\n</td>\n<td><a href=\"/wiki/Schlachtschiff\" title=\"Schlachtschiff\">Schlachtschiff</a></td>\n<td>Bei ihrer Indienststellung galt sie als das weltweit größte und kampfstärkste Schlachtschiff.</td>\n<td>–</td>\n<td>–</td>\n<td>41.700</td>\n<td>250,50</td>\n<td>36,00</td>\n<td>1939</td>\n<td>1941 versenkt\n</td></tr>\n<tr>\n<td><i><a href=\"/wiki/Stena_Scandinavica_(Schiff,_2003)\" title=\"Stena Scandinavica (Schiff, 2003)\">Stena Scandinavica</a></i>\n</td>\n<td>\n</td>\n<td><a href=\"/wiki/F%C3%A4hre\" title=\"Fähre\">Fähre</a></td>\n<td>Größte Fähre nach Länge</td>\n<td>–</td>\n<td>51.837</td>\n<td>?</td>\n<td>243,30</td>\n<td>28,70</td>\n<td>?</td>\n<td>in Dienst\n</td></tr>\n<tr>\n<td><i><a href=\"/wiki/Color_Magic\" title=\"Color Magic\">Color Magic</a></i>\n</td>\n<td>\n</td>\n<td><a href=\"/wiki/F%C3%A4hre\" title=\"Fähre\">Fähre</a></td>\n<td>Größte Fähre nach BRZ</td>\n<td>–</td>\n<td>75.156</td>\n<td>?</td>\n<td>223,75</td>\n<td>35,00</td>\n<td></td>\n<td>In Fahrt\n</td></tr>\n<tr>\n<td><i><a class=\"new\" href=\"/w/index.php?title=Crist%C3%B3bal_Col%C3%B3n_(Hopperbagger)&amp;action=edit&amp;redlink=1\" title=\"Cristóbal Colón (Hopperbagger) (Seite nicht vorhanden)\">Cristóbal Colón</a></i>\n</td>\n<td>\n</td>\n<td><a href=\"/wiki/Hopperbagger\" title=\"Hopperbagger\">Hopperbagger</a></td>\n<td>–</td>\n<td>–</td>\n<td>?</td>\n<td>78.000</td>\n<td>223,00</td>\n<td>41,00</td>\n<td>?</td>\n<td>in Dienst\n</td></tr>\n<tr>\n<td><i><a href=\"/wiki/Great_Eastern\" title=\"Great Eastern\">Great Eastern</a></i>\n</td>\n<td>\n</td>\n<td><a href=\"/wiki/Segeldampfer\" title=\"Segeldampfer\">Segeldampfer</a></td>\n<td>Seinerzeit größtes je gebautes Schiff (bis 1901)</td>\n<td>18.915</td>\n<td>–</td>\n<td>32.000</td>\n<td>211,00</td>\n<td>23,50</td>\n<td>1858</td>\n<td>1889 abgewrackt\n</td></tr>\n<tr>\n<td><i><a href=\"/wiki/Ulysses_(Schiff,_2001)\" title=\"Ulysses (Schiff, 2001)\">Ulysses</a></i>\n</td>\n<td>\n</td>\n<td><a href=\"/wiki/F%C3%A4hre\" title=\"Fähre\">Fähre</a></td>\n<td>–</td>\n<td>–</td>\n<td>50.938</td>\n<td>27.425</td>\n<td>209,02</td>\n<td>31,20</td>\n<td>2001</td>\n<td>in Dienst\n</td></tr>\n<tr>\n<td><i><a href=\"/wiki/Hughes_Glomar_Explorer\" title=\"Hughes Glomar Explorer\">Hughes Glomar Explorer</a></i>\n</td>\n<td>\n</td>\n<td><a href=\"/wiki/Bergungsschiff\" title=\"Bergungsschiff\">Bergungsschiff</a></td>\n<td>–</td>\n<td>–</td>\n<td>27.686</td>\n<td>63.000</td>\n<td>188,70</td>\n<td>35,30</td>\n<td>?</td>\n<td>2015 abgewrackt\n</td></tr>\n<tr>\n<td><i><a href=\"/wiki/Club_Med_2\" title=\"Club Med 2\">Club Med 2</a></i>\n</td>\n<td>\n</td>\n<td><a href=\"/wiki/Motorsegler_(Wasserfahrzeug)\" title=\"Motorsegler (Wasserfahrzeug)\">Motorsegelschiff</a></td>\n<td>–</td>\n<td>–</td>\n<td>19.983</td>\n<td>?</td>\n<td>187,00</td>\n<td>20,00</td>\n<td>?</td>\n<td>in Dienst\n</td></tr>\n<tr>\n<td><i><a href=\"/wiki/Azzam_(Schiff)\" title=\"Azzam (Schiff)\">Azzam</a></i>\n</td>\n<td>\n</td>\n<td><a href=\"/wiki/Motorboot\" title=\"Motorboot\">Motoryacht</a></td>\n<td>Längste private Motoryacht der Welt</td>\n<td>?</td>\n<td>?</td>\n<td>?</td>\n<td>180,0</td>\n<td>20,80</td>\n<td>2013</td>\n<td>in Dienst\n</td></tr>\n<tr>\n<td><i><a href=\"/wiki/TK-208_Dmitri_Donskoj\" title=\"TK-208 Dmitri Donskoj\">Dmitri Donskoj</a></i>\n</td>\n<td><a href=\"/wiki/Projekt_941\" title=\"Projekt 941\"><i>Typhoon</i>-Klasse</a>\n</td>\n<td><a href=\"/wiki/U-Boot\" title=\"U-Boot\">Unterseeboot</a></td>\n<td>Größtes je gebautes (Atom-)Unterseeboot (nach Verdrängung und Länge)</td>\n<td>–</td>\n<td>–</td>\n<td>23.200</td>\n<td>172,80</td>\n<td>23,30</td>\n<td>1981</td>\n<td>in Dienst\n</td></tr>\n<tr>\n<td><i><a href=\"/wiki/50_Let_Pobedy_(Schiff)\" title=\"50 Let Pobedy (Schiff)\">50 Let Pobedy</a></i>\n</td>\n<td><a href=\"/wiki/Arktika-Klasse\" title=\"Arktika-Klasse\"><i>Arktica</i>-Klasse</a>\n</td>\n<td><a href=\"/wiki/Eisbrecher\" title=\"Eisbrecher\">Eisbrecher</a></td>\n<td>Größter und leistungsfähigster Eisbrecher</td>\n<td>–</td>\n<td>23.439</td>\n<td>25.840</td>\n<td>159,60</td>\n<td>30,00</td>\n<td>2007</td>\n<td>in Dienst\n</td></tr>\n<tr>\n<td><i><a href=\"/wiki/France_(Schiff,_1912%E2%80%931922)\" title=\"France (Schiff, 1912–1922)\">France</a></i>\n</td>\n<td>\n</td>\n<td><a href=\"/wiki/Segelschiff\" title=\"Segelschiff\">Segelschiff</a> <i><a href=\"/wiki/Auxiliarsegler\" title=\"Auxiliarsegler\">Aux.</a></i> / <a href=\"/wiki/Segelschiff\" title=\"Segelschiff\">Segelschiff</a></td>\n<td>Segelschiff zunächst mit Motoren; nach Ausbau der Motoren (1919) größtes Segelschiff nach BRT</td>\n<td>5.633</td>\n<td>–</td>\n<td>10.710</td>\n<td>146,5</td>\n<td>16,90</td>\n<td>1911</td>\n<td>gestrandet\n</td></tr>\n<tr>\n<td><i><a href=\"/wiki/Preu%C3%9Fen_(Schiff,_1902)\" title=\"Preußen (Schiff, 1902)\">Preußen</a></i>\n</td>\n<td>\n</td>\n<td><a href=\"/wiki/Segelschiff\" title=\"Segelschiff\">Segelschiff</a></td>\n<td>Die <i>Preußen</i> war bis zur Inbetriebnahme des Luxuskreuzfahrtschiffes <i><a href=\"/wiki/Royal_Clipper\" title=\"Royal Clipper\">Royal Clipper</a></i> im Jahr 2000 das einzige je gebaute Fünfmast<a href=\"/wiki/Vollschiff\" title=\"Vollschiff\">vollschiff</a> und erreichte mit 47 Segeln, davon 30 <a href=\"/wiki/Rahsegel\" title=\"Rahsegel\">Rahsegeln</a>, auch das Maximum in der Anzahl der Segel. Sie zählt zu den größten Segelschiffen der Schiffahrtsgeschichte überhaupt. Sie führt u.A. die Ranglisten nach Lüa (147 m), Segelfläche (6.805 m²), Frachtmenge (8.000 t) sowie Geschwindigkeit für Frachtsegler (20 Knoten) an.</td>\n<td>5.081</td>\n<td>–</td>\n<td>11.650</td>\n<td>147,00</td>\n<td>16,34</td>\n<td>1902</td>\n<td>gestrandet\n</td></tr>\n<tr>\n<td><i><a href=\"/wiki/Royal_Clipper\" title=\"Royal Clipper\">Royal Clipper</a></i>\n</td>\n<td>\n</td>\n<td><a href=\"/wiki/Segelschiff\" title=\"Segelschiff\">Segelschiff</a> <i><a href=\"/wiki/Auxiliarsegler\" title=\"Auxiliarsegler\">Aux.</a></i></td>\n<td>Bisher neben ihrem Vorbild, der <i>Preußen</i>, einziges Fünfmastvollschiff der Welt</td>\n<td>–</td>\n<td>4.425</td>\n<td>?</td>\n<td>133,74</td>\n<td>16,28</td>\n<td>?</td>\n<td>in Dienst\n</td></tr>\n<tr>\n<td><i>Stena Explorer</i>\n</td>\n<td><a href=\"/wiki/High-Speed_Sea_Service\" title=\"High-Speed Sea Service\">HSS 1500-Klasse</a>\n</td>\n<td><a href=\"/wiki/Autof%C3%A4hre#Seegehende_Autofähren\" title=\"Autofähre\">Fährkatamaran</a></td>\n<td>–</td>\n<td>–</td>\n<td>19.638</td>\n<td>?</td>\n<td>126,60</td>\n<td>40,00</td>\n<td>?</td>\n<td>in Dienst\n</td></tr>\n<tr>\n<td><i><a class=\"mw-redirect\" href=\"/wiki/Far_Samson\" title=\"Far Samson\">Far Samson</a></i>\n</td>\n<td>\n</td>\n<td><a href=\"/wiki/Schlepper_(Schiffstyp)\" title=\"Schlepper (Schiffstyp)\">Schlepper</a></td>\n<td>Stärkster Schlepper (Pfahlzugkraft 423 to)</td>\n<td>–</td>\n<td>14.740</td>\n<td>–</td>\n<td>121,5</td>\n<td>26,00</td>\n<td>2009</td>\n<td>in Dienst\n</td></tr>\n<tr>\n<td><i><a href=\"/wiki/Hermann_Marwede_(Schiff)\" title=\"Hermann Marwede (Schiff)\">Hermann Marwede</a></i>\n</td>\n<td>\n</td>\n<td><a href=\"/wiki/Seenotrettungskreuzer\" title=\"Seenotrettungskreuzer\">Seenotrettungskreuzer</a></td>\n<td>Größter Seenotkreuzer nach BRZ</td>\n<td>–</td>\n<td>?</td>\n<td>404</td>\n<td>46,00</td>\n<td>10,25</td>\n<td>2003</td>\n<td>in Dienst\n</td></tr>\n<tr>\n<td><i><a href=\"/wiki/Baron_of_Renfrew_(Schiff)\" title=\"Baron of Renfrew (Schiff)\">Baron of Renfrew</a></i>\n</td>\n<td>\n</td>\n<td><a href=\"/wiki/Einwegschiff\" title=\"Einwegschiff\">Einwegschiff</a></td>\n<td>Das größte je gebaute Holzschiff. War als Einwegschiff nur für eine einmalige Fahrt gebaut, danach wurde das Schiff als Bauholz verwendet.</td>\n<td>5.294</td>\n<td>–</td>\n<td>?</td>\n<td>110,80</td>\n<td>18,59</td>\n<td>1825</td>\n<td>1825 gestrandet und abgewrackt\n</td></tr></tbody></table>\n<h2><span class=\"mw-headline\" id=\"Siehe_auch\">Siehe auch</span><span class=\"mw-editsection\"><span class=\"mw-editsection-bracket\">[</span><a class=\"mw-editsection-visualeditor\" href=\"/w/index.php?title=Liste_der_gr%C3%B6%C3%9Ften_Schiffe_der_Welt&amp;veaction=edit&amp;section=3\" title=\"Abschnitt bearbeiten: Siehe auch\"><span>Bearbeiten</span></a><span class=\"mw-editsection-divider\"> | </span><a href=\"/w/index.php?title=Liste_der_gr%C3%B6%C3%9Ften_Schiffe_der_Welt&amp;action=edit&amp;section=3\" title=\"Quellcode des Abschnitts bearbeiten: Siehe auch\"><span>Quelltext bearbeiten</span></a><span class=\"mw-editsection-bracket\">]</span></span></h2>\n<ul><li><a class=\"mw-redirect\" href=\"/wiki/Liste_der_gr%C3%B6%C3%9Ften_Holzschiffe_der_Welt\" title=\"Liste der größten Holzschiffe der Welt\">Liste der größten Holzschiffe der Welt</a></li>\n<li><a href=\"/wiki/Liste_von_Kreuzfahrtschiffen\" title=\"Liste von Kreuzfahrtschiffen\">Liste von Kreuzfahrtschiffen</a></li>\n<li><a class=\"mw-redirect\" href=\"/wiki/Liste_der_gr%C3%B6%C3%9Ften_Segelschiffe_der_Welt\" title=\"Liste der größten Segelschiffe der Welt\">Liste der größten Segelschiffe der Welt</a></li></ul>\n<h2><span class=\"mw-headline\" id=\"Literatur\">Literatur</span><span class=\"mw-editsection\"><span class=\"mw-editsection-bracket\">[</span><a class=\"mw-editsection-visualeditor\" href=\"/w/index.php?title=Liste_der_gr%C3%B6%C3%9Ften_Schiffe_der_Welt&amp;veaction=edit&amp;section=4\" title=\"Abschnitt bearbeiten: Literatur\"><span>Bearbeiten</span></a><span class=\"mw-editsection-divider\"> | </span><a href=\"/w/index.php?title=Liste_der_gr%C3%B6%C3%9Ften_Schiffe_der_Welt&amp;action=edit&amp;section=4\" title=\"Quellcode des Abschnitts bearbeiten: Literatur\"><span>Quelltext bearbeiten</span></a><span class=\"mw-editsection-bracket\">]</span></span></h2>\n<ul><li>Joachim W. Pein: <i>Giganten der Meere. Die größten Tankschiffe der Welt.</i> Koehlers Verlagsgesellschaft, Hamburg 2011.</li></ul>\n<h2><span class=\"mw-headline\" id=\"Anmerkung_und_Einzelnachweise\">Anmerkung und Einzelnachweise</span><span class=\"mw-editsection\"><span class=\"mw-editsection-bracket\">[</span><a class=\"mw-editsection-visualeditor\" href=\"/w/index.php?title=Liste_der_gr%C3%B6%C3%9Ften_Schiffe_der_Welt&amp;veaction=edit&amp;section=5\" title=\"Abschnitt bearbeiten: Anmerkung und Einzelnachweise\"><span>Bearbeiten</span></a><span class=\"mw-editsection-divider\"> | </span><a href=\"/w/index.php?title=Liste_der_gr%C3%B6%C3%9Ften_Schiffe_der_Welt&amp;action=edit&amp;section=5\" title=\"Quellcode des Abschnitts bearbeiten: Anmerkung und Einzelnachweise\"><span>Quelltext bearbeiten</span></a><span class=\"mw-editsection-bracket\">]</span></span></h2>\n<ol class=\"references\">\n<li id=\"cite_note-1\"><span class=\"mw-cite-backlink\"><a href=\"#cite_ref-1\">↑</a></span> <span class=\"reference-text\"><span class=\"cite\"><a class=\"external text\" href=\"https://www.cruisetricks.de/die-groessten-kreuzfahrtschiffe-der-welt/\" rel=\"nofollow\"><i>Die 25 größten Kreuzfahrtschiffe der Welt.</i></a><span class=\"Abrufdatum\"> Abgerufen am 29. November 2023</span>.</span><span class=\"Z3988\" style=\"display: none;\" title=\"ctx_ver=Z39.88-2004&amp;rft_val_fmt=info%3Aofi%2Ffmt%3Akev%3Amtx%3Adc&amp;rfr_id=info%3Asid%2Fde.wikipedia.org%3AListe+der+gr%C3%B6%C3%9Ften+Schiffe+der+Welt&amp;rft.title=Die+25+gr%C3%B6%C3%9Ften+Kreuzfahrtschiffe+der+Welt&amp;rft.description=Die+25+gr%C3%B6%C3%9Ften+Kreuzfahrtschiffe+der+Welt&amp;rft.identifier=https%3A%2F%2Fwww.cruisetricks.de%2Fdie-groessten-kreuzfahrtschiffe-der-welt%2F&amp;rft.language=de\"> </span></span>\n</li>\n<li id=\"cite_note-2\"><span class=\"mw-cite-backlink\"><a href=\"#cite_ref-2\">↑</a></span> <span class=\"reference-text\"><span class=\"cite\"><a class=\"external text\" href=\"https://maritime-executive.com/article/msc-receives-second-ultra-large-and-this-one-is-the-world-s-largest\" rel=\"nofollow\"><i>MSC Takes Delivery of the World's Biggest Ultra Large Container Ship.</i></a><span class=\"Abrufdatum\"> Abgerufen am 15. März 2023</span> (englisch).</span><span class=\"Z3988\" style=\"display: none;\" title=\"ctx_ver=Z39.88-2004&amp;rft_val_fmt=info%3Aofi%2Ffmt%3Akev%3Amtx%3Adc&amp;rfr_id=info%3Asid%2Fde.wikipedia.org%3AListe+der+gr%C3%B6%C3%9Ften+Schiffe+der+Welt&amp;rft.title=MSC+Takes+Delivery+of+the+World%27s+Biggest+Ultra+Large+Container+Ship&amp;rft.description=MSC+Takes+Delivery+of+the+World%27s+Biggest+Ultra+Large+Container+Ship&amp;rft.identifier=https%3A%2F%2Fmaritime-executive.com%2Farticle%2Fmsc-receives-second-ultra-large-and-this-one-is-the-world-s-largest&amp;rft.language=en\"> </span></span>\n</li>\n<li id=\"cite_note-3\"><span class=\"mw-cite-backlink\"><a href=\"#cite_ref-3\">↑</a></span> <span class=\"reference-text\"><span class=\"cite\"><a class=\"external text\" href=\"https://vesselregister.dnv.com/vesselregister/details/42806\" rel=\"nofollow\"><i>DNV Vessel Register.</i></a><span class=\"Abrufdatum\"> Abgerufen am 15. März 2023</span>.</span><span class=\"Z3988\" style=\"display: none;\" title=\"ctx_ver=Z39.88-2004&amp;rft_val_fmt=info%3Aofi%2Ffmt%3Akev%3Amtx%3Adc&amp;rfr_id=info%3Asid%2Fde.wikipedia.org%3AListe+der+gr%C3%B6%C3%9Ften+Schiffe+der+Welt&amp;rft.title=DNV+Vessel+Register&amp;rft.description=DNV+Vessel+Register&amp;rft.identifier=https%3A%2F%2Fvesselregister.dnv.com%2Fvesselregister%2Fdetails%2F42806\"> </span></span>\n</li>\n<li id=\"cite_note-4\"><span class=\"mw-cite-backlink\"><a href=\"#cite_ref-4\">↑</a></span> <span class=\"reference-text\"><span class=\"cite\"><a class=\"external text\" href=\"http://www.vesselfinder.com/news/1488-VIDEO-BIGGEST-SHIP-in-the-WORLD-but-not-MAERSK-MC-KINNEY-MOLLER\" rel=\"nofollow\"><i>VIDEO: Biggest ship in the world, but not Maersk Mc-Kinney Møller.</i></a><span class=\"Abrufdatum\"> Abgerufen am 9. März 2014</span>.</span><span class=\"Z3988\" style=\"display: none;\" title=\"ctx_ver=Z39.88-2004&amp;rft_val_fmt=info%3Aofi%2Ffmt%3Akev%3Amtx%3Adc&amp;rfr_id=info%3Asid%2Fde.wikipedia.org%3AListe+der+gr%C3%B6%C3%9Ften+Schiffe+der+Welt&amp;rft.title=VIDEO%3A+Biggest+ship+in+the+world%2C+but+not+Maersk+Mc-Kinney+M%C3%B8ller&amp;rft.description=VIDEO%3A+Biggest+ship+in+the+world%2C+but+not+Maersk+Mc-Kinney+M%C3%B8ller&amp;rft.identifier=http%3A%2F%2Fwww.vesselfinder.com%2Fnews%2F1488-VIDEO-BIGGEST-SHIP-in-the-WORLD-but-not-MAERSK-MC-KINNEY-MOLLER\"> </span></span>\n</li>\n</ol></div><!--esi <esi:include src=\"/esitest-fa8a495983347898/content\" /> --><noscript><img alt=\"\" height=\"1\" src=\"https://login.wikimedia.org/wiki/Special:CentralAutoLogin/start?type=1x1\" style=\"border: none; position: absolute;\" width=\"1\"/></noscript>\n<div class=\"printfooter\" data-nosnippet=\"\">Abgerufen von „<a dir=\"ltr\" href=\"https://de.wikipedia.org/w/index.php?title=Liste_der_größten_Schiffe_der_Welt&amp;oldid=241862931\">https://de.wikipedia.org/w/index.php?title=Liste_der_größten_Schiffe_der_Welt&amp;oldid=241862931</a>“</div></div>\n<div class=\"catlinks\" data-mw=\"interface\" id=\"catlinks\"><div class=\"mw-normal-catlinks\" id=\"mw-normal-catlinks\"><a href=\"/wiki/Wikipedia:Kategorien\" title=\"Wikipedia:Kategorien\">Kategorien</a>: <ul><li><a href=\"/wiki/Kategorie:Liste_(Schiffe)\" title=\"Kategorie:Liste (Schiffe)\">Liste (Schiffe)</a></li><li><a href=\"/wiki/Kategorie:Liste_(technische_Rekorde)\" title=\"Kategorie:Liste (technische Rekorde)\">Liste (technische Rekorde)</a></li></ul></div></div>\n</div>\n</div>\n<div id=\"mw-navigation\">\n<h2>Navigationsmenü</h2>\n<div id=\"mw-head\">\n<nav aria-labelledby=\"p-personal-label\" class=\"mw-portlet mw-portlet-personal vector-user-menu-legacy vector-menu\" id=\"p-personal\" role=\"navigation\">\n<h3 class=\"vector-menu-heading\" id=\"p-personal-label\">\n<span class=\"vector-menu-heading-label\">Meine Werkzeuge</span>\n</h3>\n<div class=\"vector-menu-content\">\n<ul class=\"vector-menu-content-list\">\n<li class=\"mw-list-item\" id=\"pt-anonuserpage\"><span title=\"Benutzerseite der IP-Adresse, von der aus du Änderungen durchführst\">Nicht angemeldet</span></li><li class=\"mw-list-item\" id=\"pt-anontalk\"><a accesskey=\"n\" href=\"/wiki/Spezial:Meine_Diskussionsseite\" title=\"Diskussion über Änderungen von dieser IP-Adresse [n]\"><span>Diskussionsseite</span></a></li><li class=\"mw-list-item\" id=\"pt-anoncontribs\"><a accesskey=\"y\" href=\"/wiki/Spezial:Meine_Beitr%C3%A4ge\" title=\"Eine Liste der Bearbeitungen, die von dieser IP-Adresse gemacht wurden [y]\"><span>Beiträge</span></a></li><li class=\"mw-list-item\" id=\"pt-createaccount\"><a href=\"/w/index.php?title=Spezial:Benutzerkonto_anlegen&amp;returnto=Liste+der+gr%C3%B6%C3%9Ften+Schiffe+der+Welt\" title=\"Wir ermutigen dich dazu, ein Benutzerkonto zu erstellen und dich anzumelden. Es ist jedoch nicht zwingend erforderlich.\"><span>Benutzerkonto erstellen</span></a></li><li class=\"mw-list-item\" id=\"pt-login\"><a accesskey=\"o\" href=\"/w/index.php?title=Spezial:Anmelden&amp;returnto=Liste+der+gr%C3%B6%C3%9Ften+Schiffe+der+Welt\" title=\"Anmelden ist zwar keine Pflicht, wird aber gerne gesehen. [o]\"><span>Anmelden</span></a></li>\n</ul>\n</div>\n</nav>\n<div id=\"left-navigation\">\n<nav aria-labelledby=\"p-namespaces-label\" class=\"mw-portlet mw-portlet-namespaces vector-menu-tabs vector-menu-tabs-legacy vector-menu\" id=\"p-namespaces\" role=\"navigation\">\n<h3 class=\"vector-menu-heading\" id=\"p-namespaces-label\">\n<span class=\"vector-menu-heading-label\">Namensräume</span>\n</h3>\n<div class=\"vector-menu-content\">\n<ul class=\"vector-menu-content-list\">\n<li class=\"selected mw-list-item\" id=\"ca-nstab-main\"><a accesskey=\"c\" href=\"/wiki/Liste_der_gr%C3%B6%C3%9Ften_Schiffe_der_Welt\" title=\"Seiteninhalt anzeigen [c]\"><span>Artikel</span></a></li><li class=\"mw-list-item\" id=\"ca-talk\"><a accesskey=\"t\" href=\"/wiki/Diskussion:Liste_der_gr%C3%B6%C3%9Ften_Schiffe_der_Welt\" rel=\"discussion\" title=\"Diskussion zum Seiteninhalt [t]\"><span>Diskussion</span></a></li>\n</ul>\n</div>\n</nav>\n<nav aria-labelledby=\"p-variants-label\" class=\"mw-portlet mw-portlet-variants emptyPortlet vector-menu-dropdown vector-menu\" id=\"p-variants\" role=\"navigation\">\n<input aria-haspopup=\"true\" aria-labelledby=\"p-variants-label\" class=\"vector-menu-checkbox\" data-event-name=\"ui.dropdown-p-variants\" id=\"p-variants-checkbox\" role=\"button\" type=\"checkbox\"/>\n<label class=\"vector-menu-heading\" id=\"p-variants-label\">\n<span class=\"vector-menu-heading-label\">Deutsch</span>\n</label>\n<div class=\"vector-menu-content\">\n<ul class=\"vector-menu-content-list\">\n</ul>\n</div>\n</nav>\n</div>\n<div id=\"right-navigation\">\n<nav aria-labelledby=\"p-views-label\" class=\"mw-portlet mw-portlet-views vector-menu-tabs vector-menu-tabs-legacy vector-menu\" id=\"p-views\" role=\"navigation\">\n<h3 class=\"vector-menu-heading\" id=\"p-views-label\">\n<span class=\"vector-menu-heading-label\">Ansichten</span>\n</h3>\n<div class=\"vector-menu-content\">\n<ul class=\"vector-menu-content-list\">\n<li class=\"selected mw-list-item\" id=\"ca-view\"><a href=\"/wiki/Liste_der_gr%C3%B6%C3%9Ften_Schiffe_der_Welt\"><span>Lesen</span></a></li><li class=\"mw-list-item\" id=\"ca-ve-edit\"><a accesskey=\"v\" href=\"/w/index.php?title=Liste_der_gr%C3%B6%C3%9Ften_Schiffe_der_Welt&amp;veaction=edit\" title=\"Diese Seite mit dem VisualEditor bearbeiten [v]\"><span>Bearbeiten</span></a></li><li class=\"collapsible mw-list-item\" id=\"ca-edit\"><a accesskey=\"e\" href=\"/w/index.php?title=Liste_der_gr%C3%B6%C3%9Ften_Schiffe_der_Welt&amp;action=edit\" title=\"Den Quelltext dieser Seite bearbeiten [e]\"><span>Quelltext bearbeiten</span></a></li><li class=\"mw-list-item\" id=\"ca-history\"><a accesskey=\"h\" href=\"/w/index.php?title=Liste_der_gr%C3%B6%C3%9Ften_Schiffe_der_Welt&amp;action=history\" title=\"Frühere Versionen dieser Seite [h]\"><span>Versionsgeschichte</span></a></li>\n</ul>\n</div>\n</nav>\n<nav aria-labelledby=\"p-cactions-label\" class=\"mw-portlet mw-portlet-cactions emptyPortlet vector-menu-dropdown vector-menu\" id=\"p-cactions\" role=\"navigation\" title=\"Weitere Optionen\">\n<input aria-haspopup=\"true\" aria-labelledby=\"p-cactions-label\" class=\"vector-menu-checkbox\" data-event-name=\"ui.dropdown-p-cactions\" id=\"p-cactions-checkbox\" role=\"button\" type=\"checkbox\"/>\n<label class=\"vector-menu-heading\" id=\"p-cactions-label\">\n<span class=\"vector-menu-heading-label\">Weitere</span>\n</label>\n<div class=\"vector-menu-content\">\n<ul class=\"vector-menu-content-list\">\n</ul>\n</div>\n</nav>\n<div class=\"vector-search-box-vue vector-search-box-show-thumbnail vector-search-box-auto-expand-width vector-search-box\" id=\"p-search\" role=\"search\">\n<h3>Suche</h3>\n<form action=\"/w/index.php\" class=\"vector-search-box-form\" id=\"searchform\">\n<div class=\"vector-search-box-inner\" data-search-loc=\"header-navigation\" id=\"simpleSearch\">\n<input accesskey=\"f\" aria-label=\"Wikipedia durchsuchen\" autocapitalize=\"sentences\" class=\"vector-search-box-input\" id=\"searchInput\" name=\"search\" placeholder=\"Wikipedia durchsuchen\" title=\"Durchsuche die Wikipedia [f]\" type=\"search\"/>\n<input name=\"title\" type=\"hidden\" value=\"Spezial:Suche\"/>\n<input class=\"searchButton mw-fallbackSearchButton\" id=\"mw-searchButton\" name=\"fulltext\" title=\"Suche nach Seiten, die diesen Text enthalten\" type=\"submit\" value=\"Suchen\"/>\n<input class=\"searchButton\" id=\"searchButton\" name=\"go\" title=\"Gehe direkt zu der Seite mit genau diesem Namen, falls sie vorhanden ist.\" type=\"submit\" value=\"Artikel\"/>\n</div>\n</form>\n</div>\n</div>\n</div>\n<div class=\"vector-legacy-sidebar\" id=\"mw-panel\">\n<div id=\"p-logo\" role=\"banner\">\n<a class=\"mw-wiki-logo\" href=\"/wiki/Wikipedia:Hauptseite\" title=\"Hauptseite\"></a>\n</div>\n<nav aria-labelledby=\"p-navigation-label\" class=\"mw-portlet mw-portlet-navigation vector-menu-portal portal vector-menu\" id=\"p-navigation\" role=\"navigation\">\n<h3 class=\"vector-menu-heading\" id=\"p-navigation-label\">\n<span class=\"vector-menu-heading-label\">Navigation</span>\n</h3>\n<div class=\"vector-menu-content\">\n<ul class=\"vector-menu-content-list\">\n<li class=\"mw-list-item\" id=\"n-mainpage-description\"><a accesskey=\"z\" href=\"/wiki/Wikipedia:Hauptseite\" title=\"Hauptseite besuchen [z]\"><span>Hauptseite</span></a></li><li class=\"mw-list-item\" id=\"n-topics\"><a href=\"/wiki/Portal:Wikipedia_nach_Themen\"><span>Themenportale</span></a></li><li class=\"mw-list-item\" id=\"n-randompage\"><a accesskey=\"x\" href=\"/wiki/Spezial:Zuf%C3%A4llige_Seite\" title=\"Zufällige Seite aufrufen [x]\"><span>Zufälliger Artikel</span></a></li>\n</ul>\n</div>\n</nav>\n<nav aria-labelledby=\"p-Mitmachen-label\" class=\"mw-portlet mw-portlet-Mitmachen vector-menu-portal portal vector-menu\" id=\"p-Mitmachen\" role=\"navigation\">\n<h3 class=\"vector-menu-heading\" id=\"p-Mitmachen-label\">\n<span class=\"vector-menu-heading-label\">Mitmachen</span>\n</h3>\n<div class=\"vector-menu-content\">\n<ul class=\"vector-menu-content-list\">\n<li class=\"mw-list-item\" id=\"n-Artikel-verbessern\"><a href=\"/wiki/Wikipedia:Beteiligen\"><span>Artikel verbessern</span></a></li><li class=\"mw-list-item\" id=\"n-Neuerartikel\"><a href=\"/wiki/Hilfe:Neuen_Artikel_anlegen\"><span>Neuen Artikel anlegen</span></a></li><li class=\"mw-list-item\" id=\"n-portal\"><a href=\"/wiki/Wikipedia:Autorenportal\" title=\"Info-Zentrum über Beteiligungsmöglichkeiten\"><span>Autorenportal</span></a></li><li class=\"mw-list-item\" id=\"n-help\"><a href=\"/wiki/Hilfe:%C3%9Cbersicht\" title=\"Übersicht über Hilfeseiten\"><span>Hilfe</span></a></li><li class=\"mw-list-item\" id=\"n-recentchanges\"><a accesskey=\"r\" href=\"/wiki/Spezial:Letzte_%C3%84nderungen\" title=\"Liste der letzten Änderungen in Wikipedia [r]\"><span>Letzte Änderungen</span></a></li><li class=\"mw-list-item\" id=\"n-contact\"><a href=\"/wiki/Wikipedia:Kontakt\" title=\"Kontaktmöglichkeiten\"><span>Kontakt</span></a></li><li class=\"mw-list-item\" id=\"n-sitesupport\"><a href=\"//donate.wikimedia.org/wiki/Special:FundraiserRedirector?utm_source=donate&amp;utm_medium=sidebar&amp;utm_campaign=C13_de.wikipedia.org&amp;uselang=de\" title=\"Unterstütze uns\"><span>Spenden</span></a></li>\n</ul>\n</div>\n</nav>\n<nav aria-labelledby=\"p-tb-label\" class=\"mw-portlet mw-portlet-tb vector-menu-portal portal vector-menu\" id=\"p-tb\" role=\"navigation\">\n<h3 class=\"vector-menu-heading\" id=\"p-tb-label\">\n<span class=\"vector-menu-heading-label\">Werkzeuge</span>\n</h3>\n<div class=\"vector-menu-content\">\n<ul class=\"vector-menu-content-list\">\n<li class=\"mw-list-item\" id=\"t-whatlinkshere\"><a accesskey=\"j\" href=\"/wiki/Spezial:Linkliste/Liste_der_gr%C3%B6%C3%9Ften_Schiffe_der_Welt\" title=\"Liste aller Seiten, die hierher verlinken [j]\"><span>Links auf diese Seite</span></a></li><li class=\"mw-list-item\" id=\"t-recentchangeslinked\"><a accesskey=\"k\" href=\"/wiki/Spezial:%C3%84nderungen_an_verlinkten_Seiten/Liste_der_gr%C3%B6%C3%9Ften_Schiffe_der_Welt\" rel=\"nofollow\" title=\"Letzte Änderungen an Seiten, die von hier verlinkt sind [k]\"><span>Änderungen an verlinkten Seiten</span></a></li><li class=\"mw-list-item\" id=\"t-specialpages\"><a accesskey=\"q\" href=\"/wiki/Spezial:Spezialseiten\" title=\"Liste aller Spezialseiten [q]\"><span>Spezialseiten</span></a></li><li class=\"mw-list-item\" id=\"t-permalink\"><a href=\"/w/index.php?title=Liste_der_gr%C3%B6%C3%9Ften_Schiffe_der_Welt&amp;oldid=241862931\" title=\"Dauerhafter Link zu dieser Seitenversion\"><span>Permanenter Link</span></a></li><li class=\"mw-list-item\" id=\"t-info\"><a href=\"/w/index.php?title=Liste_der_gr%C3%B6%C3%9Ften_Schiffe_der_Welt&amp;action=info\" title=\"Weitere Informationen über diese Seite\"><span>Seiten­­informationen</span></a></li><li class=\"mw-list-item\" id=\"t-cite\"><a href=\"/w/index.php?title=Spezial:Zitierhilfe&amp;page=Liste_der_gr%C3%B6%C3%9Ften_Schiffe_der_Welt&amp;id=241862931&amp;wpFormIdentifier=titleform\" title=\"Hinweise, wie diese Seite zitiert werden kann\"><span>Artikel zitieren</span></a></li><li class=\"mw-list-item\" id=\"t-urlshortener\"><a href=\"/w/index.php?title=Spezial:URL-K%C3%BCrzung&amp;url=https%3A%2F%2Fde.wikipedia.org%2Fwiki%2FListe_der_gr%25C3%25B6%25C3%259Ften_Schiffe_der_Welt\"><span>Kurzlink</span></a></li><li class=\"mw-list-item\" id=\"t-urlshortener-qrcode\"><a href=\"/w/index.php?title=Spezial:QrCode&amp;url=https%3A%2F%2Fde.wikipedia.org%2Fwiki%2FListe_der_gr%25C3%25B6%25C3%259Ften_Schiffe_der_Welt\"><span>QR-Code herunterladen</span></a></li><li class=\"mw-list-item\" id=\"t-wikibase\"><a accesskey=\"g\" href=\"https://www.wikidata.org/wiki/Special:EntityPage/Q1778295\" title=\"Link zum verbundenen Objekt im Datenrepositorium [g]\"><span>Wikidata-Datenobjekt</span></a></li>\n</ul>\n</div>\n</nav>\n<nav aria-labelledby=\"p-coll-print_export-label\" class=\"mw-portlet mw-portlet-coll-print_export vector-menu-portal portal vector-menu\" id=\"p-coll-print_export\" role=\"navigation\">\n<h3 class=\"vector-menu-heading\" id=\"p-coll-print_export-label\">\n<span class=\"vector-menu-heading-label\">Drucken/​exportieren</span>\n</h3>\n<div class=\"vector-menu-content\">\n<ul class=\"vector-menu-content-list\">\n<li class=\"mw-list-item\" id=\"coll-create_a_book\"><a href=\"/w/index.php?title=Spezial:Buch&amp;bookcmd=book_creator&amp;referer=Liste+der+gr%C3%B6%C3%9Ften+Schiffe+der+Welt\"><span>Buch erstellen</span></a></li><li class=\"mw-list-item\" id=\"coll-download-as-rl\"><a href=\"/w/index.php?title=Spezial:DownloadAsPdf&amp;page=Liste_der_gr%C3%B6%C3%9Ften_Schiffe_der_Welt&amp;action=show-download-screen\"><span>Als PDF herunterladen</span></a></li><li class=\"mw-list-item\" id=\"t-print\"><a accesskey=\"p\" href=\"/w/index.php?title=Liste_der_gr%C3%B6%C3%9Ften_Schiffe_der_Welt&amp;printable=yes\" title=\"Druckansicht dieser Seite [p]\"><span>Druckversion</span></a></li>\n</ul>\n</div>\n</nav>\n<nav aria-labelledby=\"p-lang-label\" class=\"mw-portlet mw-portlet-lang vector-menu-portal portal vector-menu\" id=\"p-lang\" role=\"navigation\">\n<h3 class=\"vector-menu-heading\" id=\"p-lang-label\">\n<span class=\"vector-menu-heading-label\">In anderen Sprachen</span>\n</h3>\n<div class=\"vector-menu-content\">\n<ul class=\"vector-menu-content-list\">\n<li class=\"interlanguage-link interwiki-be mw-list-item\"><a class=\"interlanguage-link-target\" href=\"https://be.wikipedia.org/wiki/%D0%A1%D0%BF%D1%96%D1%81_%D1%81%D0%B0%D0%BC%D1%8B%D1%85_%D0%B4%D0%BE%D1%9E%D0%B3%D1%96%D1%85_%D1%81%D1%83%D0%B4%D0%BD%D0%B0%D1%9E_%D0%BF%D0%B0_%D1%82%D1%8B%D0%BF%D0%B5\" hreflang=\"be\" lang=\"be\" title=\"Спіс самых доўгіх суднаў па тыпе – Belarussisch\"><span>Беларуская</span></a></li><li class=\"interlanguage-link interwiki-en mw-list-item\"><a class=\"interlanguage-link-target\" href=\"https://en.wikipedia.org/wiki/List_of_longest_ships\" hreflang=\"en\" lang=\"en\" title=\"List of longest ships – Englisch\"><span>English</span></a></li><li class=\"interlanguage-link interwiki-es mw-list-item\"><a class=\"interlanguage-link-target\" href=\"https://es.wikipedia.org/wiki/Anexo:Barcos_m%C3%A1s_largos\" hreflang=\"es\" lang=\"es\" title=\"Anexo:Barcos más largos – Spanisch\"><span>Español</span></a></li><li class=\"interlanguage-link interwiki-fr mw-list-item\"><a class=\"interlanguage-link-target\" href=\"https://fr.wikipedia.org/wiki/Liste_des_plus_grands_navires\" hreflang=\"fr\" lang=\"fr\" title=\"Liste des plus grands navires – Französisch\"><span>Français</span></a></li><li class=\"interlanguage-link interwiki-ro mw-list-item\"><a class=\"interlanguage-link-target\" href=\"https://ro.wikipedia.org/wiki/List%C4%83_cu_nave_maritime_importante\" hreflang=\"ro\" lang=\"ro\" title=\"Listă cu nave maritime importante – Rumänisch\"><span>Română</span></a></li><li class=\"interlanguage-link interwiki-ru mw-list-item\"><a class=\"interlanguage-link-target\" href=\"https://ru.wikipedia.org/wiki/%D0%A1%D0%BF%D0%B8%D1%81%D0%BE%D0%BA_%D1%81%D0%B0%D0%BC%D1%8B%D1%85_%D0%B4%D0%BB%D0%B8%D0%BD%D0%BD%D1%8B%D1%85_%D1%81%D1%83%D0%B4%D0%BE%D0%B2_%D0%BF%D0%BE_%D1%82%D0%B8%D0%BF%D1%83\" hreflang=\"ru\" lang=\"ru\" title=\"Список самых длинных судов по типу – Russisch\"><span>Русский</span></a></li><li class=\"interlanguage-link interwiki-tr mw-list-item\"><a class=\"interlanguage-link-target\" href=\"https://tr.wikipedia.org/wiki/D%C3%BCnyan%C4%B1n_en_uzun_gemileri_listesi\" hreflang=\"tr\" lang=\"tr\" title=\"Dünyanın en uzun gemileri listesi – Türkisch\"><span>Türkçe</span></a></li>\n</ul>\n<div class=\"after-portlet after-portlet-lang\"><span class=\"wb-langlinks-edit wb-langlinks-link\"><a class=\"wbc-editpage\" href=\"https://www.wikidata.org/wiki/Special:EntityPage/Q1778295#sitelinks-wikipedia\" title=\"Links auf Artikel in anderen Sprachen bearbeiten\">Links bearbeiten</a></span></div>\n</div>\n</nav>\n</div>\n</div>\n<footer class=\"mw-footer\" id=\"footer\" role=\"contentinfo\">\n<ul id=\"footer-info\">\n<li id=\"footer-info-lastmod\"> Diese Seite wurde zuletzt am 4. Februar 2024 um 17:00 Uhr bearbeitet.</li>\n<li id=\"footer-info-copyright\"><div class=\"noprint\" id=\"footer-info-copyright-stats\"><a class=\"external\" href=\"https://pageviews.wmcloud.org/?pages=Liste_der_gr%C3%B6%C3%9Ften_Schiffe_der_Welt&amp;project=de.wikipedia.org\" rel=\"nofollow\">Abrufstatistik</a> · <a class=\"external\" href=\" https://xtools.wmcloud.org/articleinfo-authorship/de.wikipedia.org/Liste_der_gr%C3%B6%C3%9Ften_Schiffe_der_Welt?uselang=de\" rel=\"nofollow\">Autoren</a> </div><div id=\"footer-info-copyright-separator\"><br/></div><div id=\"footer-info-copyright-info\">\nDer Text ist unter der Lizenz <a class=\"internal\" href=\"https://creativecommons.org/licenses/by-sa/4.0/deed.de\">„Creative-Commons Namensnennung – Weitergabe unter gleichen Bedingungen“</a> verfügbar; Informationen zu den Urhebern und zum Lizenzstatus eingebundener Mediendateien (etwa Bilder oder Videos) können im Regelfall durch Anklicken dieser abgerufen werden. Möglicherweise unterliegen die Inhalte jeweils zusätzlichen Bedingungen. Durch die Nutzung dieser Website erklären Sie sich mit den <a class=\"internal\" href=\"https://foundation.wikimedia.org/wiki/Policy:Terms_of_Use/de\">Nutzungsbedingungen</a> und der <a class=\"internal\" href=\"https://foundation.wikimedia.org/wiki/Policy:Privacy_policy/de\">Datenschutzrichtlinie</a> einverstanden.<br/>\nWikipedia® ist eine eingetragene Marke der Wikimedia Foundation Inc.</div></li>\n</ul>\n<ul id=\"footer-places\">\n<li id=\"footer-places-privacy\"><a href=\"https://foundation.wikimedia.org/wiki/Special:MyLanguage/Policy:Privacy_policy/de\">Datenschutz</a></li>\n<li id=\"footer-places-about\"><a href=\"/wiki/Wikipedia:%C3%9Cber_Wikipedia\">Über Wikipedia</a></li>\n<li id=\"footer-places-disclaimers\"><a href=\"/wiki/Wikipedia:Impressum\">Impressum</a></li>\n<li id=\"footer-places-wm-codeofconduct\"><a href=\"https://foundation.wikimedia.org/wiki/Special:MyLanguage/Policy:Universal_Code_of_Conduct\">Verhaltenskodex</a></li>\n<li id=\"footer-places-developers\"><a href=\"https://developer.wikimedia.org\">Entwickler</a></li>\n<li id=\"footer-places-statslink\"><a href=\"https://stats.wikimedia.org/#/de.wikipedia.org\">Statistiken</a></li>\n<li id=\"footer-places-cookiestatement\"><a href=\"https://foundation.wikimedia.org/wiki/Special:MyLanguage/Policy:Cookie_statement\">Stellungnahme zu Cookies</a></li>\n<li id=\"footer-places-mobileview\"><a class=\"noprint stopMobileRedirectToggle\" href=\"//de.m.wikipedia.org/w/index.php?title=Liste_der_gr%C3%B6%C3%9Ften_Schiffe_der_Welt&amp;mobileaction=toggle_view_mobile\">Mobile Ansicht</a></li>\n</ul>\n<ul class=\"noprint\" id=\"footer-icons\">\n<li id=\"footer-copyrightico\"><a href=\"https://wikimediafoundation.org/\"><img alt=\"Wikimedia Foundation\" height=\"31\" loading=\"lazy\" src=\"/static/images/footer/wikimedia-button.png\" srcset=\"/static/images/footer/wikimedia-button-1.5x.png 1.5x, /static/images/footer/wikimedia-button-2x.png 2x\" width=\"88\"/></a></li>\n<li id=\"footer-poweredbyico\"><a href=\"https://www.mediawiki.org/\"><img alt=\"Powered by MediaWiki\" height=\"31\" loading=\"lazy\" src=\"/static/images/footer/poweredby_mediawiki_88x31.png\" srcset=\"/static/images/footer/poweredby_mediawiki_132x47.png 1.5x, /static/images/footer/poweredby_mediawiki_176x62.png 2x\" width=\"88\"/></a></li>\n</ul>\n</footer>\n<script>(RLQ=window.RLQ||[]).push(function(){mw.config.set({\"wgHostname\":\"mw1399\",\"wgBackendResponseTime\":127,\"wgPageParseReport\":{\"limitreport\":{\"cputime\":\"0.188\",\"walltime\":\"0.466\",\"ppvisitednodes\":{\"value\":1679,\"limit\":1000000},\"postexpandincludesize\":{\"value\":11815,\"limit\":2097152},\"templateargumentsize\":{\"value\":6769,\"limit\":2097152},\"expansiondepth\":{\"value\":14,\"limit\":100},\"expensivefunctioncount\":{\"value\":1,\"limit\":500},\"unstrip-depth\":{\"value\":0,\"limit\":20},\"unstrip-size\":{\"value\":18137,\"limit\":5000000},\"entityaccesscount\":{\"value\":0,\"limit\":400},\"timingprofile\":[\"100.00%  169.429      1 -total\",\" 48.74%   82.573      4 Vorlage:Internetquelle\",\" 31.20%   52.861      2 Vorlage:FN\",\" 10.69%   18.106      1 Vorlage:FNBox\",\"  9.68%   16.393      4 Vorlage:Str_len\",\"  9.26%   15.681      2 Vorlage:FNZ\",\"  8.65%   14.650     16 Vorlage:Str_match\"]},\"scribunto\":{\"limitreport-timeusage\":{\"value\":\"0.055\",\"limit\":\"10.000\"},\"limitreport-memusage\":{\"value\":2562139,\"limit\":52428800}},\"cachereport\":{\"origin\":\"mw2365\",\"timestamp\":\"20240331082235\",\"ttl\":2592000,\"transientcontent\":false}}});});</script>\n<script type=\"application/ld+json\">{\"@context\":\"https:\\/\\/schema.org\",\"@type\":\"Article\",\"name\":\"Liste der gr\\u00f6\\u00dften Schiffe der Welt\",\"url\":\"https:\\/\\/de.wikipedia.org\\/wiki\\/Liste_der_gr%C3%B6%C3%9Ften_Schiffe_der_Welt\",\"sameAs\":\"http:\\/\\/www.wikidata.org\\/entity\\/Q1778295\",\"mainEntity\":\"http:\\/\\/www.wikidata.org\\/entity\\/Q1778295\",\"author\":{\"@type\":\"Organization\",\"name\":\"Autoren der Wikimedia-Projekte\"},\"publisher\":{\"@type\":\"Organization\",\"name\":\"Wikimedia Foundation, Inc.\",\"logo\":{\"@type\":\"ImageObject\",\"url\":\"https:\\/\\/www.wikimedia.org\\/static\\/images\\/wmf-hor-googpub.png\"}},\"datePublished\":\"2006-06-15T00:16:00Z\",\"image\":\"https:\\/\\/upload.wikimedia.org\\/wikipedia\\/commons\\/5\\/5b\\/Bateaux_comparaison2_with_Allure.svg\",\"headline\":\"Wikimedia-Liste\"}</script>\n</body>\n</html>"
     },
     "execution_count": 89,
     "metadata": {},
     "output_type": "execute_result"
    }
   ],
   "source": [
    "ship_soup = BeautifulSoup(ships_html.text, 'html.parser')\n",
    "ship_soup"
   ],
   "metadata": {
    "collapsed": false,
    "ExecuteTime": {
     "end_time": "2024-04-04T09:38:51.012468Z",
     "start_time": "2024-04-04T09:38:50.579470Z"
    }
   },
   "execution_count": 89
  },
  {
   "cell_type": "code",
   "outputs": [
    {
     "data": {
      "text/plain": "<table class=\"wikitable sortable zebra\">\n<caption>Größte und längste Schiffe ihrer Art\n</caption>\n<tbody><tr>\n<th>Kategorie</th>\n<th>Schiffsname\n</th></tr>\n<tr>\n<td><a href=\"/wiki/Kreuzfahrtschiff\" title=\"Kreuzfahrtschiff\">Kreuzfahrtschiff</a></td>\n<td><i><a href=\"/wiki/Icon_of_the_Seas\" title=\"Icon of the Seas\">Icon of the Seas</a><sup class=\"reference\" id=\"cite_ref-1\"><a href=\"#cite_note-1\">[1]</a></sup></i>\n</td></tr>\n<tr>\n<td><a href=\"/wiki/Segelschiff\" title=\"Segelschiff\">Segelschiff</a></td>\n<td><i><a href=\"/wiki/SY_A\" title=\"SY A\">SY A</a></i>\n</td></tr>\n<tr>\n<td><a href=\"/wiki/Frachtsegler\" title=\"Frachtsegler\">Frachtsegler</a></td>\n<td><i><a href=\"/wiki/France_(Schiff,_1912%E2%80%931922)\" title=\"France (Schiff, 1912–1922)\">France</a></i>\n</td></tr>\n<tr>\n<td><a href=\"/wiki/Eisbrecher\" title=\"Eisbrecher\">Eisbrecher</a></td>\n<td><a class=\"mw-redirect\" href=\"/wiki/Arktika_(Schiff,_2020)\" title=\"Arktika (Schiff, 2020)\"><i>Arktika</i></a>\n</td></tr>\n<tr>\n<td><a href=\"/wiki/Autof%C3%A4hre\" title=\"Autofähre\">Autofähre</a></td>\n<td><i><a href=\"/wiki/Color_Magic\" title=\"Color Magic\">Color Magic</a></i> (nach Größe (BRZ)); <i><a href=\"/wiki/Cruise_Barcelona\" title=\"Cruise Barcelona\">Cruise Barcelona</a></i> und <i><a href=\"/wiki/Cruise_Roma\" title=\"Cruise Roma\">Cruise Roma</a></i> (nach Länge)\n</td></tr>\n<tr>\n<td><a class=\"new\" href=\"/w/index.php?title=LNG-F%C3%A4hre&amp;action=edit&amp;redlink=1\" title=\"LNG-Fähre (Seite nicht vorhanden)\">LNG-Fähre</a></td>\n<td><i><a href=\"/wiki/Nils_Holgersson_(Schiff,_2022)\" title=\"Nils Holgersson (Schiff, 2022)\">Nils Holgerson</a>, <a href=\"/wiki/Peter_Pan_(Schiff,_2022)\" title=\"Peter Pan (Schiff, 2022)\">Peter Pan</a></i>\n</td></tr>\n<tr>\n<td>Kombifähre (Eisenbahn/RoRo)</td>\n<td><i><a href=\"/wiki/Sk%C3%A5ne_(Schiff,_1998)\" title=\"Skåne (Schiff, 1998)\">Skåne</a></i>\n</td></tr>\n<tr>\n<td>Autotransporter</td>\n<td><a href=\"/wiki/Mark-V-Klasse\" title=\"Mark-V-Klasse\">Tysla, Salome</a> (nach Länge und Tragfähigkeit); <a href=\"/wiki/New-Horizon-Klasse\" title=\"New-Horizon-Klasse\"><i>Höegh Target</i></a> (nach Tonnage und Fahrzeugkapazität)\n</td></tr>\n<tr>\n<td><a href=\"/wiki/Flugzeugtr%C3%A4ger\" title=\"Flugzeugträger\">Flugzeugträger</a></td>\n<td><a href=\"/wiki/USS_Gerald_R._Ford_(CVN-78)\" title=\"USS Gerald R. Ford (CVN-78)\">USS <i>Gerald R. Ford</i> (CVN-78)</a> (nach Tonnage); <a href=\"/wiki/USS_Enterprise_(CVN-65)\" title=\"USS Enterprise (CVN-65)\">USS <i>Enterprise</i> (CVN 65)</a> (nach Länge)\n</td></tr>\n<tr>\n<td><a href=\"/wiki/Schlachtschiff\" title=\"Schlachtschiff\">Schlachtschiff</a></td>\n<td><a href=\"/wiki/Yamato_(Schiff,_1941)\" title=\"Yamato (Schiff, 1941)\"><i>Yamato</i></a> und <a href=\"/wiki/Musashi_(Schiff,_1942)\" title=\"Musashi (Schiff, 1942)\"><i>Musashi</i></a>\n</td></tr>\n<tr>\n<td><a class=\"mw-redirect\" href=\"/wiki/Unterseeboot\" title=\"Unterseeboot\">Unterseeboot</a></td>\n<td><a href=\"/wiki/TK-208_Dmitri_Donskoj\" title=\"TK-208 Dmitri Donskoj\"><i>Dmitri Donskoi</i> (TK-208)</a>\n</td></tr>\n<tr>\n<td><a href=\"/wiki/Containerschiff\" title=\"Containerschiff\">Containerschiff</a></td>\n<td><a href=\"/wiki/MSC-Irina-Typ\" title=\"MSC-Irina-Typ\"><i>MSC Irina</i></a><sup class=\"reference\" id=\"cite_ref-2\"><a href=\"#cite_note-2\">[2]</a></sup><sup class=\"reference\" id=\"cite_ref-3\"><a href=\"#cite_note-3\">[3]</a></sup>\n</td></tr>\n<tr>\n<td><a class=\"mw-redirect\" href=\"/wiki/Sch%C3%BCttgutschiff\" title=\"Schüttgutschiff\">Schüttgutschiff</a></td>\n<td><i><a href=\"/wiki/Valemax-Klasse\" title=\"Valemax-Klasse\">Yuan He Hai</a></i> (Valemax-Klasse)\n</td></tr>\n<tr>\n<td><a class=\"mw-redirect\" href=\"/wiki/%C3%96ltanker\" title=\"Öltanker\">Öltanker</a> (doppelwandig)</td>\n<td><i><a href=\"/wiki/Hellespont-Alhambra-Klasse\" title=\"Hellespont-Alhambra-Klasse\">TI Europe</a></i>, <i><a href=\"/wiki/Hellespont-Alhambra-Klasse\" title=\"Hellespont-Alhambra-Klasse\">TI Oceania</a></i> <style data-mw-deduplicate=\"TemplateStyles:r236689292\">.mw-parser-output .fussnoten-marke{font-size:0.75rem;font-style:normal;font-variant:normal;font-weight:normal;unicode-bidi:isolate;white-space:nowrap}.mw-parser-output .fussnoten-marke.reference,.mw-parser-output span.fussnoten-inhalt{padding-left:0.1rem}.mw-parser-output .fussnoten-marke.reference~.fussnoten-marke.reference,.mw-parser-output span.fussnoten-inhalt~span.fussnoten-inhalt{padding-left:0.15rem}.mw-parser-output .fussnoten-block{margin-bottom:0.1rem}.mw-parser-output div.fussnoten-inhalt{display:inline-block;padding-left:0.8rem;text-indent:-0.8rem}.mw-parser-output div.fussnoten-inhalt p,.mw-parser-output div.fussnoten-inhalt dl,.mw-parser-output div.fussnoten-inhalt ol,.mw-parser-output div.fussnoten-inhalt ul{text-indent:0}.mw-parser-output div.fussnoten-inhalt.fussnoten-floatfix{display:block}.mw-parser-output .fussnoten-box{margin-top:0.5rem;padding-left:0.8rem}.mw-parser-output .fussnoten-box,.mw-parser-output div.fussnoten-inhalt{font-size:94%}.mw-parser-output .fussnoten-box div.fussnoten-inhalt,.mw-parser-output span.fussnoten-inhalt,.mw-parser-output .fussnoten-inhalt .mw-reference-text{font-size:inherit}.mw-parser-output .fussnoten-inhalt .mw-reference-text{display:inline}.mw-parser-output .fussnoten-linie{display:inline-block;position:relative;top:-1em;border-top:solid 1px #808080;width:8rem}.mw-parser-output .fussnoten-linie+p,.mw-parser-output .fussnoten-linie+dl,.mw-parser-output .fussnoten-linie+ol,.mw-parser-output .fussnoten-linie+ul,.mw-parser-output .fussnoten-linie+link+div{margin-top:-1em}.mw-parser-output .fussnoten-marke.reference:target,.mw-parser-output .fussnoten-inhalt:target{background-color:#eaf3ff;box-shadow:0 0 0 0.25em #eaf3ff}.mw-parser-output .fussnoten-marke.reference:target,.mw-parser-output .fussnoten-inhalt:target .fussnoten-marke{font-weight:bold}</style>⁠<sup class=\"fussnoten-marke reference\" id=\"FN_Anm._1_back\"><a href=\"#FNZ_Anm._1\">Anm. 1</a></sup>\n</td></tr>\n<tr>\n<td>Öltanker (einwandig)</td>\n<td><i><a href=\"/wiki/Jahre_Viking\" title=\"Jahre Viking\">Jahre Viking</a></i> <link href=\"mw-data:TemplateStyles:r236689292\" rel=\"mw-deduplicated-inline-style\"/>⁠<sup class=\"fussnoten-marke reference\" id=\"FN_Anm._2_back\"><a href=\"#FNZ_Anm._2\">Anm. 2</a></sup>; <i><a href=\"/wiki/Pierre_Guillaumat_(Schiff)\" title=\"Pierre Guillaumat (Schiff)\">Pierre Guillaumat</a></i>\n</td></tr>\n<tr>\n<td><a class=\"mw-redirect\" href=\"/wiki/Fl%C3%BCssiggastanker\" title=\"Flüssiggastanker\">Flüssiggastanker</a></td>\n<td><i><a href=\"/wiki/Nakilat_Q-Max-Klasse\" title=\"Nakilat Q-Max-Klasse\">Mozah</a></i>\n</td></tr>\n<tr>\n<td><a href=\"/wiki/Dockschiff\" title=\"Dockschiff\">Dockschiff</a></td>\n<td><i><a href=\"/wiki/Boka_Vanguard\" title=\"Boka Vanguard\">Boka Vanguard</a></i>\n</td></tr>\n<tr>\n<td><a href=\"/wiki/Schwimmkran\" title=\"Schwimmkran\">Schwimmkran</a></td>\n<td><a href=\"/wiki/Sleipnir_(Schiff)\" title=\"Sleipnir (Schiff)\"><i>Sleipnir</i></a>\n</td></tr>\n<tr>\n<td><a class=\"mw-redirect\" href=\"/wiki/Motoryacht\" title=\"Motoryacht\">Motoryacht</a></td>\n<td><i><a href=\"/wiki/REV_Ocean\" title=\"REV Ocean\">REV Ocean</a></i> (nach Länge); <i><a href=\"/wiki/Dilbar_(Schiff)\" title=\"Dilbar (Schiff)\">Dilbar</a></i> (nach Größe (BRZ))\n</td></tr>\n<tr>\n<td><a href=\"/wiki/Schlepper_(Schiffstyp)\" title=\"Schlepper (Schiffstyp)\">Schlepper</a></td>\n<td><i><a class=\"new\" href=\"/w/index.php?title=Island_Victory&amp;action=edit&amp;redlink=1\" title=\"Island Victory (Seite nicht vorhanden)\">Island Victory</a></i>\n</td></tr>\n<tr>\n<td><a href=\"/wiki/Schubboot\" title=\"Schubboot\">Schubboot</a></td>\n<td><i><a class=\"new\" href=\"/w/index.php?title=E._Bronson_Ingram&amp;action=edit&amp;redlink=1\" title=\"E. Bronson Ingram (Seite nicht vorhanden)\">E. Bronson Ingram</a></i>\n</td></tr>\n<tr>\n<td><a href=\"/wiki/Katamaran\" title=\"Katamaran\">Katamaran</a></td>\n<td><a class=\"mw-redirect\" href=\"/wiki/HSS_1500\" title=\"HSS 1500\"><i>Stena Explorer</i></a>\n</td></tr>\n<tr>\n<td><a href=\"/wiki/Seenotrettungskreuzer\" title=\"Seenotrettungskreuzer\">Seenotrettungskreuzer</a></td>\n<td><a href=\"/wiki/Hermann_Marwede_(Schiff)\" title=\"Hermann Marwede (Schiff)\"><i>Hermann Marwede</i></a>\n</td></tr>\n<tr>\n<td><a href=\"/wiki/Trimaran\" title=\"Trimaran\">Trimaran</a></td>\n<td><a href=\"/wiki/Independence_(Schiff,_2010)\" title=\"Independence (Schiff, 2010)\">USS <i>Independence</i> (LCS-2)</a>\n</td></tr>\n<tr>\n<td><a class=\"mw-redirect\" href=\"/wiki/Motorsegelschiff\" title=\"Motorsegelschiff\">Motorsegelschiff</a></td>\n<td><i><a href=\"/wiki/Club_Med_2\" title=\"Club Med 2\">Club Med 2</a></i>\n</td></tr>\n<tr>\n<td><a href=\"/wiki/Hopperbagger\" title=\"Hopperbagger\">Hopperbagger</a></td>\n<td><a href=\"/wiki/Crist%C3%B3bal-Col%C3%B3n-Klasse\" title=\"Cristóbal-Colón-Klasse\"><i>Cristóbal-Colón</i>-Klasse</a>\n</td></tr>\n<tr>\n<td><a class=\"mw-redirect\" href=\"/wiki/Segelyacht\" title=\"Segelyacht\">Segelyacht</a></td>\n<td><i><a href=\"/wiki/SY_A\" title=\"SY A\">SY A</a></i>\n</td></tr>\n<tr>\n<td><a href=\"/wiki/Arbeitsschiff\" title=\"Arbeitsschiff\">Arbeitsschiff</a></td>\n<td><i><a href=\"/wiki/Pioneering_Spirit\" title=\"Pioneering Spirit\">Pioneering Spirit</a></i>\n</td></tr>\n<tr>\n<td>Schwimmende Erdöl-/Erdgas-Förderanlagen und Verflüssigungsanlagen (FPSO / FLNG)</td>\n<td><i><a href=\"/wiki/Prelude_(Schiff)\" title=\"Prelude (Schiff)\">Prelude</a></i>\n</td></tr>\n<tr>\n<td><a href=\"/wiki/Hospitalschiff\" title=\"Hospitalschiff\">Hospitalschiff</a></td>\n<td><i><a href=\"/wiki/USNS_Comfort_(T-AH-20)\" title=\"USNS Comfort (T-AH-20)\">USNS Comfort</a></i>\n</td></tr></tbody></table>"
     },
     "execution_count": 90,
     "metadata": {},
     "output_type": "execute_result"
    }
   ],
   "source": [
    "ship_soup.table"
   ],
   "metadata": {
    "collapsed": false,
    "ExecuteTime": {
     "end_time": "2024-04-04T09:39:20.138725Z",
     "start_time": "2024-04-04T09:39:20.091808Z"
    }
   },
   "execution_count": 90
  },
  {
   "cell_type": "code",
   "outputs": [],
   "source": [
    "table_data = ship_soup.table.find_all('td')"
   ],
   "metadata": {
    "collapsed": false,
    "ExecuteTime": {
     "end_time": "2024-04-04T09:40:09.696575Z",
     "start_time": "2024-04-04T09:40:09.684750Z"
    }
   },
   "execution_count": 92
  },
  {
   "cell_type": "code",
   "outputs": [
    {
     "name": "stdout",
     "output_type": "stream",
     "text": [
      "Kreuzfahrtschiff\n",
      "Icon of the Seas[1]\n",
      "\n",
      "Segelschiff\n",
      "SY A\n",
      "\n",
      "Frachtsegler\n",
      "France\n",
      "\n",
      "Eisbrecher\n",
      "Arktika\n",
      "\n",
      "Autofähre\n",
      "Color Magic (nach Größe (BRZ)); Cruise Barcelona und Cruise Roma (nach Länge)\n",
      "\n",
      "LNG-Fähre\n",
      "Nils Holgerson, Peter Pan\n",
      "\n",
      "Kombifähre (Eisenbahn/RoRo)\n",
      "Skåne\n",
      "\n",
      "Autotransporter\n",
      "Tysla, Salome (nach Länge und Tragfähigkeit); Höegh Target (nach Tonnage und Fahrzeugkapazität)\n",
      "\n",
      "Flugzeugträger\n",
      "USS Gerald R. Ford (CVN-78) (nach Tonnage); USS Enterprise (CVN 65) (nach Länge)\n",
      "\n",
      "Schlachtschiff\n",
      "Yamato und Musashi\n",
      "\n",
      "Unterseeboot\n",
      "Dmitri Donskoi (TK-208)\n",
      "\n",
      "Containerschiff\n",
      "MSC Irina[2][3]\n",
      "\n",
      "Schüttgutschiff\n",
      "Yuan He Hai (Valemax-Klasse)\n",
      "\n",
      "Öltanker (doppelwandig)\n",
      "TI Europe, TI Oceania ⁠Anm. 1\n",
      "\n",
      "Öltanker (einwandig)\n",
      "Jahre Viking ⁠Anm. 2; Pierre Guillaumat\n",
      "\n",
      "Flüssiggastanker\n",
      "Mozah\n",
      "\n",
      "Dockschiff\n",
      "Boka Vanguard\n",
      "\n",
      "Schwimmkran\n",
      "Sleipnir\n",
      "\n",
      "Motoryacht\n",
      "REV Ocean (nach Länge); Dilbar (nach Größe (BRZ))\n",
      "\n",
      "Schlepper\n",
      "Island Victory\n",
      "\n",
      "Schubboot\n",
      "E. Bronson Ingram\n",
      "\n",
      "Katamaran\n",
      "Stena Explorer\n",
      "\n",
      "Seenotrettungskreuzer\n",
      "Hermann Marwede\n",
      "\n",
      "Trimaran\n",
      "USS Independence (LCS-2)\n",
      "\n",
      "Motorsegelschiff\n",
      "Club Med 2\n",
      "\n",
      "Hopperbagger\n",
      "Cristóbal-Colón-Klasse\n",
      "\n",
      "Segelyacht\n",
      "SY A\n",
      "\n",
      "Arbeitsschiff\n",
      "Pioneering Spirit\n",
      "\n",
      "Schwimmende Erdöl-/Erdgas-Förderanlagen und Verflüssigungsanlagen (FPSO / FLNG)\n",
      "Prelude\n",
      "\n",
      "Hospitalschiff\n",
      "USNS Comfort\n"
     ]
    }
   ],
   "source": [
    "for td in table_data:\n",
    "\tprint(td.text)"
   ],
   "metadata": {
    "collapsed": false,
    "ExecuteTime": {
     "end_time": "2024-04-04T09:40:20.891972Z",
     "start_time": "2024-04-04T09:40:20.880175Z"
    }
   },
   "execution_count": 93
  },
  {
   "cell_type": "code",
   "outputs": [],
   "source": [
    "# Und jetzt seid ihr dran! Nehmt DataCraft und holt von dort die Namen \n",
    "# und Background der Dozenten! URL: https://www.data-craft.de/\n",
    "# Bonus: Regelt die Sache mit dem Encoding. ;)"
   ],
   "metadata": {
    "collapsed": false
   },
   "execution_count": null
  },
  {
   "cell_type": "code",
   "outputs": [],
   "source": [],
   "metadata": {
    "collapsed": false
   },
   "execution_count": null
  },
  {
   "cell_type": "markdown",
   "metadata": {},
   "source": [
    "## Webscraping am Beispiel erklärt\n",
    "\n",
    "Als Beispiel untersuchen wir die Webseite https://worldofwarcraft.com/de-de/game/classes\n",
    "\n",
    "Um zu prüfen, was wir auf der Webseite dürfen und ob bestimmte Inhalte von Webscraping verboten sind, müssen wir die robots.txt Seite aufsuchen\n",
    "https://worldofwarcraft.com/robots.txt\n",
    "\n",
    "Den Inhalt der Webseite können wir schon in python abrufen. Dazu können wir `requests.get` verwenden. Wir erhalten allerdings HTML Code zurück, und müssen diesen durchsuchen, um an die Infos zu kommen, die uns interessieren. Dafür benutzen wir \"Beautiful Soup 4\"."
   ]
  },
  {
   "cell_type": "code",
   "execution_count": null,
   "metadata": {
    "collapsed": false
   },
   "outputs": [],
   "source": [
    "# Schritt 1: Webseiten Inhalte abrufen\n"
   ]
  },
  {
   "cell_type": "code",
   "execution_count": null,
   "metadata": {},
   "outputs": [],
   "source": [
    "# Schritt 2: Suppen-Objekt erstellen -> Inhalt wird von bs4 ausgelesen und umgewandelt\n",
    "\n"
   ]
  },
  {
   "cell_type": "code",
   "execution_count": null,
   "metadata": {
    "collapsed": false
   },
   "outputs": [],
   "source": [
    "# Schritt 3: Die Suppe durchsuchen\n",
    "#            Welche HTML-Tags wollen wir finden?\n",
    "\n",
    "\n",
    "# <div class=\"Card-title\">\n"
   ]
  },
  {
   "cell_type": "code",
   "execution_count": null,
   "metadata": {
    "collapsed": false
   },
   "outputs": [],
   "source": [
    "# Schritt 4: Jetzt wollen wir für jedes Objekt nur den\n",
    "# Textinhalt und diesen als neue Liste speichern.\n"
   ]
  },
  {
   "cell_type": "code",
   "execution_count": null,
   "metadata": {},
   "outputs": [],
   "source": [
    "# Schritt 5: Gesammelte Daten optional zu einem\n",
    "# DataFrame umwandeln.\n",
    "\n"
   ]
  },
  {
   "cell_type": "code",
   "outputs": [],
   "source": [
    "# Aufgabe: \n",
    "# Holt Euch die Zitate und Autorennamen von folgender URL:\n",
    "# https://quotes.toscrape.com/\n",
    "# Lasst Euch alle Zitate mit Autoren ausgeben oder schreibt diese in eine txt-Datei!"
   ],
   "metadata": {
    "collapsed": false
   },
   "execution_count": null
  },
  {
   "cell_type": "code",
   "outputs": [],
   "source": [],
   "metadata": {
    "collapsed": false
   },
   "execution_count": null
  }
 ],
 "metadata": {
  "kernelspec": {
   "display_name": "Python 3",
   "language": "python",
   "name": "python3"
  },
  "language_info": {
   "codemirror_mode": {
    "name": "ipython",
    "version": 3
   },
   "file_extension": ".py",
   "mimetype": "text/x-python",
   "name": "python",
   "nbconvert_exporter": "python",
   "pygments_lexer": "ipython3",
   "version": "3.11.5"
  }
 },
 "nbformat": 4,
 "nbformat_minor": 0
}
