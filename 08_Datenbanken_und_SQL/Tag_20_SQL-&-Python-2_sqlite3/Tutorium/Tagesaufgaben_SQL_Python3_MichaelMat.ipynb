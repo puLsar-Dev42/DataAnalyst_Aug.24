{
 "cells": [
  {
   "cell_type": "markdown",
   "metadata": {},
   "source": [
    "<center><h1 style=\"font-size:2em;color:#2467C0;font-family:Times New Roman\">Tagesaufgaben</h1></center>\n"
   ]
  },
  {
   "cell_type": "markdown",
   "metadata": {},
   "source": [
    "## Aufgabe 1"
   ]
  },
  {
   "cell_type": "markdown",
   "metadata": {},
   "source": [
    "1. Erstelle eine Python-Funktion connect_f1(), die sich mit der Formel1-SQLite-Datenbank verbindet die Verbindung zurückgibt. Führe die Funktion anschließend aus. Schließe sie zuletzt."
   ]
  },
  {
   "metadata": {
    "ExecuteTime": {
     "end_time": "2025-01-08T07:32:52.040295Z",
     "start_time": "2025-01-08T07:32:51.641764Z"
    }
   },
   "cell_type": "code",
   "source": [
    "import sqlite3\n",
    "import pandas as pd"
   ],
   "outputs": [],
   "execution_count": 1
  },
  {
   "cell_type": "code",
   "metadata": {
    "ExecuteTime": {
     "end_time": "2025-01-08T07:32:53.254237Z",
     "start_time": "2025-01-08T07:32:53.248236Z"
    }
   },
   "source": [
    "data_path = r'C:\\Users\\Admin\\OneDrive\\Dokumente\\DataCraft\\DataAnalyst_Aug.24\\08_Datenbanken_und_SQL\\databases\\formula1.sqlite'\n",
    "\n",
    "\n",
    "def connect_f1():\n",
    "\ttry:\n",
    "\t\tconn = sqlite3.connect(data_path)\n",
    "\t\treturn conn\n",
    "\texcept:\n",
    "\t\tprint('something went wrong.')\n",
    "\t\treturn None\n",
    "\n",
    "\n",
    "conn = connect_f1()\n"
   ],
   "outputs": [],
   "execution_count": 2
  },
  {
   "metadata": {
    "ExecuteTime": {
     "end_time": "2025-01-07T12:58:39.414370Z",
     "start_time": "2025-01-07T12:58:39.409411Z"
    }
   },
   "cell_type": "code",
   "source": "conn.close()",
   "outputs": [],
   "execution_count": 6
  },
  {
   "cell_type": "markdown",
   "metadata": {},
   "source": [
    "<div>\n",
    "2. Lass dir die SQL Tabelle drivers in Form einer Pandas Tabelle ausgeben.\n",
    "</div>"
   ]
  },
  {
   "cell_type": "code",
   "metadata": {
    "ExecuteTime": {
     "end_time": "2025-01-07T12:58:41.585047Z",
     "start_time": "2025-01-07T12:58:41.557498Z"
    }
   },
   "source": [
    "conn = sqlite3.connect(data_path)\n",
    "df = pd.read_sql_query(\"SELECT * FROM drivers\", conn)\n",
    "df"
   ],
   "outputs": [
    {
     "data": {
      "text/plain": [
       "     driverId        driverRef number code  forename     surname         dob  \\\n",
       "0           1         hamilton     44  HAM     Lewis    Hamilton  07/01/1985   \n",
       "1           2         heidfeld   None  HEI      Nick    Heidfeld  10/05/1977   \n",
       "2           3          rosberg      6  ROS      Nico     Rosberg  27/06/1985   \n",
       "3           4           alonso     14  ALO  Fernando      Alonso  29/07/1981   \n",
       "4           5       kovalainen   None  KOV    Heikki  Kovalainen  19/10/1981   \n",
       "..        ...              ...    ...  ...       ...         ...         ...   \n",
       "837       839             ocon     31  OCO   Esteban        Ocon  17/09/1996   \n",
       "838       840           stroll     18  STR     Lance      Stroll  29/10/1998   \n",
       "839       841       giovinazzi     36  GIO   Antonio  Giovinazzi  14/12/1993   \n",
       "840       842            gasly     10  GAS    Pierre       Gasly  07/02/1996   \n",
       "841       843  brendon_hartley     39  HAR   Brendon     Hartley  10/11/1989   \n",
       "\n",
       "       nationality                                              url  \n",
       "0          British      http://en.wikipedia.org/wiki/Lewis_Hamilton  \n",
       "1           German       http://en.wikipedia.org/wiki/Nick_Heidfeld  \n",
       "2           German        http://en.wikipedia.org/wiki/Nico_Rosberg  \n",
       "3          Spanish     http://en.wikipedia.org/wiki/Fernando_Alonso  \n",
       "4          Finnish   http://en.wikipedia.org/wiki/Heikki_Kovalainen  \n",
       "..             ...                                              ...  \n",
       "837         French        http://en.wikipedia.org/wiki/Esteban_Ocon  \n",
       "838       Canadian        http://en.wikipedia.org/wiki/Lance_Stroll  \n",
       "839        Italian  http://en.wikipedia.org/wiki/Antonio_Giovinazzi  \n",
       "840         French        http://en.wikipedia.org/wiki/Pierre_Gasly  \n",
       "841  New Zealander     http://en.wikipedia.org/wiki/Brendon_Hartley  \n",
       "\n",
       "[842 rows x 9 columns]"
      ],
      "text/html": [
       "<div>\n",
       "<style scoped>\n",
       "    .dataframe tbody tr th:only-of-type {\n",
       "        vertical-align: middle;\n",
       "    }\n",
       "\n",
       "    .dataframe tbody tr th {\n",
       "        vertical-align: top;\n",
       "    }\n",
       "\n",
       "    .dataframe thead th {\n",
       "        text-align: right;\n",
       "    }\n",
       "</style>\n",
       "<table border=\"1\" class=\"dataframe\">\n",
       "  <thead>\n",
       "    <tr style=\"text-align: right;\">\n",
       "      <th></th>\n",
       "      <th>driverId</th>\n",
       "      <th>driverRef</th>\n",
       "      <th>number</th>\n",
       "      <th>code</th>\n",
       "      <th>forename</th>\n",
       "      <th>surname</th>\n",
       "      <th>dob</th>\n",
       "      <th>nationality</th>\n",
       "      <th>url</th>\n",
       "    </tr>\n",
       "  </thead>\n",
       "  <tbody>\n",
       "    <tr>\n",
       "      <th>0</th>\n",
       "      <td>1</td>\n",
       "      <td>hamilton</td>\n",
       "      <td>44</td>\n",
       "      <td>HAM</td>\n",
       "      <td>Lewis</td>\n",
       "      <td>Hamilton</td>\n",
       "      <td>07/01/1985</td>\n",
       "      <td>British</td>\n",
       "      <td>http://en.wikipedia.org/wiki/Lewis_Hamilton</td>\n",
       "    </tr>\n",
       "    <tr>\n",
       "      <th>1</th>\n",
       "      <td>2</td>\n",
       "      <td>heidfeld</td>\n",
       "      <td>None</td>\n",
       "      <td>HEI</td>\n",
       "      <td>Nick</td>\n",
       "      <td>Heidfeld</td>\n",
       "      <td>10/05/1977</td>\n",
       "      <td>German</td>\n",
       "      <td>http://en.wikipedia.org/wiki/Nick_Heidfeld</td>\n",
       "    </tr>\n",
       "    <tr>\n",
       "      <th>2</th>\n",
       "      <td>3</td>\n",
       "      <td>rosberg</td>\n",
       "      <td>6</td>\n",
       "      <td>ROS</td>\n",
       "      <td>Nico</td>\n",
       "      <td>Rosberg</td>\n",
       "      <td>27/06/1985</td>\n",
       "      <td>German</td>\n",
       "      <td>http://en.wikipedia.org/wiki/Nico_Rosberg</td>\n",
       "    </tr>\n",
       "    <tr>\n",
       "      <th>3</th>\n",
       "      <td>4</td>\n",
       "      <td>alonso</td>\n",
       "      <td>14</td>\n",
       "      <td>ALO</td>\n",
       "      <td>Fernando</td>\n",
       "      <td>Alonso</td>\n",
       "      <td>29/07/1981</td>\n",
       "      <td>Spanish</td>\n",
       "      <td>http://en.wikipedia.org/wiki/Fernando_Alonso</td>\n",
       "    </tr>\n",
       "    <tr>\n",
       "      <th>4</th>\n",
       "      <td>5</td>\n",
       "      <td>kovalainen</td>\n",
       "      <td>None</td>\n",
       "      <td>KOV</td>\n",
       "      <td>Heikki</td>\n",
       "      <td>Kovalainen</td>\n",
       "      <td>19/10/1981</td>\n",
       "      <td>Finnish</td>\n",
       "      <td>http://en.wikipedia.org/wiki/Heikki_Kovalainen</td>\n",
       "    </tr>\n",
       "    <tr>\n",
       "      <th>...</th>\n",
       "      <td>...</td>\n",
       "      <td>...</td>\n",
       "      <td>...</td>\n",
       "      <td>...</td>\n",
       "      <td>...</td>\n",
       "      <td>...</td>\n",
       "      <td>...</td>\n",
       "      <td>...</td>\n",
       "      <td>...</td>\n",
       "    </tr>\n",
       "    <tr>\n",
       "      <th>837</th>\n",
       "      <td>839</td>\n",
       "      <td>ocon</td>\n",
       "      <td>31</td>\n",
       "      <td>OCO</td>\n",
       "      <td>Esteban</td>\n",
       "      <td>Ocon</td>\n",
       "      <td>17/09/1996</td>\n",
       "      <td>French</td>\n",
       "      <td>http://en.wikipedia.org/wiki/Esteban_Ocon</td>\n",
       "    </tr>\n",
       "    <tr>\n",
       "      <th>838</th>\n",
       "      <td>840</td>\n",
       "      <td>stroll</td>\n",
       "      <td>18</td>\n",
       "      <td>STR</td>\n",
       "      <td>Lance</td>\n",
       "      <td>Stroll</td>\n",
       "      <td>29/10/1998</td>\n",
       "      <td>Canadian</td>\n",
       "      <td>http://en.wikipedia.org/wiki/Lance_Stroll</td>\n",
       "    </tr>\n",
       "    <tr>\n",
       "      <th>839</th>\n",
       "      <td>841</td>\n",
       "      <td>giovinazzi</td>\n",
       "      <td>36</td>\n",
       "      <td>GIO</td>\n",
       "      <td>Antonio</td>\n",
       "      <td>Giovinazzi</td>\n",
       "      <td>14/12/1993</td>\n",
       "      <td>Italian</td>\n",
       "      <td>http://en.wikipedia.org/wiki/Antonio_Giovinazzi</td>\n",
       "    </tr>\n",
       "    <tr>\n",
       "      <th>840</th>\n",
       "      <td>842</td>\n",
       "      <td>gasly</td>\n",
       "      <td>10</td>\n",
       "      <td>GAS</td>\n",
       "      <td>Pierre</td>\n",
       "      <td>Gasly</td>\n",
       "      <td>07/02/1996</td>\n",
       "      <td>French</td>\n",
       "      <td>http://en.wikipedia.org/wiki/Pierre_Gasly</td>\n",
       "    </tr>\n",
       "    <tr>\n",
       "      <th>841</th>\n",
       "      <td>843</td>\n",
       "      <td>brendon_hartley</td>\n",
       "      <td>39</td>\n",
       "      <td>HAR</td>\n",
       "      <td>Brendon</td>\n",
       "      <td>Hartley</td>\n",
       "      <td>10/11/1989</td>\n",
       "      <td>New Zealander</td>\n",
       "      <td>http://en.wikipedia.org/wiki/Brendon_Hartley</td>\n",
       "    </tr>\n",
       "  </tbody>\n",
       "</table>\n",
       "<p>842 rows × 9 columns</p>\n",
       "</div>"
      ]
     },
     "execution_count": 7,
     "metadata": {},
     "output_type": "execute_result"
    }
   ],
   "execution_count": 7
  },
  {
   "cell_type": "markdown",
   "metadata": {},
   "source": [
    "<div>\n",
    "3. Erstelle eine Python-Funktion get_races(year), die zu dem gegebenen Jahr einen DataFrame mit den\n",
    "Rennen und Datum zurückgibt\n",
    "</div>"
   ]
  },
  {
   "cell_type": "code",
   "metadata": {
    "ExecuteTime": {
     "end_time": "2025-01-08T07:44:16.396665Z",
     "start_time": "2025-01-08T07:44:16.386600Z"
    }
   },
   "source": [
    "def get_races(year):\n",
    "\tquery = '''\n",
    "\tSELECT name, date FROM races WHERE strftime('%Y', date) = ?\n",
    "\t'''\n",
    "\tconn = sqlite3.connect(data_path)\n",
    "\tdf = pd.read_sql_query(query, conn, params=(year,))\n",
    "\treturn df"
   ],
   "outputs": [],
   "execution_count": 23
  },
  {
   "metadata": {
    "ExecuteTime": {
     "end_time": "2025-01-08T07:45:11.313142Z",
     "start_time": "2025-01-08T07:45:11.298656Z"
    }
   },
   "cell_type": "code",
   "source": "get_races(\"2009\")",
   "outputs": [
    {
     "data": {
      "text/plain": [
       "                     name        date\n",
       "0   Australian Grand Prix  2009-03-29\n",
       "1    Malaysian Grand Prix  2009-04-05\n",
       "2      Chinese Grand Prix  2009-04-19\n",
       "3      Bahrain Grand Prix  2009-04-26\n",
       "4      Spanish Grand Prix  2009-05-10\n",
       "5       Monaco Grand Prix  2009-05-24\n",
       "6      Turkish Grand Prix  2009-06-07\n",
       "7      British Grand Prix  2009-06-21\n",
       "8       German Grand Prix  2009-07-12\n",
       "9    Hungarian Grand Prix  2009-07-26\n",
       "10    European Grand Prix  2009-08-23\n",
       "11     Belgian Grand Prix  2009-08-30\n",
       "12     Italian Grand Prix  2009-09-13\n",
       "13   Singapore Grand Prix  2009-09-27\n",
       "14    Japanese Grand Prix  2009-10-04\n",
       "15   Brazilian Grand Prix  2009-10-18\n",
       "16   Abu Dhabi Grand Prix  2009-11-01"
      ],
      "text/html": [
       "<div>\n",
       "<style scoped>\n",
       "    .dataframe tbody tr th:only-of-type {\n",
       "        vertical-align: middle;\n",
       "    }\n",
       "\n",
       "    .dataframe tbody tr th {\n",
       "        vertical-align: top;\n",
       "    }\n",
       "\n",
       "    .dataframe thead th {\n",
       "        text-align: right;\n",
       "    }\n",
       "</style>\n",
       "<table border=\"1\" class=\"dataframe\">\n",
       "  <thead>\n",
       "    <tr style=\"text-align: right;\">\n",
       "      <th></th>\n",
       "      <th>name</th>\n",
       "      <th>date</th>\n",
       "    </tr>\n",
       "  </thead>\n",
       "  <tbody>\n",
       "    <tr>\n",
       "      <th>0</th>\n",
       "      <td>Australian Grand Prix</td>\n",
       "      <td>2009-03-29</td>\n",
       "    </tr>\n",
       "    <tr>\n",
       "      <th>1</th>\n",
       "      <td>Malaysian Grand Prix</td>\n",
       "      <td>2009-04-05</td>\n",
       "    </tr>\n",
       "    <tr>\n",
       "      <th>2</th>\n",
       "      <td>Chinese Grand Prix</td>\n",
       "      <td>2009-04-19</td>\n",
       "    </tr>\n",
       "    <tr>\n",
       "      <th>3</th>\n",
       "      <td>Bahrain Grand Prix</td>\n",
       "      <td>2009-04-26</td>\n",
       "    </tr>\n",
       "    <tr>\n",
       "      <th>4</th>\n",
       "      <td>Spanish Grand Prix</td>\n",
       "      <td>2009-05-10</td>\n",
       "    </tr>\n",
       "    <tr>\n",
       "      <th>5</th>\n",
       "      <td>Monaco Grand Prix</td>\n",
       "      <td>2009-05-24</td>\n",
       "    </tr>\n",
       "    <tr>\n",
       "      <th>6</th>\n",
       "      <td>Turkish Grand Prix</td>\n",
       "      <td>2009-06-07</td>\n",
       "    </tr>\n",
       "    <tr>\n",
       "      <th>7</th>\n",
       "      <td>British Grand Prix</td>\n",
       "      <td>2009-06-21</td>\n",
       "    </tr>\n",
       "    <tr>\n",
       "      <th>8</th>\n",
       "      <td>German Grand Prix</td>\n",
       "      <td>2009-07-12</td>\n",
       "    </tr>\n",
       "    <tr>\n",
       "      <th>9</th>\n",
       "      <td>Hungarian Grand Prix</td>\n",
       "      <td>2009-07-26</td>\n",
       "    </tr>\n",
       "    <tr>\n",
       "      <th>10</th>\n",
       "      <td>European Grand Prix</td>\n",
       "      <td>2009-08-23</td>\n",
       "    </tr>\n",
       "    <tr>\n",
       "      <th>11</th>\n",
       "      <td>Belgian Grand Prix</td>\n",
       "      <td>2009-08-30</td>\n",
       "    </tr>\n",
       "    <tr>\n",
       "      <th>12</th>\n",
       "      <td>Italian Grand Prix</td>\n",
       "      <td>2009-09-13</td>\n",
       "    </tr>\n",
       "    <tr>\n",
       "      <th>13</th>\n",
       "      <td>Singapore Grand Prix</td>\n",
       "      <td>2009-09-27</td>\n",
       "    </tr>\n",
       "    <tr>\n",
       "      <th>14</th>\n",
       "      <td>Japanese Grand Prix</td>\n",
       "      <td>2009-10-04</td>\n",
       "    </tr>\n",
       "    <tr>\n",
       "      <th>15</th>\n",
       "      <td>Brazilian Grand Prix</td>\n",
       "      <td>2009-10-18</td>\n",
       "    </tr>\n",
       "    <tr>\n",
       "      <th>16</th>\n",
       "      <td>Abu Dhabi Grand Prix</td>\n",
       "      <td>2009-11-01</td>\n",
       "    </tr>\n",
       "  </tbody>\n",
       "</table>\n",
       "</div>"
      ]
     },
     "execution_count": 27,
     "metadata": {},
     "output_type": "execute_result"
    }
   ],
   "execution_count": 27
  },
  {
   "cell_type": "markdown",
   "metadata": {},
   "source": [
    "<div>\n",
    "4. Ergänze die Funktion aus der vorherigen Frage, so dass auch der Erstplatzierte mit zurückgegeben wird. Der Name des Erstplatzierten soll als Vor- und Nachname in einer Spalte erscheinen\n",
    "</div>"
   ]
  },
  {
   "cell_type": "code",
   "metadata": {
    "ExecuteTime": {
     "end_time": "2025-01-08T07:38:35.973290Z",
     "start_time": "2025-01-08T07:38:35.968777Z"
    }
   },
   "source": [
    "def get_races2(year):\n",
    "\tquery = '''\n",
    "\tSELECT\n",
    "\t\tra.name,\n",
    "\t\tra.date,\n",
    "\t\td.forename || ',' || d.surname AS first_place\n",
    "\tFROM races AS ra\n",
    "\tJOIN results AS re ON ra.raceId = re.raceId\n",
    "\tJOIN drivers AS d on d.driverId = re.driverId\n",
    "\tWHERE strftime('%Y', ra.date) = ?\n",
    "\t  AND re.position = 1\n",
    "\t'''\n",
    "\n",
    "\tconn = sqlite3.connect(data_path)\n",
    "\tdf2 = pd.read_sql_query(query, conn, params=(year,))\n",
    "\treturn df2"
   ],
   "outputs": [],
   "execution_count": 14
  },
  {
   "metadata": {
    "ExecuteTime": {
     "end_time": "2025-01-08T07:42:30.220077Z",
     "start_time": "2025-01-08T07:42:30.203971Z"
    }
   },
   "cell_type": "code",
   "source": "get_races2(\"2000\")",
   "outputs": [
    {
     "data": {
      "text/plain": [
       "                        name        date         first_place\n",
       "0      Australian Grand Prix  2000-03-12  Michael,Schumacher\n",
       "1       Brazilian Grand Prix  2000-03-26  Michael,Schumacher\n",
       "2      San Marino Grand Prix  2000-04-09  Michael,Schumacher\n",
       "3         British Grand Prix  2000-04-23     David,Coulthard\n",
       "4         Spanish Grand Prix  2000-05-07       Mika,Häkkinen\n",
       "5        European Grand Prix  2000-05-21  Michael,Schumacher\n",
       "6          Monaco Grand Prix  2000-06-04     David,Coulthard\n",
       "7        Canadian Grand Prix  2000-06-18  Michael,Schumacher\n",
       "8          French Grand Prix  2000-07-02     David,Coulthard\n",
       "9        Austrian Grand Prix  2000-07-16       Mika,Häkkinen\n",
       "10         German Grand Prix  2000-07-30  Rubens,Barrichello\n",
       "11      Hungarian Grand Prix  2000-08-13       Mika,Häkkinen\n",
       "12        Belgian Grand Prix  2000-08-27       Mika,Häkkinen\n",
       "13        Italian Grand Prix  2000-09-10  Michael,Schumacher\n",
       "14  United States Grand Prix  2000-09-24  Michael,Schumacher\n",
       "15       Japanese Grand Prix  2000-10-08  Michael,Schumacher\n",
       "16      Malaysian Grand Prix  2000-10-22  Michael,Schumacher"
      ],
      "text/html": [
       "<div>\n",
       "<style scoped>\n",
       "    .dataframe tbody tr th:only-of-type {\n",
       "        vertical-align: middle;\n",
       "    }\n",
       "\n",
       "    .dataframe tbody tr th {\n",
       "        vertical-align: top;\n",
       "    }\n",
       "\n",
       "    .dataframe thead th {\n",
       "        text-align: right;\n",
       "    }\n",
       "</style>\n",
       "<table border=\"1\" class=\"dataframe\">\n",
       "  <thead>\n",
       "    <tr style=\"text-align: right;\">\n",
       "      <th></th>\n",
       "      <th>name</th>\n",
       "      <th>date</th>\n",
       "      <th>first_place</th>\n",
       "    </tr>\n",
       "  </thead>\n",
       "  <tbody>\n",
       "    <tr>\n",
       "      <th>0</th>\n",
       "      <td>Australian Grand Prix</td>\n",
       "      <td>2000-03-12</td>\n",
       "      <td>Michael,Schumacher</td>\n",
       "    </tr>\n",
       "    <tr>\n",
       "      <th>1</th>\n",
       "      <td>Brazilian Grand Prix</td>\n",
       "      <td>2000-03-26</td>\n",
       "      <td>Michael,Schumacher</td>\n",
       "    </tr>\n",
       "    <tr>\n",
       "      <th>2</th>\n",
       "      <td>San Marino Grand Prix</td>\n",
       "      <td>2000-04-09</td>\n",
       "      <td>Michael,Schumacher</td>\n",
       "    </tr>\n",
       "    <tr>\n",
       "      <th>3</th>\n",
       "      <td>British Grand Prix</td>\n",
       "      <td>2000-04-23</td>\n",
       "      <td>David,Coulthard</td>\n",
       "    </tr>\n",
       "    <tr>\n",
       "      <th>4</th>\n",
       "      <td>Spanish Grand Prix</td>\n",
       "      <td>2000-05-07</td>\n",
       "      <td>Mika,Häkkinen</td>\n",
       "    </tr>\n",
       "    <tr>\n",
       "      <th>5</th>\n",
       "      <td>European Grand Prix</td>\n",
       "      <td>2000-05-21</td>\n",
       "      <td>Michael,Schumacher</td>\n",
       "    </tr>\n",
       "    <tr>\n",
       "      <th>6</th>\n",
       "      <td>Monaco Grand Prix</td>\n",
       "      <td>2000-06-04</td>\n",
       "      <td>David,Coulthard</td>\n",
       "    </tr>\n",
       "    <tr>\n",
       "      <th>7</th>\n",
       "      <td>Canadian Grand Prix</td>\n",
       "      <td>2000-06-18</td>\n",
       "      <td>Michael,Schumacher</td>\n",
       "    </tr>\n",
       "    <tr>\n",
       "      <th>8</th>\n",
       "      <td>French Grand Prix</td>\n",
       "      <td>2000-07-02</td>\n",
       "      <td>David,Coulthard</td>\n",
       "    </tr>\n",
       "    <tr>\n",
       "      <th>9</th>\n",
       "      <td>Austrian Grand Prix</td>\n",
       "      <td>2000-07-16</td>\n",
       "      <td>Mika,Häkkinen</td>\n",
       "    </tr>\n",
       "    <tr>\n",
       "      <th>10</th>\n",
       "      <td>German Grand Prix</td>\n",
       "      <td>2000-07-30</td>\n",
       "      <td>Rubens,Barrichello</td>\n",
       "    </tr>\n",
       "    <tr>\n",
       "      <th>11</th>\n",
       "      <td>Hungarian Grand Prix</td>\n",
       "      <td>2000-08-13</td>\n",
       "      <td>Mika,Häkkinen</td>\n",
       "    </tr>\n",
       "    <tr>\n",
       "      <th>12</th>\n",
       "      <td>Belgian Grand Prix</td>\n",
       "      <td>2000-08-27</td>\n",
       "      <td>Mika,Häkkinen</td>\n",
       "    </tr>\n",
       "    <tr>\n",
       "      <th>13</th>\n",
       "      <td>Italian Grand Prix</td>\n",
       "      <td>2000-09-10</td>\n",
       "      <td>Michael,Schumacher</td>\n",
       "    </tr>\n",
       "    <tr>\n",
       "      <th>14</th>\n",
       "      <td>United States Grand Prix</td>\n",
       "      <td>2000-09-24</td>\n",
       "      <td>Michael,Schumacher</td>\n",
       "    </tr>\n",
       "    <tr>\n",
       "      <th>15</th>\n",
       "      <td>Japanese Grand Prix</td>\n",
       "      <td>2000-10-08</td>\n",
       "      <td>Michael,Schumacher</td>\n",
       "    </tr>\n",
       "    <tr>\n",
       "      <th>16</th>\n",
       "      <td>Malaysian Grand Prix</td>\n",
       "      <td>2000-10-22</td>\n",
       "      <td>Michael,Schumacher</td>\n",
       "    </tr>\n",
       "  </tbody>\n",
       "</table>\n",
       "</div>"
      ]
     },
     "execution_count": 19,
     "metadata": {},
     "output_type": "execute_result"
    }
   ],
   "execution_count": 19
  },
  {
   "cell_type": "markdown",
   "metadata": {},
   "source": [
    "\n",
    "<div>\n",
    "5. Erstelle eine Python-Funktion get_position(driverid, year), die ein DataFrame mit allen Rennen und\n",
    "den Platzierungen eines Fahrers des gegebenen Jahrs zurückgibt\n",
    "</div>"
   ]
  },
  {
   "cell_type": "code",
   "metadata": {
    "ExecuteTime": {
     "end_time": "2025-01-07T14:17:44.877750Z",
     "start_time": "2025-01-07T14:17:44.872226Z"
    }
   },
   "source": [
    "def get_position(driverid, year):\n",
    "\tquery = f'''\n",
    "\tSELECT\n",
    "\t\tra.name,\n",
    "\t\tra.date,\n",
    "\t\tre.position,\n",
    "\t\td.forename || ',' || d.surname AS driver_name\n",
    "\tFROM races AS ra\n",
    "\tJOIN results AS re ON ra.raceId = re.raceId\n",
    "\tJOIN drivers AS d on d.driverId = re.driverId\n",
    "\tWHERE re.driverId = ?\n",
    "\t  AND strftime('%Y', ra.date) = ?\n",
    "\t'''\n",
    "\n",
    "\tconn = sqlite3.connect(data_path)\n",
    "\tdf3 = pd.read_sql_query(query, conn, params=(driverid, year))\n",
    "\treturn df3"
   ],
   "outputs": [],
   "execution_count": 74
  },
  {
   "cell_type": "code",
   "metadata": {
    "ExecuteTime": {
     "end_time": "2025-01-07T14:17:46.542053Z",
     "start_time": "2025-01-07T14:17:46.528758Z"
    }
   },
   "source": "get_position(1, \"2009\")",
   "outputs": [
    {
     "data": {
      "text/plain": [
       "                     name        date position     driver_name\n",
       "0   Australian Grand Prix  2009-03-29           Lewis,Hamilton\n",
       "1    Malaysian Grand Prix  2009-04-05        7  Lewis,Hamilton\n",
       "2      Chinese Grand Prix  2009-04-19        6  Lewis,Hamilton\n",
       "3      Bahrain Grand Prix  2009-04-26        4  Lewis,Hamilton\n",
       "4      Spanish Grand Prix  2009-05-10        9  Lewis,Hamilton\n",
       "5       Monaco Grand Prix  2009-05-24       12  Lewis,Hamilton\n",
       "6      Turkish Grand Prix  2009-06-07       13  Lewis,Hamilton\n",
       "7      British Grand Prix  2009-06-21       16  Lewis,Hamilton\n",
       "8       German Grand Prix  2009-07-12       18  Lewis,Hamilton\n",
       "9    Hungarian Grand Prix  2009-07-26        1  Lewis,Hamilton\n",
       "10    European Grand Prix  2009-08-23        2  Lewis,Hamilton\n",
       "11     Belgian Grand Prix  2009-08-30           Lewis,Hamilton\n",
       "12     Italian Grand Prix  2009-09-13       12  Lewis,Hamilton\n",
       "13   Singapore Grand Prix  2009-09-27        1  Lewis,Hamilton\n",
       "14    Japanese Grand Prix  2009-10-04        3  Lewis,Hamilton\n",
       "15   Brazilian Grand Prix  2009-10-18        3  Lewis,Hamilton\n",
       "16   Abu Dhabi Grand Prix  2009-11-01           Lewis,Hamilton"
      ],
      "text/html": [
       "<div>\n",
       "<style scoped>\n",
       "    .dataframe tbody tr th:only-of-type {\n",
       "        vertical-align: middle;\n",
       "    }\n",
       "\n",
       "    .dataframe tbody tr th {\n",
       "        vertical-align: top;\n",
       "    }\n",
       "\n",
       "    .dataframe thead th {\n",
       "        text-align: right;\n",
       "    }\n",
       "</style>\n",
       "<table border=\"1\" class=\"dataframe\">\n",
       "  <thead>\n",
       "    <tr style=\"text-align: right;\">\n",
       "      <th></th>\n",
       "      <th>name</th>\n",
       "      <th>date</th>\n",
       "      <th>position</th>\n",
       "      <th>driver_name</th>\n",
       "    </tr>\n",
       "  </thead>\n",
       "  <tbody>\n",
       "    <tr>\n",
       "      <th>0</th>\n",
       "      <td>Australian Grand Prix</td>\n",
       "      <td>2009-03-29</td>\n",
       "      <td></td>\n",
       "      <td>Lewis,Hamilton</td>\n",
       "    </tr>\n",
       "    <tr>\n",
       "      <th>1</th>\n",
       "      <td>Malaysian Grand Prix</td>\n",
       "      <td>2009-04-05</td>\n",
       "      <td>7</td>\n",
       "      <td>Lewis,Hamilton</td>\n",
       "    </tr>\n",
       "    <tr>\n",
       "      <th>2</th>\n",
       "      <td>Chinese Grand Prix</td>\n",
       "      <td>2009-04-19</td>\n",
       "      <td>6</td>\n",
       "      <td>Lewis,Hamilton</td>\n",
       "    </tr>\n",
       "    <tr>\n",
       "      <th>3</th>\n",
       "      <td>Bahrain Grand Prix</td>\n",
       "      <td>2009-04-26</td>\n",
       "      <td>4</td>\n",
       "      <td>Lewis,Hamilton</td>\n",
       "    </tr>\n",
       "    <tr>\n",
       "      <th>4</th>\n",
       "      <td>Spanish Grand Prix</td>\n",
       "      <td>2009-05-10</td>\n",
       "      <td>9</td>\n",
       "      <td>Lewis,Hamilton</td>\n",
       "    </tr>\n",
       "    <tr>\n",
       "      <th>5</th>\n",
       "      <td>Monaco Grand Prix</td>\n",
       "      <td>2009-05-24</td>\n",
       "      <td>12</td>\n",
       "      <td>Lewis,Hamilton</td>\n",
       "    </tr>\n",
       "    <tr>\n",
       "      <th>6</th>\n",
       "      <td>Turkish Grand Prix</td>\n",
       "      <td>2009-06-07</td>\n",
       "      <td>13</td>\n",
       "      <td>Lewis,Hamilton</td>\n",
       "    </tr>\n",
       "    <tr>\n",
       "      <th>7</th>\n",
       "      <td>British Grand Prix</td>\n",
       "      <td>2009-06-21</td>\n",
       "      <td>16</td>\n",
       "      <td>Lewis,Hamilton</td>\n",
       "    </tr>\n",
       "    <tr>\n",
       "      <th>8</th>\n",
       "      <td>German Grand Prix</td>\n",
       "      <td>2009-07-12</td>\n",
       "      <td>18</td>\n",
       "      <td>Lewis,Hamilton</td>\n",
       "    </tr>\n",
       "    <tr>\n",
       "      <th>9</th>\n",
       "      <td>Hungarian Grand Prix</td>\n",
       "      <td>2009-07-26</td>\n",
       "      <td>1</td>\n",
       "      <td>Lewis,Hamilton</td>\n",
       "    </tr>\n",
       "    <tr>\n",
       "      <th>10</th>\n",
       "      <td>European Grand Prix</td>\n",
       "      <td>2009-08-23</td>\n",
       "      <td>2</td>\n",
       "      <td>Lewis,Hamilton</td>\n",
       "    </tr>\n",
       "    <tr>\n",
       "      <th>11</th>\n",
       "      <td>Belgian Grand Prix</td>\n",
       "      <td>2009-08-30</td>\n",
       "      <td></td>\n",
       "      <td>Lewis,Hamilton</td>\n",
       "    </tr>\n",
       "    <tr>\n",
       "      <th>12</th>\n",
       "      <td>Italian Grand Prix</td>\n",
       "      <td>2009-09-13</td>\n",
       "      <td>12</td>\n",
       "      <td>Lewis,Hamilton</td>\n",
       "    </tr>\n",
       "    <tr>\n",
       "      <th>13</th>\n",
       "      <td>Singapore Grand Prix</td>\n",
       "      <td>2009-09-27</td>\n",
       "      <td>1</td>\n",
       "      <td>Lewis,Hamilton</td>\n",
       "    </tr>\n",
       "    <tr>\n",
       "      <th>14</th>\n",
       "      <td>Japanese Grand Prix</td>\n",
       "      <td>2009-10-04</td>\n",
       "      <td>3</td>\n",
       "      <td>Lewis,Hamilton</td>\n",
       "    </tr>\n",
       "    <tr>\n",
       "      <th>15</th>\n",
       "      <td>Brazilian Grand Prix</td>\n",
       "      <td>2009-10-18</td>\n",
       "      <td>3</td>\n",
       "      <td>Lewis,Hamilton</td>\n",
       "    </tr>\n",
       "    <tr>\n",
       "      <th>16</th>\n",
       "      <td>Abu Dhabi Grand Prix</td>\n",
       "      <td>2009-11-01</td>\n",
       "      <td></td>\n",
       "      <td>Lewis,Hamilton</td>\n",
       "    </tr>\n",
       "  </tbody>\n",
       "</table>\n",
       "</div>"
      ]
     },
     "execution_count": 75,
     "metadata": {},
     "output_type": "execute_result"
    }
   ],
   "execution_count": 75
  },
  {
   "cell_type": "markdown",
   "metadata": {},
   "source": [
    "## Aufgabe 2"
   ]
  },
  {
   "cell_type": "markdown",
   "metadata": {},
   "source": [
    "<div>\n",
    "1. Erstelle eine Datenbank mit dem Namen DataCraft\n",
    "</div>"
   ]
  },
  {
   "cell_type": "code",
   "metadata": {
    "ExecuteTime": {
     "end_time": "2025-01-07T15:07:12.015782Z",
     "start_time": "2025-01-07T15:07:12.011196Z"
    }
   },
   "source": [
    "datacraft_db = sqlite3.connect(\n",
    "\tr\"C:\\Users\\Admin\\OneDrive\\Dokumente\\DataCraft\\DataAnalyst_Aug.24\\08_Datenbanken_und_SQL\\databases\\DataCraft.db\")"
   ],
   "outputs": [],
   "execution_count": 105
  },
  {
   "cell_type": "markdown",
   "metadata": {},
   "source": [
    "<div>\n",
    "2. Erstelle in dieser Datenbank eine Tabelle Studenten mit den Spalten Vorname, Nachname und Alter\n",
    "</div>"
   ]
  },
  {
   "cell_type": "code",
   "metadata": {
    "ExecuteTime": {
     "end_time": "2025-01-07T15:07:13.673043Z",
     "start_time": "2025-01-07T15:07:13.667631Z"
    }
   },
   "source": "cursor = datacraft_db.cursor()",
   "outputs": [],
   "execution_count": 106
  },
  {
   "cell_type": "code",
   "metadata": {
    "ExecuteTime": {
     "end_time": "2025-01-07T15:07:16.839429Z",
     "start_time": "2025-01-07T15:07:16.832241Z"
    }
   },
   "source": [
    "create_table_studenten = \"\"\"\n",
    "\t\tCREATE TABLE IF NOT EXISTS studenten(\n",
    "\t\t\"Vorname\" VARCHAR,\n",
    "        \"Nachname\" VARCHAR,\n",
    "        \"Alter\" INT);\"\"\"\n",
    "\n",
    "cursor.execute(create_table_studenten)"
   ],
   "outputs": [
    {
     "data": {
      "text/plain": [
       "<sqlite3.Cursor at 0x2a40fe11240>"
      ]
     },
     "execution_count": 107,
     "metadata": {},
     "output_type": "execute_result"
    }
   ],
   "execution_count": 107
  },
  {
   "cell_type": "markdown",
   "metadata": {},
   "source": [
    "<div>\n",
    "3. Schreibe eine Funktion, mit der du Studenten in deine neue Liste eintragen kannst.\n",
    "</div>"
   ]
  },
  {
   "cell_type": "code",
   "metadata": {
    "ExecuteTime": {
     "end_time": "2025-01-07T15:07:18.721909Z",
     "start_time": "2025-01-07T15:07:18.717701Z"
    }
   },
   "source": [
    "def add_studenten(vorname, nachname, alter):\n",
    "\tinsert_query = \"\"\"\n",
    "\t\tINSERT INTO studenten (\"Vorname\", \"Nachname\", \"Alter\")\n",
    "\t\tVALUES (?, ?, ?);\n",
    "\t\"\"\"\n",
    "\tcursor.execute(insert_query, (vorname, nachname, alter))\n",
    "\tdatacraft_db.commit()"
   ],
   "outputs": [],
   "execution_count": 108
  },
  {
   "metadata": {
    "ExecuteTime": {
     "end_time": "2025-01-07T15:07:20.161842Z",
     "start_time": "2025-01-07T15:07:20.149807Z"
    }
   },
   "cell_type": "code",
   "source": "add_studenten(\"Mitch\", \"Maddison\", 39)",
   "outputs": [],
   "execution_count": 109
  },
  {
   "metadata": {
    "ExecuteTime": {
     "end_time": "2025-01-07T15:11:34.253730Z",
     "start_time": "2025-01-07T15:11:34.240191Z"
    }
   },
   "cell_type": "code",
   "source": [
    "cursor.close()\n",
    "conn.close()\n",
    "datacraft_db.close()"
   ],
   "outputs": [
    {
     "ename": "AttributeError",
     "evalue": "'str' object has no attribute 'close'",
     "output_type": "error",
     "traceback": [
      "\u001B[1;31m---------------------------------------------------------------------------\u001B[0m",
      "\u001B[1;31mAttributeError\u001B[0m                            Traceback (most recent call last)",
      "Cell \u001B[1;32mIn[113], line 4\u001B[0m\n\u001B[0;32m      2\u001B[0m conn\u001B[38;5;241m.\u001B[39mclose()\n\u001B[0;32m      3\u001B[0m datacraft_db\u001B[38;5;241m.\u001B[39mclose()\n\u001B[1;32m----> 4\u001B[0m \u001B[43mdata_path\u001B[49m\u001B[38;5;241;43m.\u001B[39;49m\u001B[43mclose\u001B[49m()\n",
      "\u001B[1;31mAttributeError\u001B[0m: 'str' object has no attribute 'close'"
     ]
    }
   ],
   "execution_count": 113
  }
 ],
 "metadata": {
  "language_info": {
   "name": "python"
  },
  "kernelspec": {
   "name": "python3",
   "language": "python",
   "display_name": "Python 3 (ipykernel)"
  }
 },
 "nbformat": 4,
 "nbformat_minor": 2
}
