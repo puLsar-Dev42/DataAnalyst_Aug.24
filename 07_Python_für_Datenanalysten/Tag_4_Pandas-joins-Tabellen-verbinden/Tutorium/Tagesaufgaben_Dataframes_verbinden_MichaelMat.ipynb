{
 "cells": [
  {
   "cell_type": "markdown",
   "metadata": {
    "collapsed": false
   },
   "source": [
    "<br><br><center><h1 style=\"font-size:2em;color:#2467C0\">Tagesaufgaben: Pandas DataFrames verbinden</h1></center>\n",
    "<br>"
   ]
  },
  {
   "cell_type": "code",
   "metadata": {
    "ExecuteTime": {
     "end_time": "2024-11-14T12:33:53.882656Z",
     "start_time": "2024-11-14T12:33:53.491640Z"
    }
   },
   "source": [
    "# Deine Imports:\n",
    "import pandas as pd"
   ],
   "outputs": [],
   "execution_count": 1
  },
  {
   "cell_type": "markdown",
   "metadata": {
    "collapsed": false
   },
   "source": [
    "1. Du hast zwei Dataframes mit Personendaten. Füge diese mittels concat zusammen und lasse dir den Inhalt ausgeben.\n",
    "\n",
    "```\n",
    "\n",
    "    Output:\n",
    "    Alter    Stadt  Gewicht  Größe\n",
    "    Name\n",
    "    Anna      25   Berlin       60    170\n",
    "    Ben       30  München       75    180\n",
    "    Carla     22  Hamburg       55    165\n",
    "    David     27     Köln       80    185\n",
    "\n",
    "```"
   ]
  },
  {
   "cell_type": "code",
   "metadata": {
    "collapsed": false,
    "ExecuteTime": {
     "end_time": "2024-11-14T12:36:09.016930Z",
     "start_time": "2024-11-14T12:36:09.011288Z"
    }
   },
   "source": [
    "df1 = pd.DataFrame({'Alter': [25, 30, 22, 27],\n",
    "                    'Stadt': ['Berlin', 'München', 'Hamburg', 'Köln']},\n",
    "                    index=['Anna', 'Ben', 'Carla', 'David'])\n",
    "\n",
    "df2 = pd.DataFrame({'Gewicht': [60, 75, 55, 80],\n",
    "                    'Größe': [170, 180, 165, 185]},\n",
    "                   index=['Anna', 'Ben', 'Carla', 'David'])"
   ],
   "outputs": [],
   "execution_count": 3
  },
  {
   "cell_type": "code",
   "metadata": {
    "ExecuteTime": {
     "end_time": "2024-11-14T12:36:19.720500Z",
     "start_time": "2024-11-14T12:36:19.698118Z"
    }
   },
   "source": [
    "main_df = pd.concat([df1, df2], axis=1, join='outer')\n",
    "main_df"
   ],
   "outputs": [
    {
     "data": {
      "text/plain": [
       "       Alter    Stadt  Gewicht  Größe\n",
       "Anna      25   Berlin       60    170\n",
       "Ben       30  München       75    180\n",
       "Carla     22  Hamburg       55    165\n",
       "David     27     Köln       80    185"
      ],
      "text/html": [
       "<div>\n",
       "<style scoped>\n",
       "    .dataframe tbody tr th:only-of-type {\n",
       "        vertical-align: middle;\n",
       "    }\n",
       "\n",
       "    .dataframe tbody tr th {\n",
       "        vertical-align: top;\n",
       "    }\n",
       "\n",
       "    .dataframe thead th {\n",
       "        text-align: right;\n",
       "    }\n",
       "</style>\n",
       "<table border=\"1\" class=\"dataframe\">\n",
       "  <thead>\n",
       "    <tr style=\"text-align: right;\">\n",
       "      <th></th>\n",
       "      <th>Alter</th>\n",
       "      <th>Stadt</th>\n",
       "      <th>Gewicht</th>\n",
       "      <th>Größe</th>\n",
       "    </tr>\n",
       "  </thead>\n",
       "  <tbody>\n",
       "    <tr>\n",
       "      <th>Anna</th>\n",
       "      <td>25</td>\n",
       "      <td>Berlin</td>\n",
       "      <td>60</td>\n",
       "      <td>170</td>\n",
       "    </tr>\n",
       "    <tr>\n",
       "      <th>Ben</th>\n",
       "      <td>30</td>\n",
       "      <td>München</td>\n",
       "      <td>75</td>\n",
       "      <td>180</td>\n",
       "    </tr>\n",
       "    <tr>\n",
       "      <th>Carla</th>\n",
       "      <td>22</td>\n",
       "      <td>Hamburg</td>\n",
       "      <td>55</td>\n",
       "      <td>165</td>\n",
       "    </tr>\n",
       "    <tr>\n",
       "      <th>David</th>\n",
       "      <td>27</td>\n",
       "      <td>Köln</td>\n",
       "      <td>80</td>\n",
       "      <td>185</td>\n",
       "    </tr>\n",
       "  </tbody>\n",
       "</table>\n",
       "</div>"
      ]
     },
     "execution_count": 5,
     "metadata": {},
     "output_type": "execute_result"
    }
   ],
   "execution_count": 5
  },
  {
   "cell_type": "markdown",
   "metadata": {
    "collapsed": false
   },
   "source": [
    "2. Da ist noch ein drittes Dataframe dazugekommen, blöderweise stehen dort die Namen nicht im Index... Kannst du das ändern und mit concat auch das dritte Dataframe anhängen?"
   ]
  },
  {
   "cell_type": "code",
   "metadata": {
    "ExecuteTime": {
     "end_time": "2024-11-14T12:40:20.378047Z",
     "start_time": "2024-11-14T12:40:20.373295Z"
    }
   },
   "source": [
    "df3 = pd.DataFrame({\"Name\":['Anna', 'Ben', 'Carla', 'David'],\n",
    "                    'Geschlecht': [\"w\", \"m\", \"w\", \"m\"],\n",
    "                    'Augenfarbe': [\"braun\", \"braun\", \"blau\", \"grün\"]\n",
    "})"
   ],
   "outputs": [],
   "execution_count": 10
  },
  {
   "cell_type": "code",
   "metadata": {
    "ExecuteTime": {
     "end_time": "2024-11-14T12:40:22.019605Z",
     "start_time": "2024-11-14T12:40:22.007976Z"
    }
   },
   "source": [
    "df3.set_index(\"Name\", inplace=True)\n",
    "main_df = pd.concat([main_df, df3], axis=1, join='outer')\n",
    "main_df"
   ],
   "outputs": [
    {
     "data": {
      "text/plain": [
       "       Alter    Stadt  Gewicht  Größe Geschlecht Augenfarbe\n",
       "Anna      25   Berlin       60    170          w      braun\n",
       "Ben       30  München       75    180          m      braun\n",
       "Carla     22  Hamburg       55    165          w       blau\n",
       "David     27     Köln       80    185          m       grün"
      ],
      "text/html": [
       "<div>\n",
       "<style scoped>\n",
       "    .dataframe tbody tr th:only-of-type {\n",
       "        vertical-align: middle;\n",
       "    }\n",
       "\n",
       "    .dataframe tbody tr th {\n",
       "        vertical-align: top;\n",
       "    }\n",
       "\n",
       "    .dataframe thead th {\n",
       "        text-align: right;\n",
       "    }\n",
       "</style>\n",
       "<table border=\"1\" class=\"dataframe\">\n",
       "  <thead>\n",
       "    <tr style=\"text-align: right;\">\n",
       "      <th></th>\n",
       "      <th>Alter</th>\n",
       "      <th>Stadt</th>\n",
       "      <th>Gewicht</th>\n",
       "      <th>Größe</th>\n",
       "      <th>Geschlecht</th>\n",
       "      <th>Augenfarbe</th>\n",
       "    </tr>\n",
       "  </thead>\n",
       "  <tbody>\n",
       "    <tr>\n",
       "      <th>Anna</th>\n",
       "      <td>25</td>\n",
       "      <td>Berlin</td>\n",
       "      <td>60</td>\n",
       "      <td>170</td>\n",
       "      <td>w</td>\n",
       "      <td>braun</td>\n",
       "    </tr>\n",
       "    <tr>\n",
       "      <th>Ben</th>\n",
       "      <td>30</td>\n",
       "      <td>München</td>\n",
       "      <td>75</td>\n",
       "      <td>180</td>\n",
       "      <td>m</td>\n",
       "      <td>braun</td>\n",
       "    </tr>\n",
       "    <tr>\n",
       "      <th>Carla</th>\n",
       "      <td>22</td>\n",
       "      <td>Hamburg</td>\n",
       "      <td>55</td>\n",
       "      <td>165</td>\n",
       "      <td>w</td>\n",
       "      <td>blau</td>\n",
       "    </tr>\n",
       "    <tr>\n",
       "      <th>David</th>\n",
       "      <td>27</td>\n",
       "      <td>Köln</td>\n",
       "      <td>80</td>\n",
       "      <td>185</td>\n",
       "      <td>m</td>\n",
       "      <td>grün</td>\n",
       "    </tr>\n",
       "  </tbody>\n",
       "</table>\n",
       "</div>"
      ]
     },
     "execution_count": 11,
     "metadata": {},
     "output_type": "execute_result"
    }
   ],
   "execution_count": 11
  },
  {
   "cell_type": "markdown",
   "metadata": {
    "collapsed": false
   },
   "source": [
    "3. Dir liegen zwei Dataframes mit Autodaten vor. Sie bilden eine fortlaufende Liste, weshalb du das erste unten an das zweite anhängen willst. Löse ebenfalls mit concat und so, dass ein fortlaufender numerischer Index für alle Auto-Einträge entsteht."
   ]
  },
  {
   "cell_type": "code",
   "metadata": {
    "ExecuteTime": {
     "end_time": "2024-11-14T12:45:01.607620Z",
     "start_time": "2024-11-14T12:45:01.600295Z"
    }
   },
   "source": [
    "# DataFrame 1\n",
    "cars1 = pd.DataFrame({\n",
    "    'Marke': ['Audi', 'BMW', 'Mercedes-Benz', 'Audi', 'BMW', 'Mercedes-Benz', 'Audi', 'BMW', 'Mercedes-Benz'],\n",
    "    'Modell': ['A3', 'X7', 'GLC', 'A5', 'M2', 'E-Klasse', 'A1', 'M4', 'CLS'],\n",
    "    'Baujahr': [2015, 2017, 2018, 2016, 2015, 2019, 2014, 2017, 2019],\n",
    "    'Preis': [20000, 22000, 25000, 28000, 23000, 35000, 18000, 20000, 27000],\n",
    "    'Kilometerstand': [20000, 35000, 28000, 40000, 25000, 18000, 22000, 29000, 21000]\n",
    "})\n",
    "\n",
    "# DataFrame 2\n",
    "cars2 = pd.DataFrame({\n",
    "    'Marke': ['Volkswagen', 'Toyota', 'Mercedes-Benz', 'Audi', 'Volkswagen', 'Toyota', 'Mercedes-Benz', 'Audi', 'Volkswagen'],\n",
    "    'Modell': ['Golf', 'Corolla', 'GLE', 'Q5', 'Tiguan', 'Camry', 'GLA', 'A3', 'Passat'],\n",
    "    'Baujahr': [2016, 2018, 2019, 2017, 2015, 2017, 2020, 2018, 2016],\n",
    "    'Preis': [18000, 19000, 28000, 31000, 15000, 17000, 40000, 22000, 19000],\n",
    "    'Kilometerstand': [32000, 26000, 18000, 22000, 42000, 32000, 13000, 25000, 18000]\n",
    "})"
   ],
   "outputs": [],
   "execution_count": 27
  },
  {
   "cell_type": "code",
   "metadata": {
    "ExecuteTime": {
     "end_time": "2024-11-14T12:45:54.463999Z",
     "start_time": "2024-11-14T12:45:54.455817Z"
    }
   },
   "source": [
    "cars_df = pd.concat([cars1, cars2], axis=0, ignore_index=True)\n",
    "cars_df"
   ],
   "outputs": [
    {
     "data": {
      "text/plain": [
       "            Marke    Modell  Baujahr  Preis  Kilometerstand\n",
       "0            Audi        A3     2015  20000           20000\n",
       "1             BMW        X7     2017  22000           35000\n",
       "2   Mercedes-Benz       GLC     2018  25000           28000\n",
       "3            Audi        A5     2016  28000           40000\n",
       "4             BMW        M2     2015  23000           25000\n",
       "5   Mercedes-Benz  E-Klasse     2019  35000           18000\n",
       "6            Audi        A1     2014  18000           22000\n",
       "7             BMW        M4     2017  20000           29000\n",
       "8   Mercedes-Benz       CLS     2019  27000           21000\n",
       "9      Volkswagen      Golf     2016  18000           32000\n",
       "10         Toyota   Corolla     2018  19000           26000\n",
       "11  Mercedes-Benz       GLE     2019  28000           18000\n",
       "12           Audi        Q5     2017  31000           22000\n",
       "13     Volkswagen    Tiguan     2015  15000           42000\n",
       "14         Toyota     Camry     2017  17000           32000\n",
       "15  Mercedes-Benz       GLA     2020  40000           13000\n",
       "16           Audi        A3     2018  22000           25000\n",
       "17     Volkswagen    Passat     2016  19000           18000"
      ],
      "text/html": [
       "<div>\n",
       "<style scoped>\n",
       "    .dataframe tbody tr th:only-of-type {\n",
       "        vertical-align: middle;\n",
       "    }\n",
       "\n",
       "    .dataframe tbody tr th {\n",
       "        vertical-align: top;\n",
       "    }\n",
       "\n",
       "    .dataframe thead th {\n",
       "        text-align: right;\n",
       "    }\n",
       "</style>\n",
       "<table border=\"1\" class=\"dataframe\">\n",
       "  <thead>\n",
       "    <tr style=\"text-align: right;\">\n",
       "      <th></th>\n",
       "      <th>Marke</th>\n",
       "      <th>Modell</th>\n",
       "      <th>Baujahr</th>\n",
       "      <th>Preis</th>\n",
       "      <th>Kilometerstand</th>\n",
       "    </tr>\n",
       "  </thead>\n",
       "  <tbody>\n",
       "    <tr>\n",
       "      <th>0</th>\n",
       "      <td>Audi</td>\n",
       "      <td>A3</td>\n",
       "      <td>2015</td>\n",
       "      <td>20000</td>\n",
       "      <td>20000</td>\n",
       "    </tr>\n",
       "    <tr>\n",
       "      <th>1</th>\n",
       "      <td>BMW</td>\n",
       "      <td>X7</td>\n",
       "      <td>2017</td>\n",
       "      <td>22000</td>\n",
       "      <td>35000</td>\n",
       "    </tr>\n",
       "    <tr>\n",
       "      <th>2</th>\n",
       "      <td>Mercedes-Benz</td>\n",
       "      <td>GLC</td>\n",
       "      <td>2018</td>\n",
       "      <td>25000</td>\n",
       "      <td>28000</td>\n",
       "    </tr>\n",
       "    <tr>\n",
       "      <th>3</th>\n",
       "      <td>Audi</td>\n",
       "      <td>A5</td>\n",
       "      <td>2016</td>\n",
       "      <td>28000</td>\n",
       "      <td>40000</td>\n",
       "    </tr>\n",
       "    <tr>\n",
       "      <th>4</th>\n",
       "      <td>BMW</td>\n",
       "      <td>M2</td>\n",
       "      <td>2015</td>\n",
       "      <td>23000</td>\n",
       "      <td>25000</td>\n",
       "    </tr>\n",
       "    <tr>\n",
       "      <th>5</th>\n",
       "      <td>Mercedes-Benz</td>\n",
       "      <td>E-Klasse</td>\n",
       "      <td>2019</td>\n",
       "      <td>35000</td>\n",
       "      <td>18000</td>\n",
       "    </tr>\n",
       "    <tr>\n",
       "      <th>6</th>\n",
       "      <td>Audi</td>\n",
       "      <td>A1</td>\n",
       "      <td>2014</td>\n",
       "      <td>18000</td>\n",
       "      <td>22000</td>\n",
       "    </tr>\n",
       "    <tr>\n",
       "      <th>7</th>\n",
       "      <td>BMW</td>\n",
       "      <td>M4</td>\n",
       "      <td>2017</td>\n",
       "      <td>20000</td>\n",
       "      <td>29000</td>\n",
       "    </tr>\n",
       "    <tr>\n",
       "      <th>8</th>\n",
       "      <td>Mercedes-Benz</td>\n",
       "      <td>CLS</td>\n",
       "      <td>2019</td>\n",
       "      <td>27000</td>\n",
       "      <td>21000</td>\n",
       "    </tr>\n",
       "    <tr>\n",
       "      <th>9</th>\n",
       "      <td>Volkswagen</td>\n",
       "      <td>Golf</td>\n",
       "      <td>2016</td>\n",
       "      <td>18000</td>\n",
       "      <td>32000</td>\n",
       "    </tr>\n",
       "    <tr>\n",
       "      <th>10</th>\n",
       "      <td>Toyota</td>\n",
       "      <td>Corolla</td>\n",
       "      <td>2018</td>\n",
       "      <td>19000</td>\n",
       "      <td>26000</td>\n",
       "    </tr>\n",
       "    <tr>\n",
       "      <th>11</th>\n",
       "      <td>Mercedes-Benz</td>\n",
       "      <td>GLE</td>\n",
       "      <td>2019</td>\n",
       "      <td>28000</td>\n",
       "      <td>18000</td>\n",
       "    </tr>\n",
       "    <tr>\n",
       "      <th>12</th>\n",
       "      <td>Audi</td>\n",
       "      <td>Q5</td>\n",
       "      <td>2017</td>\n",
       "      <td>31000</td>\n",
       "      <td>22000</td>\n",
       "    </tr>\n",
       "    <tr>\n",
       "      <th>13</th>\n",
       "      <td>Volkswagen</td>\n",
       "      <td>Tiguan</td>\n",
       "      <td>2015</td>\n",
       "      <td>15000</td>\n",
       "      <td>42000</td>\n",
       "    </tr>\n",
       "    <tr>\n",
       "      <th>14</th>\n",
       "      <td>Toyota</td>\n",
       "      <td>Camry</td>\n",
       "      <td>2017</td>\n",
       "      <td>17000</td>\n",
       "      <td>32000</td>\n",
       "    </tr>\n",
       "    <tr>\n",
       "      <th>15</th>\n",
       "      <td>Mercedes-Benz</td>\n",
       "      <td>GLA</td>\n",
       "      <td>2020</td>\n",
       "      <td>40000</td>\n",
       "      <td>13000</td>\n",
       "    </tr>\n",
       "    <tr>\n",
       "      <th>16</th>\n",
       "      <td>Audi</td>\n",
       "      <td>A3</td>\n",
       "      <td>2018</td>\n",
       "      <td>22000</td>\n",
       "      <td>25000</td>\n",
       "    </tr>\n",
       "    <tr>\n",
       "      <th>17</th>\n",
       "      <td>Volkswagen</td>\n",
       "      <td>Passat</td>\n",
       "      <td>2016</td>\n",
       "      <td>19000</td>\n",
       "      <td>18000</td>\n",
       "    </tr>\n",
       "  </tbody>\n",
       "</table>\n",
       "</div>"
      ]
     },
     "execution_count": 29,
     "metadata": {},
     "output_type": "execute_result"
    }
   ],
   "execution_count": 29
  },
  {
   "cell_type": "markdown",
   "metadata": {
    "collapsed": false
   },
   "source": [
    "<div  class=\"alert alert-block alert-info\">\n",
    "4. Du hast einen kleinen Auszug aus einer Videothek in Form von zwei \n",
    "Dataframes. Diese sollen zusammengefügt werden und dieses Mal mithilfe von merge.\n",
    "<br> Erhebe danach noch die Spalte ID zum Index und lass dir das Ergebnis anzeigen.\n",
    "\n",
    "    Output:\n",
    "\n",
    "                   Titel         Regisseur  Bewertung  Anzahl Bewertungen\n",
    "       ID\n",
    "       1  Jurassic Park  Steven Spielberg        8.3                1000\n",
    "       2  Indiana Jones  Steven Spielberg        7.6                2000\n",
    "       3       Die Hard    John McTiernan        8.2                1500\n",
    "       4   Forrest Gump   Robert Zemeckis        8.8                3000\n",
    "\n",
    "</div>"
   ]
  },
  {
   "cell_type": "code",
   "metadata": {
    "ExecuteTime": {
     "end_time": "2024-11-14T13:06:11.543566Z",
     "start_time": "2024-11-14T13:06:11.538054Z"
    }
   },
   "source": [
    "df1 = pd.DataFrame({\n",
    "    'ID': [1, 2, 3, 4],\n",
    "    'Titel': ['Jurassic Park', 'Indiana Jones', 'Die Hard', 'Forrest Gump'],\n",
    "    'Regisseur': ['Steven Spielberg', 'Steven Spielberg', 'John McTiernan', 'Robert Zemeckis']\n",
    "})\n",
    "\n",
    "df2 = pd.DataFrame({\n",
    "    'ID': [1, 2, 3, 4],\n",
    "    'Bewertung': [8.3, 7.6, 8.2, 8.8],\n",
    "    'Anzahl Bewertungen': [1000, 2000, 1500, 3000]\n",
    "})\n"
   ],
   "outputs": [],
   "execution_count": 45
  },
  {
   "cell_type": "code",
   "metadata": {
    "ExecuteTime": {
     "end_time": "2024-11-14T13:06:12.821574Z",
     "start_time": "2024-11-14T13:06:12.811024Z"
    }
   },
   "source": [
    "vid_df = pd.merge(df1, df2, on='ID')\n",
    "vid_df.set_index('ID', inplace=True)\n",
    "vid_df"
   ],
   "outputs": [
    {
     "data": {
      "text/plain": [
       "            Titel         Regisseur  Bewertung  Anzahl Bewertungen\n",
       "ID                                                                \n",
       "1   Jurassic Park  Steven Spielberg        8.3                1000\n",
       "2   Indiana Jones  Steven Spielberg        7.6                2000\n",
       "3        Die Hard    John McTiernan        8.2                1500\n",
       "4    Forrest Gump   Robert Zemeckis        8.8                3000"
      ],
      "text/html": [
       "<div>\n",
       "<style scoped>\n",
       "    .dataframe tbody tr th:only-of-type {\n",
       "        vertical-align: middle;\n",
       "    }\n",
       "\n",
       "    .dataframe tbody tr th {\n",
       "        vertical-align: top;\n",
       "    }\n",
       "\n",
       "    .dataframe thead th {\n",
       "        text-align: right;\n",
       "    }\n",
       "</style>\n",
       "<table border=\"1\" class=\"dataframe\">\n",
       "  <thead>\n",
       "    <tr style=\"text-align: right;\">\n",
       "      <th></th>\n",
       "      <th>Titel</th>\n",
       "      <th>Regisseur</th>\n",
       "      <th>Bewertung</th>\n",
       "      <th>Anzahl Bewertungen</th>\n",
       "    </tr>\n",
       "    <tr>\n",
       "      <th>ID</th>\n",
       "      <th></th>\n",
       "      <th></th>\n",
       "      <th></th>\n",
       "      <th></th>\n",
       "    </tr>\n",
       "  </thead>\n",
       "  <tbody>\n",
       "    <tr>\n",
       "      <th>1</th>\n",
       "      <td>Jurassic Park</td>\n",
       "      <td>Steven Spielberg</td>\n",
       "      <td>8.3</td>\n",
       "      <td>1000</td>\n",
       "    </tr>\n",
       "    <tr>\n",
       "      <th>2</th>\n",
       "      <td>Indiana Jones</td>\n",
       "      <td>Steven Spielberg</td>\n",
       "      <td>7.6</td>\n",
       "      <td>2000</td>\n",
       "    </tr>\n",
       "    <tr>\n",
       "      <th>3</th>\n",
       "      <td>Die Hard</td>\n",
       "      <td>John McTiernan</td>\n",
       "      <td>8.2</td>\n",
       "      <td>1500</td>\n",
       "    </tr>\n",
       "    <tr>\n",
       "      <th>4</th>\n",
       "      <td>Forrest Gump</td>\n",
       "      <td>Robert Zemeckis</td>\n",
       "      <td>8.8</td>\n",
       "      <td>3000</td>\n",
       "    </tr>\n",
       "  </tbody>\n",
       "</table>\n",
       "</div>"
      ]
     },
     "execution_count": 46,
     "metadata": {},
     "output_type": "execute_result"
    }
   ],
   "execution_count": 46
  },
  {
   "cell_type": "markdown",
   "metadata": {
    "collapsed": false
   },
   "source": [
    "5. Du hast Daten zu Personen vorliegen und sollst diese für deinen Chef \n",
    "zusammenführen. Da dein Chef sich nur für Zahlen interessiert, willst du ihm nur Daten zu Personen vorlegen, die auch bestellt haben. Löse mit merge."
   ]
  },
  {
   "cell_type": "code",
   "metadata": {
    "ExecuteTime": {
     "end_time": "2024-11-14T13:24:26.475367Z",
     "start_time": "2024-11-14T13:24:26.469348Z"
    }
   },
   "source": [
    "df1 = pd.DataFrame({\n",
    "    'Name': ['Max Mustermann', 'Petra Müller', 'Hans Schmidt', 'Lisa Meyer'],\n",
    "    'Adresse': ['Hauptstraße 1', 'Bahnhofstraße 2', 'Mühlenweg 3', 'Bergstraße 4']\n",
    "})\n",
    "\n",
    "df2 = pd.DataFrame({\n",
    "    'Name': ['Max Mustermann', 'Petra Müller', 'Hans Schmidt'],\n",
    "    'Bestellnummer': [1234, 5678, 9101],\n",
    "    'Betrag': [19.99, 29.99, 49.99]\n",
    "})"
   ],
   "outputs": [],
   "execution_count": 53
  },
  {
   "cell_type": "code",
   "metadata": {
    "ExecuteTime": {
     "end_time": "2024-11-14T13:16:08.958579Z",
     "start_time": "2024-11-14T13:16:08.949666Z"
    }
   },
   "source": [
    "orders_df = pd.merge(df1, df2, on='Name')\n",
    "orders_df"
   ],
   "outputs": [
    {
     "data": {
      "text/plain": [
       "             Name          Adresse  Bestellnummer  Betrag\n",
       "0  Max Mustermann    Hauptstraße 1           1234   19.99\n",
       "1    Petra Müller  Bahnhofstraße 2           5678   29.99\n",
       "2    Hans Schmidt      Mühlenweg 3           9101   49.99"
      ],
      "text/html": [
       "<div>\n",
       "<style scoped>\n",
       "    .dataframe tbody tr th:only-of-type {\n",
       "        vertical-align: middle;\n",
       "    }\n",
       "\n",
       "    .dataframe tbody tr th {\n",
       "        vertical-align: top;\n",
       "    }\n",
       "\n",
       "    .dataframe thead th {\n",
       "        text-align: right;\n",
       "    }\n",
       "</style>\n",
       "<table border=\"1\" class=\"dataframe\">\n",
       "  <thead>\n",
       "    <tr style=\"text-align: right;\">\n",
       "      <th></th>\n",
       "      <th>Name</th>\n",
       "      <th>Adresse</th>\n",
       "      <th>Bestellnummer</th>\n",
       "      <th>Betrag</th>\n",
       "    </tr>\n",
       "  </thead>\n",
       "  <tbody>\n",
       "    <tr>\n",
       "      <th>0</th>\n",
       "      <td>Max Mustermann</td>\n",
       "      <td>Hauptstraße 1</td>\n",
       "      <td>1234</td>\n",
       "      <td>19.99</td>\n",
       "    </tr>\n",
       "    <tr>\n",
       "      <th>1</th>\n",
       "      <td>Petra Müller</td>\n",
       "      <td>Bahnhofstraße 2</td>\n",
       "      <td>5678</td>\n",
       "      <td>29.99</td>\n",
       "    </tr>\n",
       "    <tr>\n",
       "      <th>2</th>\n",
       "      <td>Hans Schmidt</td>\n",
       "      <td>Mühlenweg 3</td>\n",
       "      <td>9101</td>\n",
       "      <td>49.99</td>\n",
       "    </tr>\n",
       "  </tbody>\n",
       "</table>\n",
       "</div>"
      ]
     },
     "execution_count": 52,
     "metadata": {},
     "output_type": "execute_result"
    }
   ],
   "execution_count": 52
  },
  {
   "cell_type": "markdown",
   "metadata": {
    "collapsed": false
   },
   "source": [
    "<div  class=\"alert alert-block alert-info\">\n",
    "6. Ups. Du hast deinem Chef die Liste vorgelegt und er fragt dich: Wo sind \n",
    "die Leute, die sich für den Newsletter registriert haben, aber dann nichts bestellt haben? Das wäre ja mal was Neues, wenn alle was bestellt hätten! Du gehst zurück ans Mergen, um ihm dann eine Liste mit allen Leuten vorzulegen...\n",
    "\n",
    "    Output:\n",
    "                 Name          Adresse  Bestellnummer  Betrag\n",
    "    0  Max Mustermann    Hauptstraße 1         1234.0   19.99\n",
    "    1    Petra Müller  Bahnhofstraße 2         5678.0   29.99\n",
    "    2    Hans Schmidt      Mühlenweg 3         9101.0   49.99\n",
    "    3      Lisa Meyer     Bergstraße 4            NaN     NaN\n",
    "\n",
    "</div>\n"
   ]
  },
  {
   "cell_type": "code",
   "metadata": {
    "ExecuteTime": {
     "end_time": "2024-11-14T13:24:29.852719Z",
     "start_time": "2024-11-14T13:24:29.843380Z"
    }
   },
   "source": [
    "orders_df2 = pd.merge(df1, df2, on='Name', how='left')\n",
    "orders_df2"
   ],
   "outputs": [
    {
     "data": {
      "text/plain": [
       "             Name          Adresse  Bestellnummer  Betrag\n",
       "0  Max Mustermann    Hauptstraße 1         1234.0   19.99\n",
       "1    Petra Müller  Bahnhofstraße 2         5678.0   29.99\n",
       "2    Hans Schmidt      Mühlenweg 3         9101.0   49.99\n",
       "3      Lisa Meyer     Bergstraße 4            NaN     NaN"
      ],
      "text/html": [
       "<div>\n",
       "<style scoped>\n",
       "    .dataframe tbody tr th:only-of-type {\n",
       "        vertical-align: middle;\n",
       "    }\n",
       "\n",
       "    .dataframe tbody tr th {\n",
       "        vertical-align: top;\n",
       "    }\n",
       "\n",
       "    .dataframe thead th {\n",
       "        text-align: right;\n",
       "    }\n",
       "</style>\n",
       "<table border=\"1\" class=\"dataframe\">\n",
       "  <thead>\n",
       "    <tr style=\"text-align: right;\">\n",
       "      <th></th>\n",
       "      <th>Name</th>\n",
       "      <th>Adresse</th>\n",
       "      <th>Bestellnummer</th>\n",
       "      <th>Betrag</th>\n",
       "    </tr>\n",
       "  </thead>\n",
       "  <tbody>\n",
       "    <tr>\n",
       "      <th>0</th>\n",
       "      <td>Max Mustermann</td>\n",
       "      <td>Hauptstraße 1</td>\n",
       "      <td>1234.0</td>\n",
       "      <td>19.99</td>\n",
       "    </tr>\n",
       "    <tr>\n",
       "      <th>1</th>\n",
       "      <td>Petra Müller</td>\n",
       "      <td>Bahnhofstraße 2</td>\n",
       "      <td>5678.0</td>\n",
       "      <td>29.99</td>\n",
       "    </tr>\n",
       "    <tr>\n",
       "      <th>2</th>\n",
       "      <td>Hans Schmidt</td>\n",
       "      <td>Mühlenweg 3</td>\n",
       "      <td>9101.0</td>\n",
       "      <td>49.99</td>\n",
       "    </tr>\n",
       "    <tr>\n",
       "      <th>3</th>\n",
       "      <td>Lisa Meyer</td>\n",
       "      <td>Bergstraße 4</td>\n",
       "      <td>NaN</td>\n",
       "      <td>NaN</td>\n",
       "    </tr>\n",
       "  </tbody>\n",
       "</table>\n",
       "</div>"
      ]
     },
     "execution_count": 54,
     "metadata": {},
     "output_type": "execute_result"
    }
   ],
   "execution_count": 54
  },
  {
   "cell_type": "markdown",
   "metadata": {
    "collapsed": false
   },
   "source": [
    "<div  class=\"alert alert-block alert-info\">\n",
    "7. Du hast eine Liste mit Produkten (Index entspricht ihren IDs) und eine \n",
    "Liste mit Bestellungen. Du möchtest deine Bestellliste um Details zu den Produkten erweitern. Wie löst du das mit join?\n",
    "\n",
    "    Output:\n",
    "       order_id  quantity      product_name  price     brand\n",
    "    1      1001         2        Messer-Set     50       WMF\n",
    "    3      1002         1  Schneidebrett XL     20       WMF\n",
    "    2      1003         4       Pfanne 24cm     30     Tefal\n",
    "    4      1004         2    Besteck-Set 12     40  Zwilling\n",
    "\n",
    "</div>"
   ]
  },
  {
   "cell_type": "code",
   "metadata": {
    "ExecuteTime": {
     "end_time": "2024-11-14T13:39:22.766176Z",
     "start_time": "2024-11-14T13:39:22.759007Z"
    }
   },
   "source": [
    "orders = pd.DataFrame({\n",
    "    'order_id': [1001, 1002, 1003, 1004],\n",
    "    'quantity': [2, 1, 4, 2]},\n",
    "    index=[1, 3, 2, 4])\n",
    "\n",
    "products = pd.DataFrame({\n",
    "    'product_name': ['Messer-Set', 'Pfanne 24cm', 'Schneidebrett XL', \n",
    "                     'Besteck-Set 12', 'Küchenwaage', 'Bratenthermometer'],\n",
    "    'price': [50, 30, 20, 40, 15, 25],\n",
    "    'brand': ['WMF', 'Tefal', 'WMF', 'Zwilling', 'Soehnle', 'WMF']},\n",
    "    index=[1, 2, 3, 4, 5, 6])"
   ],
   "outputs": [],
   "execution_count": 67
  },
  {
   "cell_type": "code",
   "metadata": {
    "ExecuteTime": {
     "end_time": "2024-11-14T13:40:13.748378Z",
     "start_time": "2024-11-14T13:40:13.737001Z"
    }
   },
   "source": [
    "order_prod_df = orders.join(products, how='left')\n",
    "order_prod_df"
   ],
   "outputs": [
    {
     "data": {
      "text/plain": [
       "   order_id  quantity      product_name  price     brand\n",
       "1      1001         2        Messer-Set     50       WMF\n",
       "3      1002         1  Schneidebrett XL     20       WMF\n",
       "2      1003         4       Pfanne 24cm     30     Tefal\n",
       "4      1004         2    Besteck-Set 12     40  Zwilling"
      ],
      "text/html": [
       "<div>\n",
       "<style scoped>\n",
       "    .dataframe tbody tr th:only-of-type {\n",
       "        vertical-align: middle;\n",
       "    }\n",
       "\n",
       "    .dataframe tbody tr th {\n",
       "        vertical-align: top;\n",
       "    }\n",
       "\n",
       "    .dataframe thead th {\n",
       "        text-align: right;\n",
       "    }\n",
       "</style>\n",
       "<table border=\"1\" class=\"dataframe\">\n",
       "  <thead>\n",
       "    <tr style=\"text-align: right;\">\n",
       "      <th></th>\n",
       "      <th>order_id</th>\n",
       "      <th>quantity</th>\n",
       "      <th>product_name</th>\n",
       "      <th>price</th>\n",
       "      <th>brand</th>\n",
       "    </tr>\n",
       "  </thead>\n",
       "  <tbody>\n",
       "    <tr>\n",
       "      <th>1</th>\n",
       "      <td>1001</td>\n",
       "      <td>2</td>\n",
       "      <td>Messer-Set</td>\n",
       "      <td>50</td>\n",
       "      <td>WMF</td>\n",
       "    </tr>\n",
       "    <tr>\n",
       "      <th>3</th>\n",
       "      <td>1002</td>\n",
       "      <td>1</td>\n",
       "      <td>Schneidebrett XL</td>\n",
       "      <td>20</td>\n",
       "      <td>WMF</td>\n",
       "    </tr>\n",
       "    <tr>\n",
       "      <th>2</th>\n",
       "      <td>1003</td>\n",
       "      <td>4</td>\n",
       "      <td>Pfanne 24cm</td>\n",
       "      <td>30</td>\n",
       "      <td>Tefal</td>\n",
       "    </tr>\n",
       "    <tr>\n",
       "      <th>4</th>\n",
       "      <td>1004</td>\n",
       "      <td>2</td>\n",
       "      <td>Besteck-Set 12</td>\n",
       "      <td>40</td>\n",
       "      <td>Zwilling</td>\n",
       "    </tr>\n",
       "  </tbody>\n",
       "</table>\n",
       "</div>"
      ]
     },
     "execution_count": 69,
     "metadata": {},
     "output_type": "execute_result"
    }
   ],
   "execution_count": 69
  },
  {
   "cell_type": "markdown",
   "metadata": {
    "collapsed": false
   },
   "source": [
    "<div  class=\"alert alert-block alert-info\">\n",
    "8. Du hast wieder mal zwei Dataframes, eins mit Personen, die den Newsletter\n",
    " deiner Firma abonniert haben, das andere mit Bestellungen. Die Indices entsprechen dabei den Personen-IDs. Du willst alle Leute haben, die sowohl den Newsletter abonniert haben, als auch etwas bestellt haben und gehst das mit einem join an.\n",
    "\n",
    "    Output:\n",
    "       Name             Email  Newsletter    Product  Price\n",
    "    1  John  john@example.com        True  Product A  10.99\n",
    "    3  Mary  mary@example.com        True  Product C   8.99\n",
    "    7   Bob   bob@example.com        True  Product E   9.99\n",
    "\n",
    "</div>"
   ]
  },
  {
   "cell_type": "code",
   "metadata": {
    "ExecuteTime": {
     "end_time": "2024-11-14T14:35:40.404052Z",
     "start_time": "2024-11-14T14:35:40.399476Z"
    }
   },
   "source": [
    "newsletter = pd.DataFrame({\n",
    "    'Name': ['John', 'Mary', 'Peter', 'Jane', 'Bob'],\n",
    "    'Email': ['john@example.com', 'mary@example.com', 'peter@example.com', 'jane@example.com', 'bob@example.com'],\n",
    "    'Newsletter': [True, True, True, False, True]},\n",
    "    index=[1, 3, 4, 5, 7])\n",
    "\n",
    "bestellungen = pd.DataFrame({\n",
    "    'Product': ['Product A', 'Product B', 'Product C', 'Product D', 'Product E'],\n",
    "    'Price': [10.99, 12.99, 8.99, 15.99, 9.99]},\n",
    "    index=[1, 2, 3, 6, 7])"
   ],
   "outputs": [],
   "execution_count": 110
  },
  {
   "cell_type": "code",
   "metadata": {
    "ExecuteTime": {
     "end_time": "2024-11-14T13:56:35.256350Z",
     "start_time": "2024-11-14T13:56:35.246271Z"
    }
   },
   "source": [
    "news_order_df = newsletter.join(bestellungen, how='inner')\n",
    "news_order_df = news_order_df[news_order_df['Newsletter'] == True]\n",
    "news_order_df"
   ],
   "outputs": [
    {
     "data": {
      "text/plain": [
       "   Name             Email  Newsletter    Product  Price\n",
       "1  John  john@example.com        True  Product A  10.99\n",
       "3  Mary  mary@example.com        True  Product C   8.99\n",
       "7   Bob   bob@example.com        True  Product E   9.99"
      ],
      "text/html": [
       "<div>\n",
       "<style scoped>\n",
       "    .dataframe tbody tr th:only-of-type {\n",
       "        vertical-align: middle;\n",
       "    }\n",
       "\n",
       "    .dataframe tbody tr th {\n",
       "        vertical-align: top;\n",
       "    }\n",
       "\n",
       "    .dataframe thead th {\n",
       "        text-align: right;\n",
       "    }\n",
       "</style>\n",
       "<table border=\"1\" class=\"dataframe\">\n",
       "  <thead>\n",
       "    <tr style=\"text-align: right;\">\n",
       "      <th></th>\n",
       "      <th>Name</th>\n",
       "      <th>Email</th>\n",
       "      <th>Newsletter</th>\n",
       "      <th>Product</th>\n",
       "      <th>Price</th>\n",
       "    </tr>\n",
       "  </thead>\n",
       "  <tbody>\n",
       "    <tr>\n",
       "      <th>1</th>\n",
       "      <td>John</td>\n",
       "      <td>john@example.com</td>\n",
       "      <td>True</td>\n",
       "      <td>Product A</td>\n",
       "      <td>10.99</td>\n",
       "    </tr>\n",
       "    <tr>\n",
       "      <th>3</th>\n",
       "      <td>Mary</td>\n",
       "      <td>mary@example.com</td>\n",
       "      <td>True</td>\n",
       "      <td>Product C</td>\n",
       "      <td>8.99</td>\n",
       "    </tr>\n",
       "    <tr>\n",
       "      <th>7</th>\n",
       "      <td>Bob</td>\n",
       "      <td>bob@example.com</td>\n",
       "      <td>True</td>\n",
       "      <td>Product E</td>\n",
       "      <td>9.99</td>\n",
       "    </tr>\n",
       "  </tbody>\n",
       "</table>\n",
       "</div>"
      ]
     },
     "execution_count": 86,
     "metadata": {},
     "output_type": "execute_result"
    }
   ],
   "execution_count": 86
  },
  {
   "cell_type": "markdown",
   "metadata": {
    "collapsed": false
   },
   "source": [
    "<div  class=\"alert alert-block alert-info\">\n",
    "9. Aber leider sieht dein Chef das nicht so: Ich will alle sehen, brummt er \n",
    "unzufrieden. Ob Bestellung oder Newsletter, ist egal. Ich will einen Gesamtüberblick. Mich stören auch keine Leerstellen. Nun gut, du gehst zurück an deinen Arbeitsplatz, um das hier zu erhalten (mit join, bitte):\n",
    "\n",
    "    Output:\n",
    "        Name              Email Newsletter    Product  Price\n",
    "    1   John   john@example.com       True  Product A  10.99\n",
    "    2    NaN                NaN        NaN  Product B  12.99\n",
    "    3   Mary   mary@example.com       True  Product C   8.99\n",
    "    4  Peter  peter@example.com       True        NaN    NaN\n",
    "    5   Jane   jane@example.com      False        NaN    NaN\n",
    "    6    NaN                NaN        NaN  Product D  15.99\n",
    "    7    Bob    bob@example.com       True  Product E   9.99\n",
    "\n",
    "</div>"
   ]
  },
  {
   "cell_type": "code",
   "metadata": {
    "ExecuteTime": {
     "end_time": "2024-11-14T14:01:02.912503Z",
     "start_time": "2024-11-14T14:01:02.901722Z"
    }
   },
   "source": [
    "total_df = newsletter.join(bestellungen, how='outer')\n",
    "total_df"
   ],
   "outputs": [
    {
     "data": {
      "text/plain": [
       "    Name              Email Newsletter    Product  Price\n",
       "1   John   john@example.com       True  Product A  10.99\n",
       "2    NaN                NaN        NaN  Product B  12.99\n",
       "3   Mary   mary@example.com       True  Product C   8.99\n",
       "4  Peter  peter@example.com       True        NaN    NaN\n",
       "5   Jane   jane@example.com      False        NaN    NaN\n",
       "6    NaN                NaN        NaN  Product D  15.99\n",
       "7    Bob    bob@example.com       True  Product E   9.99"
      ],
      "text/html": [
       "<div>\n",
       "<style scoped>\n",
       "    .dataframe tbody tr th:only-of-type {\n",
       "        vertical-align: middle;\n",
       "    }\n",
       "\n",
       "    .dataframe tbody tr th {\n",
       "        vertical-align: top;\n",
       "    }\n",
       "\n",
       "    .dataframe thead th {\n",
       "        text-align: right;\n",
       "    }\n",
       "</style>\n",
       "<table border=\"1\" class=\"dataframe\">\n",
       "  <thead>\n",
       "    <tr style=\"text-align: right;\">\n",
       "      <th></th>\n",
       "      <th>Name</th>\n",
       "      <th>Email</th>\n",
       "      <th>Newsletter</th>\n",
       "      <th>Product</th>\n",
       "      <th>Price</th>\n",
       "    </tr>\n",
       "  </thead>\n",
       "  <tbody>\n",
       "    <tr>\n",
       "      <th>1</th>\n",
       "      <td>John</td>\n",
       "      <td>john@example.com</td>\n",
       "      <td>True</td>\n",
       "      <td>Product A</td>\n",
       "      <td>10.99</td>\n",
       "    </tr>\n",
       "    <tr>\n",
       "      <th>2</th>\n",
       "      <td>NaN</td>\n",
       "      <td>NaN</td>\n",
       "      <td>NaN</td>\n",
       "      <td>Product B</td>\n",
       "      <td>12.99</td>\n",
       "    </tr>\n",
       "    <tr>\n",
       "      <th>3</th>\n",
       "      <td>Mary</td>\n",
       "      <td>mary@example.com</td>\n",
       "      <td>True</td>\n",
       "      <td>Product C</td>\n",
       "      <td>8.99</td>\n",
       "    </tr>\n",
       "    <tr>\n",
       "      <th>4</th>\n",
       "      <td>Peter</td>\n",
       "      <td>peter@example.com</td>\n",
       "      <td>True</td>\n",
       "      <td>NaN</td>\n",
       "      <td>NaN</td>\n",
       "    </tr>\n",
       "    <tr>\n",
       "      <th>5</th>\n",
       "      <td>Jane</td>\n",
       "      <td>jane@example.com</td>\n",
       "      <td>False</td>\n",
       "      <td>NaN</td>\n",
       "      <td>NaN</td>\n",
       "    </tr>\n",
       "    <tr>\n",
       "      <th>6</th>\n",
       "      <td>NaN</td>\n",
       "      <td>NaN</td>\n",
       "      <td>NaN</td>\n",
       "      <td>Product D</td>\n",
       "      <td>15.99</td>\n",
       "    </tr>\n",
       "    <tr>\n",
       "      <th>7</th>\n",
       "      <td>Bob</td>\n",
       "      <td>bob@example.com</td>\n",
       "      <td>True</td>\n",
       "      <td>Product E</td>\n",
       "      <td>9.99</td>\n",
       "    </tr>\n",
       "  </tbody>\n",
       "</table>\n",
       "</div>"
      ]
     },
     "execution_count": 87,
     "metadata": {},
     "output_type": "execute_result"
    }
   ],
   "execution_count": 87
  },
  {
   "cell_type": "markdown",
   "metadata": {
    "collapsed": false
   },
   "source": [
    "<div  class=\"alert alert-block alert-info\">\n",
    "10. Die Stimmungsschwankungen deines Chefs sind manchmal uneträglich. Was \n",
    "ist denn das für ein Quatsch, fragt er? Was interessieren mich die Leute, die nur den Newsletter abonniert haben? Leg mir mal alle vor, die was bestellt haben. Aber natürlich interessiert mich auch, wer davon einen Newsletter bestellt hat und wer nicht. Und dings – weil ich so sadistisch bin: Ich will, dass du in beide Richtungen joinst. Ich will bisschen was für mein Geld sehen. Du bist zwar etwas verstört, wozu du zweimal dasselbe machen sollst, aber der Blick auf die Uhr verrät: Bald ist Feierabend. Also begibst du dich in den letzten Kampf.\n",
    "\n",
    "    Output:\n",
    "       Product  Price  Name             Email Newsletter\n",
    "    1  Product A  10.99  John  john@example.com       True\n",
    "    2  Product B  12.99   NaN               NaN        NaN\n",
    "    3  Product C   8.99  Mary  mary@example.com       True\n",
    "    6  Product D  15.99   NaN               NaN        NaN\n",
    "    7  Product E   9.99   Bob   bob@example.com       True\n",
    "\n"
   ]
  },
  {
   "cell_type": "code",
   "metadata": {
    "ExecuteTime": {
     "end_time": "2024-11-14T14:59:56.517877Z",
     "start_time": "2024-11-14T14:59:56.511853Z"
    }
   },
   "source": [
    "order_news_df2 = bestellungen.join(newsletter, how='left')\n",
    "news_order_df = newsletter.join(bestellungen, how='right')"
   ],
   "outputs": [],
   "execution_count": 141
  },
  {
   "cell_type": "code",
   "metadata": {
    "ExecuteTime": {
     "end_time": "2024-11-14T14:59:57.707159Z",
     "start_time": "2024-11-14T14:59:57.699434Z"
    }
   },
   "source": "order_news_df2",
   "outputs": [
    {
     "data": {
      "text/plain": [
       "     Product  Price  Name             Email Newsletter\n",
       "1  Product A  10.99  John  john@example.com       True\n",
       "2  Product B  12.99   NaN               NaN        NaN\n",
       "3  Product C   8.99  Mary  mary@example.com       True\n",
       "6  Product D  15.99   NaN               NaN        NaN\n",
       "7  Product E   9.99   Bob   bob@example.com       True"
      ],
      "text/html": [
       "<div>\n",
       "<style scoped>\n",
       "    .dataframe tbody tr th:only-of-type {\n",
       "        vertical-align: middle;\n",
       "    }\n",
       "\n",
       "    .dataframe tbody tr th {\n",
       "        vertical-align: top;\n",
       "    }\n",
       "\n",
       "    .dataframe thead th {\n",
       "        text-align: right;\n",
       "    }\n",
       "</style>\n",
       "<table border=\"1\" class=\"dataframe\">\n",
       "  <thead>\n",
       "    <tr style=\"text-align: right;\">\n",
       "      <th></th>\n",
       "      <th>Product</th>\n",
       "      <th>Price</th>\n",
       "      <th>Name</th>\n",
       "      <th>Email</th>\n",
       "      <th>Newsletter</th>\n",
       "    </tr>\n",
       "  </thead>\n",
       "  <tbody>\n",
       "    <tr>\n",
       "      <th>1</th>\n",
       "      <td>Product A</td>\n",
       "      <td>10.99</td>\n",
       "      <td>John</td>\n",
       "      <td>john@example.com</td>\n",
       "      <td>True</td>\n",
       "    </tr>\n",
       "    <tr>\n",
       "      <th>2</th>\n",
       "      <td>Product B</td>\n",
       "      <td>12.99</td>\n",
       "      <td>NaN</td>\n",
       "      <td>NaN</td>\n",
       "      <td>NaN</td>\n",
       "    </tr>\n",
       "    <tr>\n",
       "      <th>3</th>\n",
       "      <td>Product C</td>\n",
       "      <td>8.99</td>\n",
       "      <td>Mary</td>\n",
       "      <td>mary@example.com</td>\n",
       "      <td>True</td>\n",
       "    </tr>\n",
       "    <tr>\n",
       "      <th>6</th>\n",
       "      <td>Product D</td>\n",
       "      <td>15.99</td>\n",
       "      <td>NaN</td>\n",
       "      <td>NaN</td>\n",
       "      <td>NaN</td>\n",
       "    </tr>\n",
       "    <tr>\n",
       "      <th>7</th>\n",
       "      <td>Product E</td>\n",
       "      <td>9.99</td>\n",
       "      <td>Bob</td>\n",
       "      <td>bob@example.com</td>\n",
       "      <td>True</td>\n",
       "    </tr>\n",
       "  </tbody>\n",
       "</table>\n",
       "</div>"
      ]
     },
     "execution_count": 142,
     "metadata": {},
     "output_type": "execute_result"
    }
   ],
   "execution_count": 142
  }
 ],
 "metadata": {
  "kernelspec": {
   "display_name": "Python 3",
   "language": "python",
   "name": "python3"
  },
  "language_info": {
   "codemirror_mode": {
    "name": "ipython",
    "version": 3
   },
   "file_extension": ".py",
   "mimetype": "text/x-python",
   "name": "python",
   "nbconvert_exporter": "python",
   "pygments_lexer": "ipython3",
   "version": "3.10.12"
  }
 },
 "nbformat": 4,
 "nbformat_minor": 0
}
