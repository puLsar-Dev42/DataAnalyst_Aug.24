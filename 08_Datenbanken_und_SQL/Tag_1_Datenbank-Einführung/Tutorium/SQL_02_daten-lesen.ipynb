{
 "cells": [
  {
   "cell_type": "code",
   "id": "initial_id",
   "metadata": {
    "collapsed": true,
    "ExecuteTime": {
     "end_time": "2024-12-03T10:31:30.181499Z",
     "start_time": "2024-12-03T10:31:30.173899Z"
    }
   },
   "source": [
    "import sqlite3\n",
    "\n",
    "# mit Db verbinden\n",
    "my_connector = sqlite3.connect(\"my_db\")\n",
    "\n",
    "# Cursor erzeugen\n",
    "cursor = my_connector.cursor()\n",
    "\n",
    "# SQL-Abfrage (querry)\n",
    "sql = \"SELECT * FROM personen\"\n",
    "print(\"sql:\", sql)\n",
    "cursor.execute(sql)\n",
    "\n",
    "# Ergebnis\n",
    "for dsatz in cursor:\n",
    "    print(\"Big Maier:\", dsatz)\n",
    "    print(\"Datenpunkte_:\", dsatz[0], dsatz[1], dsatz[2], dsatz[3])\n",
    "# Verbinden mit DB beenden\n",
    "my_connector.close()"
   ],
   "outputs": [
    {
     "name": "stdout",
     "output_type": "stream",
     "text": [
      "sql: SELECT * FROM personen\n",
      "Big Maier: ('Rickert', 'Rainer', 3, 1.6)\n",
      "Datenpunkte_: Rickert Rainer 3 1.6\n",
      "Big Maier: ('Müller', 'Jochen', 5, 1.85)\n",
      "Datenpunkte_: Müller Jochen 5 1.85\n",
      "Big Maier: ('Maier', 'Achim', 7, 1.7)\n",
      "Datenpunkte_: Maier Achim 7 1.7\n"
     ]
    }
   ],
   "execution_count": 1
  }
 ],
 "metadata": {
  "kernelspec": {
   "display_name": "Python 3",
   "language": "python",
   "name": "python3"
  },
  "language_info": {
   "codemirror_mode": {
    "name": "ipython",
    "version": 2
   },
   "file_extension": ".py",
   "mimetype": "text/x-python",
   "name": "python",
   "nbconvert_exporter": "python",
   "pygments_lexer": "ipython2",
   "version": "2.7.6"
  }
 },
 "nbformat": 4,
 "nbformat_minor": 5
}
